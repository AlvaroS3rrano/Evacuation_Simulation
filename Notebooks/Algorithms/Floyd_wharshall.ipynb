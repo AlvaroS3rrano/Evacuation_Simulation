{
 "cells": [
  {
   "cell_type": "markdown",
   "source": [
    "# Floyd Wharshall"
   ],
   "metadata": {
    "collapsed": false
   }
  },
  {
   "cell_type": "code",
   "execution_count": 3,
   "outputs": [],
   "source": [
    "def floyd_warshall_path(graph):\n",
    "    n = len(graph)\n",
    "\n",
    "    # Inicializamos las matrices de distancias y predecesores\n",
    "    dist = [[float('inf')] * n for _ in range(n)]\n",
    "    next_node = [[-1] * n for _ in range(n)]\n",
    "\n",
    "    # Configuramos las matrices iniciales\n",
    "    for i in range(n):\n",
    "        for j in range(n):\n",
    "            if i == j:\n",
    "                dist[i][j] = 0\n",
    "            elif graph[i][j] != 0:\n",
    "                dist[i][j] = graph[i][j]\n",
    "                next_node[i][j] = j  # Nodo siguiente en el camino más corto\n",
    "\n",
    "    # Aplicamos el algoritmo de Floyd-Warshall\n",
    "    for k in range(n):\n",
    "        for i in range(n):\n",
    "            for j in range(n):\n",
    "                if dist[i][k] + dist[k][j] < dist[i][j]:\n",
    "                    dist[i][j] = dist[i][k] + dist[k][j]\n",
    "                    next_node[i][j] = next_node[i][k]\n",
    "\n",
    "    return dist, next_node\n",
    "\n",
    "# Función para reconstruir el camino\n",
    "def get_path(next_node, start, end):\n",
    "    if next_node[start][end] == -1:\n",
    "        return None  # No hay camino\n",
    "\n",
    "    path = [start]\n",
    "    while start != end:\n",
    "        start = next_node[start][end]\n",
    "        path.append(start)\n",
    "\n",
    "    return path"
   ],
   "metadata": {
    "collapsed": false
   }
  },
  {
   "cell_type": "code",
   "execution_count": 10,
   "outputs": [
    {
     "name": "stdout",
     "output_type": "stream",
     "text": [
      "Matriz de distancias:\n",
      "[0, 3, -1, 4]\n",
      "[3, 0, -4, 1]\n",
      "[7, 4, 0, 5]\n",
      "[2, -1, -5, 0]\n",
      "\n",
      "Camino más corto de 1 a 3: [1, 3]\n"
     ]
    }
   ],
   "source": [
    "# Grafo de ejemplo\n",
    "# Grafo corregido (0 significa no hay conexión directa)\n",
    "graph = [\n",
    "    [0, 3, 8, float('inf')],\n",
    "    [float('inf'), 0, float('inf'), 1],\n",
    "    [float('inf'), 4, 0, float('inf')],\n",
    "    [2, float('inf'), -5, 0]\n",
    "]\n",
    "\n",
    "# Ejecutamos el algoritmo\n",
    "dist, next_node = floyd_warshall_path(graph)\n",
    "\n",
    "# Encontramos el camino más corto entre dos nodos\n",
    "start, end = 1, 3\n",
    "path = get_path(next_node, start, end)\n",
    "\n",
    "# Mostramos resultados\n",
    "print(\"Matriz de distancias:\")\n",
    "for row in dist:\n",
    "    print(row)\n",
    "\n",
    "print(f\"\\nCamino más corto de {start} a {end}: {path}\")"
   ],
   "metadata": {
    "collapsed": false
   }
  },
  {
   "cell_type": "code",
   "execution_count": null,
   "outputs": [],
   "source": [],
   "metadata": {
    "collapsed": false
   }
  }
 ],
 "metadata": {
  "kernelspec": {
   "display_name": "Python 3",
   "language": "python",
   "name": "python3"
  },
  "language_info": {
   "codemirror_mode": {
    "name": "ipython",
    "version": 2
   },
   "file_extension": ".py",
   "mimetype": "text/x-python",
   "name": "python",
   "nbconvert_exporter": "python",
   "pygments_lexer": "ipython2",
   "version": "2.7.6"
  }
 },
 "nbformat": 4,
 "nbformat_minor": 0
}
