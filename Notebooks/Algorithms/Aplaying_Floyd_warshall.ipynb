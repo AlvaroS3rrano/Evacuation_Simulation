{
 "cells": [
  {
   "cell_type": "markdown",
   "source": [
    "# Aplaying Floyd Warshall"
   ],
   "metadata": {
    "collapsed": false
   }
  },
  {
   "cell_type": "code",
   "execution_count": 1,
   "outputs": [],
   "source": [
    "import pathlib\n",
    "\n",
    "import jupedsim as jps\n",
    "import matplotlib.pyplot as plt\n",
    "import pedpy\n",
    "import shapely\n",
    "from matplotlib.patches import Circle\n",
    "from shapely import Polygon\n",
    "from jupedsim.internal.notebook_utils import animate, read_sqlite_file\n",
    "%matplotlib inline\n",
    "import plotly.graph_objects as go"
   ],
   "metadata": {
    "collapsed": false
   }
  },
  {
   "cell_type": "code",
   "execution_count": 2,
   "outputs": [
    {
     "data": {
      "text/plain": "Text(2.5, 5.0, 'Start')"
     },
     "execution_count": 2,
     "metadata": {},
     "output_type": "execute_result"
    },
    {
     "data": {
      "text/plain": "<Figure size 640x480 with 1 Axes>",
      "image/png": "[encoded data removed]"
     },
     "metadata": {},
     "output_type": "display_data"
    }
   ],
   "source": [
    "complete_area = Polygon(\n",
    "    [\n",
    "        (0, 0),\n",
    "        (0, 20),\n",
    "        (20, 20),\n",
    "        (20, 0),\n",
    "    ]\n",
    ")\n",
    "obstacles = [\n",
    "    Polygon(\n",
    "        [\n",
    "            (5, 0.0),\n",
    "            (5, 16),\n",
    "            (5.2, 16),\n",
    "            (5.2, 0.0),\n",
    "        ]\n",
    "    ),\n",
    "    Polygon([(15, 19), (15, 5), (7.2, 5), (7.2, 4.8), (15.2, 4.8), (15.2, 19)]),\n",
    "]\n",
    "\n",
    "exit_polygon = [(19, 19), (20, 19), (20, 20), (19, 20)]\n",
    "waypoints = [([3, 19], 3), ([7, 19], 2), ([7, 2.5], 2), ([17.5, 2.5], 2)]\n",
    "distribution_polygon = Polygon([[0, 0], [5, 0], [5, 10], [0, 10]])\n",
    "obstacle = shapely.union_all(obstacles)  # combines obstacle polygons into only one polygon\n",
    "walkable_area = pedpy.WalkableArea(\n",
    "    shapely.difference(complete_area, obstacle))  # difference subtracts obstacle form complete_area\n",
    "fig, ax = plt.subplots(nrows=1, ncols=1)\n",
    "ax.set_aspect(\"equal\")\n",
    "pedpy.plot_walkable_area(walkable_area=walkable_area, axes=ax)\n",
    "\n",
    "for idx, (waypoint, distance) in enumerate(waypoints):\n",
    "    ax.plot(waypoint[0], waypoint[1], \"ro\")\n",
    "    ax.annotate(\n",
    "        f\"WP {idx + 1}\",\n",
    "        (waypoint[0], waypoint[1]),\n",
    "        textcoords=\"offset points\",\n",
    "        xytext=(10, -15),\n",
    "        ha=\"center\",\n",
    "    )\n",
    "    circle = Circle(\n",
    "        (waypoint[0], waypoint[1]), distance, fc=\"red\", ec=\"red\", alpha=0.1\n",
    "    )\n",
    "    ax.add_patch(circle)\n",
    "\n",
    "x, y = Polygon(exit_polygon).exterior.xy\n",
    "plt.fill(x, y, alpha=0.1, color=\"orange\")\n",
    "centroid = Polygon(exit_polygon).centroid\n",
    "plt.text(centroid.x, centroid.y, \"Exit\", ha=\"center\", va=\"center\", fontsize=8)\n",
    "\n",
    "x, y = distribution_polygon.exterior.xy\n",
    "plt.fill(x, y, alpha=0.1, color=\"blue\")\n",
    "centroid = distribution_polygon.centroid\n",
    "plt.text(centroid.x, centroid.y, \"Start\", ha=\"center\", va=\"center\", fontsize=10)"
   ],
   "metadata": {
    "collapsed": false
   }
  },
  {
   "cell_type": "markdown",
   "source": [
    "## Configuration of Simulation Scenarios"
   ],
   "metadata": {
    "collapsed": false
   }
  },
  {
   "cell_type": "code",
   "execution_count": 3,
   "outputs": [],
   "source": [
    "simulations = {}\n",
    "percentages = [0, 20, 40, 50, 60, 70, 100]\n",
    "total_agents = 100\n",
    "for percentage in percentages:\n",
    "    trajectory_file = f\"../../sqlite_data/floyd_warshall_percentage_{percentage}.sqlite\"\n",
    "    simulation = jps.Simulation(\n",
    "        dt=0.05,\n",
    "        model=jps.CollisionFreeSpeedModel(\n",
    "            strength_neighbor_repulsion=2.6,\n",
    "            range_neighbor_repulsion=0.1,\n",
    "            range_geometry_repulsion=0.05,\n",
    "        ),\n",
    "        geometry=walkable_area.polygon,\n",
    "        trajectory_writer=jps.SqliteTrajectoryWriter(\n",
    "            output_file=pathlib.Path(trajectory_file),\n",
    "        ),\n",
    "    )\n",
    "    simulations[percentage] = simulation"
   ],
   "metadata": {
    "collapsed": false
   }
  },
  {
   "cell_type": "markdown",
   "source": [
    "## Choosing the path\n",
    "### Floyd Warshall"
   ],
   "metadata": {
    "collapsed": false
   }
  },
  {
   "cell_type": "code",
   "execution_count": 4,
   "outputs": [],
   "source": [
    "def floyd_warshall_path(graph):\n",
    "    n = len(graph)\n",
    "\n",
    "    # Inicializamos las matrices de distancias y predecesores\n",
    "    dist = [[float('inf')] * n for _ in range(n)]\n",
    "    next_node = [[-1] * n for _ in range(n)]\n",
    "\n",
    "    # Configuramos las matrices iniciales\n",
    "    for i in range(n):\n",
    "        for j in range(n):\n",
    "            if i == j:\n",
    "                dist[i][j] = 0\n",
    "            elif graph[i][j] != 0:\n",
    "                dist[i][j] = graph[i][j]\n",
    "                next_node[i][j] = j  # Nodo siguiente en el camino más corto\n",
    "\n",
    "    # Aplicamos el algoritmo de Floyd-Warshall\n",
    "    for k in range(n):\n",
    "        for i in range(n):\n",
    "            for j in range(n):\n",
    "                if dist[i][k] + dist[k][j] < dist[i][j]:\n",
    "                    dist[i][j] = dist[i][k] + dist[k][j]\n",
    "                    next_node[i][j] = next_node[i][k]\n",
    "\n",
    "    return dist, next_node\n",
    "\n",
    "# Función para reconstruir el camino\n",
    "def get_path(next_node, start, end):\n",
    "    if next_node[start][end] == -1:\n",
    "        return None  # No hay camino\n",
    "\n",
    "    path = [start]\n",
    "    while start != end:\n",
    "        start = next_node[start][end]\n",
    "        path.append(start)\n",
    "\n",
    "    return path"
   ],
   "metadata": {
    "collapsed": false
   }
  },
  {
   "cell_type": "code",
   "execution_count": 5,
   "outputs": [],
   "source": [
    "inf = float('inf')\n",
    "graph = [\n",
    "    [0, 2, inf, inf, inf, inf], # start -> 0\n",
    "    [inf, 0, 1, 6, inf, inf], # WP1 -> 1\n",
    "    [inf, inf, 0, 4, inf, 3], # WP2 -> 2\n",
    "    [inf, inf, inf, 0, 3, inf], # WP3 -> 3\n",
    "    [inf, inf, inf, inf, 0, 4], # WP4 -> 4\n",
    "    [inf, inf, inf, inf, inf, 0] # Exit -> 5\n",
    "]\n",
    "\n",
    "graph2 = [  # removing the connection from WP2 to Exit\n",
    "    [0, 2, inf, inf, inf, inf], # start -> 0\n",
    "    [inf, 0, 1, 6, inf, inf], # WP1 -> 1\n",
    "    [inf, inf, 0, 4, inf, inf], # WP2 -> 2\n",
    "    [inf, inf, inf, 0, 3, inf], # WP3 -> 3\n",
    "    [inf, inf, inf, inf, 0, 4], # WP4 -> 4\n",
    "    [inf, inf, inf, inf, inf, 0] # Exit -> 5\n",
    "]\n",
    "\n",
    "dist, next_node = floyd_warshall_path(graph)\n",
    "dist2, next_node2 = floyd_warshall_path(graph2)"
   ],
   "metadata": {
    "collapsed": false
   }
  },
  {
   "cell_type": "code",
   "execution_count": 6,
   "outputs": [
    {
     "name": "stdout",
     "output_type": "stream",
     "text": [
      "Matriz de distancias:\n",
      "[0, 2, 3, 7, 10, 14]\n",
      "[inf, 0, 1, 5, 8, 12]\n",
      "[inf, inf, 0, 4, 7, 11]\n",
      "[inf, inf, inf, 0, 3, 7]\n",
      "[inf, inf, inf, inf, 0, 4]\n",
      "[inf, inf, inf, inf, inf, 0]\n",
      "\n",
      "Camino más corto de 0 a 5: [0, 1, 2, 3, 4, 5]\n"
     ]
    }
   ],
   "source": [
    "# See How it works\n",
    "start, end = 0,5\n",
    "path = get_path(next_node2, start, end)\n",
    "\n",
    "# Mostramos resultados\n",
    "print(\"Matriz de distancias:\")\n",
    "for row in dist2:\n",
    "    print(row)\n",
    "\n",
    "print(f\"\\nCamino más corto de {start} a {end}: {path}\")"
   ],
   "metadata": {
    "collapsed": false
   }
  },
  {
   "cell_type": "markdown",
   "source": [
    "### Outlining Agent Journeys"
   ],
   "metadata": {
    "collapsed": false
   }
  },
  {
   "cell_type": "code",
   "execution_count": null,
   "outputs": [],
   "source": [
    "def differentGraphs(start, end, next_node, waypoint_ids, exit_id):\n",
    "    path = get_path(next_node, start, end)\n",
    "    needed_waypoint = [waypoint_ids[i-1] for i in path[1:-1]]\n",
    "    journey = jps.JourneyDescription([*needed_waypoint[:], exit_id])\n",
    "    for idx, waypoint in enumerate(needed_waypoint):\n",
    "        next_waypoint = (\n",
    "            exit_id if idx == len(needed_waypoint) - 1 else needed_waypoint[idx + 1]\n",
    "        )\n",
    "        journey.set_transition_for_stage(\n",
    "            waypoint, jps.Transition.create_fixed_transition(next_waypoint)\n",
    "        )\n",
    "    return journey"
   ],
   "metadata": {
    "collapsed": false
   }
  },
  {
   "cell_type": "code",
   "execution_count": null,
   "outputs": [],
   "source": [
    "def set_journeys(simulation, start, end):\n",
    "    exit_id = simulation.add_exit_stage(exit_polygon)\n",
    "    waypoint_ids = []\n",
    "    for waypoint, distance in waypoints:\n",
    "        waypoint_ids.append(simulation.add_waypoint_stage(waypoint, distance))\n",
    "\n",
    "    journey = differentGraphs(start, end, next_node, waypoint_ids, exit_id)\n",
    "    journey2 = differentGraphs(start, end, next_node2, waypoint_ids, exit_id)\n",
    "\n",
    "    journey_id = simulation.add_journey(journey)\n",
    "    journey2_id = simulation.add_journey(journey2)\n",
    "    return journey_id, journey2_id, waypoint_ids[0]"
   ],
   "metadata": {
    "collapsed": false
   }
  },
  {
   "cell_type": "markdown",
   "source": [
    "## Allocation of agents"
   ],
   "metadata": {
    "collapsed": false
   }
  },
  {
   "cell_type": "code",
   "execution_count": null,
   "outputs": [],
   "source": [
    "positions = jps.distribute_by_number(\n",
    "    polygon=distribution_polygon,\n",
    "    number_of_agents=total_agents,\n",
    "    distance_to_agents=0.4,\n",
    "    distance_to_polygon=0.7,\n",
    "    seed=45131502,\n",
    ")"
   ],
   "metadata": {
    "collapsed": false
   }
  },
  {
   "cell_type": "markdown",
   "source": [
    "## Launching the Simulation"
   ],
   "metadata": {
    "collapsed": false
   }
  },
  {
   "cell_type": "code",
   "execution_count": null,
   "outputs": [],
   "source": [
    "trajectory_files = {}\n",
    "for percentage, simulation in simulations.items():\n",
    "    journey_id, journey2_id, first_waypoint_id = set_journeys(\n",
    "        simulation, 0, 5  # 0 -> start, 5 -> exit\n",
    "    )\n",
    "\n",
    "    num_items = int(len(positions) * (percentage / 100.0))\n",
    "\n",
    "    for position in positions[num_items:]: # second half of positions\n",
    "        simulation.add_agent(\n",
    "            jps.CollisionFreeSpeedModelAgentParameters(\n",
    "                position=position,\n",
    "                journey_id=journey_id,\n",
    "                stage_id=first_waypoint_id,\n",
    "            )\n",
    "        )\n",
    "\n",
    "    for position in positions[:num_items]: # first half of positions\n",
    "        simulation.add_agent(\n",
    "            jps.CollisionFreeSpeedModelAgentParameters(\n",
    "                position=position,\n",
    "                journey_id=journey2_id,\n",
    "                stage_id=first_waypoint_id,\n",
    "            )\n",
    "        )\n",
    "\n",
    "    while simulation.agent_count() > 0 and simulation.iteration_count() < 3000:\n",
    "        simulation.iterate()\n",
    "\n",
    "    trajectory_file = f\"../../sqlite_data/floyd_warshall_percentage_{percentage}.sqlite\"\n",
    "    trajectory_files[percentage] = trajectory_file"
   ],
   "metadata": {
    "collapsed": false
   }
  },
  {
   "cell_type": "markdown",
   "source": [
    "## Visualizing Agent Pahtways"
   ],
   "metadata": {
    "collapsed": false
   }
  },
  {
   "cell_type": "code",
   "execution_count": null,
   "outputs": [],
   "source": [
    "agent_trajectories = {}\n",
    "for percentage in percentages:\n",
    "    trajectory_file = trajectory_files[percentage]\n",
    "    agent_trajectories[percentage], walkable_area = read_sqlite_file(\n",
    "        trajectory_file\n",
    "    )\n",
    "    animate(\n",
    "        agent_trajectories[percentage],\n",
    "        walkable_area,\n",
    "        title_note=f\"Percentage using the shortest path: {percentage}%\",\n",
    "    ).show()"
   ],
   "metadata": {
    "collapsed": false
   }
  },
  {
   "cell_type": "code",
   "execution_count": null,
   "outputs": [],
   "source": [],
   "metadata": {
    "collapsed": false
   }
  }
 ],
 "metadata": {
  "kernelspec": {
   "display_name": "Python 3",
   "language": "python",
   "name": "python3"
  },
  "language_info": {
   "codemirror_mode": {
    "name": "ipython",
    "version": 2
   },
   "file_extension": ".py",
   "mimetype": "text/x-python",
   "name": "python",
   "nbconvert_exporter": "python",
   "pygments_lexer": "ipython2",
   "version": "2.7.6"
  }
 },
 "nbformat": 4,
 "nbformat_minor": 0
}
