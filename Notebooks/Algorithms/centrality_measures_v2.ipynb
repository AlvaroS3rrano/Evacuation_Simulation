{
 "cells": [
  {
   "cell_type": "markdown",
   "source": [
    "# Centrality Measures"
   ],
   "metadata": {
    "collapsed": false
   }
  },
  {
   "cell_type": "code",
   "execution_count": 187,
   "outputs": [],
   "source": [
    "import pathlib\n",
    "\n",
    "import jupedsim as jps\n",
    "import matplotlib.pyplot as plt\n",
    "import pedpy\n",
    "import shapely\n",
    "import sqlite3\n",
    "from matplotlib.patches import Circle\n",
    "from shapely import Polygon\n",
    "import networkx as nx\n",
    "from jupedsim.internal.notebook_utils import animate, read_sqlite_file\n",
    "%matplotlib inline\n",
    "import plotly.graph_objects as go\n",
    "from Py.centralityMeasures import centralityMeasuresAlgorithm\n",
    "from Py.RiskSimulationValues import RiskSimulationValues\n",
    "\n",
    "from Py.DangerSimulation import *\n",
    "from Py.animation import animate\n",
    "\n",
    "try:\n",
    "    %reload_ext autoreload\n",
    "except:\n",
    "    %load_ext autoreload\n",
    "%autoreload 2"
   ],
   "metadata": {
    "collapsed": false
   }
  },
  {
   "cell_type": "code",
   "execution_count": 188,
   "outputs": [
    {
     "data": {
      "text/plain": "Text(2.5, 2.5, 'Start')"
     },
     "execution_count": 188,
     "metadata": {},
     "output_type": "execute_result"
    },
    {
     "data": {
      "text/plain": "<Figure size 640x480 with 1 Axes>",
      "image/png": "[encoded data removed]"
     },
     "metadata": {},
     "output_type": "display_data"
    }
   ],
   "source": [
    "complete_area = Polygon(\n",
    "    [\n",
    "        (0, 0),\n",
    "        (0, 15),\n",
    "        (15, 15),\n",
    "        (15, 0),\n",
    "    ]\n",
    ")\n",
    "obstacles = [\n",
    "    #bottom\n",
    "    Polygon([(4.9, 0.0), (4.9, 1.5), (5.1, 1.5),(5.1, 0.0)]),\n",
    "    Polygon([(9.9, 0.0), (9.9, 1.5), (10.1, 1.5),(10.1, 0.0)]),\n",
    "    #right\n",
    "    Polygon([(13.6, 4.9), (15, 4.9), (15, 5.1),(13.6, 5.1)]),\n",
    "    Polygon([(13.6, 9.9), (15, 9.9), (15, 10.1),(13.6, 10.1)]),\n",
    "    #top\n",
    "    Polygon([(4.9, 15), (4.9, 13.6), (5.1, 13.6),(5.1, 15)]),\n",
    "    Polygon([(9.9, 15), (9.9, 13.6), (10.1, 13.6),(10.1, 15)]),\n",
    "    #left\n",
    "    Polygon([(1.5, 4.9), (0, 4.9), (0, 5.1),(1.5, 5.1)]),\n",
    "    Polygon([(1.5, 9.9), (0, 9.9), (0, 10.1),(1.5, 10.1)]),\n",
    "    #center\n",
    "    ## bottom left\n",
    "    Polygon([(3.6, 4.9), (4.9, 4.9), (4.9, 3.6), (5.1, 3.6), (5.1, 4.9), (6.4, 4.9), (6.4, 5.1), (5.1, 5.1), (5.1, 6.5), (4.9, 6.5), (4.9, 5.1), (3.6, 5.1)  ]),\n",
    "    ## bottom right\n",
    "    Polygon([(8.6, 4.9), (9.9, 4.9), (9.9, 3.6), (10.1, 3.6), (10.1, 4.9), (11.5, 4.9), (11.5, 5.1), (10.1, 5.1), (10.1, 6.5), (9.9, 6.5), (9.9, 5.1), (8.6, 5.1)  ]),\n",
    "    ## top left\n",
    "    Polygon([(3.6, 9.9), (4.9, 9.9), (4.9, 8.6), (5.1, 8.6), (5.1, 9.9), (6.4, 9.9), (6.4, 10.1), (5.1, 10.1), (5.1, 11.5), (4.9, 11.5), (4.9, 10.1), (3.6, 10.1)  ]),\n",
    "    ## top right\n",
    "    Polygon([(8.6, 9.9), (9.9, 9.9), (9.9, 8.6), (10.1, 8.6), (10.1, 9.9), (11.5, 9.9), (11.5, 10.1), (10.1, 10.1), (10.1, 11.5), (9.9, 11.5), (9.9, 10.1), (8.6, 10.1)  ]),\n",
    "\n",
    "]\n",
    "\n",
    "exit_polygon = [(12.5, 12.5), (15, 12.5), (15, 15), (12.5, 15)]\n",
    "waypoints = {'B':([7.5, 2.5], 1.5), 'C':([12.5, 2.5], 1.5), 'D':([12.5, 7.5], 1.5), 'E':([7.5, 7.5], 1.5), 'F':([2.5, 7.5], 1.5), 'G':([2.5, 12.5], 1.5), 'H':([7.5, 12.5], 1.5)}\n",
    "distribution_polygon = Polygon([[0, 0], [5, 0], [5, 5], [0, 5]])\n",
    "obstacle = shapely.union_all(obstacles)  # combines obstacle polygons into only one polygon\n",
    "walkable_area = pedpy.WalkableArea(\n",
    "    shapely.difference(complete_area, obstacle))  # difference subtracts obstacle form complete_area\n",
    "fig, ax = plt.subplots(nrows=1, ncols=1)\n",
    "ax.set_aspect(\"equal\")\n",
    "pedpy.plot_walkable_area(walkable_area=walkable_area, axes=ax)\n",
    "\n",
    "for idx, (waypoint, distance) in waypoints.items():\n",
    "    ax.plot(waypoint[0], waypoint[1], \"ro\")\n",
    "    ax.annotate(\n",
    "        f\"{idx}\",\n",
    "        (waypoint[0], waypoint[1]),\n",
    "        textcoords=\"offset points\",\n",
    "        xytext=(10, -15),\n",
    "        ha=\"center\",\n",
    "    )\n",
    "    circle = Circle(\n",
    "        (waypoint[0], waypoint[1]), distance, fc=\"red\", ec=\"red\", alpha=0.1\n",
    "    )\n",
    "    ax.add_patch(circle)\n",
    "\n",
    "x, y = Polygon(exit_polygon).exterior.xy\n",
    "plt.fill(x, y, alpha=0.1, color=\"orange\")\n",
    "centroid = Polygon(exit_polygon).centroid\n",
    "plt.text(centroid.x, centroid.y, \"Exit\", ha=\"center\", va=\"center\", fontsize=8)\n",
    "\n",
    "x, y = distribution_polygon.exterior.xy\n",
    "plt.fill(x, y, alpha=0.1, color=\"blue\")\n",
    "centroid = distribution_polygon.centroid\n",
    "plt.text(centroid.x, centroid.y, \"Start\", ha=\"center\", va=\"center\", fontsize=10)"
   ],
   "metadata": {
    "collapsed": false
   }
  },
  {
   "cell_type": "code",
   "execution_count": 189,
   "outputs": [],
   "source": [
    "def remove_obstacles_from_areas(specific_areas, obstacles):\n",
    "    \"\"\"\n",
    "    Removes obstacles from specific areas by subtracting overlapping polygons.\n",
    "\n",
    "    Args:\n",
    "        specific_areas (dict): Dictionary of named areas {name: Polygon}.\n",
    "        obstacles (list): List of Polygon objects representing obstacles.\n",
    "\n",
    "    Returns:\n",
    "        dict: Dictionary of cleaned areas {name: Polygon without obstacles}.\n",
    "    \"\"\"\n",
    "    cleaned_areas = {}\n",
    "\n",
    "    for name, area in specific_areas.items():\n",
    "        # Subtract all obstacles from the current area\n",
    "        cleaned_area = area\n",
    "        for obstacle in obstacles:\n",
    "            if cleaned_area.intersects(obstacle):  # Only process if they overlap\n",
    "                cleaned_area = cleaned_area.difference(obstacle)\n",
    "\n",
    "        # Store the cleaned area in the dictionary\n",
    "        cleaned_areas[name] = cleaned_area\n",
    "\n",
    "    return cleaned_areas"
   ],
   "metadata": {
    "collapsed": false
   }
  },
  {
   "cell_type": "code",
   "execution_count": 190,
   "outputs": [],
   "source": [
    "specific_areas = dict()\n",
    "specific_areas['A'] = Polygon([(0,0), (5,0), (5,5), (0,5)])\n",
    "specific_areas['B'] = Polygon([(5,0), (10,0), (10,5), (5,5)])\n",
    "specific_areas['C'] = Polygon([(10,0), (15,0), (15,5), (10,5)])\n",
    "specific_areas['D'] = Polygon([(10,5), (15,5), (15,10), (10,10)])\n",
    "specific_areas['E'] = Polygon([(5,5), (10,5), (10,10), (5,10)])\n",
    "specific_areas['F'] = Polygon([(0,5), (5,5), (5,10), (0,10)])\n",
    "specific_areas['G'] = Polygon([(0,10), (5,10), (5,15), (0,15)])\n",
    "specific_areas['H'] = Polygon([(5,10), (10,10), (10,15), (5,15)])\n",
    "specific_areas['I'] = Polygon([(10,10), (15,10), (15,15), (10,15)])"
   ],
   "metadata": {
    "collapsed": false
   }
  },
  {
   "cell_type": "code",
   "execution_count": 191,
   "outputs": [],
   "source": [
    "specific_areas = remove_obstacles_from_areas(specific_areas, obstacles)"
   ],
   "metadata": {
    "collapsed": false
   }
  },
  {
   "cell_type": "markdown",
   "source": [
    "## Configuration of Simulation Scenarios"
   ],
   "metadata": {
    "collapsed": false
   }
  },
  {
   "cell_type": "code",
   "execution_count": 192,
   "outputs": [],
   "source": [
    "simulations = {}\n",
    "percentages = [0]\n",
    "total_agents = 10\n",
    "for percentage in percentages:\n",
    "    trajectory_file = f\"../../sqlite_data/centrality_measures_percentage_{percentage}.sqlite\"\n",
    "    simulation = jps.Simulation(\n",
    "        #dt=0.005,\n",
    "        model=jps.CollisionFreeSpeedModel(\n",
    "            strength_neighbor_repulsion=2.6,\n",
    "            range_neighbor_repulsion=0.1,\n",
    "            range_geometry_repulsion=0.05,\n",
    "        ),\n",
    "        geometry=walkable_area.polygon,\n",
    "        trajectory_writer=jps.SqliteTrajectoryWriter(\n",
    "            output_file=pathlib.Path(trajectory_file),\n",
    "        ),\n",
    "    )\n",
    "    simulations[percentage] = simulation"
   ],
   "metadata": {
    "collapsed": false
   }
  },
  {
   "cell_type": "markdown",
   "source": [
    "## Choosing the path\n"
   ],
   "metadata": {
    "collapsed": false
   }
  },
  {
   "cell_type": "code",
   "execution_count": 193,
   "outputs": [],
   "source": [
    "# Create the graph\n",
    "G = nx.DiGraph()\n",
    "\n",
    "# Nodos y sus niveles iniciales de riesgo (0 a 1)\n",
    "nodes = {\n",
    "    \"A\": 0.0, \"B\": 0.6, \"C\": 0.0,\n",
    "    \"D\": 0.6, \"E\": 0.6, \"F\": 0.1,\n",
    "    \"G\": 0.0, \"H\": 0.0, \"I\": 0.0,\n",
    "}\n",
    "\n",
    "# Agregar nodos al grafo\n",
    "for node, risk in nodes.items():\n",
    "    G.add_node(node, risk=risk)\n",
    "\n",
    "# Definir las conexiones entre nodos\n",
    "edges = [\n",
    "    (\"A\", \"B\"), (\"A\", \"F\"), (\"B\", \"A\"), (\"B\", \"E\"), (\"B\", \"C\"),\n",
    "    (\"C\", \"B\"), (\"C\", \"D\"), (\"D\", \"I\"), (\"D\", \"E\"), (\"D\", \"C\"),\n",
    "    (\"E\", \"D\"), (\"E\", \"F\"), (\"E\", \"B\"), (\"E\", \"H\"), (\"F\", \"A\"),\n",
    "    (\"F\", \"E\"), (\"F\", \"G\"), (\"G\", \"F\"), (\"G\", \"H\"), (\"H\", \"E\"),\n",
    "    (\"H\", \"G\"), (\"H\", \"I\"),\n",
    "]\n",
    "\n",
    "# Agregar las aristas con un costo fijo (se puede ajustar)\n",
    "G.add_edges_from([(u, v, {\"cost\": 3}) for u, v in edges])\n",
    "\n",
    "# Parameters for calculation\n",
    "sources = [\"A\"]  # Source nodes\n",
    "targets = [\"I\"]  # Target nodes\n",
    "\n",
    "# Calculate all efficient paths between source-target pairs\n",
    "gamma = 0.2  # Time tolerance factor\n",
    "\n",
    "_, _, possible_paths = centralityMeasuresAlgorithm(G, sources, targets, gamma)"
   ],
   "metadata": {
    "collapsed": false
   }
  },
  {
   "cell_type": "markdown",
   "source": [
    "## Outlining Agent Journeys"
   ],
   "metadata": {
    "collapsed": false
   }
  },
  {
   "cell_type": "code",
   "execution_count": 194,
   "outputs": [],
   "source": [
    "def differentGraphs(start, end, paths, waypoint_ids, exit_id):\n",
    "    \"\"\"\n",
    "    Creates journey descriptions for agents based on paths ordered by centrality scores.\n",
    "\n",
    "    Args:\n",
    "        start (str): Starting node in the graph.\n",
    "        end (str): Ending node in the graph.\n",
    "        paths (dict): Dictionary of paths ordered by centrality scores.\n",
    "                      Structure: {source: [(path1, score1), (path2, score2), ...], ...}\n",
    "        waypoint_ids (dict): Dictionary mapping node IDs to waypoint IDs in the simulation.\n",
    "        exit_id (int): ID of the exit stage in the simulation.\n",
    "\n",
    "    Returns:\n",
    "        list[jps.JourneyDescription]: List of journey descriptions for the agents.\n",
    "    \"\"\"\n",
    "    if not paths:\n",
    "        raise ValueError(f\"No valid paths found from {start} to {end}.\")\n",
    "\n",
    "    journeys = []\n",
    "    for source, path_list in paths.items():\n",
    "        for path, score in path_list:  # Unpack path and its centrality score\n",
    "            if len(path) < 2:\n",
    "                continue\n",
    "\n",
    "            # Map graph nodes in the path to waypoint IDs, excluding start and end nodes\n",
    "            needed_waypoints = [waypoint_ids[node] for node in path[1:-1]]\n",
    "            if not needed_waypoints:\n",
    "                continue\n",
    "\n",
    "            # Create the journey description\n",
    "            journey = jps.JourneyDescription([*needed_waypoints, exit_id])\n",
    "\n",
    "            # Set transitions between waypoints\n",
    "            for idx, waypoint in enumerate(needed_waypoints):\n",
    "                next_waypoint = exit_id if idx == len(needed_waypoints) - 1 else needed_waypoints[idx + 1]\n",
    "                journey.set_transition_for_stage(\n",
    "                    waypoint, jps.Transition.create_fixed_transition(next_waypoint)\n",
    "                )\n",
    "\n",
    "            journeys.append((journey, path))\n",
    "\n",
    "    return journeys"
   ],
   "metadata": {
    "collapsed": false
   }
  },
  {
   "cell_type": "code",
   "execution_count": 195,
   "outputs": [],
   "source": [
    "def set_journeys(simulation, start, end, paths):\n",
    "    \"\"\"\n",
    "    Configures agent journeys in the simulation.\n",
    "\n",
    "    Args:\n",
    "        simulation (jps.Simulation): The simulation instance.\n",
    "        start (str): Starting node in the graph.\n",
    "        end (str): Ending node in the graph.\n",
    "\n",
    "    Returns:\n",
    "        tuple: Journeys IDs and the dictionary of waypoint IDs.\n",
    "    \"\"\"\n",
    "    # Add the exit stage to the simulation\n",
    "    exit_id = simulation.add_exit_stage(exit_polygon)\n",
    "\n",
    "    # Map nodes to waypoint IDs\n",
    "    waypoint_ids = {}\n",
    "    for node, (waypoint, distance) in waypoints.items():\n",
    "        waypoint_ids[node] = simulation.add_waypoint_stage(waypoint, distance)\n",
    "\n",
    "    # Create the journey based on the best paths\n",
    "    journeys = differentGraphs(start, end, paths, waypoint_ids, exit_id)\n",
    "\n",
    "    journeys_id = dict()  # Initialize an empty dictionary to store journey IDs and their associated paths\n",
    "\n",
    "    # Iterate over the journeys and their respective paths\n",
    "    for journey, path in journeys:\n",
    "        # Add each journey to the simulation and retrieve its unique ID\n",
    "        journey_id = simulation.add_journey(journey)\n",
    "\n",
    "        # Ensure the starting node is initialized in the dictionary\n",
    "        if start not in journeys_id:\n",
    "            journeys_id[start] = []\n",
    "\n",
    "        # Store the journey ID and the path in journeys_id for the starting node (start)\n",
    "        journeys_id[start].append((journey_id, path))\n",
    "\n",
    "    return journeys_id, waypoint_ids"
   ],
   "metadata": {
    "collapsed": false
   }
  },
  {
   "cell_type": "markdown",
   "source": [
    "## Allocate Agents"
   ],
   "metadata": {
    "collapsed": false
   }
  },
  {
   "cell_type": "code",
   "execution_count": 196,
   "outputs": [],
   "source": [
    "positions = jps.distribute_by_number(\n",
    "    polygon=distribution_polygon,\n",
    "    number_of_agents=total_agents,\n",
    "    distance_to_agents=0.4,\n",
    "    distance_to_polygon=0.7,\n",
    "    seed=45131502,\n",
    ")"
   ],
   "metadata": {
    "collapsed": false
   }
  },
  {
   "cell_type": "markdown",
   "source": [
    "## Launching the Simulation"
   ],
   "metadata": {
    "collapsed": false
   }
  },
  {
   "cell_type": "code",
   "execution_count": 197,
   "outputs": [],
   "source": [
    "def simulate_risk_per_frame(\n",
    "    G: nx.DiGraph,\n",
    "    total_frames: int,\n",
    "    propagation_chance=0.3,\n",
    "    increase_chance=0.2,\n",
    "):\n",
    "    \"\"\"\n",
    "    Genera niveles de riesgo por frame para sincronizar con la simulación de agentes.\n",
    "\n",
    "    Parámetros:\n",
    "        G (nx.DiGraph): Grafo con áreas y conexiones.\n",
    "        total_frames (int): Número total de frames de la simulación.\n",
    "        propagation_chance (float): Probabilidad de propagar riesgo.\n",
    "        increase_chance (float): Probabilidad de incrementar riesgo.\n",
    "\n",
    "    Retorna:\n",
    "        dict: Riesgos por frame en formato {frame: {area: riesgo}}.\n",
    "    \"\"\"\n",
    "    risks_per_frame = {}\n",
    "\n",
    "    for frame in range(total_frames):\n",
    "        # Actualizar riesgos en el grafo\n",
    "        update_risk(G, propagation_chance, increase_chance)\n",
    "\n",
    "        # Guardar riesgos actuales\n",
    "        risks_per_frame[frame] = {node: G.nodes[node][\"risk\"] for node in G.nodes}\n",
    "\n",
    "    return risks_per_frame"
   ],
   "metadata": {
    "collapsed": false
   }
  },
  {
   "cell_type": "code",
   "execution_count": 198,
   "outputs": [],
   "source": [
    "def update_group_paths(simulation, risk_per_node, waypoint_id, journeys_id, agent_group, risk_threshold=0.5):\n",
    "    \"\"\"\n",
    "    Updates the paths of a group of agents based on the current node of the first agent in the group.\n",
    "    If the path is considered unsafe, all agents in the group are updated.\n",
    "\n",
    "    Args:\n",
    "        simulation (jps.Simulation): Instance of the simulation.\n",
    "        G (networkx.DiGraph): Graph representing node connections and risks.\n",
    "        waypoint_id (dict): Dictionary mapping nodes to waypoint IDs.\n",
    "        journeys_id (dict): Dictionary mapping start nodes to a list of tuples (journey_id, path).\n",
    "        agent_group (tuple): Tuple containing a list of agent IDs and the current path.\n",
    "        risk_threshold (float): Risk threshold above which a path segment is considered unsafe.\n",
    "\n",
    "    Returns:\n",
    "        tuple: Updated agent_group tuple with the new path, or the original if no update was made.\n",
    "    \"\"\"\n",
    "\n",
    "    agents_ids, current_path = agent_group\n",
    "    if not agents_ids:\n",
    "        # No agents in the group\n",
    "        return agent_group\n",
    "\n",
    "    # Get the ID of the agent in the middle of the group\n",
    "    # first_agent_id = agents_ids[(len(agents_ids) // 2) - 1] !!!!!!!!!!!!!!!!!!!!11\n",
    "    first_agent_id = agents_ids[0]\n",
    "    # Check if the first agent still exists in the simulation\n",
    "    agent_exists = any(agent.id == first_agent_id for agent in simulation.agents())\n",
    "    if not agent_exists:\n",
    "        # The first agent no longer exists in the simulation\n",
    "        return agent_group\n",
    "\n",
    "    # Retrieve the first agent to evaluate the group's path\n",
    "    agent = simulation.agent(first_agent_id)\n",
    "\n",
    "    current_stage = agent.stage_id  # Current stage ID of the agent\n",
    "    next_node = None\n",
    "\n",
    "    # Find the node associated with the agent's current stage\n",
    "    for node, waypoint in waypoint_id.items():\n",
    "        if waypoint == current_stage:\n",
    "            next_node = node\n",
    "            break\n",
    "\n",
    "    # If the next node is not found, exit\n",
    "    if not next_node:\n",
    "        return agent_group\n",
    "\n",
    "    # Get the current node the agent is heading to\n",
    "    index = current_path.index(next_node) - 1\n",
    "    current_node = current_path[index]\n",
    "\n",
    "    # Check if the next node is dangerous\n",
    "    if risk_per_node[next_node] < risk_threshold:\n",
    "        # The next node is safe; no changes needed\n",
    "        return agent_group\n",
    "\n",
    "    # If the next node is dangerous, search for alternative paths that pass through the current node\n",
    "    alternative_paths = []\n",
    "    for journey_id, path in journeys_id.get(\"A\", []):  # Assuming all paths start from \"A\" !!!!!!!!!!!!!!\n",
    "        if current_node in path:\n",
    "            # Get the segment of the path from the current node to the end\n",
    "            start_index = path.index(current_node)\n",
    "            remaining_path = path[start_index:]\n",
    "\n",
    "            # Calculate the total risk of the remaining path\n",
    "            total_risk = sum(risk_per_node[node] for node in remaining_path)\n",
    "\n",
    "            # Add the path and its risk if it's below the threshold\n",
    "            alternative_paths.append((journey_id, remaining_path, total_risk))\n",
    "\n",
    "    if alternative_paths :\n",
    "        # Select the best alternative path (lowest risk)\n",
    "        best_path = min(alternative_paths, key=lambda x: x[2])  # Minimice total risk\n",
    "        new_journey_id = best_path[0]\n",
    "        remaining_path = best_path[1]\n",
    "\n",
    "        # Determine the next node in the path\n",
    "        if len(remaining_path) > 1:\n",
    "            next_node = remaining_path[1]\n",
    "            next_stage_id = waypoint_id[next_node]\n",
    "\n",
    "            # Update all agents in the group to the new journey and stage\n",
    "            for agent_id in agents_ids:\n",
    "                simulation.switch_agent_journey(agent_id, new_journey_id, next_stage_id)\n",
    "\n",
    "            # Return the updated agent_group tuple with the new path\n",
    "            return (agents_ids, remaining_path)\n",
    "\n",
    "    # If no update was made, return the original agent_group\n",
    "    return agent_group"
   ],
   "metadata": {
    "collapsed": false
   }
  },
  {
   "cell_type": "code",
   "execution_count": 199,
   "outputs": [],
   "source": [
    "def simulate_risk(riskSimulationValues, every_nth_frame, G, connection):\n",
    "    \"\"\"\n",
    "    Simulates risk propagation in a graph over multiple frames and stores the results in a database.\n",
    "\n",
    "    Args:\n",
    "        iterations (int): Total number of frames to simulate.\n",
    "        every_nth_frame (int): Interval of frames at which risk updates are performed.\n",
    "        G (networkx.Graph): Graph where each node has a \"risk\" attribute.\n",
    "        propagation_chance (float): Probability of risk spreading between connected nodes.\n",
    "        increase_chance (float): Probability of individual nodes increasing their risk.\n",
    "        connection (sqlite3.Connection): Open SQLite database connection to store risk data.\n",
    "    \"\"\"\n",
    "    # Validate the input arguments\n",
    "    if riskSimulationValues.iterations <= 0:\n",
    "        raise ValueError(\"iterations must be a positive integer.\")\n",
    "    if every_nth_frame <= 0:\n",
    "        raise ValueError(\"every_nth_frame must be a positive integer.\")\n",
    "\n",
    "    for frame in range(riskSimulationValues.iterations + 1):\n",
    "        if frame == 0:\n",
    "            # Save the initial risk levels of all nodes before any updates\n",
    "            try:\n",
    "                write_risk_levels(connection, 0, {node: G.nodes[node][\"risk\"] for node in G.nodes})\n",
    "            except Exception as e:\n",
    "                print(f\"Error writing initial risks: {e}\")\n",
    "            continue\n",
    "\n",
    "        if frame % every_nth_frame == 0:\n",
    "            try:\n",
    "                # Update risks in the graph based on propagation and increase chances\n",
    "                update_risk(G, riskSimulationValues.propagation_chance, riskSimulationValues.increase_chance)\n",
    "                # Save the updated risk levels for the current frame\n",
    "                write_risk_levels(connection, frame, {node: G.nodes[node][\"risk\"] for node in G.nodes})\n",
    "            except Exception as e:\n",
    "                print(f\"Error updating risks at frame {frame}: {e}\")"
   ],
   "metadata": {
    "collapsed": false
   }
  },
  {
   "cell_type": "code",
   "execution_count": 200,
   "outputs": [],
   "source": [
    "def run_agent_simulation(simulation, connection, every_nth_frame, waypoint_id, journeys_id, agent_group, risk_threshold):\n",
    "    \"\"\"\n",
    "    Runs the agent simulation, updating their paths based on risk levels from the database.\n",
    "\n",
    "    Args:\n",
    "        simulation (object): Jupedsim simulation object managing agents and environment.\n",
    "        connection (sqlite3.Connection): Open SQLite database connection to fetch risk data.\n",
    "        every_nth_frame (int): Interval at which agent paths are updated.\n",
    "        waypoint_id (dict): Mapping of nodes to waypoint IDs.\n",
    "        journeys_id (dict): Mapping of source nodes to journey IDs.\n",
    "        agent_group (tuple): Tuple containing agents and their current path.\n",
    "        risk_threshold (float): Threshold above which agents will try to avoid high-risk areas.\n",
    "    \"\"\"\n",
    "    while simulation.agent_count() > 0:\n",
    "        # Advance the simulation by one frame\n",
    "        simulation.iterate()\n",
    "        frame = simulation.iteration_count()\n",
    "\n",
    "        # Update agent paths only at specified intervals\n",
    "        if frame % every_nth_frame == 0:\n",
    "            try:\n",
    "                # Fetch risk levels for the current frame from the database\n",
    "                risk_this_frame = get_risk_levels_by_frame(connection, frame)\n",
    "\n",
    "                # Update paths for the agents based on current risks and threshold\n",
    "                agent_group = update_group_paths(\n",
    "                    simulation, risk_this_frame, waypoint_id, journeys_id, agent_group, risk_threshold=risk_threshold\n",
    "                )\n",
    "            except Exception as e:\n",
    "                print(f\"Error updating paths at frame {frame}: {e}\")"
   ],
   "metadata": {
    "collapsed": false
   }
  },
  {
   "cell_type": "code",
   "execution_count": 201,
   "outputs": [],
   "source": [
    "# False -> to use the default risk evolution, True -> random risk evolution\n",
    "use_random_risk_layout = True"
   ],
   "metadata": {
    "collapsed": false
   }
  },
  {
   "cell_type": "code",
   "execution_count": 184,
   "outputs": [],
   "source": [
    "trajectory_files = {}\n",
    "for percentage, simulation in simulations.items():\n",
    "    # Set up journeys and waypoints for the simulation\n",
    "    journeys_id, waypoint_id = set_journeys(\n",
    "        simulation, sources[0], targets[0], possible_paths  # sources[0] -> start, targets[0] -> exit\n",
    "    )\n",
    "\n",
    "    # Retrieve the best path for the first source and its associated journey ID\n",
    "    journey_id, best_path_source_0 = journeys_id[sources[0]][0]\n",
    "    next_node = best_path_source_0[1]  # Get the next node on the best path\n",
    "    first_waypoint_id = waypoint_id[next_node]  # Determine the waypoint ID for the next node\n",
    "\n",
    "    # Calculate the number of items based on the percentage of positions\n",
    "    num_items = int(len(positions) * (percentage / 100.0))\n",
    "\n",
    "    # Initialize an agent group\n",
    "    agents = []\n",
    "    for position in positions[num_items:]:  # Use the second half of the positions\n",
    "        # Add agents with specified parameters (e.g., position, journey, velocity)\n",
    "        agents.append(\n",
    "            simulation.add_agent(\n",
    "                jps.CollisionFreeSpeedModelAgentParameters(\n",
    "                    position=position,       # Initial position of the agent\n",
    "                    journey_id=journey_id,   # Journey ID for the agent\n",
    "                    stage_id=first_waypoint_id,  # Starting waypoint for the agent\n",
    "                    v0=0.8                   # Desired maximum speed of the agent\n",
    "                )\n",
    "            )\n",
    "        )\n",
    "    agent_group = (agents, best_path_source_0)  # Group the agents with their best path\n",
    "\n",
    "    # Simulation parameters\n",
    "    every_nth_frame = 50  # Interval of frames for risk updates\n",
    "    riskSimulationValues = RiskSimulationValues(3000, 0.005, 0.09)\n",
    "\n",
    "    # Establish a connection to the appropriate SQLite database\n",
    "    default_connection_file = \"../../sqlite_data/default_centrality_measures_risks.db\" # default risk evolution file\n",
    "    new_connection_file = \"../../sqlite_data/centrality_measures_risks.db\" # random risk evolution file\n",
    "    if use_random_risk_layout:\n",
    "        connection_file = new_connection_file  # Use new database if random risk layout is enabled\n",
    "    else:\n",
    "        connection_file = default_connection_file  # Use default database otherwise\n",
    "\n",
    "    connection = sqlite3.connect(connection_file)\n",
    "\n",
    "    try:\n",
    "        if use_random_risk_layout:\n",
    "            # Create or reset the risk table if random risk layout is enabled\n",
    "            create_risk_table(connection)\n",
    "\n",
    "            # Simulate risk propagation and store results in the database\n",
    "            simulate_risk(riskSimulationValues, every_nth_frame, G, connection)\n",
    "\n",
    "        # Run the agent simulation, updating paths based on the risk levels\n",
    "        run_agent_simulation(\n",
    "            simulation,\n",
    "            connection,\n",
    "            every_nth_frame,\n",
    "            waypoint_id,\n",
    "            journeys_id,\n",
    "            agent_group,\n",
    "            risk_threshold=0.5  # Threshold for avoiding high-risk areas\n",
    "        )\n",
    "    finally:\n",
    "        # Ensure the database connection is closed after operations\n",
    "        connection.close()\n",
    "\n",
    "    # Generate the trajectory file for the current percentage and store its path\n",
    "    trajectory_file = f\"../../sqlite_data/centrality_measures_percentage_{percentage}.sqlite\"\n",
    "    trajectory_files[percentage] = trajectory_file"
   ],
   "metadata": {
    "collapsed": false
   }
  },
  {
   "cell_type": "code",
   "execution_count": 185,
   "outputs": [
    {
     "name": "stdout",
     "output_type": "stream",
     "text": [
      "Frame 0, Area A: Risk Level 0.0\n",
      "Frame 0, Area B: Risk Level 0.6\n",
      "Frame 0, Area C: Risk Level 0.0\n",
      "Frame 0, Area D: Risk Level 0.6\n",
      "Frame 0, Area E: Risk Level 0.6\n",
      "Frame 0, Area F: Risk Level 0.1\n",
      "Frame 0, Area G: Risk Level 0.0\n",
      "Frame 0, Area H: Risk Level 0.0\n",
      "Frame 0, Area I: Risk Level 0.0\n",
      "Frame 50, Area A: Risk Level 0.0\n",
      "Frame 50, Area B: Risk Level 0.6\n",
      "Frame 50, Area C: Risk Level 0.0\n",
      "Frame 50, Area D: Risk Level 0.6\n",
      "Frame 50, Area E: Risk Level 0.6\n",
      "Frame 50, Area F: Risk Level 0.1\n",
      "Frame 50, Area G: Risk Level 0.0\n",
      "Frame 50, Area H: Risk Level 0.0\n",
      "Frame 50, Area I: Risk Level 0.0\n",
      "Frame 100, Area A: Risk Level 0.0\n",
      "Frame 100, Area B: Risk Level 0.8\n",
      "Frame 100, Area C: Risk Level 0.0\n",
      "Frame 100, Area D: Risk Level 0.6\n",
      "Frame 100, Area E: Risk Level 0.6\n",
      "Frame 100, Area F: Risk Level 0.1\n",
      "Frame 100, Area G: Risk Level 0.2\n",
      "Frame 100, Area H: Risk Level 0.0\n",
      "Frame 100, Area I: Risk Level 0.0\n",
      "Frame 150, Area A: Risk Level 0.0\n",
      "Frame 150, Area B: Risk Level 1.0\n",
      "Frame 150, Area C: Risk Level 0.0\n",
      "Frame 150, Area D: Risk Level 0.6\n",
      "Frame 150, Area E: Risk Level 0.6\n",
      "Frame 150, Area F: Risk Level 0.3\n",
      "Frame 150, Area G: Risk Level 0.2\n",
      "Frame 150, Area H: Risk Level 0.0\n",
      "Frame 150, Area I: Risk Level 0.0\n",
      "Frame 200, Area A: Risk Level 0.0\n",
      "Frame 200, Area B: Risk Level 1.0\n",
      "Frame 200, Area C: Risk Level 0.0\n",
      "Frame 200, Area D: Risk Level 0.6\n",
      "Frame 200, Area E: Risk Level 0.7\n",
      "Frame 200, Area F: Risk Level 0.5\n",
      "Frame 200, Area G: Risk Level 0.2\n",
      "Frame 200, Area H: Risk Level 0.0\n",
      "Frame 200, Area I: Risk Level 0.0\n",
      "Frame 250, Area A: Risk Level 0.0\n",
      "Frame 250, Area B: Risk Level 1.0\n",
      "Frame 250, Area C: Risk Level 0.0\n",
      "Frame 250, Area D: Risk Level 0.6\n",
      "Frame 250, Area E: Risk Level 0.7\n",
      "Frame 250, Area F: Risk Level 0.5\n",
      "Frame 250, Area G: Risk Level 0.2\n",
      "Frame 250, Area H: Risk Level 0.1\n",
      "Frame 250, Area I: Risk Level 0.0\n",
      "Frame 300, Area A: Risk Level 0.0\n",
      "Frame 300, Area B: Risk Level 1.0\n",
      "Frame 300, Area C: Risk Level 0.0\n",
      "Frame 300, Area D: Risk Level 0.7\n",
      "Frame 300, Area E: Risk Level 0.7\n",
      "Frame 300, Area F: Risk Level 0.5\n",
      "Frame 300, Area G: Risk Level 0.2\n",
      "Frame 300, Area H: Risk Level 0.1\n",
      "Frame 300, Area I: Risk Level 0.1\n",
      "Frame 350, Area A: Risk Level 0.0\n",
      "Frame 350, Area B: Risk Level 1.0\n",
      "Frame 350, Area C: Risk Level 0.0\n",
      "Frame 350, Area D: Risk Level 0.7\n",
      "Frame 350, Area E: Risk Level 0.7\n",
      "Frame 350, Area F: Risk Level 0.5\n",
      "Frame 350, Area G: Risk Level 0.2\n",
      "Frame 350, Area H: Risk Level 0.1\n",
      "Frame 350, Area I: Risk Level 0.1\n",
      "Frame 400, Area A: Risk Level 0.0\n",
      "Frame 400, Area B: Risk Level 1.0\n",
      "Frame 400, Area C: Risk Level 0.0\n",
      "Frame 400, Area D: Risk Level 0.7\n",
      "Frame 400, Area E: Risk Level 0.7\n",
      "Frame 400, Area F: Risk Level 0.5\n",
      "Frame 400, Area G: Risk Level 0.3\n",
      "Frame 400, Area H: Risk Level 0.1\n",
      "Frame 400, Area I: Risk Level 0.1\n",
      "Frame 450, Area A: Risk Level 0.0\n",
      "Frame 450, Area B: Risk Level 1.0\n",
      "Frame 450, Area C: Risk Level 0.0\n",
      "Frame 450, Area D: Risk Level 0.7\n",
      "Frame 450, Area E: Risk Level 0.7\n",
      "Frame 450, Area F: Risk Level 0.5\n",
      "Frame 450, Area G: Risk Level 0.3\n",
      "Frame 450, Area H: Risk Level 0.1\n",
      "Frame 450, Area I: Risk Level 0.1\n",
      "Frame 500, Area A: Risk Level 0.0\n",
      "Frame 500, Area B: Risk Level 1.0\n",
      "Frame 500, Area C: Risk Level 0.0\n",
      "Frame 500, Area D: Risk Level 0.7\n",
      "Frame 500, Area E: Risk Level 0.7\n",
      "Frame 500, Area F: Risk Level 0.5\n",
      "Frame 500, Area G: Risk Level 0.4\n",
      "Frame 500, Area H: Risk Level 0.1\n",
      "Frame 500, Area I: Risk Level 0.1\n",
      "Frame 550, Area A: Risk Level 0.1\n",
      "Frame 550, Area B: Risk Level 1.0\n",
      "Frame 550, Area C: Risk Level 0.0\n",
      "Frame 550, Area D: Risk Level 0.7\n",
      "Frame 550, Area E: Risk Level 0.7\n",
      "Frame 550, Area F: Risk Level 0.5\n",
      "Frame 550, Area G: Risk Level 0.5\n",
      "Frame 550, Area H: Risk Level 0.1\n",
      "Frame 550, Area I: Risk Level 0.3\n",
      "Frame 600, Area A: Risk Level 0.1\n",
      "Frame 600, Area B: Risk Level 1.0\n",
      "Frame 600, Area C: Risk Level 0.0\n",
      "Frame 600, Area D: Risk Level 0.7\n",
      "Frame 600, Area E: Risk Level 0.7\n",
      "Frame 600, Area F: Risk Level 0.5\n",
      "Frame 600, Area G: Risk Level 0.5\n",
      "Frame 600, Area H: Risk Level 0.1\n",
      "Frame 600, Area I: Risk Level 0.3\n",
      "Frame 650, Area A: Risk Level 0.1\n",
      "Frame 650, Area B: Risk Level 1.0\n",
      "Frame 650, Area C: Risk Level 0.0\n",
      "Frame 650, Area D: Risk Level 0.7\n",
      "Frame 650, Area E: Risk Level 0.7\n",
      "Frame 650, Area F: Risk Level 0.5\n",
      "Frame 650, Area G: Risk Level 0.5\n",
      "Frame 650, Area H: Risk Level 0.1\n",
      "Frame 650, Area I: Risk Level 0.3\n",
      "Frame 700, Area A: Risk Level 0.1\n",
      "Frame 700, Area B: Risk Level 1.0\n",
      "Frame 700, Area C: Risk Level 0.0\n",
      "Frame 700, Area D: Risk Level 0.7\n",
      "Frame 700, Area E: Risk Level 0.7\n",
      "Frame 700, Area F: Risk Level 0.5\n",
      "Frame 700, Area G: Risk Level 0.5\n",
      "Frame 700, Area H: Risk Level 0.1\n",
      "Frame 700, Area I: Risk Level 0.3\n",
      "Frame 750, Area A: Risk Level 0.1\n",
      "Frame 750, Area B: Risk Level 1.0\n",
      "Frame 750, Area C: Risk Level 0.0\n",
      "Frame 750, Area D: Risk Level 0.7\n",
      "Frame 750, Area E: Risk Level 0.7\n",
      "Frame 750, Area F: Risk Level 0.5\n",
      "Frame 750, Area G: Risk Level 0.5\n",
      "Frame 750, Area H: Risk Level 0.1\n",
      "Frame 750, Area I: Risk Level 0.3\n",
      "Frame 800, Area A: Risk Level 0.1\n",
      "Frame 800, Area B: Risk Level 1.0\n",
      "Frame 800, Area C: Risk Level 0.0\n",
      "Frame 800, Area D: Risk Level 0.7\n",
      "Frame 800, Area E: Risk Level 0.7\n",
      "Frame 800, Area F: Risk Level 0.5\n",
      "Frame 800, Area G: Risk Level 0.5\n",
      "Frame 800, Area H: Risk Level 0.1\n",
      "Frame 800, Area I: Risk Level 0.3\n",
      "Frame 850, Area A: Risk Level 0.1\n",
      "Frame 850, Area B: Risk Level 1.0\n",
      "Frame 850, Area C: Risk Level 0.1\n",
      "Frame 850, Area D: Risk Level 0.7\n",
      "Frame 850, Area E: Risk Level 0.7\n",
      "Frame 850, Area F: Risk Level 0.5\n",
      "Frame 850, Area G: Risk Level 0.5\n",
      "Frame 850, Area H: Risk Level 0.3\n",
      "Frame 850, Area I: Risk Level 0.3\n",
      "Frame 900, Area A: Risk Level 0.1\n",
      "Frame 900, Area B: Risk Level 1.0\n",
      "Frame 900, Area C: Risk Level 0.1\n",
      "Frame 900, Area D: Risk Level 0.7\n",
      "Frame 900, Area E: Risk Level 0.7\n",
      "Frame 900, Area F: Risk Level 0.5\n",
      "Frame 900, Area G: Risk Level 0.5\n",
      "Frame 900, Area H: Risk Level 0.3\n",
      "Frame 900, Area I: Risk Level 0.3\n",
      "Frame 950, Area A: Risk Level 0.1\n",
      "Frame 950, Area B: Risk Level 1.0\n",
      "Frame 950, Area C: Risk Level 0.1\n",
      "Frame 950, Area D: Risk Level 0.7\n",
      "Frame 950, Area E: Risk Level 0.7\n",
      "Frame 950, Area F: Risk Level 0.6\n",
      "Frame 950, Area G: Risk Level 0.5\n",
      "Frame 950, Area H: Risk Level 0.4\n",
      "Frame 950, Area I: Risk Level 0.3\n",
      "Frame 1000, Area A: Risk Level 0.1\n",
      "Frame 1000, Area B: Risk Level 1.0\n",
      "Frame 1000, Area C: Risk Level 0.3\n",
      "Frame 1000, Area D: Risk Level 0.7\n",
      "Frame 1000, Area E: Risk Level 0.7\n",
      "Frame 1000, Area F: Risk Level 0.6\n",
      "Frame 1000, Area G: Risk Level 0.5\n",
      "Frame 1000, Area H: Risk Level 0.4\n",
      "Frame 1000, Area I: Risk Level 0.5\n",
      "Frame 1050, Area A: Risk Level 0.1\n",
      "Frame 1050, Area B: Risk Level 1.0\n",
      "Frame 1050, Area C: Risk Level 0.5\n",
      "Frame 1050, Area D: Risk Level 0.9\n",
      "Frame 1050, Area E: Risk Level 0.7\n",
      "Frame 1050, Area F: Risk Level 0.6\n",
      "Frame 1050, Area G: Risk Level 0.5\n",
      "Frame 1050, Area H: Risk Level 0.4\n",
      "Frame 1050, Area I: Risk Level 0.5\n",
      "Frame 1100, Area A: Risk Level 0.1\n",
      "Frame 1100, Area B: Risk Level 1.0\n",
      "Frame 1100, Area C: Risk Level 0.5\n",
      "Frame 1100, Area D: Risk Level 0.9\n",
      "Frame 1100, Area E: Risk Level 0.7\n",
      "Frame 1100, Area F: Risk Level 0.6\n",
      "Frame 1100, Area G: Risk Level 0.5\n",
      "Frame 1100, Area H: Risk Level 0.4\n",
      "Frame 1100, Area I: Risk Level 0.5\n",
      "Frame 1150, Area A: Risk Level 0.1\n",
      "Frame 1150, Area B: Risk Level 1.0\n",
      "Frame 1150, Area C: Risk Level 0.5\n",
      "Frame 1150, Area D: Risk Level 0.9\n",
      "Frame 1150, Area E: Risk Level 0.7\n",
      "Frame 1150, Area F: Risk Level 0.6\n",
      "Frame 1150, Area G: Risk Level 0.5\n",
      "Frame 1150, Area H: Risk Level 0.5\n",
      "Frame 1150, Area I: Risk Level 0.5\n",
      "Frame 1200, Area A: Risk Level 0.3\n",
      "Frame 1200, Area B: Risk Level 1.0\n",
      "Frame 1200, Area C: Risk Level 0.5\n",
      "Frame 1200, Area D: Risk Level 0.9\n",
      "Frame 1200, Area E: Risk Level 0.7\n",
      "Frame 1200, Area F: Risk Level 0.6\n",
      "Frame 1200, Area G: Risk Level 0.5\n",
      "Frame 1200, Area H: Risk Level 0.5\n",
      "Frame 1200, Area I: Risk Level 0.5\n",
      "Frame 1250, Area A: Risk Level 0.3\n",
      "Frame 1250, Area B: Risk Level 1.0\n",
      "Frame 1250, Area C: Risk Level 0.5\n",
      "Frame 1250, Area D: Risk Level 0.9\n",
      "Frame 1250, Area E: Risk Level 0.7\n",
      "Frame 1250, Area F: Risk Level 0.6\n",
      "Frame 1250, Area G: Risk Level 0.5\n",
      "Frame 1250, Area H: Risk Level 0.5\n",
      "Frame 1250, Area I: Risk Level 0.5\n",
      "Frame 1300, Area A: Risk Level 0.3\n",
      "Frame 1300, Area B: Risk Level 1.0\n",
      "Frame 1300, Area C: Risk Level 0.5\n",
      "Frame 1300, Area D: Risk Level 0.9\n",
      "Frame 1300, Area E: Risk Level 0.7\n",
      "Frame 1300, Area F: Risk Level 0.6\n",
      "Frame 1300, Area G: Risk Level 0.5\n",
      "Frame 1300, Area H: Risk Level 0.5\n",
      "Frame 1300, Area I: Risk Level 0.5\n",
      "Frame 1350, Area A: Risk Level 0.3\n",
      "Frame 1350, Area B: Risk Level 1.0\n",
      "Frame 1350, Area C: Risk Level 0.5\n",
      "Frame 1350, Area D: Risk Level 0.9\n",
      "Frame 1350, Area E: Risk Level 0.7\n",
      "Frame 1350, Area F: Risk Level 0.6\n",
      "Frame 1350, Area G: Risk Level 0.5\n",
      "Frame 1350, Area H: Risk Level 0.5\n",
      "Frame 1350, Area I: Risk Level 0.5\n",
      "Frame 1400, Area A: Risk Level 0.3\n",
      "Frame 1400, Area B: Risk Level 1.0\n",
      "Frame 1400, Area C: Risk Level 0.5\n",
      "Frame 1400, Area D: Risk Level 0.9\n",
      "Frame 1400, Area E: Risk Level 0.7\n",
      "Frame 1400, Area F: Risk Level 0.6\n",
      "Frame 1400, Area G: Risk Level 0.5\n",
      "Frame 1400, Area H: Risk Level 0.5\n",
      "Frame 1400, Area I: Risk Level 0.5\n",
      "Frame 1450, Area A: Risk Level 0.3\n",
      "Frame 1450, Area B: Risk Level 1.0\n",
      "Frame 1450, Area C: Risk Level 0.5\n",
      "Frame 1450, Area D: Risk Level 0.9\n",
      "Frame 1450, Area E: Risk Level 0.7\n",
      "Frame 1450, Area F: Risk Level 0.7\n",
      "Frame 1450, Area G: Risk Level 0.5\n",
      "Frame 1450, Area H: Risk Level 0.5\n",
      "Frame 1450, Area I: Risk Level 0.5\n",
      "Frame 1500, Area A: Risk Level 0.3\n",
      "Frame 1500, Area B: Risk Level 1.0\n",
      "Frame 1500, Area C: Risk Level 0.6\n",
      "Frame 1500, Area D: Risk Level 0.9\n",
      "Frame 1500, Area E: Risk Level 0.7\n",
      "Frame 1500, Area F: Risk Level 0.7\n",
      "Frame 1500, Area G: Risk Level 0.5\n",
      "Frame 1500, Area H: Risk Level 0.5\n",
      "Frame 1500, Area I: Risk Level 0.5\n",
      "Frame 1550, Area A: Risk Level 0.3\n",
      "Frame 1550, Area B: Risk Level 1.0\n",
      "Frame 1550, Area C: Risk Level 0.6\n",
      "Frame 1550, Area D: Risk Level 0.9\n",
      "Frame 1550, Area E: Risk Level 0.7\n",
      "Frame 1550, Area F: Risk Level 0.7\n",
      "Frame 1550, Area G: Risk Level 0.5\n",
      "Frame 1550, Area H: Risk Level 0.5\n",
      "Frame 1550, Area I: Risk Level 0.5\n",
      "Frame 1600, Area A: Risk Level 0.3\n",
      "Frame 1600, Area B: Risk Level 1.0\n",
      "Frame 1600, Area C: Risk Level 0.6\n",
      "Frame 1600, Area D: Risk Level 0.9\n",
      "Frame 1600, Area E: Risk Level 0.7\n",
      "Frame 1600, Area F: Risk Level 0.7\n",
      "Frame 1600, Area G: Risk Level 0.5\n",
      "Frame 1600, Area H: Risk Level 0.5\n",
      "Frame 1600, Area I: Risk Level 0.5\n",
      "Frame 1650, Area A: Risk Level 0.3\n",
      "Frame 1650, Area B: Risk Level 1.0\n",
      "Frame 1650, Area C: Risk Level 0.6\n",
      "Frame 1650, Area D: Risk Level 0.9\n",
      "Frame 1650, Area E: Risk Level 0.7\n",
      "Frame 1650, Area F: Risk Level 0.7\n",
      "Frame 1650, Area G: Risk Level 0.5\n",
      "Frame 1650, Area H: Risk Level 0.6\n",
      "Frame 1650, Area I: Risk Level 0.5\n",
      "Frame 1700, Area A: Risk Level 0.4\n",
      "Frame 1700, Area B: Risk Level 1.0\n",
      "Frame 1700, Area C: Risk Level 0.6\n",
      "Frame 1700, Area D: Risk Level 0.9\n",
      "Frame 1700, Area E: Risk Level 0.7\n",
      "Frame 1700, Area F: Risk Level 0.7\n",
      "Frame 1700, Area G: Risk Level 0.5\n",
      "Frame 1700, Area H: Risk Level 0.6\n",
      "Frame 1700, Area I: Risk Level 0.5\n",
      "Frame 1750, Area A: Risk Level 0.4\n",
      "Frame 1750, Area B: Risk Level 1.0\n",
      "Frame 1750, Area C: Risk Level 0.7\n",
      "Frame 1750, Area D: Risk Level 0.9\n",
      "Frame 1750, Area E: Risk Level 0.7\n",
      "Frame 1750, Area F: Risk Level 0.7\n",
      "Frame 1750, Area G: Risk Level 0.5\n",
      "Frame 1750, Area H: Risk Level 0.6\n",
      "Frame 1750, Area I: Risk Level 0.5\n",
      "Frame 1800, Area A: Risk Level 0.4\n",
      "Frame 1800, Area B: Risk Level 1.0\n",
      "Frame 1800, Area C: Risk Level 0.7\n",
      "Frame 1800, Area D: Risk Level 0.9\n",
      "Frame 1800, Area E: Risk Level 0.7\n",
      "Frame 1800, Area F: Risk Level 0.7\n",
      "Frame 1800, Area G: Risk Level 0.5\n",
      "Frame 1800, Area H: Risk Level 0.7\n",
      "Frame 1800, Area I: Risk Level 0.5\n",
      "Frame 1850, Area A: Risk Level 0.4\n",
      "Frame 1850, Area B: Risk Level 1.0\n",
      "Frame 1850, Area C: Risk Level 0.7\n",
      "Frame 1850, Area D: Risk Level 0.9\n",
      "Frame 1850, Area E: Risk Level 0.7\n",
      "Frame 1850, Area F: Risk Level 0.7\n",
      "Frame 1850, Area G: Risk Level 0.5\n",
      "Frame 1850, Area H: Risk Level 0.7\n",
      "Frame 1850, Area I: Risk Level 0.5\n",
      "Frame 1900, Area A: Risk Level 0.4\n",
      "Frame 1900, Area B: Risk Level 1.0\n",
      "Frame 1900, Area C: Risk Level 0.9\n",
      "Frame 1900, Area D: Risk Level 0.9\n",
      "Frame 1900, Area E: Risk Level 0.7\n",
      "Frame 1900, Area F: Risk Level 0.7\n",
      "Frame 1900, Area G: Risk Level 0.5\n",
      "Frame 1900, Area H: Risk Level 0.7\n",
      "Frame 1900, Area I: Risk Level 0.5\n",
      "Frame 1950, Area A: Risk Level 0.4\n",
      "Frame 1950, Area B: Risk Level 1.0\n",
      "Frame 1950, Area C: Risk Level 0.9\n",
      "Frame 1950, Area D: Risk Level 0.9\n",
      "Frame 1950, Area E: Risk Level 0.7\n",
      "Frame 1950, Area F: Risk Level 0.7\n",
      "Frame 1950, Area G: Risk Level 0.5\n",
      "Frame 1950, Area H: Risk Level 0.7\n",
      "Frame 1950, Area I: Risk Level 0.5\n",
      "Frame 2000, Area A: Risk Level 0.4\n",
      "Frame 2000, Area B: Risk Level 1.0\n",
      "Frame 2000, Area C: Risk Level 0.9\n",
      "Frame 2000, Area D: Risk Level 0.9\n",
      "Frame 2000, Area E: Risk Level 0.7\n",
      "Frame 2000, Area F: Risk Level 0.7\n",
      "Frame 2000, Area G: Risk Level 0.5\n",
      "Frame 2000, Area H: Risk Level 0.7\n",
      "Frame 2000, Area I: Risk Level 0.5\n",
      "Frame 2050, Area A: Risk Level 0.4\n",
      "Frame 2050, Area B: Risk Level 1.0\n",
      "Frame 2050, Area C: Risk Level 0.9\n",
      "Frame 2050, Area D: Risk Level 0.9\n",
      "Frame 2050, Area E: Risk Level 0.7\n",
      "Frame 2050, Area F: Risk Level 0.7\n",
      "Frame 2050, Area G: Risk Level 0.5\n",
      "Frame 2050, Area H: Risk Level 0.8\n",
      "Frame 2050, Area I: Risk Level 0.5\n",
      "Frame 2100, Area A: Risk Level 0.4\n",
      "Frame 2100, Area B: Risk Level 1.0\n",
      "Frame 2100, Area C: Risk Level 0.9\n",
      "Frame 2100, Area D: Risk Level 0.9\n",
      "Frame 2100, Area E: Risk Level 0.7\n",
      "Frame 2100, Area F: Risk Level 0.7\n",
      "Frame 2100, Area G: Risk Level 0.5\n",
      "Frame 2100, Area H: Risk Level 0.8\n",
      "Frame 2100, Area I: Risk Level 0.5\n",
      "Frame 2150, Area A: Risk Level 0.4\n",
      "Frame 2150, Area B: Risk Level 1.0\n",
      "Frame 2150, Area C: Risk Level 0.9\n",
      "Frame 2150, Area D: Risk Level 0.9\n",
      "Frame 2150, Area E: Risk Level 0.7\n",
      "Frame 2150, Area F: Risk Level 0.7\n",
      "Frame 2150, Area G: Risk Level 0.5\n",
      "Frame 2150, Area H: Risk Level 0.8\n",
      "Frame 2150, Area I: Risk Level 0.5\n",
      "Frame 2200, Area A: Risk Level 0.4\n",
      "Frame 2200, Area B: Risk Level 1.0\n",
      "Frame 2200, Area C: Risk Level 0.9\n",
      "Frame 2200, Area D: Risk Level 0.9\n",
      "Frame 2200, Area E: Risk Level 0.7\n",
      "Frame 2200, Area F: Risk Level 0.7\n",
      "Frame 2200, Area G: Risk Level 0.5\n",
      "Frame 2200, Area H: Risk Level 0.8\n",
      "Frame 2200, Area I: Risk Level 0.5\n",
      "Frame 2250, Area A: Risk Level 0.4\n",
      "Frame 2250, Area B: Risk Level 1.0\n",
      "Frame 2250, Area C: Risk Level 0.9\n",
      "Frame 2250, Area D: Risk Level 0.9\n",
      "Frame 2250, Area E: Risk Level 0.7\n",
      "Frame 2250, Area F: Risk Level 0.7\n",
      "Frame 2250, Area G: Risk Level 0.5\n",
      "Frame 2250, Area H: Risk Level 0.8\n",
      "Frame 2250, Area I: Risk Level 0.5\n",
      "Frame 2300, Area A: Risk Level 0.4\n",
      "Frame 2300, Area B: Risk Level 1.0\n",
      "Frame 2300, Area C: Risk Level 0.9\n",
      "Frame 2300, Area D: Risk Level 1.0\n",
      "Frame 2300, Area E: Risk Level 0.7\n",
      "Frame 2300, Area F: Risk Level 0.7\n",
      "Frame 2300, Area G: Risk Level 0.7\n",
      "Frame 2300, Area H: Risk Level 0.8\n",
      "Frame 2300, Area I: Risk Level 0.5\n",
      "Frame 2350, Area A: Risk Level 0.4\n",
      "Frame 2350, Area B: Risk Level 1.0\n",
      "Frame 2350, Area C: Risk Level 0.9\n",
      "Frame 2350, Area D: Risk Level 1.0\n",
      "Frame 2350, Area E: Risk Level 0.7\n",
      "Frame 2350, Area F: Risk Level 0.7\n",
      "Frame 2350, Area G: Risk Level 0.7\n",
      "Frame 2350, Area H: Risk Level 0.8\n",
      "Frame 2350, Area I: Risk Level 0.5\n",
      "Frame 2400, Area A: Risk Level 0.4\n",
      "Frame 2400, Area B: Risk Level 1.0\n",
      "Frame 2400, Area C: Risk Level 1.0\n",
      "Frame 2400, Area D: Risk Level 1.0\n",
      "Frame 2400, Area E: Risk Level 0.7\n",
      "Frame 2400, Area F: Risk Level 0.7\n",
      "Frame 2400, Area G: Risk Level 0.7\n",
      "Frame 2400, Area H: Risk Level 0.8\n",
      "Frame 2400, Area I: Risk Level 0.5\n",
      "Frame 2450, Area A: Risk Level 0.4\n",
      "Frame 2450, Area B: Risk Level 1.0\n",
      "Frame 2450, Area C: Risk Level 1.0\n",
      "Frame 2450, Area D: Risk Level 1.0\n",
      "Frame 2450, Area E: Risk Level 0.7\n",
      "Frame 2450, Area F: Risk Level 0.7\n",
      "Frame 2450, Area G: Risk Level 0.7\n",
      "Frame 2450, Area H: Risk Level 0.8\n",
      "Frame 2450, Area I: Risk Level 0.5\n",
      "Frame 2500, Area A: Risk Level 0.4\n",
      "Frame 2500, Area B: Risk Level 1.0\n",
      "Frame 2500, Area C: Risk Level 1.0\n",
      "Frame 2500, Area D: Risk Level 1.0\n",
      "Frame 2500, Area E: Risk Level 0.7\n",
      "Frame 2500, Area F: Risk Level 0.7\n",
      "Frame 2500, Area G: Risk Level 0.7\n",
      "Frame 2500, Area H: Risk Level 0.8\n",
      "Frame 2500, Area I: Risk Level 0.5\n",
      "Frame 2550, Area A: Risk Level 0.5\n",
      "Frame 2550, Area B: Risk Level 1.0\n",
      "Frame 2550, Area C: Risk Level 1.0\n",
      "Frame 2550, Area D: Risk Level 1.0\n",
      "Frame 2550, Area E: Risk Level 0.7\n",
      "Frame 2550, Area F: Risk Level 0.7\n",
      "Frame 2550, Area G: Risk Level 0.7\n",
      "Frame 2550, Area H: Risk Level 0.9\n",
      "Frame 2550, Area I: Risk Level 0.5\n",
      "Frame 2600, Area A: Risk Level 0.5\n",
      "Frame 2600, Area B: Risk Level 1.0\n",
      "Frame 2600, Area C: Risk Level 1.0\n",
      "Frame 2600, Area D: Risk Level 1.0\n",
      "Frame 2600, Area E: Risk Level 0.7\n",
      "Frame 2600, Area F: Risk Level 0.7\n",
      "Frame 2600, Area G: Risk Level 0.7\n",
      "Frame 2600, Area H: Risk Level 0.9\n",
      "Frame 2600, Area I: Risk Level 0.5\n",
      "Frame 2650, Area A: Risk Level 0.5\n",
      "Frame 2650, Area B: Risk Level 1.0\n",
      "Frame 2650, Area C: Risk Level 1.0\n",
      "Frame 2650, Area D: Risk Level 1.0\n",
      "Frame 2650, Area E: Risk Level 0.7\n",
      "Frame 2650, Area F: Risk Level 0.7\n",
      "Frame 2650, Area G: Risk Level 0.7\n",
      "Frame 2650, Area H: Risk Level 0.9\n",
      "Frame 2650, Area I: Risk Level 0.6\n",
      "Frame 2700, Area A: Risk Level 0.5\n",
      "Frame 2700, Area B: Risk Level 1.0\n",
      "Frame 2700, Area C: Risk Level 1.0\n",
      "Frame 2700, Area D: Risk Level 1.0\n",
      "Frame 2700, Area E: Risk Level 0.7\n",
      "Frame 2700, Area F: Risk Level 0.7\n",
      "Frame 2700, Area G: Risk Level 0.7\n",
      "Frame 2700, Area H: Risk Level 0.9\n",
      "Frame 2700, Area I: Risk Level 0.7\n",
      "Frame 2750, Area A: Risk Level 0.5\n",
      "Frame 2750, Area B: Risk Level 1.0\n",
      "Frame 2750, Area C: Risk Level 1.0\n",
      "Frame 2750, Area D: Risk Level 1.0\n",
      "Frame 2750, Area E: Risk Level 0.7\n",
      "Frame 2750, Area F: Risk Level 0.7\n",
      "Frame 2750, Area G: Risk Level 0.7\n",
      "Frame 2750, Area H: Risk Level 0.9\n",
      "Frame 2750, Area I: Risk Level 0.7\n",
      "Frame 2800, Area A: Risk Level 0.5\n",
      "Frame 2800, Area B: Risk Level 1.0\n",
      "Frame 2800, Area C: Risk Level 1.0\n",
      "Frame 2800, Area D: Risk Level 1.0\n",
      "Frame 2800, Area E: Risk Level 0.7\n",
      "Frame 2800, Area F: Risk Level 0.7\n",
      "Frame 2800, Area G: Risk Level 0.7\n",
      "Frame 2800, Area H: Risk Level 0.9\n",
      "Frame 2800, Area I: Risk Level 0.7\n",
      "Frame 2850, Area A: Risk Level 0.5\n",
      "Frame 2850, Area B: Risk Level 1.0\n",
      "Frame 2850, Area C: Risk Level 1.0\n",
      "Frame 2850, Area D: Risk Level 1.0\n",
      "Frame 2850, Area E: Risk Level 0.7\n",
      "Frame 2850, Area F: Risk Level 0.9\n",
      "Frame 2850, Area G: Risk Level 0.7\n",
      "Frame 2850, Area H: Risk Level 0.9\n",
      "Frame 2850, Area I: Risk Level 0.7\n",
      "Frame 2900, Area A: Risk Level 0.5\n",
      "Frame 2900, Area B: Risk Level 1.0\n",
      "Frame 2900, Area C: Risk Level 1.0\n",
      "Frame 2900, Area D: Risk Level 1.0\n",
      "Frame 2900, Area E: Risk Level 0.7\n",
      "Frame 2900, Area F: Risk Level 0.9\n",
      "Frame 2900, Area G: Risk Level 0.7\n",
      "Frame 2900, Area H: Risk Level 0.9\n",
      "Frame 2900, Area I: Risk Level 0.7\n",
      "Frame 2950, Area A: Risk Level 0.5\n",
      "Frame 2950, Area B: Risk Level 1.0\n",
      "Frame 2950, Area C: Risk Level 1.0\n",
      "Frame 2950, Area D: Risk Level 1.0\n",
      "Frame 2950, Area E: Risk Level 0.7\n",
      "Frame 2950, Area F: Risk Level 0.9\n",
      "Frame 2950, Area G: Risk Level 0.7\n",
      "Frame 2950, Area H: Risk Level 1.0\n",
      "Frame 2950, Area I: Risk Level 0.7\n",
      "Frame 3000, Area A: Risk Level 0.5\n",
      "Frame 3000, Area B: Risk Level 1.0\n",
      "Frame 3000, Area C: Risk Level 1.0\n",
      "Frame 3000, Area D: Risk Level 1.0\n",
      "Frame 3000, Area E: Risk Level 0.7\n",
      "Frame 3000, Area F: Risk Level 0.9\n",
      "Frame 3000, Area G: Risk Level 0.7\n",
      "Frame 3000, Area H: Risk Level 1.0\n",
      "Frame 3000, Area I: Risk Level 0.7\n"
     ]
    }
   ],
   "source": [
    "# Open the database connection safely\n",
    "with sqlite3.connect(connection_file) as connection:\n",
    "    # Fetch all risk data grouped by frame\n",
    "    all_risks = get_risks_grouped_by_frame(connection)\n",
    "\n",
    "    # Iterate over the nested dictionary\n",
    "    for frame, areas in all_risks.items():  # 'areas' is a dictionary {area: risk_level}\n",
    "        for area, risk in areas.items():\n",
    "            print(f\"Frame {frame}, Area {area}: Risk Level {risk}\")\n",
    "\n",
    "# Connection automatically closes when 'with' block ends"
   ],
   "metadata": {
    "collapsed": false
   }
  },
  {
   "cell_type": "markdown",
   "source": [
    "## Visualizing Agent Pathways"
   ],
   "metadata": {
    "collapsed": false
   }
  },
  {
   "cell_type": "code",
   "execution_count": 186,
   "outputs": [
    {
     "data": {
      "application/vnd.plotly.v1+json": {
       "data": [
        {
         "hoverinfo": "name",
         "line": {
          "color": "white"
         },
         "mode": "lines",
         "name": "Exterior",
         "showlegend": false,
         "x": [
          10.1,
          10.1,
          15.0,
          15.0,
          13.6,
          13.6,
          15.0,
          15.0,
          13.6,
          13.6,
          15.0,
          15.0,
          10.1,
          10.1,
          9.9,
          9.9,
          5.1,
          5.1,
          4.9,
          4.9,
          0.0,
          0.0,
          1.5,
          1.5,
          0.0,
          0.0,
          1.5,
          1.5,
          0.0,
          0.0,
          4.9,
          4.9,
          5.1,
          5.1,
          9.9,
          9.9,
          10.1
         ],
         "y": [
          1.5,
          0.0,
          0.0,
          4.9,
          4.9,
          5.1,
          5.1,
          9.9,
          9.9,
          10.1,
          10.1,
          15.0,
          15.0,
          13.6,
          13.6,
          15.0,
          15.0,
          13.6,
          13.6,
          15.0,
          15.0,
          10.1,
          10.1,
          9.9,
          9.9,
          5.1,
          5.1,
          4.9,
          4.9,
          0.0,
          0.0,
          1.5,
          1.5,
          0.0,
          0.0,
          1.5,
          1.5
         ],
         "type": "scatter"
        },
        {
         "hoverinfo": "name",
         "line": {
          "color": "white"
         },
         "mode": "lines",
         "name": "Obstacle",
         "showlegend": false,
         "x": [
          10.1,
          11.5,
          11.5,
          10.1,
          10.1,
          9.9,
          9.9,
          8.6,
          8.6,
          9.9,
          9.9,
          10.1,
          10.1
         ],
         "y": [
          5.1,
          5.1,
          4.9,
          4.9,
          3.6,
          3.6,
          4.9,
          4.9,
          5.1,
          5.1,
          6.5,
          6.5,
          5.1
         ],
         "type": "scatter"
        },
        {
         "hoverinfo": "name",
         "line": {
          "color": "white"
         },
         "mode": "lines",
         "name": "Obstacle",
         "showlegend": false,
         "x": [
          10.1,
          11.5,
          11.5,
          10.1,
          10.1,
          9.9,
          9.9,
          8.6,
          8.6,
          9.9,
          9.9,
          10.1,
          10.1
         ],
         "y": [
          10.1,
          10.1,
          9.9,
          9.9,
          8.6,
          8.6,
          9.9,
          9.9,
          10.1,
          10.1,
          11.5,
          11.5,
          10.1
         ],
         "type": "scatter"
        },
        {
         "hoverinfo": "name",
         "line": {
          "color": "white"
         },
         "mode": "lines",
         "name": "Obstacle",
         "showlegend": false,
         "x": [
          5.1,
          6.4,
          6.4,
          5.1,
          5.1,
          4.9,
          4.9,
          3.6,
          3.6,
          4.9,
          4.9,
          5.1,
          5.1
         ],
         "y": [
          5.1,
          5.1,
          4.9,
          4.9,
          3.6,
          3.6,
          4.9,
          4.9,
          5.1,
          5.1,
          6.5,
          6.5,
          5.1
         ],
         "type": "scatter"
        },
        {
         "hoverinfo": "name",
         "line": {
          "color": "white"
         },
         "mode": "lines",
         "name": "Obstacle",
         "showlegend": false,
         "x": [
          5.1,
          6.4,
          6.4,
          5.1,
          5.1,
          4.9,
          4.9,
          3.6,
          3.6,
          4.9,
          4.9,
          5.1,
          5.1
         ],
         "y": [
          10.1,
          10.1,
          9.9,
          9.9,
          8.6,
          8.6,
          9.9,
          9.9,
          10.1,
          10.1,
          11.5,
          11.5,
          10.1
         ],
         "type": "scatter"
        },
        {
         "fill": "toself",
         "fillcolor": "rgb(25, 0, 0)",
         "hoverinfo": "name",
         "line": {
          "width": 0
         },
         "mode": "lines",
         "name": "Risk Area",
         "showlegend": false,
         "x": [
          1.5,
          1.5,
          3.6,
          3.6,
          4.9,
          4.9,
          5.0,
          5.0,
          4.9,
          4.9,
          0.0,
          0.0,
          1.5
         ],
         "y": [
          4.9,
          5.0,
          5.0,
          4.9,
          4.9,
          3.6,
          3.6,
          1.5,
          1.5,
          0.0,
          0.0,
          4.9,
          4.9
         ],
         "type": "scatter"
        },
        {
         "fill": "toself",
         "fillcolor": "rgb(255, 0, 0)",
         "hoverinfo": "name",
         "line": {
          "width": 0
         },
         "mode": "lines",
         "name": "Risk Area",
         "showlegend": false,
         "x": [
          9.9,
          9.9,
          5.1,
          5.1,
          5.0,
          5.0,
          5.1,
          5.1,
          6.4,
          6.4,
          8.6,
          8.6,
          9.9,
          9.9,
          10.0,
          10.0,
          9.9
         ],
         "y": [
          1.5,
          0.0,
          0.0,
          1.5,
          1.5,
          3.6,
          3.6,
          4.9,
          4.9,
          5.0,
          5.0,
          4.9,
          4.9,
          3.6,
          3.6,
          1.5,
          1.5
         ],
         "type": "scatter"
        },
        {
         "fill": "toself",
         "fillcolor": "rgb(25, 0, 0)",
         "hoverinfo": "name",
         "line": {
          "width": 0
         },
         "mode": "lines",
         "name": "Risk Area",
         "showlegend": false,
         "x": [
          13.6,
          15.0,
          15.0,
          10.1,
          10.1,
          10.0,
          10.0,
          10.1,
          10.1,
          11.5,
          11.5,
          13.6,
          13.6
         ],
         "y": [
          4.9,
          4.9,
          0.0,
          0.0,
          1.5,
          1.5,
          3.6,
          3.6,
          4.9,
          4.9,
          5.0,
          5.0,
          4.9
         ],
         "type": "scatter"
        },
        {
         "fill": "toself",
         "fillcolor": "rgb(178, 0, 0)",
         "hoverinfo": "name",
         "line": {
          "width": 0
         },
         "mode": "lines",
         "name": "Risk Area",
         "showlegend": false,
         "x": [
          13.6,
          15.0,
          15.0,
          13.6,
          13.6,
          11.5,
          11.5,
          10.1,
          10.1,
          10.0,
          10.0,
          10.1,
          10.1,
          11.5,
          11.5,
          13.6,
          13.6
         ],
         "y": [
          9.9,
          9.9,
          5.1,
          5.1,
          5.0,
          5.0,
          5.1,
          5.1,
          6.5,
          6.5,
          8.6,
          8.6,
          9.9,
          9.9,
          10.0,
          10.0,
          9.9
         ],
         "type": "scatter"
        },
        {
         "fill": "toself",
         "fillcolor": "rgb(178, 0, 0)",
         "hoverinfo": "name",
         "line": {
          "width": 0
         },
         "mode": "lines",
         "name": "Risk Area",
         "showlegend": false,
         "x": [
          9.9,
          9.9,
          8.6,
          8.6,
          6.4,
          6.4,
          5.1,
          5.1,
          5.0,
          5.0,
          5.1,
          5.1,
          6.4,
          6.4,
          8.6,
          8.6,
          9.9,
          9.9,
          10.0,
          10.0,
          9.9
         ],
         "y": [
          6.5,
          5.1,
          5.1,
          5.0,
          5.0,
          5.1,
          5.1,
          6.5,
          6.5,
          8.6,
          8.6,
          9.9,
          9.9,
          10.0,
          10.0,
          9.9,
          9.9,
          8.6,
          8.6,
          6.5,
          6.5
         ],
         "type": "scatter"
        },
        {
         "fill": "toself",
         "fillcolor": "rgb(127, 0, 0)",
         "hoverinfo": "name",
         "line": {
          "width": 0
         },
         "mode": "lines",
         "name": "Risk Area",
         "showlegend": false,
         "x": [
          4.9,
          4.9,
          3.6,
          3.6,
          1.5,
          1.5,
          0.0,
          0.0,
          1.5,
          1.5,
          3.6,
          3.6,
          4.9,
          4.9,
          5.0,
          5.0,
          4.9
         ],
         "y": [
          6.5,
          5.1,
          5.1,
          5.0,
          5.0,
          5.1,
          5.1,
          9.9,
          9.9,
          10.0,
          10.0,
          9.9,
          9.9,
          8.6,
          8.6,
          6.5,
          6.5
         ],
         "type": "scatter"
        },
        {
         "fill": "toself",
         "fillcolor": "rgb(127, 0, 0)",
         "hoverinfo": "name",
         "line": {
          "width": 0
         },
         "mode": "lines",
         "name": "Risk Area",
         "showlegend": false,
         "x": [
          1.5,
          0.0,
          0.0,
          4.9,
          4.9,
          5.0,
          5.0,
          4.9,
          4.9,
          3.6,
          3.6,
          1.5,
          1.5
         ],
         "y": [
          10.1,
          10.1,
          15.0,
          15.0,
          13.6,
          13.6,
          11.5,
          11.5,
          10.1,
          10.1,
          10.0,
          10.0,
          10.1
         ],
         "type": "scatter"
        },
        {
         "fill": "toself",
         "fillcolor": "rgb(76, 0, 0)",
         "hoverinfo": "name",
         "line": {
          "width": 0
         },
         "mode": "lines",
         "name": "Risk Area",
         "showlegend": false,
         "x": [
          6.4,
          5.1,
          5.1,
          5.0,
          5.0,
          5.1,
          5.1,
          9.9,
          9.9,
          10.0,
          10.0,
          9.9,
          9.9,
          8.6,
          8.6,
          6.4,
          6.4
         ],
         "y": [
          10.1,
          10.1,
          11.5,
          11.5,
          13.6,
          13.6,
          15.0,
          15.0,
          13.6,
          13.6,
          11.5,
          11.5,
          10.1,
          10.1,
          10.0,
          10.0,
          10.1
         ],
         "type": "scatter"
        },
        {
         "fill": "toself",
         "fillcolor": "rgb(76, 0, 0)",
         "hoverinfo": "name",
         "line": {
          "width": 0
         },
         "mode": "lines",
         "name": "Risk Area",
         "showlegend": false,
         "x": [
          10.1,
          10.1,
          15.0,
          15.0,
          13.6,
          13.6,
          11.5,
          11.5,
          10.1,
          10.1,
          10.0,
          10.0,
          10.1
         ],
         "y": [
          13.6,
          15.0,
          15.0,
          10.1,
          10.1,
          10.0,
          10.0,
          10.1,
          10.1,
          11.5,
          11.5,
          13.6,
          13.6
         ],
         "type": "scatter"
        },
        {
         "hoverinfo": "none",
         "marker": {
          "cmax": 0.8000000000000191,
          "cmin": 0,
          "color": [
           0.7999997415062419,
           0.5075973971098988,
           0.7998523749829529,
           0.7988478819166775,
           0.7992132371410413,
           0.7249901030431707,
           0.612802758593313,
           0.7999999999999988,
           0.26322573985669484,
           0.799652812025704
          ],
          "colorbar": {
           "title": {
            "text": "Speed [m/s]"
           }
          },
          "colorscale": [
           [
            0.0,
            "rgb(128,0,0)"
           ],
           [
            0.2,
            "rgb(250,0,0)"
           ],
           [
            0.4,
            "rgb(255,255,0)"
           ],
           [
            0.6,
            "rgb(5,255,255)"
           ],
           [
            0.8,
            "rgb(0,60,170)"
           ],
           [
            1.0,
            "rgb(0,0,131)"
           ]
          ],
          "size": [
           0.4,
           0.4,
           0.4,
           0.4,
           0.4,
           0.4,
           0.4,
           0.4,
           0.4,
           0.4
          ]
         },
         "mode": "markers",
         "showlegend": false,
         "text": [
          0.7999997415062419,
          0.5075973971098988,
          0.7998523749829529,
          0.7988478819166775,
          0.7992132371410413,
          0.7249901030431707,
          0.612802758593313,
          0.7999999999999988,
          0.26322573985669484,
          0.799652812025704
         ],
         "x": [
          3.9863327738146737,
          0.8488279016949318,
          1.7258968673840784,
          2.116160882427272,
          1.692259232863783,
          1.453767774845684,
          3.0719865838614573,
          3.48879726462054,
          1.7042831428492793,
          1.7565776142251517
         ],
         "y": [
          4.268834270066489,
          1.6370406488593048,
          1.5962220773638665,
          3.5204353653542206,
          2.7972929381969065,
          3.6607508930614516,
          4.234745501580994,
          1.9561046634672852,
          3.3139640340517103,
          2.253852105302265
         ],
         "type": "scatter"
        },
        {
         "hoverinfo": "text",
         "marker": {
          "opacity": 1,
          "size": 1
         },
         "mode": "markers",
         "showlegend": false,
         "text": [
          "ID: 101, Pos(3.99,4.27)"
         ],
         "x": [
          3.9863327738146737
         ],
         "y": [
          4.268834270066489
         ],
         "type": "scatter"
        },
        {
         "hoverinfo": "text",
         "marker": {
          "opacity": 1,
          "size": 1
         },
         "mode": "markers",
         "showlegend": false,
         "text": [
          "ID: 102, Pos(0.85,1.64)"
         ],
         "x": [
          0.8488279016949318
         ],
         "y": [
          1.6370406488593048
         ],
         "type": "scatter"
        },
        {
         "hoverinfo": "text",
         "marker": {
          "opacity": 1,
          "size": 1
         },
         "mode": "markers",
         "showlegend": false,
         "text": [
          "ID: 103, Pos(1.73,1.60)"
         ],
         "x": [
          1.7258968673840784
         ],
         "y": [
          1.5962220773638665
         ],
         "type": "scatter"
        },
        {
         "hoverinfo": "text",
         "marker": {
          "opacity": 1,
          "size": 1
         },
         "mode": "markers",
         "showlegend": false,
         "text": [
          "ID: 104, Pos(2.12,3.52)"
         ],
         "x": [
          2.116160882427272
         ],
         "y": [
          3.5204353653542206
         ],
         "type": "scatter"
        },
        {
         "hoverinfo": "text",
         "marker": {
          "opacity": 1,
          "size": 1
         },
         "mode": "markers",
         "showlegend": false,
         "text": [
          "ID: 105, Pos(1.69,2.80)"
         ],
         "x": [
          1.692259232863783
         ],
         "y": [
          2.7972929381969065
         ],
         "type": "scatter"
        },
        {
         "hoverinfo": "text",
         "marker": {
          "opacity": 1,
          "size": 1
         },
         "mode": "markers",
         "showlegend": false,
         "text": [
          "ID: 106, Pos(1.45,3.66)"
         ],
         "x": [
          1.453767774845684
         ],
         "y": [
          3.6607508930614516
         ],
         "type": "scatter"
        },
        {
         "hoverinfo": "text",
         "marker": {
          "opacity": 1,
          "size": 1
         },
         "mode": "markers",
         "showlegend": false,
         "text": [
          "ID: 107, Pos(3.07,4.23)"
         ],
         "x": [
          3.0719865838614573
         ],
         "y": [
          4.234745501580994
         ],
         "type": "scatter"
        },
        {
         "hoverinfo": "text",
         "marker": {
          "opacity": 1,
          "size": 1
         },
         "mode": "markers",
         "showlegend": false,
         "text": [
          "ID: 108, Pos(3.49,1.96)"
         ],
         "x": [
          3.48879726462054
         ],
         "y": [
          1.9561046634672852
         ],
         "type": "scatter"
        },
        {
         "hoverinfo": "text",
         "marker": {
          "opacity": 1,
          "size": 1
         },
         "mode": "markers",
         "showlegend": false,
         "text": [
          "ID: 109, Pos(1.70,3.31)"
         ],
         "x": [
          1.7042831428492793
         ],
         "y": [
          3.3139640340517103
         ],
         "type": "scatter"
        },
        {
         "hoverinfo": "text",
         "marker": {
          "opacity": 1,
          "size": 1
         },
         "mode": "markers",
         "showlegend": false,
         "text": [
          "ID: 110, Pos(1.76,2.25)"
         ],
         "x": [
          1.7565776142251517
         ],
         "y": [
          2.253852105302265
         ],
         "type": "scatter"
        }
       ],
       "layout": {
        "shapes": [
         {
          "fillcolor": "rgba(0, 0, 128, 0.5)",
          "line": {
           "color": "rgba(0, 0, 128, 0.5)"
          },
          "type": "circle",
          "x0": 3.7863327738146735,
          "x1": 4.186332773814674,
          "xref": "x",
          "y0": 4.068834270066489,
          "y1": 4.468834270066489,
          "yref": "y"
         },
         {
          "fillcolor": "rgba(15, 248, 231, 0.5)",
          "line": {
           "color": "rgba(15, 248, 231, 0.5)"
          },
          "type": "circle",
          "x0": 0.6488279016949319,
          "x1": 1.0488279016949318,
          "xref": "x",
          "y0": 1.4370406488593048,
          "y1": 1.8370406488593047,
          "yref": "y"
         },
         {
          "fillcolor": "rgba(0, 0, 128, 0.5)",
          "line": {
           "color": "rgba(0, 0, 128, 0.5)"
          },
          "type": "circle",
          "x0": 1.5258968673840785,
          "x1": 1.9258968673840784,
          "xref": "x",
          "y0": 1.3962220773638665,
          "y1": 1.7962220773638664,
          "yref": "y"
         },
         {
          "fillcolor": "rgba(0, 0, 128, 0.5)",
          "line": {
           "color": "rgba(0, 0, 128, 0.5)"
          },
          "type": "circle",
          "x0": 1.916160882427272,
          "x1": 2.316160882427272,
          "xref": "x",
          "y0": 3.3204353653542205,
          "y1": 3.720435365354221,
          "yref": "y"
         },
         {
          "fillcolor": "rgba(0, 0, 128, 0.5)",
          "line": {
           "color": "rgba(0, 0, 128, 0.5)"
          },
          "type": "circle",
          "x0": 1.4922592328637831,
          "x1": 1.892259232863783,
          "xref": "x",
          "y0": 2.5972929381969063,
          "y1": 2.9972929381969067,
          "yref": "y"
         },
         {
          "fillcolor": "rgba(0, 0, 237, 0.5)",
          "line": {
           "color": "rgba(0, 0, 237, 0.5)"
          },
          "type": "circle",
          "x0": 1.2537677748456841,
          "x1": 1.653767774845684,
          "xref": "x",
          "y0": 3.4607508930614514,
          "y1": 3.860750893061452,
          "yref": "y"
         },
         {
          "fillcolor": "rgba(0, 112, 255, 0.5)",
          "line": {
           "color": "rgba(0, 112, 255, 0.5)"
          },
          "type": "circle",
          "x0": 2.871986583861457,
          "x1": 3.2719865838614575,
          "xref": "x",
          "y0": 4.034745501580994,
          "y1": 4.434745501580994,
          "yref": "y"
         },
         {
          "fillcolor": "rgba(0, 0, 128, 0.5)",
          "line": {
           "color": "rgba(0, 0, 128, 0.5)"
          },
          "type": "circle",
          "x0": 3.28879726462054,
          "x1": 3.6887972646205403,
          "xref": "x",
          "y0": 1.7561046634672852,
          "y1": 2.156104663467285,
          "yref": "y"
         },
         {
          "fillcolor": "rgba(255, 222, 0, 0.5)",
          "line": {
           "color": "rgba(255, 222, 0, 0.5)"
          },
          "type": "circle",
          "x0": 1.5042831428492793,
          "x1": 1.9042831428492792,
          "xref": "x",
          "y0": 3.11396403405171,
          "y1": 3.5139640340517104,
          "yref": "y"
         },
         {
          "fillcolor": "rgba(0, 0, 128, 0.5)",
          "line": {
           "color": "rgba(0, 0, 128, 0.5)"
          },
          "type": "circle",
          "x0": 1.5565776142251517,
          "x1": 1.9565776142251516,
          "xref": "x",
          "y0": 2.0538521053022647,
          "y1": 2.453852105302265,
          "yref": "y"
         },
         {
          "line": {
           "color": "white",
           "width": 3
          },
          "type": "line",
          "x0": 3.9863327738146737,
          "x1": 3.9863327738146737,
          "y0": 4.268834270066489,
          "y1": 4.268834270066489
         },
         {
          "line": {
           "color": "black",
           "width": 3
          },
          "type": "line",
          "x0": 0.8488279016949318,
          "x1": 0.8488279016949318,
          "y0": 1.6370406488593048,
          "y1": 1.6370406488593048
         },
         {
          "line": {
           "color": "white",
           "width": 3
          },
          "type": "line",
          "x0": 1.7258968673840784,
          "x1": 1.7258968673840784,
          "y0": 1.5962220773638665,
          "y1": 1.5962220773638665
         },
         {
          "line": {
           "color": "white",
           "width": 3
          },
          "type": "line",
          "x0": 2.116160882427272,
          "x1": 2.116160882427272,
          "y0": 3.5204353653542206,
          "y1": 3.5204353653542206
         },
         {
          "line": {
           "color": "white",
           "width": 3
          },
          "type": "line",
          "x0": 1.692259232863783,
          "x1": 1.692259232863783,
          "y0": 2.7972929381969065,
          "y1": 2.7972929381969065
         },
         {
          "line": {
           "color": "white",
           "width": 3
          },
          "type": "line",
          "x0": 1.453767774845684,
          "x1": 1.453767774845684,
          "y0": 3.6607508930614516,
          "y1": 3.6607508930614516
         },
         {
          "line": {
           "color": "white",
           "width": 3
          },
          "type": "line",
          "x0": 3.0719865838614573,
          "x1": 3.0719865838614573,
          "y0": 4.234745501580994,
          "y1": 4.234745501580994
         },
         {
          "line": {
           "color": "white",
           "width": 3
          },
          "type": "line",
          "x0": 3.48879726462054,
          "x1": 3.48879726462054,
          "y0": 1.9561046634672852,
          "y1": 1.9561046634672852
         },
         {
          "line": {
           "color": "black",
           "width": 3
          },
          "type": "line",
          "x0": 1.7042831428492793,
          "x1": 1.7042831428492793,
          "y0": 3.3139640340517103,
          "y1": 3.3139640340517103
         },
         {
          "line": {
           "color": "white",
           "width": 3
          },
          "type": "line",
          "x0": 1.7565776142251517,
          "x1": 1.7565776142251517,
          "y0": 2.253852105302265,
          "y1": 2.253852105302265
         }
        ],
        "title": {
         "text": "<b>Percentage using the shortest path: 0%  |  Number of Agents: 10</b>",
         "x": 0.5
        },
        "template": {
         "data": {
          "histogram2dcontour": [
           {
            "type": "histogram2dcontour",
            "colorbar": {
             "outlinewidth": 0,
             "ticks": ""
            },
            "colorscale": [
             [
              0.0,
              "#0d0887"
             ],
             [
              0.1111111111111111,
              "#46039f"
             ],
             [
              0.2222222222222222,
              "#7201a8"
             ],
             [
              0.3333333333333333,
              "#9c179e"
             ],
             [
              0.4444444444444444,
              "#bd3786"
             ],
             [
              0.5555555555555556,
              "#d8576b"
             ],
             [
              0.6666666666666666,
              "#ed7953"
             ],
             [
              0.7777777777777778,
              "#fb9f3a"
             ],
             [
              0.8888888888888888,
              "#fdca26"
             ],
             [
              1.0,
              "#f0f921"
             ]
            ]
           }
          ],
          "choropleth": [
           {
            "type": "choropleth",
            "colorbar": {
             "outlinewidth": 0,
             "ticks": ""
            }
           }
          ],
          "histogram2d": [
           {
            "type": "histogram2d",
            "colorbar": {
             "outlinewidth": 0,
             "ticks": ""
            },
            "colorscale": [
             [
              0.0,
              "#0d0887"
             ],
             [
              0.1111111111111111,
              "#46039f"
             ],
             [
              0.2222222222222222,
              "#7201a8"
             ],
             [
              0.3333333333333333,
              "#9c179e"
             ],
             [
              0.4444444444444444,
              "#bd3786"
             ],
             [
              0.5555555555555556,
              "#d8576b"
             ],
             [
              0.6666666666666666,
              "#ed7953"
             ],
             [
              0.7777777777777778,
              "#fb9f3a"
             ],
             [
              0.8888888888888888,
              "#fdca26"
             ],
             [
              1.0,
              "#f0f921"
             ]
            ]
           }
          ],
          "heatmap": [
           {
            "type": "heatmap",
            "colorbar": {
             "outlinewidth": 0,
             "ticks": ""
            },
            "colorscale": [
             [
              0.0,
              "#0d0887"
             ],
             [
              0.1111111111111111,
              "#46039f"
             ],
             [
              0.2222222222222222,
              "#7201a8"
             ],
             [
              0.3333333333333333,
              "#9c179e"
             ],
             [
              0.4444444444444444,
              "#bd3786"
             ],
             [
              0.5555555555555556,
              "#d8576b"
             ],
             [
              0.6666666666666666,
              "#ed7953"
             ],
             [
              0.7777777777777778,
              "#fb9f3a"
             ],
             [
              0.8888888888888888,
              "#fdca26"
             ],
             [
              1.0,
              "#f0f921"
             ]
            ]
           }
          ],
          "heatmapgl": [
           {
            "type": "heatmapgl",
            "colorbar": {
             "outlinewidth": 0,
             "ticks": ""
            },
            "colorscale": [
             [
              0.0,
              "#0d0887"
             ],
             [
              0.1111111111111111,
              "#46039f"
             ],
             [
              0.2222222222222222,
              "#7201a8"
             ],
             [
              0.3333333333333333,
              "#9c179e"
             ],
             [
              0.4444444444444444,
              "#bd3786"
             ],
             [
              0.5555555555555556,
              "#d8576b"
             ],
             [
              0.6666666666666666,
              "#ed7953"
             ],
             [
              0.7777777777777778,
              "#fb9f3a"
             ],
             [
              0.8888888888888888,
              "#fdca26"
             ],
             [
              1.0,
              "#f0f921"
             ]
            ]
           }
          ],
          "contourcarpet": [
           {
            "type": "contourcarpet",
            "colorbar": {
             "outlinewidth": 0,
             "ticks": ""
            }
           }
          ],
          "contour": [
           {
            "type": "contour",
            "colorbar": {
             "outlinewidth": 0,
             "ticks": ""
            },
            "colorscale": [
             [
              0.0,
              "#0d0887"
             ],
             [
              0.1111111111111111,
              "#46039f"
             ],
             [
              0.2222222222222222,
              "#7201a8"
             ],
             [
              0.3333333333333333,
              "#9c179e"
             ],
             [
              0.4444444444444444,
              "#bd3786"
             ],
             [
              0.5555555555555556,
              "#d8576b"
             ],
             [
              0.6666666666666666,
              "#ed7953"
             ],
             [
              0.7777777777777778,
              "#fb9f3a"
             ],
             [
              0.8888888888888888,
              "#fdca26"
             ],
             [
              1.0,
              "#f0f921"
             ]
            ]
           }
          ],
          "surface": [
           {
            "type": "surface",
            "colorbar": {
             "outlinewidth": 0,
             "ticks": ""
            },
            "colorscale": [
             [
              0.0,
              "#0d0887"
             ],
             [
              0.1111111111111111,
              "#46039f"
             ],
             [
              0.2222222222222222,
              "#7201a8"
             ],
             [
              0.3333333333333333,
              "#9c179e"
             ],
             [
              0.4444444444444444,
              "#bd3786"
             ],
             [
              0.5555555555555556,
              "#d8576b"
             ],
             [
              0.6666666666666666,
              "#ed7953"
             ],
             [
              0.7777777777777778,
              "#fb9f3a"
             ],
             [
              0.8888888888888888,
              "#fdca26"
             ],
             [
              1.0,
              "#f0f921"
             ]
            ]
           }
          ],
          "mesh3d": [
           {
            "type": "mesh3d",
            "colorbar": {
             "outlinewidth": 0,
             "ticks": ""
            }
           }
          ],
          "scatter": [
           {
            "marker": {
             "line": {
              "color": "#283442"
             }
            },
            "type": "scatter"
           }
          ],
          "parcoords": [
           {
            "type": "parcoords",
            "line": {
             "colorbar": {
              "outlinewidth": 0,
              "ticks": ""
             }
            }
           }
          ],
          "scatterpolargl": [
           {
            "type": "scatterpolargl",
            "marker": {
             "colorbar": {
              "outlinewidth": 0,
              "ticks": ""
             }
            }
           }
          ],
          "bar": [
           {
            "error_x": {
             "color": "#f2f5fa"
            },
            "error_y": {
             "color": "#f2f5fa"
            },
            "marker": {
             "line": {
              "color": "rgb(17,17,17)",
              "width": 0.5
             },
             "pattern": {
              "fillmode": "overlay",
              "size": 10,
              "solidity": 0.2
             }
            },
            "type": "bar"
           }
          ],
          "scattergeo": [
           {
            "type": "scattergeo",
            "marker": {
             "colorbar": {
              "outlinewidth": 0,
              "ticks": ""
             }
            }
           }
          ],
          "scatterpolar": [
           {
            "type": "scatterpolar",
            "marker": {
             "colorbar": {
              "outlinewidth": 0,
              "ticks": ""
             }
            }
           }
          ],
          "histogram": [
           {
            "marker": {
             "pattern": {
              "fillmode": "overlay",
              "size": 10,
              "solidity": 0.2
             }
            },
            "type": "histogram"
           }
          ],
          "scattergl": [
           {
            "marker": {
             "line": {
              "color": "#283442"
             }
            },
            "type": "scattergl"
           }
          ],
          "scatter3d": [
           {
            "type": "scatter3d",
            "line": {
             "colorbar": {
              "outlinewidth": 0,
              "ticks": ""
             }
            },
            "marker": {
             "colorbar": {
              "outlinewidth": 0,
              "ticks": ""
             }
            }
           }
          ],
          "scattermapbox": [
           {
            "type": "scattermapbox",
            "marker": {
             "colorbar": {
              "outlinewidth": 0,
              "ticks": ""
             }
            }
           }
          ],
          "scatterternary": [
           {
            "type": "scatterternary",
            "marker": {
             "colorbar": {
              "outlinewidth": 0,
              "ticks": ""
             }
            }
           }
          ],
          "scattercarpet": [
           {
            "type": "scattercarpet",
            "marker": {
             "colorbar": {
              "outlinewidth": 0,
              "ticks": ""
             }
            }
           }
          ],
          "carpet": [
           {
            "aaxis": {
             "endlinecolor": "#A2B1C6",
             "gridcolor": "#506784",
             "linecolor": "#506784",
             "minorgridcolor": "#506784",
             "startlinecolor": "#A2B1C6"
            },
            "baxis": {
             "endlinecolor": "#A2B1C6",
             "gridcolor": "#506784",
             "linecolor": "#506784",
             "minorgridcolor": "#506784",
             "startlinecolor": "#A2B1C6"
            },
            "type": "carpet"
           }
          ],
          "table": [
           {
            "cells": {
             "fill": {
              "color": "#506784"
             },
             "line": {
              "color": "rgb(17,17,17)"
             }
            },
            "header": {
             "fill": {
              "color": "#2a3f5f"
             },
             "line": {
              "color": "rgb(17,17,17)"
             }
            },
            "type": "table"
           }
          ],
          "barpolar": [
           {
            "marker": {
             "line": {
              "color": "rgb(17,17,17)",
              "width": 0.5
             },
             "pattern": {
              "fillmode": "overlay",
              "size": 10,
              "solidity": 0.2
             }
            },
            "type": "barpolar"
           }
          ],
          "pie": [
           {
            "automargin": true,
            "type": "pie"
           }
          ]
         },
         "layout": {
          "autotypenumbers": "strict",
          "colorway": [
           "#636efa",
           "#EF553B",
           "#00cc96",
           "#ab63fa",
           "#FFA15A",
           "#19d3f3",
           "#FF6692",
           "#B6E880",
           "#FF97FF",
           "#FECB52"
          ],
          "font": {
           "color": "#f2f5fa"
          },
          "hovermode": "closest",
          "hoverlabel": {
           "align": "left"
          },
          "paper_bgcolor": "rgb(17,17,17)",
          "plot_bgcolor": "rgb(17,17,17)",
          "polar": {
           "bgcolor": "rgb(17,17,17)",
           "angularaxis": {
            "gridcolor": "#506784",
            "linecolor": "#506784",
            "ticks": ""
           },
           "radialaxis": {
            "gridcolor": "#506784",
            "linecolor": "#506784",
            "ticks": ""
           }
          },
          "ternary": {
           "bgcolor": "rgb(17,17,17)",
           "aaxis": {
            "gridcolor": "#506784",
            "linecolor": "#506784",
            "ticks": ""
           },
           "baxis": {
            "gridcolor": "#506784",
            "linecolor": "#506784",
            "ticks": ""
           },
           "caxis": {
            "gridcolor": "#506784",
            "linecolor": "#506784",
            "ticks": ""
           }
          },
          "coloraxis": {
           "colorbar": {
            "outlinewidth": 0,
            "ticks": ""
           }
          },
          "colorscale": {
           "sequential": [
            [
             0.0,
             "#0d0887"
            ],
            [
             0.1111111111111111,
             "#46039f"
            ],
            [
             0.2222222222222222,
             "#7201a8"
            ],
            [
             0.3333333333333333,
             "#9c179e"
            ],
            [
             0.4444444444444444,
             "#bd3786"
            ],
            [
             0.5555555555555556,
             "#d8576b"
            ],
            [
             0.6666666666666666,
             "#ed7953"
            ],
            [
             0.7777777777777778,
             "#fb9f3a"
            ],
            [
             0.8888888888888888,
             "#fdca26"
            ],
            [
             1.0,
             "#f0f921"
            ]
           ],
           "sequentialminus": [
            [
             0.0,
             "#0d0887"
            ],
            [
             0.1111111111111111,
             "#46039f"
            ],
            [
             0.2222222222222222,
             "#7201a8"
            ],
            [
             0.3333333333333333,
             "#9c179e"
            ],
            [
             0.4444444444444444,
             "#bd3786"
            ],
            [
             0.5555555555555556,
             "#d8576b"
            ],
            [
             0.6666666666666666,
             "#ed7953"
            ],
            [
             0.7777777777777778,
             "#fb9f3a"
            ],
            [
             0.8888888888888888,
             "#fdca26"
            ],
            [
             1.0,
             "#f0f921"
            ]
           ],
           "diverging": [
            [
             0,
             "#8e0152"
            ],
            [
             0.1,
             "#c51b7d"
            ],
            [
             0.2,
             "#de77ae"
            ],
            [
             0.3,
             "#f1b6da"
            ],
            [
             0.4,
             "#fde0ef"
            ],
            [
             0.5,
             "#f7f7f7"
            ],
            [
             0.6,
             "#e6f5d0"
            ],
            [
             0.7,
             "#b8e186"
            ],
            [
             0.8,
             "#7fbc41"
            ],
            [
             0.9,
             "#4d9221"
            ],
            [
             1,
             "#276419"
            ]
           ]
          },
          "xaxis": {
           "gridcolor": "#283442",
           "linecolor": "#506784",
           "ticks": "",
           "title": {
            "standoff": 15
           },
           "zerolinecolor": "#283442",
           "automargin": true,
           "zerolinewidth": 2
          },
          "yaxis": {
           "gridcolor": "#283442",
           "linecolor": "#506784",
           "ticks": "",
           "title": {
            "standoff": 15
           },
           "zerolinecolor": "#283442",
           "automargin": true,
           "zerolinewidth": 2
          },
          "scene": {
           "xaxis": {
            "backgroundcolor": "rgb(17,17,17)",
            "gridcolor": "#506784",
            "linecolor": "#506784",
            "showbackground": true,
            "ticks": "",
            "zerolinecolor": "#C8D4E3",
            "gridwidth": 2
           },
           "yaxis": {
            "backgroundcolor": "rgb(17,17,17)",
            "gridcolor": "#506784",
            "linecolor": "#506784",
            "showbackground": true,
            "ticks": "",
            "zerolinecolor": "#C8D4E3",
            "gridwidth": 2
           },
           "zaxis": {
            "backgroundcolor": "rgb(17,17,17)",
            "gridcolor": "#506784",
            "linecolor": "#506784",
            "showbackground": true,
            "ticks": "",
            "zerolinecolor": "#C8D4E3",
            "gridwidth": 2
           }
          },
          "shapedefaults": {
           "line": {
            "color": "#f2f5fa"
           }
          },
          "annotationdefaults": {
           "arrowcolor": "#f2f5fa",
           "arrowhead": 0,
           "arrowwidth": 1
          },
          "geo": {
           "bgcolor": "rgb(17,17,17)",
           "landcolor": "rgb(17,17,17)",
           "subunitcolor": "#506784",
           "showland": true,
           "showlakes": true,
           "lakecolor": "rgb(17,17,17)"
          },
          "title": {
           "x": 0.05
          },
          "updatemenudefaults": {
           "bgcolor": "#506784",
           "borderwidth": 0
          },
          "sliderdefaults": {
           "bgcolor": "#C8D4E3",
           "borderwidth": 1,
           "bordercolor": "rgb(17,17,17)",
           "tickwidth": 0
          },
          "mapbox": {
           "style": "dark"
          }
         }
        },
        "xaxis": {
         "range": [
          -0.5,
          15.5
         ]
        },
        "yaxis": {
         "scaleanchor": "x",
         "scaleratio": 1,
         "range": [
          -0.5,
          15.5
         ]
        },
        "updatemenus": [
         {
          "buttons": [
           {
            "args": [
             null,
             {
              "frame": {
               "duration": 100,
               "redraw": true
              },
              "fromcurrent": true
             }
            ],
            "label": "Play",
            "method": "animate"
           }
          ],
          "direction": "left",
          "pad": {
           "r": 10,
           "t": 87
          },
          "showactive": false,
          "type": "buttons",
          "x": 0.1,
          "xanchor": "right",
          "y": 0,
          "yanchor": "top"
         }
        ],
        "sliders": [
         {
          "active": 0,
          "currentvalue": {
           "font": {
            "size": 20
           },
           "prefix": "Frame:",
           "visible": true,
           "xanchor": "right"
          },
          "len": 0.9,
          "pad": {
           "b": 10,
           "t": 50
          },
          "steps": [
           {
            "args": [
             [
              "0"
             ],
             {
              "frame": {
               "duration": 100,
               "redraw": true
              },
              "mode": "immediate",
              "transition": {
               "duration": 500
              }
             }
            ],
            "label": "0",
            "method": "animate"
           },
           {
            "args": [
             [
              "50"
             ],
             {
              "frame": {
               "duration": 100,
               "redraw": true
              },
              "mode": "immediate",
              "transition": {
               "duration": 500
              }
             }
            ],
            "label": "50",
            "method": "animate"
           },
           {
            "args": [
             [
              "100"
             ],
             {
              "frame": {
               "duration": 100,
               "redraw": true
              },
              "mode": "immediate",
              "transition": {
               "duration": 500
              }
             }
            ],
            "label": "100",
            "method": "animate"
           },
           {
            "args": [
             [
              "150"
             ],
             {
              "frame": {
               "duration": 100,
               "redraw": true
              },
              "mode": "immediate",
              "transition": {
               "duration": 500
              }
             }
            ],
            "label": "150",
            "method": "animate"
           },
           {
            "args": [
             [
              "200"
             ],
             {
              "frame": {
               "duration": 100,
               "redraw": true
              },
              "mode": "immediate",
              "transition": {
               "duration": 500
              }
             }
            ],
            "label": "200",
            "method": "animate"
           },
           {
            "args": [
             [
              "250"
             ],
             {
              "frame": {
               "duration": 100,
               "redraw": true
              },
              "mode": "immediate",
              "transition": {
               "duration": 500
              }
             }
            ],
            "label": "250",
            "method": "animate"
           },
           {
            "args": [
             [
              "300"
             ],
             {
              "frame": {
               "duration": 100,
               "redraw": true
              },
              "mode": "immediate",
              "transition": {
               "duration": 500
              }
             }
            ],
            "label": "300",
            "method": "animate"
           },
           {
            "args": [
             [
              "350"
             ],
             {
              "frame": {
               "duration": 100,
               "redraw": true
              },
              "mode": "immediate",
              "transition": {
               "duration": 500
              }
             }
            ],
            "label": "350",
            "method": "animate"
           },
           {
            "args": [
             [
              "400"
             ],
             {
              "frame": {
               "duration": 100,
               "redraw": true
              },
              "mode": "immediate",
              "transition": {
               "duration": 500
              }
             }
            ],
            "label": "400",
            "method": "animate"
           },
           {
            "args": [
             [
              "450"
             ],
             {
              "frame": {
               "duration": 100,
               "redraw": true
              },
              "mode": "immediate",
              "transition": {
               "duration": 500
              }
             }
            ],
            "label": "450",
            "method": "animate"
           },
           {
            "args": [
             [
              "500"
             ],
             {
              "frame": {
               "duration": 100,
               "redraw": true
              },
              "mode": "immediate",
              "transition": {
               "duration": 500
              }
             }
            ],
            "label": "500",
            "method": "animate"
           },
           {
            "args": [
             [
              "550"
             ],
             {
              "frame": {
               "duration": 100,
               "redraw": true
              },
              "mode": "immediate",
              "transition": {
               "duration": 500
              }
             }
            ],
            "label": "550",
            "method": "animate"
           },
           {
            "args": [
             [
              "600"
             ],
             {
              "frame": {
               "duration": 100,
               "redraw": true
              },
              "mode": "immediate",
              "transition": {
               "duration": 500
              }
             }
            ],
            "label": "600",
            "method": "animate"
           },
           {
            "args": [
             [
              "650"
             ],
             {
              "frame": {
               "duration": 100,
               "redraw": true
              },
              "mode": "immediate",
              "transition": {
               "duration": 500
              }
             }
            ],
            "label": "650",
            "method": "animate"
           },
           {
            "args": [
             [
              "700"
             ],
             {
              "frame": {
               "duration": 100,
               "redraw": true
              },
              "mode": "immediate",
              "transition": {
               "duration": 500
              }
             }
            ],
            "label": "700",
            "method": "animate"
           },
           {
            "args": [
             [
              "750"
             ],
             {
              "frame": {
               "duration": 100,
               "redraw": true
              },
              "mode": "immediate",
              "transition": {
               "duration": 500
              }
             }
            ],
            "label": "750",
            "method": "animate"
           },
           {
            "args": [
             [
              "800"
             ],
             {
              "frame": {
               "duration": 100,
               "redraw": true
              },
              "mode": "immediate",
              "transition": {
               "duration": 500
              }
             }
            ],
            "label": "800",
            "method": "animate"
           },
           {
            "args": [
             [
              "850"
             ],
             {
              "frame": {
               "duration": 100,
               "redraw": true
              },
              "mode": "immediate",
              "transition": {
               "duration": 500
              }
             }
            ],
            "label": "850",
            "method": "animate"
           }
          ],
          "transition": {
           "duration": 100,
           "easing": "cubic-in-out"
          },
          "x": 0.1,
          "xanchor": "left",
          "y": 0,
          "yanchor": "top"
         }
        ],
        "autosize": false,
        "width": 800,
        "height": 800
       },
       "frames": [
        {
         "data": [
          {
           "hoverinfo": "name",
           "line": {
            "color": "white"
           },
           "mode": "lines",
           "name": "Exterior",
           "showlegend": false,
           "x": [
            10.1,
            10.1,
            15.0,
            15.0,
            13.6,
            13.6,
            15.0,
            15.0,
            13.6,
            13.6,
            15.0,
            15.0,
            10.1,
            10.1,
            9.9,
            9.9,
            5.1,
            5.1,
            4.9,
            4.9,
            0.0,
            0.0,
            1.5,
            1.5,
            0.0,
            0.0,
            1.5,
            1.5,
            0.0,
            0.0,
            4.9,
            4.9,
            5.1,
            5.1,
            9.9,
            9.9,
            10.1
           ],
           "y": [
            1.5,
            0.0,
            0.0,
            4.9,
            4.9,
            5.1,
            5.1,
            9.9,
            9.9,
            10.1,
            10.1,
            15.0,
            15.0,
            13.6,
            13.6,
            15.0,
            15.0,
            13.6,
            13.6,
            15.0,
            15.0,
            10.1,
            10.1,
            9.9,
            9.9,
            5.1,
            5.1,
            4.9,
            4.9,
            0.0,
            0.0,
            1.5,
            1.5,
            0.0,
            0.0,
            1.5,
            1.5
           ],
           "type": "scatter"
          },
          {
           "hoverinfo": "name",
           "line": {
            "color": "white"
           },
           "mode": "lines",
           "name": "Obstacle",
           "showlegend": false,
           "x": [
            10.1,
            11.5,
            11.5,
            10.1,
            10.1,
            9.9,
            9.9,
            8.6,
            8.6,
            9.9,
            9.9,
            10.1,
            10.1
           ],
           "y": [
            5.1,
            5.1,
            4.9,
            4.9,
            3.6,
            3.6,
            4.9,
            4.9,
            5.1,
            5.1,
            6.5,
            6.5,
            5.1
           ],
           "type": "scatter"
          },
          {
           "hoverinfo": "name",
           "line": {
            "color": "white"
           },
           "mode": "lines",
           "name": "Obstacle",
           "showlegend": false,
           "x": [
            10.1,
            11.5,
            11.5,
            10.1,
            10.1,
            9.9,
            9.9,
            8.6,
            8.6,
            9.9,
            9.9,
            10.1,
            10.1
           ],
           "y": [
            10.1,
            10.1,
            9.9,
            9.9,
            8.6,
            8.6,
            9.9,
            9.9,
            10.1,
            10.1,
            11.5,
            11.5,
            10.1
           ],
           "type": "scatter"
          },
          {
           "hoverinfo": "name",
           "line": {
            "color": "white"
           },
           "mode": "lines",
           "name": "Obstacle",
           "showlegend": false,
           "x": [
            5.1,
            6.4,
            6.4,
            5.1,
            5.1,
            4.9,
            4.9,
            3.6,
            3.6,
            4.9,
            4.9,
            5.1,
            5.1
           ],
           "y": [
            5.1,
            5.1,
            4.9,
            4.9,
            3.6,
            3.6,
            4.9,
            4.9,
            5.1,
            5.1,
            6.5,
            6.5,
            5.1
           ],
           "type": "scatter"
          },
          {
           "hoverinfo": "name",
           "line": {
            "color": "white"
           },
           "mode": "lines",
           "name": "Obstacle",
           "showlegend": false,
           "x": [
            5.1,
            6.4,
            6.4,
            5.1,
            5.1,
            4.9,
            4.9,
            3.6,
            3.6,
            4.9,
            4.9,
            5.1,
            5.1
           ],
           "y": [
            10.1,
            10.1,
            9.9,
            9.9,
            8.6,
            8.6,
            9.9,
            9.9,
            10.1,
            10.1,
            11.5,
            11.5,
            10.1
           ],
           "type": "scatter"
          },
          {
           "fill": "toself",
           "fillcolor": "rgb(0, 0, 0)",
           "hoverinfo": "name",
           "line": {
            "width": 0
           },
           "mode": "lines",
           "name": "Risk Area",
           "showlegend": false,
           "x": [
            1.5,
            1.5,
            3.6,
            3.6,
            4.9,
            4.9,
            5.0,
            5.0,
            4.9,
            4.9,
            0.0,
            0.0,
            1.5
           ],
           "y": [
            4.9,
            5.0,
            5.0,
            4.9,
            4.9,
            3.6,
            3.6,
            1.5,
            1.5,
            0.0,
            0.0,
            4.9,
            4.9
           ],
           "type": "scatter"
          },
          {
           "fill": "toself",
           "fillcolor": "rgb(153, 0, 0)",
           "hoverinfo": "name",
           "line": {
            "width": 0
           },
           "mode": "lines",
           "name": "Risk Area",
           "showlegend": false,
           "x": [
            9.9,
            9.9,
            5.1,
            5.1,
            5.0,
            5.0,
            5.1,
            5.1,
            6.4,
            6.4,
            8.6,
            8.6,
            9.9,
            9.9,
            10.0,
            10.0,
            9.9
           ],
           "y": [
            1.5,
            0.0,
            0.0,
            1.5,
            1.5,
            3.6,
            3.6,
            4.9,
            4.9,
            5.0,
            5.0,
            4.9,
            4.9,
            3.6,
            3.6,
            1.5,
            1.5
           ],
           "type": "scatter"
          },
          {
           "fill": "toself",
           "fillcolor": "rgb(0, 0, 0)",
           "hoverinfo": "name",
           "line": {
            "width": 0
           },
           "mode": "lines",
           "name": "Risk Area",
           "showlegend": false,
           "x": [
            13.6,
            15.0,
            15.0,
            10.1,
            10.1,
            10.0,
            10.0,
            10.1,
            10.1,
            11.5,
            11.5,
            13.6,
            13.6
           ],
           "y": [
            4.9,
            4.9,
            0.0,
            0.0,
            1.5,
            1.5,
            3.6,
            3.6,
            4.9,
            4.9,
            5.0,
            5.0,
            4.9
           ],
           "type": "scatter"
          },
          {
           "fill": "toself",
           "fillcolor": "rgb(153, 0, 0)",
           "hoverinfo": "name",
           "line": {
            "width": 0
           },
           "mode": "lines",
           "name": "Risk Area",
           "showlegend": false,
           "x": [
            13.6,
            15.0,
            15.0,
            13.6,
            13.6,
            11.5,
            11.5,
            10.1,
            10.1,
            10.0,
            10.0,
            10.1,
            10.1,
            11.5,
            11.5,
            13.6,
            13.6
           ],
           "y": [
            9.9,
            9.9,
            5.1,
            5.1,
            5.0,
            5.0,
            5.1,
            5.1,
            6.5,
            6.5,
            8.6,
            8.6,
            9.9,
            9.9,
            10.0,
            10.0,
            9.9
           ],
           "type": "scatter"
          },
          {
           "fill": "toself",
           "fillcolor": "rgb(153, 0, 0)",
           "hoverinfo": "name",
           "line": {
            "width": 0
           },
           "mode": "lines",
           "name": "Risk Area",
           "showlegend": false,
           "x": [
            9.9,
            9.9,
            8.6,
            8.6,
            6.4,
            6.4,
            5.1,
            5.1,
            5.0,
            5.0,
            5.1,
            5.1,
            6.4,
            6.4,
            8.6,
            8.6,
            9.9,
            9.9,
            10.0,
            10.0,
            9.9
           ],
           "y": [
            6.5,
            5.1,
            5.1,
            5.0,
            5.0,
            5.1,
            5.1,
            6.5,
            6.5,
            8.6,
            8.6,
            9.9,
            9.9,
            10.0,
            10.0,
            9.9,
            9.9,
            8.6,
            8.6,
            6.5,
            6.5
           ],
           "type": "scatter"
          },
          {
           "fill": "toself",
           "fillcolor": "rgb(25, 0, 0)",
           "hoverinfo": "name",
           "line": {
            "width": 0
           },
           "mode": "lines",
           "name": "Risk Area",
           "showlegend": false,
           "x": [
            4.9,
            4.9,
            3.6,
            3.6,
            1.5,
            1.5,
            0.0,
            0.0,
            1.5,
            1.5,
            3.6,
            3.6,
            4.9,
            4.9,
            5.0,
            5.0,
            4.9
           ],
           "y": [
            6.5,
            5.1,
            5.1,
            5.0,
            5.0,
            5.1,
            5.1,
            9.9,
            9.9,
            10.0,
            10.0,
            9.9,
            9.9,
            8.6,
            8.6,
            6.5,
            6.5
           ],
           "type": "scatter"
          },
          {
           "fill": "toself",
           "fillcolor": "rgb(0, 0, 0)",
           "hoverinfo": "name",
           "line": {
            "width": 0
           },
           "mode": "lines",
           "name": "Risk Area",
           "showlegend": false,
           "x": [
            1.5,
            0.0,
            0.0,
            4.9,
            4.9,
            5.0,
            5.0,
            4.9,
            4.9,
            3.6,
            3.6,
            1.5,
            1.5
           ],
           "y": [
            10.1,
            10.1,
            15.0,
            15.0,
            13.6,
            13.6,
            11.5,
            11.5,
            10.1,
            10.1,
            10.0,
            10.0,
            10.1
           ],
           "type": "scatter"
          },
          {
           "fill": "toself",
           "fillcolor": "rgb(0, 0, 0)",
           "hoverinfo": "name",
           "line": {
            "width": 0
           },
           "mode": "lines",
           "name": "Risk Area",
           "showlegend": false,
           "x": [
            6.4,
            5.1,
            5.1,
            5.0,
            5.0,
            5.1,
            5.1,
            9.9,
            9.9,
            10.0,
            10.0,
            9.9,
            9.9,
            8.6,
            8.6,
            6.4,
            6.4
           ],
           "y": [
            10.1,
            10.1,
            11.5,
            11.5,
            13.6,
            13.6,
            15.0,
            15.0,
            13.6,
            13.6,
            11.5,
            11.5,
            10.1,
            10.1,
            10.0,
            10.0,
            10.1
           ],
           "type": "scatter"
          },
          {
           "fill": "toself",
           "fillcolor": "rgb(0, 0, 0)",
           "hoverinfo": "name",
           "line": {
            "width": 0
           },
           "mode": "lines",
           "name": "Risk Area",
           "showlegend": false,
           "x": [
            10.1,
            10.1,
            15.0,
            15.0,
            13.6,
            13.6,
            11.5,
            11.5,
            10.1,
            10.1,
            10.0,
            10.0,
            10.1
           ],
           "y": [
            13.6,
            15.0,
            15.0,
            10.1,
            10.1,
            10.0,
            10.0,
            10.1,
            10.1,
            11.5,
            11.5,
            13.6,
            13.6
           ],
           "type": "scatter"
          },
          {
           "hoverinfo": "text",
           "marker": {
            "opacity": 1,
            "size": 1
           },
           "mode": "markers",
           "showlegend": false,
           "text": [
            "ID: 101, Pos(3.99,4.27)"
           ],
           "x": [
            3.9863327738146737
           ],
           "y": [
            4.268834270066489
           ],
           "type": "scatter"
          },
          {
           "hoverinfo": "text",
           "marker": {
            "opacity": 1,
            "size": 1
           },
           "mode": "markers",
           "showlegend": false,
           "text": [
            "ID: 102, Pos(0.85,1.64)"
           ],
           "x": [
            0.8488279016949318
           ],
           "y": [
            1.6370406488593048
           ],
           "type": "scatter"
          },
          {
           "hoverinfo": "text",
           "marker": {
            "opacity": 1,
            "size": 1
           },
           "mode": "markers",
           "showlegend": false,
           "text": [
            "ID: 103, Pos(1.73,1.60)"
           ],
           "x": [
            1.7258968673840784
           ],
           "y": [
            1.5962220773638665
           ],
           "type": "scatter"
          },
          {
           "hoverinfo": "text",
           "marker": {
            "opacity": 1,
            "size": 1
           },
           "mode": "markers",
           "showlegend": false,
           "text": [
            "ID: 104, Pos(2.12,3.52)"
           ],
           "x": [
            2.116160882427272
           ],
           "y": [
            3.5204353653542206
           ],
           "type": "scatter"
          },
          {
           "hoverinfo": "text",
           "marker": {
            "opacity": 1,
            "size": 1
           },
           "mode": "markers",
           "showlegend": false,
           "text": [
            "ID: 105, Pos(1.69,2.80)"
           ],
           "x": [
            1.692259232863783
           ],
           "y": [
            2.7972929381969065
           ],
           "type": "scatter"
          },
          {
           "hoverinfo": "text",
           "marker": {
            "opacity": 1,
            "size": 1
           },
           "mode": "markers",
           "showlegend": false,
           "text": [
            "ID: 106, Pos(1.45,3.66)"
           ],
           "x": [
            1.453767774845684
           ],
           "y": [
            3.6607508930614516
           ],
           "type": "scatter"
          },
          {
           "hoverinfo": "text",
           "marker": {
            "opacity": 1,
            "size": 1
           },
           "mode": "markers",
           "showlegend": false,
           "text": [
            "ID: 107, Pos(3.07,4.23)"
           ],
           "x": [
            3.0719865838614573
           ],
           "y": [
            4.234745501580994
           ],
           "type": "scatter"
          },
          {
           "hoverinfo": "text",
           "marker": {
            "opacity": 1,
            "size": 1
           },
           "mode": "markers",
           "showlegend": false,
           "text": [
            "ID: 108, Pos(3.49,1.96)"
           ],
           "x": [
            3.48879726462054
           ],
           "y": [
            1.9561046634672852
           ],
           "type": "scatter"
          },
          {
           "hoverinfo": "text",
           "marker": {
            "opacity": 1,
            "size": 1
           },
           "mode": "markers",
           "showlegend": false,
           "text": [
            "ID: 109, Pos(1.70,3.31)"
           ],
           "x": [
            1.7042831428492793
           ],
           "y": [
            3.3139640340517103
           ],
           "type": "scatter"
          },
          {
           "hoverinfo": "text",
           "marker": {
            "opacity": 1,
            "size": 1
           },
           "mode": "markers",
           "showlegend": false,
           "text": [
            "ID: 110, Pos(1.76,2.25)"
           ],
           "x": [
            1.7565776142251517
           ],
           "y": [
            2.253852105302265
           ],
           "type": "scatter"
          }
         ],
         "layout": {
          "shapes": [
           {
            "fillcolor": "rgba(0, 0, 128, 0.5)",
            "line": {
             "color": "rgba(0, 0, 128, 0.5)"
            },
            "type": "circle",
            "x0": 3.7863327738146735,
            "x1": 4.186332773814674,
            "xref": "x",
            "y0": 4.068834270066489,
            "y1": 4.468834270066489,
            "yref": "y"
           },
           {
            "fillcolor": "rgba(15, 248, 231, 0.5)",
            "line": {
             "color": "rgba(15, 248, 231, 0.5)"
            },
            "type": "circle",
            "x0": 0.6488279016949319,
            "x1": 1.0488279016949318,
            "xref": "x",
            "y0": 1.4370406488593048,
            "y1": 1.8370406488593047,
            "yref": "y"
           },
           {
            "fillcolor": "rgba(0, 0, 128, 0.5)",
            "line": {
             "color": "rgba(0, 0, 128, 0.5)"
            },
            "type": "circle",
            "x0": 1.5258968673840785,
            "x1": 1.9258968673840784,
            "xref": "x",
            "y0": 1.3962220773638665,
            "y1": 1.7962220773638664,
            "yref": "y"
           },
           {
            "fillcolor": "rgba(0, 0, 128, 0.5)",
            "line": {
             "color": "rgba(0, 0, 128, 0.5)"
            },
            "type": "circle",
            "x0": 1.916160882427272,
            "x1": 2.316160882427272,
            "xref": "x",
            "y0": 3.3204353653542205,
            "y1": 3.720435365354221,
            "yref": "y"
           },
           {
            "fillcolor": "rgba(0, 0, 128, 0.5)",
            "line": {
             "color": "rgba(0, 0, 128, 0.5)"
            },
            "type": "circle",
            "x0": 1.4922592328637831,
            "x1": 1.892259232863783,
            "xref": "x",
            "y0": 2.5972929381969063,
            "y1": 2.9972929381969067,
            "yref": "y"
           },
           {
            "fillcolor": "rgba(0, 0, 237, 0.5)",
            "line": {
             "color": "rgba(0, 0, 237, 0.5)"
            },
            "type": "circle",
            "x0": 1.2537677748456841,
            "x1": 1.653767774845684,
            "xref": "x",
            "y0": 3.4607508930614514,
            "y1": 3.860750893061452,
            "yref": "y"
           },
           {
            "fillcolor": "rgba(0, 112, 255, 0.5)",
            "line": {
             "color": "rgba(0, 112, 255, 0.5)"
            },
            "type": "circle",
            "x0": 2.871986583861457,
            "x1": 3.2719865838614575,
            "xref": "x",
            "y0": 4.034745501580994,
            "y1": 4.434745501580994,
            "yref": "y"
           },
           {
            "fillcolor": "rgba(0, 0, 128, 0.5)",
            "line": {
             "color": "rgba(0, 0, 128, 0.5)"
            },
            "type": "circle",
            "x0": 3.28879726462054,
            "x1": 3.6887972646205403,
            "xref": "x",
            "y0": 1.7561046634672852,
            "y1": 2.156104663467285,
            "yref": "y"
           },
           {
            "fillcolor": "rgba(255, 222, 0, 0.5)",
            "line": {
             "color": "rgba(255, 222, 0, 0.5)"
            },
            "type": "circle",
            "x0": 1.5042831428492793,
            "x1": 1.9042831428492792,
            "xref": "x",
            "y0": 3.11396403405171,
            "y1": 3.5139640340517104,
            "yref": "y"
           },
           {
            "fillcolor": "rgba(0, 0, 128, 0.5)",
            "line": {
             "color": "rgba(0, 0, 128, 0.5)"
            },
            "type": "circle",
            "x0": 1.5565776142251517,
            "x1": 1.9565776142251516,
            "xref": "x",
            "y0": 2.0538521053022647,
            "y1": 2.453852105302265,
            "yref": "y"
           },
           {
            "line": {
             "color": "white",
             "width": 3
            },
            "type": "line",
            "x0": 3.9863327738146737,
            "x1": 3.9863327738146737,
            "y0": 4.268834270066489,
            "y1": 4.268834270066489
           },
           {
            "line": {
             "color": "black",
             "width": 3
            },
            "type": "line",
            "x0": 0.8488279016949318,
            "x1": 0.8488279016949318,
            "y0": 1.6370406488593048,
            "y1": 1.6370406488593048
           },
           {
            "line": {
             "color": "white",
             "width": 3
            },
            "type": "line",
            "x0": 1.7258968673840784,
            "x1": 1.7258968673840784,
            "y0": 1.5962220773638665,
            "y1": 1.5962220773638665
           },
           {
            "line": {
             "color": "white",
             "width": 3
            },
            "type": "line",
            "x0": 2.116160882427272,
            "x1": 2.116160882427272,
            "y0": 3.5204353653542206,
            "y1": 3.5204353653542206
           },
           {
            "line": {
             "color": "white",
             "width": 3
            },
            "type": "line",
            "x0": 1.692259232863783,
            "x1": 1.692259232863783,
            "y0": 2.7972929381969065,
            "y1": 2.7972929381969065
           },
           {
            "line": {
             "color": "white",
             "width": 3
            },
            "type": "line",
            "x0": 1.453767774845684,
            "x1": 1.453767774845684,
            "y0": 3.6607508930614516,
            "y1": 3.6607508930614516
           },
           {
            "line": {
             "color": "white",
             "width": 3
            },
            "type": "line",
            "x0": 3.0719865838614573,
            "x1": 3.0719865838614573,
            "y0": 4.234745501580994,
            "y1": 4.234745501580994
           },
           {
            "line": {
             "color": "white",
             "width": 3
            },
            "type": "line",
            "x0": 3.48879726462054,
            "x1": 3.48879726462054,
            "y0": 1.9561046634672852,
            "y1": 1.9561046634672852
           },
           {
            "line": {
             "color": "black",
             "width": 3
            },
            "type": "line",
            "x0": 1.7042831428492793,
            "x1": 1.7042831428492793,
            "y0": 3.3139640340517103,
            "y1": 3.3139640340517103
           },
           {
            "line": {
             "color": "white",
             "width": 3
            },
            "type": "line",
            "x0": 1.7565776142251517,
            "x1": 1.7565776142251517,
            "y0": 2.253852105302265,
            "y1": 2.253852105302265
           }
          ],
          "title": {
           "text": "<b>Percentage using the shortest path: 0%  |  Number of Agents: 10</b>",
           "x": 0.5
          }
         },
         "name": "0"
        },
        {
         "data": [
          {
           "hoverinfo": "name",
           "line": {
            "color": "white"
           },
           "mode": "lines",
           "name": "Exterior",
           "showlegend": false,
           "x": [
            10.1,
            10.1,
            15.0,
            15.0,
            13.6,
            13.6,
            15.0,
            15.0,
            13.6,
            13.6,
            15.0,
            15.0,
            10.1,
            10.1,
            9.9,
            9.9,
            5.1,
            5.1,
            4.9,
            4.9,
            0.0,
            0.0,
            1.5,
            1.5,
            0.0,
            0.0,
            1.5,
            1.5,
            0.0,
            0.0,
            4.9,
            4.9,
            5.1,
            5.1,
            9.9,
            9.9,
            10.1
           ],
           "y": [
            1.5,
            0.0,
            0.0,
            4.9,
            4.9,
            5.1,
            5.1,
            9.9,
            9.9,
            10.1,
            10.1,
            15.0,
            15.0,
            13.6,
            13.6,
            15.0,
            15.0,
            13.6,
            13.6,
            15.0,
            15.0,
            10.1,
            10.1,
            9.9,
            9.9,
            5.1,
            5.1,
            4.9,
            4.9,
            0.0,
            0.0,
            1.5,
            1.5,
            0.0,
            0.0,
            1.5,
            1.5
           ],
           "type": "scatter"
          },
          {
           "hoverinfo": "name",
           "line": {
            "color": "white"
           },
           "mode": "lines",
           "name": "Obstacle",
           "showlegend": false,
           "x": [
            10.1,
            11.5,
            11.5,
            10.1,
            10.1,
            9.9,
            9.9,
            8.6,
            8.6,
            9.9,
            9.9,
            10.1,
            10.1
           ],
           "y": [
            5.1,
            5.1,
            4.9,
            4.9,
            3.6,
            3.6,
            4.9,
            4.9,
            5.1,
            5.1,
            6.5,
            6.5,
            5.1
           ],
           "type": "scatter"
          },
          {
           "hoverinfo": "name",
           "line": {
            "color": "white"
           },
           "mode": "lines",
           "name": "Obstacle",
           "showlegend": false,
           "x": [
            10.1,
            11.5,
            11.5,
            10.1,
            10.1,
            9.9,
            9.9,
            8.6,
            8.6,
            9.9,
            9.9,
            10.1,
            10.1
           ],
           "y": [
            10.1,
            10.1,
            9.9,
            9.9,
            8.6,
            8.6,
            9.9,
            9.9,
            10.1,
            10.1,
            11.5,
            11.5,
            10.1
           ],
           "type": "scatter"
          },
          {
           "hoverinfo": "name",
           "line": {
            "color": "white"
           },
           "mode": "lines",
           "name": "Obstacle",
           "showlegend": false,
           "x": [
            5.1,
            6.4,
            6.4,
            5.1,
            5.1,
            4.9,
            4.9,
            3.6,
            3.6,
            4.9,
            4.9,
            5.1,
            5.1
           ],
           "y": [
            5.1,
            5.1,
            4.9,
            4.9,
            3.6,
            3.6,
            4.9,
            4.9,
            5.1,
            5.1,
            6.5,
            6.5,
            5.1
           ],
           "type": "scatter"
          },
          {
           "hoverinfo": "name",
           "line": {
            "color": "white"
           },
           "mode": "lines",
           "name": "Obstacle",
           "showlegend": false,
           "x": [
            5.1,
            6.4,
            6.4,
            5.1,
            5.1,
            4.9,
            4.9,
            3.6,
            3.6,
            4.9,
            4.9,
            5.1,
            5.1
           ],
           "y": [
            10.1,
            10.1,
            9.9,
            9.9,
            8.6,
            8.6,
            9.9,
            9.9,
            10.1,
            10.1,
            11.5,
            11.5,
            10.1
           ],
           "type": "scatter"
          },
          {
           "fill": "toself",
           "fillcolor": "rgb(0, 0, 0)",
           "hoverinfo": "name",
           "line": {
            "width": 0
           },
           "mode": "lines",
           "name": "Risk Area",
           "showlegend": false,
           "x": [
            1.5,
            1.5,
            3.6,
            3.6,
            4.9,
            4.9,
            5.0,
            5.0,
            4.9,
            4.9,
            0.0,
            0.0,
            1.5
           ],
           "y": [
            4.9,
            5.0,
            5.0,
            4.9,
            4.9,
            3.6,
            3.6,
            1.5,
            1.5,
            0.0,
            0.0,
            4.9,
            4.9
           ],
           "type": "scatter"
          },
          {
           "fill": "toself",
           "fillcolor": "rgb(153, 0, 0)",
           "hoverinfo": "name",
           "line": {
            "width": 0
           },
           "mode": "lines",
           "name": "Risk Area",
           "showlegend": false,
           "x": [
            9.9,
            9.9,
            5.1,
            5.1,
            5.0,
            5.0,
            5.1,
            5.1,
            6.4,
            6.4,
            8.6,
            8.6,
            9.9,
            9.9,
            10.0,
            10.0,
            9.9
           ],
           "y": [
            1.5,
            0.0,
            0.0,
            1.5,
            1.5,
            3.6,
            3.6,
            4.9,
            4.9,
            5.0,
            5.0,
            4.9,
            4.9,
            3.6,
            3.6,
            1.5,
            1.5
           ],
           "type": "scatter"
          },
          {
           "fill": "toself",
           "fillcolor": "rgb(0, 0, 0)",
           "hoverinfo": "name",
           "line": {
            "width": 0
           },
           "mode": "lines",
           "name": "Risk Area",
           "showlegend": false,
           "x": [
            13.6,
            15.0,
            15.0,
            10.1,
            10.1,
            10.0,
            10.0,
            10.1,
            10.1,
            11.5,
            11.5,
            13.6,
            13.6
           ],
           "y": [
            4.9,
            4.9,
            0.0,
            0.0,
            1.5,
            1.5,
            3.6,
            3.6,
            4.9,
            4.9,
            5.0,
            5.0,
            4.9
           ],
           "type": "scatter"
          },
          {
           "fill": "toself",
           "fillcolor": "rgb(153, 0, 0)",
           "hoverinfo": "name",
           "line": {
            "width": 0
           },
           "mode": "lines",
           "name": "Risk Area",
           "showlegend": false,
           "x": [
            13.6,
            15.0,
            15.0,
            13.6,
            13.6,
            11.5,
            11.5,
            10.1,
            10.1,
            10.0,
            10.0,
            10.1,
            10.1,
            11.5,
            11.5,
            13.6,
            13.6
           ],
           "y": [
            9.9,
            9.9,
            5.1,
            5.1,
            5.0,
            5.0,
            5.1,
            5.1,
            6.5,
            6.5,
            8.6,
            8.6,
            9.9,
            9.9,
            10.0,
            10.0,
            9.9
           ],
           "type": "scatter"
          },
          {
           "fill": "toself",
           "fillcolor": "rgb(153, 0, 0)",
           "hoverinfo": "name",
           "line": {
            "width": 0
           },
           "mode": "lines",
           "name": "Risk Area",
           "showlegend": false,
           "x": [
            9.9,
            9.9,
            8.6,
            8.6,
            6.4,
            6.4,
            5.1,
            5.1,
            5.0,
            5.0,
            5.1,
            5.1,
            6.4,
            6.4,
            8.6,
            8.6,
            9.9,
            9.9,
            10.0,
            10.0,
            9.9
           ],
           "y": [
            6.5,
            5.1,
            5.1,
            5.0,
            5.0,
            5.1,
            5.1,
            6.5,
            6.5,
            8.6,
            8.6,
            9.9,
            9.9,
            10.0,
            10.0,
            9.9,
            9.9,
            8.6,
            8.6,
            6.5,
            6.5
           ],
           "type": "scatter"
          },
          {
           "fill": "toself",
           "fillcolor": "rgb(25, 0, 0)",
           "hoverinfo": "name",
           "line": {
            "width": 0
           },
           "mode": "lines",
           "name": "Risk Area",
           "showlegend": false,
           "x": [
            4.9,
            4.9,
            3.6,
            3.6,
            1.5,
            1.5,
            0.0,
            0.0,
            1.5,
            1.5,
            3.6,
            3.6,
            4.9,
            4.9,
            5.0,
            5.0,
            4.9
           ],
           "y": [
            6.5,
            5.1,
            5.1,
            5.0,
            5.0,
            5.1,
            5.1,
            9.9,
            9.9,
            10.0,
            10.0,
            9.9,
            9.9,
            8.6,
            8.6,
            6.5,
            6.5
           ],
           "type": "scatter"
          },
          {
           "fill": "toself",
           "fillcolor": "rgb(0, 0, 0)",
           "hoverinfo": "name",
           "line": {
            "width": 0
           },
           "mode": "lines",
           "name": "Risk Area",
           "showlegend": false,
           "x": [
            1.5,
            0.0,
            0.0,
            4.9,
            4.9,
            5.0,
            5.0,
            4.9,
            4.9,
            3.6,
            3.6,
            1.5,
            1.5
           ],
           "y": [
            10.1,
            10.1,
            15.0,
            15.0,
            13.6,
            13.6,
            11.5,
            11.5,
            10.1,
            10.1,
            10.0,
            10.0,
            10.1
           ],
           "type": "scatter"
          },
          {
           "fill": "toself",
           "fillcolor": "rgb(0, 0, 0)",
           "hoverinfo": "name",
           "line": {
            "width": 0
           },
           "mode": "lines",
           "name": "Risk Area",
           "showlegend": false,
           "x": [
            6.4,
            5.1,
            5.1,
            5.0,
            5.0,
            5.1,
            5.1,
            9.9,
            9.9,
            10.0,
            10.0,
            9.9,
            9.9,
            8.6,
            8.6,
            6.4,
            6.4
           ],
           "y": [
            10.1,
            10.1,
            11.5,
            11.5,
            13.6,
            13.6,
            15.0,
            15.0,
            13.6,
            13.6,
            11.5,
            11.5,
            10.1,
            10.1,
            10.0,
            10.0,
            10.1
           ],
           "type": "scatter"
          },
          {
           "fill": "toself",
           "fillcolor": "rgb(0, 0, 0)",
           "hoverinfo": "name",
           "line": {
            "width": 0
           },
           "mode": "lines",
           "name": "Risk Area",
           "showlegend": false,
           "x": [
            10.1,
            10.1,
            15.0,
            15.0,
            13.6,
            13.6,
            11.5,
            11.5,
            10.1,
            10.1,
            10.0,
            10.0,
            10.1
           ],
           "y": [
            13.6,
            15.0,
            15.0,
            10.1,
            10.1,
            10.0,
            10.0,
            10.1,
            10.1,
            11.5,
            11.5,
            13.6,
            13.6
           ],
           "type": "scatter"
          },
          {
           "hoverinfo": "text",
           "marker": {
            "opacity": 1,
            "size": 1
           },
           "mode": "markers",
           "showlegend": false,
           "text": [
            "ID: 101, Pos(3.62,4.57)"
           ],
           "x": [
            3.624663867004494
           ],
           "y": [
            4.572942041072394
           ],
           "type": "scatter"
          },
          {
           "hoverinfo": "text",
           "marker": {
            "opacity": 1,
            "size": 1
           },
           "mode": "markers",
           "showlegend": false,
           "text": [
            "ID: 102, Pos(1.37,2.85)"
           ],
           "x": [
            1.3726374518931295
           ],
           "y": [
            2.8458001230525047
           ],
           "type": "scatter"
          },
          {
           "hoverinfo": "text",
           "marker": {
            "opacity": 1,
            "size": 1
           },
           "mode": "markers",
           "showlegend": false,
           "text": [
            "ID: 103, Pos(2.15,1.87)"
           ],
           "x": [
            2.1468923029348774
           ],
           "y": [
            1.868570495335488
           ],
           "type": "scatter"
          },
          {
           "hoverinfo": "text",
           "marker": {
            "opacity": 1,
            "size": 1
           },
           "mode": "markers",
           "showlegend": false,
           "text": [
            "ID: 104, Pos(2.57,4.71)"
           ],
           "x": [
            2.5685625821921643
           ],
           "y": [
            4.709391544762826
           ],
           "type": "scatter"
          },
          {
           "hoverinfo": "text",
           "marker": {
            "opacity": 1,
            "size": 1
           },
           "mode": "markers",
           "showlegend": false,
           "text": [
            "ID: 105, Pos(2.14,3.19)"
           ],
           "x": [
            2.135724068214924
           ],
           "y": [
            3.1861311292691084
           ],
           "type": "scatter"
          },
          {
           "hoverinfo": "text",
           "marker": {
            "opacity": 1,
            "size": 1
           },
           "mode": "markers",
           "showlegend": false,
           "text": [
            "ID: 106, Pos(1.96,5.04)"
           ],
           "x": [
            1.960579232601007
           ],
           "y": [
            5.040717503395859
           ],
           "type": "scatter"
          },
          {
           "hoverinfo": "text",
           "marker": {
            "opacity": 1,
            "size": 1
           },
           "mode": "markers",
           "showlegend": false,
           "text": [
            "ID: 107, Pos(3.03,5.28)"
           ],
           "x": [
            3.034440411887453
           ],
           "y": [
            5.278552531984465
           ],
           "type": "scatter"
          },
          {
           "hoverinfo": "text",
           "marker": {
            "opacity": 1,
            "size": 1
           },
           "mode": "markers",
           "showlegend": false,
           "text": [
            "ID: 108, Pos(3.59,3.17)"
           ],
           "x": [
            3.5916390920039114
           ],
           "y": [
            3.1733961277269316
           ],
           "type": "scatter"
          },
          {
           "hoverinfo": "text",
           "marker": {
            "opacity": 1,
            "size": 1
           },
           "mode": "markers",
           "showlegend": false,
           "text": [
            "ID: 109, Pos(1.89,3.98)"
           ],
           "x": [
            1.887176775050277
           ],
           "y": [
            3.9845793231642537
           ],
           "type": "scatter"
          },
          {
           "hoverinfo": "text",
           "marker": {
            "opacity": 1,
            "size": 1
           },
           "mode": "markers",
           "showlegend": false,
           "text": [
            "ID: 110, Pos(2.19,2.50)"
           ],
           "x": [
            2.1870682441532456
           ],
           "y": [
            2.495098850517011
           ],
           "type": "scatter"
          }
         ],
         "layout": {
          "shapes": [
           {
            "fillcolor": "rgba(0, 128, 255, 0.5)",
            "line": {
             "color": "rgba(0, 128, 255, 0.5)"
            },
            "type": "circle",
            "x0": 3.4246638670044938,
            "x1": 3.824663867004494,
            "xref": "x",
            "y0": 4.372942041072394,
            "y1": 4.772942041072394,
            "yref": "y"
           },
           {
            "fillcolor": "rgba(0, 0, 128, 0.5)",
            "line": {
             "color": "rgba(0, 0, 128, 0.5)"
            },
            "type": "circle",
            "x0": 1.1726374518931295,
            "x1": 1.5726374518931294,
            "xref": "x",
            "y0": 2.6458001230525046,
            "y1": 3.045800123052505,
            "yref": "y"
           },
           {
            "fillcolor": "rgba(255, 178, 0, 0.5)",
            "line": {
             "color": "rgba(255, 178, 0, 0.5)"
            },
            "type": "circle",
            "x0": 1.9468923029348775,
            "x1": 2.3468923029348776,
            "xref": "x",
            "y0": 1.668570495335488,
            "y1": 2.068570495335488,
            "yref": "y"
           },
           {
            "fillcolor": "rgba(0, 0, 128, 0.5)",
            "line": {
             "color": "rgba(0, 0, 128, 0.5)"
            },
            "type": "circle",
            "x0": 2.368562582192164,
            "x1": 2.7685625821921644,
            "xref": "x",
            "y0": 4.509391544762826,
            "y1": 4.909391544762826,
            "yref": "y"
           },
           {
            "fillcolor": "rgba(90, 255, 157, 0.5)",
            "line": {
             "color": "rgba(90, 255, 157, 0.5)"
            },
            "type": "circle",
            "x0": 1.9357240682149242,
            "x1": 2.3357240682149243,
            "xref": "x",
            "y0": 2.986131129269108,
            "y1": 3.3861311292691085,
            "yref": "y"
           },
           {
            "fillcolor": "rgba(0, 0, 128, 0.5)",
            "line": {
             "color": "rgba(0, 0, 128, 0.5)"
            },
            "type": "circle",
            "x0": 1.760579232601007,
            "x1": 2.160579232601007,
            "xref": "x",
            "y0": 4.840717503395859,
            "y1": 5.240717503395859,
            "yref": "y"
           },
           {
            "fillcolor": "rgba(0, 0, 128, 0.5)",
            "line": {
             "color": "rgba(0, 0, 128, 0.5)"
            },
            "type": "circle",
            "x0": 2.834440411887453,
            "x1": 3.2344404118874532,
            "xref": "x",
            "y0": 5.078552531984465,
            "y1": 5.478552531984465,
            "yref": "y"
           },
           {
            "fillcolor": "rgba(0, 0, 128, 0.5)",
            "line": {
             "color": "rgba(0, 0, 128, 0.5)"
            },
            "type": "circle",
            "x0": 3.3916390920039112,
            "x1": 3.7916390920039116,
            "xref": "x",
            "y0": 2.9733961277269314,
            "y1": 3.3733961277269318,
            "yref": "y"
           },
           {
            "fillcolor": "rgba(0, 53, 255, 0.5)",
            "line": {
             "color": "rgba(0, 53, 255, 0.5)"
            },
            "type": "circle",
            "x0": 1.687176775050277,
            "x1": 2.087176775050277,
            "xref": "x",
            "y0": 3.7845793231642535,
            "y1": 4.184579323164254,
            "yref": "y"
           },
           {
            "fillcolor": "rgba(238, 255, 9, 0.5)",
            "line": {
             "color": "rgba(238, 255, 9, 0.5)"
            },
            "type": "circle",
            "x0": 1.9870682441532457,
            "x1": 2.387068244153246,
            "xref": "x",
            "y0": 2.295098850517011,
            "y1": 2.6950988505170113,
            "yref": "y"
           },
           {
            "line": {
             "color": "white",
             "width": 3
            },
            "type": "line",
            "x0": 3.624663867004494,
            "x1": 3.424974445443303,
            "y0": 4.572942041072394,
            "y1": 4.584083626083376
           },
           {
            "line": {
             "color": "white",
             "width": 3
            },
            "type": "line",
            "x0": 1.3726374518931295,
            "x1": 1.4105350643284174,
            "y0": 2.8458001230525047,
            "y1": 3.0421767280025462
           },
           {
            "line": {
             "color": "black",
             "width": 3
            },
            "type": "line",
            "x0": 2.1468923029348774,
            "x1": 2.1594252159539273,
            "y0": 1.868570495335488,
            "y1": 2.068177424301536
           },
           {
            "line": {
             "color": "white",
             "width": 3
            },
            "type": "line",
            "x0": 2.5685625821921643,
            "x1": 2.578214239732299,
            "y0": 4.709391544762826,
            "y1": 4.909158522781537
           },
           {
            "line": {
             "color": "black",
             "width": 3
            },
            "type": "line",
            "x0": 2.135724068214924,
            "x1": 2.1558988958439422,
            "y0": 3.1861311292691084,
            "y1": 3.3851109682733136
           },
           {
            "line": {
             "color": "white",
             "width": 3
            },
            "type": "line",
            "x0": 1.960579232601007,
            "x1": 1.9910900807831045,
            "y0": 5.040717503395859,
            "y1": 5.238376523284173
           },
           {
            "line": {
             "color": "white",
             "width": 3
            },
            "type": "line",
            "x0": 3.034440411887453,
            "x1": 2.9992777218855466,
            "y0": 5.278552531984465,
            "y1": 5.475437232334263
           },
           {
            "line": {
             "color": "white",
             "width": 3
            },
            "type": "line",
            "x0": 3.5916390920039114,
            "x1": 3.542722206616879,
            "y0": 3.1733961277269316,
            "y1": 3.3673217276977243
           },
           {
            "line": {
             "color": "white",
             "width": 3
            },
            "type": "line",
            "x0": 1.887176775050277,
            "x1": 1.91789447937893,
            "y0": 3.9845793231642537,
            "y1": 4.182206301688891
           },
           {
            "line": {
             "color": "black",
             "width": 3
            },
            "type": "line",
            "x0": 2.1870682441532456,
            "x1": 2.2064155038077296,
            "y0": 2.495098850517011,
            "y1": 2.694160859810251
           }
          ],
          "title": {
           "text": "<b>Percentage using the shortest path: 0%  |  Number of Agents: 10</b>",
           "x": 0.5
          }
         },
         "name": "50"
        },
        {
         "data": [
          {
           "hoverinfo": "name",
           "line": {
            "color": "white"
           },
           "mode": "lines",
           "name": "Exterior",
           "showlegend": false,
           "x": [
            10.1,
            10.1,
            15.0,
            15.0,
            13.6,
            13.6,
            15.0,
            15.0,
            13.6,
            13.6,
            15.0,
            15.0,
            10.1,
            10.1,
            9.9,
            9.9,
            5.1,
            5.1,
            4.9,
            4.9,
            0.0,
            0.0,
            1.5,
            1.5,
            0.0,
            0.0,
            1.5,
            1.5,
            0.0,
            0.0,
            4.9,
            4.9,
            5.1,
            5.1,
            9.9,
            9.9,
            10.1
           ],
           "y": [
            1.5,
            0.0,
            0.0,
            4.9,
            4.9,
            5.1,
            5.1,
            9.9,
            9.9,
            10.1,
            10.1,
            15.0,
            15.0,
            13.6,
            13.6,
            15.0,
            15.0,
            13.6,
            13.6,
            15.0,
            15.0,
            10.1,
            10.1,
            9.9,
            9.9,
            5.1,
            5.1,
            4.9,
            4.9,
            0.0,
            0.0,
            1.5,
            1.5,
            0.0,
            0.0,
            1.5,
            1.5
           ],
           "type": "scatter"
          },
          {
           "hoverinfo": "name",
           "line": {
            "color": "white"
           },
           "mode": "lines",
           "name": "Obstacle",
           "showlegend": false,
           "x": [
            10.1,
            11.5,
            11.5,
            10.1,
            10.1,
            9.9,
            9.9,
            8.6,
            8.6,
            9.9,
            9.9,
            10.1,
            10.1
           ],
           "y": [
            5.1,
            5.1,
            4.9,
            4.9,
            3.6,
            3.6,
            4.9,
            4.9,
            5.1,
            5.1,
            6.5,
            6.5,
            5.1
           ],
           "type": "scatter"
          },
          {
           "hoverinfo": "name",
           "line": {
            "color": "white"
           },
           "mode": "lines",
           "name": "Obstacle",
           "showlegend": false,
           "x": [
            10.1,
            11.5,
            11.5,
            10.1,
            10.1,
            9.9,
            9.9,
            8.6,
            8.6,
            9.9,
            9.9,
            10.1,
            10.1
           ],
           "y": [
            10.1,
            10.1,
            9.9,
            9.9,
            8.6,
            8.6,
            9.9,
            9.9,
            10.1,
            10.1,
            11.5,
            11.5,
            10.1
           ],
           "type": "scatter"
          },
          {
           "hoverinfo": "name",
           "line": {
            "color": "white"
           },
           "mode": "lines",
           "name": "Obstacle",
           "showlegend": false,
           "x": [
            5.1,
            6.4,
            6.4,
            5.1,
            5.1,
            4.9,
            4.9,
            3.6,
            3.6,
            4.9,
            4.9,
            5.1,
            5.1
           ],
           "y": [
            5.1,
            5.1,
            4.9,
            4.9,
            3.6,
            3.6,
            4.9,
            4.9,
            5.1,
            5.1,
            6.5,
            6.5,
            5.1
           ],
           "type": "scatter"
          },
          {
           "hoverinfo": "name",
           "line": {
            "color": "white"
           },
           "mode": "lines",
           "name": "Obstacle",
           "showlegend": false,
           "x": [
            5.1,
            6.4,
            6.4,
            5.1,
            5.1,
            4.9,
            4.9,
            3.6,
            3.6,
            4.9,
            4.9,
            5.1,
            5.1
           ],
           "y": [
            10.1,
            10.1,
            9.9,
            9.9,
            8.6,
            8.6,
            9.9,
            9.9,
            10.1,
            10.1,
            11.5,
            11.5,
            10.1
           ],
           "type": "scatter"
          },
          {
           "fill": "toself",
           "fillcolor": "rgb(0, 0, 0)",
           "hoverinfo": "name",
           "line": {
            "width": 0
           },
           "mode": "lines",
           "name": "Risk Area",
           "showlegend": false,
           "x": [
            1.5,
            1.5,
            3.6,
            3.6,
            4.9,
            4.9,
            5.0,
            5.0,
            4.9,
            4.9,
            0.0,
            0.0,
            1.5
           ],
           "y": [
            4.9,
            5.0,
            5.0,
            4.9,
            4.9,
            3.6,
            3.6,
            1.5,
            1.5,
            0.0,
            0.0,
            4.9,
            4.9
           ],
           "type": "scatter"
          },
          {
           "fill": "toself",
           "fillcolor": "rgb(204, 0, 0)",
           "hoverinfo": "name",
           "line": {
            "width": 0
           },
           "mode": "lines",
           "name": "Risk Area",
           "showlegend": false,
           "x": [
            9.9,
            9.9,
            5.1,
            5.1,
            5.0,
            5.0,
            5.1,
            5.1,
            6.4,
            6.4,
            8.6,
            8.6,
            9.9,
            9.9,
            10.0,
            10.0,
            9.9
           ],
           "y": [
            1.5,
            0.0,
            0.0,
            1.5,
            1.5,
            3.6,
            3.6,
            4.9,
            4.9,
            5.0,
            5.0,
            4.9,
            4.9,
            3.6,
            3.6,
            1.5,
            1.5
           ],
           "type": "scatter"
          },
          {
           "fill": "toself",
           "fillcolor": "rgb(0, 0, 0)",
           "hoverinfo": "name",
           "line": {
            "width": 0
           },
           "mode": "lines",
           "name": "Risk Area",
           "showlegend": false,
           "x": [
            13.6,
            15.0,
            15.0,
            10.1,
            10.1,
            10.0,
            10.0,
            10.1,
            10.1,
            11.5,
            11.5,
            13.6,
            13.6
           ],
           "y": [
            4.9,
            4.9,
            0.0,
            0.0,
            1.5,
            1.5,
            3.6,
            3.6,
            4.9,
            4.9,
            5.0,
            5.0,
            4.9
           ],
           "type": "scatter"
          },
          {
           "fill": "toself",
           "fillcolor": "rgb(153, 0, 0)",
           "hoverinfo": "name",
           "line": {
            "width": 0
           },
           "mode": "lines",
           "name": "Risk Area",
           "showlegend": false,
           "x": [
            13.6,
            15.0,
            15.0,
            13.6,
            13.6,
            11.5,
            11.5,
            10.1,
            10.1,
            10.0,
            10.0,
            10.1,
            10.1,
            11.5,
            11.5,
            13.6,
            13.6
           ],
           "y": [
            9.9,
            9.9,
            5.1,
            5.1,
            5.0,
            5.0,
            5.1,
            5.1,
            6.5,
            6.5,
            8.6,
            8.6,
            9.9,
            9.9,
            10.0,
            10.0,
            9.9
           ],
           "type": "scatter"
          },
          {
           "fill": "toself",
           "fillcolor": "rgb(153, 0, 0)",
           "hoverinfo": "name",
           "line": {
            "width": 0
           },
           "mode": "lines",
           "name": "Risk Area",
           "showlegend": false,
           "x": [
            9.9,
            9.9,
            8.6,
            8.6,
            6.4,
            6.4,
            5.1,
            5.1,
            5.0,
            5.0,
            5.1,
            5.1,
            6.4,
            6.4,
            8.6,
            8.6,
            9.9,
            9.9,
            10.0,
            10.0,
            9.9
           ],
           "y": [
            6.5,
            5.1,
            5.1,
            5.0,
            5.0,
            5.1,
            5.1,
            6.5,
            6.5,
            8.6,
            8.6,
            9.9,
            9.9,
            10.0,
            10.0,
            9.9,
            9.9,
            8.6,
            8.6,
            6.5,
            6.5
           ],
           "type": "scatter"
          },
          {
           "fill": "toself",
           "fillcolor": "rgb(25, 0, 0)",
           "hoverinfo": "name",
           "line": {
            "width": 0
           },
           "mode": "lines",
           "name": "Risk Area",
           "showlegend": false,
           "x": [
            4.9,
            4.9,
            3.6,
            3.6,
            1.5,
            1.5,
            0.0,
            0.0,
            1.5,
            1.5,
            3.6,
            3.6,
            4.9,
            4.9,
            5.0,
            5.0,
            4.9
           ],
           "y": [
            6.5,
            5.1,
            5.1,
            5.0,
            5.0,
            5.1,
            5.1,
            9.9,
            9.9,
            10.0,
            10.0,
            9.9,
            9.9,
            8.6,
            8.6,
            6.5,
            6.5
           ],
           "type": "scatter"
          },
          {
           "fill": "toself",
           "fillcolor": "rgb(51, 0, 0)",
           "hoverinfo": "name",
           "line": {
            "width": 0
           },
           "mode": "lines",
           "name": "Risk Area",
           "showlegend": false,
           "x": [
            1.5,
            0.0,
            0.0,
            4.9,
            4.9,
            5.0,
            5.0,
            4.9,
            4.9,
            3.6,
            3.6,
            1.5,
            1.5
           ],
           "y": [
            10.1,
            10.1,
            15.0,
            15.0,
            13.6,
            13.6,
            11.5,
            11.5,
            10.1,
            10.1,
            10.0,
            10.0,
            10.1
           ],
           "type": "scatter"
          },
          {
           "fill": "toself",
           "fillcolor": "rgb(0, 0, 0)",
           "hoverinfo": "name",
           "line": {
            "width": 0
           },
           "mode": "lines",
           "name": "Risk Area",
           "showlegend": false,
           "x": [
            6.4,
            5.1,
            5.1,
            5.0,
            5.0,
            5.1,
            5.1,
            9.9,
            9.9,
            10.0,
            10.0,
            9.9,
            9.9,
            8.6,
            8.6,
            6.4,
            6.4
           ],
           "y": [
            10.1,
            10.1,
            11.5,
            11.5,
            13.6,
            13.6,
            15.0,
            15.0,
            13.6,
            13.6,
            11.5,
            11.5,
            10.1,
            10.1,
            10.0,
            10.0,
            10.1
           ],
           "type": "scatter"
          },
          {
           "fill": "toself",
           "fillcolor": "rgb(0, 0, 0)",
           "hoverinfo": "name",
           "line": {
            "width": 0
           },
           "mode": "lines",
           "name": "Risk Area",
           "showlegend": false,
           "x": [
            10.1,
            10.1,
            15.0,
            15.0,
            13.6,
            13.6,
            11.5,
            11.5,
            10.1,
            10.1,
            10.0,
            10.0,
            10.1
           ],
           "y": [
            13.6,
            15.0,
            15.0,
            10.1,
            10.1,
            10.0,
            10.0,
            10.1,
            10.1,
            11.5,
            11.5,
            13.6,
            13.6
           ],
           "type": "scatter"
          },
          {
           "hoverinfo": "text",
           "marker": {
            "opacity": 1,
            "size": 1
           },
           "mode": "markers",
           "showlegend": false,
           "text": [
            "ID: 101, Pos(3.10,5.17)"
           ],
           "x": [
            3.1026552191555368
           ],
           "y": [
            5.168661575786402
           ],
           "type": "scatter"
          },
          {
           "hoverinfo": "text",
           "marker": {
            "opacity": 1,
            "size": 1
           },
           "mode": "markers",
           "showlegend": false,
           "text": [
            "ID: 102, Pos(1.62,4.38)"
           ],
           "x": [
            1.616950958507311
           ],
           "y": [
            4.382105284673975
           ],
           "type": "scatter"
          },
          {
           "hoverinfo": "text",
           "marker": {
            "opacity": 1,
            "size": 1
           },
           "mode": "markers",
           "showlegend": false,
           "text": [
            "ID: 103, Pos(2.19,2.53)"
           ],
           "x": [
            2.1876527661875698
           ],
           "y": [
            2.5265277836263325
           ],
           "type": "scatter"
          },
          {
           "hoverinfo": "text",
           "marker": {
            "opacity": 1,
            "size": 1
           },
           "mode": "markers",
           "showlegend": false,
           "text": [
            "ID: 104, Pos(2.60,5.82)"
           ],
           "x": [
            2.600331519603923
           ],
           "y": [
            5.820774304637576
           ],
           "type": "scatter"
          },
          {
           "hoverinfo": "text",
           "marker": {
            "opacity": 1,
            "size": 1
           },
           "mode": "markers",
           "showlegend": false,
           "text": [
            "ID: 105, Pos(2.33,4.41)"
           ],
           "x": [
            2.33350418913301
           ],
           "y": [
            4.41115865321033
           ],
           "type": "scatter"
          },
          {
           "hoverinfo": "text",
           "marker": {
            "opacity": 1,
            "size": 1
           },
           "mode": "markers",
           "showlegend": false,
           "text": [
            "ID: 106, Pos(2.12,6.63)"
           ],
           "x": [
            2.116749818880267
           ],
           "y": [
            6.628476473807076
           ],
           "type": "scatter"
          },
          {
           "hoverinfo": "text",
           "marker": {
            "opacity": 1,
            "size": 1
           },
           "mode": "markers",
           "showlegend": false,
           "text": [
            "ID: 107, Pos(2.87,6.86)"
           ],
           "x": [
            2.870267920081498
           ],
           "y": [
            6.863428694580823
           ],
           "type": "scatter"
          },
          {
           "hoverinfo": "text",
           "marker": {
            "opacity": 1,
            "size": 1
           },
           "mode": "markers",
           "showlegend": false,
           "text": [
            "ID: 108, Pos(3.30,4.34)"
           ],
           "x": [
            3.2988898698511058
           ],
           "y": [
            4.338910861257535
           ],
           "type": "scatter"
          },
          {
           "hoverinfo": "text",
           "marker": {
            "opacity": 1,
            "size": 1
           },
           "mode": "markers",
           "showlegend": false,
           "text": [
            "ID: 109, Pos(2.07,5.45)"
           ],
           "x": [
            2.068101577021166
           ],
           "y": [
            5.449233639679231
           ],
           "type": "scatter"
          },
          {
           "hoverinfo": "text",
           "marker": {
            "opacity": 1,
            "size": 1
           },
           "mode": "markers",
           "showlegend": false,
           "text": [
            "ID: 110, Pos(2.25,3.39)"
           ],
           "x": [
            2.2489198475130947
           ],
           "y": [
            3.387477723980477
           ],
           "type": "scatter"
          }
         ],
         "layout": {
          "shapes": [
           {
            "fillcolor": "rgba(102, 255, 144, 0.5)",
            "line": {
             "color": "rgba(102, 255, 144, 0.5)"
            },
            "type": "circle",
            "x0": 2.9026552191555366,
            "x1": 3.302655219155537,
            "xref": "x",
            "y0": 4.968661575786402,
            "y1": 5.368661575786402,
            "yref": "y"
           },
           {
            "fillcolor": "rgba(0, 0, 187, 0.5)",
            "line": {
             "color": "rgba(0, 0, 187, 0.5)"
            },
            "type": "circle",
            "x0": 1.416950958507311,
            "x1": 1.816950958507311,
            "xref": "x",
            "y0": 4.182105284673975,
            "y1": 4.582105284673975,
            "yref": "y"
           },
           {
            "fillcolor": "rgba(60, 255, 186, 0.5)",
            "line": {
             "color": "rgba(60, 255, 186, 0.5)"
            },
            "type": "circle",
            "x0": 1.9876527661875698,
            "x1": 2.38765276618757,
            "xref": "x",
            "y0": 2.3265277836263323,
            "y1": 2.7265277836263326,
            "yref": "y"
           },
           {
            "fillcolor": "rgba(0, 29, 255, 0.5)",
            "line": {
             "color": "rgba(0, 29, 255, 0.5)"
            },
            "type": "circle",
            "x0": 2.400331519603923,
            "x1": 2.8003315196039233,
            "xref": "x",
            "y0": 5.6207743046375755,
            "y1": 6.020774304637576,
            "yref": "y"
           },
           {
            "fillcolor": "rgba(0, 0, 128, 0.5)",
            "line": {
             "color": "rgba(0, 0, 128, 0.5)"
            },
            "type": "circle",
            "x0": 2.13350418913301,
            "x1": 2.5335041891330103,
            "xref": "x",
            "y0": 4.21115865321033,
            "y1": 4.61115865321033,
            "yref": "y"
           },
           {
            "fillcolor": "rgba(0, 0, 128, 0.5)",
            "line": {
             "color": "rgba(0, 0, 128, 0.5)"
            },
            "type": "circle",
            "x0": 1.9167498188802672,
            "x1": 2.3167498188802673,
            "xref": "x",
            "y0": 6.428476473807076,
            "y1": 6.8284764738070765,
            "yref": "y"
           },
           {
            "fillcolor": "rgba(0, 0, 128, 0.5)",
            "line": {
             "color": "rgba(0, 0, 128, 0.5)"
            },
            "type": "circle",
            "x0": 2.6702679200814976,
            "x1": 3.070267920081498,
            "xref": "x",
            "y0": 6.663428694580823,
            "y1": 7.063428694580823,
            "yref": "y"
           },
           {
            "fillcolor": "rgba(70, 255, 177, 0.5)",
            "line": {
             "color": "rgba(70, 255, 177, 0.5)"
            },
            "type": "circle",
            "x0": 3.0988898698511056,
            "x1": 3.498889869851106,
            "xref": "x",
            "y0": 4.138910861257535,
            "y1": 4.538910861257535,
            "yref": "y"
           },
           {
            "fillcolor": "rgba(0, 0, 155, 0.5)",
            "line": {
             "color": "rgba(0, 0, 155, 0.5)"
            },
            "type": "circle",
            "x0": 1.868101577021166,
            "x1": 2.268101577021166,
            "xref": "x",
            "y0": 5.249233639679231,
            "y1": 5.649233639679231,
            "yref": "y"
           },
           {
            "fillcolor": "rgba(0, 96, 255, 0.5)",
            "line": {
             "color": "rgba(0, 96, 255, 0.5)"
            },
            "type": "circle",
            "x0": 2.0489198475130945,
            "x1": 2.448919847513095,
            "xref": "x",
            "y0": 3.187477723980477,
            "y1": 3.587477723980477,
            "yref": "y"
           },
           {
            "line": {
             "color": "black",
             "width": 3
            },
            "type": "line",
            "x0": 3.1026552191555368,
            "x1": 3.051718629839062,
            "y0": 5.168661575786402,
            "y1": 5.362066497825126
           },
           {
            "line": {
             "color": "white",
             "width": 3
            },
            "type": "line",
            "x0": 1.616950958507311,
            "x1": 1.6512671745111955,
            "y0": 4.382105284673975,
            "y1": 4.579139285088053
           },
           {
            "line": {
             "color": "black",
             "width": 3
            },
            "type": "line",
            "x0": 2.1876527661875698,
            "x1": 2.200144565575231,
            "y0": 2.5265277836263325,
            "y1": 2.726137289782874
           },
           {
            "line": {
             "color": "white",
             "width": 3
            },
            "type": "line",
            "x0": 2.600331519603923,
            "x1": 2.6175905615058936,
            "y0": 5.820774304637576,
            "y1": 6.020028226738562
           },
           {
            "line": {
             "color": "white",
             "width": 3
            },
            "type": "line",
            "x0": 2.33350418913301,
            "x1": 2.36374602563493,
            "y0": 4.41115865321033,
            "y1": 4.608859010632847
           },
           {
            "line": {
             "color": "white",
             "width": 3
            },
            "type": "line",
            "x0": 2.116749818880267,
            "x1": 2.118472865495519,
            "y0": 6.628476473807076,
            "y1": 6.828469051445252
           },
           {
            "line": {
             "color": "white",
             "width": 3
            },
            "type": "line",
            "x0": 2.870267920081498,
            "x1": 2.867474010472574,
            "y0": 6.863428694580823,
            "y1": 7.063409178801402
           },
           {
            "line": {
             "color": "black",
             "width": 3
            },
            "type": "line",
            "x0": 3.2988898698511058,
            "x1": 3.2512708445697878,
            "y0": 4.338910861257535,
            "y1": 4.5331592291561025
           },
           {
            "line": {
             "color": "white",
             "width": 3
            },
            "type": "line",
            "x0": 2.068101577021166,
            "x1": 2.0744083119057755,
            "y0": 5.449233639679231,
            "y1": 5.649134177685249
           },
           {
            "line": {
             "color": "white",
             "width": 3
            },
            "type": "line",
            "x0": 2.2489198475130947,
            "x1": 2.26125024457371,
            "y0": 3.387477723980477,
            "y1": 3.587097265379428
           }
          ],
          "title": {
           "text": "<b>Percentage using the shortest path: 0%  |  Number of Agents: 10</b>",
           "x": 0.5
          }
         },
         "name": "100"
        },
        {
         "data": [
          {
           "hoverinfo": "name",
           "line": {
            "color": "white"
           },
           "mode": "lines",
           "name": "Exterior",
           "showlegend": false,
           "x": [
            10.1,
            10.1,
            15.0,
            15.0,
            13.6,
            13.6,
            15.0,
            15.0,
            13.6,
            13.6,
            15.0,
            15.0,
            10.1,
            10.1,
            9.9,
            9.9,
            5.1,
            5.1,
            4.9,
            4.9,
            0.0,
            0.0,
            1.5,
            1.5,
            0.0,
            0.0,
            1.5,
            1.5,
            0.0,
            0.0,
            4.9,
            4.9,
            5.1,
            5.1,
            9.9,
            9.9,
            10.1
           ],
           "y": [
            1.5,
            0.0,
            0.0,
            4.9,
            4.9,
            5.1,
            5.1,
            9.9,
            9.9,
            10.1,
            10.1,
            15.0,
            15.0,
            13.6,
            13.6,
            15.0,
            15.0,
            13.6,
            13.6,
            15.0,
            15.0,
            10.1,
            10.1,
            9.9,
            9.9,
            5.1,
            5.1,
            4.9,
            4.9,
            0.0,
            0.0,
            1.5,
            1.5,
            0.0,
            0.0,
            1.5,
            1.5
           ],
           "type": "scatter"
          },
          {
           "hoverinfo": "name",
           "line": {
            "color": "white"
           },
           "mode": "lines",
           "name": "Obstacle",
           "showlegend": false,
           "x": [
            10.1,
            11.5,
            11.5,
            10.1,
            10.1,
            9.9,
            9.9,
            8.6,
            8.6,
            9.9,
            9.9,
            10.1,
            10.1
           ],
           "y": [
            5.1,
            5.1,
            4.9,
            4.9,
            3.6,
            3.6,
            4.9,
            4.9,
            5.1,
            5.1,
            6.5,
            6.5,
            5.1
           ],
           "type": "scatter"
          },
          {
           "hoverinfo": "name",
           "line": {
            "color": "white"
           },
           "mode": "lines",
           "name": "Obstacle",
           "showlegend": false,
           "x": [
            10.1,
            11.5,
            11.5,
            10.1,
            10.1,
            9.9,
            9.9,
            8.6,
            8.6,
            9.9,
            9.9,
            10.1,
            10.1
           ],
           "y": [
            10.1,
            10.1,
            9.9,
            9.9,
            8.6,
            8.6,
            9.9,
            9.9,
            10.1,
            10.1,
            11.5,
            11.5,
            10.1
           ],
           "type": "scatter"
          },
          {
           "hoverinfo": "name",
           "line": {
            "color": "white"
           },
           "mode": "lines",
           "name": "Obstacle",
           "showlegend": false,
           "x": [
            5.1,
            6.4,
            6.4,
            5.1,
            5.1,
            4.9,
            4.9,
            3.6,
            3.6,
            4.9,
            4.9,
            5.1,
            5.1
           ],
           "y": [
            5.1,
            5.1,
            4.9,
            4.9,
            3.6,
            3.6,
            4.9,
            4.9,
            5.1,
            5.1,
            6.5,
            6.5,
            5.1
           ],
           "type": "scatter"
          },
          {
           "hoverinfo": "name",
           "line": {
            "color": "white"
           },
           "mode": "lines",
           "name": "Obstacle",
           "showlegend": false,
           "x": [
            5.1,
            6.4,
            6.4,
            5.1,
            5.1,
            4.9,
            4.9,
            3.6,
            3.6,
            4.9,
            4.9,
            5.1,
            5.1
           ],
           "y": [
            10.1,
            10.1,
            9.9,
            9.9,
            8.6,
            8.6,
            9.9,
            9.9,
            10.1,
            10.1,
            11.5,
            11.5,
            10.1
           ],
           "type": "scatter"
          },
          {
           "fill": "toself",
           "fillcolor": "rgb(0, 0, 0)",
           "hoverinfo": "name",
           "line": {
            "width": 0
           },
           "mode": "lines",
           "name": "Risk Area",
           "showlegend": false,
           "x": [
            1.5,
            1.5,
            3.6,
            3.6,
            4.9,
            4.9,
            5.0,
            5.0,
            4.9,
            4.9,
            0.0,
            0.0,
            1.5
           ],
           "y": [
            4.9,
            5.0,
            5.0,
            4.9,
            4.9,
            3.6,
            3.6,
            1.5,
            1.5,
            0.0,
            0.0,
            4.9,
            4.9
           ],
           "type": "scatter"
          },
          {
           "fill": "toself",
           "fillcolor": "rgb(255, 0, 0)",
           "hoverinfo": "name",
           "line": {
            "width": 0
           },
           "mode": "lines",
           "name": "Risk Area",
           "showlegend": false,
           "x": [
            9.9,
            9.9,
            5.1,
            5.1,
            5.0,
            5.0,
            5.1,
            5.1,
            6.4,
            6.4,
            8.6,
            8.6,
            9.9,
            9.9,
            10.0,
            10.0,
            9.9
           ],
           "y": [
            1.5,
            0.0,
            0.0,
            1.5,
            1.5,
            3.6,
            3.6,
            4.9,
            4.9,
            5.0,
            5.0,
            4.9,
            4.9,
            3.6,
            3.6,
            1.5,
            1.5
           ],
           "type": "scatter"
          },
          {
           "fill": "toself",
           "fillcolor": "rgb(0, 0, 0)",
           "hoverinfo": "name",
           "line": {
            "width": 0
           },
           "mode": "lines",
           "name": "Risk Area",
           "showlegend": false,
           "x": [
            13.6,
            15.0,
            15.0,
            10.1,
            10.1,
            10.0,
            10.0,
            10.1,
            10.1,
            11.5,
            11.5,
            13.6,
            13.6
           ],
           "y": [
            4.9,
            4.9,
            0.0,
            0.0,
            1.5,
            1.5,
            3.6,
            3.6,
            4.9,
            4.9,
            5.0,
            5.0,
            4.9
           ],
           "type": "scatter"
          },
          {
           "fill": "toself",
           "fillcolor": "rgb(153, 0, 0)",
           "hoverinfo": "name",
           "line": {
            "width": 0
           },
           "mode": "lines",
           "name": "Risk Area",
           "showlegend": false,
           "x": [
            13.6,
            15.0,
            15.0,
            13.6,
            13.6,
            11.5,
            11.5,
            10.1,
            10.1,
            10.0,
            10.0,
            10.1,
            10.1,
            11.5,
            11.5,
            13.6,
            13.6
           ],
           "y": [
            9.9,
            9.9,
            5.1,
            5.1,
            5.0,
            5.0,
            5.1,
            5.1,
            6.5,
            6.5,
            8.6,
            8.6,
            9.9,
            9.9,
            10.0,
            10.0,
            9.9
           ],
           "type": "scatter"
          },
          {
           "fill": "toself",
           "fillcolor": "rgb(153, 0, 0)",
           "hoverinfo": "name",
           "line": {
            "width": 0
           },
           "mode": "lines",
           "name": "Risk Area",
           "showlegend": false,
           "x": [
            9.9,
            9.9,
            8.6,
            8.6,
            6.4,
            6.4,
            5.1,
            5.1,
            5.0,
            5.0,
            5.1,
            5.1,
            6.4,
            6.4,
            8.6,
            8.6,
            9.9,
            9.9,
            10.0,
            10.0,
            9.9
           ],
           "y": [
            6.5,
            5.1,
            5.1,
            5.0,
            5.0,
            5.1,
            5.1,
            6.5,
            6.5,
            8.6,
            8.6,
            9.9,
            9.9,
            10.0,
            10.0,
            9.9,
            9.9,
            8.6,
            8.6,
            6.5,
            6.5
           ],
           "type": "scatter"
          },
          {
           "fill": "toself",
           "fillcolor": "rgb(76, 0, 0)",
           "hoverinfo": "name",
           "line": {
            "width": 0
           },
           "mode": "lines",
           "name": "Risk Area",
           "showlegend": false,
           "x": [
            4.9,
            4.9,
            3.6,
            3.6,
            1.5,
            1.5,
            0.0,
            0.0,
            1.5,
            1.5,
            3.6,
            3.6,
            4.9,
            4.9,
            5.0,
            5.0,
            4.9
           ],
           "y": [
            6.5,
            5.1,
            5.1,
            5.0,
            5.0,
            5.1,
            5.1,
            9.9,
            9.9,
            10.0,
            10.0,
            9.9,
            9.9,
            8.6,
            8.6,
            6.5,
            6.5
           ],
           "type": "scatter"
          },
          {
           "fill": "toself",
           "fillcolor": "rgb(51, 0, 0)",
           "hoverinfo": "name",
           "line": {
            "width": 0
           },
           "mode": "lines",
           "name": "Risk Area",
           "showlegend": false,
           "x": [
            1.5,
            0.0,
            0.0,
            4.9,
            4.9,
            5.0,
            5.0,
            4.9,
            4.9,
            3.6,
            3.6,
            1.5,
            1.5
           ],
           "y": [
            10.1,
            10.1,
            15.0,
            15.0,
            13.6,
            13.6,
            11.5,
            11.5,
            10.1,
            10.1,
            10.0,
            10.0,
            10.1
           ],
           "type": "scatter"
          },
          {
           "fill": "toself",
           "fillcolor": "rgb(0, 0, 0)",
           "hoverinfo": "name",
           "line": {
            "width": 0
           },
           "mode": "lines",
           "name": "Risk Area",
           "showlegend": false,
           "x": [
            6.4,
            5.1,
            5.1,
            5.0,
            5.0,
            5.1,
            5.1,
            9.9,
            9.9,
            10.0,
            10.0,
            9.9,
            9.9,
            8.6,
            8.6,
            6.4,
            6.4
           ],
           "y": [
            10.1,
            10.1,
            11.5,
            11.5,
            13.6,
            13.6,
            15.0,
            15.0,
            13.6,
            13.6,
            11.5,
            11.5,
            10.1,
            10.1,
            10.0,
            10.0,
            10.1
           ],
           "type": "scatter"
          },
          {
           "fill": "toself",
           "fillcolor": "rgb(0, 0, 0)",
           "hoverinfo": "name",
           "line": {
            "width": 0
           },
           "mode": "lines",
           "name": "Risk Area",
           "showlegend": false,
           "x": [
            10.1,
            10.1,
            15.0,
            15.0,
            13.6,
            13.6,
            11.5,
            11.5,
            10.1,
            10.1,
            10.0,
            10.0,
            10.1
           ],
           "y": [
            13.6,
            15.0,
            15.0,
            10.1,
            10.1,
            10.0,
            10.0,
            10.1,
            10.1,
            11.5,
            11.5,
            13.6,
            13.6
           ],
           "type": "scatter"
          },
          {
           "hoverinfo": "text",
           "marker": {
            "opacity": 1,
            "size": 1
           },
           "mode": "markers",
           "showlegend": false,
           "text": [
            "ID: 101, Pos(2.96,6.24)"
           ],
           "x": [
            2.9581676026443975
           ],
           "y": [
            6.243316523388464
           ],
           "type": "scatter"
          },
          {
           "hoverinfo": "text",
           "marker": {
            "opacity": 1,
            "size": 1
           },
           "mode": "markers",
           "showlegend": false,
           "text": [
            "ID: 102, Pos(1.94,5.15)"
           ],
           "x": [
            1.9377816298191668
           ],
           "y": [
            5.153257725681714
           ],
           "type": "scatter"
          },
          {
           "hoverinfo": "text",
           "marker": {
            "opacity": 1,
            "size": 1
           },
           "mode": "markers",
           "showlegend": false,
           "text": [
            "ID: 103, Pos(2.26,3.71)"
           ],
           "x": [
            2.2621615723924484
           ],
           "y": [
            3.7147914763581893
           ],
           "type": "scatter"
          },
          {
           "hoverinfo": "text",
           "marker": {
            "opacity": 1,
            "size": 1
           },
           "mode": "markers",
           "showlegend": false,
           "text": [
            "ID: 104, Pos(2.74,7.29)"
           ],
           "x": [
            2.737489465733495
           ],
           "y": [
            7.292000318408571
           ],
           "type": "scatter"
          },
          {
           "hoverinfo": "text",
           "marker": {
            "opacity": 1,
            "size": 1
           },
           "mode": "markers",
           "showlegend": false,
           "text": [
            "ID: 105, Pos(2.37,5.92)"
           ],
           "x": [
            2.3739785731271343
           ],
           "y": [
            5.920418627380049
           ],
           "type": "scatter"
          },
          {
           "hoverinfo": "text",
           "marker": {
            "opacity": 1,
            "size": 1
           },
           "mode": "markers",
           "showlegend": false,
           "text": [
            "ID: 106, Pos(2.13,8.23)"
           ],
           "x": [
            2.1344054310321643
           ],
           "y": [
            8.228378641372304
           ],
           "type": "scatter"
          },
          {
           "hoverinfo": "text",
           "marker": {
            "opacity": 1,
            "size": 1
           },
           "mode": "markers",
           "showlegend": false,
           "text": [
            "ID: 107, Pos(2.85,8.46)"
           ],
           "x": [
            2.8491945578620244
           ],
           "y": [
            8.463289778198781
           ],
           "type": "scatter"
          },
          {
           "hoverinfo": "text",
           "marker": {
            "opacity": 1,
            "size": 1
           },
           "mode": "markers",
           "showlegend": false,
           "text": [
            "ID: 108, Pos(3.05,5.28)"
           ],
           "x": [
            3.047171937903029
           ],
           "y": [
            5.281635062193727
           ],
           "type": "scatter"
          },
          {
           "hoverinfo": "text",
           "marker": {
            "opacity": 1,
            "size": 1
           },
           "mode": "markers",
           "showlegend": false,
           "text": [
            "ID: 109, Pos(2.05,7.03)"
           ],
           "x": [
            2.050799933307093
           ],
           "y": [
            7.031880957380289
           ],
           "type": "scatter"
          },
          {
           "hoverinfo": "text",
           "marker": {
            "opacity": 1,
            "size": 1
           },
           "mode": "markers",
           "showlegend": false,
           "text": [
            "ID: 110, Pos(2.43,4.78)"
           ],
           "x": [
            2.4298220087979896
           ],
           "y": [
            4.782187642838245
           ],
           "type": "scatter"
          }
         ],
         "layout": {
          "shapes": [
           {
            "fillcolor": "rgba(0, 37, 255, 0.5)",
            "line": {
             "color": "rgba(0, 37, 255, 0.5)"
            },
            "type": "circle",
            "x0": 2.7581676026443973,
            "x1": 3.1581676026443977,
            "xref": "x",
            "y0": 6.043316523388464,
            "y1": 6.443316523388464,
            "yref": "y"
           },
           {
            "fillcolor": "rgba(0, 88, 255, 0.5)",
            "line": {
             "color": "rgba(0, 88, 255, 0.5)"
            },
            "type": "circle",
            "x0": 1.7377816298191668,
            "x1": 2.137781629819167,
            "xref": "x",
            "y0": 4.953257725681714,
            "y1": 5.353257725681714,
            "yref": "y"
           },
           {
            "fillcolor": "rgba(0, 24, 255, 0.5)",
            "line": {
             "color": "rgba(0, 24, 255, 0.5)"
            },
            "type": "circle",
            "x0": 2.0621615723924482,
            "x1": 2.4621615723924486,
            "xref": "x",
            "y0": 3.514791476358189,
            "y1": 3.9147914763581895,
            "yref": "y"
           },
           {
            "fillcolor": "rgba(0, 0, 159, 0.5)",
            "line": {
             "color": "rgba(0, 0, 159, 0.5)"
            },
            "type": "circle",
            "x0": 2.5374894657334948,
            "x1": 2.937489465733495,
            "xref": "x",
            "y0": 7.092000318408571,
            "y1": 7.4920003184085715,
            "yref": "y"
           },
           {
            "fillcolor": "rgba(0, 0, 187, 0.5)",
            "line": {
             "color": "rgba(0, 0, 187, 0.5)"
            },
            "type": "circle",
            "x0": 2.173978573127134,
            "x1": 2.5739785731271345,
            "xref": "x",
            "y0": 5.720418627380049,
            "y1": 6.120418627380049,
            "yref": "y"
           },
           {
            "fillcolor": "rgba(0, 0, 128, 0.5)",
            "line": {
             "color": "rgba(0, 0, 128, 0.5)"
            },
            "type": "circle",
            "x0": 1.9344054310321643,
            "x1": 2.3344054310321645,
            "xref": "x",
            "y0": 8.028378641372305,
            "y1": 8.428378641372303,
            "yref": "y"
           },
           {
            "fillcolor": "rgba(0, 0, 128, 0.5)",
            "line": {
             "color": "rgba(0, 0, 128, 0.5)"
            },
            "type": "circle",
            "x0": 2.649194557862024,
            "x1": 3.0491945578620245,
            "xref": "x",
            "y0": 8.263289778198782,
            "y1": 8.66328977819878,
            "yref": "y"
           },
           {
            "fillcolor": "rgba(0, 176, 255, 0.5)",
            "line": {
             "color": "rgba(0, 176, 255, 0.5)"
            },
            "type": "circle",
            "x0": 2.847171937903029,
            "x1": 3.2471719379030293,
            "xref": "x",
            "y0": 5.081635062193727,
            "y1": 5.481635062193727,
            "yref": "y"
           },
           {
            "fillcolor": "rgba(0, 0, 128, 0.5)",
            "line": {
             "color": "rgba(0, 0, 128, 0.5)"
            },
            "type": "circle",
            "x0": 1.850799933307093,
            "x1": 2.250799933307093,
            "xref": "x",
            "y0": 6.831880957380289,
            "y1": 7.231880957380289,
            "yref": "y"
           },
           {
            "fillcolor": "rgba(0, 0, 218, 0.5)",
            "line": {
             "color": "rgba(0, 0, 218, 0.5)"
            },
            "type": "circle",
            "x0": 2.2298220087979894,
            "x1": 2.6298220087979898,
            "xref": "x",
            "y0": 4.582187642838245,
            "y1": 4.9821876428382454,
            "yref": "y"
           },
           {
            "line": {
             "color": "white",
             "width": 3
            },
            "type": "line",
            "x0": 2.9581676026443975,
            "x1": 2.9737458004841697,
            "y0": 6.243316523388464,
            "y1": 6.442708899752419
           },
           {
            "line": {
             "color": "white",
             "width": 3
            },
            "type": "line",
            "x0": 1.9377816298191668,
            "x1": 1.9506087809362653,
            "y0": 5.153257725681714,
            "y1": 5.352845962294544
           },
           {
            "line": {
             "color": "white",
             "width": 3
            },
            "type": "line",
            "x0": 2.2621615723924484,
            "x1": 2.2746532109042463,
            "y0": 3.7147914763581893,
            "y1": 3.914400992582468
           },
           {
            "line": {
             "color": "white",
             "width": 3
            },
            "type": "line",
            "x0": 2.737489465733495,
            "x1": 2.74543965890754,
            "y0": 7.292000318408571,
            "y1": 7.49184224200944
           },
           {
            "line": {
             "color": "white",
             "width": 3
            },
            "type": "line",
            "x0": 2.3739785731271343,
            "x1": 2.3574569607993467,
            "y0": 5.920418627380049,
            "y1": 6.119735050000189
           },
           {
            "line": {
             "color": "white",
             "width": 3
            },
            "type": "line",
            "x0": 2.1344054310321643,
            "x1": 2.136741989418354,
            "y0": 8.228378641372304,
            "y1": 8.42836499214382
           },
           {
            "line": {
             "color": "white",
             "width": 3
            },
            "type": "line",
            "x0": 2.8491945578620244,
            "x1": 2.8466012148951925,
            "y0": 8.463289778198781,
            "y1": 8.663272963922623
           },
           {
            "line": {
             "color": "black",
             "width": 3
            },
            "type": "line",
            "x0": 3.047171937903029,
            "x1": 3.008528492612634,
            "y0": 5.281635062193727,
            "y1": 5.477866262913919
           },
           {
            "line": {
             "color": "white",
             "width": 3
            },
            "type": "line",
            "x0": 2.050799933307093,
            "x1": 2.0496717711894674,
            "y0": 7.031880957380289,
            "y1": 7.2318777754805685
           },
           {
            "line": {
             "color": "white",
             "width": 3
            },
            "type": "line",
            "x0": 2.4298220087979896,
            "x1": 2.4850903408716047,
            "y0": 4.782187642838245,
            "y1": 4.974399534951612
           }
          ],
          "title": {
           "text": "<b>Percentage using the shortest path: 0%  |  Number of Agents: 10</b>",
           "x": 0.5
          }
         },
         "name": "150"
        },
        {
         "data": [
          {
           "hoverinfo": "name",
           "line": {
            "color": "white"
           },
           "mode": "lines",
           "name": "Exterior",
           "showlegend": false,
           "x": [
            10.1,
            10.1,
            15.0,
            15.0,
            13.6,
            13.6,
            15.0,
            15.0,
            13.6,
            13.6,
            15.0,
            15.0,
            10.1,
            10.1,
            9.9,
            9.9,
            5.1,
            5.1,
            4.9,
            4.9,
            0.0,
            0.0,
            1.5,
            1.5,
            0.0,
            0.0,
            1.5,
            1.5,
            0.0,
            0.0,
            4.9,
            4.9,
            5.1,
            5.1,
            9.9,
            9.9,
            10.1
           ],
           "y": [
            1.5,
            0.0,
            0.0,
            4.9,
            4.9,
            5.1,
            5.1,
            9.9,
            9.9,
            10.1,
            10.1,
            15.0,
            15.0,
            13.6,
            13.6,
            15.0,
            15.0,
            13.6,
            13.6,
            15.0,
            15.0,
            10.1,
            10.1,
            9.9,
            9.9,
            5.1,
            5.1,
            4.9,
            4.9,
            0.0,
            0.0,
            1.5,
            1.5,
            0.0,
            0.0,
            1.5,
            1.5
           ],
           "type": "scatter"
          },
          {
           "hoverinfo": "name",
           "line": {
            "color": "white"
           },
           "mode": "lines",
           "name": "Obstacle",
           "showlegend": false,
           "x": [
            10.1,
            11.5,
            11.5,
            10.1,
            10.1,
            9.9,
            9.9,
            8.6,
            8.6,
            9.9,
            9.9,
            10.1,
            10.1
           ],
           "y": [
            5.1,
            5.1,
            4.9,
            4.9,
            3.6,
            3.6,
            4.9,
            4.9,
            5.1,
            5.1,
            6.5,
            6.5,
            5.1
           ],
           "type": "scatter"
          },
          {
           "hoverinfo": "name",
           "line": {
            "color": "white"
           },
           "mode": "lines",
           "name": "Obstacle",
           "showlegend": false,
           "x": [
            10.1,
            11.5,
            11.5,
            10.1,
            10.1,
            9.9,
            9.9,
            8.6,
            8.6,
            9.9,
            9.9,
            10.1,
            10.1
           ],
           "y": [
            10.1,
            10.1,
            9.9,
            9.9,
            8.6,
            8.6,
            9.9,
            9.9,
            10.1,
            10.1,
            11.5,
            11.5,
            10.1
           ],
           "type": "scatter"
          },
          {
           "hoverinfo": "name",
           "line": {
            "color": "white"
           },
           "mode": "lines",
           "name": "Obstacle",
           "showlegend": false,
           "x": [
            5.1,
            6.4,
            6.4,
            5.1,
            5.1,
            4.9,
            4.9,
            3.6,
            3.6,
            4.9,
            4.9,
            5.1,
            5.1
           ],
           "y": [
            5.1,
            5.1,
            4.9,
            4.9,
            3.6,
            3.6,
            4.9,
            4.9,
            5.1,
            5.1,
            6.5,
            6.5,
            5.1
           ],
           "type": "scatter"
          },
          {
           "hoverinfo": "name",
           "line": {
            "color": "white"
           },
           "mode": "lines",
           "name": "Obstacle",
           "showlegend": false,
           "x": [
            5.1,
            6.4,
            6.4,
            5.1,
            5.1,
            4.9,
            4.9,
            3.6,
            3.6,
            4.9,
            4.9,
            5.1,
            5.1
           ],
           "y": [
            10.1,
            10.1,
            9.9,
            9.9,
            8.6,
            8.6,
            9.9,
            9.9,
            10.1,
            10.1,
            11.5,
            11.5,
            10.1
           ],
           "type": "scatter"
          },
          {
           "fill": "toself",
           "fillcolor": "rgb(0, 0, 0)",
           "hoverinfo": "name",
           "line": {
            "width": 0
           },
           "mode": "lines",
           "name": "Risk Area",
           "showlegend": false,
           "x": [
            1.5,
            1.5,
            3.6,
            3.6,
            4.9,
            4.9,
            5.0,
            5.0,
            4.9,
            4.9,
            0.0,
            0.0,
            1.5
           ],
           "y": [
            4.9,
            5.0,
            5.0,
            4.9,
            4.9,
            3.6,
            3.6,
            1.5,
            1.5,
            0.0,
            0.0,
            4.9,
            4.9
           ],
           "type": "scatter"
          },
          {
           "fill": "toself",
           "fillcolor": "rgb(255, 0, 0)",
           "hoverinfo": "name",
           "line": {
            "width": 0
           },
           "mode": "lines",
           "name": "Risk Area",
           "showlegend": false,
           "x": [
            9.9,
            9.9,
            5.1,
            5.1,
            5.0,
            5.0,
            5.1,
            5.1,
            6.4,
            6.4,
            8.6,
            8.6,
            9.9,
            9.9,
            10.0,
            10.0,
            9.9
           ],
           "y": [
            1.5,
            0.0,
            0.0,
            1.5,
            1.5,
            3.6,
            3.6,
            4.9,
            4.9,
            5.0,
            5.0,
            4.9,
            4.9,
            3.6,
            3.6,
            1.5,
            1.5
           ],
           "type": "scatter"
          },
          {
           "fill": "toself",
           "fillcolor": "rgb(0, 0, 0)",
           "hoverinfo": "name",
           "line": {
            "width": 0
           },
           "mode": "lines",
           "name": "Risk Area",
           "showlegend": false,
           "x": [
            13.6,
            15.0,
            15.0,
            10.1,
            10.1,
            10.0,
            10.0,
            10.1,
            10.1,
            11.5,
            11.5,
            13.6,
            13.6
           ],
           "y": [
            4.9,
            4.9,
            0.0,
            0.0,
            1.5,
            1.5,
            3.6,
            3.6,
            4.9,
            4.9,
            5.0,
            5.0,
            4.9
           ],
           "type": "scatter"
          },
          {
           "fill": "toself",
           "fillcolor": "rgb(153, 0, 0)",
           "hoverinfo": "name",
           "line": {
            "width": 0
           },
           "mode": "lines",
           "name": "Risk Area",
           "showlegend": false,
           "x": [
            13.6,
            15.0,
            15.0,
            13.6,
            13.6,
            11.5,
            11.5,
            10.1,
            10.1,
            10.0,
            10.0,
            10.1,
            10.1,
            11.5,
            11.5,
            13.6,
            13.6
           ],
           "y": [
            9.9,
            9.9,
            5.1,
            5.1,
            5.0,
            5.0,
            5.1,
            5.1,
            6.5,
            6.5,
            8.6,
            8.6,
            9.9,
            9.9,
            10.0,
            10.0,
            9.9
           ],
           "type": "scatter"
          },
          {
           "fill": "toself",
           "fillcolor": "rgb(178, 0, 0)",
           "hoverinfo": "name",
           "line": {
            "width": 0
           },
           "mode": "lines",
           "name": "Risk Area",
           "showlegend": false,
           "x": [
            9.9,
            9.9,
            8.6,
            8.6,
            6.4,
            6.4,
            5.1,
            5.1,
            5.0,
            5.0,
            5.1,
            5.1,
            6.4,
            6.4,
            8.6,
            8.6,
            9.9,
            9.9,
            10.0,
            10.0,
            9.9
           ],
           "y": [
            6.5,
            5.1,
            5.1,
            5.0,
            5.0,
            5.1,
            5.1,
            6.5,
            6.5,
            8.6,
            8.6,
            9.9,
            9.9,
            10.0,
            10.0,
            9.9,
            9.9,
            8.6,
            8.6,
            6.5,
            6.5
           ],
           "type": "scatter"
          },
          {
           "fill": "toself",
           "fillcolor": "rgb(127, 0, 0)",
           "hoverinfo": "name",
           "line": {
            "width": 0
           },
           "mode": "lines",
           "name": "Risk Area",
           "showlegend": false,
           "x": [
            4.9,
            4.9,
            3.6,
            3.6,
            1.5,
            1.5,
            0.0,
            0.0,
            1.5,
            1.5,
            3.6,
            3.6,
            4.9,
            4.9,
            5.0,
            5.0,
            4.9
           ],
           "y": [
            6.5,
            5.1,
            5.1,
            5.0,
            5.0,
            5.1,
            5.1,
            9.9,
            9.9,
            10.0,
            10.0,
            9.9,
            9.9,
            8.6,
            8.6,
            6.5,
            6.5
           ],
           "type": "scatter"
          },
          {
           "fill": "toself",
           "fillcolor": "rgb(51, 0, 0)",
           "hoverinfo": "name",
           "line": {
            "width": 0
           },
           "mode": "lines",
           "name": "Risk Area",
           "showlegend": false,
           "x": [
            1.5,
            0.0,
            0.0,
            4.9,
            4.9,
            5.0,
            5.0,
            4.9,
            4.9,
            3.6,
            3.6,
            1.5,
            1.5
           ],
           "y": [
            10.1,
            10.1,
            15.0,
            15.0,
            13.6,
            13.6,
            11.5,
            11.5,
            10.1,
            10.1,
            10.0,
            10.0,
            10.1
           ],
           "type": "scatter"
          },
          {
           "fill": "toself",
           "fillcolor": "rgb(0, 0, 0)",
           "hoverinfo": "name",
           "line": {
            "width": 0
           },
           "mode": "lines",
           "name": "Risk Area",
           "showlegend": false,
           "x": [
            6.4,
            5.1,
            5.1,
            5.0,
            5.0,
            5.1,
            5.1,
            9.9,
            9.9,
            10.0,
            10.0,
            9.9,
            9.9,
            8.6,
            8.6,
            6.4,
            6.4
           ],
           "y": [
            10.1,
            10.1,
            11.5,
            11.5,
            13.6,
            13.6,
            15.0,
            15.0,
            13.6,
            13.6,
            11.5,
            11.5,
            10.1,
            10.1,
            10.0,
            10.0,
            10.1
           ],
           "type": "scatter"
          },
          {
           "fill": "toself",
           "fillcolor": "rgb(0, 0, 0)",
           "hoverinfo": "name",
           "line": {
            "width": 0
           },
           "mode": "lines",
           "name": "Risk Area",
           "showlegend": false,
           "x": [
            10.1,
            10.1,
            15.0,
            15.0,
            13.6,
            13.6,
            11.5,
            11.5,
            10.1,
            10.1,
            10.0,
            10.0,
            10.1
           ],
           "y": [
            13.6,
            15.0,
            15.0,
            10.1,
            10.1,
            10.0,
            10.0,
            10.1,
            10.1,
            11.5,
            11.5,
            13.6,
            13.6
           ],
           "type": "scatter"
          },
          {
           "hoverinfo": "text",
           "marker": {
            "opacity": 1,
            "size": 1
           },
           "mode": "markers",
           "showlegend": false,
           "text": [
            "ID: 101, Pos(2.98,7.71)"
           ],
           "x": [
            2.9783188888557857
           ],
           "y": [
            7.714580207014547
           ],
           "type": "scatter"
          },
          {
           "hoverinfo": "text",
           "marker": {
            "opacity": 1,
            "size": 1
           },
           "mode": "markers",
           "showlegend": false,
           "text": [
            "ID: 102, Pos(1.89,6.73)"
           ],
           "x": [
            1.892956359929817
           ],
           "y": [
            6.729781691985519
           ],
           "type": "scatter"
          },
          {
           "hoverinfo": "text",
           "marker": {
            "opacity": 1,
            "size": 1
           },
           "mode": "markers",
           "showlegend": false,
           "text": [
            "ID: 103, Pos(2.30,5.16)"
           ],
           "x": [
            2.3010071909361285
           ],
           "y": [
            5.160696532894509
           ],
           "type": "scatter"
          },
          {
           "hoverinfo": "text",
           "marker": {
            "opacity": 1,
            "size": 1
           },
           "mode": "markers",
           "showlegend": false,
           "text": [
            "ID: 104, Pos(2.77,8.87)"
           ],
           "x": [
            2.7713432863822582
           ],
           "y": [
            8.868837364997871
           ],
           "type": "scatter"
          },
          {
           "hoverinfo": "text",
           "marker": {
            "opacity": 1,
            "size": 1
           },
           "mode": "markers",
           "showlegend": false,
           "text": [
            "ID: 105, Pos(2.28,7.46)"
           ],
           "x": [
            2.2844582084749487
           ],
           "y": [
            7.464654845682211
           ],
           "type": "scatter"
          },
          {
           "hoverinfo": "text",
           "marker": {
            "opacity": 1,
            "size": 1
           },
           "mode": "markers",
           "showlegend": false,
           "text": [
            "ID: 106, Pos(2.16,9.83)"
           ],
           "x": [
            2.1558576717530262
           ],
           "y": [
            9.828233193576795
           ],
           "type": "scatter"
          },
          {
           "hoverinfo": "text",
           "marker": {
            "opacity": 1,
            "size": 1
           },
           "mode": "markers",
           "showlegend": false,
           "text": [
            "ID: 107, Pos(2.82,10.06)"
           ],
           "x": [
            2.8245366630892716
           ],
           "y": [
            10.0630968092702
           ],
           "type": "scatter"
          },
          {
           "hoverinfo": "text",
           "marker": {
            "opacity": 1,
            "size": 1
           },
           "mode": "markers",
           "showlegend": false,
           "text": [
            "ID: 108, Pos(3.08,6.59)"
           ],
           "x": [
            3.081525036162976
           ],
           "y": [
            6.5923883849867275
           ],
           "type": "scatter"
          },
          {
           "hoverinfo": "text",
           "marker": {
            "opacity": 1,
            "size": 1
           },
           "mode": "markers",
           "showlegend": false,
           "text": [
            "ID: 109, Pos(2.07,8.63)"
           ],
           "x": [
            2.0734328712895502
           ],
           "y": [
            8.631290184922925
           ],
           "type": "scatter"
          },
          {
           "hoverinfo": "text",
           "marker": {
            "opacity": 1,
            "size": 1
           },
           "mode": "markers",
           "showlegend": false,
           "text": [
            "ID: 110, Pos(2.45,6.30)"
           ],
           "x": [
            2.4490824400434454
           ],
           "y": [
            6.301279354097642
           ],
           "type": "scatter"
          }
         ],
         "layout": {
          "shapes": [
           {
            "fillcolor": "rgba(0, 0, 164, 0.5)",
            "line": {
             "color": "rgba(0, 0, 164, 0.5)"
            },
            "type": "circle",
            "x0": 2.7783188888557855,
            "x1": 3.178318888855786,
            "xref": "x",
            "y0": 7.514580207014546,
            "y1": 7.914580207014547,
            "yref": "y"
           },
           {
            "fillcolor": "rgba(0, 0, 232, 0.5)",
            "line": {
             "color": "rgba(0, 0, 232, 0.5)"
            },
            "type": "circle",
            "x0": 1.692956359929817,
            "x1": 2.092956359929817,
            "xref": "x",
            "y0": 6.5297816919855185,
            "y1": 6.929781691985519,
            "yref": "y"
           },
           {
            "fillcolor": "rgba(0, 0, 200, 0.5)",
            "line": {
             "color": "rgba(0, 0, 200, 0.5)"
            },
            "type": "circle",
            "x0": 2.1010071909361283,
            "x1": 2.5010071909361287,
            "xref": "x",
            "y0": 4.9606965328945085,
            "y1": 5.360696532894509,
            "yref": "y"
           },
           {
            "fillcolor": "rgba(0, 0, 132, 0.5)",
            "line": {
             "color": "rgba(0, 0, 132, 0.5)"
            },
            "type": "circle",
            "x0": 2.571343286382258,
            "x1": 2.9713432863822584,
            "xref": "x",
            "y0": 8.668837364997872,
            "y1": 9.06883736499787,
            "yref": "y"
           },
           {
            "fillcolor": "rgba(0, 0, 146, 0.5)",
            "line": {
             "color": "rgba(0, 0, 146, 0.5)"
            },
            "type": "circle",
            "x0": 2.0844582084749486,
            "x1": 2.484458208474949,
            "xref": "x",
            "y0": 7.264654845682211,
            "y1": 7.664654845682211,
            "yref": "y"
           },
           {
            "fillcolor": "rgba(0, 0, 128, 0.5)",
            "line": {
             "color": "rgba(0, 0, 128, 0.5)"
            },
            "type": "circle",
            "x0": 1.9558576717530263,
            "x1": 2.3558576717530264,
            "xref": "x",
            "y0": 9.628233193576795,
            "y1": 10.028233193576794,
            "yref": "y"
           },
           {
            "fillcolor": "rgba(0, 0, 128, 0.5)",
            "line": {
             "color": "rgba(0, 0, 128, 0.5)"
            },
            "type": "circle",
            "x0": 2.6245366630892715,
            "x1": 3.024536663089272,
            "xref": "x",
            "y0": 9.8630968092702,
            "y1": 10.263096809270198,
            "yref": "y"
           },
           {
            "fillcolor": "rgba(0, 0, 232, 0.5)",
            "line": {
             "color": "rgba(0, 0, 232, 0.5)"
            },
            "type": "circle",
            "x0": 2.8815250361629756,
            "x1": 3.281525036162976,
            "xref": "x",
            "y0": 6.392388384986727,
            "y1": 6.792388384986728,
            "yref": "y"
           },
           {
            "fillcolor": "rgba(0, 0, 128, 0.5)",
            "line": {
             "color": "rgba(0, 0, 128, 0.5)"
            },
            "type": "circle",
            "x0": 1.8734328712895503,
            "x1": 2.2734328712895504,
            "xref": "x",
            "y0": 8.431290184922926,
            "y1": 8.831290184922924,
            "yref": "y"
           },
           {
            "fillcolor": "rgba(0, 0, 164, 0.5)",
            "line": {
             "color": "rgba(0, 0, 164, 0.5)"
            },
            "type": "circle",
            "x0": 2.2490824400434453,
            "x1": 2.6490824400434456,
            "xref": "x",
            "y0": 6.101279354097642,
            "y1": 6.501279354097642,
            "yref": "y"
           },
           {
            "line": {
             "color": "white",
             "width": 3
            },
            "type": "line",
            "x0": 2.9783188888557857,
            "x1": 2.9753469214564987,
            "y0": 7.714580207014547,
            "y1": 7.9145581243198775
           },
           {
            "line": {
             "color": "white",
             "width": 3
            },
            "type": "line",
            "x0": 1.892956359929817,
            "x1": 1.890418377282506,
            "y0": 6.729781691985519,
            "y1": 6.929765587947373
           },
           {
            "line": {
             "color": "white",
             "width": 3
            },
            "type": "line",
            "x0": 2.3010071909361285,
            "x1": 2.306412333028941,
            "y0": 5.160696532894509,
            "y1": 5.360623480650324
           },
           {
            "line": {
             "color": "white",
             "width": 3
            },
            "type": "line",
            "x0": 2.7713432863822582,
            "x1": 2.7734196023573854,
            "y0": 8.868837364997871,
            "y1": 9.068826586987386
           },
           {
            "line": {
             "color": "white",
             "width": 3
            },
            "type": "line",
            "x0": 2.2844582084749487,
            "x1": 2.2793301607156216,
            "y0": 7.464654845682211,
            "y1": 7.664589092689016
           },
           {
            "line": {
             "color": "white",
             "width": 3
            },
            "type": "line",
            "x0": 2.1558576717530262,
            "x1": 2.159241572004391,
            "y0": 9.828233193576795,
            "y1": 10.028204564575468
           },
           {
            "line": {
             "color": "white",
             "width": 3
            },
            "type": "line",
            "x0": 2.8245366630892716,
            "x1": 2.82063747479132,
            "y0": 10.0630968092702,
            "y1": 10.263058796484312
           },
           {
            "line": {
             "color": "white",
             "width": 3
            },
            "type": "line",
            "x0": 3.081525036162976,
            "x1": 3.0865040339455847,
            "y0": 6.5923883849867275,
            "y1": 6.792326399333876
           },
           {
            "line": {
             "color": "white",
             "width": 3
            },
            "type": "line",
            "x0": 2.0734328712895502,
            "x1": 2.0785226198448536,
            "y0": 8.631290184922925,
            "y1": 8.831225410582746
           },
           {
            "line": {
             "color": "white",
             "width": 3
            },
            "type": "line",
            "x0": 2.4490824400434454,
            "x1": 2.4460767128763092,
            "y0": 6.301279354097642,
            "y1": 6.501256766832673
           }
          ],
          "title": {
           "text": "<b>Percentage using the shortest path: 0%  |  Number of Agents: 10</b>",
           "x": 0.5
          }
         },
         "name": "200"
        },
        {
         "data": [
          {
           "hoverinfo": "name",
           "line": {
            "color": "white"
           },
           "mode": "lines",
           "name": "Exterior",
           "showlegend": false,
           "x": [
            10.1,
            10.1,
            15.0,
            15.0,
            13.6,
            13.6,
            15.0,
            15.0,
            13.6,
            13.6,
            15.0,
            15.0,
            10.1,
            10.1,
            9.9,
            9.9,
            5.1,
            5.1,
            4.9,
            4.9,
            0.0,
            0.0,
            1.5,
            1.5,
            0.0,
            0.0,
            1.5,
            1.5,
            0.0,
            0.0,
            4.9,
            4.9,
            5.1,
            5.1,
            9.9,
            9.9,
            10.1
           ],
           "y": [
            1.5,
            0.0,
            0.0,
            4.9,
            4.9,
            5.1,
            5.1,
            9.9,
            9.9,
            10.1,
            10.1,
            15.0,
            15.0,
            13.6,
            13.6,
            15.0,
            15.0,
            13.6,
            13.6,
            15.0,
            15.0,
            10.1,
            10.1,
            9.9,
            9.9,
            5.1,
            5.1,
            4.9,
            4.9,
            0.0,
            0.0,
            1.5,
            1.5,
            0.0,
            0.0,
            1.5,
            1.5
           ],
           "type": "scatter"
          },
          {
           "hoverinfo": "name",
           "line": {
            "color": "white"
           },
           "mode": "lines",
           "name": "Obstacle",
           "showlegend": false,
           "x": [
            10.1,
            11.5,
            11.5,
            10.1,
            10.1,
            9.9,
            9.9,
            8.6,
            8.6,
            9.9,
            9.9,
            10.1,
            10.1
           ],
           "y": [
            5.1,
            5.1,
            4.9,
            4.9,
            3.6,
            3.6,
            4.9,
            4.9,
            5.1,
            5.1,
            6.5,
            6.5,
            5.1
           ],
           "type": "scatter"
          },
          {
           "hoverinfo": "name",
           "line": {
            "color": "white"
           },
           "mode": "lines",
           "name": "Obstacle",
           "showlegend": false,
           "x": [
            10.1,
            11.5,
            11.5,
            10.1,
            10.1,
            9.9,
            9.9,
            8.6,
            8.6,
            9.9,
            9.9,
            10.1,
            10.1
           ],
           "y": [
            10.1,
            10.1,
            9.9,
            9.9,
            8.6,
            8.6,
            9.9,
            9.9,
            10.1,
            10.1,
            11.5,
            11.5,
            10.1
           ],
           "type": "scatter"
          },
          {
           "hoverinfo": "name",
           "line": {
            "color": "white"
           },
           "mode": "lines",
           "name": "Obstacle",
           "showlegend": false,
           "x": [
            5.1,
            6.4,
            6.4,
            5.1,
            5.1,
            4.9,
            4.9,
            3.6,
            3.6,
            4.9,
            4.9,
            5.1,
            5.1
           ],
           "y": [
            5.1,
            5.1,
            4.9,
            4.9,
            3.6,
            3.6,
            4.9,
            4.9,
            5.1,
            5.1,
            6.5,
            6.5,
            5.1
           ],
           "type": "scatter"
          },
          {
           "hoverinfo": "name",
           "line": {
            "color": "white"
           },
           "mode": "lines",
           "name": "Obstacle",
           "showlegend": false,
           "x": [
            5.1,
            6.4,
            6.4,
            5.1,
            5.1,
            4.9,
            4.9,
            3.6,
            3.6,
            4.9,
            4.9,
            5.1,
            5.1
           ],
           "y": [
            10.1,
            10.1,
            9.9,
            9.9,
            8.6,
            8.6,
            9.9,
            9.9,
            10.1,
            10.1,
            11.5,
            11.5,
            10.1
           ],
           "type": "scatter"
          },
          {
           "fill": "toself",
           "fillcolor": "rgb(0, 0, 0)",
           "hoverinfo": "name",
           "line": {
            "width": 0
           },
           "mode": "lines",
           "name": "Risk Area",
           "showlegend": false,
           "x": [
            1.5,
            1.5,
            3.6,
            3.6,
            4.9,
            4.9,
            5.0,
            5.0,
            4.9,
            4.9,
            0.0,
            0.0,
            1.5
           ],
           "y": [
            4.9,
            5.0,
            5.0,
            4.9,
            4.9,
            3.6,
            3.6,
            1.5,
            1.5,
            0.0,
            0.0,
            4.9,
            4.9
           ],
           "type": "scatter"
          },
          {
           "fill": "toself",
           "fillcolor": "rgb(255, 0, 0)",
           "hoverinfo": "name",
           "line": {
            "width": 0
           },
           "mode": "lines",
           "name": "Risk Area",
           "showlegend": false,
           "x": [
            9.9,
            9.9,
            5.1,
            5.1,
            5.0,
            5.0,
            5.1,
            5.1,
            6.4,
            6.4,
            8.6,
            8.6,
            9.9,
            9.9,
            10.0,
            10.0,
            9.9
           ],
           "y": [
            1.5,
            0.0,
            0.0,
            1.5,
            1.5,
            3.6,
            3.6,
            4.9,
            4.9,
            5.0,
            5.0,
            4.9,
            4.9,
            3.6,
            3.6,
            1.5,
            1.5
           ],
           "type": "scatter"
          },
          {
           "fill": "toself",
           "fillcolor": "rgb(0, 0, 0)",
           "hoverinfo": "name",
           "line": {
            "width": 0
           },
           "mode": "lines",
           "name": "Risk Area",
           "showlegend": false,
           "x": [
            13.6,
            15.0,
            15.0,
            10.1,
            10.1,
            10.0,
            10.0,
            10.1,
            10.1,
            11.5,
            11.5,
            13.6,
            13.6
           ],
           "y": [
            4.9,
            4.9,
            0.0,
            0.0,
            1.5,
            1.5,
            3.6,
            3.6,
            4.9,
            4.9,
            5.0,
            5.0,
            4.9
           ],
           "type": "scatter"
          },
          {
           "fill": "toself",
           "fillcolor": "rgb(153, 0, 0)",
           "hoverinfo": "name",
           "line": {
            "width": 0
           },
           "mode": "lines",
           "name": "Risk Area",
           "showlegend": false,
           "x": [
            13.6,
            15.0,
            15.0,
            13.6,
            13.6,
            11.5,
            11.5,
            10.1,
            10.1,
            10.0,
            10.0,
            10.1,
            10.1,
            11.5,
            11.5,
            13.6,
            13.6
           ],
           "y": [
            9.9,
            9.9,
            5.1,
            5.1,
            5.0,
            5.0,
            5.1,
            5.1,
            6.5,
            6.5,
            8.6,
            8.6,
            9.9,
            9.9,
            10.0,
            10.0,
            9.9
           ],
           "type": "scatter"
          },
          {
           "fill": "toself",
           "fillcolor": "rgb(178, 0, 0)",
           "hoverinfo": "name",
           "line": {
            "width": 0
           },
           "mode": "lines",
           "name": "Risk Area",
           "showlegend": false,
           "x": [
            9.9,
            9.9,
            8.6,
            8.6,
            6.4,
            6.4,
            5.1,
            5.1,
            5.0,
            5.0,
            5.1,
            5.1,
            6.4,
            6.4,
            8.6,
            8.6,
            9.9,
            9.9,
            10.0,
            10.0,
            9.9
           ],
           "y": [
            6.5,
            5.1,
            5.1,
            5.0,
            5.0,
            5.1,
            5.1,
            6.5,
            6.5,
            8.6,
            8.6,
            9.9,
            9.9,
            10.0,
            10.0,
            9.9,
            9.9,
            8.6,
            8.6,
            6.5,
            6.5
           ],
           "type": "scatter"
          },
          {
           "fill": "toself",
           "fillcolor": "rgb(127, 0, 0)",
           "hoverinfo": "name",
           "line": {
            "width": 0
           },
           "mode": "lines",
           "name": "Risk Area",
           "showlegend": false,
           "x": [
            4.9,
            4.9,
            3.6,
            3.6,
            1.5,
            1.5,
            0.0,
            0.0,
            1.5,
            1.5,
            3.6,
            3.6,
            4.9,
            4.9,
            5.0,
            5.0,
            4.9
           ],
           "y": [
            6.5,
            5.1,
            5.1,
            5.0,
            5.0,
            5.1,
            5.1,
            9.9,
            9.9,
            10.0,
            10.0,
            9.9,
            9.9,
            8.6,
            8.6,
            6.5,
            6.5
           ],
           "type": "scatter"
          },
          {
           "fill": "toself",
           "fillcolor": "rgb(51, 0, 0)",
           "hoverinfo": "name",
           "line": {
            "width": 0
           },
           "mode": "lines",
           "name": "Risk Area",
           "showlegend": false,
           "x": [
            1.5,
            0.0,
            0.0,
            4.9,
            4.9,
            5.0,
            5.0,
            4.9,
            4.9,
            3.6,
            3.6,
            1.5,
            1.5
           ],
           "y": [
            10.1,
            10.1,
            15.0,
            15.0,
            13.6,
            13.6,
            11.5,
            11.5,
            10.1,
            10.1,
            10.0,
            10.0,
            10.1
           ],
           "type": "scatter"
          },
          {
           "fill": "toself",
           "fillcolor": "rgb(25, 0, 0)",
           "hoverinfo": "name",
           "line": {
            "width": 0
           },
           "mode": "lines",
           "name": "Risk Area",
           "showlegend": false,
           "x": [
            6.4,
            5.1,
            5.1,
            5.0,
            5.0,
            5.1,
            5.1,
            9.9,
            9.9,
            10.0,
            10.0,
            9.9,
            9.9,
            8.6,
            8.6,
            6.4,
            6.4
           ],
           "y": [
            10.1,
            10.1,
            11.5,
            11.5,
            13.6,
            13.6,
            15.0,
            15.0,
            13.6,
            13.6,
            11.5,
            11.5,
            10.1,
            10.1,
            10.0,
            10.0,
            10.1
           ],
           "type": "scatter"
          },
          {
           "fill": "toself",
           "fillcolor": "rgb(0, 0, 0)",
           "hoverinfo": "name",
           "line": {
            "width": 0
           },
           "mode": "lines",
           "name": "Risk Area",
           "showlegend": false,
           "x": [
            10.1,
            10.1,
            15.0,
            15.0,
            13.6,
            13.6,
            11.5,
            11.5,
            10.1,
            10.1,
            10.0,
            10.0,
            10.1
           ],
           "y": [
            13.6,
            15.0,
            15.0,
            10.1,
            10.1,
            10.0,
            10.0,
            10.1,
            10.1,
            11.5,
            11.5,
            13.6,
            13.6
           ],
           "type": "scatter"
          },
          {
           "hoverinfo": "text",
           "marker": {
            "opacity": 1,
            "size": 1
           },
           "mode": "markers",
           "showlegend": false,
           "text": [
            "ID: 101, Pos(2.94,9.26)"
           ],
           "x": [
            2.936180755962315
           ],
           "y": [
            9.263248676991207
           ],
           "type": "scatter"
          },
          {
           "hoverinfo": "text",
           "marker": {
            "opacity": 1,
            "size": 1
           },
           "mode": "markers",
           "showlegend": false,
           "text": [
            "ID: 102, Pos(1.87,8.16)"
           ],
           "x": [
            1.8665019472762523
           ],
           "y": [
            8.157883399167261
           ],
           "type": "scatter"
          },
          {
           "hoverinfo": "text",
           "marker": {
            "opacity": 1,
            "size": 1
           },
           "mode": "markers",
           "showlegend": false,
           "text": [
            "ID: 103, Pos(2.34,6.70)"
           ],
           "x": [
            2.342491871909578
           ],
           "y": [
            6.695631006074036
           ],
           "type": "scatter"
          },
          {
           "hoverinfo": "text",
           "marker": {
            "opacity": 1,
            "size": 1
           },
           "mode": "markers",
           "showlegend": false,
           "text": [
            "ID: 104, Pos(2.78,10.38)"
           ],
           "x": [
            2.7809518205481094
           ],
           "y": [
            10.377223699797199
           ],
           "type": "scatter"
          },
          {
           "hoverinfo": "text",
           "marker": {
            "opacity": 1,
            "size": 1
           },
           "mode": "markers",
           "showlegend": false,
           "text": [
            "ID: 105, Pos(2.25,9.04)"
           ],
           "x": [
            2.248780568531154
           ],
           "y": [
            9.035192113385282
           ],
           "type": "scatter"
          },
          {
           "hoverinfo": "text",
           "marker": {
            "opacity": 1,
            "size": 1
           },
           "mode": "markers",
           "showlegend": false,
           "text": [
            "ID: 106, Pos(2.44,11.11)"
           ],
           "x": [
            2.4379373929163024
           ],
           "y": [
            11.105419707182032
           ],
           "type": "scatter"
          },
          {
           "hoverinfo": "text",
           "marker": {
            "opacity": 1,
            "size": 1
           },
           "mode": "markers",
           "showlegend": false,
           "text": [
            "ID: 107, Pos(3.40,11.22)"
           ],
           "x": [
            3.4028752469103947
           ],
           "y": [
            11.221899180498799
           ],
           "type": "scatter"
          },
          {
           "hoverinfo": "text",
           "marker": {
            "opacity": 1,
            "size": 1
           },
           "mode": "markers",
           "showlegend": false,
           "text": [
            "ID: 108, Pos(3.11,8.11)"
           ],
           "x": [
            3.1053058728946605
           ],
           "y": [
            8.108674707098372
           ],
           "type": "scatter"
          },
          {
           "hoverinfo": "text",
           "marker": {
            "opacity": 1,
            "size": 1
           },
           "mode": "markers",
           "showlegend": false,
           "text": [
            "ID: 109, Pos(2.12,10.17)"
           ],
           "x": [
            2.1191684771969577
           ],
           "y": [
            10.170487447479243
           ],
           "type": "scatter"
          },
          {
           "hoverinfo": "text",
           "marker": {
            "opacity": 1,
            "size": 1
           },
           "mode": "markers",
           "showlegend": false,
           "text": [
            "ID: 110, Pos(2.47,7.87)"
           ],
           "x": [
            2.468392947116531
           ],
           "y": [
            7.870169569792681
           ],
           "type": "scatter"
          }
         ],
         "layout": {
          "shapes": [
           {
            "fillcolor": "rgba(0, 0, 241, 0.5)",
            "line": {
             "color": "rgba(0, 0, 241, 0.5)"
            },
            "type": "circle",
            "x0": 2.736180755962315,
            "x1": 3.1361807559623154,
            "xref": "x",
            "y0": 9.063248676991208,
            "y1": 9.463248676991206,
            "yref": "y"
           },
           {
            "fillcolor": "rgba(0, 13, 255, 0.5)",
            "line": {
             "color": "rgba(0, 13, 255, 0.5)"
            },
            "type": "circle",
            "x0": 1.6665019472762523,
            "x1": 2.0665019472762522,
            "xref": "x",
            "y0": 7.957883399167261,
            "y1": 8.35788339916726,
            "yref": "y"
           },
           {
            "fillcolor": "rgba(0, 0, 155, 0.5)",
            "line": {
             "color": "rgba(0, 0, 155, 0.5)"
            },
            "type": "circle",
            "x0": 2.142491871909578,
            "x1": 2.5424918719095784,
            "xref": "x",
            "y0": 6.495631006074036,
            "y1": 6.895631006074036,
            "yref": "y"
           },
           {
            "fillcolor": "rgba(31, 255, 215, 0.5)",
            "line": {
             "color": "rgba(31, 255, 215, 0.5)"
            },
            "type": "circle",
            "x0": 2.5809518205481092,
            "x1": 2.9809518205481096,
            "xref": "x",
            "y0": 10.1772236997972,
            "y1": 10.577223699797198,
            "yref": "y"
           },
           {
            "fillcolor": "rgba(0, 0, 209, 0.5)",
            "line": {
             "color": "rgba(0, 0, 209, 0.5)"
            },
            "type": "circle",
            "x0": 2.048780568531154,
            "x1": 2.4487805685311543,
            "xref": "x",
            "y0": 8.835192113385283,
            "y1": 9.235192113385281,
            "yref": "y"
           },
           {
            "fillcolor": "rgba(0, 212, 255, 0.5)",
            "line": {
             "color": "rgba(0, 212, 255, 0.5)"
            },
            "type": "circle",
            "x0": 2.2379373929163022,
            "x1": 2.6379373929163026,
            "xref": "x",
            "y0": 10.905419707182032,
            "y1": 11.30541970718203,
            "yref": "y"
           },
           {
            "fillcolor": "rgba(0, 136, 255, 0.5)",
            "line": {
             "color": "rgba(0, 136, 255, 0.5)"
            },
            "type": "circle",
            "x0": 3.2028752469103945,
            "x1": 3.602875246910395,
            "xref": "x",
            "y0": 11.0218991804988,
            "y1": 11.421899180498798,
            "yref": "y"
           },
           {
            "fillcolor": "rgba(0, 0, 178, 0.5)",
            "line": {
             "color": "rgba(0, 0, 178, 0.5)"
            },
            "type": "circle",
            "x0": 2.9053058728946604,
            "x1": 3.3053058728946607,
            "xref": "x",
            "y0": 7.908674707098371,
            "y1": 8.30867470709837,
            "yref": "y"
           },
           {
            "fillcolor": "rgba(0, 136, 255, 0.5)",
            "line": {
             "color": "rgba(0, 136, 255, 0.5)"
            },
            "type": "circle",
            "x0": 1.9191684771969577,
            "x1": 2.319168477196958,
            "xref": "x",
            "y0": 9.970487447479243,
            "y1": 10.370487447479242,
            "yref": "y"
           },
           {
            "fillcolor": "rgba(0, 0, 146, 0.5)",
            "line": {
             "color": "rgba(0, 0, 146, 0.5)"
            },
            "type": "circle",
            "x0": 2.268392947116531,
            "x1": 2.6683929471165313,
            "xref": "x",
            "y0": 7.670169569792681,
            "y1": 8.07016956979268,
            "yref": "y"
           },
           {
            "line": {
             "color": "white",
             "width": 3
            },
            "type": "line",
            "x0": 2.936180755962315,
            "x1": 2.9290424983422376,
            "y0": 9.263248676991207,
            "y1": 9.463121249592225
           },
           {
            "line": {
             "color": "white",
             "width": 3
            },
            "type": "line",
            "x0": 1.8665019472762523,
            "x1": 1.8624753649452839,
            "y0": 8.157883399167261,
            "y1": 8.357842861645864
           },
           {
            "line": {
             "color": "white",
             "width": 3
            },
            "type": "line",
            "x0": 2.342491871909578,
            "x1": 2.347900908767603,
            "y0": 6.695631006074036,
            "y1": 6.8955578484946285
           },
           {
            "line": {
             "color": "black",
             "width": 3
            },
            "type": "line",
            "x0": 2.7809518205481094,
            "x1": 2.7842262635813264,
            "y0": 10.377223699797199,
            "y1": 10.577196893057751
           },
           {
            "line": {
             "color": "white",
             "width": 3
            },
            "type": "line",
            "x0": 2.248780568531154,
            "x1": 2.244580587759477,
            "y0": 9.035192113385282,
            "y1": 9.235148008926068
           },
           {
            "line": {
             "color": "black",
             "width": 3
            },
            "type": "line",
            "x0": 2.4379373929163024,
            "x1": 2.6278229894530054,
            "y0": 11.105419707182032,
            "y1": 11.168216683446024
           },
           {
            "line": {
             "color": "white",
             "width": 3
            },
            "type": "line",
            "x0": 3.4028752469103947,
            "x1": 3.593349351330731,
            "y0": 11.221899180498799,
            "y1": 11.28288783145347
           },
           {
            "line": {
             "color": "white",
             "width": 3
            },
            "type": "line",
            "x0": 3.1053058728946605,
            "x1": 3.107692845214947,
            "y0": 8.108674707098372,
            "y1": 8.308660462498956
           },
           {
            "line": {
             "color": "white",
             "width": 3
            },
            "type": "line",
            "x0": 2.1191684771969577,
            "x1": 2.12542852643578,
            "y0": 10.170487447479243,
            "y1": 10.370389452930732
           },
           {
            "line": {
             "color": "white",
             "width": 3
            },
            "type": "line",
            "x0": 2.468392947116531,
            "x1": 2.473067626116397,
            "y0": 7.870169569792681,
            "y1": 8.070114930769744
           }
          ],
          "title": {
           "text": "<b>Percentage using the shortest path: 0%  |  Number of Agents: 10</b>",
           "x": 0.5
          }
         },
         "name": "250"
        },
        {
         "data": [
          {
           "hoverinfo": "name",
           "line": {
            "color": "white"
           },
           "mode": "lines",
           "name": "Exterior",
           "showlegend": false,
           "x": [
            10.1,
            10.1,
            15.0,
            15.0,
            13.6,
            13.6,
            15.0,
            15.0,
            13.6,
            13.6,
            15.0,
            15.0,
            10.1,
            10.1,
            9.9,
            9.9,
            5.1,
            5.1,
            4.9,
            4.9,
            0.0,
            0.0,
            1.5,
            1.5,
            0.0,
            0.0,
            1.5,
            1.5,
            0.0,
            0.0,
            4.9,
            4.9,
            5.1,
            5.1,
            9.9,
            9.9,
            10.1
           ],
           "y": [
            1.5,
            0.0,
            0.0,
            4.9,
            4.9,
            5.1,
            5.1,
            9.9,
            9.9,
            10.1,
            10.1,
            15.0,
            15.0,
            13.6,
            13.6,
            15.0,
            15.0,
            13.6,
            13.6,
            15.0,
            15.0,
            10.1,
            10.1,
            9.9,
            9.9,
            5.1,
            5.1,
            4.9,
            4.9,
            0.0,
            0.0,
            1.5,
            1.5,
            0.0,
            0.0,
            1.5,
            1.5
           ],
           "type": "scatter"
          },
          {
           "hoverinfo": "name",
           "line": {
            "color": "white"
           },
           "mode": "lines",
           "name": "Obstacle",
           "showlegend": false,
           "x": [
            10.1,
            11.5,
            11.5,
            10.1,
            10.1,
            9.9,
            9.9,
            8.6,
            8.6,
            9.9,
            9.9,
            10.1,
            10.1
           ],
           "y": [
            5.1,
            5.1,
            4.9,
            4.9,
            3.6,
            3.6,
            4.9,
            4.9,
            5.1,
            5.1,
            6.5,
            6.5,
            5.1
           ],
           "type": "scatter"
          },
          {
           "hoverinfo": "name",
           "line": {
            "color": "white"
           },
           "mode": "lines",
           "name": "Obstacle",
           "showlegend": false,
           "x": [
            10.1,
            11.5,
            11.5,
            10.1,
            10.1,
            9.9,
            9.9,
            8.6,
            8.6,
            9.9,
            9.9,
            10.1,
            10.1
           ],
           "y": [
            10.1,
            10.1,
            9.9,
            9.9,
            8.6,
            8.6,
            9.9,
            9.9,
            10.1,
            10.1,
            11.5,
            11.5,
            10.1
           ],
           "type": "scatter"
          },
          {
           "hoverinfo": "name",
           "line": {
            "color": "white"
           },
           "mode": "lines",
           "name": "Obstacle",
           "showlegend": false,
           "x": [
            5.1,
            6.4,
            6.4,
            5.1,
            5.1,
            4.9,
            4.9,
            3.6,
            3.6,
            4.9,
            4.9,
            5.1,
            5.1
           ],
           "y": [
            5.1,
            5.1,
            4.9,
            4.9,
            3.6,
            3.6,
            4.9,
            4.9,
            5.1,
            5.1,
            6.5,
            6.5,
            5.1
           ],
           "type": "scatter"
          },
          {
           "hoverinfo": "name",
           "line": {
            "color": "white"
           },
           "mode": "lines",
           "name": "Obstacle",
           "showlegend": false,
           "x": [
            5.1,
            6.4,
            6.4,
            5.1,
            5.1,
            4.9,
            4.9,
            3.6,
            3.6,
            4.9,
            4.9,
            5.1,
            5.1
           ],
           "y": [
            10.1,
            10.1,
            9.9,
            9.9,
            8.6,
            8.6,
            9.9,
            9.9,
            10.1,
            10.1,
            11.5,
            11.5,
            10.1
           ],
           "type": "scatter"
          },
          {
           "fill": "toself",
           "fillcolor": "rgb(0, 0, 0)",
           "hoverinfo": "name",
           "line": {
            "width": 0
           },
           "mode": "lines",
           "name": "Risk Area",
           "showlegend": false,
           "x": [
            1.5,
            1.5,
            3.6,
            3.6,
            4.9,
            4.9,
            5.0,
            5.0,
            4.9,
            4.9,
            0.0,
            0.0,
            1.5
           ],
           "y": [
            4.9,
            5.0,
            5.0,
            4.9,
            4.9,
            3.6,
            3.6,
            1.5,
            1.5,
            0.0,
            0.0,
            4.9,
            4.9
           ],
           "type": "scatter"
          },
          {
           "fill": "toself",
           "fillcolor": "rgb(255, 0, 0)",
           "hoverinfo": "name",
           "line": {
            "width": 0
           },
           "mode": "lines",
           "name": "Risk Area",
           "showlegend": false,
           "x": [
            9.9,
            9.9,
            5.1,
            5.1,
            5.0,
            5.0,
            5.1,
            5.1,
            6.4,
            6.4,
            8.6,
            8.6,
            9.9,
            9.9,
            10.0,
            10.0,
            9.9
           ],
           "y": [
            1.5,
            0.0,
            0.0,
            1.5,
            1.5,
            3.6,
            3.6,
            4.9,
            4.9,
            5.0,
            5.0,
            4.9,
            4.9,
            3.6,
            3.6,
            1.5,
            1.5
           ],
           "type": "scatter"
          },
          {
           "fill": "toself",
           "fillcolor": "rgb(0, 0, 0)",
           "hoverinfo": "name",
           "line": {
            "width": 0
           },
           "mode": "lines",
           "name": "Risk Area",
           "showlegend": false,
           "x": [
            13.6,
            15.0,
            15.0,
            10.1,
            10.1,
            10.0,
            10.0,
            10.1,
            10.1,
            11.5,
            11.5,
            13.6,
            13.6
           ],
           "y": [
            4.9,
            4.9,
            0.0,
            0.0,
            1.5,
            1.5,
            3.6,
            3.6,
            4.9,
            4.9,
            5.0,
            5.0,
            4.9
           ],
           "type": "scatter"
          },
          {
           "fill": "toself",
           "fillcolor": "rgb(178, 0, 0)",
           "hoverinfo": "name",
           "line": {
            "width": 0
           },
           "mode": "lines",
           "name": "Risk Area",
           "showlegend": false,
           "x": [
            13.6,
            15.0,
            15.0,
            13.6,
            13.6,
            11.5,
            11.5,
            10.1,
            10.1,
            10.0,
            10.0,
            10.1,
            10.1,
            11.5,
            11.5,
            13.6,
            13.6
           ],
           "y": [
            9.9,
            9.9,
            5.1,
            5.1,
            5.0,
            5.0,
            5.1,
            5.1,
            6.5,
            6.5,
            8.6,
            8.6,
            9.9,
            9.9,
            10.0,
            10.0,
            9.9
           ],
           "type": "scatter"
          },
          {
           "fill": "toself",
           "fillcolor": "rgb(178, 0, 0)",
           "hoverinfo": "name",
           "line": {
            "width": 0
           },
           "mode": "lines",
           "name": "Risk Area",
           "showlegend": false,
           "x": [
            9.9,
            9.9,
            8.6,
            8.6,
            6.4,
            6.4,
            5.1,
            5.1,
            5.0,
            5.0,
            5.1,
            5.1,
            6.4,
            6.4,
            8.6,
            8.6,
            9.9,
            9.9,
            10.0,
            10.0,
            9.9
           ],
           "y": [
            6.5,
            5.1,
            5.1,
            5.0,
            5.0,
            5.1,
            5.1,
            6.5,
            6.5,
            8.6,
            8.6,
            9.9,
            9.9,
            10.0,
            10.0,
            9.9,
            9.9,
            8.6,
            8.6,
            6.5,
            6.5
           ],
           "type": "scatter"
          },
          {
           "fill": "toself",
           "fillcolor": "rgb(127, 0, 0)",
           "hoverinfo": "name",
           "line": {
            "width": 0
           },
           "mode": "lines",
           "name": "Risk Area",
           "showlegend": false,
           "x": [
            4.9,
            4.9,
            3.6,
            3.6,
            1.5,
            1.5,
            0.0,
            0.0,
            1.5,
            1.5,
            3.6,
            3.6,
            4.9,
            4.9,
            5.0,
            5.0,
            4.9
           ],
           "y": [
            6.5,
            5.1,
            5.1,
            5.0,
            5.0,
            5.1,
            5.1,
            9.9,
            9.9,
            10.0,
            10.0,
            9.9,
            9.9,
            8.6,
            8.6,
            6.5,
            6.5
           ],
           "type": "scatter"
          },
          {
           "fill": "toself",
           "fillcolor": "rgb(51, 0, 0)",
           "hoverinfo": "name",
           "line": {
            "width": 0
           },
           "mode": "lines",
           "name": "Risk Area",
           "showlegend": false,
           "x": [
            1.5,
            0.0,
            0.0,
            4.9,
            4.9,
            5.0,
            5.0,
            4.9,
            4.9,
            3.6,
            3.6,
            1.5,
            1.5
           ],
           "y": [
            10.1,
            10.1,
            15.0,
            15.0,
            13.6,
            13.6,
            11.5,
            11.5,
            10.1,
            10.1,
            10.0,
            10.0,
            10.1
           ],
           "type": "scatter"
          },
          {
           "fill": "toself",
           "fillcolor": "rgb(25, 0, 0)",
           "hoverinfo": "name",
           "line": {
            "width": 0
           },
           "mode": "lines",
           "name": "Risk Area",
           "showlegend": false,
           "x": [
            6.4,
            5.1,
            5.1,
            5.0,
            5.0,
            5.1,
            5.1,
            9.9,
            9.9,
            10.0,
            10.0,
            9.9,
            9.9,
            8.6,
            8.6,
            6.4,
            6.4
           ],
           "y": [
            10.1,
            10.1,
            11.5,
            11.5,
            13.6,
            13.6,
            15.0,
            15.0,
            13.6,
            13.6,
            11.5,
            11.5,
            10.1,
            10.1,
            10.0,
            10.0,
            10.1
           ],
           "type": "scatter"
          },
          {
           "fill": "toself",
           "fillcolor": "rgb(25, 0, 0)",
           "hoverinfo": "name",
           "line": {
            "width": 0
           },
           "mode": "lines",
           "name": "Risk Area",
           "showlegend": false,
           "x": [
            10.1,
            10.1,
            15.0,
            15.0,
            13.6,
            13.6,
            11.5,
            11.5,
            10.1,
            10.1,
            10.0,
            10.0,
            10.1
           ],
           "y": [
            13.6,
            15.0,
            15.0,
            10.1,
            10.1,
            10.0,
            10.0,
            10.1,
            10.1,
            11.5,
            11.5,
            13.6,
            13.6
           ],
           "type": "scatter"
          },
          {
           "hoverinfo": "text",
           "marker": {
            "opacity": 1,
            "size": 1
           },
           "mode": "markers",
           "showlegend": false,
           "text": [
            "ID: 101, Pos(2.91,10.21)"
           ],
           "x": [
            2.905769069036135
           ],
           "y": [
            10.214968184692834
           ],
           "type": "scatter"
          },
          {
           "hoverinfo": "text",
           "marker": {
            "opacity": 1,
            "size": 1
           },
           "mode": "markers",
           "showlegend": false,
           "text": [
            "ID: 102, Pos(1.84,9.46)"
           ],
           "x": [
            1.8414890481883006
           ],
           "y": [
            9.45588349310743
           ],
           "type": "scatter"
          },
          {
           "hoverinfo": "text",
           "marker": {
            "opacity": 1,
            "size": 1
           },
           "mode": "markers",
           "showlegend": false,
           "text": [
            "ID: 103, Pos(2.38,8.23)"
           ],
           "x": [
            2.384135981853673
           ],
           "y": [
            8.233686547791118
           ],
           "type": "scatter"
          },
          {
           "hoverinfo": "text",
           "marker": {
            "opacity": 1,
            "size": 1
           },
           "mode": "markers",
           "showlegend": false,
           "text": [
            "ID: 104, Pos(2.82,10.93)"
           ],
           "x": [
            2.81660442741061
           ],
           "y": [
            10.933167901213666
           ],
           "type": "scatter"
          },
          {
           "hoverinfo": "text",
           "marker": {
            "opacity": 1,
            "size": 1
           },
           "mode": "markers",
           "showlegend": false,
           "text": [
            "ID: 105, Pos(2.21,10.42)"
           ],
           "x": [
            2.213955962540989
           ],
           "y": [
            10.422175397420613
           ],
           "type": "scatter"
          },
          {
           "hoverinfo": "text",
           "marker": {
            "opacity": 1,
            "size": 1
           },
           "mode": "markers",
           "showlegend": false,
           "text": [
            "ID: 106, Pos(3.30,11.45)"
           ],
           "x": [
            3.298396252812521
           ],
           "y": [
            11.453738062351684
           ],
           "type": "scatter"
          },
          {
           "hoverinfo": "text",
           "marker": {
            "opacity": 1,
            "size": 1
           },
           "mode": "markers",
           "showlegend": false,
           "text": [
            "ID: 107, Pos(4.03,11.83)"
           ],
           "x": [
            4.025456126087324
           ],
           "y": [
            11.826273433338315
           ],
           "type": "scatter"
          },
          {
           "hoverinfo": "text",
           "marker": {
            "opacity": 1,
            "size": 1
           },
           "mode": "markers",
           "showlegend": false,
           "text": [
            "ID: 108, Pos(3.13,9.37)"
           ],
           "x": [
            3.1334990078877394
           ],
           "y": [
            9.371216942720983
           ],
           "type": "scatter"
          },
          {
           "hoverinfo": "text",
           "marker": {
            "opacity": 1,
            "size": 1
           },
           "mode": "markers",
           "showlegend": false,
           "text": [
            "ID: 109, Pos(2.53,11.41)"
           ],
           "x": [
            2.5315118102109158
           ],
           "y": [
            11.407601624537062
           ],
           "type": "scatter"
          },
          {
           "hoverinfo": "text",
           "marker": {
            "opacity": 1,
            "size": 1
           },
           "mode": "markers",
           "showlegend": false,
           "text": [
            "ID: 110, Pos(2.48,9.37)"
           ],
           "x": [
            2.484246685127603
           ],
           "y": [
            9.369758716453255
           ],
           "type": "scatter"
          }
         ],
         "layout": {
          "shapes": [
           {
            "fillcolor": "rgba(206, 255, 41, 0.5)",
            "line": {
             "color": "rgba(206, 255, 41, 0.5)"
            },
            "type": "circle",
            "x0": 2.7057690690361347,
            "x1": 3.105769069036135,
            "xref": "x",
            "y0": 10.014968184692835,
            "y1": 10.414968184692833,
            "yref": "y"
           },
           {
            "fillcolor": "rgba(0, 80, 255, 0.5)",
            "line": {
             "color": "rgba(0, 80, 255, 0.5)"
            },
            "type": "circle",
            "x0": 1.6414890481883007,
            "x1": 2.041489048188301,
            "xref": "x",
            "y0": 9.255883493107431,
            "y1": 9.65588349310743,
            "yref": "y"
           },
           {
            "fillcolor": "rgba(0, 0, 214, 0.5)",
            "line": {
             "color": "rgba(0, 0, 214, 0.5)"
            },
            "type": "circle",
            "x0": 2.184135981853673,
            "x1": 2.5841359818536733,
            "xref": "x",
            "y0": 8.033686547791119,
            "y1": 8.433686547791117,
            "yref": "y"
           },
           {
            "fillcolor": "rgba(255, 148, 0, 0.5)",
            "line": {
             "color": "rgba(255, 148, 0, 0.5)"
            },
            "type": "circle",
            "x0": 2.6166044274106097,
            "x1": 3.01660442741061,
            "xref": "x",
            "y0": 10.733167901213667,
            "y1": 11.133167901213666,
            "yref": "y"
           },
           {
            "fillcolor": "rgba(0, 56, 255, 0.5)",
            "line": {
             "color": "rgba(0, 56, 255, 0.5)"
            },
            "type": "circle",
            "x0": 2.013955962540989,
            "x1": 2.413955962540989,
            "xref": "x",
            "y0": 10.222175397420614,
            "y1": 10.622175397420612,
            "yref": "y"
           },
           {
            "fillcolor": "rgba(167, 255, 80, 0.5)",
            "line": {
             "color": "rgba(167, 255, 80, 0.5)"
            },
            "type": "circle",
            "x0": 3.098396252812521,
            "x1": 3.498396252812521,
            "xref": "x",
            "y0": 11.253738062351685,
            "y1": 11.653738062351684,
            "yref": "y"
           },
           {
            "fillcolor": "rgba(254, 237, 0, 0.5)",
            "line": {
             "color": "rgba(254, 237, 0, 0.5)"
            },
            "type": "circle",
            "x0": 3.8254561260873237,
            "x1": 4.225456126087324,
            "xref": "x",
            "y0": 11.626273433338316,
            "y1": 12.026273433338314,
            "yref": "y"
           },
           {
            "fillcolor": "rgba(48, 255, 199, 0.5)",
            "line": {
             "color": "rgba(48, 255, 199, 0.5)"
            },
            "type": "circle",
            "x0": 2.933499007887739,
            "x1": 3.3334990078877396,
            "xref": "x",
            "y0": 9.171216942720983,
            "y1": 9.571216942720982,
            "yref": "y"
           },
           {
            "fillcolor": "rgba(0, 0, 128, 0.5)",
            "line": {
             "color": "rgba(0, 0, 128, 0.5)"
            },
            "type": "circle",
            "x0": 2.3315118102109156,
            "x1": 2.731511810210916,
            "xref": "x",
            "y0": 11.207601624537062,
            "y1": 11.607601624537061,
            "yref": "y"
           },
           {
            "fillcolor": "rgba(0, 13, 255, 0.5)",
            "line": {
             "color": "rgba(0, 13, 255, 0.5)"
            },
            "type": "circle",
            "x0": 2.2842466851276026,
            "x1": 2.684246685127603,
            "xref": "x",
            "y0": 9.169758716453256,
            "y1": 9.569758716453254,
            "yref": "y"
           },
           {
            "line": {
             "color": "black",
             "width": 3
            },
            "type": "line",
            "x0": 2.905769069036135,
            "x1": 2.891510980364122,
            "y0": 10.214968184692834,
            "y1": 10.414459304563923
           },
           {
            "line": {
             "color": "white",
             "width": 3
            },
            "type": "line",
            "x0": 1.8414890481883006,
            "x1": 1.841137163062366,
            "y0": 9.45588349310743,
            "y1": 9.655883183549337
           },
           {
            "line": {
             "color": "white",
             "width": 3
            },
            "type": "line",
            "x0": 2.384135981853673,
            "x1": 2.3895474656841595,
            "y0": 8.233686547791118,
            "y1": 8.433613323993688
           },
           {
            "line": {
             "color": "black",
             "width": 3
            },
            "type": "line",
            "x0": 2.81660442741061,
            "x1": 2.833020036960149,
            "y0": 10.933167901213666,
            "y1": 11.132493082169603
           },
           {
            "line": {
             "color": "white",
             "width": 3
            },
            "type": "line",
            "x0": 2.213955962540989,
            "x1": 2.2132727628564313,
            "y0": 10.422175397420613,
            "y1": 10.622174230512686
           },
           {
            "line": {
             "color": "black",
             "width": 3
            },
            "type": "line",
            "x0": 3.298396252812521,
            "x1": 3.4903300882324424,
            "y0": 11.453738062351684,
            "y1": 11.50996441579025
           },
           {
            "line": {
             "color": "black",
             "width": 3
            },
            "type": "line",
            "x0": 4.025456126087324,
            "x1": 4.221357731859541,
            "y0": 11.826273433338315,
            "y1": 11.866554456858912
           },
           {
            "line": {
             "color": "black",
             "width": 3
            },
            "type": "line",
            "x0": 3.1334990078877394,
            "x1": 3.13833436739346,
            "y0": 9.371216942720983,
            "y1": 9.571158482423092
           },
           {
            "line": {
             "color": "white",
             "width": 3
            },
            "type": "line",
            "x0": 2.5315118102109158,
            "x1": 2.6637841033453133,
            "y0": 11.407601624537062,
            "y1": 11.557615092162365
           },
           {
            "line": {
             "color": "white",
             "width": 3
            },
            "type": "line",
            "x0": 2.484246685127603,
            "x1": 2.4843173297414056,
            "y0": 9.369758716453255,
            "y1": 9.569758703976602
           }
          ],
          "title": {
           "text": "<b>Percentage using the shortest path: 0%  |  Number of Agents: 10</b>",
           "x": 0.5
          }
         },
         "name": "300"
        },
        {
         "data": [
          {
           "hoverinfo": "name",
           "line": {
            "color": "white"
           },
           "mode": "lines",
           "name": "Exterior",
           "showlegend": false,
           "x": [
            10.1,
            10.1,
            15.0,
            15.0,
            13.6,
            13.6,
            15.0,
            15.0,
            13.6,
            13.6,
            15.0,
            15.0,
            10.1,
            10.1,
            9.9,
            9.9,
            5.1,
            5.1,
            4.9,
            4.9,
            0.0,
            0.0,
            1.5,
            1.5,
            0.0,
            0.0,
            1.5,
            1.5,
            0.0,
            0.0,
            4.9,
            4.9,
            5.1,
            5.1,
            9.9,
            9.9,
            10.1
           ],
           "y": [
            1.5,
            0.0,
            0.0,
            4.9,
            4.9,
            5.1,
            5.1,
            9.9,
            9.9,
            10.1,
            10.1,
            15.0,
            15.0,
            13.6,
            13.6,
            15.0,
            15.0,
            13.6,
            13.6,
            15.0,
            15.0,
            10.1,
            10.1,
            9.9,
            9.9,
            5.1,
            5.1,
            4.9,
            4.9,
            0.0,
            0.0,
            1.5,
            1.5,
            0.0,
            0.0,
            1.5,
            1.5
           ],
           "type": "scatter"
          },
          {
           "hoverinfo": "name",
           "line": {
            "color": "white"
           },
           "mode": "lines",
           "name": "Obstacle",
           "showlegend": false,
           "x": [
            10.1,
            11.5,
            11.5,
            10.1,
            10.1,
            9.9,
            9.9,
            8.6,
            8.6,
            9.9,
            9.9,
            10.1,
            10.1
           ],
           "y": [
            5.1,
            5.1,
            4.9,
            4.9,
            3.6,
            3.6,
            4.9,
            4.9,
            5.1,
            5.1,
            6.5,
            6.5,
            5.1
           ],
           "type": "scatter"
          },
          {
           "hoverinfo": "name",
           "line": {
            "color": "white"
           },
           "mode": "lines",
           "name": "Obstacle",
           "showlegend": false,
           "x": [
            10.1,
            11.5,
            11.5,
            10.1,
            10.1,
            9.9,
            9.9,
            8.6,
            8.6,
            9.9,
            9.9,
            10.1,
            10.1
           ],
           "y": [
            10.1,
            10.1,
            9.9,
            9.9,
            8.6,
            8.6,
            9.9,
            9.9,
            10.1,
            10.1,
            11.5,
            11.5,
            10.1
           ],
           "type": "scatter"
          },
          {
           "hoverinfo": "name",
           "line": {
            "color": "white"
           },
           "mode": "lines",
           "name": "Obstacle",
           "showlegend": false,
           "x": [
            5.1,
            6.4,
            6.4,
            5.1,
            5.1,
            4.9,
            4.9,
            3.6,
            3.6,
            4.9,
            4.9,
            5.1,
            5.1
           ],
           "y": [
            5.1,
            5.1,
            4.9,
            4.9,
            3.6,
            3.6,
            4.9,
            4.9,
            5.1,
            5.1,
            6.5,
            6.5,
            5.1
           ],
           "type": "scatter"
          },
          {
           "hoverinfo": "name",
           "line": {
            "color": "white"
           },
           "mode": "lines",
           "name": "Obstacle",
           "showlegend": false,
           "x": [
            5.1,
            6.4,
            6.4,
            5.1,
            5.1,
            4.9,
            4.9,
            3.6,
            3.6,
            4.9,
            4.9,
            5.1,
            5.1
           ],
           "y": [
            10.1,
            10.1,
            9.9,
            9.9,
            8.6,
            8.6,
            9.9,
            9.9,
            10.1,
            10.1,
            11.5,
            11.5,
            10.1
           ],
           "type": "scatter"
          },
          {
           "fill": "toself",
           "fillcolor": "rgb(0, 0, 0)",
           "hoverinfo": "name",
           "line": {
            "width": 0
           },
           "mode": "lines",
           "name": "Risk Area",
           "showlegend": false,
           "x": [
            1.5,
            1.5,
            3.6,
            3.6,
            4.9,
            4.9,
            5.0,
            5.0,
            4.9,
            4.9,
            0.0,
            0.0,
            1.5
           ],
           "y": [
            4.9,
            5.0,
            5.0,
            4.9,
            4.9,
            3.6,
            3.6,
            1.5,
            1.5,
            0.0,
            0.0,
            4.9,
            4.9
           ],
           "type": "scatter"
          },
          {
           "fill": "toself",
           "fillcolor": "rgb(255, 0, 0)",
           "hoverinfo": "name",
           "line": {
            "width": 0
           },
           "mode": "lines",
           "name": "Risk Area",
           "showlegend": false,
           "x": [
            9.9,
            9.9,
            5.1,
            5.1,
            5.0,
            5.0,
            5.1,
            5.1,
            6.4,
            6.4,
            8.6,
            8.6,
            9.9,
            9.9,
            10.0,
            10.0,
            9.9
           ],
           "y": [
            1.5,
            0.0,
            0.0,
            1.5,
            1.5,
            3.6,
            3.6,
            4.9,
            4.9,
            5.0,
            5.0,
            4.9,
            4.9,
            3.6,
            3.6,
            1.5,
            1.5
           ],
           "type": "scatter"
          },
          {
           "fill": "toself",
           "fillcolor": "rgb(0, 0, 0)",
           "hoverinfo": "name",
           "line": {
            "width": 0
           },
           "mode": "lines",
           "name": "Risk Area",
           "showlegend": false,
           "x": [
            13.6,
            15.0,
            15.0,
            10.1,
            10.1,
            10.0,
            10.0,
            10.1,
            10.1,
            11.5,
            11.5,
            13.6,
            13.6
           ],
           "y": [
            4.9,
            4.9,
            0.0,
            0.0,
            1.5,
            1.5,
            3.6,
            3.6,
            4.9,
            4.9,
            5.0,
            5.0,
            4.9
           ],
           "type": "scatter"
          },
          {
           "fill": "toself",
           "fillcolor": "rgb(178, 0, 0)",
           "hoverinfo": "name",
           "line": {
            "width": 0
           },
           "mode": "lines",
           "name": "Risk Area",
           "showlegend": false,
           "x": [
            13.6,
            15.0,
            15.0,
            13.6,
            13.6,
            11.5,
            11.5,
            10.1,
            10.1,
            10.0,
            10.0,
            10.1,
            10.1,
            11.5,
            11.5,
            13.6,
            13.6
           ],
           "y": [
            9.9,
            9.9,
            5.1,
            5.1,
            5.0,
            5.0,
            5.1,
            5.1,
            6.5,
            6.5,
            8.6,
            8.6,
            9.9,
            9.9,
            10.0,
            10.0,
            9.9
           ],
           "type": "scatter"
          },
          {
           "fill": "toself",
           "fillcolor": "rgb(178, 0, 0)",
           "hoverinfo": "name",
           "line": {
            "width": 0
           },
           "mode": "lines",
           "name": "Risk Area",
           "showlegend": false,
           "x": [
            9.9,
            9.9,
            8.6,
            8.6,
            6.4,
            6.4,
            5.1,
            5.1,
            5.0,
            5.0,
            5.1,
            5.1,
            6.4,
            6.4,
            8.6,
            8.6,
            9.9,
            9.9,
            10.0,
            10.0,
            9.9
           ],
           "y": [
            6.5,
            5.1,
            5.1,
            5.0,
            5.0,
            5.1,
            5.1,
            6.5,
            6.5,
            8.6,
            8.6,
            9.9,
            9.9,
            10.0,
            10.0,
            9.9,
            9.9,
            8.6,
            8.6,
            6.5,
            6.5
           ],
           "type": "scatter"
          },
          {
           "fill": "toself",
           "fillcolor": "rgb(127, 0, 0)",
           "hoverinfo": "name",
           "line": {
            "width": 0
           },
           "mode": "lines",
           "name": "Risk Area",
           "showlegend": false,
           "x": [
            4.9,
            4.9,
            3.6,
            3.6,
            1.5,
            1.5,
            0.0,
            0.0,
            1.5,
            1.5,
            3.6,
            3.6,
            4.9,
            4.9,
            5.0,
            5.0,
            4.9
           ],
           "y": [
            6.5,
            5.1,
            5.1,
            5.0,
            5.0,
            5.1,
            5.1,
            9.9,
            9.9,
            10.0,
            10.0,
            9.9,
            9.9,
            8.6,
            8.6,
            6.5,
            6.5
           ],
           "type": "scatter"
          },
          {
           "fill": "toself",
           "fillcolor": "rgb(51, 0, 0)",
           "hoverinfo": "name",
           "line": {
            "width": 0
           },
           "mode": "lines",
           "name": "Risk Area",
           "showlegend": false,
           "x": [
            1.5,
            0.0,
            0.0,
            4.9,
            4.9,
            5.0,
            5.0,
            4.9,
            4.9,
            3.6,
            3.6,
            1.5,
            1.5
           ],
           "y": [
            10.1,
            10.1,
            15.0,
            15.0,
            13.6,
            13.6,
            11.5,
            11.5,
            10.1,
            10.1,
            10.0,
            10.0,
            10.1
           ],
           "type": "scatter"
          },
          {
           "fill": "toself",
           "fillcolor": "rgb(25, 0, 0)",
           "hoverinfo": "name",
           "line": {
            "width": 0
           },
           "mode": "lines",
           "name": "Risk Area",
           "showlegend": false,
           "x": [
            6.4,
            5.1,
            5.1,
            5.0,
            5.0,
            5.1,
            5.1,
            9.9,
            9.9,
            10.0,
            10.0,
            9.9,
            9.9,
            8.6,
            8.6,
            6.4,
            6.4
           ],
           "y": [
            10.1,
            10.1,
            11.5,
            11.5,
            13.6,
            13.6,
            15.0,
            15.0,
            13.6,
            13.6,
            11.5,
            11.5,
            10.1,
            10.1,
            10.0,
            10.0,
            10.1
           ],
           "type": "scatter"
          },
          {
           "fill": "toself",
           "fillcolor": "rgb(25, 0, 0)",
           "hoverinfo": "name",
           "line": {
            "width": 0
           },
           "mode": "lines",
           "name": "Risk Area",
           "showlegend": false,
           "x": [
            10.1,
            10.1,
            15.0,
            15.0,
            13.6,
            13.6,
            11.5,
            11.5,
            10.1,
            10.1,
            10.0,
            10.0,
            10.1
           ],
           "y": [
            13.6,
            15.0,
            15.0,
            10.1,
            10.1,
            10.0,
            10.0,
            10.1,
            10.1,
            11.5,
            11.5,
            13.6,
            13.6
           ],
           "type": "scatter"
          },
          {
           "hoverinfo": "text",
           "marker": {
            "opacity": 1,
            "size": 1
           },
           "mode": "markers",
           "showlegend": false,
           "text": [
            "ID: 101, Pos(2.86,10.72)"
           ],
           "x": [
            2.8565885823018355
           ],
           "y": [
            10.722103307252944
           ],
           "type": "scatter"
          },
          {
           "hoverinfo": "text",
           "marker": {
            "opacity": 1,
            "size": 1
           },
           "mode": "markers",
           "showlegend": false,
           "text": [
            "ID: 102, Pos(1.97,10.84)"
           ],
           "x": [
            1.9659899902993228
           ],
           "y": [
            10.838590847777983
           ],
           "type": "scatter"
          },
          {
           "hoverinfo": "text",
           "marker": {
            "opacity": 1,
            "size": 1
           },
           "mode": "markers",
           "showlegend": false,
           "text": [
            "ID: 103, Pos(2.41,9.43)"
           ],
           "x": [
            2.4147785800346253
           ],
           "y": [
            9.432399348611538
           ],
           "type": "scatter"
          },
          {
           "hoverinfo": "text",
           "marker": {
            "opacity": 1,
            "size": 1
           },
           "mode": "markers",
           "showlegend": false,
           "text": [
            "ID: 104, Pos(3.29,11.20)"
           ],
           "x": [
            3.2941667084628445
           ],
           "y": [
            11.20177966383112
           ],
           "type": "scatter"
          },
          {
           "hoverinfo": "text",
           "marker": {
            "opacity": 1,
            "size": 1
           },
           "mode": "markers",
           "showlegend": false,
           "text": [
            "ID: 105, Pos(2.68,11.31)"
           ],
           "x": [
            2.676043534304297
           ],
           "y": [
            11.31080792468494
           ],
           "type": "scatter"
          },
          {
           "hoverinfo": "text",
           "marker": {
            "opacity": 1,
            "size": 1
           },
           "mode": "markers",
           "showlegend": false,
           "text": [
            "ID: 106, Pos(3.73,11.60)"
           ],
           "x": [
            3.726451586247561
           ],
           "y": [
            11.602373800947436
           ],
           "type": "scatter"
          },
          {
           "hoverinfo": "text",
           "marker": {
            "opacity": 1,
            "size": 1
           },
           "mode": "markers",
           "showlegend": false,
           "text": [
            "ID: 107, Pos(4.19,12.31)"
           ],
           "x": [
            4.187034804840907
           ],
           "y": [
            12.30726075619106
           ],
           "type": "scatter"
          },
          {
           "hoverinfo": "text",
           "marker": {
            "opacity": 1,
            "size": 1
           },
           "mode": "markers",
           "showlegend": false,
           "text": [
            "ID: 108, Pos(3.11,10.09)"
           ],
           "x": [
            3.1074077766690604
           ],
           "y": [
            10.093585735402108
           ],
           "type": "scatter"
          },
          {
           "hoverinfo": "text",
           "marker": {
            "opacity": 1,
            "size": 1
           },
           "mode": "markers",
           "showlegend": false,
           "text": [
            "ID: 109, Pos(3.46,12.08)"
           ],
           "x": [
            3.464679987289801
           ],
           "y": [
            12.08356485808892
           ],
           "type": "scatter"
          },
          {
           "hoverinfo": "text",
           "marker": {
            "opacity": 1,
            "size": 1
           },
           "mode": "markers",
           "showlegend": false,
           "text": [
            "ID: 110, Pos(2.43,10.30)"
           ],
           "x": [
            2.426770389111534
           ],
           "y": [
            10.304842456110933
           ],
           "type": "scatter"
          }
         ],
         "layout": {
          "shapes": [
           {
            "fillcolor": "rgba(255, 167, 0, 0.5)",
            "line": {
             "color": "rgba(255, 167, 0, 0.5)"
            },
            "type": "circle",
            "x0": 2.6565885823018354,
            "x1": 3.0565885823018357,
            "xref": "x",
            "y0": 10.522103307252944,
            "y1": 10.922103307252943,
            "yref": "y"
           },
           {
            "fillcolor": "rgba(0, 0, 128, 0.5)",
            "line": {
             "color": "rgba(0, 0, 128, 0.5)"
            },
            "type": "circle",
            "x0": 1.7659899902993228,
            "x1": 2.1659899902993227,
            "xref": "x",
            "y0": 10.638590847777984,
            "y1": 11.038590847777982,
            "yref": "y"
           },
           {
            "fillcolor": "rgba(48, 255, 199, 0.5)",
            "line": {
             "color": "rgba(48, 255, 199, 0.5)"
            },
            "type": "circle",
            "x0": 2.214778580034625,
            "x1": 2.6147785800346255,
            "xref": "x",
            "y0": 9.232399348611539,
            "y1": 9.632399348611537,
            "yref": "y"
           },
           {
            "fillcolor": "rgba(255, 178, 0, 0.5)",
            "line": {
             "color": "rgba(255, 178, 0, 0.5)"
            },
            "type": "circle",
            "x0": 3.0941667084628444,
            "x1": 3.4941667084628447,
            "xref": "x",
            "y0": 11.00177966383112,
            "y1": 11.40177966383112,
            "yref": "y"
           },
           {
            "fillcolor": "rgba(0, 0, 255, 0.5)",
            "line": {
             "color": "rgba(0, 0, 255, 0.5)"
            },
            "type": "circle",
            "x0": 2.476043534304297,
            "x1": 2.8760435343042974,
            "xref": "x",
            "y0": 11.110807924684941,
            "y1": 11.51080792468494,
            "yref": "y"
           },
           {
            "fillcolor": "rgba(255, 56, 0, 0.5)",
            "line": {
             "color": "rgba(255, 56, 0, 0.5)"
            },
            "type": "circle",
            "x0": 3.526451586247561,
            "x1": 3.9264515862475613,
            "xref": "x",
            "y0": 11.402373800947437,
            "y1": 11.802373800947436,
            "yref": "y"
           },
           {
            "fillcolor": "rgba(255, 219, 0, 0.5)",
            "line": {
             "color": "rgba(255, 219, 0, 0.5)"
            },
            "type": "circle",
            "x0": 3.987034804840907,
            "x1": 4.387034804840908,
            "xref": "x",
            "y0": 12.10726075619106,
            "y1": 12.507260756191059,
            "yref": "y"
           },
           {
            "fillcolor": "rgba(251, 241, 0, 0.5)",
            "line": {
             "color": "rgba(251, 241, 0, 0.5)"
            },
            "type": "circle",
            "x0": 2.9074077766690603,
            "x1": 3.3074077766690606,
            "xref": "x",
            "y0": 9.893585735402109,
            "y1": 10.293585735402107,
            "yref": "y"
           },
           {
            "fillcolor": "rgba(199, 255, 48, 0.5)",
            "line": {
             "color": "rgba(199, 255, 48, 0.5)"
            },
            "type": "circle",
            "x0": 3.2646799872898007,
            "x1": 3.664679987289801,
            "xref": "x",
            "y0": 11.88356485808892,
            "y1": 12.28356485808892,
            "yref": "y"
           },
           {
            "fillcolor": "rgba(225, 255, 22, 0.5)",
            "line": {
             "color": "rgba(225, 255, 22, 0.5)"
            },
            "type": "circle",
            "x0": 2.226770389111534,
            "x1": 2.626770389111534,
            "xref": "x",
            "y0": 10.104842456110934,
            "y1": 10.504842456110932,
            "yref": "y"
           },
           {
            "line": {
             "color": "black",
             "width": 3
            },
            "type": "line",
            "x0": 2.8565885823018355,
            "x1": 2.848648200632853,
            "y0": 10.722103307252944,
            "y1": 10.921945620937887
           },
           {
            "line": {
             "color": "white",
             "width": 3
            },
            "type": "line",
            "x0": 1.9659899902993228,
            "x1": 2.000505847420713,
            "y0": 10.838590847777983,
            "y1": 11.035589973682582
           },
           {
            "line": {
             "color": "black",
             "width": 3
            },
            "type": "line",
            "x0": 2.4147785800346253,
            "x1": 2.4189806992039276,
            "y0": 9.432399348611538,
            "y1": 9.632355199224834
           },
           {
            "line": {
             "color": "black",
             "width": 3
            },
            "type": "line",
            "x0": 3.2941667084628445,
            "x1": 3.4929534093105454,
            "y0": 11.20177966383112,
            "y1": 11.223776199151182
           },
           {
            "line": {
             "color": "white",
             "width": 3
            },
            "type": "line",
            "x0": 2.676043534304297,
            "x1": 2.823317298002772,
            "y0": 11.31080792468494,
            "y1": 11.44612399367191
           },
           {
            "line": {
             "color": "white",
             "width": 3
            },
            "type": "line",
            "x0": 3.726451586247561,
            "x1": 3.926274610245306,
            "y0": 11.602373800947436,
            "y1": 11.593961959270569
           },
           {
            "line": {
             "color": "black",
             "width": 3
            },
            "type": "line",
            "x0": 4.187034804840907,
            "x1": 4.386061346487098,
            "y0": 12.30726075619106,
            "y1": 12.326969528866112
           },
           {
            "line": {
             "color": "black",
             "width": 3
            },
            "type": "line",
            "x0": 3.1074077766690604,
            "x1": 3.081503542861497,
            "y0": 10.093585735402108,
            "y1": 10.29190106680854
           },
           {
            "line": {
             "color": "black",
             "width": 3
            },
            "type": "line",
            "x0": 3.464679987289801,
            "x1": 3.603993221518591,
            "y0": 12.08356485808892,
            "y1": 12.227063369470446
           },
           {
            "line": {
             "color": "black",
             "width": 3
            },
            "type": "line",
            "x0": 2.426770389111534,
            "x1": 2.3602251266529928,
            "y0": 10.304842456110933,
            "y1": 10.493447143338805
           }
          ],
          "title": {
           "text": "<b>Percentage using the shortest path: 0%  |  Number of Agents: 10</b>",
           "x": 0.5
          }
         },
         "name": "350"
        },
        {
         "data": [
          {
           "hoverinfo": "name",
           "line": {
            "color": "white"
           },
           "mode": "lines",
           "name": "Exterior",
           "showlegend": false,
           "x": [
            10.1,
            10.1,
            15.0,
            15.0,
            13.6,
            13.6,
            15.0,
            15.0,
            13.6,
            13.6,
            15.0,
            15.0,
            10.1,
            10.1,
            9.9,
            9.9,
            5.1,
            5.1,
            4.9,
            4.9,
            0.0,
            0.0,
            1.5,
            1.5,
            0.0,
            0.0,
            1.5,
            1.5,
            0.0,
            0.0,
            4.9,
            4.9,
            5.1,
            5.1,
            9.9,
            9.9,
            10.1
           ],
           "y": [
            1.5,
            0.0,
            0.0,
            4.9,
            4.9,
            5.1,
            5.1,
            9.9,
            9.9,
            10.1,
            10.1,
            15.0,
            15.0,
            13.6,
            13.6,
            15.0,
            15.0,
            13.6,
            13.6,
            15.0,
            15.0,
            10.1,
            10.1,
            9.9,
            9.9,
            5.1,
            5.1,
            4.9,
            4.9,
            0.0,
            0.0,
            1.5,
            1.5,
            0.0,
            0.0,
            1.5,
            1.5
           ],
           "type": "scatter"
          },
          {
           "hoverinfo": "name",
           "line": {
            "color": "white"
           },
           "mode": "lines",
           "name": "Obstacle",
           "showlegend": false,
           "x": [
            10.1,
            11.5,
            11.5,
            10.1,
            10.1,
            9.9,
            9.9,
            8.6,
            8.6,
            9.9,
            9.9,
            10.1,
            10.1
           ],
           "y": [
            5.1,
            5.1,
            4.9,
            4.9,
            3.6,
            3.6,
            4.9,
            4.9,
            5.1,
            5.1,
            6.5,
            6.5,
            5.1
           ],
           "type": "scatter"
          },
          {
           "hoverinfo": "name",
           "line": {
            "color": "white"
           },
           "mode": "lines",
           "name": "Obstacle",
           "showlegend": false,
           "x": [
            10.1,
            11.5,
            11.5,
            10.1,
            10.1,
            9.9,
            9.9,
            8.6,
            8.6,
            9.9,
            9.9,
            10.1,
            10.1
           ],
           "y": [
            10.1,
            10.1,
            9.9,
            9.9,
            8.6,
            8.6,
            9.9,
            9.9,
            10.1,
            10.1,
            11.5,
            11.5,
            10.1
           ],
           "type": "scatter"
          },
          {
           "hoverinfo": "name",
           "line": {
            "color": "white"
           },
           "mode": "lines",
           "name": "Obstacle",
           "showlegend": false,
           "x": [
            5.1,
            6.4,
            6.4,
            5.1,
            5.1,
            4.9,
            4.9,
            3.6,
            3.6,
            4.9,
            4.9,
            5.1,
            5.1
           ],
           "y": [
            5.1,
            5.1,
            4.9,
            4.9,
            3.6,
            3.6,
            4.9,
            4.9,
            5.1,
            5.1,
            6.5,
            6.5,
            5.1
           ],
           "type": "scatter"
          },
          {
           "hoverinfo": "name",
           "line": {
            "color": "white"
           },
           "mode": "lines",
           "name": "Obstacle",
           "showlegend": false,
           "x": [
            5.1,
            6.4,
            6.4,
            5.1,
            5.1,
            4.9,
            4.9,
            3.6,
            3.6,
            4.9,
            4.9,
            5.1,
            5.1
           ],
           "y": [
            10.1,
            10.1,
            9.9,
            9.9,
            8.6,
            8.6,
            9.9,
            9.9,
            10.1,
            10.1,
            11.5,
            11.5,
            10.1
           ],
           "type": "scatter"
          },
          {
           "fill": "toself",
           "fillcolor": "rgb(0, 0, 0)",
           "hoverinfo": "name",
           "line": {
            "width": 0
           },
           "mode": "lines",
           "name": "Risk Area",
           "showlegend": false,
           "x": [
            1.5,
            1.5,
            3.6,
            3.6,
            4.9,
            4.9,
            5.0,
            5.0,
            4.9,
            4.9,
            0.0,
            0.0,
            1.5
           ],
           "y": [
            4.9,
            5.0,
            5.0,
            4.9,
            4.9,
            3.6,
            3.6,
            1.5,
            1.5,
            0.0,
            0.0,
            4.9,
            4.9
           ],
           "type": "scatter"
          },
          {
           "fill": "toself",
           "fillcolor": "rgb(255, 0, 0)",
           "hoverinfo": "name",
           "line": {
            "width": 0
           },
           "mode": "lines",
           "name": "Risk Area",
           "showlegend": false,
           "x": [
            9.9,
            9.9,
            5.1,
            5.1,
            5.0,
            5.0,
            5.1,
            5.1,
            6.4,
            6.4,
            8.6,
            8.6,
            9.9,
            9.9,
            10.0,
            10.0,
            9.9
           ],
           "y": [
            1.5,
            0.0,
            0.0,
            1.5,
            1.5,
            3.6,
            3.6,
            4.9,
            4.9,
            5.0,
            5.0,
            4.9,
            4.9,
            3.6,
            3.6,
            1.5,
            1.5
           ],
           "type": "scatter"
          },
          {
           "fill": "toself",
           "fillcolor": "rgb(0, 0, 0)",
           "hoverinfo": "name",
           "line": {
            "width": 0
           },
           "mode": "lines",
           "name": "Risk Area",
           "showlegend": false,
           "x": [
            13.6,
            15.0,
            15.0,
            10.1,
            10.1,
            10.0,
            10.0,
            10.1,
            10.1,
            11.5,
            11.5,
            13.6,
            13.6
           ],
           "y": [
            4.9,
            4.9,
            0.0,
            0.0,
            1.5,
            1.5,
            3.6,
            3.6,
            4.9,
            4.9,
            5.0,
            5.0,
            4.9
           ],
           "type": "scatter"
          },
          {
           "fill": "toself",
           "fillcolor": "rgb(178, 0, 0)",
           "hoverinfo": "name",
           "line": {
            "width": 0
           },
           "mode": "lines",
           "name": "Risk Area",
           "showlegend": false,
           "x": [
            13.6,
            15.0,
            15.0,
            13.6,
            13.6,
            11.5,
            11.5,
            10.1,
            10.1,
            10.0,
            10.0,
            10.1,
            10.1,
            11.5,
            11.5,
            13.6,
            13.6
           ],
           "y": [
            9.9,
            9.9,
            5.1,
            5.1,
            5.0,
            5.0,
            5.1,
            5.1,
            6.5,
            6.5,
            8.6,
            8.6,
            9.9,
            9.9,
            10.0,
            10.0,
            9.9
           ],
           "type": "scatter"
          },
          {
           "fill": "toself",
           "fillcolor": "rgb(178, 0, 0)",
           "hoverinfo": "name",
           "line": {
            "width": 0
           },
           "mode": "lines",
           "name": "Risk Area",
           "showlegend": false,
           "x": [
            9.9,
            9.9,
            8.6,
            8.6,
            6.4,
            6.4,
            5.1,
            5.1,
            5.0,
            5.0,
            5.1,
            5.1,
            6.4,
            6.4,
            8.6,
            8.6,
            9.9,
            9.9,
            10.0,
            10.0,
            9.9
           ],
           "y": [
            6.5,
            5.1,
            5.1,
            5.0,
            5.0,
            5.1,
            5.1,
            6.5,
            6.5,
            8.6,
            8.6,
            9.9,
            9.9,
            10.0,
            10.0,
            9.9,
            9.9,
            8.6,
            8.6,
            6.5,
            6.5
           ],
           "type": "scatter"
          },
          {
           "fill": "toself",
           "fillcolor": "rgb(127, 0, 0)",
           "hoverinfo": "name",
           "line": {
            "width": 0
           },
           "mode": "lines",
           "name": "Risk Area",
           "showlegend": false,
           "x": [
            4.9,
            4.9,
            3.6,
            3.6,
            1.5,
            1.5,
            0.0,
            0.0,
            1.5,
            1.5,
            3.6,
            3.6,
            4.9,
            4.9,
            5.0,
            5.0,
            4.9
           ],
           "y": [
            6.5,
            5.1,
            5.1,
            5.0,
            5.0,
            5.1,
            5.1,
            9.9,
            9.9,
            10.0,
            10.0,
            9.9,
            9.9,
            8.6,
            8.6,
            6.5,
            6.5
           ],
           "type": "scatter"
          },
          {
           "fill": "toself",
           "fillcolor": "rgb(76, 0, 0)",
           "hoverinfo": "name",
           "line": {
            "width": 0
           },
           "mode": "lines",
           "name": "Risk Area",
           "showlegend": false,
           "x": [
            1.5,
            0.0,
            0.0,
            4.9,
            4.9,
            5.0,
            5.0,
            4.9,
            4.9,
            3.6,
            3.6,
            1.5,
            1.5
           ],
           "y": [
            10.1,
            10.1,
            15.0,
            15.0,
            13.6,
            13.6,
            11.5,
            11.5,
            10.1,
            10.1,
            10.0,
            10.0,
            10.1
           ],
           "type": "scatter"
          },
          {
           "fill": "toself",
           "fillcolor": "rgb(25, 0, 0)",
           "hoverinfo": "name",
           "line": {
            "width": 0
           },
           "mode": "lines",
           "name": "Risk Area",
           "showlegend": false,
           "x": [
            6.4,
            5.1,
            5.1,
            5.0,
            5.0,
            5.1,
            5.1,
            9.9,
            9.9,
            10.0,
            10.0,
            9.9,
            9.9,
            8.6,
            8.6,
            6.4,
            6.4
           ],
           "y": [
            10.1,
            10.1,
            11.5,
            11.5,
            13.6,
            13.6,
            15.0,
            15.0,
            13.6,
            13.6,
            11.5,
            11.5,
            10.1,
            10.1,
            10.0,
            10.0,
            10.1
           ],
           "type": "scatter"
          },
          {
           "fill": "toself",
           "fillcolor": "rgb(25, 0, 0)",
           "hoverinfo": "name",
           "line": {
            "width": 0
           },
           "mode": "lines",
           "name": "Risk Area",
           "showlegend": false,
           "x": [
            10.1,
            10.1,
            15.0,
            15.0,
            13.6,
            13.6,
            11.5,
            11.5,
            10.1,
            10.1,
            10.0,
            10.0,
            10.1
           ],
           "y": [
            13.6,
            15.0,
            15.0,
            10.1,
            10.1,
            10.0,
            10.0,
            10.1,
            10.1,
            11.5,
            11.5,
            13.6,
            13.6
           ],
           "type": "scatter"
          },
          {
           "hoverinfo": "text",
           "marker": {
            "opacity": 1,
            "size": 1
           },
           "mode": "markers",
           "showlegend": false,
           "text": [
            "ID: 101, Pos(3.05,11.10)"
           ],
           "x": [
            3.054879717338544
           ],
           "y": [
            11.09662179591392
           ],
           "type": "scatter"
          },
          {
           "hoverinfo": "text",
           "marker": {
            "opacity": 1,
            "size": 1
           },
           "mode": "markers",
           "showlegend": false,
           "text": [
            "ID: 102, Pos(2.62,11.54)"
           ],
           "x": [
            2.621645824541645
           ],
           "y": [
            11.535453492163732
           ],
           "type": "scatter"
          },
          {
           "hoverinfo": "text",
           "marker": {
            "opacity": 1,
            "size": 1
           },
           "mode": "markers",
           "showlegend": false,
           "text": [
            "ID: 103, Pos(2.63,10.12)"
           ],
           "x": [
            2.627613366637893
           ],
           "y": [
            10.118463298087404
           ],
           "type": "scatter"
          },
          {
           "hoverinfo": "text",
           "marker": {
            "opacity": 1,
            "size": 1
           },
           "mode": "markers",
           "showlegend": false,
           "text": [
            "ID: 104, Pos(3.83,11.29)"
           ],
           "x": [
            3.8299952430318402
           ],
           "y": [
            11.290703590389391
           ],
           "type": "scatter"
          },
          {
           "hoverinfo": "text",
           "marker": {
            "opacity": 1,
            "size": 1
           },
           "mode": "markers",
           "showlegend": false,
           "text": [
            "ID: 105, Pos(3.34,11.87)"
           ],
           "x": [
            3.3353784926109724
           ],
           "y": [
            11.866293591057445
           ],
           "type": "scatter"
          },
          {
           "hoverinfo": "text",
           "marker": {
            "opacity": 1,
            "size": 1
           },
           "mode": "markers",
           "showlegend": false,
           "text": [
            "ID: 106, Pos(4.20,11.78)"
           ],
           "x": [
            4.200683987786538
           ],
           "y": [
            11.783603838735566
           ],
           "type": "scatter"
          },
          {
           "hoverinfo": "text",
           "marker": {
            "opacity": 1,
            "size": 1
           },
           "mode": "markers",
           "showlegend": false,
           "text": [
            "ID: 107, Pos(4.65,12.54)"
           ],
           "x": [
            4.649387994191433
           ],
           "y": [
            12.535933130099977
           ],
           "type": "scatter"
          },
          {
           "hoverinfo": "text",
           "marker": {
            "opacity": 1,
            "size": 1
           },
           "mode": "markers",
           "showlegend": false,
           "text": [
            "ID: 108, Pos(3.44,10.59)"
           ],
           "x": [
            3.436620938660848
           ],
           "y": [
            10.590829674670452
           ],
           "type": "scatter"
          },
          {
           "hoverinfo": "text",
           "marker": {
            "opacity": 1,
            "size": 1
           },
           "mode": "markers",
           "showlegend": false,
           "text": [
            "ID: 109, Pos(3.88,12.35)"
           ],
           "x": [
            3.878367663537867
           ],
           "y": [
            12.350538153639326
           ],
           "type": "scatter"
          },
          {
           "hoverinfo": "text",
           "marker": {
            "opacity": 1,
            "size": 1
           },
           "mode": "markers",
           "showlegend": false,
           "text": [
            "ID: 110, Pos(2.44,10.78)"
           ],
           "x": [
            2.443477511679326
           ],
           "y": [
            10.782911677900167
           ],
           "type": "scatter"
          }
         ],
         "layout": {
          "shapes": [
           {
            "fillcolor": "rgba(131, 255, 115, 0.5)",
            "line": {
             "color": "rgba(131, 255, 115, 0.5)"
            },
            "type": "circle",
            "x0": 2.8548797173385436,
            "x1": 3.254879717338544,
            "xref": "x",
            "y0": 10.896621795913921,
            "y1": 11.29662179591392,
            "yref": "y"
           },
           {
            "fillcolor": "rgba(138, 255, 109, 0.5)",
            "line": {
             "color": "rgba(138, 255, 109, 0.5)"
            },
            "type": "circle",
            "x0": 2.421645824541645,
            "x1": 2.8216458245416454,
            "xref": "x",
            "y0": 11.335453492163733,
            "y1": 11.735453492163732,
            "yref": "y"
           },
           {
            "fillcolor": "rgba(0, 212, 255, 0.5)",
            "line": {
             "color": "rgba(0, 212, 255, 0.5)"
            },
            "type": "circle",
            "x0": 2.427613366637893,
            "x1": 2.8276133666378933,
            "xref": "x",
            "y0": 9.918463298087405,
            "y1": 10.318463298087403,
            "yref": "y"
           },
           {
            "fillcolor": "rgba(0, 0, 128, 0.5)",
            "line": {
             "color": "rgba(0, 0, 128, 0.5)"
            },
            "type": "circle",
            "x0": 3.62999524303184,
            "x1": 4.02999524303184,
            "xref": "x",
            "y0": 11.090703590389392,
            "y1": 11.49070359038939,
            "yref": "y"
           },
           {
            "fillcolor": "rgba(199, 255, 48, 0.5)",
            "line": {
             "color": "rgba(199, 255, 48, 0.5)"
            },
            "type": "circle",
            "x0": 3.1353784926109722,
            "x1": 3.5353784926109726,
            "xref": "x",
            "y0": 11.666293591057446,
            "y1": 12.066293591057445,
            "yref": "y"
           },
           {
            "fillcolor": "rgba(0, 0, 128, 0.5)",
            "line": {
             "color": "rgba(0, 0, 128, 0.5)"
            },
            "type": "circle",
            "x0": 4.000683987786537,
            "x1": 4.400683987786538,
            "xref": "x",
            "y0": 11.583603838735566,
            "y1": 11.983603838735565,
            "yref": "y"
           },
           {
            "fillcolor": "rgba(0, 0, 128, 0.5)",
            "line": {
             "color": "rgba(0, 0, 128, 0.5)"
            },
            "type": "circle",
            "x0": 4.449387994191433,
            "x1": 4.849387994191433,
            "xref": "x",
            "y0": 12.335933130099978,
            "y1": 12.735933130099976,
            "yref": "y"
           },
           {
            "fillcolor": "rgba(0, 0, 128, 0.5)",
            "line": {
             "color": "rgba(0, 0, 128, 0.5)"
            },
            "type": "circle",
            "x0": 3.236620938660848,
            "x1": 3.6366209386608483,
            "xref": "x",
            "y0": 10.390829674670453,
            "y1": 10.790829674670452,
            "yref": "y"
           },
           {
            "fillcolor": "rgba(138, 255, 109, 0.5)",
            "line": {
             "color": "rgba(138, 255, 109, 0.5)"
            },
            "type": "circle",
            "x0": 3.678367663537867,
            "x1": 4.078367663537867,
            "xref": "x",
            "y0": 12.150538153639326,
            "y1": 12.550538153639325,
            "yref": "y"
           },
           {
            "fillcolor": "rgba(241, 252, 6, 0.5)",
            "line": {
             "color": "rgba(241, 252, 6, 0.5)"
            },
            "type": "circle",
            "x0": 2.243477511679326,
            "x1": 2.6434775116793263,
            "xref": "x",
            "y0": 10.582911677900167,
            "y1": 10.982911677900166,
            "yref": "y"
           },
           {
            "line": {
             "color": "black",
             "width": 3
            },
            "type": "line",
            "x0": 3.054879717338544,
            "x1": 3.24659730965277,
            "y0": 11.09662179591392,
            "y1": 11.153581121728365
           },
           {
            "line": {
             "color": "black",
             "width": 3
            },
            "type": "line",
            "x0": 2.621645824541645,
            "x1": 2.792449339610797,
            "y0": 11.535453492163732,
            "y1": 11.63950232320004
           },
           {
            "line": {
             "color": "black",
             "width": 3
            },
            "type": "line",
            "x0": 2.627613366637893,
            "x1": 2.806466206863422,
            "y0": 10.118463298087404,
            "y1": 10.207971183456579
           },
           {
            "line": {
             "color": "white",
             "width": 3
            },
            "type": "line",
            "x0": 3.8299952430318402,
            "x1": 4.028453984849109,
            "y0": 11.290703590389391,
            "y1": 11.315485192361555
           },
           {
            "line": {
             "color": "black",
             "width": 3
            },
            "type": "line",
            "x0": 3.3353784926109724,
            "x1": 3.5305102480482287,
            "y0": 11.866293591057445,
            "y1": 11.910152433039135
           },
           {
            "line": {
             "color": "white",
             "width": 3
            },
            "type": "line",
            "x0": 4.200683987786538,
            "x1": 4.397107330490593,
            "y0": 11.783603838735566,
            "y1": 11.821258459182001
           },
           {
            "line": {
             "color": "white",
             "width": 3
            },
            "type": "line",
            "x0": 4.649387994191433,
            "x1": 4.849355950328421,
            "y0": 12.535933130099977,
            "y1": 12.539513146635606
           },
           {
            "line": {
             "color": "white",
             "width": 3
            },
            "type": "line",
            "x0": 3.436620938660848,
            "x1": 3.6218592438090584,
            "y0": 10.590829674670452,
            "y1": 10.666240352334949
           },
           {
            "line": {
             "color": "black",
             "width": 3
            },
            "type": "line",
            "x0": 3.878367663537867,
            "x1": 4.069442732566983,
            "y0": 12.350538153639326,
            "y1": 12.409617066929252
           },
           {
            "line": {
             "color": "black",
             "width": 3
            },
            "type": "line",
            "x0": 2.443477511679326,
            "x1": 2.6236396506598423,
            "y0": 10.782911677900167,
            "y1": 10.869754085040718
           }
          ],
          "title": {
           "text": "<b>Percentage using the shortest path: 0%  |  Number of Agents: 10</b>",
           "x": 0.5
          }
         },
         "name": "400"
        },
        {
         "data": [
          {
           "hoverinfo": "name",
           "line": {
            "color": "white"
           },
           "mode": "lines",
           "name": "Exterior",
           "showlegend": false,
           "x": [
            10.1,
            10.1,
            15.0,
            15.0,
            13.6,
            13.6,
            15.0,
            15.0,
            13.6,
            13.6,
            15.0,
            15.0,
            10.1,
            10.1,
            9.9,
            9.9,
            5.1,
            5.1,
            4.9,
            4.9,
            0.0,
            0.0,
            1.5,
            1.5,
            0.0,
            0.0,
            1.5,
            1.5,
            0.0,
            0.0,
            4.9,
            4.9,
            5.1,
            5.1,
            9.9,
            9.9,
            10.1
           ],
           "y": [
            1.5,
            0.0,
            0.0,
            4.9,
            4.9,
            5.1,
            5.1,
            9.9,
            9.9,
            10.1,
            10.1,
            15.0,
            15.0,
            13.6,
            13.6,
            15.0,
            15.0,
            13.6,
            13.6,
            15.0,
            15.0,
            10.1,
            10.1,
            9.9,
            9.9,
            5.1,
            5.1,
            4.9,
            4.9,
            0.0,
            0.0,
            1.5,
            1.5,
            0.0,
            0.0,
            1.5,
            1.5
           ],
           "type": "scatter"
          },
          {
           "hoverinfo": "name",
           "line": {
            "color": "white"
           },
           "mode": "lines",
           "name": "Obstacle",
           "showlegend": false,
           "x": [
            10.1,
            11.5,
            11.5,
            10.1,
            10.1,
            9.9,
            9.9,
            8.6,
            8.6,
            9.9,
            9.9,
            10.1,
            10.1
           ],
           "y": [
            5.1,
            5.1,
            4.9,
            4.9,
            3.6,
            3.6,
            4.9,
            4.9,
            5.1,
            5.1,
            6.5,
            6.5,
            5.1
           ],
           "type": "scatter"
          },
          {
           "hoverinfo": "name",
           "line": {
            "color": "white"
           },
           "mode": "lines",
           "name": "Obstacle",
           "showlegend": false,
           "x": [
            10.1,
            11.5,
            11.5,
            10.1,
            10.1,
            9.9,
            9.9,
            8.6,
            8.6,
            9.9,
            9.9,
            10.1,
            10.1
           ],
           "y": [
            10.1,
            10.1,
            9.9,
            9.9,
            8.6,
            8.6,
            9.9,
            9.9,
            10.1,
            10.1,
            11.5,
            11.5,
            10.1
           ],
           "type": "scatter"
          },
          {
           "hoverinfo": "name",
           "line": {
            "color": "white"
           },
           "mode": "lines",
           "name": "Obstacle",
           "showlegend": false,
           "x": [
            5.1,
            6.4,
            6.4,
            5.1,
            5.1,
            4.9,
            4.9,
            3.6,
            3.6,
            4.9,
            4.9,
            5.1,
            5.1
           ],
           "y": [
            5.1,
            5.1,
            4.9,
            4.9,
            3.6,
            3.6,
            4.9,
            4.9,
            5.1,
            5.1,
            6.5,
            6.5,
            5.1
           ],
           "type": "scatter"
          },
          {
           "hoverinfo": "name",
           "line": {
            "color": "white"
           },
           "mode": "lines",
           "name": "Obstacle",
           "showlegend": false,
           "x": [
            5.1,
            6.4,
            6.4,
            5.1,
            5.1,
            4.9,
            4.9,
            3.6,
            3.6,
            4.9,
            4.9,
            5.1,
            5.1
           ],
           "y": [
            10.1,
            10.1,
            9.9,
            9.9,
            8.6,
            8.6,
            9.9,
            9.9,
            10.1,
            10.1,
            11.5,
            11.5,
            10.1
           ],
           "type": "scatter"
          },
          {
           "fill": "toself",
           "fillcolor": "rgb(0, 0, 0)",
           "hoverinfo": "name",
           "line": {
            "width": 0
           },
           "mode": "lines",
           "name": "Risk Area",
           "showlegend": false,
           "x": [
            1.5,
            1.5,
            3.6,
            3.6,
            4.9,
            4.9,
            5.0,
            5.0,
            4.9,
            4.9,
            0.0,
            0.0,
            1.5
           ],
           "y": [
            4.9,
            5.0,
            5.0,
            4.9,
            4.9,
            3.6,
            3.6,
            1.5,
            1.5,
            0.0,
            0.0,
            4.9,
            4.9
           ],
           "type": "scatter"
          },
          {
           "fill": "toself",
           "fillcolor": "rgb(255, 0, 0)",
           "hoverinfo": "name",
           "line": {
            "width": 0
           },
           "mode": "lines",
           "name": "Risk Area",
           "showlegend": false,
           "x": [
            9.9,
            9.9,
            5.1,
            5.1,
            5.0,
            5.0,
            5.1,
            5.1,
            6.4,
            6.4,
            8.6,
            8.6,
            9.9,
            9.9,
            10.0,
            10.0,
            9.9
           ],
           "y": [
            1.5,
            0.0,
            0.0,
            1.5,
            1.5,
            3.6,
            3.6,
            4.9,
            4.9,
            5.0,
            5.0,
            4.9,
            4.9,
            3.6,
            3.6,
            1.5,
            1.5
           ],
           "type": "scatter"
          },
          {
           "fill": "toself",
           "fillcolor": "rgb(0, 0, 0)",
           "hoverinfo": "name",
           "line": {
            "width": 0
           },
           "mode": "lines",
           "name": "Risk Area",
           "showlegend": false,
           "x": [
            13.6,
            15.0,
            15.0,
            10.1,
            10.1,
            10.0,
            10.0,
            10.1,
            10.1,
            11.5,
            11.5,
            13.6,
            13.6
           ],
           "y": [
            4.9,
            4.9,
            0.0,
            0.0,
            1.5,
            1.5,
            3.6,
            3.6,
            4.9,
            4.9,
            5.0,
            5.0,
            4.9
           ],
           "type": "scatter"
          },
          {
           "fill": "toself",
           "fillcolor": "rgb(178, 0, 0)",
           "hoverinfo": "name",
           "line": {
            "width": 0
           },
           "mode": "lines",
           "name": "Risk Area",
           "showlegend": false,
           "x": [
            13.6,
            15.0,
            15.0,
            13.6,
            13.6,
            11.5,
            11.5,
            10.1,
            10.1,
            10.0,
            10.0,
            10.1,
            10.1,
            11.5,
            11.5,
            13.6,
            13.6
           ],
           "y": [
            9.9,
            9.9,
            5.1,
            5.1,
            5.0,
            5.0,
            5.1,
            5.1,
            6.5,
            6.5,
            8.6,
            8.6,
            9.9,
            9.9,
            10.0,
            10.0,
            9.9
           ],
           "type": "scatter"
          },
          {
           "fill": "toself",
           "fillcolor": "rgb(178, 0, 0)",
           "hoverinfo": "name",
           "line": {
            "width": 0
           },
           "mode": "lines",
           "name": "Risk Area",
           "showlegend": false,
           "x": [
            9.9,
            9.9,
            8.6,
            8.6,
            6.4,
            6.4,
            5.1,
            5.1,
            5.0,
            5.0,
            5.1,
            5.1,
            6.4,
            6.4,
            8.6,
            8.6,
            9.9,
            9.9,
            10.0,
            10.0,
            9.9
           ],
           "y": [
            6.5,
            5.1,
            5.1,
            5.0,
            5.0,
            5.1,
            5.1,
            6.5,
            6.5,
            8.6,
            8.6,
            9.9,
            9.9,
            10.0,
            10.0,
            9.9,
            9.9,
            8.6,
            8.6,
            6.5,
            6.5
           ],
           "type": "scatter"
          },
          {
           "fill": "toself",
           "fillcolor": "rgb(127, 0, 0)",
           "hoverinfo": "name",
           "line": {
            "width": 0
           },
           "mode": "lines",
           "name": "Risk Area",
           "showlegend": false,
           "x": [
            4.9,
            4.9,
            3.6,
            3.6,
            1.5,
            1.5,
            0.0,
            0.0,
            1.5,
            1.5,
            3.6,
            3.6,
            4.9,
            4.9,
            5.0,
            5.0,
            4.9
           ],
           "y": [
            6.5,
            5.1,
            5.1,
            5.0,
            5.0,
            5.1,
            5.1,
            9.9,
            9.9,
            10.0,
            10.0,
            9.9,
            9.9,
            8.6,
            8.6,
            6.5,
            6.5
           ],
           "type": "scatter"
          },
          {
           "fill": "toself",
           "fillcolor": "rgb(76, 0, 0)",
           "hoverinfo": "name",
           "line": {
            "width": 0
           },
           "mode": "lines",
           "name": "Risk Area",
           "showlegend": false,
           "x": [
            1.5,
            0.0,
            0.0,
            4.9,
            4.9,
            5.0,
            5.0,
            4.9,
            4.9,
            3.6,
            3.6,
            1.5,
            1.5
           ],
           "y": [
            10.1,
            10.1,
            15.0,
            15.0,
            13.6,
            13.6,
            11.5,
            11.5,
            10.1,
            10.1,
            10.0,
            10.0,
            10.1
           ],
           "type": "scatter"
          },
          {
           "fill": "toself",
           "fillcolor": "rgb(25, 0, 0)",
           "hoverinfo": "name",
           "line": {
            "width": 0
           },
           "mode": "lines",
           "name": "Risk Area",
           "showlegend": false,
           "x": [
            6.4,
            5.1,
            5.1,
            5.0,
            5.0,
            5.1,
            5.1,
            9.9,
            9.9,
            10.0,
            10.0,
            9.9,
            9.9,
            8.6,
            8.6,
            6.4,
            6.4
           ],
           "y": [
            10.1,
            10.1,
            11.5,
            11.5,
            13.6,
            13.6,
            15.0,
            15.0,
            13.6,
            13.6,
            11.5,
            11.5,
            10.1,
            10.1,
            10.0,
            10.0,
            10.1
           ],
           "type": "scatter"
          },
          {
           "fill": "toself",
           "fillcolor": "rgb(25, 0, 0)",
           "hoverinfo": "name",
           "line": {
            "width": 0
           },
           "mode": "lines",
           "name": "Risk Area",
           "showlegend": false,
           "x": [
            10.1,
            10.1,
            15.0,
            15.0,
            13.6,
            13.6,
            11.5,
            11.5,
            10.1,
            10.1,
            10.0,
            10.0,
            10.1
           ],
           "y": [
            13.6,
            15.0,
            15.0,
            10.1,
            10.1,
            10.0,
            10.0,
            10.1,
            10.1,
            11.5,
            11.5,
            13.6,
            13.6
           ],
           "type": "scatter"
          },
          {
           "hoverinfo": "text",
           "marker": {
            "opacity": 1,
            "size": 1
           },
           "mode": "markers",
           "showlegend": false,
           "text": [
            "ID: 101, Pos(3.91,11.36)"
           ],
           "x": [
            3.914233668576241
           ],
           "y": [
            11.36206975875299
           ],
           "type": "scatter"
          },
          {
           "hoverinfo": "text",
           "marker": {
            "opacity": 1,
            "size": 1
           },
           "mode": "markers",
           "showlegend": false,
           "text": [
            "ID: 102, Pos(3.37,11.82)"
           ],
           "x": [
            3.3737228286117413
           ],
           "y": [
            11.821643441896812
           ],
           "type": "scatter"
          },
          {
           "hoverinfo": "text",
           "marker": {
            "opacity": 1,
            "size": 1
           },
           "mode": "markers",
           "showlegend": false,
           "text": [
            "ID: 103, Pos(3.78,10.73)"
           ],
           "x": [
            3.7803971927714835
           ],
           "y": [
            10.731906765038087
           ],
           "type": "scatter"
          },
          {
           "hoverinfo": "text",
           "marker": {
            "opacity": 1,
            "size": 1
           },
           "mode": "markers",
           "showlegend": false,
           "text": [
            "ID: 104, Pos(4.68,11.77)"
           ],
           "x": [
            4.683429467973506
           ],
           "y": [
            11.774110104492811
           ],
           "type": "scatter"
          },
          {
           "hoverinfo": "text",
           "marker": {
            "opacity": 1,
            "size": 1
           },
           "mode": "markers",
           "showlegend": false,
           "text": [
            "ID: 105, Pos(4.20,12.12)"
           ],
           "x": [
            4.198180692912824
           ],
           "y": [
            12.121276921849518
           ],
           "type": "scatter"
          },
          {
           "hoverinfo": "text",
           "marker": {
            "opacity": 1,
            "size": 1
           },
           "mode": "markers",
           "showlegend": false,
           "text": [
            "ID: 106, Pos(5.77,12.07)"
           ],
           "x": [
            5.774099457091051
           ],
           "y": [
            12.065984551507455
           ],
           "type": "scatter"
          },
          {
           "hoverinfo": "text",
           "marker": {
            "opacity": 1,
            "size": 1
           },
           "mode": "markers",
           "showlegend": false,
           "text": [
            "ID: 107, Pos(6.24,12.62)"
           ],
           "x": [
            6.243474913583967
           ],
           "y": [
            12.62149849285762
           ],
           "type": "scatter"
          },
          {
           "hoverinfo": "text",
           "marker": {
            "opacity": 1,
            "size": 1
           },
           "mode": "markers",
           "showlegend": false,
           "text": [
            "ID: 108, Pos(4.58,11.17)"
           ],
           "x": [
            4.578472761748325
           ],
           "y": [
            11.169453911327476
           ],
           "type": "scatter"
          },
          {
           "hoverinfo": "text",
           "marker": {
            "opacity": 1,
            "size": 1
           },
           "mode": "markers",
           "showlegend": false,
           "text": [
            "ID: 109, Pos(5.11,12.49)"
           ],
           "x": [
            5.1087491799072176
           ],
           "y": [
            12.491841060081587
           ],
           "type": "scatter"
          },
          {
           "hoverinfo": "text",
           "marker": {
            "opacity": 1,
            "size": 1
           },
           "mode": "markers",
           "showlegend": false,
           "text": [
            "ID: 110, Pos(3.13,11.09)"
           ],
           "x": [
            3.1278529320310007
           ],
           "y": [
            11.089903076614844
           ],
           "type": "scatter"
          }
         ],
         "layout": {
          "shapes": [
           {
            "fillcolor": "rgba(51, 255, 196, 0.5)",
            "line": {
             "color": "rgba(51, 255, 196, 0.5)"
            },
            "type": "circle",
            "x0": 3.7142336685762407,
            "x1": 4.114233668576241,
            "xref": "x",
            "y0": 11.16206975875299,
            "y1": 11.562069758752989,
            "yref": "y"
           },
           {
            "fillcolor": "rgba(48, 255, 199, 0.5)",
            "line": {
             "color": "rgba(48, 255, 199, 0.5)"
            },
            "type": "circle",
            "x0": 3.173722828611741,
            "x1": 3.5737228286117415,
            "xref": "x",
            "y0": 11.621643441896813,
            "y1": 12.021643441896812,
            "yref": "y"
           },
           {
            "fillcolor": "rgba(6, 237, 241, 0.5)",
            "line": {
             "color": "rgba(6, 237, 241, 0.5)"
            },
            "type": "circle",
            "x0": 3.5803971927714833,
            "x1": 3.9803971927714836,
            "xref": "x",
            "y0": 10.531906765038087,
            "y1": 10.931906765038086,
            "yref": "y"
           },
           {
            "fillcolor": "rgba(90, 255, 157, 0.5)",
            "line": {
             "color": "rgba(90, 255, 157, 0.5)"
            },
            "type": "circle",
            "x0": 4.483429467973505,
            "x1": 4.883429467973506,
            "xref": "x",
            "y0": 11.574110104492812,
            "y1": 11.97411010449281,
            "yref": "y"
           },
           {
            "fillcolor": "rgba(0, 152, 255, 0.5)",
            "line": {
             "color": "rgba(0, 152, 255, 0.5)"
            },
            "type": "circle",
            "x0": 3.9981806929128236,
            "x1": 4.398180692912824,
            "xref": "x",
            "y0": 11.921276921849518,
            "y1": 12.321276921849517,
            "yref": "y"
           },
           {
            "fillcolor": "rgba(0, 0, 128, 0.5)",
            "line": {
             "color": "rgba(0, 0, 128, 0.5)"
            },
            "type": "circle",
            "x0": 5.574099457091051,
            "x1": 5.974099457091051,
            "xref": "x",
            "y0": 11.865984551507456,
            "y1": 12.265984551507454,
            "yref": "y"
           },
           {
            "fillcolor": "rgba(0, 0, 128, 0.5)",
            "line": {
             "color": "rgba(0, 0, 128, 0.5)"
            },
            "type": "circle",
            "x0": 6.0434749135839665,
            "x1": 6.443474913583967,
            "xref": "x",
            "y0": 12.421498492857621,
            "y1": 12.82149849285762,
            "yref": "y"
           },
           {
            "fillcolor": "rgba(255, 159, 0, 0.5)",
            "line": {
             "color": "rgba(255, 159, 0, 0.5)"
            },
            "type": "circle",
            "x0": 4.378472761748325,
            "x1": 4.778472761748326,
            "xref": "x",
            "y0": 10.969453911327477,
            "y1": 11.369453911327476,
            "yref": "y"
           },
           {
            "fillcolor": "rgba(0, 0, 209, 0.5)",
            "line": {
             "color": "rgba(0, 0, 209, 0.5)"
            },
            "type": "circle",
            "x0": 4.908749179907217,
            "x1": 5.308749179907218,
            "xref": "x",
            "y0": 12.291841060081588,
            "y1": 12.691841060081586,
            "yref": "y"
           },
           {
            "fillcolor": "rgba(93, 255, 154, 0.5)",
            "line": {
             "color": "rgba(93, 255, 154, 0.5)"
            },
            "type": "circle",
            "x0": 2.9278529320310005,
            "x1": 3.327852932031001,
            "xref": "x",
            "y0": 10.889903076614845,
            "y1": 11.289903076614843,
            "yref": "y"
           },
           {
            "line": {
             "color": "black",
             "width": 3
            },
            "type": "line",
            "x0": 3.914233668576241,
            "x1": 4.093667742777524,
            "y0": 11.36206975875299,
            "y1": 11.450406687698523
           },
           {
            "line": {
             "color": "black",
             "width": 3
            },
            "type": "line",
            "x0": 3.3737228286117413,
            "x1": 3.563891905477685,
            "y0": 11.821643441896812,
            "y1": 11.883576649499476
           },
           {
            "line": {
             "color": "black",
             "width": 3
            },
            "type": "line",
            "x0": 3.7803971927714835,
            "x1": 3.95922521925284,
            "y0": 10.731906765038087,
            "y1": 10.821464215564458
           },
           {
            "line": {
             "color": "black",
             "width": 3
            },
            "type": "line",
            "x0": 4.683429467973506,
            "x1": 4.844560305937287,
            "y0": 11.774110104492811,
            "y1": 11.89258733039336
           },
           {
            "line": {
             "color": "white",
             "width": 3
            },
            "type": "line",
            "x0": 4.198180692912824,
            "x1": 4.37619753021778,
            "y0": 12.121276921849518,
            "y1": 12.212436154162765
           },
           {
            "line": {
             "color": "white",
             "width": 3
            },
            "type": "line",
            "x0": 5.774099457091051,
            "x1": 5.971972485305517,
            "y0": 12.065984551507455,
            "y1": 12.095075180672827
           },
           {
            "line": {
             "color": "white",
             "width": 3
            },
            "type": "line",
            "x0": 6.243474913583967,
            "x1": 6.439092991998866,
            "y0": 12.62149849285762,
            "y1": 12.663134623768915
           },
           {
            "line": {
             "color": "black",
             "width": 3
            },
            "type": "line",
            "x0": 4.578472761748325,
            "x1": 4.617135927274664,
            "y0": 11.169453911327476,
            "y1": 11.365681227548952
           },
           {
            "line": {
             "color": "white",
             "width": 3
            },
            "type": "line",
            "x0": 5.1087491799072176,
            "x1": 5.308320991129368,
            "y0": 12.491841060081587,
            "y1": 12.504921280473862
           },
           {
            "line": {
             "color": "black",
             "width": 3
            },
            "type": "line",
            "x0": 3.1278529320310007,
            "x1": 3.316079412211951,
            "y0": 11.089903076614844,
            "y1": 11.157510710493648
           }
          ],
          "title": {
           "text": "<b>Percentage using the shortest path: 0%  |  Number of Agents: 10</b>",
           "x": 0.5
          }
         },
         "name": "450"
        },
        {
         "data": [
          {
           "hoverinfo": "name",
           "line": {
            "color": "white"
           },
           "mode": "lines",
           "name": "Exterior",
           "showlegend": false,
           "x": [
            10.1,
            10.1,
            15.0,
            15.0,
            13.6,
            13.6,
            15.0,
            15.0,
            13.6,
            13.6,
            15.0,
            15.0,
            10.1,
            10.1,
            9.9,
            9.9,
            5.1,
            5.1,
            4.9,
            4.9,
            0.0,
            0.0,
            1.5,
            1.5,
            0.0,
            0.0,
            1.5,
            1.5,
            0.0,
            0.0,
            4.9,
            4.9,
            5.1,
            5.1,
            9.9,
            9.9,
            10.1
           ],
           "y": [
            1.5,
            0.0,
            0.0,
            4.9,
            4.9,
            5.1,
            5.1,
            9.9,
            9.9,
            10.1,
            10.1,
            15.0,
            15.0,
            13.6,
            13.6,
            15.0,
            15.0,
            13.6,
            13.6,
            15.0,
            15.0,
            10.1,
            10.1,
            9.9,
            9.9,
            5.1,
            5.1,
            4.9,
            4.9,
            0.0,
            0.0,
            1.5,
            1.5,
            0.0,
            0.0,
            1.5,
            1.5
           ],
           "type": "scatter"
          },
          {
           "hoverinfo": "name",
           "line": {
            "color": "white"
           },
           "mode": "lines",
           "name": "Obstacle",
           "showlegend": false,
           "x": [
            10.1,
            11.5,
            11.5,
            10.1,
            10.1,
            9.9,
            9.9,
            8.6,
            8.6,
            9.9,
            9.9,
            10.1,
            10.1
           ],
           "y": [
            5.1,
            5.1,
            4.9,
            4.9,
            3.6,
            3.6,
            4.9,
            4.9,
            5.1,
            5.1,
            6.5,
            6.5,
            5.1
           ],
           "type": "scatter"
          },
          {
           "hoverinfo": "name",
           "line": {
            "color": "white"
           },
           "mode": "lines",
           "name": "Obstacle",
           "showlegend": false,
           "x": [
            10.1,
            11.5,
            11.5,
            10.1,
            10.1,
            9.9,
            9.9,
            8.6,
            8.6,
            9.9,
            9.9,
            10.1,
            10.1
           ],
           "y": [
            10.1,
            10.1,
            9.9,
            9.9,
            8.6,
            8.6,
            9.9,
            9.9,
            10.1,
            10.1,
            11.5,
            11.5,
            10.1
           ],
           "type": "scatter"
          },
          {
           "hoverinfo": "name",
           "line": {
            "color": "white"
           },
           "mode": "lines",
           "name": "Obstacle",
           "showlegend": false,
           "x": [
            5.1,
            6.4,
            6.4,
            5.1,
            5.1,
            4.9,
            4.9,
            3.6,
            3.6,
            4.9,
            4.9,
            5.1,
            5.1
           ],
           "y": [
            5.1,
            5.1,
            4.9,
            4.9,
            3.6,
            3.6,
            4.9,
            4.9,
            5.1,
            5.1,
            6.5,
            6.5,
            5.1
           ],
           "type": "scatter"
          },
          {
           "hoverinfo": "name",
           "line": {
            "color": "white"
           },
           "mode": "lines",
           "name": "Obstacle",
           "showlegend": false,
           "x": [
            5.1,
            6.4,
            6.4,
            5.1,
            5.1,
            4.9,
            4.9,
            3.6,
            3.6,
            4.9,
            4.9,
            5.1,
            5.1
           ],
           "y": [
            10.1,
            10.1,
            9.9,
            9.9,
            8.6,
            8.6,
            9.9,
            9.9,
            10.1,
            10.1,
            11.5,
            11.5,
            10.1
           ],
           "type": "scatter"
          },
          {
           "fill": "toself",
           "fillcolor": "rgb(0, 0, 0)",
           "hoverinfo": "name",
           "line": {
            "width": 0
           },
           "mode": "lines",
           "name": "Risk Area",
           "showlegend": false,
           "x": [
            1.5,
            1.5,
            3.6,
            3.6,
            4.9,
            4.9,
            5.0,
            5.0,
            4.9,
            4.9,
            0.0,
            0.0,
            1.5
           ],
           "y": [
            4.9,
            5.0,
            5.0,
            4.9,
            4.9,
            3.6,
            3.6,
            1.5,
            1.5,
            0.0,
            0.0,
            4.9,
            4.9
           ],
           "type": "scatter"
          },
          {
           "fill": "toself",
           "fillcolor": "rgb(255, 0, 0)",
           "hoverinfo": "name",
           "line": {
            "width": 0
           },
           "mode": "lines",
           "name": "Risk Area",
           "showlegend": false,
           "x": [
            9.9,
            9.9,
            5.1,
            5.1,
            5.0,
            5.0,
            5.1,
            5.1,
            6.4,
            6.4,
            8.6,
            8.6,
            9.9,
            9.9,
            10.0,
            10.0,
            9.9
           ],
           "y": [
            1.5,
            0.0,
            0.0,
            1.5,
            1.5,
            3.6,
            3.6,
            4.9,
            4.9,
            5.0,
            5.0,
            4.9,
            4.9,
            3.6,
            3.6,
            1.5,
            1.5
           ],
           "type": "scatter"
          },
          {
           "fill": "toself",
           "fillcolor": "rgb(0, 0, 0)",
           "hoverinfo": "name",
           "line": {
            "width": 0
           },
           "mode": "lines",
           "name": "Risk Area",
           "showlegend": false,
           "x": [
            13.6,
            15.0,
            15.0,
            10.1,
            10.1,
            10.0,
            10.0,
            10.1,
            10.1,
            11.5,
            11.5,
            13.6,
            13.6
           ],
           "y": [
            4.9,
            4.9,
            0.0,
            0.0,
            1.5,
            1.5,
            3.6,
            3.6,
            4.9,
            4.9,
            5.0,
            5.0,
            4.9
           ],
           "type": "scatter"
          },
          {
           "fill": "toself",
           "fillcolor": "rgb(178, 0, 0)",
           "hoverinfo": "name",
           "line": {
            "width": 0
           },
           "mode": "lines",
           "name": "Risk Area",
           "showlegend": false,
           "x": [
            13.6,
            15.0,
            15.0,
            13.6,
            13.6,
            11.5,
            11.5,
            10.1,
            10.1,
            10.0,
            10.0,
            10.1,
            10.1,
            11.5,
            11.5,
            13.6,
            13.6
           ],
           "y": [
            9.9,
            9.9,
            5.1,
            5.1,
            5.0,
            5.0,
            5.1,
            5.1,
            6.5,
            6.5,
            8.6,
            8.6,
            9.9,
            9.9,
            10.0,
            10.0,
            9.9
           ],
           "type": "scatter"
          },
          {
           "fill": "toself",
           "fillcolor": "rgb(178, 0, 0)",
           "hoverinfo": "name",
           "line": {
            "width": 0
           },
           "mode": "lines",
           "name": "Risk Area",
           "showlegend": false,
           "x": [
            9.9,
            9.9,
            8.6,
            8.6,
            6.4,
            6.4,
            5.1,
            5.1,
            5.0,
            5.0,
            5.1,
            5.1,
            6.4,
            6.4,
            8.6,
            8.6,
            9.9,
            9.9,
            10.0,
            10.0,
            9.9
           ],
           "y": [
            6.5,
            5.1,
            5.1,
            5.0,
            5.0,
            5.1,
            5.1,
            6.5,
            6.5,
            8.6,
            8.6,
            9.9,
            9.9,
            10.0,
            10.0,
            9.9,
            9.9,
            8.6,
            8.6,
            6.5,
            6.5
           ],
           "type": "scatter"
          },
          {
           "fill": "toself",
           "fillcolor": "rgb(127, 0, 0)",
           "hoverinfo": "name",
           "line": {
            "width": 0
           },
           "mode": "lines",
           "name": "Risk Area",
           "showlegend": false,
           "x": [
            4.9,
            4.9,
            3.6,
            3.6,
            1.5,
            1.5,
            0.0,
            0.0,
            1.5,
            1.5,
            3.6,
            3.6,
            4.9,
            4.9,
            5.0,
            5.0,
            4.9
           ],
           "y": [
            6.5,
            5.1,
            5.1,
            5.0,
            5.0,
            5.1,
            5.1,
            9.9,
            9.9,
            10.0,
            10.0,
            9.9,
            9.9,
            8.6,
            8.6,
            6.5,
            6.5
           ],
           "type": "scatter"
          },
          {
           "fill": "toself",
           "fillcolor": "rgb(102, 0, 0)",
           "hoverinfo": "name",
           "line": {
            "width": 0
           },
           "mode": "lines",
           "name": "Risk Area",
           "showlegend": false,
           "x": [
            1.5,
            0.0,
            0.0,
            4.9,
            4.9,
            5.0,
            5.0,
            4.9,
            4.9,
            3.6,
            3.6,
            1.5,
            1.5
           ],
           "y": [
            10.1,
            10.1,
            15.0,
            15.0,
            13.6,
            13.6,
            11.5,
            11.5,
            10.1,
            10.1,
            10.0,
            10.0,
            10.1
           ],
           "type": "scatter"
          },
          {
           "fill": "toself",
           "fillcolor": "rgb(25, 0, 0)",
           "hoverinfo": "name",
           "line": {
            "width": 0
           },
           "mode": "lines",
           "name": "Risk Area",
           "showlegend": false,
           "x": [
            6.4,
            5.1,
            5.1,
            5.0,
            5.0,
            5.1,
            5.1,
            9.9,
            9.9,
            10.0,
            10.0,
            9.9,
            9.9,
            8.6,
            8.6,
            6.4,
            6.4
           ],
           "y": [
            10.1,
            10.1,
            11.5,
            11.5,
            13.6,
            13.6,
            15.0,
            15.0,
            13.6,
            13.6,
            11.5,
            11.5,
            10.1,
            10.1,
            10.0,
            10.0,
            10.1
           ],
           "type": "scatter"
          },
          {
           "fill": "toself",
           "fillcolor": "rgb(25, 0, 0)",
           "hoverinfo": "name",
           "line": {
            "width": 0
           },
           "mode": "lines",
           "name": "Risk Area",
           "showlegend": false,
           "x": [
            10.1,
            10.1,
            15.0,
            15.0,
            13.6,
            13.6,
            11.5,
            11.5,
            10.1,
            10.1,
            10.0,
            10.0,
            10.1
           ],
           "y": [
            13.6,
            15.0,
            15.0,
            10.1,
            10.1,
            10.0,
            10.0,
            10.1,
            10.1,
            11.5,
            11.5,
            13.6,
            13.6
           ],
           "type": "scatter"
          },
          {
           "hoverinfo": "text",
           "marker": {
            "opacity": 1,
            "size": 1
           },
           "mode": "markers",
           "showlegend": false,
           "text": [
            "ID: 101, Pos(4.65,11.94)"
           ],
           "x": [
            4.646509535746593
           ],
           "y": [
            11.943149222783214
           ],
           "type": "scatter"
          },
          {
           "hoverinfo": "text",
           "marker": {
            "opacity": 1,
            "size": 1
           },
           "mode": "markers",
           "showlegend": false,
           "text": [
            "ID: 102, Pos(4.47,12.50)"
           ],
           "x": [
            4.469427444120143
           ],
           "y": [
            12.495428496439883
           ],
           "type": "scatter"
          },
          {
           "hoverinfo": "text",
           "marker": {
            "opacity": 1,
            "size": 1
           },
           "mode": "markers",
           "showlegend": false,
           "text": [
            "ID: 103, Pos(4.34,10.97)"
           ],
           "x": [
            4.3395809458745855
           ],
           "y": [
            10.972594812663022
           ],
           "type": "scatter"
          },
          {
           "hoverinfo": "text",
           "marker": {
            "opacity": 1,
            "size": 1
           },
           "mode": "markers",
           "showlegend": false,
           "text": [
            "ID: 104, Pos(6.08,12.05)"
           ],
           "x": [
            6.083888916119455
           ],
           "y": [
            12.052382667706246
           ],
           "type": "scatter"
          },
          {
           "hoverinfo": "text",
           "marker": {
            "opacity": 1,
            "size": 1
           },
           "mode": "markers",
           "showlegend": false,
           "text": [
            "ID: 105, Pos(5.39,12.45)"
           ],
           "x": [
            5.393511419843778
           ],
           "y": [
            12.446742870598122
           ],
           "type": "scatter"
          },
          {
           "hoverinfo": "text",
           "marker": {
            "opacity": 1,
            "size": 1
           },
           "mode": "markers",
           "showlegend": false,
           "text": [
            "ID: 106, Pos(7.36,12.31)"
           ],
           "x": [
            7.3552435955072575
           ],
           "y": [
            12.309157409952158
           ],
           "type": "scatter"
          },
          {
           "hoverinfo": "text",
           "marker": {
            "opacity": 1,
            "size": 1
           },
           "mode": "markers",
           "showlegend": false,
           "text": [
            "ID: 107, Pos(7.81,12.93)"
           ],
           "x": [
            7.813745834763735
           ],
           "y": [
            12.928196417857833
           ],
           "type": "scatter"
          },
          {
           "hoverinfo": "text",
           "marker": {
            "opacity": 1,
            "size": 1
           },
           "mode": "markers",
           "showlegend": false,
           "text": [
            "ID: 108, Pos(4.60,11.41)"
           ],
           "x": [
            4.60297504634075
           ],
           "y": [
            11.413045692714968
           ],
           "type": "scatter"
          },
          {
           "hoverinfo": "text",
           "marker": {
            "opacity": 1,
            "size": 1
           },
           "mode": "markers",
           "showlegend": false,
           "text": [
            "ID: 109, Pos(6.46,12.66)"
           ],
           "x": [
            6.459936874081884
           ],
           "y": [
            12.65789922796357
           ],
           "type": "scatter"
          },
          {
           "hoverinfo": "text",
           "marker": {
            "opacity": 1,
            "size": 1
           },
           "mode": "markers",
           "showlegend": false,
           "text": [
            "ID: 110, Pos(3.91,11.49)"
           ],
           "x": [
            3.9143819563741142
           ],
           "y": [
            11.488093633624487
           ],
           "type": "scatter"
          }
         ],
         "layout": {
          "shapes": [
           {
            "fillcolor": "rgba(22, 255, 225, 0.5)",
            "line": {
             "color": "rgba(22, 255, 225, 0.5)"
            },
            "type": "circle",
            "x0": 4.446509535746593,
            "x1": 4.846509535746593,
            "xref": "x",
            "y0": 11.743149222783215,
            "y1": 12.143149222783213,
            "yref": "y"
           },
           {
            "fillcolor": "rgba(0, 0, 128, 0.5)",
            "line": {
             "color": "rgba(0, 0, 128, 0.5)"
            },
            "type": "circle",
            "x0": 4.269427444120143,
            "x1": 4.669427444120143,
            "xref": "x",
            "y0": 12.295428496439884,
            "y1": 12.695428496439883,
            "yref": "y"
           },
           {
            "fillcolor": "rgba(0, 109, 255, 0.5)",
            "line": {
             "color": "rgba(0, 109, 255, 0.5)"
            },
            "type": "circle",
            "x0": 4.139580945874585,
            "x1": 4.539580945874586,
            "xref": "x",
            "y0": 10.772594812663023,
            "y1": 11.172594812663021,
            "yref": "y"
           },
           {
            "fillcolor": "rgba(0, 0, 128, 0.5)",
            "line": {
             "color": "rgba(0, 0, 128, 0.5)"
            },
            "type": "circle",
            "x0": 5.883888916119455,
            "x1": 6.283888916119455,
            "xref": "x",
            "y0": 11.852382667706246,
            "y1": 12.252382667706245,
            "yref": "y"
           },
           {
            "fillcolor": "rgba(0, 16, 255, 0.5)",
            "line": {
             "color": "rgba(0, 16, 255, 0.5)"
            },
            "type": "circle",
            "x0": 5.1935114198437775,
            "x1": 5.593511419843778,
            "xref": "x",
            "y0": 12.246742870598123,
            "y1": 12.646742870598121,
            "yref": "y"
           },
           {
            "fillcolor": "rgba(0, 0, 128, 0.5)",
            "line": {
             "color": "rgba(0, 0, 128, 0.5)"
            },
            "type": "circle",
            "x0": 7.155243595507257,
            "x1": 7.555243595507258,
            "xref": "x",
            "y0": 12.109157409952159,
            "y1": 12.509157409952158,
            "yref": "y"
           },
           {
            "fillcolor": "rgba(0, 0, 128, 0.5)",
            "line": {
             "color": "rgba(0, 0, 128, 0.5)"
            },
            "type": "circle",
            "x0": 7.613745834763735,
            "x1": 8.013745834763736,
            "xref": "x",
            "y0": 12.728196417857834,
            "y1": 13.128196417857833,
            "yref": "y"
           },
           {
            "fillcolor": "rgba(255, 63, 0, 0.5)",
            "line": {
             "color": "rgba(255, 63, 0, 0.5)"
            },
            "type": "circle",
            "x0": 4.4029750463407495,
            "x1": 4.80297504634075,
            "xref": "x",
            "y0": 11.213045692714969,
            "y1": 11.613045692714968,
            "yref": "y"
           },
           {
            "fillcolor": "rgba(0, 0, 128, 0.5)",
            "line": {
             "color": "rgba(0, 0, 128, 0.5)"
            },
            "type": "circle",
            "x0": 6.259936874081884,
            "x1": 6.659936874081884,
            "xref": "x",
            "y0": 12.457899227963571,
            "y1": 12.85789922796357,
            "yref": "y"
           },
           {
            "fillcolor": "rgba(148, 255, 99, 0.5)",
            "line": {
             "color": "rgba(148, 255, 99, 0.5)"
            },
            "type": "circle",
            "x0": 3.714381956374114,
            "x1": 4.114381956374114,
            "xref": "x",
            "y0": 11.288093633624488,
            "y1": 11.688093633624487,
            "yref": "y"
           },
           {
            "line": {
             "color": "black",
             "width": 3
            },
            "type": "line",
            "x0": 4.646509535746593,
            "x1": 4.829846878258404,
            "y0": 11.943149222783214,
            "y1": 12.023070551855664
           },
           {
            "line": {
             "color": "white",
             "width": 3
            },
            "type": "line",
            "x0": 4.469427444120143,
            "x1": 4.648952502435208,
            "y0": 12.495428496439883,
            "y1": 12.583580373543963
           },
           {
            "line": {
             "color": "white",
             "width": 3
            },
            "type": "line",
            "x0": 4.3395809458745855,
            "x1": 4.53497210277602,
            "y0": 10.972594812663022,
            "y1": 10.929906455881355
           },
           {
            "line": {
             "color": "white",
             "width": 3
            },
            "type": "line",
            "x0": 6.083888916119455,
            "x1": 6.282946180685598,
            "y0": 12.052382667706246,
            "y1": 12.071778683365256
           },
           {
            "line": {
             "color": "white",
             "width": 3
            },
            "type": "line",
            "x0": 5.393511419843778,
            "x1": 5.593146663642682,
            "y0": 12.446742870598122,
            "y1": 12.458816371886144
           },
           {
            "line": {
             "color": "white",
             "width": 3
            },
            "type": "line",
            "x0": 7.3552435955072575,
            "x1": 7.552278448755003,
            "y0": 12.309157409952158,
            "y1": 12.343468728866464
           },
           {
            "line": {
             "color": "white",
             "width": 3
            },
            "type": "line",
            "x0": 7.813745834763735,
            "x1": 8.010463881229418,
            "y0": 12.928196417857833,
            "y1": 12.964279796229674
           },
           {
            "line": {
             "color": "white",
             "width": 3
            },
            "type": "line",
            "x0": 4.60297504634075,
            "x1": 4.590988157271223,
            "y0": 11.413045692714968,
            "y1": 11.612686155774027
           },
           {
            "line": {
             "color": "white",
             "width": 3
            },
            "type": "line",
            "x0": 6.459936874081884,
            "x1": 6.654442424308367,
            "y0": 12.65789922796357,
            "y1": 12.70445662191011
           },
           {
            "line": {
             "color": "black",
             "width": 3
            },
            "type": "line",
            "x0": 3.9143819563741142,
            "x1": 4.085404404292755,
            "y0": 11.488093633624487,
            "y1": 11.591782216930056
           }
          ],
          "title": {
           "text": "<b>Percentage using the shortest path: 0%  |  Number of Agents: 10</b>",
           "x": 0.5
          }
         },
         "name": "500"
        },
        {
         "data": [
          {
           "hoverinfo": "name",
           "line": {
            "color": "white"
           },
           "mode": "lines",
           "name": "Exterior",
           "showlegend": false,
           "x": [
            10.1,
            10.1,
            15.0,
            15.0,
            13.6,
            13.6,
            15.0,
            15.0,
            13.6,
            13.6,
            15.0,
            15.0,
            10.1,
            10.1,
            9.9,
            9.9,
            5.1,
            5.1,
            4.9,
            4.9,
            0.0,
            0.0,
            1.5,
            1.5,
            0.0,
            0.0,
            1.5,
            1.5,
            0.0,
            0.0,
            4.9,
            4.9,
            5.1,
            5.1,
            9.9,
            9.9,
            10.1
           ],
           "y": [
            1.5,
            0.0,
            0.0,
            4.9,
            4.9,
            5.1,
            5.1,
            9.9,
            9.9,
            10.1,
            10.1,
            15.0,
            15.0,
            13.6,
            13.6,
            15.0,
            15.0,
            13.6,
            13.6,
            15.0,
            15.0,
            10.1,
            10.1,
            9.9,
            9.9,
            5.1,
            5.1,
            4.9,
            4.9,
            0.0,
            0.0,
            1.5,
            1.5,
            0.0,
            0.0,
            1.5,
            1.5
           ],
           "type": "scatter"
          },
          {
           "hoverinfo": "name",
           "line": {
            "color": "white"
           },
           "mode": "lines",
           "name": "Obstacle",
           "showlegend": false,
           "x": [
            10.1,
            11.5,
            11.5,
            10.1,
            10.1,
            9.9,
            9.9,
            8.6,
            8.6,
            9.9,
            9.9,
            10.1,
            10.1
           ],
           "y": [
            5.1,
            5.1,
            4.9,
            4.9,
            3.6,
            3.6,
            4.9,
            4.9,
            5.1,
            5.1,
            6.5,
            6.5,
            5.1
           ],
           "type": "scatter"
          },
          {
           "hoverinfo": "name",
           "line": {
            "color": "white"
           },
           "mode": "lines",
           "name": "Obstacle",
           "showlegend": false,
           "x": [
            10.1,
            11.5,
            11.5,
            10.1,
            10.1,
            9.9,
            9.9,
            8.6,
            8.6,
            9.9,
            9.9,
            10.1,
            10.1
           ],
           "y": [
            10.1,
            10.1,
            9.9,
            9.9,
            8.6,
            8.6,
            9.9,
            9.9,
            10.1,
            10.1,
            11.5,
            11.5,
            10.1
           ],
           "type": "scatter"
          },
          {
           "hoverinfo": "name",
           "line": {
            "color": "white"
           },
           "mode": "lines",
           "name": "Obstacle",
           "showlegend": false,
           "x": [
            5.1,
            6.4,
            6.4,
            5.1,
            5.1,
            4.9,
            4.9,
            3.6,
            3.6,
            4.9,
            4.9,
            5.1,
            5.1
           ],
           "y": [
            5.1,
            5.1,
            4.9,
            4.9,
            3.6,
            3.6,
            4.9,
            4.9,
            5.1,
            5.1,
            6.5,
            6.5,
            5.1
           ],
           "type": "scatter"
          },
          {
           "hoverinfo": "name",
           "line": {
            "color": "white"
           },
           "mode": "lines",
           "name": "Obstacle",
           "showlegend": false,
           "x": [
            5.1,
            6.4,
            6.4,
            5.1,
            5.1,
            4.9,
            4.9,
            3.6,
            3.6,
            4.9,
            4.9,
            5.1,
            5.1
           ],
           "y": [
            10.1,
            10.1,
            9.9,
            9.9,
            8.6,
            8.6,
            9.9,
            9.9,
            10.1,
            10.1,
            11.5,
            11.5,
            10.1
           ],
           "type": "scatter"
          },
          {
           "fill": "toself",
           "fillcolor": "rgb(25, 0, 0)",
           "hoverinfo": "name",
           "line": {
            "width": 0
           },
           "mode": "lines",
           "name": "Risk Area",
           "showlegend": false,
           "x": [
            1.5,
            1.5,
            3.6,
            3.6,
            4.9,
            4.9,
            5.0,
            5.0,
            4.9,
            4.9,
            0.0,
            0.0,
            1.5
           ],
           "y": [
            4.9,
            5.0,
            5.0,
            4.9,
            4.9,
            3.6,
            3.6,
            1.5,
            1.5,
            0.0,
            0.0,
            4.9,
            4.9
           ],
           "type": "scatter"
          },
          {
           "fill": "toself",
           "fillcolor": "rgb(255, 0, 0)",
           "hoverinfo": "name",
           "line": {
            "width": 0
           },
           "mode": "lines",
           "name": "Risk Area",
           "showlegend": false,
           "x": [
            9.9,
            9.9,
            5.1,
            5.1,
            5.0,
            5.0,
            5.1,
            5.1,
            6.4,
            6.4,
            8.6,
            8.6,
            9.9,
            9.9,
            10.0,
            10.0,
            9.9
           ],
           "y": [
            1.5,
            0.0,
            0.0,
            1.5,
            1.5,
            3.6,
            3.6,
            4.9,
            4.9,
            5.0,
            5.0,
            4.9,
            4.9,
            3.6,
            3.6,
            1.5,
            1.5
           ],
           "type": "scatter"
          },
          {
           "fill": "toself",
           "fillcolor": "rgb(0, 0, 0)",
           "hoverinfo": "name",
           "line": {
            "width": 0
           },
           "mode": "lines",
           "name": "Risk Area",
           "showlegend": false,
           "x": [
            13.6,
            15.0,
            15.0,
            10.1,
            10.1,
            10.0,
            10.0,
            10.1,
            10.1,
            11.5,
            11.5,
            13.6,
            13.6
           ],
           "y": [
            4.9,
            4.9,
            0.0,
            0.0,
            1.5,
            1.5,
            3.6,
            3.6,
            4.9,
            4.9,
            5.0,
            5.0,
            4.9
           ],
           "type": "scatter"
          },
          {
           "fill": "toself",
           "fillcolor": "rgb(178, 0, 0)",
           "hoverinfo": "name",
           "line": {
            "width": 0
           },
           "mode": "lines",
           "name": "Risk Area",
           "showlegend": false,
           "x": [
            13.6,
            15.0,
            15.0,
            13.6,
            13.6,
            11.5,
            11.5,
            10.1,
            10.1,
            10.0,
            10.0,
            10.1,
            10.1,
            11.5,
            11.5,
            13.6,
            13.6
           ],
           "y": [
            9.9,
            9.9,
            5.1,
            5.1,
            5.0,
            5.0,
            5.1,
            5.1,
            6.5,
            6.5,
            8.6,
            8.6,
            9.9,
            9.9,
            10.0,
            10.0,
            9.9
           ],
           "type": "scatter"
          },
          {
           "fill": "toself",
           "fillcolor": "rgb(178, 0, 0)",
           "hoverinfo": "name",
           "line": {
            "width": 0
           },
           "mode": "lines",
           "name": "Risk Area",
           "showlegend": false,
           "x": [
            9.9,
            9.9,
            8.6,
            8.6,
            6.4,
            6.4,
            5.1,
            5.1,
            5.0,
            5.0,
            5.1,
            5.1,
            6.4,
            6.4,
            8.6,
            8.6,
            9.9,
            9.9,
            10.0,
            10.0,
            9.9
           ],
           "y": [
            6.5,
            5.1,
            5.1,
            5.0,
            5.0,
            5.1,
            5.1,
            6.5,
            6.5,
            8.6,
            8.6,
            9.9,
            9.9,
            10.0,
            10.0,
            9.9,
            9.9,
            8.6,
            8.6,
            6.5,
            6.5
           ],
           "type": "scatter"
          },
          {
           "fill": "toself",
           "fillcolor": "rgb(127, 0, 0)",
           "hoverinfo": "name",
           "line": {
            "width": 0
           },
           "mode": "lines",
           "name": "Risk Area",
           "showlegend": false,
           "x": [
            4.9,
            4.9,
            3.6,
            3.6,
            1.5,
            1.5,
            0.0,
            0.0,
            1.5,
            1.5,
            3.6,
            3.6,
            4.9,
            4.9,
            5.0,
            5.0,
            4.9
           ],
           "y": [
            6.5,
            5.1,
            5.1,
            5.0,
            5.0,
            5.1,
            5.1,
            9.9,
            9.9,
            10.0,
            10.0,
            9.9,
            9.9,
            8.6,
            8.6,
            6.5,
            6.5
           ],
           "type": "scatter"
          },
          {
           "fill": "toself",
           "fillcolor": "rgb(127, 0, 0)",
           "hoverinfo": "name",
           "line": {
            "width": 0
           },
           "mode": "lines",
           "name": "Risk Area",
           "showlegend": false,
           "x": [
            1.5,
            0.0,
            0.0,
            4.9,
            4.9,
            5.0,
            5.0,
            4.9,
            4.9,
            3.6,
            3.6,
            1.5,
            1.5
           ],
           "y": [
            10.1,
            10.1,
            15.0,
            15.0,
            13.6,
            13.6,
            11.5,
            11.5,
            10.1,
            10.1,
            10.0,
            10.0,
            10.1
           ],
           "type": "scatter"
          },
          {
           "fill": "toself",
           "fillcolor": "rgb(25, 0, 0)",
           "hoverinfo": "name",
           "line": {
            "width": 0
           },
           "mode": "lines",
           "name": "Risk Area",
           "showlegend": false,
           "x": [
            6.4,
            5.1,
            5.1,
            5.0,
            5.0,
            5.1,
            5.1,
            9.9,
            9.9,
            10.0,
            10.0,
            9.9,
            9.9,
            8.6,
            8.6,
            6.4,
            6.4
           ],
           "y": [
            10.1,
            10.1,
            11.5,
            11.5,
            13.6,
            13.6,
            15.0,
            15.0,
            13.6,
            13.6,
            11.5,
            11.5,
            10.1,
            10.1,
            10.0,
            10.0,
            10.1
           ],
           "type": "scatter"
          },
          {
           "fill": "toself",
           "fillcolor": "rgb(76, 0, 0)",
           "hoverinfo": "name",
           "line": {
            "width": 0
           },
           "mode": "lines",
           "name": "Risk Area",
           "showlegend": false,
           "x": [
            10.1,
            10.1,
            15.0,
            15.0,
            13.6,
            13.6,
            11.5,
            11.5,
            10.1,
            10.1,
            10.0,
            10.0,
            10.1
           ],
           "y": [
            13.6,
            15.0,
            15.0,
            10.1,
            10.1,
            10.0,
            10.0,
            10.1,
            10.1,
            11.5,
            11.5,
            13.6,
            13.6
           ],
           "type": "scatter"
          },
          {
           "hoverinfo": "text",
           "marker": {
            "opacity": 1,
            "size": 1
           },
           "mode": "markers",
           "showlegend": false,
           "text": [
            "ID: 101, Pos(5.91,12.09)"
           ],
           "x": [
            5.9149867044845665
           ],
           "y": [
            12.089599763344685
           ],
           "type": "scatter"
          },
          {
           "hoverinfo": "text",
           "marker": {
            "opacity": 1,
            "size": 1
           },
           "mode": "markers",
           "showlegend": false,
           "text": [
            "ID: 102, Pos(5.68,12.73)"
           ],
           "x": [
            5.683835240738651
           ],
           "y": [
            12.728423553603408
           ],
           "type": "scatter"
          },
          {
           "hoverinfo": "text",
           "marker": {
            "opacity": 1,
            "size": 1
           },
           "mode": "markers",
           "showlegend": false,
           "text": [
            "ID: 103, Pos(4.58,11.28)"
           ],
           "x": [
            4.5768798788065705
           ],
           "y": [
            11.279234989706152
           ],
           "type": "scatter"
          },
          {
           "hoverinfo": "text",
           "marker": {
            "opacity": 1,
            "size": 1
           },
           "mode": "markers",
           "showlegend": false,
           "text": [
            "ID: 104, Pos(7.66,12.30)"
           ],
           "x": [
            7.664452319104679
           ],
           "y": [
            12.298327232740371
           ],
           "type": "scatter"
          },
          {
           "hoverinfo": "text",
           "marker": {
            "opacity": 1,
            "size": 1
           },
           "mode": "markers",
           "showlegend": false,
           "text": [
            "ID: 105, Pos(6.75,12.60)"
           ],
           "x": [
            6.7549533610751205
           ],
           "y": [
            12.599266675886673
           ],
           "type": "scatter"
          },
          {
           "hoverinfo": "text",
           "marker": {
            "opacity": 1,
            "size": 1
           },
           "mode": "markers",
           "showlegend": false,
           "text": [
            "ID: 106, Pos(8.93,12.54)"
           ],
           "x": [
            8.93496968547073
           ],
           "y": [
            12.535887503668105
           ],
           "type": "scatter"
          },
          {
           "hoverinfo": "text",
           "marker": {
            "opacity": 1,
            "size": 1
           },
           "mode": "markers",
           "showlegend": false,
           "text": [
            "ID: 107, Pos(9.12,13.18)"
           ],
           "x": [
            9.117309806170637
           ],
           "y": [
            13.184718671607518
           ],
           "type": "scatter"
          },
          {
           "hoverinfo": "text",
           "marker": {
            "opacity": 1,
            "size": 1
           },
           "mode": "markers",
           "showlegend": false,
           "text": [
            "ID: 108, Pos(4.95,11.88)"
           ],
           "x": [
            4.950560823545183
           ],
           "y": [
            11.878891762104992
           ],
           "type": "scatter"
          },
          {
           "hoverinfo": "text",
           "marker": {
            "opacity": 1,
            "size": 1
           },
           "mode": "markers",
           "showlegend": false,
           "text": [
            "ID: 109, Pos(8.00,12.98)"
           ],
           "x": [
            8.000379920243226
           ],
           "y": [
            12.976763907111923
           ],
           "type": "scatter"
          },
          {
           "hoverinfo": "text",
           "marker": {
            "opacity": 1,
            "size": 1
           },
           "mode": "markers",
           "showlegend": false,
           "text": [
            "ID: 110, Pos(4.63,12.37)"
           ],
           "x": [
            4.634365424578643
           ],
           "y": [
            12.369242825145243
           ],
           "type": "scatter"
          }
         ],
         "layout": {
          "shapes": [
           {
            "fillcolor": "rgba(0, 0, 128, 0.5)",
            "line": {
             "color": "rgba(0, 0, 128, 0.5)"
            },
            "type": "circle",
            "x0": 5.714986704484566,
            "x1": 6.114986704484567,
            "xref": "x",
            "y0": 11.889599763344686,
            "y1": 12.289599763344684,
            "yref": "y"
           },
           {
            "fillcolor": "rgba(0, 29, 255, 0.5)",
            "line": {
             "color": "rgba(0, 29, 255, 0.5)"
            },
            "type": "circle",
            "x0": 5.483835240738651,
            "x1": 5.883835240738652,
            "xref": "x",
            "y0": 12.528423553603409,
            "y1": 12.928423553603407,
            "yref": "y"
           },
           {
            "fillcolor": "rgba(106, 255, 141, 0.5)",
            "line": {
             "color": "rgba(106, 255, 141, 0.5)"
            },
            "type": "circle",
            "x0": 4.37687987880657,
            "x1": 4.776879878806571,
            "xref": "x",
            "y0": 11.079234989706153,
            "y1": 11.479234989706152,
            "yref": "y"
           },
           {
            "fillcolor": "rgba(0, 0, 128, 0.5)",
            "line": {
             "color": "rgba(0, 0, 128, 0.5)"
            },
            "type": "circle",
            "x0": 7.464452319104679,
            "x1": 7.86445231910468,
            "xref": "x",
            "y0": 12.098327232740372,
            "y1": 12.49832723274037,
            "yref": "y"
           },
           {
            "fillcolor": "rgba(0, 0, 128, 0.5)",
            "line": {
             "color": "rgba(0, 0, 128, 0.5)"
            },
            "type": "circle",
            "x0": 6.55495336107512,
            "x1": 6.954953361075121,
            "xref": "x",
            "y0": 12.399266675886674,
            "y1": 12.799266675886672,
            "yref": "y"
           },
           {
            "fillcolor": "rgba(0, 0, 128, 0.5)",
            "line": {
             "color": "rgba(0, 0, 128, 0.5)"
            },
            "type": "circle",
            "x0": 8.73496968547073,
            "x1": 9.134969685470729,
            "xref": "x",
            "y0": 12.335887503668106,
            "y1": 12.735887503668105,
            "yref": "y"
           },
           {
            "fillcolor": "rgba(255, 30, 0, 0.5)",
            "line": {
             "color": "rgba(255, 30, 0, 0.5)"
            },
            "type": "circle",
            "x0": 8.917309806170637,
            "x1": 9.317309806170636,
            "xref": "x",
            "y0": 12.984718671607519,
            "y1": 13.384718671607517,
            "yref": "y"
           },
           {
            "fillcolor": "rgba(0, 148, 255, 0.5)",
            "line": {
             "color": "rgba(0, 148, 255, 0.5)"
            },
            "type": "circle",
            "x0": 4.750560823545182,
            "x1": 5.150560823545183,
            "xref": "x",
            "y0": 11.678891762104993,
            "y1": 12.078891762104991,
            "yref": "y"
           },
           {
            "fillcolor": "rgba(0, 37, 255, 0.5)",
            "line": {
             "color": "rgba(0, 37, 255, 0.5)"
            },
            "type": "circle",
            "x0": 7.800379920243226,
            "x1": 8.200379920243225,
            "xref": "x",
            "y0": 12.776763907111924,
            "y1": 13.176763907111923,
            "yref": "y"
           },
           {
            "fillcolor": "rgba(0, 0, 255, 0.5)",
            "line": {
             "color": "rgba(0, 0, 255, 0.5)"
            },
            "type": "circle",
            "x0": 4.434365424578643,
            "x1": 4.834365424578643,
            "xref": "x",
            "y0": 12.169242825145243,
            "y1": 12.569242825145242,
            "yref": "y"
           },
           {
            "line": {
             "color": "white",
             "width": 3
            },
            "type": "line",
            "x0": 5.9149867044845665,
            "x1": 6.11407672925403,
            "y0": 12.089599763344685,
            "y1": 12.108656574129663
           },
           {
            "line": {
             "color": "white",
             "width": 3
            },
            "type": "line",
            "x0": 5.683835240738651,
            "x1": 5.883747498667544,
            "y0": 12.728423553603408,
            "y1": 12.734347161437473
           },
           {
            "line": {
             "color": "black",
             "width": 3
            },
            "type": "line",
            "x0": 4.5768798788065705,
            "x1": 4.584081314535593,
            "y0": 11.279234989706152,
            "y1": 11.479105295963587
           },
           {
            "line": {
             "color": "white",
             "width": 3
            },
            "type": "line",
            "x0": 7.664452319104679,
            "x1": 7.861552860409286,
            "y0": 12.298327232740371,
            "y1": 12.332259173702113
           },
           {
            "line": {
             "color": "white",
             "width": 3
            },
            "type": "line",
            "x0": 6.7549533610751205,
            "x1": 6.952083947298273,
            "y0": 12.599266675886673,
            "y1": 12.633023630360029
           },
           {
            "line": {
             "color": "white",
             "width": 3
            },
            "type": "line",
            "x0": 8.93496968547073,
            "x1": 9.134257319065377,
            "y0": 12.535887503668105,
            "y1": 12.552752825966996
           },
           {
            "line": {
             "color": "white",
             "width": 3
            },
            "type": "line",
            "x0": 9.117309806170637,
            "x1": 9.310182507008564,
            "y0": 13.184718671607518,
            "y1": 13.237634843724209
           },
           {
            "line": {
             "color": "white",
             "width": 3
            },
            "type": "line",
            "x0": 4.950560823545183,
            "x1": 5.14352833351619,
            "y0": 11.878891762104992,
            "y1": 11.93146114573833
           },
           {
            "line": {
             "color": "white",
             "width": 3
            },
            "type": "line",
            "x0": 8.000379920243226,
            "x1": 8.19660893580467,
            "y0": 12.976763907111923,
            "y1": 13.015418446971895
           },
           {
            "line": {
             "color": "white",
             "width": 3
            },
            "type": "line",
            "x0": 4.634365424578643,
            "x1": 4.811685135689864,
            "y0": 12.369242825145243,
            "y1": 12.461750771027926
           }
          ],
          "title": {
           "text": "<b>Percentage using the shortest path: 0%  |  Number of Agents: 10</b>",
           "x": 0.5
          }
         },
         "name": "550"
        },
        {
         "data": [
          {
           "hoverinfo": "name",
           "line": {
            "color": "white"
           },
           "mode": "lines",
           "name": "Exterior",
           "showlegend": false,
           "x": [
            10.1,
            10.1,
            15.0,
            15.0,
            13.6,
            13.6,
            15.0,
            15.0,
            13.6,
            13.6,
            15.0,
            15.0,
            10.1,
            10.1,
            9.9,
            9.9,
            5.1,
            5.1,
            4.9,
            4.9,
            0.0,
            0.0,
            1.5,
            1.5,
            0.0,
            0.0,
            1.5,
            1.5,
            0.0,
            0.0,
            4.9,
            4.9,
            5.1,
            5.1,
            9.9,
            9.9,
            10.1
           ],
           "y": [
            1.5,
            0.0,
            0.0,
            4.9,
            4.9,
            5.1,
            5.1,
            9.9,
            9.9,
            10.1,
            10.1,
            15.0,
            15.0,
            13.6,
            13.6,
            15.0,
            15.0,
            13.6,
            13.6,
            15.0,
            15.0,
            10.1,
            10.1,
            9.9,
            9.9,
            5.1,
            5.1,
            4.9,
            4.9,
            0.0,
            0.0,
            1.5,
            1.5,
            0.0,
            0.0,
            1.5,
            1.5
           ],
           "type": "scatter"
          },
          {
           "hoverinfo": "name",
           "line": {
            "color": "white"
           },
           "mode": "lines",
           "name": "Obstacle",
           "showlegend": false,
           "x": [
            10.1,
            11.5,
            11.5,
            10.1,
            10.1,
            9.9,
            9.9,
            8.6,
            8.6,
            9.9,
            9.9,
            10.1,
            10.1
           ],
           "y": [
            5.1,
            5.1,
            4.9,
            4.9,
            3.6,
            3.6,
            4.9,
            4.9,
            5.1,
            5.1,
            6.5,
            6.5,
            5.1
           ],
           "type": "scatter"
          },
          {
           "hoverinfo": "name",
           "line": {
            "color": "white"
           },
           "mode": "lines",
           "name": "Obstacle",
           "showlegend": false,
           "x": [
            10.1,
            11.5,
            11.5,
            10.1,
            10.1,
            9.9,
            9.9,
            8.6,
            8.6,
            9.9,
            9.9,
            10.1,
            10.1
           ],
           "y": [
            10.1,
            10.1,
            9.9,
            9.9,
            8.6,
            8.6,
            9.9,
            9.9,
            10.1,
            10.1,
            11.5,
            11.5,
            10.1
           ],
           "type": "scatter"
          },
          {
           "hoverinfo": "name",
           "line": {
            "color": "white"
           },
           "mode": "lines",
           "name": "Obstacle",
           "showlegend": false,
           "x": [
            5.1,
            6.4,
            6.4,
            5.1,
            5.1,
            4.9,
            4.9,
            3.6,
            3.6,
            4.9,
            4.9,
            5.1,
            5.1
           ],
           "y": [
            5.1,
            5.1,
            4.9,
            4.9,
            3.6,
            3.6,
            4.9,
            4.9,
            5.1,
            5.1,
            6.5,
            6.5,
            5.1
           ],
           "type": "scatter"
          },
          {
           "hoverinfo": "name",
           "line": {
            "color": "white"
           },
           "mode": "lines",
           "name": "Obstacle",
           "showlegend": false,
           "x": [
            5.1,
            6.4,
            6.4,
            5.1,
            5.1,
            4.9,
            4.9,
            3.6,
            3.6,
            4.9,
            4.9,
            5.1,
            5.1
           ],
           "y": [
            10.1,
            10.1,
            9.9,
            9.9,
            8.6,
            8.6,
            9.9,
            9.9,
            10.1,
            10.1,
            11.5,
            11.5,
            10.1
           ],
           "type": "scatter"
          },
          {
           "fill": "toself",
           "fillcolor": "rgb(25, 0, 0)",
           "hoverinfo": "name",
           "line": {
            "width": 0
           },
           "mode": "lines",
           "name": "Risk Area",
           "showlegend": false,
           "x": [
            1.5,
            1.5,
            3.6,
            3.6,
            4.9,
            4.9,
            5.0,
            5.0,
            4.9,
            4.9,
            0.0,
            0.0,
            1.5
           ],
           "y": [
            4.9,
            5.0,
            5.0,
            4.9,
            4.9,
            3.6,
            3.6,
            1.5,
            1.5,
            0.0,
            0.0,
            4.9,
            4.9
           ],
           "type": "scatter"
          },
          {
           "fill": "toself",
           "fillcolor": "rgb(255, 0, 0)",
           "hoverinfo": "name",
           "line": {
            "width": 0
           },
           "mode": "lines",
           "name": "Risk Area",
           "showlegend": false,
           "x": [
            9.9,
            9.9,
            5.1,
            5.1,
            5.0,
            5.0,
            5.1,
            5.1,
            6.4,
            6.4,
            8.6,
            8.6,
            9.9,
            9.9,
            10.0,
            10.0,
            9.9
           ],
           "y": [
            1.5,
            0.0,
            0.0,
            1.5,
            1.5,
            3.6,
            3.6,
            4.9,
            4.9,
            5.0,
            5.0,
            4.9,
            4.9,
            3.6,
            3.6,
            1.5,
            1.5
           ],
           "type": "scatter"
          },
          {
           "fill": "toself",
           "fillcolor": "rgb(0, 0, 0)",
           "hoverinfo": "name",
           "line": {
            "width": 0
           },
           "mode": "lines",
           "name": "Risk Area",
           "showlegend": false,
           "x": [
            13.6,
            15.0,
            15.0,
            10.1,
            10.1,
            10.0,
            10.0,
            10.1,
            10.1,
            11.5,
            11.5,
            13.6,
            13.6
           ],
           "y": [
            4.9,
            4.9,
            0.0,
            0.0,
            1.5,
            1.5,
            3.6,
            3.6,
            4.9,
            4.9,
            5.0,
            5.0,
            4.9
           ],
           "type": "scatter"
          },
          {
           "fill": "toself",
           "fillcolor": "rgb(178, 0, 0)",
           "hoverinfo": "name",
           "line": {
            "width": 0
           },
           "mode": "lines",
           "name": "Risk Area",
           "showlegend": false,
           "x": [
            13.6,
            15.0,
            15.0,
            13.6,
            13.6,
            11.5,
            11.5,
            10.1,
            10.1,
            10.0,
            10.0,
            10.1,
            10.1,
            11.5,
            11.5,
            13.6,
            13.6
           ],
           "y": [
            9.9,
            9.9,
            5.1,
            5.1,
            5.0,
            5.0,
            5.1,
            5.1,
            6.5,
            6.5,
            8.6,
            8.6,
            9.9,
            9.9,
            10.0,
            10.0,
            9.9
           ],
           "type": "scatter"
          },
          {
           "fill": "toself",
           "fillcolor": "rgb(178, 0, 0)",
           "hoverinfo": "name",
           "line": {
            "width": 0
           },
           "mode": "lines",
           "name": "Risk Area",
           "showlegend": false,
           "x": [
            9.9,
            9.9,
            8.6,
            8.6,
            6.4,
            6.4,
            5.1,
            5.1,
            5.0,
            5.0,
            5.1,
            5.1,
            6.4,
            6.4,
            8.6,
            8.6,
            9.9,
            9.9,
            10.0,
            10.0,
            9.9
           ],
           "y": [
            6.5,
            5.1,
            5.1,
            5.0,
            5.0,
            5.1,
            5.1,
            6.5,
            6.5,
            8.6,
            8.6,
            9.9,
            9.9,
            10.0,
            10.0,
            9.9,
            9.9,
            8.6,
            8.6,
            6.5,
            6.5
           ],
           "type": "scatter"
          },
          {
           "fill": "toself",
           "fillcolor": "rgb(127, 0, 0)",
           "hoverinfo": "name",
           "line": {
            "width": 0
           },
           "mode": "lines",
           "name": "Risk Area",
           "showlegend": false,
           "x": [
            4.9,
            4.9,
            3.6,
            3.6,
            1.5,
            1.5,
            0.0,
            0.0,
            1.5,
            1.5,
            3.6,
            3.6,
            4.9,
            4.9,
            5.0,
            5.0,
            4.9
           ],
           "y": [
            6.5,
            5.1,
            5.1,
            5.0,
            5.0,
            5.1,
            5.1,
            9.9,
            9.9,
            10.0,
            10.0,
            9.9,
            9.9,
            8.6,
            8.6,
            6.5,
            6.5
           ],
           "type": "scatter"
          },
          {
           "fill": "toself",
           "fillcolor": "rgb(127, 0, 0)",
           "hoverinfo": "name",
           "line": {
            "width": 0
           },
           "mode": "lines",
           "name": "Risk Area",
           "showlegend": false,
           "x": [
            1.5,
            0.0,
            0.0,
            4.9,
            4.9,
            5.0,
            5.0,
            4.9,
            4.9,
            3.6,
            3.6,
            1.5,
            1.5
           ],
           "y": [
            10.1,
            10.1,
            15.0,
            15.0,
            13.6,
            13.6,
            11.5,
            11.5,
            10.1,
            10.1,
            10.0,
            10.0,
            10.1
           ],
           "type": "scatter"
          },
          {
           "fill": "toself",
           "fillcolor": "rgb(25, 0, 0)",
           "hoverinfo": "name",
           "line": {
            "width": 0
           },
           "mode": "lines",
           "name": "Risk Area",
           "showlegend": false,
           "x": [
            6.4,
            5.1,
            5.1,
            5.0,
            5.0,
            5.1,
            5.1,
            9.9,
            9.9,
            10.0,
            10.0,
            9.9,
            9.9,
            8.6,
            8.6,
            6.4,
            6.4
           ],
           "y": [
            10.1,
            10.1,
            11.5,
            11.5,
            13.6,
            13.6,
            15.0,
            15.0,
            13.6,
            13.6,
            11.5,
            11.5,
            10.1,
            10.1,
            10.0,
            10.0,
            10.1
           ],
           "type": "scatter"
          },
          {
           "fill": "toself",
           "fillcolor": "rgb(76, 0, 0)",
           "hoverinfo": "name",
           "line": {
            "width": 0
           },
           "mode": "lines",
           "name": "Risk Area",
           "showlegend": false,
           "x": [
            10.1,
            10.1,
            15.0,
            15.0,
            13.6,
            13.6,
            11.5,
            11.5,
            10.1,
            10.1,
            10.0,
            10.0,
            10.1
           ],
           "y": [
            13.6,
            15.0,
            15.0,
            10.1,
            10.1,
            10.0,
            10.0,
            10.1,
            10.1,
            11.5,
            11.5,
            13.6,
            13.6
           ],
           "type": "scatter"
          },
          {
           "hoverinfo": "text",
           "marker": {
            "opacity": 1,
            "size": 1
           },
           "mode": "markers",
           "showlegend": false,
           "text": [
            "ID: 101, Pos(7.50,12.28)"
           ],
           "x": [
            7.502632408730245
           ],
           "y": [
            12.279741217809164
           ],
           "type": "scatter"
          },
          {
           "hoverinfo": "text",
           "marker": {
            "opacity": 1,
            "size": 1
           },
           "mode": "markers",
           "showlegend": false,
           "text": [
            "ID: 102, Pos(7.01,12.94)"
           ],
           "x": [
            7.008274855969217
           ],
           "y": [
            12.9380676826337
           ],
           "type": "scatter"
          },
          {
           "hoverinfo": "text",
           "marker": {
            "opacity": 1,
            "size": 1
           },
           "mode": "markers",
           "showlegend": false,
           "text": [
            "ID: 103, Pos(5.28,12.02)"
           ],
           "x": [
            5.279260405011873
           ],
           "y": [
            12.019565318193134
           ],
           "type": "scatter"
          },
          {
           "hoverinfo": "text",
           "marker": {
            "opacity": 1,
            "size": 1
           },
           "mode": "markers",
           "showlegend": false,
           "text": [
            "ID: 104, Pos(9.25,12.51)"
           ],
           "x": [
            9.248521674603468
           ],
           "y": [
            12.51470249483983
           ],
           "type": "scatter"
          },
          {
           "hoverinfo": "text",
           "marker": {
            "opacity": 1,
            "size": 1
           },
           "mode": "markers",
           "showlegend": false,
           "text": [
            "ID: 105, Pos(8.00,12.82)"
           ],
           "x": [
            8.004794475648358
           ],
           "y": [
            12.818715529011973
           ],
           "type": "scatter"
          },
          {
           "hoverinfo": "text",
           "marker": {
            "opacity": 1,
            "size": 1
           },
           "mode": "markers",
           "showlegend": false,
           "text": [
            "ID: 106, Pos(10.51,12.82)"
           ],
           "x": [
            10.505643328881801
           ],
           "y": [
            12.816240475368796
           ],
           "type": "scatter"
          },
          {
           "hoverinfo": "text",
           "marker": {
            "opacity": 1,
            "size": 1
           },
           "mode": "markers",
           "showlegend": false,
           "text": [
            "ID: 107, Pos(9.84,13.24)"
           ],
           "x": [
            9.842802915408999
           ],
           "y": [
            13.237636922612186
           ],
           "type": "scatter"
          },
          {
           "hoverinfo": "text",
           "marker": {
            "opacity": 1,
            "size": 1
           },
           "mode": "markers",
           "showlegend": false,
           "text": [
            "ID: 108, Pos(6.35,12.05)"
           ],
           "x": [
            6.353125641468236
           ],
           "y": [
            12.048932751542441
           ],
           "type": "scatter"
          },
          {
           "hoverinfo": "text",
           "marker": {
            "opacity": 1,
            "size": 1
           },
           "mode": "markers",
           "showlegend": false,
           "text": [
            "ID: 109, Pos(8.89,13.19)"
           ],
           "x": [
            8.890140750143065
           ],
           "y": [
            13.186907326288246
           ],
           "type": "scatter"
          },
          {
           "hoverinfo": "text",
           "marker": {
            "opacity": 1,
            "size": 1
           },
           "mode": "markers",
           "showlegend": false,
           "text": [
            "ID: 110, Pos(5.99,12.63)"
           ],
           "x": [
            5.989342182841642
           ],
           "y": [
            12.630644129616517
           ],
           "type": "scatter"
          }
         ],
         "layout": {
          "shapes": [
           {
            "fillcolor": "rgba(0, 0, 128, 0.5)",
            "line": {
             "color": "rgba(0, 0, 128, 0.5)"
            },
            "type": "circle",
            "x0": 7.302632408730245,
            "x1": 7.702632408730246,
            "xref": "x",
            "y0": 12.079741217809165,
            "y1": 12.479741217809163,
            "yref": "y"
           },
           {
            "fillcolor": "rgba(0, 125, 255, 0.5)",
            "line": {
             "color": "rgba(0, 125, 255, 0.5)"
            },
            "type": "circle",
            "x0": 6.808274855969217,
            "x1": 7.208274855969218,
            "xref": "x",
            "y0": 12.738067682633702,
            "y1": 13.1380676826337,
            "yref": "y"
           },
           {
            "fillcolor": "rgba(0, 32, 255, 0.5)",
            "line": {
             "color": "rgba(0, 32, 255, 0.5)"
            },
            "type": "circle",
            "x0": 5.079260405011873,
            "x1": 5.479260405011873,
            "xref": "x",
            "y0": 11.819565318193135,
            "y1": 12.219565318193133,
            "yref": "y"
           },
           {
            "fillcolor": "rgba(0, 0, 128, 0.5)",
            "line": {
             "color": "rgba(0, 0, 128, 0.5)"
            },
            "type": "circle",
            "x0": 9.04852167460347,
            "x1": 9.448521674603468,
            "xref": "x",
            "y0": 12.31470249483983,
            "y1": 12.714702494839829,
            "yref": "y"
           },
           {
            "fillcolor": "rgba(0, 184, 255, 0.5)",
            "line": {
             "color": "rgba(0, 184, 255, 0.5)"
            },
            "type": "circle",
            "x0": 7.804794475648358,
            "x1": 8.204794475648358,
            "xref": "x",
            "y0": 12.618715529011974,
            "y1": 13.018715529011972,
            "yref": "y"
           },
           {
            "fillcolor": "rgba(0, 0, 128, 0.5)",
            "line": {
             "color": "rgba(0, 0, 128, 0.5)"
            },
            "type": "circle",
            "x0": 10.305643328881802,
            "x1": 10.7056433288818,
            "xref": "x",
            "y0": 12.616240475368796,
            "y1": 13.016240475368795,
            "yref": "y"
           },
           {
            "fillcolor": "rgba(141, 255, 106, 0.5)",
            "line": {
             "color": "rgba(141, 255, 106, 0.5)"
            },
            "type": "circle",
            "x0": 9.642802915409,
            "x1": 10.042802915408998,
            "xref": "x",
            "y0": 13.037636922612187,
            "y1": 13.437636922612185,
            "yref": "y"
           },
           {
            "fillcolor": "rgba(0, 0, 168, 0.5)",
            "line": {
             "color": "rgba(0, 0, 168, 0.5)"
            },
            "type": "circle",
            "x0": 6.153125641468236,
            "x1": 6.553125641468236,
            "xref": "x",
            "y0": 11.848932751542442,
            "y1": 12.24893275154244,
            "yref": "y"
           },
           {
            "fillcolor": "rgba(0, 184, 255, 0.5)",
            "line": {
             "color": "rgba(0, 184, 255, 0.5)"
            },
            "type": "circle",
            "x0": 8.690140750143065,
            "x1": 9.090140750143064,
            "xref": "x",
            "y0": 12.986907326288247,
            "y1": 13.386907326288245,
            "yref": "y"
           },
           {
            "fillcolor": "rgba(0, 48, 255, 0.5)",
            "line": {
             "color": "rgba(0, 48, 255, 0.5)"
            },
            "type": "circle",
            "x0": 5.789342182841642,
            "x1": 6.189342182841642,
            "xref": "x",
            "y0": 12.430644129616518,
            "y1": 12.830644129616516,
            "yref": "y"
           },
           {
            "line": {
             "color": "white",
             "width": 3
            },
            "type": "line",
            "x0": 7.502632408730245,
            "x1": 7.700611238656673,
            "y0": 12.279741217809164,
            "y1": 12.308102862700855
           },
           {
            "line": {
             "color": "white",
             "width": 3
            },
            "type": "line",
            "x0": 7.008274855969217,
            "x1": 7.205804163137462,
            "y0": 12.9380676826337,
            "y1": 12.969407319032888
           },
           {
            "line": {
             "color": "white",
             "width": 3
            },
            "type": "line",
            "x0": 5.279260405011873,
            "x1": 5.474573778683291,
            "y0": 12.019565318193134,
            "y1": 12.06260815807492
           },
           {
            "line": {
             "color": "white",
             "width": 3
            },
            "type": "line",
            "x0": 9.248521674603468,
            "x1": 9.444817502776315,
            "y0": 12.51470249483983,
            "y1": 12.553016302297925
           },
           {
            "line": {
             "color": "black",
             "width": 3
            },
            "type": "line",
            "x0": 8.004794475648358,
            "x1": 8.20049435107579,
            "y0": 12.818715529011973,
            "y1": 12.859965483650587
           },
           {
            "line": {
             "color": "white",
             "width": 3
            },
            "type": "line",
            "x0": 10.505643328881801,
            "x1": 10.699939582854743,
            "y0": 12.816240475368796,
            "y1": 12.863663736455333
           },
           {
            "line": {
             "color": "black",
             "width": 3
            },
            "type": "line",
            "x0": 9.842802915408999,
            "x1": 10.037222459509684,
            "y0": 13.237636922612186,
            "y1": 13.190721670596641
           },
           {
            "line": {
             "color": "white",
             "width": 3
            },
            "type": "line",
            "x0": 6.353125641468236,
            "x1": 6.552310488637876,
            "y0": 12.048932751542441,
            "y1": 12.066971505878788
           },
           {
            "line": {
             "color": "black",
             "width": 3
            },
            "type": "line",
            "x0": 8.890140750143065,
            "x1": 9.086693849857335,
            "y0": 13.186907326288246,
            "y1": 13.223878652917302
           },
           {
            "line": {
             "color": "white",
             "width": 3
            },
            "type": "line",
            "x0": 5.989342182841642,
            "x1": 6.189073469837046,
            "y0": 12.630644129616517,
            "y1": 12.6410081536979
           }
          ],
          "title": {
           "text": "<b>Percentage using the shortest path: 0%  |  Number of Agents: 10</b>",
           "x": 0.5
          }
         },
         "name": "600"
        },
        {
         "data": [
          {
           "hoverinfo": "name",
           "line": {
            "color": "white"
           },
           "mode": "lines",
           "name": "Exterior",
           "showlegend": false,
           "x": [
            10.1,
            10.1,
            15.0,
            15.0,
            13.6,
            13.6,
            15.0,
            15.0,
            13.6,
            13.6,
            15.0,
            15.0,
            10.1,
            10.1,
            9.9,
            9.9,
            5.1,
            5.1,
            4.9,
            4.9,
            0.0,
            0.0,
            1.5,
            1.5,
            0.0,
            0.0,
            1.5,
            1.5,
            0.0,
            0.0,
            4.9,
            4.9,
            5.1,
            5.1,
            9.9,
            9.9,
            10.1
           ],
           "y": [
            1.5,
            0.0,
            0.0,
            4.9,
            4.9,
            5.1,
            5.1,
            9.9,
            9.9,
            10.1,
            10.1,
            15.0,
            15.0,
            13.6,
            13.6,
            15.0,
            15.0,
            13.6,
            13.6,
            15.0,
            15.0,
            10.1,
            10.1,
            9.9,
            9.9,
            5.1,
            5.1,
            4.9,
            4.9,
            0.0,
            0.0,
            1.5,
            1.5,
            0.0,
            0.0,
            1.5,
            1.5
           ],
           "type": "scatter"
          },
          {
           "hoverinfo": "name",
           "line": {
            "color": "white"
           },
           "mode": "lines",
           "name": "Obstacle",
           "showlegend": false,
           "x": [
            10.1,
            11.5,
            11.5,
            10.1,
            10.1,
            9.9,
            9.9,
            8.6,
            8.6,
            9.9,
            9.9,
            10.1,
            10.1
           ],
           "y": [
            5.1,
            5.1,
            4.9,
            4.9,
            3.6,
            3.6,
            4.9,
            4.9,
            5.1,
            5.1,
            6.5,
            6.5,
            5.1
           ],
           "type": "scatter"
          },
          {
           "hoverinfo": "name",
           "line": {
            "color": "white"
           },
           "mode": "lines",
           "name": "Obstacle",
           "showlegend": false,
           "x": [
            10.1,
            11.5,
            11.5,
            10.1,
            10.1,
            9.9,
            9.9,
            8.6,
            8.6,
            9.9,
            9.9,
            10.1,
            10.1
           ],
           "y": [
            10.1,
            10.1,
            9.9,
            9.9,
            8.6,
            8.6,
            9.9,
            9.9,
            10.1,
            10.1,
            11.5,
            11.5,
            10.1
           ],
           "type": "scatter"
          },
          {
           "hoverinfo": "name",
           "line": {
            "color": "white"
           },
           "mode": "lines",
           "name": "Obstacle",
           "showlegend": false,
           "x": [
            5.1,
            6.4,
            6.4,
            5.1,
            5.1,
            4.9,
            4.9,
            3.6,
            3.6,
            4.9,
            4.9,
            5.1,
            5.1
           ],
           "y": [
            5.1,
            5.1,
            4.9,
            4.9,
            3.6,
            3.6,
            4.9,
            4.9,
            5.1,
            5.1,
            6.5,
            6.5,
            5.1
           ],
           "type": "scatter"
          },
          {
           "hoverinfo": "name",
           "line": {
            "color": "white"
           },
           "mode": "lines",
           "name": "Obstacle",
           "showlegend": false,
           "x": [
            5.1,
            6.4,
            6.4,
            5.1,
            5.1,
            4.9,
            4.9,
            3.6,
            3.6,
            4.9,
            4.9,
            5.1,
            5.1
           ],
           "y": [
            10.1,
            10.1,
            9.9,
            9.9,
            8.6,
            8.6,
            9.9,
            9.9,
            10.1,
            10.1,
            11.5,
            11.5,
            10.1
           ],
           "type": "scatter"
          },
          {
           "fill": "toself",
           "fillcolor": "rgb(25, 0, 0)",
           "hoverinfo": "name",
           "line": {
            "width": 0
           },
           "mode": "lines",
           "name": "Risk Area",
           "showlegend": false,
           "x": [
            1.5,
            1.5,
            3.6,
            3.6,
            4.9,
            4.9,
            5.0,
            5.0,
            4.9,
            4.9,
            0.0,
            0.0,
            1.5
           ],
           "y": [
            4.9,
            5.0,
            5.0,
            4.9,
            4.9,
            3.6,
            3.6,
            1.5,
            1.5,
            0.0,
            0.0,
            4.9,
            4.9
           ],
           "type": "scatter"
          },
          {
           "fill": "toself",
           "fillcolor": "rgb(255, 0, 0)",
           "hoverinfo": "name",
           "line": {
            "width": 0
           },
           "mode": "lines",
           "name": "Risk Area",
           "showlegend": false,
           "x": [
            9.9,
            9.9,
            5.1,
            5.1,
            5.0,
            5.0,
            5.1,
            5.1,
            6.4,
            6.4,
            8.6,
            8.6,
            9.9,
            9.9,
            10.0,
            10.0,
            9.9
           ],
           "y": [
            1.5,
            0.0,
            0.0,
            1.5,
            1.5,
            3.6,
            3.6,
            4.9,
            4.9,
            5.0,
            5.0,
            4.9,
            4.9,
            3.6,
            3.6,
            1.5,
            1.5
           ],
           "type": "scatter"
          },
          {
           "fill": "toself",
           "fillcolor": "rgb(0, 0, 0)",
           "hoverinfo": "name",
           "line": {
            "width": 0
           },
           "mode": "lines",
           "name": "Risk Area",
           "showlegend": false,
           "x": [
            13.6,
            15.0,
            15.0,
            10.1,
            10.1,
            10.0,
            10.0,
            10.1,
            10.1,
            11.5,
            11.5,
            13.6,
            13.6
           ],
           "y": [
            4.9,
            4.9,
            0.0,
            0.0,
            1.5,
            1.5,
            3.6,
            3.6,
            4.9,
            4.9,
            5.0,
            5.0,
            4.9
           ],
           "type": "scatter"
          },
          {
           "fill": "toself",
           "fillcolor": "rgb(178, 0, 0)",
           "hoverinfo": "name",
           "line": {
            "width": 0
           },
           "mode": "lines",
           "name": "Risk Area",
           "showlegend": false,
           "x": [
            13.6,
            15.0,
            15.0,
            13.6,
            13.6,
            11.5,
            11.5,
            10.1,
            10.1,
            10.0,
            10.0,
            10.1,
            10.1,
            11.5,
            11.5,
            13.6,
            13.6
           ],
           "y": [
            9.9,
            9.9,
            5.1,
            5.1,
            5.0,
            5.0,
            5.1,
            5.1,
            6.5,
            6.5,
            8.6,
            8.6,
            9.9,
            9.9,
            10.0,
            10.0,
            9.9
           ],
           "type": "scatter"
          },
          {
           "fill": "toself",
           "fillcolor": "rgb(178, 0, 0)",
           "hoverinfo": "name",
           "line": {
            "width": 0
           },
           "mode": "lines",
           "name": "Risk Area",
           "showlegend": false,
           "x": [
            9.9,
            9.9,
            8.6,
            8.6,
            6.4,
            6.4,
            5.1,
            5.1,
            5.0,
            5.0,
            5.1,
            5.1,
            6.4,
            6.4,
            8.6,
            8.6,
            9.9,
            9.9,
            10.0,
            10.0,
            9.9
           ],
           "y": [
            6.5,
            5.1,
            5.1,
            5.0,
            5.0,
            5.1,
            5.1,
            6.5,
            6.5,
            8.6,
            8.6,
            9.9,
            9.9,
            10.0,
            10.0,
            9.9,
            9.9,
            8.6,
            8.6,
            6.5,
            6.5
           ],
           "type": "scatter"
          },
          {
           "fill": "toself",
           "fillcolor": "rgb(127, 0, 0)",
           "hoverinfo": "name",
           "line": {
            "width": 0
           },
           "mode": "lines",
           "name": "Risk Area",
           "showlegend": false,
           "x": [
            4.9,
            4.9,
            3.6,
            3.6,
            1.5,
            1.5,
            0.0,
            0.0,
            1.5,
            1.5,
            3.6,
            3.6,
            4.9,
            4.9,
            5.0,
            5.0,
            4.9
           ],
           "y": [
            6.5,
            5.1,
            5.1,
            5.0,
            5.0,
            5.1,
            5.1,
            9.9,
            9.9,
            10.0,
            10.0,
            9.9,
            9.9,
            8.6,
            8.6,
            6.5,
            6.5
           ],
           "type": "scatter"
          },
          {
           "fill": "toself",
           "fillcolor": "rgb(127, 0, 0)",
           "hoverinfo": "name",
           "line": {
            "width": 0
           },
           "mode": "lines",
           "name": "Risk Area",
           "showlegend": false,
           "x": [
            1.5,
            0.0,
            0.0,
            4.9,
            4.9,
            5.0,
            5.0,
            4.9,
            4.9,
            3.6,
            3.6,
            1.5,
            1.5
           ],
           "y": [
            10.1,
            10.1,
            15.0,
            15.0,
            13.6,
            13.6,
            11.5,
            11.5,
            10.1,
            10.1,
            10.0,
            10.0,
            10.1
           ],
           "type": "scatter"
          },
          {
           "fill": "toself",
           "fillcolor": "rgb(25, 0, 0)",
           "hoverinfo": "name",
           "line": {
            "width": 0
           },
           "mode": "lines",
           "name": "Risk Area",
           "showlegend": false,
           "x": [
            6.4,
            5.1,
            5.1,
            5.0,
            5.0,
            5.1,
            5.1,
            9.9,
            9.9,
            10.0,
            10.0,
            9.9,
            9.9,
            8.6,
            8.6,
            6.4,
            6.4
           ],
           "y": [
            10.1,
            10.1,
            11.5,
            11.5,
            13.6,
            13.6,
            15.0,
            15.0,
            13.6,
            13.6,
            11.5,
            11.5,
            10.1,
            10.1,
            10.0,
            10.0,
            10.1
           ],
           "type": "scatter"
          },
          {
           "fill": "toself",
           "fillcolor": "rgb(76, 0, 0)",
           "hoverinfo": "name",
           "line": {
            "width": 0
           },
           "mode": "lines",
           "name": "Risk Area",
           "showlegend": false,
           "x": [
            10.1,
            10.1,
            15.0,
            15.0,
            13.6,
            13.6,
            11.5,
            11.5,
            10.1,
            10.1,
            10.0,
            10.0,
            10.1
           ],
           "y": [
            13.6,
            15.0,
            15.0,
            10.1,
            10.1,
            10.0,
            10.0,
            10.1,
            10.1,
            11.5,
            11.5,
            13.6,
            13.6
           ],
           "type": "scatter"
          },
          {
           "hoverinfo": "text",
           "marker": {
            "opacity": 1,
            "size": 1
           },
           "mode": "markers",
           "showlegend": false,
           "text": [
            "ID: 101, Pos(9.10,12.42)"
           ],
           "x": [
            9.095449590556639
           ],
           "y": [
            12.423467791532744
           ],
           "type": "scatter"
          },
          {
           "hoverinfo": "text",
           "marker": {
            "opacity": 1,
            "size": 1
           },
           "mode": "markers",
           "showlegend": false,
           "text": [
            "ID: 102, Pos(8.11,13.10)"
           ],
           "x": [
            8.109783173604157
           ],
           "y": [
            13.095777679779939
           ],
           "type": "scatter"
          },
          {
           "hoverinfo": "text",
           "marker": {
            "opacity": 1,
            "size": 1
           },
           "mode": "markers",
           "showlegend": false,
           "text": [
            "ID: 103, Pos(6.73,12.30)"
           ],
           "x": [
            6.730100182382002
           ],
           "y": [
            12.29726024493352
           ],
           "type": "scatter"
          },
          {
           "hoverinfo": "text",
           "marker": {
            "opacity": 1,
            "size": 1
           },
           "mode": "markers",
           "showlegend": false,
           "text": [
            "ID: 104, Pos(10.83,12.78)"
           ],
           "x": [
            10.825935524290458
           ],
           "y": [
            12.777366264767567
           ],
           "type": "scatter"
          },
          {
           "hoverinfo": "text",
           "marker": {
            "opacity": 1,
            "size": 1
           },
           "mode": "markers",
           "showlegend": false,
           "text": [
            "ID: 105, Pos(9.04,13.12)"
           ],
           "x": [
            9.036063753948689
           ],
           "y": [
            13.115765946357334
           ],
           "type": "scatter"
          },
          {
           "hoverinfo": "text",
           "marker": {
            "opacity": 1,
            "size": 1
           },
           "mode": "markers",
           "showlegend": false,
           "text": [
            "ID: 106, Pos(12.05,13.25)"
           ],
           "x": [
            12.045748118057299
           ],
           "y": [
            13.249603296783754
           ],
           "type": "scatter"
          },
          {
           "hoverinfo": "text",
           "marker": {
            "opacity": 1,
            "size": 1
           },
           "mode": "markers",
           "showlegend": false,
           "text": [
            "ID: 107, Pos(11.07,13.42)"
           ],
           "x": [
            11.074188823857028
           ],
           "y": [
            13.42143179708077
           ],
           "type": "scatter"
          },
          {
           "hoverinfo": "text",
           "marker": {
            "opacity": 1,
            "size": 1
           },
           "mode": "markers",
           "showlegend": false,
           "text": [
            "ID: 108, Pos(7.90,12.32)"
           ],
           "x": [
            7.903559060728123
           ],
           "y": [
            12.317192471045141
           ],
           "type": "scatter"
          },
          {
           "hoverinfo": "text",
           "marker": {
            "opacity": 1,
            "size": 1
           },
           "mode": "markers",
           "showlegend": false,
           "text": [
            "ID: 109, Pos(9.96,13.21)"
           ],
           "x": [
            9.959123047924972
           ],
           "y": [
            13.21486085775466
           ],
           "type": "scatter"
          },
          {
           "hoverinfo": "text",
           "marker": {
            "opacity": 1,
            "size": 1
           },
           "mode": "markers",
           "showlegend": false,
           "text": [
            "ID: 110, Pos(7.18,12.88)"
           ],
           "x": [
            7.176441712781964
           ],
           "y": [
            12.878541990438011
           ],
           "type": "scatter"
          }
         ],
         "layout": {
          "shapes": [
           {
            "fillcolor": "rgba(0, 0, 128, 0.5)",
            "line": {
             "color": "rgba(0, 0, 128, 0.5)"
            },
            "type": "circle",
            "x0": 8.89544959055664,
            "x1": 9.295449590556638,
            "xref": "x",
            "y0": 12.223467791532745,
            "y1": 12.623467791532743,
            "yref": "y"
           },
           {
            "fillcolor": "rgba(0, 220, 254, 0.5)",
            "line": {
             "color": "rgba(0, 220, 254, 0.5)"
            },
            "type": "circle",
            "x0": 7.909783173604157,
            "x1": 8.309783173604156,
            "xref": "x",
            "y0": 12.89577767977994,
            "y1": 13.295777679779938,
            "yref": "y"
           },
           {
            "fillcolor": "rgba(0, 0, 164, 0.5)",
            "line": {
             "color": "rgba(0, 0, 164, 0.5)"
            },
            "type": "circle",
            "x0": 6.530100182382002,
            "x1": 6.930100182382002,
            "xref": "x",
            "y0": 12.097260244933521,
            "y1": 12.49726024493352,
            "yref": "y"
           },
           {
            "fillcolor": "rgba(0, 0, 128, 0.5)",
            "line": {
             "color": "rgba(0, 0, 128, 0.5)"
            },
            "type": "circle",
            "x0": 10.625935524290458,
            "x1": 11.025935524290457,
            "xref": "x",
            "y0": 12.577366264767567,
            "y1": 12.977366264767566,
            "yref": "y"
           },
           {
            "fillcolor": "rgba(0, 220, 254, 0.5)",
            "line": {
             "color": "rgba(0, 220, 254, 0.5)"
            },
            "type": "circle",
            "x0": 8.83606375394869,
            "x1": 9.236063753948688,
            "xref": "x",
            "y0": 12.915765946357334,
            "y1": 13.315765946357333,
            "yref": "y"
           },
           {
            "fillcolor": "rgba(0, 0, 128, 0.5)",
            "line": {
             "color": "rgba(0, 0, 128, 0.5)"
            },
            "type": "circle",
            "x0": 11.8457481180573,
            "x1": 12.245748118057298,
            "xref": "x",
            "y0": 13.049603296783754,
            "y1": 13.449603296783753,
            "yref": "y"
           },
           {
            "fillcolor": "rgba(0, 40, 255, 0.5)",
            "line": {
             "color": "rgba(0, 40, 255, 0.5)"
            },
            "type": "circle",
            "x0": 10.874188823857029,
            "x1": 11.274188823857028,
            "xref": "x",
            "y0": 13.22143179708077,
            "y1": 13.621431797080769,
            "yref": "y"
           },
           {
            "fillcolor": "rgba(0, 0, 132, 0.5)",
            "line": {
             "color": "rgba(0, 0, 132, 0.5)"
            },
            "type": "circle",
            "x0": 7.703559060728123,
            "x1": 8.103559060728124,
            "xref": "x",
            "y0": 12.117192471045142,
            "y1": 12.51719247104514,
            "yref": "y"
           },
           {
            "fillcolor": "rgba(0, 164, 255, 0.5)",
            "line": {
             "color": "rgba(0, 164, 255, 0.5)"
            },
            "type": "circle",
            "x0": 9.759123047924973,
            "x1": 10.159123047924972,
            "xref": "x",
            "y0": 13.01486085775466,
            "y1": 13.41486085775466,
            "yref": "y"
           },
           {
            "fillcolor": "rgba(0, 180, 255, 0.5)",
            "line": {
             "color": "rgba(0, 180, 255, 0.5)"
            },
            "type": "circle",
            "x0": 6.976441712781964,
            "x1": 7.376441712781964,
            "xref": "x",
            "y0": 12.678541990438012,
            "y1": 13.07854199043801,
            "yref": "y"
           },
           {
            "line": {
             "color": "white",
             "width": 3
            },
            "type": "line",
            "x0": 9.095449590556639,
            "x1": 9.293524871633897,
            "y0": 12.423467791532744,
            "y1": 12.45114780284352
           },
           {
            "line": {
             "color": "black",
             "width": 3
            },
            "type": "line",
            "x0": 8.109783173604157,
            "x1": 8.307249407579654,
            "y0": 13.095777679779939,
            "y1": 13.12751230502641
           },
           {
            "line": {
             "color": "white",
             "width": 3
            },
            "type": "line",
            "x0": 6.730100182382002,
            "x1": 6.928148663809792,
            "y0": 12.29726024493352,
            "y1": 12.32513135908682
           },
           {
            "line": {
             "color": "white",
             "width": 3
            },
            "type": "line",
            "x0": 10.825935524290458,
            "x1": 11.022115837291858,
            "y0": 12.777366264767567,
            "y1": 12.816267226075386
           },
           {
            "line": {
             "color": "black",
             "width": 3
            },
            "type": "line",
            "x0": 9.036063753948689,
            "x1": 9.228935475360935,
            "y0": 13.115765946357334,
            "y1": 13.168685688226288
           },
           {
            "line": {
             "color": "white",
             "width": 3
            },
            "type": "line",
            "x0": 12.045748118057299,
            "x1": 12.237832663395904,
            "y0": 13.249603296783754,
            "y1": 13.305312608770718
           },
           {
            "line": {
             "color": "white",
             "width": 3
            },
            "type": "line",
            "x0": 11.074188823857028,
            "x1": 11.268391308462176,
            "y0": 13.42143179708077,
            "y1": 13.469237601887164
           },
           {
            "line": {
             "color": "white",
             "width": 3
            },
            "type": "line",
            "x0": 7.903559060728123,
            "x1": 8.100000285200487,
            "y0": 12.317192471045141,
            "y1": 12.354753692108874
           },
           {
            "line": {
             "color": "white",
             "width": 3
            },
            "type": "line",
            "x0": 9.959123047924972,
            "x1": 10.156394239875754,
            "y0": 13.21486085775466,
            "y1": 13.181935535792409
           },
           {
            "line": {
             "color": "black",
             "width": 3
            },
            "type": "line",
            "x0": 7.176441712781964,
            "x1": 7.372339203583067,
            "y0": 12.878541990438011,
            "y1": 12.918843021415288
           }
          ],
          "title": {
           "text": "<b>Percentage using the shortest path: 0%  |  Number of Agents: 10</b>",
           "x": 0.5
          }
         },
         "name": "650"
        },
        {
         "data": [
          {
           "hoverinfo": "name",
           "line": {
            "color": "white"
           },
           "mode": "lines",
           "name": "Exterior",
           "showlegend": false,
           "x": [
            10.1,
            10.1,
            15.0,
            15.0,
            13.6,
            13.6,
            15.0,
            15.0,
            13.6,
            13.6,
            15.0,
            15.0,
            10.1,
            10.1,
            9.9,
            9.9,
            5.1,
            5.1,
            4.9,
            4.9,
            0.0,
            0.0,
            1.5,
            1.5,
            0.0,
            0.0,
            1.5,
            1.5,
            0.0,
            0.0,
            4.9,
            4.9,
            5.1,
            5.1,
            9.9,
            9.9,
            10.1
           ],
           "y": [
            1.5,
            0.0,
            0.0,
            4.9,
            4.9,
            5.1,
            5.1,
            9.9,
            9.9,
            10.1,
            10.1,
            15.0,
            15.0,
            13.6,
            13.6,
            15.0,
            15.0,
            13.6,
            13.6,
            15.0,
            15.0,
            10.1,
            10.1,
            9.9,
            9.9,
            5.1,
            5.1,
            4.9,
            4.9,
            0.0,
            0.0,
            1.5,
            1.5,
            0.0,
            0.0,
            1.5,
            1.5
           ],
           "type": "scatter"
          },
          {
           "hoverinfo": "name",
           "line": {
            "color": "white"
           },
           "mode": "lines",
           "name": "Obstacle",
           "showlegend": false,
           "x": [
            10.1,
            11.5,
            11.5,
            10.1,
            10.1,
            9.9,
            9.9,
            8.6,
            8.6,
            9.9,
            9.9,
            10.1,
            10.1
           ],
           "y": [
            5.1,
            5.1,
            4.9,
            4.9,
            3.6,
            3.6,
            4.9,
            4.9,
            5.1,
            5.1,
            6.5,
            6.5,
            5.1
           ],
           "type": "scatter"
          },
          {
           "hoverinfo": "name",
           "line": {
            "color": "white"
           },
           "mode": "lines",
           "name": "Obstacle",
           "showlegend": false,
           "x": [
            10.1,
            11.5,
            11.5,
            10.1,
            10.1,
            9.9,
            9.9,
            8.6,
            8.6,
            9.9,
            9.9,
            10.1,
            10.1
           ],
           "y": [
            10.1,
            10.1,
            9.9,
            9.9,
            8.6,
            8.6,
            9.9,
            9.9,
            10.1,
            10.1,
            11.5,
            11.5,
            10.1
           ],
           "type": "scatter"
          },
          {
           "hoverinfo": "name",
           "line": {
            "color": "white"
           },
           "mode": "lines",
           "name": "Obstacle",
           "showlegend": false,
           "x": [
            5.1,
            6.4,
            6.4,
            5.1,
            5.1,
            4.9,
            4.9,
            3.6,
            3.6,
            4.9,
            4.9,
            5.1,
            5.1
           ],
           "y": [
            5.1,
            5.1,
            4.9,
            4.9,
            3.6,
            3.6,
            4.9,
            4.9,
            5.1,
            5.1,
            6.5,
            6.5,
            5.1
           ],
           "type": "scatter"
          },
          {
           "hoverinfo": "name",
           "line": {
            "color": "white"
           },
           "mode": "lines",
           "name": "Obstacle",
           "showlegend": false,
           "x": [
            5.1,
            6.4,
            6.4,
            5.1,
            5.1,
            4.9,
            4.9,
            3.6,
            3.6,
            4.9,
            4.9,
            5.1,
            5.1
           ],
           "y": [
            10.1,
            10.1,
            9.9,
            9.9,
            8.6,
            8.6,
            9.9,
            9.9,
            10.1,
            10.1,
            11.5,
            11.5,
            10.1
           ],
           "type": "scatter"
          },
          {
           "fill": "toself",
           "fillcolor": "rgb(25, 0, 0)",
           "hoverinfo": "name",
           "line": {
            "width": 0
           },
           "mode": "lines",
           "name": "Risk Area",
           "showlegend": false,
           "x": [
            1.5,
            1.5,
            3.6,
            3.6,
            4.9,
            4.9,
            5.0,
            5.0,
            4.9,
            4.9,
            0.0,
            0.0,
            1.5
           ],
           "y": [
            4.9,
            5.0,
            5.0,
            4.9,
            4.9,
            3.6,
            3.6,
            1.5,
            1.5,
            0.0,
            0.0,
            4.9,
            4.9
           ],
           "type": "scatter"
          },
          {
           "fill": "toself",
           "fillcolor": "rgb(255, 0, 0)",
           "hoverinfo": "name",
           "line": {
            "width": 0
           },
           "mode": "lines",
           "name": "Risk Area",
           "showlegend": false,
           "x": [
            9.9,
            9.9,
            5.1,
            5.1,
            5.0,
            5.0,
            5.1,
            5.1,
            6.4,
            6.4,
            8.6,
            8.6,
            9.9,
            9.9,
            10.0,
            10.0,
            9.9
           ],
           "y": [
            1.5,
            0.0,
            0.0,
            1.5,
            1.5,
            3.6,
            3.6,
            4.9,
            4.9,
            5.0,
            5.0,
            4.9,
            4.9,
            3.6,
            3.6,
            1.5,
            1.5
           ],
           "type": "scatter"
          },
          {
           "fill": "toself",
           "fillcolor": "rgb(0, 0, 0)",
           "hoverinfo": "name",
           "line": {
            "width": 0
           },
           "mode": "lines",
           "name": "Risk Area",
           "showlegend": false,
           "x": [
            13.6,
            15.0,
            15.0,
            10.1,
            10.1,
            10.0,
            10.0,
            10.1,
            10.1,
            11.5,
            11.5,
            13.6,
            13.6
           ],
           "y": [
            4.9,
            4.9,
            0.0,
            0.0,
            1.5,
            1.5,
            3.6,
            3.6,
            4.9,
            4.9,
            5.0,
            5.0,
            4.9
           ],
           "type": "scatter"
          },
          {
           "fill": "toself",
           "fillcolor": "rgb(178, 0, 0)",
           "hoverinfo": "name",
           "line": {
            "width": 0
           },
           "mode": "lines",
           "name": "Risk Area",
           "showlegend": false,
           "x": [
            13.6,
            15.0,
            15.0,
            13.6,
            13.6,
            11.5,
            11.5,
            10.1,
            10.1,
            10.0,
            10.0,
            10.1,
            10.1,
            11.5,
            11.5,
            13.6,
            13.6
           ],
           "y": [
            9.9,
            9.9,
            5.1,
            5.1,
            5.0,
            5.0,
            5.1,
            5.1,
            6.5,
            6.5,
            8.6,
            8.6,
            9.9,
            9.9,
            10.0,
            10.0,
            9.9
           ],
           "type": "scatter"
          },
          {
           "fill": "toself",
           "fillcolor": "rgb(178, 0, 0)",
           "hoverinfo": "name",
           "line": {
            "width": 0
           },
           "mode": "lines",
           "name": "Risk Area",
           "showlegend": false,
           "x": [
            9.9,
            9.9,
            8.6,
            8.6,
            6.4,
            6.4,
            5.1,
            5.1,
            5.0,
            5.0,
            5.1,
            5.1,
            6.4,
            6.4,
            8.6,
            8.6,
            9.9,
            9.9,
            10.0,
            10.0,
            9.9
           ],
           "y": [
            6.5,
            5.1,
            5.1,
            5.0,
            5.0,
            5.1,
            5.1,
            6.5,
            6.5,
            8.6,
            8.6,
            9.9,
            9.9,
            10.0,
            10.0,
            9.9,
            9.9,
            8.6,
            8.6,
            6.5,
            6.5
           ],
           "type": "scatter"
          },
          {
           "fill": "toself",
           "fillcolor": "rgb(127, 0, 0)",
           "hoverinfo": "name",
           "line": {
            "width": 0
           },
           "mode": "lines",
           "name": "Risk Area",
           "showlegend": false,
           "x": [
            4.9,
            4.9,
            3.6,
            3.6,
            1.5,
            1.5,
            0.0,
            0.0,
            1.5,
            1.5,
            3.6,
            3.6,
            4.9,
            4.9,
            5.0,
            5.0,
            4.9
           ],
           "y": [
            6.5,
            5.1,
            5.1,
            5.0,
            5.0,
            5.1,
            5.1,
            9.9,
            9.9,
            10.0,
            10.0,
            9.9,
            9.9,
            8.6,
            8.6,
            6.5,
            6.5
           ],
           "type": "scatter"
          },
          {
           "fill": "toself",
           "fillcolor": "rgb(127, 0, 0)",
           "hoverinfo": "name",
           "line": {
            "width": 0
           },
           "mode": "lines",
           "name": "Risk Area",
           "showlegend": false,
           "x": [
            1.5,
            0.0,
            0.0,
            4.9,
            4.9,
            5.0,
            5.0,
            4.9,
            4.9,
            3.6,
            3.6,
            1.5,
            1.5
           ],
           "y": [
            10.1,
            10.1,
            15.0,
            15.0,
            13.6,
            13.6,
            11.5,
            11.5,
            10.1,
            10.1,
            10.0,
            10.0,
            10.1
           ],
           "type": "scatter"
          },
          {
           "fill": "toself",
           "fillcolor": "rgb(25, 0, 0)",
           "hoverinfo": "name",
           "line": {
            "width": 0
           },
           "mode": "lines",
           "name": "Risk Area",
           "showlegend": false,
           "x": [
            6.4,
            5.1,
            5.1,
            5.0,
            5.0,
            5.1,
            5.1,
            9.9,
            9.9,
            10.0,
            10.0,
            9.9,
            9.9,
            8.6,
            8.6,
            6.4,
            6.4
           ],
           "y": [
            10.1,
            10.1,
            11.5,
            11.5,
            13.6,
            13.6,
            15.0,
            15.0,
            13.6,
            13.6,
            11.5,
            11.5,
            10.1,
            10.1,
            10.0,
            10.0,
            10.1
           ],
           "type": "scatter"
          },
          {
           "fill": "toself",
           "fillcolor": "rgb(76, 0, 0)",
           "hoverinfo": "name",
           "line": {
            "width": 0
           },
           "mode": "lines",
           "name": "Risk Area",
           "showlegend": false,
           "x": [
            10.1,
            10.1,
            15.0,
            15.0,
            13.6,
            13.6,
            11.5,
            11.5,
            10.1,
            10.1,
            10.0,
            10.0,
            10.1
           ],
           "y": [
            13.6,
            15.0,
            15.0,
            10.1,
            10.1,
            10.0,
            10.0,
            10.1,
            10.1,
            11.5,
            11.5,
            13.6,
            13.6
           ],
           "type": "scatter"
          },
          {
           "hoverinfo": "text",
           "marker": {
            "opacity": 1,
            "size": 1
           },
           "mode": "markers",
           "showlegend": false,
           "text": [
            "ID: 101.0, Pos(10.67,12.70)"
           ],
           "x": [
            10.670860082976267
           ],
           "y": [
            12.699958841364674
           ],
           "type": "scatter"
          },
          {
           "hoverinfo": "text",
           "marker": {
            "opacity": 1,
            "size": 1
           },
           "mode": "markers",
           "showlegend": false,
           "text": [
            "ID: 102.0, Pos(9.23,13.31)"
           ],
           "x": [
            9.231581974562634
           ],
           "y": [
            13.305091031474102
           ],
           "type": "scatter"
          },
          {
           "hoverinfo": "text",
           "marker": {
            "opacity": 1,
            "size": 1
           },
           "mode": "markers",
           "showlegend": false,
           "text": [
            "ID: 103.0, Pos(8.29,12.44)"
           ],
           "x": [
            8.29351995538612
           ],
           "y": [
            12.435477641850106
           ],
           "type": "scatter"
          },
          {
           "hoverinfo": "text",
           "marker": {
            "opacity": 1,
            "size": 1
           },
           "mode": "markers",
           "showlegend": false,
           "text": [
            "ID: 104.0, Pos(12.39,13.12)"
           ],
           "x": [
            12.386648887001027
           ],
           "y": [
            13.124516724102874
           ],
           "type": "scatter"
          },
          {
           "hoverinfo": "text",
           "marker": {
            "opacity": 1,
            "size": 1
           },
           "mode": "markers",
           "showlegend": false,
           "text": [
            "ID: 105.0, Pos(10.29,13.23)"
           ],
           "x": [
            10.285383874090819
           ],
           "y": [
            13.233492115517555
           ],
           "type": "scatter"
          },
          {
           "hoverinfo": "text",
           "marker": {
            "opacity": 1,
            "size": 1
           },
           "mode": "markers",
           "showlegend": false,
           "text": [
            "ID: 108.0, Pos(9.48,12.59)"
           ],
           "x": [
            9.476019456113363
           ],
           "y": [
            12.592304353288965
           ],
           "type": "scatter"
          },
          {
           "hoverinfo": "text",
           "marker": {
            "opacity": 1,
            "size": 1
           },
           "mode": "markers",
           "showlegend": false,
           "text": [
            "ID: 109.0, Pos(11.41,13.38)"
           ],
           "x": [
            11.413968108141306
           ],
           "y": [
            13.378674117566366
           ],
           "type": "scatter"
          },
          {
           "hoverinfo": "text",
           "marker": {
            "opacity": 1,
            "size": 1
           },
           "mode": "markers",
           "showlegend": false,
           "text": [
            "ID: 110.0, Pos(8.25,13.15)"
           ],
           "x": [
            8.253953202276598
           ],
           "y": [
            13.147521494153244
           ],
           "type": "scatter"
          },
          {
           "hoverinfo": "none",
           "marker": {
            "opacity": 0,
            "size": 1
           },
           "mode": "markers",
           "showlegend": false,
           "x": [
            0.0
           ],
           "y": [
            0.0
           ],
           "type": "scatter"
          },
          {
           "hoverinfo": "none",
           "marker": {
            "opacity": 0,
            "size": 1
           },
           "mode": "markers",
           "showlegend": false,
           "x": [
            0.0
           ],
           "y": [
            0.0
           ],
           "type": "scatter"
          }
         ],
         "layout": {
          "shapes": [
           {
            "fillcolor": "rgba(0, 0, 128, 0.5)",
            "line": {
             "color": "rgba(0, 0, 128, 0.5)"
            },
            "type": "circle",
            "x0": 10.470860082976268,
            "x1": 10.870860082976266,
            "xref": "x",
            "y0": 12.499958841364675,
            "y1": 12.899958841364674,
            "yref": "y"
           },
           {
            "fillcolor": "rgba(0, 56, 255, 0.5)",
            "line": {
             "color": "rgba(0, 56, 255, 0.5)"
            },
            "type": "circle",
            "x0": 9.031581974562634,
            "x1": 9.431581974562633,
            "xref": "x",
            "y0": 13.105091031474103,
            "y1": 13.505091031474102,
            "yref": "y"
           },
           {
            "fillcolor": "rgba(0, 0, 137, 0.5)",
            "line": {
             "color": "rgba(0, 0, 137, 0.5)"
            },
            "type": "circle",
            "x0": 8.093519955386121,
            "x1": 8.49351995538612,
            "xref": "x",
            "y0": 12.235477641850107,
            "y1": 12.635477641850105,
            "yref": "y"
           },
           {
            "fillcolor": "rgba(0, 0, 128, 0.5)",
            "line": {
             "color": "rgba(0, 0, 128, 0.5)"
            },
            "type": "circle",
            "x0": 12.186648887001027,
            "x1": 12.586648887001026,
            "xref": "x",
            "y0": 12.924516724102874,
            "y1": 13.324516724102873,
            "yref": "y"
           },
           {
            "fillcolor": "rgba(0, 0, 228, 0.5)",
            "line": {
             "color": "rgba(0, 0, 228, 0.5)"
            },
            "type": "circle",
            "x0": 10.08538387409082,
            "x1": 10.485383874090818,
            "xref": "x",
            "y0": 13.033492115517555,
            "y1": 13.433492115517554,
            "yref": "y"
           },
           {
            "fillcolor": "rgba(0, 0, 128, 0.5)",
            "line": {
             "color": "rgba(0, 0, 128, 0.5)"
            },
            "type": "circle",
            "x0": 9.276019456113364,
            "x1": 9.676019456113362,
            "xref": "x",
            "y0": 12.392304353288965,
            "y1": 12.792304353288964,
            "yref": "y"
           },
           {
            "fillcolor": "rgba(0, 0, 214, 0.5)",
            "line": {
             "color": "rgba(0, 0, 214, 0.5)"
            },
            "type": "circle",
            "x0": 11.213968108141307,
            "x1": 11.613968108141306,
            "xref": "x",
            "y0": 13.178674117566366,
            "y1": 13.578674117566365,
            "yref": "y"
           },
           {
            "fillcolor": "rgba(0, 140, 255, 0.5)",
            "line": {
             "color": "rgba(0, 140, 255, 0.5)"
            },
            "type": "circle",
            "x0": 8.053953202276599,
            "x1": 8.453953202276598,
            "xref": "x",
            "y0": 12.947521494153245,
            "y1": 13.347521494153243,
            "yref": "y"
           },
           {
            "fillcolor": "rgba(255,255,255,0)",
            "line": {
             "width": 0
            },
            "type": "circle",
            "x0": 0.0,
            "x1": 0.0,
            "xref": "x",
            "y0": 0.0,
            "y1": 0.0,
            "yref": "y"
           },
           {
            "fillcolor": "rgba(255,255,255,0)",
            "line": {
             "width": 0
            },
            "type": "circle",
            "x0": 0.0,
            "x1": 0.0,
            "xref": "x",
            "y0": 0.0,
            "y1": 0.0,
            "yref": "y"
           },
           {
            "line": {
             "color": "white",
             "width": 3
            },
            "type": "line",
            "x0": 10.670860082976267,
            "x1": 10.868663732382375,
            "y0": 12.699958841364674,
            "y1": 12.729517533514795
           },
           {
            "line": {
             "color": "white",
             "width": 3
            },
            "type": "line",
            "x0": 9.231581974562634,
            "x1": 9.42855259903566,
            "y0": 13.305091031474102,
            "y1": 13.33976916716081
           },
           {
            "line": {
             "color": "white",
             "width": 3
            },
            "type": "line",
            "x0": 8.29351995538612,
            "x1": 8.49203299365724,
            "y0": 12.435477641850106,
            "y1": 12.45982047727183
           },
           {
            "line": {
             "color": "white",
             "width": 3
            },
            "type": "line",
            "x0": 12.386648887001027,
            "x1": 12.56874956710952,
            "y0": 13.124516724102874,
            "y1": 13.207217040329741
           },
           {
            "line": {
             "color": "white",
             "width": 3
            },
            "type": "line",
            "x0": 10.285383874090819,
            "x1": 10.48239399678375,
            "y0": 13.233492115517555,
            "y1": 13.267945149585914
           },
           {
            "line": {
             "color": "white",
             "width": 3
            },
            "type": "line",
            "x0": 9.476019456113363,
            "x1": 9.672534724419531,
            "y0": 12.592304353288965,
            "y1": 12.629476242164223
           },
           {
            "line": {
             "color": "white",
             "width": 3
            },
            "type": "line",
            "x0": 11.413968108141306,
            "x1": 11.611305240600151,
            "y0": 13.378674117566366,
            "y1": 13.411201892665817
           },
           {
            "line": {
             "color": "white",
             "width": 3
            },
            "type": "line",
            "x0": 8.253953202276598,
            "x1": 8.44902312253154,
            "y0": 13.147521494153244,
            "y1": 13.191654545392991
           },
           {
            "line": {
             "color": "rgba(255,255,255,0)",
             "width": 3
            },
            "type": "line",
            "x0": 0.0,
            "x1": null,
            "y0": 0.0,
            "y1": null
           },
           {
            "line": {
             "color": "rgba(255,255,255,0)",
             "width": 3
            },
            "type": "line",
            "x0": 0.0,
            "x1": null,
            "y0": 0.0,
            "y1": null
           }
          ],
          "title": {
           "text": "<b>Percentage using the shortest path: 0%  |  Number of Agents: 8</b>",
           "x": 0.5
          }
         },
         "name": "700"
        },
        {
         "data": [
          {
           "hoverinfo": "name",
           "line": {
            "color": "white"
           },
           "mode": "lines",
           "name": "Exterior",
           "showlegend": false,
           "x": [
            10.1,
            10.1,
            15.0,
            15.0,
            13.6,
            13.6,
            15.0,
            15.0,
            13.6,
            13.6,
            15.0,
            15.0,
            10.1,
            10.1,
            9.9,
            9.9,
            5.1,
            5.1,
            4.9,
            4.9,
            0.0,
            0.0,
            1.5,
            1.5,
            0.0,
            0.0,
            1.5,
            1.5,
            0.0,
            0.0,
            4.9,
            4.9,
            5.1,
            5.1,
            9.9,
            9.9,
            10.1
           ],
           "y": [
            1.5,
            0.0,
            0.0,
            4.9,
            4.9,
            5.1,
            5.1,
            9.9,
            9.9,
            10.1,
            10.1,
            15.0,
            15.0,
            13.6,
            13.6,
            15.0,
            15.0,
            13.6,
            13.6,
            15.0,
            15.0,
            10.1,
            10.1,
            9.9,
            9.9,
            5.1,
            5.1,
            4.9,
            4.9,
            0.0,
            0.0,
            1.5,
            1.5,
            0.0,
            0.0,
            1.5,
            1.5
           ],
           "type": "scatter"
          },
          {
           "hoverinfo": "name",
           "line": {
            "color": "white"
           },
           "mode": "lines",
           "name": "Obstacle",
           "showlegend": false,
           "x": [
            10.1,
            11.5,
            11.5,
            10.1,
            10.1,
            9.9,
            9.9,
            8.6,
            8.6,
            9.9,
            9.9,
            10.1,
            10.1
           ],
           "y": [
            5.1,
            5.1,
            4.9,
            4.9,
            3.6,
            3.6,
            4.9,
            4.9,
            5.1,
            5.1,
            6.5,
            6.5,
            5.1
           ],
           "type": "scatter"
          },
          {
           "hoverinfo": "name",
           "line": {
            "color": "white"
           },
           "mode": "lines",
           "name": "Obstacle",
           "showlegend": false,
           "x": [
            10.1,
            11.5,
            11.5,
            10.1,
            10.1,
            9.9,
            9.9,
            8.6,
            8.6,
            9.9,
            9.9,
            10.1,
            10.1
           ],
           "y": [
            10.1,
            10.1,
            9.9,
            9.9,
            8.6,
            8.6,
            9.9,
            9.9,
            10.1,
            10.1,
            11.5,
            11.5,
            10.1
           ],
           "type": "scatter"
          },
          {
           "hoverinfo": "name",
           "line": {
            "color": "white"
           },
           "mode": "lines",
           "name": "Obstacle",
           "showlegend": false,
           "x": [
            5.1,
            6.4,
            6.4,
            5.1,
            5.1,
            4.9,
            4.9,
            3.6,
            3.6,
            4.9,
            4.9,
            5.1,
            5.1
           ],
           "y": [
            5.1,
            5.1,
            4.9,
            4.9,
            3.6,
            3.6,
            4.9,
            4.9,
            5.1,
            5.1,
            6.5,
            6.5,
            5.1
           ],
           "type": "scatter"
          },
          {
           "hoverinfo": "name",
           "line": {
            "color": "white"
           },
           "mode": "lines",
           "name": "Obstacle",
           "showlegend": false,
           "x": [
            5.1,
            6.4,
            6.4,
            5.1,
            5.1,
            4.9,
            4.9,
            3.6,
            3.6,
            4.9,
            4.9,
            5.1,
            5.1
           ],
           "y": [
            10.1,
            10.1,
            9.9,
            9.9,
            8.6,
            8.6,
            9.9,
            9.9,
            10.1,
            10.1,
            11.5,
            11.5,
            10.1
           ],
           "type": "scatter"
          },
          {
           "fill": "toself",
           "fillcolor": "rgb(25, 0, 0)",
           "hoverinfo": "name",
           "line": {
            "width": 0
           },
           "mode": "lines",
           "name": "Risk Area",
           "showlegend": false,
           "x": [
            1.5,
            1.5,
            3.6,
            3.6,
            4.9,
            4.9,
            5.0,
            5.0,
            4.9,
            4.9,
            0.0,
            0.0,
            1.5
           ],
           "y": [
            4.9,
            5.0,
            5.0,
            4.9,
            4.9,
            3.6,
            3.6,
            1.5,
            1.5,
            0.0,
            0.0,
            4.9,
            4.9
           ],
           "type": "scatter"
          },
          {
           "fill": "toself",
           "fillcolor": "rgb(255, 0, 0)",
           "hoverinfo": "name",
           "line": {
            "width": 0
           },
           "mode": "lines",
           "name": "Risk Area",
           "showlegend": false,
           "x": [
            9.9,
            9.9,
            5.1,
            5.1,
            5.0,
            5.0,
            5.1,
            5.1,
            6.4,
            6.4,
            8.6,
            8.6,
            9.9,
            9.9,
            10.0,
            10.0,
            9.9
           ],
           "y": [
            1.5,
            0.0,
            0.0,
            1.5,
            1.5,
            3.6,
            3.6,
            4.9,
            4.9,
            5.0,
            5.0,
            4.9,
            4.9,
            3.6,
            3.6,
            1.5,
            1.5
           ],
           "type": "scatter"
          },
          {
           "fill": "toself",
           "fillcolor": "rgb(0, 0, 0)",
           "hoverinfo": "name",
           "line": {
            "width": 0
           },
           "mode": "lines",
           "name": "Risk Area",
           "showlegend": false,
           "x": [
            13.6,
            15.0,
            15.0,
            10.1,
            10.1,
            10.0,
            10.0,
            10.1,
            10.1,
            11.5,
            11.5,
            13.6,
            13.6
           ],
           "y": [
            4.9,
            4.9,
            0.0,
            0.0,
            1.5,
            1.5,
            3.6,
            3.6,
            4.9,
            4.9,
            5.0,
            5.0,
            4.9
           ],
           "type": "scatter"
          },
          {
           "fill": "toself",
           "fillcolor": "rgb(178, 0, 0)",
           "hoverinfo": "name",
           "line": {
            "width": 0
           },
           "mode": "lines",
           "name": "Risk Area",
           "showlegend": false,
           "x": [
            13.6,
            15.0,
            15.0,
            13.6,
            13.6,
            11.5,
            11.5,
            10.1,
            10.1,
            10.0,
            10.0,
            10.1,
            10.1,
            11.5,
            11.5,
            13.6,
            13.6
           ],
           "y": [
            9.9,
            9.9,
            5.1,
            5.1,
            5.0,
            5.0,
            5.1,
            5.1,
            6.5,
            6.5,
            8.6,
            8.6,
            9.9,
            9.9,
            10.0,
            10.0,
            9.9
           ],
           "type": "scatter"
          },
          {
           "fill": "toself",
           "fillcolor": "rgb(178, 0, 0)",
           "hoverinfo": "name",
           "line": {
            "width": 0
           },
           "mode": "lines",
           "name": "Risk Area",
           "showlegend": false,
           "x": [
            9.9,
            9.9,
            8.6,
            8.6,
            6.4,
            6.4,
            5.1,
            5.1,
            5.0,
            5.0,
            5.1,
            5.1,
            6.4,
            6.4,
            8.6,
            8.6,
            9.9,
            9.9,
            10.0,
            10.0,
            9.9
           ],
           "y": [
            6.5,
            5.1,
            5.1,
            5.0,
            5.0,
            5.1,
            5.1,
            6.5,
            6.5,
            8.6,
            8.6,
            9.9,
            9.9,
            10.0,
            10.0,
            9.9,
            9.9,
            8.6,
            8.6,
            6.5,
            6.5
           ],
           "type": "scatter"
          },
          {
           "fill": "toself",
           "fillcolor": "rgb(127, 0, 0)",
           "hoverinfo": "name",
           "line": {
            "width": 0
           },
           "mode": "lines",
           "name": "Risk Area",
           "showlegend": false,
           "x": [
            4.9,
            4.9,
            3.6,
            3.6,
            1.5,
            1.5,
            0.0,
            0.0,
            1.5,
            1.5,
            3.6,
            3.6,
            4.9,
            4.9,
            5.0,
            5.0,
            4.9
           ],
           "y": [
            6.5,
            5.1,
            5.1,
            5.0,
            5.0,
            5.1,
            5.1,
            9.9,
            9.9,
            10.0,
            10.0,
            9.9,
            9.9,
            8.6,
            8.6,
            6.5,
            6.5
           ],
           "type": "scatter"
          },
          {
           "fill": "toself",
           "fillcolor": "rgb(127, 0, 0)",
           "hoverinfo": "name",
           "line": {
            "width": 0
           },
           "mode": "lines",
           "name": "Risk Area",
           "showlegend": false,
           "x": [
            1.5,
            0.0,
            0.0,
            4.9,
            4.9,
            5.0,
            5.0,
            4.9,
            4.9,
            3.6,
            3.6,
            1.5,
            1.5
           ],
           "y": [
            10.1,
            10.1,
            15.0,
            15.0,
            13.6,
            13.6,
            11.5,
            11.5,
            10.1,
            10.1,
            10.0,
            10.0,
            10.1
           ],
           "type": "scatter"
          },
          {
           "fill": "toself",
           "fillcolor": "rgb(25, 0, 0)",
           "hoverinfo": "name",
           "line": {
            "width": 0
           },
           "mode": "lines",
           "name": "Risk Area",
           "showlegend": false,
           "x": [
            6.4,
            5.1,
            5.1,
            5.0,
            5.0,
            5.1,
            5.1,
            9.9,
            9.9,
            10.0,
            10.0,
            9.9,
            9.9,
            8.6,
            8.6,
            6.4,
            6.4
           ],
           "y": [
            10.1,
            10.1,
            11.5,
            11.5,
            13.6,
            13.6,
            15.0,
            15.0,
            13.6,
            13.6,
            11.5,
            11.5,
            10.1,
            10.1,
            10.0,
            10.0,
            10.1
           ],
           "type": "scatter"
          },
          {
           "fill": "toself",
           "fillcolor": "rgb(76, 0, 0)",
           "hoverinfo": "name",
           "line": {
            "width": 0
           },
           "mode": "lines",
           "name": "Risk Area",
           "showlegend": false,
           "x": [
            10.1,
            10.1,
            15.0,
            15.0,
            13.6,
            13.6,
            11.5,
            11.5,
            10.1,
            10.1,
            10.0,
            10.0,
            10.1
           ],
           "y": [
            13.6,
            15.0,
            15.0,
            10.1,
            10.1,
            10.0,
            10.0,
            10.1,
            10.1,
            11.5,
            11.5,
            13.6,
            13.6
           ],
           "type": "scatter"
          },
          {
           "hoverinfo": "text",
           "marker": {
            "opacity": 1,
            "size": 1
           },
           "mode": "markers",
           "showlegend": false,
           "text": [
            "ID: 101.0, Pos(12.21,13.07)"
           ],
           "x": [
            12.211508875033608
           ],
           "y": [
            13.07061722582184
           ],
           "type": "scatter"
          },
          {
           "hoverinfo": "text",
           "marker": {
            "opacity": 1,
            "size": 1
           },
           "mode": "markers",
           "showlegend": false,
           "text": [
            "ID: 102.0, Pos(10.17,13.22)"
           ],
           "x": [
            10.170283106403453
           ],
           "y": [
            13.219424355807776
           ],
           "type": "scatter"
          },
          {
           "hoverinfo": "text",
           "marker": {
            "opacity": 1,
            "size": 1
           },
           "mode": "markers",
           "showlegend": false,
           "text": [
            "ID: 103.0, Pos(9.87,12.66)"
           ],
           "x": [
            9.866025012603176
           ],
           "y": [
            12.664224708442946
           ],
           "type": "scatter"
          },
          {
           "hoverinfo": "text",
           "marker": {
            "opacity": 1,
            "size": 1
           },
           "mode": "markers",
           "showlegend": false,
           "text": [
            "ID: 105.0, Pos(11.78,13.60)"
           ],
           "x": [
            11.781731884821053
           ],
           "y": [
            13.597181537706106
           ],
           "type": "scatter"
          },
          {
           "hoverinfo": "text",
           "marker": {
            "opacity": 1,
            "size": 1
           },
           "mode": "markers",
           "showlegend": false,
           "text": [
            "ID: 108.0, Pos(11.03,12.94)"
           ],
           "x": [
            11.02822114840947
           ],
           "y": [
            12.935662475251238
           ],
           "type": "scatter"
          },
          {
           "hoverinfo": "text",
           "marker": {
            "opacity": 1,
            "size": 1
           },
           "mode": "markers",
           "showlegend": false,
           "text": [
            "ID: 110.0, Pos(9.31,13.34)"
           ],
           "x": [
            9.31269705434063
           ],
           "y": [
            13.335567596174574
           ],
           "type": "scatter"
          },
          {
           "hoverinfo": "none",
           "marker": {
            "opacity": 0,
            "size": 1
           },
           "mode": "markers",
           "showlegend": false,
           "x": [
            0.0
           ],
           "y": [
            0.0
           ],
           "type": "scatter"
          },
          {
           "hoverinfo": "none",
           "marker": {
            "opacity": 0,
            "size": 1
           },
           "mode": "markers",
           "showlegend": false,
           "x": [
            0.0
           ],
           "y": [
            0.0
           ],
           "type": "scatter"
          },
          {
           "hoverinfo": "none",
           "marker": {
            "opacity": 0,
            "size": 1
           },
           "mode": "markers",
           "showlegend": false,
           "x": [
            0.0
           ],
           "y": [
            0.0
           ],
           "type": "scatter"
          },
          {
           "hoverinfo": "none",
           "marker": {
            "opacity": 0,
            "size": 1
           },
           "mode": "markers",
           "showlegend": false,
           "x": [
            0.0
           ],
           "y": [
            0.0
           ],
           "type": "scatter"
          }
         ],
         "layout": {
          "shapes": [
           {
            "fillcolor": "rgba(0, 0, 128, 0.5)",
            "line": {
             "color": "rgba(0, 0, 128, 0.5)"
            },
            "type": "circle",
            "x0": 12.01150887503361,
            "x1": 12.411508875033608,
            "xref": "x",
            "y0": 12.87061722582184,
            "y1": 13.27061722582184,
            "yref": "y"
           },
           {
            "fillcolor": "rgba(0, 168, 255, 0.5)",
            "line": {
             "color": "rgba(0, 168, 255, 0.5)"
            },
            "type": "circle",
            "x0": 9.970283106403453,
            "x1": 10.370283106403452,
            "xref": "x",
            "y0": 13.019424355807777,
            "y1": 13.419424355807775,
            "yref": "y"
           },
           {
            "fillcolor": "rgba(0, 0, 137, 0.5)",
            "line": {
             "color": "rgba(0, 0, 137, 0.5)"
            },
            "type": "circle",
            "x0": 9.666025012603177,
            "x1": 10.066025012603175,
            "xref": "x",
            "y0": 12.464224708442947,
            "y1": 12.864224708442945,
            "yref": "y"
           },
           {
            "fillcolor": "rgba(0, 0, 128, 0.5)",
            "line": {
             "color": "rgba(0, 0, 128, 0.5)"
            },
            "type": "circle",
            "x0": 11.581731884821053,
            "x1": 11.981731884821052,
            "xref": "x",
            "y0": 13.397181537706107,
            "y1": 13.797181537706106,
            "yref": "y"
           },
           {
            "fillcolor": "rgba(0, 0, 137, 0.5)",
            "line": {
             "color": "rgba(0, 0, 137, 0.5)"
            },
            "type": "circle",
            "x0": 10.82822114840947,
            "x1": 11.22822114840947,
            "xref": "x",
            "y0": 12.735662475251239,
            "y1": 13.135662475251237,
            "yref": "y"
           },
           {
            "fillcolor": "rgba(54, 255, 193, 0.5)",
            "line": {
             "color": "rgba(54, 255, 193, 0.5)"
            },
            "type": "circle",
            "x0": 9.11269705434063,
            "x1": 9.512697054340629,
            "xref": "x",
            "y0": 13.135567596174575,
            "y1": 13.535567596174573,
            "yref": "y"
           },
           {
            "fillcolor": "rgba(255,255,255,0)",
            "line": {
             "width": 0
            },
            "type": "circle",
            "x0": 0.0,
            "x1": 0.0,
            "xref": "x",
            "y0": 0.0,
            "y1": 0.0,
            "yref": "y"
           },
           {
            "fillcolor": "rgba(255,255,255,0)",
            "line": {
             "width": 0
            },
            "type": "circle",
            "x0": 0.0,
            "x1": 0.0,
            "xref": "x",
            "y0": 0.0,
            "y1": 0.0,
            "yref": "y"
           },
           {
            "fillcolor": "rgba(255,255,255,0)",
            "line": {
             "width": 0
            },
            "type": "circle",
            "x0": 0.0,
            "x1": 0.0,
            "xref": "x",
            "y0": 0.0,
            "y1": 0.0,
            "yref": "y"
           },
           {
            "fillcolor": "rgba(255,255,255,0)",
            "line": {
             "width": 0
            },
            "type": "circle",
            "x0": 0.0,
            "x1": 0.0,
            "xref": "x",
            "y0": 0.0,
            "y1": 0.0,
            "yref": "y"
           },
           {
            "line": {
             "color": "white",
             "width": 3
            },
            "type": "line",
            "x0": 12.211508875033608,
            "x1": 12.404273063846867,
            "y0": 13.07061722582184,
            "y1": 13.123927332848242
           },
           {
            "line": {
             "color": "black",
             "width": 3
            },
            "type": "line",
            "x0": 10.170283106403453,
            "x1": 10.369406680147092,
            "y0": 13.219424355807776,
            "y1": 13.238127360367514
           },
           {
            "line": {
             "color": "white",
             "width": 3
            },
            "type": "line",
            "x0": 9.866025012603176,
            "x1": 10.065889738980895,
            "y0": 12.664224708442946,
            "y1": 12.671579377025518
           },
           {
            "line": {
             "color": "white",
             "width": 3
            },
            "type": "line",
            "x0": 11.781731884821053,
            "x1": 11.976774240082559,
            "y0": 13.597181537706106,
            "y1": 13.641436251060103
           },
           {
            "line": {
             "color": "white",
             "width": 3
            },
            "type": "line",
            "x0": 11.02822114840947,
            "x1": 11.220521793858905,
            "y0": 12.935662475251238,
            "y1": 12.9906212030361
           },
           {
            "line": {
             "color": "black",
             "width": 3
            },
            "type": "line",
            "x0": 9.31269705434063,
            "x1": 9.511539757884533,
            "y0": 13.335567596174574,
            "y1": 13.357051991612918
           },
           {
            "line": {
             "color": "rgba(255,255,255,0)",
             "width": 3
            },
            "type": "line",
            "x0": 0.0,
            "x1": null,
            "y0": 0.0,
            "y1": null
           },
           {
            "line": {
             "color": "rgba(255,255,255,0)",
             "width": 3
            },
            "type": "line",
            "x0": 0.0,
            "x1": null,
            "y0": 0.0,
            "y1": null
           },
           {
            "line": {
             "color": "rgba(255,255,255,0)",
             "width": 3
            },
            "type": "line",
            "x0": 0.0,
            "x1": null,
            "y0": 0.0,
            "y1": null
           },
           {
            "line": {
             "color": "rgba(255,255,255,0)",
             "width": 3
            },
            "type": "line",
            "x0": 0.0,
            "x1": null,
            "y0": 0.0,
            "y1": null
           }
          ],
          "title": {
           "text": "<b>Percentage using the shortest path: 0%  |  Number of Agents: 6</b>",
           "x": 0.5
          }
         },
         "name": "750"
        },
        {
         "data": [
          {
           "hoverinfo": "name",
           "line": {
            "color": "white"
           },
           "mode": "lines",
           "name": "Exterior",
           "showlegend": false,
           "x": [
            10.1,
            10.1,
            15.0,
            15.0,
            13.6,
            13.6,
            15.0,
            15.0,
            13.6,
            13.6,
            15.0,
            15.0,
            10.1,
            10.1,
            9.9,
            9.9,
            5.1,
            5.1,
            4.9,
            4.9,
            0.0,
            0.0,
            1.5,
            1.5,
            0.0,
            0.0,
            1.5,
            1.5,
            0.0,
            0.0,
            4.9,
            4.9,
            5.1,
            5.1,
            9.9,
            9.9,
            10.1
           ],
           "y": [
            1.5,
            0.0,
            0.0,
            4.9,
            4.9,
            5.1,
            5.1,
            9.9,
            9.9,
            10.1,
            10.1,
            15.0,
            15.0,
            13.6,
            13.6,
            15.0,
            15.0,
            13.6,
            13.6,
            15.0,
            15.0,
            10.1,
            10.1,
            9.9,
            9.9,
            5.1,
            5.1,
            4.9,
            4.9,
            0.0,
            0.0,
            1.5,
            1.5,
            0.0,
            0.0,
            1.5,
            1.5
           ],
           "type": "scatter"
          },
          {
           "hoverinfo": "name",
           "line": {
            "color": "white"
           },
           "mode": "lines",
           "name": "Obstacle",
           "showlegend": false,
           "x": [
            10.1,
            11.5,
            11.5,
            10.1,
            10.1,
            9.9,
            9.9,
            8.6,
            8.6,
            9.9,
            9.9,
            10.1,
            10.1
           ],
           "y": [
            5.1,
            5.1,
            4.9,
            4.9,
            3.6,
            3.6,
            4.9,
            4.9,
            5.1,
            5.1,
            6.5,
            6.5,
            5.1
           ],
           "type": "scatter"
          },
          {
           "hoverinfo": "name",
           "line": {
            "color": "white"
           },
           "mode": "lines",
           "name": "Obstacle",
           "showlegend": false,
           "x": [
            10.1,
            11.5,
            11.5,
            10.1,
            10.1,
            9.9,
            9.9,
            8.6,
            8.6,
            9.9,
            9.9,
            10.1,
            10.1
           ],
           "y": [
            10.1,
            10.1,
            9.9,
            9.9,
            8.6,
            8.6,
            9.9,
            9.9,
            10.1,
            10.1,
            11.5,
            11.5,
            10.1
           ],
           "type": "scatter"
          },
          {
           "hoverinfo": "name",
           "line": {
            "color": "white"
           },
           "mode": "lines",
           "name": "Obstacle",
           "showlegend": false,
           "x": [
            5.1,
            6.4,
            6.4,
            5.1,
            5.1,
            4.9,
            4.9,
            3.6,
            3.6,
            4.9,
            4.9,
            5.1,
            5.1
           ],
           "y": [
            5.1,
            5.1,
            4.9,
            4.9,
            3.6,
            3.6,
            4.9,
            4.9,
            5.1,
            5.1,
            6.5,
            6.5,
            5.1
           ],
           "type": "scatter"
          },
          {
           "hoverinfo": "name",
           "line": {
            "color": "white"
           },
           "mode": "lines",
           "name": "Obstacle",
           "showlegend": false,
           "x": [
            5.1,
            6.4,
            6.4,
            5.1,
            5.1,
            4.9,
            4.9,
            3.6,
            3.6,
            4.9,
            4.9,
            5.1,
            5.1
           ],
           "y": [
            10.1,
            10.1,
            9.9,
            9.9,
            8.6,
            8.6,
            9.9,
            9.9,
            10.1,
            10.1,
            11.5,
            11.5,
            10.1
           ],
           "type": "scatter"
          },
          {
           "fill": "toself",
           "fillcolor": "rgb(25, 0, 0)",
           "hoverinfo": "name",
           "line": {
            "width": 0
           },
           "mode": "lines",
           "name": "Risk Area",
           "showlegend": false,
           "x": [
            1.5,
            1.5,
            3.6,
            3.6,
            4.9,
            4.9,
            5.0,
            5.0,
            4.9,
            4.9,
            0.0,
            0.0,
            1.5
           ],
           "y": [
            4.9,
            5.0,
            5.0,
            4.9,
            4.9,
            3.6,
            3.6,
            1.5,
            1.5,
            0.0,
            0.0,
            4.9,
            4.9
           ],
           "type": "scatter"
          },
          {
           "fill": "toself",
           "fillcolor": "rgb(255, 0, 0)",
           "hoverinfo": "name",
           "line": {
            "width": 0
           },
           "mode": "lines",
           "name": "Risk Area",
           "showlegend": false,
           "x": [
            9.9,
            9.9,
            5.1,
            5.1,
            5.0,
            5.0,
            5.1,
            5.1,
            6.4,
            6.4,
            8.6,
            8.6,
            9.9,
            9.9,
            10.0,
            10.0,
            9.9
           ],
           "y": [
            1.5,
            0.0,
            0.0,
            1.5,
            1.5,
            3.6,
            3.6,
            4.9,
            4.9,
            5.0,
            5.0,
            4.9,
            4.9,
            3.6,
            3.6,
            1.5,
            1.5
           ],
           "type": "scatter"
          },
          {
           "fill": "toself",
           "fillcolor": "rgb(0, 0, 0)",
           "hoverinfo": "name",
           "line": {
            "width": 0
           },
           "mode": "lines",
           "name": "Risk Area",
           "showlegend": false,
           "x": [
            13.6,
            15.0,
            15.0,
            10.1,
            10.1,
            10.0,
            10.0,
            10.1,
            10.1,
            11.5,
            11.5,
            13.6,
            13.6
           ],
           "y": [
            4.9,
            4.9,
            0.0,
            0.0,
            1.5,
            1.5,
            3.6,
            3.6,
            4.9,
            4.9,
            5.0,
            5.0,
            4.9
           ],
           "type": "scatter"
          },
          {
           "fill": "toself",
           "fillcolor": "rgb(178, 0, 0)",
           "hoverinfo": "name",
           "line": {
            "width": 0
           },
           "mode": "lines",
           "name": "Risk Area",
           "showlegend": false,
           "x": [
            13.6,
            15.0,
            15.0,
            13.6,
            13.6,
            11.5,
            11.5,
            10.1,
            10.1,
            10.0,
            10.0,
            10.1,
            10.1,
            11.5,
            11.5,
            13.6,
            13.6
           ],
           "y": [
            9.9,
            9.9,
            5.1,
            5.1,
            5.0,
            5.0,
            5.1,
            5.1,
            6.5,
            6.5,
            8.6,
            8.6,
            9.9,
            9.9,
            10.0,
            10.0,
            9.9
           ],
           "type": "scatter"
          },
          {
           "fill": "toself",
           "fillcolor": "rgb(178, 0, 0)",
           "hoverinfo": "name",
           "line": {
            "width": 0
           },
           "mode": "lines",
           "name": "Risk Area",
           "showlegend": false,
           "x": [
            9.9,
            9.9,
            8.6,
            8.6,
            6.4,
            6.4,
            5.1,
            5.1,
            5.0,
            5.0,
            5.1,
            5.1,
            6.4,
            6.4,
            8.6,
            8.6,
            9.9,
            9.9,
            10.0,
            10.0,
            9.9
           ],
           "y": [
            6.5,
            5.1,
            5.1,
            5.0,
            5.0,
            5.1,
            5.1,
            6.5,
            6.5,
            8.6,
            8.6,
            9.9,
            9.9,
            10.0,
            10.0,
            9.9,
            9.9,
            8.6,
            8.6,
            6.5,
            6.5
           ],
           "type": "scatter"
          },
          {
           "fill": "toself",
           "fillcolor": "rgb(127, 0, 0)",
           "hoverinfo": "name",
           "line": {
            "width": 0
           },
           "mode": "lines",
           "name": "Risk Area",
           "showlegend": false,
           "x": [
            4.9,
            4.9,
            3.6,
            3.6,
            1.5,
            1.5,
            0.0,
            0.0,
            1.5,
            1.5,
            3.6,
            3.6,
            4.9,
            4.9,
            5.0,
            5.0,
            4.9
           ],
           "y": [
            6.5,
            5.1,
            5.1,
            5.0,
            5.0,
            5.1,
            5.1,
            9.9,
            9.9,
            10.0,
            10.0,
            9.9,
            9.9,
            8.6,
            8.6,
            6.5,
            6.5
           ],
           "type": "scatter"
          },
          {
           "fill": "toself",
           "fillcolor": "rgb(127, 0, 0)",
           "hoverinfo": "name",
           "line": {
            "width": 0
           },
           "mode": "lines",
           "name": "Risk Area",
           "showlegend": false,
           "x": [
            1.5,
            0.0,
            0.0,
            4.9,
            4.9,
            5.0,
            5.0,
            4.9,
            4.9,
            3.6,
            3.6,
            1.5,
            1.5
           ],
           "y": [
            10.1,
            10.1,
            15.0,
            15.0,
            13.6,
            13.6,
            11.5,
            11.5,
            10.1,
            10.1,
            10.0,
            10.0,
            10.1
           ],
           "type": "scatter"
          },
          {
           "fill": "toself",
           "fillcolor": "rgb(25, 0, 0)",
           "hoverinfo": "name",
           "line": {
            "width": 0
           },
           "mode": "lines",
           "name": "Risk Area",
           "showlegend": false,
           "x": [
            6.4,
            5.1,
            5.1,
            5.0,
            5.0,
            5.1,
            5.1,
            9.9,
            9.9,
            10.0,
            10.0,
            9.9,
            9.9,
            8.6,
            8.6,
            6.4,
            6.4
           ],
           "y": [
            10.1,
            10.1,
            11.5,
            11.5,
            13.6,
            13.6,
            15.0,
            15.0,
            13.6,
            13.6,
            11.5,
            11.5,
            10.1,
            10.1,
            10.0,
            10.0,
            10.1
           ],
           "type": "scatter"
          },
          {
           "fill": "toself",
           "fillcolor": "rgb(76, 0, 0)",
           "hoverinfo": "name",
           "line": {
            "width": 0
           },
           "mode": "lines",
           "name": "Risk Area",
           "showlegend": false,
           "x": [
            10.1,
            10.1,
            15.0,
            15.0,
            13.6,
            13.6,
            11.5,
            11.5,
            10.1,
            10.1,
            10.0,
            10.0,
            10.1
           ],
           "y": [
            13.6,
            15.0,
            15.0,
            10.1,
            10.1,
            10.0,
            10.0,
            10.1,
            10.1,
            11.5,
            11.5,
            13.6,
            13.6
           ],
           "type": "scatter"
          },
          {
           "hoverinfo": "text",
           "marker": {
            "opacity": 1,
            "size": 1
           },
           "mode": "markers",
           "showlegend": false,
           "text": [
            "ID: 102.0, Pos(11.61,13.56)"
           ],
           "x": [
            11.612068294219018
           ],
           "y": [
            13.556524597560136
           ],
           "type": "scatter"
          },
          {
           "hoverinfo": "text",
           "marker": {
            "opacity": 1,
            "size": 1
           },
           "mode": "markers",
           "showlegend": false,
           "text": [
            "ID: 103.0, Pos(11.38,12.92)"
           ],
           "x": [
            11.37878408553347
           ],
           "y": [
            12.920199892394992
           ],
           "type": "scatter"
          },
          {
           "hoverinfo": "text",
           "marker": {
            "opacity": 1,
            "size": 1
           },
           "mode": "markers",
           "showlegend": false,
           "text": [
            "ID: 108.0, Pos(12.48,13.35)"
           ],
           "x": [
            12.477527580131888
           ],
           "y": [
            13.352618684352516
           ],
           "type": "scatter"
          },
          {
           "hoverinfo": "text",
           "marker": {
            "opacity": 1,
            "size": 1
           },
           "mode": "markers",
           "showlegend": false,
           "text": [
            "ID: 110.0, Pos(10.42,13.22)"
           ],
           "x": [
            10.415575374282097
           ],
           "y": [
            13.215641147574358
           ],
           "type": "scatter"
          },
          {
           "hoverinfo": "none",
           "marker": {
            "opacity": 0,
            "size": 1
           },
           "mode": "markers",
           "showlegend": false,
           "x": [
            0.0
           ],
           "y": [
            0.0
           ],
           "type": "scatter"
          },
          {
           "hoverinfo": "none",
           "marker": {
            "opacity": 0,
            "size": 1
           },
           "mode": "markers",
           "showlegend": false,
           "x": [
            0.0
           ],
           "y": [
            0.0
           ],
           "type": "scatter"
          },
          {
           "hoverinfo": "none",
           "marker": {
            "opacity": 0,
            "size": 1
           },
           "mode": "markers",
           "showlegend": false,
           "x": [
            0.0
           ],
           "y": [
            0.0
           ],
           "type": "scatter"
          },
          {
           "hoverinfo": "none",
           "marker": {
            "opacity": 0,
            "size": 1
           },
           "mode": "markers",
           "showlegend": false,
           "x": [
            0.0
           ],
           "y": [
            0.0
           ],
           "type": "scatter"
          },
          {
           "hoverinfo": "none",
           "marker": {
            "opacity": 0,
            "size": 1
           },
           "mode": "markers",
           "showlegend": false,
           "x": [
            0.0
           ],
           "y": [
            0.0
           ],
           "type": "scatter"
          },
          {
           "hoverinfo": "none",
           "marker": {
            "opacity": 0,
            "size": 1
           },
           "mode": "markers",
           "showlegend": false,
           "x": [
            0.0
           ],
           "y": [
            0.0
           ],
           "type": "scatter"
          }
         ],
         "layout": {
          "shapes": [
           {
            "fillcolor": "rgba(0, 29, 255, 0.5)",
            "line": {
             "color": "rgba(0, 29, 255, 0.5)"
            },
            "type": "circle",
            "x0": 11.412068294219019,
            "x1": 11.812068294219017,
            "xref": "x",
            "y0": 13.356524597560137,
            "y1": 13.756524597560135,
            "yref": "y"
           },
           {
            "fillcolor": "rgba(0, 0, 146, 0.5)",
            "line": {
             "color": "rgba(0, 0, 146, 0.5)"
            },
            "type": "circle",
            "x0": 11.17878408553347,
            "x1": 11.578784085533469,
            "xref": "x",
            "y0": 12.720199892394993,
            "y1": 13.120199892394991,
            "yref": "y"
           },
           {
            "fillcolor": "rgba(0, 0, 128, 0.5)",
            "line": {
             "color": "rgba(0, 0, 128, 0.5)"
            },
            "type": "circle",
            "x0": 12.277527580131888,
            "x1": 12.677527580131887,
            "xref": "x",
            "y0": 13.152618684352516,
            "y1": 13.552618684352515,
            "yref": "y"
           },
           {
            "fillcolor": "rgba(0, 0, 191, 0.5)",
            "line": {
             "color": "rgba(0, 0, 191, 0.5)"
            },
            "type": "circle",
            "x0": 10.215575374282098,
            "x1": 10.615575374282097,
            "xref": "x",
            "y0": 13.015641147574359,
            "y1": 13.415641147574357,
            "yref": "y"
           },
           {
            "fillcolor": "rgba(255,255,255,0)",
            "line": {
             "width": 0
            },
            "type": "circle",
            "x0": 0.0,
            "x1": 0.0,
            "xref": "x",
            "y0": 0.0,
            "y1": 0.0,
            "yref": "y"
           },
           {
            "fillcolor": "rgba(255,255,255,0)",
            "line": {
             "width": 0
            },
            "type": "circle",
            "x0": 0.0,
            "x1": 0.0,
            "xref": "x",
            "y0": 0.0,
            "y1": 0.0,
            "yref": "y"
           },
           {
            "fillcolor": "rgba(255,255,255,0)",
            "line": {
             "width": 0
            },
            "type": "circle",
            "x0": 0.0,
            "x1": 0.0,
            "xref": "x",
            "y0": 0.0,
            "y1": 0.0,
            "yref": "y"
           },
           {
            "fillcolor": "rgba(255,255,255,0)",
            "line": {
             "width": 0
            },
            "type": "circle",
            "x0": 0.0,
            "x1": 0.0,
            "xref": "x",
            "y0": 0.0,
            "y1": 0.0,
            "yref": "y"
           },
           {
            "fillcolor": "rgba(255,255,255,0)",
            "line": {
             "width": 0
            },
            "type": "circle",
            "x0": 0.0,
            "x1": 0.0,
            "xref": "x",
            "y0": 0.0,
            "y1": 0.0,
            "yref": "y"
           },
           {
            "fillcolor": "rgba(255,255,255,0)",
            "line": {
             "width": 0
            },
            "type": "circle",
            "x0": 0.0,
            "x1": 0.0,
            "xref": "x",
            "y0": 0.0,
            "y1": 0.0,
            "yref": "y"
           },
           {
            "line": {
             "color": "white",
             "width": 3
            },
            "type": "line",
            "x0": 11.612068294219018,
            "x1": 11.806558235589234,
            "y0": 13.556524597560136,
            "y1": 13.603147153322444
           },
           {
            "line": {
             "color": "white",
             "width": 3
            },
            "type": "line",
            "x0": 11.37878408553347,
            "x1": 11.575035652635787,
            "y0": 12.920199892394992,
            "y1": 12.958739773166535
           },
           {
            "line": {
             "color": "white",
             "width": 3
            },
            "type": "line",
            "x0": 12.477527580131888,
            "x1": 12.669006200760121,
            "y0": 13.352618684352516,
            "y1": 13.410376262576582
           },
           {
            "line": {
             "color": "white",
             "width": 3
            },
            "type": "line",
            "x0": 10.415575374282097,
            "x1": 10.613720394191532,
            "y0": 13.215641147574358,
            "y1": 13.24281744395724
           },
           {
            "line": {
             "color": "rgba(255,255,255,0)",
             "width": 3
            },
            "type": "line",
            "x0": 0.0,
            "x1": null,
            "y0": 0.0,
            "y1": null
           },
           {
            "line": {
             "color": "rgba(255,255,255,0)",
             "width": 3
            },
            "type": "line",
            "x0": 0.0,
            "x1": null,
            "y0": 0.0,
            "y1": null
           },
           {
            "line": {
             "color": "rgba(255,255,255,0)",
             "width": 3
            },
            "type": "line",
            "x0": 0.0,
            "x1": null,
            "y0": 0.0,
            "y1": null
           },
           {
            "line": {
             "color": "rgba(255,255,255,0)",
             "width": 3
            },
            "type": "line",
            "x0": 0.0,
            "x1": null,
            "y0": 0.0,
            "y1": null
           },
           {
            "line": {
             "color": "rgba(255,255,255,0)",
             "width": 3
            },
            "type": "line",
            "x0": 0.0,
            "x1": null,
            "y0": 0.0,
            "y1": null
           },
           {
            "line": {
             "color": "rgba(255,255,255,0)",
             "width": 3
            },
            "type": "line",
            "x0": 0.0,
            "x1": null,
            "y0": 0.0,
            "y1": null
           }
          ],
          "title": {
           "text": "<b>Percentage using the shortest path: 0%  |  Number of Agents: 4</b>",
           "x": 0.5
          }
         },
         "name": "800"
        },
        {
         "data": [
          {
           "hoverinfo": "name",
           "line": {
            "color": "white"
           },
           "mode": "lines",
           "name": "Exterior",
           "showlegend": false,
           "x": [
            10.1,
            10.1,
            15.0,
            15.0,
            13.6,
            13.6,
            15.0,
            15.0,
            13.6,
            13.6,
            15.0,
            15.0,
            10.1,
            10.1,
            9.9,
            9.9,
            5.1,
            5.1,
            4.9,
            4.9,
            0.0,
            0.0,
            1.5,
            1.5,
            0.0,
            0.0,
            1.5,
            1.5,
            0.0,
            0.0,
            4.9,
            4.9,
            5.1,
            5.1,
            9.9,
            9.9,
            10.1
           ],
           "y": [
            1.5,
            0.0,
            0.0,
            4.9,
            4.9,
            5.1,
            5.1,
            9.9,
            9.9,
            10.1,
            10.1,
            15.0,
            15.0,
            13.6,
            13.6,
            15.0,
            15.0,
            13.6,
            13.6,
            15.0,
            15.0,
            10.1,
            10.1,
            9.9,
            9.9,
            5.1,
            5.1,
            4.9,
            4.9,
            0.0,
            0.0,
            1.5,
            1.5,
            0.0,
            0.0,
            1.5,
            1.5
           ],
           "type": "scatter"
          },
          {
           "hoverinfo": "name",
           "line": {
            "color": "white"
           },
           "mode": "lines",
           "name": "Obstacle",
           "showlegend": false,
           "x": [
            10.1,
            11.5,
            11.5,
            10.1,
            10.1,
            9.9,
            9.9,
            8.6,
            8.6,
            9.9,
            9.9,
            10.1,
            10.1
           ],
           "y": [
            5.1,
            5.1,
            4.9,
            4.9,
            3.6,
            3.6,
            4.9,
            4.9,
            5.1,
            5.1,
            6.5,
            6.5,
            5.1
           ],
           "type": "scatter"
          },
          {
           "hoverinfo": "name",
           "line": {
            "color": "white"
           },
           "mode": "lines",
           "name": "Obstacle",
           "showlegend": false,
           "x": [
            10.1,
            11.5,
            11.5,
            10.1,
            10.1,
            9.9,
            9.9,
            8.6,
            8.6,
            9.9,
            9.9,
            10.1,
            10.1
           ],
           "y": [
            10.1,
            10.1,
            9.9,
            9.9,
            8.6,
            8.6,
            9.9,
            9.9,
            10.1,
            10.1,
            11.5,
            11.5,
            10.1
           ],
           "type": "scatter"
          },
          {
           "hoverinfo": "name",
           "line": {
            "color": "white"
           },
           "mode": "lines",
           "name": "Obstacle",
           "showlegend": false,
           "x": [
            5.1,
            6.4,
            6.4,
            5.1,
            5.1,
            4.9,
            4.9,
            3.6,
            3.6,
            4.9,
            4.9,
            5.1,
            5.1
           ],
           "y": [
            5.1,
            5.1,
            4.9,
            4.9,
            3.6,
            3.6,
            4.9,
            4.9,
            5.1,
            5.1,
            6.5,
            6.5,
            5.1
           ],
           "type": "scatter"
          },
          {
           "hoverinfo": "name",
           "line": {
            "color": "white"
           },
           "mode": "lines",
           "name": "Obstacle",
           "showlegend": false,
           "x": [
            5.1,
            6.4,
            6.4,
            5.1,
            5.1,
            4.9,
            4.9,
            3.6,
            3.6,
            4.9,
            4.9,
            5.1,
            5.1
           ],
           "y": [
            10.1,
            10.1,
            9.9,
            9.9,
            8.6,
            8.6,
            9.9,
            9.9,
            10.1,
            10.1,
            11.5,
            11.5,
            10.1
           ],
           "type": "scatter"
          },
          {
           "fill": "toself",
           "fillcolor": "rgb(25, 0, 0)",
           "hoverinfo": "name",
           "line": {
            "width": 0
           },
           "mode": "lines",
           "name": "Risk Area",
           "showlegend": false,
           "x": [
            1.5,
            1.5,
            3.6,
            3.6,
            4.9,
            4.9,
            5.0,
            5.0,
            4.9,
            4.9,
            0.0,
            0.0,
            1.5
           ],
           "y": [
            4.9,
            5.0,
            5.0,
            4.9,
            4.9,
            3.6,
            3.6,
            1.5,
            1.5,
            0.0,
            0.0,
            4.9,
            4.9
           ],
           "type": "scatter"
          },
          {
           "fill": "toself",
           "fillcolor": "rgb(255, 0, 0)",
           "hoverinfo": "name",
           "line": {
            "width": 0
           },
           "mode": "lines",
           "name": "Risk Area",
           "showlegend": false,
           "x": [
            9.9,
            9.9,
            5.1,
            5.1,
            5.0,
            5.0,
            5.1,
            5.1,
            6.4,
            6.4,
            8.6,
            8.6,
            9.9,
            9.9,
            10.0,
            10.0,
            9.9
           ],
           "y": [
            1.5,
            0.0,
            0.0,
            1.5,
            1.5,
            3.6,
            3.6,
            4.9,
            4.9,
            5.0,
            5.0,
            4.9,
            4.9,
            3.6,
            3.6,
            1.5,
            1.5
           ],
           "type": "scatter"
          },
          {
           "fill": "toself",
           "fillcolor": "rgb(25, 0, 0)",
           "hoverinfo": "name",
           "line": {
            "width": 0
           },
           "mode": "lines",
           "name": "Risk Area",
           "showlegend": false,
           "x": [
            13.6,
            15.0,
            15.0,
            10.1,
            10.1,
            10.0,
            10.0,
            10.1,
            10.1,
            11.5,
            11.5,
            13.6,
            13.6
           ],
           "y": [
            4.9,
            4.9,
            0.0,
            0.0,
            1.5,
            1.5,
            3.6,
            3.6,
            4.9,
            4.9,
            5.0,
            5.0,
            4.9
           ],
           "type": "scatter"
          },
          {
           "fill": "toself",
           "fillcolor": "rgb(178, 0, 0)",
           "hoverinfo": "name",
           "line": {
            "width": 0
           },
           "mode": "lines",
           "name": "Risk Area",
           "showlegend": false,
           "x": [
            13.6,
            15.0,
            15.0,
            13.6,
            13.6,
            11.5,
            11.5,
            10.1,
            10.1,
            10.0,
            10.0,
            10.1,
            10.1,
            11.5,
            11.5,
            13.6,
            13.6
           ],
           "y": [
            9.9,
            9.9,
            5.1,
            5.1,
            5.0,
            5.0,
            5.1,
            5.1,
            6.5,
            6.5,
            8.6,
            8.6,
            9.9,
            9.9,
            10.0,
            10.0,
            9.9
           ],
           "type": "scatter"
          },
          {
           "fill": "toself",
           "fillcolor": "rgb(178, 0, 0)",
           "hoverinfo": "name",
           "line": {
            "width": 0
           },
           "mode": "lines",
           "name": "Risk Area",
           "showlegend": false,
           "x": [
            9.9,
            9.9,
            8.6,
            8.6,
            6.4,
            6.4,
            5.1,
            5.1,
            5.0,
            5.0,
            5.1,
            5.1,
            6.4,
            6.4,
            8.6,
            8.6,
            9.9,
            9.9,
            10.0,
            10.0,
            9.9
           ],
           "y": [
            6.5,
            5.1,
            5.1,
            5.0,
            5.0,
            5.1,
            5.1,
            6.5,
            6.5,
            8.6,
            8.6,
            9.9,
            9.9,
            10.0,
            10.0,
            9.9,
            9.9,
            8.6,
            8.6,
            6.5,
            6.5
           ],
           "type": "scatter"
          },
          {
           "fill": "toself",
           "fillcolor": "rgb(127, 0, 0)",
           "hoverinfo": "name",
           "line": {
            "width": 0
           },
           "mode": "lines",
           "name": "Risk Area",
           "showlegend": false,
           "x": [
            4.9,
            4.9,
            3.6,
            3.6,
            1.5,
            1.5,
            0.0,
            0.0,
            1.5,
            1.5,
            3.6,
            3.6,
            4.9,
            4.9,
            5.0,
            5.0,
            4.9
           ],
           "y": [
            6.5,
            5.1,
            5.1,
            5.0,
            5.0,
            5.1,
            5.1,
            9.9,
            9.9,
            10.0,
            10.0,
            9.9,
            9.9,
            8.6,
            8.6,
            6.5,
            6.5
           ],
           "type": "scatter"
          },
          {
           "fill": "toself",
           "fillcolor": "rgb(127, 0, 0)",
           "hoverinfo": "name",
           "line": {
            "width": 0
           },
           "mode": "lines",
           "name": "Risk Area",
           "showlegend": false,
           "x": [
            1.5,
            0.0,
            0.0,
            4.9,
            4.9,
            5.0,
            5.0,
            4.9,
            4.9,
            3.6,
            3.6,
            1.5,
            1.5
           ],
           "y": [
            10.1,
            10.1,
            15.0,
            15.0,
            13.6,
            13.6,
            11.5,
            11.5,
            10.1,
            10.1,
            10.0,
            10.0,
            10.1
           ],
           "type": "scatter"
          },
          {
           "fill": "toself",
           "fillcolor": "rgb(76, 0, 0)",
           "hoverinfo": "name",
           "line": {
            "width": 0
           },
           "mode": "lines",
           "name": "Risk Area",
           "showlegend": false,
           "x": [
            6.4,
            5.1,
            5.1,
            5.0,
            5.0,
            5.1,
            5.1,
            9.9,
            9.9,
            10.0,
            10.0,
            9.9,
            9.9,
            8.6,
            8.6,
            6.4,
            6.4
           ],
           "y": [
            10.1,
            10.1,
            11.5,
            11.5,
            13.6,
            13.6,
            15.0,
            15.0,
            13.6,
            13.6,
            11.5,
            11.5,
            10.1,
            10.1,
            10.0,
            10.0,
            10.1
           ],
           "type": "scatter"
          },
          {
           "fill": "toself",
           "fillcolor": "rgb(76, 0, 0)",
           "hoverinfo": "name",
           "line": {
            "width": 0
           },
           "mode": "lines",
           "name": "Risk Area",
           "showlegend": false,
           "x": [
            10.1,
            10.1,
            15.0,
            15.0,
            13.6,
            13.6,
            11.5,
            11.5,
            10.1,
            10.1,
            10.0,
            10.0,
            10.1
           ],
           "y": [
            13.6,
            15.0,
            15.0,
            10.1,
            10.1,
            10.0,
            10.0,
            10.1,
            10.1,
            11.5,
            11.5,
            13.6,
            13.6
           ],
           "type": "scatter"
          },
          {
           "hoverinfo": "text",
           "marker": {
            "opacity": 1,
            "size": 1
           },
           "mode": "markers",
           "showlegend": false,
           "text": [
            "ID: 110.0, Pos(11.91,13.46)"
           ],
           "x": [
            11.912122477067847
           ],
           "y": [
            13.456294377793327
           ],
           "type": "scatter"
          },
          {
           "hoverinfo": "none",
           "marker": {
            "opacity": 0,
            "size": 1
           },
           "mode": "markers",
           "showlegend": false,
           "x": [
            0.0
           ],
           "y": [
            0.0
           ],
           "type": "scatter"
          },
          {
           "hoverinfo": "none",
           "marker": {
            "opacity": 0,
            "size": 1
           },
           "mode": "markers",
           "showlegend": false,
           "x": [
            0.0
           ],
           "y": [
            0.0
           ],
           "type": "scatter"
          },
          {
           "hoverinfo": "none",
           "marker": {
            "opacity": 0,
            "size": 1
           },
           "mode": "markers",
           "showlegend": false,
           "x": [
            0.0
           ],
           "y": [
            0.0
           ],
           "type": "scatter"
          },
          {
           "hoverinfo": "none",
           "marker": {
            "opacity": 0,
            "size": 1
           },
           "mode": "markers",
           "showlegend": false,
           "x": [
            0.0
           ],
           "y": [
            0.0
           ],
           "type": "scatter"
          },
          {
           "hoverinfo": "none",
           "marker": {
            "opacity": 0,
            "size": 1
           },
           "mode": "markers",
           "showlegend": false,
           "x": [
            0.0
           ],
           "y": [
            0.0
           ],
           "type": "scatter"
          },
          {
           "hoverinfo": "none",
           "marker": {
            "opacity": 0,
            "size": 1
           },
           "mode": "markers",
           "showlegend": false,
           "x": [
            0.0
           ],
           "y": [
            0.0
           ],
           "type": "scatter"
          },
          {
           "hoverinfo": "none",
           "marker": {
            "opacity": 0,
            "size": 1
           },
           "mode": "markers",
           "showlegend": false,
           "x": [
            0.0
           ],
           "y": [
            0.0
           ],
           "type": "scatter"
          },
          {
           "hoverinfo": "none",
           "marker": {
            "opacity": 0,
            "size": 1
           },
           "mode": "markers",
           "showlegend": false,
           "x": [
            0.0
           ],
           "y": [
            0.0
           ],
           "type": "scatter"
          },
          {
           "hoverinfo": "none",
           "marker": {
            "opacity": 0,
            "size": 1
           },
           "mode": "markers",
           "showlegend": false,
           "x": [
            0.0
           ],
           "y": [
            0.0
           ],
           "type": "scatter"
          }
         ],
         "layout": {
          "shapes": [
           {
            "fillcolor": "rgba(0, 0, 128, 0.5)",
            "line": {
             "color": "rgba(0, 0, 128, 0.5)"
            },
            "type": "circle",
            "x0": 11.712122477067847,
            "x1": 12.112122477067846,
            "xref": "x",
            "y0": 13.256294377793328,
            "y1": 13.656294377793326,
            "yref": "y"
           },
           {
            "fillcolor": "rgba(255,255,255,0)",
            "line": {
             "width": 0
            },
            "type": "circle",
            "x0": 0.0,
            "x1": 0.0,
            "xref": "x",
            "y0": 0.0,
            "y1": 0.0,
            "yref": "y"
           },
           {
            "fillcolor": "rgba(255,255,255,0)",
            "line": {
             "width": 0
            },
            "type": "circle",
            "x0": 0.0,
            "x1": 0.0,
            "xref": "x",
            "y0": 0.0,
            "y1": 0.0,
            "yref": "y"
           },
           {
            "fillcolor": "rgba(255,255,255,0)",
            "line": {
             "width": 0
            },
            "type": "circle",
            "x0": 0.0,
            "x1": 0.0,
            "xref": "x",
            "y0": 0.0,
            "y1": 0.0,
            "yref": "y"
           },
           {
            "fillcolor": "rgba(255,255,255,0)",
            "line": {
             "width": 0
            },
            "type": "circle",
            "x0": 0.0,
            "x1": 0.0,
            "xref": "x",
            "y0": 0.0,
            "y1": 0.0,
            "yref": "y"
           },
           {
            "fillcolor": "rgba(255,255,255,0)",
            "line": {
             "width": 0
            },
            "type": "circle",
            "x0": 0.0,
            "x1": 0.0,
            "xref": "x",
            "y0": 0.0,
            "y1": 0.0,
            "yref": "y"
           },
           {
            "fillcolor": "rgba(255,255,255,0)",
            "line": {
             "width": 0
            },
            "type": "circle",
            "x0": 0.0,
            "x1": 0.0,
            "xref": "x",
            "y0": 0.0,
            "y1": 0.0,
            "yref": "y"
           },
           {
            "fillcolor": "rgba(255,255,255,0)",
            "line": {
             "width": 0
            },
            "type": "circle",
            "x0": 0.0,
            "x1": 0.0,
            "xref": "x",
            "y0": 0.0,
            "y1": 0.0,
            "yref": "y"
           },
           {
            "fillcolor": "rgba(255,255,255,0)",
            "line": {
             "width": 0
            },
            "type": "circle",
            "x0": 0.0,
            "x1": 0.0,
            "xref": "x",
            "y0": 0.0,
            "y1": 0.0,
            "yref": "y"
           },
           {
            "fillcolor": "rgba(255,255,255,0)",
            "line": {
             "width": 0
            },
            "type": "circle",
            "x0": 0.0,
            "x1": 0.0,
            "xref": "x",
            "y0": 0.0,
            "y1": 0.0,
            "yref": "y"
           },
           {
            "line": {
             "color": "white",
             "width": 3
            },
            "type": "line",
            "x0": 11.912122477067847,
            "x1": 12.109616547534374,
            "y0": 13.456294377793327,
            "y1": 13.487855305069978
           },
           {
            "line": {
             "color": "rgba(255,255,255,0)",
             "width": 3
            },
            "type": "line",
            "x0": 0.0,
            "x1": null,
            "y0": 0.0,
            "y1": null
           },
           {
            "line": {
             "color": "rgba(255,255,255,0)",
             "width": 3
            },
            "type": "line",
            "x0": 0.0,
            "x1": null,
            "y0": 0.0,
            "y1": null
           },
           {
            "line": {
             "color": "rgba(255,255,255,0)",
             "width": 3
            },
            "type": "line",
            "x0": 0.0,
            "x1": null,
            "y0": 0.0,
            "y1": null
           },
           {
            "line": {
             "color": "rgba(255,255,255,0)",
             "width": 3
            },
            "type": "line",
            "x0": 0.0,
            "x1": null,
            "y0": 0.0,
            "y1": null
           },
           {
            "line": {
             "color": "rgba(255,255,255,0)",
             "width": 3
            },
            "type": "line",
            "x0": 0.0,
            "x1": null,
            "y0": 0.0,
            "y1": null
           },
           {
            "line": {
             "color": "rgba(255,255,255,0)",
             "width": 3
            },
            "type": "line",
            "x0": 0.0,
            "x1": null,
            "y0": 0.0,
            "y1": null
           },
           {
            "line": {
             "color": "rgba(255,255,255,0)",
             "width": 3
            },
            "type": "line",
            "x0": 0.0,
            "x1": null,
            "y0": 0.0,
            "y1": null
           },
           {
            "line": {
             "color": "rgba(255,255,255,0)",
             "width": 3
            },
            "type": "line",
            "x0": 0.0,
            "x1": null,
            "y0": 0.0,
            "y1": null
           },
           {
            "line": {
             "color": "rgba(255,255,255,0)",
             "width": 3
            },
            "type": "line",
            "x0": 0.0,
            "x1": null,
            "y0": 0.0,
            "y1": null
           }
          ],
          "title": {
           "text": "<b>Percentage using the shortest path: 0%  |  Number of Agents: 1</b>",
           "x": 0.5
          }
         },
         "name": "850"
        }
       ],
       "config": {
        "plotlyServerURL": "https://plot.ly"
       }
      },
      "text/html": "<div>                            <div id=\"fe878f26-e2a3-4fbb-9e65-9ef194398351\" class=\"plotly-graph-div\" style=\"height:800px; width:800px;\"></div>            <script type=\"text/javascript\">                require([\"plotly\"], function(Plotly) {                    window.PLOTLYENV=window.PLOTLYENV || {};                                    if (document.getElementById(\"fe878f26-e2a3-4fbb-9e65-9ef194398351\")) {                    Plotly.newPlot(                        \"fe878f26-e2a3-4fbb-9e65-9ef194398351\",                        [{\"hoverinfo\":\"name\",\"line\":{\"color\":\"white\"},\"mode\":\"lines\",\"name\":\"Exterior\",\"showlegend\":false,\"x\":[10.1,10.1,15.0,15.0,13.6,13.6,15.0,15.0,13.6,13.6,15.0,15.0,10.1,10.1,9.9,9.9,5.1,5.1,4.9,4.9,0.0,0.0,1.5,1.5,0.0,0.0,1.5,1.5,0.0,0.0,4.9,4.9,5.1,5.1,9.9,9.9,10.1],\"y\":[1.5,0.0,0.0,4.9,4.9,5.1,5.1,9.9,9.9,10.1,10.1,15.0,15.0,13.6,13.6,15.0,15.0,13.6,13.6,15.0,15.0,10.1,10.1,9.9,9.9,5.1,5.1,4.9,4.9,0.0,0.0,1.5,1.5,0.0,0.0,1.5,1.5],\"type\":\"scatter\"},{\"hoverinfo\":\"name\",\"line\":{\"color\":\"white\"},\"mode\":\"lines\",\"name\":\"Obstacle\",\"showlegend\":false,\"x\":[10.1,11.5,11.5,10.1,10.1,9.9,9.9,8.6,8.6,9.9,9.9,10.1,10.1],\"y\":[5.1,5.1,4.9,4.9,3.6,3.6,4.9,4.9,5.1,5.1,6.5,6.5,5.1],\"type\":\"scatter\"},{\"hoverinfo\":\"name\",\"line\":{\"color\":\"white\"},\"mode\":\"lines\",\"name\":\"Obstacle\",\"showlegend\":false,\"x\":[10.1,11.5,11.5,10.1,10.1,9.9,9.9,8.6,8.6,9.9,9.9,10.1,10.1],\"y\":[10.1,10.1,9.9,9.9,8.6,8.6,9.9,9.9,10.1,10.1,11.5,11.5,10.1],\"type\":\"scatter\"},{\"hoverinfo\":\"name\",\"line\":{\"color\":\"white\"},\"mode\":\"lines\",\"name\":\"Obstacle\",\"showlegend\":false,\"x\":[5.1,6.4,6.4,5.1,5.1,4.9,4.9,3.6,3.6,4.9,4.9,5.1,5.1],\"y\":[5.1,5.1,4.9,4.9,3.6,3.6,4.9,4.9,5.1,5.1,6.5,6.5,5.1],\"type\":\"scatter\"},{\"hoverinfo\":\"name\",\"line\":{\"color\":\"white\"},\"mode\":\"lines\",\"name\":\"Obstacle\",\"showlegend\":false,\"x\":[5.1,6.4,6.4,5.1,5.1,4.9,4.9,3.6,3.6,4.9,4.9,5.1,5.1],\"y\":[10.1,10.1,9.9,9.9,8.6,8.6,9.9,9.9,10.1,10.1,11.5,11.5,10.1],\"type\":\"scatter\"},{\"fill\":\"toself\",\"fillcolor\":\"rgb(25, 0, 0)\",\"hoverinfo\":\"name\",\"line\":{\"width\":0},\"mode\":\"lines\",\"name\":\"Risk Area\",\"showlegend\":false,\"x\":[1.5,1.5,3.6,3.6,4.9,4.9,5.0,5.0,4.9,4.9,0.0,0.0,1.5],\"y\":[4.9,5.0,5.0,4.9,4.9,3.6,3.6,1.5,1.5,0.0,0.0,4.9,4.9],\"type\":\"scatter\"},{\"fill\":\"toself\",\"fillcolor\":\"rgb(255, 0, 0)\",\"hoverinfo\":\"name\",\"line\":{\"width\":0},\"mode\":\"lines\",\"name\":\"Risk Area\",\"showlegend\":false,\"x\":[9.9,9.9,5.1,5.1,5.0,5.0,5.1,5.1,6.4,6.4,8.6,8.6,9.9,9.9,10.0,10.0,9.9],\"y\":[1.5,0.0,0.0,1.5,1.5,3.6,3.6,4.9,4.9,5.0,5.0,4.9,4.9,3.6,3.6,1.5,1.5],\"type\":\"scatter\"},{\"fill\":\"toself\",\"fillcolor\":\"rgb(25, 0, 0)\",\"hoverinfo\":\"name\",\"line\":{\"width\":0},\"mode\":\"lines\",\"name\":\"Risk Area\",\"showlegend\":false,\"x\":[13.6,15.0,15.0,10.1,10.1,10.0,10.0,10.1,10.1,11.5,11.5,13.6,13.6],\"y\":[4.9,4.9,0.0,0.0,1.5,1.5,3.6,3.6,4.9,4.9,5.0,5.0,4.9],\"type\":\"scatter\"},{\"fill\":\"toself\",\"fillcolor\":\"rgb(178, 0, 0)\",\"hoverinfo\":\"name\",\"line\":{\"width\":0},\"mode\":\"lines\",\"name\":\"Risk Area\",\"showlegend\":false,\"x\":[13.6,15.0,15.0,13.6,13.6,11.5,11.5,10.1,10.1,10.0,10.0,10.1,10.1,11.5,11.5,13.6,13.6],\"y\":[9.9,9.9,5.1,5.1,5.0,5.0,5.1,5.1,6.5,6.5,8.6,8.6,9.9,9.9,10.0,10.0,9.9],\"type\":\"scatter\"},{\"fill\":\"toself\",\"fillcolor\":\"rgb(178, 0, 0)\",\"hoverinfo\":\"name\",\"line\":{\"width\":0},\"mode\":\"lines\",\"name\":\"Risk Area\",\"showlegend\":false,\"x\":[9.9,9.9,8.6,8.6,6.4,6.4,5.1,5.1,5.0,5.0,5.1,5.1,6.4,6.4,8.6,8.6,9.9,9.9,10.0,10.0,9.9],\"y\":[6.5,5.1,5.1,5.0,5.0,5.1,5.1,6.5,6.5,8.6,8.6,9.9,9.9,10.0,10.0,9.9,9.9,8.6,8.6,6.5,6.5],\"type\":\"scatter\"},{\"fill\":\"toself\",\"fillcolor\":\"rgb(127, 0, 0)\",\"hoverinfo\":\"name\",\"line\":{\"width\":0},\"mode\":\"lines\",\"name\":\"Risk Area\",\"showlegend\":false,\"x\":[4.9,4.9,3.6,3.6,1.5,1.5,0.0,0.0,1.5,1.5,3.6,3.6,4.9,4.9,5.0,5.0,4.9],\"y\":[6.5,5.1,5.1,5.0,5.0,5.1,5.1,9.9,9.9,10.0,10.0,9.9,9.9,8.6,8.6,6.5,6.5],\"type\":\"scatter\"},{\"fill\":\"toself\",\"fillcolor\":\"rgb(127, 0, 0)\",\"hoverinfo\":\"name\",\"line\":{\"width\":0},\"mode\":\"lines\",\"name\":\"Risk Area\",\"showlegend\":false,\"x\":[1.5,0.0,0.0,4.9,4.9,5.0,5.0,4.9,4.9,3.6,3.6,1.5,1.5],\"y\":[10.1,10.1,15.0,15.0,13.6,13.6,11.5,11.5,10.1,10.1,10.0,10.0,10.1],\"type\":\"scatter\"},{\"fill\":\"toself\",\"fillcolor\":\"rgb(76, 0, 0)\",\"hoverinfo\":\"name\",\"line\":{\"width\":0},\"mode\":\"lines\",\"name\":\"Risk Area\",\"showlegend\":false,\"x\":[6.4,5.1,5.1,5.0,5.0,5.1,5.1,9.9,9.9,10.0,10.0,9.9,9.9,8.6,8.6,6.4,6.4],\"y\":[10.1,10.1,11.5,11.5,13.6,13.6,15.0,15.0,13.6,13.6,11.5,11.5,10.1,10.1,10.0,10.0,10.1],\"type\":\"scatter\"},{\"fill\":\"toself\",\"fillcolor\":\"rgb(76, 0, 0)\",\"hoverinfo\":\"name\",\"line\":{\"width\":0},\"mode\":\"lines\",\"name\":\"Risk Area\",\"showlegend\":false,\"x\":[10.1,10.1,15.0,15.0,13.6,13.6,11.5,11.5,10.1,10.1,10.0,10.0,10.1],\"y\":[13.6,15.0,15.0,10.1,10.1,10.0,10.0,10.1,10.1,11.5,11.5,13.6,13.6],\"type\":\"scatter\"},{\"hoverinfo\":\"none\",\"marker\":{\"cmax\":0.8000000000000191,\"cmin\":0,\"color\":[0.7999997415062419,0.5075973971098988,0.7998523749829529,0.7988478819166775,0.7992132371410413,0.7249901030431707,0.612802758593313,0.7999999999999988,0.26322573985669484,0.799652812025704],\"colorbar\":{\"title\":{\"text\":\"Speed [m\\u002fs]\"}},\"colorscale\":[[0.0,\"rgb(128,0,0)\"],[0.2,\"rgb(250,0,0)\"],[0.4,\"rgb(255,255,0)\"],[0.6,\"rgb(5,255,255)\"],[0.8,\"rgb(0,60,170)\"],[1.0,\"rgb(0,0,131)\"]],\"size\":[0.4,0.4,0.4,0.4,0.4,0.4,0.4,0.4,0.4,0.4]},\"mode\":\"markers\",\"showlegend\":false,\"text\":[0.7999997415062419,0.5075973971098988,0.7998523749829529,0.7988478819166775,0.7992132371410413,0.7249901030431707,0.612802758593313,0.7999999999999988,0.26322573985669484,0.799652812025704],\"x\":[3.9863327738146737,0.8488279016949318,1.7258968673840784,2.116160882427272,1.692259232863783,1.453767774845684,3.0719865838614573,3.48879726462054,1.7042831428492793,1.7565776142251517],\"y\":[4.268834270066489,1.6370406488593048,1.5962220773638665,3.5204353653542206,2.7972929381969065,3.6607508930614516,4.234745501580994,1.9561046634672852,3.3139640340517103,2.253852105302265],\"type\":\"scatter\"},{\"hoverinfo\":\"text\",\"marker\":{\"opacity\":1,\"size\":1},\"mode\":\"markers\",\"showlegend\":false,\"text\":[\"ID: 101, Pos(3.99,4.27)\"],\"x\":[3.9863327738146737],\"y\":[4.268834270066489],\"type\":\"scatter\"},{\"hoverinfo\":\"text\",\"marker\":{\"opacity\":1,\"size\":1},\"mode\":\"markers\",\"showlegend\":false,\"text\":[\"ID: 102, Pos(0.85,1.64)\"],\"x\":[0.8488279016949318],\"y\":[1.6370406488593048],\"type\":\"scatter\"},{\"hoverinfo\":\"text\",\"marker\":{\"opacity\":1,\"size\":1},\"mode\":\"markers\",\"showlegend\":false,\"text\":[\"ID: 103, Pos(1.73,1.60)\"],\"x\":[1.7258968673840784],\"y\":[1.5962220773638665],\"type\":\"scatter\"},{\"hoverinfo\":\"text\",\"marker\":{\"opacity\":1,\"size\":1},\"mode\":\"markers\",\"showlegend\":false,\"text\":[\"ID: 104, Pos(2.12,3.52)\"],\"x\":[2.116160882427272],\"y\":[3.5204353653542206],\"type\":\"scatter\"},{\"hoverinfo\":\"text\",\"marker\":{\"opacity\":1,\"size\":1},\"mode\":\"markers\",\"showlegend\":false,\"text\":[\"ID: 105, Pos(1.69,2.80)\"],\"x\":[1.692259232863783],\"y\":[2.7972929381969065],\"type\":\"scatter\"},{\"hoverinfo\":\"text\",\"marker\":{\"opacity\":1,\"size\":1},\"mode\":\"markers\",\"showlegend\":false,\"text\":[\"ID: 106, Pos(1.45,3.66)\"],\"x\":[1.453767774845684],\"y\":[3.6607508930614516],\"type\":\"scatter\"},{\"hoverinfo\":\"text\",\"marker\":{\"opacity\":1,\"size\":1},\"mode\":\"markers\",\"showlegend\":false,\"text\":[\"ID: 107, Pos(3.07,4.23)\"],\"x\":[3.0719865838614573],\"y\":[4.234745501580994],\"type\":\"scatter\"},{\"hoverinfo\":\"text\",\"marker\":{\"opacity\":1,\"size\":1},\"mode\":\"markers\",\"showlegend\":false,\"text\":[\"ID: 108, Pos(3.49,1.96)\"],\"x\":[3.48879726462054],\"y\":[1.9561046634672852],\"type\":\"scatter\"},{\"hoverinfo\":\"text\",\"marker\":{\"opacity\":1,\"size\":1},\"mode\":\"markers\",\"showlegend\":false,\"text\":[\"ID: 109, Pos(1.70,3.31)\"],\"x\":[1.7042831428492793],\"y\":[3.3139640340517103],\"type\":\"scatter\"},{\"hoverinfo\":\"text\",\"marker\":{\"opacity\":1,\"size\":1},\"mode\":\"markers\",\"showlegend\":false,\"text\":[\"ID: 110, Pos(1.76,2.25)\"],\"x\":[1.7565776142251517],\"y\":[2.253852105302265],\"type\":\"scatter\"}],                        {\"shapes\":[{\"fillcolor\":\"rgba(0, 0, 128, 0.5)\",\"line\":{\"color\":\"rgba(0, 0, 128, 0.5)\"},\"type\":\"circle\",\"x0\":3.7863327738146735,\"x1\":4.186332773814674,\"xref\":\"x\",\"y0\":4.068834270066489,\"y1\":4.468834270066489,\"yref\":\"y\"},{\"fillcolor\":\"rgba(15, 248, 231, 0.5)\",\"line\":{\"color\":\"rgba(15, 248, 231, 0.5)\"},\"type\":\"circle\",\"x0\":0.6488279016949319,\"x1\":1.0488279016949318,\"xref\":\"x\",\"y0\":1.4370406488593048,\"y1\":1.8370406488593047,\"yref\":\"y\"},{\"fillcolor\":\"rgba(0, 0, 128, 0.5)\",\"line\":{\"color\":\"rgba(0, 0, 128, 0.5)\"},\"type\":\"circle\",\"x0\":1.5258968673840785,\"x1\":1.9258968673840784,\"xref\":\"x\",\"y0\":1.3962220773638665,\"y1\":1.7962220773638664,\"yref\":\"y\"},{\"fillcolor\":\"rgba(0, 0, 128, 0.5)\",\"line\":{\"color\":\"rgba(0, 0, 128, 0.5)\"},\"type\":\"circle\",\"x0\":1.916160882427272,\"x1\":2.316160882427272,\"xref\":\"x\",\"y0\":3.3204353653542205,\"y1\":3.720435365354221,\"yref\":\"y\"},{\"fillcolor\":\"rgba(0, 0, 128, 0.5)\",\"line\":{\"color\":\"rgba(0, 0, 128, 0.5)\"},\"type\":\"circle\",\"x0\":1.4922592328637831,\"x1\":1.892259232863783,\"xref\":\"x\",\"y0\":2.5972929381969063,\"y1\":2.9972929381969067,\"yref\":\"y\"},{\"fillcolor\":\"rgba(0, 0, 237, 0.5)\",\"line\":{\"color\":\"rgba(0, 0, 237, 0.5)\"},\"type\":\"circle\",\"x0\":1.2537677748456841,\"x1\":1.653767774845684,\"xref\":\"x\",\"y0\":3.4607508930614514,\"y1\":3.860750893061452,\"yref\":\"y\"},{\"fillcolor\":\"rgba(0, 112, 255, 0.5)\",\"line\":{\"color\":\"rgba(0, 112, 255, 0.5)\"},\"type\":\"circle\",\"x0\":2.871986583861457,\"x1\":3.2719865838614575,\"xref\":\"x\",\"y0\":4.034745501580994,\"y1\":4.434745501580994,\"yref\":\"y\"},{\"fillcolor\":\"rgba(0, 0, 128, 0.5)\",\"line\":{\"color\":\"rgba(0, 0, 128, 0.5)\"},\"type\":\"circle\",\"x0\":3.28879726462054,\"x1\":3.6887972646205403,\"xref\":\"x\",\"y0\":1.7561046634672852,\"y1\":2.156104663467285,\"yref\":\"y\"},{\"fillcolor\":\"rgba(255, 222, 0, 0.5)\",\"line\":{\"color\":\"rgba(255, 222, 0, 0.5)\"},\"type\":\"circle\",\"x0\":1.5042831428492793,\"x1\":1.9042831428492792,\"xref\":\"x\",\"y0\":3.11396403405171,\"y1\":3.5139640340517104,\"yref\":\"y\"},{\"fillcolor\":\"rgba(0, 0, 128, 0.5)\",\"line\":{\"color\":\"rgba(0, 0, 128, 0.5)\"},\"type\":\"circle\",\"x0\":1.5565776142251517,\"x1\":1.9565776142251516,\"xref\":\"x\",\"y0\":2.0538521053022647,\"y1\":2.453852105302265,\"yref\":\"y\"},{\"line\":{\"color\":\"white\",\"width\":3},\"type\":\"line\",\"x0\":3.9863327738146737,\"x1\":3.9863327738146737,\"y0\":4.268834270066489,\"y1\":4.268834270066489},{\"line\":{\"color\":\"black\",\"width\":3},\"type\":\"line\",\"x0\":0.8488279016949318,\"x1\":0.8488279016949318,\"y0\":1.6370406488593048,\"y1\":1.6370406488593048},{\"line\":{\"color\":\"white\",\"width\":3},\"type\":\"line\",\"x0\":1.7258968673840784,\"x1\":1.7258968673840784,\"y0\":1.5962220773638665,\"y1\":1.5962220773638665},{\"line\":{\"color\":\"white\",\"width\":3},\"type\":\"line\",\"x0\":2.116160882427272,\"x1\":2.116160882427272,\"y0\":3.5204353653542206,\"y1\":3.5204353653542206},{\"line\":{\"color\":\"white\",\"width\":3},\"type\":\"line\",\"x0\":1.692259232863783,\"x1\":1.692259232863783,\"y0\":2.7972929381969065,\"y1\":2.7972929381969065},{\"line\":{\"color\":\"white\",\"width\":3},\"type\":\"line\",\"x0\":1.453767774845684,\"x1\":1.453767774845684,\"y0\":3.6607508930614516,\"y1\":3.6607508930614516},{\"line\":{\"color\":\"white\",\"width\":3},\"type\":\"line\",\"x0\":3.0719865838614573,\"x1\":3.0719865838614573,\"y0\":4.234745501580994,\"y1\":4.234745501580994},{\"line\":{\"color\":\"white\",\"width\":3},\"type\":\"line\",\"x0\":3.48879726462054,\"x1\":3.48879726462054,\"y0\":1.9561046634672852,\"y1\":1.9561046634672852},{\"line\":{\"color\":\"black\",\"width\":3},\"type\":\"line\",\"x0\":1.7042831428492793,\"x1\":1.7042831428492793,\"y0\":3.3139640340517103,\"y1\":3.3139640340517103},{\"line\":{\"color\":\"white\",\"width\":3},\"type\":\"line\",\"x0\":1.7565776142251517,\"x1\":1.7565776142251517,\"y0\":2.253852105302265,\"y1\":2.253852105302265}],\"title\":{\"text\":\"\\u003cb\\u003ePercentage using the shortest path: 0%  |  Number of Agents: 10\\u003c\\u002fb\\u003e\",\"x\":0.5},\"template\":{\"data\":{\"histogram2dcontour\":[{\"type\":\"histogram2dcontour\",\"colorbar\":{\"outlinewidth\":0,\"ticks\":\"\"},\"colorscale\":[[0.0,\"#0d0887\"],[0.1111111111111111,\"#46039f\"],[0.2222222222222222,\"#7201a8\"],[0.3333333333333333,\"#9c179e\"],[0.4444444444444444,\"#bd3786\"],[0.5555555555555556,\"#d8576b\"],[0.6666666666666666,\"#ed7953\"],[0.7777777777777778,\"#fb9f3a\"],[0.8888888888888888,\"#fdca26\"],[1.0,\"#f0f921\"]]}],\"choropleth\":[{\"type\":\"choropleth\",\"colorbar\":{\"outlinewidth\":0,\"ticks\":\"\"}}],\"histogram2d\":[{\"type\":\"histogram2d\",\"colorbar\":{\"outlinewidth\":0,\"ticks\":\"\"},\"colorscale\":[[0.0,\"#0d0887\"],[0.1111111111111111,\"#46039f\"],[0.2222222222222222,\"#7201a8\"],[0.3333333333333333,\"#9c179e\"],[0.4444444444444444,\"#bd3786\"],[0.5555555555555556,\"#d8576b\"],[0.6666666666666666,\"#ed7953\"],[0.7777777777777778,\"#fb9f3a\"],[0.8888888888888888,\"#fdca26\"],[1.0,\"#f0f921\"]]}],\"heatmap\":[{\"type\":\"heatmap\",\"colorbar\":{\"outlinewidth\":0,\"ticks\":\"\"},\"colorscale\":[[0.0,\"#0d0887\"],[0.1111111111111111,\"#46039f\"],[0.2222222222222222,\"#7201a8\"],[0.3333333333333333,\"#9c179e\"],[0.4444444444444444,\"#bd3786\"],[0.5555555555555556,\"#d8576b\"],[0.6666666666666666,\"#ed7953\"],[0.7777777777777778,\"#fb9f3a\"],[0.8888888888888888,\"#fdca26\"],[1.0,\"#f0f921\"]]}],\"heatmapgl\":[{\"type\":\"heatmapgl\",\"colorbar\":{\"outlinewidth\":0,\"ticks\":\"\"},\"colorscale\":[[0.0,\"#0d0887\"],[0.1111111111111111,\"#46039f\"],[0.2222222222222222,\"#7201a8\"],[0.3333333333333333,\"#9c179e\"],[0.4444444444444444,\"#bd3786\"],[0.5555555555555556,\"#d8576b\"],[0.6666666666666666,\"#ed7953\"],[0.7777777777777778,\"#fb9f3a\"],[0.8888888888888888,\"#fdca26\"],[1.0,\"#f0f921\"]]}],\"contourcarpet\":[{\"type\":\"contourcarpet\",\"colorbar\":{\"outlinewidth\":0,\"ticks\":\"\"}}],\"contour\":[{\"type\":\"contour\",\"colorbar\":{\"outlinewidth\":0,\"ticks\":\"\"},\"colorscale\":[[0.0,\"#0d0887\"],[0.1111111111111111,\"#46039f\"],[0.2222222222222222,\"#7201a8\"],[0.3333333333333333,\"#9c179e\"],[0.4444444444444444,\"#bd3786\"],[0.5555555555555556,\"#d8576b\"],[0.6666666666666666,\"#ed7953\"],[0.7777777777777778,\"#fb9f3a\"],[0.8888888888888888,\"#fdca26\"],[1.0,\"#f0f921\"]]}],\"surface\":[{\"type\":\"surface\",\"colorbar\":{\"outlinewidth\":0,\"ticks\":\"\"},\"colorscale\":[[0.0,\"#0d0887\"],[0.1111111111111111,\"#46039f\"],[0.2222222222222222,\"#7201a8\"],[0.3333333333333333,\"#9c179e\"],[0.4444444444444444,\"#bd3786\"],[0.5555555555555556,\"#d8576b\"],[0.6666666666666666,\"#ed7953\"],[0.7777777777777778,\"#fb9f3a\"],[0.8888888888888888,\"#fdca26\"],[1.0,\"#f0f921\"]]}],\"mesh3d\":[{\"type\":\"mesh3d\",\"colorbar\":{\"outlinewidth\":0,\"ticks\":\"\"}}],\"scatter\":[{\"marker\":{\"line\":{\"color\":\"#283442\"}},\"type\":\"scatter\"}],\"parcoords\":[{\"type\":\"parcoords\",\"line\":{\"colorbar\":{\"outlinewidth\":0,\"ticks\":\"\"}}}],\"scatterpolargl\":[{\"type\":\"scatterpolargl\",\"marker\":{\"colorbar\":{\"outlinewidth\":0,\"ticks\":\"\"}}}],\"bar\":[{\"error_x\":{\"color\":\"#f2f5fa\"},\"error_y\":{\"color\":\"#f2f5fa\"},\"marker\":{\"line\":{\"color\":\"rgb(17,17,17)\",\"width\":0.5},\"pattern\":{\"fillmode\":\"overlay\",\"size\":10,\"solidity\":0.2}},\"type\":\"bar\"}],\"scattergeo\":[{\"type\":\"scattergeo\",\"marker\":{\"colorbar\":{\"outlinewidth\":0,\"ticks\":\"\"}}}],\"scatterpolar\":[{\"type\":\"scatterpolar\",\"marker\":{\"colorbar\":{\"outlinewidth\":0,\"ticks\":\"\"}}}],\"histogram\":[{\"marker\":{\"pattern\":{\"fillmode\":\"overlay\",\"size\":10,\"solidity\":0.2}},\"type\":\"histogram\"}],\"scattergl\":[{\"marker\":{\"line\":{\"color\":\"#283442\"}},\"type\":\"scattergl\"}],\"scatter3d\":[{\"type\":\"scatter3d\",\"line\":{\"colorbar\":{\"outlinewidth\":0,\"ticks\":\"\"}},\"marker\":{\"colorbar\":{\"outlinewidth\":0,\"ticks\":\"\"}}}],\"scattermapbox\":[{\"type\":\"scattermapbox\",\"marker\":{\"colorbar\":{\"outlinewidth\":0,\"ticks\":\"\"}}}],\"scatterternary\":[{\"type\":\"scatterternary\",\"marker\":{\"colorbar\":{\"outlinewidth\":0,\"ticks\":\"\"}}}],\"scattercarpet\":[{\"type\":\"scattercarpet\",\"marker\":{\"colorbar\":{\"outlinewidth\":0,\"ticks\":\"\"}}}],\"carpet\":[{\"aaxis\":{\"endlinecolor\":\"#A2B1C6\",\"gridcolor\":\"#506784\",\"linecolor\":\"#506784\",\"minorgridcolor\":\"#506784\",\"startlinecolor\":\"#A2B1C6\"},\"baxis\":{\"endlinecolor\":\"#A2B1C6\",\"gridcolor\":\"#506784\",\"linecolor\":\"#506784\",\"minorgridcolor\":\"#506784\",\"startlinecolor\":\"#A2B1C6\"},\"type\":\"carpet\"}],\"table\":[{\"cells\":{\"fill\":{\"color\":\"#506784\"},\"line\":{\"color\":\"rgb(17,17,17)\"}},\"header\":{\"fill\":{\"color\":\"#2a3f5f\"},\"line\":{\"color\":\"rgb(17,17,17)\"}},\"type\":\"table\"}],\"barpolar\":[{\"marker\":{\"line\":{\"color\":\"rgb(17,17,17)\",\"width\":0.5},\"pattern\":{\"fillmode\":\"overlay\",\"size\":10,\"solidity\":0.2}},\"type\":\"barpolar\"}],\"pie\":[{\"automargin\":true,\"type\":\"pie\"}]},\"layout\":{\"autotypenumbers\":\"strict\",\"colorway\":[\"#636efa\",\"#EF553B\",\"#00cc96\",\"#ab63fa\",\"#FFA15A\",\"#19d3f3\",\"#FF6692\",\"#B6E880\",\"#FF97FF\",\"#FECB52\"],\"font\":{\"color\":\"#f2f5fa\"},\"hovermode\":\"closest\",\"hoverlabel\":{\"align\":\"left\"},\"paper_bgcolor\":\"rgb(17,17,17)\",\"plot_bgcolor\":\"rgb(17,17,17)\",\"polar\":{\"bgcolor\":\"rgb(17,17,17)\",\"angularaxis\":{\"gridcolor\":\"#506784\",\"linecolor\":\"#506784\",\"ticks\":\"\"},\"radialaxis\":{\"gridcolor\":\"#506784\",\"linecolor\":\"#506784\",\"ticks\":\"\"}},\"ternary\":{\"bgcolor\":\"rgb(17,17,17)\",\"aaxis\":{\"gridcolor\":\"#506784\",\"linecolor\":\"#506784\",\"ticks\":\"\"},\"baxis\":{\"gridcolor\":\"#506784\",\"linecolor\":\"#506784\",\"ticks\":\"\"},\"caxis\":{\"gridcolor\":\"#506784\",\"linecolor\":\"#506784\",\"ticks\":\"\"}},\"coloraxis\":{\"colorbar\":{\"outlinewidth\":0,\"ticks\":\"\"}},\"colorscale\":{\"sequential\":[[0.0,\"#0d0887\"],[0.1111111111111111,\"#46039f\"],[0.2222222222222222,\"#7201a8\"],[0.3333333333333333,\"#9c179e\"],[0.4444444444444444,\"#bd3786\"],[0.5555555555555556,\"#d8576b\"],[0.6666666666666666,\"#ed7953\"],[0.7777777777777778,\"#fb9f3a\"],[0.8888888888888888,\"#fdca26\"],[1.0,\"#f0f921\"]],\"sequentialminus\":[[0.0,\"#0d0887\"],[0.1111111111111111,\"#46039f\"],[0.2222222222222222,\"#7201a8\"],[0.3333333333333333,\"#9c179e\"],[0.4444444444444444,\"#bd3786\"],[0.5555555555555556,\"#d8576b\"],[0.6666666666666666,\"#ed7953\"],[0.7777777777777778,\"#fb9f3a\"],[0.8888888888888888,\"#fdca26\"],[1.0,\"#f0f921\"]],\"diverging\":[[0,\"#8e0152\"],[0.1,\"#c51b7d\"],[0.2,\"#de77ae\"],[0.3,\"#f1b6da\"],[0.4,\"#fde0ef\"],[0.5,\"#f7f7f7\"],[0.6,\"#e6f5d0\"],[0.7,\"#b8e186\"],[0.8,\"#7fbc41\"],[0.9,\"#4d9221\"],[1,\"#276419\"]]},\"xaxis\":{\"gridcolor\":\"#283442\",\"linecolor\":\"#506784\",\"ticks\":\"\",\"title\":{\"standoff\":15},\"zerolinecolor\":\"#283442\",\"automargin\":true,\"zerolinewidth\":2},\"yaxis\":{\"gridcolor\":\"#283442\",\"linecolor\":\"#506784\",\"ticks\":\"\",\"title\":{\"standoff\":15},\"zerolinecolor\":\"#283442\",\"automargin\":true,\"zerolinewidth\":2},\"scene\":{\"xaxis\":{\"backgroundcolor\":\"rgb(17,17,17)\",\"gridcolor\":\"#506784\",\"linecolor\":\"#506784\",\"showbackground\":true,\"ticks\":\"\",\"zerolinecolor\":\"#C8D4E3\",\"gridwidth\":2},\"yaxis\":{\"backgroundcolor\":\"rgb(17,17,17)\",\"gridcolor\":\"#506784\",\"linecolor\":\"#506784\",\"showbackground\":true,\"ticks\":\"\",\"zerolinecolor\":\"#C8D4E3\",\"gridwidth\":2},\"zaxis\":{\"backgroundcolor\":\"rgb(17,17,17)\",\"gridcolor\":\"#506784\",\"linecolor\":\"#506784\",\"showbackground\":true,\"ticks\":\"\",\"zerolinecolor\":\"#C8D4E3\",\"gridwidth\":2}},\"shapedefaults\":{\"line\":{\"color\":\"#f2f5fa\"}},\"annotationdefaults\":{\"arrowcolor\":\"#f2f5fa\",\"arrowhead\":0,\"arrowwidth\":1},\"geo\":{\"bgcolor\":\"rgb(17,17,17)\",\"landcolor\":\"rgb(17,17,17)\",\"subunitcolor\":\"#506784\",\"showland\":true,\"showlakes\":true,\"lakecolor\":\"rgb(17,17,17)\"},\"title\":{\"x\":0.05},\"updatemenudefaults\":{\"bgcolor\":\"#506784\",\"borderwidth\":0},\"sliderdefaults\":{\"bgcolor\":\"#C8D4E3\",\"borderwidth\":1,\"bordercolor\":\"rgb(17,17,17)\",\"tickwidth\":0},\"mapbox\":{\"style\":\"dark\"}}},\"xaxis\":{\"range\":[-0.5,15.5]},\"yaxis\":{\"scaleanchor\":\"x\",\"scaleratio\":1,\"range\":[-0.5,15.5]},\"updatemenus\":[{\"buttons\":[{\"args\":[null,{\"frame\":{\"duration\":100,\"redraw\":true},\"fromcurrent\":true}],\"label\":\"Play\",\"method\":\"animate\"}],\"direction\":\"left\",\"pad\":{\"r\":10,\"t\":87},\"showactive\":false,\"type\":\"buttons\",\"x\":0.1,\"xanchor\":\"right\",\"y\":0,\"yanchor\":\"top\"}],\"sliders\":[{\"active\":0,\"currentvalue\":{\"font\":{\"size\":20},\"prefix\":\"Frame:\",\"visible\":true,\"xanchor\":\"right\"},\"len\":0.9,\"pad\":{\"b\":10,\"t\":50},\"steps\":[{\"args\":[[\"0\"],{\"frame\":{\"duration\":100,\"redraw\":true},\"mode\":\"immediate\",\"transition\":{\"duration\":500}}],\"label\":\"0\",\"method\":\"animate\"},{\"args\":[[\"50\"],{\"frame\":{\"duration\":100,\"redraw\":true},\"mode\":\"immediate\",\"transition\":{\"duration\":500}}],\"label\":\"50\",\"method\":\"animate\"},{\"args\":[[\"100\"],{\"frame\":{\"duration\":100,\"redraw\":true},\"mode\":\"immediate\",\"transition\":{\"duration\":500}}],\"label\":\"100\",\"method\":\"animate\"},{\"args\":[[\"150\"],{\"frame\":{\"duration\":100,\"redraw\":true},\"mode\":\"immediate\",\"transition\":{\"duration\":500}}],\"label\":\"150\",\"method\":\"animate\"},{\"args\":[[\"200\"],{\"frame\":{\"duration\":100,\"redraw\":true},\"mode\":\"immediate\",\"transition\":{\"duration\":500}}],\"label\":\"200\",\"method\":\"animate\"},{\"args\":[[\"250\"],{\"frame\":{\"duration\":100,\"redraw\":true},\"mode\":\"immediate\",\"transition\":{\"duration\":500}}],\"label\":\"250\",\"method\":\"animate\"},{\"args\":[[\"300\"],{\"frame\":{\"duration\":100,\"redraw\":true},\"mode\":\"immediate\",\"transition\":{\"duration\":500}}],\"label\":\"300\",\"method\":\"animate\"},{\"args\":[[\"350\"],{\"frame\":{\"duration\":100,\"redraw\":true},\"mode\":\"immediate\",\"transition\":{\"duration\":500}}],\"label\":\"350\",\"method\":\"animate\"},{\"args\":[[\"400\"],{\"frame\":{\"duration\":100,\"redraw\":true},\"mode\":\"immediate\",\"transition\":{\"duration\":500}}],\"label\":\"400\",\"method\":\"animate\"},{\"args\":[[\"450\"],{\"frame\":{\"duration\":100,\"redraw\":true},\"mode\":\"immediate\",\"transition\":{\"duration\":500}}],\"label\":\"450\",\"method\":\"animate\"},{\"args\":[[\"500\"],{\"frame\":{\"duration\":100,\"redraw\":true},\"mode\":\"immediate\",\"transition\":{\"duration\":500}}],\"label\":\"500\",\"method\":\"animate\"},{\"args\":[[\"550\"],{\"frame\":{\"duration\":100,\"redraw\":true},\"mode\":\"immediate\",\"transition\":{\"duration\":500}}],\"label\":\"550\",\"method\":\"animate\"},{\"args\":[[\"600\"],{\"frame\":{\"duration\":100,\"redraw\":true},\"mode\":\"immediate\",\"transition\":{\"duration\":500}}],\"label\":\"600\",\"method\":\"animate\"},{\"args\":[[\"650\"],{\"frame\":{\"duration\":100,\"redraw\":true},\"mode\":\"immediate\",\"transition\":{\"duration\":500}}],\"label\":\"650\",\"method\":\"animate\"},{\"args\":[[\"700\"],{\"frame\":{\"duration\":100,\"redraw\":true},\"mode\":\"immediate\",\"transition\":{\"duration\":500}}],\"label\":\"700\",\"method\":\"animate\"},{\"args\":[[\"750\"],{\"frame\":{\"duration\":100,\"redraw\":true},\"mode\":\"immediate\",\"transition\":{\"duration\":500}}],\"label\":\"750\",\"method\":\"animate\"},{\"args\":[[\"800\"],{\"frame\":{\"duration\":100,\"redraw\":true},\"mode\":\"immediate\",\"transition\":{\"duration\":500}}],\"label\":\"800\",\"method\":\"animate\"},{\"args\":[[\"850\"],{\"frame\":{\"duration\":100,\"redraw\":true},\"mode\":\"immediate\",\"transition\":{\"duration\":500}}],\"label\":\"850\",\"method\":\"animate\"}],\"transition\":{\"duration\":100,\"easing\":\"cubic-in-out\"},\"x\":0.1,\"xanchor\":\"left\",\"y\":0,\"yanchor\":\"top\"}],\"autosize\":false,\"width\":800,\"height\":800},                        {\"responsive\": true}                    ).then(function(){\n                            Plotly.addFrames('fe878f26-e2a3-4fbb-9e65-9ef194398351', [{\"data\":[{\"hoverinfo\":\"name\",\"line\":{\"color\":\"white\"},\"mode\":\"lines\",\"name\":\"Exterior\",\"showlegend\":false,\"x\":[10.1,10.1,15.0,15.0,13.6,13.6,15.0,15.0,13.6,13.6,15.0,15.0,10.1,10.1,9.9,9.9,5.1,5.1,4.9,4.9,0.0,0.0,1.5,1.5,0.0,0.0,1.5,1.5,0.0,0.0,4.9,4.9,5.1,5.1,9.9,9.9,10.1],\"y\":[1.5,0.0,0.0,4.9,4.9,5.1,5.1,9.9,9.9,10.1,10.1,15.0,15.0,13.6,13.6,15.0,15.0,13.6,13.6,15.0,15.0,10.1,10.1,9.9,9.9,5.1,5.1,4.9,4.9,0.0,0.0,1.5,1.5,0.0,0.0,1.5,1.5],\"type\":\"scatter\"},{\"hoverinfo\":\"name\",\"line\":{\"color\":\"white\"},\"mode\":\"lines\",\"name\":\"Obstacle\",\"showlegend\":false,\"x\":[10.1,11.5,11.5,10.1,10.1,9.9,9.9,8.6,8.6,9.9,9.9,10.1,10.1],\"y\":[5.1,5.1,4.9,4.9,3.6,3.6,4.9,4.9,5.1,5.1,6.5,6.5,5.1],\"type\":\"scatter\"},{\"hoverinfo\":\"name\",\"line\":{\"color\":\"white\"},\"mode\":\"lines\",\"name\":\"Obstacle\",\"showlegend\":false,\"x\":[10.1,11.5,11.5,10.1,10.1,9.9,9.9,8.6,8.6,9.9,9.9,10.1,10.1],\"y\":[10.1,10.1,9.9,9.9,8.6,8.6,9.9,9.9,10.1,10.1,11.5,11.5,10.1],\"type\":\"scatter\"},{\"hoverinfo\":\"name\",\"line\":{\"color\":\"white\"},\"mode\":\"lines\",\"name\":\"Obstacle\",\"showlegend\":false,\"x\":[5.1,6.4,6.4,5.1,5.1,4.9,4.9,3.6,3.6,4.9,4.9,5.1,5.1],\"y\":[5.1,5.1,4.9,4.9,3.6,3.6,4.9,4.9,5.1,5.1,6.5,6.5,5.1],\"type\":\"scatter\"},{\"hoverinfo\":\"name\",\"line\":{\"color\":\"white\"},\"mode\":\"lines\",\"name\":\"Obstacle\",\"showlegend\":false,\"x\":[5.1,6.4,6.4,5.1,5.1,4.9,4.9,3.6,3.6,4.9,4.9,5.1,5.1],\"y\":[10.1,10.1,9.9,9.9,8.6,8.6,9.9,9.9,10.1,10.1,11.5,11.5,10.1],\"type\":\"scatter\"},{\"fill\":\"toself\",\"fillcolor\":\"rgb(0, 0, 0)\",\"hoverinfo\":\"name\",\"line\":{\"width\":0},\"mode\":\"lines\",\"name\":\"Risk Area\",\"showlegend\":false,\"x\":[1.5,1.5,3.6,3.6,4.9,4.9,5.0,5.0,4.9,4.9,0.0,0.0,1.5],\"y\":[4.9,5.0,5.0,4.9,4.9,3.6,3.6,1.5,1.5,0.0,0.0,4.9,4.9],\"type\":\"scatter\"},{\"fill\":\"toself\",\"fillcolor\":\"rgb(153, 0, 0)\",\"hoverinfo\":\"name\",\"line\":{\"width\":0},\"mode\":\"lines\",\"name\":\"Risk Area\",\"showlegend\":false,\"x\":[9.9,9.9,5.1,5.1,5.0,5.0,5.1,5.1,6.4,6.4,8.6,8.6,9.9,9.9,10.0,10.0,9.9],\"y\":[1.5,0.0,0.0,1.5,1.5,3.6,3.6,4.9,4.9,5.0,5.0,4.9,4.9,3.6,3.6,1.5,1.5],\"type\":\"scatter\"},{\"fill\":\"toself\",\"fillcolor\":\"rgb(0, 0, 0)\",\"hoverinfo\":\"name\",\"line\":{\"width\":0},\"mode\":\"lines\",\"name\":\"Risk Area\",\"showlegend\":false,\"x\":[13.6,15.0,15.0,10.1,10.1,10.0,10.0,10.1,10.1,11.5,11.5,13.6,13.6],\"y\":[4.9,4.9,0.0,0.0,1.5,1.5,3.6,3.6,4.9,4.9,5.0,5.0,4.9],\"type\":\"scatter\"},{\"fill\":\"toself\",\"fillcolor\":\"rgb(153, 0, 0)\",\"hoverinfo\":\"name\",\"line\":{\"width\":0},\"mode\":\"lines\",\"name\":\"Risk Area\",\"showlegend\":false,\"x\":[13.6,15.0,15.0,13.6,13.6,11.5,11.5,10.1,10.1,10.0,10.0,10.1,10.1,11.5,11.5,13.6,13.6],\"y\":[9.9,9.9,5.1,5.1,5.0,5.0,5.1,5.1,6.5,6.5,8.6,8.6,9.9,9.9,10.0,10.0,9.9],\"type\":\"scatter\"},{\"fill\":\"toself\",\"fillcolor\":\"rgb(153, 0, 0)\",\"hoverinfo\":\"name\",\"line\":{\"width\":0},\"mode\":\"lines\",\"name\":\"Risk Area\",\"showlegend\":false,\"x\":[9.9,9.9,8.6,8.6,6.4,6.4,5.1,5.1,5.0,5.0,5.1,5.1,6.4,6.4,8.6,8.6,9.9,9.9,10.0,10.0,9.9],\"y\":[6.5,5.1,5.1,5.0,5.0,5.1,5.1,6.5,6.5,8.6,8.6,9.9,9.9,10.0,10.0,9.9,9.9,8.6,8.6,6.5,6.5],\"type\":\"scatter\"},{\"fill\":\"toself\",\"fillcolor\":\"rgb(25, 0, 0)\",\"hoverinfo\":\"name\",\"line\":{\"width\":0},\"mode\":\"lines\",\"name\":\"Risk Area\",\"showlegend\":false,\"x\":[4.9,4.9,3.6,3.6,1.5,1.5,0.0,0.0,1.5,1.5,3.6,3.6,4.9,4.9,5.0,5.0,4.9],\"y\":[6.5,5.1,5.1,5.0,5.0,5.1,5.1,9.9,9.9,10.0,10.0,9.9,9.9,8.6,8.6,6.5,6.5],\"type\":\"scatter\"},{\"fill\":\"toself\",\"fillcolor\":\"rgb(0, 0, 0)\",\"hoverinfo\":\"name\",\"line\":{\"width\":0},\"mode\":\"lines\",\"name\":\"Risk Area\",\"showlegend\":false,\"x\":[1.5,0.0,0.0,4.9,4.9,5.0,5.0,4.9,4.9,3.6,3.6,1.5,1.5],\"y\":[10.1,10.1,15.0,15.0,13.6,13.6,11.5,11.5,10.1,10.1,10.0,10.0,10.1],\"type\":\"scatter\"},{\"fill\":\"toself\",\"fillcolor\":\"rgb(0, 0, 0)\",\"hoverinfo\":\"name\",\"line\":{\"width\":0},\"mode\":\"lines\",\"name\":\"Risk Area\",\"showlegend\":false,\"x\":[6.4,5.1,5.1,5.0,5.0,5.1,5.1,9.9,9.9,10.0,10.0,9.9,9.9,8.6,8.6,6.4,6.4],\"y\":[10.1,10.1,11.5,11.5,13.6,13.6,15.0,15.0,13.6,13.6,11.5,11.5,10.1,10.1,10.0,10.0,10.1],\"type\":\"scatter\"},{\"fill\":\"toself\",\"fillcolor\":\"rgb(0, 0, 0)\",\"hoverinfo\":\"name\",\"line\":{\"width\":0},\"mode\":\"lines\",\"name\":\"Risk Area\",\"showlegend\":false,\"x\":[10.1,10.1,15.0,15.0,13.6,13.6,11.5,11.5,10.1,10.1,10.0,10.0,10.1],\"y\":[13.6,15.0,15.0,10.1,10.1,10.0,10.0,10.1,10.1,11.5,11.5,13.6,13.6],\"type\":\"scatter\"},{\"hoverinfo\":\"text\",\"marker\":{\"opacity\":1,\"size\":1},\"mode\":\"markers\",\"showlegend\":false,\"text\":[\"ID: 101, Pos(3.99,4.27)\"],\"x\":[3.9863327738146737],\"y\":[4.268834270066489],\"type\":\"scatter\"},{\"hoverinfo\":\"text\",\"marker\":{\"opacity\":1,\"size\":1},\"mode\":\"markers\",\"showlegend\":false,\"text\":[\"ID: 102, Pos(0.85,1.64)\"],\"x\":[0.8488279016949318],\"y\":[1.6370406488593048],\"type\":\"scatter\"},{\"hoverinfo\":\"text\",\"marker\":{\"opacity\":1,\"size\":1},\"mode\":\"markers\",\"showlegend\":false,\"text\":[\"ID: 103, Pos(1.73,1.60)\"],\"x\":[1.7258968673840784],\"y\":[1.5962220773638665],\"type\":\"scatter\"},{\"hoverinfo\":\"text\",\"marker\":{\"opacity\":1,\"size\":1},\"mode\":\"markers\",\"showlegend\":false,\"text\":[\"ID: 104, Pos(2.12,3.52)\"],\"x\":[2.116160882427272],\"y\":[3.5204353653542206],\"type\":\"scatter\"},{\"hoverinfo\":\"text\",\"marker\":{\"opacity\":1,\"size\":1},\"mode\":\"markers\",\"showlegend\":false,\"text\":[\"ID: 105, Pos(1.69,2.80)\"],\"x\":[1.692259232863783],\"y\":[2.7972929381969065],\"type\":\"scatter\"},{\"hoverinfo\":\"text\",\"marker\":{\"opacity\":1,\"size\":1},\"mode\":\"markers\",\"showlegend\":false,\"text\":[\"ID: 106, Pos(1.45,3.66)\"],\"x\":[1.453767774845684],\"y\":[3.6607508930614516],\"type\":\"scatter\"},{\"hoverinfo\":\"text\",\"marker\":{\"opacity\":1,\"size\":1},\"mode\":\"markers\",\"showlegend\":false,\"text\":[\"ID: 107, Pos(3.07,4.23)\"],\"x\":[3.0719865838614573],\"y\":[4.234745501580994],\"type\":\"scatter\"},{\"hoverinfo\":\"text\",\"marker\":{\"opacity\":1,\"size\":1},\"mode\":\"markers\",\"showlegend\":false,\"text\":[\"ID: 108, Pos(3.49,1.96)\"],\"x\":[3.48879726462054],\"y\":[1.9561046634672852],\"type\":\"scatter\"},{\"hoverinfo\":\"text\",\"marker\":{\"opacity\":1,\"size\":1},\"mode\":\"markers\",\"showlegend\":false,\"text\":[\"ID: 109, Pos(1.70,3.31)\"],\"x\":[1.7042831428492793],\"y\":[3.3139640340517103],\"type\":\"scatter\"},{\"hoverinfo\":\"text\",\"marker\":{\"opacity\":1,\"size\":1},\"mode\":\"markers\",\"showlegend\":false,\"text\":[\"ID: 110, Pos(1.76,2.25)\"],\"x\":[1.7565776142251517],\"y\":[2.253852105302265],\"type\":\"scatter\"}],\"layout\":{\"shapes\":[{\"fillcolor\":\"rgba(0, 0, 128, 0.5)\",\"line\":{\"color\":\"rgba(0, 0, 128, 0.5)\"},\"type\":\"circle\",\"x0\":3.7863327738146735,\"x1\":4.186332773814674,\"xref\":\"x\",\"y0\":4.068834270066489,\"y1\":4.468834270066489,\"yref\":\"y\"},{\"fillcolor\":\"rgba(15, 248, 231, 0.5)\",\"line\":{\"color\":\"rgba(15, 248, 231, 0.5)\"},\"type\":\"circle\",\"x0\":0.6488279016949319,\"x1\":1.0488279016949318,\"xref\":\"x\",\"y0\":1.4370406488593048,\"y1\":1.8370406488593047,\"yref\":\"y\"},{\"fillcolor\":\"rgba(0, 0, 128, 0.5)\",\"line\":{\"color\":\"rgba(0, 0, 128, 0.5)\"},\"type\":\"circle\",\"x0\":1.5258968673840785,\"x1\":1.9258968673840784,\"xref\":\"x\",\"y0\":1.3962220773638665,\"y1\":1.7962220773638664,\"yref\":\"y\"},{\"fillcolor\":\"rgba(0, 0, 128, 0.5)\",\"line\":{\"color\":\"rgba(0, 0, 128, 0.5)\"},\"type\":\"circle\",\"x0\":1.916160882427272,\"x1\":2.316160882427272,\"xref\":\"x\",\"y0\":3.3204353653542205,\"y1\":3.720435365354221,\"yref\":\"y\"},{\"fillcolor\":\"rgba(0, 0, 128, 0.5)\",\"line\":{\"color\":\"rgba(0, 0, 128, 0.5)\"},\"type\":\"circle\",\"x0\":1.4922592328637831,\"x1\":1.892259232863783,\"xref\":\"x\",\"y0\":2.5972929381969063,\"y1\":2.9972929381969067,\"yref\":\"y\"},{\"fillcolor\":\"rgba(0, 0, 237, 0.5)\",\"line\":{\"color\":\"rgba(0, 0, 237, 0.5)\"},\"type\":\"circle\",\"x0\":1.2537677748456841,\"x1\":1.653767774845684,\"xref\":\"x\",\"y0\":3.4607508930614514,\"y1\":3.860750893061452,\"yref\":\"y\"},{\"fillcolor\":\"rgba(0, 112, 255, 0.5)\",\"line\":{\"color\":\"rgba(0, 112, 255, 0.5)\"},\"type\":\"circle\",\"x0\":2.871986583861457,\"x1\":3.2719865838614575,\"xref\":\"x\",\"y0\":4.034745501580994,\"y1\":4.434745501580994,\"yref\":\"y\"},{\"fillcolor\":\"rgba(0, 0, 128, 0.5)\",\"line\":{\"color\":\"rgba(0, 0, 128, 0.5)\"},\"type\":\"circle\",\"x0\":3.28879726462054,\"x1\":3.6887972646205403,\"xref\":\"x\",\"y0\":1.7561046634672852,\"y1\":2.156104663467285,\"yref\":\"y\"},{\"fillcolor\":\"rgba(255, 222, 0, 0.5)\",\"line\":{\"color\":\"rgba(255, 222, 0, 0.5)\"},\"type\":\"circle\",\"x0\":1.5042831428492793,\"x1\":1.9042831428492792,\"xref\":\"x\",\"y0\":3.11396403405171,\"y1\":3.5139640340517104,\"yref\":\"y\"},{\"fillcolor\":\"rgba(0, 0, 128, 0.5)\",\"line\":{\"color\":\"rgba(0, 0, 128, 0.5)\"},\"type\":\"circle\",\"x0\":1.5565776142251517,\"x1\":1.9565776142251516,\"xref\":\"x\",\"y0\":2.0538521053022647,\"y1\":2.453852105302265,\"yref\":\"y\"},{\"line\":{\"color\":\"white\",\"width\":3},\"type\":\"line\",\"x0\":3.9863327738146737,\"x1\":3.9863327738146737,\"y0\":4.268834270066489,\"y1\":4.268834270066489},{\"line\":{\"color\":\"black\",\"width\":3},\"type\":\"line\",\"x0\":0.8488279016949318,\"x1\":0.8488279016949318,\"y0\":1.6370406488593048,\"y1\":1.6370406488593048},{\"line\":{\"color\":\"white\",\"width\":3},\"type\":\"line\",\"x0\":1.7258968673840784,\"x1\":1.7258968673840784,\"y0\":1.5962220773638665,\"y1\":1.5962220773638665},{\"line\":{\"color\":\"white\",\"width\":3},\"type\":\"line\",\"x0\":2.116160882427272,\"x1\":2.116160882427272,\"y0\":3.5204353653542206,\"y1\":3.5204353653542206},{\"line\":{\"color\":\"white\",\"width\":3},\"type\":\"line\",\"x0\":1.692259232863783,\"x1\":1.692259232863783,\"y0\":2.7972929381969065,\"y1\":2.7972929381969065},{\"line\":{\"color\":\"white\",\"width\":3},\"type\":\"line\",\"x0\":1.453767774845684,\"x1\":1.453767774845684,\"y0\":3.6607508930614516,\"y1\":3.6607508930614516},{\"line\":{\"color\":\"white\",\"width\":3},\"type\":\"line\",\"x0\":3.0719865838614573,\"x1\":3.0719865838614573,\"y0\":4.234745501580994,\"y1\":4.234745501580994},{\"line\":{\"color\":\"white\",\"width\":3},\"type\":\"line\",\"x0\":3.48879726462054,\"x1\":3.48879726462054,\"y0\":1.9561046634672852,\"y1\":1.9561046634672852},{\"line\":{\"color\":\"black\",\"width\":3},\"type\":\"line\",\"x0\":1.7042831428492793,\"x1\":1.7042831428492793,\"y0\":3.3139640340517103,\"y1\":3.3139640340517103},{\"line\":{\"color\":\"white\",\"width\":3},\"type\":\"line\",\"x0\":1.7565776142251517,\"x1\":1.7565776142251517,\"y0\":2.253852105302265,\"y1\":2.253852105302265}],\"title\":{\"text\":\"\\u003cb\\u003ePercentage using the shortest path: 0%  |  Number of Agents: 10\\u003c\\u002fb\\u003e\",\"x\":0.5}},\"name\":\"0\"},{\"data\":[{\"hoverinfo\":\"name\",\"line\":{\"color\":\"white\"},\"mode\":\"lines\",\"name\":\"Exterior\",\"showlegend\":false,\"x\":[10.1,10.1,15.0,15.0,13.6,13.6,15.0,15.0,13.6,13.6,15.0,15.0,10.1,10.1,9.9,9.9,5.1,5.1,4.9,4.9,0.0,0.0,1.5,1.5,0.0,0.0,1.5,1.5,0.0,0.0,4.9,4.9,5.1,5.1,9.9,9.9,10.1],\"y\":[1.5,0.0,0.0,4.9,4.9,5.1,5.1,9.9,9.9,10.1,10.1,15.0,15.0,13.6,13.6,15.0,15.0,13.6,13.6,15.0,15.0,10.1,10.1,9.9,9.9,5.1,5.1,4.9,4.9,0.0,0.0,1.5,1.5,0.0,0.0,1.5,1.5],\"type\":\"scatter\"},{\"hoverinfo\":\"name\",\"line\":{\"color\":\"white\"},\"mode\":\"lines\",\"name\":\"Obstacle\",\"showlegend\":false,\"x\":[10.1,11.5,11.5,10.1,10.1,9.9,9.9,8.6,8.6,9.9,9.9,10.1,10.1],\"y\":[5.1,5.1,4.9,4.9,3.6,3.6,4.9,4.9,5.1,5.1,6.5,6.5,5.1],\"type\":\"scatter\"},{\"hoverinfo\":\"name\",\"line\":{\"color\":\"white\"},\"mode\":\"lines\",\"name\":\"Obstacle\",\"showlegend\":false,\"x\":[10.1,11.5,11.5,10.1,10.1,9.9,9.9,8.6,8.6,9.9,9.9,10.1,10.1],\"y\":[10.1,10.1,9.9,9.9,8.6,8.6,9.9,9.9,10.1,10.1,11.5,11.5,10.1],\"type\":\"scatter\"},{\"hoverinfo\":\"name\",\"line\":{\"color\":\"white\"},\"mode\":\"lines\",\"name\":\"Obstacle\",\"showlegend\":false,\"x\":[5.1,6.4,6.4,5.1,5.1,4.9,4.9,3.6,3.6,4.9,4.9,5.1,5.1],\"y\":[5.1,5.1,4.9,4.9,3.6,3.6,4.9,4.9,5.1,5.1,6.5,6.5,5.1],\"type\":\"scatter\"},{\"hoverinfo\":\"name\",\"line\":{\"color\":\"white\"},\"mode\":\"lines\",\"name\":\"Obstacle\",\"showlegend\":false,\"x\":[5.1,6.4,6.4,5.1,5.1,4.9,4.9,3.6,3.6,4.9,4.9,5.1,5.1],\"y\":[10.1,10.1,9.9,9.9,8.6,8.6,9.9,9.9,10.1,10.1,11.5,11.5,10.1],\"type\":\"scatter\"},{\"fill\":\"toself\",\"fillcolor\":\"rgb(0, 0, 0)\",\"hoverinfo\":\"name\",\"line\":{\"width\":0},\"mode\":\"lines\",\"name\":\"Risk Area\",\"showlegend\":false,\"x\":[1.5,1.5,3.6,3.6,4.9,4.9,5.0,5.0,4.9,4.9,0.0,0.0,1.5],\"y\":[4.9,5.0,5.0,4.9,4.9,3.6,3.6,1.5,1.5,0.0,0.0,4.9,4.9],\"type\":\"scatter\"},{\"fill\":\"toself\",\"fillcolor\":\"rgb(153, 0, 0)\",\"hoverinfo\":\"name\",\"line\":{\"width\":0},\"mode\":\"lines\",\"name\":\"Risk Area\",\"showlegend\":false,\"x\":[9.9,9.9,5.1,5.1,5.0,5.0,5.1,5.1,6.4,6.4,8.6,8.6,9.9,9.9,10.0,10.0,9.9],\"y\":[1.5,0.0,0.0,1.5,1.5,3.6,3.6,4.9,4.9,5.0,5.0,4.9,4.9,3.6,3.6,1.5,1.5],\"type\":\"scatter\"},{\"fill\":\"toself\",\"fillcolor\":\"rgb(0, 0, 0)\",\"hoverinfo\":\"name\",\"line\":{\"width\":0},\"mode\":\"lines\",\"name\":\"Risk Area\",\"showlegend\":false,\"x\":[13.6,15.0,15.0,10.1,10.1,10.0,10.0,10.1,10.1,11.5,11.5,13.6,13.6],\"y\":[4.9,4.9,0.0,0.0,1.5,1.5,3.6,3.6,4.9,4.9,5.0,5.0,4.9],\"type\":\"scatter\"},{\"fill\":\"toself\",\"fillcolor\":\"rgb(153, 0, 0)\",\"hoverinfo\":\"name\",\"line\":{\"width\":0},\"mode\":\"lines\",\"name\":\"Risk Area\",\"showlegend\":false,\"x\":[13.6,15.0,15.0,13.6,13.6,11.5,11.5,10.1,10.1,10.0,10.0,10.1,10.1,11.5,11.5,13.6,13.6],\"y\":[9.9,9.9,5.1,5.1,5.0,5.0,5.1,5.1,6.5,6.5,8.6,8.6,9.9,9.9,10.0,10.0,9.9],\"type\":\"scatter\"},{\"fill\":\"toself\",\"fillcolor\":\"rgb(153, 0, 0)\",\"hoverinfo\":\"name\",\"line\":{\"width\":0},\"mode\":\"lines\",\"name\":\"Risk Area\",\"showlegend\":false,\"x\":[9.9,9.9,8.6,8.6,6.4,6.4,5.1,5.1,5.0,5.0,5.1,5.1,6.4,6.4,8.6,8.6,9.9,9.9,10.0,10.0,9.9],\"y\":[6.5,5.1,5.1,5.0,5.0,5.1,5.1,6.5,6.5,8.6,8.6,9.9,9.9,10.0,10.0,9.9,9.9,8.6,8.6,6.5,6.5],\"type\":\"scatter\"},{\"fill\":\"toself\",\"fillcolor\":\"rgb(25, 0, 0)\",\"hoverinfo\":\"name\",\"line\":{\"width\":0},\"mode\":\"lines\",\"name\":\"Risk Area\",\"showlegend\":false,\"x\":[4.9,4.9,3.6,3.6,1.5,1.5,0.0,0.0,1.5,1.5,3.6,3.6,4.9,4.9,5.0,5.0,4.9],\"y\":[6.5,5.1,5.1,5.0,5.0,5.1,5.1,9.9,9.9,10.0,10.0,9.9,9.9,8.6,8.6,6.5,6.5],\"type\":\"scatter\"},{\"fill\":\"toself\",\"fillcolor\":\"rgb(0, 0, 0)\",\"hoverinfo\":\"name\",\"line\":{\"width\":0},\"mode\":\"lines\",\"name\":\"Risk Area\",\"showlegend\":false,\"x\":[1.5,0.0,0.0,4.9,4.9,5.0,5.0,4.9,4.9,3.6,3.6,1.5,1.5],\"y\":[10.1,10.1,15.0,15.0,13.6,13.6,11.5,11.5,10.1,10.1,10.0,10.0,10.1],\"type\":\"scatter\"},{\"fill\":\"toself\",\"fillcolor\":\"rgb(0, 0, 0)\",\"hoverinfo\":\"name\",\"line\":{\"width\":0},\"mode\":\"lines\",\"name\":\"Risk Area\",\"showlegend\":false,\"x\":[6.4,5.1,5.1,5.0,5.0,5.1,5.1,9.9,9.9,10.0,10.0,9.9,9.9,8.6,8.6,6.4,6.4],\"y\":[10.1,10.1,11.5,11.5,13.6,13.6,15.0,15.0,13.6,13.6,11.5,11.5,10.1,10.1,10.0,10.0,10.1],\"type\":\"scatter\"},{\"fill\":\"toself\",\"fillcolor\":\"rgb(0, 0, 0)\",\"hoverinfo\":\"name\",\"line\":{\"width\":0},\"mode\":\"lines\",\"name\":\"Risk Area\",\"showlegend\":false,\"x\":[10.1,10.1,15.0,15.0,13.6,13.6,11.5,11.5,10.1,10.1,10.0,10.0,10.1],\"y\":[13.6,15.0,15.0,10.1,10.1,10.0,10.0,10.1,10.1,11.5,11.5,13.6,13.6],\"type\":\"scatter\"},{\"hoverinfo\":\"text\",\"marker\":{\"opacity\":1,\"size\":1},\"mode\":\"markers\",\"showlegend\":false,\"text\":[\"ID: 101, Pos(3.62,4.57)\"],\"x\":[3.624663867004494],\"y\":[4.572942041072394],\"type\":\"scatter\"},{\"hoverinfo\":\"text\",\"marker\":{\"opacity\":1,\"size\":1},\"mode\":\"markers\",\"showlegend\":false,\"text\":[\"ID: 102, Pos(1.37,2.85)\"],\"x\":[1.3726374518931295],\"y\":[2.8458001230525047],\"type\":\"scatter\"},{\"hoverinfo\":\"text\",\"marker\":{\"opacity\":1,\"size\":1},\"mode\":\"markers\",\"showlegend\":false,\"text\":[\"ID: 103, Pos(2.15,1.87)\"],\"x\":[2.1468923029348774],\"y\":[1.868570495335488],\"type\":\"scatter\"},{\"hoverinfo\":\"text\",\"marker\":{\"opacity\":1,\"size\":1},\"mode\":\"markers\",\"showlegend\":false,\"text\":[\"ID: 104, Pos(2.57,4.71)\"],\"x\":[2.5685625821921643],\"y\":[4.709391544762826],\"type\":\"scatter\"},{\"hoverinfo\":\"text\",\"marker\":{\"opacity\":1,\"size\":1},\"mode\":\"markers\",\"showlegend\":false,\"text\":[\"ID: 105, Pos(2.14,3.19)\"],\"x\":[2.135724068214924],\"y\":[3.1861311292691084],\"type\":\"scatter\"},{\"hoverinfo\":\"text\",\"marker\":{\"opacity\":1,\"size\":1},\"mode\":\"markers\",\"showlegend\":false,\"text\":[\"ID: 106, Pos(1.96,5.04)\"],\"x\":[1.960579232601007],\"y\":[5.040717503395859],\"type\":\"scatter\"},{\"hoverinfo\":\"text\",\"marker\":{\"opacity\":1,\"size\":1},\"mode\":\"markers\",\"showlegend\":false,\"text\":[\"ID: 107, Pos(3.03,5.28)\"],\"x\":[3.034440411887453],\"y\":[5.278552531984465],\"type\":\"scatter\"},{\"hoverinfo\":\"text\",\"marker\":{\"opacity\":1,\"size\":1},\"mode\":\"markers\",\"showlegend\":false,\"text\":[\"ID: 108, Pos(3.59,3.17)\"],\"x\":[3.5916390920039114],\"y\":[3.1733961277269316],\"type\":\"scatter\"},{\"hoverinfo\":\"text\",\"marker\":{\"opacity\":1,\"size\":1},\"mode\":\"markers\",\"showlegend\":false,\"text\":[\"ID: 109, Pos(1.89,3.98)\"],\"x\":[1.887176775050277],\"y\":[3.9845793231642537],\"type\":\"scatter\"},{\"hoverinfo\":\"text\",\"marker\":{\"opacity\":1,\"size\":1},\"mode\":\"markers\",\"showlegend\":false,\"text\":[\"ID: 110, Pos(2.19,2.50)\"],\"x\":[2.1870682441532456],\"y\":[2.495098850517011],\"type\":\"scatter\"}],\"layout\":{\"shapes\":[{\"fillcolor\":\"rgba(0, 128, 255, 0.5)\",\"line\":{\"color\":\"rgba(0, 128, 255, 0.5)\"},\"type\":\"circle\",\"x0\":3.4246638670044938,\"x1\":3.824663867004494,\"xref\":\"x\",\"y0\":4.372942041072394,\"y1\":4.772942041072394,\"yref\":\"y\"},{\"fillcolor\":\"rgba(0, 0, 128, 0.5)\",\"line\":{\"color\":\"rgba(0, 0, 128, 0.5)\"},\"type\":\"circle\",\"x0\":1.1726374518931295,\"x1\":1.5726374518931294,\"xref\":\"x\",\"y0\":2.6458001230525046,\"y1\":3.045800123052505,\"yref\":\"y\"},{\"fillcolor\":\"rgba(255, 178, 0, 0.5)\",\"line\":{\"color\":\"rgba(255, 178, 0, 0.5)\"},\"type\":\"circle\",\"x0\":1.9468923029348775,\"x1\":2.3468923029348776,\"xref\":\"x\",\"y0\":1.668570495335488,\"y1\":2.068570495335488,\"yref\":\"y\"},{\"fillcolor\":\"rgba(0, 0, 128, 0.5)\",\"line\":{\"color\":\"rgba(0, 0, 128, 0.5)\"},\"type\":\"circle\",\"x0\":2.368562582192164,\"x1\":2.7685625821921644,\"xref\":\"x\",\"y0\":4.509391544762826,\"y1\":4.909391544762826,\"yref\":\"y\"},{\"fillcolor\":\"rgba(90, 255, 157, 0.5)\",\"line\":{\"color\":\"rgba(90, 255, 157, 0.5)\"},\"type\":\"circle\",\"x0\":1.9357240682149242,\"x1\":2.3357240682149243,\"xref\":\"x\",\"y0\":2.986131129269108,\"y1\":3.3861311292691085,\"yref\":\"y\"},{\"fillcolor\":\"rgba(0, 0, 128, 0.5)\",\"line\":{\"color\":\"rgba(0, 0, 128, 0.5)\"},\"type\":\"circle\",\"x0\":1.760579232601007,\"x1\":2.160579232601007,\"xref\":\"x\",\"y0\":4.840717503395859,\"y1\":5.240717503395859,\"yref\":\"y\"},{\"fillcolor\":\"rgba(0, 0, 128, 0.5)\",\"line\":{\"color\":\"rgba(0, 0, 128, 0.5)\"},\"type\":\"circle\",\"x0\":2.834440411887453,\"x1\":3.2344404118874532,\"xref\":\"x\",\"y0\":5.078552531984465,\"y1\":5.478552531984465,\"yref\":\"y\"},{\"fillcolor\":\"rgba(0, 0, 128, 0.5)\",\"line\":{\"color\":\"rgba(0, 0, 128, 0.5)\"},\"type\":\"circle\",\"x0\":3.3916390920039112,\"x1\":3.7916390920039116,\"xref\":\"x\",\"y0\":2.9733961277269314,\"y1\":3.3733961277269318,\"yref\":\"y\"},{\"fillcolor\":\"rgba(0, 53, 255, 0.5)\",\"line\":{\"color\":\"rgba(0, 53, 255, 0.5)\"},\"type\":\"circle\",\"x0\":1.687176775050277,\"x1\":2.087176775050277,\"xref\":\"x\",\"y0\":3.7845793231642535,\"y1\":4.184579323164254,\"yref\":\"y\"},{\"fillcolor\":\"rgba(238, 255, 9, 0.5)\",\"line\":{\"color\":\"rgba(238, 255, 9, 0.5)\"},\"type\":\"circle\",\"x0\":1.9870682441532457,\"x1\":2.387068244153246,\"xref\":\"x\",\"y0\":2.295098850517011,\"y1\":2.6950988505170113,\"yref\":\"y\"},{\"line\":{\"color\":\"white\",\"width\":3},\"type\":\"line\",\"x0\":3.624663867004494,\"x1\":3.424974445443303,\"y0\":4.572942041072394,\"y1\":4.584083626083376},{\"line\":{\"color\":\"white\",\"width\":3},\"type\":\"line\",\"x0\":1.3726374518931295,\"x1\":1.4105350643284174,\"y0\":2.8458001230525047,\"y1\":3.0421767280025462},{\"line\":{\"color\":\"black\",\"width\":3},\"type\":\"line\",\"x0\":2.1468923029348774,\"x1\":2.1594252159539273,\"y0\":1.868570495335488,\"y1\":2.068177424301536},{\"line\":{\"color\":\"white\",\"width\":3},\"type\":\"line\",\"x0\":2.5685625821921643,\"x1\":2.578214239732299,\"y0\":4.709391544762826,\"y1\":4.909158522781537},{\"line\":{\"color\":\"black\",\"width\":3},\"type\":\"line\",\"x0\":2.135724068214924,\"x1\":2.1558988958439422,\"y0\":3.1861311292691084,\"y1\":3.3851109682733136},{\"line\":{\"color\":\"white\",\"width\":3},\"type\":\"line\",\"x0\":1.960579232601007,\"x1\":1.9910900807831045,\"y0\":5.040717503395859,\"y1\":5.238376523284173},{\"line\":{\"color\":\"white\",\"width\":3},\"type\":\"line\",\"x0\":3.034440411887453,\"x1\":2.9992777218855466,\"y0\":5.278552531984465,\"y1\":5.475437232334263},{\"line\":{\"color\":\"white\",\"width\":3},\"type\":\"line\",\"x0\":3.5916390920039114,\"x1\":3.542722206616879,\"y0\":3.1733961277269316,\"y1\":3.3673217276977243},{\"line\":{\"color\":\"white\",\"width\":3},\"type\":\"line\",\"x0\":1.887176775050277,\"x1\":1.91789447937893,\"y0\":3.9845793231642537,\"y1\":4.182206301688891},{\"line\":{\"color\":\"black\",\"width\":3},\"type\":\"line\",\"x0\":2.1870682441532456,\"x1\":2.2064155038077296,\"y0\":2.495098850517011,\"y1\":2.694160859810251}],\"title\":{\"text\":\"\\u003cb\\u003ePercentage using the shortest path: 0%  |  Number of Agents: 10\\u003c\\u002fb\\u003e\",\"x\":0.5}},\"name\":\"50\"},{\"data\":[{\"hoverinfo\":\"name\",\"line\":{\"color\":\"white\"},\"mode\":\"lines\",\"name\":\"Exterior\",\"showlegend\":false,\"x\":[10.1,10.1,15.0,15.0,13.6,13.6,15.0,15.0,13.6,13.6,15.0,15.0,10.1,10.1,9.9,9.9,5.1,5.1,4.9,4.9,0.0,0.0,1.5,1.5,0.0,0.0,1.5,1.5,0.0,0.0,4.9,4.9,5.1,5.1,9.9,9.9,10.1],\"y\":[1.5,0.0,0.0,4.9,4.9,5.1,5.1,9.9,9.9,10.1,10.1,15.0,15.0,13.6,13.6,15.0,15.0,13.6,13.6,15.0,15.0,10.1,10.1,9.9,9.9,5.1,5.1,4.9,4.9,0.0,0.0,1.5,1.5,0.0,0.0,1.5,1.5],\"type\":\"scatter\"},{\"hoverinfo\":\"name\",\"line\":{\"color\":\"white\"},\"mode\":\"lines\",\"name\":\"Obstacle\",\"showlegend\":false,\"x\":[10.1,11.5,11.5,10.1,10.1,9.9,9.9,8.6,8.6,9.9,9.9,10.1,10.1],\"y\":[5.1,5.1,4.9,4.9,3.6,3.6,4.9,4.9,5.1,5.1,6.5,6.5,5.1],\"type\":\"scatter\"},{\"hoverinfo\":\"name\",\"line\":{\"color\":\"white\"},\"mode\":\"lines\",\"name\":\"Obstacle\",\"showlegend\":false,\"x\":[10.1,11.5,11.5,10.1,10.1,9.9,9.9,8.6,8.6,9.9,9.9,10.1,10.1],\"y\":[10.1,10.1,9.9,9.9,8.6,8.6,9.9,9.9,10.1,10.1,11.5,11.5,10.1],\"type\":\"scatter\"},{\"hoverinfo\":\"name\",\"line\":{\"color\":\"white\"},\"mode\":\"lines\",\"name\":\"Obstacle\",\"showlegend\":false,\"x\":[5.1,6.4,6.4,5.1,5.1,4.9,4.9,3.6,3.6,4.9,4.9,5.1,5.1],\"y\":[5.1,5.1,4.9,4.9,3.6,3.6,4.9,4.9,5.1,5.1,6.5,6.5,5.1],\"type\":\"scatter\"},{\"hoverinfo\":\"name\",\"line\":{\"color\":\"white\"},\"mode\":\"lines\",\"name\":\"Obstacle\",\"showlegend\":false,\"x\":[5.1,6.4,6.4,5.1,5.1,4.9,4.9,3.6,3.6,4.9,4.9,5.1,5.1],\"y\":[10.1,10.1,9.9,9.9,8.6,8.6,9.9,9.9,10.1,10.1,11.5,11.5,10.1],\"type\":\"scatter\"},{\"fill\":\"toself\",\"fillcolor\":\"rgb(0, 0, 0)\",\"hoverinfo\":\"name\",\"line\":{\"width\":0},\"mode\":\"lines\",\"name\":\"Risk Area\",\"showlegend\":false,\"x\":[1.5,1.5,3.6,3.6,4.9,4.9,5.0,5.0,4.9,4.9,0.0,0.0,1.5],\"y\":[4.9,5.0,5.0,4.9,4.9,3.6,3.6,1.5,1.5,0.0,0.0,4.9,4.9],\"type\":\"scatter\"},{\"fill\":\"toself\",\"fillcolor\":\"rgb(204, 0, 0)\",\"hoverinfo\":\"name\",\"line\":{\"width\":0},\"mode\":\"lines\",\"name\":\"Risk Area\",\"showlegend\":false,\"x\":[9.9,9.9,5.1,5.1,5.0,5.0,5.1,5.1,6.4,6.4,8.6,8.6,9.9,9.9,10.0,10.0,9.9],\"y\":[1.5,0.0,0.0,1.5,1.5,3.6,3.6,4.9,4.9,5.0,5.0,4.9,4.9,3.6,3.6,1.5,1.5],\"type\":\"scatter\"},{\"fill\":\"toself\",\"fillcolor\":\"rgb(0, 0, 0)\",\"hoverinfo\":\"name\",\"line\":{\"width\":0},\"mode\":\"lines\",\"name\":\"Risk Area\",\"showlegend\":false,\"x\":[13.6,15.0,15.0,10.1,10.1,10.0,10.0,10.1,10.1,11.5,11.5,13.6,13.6],\"y\":[4.9,4.9,0.0,0.0,1.5,1.5,3.6,3.6,4.9,4.9,5.0,5.0,4.9],\"type\":\"scatter\"},{\"fill\":\"toself\",\"fillcolor\":\"rgb(153, 0, 0)\",\"hoverinfo\":\"name\",\"line\":{\"width\":0},\"mode\":\"lines\",\"name\":\"Risk Area\",\"showlegend\":false,\"x\":[13.6,15.0,15.0,13.6,13.6,11.5,11.5,10.1,10.1,10.0,10.0,10.1,10.1,11.5,11.5,13.6,13.6],\"y\":[9.9,9.9,5.1,5.1,5.0,5.0,5.1,5.1,6.5,6.5,8.6,8.6,9.9,9.9,10.0,10.0,9.9],\"type\":\"scatter\"},{\"fill\":\"toself\",\"fillcolor\":\"rgb(153, 0, 0)\",\"hoverinfo\":\"name\",\"line\":{\"width\":0},\"mode\":\"lines\",\"name\":\"Risk Area\",\"showlegend\":false,\"x\":[9.9,9.9,8.6,8.6,6.4,6.4,5.1,5.1,5.0,5.0,5.1,5.1,6.4,6.4,8.6,8.6,9.9,9.9,10.0,10.0,9.9],\"y\":[6.5,5.1,5.1,5.0,5.0,5.1,5.1,6.5,6.5,8.6,8.6,9.9,9.9,10.0,10.0,9.9,9.9,8.6,8.6,6.5,6.5],\"type\":\"scatter\"},{\"fill\":\"toself\",\"fillcolor\":\"rgb(25, 0, 0)\",\"hoverinfo\":\"name\",\"line\":{\"width\":0},\"mode\":\"lines\",\"name\":\"Risk Area\",\"showlegend\":false,\"x\":[4.9,4.9,3.6,3.6,1.5,1.5,0.0,0.0,1.5,1.5,3.6,3.6,4.9,4.9,5.0,5.0,4.9],\"y\":[6.5,5.1,5.1,5.0,5.0,5.1,5.1,9.9,9.9,10.0,10.0,9.9,9.9,8.6,8.6,6.5,6.5],\"type\":\"scatter\"},{\"fill\":\"toself\",\"fillcolor\":\"rgb(51, 0, 0)\",\"hoverinfo\":\"name\",\"line\":{\"width\":0},\"mode\":\"lines\",\"name\":\"Risk Area\",\"showlegend\":false,\"x\":[1.5,0.0,0.0,4.9,4.9,5.0,5.0,4.9,4.9,3.6,3.6,1.5,1.5],\"y\":[10.1,10.1,15.0,15.0,13.6,13.6,11.5,11.5,10.1,10.1,10.0,10.0,10.1],\"type\":\"scatter\"},{\"fill\":\"toself\",\"fillcolor\":\"rgb(0, 0, 0)\",\"hoverinfo\":\"name\",\"line\":{\"width\":0},\"mode\":\"lines\",\"name\":\"Risk Area\",\"showlegend\":false,\"x\":[6.4,5.1,5.1,5.0,5.0,5.1,5.1,9.9,9.9,10.0,10.0,9.9,9.9,8.6,8.6,6.4,6.4],\"y\":[10.1,10.1,11.5,11.5,13.6,13.6,15.0,15.0,13.6,13.6,11.5,11.5,10.1,10.1,10.0,10.0,10.1],\"type\":\"scatter\"},{\"fill\":\"toself\",\"fillcolor\":\"rgb(0, 0, 0)\",\"hoverinfo\":\"name\",\"line\":{\"width\":0},\"mode\":\"lines\",\"name\":\"Risk Area\",\"showlegend\":false,\"x\":[10.1,10.1,15.0,15.0,13.6,13.6,11.5,11.5,10.1,10.1,10.0,10.0,10.1],\"y\":[13.6,15.0,15.0,10.1,10.1,10.0,10.0,10.1,10.1,11.5,11.5,13.6,13.6],\"type\":\"scatter\"},{\"hoverinfo\":\"text\",\"marker\":{\"opacity\":1,\"size\":1},\"mode\":\"markers\",\"showlegend\":false,\"text\":[\"ID: 101, Pos(3.10,5.17)\"],\"x\":[3.1026552191555368],\"y\":[5.168661575786402],\"type\":\"scatter\"},{\"hoverinfo\":\"text\",\"marker\":{\"opacity\":1,\"size\":1},\"mode\":\"markers\",\"showlegend\":false,\"text\":[\"ID: 102, Pos(1.62,4.38)\"],\"x\":[1.616950958507311],\"y\":[4.382105284673975],\"type\":\"scatter\"},{\"hoverinfo\":\"text\",\"marker\":{\"opacity\":1,\"size\":1},\"mode\":\"markers\",\"showlegend\":false,\"text\":[\"ID: 103, Pos(2.19,2.53)\"],\"x\":[2.1876527661875698],\"y\":[2.5265277836263325],\"type\":\"scatter\"},{\"hoverinfo\":\"text\",\"marker\":{\"opacity\":1,\"size\":1},\"mode\":\"markers\",\"showlegend\":false,\"text\":[\"ID: 104, Pos(2.60,5.82)\"],\"x\":[2.600331519603923],\"y\":[5.820774304637576],\"type\":\"scatter\"},{\"hoverinfo\":\"text\",\"marker\":{\"opacity\":1,\"size\":1},\"mode\":\"markers\",\"showlegend\":false,\"text\":[\"ID: 105, Pos(2.33,4.41)\"],\"x\":[2.33350418913301],\"y\":[4.41115865321033],\"type\":\"scatter\"},{\"hoverinfo\":\"text\",\"marker\":{\"opacity\":1,\"size\":1},\"mode\":\"markers\",\"showlegend\":false,\"text\":[\"ID: 106, Pos(2.12,6.63)\"],\"x\":[2.116749818880267],\"y\":[6.628476473807076],\"type\":\"scatter\"},{\"hoverinfo\":\"text\",\"marker\":{\"opacity\":1,\"size\":1},\"mode\":\"markers\",\"showlegend\":false,\"text\":[\"ID: 107, Pos(2.87,6.86)\"],\"x\":[2.870267920081498],\"y\":[6.863428694580823],\"type\":\"scatter\"},{\"hoverinfo\":\"text\",\"marker\":{\"opacity\":1,\"size\":1},\"mode\":\"markers\",\"showlegend\":false,\"text\":[\"ID: 108, Pos(3.30,4.34)\"],\"x\":[3.2988898698511058],\"y\":[4.338910861257535],\"type\":\"scatter\"},{\"hoverinfo\":\"text\",\"marker\":{\"opacity\":1,\"size\":1},\"mode\":\"markers\",\"showlegend\":false,\"text\":[\"ID: 109, Pos(2.07,5.45)\"],\"x\":[2.068101577021166],\"y\":[5.449233639679231],\"type\":\"scatter\"},{\"hoverinfo\":\"text\",\"marker\":{\"opacity\":1,\"size\":1},\"mode\":\"markers\",\"showlegend\":false,\"text\":[\"ID: 110, Pos(2.25,3.39)\"],\"x\":[2.2489198475130947],\"y\":[3.387477723980477],\"type\":\"scatter\"}],\"layout\":{\"shapes\":[{\"fillcolor\":\"rgba(102, 255, 144, 0.5)\",\"line\":{\"color\":\"rgba(102, 255, 144, 0.5)\"},\"type\":\"circle\",\"x0\":2.9026552191555366,\"x1\":3.302655219155537,\"xref\":\"x\",\"y0\":4.968661575786402,\"y1\":5.368661575786402,\"yref\":\"y\"},{\"fillcolor\":\"rgba(0, 0, 187, 0.5)\",\"line\":{\"color\":\"rgba(0, 0, 187, 0.5)\"},\"type\":\"circle\",\"x0\":1.416950958507311,\"x1\":1.816950958507311,\"xref\":\"x\",\"y0\":4.182105284673975,\"y1\":4.582105284673975,\"yref\":\"y\"},{\"fillcolor\":\"rgba(60, 255, 186, 0.5)\",\"line\":{\"color\":\"rgba(60, 255, 186, 0.5)\"},\"type\":\"circle\",\"x0\":1.9876527661875698,\"x1\":2.38765276618757,\"xref\":\"x\",\"y0\":2.3265277836263323,\"y1\":2.7265277836263326,\"yref\":\"y\"},{\"fillcolor\":\"rgba(0, 29, 255, 0.5)\",\"line\":{\"color\":\"rgba(0, 29, 255, 0.5)\"},\"type\":\"circle\",\"x0\":2.400331519603923,\"x1\":2.8003315196039233,\"xref\":\"x\",\"y0\":5.6207743046375755,\"y1\":6.020774304637576,\"yref\":\"y\"},{\"fillcolor\":\"rgba(0, 0, 128, 0.5)\",\"line\":{\"color\":\"rgba(0, 0, 128, 0.5)\"},\"type\":\"circle\",\"x0\":2.13350418913301,\"x1\":2.5335041891330103,\"xref\":\"x\",\"y0\":4.21115865321033,\"y1\":4.61115865321033,\"yref\":\"y\"},{\"fillcolor\":\"rgba(0, 0, 128, 0.5)\",\"line\":{\"color\":\"rgba(0, 0, 128, 0.5)\"},\"type\":\"circle\",\"x0\":1.9167498188802672,\"x1\":2.3167498188802673,\"xref\":\"x\",\"y0\":6.428476473807076,\"y1\":6.8284764738070765,\"yref\":\"y\"},{\"fillcolor\":\"rgba(0, 0, 128, 0.5)\",\"line\":{\"color\":\"rgba(0, 0, 128, 0.5)\"},\"type\":\"circle\",\"x0\":2.6702679200814976,\"x1\":3.070267920081498,\"xref\":\"x\",\"y0\":6.663428694580823,\"y1\":7.063428694580823,\"yref\":\"y\"},{\"fillcolor\":\"rgba(70, 255, 177, 0.5)\",\"line\":{\"color\":\"rgba(70, 255, 177, 0.5)\"},\"type\":\"circle\",\"x0\":3.0988898698511056,\"x1\":3.498889869851106,\"xref\":\"x\",\"y0\":4.138910861257535,\"y1\":4.538910861257535,\"yref\":\"y\"},{\"fillcolor\":\"rgba(0, 0, 155, 0.5)\",\"line\":{\"color\":\"rgba(0, 0, 155, 0.5)\"},\"type\":\"circle\",\"x0\":1.868101577021166,\"x1\":2.268101577021166,\"xref\":\"x\",\"y0\":5.249233639679231,\"y1\":5.649233639679231,\"yref\":\"y\"},{\"fillcolor\":\"rgba(0, 96, 255, 0.5)\",\"line\":{\"color\":\"rgba(0, 96, 255, 0.5)\"},\"type\":\"circle\",\"x0\":2.0489198475130945,\"x1\":2.448919847513095,\"xref\":\"x\",\"y0\":3.187477723980477,\"y1\":3.587477723980477,\"yref\":\"y\"},{\"line\":{\"color\":\"black\",\"width\":3},\"type\":\"line\",\"x0\":3.1026552191555368,\"x1\":3.051718629839062,\"y0\":5.168661575786402,\"y1\":5.362066497825126},{\"line\":{\"color\":\"white\",\"width\":3},\"type\":\"line\",\"x0\":1.616950958507311,\"x1\":1.6512671745111955,\"y0\":4.382105284673975,\"y1\":4.579139285088053},{\"line\":{\"color\":\"black\",\"width\":3},\"type\":\"line\",\"x0\":2.1876527661875698,\"x1\":2.200144565575231,\"y0\":2.5265277836263325,\"y1\":2.726137289782874},{\"line\":{\"color\":\"white\",\"width\":3},\"type\":\"line\",\"x0\":2.600331519603923,\"x1\":2.6175905615058936,\"y0\":5.820774304637576,\"y1\":6.020028226738562},{\"line\":{\"color\":\"white\",\"width\":3},\"type\":\"line\",\"x0\":2.33350418913301,\"x1\":2.36374602563493,\"y0\":4.41115865321033,\"y1\":4.608859010632847},{\"line\":{\"color\":\"white\",\"width\":3},\"type\":\"line\",\"x0\":2.116749818880267,\"x1\":2.118472865495519,\"y0\":6.628476473807076,\"y1\":6.828469051445252},{\"line\":{\"color\":\"white\",\"width\":3},\"type\":\"line\",\"x0\":2.870267920081498,\"x1\":2.867474010472574,\"y0\":6.863428694580823,\"y1\":7.063409178801402},{\"line\":{\"color\":\"black\",\"width\":3},\"type\":\"line\",\"x0\":3.2988898698511058,\"x1\":3.2512708445697878,\"y0\":4.338910861257535,\"y1\":4.5331592291561025},{\"line\":{\"color\":\"white\",\"width\":3},\"type\":\"line\",\"x0\":2.068101577021166,\"x1\":2.0744083119057755,\"y0\":5.449233639679231,\"y1\":5.649134177685249},{\"line\":{\"color\":\"white\",\"width\":3},\"type\":\"line\",\"x0\":2.2489198475130947,\"x1\":2.26125024457371,\"y0\":3.387477723980477,\"y1\":3.587097265379428}],\"title\":{\"text\":\"\\u003cb\\u003ePercentage using the shortest path: 0%  |  Number of Agents: 10\\u003c\\u002fb\\u003e\",\"x\":0.5}},\"name\":\"100\"},{\"data\":[{\"hoverinfo\":\"name\",\"line\":{\"color\":\"white\"},\"mode\":\"lines\",\"name\":\"Exterior\",\"showlegend\":false,\"x\":[10.1,10.1,15.0,15.0,13.6,13.6,15.0,15.0,13.6,13.6,15.0,15.0,10.1,10.1,9.9,9.9,5.1,5.1,4.9,4.9,0.0,0.0,1.5,1.5,0.0,0.0,1.5,1.5,0.0,0.0,4.9,4.9,5.1,5.1,9.9,9.9,10.1],\"y\":[1.5,0.0,0.0,4.9,4.9,5.1,5.1,9.9,9.9,10.1,10.1,15.0,15.0,13.6,13.6,15.0,15.0,13.6,13.6,15.0,15.0,10.1,10.1,9.9,9.9,5.1,5.1,4.9,4.9,0.0,0.0,1.5,1.5,0.0,0.0,1.5,1.5],\"type\":\"scatter\"},{\"hoverinfo\":\"name\",\"line\":{\"color\":\"white\"},\"mode\":\"lines\",\"name\":\"Obstacle\",\"showlegend\":false,\"x\":[10.1,11.5,11.5,10.1,10.1,9.9,9.9,8.6,8.6,9.9,9.9,10.1,10.1],\"y\":[5.1,5.1,4.9,4.9,3.6,3.6,4.9,4.9,5.1,5.1,6.5,6.5,5.1],\"type\":\"scatter\"},{\"hoverinfo\":\"name\",\"line\":{\"color\":\"white\"},\"mode\":\"lines\",\"name\":\"Obstacle\",\"showlegend\":false,\"x\":[10.1,11.5,11.5,10.1,10.1,9.9,9.9,8.6,8.6,9.9,9.9,10.1,10.1],\"y\":[10.1,10.1,9.9,9.9,8.6,8.6,9.9,9.9,10.1,10.1,11.5,11.5,10.1],\"type\":\"scatter\"},{\"hoverinfo\":\"name\",\"line\":{\"color\":\"white\"},\"mode\":\"lines\",\"name\":\"Obstacle\",\"showlegend\":false,\"x\":[5.1,6.4,6.4,5.1,5.1,4.9,4.9,3.6,3.6,4.9,4.9,5.1,5.1],\"y\":[5.1,5.1,4.9,4.9,3.6,3.6,4.9,4.9,5.1,5.1,6.5,6.5,5.1],\"type\":\"scatter\"},{\"hoverinfo\":\"name\",\"line\":{\"color\":\"white\"},\"mode\":\"lines\",\"name\":\"Obstacle\",\"showlegend\":false,\"x\":[5.1,6.4,6.4,5.1,5.1,4.9,4.9,3.6,3.6,4.9,4.9,5.1,5.1],\"y\":[10.1,10.1,9.9,9.9,8.6,8.6,9.9,9.9,10.1,10.1,11.5,11.5,10.1],\"type\":\"scatter\"},{\"fill\":\"toself\",\"fillcolor\":\"rgb(0, 0, 0)\",\"hoverinfo\":\"name\",\"line\":{\"width\":0},\"mode\":\"lines\",\"name\":\"Risk Area\",\"showlegend\":false,\"x\":[1.5,1.5,3.6,3.6,4.9,4.9,5.0,5.0,4.9,4.9,0.0,0.0,1.5],\"y\":[4.9,5.0,5.0,4.9,4.9,3.6,3.6,1.5,1.5,0.0,0.0,4.9,4.9],\"type\":\"scatter\"},{\"fill\":\"toself\",\"fillcolor\":\"rgb(255, 0, 0)\",\"hoverinfo\":\"name\",\"line\":{\"width\":0},\"mode\":\"lines\",\"name\":\"Risk Area\",\"showlegend\":false,\"x\":[9.9,9.9,5.1,5.1,5.0,5.0,5.1,5.1,6.4,6.4,8.6,8.6,9.9,9.9,10.0,10.0,9.9],\"y\":[1.5,0.0,0.0,1.5,1.5,3.6,3.6,4.9,4.9,5.0,5.0,4.9,4.9,3.6,3.6,1.5,1.5],\"type\":\"scatter\"},{\"fill\":\"toself\",\"fillcolor\":\"rgb(0, 0, 0)\",\"hoverinfo\":\"name\",\"line\":{\"width\":0},\"mode\":\"lines\",\"name\":\"Risk Area\",\"showlegend\":false,\"x\":[13.6,15.0,15.0,10.1,10.1,10.0,10.0,10.1,10.1,11.5,11.5,13.6,13.6],\"y\":[4.9,4.9,0.0,0.0,1.5,1.5,3.6,3.6,4.9,4.9,5.0,5.0,4.9],\"type\":\"scatter\"},{\"fill\":\"toself\",\"fillcolor\":\"rgb(153, 0, 0)\",\"hoverinfo\":\"name\",\"line\":{\"width\":0},\"mode\":\"lines\",\"name\":\"Risk Area\",\"showlegend\":false,\"x\":[13.6,15.0,15.0,13.6,13.6,11.5,11.5,10.1,10.1,10.0,10.0,10.1,10.1,11.5,11.5,13.6,13.6],\"y\":[9.9,9.9,5.1,5.1,5.0,5.0,5.1,5.1,6.5,6.5,8.6,8.6,9.9,9.9,10.0,10.0,9.9],\"type\":\"scatter\"},{\"fill\":\"toself\",\"fillcolor\":\"rgb(153, 0, 0)\",\"hoverinfo\":\"name\",\"line\":{\"width\":0},\"mode\":\"lines\",\"name\":\"Risk Area\",\"showlegend\":false,\"x\":[9.9,9.9,8.6,8.6,6.4,6.4,5.1,5.1,5.0,5.0,5.1,5.1,6.4,6.4,8.6,8.6,9.9,9.9,10.0,10.0,9.9],\"y\":[6.5,5.1,5.1,5.0,5.0,5.1,5.1,6.5,6.5,8.6,8.6,9.9,9.9,10.0,10.0,9.9,9.9,8.6,8.6,6.5,6.5],\"type\":\"scatter\"},{\"fill\":\"toself\",\"fillcolor\":\"rgb(76, 0, 0)\",\"hoverinfo\":\"name\",\"line\":{\"width\":0},\"mode\":\"lines\",\"name\":\"Risk Area\",\"showlegend\":false,\"x\":[4.9,4.9,3.6,3.6,1.5,1.5,0.0,0.0,1.5,1.5,3.6,3.6,4.9,4.9,5.0,5.0,4.9],\"y\":[6.5,5.1,5.1,5.0,5.0,5.1,5.1,9.9,9.9,10.0,10.0,9.9,9.9,8.6,8.6,6.5,6.5],\"type\":\"scatter\"},{\"fill\":\"toself\",\"fillcolor\":\"rgb(51, 0, 0)\",\"hoverinfo\":\"name\",\"line\":{\"width\":0},\"mode\":\"lines\",\"name\":\"Risk Area\",\"showlegend\":false,\"x\":[1.5,0.0,0.0,4.9,4.9,5.0,5.0,4.9,4.9,3.6,3.6,1.5,1.5],\"y\":[10.1,10.1,15.0,15.0,13.6,13.6,11.5,11.5,10.1,10.1,10.0,10.0,10.1],\"type\":\"scatter\"},{\"fill\":\"toself\",\"fillcolor\":\"rgb(0, 0, 0)\",\"hoverinfo\":\"name\",\"line\":{\"width\":0},\"mode\":\"lines\",\"name\":\"Risk Area\",\"showlegend\":false,\"x\":[6.4,5.1,5.1,5.0,5.0,5.1,5.1,9.9,9.9,10.0,10.0,9.9,9.9,8.6,8.6,6.4,6.4],\"y\":[10.1,10.1,11.5,11.5,13.6,13.6,15.0,15.0,13.6,13.6,11.5,11.5,10.1,10.1,10.0,10.0,10.1],\"type\":\"scatter\"},{\"fill\":\"toself\",\"fillcolor\":\"rgb(0, 0, 0)\",\"hoverinfo\":\"name\",\"line\":{\"width\":0},\"mode\":\"lines\",\"name\":\"Risk Area\",\"showlegend\":false,\"x\":[10.1,10.1,15.0,15.0,13.6,13.6,11.5,11.5,10.1,10.1,10.0,10.0,10.1],\"y\":[13.6,15.0,15.0,10.1,10.1,10.0,10.0,10.1,10.1,11.5,11.5,13.6,13.6],\"type\":\"scatter\"},{\"hoverinfo\":\"text\",\"marker\":{\"opacity\":1,\"size\":1},\"mode\":\"markers\",\"showlegend\":false,\"text\":[\"ID: 101, Pos(2.96,6.24)\"],\"x\":[2.9581676026443975],\"y\":[6.243316523388464],\"type\":\"scatter\"},{\"hoverinfo\":\"text\",\"marker\":{\"opacity\":1,\"size\":1},\"mode\":\"markers\",\"showlegend\":false,\"text\":[\"ID: 102, Pos(1.94,5.15)\"],\"x\":[1.9377816298191668],\"y\":[5.153257725681714],\"type\":\"scatter\"},{\"hoverinfo\":\"text\",\"marker\":{\"opacity\":1,\"size\":1},\"mode\":\"markers\",\"showlegend\":false,\"text\":[\"ID: 103, Pos(2.26,3.71)\"],\"x\":[2.2621615723924484],\"y\":[3.7147914763581893],\"type\":\"scatter\"},{\"hoverinfo\":\"text\",\"marker\":{\"opacity\":1,\"size\":1},\"mode\":\"markers\",\"showlegend\":false,\"text\":[\"ID: 104, Pos(2.74,7.29)\"],\"x\":[2.737489465733495],\"y\":[7.292000318408571],\"type\":\"scatter\"},{\"hoverinfo\":\"text\",\"marker\":{\"opacity\":1,\"size\":1},\"mode\":\"markers\",\"showlegend\":false,\"text\":[\"ID: 105, Pos(2.37,5.92)\"],\"x\":[2.3739785731271343],\"y\":[5.920418627380049],\"type\":\"scatter\"},{\"hoverinfo\":\"text\",\"marker\":{\"opacity\":1,\"size\":1},\"mode\":\"markers\",\"showlegend\":false,\"text\":[\"ID: 106, Pos(2.13,8.23)\"],\"x\":[2.1344054310321643],\"y\":[8.228378641372304],\"type\":\"scatter\"},{\"hoverinfo\":\"text\",\"marker\":{\"opacity\":1,\"size\":1},\"mode\":\"markers\",\"showlegend\":false,\"text\":[\"ID: 107, Pos(2.85,8.46)\"],\"x\":[2.8491945578620244],\"y\":[8.463289778198781],\"type\":\"scatter\"},{\"hoverinfo\":\"text\",\"marker\":{\"opacity\":1,\"size\":1},\"mode\":\"markers\",\"showlegend\":false,\"text\":[\"ID: 108, Pos(3.05,5.28)\"],\"x\":[3.047171937903029],\"y\":[5.281635062193727],\"type\":\"scatter\"},{\"hoverinfo\":\"text\",\"marker\":{\"opacity\":1,\"size\":1},\"mode\":\"markers\",\"showlegend\":false,\"text\":[\"ID: 109, Pos(2.05,7.03)\"],\"x\":[2.050799933307093],\"y\":[7.031880957380289],\"type\":\"scatter\"},{\"hoverinfo\":\"text\",\"marker\":{\"opacity\":1,\"size\":1},\"mode\":\"markers\",\"showlegend\":false,\"text\":[\"ID: 110, Pos(2.43,4.78)\"],\"x\":[2.4298220087979896],\"y\":[4.782187642838245],\"type\":\"scatter\"}],\"layout\":{\"shapes\":[{\"fillcolor\":\"rgba(0, 37, 255, 0.5)\",\"line\":{\"color\":\"rgba(0, 37, 255, 0.5)\"},\"type\":\"circle\",\"x0\":2.7581676026443973,\"x1\":3.1581676026443977,\"xref\":\"x\",\"y0\":6.043316523388464,\"y1\":6.443316523388464,\"yref\":\"y\"},{\"fillcolor\":\"rgba(0, 88, 255, 0.5)\",\"line\":{\"color\":\"rgba(0, 88, 255, 0.5)\"},\"type\":\"circle\",\"x0\":1.7377816298191668,\"x1\":2.137781629819167,\"xref\":\"x\",\"y0\":4.953257725681714,\"y1\":5.353257725681714,\"yref\":\"y\"},{\"fillcolor\":\"rgba(0, 24, 255, 0.5)\",\"line\":{\"color\":\"rgba(0, 24, 255, 0.5)\"},\"type\":\"circle\",\"x0\":2.0621615723924482,\"x1\":2.4621615723924486,\"xref\":\"x\",\"y0\":3.514791476358189,\"y1\":3.9147914763581895,\"yref\":\"y\"},{\"fillcolor\":\"rgba(0, 0, 159, 0.5)\",\"line\":{\"color\":\"rgba(0, 0, 159, 0.5)\"},\"type\":\"circle\",\"x0\":2.5374894657334948,\"x1\":2.937489465733495,\"xref\":\"x\",\"y0\":7.092000318408571,\"y1\":7.4920003184085715,\"yref\":\"y\"},{\"fillcolor\":\"rgba(0, 0, 187, 0.5)\",\"line\":{\"color\":\"rgba(0, 0, 187, 0.5)\"},\"type\":\"circle\",\"x0\":2.173978573127134,\"x1\":2.5739785731271345,\"xref\":\"x\",\"y0\":5.720418627380049,\"y1\":6.120418627380049,\"yref\":\"y\"},{\"fillcolor\":\"rgba(0, 0, 128, 0.5)\",\"line\":{\"color\":\"rgba(0, 0, 128, 0.5)\"},\"type\":\"circle\",\"x0\":1.9344054310321643,\"x1\":2.3344054310321645,\"xref\":\"x\",\"y0\":8.028378641372305,\"y1\":8.428378641372303,\"yref\":\"y\"},{\"fillcolor\":\"rgba(0, 0, 128, 0.5)\",\"line\":{\"color\":\"rgba(0, 0, 128, 0.5)\"},\"type\":\"circle\",\"x0\":2.649194557862024,\"x1\":3.0491945578620245,\"xref\":\"x\",\"y0\":8.263289778198782,\"y1\":8.66328977819878,\"yref\":\"y\"},{\"fillcolor\":\"rgba(0, 176, 255, 0.5)\",\"line\":{\"color\":\"rgba(0, 176, 255, 0.5)\"},\"type\":\"circle\",\"x0\":2.847171937903029,\"x1\":3.2471719379030293,\"xref\":\"x\",\"y0\":5.081635062193727,\"y1\":5.481635062193727,\"yref\":\"y\"},{\"fillcolor\":\"rgba(0, 0, 128, 0.5)\",\"line\":{\"color\":\"rgba(0, 0, 128, 0.5)\"},\"type\":\"circle\",\"x0\":1.850799933307093,\"x1\":2.250799933307093,\"xref\":\"x\",\"y0\":6.831880957380289,\"y1\":7.231880957380289,\"yref\":\"y\"},{\"fillcolor\":\"rgba(0, 0, 218, 0.5)\",\"line\":{\"color\":\"rgba(0, 0, 218, 0.5)\"},\"type\":\"circle\",\"x0\":2.2298220087979894,\"x1\":2.6298220087979898,\"xref\":\"x\",\"y0\":4.582187642838245,\"y1\":4.9821876428382454,\"yref\":\"y\"},{\"line\":{\"color\":\"white\",\"width\":3},\"type\":\"line\",\"x0\":2.9581676026443975,\"x1\":2.9737458004841697,\"y0\":6.243316523388464,\"y1\":6.442708899752419},{\"line\":{\"color\":\"white\",\"width\":3},\"type\":\"line\",\"x0\":1.9377816298191668,\"x1\":1.9506087809362653,\"y0\":5.153257725681714,\"y1\":5.352845962294544},{\"line\":{\"color\":\"white\",\"width\":3},\"type\":\"line\",\"x0\":2.2621615723924484,\"x1\":2.2746532109042463,\"y0\":3.7147914763581893,\"y1\":3.914400992582468},{\"line\":{\"color\":\"white\",\"width\":3},\"type\":\"line\",\"x0\":2.737489465733495,\"x1\":2.74543965890754,\"y0\":7.292000318408571,\"y1\":7.49184224200944},{\"line\":{\"color\":\"white\",\"width\":3},\"type\":\"line\",\"x0\":2.3739785731271343,\"x1\":2.3574569607993467,\"y0\":5.920418627380049,\"y1\":6.119735050000189},{\"line\":{\"color\":\"white\",\"width\":3},\"type\":\"line\",\"x0\":2.1344054310321643,\"x1\":2.136741989418354,\"y0\":8.228378641372304,\"y1\":8.42836499214382},{\"line\":{\"color\":\"white\",\"width\":3},\"type\":\"line\",\"x0\":2.8491945578620244,\"x1\":2.8466012148951925,\"y0\":8.463289778198781,\"y1\":8.663272963922623},{\"line\":{\"color\":\"black\",\"width\":3},\"type\":\"line\",\"x0\":3.047171937903029,\"x1\":3.008528492612634,\"y0\":5.281635062193727,\"y1\":5.477866262913919},{\"line\":{\"color\":\"white\",\"width\":3},\"type\":\"line\",\"x0\":2.050799933307093,\"x1\":2.0496717711894674,\"y0\":7.031880957380289,\"y1\":7.2318777754805685},{\"line\":{\"color\":\"white\",\"width\":3},\"type\":\"line\",\"x0\":2.4298220087979896,\"x1\":2.4850903408716047,\"y0\":4.782187642838245,\"y1\":4.974399534951612}],\"title\":{\"text\":\"\\u003cb\\u003ePercentage using the shortest path: 0%  |  Number of Agents: 10\\u003c\\u002fb\\u003e\",\"x\":0.5}},\"name\":\"150\"},{\"data\":[{\"hoverinfo\":\"name\",\"line\":{\"color\":\"white\"},\"mode\":\"lines\",\"name\":\"Exterior\",\"showlegend\":false,\"x\":[10.1,10.1,15.0,15.0,13.6,13.6,15.0,15.0,13.6,13.6,15.0,15.0,10.1,10.1,9.9,9.9,5.1,5.1,4.9,4.9,0.0,0.0,1.5,1.5,0.0,0.0,1.5,1.5,0.0,0.0,4.9,4.9,5.1,5.1,9.9,9.9,10.1],\"y\":[1.5,0.0,0.0,4.9,4.9,5.1,5.1,9.9,9.9,10.1,10.1,15.0,15.0,13.6,13.6,15.0,15.0,13.6,13.6,15.0,15.0,10.1,10.1,9.9,9.9,5.1,5.1,4.9,4.9,0.0,0.0,1.5,1.5,0.0,0.0,1.5,1.5],\"type\":\"scatter\"},{\"hoverinfo\":\"name\",\"line\":{\"color\":\"white\"},\"mode\":\"lines\",\"name\":\"Obstacle\",\"showlegend\":false,\"x\":[10.1,11.5,11.5,10.1,10.1,9.9,9.9,8.6,8.6,9.9,9.9,10.1,10.1],\"y\":[5.1,5.1,4.9,4.9,3.6,3.6,4.9,4.9,5.1,5.1,6.5,6.5,5.1],\"type\":\"scatter\"},{\"hoverinfo\":\"name\",\"line\":{\"color\":\"white\"},\"mode\":\"lines\",\"name\":\"Obstacle\",\"showlegend\":false,\"x\":[10.1,11.5,11.5,10.1,10.1,9.9,9.9,8.6,8.6,9.9,9.9,10.1,10.1],\"y\":[10.1,10.1,9.9,9.9,8.6,8.6,9.9,9.9,10.1,10.1,11.5,11.5,10.1],\"type\":\"scatter\"},{\"hoverinfo\":\"name\",\"line\":{\"color\":\"white\"},\"mode\":\"lines\",\"name\":\"Obstacle\",\"showlegend\":false,\"x\":[5.1,6.4,6.4,5.1,5.1,4.9,4.9,3.6,3.6,4.9,4.9,5.1,5.1],\"y\":[5.1,5.1,4.9,4.9,3.6,3.6,4.9,4.9,5.1,5.1,6.5,6.5,5.1],\"type\":\"scatter\"},{\"hoverinfo\":\"name\",\"line\":{\"color\":\"white\"},\"mode\":\"lines\",\"name\":\"Obstacle\",\"showlegend\":false,\"x\":[5.1,6.4,6.4,5.1,5.1,4.9,4.9,3.6,3.6,4.9,4.9,5.1,5.1],\"y\":[10.1,10.1,9.9,9.9,8.6,8.6,9.9,9.9,10.1,10.1,11.5,11.5,10.1],\"type\":\"scatter\"},{\"fill\":\"toself\",\"fillcolor\":\"rgb(0, 0, 0)\",\"hoverinfo\":\"name\",\"line\":{\"width\":0},\"mode\":\"lines\",\"name\":\"Risk Area\",\"showlegend\":false,\"x\":[1.5,1.5,3.6,3.6,4.9,4.9,5.0,5.0,4.9,4.9,0.0,0.0,1.5],\"y\":[4.9,5.0,5.0,4.9,4.9,3.6,3.6,1.5,1.5,0.0,0.0,4.9,4.9],\"type\":\"scatter\"},{\"fill\":\"toself\",\"fillcolor\":\"rgb(255, 0, 0)\",\"hoverinfo\":\"name\",\"line\":{\"width\":0},\"mode\":\"lines\",\"name\":\"Risk Area\",\"showlegend\":false,\"x\":[9.9,9.9,5.1,5.1,5.0,5.0,5.1,5.1,6.4,6.4,8.6,8.6,9.9,9.9,10.0,10.0,9.9],\"y\":[1.5,0.0,0.0,1.5,1.5,3.6,3.6,4.9,4.9,5.0,5.0,4.9,4.9,3.6,3.6,1.5,1.5],\"type\":\"scatter\"},{\"fill\":\"toself\",\"fillcolor\":\"rgb(0, 0, 0)\",\"hoverinfo\":\"name\",\"line\":{\"width\":0},\"mode\":\"lines\",\"name\":\"Risk Area\",\"showlegend\":false,\"x\":[13.6,15.0,15.0,10.1,10.1,10.0,10.0,10.1,10.1,11.5,11.5,13.6,13.6],\"y\":[4.9,4.9,0.0,0.0,1.5,1.5,3.6,3.6,4.9,4.9,5.0,5.0,4.9],\"type\":\"scatter\"},{\"fill\":\"toself\",\"fillcolor\":\"rgb(153, 0, 0)\",\"hoverinfo\":\"name\",\"line\":{\"width\":0},\"mode\":\"lines\",\"name\":\"Risk Area\",\"showlegend\":false,\"x\":[13.6,15.0,15.0,13.6,13.6,11.5,11.5,10.1,10.1,10.0,10.0,10.1,10.1,11.5,11.5,13.6,13.6],\"y\":[9.9,9.9,5.1,5.1,5.0,5.0,5.1,5.1,6.5,6.5,8.6,8.6,9.9,9.9,10.0,10.0,9.9],\"type\":\"scatter\"},{\"fill\":\"toself\",\"fillcolor\":\"rgb(178, 0, 0)\",\"hoverinfo\":\"name\",\"line\":{\"width\":0},\"mode\":\"lines\",\"name\":\"Risk Area\",\"showlegend\":false,\"x\":[9.9,9.9,8.6,8.6,6.4,6.4,5.1,5.1,5.0,5.0,5.1,5.1,6.4,6.4,8.6,8.6,9.9,9.9,10.0,10.0,9.9],\"y\":[6.5,5.1,5.1,5.0,5.0,5.1,5.1,6.5,6.5,8.6,8.6,9.9,9.9,10.0,10.0,9.9,9.9,8.6,8.6,6.5,6.5],\"type\":\"scatter\"},{\"fill\":\"toself\",\"fillcolor\":\"rgb(127, 0, 0)\",\"hoverinfo\":\"name\",\"line\":{\"width\":0},\"mode\":\"lines\",\"name\":\"Risk Area\",\"showlegend\":false,\"x\":[4.9,4.9,3.6,3.6,1.5,1.5,0.0,0.0,1.5,1.5,3.6,3.6,4.9,4.9,5.0,5.0,4.9],\"y\":[6.5,5.1,5.1,5.0,5.0,5.1,5.1,9.9,9.9,10.0,10.0,9.9,9.9,8.6,8.6,6.5,6.5],\"type\":\"scatter\"},{\"fill\":\"toself\",\"fillcolor\":\"rgb(51, 0, 0)\",\"hoverinfo\":\"name\",\"line\":{\"width\":0},\"mode\":\"lines\",\"name\":\"Risk Area\",\"showlegend\":false,\"x\":[1.5,0.0,0.0,4.9,4.9,5.0,5.0,4.9,4.9,3.6,3.6,1.5,1.5],\"y\":[10.1,10.1,15.0,15.0,13.6,13.6,11.5,11.5,10.1,10.1,10.0,10.0,10.1],\"type\":\"scatter\"},{\"fill\":\"toself\",\"fillcolor\":\"rgb(0, 0, 0)\",\"hoverinfo\":\"name\",\"line\":{\"width\":0},\"mode\":\"lines\",\"name\":\"Risk Area\",\"showlegend\":false,\"x\":[6.4,5.1,5.1,5.0,5.0,5.1,5.1,9.9,9.9,10.0,10.0,9.9,9.9,8.6,8.6,6.4,6.4],\"y\":[10.1,10.1,11.5,11.5,13.6,13.6,15.0,15.0,13.6,13.6,11.5,11.5,10.1,10.1,10.0,10.0,10.1],\"type\":\"scatter\"},{\"fill\":\"toself\",\"fillcolor\":\"rgb(0, 0, 0)\",\"hoverinfo\":\"name\",\"line\":{\"width\":0},\"mode\":\"lines\",\"name\":\"Risk Area\",\"showlegend\":false,\"x\":[10.1,10.1,15.0,15.0,13.6,13.6,11.5,11.5,10.1,10.1,10.0,10.0,10.1],\"y\":[13.6,15.0,15.0,10.1,10.1,10.0,10.0,10.1,10.1,11.5,11.5,13.6,13.6],\"type\":\"scatter\"},{\"hoverinfo\":\"text\",\"marker\":{\"opacity\":1,\"size\":1},\"mode\":\"markers\",\"showlegend\":false,\"text\":[\"ID: 101, Pos(2.98,7.71)\"],\"x\":[2.9783188888557857],\"y\":[7.714580207014547],\"type\":\"scatter\"},{\"hoverinfo\":\"text\",\"marker\":{\"opacity\":1,\"size\":1},\"mode\":\"markers\",\"showlegend\":false,\"text\":[\"ID: 102, Pos(1.89,6.73)\"],\"x\":[1.892956359929817],\"y\":[6.729781691985519],\"type\":\"scatter\"},{\"hoverinfo\":\"text\",\"marker\":{\"opacity\":1,\"size\":1},\"mode\":\"markers\",\"showlegend\":false,\"text\":[\"ID: 103, Pos(2.30,5.16)\"],\"x\":[2.3010071909361285],\"y\":[5.160696532894509],\"type\":\"scatter\"},{\"hoverinfo\":\"text\",\"marker\":{\"opacity\":1,\"size\":1},\"mode\":\"markers\",\"showlegend\":false,\"text\":[\"ID: 104, Pos(2.77,8.87)\"],\"x\":[2.7713432863822582],\"y\":[8.868837364997871],\"type\":\"scatter\"},{\"hoverinfo\":\"text\",\"marker\":{\"opacity\":1,\"size\":1},\"mode\":\"markers\",\"showlegend\":false,\"text\":[\"ID: 105, Pos(2.28,7.46)\"],\"x\":[2.2844582084749487],\"y\":[7.464654845682211],\"type\":\"scatter\"},{\"hoverinfo\":\"text\",\"marker\":{\"opacity\":1,\"size\":1},\"mode\":\"markers\",\"showlegend\":false,\"text\":[\"ID: 106, Pos(2.16,9.83)\"],\"x\":[2.1558576717530262],\"y\":[9.828233193576795],\"type\":\"scatter\"},{\"hoverinfo\":\"text\",\"marker\":{\"opacity\":1,\"size\":1},\"mode\":\"markers\",\"showlegend\":false,\"text\":[\"ID: 107, Pos(2.82,10.06)\"],\"x\":[2.8245366630892716],\"y\":[10.0630968092702],\"type\":\"scatter\"},{\"hoverinfo\":\"text\",\"marker\":{\"opacity\":1,\"size\":1},\"mode\":\"markers\",\"showlegend\":false,\"text\":[\"ID: 108, Pos(3.08,6.59)\"],\"x\":[3.081525036162976],\"y\":[6.5923883849867275],\"type\":\"scatter\"},{\"hoverinfo\":\"text\",\"marker\":{\"opacity\":1,\"size\":1},\"mode\":\"markers\",\"showlegend\":false,\"text\":[\"ID: 109, Pos(2.07,8.63)\"],\"x\":[2.0734328712895502],\"y\":[8.631290184922925],\"type\":\"scatter\"},{\"hoverinfo\":\"text\",\"marker\":{\"opacity\":1,\"size\":1},\"mode\":\"markers\",\"showlegend\":false,\"text\":[\"ID: 110, Pos(2.45,6.30)\"],\"x\":[2.4490824400434454],\"y\":[6.301279354097642],\"type\":\"scatter\"}],\"layout\":{\"shapes\":[{\"fillcolor\":\"rgba(0, 0, 164, 0.5)\",\"line\":{\"color\":\"rgba(0, 0, 164, 0.5)\"},\"type\":\"circle\",\"x0\":2.7783188888557855,\"x1\":3.178318888855786,\"xref\":\"x\",\"y0\":7.514580207014546,\"y1\":7.914580207014547,\"yref\":\"y\"},{\"fillcolor\":\"rgba(0, 0, 232, 0.5)\",\"line\":{\"color\":\"rgba(0, 0, 232, 0.5)\"},\"type\":\"circle\",\"x0\":1.692956359929817,\"x1\":2.092956359929817,\"xref\":\"x\",\"y0\":6.5297816919855185,\"y1\":6.929781691985519,\"yref\":\"y\"},{\"fillcolor\":\"rgba(0, 0, 200, 0.5)\",\"line\":{\"color\":\"rgba(0, 0, 200, 0.5)\"},\"type\":\"circle\",\"x0\":2.1010071909361283,\"x1\":2.5010071909361287,\"xref\":\"x\",\"y0\":4.9606965328945085,\"y1\":5.360696532894509,\"yref\":\"y\"},{\"fillcolor\":\"rgba(0, 0, 132, 0.5)\",\"line\":{\"color\":\"rgba(0, 0, 132, 0.5)\"},\"type\":\"circle\",\"x0\":2.571343286382258,\"x1\":2.9713432863822584,\"xref\":\"x\",\"y0\":8.668837364997872,\"y1\":9.06883736499787,\"yref\":\"y\"},{\"fillcolor\":\"rgba(0, 0, 146, 0.5)\",\"line\":{\"color\":\"rgba(0, 0, 146, 0.5)\"},\"type\":\"circle\",\"x0\":2.0844582084749486,\"x1\":2.484458208474949,\"xref\":\"x\",\"y0\":7.264654845682211,\"y1\":7.664654845682211,\"yref\":\"y\"},{\"fillcolor\":\"rgba(0, 0, 128, 0.5)\",\"line\":{\"color\":\"rgba(0, 0, 128, 0.5)\"},\"type\":\"circle\",\"x0\":1.9558576717530263,\"x1\":2.3558576717530264,\"xref\":\"x\",\"y0\":9.628233193576795,\"y1\":10.028233193576794,\"yref\":\"y\"},{\"fillcolor\":\"rgba(0, 0, 128, 0.5)\",\"line\":{\"color\":\"rgba(0, 0, 128, 0.5)\"},\"type\":\"circle\",\"x0\":2.6245366630892715,\"x1\":3.024536663089272,\"xref\":\"x\",\"y0\":9.8630968092702,\"y1\":10.263096809270198,\"yref\":\"y\"},{\"fillcolor\":\"rgba(0, 0, 232, 0.5)\",\"line\":{\"color\":\"rgba(0, 0, 232, 0.5)\"},\"type\":\"circle\",\"x0\":2.8815250361629756,\"x1\":3.281525036162976,\"xref\":\"x\",\"y0\":6.392388384986727,\"y1\":6.792388384986728,\"yref\":\"y\"},{\"fillcolor\":\"rgba(0, 0, 128, 0.5)\",\"line\":{\"color\":\"rgba(0, 0, 128, 0.5)\"},\"type\":\"circle\",\"x0\":1.8734328712895503,\"x1\":2.2734328712895504,\"xref\":\"x\",\"y0\":8.431290184922926,\"y1\":8.831290184922924,\"yref\":\"y\"},{\"fillcolor\":\"rgba(0, 0, 164, 0.5)\",\"line\":{\"color\":\"rgba(0, 0, 164, 0.5)\"},\"type\":\"circle\",\"x0\":2.2490824400434453,\"x1\":2.6490824400434456,\"xref\":\"x\",\"y0\":6.101279354097642,\"y1\":6.501279354097642,\"yref\":\"y\"},{\"line\":{\"color\":\"white\",\"width\":3},\"type\":\"line\",\"x0\":2.9783188888557857,\"x1\":2.9753469214564987,\"y0\":7.714580207014547,\"y1\":7.9145581243198775},{\"line\":{\"color\":\"white\",\"width\":3},\"type\":\"line\",\"x0\":1.892956359929817,\"x1\":1.890418377282506,\"y0\":6.729781691985519,\"y1\":6.929765587947373},{\"line\":{\"color\":\"white\",\"width\":3},\"type\":\"line\",\"x0\":2.3010071909361285,\"x1\":2.306412333028941,\"y0\":5.160696532894509,\"y1\":5.360623480650324},{\"line\":{\"color\":\"white\",\"width\":3},\"type\":\"line\",\"x0\":2.7713432863822582,\"x1\":2.7734196023573854,\"y0\":8.868837364997871,\"y1\":9.068826586987386},{\"line\":{\"color\":\"white\",\"width\":3},\"type\":\"line\",\"x0\":2.2844582084749487,\"x1\":2.2793301607156216,\"y0\":7.464654845682211,\"y1\":7.664589092689016},{\"line\":{\"color\":\"white\",\"width\":3},\"type\":\"line\",\"x0\":2.1558576717530262,\"x1\":2.159241572004391,\"y0\":9.828233193576795,\"y1\":10.028204564575468},{\"line\":{\"color\":\"white\",\"width\":3},\"type\":\"line\",\"x0\":2.8245366630892716,\"x1\":2.82063747479132,\"y0\":10.0630968092702,\"y1\":10.263058796484312},{\"line\":{\"color\":\"white\",\"width\":3},\"type\":\"line\",\"x0\":3.081525036162976,\"x1\":3.0865040339455847,\"y0\":6.5923883849867275,\"y1\":6.792326399333876},{\"line\":{\"color\":\"white\",\"width\":3},\"type\":\"line\",\"x0\":2.0734328712895502,\"x1\":2.0785226198448536,\"y0\":8.631290184922925,\"y1\":8.831225410582746},{\"line\":{\"color\":\"white\",\"width\":3},\"type\":\"line\",\"x0\":2.4490824400434454,\"x1\":2.4460767128763092,\"y0\":6.301279354097642,\"y1\":6.501256766832673}],\"title\":{\"text\":\"\\u003cb\\u003ePercentage using the shortest path: 0%  |  Number of Agents: 10\\u003c\\u002fb\\u003e\",\"x\":0.5}},\"name\":\"200\"},{\"data\":[{\"hoverinfo\":\"name\",\"line\":{\"color\":\"white\"},\"mode\":\"lines\",\"name\":\"Exterior\",\"showlegend\":false,\"x\":[10.1,10.1,15.0,15.0,13.6,13.6,15.0,15.0,13.6,13.6,15.0,15.0,10.1,10.1,9.9,9.9,5.1,5.1,4.9,4.9,0.0,0.0,1.5,1.5,0.0,0.0,1.5,1.5,0.0,0.0,4.9,4.9,5.1,5.1,9.9,9.9,10.1],\"y\":[1.5,0.0,0.0,4.9,4.9,5.1,5.1,9.9,9.9,10.1,10.1,15.0,15.0,13.6,13.6,15.0,15.0,13.6,13.6,15.0,15.0,10.1,10.1,9.9,9.9,5.1,5.1,4.9,4.9,0.0,0.0,1.5,1.5,0.0,0.0,1.5,1.5],\"type\":\"scatter\"},{\"hoverinfo\":\"name\",\"line\":{\"color\":\"white\"},\"mode\":\"lines\",\"name\":\"Obstacle\",\"showlegend\":false,\"x\":[10.1,11.5,11.5,10.1,10.1,9.9,9.9,8.6,8.6,9.9,9.9,10.1,10.1],\"y\":[5.1,5.1,4.9,4.9,3.6,3.6,4.9,4.9,5.1,5.1,6.5,6.5,5.1],\"type\":\"scatter\"},{\"hoverinfo\":\"name\",\"line\":{\"color\":\"white\"},\"mode\":\"lines\",\"name\":\"Obstacle\",\"showlegend\":false,\"x\":[10.1,11.5,11.5,10.1,10.1,9.9,9.9,8.6,8.6,9.9,9.9,10.1,10.1],\"y\":[10.1,10.1,9.9,9.9,8.6,8.6,9.9,9.9,10.1,10.1,11.5,11.5,10.1],\"type\":\"scatter\"},{\"hoverinfo\":\"name\",\"line\":{\"color\":\"white\"},\"mode\":\"lines\",\"name\":\"Obstacle\",\"showlegend\":false,\"x\":[5.1,6.4,6.4,5.1,5.1,4.9,4.9,3.6,3.6,4.9,4.9,5.1,5.1],\"y\":[5.1,5.1,4.9,4.9,3.6,3.6,4.9,4.9,5.1,5.1,6.5,6.5,5.1],\"type\":\"scatter\"},{\"hoverinfo\":\"name\",\"line\":{\"color\":\"white\"},\"mode\":\"lines\",\"name\":\"Obstacle\",\"showlegend\":false,\"x\":[5.1,6.4,6.4,5.1,5.1,4.9,4.9,3.6,3.6,4.9,4.9,5.1,5.1],\"y\":[10.1,10.1,9.9,9.9,8.6,8.6,9.9,9.9,10.1,10.1,11.5,11.5,10.1],\"type\":\"scatter\"},{\"fill\":\"toself\",\"fillcolor\":\"rgb(0, 0, 0)\",\"hoverinfo\":\"name\",\"line\":{\"width\":0},\"mode\":\"lines\",\"name\":\"Risk Area\",\"showlegend\":false,\"x\":[1.5,1.5,3.6,3.6,4.9,4.9,5.0,5.0,4.9,4.9,0.0,0.0,1.5],\"y\":[4.9,5.0,5.0,4.9,4.9,3.6,3.6,1.5,1.5,0.0,0.0,4.9,4.9],\"type\":\"scatter\"},{\"fill\":\"toself\",\"fillcolor\":\"rgb(255, 0, 0)\",\"hoverinfo\":\"name\",\"line\":{\"width\":0},\"mode\":\"lines\",\"name\":\"Risk Area\",\"showlegend\":false,\"x\":[9.9,9.9,5.1,5.1,5.0,5.0,5.1,5.1,6.4,6.4,8.6,8.6,9.9,9.9,10.0,10.0,9.9],\"y\":[1.5,0.0,0.0,1.5,1.5,3.6,3.6,4.9,4.9,5.0,5.0,4.9,4.9,3.6,3.6,1.5,1.5],\"type\":\"scatter\"},{\"fill\":\"toself\",\"fillcolor\":\"rgb(0, 0, 0)\",\"hoverinfo\":\"name\",\"line\":{\"width\":0},\"mode\":\"lines\",\"name\":\"Risk Area\",\"showlegend\":false,\"x\":[13.6,15.0,15.0,10.1,10.1,10.0,10.0,10.1,10.1,11.5,11.5,13.6,13.6],\"y\":[4.9,4.9,0.0,0.0,1.5,1.5,3.6,3.6,4.9,4.9,5.0,5.0,4.9],\"type\":\"scatter\"},{\"fill\":\"toself\",\"fillcolor\":\"rgb(153, 0, 0)\",\"hoverinfo\":\"name\",\"line\":{\"width\":0},\"mode\":\"lines\",\"name\":\"Risk Area\",\"showlegend\":false,\"x\":[13.6,15.0,15.0,13.6,13.6,11.5,11.5,10.1,10.1,10.0,10.0,10.1,10.1,11.5,11.5,13.6,13.6],\"y\":[9.9,9.9,5.1,5.1,5.0,5.0,5.1,5.1,6.5,6.5,8.6,8.6,9.9,9.9,10.0,10.0,9.9],\"type\":\"scatter\"},{\"fill\":\"toself\",\"fillcolor\":\"rgb(178, 0, 0)\",\"hoverinfo\":\"name\",\"line\":{\"width\":0},\"mode\":\"lines\",\"name\":\"Risk Area\",\"showlegend\":false,\"x\":[9.9,9.9,8.6,8.6,6.4,6.4,5.1,5.1,5.0,5.0,5.1,5.1,6.4,6.4,8.6,8.6,9.9,9.9,10.0,10.0,9.9],\"y\":[6.5,5.1,5.1,5.0,5.0,5.1,5.1,6.5,6.5,8.6,8.6,9.9,9.9,10.0,10.0,9.9,9.9,8.6,8.6,6.5,6.5],\"type\":\"scatter\"},{\"fill\":\"toself\",\"fillcolor\":\"rgb(127, 0, 0)\",\"hoverinfo\":\"name\",\"line\":{\"width\":0},\"mode\":\"lines\",\"name\":\"Risk Area\",\"showlegend\":false,\"x\":[4.9,4.9,3.6,3.6,1.5,1.5,0.0,0.0,1.5,1.5,3.6,3.6,4.9,4.9,5.0,5.0,4.9],\"y\":[6.5,5.1,5.1,5.0,5.0,5.1,5.1,9.9,9.9,10.0,10.0,9.9,9.9,8.6,8.6,6.5,6.5],\"type\":\"scatter\"},{\"fill\":\"toself\",\"fillcolor\":\"rgb(51, 0, 0)\",\"hoverinfo\":\"name\",\"line\":{\"width\":0},\"mode\":\"lines\",\"name\":\"Risk Area\",\"showlegend\":false,\"x\":[1.5,0.0,0.0,4.9,4.9,5.0,5.0,4.9,4.9,3.6,3.6,1.5,1.5],\"y\":[10.1,10.1,15.0,15.0,13.6,13.6,11.5,11.5,10.1,10.1,10.0,10.0,10.1],\"type\":\"scatter\"},{\"fill\":\"toself\",\"fillcolor\":\"rgb(25, 0, 0)\",\"hoverinfo\":\"name\",\"line\":{\"width\":0},\"mode\":\"lines\",\"name\":\"Risk Area\",\"showlegend\":false,\"x\":[6.4,5.1,5.1,5.0,5.0,5.1,5.1,9.9,9.9,10.0,10.0,9.9,9.9,8.6,8.6,6.4,6.4],\"y\":[10.1,10.1,11.5,11.5,13.6,13.6,15.0,15.0,13.6,13.6,11.5,11.5,10.1,10.1,10.0,10.0,10.1],\"type\":\"scatter\"},{\"fill\":\"toself\",\"fillcolor\":\"rgb(0, 0, 0)\",\"hoverinfo\":\"name\",\"line\":{\"width\":0},\"mode\":\"lines\",\"name\":\"Risk Area\",\"showlegend\":false,\"x\":[10.1,10.1,15.0,15.0,13.6,13.6,11.5,11.5,10.1,10.1,10.0,10.0,10.1],\"y\":[13.6,15.0,15.0,10.1,10.1,10.0,10.0,10.1,10.1,11.5,11.5,13.6,13.6],\"type\":\"scatter\"},{\"hoverinfo\":\"text\",\"marker\":{\"opacity\":1,\"size\":1},\"mode\":\"markers\",\"showlegend\":false,\"text\":[\"ID: 101, Pos(2.94,9.26)\"],\"x\":[2.936180755962315],\"y\":[9.263248676991207],\"type\":\"scatter\"},{\"hoverinfo\":\"text\",\"marker\":{\"opacity\":1,\"size\":1},\"mode\":\"markers\",\"showlegend\":false,\"text\":[\"ID: 102, Pos(1.87,8.16)\"],\"x\":[1.8665019472762523],\"y\":[8.157883399167261],\"type\":\"scatter\"},{\"hoverinfo\":\"text\",\"marker\":{\"opacity\":1,\"size\":1},\"mode\":\"markers\",\"showlegend\":false,\"text\":[\"ID: 103, Pos(2.34,6.70)\"],\"x\":[2.342491871909578],\"y\":[6.695631006074036],\"type\":\"scatter\"},{\"hoverinfo\":\"text\",\"marker\":{\"opacity\":1,\"size\":1},\"mode\":\"markers\",\"showlegend\":false,\"text\":[\"ID: 104, Pos(2.78,10.38)\"],\"x\":[2.7809518205481094],\"y\":[10.377223699797199],\"type\":\"scatter\"},{\"hoverinfo\":\"text\",\"marker\":{\"opacity\":1,\"size\":1},\"mode\":\"markers\",\"showlegend\":false,\"text\":[\"ID: 105, Pos(2.25,9.04)\"],\"x\":[2.248780568531154],\"y\":[9.035192113385282],\"type\":\"scatter\"},{\"hoverinfo\":\"text\",\"marker\":{\"opacity\":1,\"size\":1},\"mode\":\"markers\",\"showlegend\":false,\"text\":[\"ID: 106, Pos(2.44,11.11)\"],\"x\":[2.4379373929163024],\"y\":[11.105419707182032],\"type\":\"scatter\"},{\"hoverinfo\":\"text\",\"marker\":{\"opacity\":1,\"size\":1},\"mode\":\"markers\",\"showlegend\":false,\"text\":[\"ID: 107, Pos(3.40,11.22)\"],\"x\":[3.4028752469103947],\"y\":[11.221899180498799],\"type\":\"scatter\"},{\"hoverinfo\":\"text\",\"marker\":{\"opacity\":1,\"size\":1},\"mode\":\"markers\",\"showlegend\":false,\"text\":[\"ID: 108, Pos(3.11,8.11)\"],\"x\":[3.1053058728946605],\"y\":[8.108674707098372],\"type\":\"scatter\"},{\"hoverinfo\":\"text\",\"marker\":{\"opacity\":1,\"size\":1},\"mode\":\"markers\",\"showlegend\":false,\"text\":[\"ID: 109, Pos(2.12,10.17)\"],\"x\":[2.1191684771969577],\"y\":[10.170487447479243],\"type\":\"scatter\"},{\"hoverinfo\":\"text\",\"marker\":{\"opacity\":1,\"size\":1},\"mode\":\"markers\",\"showlegend\":false,\"text\":[\"ID: 110, Pos(2.47,7.87)\"],\"x\":[2.468392947116531],\"y\":[7.870169569792681],\"type\":\"scatter\"}],\"layout\":{\"shapes\":[{\"fillcolor\":\"rgba(0, 0, 241, 0.5)\",\"line\":{\"color\":\"rgba(0, 0, 241, 0.5)\"},\"type\":\"circle\",\"x0\":2.736180755962315,\"x1\":3.1361807559623154,\"xref\":\"x\",\"y0\":9.063248676991208,\"y1\":9.463248676991206,\"yref\":\"y\"},{\"fillcolor\":\"rgba(0, 13, 255, 0.5)\",\"line\":{\"color\":\"rgba(0, 13, 255, 0.5)\"},\"type\":\"circle\",\"x0\":1.6665019472762523,\"x1\":2.0665019472762522,\"xref\":\"x\",\"y0\":7.957883399167261,\"y1\":8.35788339916726,\"yref\":\"y\"},{\"fillcolor\":\"rgba(0, 0, 155, 0.5)\",\"line\":{\"color\":\"rgba(0, 0, 155, 0.5)\"},\"type\":\"circle\",\"x0\":2.142491871909578,\"x1\":2.5424918719095784,\"xref\":\"x\",\"y0\":6.495631006074036,\"y1\":6.895631006074036,\"yref\":\"y\"},{\"fillcolor\":\"rgba(31, 255, 215, 0.5)\",\"line\":{\"color\":\"rgba(31, 255, 215, 0.5)\"},\"type\":\"circle\",\"x0\":2.5809518205481092,\"x1\":2.9809518205481096,\"xref\":\"x\",\"y0\":10.1772236997972,\"y1\":10.577223699797198,\"yref\":\"y\"},{\"fillcolor\":\"rgba(0, 0, 209, 0.5)\",\"line\":{\"color\":\"rgba(0, 0, 209, 0.5)\"},\"type\":\"circle\",\"x0\":2.048780568531154,\"x1\":2.4487805685311543,\"xref\":\"x\",\"y0\":8.835192113385283,\"y1\":9.235192113385281,\"yref\":\"y\"},{\"fillcolor\":\"rgba(0, 212, 255, 0.5)\",\"line\":{\"color\":\"rgba(0, 212, 255, 0.5)\"},\"type\":\"circle\",\"x0\":2.2379373929163022,\"x1\":2.6379373929163026,\"xref\":\"x\",\"y0\":10.905419707182032,\"y1\":11.30541970718203,\"yref\":\"y\"},{\"fillcolor\":\"rgba(0, 136, 255, 0.5)\",\"line\":{\"color\":\"rgba(0, 136, 255, 0.5)\"},\"type\":\"circle\",\"x0\":3.2028752469103945,\"x1\":3.602875246910395,\"xref\":\"x\",\"y0\":11.0218991804988,\"y1\":11.421899180498798,\"yref\":\"y\"},{\"fillcolor\":\"rgba(0, 0, 178, 0.5)\",\"line\":{\"color\":\"rgba(0, 0, 178, 0.5)\"},\"type\":\"circle\",\"x0\":2.9053058728946604,\"x1\":3.3053058728946607,\"xref\":\"x\",\"y0\":7.908674707098371,\"y1\":8.30867470709837,\"yref\":\"y\"},{\"fillcolor\":\"rgba(0, 136, 255, 0.5)\",\"line\":{\"color\":\"rgba(0, 136, 255, 0.5)\"},\"type\":\"circle\",\"x0\":1.9191684771969577,\"x1\":2.319168477196958,\"xref\":\"x\",\"y0\":9.970487447479243,\"y1\":10.370487447479242,\"yref\":\"y\"},{\"fillcolor\":\"rgba(0, 0, 146, 0.5)\",\"line\":{\"color\":\"rgba(0, 0, 146, 0.5)\"},\"type\":\"circle\",\"x0\":2.268392947116531,\"x1\":2.6683929471165313,\"xref\":\"x\",\"y0\":7.670169569792681,\"y1\":8.07016956979268,\"yref\":\"y\"},{\"line\":{\"color\":\"white\",\"width\":3},\"type\":\"line\",\"x0\":2.936180755962315,\"x1\":2.9290424983422376,\"y0\":9.263248676991207,\"y1\":9.463121249592225},{\"line\":{\"color\":\"white\",\"width\":3},\"type\":\"line\",\"x0\":1.8665019472762523,\"x1\":1.8624753649452839,\"y0\":8.157883399167261,\"y1\":8.357842861645864},{\"line\":{\"color\":\"white\",\"width\":3},\"type\":\"line\",\"x0\":2.342491871909578,\"x1\":2.347900908767603,\"y0\":6.695631006074036,\"y1\":6.8955578484946285},{\"line\":{\"color\":\"black\",\"width\":3},\"type\":\"line\",\"x0\":2.7809518205481094,\"x1\":2.7842262635813264,\"y0\":10.377223699797199,\"y1\":10.577196893057751},{\"line\":{\"color\":\"white\",\"width\":3},\"type\":\"line\",\"x0\":2.248780568531154,\"x1\":2.244580587759477,\"y0\":9.035192113385282,\"y1\":9.235148008926068},{\"line\":{\"color\":\"black\",\"width\":3},\"type\":\"line\",\"x0\":2.4379373929163024,\"x1\":2.6278229894530054,\"y0\":11.105419707182032,\"y1\":11.168216683446024},{\"line\":{\"color\":\"white\",\"width\":3},\"type\":\"line\",\"x0\":3.4028752469103947,\"x1\":3.593349351330731,\"y0\":11.221899180498799,\"y1\":11.28288783145347},{\"line\":{\"color\":\"white\",\"width\":3},\"type\":\"line\",\"x0\":3.1053058728946605,\"x1\":3.107692845214947,\"y0\":8.108674707098372,\"y1\":8.308660462498956},{\"line\":{\"color\":\"white\",\"width\":3},\"type\":\"line\",\"x0\":2.1191684771969577,\"x1\":2.12542852643578,\"y0\":10.170487447479243,\"y1\":10.370389452930732},{\"line\":{\"color\":\"white\",\"width\":3},\"type\":\"line\",\"x0\":2.468392947116531,\"x1\":2.473067626116397,\"y0\":7.870169569792681,\"y1\":8.070114930769744}],\"title\":{\"text\":\"\\u003cb\\u003ePercentage using the shortest path: 0%  |  Number of Agents: 10\\u003c\\u002fb\\u003e\",\"x\":0.5}},\"name\":\"250\"},{\"data\":[{\"hoverinfo\":\"name\",\"line\":{\"color\":\"white\"},\"mode\":\"lines\",\"name\":\"Exterior\",\"showlegend\":false,\"x\":[10.1,10.1,15.0,15.0,13.6,13.6,15.0,15.0,13.6,13.6,15.0,15.0,10.1,10.1,9.9,9.9,5.1,5.1,4.9,4.9,0.0,0.0,1.5,1.5,0.0,0.0,1.5,1.5,0.0,0.0,4.9,4.9,5.1,5.1,9.9,9.9,10.1],\"y\":[1.5,0.0,0.0,4.9,4.9,5.1,5.1,9.9,9.9,10.1,10.1,15.0,15.0,13.6,13.6,15.0,15.0,13.6,13.6,15.0,15.0,10.1,10.1,9.9,9.9,5.1,5.1,4.9,4.9,0.0,0.0,1.5,1.5,0.0,0.0,1.5,1.5],\"type\":\"scatter\"},{\"hoverinfo\":\"name\",\"line\":{\"color\":\"white\"},\"mode\":\"lines\",\"name\":\"Obstacle\",\"showlegend\":false,\"x\":[10.1,11.5,11.5,10.1,10.1,9.9,9.9,8.6,8.6,9.9,9.9,10.1,10.1],\"y\":[5.1,5.1,4.9,4.9,3.6,3.6,4.9,4.9,5.1,5.1,6.5,6.5,5.1],\"type\":\"scatter\"},{\"hoverinfo\":\"name\",\"line\":{\"color\":\"white\"},\"mode\":\"lines\",\"name\":\"Obstacle\",\"showlegend\":false,\"x\":[10.1,11.5,11.5,10.1,10.1,9.9,9.9,8.6,8.6,9.9,9.9,10.1,10.1],\"y\":[10.1,10.1,9.9,9.9,8.6,8.6,9.9,9.9,10.1,10.1,11.5,11.5,10.1],\"type\":\"scatter\"},{\"hoverinfo\":\"name\",\"line\":{\"color\":\"white\"},\"mode\":\"lines\",\"name\":\"Obstacle\",\"showlegend\":false,\"x\":[5.1,6.4,6.4,5.1,5.1,4.9,4.9,3.6,3.6,4.9,4.9,5.1,5.1],\"y\":[5.1,5.1,4.9,4.9,3.6,3.6,4.9,4.9,5.1,5.1,6.5,6.5,5.1],\"type\":\"scatter\"},{\"hoverinfo\":\"name\",\"line\":{\"color\":\"white\"},\"mode\":\"lines\",\"name\":\"Obstacle\",\"showlegend\":false,\"x\":[5.1,6.4,6.4,5.1,5.1,4.9,4.9,3.6,3.6,4.9,4.9,5.1,5.1],\"y\":[10.1,10.1,9.9,9.9,8.6,8.6,9.9,9.9,10.1,10.1,11.5,11.5,10.1],\"type\":\"scatter\"},{\"fill\":\"toself\",\"fillcolor\":\"rgb(0, 0, 0)\",\"hoverinfo\":\"name\",\"line\":{\"width\":0},\"mode\":\"lines\",\"name\":\"Risk Area\",\"showlegend\":false,\"x\":[1.5,1.5,3.6,3.6,4.9,4.9,5.0,5.0,4.9,4.9,0.0,0.0,1.5],\"y\":[4.9,5.0,5.0,4.9,4.9,3.6,3.6,1.5,1.5,0.0,0.0,4.9,4.9],\"type\":\"scatter\"},{\"fill\":\"toself\",\"fillcolor\":\"rgb(255, 0, 0)\",\"hoverinfo\":\"name\",\"line\":{\"width\":0},\"mode\":\"lines\",\"name\":\"Risk Area\",\"showlegend\":false,\"x\":[9.9,9.9,5.1,5.1,5.0,5.0,5.1,5.1,6.4,6.4,8.6,8.6,9.9,9.9,10.0,10.0,9.9],\"y\":[1.5,0.0,0.0,1.5,1.5,3.6,3.6,4.9,4.9,5.0,5.0,4.9,4.9,3.6,3.6,1.5,1.5],\"type\":\"scatter\"},{\"fill\":\"toself\",\"fillcolor\":\"rgb(0, 0, 0)\",\"hoverinfo\":\"name\",\"line\":{\"width\":0},\"mode\":\"lines\",\"name\":\"Risk Area\",\"showlegend\":false,\"x\":[13.6,15.0,15.0,10.1,10.1,10.0,10.0,10.1,10.1,11.5,11.5,13.6,13.6],\"y\":[4.9,4.9,0.0,0.0,1.5,1.5,3.6,3.6,4.9,4.9,5.0,5.0,4.9],\"type\":\"scatter\"},{\"fill\":\"toself\",\"fillcolor\":\"rgb(178, 0, 0)\",\"hoverinfo\":\"name\",\"line\":{\"width\":0},\"mode\":\"lines\",\"name\":\"Risk Area\",\"showlegend\":false,\"x\":[13.6,15.0,15.0,13.6,13.6,11.5,11.5,10.1,10.1,10.0,10.0,10.1,10.1,11.5,11.5,13.6,13.6],\"y\":[9.9,9.9,5.1,5.1,5.0,5.0,5.1,5.1,6.5,6.5,8.6,8.6,9.9,9.9,10.0,10.0,9.9],\"type\":\"scatter\"},{\"fill\":\"toself\",\"fillcolor\":\"rgb(178, 0, 0)\",\"hoverinfo\":\"name\",\"line\":{\"width\":0},\"mode\":\"lines\",\"name\":\"Risk Area\",\"showlegend\":false,\"x\":[9.9,9.9,8.6,8.6,6.4,6.4,5.1,5.1,5.0,5.0,5.1,5.1,6.4,6.4,8.6,8.6,9.9,9.9,10.0,10.0,9.9],\"y\":[6.5,5.1,5.1,5.0,5.0,5.1,5.1,6.5,6.5,8.6,8.6,9.9,9.9,10.0,10.0,9.9,9.9,8.6,8.6,6.5,6.5],\"type\":\"scatter\"},{\"fill\":\"toself\",\"fillcolor\":\"rgb(127, 0, 0)\",\"hoverinfo\":\"name\",\"line\":{\"width\":0},\"mode\":\"lines\",\"name\":\"Risk Area\",\"showlegend\":false,\"x\":[4.9,4.9,3.6,3.6,1.5,1.5,0.0,0.0,1.5,1.5,3.6,3.6,4.9,4.9,5.0,5.0,4.9],\"y\":[6.5,5.1,5.1,5.0,5.0,5.1,5.1,9.9,9.9,10.0,10.0,9.9,9.9,8.6,8.6,6.5,6.5],\"type\":\"scatter\"},{\"fill\":\"toself\",\"fillcolor\":\"rgb(51, 0, 0)\",\"hoverinfo\":\"name\",\"line\":{\"width\":0},\"mode\":\"lines\",\"name\":\"Risk Area\",\"showlegend\":false,\"x\":[1.5,0.0,0.0,4.9,4.9,5.0,5.0,4.9,4.9,3.6,3.6,1.5,1.5],\"y\":[10.1,10.1,15.0,15.0,13.6,13.6,11.5,11.5,10.1,10.1,10.0,10.0,10.1],\"type\":\"scatter\"},{\"fill\":\"toself\",\"fillcolor\":\"rgb(25, 0, 0)\",\"hoverinfo\":\"name\",\"line\":{\"width\":0},\"mode\":\"lines\",\"name\":\"Risk Area\",\"showlegend\":false,\"x\":[6.4,5.1,5.1,5.0,5.0,5.1,5.1,9.9,9.9,10.0,10.0,9.9,9.9,8.6,8.6,6.4,6.4],\"y\":[10.1,10.1,11.5,11.5,13.6,13.6,15.0,15.0,13.6,13.6,11.5,11.5,10.1,10.1,10.0,10.0,10.1],\"type\":\"scatter\"},{\"fill\":\"toself\",\"fillcolor\":\"rgb(25, 0, 0)\",\"hoverinfo\":\"name\",\"line\":{\"width\":0},\"mode\":\"lines\",\"name\":\"Risk Area\",\"showlegend\":false,\"x\":[10.1,10.1,15.0,15.0,13.6,13.6,11.5,11.5,10.1,10.1,10.0,10.0,10.1],\"y\":[13.6,15.0,15.0,10.1,10.1,10.0,10.0,10.1,10.1,11.5,11.5,13.6,13.6],\"type\":\"scatter\"},{\"hoverinfo\":\"text\",\"marker\":{\"opacity\":1,\"size\":1},\"mode\":\"markers\",\"showlegend\":false,\"text\":[\"ID: 101, Pos(2.91,10.21)\"],\"x\":[2.905769069036135],\"y\":[10.214968184692834],\"type\":\"scatter\"},{\"hoverinfo\":\"text\",\"marker\":{\"opacity\":1,\"size\":1},\"mode\":\"markers\",\"showlegend\":false,\"text\":[\"ID: 102, Pos(1.84,9.46)\"],\"x\":[1.8414890481883006],\"y\":[9.45588349310743],\"type\":\"scatter\"},{\"hoverinfo\":\"text\",\"marker\":{\"opacity\":1,\"size\":1},\"mode\":\"markers\",\"showlegend\":false,\"text\":[\"ID: 103, Pos(2.38,8.23)\"],\"x\":[2.384135981853673],\"y\":[8.233686547791118],\"type\":\"scatter\"},{\"hoverinfo\":\"text\",\"marker\":{\"opacity\":1,\"size\":1},\"mode\":\"markers\",\"showlegend\":false,\"text\":[\"ID: 104, Pos(2.82,10.93)\"],\"x\":[2.81660442741061],\"y\":[10.933167901213666],\"type\":\"scatter\"},{\"hoverinfo\":\"text\",\"marker\":{\"opacity\":1,\"size\":1},\"mode\":\"markers\",\"showlegend\":false,\"text\":[\"ID: 105, Pos(2.21,10.42)\"],\"x\":[2.213955962540989],\"y\":[10.422175397420613],\"type\":\"scatter\"},{\"hoverinfo\":\"text\",\"marker\":{\"opacity\":1,\"size\":1},\"mode\":\"markers\",\"showlegend\":false,\"text\":[\"ID: 106, Pos(3.30,11.45)\"],\"x\":[3.298396252812521],\"y\":[11.453738062351684],\"type\":\"scatter\"},{\"hoverinfo\":\"text\",\"marker\":{\"opacity\":1,\"size\":1},\"mode\":\"markers\",\"showlegend\":false,\"text\":[\"ID: 107, Pos(4.03,11.83)\"],\"x\":[4.025456126087324],\"y\":[11.826273433338315],\"type\":\"scatter\"},{\"hoverinfo\":\"text\",\"marker\":{\"opacity\":1,\"size\":1},\"mode\":\"markers\",\"showlegend\":false,\"text\":[\"ID: 108, Pos(3.13,9.37)\"],\"x\":[3.1334990078877394],\"y\":[9.371216942720983],\"type\":\"scatter\"},{\"hoverinfo\":\"text\",\"marker\":{\"opacity\":1,\"size\":1},\"mode\":\"markers\",\"showlegend\":false,\"text\":[\"ID: 109, Pos(2.53,11.41)\"],\"x\":[2.5315118102109158],\"y\":[11.407601624537062],\"type\":\"scatter\"},{\"hoverinfo\":\"text\",\"marker\":{\"opacity\":1,\"size\":1},\"mode\":\"markers\",\"showlegend\":false,\"text\":[\"ID: 110, Pos(2.48,9.37)\"],\"x\":[2.484246685127603],\"y\":[9.369758716453255],\"type\":\"scatter\"}],\"layout\":{\"shapes\":[{\"fillcolor\":\"rgba(206, 255, 41, 0.5)\",\"line\":{\"color\":\"rgba(206, 255, 41, 0.5)\"},\"type\":\"circle\",\"x0\":2.7057690690361347,\"x1\":3.105769069036135,\"xref\":\"x\",\"y0\":10.014968184692835,\"y1\":10.414968184692833,\"yref\":\"y\"},{\"fillcolor\":\"rgba(0, 80, 255, 0.5)\",\"line\":{\"color\":\"rgba(0, 80, 255, 0.5)\"},\"type\":\"circle\",\"x0\":1.6414890481883007,\"x1\":2.041489048188301,\"xref\":\"x\",\"y0\":9.255883493107431,\"y1\":9.65588349310743,\"yref\":\"y\"},{\"fillcolor\":\"rgba(0, 0, 214, 0.5)\",\"line\":{\"color\":\"rgba(0, 0, 214, 0.5)\"},\"type\":\"circle\",\"x0\":2.184135981853673,\"x1\":2.5841359818536733,\"xref\":\"x\",\"y0\":8.033686547791119,\"y1\":8.433686547791117,\"yref\":\"y\"},{\"fillcolor\":\"rgba(255, 148, 0, 0.5)\",\"line\":{\"color\":\"rgba(255, 148, 0, 0.5)\"},\"type\":\"circle\",\"x0\":2.6166044274106097,\"x1\":3.01660442741061,\"xref\":\"x\",\"y0\":10.733167901213667,\"y1\":11.133167901213666,\"yref\":\"y\"},{\"fillcolor\":\"rgba(0, 56, 255, 0.5)\",\"line\":{\"color\":\"rgba(0, 56, 255, 0.5)\"},\"type\":\"circle\",\"x0\":2.013955962540989,\"x1\":2.413955962540989,\"xref\":\"x\",\"y0\":10.222175397420614,\"y1\":10.622175397420612,\"yref\":\"y\"},{\"fillcolor\":\"rgba(167, 255, 80, 0.5)\",\"line\":{\"color\":\"rgba(167, 255, 80, 0.5)\"},\"type\":\"circle\",\"x0\":3.098396252812521,\"x1\":3.498396252812521,\"xref\":\"x\",\"y0\":11.253738062351685,\"y1\":11.653738062351684,\"yref\":\"y\"},{\"fillcolor\":\"rgba(254, 237, 0, 0.5)\",\"line\":{\"color\":\"rgba(254, 237, 0, 0.5)\"},\"type\":\"circle\",\"x0\":3.8254561260873237,\"x1\":4.225456126087324,\"xref\":\"x\",\"y0\":11.626273433338316,\"y1\":12.026273433338314,\"yref\":\"y\"},{\"fillcolor\":\"rgba(48, 255, 199, 0.5)\",\"line\":{\"color\":\"rgba(48, 255, 199, 0.5)\"},\"type\":\"circle\",\"x0\":2.933499007887739,\"x1\":3.3334990078877396,\"xref\":\"x\",\"y0\":9.171216942720983,\"y1\":9.571216942720982,\"yref\":\"y\"},{\"fillcolor\":\"rgba(0, 0, 128, 0.5)\",\"line\":{\"color\":\"rgba(0, 0, 128, 0.5)\"},\"type\":\"circle\",\"x0\":2.3315118102109156,\"x1\":2.731511810210916,\"xref\":\"x\",\"y0\":11.207601624537062,\"y1\":11.607601624537061,\"yref\":\"y\"},{\"fillcolor\":\"rgba(0, 13, 255, 0.5)\",\"line\":{\"color\":\"rgba(0, 13, 255, 0.5)\"},\"type\":\"circle\",\"x0\":2.2842466851276026,\"x1\":2.684246685127603,\"xref\":\"x\",\"y0\":9.169758716453256,\"y1\":9.569758716453254,\"yref\":\"y\"},{\"line\":{\"color\":\"black\",\"width\":3},\"type\":\"line\",\"x0\":2.905769069036135,\"x1\":2.891510980364122,\"y0\":10.214968184692834,\"y1\":10.414459304563923},{\"line\":{\"color\":\"white\",\"width\":3},\"type\":\"line\",\"x0\":1.8414890481883006,\"x1\":1.841137163062366,\"y0\":9.45588349310743,\"y1\":9.655883183549337},{\"line\":{\"color\":\"white\",\"width\":3},\"type\":\"line\",\"x0\":2.384135981853673,\"x1\":2.3895474656841595,\"y0\":8.233686547791118,\"y1\":8.433613323993688},{\"line\":{\"color\":\"black\",\"width\":3},\"type\":\"line\",\"x0\":2.81660442741061,\"x1\":2.833020036960149,\"y0\":10.933167901213666,\"y1\":11.132493082169603},{\"line\":{\"color\":\"white\",\"width\":3},\"type\":\"line\",\"x0\":2.213955962540989,\"x1\":2.2132727628564313,\"y0\":10.422175397420613,\"y1\":10.622174230512686},{\"line\":{\"color\":\"black\",\"width\":3},\"type\":\"line\",\"x0\":3.298396252812521,\"x1\":3.4903300882324424,\"y0\":11.453738062351684,\"y1\":11.50996441579025},{\"line\":{\"color\":\"black\",\"width\":3},\"type\":\"line\",\"x0\":4.025456126087324,\"x1\":4.221357731859541,\"y0\":11.826273433338315,\"y1\":11.866554456858912},{\"line\":{\"color\":\"black\",\"width\":3},\"type\":\"line\",\"x0\":3.1334990078877394,\"x1\":3.13833436739346,\"y0\":9.371216942720983,\"y1\":9.571158482423092},{\"line\":{\"color\":\"white\",\"width\":3},\"type\":\"line\",\"x0\":2.5315118102109158,\"x1\":2.6637841033453133,\"y0\":11.407601624537062,\"y1\":11.557615092162365},{\"line\":{\"color\":\"white\",\"width\":3},\"type\":\"line\",\"x0\":2.484246685127603,\"x1\":2.4843173297414056,\"y0\":9.369758716453255,\"y1\":9.569758703976602}],\"title\":{\"text\":\"\\u003cb\\u003ePercentage using the shortest path: 0%  |  Number of Agents: 10\\u003c\\u002fb\\u003e\",\"x\":0.5}},\"name\":\"300\"},{\"data\":[{\"hoverinfo\":\"name\",\"line\":{\"color\":\"white\"},\"mode\":\"lines\",\"name\":\"Exterior\",\"showlegend\":false,\"x\":[10.1,10.1,15.0,15.0,13.6,13.6,15.0,15.0,13.6,13.6,15.0,15.0,10.1,10.1,9.9,9.9,5.1,5.1,4.9,4.9,0.0,0.0,1.5,1.5,0.0,0.0,1.5,1.5,0.0,0.0,4.9,4.9,5.1,5.1,9.9,9.9,10.1],\"y\":[1.5,0.0,0.0,4.9,4.9,5.1,5.1,9.9,9.9,10.1,10.1,15.0,15.0,13.6,13.6,15.0,15.0,13.6,13.6,15.0,15.0,10.1,10.1,9.9,9.9,5.1,5.1,4.9,4.9,0.0,0.0,1.5,1.5,0.0,0.0,1.5,1.5],\"type\":\"scatter\"},{\"hoverinfo\":\"name\",\"line\":{\"color\":\"white\"},\"mode\":\"lines\",\"name\":\"Obstacle\",\"showlegend\":false,\"x\":[10.1,11.5,11.5,10.1,10.1,9.9,9.9,8.6,8.6,9.9,9.9,10.1,10.1],\"y\":[5.1,5.1,4.9,4.9,3.6,3.6,4.9,4.9,5.1,5.1,6.5,6.5,5.1],\"type\":\"scatter\"},{\"hoverinfo\":\"name\",\"line\":{\"color\":\"white\"},\"mode\":\"lines\",\"name\":\"Obstacle\",\"showlegend\":false,\"x\":[10.1,11.5,11.5,10.1,10.1,9.9,9.9,8.6,8.6,9.9,9.9,10.1,10.1],\"y\":[10.1,10.1,9.9,9.9,8.6,8.6,9.9,9.9,10.1,10.1,11.5,11.5,10.1],\"type\":\"scatter\"},{\"hoverinfo\":\"name\",\"line\":{\"color\":\"white\"},\"mode\":\"lines\",\"name\":\"Obstacle\",\"showlegend\":false,\"x\":[5.1,6.4,6.4,5.1,5.1,4.9,4.9,3.6,3.6,4.9,4.9,5.1,5.1],\"y\":[5.1,5.1,4.9,4.9,3.6,3.6,4.9,4.9,5.1,5.1,6.5,6.5,5.1],\"type\":\"scatter\"},{\"hoverinfo\":\"name\",\"line\":{\"color\":\"white\"},\"mode\":\"lines\",\"name\":\"Obstacle\",\"showlegend\":false,\"x\":[5.1,6.4,6.4,5.1,5.1,4.9,4.9,3.6,3.6,4.9,4.9,5.1,5.1],\"y\":[10.1,10.1,9.9,9.9,8.6,8.6,9.9,9.9,10.1,10.1,11.5,11.5,10.1],\"type\":\"scatter\"},{\"fill\":\"toself\",\"fillcolor\":\"rgb(0, 0, 0)\",\"hoverinfo\":\"name\",\"line\":{\"width\":0},\"mode\":\"lines\",\"name\":\"Risk Area\",\"showlegend\":false,\"x\":[1.5,1.5,3.6,3.6,4.9,4.9,5.0,5.0,4.9,4.9,0.0,0.0,1.5],\"y\":[4.9,5.0,5.0,4.9,4.9,3.6,3.6,1.5,1.5,0.0,0.0,4.9,4.9],\"type\":\"scatter\"},{\"fill\":\"toself\",\"fillcolor\":\"rgb(255, 0, 0)\",\"hoverinfo\":\"name\",\"line\":{\"width\":0},\"mode\":\"lines\",\"name\":\"Risk Area\",\"showlegend\":false,\"x\":[9.9,9.9,5.1,5.1,5.0,5.0,5.1,5.1,6.4,6.4,8.6,8.6,9.9,9.9,10.0,10.0,9.9],\"y\":[1.5,0.0,0.0,1.5,1.5,3.6,3.6,4.9,4.9,5.0,5.0,4.9,4.9,3.6,3.6,1.5,1.5],\"type\":\"scatter\"},{\"fill\":\"toself\",\"fillcolor\":\"rgb(0, 0, 0)\",\"hoverinfo\":\"name\",\"line\":{\"width\":0},\"mode\":\"lines\",\"name\":\"Risk Area\",\"showlegend\":false,\"x\":[13.6,15.0,15.0,10.1,10.1,10.0,10.0,10.1,10.1,11.5,11.5,13.6,13.6],\"y\":[4.9,4.9,0.0,0.0,1.5,1.5,3.6,3.6,4.9,4.9,5.0,5.0,4.9],\"type\":\"scatter\"},{\"fill\":\"toself\",\"fillcolor\":\"rgb(178, 0, 0)\",\"hoverinfo\":\"name\",\"line\":{\"width\":0},\"mode\":\"lines\",\"name\":\"Risk Area\",\"showlegend\":false,\"x\":[13.6,15.0,15.0,13.6,13.6,11.5,11.5,10.1,10.1,10.0,10.0,10.1,10.1,11.5,11.5,13.6,13.6],\"y\":[9.9,9.9,5.1,5.1,5.0,5.0,5.1,5.1,6.5,6.5,8.6,8.6,9.9,9.9,10.0,10.0,9.9],\"type\":\"scatter\"},{\"fill\":\"toself\",\"fillcolor\":\"rgb(178, 0, 0)\",\"hoverinfo\":\"name\",\"line\":{\"width\":0},\"mode\":\"lines\",\"name\":\"Risk Area\",\"showlegend\":false,\"x\":[9.9,9.9,8.6,8.6,6.4,6.4,5.1,5.1,5.0,5.0,5.1,5.1,6.4,6.4,8.6,8.6,9.9,9.9,10.0,10.0,9.9],\"y\":[6.5,5.1,5.1,5.0,5.0,5.1,5.1,6.5,6.5,8.6,8.6,9.9,9.9,10.0,10.0,9.9,9.9,8.6,8.6,6.5,6.5],\"type\":\"scatter\"},{\"fill\":\"toself\",\"fillcolor\":\"rgb(127, 0, 0)\",\"hoverinfo\":\"name\",\"line\":{\"width\":0},\"mode\":\"lines\",\"name\":\"Risk Area\",\"showlegend\":false,\"x\":[4.9,4.9,3.6,3.6,1.5,1.5,0.0,0.0,1.5,1.5,3.6,3.6,4.9,4.9,5.0,5.0,4.9],\"y\":[6.5,5.1,5.1,5.0,5.0,5.1,5.1,9.9,9.9,10.0,10.0,9.9,9.9,8.6,8.6,6.5,6.5],\"type\":\"scatter\"},{\"fill\":\"toself\",\"fillcolor\":\"rgb(51, 0, 0)\",\"hoverinfo\":\"name\",\"line\":{\"width\":0},\"mode\":\"lines\",\"name\":\"Risk Area\",\"showlegend\":false,\"x\":[1.5,0.0,0.0,4.9,4.9,5.0,5.0,4.9,4.9,3.6,3.6,1.5,1.5],\"y\":[10.1,10.1,15.0,15.0,13.6,13.6,11.5,11.5,10.1,10.1,10.0,10.0,10.1],\"type\":\"scatter\"},{\"fill\":\"toself\",\"fillcolor\":\"rgb(25, 0, 0)\",\"hoverinfo\":\"name\",\"line\":{\"width\":0},\"mode\":\"lines\",\"name\":\"Risk Area\",\"showlegend\":false,\"x\":[6.4,5.1,5.1,5.0,5.0,5.1,5.1,9.9,9.9,10.0,10.0,9.9,9.9,8.6,8.6,6.4,6.4],\"y\":[10.1,10.1,11.5,11.5,13.6,13.6,15.0,15.0,13.6,13.6,11.5,11.5,10.1,10.1,10.0,10.0,10.1],\"type\":\"scatter\"},{\"fill\":\"toself\",\"fillcolor\":\"rgb(25, 0, 0)\",\"hoverinfo\":\"name\",\"line\":{\"width\":0},\"mode\":\"lines\",\"name\":\"Risk Area\",\"showlegend\":false,\"x\":[10.1,10.1,15.0,15.0,13.6,13.6,11.5,11.5,10.1,10.1,10.0,10.0,10.1],\"y\":[13.6,15.0,15.0,10.1,10.1,10.0,10.0,10.1,10.1,11.5,11.5,13.6,13.6],\"type\":\"scatter\"},{\"hoverinfo\":\"text\",\"marker\":{\"opacity\":1,\"size\":1},\"mode\":\"markers\",\"showlegend\":false,\"text\":[\"ID: 101, Pos(2.86,10.72)\"],\"x\":[2.8565885823018355],\"y\":[10.722103307252944],\"type\":\"scatter\"},{\"hoverinfo\":\"text\",\"marker\":{\"opacity\":1,\"size\":1},\"mode\":\"markers\",\"showlegend\":false,\"text\":[\"ID: 102, Pos(1.97,10.84)\"],\"x\":[1.9659899902993228],\"y\":[10.838590847777983],\"type\":\"scatter\"},{\"hoverinfo\":\"text\",\"marker\":{\"opacity\":1,\"size\":1},\"mode\":\"markers\",\"showlegend\":false,\"text\":[\"ID: 103, Pos(2.41,9.43)\"],\"x\":[2.4147785800346253],\"y\":[9.432399348611538],\"type\":\"scatter\"},{\"hoverinfo\":\"text\",\"marker\":{\"opacity\":1,\"size\":1},\"mode\":\"markers\",\"showlegend\":false,\"text\":[\"ID: 104, Pos(3.29,11.20)\"],\"x\":[3.2941667084628445],\"y\":[11.20177966383112],\"type\":\"scatter\"},{\"hoverinfo\":\"text\",\"marker\":{\"opacity\":1,\"size\":1},\"mode\":\"markers\",\"showlegend\":false,\"text\":[\"ID: 105, Pos(2.68,11.31)\"],\"x\":[2.676043534304297],\"y\":[11.31080792468494],\"type\":\"scatter\"},{\"hoverinfo\":\"text\",\"marker\":{\"opacity\":1,\"size\":1},\"mode\":\"markers\",\"showlegend\":false,\"text\":[\"ID: 106, Pos(3.73,11.60)\"],\"x\":[3.726451586247561],\"y\":[11.602373800947436],\"type\":\"scatter\"},{\"hoverinfo\":\"text\",\"marker\":{\"opacity\":1,\"size\":1},\"mode\":\"markers\",\"showlegend\":false,\"text\":[\"ID: 107, Pos(4.19,12.31)\"],\"x\":[4.187034804840907],\"y\":[12.30726075619106],\"type\":\"scatter\"},{\"hoverinfo\":\"text\",\"marker\":{\"opacity\":1,\"size\":1},\"mode\":\"markers\",\"showlegend\":false,\"text\":[\"ID: 108, Pos(3.11,10.09)\"],\"x\":[3.1074077766690604],\"y\":[10.093585735402108],\"type\":\"scatter\"},{\"hoverinfo\":\"text\",\"marker\":{\"opacity\":1,\"size\":1},\"mode\":\"markers\",\"showlegend\":false,\"text\":[\"ID: 109, Pos(3.46,12.08)\"],\"x\":[3.464679987289801],\"y\":[12.08356485808892],\"type\":\"scatter\"},{\"hoverinfo\":\"text\",\"marker\":{\"opacity\":1,\"size\":1},\"mode\":\"markers\",\"showlegend\":false,\"text\":[\"ID: 110, Pos(2.43,10.30)\"],\"x\":[2.426770389111534],\"y\":[10.304842456110933],\"type\":\"scatter\"}],\"layout\":{\"shapes\":[{\"fillcolor\":\"rgba(255, 167, 0, 0.5)\",\"line\":{\"color\":\"rgba(255, 167, 0, 0.5)\"},\"type\":\"circle\",\"x0\":2.6565885823018354,\"x1\":3.0565885823018357,\"xref\":\"x\",\"y0\":10.522103307252944,\"y1\":10.922103307252943,\"yref\":\"y\"},{\"fillcolor\":\"rgba(0, 0, 128, 0.5)\",\"line\":{\"color\":\"rgba(0, 0, 128, 0.5)\"},\"type\":\"circle\",\"x0\":1.7659899902993228,\"x1\":2.1659899902993227,\"xref\":\"x\",\"y0\":10.638590847777984,\"y1\":11.038590847777982,\"yref\":\"y\"},{\"fillcolor\":\"rgba(48, 255, 199, 0.5)\",\"line\":{\"color\":\"rgba(48, 255, 199, 0.5)\"},\"type\":\"circle\",\"x0\":2.214778580034625,\"x1\":2.6147785800346255,\"xref\":\"x\",\"y0\":9.232399348611539,\"y1\":9.632399348611537,\"yref\":\"y\"},{\"fillcolor\":\"rgba(255, 178, 0, 0.5)\",\"line\":{\"color\":\"rgba(255, 178, 0, 0.5)\"},\"type\":\"circle\",\"x0\":3.0941667084628444,\"x1\":3.4941667084628447,\"xref\":\"x\",\"y0\":11.00177966383112,\"y1\":11.40177966383112,\"yref\":\"y\"},{\"fillcolor\":\"rgba(0, 0, 255, 0.5)\",\"line\":{\"color\":\"rgba(0, 0, 255, 0.5)\"},\"type\":\"circle\",\"x0\":2.476043534304297,\"x1\":2.8760435343042974,\"xref\":\"x\",\"y0\":11.110807924684941,\"y1\":11.51080792468494,\"yref\":\"y\"},{\"fillcolor\":\"rgba(255, 56, 0, 0.5)\",\"line\":{\"color\":\"rgba(255, 56, 0, 0.5)\"},\"type\":\"circle\",\"x0\":3.526451586247561,\"x1\":3.9264515862475613,\"xref\":\"x\",\"y0\":11.402373800947437,\"y1\":11.802373800947436,\"yref\":\"y\"},{\"fillcolor\":\"rgba(255, 219, 0, 0.5)\",\"line\":{\"color\":\"rgba(255, 219, 0, 0.5)\"},\"type\":\"circle\",\"x0\":3.987034804840907,\"x1\":4.387034804840908,\"xref\":\"x\",\"y0\":12.10726075619106,\"y1\":12.507260756191059,\"yref\":\"y\"},{\"fillcolor\":\"rgba(251, 241, 0, 0.5)\",\"line\":{\"color\":\"rgba(251, 241, 0, 0.5)\"},\"type\":\"circle\",\"x0\":2.9074077766690603,\"x1\":3.3074077766690606,\"xref\":\"x\",\"y0\":9.893585735402109,\"y1\":10.293585735402107,\"yref\":\"y\"},{\"fillcolor\":\"rgba(199, 255, 48, 0.5)\",\"line\":{\"color\":\"rgba(199, 255, 48, 0.5)\"},\"type\":\"circle\",\"x0\":3.2646799872898007,\"x1\":3.664679987289801,\"xref\":\"x\",\"y0\":11.88356485808892,\"y1\":12.28356485808892,\"yref\":\"y\"},{\"fillcolor\":\"rgba(225, 255, 22, 0.5)\",\"line\":{\"color\":\"rgba(225, 255, 22, 0.5)\"},\"type\":\"circle\",\"x0\":2.226770389111534,\"x1\":2.626770389111534,\"xref\":\"x\",\"y0\":10.104842456110934,\"y1\":10.504842456110932,\"yref\":\"y\"},{\"line\":{\"color\":\"black\",\"width\":3},\"type\":\"line\",\"x0\":2.8565885823018355,\"x1\":2.848648200632853,\"y0\":10.722103307252944,\"y1\":10.921945620937887},{\"line\":{\"color\":\"white\",\"width\":3},\"type\":\"line\",\"x0\":1.9659899902993228,\"x1\":2.000505847420713,\"y0\":10.838590847777983,\"y1\":11.035589973682582},{\"line\":{\"color\":\"black\",\"width\":3},\"type\":\"line\",\"x0\":2.4147785800346253,\"x1\":2.4189806992039276,\"y0\":9.432399348611538,\"y1\":9.632355199224834},{\"line\":{\"color\":\"black\",\"width\":3},\"type\":\"line\",\"x0\":3.2941667084628445,\"x1\":3.4929534093105454,\"y0\":11.20177966383112,\"y1\":11.223776199151182},{\"line\":{\"color\":\"white\",\"width\":3},\"type\":\"line\",\"x0\":2.676043534304297,\"x1\":2.823317298002772,\"y0\":11.31080792468494,\"y1\":11.44612399367191},{\"line\":{\"color\":\"white\",\"width\":3},\"type\":\"line\",\"x0\":3.726451586247561,\"x1\":3.926274610245306,\"y0\":11.602373800947436,\"y1\":11.593961959270569},{\"line\":{\"color\":\"black\",\"width\":3},\"type\":\"line\",\"x0\":4.187034804840907,\"x1\":4.386061346487098,\"y0\":12.30726075619106,\"y1\":12.326969528866112},{\"line\":{\"color\":\"black\",\"width\":3},\"type\":\"line\",\"x0\":3.1074077766690604,\"x1\":3.081503542861497,\"y0\":10.093585735402108,\"y1\":10.29190106680854},{\"line\":{\"color\":\"black\",\"width\":3},\"type\":\"line\",\"x0\":3.464679987289801,\"x1\":3.603993221518591,\"y0\":12.08356485808892,\"y1\":12.227063369470446},{\"line\":{\"color\":\"black\",\"width\":3},\"type\":\"line\",\"x0\":2.426770389111534,\"x1\":2.3602251266529928,\"y0\":10.304842456110933,\"y1\":10.493447143338805}],\"title\":{\"text\":\"\\u003cb\\u003ePercentage using the shortest path: 0%  |  Number of Agents: 10\\u003c\\u002fb\\u003e\",\"x\":0.5}},\"name\":\"350\"},{\"data\":[{\"hoverinfo\":\"name\",\"line\":{\"color\":\"white\"},\"mode\":\"lines\",\"name\":\"Exterior\",\"showlegend\":false,\"x\":[10.1,10.1,15.0,15.0,13.6,13.6,15.0,15.0,13.6,13.6,15.0,15.0,10.1,10.1,9.9,9.9,5.1,5.1,4.9,4.9,0.0,0.0,1.5,1.5,0.0,0.0,1.5,1.5,0.0,0.0,4.9,4.9,5.1,5.1,9.9,9.9,10.1],\"y\":[1.5,0.0,0.0,4.9,4.9,5.1,5.1,9.9,9.9,10.1,10.1,15.0,15.0,13.6,13.6,15.0,15.0,13.6,13.6,15.0,15.0,10.1,10.1,9.9,9.9,5.1,5.1,4.9,4.9,0.0,0.0,1.5,1.5,0.0,0.0,1.5,1.5],\"type\":\"scatter\"},{\"hoverinfo\":\"name\",\"line\":{\"color\":\"white\"},\"mode\":\"lines\",\"name\":\"Obstacle\",\"showlegend\":false,\"x\":[10.1,11.5,11.5,10.1,10.1,9.9,9.9,8.6,8.6,9.9,9.9,10.1,10.1],\"y\":[5.1,5.1,4.9,4.9,3.6,3.6,4.9,4.9,5.1,5.1,6.5,6.5,5.1],\"type\":\"scatter\"},{\"hoverinfo\":\"name\",\"line\":{\"color\":\"white\"},\"mode\":\"lines\",\"name\":\"Obstacle\",\"showlegend\":false,\"x\":[10.1,11.5,11.5,10.1,10.1,9.9,9.9,8.6,8.6,9.9,9.9,10.1,10.1],\"y\":[10.1,10.1,9.9,9.9,8.6,8.6,9.9,9.9,10.1,10.1,11.5,11.5,10.1],\"type\":\"scatter\"},{\"hoverinfo\":\"name\",\"line\":{\"color\":\"white\"},\"mode\":\"lines\",\"name\":\"Obstacle\",\"showlegend\":false,\"x\":[5.1,6.4,6.4,5.1,5.1,4.9,4.9,3.6,3.6,4.9,4.9,5.1,5.1],\"y\":[5.1,5.1,4.9,4.9,3.6,3.6,4.9,4.9,5.1,5.1,6.5,6.5,5.1],\"type\":\"scatter\"},{\"hoverinfo\":\"name\",\"line\":{\"color\":\"white\"},\"mode\":\"lines\",\"name\":\"Obstacle\",\"showlegend\":false,\"x\":[5.1,6.4,6.4,5.1,5.1,4.9,4.9,3.6,3.6,4.9,4.9,5.1,5.1],\"y\":[10.1,10.1,9.9,9.9,8.6,8.6,9.9,9.9,10.1,10.1,11.5,11.5,10.1],\"type\":\"scatter\"},{\"fill\":\"toself\",\"fillcolor\":\"rgb(0, 0, 0)\",\"hoverinfo\":\"name\",\"line\":{\"width\":0},\"mode\":\"lines\",\"name\":\"Risk Area\",\"showlegend\":false,\"x\":[1.5,1.5,3.6,3.6,4.9,4.9,5.0,5.0,4.9,4.9,0.0,0.0,1.5],\"y\":[4.9,5.0,5.0,4.9,4.9,3.6,3.6,1.5,1.5,0.0,0.0,4.9,4.9],\"type\":\"scatter\"},{\"fill\":\"toself\",\"fillcolor\":\"rgb(255, 0, 0)\",\"hoverinfo\":\"name\",\"line\":{\"width\":0},\"mode\":\"lines\",\"name\":\"Risk Area\",\"showlegend\":false,\"x\":[9.9,9.9,5.1,5.1,5.0,5.0,5.1,5.1,6.4,6.4,8.6,8.6,9.9,9.9,10.0,10.0,9.9],\"y\":[1.5,0.0,0.0,1.5,1.5,3.6,3.6,4.9,4.9,5.0,5.0,4.9,4.9,3.6,3.6,1.5,1.5],\"type\":\"scatter\"},{\"fill\":\"toself\",\"fillcolor\":\"rgb(0, 0, 0)\",\"hoverinfo\":\"name\",\"line\":{\"width\":0},\"mode\":\"lines\",\"name\":\"Risk Area\",\"showlegend\":false,\"x\":[13.6,15.0,15.0,10.1,10.1,10.0,10.0,10.1,10.1,11.5,11.5,13.6,13.6],\"y\":[4.9,4.9,0.0,0.0,1.5,1.5,3.6,3.6,4.9,4.9,5.0,5.0,4.9],\"type\":\"scatter\"},{\"fill\":\"toself\",\"fillcolor\":\"rgb(178, 0, 0)\",\"hoverinfo\":\"name\",\"line\":{\"width\":0},\"mode\":\"lines\",\"name\":\"Risk Area\",\"showlegend\":false,\"x\":[13.6,15.0,15.0,13.6,13.6,11.5,11.5,10.1,10.1,10.0,10.0,10.1,10.1,11.5,11.5,13.6,13.6],\"y\":[9.9,9.9,5.1,5.1,5.0,5.0,5.1,5.1,6.5,6.5,8.6,8.6,9.9,9.9,10.0,10.0,9.9],\"type\":\"scatter\"},{\"fill\":\"toself\",\"fillcolor\":\"rgb(178, 0, 0)\",\"hoverinfo\":\"name\",\"line\":{\"width\":0},\"mode\":\"lines\",\"name\":\"Risk Area\",\"showlegend\":false,\"x\":[9.9,9.9,8.6,8.6,6.4,6.4,5.1,5.1,5.0,5.0,5.1,5.1,6.4,6.4,8.6,8.6,9.9,9.9,10.0,10.0,9.9],\"y\":[6.5,5.1,5.1,5.0,5.0,5.1,5.1,6.5,6.5,8.6,8.6,9.9,9.9,10.0,10.0,9.9,9.9,8.6,8.6,6.5,6.5],\"type\":\"scatter\"},{\"fill\":\"toself\",\"fillcolor\":\"rgb(127, 0, 0)\",\"hoverinfo\":\"name\",\"line\":{\"width\":0},\"mode\":\"lines\",\"name\":\"Risk Area\",\"showlegend\":false,\"x\":[4.9,4.9,3.6,3.6,1.5,1.5,0.0,0.0,1.5,1.5,3.6,3.6,4.9,4.9,5.0,5.0,4.9],\"y\":[6.5,5.1,5.1,5.0,5.0,5.1,5.1,9.9,9.9,10.0,10.0,9.9,9.9,8.6,8.6,6.5,6.5],\"type\":\"scatter\"},{\"fill\":\"toself\",\"fillcolor\":\"rgb(76, 0, 0)\",\"hoverinfo\":\"name\",\"line\":{\"width\":0},\"mode\":\"lines\",\"name\":\"Risk Area\",\"showlegend\":false,\"x\":[1.5,0.0,0.0,4.9,4.9,5.0,5.0,4.9,4.9,3.6,3.6,1.5,1.5],\"y\":[10.1,10.1,15.0,15.0,13.6,13.6,11.5,11.5,10.1,10.1,10.0,10.0,10.1],\"type\":\"scatter\"},{\"fill\":\"toself\",\"fillcolor\":\"rgb(25, 0, 0)\",\"hoverinfo\":\"name\",\"line\":{\"width\":0},\"mode\":\"lines\",\"name\":\"Risk Area\",\"showlegend\":false,\"x\":[6.4,5.1,5.1,5.0,5.0,5.1,5.1,9.9,9.9,10.0,10.0,9.9,9.9,8.6,8.6,6.4,6.4],\"y\":[10.1,10.1,11.5,11.5,13.6,13.6,15.0,15.0,13.6,13.6,11.5,11.5,10.1,10.1,10.0,10.0,10.1],\"type\":\"scatter\"},{\"fill\":\"toself\",\"fillcolor\":\"rgb(25, 0, 0)\",\"hoverinfo\":\"name\",\"line\":{\"width\":0},\"mode\":\"lines\",\"name\":\"Risk Area\",\"showlegend\":false,\"x\":[10.1,10.1,15.0,15.0,13.6,13.6,11.5,11.5,10.1,10.1,10.0,10.0,10.1],\"y\":[13.6,15.0,15.0,10.1,10.1,10.0,10.0,10.1,10.1,11.5,11.5,13.6,13.6],\"type\":\"scatter\"},{\"hoverinfo\":\"text\",\"marker\":{\"opacity\":1,\"size\":1},\"mode\":\"markers\",\"showlegend\":false,\"text\":[\"ID: 101, Pos(3.05,11.10)\"],\"x\":[3.054879717338544],\"y\":[11.09662179591392],\"type\":\"scatter\"},{\"hoverinfo\":\"text\",\"marker\":{\"opacity\":1,\"size\":1},\"mode\":\"markers\",\"showlegend\":false,\"text\":[\"ID: 102, Pos(2.62,11.54)\"],\"x\":[2.621645824541645],\"y\":[11.535453492163732],\"type\":\"scatter\"},{\"hoverinfo\":\"text\",\"marker\":{\"opacity\":1,\"size\":1},\"mode\":\"markers\",\"showlegend\":false,\"text\":[\"ID: 103, Pos(2.63,10.12)\"],\"x\":[2.627613366637893],\"y\":[10.118463298087404],\"type\":\"scatter\"},{\"hoverinfo\":\"text\",\"marker\":{\"opacity\":1,\"size\":1},\"mode\":\"markers\",\"showlegend\":false,\"text\":[\"ID: 104, Pos(3.83,11.29)\"],\"x\":[3.8299952430318402],\"y\":[11.290703590389391],\"type\":\"scatter\"},{\"hoverinfo\":\"text\",\"marker\":{\"opacity\":1,\"size\":1},\"mode\":\"markers\",\"showlegend\":false,\"text\":[\"ID: 105, Pos(3.34,11.87)\"],\"x\":[3.3353784926109724],\"y\":[11.866293591057445],\"type\":\"scatter\"},{\"hoverinfo\":\"text\",\"marker\":{\"opacity\":1,\"size\":1},\"mode\":\"markers\",\"showlegend\":false,\"text\":[\"ID: 106, Pos(4.20,11.78)\"],\"x\":[4.200683987786538],\"y\":[11.783603838735566],\"type\":\"scatter\"},{\"hoverinfo\":\"text\",\"marker\":{\"opacity\":1,\"size\":1},\"mode\":\"markers\",\"showlegend\":false,\"text\":[\"ID: 107, Pos(4.65,12.54)\"],\"x\":[4.649387994191433],\"y\":[12.535933130099977],\"type\":\"scatter\"},{\"hoverinfo\":\"text\",\"marker\":{\"opacity\":1,\"size\":1},\"mode\":\"markers\",\"showlegend\":false,\"text\":[\"ID: 108, Pos(3.44,10.59)\"],\"x\":[3.436620938660848],\"y\":[10.590829674670452],\"type\":\"scatter\"},{\"hoverinfo\":\"text\",\"marker\":{\"opacity\":1,\"size\":1},\"mode\":\"markers\",\"showlegend\":false,\"text\":[\"ID: 109, Pos(3.88,12.35)\"],\"x\":[3.878367663537867],\"y\":[12.350538153639326],\"type\":\"scatter\"},{\"hoverinfo\":\"text\",\"marker\":{\"opacity\":1,\"size\":1},\"mode\":\"markers\",\"showlegend\":false,\"text\":[\"ID: 110, Pos(2.44,10.78)\"],\"x\":[2.443477511679326],\"y\":[10.782911677900167],\"type\":\"scatter\"}],\"layout\":{\"shapes\":[{\"fillcolor\":\"rgba(131, 255, 115, 0.5)\",\"line\":{\"color\":\"rgba(131, 255, 115, 0.5)\"},\"type\":\"circle\",\"x0\":2.8548797173385436,\"x1\":3.254879717338544,\"xref\":\"x\",\"y0\":10.896621795913921,\"y1\":11.29662179591392,\"yref\":\"y\"},{\"fillcolor\":\"rgba(138, 255, 109, 0.5)\",\"line\":{\"color\":\"rgba(138, 255, 109, 0.5)\"},\"type\":\"circle\",\"x0\":2.421645824541645,\"x1\":2.8216458245416454,\"xref\":\"x\",\"y0\":11.335453492163733,\"y1\":11.735453492163732,\"yref\":\"y\"},{\"fillcolor\":\"rgba(0, 212, 255, 0.5)\",\"line\":{\"color\":\"rgba(0, 212, 255, 0.5)\"},\"type\":\"circle\",\"x0\":2.427613366637893,\"x1\":2.8276133666378933,\"xref\":\"x\",\"y0\":9.918463298087405,\"y1\":10.318463298087403,\"yref\":\"y\"},{\"fillcolor\":\"rgba(0, 0, 128, 0.5)\",\"line\":{\"color\":\"rgba(0, 0, 128, 0.5)\"},\"type\":\"circle\",\"x0\":3.62999524303184,\"x1\":4.02999524303184,\"xref\":\"x\",\"y0\":11.090703590389392,\"y1\":11.49070359038939,\"yref\":\"y\"},{\"fillcolor\":\"rgba(199, 255, 48, 0.5)\",\"line\":{\"color\":\"rgba(199, 255, 48, 0.5)\"},\"type\":\"circle\",\"x0\":3.1353784926109722,\"x1\":3.5353784926109726,\"xref\":\"x\",\"y0\":11.666293591057446,\"y1\":12.066293591057445,\"yref\":\"y\"},{\"fillcolor\":\"rgba(0, 0, 128, 0.5)\",\"line\":{\"color\":\"rgba(0, 0, 128, 0.5)\"},\"type\":\"circle\",\"x0\":4.000683987786537,\"x1\":4.400683987786538,\"xref\":\"x\",\"y0\":11.583603838735566,\"y1\":11.983603838735565,\"yref\":\"y\"},{\"fillcolor\":\"rgba(0, 0, 128, 0.5)\",\"line\":{\"color\":\"rgba(0, 0, 128, 0.5)\"},\"type\":\"circle\",\"x0\":4.449387994191433,\"x1\":4.849387994191433,\"xref\":\"x\",\"y0\":12.335933130099978,\"y1\":12.735933130099976,\"yref\":\"y\"},{\"fillcolor\":\"rgba(0, 0, 128, 0.5)\",\"line\":{\"color\":\"rgba(0, 0, 128, 0.5)\"},\"type\":\"circle\",\"x0\":3.236620938660848,\"x1\":3.6366209386608483,\"xref\":\"x\",\"y0\":10.390829674670453,\"y1\":10.790829674670452,\"yref\":\"y\"},{\"fillcolor\":\"rgba(138, 255, 109, 0.5)\",\"line\":{\"color\":\"rgba(138, 255, 109, 0.5)\"},\"type\":\"circle\",\"x0\":3.678367663537867,\"x1\":4.078367663537867,\"xref\":\"x\",\"y0\":12.150538153639326,\"y1\":12.550538153639325,\"yref\":\"y\"},{\"fillcolor\":\"rgba(241, 252, 6, 0.5)\",\"line\":{\"color\":\"rgba(241, 252, 6, 0.5)\"},\"type\":\"circle\",\"x0\":2.243477511679326,\"x1\":2.6434775116793263,\"xref\":\"x\",\"y0\":10.582911677900167,\"y1\":10.982911677900166,\"yref\":\"y\"},{\"line\":{\"color\":\"black\",\"width\":3},\"type\":\"line\",\"x0\":3.054879717338544,\"x1\":3.24659730965277,\"y0\":11.09662179591392,\"y1\":11.153581121728365},{\"line\":{\"color\":\"black\",\"width\":3},\"type\":\"line\",\"x0\":2.621645824541645,\"x1\":2.792449339610797,\"y0\":11.535453492163732,\"y1\":11.63950232320004},{\"line\":{\"color\":\"black\",\"width\":3},\"type\":\"line\",\"x0\":2.627613366637893,\"x1\":2.806466206863422,\"y0\":10.118463298087404,\"y1\":10.207971183456579},{\"line\":{\"color\":\"white\",\"width\":3},\"type\":\"line\",\"x0\":3.8299952430318402,\"x1\":4.028453984849109,\"y0\":11.290703590389391,\"y1\":11.315485192361555},{\"line\":{\"color\":\"black\",\"width\":3},\"type\":\"line\",\"x0\":3.3353784926109724,\"x1\":3.5305102480482287,\"y0\":11.866293591057445,\"y1\":11.910152433039135},{\"line\":{\"color\":\"white\",\"width\":3},\"type\":\"line\",\"x0\":4.200683987786538,\"x1\":4.397107330490593,\"y0\":11.783603838735566,\"y1\":11.821258459182001},{\"line\":{\"color\":\"white\",\"width\":3},\"type\":\"line\",\"x0\":4.649387994191433,\"x1\":4.849355950328421,\"y0\":12.535933130099977,\"y1\":12.539513146635606},{\"line\":{\"color\":\"white\",\"width\":3},\"type\":\"line\",\"x0\":3.436620938660848,\"x1\":3.6218592438090584,\"y0\":10.590829674670452,\"y1\":10.666240352334949},{\"line\":{\"color\":\"black\",\"width\":3},\"type\":\"line\",\"x0\":3.878367663537867,\"x1\":4.069442732566983,\"y0\":12.350538153639326,\"y1\":12.409617066929252},{\"line\":{\"color\":\"black\",\"width\":3},\"type\":\"line\",\"x0\":2.443477511679326,\"x1\":2.6236396506598423,\"y0\":10.782911677900167,\"y1\":10.869754085040718}],\"title\":{\"text\":\"\\u003cb\\u003ePercentage using the shortest path: 0%  |  Number of Agents: 10\\u003c\\u002fb\\u003e\",\"x\":0.5}},\"name\":\"400\"},{\"data\":[{\"hoverinfo\":\"name\",\"line\":{\"color\":\"white\"},\"mode\":\"lines\",\"name\":\"Exterior\",\"showlegend\":false,\"x\":[10.1,10.1,15.0,15.0,13.6,13.6,15.0,15.0,13.6,13.6,15.0,15.0,10.1,10.1,9.9,9.9,5.1,5.1,4.9,4.9,0.0,0.0,1.5,1.5,0.0,0.0,1.5,1.5,0.0,0.0,4.9,4.9,5.1,5.1,9.9,9.9,10.1],\"y\":[1.5,0.0,0.0,4.9,4.9,5.1,5.1,9.9,9.9,10.1,10.1,15.0,15.0,13.6,13.6,15.0,15.0,13.6,13.6,15.0,15.0,10.1,10.1,9.9,9.9,5.1,5.1,4.9,4.9,0.0,0.0,1.5,1.5,0.0,0.0,1.5,1.5],\"type\":\"scatter\"},{\"hoverinfo\":\"name\",\"line\":{\"color\":\"white\"},\"mode\":\"lines\",\"name\":\"Obstacle\",\"showlegend\":false,\"x\":[10.1,11.5,11.5,10.1,10.1,9.9,9.9,8.6,8.6,9.9,9.9,10.1,10.1],\"y\":[5.1,5.1,4.9,4.9,3.6,3.6,4.9,4.9,5.1,5.1,6.5,6.5,5.1],\"type\":\"scatter\"},{\"hoverinfo\":\"name\",\"line\":{\"color\":\"white\"},\"mode\":\"lines\",\"name\":\"Obstacle\",\"showlegend\":false,\"x\":[10.1,11.5,11.5,10.1,10.1,9.9,9.9,8.6,8.6,9.9,9.9,10.1,10.1],\"y\":[10.1,10.1,9.9,9.9,8.6,8.6,9.9,9.9,10.1,10.1,11.5,11.5,10.1],\"type\":\"scatter\"},{\"hoverinfo\":\"name\",\"line\":{\"color\":\"white\"},\"mode\":\"lines\",\"name\":\"Obstacle\",\"showlegend\":false,\"x\":[5.1,6.4,6.4,5.1,5.1,4.9,4.9,3.6,3.6,4.9,4.9,5.1,5.1],\"y\":[5.1,5.1,4.9,4.9,3.6,3.6,4.9,4.9,5.1,5.1,6.5,6.5,5.1],\"type\":\"scatter\"},{\"hoverinfo\":\"name\",\"line\":{\"color\":\"white\"},\"mode\":\"lines\",\"name\":\"Obstacle\",\"showlegend\":false,\"x\":[5.1,6.4,6.4,5.1,5.1,4.9,4.9,3.6,3.6,4.9,4.9,5.1,5.1],\"y\":[10.1,10.1,9.9,9.9,8.6,8.6,9.9,9.9,10.1,10.1,11.5,11.5,10.1],\"type\":\"scatter\"},{\"fill\":\"toself\",\"fillcolor\":\"rgb(0, 0, 0)\",\"hoverinfo\":\"name\",\"line\":{\"width\":0},\"mode\":\"lines\",\"name\":\"Risk Area\",\"showlegend\":false,\"x\":[1.5,1.5,3.6,3.6,4.9,4.9,5.0,5.0,4.9,4.9,0.0,0.0,1.5],\"y\":[4.9,5.0,5.0,4.9,4.9,3.6,3.6,1.5,1.5,0.0,0.0,4.9,4.9],\"type\":\"scatter\"},{\"fill\":\"toself\",\"fillcolor\":\"rgb(255, 0, 0)\",\"hoverinfo\":\"name\",\"line\":{\"width\":0},\"mode\":\"lines\",\"name\":\"Risk Area\",\"showlegend\":false,\"x\":[9.9,9.9,5.1,5.1,5.0,5.0,5.1,5.1,6.4,6.4,8.6,8.6,9.9,9.9,10.0,10.0,9.9],\"y\":[1.5,0.0,0.0,1.5,1.5,3.6,3.6,4.9,4.9,5.0,5.0,4.9,4.9,3.6,3.6,1.5,1.5],\"type\":\"scatter\"},{\"fill\":\"toself\",\"fillcolor\":\"rgb(0, 0, 0)\",\"hoverinfo\":\"name\",\"line\":{\"width\":0},\"mode\":\"lines\",\"name\":\"Risk Area\",\"showlegend\":false,\"x\":[13.6,15.0,15.0,10.1,10.1,10.0,10.0,10.1,10.1,11.5,11.5,13.6,13.6],\"y\":[4.9,4.9,0.0,0.0,1.5,1.5,3.6,3.6,4.9,4.9,5.0,5.0,4.9],\"type\":\"scatter\"},{\"fill\":\"toself\",\"fillcolor\":\"rgb(178, 0, 0)\",\"hoverinfo\":\"name\",\"line\":{\"width\":0},\"mode\":\"lines\",\"name\":\"Risk Area\",\"showlegend\":false,\"x\":[13.6,15.0,15.0,13.6,13.6,11.5,11.5,10.1,10.1,10.0,10.0,10.1,10.1,11.5,11.5,13.6,13.6],\"y\":[9.9,9.9,5.1,5.1,5.0,5.0,5.1,5.1,6.5,6.5,8.6,8.6,9.9,9.9,10.0,10.0,9.9],\"type\":\"scatter\"},{\"fill\":\"toself\",\"fillcolor\":\"rgb(178, 0, 0)\",\"hoverinfo\":\"name\",\"line\":{\"width\":0},\"mode\":\"lines\",\"name\":\"Risk Area\",\"showlegend\":false,\"x\":[9.9,9.9,8.6,8.6,6.4,6.4,5.1,5.1,5.0,5.0,5.1,5.1,6.4,6.4,8.6,8.6,9.9,9.9,10.0,10.0,9.9],\"y\":[6.5,5.1,5.1,5.0,5.0,5.1,5.1,6.5,6.5,8.6,8.6,9.9,9.9,10.0,10.0,9.9,9.9,8.6,8.6,6.5,6.5],\"type\":\"scatter\"},{\"fill\":\"toself\",\"fillcolor\":\"rgb(127, 0, 0)\",\"hoverinfo\":\"name\",\"line\":{\"width\":0},\"mode\":\"lines\",\"name\":\"Risk Area\",\"showlegend\":false,\"x\":[4.9,4.9,3.6,3.6,1.5,1.5,0.0,0.0,1.5,1.5,3.6,3.6,4.9,4.9,5.0,5.0,4.9],\"y\":[6.5,5.1,5.1,5.0,5.0,5.1,5.1,9.9,9.9,10.0,10.0,9.9,9.9,8.6,8.6,6.5,6.5],\"type\":\"scatter\"},{\"fill\":\"toself\",\"fillcolor\":\"rgb(76, 0, 0)\",\"hoverinfo\":\"name\",\"line\":{\"width\":0},\"mode\":\"lines\",\"name\":\"Risk Area\",\"showlegend\":false,\"x\":[1.5,0.0,0.0,4.9,4.9,5.0,5.0,4.9,4.9,3.6,3.6,1.5,1.5],\"y\":[10.1,10.1,15.0,15.0,13.6,13.6,11.5,11.5,10.1,10.1,10.0,10.0,10.1],\"type\":\"scatter\"},{\"fill\":\"toself\",\"fillcolor\":\"rgb(25, 0, 0)\",\"hoverinfo\":\"name\",\"line\":{\"width\":0},\"mode\":\"lines\",\"name\":\"Risk Area\",\"showlegend\":false,\"x\":[6.4,5.1,5.1,5.0,5.0,5.1,5.1,9.9,9.9,10.0,10.0,9.9,9.9,8.6,8.6,6.4,6.4],\"y\":[10.1,10.1,11.5,11.5,13.6,13.6,15.0,15.0,13.6,13.6,11.5,11.5,10.1,10.1,10.0,10.0,10.1],\"type\":\"scatter\"},{\"fill\":\"toself\",\"fillcolor\":\"rgb(25, 0, 0)\",\"hoverinfo\":\"name\",\"line\":{\"width\":0},\"mode\":\"lines\",\"name\":\"Risk Area\",\"showlegend\":false,\"x\":[10.1,10.1,15.0,15.0,13.6,13.6,11.5,11.5,10.1,10.1,10.0,10.0,10.1],\"y\":[13.6,15.0,15.0,10.1,10.1,10.0,10.0,10.1,10.1,11.5,11.5,13.6,13.6],\"type\":\"scatter\"},{\"hoverinfo\":\"text\",\"marker\":{\"opacity\":1,\"size\":1},\"mode\":\"markers\",\"showlegend\":false,\"text\":[\"ID: 101, Pos(3.91,11.36)\"],\"x\":[3.914233668576241],\"y\":[11.36206975875299],\"type\":\"scatter\"},{\"hoverinfo\":\"text\",\"marker\":{\"opacity\":1,\"size\":1},\"mode\":\"markers\",\"showlegend\":false,\"text\":[\"ID: 102, Pos(3.37,11.82)\"],\"x\":[3.3737228286117413],\"y\":[11.821643441896812],\"type\":\"scatter\"},{\"hoverinfo\":\"text\",\"marker\":{\"opacity\":1,\"size\":1},\"mode\":\"markers\",\"showlegend\":false,\"text\":[\"ID: 103, Pos(3.78,10.73)\"],\"x\":[3.7803971927714835],\"y\":[10.731906765038087],\"type\":\"scatter\"},{\"hoverinfo\":\"text\",\"marker\":{\"opacity\":1,\"size\":1},\"mode\":\"markers\",\"showlegend\":false,\"text\":[\"ID: 104, Pos(4.68,11.77)\"],\"x\":[4.683429467973506],\"y\":[11.774110104492811],\"type\":\"scatter\"},{\"hoverinfo\":\"text\",\"marker\":{\"opacity\":1,\"size\":1},\"mode\":\"markers\",\"showlegend\":false,\"text\":[\"ID: 105, Pos(4.20,12.12)\"],\"x\":[4.198180692912824],\"y\":[12.121276921849518],\"type\":\"scatter\"},{\"hoverinfo\":\"text\",\"marker\":{\"opacity\":1,\"size\":1},\"mode\":\"markers\",\"showlegend\":false,\"text\":[\"ID: 106, Pos(5.77,12.07)\"],\"x\":[5.774099457091051],\"y\":[12.065984551507455],\"type\":\"scatter\"},{\"hoverinfo\":\"text\",\"marker\":{\"opacity\":1,\"size\":1},\"mode\":\"markers\",\"showlegend\":false,\"text\":[\"ID: 107, Pos(6.24,12.62)\"],\"x\":[6.243474913583967],\"y\":[12.62149849285762],\"type\":\"scatter\"},{\"hoverinfo\":\"text\",\"marker\":{\"opacity\":1,\"size\":1},\"mode\":\"markers\",\"showlegend\":false,\"text\":[\"ID: 108, Pos(4.58,11.17)\"],\"x\":[4.578472761748325],\"y\":[11.169453911327476],\"type\":\"scatter\"},{\"hoverinfo\":\"text\",\"marker\":{\"opacity\":1,\"size\":1},\"mode\":\"markers\",\"showlegend\":false,\"text\":[\"ID: 109, Pos(5.11,12.49)\"],\"x\":[5.1087491799072176],\"y\":[12.491841060081587],\"type\":\"scatter\"},{\"hoverinfo\":\"text\",\"marker\":{\"opacity\":1,\"size\":1},\"mode\":\"markers\",\"showlegend\":false,\"text\":[\"ID: 110, Pos(3.13,11.09)\"],\"x\":[3.1278529320310007],\"y\":[11.089903076614844],\"type\":\"scatter\"}],\"layout\":{\"shapes\":[{\"fillcolor\":\"rgba(51, 255, 196, 0.5)\",\"line\":{\"color\":\"rgba(51, 255, 196, 0.5)\"},\"type\":\"circle\",\"x0\":3.7142336685762407,\"x1\":4.114233668576241,\"xref\":\"x\",\"y0\":11.16206975875299,\"y1\":11.562069758752989,\"yref\":\"y\"},{\"fillcolor\":\"rgba(48, 255, 199, 0.5)\",\"line\":{\"color\":\"rgba(48, 255, 199, 0.5)\"},\"type\":\"circle\",\"x0\":3.173722828611741,\"x1\":3.5737228286117415,\"xref\":\"x\",\"y0\":11.621643441896813,\"y1\":12.021643441896812,\"yref\":\"y\"},{\"fillcolor\":\"rgba(6, 237, 241, 0.5)\",\"line\":{\"color\":\"rgba(6, 237, 241, 0.5)\"},\"type\":\"circle\",\"x0\":3.5803971927714833,\"x1\":3.9803971927714836,\"xref\":\"x\",\"y0\":10.531906765038087,\"y1\":10.931906765038086,\"yref\":\"y\"},{\"fillcolor\":\"rgba(90, 255, 157, 0.5)\",\"line\":{\"color\":\"rgba(90, 255, 157, 0.5)\"},\"type\":\"circle\",\"x0\":4.483429467973505,\"x1\":4.883429467973506,\"xref\":\"x\",\"y0\":11.574110104492812,\"y1\":11.97411010449281,\"yref\":\"y\"},{\"fillcolor\":\"rgba(0, 152, 255, 0.5)\",\"line\":{\"color\":\"rgba(0, 152, 255, 0.5)\"},\"type\":\"circle\",\"x0\":3.9981806929128236,\"x1\":4.398180692912824,\"xref\":\"x\",\"y0\":11.921276921849518,\"y1\":12.321276921849517,\"yref\":\"y\"},{\"fillcolor\":\"rgba(0, 0, 128, 0.5)\",\"line\":{\"color\":\"rgba(0, 0, 128, 0.5)\"},\"type\":\"circle\",\"x0\":5.574099457091051,\"x1\":5.974099457091051,\"xref\":\"x\",\"y0\":11.865984551507456,\"y1\":12.265984551507454,\"yref\":\"y\"},{\"fillcolor\":\"rgba(0, 0, 128, 0.5)\",\"line\":{\"color\":\"rgba(0, 0, 128, 0.5)\"},\"type\":\"circle\",\"x0\":6.0434749135839665,\"x1\":6.443474913583967,\"xref\":\"x\",\"y0\":12.421498492857621,\"y1\":12.82149849285762,\"yref\":\"y\"},{\"fillcolor\":\"rgba(255, 159, 0, 0.5)\",\"line\":{\"color\":\"rgba(255, 159, 0, 0.5)\"},\"type\":\"circle\",\"x0\":4.378472761748325,\"x1\":4.778472761748326,\"xref\":\"x\",\"y0\":10.969453911327477,\"y1\":11.369453911327476,\"yref\":\"y\"},{\"fillcolor\":\"rgba(0, 0, 209, 0.5)\",\"line\":{\"color\":\"rgba(0, 0, 209, 0.5)\"},\"type\":\"circle\",\"x0\":4.908749179907217,\"x1\":5.308749179907218,\"xref\":\"x\",\"y0\":12.291841060081588,\"y1\":12.691841060081586,\"yref\":\"y\"},{\"fillcolor\":\"rgba(93, 255, 154, 0.5)\",\"line\":{\"color\":\"rgba(93, 255, 154, 0.5)\"},\"type\":\"circle\",\"x0\":2.9278529320310005,\"x1\":3.327852932031001,\"xref\":\"x\",\"y0\":10.889903076614845,\"y1\":11.289903076614843,\"yref\":\"y\"},{\"line\":{\"color\":\"black\",\"width\":3},\"type\":\"line\",\"x0\":3.914233668576241,\"x1\":4.093667742777524,\"y0\":11.36206975875299,\"y1\":11.450406687698523},{\"line\":{\"color\":\"black\",\"width\":3},\"type\":\"line\",\"x0\":3.3737228286117413,\"x1\":3.563891905477685,\"y0\":11.821643441896812,\"y1\":11.883576649499476},{\"line\":{\"color\":\"black\",\"width\":3},\"type\":\"line\",\"x0\":3.7803971927714835,\"x1\":3.95922521925284,\"y0\":10.731906765038087,\"y1\":10.821464215564458},{\"line\":{\"color\":\"black\",\"width\":3},\"type\":\"line\",\"x0\":4.683429467973506,\"x1\":4.844560305937287,\"y0\":11.774110104492811,\"y1\":11.89258733039336},{\"line\":{\"color\":\"white\",\"width\":3},\"type\":\"line\",\"x0\":4.198180692912824,\"x1\":4.37619753021778,\"y0\":12.121276921849518,\"y1\":12.212436154162765},{\"line\":{\"color\":\"white\",\"width\":3},\"type\":\"line\",\"x0\":5.774099457091051,\"x1\":5.971972485305517,\"y0\":12.065984551507455,\"y1\":12.095075180672827},{\"line\":{\"color\":\"white\",\"width\":3},\"type\":\"line\",\"x0\":6.243474913583967,\"x1\":6.439092991998866,\"y0\":12.62149849285762,\"y1\":12.663134623768915},{\"line\":{\"color\":\"black\",\"width\":3},\"type\":\"line\",\"x0\":4.578472761748325,\"x1\":4.617135927274664,\"y0\":11.169453911327476,\"y1\":11.365681227548952},{\"line\":{\"color\":\"white\",\"width\":3},\"type\":\"line\",\"x0\":5.1087491799072176,\"x1\":5.308320991129368,\"y0\":12.491841060081587,\"y1\":12.504921280473862},{\"line\":{\"color\":\"black\",\"width\":3},\"type\":\"line\",\"x0\":3.1278529320310007,\"x1\":3.316079412211951,\"y0\":11.089903076614844,\"y1\":11.157510710493648}],\"title\":{\"text\":\"\\u003cb\\u003ePercentage using the shortest path: 0%  |  Number of Agents: 10\\u003c\\u002fb\\u003e\",\"x\":0.5}},\"name\":\"450\"},{\"data\":[{\"hoverinfo\":\"name\",\"line\":{\"color\":\"white\"},\"mode\":\"lines\",\"name\":\"Exterior\",\"showlegend\":false,\"x\":[10.1,10.1,15.0,15.0,13.6,13.6,15.0,15.0,13.6,13.6,15.0,15.0,10.1,10.1,9.9,9.9,5.1,5.1,4.9,4.9,0.0,0.0,1.5,1.5,0.0,0.0,1.5,1.5,0.0,0.0,4.9,4.9,5.1,5.1,9.9,9.9,10.1],\"y\":[1.5,0.0,0.0,4.9,4.9,5.1,5.1,9.9,9.9,10.1,10.1,15.0,15.0,13.6,13.6,15.0,15.0,13.6,13.6,15.0,15.0,10.1,10.1,9.9,9.9,5.1,5.1,4.9,4.9,0.0,0.0,1.5,1.5,0.0,0.0,1.5,1.5],\"type\":\"scatter\"},{\"hoverinfo\":\"name\",\"line\":{\"color\":\"white\"},\"mode\":\"lines\",\"name\":\"Obstacle\",\"showlegend\":false,\"x\":[10.1,11.5,11.5,10.1,10.1,9.9,9.9,8.6,8.6,9.9,9.9,10.1,10.1],\"y\":[5.1,5.1,4.9,4.9,3.6,3.6,4.9,4.9,5.1,5.1,6.5,6.5,5.1],\"type\":\"scatter\"},{\"hoverinfo\":\"name\",\"line\":{\"color\":\"white\"},\"mode\":\"lines\",\"name\":\"Obstacle\",\"showlegend\":false,\"x\":[10.1,11.5,11.5,10.1,10.1,9.9,9.9,8.6,8.6,9.9,9.9,10.1,10.1],\"y\":[10.1,10.1,9.9,9.9,8.6,8.6,9.9,9.9,10.1,10.1,11.5,11.5,10.1],\"type\":\"scatter\"},{\"hoverinfo\":\"name\",\"line\":{\"color\":\"white\"},\"mode\":\"lines\",\"name\":\"Obstacle\",\"showlegend\":false,\"x\":[5.1,6.4,6.4,5.1,5.1,4.9,4.9,3.6,3.6,4.9,4.9,5.1,5.1],\"y\":[5.1,5.1,4.9,4.9,3.6,3.6,4.9,4.9,5.1,5.1,6.5,6.5,5.1],\"type\":\"scatter\"},{\"hoverinfo\":\"name\",\"line\":{\"color\":\"white\"},\"mode\":\"lines\",\"name\":\"Obstacle\",\"showlegend\":false,\"x\":[5.1,6.4,6.4,5.1,5.1,4.9,4.9,3.6,3.6,4.9,4.9,5.1,5.1],\"y\":[10.1,10.1,9.9,9.9,8.6,8.6,9.9,9.9,10.1,10.1,11.5,11.5,10.1],\"type\":\"scatter\"},{\"fill\":\"toself\",\"fillcolor\":\"rgb(0, 0, 0)\",\"hoverinfo\":\"name\",\"line\":{\"width\":0},\"mode\":\"lines\",\"name\":\"Risk Area\",\"showlegend\":false,\"x\":[1.5,1.5,3.6,3.6,4.9,4.9,5.0,5.0,4.9,4.9,0.0,0.0,1.5],\"y\":[4.9,5.0,5.0,4.9,4.9,3.6,3.6,1.5,1.5,0.0,0.0,4.9,4.9],\"type\":\"scatter\"},{\"fill\":\"toself\",\"fillcolor\":\"rgb(255, 0, 0)\",\"hoverinfo\":\"name\",\"line\":{\"width\":0},\"mode\":\"lines\",\"name\":\"Risk Area\",\"showlegend\":false,\"x\":[9.9,9.9,5.1,5.1,5.0,5.0,5.1,5.1,6.4,6.4,8.6,8.6,9.9,9.9,10.0,10.0,9.9],\"y\":[1.5,0.0,0.0,1.5,1.5,3.6,3.6,4.9,4.9,5.0,5.0,4.9,4.9,3.6,3.6,1.5,1.5],\"type\":\"scatter\"},{\"fill\":\"toself\",\"fillcolor\":\"rgb(0, 0, 0)\",\"hoverinfo\":\"name\",\"line\":{\"width\":0},\"mode\":\"lines\",\"name\":\"Risk Area\",\"showlegend\":false,\"x\":[13.6,15.0,15.0,10.1,10.1,10.0,10.0,10.1,10.1,11.5,11.5,13.6,13.6],\"y\":[4.9,4.9,0.0,0.0,1.5,1.5,3.6,3.6,4.9,4.9,5.0,5.0,4.9],\"type\":\"scatter\"},{\"fill\":\"toself\",\"fillcolor\":\"rgb(178, 0, 0)\",\"hoverinfo\":\"name\",\"line\":{\"width\":0},\"mode\":\"lines\",\"name\":\"Risk Area\",\"showlegend\":false,\"x\":[13.6,15.0,15.0,13.6,13.6,11.5,11.5,10.1,10.1,10.0,10.0,10.1,10.1,11.5,11.5,13.6,13.6],\"y\":[9.9,9.9,5.1,5.1,5.0,5.0,5.1,5.1,6.5,6.5,8.6,8.6,9.9,9.9,10.0,10.0,9.9],\"type\":\"scatter\"},{\"fill\":\"toself\",\"fillcolor\":\"rgb(178, 0, 0)\",\"hoverinfo\":\"name\",\"line\":{\"width\":0},\"mode\":\"lines\",\"name\":\"Risk Area\",\"showlegend\":false,\"x\":[9.9,9.9,8.6,8.6,6.4,6.4,5.1,5.1,5.0,5.0,5.1,5.1,6.4,6.4,8.6,8.6,9.9,9.9,10.0,10.0,9.9],\"y\":[6.5,5.1,5.1,5.0,5.0,5.1,5.1,6.5,6.5,8.6,8.6,9.9,9.9,10.0,10.0,9.9,9.9,8.6,8.6,6.5,6.5],\"type\":\"scatter\"},{\"fill\":\"toself\",\"fillcolor\":\"rgb(127, 0, 0)\",\"hoverinfo\":\"name\",\"line\":{\"width\":0},\"mode\":\"lines\",\"name\":\"Risk Area\",\"showlegend\":false,\"x\":[4.9,4.9,3.6,3.6,1.5,1.5,0.0,0.0,1.5,1.5,3.6,3.6,4.9,4.9,5.0,5.0,4.9],\"y\":[6.5,5.1,5.1,5.0,5.0,5.1,5.1,9.9,9.9,10.0,10.0,9.9,9.9,8.6,8.6,6.5,6.5],\"type\":\"scatter\"},{\"fill\":\"toself\",\"fillcolor\":\"rgb(102, 0, 0)\",\"hoverinfo\":\"name\",\"line\":{\"width\":0},\"mode\":\"lines\",\"name\":\"Risk Area\",\"showlegend\":false,\"x\":[1.5,0.0,0.0,4.9,4.9,5.0,5.0,4.9,4.9,3.6,3.6,1.5,1.5],\"y\":[10.1,10.1,15.0,15.0,13.6,13.6,11.5,11.5,10.1,10.1,10.0,10.0,10.1],\"type\":\"scatter\"},{\"fill\":\"toself\",\"fillcolor\":\"rgb(25, 0, 0)\",\"hoverinfo\":\"name\",\"line\":{\"width\":0},\"mode\":\"lines\",\"name\":\"Risk Area\",\"showlegend\":false,\"x\":[6.4,5.1,5.1,5.0,5.0,5.1,5.1,9.9,9.9,10.0,10.0,9.9,9.9,8.6,8.6,6.4,6.4],\"y\":[10.1,10.1,11.5,11.5,13.6,13.6,15.0,15.0,13.6,13.6,11.5,11.5,10.1,10.1,10.0,10.0,10.1],\"type\":\"scatter\"},{\"fill\":\"toself\",\"fillcolor\":\"rgb(25, 0, 0)\",\"hoverinfo\":\"name\",\"line\":{\"width\":0},\"mode\":\"lines\",\"name\":\"Risk Area\",\"showlegend\":false,\"x\":[10.1,10.1,15.0,15.0,13.6,13.6,11.5,11.5,10.1,10.1,10.0,10.0,10.1],\"y\":[13.6,15.0,15.0,10.1,10.1,10.0,10.0,10.1,10.1,11.5,11.5,13.6,13.6],\"type\":\"scatter\"},{\"hoverinfo\":\"text\",\"marker\":{\"opacity\":1,\"size\":1},\"mode\":\"markers\",\"showlegend\":false,\"text\":[\"ID: 101, Pos(4.65,11.94)\"],\"x\":[4.646509535746593],\"y\":[11.943149222783214],\"type\":\"scatter\"},{\"hoverinfo\":\"text\",\"marker\":{\"opacity\":1,\"size\":1},\"mode\":\"markers\",\"showlegend\":false,\"text\":[\"ID: 102, Pos(4.47,12.50)\"],\"x\":[4.469427444120143],\"y\":[12.495428496439883],\"type\":\"scatter\"},{\"hoverinfo\":\"text\",\"marker\":{\"opacity\":1,\"size\":1},\"mode\":\"markers\",\"showlegend\":false,\"text\":[\"ID: 103, Pos(4.34,10.97)\"],\"x\":[4.3395809458745855],\"y\":[10.972594812663022],\"type\":\"scatter\"},{\"hoverinfo\":\"text\",\"marker\":{\"opacity\":1,\"size\":1},\"mode\":\"markers\",\"showlegend\":false,\"text\":[\"ID: 104, Pos(6.08,12.05)\"],\"x\":[6.083888916119455],\"y\":[12.052382667706246],\"type\":\"scatter\"},{\"hoverinfo\":\"text\",\"marker\":{\"opacity\":1,\"size\":1},\"mode\":\"markers\",\"showlegend\":false,\"text\":[\"ID: 105, Pos(5.39,12.45)\"],\"x\":[5.393511419843778],\"y\":[12.446742870598122],\"type\":\"scatter\"},{\"hoverinfo\":\"text\",\"marker\":{\"opacity\":1,\"size\":1},\"mode\":\"markers\",\"showlegend\":false,\"text\":[\"ID: 106, Pos(7.36,12.31)\"],\"x\":[7.3552435955072575],\"y\":[12.309157409952158],\"type\":\"scatter\"},{\"hoverinfo\":\"text\",\"marker\":{\"opacity\":1,\"size\":1},\"mode\":\"markers\",\"showlegend\":false,\"text\":[\"ID: 107, Pos(7.81,12.93)\"],\"x\":[7.813745834763735],\"y\":[12.928196417857833],\"type\":\"scatter\"},{\"hoverinfo\":\"text\",\"marker\":{\"opacity\":1,\"size\":1},\"mode\":\"markers\",\"showlegend\":false,\"text\":[\"ID: 108, Pos(4.60,11.41)\"],\"x\":[4.60297504634075],\"y\":[11.413045692714968],\"type\":\"scatter\"},{\"hoverinfo\":\"text\",\"marker\":{\"opacity\":1,\"size\":1},\"mode\":\"markers\",\"showlegend\":false,\"text\":[\"ID: 109, Pos(6.46,12.66)\"],\"x\":[6.459936874081884],\"y\":[12.65789922796357],\"type\":\"scatter\"},{\"hoverinfo\":\"text\",\"marker\":{\"opacity\":1,\"size\":1},\"mode\":\"markers\",\"showlegend\":false,\"text\":[\"ID: 110, Pos(3.91,11.49)\"],\"x\":[3.9143819563741142],\"y\":[11.488093633624487],\"type\":\"scatter\"}],\"layout\":{\"shapes\":[{\"fillcolor\":\"rgba(22, 255, 225, 0.5)\",\"line\":{\"color\":\"rgba(22, 255, 225, 0.5)\"},\"type\":\"circle\",\"x0\":4.446509535746593,\"x1\":4.846509535746593,\"xref\":\"x\",\"y0\":11.743149222783215,\"y1\":12.143149222783213,\"yref\":\"y\"},{\"fillcolor\":\"rgba(0, 0, 128, 0.5)\",\"line\":{\"color\":\"rgba(0, 0, 128, 0.5)\"},\"type\":\"circle\",\"x0\":4.269427444120143,\"x1\":4.669427444120143,\"xref\":\"x\",\"y0\":12.295428496439884,\"y1\":12.695428496439883,\"yref\":\"y\"},{\"fillcolor\":\"rgba(0, 109, 255, 0.5)\",\"line\":{\"color\":\"rgba(0, 109, 255, 0.5)\"},\"type\":\"circle\",\"x0\":4.139580945874585,\"x1\":4.539580945874586,\"xref\":\"x\",\"y0\":10.772594812663023,\"y1\":11.172594812663021,\"yref\":\"y\"},{\"fillcolor\":\"rgba(0, 0, 128, 0.5)\",\"line\":{\"color\":\"rgba(0, 0, 128, 0.5)\"},\"type\":\"circle\",\"x0\":5.883888916119455,\"x1\":6.283888916119455,\"xref\":\"x\",\"y0\":11.852382667706246,\"y1\":12.252382667706245,\"yref\":\"y\"},{\"fillcolor\":\"rgba(0, 16, 255, 0.5)\",\"line\":{\"color\":\"rgba(0, 16, 255, 0.5)\"},\"type\":\"circle\",\"x0\":5.1935114198437775,\"x1\":5.593511419843778,\"xref\":\"x\",\"y0\":12.246742870598123,\"y1\":12.646742870598121,\"yref\":\"y\"},{\"fillcolor\":\"rgba(0, 0, 128, 0.5)\",\"line\":{\"color\":\"rgba(0, 0, 128, 0.5)\"},\"type\":\"circle\",\"x0\":7.155243595507257,\"x1\":7.555243595507258,\"xref\":\"x\",\"y0\":12.109157409952159,\"y1\":12.509157409952158,\"yref\":\"y\"},{\"fillcolor\":\"rgba(0, 0, 128, 0.5)\",\"line\":{\"color\":\"rgba(0, 0, 128, 0.5)\"},\"type\":\"circle\",\"x0\":7.613745834763735,\"x1\":8.013745834763736,\"xref\":\"x\",\"y0\":12.728196417857834,\"y1\":13.128196417857833,\"yref\":\"y\"},{\"fillcolor\":\"rgba(255, 63, 0, 0.5)\",\"line\":{\"color\":\"rgba(255, 63, 0, 0.5)\"},\"type\":\"circle\",\"x0\":4.4029750463407495,\"x1\":4.80297504634075,\"xref\":\"x\",\"y0\":11.213045692714969,\"y1\":11.613045692714968,\"yref\":\"y\"},{\"fillcolor\":\"rgba(0, 0, 128, 0.5)\",\"line\":{\"color\":\"rgba(0, 0, 128, 0.5)\"},\"type\":\"circle\",\"x0\":6.259936874081884,\"x1\":6.659936874081884,\"xref\":\"x\",\"y0\":12.457899227963571,\"y1\":12.85789922796357,\"yref\":\"y\"},{\"fillcolor\":\"rgba(148, 255, 99, 0.5)\",\"line\":{\"color\":\"rgba(148, 255, 99, 0.5)\"},\"type\":\"circle\",\"x0\":3.714381956374114,\"x1\":4.114381956374114,\"xref\":\"x\",\"y0\":11.288093633624488,\"y1\":11.688093633624487,\"yref\":\"y\"},{\"line\":{\"color\":\"black\",\"width\":3},\"type\":\"line\",\"x0\":4.646509535746593,\"x1\":4.829846878258404,\"y0\":11.943149222783214,\"y1\":12.023070551855664},{\"line\":{\"color\":\"white\",\"width\":3},\"type\":\"line\",\"x0\":4.469427444120143,\"x1\":4.648952502435208,\"y0\":12.495428496439883,\"y1\":12.583580373543963},{\"line\":{\"color\":\"white\",\"width\":3},\"type\":\"line\",\"x0\":4.3395809458745855,\"x1\":4.53497210277602,\"y0\":10.972594812663022,\"y1\":10.929906455881355},{\"line\":{\"color\":\"white\",\"width\":3},\"type\":\"line\",\"x0\":6.083888916119455,\"x1\":6.282946180685598,\"y0\":12.052382667706246,\"y1\":12.071778683365256},{\"line\":{\"color\":\"white\",\"width\":3},\"type\":\"line\",\"x0\":5.393511419843778,\"x1\":5.593146663642682,\"y0\":12.446742870598122,\"y1\":12.458816371886144},{\"line\":{\"color\":\"white\",\"width\":3},\"type\":\"line\",\"x0\":7.3552435955072575,\"x1\":7.552278448755003,\"y0\":12.309157409952158,\"y1\":12.343468728866464},{\"line\":{\"color\":\"white\",\"width\":3},\"type\":\"line\",\"x0\":7.813745834763735,\"x1\":8.010463881229418,\"y0\":12.928196417857833,\"y1\":12.964279796229674},{\"line\":{\"color\":\"white\",\"width\":3},\"type\":\"line\",\"x0\":4.60297504634075,\"x1\":4.590988157271223,\"y0\":11.413045692714968,\"y1\":11.612686155774027},{\"line\":{\"color\":\"white\",\"width\":3},\"type\":\"line\",\"x0\":6.459936874081884,\"x1\":6.654442424308367,\"y0\":12.65789922796357,\"y1\":12.70445662191011},{\"line\":{\"color\":\"black\",\"width\":3},\"type\":\"line\",\"x0\":3.9143819563741142,\"x1\":4.085404404292755,\"y0\":11.488093633624487,\"y1\":11.591782216930056}],\"title\":{\"text\":\"\\u003cb\\u003ePercentage using the shortest path: 0%  |  Number of Agents: 10\\u003c\\u002fb\\u003e\",\"x\":0.5}},\"name\":\"500\"},{\"data\":[{\"hoverinfo\":\"name\",\"line\":{\"color\":\"white\"},\"mode\":\"lines\",\"name\":\"Exterior\",\"showlegend\":false,\"x\":[10.1,10.1,15.0,15.0,13.6,13.6,15.0,15.0,13.6,13.6,15.0,15.0,10.1,10.1,9.9,9.9,5.1,5.1,4.9,4.9,0.0,0.0,1.5,1.5,0.0,0.0,1.5,1.5,0.0,0.0,4.9,4.9,5.1,5.1,9.9,9.9,10.1],\"y\":[1.5,0.0,0.0,4.9,4.9,5.1,5.1,9.9,9.9,10.1,10.1,15.0,15.0,13.6,13.6,15.0,15.0,13.6,13.6,15.0,15.0,10.1,10.1,9.9,9.9,5.1,5.1,4.9,4.9,0.0,0.0,1.5,1.5,0.0,0.0,1.5,1.5],\"type\":\"scatter\"},{\"hoverinfo\":\"name\",\"line\":{\"color\":\"white\"},\"mode\":\"lines\",\"name\":\"Obstacle\",\"showlegend\":false,\"x\":[10.1,11.5,11.5,10.1,10.1,9.9,9.9,8.6,8.6,9.9,9.9,10.1,10.1],\"y\":[5.1,5.1,4.9,4.9,3.6,3.6,4.9,4.9,5.1,5.1,6.5,6.5,5.1],\"type\":\"scatter\"},{\"hoverinfo\":\"name\",\"line\":{\"color\":\"white\"},\"mode\":\"lines\",\"name\":\"Obstacle\",\"showlegend\":false,\"x\":[10.1,11.5,11.5,10.1,10.1,9.9,9.9,8.6,8.6,9.9,9.9,10.1,10.1],\"y\":[10.1,10.1,9.9,9.9,8.6,8.6,9.9,9.9,10.1,10.1,11.5,11.5,10.1],\"type\":\"scatter\"},{\"hoverinfo\":\"name\",\"line\":{\"color\":\"white\"},\"mode\":\"lines\",\"name\":\"Obstacle\",\"showlegend\":false,\"x\":[5.1,6.4,6.4,5.1,5.1,4.9,4.9,3.6,3.6,4.9,4.9,5.1,5.1],\"y\":[5.1,5.1,4.9,4.9,3.6,3.6,4.9,4.9,5.1,5.1,6.5,6.5,5.1],\"type\":\"scatter\"},{\"hoverinfo\":\"name\",\"line\":{\"color\":\"white\"},\"mode\":\"lines\",\"name\":\"Obstacle\",\"showlegend\":false,\"x\":[5.1,6.4,6.4,5.1,5.1,4.9,4.9,3.6,3.6,4.9,4.9,5.1,5.1],\"y\":[10.1,10.1,9.9,9.9,8.6,8.6,9.9,9.9,10.1,10.1,11.5,11.5,10.1],\"type\":\"scatter\"},{\"fill\":\"toself\",\"fillcolor\":\"rgb(25, 0, 0)\",\"hoverinfo\":\"name\",\"line\":{\"width\":0},\"mode\":\"lines\",\"name\":\"Risk Area\",\"showlegend\":false,\"x\":[1.5,1.5,3.6,3.6,4.9,4.9,5.0,5.0,4.9,4.9,0.0,0.0,1.5],\"y\":[4.9,5.0,5.0,4.9,4.9,3.6,3.6,1.5,1.5,0.0,0.0,4.9,4.9],\"type\":\"scatter\"},{\"fill\":\"toself\",\"fillcolor\":\"rgb(255, 0, 0)\",\"hoverinfo\":\"name\",\"line\":{\"width\":0},\"mode\":\"lines\",\"name\":\"Risk Area\",\"showlegend\":false,\"x\":[9.9,9.9,5.1,5.1,5.0,5.0,5.1,5.1,6.4,6.4,8.6,8.6,9.9,9.9,10.0,10.0,9.9],\"y\":[1.5,0.0,0.0,1.5,1.5,3.6,3.6,4.9,4.9,5.0,5.0,4.9,4.9,3.6,3.6,1.5,1.5],\"type\":\"scatter\"},{\"fill\":\"toself\",\"fillcolor\":\"rgb(0, 0, 0)\",\"hoverinfo\":\"name\",\"line\":{\"width\":0},\"mode\":\"lines\",\"name\":\"Risk Area\",\"showlegend\":false,\"x\":[13.6,15.0,15.0,10.1,10.1,10.0,10.0,10.1,10.1,11.5,11.5,13.6,13.6],\"y\":[4.9,4.9,0.0,0.0,1.5,1.5,3.6,3.6,4.9,4.9,5.0,5.0,4.9],\"type\":\"scatter\"},{\"fill\":\"toself\",\"fillcolor\":\"rgb(178, 0, 0)\",\"hoverinfo\":\"name\",\"line\":{\"width\":0},\"mode\":\"lines\",\"name\":\"Risk Area\",\"showlegend\":false,\"x\":[13.6,15.0,15.0,13.6,13.6,11.5,11.5,10.1,10.1,10.0,10.0,10.1,10.1,11.5,11.5,13.6,13.6],\"y\":[9.9,9.9,5.1,5.1,5.0,5.0,5.1,5.1,6.5,6.5,8.6,8.6,9.9,9.9,10.0,10.0,9.9],\"type\":\"scatter\"},{\"fill\":\"toself\",\"fillcolor\":\"rgb(178, 0, 0)\",\"hoverinfo\":\"name\",\"line\":{\"width\":0},\"mode\":\"lines\",\"name\":\"Risk Area\",\"showlegend\":false,\"x\":[9.9,9.9,8.6,8.6,6.4,6.4,5.1,5.1,5.0,5.0,5.1,5.1,6.4,6.4,8.6,8.6,9.9,9.9,10.0,10.0,9.9],\"y\":[6.5,5.1,5.1,5.0,5.0,5.1,5.1,6.5,6.5,8.6,8.6,9.9,9.9,10.0,10.0,9.9,9.9,8.6,8.6,6.5,6.5],\"type\":\"scatter\"},{\"fill\":\"toself\",\"fillcolor\":\"rgb(127, 0, 0)\",\"hoverinfo\":\"name\",\"line\":{\"width\":0},\"mode\":\"lines\",\"name\":\"Risk Area\",\"showlegend\":false,\"x\":[4.9,4.9,3.6,3.6,1.5,1.5,0.0,0.0,1.5,1.5,3.6,3.6,4.9,4.9,5.0,5.0,4.9],\"y\":[6.5,5.1,5.1,5.0,5.0,5.1,5.1,9.9,9.9,10.0,10.0,9.9,9.9,8.6,8.6,6.5,6.5],\"type\":\"scatter\"},{\"fill\":\"toself\",\"fillcolor\":\"rgb(127, 0, 0)\",\"hoverinfo\":\"name\",\"line\":{\"width\":0},\"mode\":\"lines\",\"name\":\"Risk Area\",\"showlegend\":false,\"x\":[1.5,0.0,0.0,4.9,4.9,5.0,5.0,4.9,4.9,3.6,3.6,1.5,1.5],\"y\":[10.1,10.1,15.0,15.0,13.6,13.6,11.5,11.5,10.1,10.1,10.0,10.0,10.1],\"type\":\"scatter\"},{\"fill\":\"toself\",\"fillcolor\":\"rgb(25, 0, 0)\",\"hoverinfo\":\"name\",\"line\":{\"width\":0},\"mode\":\"lines\",\"name\":\"Risk Area\",\"showlegend\":false,\"x\":[6.4,5.1,5.1,5.0,5.0,5.1,5.1,9.9,9.9,10.0,10.0,9.9,9.9,8.6,8.6,6.4,6.4],\"y\":[10.1,10.1,11.5,11.5,13.6,13.6,15.0,15.0,13.6,13.6,11.5,11.5,10.1,10.1,10.0,10.0,10.1],\"type\":\"scatter\"},{\"fill\":\"toself\",\"fillcolor\":\"rgb(76, 0, 0)\",\"hoverinfo\":\"name\",\"line\":{\"width\":0},\"mode\":\"lines\",\"name\":\"Risk Area\",\"showlegend\":false,\"x\":[10.1,10.1,15.0,15.0,13.6,13.6,11.5,11.5,10.1,10.1,10.0,10.0,10.1],\"y\":[13.6,15.0,15.0,10.1,10.1,10.0,10.0,10.1,10.1,11.5,11.5,13.6,13.6],\"type\":\"scatter\"},{\"hoverinfo\":\"text\",\"marker\":{\"opacity\":1,\"size\":1},\"mode\":\"markers\",\"showlegend\":false,\"text\":[\"ID: 101, Pos(5.91,12.09)\"],\"x\":[5.9149867044845665],\"y\":[12.089599763344685],\"type\":\"scatter\"},{\"hoverinfo\":\"text\",\"marker\":{\"opacity\":1,\"size\":1},\"mode\":\"markers\",\"showlegend\":false,\"text\":[\"ID: 102, Pos(5.68,12.73)\"],\"x\":[5.683835240738651],\"y\":[12.728423553603408],\"type\":\"scatter\"},{\"hoverinfo\":\"text\",\"marker\":{\"opacity\":1,\"size\":1},\"mode\":\"markers\",\"showlegend\":false,\"text\":[\"ID: 103, Pos(4.58,11.28)\"],\"x\":[4.5768798788065705],\"y\":[11.279234989706152],\"type\":\"scatter\"},{\"hoverinfo\":\"text\",\"marker\":{\"opacity\":1,\"size\":1},\"mode\":\"markers\",\"showlegend\":false,\"text\":[\"ID: 104, Pos(7.66,12.30)\"],\"x\":[7.664452319104679],\"y\":[12.298327232740371],\"type\":\"scatter\"},{\"hoverinfo\":\"text\",\"marker\":{\"opacity\":1,\"size\":1},\"mode\":\"markers\",\"showlegend\":false,\"text\":[\"ID: 105, Pos(6.75,12.60)\"],\"x\":[6.7549533610751205],\"y\":[12.599266675886673],\"type\":\"scatter\"},{\"hoverinfo\":\"text\",\"marker\":{\"opacity\":1,\"size\":1},\"mode\":\"markers\",\"showlegend\":false,\"text\":[\"ID: 106, Pos(8.93,12.54)\"],\"x\":[8.93496968547073],\"y\":[12.535887503668105],\"type\":\"scatter\"},{\"hoverinfo\":\"text\",\"marker\":{\"opacity\":1,\"size\":1},\"mode\":\"markers\",\"showlegend\":false,\"text\":[\"ID: 107, Pos(9.12,13.18)\"],\"x\":[9.117309806170637],\"y\":[13.184718671607518],\"type\":\"scatter\"},{\"hoverinfo\":\"text\",\"marker\":{\"opacity\":1,\"size\":1},\"mode\":\"markers\",\"showlegend\":false,\"text\":[\"ID: 108, Pos(4.95,11.88)\"],\"x\":[4.950560823545183],\"y\":[11.878891762104992],\"type\":\"scatter\"},{\"hoverinfo\":\"text\",\"marker\":{\"opacity\":1,\"size\":1},\"mode\":\"markers\",\"showlegend\":false,\"text\":[\"ID: 109, Pos(8.00,12.98)\"],\"x\":[8.000379920243226],\"y\":[12.976763907111923],\"type\":\"scatter\"},{\"hoverinfo\":\"text\",\"marker\":{\"opacity\":1,\"size\":1},\"mode\":\"markers\",\"showlegend\":false,\"text\":[\"ID: 110, Pos(4.63,12.37)\"],\"x\":[4.634365424578643],\"y\":[12.369242825145243],\"type\":\"scatter\"}],\"layout\":{\"shapes\":[{\"fillcolor\":\"rgba(0, 0, 128, 0.5)\",\"line\":{\"color\":\"rgba(0, 0, 128, 0.5)\"},\"type\":\"circle\",\"x0\":5.714986704484566,\"x1\":6.114986704484567,\"xref\":\"x\",\"y0\":11.889599763344686,\"y1\":12.289599763344684,\"yref\":\"y\"},{\"fillcolor\":\"rgba(0, 29, 255, 0.5)\",\"line\":{\"color\":\"rgba(0, 29, 255, 0.5)\"},\"type\":\"circle\",\"x0\":5.483835240738651,\"x1\":5.883835240738652,\"xref\":\"x\",\"y0\":12.528423553603409,\"y1\":12.928423553603407,\"yref\":\"y\"},{\"fillcolor\":\"rgba(106, 255, 141, 0.5)\",\"line\":{\"color\":\"rgba(106, 255, 141, 0.5)\"},\"type\":\"circle\",\"x0\":4.37687987880657,\"x1\":4.776879878806571,\"xref\":\"x\",\"y0\":11.079234989706153,\"y1\":11.479234989706152,\"yref\":\"y\"},{\"fillcolor\":\"rgba(0, 0, 128, 0.5)\",\"line\":{\"color\":\"rgba(0, 0, 128, 0.5)\"},\"type\":\"circle\",\"x0\":7.464452319104679,\"x1\":7.86445231910468,\"xref\":\"x\",\"y0\":12.098327232740372,\"y1\":12.49832723274037,\"yref\":\"y\"},{\"fillcolor\":\"rgba(0, 0, 128, 0.5)\",\"line\":{\"color\":\"rgba(0, 0, 128, 0.5)\"},\"type\":\"circle\",\"x0\":6.55495336107512,\"x1\":6.954953361075121,\"xref\":\"x\",\"y0\":12.399266675886674,\"y1\":12.799266675886672,\"yref\":\"y\"},{\"fillcolor\":\"rgba(0, 0, 128, 0.5)\",\"line\":{\"color\":\"rgba(0, 0, 128, 0.5)\"},\"type\":\"circle\",\"x0\":8.73496968547073,\"x1\":9.134969685470729,\"xref\":\"x\",\"y0\":12.335887503668106,\"y1\":12.735887503668105,\"yref\":\"y\"},{\"fillcolor\":\"rgba(255, 30, 0, 0.5)\",\"line\":{\"color\":\"rgba(255, 30, 0, 0.5)\"},\"type\":\"circle\",\"x0\":8.917309806170637,\"x1\":9.317309806170636,\"xref\":\"x\",\"y0\":12.984718671607519,\"y1\":13.384718671607517,\"yref\":\"y\"},{\"fillcolor\":\"rgba(0, 148, 255, 0.5)\",\"line\":{\"color\":\"rgba(0, 148, 255, 0.5)\"},\"type\":\"circle\",\"x0\":4.750560823545182,\"x1\":5.150560823545183,\"xref\":\"x\",\"y0\":11.678891762104993,\"y1\":12.078891762104991,\"yref\":\"y\"},{\"fillcolor\":\"rgba(0, 37, 255, 0.5)\",\"line\":{\"color\":\"rgba(0, 37, 255, 0.5)\"},\"type\":\"circle\",\"x0\":7.800379920243226,\"x1\":8.200379920243225,\"xref\":\"x\",\"y0\":12.776763907111924,\"y1\":13.176763907111923,\"yref\":\"y\"},{\"fillcolor\":\"rgba(0, 0, 255, 0.5)\",\"line\":{\"color\":\"rgba(0, 0, 255, 0.5)\"},\"type\":\"circle\",\"x0\":4.434365424578643,\"x1\":4.834365424578643,\"xref\":\"x\",\"y0\":12.169242825145243,\"y1\":12.569242825145242,\"yref\":\"y\"},{\"line\":{\"color\":\"white\",\"width\":3},\"type\":\"line\",\"x0\":5.9149867044845665,\"x1\":6.11407672925403,\"y0\":12.089599763344685,\"y1\":12.108656574129663},{\"line\":{\"color\":\"white\",\"width\":3},\"type\":\"line\",\"x0\":5.683835240738651,\"x1\":5.883747498667544,\"y0\":12.728423553603408,\"y1\":12.734347161437473},{\"line\":{\"color\":\"black\",\"width\":3},\"type\":\"line\",\"x0\":4.5768798788065705,\"x1\":4.584081314535593,\"y0\":11.279234989706152,\"y1\":11.479105295963587},{\"line\":{\"color\":\"white\",\"width\":3},\"type\":\"line\",\"x0\":7.664452319104679,\"x1\":7.861552860409286,\"y0\":12.298327232740371,\"y1\":12.332259173702113},{\"line\":{\"color\":\"white\",\"width\":3},\"type\":\"line\",\"x0\":6.7549533610751205,\"x1\":6.952083947298273,\"y0\":12.599266675886673,\"y1\":12.633023630360029},{\"line\":{\"color\":\"white\",\"width\":3},\"type\":\"line\",\"x0\":8.93496968547073,\"x1\":9.134257319065377,\"y0\":12.535887503668105,\"y1\":12.552752825966996},{\"line\":{\"color\":\"white\",\"width\":3},\"type\":\"line\",\"x0\":9.117309806170637,\"x1\":9.310182507008564,\"y0\":13.184718671607518,\"y1\":13.237634843724209},{\"line\":{\"color\":\"white\",\"width\":3},\"type\":\"line\",\"x0\":4.950560823545183,\"x1\":5.14352833351619,\"y0\":11.878891762104992,\"y1\":11.93146114573833},{\"line\":{\"color\":\"white\",\"width\":3},\"type\":\"line\",\"x0\":8.000379920243226,\"x1\":8.19660893580467,\"y0\":12.976763907111923,\"y1\":13.015418446971895},{\"line\":{\"color\":\"white\",\"width\":3},\"type\":\"line\",\"x0\":4.634365424578643,\"x1\":4.811685135689864,\"y0\":12.369242825145243,\"y1\":12.461750771027926}],\"title\":{\"text\":\"\\u003cb\\u003ePercentage using the shortest path: 0%  |  Number of Agents: 10\\u003c\\u002fb\\u003e\",\"x\":0.5}},\"name\":\"550\"},{\"data\":[{\"hoverinfo\":\"name\",\"line\":{\"color\":\"white\"},\"mode\":\"lines\",\"name\":\"Exterior\",\"showlegend\":false,\"x\":[10.1,10.1,15.0,15.0,13.6,13.6,15.0,15.0,13.6,13.6,15.0,15.0,10.1,10.1,9.9,9.9,5.1,5.1,4.9,4.9,0.0,0.0,1.5,1.5,0.0,0.0,1.5,1.5,0.0,0.0,4.9,4.9,5.1,5.1,9.9,9.9,10.1],\"y\":[1.5,0.0,0.0,4.9,4.9,5.1,5.1,9.9,9.9,10.1,10.1,15.0,15.0,13.6,13.6,15.0,15.0,13.6,13.6,15.0,15.0,10.1,10.1,9.9,9.9,5.1,5.1,4.9,4.9,0.0,0.0,1.5,1.5,0.0,0.0,1.5,1.5],\"type\":\"scatter\"},{\"hoverinfo\":\"name\",\"line\":{\"color\":\"white\"},\"mode\":\"lines\",\"name\":\"Obstacle\",\"showlegend\":false,\"x\":[10.1,11.5,11.5,10.1,10.1,9.9,9.9,8.6,8.6,9.9,9.9,10.1,10.1],\"y\":[5.1,5.1,4.9,4.9,3.6,3.6,4.9,4.9,5.1,5.1,6.5,6.5,5.1],\"type\":\"scatter\"},{\"hoverinfo\":\"name\",\"line\":{\"color\":\"white\"},\"mode\":\"lines\",\"name\":\"Obstacle\",\"showlegend\":false,\"x\":[10.1,11.5,11.5,10.1,10.1,9.9,9.9,8.6,8.6,9.9,9.9,10.1,10.1],\"y\":[10.1,10.1,9.9,9.9,8.6,8.6,9.9,9.9,10.1,10.1,11.5,11.5,10.1],\"type\":\"scatter\"},{\"hoverinfo\":\"name\",\"line\":{\"color\":\"white\"},\"mode\":\"lines\",\"name\":\"Obstacle\",\"showlegend\":false,\"x\":[5.1,6.4,6.4,5.1,5.1,4.9,4.9,3.6,3.6,4.9,4.9,5.1,5.1],\"y\":[5.1,5.1,4.9,4.9,3.6,3.6,4.9,4.9,5.1,5.1,6.5,6.5,5.1],\"type\":\"scatter\"},{\"hoverinfo\":\"name\",\"line\":{\"color\":\"white\"},\"mode\":\"lines\",\"name\":\"Obstacle\",\"showlegend\":false,\"x\":[5.1,6.4,6.4,5.1,5.1,4.9,4.9,3.6,3.6,4.9,4.9,5.1,5.1],\"y\":[10.1,10.1,9.9,9.9,8.6,8.6,9.9,9.9,10.1,10.1,11.5,11.5,10.1],\"type\":\"scatter\"},{\"fill\":\"toself\",\"fillcolor\":\"rgb(25, 0, 0)\",\"hoverinfo\":\"name\",\"line\":{\"width\":0},\"mode\":\"lines\",\"name\":\"Risk Area\",\"showlegend\":false,\"x\":[1.5,1.5,3.6,3.6,4.9,4.9,5.0,5.0,4.9,4.9,0.0,0.0,1.5],\"y\":[4.9,5.0,5.0,4.9,4.9,3.6,3.6,1.5,1.5,0.0,0.0,4.9,4.9],\"type\":\"scatter\"},{\"fill\":\"toself\",\"fillcolor\":\"rgb(255, 0, 0)\",\"hoverinfo\":\"name\",\"line\":{\"width\":0},\"mode\":\"lines\",\"name\":\"Risk Area\",\"showlegend\":false,\"x\":[9.9,9.9,5.1,5.1,5.0,5.0,5.1,5.1,6.4,6.4,8.6,8.6,9.9,9.9,10.0,10.0,9.9],\"y\":[1.5,0.0,0.0,1.5,1.5,3.6,3.6,4.9,4.9,5.0,5.0,4.9,4.9,3.6,3.6,1.5,1.5],\"type\":\"scatter\"},{\"fill\":\"toself\",\"fillcolor\":\"rgb(0, 0, 0)\",\"hoverinfo\":\"name\",\"line\":{\"width\":0},\"mode\":\"lines\",\"name\":\"Risk Area\",\"showlegend\":false,\"x\":[13.6,15.0,15.0,10.1,10.1,10.0,10.0,10.1,10.1,11.5,11.5,13.6,13.6],\"y\":[4.9,4.9,0.0,0.0,1.5,1.5,3.6,3.6,4.9,4.9,5.0,5.0,4.9],\"type\":\"scatter\"},{\"fill\":\"toself\",\"fillcolor\":\"rgb(178, 0, 0)\",\"hoverinfo\":\"name\",\"line\":{\"width\":0},\"mode\":\"lines\",\"name\":\"Risk Area\",\"showlegend\":false,\"x\":[13.6,15.0,15.0,13.6,13.6,11.5,11.5,10.1,10.1,10.0,10.0,10.1,10.1,11.5,11.5,13.6,13.6],\"y\":[9.9,9.9,5.1,5.1,5.0,5.0,5.1,5.1,6.5,6.5,8.6,8.6,9.9,9.9,10.0,10.0,9.9],\"type\":\"scatter\"},{\"fill\":\"toself\",\"fillcolor\":\"rgb(178, 0, 0)\",\"hoverinfo\":\"name\",\"line\":{\"width\":0},\"mode\":\"lines\",\"name\":\"Risk Area\",\"showlegend\":false,\"x\":[9.9,9.9,8.6,8.6,6.4,6.4,5.1,5.1,5.0,5.0,5.1,5.1,6.4,6.4,8.6,8.6,9.9,9.9,10.0,10.0,9.9],\"y\":[6.5,5.1,5.1,5.0,5.0,5.1,5.1,6.5,6.5,8.6,8.6,9.9,9.9,10.0,10.0,9.9,9.9,8.6,8.6,6.5,6.5],\"type\":\"scatter\"},{\"fill\":\"toself\",\"fillcolor\":\"rgb(127, 0, 0)\",\"hoverinfo\":\"name\",\"line\":{\"width\":0},\"mode\":\"lines\",\"name\":\"Risk Area\",\"showlegend\":false,\"x\":[4.9,4.9,3.6,3.6,1.5,1.5,0.0,0.0,1.5,1.5,3.6,3.6,4.9,4.9,5.0,5.0,4.9],\"y\":[6.5,5.1,5.1,5.0,5.0,5.1,5.1,9.9,9.9,10.0,10.0,9.9,9.9,8.6,8.6,6.5,6.5],\"type\":\"scatter\"},{\"fill\":\"toself\",\"fillcolor\":\"rgb(127, 0, 0)\",\"hoverinfo\":\"name\",\"line\":{\"width\":0},\"mode\":\"lines\",\"name\":\"Risk Area\",\"showlegend\":false,\"x\":[1.5,0.0,0.0,4.9,4.9,5.0,5.0,4.9,4.9,3.6,3.6,1.5,1.5],\"y\":[10.1,10.1,15.0,15.0,13.6,13.6,11.5,11.5,10.1,10.1,10.0,10.0,10.1],\"type\":\"scatter\"},{\"fill\":\"toself\",\"fillcolor\":\"rgb(25, 0, 0)\",\"hoverinfo\":\"name\",\"line\":{\"width\":0},\"mode\":\"lines\",\"name\":\"Risk Area\",\"showlegend\":false,\"x\":[6.4,5.1,5.1,5.0,5.0,5.1,5.1,9.9,9.9,10.0,10.0,9.9,9.9,8.6,8.6,6.4,6.4],\"y\":[10.1,10.1,11.5,11.5,13.6,13.6,15.0,15.0,13.6,13.6,11.5,11.5,10.1,10.1,10.0,10.0,10.1],\"type\":\"scatter\"},{\"fill\":\"toself\",\"fillcolor\":\"rgb(76, 0, 0)\",\"hoverinfo\":\"name\",\"line\":{\"width\":0},\"mode\":\"lines\",\"name\":\"Risk Area\",\"showlegend\":false,\"x\":[10.1,10.1,15.0,15.0,13.6,13.6,11.5,11.5,10.1,10.1,10.0,10.0,10.1],\"y\":[13.6,15.0,15.0,10.1,10.1,10.0,10.0,10.1,10.1,11.5,11.5,13.6,13.6],\"type\":\"scatter\"},{\"hoverinfo\":\"text\",\"marker\":{\"opacity\":1,\"size\":1},\"mode\":\"markers\",\"showlegend\":false,\"text\":[\"ID: 101, Pos(7.50,12.28)\"],\"x\":[7.502632408730245],\"y\":[12.279741217809164],\"type\":\"scatter\"},{\"hoverinfo\":\"text\",\"marker\":{\"opacity\":1,\"size\":1},\"mode\":\"markers\",\"showlegend\":false,\"text\":[\"ID: 102, Pos(7.01,12.94)\"],\"x\":[7.008274855969217],\"y\":[12.9380676826337],\"type\":\"scatter\"},{\"hoverinfo\":\"text\",\"marker\":{\"opacity\":1,\"size\":1},\"mode\":\"markers\",\"showlegend\":false,\"text\":[\"ID: 103, Pos(5.28,12.02)\"],\"x\":[5.279260405011873],\"y\":[12.019565318193134],\"type\":\"scatter\"},{\"hoverinfo\":\"text\",\"marker\":{\"opacity\":1,\"size\":1},\"mode\":\"markers\",\"showlegend\":false,\"text\":[\"ID: 104, Pos(9.25,12.51)\"],\"x\":[9.248521674603468],\"y\":[12.51470249483983],\"type\":\"scatter\"},{\"hoverinfo\":\"text\",\"marker\":{\"opacity\":1,\"size\":1},\"mode\":\"markers\",\"showlegend\":false,\"text\":[\"ID: 105, Pos(8.00,12.82)\"],\"x\":[8.004794475648358],\"y\":[12.818715529011973],\"type\":\"scatter\"},{\"hoverinfo\":\"text\",\"marker\":{\"opacity\":1,\"size\":1},\"mode\":\"markers\",\"showlegend\":false,\"text\":[\"ID: 106, Pos(10.51,12.82)\"],\"x\":[10.505643328881801],\"y\":[12.816240475368796],\"type\":\"scatter\"},{\"hoverinfo\":\"text\",\"marker\":{\"opacity\":1,\"size\":1},\"mode\":\"markers\",\"showlegend\":false,\"text\":[\"ID: 107, Pos(9.84,13.24)\"],\"x\":[9.842802915408999],\"y\":[13.237636922612186],\"type\":\"scatter\"},{\"hoverinfo\":\"text\",\"marker\":{\"opacity\":1,\"size\":1},\"mode\":\"markers\",\"showlegend\":false,\"text\":[\"ID: 108, Pos(6.35,12.05)\"],\"x\":[6.353125641468236],\"y\":[12.048932751542441],\"type\":\"scatter\"},{\"hoverinfo\":\"text\",\"marker\":{\"opacity\":1,\"size\":1},\"mode\":\"markers\",\"showlegend\":false,\"text\":[\"ID: 109, Pos(8.89,13.19)\"],\"x\":[8.890140750143065],\"y\":[13.186907326288246],\"type\":\"scatter\"},{\"hoverinfo\":\"text\",\"marker\":{\"opacity\":1,\"size\":1},\"mode\":\"markers\",\"showlegend\":false,\"text\":[\"ID: 110, Pos(5.99,12.63)\"],\"x\":[5.989342182841642],\"y\":[12.630644129616517],\"type\":\"scatter\"}],\"layout\":{\"shapes\":[{\"fillcolor\":\"rgba(0, 0, 128, 0.5)\",\"line\":{\"color\":\"rgba(0, 0, 128, 0.5)\"},\"type\":\"circle\",\"x0\":7.302632408730245,\"x1\":7.702632408730246,\"xref\":\"x\",\"y0\":12.079741217809165,\"y1\":12.479741217809163,\"yref\":\"y\"},{\"fillcolor\":\"rgba(0, 125, 255, 0.5)\",\"line\":{\"color\":\"rgba(0, 125, 255, 0.5)\"},\"type\":\"circle\",\"x0\":6.808274855969217,\"x1\":7.208274855969218,\"xref\":\"x\",\"y0\":12.738067682633702,\"y1\":13.1380676826337,\"yref\":\"y\"},{\"fillcolor\":\"rgba(0, 32, 255, 0.5)\",\"line\":{\"color\":\"rgba(0, 32, 255, 0.5)\"},\"type\":\"circle\",\"x0\":5.079260405011873,\"x1\":5.479260405011873,\"xref\":\"x\",\"y0\":11.819565318193135,\"y1\":12.219565318193133,\"yref\":\"y\"},{\"fillcolor\":\"rgba(0, 0, 128, 0.5)\",\"line\":{\"color\":\"rgba(0, 0, 128, 0.5)\"},\"type\":\"circle\",\"x0\":9.04852167460347,\"x1\":9.448521674603468,\"xref\":\"x\",\"y0\":12.31470249483983,\"y1\":12.714702494839829,\"yref\":\"y\"},{\"fillcolor\":\"rgba(0, 184, 255, 0.5)\",\"line\":{\"color\":\"rgba(0, 184, 255, 0.5)\"},\"type\":\"circle\",\"x0\":7.804794475648358,\"x1\":8.204794475648358,\"xref\":\"x\",\"y0\":12.618715529011974,\"y1\":13.018715529011972,\"yref\":\"y\"},{\"fillcolor\":\"rgba(0, 0, 128, 0.5)\",\"line\":{\"color\":\"rgba(0, 0, 128, 0.5)\"},\"type\":\"circle\",\"x0\":10.305643328881802,\"x1\":10.7056433288818,\"xref\":\"x\",\"y0\":12.616240475368796,\"y1\":13.016240475368795,\"yref\":\"y\"},{\"fillcolor\":\"rgba(141, 255, 106, 0.5)\",\"line\":{\"color\":\"rgba(141, 255, 106, 0.5)\"},\"type\":\"circle\",\"x0\":9.642802915409,\"x1\":10.042802915408998,\"xref\":\"x\",\"y0\":13.037636922612187,\"y1\":13.437636922612185,\"yref\":\"y\"},{\"fillcolor\":\"rgba(0, 0, 168, 0.5)\",\"line\":{\"color\":\"rgba(0, 0, 168, 0.5)\"},\"type\":\"circle\",\"x0\":6.153125641468236,\"x1\":6.553125641468236,\"xref\":\"x\",\"y0\":11.848932751542442,\"y1\":12.24893275154244,\"yref\":\"y\"},{\"fillcolor\":\"rgba(0, 184, 255, 0.5)\",\"line\":{\"color\":\"rgba(0, 184, 255, 0.5)\"},\"type\":\"circle\",\"x0\":8.690140750143065,\"x1\":9.090140750143064,\"xref\":\"x\",\"y0\":12.986907326288247,\"y1\":13.386907326288245,\"yref\":\"y\"},{\"fillcolor\":\"rgba(0, 48, 255, 0.5)\",\"line\":{\"color\":\"rgba(0, 48, 255, 0.5)\"},\"type\":\"circle\",\"x0\":5.789342182841642,\"x1\":6.189342182841642,\"xref\":\"x\",\"y0\":12.430644129616518,\"y1\":12.830644129616516,\"yref\":\"y\"},{\"line\":{\"color\":\"white\",\"width\":3},\"type\":\"line\",\"x0\":7.502632408730245,\"x1\":7.700611238656673,\"y0\":12.279741217809164,\"y1\":12.308102862700855},{\"line\":{\"color\":\"white\",\"width\":3},\"type\":\"line\",\"x0\":7.008274855969217,\"x1\":7.205804163137462,\"y0\":12.9380676826337,\"y1\":12.969407319032888},{\"line\":{\"color\":\"white\",\"width\":3},\"type\":\"line\",\"x0\":5.279260405011873,\"x1\":5.474573778683291,\"y0\":12.019565318193134,\"y1\":12.06260815807492},{\"line\":{\"color\":\"white\",\"width\":3},\"type\":\"line\",\"x0\":9.248521674603468,\"x1\":9.444817502776315,\"y0\":12.51470249483983,\"y1\":12.553016302297925},{\"line\":{\"color\":\"black\",\"width\":3},\"type\":\"line\",\"x0\":8.004794475648358,\"x1\":8.20049435107579,\"y0\":12.818715529011973,\"y1\":12.859965483650587},{\"line\":{\"color\":\"white\",\"width\":3},\"type\":\"line\",\"x0\":10.505643328881801,\"x1\":10.699939582854743,\"y0\":12.816240475368796,\"y1\":12.863663736455333},{\"line\":{\"color\":\"black\",\"width\":3},\"type\":\"line\",\"x0\":9.842802915408999,\"x1\":10.037222459509684,\"y0\":13.237636922612186,\"y1\":13.190721670596641},{\"line\":{\"color\":\"white\",\"width\":3},\"type\":\"line\",\"x0\":6.353125641468236,\"x1\":6.552310488637876,\"y0\":12.048932751542441,\"y1\":12.066971505878788},{\"line\":{\"color\":\"black\",\"width\":3},\"type\":\"line\",\"x0\":8.890140750143065,\"x1\":9.086693849857335,\"y0\":13.186907326288246,\"y1\":13.223878652917302},{\"line\":{\"color\":\"white\",\"width\":3},\"type\":\"line\",\"x0\":5.989342182841642,\"x1\":6.189073469837046,\"y0\":12.630644129616517,\"y1\":12.6410081536979}],\"title\":{\"text\":\"\\u003cb\\u003ePercentage using the shortest path: 0%  |  Number of Agents: 10\\u003c\\u002fb\\u003e\",\"x\":0.5}},\"name\":\"600\"},{\"data\":[{\"hoverinfo\":\"name\",\"line\":{\"color\":\"white\"},\"mode\":\"lines\",\"name\":\"Exterior\",\"showlegend\":false,\"x\":[10.1,10.1,15.0,15.0,13.6,13.6,15.0,15.0,13.6,13.6,15.0,15.0,10.1,10.1,9.9,9.9,5.1,5.1,4.9,4.9,0.0,0.0,1.5,1.5,0.0,0.0,1.5,1.5,0.0,0.0,4.9,4.9,5.1,5.1,9.9,9.9,10.1],\"y\":[1.5,0.0,0.0,4.9,4.9,5.1,5.1,9.9,9.9,10.1,10.1,15.0,15.0,13.6,13.6,15.0,15.0,13.6,13.6,15.0,15.0,10.1,10.1,9.9,9.9,5.1,5.1,4.9,4.9,0.0,0.0,1.5,1.5,0.0,0.0,1.5,1.5],\"type\":\"scatter\"},{\"hoverinfo\":\"name\",\"line\":{\"color\":\"white\"},\"mode\":\"lines\",\"name\":\"Obstacle\",\"showlegend\":false,\"x\":[10.1,11.5,11.5,10.1,10.1,9.9,9.9,8.6,8.6,9.9,9.9,10.1,10.1],\"y\":[5.1,5.1,4.9,4.9,3.6,3.6,4.9,4.9,5.1,5.1,6.5,6.5,5.1],\"type\":\"scatter\"},{\"hoverinfo\":\"name\",\"line\":{\"color\":\"white\"},\"mode\":\"lines\",\"name\":\"Obstacle\",\"showlegend\":false,\"x\":[10.1,11.5,11.5,10.1,10.1,9.9,9.9,8.6,8.6,9.9,9.9,10.1,10.1],\"y\":[10.1,10.1,9.9,9.9,8.6,8.6,9.9,9.9,10.1,10.1,11.5,11.5,10.1],\"type\":\"scatter\"},{\"hoverinfo\":\"name\",\"line\":{\"color\":\"white\"},\"mode\":\"lines\",\"name\":\"Obstacle\",\"showlegend\":false,\"x\":[5.1,6.4,6.4,5.1,5.1,4.9,4.9,3.6,3.6,4.9,4.9,5.1,5.1],\"y\":[5.1,5.1,4.9,4.9,3.6,3.6,4.9,4.9,5.1,5.1,6.5,6.5,5.1],\"type\":\"scatter\"},{\"hoverinfo\":\"name\",\"line\":{\"color\":\"white\"},\"mode\":\"lines\",\"name\":\"Obstacle\",\"showlegend\":false,\"x\":[5.1,6.4,6.4,5.1,5.1,4.9,4.9,3.6,3.6,4.9,4.9,5.1,5.1],\"y\":[10.1,10.1,9.9,9.9,8.6,8.6,9.9,9.9,10.1,10.1,11.5,11.5,10.1],\"type\":\"scatter\"},{\"fill\":\"toself\",\"fillcolor\":\"rgb(25, 0, 0)\",\"hoverinfo\":\"name\",\"line\":{\"width\":0},\"mode\":\"lines\",\"name\":\"Risk Area\",\"showlegend\":false,\"x\":[1.5,1.5,3.6,3.6,4.9,4.9,5.0,5.0,4.9,4.9,0.0,0.0,1.5],\"y\":[4.9,5.0,5.0,4.9,4.9,3.6,3.6,1.5,1.5,0.0,0.0,4.9,4.9],\"type\":\"scatter\"},{\"fill\":\"toself\",\"fillcolor\":\"rgb(255, 0, 0)\",\"hoverinfo\":\"name\",\"line\":{\"width\":0},\"mode\":\"lines\",\"name\":\"Risk Area\",\"showlegend\":false,\"x\":[9.9,9.9,5.1,5.1,5.0,5.0,5.1,5.1,6.4,6.4,8.6,8.6,9.9,9.9,10.0,10.0,9.9],\"y\":[1.5,0.0,0.0,1.5,1.5,3.6,3.6,4.9,4.9,5.0,5.0,4.9,4.9,3.6,3.6,1.5,1.5],\"type\":\"scatter\"},{\"fill\":\"toself\",\"fillcolor\":\"rgb(0, 0, 0)\",\"hoverinfo\":\"name\",\"line\":{\"width\":0},\"mode\":\"lines\",\"name\":\"Risk Area\",\"showlegend\":false,\"x\":[13.6,15.0,15.0,10.1,10.1,10.0,10.0,10.1,10.1,11.5,11.5,13.6,13.6],\"y\":[4.9,4.9,0.0,0.0,1.5,1.5,3.6,3.6,4.9,4.9,5.0,5.0,4.9],\"type\":\"scatter\"},{\"fill\":\"toself\",\"fillcolor\":\"rgb(178, 0, 0)\",\"hoverinfo\":\"name\",\"line\":{\"width\":0},\"mode\":\"lines\",\"name\":\"Risk Area\",\"showlegend\":false,\"x\":[13.6,15.0,15.0,13.6,13.6,11.5,11.5,10.1,10.1,10.0,10.0,10.1,10.1,11.5,11.5,13.6,13.6],\"y\":[9.9,9.9,5.1,5.1,5.0,5.0,5.1,5.1,6.5,6.5,8.6,8.6,9.9,9.9,10.0,10.0,9.9],\"type\":\"scatter\"},{\"fill\":\"toself\",\"fillcolor\":\"rgb(178, 0, 0)\",\"hoverinfo\":\"name\",\"line\":{\"width\":0},\"mode\":\"lines\",\"name\":\"Risk Area\",\"showlegend\":false,\"x\":[9.9,9.9,8.6,8.6,6.4,6.4,5.1,5.1,5.0,5.0,5.1,5.1,6.4,6.4,8.6,8.6,9.9,9.9,10.0,10.0,9.9],\"y\":[6.5,5.1,5.1,5.0,5.0,5.1,5.1,6.5,6.5,8.6,8.6,9.9,9.9,10.0,10.0,9.9,9.9,8.6,8.6,6.5,6.5],\"type\":\"scatter\"},{\"fill\":\"toself\",\"fillcolor\":\"rgb(127, 0, 0)\",\"hoverinfo\":\"name\",\"line\":{\"width\":0},\"mode\":\"lines\",\"name\":\"Risk Area\",\"showlegend\":false,\"x\":[4.9,4.9,3.6,3.6,1.5,1.5,0.0,0.0,1.5,1.5,3.6,3.6,4.9,4.9,5.0,5.0,4.9],\"y\":[6.5,5.1,5.1,5.0,5.0,5.1,5.1,9.9,9.9,10.0,10.0,9.9,9.9,8.6,8.6,6.5,6.5],\"type\":\"scatter\"},{\"fill\":\"toself\",\"fillcolor\":\"rgb(127, 0, 0)\",\"hoverinfo\":\"name\",\"line\":{\"width\":0},\"mode\":\"lines\",\"name\":\"Risk Area\",\"showlegend\":false,\"x\":[1.5,0.0,0.0,4.9,4.9,5.0,5.0,4.9,4.9,3.6,3.6,1.5,1.5],\"y\":[10.1,10.1,15.0,15.0,13.6,13.6,11.5,11.5,10.1,10.1,10.0,10.0,10.1],\"type\":\"scatter\"},{\"fill\":\"toself\",\"fillcolor\":\"rgb(25, 0, 0)\",\"hoverinfo\":\"name\",\"line\":{\"width\":0},\"mode\":\"lines\",\"name\":\"Risk Area\",\"showlegend\":false,\"x\":[6.4,5.1,5.1,5.0,5.0,5.1,5.1,9.9,9.9,10.0,10.0,9.9,9.9,8.6,8.6,6.4,6.4],\"y\":[10.1,10.1,11.5,11.5,13.6,13.6,15.0,15.0,13.6,13.6,11.5,11.5,10.1,10.1,10.0,10.0,10.1],\"type\":\"scatter\"},{\"fill\":\"toself\",\"fillcolor\":\"rgb(76, 0, 0)\",\"hoverinfo\":\"name\",\"line\":{\"width\":0},\"mode\":\"lines\",\"name\":\"Risk Area\",\"showlegend\":false,\"x\":[10.1,10.1,15.0,15.0,13.6,13.6,11.5,11.5,10.1,10.1,10.0,10.0,10.1],\"y\":[13.6,15.0,15.0,10.1,10.1,10.0,10.0,10.1,10.1,11.5,11.5,13.6,13.6],\"type\":\"scatter\"},{\"hoverinfo\":\"text\",\"marker\":{\"opacity\":1,\"size\":1},\"mode\":\"markers\",\"showlegend\":false,\"text\":[\"ID: 101, Pos(9.10,12.42)\"],\"x\":[9.095449590556639],\"y\":[12.423467791532744],\"type\":\"scatter\"},{\"hoverinfo\":\"text\",\"marker\":{\"opacity\":1,\"size\":1},\"mode\":\"markers\",\"showlegend\":false,\"text\":[\"ID: 102, Pos(8.11,13.10)\"],\"x\":[8.109783173604157],\"y\":[13.095777679779939],\"type\":\"scatter\"},{\"hoverinfo\":\"text\",\"marker\":{\"opacity\":1,\"size\":1},\"mode\":\"markers\",\"showlegend\":false,\"text\":[\"ID: 103, Pos(6.73,12.30)\"],\"x\":[6.730100182382002],\"y\":[12.29726024493352],\"type\":\"scatter\"},{\"hoverinfo\":\"text\",\"marker\":{\"opacity\":1,\"size\":1},\"mode\":\"markers\",\"showlegend\":false,\"text\":[\"ID: 104, Pos(10.83,12.78)\"],\"x\":[10.825935524290458],\"y\":[12.777366264767567],\"type\":\"scatter\"},{\"hoverinfo\":\"text\",\"marker\":{\"opacity\":1,\"size\":1},\"mode\":\"markers\",\"showlegend\":false,\"text\":[\"ID: 105, Pos(9.04,13.12)\"],\"x\":[9.036063753948689],\"y\":[13.115765946357334],\"type\":\"scatter\"},{\"hoverinfo\":\"text\",\"marker\":{\"opacity\":1,\"size\":1},\"mode\":\"markers\",\"showlegend\":false,\"text\":[\"ID: 106, Pos(12.05,13.25)\"],\"x\":[12.045748118057299],\"y\":[13.249603296783754],\"type\":\"scatter\"},{\"hoverinfo\":\"text\",\"marker\":{\"opacity\":1,\"size\":1},\"mode\":\"markers\",\"showlegend\":false,\"text\":[\"ID: 107, Pos(11.07,13.42)\"],\"x\":[11.074188823857028],\"y\":[13.42143179708077],\"type\":\"scatter\"},{\"hoverinfo\":\"text\",\"marker\":{\"opacity\":1,\"size\":1},\"mode\":\"markers\",\"showlegend\":false,\"text\":[\"ID: 108, Pos(7.90,12.32)\"],\"x\":[7.903559060728123],\"y\":[12.317192471045141],\"type\":\"scatter\"},{\"hoverinfo\":\"text\",\"marker\":{\"opacity\":1,\"size\":1},\"mode\":\"markers\",\"showlegend\":false,\"text\":[\"ID: 109, Pos(9.96,13.21)\"],\"x\":[9.959123047924972],\"y\":[13.21486085775466],\"type\":\"scatter\"},{\"hoverinfo\":\"text\",\"marker\":{\"opacity\":1,\"size\":1},\"mode\":\"markers\",\"showlegend\":false,\"text\":[\"ID: 110, Pos(7.18,12.88)\"],\"x\":[7.176441712781964],\"y\":[12.878541990438011],\"type\":\"scatter\"}],\"layout\":{\"shapes\":[{\"fillcolor\":\"rgba(0, 0, 128, 0.5)\",\"line\":{\"color\":\"rgba(0, 0, 128, 0.5)\"},\"type\":\"circle\",\"x0\":8.89544959055664,\"x1\":9.295449590556638,\"xref\":\"x\",\"y0\":12.223467791532745,\"y1\":12.623467791532743,\"yref\":\"y\"},{\"fillcolor\":\"rgba(0, 220, 254, 0.5)\",\"line\":{\"color\":\"rgba(0, 220, 254, 0.5)\"},\"type\":\"circle\",\"x0\":7.909783173604157,\"x1\":8.309783173604156,\"xref\":\"x\",\"y0\":12.89577767977994,\"y1\":13.295777679779938,\"yref\":\"y\"},{\"fillcolor\":\"rgba(0, 0, 164, 0.5)\",\"line\":{\"color\":\"rgba(0, 0, 164, 0.5)\"},\"type\":\"circle\",\"x0\":6.530100182382002,\"x1\":6.930100182382002,\"xref\":\"x\",\"y0\":12.097260244933521,\"y1\":12.49726024493352,\"yref\":\"y\"},{\"fillcolor\":\"rgba(0, 0, 128, 0.5)\",\"line\":{\"color\":\"rgba(0, 0, 128, 0.5)\"},\"type\":\"circle\",\"x0\":10.625935524290458,\"x1\":11.025935524290457,\"xref\":\"x\",\"y0\":12.577366264767567,\"y1\":12.977366264767566,\"yref\":\"y\"},{\"fillcolor\":\"rgba(0, 220, 254, 0.5)\",\"line\":{\"color\":\"rgba(0, 220, 254, 0.5)\"},\"type\":\"circle\",\"x0\":8.83606375394869,\"x1\":9.236063753948688,\"xref\":\"x\",\"y0\":12.915765946357334,\"y1\":13.315765946357333,\"yref\":\"y\"},{\"fillcolor\":\"rgba(0, 0, 128, 0.5)\",\"line\":{\"color\":\"rgba(0, 0, 128, 0.5)\"},\"type\":\"circle\",\"x0\":11.8457481180573,\"x1\":12.245748118057298,\"xref\":\"x\",\"y0\":13.049603296783754,\"y1\":13.449603296783753,\"yref\":\"y\"},{\"fillcolor\":\"rgba(0, 40, 255, 0.5)\",\"line\":{\"color\":\"rgba(0, 40, 255, 0.5)\"},\"type\":\"circle\",\"x0\":10.874188823857029,\"x1\":11.274188823857028,\"xref\":\"x\",\"y0\":13.22143179708077,\"y1\":13.621431797080769,\"yref\":\"y\"},{\"fillcolor\":\"rgba(0, 0, 132, 0.5)\",\"line\":{\"color\":\"rgba(0, 0, 132, 0.5)\"},\"type\":\"circle\",\"x0\":7.703559060728123,\"x1\":8.103559060728124,\"xref\":\"x\",\"y0\":12.117192471045142,\"y1\":12.51719247104514,\"yref\":\"y\"},{\"fillcolor\":\"rgba(0, 164, 255, 0.5)\",\"line\":{\"color\":\"rgba(0, 164, 255, 0.5)\"},\"type\":\"circle\",\"x0\":9.759123047924973,\"x1\":10.159123047924972,\"xref\":\"x\",\"y0\":13.01486085775466,\"y1\":13.41486085775466,\"yref\":\"y\"},{\"fillcolor\":\"rgba(0, 180, 255, 0.5)\",\"line\":{\"color\":\"rgba(0, 180, 255, 0.5)\"},\"type\":\"circle\",\"x0\":6.976441712781964,\"x1\":7.376441712781964,\"xref\":\"x\",\"y0\":12.678541990438012,\"y1\":13.07854199043801,\"yref\":\"y\"},{\"line\":{\"color\":\"white\",\"width\":3},\"type\":\"line\",\"x0\":9.095449590556639,\"x1\":9.293524871633897,\"y0\":12.423467791532744,\"y1\":12.45114780284352},{\"line\":{\"color\":\"black\",\"width\":3},\"type\":\"line\",\"x0\":8.109783173604157,\"x1\":8.307249407579654,\"y0\":13.095777679779939,\"y1\":13.12751230502641},{\"line\":{\"color\":\"white\",\"width\":3},\"type\":\"line\",\"x0\":6.730100182382002,\"x1\":6.928148663809792,\"y0\":12.29726024493352,\"y1\":12.32513135908682},{\"line\":{\"color\":\"white\",\"width\":3},\"type\":\"line\",\"x0\":10.825935524290458,\"x1\":11.022115837291858,\"y0\":12.777366264767567,\"y1\":12.816267226075386},{\"line\":{\"color\":\"black\",\"width\":3},\"type\":\"line\",\"x0\":9.036063753948689,\"x1\":9.228935475360935,\"y0\":13.115765946357334,\"y1\":13.168685688226288},{\"line\":{\"color\":\"white\",\"width\":3},\"type\":\"line\",\"x0\":12.045748118057299,\"x1\":12.237832663395904,\"y0\":13.249603296783754,\"y1\":13.305312608770718},{\"line\":{\"color\":\"white\",\"width\":3},\"type\":\"line\",\"x0\":11.074188823857028,\"x1\":11.268391308462176,\"y0\":13.42143179708077,\"y1\":13.469237601887164},{\"line\":{\"color\":\"white\",\"width\":3},\"type\":\"line\",\"x0\":7.903559060728123,\"x1\":8.100000285200487,\"y0\":12.317192471045141,\"y1\":12.354753692108874},{\"line\":{\"color\":\"white\",\"width\":3},\"type\":\"line\",\"x0\":9.959123047924972,\"x1\":10.156394239875754,\"y0\":13.21486085775466,\"y1\":13.181935535792409},{\"line\":{\"color\":\"black\",\"width\":3},\"type\":\"line\",\"x0\":7.176441712781964,\"x1\":7.372339203583067,\"y0\":12.878541990438011,\"y1\":12.918843021415288}],\"title\":{\"text\":\"\\u003cb\\u003ePercentage using the shortest path: 0%  |  Number of Agents: 10\\u003c\\u002fb\\u003e\",\"x\":0.5}},\"name\":\"650\"},{\"data\":[{\"hoverinfo\":\"name\",\"line\":{\"color\":\"white\"},\"mode\":\"lines\",\"name\":\"Exterior\",\"showlegend\":false,\"x\":[10.1,10.1,15.0,15.0,13.6,13.6,15.0,15.0,13.6,13.6,15.0,15.0,10.1,10.1,9.9,9.9,5.1,5.1,4.9,4.9,0.0,0.0,1.5,1.5,0.0,0.0,1.5,1.5,0.0,0.0,4.9,4.9,5.1,5.1,9.9,9.9,10.1],\"y\":[1.5,0.0,0.0,4.9,4.9,5.1,5.1,9.9,9.9,10.1,10.1,15.0,15.0,13.6,13.6,15.0,15.0,13.6,13.6,15.0,15.0,10.1,10.1,9.9,9.9,5.1,5.1,4.9,4.9,0.0,0.0,1.5,1.5,0.0,0.0,1.5,1.5],\"type\":\"scatter\"},{\"hoverinfo\":\"name\",\"line\":{\"color\":\"white\"},\"mode\":\"lines\",\"name\":\"Obstacle\",\"showlegend\":false,\"x\":[10.1,11.5,11.5,10.1,10.1,9.9,9.9,8.6,8.6,9.9,9.9,10.1,10.1],\"y\":[5.1,5.1,4.9,4.9,3.6,3.6,4.9,4.9,5.1,5.1,6.5,6.5,5.1],\"type\":\"scatter\"},{\"hoverinfo\":\"name\",\"line\":{\"color\":\"white\"},\"mode\":\"lines\",\"name\":\"Obstacle\",\"showlegend\":false,\"x\":[10.1,11.5,11.5,10.1,10.1,9.9,9.9,8.6,8.6,9.9,9.9,10.1,10.1],\"y\":[10.1,10.1,9.9,9.9,8.6,8.6,9.9,9.9,10.1,10.1,11.5,11.5,10.1],\"type\":\"scatter\"},{\"hoverinfo\":\"name\",\"line\":{\"color\":\"white\"},\"mode\":\"lines\",\"name\":\"Obstacle\",\"showlegend\":false,\"x\":[5.1,6.4,6.4,5.1,5.1,4.9,4.9,3.6,3.6,4.9,4.9,5.1,5.1],\"y\":[5.1,5.1,4.9,4.9,3.6,3.6,4.9,4.9,5.1,5.1,6.5,6.5,5.1],\"type\":\"scatter\"},{\"hoverinfo\":\"name\",\"line\":{\"color\":\"white\"},\"mode\":\"lines\",\"name\":\"Obstacle\",\"showlegend\":false,\"x\":[5.1,6.4,6.4,5.1,5.1,4.9,4.9,3.6,3.6,4.9,4.9,5.1,5.1],\"y\":[10.1,10.1,9.9,9.9,8.6,8.6,9.9,9.9,10.1,10.1,11.5,11.5,10.1],\"type\":\"scatter\"},{\"fill\":\"toself\",\"fillcolor\":\"rgb(25, 0, 0)\",\"hoverinfo\":\"name\",\"line\":{\"width\":0},\"mode\":\"lines\",\"name\":\"Risk Area\",\"showlegend\":false,\"x\":[1.5,1.5,3.6,3.6,4.9,4.9,5.0,5.0,4.9,4.9,0.0,0.0,1.5],\"y\":[4.9,5.0,5.0,4.9,4.9,3.6,3.6,1.5,1.5,0.0,0.0,4.9,4.9],\"type\":\"scatter\"},{\"fill\":\"toself\",\"fillcolor\":\"rgb(255, 0, 0)\",\"hoverinfo\":\"name\",\"line\":{\"width\":0},\"mode\":\"lines\",\"name\":\"Risk Area\",\"showlegend\":false,\"x\":[9.9,9.9,5.1,5.1,5.0,5.0,5.1,5.1,6.4,6.4,8.6,8.6,9.9,9.9,10.0,10.0,9.9],\"y\":[1.5,0.0,0.0,1.5,1.5,3.6,3.6,4.9,4.9,5.0,5.0,4.9,4.9,3.6,3.6,1.5,1.5],\"type\":\"scatter\"},{\"fill\":\"toself\",\"fillcolor\":\"rgb(0, 0, 0)\",\"hoverinfo\":\"name\",\"line\":{\"width\":0},\"mode\":\"lines\",\"name\":\"Risk Area\",\"showlegend\":false,\"x\":[13.6,15.0,15.0,10.1,10.1,10.0,10.0,10.1,10.1,11.5,11.5,13.6,13.6],\"y\":[4.9,4.9,0.0,0.0,1.5,1.5,3.6,3.6,4.9,4.9,5.0,5.0,4.9],\"type\":\"scatter\"},{\"fill\":\"toself\",\"fillcolor\":\"rgb(178, 0, 0)\",\"hoverinfo\":\"name\",\"line\":{\"width\":0},\"mode\":\"lines\",\"name\":\"Risk Area\",\"showlegend\":false,\"x\":[13.6,15.0,15.0,13.6,13.6,11.5,11.5,10.1,10.1,10.0,10.0,10.1,10.1,11.5,11.5,13.6,13.6],\"y\":[9.9,9.9,5.1,5.1,5.0,5.0,5.1,5.1,6.5,6.5,8.6,8.6,9.9,9.9,10.0,10.0,9.9],\"type\":\"scatter\"},{\"fill\":\"toself\",\"fillcolor\":\"rgb(178, 0, 0)\",\"hoverinfo\":\"name\",\"line\":{\"width\":0},\"mode\":\"lines\",\"name\":\"Risk Area\",\"showlegend\":false,\"x\":[9.9,9.9,8.6,8.6,6.4,6.4,5.1,5.1,5.0,5.0,5.1,5.1,6.4,6.4,8.6,8.6,9.9,9.9,10.0,10.0,9.9],\"y\":[6.5,5.1,5.1,5.0,5.0,5.1,5.1,6.5,6.5,8.6,8.6,9.9,9.9,10.0,10.0,9.9,9.9,8.6,8.6,6.5,6.5],\"type\":\"scatter\"},{\"fill\":\"toself\",\"fillcolor\":\"rgb(127, 0, 0)\",\"hoverinfo\":\"name\",\"line\":{\"width\":0},\"mode\":\"lines\",\"name\":\"Risk Area\",\"showlegend\":false,\"x\":[4.9,4.9,3.6,3.6,1.5,1.5,0.0,0.0,1.5,1.5,3.6,3.6,4.9,4.9,5.0,5.0,4.9],\"y\":[6.5,5.1,5.1,5.0,5.0,5.1,5.1,9.9,9.9,10.0,10.0,9.9,9.9,8.6,8.6,6.5,6.5],\"type\":\"scatter\"},{\"fill\":\"toself\",\"fillcolor\":\"rgb(127, 0, 0)\",\"hoverinfo\":\"name\",\"line\":{\"width\":0},\"mode\":\"lines\",\"name\":\"Risk Area\",\"showlegend\":false,\"x\":[1.5,0.0,0.0,4.9,4.9,5.0,5.0,4.9,4.9,3.6,3.6,1.5,1.5],\"y\":[10.1,10.1,15.0,15.0,13.6,13.6,11.5,11.5,10.1,10.1,10.0,10.0,10.1],\"type\":\"scatter\"},{\"fill\":\"toself\",\"fillcolor\":\"rgb(25, 0, 0)\",\"hoverinfo\":\"name\",\"line\":{\"width\":0},\"mode\":\"lines\",\"name\":\"Risk Area\",\"showlegend\":false,\"x\":[6.4,5.1,5.1,5.0,5.0,5.1,5.1,9.9,9.9,10.0,10.0,9.9,9.9,8.6,8.6,6.4,6.4],\"y\":[10.1,10.1,11.5,11.5,13.6,13.6,15.0,15.0,13.6,13.6,11.5,11.5,10.1,10.1,10.0,10.0,10.1],\"type\":\"scatter\"},{\"fill\":\"toself\",\"fillcolor\":\"rgb(76, 0, 0)\",\"hoverinfo\":\"name\",\"line\":{\"width\":0},\"mode\":\"lines\",\"name\":\"Risk Area\",\"showlegend\":false,\"x\":[10.1,10.1,15.0,15.0,13.6,13.6,11.5,11.5,10.1,10.1,10.0,10.0,10.1],\"y\":[13.6,15.0,15.0,10.1,10.1,10.0,10.0,10.1,10.1,11.5,11.5,13.6,13.6],\"type\":\"scatter\"},{\"hoverinfo\":\"text\",\"marker\":{\"opacity\":1,\"size\":1},\"mode\":\"markers\",\"showlegend\":false,\"text\":[\"ID: 101.0, Pos(10.67,12.70)\"],\"x\":[10.670860082976267],\"y\":[12.699958841364674],\"type\":\"scatter\"},{\"hoverinfo\":\"text\",\"marker\":{\"opacity\":1,\"size\":1},\"mode\":\"markers\",\"showlegend\":false,\"text\":[\"ID: 102.0, Pos(9.23,13.31)\"],\"x\":[9.231581974562634],\"y\":[13.305091031474102],\"type\":\"scatter\"},{\"hoverinfo\":\"text\",\"marker\":{\"opacity\":1,\"size\":1},\"mode\":\"markers\",\"showlegend\":false,\"text\":[\"ID: 103.0, Pos(8.29,12.44)\"],\"x\":[8.29351995538612],\"y\":[12.435477641850106],\"type\":\"scatter\"},{\"hoverinfo\":\"text\",\"marker\":{\"opacity\":1,\"size\":1},\"mode\":\"markers\",\"showlegend\":false,\"text\":[\"ID: 104.0, Pos(12.39,13.12)\"],\"x\":[12.386648887001027],\"y\":[13.124516724102874],\"type\":\"scatter\"},{\"hoverinfo\":\"text\",\"marker\":{\"opacity\":1,\"size\":1},\"mode\":\"markers\",\"showlegend\":false,\"text\":[\"ID: 105.0, Pos(10.29,13.23)\"],\"x\":[10.285383874090819],\"y\":[13.233492115517555],\"type\":\"scatter\"},{\"hoverinfo\":\"text\",\"marker\":{\"opacity\":1,\"size\":1},\"mode\":\"markers\",\"showlegend\":false,\"text\":[\"ID: 108.0, Pos(9.48,12.59)\"],\"x\":[9.476019456113363],\"y\":[12.592304353288965],\"type\":\"scatter\"},{\"hoverinfo\":\"text\",\"marker\":{\"opacity\":1,\"size\":1},\"mode\":\"markers\",\"showlegend\":false,\"text\":[\"ID: 109.0, Pos(11.41,13.38)\"],\"x\":[11.413968108141306],\"y\":[13.378674117566366],\"type\":\"scatter\"},{\"hoverinfo\":\"text\",\"marker\":{\"opacity\":1,\"size\":1},\"mode\":\"markers\",\"showlegend\":false,\"text\":[\"ID: 110.0, Pos(8.25,13.15)\"],\"x\":[8.253953202276598],\"y\":[13.147521494153244],\"type\":\"scatter\"},{\"hoverinfo\":\"none\",\"marker\":{\"opacity\":0,\"size\":1},\"mode\":\"markers\",\"showlegend\":false,\"x\":[0.0],\"y\":[0.0],\"type\":\"scatter\"},{\"hoverinfo\":\"none\",\"marker\":{\"opacity\":0,\"size\":1},\"mode\":\"markers\",\"showlegend\":false,\"x\":[0.0],\"y\":[0.0],\"type\":\"scatter\"}],\"layout\":{\"shapes\":[{\"fillcolor\":\"rgba(0, 0, 128, 0.5)\",\"line\":{\"color\":\"rgba(0, 0, 128, 0.5)\"},\"type\":\"circle\",\"x0\":10.470860082976268,\"x1\":10.870860082976266,\"xref\":\"x\",\"y0\":12.499958841364675,\"y1\":12.899958841364674,\"yref\":\"y\"},{\"fillcolor\":\"rgba(0, 56, 255, 0.5)\",\"line\":{\"color\":\"rgba(0, 56, 255, 0.5)\"},\"type\":\"circle\",\"x0\":9.031581974562634,\"x1\":9.431581974562633,\"xref\":\"x\",\"y0\":13.105091031474103,\"y1\":13.505091031474102,\"yref\":\"y\"},{\"fillcolor\":\"rgba(0, 0, 137, 0.5)\",\"line\":{\"color\":\"rgba(0, 0, 137, 0.5)\"},\"type\":\"circle\",\"x0\":8.093519955386121,\"x1\":8.49351995538612,\"xref\":\"x\",\"y0\":12.235477641850107,\"y1\":12.635477641850105,\"yref\":\"y\"},{\"fillcolor\":\"rgba(0, 0, 128, 0.5)\",\"line\":{\"color\":\"rgba(0, 0, 128, 0.5)\"},\"type\":\"circle\",\"x0\":12.186648887001027,\"x1\":12.586648887001026,\"xref\":\"x\",\"y0\":12.924516724102874,\"y1\":13.324516724102873,\"yref\":\"y\"},{\"fillcolor\":\"rgba(0, 0, 228, 0.5)\",\"line\":{\"color\":\"rgba(0, 0, 228, 0.5)\"},\"type\":\"circle\",\"x0\":10.08538387409082,\"x1\":10.485383874090818,\"xref\":\"x\",\"y0\":13.033492115517555,\"y1\":13.433492115517554,\"yref\":\"y\"},{\"fillcolor\":\"rgba(0, 0, 128, 0.5)\",\"line\":{\"color\":\"rgba(0, 0, 128, 0.5)\"},\"type\":\"circle\",\"x0\":9.276019456113364,\"x1\":9.676019456113362,\"xref\":\"x\",\"y0\":12.392304353288965,\"y1\":12.792304353288964,\"yref\":\"y\"},{\"fillcolor\":\"rgba(0, 0, 214, 0.5)\",\"line\":{\"color\":\"rgba(0, 0, 214, 0.5)\"},\"type\":\"circle\",\"x0\":11.213968108141307,\"x1\":11.613968108141306,\"xref\":\"x\",\"y0\":13.178674117566366,\"y1\":13.578674117566365,\"yref\":\"y\"},{\"fillcolor\":\"rgba(0, 140, 255, 0.5)\",\"line\":{\"color\":\"rgba(0, 140, 255, 0.5)\"},\"type\":\"circle\",\"x0\":8.053953202276599,\"x1\":8.453953202276598,\"xref\":\"x\",\"y0\":12.947521494153245,\"y1\":13.347521494153243,\"yref\":\"y\"},{\"fillcolor\":\"rgba(255,255,255,0)\",\"line\":{\"width\":0},\"type\":\"circle\",\"x0\":0.0,\"x1\":0.0,\"xref\":\"x\",\"y0\":0.0,\"y1\":0.0,\"yref\":\"y\"},{\"fillcolor\":\"rgba(255,255,255,0)\",\"line\":{\"width\":0},\"type\":\"circle\",\"x0\":0.0,\"x1\":0.0,\"xref\":\"x\",\"y0\":0.0,\"y1\":0.0,\"yref\":\"y\"},{\"line\":{\"color\":\"white\",\"width\":3},\"type\":\"line\",\"x0\":10.670860082976267,\"x1\":10.868663732382375,\"y0\":12.699958841364674,\"y1\":12.729517533514795},{\"line\":{\"color\":\"white\",\"width\":3},\"type\":\"line\",\"x0\":9.231581974562634,\"x1\":9.42855259903566,\"y0\":13.305091031474102,\"y1\":13.33976916716081},{\"line\":{\"color\":\"white\",\"width\":3},\"type\":\"line\",\"x0\":8.29351995538612,\"x1\":8.49203299365724,\"y0\":12.435477641850106,\"y1\":12.45982047727183},{\"line\":{\"color\":\"white\",\"width\":3},\"type\":\"line\",\"x0\":12.386648887001027,\"x1\":12.56874956710952,\"y0\":13.124516724102874,\"y1\":13.207217040329741},{\"line\":{\"color\":\"white\",\"width\":3},\"type\":\"line\",\"x0\":10.285383874090819,\"x1\":10.48239399678375,\"y0\":13.233492115517555,\"y1\":13.267945149585914},{\"line\":{\"color\":\"white\",\"width\":3},\"type\":\"line\",\"x0\":9.476019456113363,\"x1\":9.672534724419531,\"y0\":12.592304353288965,\"y1\":12.629476242164223},{\"line\":{\"color\":\"white\",\"width\":3},\"type\":\"line\",\"x0\":11.413968108141306,\"x1\":11.611305240600151,\"y0\":13.378674117566366,\"y1\":13.411201892665817},{\"line\":{\"color\":\"white\",\"width\":3},\"type\":\"line\",\"x0\":8.253953202276598,\"x1\":8.44902312253154,\"y0\":13.147521494153244,\"y1\":13.191654545392991},{\"line\":{\"color\":\"rgba(255,255,255,0)\",\"width\":3},\"type\":\"line\",\"x0\":0.0,\"x1\":null,\"y0\":0.0,\"y1\":null},{\"line\":{\"color\":\"rgba(255,255,255,0)\",\"width\":3},\"type\":\"line\",\"x0\":0.0,\"x1\":null,\"y0\":0.0,\"y1\":null}],\"title\":{\"text\":\"\\u003cb\\u003ePercentage using the shortest path: 0%  |  Number of Agents: 8\\u003c\\u002fb\\u003e\",\"x\":0.5}},\"name\":\"700\"},{\"data\":[{\"hoverinfo\":\"name\",\"line\":{\"color\":\"white\"},\"mode\":\"lines\",\"name\":\"Exterior\",\"showlegend\":false,\"x\":[10.1,10.1,15.0,15.0,13.6,13.6,15.0,15.0,13.6,13.6,15.0,15.0,10.1,10.1,9.9,9.9,5.1,5.1,4.9,4.9,0.0,0.0,1.5,1.5,0.0,0.0,1.5,1.5,0.0,0.0,4.9,4.9,5.1,5.1,9.9,9.9,10.1],\"y\":[1.5,0.0,0.0,4.9,4.9,5.1,5.1,9.9,9.9,10.1,10.1,15.0,15.0,13.6,13.6,15.0,15.0,13.6,13.6,15.0,15.0,10.1,10.1,9.9,9.9,5.1,5.1,4.9,4.9,0.0,0.0,1.5,1.5,0.0,0.0,1.5,1.5],\"type\":\"scatter\"},{\"hoverinfo\":\"name\",\"line\":{\"color\":\"white\"},\"mode\":\"lines\",\"name\":\"Obstacle\",\"showlegend\":false,\"x\":[10.1,11.5,11.5,10.1,10.1,9.9,9.9,8.6,8.6,9.9,9.9,10.1,10.1],\"y\":[5.1,5.1,4.9,4.9,3.6,3.6,4.9,4.9,5.1,5.1,6.5,6.5,5.1],\"type\":\"scatter\"},{\"hoverinfo\":\"name\",\"line\":{\"color\":\"white\"},\"mode\":\"lines\",\"name\":\"Obstacle\",\"showlegend\":false,\"x\":[10.1,11.5,11.5,10.1,10.1,9.9,9.9,8.6,8.6,9.9,9.9,10.1,10.1],\"y\":[10.1,10.1,9.9,9.9,8.6,8.6,9.9,9.9,10.1,10.1,11.5,11.5,10.1],\"type\":\"scatter\"},{\"hoverinfo\":\"name\",\"line\":{\"color\":\"white\"},\"mode\":\"lines\",\"name\":\"Obstacle\",\"showlegend\":false,\"x\":[5.1,6.4,6.4,5.1,5.1,4.9,4.9,3.6,3.6,4.9,4.9,5.1,5.1],\"y\":[5.1,5.1,4.9,4.9,3.6,3.6,4.9,4.9,5.1,5.1,6.5,6.5,5.1],\"type\":\"scatter\"},{\"hoverinfo\":\"name\",\"line\":{\"color\":\"white\"},\"mode\":\"lines\",\"name\":\"Obstacle\",\"showlegend\":false,\"x\":[5.1,6.4,6.4,5.1,5.1,4.9,4.9,3.6,3.6,4.9,4.9,5.1,5.1],\"y\":[10.1,10.1,9.9,9.9,8.6,8.6,9.9,9.9,10.1,10.1,11.5,11.5,10.1],\"type\":\"scatter\"},{\"fill\":\"toself\",\"fillcolor\":\"rgb(25, 0, 0)\",\"hoverinfo\":\"name\",\"line\":{\"width\":0},\"mode\":\"lines\",\"name\":\"Risk Area\",\"showlegend\":false,\"x\":[1.5,1.5,3.6,3.6,4.9,4.9,5.0,5.0,4.9,4.9,0.0,0.0,1.5],\"y\":[4.9,5.0,5.0,4.9,4.9,3.6,3.6,1.5,1.5,0.0,0.0,4.9,4.9],\"type\":\"scatter\"},{\"fill\":\"toself\",\"fillcolor\":\"rgb(255, 0, 0)\",\"hoverinfo\":\"name\",\"line\":{\"width\":0},\"mode\":\"lines\",\"name\":\"Risk Area\",\"showlegend\":false,\"x\":[9.9,9.9,5.1,5.1,5.0,5.0,5.1,5.1,6.4,6.4,8.6,8.6,9.9,9.9,10.0,10.0,9.9],\"y\":[1.5,0.0,0.0,1.5,1.5,3.6,3.6,4.9,4.9,5.0,5.0,4.9,4.9,3.6,3.6,1.5,1.5],\"type\":\"scatter\"},{\"fill\":\"toself\",\"fillcolor\":\"rgb(0, 0, 0)\",\"hoverinfo\":\"name\",\"line\":{\"width\":0},\"mode\":\"lines\",\"name\":\"Risk Area\",\"showlegend\":false,\"x\":[13.6,15.0,15.0,10.1,10.1,10.0,10.0,10.1,10.1,11.5,11.5,13.6,13.6],\"y\":[4.9,4.9,0.0,0.0,1.5,1.5,3.6,3.6,4.9,4.9,5.0,5.0,4.9],\"type\":\"scatter\"},{\"fill\":\"toself\",\"fillcolor\":\"rgb(178, 0, 0)\",\"hoverinfo\":\"name\",\"line\":{\"width\":0},\"mode\":\"lines\",\"name\":\"Risk Area\",\"showlegend\":false,\"x\":[13.6,15.0,15.0,13.6,13.6,11.5,11.5,10.1,10.1,10.0,10.0,10.1,10.1,11.5,11.5,13.6,13.6],\"y\":[9.9,9.9,5.1,5.1,5.0,5.0,5.1,5.1,6.5,6.5,8.6,8.6,9.9,9.9,10.0,10.0,9.9],\"type\":\"scatter\"},{\"fill\":\"toself\",\"fillcolor\":\"rgb(178, 0, 0)\",\"hoverinfo\":\"name\",\"line\":{\"width\":0},\"mode\":\"lines\",\"name\":\"Risk Area\",\"showlegend\":false,\"x\":[9.9,9.9,8.6,8.6,6.4,6.4,5.1,5.1,5.0,5.0,5.1,5.1,6.4,6.4,8.6,8.6,9.9,9.9,10.0,10.0,9.9],\"y\":[6.5,5.1,5.1,5.0,5.0,5.1,5.1,6.5,6.5,8.6,8.6,9.9,9.9,10.0,10.0,9.9,9.9,8.6,8.6,6.5,6.5],\"type\":\"scatter\"},{\"fill\":\"toself\",\"fillcolor\":\"rgb(127, 0, 0)\",\"hoverinfo\":\"name\",\"line\":{\"width\":0},\"mode\":\"lines\",\"name\":\"Risk Area\",\"showlegend\":false,\"x\":[4.9,4.9,3.6,3.6,1.5,1.5,0.0,0.0,1.5,1.5,3.6,3.6,4.9,4.9,5.0,5.0,4.9],\"y\":[6.5,5.1,5.1,5.0,5.0,5.1,5.1,9.9,9.9,10.0,10.0,9.9,9.9,8.6,8.6,6.5,6.5],\"type\":\"scatter\"},{\"fill\":\"toself\",\"fillcolor\":\"rgb(127, 0, 0)\",\"hoverinfo\":\"name\",\"line\":{\"width\":0},\"mode\":\"lines\",\"name\":\"Risk Area\",\"showlegend\":false,\"x\":[1.5,0.0,0.0,4.9,4.9,5.0,5.0,4.9,4.9,3.6,3.6,1.5,1.5],\"y\":[10.1,10.1,15.0,15.0,13.6,13.6,11.5,11.5,10.1,10.1,10.0,10.0,10.1],\"type\":\"scatter\"},{\"fill\":\"toself\",\"fillcolor\":\"rgb(25, 0, 0)\",\"hoverinfo\":\"name\",\"line\":{\"width\":0},\"mode\":\"lines\",\"name\":\"Risk Area\",\"showlegend\":false,\"x\":[6.4,5.1,5.1,5.0,5.0,5.1,5.1,9.9,9.9,10.0,10.0,9.9,9.9,8.6,8.6,6.4,6.4],\"y\":[10.1,10.1,11.5,11.5,13.6,13.6,15.0,15.0,13.6,13.6,11.5,11.5,10.1,10.1,10.0,10.0,10.1],\"type\":\"scatter\"},{\"fill\":\"toself\",\"fillcolor\":\"rgb(76, 0, 0)\",\"hoverinfo\":\"name\",\"line\":{\"width\":0},\"mode\":\"lines\",\"name\":\"Risk Area\",\"showlegend\":false,\"x\":[10.1,10.1,15.0,15.0,13.6,13.6,11.5,11.5,10.1,10.1,10.0,10.0,10.1],\"y\":[13.6,15.0,15.0,10.1,10.1,10.0,10.0,10.1,10.1,11.5,11.5,13.6,13.6],\"type\":\"scatter\"},{\"hoverinfo\":\"text\",\"marker\":{\"opacity\":1,\"size\":1},\"mode\":\"markers\",\"showlegend\":false,\"text\":[\"ID: 101.0, Pos(12.21,13.07)\"],\"x\":[12.211508875033608],\"y\":[13.07061722582184],\"type\":\"scatter\"},{\"hoverinfo\":\"text\",\"marker\":{\"opacity\":1,\"size\":1},\"mode\":\"markers\",\"showlegend\":false,\"text\":[\"ID: 102.0, Pos(10.17,13.22)\"],\"x\":[10.170283106403453],\"y\":[13.219424355807776],\"type\":\"scatter\"},{\"hoverinfo\":\"text\",\"marker\":{\"opacity\":1,\"size\":1},\"mode\":\"markers\",\"showlegend\":false,\"text\":[\"ID: 103.0, Pos(9.87,12.66)\"],\"x\":[9.866025012603176],\"y\":[12.664224708442946],\"type\":\"scatter\"},{\"hoverinfo\":\"text\",\"marker\":{\"opacity\":1,\"size\":1},\"mode\":\"markers\",\"showlegend\":false,\"text\":[\"ID: 105.0, Pos(11.78,13.60)\"],\"x\":[11.781731884821053],\"y\":[13.597181537706106],\"type\":\"scatter\"},{\"hoverinfo\":\"text\",\"marker\":{\"opacity\":1,\"size\":1},\"mode\":\"markers\",\"showlegend\":false,\"text\":[\"ID: 108.0, Pos(11.03,12.94)\"],\"x\":[11.02822114840947],\"y\":[12.935662475251238],\"type\":\"scatter\"},{\"hoverinfo\":\"text\",\"marker\":{\"opacity\":1,\"size\":1},\"mode\":\"markers\",\"showlegend\":false,\"text\":[\"ID: 110.0, Pos(9.31,13.34)\"],\"x\":[9.31269705434063],\"y\":[13.335567596174574],\"type\":\"scatter\"},{\"hoverinfo\":\"none\",\"marker\":{\"opacity\":0,\"size\":1},\"mode\":\"markers\",\"showlegend\":false,\"x\":[0.0],\"y\":[0.0],\"type\":\"scatter\"},{\"hoverinfo\":\"none\",\"marker\":{\"opacity\":0,\"size\":1},\"mode\":\"markers\",\"showlegend\":false,\"x\":[0.0],\"y\":[0.0],\"type\":\"scatter\"},{\"hoverinfo\":\"none\",\"marker\":{\"opacity\":0,\"size\":1},\"mode\":\"markers\",\"showlegend\":false,\"x\":[0.0],\"y\":[0.0],\"type\":\"scatter\"},{\"hoverinfo\":\"none\",\"marker\":{\"opacity\":0,\"size\":1},\"mode\":\"markers\",\"showlegend\":false,\"x\":[0.0],\"y\":[0.0],\"type\":\"scatter\"}],\"layout\":{\"shapes\":[{\"fillcolor\":\"rgba(0, 0, 128, 0.5)\",\"line\":{\"color\":\"rgba(0, 0, 128, 0.5)\"},\"type\":\"circle\",\"x0\":12.01150887503361,\"x1\":12.411508875033608,\"xref\":\"x\",\"y0\":12.87061722582184,\"y1\":13.27061722582184,\"yref\":\"y\"},{\"fillcolor\":\"rgba(0, 168, 255, 0.5)\",\"line\":{\"color\":\"rgba(0, 168, 255, 0.5)\"},\"type\":\"circle\",\"x0\":9.970283106403453,\"x1\":10.370283106403452,\"xref\":\"x\",\"y0\":13.019424355807777,\"y1\":13.419424355807775,\"yref\":\"y\"},{\"fillcolor\":\"rgba(0, 0, 137, 0.5)\",\"line\":{\"color\":\"rgba(0, 0, 137, 0.5)\"},\"type\":\"circle\",\"x0\":9.666025012603177,\"x1\":10.066025012603175,\"xref\":\"x\",\"y0\":12.464224708442947,\"y1\":12.864224708442945,\"yref\":\"y\"},{\"fillcolor\":\"rgba(0, 0, 128, 0.5)\",\"line\":{\"color\":\"rgba(0, 0, 128, 0.5)\"},\"type\":\"circle\",\"x0\":11.581731884821053,\"x1\":11.981731884821052,\"xref\":\"x\",\"y0\":13.397181537706107,\"y1\":13.797181537706106,\"yref\":\"y\"},{\"fillcolor\":\"rgba(0, 0, 137, 0.5)\",\"line\":{\"color\":\"rgba(0, 0, 137, 0.5)\"},\"type\":\"circle\",\"x0\":10.82822114840947,\"x1\":11.22822114840947,\"xref\":\"x\",\"y0\":12.735662475251239,\"y1\":13.135662475251237,\"yref\":\"y\"},{\"fillcolor\":\"rgba(54, 255, 193, 0.5)\",\"line\":{\"color\":\"rgba(54, 255, 193, 0.5)\"},\"type\":\"circle\",\"x0\":9.11269705434063,\"x1\":9.512697054340629,\"xref\":\"x\",\"y0\":13.135567596174575,\"y1\":13.535567596174573,\"yref\":\"y\"},{\"fillcolor\":\"rgba(255,255,255,0)\",\"line\":{\"width\":0},\"type\":\"circle\",\"x0\":0.0,\"x1\":0.0,\"xref\":\"x\",\"y0\":0.0,\"y1\":0.0,\"yref\":\"y\"},{\"fillcolor\":\"rgba(255,255,255,0)\",\"line\":{\"width\":0},\"type\":\"circle\",\"x0\":0.0,\"x1\":0.0,\"xref\":\"x\",\"y0\":0.0,\"y1\":0.0,\"yref\":\"y\"},{\"fillcolor\":\"rgba(255,255,255,0)\",\"line\":{\"width\":0},\"type\":\"circle\",\"x0\":0.0,\"x1\":0.0,\"xref\":\"x\",\"y0\":0.0,\"y1\":0.0,\"yref\":\"y\"},{\"fillcolor\":\"rgba(255,255,255,0)\",\"line\":{\"width\":0},\"type\":\"circle\",\"x0\":0.0,\"x1\":0.0,\"xref\":\"x\",\"y0\":0.0,\"y1\":0.0,\"yref\":\"y\"},{\"line\":{\"color\":\"white\",\"width\":3},\"type\":\"line\",\"x0\":12.211508875033608,\"x1\":12.404273063846867,\"y0\":13.07061722582184,\"y1\":13.123927332848242},{\"line\":{\"color\":\"black\",\"width\":3},\"type\":\"line\",\"x0\":10.170283106403453,\"x1\":10.369406680147092,\"y0\":13.219424355807776,\"y1\":13.238127360367514},{\"line\":{\"color\":\"white\",\"width\":3},\"type\":\"line\",\"x0\":9.866025012603176,\"x1\":10.065889738980895,\"y0\":12.664224708442946,\"y1\":12.671579377025518},{\"line\":{\"color\":\"white\",\"width\":3},\"type\":\"line\",\"x0\":11.781731884821053,\"x1\":11.976774240082559,\"y0\":13.597181537706106,\"y1\":13.641436251060103},{\"line\":{\"color\":\"white\",\"width\":3},\"type\":\"line\",\"x0\":11.02822114840947,\"x1\":11.220521793858905,\"y0\":12.935662475251238,\"y1\":12.9906212030361},{\"line\":{\"color\":\"black\",\"width\":3},\"type\":\"line\",\"x0\":9.31269705434063,\"x1\":9.511539757884533,\"y0\":13.335567596174574,\"y1\":13.357051991612918},{\"line\":{\"color\":\"rgba(255,255,255,0)\",\"width\":3},\"type\":\"line\",\"x0\":0.0,\"x1\":null,\"y0\":0.0,\"y1\":null},{\"line\":{\"color\":\"rgba(255,255,255,0)\",\"width\":3},\"type\":\"line\",\"x0\":0.0,\"x1\":null,\"y0\":0.0,\"y1\":null},{\"line\":{\"color\":\"rgba(255,255,255,0)\",\"width\":3},\"type\":\"line\",\"x0\":0.0,\"x1\":null,\"y0\":0.0,\"y1\":null},{\"line\":{\"color\":\"rgba(255,255,255,0)\",\"width\":3},\"type\":\"line\",\"x0\":0.0,\"x1\":null,\"y0\":0.0,\"y1\":null}],\"title\":{\"text\":\"\\u003cb\\u003ePercentage using the shortest path: 0%  |  Number of Agents: 6\\u003c\\u002fb\\u003e\",\"x\":0.5}},\"name\":\"750\"},{\"data\":[{\"hoverinfo\":\"name\",\"line\":{\"color\":\"white\"},\"mode\":\"lines\",\"name\":\"Exterior\",\"showlegend\":false,\"x\":[10.1,10.1,15.0,15.0,13.6,13.6,15.0,15.0,13.6,13.6,15.0,15.0,10.1,10.1,9.9,9.9,5.1,5.1,4.9,4.9,0.0,0.0,1.5,1.5,0.0,0.0,1.5,1.5,0.0,0.0,4.9,4.9,5.1,5.1,9.9,9.9,10.1],\"y\":[1.5,0.0,0.0,4.9,4.9,5.1,5.1,9.9,9.9,10.1,10.1,15.0,15.0,13.6,13.6,15.0,15.0,13.6,13.6,15.0,15.0,10.1,10.1,9.9,9.9,5.1,5.1,4.9,4.9,0.0,0.0,1.5,1.5,0.0,0.0,1.5,1.5],\"type\":\"scatter\"},{\"hoverinfo\":\"name\",\"line\":{\"color\":\"white\"},\"mode\":\"lines\",\"name\":\"Obstacle\",\"showlegend\":false,\"x\":[10.1,11.5,11.5,10.1,10.1,9.9,9.9,8.6,8.6,9.9,9.9,10.1,10.1],\"y\":[5.1,5.1,4.9,4.9,3.6,3.6,4.9,4.9,5.1,5.1,6.5,6.5,5.1],\"type\":\"scatter\"},{\"hoverinfo\":\"name\",\"line\":{\"color\":\"white\"},\"mode\":\"lines\",\"name\":\"Obstacle\",\"showlegend\":false,\"x\":[10.1,11.5,11.5,10.1,10.1,9.9,9.9,8.6,8.6,9.9,9.9,10.1,10.1],\"y\":[10.1,10.1,9.9,9.9,8.6,8.6,9.9,9.9,10.1,10.1,11.5,11.5,10.1],\"type\":\"scatter\"},{\"hoverinfo\":\"name\",\"line\":{\"color\":\"white\"},\"mode\":\"lines\",\"name\":\"Obstacle\",\"showlegend\":false,\"x\":[5.1,6.4,6.4,5.1,5.1,4.9,4.9,3.6,3.6,4.9,4.9,5.1,5.1],\"y\":[5.1,5.1,4.9,4.9,3.6,3.6,4.9,4.9,5.1,5.1,6.5,6.5,5.1],\"type\":\"scatter\"},{\"hoverinfo\":\"name\",\"line\":{\"color\":\"white\"},\"mode\":\"lines\",\"name\":\"Obstacle\",\"showlegend\":false,\"x\":[5.1,6.4,6.4,5.1,5.1,4.9,4.9,3.6,3.6,4.9,4.9,5.1,5.1],\"y\":[10.1,10.1,9.9,9.9,8.6,8.6,9.9,9.9,10.1,10.1,11.5,11.5,10.1],\"type\":\"scatter\"},{\"fill\":\"toself\",\"fillcolor\":\"rgb(25, 0, 0)\",\"hoverinfo\":\"name\",\"line\":{\"width\":0},\"mode\":\"lines\",\"name\":\"Risk Area\",\"showlegend\":false,\"x\":[1.5,1.5,3.6,3.6,4.9,4.9,5.0,5.0,4.9,4.9,0.0,0.0,1.5],\"y\":[4.9,5.0,5.0,4.9,4.9,3.6,3.6,1.5,1.5,0.0,0.0,4.9,4.9],\"type\":\"scatter\"},{\"fill\":\"toself\",\"fillcolor\":\"rgb(255, 0, 0)\",\"hoverinfo\":\"name\",\"line\":{\"width\":0},\"mode\":\"lines\",\"name\":\"Risk Area\",\"showlegend\":false,\"x\":[9.9,9.9,5.1,5.1,5.0,5.0,5.1,5.1,6.4,6.4,8.6,8.6,9.9,9.9,10.0,10.0,9.9],\"y\":[1.5,0.0,0.0,1.5,1.5,3.6,3.6,4.9,4.9,5.0,5.0,4.9,4.9,3.6,3.6,1.5,1.5],\"type\":\"scatter\"},{\"fill\":\"toself\",\"fillcolor\":\"rgb(0, 0, 0)\",\"hoverinfo\":\"name\",\"line\":{\"width\":0},\"mode\":\"lines\",\"name\":\"Risk Area\",\"showlegend\":false,\"x\":[13.6,15.0,15.0,10.1,10.1,10.0,10.0,10.1,10.1,11.5,11.5,13.6,13.6],\"y\":[4.9,4.9,0.0,0.0,1.5,1.5,3.6,3.6,4.9,4.9,5.0,5.0,4.9],\"type\":\"scatter\"},{\"fill\":\"toself\",\"fillcolor\":\"rgb(178, 0, 0)\",\"hoverinfo\":\"name\",\"line\":{\"width\":0},\"mode\":\"lines\",\"name\":\"Risk Area\",\"showlegend\":false,\"x\":[13.6,15.0,15.0,13.6,13.6,11.5,11.5,10.1,10.1,10.0,10.0,10.1,10.1,11.5,11.5,13.6,13.6],\"y\":[9.9,9.9,5.1,5.1,5.0,5.0,5.1,5.1,6.5,6.5,8.6,8.6,9.9,9.9,10.0,10.0,9.9],\"type\":\"scatter\"},{\"fill\":\"toself\",\"fillcolor\":\"rgb(178, 0, 0)\",\"hoverinfo\":\"name\",\"line\":{\"width\":0},\"mode\":\"lines\",\"name\":\"Risk Area\",\"showlegend\":false,\"x\":[9.9,9.9,8.6,8.6,6.4,6.4,5.1,5.1,5.0,5.0,5.1,5.1,6.4,6.4,8.6,8.6,9.9,9.9,10.0,10.0,9.9],\"y\":[6.5,5.1,5.1,5.0,5.0,5.1,5.1,6.5,6.5,8.6,8.6,9.9,9.9,10.0,10.0,9.9,9.9,8.6,8.6,6.5,6.5],\"type\":\"scatter\"},{\"fill\":\"toself\",\"fillcolor\":\"rgb(127, 0, 0)\",\"hoverinfo\":\"name\",\"line\":{\"width\":0},\"mode\":\"lines\",\"name\":\"Risk Area\",\"showlegend\":false,\"x\":[4.9,4.9,3.6,3.6,1.5,1.5,0.0,0.0,1.5,1.5,3.6,3.6,4.9,4.9,5.0,5.0,4.9],\"y\":[6.5,5.1,5.1,5.0,5.0,5.1,5.1,9.9,9.9,10.0,10.0,9.9,9.9,8.6,8.6,6.5,6.5],\"type\":\"scatter\"},{\"fill\":\"toself\",\"fillcolor\":\"rgb(127, 0, 0)\",\"hoverinfo\":\"name\",\"line\":{\"width\":0},\"mode\":\"lines\",\"name\":\"Risk Area\",\"showlegend\":false,\"x\":[1.5,0.0,0.0,4.9,4.9,5.0,5.0,4.9,4.9,3.6,3.6,1.5,1.5],\"y\":[10.1,10.1,15.0,15.0,13.6,13.6,11.5,11.5,10.1,10.1,10.0,10.0,10.1],\"type\":\"scatter\"},{\"fill\":\"toself\",\"fillcolor\":\"rgb(25, 0, 0)\",\"hoverinfo\":\"name\",\"line\":{\"width\":0},\"mode\":\"lines\",\"name\":\"Risk Area\",\"showlegend\":false,\"x\":[6.4,5.1,5.1,5.0,5.0,5.1,5.1,9.9,9.9,10.0,10.0,9.9,9.9,8.6,8.6,6.4,6.4],\"y\":[10.1,10.1,11.5,11.5,13.6,13.6,15.0,15.0,13.6,13.6,11.5,11.5,10.1,10.1,10.0,10.0,10.1],\"type\":\"scatter\"},{\"fill\":\"toself\",\"fillcolor\":\"rgb(76, 0, 0)\",\"hoverinfo\":\"name\",\"line\":{\"width\":0},\"mode\":\"lines\",\"name\":\"Risk Area\",\"showlegend\":false,\"x\":[10.1,10.1,15.0,15.0,13.6,13.6,11.5,11.5,10.1,10.1,10.0,10.0,10.1],\"y\":[13.6,15.0,15.0,10.1,10.1,10.0,10.0,10.1,10.1,11.5,11.5,13.6,13.6],\"type\":\"scatter\"},{\"hoverinfo\":\"text\",\"marker\":{\"opacity\":1,\"size\":1},\"mode\":\"markers\",\"showlegend\":false,\"text\":[\"ID: 102.0, Pos(11.61,13.56)\"],\"x\":[11.612068294219018],\"y\":[13.556524597560136],\"type\":\"scatter\"},{\"hoverinfo\":\"text\",\"marker\":{\"opacity\":1,\"size\":1},\"mode\":\"markers\",\"showlegend\":false,\"text\":[\"ID: 103.0, Pos(11.38,12.92)\"],\"x\":[11.37878408553347],\"y\":[12.920199892394992],\"type\":\"scatter\"},{\"hoverinfo\":\"text\",\"marker\":{\"opacity\":1,\"size\":1},\"mode\":\"markers\",\"showlegend\":false,\"text\":[\"ID: 108.0, Pos(12.48,13.35)\"],\"x\":[12.477527580131888],\"y\":[13.352618684352516],\"type\":\"scatter\"},{\"hoverinfo\":\"text\",\"marker\":{\"opacity\":1,\"size\":1},\"mode\":\"markers\",\"showlegend\":false,\"text\":[\"ID: 110.0, Pos(10.42,13.22)\"],\"x\":[10.415575374282097],\"y\":[13.215641147574358],\"type\":\"scatter\"},{\"hoverinfo\":\"none\",\"marker\":{\"opacity\":0,\"size\":1},\"mode\":\"markers\",\"showlegend\":false,\"x\":[0.0],\"y\":[0.0],\"type\":\"scatter\"},{\"hoverinfo\":\"none\",\"marker\":{\"opacity\":0,\"size\":1},\"mode\":\"markers\",\"showlegend\":false,\"x\":[0.0],\"y\":[0.0],\"type\":\"scatter\"},{\"hoverinfo\":\"none\",\"marker\":{\"opacity\":0,\"size\":1},\"mode\":\"markers\",\"showlegend\":false,\"x\":[0.0],\"y\":[0.0],\"type\":\"scatter\"},{\"hoverinfo\":\"none\",\"marker\":{\"opacity\":0,\"size\":1},\"mode\":\"markers\",\"showlegend\":false,\"x\":[0.0],\"y\":[0.0],\"type\":\"scatter\"},{\"hoverinfo\":\"none\",\"marker\":{\"opacity\":0,\"size\":1},\"mode\":\"markers\",\"showlegend\":false,\"x\":[0.0],\"y\":[0.0],\"type\":\"scatter\"},{\"hoverinfo\":\"none\",\"marker\":{\"opacity\":0,\"size\":1},\"mode\":\"markers\",\"showlegend\":false,\"x\":[0.0],\"y\":[0.0],\"type\":\"scatter\"}],\"layout\":{\"shapes\":[{\"fillcolor\":\"rgba(0, 29, 255, 0.5)\",\"line\":{\"color\":\"rgba(0, 29, 255, 0.5)\"},\"type\":\"circle\",\"x0\":11.412068294219019,\"x1\":11.812068294219017,\"xref\":\"x\",\"y0\":13.356524597560137,\"y1\":13.756524597560135,\"yref\":\"y\"},{\"fillcolor\":\"rgba(0, 0, 146, 0.5)\",\"line\":{\"color\":\"rgba(0, 0, 146, 0.5)\"},\"type\":\"circle\",\"x0\":11.17878408553347,\"x1\":11.578784085533469,\"xref\":\"x\",\"y0\":12.720199892394993,\"y1\":13.120199892394991,\"yref\":\"y\"},{\"fillcolor\":\"rgba(0, 0, 128, 0.5)\",\"line\":{\"color\":\"rgba(0, 0, 128, 0.5)\"},\"type\":\"circle\",\"x0\":12.277527580131888,\"x1\":12.677527580131887,\"xref\":\"x\",\"y0\":13.152618684352516,\"y1\":13.552618684352515,\"yref\":\"y\"},{\"fillcolor\":\"rgba(0, 0, 191, 0.5)\",\"line\":{\"color\":\"rgba(0, 0, 191, 0.5)\"},\"type\":\"circle\",\"x0\":10.215575374282098,\"x1\":10.615575374282097,\"xref\":\"x\",\"y0\":13.015641147574359,\"y1\":13.415641147574357,\"yref\":\"y\"},{\"fillcolor\":\"rgba(255,255,255,0)\",\"line\":{\"width\":0},\"type\":\"circle\",\"x0\":0.0,\"x1\":0.0,\"xref\":\"x\",\"y0\":0.0,\"y1\":0.0,\"yref\":\"y\"},{\"fillcolor\":\"rgba(255,255,255,0)\",\"line\":{\"width\":0},\"type\":\"circle\",\"x0\":0.0,\"x1\":0.0,\"xref\":\"x\",\"y0\":0.0,\"y1\":0.0,\"yref\":\"y\"},{\"fillcolor\":\"rgba(255,255,255,0)\",\"line\":{\"width\":0},\"type\":\"circle\",\"x0\":0.0,\"x1\":0.0,\"xref\":\"x\",\"y0\":0.0,\"y1\":0.0,\"yref\":\"y\"},{\"fillcolor\":\"rgba(255,255,255,0)\",\"line\":{\"width\":0},\"type\":\"circle\",\"x0\":0.0,\"x1\":0.0,\"xref\":\"x\",\"y0\":0.0,\"y1\":0.0,\"yref\":\"y\"},{\"fillcolor\":\"rgba(255,255,255,0)\",\"line\":{\"width\":0},\"type\":\"circle\",\"x0\":0.0,\"x1\":0.0,\"xref\":\"x\",\"y0\":0.0,\"y1\":0.0,\"yref\":\"y\"},{\"fillcolor\":\"rgba(255,255,255,0)\",\"line\":{\"width\":0},\"type\":\"circle\",\"x0\":0.0,\"x1\":0.0,\"xref\":\"x\",\"y0\":0.0,\"y1\":0.0,\"yref\":\"y\"},{\"line\":{\"color\":\"white\",\"width\":3},\"type\":\"line\",\"x0\":11.612068294219018,\"x1\":11.806558235589234,\"y0\":13.556524597560136,\"y1\":13.603147153322444},{\"line\":{\"color\":\"white\",\"width\":3},\"type\":\"line\",\"x0\":11.37878408553347,\"x1\":11.575035652635787,\"y0\":12.920199892394992,\"y1\":12.958739773166535},{\"line\":{\"color\":\"white\",\"width\":3},\"type\":\"line\",\"x0\":12.477527580131888,\"x1\":12.669006200760121,\"y0\":13.352618684352516,\"y1\":13.410376262576582},{\"line\":{\"color\":\"white\",\"width\":3},\"type\":\"line\",\"x0\":10.415575374282097,\"x1\":10.613720394191532,\"y0\":13.215641147574358,\"y1\":13.24281744395724},{\"line\":{\"color\":\"rgba(255,255,255,0)\",\"width\":3},\"type\":\"line\",\"x0\":0.0,\"x1\":null,\"y0\":0.0,\"y1\":null},{\"line\":{\"color\":\"rgba(255,255,255,0)\",\"width\":3},\"type\":\"line\",\"x0\":0.0,\"x1\":null,\"y0\":0.0,\"y1\":null},{\"line\":{\"color\":\"rgba(255,255,255,0)\",\"width\":3},\"type\":\"line\",\"x0\":0.0,\"x1\":null,\"y0\":0.0,\"y1\":null},{\"line\":{\"color\":\"rgba(255,255,255,0)\",\"width\":3},\"type\":\"line\",\"x0\":0.0,\"x1\":null,\"y0\":0.0,\"y1\":null},{\"line\":{\"color\":\"rgba(255,255,255,0)\",\"width\":3},\"type\":\"line\",\"x0\":0.0,\"x1\":null,\"y0\":0.0,\"y1\":null},{\"line\":{\"color\":\"rgba(255,255,255,0)\",\"width\":3},\"type\":\"line\",\"x0\":0.0,\"x1\":null,\"y0\":0.0,\"y1\":null}],\"title\":{\"text\":\"\\u003cb\\u003ePercentage using the shortest path: 0%  |  Number of Agents: 4\\u003c\\u002fb\\u003e\",\"x\":0.5}},\"name\":\"800\"},{\"data\":[{\"hoverinfo\":\"name\",\"line\":{\"color\":\"white\"},\"mode\":\"lines\",\"name\":\"Exterior\",\"showlegend\":false,\"x\":[10.1,10.1,15.0,15.0,13.6,13.6,15.0,15.0,13.6,13.6,15.0,15.0,10.1,10.1,9.9,9.9,5.1,5.1,4.9,4.9,0.0,0.0,1.5,1.5,0.0,0.0,1.5,1.5,0.0,0.0,4.9,4.9,5.1,5.1,9.9,9.9,10.1],\"y\":[1.5,0.0,0.0,4.9,4.9,5.1,5.1,9.9,9.9,10.1,10.1,15.0,15.0,13.6,13.6,15.0,15.0,13.6,13.6,15.0,15.0,10.1,10.1,9.9,9.9,5.1,5.1,4.9,4.9,0.0,0.0,1.5,1.5,0.0,0.0,1.5,1.5],\"type\":\"scatter\"},{\"hoverinfo\":\"name\",\"line\":{\"color\":\"white\"},\"mode\":\"lines\",\"name\":\"Obstacle\",\"showlegend\":false,\"x\":[10.1,11.5,11.5,10.1,10.1,9.9,9.9,8.6,8.6,9.9,9.9,10.1,10.1],\"y\":[5.1,5.1,4.9,4.9,3.6,3.6,4.9,4.9,5.1,5.1,6.5,6.5,5.1],\"type\":\"scatter\"},{\"hoverinfo\":\"name\",\"line\":{\"color\":\"white\"},\"mode\":\"lines\",\"name\":\"Obstacle\",\"showlegend\":false,\"x\":[10.1,11.5,11.5,10.1,10.1,9.9,9.9,8.6,8.6,9.9,9.9,10.1,10.1],\"y\":[10.1,10.1,9.9,9.9,8.6,8.6,9.9,9.9,10.1,10.1,11.5,11.5,10.1],\"type\":\"scatter\"},{\"hoverinfo\":\"name\",\"line\":{\"color\":\"white\"},\"mode\":\"lines\",\"name\":\"Obstacle\",\"showlegend\":false,\"x\":[5.1,6.4,6.4,5.1,5.1,4.9,4.9,3.6,3.6,4.9,4.9,5.1,5.1],\"y\":[5.1,5.1,4.9,4.9,3.6,3.6,4.9,4.9,5.1,5.1,6.5,6.5,5.1],\"type\":\"scatter\"},{\"hoverinfo\":\"name\",\"line\":{\"color\":\"white\"},\"mode\":\"lines\",\"name\":\"Obstacle\",\"showlegend\":false,\"x\":[5.1,6.4,6.4,5.1,5.1,4.9,4.9,3.6,3.6,4.9,4.9,5.1,5.1],\"y\":[10.1,10.1,9.9,9.9,8.6,8.6,9.9,9.9,10.1,10.1,11.5,11.5,10.1],\"type\":\"scatter\"},{\"fill\":\"toself\",\"fillcolor\":\"rgb(25, 0, 0)\",\"hoverinfo\":\"name\",\"line\":{\"width\":0},\"mode\":\"lines\",\"name\":\"Risk Area\",\"showlegend\":false,\"x\":[1.5,1.5,3.6,3.6,4.9,4.9,5.0,5.0,4.9,4.9,0.0,0.0,1.5],\"y\":[4.9,5.0,5.0,4.9,4.9,3.6,3.6,1.5,1.5,0.0,0.0,4.9,4.9],\"type\":\"scatter\"},{\"fill\":\"toself\",\"fillcolor\":\"rgb(255, 0, 0)\",\"hoverinfo\":\"name\",\"line\":{\"width\":0},\"mode\":\"lines\",\"name\":\"Risk Area\",\"showlegend\":false,\"x\":[9.9,9.9,5.1,5.1,5.0,5.0,5.1,5.1,6.4,6.4,8.6,8.6,9.9,9.9,10.0,10.0,9.9],\"y\":[1.5,0.0,0.0,1.5,1.5,3.6,3.6,4.9,4.9,5.0,5.0,4.9,4.9,3.6,3.6,1.5,1.5],\"type\":\"scatter\"},{\"fill\":\"toself\",\"fillcolor\":\"rgb(25, 0, 0)\",\"hoverinfo\":\"name\",\"line\":{\"width\":0},\"mode\":\"lines\",\"name\":\"Risk Area\",\"showlegend\":false,\"x\":[13.6,15.0,15.0,10.1,10.1,10.0,10.0,10.1,10.1,11.5,11.5,13.6,13.6],\"y\":[4.9,4.9,0.0,0.0,1.5,1.5,3.6,3.6,4.9,4.9,5.0,5.0,4.9],\"type\":\"scatter\"},{\"fill\":\"toself\",\"fillcolor\":\"rgb(178, 0, 0)\",\"hoverinfo\":\"name\",\"line\":{\"width\":0},\"mode\":\"lines\",\"name\":\"Risk Area\",\"showlegend\":false,\"x\":[13.6,15.0,15.0,13.6,13.6,11.5,11.5,10.1,10.1,10.0,10.0,10.1,10.1,11.5,11.5,13.6,13.6],\"y\":[9.9,9.9,5.1,5.1,5.0,5.0,5.1,5.1,6.5,6.5,8.6,8.6,9.9,9.9,10.0,10.0,9.9],\"type\":\"scatter\"},{\"fill\":\"toself\",\"fillcolor\":\"rgb(178, 0, 0)\",\"hoverinfo\":\"name\",\"line\":{\"width\":0},\"mode\":\"lines\",\"name\":\"Risk Area\",\"showlegend\":false,\"x\":[9.9,9.9,8.6,8.6,6.4,6.4,5.1,5.1,5.0,5.0,5.1,5.1,6.4,6.4,8.6,8.6,9.9,9.9,10.0,10.0,9.9],\"y\":[6.5,5.1,5.1,5.0,5.0,5.1,5.1,6.5,6.5,8.6,8.6,9.9,9.9,10.0,10.0,9.9,9.9,8.6,8.6,6.5,6.5],\"type\":\"scatter\"},{\"fill\":\"toself\",\"fillcolor\":\"rgb(127, 0, 0)\",\"hoverinfo\":\"name\",\"line\":{\"width\":0},\"mode\":\"lines\",\"name\":\"Risk Area\",\"showlegend\":false,\"x\":[4.9,4.9,3.6,3.6,1.5,1.5,0.0,0.0,1.5,1.5,3.6,3.6,4.9,4.9,5.0,5.0,4.9],\"y\":[6.5,5.1,5.1,5.0,5.0,5.1,5.1,9.9,9.9,10.0,10.0,9.9,9.9,8.6,8.6,6.5,6.5],\"type\":\"scatter\"},{\"fill\":\"toself\",\"fillcolor\":\"rgb(127, 0, 0)\",\"hoverinfo\":\"name\",\"line\":{\"width\":0},\"mode\":\"lines\",\"name\":\"Risk Area\",\"showlegend\":false,\"x\":[1.5,0.0,0.0,4.9,4.9,5.0,5.0,4.9,4.9,3.6,3.6,1.5,1.5],\"y\":[10.1,10.1,15.0,15.0,13.6,13.6,11.5,11.5,10.1,10.1,10.0,10.0,10.1],\"type\":\"scatter\"},{\"fill\":\"toself\",\"fillcolor\":\"rgb(76, 0, 0)\",\"hoverinfo\":\"name\",\"line\":{\"width\":0},\"mode\":\"lines\",\"name\":\"Risk Area\",\"showlegend\":false,\"x\":[6.4,5.1,5.1,5.0,5.0,5.1,5.1,9.9,9.9,10.0,10.0,9.9,9.9,8.6,8.6,6.4,6.4],\"y\":[10.1,10.1,11.5,11.5,13.6,13.6,15.0,15.0,13.6,13.6,11.5,11.5,10.1,10.1,10.0,10.0,10.1],\"type\":\"scatter\"},{\"fill\":\"toself\",\"fillcolor\":\"rgb(76, 0, 0)\",\"hoverinfo\":\"name\",\"line\":{\"width\":0},\"mode\":\"lines\",\"name\":\"Risk Area\",\"showlegend\":false,\"x\":[10.1,10.1,15.0,15.0,13.6,13.6,11.5,11.5,10.1,10.1,10.0,10.0,10.1],\"y\":[13.6,15.0,15.0,10.1,10.1,10.0,10.0,10.1,10.1,11.5,11.5,13.6,13.6],\"type\":\"scatter\"},{\"hoverinfo\":\"text\",\"marker\":{\"opacity\":1,\"size\":1},\"mode\":\"markers\",\"showlegend\":false,\"text\":[\"ID: 110.0, Pos(11.91,13.46)\"],\"x\":[11.912122477067847],\"y\":[13.456294377793327],\"type\":\"scatter\"},{\"hoverinfo\":\"none\",\"marker\":{\"opacity\":0,\"size\":1},\"mode\":\"markers\",\"showlegend\":false,\"x\":[0.0],\"y\":[0.0],\"type\":\"scatter\"},{\"hoverinfo\":\"none\",\"marker\":{\"opacity\":0,\"size\":1},\"mode\":\"markers\",\"showlegend\":false,\"x\":[0.0],\"y\":[0.0],\"type\":\"scatter\"},{\"hoverinfo\":\"none\",\"marker\":{\"opacity\":0,\"size\":1},\"mode\":\"markers\",\"showlegend\":false,\"x\":[0.0],\"y\":[0.0],\"type\":\"scatter\"},{\"hoverinfo\":\"none\",\"marker\":{\"opacity\":0,\"size\":1},\"mode\":\"markers\",\"showlegend\":false,\"x\":[0.0],\"y\":[0.0],\"type\":\"scatter\"},{\"hoverinfo\":\"none\",\"marker\":{\"opacity\":0,\"size\":1},\"mode\":\"markers\",\"showlegend\":false,\"x\":[0.0],\"y\":[0.0],\"type\":\"scatter\"},{\"hoverinfo\":\"none\",\"marker\":{\"opacity\":0,\"size\":1},\"mode\":\"markers\",\"showlegend\":false,\"x\":[0.0],\"y\":[0.0],\"type\":\"scatter\"},{\"hoverinfo\":\"none\",\"marker\":{\"opacity\":0,\"size\":1},\"mode\":\"markers\",\"showlegend\":false,\"x\":[0.0],\"y\":[0.0],\"type\":\"scatter\"},{\"hoverinfo\":\"none\",\"marker\":{\"opacity\":0,\"size\":1},\"mode\":\"markers\",\"showlegend\":false,\"x\":[0.0],\"y\":[0.0],\"type\":\"scatter\"},{\"hoverinfo\":\"none\",\"marker\":{\"opacity\":0,\"size\":1},\"mode\":\"markers\",\"showlegend\":false,\"x\":[0.0],\"y\":[0.0],\"type\":\"scatter\"}],\"layout\":{\"shapes\":[{\"fillcolor\":\"rgba(0, 0, 128, 0.5)\",\"line\":{\"color\":\"rgba(0, 0, 128, 0.5)\"},\"type\":\"circle\",\"x0\":11.712122477067847,\"x1\":12.112122477067846,\"xref\":\"x\",\"y0\":13.256294377793328,\"y1\":13.656294377793326,\"yref\":\"y\"},{\"fillcolor\":\"rgba(255,255,255,0)\",\"line\":{\"width\":0},\"type\":\"circle\",\"x0\":0.0,\"x1\":0.0,\"xref\":\"x\",\"y0\":0.0,\"y1\":0.0,\"yref\":\"y\"},{\"fillcolor\":\"rgba(255,255,255,0)\",\"line\":{\"width\":0},\"type\":\"circle\",\"x0\":0.0,\"x1\":0.0,\"xref\":\"x\",\"y0\":0.0,\"y1\":0.0,\"yref\":\"y\"},{\"fillcolor\":\"rgba(255,255,255,0)\",\"line\":{\"width\":0},\"type\":\"circle\",\"x0\":0.0,\"x1\":0.0,\"xref\":\"x\",\"y0\":0.0,\"y1\":0.0,\"yref\":\"y\"},{\"fillcolor\":\"rgba(255,255,255,0)\",\"line\":{\"width\":0},\"type\":\"circle\",\"x0\":0.0,\"x1\":0.0,\"xref\":\"x\",\"y0\":0.0,\"y1\":0.0,\"yref\":\"y\"},{\"fillcolor\":\"rgba(255,255,255,0)\",\"line\":{\"width\":0},\"type\":\"circle\",\"x0\":0.0,\"x1\":0.0,\"xref\":\"x\",\"y0\":0.0,\"y1\":0.0,\"yref\":\"y\"},{\"fillcolor\":\"rgba(255,255,255,0)\",\"line\":{\"width\":0},\"type\":\"circle\",\"x0\":0.0,\"x1\":0.0,\"xref\":\"x\",\"y0\":0.0,\"y1\":0.0,\"yref\":\"y\"},{\"fillcolor\":\"rgba(255,255,255,0)\",\"line\":{\"width\":0},\"type\":\"circle\",\"x0\":0.0,\"x1\":0.0,\"xref\":\"x\",\"y0\":0.0,\"y1\":0.0,\"yref\":\"y\"},{\"fillcolor\":\"rgba(255,255,255,0)\",\"line\":{\"width\":0},\"type\":\"circle\",\"x0\":0.0,\"x1\":0.0,\"xref\":\"x\",\"y0\":0.0,\"y1\":0.0,\"yref\":\"y\"},{\"fillcolor\":\"rgba(255,255,255,0)\",\"line\":{\"width\":0},\"type\":\"circle\",\"x0\":0.0,\"x1\":0.0,\"xref\":\"x\",\"y0\":0.0,\"y1\":0.0,\"yref\":\"y\"},{\"line\":{\"color\":\"white\",\"width\":3},\"type\":\"line\",\"x0\":11.912122477067847,\"x1\":12.109616547534374,\"y0\":13.456294377793327,\"y1\":13.487855305069978},{\"line\":{\"color\":\"rgba(255,255,255,0)\",\"width\":3},\"type\":\"line\",\"x0\":0.0,\"x1\":null,\"y0\":0.0,\"y1\":null},{\"line\":{\"color\":\"rgba(255,255,255,0)\",\"width\":3},\"type\":\"line\",\"x0\":0.0,\"x1\":null,\"y0\":0.0,\"y1\":null},{\"line\":{\"color\":\"rgba(255,255,255,0)\",\"width\":3},\"type\":\"line\",\"x0\":0.0,\"x1\":null,\"y0\":0.0,\"y1\":null},{\"line\":{\"color\":\"rgba(255,255,255,0)\",\"width\":3},\"type\":\"line\",\"x0\":0.0,\"x1\":null,\"y0\":0.0,\"y1\":null},{\"line\":{\"color\":\"rgba(255,255,255,0)\",\"width\":3},\"type\":\"line\",\"x0\":0.0,\"x1\":null,\"y0\":0.0,\"y1\":null},{\"line\":{\"color\":\"rgba(255,255,255,0)\",\"width\":3},\"type\":\"line\",\"x0\":0.0,\"x1\":null,\"y0\":0.0,\"y1\":null},{\"line\":{\"color\":\"rgba(255,255,255,0)\",\"width\":3},\"type\":\"line\",\"x0\":0.0,\"x1\":null,\"y0\":0.0,\"y1\":null},{\"line\":{\"color\":\"rgba(255,255,255,0)\",\"width\":3},\"type\":\"line\",\"x0\":0.0,\"x1\":null,\"y0\":0.0,\"y1\":null},{\"line\":{\"color\":\"rgba(255,255,255,0)\",\"width\":3},\"type\":\"line\",\"x0\":0.0,\"x1\":null,\"y0\":0.0,\"y1\":null}],\"title\":{\"text\":\"\\u003cb\\u003ePercentage using the shortest path: 0%  |  Number of Agents: 1\\u003c\\u002fb\\u003e\",\"x\":0.5}},\"name\":\"850\"}]);\n                        }).then(function(){\n                            \nvar gd = document.getElementById('fe878f26-e2a3-4fbb-9e65-9ef194398351');\nvar x = new MutationObserver(function (mutations, observer) {{\n        var display = window.getComputedStyle(gd).display;\n        if (!display || display === 'none') {{\n            console.log([gd, 'removed!']);\n            Plotly.purge(gd);\n            observer.disconnect();\n        }}\n}});\n\n// Listen for the removal of the full notebook cells\nvar notebookContainer = gd.closest('#notebook-container');\nif (notebookContainer) {{\n    x.observe(notebookContainer, {childList: true});\n}}\n\n// Listen for the clearing of the current output cell\nvar outputEl = gd.closest('.output');\nif (outputEl) {{\n    x.observe(outputEl, {childList: true});\n}}\n\n                        })                };                });            </script>        </div>"
     },
     "metadata": {},
     "output_type": "display_data"
    }
   ],
   "source": [
    "agent_trajectories = {}\n",
    "for percentage in percentages:\n",
    "    trajectory_file = trajectory_files[percentage]\n",
    "    agent_trajectories[percentage], walkable_area = read_sqlite_file(\n",
    "        trajectory_file\n",
    "    )\n",
    "    animate(\n",
    "        agent_trajectories[percentage],\n",
    "        walkable_area,\n",
    "        title_note=f\"Percentage using the shortest path: {percentage}%\",\n",
    "        risk_per_frame=all_risks,\n",
    "        specific_areas=specific_areas\n",
    "    ).show()"
   ],
   "metadata": {
    "collapsed": false
   }
  },
  {
   "cell_type": "code",
   "execution_count": 186,
   "outputs": [],
   "source": [],
   "metadata": {
    "collapsed": false
   }
  }
 ],
 "metadata": {
  "kernelspec": {
   "display_name": "Python 3",
   "language": "python",
   "name": "python3"
  },
  "language_info": {
   "codemirror_mode": {
    "name": "ipython",
    "version": 2
   },
   "file_extension": ".py",
   "mimetype": "text/x-python",
   "name": "python",
   "nbconvert_exporter": "python",
   "pygments_lexer": "ipython2",
   "version": "2.7.6"
  }
 },
 "nbformat": 4,
 "nbformat_minor": 0
}
