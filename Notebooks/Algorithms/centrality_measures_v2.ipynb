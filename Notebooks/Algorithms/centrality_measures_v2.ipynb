{
 "cells": [
  {
   "cell_type": "markdown",
   "source": [
    "# Centrality Measures"
   ],
   "metadata": {
    "collapsed": false
   }
  },
  {
   "cell_type": "code",
   "execution_count": 58,
   "outputs": [],
   "source": [
    "import pathlib\n",
    "\n",
    "import jupedsim as jps\n",
    "import matplotlib.pyplot as plt\n",
    "import pedpy\n",
    "import shapely\n",
    "import sqlite3\n",
    "from matplotlib.patches import Circle\n",
    "from shapely import Polygon\n",
    "from scipy import stats\n",
    "import warnings\n",
    "from typing import Tuple\n",
    "import numpy as np\n",
    "import numpy.typing as npt\n",
    "from jupedsim.internal.notebook_utils import read_sqlite_file\n",
    "from plotly.subplots import make_subplots\n",
    "import math\n",
    "import plotly.graph_objects as go\n",
    "\n",
    "%matplotlib inline\n",
    "\n",
    "\n",
    "from Py.riskSimulationValues import RiskSimulationValues\n",
    "from Py.dangerSimulation import *\n",
    "from Py.animation import animate\n",
    "from Py.simulation_config import SimulationConfig\n",
    "from Py.agentGroup import AgentGroup\n",
    "from Py.settingPaths import *\n",
    "from Py.agent_area_writer import *\n",
    "\n",
    "try:\n",
    "    %reload_ext autoreload\n",
    "except:\n",
    "    %load_ext autoreload\n",
    "%autoreload 2"
   ],
   "metadata": {
    "collapsed": false
   }
  },
  {
   "cell_type": "code",
   "execution_count": 59,
   "outputs": [],
   "source": [
    "complete_area = Polygon(\n",
    "    [\n",
    "        (0, 0),\n",
    "        (0, 15),\n",
    "        (15, 15),\n",
    "        (15, 0),\n",
    "    ]\n",
    ")\n",
    "obstacles = [\n",
    "    #bottom\n",
    "    Polygon([(4.9, 0.0), (4.9, 1.5), (5.1, 1.5),(5.1, 0.0)]),\n",
    "    Polygon([(9.9, 0.0), (9.9, 1.5), (10.1, 1.5),(10.1, 0.0)]),\n",
    "    #right\n",
    "    Polygon([(13.6, 4.9), (15, 4.9), (15, 5.1),(13.6, 5.1)]),\n",
    "    Polygon([(13.6, 9.9), (15, 9.9), (15, 10.1),(13.6, 10.1)]),\n",
    "    #top\n",
    "    Polygon([(4.9, 15), (4.9, 13.6), (5.1, 13.6),(5.1, 15)]),\n",
    "    Polygon([(9.9, 15), (9.9, 13.6), (10.1, 13.6),(10.1, 15)]),\n",
    "    #left\n",
    "    Polygon([(1.5, 4.9), (0, 4.9), (0, 5.1),(1.5, 5.1)]),\n",
    "    Polygon([(1.5, 9.9), (0, 9.9), (0, 10.1),(1.5, 10.1)]),\n",
    "    #center\n",
    "    ## bottom left\n",
    "    Polygon([(3.6, 4.9), (4.9, 4.9), (4.9, 3.6), (5.1, 3.6), (5.1, 4.9), (6.4, 4.9), (6.4, 5.1), (5.1, 5.1), (5.1, 6.5), (4.9, 6.5), (4.9, 5.1), (3.6, 5.1)  ]),\n",
    "    ## bottom right\n",
    "    Polygon([(8.6, 4.9), (9.9, 4.9), (9.9, 3.6), (10.1, 3.6), (10.1, 4.9), (11.5, 4.9), (11.5, 5.1), (10.1, 5.1), (10.1, 6.5), (9.9, 6.5), (9.9, 5.1), (8.6, 5.1)  ]),\n",
    "    ## top left\n",
    "    Polygon([(3.6, 9.9), (4.9, 9.9), (4.9, 8.6), (5.1, 8.6), (5.1, 9.9), (6.4, 9.9), (6.4, 10.1), (5.1, 10.1), (5.1, 11.5), (4.9, 11.5), (4.9, 10.1), (3.6, 10.1)  ]),\n",
    "    ## top right\n",
    "    Polygon([(8.6, 9.9), (9.9, 9.9), (9.9, 8.6), (10.1, 8.6), (10.1, 9.9), (11.5, 9.9), (11.5, 10.1), (10.1, 10.1), (10.1, 11.5), (9.9, 11.5), (9.9, 10.1), (8.6, 10.1)  ]),\n",
    "\n",
    "]\n",
    "exit_polygons = {'I': [(12.5, 12.5), (15, 12.5), (15, 15), (12.5, 15)]}\n",
    "waypoints = {'B':([7.5, 2.5], 1.5), 'C':([12.5, 2.5], 1.5), 'D':([12.5, 7.5], 1.5), 'E':([7.5, 7.5], 1.5), 'F':([2.5, 7.5], 1.5), 'G':([2.5, 12.5], 1.5), 'H':([7.5, 12.5], 1.5)}\n",
    "distribution_polygons = {'A': Polygon([[0, 0], [5, 0], [5, 5], [0, 5]])}\n",
    "obstacle = shapely.union_all(obstacles)  # combines obstacle polygons into only one polygon\n",
    "walkable_area = pedpy.WalkableArea(\n",
    "    shapely.difference(complete_area, obstacle))  # difference subtracts obstacle form complete_area"
   ],
   "metadata": {
    "collapsed": false
   }
  },
  {
   "cell_type": "code",
   "execution_count": 60,
   "outputs": [
    {
     "data": {
      "text/plain": "<Figure size 640x480 with 1 Axes>",
      "image/png": "[encoded data removed]"
     },
     "metadata": {},
     "output_type": "display_data"
    }
   ],
   "source": [
    "fig, ax = plt.subplots(nrows=1, ncols=1)\n",
    "ax.set_aspect(\"equal\")\n",
    "pedpy.plot_walkable_area(walkable_area=walkable_area, axes=ax)\n",
    "\n",
    "for idx, (waypoint, distance) in waypoints.items():\n",
    "    ax.plot(waypoint[0], waypoint[1], \"ro\")\n",
    "    ax.annotate(\n",
    "        f\"{idx}\",\n",
    "        (waypoint[0], waypoint[1]),\n",
    "        textcoords=\"offset points\",\n",
    "        xytext=(10, -15),\n",
    "        ha=\"center\",\n",
    "    )\n",
    "    circle = Circle(\n",
    "        (waypoint[0], waypoint[1]), distance, fc=\"red\", ec=\"red\", alpha=0.1\n",
    "    )\n",
    "    ax.add_patch(circle)\n",
    "for name, exit_polygon in exit_polygons.items():\n",
    "    x, y = Polygon(exit_polygon).exterior.xy\n",
    "    plt.fill(x, y, alpha=0.1, color=\"orange\")\n",
    "    centroid = Polygon(exit_polygon).centroid\n",
    "    plt.text(centroid.x, centroid.y, f\"Exit {name}\", ha=\"center\", va=\"center\", fontsize=8)\n",
    "\n",
    "for _, pol in distribution_polygons.items():\n",
    "    x, y = pol.exterior.xy\n",
    "    plt.fill(x, y, alpha=0.1, color=\"blue\")\n",
    "    centroid = pol.centroid\n",
    "    plt.text(centroid.x, centroid.y, \"Start\", ha=\"center\", va=\"center\", fontsize=10)"
   ],
   "metadata": {
    "collapsed": false
   }
  },
  {
   "cell_type": "code",
   "execution_count": 61,
   "outputs": [],
   "source": [
    "def remove_obstacles_from_areas(specific_areas, obstacles):\n",
    "    \"\"\"\n",
    "    Removes obstacles from specific areas by subtracting overlapping polygons.\n",
    "\n",
    "    Args:\n",
    "        specific_areas (dict): Dictionary of named areas {name: Polygon}.\n",
    "        obstacles (list): List of Polygon objects representing obstacles.\n",
    "\n",
    "    Returns:\n",
    "        dict: Dictionary of cleaned areas {name: Polygon without obstacles}.\n",
    "    \"\"\"\n",
    "    cleaned_areas = {}\n",
    "\n",
    "    for name, area in specific_areas.items():\n",
    "        # Subtract all obstacles from the current area\n",
    "        cleaned_area = area\n",
    "        for obstacle in obstacles:\n",
    "            if cleaned_area.intersects(obstacle):  # Only process if they overlap\n",
    "                cleaned_area = cleaned_area.difference(obstacle)\n",
    "\n",
    "        # Store the cleaned area in the dictionary\n",
    "        cleaned_areas[name] = cleaned_area\n",
    "\n",
    "    return cleaned_areas"
   ],
   "metadata": {
    "collapsed": false
   }
  },
  {
   "cell_type": "code",
   "execution_count": 62,
   "outputs": [],
   "source": [
    "specific_areas = dict()\n",
    "specific_areas['A'] = Polygon([(0,0), (5,0), (5,5), (0,5)])\n",
    "specific_areas['B'] = Polygon([(5,0), (10,0), (10,5), (5,5)])\n",
    "specific_areas['C'] = Polygon([(10,0), (15,0), (15,5), (10,5)])\n",
    "specific_areas['D'] = Polygon([(10,5), (15,5), (15,10), (10,10)])\n",
    "specific_areas['E'] = Polygon([(5,5), (10,5), (10,10), (5,10)])\n",
    "specific_areas['F'] = Polygon([(0,5), (5,5), (5,10), (0,10)])\n",
    "specific_areas['G'] = Polygon([(0,10), (5,10), (5,15), (0,15)])\n",
    "specific_areas['H'] = Polygon([(5,10), (10,10), (10,15), (5,15)])\n",
    "specific_areas['I'] = Polygon([(10,10), (15,10), (15,15), (10,15)])"
   ],
   "metadata": {
    "collapsed": false
   }
  },
  {
   "cell_type": "code",
   "execution_count": 63,
   "outputs": [],
   "source": [
    "specific_areas = remove_obstacles_from_areas(specific_areas, obstacles)"
   ],
   "metadata": {
    "collapsed": false
   }
  },
  {
   "cell_type": "markdown",
   "source": [
    "## Configuration of Simulation Scenarios"
   ],
   "metadata": {
    "collapsed": false
   }
  },
  {
   "cell_type": "code",
   "execution_count": 64,
   "outputs": [],
   "source": [
    "# Dictionary to store simulations for different percentages of agents\n",
    "simulations = {}\n",
    "\n",
    "# List of percentages of agents that will be used in the simulation\n",
    "modes = [0]\n",
    "\n",
    "# Total number of agents in the simulation (not currently used in this snippet)\n",
    "total_agents = 10\n",
    "\n",
    "# Loop over each percentage value to create a corresponding simulation\n",
    "for mode in modes:\n",
    "    # Define the output file path for storing the simulation trajectories\n",
    "    trajectory_file = f\"../../sqlite_data/centrality_measures_mode_{mode}.sqlite\"\n",
    "\n",
    "    # Create a new simulation instance using JPS (JuPedSim)\n",
    "    simulation = jps.Simulation(\n",
    "        model=jps.CollisionFreeSpeedModel(  # Define the agent movement model\n",
    "            strength_neighbor_repulsion=2.6,  # Strength of repulsion between neighboring agents\n",
    "            range_neighbor_repulsion=0.1,  # Distance at which agents start repelling each other\n",
    "            range_geometry_repulsion=0.05,  # Distance at which agents start avoiding obstacles\n",
    "        ),\n",
    "        geometry=walkable_area.polygon,  # Define the walkable area for the simulation\n",
    "        trajectory_writer=jps.SqliteTrajectoryWriter(  # Specify where to store simulation results\n",
    "            output_file=pathlib.Path(trajectory_file),  # Save output to the specified SQLite file\n",
    "        ),\n",
    "    )\n",
    "\n",
    "    # Store the simulation object in the dictionary using the percentage as a key\n",
    "    simulations[mode] = simulation"
   ],
   "metadata": {
    "collapsed": false
   }
  },
  {
   "cell_type": "markdown",
   "source": [
    "## Choosing the path\n"
   ],
   "metadata": {
    "collapsed": false
   }
  },
  {
   "cell_type": "code",
   "execution_count": 65,
   "outputs": [],
   "source": [
    "# Create the graph\n",
    "G = nx.DiGraph()\n",
    "\n",
    "# Nodos y sus niveles iniciales de riesgo (0 a 1)\n",
    "nodes = {\n",
    "    \"A\": 0.0, \"B\": 0.6, \"C\": 0.0,\n",
    "    \"D\": 0.6, \"E\": 0.6, \"F\": 0.1,\n",
    "    \"G\": 0.0, \"H\": 0.0, \"I\": 0.0,\n",
    "}\n",
    "\n",
    "# Agregar nodos al grafo\n",
    "for node, risk in nodes.items():\n",
    "    G.add_node(node, risk=risk)\n",
    "\n",
    "# Definir las conexiones entre nodos\n",
    "edges = [\n",
    "    (\"A\", \"B\"), (\"A\", \"F\"), (\"B\", \"A\"), (\"B\", \"E\"), (\"B\", \"C\"),\n",
    "    (\"C\", \"B\"), (\"C\", \"D\"), (\"D\", \"I\"), (\"D\", \"E\"), (\"D\", \"C\"),\n",
    "    (\"E\", \"D\"), (\"E\", \"F\"), (\"E\", \"B\"), (\"E\", \"H\"), (\"F\", \"A\"),\n",
    "    (\"F\", \"E\"), (\"F\", \"G\"), (\"G\", \"F\"), (\"G\", \"H\"), (\"H\", \"E\"),\n",
    "    (\"H\", \"G\"), (\"H\", \"I\"),\n",
    "]\n",
    "\n",
    "# Agregar las aristas con un costo fijo (se puede ajustar)\n",
    "G.add_edges_from([(u, v, {\"cost\": 3}) for u, v in edges])\n",
    "\n",
    "# Parameters for calculation\n",
    "sources = [\"A\"]  # Source nodes\n",
    "targets = [\"I\"]  # Target nodes"
   ],
   "metadata": {
    "collapsed": false
   }
  },
  {
   "cell_type": "markdown",
   "source": [
    "## Outlining Agent Journeys"
   ],
   "metadata": {
    "collapsed": false
   }
  },
  {
   "cell_type": "code",
   "execution_count": 66,
   "outputs": [],
   "source": [
    "def create_journeys_for_simulation(start, paths, waypoint_ids, exit_ids):\n",
    "    \"\"\"\n",
    "    Generates journey descriptions for simulation agents using the best paths obtained previously.\n",
    "\n",
    "    Args:\n",
    "        start (str): The starting node in the graph.\n",
    "        paths (list): A list of paths (each path is a list of nodes).\n",
    "        waypoint_ids (dict): A dictionary mapping graph node IDs to simulation waypoint IDs.\n",
    "        exit_ids (dict): A dictionary mapping exit nodes to simulation exit IDs.\n",
    "\n",
    "    Returns:\n",
    "        list: A list of tuples, where each tuple contains:\n",
    "              - A jps.JourneyDescription object describing the agent's journey.\n",
    "              - The original path (a list of nodes) used to generate the journey.\n",
    "    \"\"\"\n",
    "    if not paths:\n",
    "        raise ValueError(f\"No valid paths found from {start}.\")\n",
    "\n",
    "    journeys = []\n",
    "    # Iterate over each path from the best_paths list.\n",
    "    for path in paths:\n",
    "        # Skip paths that do not have at least two nodes (start and end are required).\n",
    "        if len(path) < 2:\n",
    "            continue\n",
    "\n",
    "        # Map the intermediate graph nodes to simulation waypoint IDs,\n",
    "        # excluding the start and end nodes.\n",
    "        needed_waypoints = [waypoint_ids[node] for node in path[1:-1]]\n",
    "        if not needed_waypoints:\n",
    "            continue\n",
    "\n",
    "        # Ensure that the exit node (last node in the path) exists in the exit_ids dictionary.\n",
    "        if path[-1] not in exit_ids:\n",
    "            continue\n",
    "\n",
    "        # Create a JourneyDescription using the intermediate waypoints and append the exit stage.\n",
    "        journey = jps.JourneyDescription([*needed_waypoints, exit_ids[path[-1]]])\n",
    "\n",
    "        # Configure transitions between waypoints.\n",
    "        for idx, waypoint in enumerate(needed_waypoints):\n",
    "            # If it's the last waypoint, the next stage is the exit (mapped from exit_ids);\n",
    "            # otherwise, the next stage is the following waypoint.\n",
    "            next_waypoint = exit_ids[path[-1]] if idx == len(needed_waypoints) - 1 else needed_waypoints[idx + 1]\n",
    "            journey.set_transition_for_stage(\n",
    "                waypoint, jps.Transition.create_fixed_transition(next_waypoint)\n",
    "            )\n",
    "\n",
    "        # Append the journey description along with its corresponding path.\n",
    "        journeys.append((journey, path))\n",
    "\n",
    "    return journeys"
   ],
   "metadata": {
    "collapsed": false
   }
  },
  {
   "cell_type": "code",
   "execution_count": 67,
   "outputs": [],
   "source": [
    "def set_journeys(simulation, start, paths, waypoint_ids, exit_ids):\n",
    "    \"\"\"\n",
    "    Configures agent journeys in the simulation by setting up waypoints, exit stages,\n",
    "    and journey paths between a start and end point.\n",
    "\n",
    "    Args:\n",
    "        simulation (jps.Simulation): The simulation instance where journeys are added.\n",
    "        start (str): The starting node in the graph.\n",
    "        end (str): The destination node in the graph.\n",
    "        paths (list): A list of paths (each path is a list of nodes).\n",
    "        waypoint_ids (dict): A dictionary mapping nodes to waypoint IDs in the simulation.\n",
    "        exit_ids (dict): A dictionary mapping exit nodes to simulation exit IDs.\n",
    "\n",
    "    Returns:\n",
    "        tuple:\n",
    "            - journeys_id (dict): A dictionary mapping the starting node to a list of tuples (journey ID, path) for each journey.\n",
    "    \"\"\"\n",
    "\n",
    "    # Generate different journey paths using the provided graph information\n",
    "    journeys = create_journeys_for_simulation(start, paths, waypoint_ids, exit_ids)\n",
    "\n",
    "    # Initialize a dictionary to store journey IDs and their associated paths\n",
    "    journeys_id = {}\n",
    "\n",
    "    # Iterate over the generated journeys and their respective paths\n",
    "    for journey, path in journeys:\n",
    "        # Add the journey to the simulation and retrieve its unique ID\n",
    "        journey_id = simulation.add_journey(journey)\n",
    "\n",
    "        # Ensure the starting node is initialized in the dictionary\n",
    "        if start not in journeys_id:\n",
    "            journeys_id[start] = []\n",
    "\n",
    "        # Store the journey ID and its corresponding path in the dictionary\n",
    "        journeys_id[start].append((journey_id, path))\n",
    "\n",
    "    # Return the journey mapping IDs\n",
    "    return journeys_id"
   ],
   "metadata": {
    "collapsed": false
   }
  },
  {
   "cell_type": "markdown",
   "source": [
    "## Allocate Agents"
   ],
   "metadata": {
    "collapsed": false
   }
  },
  {
   "cell_type": "code",
   "execution_count": 68,
   "outputs": [],
   "source": [
    "positions = dict()\n",
    "for source in sources:\n",
    "    positions[source] = jps.distribute_by_number(\n",
    "        polygon=distribution_polygons[source],\n",
    "        number_of_agents=total_agents,\n",
    "        distance_to_agents=0.4,\n",
    "        distance_to_polygon=0.7,\n",
    "        seed=45131502,\n",
    "    )"
   ],
   "metadata": {
    "collapsed": false
   }
  },
  {
   "cell_type": "markdown",
   "source": [
    "## Launching the Simulation"
   ],
   "metadata": {
    "collapsed": false
   }
  },
  {
   "cell_type": "code",
   "execution_count": 69,
   "outputs": [],
   "source": [
    "def update_group_paths(simulation_config, risk_per_node, agent_group, G, risk_threshold=0.5):\n",
    "    \"\"\"\n",
    "    Updates the path of a group of agents based on the current node of the first agent in the group.\n",
    "    If the path is considered unsafe, the path for all agents in the group is updated.\n",
    "\n",
    "    Args:\n",
    "        simulation_config (SimulationConfig): Instance containing:\n",
    "            - simulation: Object managing the simulation (agents and environment).\n",
    "            - every_nth_frame (int): Interval at which agent paths are updated.\n",
    "            - waypoints_ids (dict): Mapping from graph nodes to simulation waypoint IDs.\n",
    "            - journeys_ids (dict): Mapping of journey identifiers to tuples (journey_id, path).\n",
    "        risk_per_node (dict): Mapping of each node to its risk value.\n",
    "        agent_group (AgentGroup): An AgentGroup instance containing:\n",
    "            - agents (list): List of agent IDs.\n",
    "            - path (list): List representing the group's current path.\n",
    "            - algorithm (int): Identifier for the algorithm used.\n",
    "            - knowledge_level (int): The knowledge level of the agents.\n",
    "        risk_threshold (float): Threshold above which a path segment is considered unsafe.\n",
    "\n",
    "    Returns:\n",
    "        AgentGroup: The updated AgentGroup with the new path if a change was made,\n",
    "                or the original AgentGroup if no update occurred.\n",
    "    \"\"\"\n",
    "    agents_ids = agent_group.agents\n",
    "    current_path = agent_group.path\n",
    "    simulation = simulation_config.simulation\n",
    "    waypoints_ids = simulation_config.waypoints_ids\n",
    "\n",
    "    if not agents_ids:\n",
    "        # No agents in the group; return the original group.\n",
    "        return agent_group\n",
    "\n",
    "    # Use the first agent in the list to evaluate the path.\n",
    "    first_agent_id = agents_ids[0]\n",
    "    # Check if the first agent still exists in the simulation.\n",
    "    agent_exists = any(agent.id == first_agent_id for agent in simulation.agents())\n",
    "    if not agent_exists:\n",
    "        return agent_group\n",
    "\n",
    "    # Retrieve the agent for path evaluation.\n",
    "    agent = simulation.agent(first_agent_id)\n",
    "    current_stage = agent.stage_id  # Current stage ID of the agent.\n",
    "    next_node = None\n",
    "\n",
    "    # Find the node corresponding to the agent's current stage.\n",
    "    for node, waypoint in waypoints_ids.items():\n",
    "        if waypoint == current_stage:\n",
    "            next_node = node\n",
    "            break\n",
    "\n",
    "    # If no corresponding node is found, return the original group.\n",
    "    if not next_node:\n",
    "        return agent_group\n",
    "\n",
    "    # Attempt to obtain the index of next_node in current_path.\n",
    "    try:\n",
    "        node_index = current_path.index(next_node)\n",
    "    except ValueError:\n",
    "        # next_node is not in the current_path.\n",
    "        return agent_group\n",
    "\n",
    "    # Avoid using a negative index if next_node is the first element in current_path.\n",
    "    if node_index == 0:\n",
    "        return agent_group\n",
    "\n",
    "    # The current node is defined as the node immediately before next_node in the path.\n",
    "    current_node = current_path[node_index - 1]\n",
    "    if current_node != agent_group.current_node:\n",
    "        agent_group.current_node = current_node\n",
    "\n",
    "    best_path =  compute_alternative_path(simulation_config.get_exit_ids_keys(), agent_group, G, current_node, next_node, risk_per_node, risk_threshold)\n",
    "\n",
    "    # Ensure a valid alternative path was found and that it is different from the current path.\n",
    "    if best_path is not None and not is_sublist(best_path, current_path):\n",
    "        journeys_ids = set_journeys(\n",
    "            simulation, current_node, [best_path], waypoints_ids, simulation_config.exit_ids\n",
    "        )\n",
    "\n",
    "        # Assume best_path has at least two nodes.\n",
    "        next_node = best_path[1]\n",
    "        next_stage_id = waypoints_ids[next_node]\n",
    "\n",
    "        new_journey_id, _ = journeys_ids[current_node][0]\n",
    "        # Update all agents in the group with the new journey and stage.\n",
    "        for agent_id in agents_ids:\n",
    "            simulation.switch_agent_journey(agent_id, new_journey_id, next_stage_id)\n",
    "\n",
    "        agent_group.path = best_path\n",
    "\n",
    "        # Return the updated agent group with the new path.\n",
    "        return agent_group\n",
    "\n",
    "    # If no update is made, return the original agent_group.\n",
    "    return agent_group"
   ],
   "metadata": {
    "collapsed": false
   }
  },
  {
   "cell_type": "code",
   "execution_count": 70,
   "outputs": [],
   "source": [
    "def simulate_risk(riskSimulationValues, every_nth_frame, G, connection):\n",
    "    \"\"\"\n",
    "    Simulates risk propagation in a graph over multiple frames and stores the results in a database.\n",
    "\n",
    "    Args:\n",
    "        iterations (int): Total number of frames to simulate.\n",
    "        every_nth_frame (int): Interval of frames at which risk updates are performed.\n",
    "        G (networkx.Graph): Graph where each node has a \"risk\" attribute.\n",
    "        propagation_chance (float): Probability of risk spreading between connected nodes.\n",
    "        increase_chance (float): Probability of individual nodes increasing their risk.\n",
    "        connection (sqlite3.Connection): Open SQLite database connection to store risk data.\n",
    "    \"\"\"\n",
    "    # Validate the input arguments\n",
    "    if riskSimulationValues.iterations <= 0:\n",
    "        raise ValueError(\"iterations must be a positive integer.\")\n",
    "    if every_nth_frame <= 0:\n",
    "        raise ValueError(\"every_nth_frame must be a positive integer.\")\n",
    "\n",
    "    for frame in range(riskSimulationValues.iterations + 1):\n",
    "        if frame == 0:\n",
    "            # Save the initial risk levels of all nodes before any updates\n",
    "            try:\n",
    "                write_risk_levels(connection, 0, {node: G.nodes[node][\"risk\"] for node in G.nodes})\n",
    "            except Exception as e:\n",
    "                print(f\"Error writing initial risks: {e}\")\n",
    "            continue\n",
    "\n",
    "        # directly use the iteration as frames\n",
    "        if frame % every_nth_frame == 0:\n",
    "            try:\n",
    "                # Update risks in the graph based on propagation and increase chances\n",
    "                update_risk(G, riskSimulationValues.propagation_chance, riskSimulationValues.increase_chance)\n",
    "                # Save the updated risk levels for the current frame\n",
    "                write_risk_levels(connection, frame, {node: G.nodes[node][\"risk\"] for node in G.nodes})\n",
    "            except Exception as e:\n",
    "                print(f\"Error updating risks at frame {frame}: {e}\")"
   ],
   "metadata": {
    "collapsed": false
   }
  },
  {
   "cell_type": "code",
   "execution_count": 71,
   "outputs": [],
   "source": [
    "def run_agent_simulation(simulation_config, agent_groups, G, connection, agent_area_connection, risk_threshold):\n",
    "    \"\"\"\n",
    "    Runs the agent simulation, updating agent paths based on current risk levels retrieved from the database.\n",
    "\n",
    "    Args:\n",
    "        simulation_config (SimulationConfig): An instance of SimulationConfig containing:\n",
    "            - simulation: The simulation object managing agents and the environment.\n",
    "            - every_nth_frame (int): The interval at which agent paths are updated.\n",
    "            - waypoints_ids (dict): Mapping of graph node IDs to simulation waypoint IDs.\n",
    "        agent_groups (dict): Mapping of starting nodes to AgentGroups.\n",
    "        risk_threshold (float): The risk level threshold above which agents will attempt to avoid high-risk areas.\n",
    "    \"\"\"\n",
    "    while simulation_config.simulation.agent_count() > 0:\n",
    "        # Advance the simulation by one frame\n",
    "        simulation_config.simulation.iterate()\n",
    "        iteration = simulation_config.simulation.iteration_count()\n",
    "\n",
    "        every_nth_frame_simulation = simulation_config.every_nth_frame_simulation\n",
    "        every_nth_frame_animation = simulation_config.every_nth_frame_animation\n",
    "\n",
    "        if iteration % every_nth_frame_simulation == 0:\n",
    "            frame = iteration / every_nth_frame_simulation\n",
    "\n",
    "            # Update agent paths only at specified intervals\n",
    "            if frame % every_nth_frame_animation == 0:\n",
    "                try:\n",
    "                    # Fetch risk levels for the current frame from the database\n",
    "                    risk_this_frame = get_risk_levels_by_frame(connection, frame)\n",
    "\n",
    "                    # Update paths for the agents based on current risks and threshold\n",
    "                    for key, agent_group in agent_groups.items():\n",
    "                        agent_groups[key] = update_group_paths(\n",
    "                            simulation_config, risk_this_frame, agent_group, G, risk_threshold=risk_threshold\n",
    "                        )\n",
    "\n",
    "                        current_node = agent_group.current_node\n",
    "                        # Write in which area the agents are in this frame\n",
    "                        write_agent_area(agent_area_connection, frame, agent_group.agents, current_node, risk_this_frame[current_node])\n",
    "                except Exception as e:\n",
    "                    print(f\"Error updating paths at frame {frame}: {e}\")"
   ],
   "metadata": {
    "collapsed": false
   }
  },
  {
   "cell_type": "code",
   "execution_count": 72,
   "outputs": [],
   "source": [
    "def set_agents_in_simulation(simulation, positions, journey_id, first_waypoint_id):\n",
    "    agents = []\n",
    "    for position in positions:  # Use the second half of the positions\n",
    "        # Add agents with specified parameters (e.g., position, journey, velocity)\n",
    "        agents.append(\n",
    "            simulation.add_agent(\n",
    "                jps.CollisionFreeSpeedModelAgentParameters(\n",
    "                    position=position,       # Initial position of the agent\n",
    "                    journey_id=journey_id,   # Journey ID for the agent\n",
    "                    stage_id=first_waypoint_id,  # Starting waypoint for the agent\n",
    "                    v0=0.8, # Desired maximum speed of the agent\n",
    "                )\n",
    "            )\n",
    "        )\n",
    "    return agents"
   ],
   "metadata": {
    "collapsed": false
   }
  },
  {
   "cell_type": "code",
   "execution_count": 73,
   "outputs": [],
   "source": [
    "# False -> to use the default risk evolution, True -> random risk evolution\n",
    "use_random_risk_layout = True\n",
    "\n",
    "# set agent groups\n",
    "modes_names = [\"Low_knowledge_shortest_path\", \"High_knowledge_shortest_path\", \"Low_knowledge_centrality_path\", \"High_knowledge_centrality_path\"]\n",
    "knowledge_levels_per_group = [0, 1, 0, 1]\n",
    "algorithm_per_group = [0, 0, 1, 1]"
   ],
   "metadata": {
    "collapsed": false
   }
  },
  {
   "cell_type": "code",
   "execution_count": 74,
   "outputs": [],
   "source": [
    "every_nth_frame_simulation = 4  # Interval of iterations for frames\n",
    "                                # 4 is the simulation writers default\n",
    "\n",
    "every_nth_frame_animation = 50  # Interval of frames for risk updates\n",
    "                                # 50 is the animations default\n",
    "\n",
    "# Simulation parameters\n",
    "riskSimulationValues = RiskSimulationValues(3000, 0.001, 0.01)\n",
    "\n",
    "# Establish a connection to the appropriate SQLite database\n",
    "default_connection_file = \"../../sqlite_data/default_centrality_measures_risks.db\" # default risk evolution file\n",
    "new_connection_file = \"../../sqlite_data/centrality_measures_risks.db\" # random risk evolution file\n",
    "if use_random_risk_layout:\n",
    "    connection_file = new_connection_file  # Use new database if random risk layout is enabled\n",
    "else:\n",
    "    connection_file = default_connection_file  # Use default database otherwise\n",
    "\n",
    "connection = sqlite3.connect(connection_file)\n",
    "try:\n",
    "    if use_random_risk_layout:\n",
    "        # Create or reset the risk table if random risk layout is enabled\n",
    "        create_risk_table(connection)\n",
    "\n",
    "        # Simulate risk propagation and store results in the database\n",
    "        simulate_risk(riskSimulationValues, every_nth_frame_animation, G, connection) # animation not every frame is shown in the animation\n",
    "    # get first frame risk table\n",
    "    risk_first_frame= get_risk_levels_by_frame(connection, 0)\n",
    "finally:\n",
    "    # Ensure the database connection is closed after operations\n",
    "    connection.close()"
   ],
   "metadata": {
    "collapsed": false
   }
  },
  {
   "cell_type": "code",
   "execution_count": 75,
   "outputs": [],
   "source": [
    "trajectory_files = {}\n",
    "agent_groups_per_mode = {}\n",
    "agent_area_files = {}\n",
    "for mode, simulation in simulations.items():\n",
    "\n",
    "    agent_area_files[mode] = f\"../../sqlite_data/agent_area_mode_{mode}.db\"\n",
    "    agent_area_connection = sqlite3.connect(agent_area_files[mode])\n",
    "\n",
    "    create_agent_area_table(agent_area_connection)\n",
    "\n",
    "    exit_ids = {}\n",
    "    for node, exit_polygon in exit_polygons.items():\n",
    "        exit_ids[node] = simulation.add_exit_stage(exit_polygon)\n",
    "\n",
    "    # Initialize a dictionary to store waypoint IDs\n",
    "    waypoints_ids = {}\n",
    "    # Convert waypoints into simulation waypoints with associated distances\n",
    "    for node, (waypoint, distance) in waypoints.items():\n",
    "        waypoints_ids[node] = simulation.add_waypoint_stage(waypoint, distance)\n",
    "\n",
    "    agent_groups = dict()\n",
    "    for source in sources:\n",
    "        agent_group_aux = AgentGroup(None, None, \"\", algorithm_per_group[mode], knowledge_levels_per_group[mode])\n",
    "        path = compute_alternative_path(exit_polygons.keys(), agent_group_aux, G, source, risk_per_node=risk_first_frame)\n",
    "\n",
    "        # Set up a journey for the simulation\n",
    "        journeys_ids = set_journeys(\n",
    "            simulation, source, [path], waypoints_ids, exit_ids\n",
    "        )\n",
    "\n",
    "        # Retrieve the best path for the first source and its associated journey ID\n",
    "        journey_id, best_path_source = journeys_ids[source][0]\n",
    "        next_node = best_path_source[1]  # Get the next node on the best path\n",
    "        first_waypoint_id = waypoints_ids[next_node]  # Determine the waypoint ID for the next node\n",
    "\n",
    "        agents = set_agents_in_simulation(simulation, positions[source], journey_id, first_waypoint_id)\n",
    "\n",
    "        agent_group_aux.path = path\n",
    "        agent_group_aux.current_node = path[0]\n",
    "        agent_group_aux.agents = agents\n",
    "\n",
    "        agent_groups[source] = agent_group_aux\n",
    "\n",
    "    simulation_config = SimulationConfig(simulation, every_nth_frame_simulation, every_nth_frame_animation, waypoints_ids, exit_ids)\n",
    "\n",
    "    ## Calculate the number of items based on the percentage of positions\n",
    "    #num_items = int(len(positions) * (percentage / 100.0))\n",
    "\n",
    "    connection = sqlite3.connect(connection_file)\n",
    "    # Run the agent simulation, updating paths based on the risk levels\n",
    "    run_agent_simulation(\n",
    "        simulation_config,\n",
    "        agent_groups,\n",
    "        G,\n",
    "        connection,\n",
    "        agent_area_connection,\n",
    "        risk_threshold=0.5,  # Threshold for avoiding high-risk areas\n",
    "    )\n",
    "\n",
    "    connection.close()\n",
    "    agent_area_connection.close()\n",
    "\n",
    "    # Generate the trajectory file for the current percentage and store its path\n",
    "    trajectory_file = f\"../../sqlite_data/centrality_measures_mode_{mode}.sqlite\"\n",
    "    trajectory_files[mode] = trajectory_file\n",
    "    agent_groups_per_mode[mode] = agent_groups"
   ],
   "metadata": {
    "collapsed": false
   }
  },
  {
   "cell_type": "code",
   "execution_count": 76,
   "outputs": [
    {
     "name": "stdout",
     "output_type": "stream",
     "text": [
      "Frame 0, Area A: Risk Level 0.0\n",
      "Frame 0, Area B: Risk Level 0.6\n",
      "Frame 0, Area C: Risk Level 0.0\n",
      "Frame 0, Area D: Risk Level 0.6\n",
      "Frame 0, Area E: Risk Level 0.6\n",
      "Frame 0, Area F: Risk Level 0.1\n",
      "Frame 0, Area G: Risk Level 0.0\n",
      "Frame 0, Area H: Risk Level 0.0\n",
      "Frame 0, Area I: Risk Level 0.0\n",
      "Frame 50, Area A: Risk Level 0.0\n",
      "Frame 50, Area B: Risk Level 0.6\n",
      "Frame 50, Area C: Risk Level 0.0\n",
      "Frame 50, Area D: Risk Level 0.6\n",
      "Frame 50, Area E: Risk Level 0.6\n",
      "Frame 50, Area F: Risk Level 0.1\n",
      "Frame 50, Area G: Risk Level 0.0\n",
      "Frame 50, Area H: Risk Level 0.0\n",
      "Frame 50, Area I: Risk Level 0.0\n",
      "Frame 100, Area A: Risk Level 0.0\n",
      "Frame 100, Area B: Risk Level 0.6\n",
      "Frame 100, Area C: Risk Level 0.0\n",
      "Frame 100, Area D: Risk Level 0.6\n",
      "Frame 100, Area E: Risk Level 0.6\n",
      "Frame 100, Area F: Risk Level 0.1\n",
      "Frame 100, Area G: Risk Level 0.0\n",
      "Frame 100, Area H: Risk Level 0.0\n",
      "Frame 100, Area I: Risk Level 0.0\n",
      "Frame 150, Area A: Risk Level 0.0\n",
      "Frame 150, Area B: Risk Level 0.6\n",
      "Frame 150, Area C: Risk Level 0.0\n",
      "Frame 150, Area D: Risk Level 0.6\n",
      "Frame 150, Area E: Risk Level 0.6\n",
      "Frame 150, Area F: Risk Level 0.1\n",
      "Frame 150, Area G: Risk Level 0.0\n",
      "Frame 150, Area H: Risk Level 0.0\n",
      "Frame 150, Area I: Risk Level 0.0\n",
      "Frame 200, Area A: Risk Level 0.0\n",
      "Frame 200, Area B: Risk Level 0.6\n",
      "Frame 200, Area C: Risk Level 0.0\n",
      "Frame 200, Area D: Risk Level 0.6\n",
      "Frame 200, Area E: Risk Level 0.6\n",
      "Frame 200, Area F: Risk Level 0.1\n",
      "Frame 200, Area G: Risk Level 0.0\n",
      "Frame 200, Area H: Risk Level 0.0\n",
      "Frame 200, Area I: Risk Level 0.0\n",
      "Frame 250, Area A: Risk Level 0.0\n",
      "Frame 250, Area B: Risk Level 0.6\n",
      "Frame 250, Area C: Risk Level 0.0\n",
      "Frame 250, Area D: Risk Level 0.6\n",
      "Frame 250, Area E: Risk Level 0.6\n",
      "Frame 250, Area F: Risk Level 0.1\n",
      "Frame 250, Area G: Risk Level 0.0\n",
      "Frame 250, Area H: Risk Level 0.0\n",
      "Frame 250, Area I: Risk Level 0.0\n",
      "Frame 300, Area A: Risk Level 0.0\n",
      "Frame 300, Area B: Risk Level 0.6\n",
      "Frame 300, Area C: Risk Level 0.0\n",
      "Frame 300, Area D: Risk Level 0.6\n",
      "Frame 300, Area E: Risk Level 0.6\n",
      "Frame 300, Area F: Risk Level 0.1\n",
      "Frame 300, Area G: Risk Level 0.0\n",
      "Frame 300, Area H: Risk Level 0.0\n",
      "Frame 300, Area I: Risk Level 0.0\n",
      "Frame 350, Area A: Risk Level 0.0\n",
      "Frame 350, Area B: Risk Level 0.6\n",
      "Frame 350, Area C: Risk Level 0.0\n",
      "Frame 350, Area D: Risk Level 0.6\n",
      "Frame 350, Area E: Risk Level 0.6\n",
      "Frame 350, Area F: Risk Level 0.1\n",
      "Frame 350, Area G: Risk Level 0.0\n",
      "Frame 350, Area H: Risk Level 0.0\n",
      "Frame 350, Area I: Risk Level 0.0\n",
      "Frame 400, Area A: Risk Level 0.0\n",
      "Frame 400, Area B: Risk Level 0.6\n",
      "Frame 400, Area C: Risk Level 0.0\n",
      "Frame 400, Area D: Risk Level 0.6\n",
      "Frame 400, Area E: Risk Level 0.6\n",
      "Frame 400, Area F: Risk Level 0.1\n",
      "Frame 400, Area G: Risk Level 0.0\n",
      "Frame 400, Area H: Risk Level 0.0\n",
      "Frame 400, Area I: Risk Level 0.0\n",
      "Frame 450, Area A: Risk Level 0.0\n",
      "Frame 450, Area B: Risk Level 0.6\n",
      "Frame 450, Area C: Risk Level 0.0\n",
      "Frame 450, Area D: Risk Level 0.6\n",
      "Frame 450, Area E: Risk Level 0.6\n",
      "Frame 450, Area F: Risk Level 0.1\n",
      "Frame 450, Area G: Risk Level 0.0\n",
      "Frame 450, Area H: Risk Level 0.0\n",
      "Frame 450, Area I: Risk Level 0.0\n",
      "Frame 500, Area A: Risk Level 0.0\n",
      "Frame 500, Area B: Risk Level 0.6\n",
      "Frame 500, Area C: Risk Level 0.0\n",
      "Frame 500, Area D: Risk Level 0.6\n",
      "Frame 500, Area E: Risk Level 0.6\n",
      "Frame 500, Area F: Risk Level 0.1\n",
      "Frame 500, Area G: Risk Level 0.0\n",
      "Frame 500, Area H: Risk Level 0.0\n",
      "Frame 500, Area I: Risk Level 0.0\n",
      "Frame 550, Area A: Risk Level 0.0\n",
      "Frame 550, Area B: Risk Level 0.6\n",
      "Frame 550, Area C: Risk Level 0.0\n",
      "Frame 550, Area D: Risk Level 0.6\n",
      "Frame 550, Area E: Risk Level 0.6\n",
      "Frame 550, Area F: Risk Level 0.1\n",
      "Frame 550, Area G: Risk Level 0.0\n",
      "Frame 550, Area H: Risk Level 0.0\n",
      "Frame 550, Area I: Risk Level 0.0\n",
      "Frame 600, Area A: Risk Level 0.0\n",
      "Frame 600, Area B: Risk Level 0.6\n",
      "Frame 600, Area C: Risk Level 0.0\n",
      "Frame 600, Area D: Risk Level 0.6\n",
      "Frame 600, Area E: Risk Level 0.6\n",
      "Frame 600, Area F: Risk Level 0.1\n",
      "Frame 600, Area G: Risk Level 0.0\n",
      "Frame 600, Area H: Risk Level 0.0\n",
      "Frame 600, Area I: Risk Level 0.0\n",
      "Frame 650, Area A: Risk Level 0.0\n",
      "Frame 650, Area B: Risk Level 0.6\n",
      "Frame 650, Area C: Risk Level 0.0\n",
      "Frame 650, Area D: Risk Level 0.6\n",
      "Frame 650, Area E: Risk Level 0.6\n",
      "Frame 650, Area F: Risk Level 0.1\n",
      "Frame 650, Area G: Risk Level 0.0\n",
      "Frame 650, Area H: Risk Level 0.0\n",
      "Frame 650, Area I: Risk Level 0.0\n",
      "Frame 700, Area A: Risk Level 0.0\n",
      "Frame 700, Area B: Risk Level 0.6\n",
      "Frame 700, Area C: Risk Level 0.0\n",
      "Frame 700, Area D: Risk Level 0.6\n",
      "Frame 700, Area E: Risk Level 0.6\n",
      "Frame 700, Area F: Risk Level 0.1\n",
      "Frame 700, Area G: Risk Level 0.0\n",
      "Frame 700, Area H: Risk Level 0.0\n",
      "Frame 700, Area I: Risk Level 0.0\n",
      "Frame 750, Area A: Risk Level 0.0\n",
      "Frame 750, Area B: Risk Level 0.6\n",
      "Frame 750, Area C: Risk Level 0.0\n",
      "Frame 750, Area D: Risk Level 0.6\n",
      "Frame 750, Area E: Risk Level 0.6\n",
      "Frame 750, Area F: Risk Level 0.1\n",
      "Frame 750, Area G: Risk Level 0.0\n",
      "Frame 750, Area H: Risk Level 0.0\n",
      "Frame 750, Area I: Risk Level 0.0\n",
      "Frame 800, Area A: Risk Level 0.0\n",
      "Frame 800, Area B: Risk Level 0.6\n",
      "Frame 800, Area C: Risk Level 0.0\n",
      "Frame 800, Area D: Risk Level 0.6\n",
      "Frame 800, Area E: Risk Level 0.6\n",
      "Frame 800, Area F: Risk Level 0.1\n",
      "Frame 800, Area G: Risk Level 0.0\n",
      "Frame 800, Area H: Risk Level 0.0\n",
      "Frame 800, Area I: Risk Level 0.0\n",
      "Frame 850, Area A: Risk Level 0.0\n",
      "Frame 850, Area B: Risk Level 0.6\n",
      "Frame 850, Area C: Risk Level 0.0\n",
      "Frame 850, Area D: Risk Level 0.6\n",
      "Frame 850, Area E: Risk Level 0.6\n",
      "Frame 850, Area F: Risk Level 0.1\n",
      "Frame 850, Area G: Risk Level 0.0\n",
      "Frame 850, Area H: Risk Level 0.0\n",
      "Frame 850, Area I: Risk Level 0.0\n",
      "Frame 900, Area A: Risk Level 0.0\n",
      "Frame 900, Area B: Risk Level 0.6\n",
      "Frame 900, Area C: Risk Level 0.0\n",
      "Frame 900, Area D: Risk Level 0.6\n",
      "Frame 900, Area E: Risk Level 0.6\n",
      "Frame 900, Area F: Risk Level 0.1\n",
      "Frame 900, Area G: Risk Level 0.0\n",
      "Frame 900, Area H: Risk Level 0.0\n",
      "Frame 900, Area I: Risk Level 0.0\n",
      "Frame 950, Area A: Risk Level 0.0\n",
      "Frame 950, Area B: Risk Level 0.6\n",
      "Frame 950, Area C: Risk Level 0.0\n",
      "Frame 950, Area D: Risk Level 0.6\n",
      "Frame 950, Area E: Risk Level 0.6\n",
      "Frame 950, Area F: Risk Level 0.1\n",
      "Frame 950, Area G: Risk Level 0.0\n",
      "Frame 950, Area H: Risk Level 0.0\n",
      "Frame 950, Area I: Risk Level 0.0\n",
      "Frame 1000, Area A: Risk Level 0.0\n",
      "Frame 1000, Area B: Risk Level 0.6\n",
      "Frame 1000, Area C: Risk Level 0.0\n",
      "Frame 1000, Area D: Risk Level 0.6\n",
      "Frame 1000, Area E: Risk Level 0.6\n",
      "Frame 1000, Area F: Risk Level 0.1\n",
      "Frame 1000, Area G: Risk Level 0.0\n",
      "Frame 1000, Area H: Risk Level 0.0\n",
      "Frame 1000, Area I: Risk Level 0.0\n",
      "Frame 1050, Area A: Risk Level 0.0\n",
      "Frame 1050, Area B: Risk Level 0.6\n",
      "Frame 1050, Area C: Risk Level 0.0\n",
      "Frame 1050, Area D: Risk Level 0.6\n",
      "Frame 1050, Area E: Risk Level 0.6\n",
      "Frame 1050, Area F: Risk Level 0.1\n",
      "Frame 1050, Area G: Risk Level 0.0\n",
      "Frame 1050, Area H: Risk Level 0.0\n",
      "Frame 1050, Area I: Risk Level 0.0\n",
      "Frame 1100, Area A: Risk Level 0.1\n",
      "Frame 1100, Area B: Risk Level 0.6\n",
      "Frame 1100, Area C: Risk Level 0.0\n",
      "Frame 1100, Area D: Risk Level 0.6\n",
      "Frame 1100, Area E: Risk Level 0.6\n",
      "Frame 1100, Area F: Risk Level 0.1\n",
      "Frame 1100, Area G: Risk Level 0.0\n",
      "Frame 1100, Area H: Risk Level 0.0\n",
      "Frame 1100, Area I: Risk Level 0.0\n",
      "Frame 1150, Area A: Risk Level 0.1\n",
      "Frame 1150, Area B: Risk Level 0.6\n",
      "Frame 1150, Area C: Risk Level 0.0\n",
      "Frame 1150, Area D: Risk Level 0.6\n",
      "Frame 1150, Area E: Risk Level 0.6\n",
      "Frame 1150, Area F: Risk Level 0.1\n",
      "Frame 1150, Area G: Risk Level 0.0\n",
      "Frame 1150, Area H: Risk Level 0.0\n",
      "Frame 1150, Area I: Risk Level 0.0\n",
      "Frame 1200, Area A: Risk Level 0.1\n",
      "Frame 1200, Area B: Risk Level 0.6\n",
      "Frame 1200, Area C: Risk Level 0.0\n",
      "Frame 1200, Area D: Risk Level 0.6\n",
      "Frame 1200, Area E: Risk Level 0.6\n",
      "Frame 1200, Area F: Risk Level 0.1\n",
      "Frame 1200, Area G: Risk Level 0.0\n",
      "Frame 1200, Area H: Risk Level 0.0\n",
      "Frame 1200, Area I: Risk Level 0.0\n",
      "Frame 1250, Area A: Risk Level 0.1\n",
      "Frame 1250, Area B: Risk Level 0.6\n",
      "Frame 1250, Area C: Risk Level 0.0\n",
      "Frame 1250, Area D: Risk Level 0.6\n",
      "Frame 1250, Area E: Risk Level 0.6\n",
      "Frame 1250, Area F: Risk Level 0.1\n",
      "Frame 1250, Area G: Risk Level 0.0\n",
      "Frame 1250, Area H: Risk Level 0.0\n",
      "Frame 1250, Area I: Risk Level 0.0\n",
      "Frame 1300, Area A: Risk Level 0.1\n",
      "Frame 1300, Area B: Risk Level 0.6\n",
      "Frame 1300, Area C: Risk Level 0.0\n",
      "Frame 1300, Area D: Risk Level 0.6\n",
      "Frame 1300, Area E: Risk Level 0.6\n",
      "Frame 1300, Area F: Risk Level 0.1\n",
      "Frame 1300, Area G: Risk Level 0.0\n",
      "Frame 1300, Area H: Risk Level 0.0\n",
      "Frame 1300, Area I: Risk Level 0.0\n",
      "Frame 1350, Area A: Risk Level 0.1\n",
      "Frame 1350, Area B: Risk Level 0.6\n",
      "Frame 1350, Area C: Risk Level 0.0\n",
      "Frame 1350, Area D: Risk Level 0.6\n",
      "Frame 1350, Area E: Risk Level 0.6\n",
      "Frame 1350, Area F: Risk Level 0.3\n",
      "Frame 1350, Area G: Risk Level 0.0\n",
      "Frame 1350, Area H: Risk Level 0.0\n",
      "Frame 1350, Area I: Risk Level 0.0\n",
      "Frame 1400, Area A: Risk Level 0.1\n",
      "Frame 1400, Area B: Risk Level 0.6\n",
      "Frame 1400, Area C: Risk Level 0.0\n",
      "Frame 1400, Area D: Risk Level 0.6\n",
      "Frame 1400, Area E: Risk Level 0.6\n",
      "Frame 1400, Area F: Risk Level 0.3\n",
      "Frame 1400, Area G: Risk Level 0.0\n",
      "Frame 1400, Area H: Risk Level 0.0\n",
      "Frame 1400, Area I: Risk Level 0.0\n",
      "Frame 1450, Area A: Risk Level 0.1\n",
      "Frame 1450, Area B: Risk Level 0.6\n",
      "Frame 1450, Area C: Risk Level 0.0\n",
      "Frame 1450, Area D: Risk Level 0.6\n",
      "Frame 1450, Area E: Risk Level 0.6\n",
      "Frame 1450, Area F: Risk Level 0.3\n",
      "Frame 1450, Area G: Risk Level 0.0\n",
      "Frame 1450, Area H: Risk Level 0.0\n",
      "Frame 1450, Area I: Risk Level 0.0\n",
      "Frame 1500, Area A: Risk Level 0.1\n",
      "Frame 1500, Area B: Risk Level 0.6\n",
      "Frame 1500, Area C: Risk Level 0.0\n",
      "Frame 1500, Area D: Risk Level 0.6\n",
      "Frame 1500, Area E: Risk Level 0.6\n",
      "Frame 1500, Area F: Risk Level 0.3\n",
      "Frame 1500, Area G: Risk Level 0.0\n",
      "Frame 1500, Area H: Risk Level 0.0\n",
      "Frame 1500, Area I: Risk Level 0.0\n",
      "Frame 1550, Area A: Risk Level 0.1\n",
      "Frame 1550, Area B: Risk Level 0.6\n",
      "Frame 1550, Area C: Risk Level 0.0\n",
      "Frame 1550, Area D: Risk Level 0.6\n",
      "Frame 1550, Area E: Risk Level 0.6\n",
      "Frame 1550, Area F: Risk Level 0.3\n",
      "Frame 1550, Area G: Risk Level 0.0\n",
      "Frame 1550, Area H: Risk Level 0.0\n",
      "Frame 1550, Area I: Risk Level 0.0\n",
      "Frame 1600, Area A: Risk Level 0.1\n",
      "Frame 1600, Area B: Risk Level 0.6\n",
      "Frame 1600, Area C: Risk Level 0.0\n",
      "Frame 1600, Area D: Risk Level 0.6\n",
      "Frame 1600, Area E: Risk Level 0.6\n",
      "Frame 1600, Area F: Risk Level 0.3\n",
      "Frame 1600, Area G: Risk Level 0.0\n",
      "Frame 1600, Area H: Risk Level 0.0\n",
      "Frame 1600, Area I: Risk Level 0.0\n",
      "Frame 1650, Area A: Risk Level 0.1\n",
      "Frame 1650, Area B: Risk Level 0.6\n",
      "Frame 1650, Area C: Risk Level 0.0\n",
      "Frame 1650, Area D: Risk Level 0.6\n",
      "Frame 1650, Area E: Risk Level 0.6\n",
      "Frame 1650, Area F: Risk Level 0.3\n",
      "Frame 1650, Area G: Risk Level 0.0\n",
      "Frame 1650, Area H: Risk Level 0.0\n",
      "Frame 1650, Area I: Risk Level 0.0\n",
      "Frame 1700, Area A: Risk Level 0.1\n",
      "Frame 1700, Area B: Risk Level 0.6\n",
      "Frame 1700, Area C: Risk Level 0.0\n",
      "Frame 1700, Area D: Risk Level 0.6\n",
      "Frame 1700, Area E: Risk Level 0.6\n",
      "Frame 1700, Area F: Risk Level 0.3\n",
      "Frame 1700, Area G: Risk Level 0.0\n",
      "Frame 1700, Area H: Risk Level 0.0\n",
      "Frame 1700, Area I: Risk Level 0.0\n",
      "Frame 1750, Area A: Risk Level 0.1\n",
      "Frame 1750, Area B: Risk Level 0.6\n",
      "Frame 1750, Area C: Risk Level 0.0\n",
      "Frame 1750, Area D: Risk Level 0.6\n",
      "Frame 1750, Area E: Risk Level 0.6\n",
      "Frame 1750, Area F: Risk Level 0.3\n",
      "Frame 1750, Area G: Risk Level 0.0\n",
      "Frame 1750, Area H: Risk Level 0.0\n",
      "Frame 1750, Area I: Risk Level 0.0\n",
      "Frame 1800, Area A: Risk Level 0.1\n",
      "Frame 1800, Area B: Risk Level 0.6\n",
      "Frame 1800, Area C: Risk Level 0.0\n",
      "Frame 1800, Area D: Risk Level 0.6\n",
      "Frame 1800, Area E: Risk Level 0.6\n",
      "Frame 1800, Area F: Risk Level 0.3\n",
      "Frame 1800, Area G: Risk Level 0.0\n",
      "Frame 1800, Area H: Risk Level 0.0\n",
      "Frame 1800, Area I: Risk Level 0.0\n",
      "Frame 1850, Area A: Risk Level 0.1\n",
      "Frame 1850, Area B: Risk Level 0.6\n",
      "Frame 1850, Area C: Risk Level 0.0\n",
      "Frame 1850, Area D: Risk Level 0.6\n",
      "Frame 1850, Area E: Risk Level 0.6\n",
      "Frame 1850, Area F: Risk Level 0.3\n",
      "Frame 1850, Area G: Risk Level 0.0\n",
      "Frame 1850, Area H: Risk Level 0.0\n",
      "Frame 1850, Area I: Risk Level 0.0\n",
      "Frame 1900, Area A: Risk Level 0.1\n",
      "Frame 1900, Area B: Risk Level 0.6\n",
      "Frame 1900, Area C: Risk Level 0.0\n",
      "Frame 1900, Area D: Risk Level 0.6\n",
      "Frame 1900, Area E: Risk Level 0.6\n",
      "Frame 1900, Area F: Risk Level 0.3\n",
      "Frame 1900, Area G: Risk Level 0.0\n",
      "Frame 1900, Area H: Risk Level 0.0\n",
      "Frame 1900, Area I: Risk Level 0.0\n",
      "Frame 1950, Area A: Risk Level 0.1\n",
      "Frame 1950, Area B: Risk Level 0.6\n",
      "Frame 1950, Area C: Risk Level 0.0\n",
      "Frame 1950, Area D: Risk Level 0.6\n",
      "Frame 1950, Area E: Risk Level 0.6\n",
      "Frame 1950, Area F: Risk Level 0.3\n",
      "Frame 1950, Area G: Risk Level 0.0\n",
      "Frame 1950, Area H: Risk Level 0.0\n",
      "Frame 1950, Area I: Risk Level 0.0\n",
      "Frame 2000, Area A: Risk Level 0.1\n",
      "Frame 2000, Area B: Risk Level 0.6\n",
      "Frame 2000, Area C: Risk Level 0.0\n",
      "Frame 2000, Area D: Risk Level 0.6\n",
      "Frame 2000, Area E: Risk Level 0.6\n",
      "Frame 2000, Area F: Risk Level 0.3\n",
      "Frame 2000, Area G: Risk Level 0.0\n",
      "Frame 2000, Area H: Risk Level 0.0\n",
      "Frame 2000, Area I: Risk Level 0.0\n",
      "Frame 2050, Area A: Risk Level 0.1\n",
      "Frame 2050, Area B: Risk Level 0.6\n",
      "Frame 2050, Area C: Risk Level 0.0\n",
      "Frame 2050, Area D: Risk Level 0.6\n",
      "Frame 2050, Area E: Risk Level 0.6\n",
      "Frame 2050, Area F: Risk Level 0.3\n",
      "Frame 2050, Area G: Risk Level 0.0\n",
      "Frame 2050, Area H: Risk Level 0.0\n",
      "Frame 2050, Area I: Risk Level 0.0\n",
      "Frame 2100, Area A: Risk Level 0.1\n",
      "Frame 2100, Area B: Risk Level 0.6\n",
      "Frame 2100, Area C: Risk Level 0.0\n",
      "Frame 2100, Area D: Risk Level 0.6\n",
      "Frame 2100, Area E: Risk Level 0.6\n",
      "Frame 2100, Area F: Risk Level 0.3\n",
      "Frame 2100, Area G: Risk Level 0.0\n",
      "Frame 2100, Area H: Risk Level 0.0\n",
      "Frame 2100, Area I: Risk Level 0.0\n",
      "Frame 2150, Area A: Risk Level 0.1\n",
      "Frame 2150, Area B: Risk Level 0.6\n",
      "Frame 2150, Area C: Risk Level 0.0\n",
      "Frame 2150, Area D: Risk Level 0.6\n",
      "Frame 2150, Area E: Risk Level 0.6\n",
      "Frame 2150, Area F: Risk Level 0.3\n",
      "Frame 2150, Area G: Risk Level 0.0\n",
      "Frame 2150, Area H: Risk Level 0.0\n",
      "Frame 2150, Area I: Risk Level 0.0\n",
      "Frame 2200, Area A: Risk Level 0.1\n",
      "Frame 2200, Area B: Risk Level 0.6\n",
      "Frame 2200, Area C: Risk Level 0.0\n",
      "Frame 2200, Area D: Risk Level 0.6\n",
      "Frame 2200, Area E: Risk Level 0.6\n",
      "Frame 2200, Area F: Risk Level 0.3\n",
      "Frame 2200, Area G: Risk Level 0.0\n",
      "Frame 2200, Area H: Risk Level 0.0\n",
      "Frame 2200, Area I: Risk Level 0.0\n",
      "Frame 2250, Area A: Risk Level 0.1\n",
      "Frame 2250, Area B: Risk Level 0.6\n",
      "Frame 2250, Area C: Risk Level 0.0\n",
      "Frame 2250, Area D: Risk Level 0.6\n",
      "Frame 2250, Area E: Risk Level 0.6\n",
      "Frame 2250, Area F: Risk Level 0.3\n",
      "Frame 2250, Area G: Risk Level 0.0\n",
      "Frame 2250, Area H: Risk Level 0.0\n",
      "Frame 2250, Area I: Risk Level 0.0\n",
      "Frame 2300, Area A: Risk Level 0.1\n",
      "Frame 2300, Area B: Risk Level 0.6\n",
      "Frame 2300, Area C: Risk Level 0.0\n",
      "Frame 2300, Area D: Risk Level 0.6\n",
      "Frame 2300, Area E: Risk Level 0.6\n",
      "Frame 2300, Area F: Risk Level 0.3\n",
      "Frame 2300, Area G: Risk Level 0.0\n",
      "Frame 2300, Area H: Risk Level 0.0\n",
      "Frame 2300, Area I: Risk Level 0.0\n",
      "Frame 2350, Area A: Risk Level 0.1\n",
      "Frame 2350, Area B: Risk Level 0.6\n",
      "Frame 2350, Area C: Risk Level 0.0\n",
      "Frame 2350, Area D: Risk Level 0.6\n",
      "Frame 2350, Area E: Risk Level 0.6\n",
      "Frame 2350, Area F: Risk Level 0.3\n",
      "Frame 2350, Area G: Risk Level 0.0\n",
      "Frame 2350, Area H: Risk Level 0.0\n",
      "Frame 2350, Area I: Risk Level 0.0\n",
      "Frame 2400, Area A: Risk Level 0.1\n",
      "Frame 2400, Area B: Risk Level 0.6\n",
      "Frame 2400, Area C: Risk Level 0.0\n",
      "Frame 2400, Area D: Risk Level 0.6\n",
      "Frame 2400, Area E: Risk Level 0.6\n",
      "Frame 2400, Area F: Risk Level 0.3\n",
      "Frame 2400, Area G: Risk Level 0.0\n",
      "Frame 2400, Area H: Risk Level 0.0\n",
      "Frame 2400, Area I: Risk Level 0.0\n",
      "Frame 2450, Area A: Risk Level 0.1\n",
      "Frame 2450, Area B: Risk Level 0.6\n",
      "Frame 2450, Area C: Risk Level 0.0\n",
      "Frame 2450, Area D: Risk Level 0.6\n",
      "Frame 2450, Area E: Risk Level 0.6\n",
      "Frame 2450, Area F: Risk Level 0.3\n",
      "Frame 2450, Area G: Risk Level 0.0\n",
      "Frame 2450, Area H: Risk Level 0.0\n",
      "Frame 2450, Area I: Risk Level 0.0\n",
      "Frame 2500, Area A: Risk Level 0.1\n",
      "Frame 2500, Area B: Risk Level 0.6\n",
      "Frame 2500, Area C: Risk Level 0.0\n",
      "Frame 2500, Area D: Risk Level 0.6\n",
      "Frame 2500, Area E: Risk Level 0.6\n",
      "Frame 2500, Area F: Risk Level 0.3\n",
      "Frame 2500, Area G: Risk Level 0.0\n",
      "Frame 2500, Area H: Risk Level 0.0\n",
      "Frame 2500, Area I: Risk Level 0.0\n",
      "Frame 2550, Area A: Risk Level 0.1\n",
      "Frame 2550, Area B: Risk Level 0.6\n",
      "Frame 2550, Area C: Risk Level 0.0\n",
      "Frame 2550, Area D: Risk Level 0.6\n",
      "Frame 2550, Area E: Risk Level 0.6\n",
      "Frame 2550, Area F: Risk Level 0.3\n",
      "Frame 2550, Area G: Risk Level 0.0\n",
      "Frame 2550, Area H: Risk Level 0.0\n",
      "Frame 2550, Area I: Risk Level 0.0\n",
      "Frame 2600, Area A: Risk Level 0.1\n",
      "Frame 2600, Area B: Risk Level 0.6\n",
      "Frame 2600, Area C: Risk Level 0.0\n",
      "Frame 2600, Area D: Risk Level 0.6\n",
      "Frame 2600, Area E: Risk Level 0.6\n",
      "Frame 2600, Area F: Risk Level 0.3\n",
      "Frame 2600, Area G: Risk Level 0.0\n",
      "Frame 2600, Area H: Risk Level 0.0\n",
      "Frame 2600, Area I: Risk Level 0.0\n",
      "Frame 2650, Area A: Risk Level 0.1\n",
      "Frame 2650, Area B: Risk Level 0.6\n",
      "Frame 2650, Area C: Risk Level 0.0\n",
      "Frame 2650, Area D: Risk Level 0.6\n",
      "Frame 2650, Area E: Risk Level 0.6\n",
      "Frame 2650, Area F: Risk Level 0.3\n",
      "Frame 2650, Area G: Risk Level 0.0\n",
      "Frame 2650, Area H: Risk Level 0.0\n",
      "Frame 2650, Area I: Risk Level 0.0\n",
      "Frame 2700, Area A: Risk Level 0.1\n",
      "Frame 2700, Area B: Risk Level 0.6\n",
      "Frame 2700, Area C: Risk Level 0.0\n",
      "Frame 2700, Area D: Risk Level 0.6\n",
      "Frame 2700, Area E: Risk Level 0.6\n",
      "Frame 2700, Area F: Risk Level 0.3\n",
      "Frame 2700, Area G: Risk Level 0.0\n",
      "Frame 2700, Area H: Risk Level 0.0\n",
      "Frame 2700, Area I: Risk Level 0.0\n",
      "Frame 2750, Area A: Risk Level 0.1\n",
      "Frame 2750, Area B: Risk Level 0.6\n",
      "Frame 2750, Area C: Risk Level 0.0\n",
      "Frame 2750, Area D: Risk Level 0.6\n",
      "Frame 2750, Area E: Risk Level 0.6\n",
      "Frame 2750, Area F: Risk Level 0.3\n",
      "Frame 2750, Area G: Risk Level 0.0\n",
      "Frame 2750, Area H: Risk Level 0.0\n",
      "Frame 2750, Area I: Risk Level 0.0\n",
      "Frame 2800, Area A: Risk Level 0.1\n",
      "Frame 2800, Area B: Risk Level 0.6\n",
      "Frame 2800, Area C: Risk Level 0.0\n",
      "Frame 2800, Area D: Risk Level 0.6\n",
      "Frame 2800, Area E: Risk Level 0.6\n",
      "Frame 2800, Area F: Risk Level 0.3\n",
      "Frame 2800, Area G: Risk Level 0.0\n",
      "Frame 2800, Area H: Risk Level 0.0\n",
      "Frame 2800, Area I: Risk Level 0.0\n",
      "Frame 2850, Area A: Risk Level 0.1\n",
      "Frame 2850, Area B: Risk Level 0.6\n",
      "Frame 2850, Area C: Risk Level 0.0\n",
      "Frame 2850, Area D: Risk Level 0.6\n",
      "Frame 2850, Area E: Risk Level 0.6\n",
      "Frame 2850, Area F: Risk Level 0.3\n",
      "Frame 2850, Area G: Risk Level 0.0\n",
      "Frame 2850, Area H: Risk Level 0.0\n",
      "Frame 2850, Area I: Risk Level 0.0\n",
      "Frame 2900, Area A: Risk Level 0.1\n",
      "Frame 2900, Area B: Risk Level 0.6\n",
      "Frame 2900, Area C: Risk Level 0.0\n",
      "Frame 2900, Area D: Risk Level 0.6\n",
      "Frame 2900, Area E: Risk Level 0.6\n",
      "Frame 2900, Area F: Risk Level 0.3\n",
      "Frame 2900, Area G: Risk Level 0.0\n",
      "Frame 2900, Area H: Risk Level 0.0\n",
      "Frame 2900, Area I: Risk Level 0.0\n",
      "Frame 2950, Area A: Risk Level 0.1\n",
      "Frame 2950, Area B: Risk Level 0.6\n",
      "Frame 2950, Area C: Risk Level 0.0\n",
      "Frame 2950, Area D: Risk Level 0.6\n",
      "Frame 2950, Area E: Risk Level 0.6\n",
      "Frame 2950, Area F: Risk Level 0.3\n",
      "Frame 2950, Area G: Risk Level 0.0\n",
      "Frame 2950, Area H: Risk Level 0.0\n",
      "Frame 2950, Area I: Risk Level 0.0\n",
      "Frame 3000, Area A: Risk Level 0.1\n",
      "Frame 3000, Area B: Risk Level 0.6\n",
      "Frame 3000, Area C: Risk Level 0.0\n",
      "Frame 3000, Area D: Risk Level 0.6\n",
      "Frame 3000, Area E: Risk Level 0.6\n",
      "Frame 3000, Area F: Risk Level 0.3\n",
      "Frame 3000, Area G: Risk Level 0.0\n",
      "Frame 3000, Area H: Risk Level 0.0\n",
      "Frame 3000, Area I: Risk Level 0.0\n"
     ]
    }
   ],
   "source": [
    "# Open the database connection safely\n",
    "with sqlite3.connect(connection_file) as connection:\n",
    "    # Fetch all risk data grouped by frame\n",
    "    all_risks = get_risks_grouped_by_frame(connection)\n",
    "\n",
    "    # Iterate over the nested dictionary\n",
    "    for frame, areas in all_risks.items():  # 'areas' is a dictionary {area: risk_level}\n",
    "        for area, risk in areas.items():\n",
    "            print(f\"Frame {frame}, Area {area}: Risk Level {risk}\")\n",
    "\n",
    "# Connection automatically closes when 'with' block ends"
   ],
   "metadata": {
    "collapsed": false
   }
  },
  {
   "cell_type": "markdown",
   "source": [
    "## Visualizing Agent Pathways"
   ],
   "metadata": {
    "collapsed": false
   }
  },
  {
   "cell_type": "code",
   "execution_count": 77,
   "outputs": [
    {
     "data": {
      "application/vnd.plotly.v1+json": {
       "data": [
        {
         "hoverinfo": "name",
         "line": {
          "color": "white"
         },
         "mode": "lines",
         "name": "Exterior",
         "showlegend": false,
         "x": [
          10.1,
          10.1,
          15.0,
          15.0,
          13.6,
          13.6,
          15.0,
          15.0,
          13.6,
          13.6,
          15.0,
          15.0,
          10.1,
          10.1,
          9.9,
          9.9,
          5.1,
          5.1,
          4.9,
          4.9,
          0.0,
          0.0,
          1.5,
          1.5,
          0.0,
          0.0,
          1.5,
          1.5,
          0.0,
          0.0,
          4.9,
          4.9,
          5.1,
          5.1,
          9.9,
          9.9,
          10.1
         ],
         "y": [
          1.5,
          0.0,
          0.0,
          4.9,
          4.9,
          5.1,
          5.1,
          9.9,
          9.9,
          10.1,
          10.1,
          15.0,
          15.0,
          13.6,
          13.6,
          15.0,
          15.0,
          13.6,
          13.6,
          15.0,
          15.0,
          10.1,
          10.1,
          9.9,
          9.9,
          5.1,
          5.1,
          4.9,
          4.9,
          0.0,
          0.0,
          1.5,
          1.5,
          0.0,
          0.0,
          1.5,
          1.5
         ],
         "type": "scatter"
        },
        {
         "hoverinfo": "name",
         "line": {
          "color": "white"
         },
         "mode": "lines",
         "name": "Obstacle",
         "showlegend": false,
         "x": [
          10.1,
          11.5,
          11.5,
          10.1,
          10.1,
          9.9,
          9.9,
          8.6,
          8.6,
          9.9,
          9.9,
          10.1,
          10.1
         ],
         "y": [
          5.1,
          5.1,
          4.9,
          4.9,
          3.6,
          3.6,
          4.9,
          4.9,
          5.1,
          5.1,
          6.5,
          6.5,
          5.1
         ],
         "type": "scatter"
        },
        {
         "hoverinfo": "name",
         "line": {
          "color": "white"
         },
         "mode": "lines",
         "name": "Obstacle",
         "showlegend": false,
         "x": [
          10.1,
          11.5,
          11.5,
          10.1,
          10.1,
          9.9,
          9.9,
          8.6,
          8.6,
          9.9,
          9.9,
          10.1,
          10.1
         ],
         "y": [
          10.1,
          10.1,
          9.9,
          9.9,
          8.6,
          8.6,
          9.9,
          9.9,
          10.1,
          10.1,
          11.5,
          11.5,
          10.1
         ],
         "type": "scatter"
        },
        {
         "hoverinfo": "name",
         "line": {
          "color": "white"
         },
         "mode": "lines",
         "name": "Obstacle",
         "showlegend": false,
         "x": [
          5.1,
          6.4,
          6.4,
          5.1,
          5.1,
          4.9,
          4.9,
          3.6,
          3.6,
          4.9,
          4.9,
          5.1,
          5.1
         ],
         "y": [
          5.1,
          5.1,
          4.9,
          4.9,
          3.6,
          3.6,
          4.9,
          4.9,
          5.1,
          5.1,
          6.5,
          6.5,
          5.1
         ],
         "type": "scatter"
        },
        {
         "hoverinfo": "name",
         "line": {
          "color": "white"
         },
         "mode": "lines",
         "name": "Obstacle",
         "showlegend": false,
         "x": [
          5.1,
          6.4,
          6.4,
          5.1,
          5.1,
          4.9,
          4.9,
          3.6,
          3.6,
          4.9,
          4.9,
          5.1,
          5.1
         ],
         "y": [
          10.1,
          10.1,
          9.9,
          9.9,
          8.6,
          8.6,
          9.9,
          9.9,
          10.1,
          10.1,
          11.5,
          11.5,
          10.1
         ],
         "type": "scatter"
        },
        {
         "fill": "toself",
         "fillcolor": "rgb(0, 0, 0)",
         "hoverinfo": "name",
         "line": {
          "width": 0
         },
         "mode": "lines",
         "name": "Risk Area",
         "showlegend": false,
         "x": [
          1.5,
          1.5,
          3.6,
          3.6,
          4.9,
          4.9,
          5.0,
          5.0,
          4.9,
          4.9,
          0.0,
          0.0,
          1.5
         ],
         "y": [
          4.9,
          5.0,
          5.0,
          4.9,
          4.9,
          3.6,
          3.6,
          1.5,
          1.5,
          0.0,
          0.0,
          4.9,
          4.9
         ],
         "type": "scatter"
        },
        {
         "fill": "toself",
         "fillcolor": "rgb(153, 0, 0)",
         "hoverinfo": "name",
         "line": {
          "width": 0
         },
         "mode": "lines",
         "name": "Risk Area",
         "showlegend": false,
         "x": [
          9.9,
          9.9,
          5.1,
          5.1,
          5.0,
          5.0,
          5.1,
          5.1,
          6.4,
          6.4,
          8.6,
          8.6,
          9.9,
          9.9,
          10.0,
          10.0,
          9.9
         ],
         "y": [
          1.5,
          0.0,
          0.0,
          1.5,
          1.5,
          3.6,
          3.6,
          4.9,
          4.9,
          5.0,
          5.0,
          4.9,
          4.9,
          3.6,
          3.6,
          1.5,
          1.5
         ],
         "type": "scatter"
        },
        {
         "fill": "toself",
         "fillcolor": "rgb(0, 0, 0)",
         "hoverinfo": "name",
         "line": {
          "width": 0
         },
         "mode": "lines",
         "name": "Risk Area",
         "showlegend": false,
         "x": [
          13.6,
          15.0,
          15.0,
          10.1,
          10.1,
          10.0,
          10.0,
          10.1,
          10.1,
          11.5,
          11.5,
          13.6,
          13.6
         ],
         "y": [
          4.9,
          4.9,
          0.0,
          0.0,
          1.5,
          1.5,
          3.6,
          3.6,
          4.9,
          4.9,
          5.0,
          5.0,
          4.9
         ],
         "type": "scatter"
        },
        {
         "fill": "toself",
         "fillcolor": "rgb(153, 0, 0)",
         "hoverinfo": "name",
         "line": {
          "width": 0
         },
         "mode": "lines",
         "name": "Risk Area",
         "showlegend": false,
         "x": [
          13.6,
          15.0,
          15.0,
          13.6,
          13.6,
          11.5,
          11.5,
          10.1,
          10.1,
          10.0,
          10.0,
          10.1,
          10.1,
          11.5,
          11.5,
          13.6,
          13.6
         ],
         "y": [
          9.9,
          9.9,
          5.1,
          5.1,
          5.0,
          5.0,
          5.1,
          5.1,
          6.5,
          6.5,
          8.6,
          8.6,
          9.9,
          9.9,
          10.0,
          10.0,
          9.9
         ],
         "type": "scatter"
        },
        {
         "fill": "toself",
         "fillcolor": "rgb(153, 0, 0)",
         "hoverinfo": "name",
         "line": {
          "width": 0
         },
         "mode": "lines",
         "name": "Risk Area",
         "showlegend": false,
         "x": [
          9.9,
          9.9,
          8.6,
          8.6,
          6.4,
          6.4,
          5.1,
          5.1,
          5.0,
          5.0,
          5.1,
          5.1,
          6.4,
          6.4,
          8.6,
          8.6,
          9.9,
          9.9,
          10.0,
          10.0,
          9.9
         ],
         "y": [
          6.5,
          5.1,
          5.1,
          5.0,
          5.0,
          5.1,
          5.1,
          6.5,
          6.5,
          8.6,
          8.6,
          9.9,
          9.9,
          10.0,
          10.0,
          9.9,
          9.9,
          8.6,
          8.6,
          6.5,
          6.5
         ],
         "type": "scatter"
        },
        {
         "fill": "toself",
         "fillcolor": "rgb(25, 0, 0)",
         "hoverinfo": "name",
         "line": {
          "width": 0
         },
         "mode": "lines",
         "name": "Risk Area",
         "showlegend": false,
         "x": [
          4.9,
          4.9,
          3.6,
          3.6,
          1.5,
          1.5,
          0.0,
          0.0,
          1.5,
          1.5,
          3.6,
          3.6,
          4.9,
          4.9,
          5.0,
          5.0,
          4.9
         ],
         "y": [
          6.5,
          5.1,
          5.1,
          5.0,
          5.0,
          5.1,
          5.1,
          9.9,
          9.9,
          10.0,
          10.0,
          9.9,
          9.9,
          8.6,
          8.6,
          6.5,
          6.5
         ],
         "type": "scatter"
        },
        {
         "fill": "toself",
         "fillcolor": "rgb(0, 0, 0)",
         "hoverinfo": "name",
         "line": {
          "width": 0
         },
         "mode": "lines",
         "name": "Risk Area",
         "showlegend": false,
         "x": [
          1.5,
          0.0,
          0.0,
          4.9,
          4.9,
          5.0,
          5.0,
          4.9,
          4.9,
          3.6,
          3.6,
          1.5,
          1.5
         ],
         "y": [
          10.1,
          10.1,
          15.0,
          15.0,
          13.6,
          13.6,
          11.5,
          11.5,
          10.1,
          10.1,
          10.0,
          10.0,
          10.1
         ],
         "type": "scatter"
        },
        {
         "fill": "toself",
         "fillcolor": "rgb(0, 0, 0)",
         "hoverinfo": "name",
         "line": {
          "width": 0
         },
         "mode": "lines",
         "name": "Risk Area",
         "showlegend": false,
         "x": [
          6.4,
          5.1,
          5.1,
          5.0,
          5.0,
          5.1,
          5.1,
          9.9,
          9.9,
          10.0,
          10.0,
          9.9,
          9.9,
          8.6,
          8.6,
          6.4,
          6.4
         ],
         "y": [
          10.1,
          10.1,
          11.5,
          11.5,
          13.6,
          13.6,
          15.0,
          15.0,
          13.6,
          13.6,
          11.5,
          11.5,
          10.1,
          10.1,
          10.0,
          10.0,
          10.1
         ],
         "type": "scatter"
        },
        {
         "fill": "toself",
         "fillcolor": "rgb(0, 0, 0)",
         "hoverinfo": "name",
         "line": {
          "width": 0
         },
         "mode": "lines",
         "name": "Risk Area",
         "showlegend": false,
         "x": [
          10.1,
          10.1,
          15.0,
          15.0,
          13.6,
          13.6,
          11.5,
          11.5,
          10.1,
          10.1,
          10.0,
          10.0,
          10.1
         ],
         "y": [
          13.6,
          15.0,
          15.0,
          10.1,
          10.1,
          10.0,
          10.0,
          10.1,
          10.1,
          11.5,
          11.5,
          13.6,
          13.6
         ],
         "type": "scatter"
        },
        {
         "hoverinfo": "none",
         "marker": {
          "cmax": 0.8000000000000099,
          "cmin": 0,
          "color": [
           0.7999994864394313,
           0.7999983356494891,
           0.24784275132615918,
           0.7824159302905853,
           0.10969839098487229,
           0.79540299230253,
           0.7999925708421116,
           0.7999999999997144,
           0.07990551794704795,
           0.14522267351382698
          ],
          "colorbar": {
           "title": {
            "text": "Speed [m/s]"
           }
          },
          "colorscale": [
           [
            0.0,
            "rgb(128,0,0)"
           ],
           [
            0.2,
            "rgb(250,0,0)"
           ],
           [
            0.4,
            "rgb(255,255,0)"
           ],
           [
            0.6,
            "rgb(5,255,255)"
           ],
           [
            0.8,
            "rgb(0,60,170)"
           ],
           [
            1.0,
            "rgb(0,0,131)"
           ]
          ],
          "size": [
           0.4,
           0.4,
           0.4,
           0.4,
           0.4,
           0.4,
           0.4,
           0.4,
           0.4,
           0.4
          ]
         },
         "mode": "markers",
         "showlegend": false,
         "text": [
          0.7999994864394313,
          0.7999983356494891,
          0.24784275132615918,
          0.7824159302905853,
          0.10969839098487229,
          0.79540299230253,
          0.7999925708421116,
          0.7999999999997144,
          0.07990551794704795,
          0.14522267351382698
         ],
         "x": [
          3.9863327738146737,
          0.8488279016949318,
          1.7258968673840784,
          2.116160882427272,
          1.692259232863783,
          1.453767774845684,
          3.0719865838614573,
          3.48879726462054,
          1.7042831428492793,
          1.7565776142251517
         ],
         "y": [
          4.268834270066489,
          1.6370406488593048,
          1.5962220773638665,
          3.5204353653542206,
          2.7972929381969065,
          3.6607508930614516,
          4.234745501580994,
          1.9561046634672852,
          3.3139640340517103,
          2.253852105302265
         ],
         "type": "scatter"
        },
        {
         "hoverinfo": "none",
         "marker": {
          "cmax": 1,
          "cmin": 0,
          "color": [
           0
          ],
          "colorbar": {
           "title": {
            "text": "Risk Level"
           },
           "x": 1.25
          },
          "colorscale": [
           [
            0.0,
            "rgb(0, 0, 0)"
           ],
           [
            0.1,
            "rgb(25, 0, 0)"
           ],
           [
            0.2,
            "rgb(51, 0, 0)"
           ],
           [
            0.3,
            "rgb(76, 0, 0)"
           ],
           [
            0.4,
            "rgb(102, 0, 0)"
           ],
           [
            0.5,
            "rgb(127, 0, 0)"
           ],
           [
            0.6,
            "rgb(153, 0, 0)"
           ],
           [
            0.7,
            "rgb(178, 0, 0)"
           ],
           [
            0.8,
            "rgb(204, 0, 0)"
           ],
           [
            0.9,
            "rgb(229, 0, 0)"
           ],
           [
            1.0,
            "rgb(255, 0, 0)"
           ]
          ],
          "size": 10
         },
         "mode": "markers",
         "showlegend": false,
         "x": [
          0
         ],
         "y": [
          0
         ],
         "type": "scatter"
        },
        {
         "hoverinfo": "text",
         "marker": {
          "opacity": 1,
          "size": 1
         },
         "mode": "markers",
         "showlegend": false,
         "text": [
          "ID: 11, Pos(3.99,4.27)"
         ],
         "x": [
          3.9863327738146737
         ],
         "y": [
          4.268834270066489
         ],
         "type": "scatter"
        },
        {
         "hoverinfo": "text",
         "marker": {
          "opacity": 1,
          "size": 1
         },
         "mode": "markers",
         "showlegend": false,
         "text": [
          "ID: 12, Pos(0.85,1.64)"
         ],
         "x": [
          0.8488279016949318
         ],
         "y": [
          1.6370406488593048
         ],
         "type": "scatter"
        },
        {
         "hoverinfo": "text",
         "marker": {
          "opacity": 1,
          "size": 1
         },
         "mode": "markers",
         "showlegend": false,
         "text": [
          "ID: 13, Pos(1.73,1.60)"
         ],
         "x": [
          1.7258968673840784
         ],
         "y": [
          1.5962220773638665
         ],
         "type": "scatter"
        },
        {
         "hoverinfo": "text",
         "marker": {
          "opacity": 1,
          "size": 1
         },
         "mode": "markers",
         "showlegend": false,
         "text": [
          "ID: 14, Pos(2.12,3.52)"
         ],
         "x": [
          2.116160882427272
         ],
         "y": [
          3.5204353653542206
         ],
         "type": "scatter"
        },
        {
         "hoverinfo": "text",
         "marker": {
          "opacity": 1,
          "size": 1
         },
         "mode": "markers",
         "showlegend": false,
         "text": [
          "ID: 15, Pos(1.69,2.80)"
         ],
         "x": [
          1.692259232863783
         ],
         "y": [
          2.7972929381969065
         ],
         "type": "scatter"
        },
        {
         "hoverinfo": "text",
         "marker": {
          "opacity": 1,
          "size": 1
         },
         "mode": "markers",
         "showlegend": false,
         "text": [
          "ID: 16, Pos(1.45,3.66)"
         ],
         "x": [
          1.453767774845684
         ],
         "y": [
          3.6607508930614516
         ],
         "type": "scatter"
        },
        {
         "hoverinfo": "text",
         "marker": {
          "opacity": 1,
          "size": 1
         },
         "mode": "markers",
         "showlegend": false,
         "text": [
          "ID: 17, Pos(3.07,4.23)"
         ],
         "x": [
          3.0719865838614573
         ],
         "y": [
          4.234745501580994
         ],
         "type": "scatter"
        },
        {
         "hoverinfo": "text",
         "marker": {
          "opacity": 1,
          "size": 1
         },
         "mode": "markers",
         "showlegend": false,
         "text": [
          "ID: 18, Pos(3.49,1.96)"
         ],
         "x": [
          3.48879726462054
         ],
         "y": [
          1.9561046634672852
         ],
         "type": "scatter"
        },
        {
         "hoverinfo": "text",
         "marker": {
          "opacity": 1,
          "size": 1
         },
         "mode": "markers",
         "showlegend": false,
         "text": [
          "ID: 19, Pos(1.70,3.31)"
         ],
         "x": [
          1.7042831428492793
         ],
         "y": [
          3.3139640340517103
         ],
         "type": "scatter"
        },
        {
         "hoverinfo": "text",
         "marker": {
          "opacity": 1,
          "size": 1
         },
         "mode": "markers",
         "showlegend": false,
         "text": [
          "ID: 20, Pos(1.76,2.25)"
         ],
         "x": [
          1.7565776142251517
         ],
         "y": [
          2.253852105302265
         ],
         "type": "scatter"
        }
       ],
       "layout": {
        "shapes": [
         {
          "fillcolor": "rgba(0, 0, 128, 0.5)",
          "line": {
           "color": "rgba(0, 0, 128, 0.5)"
          },
          "type": "circle",
          "x0": 3.7863327738146735,
          "x1": 4.186332773814674,
          "xref": "x",
          "y0": 4.068834270066489,
          "y1": 4.468834270066489,
          "yref": "y"
         },
         {
          "fillcolor": "rgba(0, 0, 128, 0.5)",
          "line": {
           "color": "rgba(0, 0, 128, 0.5)"
          },
          "type": "circle",
          "x0": 0.6488279016949319,
          "x1": 1.0488279016949318,
          "xref": "x",
          "y0": 1.4370406488593048,
          "y1": 1.8370406488593047,
          "yref": "y"
         },
         {
          "fillcolor": "rgba(255, 134, 0, 0.5)",
          "line": {
           "color": "rgba(255, 134, 0, 0.5)"
          },
          "type": "circle",
          "x0": 1.5258968673840785,
          "x1": 1.9258968673840784,
          "xref": "x",
          "y0": 1.3962220773638665,
          "y1": 1.7962220773638664,
          "yref": "y"
         },
         {
          "fillcolor": "rgba(0, 0, 155, 0.5)",
          "line": {
           "color": "rgba(0, 0, 155, 0.5)"
          },
          "type": "circle",
          "x0": 1.916160882427272,
          "x1": 2.316160882427272,
          "xref": "x",
          "y0": 3.3204353653542205,
          "y1": 3.720435365354221,
          "yref": "y"
         },
         {
          "fillcolor": "rgba(173, 0, 0, 0.5)",
          "line": {
           "color": "rgba(173, 0, 0, 0.5)"
          },
          "type": "circle",
          "x0": 1.4922592328637831,
          "x1": 1.892259232863783,
          "xref": "x",
          "y0": 2.5972929381969063,
          "y1": 2.9972929381969067,
          "yref": "y"
         },
         {
          "fillcolor": "rgba(0, 0, 132, 0.5)",
          "line": {
           "color": "rgba(0, 0, 132, 0.5)"
          },
          "type": "circle",
          "x0": 1.2537677748456841,
          "x1": 1.653767774845684,
          "xref": "x",
          "y0": 3.4607508930614514,
          "y1": 3.860750893061452,
          "yref": "y"
         },
         {
          "fillcolor": "rgba(0, 0, 128, 0.5)",
          "line": {
           "color": "rgba(0, 0, 128, 0.5)"
          },
          "type": "circle",
          "x0": 2.871986583861457,
          "x1": 3.2719865838614575,
          "xref": "x",
          "y0": 4.034745501580994,
          "y1": 4.434745501580994,
          "yref": "y"
         },
         {
          "fillcolor": "rgba(0, 0, 128, 0.5)",
          "line": {
           "color": "rgba(0, 0, 128, 0.5)"
          },
          "type": "circle",
          "x0": 3.28879726462054,
          "x1": 3.6887972646205403,
          "xref": "x",
          "y0": 1.7561046634672852,
          "y1": 2.156104663467285,
          "yref": "y"
         },
         {
          "fillcolor": "rgba(128, 0, 0, 0.5)",
          "line": {
           "color": "rgba(128, 0, 0, 0.5)"
          },
          "type": "circle",
          "x0": 1.5042831428492793,
          "x1": 1.9042831428492792,
          "xref": "x",
          "y0": 3.11396403405171,
          "y1": 3.5139640340517104,
          "yref": "y"
         },
         {
          "fillcolor": "rgba(232, 0, 0, 0.5)",
          "line": {
           "color": "rgba(232, 0, 0, 0.5)"
          },
          "type": "circle",
          "x0": 1.5565776142251517,
          "x1": 1.9565776142251516,
          "xref": "x",
          "y0": 2.0538521053022647,
          "y1": 2.453852105302265,
          "yref": "y"
         },
         {
          "line": {
           "color": "white",
           "width": 3
          },
          "type": "line",
          "x0": 3.9863327738146737,
          "x1": 3.9863327738146737,
          "y0": 4.268834270066489,
          "y1": 4.268834270066489
         },
         {
          "line": {
           "color": "white",
           "width": 3
          },
          "type": "line",
          "x0": 0.8488279016949318,
          "x1": 0.8488279016949318,
          "y0": 1.6370406488593048,
          "y1": 1.6370406488593048
         },
         {
          "line": {
           "color": "black",
           "width": 3
          },
          "type": "line",
          "x0": 1.7258968673840784,
          "x1": 1.7258968673840784,
          "y0": 1.5962220773638665,
          "y1": 1.5962220773638665
         },
         {
          "line": {
           "color": "white",
           "width": 3
          },
          "type": "line",
          "x0": 2.116160882427272,
          "x1": 2.116160882427272,
          "y0": 3.5204353653542206,
          "y1": 3.5204353653542206
         },
         {
          "line": {
           "color": "white",
           "width": 3
          },
          "type": "line",
          "x0": 1.692259232863783,
          "x1": 1.692259232863783,
          "y0": 2.7972929381969065,
          "y1": 2.7972929381969065
         },
         {
          "line": {
           "color": "white",
           "width": 3
          },
          "type": "line",
          "x0": 1.453767774845684,
          "x1": 1.453767774845684,
          "y0": 3.6607508930614516,
          "y1": 3.6607508930614516
         },
         {
          "line": {
           "color": "white",
           "width": 3
          },
          "type": "line",
          "x0": 3.0719865838614573,
          "x1": 3.0719865838614573,
          "y0": 4.234745501580994,
          "y1": 4.234745501580994
         },
         {
          "line": {
           "color": "white",
           "width": 3
          },
          "type": "line",
          "x0": 3.48879726462054,
          "x1": 3.48879726462054,
          "y0": 1.9561046634672852,
          "y1": 1.9561046634672852
         },
         {
          "line": {
           "color": "white",
           "width": 3
          },
          "type": "line",
          "x0": 1.7042831428492793,
          "x1": 1.7042831428492793,
          "y0": 3.3139640340517103,
          "y1": 3.3139640340517103
         },
         {
          "line": {
           "color": "white",
           "width": 3
          },
          "type": "line",
          "x0": 1.7565776142251517,
          "x1": 1.7565776142251517,
          "y0": 2.253852105302265,
          "y1": 2.253852105302265
         }
        ],
        "title": {
         "text": "<b>Mode: Low_knowledge_shortest_path  |  Number of Agents: 10</b>",
         "x": 0.5
        },
        "template": {
         "data": {
          "histogram2dcontour": [
           {
            "type": "histogram2dcontour",
            "colorbar": {
             "outlinewidth": 0,
             "ticks": ""
            },
            "colorscale": [
             [
              0.0,
              "#0d0887"
             ],
             [
              0.1111111111111111,
              "#46039f"
             ],
             [
              0.2222222222222222,
              "#7201a8"
             ],
             [
              0.3333333333333333,
              "#9c179e"
             ],
             [
              0.4444444444444444,
              "#bd3786"
             ],
             [
              0.5555555555555556,
              "#d8576b"
             ],
             [
              0.6666666666666666,
              "#ed7953"
             ],
             [
              0.7777777777777778,
              "#fb9f3a"
             ],
             [
              0.8888888888888888,
              "#fdca26"
             ],
             [
              1.0,
              "#f0f921"
             ]
            ]
           }
          ],
          "choropleth": [
           {
            "type": "choropleth",
            "colorbar": {
             "outlinewidth": 0,
             "ticks": ""
            }
           }
          ],
          "histogram2d": [
           {
            "type": "histogram2d",
            "colorbar": {
             "outlinewidth": 0,
             "ticks": ""
            },
            "colorscale": [
             [
              0.0,
              "#0d0887"
             ],
             [
              0.1111111111111111,
              "#46039f"
             ],
             [
              0.2222222222222222,
              "#7201a8"
             ],
             [
              0.3333333333333333,
              "#9c179e"
             ],
             [
              0.4444444444444444,
              "#bd3786"
             ],
             [
              0.5555555555555556,
              "#d8576b"
             ],
             [
              0.6666666666666666,
              "#ed7953"
             ],
             [
              0.7777777777777778,
              "#fb9f3a"
             ],
             [
              0.8888888888888888,
              "#fdca26"
             ],
             [
              1.0,
              "#f0f921"
             ]
            ]
           }
          ],
          "heatmap": [
           {
            "type": "heatmap",
            "colorbar": {
             "outlinewidth": 0,
             "ticks": ""
            },
            "colorscale": [
             [
              0.0,
              "#0d0887"
             ],
             [
              0.1111111111111111,
              "#46039f"
             ],
             [
              0.2222222222222222,
              "#7201a8"
             ],
             [
              0.3333333333333333,
              "#9c179e"
             ],
             [
              0.4444444444444444,
              "#bd3786"
             ],
             [
              0.5555555555555556,
              "#d8576b"
             ],
             [
              0.6666666666666666,
              "#ed7953"
             ],
             [
              0.7777777777777778,
              "#fb9f3a"
             ],
             [
              0.8888888888888888,
              "#fdca26"
             ],
             [
              1.0,
              "#f0f921"
             ]
            ]
           }
          ],
          "heatmapgl": [
           {
            "type": "heatmapgl",
            "colorbar": {
             "outlinewidth": 0,
             "ticks": ""
            },
            "colorscale": [
             [
              0.0,
              "#0d0887"
             ],
             [
              0.1111111111111111,
              "#46039f"
             ],
             [
              0.2222222222222222,
              "#7201a8"
             ],
             [
              0.3333333333333333,
              "#9c179e"
             ],
             [
              0.4444444444444444,
              "#bd3786"
             ],
             [
              0.5555555555555556,
              "#d8576b"
             ],
             [
              0.6666666666666666,
              "#ed7953"
             ],
             [
              0.7777777777777778,
              "#fb9f3a"
             ],
             [
              0.8888888888888888,
              "#fdca26"
             ],
             [
              1.0,
              "#f0f921"
             ]
            ]
           }
          ],
          "contourcarpet": [
           {
            "type": "contourcarpet",
            "colorbar": {
             "outlinewidth": 0,
             "ticks": ""
            }
           }
          ],
          "contour": [
           {
            "type": "contour",
            "colorbar": {
             "outlinewidth": 0,
             "ticks": ""
            },
            "colorscale": [
             [
              0.0,
              "#0d0887"
             ],
             [
              0.1111111111111111,
              "#46039f"
             ],
             [
              0.2222222222222222,
              "#7201a8"
             ],
             [
              0.3333333333333333,
              "#9c179e"
             ],
             [
              0.4444444444444444,
              "#bd3786"
             ],
             [
              0.5555555555555556,
              "#d8576b"
             ],
             [
              0.6666666666666666,
              "#ed7953"
             ],
             [
              0.7777777777777778,
              "#fb9f3a"
             ],
             [
              0.8888888888888888,
              "#fdca26"
             ],
             [
              1.0,
              "#f0f921"
             ]
            ]
           }
          ],
          "surface": [
           {
            "type": "surface",
            "colorbar": {
             "outlinewidth": 0,
             "ticks": ""
            },
            "colorscale": [
             [
              0.0,
              "#0d0887"
             ],
             [
              0.1111111111111111,
              "#46039f"
             ],
             [
              0.2222222222222222,
              "#7201a8"
             ],
             [
              0.3333333333333333,
              "#9c179e"
             ],
             [
              0.4444444444444444,
              "#bd3786"
             ],
             [
              0.5555555555555556,
              "#d8576b"
             ],
             [
              0.6666666666666666,
              "#ed7953"
             ],
             [
              0.7777777777777778,
              "#fb9f3a"
             ],
             [
              0.8888888888888888,
              "#fdca26"
             ],
             [
              1.0,
              "#f0f921"
             ]
            ]
           }
          ],
          "mesh3d": [
           {
            "type": "mesh3d",
            "colorbar": {
             "outlinewidth": 0,
             "ticks": ""
            }
           }
          ],
          "scatter": [
           {
            "marker": {
             "line": {
              "color": "#283442"
             }
            },
            "type": "scatter"
           }
          ],
          "parcoords": [
           {
            "type": "parcoords",
            "line": {
             "colorbar": {
              "outlinewidth": 0,
              "ticks": ""
             }
            }
           }
          ],
          "scatterpolargl": [
           {
            "type": "scatterpolargl",
            "marker": {
             "colorbar": {
              "outlinewidth": 0,
              "ticks": ""
             }
            }
           }
          ],
          "bar": [
           {
            "error_x": {
             "color": "#f2f5fa"
            },
            "error_y": {
             "color": "#f2f5fa"
            },
            "marker": {
             "line": {
              "color": "rgb(17,17,17)",
              "width": 0.5
             },
             "pattern": {
              "fillmode": "overlay",
              "size": 10,
              "solidity": 0.2
             }
            },
            "type": "bar"
           }
          ],
          "scattergeo": [
           {
            "type": "scattergeo",
            "marker": {
             "colorbar": {
              "outlinewidth": 0,
              "ticks": ""
             }
            }
           }
          ],
          "scatterpolar": [
           {
            "type": "scatterpolar",
            "marker": {
             "colorbar": {
              "outlinewidth": 0,
              "ticks": ""
             }
            }
           }
          ],
          "histogram": [
           {
            "marker": {
             "pattern": {
              "fillmode": "overlay",
              "size": 10,
              "solidity": 0.2
             }
            },
            "type": "histogram"
           }
          ],
          "scattergl": [
           {
            "marker": {
             "line": {
              "color": "#283442"
             }
            },
            "type": "scattergl"
           }
          ],
          "scatter3d": [
           {
            "type": "scatter3d",
            "line": {
             "colorbar": {
              "outlinewidth": 0,
              "ticks": ""
             }
            },
            "marker": {
             "colorbar": {
              "outlinewidth": 0,
              "ticks": ""
             }
            }
           }
          ],
          "scattermapbox": [
           {
            "type": "scattermapbox",
            "marker": {
             "colorbar": {
              "outlinewidth": 0,
              "ticks": ""
             }
            }
           }
          ],
          "scatterternary": [
           {
            "type": "scatterternary",
            "marker": {
             "colorbar": {
              "outlinewidth": 0,
              "ticks": ""
             }
            }
           }
          ],
          "scattercarpet": [
           {
            "type": "scattercarpet",
            "marker": {
             "colorbar": {
              "outlinewidth": 0,
              "ticks": ""
             }
            }
           }
          ],
          "carpet": [
           {
            "aaxis": {
             "endlinecolor": "#A2B1C6",
             "gridcolor": "#506784",
             "linecolor": "#506784",
             "minorgridcolor": "#506784",
             "startlinecolor": "#A2B1C6"
            },
            "baxis": {
             "endlinecolor": "#A2B1C6",
             "gridcolor": "#506784",
             "linecolor": "#506784",
             "minorgridcolor": "#506784",
             "startlinecolor": "#A2B1C6"
            },
            "type": "carpet"
           }
          ],
          "table": [
           {
            "cells": {
             "fill": {
              "color": "#506784"
             },
             "line": {
              "color": "rgb(17,17,17)"
             }
            },
            "header": {
             "fill": {
              "color": "#2a3f5f"
             },
             "line": {
              "color": "rgb(17,17,17)"
             }
            },
            "type": "table"
           }
          ],
          "barpolar": [
           {
            "marker": {
             "line": {
              "color": "rgb(17,17,17)",
              "width": 0.5
             },
             "pattern": {
              "fillmode": "overlay",
              "size": 10,
              "solidity": 0.2
             }
            },
            "type": "barpolar"
           }
          ],
          "pie": [
           {
            "automargin": true,
            "type": "pie"
           }
          ]
         },
         "layout": {
          "autotypenumbers": "strict",
          "colorway": [
           "#636efa",
           "#EF553B",
           "#00cc96",
           "#ab63fa",
           "#FFA15A",
           "#19d3f3",
           "#FF6692",
           "#B6E880",
           "#FF97FF",
           "#FECB52"
          ],
          "font": {
           "color": "#f2f5fa"
          },
          "hovermode": "closest",
          "hoverlabel": {
           "align": "left"
          },
          "paper_bgcolor": "rgb(17,17,17)",
          "plot_bgcolor": "rgb(17,17,17)",
          "polar": {
           "bgcolor": "rgb(17,17,17)",
           "angularaxis": {
            "gridcolor": "#506784",
            "linecolor": "#506784",
            "ticks": ""
           },
           "radialaxis": {
            "gridcolor": "#506784",
            "linecolor": "#506784",
            "ticks": ""
           }
          },
          "ternary": {
           "bgcolor": "rgb(17,17,17)",
           "aaxis": {
            "gridcolor": "#506784",
            "linecolor": "#506784",
            "ticks": ""
           },
           "baxis": {
            "gridcolor": "#506784",
            "linecolor": "#506784",
            "ticks": ""
           },
           "caxis": {
            "gridcolor": "#506784",
            "linecolor": "#506784",
            "ticks": ""
           }
          },
          "coloraxis": {
           "colorbar": {
            "outlinewidth": 0,
            "ticks": ""
           }
          },
          "colorscale": {
           "sequential": [
            [
             0.0,
             "#0d0887"
            ],
            [
             0.1111111111111111,
             "#46039f"
            ],
            [
             0.2222222222222222,
             "#7201a8"
            ],
            [
             0.3333333333333333,
             "#9c179e"
            ],
            [
             0.4444444444444444,
             "#bd3786"
            ],
            [
             0.5555555555555556,
             "#d8576b"
            ],
            [
             0.6666666666666666,
             "#ed7953"
            ],
            [
             0.7777777777777778,
             "#fb9f3a"
            ],
            [
             0.8888888888888888,
             "#fdca26"
            ],
            [
             1.0,
             "#f0f921"
            ]
           ],
           "sequentialminus": [
            [
             0.0,
             "#0d0887"
            ],
            [
             0.1111111111111111,
             "#46039f"
            ],
            [
             0.2222222222222222,
             "#7201a8"
            ],
            [
             0.3333333333333333,
             "#9c179e"
            ],
            [
             0.4444444444444444,
             "#bd3786"
            ],
            [
             0.5555555555555556,
             "#d8576b"
            ],
            [
             0.6666666666666666,
             "#ed7953"
            ],
            [
             0.7777777777777778,
             "#fb9f3a"
            ],
            [
             0.8888888888888888,
             "#fdca26"
            ],
            [
             1.0,
             "#f0f921"
            ]
           ],
           "diverging": [
            [
             0,
             "#8e0152"
            ],
            [
             0.1,
             "#c51b7d"
            ],
            [
             0.2,
             "#de77ae"
            ],
            [
             0.3,
             "#f1b6da"
            ],
            [
             0.4,
             "#fde0ef"
            ],
            [
             0.5,
             "#f7f7f7"
            ],
            [
             0.6,
             "#e6f5d0"
            ],
            [
             0.7,
             "#b8e186"
            ],
            [
             0.8,
             "#7fbc41"
            ],
            [
             0.9,
             "#4d9221"
            ],
            [
             1,
             "#276419"
            ]
           ]
          },
          "xaxis": {
           "gridcolor": "#283442",
           "linecolor": "#506784",
           "ticks": "",
           "title": {
            "standoff": 15
           },
           "zerolinecolor": "#283442",
           "automargin": true,
           "zerolinewidth": 2
          },
          "yaxis": {
           "gridcolor": "#283442",
           "linecolor": "#506784",
           "ticks": "",
           "title": {
            "standoff": 15
           },
           "zerolinecolor": "#283442",
           "automargin": true,
           "zerolinewidth": 2
          },
          "scene": {
           "xaxis": {
            "backgroundcolor": "rgb(17,17,17)",
            "gridcolor": "#506784",
            "linecolor": "#506784",
            "showbackground": true,
            "ticks": "",
            "zerolinecolor": "#C8D4E3",
            "gridwidth": 2
           },
           "yaxis": {
            "backgroundcolor": "rgb(17,17,17)",
            "gridcolor": "#506784",
            "linecolor": "#506784",
            "showbackground": true,
            "ticks": "",
            "zerolinecolor": "#C8D4E3",
            "gridwidth": 2
           },
           "zaxis": {
            "backgroundcolor": "rgb(17,17,17)",
            "gridcolor": "#506784",
            "linecolor": "#506784",
            "showbackground": true,
            "ticks": "",
            "zerolinecolor": "#C8D4E3",
            "gridwidth": 2
           }
          },
          "shapedefaults": {
           "line": {
            "color": "#f2f5fa"
           }
          },
          "annotationdefaults": {
           "arrowcolor": "#f2f5fa",
           "arrowhead": 0,
           "arrowwidth": 1
          },
          "geo": {
           "bgcolor": "rgb(17,17,17)",
           "landcolor": "rgb(17,17,17)",
           "subunitcolor": "#506784",
           "showland": true,
           "showlakes": true,
           "lakecolor": "rgb(17,17,17)"
          },
          "title": {
           "x": 0.05
          },
          "updatemenudefaults": {
           "bgcolor": "#506784",
           "borderwidth": 0
          },
          "sliderdefaults": {
           "bgcolor": "#C8D4E3",
           "borderwidth": 1,
           "bordercolor": "rgb(17,17,17)",
           "tickwidth": 0
          },
          "mapbox": {
           "style": "dark"
          }
         }
        },
        "xaxis": {
         "range": [
          -0.5,
          15.5
         ]
        },
        "yaxis": {
         "scaleanchor": "x",
         "scaleratio": 1,
         "range": [
          -0.5,
          15.5
         ]
        },
        "updatemenus": [
         {
          "buttons": [
           {
            "args": [
             null,
             {
              "frame": {
               "duration": 100,
               "redraw": true
              },
              "fromcurrent": true
             }
            ],
            "label": "Play",
            "method": "animate"
           }
          ],
          "direction": "left",
          "pad": {
           "r": 10,
           "t": 87
          },
          "showactive": false,
          "type": "buttons",
          "x": 0.1,
          "xanchor": "right",
          "y": 0,
          "yanchor": "top"
         }
        ],
        "sliders": [
         {
          "active": 0,
          "currentvalue": {
           "font": {
            "size": 20
           },
           "prefix": "Frame:",
           "visible": true,
           "xanchor": "right"
          },
          "len": 0.9,
          "pad": {
           "b": 10,
           "t": 50
          },
          "steps": [
           {
            "args": [
             [
              "0"
             ],
             {
              "frame": {
               "duration": 100,
               "redraw": true
              },
              "mode": "immediate",
              "transition": {
               "duration": 500
              }
             }
            ],
            "label": "0",
            "method": "animate"
           },
           {
            "args": [
             [
              "50"
             ],
             {
              "frame": {
               "duration": 100,
               "redraw": true
              },
              "mode": "immediate",
              "transition": {
               "duration": 500
              }
             }
            ],
            "label": "50",
            "method": "animate"
           },
           {
            "args": [
             [
              "100"
             ],
             {
              "frame": {
               "duration": 100,
               "redraw": true
              },
              "mode": "immediate",
              "transition": {
               "duration": 500
              }
             }
            ],
            "label": "100",
            "method": "animate"
           },
           {
            "args": [
             [
              "150"
             ],
             {
              "frame": {
               "duration": 100,
               "redraw": true
              },
              "mode": "immediate",
              "transition": {
               "duration": 500
              }
             }
            ],
            "label": "150",
            "method": "animate"
           },
           {
            "args": [
             [
              "200"
             ],
             {
              "frame": {
               "duration": 100,
               "redraw": true
              },
              "mode": "immediate",
              "transition": {
               "duration": 500
              }
             }
            ],
            "label": "200",
            "method": "animate"
           },
           {
            "args": [
             [
              "250"
             ],
             {
              "frame": {
               "duration": 100,
               "redraw": true
              },
              "mode": "immediate",
              "transition": {
               "duration": 500
              }
             }
            ],
            "label": "250",
            "method": "animate"
           },
           {
            "args": [
             [
              "300"
             ],
             {
              "frame": {
               "duration": 100,
               "redraw": true
              },
              "mode": "immediate",
              "transition": {
               "duration": 500
              }
             }
            ],
            "label": "300",
            "method": "animate"
           },
           {
            "args": [
             [
              "350"
             ],
             {
              "frame": {
               "duration": 100,
               "redraw": true
              },
              "mode": "immediate",
              "transition": {
               "duration": 500
              }
             }
            ],
            "label": "350",
            "method": "animate"
           },
           {
            "args": [
             [
              "400"
             ],
             {
              "frame": {
               "duration": 100,
               "redraw": true
              },
              "mode": "immediate",
              "transition": {
               "duration": 500
              }
             }
            ],
            "label": "400",
            "method": "animate"
           },
           {
            "args": [
             [
              "450"
             ],
             {
              "frame": {
               "duration": 100,
               "redraw": true
              },
              "mode": "immediate",
              "transition": {
               "duration": 500
              }
             }
            ],
            "label": "450",
            "method": "animate"
           },
           {
            "args": [
             [
              "500"
             ],
             {
              "frame": {
               "duration": 100,
               "redraw": true
              },
              "mode": "immediate",
              "transition": {
               "duration": 500
              }
             }
            ],
            "label": "500",
            "method": "animate"
           },
           {
            "args": [
             [
              "550"
             ],
             {
              "frame": {
               "duration": 100,
               "redraw": true
              },
              "mode": "immediate",
              "transition": {
               "duration": 500
              }
             }
            ],
            "label": "550",
            "method": "animate"
           },
           {
            "args": [
             [
              "600"
             ],
             {
              "frame": {
               "duration": 100,
               "redraw": true
              },
              "mode": "immediate",
              "transition": {
               "duration": 500
              }
             }
            ],
            "label": "600",
            "method": "animate"
           },
           {
            "args": [
             [
              "650"
             ],
             {
              "frame": {
               "duration": 100,
               "redraw": true
              },
              "mode": "immediate",
              "transition": {
               "duration": 500
              }
             }
            ],
            "label": "650",
            "method": "animate"
           },
           {
            "args": [
             [
              "700"
             ],
             {
              "frame": {
               "duration": 100,
               "redraw": true
              },
              "mode": "immediate",
              "transition": {
               "duration": 500
              }
             }
            ],
            "label": "700",
            "method": "animate"
           },
           {
            "args": [
             [
              "750"
             ],
             {
              "frame": {
               "duration": 100,
               "redraw": true
              },
              "mode": "immediate",
              "transition": {
               "duration": 500
              }
             }
            ],
            "label": "750",
            "method": "animate"
           },
           {
            "args": [
             [
              "800"
             ],
             {
              "frame": {
               "duration": 100,
               "redraw": true
              },
              "mode": "immediate",
              "transition": {
               "duration": 500
              }
             }
            ],
            "label": "800",
            "method": "animate"
           }
          ],
          "transition": {
           "duration": 100,
           "easing": "cubic-in-out"
          },
          "x": 0.1,
          "xanchor": "left",
          "y": 0,
          "yanchor": "top"
         }
        ],
        "autosize": false,
        "width": 800,
        "height": 800
       },
       "frames": [
        {
         "data": [
          {
           "hoverinfo": "name",
           "line": {
            "color": "white"
           },
           "mode": "lines",
           "name": "Exterior",
           "showlegend": false,
           "x": [
            10.1,
            10.1,
            15.0,
            15.0,
            13.6,
            13.6,
            15.0,
            15.0,
            13.6,
            13.6,
            15.0,
            15.0,
            10.1,
            10.1,
            9.9,
            9.9,
            5.1,
            5.1,
            4.9,
            4.9,
            0.0,
            0.0,
            1.5,
            1.5,
            0.0,
            0.0,
            1.5,
            1.5,
            0.0,
            0.0,
            4.9,
            4.9,
            5.1,
            5.1,
            9.9,
            9.9,
            10.1
           ],
           "y": [
            1.5,
            0.0,
            0.0,
            4.9,
            4.9,
            5.1,
            5.1,
            9.9,
            9.9,
            10.1,
            10.1,
            15.0,
            15.0,
            13.6,
            13.6,
            15.0,
            15.0,
            13.6,
            13.6,
            15.0,
            15.0,
            10.1,
            10.1,
            9.9,
            9.9,
            5.1,
            5.1,
            4.9,
            4.9,
            0.0,
            0.0,
            1.5,
            1.5,
            0.0,
            0.0,
            1.5,
            1.5
           ],
           "type": "scatter"
          },
          {
           "hoverinfo": "name",
           "line": {
            "color": "white"
           },
           "mode": "lines",
           "name": "Obstacle",
           "showlegend": false,
           "x": [
            10.1,
            11.5,
            11.5,
            10.1,
            10.1,
            9.9,
            9.9,
            8.6,
            8.6,
            9.9,
            9.9,
            10.1,
            10.1
           ],
           "y": [
            5.1,
            5.1,
            4.9,
            4.9,
            3.6,
            3.6,
            4.9,
            4.9,
            5.1,
            5.1,
            6.5,
            6.5,
            5.1
           ],
           "type": "scatter"
          },
          {
           "hoverinfo": "name",
           "line": {
            "color": "white"
           },
           "mode": "lines",
           "name": "Obstacle",
           "showlegend": false,
           "x": [
            10.1,
            11.5,
            11.5,
            10.1,
            10.1,
            9.9,
            9.9,
            8.6,
            8.6,
            9.9,
            9.9,
            10.1,
            10.1
           ],
           "y": [
            10.1,
            10.1,
            9.9,
            9.9,
            8.6,
            8.6,
            9.9,
            9.9,
            10.1,
            10.1,
            11.5,
            11.5,
            10.1
           ],
           "type": "scatter"
          },
          {
           "hoverinfo": "name",
           "line": {
            "color": "white"
           },
           "mode": "lines",
           "name": "Obstacle",
           "showlegend": false,
           "x": [
            5.1,
            6.4,
            6.4,
            5.1,
            5.1,
            4.9,
            4.9,
            3.6,
            3.6,
            4.9,
            4.9,
            5.1,
            5.1
           ],
           "y": [
            5.1,
            5.1,
            4.9,
            4.9,
            3.6,
            3.6,
            4.9,
            4.9,
            5.1,
            5.1,
            6.5,
            6.5,
            5.1
           ],
           "type": "scatter"
          },
          {
           "hoverinfo": "name",
           "line": {
            "color": "white"
           },
           "mode": "lines",
           "name": "Obstacle",
           "showlegend": false,
           "x": [
            5.1,
            6.4,
            6.4,
            5.1,
            5.1,
            4.9,
            4.9,
            3.6,
            3.6,
            4.9,
            4.9,
            5.1,
            5.1
           ],
           "y": [
            10.1,
            10.1,
            9.9,
            9.9,
            8.6,
            8.6,
            9.9,
            9.9,
            10.1,
            10.1,
            11.5,
            11.5,
            10.1
           ],
           "type": "scatter"
          },
          {
           "fill": "toself",
           "fillcolor": "rgb(0, 0, 0)",
           "hoverinfo": "name",
           "line": {
            "width": 0
           },
           "mode": "lines",
           "name": "Risk Area",
           "showlegend": false,
           "x": [
            1.5,
            1.5,
            3.6,
            3.6,
            4.9,
            4.9,
            5.0,
            5.0,
            4.9,
            4.9,
            0.0,
            0.0,
            1.5
           ],
           "y": [
            4.9,
            5.0,
            5.0,
            4.9,
            4.9,
            3.6,
            3.6,
            1.5,
            1.5,
            0.0,
            0.0,
            4.9,
            4.9
           ],
           "type": "scatter"
          },
          {
           "fill": "toself",
           "fillcolor": "rgb(153, 0, 0)",
           "hoverinfo": "name",
           "line": {
            "width": 0
           },
           "mode": "lines",
           "name": "Risk Area",
           "showlegend": false,
           "x": [
            9.9,
            9.9,
            5.1,
            5.1,
            5.0,
            5.0,
            5.1,
            5.1,
            6.4,
            6.4,
            8.6,
            8.6,
            9.9,
            9.9,
            10.0,
            10.0,
            9.9
           ],
           "y": [
            1.5,
            0.0,
            0.0,
            1.5,
            1.5,
            3.6,
            3.6,
            4.9,
            4.9,
            5.0,
            5.0,
            4.9,
            4.9,
            3.6,
            3.6,
            1.5,
            1.5
           ],
           "type": "scatter"
          },
          {
           "fill": "toself",
           "fillcolor": "rgb(0, 0, 0)",
           "hoverinfo": "name",
           "line": {
            "width": 0
           },
           "mode": "lines",
           "name": "Risk Area",
           "showlegend": false,
           "x": [
            13.6,
            15.0,
            15.0,
            10.1,
            10.1,
            10.0,
            10.0,
            10.1,
            10.1,
            11.5,
            11.5,
            13.6,
            13.6
           ],
           "y": [
            4.9,
            4.9,
            0.0,
            0.0,
            1.5,
            1.5,
            3.6,
            3.6,
            4.9,
            4.9,
            5.0,
            5.0,
            4.9
           ],
           "type": "scatter"
          },
          {
           "fill": "toself",
           "fillcolor": "rgb(153, 0, 0)",
           "hoverinfo": "name",
           "line": {
            "width": 0
           },
           "mode": "lines",
           "name": "Risk Area",
           "showlegend": false,
           "x": [
            13.6,
            15.0,
            15.0,
            13.6,
            13.6,
            11.5,
            11.5,
            10.1,
            10.1,
            10.0,
            10.0,
            10.1,
            10.1,
            11.5,
            11.5,
            13.6,
            13.6
           ],
           "y": [
            9.9,
            9.9,
            5.1,
            5.1,
            5.0,
            5.0,
            5.1,
            5.1,
            6.5,
            6.5,
            8.6,
            8.6,
            9.9,
            9.9,
            10.0,
            10.0,
            9.9
           ],
           "type": "scatter"
          },
          {
           "fill": "toself",
           "fillcolor": "rgb(153, 0, 0)",
           "hoverinfo": "name",
           "line": {
            "width": 0
           },
           "mode": "lines",
           "name": "Risk Area",
           "showlegend": false,
           "x": [
            9.9,
            9.9,
            8.6,
            8.6,
            6.4,
            6.4,
            5.1,
            5.1,
            5.0,
            5.0,
            5.1,
            5.1,
            6.4,
            6.4,
            8.6,
            8.6,
            9.9,
            9.9,
            10.0,
            10.0,
            9.9
           ],
           "y": [
            6.5,
            5.1,
            5.1,
            5.0,
            5.0,
            5.1,
            5.1,
            6.5,
            6.5,
            8.6,
            8.6,
            9.9,
            9.9,
            10.0,
            10.0,
            9.9,
            9.9,
            8.6,
            8.6,
            6.5,
            6.5
           ],
           "type": "scatter"
          },
          {
           "fill": "toself",
           "fillcolor": "rgb(25, 0, 0)",
           "hoverinfo": "name",
           "line": {
            "width": 0
           },
           "mode": "lines",
           "name": "Risk Area",
           "showlegend": false,
           "x": [
            4.9,
            4.9,
            3.6,
            3.6,
            1.5,
            1.5,
            0.0,
            0.0,
            1.5,
            1.5,
            3.6,
            3.6,
            4.9,
            4.9,
            5.0,
            5.0,
            4.9
           ],
           "y": [
            6.5,
            5.1,
            5.1,
            5.0,
            5.0,
            5.1,
            5.1,
            9.9,
            9.9,
            10.0,
            10.0,
            9.9,
            9.9,
            8.6,
            8.6,
            6.5,
            6.5
           ],
           "type": "scatter"
          },
          {
           "fill": "toself",
           "fillcolor": "rgb(0, 0, 0)",
           "hoverinfo": "name",
           "line": {
            "width": 0
           },
           "mode": "lines",
           "name": "Risk Area",
           "showlegend": false,
           "x": [
            1.5,
            0.0,
            0.0,
            4.9,
            4.9,
            5.0,
            5.0,
            4.9,
            4.9,
            3.6,
            3.6,
            1.5,
            1.5
           ],
           "y": [
            10.1,
            10.1,
            15.0,
            15.0,
            13.6,
            13.6,
            11.5,
            11.5,
            10.1,
            10.1,
            10.0,
            10.0,
            10.1
           ],
           "type": "scatter"
          },
          {
           "fill": "toself",
           "fillcolor": "rgb(0, 0, 0)",
           "hoverinfo": "name",
           "line": {
            "width": 0
           },
           "mode": "lines",
           "name": "Risk Area",
           "showlegend": false,
           "x": [
            6.4,
            5.1,
            5.1,
            5.0,
            5.0,
            5.1,
            5.1,
            9.9,
            9.9,
            10.0,
            10.0,
            9.9,
            9.9,
            8.6,
            8.6,
            6.4,
            6.4
           ],
           "y": [
            10.1,
            10.1,
            11.5,
            11.5,
            13.6,
            13.6,
            15.0,
            15.0,
            13.6,
            13.6,
            11.5,
            11.5,
            10.1,
            10.1,
            10.0,
            10.0,
            10.1
           ],
           "type": "scatter"
          },
          {
           "fill": "toself",
           "fillcolor": "rgb(0, 0, 0)",
           "hoverinfo": "name",
           "line": {
            "width": 0
           },
           "mode": "lines",
           "name": "Risk Area",
           "showlegend": false,
           "x": [
            10.1,
            10.1,
            15.0,
            15.0,
            13.6,
            13.6,
            11.5,
            11.5,
            10.1,
            10.1,
            10.0,
            10.0,
            10.1
           ],
           "y": [
            13.6,
            15.0,
            15.0,
            10.1,
            10.1,
            10.0,
            10.0,
            10.1,
            10.1,
            11.5,
            11.5,
            13.6,
            13.6
           ],
           "type": "scatter"
          },
          {
           "hoverinfo": "text",
           "marker": {
            "opacity": 1,
            "size": 1
           },
           "mode": "markers",
           "showlegend": false,
           "text": [
            "ID: 11, Pos(3.99,4.27)"
           ],
           "x": [
            3.9863327738146737
           ],
           "y": [
            4.268834270066489
           ],
           "type": "scatter"
          },
          {
           "hoverinfo": "text",
           "marker": {
            "opacity": 1,
            "size": 1
           },
           "mode": "markers",
           "showlegend": false,
           "text": [
            "ID: 12, Pos(0.85,1.64)"
           ],
           "x": [
            0.8488279016949318
           ],
           "y": [
            1.6370406488593048
           ],
           "type": "scatter"
          },
          {
           "hoverinfo": "text",
           "marker": {
            "opacity": 1,
            "size": 1
           },
           "mode": "markers",
           "showlegend": false,
           "text": [
            "ID: 13, Pos(1.73,1.60)"
           ],
           "x": [
            1.7258968673840784
           ],
           "y": [
            1.5962220773638665
           ],
           "type": "scatter"
          },
          {
           "hoverinfo": "text",
           "marker": {
            "opacity": 1,
            "size": 1
           },
           "mode": "markers",
           "showlegend": false,
           "text": [
            "ID: 14, Pos(2.12,3.52)"
           ],
           "x": [
            2.116160882427272
           ],
           "y": [
            3.5204353653542206
           ],
           "type": "scatter"
          },
          {
           "hoverinfo": "text",
           "marker": {
            "opacity": 1,
            "size": 1
           },
           "mode": "markers",
           "showlegend": false,
           "text": [
            "ID: 15, Pos(1.69,2.80)"
           ],
           "x": [
            1.692259232863783
           ],
           "y": [
            2.7972929381969065
           ],
           "type": "scatter"
          },
          {
           "hoverinfo": "text",
           "marker": {
            "opacity": 1,
            "size": 1
           },
           "mode": "markers",
           "showlegend": false,
           "text": [
            "ID: 16, Pos(1.45,3.66)"
           ],
           "x": [
            1.453767774845684
           ],
           "y": [
            3.6607508930614516
           ],
           "type": "scatter"
          },
          {
           "hoverinfo": "text",
           "marker": {
            "opacity": 1,
            "size": 1
           },
           "mode": "markers",
           "showlegend": false,
           "text": [
            "ID: 17, Pos(3.07,4.23)"
           ],
           "x": [
            3.0719865838614573
           ],
           "y": [
            4.234745501580994
           ],
           "type": "scatter"
          },
          {
           "hoverinfo": "text",
           "marker": {
            "opacity": 1,
            "size": 1
           },
           "mode": "markers",
           "showlegend": false,
           "text": [
            "ID: 18, Pos(3.49,1.96)"
           ],
           "x": [
            3.48879726462054
           ],
           "y": [
            1.9561046634672852
           ],
           "type": "scatter"
          },
          {
           "hoverinfo": "text",
           "marker": {
            "opacity": 1,
            "size": 1
           },
           "mode": "markers",
           "showlegend": false,
           "text": [
            "ID: 19, Pos(1.70,3.31)"
           ],
           "x": [
            1.7042831428492793
           ],
           "y": [
            3.3139640340517103
           ],
           "type": "scatter"
          },
          {
           "hoverinfo": "text",
           "marker": {
            "opacity": 1,
            "size": 1
           },
           "mode": "markers",
           "showlegend": false,
           "text": [
            "ID: 20, Pos(1.76,2.25)"
           ],
           "x": [
            1.7565776142251517
           ],
           "y": [
            2.253852105302265
           ],
           "type": "scatter"
          }
         ],
         "layout": {
          "shapes": [
           {
            "fillcolor": "rgba(0, 0, 128, 0.5)",
            "line": {
             "color": "rgba(0, 0, 128, 0.5)"
            },
            "type": "circle",
            "x0": 3.7863327738146735,
            "x1": 4.186332773814674,
            "xref": "x",
            "y0": 4.068834270066489,
            "y1": 4.468834270066489,
            "yref": "y"
           },
           {
            "fillcolor": "rgba(0, 0, 128, 0.5)",
            "line": {
             "color": "rgba(0, 0, 128, 0.5)"
            },
            "type": "circle",
            "x0": 0.6488279016949319,
            "x1": 1.0488279016949318,
            "xref": "x",
            "y0": 1.4370406488593048,
            "y1": 1.8370406488593047,
            "yref": "y"
           },
           {
            "fillcolor": "rgba(255, 134, 0, 0.5)",
            "line": {
             "color": "rgba(255, 134, 0, 0.5)"
            },
            "type": "circle",
            "x0": 1.5258968673840785,
            "x1": 1.9258968673840784,
            "xref": "x",
            "y0": 1.3962220773638665,
            "y1": 1.7962220773638664,
            "yref": "y"
           },
           {
            "fillcolor": "rgba(0, 0, 155, 0.5)",
            "line": {
             "color": "rgba(0, 0, 155, 0.5)"
            },
            "type": "circle",
            "x0": 1.916160882427272,
            "x1": 2.316160882427272,
            "xref": "x",
            "y0": 3.3204353653542205,
            "y1": 3.720435365354221,
            "yref": "y"
           },
           {
            "fillcolor": "rgba(173, 0, 0, 0.5)",
            "line": {
             "color": "rgba(173, 0, 0, 0.5)"
            },
            "type": "circle",
            "x0": 1.4922592328637831,
            "x1": 1.892259232863783,
            "xref": "x",
            "y0": 2.5972929381969063,
            "y1": 2.9972929381969067,
            "yref": "y"
           },
           {
            "fillcolor": "rgba(0, 0, 132, 0.5)",
            "line": {
             "color": "rgba(0, 0, 132, 0.5)"
            },
            "type": "circle",
            "x0": 1.2537677748456841,
            "x1": 1.653767774845684,
            "xref": "x",
            "y0": 3.4607508930614514,
            "y1": 3.860750893061452,
            "yref": "y"
           },
           {
            "fillcolor": "rgba(0, 0, 128, 0.5)",
            "line": {
             "color": "rgba(0, 0, 128, 0.5)"
            },
            "type": "circle",
            "x0": 2.871986583861457,
            "x1": 3.2719865838614575,
            "xref": "x",
            "y0": 4.034745501580994,
            "y1": 4.434745501580994,
            "yref": "y"
           },
           {
            "fillcolor": "rgba(0, 0, 128, 0.5)",
            "line": {
             "color": "rgba(0, 0, 128, 0.5)"
            },
            "type": "circle",
            "x0": 3.28879726462054,
            "x1": 3.6887972646205403,
            "xref": "x",
            "y0": 1.7561046634672852,
            "y1": 2.156104663467285,
            "yref": "y"
           },
           {
            "fillcolor": "rgba(128, 0, 0, 0.5)",
            "line": {
             "color": "rgba(128, 0, 0, 0.5)"
            },
            "type": "circle",
            "x0": 1.5042831428492793,
            "x1": 1.9042831428492792,
            "xref": "x",
            "y0": 3.11396403405171,
            "y1": 3.5139640340517104,
            "yref": "y"
           },
           {
            "fillcolor": "rgba(232, 0, 0, 0.5)",
            "line": {
             "color": "rgba(232, 0, 0, 0.5)"
            },
            "type": "circle",
            "x0": 1.5565776142251517,
            "x1": 1.9565776142251516,
            "xref": "x",
            "y0": 2.0538521053022647,
            "y1": 2.453852105302265,
            "yref": "y"
           },
           {
            "line": {
             "color": "white",
             "width": 3
            },
            "type": "line",
            "x0": 3.9863327738146737,
            "x1": 3.9863327738146737,
            "y0": 4.268834270066489,
            "y1": 4.268834270066489
           },
           {
            "line": {
             "color": "white",
             "width": 3
            },
            "type": "line",
            "x0": 0.8488279016949318,
            "x1": 0.8488279016949318,
            "y0": 1.6370406488593048,
            "y1": 1.6370406488593048
           },
           {
            "line": {
             "color": "black",
             "width": 3
            },
            "type": "line",
            "x0": 1.7258968673840784,
            "x1": 1.7258968673840784,
            "y0": 1.5962220773638665,
            "y1": 1.5962220773638665
           },
           {
            "line": {
             "color": "white",
             "width": 3
            },
            "type": "line",
            "x0": 2.116160882427272,
            "x1": 2.116160882427272,
            "y0": 3.5204353653542206,
            "y1": 3.5204353653542206
           },
           {
            "line": {
             "color": "white",
             "width": 3
            },
            "type": "line",
            "x0": 1.692259232863783,
            "x1": 1.692259232863783,
            "y0": 2.7972929381969065,
            "y1": 2.7972929381969065
           },
           {
            "line": {
             "color": "white",
             "width": 3
            },
            "type": "line",
            "x0": 1.453767774845684,
            "x1": 1.453767774845684,
            "y0": 3.6607508930614516,
            "y1": 3.6607508930614516
           },
           {
            "line": {
             "color": "white",
             "width": 3
            },
            "type": "line",
            "x0": 3.0719865838614573,
            "x1": 3.0719865838614573,
            "y0": 4.234745501580994,
            "y1": 4.234745501580994
           },
           {
            "line": {
             "color": "white",
             "width": 3
            },
            "type": "line",
            "x0": 3.48879726462054,
            "x1": 3.48879726462054,
            "y0": 1.9561046634672852,
            "y1": 1.9561046634672852
           },
           {
            "line": {
             "color": "white",
             "width": 3
            },
            "type": "line",
            "x0": 1.7042831428492793,
            "x1": 1.7042831428492793,
            "y0": 3.3139640340517103,
            "y1": 3.3139640340517103
           },
           {
            "line": {
             "color": "white",
             "width": 3
            },
            "type": "line",
            "x0": 1.7565776142251517,
            "x1": 1.7565776142251517,
            "y0": 2.253852105302265,
            "y1": 2.253852105302265
           }
          ],
          "title": {
           "text": "<b>Mode: Low_knowledge_shortest_path  |  Number of Agents: 10</b>",
           "x": 0.5
          }
         },
         "name": "0"
        },
        {
         "data": [
          {
           "hoverinfo": "name",
           "line": {
            "color": "white"
           },
           "mode": "lines",
           "name": "Exterior",
           "showlegend": false,
           "x": [
            10.1,
            10.1,
            15.0,
            15.0,
            13.6,
            13.6,
            15.0,
            15.0,
            13.6,
            13.6,
            15.0,
            15.0,
            10.1,
            10.1,
            9.9,
            9.9,
            5.1,
            5.1,
            4.9,
            4.9,
            0.0,
            0.0,
            1.5,
            1.5,
            0.0,
            0.0,
            1.5,
            1.5,
            0.0,
            0.0,
            4.9,
            4.9,
            5.1,
            5.1,
            9.9,
            9.9,
            10.1
           ],
           "y": [
            1.5,
            0.0,
            0.0,
            4.9,
            4.9,
            5.1,
            5.1,
            9.9,
            9.9,
            10.1,
            10.1,
            15.0,
            15.0,
            13.6,
            13.6,
            15.0,
            15.0,
            13.6,
            13.6,
            15.0,
            15.0,
            10.1,
            10.1,
            9.9,
            9.9,
            5.1,
            5.1,
            4.9,
            4.9,
            0.0,
            0.0,
            1.5,
            1.5,
            0.0,
            0.0,
            1.5,
            1.5
           ],
           "type": "scatter"
          },
          {
           "hoverinfo": "name",
           "line": {
            "color": "white"
           },
           "mode": "lines",
           "name": "Obstacle",
           "showlegend": false,
           "x": [
            10.1,
            11.5,
            11.5,
            10.1,
            10.1,
            9.9,
            9.9,
            8.6,
            8.6,
            9.9,
            9.9,
            10.1,
            10.1
           ],
           "y": [
            5.1,
            5.1,
            4.9,
            4.9,
            3.6,
            3.6,
            4.9,
            4.9,
            5.1,
            5.1,
            6.5,
            6.5,
            5.1
           ],
           "type": "scatter"
          },
          {
           "hoverinfo": "name",
           "line": {
            "color": "white"
           },
           "mode": "lines",
           "name": "Obstacle",
           "showlegend": false,
           "x": [
            10.1,
            11.5,
            11.5,
            10.1,
            10.1,
            9.9,
            9.9,
            8.6,
            8.6,
            9.9,
            9.9,
            10.1,
            10.1
           ],
           "y": [
            10.1,
            10.1,
            9.9,
            9.9,
            8.6,
            8.6,
            9.9,
            9.9,
            10.1,
            10.1,
            11.5,
            11.5,
            10.1
           ],
           "type": "scatter"
          },
          {
           "hoverinfo": "name",
           "line": {
            "color": "white"
           },
           "mode": "lines",
           "name": "Obstacle",
           "showlegend": false,
           "x": [
            5.1,
            6.4,
            6.4,
            5.1,
            5.1,
            4.9,
            4.9,
            3.6,
            3.6,
            4.9,
            4.9,
            5.1,
            5.1
           ],
           "y": [
            5.1,
            5.1,
            4.9,
            4.9,
            3.6,
            3.6,
            4.9,
            4.9,
            5.1,
            5.1,
            6.5,
            6.5,
            5.1
           ],
           "type": "scatter"
          },
          {
           "hoverinfo": "name",
           "line": {
            "color": "white"
           },
           "mode": "lines",
           "name": "Obstacle",
           "showlegend": false,
           "x": [
            5.1,
            6.4,
            6.4,
            5.1,
            5.1,
            4.9,
            4.9,
            3.6,
            3.6,
            4.9,
            4.9,
            5.1,
            5.1
           ],
           "y": [
            10.1,
            10.1,
            9.9,
            9.9,
            8.6,
            8.6,
            9.9,
            9.9,
            10.1,
            10.1,
            11.5,
            11.5,
            10.1
           ],
           "type": "scatter"
          },
          {
           "fill": "toself",
           "fillcolor": "rgb(0, 0, 0)",
           "hoverinfo": "name",
           "line": {
            "width": 0
           },
           "mode": "lines",
           "name": "Risk Area",
           "showlegend": false,
           "x": [
            1.5,
            1.5,
            3.6,
            3.6,
            4.9,
            4.9,
            5.0,
            5.0,
            4.9,
            4.9,
            0.0,
            0.0,
            1.5
           ],
           "y": [
            4.9,
            5.0,
            5.0,
            4.9,
            4.9,
            3.6,
            3.6,
            1.5,
            1.5,
            0.0,
            0.0,
            4.9,
            4.9
           ],
           "type": "scatter"
          },
          {
           "fill": "toself",
           "fillcolor": "rgb(153, 0, 0)",
           "hoverinfo": "name",
           "line": {
            "width": 0
           },
           "mode": "lines",
           "name": "Risk Area",
           "showlegend": false,
           "x": [
            9.9,
            9.9,
            5.1,
            5.1,
            5.0,
            5.0,
            5.1,
            5.1,
            6.4,
            6.4,
            8.6,
            8.6,
            9.9,
            9.9,
            10.0,
            10.0,
            9.9
           ],
           "y": [
            1.5,
            0.0,
            0.0,
            1.5,
            1.5,
            3.6,
            3.6,
            4.9,
            4.9,
            5.0,
            5.0,
            4.9,
            4.9,
            3.6,
            3.6,
            1.5,
            1.5
           ],
           "type": "scatter"
          },
          {
           "fill": "toself",
           "fillcolor": "rgb(0, 0, 0)",
           "hoverinfo": "name",
           "line": {
            "width": 0
           },
           "mode": "lines",
           "name": "Risk Area",
           "showlegend": false,
           "x": [
            13.6,
            15.0,
            15.0,
            10.1,
            10.1,
            10.0,
            10.0,
            10.1,
            10.1,
            11.5,
            11.5,
            13.6,
            13.6
           ],
           "y": [
            4.9,
            4.9,
            0.0,
            0.0,
            1.5,
            1.5,
            3.6,
            3.6,
            4.9,
            4.9,
            5.0,
            5.0,
            4.9
           ],
           "type": "scatter"
          },
          {
           "fill": "toself",
           "fillcolor": "rgb(153, 0, 0)",
           "hoverinfo": "name",
           "line": {
            "width": 0
           },
           "mode": "lines",
           "name": "Risk Area",
           "showlegend": false,
           "x": [
            13.6,
            15.0,
            15.0,
            13.6,
            13.6,
            11.5,
            11.5,
            10.1,
            10.1,
            10.0,
            10.0,
            10.1,
            10.1,
            11.5,
            11.5,
            13.6,
            13.6
           ],
           "y": [
            9.9,
            9.9,
            5.1,
            5.1,
            5.0,
            5.0,
            5.1,
            5.1,
            6.5,
            6.5,
            8.6,
            8.6,
            9.9,
            9.9,
            10.0,
            10.0,
            9.9
           ],
           "type": "scatter"
          },
          {
           "fill": "toself",
           "fillcolor": "rgb(153, 0, 0)",
           "hoverinfo": "name",
           "line": {
            "width": 0
           },
           "mode": "lines",
           "name": "Risk Area",
           "showlegend": false,
           "x": [
            9.9,
            9.9,
            8.6,
            8.6,
            6.4,
            6.4,
            5.1,
            5.1,
            5.0,
            5.0,
            5.1,
            5.1,
            6.4,
            6.4,
            8.6,
            8.6,
            9.9,
            9.9,
            10.0,
            10.0,
            9.9
           ],
           "y": [
            6.5,
            5.1,
            5.1,
            5.0,
            5.0,
            5.1,
            5.1,
            6.5,
            6.5,
            8.6,
            8.6,
            9.9,
            9.9,
            10.0,
            10.0,
            9.9,
            9.9,
            8.6,
            8.6,
            6.5,
            6.5
           ],
           "type": "scatter"
          },
          {
           "fill": "toself",
           "fillcolor": "rgb(25, 0, 0)",
           "hoverinfo": "name",
           "line": {
            "width": 0
           },
           "mode": "lines",
           "name": "Risk Area",
           "showlegend": false,
           "x": [
            4.9,
            4.9,
            3.6,
            3.6,
            1.5,
            1.5,
            0.0,
            0.0,
            1.5,
            1.5,
            3.6,
            3.6,
            4.9,
            4.9,
            5.0,
            5.0,
            4.9
           ],
           "y": [
            6.5,
            5.1,
            5.1,
            5.0,
            5.0,
            5.1,
            5.1,
            9.9,
            9.9,
            10.0,
            10.0,
            9.9,
            9.9,
            8.6,
            8.6,
            6.5,
            6.5
           ],
           "type": "scatter"
          },
          {
           "fill": "toself",
           "fillcolor": "rgb(0, 0, 0)",
           "hoverinfo": "name",
           "line": {
            "width": 0
           },
           "mode": "lines",
           "name": "Risk Area",
           "showlegend": false,
           "x": [
            1.5,
            0.0,
            0.0,
            4.9,
            4.9,
            5.0,
            5.0,
            4.9,
            4.9,
            3.6,
            3.6,
            1.5,
            1.5
           ],
           "y": [
            10.1,
            10.1,
            15.0,
            15.0,
            13.6,
            13.6,
            11.5,
            11.5,
            10.1,
            10.1,
            10.0,
            10.0,
            10.1
           ],
           "type": "scatter"
          },
          {
           "fill": "toself",
           "fillcolor": "rgb(0, 0, 0)",
           "hoverinfo": "name",
           "line": {
            "width": 0
           },
           "mode": "lines",
           "name": "Risk Area",
           "showlegend": false,
           "x": [
            6.4,
            5.1,
            5.1,
            5.0,
            5.0,
            5.1,
            5.1,
            9.9,
            9.9,
            10.0,
            10.0,
            9.9,
            9.9,
            8.6,
            8.6,
            6.4,
            6.4
           ],
           "y": [
            10.1,
            10.1,
            11.5,
            11.5,
            13.6,
            13.6,
            15.0,
            15.0,
            13.6,
            13.6,
            11.5,
            11.5,
            10.1,
            10.1,
            10.0,
            10.0,
            10.1
           ],
           "type": "scatter"
          },
          {
           "fill": "toself",
           "fillcolor": "rgb(0, 0, 0)",
           "hoverinfo": "name",
           "line": {
            "width": 0
           },
           "mode": "lines",
           "name": "Risk Area",
           "showlegend": false,
           "x": [
            10.1,
            10.1,
            15.0,
            15.0,
            13.6,
            13.6,
            11.5,
            11.5,
            10.1,
            10.1,
            10.0,
            10.0,
            10.1
           ],
           "y": [
            13.6,
            15.0,
            15.0,
            10.1,
            10.1,
            10.0,
            10.0,
            10.1,
            10.1,
            11.5,
            11.5,
            13.6,
            13.6
           ],
           "type": "scatter"
          },
          {
           "hoverinfo": "text",
           "marker": {
            "opacity": 1,
            "size": 1
           },
           "mode": "markers",
           "showlegend": false,
           "text": [
            "ID: 11, Pos(3.19,4.89)"
           ],
           "x": [
            3.1924743390861825
           ],
           "y": [
            4.892096571520693
           ],
           "type": "scatter"
          },
          {
           "hoverinfo": "text",
           "marker": {
            "opacity": 1,
            "size": 1
           },
           "mode": "markers",
           "showlegend": false,
           "text": [
            "ID: 12, Pos(1.13,3.21)"
           ],
           "x": [
            1.1319471522546776
           ],
           "y": [
            3.2087348772045723
           ],
           "type": "scatter"
          },
          {
           "hoverinfo": "text",
           "marker": {
            "opacity": 1,
            "size": 1
           },
           "mode": "markers",
           "showlegend": false,
           "text": [
            "ID: 13, Pos(1.80,2.00)"
           ],
           "x": [
            1.7967356767936429
           ],
           "y": [
            1.9979659934145642
           ],
           "type": "scatter"
          },
          {
           "hoverinfo": "text",
           "marker": {
            "opacity": 1,
            "size": 1
           },
           "mode": "markers",
           "showlegend": false,
           "text": [
            "ID: 14, Pos(2.47,4.86)"
           ],
           "x": [
            2.470337840890988
           ],
           "y": [
            4.861711126300399
           ],
           "type": "scatter"
          },
          {
           "hoverinfo": "text",
           "marker": {
            "opacity": 1,
            "size": 1
           },
           "mode": "markers",
           "showlegend": false,
           "text": [
            "ID: 15, Pos(1.77,3.28)"
           ],
           "x": [
            1.7717711831324265
           ],
           "y": [
            3.2833952565901123
           ],
           "type": "scatter"
          },
          {
           "hoverinfo": "text",
           "marker": {
            "opacity": 1,
            "size": 1
           },
           "mode": "markers",
           "showlegend": false,
           "text": [
            "ID: 16, Pos(1.91,5.12)"
           ],
           "x": [
            1.907258512843602
           ],
           "y": [
            5.117813122756807
           ],
           "type": "scatter"
          },
          {
           "hoverinfo": "text",
           "marker": {
            "opacity": 1,
            "size": 1
           },
           "mode": "markers",
           "showlegend": false,
           "text": [
            "ID: 17, Pos(2.77,5.81)"
           ],
           "x": [
            2.7699765596010804
           ],
           "y": [
            5.805092869904271
           ],
           "type": "scatter"
          },
          {
           "hoverinfo": "text",
           "marker": {
            "opacity": 1,
            "size": 1
           },
           "mode": "markers",
           "showlegend": false,
           "text": [
            "ID: 18, Pos(3.21,3.53)"
           ],
           "x": [
            3.207906551652387
           ],
           "y": [
            3.5312555789135835
           ],
           "type": "scatter"
          },
          {
           "hoverinfo": "text",
           "marker": {
            "opacity": 1,
            "size": 1
           },
           "mode": "markers",
           "showlegend": false,
           "text": [
            "ID: 19, Pos(1.84,4.11)"
           ],
           "x": [
            1.8408105990407735
           ],
           "y": [
            4.110177801275073
           ],
           "type": "scatter"
          },
          {
           "hoverinfo": "text",
           "marker": {
            "opacity": 1,
            "size": 1
           },
           "mode": "markers",
           "showlegend": false,
           "text": [
            "ID: 20, Pos(1.86,2.61)"
           ],
           "x": [
            1.8604514617929373
           ],
           "y": [
            2.6090264365544584
           ],
           "type": "scatter"
          }
         ],
         "layout": {
          "shapes": [
           {
            "fillcolor": "rgba(0, 152, 255, 0.5)",
            "line": {
             "color": "rgba(0, 152, 255, 0.5)"
            },
            "type": "circle",
            "x0": 2.9924743390861823,
            "x1": 3.3924743390861827,
            "xref": "x",
            "y0": 4.692096571520693,
            "y1": 5.092096571520694,
            "yref": "y"
           },
           {
            "fillcolor": "rgba(0, 0, 128, 0.5)",
            "line": {
             "color": "rgba(0, 0, 128, 0.5)"
            },
            "type": "circle",
            "x0": 0.9319471522546776,
            "x1": 1.3319471522546775,
            "xref": "x",
            "y0": 3.008734877204572,
            "y1": 3.4087348772045725,
            "yref": "y"
           },
           {
            "fillcolor": "rgba(255, 89, 0, 0.5)",
            "line": {
             "color": "rgba(255, 89, 0, 0.5)"
            },
            "type": "circle",
            "x0": 1.596735676793643,
            "x1": 1.9967356767936428,
            "xref": "x",
            "y0": 1.7979659934145642,
            "y1": 2.1979659934145643,
            "yref": "y"
           },
           {
            "fillcolor": "rgba(0, 173, 255, 0.5)",
            "line": {
             "color": "rgba(0, 173, 255, 0.5)"
            },
            "type": "circle",
            "x0": 2.270337840890988,
            "x1": 2.6703378408909884,
            "xref": "x",
            "y0": 4.661711126300399,
            "y1": 5.061711126300399,
            "yref": "y"
           },
           {
            "fillcolor": "rgba(135, 255, 112, 0.5)",
            "line": {
             "color": "rgba(135, 255, 112, 0.5)"
            },
            "type": "circle",
            "x0": 1.5717711831324266,
            "x1": 1.9717711831324265,
            "xref": "x",
            "y0": 3.083395256590112,
            "y1": 3.4833952565901125,
            "yref": "y"
           },
           {
            "fillcolor": "rgba(0, 0, 128, 0.5)",
            "line": {
             "color": "rgba(0, 0, 128, 0.5)"
            },
            "type": "circle",
            "x0": 1.707258512843602,
            "x1": 2.107258512843602,
            "xref": "x",
            "y0": 4.917813122756807,
            "y1": 5.3178131227568075,
            "yref": "y"
           },
           {
            "fillcolor": "rgba(0, 0, 128, 0.5)",
            "line": {
             "color": "rgba(0, 0, 128, 0.5)"
            },
            "type": "circle",
            "x0": 2.56997655960108,
            "x1": 2.9699765596010805,
            "xref": "x",
            "y0": 5.605092869904271,
            "y1": 6.005092869904272,
            "yref": "y"
           },
           {
            "fillcolor": "rgba(0, 0, 128, 0.5)",
            "line": {
             "color": "rgba(0, 0, 128, 0.5)"
            },
            "type": "circle",
            "x0": 3.0079065516523866,
            "x1": 3.407906551652387,
            "xref": "x",
            "y0": 3.3312555789135834,
            "y1": 3.7312555789135837,
            "yref": "y"
           },
           {
            "fillcolor": "rgba(0, 144, 255, 0.5)",
            "line": {
             "color": "rgba(0, 144, 255, 0.5)"
            },
            "type": "circle",
            "x0": 1.6408105990407735,
            "x1": 2.0408105990407734,
            "xref": "x",
            "y0": 3.910177801275073,
            "y1": 4.310177801275073,
            "yref": "y"
           },
           {
            "fillcolor": "rgba(255, 178, 0, 0.5)",
            "line": {
             "color": "rgba(255, 178, 0, 0.5)"
            },
            "type": "circle",
            "x0": 1.6604514617929373,
            "x1": 2.0604514617929373,
            "xref": "x",
            "y0": 2.4090264365544583,
            "y1": 2.8090264365544586,
            "yref": "y"
           },
           {
            "line": {
             "color": "white",
             "width": 3
            },
            "type": "line",
            "x0": 3.1924743390861825,
            "x1": 3.1243544307097126,
            "y0": 4.892096571520693,
            "y1": 5.080138263926344
           },
           {
            "line": {
             "color": "white",
             "width": 3
            },
            "type": "line",
            "x0": 1.1319471522546776,
            "x1": 1.1496722428422903,
            "y0": 3.2087348772045723,
            "y1": 3.4079478817089495
           },
           {
            "line": {
             "color": "black",
             "width": 3
            },
            "type": "line",
            "x0": 1.7967356767936429,
            "x1": 1.824189602699743,
            "y0": 1.9979659934145642,
            "y1": 2.196072737248141
           },
           {
            "line": {
             "color": "black",
             "width": 3
            },
            "type": "line",
            "x0": 2.470337840890988,
            "x1": 2.511507595452101,
            "y0": 4.861711126300399,
            "y1": 5.057427889275311
           },
           {
            "line": {
             "color": "black",
             "width": 3
            },
            "type": "line",
            "x0": 1.7717711831324265,
            "x1": 1.8338820869340666,
            "y0": 3.2833952565901123,
            "y1": 3.473506370491808
           },
           {
            "line": {
             "color": "white",
             "width": 3
            },
            "type": "line",
            "x0": 1.907258512843602,
            "x1": 1.9353530978423235,
            "y0": 5.117813122756807,
            "y1": 5.3158300268174195
           },
           {
            "line": {
             "color": "white",
             "width": 3
            },
            "type": "line",
            "x0": 2.7699765596010804,
            "x1": 2.739209660909371,
            "y0": 5.805092869904271,
            "y1": 6.002712195742849
           },
           {
            "line": {
             "color": "white",
             "width": 3
            },
            "type": "line",
            "x0": 3.207906551652387,
            "x1": 3.172806541261202,
            "y0": 3.5312555789135835,
            "y1": 3.7281514632548736
           },
           {
            "line": {
             "color": "white",
             "width": 3
            },
            "type": "line",
            "x0": 1.8408105990407735,
            "x1": 1.8777702307229112,
            "y0": 4.110177801275073,
            "y1": 4.306733100430097
           },
           {
            "line": {
             "color": "black",
             "width": 3
            },
            "type": "line",
            "x0": 1.8604514617929373,
            "x1": 1.8938515990279332,
            "y0": 2.6090264365544584,
            "y1": 2.8062177924316454
           }
          ],
          "title": {
           "text": "<b>Mode: Low_knowledge_shortest_path  |  Number of Agents: 10</b>",
           "x": 0.5
          }
         },
         "name": "50"
        },
        {
         "data": [
          {
           "hoverinfo": "name",
           "line": {
            "color": "white"
           },
           "mode": "lines",
           "name": "Exterior",
           "showlegend": false,
           "x": [
            10.1,
            10.1,
            15.0,
            15.0,
            13.6,
            13.6,
            15.0,
            15.0,
            13.6,
            13.6,
            15.0,
            15.0,
            10.1,
            10.1,
            9.9,
            9.9,
            5.1,
            5.1,
            4.9,
            4.9,
            0.0,
            0.0,
            1.5,
            1.5,
            0.0,
            0.0,
            1.5,
            1.5,
            0.0,
            0.0,
            4.9,
            4.9,
            5.1,
            5.1,
            9.9,
            9.9,
            10.1
           ],
           "y": [
            1.5,
            0.0,
            0.0,
            4.9,
            4.9,
            5.1,
            5.1,
            9.9,
            9.9,
            10.1,
            10.1,
            15.0,
            15.0,
            13.6,
            13.6,
            15.0,
            15.0,
            13.6,
            13.6,
            15.0,
            15.0,
            10.1,
            10.1,
            9.9,
            9.9,
            5.1,
            5.1,
            4.9,
            4.9,
            0.0,
            0.0,
            1.5,
            1.5,
            0.0,
            0.0,
            1.5,
            1.5
           ],
           "type": "scatter"
          },
          {
           "hoverinfo": "name",
           "line": {
            "color": "white"
           },
           "mode": "lines",
           "name": "Obstacle",
           "showlegend": false,
           "x": [
            10.1,
            11.5,
            11.5,
            10.1,
            10.1,
            9.9,
            9.9,
            8.6,
            8.6,
            9.9,
            9.9,
            10.1,
            10.1
           ],
           "y": [
            5.1,
            5.1,
            4.9,
            4.9,
            3.6,
            3.6,
            4.9,
            4.9,
            5.1,
            5.1,
            6.5,
            6.5,
            5.1
           ],
           "type": "scatter"
          },
          {
           "hoverinfo": "name",
           "line": {
            "color": "white"
           },
           "mode": "lines",
           "name": "Obstacle",
           "showlegend": false,
           "x": [
            10.1,
            11.5,
            11.5,
            10.1,
            10.1,
            9.9,
            9.9,
            8.6,
            8.6,
            9.9,
            9.9,
            10.1,
            10.1
           ],
           "y": [
            10.1,
            10.1,
            9.9,
            9.9,
            8.6,
            8.6,
            9.9,
            9.9,
            10.1,
            10.1,
            11.5,
            11.5,
            10.1
           ],
           "type": "scatter"
          },
          {
           "hoverinfo": "name",
           "line": {
            "color": "white"
           },
           "mode": "lines",
           "name": "Obstacle",
           "showlegend": false,
           "x": [
            5.1,
            6.4,
            6.4,
            5.1,
            5.1,
            4.9,
            4.9,
            3.6,
            3.6,
            4.9,
            4.9,
            5.1,
            5.1
           ],
           "y": [
            5.1,
            5.1,
            4.9,
            4.9,
            3.6,
            3.6,
            4.9,
            4.9,
            5.1,
            5.1,
            6.5,
            6.5,
            5.1
           ],
           "type": "scatter"
          },
          {
           "hoverinfo": "name",
           "line": {
            "color": "white"
           },
           "mode": "lines",
           "name": "Obstacle",
           "showlegend": false,
           "x": [
            5.1,
            6.4,
            6.4,
            5.1,
            5.1,
            4.9,
            4.9,
            3.6,
            3.6,
            4.9,
            4.9,
            5.1,
            5.1
           ],
           "y": [
            10.1,
            10.1,
            9.9,
            9.9,
            8.6,
            8.6,
            9.9,
            9.9,
            10.1,
            10.1,
            11.5,
            11.5,
            10.1
           ],
           "type": "scatter"
          },
          {
           "fill": "toself",
           "fillcolor": "rgb(0, 0, 0)",
           "hoverinfo": "name",
           "line": {
            "width": 0
           },
           "mode": "lines",
           "name": "Risk Area",
           "showlegend": false,
           "x": [
            1.5,
            1.5,
            3.6,
            3.6,
            4.9,
            4.9,
            5.0,
            5.0,
            4.9,
            4.9,
            0.0,
            0.0,
            1.5
           ],
           "y": [
            4.9,
            5.0,
            5.0,
            4.9,
            4.9,
            3.6,
            3.6,
            1.5,
            1.5,
            0.0,
            0.0,
            4.9,
            4.9
           ],
           "type": "scatter"
          },
          {
           "fill": "toself",
           "fillcolor": "rgb(153, 0, 0)",
           "hoverinfo": "name",
           "line": {
            "width": 0
           },
           "mode": "lines",
           "name": "Risk Area",
           "showlegend": false,
           "x": [
            9.9,
            9.9,
            5.1,
            5.1,
            5.0,
            5.0,
            5.1,
            5.1,
            6.4,
            6.4,
            8.6,
            8.6,
            9.9,
            9.9,
            10.0,
            10.0,
            9.9
           ],
           "y": [
            1.5,
            0.0,
            0.0,
            1.5,
            1.5,
            3.6,
            3.6,
            4.9,
            4.9,
            5.0,
            5.0,
            4.9,
            4.9,
            3.6,
            3.6,
            1.5,
            1.5
           ],
           "type": "scatter"
          },
          {
           "fill": "toself",
           "fillcolor": "rgb(0, 0, 0)",
           "hoverinfo": "name",
           "line": {
            "width": 0
           },
           "mode": "lines",
           "name": "Risk Area",
           "showlegend": false,
           "x": [
            13.6,
            15.0,
            15.0,
            10.1,
            10.1,
            10.0,
            10.0,
            10.1,
            10.1,
            11.5,
            11.5,
            13.6,
            13.6
           ],
           "y": [
            4.9,
            4.9,
            0.0,
            0.0,
            1.5,
            1.5,
            3.6,
            3.6,
            4.9,
            4.9,
            5.0,
            5.0,
            4.9
           ],
           "type": "scatter"
          },
          {
           "fill": "toself",
           "fillcolor": "rgb(153, 0, 0)",
           "hoverinfo": "name",
           "line": {
            "width": 0
           },
           "mode": "lines",
           "name": "Risk Area",
           "showlegend": false,
           "x": [
            13.6,
            15.0,
            15.0,
            13.6,
            13.6,
            11.5,
            11.5,
            10.1,
            10.1,
            10.0,
            10.0,
            10.1,
            10.1,
            11.5,
            11.5,
            13.6,
            13.6
           ],
           "y": [
            9.9,
            9.9,
            5.1,
            5.1,
            5.0,
            5.0,
            5.1,
            5.1,
            6.5,
            6.5,
            8.6,
            8.6,
            9.9,
            9.9,
            10.0,
            10.0,
            9.9
           ],
           "type": "scatter"
          },
          {
           "fill": "toself",
           "fillcolor": "rgb(153, 0, 0)",
           "hoverinfo": "name",
           "line": {
            "width": 0
           },
           "mode": "lines",
           "name": "Risk Area",
           "showlegend": false,
           "x": [
            9.9,
            9.9,
            8.6,
            8.6,
            6.4,
            6.4,
            5.1,
            5.1,
            5.0,
            5.0,
            5.1,
            5.1,
            6.4,
            6.4,
            8.6,
            8.6,
            9.9,
            9.9,
            10.0,
            10.0,
            9.9
           ],
           "y": [
            6.5,
            5.1,
            5.1,
            5.0,
            5.0,
            5.1,
            5.1,
            6.5,
            6.5,
            8.6,
            8.6,
            9.9,
            9.9,
            10.0,
            10.0,
            9.9,
            9.9,
            8.6,
            8.6,
            6.5,
            6.5
           ],
           "type": "scatter"
          },
          {
           "fill": "toself",
           "fillcolor": "rgb(25, 0, 0)",
           "hoverinfo": "name",
           "line": {
            "width": 0
           },
           "mode": "lines",
           "name": "Risk Area",
           "showlegend": false,
           "x": [
            4.9,
            4.9,
            3.6,
            3.6,
            1.5,
            1.5,
            0.0,
            0.0,
            1.5,
            1.5,
            3.6,
            3.6,
            4.9,
            4.9,
            5.0,
            5.0,
            4.9
           ],
           "y": [
            6.5,
            5.1,
            5.1,
            5.0,
            5.0,
            5.1,
            5.1,
            9.9,
            9.9,
            10.0,
            10.0,
            9.9,
            9.9,
            8.6,
            8.6,
            6.5,
            6.5
           ],
           "type": "scatter"
          },
          {
           "fill": "toself",
           "fillcolor": "rgb(0, 0, 0)",
           "hoverinfo": "name",
           "line": {
            "width": 0
           },
           "mode": "lines",
           "name": "Risk Area",
           "showlegend": false,
           "x": [
            1.5,
            0.0,
            0.0,
            4.9,
            4.9,
            5.0,
            5.0,
            4.9,
            4.9,
            3.6,
            3.6,
            1.5,
            1.5
           ],
           "y": [
            10.1,
            10.1,
            15.0,
            15.0,
            13.6,
            13.6,
            11.5,
            11.5,
            10.1,
            10.1,
            10.0,
            10.0,
            10.1
           ],
           "type": "scatter"
          },
          {
           "fill": "toself",
           "fillcolor": "rgb(0, 0, 0)",
           "hoverinfo": "name",
           "line": {
            "width": 0
           },
           "mode": "lines",
           "name": "Risk Area",
           "showlegend": false,
           "x": [
            6.4,
            5.1,
            5.1,
            5.0,
            5.0,
            5.1,
            5.1,
            9.9,
            9.9,
            10.0,
            10.0,
            9.9,
            9.9,
            8.6,
            8.6,
            6.4,
            6.4
           ],
           "y": [
            10.1,
            10.1,
            11.5,
            11.5,
            13.6,
            13.6,
            15.0,
            15.0,
            13.6,
            13.6,
            11.5,
            11.5,
            10.1,
            10.1,
            10.0,
            10.0,
            10.1
           ],
           "type": "scatter"
          },
          {
           "fill": "toself",
           "fillcolor": "rgb(0, 0, 0)",
           "hoverinfo": "name",
           "line": {
            "width": 0
           },
           "mode": "lines",
           "name": "Risk Area",
           "showlegend": false,
           "x": [
            10.1,
            10.1,
            15.0,
            15.0,
            13.6,
            13.6,
            11.5,
            11.5,
            10.1,
            10.1,
            10.0,
            10.0,
            10.1
           ],
           "y": [
            13.6,
            15.0,
            15.0,
            10.1,
            10.1,
            10.0,
            10.0,
            10.1,
            10.1,
            11.5,
            11.5,
            13.6,
            13.6
           ],
           "type": "scatter"
          },
          {
           "hoverinfo": "text",
           "marker": {
            "opacity": 1,
            "size": 1
           },
           "mode": "markers",
           "showlegend": false,
           "text": [
            "ID: 11, Pos(3.17,6.13)"
           ],
           "x": [
            3.169346874022093
           ],
           "y": [
            6.134622567995237
           ],
           "type": "scatter"
          },
          {
           "hoverinfo": "text",
           "marker": {
            "opacity": 1,
            "size": 1
           },
           "mode": "markers",
           "showlegend": false,
           "text": [
            "ID: 12, Pos(1.51,4.57)"
           ],
           "x": [
            1.5129903369386641
           ],
           "y": [
            4.5652117517639255
           ],
           "type": "scatter"
          },
          {
           "hoverinfo": "text",
           "marker": {
            "opacity": 1,
            "size": 1
           },
           "mode": "markers",
           "showlegend": false,
           "text": [
            "ID: 13, Pos(1.88,2.61)"
           ],
           "x": [
            1.8764564055008617
           ],
           "y": [
            2.6101617800386396
           ],
           "type": "scatter"
          },
          {
           "hoverinfo": "text",
           "marker": {
            "opacity": 1,
            "size": 1
           },
           "mode": "markers",
           "showlegend": false,
           "text": [
            "ID: 14, Pos(2.63,6.00)"
           ],
           "x": [
            2.6290219550450042
           ],
           "y": [
            5.997365711245494
           ],
           "type": "scatter"
          },
          {
           "hoverinfo": "text",
           "marker": {
            "opacity": 1,
            "size": 1
           },
           "mode": "markers",
           "showlegend": false,
           "text": [
            "ID: 15, Pos(2.10,4.33)"
           ],
           "x": [
            2.1049194680919983
           ],
           "y": [
            4.332127049226378
           ],
           "type": "scatter"
          },
          {
           "hoverinfo": "text",
           "marker": {
            "opacity": 1,
            "size": 1
           },
           "mode": "markers",
           "showlegend": false,
           "text": [
            "ID: 16, Pos(2.39,6.55)"
           ],
           "x": [
            2.3885846398659933
           ],
           "y": [
            6.548635270077251
           ],
           "type": "scatter"
          },
          {
           "hoverinfo": "text",
           "marker": {
            "opacity": 1,
            "size": 1
           },
           "mode": "markers",
           "showlegend": false,
           "text": [
            "ID: 17, Pos(4.04,6.46)"
           ],
           "x": [
            4.042368098973047
           ],
           "y": [
            6.456748800889543
           ],
           "type": "scatter"
          },
          {
           "hoverinfo": "text",
           "marker": {
            "opacity": 1,
            "size": 1
           },
           "mode": "markers",
           "showlegend": false,
           "text": [
            "ID: 18, Pos(2.95,5.00)"
           ],
           "x": [
            2.949213019143997
           ],
           "y": [
            4.996325586157081
           ],
           "type": "scatter"
          },
          {
           "hoverinfo": "text",
           "marker": {
            "opacity": 1,
            "size": 1
           },
           "mode": "markers",
           "showlegend": false,
           "text": [
            "ID: 19, Pos(2.09,5.35)"
           ],
           "x": [
            2.0895096493067054
           ],
           "y": [
            5.3505055900971685
           ],
           "type": "scatter"
          },
          {
           "hoverinfo": "text",
           "marker": {
            "opacity": 1,
            "size": 1
           },
           "mode": "markers",
           "showlegend": false,
           "text": [
            "ID: 20, Pos(1.97,3.42)"
           ],
           "x": [
            1.9707389408544385
           ],
           "y": [
            3.4217785382647103
           ],
           "type": "scatter"
          }
         ],
         "layout": {
          "shapes": [
           {
            "fillcolor": "rgba(0, 148, 255, 0.5)",
            "line": {
             "color": "rgba(0, 148, 255, 0.5)"
            },
            "type": "circle",
            "x0": 2.9693468740220927,
            "x1": 3.369346874022093,
            "xref": "x",
            "y0": 5.934622567995237,
            "y1": 6.334622567995237,
            "yref": "y"
           },
           {
            "fillcolor": "rgba(138, 255, 109, 0.5)",
            "line": {
             "color": "rgba(138, 255, 109, 0.5)"
            },
            "type": "circle",
            "x0": 1.3129903369386642,
            "x1": 1.712990336938664,
            "xref": "x",
            "y0": 4.365211751763925,
            "y1": 4.765211751763926,
            "yref": "y"
           },
           {
            "fillcolor": "rgba(151, 255, 96, 0.5)",
            "line": {
             "color": "rgba(151, 255, 96, 0.5)"
            },
            "type": "circle",
            "x0": 1.6764564055008617,
            "x1": 2.0764564055008616,
            "xref": "x",
            "y0": 2.4101617800386395,
            "y1": 2.81016178003864,
            "yref": "y"
           },
           {
            "fillcolor": "rgba(255, 26, 0, 0.5)",
            "line": {
             "color": "rgba(255, 26, 0, 0.5)"
            },
            "type": "circle",
            "x0": 2.429021955045004,
            "x1": 2.8290219550450044,
            "xref": "x",
            "y0": 5.797365711245494,
            "y1": 6.197365711245494,
            "yref": "y"
           },
           {
            "fillcolor": "rgba(0, 24, 255, 0.5)",
            "line": {
             "color": "rgba(0, 24, 255, 0.5)"
            },
            "type": "circle",
            "x0": 1.9049194680919983,
            "x1": 2.3049194680919984,
            "xref": "x",
            "y0": 4.132127049226378,
            "y1": 4.5321270492263785,
            "yref": "y"
           },
           {
            "fillcolor": "rgba(0, 0, 132, 0.5)",
            "line": {
             "color": "rgba(0, 0, 132, 0.5)"
            },
            "type": "circle",
            "x0": 2.188584639865993,
            "x1": 2.5885846398659935,
            "xref": "x",
            "y0": 6.348635270077251,
            "y1": 6.748635270077251,
            "yref": "y"
           },
           {
            "fillcolor": "rgba(0, 0, 128, 0.5)",
            "line": {
             "color": "rgba(0, 0, 128, 0.5)"
            },
            "type": "circle",
            "x0": 3.842368098973047,
            "x1": 4.2423680989730475,
            "xref": "x",
            "y0": 6.256748800889543,
            "y1": 6.6567488008895435,
            "yref": "y"
           },
           {
            "fillcolor": "rgba(0, 80, 255, 0.5)",
            "line": {
             "color": "rgba(0, 80, 255, 0.5)"
            },
            "type": "circle",
            "x0": 2.7492130191439967,
            "x1": 3.149213019143997,
            "xref": "x",
            "y0": 4.796325586157081,
            "y1": 5.196325586157081,
            "yref": "y"
           },
           {
            "fillcolor": "rgba(0, 0, 237, 0.5)",
            "line": {
             "color": "rgba(0, 0, 237, 0.5)"
            },
            "type": "circle",
            "x0": 1.8895096493067054,
            "x1": 2.2895096493067055,
            "xref": "x",
            "y0": 5.150505590097168,
            "y1": 5.550505590097169,
            "yref": "y"
           },
           {
            "fillcolor": "rgba(25, 255, 222, 0.5)",
            "line": {
             "color": "rgba(25, 255, 222, 0.5)"
            },
            "type": "circle",
            "x0": 1.7707389408544385,
            "x1": 2.1707389408544384,
            "xref": "x",
            "y0": 3.22177853826471,
            "y1": 3.6217785382647105,
            "yref": "y"
           },
           {
            "line": {
             "color": "white",
             "width": 3
            },
            "type": "line",
            "x0": 3.169346874022093,
            "x1": 3.1884550078048726,
            "y0": 6.134622567995237,
            "y1": 6.333707673473621
           },
           {
            "line": {
             "color": "black",
             "width": 3
            },
            "type": "line",
            "x0": 1.5129903369386641,
            "x1": 1.669460155776676,
            "y0": 4.5652117517639255,
            "y1": 4.689779788566308
           },
           {
            "line": {
             "color": "black",
             "width": 3
            },
            "type": "line",
            "x0": 1.8764564055008617,
            "x1": 1.9018493030087782,
            "y0": 2.6101617800386396,
            "y1": 2.808543232690223
           },
           {
            "line": {
             "color": "white",
             "width": 3
            },
            "type": "line",
            "x0": 2.6290219550450042,
            "x1": 2.824436904677388,
            "y0": 5.997365711245494,
            "y1": 5.95478640335806
           },
           {
            "line": {
             "color": "white",
             "width": 3
            },
            "type": "line",
            "x0": 2.1049194680919983,
            "x1": 2.1757631837442553,
            "y0": 4.332127049226378,
            "y1": 4.519159581029223
           },
           {
            "line": {
             "color": "white",
             "width": 3
            },
            "type": "line",
            "x0": 2.3885846398659933,
            "x1": 2.5578991353216454,
            "y0": 6.548635270077251,
            "y1": 6.655089962921663
           },
           {
            "line": {
             "color": "white",
             "width": 3
            },
            "type": "line",
            "x0": 4.042368098973047,
            "x1": 4.233789015281351,
            "y0": 6.456748800889543,
            "y1": 6.514697336675095
           },
           {
            "line": {
             "color": "white",
             "width": 3
            },
            "type": "line",
            "x0": 2.949213019143997,
            "x1": 2.916255016446567,
            "y0": 4.996325586157081,
            "y1": 5.193591320784756
           },
           {
            "line": {
             "color": "white",
             "width": 3
            },
            "type": "line",
            "x0": 2.0895096493067054,
            "x1": 2.1224845152186735,
            "y0": 5.3505055900971685,
            "y1": 5.547768506576896
           },
           {
            "line": {
             "color": "black",
             "width": 3
            },
            "type": "line",
            "x0": 1.9707389408544385,
            "x1": 1.9963875672389053,
            "y0": 3.4217785382647103,
            "y1": 3.620127089972531
           }
          ],
          "title": {
           "text": "<b>Mode: Low_knowledge_shortest_path  |  Number of Agents: 10</b>",
           "x": 0.5
          }
         },
         "name": "100"
        },
        {
         "data": [
          {
           "hoverinfo": "name",
           "line": {
            "color": "white"
           },
           "mode": "lines",
           "name": "Exterior",
           "showlegend": false,
           "x": [
            10.1,
            10.1,
            15.0,
            15.0,
            13.6,
            13.6,
            15.0,
            15.0,
            13.6,
            13.6,
            15.0,
            15.0,
            10.1,
            10.1,
            9.9,
            9.9,
            5.1,
            5.1,
            4.9,
            4.9,
            0.0,
            0.0,
            1.5,
            1.5,
            0.0,
            0.0,
            1.5,
            1.5,
            0.0,
            0.0,
            4.9,
            4.9,
            5.1,
            5.1,
            9.9,
            9.9,
            10.1
           ],
           "y": [
            1.5,
            0.0,
            0.0,
            4.9,
            4.9,
            5.1,
            5.1,
            9.9,
            9.9,
            10.1,
            10.1,
            15.0,
            15.0,
            13.6,
            13.6,
            15.0,
            15.0,
            13.6,
            13.6,
            15.0,
            15.0,
            10.1,
            10.1,
            9.9,
            9.9,
            5.1,
            5.1,
            4.9,
            4.9,
            0.0,
            0.0,
            1.5,
            1.5,
            0.0,
            0.0,
            1.5,
            1.5
           ],
           "type": "scatter"
          },
          {
           "hoverinfo": "name",
           "line": {
            "color": "white"
           },
           "mode": "lines",
           "name": "Obstacle",
           "showlegend": false,
           "x": [
            10.1,
            11.5,
            11.5,
            10.1,
            10.1,
            9.9,
            9.9,
            8.6,
            8.6,
            9.9,
            9.9,
            10.1,
            10.1
           ],
           "y": [
            5.1,
            5.1,
            4.9,
            4.9,
            3.6,
            3.6,
            4.9,
            4.9,
            5.1,
            5.1,
            6.5,
            6.5,
            5.1
           ],
           "type": "scatter"
          },
          {
           "hoverinfo": "name",
           "line": {
            "color": "white"
           },
           "mode": "lines",
           "name": "Obstacle",
           "showlegend": false,
           "x": [
            10.1,
            11.5,
            11.5,
            10.1,
            10.1,
            9.9,
            9.9,
            8.6,
            8.6,
            9.9,
            9.9,
            10.1,
            10.1
           ],
           "y": [
            10.1,
            10.1,
            9.9,
            9.9,
            8.6,
            8.6,
            9.9,
            9.9,
            10.1,
            10.1,
            11.5,
            11.5,
            10.1
           ],
           "type": "scatter"
          },
          {
           "hoverinfo": "name",
           "line": {
            "color": "white"
           },
           "mode": "lines",
           "name": "Obstacle",
           "showlegend": false,
           "x": [
            5.1,
            6.4,
            6.4,
            5.1,
            5.1,
            4.9,
            4.9,
            3.6,
            3.6,
            4.9,
            4.9,
            5.1,
            5.1
           ],
           "y": [
            5.1,
            5.1,
            4.9,
            4.9,
            3.6,
            3.6,
            4.9,
            4.9,
            5.1,
            5.1,
            6.5,
            6.5,
            5.1
           ],
           "type": "scatter"
          },
          {
           "hoverinfo": "name",
           "line": {
            "color": "white"
           },
           "mode": "lines",
           "name": "Obstacle",
           "showlegend": false,
           "x": [
            5.1,
            6.4,
            6.4,
            5.1,
            5.1,
            4.9,
            4.9,
            3.6,
            3.6,
            4.9,
            4.9,
            5.1,
            5.1
           ],
           "y": [
            10.1,
            10.1,
            9.9,
            9.9,
            8.6,
            8.6,
            9.9,
            9.9,
            10.1,
            10.1,
            11.5,
            11.5,
            10.1
           ],
           "type": "scatter"
          },
          {
           "fill": "toself",
           "fillcolor": "rgb(0, 0, 0)",
           "hoverinfo": "name",
           "line": {
            "width": 0
           },
           "mode": "lines",
           "name": "Risk Area",
           "showlegend": false,
           "x": [
            1.5,
            1.5,
            3.6,
            3.6,
            4.9,
            4.9,
            5.0,
            5.0,
            4.9,
            4.9,
            0.0,
            0.0,
            1.5
           ],
           "y": [
            4.9,
            5.0,
            5.0,
            4.9,
            4.9,
            3.6,
            3.6,
            1.5,
            1.5,
            0.0,
            0.0,
            4.9,
            4.9
           ],
           "type": "scatter"
          },
          {
           "fill": "toself",
           "fillcolor": "rgb(153, 0, 0)",
           "hoverinfo": "name",
           "line": {
            "width": 0
           },
           "mode": "lines",
           "name": "Risk Area",
           "showlegend": false,
           "x": [
            9.9,
            9.9,
            5.1,
            5.1,
            5.0,
            5.0,
            5.1,
            5.1,
            6.4,
            6.4,
            8.6,
            8.6,
            9.9,
            9.9,
            10.0,
            10.0,
            9.9
           ],
           "y": [
            1.5,
            0.0,
            0.0,
            1.5,
            1.5,
            3.6,
            3.6,
            4.9,
            4.9,
            5.0,
            5.0,
            4.9,
            4.9,
            3.6,
            3.6,
            1.5,
            1.5
           ],
           "type": "scatter"
          },
          {
           "fill": "toself",
           "fillcolor": "rgb(0, 0, 0)",
           "hoverinfo": "name",
           "line": {
            "width": 0
           },
           "mode": "lines",
           "name": "Risk Area",
           "showlegend": false,
           "x": [
            13.6,
            15.0,
            15.0,
            10.1,
            10.1,
            10.0,
            10.0,
            10.1,
            10.1,
            11.5,
            11.5,
            13.6,
            13.6
           ],
           "y": [
            4.9,
            4.9,
            0.0,
            0.0,
            1.5,
            1.5,
            3.6,
            3.6,
            4.9,
            4.9,
            5.0,
            5.0,
            4.9
           ],
           "type": "scatter"
          },
          {
           "fill": "toself",
           "fillcolor": "rgb(153, 0, 0)",
           "hoverinfo": "name",
           "line": {
            "width": 0
           },
           "mode": "lines",
           "name": "Risk Area",
           "showlegend": false,
           "x": [
            13.6,
            15.0,
            15.0,
            13.6,
            13.6,
            11.5,
            11.5,
            10.1,
            10.1,
            10.0,
            10.0,
            10.1,
            10.1,
            11.5,
            11.5,
            13.6,
            13.6
           ],
           "y": [
            9.9,
            9.9,
            5.1,
            5.1,
            5.0,
            5.0,
            5.1,
            5.1,
            6.5,
            6.5,
            8.6,
            8.6,
            9.9,
            9.9,
            10.0,
            10.0,
            9.9
           ],
           "type": "scatter"
          },
          {
           "fill": "toself",
           "fillcolor": "rgb(153, 0, 0)",
           "hoverinfo": "name",
           "line": {
            "width": 0
           },
           "mode": "lines",
           "name": "Risk Area",
           "showlegend": false,
           "x": [
            9.9,
            9.9,
            8.6,
            8.6,
            6.4,
            6.4,
            5.1,
            5.1,
            5.0,
            5.0,
            5.1,
            5.1,
            6.4,
            6.4,
            8.6,
            8.6,
            9.9,
            9.9,
            10.0,
            10.0,
            9.9
           ],
           "y": [
            6.5,
            5.1,
            5.1,
            5.0,
            5.0,
            5.1,
            5.1,
            6.5,
            6.5,
            8.6,
            8.6,
            9.9,
            9.9,
            10.0,
            10.0,
            9.9,
            9.9,
            8.6,
            8.6,
            6.5,
            6.5
           ],
           "type": "scatter"
          },
          {
           "fill": "toself",
           "fillcolor": "rgb(25, 0, 0)",
           "hoverinfo": "name",
           "line": {
            "width": 0
           },
           "mode": "lines",
           "name": "Risk Area",
           "showlegend": false,
           "x": [
            4.9,
            4.9,
            3.6,
            3.6,
            1.5,
            1.5,
            0.0,
            0.0,
            1.5,
            1.5,
            3.6,
            3.6,
            4.9,
            4.9,
            5.0,
            5.0,
            4.9
           ],
           "y": [
            6.5,
            5.1,
            5.1,
            5.0,
            5.0,
            5.1,
            5.1,
            9.9,
            9.9,
            10.0,
            10.0,
            9.9,
            9.9,
            8.6,
            8.6,
            6.5,
            6.5
           ],
           "type": "scatter"
          },
          {
           "fill": "toself",
           "fillcolor": "rgb(0, 0, 0)",
           "hoverinfo": "name",
           "line": {
            "width": 0
           },
           "mode": "lines",
           "name": "Risk Area",
           "showlegend": false,
           "x": [
            1.5,
            0.0,
            0.0,
            4.9,
            4.9,
            5.0,
            5.0,
            4.9,
            4.9,
            3.6,
            3.6,
            1.5,
            1.5
           ],
           "y": [
            10.1,
            10.1,
            15.0,
            15.0,
            13.6,
            13.6,
            11.5,
            11.5,
            10.1,
            10.1,
            10.0,
            10.0,
            10.1
           ],
           "type": "scatter"
          },
          {
           "fill": "toself",
           "fillcolor": "rgb(0, 0, 0)",
           "hoverinfo": "name",
           "line": {
            "width": 0
           },
           "mode": "lines",
           "name": "Risk Area",
           "showlegend": false,
           "x": [
            6.4,
            5.1,
            5.1,
            5.0,
            5.0,
            5.1,
            5.1,
            9.9,
            9.9,
            10.0,
            10.0,
            9.9,
            9.9,
            8.6,
            8.6,
            6.4,
            6.4
           ],
           "y": [
            10.1,
            10.1,
            11.5,
            11.5,
            13.6,
            13.6,
            15.0,
            15.0,
            13.6,
            13.6,
            11.5,
            11.5,
            10.1,
            10.1,
            10.0,
            10.0,
            10.1
           ],
           "type": "scatter"
          },
          {
           "fill": "toself",
           "fillcolor": "rgb(0, 0, 0)",
           "hoverinfo": "name",
           "line": {
            "width": 0
           },
           "mode": "lines",
           "name": "Risk Area",
           "showlegend": false,
           "x": [
            10.1,
            10.1,
            15.0,
            15.0,
            13.6,
            13.6,
            11.5,
            11.5,
            10.1,
            10.1,
            10.0,
            10.0,
            10.1
           ],
           "y": [
            13.6,
            15.0,
            15.0,
            10.1,
            10.1,
            10.0,
            10.0,
            10.1,
            10.1,
            11.5,
            11.5,
            13.6,
            13.6
           ],
           "type": "scatter"
          },
          {
           "hoverinfo": "text",
           "marker": {
            "opacity": 1,
            "size": 1
           },
           "mode": "markers",
           "showlegend": false,
           "text": [
            "ID: 11, Pos(4.46,6.53)"
           ],
           "x": [
            4.460561257802686
           ],
           "y": [
            6.528052304549124
           ],
           "type": "scatter"
          },
          {
           "hoverinfo": "text",
           "marker": {
            "opacity": 1,
            "size": 1
           },
           "mode": "markers",
           "showlegend": false,
           "text": [
            "ID: 12, Pos(1.87,4.94)"
           ],
           "x": [
            1.8690767091094989
           ],
           "y": [
            4.9396852057285
           ],
           "type": "scatter"
          },
          {
           "hoverinfo": "text",
           "marker": {
            "opacity": 1,
            "size": 1
           },
           "mode": "markers",
           "showlegend": false,
           "text": [
            "ID: 13, Pos(2.01,3.66)"
           ],
           "x": [
            2.010489144341684
           ],
           "y": [
            3.6628767569526293
           ],
           "type": "scatter"
          },
          {
           "hoverinfo": "text",
           "marker": {
            "opacity": 1,
            "size": 1
           },
           "mode": "markers",
           "showlegend": false,
           "text": [
            "ID: 14, Pos(3.46,6.27)"
           ],
           "x": [
            3.4582386212378515
           ],
           "y": [
            6.268177832015486
           ],
           "type": "scatter"
          },
          {
           "hoverinfo": "text",
           "marker": {
            "opacity": 1,
            "size": 1
           },
           "mode": "markers",
           "showlegend": false,
           "text": [
            "ID: 15, Pos(2.30,5.49)"
           ],
           "x": [
            2.302506793123404
           ],
           "y": [
            5.494004129033932
           ],
           "type": "scatter"
          },
          {
           "hoverinfo": "text",
           "marker": {
            "opacity": 1,
            "size": 1
           },
           "mode": "markers",
           "showlegend": false,
           "text": [
            "ID: 16, Pos(3.92,7.01)"
           ],
           "x": [
            3.915788197522227
           ],
           "y": [
            7.007786501404121
           ],
           "type": "scatter"
          },
          {
           "hoverinfo": "text",
           "marker": {
            "opacity": 1,
            "size": 1
           },
           "mode": "markers",
           "showlegend": false,
           "text": [
            "ID: 17, Pos(5.48,7.07)"
           ],
           "x": [
            5.482486188577425
           ],
           "y": [
            7.065613188911709
           ],
           "type": "scatter"
          },
          {
           "hoverinfo": "text",
           "marker": {
            "opacity": 1,
            "size": 1
           },
           "mode": "markers",
           "showlegend": false,
           "text": [
            "ID: 18, Pos(2.92,5.77)"
           ],
           "x": [
            2.916227348329541
           ],
           "y": [
            5.769614253980268
           ],
           "type": "scatter"
          },
          {
           "hoverinfo": "text",
           "marker": {
            "opacity": 1,
            "size": 1
           },
           "mode": "markers",
           "showlegend": false,
           "text": [
            "ID: 19, Pos(2.60,6.25)"
           ],
           "x": [
            2.596182737209192
           ],
           "y": [
            6.246307460027647
           ],
           "type": "scatter"
          },
          {
           "hoverinfo": "text",
           "marker": {
            "opacity": 1,
            "size": 1
           },
           "mode": "markers",
           "showlegend": false,
           "text": [
            "ID: 20, Pos(2.36,4.64)"
           ],
           "x": [
            2.3641282387484934
           ],
           "y": [
            4.640073439144744
           ],
           "type": "scatter"
          }
         ],
         "layout": {
          "shapes": [
           {
            "fillcolor": "rgba(157, 255, 90, 0.5)",
            "line": {
             "color": "rgba(157, 255, 90, 0.5)"
            },
            "type": "circle",
            "x0": 4.260561257802686,
            "x1": 4.660561257802686,
            "xref": "x",
            "y0": 6.328052304549124,
            "y1": 6.7280523045491245,
            "yref": "y"
           },
           {
            "fillcolor": "rgba(241, 252, 6, 0.5)",
            "line": {
             "color": "rgba(241, 252, 6, 0.5)"
            },
            "type": "circle",
            "x0": 1.669076709109499,
            "x1": 2.069076709109499,
            "xref": "x",
            "y0": 4.7396852057285,
            "y1": 5.1396852057285,
            "yref": "y"
           },
           {
            "fillcolor": "rgba(0, 101, 255, 0.5)",
            "line": {
             "color": "rgba(0, 101, 255, 0.5)"
            },
            "type": "circle",
            "x0": 1.8104891443416842,
            "x1": 2.2104891443416843,
            "xref": "x",
            "y0": 3.462876756952629,
            "y1": 3.8628767569526294,
            "yref": "y"
           },
           {
            "fillcolor": "rgba(0, 212, 255, 0.5)",
            "line": {
             "color": "rgba(0, 212, 255, 0.5)"
            },
            "type": "circle",
            "x0": 3.2582386212378514,
            "x1": 3.6582386212378517,
            "xref": "x",
            "y0": 6.068177832015486,
            "y1": 6.468177832015487,
            "yref": "y"
           },
           {
            "fillcolor": "rgba(157, 255, 90, 0.5)",
            "line": {
             "color": "rgba(157, 255, 90, 0.5)"
            },
            "type": "circle",
            "x0": 2.102506793123404,
            "x1": 2.502506793123404,
            "xref": "x",
            "y0": 5.294004129033932,
            "y1": 5.6940041290339325,
            "yref": "y"
           },
           {
            "fillcolor": "rgba(0, 220, 254, 0.5)",
            "line": {
             "color": "rgba(0, 220, 254, 0.5)"
            },
            "type": "circle",
            "x0": 3.715788197522227,
            "x1": 4.115788197522227,
            "xref": "x",
            "y0": 6.807786501404121,
            "y1": 7.207786501404121,
            "yref": "y"
           },
           {
            "fillcolor": "rgba(128, 255, 119, 0.5)",
            "line": {
             "color": "rgba(128, 255, 119, 0.5)"
            },
            "type": "circle",
            "x0": 5.282486188577425,
            "x1": 5.682486188577426,
            "xref": "x",
            "y0": 6.865613188911709,
            "y1": 7.2656131889117095,
            "yref": "y"
           },
           {
            "fillcolor": "rgba(0, 160, 255, 0.5)",
            "line": {
             "color": "rgba(0, 160, 255, 0.5)"
            },
            "type": "circle",
            "x0": 2.7162273483295407,
            "x1": 3.116227348329541,
            "xref": "x",
            "y0": 5.5696142539802675,
            "y1": 5.969614253980268,
            "yref": "y"
           },
           {
            "fillcolor": "rgba(0, 125, 255, 0.5)",
            "line": {
             "color": "rgba(0, 125, 255, 0.5)"
            },
            "type": "circle",
            "x0": 2.396182737209192,
            "x1": 2.7961827372091923,
            "xref": "x",
            "y0": 6.046307460027647,
            "y1": 6.446307460027647,
            "yref": "y"
           },
           {
            "fillcolor": "rgba(0, 0, 128, 0.5)",
            "line": {
             "color": "rgba(0, 0, 128, 0.5)"
            },
            "type": "circle",
            "x0": 2.1641282387484932,
            "x1": 2.5641282387484936,
            "xref": "x",
            "y0": 4.440073439144744,
            "y1": 4.840073439144744,
            "yref": "y"
           },
           {
            "line": {
             "color": "black",
             "width": 3
            },
            "type": "line",
            "x0": 4.460561257802686,
            "x1": 4.650896432262699,
            "y0": 6.528052304549124,
            "y1": 6.589473159014661
           },
           {
            "line": {
             "color": "black",
             "width": 3
            },
            "type": "line",
            "x0": 1.8690767091094989,
            "x1": 1.905924170095565,
            "y0": 4.9396852057285,
            "y1": 5.136261563968448
           },
           {
            "line": {
             "color": "white",
             "width": 3
            },
            "type": "line",
            "x0": 2.010489144341684,
            "x1": 2.0356245576447707,
            "y0": 3.6628767569526293,
            "y1": 3.861290997868152
           },
           {
            "line": {
             "color": "black",
             "width": 3
            },
            "type": "line",
            "x0": 3.4582386212378515,
            "x1": 3.6485984210377502,
            "y0": 6.268177832015486,
            "y1": 6.329522323374878
           },
           {
            "line": {
             "color": "black",
             "width": 3
            },
            "type": "line",
            "x0": 2.302506793123404,
            "x1": 2.3019461188049415,
            "y0": 5.494004129033932,
            "y1": 5.69400334314316
           },
           {
            "line": {
             "color": "black",
             "width": 3
            },
            "type": "line",
            "x0": 3.915788197522227,
            "x1": 4.110299903708413,
            "y0": 7.007786501404121,
            "y1": 7.054318169723006
           },
           {
            "line": {
             "color": "black",
             "width": 3
            },
            "type": "line",
            "x0": 5.482486188577425,
            "x1": 5.67796829526995,
            "y0": 7.065613188911709,
            "y1": 7.107883106856418
           },
           {
            "line": {
             "color": "white",
             "width": 3
            },
            "type": "line",
            "x0": 2.916227348329541,
            "x1": 2.950036213664929,
            "y0": 5.769614253980268,
            "y1": 5.966735943869366
           },
           {
            "line": {
             "color": "white",
             "width": 3
            },
            "type": "line",
            "x0": 2.596182737209192,
            "x1": 2.744168830157722,
            "y0": 6.246307460027647,
            "y1": 6.380844132700302
           },
           {
            "line": {
             "color": "white",
             "width": 3
            },
            "type": "line",
            "x0": 2.3641282387484934,
            "x1": 2.4632886004248884,
            "y0": 4.640073439144744,
            "y1": 4.813760579348636
           }
          ],
          "title": {
           "text": "<b>Mode: Low_knowledge_shortest_path  |  Number of Agents: 10</b>",
           "x": 0.5
          }
         },
         "name": "150"
        },
        {
         "data": [
          {
           "hoverinfo": "name",
           "line": {
            "color": "white"
           },
           "mode": "lines",
           "name": "Exterior",
           "showlegend": false,
           "x": [
            10.1,
            10.1,
            15.0,
            15.0,
            13.6,
            13.6,
            15.0,
            15.0,
            13.6,
            13.6,
            15.0,
            15.0,
            10.1,
            10.1,
            9.9,
            9.9,
            5.1,
            5.1,
            4.9,
            4.9,
            0.0,
            0.0,
            1.5,
            1.5,
            0.0,
            0.0,
            1.5,
            1.5,
            0.0,
            0.0,
            4.9,
            4.9,
            5.1,
            5.1,
            9.9,
            9.9,
            10.1
           ],
           "y": [
            1.5,
            0.0,
            0.0,
            4.9,
            4.9,
            5.1,
            5.1,
            9.9,
            9.9,
            10.1,
            10.1,
            15.0,
            15.0,
            13.6,
            13.6,
            15.0,
            15.0,
            13.6,
            13.6,
            15.0,
            15.0,
            10.1,
            10.1,
            9.9,
            9.9,
            5.1,
            5.1,
            4.9,
            4.9,
            0.0,
            0.0,
            1.5,
            1.5,
            0.0,
            0.0,
            1.5,
            1.5
           ],
           "type": "scatter"
          },
          {
           "hoverinfo": "name",
           "line": {
            "color": "white"
           },
           "mode": "lines",
           "name": "Obstacle",
           "showlegend": false,
           "x": [
            10.1,
            11.5,
            11.5,
            10.1,
            10.1,
            9.9,
            9.9,
            8.6,
            8.6,
            9.9,
            9.9,
            10.1,
            10.1
           ],
           "y": [
            5.1,
            5.1,
            4.9,
            4.9,
            3.6,
            3.6,
            4.9,
            4.9,
            5.1,
            5.1,
            6.5,
            6.5,
            5.1
           ],
           "type": "scatter"
          },
          {
           "hoverinfo": "name",
           "line": {
            "color": "white"
           },
           "mode": "lines",
           "name": "Obstacle",
           "showlegend": false,
           "x": [
            10.1,
            11.5,
            11.5,
            10.1,
            10.1,
            9.9,
            9.9,
            8.6,
            8.6,
            9.9,
            9.9,
            10.1,
            10.1
           ],
           "y": [
            10.1,
            10.1,
            9.9,
            9.9,
            8.6,
            8.6,
            9.9,
            9.9,
            10.1,
            10.1,
            11.5,
            11.5,
            10.1
           ],
           "type": "scatter"
          },
          {
           "hoverinfo": "name",
           "line": {
            "color": "white"
           },
           "mode": "lines",
           "name": "Obstacle",
           "showlegend": false,
           "x": [
            5.1,
            6.4,
            6.4,
            5.1,
            5.1,
            4.9,
            4.9,
            3.6,
            3.6,
            4.9,
            4.9,
            5.1,
            5.1
           ],
           "y": [
            5.1,
            5.1,
            4.9,
            4.9,
            3.6,
            3.6,
            4.9,
            4.9,
            5.1,
            5.1,
            6.5,
            6.5,
            5.1
           ],
           "type": "scatter"
          },
          {
           "hoverinfo": "name",
           "line": {
            "color": "white"
           },
           "mode": "lines",
           "name": "Obstacle",
           "showlegend": false,
           "x": [
            5.1,
            6.4,
            6.4,
            5.1,
            5.1,
            4.9,
            4.9,
            3.6,
            3.6,
            4.9,
            4.9,
            5.1,
            5.1
           ],
           "y": [
            10.1,
            10.1,
            9.9,
            9.9,
            8.6,
            8.6,
            9.9,
            9.9,
            10.1,
            10.1,
            11.5,
            11.5,
            10.1
           ],
           "type": "scatter"
          },
          {
           "fill": "toself",
           "fillcolor": "rgb(0, 0, 0)",
           "hoverinfo": "name",
           "line": {
            "width": 0
           },
           "mode": "lines",
           "name": "Risk Area",
           "showlegend": false,
           "x": [
            1.5,
            1.5,
            3.6,
            3.6,
            4.9,
            4.9,
            5.0,
            5.0,
            4.9,
            4.9,
            0.0,
            0.0,
            1.5
           ],
           "y": [
            4.9,
            5.0,
            5.0,
            4.9,
            4.9,
            3.6,
            3.6,
            1.5,
            1.5,
            0.0,
            0.0,
            4.9,
            4.9
           ],
           "type": "scatter"
          },
          {
           "fill": "toself",
           "fillcolor": "rgb(153, 0, 0)",
           "hoverinfo": "name",
           "line": {
            "width": 0
           },
           "mode": "lines",
           "name": "Risk Area",
           "showlegend": false,
           "x": [
            9.9,
            9.9,
            5.1,
            5.1,
            5.0,
            5.0,
            5.1,
            5.1,
            6.4,
            6.4,
            8.6,
            8.6,
            9.9,
            9.9,
            10.0,
            10.0,
            9.9
           ],
           "y": [
            1.5,
            0.0,
            0.0,
            1.5,
            1.5,
            3.6,
            3.6,
            4.9,
            4.9,
            5.0,
            5.0,
            4.9,
            4.9,
            3.6,
            3.6,
            1.5,
            1.5
           ],
           "type": "scatter"
          },
          {
           "fill": "toself",
           "fillcolor": "rgb(0, 0, 0)",
           "hoverinfo": "name",
           "line": {
            "width": 0
           },
           "mode": "lines",
           "name": "Risk Area",
           "showlegend": false,
           "x": [
            13.6,
            15.0,
            15.0,
            10.1,
            10.1,
            10.0,
            10.0,
            10.1,
            10.1,
            11.5,
            11.5,
            13.6,
            13.6
           ],
           "y": [
            4.9,
            4.9,
            0.0,
            0.0,
            1.5,
            1.5,
            3.6,
            3.6,
            4.9,
            4.9,
            5.0,
            5.0,
            4.9
           ],
           "type": "scatter"
          },
          {
           "fill": "toself",
           "fillcolor": "rgb(153, 0, 0)",
           "hoverinfo": "name",
           "line": {
            "width": 0
           },
           "mode": "lines",
           "name": "Risk Area",
           "showlegend": false,
           "x": [
            13.6,
            15.0,
            15.0,
            13.6,
            13.6,
            11.5,
            11.5,
            10.1,
            10.1,
            10.0,
            10.0,
            10.1,
            10.1,
            11.5,
            11.5,
            13.6,
            13.6
           ],
           "y": [
            9.9,
            9.9,
            5.1,
            5.1,
            5.0,
            5.0,
            5.1,
            5.1,
            6.5,
            6.5,
            8.6,
            8.6,
            9.9,
            9.9,
            10.0,
            10.0,
            9.9
           ],
           "type": "scatter"
          },
          {
           "fill": "toself",
           "fillcolor": "rgb(153, 0, 0)",
           "hoverinfo": "name",
           "line": {
            "width": 0
           },
           "mode": "lines",
           "name": "Risk Area",
           "showlegend": false,
           "x": [
            9.9,
            9.9,
            8.6,
            8.6,
            6.4,
            6.4,
            5.1,
            5.1,
            5.0,
            5.0,
            5.1,
            5.1,
            6.4,
            6.4,
            8.6,
            8.6,
            9.9,
            9.9,
            10.0,
            10.0,
            9.9
           ],
           "y": [
            6.5,
            5.1,
            5.1,
            5.0,
            5.0,
            5.1,
            5.1,
            6.5,
            6.5,
            8.6,
            8.6,
            9.9,
            9.9,
            10.0,
            10.0,
            9.9,
            9.9,
            8.6,
            8.6,
            6.5,
            6.5
           ],
           "type": "scatter"
          },
          {
           "fill": "toself",
           "fillcolor": "rgb(25, 0, 0)",
           "hoverinfo": "name",
           "line": {
            "width": 0
           },
           "mode": "lines",
           "name": "Risk Area",
           "showlegend": false,
           "x": [
            4.9,
            4.9,
            3.6,
            3.6,
            1.5,
            1.5,
            0.0,
            0.0,
            1.5,
            1.5,
            3.6,
            3.6,
            4.9,
            4.9,
            5.0,
            5.0,
            4.9
           ],
           "y": [
            6.5,
            5.1,
            5.1,
            5.0,
            5.0,
            5.1,
            5.1,
            9.9,
            9.9,
            10.0,
            10.0,
            9.9,
            9.9,
            8.6,
            8.6,
            6.5,
            6.5
           ],
           "type": "scatter"
          },
          {
           "fill": "toself",
           "fillcolor": "rgb(0, 0, 0)",
           "hoverinfo": "name",
           "line": {
            "width": 0
           },
           "mode": "lines",
           "name": "Risk Area",
           "showlegend": false,
           "x": [
            1.5,
            0.0,
            0.0,
            4.9,
            4.9,
            5.0,
            5.0,
            4.9,
            4.9,
            3.6,
            3.6,
            1.5,
            1.5
           ],
           "y": [
            10.1,
            10.1,
            15.0,
            15.0,
            13.6,
            13.6,
            11.5,
            11.5,
            10.1,
            10.1,
            10.0,
            10.0,
            10.1
           ],
           "type": "scatter"
          },
          {
           "fill": "toself",
           "fillcolor": "rgb(0, 0, 0)",
           "hoverinfo": "name",
           "line": {
            "width": 0
           },
           "mode": "lines",
           "name": "Risk Area",
           "showlegend": false,
           "x": [
            6.4,
            5.1,
            5.1,
            5.0,
            5.0,
            5.1,
            5.1,
            9.9,
            9.9,
            10.0,
            10.0,
            9.9,
            9.9,
            8.6,
            8.6,
            6.4,
            6.4
           ],
           "y": [
            10.1,
            10.1,
            11.5,
            11.5,
            13.6,
            13.6,
            15.0,
            15.0,
            13.6,
            13.6,
            11.5,
            11.5,
            10.1,
            10.1,
            10.0,
            10.0,
            10.1
           ],
           "type": "scatter"
          },
          {
           "fill": "toself",
           "fillcolor": "rgb(0, 0, 0)",
           "hoverinfo": "name",
           "line": {
            "width": 0
           },
           "mode": "lines",
           "name": "Risk Area",
           "showlegend": false,
           "x": [
            10.1,
            10.1,
            15.0,
            15.0,
            13.6,
            13.6,
            11.5,
            11.5,
            10.1,
            10.1,
            10.0,
            10.0,
            10.1
           ],
           "y": [
            13.6,
            15.0,
            15.0,
            10.1,
            10.1,
            10.0,
            10.0,
            10.1,
            10.1,
            11.5,
            11.5,
            13.6,
            13.6
           ],
           "type": "scatter"
          },
          {
           "hoverinfo": "text",
           "marker": {
            "opacity": 1,
            "size": 1
           },
           "mode": "markers",
           "showlegend": false,
           "text": [
            "ID: 11, Pos(4.12,7.61)"
           ],
           "x": [
            4.117679143219133
           ],
           "y": [
            7.614528481578418
           ],
           "type": "scatter"
          },
          {
           "hoverinfo": "text",
           "marker": {
            "opacity": 1,
            "size": 1
           },
           "mode": "markers",
           "showlegend": false,
           "text": [
            "ID: 12, Pos(1.91,5.81)"
           ],
           "x": [
            1.90559043698339
           ],
           "y": [
            5.807746972682664
           ],
           "type": "scatter"
          },
          {
           "hoverinfo": "text",
           "marker": {
            "opacity": 1,
            "size": 1
           },
           "mode": "markers",
           "showlegend": false,
           "text": [
            "ID: 13, Pos(2.08,4.88)"
           ],
           "x": [
            2.0800810483562553
           ],
           "y": [
            4.878552870326194
           ],
           "type": "scatter"
          },
          {
           "hoverinfo": "text",
           "marker": {
            "opacity": 1,
            "size": 1
           },
           "mode": "markers",
           "showlegend": false,
           "text": [
            "ID: 14, Pos(3.34,7.58)"
           ],
           "x": [
            3.335859629334359
           ],
           "y": [
            7.581566010429309
           ],
           "type": "scatter"
          },
          {
           "hoverinfo": "text",
           "marker": {
            "opacity": 1,
            "size": 1
           },
           "mode": "markers",
           "showlegend": false,
           "text": [
            "ID: 15, Pos(2.25,6.72)"
           ],
           "x": [
            2.249821013437331
           ],
           "y": [
            6.720383865175089
           ],
           "type": "scatter"
          },
          {
           "hoverinfo": "text",
           "marker": {
            "opacity": 1,
            "size": 1
           },
           "mode": "markers",
           "showlegend": false,
           "text": [
            "ID: 16, Pos(3.53,8.56)"
           ],
           "x": [
            3.528754575022141
           ],
           "y": [
            8.560124932388534
           ],
           "type": "scatter"
          },
          {
           "hoverinfo": "text",
           "marker": {
            "opacity": 1,
            "size": 1
           },
           "mode": "markers",
           "showlegend": false,
           "text": [
            "ID: 17, Pos(4.53,8.35)"
           ],
           "x": [
            4.531517584719087
           ],
           "y": [
            8.352072715973897
           ],
           "type": "scatter"
          },
          {
           "hoverinfo": "text",
           "marker": {
            "opacity": 1,
            "size": 1
           },
           "mode": "markers",
           "showlegend": false,
           "text": [
            "ID: 18, Pos(2.92,7.02)"
           ],
           "x": [
            2.915685170685178
           ],
           "y": [
            7.016465431396207
           ],
           "type": "scatter"
          },
          {
           "hoverinfo": "text",
           "marker": {
            "opacity": 1,
            "size": 1
           },
           "mode": "markers",
           "showlegend": false,
           "text": [
            "ID: 19, Pos(2.47,7.84)"
           ],
           "x": [
            2.4675462362723994
           ],
           "y": [
            7.8396332859255375
           ],
           "type": "scatter"
          },
          {
           "hoverinfo": "text",
           "marker": {
            "opacity": 1,
            "size": 1
           },
           "mode": "markers",
           "showlegend": false,
           "text": [
            "ID: 20, Pos(2.67,6.06)"
           ],
           "x": [
            2.667684977757963
           ],
           "y": [
            6.056019156096534
           ],
           "type": "scatter"
          }
         ],
         "layout": {
          "shapes": [
           {
            "fillcolor": "rgba(0, 0, 255, 0.5)",
            "line": {
             "color": "rgba(0, 0, 255, 0.5)"
            },
            "type": "circle",
            "x0": 3.917679143219133,
            "x1": 4.3176791432191335,
            "xref": "x",
            "y0": 7.414528481578418,
            "y1": 7.814528481578418,
            "yref": "y"
           },
           {
            "fillcolor": "rgba(0, 192, 255, 0.5)",
            "line": {
             "color": "rgba(0, 192, 255, 0.5)"
            },
            "type": "circle",
            "x0": 1.70559043698339,
            "x1": 2.10559043698339,
            "xref": "x",
            "y0": 5.607746972682664,
            "y1": 6.007746972682664,
            "yref": "y"
           },
           {
            "fillcolor": "rgba(2, 232, 244, 0.5)",
            "line": {
             "color": "rgba(2, 232, 244, 0.5)"
            },
            "type": "circle",
            "x0": 1.8800810483562553,
            "x1": 2.2800810483562555,
            "xref": "x",
            "y0": 4.678552870326194,
            "y1": 5.078552870326194,
            "yref": "y"
           },
           {
            "fillcolor": "rgba(0, 160, 255, 0.5)",
            "line": {
             "color": "rgba(0, 160, 255, 0.5)"
            },
            "type": "circle",
            "x0": 3.135859629334359,
            "x1": 3.535859629334359,
            "xref": "x",
            "y0": 7.381566010429309,
            "y1": 7.78156601042931,
            "yref": "y"
           },
           {
            "fillcolor": "rgba(0, 0, 223, 0.5)",
            "line": {
             "color": "rgba(0, 0, 223, 0.5)"
            },
            "type": "circle",
            "x0": 2.049821013437331,
            "x1": 2.4498210134373313,
            "xref": "x",
            "y0": 6.520383865175089,
            "y1": 6.920383865175089,
            "yref": "y"
           },
           {
            "fillcolor": "rgba(0, 0, 128, 0.5)",
            "line": {
             "color": "rgba(0, 0, 128, 0.5)"
            },
            "type": "circle",
            "x0": 3.328754575022141,
            "x1": 3.7287545750221414,
            "xref": "x",
            "y0": 8.360124932388535,
            "y1": 8.760124932388534,
            "yref": "y"
           },
           {
            "fillcolor": "rgba(0, 0, 128, 0.5)",
            "line": {
             "color": "rgba(0, 0, 128, 0.5)"
            },
            "type": "circle",
            "x0": 4.331517584719087,
            "x1": 4.731517584719088,
            "xref": "x",
            "y0": 8.152072715973897,
            "y1": 8.552072715973896,
            "yref": "y"
           },
           {
            "fillcolor": "rgba(0, 192, 255, 0.5)",
            "line": {
             "color": "rgba(0, 192, 255, 0.5)"
            },
            "type": "circle",
            "x0": 2.7156851706851777,
            "x1": 3.115685170685178,
            "xref": "x",
            "y0": 6.816465431396207,
            "y1": 7.216465431396207,
            "yref": "y"
           },
           {
            "fillcolor": "rgba(0, 0, 128, 0.5)",
            "line": {
             "color": "rgba(0, 0, 128, 0.5)"
            },
            "type": "circle",
            "x0": 2.2675462362723993,
            "x1": 2.6675462362723996,
            "xref": "x",
            "y0": 7.639633285925537,
            "y1": 8.039633285925538,
            "yref": "y"
           },
           {
            "fillcolor": "rgba(0, 164, 255, 0.5)",
            "line": {
             "color": "rgba(0, 164, 255, 0.5)"
            },
            "type": "circle",
            "x0": 2.467684977757963,
            "x1": 2.867684977757963,
            "xref": "x",
            "y0": 5.856019156096534,
            "y1": 6.256019156096534,
            "yref": "y"
           },
           {
            "line": {
             "color": "white",
             "width": 3
            },
            "type": "line",
            "x0": 4.117679143219133,
            "x1": 4.061299616830001,
            "y0": 7.614528481578418,
            "y1": 7.8064173791315
           },
           {
            "line": {
             "color": "black",
             "width": 3
            },
            "type": "line",
            "x0": 1.90559043698339,
            "x1": 1.913459573333766,
            "y0": 5.807746972682664,
            "y1": 6.007592104454992
           },
           {
            "line": {
             "color": "black",
             "width": 3
            },
            "type": "line",
            "x0": 2.0800810483562553,
            "x1": 2.092808157479401,
            "y0": 4.878552870326194,
            "y1": 5.078147511269702
           },
           {
            "line": {
             "color": "white",
             "width": 3
            },
            "type": "line",
            "x0": 3.335859629334359,
            "x1": 3.310948070064672,
            "y0": 7.581566010429309,
            "y1": 7.780008481223121
           },
           {
            "line": {
             "color": "white",
             "width": 3
            },
            "type": "line",
            "x0": 2.249821013437331,
            "x1": 2.235561829832925,
            "y0": 6.720383865175089,
            "y1": 6.919874906785823
           },
           {
            "line": {
             "color": "white",
             "width": 3
            },
            "type": "line",
            "x0": 3.528754575022141,
            "x1": 3.4778899616861745,
            "y0": 8.560124932388534,
            "y1": 8.753548796247632
           },
           {
            "line": {
             "color": "white",
             "width": 3
            },
            "type": "line",
            "x0": 4.531517584719087,
            "x1": 4.406004908407185,
            "y0": 8.352072715973897,
            "y1": 8.50778581139308
           },
           {
            "line": {
             "color": "black",
             "width": 3
            },
            "type": "line",
            "x0": 2.915685170685178,
            "x1": 2.904055948002514,
            "y0": 7.016465431396207,
            "y1": 7.21612704808754
           },
           {
            "line": {
             "color": "white",
             "width": 3
            },
            "type": "line",
            "x0": 2.4675462362723994,
            "x1": 2.4646247323995887,
            "y0": 7.8396332859255375,
            "y1": 8.039611946824948
           },
           {
            "line": {
             "color": "white",
             "width": 3
            },
            "type": "line",
            "x0": 2.667684977757963,
            "x1": 2.677484032173067,
            "y0": 6.056019156096534,
            "y1": 6.2557789581903736
           }
          ],
          "title": {
           "text": "<b>Mode: Low_knowledge_shortest_path  |  Number of Agents: 10</b>",
           "x": 0.5
          }
         },
         "name": "200"
        },
        {
         "data": [
          {
           "hoverinfo": "name",
           "line": {
            "color": "white"
           },
           "mode": "lines",
           "name": "Exterior",
           "showlegend": false,
           "x": [
            10.1,
            10.1,
            15.0,
            15.0,
            13.6,
            13.6,
            15.0,
            15.0,
            13.6,
            13.6,
            15.0,
            15.0,
            10.1,
            10.1,
            9.9,
            9.9,
            5.1,
            5.1,
            4.9,
            4.9,
            0.0,
            0.0,
            1.5,
            1.5,
            0.0,
            0.0,
            1.5,
            1.5,
            0.0,
            0.0,
            4.9,
            4.9,
            5.1,
            5.1,
            9.9,
            9.9,
            10.1
           ],
           "y": [
            1.5,
            0.0,
            0.0,
            4.9,
            4.9,
            5.1,
            5.1,
            9.9,
            9.9,
            10.1,
            10.1,
            15.0,
            15.0,
            13.6,
            13.6,
            15.0,
            15.0,
            13.6,
            13.6,
            15.0,
            15.0,
            10.1,
            10.1,
            9.9,
            9.9,
            5.1,
            5.1,
            4.9,
            4.9,
            0.0,
            0.0,
            1.5,
            1.5,
            0.0,
            0.0,
            1.5,
            1.5
           ],
           "type": "scatter"
          },
          {
           "hoverinfo": "name",
           "line": {
            "color": "white"
           },
           "mode": "lines",
           "name": "Obstacle",
           "showlegend": false,
           "x": [
            10.1,
            11.5,
            11.5,
            10.1,
            10.1,
            9.9,
            9.9,
            8.6,
            8.6,
            9.9,
            9.9,
            10.1,
            10.1
           ],
           "y": [
            5.1,
            5.1,
            4.9,
            4.9,
            3.6,
            3.6,
            4.9,
            4.9,
            5.1,
            5.1,
            6.5,
            6.5,
            5.1
           ],
           "type": "scatter"
          },
          {
           "hoverinfo": "name",
           "line": {
            "color": "white"
           },
           "mode": "lines",
           "name": "Obstacle",
           "showlegend": false,
           "x": [
            10.1,
            11.5,
            11.5,
            10.1,
            10.1,
            9.9,
            9.9,
            8.6,
            8.6,
            9.9,
            9.9,
            10.1,
            10.1
           ],
           "y": [
            10.1,
            10.1,
            9.9,
            9.9,
            8.6,
            8.6,
            9.9,
            9.9,
            10.1,
            10.1,
            11.5,
            11.5,
            10.1
           ],
           "type": "scatter"
          },
          {
           "hoverinfo": "name",
           "line": {
            "color": "white"
           },
           "mode": "lines",
           "name": "Obstacle",
           "showlegend": false,
           "x": [
            5.1,
            6.4,
            6.4,
            5.1,
            5.1,
            4.9,
            4.9,
            3.6,
            3.6,
            4.9,
            4.9,
            5.1,
            5.1
           ],
           "y": [
            5.1,
            5.1,
            4.9,
            4.9,
            3.6,
            3.6,
            4.9,
            4.9,
            5.1,
            5.1,
            6.5,
            6.5,
            5.1
           ],
           "type": "scatter"
          },
          {
           "hoverinfo": "name",
           "line": {
            "color": "white"
           },
           "mode": "lines",
           "name": "Obstacle",
           "showlegend": false,
           "x": [
            5.1,
            6.4,
            6.4,
            5.1,
            5.1,
            4.9,
            4.9,
            3.6,
            3.6,
            4.9,
            4.9,
            5.1,
            5.1
           ],
           "y": [
            10.1,
            10.1,
            9.9,
            9.9,
            8.6,
            8.6,
            9.9,
            9.9,
            10.1,
            10.1,
            11.5,
            11.5,
            10.1
           ],
           "type": "scatter"
          },
          {
           "fill": "toself",
           "fillcolor": "rgb(0, 0, 0)",
           "hoverinfo": "name",
           "line": {
            "width": 0
           },
           "mode": "lines",
           "name": "Risk Area",
           "showlegend": false,
           "x": [
            1.5,
            1.5,
            3.6,
            3.6,
            4.9,
            4.9,
            5.0,
            5.0,
            4.9,
            4.9,
            0.0,
            0.0,
            1.5
           ],
           "y": [
            4.9,
            5.0,
            5.0,
            4.9,
            4.9,
            3.6,
            3.6,
            1.5,
            1.5,
            0.0,
            0.0,
            4.9,
            4.9
           ],
           "type": "scatter"
          },
          {
           "fill": "toself",
           "fillcolor": "rgb(153, 0, 0)",
           "hoverinfo": "name",
           "line": {
            "width": 0
           },
           "mode": "lines",
           "name": "Risk Area",
           "showlegend": false,
           "x": [
            9.9,
            9.9,
            5.1,
            5.1,
            5.0,
            5.0,
            5.1,
            5.1,
            6.4,
            6.4,
            8.6,
            8.6,
            9.9,
            9.9,
            10.0,
            10.0,
            9.9
           ],
           "y": [
            1.5,
            0.0,
            0.0,
            1.5,
            1.5,
            3.6,
            3.6,
            4.9,
            4.9,
            5.0,
            5.0,
            4.9,
            4.9,
            3.6,
            3.6,
            1.5,
            1.5
           ],
           "type": "scatter"
          },
          {
           "fill": "toself",
           "fillcolor": "rgb(0, 0, 0)",
           "hoverinfo": "name",
           "line": {
            "width": 0
           },
           "mode": "lines",
           "name": "Risk Area",
           "showlegend": false,
           "x": [
            13.6,
            15.0,
            15.0,
            10.1,
            10.1,
            10.0,
            10.0,
            10.1,
            10.1,
            11.5,
            11.5,
            13.6,
            13.6
           ],
           "y": [
            4.9,
            4.9,
            0.0,
            0.0,
            1.5,
            1.5,
            3.6,
            3.6,
            4.9,
            4.9,
            5.0,
            5.0,
            4.9
           ],
           "type": "scatter"
          },
          {
           "fill": "toself",
           "fillcolor": "rgb(153, 0, 0)",
           "hoverinfo": "name",
           "line": {
            "width": 0
           },
           "mode": "lines",
           "name": "Risk Area",
           "showlegend": false,
           "x": [
            13.6,
            15.0,
            15.0,
            13.6,
            13.6,
            11.5,
            11.5,
            10.1,
            10.1,
            10.0,
            10.0,
            10.1,
            10.1,
            11.5,
            11.5,
            13.6,
            13.6
           ],
           "y": [
            9.9,
            9.9,
            5.1,
            5.1,
            5.0,
            5.0,
            5.1,
            5.1,
            6.5,
            6.5,
            8.6,
            8.6,
            9.9,
            9.9,
            10.0,
            10.0,
            9.9
           ],
           "type": "scatter"
          },
          {
           "fill": "toself",
           "fillcolor": "rgb(153, 0, 0)",
           "hoverinfo": "name",
           "line": {
            "width": 0
           },
           "mode": "lines",
           "name": "Risk Area",
           "showlegend": false,
           "x": [
            9.9,
            9.9,
            8.6,
            8.6,
            6.4,
            6.4,
            5.1,
            5.1,
            5.0,
            5.0,
            5.1,
            5.1,
            6.4,
            6.4,
            8.6,
            8.6,
            9.9,
            9.9,
            10.0,
            10.0,
            9.9
           ],
           "y": [
            6.5,
            5.1,
            5.1,
            5.0,
            5.0,
            5.1,
            5.1,
            6.5,
            6.5,
            8.6,
            8.6,
            9.9,
            9.9,
            10.0,
            10.0,
            9.9,
            9.9,
            8.6,
            8.6,
            6.5,
            6.5
           ],
           "type": "scatter"
          },
          {
           "fill": "toself",
           "fillcolor": "rgb(25, 0, 0)",
           "hoverinfo": "name",
           "line": {
            "width": 0
           },
           "mode": "lines",
           "name": "Risk Area",
           "showlegend": false,
           "x": [
            4.9,
            4.9,
            3.6,
            3.6,
            1.5,
            1.5,
            0.0,
            0.0,
            1.5,
            1.5,
            3.6,
            3.6,
            4.9,
            4.9,
            5.0,
            5.0,
            4.9
           ],
           "y": [
            6.5,
            5.1,
            5.1,
            5.0,
            5.0,
            5.1,
            5.1,
            9.9,
            9.9,
            10.0,
            10.0,
            9.9,
            9.9,
            8.6,
            8.6,
            6.5,
            6.5
           ],
           "type": "scatter"
          },
          {
           "fill": "toself",
           "fillcolor": "rgb(0, 0, 0)",
           "hoverinfo": "name",
           "line": {
            "width": 0
           },
           "mode": "lines",
           "name": "Risk Area",
           "showlegend": false,
           "x": [
            1.5,
            0.0,
            0.0,
            4.9,
            4.9,
            5.0,
            5.0,
            4.9,
            4.9,
            3.6,
            3.6,
            1.5,
            1.5
           ],
           "y": [
            10.1,
            10.1,
            15.0,
            15.0,
            13.6,
            13.6,
            11.5,
            11.5,
            10.1,
            10.1,
            10.0,
            10.0,
            10.1
           ],
           "type": "scatter"
          },
          {
           "fill": "toself",
           "fillcolor": "rgb(0, 0, 0)",
           "hoverinfo": "name",
           "line": {
            "width": 0
           },
           "mode": "lines",
           "name": "Risk Area",
           "showlegend": false,
           "x": [
            6.4,
            5.1,
            5.1,
            5.0,
            5.0,
            5.1,
            5.1,
            9.9,
            9.9,
            10.0,
            10.0,
            9.9,
            9.9,
            8.6,
            8.6,
            6.4,
            6.4
           ],
           "y": [
            10.1,
            10.1,
            11.5,
            11.5,
            13.6,
            13.6,
            15.0,
            15.0,
            13.6,
            13.6,
            11.5,
            11.5,
            10.1,
            10.1,
            10.0,
            10.0,
            10.1
           ],
           "type": "scatter"
          },
          {
           "fill": "toself",
           "fillcolor": "rgb(0, 0, 0)",
           "hoverinfo": "name",
           "line": {
            "width": 0
           },
           "mode": "lines",
           "name": "Risk Area",
           "showlegend": false,
           "x": [
            10.1,
            10.1,
            15.0,
            15.0,
            13.6,
            13.6,
            11.5,
            11.5,
            10.1,
            10.1,
            10.0,
            10.0,
            10.1
           ],
           "y": [
            13.6,
            15.0,
            15.0,
            10.1,
            10.1,
            10.0,
            10.0,
            10.1,
            10.1,
            11.5,
            11.5,
            13.6,
            13.6
           ],
           "type": "scatter"
          },
          {
           "hoverinfo": "text",
           "marker": {
            "opacity": 1,
            "size": 1
           },
           "mode": "markers",
           "showlegend": false,
           "text": [
            "ID: 11, Pos(3.83,8.63)"
           ],
           "x": [
            3.8346524484475863
           ],
           "y": [
            8.628866851283968
           ],
           "type": "scatter"
          },
          {
           "hoverinfo": "text",
           "marker": {
            "opacity": 1,
            "size": 1
           },
           "mode": "markers",
           "showlegend": false,
           "text": [
            "ID: 12, Pos(1.95,7.15)"
           ],
           "x": [
            1.9499659690175082
           ],
           "y": [
            7.152672810412797
           ],
           "type": "scatter"
          },
          {
           "hoverinfo": "text",
           "marker": {
            "opacity": 1,
            "size": 1
           },
           "mode": "markers",
           "showlegend": false,
           "text": [
            "ID: 13, Pos(2.15,6.09)"
           ],
           "x": [
            2.1501390748478553
           ],
           "y": [
            6.091206091205519
           ],
           "type": "scatter"
          },
          {
           "hoverinfo": "text",
           "marker": {
            "opacity": 1,
            "size": 1
           },
           "mode": "markers",
           "showlegend": false,
           "text": [
            "ID: 14, Pos(3.08,8.95)"
           ],
           "x": [
            3.0806898183097013
           ],
           "y": [
            8.945795647948168
           ],
           "type": "scatter"
          },
          {
           "hoverinfo": "text",
           "marker": {
            "opacity": 1,
            "size": 1
           },
           "mode": "markers",
           "showlegend": false,
           "text": [
            "ID: 15, Pos(2.18,8.28)"
           ],
           "x": [
            2.176579962765391
           ],
           "y": [
            8.275576259067664
           ],
           "type": "scatter"
          },
          {
           "hoverinfo": "text",
           "marker": {
            "opacity": 1,
            "size": 1
           },
           "mode": "markers",
           "showlegend": false,
           "text": [
            "ID: 16, Pos(3.08,10.10)"
           ],
           "x": [
            3.081496542601046
           ],
           "y": [
            10.095825229613805
           ],
           "type": "scatter"
          },
          {
           "hoverinfo": "text",
           "marker": {
            "opacity": 1,
            "size": 1
           },
           "mode": "markers",
           "showlegend": false,
           "text": [
            "ID: 17, Pos(3.77,9.45)"
           ],
           "x": [
            3.7710461182768955
           ],
           "y": [
            9.44505045862732
           ],
           "type": "scatter"
          },
          {
           "hoverinfo": "text",
           "marker": {
            "opacity": 1,
            "size": 1
           },
           "mode": "markers",
           "showlegend": false,
           "text": [
            "ID: 18, Pos(2.90,8.00)"
           ],
           "x": [
            2.896854157344371
           ],
           "y": [
            8.003376972714085
           ],
           "type": "scatter"
          },
          {
           "hoverinfo": "text",
           "marker": {
            "opacity": 1,
            "size": 1
           },
           "mode": "markers",
           "showlegend": false,
           "text": [
            "ID: 19, Pos(2.44,9.44)"
           ],
           "x": [
            2.443512414047675
           ],
           "y": [
            9.439432712748282
           ],
           "type": "scatter"
          },
          {
           "hoverinfo": "text",
           "marker": {
            "opacity": 1,
            "size": 1
           },
           "mode": "markers",
           "showlegend": false,
           "text": [
            "ID: 20, Pos(2.70,7.13)"
           ],
           "x": [
            2.7020534145097064
           ],
           "y": [
            7.12776113246571
           ],
           "type": "scatter"
          }
         ],
         "layout": {
          "shapes": [
           {
            "fillcolor": "rgba(148, 255, 99, 0.5)",
            "line": {
             "color": "rgba(148, 255, 99, 0.5)"
            },
            "type": "circle",
            "x0": 3.634652448447586,
            "x1": 4.034652448447586,
            "xref": "x",
            "y0": 8.428866851283969,
            "y1": 8.828866851283967,
            "yref": "y"
           },
           {
            "fillcolor": "rgba(0, 0, 214, 0.5)",
            "line": {
             "color": "rgba(0, 0, 214, 0.5)"
            },
            "type": "circle",
            "x0": 1.7499659690175082,
            "x1": 2.1499659690175084,
            "xref": "x",
            "y0": 6.952672810412797,
            "y1": 7.352672810412797,
            "yref": "y"
           },
           {
            "fillcolor": "rgba(0, 40, 255, 0.5)",
            "line": {
             "color": "rgba(0, 40, 255, 0.5)"
            },
            "type": "circle",
            "x0": 1.9501390748478553,
            "x1": 2.3501390748478554,
            "xref": "x",
            "y0": 5.891206091205519,
            "y1": 6.291206091205519,
            "yref": "y"
           },
           {
            "fillcolor": "rgba(0, 0, 205, 0.5)",
            "line": {
             "color": "rgba(0, 0, 205, 0.5)"
            },
            "type": "circle",
            "x0": 2.880689818309701,
            "x1": 3.2806898183097015,
            "xref": "x",
            "y0": 8.745795647948169,
            "y1": 9.145795647948168,
            "yref": "y"
           },
           {
            "fillcolor": "rgba(0, 0, 137, 0.5)",
            "line": {
             "color": "rgba(0, 0, 137, 0.5)"
            },
            "type": "circle",
            "x0": 1.9765799627653908,
            "x1": 2.376579962765391,
            "xref": "x",
            "y0": 8.075576259067665,
            "y1": 8.475576259067664,
            "yref": "y"
           },
           {
            "fillcolor": "rgba(0, 0, 128, 0.5)",
            "line": {
             "color": "rgba(0, 0, 128, 0.5)"
            },
            "type": "circle",
            "x0": 2.8814965426010457,
            "x1": 3.281496542601046,
            "xref": "x",
            "y0": 9.895825229613806,
            "y1": 10.295825229613804,
            "yref": "y"
           },
           {
            "fillcolor": "rgba(2, 232, 244, 0.5)",
            "line": {
             "color": "rgba(2, 232, 244, 0.5)"
            },
            "type": "circle",
            "x0": 3.5710461182768953,
            "x1": 3.9710461182768957,
            "xref": "x",
            "y0": 9.24505045862732,
            "y1": 9.645050458627319,
            "yref": "y"
           },
           {
            "fillcolor": "rgba(0, 212, 255, 0.5)",
            "line": {
             "color": "rgba(0, 212, 255, 0.5)"
            },
            "type": "circle",
            "x0": 2.696854157344371,
            "x1": 3.0968541573443713,
            "xref": "x",
            "y0": 7.8033769727140845,
            "y1": 8.203376972714084,
            "yref": "y"
           },
           {
            "fillcolor": "rgba(0, 0, 128, 0.5)",
            "line": {
             "color": "rgba(0, 0, 128, 0.5)"
            },
            "type": "circle",
            "x0": 2.2435124140476748,
            "x1": 2.643512414047675,
            "xref": "x",
            "y0": 9.239432712748282,
            "y1": 9.639432712748281,
            "yref": "y"
           },
           {
            "fillcolor": "rgba(57, 255, 190, 0.5)",
            "line": {
             "color": "rgba(57, 255, 190, 0.5)"
            },
            "type": "circle",
            "x0": 2.502053414509706,
            "x1": 2.9020534145097066,
            "xref": "x",
            "y0": 6.92776113246571,
            "y1": 7.32776113246571,
            "yref": "y"
           },
           {
            "line": {
             "color": "black",
             "width": 3
            },
            "type": "line",
            "x0": 3.8346524484475863,
            "x1": 3.7739036742829724,
            "y0": 8.628866851283968,
            "y1": 8.819417596329735
           },
           {
            "line": {
             "color": "white",
             "width": 3
            },
            "type": "line",
            "x0": 1.9499659690175082,
            "x1": 1.954867190129303,
            "y0": 7.152672810412797,
            "y1": 7.352612746472638
           },
           {
            "line": {
             "color": "white",
             "width": 3
            },
            "type": "line",
            "x0": 2.1501390748478553,
            "x1": 2.1610867585538536,
            "y0": 6.091206091205519,
            "y1": 6.290906236977808
           },
           {
            "line": {
             "color": "white",
             "width": 3
            },
            "type": "line",
            "x0": 3.0806898183097013,
            "x1": 3.043718617080212,
            "y0": 8.945795647948168,
            "y1": 9.142348771249857
           },
           {
            "line": {
             "color": "white",
             "width": 3
            },
            "type": "line",
            "x0": 2.176579962765391,
            "x1": 2.179343861471173,
            "y0": 8.275576259067664,
            "y1": 8.475557160315619
           },
           {
            "line": {
             "color": "white",
             "width": 3
            },
            "type": "line",
            "x0": 3.081496542601046,
            "x1": 3.03176328597183,
            "y0": 10.095825229613805,
            "y1": 10.289543073874608
           },
           {
            "line": {
             "color": "black",
             "width": 3
            },
            "type": "line",
            "x0": 3.7710461182768955,
            "x1": 3.6493133312108554,
            "y0": 9.44505045862732,
            "y1": 9.603736086688382
           },
           {
            "line": {
             "color": "black",
             "width": 3
            },
            "type": "line",
            "x0": 2.896854157344371,
            "x1": 2.89147907611297,
            "y0": 8.003376972714085,
            "y1": 8.203304730921282
           },
           {
            "line": {
             "color": "white",
             "width": 3
            },
            "type": "line",
            "x0": 2.443512414047675,
            "x1": 2.4381378574076393,
            "y0": 9.439432712748282,
            "y1": 9.639360485058491
           },
           {
            "line": {
             "color": "black",
             "width": 3
            },
            "type": "line",
            "x0": 2.7020534145097064,
            "x1": 2.7093669447494966,
            "y0": 7.12776113246571,
            "y1": 7.327627368422241
           }
          ],
          "title": {
           "text": "<b>Mode: Low_knowledge_shortest_path  |  Number of Agents: 10</b>",
           "x": 0.5
          }
         },
         "name": "250"
        },
        {
         "data": [
          {
           "hoverinfo": "name",
           "line": {
            "color": "white"
           },
           "mode": "lines",
           "name": "Exterior",
           "showlegend": false,
           "x": [
            10.1,
            10.1,
            15.0,
            15.0,
            13.6,
            13.6,
            15.0,
            15.0,
            13.6,
            13.6,
            15.0,
            15.0,
            10.1,
            10.1,
            9.9,
            9.9,
            5.1,
            5.1,
            4.9,
            4.9,
            0.0,
            0.0,
            1.5,
            1.5,
            0.0,
            0.0,
            1.5,
            1.5,
            0.0,
            0.0,
            4.9,
            4.9,
            5.1,
            5.1,
            9.9,
            9.9,
            10.1
           ],
           "y": [
            1.5,
            0.0,
            0.0,
            4.9,
            4.9,
            5.1,
            5.1,
            9.9,
            9.9,
            10.1,
            10.1,
            15.0,
            15.0,
            13.6,
            13.6,
            15.0,
            15.0,
            13.6,
            13.6,
            15.0,
            15.0,
            10.1,
            10.1,
            9.9,
            9.9,
            5.1,
            5.1,
            4.9,
            4.9,
            0.0,
            0.0,
            1.5,
            1.5,
            0.0,
            0.0,
            1.5,
            1.5
           ],
           "type": "scatter"
          },
          {
           "hoverinfo": "name",
           "line": {
            "color": "white"
           },
           "mode": "lines",
           "name": "Obstacle",
           "showlegend": false,
           "x": [
            10.1,
            11.5,
            11.5,
            10.1,
            10.1,
            9.9,
            9.9,
            8.6,
            8.6,
            9.9,
            9.9,
            10.1,
            10.1
           ],
           "y": [
            5.1,
            5.1,
            4.9,
            4.9,
            3.6,
            3.6,
            4.9,
            4.9,
            5.1,
            5.1,
            6.5,
            6.5,
            5.1
           ],
           "type": "scatter"
          },
          {
           "hoverinfo": "name",
           "line": {
            "color": "white"
           },
           "mode": "lines",
           "name": "Obstacle",
           "showlegend": false,
           "x": [
            10.1,
            11.5,
            11.5,
            10.1,
            10.1,
            9.9,
            9.9,
            8.6,
            8.6,
            9.9,
            9.9,
            10.1,
            10.1
           ],
           "y": [
            10.1,
            10.1,
            9.9,
            9.9,
            8.6,
            8.6,
            9.9,
            9.9,
            10.1,
            10.1,
            11.5,
            11.5,
            10.1
           ],
           "type": "scatter"
          },
          {
           "hoverinfo": "name",
           "line": {
            "color": "white"
           },
           "mode": "lines",
           "name": "Obstacle",
           "showlegend": false,
           "x": [
            5.1,
            6.4,
            6.4,
            5.1,
            5.1,
            4.9,
            4.9,
            3.6,
            3.6,
            4.9,
            4.9,
            5.1,
            5.1
           ],
           "y": [
            5.1,
            5.1,
            4.9,
            4.9,
            3.6,
            3.6,
            4.9,
            4.9,
            5.1,
            5.1,
            6.5,
            6.5,
            5.1
           ],
           "type": "scatter"
          },
          {
           "hoverinfo": "name",
           "line": {
            "color": "white"
           },
           "mode": "lines",
           "name": "Obstacle",
           "showlegend": false,
           "x": [
            5.1,
            6.4,
            6.4,
            5.1,
            5.1,
            4.9,
            4.9,
            3.6,
            3.6,
            4.9,
            4.9,
            5.1,
            5.1
           ],
           "y": [
            10.1,
            10.1,
            9.9,
            9.9,
            8.6,
            8.6,
            9.9,
            9.9,
            10.1,
            10.1,
            11.5,
            11.5,
            10.1
           ],
           "type": "scatter"
          },
          {
           "fill": "toself",
           "fillcolor": "rgb(0, 0, 0)",
           "hoverinfo": "name",
           "line": {
            "width": 0
           },
           "mode": "lines",
           "name": "Risk Area",
           "showlegend": false,
           "x": [
            1.5,
            1.5,
            3.6,
            3.6,
            4.9,
            4.9,
            5.0,
            5.0,
            4.9,
            4.9,
            0.0,
            0.0,
            1.5
           ],
           "y": [
            4.9,
            5.0,
            5.0,
            4.9,
            4.9,
            3.6,
            3.6,
            1.5,
            1.5,
            0.0,
            0.0,
            4.9,
            4.9
           ],
           "type": "scatter"
          },
          {
           "fill": "toself",
           "fillcolor": "rgb(153, 0, 0)",
           "hoverinfo": "name",
           "line": {
            "width": 0
           },
           "mode": "lines",
           "name": "Risk Area",
           "showlegend": false,
           "x": [
            9.9,
            9.9,
            5.1,
            5.1,
            5.0,
            5.0,
            5.1,
            5.1,
            6.4,
            6.4,
            8.6,
            8.6,
            9.9,
            9.9,
            10.0,
            10.0,
            9.9
           ],
           "y": [
            1.5,
            0.0,
            0.0,
            1.5,
            1.5,
            3.6,
            3.6,
            4.9,
            4.9,
            5.0,
            5.0,
            4.9,
            4.9,
            3.6,
            3.6,
            1.5,
            1.5
           ],
           "type": "scatter"
          },
          {
           "fill": "toself",
           "fillcolor": "rgb(0, 0, 0)",
           "hoverinfo": "name",
           "line": {
            "width": 0
           },
           "mode": "lines",
           "name": "Risk Area",
           "showlegend": false,
           "x": [
            13.6,
            15.0,
            15.0,
            10.1,
            10.1,
            10.0,
            10.0,
            10.1,
            10.1,
            11.5,
            11.5,
            13.6,
            13.6
           ],
           "y": [
            4.9,
            4.9,
            0.0,
            0.0,
            1.5,
            1.5,
            3.6,
            3.6,
            4.9,
            4.9,
            5.0,
            5.0,
            4.9
           ],
           "type": "scatter"
          },
          {
           "fill": "toself",
           "fillcolor": "rgb(153, 0, 0)",
           "hoverinfo": "name",
           "line": {
            "width": 0
           },
           "mode": "lines",
           "name": "Risk Area",
           "showlegend": false,
           "x": [
            13.6,
            15.0,
            15.0,
            13.6,
            13.6,
            11.5,
            11.5,
            10.1,
            10.1,
            10.0,
            10.0,
            10.1,
            10.1,
            11.5,
            11.5,
            13.6,
            13.6
           ],
           "y": [
            9.9,
            9.9,
            5.1,
            5.1,
            5.0,
            5.0,
            5.1,
            5.1,
            6.5,
            6.5,
            8.6,
            8.6,
            9.9,
            9.9,
            10.0,
            10.0,
            9.9
           ],
           "type": "scatter"
          },
          {
           "fill": "toself",
           "fillcolor": "rgb(153, 0, 0)",
           "hoverinfo": "name",
           "line": {
            "width": 0
           },
           "mode": "lines",
           "name": "Risk Area",
           "showlegend": false,
           "x": [
            9.9,
            9.9,
            8.6,
            8.6,
            6.4,
            6.4,
            5.1,
            5.1,
            5.0,
            5.0,
            5.1,
            5.1,
            6.4,
            6.4,
            8.6,
            8.6,
            9.9,
            9.9,
            10.0,
            10.0,
            9.9
           ],
           "y": [
            6.5,
            5.1,
            5.1,
            5.0,
            5.0,
            5.1,
            5.1,
            6.5,
            6.5,
            8.6,
            8.6,
            9.9,
            9.9,
            10.0,
            10.0,
            9.9,
            9.9,
            8.6,
            8.6,
            6.5,
            6.5
           ],
           "type": "scatter"
          },
          {
           "fill": "toself",
           "fillcolor": "rgb(25, 0, 0)",
           "hoverinfo": "name",
           "line": {
            "width": 0
           },
           "mode": "lines",
           "name": "Risk Area",
           "showlegend": false,
           "x": [
            4.9,
            4.9,
            3.6,
            3.6,
            1.5,
            1.5,
            0.0,
            0.0,
            1.5,
            1.5,
            3.6,
            3.6,
            4.9,
            4.9,
            5.0,
            5.0,
            4.9
           ],
           "y": [
            6.5,
            5.1,
            5.1,
            5.0,
            5.0,
            5.1,
            5.1,
            9.9,
            9.9,
            10.0,
            10.0,
            9.9,
            9.9,
            8.6,
            8.6,
            6.5,
            6.5
           ],
           "type": "scatter"
          },
          {
           "fill": "toself",
           "fillcolor": "rgb(0, 0, 0)",
           "hoverinfo": "name",
           "line": {
            "width": 0
           },
           "mode": "lines",
           "name": "Risk Area",
           "showlegend": false,
           "x": [
            1.5,
            0.0,
            0.0,
            4.9,
            4.9,
            5.0,
            5.0,
            4.9,
            4.9,
            3.6,
            3.6,
            1.5,
            1.5
           ],
           "y": [
            10.1,
            10.1,
            15.0,
            15.0,
            13.6,
            13.6,
            11.5,
            11.5,
            10.1,
            10.1,
            10.0,
            10.0,
            10.1
           ],
           "type": "scatter"
          },
          {
           "fill": "toself",
           "fillcolor": "rgb(0, 0, 0)",
           "hoverinfo": "name",
           "line": {
            "width": 0
           },
           "mode": "lines",
           "name": "Risk Area",
           "showlegend": false,
           "x": [
            6.4,
            5.1,
            5.1,
            5.0,
            5.0,
            5.1,
            5.1,
            9.9,
            9.9,
            10.0,
            10.0,
            9.9,
            9.9,
            8.6,
            8.6,
            6.4,
            6.4
           ],
           "y": [
            10.1,
            10.1,
            11.5,
            11.5,
            13.6,
            13.6,
            15.0,
            15.0,
            13.6,
            13.6,
            11.5,
            11.5,
            10.1,
            10.1,
            10.0,
            10.0,
            10.1
           ],
           "type": "scatter"
          },
          {
           "fill": "toself",
           "fillcolor": "rgb(0, 0, 0)",
           "hoverinfo": "name",
           "line": {
            "width": 0
           },
           "mode": "lines",
           "name": "Risk Area",
           "showlegend": false,
           "x": [
            10.1,
            10.1,
            15.0,
            15.0,
            13.6,
            13.6,
            11.5,
            11.5,
            10.1,
            10.1,
            10.0,
            10.0,
            10.1
           ],
           "y": [
            13.6,
            15.0,
            15.0,
            10.1,
            10.1,
            10.0,
            10.0,
            10.1,
            10.1,
            11.5,
            11.5,
            13.6,
            13.6
           ],
           "type": "scatter"
          },
          {
           "hoverinfo": "text",
           "marker": {
            "opacity": 1,
            "size": 1
           },
           "mode": "markers",
           "showlegend": false,
           "text": [
            "ID: 11, Pos(3.52,9.55)"
           ],
           "x": [
            3.5170289655940974
           ],
           "y": [
            9.553537669630007
           ],
           "type": "scatter"
          },
          {
           "hoverinfo": "text",
           "marker": {
            "opacity": 1,
            "size": 1
           },
           "mode": "markers",
           "showlegend": false,
           "text": [
            "ID: 12, Pos(2.03,8.69)"
           ],
           "x": [
            2.0347881823249243
           ],
           "y": [
            8.688256940072241
           ],
           "type": "scatter"
          },
          {
           "hoverinfo": "text",
           "marker": {
            "opacity": 1,
            "size": 1
           },
           "mode": "markers",
           "showlegend": false,
           "text": [
            "ID: 13, Pos(2.22,7.55)"
           ],
           "x": [
            2.2205983416817183
           ],
           "y": [
            7.546614713892804
           ],
           "type": "scatter"
          },
          {
           "hoverinfo": "text",
           "marker": {
            "opacity": 1,
            "size": 1
           },
           "mode": "markers",
           "showlegend": false,
           "text": [
            "ID: 14, Pos(2.73,10.02)"
           ],
           "x": [
            2.7279952600769786
           ],
           "y": [
            10.020141568217761
           ],
           "type": "scatter"
          },
          {
           "hoverinfo": "text",
           "marker": {
            "opacity": 1,
            "size": 1
           },
           "mode": "markers",
           "showlegend": false,
           "text": [
            "ID: 15, Pos(2.12,9.86)"
           ],
           "x": [
            2.12396939248037
           ],
           "y": [
            9.861650833224767
           ],
           "type": "scatter"
          },
          {
           "hoverinfo": "text",
           "marker": {
            "opacity": 1,
            "size": 1
           },
           "mode": "markers",
           "showlegend": false,
           "text": [
            "ID: 16, Pos(3.46,11.25)"
           ],
           "x": [
            3.460377224971273
           ],
           "y": [
            11.249281223146756
           ],
           "type": "scatter"
          },
          {
           "hoverinfo": "text",
           "marker": {
            "opacity": 1,
            "size": 1
           },
           "mode": "markers",
           "showlegend": false,
           "text": [
            "ID: 17, Pos(3.16,10.41)"
           ],
           "x": [
            3.164369838124725
           ],
           "y": [
            10.411987142744566
           ],
           "type": "scatter"
          },
          {
           "hoverinfo": "text",
           "marker": {
            "opacity": 1,
            "size": 1
           },
           "mode": "markers",
           "showlegend": false,
           "text": [
            "ID: 18, Pos(2.82,9.07)"
           ],
           "x": [
            2.8244438639297607
           ],
           "y": [
            9.069397919374357
           ],
           "type": "scatter"
          },
          {
           "hoverinfo": "text",
           "marker": {
            "opacity": 1,
            "size": 1
           },
           "mode": "markers",
           "showlegend": false,
           "text": [
            "ID: 19, Pos(2.45,11.01)"
           ],
           "x": [
            2.4493303327058324
           ],
           "y": [
            11.01452746285694
           ],
           "type": "scatter"
          },
          {
           "hoverinfo": "text",
           "marker": {
            "opacity": 1,
            "size": 1
           },
           "mode": "markers",
           "showlegend": false,
           "text": [
            "ID: 20, Pos(2.72,8.16)"
           ],
           "x": [
            2.7155472598570465
           ],
           "y": [
            8.16182917544734
           ],
           "type": "scatter"
          }
         ],
         "layout": {
          "shapes": [
           {
            "fillcolor": "rgba(54, 255, 193, 0.5)",
            "line": {
             "color": "rgba(54, 255, 193, 0.5)"
            },
            "type": "circle",
            "x0": 3.317028965594097,
            "x1": 3.7170289655940976,
            "xref": "x",
            "y0": 9.353537669630008,
            "y1": 9.753537669630006,
            "yref": "y"
           },
           {
            "fillcolor": "rgba(0, 0, 164, 0.5)",
            "line": {
             "color": "rgba(0, 0, 164, 0.5)"
            },
            "type": "circle",
            "x0": 1.8347881823249244,
            "x1": 2.2347881823249245,
            "xref": "x",
            "y0": 8.488256940072242,
            "y1": 8.88825694007224,
            "yref": "y"
           },
           {
            "fillcolor": "rgba(0, 0, 196, 0.5)",
            "line": {
             "color": "rgba(0, 0, 196, 0.5)"
            },
            "type": "circle",
            "x0": 2.020598341681718,
            "x1": 2.4205983416817185,
            "xref": "x",
            "y0": 7.346614713892804,
            "y1": 7.7466147138928045,
            "yref": "y"
           },
           {
            "fillcolor": "rgba(0, 132, 255, 0.5)",
            "line": {
             "color": "rgba(0, 132, 255, 0.5)"
            },
            "type": "circle",
            "x0": 2.5279952600769784,
            "x1": 2.9279952600769787,
            "xref": "x",
            "y0": 9.820141568217762,
            "y1": 10.22014156821776,
            "yref": "y"
           },
           {
            "fillcolor": "rgba(0, 0, 128, 0.5)",
            "line": {
             "color": "rgba(0, 0, 128, 0.5)"
            },
            "type": "circle",
            "x0": 1.9239693924803702,
            "x1": 2.3239693924803704,
            "xref": "x",
            "y0": 9.661650833224767,
            "y1": 10.061650833224766,
            "yref": "y"
           },
           {
            "fillcolor": "rgba(0, 0, 128, 0.5)",
            "line": {
             "color": "rgba(0, 0, 128, 0.5)"
            },
            "type": "circle",
            "x0": 3.260377224971273,
            "x1": 3.660377224971273,
            "xref": "x",
            "y0": 11.049281223146757,
            "y1": 11.449281223146755,
            "yref": "y"
           },
           {
            "fillcolor": "rgba(12, 244, 235, 0.5)",
            "line": {
             "color": "rgba(12, 244, 235, 0.5)"
            },
            "type": "circle",
            "x0": 2.9643698381247248,
            "x1": 3.364369838124725,
            "xref": "x",
            "y0": 10.211987142744567,
            "y1": 10.611987142744566,
            "yref": "y"
           },
           {
            "fillcolor": "rgba(0, 224, 251, 0.5)",
            "line": {
             "color": "rgba(0, 224, 251, 0.5)"
            },
            "type": "circle",
            "x0": 2.6244438639297605,
            "x1": 3.024443863929761,
            "xref": "x",
            "y0": 8.869397919374357,
            "y1": 9.269397919374356,
            "yref": "y"
           },
           {
            "fillcolor": "rgba(0, 180, 255, 0.5)",
            "line": {
             "color": "rgba(0, 180, 255, 0.5)"
            },
            "type": "circle",
            "x0": 2.2493303327058323,
            "x1": 2.6493303327058326,
            "xref": "x",
            "y0": 10.81452746285694,
            "y1": 11.214527462856939,
            "yref": "y"
           },
           {
            "fillcolor": "rgba(38, 255, 209, 0.5)",
            "line": {
             "color": "rgba(38, 255, 209, 0.5)"
            },
            "type": "circle",
            "x0": 2.5155472598570463,
            "x1": 2.9155472598570467,
            "xref": "x",
            "y0": 7.961829175447339,
            "y1": 8.361829175447339,
            "yref": "y"
           },
           {
            "line": {
             "color": "black",
             "width": 3
            },
            "type": "line",
            "x0": 3.5170289655940974,
            "x1": 3.4024828225098442,
            "y0": 9.553537669630007,
            "y1": 9.717486384490849
           },
           {
            "line": {
             "color": "white",
             "width": 3
            },
            "type": "line",
            "x0": 2.0347881823249243,
            "x1": 2.0508308248435743,
            "y0": 8.688256940072241,
            "y1": 8.887612485821585
           },
           {
            "line": {
             "color": "white",
             "width": 3
            },
            "type": "line",
            "x0": 2.2205983416817183,
            "x1": 2.225632345193788,
            "y0": 7.546614713892804,
            "y1": 7.746551350877226
           },
           {
            "line": {
             "color": "white",
             "width": 3
            },
            "type": "line",
            "x0": 2.7279952600769786,
            "x1": 2.6945525006979225,
            "y0": 10.020141568217761,
            "y1": 10.217325700046656
           },
           {
            "line": {
             "color": "white",
             "width": 3
            },
            "type": "line",
            "x0": 2.12396939248037,
            "x1": 2.0968351555690945,
            "y0": 9.861650833224767,
            "y1": 10.059801617193044
           },
           {
            "line": {
             "color": "white",
             "width": 3
            },
            "type": "line",
            "x0": 3.460377224971273,
            "x1": 3.6502925305817113,
            "y0": 11.249281223146756,
            "y1": 11.31198829368026
           },
           {
            "line": {
             "color": "black",
             "width": 3
            },
            "type": "line",
            "x0": 3.164369838124725,
            "x1": 3.1616260170462027,
            "y0": 10.411987142744566,
            "y1": 10.611968320473594
           },
           {
            "line": {
             "color": "black",
             "width": 3
            },
            "type": "line",
            "x0": 2.8244438639297607,
            "x1": 2.805621119426288,
            "y0": 9.069397919374357,
            "y1": 9.26851021002804
           },
           {
            "line": {
             "color": "black",
             "width": 3
            },
            "type": "line",
            "x0": 2.4493303327058324,
            "x1": 2.6403265509032425,
            "y0": 11.01452746285694,
            "y1": 11.073860797790072
           },
           {
            "line": {
             "color": "black",
             "width": 3
            },
            "type": "line",
            "x0": 2.7155472598570465,
            "x1": 2.715910224790096,
            "y0": 8.16182917544734,
            "y1": 8.361828846088212
           }
          ],
          "title": {
           "text": "<b>Mode: Low_knowledge_shortest_path  |  Number of Agents: 10</b>",
           "x": 0.5
          }
         },
         "name": "300"
        },
        {
         "data": [
          {
           "hoverinfo": "name",
           "line": {
            "color": "white"
           },
           "mode": "lines",
           "name": "Exterior",
           "showlegend": false,
           "x": [
            10.1,
            10.1,
            15.0,
            15.0,
            13.6,
            13.6,
            15.0,
            15.0,
            13.6,
            13.6,
            15.0,
            15.0,
            10.1,
            10.1,
            9.9,
            9.9,
            5.1,
            5.1,
            4.9,
            4.9,
            0.0,
            0.0,
            1.5,
            1.5,
            0.0,
            0.0,
            1.5,
            1.5,
            0.0,
            0.0,
            4.9,
            4.9,
            5.1,
            5.1,
            9.9,
            9.9,
            10.1
           ],
           "y": [
            1.5,
            0.0,
            0.0,
            4.9,
            4.9,
            5.1,
            5.1,
            9.9,
            9.9,
            10.1,
            10.1,
            15.0,
            15.0,
            13.6,
            13.6,
            15.0,
            15.0,
            13.6,
            13.6,
            15.0,
            15.0,
            10.1,
            10.1,
            9.9,
            9.9,
            5.1,
            5.1,
            4.9,
            4.9,
            0.0,
            0.0,
            1.5,
            1.5,
            0.0,
            0.0,
            1.5,
            1.5
           ],
           "type": "scatter"
          },
          {
           "hoverinfo": "name",
           "line": {
            "color": "white"
           },
           "mode": "lines",
           "name": "Obstacle",
           "showlegend": false,
           "x": [
            10.1,
            11.5,
            11.5,
            10.1,
            10.1,
            9.9,
            9.9,
            8.6,
            8.6,
            9.9,
            9.9,
            10.1,
            10.1
           ],
           "y": [
            5.1,
            5.1,
            4.9,
            4.9,
            3.6,
            3.6,
            4.9,
            4.9,
            5.1,
            5.1,
            6.5,
            6.5,
            5.1
           ],
           "type": "scatter"
          },
          {
           "hoverinfo": "name",
           "line": {
            "color": "white"
           },
           "mode": "lines",
           "name": "Obstacle",
           "showlegend": false,
           "x": [
            10.1,
            11.5,
            11.5,
            10.1,
            10.1,
            9.9,
            9.9,
            8.6,
            8.6,
            9.9,
            9.9,
            10.1,
            10.1
           ],
           "y": [
            10.1,
            10.1,
            9.9,
            9.9,
            8.6,
            8.6,
            9.9,
            9.9,
            10.1,
            10.1,
            11.5,
            11.5,
            10.1
           ],
           "type": "scatter"
          },
          {
           "hoverinfo": "name",
           "line": {
            "color": "white"
           },
           "mode": "lines",
           "name": "Obstacle",
           "showlegend": false,
           "x": [
            5.1,
            6.4,
            6.4,
            5.1,
            5.1,
            4.9,
            4.9,
            3.6,
            3.6,
            4.9,
            4.9,
            5.1,
            5.1
           ],
           "y": [
            5.1,
            5.1,
            4.9,
            4.9,
            3.6,
            3.6,
            4.9,
            4.9,
            5.1,
            5.1,
            6.5,
            6.5,
            5.1
           ],
           "type": "scatter"
          },
          {
           "hoverinfo": "name",
           "line": {
            "color": "white"
           },
           "mode": "lines",
           "name": "Obstacle",
           "showlegend": false,
           "x": [
            5.1,
            6.4,
            6.4,
            5.1,
            5.1,
            4.9,
            4.9,
            3.6,
            3.6,
            4.9,
            4.9,
            5.1,
            5.1
           ],
           "y": [
            10.1,
            10.1,
            9.9,
            9.9,
            8.6,
            8.6,
            9.9,
            9.9,
            10.1,
            10.1,
            11.5,
            11.5,
            10.1
           ],
           "type": "scatter"
          },
          {
           "fill": "toself",
           "fillcolor": "rgb(0, 0, 0)",
           "hoverinfo": "name",
           "line": {
            "width": 0
           },
           "mode": "lines",
           "name": "Risk Area",
           "showlegend": false,
           "x": [
            1.5,
            1.5,
            3.6,
            3.6,
            4.9,
            4.9,
            5.0,
            5.0,
            4.9,
            4.9,
            0.0,
            0.0,
            1.5
           ],
           "y": [
            4.9,
            5.0,
            5.0,
            4.9,
            4.9,
            3.6,
            3.6,
            1.5,
            1.5,
            0.0,
            0.0,
            4.9,
            4.9
           ],
           "type": "scatter"
          },
          {
           "fill": "toself",
           "fillcolor": "rgb(153, 0, 0)",
           "hoverinfo": "name",
           "line": {
            "width": 0
           },
           "mode": "lines",
           "name": "Risk Area",
           "showlegend": false,
           "x": [
            9.9,
            9.9,
            5.1,
            5.1,
            5.0,
            5.0,
            5.1,
            5.1,
            6.4,
            6.4,
            8.6,
            8.6,
            9.9,
            9.9,
            10.0,
            10.0,
            9.9
           ],
           "y": [
            1.5,
            0.0,
            0.0,
            1.5,
            1.5,
            3.6,
            3.6,
            4.9,
            4.9,
            5.0,
            5.0,
            4.9,
            4.9,
            3.6,
            3.6,
            1.5,
            1.5
           ],
           "type": "scatter"
          },
          {
           "fill": "toself",
           "fillcolor": "rgb(0, 0, 0)",
           "hoverinfo": "name",
           "line": {
            "width": 0
           },
           "mode": "lines",
           "name": "Risk Area",
           "showlegend": false,
           "x": [
            13.6,
            15.0,
            15.0,
            10.1,
            10.1,
            10.0,
            10.0,
            10.1,
            10.1,
            11.5,
            11.5,
            13.6,
            13.6
           ],
           "y": [
            4.9,
            4.9,
            0.0,
            0.0,
            1.5,
            1.5,
            3.6,
            3.6,
            4.9,
            4.9,
            5.0,
            5.0,
            4.9
           ],
           "type": "scatter"
          },
          {
           "fill": "toself",
           "fillcolor": "rgb(153, 0, 0)",
           "hoverinfo": "name",
           "line": {
            "width": 0
           },
           "mode": "lines",
           "name": "Risk Area",
           "showlegend": false,
           "x": [
            13.6,
            15.0,
            15.0,
            13.6,
            13.6,
            11.5,
            11.5,
            10.1,
            10.1,
            10.0,
            10.0,
            10.1,
            10.1,
            11.5,
            11.5,
            13.6,
            13.6
           ],
           "y": [
            9.9,
            9.9,
            5.1,
            5.1,
            5.0,
            5.0,
            5.1,
            5.1,
            6.5,
            6.5,
            8.6,
            8.6,
            9.9,
            9.9,
            10.0,
            10.0,
            9.9
           ],
           "type": "scatter"
          },
          {
           "fill": "toself",
           "fillcolor": "rgb(153, 0, 0)",
           "hoverinfo": "name",
           "line": {
            "width": 0
           },
           "mode": "lines",
           "name": "Risk Area",
           "showlegend": false,
           "x": [
            9.9,
            9.9,
            8.6,
            8.6,
            6.4,
            6.4,
            5.1,
            5.1,
            5.0,
            5.0,
            5.1,
            5.1,
            6.4,
            6.4,
            8.6,
            8.6,
            9.9,
            9.9,
            10.0,
            10.0,
            9.9
           ],
           "y": [
            6.5,
            5.1,
            5.1,
            5.0,
            5.0,
            5.1,
            5.1,
            6.5,
            6.5,
            8.6,
            8.6,
            9.9,
            9.9,
            10.0,
            10.0,
            9.9,
            9.9,
            8.6,
            8.6,
            6.5,
            6.5
           ],
           "type": "scatter"
          },
          {
           "fill": "toself",
           "fillcolor": "rgb(25, 0, 0)",
           "hoverinfo": "name",
           "line": {
            "width": 0
           },
           "mode": "lines",
           "name": "Risk Area",
           "showlegend": false,
           "x": [
            4.9,
            4.9,
            3.6,
            3.6,
            1.5,
            1.5,
            0.0,
            0.0,
            1.5,
            1.5,
            3.6,
            3.6,
            4.9,
            4.9,
            5.0,
            5.0,
            4.9
           ],
           "y": [
            6.5,
            5.1,
            5.1,
            5.0,
            5.0,
            5.1,
            5.1,
            9.9,
            9.9,
            10.0,
            10.0,
            9.9,
            9.9,
            8.6,
            8.6,
            6.5,
            6.5
           ],
           "type": "scatter"
          },
          {
           "fill": "toself",
           "fillcolor": "rgb(0, 0, 0)",
           "hoverinfo": "name",
           "line": {
            "width": 0
           },
           "mode": "lines",
           "name": "Risk Area",
           "showlegend": false,
           "x": [
            1.5,
            0.0,
            0.0,
            4.9,
            4.9,
            5.0,
            5.0,
            4.9,
            4.9,
            3.6,
            3.6,
            1.5,
            1.5
           ],
           "y": [
            10.1,
            10.1,
            15.0,
            15.0,
            13.6,
            13.6,
            11.5,
            11.5,
            10.1,
            10.1,
            10.0,
            10.0,
            10.1
           ],
           "type": "scatter"
          },
          {
           "fill": "toself",
           "fillcolor": "rgb(0, 0, 0)",
           "hoverinfo": "name",
           "line": {
            "width": 0
           },
           "mode": "lines",
           "name": "Risk Area",
           "showlegend": false,
           "x": [
            6.4,
            5.1,
            5.1,
            5.0,
            5.0,
            5.1,
            5.1,
            9.9,
            9.9,
            10.0,
            10.0,
            9.9,
            9.9,
            8.6,
            8.6,
            6.4,
            6.4
           ],
           "y": [
            10.1,
            10.1,
            11.5,
            11.5,
            13.6,
            13.6,
            15.0,
            15.0,
            13.6,
            13.6,
            11.5,
            11.5,
            10.1,
            10.1,
            10.0,
            10.0,
            10.1
           ],
           "type": "scatter"
          },
          {
           "fill": "toself",
           "fillcolor": "rgb(0, 0, 0)",
           "hoverinfo": "name",
           "line": {
            "width": 0
           },
           "mode": "lines",
           "name": "Risk Area",
           "showlegend": false,
           "x": [
            10.1,
            10.1,
            15.0,
            15.0,
            13.6,
            13.6,
            11.5,
            11.5,
            10.1,
            10.1,
            10.0,
            10.0,
            10.1
           ],
           "y": [
            13.6,
            15.0,
            15.0,
            10.1,
            10.1,
            10.0,
            10.0,
            10.1,
            10.1,
            11.5,
            11.5,
            13.6,
            13.6
           ],
           "type": "scatter"
          },
          {
           "hoverinfo": "text",
           "marker": {
            "opacity": 1,
            "size": 1
           },
           "mode": "markers",
           "showlegend": false,
           "text": [
            "ID: 11, Pos(3.18,10.38)"
           ],
           "x": [
            3.184303767775605
           ],
           "y": [
            10.381770426504104
           ],
           "type": "scatter"
          },
          {
           "hoverinfo": "text",
           "marker": {
            "opacity": 1,
            "size": 1
           },
           "mode": "markers",
           "showlegend": false,
           "text": [
            "ID: 12, Pos(2.01,10.24)"
           ],
           "x": [
            2.0053297081999144
           ],
           "y": [
            10.243575684980124
           ],
           "type": "scatter"
          },
          {
           "hoverinfo": "text",
           "marker": {
            "opacity": 1,
            "size": 1
           },
           "mode": "markers",
           "showlegend": false,
           "text": [
            "ID: 13, Pos(2.13,9.08)"
           ],
           "x": [
            2.126377598746883
           ],
           "y": [
            9.07806672498093
           ],
           "type": "scatter"
          },
          {
           "hoverinfo": "text",
           "marker": {
            "opacity": 1,
            "size": 1
           },
           "mode": "markers",
           "showlegend": false,
           "text": [
            "ID: 14, Pos(2.93,11.05)"
           ],
           "x": [
            2.9284143365865516
           ],
           "y": [
            11.046834122212996
           ],
           "type": "scatter"
          },
          {
           "hoverinfo": "text",
           "marker": {
            "opacity": 1,
            "size": 1
           },
           "mode": "markers",
           "showlegend": false,
           "text": [
            "ID: 15, Pos(2.41,11.30)"
           ],
           "x": [
            2.405258224685346
           ],
           "y": [
            11.302346257171187
           ],
           "type": "scatter"
          },
          {
           "hoverinfo": "text",
           "marker": {
            "opacity": 1,
            "size": 1
           },
           "mode": "markers",
           "showlegend": false,
           "text": [
            "ID: 16, Pos(4.88,11.90)"
           ],
           "x": [
            4.878882980084487
           ],
           "y": [
            11.904735009933663
           ],
           "type": "scatter"
          },
          {
           "hoverinfo": "text",
           "marker": {
            "opacity": 1,
            "size": 1
           },
           "mode": "markers",
           "showlegend": false,
           "text": [
            "ID: 17, Pos(3.92,11.32)"
           ],
           "x": [
            3.919284209883319
           ],
           "y": [
            11.32317982438573
           ],
           "type": "scatter"
          },
          {
           "hoverinfo": "text",
           "marker": {
            "opacity": 1,
            "size": 1
           },
           "mode": "markers",
           "showlegend": false,
           "text": [
            "ID: 18, Pos(2.62,10.17)"
           ],
           "x": [
            2.622413105842369
           ],
           "y": [
            10.172709321202342
           ],
           "type": "scatter"
          },
          {
           "hoverinfo": "text",
           "marker": {
            "opacity": 1,
            "size": 1
           },
           "mode": "markers",
           "showlegend": false,
           "text": [
            "ID: 19, Pos(3.59,11.92)"
           ],
           "x": [
            3.5906291345484758
           ],
           "y": [
            11.920527573118546
           ],
           "type": "scatter"
          },
          {
           "hoverinfo": "text",
           "marker": {
            "opacity": 1,
            "size": 1
           },
           "mode": "markers",
           "showlegend": false,
           "text": [
            "ID: 20, Pos(2.79,9.22)"
           ],
           "x": [
            2.7885604226966354
           ],
           "y": [
            9.22219481544401
           ],
           "type": "scatter"
          }
         ],
         "layout": {
          "shapes": [
           {
            "fillcolor": "rgba(255, 230, 0, 0.5)",
            "line": {
             "color": "rgba(255, 230, 0, 0.5)"
            },
            "type": "circle",
            "x0": 2.984303767775605,
            "x1": 3.3843037677756054,
            "xref": "x",
            "y0": 10.181770426504105,
            "y1": 10.581770426504104,
            "yref": "y"
           },
           {
            "fillcolor": "rgba(0, 0, 150, 0.5)",
            "line": {
             "color": "rgba(0, 0, 150, 0.5)"
            },
            "type": "circle",
            "x0": 1.8053297081999145,
            "x1": 2.2053297081999146,
            "xref": "x",
            "y0": 10.043575684980125,
            "y1": 10.443575684980123,
            "yref": "y"
           },
           {
            "fillcolor": "rgba(0, 0, 168, 0.5)",
            "line": {
             "color": "rgba(0, 0, 168, 0.5)"
            },
            "type": "circle",
            "x0": 1.926377598746883,
            "x1": 2.326377598746883,
            "xref": "x",
            "y0": 8.87806672498093,
            "y1": 9.27806672498093,
            "yref": "y"
           },
           {
            "fillcolor": "rgba(0, 117, 255, 0.5)",
            "line": {
             "color": "rgba(0, 117, 255, 0.5)"
            },
            "type": "circle",
            "x0": 2.7284143365865514,
            "x1": 3.1284143365865518,
            "xref": "x",
            "y0": 10.846834122212996,
            "y1": 11.246834122212995,
            "yref": "y"
           },
           {
            "fillcolor": "rgba(0, 0, 128, 0.5)",
            "line": {
             "color": "rgba(0, 0, 128, 0.5)"
            },
            "type": "circle",
            "x0": 2.2052582246853456,
            "x1": 2.605258224685346,
            "xref": "x",
            "y0": 11.102346257171188,
            "y1": 11.502346257171187,
            "yref": "y"
           },
           {
            "fillcolor": "rgba(0, 0, 132, 0.5)",
            "line": {
             "color": "rgba(0, 0, 132, 0.5)"
            },
            "type": "circle",
            "x0": 4.678882980084487,
            "x1": 5.0788829800844875,
            "xref": "x",
            "y0": 11.704735009933664,
            "y1": 12.104735009933663,
            "yref": "y"
           },
           {
            "fillcolor": "rgba(0, 0, 255, 0.5)",
            "line": {
             "color": "rgba(0, 0, 255, 0.5)"
            },
            "type": "circle",
            "x0": 3.7192842098833188,
            "x1": 4.119284209883319,
            "xref": "x",
            "y0": 11.12317982438573,
            "y1": 11.523179824385728,
            "yref": "y"
           },
           {
            "fillcolor": "rgba(0, 101, 255, 0.5)",
            "line": {
             "color": "rgba(0, 101, 255, 0.5)"
            },
            "type": "circle",
            "x0": 2.422413105842369,
            "x1": 2.822413105842369,
            "xref": "x",
            "y0": 9.972709321202343,
            "y1": 10.372709321202342,
            "yref": "y"
           },
           {
            "fillcolor": "rgba(0, 0, 128, 0.5)",
            "line": {
             "color": "rgba(0, 0, 128, 0.5)"
            },
            "type": "circle",
            "x0": 3.3906291345484756,
            "x1": 3.790629134548476,
            "xref": "x",
            "y0": 11.720527573118547,
            "y1": 12.120527573118546,
            "yref": "y"
           },
           {
            "fillcolor": "rgba(0, 196, 255, 0.5)",
            "line": {
             "color": "rgba(0, 196, 255, 0.5)"
            },
            "type": "circle",
            "x0": 2.588560422696635,
            "x1": 2.9885604226966356,
            "xref": "x",
            "y0": 9.02219481544401,
            "y1": 9.422194815444008,
            "yref": "y"
           },
           {
            "line": {
             "color": "black",
             "width": 3
            },
            "type": "line",
            "x0": 3.184303767775605,
            "x1": 3.192804093629487,
            "y0": 10.381770426504104,
            "y1": 10.581589706005301
           },
           {
            "line": {
             "color": "white",
             "width": 3
            },
            "type": "line",
            "x0": 2.0053297081999144,
            "x1": 1.994528918488994,
            "y0": 10.243575684980124,
            "y1": 10.443283829384955
           },
           {
            "line": {
             "color": "white",
             "width": 3
            },
            "type": "line",
            "x0": 2.126377598746883,
            "x1": 2.1158223434508625,
            "y0": 9.07806672498093,
            "y1": 9.277787997222111
           },
           {
            "line": {
             "color": "white",
             "width": 3
            },
            "type": "line",
            "x0": 2.9284143365865516,
            "x1": 3.1250174783338784,
            "y0": 11.046834122212996,
            "y1": 11.083538408816613
           },
           {
            "line": {
             "color": "white",
             "width": 3
            },
            "type": "line",
            "x0": 2.405258224685346,
            "x1": 2.5684992087234684,
            "y0": 11.302346257171187,
            "y1": 11.417898760953085
           },
           {
            "line": {
             "color": "white",
             "width": 3
            },
            "type": "line",
            "x0": 4.878882980084487,
            "x1": 5.061867790634398,
            "y0": 11.904735009933663,
            "y1": 11.985460217322764
           },
           {
            "line": {
             "color": "white",
             "width": 3
            },
            "type": "line",
            "x0": 3.919284209883319,
            "x1": 4.114638539359485,
            "y0": 11.32317982438573,
            "y1": 11.3660363986179
           },
           {
            "line": {
             "color": "white",
             "width": 3
            },
            "type": "line",
            "x0": 2.622413105842369,
            "x1": 2.597559168630818,
            "y0": 10.172709321202342,
            "y1": 10.371159017108091
           },
           {
            "line": {
             "color": "white",
             "width": 3
            },
            "type": "line",
            "x0": 3.5906291345484758,
            "x1": 3.7815455352087297,
            "y0": 11.920527573118546,
            "y1": 11.980117236307168
           },
           {
            "line": {
             "color": "black",
             "width": 3
            },
            "type": "line",
            "x0": 2.7885604226966354,
            "x1": 2.802767553109893,
            "y0": 9.22219481544401,
            "y1": 9.42168957087738
           }
          ],
          "title": {
           "text": "<b>Mode: Low_knowledge_shortest_path  |  Number of Agents: 10</b>",
           "x": 0.5
          }
         },
         "name": "350"
        },
        {
         "data": [
          {
           "hoverinfo": "name",
           "line": {
            "color": "white"
           },
           "mode": "lines",
           "name": "Exterior",
           "showlegend": false,
           "x": [
            10.1,
            10.1,
            15.0,
            15.0,
            13.6,
            13.6,
            15.0,
            15.0,
            13.6,
            13.6,
            15.0,
            15.0,
            10.1,
            10.1,
            9.9,
            9.9,
            5.1,
            5.1,
            4.9,
            4.9,
            0.0,
            0.0,
            1.5,
            1.5,
            0.0,
            0.0,
            1.5,
            1.5,
            0.0,
            0.0,
            4.9,
            4.9,
            5.1,
            5.1,
            9.9,
            9.9,
            10.1
           ],
           "y": [
            1.5,
            0.0,
            0.0,
            4.9,
            4.9,
            5.1,
            5.1,
            9.9,
            9.9,
            10.1,
            10.1,
            15.0,
            15.0,
            13.6,
            13.6,
            15.0,
            15.0,
            13.6,
            13.6,
            15.0,
            15.0,
            10.1,
            10.1,
            9.9,
            9.9,
            5.1,
            5.1,
            4.9,
            4.9,
            0.0,
            0.0,
            1.5,
            1.5,
            0.0,
            0.0,
            1.5,
            1.5
           ],
           "type": "scatter"
          },
          {
           "hoverinfo": "name",
           "line": {
            "color": "white"
           },
           "mode": "lines",
           "name": "Obstacle",
           "showlegend": false,
           "x": [
            10.1,
            11.5,
            11.5,
            10.1,
            10.1,
            9.9,
            9.9,
            8.6,
            8.6,
            9.9,
            9.9,
            10.1,
            10.1
           ],
           "y": [
            5.1,
            5.1,
            4.9,
            4.9,
            3.6,
            3.6,
            4.9,
            4.9,
            5.1,
            5.1,
            6.5,
            6.5,
            5.1
           ],
           "type": "scatter"
          },
          {
           "hoverinfo": "name",
           "line": {
            "color": "white"
           },
           "mode": "lines",
           "name": "Obstacle",
           "showlegend": false,
           "x": [
            10.1,
            11.5,
            11.5,
            10.1,
            10.1,
            9.9,
            9.9,
            8.6,
            8.6,
            9.9,
            9.9,
            10.1,
            10.1
           ],
           "y": [
            10.1,
            10.1,
            9.9,
            9.9,
            8.6,
            8.6,
            9.9,
            9.9,
            10.1,
            10.1,
            11.5,
            11.5,
            10.1
           ],
           "type": "scatter"
          },
          {
           "hoverinfo": "name",
           "line": {
            "color": "white"
           },
           "mode": "lines",
           "name": "Obstacle",
           "showlegend": false,
           "x": [
            5.1,
            6.4,
            6.4,
            5.1,
            5.1,
            4.9,
            4.9,
            3.6,
            3.6,
            4.9,
            4.9,
            5.1,
            5.1
           ],
           "y": [
            5.1,
            5.1,
            4.9,
            4.9,
            3.6,
            3.6,
            4.9,
            4.9,
            5.1,
            5.1,
            6.5,
            6.5,
            5.1
           ],
           "type": "scatter"
          },
          {
           "hoverinfo": "name",
           "line": {
            "color": "white"
           },
           "mode": "lines",
           "name": "Obstacle",
           "showlegend": false,
           "x": [
            5.1,
            6.4,
            6.4,
            5.1,
            5.1,
            4.9,
            4.9,
            3.6,
            3.6,
            4.9,
            4.9,
            5.1,
            5.1
           ],
           "y": [
            10.1,
            10.1,
            9.9,
            9.9,
            8.6,
            8.6,
            9.9,
            9.9,
            10.1,
            10.1,
            11.5,
            11.5,
            10.1
           ],
           "type": "scatter"
          },
          {
           "fill": "toself",
           "fillcolor": "rgb(0, 0, 0)",
           "hoverinfo": "name",
           "line": {
            "width": 0
           },
           "mode": "lines",
           "name": "Risk Area",
           "showlegend": false,
           "x": [
            1.5,
            1.5,
            3.6,
            3.6,
            4.9,
            4.9,
            5.0,
            5.0,
            4.9,
            4.9,
            0.0,
            0.0,
            1.5
           ],
           "y": [
            4.9,
            5.0,
            5.0,
            4.9,
            4.9,
            3.6,
            3.6,
            1.5,
            1.5,
            0.0,
            0.0,
            4.9,
            4.9
           ],
           "type": "scatter"
          },
          {
           "fill": "toself",
           "fillcolor": "rgb(153, 0, 0)",
           "hoverinfo": "name",
           "line": {
            "width": 0
           },
           "mode": "lines",
           "name": "Risk Area",
           "showlegend": false,
           "x": [
            9.9,
            9.9,
            5.1,
            5.1,
            5.0,
            5.0,
            5.1,
            5.1,
            6.4,
            6.4,
            8.6,
            8.6,
            9.9,
            9.9,
            10.0,
            10.0,
            9.9
           ],
           "y": [
            1.5,
            0.0,
            0.0,
            1.5,
            1.5,
            3.6,
            3.6,
            4.9,
            4.9,
            5.0,
            5.0,
            4.9,
            4.9,
            3.6,
            3.6,
            1.5,
            1.5
           ],
           "type": "scatter"
          },
          {
           "fill": "toself",
           "fillcolor": "rgb(0, 0, 0)",
           "hoverinfo": "name",
           "line": {
            "width": 0
           },
           "mode": "lines",
           "name": "Risk Area",
           "showlegend": false,
           "x": [
            13.6,
            15.0,
            15.0,
            10.1,
            10.1,
            10.0,
            10.0,
            10.1,
            10.1,
            11.5,
            11.5,
            13.6,
            13.6
           ],
           "y": [
            4.9,
            4.9,
            0.0,
            0.0,
            1.5,
            1.5,
            3.6,
            3.6,
            4.9,
            4.9,
            5.0,
            5.0,
            4.9
           ],
           "type": "scatter"
          },
          {
           "fill": "toself",
           "fillcolor": "rgb(153, 0, 0)",
           "hoverinfo": "name",
           "line": {
            "width": 0
           },
           "mode": "lines",
           "name": "Risk Area",
           "showlegend": false,
           "x": [
            13.6,
            15.0,
            15.0,
            13.6,
            13.6,
            11.5,
            11.5,
            10.1,
            10.1,
            10.0,
            10.0,
            10.1,
            10.1,
            11.5,
            11.5,
            13.6,
            13.6
           ],
           "y": [
            9.9,
            9.9,
            5.1,
            5.1,
            5.0,
            5.0,
            5.1,
            5.1,
            6.5,
            6.5,
            8.6,
            8.6,
            9.9,
            9.9,
            10.0,
            10.0,
            9.9
           ],
           "type": "scatter"
          },
          {
           "fill": "toself",
           "fillcolor": "rgb(153, 0, 0)",
           "hoverinfo": "name",
           "line": {
            "width": 0
           },
           "mode": "lines",
           "name": "Risk Area",
           "showlegend": false,
           "x": [
            9.9,
            9.9,
            8.6,
            8.6,
            6.4,
            6.4,
            5.1,
            5.1,
            5.0,
            5.0,
            5.1,
            5.1,
            6.4,
            6.4,
            8.6,
            8.6,
            9.9,
            9.9,
            10.0,
            10.0,
            9.9
           ],
           "y": [
            6.5,
            5.1,
            5.1,
            5.0,
            5.0,
            5.1,
            5.1,
            6.5,
            6.5,
            8.6,
            8.6,
            9.9,
            9.9,
            10.0,
            10.0,
            9.9,
            9.9,
            8.6,
            8.6,
            6.5,
            6.5
           ],
           "type": "scatter"
          },
          {
           "fill": "toself",
           "fillcolor": "rgb(25, 0, 0)",
           "hoverinfo": "name",
           "line": {
            "width": 0
           },
           "mode": "lines",
           "name": "Risk Area",
           "showlegend": false,
           "x": [
            4.9,
            4.9,
            3.6,
            3.6,
            1.5,
            1.5,
            0.0,
            0.0,
            1.5,
            1.5,
            3.6,
            3.6,
            4.9,
            4.9,
            5.0,
            5.0,
            4.9
           ],
           "y": [
            6.5,
            5.1,
            5.1,
            5.0,
            5.0,
            5.1,
            5.1,
            9.9,
            9.9,
            10.0,
            10.0,
            9.9,
            9.9,
            8.6,
            8.6,
            6.5,
            6.5
           ],
           "type": "scatter"
          },
          {
           "fill": "toself",
           "fillcolor": "rgb(0, 0, 0)",
           "hoverinfo": "name",
           "line": {
            "width": 0
           },
           "mode": "lines",
           "name": "Risk Area",
           "showlegend": false,
           "x": [
            1.5,
            0.0,
            0.0,
            4.9,
            4.9,
            5.0,
            5.0,
            4.9,
            4.9,
            3.6,
            3.6,
            1.5,
            1.5
           ],
           "y": [
            10.1,
            10.1,
            15.0,
            15.0,
            13.6,
            13.6,
            11.5,
            11.5,
            10.1,
            10.1,
            10.0,
            10.0,
            10.1
           ],
           "type": "scatter"
          },
          {
           "fill": "toself",
           "fillcolor": "rgb(0, 0, 0)",
           "hoverinfo": "name",
           "line": {
            "width": 0
           },
           "mode": "lines",
           "name": "Risk Area",
           "showlegend": false,
           "x": [
            6.4,
            5.1,
            5.1,
            5.0,
            5.0,
            5.1,
            5.1,
            9.9,
            9.9,
            10.0,
            10.0,
            9.9,
            9.9,
            8.6,
            8.6,
            6.4,
            6.4
           ],
           "y": [
            10.1,
            10.1,
            11.5,
            11.5,
            13.6,
            13.6,
            15.0,
            15.0,
            13.6,
            13.6,
            11.5,
            11.5,
            10.1,
            10.1,
            10.0,
            10.0,
            10.1
           ],
           "type": "scatter"
          },
          {
           "fill": "toself",
           "fillcolor": "rgb(0, 0, 0)",
           "hoverinfo": "name",
           "line": {
            "width": 0
           },
           "mode": "lines",
           "name": "Risk Area",
           "showlegend": false,
           "x": [
            10.1,
            10.1,
            15.0,
            15.0,
            13.6,
            13.6,
            11.5,
            11.5,
            10.1,
            10.1,
            10.0,
            10.0,
            10.1
           ],
           "y": [
            13.6,
            15.0,
            15.0,
            10.1,
            10.1,
            10.0,
            10.0,
            10.1,
            10.1,
            11.5,
            11.5,
            13.6,
            13.6
           ],
           "type": "scatter"
          },
          {
           "hoverinfo": "text",
           "marker": {
            "opacity": 1,
            "size": 1
           },
           "mode": "markers",
           "showlegend": false,
           "text": [
            "ID: 11, Pos(3.27,11.20)"
           ],
           "x": [
            3.268581957525641
           ],
           "y": [
            11.199982095583218
           ],
           "type": "scatter"
          },
          {
           "hoverinfo": "text",
           "marker": {
            "opacity": 1,
            "size": 1
           },
           "mode": "markers",
           "showlegend": false,
           "text": [
            "ID: 12, Pos(2.52,11.61)"
           ],
           "x": [
            2.5194620594401496
           ],
           "y": [
            11.606308667245932
           ],
           "type": "scatter"
          },
          {
           "hoverinfo": "text",
           "marker": {
            "opacity": 1,
            "size": 1
           },
           "mode": "markers",
           "showlegend": false,
           "text": [
            "ID: 13, Pos(2.13,10.59)"
           ],
           "x": [
            2.134949574991304
           ],
           "y": [
            10.589138999003525
           ],
           "type": "scatter"
          },
          {
           "hoverinfo": "text",
           "marker": {
            "opacity": 1,
            "size": 1
           },
           "mode": "markers",
           "showlegend": false,
           "text": [
            "ID: 14, Pos(4.26,11.40)"
           ],
           "x": [
            4.2620083260933255
           ],
           "y": [
            11.401583781807865
           ],
           "type": "scatter"
          },
          {
           "hoverinfo": "text",
           "marker": {
            "opacity": 1,
            "size": 1
           },
           "mode": "markers",
           "showlegend": false,
           "text": [
            "ID: 15, Pos(3.86,11.95)"
           ],
           "x": [
            3.8610460134906783
           ],
           "y": [
            11.951841874693754
           ],
           "type": "scatter"
          },
          {
           "hoverinfo": "text",
           "marker": {
            "opacity": 1,
            "size": 1
           },
           "mode": "markers",
           "showlegend": false,
           "text": [
            "ID: 16, Pos(6.44,12.27)"
           ],
           "x": [
            6.436096089353818
           ],
           "y": [
            12.265998725466945
           ],
           "type": "scatter"
          },
          {
           "hoverinfo": "text",
           "marker": {
            "opacity": 1,
            "size": 1
           },
           "mode": "markers",
           "showlegend": false,
           "text": [
            "ID: 17, Pos(5.28,11.92)"
           ],
           "x": [
            5.277215087143031
           ],
           "y": [
            11.919835338657863
           ],
           "type": "scatter"
          },
          {
           "hoverinfo": "text",
           "marker": {
            "opacity": 1,
            "size": 1
           },
           "mode": "markers",
           "showlegend": false,
           "text": [
            "ID: 18, Pos(2.70,11.01)"
           ],
           "x": [
            2.7016999023591013
           ],
           "y": [
            11.009478545772405
           ],
           "type": "scatter"
          },
          {
           "hoverinfo": "text",
           "marker": {
            "opacity": 1,
            "size": 1
           },
           "mode": "markers",
           "showlegend": false,
           "text": [
            "ID: 19, Pos(5.05,12.52)"
           ],
           "x": [
            5.054908853096241
           ],
           "y": [
            12.52059370267549
           ],
           "type": "scatter"
          },
          {
           "hoverinfo": "text",
           "marker": {
            "opacity": 1,
            "size": 1
           },
           "mode": "markers",
           "showlegend": false,
           "text": [
            "ID: 20, Pos(2.81,10.29)"
           ],
           "x": [
            2.807010447569287
           ],
           "y": [
            10.294636104868056
           ],
           "type": "scatter"
          }
         ],
         "layout": {
          "shapes": [
           {
            "fillcolor": "rgba(0, 208, 255, 0.5)",
            "line": {
             "color": "rgba(0, 208, 255, 0.5)"
            },
            "type": "circle",
            "x0": 3.068581957525641,
            "x1": 3.4685819575256414,
            "xref": "x",
            "y0": 10.999982095583219,
            "y1": 11.399982095583217,
            "yref": "y"
           },
           {
            "fillcolor": "rgba(0, 0, 128, 0.5)",
            "line": {
             "color": "rgba(0, 0, 128, 0.5)"
            },
            "type": "circle",
            "x0": 2.3194620594401494,
            "x1": 2.7194620594401497,
            "xref": "x",
            "y0": 11.406308667245932,
            "y1": 11.806308667245931,
            "yref": "y"
           },
           {
            "fillcolor": "rgba(0, 0, 223, 0.5)",
            "line": {
             "color": "rgba(0, 0, 223, 0.5)"
            },
            "type": "circle",
            "x0": 1.9349495749913042,
            "x1": 2.3349495749913043,
            "xref": "x",
            "y0": 10.389138999003526,
            "y1": 10.789138999003525,
            "yref": "y"
           },
           {
            "fillcolor": "rgba(0, 0, 223, 0.5)",
            "line": {
             "color": "rgba(0, 0, 223, 0.5)"
            },
            "type": "circle",
            "x0": 4.062008326093325,
            "x1": 4.462008326093326,
            "xref": "x",
            "y0": 11.201583781807866,
            "y1": 11.601583781807864,
            "yref": "y"
           },
           {
            "fillcolor": "rgba(0, 0, 128, 0.5)",
            "line": {
             "color": "rgba(0, 0, 128, 0.5)"
            },
            "type": "circle",
            "x0": 3.661046013490678,
            "x1": 4.061046013490678,
            "xref": "x",
            "y0": 11.751841874693755,
            "y1": 12.151841874693753,
            "yref": "y"
           },
           {
            "fillcolor": "rgba(0, 0, 128, 0.5)",
            "line": {
             "color": "rgba(0, 0, 128, 0.5)"
            },
            "type": "circle",
            "x0": 6.2360960893538175,
            "x1": 6.636096089353818,
            "xref": "x",
            "y0": 12.065998725466946,
            "y1": 12.465998725466944,
            "yref": "y"
           },
           {
            "fillcolor": "rgba(0, 0, 128, 0.5)",
            "line": {
             "color": "rgba(0, 0, 128, 0.5)"
            },
            "type": "circle",
            "x0": 5.07721508714303,
            "x1": 5.477215087143031,
            "xref": "x",
            "y0": 11.719835338657864,
            "y1": 12.119835338657863,
            "yref": "y"
           },
           {
            "fillcolor": "rgba(255, 67, 0, 0.5)",
            "line": {
             "color": "rgba(255, 67, 0, 0.5)"
            },
            "type": "circle",
            "x0": 2.501699902359101,
            "x1": 2.9016999023591015,
            "xref": "x",
            "y0": 10.809478545772405,
            "y1": 11.209478545772404,
            "yref": "y"
           },
           {
            "fillcolor": "rgba(0, 0, 128, 0.5)",
            "line": {
             "color": "rgba(0, 0, 128, 0.5)"
            },
            "type": "circle",
            "x0": 4.854908853096241,
            "x1": 5.254908853096241,
            "xref": "x",
            "y0": 12.32059370267549,
            "y1": 12.720593702675489,
            "yref": "y"
           },
           {
            "fillcolor": "rgba(251, 241, 0, 0.5)",
            "line": {
             "color": "rgba(251, 241, 0, 0.5)"
            },
            "type": "circle",
            "x0": 2.607010447569287,
            "x1": 3.007010447569287,
            "xref": "x",
            "y0": 10.094636104868057,
            "y1": 10.494636104868055,
            "yref": "y"
           },
           {
            "line": {
             "color": "black",
             "width": 3
            },
            "type": "line",
            "x0": 3.268581957525641,
            "x1": 3.460245248380838,
            "y0": 11.199982095583218,
            "y1": 11.257123874856848
           },
           {
            "line": {
             "color": "white",
             "width": 3
            },
            "type": "line",
            "x0": 2.5194620594401496,
            "x1": 2.6963404170498797,
            "y0": 11.606308667245932,
            "y1": 11.699657725137719
           },
           {
            "line": {
             "color": "white",
             "width": 3
            },
            "type": "line",
            "x0": 2.134949574991304,
            "x1": 2.1359503354097247,
            "y0": 10.589138999003525,
            "y1": 10.789136495184316
           },
           {
            "line": {
             "color": "white",
             "width": 3
            },
            "type": "line",
            "x0": 4.2620083260933255,
            "x1": 4.453812049565986,
            "y0": 11.401583781807865,
            "y1": 11.458252394478576
           },
           {
            "line": {
             "color": "white",
             "width": 3
            },
            "type": "line",
            "x0": 3.8610460134906783,
            "x1": 4.051842819268651,
            "y0": 11.951841874693754,
            "y1": 12.011813358791803
           },
           {
            "line": {
             "color": "white",
             "width": 3
            },
            "type": "line",
            "x0": 6.436096089353818,
            "x1": 6.632100956197994,
            "y0": 12.265998725466945,
            "y1": 12.305774247756371
           },
           {
            "line": {
             "color": "white",
             "width": 3
            },
            "type": "line",
            "x0": 5.277215087143031,
            "x1": 5.476475455863263,
            "y0": 11.919835338657863,
            "y1": 11.937019792605453
           },
           {
            "line": {
             "color": "white",
             "width": 3
            },
            "type": "line",
            "x0": 2.7016999023591013,
            "x1": 2.9005473444443033,
            "y0": 11.009478545772405,
            "y1": 11.030919039614016
           },
           {
            "line": {
             "color": "white",
             "width": 3
            },
            "type": "line",
            "x0": 5.054908853096241,
            "x1": 5.249635868349442,
            "y0": 12.52059370267549,
            "y1": 12.566215950872829
           },
           {
            "line": {
             "color": "black",
             "width": 3
            },
            "type": "line",
            "x0": 2.807010447569287,
            "x1": 2.797693602051836,
            "y0": 10.294636104868056,
            "y1": 10.494418977981855
           }
          ],
          "title": {
           "text": "<b>Mode: Low_knowledge_shortest_path  |  Number of Agents: 10</b>",
           "x": 0.5
          }
         },
         "name": "400"
        },
        {
         "data": [
          {
           "hoverinfo": "name",
           "line": {
            "color": "white"
           },
           "mode": "lines",
           "name": "Exterior",
           "showlegend": false,
           "x": [
            10.1,
            10.1,
            15.0,
            15.0,
            13.6,
            13.6,
            15.0,
            15.0,
            13.6,
            13.6,
            15.0,
            15.0,
            10.1,
            10.1,
            9.9,
            9.9,
            5.1,
            5.1,
            4.9,
            4.9,
            0.0,
            0.0,
            1.5,
            1.5,
            0.0,
            0.0,
            1.5,
            1.5,
            0.0,
            0.0,
            4.9,
            4.9,
            5.1,
            5.1,
            9.9,
            9.9,
            10.1
           ],
           "y": [
            1.5,
            0.0,
            0.0,
            4.9,
            4.9,
            5.1,
            5.1,
            9.9,
            9.9,
            10.1,
            10.1,
            15.0,
            15.0,
            13.6,
            13.6,
            15.0,
            15.0,
            13.6,
            13.6,
            15.0,
            15.0,
            10.1,
            10.1,
            9.9,
            9.9,
            5.1,
            5.1,
            4.9,
            4.9,
            0.0,
            0.0,
            1.5,
            1.5,
            0.0,
            0.0,
            1.5,
            1.5
           ],
           "type": "scatter"
          },
          {
           "hoverinfo": "name",
           "line": {
            "color": "white"
           },
           "mode": "lines",
           "name": "Obstacle",
           "showlegend": false,
           "x": [
            10.1,
            11.5,
            11.5,
            10.1,
            10.1,
            9.9,
            9.9,
            8.6,
            8.6,
            9.9,
            9.9,
            10.1,
            10.1
           ],
           "y": [
            5.1,
            5.1,
            4.9,
            4.9,
            3.6,
            3.6,
            4.9,
            4.9,
            5.1,
            5.1,
            6.5,
            6.5,
            5.1
           ],
           "type": "scatter"
          },
          {
           "hoverinfo": "name",
           "line": {
            "color": "white"
           },
           "mode": "lines",
           "name": "Obstacle",
           "showlegend": false,
           "x": [
            10.1,
            11.5,
            11.5,
            10.1,
            10.1,
            9.9,
            9.9,
            8.6,
            8.6,
            9.9,
            9.9,
            10.1,
            10.1
           ],
           "y": [
            10.1,
            10.1,
            9.9,
            9.9,
            8.6,
            8.6,
            9.9,
            9.9,
            10.1,
            10.1,
            11.5,
            11.5,
            10.1
           ],
           "type": "scatter"
          },
          {
           "hoverinfo": "name",
           "line": {
            "color": "white"
           },
           "mode": "lines",
           "name": "Obstacle",
           "showlegend": false,
           "x": [
            5.1,
            6.4,
            6.4,
            5.1,
            5.1,
            4.9,
            4.9,
            3.6,
            3.6,
            4.9,
            4.9,
            5.1,
            5.1
           ],
           "y": [
            5.1,
            5.1,
            4.9,
            4.9,
            3.6,
            3.6,
            4.9,
            4.9,
            5.1,
            5.1,
            6.5,
            6.5,
            5.1
           ],
           "type": "scatter"
          },
          {
           "hoverinfo": "name",
           "line": {
            "color": "white"
           },
           "mode": "lines",
           "name": "Obstacle",
           "showlegend": false,
           "x": [
            5.1,
            6.4,
            6.4,
            5.1,
            5.1,
            4.9,
            4.9,
            3.6,
            3.6,
            4.9,
            4.9,
            5.1,
            5.1
           ],
           "y": [
            10.1,
            10.1,
            9.9,
            9.9,
            8.6,
            8.6,
            9.9,
            9.9,
            10.1,
            10.1,
            11.5,
            11.5,
            10.1
           ],
           "type": "scatter"
          },
          {
           "fill": "toself",
           "fillcolor": "rgb(0, 0, 0)",
           "hoverinfo": "name",
           "line": {
            "width": 0
           },
           "mode": "lines",
           "name": "Risk Area",
           "showlegend": false,
           "x": [
            1.5,
            1.5,
            3.6,
            3.6,
            4.9,
            4.9,
            5.0,
            5.0,
            4.9,
            4.9,
            0.0,
            0.0,
            1.5
           ],
           "y": [
            4.9,
            5.0,
            5.0,
            4.9,
            4.9,
            3.6,
            3.6,
            1.5,
            1.5,
            0.0,
            0.0,
            4.9,
            4.9
           ],
           "type": "scatter"
          },
          {
           "fill": "toself",
           "fillcolor": "rgb(153, 0, 0)",
           "hoverinfo": "name",
           "line": {
            "width": 0
           },
           "mode": "lines",
           "name": "Risk Area",
           "showlegend": false,
           "x": [
            9.9,
            9.9,
            5.1,
            5.1,
            5.0,
            5.0,
            5.1,
            5.1,
            6.4,
            6.4,
            8.6,
            8.6,
            9.9,
            9.9,
            10.0,
            10.0,
            9.9
           ],
           "y": [
            1.5,
            0.0,
            0.0,
            1.5,
            1.5,
            3.6,
            3.6,
            4.9,
            4.9,
            5.0,
            5.0,
            4.9,
            4.9,
            3.6,
            3.6,
            1.5,
            1.5
           ],
           "type": "scatter"
          },
          {
           "fill": "toself",
           "fillcolor": "rgb(0, 0, 0)",
           "hoverinfo": "name",
           "line": {
            "width": 0
           },
           "mode": "lines",
           "name": "Risk Area",
           "showlegend": false,
           "x": [
            13.6,
            15.0,
            15.0,
            10.1,
            10.1,
            10.0,
            10.0,
            10.1,
            10.1,
            11.5,
            11.5,
            13.6,
            13.6
           ],
           "y": [
            4.9,
            4.9,
            0.0,
            0.0,
            1.5,
            1.5,
            3.6,
            3.6,
            4.9,
            4.9,
            5.0,
            5.0,
            4.9
           ],
           "type": "scatter"
          },
          {
           "fill": "toself",
           "fillcolor": "rgb(153, 0, 0)",
           "hoverinfo": "name",
           "line": {
            "width": 0
           },
           "mode": "lines",
           "name": "Risk Area",
           "showlegend": false,
           "x": [
            13.6,
            15.0,
            15.0,
            13.6,
            13.6,
            11.5,
            11.5,
            10.1,
            10.1,
            10.0,
            10.0,
            10.1,
            10.1,
            11.5,
            11.5,
            13.6,
            13.6
           ],
           "y": [
            9.9,
            9.9,
            5.1,
            5.1,
            5.0,
            5.0,
            5.1,
            5.1,
            6.5,
            6.5,
            8.6,
            8.6,
            9.9,
            9.9,
            10.0,
            10.0,
            9.9
           ],
           "type": "scatter"
          },
          {
           "fill": "toself",
           "fillcolor": "rgb(153, 0, 0)",
           "hoverinfo": "name",
           "line": {
            "width": 0
           },
           "mode": "lines",
           "name": "Risk Area",
           "showlegend": false,
           "x": [
            9.9,
            9.9,
            8.6,
            8.6,
            6.4,
            6.4,
            5.1,
            5.1,
            5.0,
            5.0,
            5.1,
            5.1,
            6.4,
            6.4,
            8.6,
            8.6,
            9.9,
            9.9,
            10.0,
            10.0,
            9.9
           ],
           "y": [
            6.5,
            5.1,
            5.1,
            5.0,
            5.0,
            5.1,
            5.1,
            6.5,
            6.5,
            8.6,
            8.6,
            9.9,
            9.9,
            10.0,
            10.0,
            9.9,
            9.9,
            8.6,
            8.6,
            6.5,
            6.5
           ],
           "type": "scatter"
          },
          {
           "fill": "toself",
           "fillcolor": "rgb(25, 0, 0)",
           "hoverinfo": "name",
           "line": {
            "width": 0
           },
           "mode": "lines",
           "name": "Risk Area",
           "showlegend": false,
           "x": [
            4.9,
            4.9,
            3.6,
            3.6,
            1.5,
            1.5,
            0.0,
            0.0,
            1.5,
            1.5,
            3.6,
            3.6,
            4.9,
            4.9,
            5.0,
            5.0,
            4.9
           ],
           "y": [
            6.5,
            5.1,
            5.1,
            5.0,
            5.0,
            5.1,
            5.1,
            9.9,
            9.9,
            10.0,
            10.0,
            9.9,
            9.9,
            8.6,
            8.6,
            6.5,
            6.5
           ],
           "type": "scatter"
          },
          {
           "fill": "toself",
           "fillcolor": "rgb(0, 0, 0)",
           "hoverinfo": "name",
           "line": {
            "width": 0
           },
           "mode": "lines",
           "name": "Risk Area",
           "showlegend": false,
           "x": [
            1.5,
            0.0,
            0.0,
            4.9,
            4.9,
            5.0,
            5.0,
            4.9,
            4.9,
            3.6,
            3.6,
            1.5,
            1.5
           ],
           "y": [
            10.1,
            10.1,
            15.0,
            15.0,
            13.6,
            13.6,
            11.5,
            11.5,
            10.1,
            10.1,
            10.0,
            10.0,
            10.1
           ],
           "type": "scatter"
          },
          {
           "fill": "toself",
           "fillcolor": "rgb(0, 0, 0)",
           "hoverinfo": "name",
           "line": {
            "width": 0
           },
           "mode": "lines",
           "name": "Risk Area",
           "showlegend": false,
           "x": [
            6.4,
            5.1,
            5.1,
            5.0,
            5.0,
            5.1,
            5.1,
            9.9,
            9.9,
            10.0,
            10.0,
            9.9,
            9.9,
            8.6,
            8.6,
            6.4,
            6.4
           ],
           "y": [
            10.1,
            10.1,
            11.5,
            11.5,
            13.6,
            13.6,
            15.0,
            15.0,
            13.6,
            13.6,
            11.5,
            11.5,
            10.1,
            10.1,
            10.0,
            10.0,
            10.1
           ],
           "type": "scatter"
          },
          {
           "fill": "toself",
           "fillcolor": "rgb(0, 0, 0)",
           "hoverinfo": "name",
           "line": {
            "width": 0
           },
           "mode": "lines",
           "name": "Risk Area",
           "showlegend": false,
           "x": [
            10.1,
            10.1,
            15.0,
            15.0,
            13.6,
            13.6,
            11.5,
            11.5,
            10.1,
            10.1,
            10.0,
            10.0,
            10.1
           ],
           "y": [
            13.6,
            15.0,
            15.0,
            10.1,
            10.1,
            10.0,
            10.0,
            10.1,
            10.1,
            11.5,
            11.5,
            13.6,
            13.6
           ],
           "type": "scatter"
          },
          {
           "hoverinfo": "text",
           "marker": {
            "opacity": 1,
            "size": 1
           },
           "mode": "markers",
           "showlegend": false,
           "text": [
            "ID: 11, Pos(4.57,11.58)"
           ],
           "x": [
            4.569274457836213
           ],
           "y": [
            11.58057807193965
           ],
           "type": "scatter"
          },
          {
           "hoverinfo": "text",
           "marker": {
            "opacity": 1,
            "size": 1
           },
           "mode": "markers",
           "showlegend": false,
           "text": [
            "ID: 12, Pos(4.05,12.05)"
           ],
           "x": [
            4.0527879418488535
           ],
           "y": [
            12.051926510806197
           ],
           "type": "scatter"
          },
          {
           "hoverinfo": "text",
           "marker": {
            "opacity": 1,
            "size": 1
           },
           "mode": "markers",
           "showlegend": false,
           "text": [
            "ID: 13, Pos(2.83,11.42)"
           ],
           "x": [
            2.830877970031418
           ],
           "y": [
            11.422361667706504
           ],
           "type": "scatter"
          },
          {
           "hoverinfo": "text",
           "marker": {
            "opacity": 1,
            "size": 1
           },
           "mode": "markers",
           "showlegend": false,
           "text": [
            "ID: 14, Pos(5.64,11.96)"
           ],
           "x": [
            5.644447432851107
           ],
           "y": [
            11.9599626901714
           ],
           "type": "scatter"
          },
          {
           "hoverinfo": "text",
           "marker": {
            "opacity": 1,
            "size": 1
           },
           "mode": "markers",
           "showlegend": false,
           "text": [
            "ID: 15, Pos(5.32,12.54)"
           ],
           "x": [
            5.317747503619101
           ],
           "y": [
            12.544103481751312
           ],
           "type": "scatter"
          },
          {
           "hoverinfo": "text",
           "marker": {
            "opacity": 1,
            "size": 1
           },
           "mode": "markers",
           "showlegend": false,
           "text": [
            "ID: 16, Pos(8.00,12.58)"
           ],
           "x": [
            8.00412730682348
           ],
           "y": [
            12.584240930073332
           ],
           "type": "scatter"
          },
          {
           "hoverinfo": "text",
           "marker": {
            "opacity": 1,
            "size": 1
           },
           "mode": "markers",
           "showlegend": false,
           "text": [
            "ID: 17, Pos(6.87,12.10)"
           ],
           "x": [
            6.866643578436502
           ],
           "y": [
            12.09646691252388
           ],
           "type": "scatter"
          },
          {
           "hoverinfo": "text",
           "marker": {
            "opacity": 1,
            "size": 1
           },
           "mode": "markers",
           "showlegend": false,
           "text": [
            "ID: 18, Pos(3.58,11.30)"
           ],
           "x": [
            3.5774144726641683
           ],
           "y": [
            11.300262359713477
           ],
           "type": "scatter"
          },
          {
           "hoverinfo": "text",
           "marker": {
            "opacity": 1,
            "size": 1
           },
           "mode": "markers",
           "showlegend": false,
           "text": [
            "ID: 19, Pos(6.63,12.80)"
           ],
           "x": [
            6.626097573448067
           ],
           "y": [
            12.803753391794874
           ],
           "type": "scatter"
          },
          {
           "hoverinfo": "text",
           "marker": {
            "opacity": 1,
            "size": 1
           },
           "mode": "markers",
           "showlegend": false,
           "text": [
            "ID: 20, Pos(2.73,10.77)"
           ],
           "x": [
            2.733198352330914
           ],
           "y": [
            10.774802626737701
           ],
           "type": "scatter"
          }
         ],
         "layout": {
          "shapes": [
           {
            "fillcolor": "rgba(0, 0, 237, 0.5)",
            "line": {
             "color": "rgba(0, 0, 237, 0.5)"
            },
            "type": "circle",
            "x0": 4.369274457836213,
            "x1": 4.769274457836214,
            "xref": "x",
            "y0": 11.38057807193965,
            "y1": 11.78057807193965,
            "yref": "y"
           },
           {
            "fillcolor": "rgba(0, 0, 128, 0.5)",
            "line": {
             "color": "rgba(0, 0, 128, 0.5)"
            },
            "type": "circle",
            "x0": 3.8527879418488533,
            "x1": 4.252787941848854,
            "xref": "x",
            "y0": 11.851926510806198,
            "y1": 12.251926510806197,
            "yref": "y"
           },
           {
            "fillcolor": "rgba(0, 0, 146, 0.5)",
            "line": {
             "color": "rgba(0, 0, 146, 0.5)"
            },
            "type": "circle",
            "x0": 2.6308779700314178,
            "x1": 3.030877970031418,
            "xref": "x",
            "y0": 11.222361667706505,
            "y1": 11.622361667706503,
            "yref": "y"
           },
           {
            "fillcolor": "rgba(0, 0, 128, 0.5)",
            "line": {
             "color": "rgba(0, 0, 128, 0.5)"
            },
            "type": "circle",
            "x0": 5.444447432851107,
            "x1": 5.844447432851108,
            "xref": "x",
            "y0": 11.7599626901714,
            "y1": 12.1599626901714,
            "yref": "y"
           },
           {
            "fillcolor": "rgba(0, 0, 128, 0.5)",
            "line": {
             "color": "rgba(0, 0, 128, 0.5)"
            },
            "type": "circle",
            "x0": 5.117747503619101,
            "x1": 5.517747503619101,
            "xref": "x",
            "y0": 12.344103481751313,
            "y1": 12.744103481751312,
            "yref": "y"
           },
           {
            "fillcolor": "rgba(0, 0, 128, 0.5)",
            "line": {
             "color": "rgba(0, 0, 128, 0.5)"
            },
            "type": "circle",
            "x0": 7.804127306823481,
            "x1": 8.20412730682348,
            "xref": "x",
            "y0": 12.384240930073332,
            "y1": 12.78424093007333,
            "yref": "y"
           },
           {
            "fillcolor": "rgba(0, 0, 128, 0.5)",
            "line": {
             "color": "rgba(0, 0, 128, 0.5)"
            },
            "type": "circle",
            "x0": 6.666643578436502,
            "x1": 7.066643578436502,
            "xref": "x",
            "y0": 11.89646691252388,
            "y1": 12.29646691252388,
            "yref": "y"
           },
           {
            "fillcolor": "rgba(0, 117, 255, 0.5)",
            "line": {
             "color": "rgba(0, 117, 255, 0.5)"
            },
            "type": "circle",
            "x0": 3.377414472664168,
            "x1": 3.7774144726641685,
            "xref": "x",
            "y0": 11.100262359713478,
            "y1": 11.500262359713476,
            "yref": "y"
           },
           {
            "fillcolor": "rgba(0, 0, 128, 0.5)",
            "line": {
             "color": "rgba(0, 0, 128, 0.5)"
            },
            "type": "circle",
            "x0": 6.426097573448067,
            "x1": 6.826097573448068,
            "xref": "x",
            "y0": 12.603753391794875,
            "y1": 13.003753391794874,
            "yref": "y"
           },
           {
            "fillcolor": "rgba(255, 145, 0, 0.5)",
            "line": {
             "color": "rgba(255, 145, 0, 0.5)"
            },
            "type": "circle",
            "x0": 2.533198352330914,
            "x1": 2.933198352330914,
            "xref": "x",
            "y0": 10.574802626737702,
            "y1": 10.9748026267377,
            "yref": "y"
           },
           {
            "line": {
             "color": "white",
             "width": 3
            },
            "type": "line",
            "x0": 4.569274457836213,
            "x1": 4.727295872465414,
            "y0": 11.58057807193965,
            "y1": 11.703171842248691
           },
           {
            "line": {
             "color": "white",
             "width": 3
            },
            "type": "line",
            "x0": 4.0527879418488535,
            "x1": 4.24661644472616,
            "y0": 12.051926510806197,
            "y1": 12.101226728577945
           },
           {
            "line": {
             "color": "white",
             "width": 3
            },
            "type": "line",
            "x0": 2.830877970031418,
            "x1": 3.0115180343729904,
            "y0": 11.422361667706504,
            "y1": 11.508205521037262
           },
           {
            "line": {
             "color": "white",
             "width": 3
            },
            "type": "line",
            "x0": 5.644447432851107,
            "x1": 5.843028752610842,
            "y0": 11.9599626901714,
            "y1": 11.983742081300733
           },
           {
            "line": {
             "color": "white",
             "width": 3
            },
            "type": "line",
            "x0": 5.317747503619101,
            "x1": 5.515605411220708,
            "y0": 12.544103481751312,
            "y1": 12.573296775493436
           },
           {
            "line": {
             "color": "white",
             "width": 3
            },
            "type": "line",
            "x0": 8.00412730682348,
            "x1": 8.200130770673734,
            "y0": 12.584240930073332,
            "y1": 12.624023365377145
           },
           {
            "line": {
             "color": "white",
             "width": 3
            },
            "type": "line",
            "x0": 6.866643578436502,
            "x1": 7.0642339903312985,
            "y0": 12.09646691252388,
            "y1": 12.127418958130667
           },
           {
            "line": {
             "color": "white",
             "width": 3
            },
            "type": "line",
            "x0": 3.5774144726641683,
            "x1": 3.7709023130874857,
            "y0": 11.300262359713477,
            "y1": 11.350883063070116
           },
           {
            "line": {
             "color": "white",
             "width": 3
            },
            "type": "line",
            "x0": 6.626097573448067,
            "x1": 6.821572838852099,
            "y0": 12.803753391794874,
            "y1": 12.846054935681872
           },
           {
            "line": {
             "color": "black",
             "width": 3
            },
            "type": "line",
            "x0": 2.733198352330914,
            "x1": 2.690998454544581,
            "y0": 10.774802626737701,
            "y1": 10.970299861057839
           }
          ],
          "title": {
           "text": "<b>Mode: Low_knowledge_shortest_path  |  Number of Agents: 10</b>",
           "x": 0.5
          }
         },
         "name": "450"
        },
        {
         "data": [
          {
           "hoverinfo": "name",
           "line": {
            "color": "white"
           },
           "mode": "lines",
           "name": "Exterior",
           "showlegend": false,
           "x": [
            10.1,
            10.1,
            15.0,
            15.0,
            13.6,
            13.6,
            15.0,
            15.0,
            13.6,
            13.6,
            15.0,
            15.0,
            10.1,
            10.1,
            9.9,
            9.9,
            5.1,
            5.1,
            4.9,
            4.9,
            0.0,
            0.0,
            1.5,
            1.5,
            0.0,
            0.0,
            1.5,
            1.5,
            0.0,
            0.0,
            4.9,
            4.9,
            5.1,
            5.1,
            9.9,
            9.9,
            10.1
           ],
           "y": [
            1.5,
            0.0,
            0.0,
            4.9,
            4.9,
            5.1,
            5.1,
            9.9,
            9.9,
            10.1,
            10.1,
            15.0,
            15.0,
            13.6,
            13.6,
            15.0,
            15.0,
            13.6,
            13.6,
            15.0,
            15.0,
            10.1,
            10.1,
            9.9,
            9.9,
            5.1,
            5.1,
            4.9,
            4.9,
            0.0,
            0.0,
            1.5,
            1.5,
            0.0,
            0.0,
            1.5,
            1.5
           ],
           "type": "scatter"
          },
          {
           "hoverinfo": "name",
           "line": {
            "color": "white"
           },
           "mode": "lines",
           "name": "Obstacle",
           "showlegend": false,
           "x": [
            10.1,
            11.5,
            11.5,
            10.1,
            10.1,
            9.9,
            9.9,
            8.6,
            8.6,
            9.9,
            9.9,
            10.1,
            10.1
           ],
           "y": [
            5.1,
            5.1,
            4.9,
            4.9,
            3.6,
            3.6,
            4.9,
            4.9,
            5.1,
            5.1,
            6.5,
            6.5,
            5.1
           ],
           "type": "scatter"
          },
          {
           "hoverinfo": "name",
           "line": {
            "color": "white"
           },
           "mode": "lines",
           "name": "Obstacle",
           "showlegend": false,
           "x": [
            10.1,
            11.5,
            11.5,
            10.1,
            10.1,
            9.9,
            9.9,
            8.6,
            8.6,
            9.9,
            9.9,
            10.1,
            10.1
           ],
           "y": [
            10.1,
            10.1,
            9.9,
            9.9,
            8.6,
            8.6,
            9.9,
            9.9,
            10.1,
            10.1,
            11.5,
            11.5,
            10.1
           ],
           "type": "scatter"
          },
          {
           "hoverinfo": "name",
           "line": {
            "color": "white"
           },
           "mode": "lines",
           "name": "Obstacle",
           "showlegend": false,
           "x": [
            5.1,
            6.4,
            6.4,
            5.1,
            5.1,
            4.9,
            4.9,
            3.6,
            3.6,
            4.9,
            4.9,
            5.1,
            5.1
           ],
           "y": [
            5.1,
            5.1,
            4.9,
            4.9,
            3.6,
            3.6,
            4.9,
            4.9,
            5.1,
            5.1,
            6.5,
            6.5,
            5.1
           ],
           "type": "scatter"
          },
          {
           "hoverinfo": "name",
           "line": {
            "color": "white"
           },
           "mode": "lines",
           "name": "Obstacle",
           "showlegend": false,
           "x": [
            5.1,
            6.4,
            6.4,
            5.1,
            5.1,
            4.9,
            4.9,
            3.6,
            3.6,
            4.9,
            4.9,
            5.1,
            5.1
           ],
           "y": [
            10.1,
            10.1,
            9.9,
            9.9,
            8.6,
            8.6,
            9.9,
            9.9,
            10.1,
            10.1,
            11.5,
            11.5,
            10.1
           ],
           "type": "scatter"
          },
          {
           "fill": "toself",
           "fillcolor": "rgb(0, 0, 0)",
           "hoverinfo": "name",
           "line": {
            "width": 0
           },
           "mode": "lines",
           "name": "Risk Area",
           "showlegend": false,
           "x": [
            1.5,
            1.5,
            3.6,
            3.6,
            4.9,
            4.9,
            5.0,
            5.0,
            4.9,
            4.9,
            0.0,
            0.0,
            1.5
           ],
           "y": [
            4.9,
            5.0,
            5.0,
            4.9,
            4.9,
            3.6,
            3.6,
            1.5,
            1.5,
            0.0,
            0.0,
            4.9,
            4.9
           ],
           "type": "scatter"
          },
          {
           "fill": "toself",
           "fillcolor": "rgb(153, 0, 0)",
           "hoverinfo": "name",
           "line": {
            "width": 0
           },
           "mode": "lines",
           "name": "Risk Area",
           "showlegend": false,
           "x": [
            9.9,
            9.9,
            5.1,
            5.1,
            5.0,
            5.0,
            5.1,
            5.1,
            6.4,
            6.4,
            8.6,
            8.6,
            9.9,
            9.9,
            10.0,
            10.0,
            9.9
           ],
           "y": [
            1.5,
            0.0,
            0.0,
            1.5,
            1.5,
            3.6,
            3.6,
            4.9,
            4.9,
            5.0,
            5.0,
            4.9,
            4.9,
            3.6,
            3.6,
            1.5,
            1.5
           ],
           "type": "scatter"
          },
          {
           "fill": "toself",
           "fillcolor": "rgb(0, 0, 0)",
           "hoverinfo": "name",
           "line": {
            "width": 0
           },
           "mode": "lines",
           "name": "Risk Area",
           "showlegend": false,
           "x": [
            13.6,
            15.0,
            15.0,
            10.1,
            10.1,
            10.0,
            10.0,
            10.1,
            10.1,
            11.5,
            11.5,
            13.6,
            13.6
           ],
           "y": [
            4.9,
            4.9,
            0.0,
            0.0,
            1.5,
            1.5,
            3.6,
            3.6,
            4.9,
            4.9,
            5.0,
            5.0,
            4.9
           ],
           "type": "scatter"
          },
          {
           "fill": "toself",
           "fillcolor": "rgb(153, 0, 0)",
           "hoverinfo": "name",
           "line": {
            "width": 0
           },
           "mode": "lines",
           "name": "Risk Area",
           "showlegend": false,
           "x": [
            13.6,
            15.0,
            15.0,
            13.6,
            13.6,
            11.5,
            11.5,
            10.1,
            10.1,
            10.0,
            10.0,
            10.1,
            10.1,
            11.5,
            11.5,
            13.6,
            13.6
           ],
           "y": [
            9.9,
            9.9,
            5.1,
            5.1,
            5.0,
            5.0,
            5.1,
            5.1,
            6.5,
            6.5,
            8.6,
            8.6,
            9.9,
            9.9,
            10.0,
            10.0,
            9.9
           ],
           "type": "scatter"
          },
          {
           "fill": "toself",
           "fillcolor": "rgb(153, 0, 0)",
           "hoverinfo": "name",
           "line": {
            "width": 0
           },
           "mode": "lines",
           "name": "Risk Area",
           "showlegend": false,
           "x": [
            9.9,
            9.9,
            8.6,
            8.6,
            6.4,
            6.4,
            5.1,
            5.1,
            5.0,
            5.0,
            5.1,
            5.1,
            6.4,
            6.4,
            8.6,
            8.6,
            9.9,
            9.9,
            10.0,
            10.0,
            9.9
           ],
           "y": [
            6.5,
            5.1,
            5.1,
            5.0,
            5.0,
            5.1,
            5.1,
            6.5,
            6.5,
            8.6,
            8.6,
            9.9,
            9.9,
            10.0,
            10.0,
            9.9,
            9.9,
            8.6,
            8.6,
            6.5,
            6.5
           ],
           "type": "scatter"
          },
          {
           "fill": "toself",
           "fillcolor": "rgb(25, 0, 0)",
           "hoverinfo": "name",
           "line": {
            "width": 0
           },
           "mode": "lines",
           "name": "Risk Area",
           "showlegend": false,
           "x": [
            4.9,
            4.9,
            3.6,
            3.6,
            1.5,
            1.5,
            0.0,
            0.0,
            1.5,
            1.5,
            3.6,
            3.6,
            4.9,
            4.9,
            5.0,
            5.0,
            4.9
           ],
           "y": [
            6.5,
            5.1,
            5.1,
            5.0,
            5.0,
            5.1,
            5.1,
            9.9,
            9.9,
            10.0,
            10.0,
            9.9,
            9.9,
            8.6,
            8.6,
            6.5,
            6.5
           ],
           "type": "scatter"
          },
          {
           "fill": "toself",
           "fillcolor": "rgb(0, 0, 0)",
           "hoverinfo": "name",
           "line": {
            "width": 0
           },
           "mode": "lines",
           "name": "Risk Area",
           "showlegend": false,
           "x": [
            1.5,
            0.0,
            0.0,
            4.9,
            4.9,
            5.0,
            5.0,
            4.9,
            4.9,
            3.6,
            3.6,
            1.5,
            1.5
           ],
           "y": [
            10.1,
            10.1,
            15.0,
            15.0,
            13.6,
            13.6,
            11.5,
            11.5,
            10.1,
            10.1,
            10.0,
            10.0,
            10.1
           ],
           "type": "scatter"
          },
          {
           "fill": "toself",
           "fillcolor": "rgb(0, 0, 0)",
           "hoverinfo": "name",
           "line": {
            "width": 0
           },
           "mode": "lines",
           "name": "Risk Area",
           "showlegend": false,
           "x": [
            6.4,
            5.1,
            5.1,
            5.0,
            5.0,
            5.1,
            5.1,
            9.9,
            9.9,
            10.0,
            10.0,
            9.9,
            9.9,
            8.6,
            8.6,
            6.4,
            6.4
           ],
           "y": [
            10.1,
            10.1,
            11.5,
            11.5,
            13.6,
            13.6,
            15.0,
            15.0,
            13.6,
            13.6,
            11.5,
            11.5,
            10.1,
            10.1,
            10.0,
            10.0,
            10.1
           ],
           "type": "scatter"
          },
          {
           "fill": "toself",
           "fillcolor": "rgb(0, 0, 0)",
           "hoverinfo": "name",
           "line": {
            "width": 0
           },
           "mode": "lines",
           "name": "Risk Area",
           "showlegend": false,
           "x": [
            10.1,
            10.1,
            15.0,
            15.0,
            13.6,
            13.6,
            11.5,
            11.5,
            10.1,
            10.1,
            10.0,
            10.0,
            10.1
           ],
           "y": [
            13.6,
            15.0,
            15.0,
            10.1,
            10.1,
            10.0,
            10.0,
            10.1,
            10.1,
            11.5,
            11.5,
            13.6,
            13.6
           ],
           "type": "scatter"
          },
          {
           "hoverinfo": "text",
           "marker": {
            "opacity": 1,
            "size": 1
           },
           "mode": "markers",
           "showlegend": false,
           "text": [
            "ID: 11, Pos(6.02,12.03)"
           ],
           "x": [
            6.024155245548492
           ],
           "y": [
            12.031286144587826
           ],
           "type": "scatter"
          },
          {
           "hoverinfo": "text",
           "marker": {
            "opacity": 1,
            "size": 1
           },
           "mode": "markers",
           "showlegend": false,
           "text": [
            "ID: 12, Pos(5.57,12.52)"
           ],
           "x": [
            5.566624770189424
           ],
           "y": [
            12.519427425354124
           ],
           "type": "scatter"
          },
          {
           "hoverinfo": "text",
           "marker": {
            "opacity": 1,
            "size": 1
           },
           "mode": "markers",
           "showlegend": false,
           "text": [
            "ID: 13, Pos(4.04,11.85)"
           ],
           "x": [
            4.036403866390622
           ],
           "y": [
            11.854530098357461
           ],
           "type": "scatter"
          },
          {
           "hoverinfo": "text",
           "marker": {
            "opacity": 1,
            "size": 1
           },
           "mode": "markers",
           "showlegend": false,
           "text": [
            "ID: 14, Pos(7.23,12.16)"
           ],
           "x": [
            7.23079837964285
           ],
           "y": [
            12.16135340811703
           ],
           "type": "scatter"
          },
          {
           "hoverinfo": "text",
           "marker": {
            "opacity": 1,
            "size": 1
           },
           "mode": "markers",
           "showlegend": false,
           "text": [
            "ID: 15, Pos(6.89,12.84)"
           ],
           "x": [
            6.887336156210513
           ],
           "y": [
            12.836196744455226
           ],
           "type": "scatter"
          },
          {
           "hoverinfo": "text",
           "marker": {
            "opacity": 1,
            "size": 1
           },
           "mode": "markers",
           "showlegend": false,
           "text": [
            "ID: 16, Pos(9.57,12.90)"
           ],
           "x": [
            9.572159090631207
           ],
           "y": [
            12.902480343451213
           ],
           "type": "scatter"
          },
          {
           "hoverinfo": "text",
           "marker": {
            "opacity": 1,
            "size": 1
           },
           "mode": "markers",
           "showlegend": false,
           "text": [
            "ID: 17, Pos(8.44,12.38)"
           ],
           "x": [
            8.441510000764323
           ],
           "y": [
            12.378601725324257
           ],
           "type": "scatter"
          },
          {
           "hoverinfo": "text",
           "marker": {
            "opacity": 1,
            "size": 1
           },
           "mode": "markers",
           "showlegend": false,
           "text": [
            "ID: 18, Pos(4.77,11.83)"
           ],
           "x": [
            4.7691066804672655
           ],
           "y": [
            11.834899260758787
           ],
           "type": "scatter"
          },
          {
           "hoverinfo": "text",
           "marker": {
            "opacity": 1,
            "size": 1
           },
           "mode": "markers",
           "showlegend": false,
           "text": [
            "ID: 19, Pos(8.20,13.11)"
           ],
           "x": [
            8.197000627738646
           ],
           "y": [
            13.107171096355799
           ],
           "type": "scatter"
          },
          {
           "hoverinfo": "text",
           "marker": {
            "opacity": 1,
            "size": 1
           },
           "mode": "markers",
           "showlegend": false,
           "text": [
            "ID: 20, Pos(3.82,11.27)"
           ],
           "x": [
            3.823439510272888
           ],
           "y": [
            11.272978605855913
           ],
           "type": "scatter"
          }
         ],
         "layout": {
          "shapes": [
           {
            "fillcolor": "rgba(0, 0, 128, 0.5)",
            "line": {
             "color": "rgba(0, 0, 128, 0.5)"
            },
            "type": "circle",
            "x0": 5.824155245548492,
            "x1": 6.224155245548492,
            "xref": "x",
            "y0": 11.831286144587827,
            "y1": 12.231286144587825,
            "yref": "y"
           },
           {
            "fillcolor": "rgba(0, 0, 128, 0.5)",
            "line": {
             "color": "rgba(0, 0, 128, 0.5)"
            },
            "type": "circle",
            "x0": 5.366624770189424,
            "x1": 5.766624770189424,
            "xref": "x",
            "y0": 12.319427425354124,
            "y1": 12.719427425354123,
            "yref": "y"
           },
           {
            "fillcolor": "rgba(244, 248, 2, 0.5)",
            "line": {
             "color": "rgba(244, 248, 2, 0.5)"
            },
            "type": "circle",
            "x0": 3.836403866390622,
            "x1": 4.2364038663906225,
            "xref": "x",
            "y0": 11.654530098357462,
            "y1": 12.05453009835746,
            "yref": "y"
           },
           {
            "fillcolor": "rgba(0, 0, 128, 0.5)",
            "line": {
             "color": "rgba(0, 0, 128, 0.5)"
            },
            "type": "circle",
            "x0": 7.0307983796428495,
            "x1": 7.43079837964285,
            "xref": "x",
            "y0": 11.96135340811703,
            "y1": 12.36135340811703,
            "yref": "y"
           },
           {
            "fillcolor": "rgba(0, 0, 128, 0.5)",
            "line": {
             "color": "rgba(0, 0, 128, 0.5)"
            },
            "type": "circle",
            "x0": 6.687336156210513,
            "x1": 7.0873361562105135,
            "xref": "x",
            "y0": 12.636196744455226,
            "y1": 13.036196744455225,
            "yref": "y"
           },
           {
            "fillcolor": "rgba(0, 0, 128, 0.5)",
            "line": {
             "color": "rgba(0, 0, 128, 0.5)"
            },
            "type": "circle",
            "x0": 9.372159090631207,
            "x1": 9.772159090631206,
            "xref": "x",
            "y0": 12.702480343451214,
            "y1": 13.102480343451212,
            "yref": "y"
           },
           {
            "fillcolor": "rgba(0, 0, 128, 0.5)",
            "line": {
             "color": "rgba(0, 0, 128, 0.5)"
            },
            "type": "circle",
            "x0": 8.241510000764324,
            "x1": 8.641510000764322,
            "xref": "x",
            "y0": 12.178601725324258,
            "y1": 12.578601725324257,
            "yref": "y"
           },
           {
            "fillcolor": "rgba(0, 88, 255, 0.5)",
            "line": {
             "color": "rgba(0, 88, 255, 0.5)"
            },
            "type": "circle",
            "x0": 4.569106680467265,
            "x1": 4.969106680467266,
            "xref": "x",
            "y0": 11.634899260758788,
            "y1": 12.034899260758786,
            "yref": "y"
           },
           {
            "fillcolor": "rgba(0, 0, 128, 0.5)",
            "line": {
             "color": "rgba(0, 0, 128, 0.5)"
            },
            "type": "circle",
            "x0": 7.997000627738646,
            "x1": 8.397000627738645,
            "xref": "x",
            "y0": 12.9071710963558,
            "y1": 13.307171096355798,
            "yref": "y"
           },
           {
            "fillcolor": "rgba(0, 0, 173, 0.5)",
            "line": {
             "color": "rgba(0, 0, 173, 0.5)"
            },
            "type": "circle",
            "x0": 3.623439510272888,
            "x1": 4.023439510272888,
            "xref": "x",
            "y0": 11.072978605855914,
            "y1": 11.472978605855912,
            "yref": "y"
           },
           {
            "line": {
             "color": "white",
             "width": 3
            },
            "type": "line",
            "x0": 6.024155245548492,
            "x1": 6.221612788304817,
            "y0": 12.031286144587826,
            "y1": 12.063074803078456
           },
           {
            "line": {
             "color": "white",
             "width": 3
            },
            "type": "line",
            "x0": 5.566624770189424,
            "x1": 5.764751841410335,
            "y0": 12.519427425354124,
            "y1": 12.546734267892656
           },
           {
            "line": {
             "color": "black",
             "width": 3
            },
            "type": "line",
            "x0": 4.036403866390622,
            "x1": 4.218122512429771,
            "y0": 11.854530098357461,
            "y1": 11.938066519646014
           },
           {
            "line": {
             "color": "white",
             "width": 3
            },
            "type": "line",
            "x0": 7.23079837964285,
            "x1": 7.427955817551423,
            "y0": 12.16135340811703,
            "y1": 12.194953180100294
           },
           {
            "line": {
             "color": "white",
             "width": 3
            },
            "type": "line",
            "x0": 6.887336156210513,
            "x1": 7.083199979533781,
            "y0": 12.836196744455226,
            "y1": 12.876661083238801
           },
           {
            "line": {
             "color": "white",
             "width": 3
            },
            "type": "line",
            "x0": 9.572159090631207,
            "x1": 9.768166691027828,
            "y0": 12.902480343451213,
            "y1": 12.94224239303066
           },
           {
            "line": {
             "color": "white",
             "width": 3
            },
            "type": "line",
            "x0": 8.441510000764323,
            "x1": 8.637989068048151,
            "y0": 12.378601725324257,
            "y1": 12.415964489130982
           },
           {
            "line": {
             "color": "white",
             "width": 3
            },
            "type": "line",
            "x0": 4.7691066804672655,
            "x1": 4.931304497249841,
            "y0": 11.834899260758787,
            "y1": 11.951911517514077
           },
           {
            "line": {
             "color": "white",
             "width": 3
            },
            "type": "line",
            "x0": 8.197000627738646,
            "x1": 8.393766544657328,
            "y0": 13.107171096355799,
            "y1": 13.1429925136805
           },
           {
            "line": {
             "color": "white",
             "width": 3
            },
            "type": "line",
            "x0": 3.823439510272888,
            "x1": 4.022057806408266,
            "y0": 11.272978605855913,
            "y1": 11.296447147358942
           }
          ],
          "title": {
           "text": "<b>Mode: Low_knowledge_shortest_path  |  Number of Agents: 10</b>",
           "x": 0.5
          }
         },
         "name": "500"
        },
        {
         "data": [
          {
           "hoverinfo": "name",
           "line": {
            "color": "white"
           },
           "mode": "lines",
           "name": "Exterior",
           "showlegend": false,
           "x": [
            10.1,
            10.1,
            15.0,
            15.0,
            13.6,
            13.6,
            15.0,
            15.0,
            13.6,
            13.6,
            15.0,
            15.0,
            10.1,
            10.1,
            9.9,
            9.9,
            5.1,
            5.1,
            4.9,
            4.9,
            0.0,
            0.0,
            1.5,
            1.5,
            0.0,
            0.0,
            1.5,
            1.5,
            0.0,
            0.0,
            4.9,
            4.9,
            5.1,
            5.1,
            9.9,
            9.9,
            10.1
           ],
           "y": [
            1.5,
            0.0,
            0.0,
            4.9,
            4.9,
            5.1,
            5.1,
            9.9,
            9.9,
            10.1,
            10.1,
            15.0,
            15.0,
            13.6,
            13.6,
            15.0,
            15.0,
            13.6,
            13.6,
            15.0,
            15.0,
            10.1,
            10.1,
            9.9,
            9.9,
            5.1,
            5.1,
            4.9,
            4.9,
            0.0,
            0.0,
            1.5,
            1.5,
            0.0,
            0.0,
            1.5,
            1.5
           ],
           "type": "scatter"
          },
          {
           "hoverinfo": "name",
           "line": {
            "color": "white"
           },
           "mode": "lines",
           "name": "Obstacle",
           "showlegend": false,
           "x": [
            10.1,
            11.5,
            11.5,
            10.1,
            10.1,
            9.9,
            9.9,
            8.6,
            8.6,
            9.9,
            9.9,
            10.1,
            10.1
           ],
           "y": [
            5.1,
            5.1,
            4.9,
            4.9,
            3.6,
            3.6,
            4.9,
            4.9,
            5.1,
            5.1,
            6.5,
            6.5,
            5.1
           ],
           "type": "scatter"
          },
          {
           "hoverinfo": "name",
           "line": {
            "color": "white"
           },
           "mode": "lines",
           "name": "Obstacle",
           "showlegend": false,
           "x": [
            10.1,
            11.5,
            11.5,
            10.1,
            10.1,
            9.9,
            9.9,
            8.6,
            8.6,
            9.9,
            9.9,
            10.1,
            10.1
           ],
           "y": [
            10.1,
            10.1,
            9.9,
            9.9,
            8.6,
            8.6,
            9.9,
            9.9,
            10.1,
            10.1,
            11.5,
            11.5,
            10.1
           ],
           "type": "scatter"
          },
          {
           "hoverinfo": "name",
           "line": {
            "color": "white"
           },
           "mode": "lines",
           "name": "Obstacle",
           "showlegend": false,
           "x": [
            5.1,
            6.4,
            6.4,
            5.1,
            5.1,
            4.9,
            4.9,
            3.6,
            3.6,
            4.9,
            4.9,
            5.1,
            5.1
           ],
           "y": [
            5.1,
            5.1,
            4.9,
            4.9,
            3.6,
            3.6,
            4.9,
            4.9,
            5.1,
            5.1,
            6.5,
            6.5,
            5.1
           ],
           "type": "scatter"
          },
          {
           "hoverinfo": "name",
           "line": {
            "color": "white"
           },
           "mode": "lines",
           "name": "Obstacle",
           "showlegend": false,
           "x": [
            5.1,
            6.4,
            6.4,
            5.1,
            5.1,
            4.9,
            4.9,
            3.6,
            3.6,
            4.9,
            4.9,
            5.1,
            5.1
           ],
           "y": [
            10.1,
            10.1,
            9.9,
            9.9,
            8.6,
            8.6,
            9.9,
            9.9,
            10.1,
            10.1,
            11.5,
            11.5,
            10.1
           ],
           "type": "scatter"
          },
          {
           "fill": "toself",
           "fillcolor": "rgb(0, 0, 0)",
           "hoverinfo": "name",
           "line": {
            "width": 0
           },
           "mode": "lines",
           "name": "Risk Area",
           "showlegend": false,
           "x": [
            1.5,
            1.5,
            3.6,
            3.6,
            4.9,
            4.9,
            5.0,
            5.0,
            4.9,
            4.9,
            0.0,
            0.0,
            1.5
           ],
           "y": [
            4.9,
            5.0,
            5.0,
            4.9,
            4.9,
            3.6,
            3.6,
            1.5,
            1.5,
            0.0,
            0.0,
            4.9,
            4.9
           ],
           "type": "scatter"
          },
          {
           "fill": "toself",
           "fillcolor": "rgb(153, 0, 0)",
           "hoverinfo": "name",
           "line": {
            "width": 0
           },
           "mode": "lines",
           "name": "Risk Area",
           "showlegend": false,
           "x": [
            9.9,
            9.9,
            5.1,
            5.1,
            5.0,
            5.0,
            5.1,
            5.1,
            6.4,
            6.4,
            8.6,
            8.6,
            9.9,
            9.9,
            10.0,
            10.0,
            9.9
           ],
           "y": [
            1.5,
            0.0,
            0.0,
            1.5,
            1.5,
            3.6,
            3.6,
            4.9,
            4.9,
            5.0,
            5.0,
            4.9,
            4.9,
            3.6,
            3.6,
            1.5,
            1.5
           ],
           "type": "scatter"
          },
          {
           "fill": "toself",
           "fillcolor": "rgb(0, 0, 0)",
           "hoverinfo": "name",
           "line": {
            "width": 0
           },
           "mode": "lines",
           "name": "Risk Area",
           "showlegend": false,
           "x": [
            13.6,
            15.0,
            15.0,
            10.1,
            10.1,
            10.0,
            10.0,
            10.1,
            10.1,
            11.5,
            11.5,
            13.6,
            13.6
           ],
           "y": [
            4.9,
            4.9,
            0.0,
            0.0,
            1.5,
            1.5,
            3.6,
            3.6,
            4.9,
            4.9,
            5.0,
            5.0,
            4.9
           ],
           "type": "scatter"
          },
          {
           "fill": "toself",
           "fillcolor": "rgb(153, 0, 0)",
           "hoverinfo": "name",
           "line": {
            "width": 0
           },
           "mode": "lines",
           "name": "Risk Area",
           "showlegend": false,
           "x": [
            13.6,
            15.0,
            15.0,
            13.6,
            13.6,
            11.5,
            11.5,
            10.1,
            10.1,
            10.0,
            10.0,
            10.1,
            10.1,
            11.5,
            11.5,
            13.6,
            13.6
           ],
           "y": [
            9.9,
            9.9,
            5.1,
            5.1,
            5.0,
            5.0,
            5.1,
            5.1,
            6.5,
            6.5,
            8.6,
            8.6,
            9.9,
            9.9,
            10.0,
            10.0,
            9.9
           ],
           "type": "scatter"
          },
          {
           "fill": "toself",
           "fillcolor": "rgb(153, 0, 0)",
           "hoverinfo": "name",
           "line": {
            "width": 0
           },
           "mode": "lines",
           "name": "Risk Area",
           "showlegend": false,
           "x": [
            9.9,
            9.9,
            8.6,
            8.6,
            6.4,
            6.4,
            5.1,
            5.1,
            5.0,
            5.0,
            5.1,
            5.1,
            6.4,
            6.4,
            8.6,
            8.6,
            9.9,
            9.9,
            10.0,
            10.0,
            9.9
           ],
           "y": [
            6.5,
            5.1,
            5.1,
            5.0,
            5.0,
            5.1,
            5.1,
            6.5,
            6.5,
            8.6,
            8.6,
            9.9,
            9.9,
            10.0,
            10.0,
            9.9,
            9.9,
            8.6,
            8.6,
            6.5,
            6.5
           ],
           "type": "scatter"
          },
          {
           "fill": "toself",
           "fillcolor": "rgb(25, 0, 0)",
           "hoverinfo": "name",
           "line": {
            "width": 0
           },
           "mode": "lines",
           "name": "Risk Area",
           "showlegend": false,
           "x": [
            4.9,
            4.9,
            3.6,
            3.6,
            1.5,
            1.5,
            0.0,
            0.0,
            1.5,
            1.5,
            3.6,
            3.6,
            4.9,
            4.9,
            5.0,
            5.0,
            4.9
           ],
           "y": [
            6.5,
            5.1,
            5.1,
            5.0,
            5.0,
            5.1,
            5.1,
            9.9,
            9.9,
            10.0,
            10.0,
            9.9,
            9.9,
            8.6,
            8.6,
            6.5,
            6.5
           ],
           "type": "scatter"
          },
          {
           "fill": "toself",
           "fillcolor": "rgb(0, 0, 0)",
           "hoverinfo": "name",
           "line": {
            "width": 0
           },
           "mode": "lines",
           "name": "Risk Area",
           "showlegend": false,
           "x": [
            1.5,
            0.0,
            0.0,
            4.9,
            4.9,
            5.0,
            5.0,
            4.9,
            4.9,
            3.6,
            3.6,
            1.5,
            1.5
           ],
           "y": [
            10.1,
            10.1,
            15.0,
            15.0,
            13.6,
            13.6,
            11.5,
            11.5,
            10.1,
            10.1,
            10.0,
            10.0,
            10.1
           ],
           "type": "scatter"
          },
          {
           "fill": "toself",
           "fillcolor": "rgb(0, 0, 0)",
           "hoverinfo": "name",
           "line": {
            "width": 0
           },
           "mode": "lines",
           "name": "Risk Area",
           "showlegend": false,
           "x": [
            6.4,
            5.1,
            5.1,
            5.0,
            5.0,
            5.1,
            5.1,
            9.9,
            9.9,
            10.0,
            10.0,
            9.9,
            9.9,
            8.6,
            8.6,
            6.4,
            6.4
           ],
           "y": [
            10.1,
            10.1,
            11.5,
            11.5,
            13.6,
            13.6,
            15.0,
            15.0,
            13.6,
            13.6,
            11.5,
            11.5,
            10.1,
            10.1,
            10.0,
            10.0,
            10.1
           ],
           "type": "scatter"
          },
          {
           "fill": "toself",
           "fillcolor": "rgb(0, 0, 0)",
           "hoverinfo": "name",
           "line": {
            "width": 0
           },
           "mode": "lines",
           "name": "Risk Area",
           "showlegend": false,
           "x": [
            10.1,
            10.1,
            15.0,
            15.0,
            13.6,
            13.6,
            11.5,
            11.5,
            10.1,
            10.1,
            10.0,
            10.0,
            10.1
           ],
           "y": [
            13.6,
            15.0,
            15.0,
            10.1,
            10.1,
            10.0,
            10.0,
            10.1,
            10.1,
            11.5,
            11.5,
            13.6,
            13.6
           ],
           "type": "scatter"
          },
          {
           "hoverinfo": "text",
           "marker": {
            "opacity": 1,
            "size": 1
           },
           "mode": "markers",
           "showlegend": false,
           "text": [
            "ID: 11, Pos(7.61,12.25)"
           ],
           "x": [
            7.6087463667831585
           ],
           "y": [
            12.246399040417042
           ],
           "type": "scatter"
          },
          {
           "hoverinfo": "text",
           "marker": {
            "opacity": 1,
            "size": 1
           },
           "mode": "markers",
           "showlegend": false,
           "text": [
            "ID: 12, Pos(7.13,12.84)"
           ],
           "x": [
            7.132086321772685
           ],
           "y": [
            12.836401352377559
           ],
           "type": "scatter"
          },
          {
           "hoverinfo": "text",
           "marker": {
            "opacity": 1,
            "size": 1
           },
           "mode": "markers",
           "showlegend": false,
           "text": [
            "ID: 13, Pos(5.10,12.25)"
           ],
           "x": [
            5.101167122722285
           ],
           "y": [
            12.254832424525583
           ],
           "type": "scatter"
          },
          {
           "hoverinfo": "text",
           "marker": {
            "opacity": 1,
            "size": 1
           },
           "mode": "markers",
           "showlegend": false,
           "text": [
            "ID: 14, Pos(8.80,12.45)"
           ],
           "x": [
            8.803944337279425
           ],
           "y": [
            12.45309557149683
           ],
           "type": "scatter"
          },
          {
           "hoverinfo": "text",
           "marker": {
            "opacity": 1,
            "size": 1
           },
           "mode": "markers",
           "showlegend": false,
           "text": [
            "ID: 15, Pos(8.46,13.14)"
           ],
           "x": [
            8.458916140360492
           ],
           "y": [
            13.13625206271917
           ],
           "type": "scatter"
          },
          {
           "hoverinfo": "text",
           "marker": {
            "opacity": 1,
            "size": 1
           },
           "mode": "markers",
           "showlegend": false,
           "text": [
            "ID: 16, Pos(11.14,13.22)"
           ],
           "x": [
            11.140592298297516
           ],
           "y": [
            13.218718665734455
           ],
           "type": "scatter"
          },
          {
           "hoverinfo": "text",
           "marker": {
            "opacity": 1,
            "size": 1
           },
           "mode": "markers",
           "showlegend": false,
           "text": [
            "ID: 17, Pos(10.01,12.68)"
           ],
           "x": [
            10.013205366707437
           ],
           "y": [
            12.677493064497957
           ],
           "type": "scatter"
          },
          {
           "hoverinfo": "text",
           "marker": {
            "opacity": 1,
            "size": 1
           },
           "mode": "markers",
           "showlegend": false,
           "text": [
            "ID: 18, Pos(6.20,12.21)"
           ],
           "x": [
            6.202909596768089
           ],
           "y": [
            12.21329099707344
           ],
           "type": "scatter"
          },
          {
           "hoverinfo": "text",
           "marker": {
            "opacity": 1,
            "size": 1
           },
           "mode": "markers",
           "showlegend": false,
           "text": [
            "ID: 19, Pos(9.76,13.29)"
           ],
           "x": [
            9.761718498538983
           ],
           "y": [
            13.293451287384196
           ],
           "type": "scatter"
          },
          {
           "hoverinfo": "text",
           "marker": {
            "opacity": 1,
            "size": 1
           },
           "mode": "markers",
           "showlegend": false,
           "text": [
            "ID: 20, Pos(4.63,11.70)"
           ],
           "x": [
            4.628240506893892
           ],
           "y": [
            11.695029112951659
           ],
           "type": "scatter"
          }
         ],
         "layout": {
          "shapes": [
           {
            "fillcolor": "rgba(0, 0, 128, 0.5)",
            "line": {
             "color": "rgba(0, 0, 128, 0.5)"
            },
            "type": "circle",
            "x0": 7.408746366783158,
            "x1": 7.808746366783159,
            "xref": "x",
            "y0": 12.046399040417043,
            "y1": 12.446399040417042,
            "yref": "y"
           },
           {
            "fillcolor": "rgba(0, 0, 128, 0.5)",
            "line": {
             "color": "rgba(0, 0, 128, 0.5)"
            },
            "type": "circle",
            "x0": 6.932086321772685,
            "x1": 7.332086321772685,
            "xref": "x",
            "y0": 12.63640135237756,
            "y1": 13.036401352377558,
            "yref": "y"
           },
           {
            "fillcolor": "rgba(0, 13, 255, 0.5)",
            "line": {
             "color": "rgba(0, 13, 255, 0.5)"
            },
            "type": "circle",
            "x0": 4.901167122722285,
            "x1": 5.301167122722285,
            "xref": "x",
            "y0": 12.054832424525584,
            "y1": 12.454832424525582,
            "yref": "y"
           },
           {
            "fillcolor": "rgba(0, 0, 128, 0.5)",
            "line": {
             "color": "rgba(0, 0, 128, 0.5)"
            },
            "type": "circle",
            "x0": 8.603944337279426,
            "x1": 9.003944337279425,
            "xref": "x",
            "y0": 12.25309557149683,
            "y1": 12.653095571496829,
            "yref": "y"
           },
           {
            "fillcolor": "rgba(0, 0, 128, 0.5)",
            "line": {
             "color": "rgba(0, 0, 128, 0.5)"
            },
            "type": "circle",
            "x0": 8.258916140360492,
            "x1": 8.65891614036049,
            "xref": "x",
            "y0": 12.93625206271917,
            "y1": 13.336252062719169,
            "yref": "y"
           },
           {
            "fillcolor": "rgba(0, 0, 128, 0.5)",
            "line": {
             "color": "rgba(0, 0, 128, 0.5)"
            },
            "type": "circle",
            "x0": 10.940592298297517,
            "x1": 11.340592298297516,
            "xref": "x",
            "y0": 13.018718665734456,
            "y1": 13.418718665734454,
            "yref": "y"
           },
           {
            "fillcolor": "rgba(0, 0, 128, 0.5)",
            "line": {
             "color": "rgba(0, 0, 128, 0.5)"
            },
            "type": "circle",
            "x0": 9.813205366707438,
            "x1": 10.213205366707436,
            "xref": "x",
            "y0": 12.477493064497958,
            "y1": 12.877493064497957,
            "yref": "y"
           },
           {
            "fillcolor": "rgba(0, 0, 128, 0.5)",
            "line": {
             "color": "rgba(0, 0, 128, 0.5)"
            },
            "type": "circle",
            "x0": 6.002909596768089,
            "x1": 6.402909596768089,
            "xref": "x",
            "y0": 12.01329099707344,
            "y1": 12.413290997073439,
            "yref": "y"
           },
           {
            "fillcolor": "rgba(0, 0, 141, 0.5)",
            "line": {
             "color": "rgba(0, 0, 141, 0.5)"
            },
            "type": "circle",
            "x0": 9.561718498538983,
            "x1": 9.961718498538982,
            "xref": "x",
            "y0": 13.093451287384196,
            "y1": 13.493451287384195,
            "yref": "y"
           },
           {
            "fillcolor": "rgba(248, 245, 0, 0.5)",
            "line": {
             "color": "rgba(248, 245, 0, 0.5)"
            },
            "type": "circle",
            "x0": 4.428240506893892,
            "x1": 4.828240506893892,
            "xref": "x",
            "y0": 11.49502911295166,
            "y1": 11.895029112951658,
            "yref": "y"
           },
           {
            "line": {
             "color": "white",
             "width": 3
            },
            "type": "line",
            "x0": 7.6087463667831585,
            "x1": 7.805646077975026,
            "y0": 12.246399040417042,
            "y1": 12.281477577053558
           },
           {
            "line": {
             "color": "white",
             "width": 3
            },
            "type": "line",
            "x0": 7.132086321772685,
            "x1": 7.328010820056778,
            "y0": 12.836401352377559,
            "y1": 12.876570880282756
           },
           {
            "line": {
             "color": "white",
             "width": 3
            },
            "type": "line",
            "x0": 5.101167122722285,
            "x1": 5.298454385088795,
            "y0": 12.254832424525583,
            "y1": 12.2876613158856
           },
           {
            "line": {
             "color": "white",
             "width": 3
            },
            "type": "line",
            "x0": 8.803944337279425,
            "x1": 9.000294539045145,
            "y0": 12.45309557149683,
            "y1": 12.491129743849616
           },
           {
            "line": {
             "color": "white",
             "width": 3
            },
            "type": "line",
            "x0": 8.458916140360492,
            "x1": 8.655664553641099,
            "y0": 13.13625206271917,
            "y1": 13.172169494024363
           },
           {
            "line": {
             "color": "white",
             "width": 3
            },
            "type": "line",
            "x0": 11.140592298297516,
            "x1": 11.336567830983789,
            "y0": 13.218718665734455,
            "y1": 13.258638467692023
           },
           {
            "line": {
             "color": "white",
             "width": 3
            },
            "type": "line",
            "x0": 10.013205366707437,
            "x1": 10.21202112587962,
            "y0": 12.677493064497957,
            "y1": 12.699225388459935
           },
           {
            "line": {
             "color": "white",
             "width": 3
            },
            "type": "line",
            "x0": 6.202909596768089,
            "x1": 6.398939154282076,
            "y0": 12.21329099707344,
            "y1": 12.252944654923258
           },
           {
            "line": {
             "color": "white",
             "width": 3
            },
            "type": "line",
            "x0": 9.761718498538983,
            "x1": 9.937264743875375,
            "y0": 13.293451287384196,
            "y1": 13.197620625546268
           },
           {
            "line": {
             "color": "black",
             "width": 3
            },
            "type": "line",
            "x0": 4.628240506893892,
            "x1": 4.726048061762861,
            "y0": 11.695029112951659,
            "y1": 11.869481634316509
           }
          ],
          "title": {
           "text": "<b>Mode: Low_knowledge_shortest_path  |  Number of Agents: 10</b>",
           "x": 0.5
          }
         },
         "name": "550"
        },
        {
         "data": [
          {
           "hoverinfo": "name",
           "line": {
            "color": "white"
           },
           "mode": "lines",
           "name": "Exterior",
           "showlegend": false,
           "x": [
            10.1,
            10.1,
            15.0,
            15.0,
            13.6,
            13.6,
            15.0,
            15.0,
            13.6,
            13.6,
            15.0,
            15.0,
            10.1,
            10.1,
            9.9,
            9.9,
            5.1,
            5.1,
            4.9,
            4.9,
            0.0,
            0.0,
            1.5,
            1.5,
            0.0,
            0.0,
            1.5,
            1.5,
            0.0,
            0.0,
            4.9,
            4.9,
            5.1,
            5.1,
            9.9,
            9.9,
            10.1
           ],
           "y": [
            1.5,
            0.0,
            0.0,
            4.9,
            4.9,
            5.1,
            5.1,
            9.9,
            9.9,
            10.1,
            10.1,
            15.0,
            15.0,
            13.6,
            13.6,
            15.0,
            15.0,
            13.6,
            13.6,
            15.0,
            15.0,
            10.1,
            10.1,
            9.9,
            9.9,
            5.1,
            5.1,
            4.9,
            4.9,
            0.0,
            0.0,
            1.5,
            1.5,
            0.0,
            0.0,
            1.5,
            1.5
           ],
           "type": "scatter"
          },
          {
           "hoverinfo": "name",
           "line": {
            "color": "white"
           },
           "mode": "lines",
           "name": "Obstacle",
           "showlegend": false,
           "x": [
            10.1,
            11.5,
            11.5,
            10.1,
            10.1,
            9.9,
            9.9,
            8.6,
            8.6,
            9.9,
            9.9,
            10.1,
            10.1
           ],
           "y": [
            5.1,
            5.1,
            4.9,
            4.9,
            3.6,
            3.6,
            4.9,
            4.9,
            5.1,
            5.1,
            6.5,
            6.5,
            5.1
           ],
           "type": "scatter"
          },
          {
           "hoverinfo": "name",
           "line": {
            "color": "white"
           },
           "mode": "lines",
           "name": "Obstacle",
           "showlegend": false,
           "x": [
            10.1,
            11.5,
            11.5,
            10.1,
            10.1,
            9.9,
            9.9,
            8.6,
            8.6,
            9.9,
            9.9,
            10.1,
            10.1
           ],
           "y": [
            10.1,
            10.1,
            9.9,
            9.9,
            8.6,
            8.6,
            9.9,
            9.9,
            10.1,
            10.1,
            11.5,
            11.5,
            10.1
           ],
           "type": "scatter"
          },
          {
           "hoverinfo": "name",
           "line": {
            "color": "white"
           },
           "mode": "lines",
           "name": "Obstacle",
           "showlegend": false,
           "x": [
            5.1,
            6.4,
            6.4,
            5.1,
            5.1,
            4.9,
            4.9,
            3.6,
            3.6,
            4.9,
            4.9,
            5.1,
            5.1
           ],
           "y": [
            5.1,
            5.1,
            4.9,
            4.9,
            3.6,
            3.6,
            4.9,
            4.9,
            5.1,
            5.1,
            6.5,
            6.5,
            5.1
           ],
           "type": "scatter"
          },
          {
           "hoverinfo": "name",
           "line": {
            "color": "white"
           },
           "mode": "lines",
           "name": "Obstacle",
           "showlegend": false,
           "x": [
            5.1,
            6.4,
            6.4,
            5.1,
            5.1,
            4.9,
            4.9,
            3.6,
            3.6,
            4.9,
            4.9,
            5.1,
            5.1
           ],
           "y": [
            10.1,
            10.1,
            9.9,
            9.9,
            8.6,
            8.6,
            9.9,
            9.9,
            10.1,
            10.1,
            11.5,
            11.5,
            10.1
           ],
           "type": "scatter"
          },
          {
           "fill": "toself",
           "fillcolor": "rgb(0, 0, 0)",
           "hoverinfo": "name",
           "line": {
            "width": 0
           },
           "mode": "lines",
           "name": "Risk Area",
           "showlegend": false,
           "x": [
            1.5,
            1.5,
            3.6,
            3.6,
            4.9,
            4.9,
            5.0,
            5.0,
            4.9,
            4.9,
            0.0,
            0.0,
            1.5
           ],
           "y": [
            4.9,
            5.0,
            5.0,
            4.9,
            4.9,
            3.6,
            3.6,
            1.5,
            1.5,
            0.0,
            0.0,
            4.9,
            4.9
           ],
           "type": "scatter"
          },
          {
           "fill": "toself",
           "fillcolor": "rgb(153, 0, 0)",
           "hoverinfo": "name",
           "line": {
            "width": 0
           },
           "mode": "lines",
           "name": "Risk Area",
           "showlegend": false,
           "x": [
            9.9,
            9.9,
            5.1,
            5.1,
            5.0,
            5.0,
            5.1,
            5.1,
            6.4,
            6.4,
            8.6,
            8.6,
            9.9,
            9.9,
            10.0,
            10.0,
            9.9
           ],
           "y": [
            1.5,
            0.0,
            0.0,
            1.5,
            1.5,
            3.6,
            3.6,
            4.9,
            4.9,
            5.0,
            5.0,
            4.9,
            4.9,
            3.6,
            3.6,
            1.5,
            1.5
           ],
           "type": "scatter"
          },
          {
           "fill": "toself",
           "fillcolor": "rgb(0, 0, 0)",
           "hoverinfo": "name",
           "line": {
            "width": 0
           },
           "mode": "lines",
           "name": "Risk Area",
           "showlegend": false,
           "x": [
            13.6,
            15.0,
            15.0,
            10.1,
            10.1,
            10.0,
            10.0,
            10.1,
            10.1,
            11.5,
            11.5,
            13.6,
            13.6
           ],
           "y": [
            4.9,
            4.9,
            0.0,
            0.0,
            1.5,
            1.5,
            3.6,
            3.6,
            4.9,
            4.9,
            5.0,
            5.0,
            4.9
           ],
           "type": "scatter"
          },
          {
           "fill": "toself",
           "fillcolor": "rgb(153, 0, 0)",
           "hoverinfo": "name",
           "line": {
            "width": 0
           },
           "mode": "lines",
           "name": "Risk Area",
           "showlegend": false,
           "x": [
            13.6,
            15.0,
            15.0,
            13.6,
            13.6,
            11.5,
            11.5,
            10.1,
            10.1,
            10.0,
            10.0,
            10.1,
            10.1,
            11.5,
            11.5,
            13.6,
            13.6
           ],
           "y": [
            9.9,
            9.9,
            5.1,
            5.1,
            5.0,
            5.0,
            5.1,
            5.1,
            6.5,
            6.5,
            8.6,
            8.6,
            9.9,
            9.9,
            10.0,
            10.0,
            9.9
           ],
           "type": "scatter"
          },
          {
           "fill": "toself",
           "fillcolor": "rgb(153, 0, 0)",
           "hoverinfo": "name",
           "line": {
            "width": 0
           },
           "mode": "lines",
           "name": "Risk Area",
           "showlegend": false,
           "x": [
            9.9,
            9.9,
            8.6,
            8.6,
            6.4,
            6.4,
            5.1,
            5.1,
            5.0,
            5.0,
            5.1,
            5.1,
            6.4,
            6.4,
            8.6,
            8.6,
            9.9,
            9.9,
            10.0,
            10.0,
            9.9
           ],
           "y": [
            6.5,
            5.1,
            5.1,
            5.0,
            5.0,
            5.1,
            5.1,
            6.5,
            6.5,
            8.6,
            8.6,
            9.9,
            9.9,
            10.0,
            10.0,
            9.9,
            9.9,
            8.6,
            8.6,
            6.5,
            6.5
           ],
           "type": "scatter"
          },
          {
           "fill": "toself",
           "fillcolor": "rgb(25, 0, 0)",
           "hoverinfo": "name",
           "line": {
            "width": 0
           },
           "mode": "lines",
           "name": "Risk Area",
           "showlegend": false,
           "x": [
            4.9,
            4.9,
            3.6,
            3.6,
            1.5,
            1.5,
            0.0,
            0.0,
            1.5,
            1.5,
            3.6,
            3.6,
            4.9,
            4.9,
            5.0,
            5.0,
            4.9
           ],
           "y": [
            6.5,
            5.1,
            5.1,
            5.0,
            5.0,
            5.1,
            5.1,
            9.9,
            9.9,
            10.0,
            10.0,
            9.9,
            9.9,
            8.6,
            8.6,
            6.5,
            6.5
           ],
           "type": "scatter"
          },
          {
           "fill": "toself",
           "fillcolor": "rgb(0, 0, 0)",
           "hoverinfo": "name",
           "line": {
            "width": 0
           },
           "mode": "lines",
           "name": "Risk Area",
           "showlegend": false,
           "x": [
            1.5,
            0.0,
            0.0,
            4.9,
            4.9,
            5.0,
            5.0,
            4.9,
            4.9,
            3.6,
            3.6,
            1.5,
            1.5
           ],
           "y": [
            10.1,
            10.1,
            15.0,
            15.0,
            13.6,
            13.6,
            11.5,
            11.5,
            10.1,
            10.1,
            10.0,
            10.0,
            10.1
           ],
           "type": "scatter"
          },
          {
           "fill": "toself",
           "fillcolor": "rgb(0, 0, 0)",
           "hoverinfo": "name",
           "line": {
            "width": 0
           },
           "mode": "lines",
           "name": "Risk Area",
           "showlegend": false,
           "x": [
            6.4,
            5.1,
            5.1,
            5.0,
            5.0,
            5.1,
            5.1,
            9.9,
            9.9,
            10.0,
            10.0,
            9.9,
            9.9,
            8.6,
            8.6,
            6.4,
            6.4
           ],
           "y": [
            10.1,
            10.1,
            11.5,
            11.5,
            13.6,
            13.6,
            15.0,
            15.0,
            13.6,
            13.6,
            11.5,
            11.5,
            10.1,
            10.1,
            10.0,
            10.0,
            10.1
           ],
           "type": "scatter"
          },
          {
           "fill": "toself",
           "fillcolor": "rgb(0, 0, 0)",
           "hoverinfo": "name",
           "line": {
            "width": 0
           },
           "mode": "lines",
           "name": "Risk Area",
           "showlegend": false,
           "x": [
            10.1,
            10.1,
            15.0,
            15.0,
            13.6,
            13.6,
            11.5,
            11.5,
            10.1,
            10.1,
            10.0,
            10.0,
            10.1
           ],
           "y": [
            13.6,
            15.0,
            15.0,
            10.1,
            10.1,
            10.0,
            10.0,
            10.1,
            10.1,
            11.5,
            11.5,
            13.6,
            13.6
           ],
           "type": "scatter"
          },
          {
           "hoverinfo": "text",
           "marker": {
            "opacity": 1,
            "size": 1
           },
           "mode": "markers",
           "showlegend": false,
           "text": [
            "ID: 11.0, Pos(9.18,12.54)"
           ],
           "x": [
            9.18063889337701
           ],
           "y": [
            12.54487986664302
           ],
           "type": "scatter"
          },
          {
           "hoverinfo": "text",
           "marker": {
            "opacity": 1,
            "size": 1
           },
           "mode": "markers",
           "showlegend": false,
           "text": [
            "ID: 12.0, Pos(8.70,13.14)"
           ],
           "x": [
            8.69894741318616
           ],
           "y": [
            13.138057320617914
           ],
           "type": "scatter"
          },
          {
           "hoverinfo": "text",
           "marker": {
            "opacity": 1,
            "size": 1
           },
           "mode": "markers",
           "showlegend": false,
           "text": [
            "ID: 13.0, Pos(6.59,12.46)"
           ],
           "x": [
            6.590885117241864
           ],
           "y": [
            12.463447427145418
           ],
           "type": "scatter"
          },
          {
           "hoverinfo": "text",
           "marker": {
            "opacity": 1,
            "size": 1
           },
           "mode": "markers",
           "showlegend": false,
           "text": [
            "ID: 14.0, Pos(10.37,12.76)"
           ],
           "x": [
            10.374562696481087
           ],
           "y": [
            12.758033718327276
           ],
           "type": "scatter"
          },
          {
           "hoverinfo": "text",
           "marker": {
            "opacity": 1,
            "size": 1
           },
           "mode": "markers",
           "showlegend": false,
           "text": [
            "ID: 15.0, Pos(9.83,13.26)"
           ],
           "x": [
            9.826609626078765
           ],
           "y": [
            13.257337828102429
           ],
           "type": "scatter"
          },
          {
           "hoverinfo": "text",
           "marker": {
            "opacity": 1,
            "size": 1
           },
           "mode": "markers",
           "showlegend": false,
           "text": [
            "ID: 17.0, Pos(11.59,12.89)"
           ],
           "x": [
            11.592345594908506
           ],
           "y": [
            12.890409940414576
           ],
           "type": "scatter"
          },
          {
           "hoverinfo": "text",
           "marker": {
            "opacity": 1,
            "size": 1
           },
           "mode": "markers",
           "showlegend": false,
           "text": [
            "ID: 18.0, Pos(7.77,12.53)"
           ],
           "x": [
            7.771021270349785
           ],
           "y": [
            12.531136411025715
           ],
           "type": "scatter"
          },
          {
           "hoverinfo": "text",
           "marker": {
            "opacity": 1,
            "size": 1
           },
           "mode": "markers",
           "showlegend": false,
           "text": [
            "ID: 19.0, Pos(11.32,13.53)"
           ],
           "x": [
            11.315230207253094
           ],
           "y": [
            13.527434701525037
           ],
           "type": "scatter"
          },
          {
           "hoverinfo": "text",
           "marker": {
            "opacity": 1,
            "size": 1
           },
           "mode": "markers",
           "showlegend": false,
           "text": [
            "ID: 20.0, Pos(5.58,12.09)"
           ],
           "x": [
            5.578298384011793
           ],
           "y": [
            12.085248561321174
           ],
           "type": "scatter"
          },
          {
           "hoverinfo": "none",
           "marker": {
            "opacity": 0,
            "size": 1
           },
           "mode": "markers",
           "showlegend": false,
           "x": [
            0.0
           ],
           "y": [
            0.0
           ],
           "type": "scatter"
          }
         ],
         "layout": {
          "shapes": [
           {
            "fillcolor": "rgba(0, 0, 128, 0.5)",
            "line": {
             "color": "rgba(0, 0, 128, 0.5)"
            },
            "type": "circle",
            "x0": 8.98063889337701,
            "x1": 9.380638893377009,
            "xref": "x",
            "y0": 12.344879866643021,
            "y1": 12.74487986664302,
            "yref": "y"
           },
           {
            "fillcolor": "rgba(0, 0, 228, 0.5)",
            "line": {
             "color": "rgba(0, 0, 228, 0.5)"
            },
            "type": "circle",
            "x0": 8.49894741318616,
            "x1": 8.898947413186159,
            "xref": "x",
            "y0": 12.938057320617915,
            "y1": 13.338057320617914,
            "yref": "y"
           },
           {
            "fillcolor": "rgba(0, 0, 155, 0.5)",
            "line": {
             "color": "rgba(0, 0, 155, 0.5)"
            },
            "type": "circle",
            "x0": 6.390885117241864,
            "x1": 6.7908851172418645,
            "xref": "x",
            "y0": 12.263447427145419,
            "y1": 12.663447427145417,
            "yref": "y"
           },
           {
            "fillcolor": "rgba(0, 0, 128, 0.5)",
            "line": {
             "color": "rgba(0, 0, 128, 0.5)"
            },
            "type": "circle",
            "x0": 10.174562696481088,
            "x1": 10.574562696481086,
            "xref": "x",
            "y0": 12.558033718327277,
            "y1": 12.958033718327275,
            "yref": "y"
           },
           {
            "fillcolor": "rgba(238, 255, 9, 0.5)",
            "line": {
             "color": "rgba(238, 255, 9, 0.5)"
            },
            "type": "circle",
            "x0": 9.626609626078766,
            "x1": 10.026609626078764,
            "xref": "x",
            "y0": 13.05733782810243,
            "y1": 13.457337828102428,
            "yref": "y"
           },
           {
            "fillcolor": "rgba(0, 0, 128, 0.5)",
            "line": {
             "color": "rgba(0, 0, 128, 0.5)"
            },
            "type": "circle",
            "x0": 11.392345594908507,
            "x1": 11.792345594908506,
            "xref": "x",
            "y0": 12.690409940414577,
            "y1": 13.090409940414576,
            "yref": "y"
           },
           {
            "fillcolor": "rgba(0, 0, 128, 0.5)",
            "line": {
             "color": "rgba(0, 0, 128, 0.5)"
            },
            "type": "circle",
            "x0": 7.571021270349785,
            "x1": 7.971021270349786,
            "xref": "x",
            "y0": 12.331136411025716,
            "y1": 12.731136411025714,
            "yref": "y"
           },
           {
            "fillcolor": "rgba(0, 0, 128, 0.5)",
            "line": {
             "color": "rgba(0, 0, 128, 0.5)"
            },
            "type": "circle",
            "x0": 11.115230207253095,
            "x1": 11.515230207253094,
            "xref": "x",
            "y0": 13.327434701525037,
            "y1": 13.727434701525036,
            "yref": "y"
           },
           {
            "fillcolor": "rgba(0, 40, 255, 0.5)",
            "line": {
             "color": "rgba(0, 40, 255, 0.5)"
            },
            "type": "circle",
            "x0": 5.378298384011793,
            "x1": 5.778298384011793,
            "xref": "x",
            "y0": 11.885248561321175,
            "y1": 12.285248561321174,
            "yref": "y"
           },
           {
            "fillcolor": "rgba(255,255,255,0)",
            "line": {
             "width": 0
            },
            "type": "circle",
            "x0": 0.0,
            "x1": 0.0,
            "xref": "x",
            "y0": 0.0,
            "y1": 0.0,
            "yref": "y"
           },
           {
            "line": {
             "color": "white",
             "width": 3
            },
            "type": "line",
            "x0": 9.18063889337701,
            "x1": 9.376962520193285,
            "y0": 12.54487986664302,
            "y1": 12.583050975530554
           },
           {
            "line": {
             "color": "white",
             "width": 3
            },
            "type": "line",
            "x0": 8.69894741318616,
            "x1": 8.895657984470903,
            "y0": 13.138057320617914,
            "y1": 13.174181428147783
           },
           {
            "line": {
             "color": "white",
             "width": 3
            },
            "type": "line",
            "x0": 6.590885117241864,
            "x1": 6.787708957893676,
            "y0": 12.463447427145418,
            "y1": 12.498949198243073
           },
           {
            "line": {
             "color": "white",
             "width": 3
            },
            "type": "line",
            "x0": 10.374562696481087,
            "x1": 10.569995147223871,
            "y0": 12.758033718327276,
            "y1": 12.800532626509366
           },
           {
            "line": {
             "color": "black",
             "width": 3
            },
            "type": "line",
            "x0": 9.826609626078765,
            "x1": 10.01153019425046,
            "y0": 13.257337828102429,
            "y1": 13.181151323608146
           },
           {
            "line": {
             "color": "white",
             "width": 3
            },
            "type": "line",
            "x0": 11.592345594908506,
            "x1": 11.786434989796318,
            "y0": 12.890409940414576,
            "y1": 12.938672832910605
           },
           {
            "line": {
             "color": "white",
             "width": 3
            },
            "type": "line",
            "x0": 7.771021270349785,
            "x1": 7.9670276585631195,
            "y0": 12.531136411025715,
            "y1": 12.57090443561286
           },
           {
            "line": {
             "color": "white",
             "width": 3
            },
            "type": "line",
            "x0": 11.315230207253094,
            "x1": 11.51012836649855,
            "y0": 13.527434701525037,
            "y1": 13.572320194980414
           },
           {
            "line": {
             "color": "white",
             "width": 3
            },
            "type": "line",
            "x0": 5.578298384011793,
            "x1": 5.773810286292381,
            "y0": 12.085248561321174,
            "y1": 12.127380450272726
           },
           {
            "line": {
             "color": "rgba(255,255,255,0)",
             "width": 3
            },
            "type": "line",
            "x0": 0.0,
            "x1": null,
            "y0": 0.0,
            "y1": null
           }
          ],
          "title": {
           "text": "<b>Mode: Low_knowledge_shortest_path  |  Number of Agents: 9</b>",
           "x": 0.5
          }
         },
         "name": "600"
        },
        {
         "data": [
          {
           "hoverinfo": "name",
           "line": {
            "color": "white"
           },
           "mode": "lines",
           "name": "Exterior",
           "showlegend": false,
           "x": [
            10.1,
            10.1,
            15.0,
            15.0,
            13.6,
            13.6,
            15.0,
            15.0,
            13.6,
            13.6,
            15.0,
            15.0,
            10.1,
            10.1,
            9.9,
            9.9,
            5.1,
            5.1,
            4.9,
            4.9,
            0.0,
            0.0,
            1.5,
            1.5,
            0.0,
            0.0,
            1.5,
            1.5,
            0.0,
            0.0,
            4.9,
            4.9,
            5.1,
            5.1,
            9.9,
            9.9,
            10.1
           ],
           "y": [
            1.5,
            0.0,
            0.0,
            4.9,
            4.9,
            5.1,
            5.1,
            9.9,
            9.9,
            10.1,
            10.1,
            15.0,
            15.0,
            13.6,
            13.6,
            15.0,
            15.0,
            13.6,
            13.6,
            15.0,
            15.0,
            10.1,
            10.1,
            9.9,
            9.9,
            5.1,
            5.1,
            4.9,
            4.9,
            0.0,
            0.0,
            1.5,
            1.5,
            0.0,
            0.0,
            1.5,
            1.5
           ],
           "type": "scatter"
          },
          {
           "hoverinfo": "name",
           "line": {
            "color": "white"
           },
           "mode": "lines",
           "name": "Obstacle",
           "showlegend": false,
           "x": [
            10.1,
            11.5,
            11.5,
            10.1,
            10.1,
            9.9,
            9.9,
            8.6,
            8.6,
            9.9,
            9.9,
            10.1,
            10.1
           ],
           "y": [
            5.1,
            5.1,
            4.9,
            4.9,
            3.6,
            3.6,
            4.9,
            4.9,
            5.1,
            5.1,
            6.5,
            6.5,
            5.1
           ],
           "type": "scatter"
          },
          {
           "hoverinfo": "name",
           "line": {
            "color": "white"
           },
           "mode": "lines",
           "name": "Obstacle",
           "showlegend": false,
           "x": [
            10.1,
            11.5,
            11.5,
            10.1,
            10.1,
            9.9,
            9.9,
            8.6,
            8.6,
            9.9,
            9.9,
            10.1,
            10.1
           ],
           "y": [
            10.1,
            10.1,
            9.9,
            9.9,
            8.6,
            8.6,
            9.9,
            9.9,
            10.1,
            10.1,
            11.5,
            11.5,
            10.1
           ],
           "type": "scatter"
          },
          {
           "hoverinfo": "name",
           "line": {
            "color": "white"
           },
           "mode": "lines",
           "name": "Obstacle",
           "showlegend": false,
           "x": [
            5.1,
            6.4,
            6.4,
            5.1,
            5.1,
            4.9,
            4.9,
            3.6,
            3.6,
            4.9,
            4.9,
            5.1,
            5.1
           ],
           "y": [
            5.1,
            5.1,
            4.9,
            4.9,
            3.6,
            3.6,
            4.9,
            4.9,
            5.1,
            5.1,
            6.5,
            6.5,
            5.1
           ],
           "type": "scatter"
          },
          {
           "hoverinfo": "name",
           "line": {
            "color": "white"
           },
           "mode": "lines",
           "name": "Obstacle",
           "showlegend": false,
           "x": [
            5.1,
            6.4,
            6.4,
            5.1,
            5.1,
            4.9,
            4.9,
            3.6,
            3.6,
            4.9,
            4.9,
            5.1,
            5.1
           ],
           "y": [
            10.1,
            10.1,
            9.9,
            9.9,
            8.6,
            8.6,
            9.9,
            9.9,
            10.1,
            10.1,
            11.5,
            11.5,
            10.1
           ],
           "type": "scatter"
          },
          {
           "fill": "toself",
           "fillcolor": "rgb(0, 0, 0)",
           "hoverinfo": "name",
           "line": {
            "width": 0
           },
           "mode": "lines",
           "name": "Risk Area",
           "showlegend": false,
           "x": [
            1.5,
            1.5,
            3.6,
            3.6,
            4.9,
            4.9,
            5.0,
            5.0,
            4.9,
            4.9,
            0.0,
            0.0,
            1.5
           ],
           "y": [
            4.9,
            5.0,
            5.0,
            4.9,
            4.9,
            3.6,
            3.6,
            1.5,
            1.5,
            0.0,
            0.0,
            4.9,
            4.9
           ],
           "type": "scatter"
          },
          {
           "fill": "toself",
           "fillcolor": "rgb(153, 0, 0)",
           "hoverinfo": "name",
           "line": {
            "width": 0
           },
           "mode": "lines",
           "name": "Risk Area",
           "showlegend": false,
           "x": [
            9.9,
            9.9,
            5.1,
            5.1,
            5.0,
            5.0,
            5.1,
            5.1,
            6.4,
            6.4,
            8.6,
            8.6,
            9.9,
            9.9,
            10.0,
            10.0,
            9.9
           ],
           "y": [
            1.5,
            0.0,
            0.0,
            1.5,
            1.5,
            3.6,
            3.6,
            4.9,
            4.9,
            5.0,
            5.0,
            4.9,
            4.9,
            3.6,
            3.6,
            1.5,
            1.5
           ],
           "type": "scatter"
          },
          {
           "fill": "toself",
           "fillcolor": "rgb(0, 0, 0)",
           "hoverinfo": "name",
           "line": {
            "width": 0
           },
           "mode": "lines",
           "name": "Risk Area",
           "showlegend": false,
           "x": [
            13.6,
            15.0,
            15.0,
            10.1,
            10.1,
            10.0,
            10.0,
            10.1,
            10.1,
            11.5,
            11.5,
            13.6,
            13.6
           ],
           "y": [
            4.9,
            4.9,
            0.0,
            0.0,
            1.5,
            1.5,
            3.6,
            3.6,
            4.9,
            4.9,
            5.0,
            5.0,
            4.9
           ],
           "type": "scatter"
          },
          {
           "fill": "toself",
           "fillcolor": "rgb(153, 0, 0)",
           "hoverinfo": "name",
           "line": {
            "width": 0
           },
           "mode": "lines",
           "name": "Risk Area",
           "showlegend": false,
           "x": [
            13.6,
            15.0,
            15.0,
            13.6,
            13.6,
            11.5,
            11.5,
            10.1,
            10.1,
            10.0,
            10.0,
            10.1,
            10.1,
            11.5,
            11.5,
            13.6,
            13.6
           ],
           "y": [
            9.9,
            9.9,
            5.1,
            5.1,
            5.0,
            5.0,
            5.1,
            5.1,
            6.5,
            6.5,
            8.6,
            8.6,
            9.9,
            9.9,
            10.0,
            10.0,
            9.9
           ],
           "type": "scatter"
          },
          {
           "fill": "toself",
           "fillcolor": "rgb(153, 0, 0)",
           "hoverinfo": "name",
           "line": {
            "width": 0
           },
           "mode": "lines",
           "name": "Risk Area",
           "showlegend": false,
           "x": [
            9.9,
            9.9,
            8.6,
            8.6,
            6.4,
            6.4,
            5.1,
            5.1,
            5.0,
            5.0,
            5.1,
            5.1,
            6.4,
            6.4,
            8.6,
            8.6,
            9.9,
            9.9,
            10.0,
            10.0,
            9.9
           ],
           "y": [
            6.5,
            5.1,
            5.1,
            5.0,
            5.0,
            5.1,
            5.1,
            6.5,
            6.5,
            8.6,
            8.6,
            9.9,
            9.9,
            10.0,
            10.0,
            9.9,
            9.9,
            8.6,
            8.6,
            6.5,
            6.5
           ],
           "type": "scatter"
          },
          {
           "fill": "toself",
           "fillcolor": "rgb(25, 0, 0)",
           "hoverinfo": "name",
           "line": {
            "width": 0
           },
           "mode": "lines",
           "name": "Risk Area",
           "showlegend": false,
           "x": [
            4.9,
            4.9,
            3.6,
            3.6,
            1.5,
            1.5,
            0.0,
            0.0,
            1.5,
            1.5,
            3.6,
            3.6,
            4.9,
            4.9,
            5.0,
            5.0,
            4.9
           ],
           "y": [
            6.5,
            5.1,
            5.1,
            5.0,
            5.0,
            5.1,
            5.1,
            9.9,
            9.9,
            10.0,
            10.0,
            9.9,
            9.9,
            8.6,
            8.6,
            6.5,
            6.5
           ],
           "type": "scatter"
          },
          {
           "fill": "toself",
           "fillcolor": "rgb(0, 0, 0)",
           "hoverinfo": "name",
           "line": {
            "width": 0
           },
           "mode": "lines",
           "name": "Risk Area",
           "showlegend": false,
           "x": [
            1.5,
            0.0,
            0.0,
            4.9,
            4.9,
            5.0,
            5.0,
            4.9,
            4.9,
            3.6,
            3.6,
            1.5,
            1.5
           ],
           "y": [
            10.1,
            10.1,
            15.0,
            15.0,
            13.6,
            13.6,
            11.5,
            11.5,
            10.1,
            10.1,
            10.0,
            10.0,
            10.1
           ],
           "type": "scatter"
          },
          {
           "fill": "toself",
           "fillcolor": "rgb(0, 0, 0)",
           "hoverinfo": "name",
           "line": {
            "width": 0
           },
           "mode": "lines",
           "name": "Risk Area",
           "showlegend": false,
           "x": [
            6.4,
            5.1,
            5.1,
            5.0,
            5.0,
            5.1,
            5.1,
            9.9,
            9.9,
            10.0,
            10.0,
            9.9,
            9.9,
            8.6,
            8.6,
            6.4,
            6.4
           ],
           "y": [
            10.1,
            10.1,
            11.5,
            11.5,
            13.6,
            13.6,
            15.0,
            15.0,
            13.6,
            13.6,
            11.5,
            11.5,
            10.1,
            10.1,
            10.0,
            10.0,
            10.1
           ],
           "type": "scatter"
          },
          {
           "fill": "toself",
           "fillcolor": "rgb(0, 0, 0)",
           "hoverinfo": "name",
           "line": {
            "width": 0
           },
           "mode": "lines",
           "name": "Risk Area",
           "showlegend": false,
           "x": [
            10.1,
            10.1,
            15.0,
            15.0,
            13.6,
            13.6,
            11.5,
            11.5,
            10.1,
            10.1,
            10.0,
            10.0,
            10.1
           ],
           "y": [
            13.6,
            15.0,
            15.0,
            10.1,
            10.1,
            10.0,
            10.0,
            10.1,
            10.1,
            11.5,
            11.5,
            13.6,
            13.6
           ],
           "type": "scatter"
          },
          {
           "hoverinfo": "text",
           "marker": {
            "opacity": 1,
            "size": 1
           },
           "mode": "markers",
           "showlegend": false,
           "text": [
            "ID: 11.0, Pos(10.76,12.78)"
           ],
           "x": [
            10.76151968084357
           ],
           "y": [
            12.78090413723364
           ],
           "type": "scatter"
          },
          {
           "hoverinfo": "text",
           "marker": {
            "opacity": 1,
            "size": 1
           },
           "mode": "markers",
           "showlegend": false,
           "text": [
            "ID: 12.0, Pos(9.90,13.22)"
           ],
           "x": [
            9.897299056246625
           ],
           "y": [
            13.22471825361799
           ],
           "type": "scatter"
          },
          {
           "hoverinfo": "text",
           "marker": {
            "opacity": 1,
            "size": 1
           },
           "mode": "markers",
           "showlegend": false,
           "text": [
            "ID: 13.0, Pos(8.02,12.72)"
           ],
           "x": [
            8.020906746891953
           ],
           "y": [
            12.721155888867317
           ],
           "type": "scatter"
          },
          {
           "hoverinfo": "text",
           "marker": {
            "opacity": 1,
            "size": 1
           },
           "mode": "markers",
           "showlegend": false,
           "text": [
            "ID: 14.0, Pos(11.91,13.19)"
           ],
           "x": [
            11.909995167815483
           ],
           "y": [
            13.189016622211827
           ],
           "type": "scatter"
          },
          {
           "hoverinfo": "text",
           "marker": {
            "opacity": 1,
            "size": 1
           },
           "mode": "markers",
           "showlegend": false,
           "text": [
            "ID: 15.0, Pos(11.04,13.42)"
           ],
           "x": [
            11.041639415141498
           ],
           "y": [
            13.423754869461595
           ],
           "type": "scatter"
          },
          {
           "hoverinfo": "text",
           "marker": {
            "opacity": 1,
            "size": 1
           },
           "mode": "markers",
           "showlegend": false,
           "text": [
            "ID: 18.0, Pos(9.05,12.79)"
           ],
           "x": [
            9.053762293643011
           ],
           "y": [
            12.789803276887742
           ],
           "type": "scatter"
          },
          {
           "hoverinfo": "text",
           "marker": {
            "opacity": 1,
            "size": 1
           },
           "mode": "markers",
           "showlegend": false,
           "text": [
            "ID: 20.0, Pos(6.98,12.38)"
           ],
           "x": [
            6.983469479094264
           ],
           "y": [
            12.376029812549493
           ],
           "type": "scatter"
          },
          {
           "hoverinfo": "none",
           "marker": {
            "opacity": 0,
            "size": 1
           },
           "mode": "markers",
           "showlegend": false,
           "x": [
            0.0
           ],
           "y": [
            0.0
           ],
           "type": "scatter"
          },
          {
           "hoverinfo": "none",
           "marker": {
            "opacity": 0,
            "size": 1
           },
           "mode": "markers",
           "showlegend": false,
           "x": [
            0.0
           ],
           "y": [
            0.0
           ],
           "type": "scatter"
          },
          {
           "hoverinfo": "none",
           "marker": {
            "opacity": 0,
            "size": 1
           },
           "mode": "markers",
           "showlegend": false,
           "x": [
            0.0
           ],
           "y": [
            0.0
           ],
           "type": "scatter"
          }
         ],
         "layout": {
          "shapes": [
           {
            "fillcolor": "rgba(0, 0, 128, 0.5)",
            "line": {
             "color": "rgba(0, 0, 128, 0.5)"
            },
            "type": "circle",
            "x0": 10.56151968084357,
            "x1": 10.961519680843569,
            "xref": "x",
            "y0": 12.58090413723364,
            "y1": 12.980904137233638,
            "yref": "y"
           },
           {
            "fillcolor": "rgba(0, 196, 255, 0.5)",
            "line": {
             "color": "rgba(0, 196, 255, 0.5)"
            },
            "type": "circle",
            "x0": 9.697299056246626,
            "x1": 10.097299056246625,
            "xref": "x",
            "y0": 13.02471825361799,
            "y1": 13.42471825361799,
            "yref": "y"
           },
           {
            "fillcolor": "rgba(0, 104, 255, 0.5)",
            "line": {
             "color": "rgba(0, 104, 255, 0.5)"
            },
            "type": "circle",
            "x0": 7.820906746891953,
            "x1": 8.220906746891952,
            "xref": "x",
            "y0": 12.521155888867318,
            "y1": 12.921155888867316,
            "yref": "y"
           },
           {
            "fillcolor": "rgba(0, 0, 128, 0.5)",
            "line": {
             "color": "rgba(0, 0, 128, 0.5)"
            },
            "type": "circle",
            "x0": 11.709995167815483,
            "x1": 12.109995167815482,
            "xref": "x",
            "y0": 12.989016622211828,
            "y1": 13.389016622211827,
            "yref": "y"
           },
           {
            "fillcolor": "rgba(0, 0, 128, 0.5)",
            "line": {
             "color": "rgba(0, 0, 128, 0.5)"
            },
            "type": "circle",
            "x0": 10.841639415141499,
            "x1": 11.241639415141497,
            "xref": "x",
            "y0": 13.223754869461596,
            "y1": 13.623754869461594,
            "yref": "y"
           },
           {
            "fillcolor": "rgba(0, 224, 251, 0.5)",
            "line": {
             "color": "rgba(0, 224, 251, 0.5)"
            },
            "type": "circle",
            "x0": 8.853762293643012,
            "x1": 9.25376229364301,
            "xref": "x",
            "y0": 12.589803276887743,
            "y1": 12.989803276887741,
            "yref": "y"
           },
           {
            "fillcolor": "rgba(0, 21, 255, 0.5)",
            "line": {
             "color": "rgba(0, 21, 255, 0.5)"
            },
            "type": "circle",
            "x0": 6.783469479094264,
            "x1": 7.183469479094264,
            "xref": "x",
            "y0": 12.176029812549494,
            "y1": 12.576029812549493,
            "yref": "y"
           },
           {
            "fillcolor": "rgba(255,255,255,0)",
            "line": {
             "width": 0
            },
            "type": "circle",
            "x0": 0.0,
            "x1": 0.0,
            "xref": "x",
            "y0": 0.0,
            "y1": 0.0,
            "yref": "y"
           },
           {
            "fillcolor": "rgba(255,255,255,0)",
            "line": {
             "width": 0
            },
            "type": "circle",
            "x0": 0.0,
            "x1": 0.0,
            "xref": "x",
            "y0": 0.0,
            "y1": 0.0,
            "yref": "y"
           },
           {
            "fillcolor": "rgba(255,255,255,0)",
            "line": {
             "width": 0
            },
            "type": "circle",
            "x0": 0.0,
            "x1": 0.0,
            "xref": "x",
            "y0": 0.0,
            "y1": 0.0,
            "yref": "y"
           },
           {
            "line": {
             "color": "white",
             "width": 3
            },
            "type": "line",
            "x0": 10.76151968084357,
            "x1": 10.957419563026246,
            "y0": 12.78090413723364,
            "y1": 12.821193542302632
           },
           {
            "line": {
             "color": "black",
             "width": 3
            },
            "type": "line",
            "x0": 9.897299056246625,
            "x1": 10.09269798818582,
            "y0": 13.22471825361799,
            "y1": 13.182065499931719
           },
           {
            "line": {
             "color": "white",
             "width": 3
            },
            "type": "line",
            "x0": 8.020906746891953,
            "x1": 8.21772716652703,
            "y0": 12.721155888867317,
            "y1": 12.756676621048285
           },
           {
            "line": {
             "color": "white",
             "width": 3
            },
            "type": "line",
            "x0": 11.909995167815483,
            "x1": 12.101829797908362,
            "y0": 13.189016622211827,
            "y1": 13.2455805214509
           },
           {
            "line": {
             "color": "white",
             "width": 3
            },
            "type": "line",
            "x0": 11.041639415141498,
            "x1": 11.236314622389239,
            "y0": 13.423754869461595,
            "y1": 13.469597684417145
           },
           {
            "line": {
             "color": "black",
             "width": 3
            },
            "type": "line",
            "x0": 9.053762293643011,
            "x1": 9.249848861253898,
            "y0": 12.789803276887742,
            "y1": 12.829174052884424
           },
           {
            "line": {
             "color": "white",
             "width": 3
            },
            "type": "line",
            "x0": 6.983469479094264,
            "x1": 7.179481786376027,
            "y0": 12.376029812549493,
            "y1": 12.415768652417809
           },
           {
            "line": {
             "color": "rgba(255,255,255,0)",
             "width": 3
            },
            "type": "line",
            "x0": 0.0,
            "x1": null,
            "y0": 0.0,
            "y1": null
           },
           {
            "line": {
             "color": "rgba(255,255,255,0)",
             "width": 3
            },
            "type": "line",
            "x0": 0.0,
            "x1": null,
            "y0": 0.0,
            "y1": null
           },
           {
            "line": {
             "color": "rgba(255,255,255,0)",
             "width": 3
            },
            "type": "line",
            "x0": 0.0,
            "x1": null,
            "y0": 0.0,
            "y1": null
           }
          ],
          "title": {
           "text": "<b>Mode: Low_knowledge_shortest_path  |  Number of Agents: 7</b>",
           "x": 0.5
          }
         },
         "name": "650"
        },
        {
         "data": [
          {
           "hoverinfo": "name",
           "line": {
            "color": "white"
           },
           "mode": "lines",
           "name": "Exterior",
           "showlegend": false,
           "x": [
            10.1,
            10.1,
            15.0,
            15.0,
            13.6,
            13.6,
            15.0,
            15.0,
            13.6,
            13.6,
            15.0,
            15.0,
            10.1,
            10.1,
            9.9,
            9.9,
            5.1,
            5.1,
            4.9,
            4.9,
            0.0,
            0.0,
            1.5,
            1.5,
            0.0,
            0.0,
            1.5,
            1.5,
            0.0,
            0.0,
            4.9,
            4.9,
            5.1,
            5.1,
            9.9,
            9.9,
            10.1
           ],
           "y": [
            1.5,
            0.0,
            0.0,
            4.9,
            4.9,
            5.1,
            5.1,
            9.9,
            9.9,
            10.1,
            10.1,
            15.0,
            15.0,
            13.6,
            13.6,
            15.0,
            15.0,
            13.6,
            13.6,
            15.0,
            15.0,
            10.1,
            10.1,
            9.9,
            9.9,
            5.1,
            5.1,
            4.9,
            4.9,
            0.0,
            0.0,
            1.5,
            1.5,
            0.0,
            0.0,
            1.5,
            1.5
           ],
           "type": "scatter"
          },
          {
           "hoverinfo": "name",
           "line": {
            "color": "white"
           },
           "mode": "lines",
           "name": "Obstacle",
           "showlegend": false,
           "x": [
            10.1,
            11.5,
            11.5,
            10.1,
            10.1,
            9.9,
            9.9,
            8.6,
            8.6,
            9.9,
            9.9,
            10.1,
            10.1
           ],
           "y": [
            5.1,
            5.1,
            4.9,
            4.9,
            3.6,
            3.6,
            4.9,
            4.9,
            5.1,
            5.1,
            6.5,
            6.5,
            5.1
           ],
           "type": "scatter"
          },
          {
           "hoverinfo": "name",
           "line": {
            "color": "white"
           },
           "mode": "lines",
           "name": "Obstacle",
           "showlegend": false,
           "x": [
            10.1,
            11.5,
            11.5,
            10.1,
            10.1,
            9.9,
            9.9,
            8.6,
            8.6,
            9.9,
            9.9,
            10.1,
            10.1
           ],
           "y": [
            10.1,
            10.1,
            9.9,
            9.9,
            8.6,
            8.6,
            9.9,
            9.9,
            10.1,
            10.1,
            11.5,
            11.5,
            10.1
           ],
           "type": "scatter"
          },
          {
           "hoverinfo": "name",
           "line": {
            "color": "white"
           },
           "mode": "lines",
           "name": "Obstacle",
           "showlegend": false,
           "x": [
            5.1,
            6.4,
            6.4,
            5.1,
            5.1,
            4.9,
            4.9,
            3.6,
            3.6,
            4.9,
            4.9,
            5.1,
            5.1
           ],
           "y": [
            5.1,
            5.1,
            4.9,
            4.9,
            3.6,
            3.6,
            4.9,
            4.9,
            5.1,
            5.1,
            6.5,
            6.5,
            5.1
           ],
           "type": "scatter"
          },
          {
           "hoverinfo": "name",
           "line": {
            "color": "white"
           },
           "mode": "lines",
           "name": "Obstacle",
           "showlegend": false,
           "x": [
            5.1,
            6.4,
            6.4,
            5.1,
            5.1,
            4.9,
            4.9,
            3.6,
            3.6,
            4.9,
            4.9,
            5.1,
            5.1
           ],
           "y": [
            10.1,
            10.1,
            9.9,
            9.9,
            8.6,
            8.6,
            9.9,
            9.9,
            10.1,
            10.1,
            11.5,
            11.5,
            10.1
           ],
           "type": "scatter"
          },
          {
           "fill": "toself",
           "fillcolor": "rgb(0, 0, 0)",
           "hoverinfo": "name",
           "line": {
            "width": 0
           },
           "mode": "lines",
           "name": "Risk Area",
           "showlegend": false,
           "x": [
            1.5,
            1.5,
            3.6,
            3.6,
            4.9,
            4.9,
            5.0,
            5.0,
            4.9,
            4.9,
            0.0,
            0.0,
            1.5
           ],
           "y": [
            4.9,
            5.0,
            5.0,
            4.9,
            4.9,
            3.6,
            3.6,
            1.5,
            1.5,
            0.0,
            0.0,
            4.9,
            4.9
           ],
           "type": "scatter"
          },
          {
           "fill": "toself",
           "fillcolor": "rgb(153, 0, 0)",
           "hoverinfo": "name",
           "line": {
            "width": 0
           },
           "mode": "lines",
           "name": "Risk Area",
           "showlegend": false,
           "x": [
            9.9,
            9.9,
            5.1,
            5.1,
            5.0,
            5.0,
            5.1,
            5.1,
            6.4,
            6.4,
            8.6,
            8.6,
            9.9,
            9.9,
            10.0,
            10.0,
            9.9
           ],
           "y": [
            1.5,
            0.0,
            0.0,
            1.5,
            1.5,
            3.6,
            3.6,
            4.9,
            4.9,
            5.0,
            5.0,
            4.9,
            4.9,
            3.6,
            3.6,
            1.5,
            1.5
           ],
           "type": "scatter"
          },
          {
           "fill": "toself",
           "fillcolor": "rgb(0, 0, 0)",
           "hoverinfo": "name",
           "line": {
            "width": 0
           },
           "mode": "lines",
           "name": "Risk Area",
           "showlegend": false,
           "x": [
            13.6,
            15.0,
            15.0,
            10.1,
            10.1,
            10.0,
            10.0,
            10.1,
            10.1,
            11.5,
            11.5,
            13.6,
            13.6
           ],
           "y": [
            4.9,
            4.9,
            0.0,
            0.0,
            1.5,
            1.5,
            3.6,
            3.6,
            4.9,
            4.9,
            5.0,
            5.0,
            4.9
           ],
           "type": "scatter"
          },
          {
           "fill": "toself",
           "fillcolor": "rgb(153, 0, 0)",
           "hoverinfo": "name",
           "line": {
            "width": 0
           },
           "mode": "lines",
           "name": "Risk Area",
           "showlegend": false,
           "x": [
            13.6,
            15.0,
            15.0,
            13.6,
            13.6,
            11.5,
            11.5,
            10.1,
            10.1,
            10.0,
            10.0,
            10.1,
            10.1,
            11.5,
            11.5,
            13.6,
            13.6
           ],
           "y": [
            9.9,
            9.9,
            5.1,
            5.1,
            5.0,
            5.0,
            5.1,
            5.1,
            6.5,
            6.5,
            8.6,
            8.6,
            9.9,
            9.9,
            10.0,
            10.0,
            9.9
           ],
           "type": "scatter"
          },
          {
           "fill": "toself",
           "fillcolor": "rgb(153, 0, 0)",
           "hoverinfo": "name",
           "line": {
            "width": 0
           },
           "mode": "lines",
           "name": "Risk Area",
           "showlegend": false,
           "x": [
            9.9,
            9.9,
            8.6,
            8.6,
            6.4,
            6.4,
            5.1,
            5.1,
            5.0,
            5.0,
            5.1,
            5.1,
            6.4,
            6.4,
            8.6,
            8.6,
            9.9,
            9.9,
            10.0,
            10.0,
            9.9
           ],
           "y": [
            6.5,
            5.1,
            5.1,
            5.0,
            5.0,
            5.1,
            5.1,
            6.5,
            6.5,
            8.6,
            8.6,
            9.9,
            9.9,
            10.0,
            10.0,
            9.9,
            9.9,
            8.6,
            8.6,
            6.5,
            6.5
           ],
           "type": "scatter"
          },
          {
           "fill": "toself",
           "fillcolor": "rgb(25, 0, 0)",
           "hoverinfo": "name",
           "line": {
            "width": 0
           },
           "mode": "lines",
           "name": "Risk Area",
           "showlegend": false,
           "x": [
            4.9,
            4.9,
            3.6,
            3.6,
            1.5,
            1.5,
            0.0,
            0.0,
            1.5,
            1.5,
            3.6,
            3.6,
            4.9,
            4.9,
            5.0,
            5.0,
            4.9
           ],
           "y": [
            6.5,
            5.1,
            5.1,
            5.0,
            5.0,
            5.1,
            5.1,
            9.9,
            9.9,
            10.0,
            10.0,
            9.9,
            9.9,
            8.6,
            8.6,
            6.5,
            6.5
           ],
           "type": "scatter"
          },
          {
           "fill": "toself",
           "fillcolor": "rgb(0, 0, 0)",
           "hoverinfo": "name",
           "line": {
            "width": 0
           },
           "mode": "lines",
           "name": "Risk Area",
           "showlegend": false,
           "x": [
            1.5,
            0.0,
            0.0,
            4.9,
            4.9,
            5.0,
            5.0,
            4.9,
            4.9,
            3.6,
            3.6,
            1.5,
            1.5
           ],
           "y": [
            10.1,
            10.1,
            15.0,
            15.0,
            13.6,
            13.6,
            11.5,
            11.5,
            10.1,
            10.1,
            10.0,
            10.0,
            10.1
           ],
           "type": "scatter"
          },
          {
           "fill": "toself",
           "fillcolor": "rgb(0, 0, 0)",
           "hoverinfo": "name",
           "line": {
            "width": 0
           },
           "mode": "lines",
           "name": "Risk Area",
           "showlegend": false,
           "x": [
            6.4,
            5.1,
            5.1,
            5.0,
            5.0,
            5.1,
            5.1,
            9.9,
            9.9,
            10.0,
            10.0,
            9.9,
            9.9,
            8.6,
            8.6,
            6.4,
            6.4
           ],
           "y": [
            10.1,
            10.1,
            11.5,
            11.5,
            13.6,
            13.6,
            15.0,
            15.0,
            13.6,
            13.6,
            11.5,
            11.5,
            10.1,
            10.1,
            10.0,
            10.0,
            10.1
           ],
           "type": "scatter"
          },
          {
           "fill": "toself",
           "fillcolor": "rgb(0, 0, 0)",
           "hoverinfo": "name",
           "line": {
            "width": 0
           },
           "mode": "lines",
           "name": "Risk Area",
           "showlegend": false,
           "x": [
            10.1,
            10.1,
            15.0,
            15.0,
            13.6,
            13.6,
            11.5,
            11.5,
            10.1,
            10.1,
            10.0,
            10.0,
            10.1
           ],
           "y": [
            13.6,
            15.0,
            15.0,
            10.1,
            10.1,
            10.0,
            10.0,
            10.1,
            10.1,
            11.5,
            11.5,
            13.6,
            13.6
           ],
           "type": "scatter"
          },
          {
           "hoverinfo": "text",
           "marker": {
            "opacity": 1,
            "size": 1
           },
           "mode": "markers",
           "showlegend": false,
           "text": [
            "ID: 11.0, Pos(12.32,13.13)"
           ],
           "x": [
            12.322918072790781
           ],
           "y": [
            13.127418920035893
           ],
           "type": "scatter"
          },
          {
           "hoverinfo": "text",
           "marker": {
            "opacity": 1,
            "size": 1
           },
           "mode": "markers",
           "showlegend": false,
           "text": [
            "ID: 12.0, Pos(11.33,13.36)"
           ],
           "x": [
            11.334645531176795
           ],
           "y": [
            13.363812029625521
           ],
           "type": "scatter"
          },
          {
           "hoverinfo": "text",
           "marker": {
            "opacity": 1,
            "size": 1
           },
           "mode": "markers",
           "showlegend": false,
           "text": [
            "ID: 13.0, Pos(9.22,12.94)"
           ],
           "x": [
            9.218762270696393
           ],
           "y": [
            12.937599840713515
           ],
           "type": "scatter"
          },
          {
           "hoverinfo": "text",
           "marker": {
            "opacity": 1,
            "size": 1
           },
           "mode": "markers",
           "showlegend": false,
           "text": [
            "ID: 18.0, Pos(10.27,13.03)"
           ],
           "x": [
            10.265607993682073
           ],
           "y": [
            13.034093387464308
           ],
           "type": "scatter"
          },
          {
           "hoverinfo": "text",
           "marker": {
            "opacity": 1,
            "size": 1
           },
           "mode": "markers",
           "showlegend": false,
           "text": [
            "ID: 20.0, Pos(8.24,12.63)"
           ],
           "x": [
            8.241836997362254
           ],
           "y": [
            12.630959619560574
           ],
           "type": "scatter"
          },
          {
           "hoverinfo": "none",
           "marker": {
            "opacity": 0,
            "size": 1
           },
           "mode": "markers",
           "showlegend": false,
           "x": [
            0.0
           ],
           "y": [
            0.0
           ],
           "type": "scatter"
          },
          {
           "hoverinfo": "none",
           "marker": {
            "opacity": 0,
            "size": 1
           },
           "mode": "markers",
           "showlegend": false,
           "x": [
            0.0
           ],
           "y": [
            0.0
           ],
           "type": "scatter"
          },
          {
           "hoverinfo": "none",
           "marker": {
            "opacity": 0,
            "size": 1
           },
           "mode": "markers",
           "showlegend": false,
           "x": [
            0.0
           ],
           "y": [
            0.0
           ],
           "type": "scatter"
          },
          {
           "hoverinfo": "none",
           "marker": {
            "opacity": 0,
            "size": 1
           },
           "mode": "markers",
           "showlegend": false,
           "x": [
            0.0
           ],
           "y": [
            0.0
           ],
           "type": "scatter"
          },
          {
           "hoverinfo": "none",
           "marker": {
            "opacity": 0,
            "size": 1
           },
           "mode": "markers",
           "showlegend": false,
           "x": [
            0.0
           ],
           "y": [
            0.0
           ],
           "type": "scatter"
          }
         ],
         "layout": {
          "shapes": [
           {
            "fillcolor": "rgba(0, 0, 128, 0.5)",
            "line": {
             "color": "rgba(0, 0, 128, 0.5)"
            },
            "type": "circle",
            "x0": 12.122918072790782,
            "x1": 12.52291807279078,
            "xref": "x",
            "y0": 12.927418920035894,
            "y1": 13.327418920035893,
            "yref": "y"
           },
           {
            "fillcolor": "rgba(0, 37, 255, 0.5)",
            "line": {
             "color": "rgba(0, 37, 255, 0.5)"
            },
            "type": "circle",
            "x0": 11.134645531176796,
            "x1": 11.534645531176794,
            "xref": "x",
            "y0": 13.163812029625522,
            "y1": 13.56381202962552,
            "yref": "y"
           },
           {
            "fillcolor": "rgba(0, 85, 255, 0.5)",
            "line": {
             "color": "rgba(0, 85, 255, 0.5)"
            },
            "type": "circle",
            "x0": 9.018762270696394,
            "x1": 9.418762270696392,
            "xref": "x",
            "y0": 12.737599840713516,
            "y1": 13.137599840713515,
            "yref": "y"
           },
           {
            "fillcolor": "rgba(0, 0, 255, 0.5)",
            "line": {
             "color": "rgba(0, 0, 255, 0.5)"
            },
            "type": "circle",
            "x0": 10.065607993682073,
            "x1": 10.465607993682072,
            "xref": "x",
            "y0": 12.834093387464309,
            "y1": 13.234093387464307,
            "yref": "y"
           },
           {
            "fillcolor": "rgba(0, 120, 255, 0.5)",
            "line": {
             "color": "rgba(0, 120, 255, 0.5)"
            },
            "type": "circle",
            "x0": 8.041836997362255,
            "x1": 8.441836997362254,
            "xref": "x",
            "y0": 12.430959619560575,
            "y1": 12.830959619560574,
            "yref": "y"
           },
           {
            "fillcolor": "rgba(255,255,255,0)",
            "line": {
             "width": 0
            },
            "type": "circle",
            "x0": 0.0,
            "x1": 0.0,
            "xref": "x",
            "y0": 0.0,
            "y1": 0.0,
            "yref": "y"
           },
           {
            "fillcolor": "rgba(255,255,255,0)",
            "line": {
             "width": 0
            },
            "type": "circle",
            "x0": 0.0,
            "x1": 0.0,
            "xref": "x",
            "y0": 0.0,
            "y1": 0.0,
            "yref": "y"
           },
           {
            "fillcolor": "rgba(255,255,255,0)",
            "line": {
             "width": 0
            },
            "type": "circle",
            "x0": 0.0,
            "x1": 0.0,
            "xref": "x",
            "y0": 0.0,
            "y1": 0.0,
            "yref": "y"
           },
           {
            "fillcolor": "rgba(255,255,255,0)",
            "line": {
             "width": 0
            },
            "type": "circle",
            "x0": 0.0,
            "x1": 0.0,
            "xref": "x",
            "y0": 0.0,
            "y1": 0.0,
            "yref": "y"
           },
           {
            "fillcolor": "rgba(255,255,255,0)",
            "line": {
             "width": 0
            },
            "type": "circle",
            "x0": 0.0,
            "x1": 0.0,
            "xref": "x",
            "y0": 0.0,
            "y1": 0.0,
            "yref": "y"
           },
           {
            "line": {
             "color": "white",
             "width": 3
            },
            "type": "line",
            "x0": 12.322918072790781,
            "x1": 12.506498779534963,
            "y0": 13.127418920035893,
            "y1": 13.206779641500017
           },
           {
            "line": {
             "color": "white",
             "width": 3
            },
            "type": "line",
            "x0": 11.334645531176795,
            "x1": 11.532060231548828,
            "y0": 13.363812029625521,
            "y1": 13.39586567336567
           },
           {
            "line": {
             "color": "white",
             "width": 3
            },
            "type": "line",
            "x0": 9.218762270696393,
            "x1": 9.41558879641275,
            "y0": 12.937599840713515,
            "y1": 12.973086722436602
           },
           {
            "line": {
             "color": "white",
             "width": 3
            },
            "type": "line",
            "x0": 10.265607993682073,
            "x1": 10.461720753823084,
            "y0": 13.034093387464308,
            "y1": 13.073333485704177
           },
           {
            "line": {
             "color": "white",
             "width": 3
            },
            "type": "line",
            "x0": 8.241836997362254,
            "x1": 8.43785421267847,
            "y0": 12.630959619560574,
            "y1": 12.67067424280789
           },
           {
            "line": {
             "color": "rgba(255,255,255,0)",
             "width": 3
            },
            "type": "line",
            "x0": 0.0,
            "x1": null,
            "y0": 0.0,
            "y1": null
           },
           {
            "line": {
             "color": "rgba(255,255,255,0)",
             "width": 3
            },
            "type": "line",
            "x0": 0.0,
            "x1": null,
            "y0": 0.0,
            "y1": null
           },
           {
            "line": {
             "color": "rgba(255,255,255,0)",
             "width": 3
            },
            "type": "line",
            "x0": 0.0,
            "x1": null,
            "y0": 0.0,
            "y1": null
           },
           {
            "line": {
             "color": "rgba(255,255,255,0)",
             "width": 3
            },
            "type": "line",
            "x0": 0.0,
            "x1": null,
            "y0": 0.0,
            "y1": null
           },
           {
            "line": {
             "color": "rgba(255,255,255,0)",
             "width": 3
            },
            "type": "line",
            "x0": 0.0,
            "x1": null,
            "y0": 0.0,
            "y1": null
           }
          ],
          "title": {
           "text": "<b>Mode: Low_knowledge_shortest_path  |  Number of Agents: 5</b>",
           "x": 0.5
          }
         },
         "name": "700"
        },
        {
         "data": [
          {
           "hoverinfo": "name",
           "line": {
            "color": "white"
           },
           "mode": "lines",
           "name": "Exterior",
           "showlegend": false,
           "x": [
            10.1,
            10.1,
            15.0,
            15.0,
            13.6,
            13.6,
            15.0,
            15.0,
            13.6,
            13.6,
            15.0,
            15.0,
            10.1,
            10.1,
            9.9,
            9.9,
            5.1,
            5.1,
            4.9,
            4.9,
            0.0,
            0.0,
            1.5,
            1.5,
            0.0,
            0.0,
            1.5,
            1.5,
            0.0,
            0.0,
            4.9,
            4.9,
            5.1,
            5.1,
            9.9,
            9.9,
            10.1
           ],
           "y": [
            1.5,
            0.0,
            0.0,
            4.9,
            4.9,
            5.1,
            5.1,
            9.9,
            9.9,
            10.1,
            10.1,
            15.0,
            15.0,
            13.6,
            13.6,
            15.0,
            15.0,
            13.6,
            13.6,
            15.0,
            15.0,
            10.1,
            10.1,
            9.9,
            9.9,
            5.1,
            5.1,
            4.9,
            4.9,
            0.0,
            0.0,
            1.5,
            1.5,
            0.0,
            0.0,
            1.5,
            1.5
           ],
           "type": "scatter"
          },
          {
           "hoverinfo": "name",
           "line": {
            "color": "white"
           },
           "mode": "lines",
           "name": "Obstacle",
           "showlegend": false,
           "x": [
            10.1,
            11.5,
            11.5,
            10.1,
            10.1,
            9.9,
            9.9,
            8.6,
            8.6,
            9.9,
            9.9,
            10.1,
            10.1
           ],
           "y": [
            5.1,
            5.1,
            4.9,
            4.9,
            3.6,
            3.6,
            4.9,
            4.9,
            5.1,
            5.1,
            6.5,
            6.5,
            5.1
           ],
           "type": "scatter"
          },
          {
           "hoverinfo": "name",
           "line": {
            "color": "white"
           },
           "mode": "lines",
           "name": "Obstacle",
           "showlegend": false,
           "x": [
            10.1,
            11.5,
            11.5,
            10.1,
            10.1,
            9.9,
            9.9,
            8.6,
            8.6,
            9.9,
            9.9,
            10.1,
            10.1
           ],
           "y": [
            10.1,
            10.1,
            9.9,
            9.9,
            8.6,
            8.6,
            9.9,
            9.9,
            10.1,
            10.1,
            11.5,
            11.5,
            10.1
           ],
           "type": "scatter"
          },
          {
           "hoverinfo": "name",
           "line": {
            "color": "white"
           },
           "mode": "lines",
           "name": "Obstacle",
           "showlegend": false,
           "x": [
            5.1,
            6.4,
            6.4,
            5.1,
            5.1,
            4.9,
            4.9,
            3.6,
            3.6,
            4.9,
            4.9,
            5.1,
            5.1
           ],
           "y": [
            5.1,
            5.1,
            4.9,
            4.9,
            3.6,
            3.6,
            4.9,
            4.9,
            5.1,
            5.1,
            6.5,
            6.5,
            5.1
           ],
           "type": "scatter"
          },
          {
           "hoverinfo": "name",
           "line": {
            "color": "white"
           },
           "mode": "lines",
           "name": "Obstacle",
           "showlegend": false,
           "x": [
            5.1,
            6.4,
            6.4,
            5.1,
            5.1,
            4.9,
            4.9,
            3.6,
            3.6,
            4.9,
            4.9,
            5.1,
            5.1
           ],
           "y": [
            10.1,
            10.1,
            9.9,
            9.9,
            8.6,
            8.6,
            9.9,
            9.9,
            10.1,
            10.1,
            11.5,
            11.5,
            10.1
           ],
           "type": "scatter"
          },
          {
           "fill": "toself",
           "fillcolor": "rgb(0, 0, 0)",
           "hoverinfo": "name",
           "line": {
            "width": 0
           },
           "mode": "lines",
           "name": "Risk Area",
           "showlegend": false,
           "x": [
            1.5,
            1.5,
            3.6,
            3.6,
            4.9,
            4.9,
            5.0,
            5.0,
            4.9,
            4.9,
            0.0,
            0.0,
            1.5
           ],
           "y": [
            4.9,
            5.0,
            5.0,
            4.9,
            4.9,
            3.6,
            3.6,
            1.5,
            1.5,
            0.0,
            0.0,
            4.9,
            4.9
           ],
           "type": "scatter"
          },
          {
           "fill": "toself",
           "fillcolor": "rgb(153, 0, 0)",
           "hoverinfo": "name",
           "line": {
            "width": 0
           },
           "mode": "lines",
           "name": "Risk Area",
           "showlegend": false,
           "x": [
            9.9,
            9.9,
            5.1,
            5.1,
            5.0,
            5.0,
            5.1,
            5.1,
            6.4,
            6.4,
            8.6,
            8.6,
            9.9,
            9.9,
            10.0,
            10.0,
            9.9
           ],
           "y": [
            1.5,
            0.0,
            0.0,
            1.5,
            1.5,
            3.6,
            3.6,
            4.9,
            4.9,
            5.0,
            5.0,
            4.9,
            4.9,
            3.6,
            3.6,
            1.5,
            1.5
           ],
           "type": "scatter"
          },
          {
           "fill": "toself",
           "fillcolor": "rgb(0, 0, 0)",
           "hoverinfo": "name",
           "line": {
            "width": 0
           },
           "mode": "lines",
           "name": "Risk Area",
           "showlegend": false,
           "x": [
            13.6,
            15.0,
            15.0,
            10.1,
            10.1,
            10.0,
            10.0,
            10.1,
            10.1,
            11.5,
            11.5,
            13.6,
            13.6
           ],
           "y": [
            4.9,
            4.9,
            0.0,
            0.0,
            1.5,
            1.5,
            3.6,
            3.6,
            4.9,
            4.9,
            5.0,
            5.0,
            4.9
           ],
           "type": "scatter"
          },
          {
           "fill": "toself",
           "fillcolor": "rgb(153, 0, 0)",
           "hoverinfo": "name",
           "line": {
            "width": 0
           },
           "mode": "lines",
           "name": "Risk Area",
           "showlegend": false,
           "x": [
            13.6,
            15.0,
            15.0,
            13.6,
            13.6,
            11.5,
            11.5,
            10.1,
            10.1,
            10.0,
            10.0,
            10.1,
            10.1,
            11.5,
            11.5,
            13.6,
            13.6
           ],
           "y": [
            9.9,
            9.9,
            5.1,
            5.1,
            5.0,
            5.0,
            5.1,
            5.1,
            6.5,
            6.5,
            8.6,
            8.6,
            9.9,
            9.9,
            10.0,
            10.0,
            9.9
           ],
           "type": "scatter"
          },
          {
           "fill": "toself",
           "fillcolor": "rgb(153, 0, 0)",
           "hoverinfo": "name",
           "line": {
            "width": 0
           },
           "mode": "lines",
           "name": "Risk Area",
           "showlegend": false,
           "x": [
            9.9,
            9.9,
            8.6,
            8.6,
            6.4,
            6.4,
            5.1,
            5.1,
            5.0,
            5.0,
            5.1,
            5.1,
            6.4,
            6.4,
            8.6,
            8.6,
            9.9,
            9.9,
            10.0,
            10.0,
            9.9
           ],
           "y": [
            6.5,
            5.1,
            5.1,
            5.0,
            5.0,
            5.1,
            5.1,
            6.5,
            6.5,
            8.6,
            8.6,
            9.9,
            9.9,
            10.0,
            10.0,
            9.9,
            9.9,
            8.6,
            8.6,
            6.5,
            6.5
           ],
           "type": "scatter"
          },
          {
           "fill": "toself",
           "fillcolor": "rgb(25, 0, 0)",
           "hoverinfo": "name",
           "line": {
            "width": 0
           },
           "mode": "lines",
           "name": "Risk Area",
           "showlegend": false,
           "x": [
            4.9,
            4.9,
            3.6,
            3.6,
            1.5,
            1.5,
            0.0,
            0.0,
            1.5,
            1.5,
            3.6,
            3.6,
            4.9,
            4.9,
            5.0,
            5.0,
            4.9
           ],
           "y": [
            6.5,
            5.1,
            5.1,
            5.0,
            5.0,
            5.1,
            5.1,
            9.9,
            9.9,
            10.0,
            10.0,
            9.9,
            9.9,
            8.6,
            8.6,
            6.5,
            6.5
           ],
           "type": "scatter"
          },
          {
           "fill": "toself",
           "fillcolor": "rgb(0, 0, 0)",
           "hoverinfo": "name",
           "line": {
            "width": 0
           },
           "mode": "lines",
           "name": "Risk Area",
           "showlegend": false,
           "x": [
            1.5,
            0.0,
            0.0,
            4.9,
            4.9,
            5.0,
            5.0,
            4.9,
            4.9,
            3.6,
            3.6,
            1.5,
            1.5
           ],
           "y": [
            10.1,
            10.1,
            15.0,
            15.0,
            13.6,
            13.6,
            11.5,
            11.5,
            10.1,
            10.1,
            10.0,
            10.0,
            10.1
           ],
           "type": "scatter"
          },
          {
           "fill": "toself",
           "fillcolor": "rgb(0, 0, 0)",
           "hoverinfo": "name",
           "line": {
            "width": 0
           },
           "mode": "lines",
           "name": "Risk Area",
           "showlegend": false,
           "x": [
            6.4,
            5.1,
            5.1,
            5.0,
            5.0,
            5.1,
            5.1,
            9.9,
            9.9,
            10.0,
            10.0,
            9.9,
            9.9,
            8.6,
            8.6,
            6.4,
            6.4
           ],
           "y": [
            10.1,
            10.1,
            11.5,
            11.5,
            13.6,
            13.6,
            15.0,
            15.0,
            13.6,
            13.6,
            11.5,
            11.5,
            10.1,
            10.1,
            10.0,
            10.0,
            10.1
           ],
           "type": "scatter"
          },
          {
           "fill": "toself",
           "fillcolor": "rgb(0, 0, 0)",
           "hoverinfo": "name",
           "line": {
            "width": 0
           },
           "mode": "lines",
           "name": "Risk Area",
           "showlegend": false,
           "x": [
            10.1,
            10.1,
            15.0,
            15.0,
            13.6,
            13.6,
            11.5,
            11.5,
            10.1,
            10.1,
            10.0,
            10.0,
            10.1
           ],
           "y": [
            13.6,
            15.0,
            15.0,
            10.1,
            10.1,
            10.0,
            10.0,
            10.1,
            10.1,
            11.5,
            11.5,
            13.6,
            13.6
           ],
           "type": "scatter"
          },
          {
           "hoverinfo": "text",
           "marker": {
            "opacity": 1,
            "size": 1
           },
           "mode": "markers",
           "showlegend": false,
           "text": [
            "ID: 13.0, Pos(10.59,13.17)"
           ],
           "x": [
            10.594569105091075
           ],
           "y": [
            13.173842900023464
           ],
           "type": "scatter"
          },
          {
           "hoverinfo": "text",
           "marker": {
            "opacity": 1,
            "size": 1
           },
           "mode": "markers",
           "showlegend": false,
           "text": [
            "ID: 18.0, Pos(11.73,13.33)"
           ],
           "x": [
            11.733908495345181
           ],
           "y": [
            13.334963459767794
           ],
           "type": "scatter"
          },
          {
           "hoverinfo": "text",
           "marker": {
            "opacity": 1,
            "size": 1
           },
           "mode": "markers",
           "showlegend": false,
           "text": [
            "ID: 20.0, Pos(9.53,12.89)"
           ],
           "x": [
            9.531413468896165
           ],
           "y": [
            12.892589250810621
           ],
           "type": "scatter"
          },
          {
           "hoverinfo": "none",
           "marker": {
            "opacity": 0,
            "size": 1
           },
           "mode": "markers",
           "showlegend": false,
           "x": [
            0.0
           ],
           "y": [
            0.0
           ],
           "type": "scatter"
          },
          {
           "hoverinfo": "none",
           "marker": {
            "opacity": 0,
            "size": 1
           },
           "mode": "markers",
           "showlegend": false,
           "x": [
            0.0
           ],
           "y": [
            0.0
           ],
           "type": "scatter"
          },
          {
           "hoverinfo": "none",
           "marker": {
            "opacity": 0,
            "size": 1
           },
           "mode": "markers",
           "showlegend": false,
           "x": [
            0.0
           ],
           "y": [
            0.0
           ],
           "type": "scatter"
          },
          {
           "hoverinfo": "none",
           "marker": {
            "opacity": 0,
            "size": 1
           },
           "mode": "markers",
           "showlegend": false,
           "x": [
            0.0
           ],
           "y": [
            0.0
           ],
           "type": "scatter"
          },
          {
           "hoverinfo": "none",
           "marker": {
            "opacity": 0,
            "size": 1
           },
           "mode": "markers",
           "showlegend": false,
           "x": [
            0.0
           ],
           "y": [
            0.0
           ],
           "type": "scatter"
          },
          {
           "hoverinfo": "none",
           "marker": {
            "opacity": 0,
            "size": 1
           },
           "mode": "markers",
           "showlegend": false,
           "x": [
            0.0
           ],
           "y": [
            0.0
           ],
           "type": "scatter"
          },
          {
           "hoverinfo": "none",
           "marker": {
            "opacity": 0,
            "size": 1
           },
           "mode": "markers",
           "showlegend": false,
           "x": [
            0.0
           ],
           "y": [
            0.0
           ],
           "type": "scatter"
          }
         ],
         "layout": {
          "shapes": [
           {
            "fillcolor": "rgba(0, 0, 205, 0.5)",
            "line": {
             "color": "rgba(0, 0, 205, 0.5)"
            },
            "type": "circle",
            "x0": 10.394569105091076,
            "x1": 10.794569105091075,
            "xref": "x",
            "y0": 12.973842900023465,
            "y1": 13.373842900023464,
            "yref": "y"
           },
           {
            "fillcolor": "rgba(0, 0, 128, 0.5)",
            "line": {
             "color": "rgba(0, 0, 128, 0.5)"
            },
            "type": "circle",
            "x0": 11.533908495345182,
            "x1": 11.93390849534518,
            "xref": "x",
            "y0": 13.134963459767794,
            "y1": 13.534963459767793,
            "yref": "y"
           },
           {
            "fillcolor": "rgba(0, 13, 255, 0.5)",
            "line": {
             "color": "rgba(0, 13, 255, 0.5)"
            },
            "type": "circle",
            "x0": 9.331413468896166,
            "x1": 9.731413468896164,
            "xref": "x",
            "y0": 12.692589250810622,
            "y1": 13.09258925081062,
            "yref": "y"
           },
           {
            "fillcolor": "rgba(255,255,255,0)",
            "line": {
             "width": 0
            },
            "type": "circle",
            "x0": 0.0,
            "x1": 0.0,
            "xref": "x",
            "y0": 0.0,
            "y1": 0.0,
            "yref": "y"
           },
           {
            "fillcolor": "rgba(255,255,255,0)",
            "line": {
             "width": 0
            },
            "type": "circle",
            "x0": 0.0,
            "x1": 0.0,
            "xref": "x",
            "y0": 0.0,
            "y1": 0.0,
            "yref": "y"
           },
           {
            "fillcolor": "rgba(255,255,255,0)",
            "line": {
             "width": 0
            },
            "type": "circle",
            "x0": 0.0,
            "x1": 0.0,
            "xref": "x",
            "y0": 0.0,
            "y1": 0.0,
            "yref": "y"
           },
           {
            "fillcolor": "rgba(255,255,255,0)",
            "line": {
             "width": 0
            },
            "type": "circle",
            "x0": 0.0,
            "x1": 0.0,
            "xref": "x",
            "y0": 0.0,
            "y1": 0.0,
            "yref": "y"
           },
           {
            "fillcolor": "rgba(255,255,255,0)",
            "line": {
             "width": 0
            },
            "type": "circle",
            "x0": 0.0,
            "x1": 0.0,
            "xref": "x",
            "y0": 0.0,
            "y1": 0.0,
            "yref": "y"
           },
           {
            "fillcolor": "rgba(255,255,255,0)",
            "line": {
             "width": 0
            },
            "type": "circle",
            "x0": 0.0,
            "x1": 0.0,
            "xref": "x",
            "y0": 0.0,
            "y1": 0.0,
            "yref": "y"
           },
           {
            "fillcolor": "rgba(255,255,255,0)",
            "line": {
             "width": 0
            },
            "type": "circle",
            "x0": 0.0,
            "x1": 0.0,
            "xref": "x",
            "y0": 0.0,
            "y1": 0.0,
            "yref": "y"
           },
           {
            "line": {
             "color": "white",
             "width": 3
            },
            "type": "line",
            "x0": 10.594569105091075,
            "x1": 10.791344076563508,
            "y0": 13.173842900023464,
            "y1": 13.209614545247346
           },
           {
            "line": {
             "color": "white",
             "width": 3
            },
            "type": "line",
            "x0": 11.733908495345181,
            "x1": 11.929804329151349,
            "y0": 13.334963459767794,
            "y1": 13.375272544319374
           },
           {
            "line": {
             "color": "white",
             "width": 3
            },
            "type": "line",
            "x0": 9.531413468896165,
            "x1": 9.727413770665253,
            "y0": 12.892589250810621,
            "y1": 12.932387262148206
           },
           {
            "line": {
             "color": "rgba(255,255,255,0)",
             "width": 3
            },
            "type": "line",
            "x0": 0.0,
            "x1": null,
            "y0": 0.0,
            "y1": null
           },
           {
            "line": {
             "color": "rgba(255,255,255,0)",
             "width": 3
            },
            "type": "line",
            "x0": 0.0,
            "x1": null,
            "y0": 0.0,
            "y1": null
           },
           {
            "line": {
             "color": "rgba(255,255,255,0)",
             "width": 3
            },
            "type": "line",
            "x0": 0.0,
            "x1": null,
            "y0": 0.0,
            "y1": null
           },
           {
            "line": {
             "color": "rgba(255,255,255,0)",
             "width": 3
            },
            "type": "line",
            "x0": 0.0,
            "x1": null,
            "y0": 0.0,
            "y1": null
           },
           {
            "line": {
             "color": "rgba(255,255,255,0)",
             "width": 3
            },
            "type": "line",
            "x0": 0.0,
            "x1": null,
            "y0": 0.0,
            "y1": null
           },
           {
            "line": {
             "color": "rgba(255,255,255,0)",
             "width": 3
            },
            "type": "line",
            "x0": 0.0,
            "x1": null,
            "y0": 0.0,
            "y1": null
           },
           {
            "line": {
             "color": "rgba(255,255,255,0)",
             "width": 3
            },
            "type": "line",
            "x0": 0.0,
            "x1": null,
            "y0": 0.0,
            "y1": null
           }
          ],
          "title": {
           "text": "<b>Mode: Low_knowledge_shortest_path  |  Number of Agents: 3</b>",
           "x": 0.5
          }
         },
         "name": "750"
        },
        {
         "data": [
          {
           "hoverinfo": "name",
           "line": {
            "color": "white"
           },
           "mode": "lines",
           "name": "Exterior",
           "showlegend": false,
           "x": [
            10.1,
            10.1,
            15.0,
            15.0,
            13.6,
            13.6,
            15.0,
            15.0,
            13.6,
            13.6,
            15.0,
            15.0,
            10.1,
            10.1,
            9.9,
            9.9,
            5.1,
            5.1,
            4.9,
            4.9,
            0.0,
            0.0,
            1.5,
            1.5,
            0.0,
            0.0,
            1.5,
            1.5,
            0.0,
            0.0,
            4.9,
            4.9,
            5.1,
            5.1,
            9.9,
            9.9,
            10.1
           ],
           "y": [
            1.5,
            0.0,
            0.0,
            4.9,
            4.9,
            5.1,
            5.1,
            9.9,
            9.9,
            10.1,
            10.1,
            15.0,
            15.0,
            13.6,
            13.6,
            15.0,
            15.0,
            13.6,
            13.6,
            15.0,
            15.0,
            10.1,
            10.1,
            9.9,
            9.9,
            5.1,
            5.1,
            4.9,
            4.9,
            0.0,
            0.0,
            1.5,
            1.5,
            0.0,
            0.0,
            1.5,
            1.5
           ],
           "type": "scatter"
          },
          {
           "hoverinfo": "name",
           "line": {
            "color": "white"
           },
           "mode": "lines",
           "name": "Obstacle",
           "showlegend": false,
           "x": [
            10.1,
            11.5,
            11.5,
            10.1,
            10.1,
            9.9,
            9.9,
            8.6,
            8.6,
            9.9,
            9.9,
            10.1,
            10.1
           ],
           "y": [
            5.1,
            5.1,
            4.9,
            4.9,
            3.6,
            3.6,
            4.9,
            4.9,
            5.1,
            5.1,
            6.5,
            6.5,
            5.1
           ],
           "type": "scatter"
          },
          {
           "hoverinfo": "name",
           "line": {
            "color": "white"
           },
           "mode": "lines",
           "name": "Obstacle",
           "showlegend": false,
           "x": [
            10.1,
            11.5,
            11.5,
            10.1,
            10.1,
            9.9,
            9.9,
            8.6,
            8.6,
            9.9,
            9.9,
            10.1,
            10.1
           ],
           "y": [
            10.1,
            10.1,
            9.9,
            9.9,
            8.6,
            8.6,
            9.9,
            9.9,
            10.1,
            10.1,
            11.5,
            11.5,
            10.1
           ],
           "type": "scatter"
          },
          {
           "hoverinfo": "name",
           "line": {
            "color": "white"
           },
           "mode": "lines",
           "name": "Obstacle",
           "showlegend": false,
           "x": [
            5.1,
            6.4,
            6.4,
            5.1,
            5.1,
            4.9,
            4.9,
            3.6,
            3.6,
            4.9,
            4.9,
            5.1,
            5.1
           ],
           "y": [
            5.1,
            5.1,
            4.9,
            4.9,
            3.6,
            3.6,
            4.9,
            4.9,
            5.1,
            5.1,
            6.5,
            6.5,
            5.1
           ],
           "type": "scatter"
          },
          {
           "hoverinfo": "name",
           "line": {
            "color": "white"
           },
           "mode": "lines",
           "name": "Obstacle",
           "showlegend": false,
           "x": [
            5.1,
            6.4,
            6.4,
            5.1,
            5.1,
            4.9,
            4.9,
            3.6,
            3.6,
            4.9,
            4.9,
            5.1,
            5.1
           ],
           "y": [
            10.1,
            10.1,
            9.9,
            9.9,
            8.6,
            8.6,
            9.9,
            9.9,
            10.1,
            10.1,
            11.5,
            11.5,
            10.1
           ],
           "type": "scatter"
          },
          {
           "fill": "toself",
           "fillcolor": "rgb(0, 0, 0)",
           "hoverinfo": "name",
           "line": {
            "width": 0
           },
           "mode": "lines",
           "name": "Risk Area",
           "showlegend": false,
           "x": [
            1.5,
            1.5,
            3.6,
            3.6,
            4.9,
            4.9,
            5.0,
            5.0,
            4.9,
            4.9,
            0.0,
            0.0,
            1.5
           ],
           "y": [
            4.9,
            5.0,
            5.0,
            4.9,
            4.9,
            3.6,
            3.6,
            1.5,
            1.5,
            0.0,
            0.0,
            4.9,
            4.9
           ],
           "type": "scatter"
          },
          {
           "fill": "toself",
           "fillcolor": "rgb(153, 0, 0)",
           "hoverinfo": "name",
           "line": {
            "width": 0
           },
           "mode": "lines",
           "name": "Risk Area",
           "showlegend": false,
           "x": [
            9.9,
            9.9,
            5.1,
            5.1,
            5.0,
            5.0,
            5.1,
            5.1,
            6.4,
            6.4,
            8.6,
            8.6,
            9.9,
            9.9,
            10.0,
            10.0,
            9.9
           ],
           "y": [
            1.5,
            0.0,
            0.0,
            1.5,
            1.5,
            3.6,
            3.6,
            4.9,
            4.9,
            5.0,
            5.0,
            4.9,
            4.9,
            3.6,
            3.6,
            1.5,
            1.5
           ],
           "type": "scatter"
          },
          {
           "fill": "toself",
           "fillcolor": "rgb(0, 0, 0)",
           "hoverinfo": "name",
           "line": {
            "width": 0
           },
           "mode": "lines",
           "name": "Risk Area",
           "showlegend": false,
           "x": [
            13.6,
            15.0,
            15.0,
            10.1,
            10.1,
            10.0,
            10.0,
            10.1,
            10.1,
            11.5,
            11.5,
            13.6,
            13.6
           ],
           "y": [
            4.9,
            4.9,
            0.0,
            0.0,
            1.5,
            1.5,
            3.6,
            3.6,
            4.9,
            4.9,
            5.0,
            5.0,
            4.9
           ],
           "type": "scatter"
          },
          {
           "fill": "toself",
           "fillcolor": "rgb(153, 0, 0)",
           "hoverinfo": "name",
           "line": {
            "width": 0
           },
           "mode": "lines",
           "name": "Risk Area",
           "showlegend": false,
           "x": [
            13.6,
            15.0,
            15.0,
            13.6,
            13.6,
            11.5,
            11.5,
            10.1,
            10.1,
            10.0,
            10.0,
            10.1,
            10.1,
            11.5,
            11.5,
            13.6,
            13.6
           ],
           "y": [
            9.9,
            9.9,
            5.1,
            5.1,
            5.0,
            5.0,
            5.1,
            5.1,
            6.5,
            6.5,
            8.6,
            8.6,
            9.9,
            9.9,
            10.0,
            10.0,
            9.9
           ],
           "type": "scatter"
          },
          {
           "fill": "toself",
           "fillcolor": "rgb(153, 0, 0)",
           "hoverinfo": "name",
           "line": {
            "width": 0
           },
           "mode": "lines",
           "name": "Risk Area",
           "showlegend": false,
           "x": [
            9.9,
            9.9,
            8.6,
            8.6,
            6.4,
            6.4,
            5.1,
            5.1,
            5.0,
            5.0,
            5.1,
            5.1,
            6.4,
            6.4,
            8.6,
            8.6,
            9.9,
            9.9,
            10.0,
            10.0,
            9.9
           ],
           "y": [
            6.5,
            5.1,
            5.1,
            5.0,
            5.0,
            5.1,
            5.1,
            6.5,
            6.5,
            8.6,
            8.6,
            9.9,
            9.9,
            10.0,
            10.0,
            9.9,
            9.9,
            8.6,
            8.6,
            6.5,
            6.5
           ],
           "type": "scatter"
          },
          {
           "fill": "toself",
           "fillcolor": "rgb(25, 0, 0)",
           "hoverinfo": "name",
           "line": {
            "width": 0
           },
           "mode": "lines",
           "name": "Risk Area",
           "showlegend": false,
           "x": [
            4.9,
            4.9,
            3.6,
            3.6,
            1.5,
            1.5,
            0.0,
            0.0,
            1.5,
            1.5,
            3.6,
            3.6,
            4.9,
            4.9,
            5.0,
            5.0,
            4.9
           ],
           "y": [
            6.5,
            5.1,
            5.1,
            5.0,
            5.0,
            5.1,
            5.1,
            9.9,
            9.9,
            10.0,
            10.0,
            9.9,
            9.9,
            8.6,
            8.6,
            6.5,
            6.5
           ],
           "type": "scatter"
          },
          {
           "fill": "toself",
           "fillcolor": "rgb(0, 0, 0)",
           "hoverinfo": "name",
           "line": {
            "width": 0
           },
           "mode": "lines",
           "name": "Risk Area",
           "showlegend": false,
           "x": [
            1.5,
            0.0,
            0.0,
            4.9,
            4.9,
            5.0,
            5.0,
            4.9,
            4.9,
            3.6,
            3.6,
            1.5,
            1.5
           ],
           "y": [
            10.1,
            10.1,
            15.0,
            15.0,
            13.6,
            13.6,
            11.5,
            11.5,
            10.1,
            10.1,
            10.0,
            10.0,
            10.1
           ],
           "type": "scatter"
          },
          {
           "fill": "toself",
           "fillcolor": "rgb(0, 0, 0)",
           "hoverinfo": "name",
           "line": {
            "width": 0
           },
           "mode": "lines",
           "name": "Risk Area",
           "showlegend": false,
           "x": [
            6.4,
            5.1,
            5.1,
            5.0,
            5.0,
            5.1,
            5.1,
            9.9,
            9.9,
            10.0,
            10.0,
            9.9,
            9.9,
            8.6,
            8.6,
            6.4,
            6.4
           ],
           "y": [
            10.1,
            10.1,
            11.5,
            11.5,
            13.6,
            13.6,
            15.0,
            15.0,
            13.6,
            13.6,
            11.5,
            11.5,
            10.1,
            10.1,
            10.0,
            10.0,
            10.1
           ],
           "type": "scatter"
          },
          {
           "fill": "toself",
           "fillcolor": "rgb(0, 0, 0)",
           "hoverinfo": "name",
           "line": {
            "width": 0
           },
           "mode": "lines",
           "name": "Risk Area",
           "showlegend": false,
           "x": [
            10.1,
            10.1,
            15.0,
            15.0,
            13.6,
            13.6,
            11.5,
            11.5,
            10.1,
            10.1,
            10.0,
            10.0,
            10.1
           ],
           "y": [
            13.6,
            15.0,
            15.0,
            10.1,
            10.1,
            10.0,
            10.0,
            10.1,
            10.1,
            11.5,
            11.5,
            13.6,
            13.6
           ],
           "type": "scatter"
          },
          {
           "hoverinfo": "text",
           "marker": {
            "opacity": 1,
            "size": 1
           },
           "mode": "markers",
           "showlegend": false,
           "text": [
            "ID: 13.0, Pos(12.14,13.46)"
           ],
           "x": [
            12.137653130808232
           ],
           "y": [
            13.45568701130855
           ],
           "type": "scatter"
          },
          {
           "hoverinfo": "text",
           "marker": {
            "opacity": 1,
            "size": 1
           },
           "mode": "markers",
           "showlegend": false,
           "text": [
            "ID: 20.0, Pos(10.99,13.19)"
           ],
           "x": [
            10.98951736117392
           ],
           "y": [
            13.186753230174128
           ],
           "type": "scatter"
          },
          {
           "hoverinfo": "none",
           "marker": {
            "opacity": 0,
            "size": 1
           },
           "mode": "markers",
           "showlegend": false,
           "x": [
            0.0
           ],
           "y": [
            0.0
           ],
           "type": "scatter"
          },
          {
           "hoverinfo": "none",
           "marker": {
            "opacity": 0,
            "size": 1
           },
           "mode": "markers",
           "showlegend": false,
           "x": [
            0.0
           ],
           "y": [
            0.0
           ],
           "type": "scatter"
          },
          {
           "hoverinfo": "none",
           "marker": {
            "opacity": 0,
            "size": 1
           },
           "mode": "markers",
           "showlegend": false,
           "x": [
            0.0
           ],
           "y": [
            0.0
           ],
           "type": "scatter"
          },
          {
           "hoverinfo": "none",
           "marker": {
            "opacity": 0,
            "size": 1
           },
           "mode": "markers",
           "showlegend": false,
           "x": [
            0.0
           ],
           "y": [
            0.0
           ],
           "type": "scatter"
          },
          {
           "hoverinfo": "none",
           "marker": {
            "opacity": 0,
            "size": 1
           },
           "mode": "markers",
           "showlegend": false,
           "x": [
            0.0
           ],
           "y": [
            0.0
           ],
           "type": "scatter"
          },
          {
           "hoverinfo": "none",
           "marker": {
            "opacity": 0,
            "size": 1
           },
           "mode": "markers",
           "showlegend": false,
           "x": [
            0.0
           ],
           "y": [
            0.0
           ],
           "type": "scatter"
          },
          {
           "hoverinfo": "none",
           "marker": {
            "opacity": 0,
            "size": 1
           },
           "mode": "markers",
           "showlegend": false,
           "x": [
            0.0
           ],
           "y": [
            0.0
           ],
           "type": "scatter"
          },
          {
           "hoverinfo": "none",
           "marker": {
            "opacity": 0,
            "size": 1
           },
           "mode": "markers",
           "showlegend": false,
           "x": [
            0.0
           ],
           "y": [
            0.0
           ],
           "type": "scatter"
          }
         ],
         "layout": {
          "shapes": [
           {
            "fillcolor": "rgba(0, 0, 128, 0.5)",
            "line": {
             "color": "rgba(0, 0, 128, 0.5)"
            },
            "type": "circle",
            "x0": 11.937653130808233,
            "x1": 12.337653130808231,
            "xref": "x",
            "y0": 13.25568701130855,
            "y1": 13.65568701130855,
            "yref": "y"
           },
           {
            "fillcolor": "rgba(0, 0, 159, 0.5)",
            "line": {
             "color": "rgba(0, 0, 159, 0.5)"
            },
            "type": "circle",
            "x0": 10.789517361173921,
            "x1": 11.18951736117392,
            "xref": "x",
            "y0": 12.986753230174129,
            "y1": 13.386753230174127,
            "yref": "y"
           },
           {
            "fillcolor": "rgba(255,255,255,0)",
            "line": {
             "width": 0
            },
            "type": "circle",
            "x0": 0.0,
            "x1": 0.0,
            "xref": "x",
            "y0": 0.0,
            "y1": 0.0,
            "yref": "y"
           },
           {
            "fillcolor": "rgba(255,255,255,0)",
            "line": {
             "width": 0
            },
            "type": "circle",
            "x0": 0.0,
            "x1": 0.0,
            "xref": "x",
            "y0": 0.0,
            "y1": 0.0,
            "yref": "y"
           },
           {
            "fillcolor": "rgba(255,255,255,0)",
            "line": {
             "width": 0
            },
            "type": "circle",
            "x0": 0.0,
            "x1": 0.0,
            "xref": "x",
            "y0": 0.0,
            "y1": 0.0,
            "yref": "y"
           },
           {
            "fillcolor": "rgba(255,255,255,0)",
            "line": {
             "width": 0
            },
            "type": "circle",
            "x0": 0.0,
            "x1": 0.0,
            "xref": "x",
            "y0": 0.0,
            "y1": 0.0,
            "yref": "y"
           },
           {
            "fillcolor": "rgba(255,255,255,0)",
            "line": {
             "width": 0
            },
            "type": "circle",
            "x0": 0.0,
            "x1": 0.0,
            "xref": "x",
            "y0": 0.0,
            "y1": 0.0,
            "yref": "y"
           },
           {
            "fillcolor": "rgba(255,255,255,0)",
            "line": {
             "width": 0
            },
            "type": "circle",
            "x0": 0.0,
            "x1": 0.0,
            "xref": "x",
            "y0": 0.0,
            "y1": 0.0,
            "yref": "y"
           },
           {
            "fillcolor": "rgba(255,255,255,0)",
            "line": {
             "width": 0
            },
            "type": "circle",
            "x0": 0.0,
            "x1": 0.0,
            "xref": "x",
            "y0": 0.0,
            "y1": 0.0,
            "yref": "y"
           },
           {
            "fillcolor": "rgba(255,255,255,0)",
            "line": {
             "width": 0
            },
            "type": "circle",
            "x0": 0.0,
            "x1": 0.0,
            "xref": "x",
            "y0": 0.0,
            "y1": 0.0,
            "yref": "y"
           },
           {
            "line": {
             "color": "white",
             "width": 3
            },
            "type": "line",
            "x0": 12.137653130808232,
            "x1": 12.33440024692105,
            "y0": 13.45568701130855,
            "y1": 13.491611547510008
           },
           {
            "line": {
             "color": "white",
             "width": 3
            },
            "type": "line",
            "x0": 10.98951736117392,
            "x1": 11.185481096102702,
            "y0": 13.186753230174128,
            "y1": 13.22673090635424
           },
           {
            "line": {
             "color": "rgba(255,255,255,0)",
             "width": 3
            },
            "type": "line",
            "x0": 0.0,
            "x1": null,
            "y0": 0.0,
            "y1": null
           },
           {
            "line": {
             "color": "rgba(255,255,255,0)",
             "width": 3
            },
            "type": "line",
            "x0": 0.0,
            "x1": null,
            "y0": 0.0,
            "y1": null
           },
           {
            "line": {
             "color": "rgba(255,255,255,0)",
             "width": 3
            },
            "type": "line",
            "x0": 0.0,
            "x1": null,
            "y0": 0.0,
            "y1": null
           },
           {
            "line": {
             "color": "rgba(255,255,255,0)",
             "width": 3
            },
            "type": "line",
            "x0": 0.0,
            "x1": null,
            "y0": 0.0,
            "y1": null
           },
           {
            "line": {
             "color": "rgba(255,255,255,0)",
             "width": 3
            },
            "type": "line",
            "x0": 0.0,
            "x1": null,
            "y0": 0.0,
            "y1": null
           },
           {
            "line": {
             "color": "rgba(255,255,255,0)",
             "width": 3
            },
            "type": "line",
            "x0": 0.0,
            "x1": null,
            "y0": 0.0,
            "y1": null
           },
           {
            "line": {
             "color": "rgba(255,255,255,0)",
             "width": 3
            },
            "type": "line",
            "x0": 0.0,
            "x1": null,
            "y0": 0.0,
            "y1": null
           },
           {
            "line": {
             "color": "rgba(255,255,255,0)",
             "width": 3
            },
            "type": "line",
            "x0": 0.0,
            "x1": null,
            "y0": 0.0,
            "y1": null
           }
          ],
          "title": {
           "text": "<b>Mode: Low_knowledge_shortest_path  |  Number of Agents: 2</b>",
           "x": 0.5
          }
         },
         "name": "800"
        }
       ],
       "config": {
        "plotlyServerURL": "https://plot.ly"
       }
      },
      "text/html": "<div>                            <div id=\"623bff97-bc80-41fb-87b8-da1729352fa2\" class=\"plotly-graph-div\" style=\"height:800px; width:800px;\"></div>            <script type=\"text/javascript\">                require([\"plotly\"], function(Plotly) {                    window.PLOTLYENV=window.PLOTLYENV || {};                                    if (document.getElementById(\"623bff97-bc80-41fb-87b8-da1729352fa2\")) {                    Plotly.newPlot(                        \"623bff97-bc80-41fb-87b8-da1729352fa2\",                        [{\"hoverinfo\":\"name\",\"line\":{\"color\":\"white\"},\"mode\":\"lines\",\"name\":\"Exterior\",\"showlegend\":false,\"x\":[10.1,10.1,15.0,15.0,13.6,13.6,15.0,15.0,13.6,13.6,15.0,15.0,10.1,10.1,9.9,9.9,5.1,5.1,4.9,4.9,0.0,0.0,1.5,1.5,0.0,0.0,1.5,1.5,0.0,0.0,4.9,4.9,5.1,5.1,9.9,9.9,10.1],\"y\":[1.5,0.0,0.0,4.9,4.9,5.1,5.1,9.9,9.9,10.1,10.1,15.0,15.0,13.6,13.6,15.0,15.0,13.6,13.6,15.0,15.0,10.1,10.1,9.9,9.9,5.1,5.1,4.9,4.9,0.0,0.0,1.5,1.5,0.0,0.0,1.5,1.5],\"type\":\"scatter\"},{\"hoverinfo\":\"name\",\"line\":{\"color\":\"white\"},\"mode\":\"lines\",\"name\":\"Obstacle\",\"showlegend\":false,\"x\":[10.1,11.5,11.5,10.1,10.1,9.9,9.9,8.6,8.6,9.9,9.9,10.1,10.1],\"y\":[5.1,5.1,4.9,4.9,3.6,3.6,4.9,4.9,5.1,5.1,6.5,6.5,5.1],\"type\":\"scatter\"},{\"hoverinfo\":\"name\",\"line\":{\"color\":\"white\"},\"mode\":\"lines\",\"name\":\"Obstacle\",\"showlegend\":false,\"x\":[10.1,11.5,11.5,10.1,10.1,9.9,9.9,8.6,8.6,9.9,9.9,10.1,10.1],\"y\":[10.1,10.1,9.9,9.9,8.6,8.6,9.9,9.9,10.1,10.1,11.5,11.5,10.1],\"type\":\"scatter\"},{\"hoverinfo\":\"name\",\"line\":{\"color\":\"white\"},\"mode\":\"lines\",\"name\":\"Obstacle\",\"showlegend\":false,\"x\":[5.1,6.4,6.4,5.1,5.1,4.9,4.9,3.6,3.6,4.9,4.9,5.1,5.1],\"y\":[5.1,5.1,4.9,4.9,3.6,3.6,4.9,4.9,5.1,5.1,6.5,6.5,5.1],\"type\":\"scatter\"},{\"hoverinfo\":\"name\",\"line\":{\"color\":\"white\"},\"mode\":\"lines\",\"name\":\"Obstacle\",\"showlegend\":false,\"x\":[5.1,6.4,6.4,5.1,5.1,4.9,4.9,3.6,3.6,4.9,4.9,5.1,5.1],\"y\":[10.1,10.1,9.9,9.9,8.6,8.6,9.9,9.9,10.1,10.1,11.5,11.5,10.1],\"type\":\"scatter\"},{\"fill\":\"toself\",\"fillcolor\":\"rgb(0, 0, 0)\",\"hoverinfo\":\"name\",\"line\":{\"width\":0},\"mode\":\"lines\",\"name\":\"Risk Area\",\"showlegend\":false,\"x\":[1.5,1.5,3.6,3.6,4.9,4.9,5.0,5.0,4.9,4.9,0.0,0.0,1.5],\"y\":[4.9,5.0,5.0,4.9,4.9,3.6,3.6,1.5,1.5,0.0,0.0,4.9,4.9],\"type\":\"scatter\"},{\"fill\":\"toself\",\"fillcolor\":\"rgb(153, 0, 0)\",\"hoverinfo\":\"name\",\"line\":{\"width\":0},\"mode\":\"lines\",\"name\":\"Risk Area\",\"showlegend\":false,\"x\":[9.9,9.9,5.1,5.1,5.0,5.0,5.1,5.1,6.4,6.4,8.6,8.6,9.9,9.9,10.0,10.0,9.9],\"y\":[1.5,0.0,0.0,1.5,1.5,3.6,3.6,4.9,4.9,5.0,5.0,4.9,4.9,3.6,3.6,1.5,1.5],\"type\":\"scatter\"},{\"fill\":\"toself\",\"fillcolor\":\"rgb(0, 0, 0)\",\"hoverinfo\":\"name\",\"line\":{\"width\":0},\"mode\":\"lines\",\"name\":\"Risk Area\",\"showlegend\":false,\"x\":[13.6,15.0,15.0,10.1,10.1,10.0,10.0,10.1,10.1,11.5,11.5,13.6,13.6],\"y\":[4.9,4.9,0.0,0.0,1.5,1.5,3.6,3.6,4.9,4.9,5.0,5.0,4.9],\"type\":\"scatter\"},{\"fill\":\"toself\",\"fillcolor\":\"rgb(153, 0, 0)\",\"hoverinfo\":\"name\",\"line\":{\"width\":0},\"mode\":\"lines\",\"name\":\"Risk Area\",\"showlegend\":false,\"x\":[13.6,15.0,15.0,13.6,13.6,11.5,11.5,10.1,10.1,10.0,10.0,10.1,10.1,11.5,11.5,13.6,13.6],\"y\":[9.9,9.9,5.1,5.1,5.0,5.0,5.1,5.1,6.5,6.5,8.6,8.6,9.9,9.9,10.0,10.0,9.9],\"type\":\"scatter\"},{\"fill\":\"toself\",\"fillcolor\":\"rgb(153, 0, 0)\",\"hoverinfo\":\"name\",\"line\":{\"width\":0},\"mode\":\"lines\",\"name\":\"Risk Area\",\"showlegend\":false,\"x\":[9.9,9.9,8.6,8.6,6.4,6.4,5.1,5.1,5.0,5.0,5.1,5.1,6.4,6.4,8.6,8.6,9.9,9.9,10.0,10.0,9.9],\"y\":[6.5,5.1,5.1,5.0,5.0,5.1,5.1,6.5,6.5,8.6,8.6,9.9,9.9,10.0,10.0,9.9,9.9,8.6,8.6,6.5,6.5],\"type\":\"scatter\"},{\"fill\":\"toself\",\"fillcolor\":\"rgb(25, 0, 0)\",\"hoverinfo\":\"name\",\"line\":{\"width\":0},\"mode\":\"lines\",\"name\":\"Risk Area\",\"showlegend\":false,\"x\":[4.9,4.9,3.6,3.6,1.5,1.5,0.0,0.0,1.5,1.5,3.6,3.6,4.9,4.9,5.0,5.0,4.9],\"y\":[6.5,5.1,5.1,5.0,5.0,5.1,5.1,9.9,9.9,10.0,10.0,9.9,9.9,8.6,8.6,6.5,6.5],\"type\":\"scatter\"},{\"fill\":\"toself\",\"fillcolor\":\"rgb(0, 0, 0)\",\"hoverinfo\":\"name\",\"line\":{\"width\":0},\"mode\":\"lines\",\"name\":\"Risk Area\",\"showlegend\":false,\"x\":[1.5,0.0,0.0,4.9,4.9,5.0,5.0,4.9,4.9,3.6,3.6,1.5,1.5],\"y\":[10.1,10.1,15.0,15.0,13.6,13.6,11.5,11.5,10.1,10.1,10.0,10.0,10.1],\"type\":\"scatter\"},{\"fill\":\"toself\",\"fillcolor\":\"rgb(0, 0, 0)\",\"hoverinfo\":\"name\",\"line\":{\"width\":0},\"mode\":\"lines\",\"name\":\"Risk Area\",\"showlegend\":false,\"x\":[6.4,5.1,5.1,5.0,5.0,5.1,5.1,9.9,9.9,10.0,10.0,9.9,9.9,8.6,8.6,6.4,6.4],\"y\":[10.1,10.1,11.5,11.5,13.6,13.6,15.0,15.0,13.6,13.6,11.5,11.5,10.1,10.1,10.0,10.0,10.1],\"type\":\"scatter\"},{\"fill\":\"toself\",\"fillcolor\":\"rgb(0, 0, 0)\",\"hoverinfo\":\"name\",\"line\":{\"width\":0},\"mode\":\"lines\",\"name\":\"Risk Area\",\"showlegend\":false,\"x\":[10.1,10.1,15.0,15.0,13.6,13.6,11.5,11.5,10.1,10.1,10.0,10.0,10.1],\"y\":[13.6,15.0,15.0,10.1,10.1,10.0,10.0,10.1,10.1,11.5,11.5,13.6,13.6],\"type\":\"scatter\"},{\"hoverinfo\":\"none\",\"marker\":{\"cmax\":0.8000000000000099,\"cmin\":0,\"color\":[0.7999994864394313,0.7999983356494891,0.24784275132615918,0.7824159302905853,0.10969839098487229,0.79540299230253,0.7999925708421116,0.7999999999997144,0.07990551794704795,0.14522267351382698],\"colorbar\":{\"title\":{\"text\":\"Speed [m\\u002fs]\"}},\"colorscale\":[[0.0,\"rgb(128,0,0)\"],[0.2,\"rgb(250,0,0)\"],[0.4,\"rgb(255,255,0)\"],[0.6,\"rgb(5,255,255)\"],[0.8,\"rgb(0,60,170)\"],[1.0,\"rgb(0,0,131)\"]],\"size\":[0.4,0.4,0.4,0.4,0.4,0.4,0.4,0.4,0.4,0.4]},\"mode\":\"markers\",\"showlegend\":false,\"text\":[0.7999994864394313,0.7999983356494891,0.24784275132615918,0.7824159302905853,0.10969839098487229,0.79540299230253,0.7999925708421116,0.7999999999997144,0.07990551794704795,0.14522267351382698],\"x\":[3.9863327738146737,0.8488279016949318,1.7258968673840784,2.116160882427272,1.692259232863783,1.453767774845684,3.0719865838614573,3.48879726462054,1.7042831428492793,1.7565776142251517],\"y\":[4.268834270066489,1.6370406488593048,1.5962220773638665,3.5204353653542206,2.7972929381969065,3.6607508930614516,4.234745501580994,1.9561046634672852,3.3139640340517103,2.253852105302265],\"type\":\"scatter\"},{\"hoverinfo\":\"none\",\"marker\":{\"cmax\":1,\"cmin\":0,\"color\":[0],\"colorbar\":{\"title\":{\"text\":\"Risk Level\"},\"x\":1.25},\"colorscale\":[[0.0,\"rgb(0, 0, 0)\"],[0.1,\"rgb(25, 0, 0)\"],[0.2,\"rgb(51, 0, 0)\"],[0.3,\"rgb(76, 0, 0)\"],[0.4,\"rgb(102, 0, 0)\"],[0.5,\"rgb(127, 0, 0)\"],[0.6,\"rgb(153, 0, 0)\"],[0.7,\"rgb(178, 0, 0)\"],[0.8,\"rgb(204, 0, 0)\"],[0.9,\"rgb(229, 0, 0)\"],[1.0,\"rgb(255, 0, 0)\"]],\"size\":10},\"mode\":\"markers\",\"showlegend\":false,\"x\":[0],\"y\":[0],\"type\":\"scatter\"},{\"hoverinfo\":\"text\",\"marker\":{\"opacity\":1,\"size\":1},\"mode\":\"markers\",\"showlegend\":false,\"text\":[\"ID: 11, Pos(3.99,4.27)\"],\"x\":[3.9863327738146737],\"y\":[4.268834270066489],\"type\":\"scatter\"},{\"hoverinfo\":\"text\",\"marker\":{\"opacity\":1,\"size\":1},\"mode\":\"markers\",\"showlegend\":false,\"text\":[\"ID: 12, Pos(0.85,1.64)\"],\"x\":[0.8488279016949318],\"y\":[1.6370406488593048],\"type\":\"scatter\"},{\"hoverinfo\":\"text\",\"marker\":{\"opacity\":1,\"size\":1},\"mode\":\"markers\",\"showlegend\":false,\"text\":[\"ID: 13, Pos(1.73,1.60)\"],\"x\":[1.7258968673840784],\"y\":[1.5962220773638665],\"type\":\"scatter\"},{\"hoverinfo\":\"text\",\"marker\":{\"opacity\":1,\"size\":1},\"mode\":\"markers\",\"showlegend\":false,\"text\":[\"ID: 14, Pos(2.12,3.52)\"],\"x\":[2.116160882427272],\"y\":[3.5204353653542206],\"type\":\"scatter\"},{\"hoverinfo\":\"text\",\"marker\":{\"opacity\":1,\"size\":1},\"mode\":\"markers\",\"showlegend\":false,\"text\":[\"ID: 15, Pos(1.69,2.80)\"],\"x\":[1.692259232863783],\"y\":[2.7972929381969065],\"type\":\"scatter\"},{\"hoverinfo\":\"text\",\"marker\":{\"opacity\":1,\"size\":1},\"mode\":\"markers\",\"showlegend\":false,\"text\":[\"ID: 16, Pos(1.45,3.66)\"],\"x\":[1.453767774845684],\"y\":[3.6607508930614516],\"type\":\"scatter\"},{\"hoverinfo\":\"text\",\"marker\":{\"opacity\":1,\"size\":1},\"mode\":\"markers\",\"showlegend\":false,\"text\":[\"ID: 17, Pos(3.07,4.23)\"],\"x\":[3.0719865838614573],\"y\":[4.234745501580994],\"type\":\"scatter\"},{\"hoverinfo\":\"text\",\"marker\":{\"opacity\":1,\"size\":1},\"mode\":\"markers\",\"showlegend\":false,\"text\":[\"ID: 18, Pos(3.49,1.96)\"],\"x\":[3.48879726462054],\"y\":[1.9561046634672852],\"type\":\"scatter\"},{\"hoverinfo\":\"text\",\"marker\":{\"opacity\":1,\"size\":1},\"mode\":\"markers\",\"showlegend\":false,\"text\":[\"ID: 19, Pos(1.70,3.31)\"],\"x\":[1.7042831428492793],\"y\":[3.3139640340517103],\"type\":\"scatter\"},{\"hoverinfo\":\"text\",\"marker\":{\"opacity\":1,\"size\":1},\"mode\":\"markers\",\"showlegend\":false,\"text\":[\"ID: 20, Pos(1.76,2.25)\"],\"x\":[1.7565776142251517],\"y\":[2.253852105302265],\"type\":\"scatter\"}],                        {\"shapes\":[{\"fillcolor\":\"rgba(0, 0, 128, 0.5)\",\"line\":{\"color\":\"rgba(0, 0, 128, 0.5)\"},\"type\":\"circle\",\"x0\":3.7863327738146735,\"x1\":4.186332773814674,\"xref\":\"x\",\"y0\":4.068834270066489,\"y1\":4.468834270066489,\"yref\":\"y\"},{\"fillcolor\":\"rgba(0, 0, 128, 0.5)\",\"line\":{\"color\":\"rgba(0, 0, 128, 0.5)\"},\"type\":\"circle\",\"x0\":0.6488279016949319,\"x1\":1.0488279016949318,\"xref\":\"x\",\"y0\":1.4370406488593048,\"y1\":1.8370406488593047,\"yref\":\"y\"},{\"fillcolor\":\"rgba(255, 134, 0, 0.5)\",\"line\":{\"color\":\"rgba(255, 134, 0, 0.5)\"},\"type\":\"circle\",\"x0\":1.5258968673840785,\"x1\":1.9258968673840784,\"xref\":\"x\",\"y0\":1.3962220773638665,\"y1\":1.7962220773638664,\"yref\":\"y\"},{\"fillcolor\":\"rgba(0, 0, 155, 0.5)\",\"line\":{\"color\":\"rgba(0, 0, 155, 0.5)\"},\"type\":\"circle\",\"x0\":1.916160882427272,\"x1\":2.316160882427272,\"xref\":\"x\",\"y0\":3.3204353653542205,\"y1\":3.720435365354221,\"yref\":\"y\"},{\"fillcolor\":\"rgba(173, 0, 0, 0.5)\",\"line\":{\"color\":\"rgba(173, 0, 0, 0.5)\"},\"type\":\"circle\",\"x0\":1.4922592328637831,\"x1\":1.892259232863783,\"xref\":\"x\",\"y0\":2.5972929381969063,\"y1\":2.9972929381969067,\"yref\":\"y\"},{\"fillcolor\":\"rgba(0, 0, 132, 0.5)\",\"line\":{\"color\":\"rgba(0, 0, 132, 0.5)\"},\"type\":\"circle\",\"x0\":1.2537677748456841,\"x1\":1.653767774845684,\"xref\":\"x\",\"y0\":3.4607508930614514,\"y1\":3.860750893061452,\"yref\":\"y\"},{\"fillcolor\":\"rgba(0, 0, 128, 0.5)\",\"line\":{\"color\":\"rgba(0, 0, 128, 0.5)\"},\"type\":\"circle\",\"x0\":2.871986583861457,\"x1\":3.2719865838614575,\"xref\":\"x\",\"y0\":4.034745501580994,\"y1\":4.434745501580994,\"yref\":\"y\"},{\"fillcolor\":\"rgba(0, 0, 128, 0.5)\",\"line\":{\"color\":\"rgba(0, 0, 128, 0.5)\"},\"type\":\"circle\",\"x0\":3.28879726462054,\"x1\":3.6887972646205403,\"xref\":\"x\",\"y0\":1.7561046634672852,\"y1\":2.156104663467285,\"yref\":\"y\"},{\"fillcolor\":\"rgba(128, 0, 0, 0.5)\",\"line\":{\"color\":\"rgba(128, 0, 0, 0.5)\"},\"type\":\"circle\",\"x0\":1.5042831428492793,\"x1\":1.9042831428492792,\"xref\":\"x\",\"y0\":3.11396403405171,\"y1\":3.5139640340517104,\"yref\":\"y\"},{\"fillcolor\":\"rgba(232, 0, 0, 0.5)\",\"line\":{\"color\":\"rgba(232, 0, 0, 0.5)\"},\"type\":\"circle\",\"x0\":1.5565776142251517,\"x1\":1.9565776142251516,\"xref\":\"x\",\"y0\":2.0538521053022647,\"y1\":2.453852105302265,\"yref\":\"y\"},{\"line\":{\"color\":\"white\",\"width\":3},\"type\":\"line\",\"x0\":3.9863327738146737,\"x1\":3.9863327738146737,\"y0\":4.268834270066489,\"y1\":4.268834270066489},{\"line\":{\"color\":\"white\",\"width\":3},\"type\":\"line\",\"x0\":0.8488279016949318,\"x1\":0.8488279016949318,\"y0\":1.6370406488593048,\"y1\":1.6370406488593048},{\"line\":{\"color\":\"black\",\"width\":3},\"type\":\"line\",\"x0\":1.7258968673840784,\"x1\":1.7258968673840784,\"y0\":1.5962220773638665,\"y1\":1.5962220773638665},{\"line\":{\"color\":\"white\",\"width\":3},\"type\":\"line\",\"x0\":2.116160882427272,\"x1\":2.116160882427272,\"y0\":3.5204353653542206,\"y1\":3.5204353653542206},{\"line\":{\"color\":\"white\",\"width\":3},\"type\":\"line\",\"x0\":1.692259232863783,\"x1\":1.692259232863783,\"y0\":2.7972929381969065,\"y1\":2.7972929381969065},{\"line\":{\"color\":\"white\",\"width\":3},\"type\":\"line\",\"x0\":1.453767774845684,\"x1\":1.453767774845684,\"y0\":3.6607508930614516,\"y1\":3.6607508930614516},{\"line\":{\"color\":\"white\",\"width\":3},\"type\":\"line\",\"x0\":3.0719865838614573,\"x1\":3.0719865838614573,\"y0\":4.234745501580994,\"y1\":4.234745501580994},{\"line\":{\"color\":\"white\",\"width\":3},\"type\":\"line\",\"x0\":3.48879726462054,\"x1\":3.48879726462054,\"y0\":1.9561046634672852,\"y1\":1.9561046634672852},{\"line\":{\"color\":\"white\",\"width\":3},\"type\":\"line\",\"x0\":1.7042831428492793,\"x1\":1.7042831428492793,\"y0\":3.3139640340517103,\"y1\":3.3139640340517103},{\"line\":{\"color\":\"white\",\"width\":3},\"type\":\"line\",\"x0\":1.7565776142251517,\"x1\":1.7565776142251517,\"y0\":2.253852105302265,\"y1\":2.253852105302265}],\"title\":{\"text\":\"\\u003cb\\u003eMode: Low_knowledge_shortest_path  |  Number of Agents: 10\\u003c\\u002fb\\u003e\",\"x\":0.5},\"template\":{\"data\":{\"histogram2dcontour\":[{\"type\":\"histogram2dcontour\",\"colorbar\":{\"outlinewidth\":0,\"ticks\":\"\"},\"colorscale\":[[0.0,\"#0d0887\"],[0.1111111111111111,\"#46039f\"],[0.2222222222222222,\"#7201a8\"],[0.3333333333333333,\"#9c179e\"],[0.4444444444444444,\"#bd3786\"],[0.5555555555555556,\"#d8576b\"],[0.6666666666666666,\"#ed7953\"],[0.7777777777777778,\"#fb9f3a\"],[0.8888888888888888,\"#fdca26\"],[1.0,\"#f0f921\"]]}],\"choropleth\":[{\"type\":\"choropleth\",\"colorbar\":{\"outlinewidth\":0,\"ticks\":\"\"}}],\"histogram2d\":[{\"type\":\"histogram2d\",\"colorbar\":{\"outlinewidth\":0,\"ticks\":\"\"},\"colorscale\":[[0.0,\"#0d0887\"],[0.1111111111111111,\"#46039f\"],[0.2222222222222222,\"#7201a8\"],[0.3333333333333333,\"#9c179e\"],[0.4444444444444444,\"#bd3786\"],[0.5555555555555556,\"#d8576b\"],[0.6666666666666666,\"#ed7953\"],[0.7777777777777778,\"#fb9f3a\"],[0.8888888888888888,\"#fdca26\"],[1.0,\"#f0f921\"]]}],\"heatmap\":[{\"type\":\"heatmap\",\"colorbar\":{\"outlinewidth\":0,\"ticks\":\"\"},\"colorscale\":[[0.0,\"#0d0887\"],[0.1111111111111111,\"#46039f\"],[0.2222222222222222,\"#7201a8\"],[0.3333333333333333,\"#9c179e\"],[0.4444444444444444,\"#bd3786\"],[0.5555555555555556,\"#d8576b\"],[0.6666666666666666,\"#ed7953\"],[0.7777777777777778,\"#fb9f3a\"],[0.8888888888888888,\"#fdca26\"],[1.0,\"#f0f921\"]]}],\"heatmapgl\":[{\"type\":\"heatmapgl\",\"colorbar\":{\"outlinewidth\":0,\"ticks\":\"\"},\"colorscale\":[[0.0,\"#0d0887\"],[0.1111111111111111,\"#46039f\"],[0.2222222222222222,\"#7201a8\"],[0.3333333333333333,\"#9c179e\"],[0.4444444444444444,\"#bd3786\"],[0.5555555555555556,\"#d8576b\"],[0.6666666666666666,\"#ed7953\"],[0.7777777777777778,\"#fb9f3a\"],[0.8888888888888888,\"#fdca26\"],[1.0,\"#f0f921\"]]}],\"contourcarpet\":[{\"type\":\"contourcarpet\",\"colorbar\":{\"outlinewidth\":0,\"ticks\":\"\"}}],\"contour\":[{\"type\":\"contour\",\"colorbar\":{\"outlinewidth\":0,\"ticks\":\"\"},\"colorscale\":[[0.0,\"#0d0887\"],[0.1111111111111111,\"#46039f\"],[0.2222222222222222,\"#7201a8\"],[0.3333333333333333,\"#9c179e\"],[0.4444444444444444,\"#bd3786\"],[0.5555555555555556,\"#d8576b\"],[0.6666666666666666,\"#ed7953\"],[0.7777777777777778,\"#fb9f3a\"],[0.8888888888888888,\"#fdca26\"],[1.0,\"#f0f921\"]]}],\"surface\":[{\"type\":\"surface\",\"colorbar\":{\"outlinewidth\":0,\"ticks\":\"\"},\"colorscale\":[[0.0,\"#0d0887\"],[0.1111111111111111,\"#46039f\"],[0.2222222222222222,\"#7201a8\"],[0.3333333333333333,\"#9c179e\"],[0.4444444444444444,\"#bd3786\"],[0.5555555555555556,\"#d8576b\"],[0.6666666666666666,\"#ed7953\"],[0.7777777777777778,\"#fb9f3a\"],[0.8888888888888888,\"#fdca26\"],[1.0,\"#f0f921\"]]}],\"mesh3d\":[{\"type\":\"mesh3d\",\"colorbar\":{\"outlinewidth\":0,\"ticks\":\"\"}}],\"scatter\":[{\"marker\":{\"line\":{\"color\":\"#283442\"}},\"type\":\"scatter\"}],\"parcoords\":[{\"type\":\"parcoords\",\"line\":{\"colorbar\":{\"outlinewidth\":0,\"ticks\":\"\"}}}],\"scatterpolargl\":[{\"type\":\"scatterpolargl\",\"marker\":{\"colorbar\":{\"outlinewidth\":0,\"ticks\":\"\"}}}],\"bar\":[{\"error_x\":{\"color\":\"#f2f5fa\"},\"error_y\":{\"color\":\"#f2f5fa\"},\"marker\":{\"line\":{\"color\":\"rgb(17,17,17)\",\"width\":0.5},\"pattern\":{\"fillmode\":\"overlay\",\"size\":10,\"solidity\":0.2}},\"type\":\"bar\"}],\"scattergeo\":[{\"type\":\"scattergeo\",\"marker\":{\"colorbar\":{\"outlinewidth\":0,\"ticks\":\"\"}}}],\"scatterpolar\":[{\"type\":\"scatterpolar\",\"marker\":{\"colorbar\":{\"outlinewidth\":0,\"ticks\":\"\"}}}],\"histogram\":[{\"marker\":{\"pattern\":{\"fillmode\":\"overlay\",\"size\":10,\"solidity\":0.2}},\"type\":\"histogram\"}],\"scattergl\":[{\"marker\":{\"line\":{\"color\":\"#283442\"}},\"type\":\"scattergl\"}],\"scatter3d\":[{\"type\":\"scatter3d\",\"line\":{\"colorbar\":{\"outlinewidth\":0,\"ticks\":\"\"}},\"marker\":{\"colorbar\":{\"outlinewidth\":0,\"ticks\":\"\"}}}],\"scattermapbox\":[{\"type\":\"scattermapbox\",\"marker\":{\"colorbar\":{\"outlinewidth\":0,\"ticks\":\"\"}}}],\"scatterternary\":[{\"type\":\"scatterternary\",\"marker\":{\"colorbar\":{\"outlinewidth\":0,\"ticks\":\"\"}}}],\"scattercarpet\":[{\"type\":\"scattercarpet\",\"marker\":{\"colorbar\":{\"outlinewidth\":0,\"ticks\":\"\"}}}],\"carpet\":[{\"aaxis\":{\"endlinecolor\":\"#A2B1C6\",\"gridcolor\":\"#506784\",\"linecolor\":\"#506784\",\"minorgridcolor\":\"#506784\",\"startlinecolor\":\"#A2B1C6\"},\"baxis\":{\"endlinecolor\":\"#A2B1C6\",\"gridcolor\":\"#506784\",\"linecolor\":\"#506784\",\"minorgridcolor\":\"#506784\",\"startlinecolor\":\"#A2B1C6\"},\"type\":\"carpet\"}],\"table\":[{\"cells\":{\"fill\":{\"color\":\"#506784\"},\"line\":{\"color\":\"rgb(17,17,17)\"}},\"header\":{\"fill\":{\"color\":\"#2a3f5f\"},\"line\":{\"color\":\"rgb(17,17,17)\"}},\"type\":\"table\"}],\"barpolar\":[{\"marker\":{\"line\":{\"color\":\"rgb(17,17,17)\",\"width\":0.5},\"pattern\":{\"fillmode\":\"overlay\",\"size\":10,\"solidity\":0.2}},\"type\":\"barpolar\"}],\"pie\":[{\"automargin\":true,\"type\":\"pie\"}]},\"layout\":{\"autotypenumbers\":\"strict\",\"colorway\":[\"#636efa\",\"#EF553B\",\"#00cc96\",\"#ab63fa\",\"#FFA15A\",\"#19d3f3\",\"#FF6692\",\"#B6E880\",\"#FF97FF\",\"#FECB52\"],\"font\":{\"color\":\"#f2f5fa\"},\"hovermode\":\"closest\",\"hoverlabel\":{\"align\":\"left\"},\"paper_bgcolor\":\"rgb(17,17,17)\",\"plot_bgcolor\":\"rgb(17,17,17)\",\"polar\":{\"bgcolor\":\"rgb(17,17,17)\",\"angularaxis\":{\"gridcolor\":\"#506784\",\"linecolor\":\"#506784\",\"ticks\":\"\"},\"radialaxis\":{\"gridcolor\":\"#506784\",\"linecolor\":\"#506784\",\"ticks\":\"\"}},\"ternary\":{\"bgcolor\":\"rgb(17,17,17)\",\"aaxis\":{\"gridcolor\":\"#506784\",\"linecolor\":\"#506784\",\"ticks\":\"\"},\"baxis\":{\"gridcolor\":\"#506784\",\"linecolor\":\"#506784\",\"ticks\":\"\"},\"caxis\":{\"gridcolor\":\"#506784\",\"linecolor\":\"#506784\",\"ticks\":\"\"}},\"coloraxis\":{\"colorbar\":{\"outlinewidth\":0,\"ticks\":\"\"}},\"colorscale\":{\"sequential\":[[0.0,\"#0d0887\"],[0.1111111111111111,\"#46039f\"],[0.2222222222222222,\"#7201a8\"],[0.3333333333333333,\"#9c179e\"],[0.4444444444444444,\"#bd3786\"],[0.5555555555555556,\"#d8576b\"],[0.6666666666666666,\"#ed7953\"],[0.7777777777777778,\"#fb9f3a\"],[0.8888888888888888,\"#fdca26\"],[1.0,\"#f0f921\"]],\"sequentialminus\":[[0.0,\"#0d0887\"],[0.1111111111111111,\"#46039f\"],[0.2222222222222222,\"#7201a8\"],[0.3333333333333333,\"#9c179e\"],[0.4444444444444444,\"#bd3786\"],[0.5555555555555556,\"#d8576b\"],[0.6666666666666666,\"#ed7953\"],[0.7777777777777778,\"#fb9f3a\"],[0.8888888888888888,\"#fdca26\"],[1.0,\"#f0f921\"]],\"diverging\":[[0,\"#8e0152\"],[0.1,\"#c51b7d\"],[0.2,\"#de77ae\"],[0.3,\"#f1b6da\"],[0.4,\"#fde0ef\"],[0.5,\"#f7f7f7\"],[0.6,\"#e6f5d0\"],[0.7,\"#b8e186\"],[0.8,\"#7fbc41\"],[0.9,\"#4d9221\"],[1,\"#276419\"]]},\"xaxis\":{\"gridcolor\":\"#283442\",\"linecolor\":\"#506784\",\"ticks\":\"\",\"title\":{\"standoff\":15},\"zerolinecolor\":\"#283442\",\"automargin\":true,\"zerolinewidth\":2},\"yaxis\":{\"gridcolor\":\"#283442\",\"linecolor\":\"#506784\",\"ticks\":\"\",\"title\":{\"standoff\":15},\"zerolinecolor\":\"#283442\",\"automargin\":true,\"zerolinewidth\":2},\"scene\":{\"xaxis\":{\"backgroundcolor\":\"rgb(17,17,17)\",\"gridcolor\":\"#506784\",\"linecolor\":\"#506784\",\"showbackground\":true,\"ticks\":\"\",\"zerolinecolor\":\"#C8D4E3\",\"gridwidth\":2},\"yaxis\":{\"backgroundcolor\":\"rgb(17,17,17)\",\"gridcolor\":\"#506784\",\"linecolor\":\"#506784\",\"showbackground\":true,\"ticks\":\"\",\"zerolinecolor\":\"#C8D4E3\",\"gridwidth\":2},\"zaxis\":{\"backgroundcolor\":\"rgb(17,17,17)\",\"gridcolor\":\"#506784\",\"linecolor\":\"#506784\",\"showbackground\":true,\"ticks\":\"\",\"zerolinecolor\":\"#C8D4E3\",\"gridwidth\":2}},\"shapedefaults\":{\"line\":{\"color\":\"#f2f5fa\"}},\"annotationdefaults\":{\"arrowcolor\":\"#f2f5fa\",\"arrowhead\":0,\"arrowwidth\":1},\"geo\":{\"bgcolor\":\"rgb(17,17,17)\",\"landcolor\":\"rgb(17,17,17)\",\"subunitcolor\":\"#506784\",\"showland\":true,\"showlakes\":true,\"lakecolor\":\"rgb(17,17,17)\"},\"title\":{\"x\":0.05},\"updatemenudefaults\":{\"bgcolor\":\"#506784\",\"borderwidth\":0},\"sliderdefaults\":{\"bgcolor\":\"#C8D4E3\",\"borderwidth\":1,\"bordercolor\":\"rgb(17,17,17)\",\"tickwidth\":0},\"mapbox\":{\"style\":\"dark\"}}},\"xaxis\":{\"range\":[-0.5,15.5]},\"yaxis\":{\"scaleanchor\":\"x\",\"scaleratio\":1,\"range\":[-0.5,15.5]},\"updatemenus\":[{\"buttons\":[{\"args\":[null,{\"frame\":{\"duration\":100,\"redraw\":true},\"fromcurrent\":true}],\"label\":\"Play\",\"method\":\"animate\"}],\"direction\":\"left\",\"pad\":{\"r\":10,\"t\":87},\"showactive\":false,\"type\":\"buttons\",\"x\":0.1,\"xanchor\":\"right\",\"y\":0,\"yanchor\":\"top\"}],\"sliders\":[{\"active\":0,\"currentvalue\":{\"font\":{\"size\":20},\"prefix\":\"Frame:\",\"visible\":true,\"xanchor\":\"right\"},\"len\":0.9,\"pad\":{\"b\":10,\"t\":50},\"steps\":[{\"args\":[[\"0\"],{\"frame\":{\"duration\":100,\"redraw\":true},\"mode\":\"immediate\",\"transition\":{\"duration\":500}}],\"label\":\"0\",\"method\":\"animate\"},{\"args\":[[\"50\"],{\"frame\":{\"duration\":100,\"redraw\":true},\"mode\":\"immediate\",\"transition\":{\"duration\":500}}],\"label\":\"50\",\"method\":\"animate\"},{\"args\":[[\"100\"],{\"frame\":{\"duration\":100,\"redraw\":true},\"mode\":\"immediate\",\"transition\":{\"duration\":500}}],\"label\":\"100\",\"method\":\"animate\"},{\"args\":[[\"150\"],{\"frame\":{\"duration\":100,\"redraw\":true},\"mode\":\"immediate\",\"transition\":{\"duration\":500}}],\"label\":\"150\",\"method\":\"animate\"},{\"args\":[[\"200\"],{\"frame\":{\"duration\":100,\"redraw\":true},\"mode\":\"immediate\",\"transition\":{\"duration\":500}}],\"label\":\"200\",\"method\":\"animate\"},{\"args\":[[\"250\"],{\"frame\":{\"duration\":100,\"redraw\":true},\"mode\":\"immediate\",\"transition\":{\"duration\":500}}],\"label\":\"250\",\"method\":\"animate\"},{\"args\":[[\"300\"],{\"frame\":{\"duration\":100,\"redraw\":true},\"mode\":\"immediate\",\"transition\":{\"duration\":500}}],\"label\":\"300\",\"method\":\"animate\"},{\"args\":[[\"350\"],{\"frame\":{\"duration\":100,\"redraw\":true},\"mode\":\"immediate\",\"transition\":{\"duration\":500}}],\"label\":\"350\",\"method\":\"animate\"},{\"args\":[[\"400\"],{\"frame\":{\"duration\":100,\"redraw\":true},\"mode\":\"immediate\",\"transition\":{\"duration\":500}}],\"label\":\"400\",\"method\":\"animate\"},{\"args\":[[\"450\"],{\"frame\":{\"duration\":100,\"redraw\":true},\"mode\":\"immediate\",\"transition\":{\"duration\":500}}],\"label\":\"450\",\"method\":\"animate\"},{\"args\":[[\"500\"],{\"frame\":{\"duration\":100,\"redraw\":true},\"mode\":\"immediate\",\"transition\":{\"duration\":500}}],\"label\":\"500\",\"method\":\"animate\"},{\"args\":[[\"550\"],{\"frame\":{\"duration\":100,\"redraw\":true},\"mode\":\"immediate\",\"transition\":{\"duration\":500}}],\"label\":\"550\",\"method\":\"animate\"},{\"args\":[[\"600\"],{\"frame\":{\"duration\":100,\"redraw\":true},\"mode\":\"immediate\",\"transition\":{\"duration\":500}}],\"label\":\"600\",\"method\":\"animate\"},{\"args\":[[\"650\"],{\"frame\":{\"duration\":100,\"redraw\":true},\"mode\":\"immediate\",\"transition\":{\"duration\":500}}],\"label\":\"650\",\"method\":\"animate\"},{\"args\":[[\"700\"],{\"frame\":{\"duration\":100,\"redraw\":true},\"mode\":\"immediate\",\"transition\":{\"duration\":500}}],\"label\":\"700\",\"method\":\"animate\"},{\"args\":[[\"750\"],{\"frame\":{\"duration\":100,\"redraw\":true},\"mode\":\"immediate\",\"transition\":{\"duration\":500}}],\"label\":\"750\",\"method\":\"animate\"},{\"args\":[[\"800\"],{\"frame\":{\"duration\":100,\"redraw\":true},\"mode\":\"immediate\",\"transition\":{\"duration\":500}}],\"label\":\"800\",\"method\":\"animate\"}],\"transition\":{\"duration\":100,\"easing\":\"cubic-in-out\"},\"x\":0.1,\"xanchor\":\"left\",\"y\":0,\"yanchor\":\"top\"}],\"autosize\":false,\"width\":800,\"height\":800},                        {\"responsive\": true}                    ).then(function(){\n                            Plotly.addFrames('623bff97-bc80-41fb-87b8-da1729352fa2', [{\"data\":[{\"hoverinfo\":\"name\",\"line\":{\"color\":\"white\"},\"mode\":\"lines\",\"name\":\"Exterior\",\"showlegend\":false,\"x\":[10.1,10.1,15.0,15.0,13.6,13.6,15.0,15.0,13.6,13.6,15.0,15.0,10.1,10.1,9.9,9.9,5.1,5.1,4.9,4.9,0.0,0.0,1.5,1.5,0.0,0.0,1.5,1.5,0.0,0.0,4.9,4.9,5.1,5.1,9.9,9.9,10.1],\"y\":[1.5,0.0,0.0,4.9,4.9,5.1,5.1,9.9,9.9,10.1,10.1,15.0,15.0,13.6,13.6,15.0,15.0,13.6,13.6,15.0,15.0,10.1,10.1,9.9,9.9,5.1,5.1,4.9,4.9,0.0,0.0,1.5,1.5,0.0,0.0,1.5,1.5],\"type\":\"scatter\"},{\"hoverinfo\":\"name\",\"line\":{\"color\":\"white\"},\"mode\":\"lines\",\"name\":\"Obstacle\",\"showlegend\":false,\"x\":[10.1,11.5,11.5,10.1,10.1,9.9,9.9,8.6,8.6,9.9,9.9,10.1,10.1],\"y\":[5.1,5.1,4.9,4.9,3.6,3.6,4.9,4.9,5.1,5.1,6.5,6.5,5.1],\"type\":\"scatter\"},{\"hoverinfo\":\"name\",\"line\":{\"color\":\"white\"},\"mode\":\"lines\",\"name\":\"Obstacle\",\"showlegend\":false,\"x\":[10.1,11.5,11.5,10.1,10.1,9.9,9.9,8.6,8.6,9.9,9.9,10.1,10.1],\"y\":[10.1,10.1,9.9,9.9,8.6,8.6,9.9,9.9,10.1,10.1,11.5,11.5,10.1],\"type\":\"scatter\"},{\"hoverinfo\":\"name\",\"line\":{\"color\":\"white\"},\"mode\":\"lines\",\"name\":\"Obstacle\",\"showlegend\":false,\"x\":[5.1,6.4,6.4,5.1,5.1,4.9,4.9,3.6,3.6,4.9,4.9,5.1,5.1],\"y\":[5.1,5.1,4.9,4.9,3.6,3.6,4.9,4.9,5.1,5.1,6.5,6.5,5.1],\"type\":\"scatter\"},{\"hoverinfo\":\"name\",\"line\":{\"color\":\"white\"},\"mode\":\"lines\",\"name\":\"Obstacle\",\"showlegend\":false,\"x\":[5.1,6.4,6.4,5.1,5.1,4.9,4.9,3.6,3.6,4.9,4.9,5.1,5.1],\"y\":[10.1,10.1,9.9,9.9,8.6,8.6,9.9,9.9,10.1,10.1,11.5,11.5,10.1],\"type\":\"scatter\"},{\"fill\":\"toself\",\"fillcolor\":\"rgb(0, 0, 0)\",\"hoverinfo\":\"name\",\"line\":{\"width\":0},\"mode\":\"lines\",\"name\":\"Risk Area\",\"showlegend\":false,\"x\":[1.5,1.5,3.6,3.6,4.9,4.9,5.0,5.0,4.9,4.9,0.0,0.0,1.5],\"y\":[4.9,5.0,5.0,4.9,4.9,3.6,3.6,1.5,1.5,0.0,0.0,4.9,4.9],\"type\":\"scatter\"},{\"fill\":\"toself\",\"fillcolor\":\"rgb(153, 0, 0)\",\"hoverinfo\":\"name\",\"line\":{\"width\":0},\"mode\":\"lines\",\"name\":\"Risk Area\",\"showlegend\":false,\"x\":[9.9,9.9,5.1,5.1,5.0,5.0,5.1,5.1,6.4,6.4,8.6,8.6,9.9,9.9,10.0,10.0,9.9],\"y\":[1.5,0.0,0.0,1.5,1.5,3.6,3.6,4.9,4.9,5.0,5.0,4.9,4.9,3.6,3.6,1.5,1.5],\"type\":\"scatter\"},{\"fill\":\"toself\",\"fillcolor\":\"rgb(0, 0, 0)\",\"hoverinfo\":\"name\",\"line\":{\"width\":0},\"mode\":\"lines\",\"name\":\"Risk Area\",\"showlegend\":false,\"x\":[13.6,15.0,15.0,10.1,10.1,10.0,10.0,10.1,10.1,11.5,11.5,13.6,13.6],\"y\":[4.9,4.9,0.0,0.0,1.5,1.5,3.6,3.6,4.9,4.9,5.0,5.0,4.9],\"type\":\"scatter\"},{\"fill\":\"toself\",\"fillcolor\":\"rgb(153, 0, 0)\",\"hoverinfo\":\"name\",\"line\":{\"width\":0},\"mode\":\"lines\",\"name\":\"Risk Area\",\"showlegend\":false,\"x\":[13.6,15.0,15.0,13.6,13.6,11.5,11.5,10.1,10.1,10.0,10.0,10.1,10.1,11.5,11.5,13.6,13.6],\"y\":[9.9,9.9,5.1,5.1,5.0,5.0,5.1,5.1,6.5,6.5,8.6,8.6,9.9,9.9,10.0,10.0,9.9],\"type\":\"scatter\"},{\"fill\":\"toself\",\"fillcolor\":\"rgb(153, 0, 0)\",\"hoverinfo\":\"name\",\"line\":{\"width\":0},\"mode\":\"lines\",\"name\":\"Risk Area\",\"showlegend\":false,\"x\":[9.9,9.9,8.6,8.6,6.4,6.4,5.1,5.1,5.0,5.0,5.1,5.1,6.4,6.4,8.6,8.6,9.9,9.9,10.0,10.0,9.9],\"y\":[6.5,5.1,5.1,5.0,5.0,5.1,5.1,6.5,6.5,8.6,8.6,9.9,9.9,10.0,10.0,9.9,9.9,8.6,8.6,6.5,6.5],\"type\":\"scatter\"},{\"fill\":\"toself\",\"fillcolor\":\"rgb(25, 0, 0)\",\"hoverinfo\":\"name\",\"line\":{\"width\":0},\"mode\":\"lines\",\"name\":\"Risk Area\",\"showlegend\":false,\"x\":[4.9,4.9,3.6,3.6,1.5,1.5,0.0,0.0,1.5,1.5,3.6,3.6,4.9,4.9,5.0,5.0,4.9],\"y\":[6.5,5.1,5.1,5.0,5.0,5.1,5.1,9.9,9.9,10.0,10.0,9.9,9.9,8.6,8.6,6.5,6.5],\"type\":\"scatter\"},{\"fill\":\"toself\",\"fillcolor\":\"rgb(0, 0, 0)\",\"hoverinfo\":\"name\",\"line\":{\"width\":0},\"mode\":\"lines\",\"name\":\"Risk Area\",\"showlegend\":false,\"x\":[1.5,0.0,0.0,4.9,4.9,5.0,5.0,4.9,4.9,3.6,3.6,1.5,1.5],\"y\":[10.1,10.1,15.0,15.0,13.6,13.6,11.5,11.5,10.1,10.1,10.0,10.0,10.1],\"type\":\"scatter\"},{\"fill\":\"toself\",\"fillcolor\":\"rgb(0, 0, 0)\",\"hoverinfo\":\"name\",\"line\":{\"width\":0},\"mode\":\"lines\",\"name\":\"Risk Area\",\"showlegend\":false,\"x\":[6.4,5.1,5.1,5.0,5.0,5.1,5.1,9.9,9.9,10.0,10.0,9.9,9.9,8.6,8.6,6.4,6.4],\"y\":[10.1,10.1,11.5,11.5,13.6,13.6,15.0,15.0,13.6,13.6,11.5,11.5,10.1,10.1,10.0,10.0,10.1],\"type\":\"scatter\"},{\"fill\":\"toself\",\"fillcolor\":\"rgb(0, 0, 0)\",\"hoverinfo\":\"name\",\"line\":{\"width\":0},\"mode\":\"lines\",\"name\":\"Risk Area\",\"showlegend\":false,\"x\":[10.1,10.1,15.0,15.0,13.6,13.6,11.5,11.5,10.1,10.1,10.0,10.0,10.1],\"y\":[13.6,15.0,15.0,10.1,10.1,10.0,10.0,10.1,10.1,11.5,11.5,13.6,13.6],\"type\":\"scatter\"},{\"hoverinfo\":\"text\",\"marker\":{\"opacity\":1,\"size\":1},\"mode\":\"markers\",\"showlegend\":false,\"text\":[\"ID: 11, Pos(3.99,4.27)\"],\"x\":[3.9863327738146737],\"y\":[4.268834270066489],\"type\":\"scatter\"},{\"hoverinfo\":\"text\",\"marker\":{\"opacity\":1,\"size\":1},\"mode\":\"markers\",\"showlegend\":false,\"text\":[\"ID: 12, Pos(0.85,1.64)\"],\"x\":[0.8488279016949318],\"y\":[1.6370406488593048],\"type\":\"scatter\"},{\"hoverinfo\":\"text\",\"marker\":{\"opacity\":1,\"size\":1},\"mode\":\"markers\",\"showlegend\":false,\"text\":[\"ID: 13, Pos(1.73,1.60)\"],\"x\":[1.7258968673840784],\"y\":[1.5962220773638665],\"type\":\"scatter\"},{\"hoverinfo\":\"text\",\"marker\":{\"opacity\":1,\"size\":1},\"mode\":\"markers\",\"showlegend\":false,\"text\":[\"ID: 14, Pos(2.12,3.52)\"],\"x\":[2.116160882427272],\"y\":[3.5204353653542206],\"type\":\"scatter\"},{\"hoverinfo\":\"text\",\"marker\":{\"opacity\":1,\"size\":1},\"mode\":\"markers\",\"showlegend\":false,\"text\":[\"ID: 15, Pos(1.69,2.80)\"],\"x\":[1.692259232863783],\"y\":[2.7972929381969065],\"type\":\"scatter\"},{\"hoverinfo\":\"text\",\"marker\":{\"opacity\":1,\"size\":1},\"mode\":\"markers\",\"showlegend\":false,\"text\":[\"ID: 16, Pos(1.45,3.66)\"],\"x\":[1.453767774845684],\"y\":[3.6607508930614516],\"type\":\"scatter\"},{\"hoverinfo\":\"text\",\"marker\":{\"opacity\":1,\"size\":1},\"mode\":\"markers\",\"showlegend\":false,\"text\":[\"ID: 17, Pos(3.07,4.23)\"],\"x\":[3.0719865838614573],\"y\":[4.234745501580994],\"type\":\"scatter\"},{\"hoverinfo\":\"text\",\"marker\":{\"opacity\":1,\"size\":1},\"mode\":\"markers\",\"showlegend\":false,\"text\":[\"ID: 18, Pos(3.49,1.96)\"],\"x\":[3.48879726462054],\"y\":[1.9561046634672852],\"type\":\"scatter\"},{\"hoverinfo\":\"text\",\"marker\":{\"opacity\":1,\"size\":1},\"mode\":\"markers\",\"showlegend\":false,\"text\":[\"ID: 19, Pos(1.70,3.31)\"],\"x\":[1.7042831428492793],\"y\":[3.3139640340517103],\"type\":\"scatter\"},{\"hoverinfo\":\"text\",\"marker\":{\"opacity\":1,\"size\":1},\"mode\":\"markers\",\"showlegend\":false,\"text\":[\"ID: 20, Pos(1.76,2.25)\"],\"x\":[1.7565776142251517],\"y\":[2.253852105302265],\"type\":\"scatter\"}],\"layout\":{\"shapes\":[{\"fillcolor\":\"rgba(0, 0, 128, 0.5)\",\"line\":{\"color\":\"rgba(0, 0, 128, 0.5)\"},\"type\":\"circle\",\"x0\":3.7863327738146735,\"x1\":4.186332773814674,\"xref\":\"x\",\"y0\":4.068834270066489,\"y1\":4.468834270066489,\"yref\":\"y\"},{\"fillcolor\":\"rgba(0, 0, 128, 0.5)\",\"line\":{\"color\":\"rgba(0, 0, 128, 0.5)\"},\"type\":\"circle\",\"x0\":0.6488279016949319,\"x1\":1.0488279016949318,\"xref\":\"x\",\"y0\":1.4370406488593048,\"y1\":1.8370406488593047,\"yref\":\"y\"},{\"fillcolor\":\"rgba(255, 134, 0, 0.5)\",\"line\":{\"color\":\"rgba(255, 134, 0, 0.5)\"},\"type\":\"circle\",\"x0\":1.5258968673840785,\"x1\":1.9258968673840784,\"xref\":\"x\",\"y0\":1.3962220773638665,\"y1\":1.7962220773638664,\"yref\":\"y\"},{\"fillcolor\":\"rgba(0, 0, 155, 0.5)\",\"line\":{\"color\":\"rgba(0, 0, 155, 0.5)\"},\"type\":\"circle\",\"x0\":1.916160882427272,\"x1\":2.316160882427272,\"xref\":\"x\",\"y0\":3.3204353653542205,\"y1\":3.720435365354221,\"yref\":\"y\"},{\"fillcolor\":\"rgba(173, 0, 0, 0.5)\",\"line\":{\"color\":\"rgba(173, 0, 0, 0.5)\"},\"type\":\"circle\",\"x0\":1.4922592328637831,\"x1\":1.892259232863783,\"xref\":\"x\",\"y0\":2.5972929381969063,\"y1\":2.9972929381969067,\"yref\":\"y\"},{\"fillcolor\":\"rgba(0, 0, 132, 0.5)\",\"line\":{\"color\":\"rgba(0, 0, 132, 0.5)\"},\"type\":\"circle\",\"x0\":1.2537677748456841,\"x1\":1.653767774845684,\"xref\":\"x\",\"y0\":3.4607508930614514,\"y1\":3.860750893061452,\"yref\":\"y\"},{\"fillcolor\":\"rgba(0, 0, 128, 0.5)\",\"line\":{\"color\":\"rgba(0, 0, 128, 0.5)\"},\"type\":\"circle\",\"x0\":2.871986583861457,\"x1\":3.2719865838614575,\"xref\":\"x\",\"y0\":4.034745501580994,\"y1\":4.434745501580994,\"yref\":\"y\"},{\"fillcolor\":\"rgba(0, 0, 128, 0.5)\",\"line\":{\"color\":\"rgba(0, 0, 128, 0.5)\"},\"type\":\"circle\",\"x0\":3.28879726462054,\"x1\":3.6887972646205403,\"xref\":\"x\",\"y0\":1.7561046634672852,\"y1\":2.156104663467285,\"yref\":\"y\"},{\"fillcolor\":\"rgba(128, 0, 0, 0.5)\",\"line\":{\"color\":\"rgba(128, 0, 0, 0.5)\"},\"type\":\"circle\",\"x0\":1.5042831428492793,\"x1\":1.9042831428492792,\"xref\":\"x\",\"y0\":3.11396403405171,\"y1\":3.5139640340517104,\"yref\":\"y\"},{\"fillcolor\":\"rgba(232, 0, 0, 0.5)\",\"line\":{\"color\":\"rgba(232, 0, 0, 0.5)\"},\"type\":\"circle\",\"x0\":1.5565776142251517,\"x1\":1.9565776142251516,\"xref\":\"x\",\"y0\":2.0538521053022647,\"y1\":2.453852105302265,\"yref\":\"y\"},{\"line\":{\"color\":\"white\",\"width\":3},\"type\":\"line\",\"x0\":3.9863327738146737,\"x1\":3.9863327738146737,\"y0\":4.268834270066489,\"y1\":4.268834270066489},{\"line\":{\"color\":\"white\",\"width\":3},\"type\":\"line\",\"x0\":0.8488279016949318,\"x1\":0.8488279016949318,\"y0\":1.6370406488593048,\"y1\":1.6370406488593048},{\"line\":{\"color\":\"black\",\"width\":3},\"type\":\"line\",\"x0\":1.7258968673840784,\"x1\":1.7258968673840784,\"y0\":1.5962220773638665,\"y1\":1.5962220773638665},{\"line\":{\"color\":\"white\",\"width\":3},\"type\":\"line\",\"x0\":2.116160882427272,\"x1\":2.116160882427272,\"y0\":3.5204353653542206,\"y1\":3.5204353653542206},{\"line\":{\"color\":\"white\",\"width\":3},\"type\":\"line\",\"x0\":1.692259232863783,\"x1\":1.692259232863783,\"y0\":2.7972929381969065,\"y1\":2.7972929381969065},{\"line\":{\"color\":\"white\",\"width\":3},\"type\":\"line\",\"x0\":1.453767774845684,\"x1\":1.453767774845684,\"y0\":3.6607508930614516,\"y1\":3.6607508930614516},{\"line\":{\"color\":\"white\",\"width\":3},\"type\":\"line\",\"x0\":3.0719865838614573,\"x1\":3.0719865838614573,\"y0\":4.234745501580994,\"y1\":4.234745501580994},{\"line\":{\"color\":\"white\",\"width\":3},\"type\":\"line\",\"x0\":3.48879726462054,\"x1\":3.48879726462054,\"y0\":1.9561046634672852,\"y1\":1.9561046634672852},{\"line\":{\"color\":\"white\",\"width\":3},\"type\":\"line\",\"x0\":1.7042831428492793,\"x1\":1.7042831428492793,\"y0\":3.3139640340517103,\"y1\":3.3139640340517103},{\"line\":{\"color\":\"white\",\"width\":3},\"type\":\"line\",\"x0\":1.7565776142251517,\"x1\":1.7565776142251517,\"y0\":2.253852105302265,\"y1\":2.253852105302265}],\"title\":{\"text\":\"\\u003cb\\u003eMode: Low_knowledge_shortest_path  |  Number of Agents: 10\\u003c\\u002fb\\u003e\",\"x\":0.5}},\"name\":\"0\"},{\"data\":[{\"hoverinfo\":\"name\",\"line\":{\"color\":\"white\"},\"mode\":\"lines\",\"name\":\"Exterior\",\"showlegend\":false,\"x\":[10.1,10.1,15.0,15.0,13.6,13.6,15.0,15.0,13.6,13.6,15.0,15.0,10.1,10.1,9.9,9.9,5.1,5.1,4.9,4.9,0.0,0.0,1.5,1.5,0.0,0.0,1.5,1.5,0.0,0.0,4.9,4.9,5.1,5.1,9.9,9.9,10.1],\"y\":[1.5,0.0,0.0,4.9,4.9,5.1,5.1,9.9,9.9,10.1,10.1,15.0,15.0,13.6,13.6,15.0,15.0,13.6,13.6,15.0,15.0,10.1,10.1,9.9,9.9,5.1,5.1,4.9,4.9,0.0,0.0,1.5,1.5,0.0,0.0,1.5,1.5],\"type\":\"scatter\"},{\"hoverinfo\":\"name\",\"line\":{\"color\":\"white\"},\"mode\":\"lines\",\"name\":\"Obstacle\",\"showlegend\":false,\"x\":[10.1,11.5,11.5,10.1,10.1,9.9,9.9,8.6,8.6,9.9,9.9,10.1,10.1],\"y\":[5.1,5.1,4.9,4.9,3.6,3.6,4.9,4.9,5.1,5.1,6.5,6.5,5.1],\"type\":\"scatter\"},{\"hoverinfo\":\"name\",\"line\":{\"color\":\"white\"},\"mode\":\"lines\",\"name\":\"Obstacle\",\"showlegend\":false,\"x\":[10.1,11.5,11.5,10.1,10.1,9.9,9.9,8.6,8.6,9.9,9.9,10.1,10.1],\"y\":[10.1,10.1,9.9,9.9,8.6,8.6,9.9,9.9,10.1,10.1,11.5,11.5,10.1],\"type\":\"scatter\"},{\"hoverinfo\":\"name\",\"line\":{\"color\":\"white\"},\"mode\":\"lines\",\"name\":\"Obstacle\",\"showlegend\":false,\"x\":[5.1,6.4,6.4,5.1,5.1,4.9,4.9,3.6,3.6,4.9,4.9,5.1,5.1],\"y\":[5.1,5.1,4.9,4.9,3.6,3.6,4.9,4.9,5.1,5.1,6.5,6.5,5.1],\"type\":\"scatter\"},{\"hoverinfo\":\"name\",\"line\":{\"color\":\"white\"},\"mode\":\"lines\",\"name\":\"Obstacle\",\"showlegend\":false,\"x\":[5.1,6.4,6.4,5.1,5.1,4.9,4.9,3.6,3.6,4.9,4.9,5.1,5.1],\"y\":[10.1,10.1,9.9,9.9,8.6,8.6,9.9,9.9,10.1,10.1,11.5,11.5,10.1],\"type\":\"scatter\"},{\"fill\":\"toself\",\"fillcolor\":\"rgb(0, 0, 0)\",\"hoverinfo\":\"name\",\"line\":{\"width\":0},\"mode\":\"lines\",\"name\":\"Risk Area\",\"showlegend\":false,\"x\":[1.5,1.5,3.6,3.6,4.9,4.9,5.0,5.0,4.9,4.9,0.0,0.0,1.5],\"y\":[4.9,5.0,5.0,4.9,4.9,3.6,3.6,1.5,1.5,0.0,0.0,4.9,4.9],\"type\":\"scatter\"},{\"fill\":\"toself\",\"fillcolor\":\"rgb(153, 0, 0)\",\"hoverinfo\":\"name\",\"line\":{\"width\":0},\"mode\":\"lines\",\"name\":\"Risk Area\",\"showlegend\":false,\"x\":[9.9,9.9,5.1,5.1,5.0,5.0,5.1,5.1,6.4,6.4,8.6,8.6,9.9,9.9,10.0,10.0,9.9],\"y\":[1.5,0.0,0.0,1.5,1.5,3.6,3.6,4.9,4.9,5.0,5.0,4.9,4.9,3.6,3.6,1.5,1.5],\"type\":\"scatter\"},{\"fill\":\"toself\",\"fillcolor\":\"rgb(0, 0, 0)\",\"hoverinfo\":\"name\",\"line\":{\"width\":0},\"mode\":\"lines\",\"name\":\"Risk Area\",\"showlegend\":false,\"x\":[13.6,15.0,15.0,10.1,10.1,10.0,10.0,10.1,10.1,11.5,11.5,13.6,13.6],\"y\":[4.9,4.9,0.0,0.0,1.5,1.5,3.6,3.6,4.9,4.9,5.0,5.0,4.9],\"type\":\"scatter\"},{\"fill\":\"toself\",\"fillcolor\":\"rgb(153, 0, 0)\",\"hoverinfo\":\"name\",\"line\":{\"width\":0},\"mode\":\"lines\",\"name\":\"Risk Area\",\"showlegend\":false,\"x\":[13.6,15.0,15.0,13.6,13.6,11.5,11.5,10.1,10.1,10.0,10.0,10.1,10.1,11.5,11.5,13.6,13.6],\"y\":[9.9,9.9,5.1,5.1,5.0,5.0,5.1,5.1,6.5,6.5,8.6,8.6,9.9,9.9,10.0,10.0,9.9],\"type\":\"scatter\"},{\"fill\":\"toself\",\"fillcolor\":\"rgb(153, 0, 0)\",\"hoverinfo\":\"name\",\"line\":{\"width\":0},\"mode\":\"lines\",\"name\":\"Risk Area\",\"showlegend\":false,\"x\":[9.9,9.9,8.6,8.6,6.4,6.4,5.1,5.1,5.0,5.0,5.1,5.1,6.4,6.4,8.6,8.6,9.9,9.9,10.0,10.0,9.9],\"y\":[6.5,5.1,5.1,5.0,5.0,5.1,5.1,6.5,6.5,8.6,8.6,9.9,9.9,10.0,10.0,9.9,9.9,8.6,8.6,6.5,6.5],\"type\":\"scatter\"},{\"fill\":\"toself\",\"fillcolor\":\"rgb(25, 0, 0)\",\"hoverinfo\":\"name\",\"line\":{\"width\":0},\"mode\":\"lines\",\"name\":\"Risk Area\",\"showlegend\":false,\"x\":[4.9,4.9,3.6,3.6,1.5,1.5,0.0,0.0,1.5,1.5,3.6,3.6,4.9,4.9,5.0,5.0,4.9],\"y\":[6.5,5.1,5.1,5.0,5.0,5.1,5.1,9.9,9.9,10.0,10.0,9.9,9.9,8.6,8.6,6.5,6.5],\"type\":\"scatter\"},{\"fill\":\"toself\",\"fillcolor\":\"rgb(0, 0, 0)\",\"hoverinfo\":\"name\",\"line\":{\"width\":0},\"mode\":\"lines\",\"name\":\"Risk Area\",\"showlegend\":false,\"x\":[1.5,0.0,0.0,4.9,4.9,5.0,5.0,4.9,4.9,3.6,3.6,1.5,1.5],\"y\":[10.1,10.1,15.0,15.0,13.6,13.6,11.5,11.5,10.1,10.1,10.0,10.0,10.1],\"type\":\"scatter\"},{\"fill\":\"toself\",\"fillcolor\":\"rgb(0, 0, 0)\",\"hoverinfo\":\"name\",\"line\":{\"width\":0},\"mode\":\"lines\",\"name\":\"Risk Area\",\"showlegend\":false,\"x\":[6.4,5.1,5.1,5.0,5.0,5.1,5.1,9.9,9.9,10.0,10.0,9.9,9.9,8.6,8.6,6.4,6.4],\"y\":[10.1,10.1,11.5,11.5,13.6,13.6,15.0,15.0,13.6,13.6,11.5,11.5,10.1,10.1,10.0,10.0,10.1],\"type\":\"scatter\"},{\"fill\":\"toself\",\"fillcolor\":\"rgb(0, 0, 0)\",\"hoverinfo\":\"name\",\"line\":{\"width\":0},\"mode\":\"lines\",\"name\":\"Risk Area\",\"showlegend\":false,\"x\":[10.1,10.1,15.0,15.0,13.6,13.6,11.5,11.5,10.1,10.1,10.0,10.0,10.1],\"y\":[13.6,15.0,15.0,10.1,10.1,10.0,10.0,10.1,10.1,11.5,11.5,13.6,13.6],\"type\":\"scatter\"},{\"hoverinfo\":\"text\",\"marker\":{\"opacity\":1,\"size\":1},\"mode\":\"markers\",\"showlegend\":false,\"text\":[\"ID: 11, Pos(3.19,4.89)\"],\"x\":[3.1924743390861825],\"y\":[4.892096571520693],\"type\":\"scatter\"},{\"hoverinfo\":\"text\",\"marker\":{\"opacity\":1,\"size\":1},\"mode\":\"markers\",\"showlegend\":false,\"text\":[\"ID: 12, Pos(1.13,3.21)\"],\"x\":[1.1319471522546776],\"y\":[3.2087348772045723],\"type\":\"scatter\"},{\"hoverinfo\":\"text\",\"marker\":{\"opacity\":1,\"size\":1},\"mode\":\"markers\",\"showlegend\":false,\"text\":[\"ID: 13, Pos(1.80,2.00)\"],\"x\":[1.7967356767936429],\"y\":[1.9979659934145642],\"type\":\"scatter\"},{\"hoverinfo\":\"text\",\"marker\":{\"opacity\":1,\"size\":1},\"mode\":\"markers\",\"showlegend\":false,\"text\":[\"ID: 14, Pos(2.47,4.86)\"],\"x\":[2.470337840890988],\"y\":[4.861711126300399],\"type\":\"scatter\"},{\"hoverinfo\":\"text\",\"marker\":{\"opacity\":1,\"size\":1},\"mode\":\"markers\",\"showlegend\":false,\"text\":[\"ID: 15, Pos(1.77,3.28)\"],\"x\":[1.7717711831324265],\"y\":[3.2833952565901123],\"type\":\"scatter\"},{\"hoverinfo\":\"text\",\"marker\":{\"opacity\":1,\"size\":1},\"mode\":\"markers\",\"showlegend\":false,\"text\":[\"ID: 16, Pos(1.91,5.12)\"],\"x\":[1.907258512843602],\"y\":[5.117813122756807],\"type\":\"scatter\"},{\"hoverinfo\":\"text\",\"marker\":{\"opacity\":1,\"size\":1},\"mode\":\"markers\",\"showlegend\":false,\"text\":[\"ID: 17, Pos(2.77,5.81)\"],\"x\":[2.7699765596010804],\"y\":[5.805092869904271],\"type\":\"scatter\"},{\"hoverinfo\":\"text\",\"marker\":{\"opacity\":1,\"size\":1},\"mode\":\"markers\",\"showlegend\":false,\"text\":[\"ID: 18, Pos(3.21,3.53)\"],\"x\":[3.207906551652387],\"y\":[3.5312555789135835],\"type\":\"scatter\"},{\"hoverinfo\":\"text\",\"marker\":{\"opacity\":1,\"size\":1},\"mode\":\"markers\",\"showlegend\":false,\"text\":[\"ID: 19, Pos(1.84,4.11)\"],\"x\":[1.8408105990407735],\"y\":[4.110177801275073],\"type\":\"scatter\"},{\"hoverinfo\":\"text\",\"marker\":{\"opacity\":1,\"size\":1},\"mode\":\"markers\",\"showlegend\":false,\"text\":[\"ID: 20, Pos(1.86,2.61)\"],\"x\":[1.8604514617929373],\"y\":[2.6090264365544584],\"type\":\"scatter\"}],\"layout\":{\"shapes\":[{\"fillcolor\":\"rgba(0, 152, 255, 0.5)\",\"line\":{\"color\":\"rgba(0, 152, 255, 0.5)\"},\"type\":\"circle\",\"x0\":2.9924743390861823,\"x1\":3.3924743390861827,\"xref\":\"x\",\"y0\":4.692096571520693,\"y1\":5.092096571520694,\"yref\":\"y\"},{\"fillcolor\":\"rgba(0, 0, 128, 0.5)\",\"line\":{\"color\":\"rgba(0, 0, 128, 0.5)\"},\"type\":\"circle\",\"x0\":0.9319471522546776,\"x1\":1.3319471522546775,\"xref\":\"x\",\"y0\":3.008734877204572,\"y1\":3.4087348772045725,\"yref\":\"y\"},{\"fillcolor\":\"rgba(255, 89, 0, 0.5)\",\"line\":{\"color\":\"rgba(255, 89, 0, 0.5)\"},\"type\":\"circle\",\"x0\":1.596735676793643,\"x1\":1.9967356767936428,\"xref\":\"x\",\"y0\":1.7979659934145642,\"y1\":2.1979659934145643,\"yref\":\"y\"},{\"fillcolor\":\"rgba(0, 173, 255, 0.5)\",\"line\":{\"color\":\"rgba(0, 173, 255, 0.5)\"},\"type\":\"circle\",\"x0\":2.270337840890988,\"x1\":2.6703378408909884,\"xref\":\"x\",\"y0\":4.661711126300399,\"y1\":5.061711126300399,\"yref\":\"y\"},{\"fillcolor\":\"rgba(135, 255, 112, 0.5)\",\"line\":{\"color\":\"rgba(135, 255, 112, 0.5)\"},\"type\":\"circle\",\"x0\":1.5717711831324266,\"x1\":1.9717711831324265,\"xref\":\"x\",\"y0\":3.083395256590112,\"y1\":3.4833952565901125,\"yref\":\"y\"},{\"fillcolor\":\"rgba(0, 0, 128, 0.5)\",\"line\":{\"color\":\"rgba(0, 0, 128, 0.5)\"},\"type\":\"circle\",\"x0\":1.707258512843602,\"x1\":2.107258512843602,\"xref\":\"x\",\"y0\":4.917813122756807,\"y1\":5.3178131227568075,\"yref\":\"y\"},{\"fillcolor\":\"rgba(0, 0, 128, 0.5)\",\"line\":{\"color\":\"rgba(0, 0, 128, 0.5)\"},\"type\":\"circle\",\"x0\":2.56997655960108,\"x1\":2.9699765596010805,\"xref\":\"x\",\"y0\":5.605092869904271,\"y1\":6.005092869904272,\"yref\":\"y\"},{\"fillcolor\":\"rgba(0, 0, 128, 0.5)\",\"line\":{\"color\":\"rgba(0, 0, 128, 0.5)\"},\"type\":\"circle\",\"x0\":3.0079065516523866,\"x1\":3.407906551652387,\"xref\":\"x\",\"y0\":3.3312555789135834,\"y1\":3.7312555789135837,\"yref\":\"y\"},{\"fillcolor\":\"rgba(0, 144, 255, 0.5)\",\"line\":{\"color\":\"rgba(0, 144, 255, 0.5)\"},\"type\":\"circle\",\"x0\":1.6408105990407735,\"x1\":2.0408105990407734,\"xref\":\"x\",\"y0\":3.910177801275073,\"y1\":4.310177801275073,\"yref\":\"y\"},{\"fillcolor\":\"rgba(255, 178, 0, 0.5)\",\"line\":{\"color\":\"rgba(255, 178, 0, 0.5)\"},\"type\":\"circle\",\"x0\":1.6604514617929373,\"x1\":2.0604514617929373,\"xref\":\"x\",\"y0\":2.4090264365544583,\"y1\":2.8090264365544586,\"yref\":\"y\"},{\"line\":{\"color\":\"white\",\"width\":3},\"type\":\"line\",\"x0\":3.1924743390861825,\"x1\":3.1243544307097126,\"y0\":4.892096571520693,\"y1\":5.080138263926344},{\"line\":{\"color\":\"white\",\"width\":3},\"type\":\"line\",\"x0\":1.1319471522546776,\"x1\":1.1496722428422903,\"y0\":3.2087348772045723,\"y1\":3.4079478817089495},{\"line\":{\"color\":\"black\",\"width\":3},\"type\":\"line\",\"x0\":1.7967356767936429,\"x1\":1.824189602699743,\"y0\":1.9979659934145642,\"y1\":2.196072737248141},{\"line\":{\"color\":\"black\",\"width\":3},\"type\":\"line\",\"x0\":2.470337840890988,\"x1\":2.511507595452101,\"y0\":4.861711126300399,\"y1\":5.057427889275311},{\"line\":{\"color\":\"black\",\"width\":3},\"type\":\"line\",\"x0\":1.7717711831324265,\"x1\":1.8338820869340666,\"y0\":3.2833952565901123,\"y1\":3.473506370491808},{\"line\":{\"color\":\"white\",\"width\":3},\"type\":\"line\",\"x0\":1.907258512843602,\"x1\":1.9353530978423235,\"y0\":5.117813122756807,\"y1\":5.3158300268174195},{\"line\":{\"color\":\"white\",\"width\":3},\"type\":\"line\",\"x0\":2.7699765596010804,\"x1\":2.739209660909371,\"y0\":5.805092869904271,\"y1\":6.002712195742849},{\"line\":{\"color\":\"white\",\"width\":3},\"type\":\"line\",\"x0\":3.207906551652387,\"x1\":3.172806541261202,\"y0\":3.5312555789135835,\"y1\":3.7281514632548736},{\"line\":{\"color\":\"white\",\"width\":3},\"type\":\"line\",\"x0\":1.8408105990407735,\"x1\":1.8777702307229112,\"y0\":4.110177801275073,\"y1\":4.306733100430097},{\"line\":{\"color\":\"black\",\"width\":3},\"type\":\"line\",\"x0\":1.8604514617929373,\"x1\":1.8938515990279332,\"y0\":2.6090264365544584,\"y1\":2.8062177924316454}],\"title\":{\"text\":\"\\u003cb\\u003eMode: Low_knowledge_shortest_path  |  Number of Agents: 10\\u003c\\u002fb\\u003e\",\"x\":0.5}},\"name\":\"50\"},{\"data\":[{\"hoverinfo\":\"name\",\"line\":{\"color\":\"white\"},\"mode\":\"lines\",\"name\":\"Exterior\",\"showlegend\":false,\"x\":[10.1,10.1,15.0,15.0,13.6,13.6,15.0,15.0,13.6,13.6,15.0,15.0,10.1,10.1,9.9,9.9,5.1,5.1,4.9,4.9,0.0,0.0,1.5,1.5,0.0,0.0,1.5,1.5,0.0,0.0,4.9,4.9,5.1,5.1,9.9,9.9,10.1],\"y\":[1.5,0.0,0.0,4.9,4.9,5.1,5.1,9.9,9.9,10.1,10.1,15.0,15.0,13.6,13.6,15.0,15.0,13.6,13.6,15.0,15.0,10.1,10.1,9.9,9.9,5.1,5.1,4.9,4.9,0.0,0.0,1.5,1.5,0.0,0.0,1.5,1.5],\"type\":\"scatter\"},{\"hoverinfo\":\"name\",\"line\":{\"color\":\"white\"},\"mode\":\"lines\",\"name\":\"Obstacle\",\"showlegend\":false,\"x\":[10.1,11.5,11.5,10.1,10.1,9.9,9.9,8.6,8.6,9.9,9.9,10.1,10.1],\"y\":[5.1,5.1,4.9,4.9,3.6,3.6,4.9,4.9,5.1,5.1,6.5,6.5,5.1],\"type\":\"scatter\"},{\"hoverinfo\":\"name\",\"line\":{\"color\":\"white\"},\"mode\":\"lines\",\"name\":\"Obstacle\",\"showlegend\":false,\"x\":[10.1,11.5,11.5,10.1,10.1,9.9,9.9,8.6,8.6,9.9,9.9,10.1,10.1],\"y\":[10.1,10.1,9.9,9.9,8.6,8.6,9.9,9.9,10.1,10.1,11.5,11.5,10.1],\"type\":\"scatter\"},{\"hoverinfo\":\"name\",\"line\":{\"color\":\"white\"},\"mode\":\"lines\",\"name\":\"Obstacle\",\"showlegend\":false,\"x\":[5.1,6.4,6.4,5.1,5.1,4.9,4.9,3.6,3.6,4.9,4.9,5.1,5.1],\"y\":[5.1,5.1,4.9,4.9,3.6,3.6,4.9,4.9,5.1,5.1,6.5,6.5,5.1],\"type\":\"scatter\"},{\"hoverinfo\":\"name\",\"line\":{\"color\":\"white\"},\"mode\":\"lines\",\"name\":\"Obstacle\",\"showlegend\":false,\"x\":[5.1,6.4,6.4,5.1,5.1,4.9,4.9,3.6,3.6,4.9,4.9,5.1,5.1],\"y\":[10.1,10.1,9.9,9.9,8.6,8.6,9.9,9.9,10.1,10.1,11.5,11.5,10.1],\"type\":\"scatter\"},{\"fill\":\"toself\",\"fillcolor\":\"rgb(0, 0, 0)\",\"hoverinfo\":\"name\",\"line\":{\"width\":0},\"mode\":\"lines\",\"name\":\"Risk Area\",\"showlegend\":false,\"x\":[1.5,1.5,3.6,3.6,4.9,4.9,5.0,5.0,4.9,4.9,0.0,0.0,1.5],\"y\":[4.9,5.0,5.0,4.9,4.9,3.6,3.6,1.5,1.5,0.0,0.0,4.9,4.9],\"type\":\"scatter\"},{\"fill\":\"toself\",\"fillcolor\":\"rgb(153, 0, 0)\",\"hoverinfo\":\"name\",\"line\":{\"width\":0},\"mode\":\"lines\",\"name\":\"Risk Area\",\"showlegend\":false,\"x\":[9.9,9.9,5.1,5.1,5.0,5.0,5.1,5.1,6.4,6.4,8.6,8.6,9.9,9.9,10.0,10.0,9.9],\"y\":[1.5,0.0,0.0,1.5,1.5,3.6,3.6,4.9,4.9,5.0,5.0,4.9,4.9,3.6,3.6,1.5,1.5],\"type\":\"scatter\"},{\"fill\":\"toself\",\"fillcolor\":\"rgb(0, 0, 0)\",\"hoverinfo\":\"name\",\"line\":{\"width\":0},\"mode\":\"lines\",\"name\":\"Risk Area\",\"showlegend\":false,\"x\":[13.6,15.0,15.0,10.1,10.1,10.0,10.0,10.1,10.1,11.5,11.5,13.6,13.6],\"y\":[4.9,4.9,0.0,0.0,1.5,1.5,3.6,3.6,4.9,4.9,5.0,5.0,4.9],\"type\":\"scatter\"},{\"fill\":\"toself\",\"fillcolor\":\"rgb(153, 0, 0)\",\"hoverinfo\":\"name\",\"line\":{\"width\":0},\"mode\":\"lines\",\"name\":\"Risk Area\",\"showlegend\":false,\"x\":[13.6,15.0,15.0,13.6,13.6,11.5,11.5,10.1,10.1,10.0,10.0,10.1,10.1,11.5,11.5,13.6,13.6],\"y\":[9.9,9.9,5.1,5.1,5.0,5.0,5.1,5.1,6.5,6.5,8.6,8.6,9.9,9.9,10.0,10.0,9.9],\"type\":\"scatter\"},{\"fill\":\"toself\",\"fillcolor\":\"rgb(153, 0, 0)\",\"hoverinfo\":\"name\",\"line\":{\"width\":0},\"mode\":\"lines\",\"name\":\"Risk Area\",\"showlegend\":false,\"x\":[9.9,9.9,8.6,8.6,6.4,6.4,5.1,5.1,5.0,5.0,5.1,5.1,6.4,6.4,8.6,8.6,9.9,9.9,10.0,10.0,9.9],\"y\":[6.5,5.1,5.1,5.0,5.0,5.1,5.1,6.5,6.5,8.6,8.6,9.9,9.9,10.0,10.0,9.9,9.9,8.6,8.6,6.5,6.5],\"type\":\"scatter\"},{\"fill\":\"toself\",\"fillcolor\":\"rgb(25, 0, 0)\",\"hoverinfo\":\"name\",\"line\":{\"width\":0},\"mode\":\"lines\",\"name\":\"Risk Area\",\"showlegend\":false,\"x\":[4.9,4.9,3.6,3.6,1.5,1.5,0.0,0.0,1.5,1.5,3.6,3.6,4.9,4.9,5.0,5.0,4.9],\"y\":[6.5,5.1,5.1,5.0,5.0,5.1,5.1,9.9,9.9,10.0,10.0,9.9,9.9,8.6,8.6,6.5,6.5],\"type\":\"scatter\"},{\"fill\":\"toself\",\"fillcolor\":\"rgb(0, 0, 0)\",\"hoverinfo\":\"name\",\"line\":{\"width\":0},\"mode\":\"lines\",\"name\":\"Risk Area\",\"showlegend\":false,\"x\":[1.5,0.0,0.0,4.9,4.9,5.0,5.0,4.9,4.9,3.6,3.6,1.5,1.5],\"y\":[10.1,10.1,15.0,15.0,13.6,13.6,11.5,11.5,10.1,10.1,10.0,10.0,10.1],\"type\":\"scatter\"},{\"fill\":\"toself\",\"fillcolor\":\"rgb(0, 0, 0)\",\"hoverinfo\":\"name\",\"line\":{\"width\":0},\"mode\":\"lines\",\"name\":\"Risk Area\",\"showlegend\":false,\"x\":[6.4,5.1,5.1,5.0,5.0,5.1,5.1,9.9,9.9,10.0,10.0,9.9,9.9,8.6,8.6,6.4,6.4],\"y\":[10.1,10.1,11.5,11.5,13.6,13.6,15.0,15.0,13.6,13.6,11.5,11.5,10.1,10.1,10.0,10.0,10.1],\"type\":\"scatter\"},{\"fill\":\"toself\",\"fillcolor\":\"rgb(0, 0, 0)\",\"hoverinfo\":\"name\",\"line\":{\"width\":0},\"mode\":\"lines\",\"name\":\"Risk Area\",\"showlegend\":false,\"x\":[10.1,10.1,15.0,15.0,13.6,13.6,11.5,11.5,10.1,10.1,10.0,10.0,10.1],\"y\":[13.6,15.0,15.0,10.1,10.1,10.0,10.0,10.1,10.1,11.5,11.5,13.6,13.6],\"type\":\"scatter\"},{\"hoverinfo\":\"text\",\"marker\":{\"opacity\":1,\"size\":1},\"mode\":\"markers\",\"showlegend\":false,\"text\":[\"ID: 11, Pos(3.17,6.13)\"],\"x\":[3.169346874022093],\"y\":[6.134622567995237],\"type\":\"scatter\"},{\"hoverinfo\":\"text\",\"marker\":{\"opacity\":1,\"size\":1},\"mode\":\"markers\",\"showlegend\":false,\"text\":[\"ID: 12, Pos(1.51,4.57)\"],\"x\":[1.5129903369386641],\"y\":[4.5652117517639255],\"type\":\"scatter\"},{\"hoverinfo\":\"text\",\"marker\":{\"opacity\":1,\"size\":1},\"mode\":\"markers\",\"showlegend\":false,\"text\":[\"ID: 13, Pos(1.88,2.61)\"],\"x\":[1.8764564055008617],\"y\":[2.6101617800386396],\"type\":\"scatter\"},{\"hoverinfo\":\"text\",\"marker\":{\"opacity\":1,\"size\":1},\"mode\":\"markers\",\"showlegend\":false,\"text\":[\"ID: 14, Pos(2.63,6.00)\"],\"x\":[2.6290219550450042],\"y\":[5.997365711245494],\"type\":\"scatter\"},{\"hoverinfo\":\"text\",\"marker\":{\"opacity\":1,\"size\":1},\"mode\":\"markers\",\"showlegend\":false,\"text\":[\"ID: 15, Pos(2.10,4.33)\"],\"x\":[2.1049194680919983],\"y\":[4.332127049226378],\"type\":\"scatter\"},{\"hoverinfo\":\"text\",\"marker\":{\"opacity\":1,\"size\":1},\"mode\":\"markers\",\"showlegend\":false,\"text\":[\"ID: 16, Pos(2.39,6.55)\"],\"x\":[2.3885846398659933],\"y\":[6.548635270077251],\"type\":\"scatter\"},{\"hoverinfo\":\"text\",\"marker\":{\"opacity\":1,\"size\":1},\"mode\":\"markers\",\"showlegend\":false,\"text\":[\"ID: 17, Pos(4.04,6.46)\"],\"x\":[4.042368098973047],\"y\":[6.456748800889543],\"type\":\"scatter\"},{\"hoverinfo\":\"text\",\"marker\":{\"opacity\":1,\"size\":1},\"mode\":\"markers\",\"showlegend\":false,\"text\":[\"ID: 18, Pos(2.95,5.00)\"],\"x\":[2.949213019143997],\"y\":[4.996325586157081],\"type\":\"scatter\"},{\"hoverinfo\":\"text\",\"marker\":{\"opacity\":1,\"size\":1},\"mode\":\"markers\",\"showlegend\":false,\"text\":[\"ID: 19, Pos(2.09,5.35)\"],\"x\":[2.0895096493067054],\"y\":[5.3505055900971685],\"type\":\"scatter\"},{\"hoverinfo\":\"text\",\"marker\":{\"opacity\":1,\"size\":1},\"mode\":\"markers\",\"showlegend\":false,\"text\":[\"ID: 20, Pos(1.97,3.42)\"],\"x\":[1.9707389408544385],\"y\":[3.4217785382647103],\"type\":\"scatter\"}],\"layout\":{\"shapes\":[{\"fillcolor\":\"rgba(0, 148, 255, 0.5)\",\"line\":{\"color\":\"rgba(0, 148, 255, 0.5)\"},\"type\":\"circle\",\"x0\":2.9693468740220927,\"x1\":3.369346874022093,\"xref\":\"x\",\"y0\":5.934622567995237,\"y1\":6.334622567995237,\"yref\":\"y\"},{\"fillcolor\":\"rgba(138, 255, 109, 0.5)\",\"line\":{\"color\":\"rgba(138, 255, 109, 0.5)\"},\"type\":\"circle\",\"x0\":1.3129903369386642,\"x1\":1.712990336938664,\"xref\":\"x\",\"y0\":4.365211751763925,\"y1\":4.765211751763926,\"yref\":\"y\"},{\"fillcolor\":\"rgba(151, 255, 96, 0.5)\",\"line\":{\"color\":\"rgba(151, 255, 96, 0.5)\"},\"type\":\"circle\",\"x0\":1.6764564055008617,\"x1\":2.0764564055008616,\"xref\":\"x\",\"y0\":2.4101617800386395,\"y1\":2.81016178003864,\"yref\":\"y\"},{\"fillcolor\":\"rgba(255, 26, 0, 0.5)\",\"line\":{\"color\":\"rgba(255, 26, 0, 0.5)\"},\"type\":\"circle\",\"x0\":2.429021955045004,\"x1\":2.8290219550450044,\"xref\":\"x\",\"y0\":5.797365711245494,\"y1\":6.197365711245494,\"yref\":\"y\"},{\"fillcolor\":\"rgba(0, 24, 255, 0.5)\",\"line\":{\"color\":\"rgba(0, 24, 255, 0.5)\"},\"type\":\"circle\",\"x0\":1.9049194680919983,\"x1\":2.3049194680919984,\"xref\":\"x\",\"y0\":4.132127049226378,\"y1\":4.5321270492263785,\"yref\":\"y\"},{\"fillcolor\":\"rgba(0, 0, 132, 0.5)\",\"line\":{\"color\":\"rgba(0, 0, 132, 0.5)\"},\"type\":\"circle\",\"x0\":2.188584639865993,\"x1\":2.5885846398659935,\"xref\":\"x\",\"y0\":6.348635270077251,\"y1\":6.748635270077251,\"yref\":\"y\"},{\"fillcolor\":\"rgba(0, 0, 128, 0.5)\",\"line\":{\"color\":\"rgba(0, 0, 128, 0.5)\"},\"type\":\"circle\",\"x0\":3.842368098973047,\"x1\":4.2423680989730475,\"xref\":\"x\",\"y0\":6.256748800889543,\"y1\":6.6567488008895435,\"yref\":\"y\"},{\"fillcolor\":\"rgba(0, 80, 255, 0.5)\",\"line\":{\"color\":\"rgba(0, 80, 255, 0.5)\"},\"type\":\"circle\",\"x0\":2.7492130191439967,\"x1\":3.149213019143997,\"xref\":\"x\",\"y0\":4.796325586157081,\"y1\":5.196325586157081,\"yref\":\"y\"},{\"fillcolor\":\"rgba(0, 0, 237, 0.5)\",\"line\":{\"color\":\"rgba(0, 0, 237, 0.5)\"},\"type\":\"circle\",\"x0\":1.8895096493067054,\"x1\":2.2895096493067055,\"xref\":\"x\",\"y0\":5.150505590097168,\"y1\":5.550505590097169,\"yref\":\"y\"},{\"fillcolor\":\"rgba(25, 255, 222, 0.5)\",\"line\":{\"color\":\"rgba(25, 255, 222, 0.5)\"},\"type\":\"circle\",\"x0\":1.7707389408544385,\"x1\":2.1707389408544384,\"xref\":\"x\",\"y0\":3.22177853826471,\"y1\":3.6217785382647105,\"yref\":\"y\"},{\"line\":{\"color\":\"white\",\"width\":3},\"type\":\"line\",\"x0\":3.169346874022093,\"x1\":3.1884550078048726,\"y0\":6.134622567995237,\"y1\":6.333707673473621},{\"line\":{\"color\":\"black\",\"width\":3},\"type\":\"line\",\"x0\":1.5129903369386641,\"x1\":1.669460155776676,\"y0\":4.5652117517639255,\"y1\":4.689779788566308},{\"line\":{\"color\":\"black\",\"width\":3},\"type\":\"line\",\"x0\":1.8764564055008617,\"x1\":1.9018493030087782,\"y0\":2.6101617800386396,\"y1\":2.808543232690223},{\"line\":{\"color\":\"white\",\"width\":3},\"type\":\"line\",\"x0\":2.6290219550450042,\"x1\":2.824436904677388,\"y0\":5.997365711245494,\"y1\":5.95478640335806},{\"line\":{\"color\":\"white\",\"width\":3},\"type\":\"line\",\"x0\":2.1049194680919983,\"x1\":2.1757631837442553,\"y0\":4.332127049226378,\"y1\":4.519159581029223},{\"line\":{\"color\":\"white\",\"width\":3},\"type\":\"line\",\"x0\":2.3885846398659933,\"x1\":2.5578991353216454,\"y0\":6.548635270077251,\"y1\":6.655089962921663},{\"line\":{\"color\":\"white\",\"width\":3},\"type\":\"line\",\"x0\":4.042368098973047,\"x1\":4.233789015281351,\"y0\":6.456748800889543,\"y1\":6.514697336675095},{\"line\":{\"color\":\"white\",\"width\":3},\"type\":\"line\",\"x0\":2.949213019143997,\"x1\":2.916255016446567,\"y0\":4.996325586157081,\"y1\":5.193591320784756},{\"line\":{\"color\":\"white\",\"width\":3},\"type\":\"line\",\"x0\":2.0895096493067054,\"x1\":2.1224845152186735,\"y0\":5.3505055900971685,\"y1\":5.547768506576896},{\"line\":{\"color\":\"black\",\"width\":3},\"type\":\"line\",\"x0\":1.9707389408544385,\"x1\":1.9963875672389053,\"y0\":3.4217785382647103,\"y1\":3.620127089972531}],\"title\":{\"text\":\"\\u003cb\\u003eMode: Low_knowledge_shortest_path  |  Number of Agents: 10\\u003c\\u002fb\\u003e\",\"x\":0.5}},\"name\":\"100\"},{\"data\":[{\"hoverinfo\":\"name\",\"line\":{\"color\":\"white\"},\"mode\":\"lines\",\"name\":\"Exterior\",\"showlegend\":false,\"x\":[10.1,10.1,15.0,15.0,13.6,13.6,15.0,15.0,13.6,13.6,15.0,15.0,10.1,10.1,9.9,9.9,5.1,5.1,4.9,4.9,0.0,0.0,1.5,1.5,0.0,0.0,1.5,1.5,0.0,0.0,4.9,4.9,5.1,5.1,9.9,9.9,10.1],\"y\":[1.5,0.0,0.0,4.9,4.9,5.1,5.1,9.9,9.9,10.1,10.1,15.0,15.0,13.6,13.6,15.0,15.0,13.6,13.6,15.0,15.0,10.1,10.1,9.9,9.9,5.1,5.1,4.9,4.9,0.0,0.0,1.5,1.5,0.0,0.0,1.5,1.5],\"type\":\"scatter\"},{\"hoverinfo\":\"name\",\"line\":{\"color\":\"white\"},\"mode\":\"lines\",\"name\":\"Obstacle\",\"showlegend\":false,\"x\":[10.1,11.5,11.5,10.1,10.1,9.9,9.9,8.6,8.6,9.9,9.9,10.1,10.1],\"y\":[5.1,5.1,4.9,4.9,3.6,3.6,4.9,4.9,5.1,5.1,6.5,6.5,5.1],\"type\":\"scatter\"},{\"hoverinfo\":\"name\",\"line\":{\"color\":\"white\"},\"mode\":\"lines\",\"name\":\"Obstacle\",\"showlegend\":false,\"x\":[10.1,11.5,11.5,10.1,10.1,9.9,9.9,8.6,8.6,9.9,9.9,10.1,10.1],\"y\":[10.1,10.1,9.9,9.9,8.6,8.6,9.9,9.9,10.1,10.1,11.5,11.5,10.1],\"type\":\"scatter\"},{\"hoverinfo\":\"name\",\"line\":{\"color\":\"white\"},\"mode\":\"lines\",\"name\":\"Obstacle\",\"showlegend\":false,\"x\":[5.1,6.4,6.4,5.1,5.1,4.9,4.9,3.6,3.6,4.9,4.9,5.1,5.1],\"y\":[5.1,5.1,4.9,4.9,3.6,3.6,4.9,4.9,5.1,5.1,6.5,6.5,5.1],\"type\":\"scatter\"},{\"hoverinfo\":\"name\",\"line\":{\"color\":\"white\"},\"mode\":\"lines\",\"name\":\"Obstacle\",\"showlegend\":false,\"x\":[5.1,6.4,6.4,5.1,5.1,4.9,4.9,3.6,3.6,4.9,4.9,5.1,5.1],\"y\":[10.1,10.1,9.9,9.9,8.6,8.6,9.9,9.9,10.1,10.1,11.5,11.5,10.1],\"type\":\"scatter\"},{\"fill\":\"toself\",\"fillcolor\":\"rgb(0, 0, 0)\",\"hoverinfo\":\"name\",\"line\":{\"width\":0},\"mode\":\"lines\",\"name\":\"Risk Area\",\"showlegend\":false,\"x\":[1.5,1.5,3.6,3.6,4.9,4.9,5.0,5.0,4.9,4.9,0.0,0.0,1.5],\"y\":[4.9,5.0,5.0,4.9,4.9,3.6,3.6,1.5,1.5,0.0,0.0,4.9,4.9],\"type\":\"scatter\"},{\"fill\":\"toself\",\"fillcolor\":\"rgb(153, 0, 0)\",\"hoverinfo\":\"name\",\"line\":{\"width\":0},\"mode\":\"lines\",\"name\":\"Risk Area\",\"showlegend\":false,\"x\":[9.9,9.9,5.1,5.1,5.0,5.0,5.1,5.1,6.4,6.4,8.6,8.6,9.9,9.9,10.0,10.0,9.9],\"y\":[1.5,0.0,0.0,1.5,1.5,3.6,3.6,4.9,4.9,5.0,5.0,4.9,4.9,3.6,3.6,1.5,1.5],\"type\":\"scatter\"},{\"fill\":\"toself\",\"fillcolor\":\"rgb(0, 0, 0)\",\"hoverinfo\":\"name\",\"line\":{\"width\":0},\"mode\":\"lines\",\"name\":\"Risk Area\",\"showlegend\":false,\"x\":[13.6,15.0,15.0,10.1,10.1,10.0,10.0,10.1,10.1,11.5,11.5,13.6,13.6],\"y\":[4.9,4.9,0.0,0.0,1.5,1.5,3.6,3.6,4.9,4.9,5.0,5.0,4.9],\"type\":\"scatter\"},{\"fill\":\"toself\",\"fillcolor\":\"rgb(153, 0, 0)\",\"hoverinfo\":\"name\",\"line\":{\"width\":0},\"mode\":\"lines\",\"name\":\"Risk Area\",\"showlegend\":false,\"x\":[13.6,15.0,15.0,13.6,13.6,11.5,11.5,10.1,10.1,10.0,10.0,10.1,10.1,11.5,11.5,13.6,13.6],\"y\":[9.9,9.9,5.1,5.1,5.0,5.0,5.1,5.1,6.5,6.5,8.6,8.6,9.9,9.9,10.0,10.0,9.9],\"type\":\"scatter\"},{\"fill\":\"toself\",\"fillcolor\":\"rgb(153, 0, 0)\",\"hoverinfo\":\"name\",\"line\":{\"width\":0},\"mode\":\"lines\",\"name\":\"Risk Area\",\"showlegend\":false,\"x\":[9.9,9.9,8.6,8.6,6.4,6.4,5.1,5.1,5.0,5.0,5.1,5.1,6.4,6.4,8.6,8.6,9.9,9.9,10.0,10.0,9.9],\"y\":[6.5,5.1,5.1,5.0,5.0,5.1,5.1,6.5,6.5,8.6,8.6,9.9,9.9,10.0,10.0,9.9,9.9,8.6,8.6,6.5,6.5],\"type\":\"scatter\"},{\"fill\":\"toself\",\"fillcolor\":\"rgb(25, 0, 0)\",\"hoverinfo\":\"name\",\"line\":{\"width\":0},\"mode\":\"lines\",\"name\":\"Risk Area\",\"showlegend\":false,\"x\":[4.9,4.9,3.6,3.6,1.5,1.5,0.0,0.0,1.5,1.5,3.6,3.6,4.9,4.9,5.0,5.0,4.9],\"y\":[6.5,5.1,5.1,5.0,5.0,5.1,5.1,9.9,9.9,10.0,10.0,9.9,9.9,8.6,8.6,6.5,6.5],\"type\":\"scatter\"},{\"fill\":\"toself\",\"fillcolor\":\"rgb(0, 0, 0)\",\"hoverinfo\":\"name\",\"line\":{\"width\":0},\"mode\":\"lines\",\"name\":\"Risk Area\",\"showlegend\":false,\"x\":[1.5,0.0,0.0,4.9,4.9,5.0,5.0,4.9,4.9,3.6,3.6,1.5,1.5],\"y\":[10.1,10.1,15.0,15.0,13.6,13.6,11.5,11.5,10.1,10.1,10.0,10.0,10.1],\"type\":\"scatter\"},{\"fill\":\"toself\",\"fillcolor\":\"rgb(0, 0, 0)\",\"hoverinfo\":\"name\",\"line\":{\"width\":0},\"mode\":\"lines\",\"name\":\"Risk Area\",\"showlegend\":false,\"x\":[6.4,5.1,5.1,5.0,5.0,5.1,5.1,9.9,9.9,10.0,10.0,9.9,9.9,8.6,8.6,6.4,6.4],\"y\":[10.1,10.1,11.5,11.5,13.6,13.6,15.0,15.0,13.6,13.6,11.5,11.5,10.1,10.1,10.0,10.0,10.1],\"type\":\"scatter\"},{\"fill\":\"toself\",\"fillcolor\":\"rgb(0, 0, 0)\",\"hoverinfo\":\"name\",\"line\":{\"width\":0},\"mode\":\"lines\",\"name\":\"Risk Area\",\"showlegend\":false,\"x\":[10.1,10.1,15.0,15.0,13.6,13.6,11.5,11.5,10.1,10.1,10.0,10.0,10.1],\"y\":[13.6,15.0,15.0,10.1,10.1,10.0,10.0,10.1,10.1,11.5,11.5,13.6,13.6],\"type\":\"scatter\"},{\"hoverinfo\":\"text\",\"marker\":{\"opacity\":1,\"size\":1},\"mode\":\"markers\",\"showlegend\":false,\"text\":[\"ID: 11, Pos(4.46,6.53)\"],\"x\":[4.460561257802686],\"y\":[6.528052304549124],\"type\":\"scatter\"},{\"hoverinfo\":\"text\",\"marker\":{\"opacity\":1,\"size\":1},\"mode\":\"markers\",\"showlegend\":false,\"text\":[\"ID: 12, Pos(1.87,4.94)\"],\"x\":[1.8690767091094989],\"y\":[4.9396852057285],\"type\":\"scatter\"},{\"hoverinfo\":\"text\",\"marker\":{\"opacity\":1,\"size\":1},\"mode\":\"markers\",\"showlegend\":false,\"text\":[\"ID: 13, Pos(2.01,3.66)\"],\"x\":[2.010489144341684],\"y\":[3.6628767569526293],\"type\":\"scatter\"},{\"hoverinfo\":\"text\",\"marker\":{\"opacity\":1,\"size\":1},\"mode\":\"markers\",\"showlegend\":false,\"text\":[\"ID: 14, Pos(3.46,6.27)\"],\"x\":[3.4582386212378515],\"y\":[6.268177832015486],\"type\":\"scatter\"},{\"hoverinfo\":\"text\",\"marker\":{\"opacity\":1,\"size\":1},\"mode\":\"markers\",\"showlegend\":false,\"text\":[\"ID: 15, Pos(2.30,5.49)\"],\"x\":[2.302506793123404],\"y\":[5.494004129033932],\"type\":\"scatter\"},{\"hoverinfo\":\"text\",\"marker\":{\"opacity\":1,\"size\":1},\"mode\":\"markers\",\"showlegend\":false,\"text\":[\"ID: 16, Pos(3.92,7.01)\"],\"x\":[3.915788197522227],\"y\":[7.007786501404121],\"type\":\"scatter\"},{\"hoverinfo\":\"text\",\"marker\":{\"opacity\":1,\"size\":1},\"mode\":\"markers\",\"showlegend\":false,\"text\":[\"ID: 17, Pos(5.48,7.07)\"],\"x\":[5.482486188577425],\"y\":[7.065613188911709],\"type\":\"scatter\"},{\"hoverinfo\":\"text\",\"marker\":{\"opacity\":1,\"size\":1},\"mode\":\"markers\",\"showlegend\":false,\"text\":[\"ID: 18, Pos(2.92,5.77)\"],\"x\":[2.916227348329541],\"y\":[5.769614253980268],\"type\":\"scatter\"},{\"hoverinfo\":\"text\",\"marker\":{\"opacity\":1,\"size\":1},\"mode\":\"markers\",\"showlegend\":false,\"text\":[\"ID: 19, Pos(2.60,6.25)\"],\"x\":[2.596182737209192],\"y\":[6.246307460027647],\"type\":\"scatter\"},{\"hoverinfo\":\"text\",\"marker\":{\"opacity\":1,\"size\":1},\"mode\":\"markers\",\"showlegend\":false,\"text\":[\"ID: 20, Pos(2.36,4.64)\"],\"x\":[2.3641282387484934],\"y\":[4.640073439144744],\"type\":\"scatter\"}],\"layout\":{\"shapes\":[{\"fillcolor\":\"rgba(157, 255, 90, 0.5)\",\"line\":{\"color\":\"rgba(157, 255, 90, 0.5)\"},\"type\":\"circle\",\"x0\":4.260561257802686,\"x1\":4.660561257802686,\"xref\":\"x\",\"y0\":6.328052304549124,\"y1\":6.7280523045491245,\"yref\":\"y\"},{\"fillcolor\":\"rgba(241, 252, 6, 0.5)\",\"line\":{\"color\":\"rgba(241, 252, 6, 0.5)\"},\"type\":\"circle\",\"x0\":1.669076709109499,\"x1\":2.069076709109499,\"xref\":\"x\",\"y0\":4.7396852057285,\"y1\":5.1396852057285,\"yref\":\"y\"},{\"fillcolor\":\"rgba(0, 101, 255, 0.5)\",\"line\":{\"color\":\"rgba(0, 101, 255, 0.5)\"},\"type\":\"circle\",\"x0\":1.8104891443416842,\"x1\":2.2104891443416843,\"xref\":\"x\",\"y0\":3.462876756952629,\"y1\":3.8628767569526294,\"yref\":\"y\"},{\"fillcolor\":\"rgba(0, 212, 255, 0.5)\",\"line\":{\"color\":\"rgba(0, 212, 255, 0.5)\"},\"type\":\"circle\",\"x0\":3.2582386212378514,\"x1\":3.6582386212378517,\"xref\":\"x\",\"y0\":6.068177832015486,\"y1\":6.468177832015487,\"yref\":\"y\"},{\"fillcolor\":\"rgba(157, 255, 90, 0.5)\",\"line\":{\"color\":\"rgba(157, 255, 90, 0.5)\"},\"type\":\"circle\",\"x0\":2.102506793123404,\"x1\":2.502506793123404,\"xref\":\"x\",\"y0\":5.294004129033932,\"y1\":5.6940041290339325,\"yref\":\"y\"},{\"fillcolor\":\"rgba(0, 220, 254, 0.5)\",\"line\":{\"color\":\"rgba(0, 220, 254, 0.5)\"},\"type\":\"circle\",\"x0\":3.715788197522227,\"x1\":4.115788197522227,\"xref\":\"x\",\"y0\":6.807786501404121,\"y1\":7.207786501404121,\"yref\":\"y\"},{\"fillcolor\":\"rgba(128, 255, 119, 0.5)\",\"line\":{\"color\":\"rgba(128, 255, 119, 0.5)\"},\"type\":\"circle\",\"x0\":5.282486188577425,\"x1\":5.682486188577426,\"xref\":\"x\",\"y0\":6.865613188911709,\"y1\":7.2656131889117095,\"yref\":\"y\"},{\"fillcolor\":\"rgba(0, 160, 255, 0.5)\",\"line\":{\"color\":\"rgba(0, 160, 255, 0.5)\"},\"type\":\"circle\",\"x0\":2.7162273483295407,\"x1\":3.116227348329541,\"xref\":\"x\",\"y0\":5.5696142539802675,\"y1\":5.969614253980268,\"yref\":\"y\"},{\"fillcolor\":\"rgba(0, 125, 255, 0.5)\",\"line\":{\"color\":\"rgba(0, 125, 255, 0.5)\"},\"type\":\"circle\",\"x0\":2.396182737209192,\"x1\":2.7961827372091923,\"xref\":\"x\",\"y0\":6.046307460027647,\"y1\":6.446307460027647,\"yref\":\"y\"},{\"fillcolor\":\"rgba(0, 0, 128, 0.5)\",\"line\":{\"color\":\"rgba(0, 0, 128, 0.5)\"},\"type\":\"circle\",\"x0\":2.1641282387484932,\"x1\":2.5641282387484936,\"xref\":\"x\",\"y0\":4.440073439144744,\"y1\":4.840073439144744,\"yref\":\"y\"},{\"line\":{\"color\":\"black\",\"width\":3},\"type\":\"line\",\"x0\":4.460561257802686,\"x1\":4.650896432262699,\"y0\":6.528052304549124,\"y1\":6.589473159014661},{\"line\":{\"color\":\"black\",\"width\":3},\"type\":\"line\",\"x0\":1.8690767091094989,\"x1\":1.905924170095565,\"y0\":4.9396852057285,\"y1\":5.136261563968448},{\"line\":{\"color\":\"white\",\"width\":3},\"type\":\"line\",\"x0\":2.010489144341684,\"x1\":2.0356245576447707,\"y0\":3.6628767569526293,\"y1\":3.861290997868152},{\"line\":{\"color\":\"black\",\"width\":3},\"type\":\"line\",\"x0\":3.4582386212378515,\"x1\":3.6485984210377502,\"y0\":6.268177832015486,\"y1\":6.329522323374878},{\"line\":{\"color\":\"black\",\"width\":3},\"type\":\"line\",\"x0\":2.302506793123404,\"x1\":2.3019461188049415,\"y0\":5.494004129033932,\"y1\":5.69400334314316},{\"line\":{\"color\":\"black\",\"width\":3},\"type\":\"line\",\"x0\":3.915788197522227,\"x1\":4.110299903708413,\"y0\":7.007786501404121,\"y1\":7.054318169723006},{\"line\":{\"color\":\"black\",\"width\":3},\"type\":\"line\",\"x0\":5.482486188577425,\"x1\":5.67796829526995,\"y0\":7.065613188911709,\"y1\":7.107883106856418},{\"line\":{\"color\":\"white\",\"width\":3},\"type\":\"line\",\"x0\":2.916227348329541,\"x1\":2.950036213664929,\"y0\":5.769614253980268,\"y1\":5.966735943869366},{\"line\":{\"color\":\"white\",\"width\":3},\"type\":\"line\",\"x0\":2.596182737209192,\"x1\":2.744168830157722,\"y0\":6.246307460027647,\"y1\":6.380844132700302},{\"line\":{\"color\":\"white\",\"width\":3},\"type\":\"line\",\"x0\":2.3641282387484934,\"x1\":2.4632886004248884,\"y0\":4.640073439144744,\"y1\":4.813760579348636}],\"title\":{\"text\":\"\\u003cb\\u003eMode: Low_knowledge_shortest_path  |  Number of Agents: 10\\u003c\\u002fb\\u003e\",\"x\":0.5}},\"name\":\"150\"},{\"data\":[{\"hoverinfo\":\"name\",\"line\":{\"color\":\"white\"},\"mode\":\"lines\",\"name\":\"Exterior\",\"showlegend\":false,\"x\":[10.1,10.1,15.0,15.0,13.6,13.6,15.0,15.0,13.6,13.6,15.0,15.0,10.1,10.1,9.9,9.9,5.1,5.1,4.9,4.9,0.0,0.0,1.5,1.5,0.0,0.0,1.5,1.5,0.0,0.0,4.9,4.9,5.1,5.1,9.9,9.9,10.1],\"y\":[1.5,0.0,0.0,4.9,4.9,5.1,5.1,9.9,9.9,10.1,10.1,15.0,15.0,13.6,13.6,15.0,15.0,13.6,13.6,15.0,15.0,10.1,10.1,9.9,9.9,5.1,5.1,4.9,4.9,0.0,0.0,1.5,1.5,0.0,0.0,1.5,1.5],\"type\":\"scatter\"},{\"hoverinfo\":\"name\",\"line\":{\"color\":\"white\"},\"mode\":\"lines\",\"name\":\"Obstacle\",\"showlegend\":false,\"x\":[10.1,11.5,11.5,10.1,10.1,9.9,9.9,8.6,8.6,9.9,9.9,10.1,10.1],\"y\":[5.1,5.1,4.9,4.9,3.6,3.6,4.9,4.9,5.1,5.1,6.5,6.5,5.1],\"type\":\"scatter\"},{\"hoverinfo\":\"name\",\"line\":{\"color\":\"white\"},\"mode\":\"lines\",\"name\":\"Obstacle\",\"showlegend\":false,\"x\":[10.1,11.5,11.5,10.1,10.1,9.9,9.9,8.6,8.6,9.9,9.9,10.1,10.1],\"y\":[10.1,10.1,9.9,9.9,8.6,8.6,9.9,9.9,10.1,10.1,11.5,11.5,10.1],\"type\":\"scatter\"},{\"hoverinfo\":\"name\",\"line\":{\"color\":\"white\"},\"mode\":\"lines\",\"name\":\"Obstacle\",\"showlegend\":false,\"x\":[5.1,6.4,6.4,5.1,5.1,4.9,4.9,3.6,3.6,4.9,4.9,5.1,5.1],\"y\":[5.1,5.1,4.9,4.9,3.6,3.6,4.9,4.9,5.1,5.1,6.5,6.5,5.1],\"type\":\"scatter\"},{\"hoverinfo\":\"name\",\"line\":{\"color\":\"white\"},\"mode\":\"lines\",\"name\":\"Obstacle\",\"showlegend\":false,\"x\":[5.1,6.4,6.4,5.1,5.1,4.9,4.9,3.6,3.6,4.9,4.9,5.1,5.1],\"y\":[10.1,10.1,9.9,9.9,8.6,8.6,9.9,9.9,10.1,10.1,11.5,11.5,10.1],\"type\":\"scatter\"},{\"fill\":\"toself\",\"fillcolor\":\"rgb(0, 0, 0)\",\"hoverinfo\":\"name\",\"line\":{\"width\":0},\"mode\":\"lines\",\"name\":\"Risk Area\",\"showlegend\":false,\"x\":[1.5,1.5,3.6,3.6,4.9,4.9,5.0,5.0,4.9,4.9,0.0,0.0,1.5],\"y\":[4.9,5.0,5.0,4.9,4.9,3.6,3.6,1.5,1.5,0.0,0.0,4.9,4.9],\"type\":\"scatter\"},{\"fill\":\"toself\",\"fillcolor\":\"rgb(153, 0, 0)\",\"hoverinfo\":\"name\",\"line\":{\"width\":0},\"mode\":\"lines\",\"name\":\"Risk Area\",\"showlegend\":false,\"x\":[9.9,9.9,5.1,5.1,5.0,5.0,5.1,5.1,6.4,6.4,8.6,8.6,9.9,9.9,10.0,10.0,9.9],\"y\":[1.5,0.0,0.0,1.5,1.5,3.6,3.6,4.9,4.9,5.0,5.0,4.9,4.9,3.6,3.6,1.5,1.5],\"type\":\"scatter\"},{\"fill\":\"toself\",\"fillcolor\":\"rgb(0, 0, 0)\",\"hoverinfo\":\"name\",\"line\":{\"width\":0},\"mode\":\"lines\",\"name\":\"Risk Area\",\"showlegend\":false,\"x\":[13.6,15.0,15.0,10.1,10.1,10.0,10.0,10.1,10.1,11.5,11.5,13.6,13.6],\"y\":[4.9,4.9,0.0,0.0,1.5,1.5,3.6,3.6,4.9,4.9,5.0,5.0,4.9],\"type\":\"scatter\"},{\"fill\":\"toself\",\"fillcolor\":\"rgb(153, 0, 0)\",\"hoverinfo\":\"name\",\"line\":{\"width\":0},\"mode\":\"lines\",\"name\":\"Risk Area\",\"showlegend\":false,\"x\":[13.6,15.0,15.0,13.6,13.6,11.5,11.5,10.1,10.1,10.0,10.0,10.1,10.1,11.5,11.5,13.6,13.6],\"y\":[9.9,9.9,5.1,5.1,5.0,5.0,5.1,5.1,6.5,6.5,8.6,8.6,9.9,9.9,10.0,10.0,9.9],\"type\":\"scatter\"},{\"fill\":\"toself\",\"fillcolor\":\"rgb(153, 0, 0)\",\"hoverinfo\":\"name\",\"line\":{\"width\":0},\"mode\":\"lines\",\"name\":\"Risk Area\",\"showlegend\":false,\"x\":[9.9,9.9,8.6,8.6,6.4,6.4,5.1,5.1,5.0,5.0,5.1,5.1,6.4,6.4,8.6,8.6,9.9,9.9,10.0,10.0,9.9],\"y\":[6.5,5.1,5.1,5.0,5.0,5.1,5.1,6.5,6.5,8.6,8.6,9.9,9.9,10.0,10.0,9.9,9.9,8.6,8.6,6.5,6.5],\"type\":\"scatter\"},{\"fill\":\"toself\",\"fillcolor\":\"rgb(25, 0, 0)\",\"hoverinfo\":\"name\",\"line\":{\"width\":0},\"mode\":\"lines\",\"name\":\"Risk Area\",\"showlegend\":false,\"x\":[4.9,4.9,3.6,3.6,1.5,1.5,0.0,0.0,1.5,1.5,3.6,3.6,4.9,4.9,5.0,5.0,4.9],\"y\":[6.5,5.1,5.1,5.0,5.0,5.1,5.1,9.9,9.9,10.0,10.0,9.9,9.9,8.6,8.6,6.5,6.5],\"type\":\"scatter\"},{\"fill\":\"toself\",\"fillcolor\":\"rgb(0, 0, 0)\",\"hoverinfo\":\"name\",\"line\":{\"width\":0},\"mode\":\"lines\",\"name\":\"Risk Area\",\"showlegend\":false,\"x\":[1.5,0.0,0.0,4.9,4.9,5.0,5.0,4.9,4.9,3.6,3.6,1.5,1.5],\"y\":[10.1,10.1,15.0,15.0,13.6,13.6,11.5,11.5,10.1,10.1,10.0,10.0,10.1],\"type\":\"scatter\"},{\"fill\":\"toself\",\"fillcolor\":\"rgb(0, 0, 0)\",\"hoverinfo\":\"name\",\"line\":{\"width\":0},\"mode\":\"lines\",\"name\":\"Risk Area\",\"showlegend\":false,\"x\":[6.4,5.1,5.1,5.0,5.0,5.1,5.1,9.9,9.9,10.0,10.0,9.9,9.9,8.6,8.6,6.4,6.4],\"y\":[10.1,10.1,11.5,11.5,13.6,13.6,15.0,15.0,13.6,13.6,11.5,11.5,10.1,10.1,10.0,10.0,10.1],\"type\":\"scatter\"},{\"fill\":\"toself\",\"fillcolor\":\"rgb(0, 0, 0)\",\"hoverinfo\":\"name\",\"line\":{\"width\":0},\"mode\":\"lines\",\"name\":\"Risk Area\",\"showlegend\":false,\"x\":[10.1,10.1,15.0,15.0,13.6,13.6,11.5,11.5,10.1,10.1,10.0,10.0,10.1],\"y\":[13.6,15.0,15.0,10.1,10.1,10.0,10.0,10.1,10.1,11.5,11.5,13.6,13.6],\"type\":\"scatter\"},{\"hoverinfo\":\"text\",\"marker\":{\"opacity\":1,\"size\":1},\"mode\":\"markers\",\"showlegend\":false,\"text\":[\"ID: 11, Pos(4.12,7.61)\"],\"x\":[4.117679143219133],\"y\":[7.614528481578418],\"type\":\"scatter\"},{\"hoverinfo\":\"text\",\"marker\":{\"opacity\":1,\"size\":1},\"mode\":\"markers\",\"showlegend\":false,\"text\":[\"ID: 12, Pos(1.91,5.81)\"],\"x\":[1.90559043698339],\"y\":[5.807746972682664],\"type\":\"scatter\"},{\"hoverinfo\":\"text\",\"marker\":{\"opacity\":1,\"size\":1},\"mode\":\"markers\",\"showlegend\":false,\"text\":[\"ID: 13, Pos(2.08,4.88)\"],\"x\":[2.0800810483562553],\"y\":[4.878552870326194],\"type\":\"scatter\"},{\"hoverinfo\":\"text\",\"marker\":{\"opacity\":1,\"size\":1},\"mode\":\"markers\",\"showlegend\":false,\"text\":[\"ID: 14, Pos(3.34,7.58)\"],\"x\":[3.335859629334359],\"y\":[7.581566010429309],\"type\":\"scatter\"},{\"hoverinfo\":\"text\",\"marker\":{\"opacity\":1,\"size\":1},\"mode\":\"markers\",\"showlegend\":false,\"text\":[\"ID: 15, Pos(2.25,6.72)\"],\"x\":[2.249821013437331],\"y\":[6.720383865175089],\"type\":\"scatter\"},{\"hoverinfo\":\"text\",\"marker\":{\"opacity\":1,\"size\":1},\"mode\":\"markers\",\"showlegend\":false,\"text\":[\"ID: 16, Pos(3.53,8.56)\"],\"x\":[3.528754575022141],\"y\":[8.560124932388534],\"type\":\"scatter\"},{\"hoverinfo\":\"text\",\"marker\":{\"opacity\":1,\"size\":1},\"mode\":\"markers\",\"showlegend\":false,\"text\":[\"ID: 17, Pos(4.53,8.35)\"],\"x\":[4.531517584719087],\"y\":[8.352072715973897],\"type\":\"scatter\"},{\"hoverinfo\":\"text\",\"marker\":{\"opacity\":1,\"size\":1},\"mode\":\"markers\",\"showlegend\":false,\"text\":[\"ID: 18, Pos(2.92,7.02)\"],\"x\":[2.915685170685178],\"y\":[7.016465431396207],\"type\":\"scatter\"},{\"hoverinfo\":\"text\",\"marker\":{\"opacity\":1,\"size\":1},\"mode\":\"markers\",\"showlegend\":false,\"text\":[\"ID: 19, Pos(2.47,7.84)\"],\"x\":[2.4675462362723994],\"y\":[7.8396332859255375],\"type\":\"scatter\"},{\"hoverinfo\":\"text\",\"marker\":{\"opacity\":1,\"size\":1},\"mode\":\"markers\",\"showlegend\":false,\"text\":[\"ID: 20, Pos(2.67,6.06)\"],\"x\":[2.667684977757963],\"y\":[6.056019156096534],\"type\":\"scatter\"}],\"layout\":{\"shapes\":[{\"fillcolor\":\"rgba(0, 0, 255, 0.5)\",\"line\":{\"color\":\"rgba(0, 0, 255, 0.5)\"},\"type\":\"circle\",\"x0\":3.917679143219133,\"x1\":4.3176791432191335,\"xref\":\"x\",\"y0\":7.414528481578418,\"y1\":7.814528481578418,\"yref\":\"y\"},{\"fillcolor\":\"rgba(0, 192, 255, 0.5)\",\"line\":{\"color\":\"rgba(0, 192, 255, 0.5)\"},\"type\":\"circle\",\"x0\":1.70559043698339,\"x1\":2.10559043698339,\"xref\":\"x\",\"y0\":5.607746972682664,\"y1\":6.007746972682664,\"yref\":\"y\"},{\"fillcolor\":\"rgba(2, 232, 244, 0.5)\",\"line\":{\"color\":\"rgba(2, 232, 244, 0.5)\"},\"type\":\"circle\",\"x0\":1.8800810483562553,\"x1\":2.2800810483562555,\"xref\":\"x\",\"y0\":4.678552870326194,\"y1\":5.078552870326194,\"yref\":\"y\"},{\"fillcolor\":\"rgba(0, 160, 255, 0.5)\",\"line\":{\"color\":\"rgba(0, 160, 255, 0.5)\"},\"type\":\"circle\",\"x0\":3.135859629334359,\"x1\":3.535859629334359,\"xref\":\"x\",\"y0\":7.381566010429309,\"y1\":7.78156601042931,\"yref\":\"y\"},{\"fillcolor\":\"rgba(0, 0, 223, 0.5)\",\"line\":{\"color\":\"rgba(0, 0, 223, 0.5)\"},\"type\":\"circle\",\"x0\":2.049821013437331,\"x1\":2.4498210134373313,\"xref\":\"x\",\"y0\":6.520383865175089,\"y1\":6.920383865175089,\"yref\":\"y\"},{\"fillcolor\":\"rgba(0, 0, 128, 0.5)\",\"line\":{\"color\":\"rgba(0, 0, 128, 0.5)\"},\"type\":\"circle\",\"x0\":3.328754575022141,\"x1\":3.7287545750221414,\"xref\":\"x\",\"y0\":8.360124932388535,\"y1\":8.760124932388534,\"yref\":\"y\"},{\"fillcolor\":\"rgba(0, 0, 128, 0.5)\",\"line\":{\"color\":\"rgba(0, 0, 128, 0.5)\"},\"type\":\"circle\",\"x0\":4.331517584719087,\"x1\":4.731517584719088,\"xref\":\"x\",\"y0\":8.152072715973897,\"y1\":8.552072715973896,\"yref\":\"y\"},{\"fillcolor\":\"rgba(0, 192, 255, 0.5)\",\"line\":{\"color\":\"rgba(0, 192, 255, 0.5)\"},\"type\":\"circle\",\"x0\":2.7156851706851777,\"x1\":3.115685170685178,\"xref\":\"x\",\"y0\":6.816465431396207,\"y1\":7.216465431396207,\"yref\":\"y\"},{\"fillcolor\":\"rgba(0, 0, 128, 0.5)\",\"line\":{\"color\":\"rgba(0, 0, 128, 0.5)\"},\"type\":\"circle\",\"x0\":2.2675462362723993,\"x1\":2.6675462362723996,\"xref\":\"x\",\"y0\":7.639633285925537,\"y1\":8.039633285925538,\"yref\":\"y\"},{\"fillcolor\":\"rgba(0, 164, 255, 0.5)\",\"line\":{\"color\":\"rgba(0, 164, 255, 0.5)\"},\"type\":\"circle\",\"x0\":2.467684977757963,\"x1\":2.867684977757963,\"xref\":\"x\",\"y0\":5.856019156096534,\"y1\":6.256019156096534,\"yref\":\"y\"},{\"line\":{\"color\":\"white\",\"width\":3},\"type\":\"line\",\"x0\":4.117679143219133,\"x1\":4.061299616830001,\"y0\":7.614528481578418,\"y1\":7.8064173791315},{\"line\":{\"color\":\"black\",\"width\":3},\"type\":\"line\",\"x0\":1.90559043698339,\"x1\":1.913459573333766,\"y0\":5.807746972682664,\"y1\":6.007592104454992},{\"line\":{\"color\":\"black\",\"width\":3},\"type\":\"line\",\"x0\":2.0800810483562553,\"x1\":2.092808157479401,\"y0\":4.878552870326194,\"y1\":5.078147511269702},{\"line\":{\"color\":\"white\",\"width\":3},\"type\":\"line\",\"x0\":3.335859629334359,\"x1\":3.310948070064672,\"y0\":7.581566010429309,\"y1\":7.780008481223121},{\"line\":{\"color\":\"white\",\"width\":3},\"type\":\"line\",\"x0\":2.249821013437331,\"x1\":2.235561829832925,\"y0\":6.720383865175089,\"y1\":6.919874906785823},{\"line\":{\"color\":\"white\",\"width\":3},\"type\":\"line\",\"x0\":3.528754575022141,\"x1\":3.4778899616861745,\"y0\":8.560124932388534,\"y1\":8.753548796247632},{\"line\":{\"color\":\"white\",\"width\":3},\"type\":\"line\",\"x0\":4.531517584719087,\"x1\":4.406004908407185,\"y0\":8.352072715973897,\"y1\":8.50778581139308},{\"line\":{\"color\":\"black\",\"width\":3},\"type\":\"line\",\"x0\":2.915685170685178,\"x1\":2.904055948002514,\"y0\":7.016465431396207,\"y1\":7.21612704808754},{\"line\":{\"color\":\"white\",\"width\":3},\"type\":\"line\",\"x0\":2.4675462362723994,\"x1\":2.4646247323995887,\"y0\":7.8396332859255375,\"y1\":8.039611946824948},{\"line\":{\"color\":\"white\",\"width\":3},\"type\":\"line\",\"x0\":2.667684977757963,\"x1\":2.677484032173067,\"y0\":6.056019156096534,\"y1\":6.2557789581903736}],\"title\":{\"text\":\"\\u003cb\\u003eMode: Low_knowledge_shortest_path  |  Number of Agents: 10\\u003c\\u002fb\\u003e\",\"x\":0.5}},\"name\":\"200\"},{\"data\":[{\"hoverinfo\":\"name\",\"line\":{\"color\":\"white\"},\"mode\":\"lines\",\"name\":\"Exterior\",\"showlegend\":false,\"x\":[10.1,10.1,15.0,15.0,13.6,13.6,15.0,15.0,13.6,13.6,15.0,15.0,10.1,10.1,9.9,9.9,5.1,5.1,4.9,4.9,0.0,0.0,1.5,1.5,0.0,0.0,1.5,1.5,0.0,0.0,4.9,4.9,5.1,5.1,9.9,9.9,10.1],\"y\":[1.5,0.0,0.0,4.9,4.9,5.1,5.1,9.9,9.9,10.1,10.1,15.0,15.0,13.6,13.6,15.0,15.0,13.6,13.6,15.0,15.0,10.1,10.1,9.9,9.9,5.1,5.1,4.9,4.9,0.0,0.0,1.5,1.5,0.0,0.0,1.5,1.5],\"type\":\"scatter\"},{\"hoverinfo\":\"name\",\"line\":{\"color\":\"white\"},\"mode\":\"lines\",\"name\":\"Obstacle\",\"showlegend\":false,\"x\":[10.1,11.5,11.5,10.1,10.1,9.9,9.9,8.6,8.6,9.9,9.9,10.1,10.1],\"y\":[5.1,5.1,4.9,4.9,3.6,3.6,4.9,4.9,5.1,5.1,6.5,6.5,5.1],\"type\":\"scatter\"},{\"hoverinfo\":\"name\",\"line\":{\"color\":\"white\"},\"mode\":\"lines\",\"name\":\"Obstacle\",\"showlegend\":false,\"x\":[10.1,11.5,11.5,10.1,10.1,9.9,9.9,8.6,8.6,9.9,9.9,10.1,10.1],\"y\":[10.1,10.1,9.9,9.9,8.6,8.6,9.9,9.9,10.1,10.1,11.5,11.5,10.1],\"type\":\"scatter\"},{\"hoverinfo\":\"name\",\"line\":{\"color\":\"white\"},\"mode\":\"lines\",\"name\":\"Obstacle\",\"showlegend\":false,\"x\":[5.1,6.4,6.4,5.1,5.1,4.9,4.9,3.6,3.6,4.9,4.9,5.1,5.1],\"y\":[5.1,5.1,4.9,4.9,3.6,3.6,4.9,4.9,5.1,5.1,6.5,6.5,5.1],\"type\":\"scatter\"},{\"hoverinfo\":\"name\",\"line\":{\"color\":\"white\"},\"mode\":\"lines\",\"name\":\"Obstacle\",\"showlegend\":false,\"x\":[5.1,6.4,6.4,5.1,5.1,4.9,4.9,3.6,3.6,4.9,4.9,5.1,5.1],\"y\":[10.1,10.1,9.9,9.9,8.6,8.6,9.9,9.9,10.1,10.1,11.5,11.5,10.1],\"type\":\"scatter\"},{\"fill\":\"toself\",\"fillcolor\":\"rgb(0, 0, 0)\",\"hoverinfo\":\"name\",\"line\":{\"width\":0},\"mode\":\"lines\",\"name\":\"Risk Area\",\"showlegend\":false,\"x\":[1.5,1.5,3.6,3.6,4.9,4.9,5.0,5.0,4.9,4.9,0.0,0.0,1.5],\"y\":[4.9,5.0,5.0,4.9,4.9,3.6,3.6,1.5,1.5,0.0,0.0,4.9,4.9],\"type\":\"scatter\"},{\"fill\":\"toself\",\"fillcolor\":\"rgb(153, 0, 0)\",\"hoverinfo\":\"name\",\"line\":{\"width\":0},\"mode\":\"lines\",\"name\":\"Risk Area\",\"showlegend\":false,\"x\":[9.9,9.9,5.1,5.1,5.0,5.0,5.1,5.1,6.4,6.4,8.6,8.6,9.9,9.9,10.0,10.0,9.9],\"y\":[1.5,0.0,0.0,1.5,1.5,3.6,3.6,4.9,4.9,5.0,5.0,4.9,4.9,3.6,3.6,1.5,1.5],\"type\":\"scatter\"},{\"fill\":\"toself\",\"fillcolor\":\"rgb(0, 0, 0)\",\"hoverinfo\":\"name\",\"line\":{\"width\":0},\"mode\":\"lines\",\"name\":\"Risk Area\",\"showlegend\":false,\"x\":[13.6,15.0,15.0,10.1,10.1,10.0,10.0,10.1,10.1,11.5,11.5,13.6,13.6],\"y\":[4.9,4.9,0.0,0.0,1.5,1.5,3.6,3.6,4.9,4.9,5.0,5.0,4.9],\"type\":\"scatter\"},{\"fill\":\"toself\",\"fillcolor\":\"rgb(153, 0, 0)\",\"hoverinfo\":\"name\",\"line\":{\"width\":0},\"mode\":\"lines\",\"name\":\"Risk Area\",\"showlegend\":false,\"x\":[13.6,15.0,15.0,13.6,13.6,11.5,11.5,10.1,10.1,10.0,10.0,10.1,10.1,11.5,11.5,13.6,13.6],\"y\":[9.9,9.9,5.1,5.1,5.0,5.0,5.1,5.1,6.5,6.5,8.6,8.6,9.9,9.9,10.0,10.0,9.9],\"type\":\"scatter\"},{\"fill\":\"toself\",\"fillcolor\":\"rgb(153, 0, 0)\",\"hoverinfo\":\"name\",\"line\":{\"width\":0},\"mode\":\"lines\",\"name\":\"Risk Area\",\"showlegend\":false,\"x\":[9.9,9.9,8.6,8.6,6.4,6.4,5.1,5.1,5.0,5.0,5.1,5.1,6.4,6.4,8.6,8.6,9.9,9.9,10.0,10.0,9.9],\"y\":[6.5,5.1,5.1,5.0,5.0,5.1,5.1,6.5,6.5,8.6,8.6,9.9,9.9,10.0,10.0,9.9,9.9,8.6,8.6,6.5,6.5],\"type\":\"scatter\"},{\"fill\":\"toself\",\"fillcolor\":\"rgb(25, 0, 0)\",\"hoverinfo\":\"name\",\"line\":{\"width\":0},\"mode\":\"lines\",\"name\":\"Risk Area\",\"showlegend\":false,\"x\":[4.9,4.9,3.6,3.6,1.5,1.5,0.0,0.0,1.5,1.5,3.6,3.6,4.9,4.9,5.0,5.0,4.9],\"y\":[6.5,5.1,5.1,5.0,5.0,5.1,5.1,9.9,9.9,10.0,10.0,9.9,9.9,8.6,8.6,6.5,6.5],\"type\":\"scatter\"},{\"fill\":\"toself\",\"fillcolor\":\"rgb(0, 0, 0)\",\"hoverinfo\":\"name\",\"line\":{\"width\":0},\"mode\":\"lines\",\"name\":\"Risk Area\",\"showlegend\":false,\"x\":[1.5,0.0,0.0,4.9,4.9,5.0,5.0,4.9,4.9,3.6,3.6,1.5,1.5],\"y\":[10.1,10.1,15.0,15.0,13.6,13.6,11.5,11.5,10.1,10.1,10.0,10.0,10.1],\"type\":\"scatter\"},{\"fill\":\"toself\",\"fillcolor\":\"rgb(0, 0, 0)\",\"hoverinfo\":\"name\",\"line\":{\"width\":0},\"mode\":\"lines\",\"name\":\"Risk Area\",\"showlegend\":false,\"x\":[6.4,5.1,5.1,5.0,5.0,5.1,5.1,9.9,9.9,10.0,10.0,9.9,9.9,8.6,8.6,6.4,6.4],\"y\":[10.1,10.1,11.5,11.5,13.6,13.6,15.0,15.0,13.6,13.6,11.5,11.5,10.1,10.1,10.0,10.0,10.1],\"type\":\"scatter\"},{\"fill\":\"toself\",\"fillcolor\":\"rgb(0, 0, 0)\",\"hoverinfo\":\"name\",\"line\":{\"width\":0},\"mode\":\"lines\",\"name\":\"Risk Area\",\"showlegend\":false,\"x\":[10.1,10.1,15.0,15.0,13.6,13.6,11.5,11.5,10.1,10.1,10.0,10.0,10.1],\"y\":[13.6,15.0,15.0,10.1,10.1,10.0,10.0,10.1,10.1,11.5,11.5,13.6,13.6],\"type\":\"scatter\"},{\"hoverinfo\":\"text\",\"marker\":{\"opacity\":1,\"size\":1},\"mode\":\"markers\",\"showlegend\":false,\"text\":[\"ID: 11, Pos(3.83,8.63)\"],\"x\":[3.8346524484475863],\"y\":[8.628866851283968],\"type\":\"scatter\"},{\"hoverinfo\":\"text\",\"marker\":{\"opacity\":1,\"size\":1},\"mode\":\"markers\",\"showlegend\":false,\"text\":[\"ID: 12, Pos(1.95,7.15)\"],\"x\":[1.9499659690175082],\"y\":[7.152672810412797],\"type\":\"scatter\"},{\"hoverinfo\":\"text\",\"marker\":{\"opacity\":1,\"size\":1},\"mode\":\"markers\",\"showlegend\":false,\"text\":[\"ID: 13, Pos(2.15,6.09)\"],\"x\":[2.1501390748478553],\"y\":[6.091206091205519],\"type\":\"scatter\"},{\"hoverinfo\":\"text\",\"marker\":{\"opacity\":1,\"size\":1},\"mode\":\"markers\",\"showlegend\":false,\"text\":[\"ID: 14, Pos(3.08,8.95)\"],\"x\":[3.0806898183097013],\"y\":[8.945795647948168],\"type\":\"scatter\"},{\"hoverinfo\":\"text\",\"marker\":{\"opacity\":1,\"size\":1},\"mode\":\"markers\",\"showlegend\":false,\"text\":[\"ID: 15, Pos(2.18,8.28)\"],\"x\":[2.176579962765391],\"y\":[8.275576259067664],\"type\":\"scatter\"},{\"hoverinfo\":\"text\",\"marker\":{\"opacity\":1,\"size\":1},\"mode\":\"markers\",\"showlegend\":false,\"text\":[\"ID: 16, Pos(3.08,10.10)\"],\"x\":[3.081496542601046],\"y\":[10.095825229613805],\"type\":\"scatter\"},{\"hoverinfo\":\"text\",\"marker\":{\"opacity\":1,\"size\":1},\"mode\":\"markers\",\"showlegend\":false,\"text\":[\"ID: 17, Pos(3.77,9.45)\"],\"x\":[3.7710461182768955],\"y\":[9.44505045862732],\"type\":\"scatter\"},{\"hoverinfo\":\"text\",\"marker\":{\"opacity\":1,\"size\":1},\"mode\":\"markers\",\"showlegend\":false,\"text\":[\"ID: 18, Pos(2.90,8.00)\"],\"x\":[2.896854157344371],\"y\":[8.003376972714085],\"type\":\"scatter\"},{\"hoverinfo\":\"text\",\"marker\":{\"opacity\":1,\"size\":1},\"mode\":\"markers\",\"showlegend\":false,\"text\":[\"ID: 19, Pos(2.44,9.44)\"],\"x\":[2.443512414047675],\"y\":[9.439432712748282],\"type\":\"scatter\"},{\"hoverinfo\":\"text\",\"marker\":{\"opacity\":1,\"size\":1},\"mode\":\"markers\",\"showlegend\":false,\"text\":[\"ID: 20, Pos(2.70,7.13)\"],\"x\":[2.7020534145097064],\"y\":[7.12776113246571],\"type\":\"scatter\"}],\"layout\":{\"shapes\":[{\"fillcolor\":\"rgba(148, 255, 99, 0.5)\",\"line\":{\"color\":\"rgba(148, 255, 99, 0.5)\"},\"type\":\"circle\",\"x0\":3.634652448447586,\"x1\":4.034652448447586,\"xref\":\"x\",\"y0\":8.428866851283969,\"y1\":8.828866851283967,\"yref\":\"y\"},{\"fillcolor\":\"rgba(0, 0, 214, 0.5)\",\"line\":{\"color\":\"rgba(0, 0, 214, 0.5)\"},\"type\":\"circle\",\"x0\":1.7499659690175082,\"x1\":2.1499659690175084,\"xref\":\"x\",\"y0\":6.952672810412797,\"y1\":7.352672810412797,\"yref\":\"y\"},{\"fillcolor\":\"rgba(0, 40, 255, 0.5)\",\"line\":{\"color\":\"rgba(0, 40, 255, 0.5)\"},\"type\":\"circle\",\"x0\":1.9501390748478553,\"x1\":2.3501390748478554,\"xref\":\"x\",\"y0\":5.891206091205519,\"y1\":6.291206091205519,\"yref\":\"y\"},{\"fillcolor\":\"rgba(0, 0, 205, 0.5)\",\"line\":{\"color\":\"rgba(0, 0, 205, 0.5)\"},\"type\":\"circle\",\"x0\":2.880689818309701,\"x1\":3.2806898183097015,\"xref\":\"x\",\"y0\":8.745795647948169,\"y1\":9.145795647948168,\"yref\":\"y\"},{\"fillcolor\":\"rgba(0, 0, 137, 0.5)\",\"line\":{\"color\":\"rgba(0, 0, 137, 0.5)\"},\"type\":\"circle\",\"x0\":1.9765799627653908,\"x1\":2.376579962765391,\"xref\":\"x\",\"y0\":8.075576259067665,\"y1\":8.475576259067664,\"yref\":\"y\"},{\"fillcolor\":\"rgba(0, 0, 128, 0.5)\",\"line\":{\"color\":\"rgba(0, 0, 128, 0.5)\"},\"type\":\"circle\",\"x0\":2.8814965426010457,\"x1\":3.281496542601046,\"xref\":\"x\",\"y0\":9.895825229613806,\"y1\":10.295825229613804,\"yref\":\"y\"},{\"fillcolor\":\"rgba(2, 232, 244, 0.5)\",\"line\":{\"color\":\"rgba(2, 232, 244, 0.5)\"},\"type\":\"circle\",\"x0\":3.5710461182768953,\"x1\":3.9710461182768957,\"xref\":\"x\",\"y0\":9.24505045862732,\"y1\":9.645050458627319,\"yref\":\"y\"},{\"fillcolor\":\"rgba(0, 212, 255, 0.5)\",\"line\":{\"color\":\"rgba(0, 212, 255, 0.5)\"},\"type\":\"circle\",\"x0\":2.696854157344371,\"x1\":3.0968541573443713,\"xref\":\"x\",\"y0\":7.8033769727140845,\"y1\":8.203376972714084,\"yref\":\"y\"},{\"fillcolor\":\"rgba(0, 0, 128, 0.5)\",\"line\":{\"color\":\"rgba(0, 0, 128, 0.5)\"},\"type\":\"circle\",\"x0\":2.2435124140476748,\"x1\":2.643512414047675,\"xref\":\"x\",\"y0\":9.239432712748282,\"y1\":9.639432712748281,\"yref\":\"y\"},{\"fillcolor\":\"rgba(57, 255, 190, 0.5)\",\"line\":{\"color\":\"rgba(57, 255, 190, 0.5)\"},\"type\":\"circle\",\"x0\":2.502053414509706,\"x1\":2.9020534145097066,\"xref\":\"x\",\"y0\":6.92776113246571,\"y1\":7.32776113246571,\"yref\":\"y\"},{\"line\":{\"color\":\"black\",\"width\":3},\"type\":\"line\",\"x0\":3.8346524484475863,\"x1\":3.7739036742829724,\"y0\":8.628866851283968,\"y1\":8.819417596329735},{\"line\":{\"color\":\"white\",\"width\":3},\"type\":\"line\",\"x0\":1.9499659690175082,\"x1\":1.954867190129303,\"y0\":7.152672810412797,\"y1\":7.352612746472638},{\"line\":{\"color\":\"white\",\"width\":3},\"type\":\"line\",\"x0\":2.1501390748478553,\"x1\":2.1610867585538536,\"y0\":6.091206091205519,\"y1\":6.290906236977808},{\"line\":{\"color\":\"white\",\"width\":3},\"type\":\"line\",\"x0\":3.0806898183097013,\"x1\":3.043718617080212,\"y0\":8.945795647948168,\"y1\":9.142348771249857},{\"line\":{\"color\":\"white\",\"width\":3},\"type\":\"line\",\"x0\":2.176579962765391,\"x1\":2.179343861471173,\"y0\":8.275576259067664,\"y1\":8.475557160315619},{\"line\":{\"color\":\"white\",\"width\":3},\"type\":\"line\",\"x0\":3.081496542601046,\"x1\":3.03176328597183,\"y0\":10.095825229613805,\"y1\":10.289543073874608},{\"line\":{\"color\":\"black\",\"width\":3},\"type\":\"line\",\"x0\":3.7710461182768955,\"x1\":3.6493133312108554,\"y0\":9.44505045862732,\"y1\":9.603736086688382},{\"line\":{\"color\":\"black\",\"width\":3},\"type\":\"line\",\"x0\":2.896854157344371,\"x1\":2.89147907611297,\"y0\":8.003376972714085,\"y1\":8.203304730921282},{\"line\":{\"color\":\"white\",\"width\":3},\"type\":\"line\",\"x0\":2.443512414047675,\"x1\":2.4381378574076393,\"y0\":9.439432712748282,\"y1\":9.639360485058491},{\"line\":{\"color\":\"black\",\"width\":3},\"type\":\"line\",\"x0\":2.7020534145097064,\"x1\":2.7093669447494966,\"y0\":7.12776113246571,\"y1\":7.327627368422241}],\"title\":{\"text\":\"\\u003cb\\u003eMode: Low_knowledge_shortest_path  |  Number of Agents: 10\\u003c\\u002fb\\u003e\",\"x\":0.5}},\"name\":\"250\"},{\"data\":[{\"hoverinfo\":\"name\",\"line\":{\"color\":\"white\"},\"mode\":\"lines\",\"name\":\"Exterior\",\"showlegend\":false,\"x\":[10.1,10.1,15.0,15.0,13.6,13.6,15.0,15.0,13.6,13.6,15.0,15.0,10.1,10.1,9.9,9.9,5.1,5.1,4.9,4.9,0.0,0.0,1.5,1.5,0.0,0.0,1.5,1.5,0.0,0.0,4.9,4.9,5.1,5.1,9.9,9.9,10.1],\"y\":[1.5,0.0,0.0,4.9,4.9,5.1,5.1,9.9,9.9,10.1,10.1,15.0,15.0,13.6,13.6,15.0,15.0,13.6,13.6,15.0,15.0,10.1,10.1,9.9,9.9,5.1,5.1,4.9,4.9,0.0,0.0,1.5,1.5,0.0,0.0,1.5,1.5],\"type\":\"scatter\"},{\"hoverinfo\":\"name\",\"line\":{\"color\":\"white\"},\"mode\":\"lines\",\"name\":\"Obstacle\",\"showlegend\":false,\"x\":[10.1,11.5,11.5,10.1,10.1,9.9,9.9,8.6,8.6,9.9,9.9,10.1,10.1],\"y\":[5.1,5.1,4.9,4.9,3.6,3.6,4.9,4.9,5.1,5.1,6.5,6.5,5.1],\"type\":\"scatter\"},{\"hoverinfo\":\"name\",\"line\":{\"color\":\"white\"},\"mode\":\"lines\",\"name\":\"Obstacle\",\"showlegend\":false,\"x\":[10.1,11.5,11.5,10.1,10.1,9.9,9.9,8.6,8.6,9.9,9.9,10.1,10.1],\"y\":[10.1,10.1,9.9,9.9,8.6,8.6,9.9,9.9,10.1,10.1,11.5,11.5,10.1],\"type\":\"scatter\"},{\"hoverinfo\":\"name\",\"line\":{\"color\":\"white\"},\"mode\":\"lines\",\"name\":\"Obstacle\",\"showlegend\":false,\"x\":[5.1,6.4,6.4,5.1,5.1,4.9,4.9,3.6,3.6,4.9,4.9,5.1,5.1],\"y\":[5.1,5.1,4.9,4.9,3.6,3.6,4.9,4.9,5.1,5.1,6.5,6.5,5.1],\"type\":\"scatter\"},{\"hoverinfo\":\"name\",\"line\":{\"color\":\"white\"},\"mode\":\"lines\",\"name\":\"Obstacle\",\"showlegend\":false,\"x\":[5.1,6.4,6.4,5.1,5.1,4.9,4.9,3.6,3.6,4.9,4.9,5.1,5.1],\"y\":[10.1,10.1,9.9,9.9,8.6,8.6,9.9,9.9,10.1,10.1,11.5,11.5,10.1],\"type\":\"scatter\"},{\"fill\":\"toself\",\"fillcolor\":\"rgb(0, 0, 0)\",\"hoverinfo\":\"name\",\"line\":{\"width\":0},\"mode\":\"lines\",\"name\":\"Risk Area\",\"showlegend\":false,\"x\":[1.5,1.5,3.6,3.6,4.9,4.9,5.0,5.0,4.9,4.9,0.0,0.0,1.5],\"y\":[4.9,5.0,5.0,4.9,4.9,3.6,3.6,1.5,1.5,0.0,0.0,4.9,4.9],\"type\":\"scatter\"},{\"fill\":\"toself\",\"fillcolor\":\"rgb(153, 0, 0)\",\"hoverinfo\":\"name\",\"line\":{\"width\":0},\"mode\":\"lines\",\"name\":\"Risk Area\",\"showlegend\":false,\"x\":[9.9,9.9,5.1,5.1,5.0,5.0,5.1,5.1,6.4,6.4,8.6,8.6,9.9,9.9,10.0,10.0,9.9],\"y\":[1.5,0.0,0.0,1.5,1.5,3.6,3.6,4.9,4.9,5.0,5.0,4.9,4.9,3.6,3.6,1.5,1.5],\"type\":\"scatter\"},{\"fill\":\"toself\",\"fillcolor\":\"rgb(0, 0, 0)\",\"hoverinfo\":\"name\",\"line\":{\"width\":0},\"mode\":\"lines\",\"name\":\"Risk Area\",\"showlegend\":false,\"x\":[13.6,15.0,15.0,10.1,10.1,10.0,10.0,10.1,10.1,11.5,11.5,13.6,13.6],\"y\":[4.9,4.9,0.0,0.0,1.5,1.5,3.6,3.6,4.9,4.9,5.0,5.0,4.9],\"type\":\"scatter\"},{\"fill\":\"toself\",\"fillcolor\":\"rgb(153, 0, 0)\",\"hoverinfo\":\"name\",\"line\":{\"width\":0},\"mode\":\"lines\",\"name\":\"Risk Area\",\"showlegend\":false,\"x\":[13.6,15.0,15.0,13.6,13.6,11.5,11.5,10.1,10.1,10.0,10.0,10.1,10.1,11.5,11.5,13.6,13.6],\"y\":[9.9,9.9,5.1,5.1,5.0,5.0,5.1,5.1,6.5,6.5,8.6,8.6,9.9,9.9,10.0,10.0,9.9],\"type\":\"scatter\"},{\"fill\":\"toself\",\"fillcolor\":\"rgb(153, 0, 0)\",\"hoverinfo\":\"name\",\"line\":{\"width\":0},\"mode\":\"lines\",\"name\":\"Risk Area\",\"showlegend\":false,\"x\":[9.9,9.9,8.6,8.6,6.4,6.4,5.1,5.1,5.0,5.0,5.1,5.1,6.4,6.4,8.6,8.6,9.9,9.9,10.0,10.0,9.9],\"y\":[6.5,5.1,5.1,5.0,5.0,5.1,5.1,6.5,6.5,8.6,8.6,9.9,9.9,10.0,10.0,9.9,9.9,8.6,8.6,6.5,6.5],\"type\":\"scatter\"},{\"fill\":\"toself\",\"fillcolor\":\"rgb(25, 0, 0)\",\"hoverinfo\":\"name\",\"line\":{\"width\":0},\"mode\":\"lines\",\"name\":\"Risk Area\",\"showlegend\":false,\"x\":[4.9,4.9,3.6,3.6,1.5,1.5,0.0,0.0,1.5,1.5,3.6,3.6,4.9,4.9,5.0,5.0,4.9],\"y\":[6.5,5.1,5.1,5.0,5.0,5.1,5.1,9.9,9.9,10.0,10.0,9.9,9.9,8.6,8.6,6.5,6.5],\"type\":\"scatter\"},{\"fill\":\"toself\",\"fillcolor\":\"rgb(0, 0, 0)\",\"hoverinfo\":\"name\",\"line\":{\"width\":0},\"mode\":\"lines\",\"name\":\"Risk Area\",\"showlegend\":false,\"x\":[1.5,0.0,0.0,4.9,4.9,5.0,5.0,4.9,4.9,3.6,3.6,1.5,1.5],\"y\":[10.1,10.1,15.0,15.0,13.6,13.6,11.5,11.5,10.1,10.1,10.0,10.0,10.1],\"type\":\"scatter\"},{\"fill\":\"toself\",\"fillcolor\":\"rgb(0, 0, 0)\",\"hoverinfo\":\"name\",\"line\":{\"width\":0},\"mode\":\"lines\",\"name\":\"Risk Area\",\"showlegend\":false,\"x\":[6.4,5.1,5.1,5.0,5.0,5.1,5.1,9.9,9.9,10.0,10.0,9.9,9.9,8.6,8.6,6.4,6.4],\"y\":[10.1,10.1,11.5,11.5,13.6,13.6,15.0,15.0,13.6,13.6,11.5,11.5,10.1,10.1,10.0,10.0,10.1],\"type\":\"scatter\"},{\"fill\":\"toself\",\"fillcolor\":\"rgb(0, 0, 0)\",\"hoverinfo\":\"name\",\"line\":{\"width\":0},\"mode\":\"lines\",\"name\":\"Risk Area\",\"showlegend\":false,\"x\":[10.1,10.1,15.0,15.0,13.6,13.6,11.5,11.5,10.1,10.1,10.0,10.0,10.1],\"y\":[13.6,15.0,15.0,10.1,10.1,10.0,10.0,10.1,10.1,11.5,11.5,13.6,13.6],\"type\":\"scatter\"},{\"hoverinfo\":\"text\",\"marker\":{\"opacity\":1,\"size\":1},\"mode\":\"markers\",\"showlegend\":false,\"text\":[\"ID: 11, Pos(3.52,9.55)\"],\"x\":[3.5170289655940974],\"y\":[9.553537669630007],\"type\":\"scatter\"},{\"hoverinfo\":\"text\",\"marker\":{\"opacity\":1,\"size\":1},\"mode\":\"markers\",\"showlegend\":false,\"text\":[\"ID: 12, Pos(2.03,8.69)\"],\"x\":[2.0347881823249243],\"y\":[8.688256940072241],\"type\":\"scatter\"},{\"hoverinfo\":\"text\",\"marker\":{\"opacity\":1,\"size\":1},\"mode\":\"markers\",\"showlegend\":false,\"text\":[\"ID: 13, Pos(2.22,7.55)\"],\"x\":[2.2205983416817183],\"y\":[7.546614713892804],\"type\":\"scatter\"},{\"hoverinfo\":\"text\",\"marker\":{\"opacity\":1,\"size\":1},\"mode\":\"markers\",\"showlegend\":false,\"text\":[\"ID: 14, Pos(2.73,10.02)\"],\"x\":[2.7279952600769786],\"y\":[10.020141568217761],\"type\":\"scatter\"},{\"hoverinfo\":\"text\",\"marker\":{\"opacity\":1,\"size\":1},\"mode\":\"markers\",\"showlegend\":false,\"text\":[\"ID: 15, Pos(2.12,9.86)\"],\"x\":[2.12396939248037],\"y\":[9.861650833224767],\"type\":\"scatter\"},{\"hoverinfo\":\"text\",\"marker\":{\"opacity\":1,\"size\":1},\"mode\":\"markers\",\"showlegend\":false,\"text\":[\"ID: 16, Pos(3.46,11.25)\"],\"x\":[3.460377224971273],\"y\":[11.249281223146756],\"type\":\"scatter\"},{\"hoverinfo\":\"text\",\"marker\":{\"opacity\":1,\"size\":1},\"mode\":\"markers\",\"showlegend\":false,\"text\":[\"ID: 17, Pos(3.16,10.41)\"],\"x\":[3.164369838124725],\"y\":[10.411987142744566],\"type\":\"scatter\"},{\"hoverinfo\":\"text\",\"marker\":{\"opacity\":1,\"size\":1},\"mode\":\"markers\",\"showlegend\":false,\"text\":[\"ID: 18, Pos(2.82,9.07)\"],\"x\":[2.8244438639297607],\"y\":[9.069397919374357],\"type\":\"scatter\"},{\"hoverinfo\":\"text\",\"marker\":{\"opacity\":1,\"size\":1},\"mode\":\"markers\",\"showlegend\":false,\"text\":[\"ID: 19, Pos(2.45,11.01)\"],\"x\":[2.4493303327058324],\"y\":[11.01452746285694],\"type\":\"scatter\"},{\"hoverinfo\":\"text\",\"marker\":{\"opacity\":1,\"size\":1},\"mode\":\"markers\",\"showlegend\":false,\"text\":[\"ID: 20, Pos(2.72,8.16)\"],\"x\":[2.7155472598570465],\"y\":[8.16182917544734],\"type\":\"scatter\"}],\"layout\":{\"shapes\":[{\"fillcolor\":\"rgba(54, 255, 193, 0.5)\",\"line\":{\"color\":\"rgba(54, 255, 193, 0.5)\"},\"type\":\"circle\",\"x0\":3.317028965594097,\"x1\":3.7170289655940976,\"xref\":\"x\",\"y0\":9.353537669630008,\"y1\":9.753537669630006,\"yref\":\"y\"},{\"fillcolor\":\"rgba(0, 0, 164, 0.5)\",\"line\":{\"color\":\"rgba(0, 0, 164, 0.5)\"},\"type\":\"circle\",\"x0\":1.8347881823249244,\"x1\":2.2347881823249245,\"xref\":\"x\",\"y0\":8.488256940072242,\"y1\":8.88825694007224,\"yref\":\"y\"},{\"fillcolor\":\"rgba(0, 0, 196, 0.5)\",\"line\":{\"color\":\"rgba(0, 0, 196, 0.5)\"},\"type\":\"circle\",\"x0\":2.020598341681718,\"x1\":2.4205983416817185,\"xref\":\"x\",\"y0\":7.346614713892804,\"y1\":7.7466147138928045,\"yref\":\"y\"},{\"fillcolor\":\"rgba(0, 132, 255, 0.5)\",\"line\":{\"color\":\"rgba(0, 132, 255, 0.5)\"},\"type\":\"circle\",\"x0\":2.5279952600769784,\"x1\":2.9279952600769787,\"xref\":\"x\",\"y0\":9.820141568217762,\"y1\":10.22014156821776,\"yref\":\"y\"},{\"fillcolor\":\"rgba(0, 0, 128, 0.5)\",\"line\":{\"color\":\"rgba(0, 0, 128, 0.5)\"},\"type\":\"circle\",\"x0\":1.9239693924803702,\"x1\":2.3239693924803704,\"xref\":\"x\",\"y0\":9.661650833224767,\"y1\":10.061650833224766,\"yref\":\"y\"},{\"fillcolor\":\"rgba(0, 0, 128, 0.5)\",\"line\":{\"color\":\"rgba(0, 0, 128, 0.5)\"},\"type\":\"circle\",\"x0\":3.260377224971273,\"x1\":3.660377224971273,\"xref\":\"x\",\"y0\":11.049281223146757,\"y1\":11.449281223146755,\"yref\":\"y\"},{\"fillcolor\":\"rgba(12, 244, 235, 0.5)\",\"line\":{\"color\":\"rgba(12, 244, 235, 0.5)\"},\"type\":\"circle\",\"x0\":2.9643698381247248,\"x1\":3.364369838124725,\"xref\":\"x\",\"y0\":10.211987142744567,\"y1\":10.611987142744566,\"yref\":\"y\"},{\"fillcolor\":\"rgba(0, 224, 251, 0.5)\",\"line\":{\"color\":\"rgba(0, 224, 251, 0.5)\"},\"type\":\"circle\",\"x0\":2.6244438639297605,\"x1\":3.024443863929761,\"xref\":\"x\",\"y0\":8.869397919374357,\"y1\":9.269397919374356,\"yref\":\"y\"},{\"fillcolor\":\"rgba(0, 180, 255, 0.5)\",\"line\":{\"color\":\"rgba(0, 180, 255, 0.5)\"},\"type\":\"circle\",\"x0\":2.2493303327058323,\"x1\":2.6493303327058326,\"xref\":\"x\",\"y0\":10.81452746285694,\"y1\":11.214527462856939,\"yref\":\"y\"},{\"fillcolor\":\"rgba(38, 255, 209, 0.5)\",\"line\":{\"color\":\"rgba(38, 255, 209, 0.5)\"},\"type\":\"circle\",\"x0\":2.5155472598570463,\"x1\":2.9155472598570467,\"xref\":\"x\",\"y0\":7.961829175447339,\"y1\":8.361829175447339,\"yref\":\"y\"},{\"line\":{\"color\":\"black\",\"width\":3},\"type\":\"line\",\"x0\":3.5170289655940974,\"x1\":3.4024828225098442,\"y0\":9.553537669630007,\"y1\":9.717486384490849},{\"line\":{\"color\":\"white\",\"width\":3},\"type\":\"line\",\"x0\":2.0347881823249243,\"x1\":2.0508308248435743,\"y0\":8.688256940072241,\"y1\":8.887612485821585},{\"line\":{\"color\":\"white\",\"width\":3},\"type\":\"line\",\"x0\":2.2205983416817183,\"x1\":2.225632345193788,\"y0\":7.546614713892804,\"y1\":7.746551350877226},{\"line\":{\"color\":\"white\",\"width\":3},\"type\":\"line\",\"x0\":2.7279952600769786,\"x1\":2.6945525006979225,\"y0\":10.020141568217761,\"y1\":10.217325700046656},{\"line\":{\"color\":\"white\",\"width\":3},\"type\":\"line\",\"x0\":2.12396939248037,\"x1\":2.0968351555690945,\"y0\":9.861650833224767,\"y1\":10.059801617193044},{\"line\":{\"color\":\"white\",\"width\":3},\"type\":\"line\",\"x0\":3.460377224971273,\"x1\":3.6502925305817113,\"y0\":11.249281223146756,\"y1\":11.31198829368026},{\"line\":{\"color\":\"black\",\"width\":3},\"type\":\"line\",\"x0\":3.164369838124725,\"x1\":3.1616260170462027,\"y0\":10.411987142744566,\"y1\":10.611968320473594},{\"line\":{\"color\":\"black\",\"width\":3},\"type\":\"line\",\"x0\":2.8244438639297607,\"x1\":2.805621119426288,\"y0\":9.069397919374357,\"y1\":9.26851021002804},{\"line\":{\"color\":\"black\",\"width\":3},\"type\":\"line\",\"x0\":2.4493303327058324,\"x1\":2.6403265509032425,\"y0\":11.01452746285694,\"y1\":11.073860797790072},{\"line\":{\"color\":\"black\",\"width\":3},\"type\":\"line\",\"x0\":2.7155472598570465,\"x1\":2.715910224790096,\"y0\":8.16182917544734,\"y1\":8.361828846088212}],\"title\":{\"text\":\"\\u003cb\\u003eMode: Low_knowledge_shortest_path  |  Number of Agents: 10\\u003c\\u002fb\\u003e\",\"x\":0.5}},\"name\":\"300\"},{\"data\":[{\"hoverinfo\":\"name\",\"line\":{\"color\":\"white\"},\"mode\":\"lines\",\"name\":\"Exterior\",\"showlegend\":false,\"x\":[10.1,10.1,15.0,15.0,13.6,13.6,15.0,15.0,13.6,13.6,15.0,15.0,10.1,10.1,9.9,9.9,5.1,5.1,4.9,4.9,0.0,0.0,1.5,1.5,0.0,0.0,1.5,1.5,0.0,0.0,4.9,4.9,5.1,5.1,9.9,9.9,10.1],\"y\":[1.5,0.0,0.0,4.9,4.9,5.1,5.1,9.9,9.9,10.1,10.1,15.0,15.0,13.6,13.6,15.0,15.0,13.6,13.6,15.0,15.0,10.1,10.1,9.9,9.9,5.1,5.1,4.9,4.9,0.0,0.0,1.5,1.5,0.0,0.0,1.5,1.5],\"type\":\"scatter\"},{\"hoverinfo\":\"name\",\"line\":{\"color\":\"white\"},\"mode\":\"lines\",\"name\":\"Obstacle\",\"showlegend\":false,\"x\":[10.1,11.5,11.5,10.1,10.1,9.9,9.9,8.6,8.6,9.9,9.9,10.1,10.1],\"y\":[5.1,5.1,4.9,4.9,3.6,3.6,4.9,4.9,5.1,5.1,6.5,6.5,5.1],\"type\":\"scatter\"},{\"hoverinfo\":\"name\",\"line\":{\"color\":\"white\"},\"mode\":\"lines\",\"name\":\"Obstacle\",\"showlegend\":false,\"x\":[10.1,11.5,11.5,10.1,10.1,9.9,9.9,8.6,8.6,9.9,9.9,10.1,10.1],\"y\":[10.1,10.1,9.9,9.9,8.6,8.6,9.9,9.9,10.1,10.1,11.5,11.5,10.1],\"type\":\"scatter\"},{\"hoverinfo\":\"name\",\"line\":{\"color\":\"white\"},\"mode\":\"lines\",\"name\":\"Obstacle\",\"showlegend\":false,\"x\":[5.1,6.4,6.4,5.1,5.1,4.9,4.9,3.6,3.6,4.9,4.9,5.1,5.1],\"y\":[5.1,5.1,4.9,4.9,3.6,3.6,4.9,4.9,5.1,5.1,6.5,6.5,5.1],\"type\":\"scatter\"},{\"hoverinfo\":\"name\",\"line\":{\"color\":\"white\"},\"mode\":\"lines\",\"name\":\"Obstacle\",\"showlegend\":false,\"x\":[5.1,6.4,6.4,5.1,5.1,4.9,4.9,3.6,3.6,4.9,4.9,5.1,5.1],\"y\":[10.1,10.1,9.9,9.9,8.6,8.6,9.9,9.9,10.1,10.1,11.5,11.5,10.1],\"type\":\"scatter\"},{\"fill\":\"toself\",\"fillcolor\":\"rgb(0, 0, 0)\",\"hoverinfo\":\"name\",\"line\":{\"width\":0},\"mode\":\"lines\",\"name\":\"Risk Area\",\"showlegend\":false,\"x\":[1.5,1.5,3.6,3.6,4.9,4.9,5.0,5.0,4.9,4.9,0.0,0.0,1.5],\"y\":[4.9,5.0,5.0,4.9,4.9,3.6,3.6,1.5,1.5,0.0,0.0,4.9,4.9],\"type\":\"scatter\"},{\"fill\":\"toself\",\"fillcolor\":\"rgb(153, 0, 0)\",\"hoverinfo\":\"name\",\"line\":{\"width\":0},\"mode\":\"lines\",\"name\":\"Risk Area\",\"showlegend\":false,\"x\":[9.9,9.9,5.1,5.1,5.0,5.0,5.1,5.1,6.4,6.4,8.6,8.6,9.9,9.9,10.0,10.0,9.9],\"y\":[1.5,0.0,0.0,1.5,1.5,3.6,3.6,4.9,4.9,5.0,5.0,4.9,4.9,3.6,3.6,1.5,1.5],\"type\":\"scatter\"},{\"fill\":\"toself\",\"fillcolor\":\"rgb(0, 0, 0)\",\"hoverinfo\":\"name\",\"line\":{\"width\":0},\"mode\":\"lines\",\"name\":\"Risk Area\",\"showlegend\":false,\"x\":[13.6,15.0,15.0,10.1,10.1,10.0,10.0,10.1,10.1,11.5,11.5,13.6,13.6],\"y\":[4.9,4.9,0.0,0.0,1.5,1.5,3.6,3.6,4.9,4.9,5.0,5.0,4.9],\"type\":\"scatter\"},{\"fill\":\"toself\",\"fillcolor\":\"rgb(153, 0, 0)\",\"hoverinfo\":\"name\",\"line\":{\"width\":0},\"mode\":\"lines\",\"name\":\"Risk Area\",\"showlegend\":false,\"x\":[13.6,15.0,15.0,13.6,13.6,11.5,11.5,10.1,10.1,10.0,10.0,10.1,10.1,11.5,11.5,13.6,13.6],\"y\":[9.9,9.9,5.1,5.1,5.0,5.0,5.1,5.1,6.5,6.5,8.6,8.6,9.9,9.9,10.0,10.0,9.9],\"type\":\"scatter\"},{\"fill\":\"toself\",\"fillcolor\":\"rgb(153, 0, 0)\",\"hoverinfo\":\"name\",\"line\":{\"width\":0},\"mode\":\"lines\",\"name\":\"Risk Area\",\"showlegend\":false,\"x\":[9.9,9.9,8.6,8.6,6.4,6.4,5.1,5.1,5.0,5.0,5.1,5.1,6.4,6.4,8.6,8.6,9.9,9.9,10.0,10.0,9.9],\"y\":[6.5,5.1,5.1,5.0,5.0,5.1,5.1,6.5,6.5,8.6,8.6,9.9,9.9,10.0,10.0,9.9,9.9,8.6,8.6,6.5,6.5],\"type\":\"scatter\"},{\"fill\":\"toself\",\"fillcolor\":\"rgb(25, 0, 0)\",\"hoverinfo\":\"name\",\"line\":{\"width\":0},\"mode\":\"lines\",\"name\":\"Risk Area\",\"showlegend\":false,\"x\":[4.9,4.9,3.6,3.6,1.5,1.5,0.0,0.0,1.5,1.5,3.6,3.6,4.9,4.9,5.0,5.0,4.9],\"y\":[6.5,5.1,5.1,5.0,5.0,5.1,5.1,9.9,9.9,10.0,10.0,9.9,9.9,8.6,8.6,6.5,6.5],\"type\":\"scatter\"},{\"fill\":\"toself\",\"fillcolor\":\"rgb(0, 0, 0)\",\"hoverinfo\":\"name\",\"line\":{\"width\":0},\"mode\":\"lines\",\"name\":\"Risk Area\",\"showlegend\":false,\"x\":[1.5,0.0,0.0,4.9,4.9,5.0,5.0,4.9,4.9,3.6,3.6,1.5,1.5],\"y\":[10.1,10.1,15.0,15.0,13.6,13.6,11.5,11.5,10.1,10.1,10.0,10.0,10.1],\"type\":\"scatter\"},{\"fill\":\"toself\",\"fillcolor\":\"rgb(0, 0, 0)\",\"hoverinfo\":\"name\",\"line\":{\"width\":0},\"mode\":\"lines\",\"name\":\"Risk Area\",\"showlegend\":false,\"x\":[6.4,5.1,5.1,5.0,5.0,5.1,5.1,9.9,9.9,10.0,10.0,9.9,9.9,8.6,8.6,6.4,6.4],\"y\":[10.1,10.1,11.5,11.5,13.6,13.6,15.0,15.0,13.6,13.6,11.5,11.5,10.1,10.1,10.0,10.0,10.1],\"type\":\"scatter\"},{\"fill\":\"toself\",\"fillcolor\":\"rgb(0, 0, 0)\",\"hoverinfo\":\"name\",\"line\":{\"width\":0},\"mode\":\"lines\",\"name\":\"Risk Area\",\"showlegend\":false,\"x\":[10.1,10.1,15.0,15.0,13.6,13.6,11.5,11.5,10.1,10.1,10.0,10.0,10.1],\"y\":[13.6,15.0,15.0,10.1,10.1,10.0,10.0,10.1,10.1,11.5,11.5,13.6,13.6],\"type\":\"scatter\"},{\"hoverinfo\":\"text\",\"marker\":{\"opacity\":1,\"size\":1},\"mode\":\"markers\",\"showlegend\":false,\"text\":[\"ID: 11, Pos(3.18,10.38)\"],\"x\":[3.184303767775605],\"y\":[10.381770426504104],\"type\":\"scatter\"},{\"hoverinfo\":\"text\",\"marker\":{\"opacity\":1,\"size\":1},\"mode\":\"markers\",\"showlegend\":false,\"text\":[\"ID: 12, Pos(2.01,10.24)\"],\"x\":[2.0053297081999144],\"y\":[10.243575684980124],\"type\":\"scatter\"},{\"hoverinfo\":\"text\",\"marker\":{\"opacity\":1,\"size\":1},\"mode\":\"markers\",\"showlegend\":false,\"text\":[\"ID: 13, Pos(2.13,9.08)\"],\"x\":[2.126377598746883],\"y\":[9.07806672498093],\"type\":\"scatter\"},{\"hoverinfo\":\"text\",\"marker\":{\"opacity\":1,\"size\":1},\"mode\":\"markers\",\"showlegend\":false,\"text\":[\"ID: 14, Pos(2.93,11.05)\"],\"x\":[2.9284143365865516],\"y\":[11.046834122212996],\"type\":\"scatter\"},{\"hoverinfo\":\"text\",\"marker\":{\"opacity\":1,\"size\":1},\"mode\":\"markers\",\"showlegend\":false,\"text\":[\"ID: 15, Pos(2.41,11.30)\"],\"x\":[2.405258224685346],\"y\":[11.302346257171187],\"type\":\"scatter\"},{\"hoverinfo\":\"text\",\"marker\":{\"opacity\":1,\"size\":1},\"mode\":\"markers\",\"showlegend\":false,\"text\":[\"ID: 16, Pos(4.88,11.90)\"],\"x\":[4.878882980084487],\"y\":[11.904735009933663],\"type\":\"scatter\"},{\"hoverinfo\":\"text\",\"marker\":{\"opacity\":1,\"size\":1},\"mode\":\"markers\",\"showlegend\":false,\"text\":[\"ID: 17, Pos(3.92,11.32)\"],\"x\":[3.919284209883319],\"y\":[11.32317982438573],\"type\":\"scatter\"},{\"hoverinfo\":\"text\",\"marker\":{\"opacity\":1,\"size\":1},\"mode\":\"markers\",\"showlegend\":false,\"text\":[\"ID: 18, Pos(2.62,10.17)\"],\"x\":[2.622413105842369],\"y\":[10.172709321202342],\"type\":\"scatter\"},{\"hoverinfo\":\"text\",\"marker\":{\"opacity\":1,\"size\":1},\"mode\":\"markers\",\"showlegend\":false,\"text\":[\"ID: 19, Pos(3.59,11.92)\"],\"x\":[3.5906291345484758],\"y\":[11.920527573118546],\"type\":\"scatter\"},{\"hoverinfo\":\"text\",\"marker\":{\"opacity\":1,\"size\":1},\"mode\":\"markers\",\"showlegend\":false,\"text\":[\"ID: 20, Pos(2.79,9.22)\"],\"x\":[2.7885604226966354],\"y\":[9.22219481544401],\"type\":\"scatter\"}],\"layout\":{\"shapes\":[{\"fillcolor\":\"rgba(255, 230, 0, 0.5)\",\"line\":{\"color\":\"rgba(255, 230, 0, 0.5)\"},\"type\":\"circle\",\"x0\":2.984303767775605,\"x1\":3.3843037677756054,\"xref\":\"x\",\"y0\":10.181770426504105,\"y1\":10.581770426504104,\"yref\":\"y\"},{\"fillcolor\":\"rgba(0, 0, 150, 0.5)\",\"line\":{\"color\":\"rgba(0, 0, 150, 0.5)\"},\"type\":\"circle\",\"x0\":1.8053297081999145,\"x1\":2.2053297081999146,\"xref\":\"x\",\"y0\":10.043575684980125,\"y1\":10.443575684980123,\"yref\":\"y\"},{\"fillcolor\":\"rgba(0, 0, 168, 0.5)\",\"line\":{\"color\":\"rgba(0, 0, 168, 0.5)\"},\"type\":\"circle\",\"x0\":1.926377598746883,\"x1\":2.326377598746883,\"xref\":\"x\",\"y0\":8.87806672498093,\"y1\":9.27806672498093,\"yref\":\"y\"},{\"fillcolor\":\"rgba(0, 117, 255, 0.5)\",\"line\":{\"color\":\"rgba(0, 117, 255, 0.5)\"},\"type\":\"circle\",\"x0\":2.7284143365865514,\"x1\":3.1284143365865518,\"xref\":\"x\",\"y0\":10.846834122212996,\"y1\":11.246834122212995,\"yref\":\"y\"},{\"fillcolor\":\"rgba(0, 0, 128, 0.5)\",\"line\":{\"color\":\"rgba(0, 0, 128, 0.5)\"},\"type\":\"circle\",\"x0\":2.2052582246853456,\"x1\":2.605258224685346,\"xref\":\"x\",\"y0\":11.102346257171188,\"y1\":11.502346257171187,\"yref\":\"y\"},{\"fillcolor\":\"rgba(0, 0, 132, 0.5)\",\"line\":{\"color\":\"rgba(0, 0, 132, 0.5)\"},\"type\":\"circle\",\"x0\":4.678882980084487,\"x1\":5.0788829800844875,\"xref\":\"x\",\"y0\":11.704735009933664,\"y1\":12.104735009933663,\"yref\":\"y\"},{\"fillcolor\":\"rgba(0, 0, 255, 0.5)\",\"line\":{\"color\":\"rgba(0, 0, 255, 0.5)\"},\"type\":\"circle\",\"x0\":3.7192842098833188,\"x1\":4.119284209883319,\"xref\":\"x\",\"y0\":11.12317982438573,\"y1\":11.523179824385728,\"yref\":\"y\"},{\"fillcolor\":\"rgba(0, 101, 255, 0.5)\",\"line\":{\"color\":\"rgba(0, 101, 255, 0.5)\"},\"type\":\"circle\",\"x0\":2.422413105842369,\"x1\":2.822413105842369,\"xref\":\"x\",\"y0\":9.972709321202343,\"y1\":10.372709321202342,\"yref\":\"y\"},{\"fillcolor\":\"rgba(0, 0, 128, 0.5)\",\"line\":{\"color\":\"rgba(0, 0, 128, 0.5)\"},\"type\":\"circle\",\"x0\":3.3906291345484756,\"x1\":3.790629134548476,\"xref\":\"x\",\"y0\":11.720527573118547,\"y1\":12.120527573118546,\"yref\":\"y\"},{\"fillcolor\":\"rgba(0, 196, 255, 0.5)\",\"line\":{\"color\":\"rgba(0, 196, 255, 0.5)\"},\"type\":\"circle\",\"x0\":2.588560422696635,\"x1\":2.9885604226966356,\"xref\":\"x\",\"y0\":9.02219481544401,\"y1\":9.422194815444008,\"yref\":\"y\"},{\"line\":{\"color\":\"black\",\"width\":3},\"type\":\"line\",\"x0\":3.184303767775605,\"x1\":3.192804093629487,\"y0\":10.381770426504104,\"y1\":10.581589706005301},{\"line\":{\"color\":\"white\",\"width\":3},\"type\":\"line\",\"x0\":2.0053297081999144,\"x1\":1.994528918488994,\"y0\":10.243575684980124,\"y1\":10.443283829384955},{\"line\":{\"color\":\"white\",\"width\":3},\"type\":\"line\",\"x0\":2.126377598746883,\"x1\":2.1158223434508625,\"y0\":9.07806672498093,\"y1\":9.277787997222111},{\"line\":{\"color\":\"white\",\"width\":3},\"type\":\"line\",\"x0\":2.9284143365865516,\"x1\":3.1250174783338784,\"y0\":11.046834122212996,\"y1\":11.083538408816613},{\"line\":{\"color\":\"white\",\"width\":3},\"type\":\"line\",\"x0\":2.405258224685346,\"x1\":2.5684992087234684,\"y0\":11.302346257171187,\"y1\":11.417898760953085},{\"line\":{\"color\":\"white\",\"width\":3},\"type\":\"line\",\"x0\":4.878882980084487,\"x1\":5.061867790634398,\"y0\":11.904735009933663,\"y1\":11.985460217322764},{\"line\":{\"color\":\"white\",\"width\":3},\"type\":\"line\",\"x0\":3.919284209883319,\"x1\":4.114638539359485,\"y0\":11.32317982438573,\"y1\":11.3660363986179},{\"line\":{\"color\":\"white\",\"width\":3},\"type\":\"line\",\"x0\":2.622413105842369,\"x1\":2.597559168630818,\"y0\":10.172709321202342,\"y1\":10.371159017108091},{\"line\":{\"color\":\"white\",\"width\":3},\"type\":\"line\",\"x0\":3.5906291345484758,\"x1\":3.7815455352087297,\"y0\":11.920527573118546,\"y1\":11.980117236307168},{\"line\":{\"color\":\"black\",\"width\":3},\"type\":\"line\",\"x0\":2.7885604226966354,\"x1\":2.802767553109893,\"y0\":9.22219481544401,\"y1\":9.42168957087738}],\"title\":{\"text\":\"\\u003cb\\u003eMode: Low_knowledge_shortest_path  |  Number of Agents: 10\\u003c\\u002fb\\u003e\",\"x\":0.5}},\"name\":\"350\"},{\"data\":[{\"hoverinfo\":\"name\",\"line\":{\"color\":\"white\"},\"mode\":\"lines\",\"name\":\"Exterior\",\"showlegend\":false,\"x\":[10.1,10.1,15.0,15.0,13.6,13.6,15.0,15.0,13.6,13.6,15.0,15.0,10.1,10.1,9.9,9.9,5.1,5.1,4.9,4.9,0.0,0.0,1.5,1.5,0.0,0.0,1.5,1.5,0.0,0.0,4.9,4.9,5.1,5.1,9.9,9.9,10.1],\"y\":[1.5,0.0,0.0,4.9,4.9,5.1,5.1,9.9,9.9,10.1,10.1,15.0,15.0,13.6,13.6,15.0,15.0,13.6,13.6,15.0,15.0,10.1,10.1,9.9,9.9,5.1,5.1,4.9,4.9,0.0,0.0,1.5,1.5,0.0,0.0,1.5,1.5],\"type\":\"scatter\"},{\"hoverinfo\":\"name\",\"line\":{\"color\":\"white\"},\"mode\":\"lines\",\"name\":\"Obstacle\",\"showlegend\":false,\"x\":[10.1,11.5,11.5,10.1,10.1,9.9,9.9,8.6,8.6,9.9,9.9,10.1,10.1],\"y\":[5.1,5.1,4.9,4.9,3.6,3.6,4.9,4.9,5.1,5.1,6.5,6.5,5.1],\"type\":\"scatter\"},{\"hoverinfo\":\"name\",\"line\":{\"color\":\"white\"},\"mode\":\"lines\",\"name\":\"Obstacle\",\"showlegend\":false,\"x\":[10.1,11.5,11.5,10.1,10.1,9.9,9.9,8.6,8.6,9.9,9.9,10.1,10.1],\"y\":[10.1,10.1,9.9,9.9,8.6,8.6,9.9,9.9,10.1,10.1,11.5,11.5,10.1],\"type\":\"scatter\"},{\"hoverinfo\":\"name\",\"line\":{\"color\":\"white\"},\"mode\":\"lines\",\"name\":\"Obstacle\",\"showlegend\":false,\"x\":[5.1,6.4,6.4,5.1,5.1,4.9,4.9,3.6,3.6,4.9,4.9,5.1,5.1],\"y\":[5.1,5.1,4.9,4.9,3.6,3.6,4.9,4.9,5.1,5.1,6.5,6.5,5.1],\"type\":\"scatter\"},{\"hoverinfo\":\"name\",\"line\":{\"color\":\"white\"},\"mode\":\"lines\",\"name\":\"Obstacle\",\"showlegend\":false,\"x\":[5.1,6.4,6.4,5.1,5.1,4.9,4.9,3.6,3.6,4.9,4.9,5.1,5.1],\"y\":[10.1,10.1,9.9,9.9,8.6,8.6,9.9,9.9,10.1,10.1,11.5,11.5,10.1],\"type\":\"scatter\"},{\"fill\":\"toself\",\"fillcolor\":\"rgb(0, 0, 0)\",\"hoverinfo\":\"name\",\"line\":{\"width\":0},\"mode\":\"lines\",\"name\":\"Risk Area\",\"showlegend\":false,\"x\":[1.5,1.5,3.6,3.6,4.9,4.9,5.0,5.0,4.9,4.9,0.0,0.0,1.5],\"y\":[4.9,5.0,5.0,4.9,4.9,3.6,3.6,1.5,1.5,0.0,0.0,4.9,4.9],\"type\":\"scatter\"},{\"fill\":\"toself\",\"fillcolor\":\"rgb(153, 0, 0)\",\"hoverinfo\":\"name\",\"line\":{\"width\":0},\"mode\":\"lines\",\"name\":\"Risk Area\",\"showlegend\":false,\"x\":[9.9,9.9,5.1,5.1,5.0,5.0,5.1,5.1,6.4,6.4,8.6,8.6,9.9,9.9,10.0,10.0,9.9],\"y\":[1.5,0.0,0.0,1.5,1.5,3.6,3.6,4.9,4.9,5.0,5.0,4.9,4.9,3.6,3.6,1.5,1.5],\"type\":\"scatter\"},{\"fill\":\"toself\",\"fillcolor\":\"rgb(0, 0, 0)\",\"hoverinfo\":\"name\",\"line\":{\"width\":0},\"mode\":\"lines\",\"name\":\"Risk Area\",\"showlegend\":false,\"x\":[13.6,15.0,15.0,10.1,10.1,10.0,10.0,10.1,10.1,11.5,11.5,13.6,13.6],\"y\":[4.9,4.9,0.0,0.0,1.5,1.5,3.6,3.6,4.9,4.9,5.0,5.0,4.9],\"type\":\"scatter\"},{\"fill\":\"toself\",\"fillcolor\":\"rgb(153, 0, 0)\",\"hoverinfo\":\"name\",\"line\":{\"width\":0},\"mode\":\"lines\",\"name\":\"Risk Area\",\"showlegend\":false,\"x\":[13.6,15.0,15.0,13.6,13.6,11.5,11.5,10.1,10.1,10.0,10.0,10.1,10.1,11.5,11.5,13.6,13.6],\"y\":[9.9,9.9,5.1,5.1,5.0,5.0,5.1,5.1,6.5,6.5,8.6,8.6,9.9,9.9,10.0,10.0,9.9],\"type\":\"scatter\"},{\"fill\":\"toself\",\"fillcolor\":\"rgb(153, 0, 0)\",\"hoverinfo\":\"name\",\"line\":{\"width\":0},\"mode\":\"lines\",\"name\":\"Risk Area\",\"showlegend\":false,\"x\":[9.9,9.9,8.6,8.6,6.4,6.4,5.1,5.1,5.0,5.0,5.1,5.1,6.4,6.4,8.6,8.6,9.9,9.9,10.0,10.0,9.9],\"y\":[6.5,5.1,5.1,5.0,5.0,5.1,5.1,6.5,6.5,8.6,8.6,9.9,9.9,10.0,10.0,9.9,9.9,8.6,8.6,6.5,6.5],\"type\":\"scatter\"},{\"fill\":\"toself\",\"fillcolor\":\"rgb(25, 0, 0)\",\"hoverinfo\":\"name\",\"line\":{\"width\":0},\"mode\":\"lines\",\"name\":\"Risk Area\",\"showlegend\":false,\"x\":[4.9,4.9,3.6,3.6,1.5,1.5,0.0,0.0,1.5,1.5,3.6,3.6,4.9,4.9,5.0,5.0,4.9],\"y\":[6.5,5.1,5.1,5.0,5.0,5.1,5.1,9.9,9.9,10.0,10.0,9.9,9.9,8.6,8.6,6.5,6.5],\"type\":\"scatter\"},{\"fill\":\"toself\",\"fillcolor\":\"rgb(0, 0, 0)\",\"hoverinfo\":\"name\",\"line\":{\"width\":0},\"mode\":\"lines\",\"name\":\"Risk Area\",\"showlegend\":false,\"x\":[1.5,0.0,0.0,4.9,4.9,5.0,5.0,4.9,4.9,3.6,3.6,1.5,1.5],\"y\":[10.1,10.1,15.0,15.0,13.6,13.6,11.5,11.5,10.1,10.1,10.0,10.0,10.1],\"type\":\"scatter\"},{\"fill\":\"toself\",\"fillcolor\":\"rgb(0, 0, 0)\",\"hoverinfo\":\"name\",\"line\":{\"width\":0},\"mode\":\"lines\",\"name\":\"Risk Area\",\"showlegend\":false,\"x\":[6.4,5.1,5.1,5.0,5.0,5.1,5.1,9.9,9.9,10.0,10.0,9.9,9.9,8.6,8.6,6.4,6.4],\"y\":[10.1,10.1,11.5,11.5,13.6,13.6,15.0,15.0,13.6,13.6,11.5,11.5,10.1,10.1,10.0,10.0,10.1],\"type\":\"scatter\"},{\"fill\":\"toself\",\"fillcolor\":\"rgb(0, 0, 0)\",\"hoverinfo\":\"name\",\"line\":{\"width\":0},\"mode\":\"lines\",\"name\":\"Risk Area\",\"showlegend\":false,\"x\":[10.1,10.1,15.0,15.0,13.6,13.6,11.5,11.5,10.1,10.1,10.0,10.0,10.1],\"y\":[13.6,15.0,15.0,10.1,10.1,10.0,10.0,10.1,10.1,11.5,11.5,13.6,13.6],\"type\":\"scatter\"},{\"hoverinfo\":\"text\",\"marker\":{\"opacity\":1,\"size\":1},\"mode\":\"markers\",\"showlegend\":false,\"text\":[\"ID: 11, Pos(3.27,11.20)\"],\"x\":[3.268581957525641],\"y\":[11.199982095583218],\"type\":\"scatter\"},{\"hoverinfo\":\"text\",\"marker\":{\"opacity\":1,\"size\":1},\"mode\":\"markers\",\"showlegend\":false,\"text\":[\"ID: 12, Pos(2.52,11.61)\"],\"x\":[2.5194620594401496],\"y\":[11.606308667245932],\"type\":\"scatter\"},{\"hoverinfo\":\"text\",\"marker\":{\"opacity\":1,\"size\":1},\"mode\":\"markers\",\"showlegend\":false,\"text\":[\"ID: 13, Pos(2.13,10.59)\"],\"x\":[2.134949574991304],\"y\":[10.589138999003525],\"type\":\"scatter\"},{\"hoverinfo\":\"text\",\"marker\":{\"opacity\":1,\"size\":1},\"mode\":\"markers\",\"showlegend\":false,\"text\":[\"ID: 14, Pos(4.26,11.40)\"],\"x\":[4.2620083260933255],\"y\":[11.401583781807865],\"type\":\"scatter\"},{\"hoverinfo\":\"text\",\"marker\":{\"opacity\":1,\"size\":1},\"mode\":\"markers\",\"showlegend\":false,\"text\":[\"ID: 15, Pos(3.86,11.95)\"],\"x\":[3.8610460134906783],\"y\":[11.951841874693754],\"type\":\"scatter\"},{\"hoverinfo\":\"text\",\"marker\":{\"opacity\":1,\"size\":1},\"mode\":\"markers\",\"showlegend\":false,\"text\":[\"ID: 16, Pos(6.44,12.27)\"],\"x\":[6.436096089353818],\"y\":[12.265998725466945],\"type\":\"scatter\"},{\"hoverinfo\":\"text\",\"marker\":{\"opacity\":1,\"size\":1},\"mode\":\"markers\",\"showlegend\":false,\"text\":[\"ID: 17, Pos(5.28,11.92)\"],\"x\":[5.277215087143031],\"y\":[11.919835338657863],\"type\":\"scatter\"},{\"hoverinfo\":\"text\",\"marker\":{\"opacity\":1,\"size\":1},\"mode\":\"markers\",\"showlegend\":false,\"text\":[\"ID: 18, Pos(2.70,11.01)\"],\"x\":[2.7016999023591013],\"y\":[11.009478545772405],\"type\":\"scatter\"},{\"hoverinfo\":\"text\",\"marker\":{\"opacity\":1,\"size\":1},\"mode\":\"markers\",\"showlegend\":false,\"text\":[\"ID: 19, Pos(5.05,12.52)\"],\"x\":[5.054908853096241],\"y\":[12.52059370267549],\"type\":\"scatter\"},{\"hoverinfo\":\"text\",\"marker\":{\"opacity\":1,\"size\":1},\"mode\":\"markers\",\"showlegend\":false,\"text\":[\"ID: 20, Pos(2.81,10.29)\"],\"x\":[2.807010447569287],\"y\":[10.294636104868056],\"type\":\"scatter\"}],\"layout\":{\"shapes\":[{\"fillcolor\":\"rgba(0, 208, 255, 0.5)\",\"line\":{\"color\":\"rgba(0, 208, 255, 0.5)\"},\"type\":\"circle\",\"x0\":3.068581957525641,\"x1\":3.4685819575256414,\"xref\":\"x\",\"y0\":10.999982095583219,\"y1\":11.399982095583217,\"yref\":\"y\"},{\"fillcolor\":\"rgba(0, 0, 128, 0.5)\",\"line\":{\"color\":\"rgba(0, 0, 128, 0.5)\"},\"type\":\"circle\",\"x0\":2.3194620594401494,\"x1\":2.7194620594401497,\"xref\":\"x\",\"y0\":11.406308667245932,\"y1\":11.806308667245931,\"yref\":\"y\"},{\"fillcolor\":\"rgba(0, 0, 223, 0.5)\",\"line\":{\"color\":\"rgba(0, 0, 223, 0.5)\"},\"type\":\"circle\",\"x0\":1.9349495749913042,\"x1\":2.3349495749913043,\"xref\":\"x\",\"y0\":10.389138999003526,\"y1\":10.789138999003525,\"yref\":\"y\"},{\"fillcolor\":\"rgba(0, 0, 223, 0.5)\",\"line\":{\"color\":\"rgba(0, 0, 223, 0.5)\"},\"type\":\"circle\",\"x0\":4.062008326093325,\"x1\":4.462008326093326,\"xref\":\"x\",\"y0\":11.201583781807866,\"y1\":11.601583781807864,\"yref\":\"y\"},{\"fillcolor\":\"rgba(0, 0, 128, 0.5)\",\"line\":{\"color\":\"rgba(0, 0, 128, 0.5)\"},\"type\":\"circle\",\"x0\":3.661046013490678,\"x1\":4.061046013490678,\"xref\":\"x\",\"y0\":11.751841874693755,\"y1\":12.151841874693753,\"yref\":\"y\"},{\"fillcolor\":\"rgba(0, 0, 128, 0.5)\",\"line\":{\"color\":\"rgba(0, 0, 128, 0.5)\"},\"type\":\"circle\",\"x0\":6.2360960893538175,\"x1\":6.636096089353818,\"xref\":\"x\",\"y0\":12.065998725466946,\"y1\":12.465998725466944,\"yref\":\"y\"},{\"fillcolor\":\"rgba(0, 0, 128, 0.5)\",\"line\":{\"color\":\"rgba(0, 0, 128, 0.5)\"},\"type\":\"circle\",\"x0\":5.07721508714303,\"x1\":5.477215087143031,\"xref\":\"x\",\"y0\":11.719835338657864,\"y1\":12.119835338657863,\"yref\":\"y\"},{\"fillcolor\":\"rgba(255, 67, 0, 0.5)\",\"line\":{\"color\":\"rgba(255, 67, 0, 0.5)\"},\"type\":\"circle\",\"x0\":2.501699902359101,\"x1\":2.9016999023591015,\"xref\":\"x\",\"y0\":10.809478545772405,\"y1\":11.209478545772404,\"yref\":\"y\"},{\"fillcolor\":\"rgba(0, 0, 128, 0.5)\",\"line\":{\"color\":\"rgba(0, 0, 128, 0.5)\"},\"type\":\"circle\",\"x0\":4.854908853096241,\"x1\":5.254908853096241,\"xref\":\"x\",\"y0\":12.32059370267549,\"y1\":12.720593702675489,\"yref\":\"y\"},{\"fillcolor\":\"rgba(251, 241, 0, 0.5)\",\"line\":{\"color\":\"rgba(251, 241, 0, 0.5)\"},\"type\":\"circle\",\"x0\":2.607010447569287,\"x1\":3.007010447569287,\"xref\":\"x\",\"y0\":10.094636104868057,\"y1\":10.494636104868055,\"yref\":\"y\"},{\"line\":{\"color\":\"black\",\"width\":3},\"type\":\"line\",\"x0\":3.268581957525641,\"x1\":3.460245248380838,\"y0\":11.199982095583218,\"y1\":11.257123874856848},{\"line\":{\"color\":\"white\",\"width\":3},\"type\":\"line\",\"x0\":2.5194620594401496,\"x1\":2.6963404170498797,\"y0\":11.606308667245932,\"y1\":11.699657725137719},{\"line\":{\"color\":\"white\",\"width\":3},\"type\":\"line\",\"x0\":2.134949574991304,\"x1\":2.1359503354097247,\"y0\":10.589138999003525,\"y1\":10.789136495184316},{\"line\":{\"color\":\"white\",\"width\":3},\"type\":\"line\",\"x0\":4.2620083260933255,\"x1\":4.453812049565986,\"y0\":11.401583781807865,\"y1\":11.458252394478576},{\"line\":{\"color\":\"white\",\"width\":3},\"type\":\"line\",\"x0\":3.8610460134906783,\"x1\":4.051842819268651,\"y0\":11.951841874693754,\"y1\":12.011813358791803},{\"line\":{\"color\":\"white\",\"width\":3},\"type\":\"line\",\"x0\":6.436096089353818,\"x1\":6.632100956197994,\"y0\":12.265998725466945,\"y1\":12.305774247756371},{\"line\":{\"color\":\"white\",\"width\":3},\"type\":\"line\",\"x0\":5.277215087143031,\"x1\":5.476475455863263,\"y0\":11.919835338657863,\"y1\":11.937019792605453},{\"line\":{\"color\":\"white\",\"width\":3},\"type\":\"line\",\"x0\":2.7016999023591013,\"x1\":2.9005473444443033,\"y0\":11.009478545772405,\"y1\":11.030919039614016},{\"line\":{\"color\":\"white\",\"width\":3},\"type\":\"line\",\"x0\":5.054908853096241,\"x1\":5.249635868349442,\"y0\":12.52059370267549,\"y1\":12.566215950872829},{\"line\":{\"color\":\"black\",\"width\":3},\"type\":\"line\",\"x0\":2.807010447569287,\"x1\":2.797693602051836,\"y0\":10.294636104868056,\"y1\":10.494418977981855}],\"title\":{\"text\":\"\\u003cb\\u003eMode: Low_knowledge_shortest_path  |  Number of Agents: 10\\u003c\\u002fb\\u003e\",\"x\":0.5}},\"name\":\"400\"},{\"data\":[{\"hoverinfo\":\"name\",\"line\":{\"color\":\"white\"},\"mode\":\"lines\",\"name\":\"Exterior\",\"showlegend\":false,\"x\":[10.1,10.1,15.0,15.0,13.6,13.6,15.0,15.0,13.6,13.6,15.0,15.0,10.1,10.1,9.9,9.9,5.1,5.1,4.9,4.9,0.0,0.0,1.5,1.5,0.0,0.0,1.5,1.5,0.0,0.0,4.9,4.9,5.1,5.1,9.9,9.9,10.1],\"y\":[1.5,0.0,0.0,4.9,4.9,5.1,5.1,9.9,9.9,10.1,10.1,15.0,15.0,13.6,13.6,15.0,15.0,13.6,13.6,15.0,15.0,10.1,10.1,9.9,9.9,5.1,5.1,4.9,4.9,0.0,0.0,1.5,1.5,0.0,0.0,1.5,1.5],\"type\":\"scatter\"},{\"hoverinfo\":\"name\",\"line\":{\"color\":\"white\"},\"mode\":\"lines\",\"name\":\"Obstacle\",\"showlegend\":false,\"x\":[10.1,11.5,11.5,10.1,10.1,9.9,9.9,8.6,8.6,9.9,9.9,10.1,10.1],\"y\":[5.1,5.1,4.9,4.9,3.6,3.6,4.9,4.9,5.1,5.1,6.5,6.5,5.1],\"type\":\"scatter\"},{\"hoverinfo\":\"name\",\"line\":{\"color\":\"white\"},\"mode\":\"lines\",\"name\":\"Obstacle\",\"showlegend\":false,\"x\":[10.1,11.5,11.5,10.1,10.1,9.9,9.9,8.6,8.6,9.9,9.9,10.1,10.1],\"y\":[10.1,10.1,9.9,9.9,8.6,8.6,9.9,9.9,10.1,10.1,11.5,11.5,10.1],\"type\":\"scatter\"},{\"hoverinfo\":\"name\",\"line\":{\"color\":\"white\"},\"mode\":\"lines\",\"name\":\"Obstacle\",\"showlegend\":false,\"x\":[5.1,6.4,6.4,5.1,5.1,4.9,4.9,3.6,3.6,4.9,4.9,5.1,5.1],\"y\":[5.1,5.1,4.9,4.9,3.6,3.6,4.9,4.9,5.1,5.1,6.5,6.5,5.1],\"type\":\"scatter\"},{\"hoverinfo\":\"name\",\"line\":{\"color\":\"white\"},\"mode\":\"lines\",\"name\":\"Obstacle\",\"showlegend\":false,\"x\":[5.1,6.4,6.4,5.1,5.1,4.9,4.9,3.6,3.6,4.9,4.9,5.1,5.1],\"y\":[10.1,10.1,9.9,9.9,8.6,8.6,9.9,9.9,10.1,10.1,11.5,11.5,10.1],\"type\":\"scatter\"},{\"fill\":\"toself\",\"fillcolor\":\"rgb(0, 0, 0)\",\"hoverinfo\":\"name\",\"line\":{\"width\":0},\"mode\":\"lines\",\"name\":\"Risk Area\",\"showlegend\":false,\"x\":[1.5,1.5,3.6,3.6,4.9,4.9,5.0,5.0,4.9,4.9,0.0,0.0,1.5],\"y\":[4.9,5.0,5.0,4.9,4.9,3.6,3.6,1.5,1.5,0.0,0.0,4.9,4.9],\"type\":\"scatter\"},{\"fill\":\"toself\",\"fillcolor\":\"rgb(153, 0, 0)\",\"hoverinfo\":\"name\",\"line\":{\"width\":0},\"mode\":\"lines\",\"name\":\"Risk Area\",\"showlegend\":false,\"x\":[9.9,9.9,5.1,5.1,5.0,5.0,5.1,5.1,6.4,6.4,8.6,8.6,9.9,9.9,10.0,10.0,9.9],\"y\":[1.5,0.0,0.0,1.5,1.5,3.6,3.6,4.9,4.9,5.0,5.0,4.9,4.9,3.6,3.6,1.5,1.5],\"type\":\"scatter\"},{\"fill\":\"toself\",\"fillcolor\":\"rgb(0, 0, 0)\",\"hoverinfo\":\"name\",\"line\":{\"width\":0},\"mode\":\"lines\",\"name\":\"Risk Area\",\"showlegend\":false,\"x\":[13.6,15.0,15.0,10.1,10.1,10.0,10.0,10.1,10.1,11.5,11.5,13.6,13.6],\"y\":[4.9,4.9,0.0,0.0,1.5,1.5,3.6,3.6,4.9,4.9,5.0,5.0,4.9],\"type\":\"scatter\"},{\"fill\":\"toself\",\"fillcolor\":\"rgb(153, 0, 0)\",\"hoverinfo\":\"name\",\"line\":{\"width\":0},\"mode\":\"lines\",\"name\":\"Risk Area\",\"showlegend\":false,\"x\":[13.6,15.0,15.0,13.6,13.6,11.5,11.5,10.1,10.1,10.0,10.0,10.1,10.1,11.5,11.5,13.6,13.6],\"y\":[9.9,9.9,5.1,5.1,5.0,5.0,5.1,5.1,6.5,6.5,8.6,8.6,9.9,9.9,10.0,10.0,9.9],\"type\":\"scatter\"},{\"fill\":\"toself\",\"fillcolor\":\"rgb(153, 0, 0)\",\"hoverinfo\":\"name\",\"line\":{\"width\":0},\"mode\":\"lines\",\"name\":\"Risk Area\",\"showlegend\":false,\"x\":[9.9,9.9,8.6,8.6,6.4,6.4,5.1,5.1,5.0,5.0,5.1,5.1,6.4,6.4,8.6,8.6,9.9,9.9,10.0,10.0,9.9],\"y\":[6.5,5.1,5.1,5.0,5.0,5.1,5.1,6.5,6.5,8.6,8.6,9.9,9.9,10.0,10.0,9.9,9.9,8.6,8.6,6.5,6.5],\"type\":\"scatter\"},{\"fill\":\"toself\",\"fillcolor\":\"rgb(25, 0, 0)\",\"hoverinfo\":\"name\",\"line\":{\"width\":0},\"mode\":\"lines\",\"name\":\"Risk Area\",\"showlegend\":false,\"x\":[4.9,4.9,3.6,3.6,1.5,1.5,0.0,0.0,1.5,1.5,3.6,3.6,4.9,4.9,5.0,5.0,4.9],\"y\":[6.5,5.1,5.1,5.0,5.0,5.1,5.1,9.9,9.9,10.0,10.0,9.9,9.9,8.6,8.6,6.5,6.5],\"type\":\"scatter\"},{\"fill\":\"toself\",\"fillcolor\":\"rgb(0, 0, 0)\",\"hoverinfo\":\"name\",\"line\":{\"width\":0},\"mode\":\"lines\",\"name\":\"Risk Area\",\"showlegend\":false,\"x\":[1.5,0.0,0.0,4.9,4.9,5.0,5.0,4.9,4.9,3.6,3.6,1.5,1.5],\"y\":[10.1,10.1,15.0,15.0,13.6,13.6,11.5,11.5,10.1,10.1,10.0,10.0,10.1],\"type\":\"scatter\"},{\"fill\":\"toself\",\"fillcolor\":\"rgb(0, 0, 0)\",\"hoverinfo\":\"name\",\"line\":{\"width\":0},\"mode\":\"lines\",\"name\":\"Risk Area\",\"showlegend\":false,\"x\":[6.4,5.1,5.1,5.0,5.0,5.1,5.1,9.9,9.9,10.0,10.0,9.9,9.9,8.6,8.6,6.4,6.4],\"y\":[10.1,10.1,11.5,11.5,13.6,13.6,15.0,15.0,13.6,13.6,11.5,11.5,10.1,10.1,10.0,10.0,10.1],\"type\":\"scatter\"},{\"fill\":\"toself\",\"fillcolor\":\"rgb(0, 0, 0)\",\"hoverinfo\":\"name\",\"line\":{\"width\":0},\"mode\":\"lines\",\"name\":\"Risk Area\",\"showlegend\":false,\"x\":[10.1,10.1,15.0,15.0,13.6,13.6,11.5,11.5,10.1,10.1,10.0,10.0,10.1],\"y\":[13.6,15.0,15.0,10.1,10.1,10.0,10.0,10.1,10.1,11.5,11.5,13.6,13.6],\"type\":\"scatter\"},{\"hoverinfo\":\"text\",\"marker\":{\"opacity\":1,\"size\":1},\"mode\":\"markers\",\"showlegend\":false,\"text\":[\"ID: 11, Pos(4.57,11.58)\"],\"x\":[4.569274457836213],\"y\":[11.58057807193965],\"type\":\"scatter\"},{\"hoverinfo\":\"text\",\"marker\":{\"opacity\":1,\"size\":1},\"mode\":\"markers\",\"showlegend\":false,\"text\":[\"ID: 12, Pos(4.05,12.05)\"],\"x\":[4.0527879418488535],\"y\":[12.051926510806197],\"type\":\"scatter\"},{\"hoverinfo\":\"text\",\"marker\":{\"opacity\":1,\"size\":1},\"mode\":\"markers\",\"showlegend\":false,\"text\":[\"ID: 13, Pos(2.83,11.42)\"],\"x\":[2.830877970031418],\"y\":[11.422361667706504],\"type\":\"scatter\"},{\"hoverinfo\":\"text\",\"marker\":{\"opacity\":1,\"size\":1},\"mode\":\"markers\",\"showlegend\":false,\"text\":[\"ID: 14, Pos(5.64,11.96)\"],\"x\":[5.644447432851107],\"y\":[11.9599626901714],\"type\":\"scatter\"},{\"hoverinfo\":\"text\",\"marker\":{\"opacity\":1,\"size\":1},\"mode\":\"markers\",\"showlegend\":false,\"text\":[\"ID: 15, Pos(5.32,12.54)\"],\"x\":[5.317747503619101],\"y\":[12.544103481751312],\"type\":\"scatter\"},{\"hoverinfo\":\"text\",\"marker\":{\"opacity\":1,\"size\":1},\"mode\":\"markers\",\"showlegend\":false,\"text\":[\"ID: 16, Pos(8.00,12.58)\"],\"x\":[8.00412730682348],\"y\":[12.584240930073332],\"type\":\"scatter\"},{\"hoverinfo\":\"text\",\"marker\":{\"opacity\":1,\"size\":1},\"mode\":\"markers\",\"showlegend\":false,\"text\":[\"ID: 17, Pos(6.87,12.10)\"],\"x\":[6.866643578436502],\"y\":[12.09646691252388],\"type\":\"scatter\"},{\"hoverinfo\":\"text\",\"marker\":{\"opacity\":1,\"size\":1},\"mode\":\"markers\",\"showlegend\":false,\"text\":[\"ID: 18, Pos(3.58,11.30)\"],\"x\":[3.5774144726641683],\"y\":[11.300262359713477],\"type\":\"scatter\"},{\"hoverinfo\":\"text\",\"marker\":{\"opacity\":1,\"size\":1},\"mode\":\"markers\",\"showlegend\":false,\"text\":[\"ID: 19, Pos(6.63,12.80)\"],\"x\":[6.626097573448067],\"y\":[12.803753391794874],\"type\":\"scatter\"},{\"hoverinfo\":\"text\",\"marker\":{\"opacity\":1,\"size\":1},\"mode\":\"markers\",\"showlegend\":false,\"text\":[\"ID: 20, Pos(2.73,10.77)\"],\"x\":[2.733198352330914],\"y\":[10.774802626737701],\"type\":\"scatter\"}],\"layout\":{\"shapes\":[{\"fillcolor\":\"rgba(0, 0, 237, 0.5)\",\"line\":{\"color\":\"rgba(0, 0, 237, 0.5)\"},\"type\":\"circle\",\"x0\":4.369274457836213,\"x1\":4.769274457836214,\"xref\":\"x\",\"y0\":11.38057807193965,\"y1\":11.78057807193965,\"yref\":\"y\"},{\"fillcolor\":\"rgba(0, 0, 128, 0.5)\",\"line\":{\"color\":\"rgba(0, 0, 128, 0.5)\"},\"type\":\"circle\",\"x0\":3.8527879418488533,\"x1\":4.252787941848854,\"xref\":\"x\",\"y0\":11.851926510806198,\"y1\":12.251926510806197,\"yref\":\"y\"},{\"fillcolor\":\"rgba(0, 0, 146, 0.5)\",\"line\":{\"color\":\"rgba(0, 0, 146, 0.5)\"},\"type\":\"circle\",\"x0\":2.6308779700314178,\"x1\":3.030877970031418,\"xref\":\"x\",\"y0\":11.222361667706505,\"y1\":11.622361667706503,\"yref\":\"y\"},{\"fillcolor\":\"rgba(0, 0, 128, 0.5)\",\"line\":{\"color\":\"rgba(0, 0, 128, 0.5)\"},\"type\":\"circle\",\"x0\":5.444447432851107,\"x1\":5.844447432851108,\"xref\":\"x\",\"y0\":11.7599626901714,\"y1\":12.1599626901714,\"yref\":\"y\"},{\"fillcolor\":\"rgba(0, 0, 128, 0.5)\",\"line\":{\"color\":\"rgba(0, 0, 128, 0.5)\"},\"type\":\"circle\",\"x0\":5.117747503619101,\"x1\":5.517747503619101,\"xref\":\"x\",\"y0\":12.344103481751313,\"y1\":12.744103481751312,\"yref\":\"y\"},{\"fillcolor\":\"rgba(0, 0, 128, 0.5)\",\"line\":{\"color\":\"rgba(0, 0, 128, 0.5)\"},\"type\":\"circle\",\"x0\":7.804127306823481,\"x1\":8.20412730682348,\"xref\":\"x\",\"y0\":12.384240930073332,\"y1\":12.78424093007333,\"yref\":\"y\"},{\"fillcolor\":\"rgba(0, 0, 128, 0.5)\",\"line\":{\"color\":\"rgba(0, 0, 128, 0.5)\"},\"type\":\"circle\",\"x0\":6.666643578436502,\"x1\":7.066643578436502,\"xref\":\"x\",\"y0\":11.89646691252388,\"y1\":12.29646691252388,\"yref\":\"y\"},{\"fillcolor\":\"rgba(0, 117, 255, 0.5)\",\"line\":{\"color\":\"rgba(0, 117, 255, 0.5)\"},\"type\":\"circle\",\"x0\":3.377414472664168,\"x1\":3.7774144726641685,\"xref\":\"x\",\"y0\":11.100262359713478,\"y1\":11.500262359713476,\"yref\":\"y\"},{\"fillcolor\":\"rgba(0, 0, 128, 0.5)\",\"line\":{\"color\":\"rgba(0, 0, 128, 0.5)\"},\"type\":\"circle\",\"x0\":6.426097573448067,\"x1\":6.826097573448068,\"xref\":\"x\",\"y0\":12.603753391794875,\"y1\":13.003753391794874,\"yref\":\"y\"},{\"fillcolor\":\"rgba(255, 145, 0, 0.5)\",\"line\":{\"color\":\"rgba(255, 145, 0, 0.5)\"},\"type\":\"circle\",\"x0\":2.533198352330914,\"x1\":2.933198352330914,\"xref\":\"x\",\"y0\":10.574802626737702,\"y1\":10.9748026267377,\"yref\":\"y\"},{\"line\":{\"color\":\"white\",\"width\":3},\"type\":\"line\",\"x0\":4.569274457836213,\"x1\":4.727295872465414,\"y0\":11.58057807193965,\"y1\":11.703171842248691},{\"line\":{\"color\":\"white\",\"width\":3},\"type\":\"line\",\"x0\":4.0527879418488535,\"x1\":4.24661644472616,\"y0\":12.051926510806197,\"y1\":12.101226728577945},{\"line\":{\"color\":\"white\",\"width\":3},\"type\":\"line\",\"x0\":2.830877970031418,\"x1\":3.0115180343729904,\"y0\":11.422361667706504,\"y1\":11.508205521037262},{\"line\":{\"color\":\"white\",\"width\":3},\"type\":\"line\",\"x0\":5.644447432851107,\"x1\":5.843028752610842,\"y0\":11.9599626901714,\"y1\":11.983742081300733},{\"line\":{\"color\":\"white\",\"width\":3},\"type\":\"line\",\"x0\":5.317747503619101,\"x1\":5.515605411220708,\"y0\":12.544103481751312,\"y1\":12.573296775493436},{\"line\":{\"color\":\"white\",\"width\":3},\"type\":\"line\",\"x0\":8.00412730682348,\"x1\":8.200130770673734,\"y0\":12.584240930073332,\"y1\":12.624023365377145},{\"line\":{\"color\":\"white\",\"width\":3},\"type\":\"line\",\"x0\":6.866643578436502,\"x1\":7.0642339903312985,\"y0\":12.09646691252388,\"y1\":12.127418958130667},{\"line\":{\"color\":\"white\",\"width\":3},\"type\":\"line\",\"x0\":3.5774144726641683,\"x1\":3.7709023130874857,\"y0\":11.300262359713477,\"y1\":11.350883063070116},{\"line\":{\"color\":\"white\",\"width\":3},\"type\":\"line\",\"x0\":6.626097573448067,\"x1\":6.821572838852099,\"y0\":12.803753391794874,\"y1\":12.846054935681872},{\"line\":{\"color\":\"black\",\"width\":3},\"type\":\"line\",\"x0\":2.733198352330914,\"x1\":2.690998454544581,\"y0\":10.774802626737701,\"y1\":10.970299861057839}],\"title\":{\"text\":\"\\u003cb\\u003eMode: Low_knowledge_shortest_path  |  Number of Agents: 10\\u003c\\u002fb\\u003e\",\"x\":0.5}},\"name\":\"450\"},{\"data\":[{\"hoverinfo\":\"name\",\"line\":{\"color\":\"white\"},\"mode\":\"lines\",\"name\":\"Exterior\",\"showlegend\":false,\"x\":[10.1,10.1,15.0,15.0,13.6,13.6,15.0,15.0,13.6,13.6,15.0,15.0,10.1,10.1,9.9,9.9,5.1,5.1,4.9,4.9,0.0,0.0,1.5,1.5,0.0,0.0,1.5,1.5,0.0,0.0,4.9,4.9,5.1,5.1,9.9,9.9,10.1],\"y\":[1.5,0.0,0.0,4.9,4.9,5.1,5.1,9.9,9.9,10.1,10.1,15.0,15.0,13.6,13.6,15.0,15.0,13.6,13.6,15.0,15.0,10.1,10.1,9.9,9.9,5.1,5.1,4.9,4.9,0.0,0.0,1.5,1.5,0.0,0.0,1.5,1.5],\"type\":\"scatter\"},{\"hoverinfo\":\"name\",\"line\":{\"color\":\"white\"},\"mode\":\"lines\",\"name\":\"Obstacle\",\"showlegend\":false,\"x\":[10.1,11.5,11.5,10.1,10.1,9.9,9.9,8.6,8.6,9.9,9.9,10.1,10.1],\"y\":[5.1,5.1,4.9,4.9,3.6,3.6,4.9,4.9,5.1,5.1,6.5,6.5,5.1],\"type\":\"scatter\"},{\"hoverinfo\":\"name\",\"line\":{\"color\":\"white\"},\"mode\":\"lines\",\"name\":\"Obstacle\",\"showlegend\":false,\"x\":[10.1,11.5,11.5,10.1,10.1,9.9,9.9,8.6,8.6,9.9,9.9,10.1,10.1],\"y\":[10.1,10.1,9.9,9.9,8.6,8.6,9.9,9.9,10.1,10.1,11.5,11.5,10.1],\"type\":\"scatter\"},{\"hoverinfo\":\"name\",\"line\":{\"color\":\"white\"},\"mode\":\"lines\",\"name\":\"Obstacle\",\"showlegend\":false,\"x\":[5.1,6.4,6.4,5.1,5.1,4.9,4.9,3.6,3.6,4.9,4.9,5.1,5.1],\"y\":[5.1,5.1,4.9,4.9,3.6,3.6,4.9,4.9,5.1,5.1,6.5,6.5,5.1],\"type\":\"scatter\"},{\"hoverinfo\":\"name\",\"line\":{\"color\":\"white\"},\"mode\":\"lines\",\"name\":\"Obstacle\",\"showlegend\":false,\"x\":[5.1,6.4,6.4,5.1,5.1,4.9,4.9,3.6,3.6,4.9,4.9,5.1,5.1],\"y\":[10.1,10.1,9.9,9.9,8.6,8.6,9.9,9.9,10.1,10.1,11.5,11.5,10.1],\"type\":\"scatter\"},{\"fill\":\"toself\",\"fillcolor\":\"rgb(0, 0, 0)\",\"hoverinfo\":\"name\",\"line\":{\"width\":0},\"mode\":\"lines\",\"name\":\"Risk Area\",\"showlegend\":false,\"x\":[1.5,1.5,3.6,3.6,4.9,4.9,5.0,5.0,4.9,4.9,0.0,0.0,1.5],\"y\":[4.9,5.0,5.0,4.9,4.9,3.6,3.6,1.5,1.5,0.0,0.0,4.9,4.9],\"type\":\"scatter\"},{\"fill\":\"toself\",\"fillcolor\":\"rgb(153, 0, 0)\",\"hoverinfo\":\"name\",\"line\":{\"width\":0},\"mode\":\"lines\",\"name\":\"Risk Area\",\"showlegend\":false,\"x\":[9.9,9.9,5.1,5.1,5.0,5.0,5.1,5.1,6.4,6.4,8.6,8.6,9.9,9.9,10.0,10.0,9.9],\"y\":[1.5,0.0,0.0,1.5,1.5,3.6,3.6,4.9,4.9,5.0,5.0,4.9,4.9,3.6,3.6,1.5,1.5],\"type\":\"scatter\"},{\"fill\":\"toself\",\"fillcolor\":\"rgb(0, 0, 0)\",\"hoverinfo\":\"name\",\"line\":{\"width\":0},\"mode\":\"lines\",\"name\":\"Risk Area\",\"showlegend\":false,\"x\":[13.6,15.0,15.0,10.1,10.1,10.0,10.0,10.1,10.1,11.5,11.5,13.6,13.6],\"y\":[4.9,4.9,0.0,0.0,1.5,1.5,3.6,3.6,4.9,4.9,5.0,5.0,4.9],\"type\":\"scatter\"},{\"fill\":\"toself\",\"fillcolor\":\"rgb(153, 0, 0)\",\"hoverinfo\":\"name\",\"line\":{\"width\":0},\"mode\":\"lines\",\"name\":\"Risk Area\",\"showlegend\":false,\"x\":[13.6,15.0,15.0,13.6,13.6,11.5,11.5,10.1,10.1,10.0,10.0,10.1,10.1,11.5,11.5,13.6,13.6],\"y\":[9.9,9.9,5.1,5.1,5.0,5.0,5.1,5.1,6.5,6.5,8.6,8.6,9.9,9.9,10.0,10.0,9.9],\"type\":\"scatter\"},{\"fill\":\"toself\",\"fillcolor\":\"rgb(153, 0, 0)\",\"hoverinfo\":\"name\",\"line\":{\"width\":0},\"mode\":\"lines\",\"name\":\"Risk Area\",\"showlegend\":false,\"x\":[9.9,9.9,8.6,8.6,6.4,6.4,5.1,5.1,5.0,5.0,5.1,5.1,6.4,6.4,8.6,8.6,9.9,9.9,10.0,10.0,9.9],\"y\":[6.5,5.1,5.1,5.0,5.0,5.1,5.1,6.5,6.5,8.6,8.6,9.9,9.9,10.0,10.0,9.9,9.9,8.6,8.6,6.5,6.5],\"type\":\"scatter\"},{\"fill\":\"toself\",\"fillcolor\":\"rgb(25, 0, 0)\",\"hoverinfo\":\"name\",\"line\":{\"width\":0},\"mode\":\"lines\",\"name\":\"Risk Area\",\"showlegend\":false,\"x\":[4.9,4.9,3.6,3.6,1.5,1.5,0.0,0.0,1.5,1.5,3.6,3.6,4.9,4.9,5.0,5.0,4.9],\"y\":[6.5,5.1,5.1,5.0,5.0,5.1,5.1,9.9,9.9,10.0,10.0,9.9,9.9,8.6,8.6,6.5,6.5],\"type\":\"scatter\"},{\"fill\":\"toself\",\"fillcolor\":\"rgb(0, 0, 0)\",\"hoverinfo\":\"name\",\"line\":{\"width\":0},\"mode\":\"lines\",\"name\":\"Risk Area\",\"showlegend\":false,\"x\":[1.5,0.0,0.0,4.9,4.9,5.0,5.0,4.9,4.9,3.6,3.6,1.5,1.5],\"y\":[10.1,10.1,15.0,15.0,13.6,13.6,11.5,11.5,10.1,10.1,10.0,10.0,10.1],\"type\":\"scatter\"},{\"fill\":\"toself\",\"fillcolor\":\"rgb(0, 0, 0)\",\"hoverinfo\":\"name\",\"line\":{\"width\":0},\"mode\":\"lines\",\"name\":\"Risk Area\",\"showlegend\":false,\"x\":[6.4,5.1,5.1,5.0,5.0,5.1,5.1,9.9,9.9,10.0,10.0,9.9,9.9,8.6,8.6,6.4,6.4],\"y\":[10.1,10.1,11.5,11.5,13.6,13.6,15.0,15.0,13.6,13.6,11.5,11.5,10.1,10.1,10.0,10.0,10.1],\"type\":\"scatter\"},{\"fill\":\"toself\",\"fillcolor\":\"rgb(0, 0, 0)\",\"hoverinfo\":\"name\",\"line\":{\"width\":0},\"mode\":\"lines\",\"name\":\"Risk Area\",\"showlegend\":false,\"x\":[10.1,10.1,15.0,15.0,13.6,13.6,11.5,11.5,10.1,10.1,10.0,10.0,10.1],\"y\":[13.6,15.0,15.0,10.1,10.1,10.0,10.0,10.1,10.1,11.5,11.5,13.6,13.6],\"type\":\"scatter\"},{\"hoverinfo\":\"text\",\"marker\":{\"opacity\":1,\"size\":1},\"mode\":\"markers\",\"showlegend\":false,\"text\":[\"ID: 11, Pos(6.02,12.03)\"],\"x\":[6.024155245548492],\"y\":[12.031286144587826],\"type\":\"scatter\"},{\"hoverinfo\":\"text\",\"marker\":{\"opacity\":1,\"size\":1},\"mode\":\"markers\",\"showlegend\":false,\"text\":[\"ID: 12, Pos(5.57,12.52)\"],\"x\":[5.566624770189424],\"y\":[12.519427425354124],\"type\":\"scatter\"},{\"hoverinfo\":\"text\",\"marker\":{\"opacity\":1,\"size\":1},\"mode\":\"markers\",\"showlegend\":false,\"text\":[\"ID: 13, Pos(4.04,11.85)\"],\"x\":[4.036403866390622],\"y\":[11.854530098357461],\"type\":\"scatter\"},{\"hoverinfo\":\"text\",\"marker\":{\"opacity\":1,\"size\":1},\"mode\":\"markers\",\"showlegend\":false,\"text\":[\"ID: 14, Pos(7.23,12.16)\"],\"x\":[7.23079837964285],\"y\":[12.16135340811703],\"type\":\"scatter\"},{\"hoverinfo\":\"text\",\"marker\":{\"opacity\":1,\"size\":1},\"mode\":\"markers\",\"showlegend\":false,\"text\":[\"ID: 15, Pos(6.89,12.84)\"],\"x\":[6.887336156210513],\"y\":[12.836196744455226],\"type\":\"scatter\"},{\"hoverinfo\":\"text\",\"marker\":{\"opacity\":1,\"size\":1},\"mode\":\"markers\",\"showlegend\":false,\"text\":[\"ID: 16, Pos(9.57,12.90)\"],\"x\":[9.572159090631207],\"y\":[12.902480343451213],\"type\":\"scatter\"},{\"hoverinfo\":\"text\",\"marker\":{\"opacity\":1,\"size\":1},\"mode\":\"markers\",\"showlegend\":false,\"text\":[\"ID: 17, Pos(8.44,12.38)\"],\"x\":[8.441510000764323],\"y\":[12.378601725324257],\"type\":\"scatter\"},{\"hoverinfo\":\"text\",\"marker\":{\"opacity\":1,\"size\":1},\"mode\":\"markers\",\"showlegend\":false,\"text\":[\"ID: 18, Pos(4.77,11.83)\"],\"x\":[4.7691066804672655],\"y\":[11.834899260758787],\"type\":\"scatter\"},{\"hoverinfo\":\"text\",\"marker\":{\"opacity\":1,\"size\":1},\"mode\":\"markers\",\"showlegend\":false,\"text\":[\"ID: 19, Pos(8.20,13.11)\"],\"x\":[8.197000627738646],\"y\":[13.107171096355799],\"type\":\"scatter\"},{\"hoverinfo\":\"text\",\"marker\":{\"opacity\":1,\"size\":1},\"mode\":\"markers\",\"showlegend\":false,\"text\":[\"ID: 20, Pos(3.82,11.27)\"],\"x\":[3.823439510272888],\"y\":[11.272978605855913],\"type\":\"scatter\"}],\"layout\":{\"shapes\":[{\"fillcolor\":\"rgba(0, 0, 128, 0.5)\",\"line\":{\"color\":\"rgba(0, 0, 128, 0.5)\"},\"type\":\"circle\",\"x0\":5.824155245548492,\"x1\":6.224155245548492,\"xref\":\"x\",\"y0\":11.831286144587827,\"y1\":12.231286144587825,\"yref\":\"y\"},{\"fillcolor\":\"rgba(0, 0, 128, 0.5)\",\"line\":{\"color\":\"rgba(0, 0, 128, 0.5)\"},\"type\":\"circle\",\"x0\":5.366624770189424,\"x1\":5.766624770189424,\"xref\":\"x\",\"y0\":12.319427425354124,\"y1\":12.719427425354123,\"yref\":\"y\"},{\"fillcolor\":\"rgba(244, 248, 2, 0.5)\",\"line\":{\"color\":\"rgba(244, 248, 2, 0.5)\"},\"type\":\"circle\",\"x0\":3.836403866390622,\"x1\":4.2364038663906225,\"xref\":\"x\",\"y0\":11.654530098357462,\"y1\":12.05453009835746,\"yref\":\"y\"},{\"fillcolor\":\"rgba(0, 0, 128, 0.5)\",\"line\":{\"color\":\"rgba(0, 0, 128, 0.5)\"},\"type\":\"circle\",\"x0\":7.0307983796428495,\"x1\":7.43079837964285,\"xref\":\"x\",\"y0\":11.96135340811703,\"y1\":12.36135340811703,\"yref\":\"y\"},{\"fillcolor\":\"rgba(0, 0, 128, 0.5)\",\"line\":{\"color\":\"rgba(0, 0, 128, 0.5)\"},\"type\":\"circle\",\"x0\":6.687336156210513,\"x1\":7.0873361562105135,\"xref\":\"x\",\"y0\":12.636196744455226,\"y1\":13.036196744455225,\"yref\":\"y\"},{\"fillcolor\":\"rgba(0, 0, 128, 0.5)\",\"line\":{\"color\":\"rgba(0, 0, 128, 0.5)\"},\"type\":\"circle\",\"x0\":9.372159090631207,\"x1\":9.772159090631206,\"xref\":\"x\",\"y0\":12.702480343451214,\"y1\":13.102480343451212,\"yref\":\"y\"},{\"fillcolor\":\"rgba(0, 0, 128, 0.5)\",\"line\":{\"color\":\"rgba(0, 0, 128, 0.5)\"},\"type\":\"circle\",\"x0\":8.241510000764324,\"x1\":8.641510000764322,\"xref\":\"x\",\"y0\":12.178601725324258,\"y1\":12.578601725324257,\"yref\":\"y\"},{\"fillcolor\":\"rgba(0, 88, 255, 0.5)\",\"line\":{\"color\":\"rgba(0, 88, 255, 0.5)\"},\"type\":\"circle\",\"x0\":4.569106680467265,\"x1\":4.969106680467266,\"xref\":\"x\",\"y0\":11.634899260758788,\"y1\":12.034899260758786,\"yref\":\"y\"},{\"fillcolor\":\"rgba(0, 0, 128, 0.5)\",\"line\":{\"color\":\"rgba(0, 0, 128, 0.5)\"},\"type\":\"circle\",\"x0\":7.997000627738646,\"x1\":8.397000627738645,\"xref\":\"x\",\"y0\":12.9071710963558,\"y1\":13.307171096355798,\"yref\":\"y\"},{\"fillcolor\":\"rgba(0, 0, 173, 0.5)\",\"line\":{\"color\":\"rgba(0, 0, 173, 0.5)\"},\"type\":\"circle\",\"x0\":3.623439510272888,\"x1\":4.023439510272888,\"xref\":\"x\",\"y0\":11.072978605855914,\"y1\":11.472978605855912,\"yref\":\"y\"},{\"line\":{\"color\":\"white\",\"width\":3},\"type\":\"line\",\"x0\":6.024155245548492,\"x1\":6.221612788304817,\"y0\":12.031286144587826,\"y1\":12.063074803078456},{\"line\":{\"color\":\"white\",\"width\":3},\"type\":\"line\",\"x0\":5.566624770189424,\"x1\":5.764751841410335,\"y0\":12.519427425354124,\"y1\":12.546734267892656},{\"line\":{\"color\":\"black\",\"width\":3},\"type\":\"line\",\"x0\":4.036403866390622,\"x1\":4.218122512429771,\"y0\":11.854530098357461,\"y1\":11.938066519646014},{\"line\":{\"color\":\"white\",\"width\":3},\"type\":\"line\",\"x0\":7.23079837964285,\"x1\":7.427955817551423,\"y0\":12.16135340811703,\"y1\":12.194953180100294},{\"line\":{\"color\":\"white\",\"width\":3},\"type\":\"line\",\"x0\":6.887336156210513,\"x1\":7.083199979533781,\"y0\":12.836196744455226,\"y1\":12.876661083238801},{\"line\":{\"color\":\"white\",\"width\":3},\"type\":\"line\",\"x0\":9.572159090631207,\"x1\":9.768166691027828,\"y0\":12.902480343451213,\"y1\":12.94224239303066},{\"line\":{\"color\":\"white\",\"width\":3},\"type\":\"line\",\"x0\":8.441510000764323,\"x1\":8.637989068048151,\"y0\":12.378601725324257,\"y1\":12.415964489130982},{\"line\":{\"color\":\"white\",\"width\":3},\"type\":\"line\",\"x0\":4.7691066804672655,\"x1\":4.931304497249841,\"y0\":11.834899260758787,\"y1\":11.951911517514077},{\"line\":{\"color\":\"white\",\"width\":3},\"type\":\"line\",\"x0\":8.197000627738646,\"x1\":8.393766544657328,\"y0\":13.107171096355799,\"y1\":13.1429925136805},{\"line\":{\"color\":\"white\",\"width\":3},\"type\":\"line\",\"x0\":3.823439510272888,\"x1\":4.022057806408266,\"y0\":11.272978605855913,\"y1\":11.296447147358942}],\"title\":{\"text\":\"\\u003cb\\u003eMode: Low_knowledge_shortest_path  |  Number of Agents: 10\\u003c\\u002fb\\u003e\",\"x\":0.5}},\"name\":\"500\"},{\"data\":[{\"hoverinfo\":\"name\",\"line\":{\"color\":\"white\"},\"mode\":\"lines\",\"name\":\"Exterior\",\"showlegend\":false,\"x\":[10.1,10.1,15.0,15.0,13.6,13.6,15.0,15.0,13.6,13.6,15.0,15.0,10.1,10.1,9.9,9.9,5.1,5.1,4.9,4.9,0.0,0.0,1.5,1.5,0.0,0.0,1.5,1.5,0.0,0.0,4.9,4.9,5.1,5.1,9.9,9.9,10.1],\"y\":[1.5,0.0,0.0,4.9,4.9,5.1,5.1,9.9,9.9,10.1,10.1,15.0,15.0,13.6,13.6,15.0,15.0,13.6,13.6,15.0,15.0,10.1,10.1,9.9,9.9,5.1,5.1,4.9,4.9,0.0,0.0,1.5,1.5,0.0,0.0,1.5,1.5],\"type\":\"scatter\"},{\"hoverinfo\":\"name\",\"line\":{\"color\":\"white\"},\"mode\":\"lines\",\"name\":\"Obstacle\",\"showlegend\":false,\"x\":[10.1,11.5,11.5,10.1,10.1,9.9,9.9,8.6,8.6,9.9,9.9,10.1,10.1],\"y\":[5.1,5.1,4.9,4.9,3.6,3.6,4.9,4.9,5.1,5.1,6.5,6.5,5.1],\"type\":\"scatter\"},{\"hoverinfo\":\"name\",\"line\":{\"color\":\"white\"},\"mode\":\"lines\",\"name\":\"Obstacle\",\"showlegend\":false,\"x\":[10.1,11.5,11.5,10.1,10.1,9.9,9.9,8.6,8.6,9.9,9.9,10.1,10.1],\"y\":[10.1,10.1,9.9,9.9,8.6,8.6,9.9,9.9,10.1,10.1,11.5,11.5,10.1],\"type\":\"scatter\"},{\"hoverinfo\":\"name\",\"line\":{\"color\":\"white\"},\"mode\":\"lines\",\"name\":\"Obstacle\",\"showlegend\":false,\"x\":[5.1,6.4,6.4,5.1,5.1,4.9,4.9,3.6,3.6,4.9,4.9,5.1,5.1],\"y\":[5.1,5.1,4.9,4.9,3.6,3.6,4.9,4.9,5.1,5.1,6.5,6.5,5.1],\"type\":\"scatter\"},{\"hoverinfo\":\"name\",\"line\":{\"color\":\"white\"},\"mode\":\"lines\",\"name\":\"Obstacle\",\"showlegend\":false,\"x\":[5.1,6.4,6.4,5.1,5.1,4.9,4.9,3.6,3.6,4.9,4.9,5.1,5.1],\"y\":[10.1,10.1,9.9,9.9,8.6,8.6,9.9,9.9,10.1,10.1,11.5,11.5,10.1],\"type\":\"scatter\"},{\"fill\":\"toself\",\"fillcolor\":\"rgb(0, 0, 0)\",\"hoverinfo\":\"name\",\"line\":{\"width\":0},\"mode\":\"lines\",\"name\":\"Risk Area\",\"showlegend\":false,\"x\":[1.5,1.5,3.6,3.6,4.9,4.9,5.0,5.0,4.9,4.9,0.0,0.0,1.5],\"y\":[4.9,5.0,5.0,4.9,4.9,3.6,3.6,1.5,1.5,0.0,0.0,4.9,4.9],\"type\":\"scatter\"},{\"fill\":\"toself\",\"fillcolor\":\"rgb(153, 0, 0)\",\"hoverinfo\":\"name\",\"line\":{\"width\":0},\"mode\":\"lines\",\"name\":\"Risk Area\",\"showlegend\":false,\"x\":[9.9,9.9,5.1,5.1,5.0,5.0,5.1,5.1,6.4,6.4,8.6,8.6,9.9,9.9,10.0,10.0,9.9],\"y\":[1.5,0.0,0.0,1.5,1.5,3.6,3.6,4.9,4.9,5.0,5.0,4.9,4.9,3.6,3.6,1.5,1.5],\"type\":\"scatter\"},{\"fill\":\"toself\",\"fillcolor\":\"rgb(0, 0, 0)\",\"hoverinfo\":\"name\",\"line\":{\"width\":0},\"mode\":\"lines\",\"name\":\"Risk Area\",\"showlegend\":false,\"x\":[13.6,15.0,15.0,10.1,10.1,10.0,10.0,10.1,10.1,11.5,11.5,13.6,13.6],\"y\":[4.9,4.9,0.0,0.0,1.5,1.5,3.6,3.6,4.9,4.9,5.0,5.0,4.9],\"type\":\"scatter\"},{\"fill\":\"toself\",\"fillcolor\":\"rgb(153, 0, 0)\",\"hoverinfo\":\"name\",\"line\":{\"width\":0},\"mode\":\"lines\",\"name\":\"Risk Area\",\"showlegend\":false,\"x\":[13.6,15.0,15.0,13.6,13.6,11.5,11.5,10.1,10.1,10.0,10.0,10.1,10.1,11.5,11.5,13.6,13.6],\"y\":[9.9,9.9,5.1,5.1,5.0,5.0,5.1,5.1,6.5,6.5,8.6,8.6,9.9,9.9,10.0,10.0,9.9],\"type\":\"scatter\"},{\"fill\":\"toself\",\"fillcolor\":\"rgb(153, 0, 0)\",\"hoverinfo\":\"name\",\"line\":{\"width\":0},\"mode\":\"lines\",\"name\":\"Risk Area\",\"showlegend\":false,\"x\":[9.9,9.9,8.6,8.6,6.4,6.4,5.1,5.1,5.0,5.0,5.1,5.1,6.4,6.4,8.6,8.6,9.9,9.9,10.0,10.0,9.9],\"y\":[6.5,5.1,5.1,5.0,5.0,5.1,5.1,6.5,6.5,8.6,8.6,9.9,9.9,10.0,10.0,9.9,9.9,8.6,8.6,6.5,6.5],\"type\":\"scatter\"},{\"fill\":\"toself\",\"fillcolor\":\"rgb(25, 0, 0)\",\"hoverinfo\":\"name\",\"line\":{\"width\":0},\"mode\":\"lines\",\"name\":\"Risk Area\",\"showlegend\":false,\"x\":[4.9,4.9,3.6,3.6,1.5,1.5,0.0,0.0,1.5,1.5,3.6,3.6,4.9,4.9,5.0,5.0,4.9],\"y\":[6.5,5.1,5.1,5.0,5.0,5.1,5.1,9.9,9.9,10.0,10.0,9.9,9.9,8.6,8.6,6.5,6.5],\"type\":\"scatter\"},{\"fill\":\"toself\",\"fillcolor\":\"rgb(0, 0, 0)\",\"hoverinfo\":\"name\",\"line\":{\"width\":0},\"mode\":\"lines\",\"name\":\"Risk Area\",\"showlegend\":false,\"x\":[1.5,0.0,0.0,4.9,4.9,5.0,5.0,4.9,4.9,3.6,3.6,1.5,1.5],\"y\":[10.1,10.1,15.0,15.0,13.6,13.6,11.5,11.5,10.1,10.1,10.0,10.0,10.1],\"type\":\"scatter\"},{\"fill\":\"toself\",\"fillcolor\":\"rgb(0, 0, 0)\",\"hoverinfo\":\"name\",\"line\":{\"width\":0},\"mode\":\"lines\",\"name\":\"Risk Area\",\"showlegend\":false,\"x\":[6.4,5.1,5.1,5.0,5.0,5.1,5.1,9.9,9.9,10.0,10.0,9.9,9.9,8.6,8.6,6.4,6.4],\"y\":[10.1,10.1,11.5,11.5,13.6,13.6,15.0,15.0,13.6,13.6,11.5,11.5,10.1,10.1,10.0,10.0,10.1],\"type\":\"scatter\"},{\"fill\":\"toself\",\"fillcolor\":\"rgb(0, 0, 0)\",\"hoverinfo\":\"name\",\"line\":{\"width\":0},\"mode\":\"lines\",\"name\":\"Risk Area\",\"showlegend\":false,\"x\":[10.1,10.1,15.0,15.0,13.6,13.6,11.5,11.5,10.1,10.1,10.0,10.0,10.1],\"y\":[13.6,15.0,15.0,10.1,10.1,10.0,10.0,10.1,10.1,11.5,11.5,13.6,13.6],\"type\":\"scatter\"},{\"hoverinfo\":\"text\",\"marker\":{\"opacity\":1,\"size\":1},\"mode\":\"markers\",\"showlegend\":false,\"text\":[\"ID: 11, Pos(7.61,12.25)\"],\"x\":[7.6087463667831585],\"y\":[12.246399040417042],\"type\":\"scatter\"},{\"hoverinfo\":\"text\",\"marker\":{\"opacity\":1,\"size\":1},\"mode\":\"markers\",\"showlegend\":false,\"text\":[\"ID: 12, Pos(7.13,12.84)\"],\"x\":[7.132086321772685],\"y\":[12.836401352377559],\"type\":\"scatter\"},{\"hoverinfo\":\"text\",\"marker\":{\"opacity\":1,\"size\":1},\"mode\":\"markers\",\"showlegend\":false,\"text\":[\"ID: 13, Pos(5.10,12.25)\"],\"x\":[5.101167122722285],\"y\":[12.254832424525583],\"type\":\"scatter\"},{\"hoverinfo\":\"text\",\"marker\":{\"opacity\":1,\"size\":1},\"mode\":\"markers\",\"showlegend\":false,\"text\":[\"ID: 14, Pos(8.80,12.45)\"],\"x\":[8.803944337279425],\"y\":[12.45309557149683],\"type\":\"scatter\"},{\"hoverinfo\":\"text\",\"marker\":{\"opacity\":1,\"size\":1},\"mode\":\"markers\",\"showlegend\":false,\"text\":[\"ID: 15, Pos(8.46,13.14)\"],\"x\":[8.458916140360492],\"y\":[13.13625206271917],\"type\":\"scatter\"},{\"hoverinfo\":\"text\",\"marker\":{\"opacity\":1,\"size\":1},\"mode\":\"markers\",\"showlegend\":false,\"text\":[\"ID: 16, Pos(11.14,13.22)\"],\"x\":[11.140592298297516],\"y\":[13.218718665734455],\"type\":\"scatter\"},{\"hoverinfo\":\"text\",\"marker\":{\"opacity\":1,\"size\":1},\"mode\":\"markers\",\"showlegend\":false,\"text\":[\"ID: 17, Pos(10.01,12.68)\"],\"x\":[10.013205366707437],\"y\":[12.677493064497957],\"type\":\"scatter\"},{\"hoverinfo\":\"text\",\"marker\":{\"opacity\":1,\"size\":1},\"mode\":\"markers\",\"showlegend\":false,\"text\":[\"ID: 18, Pos(6.20,12.21)\"],\"x\":[6.202909596768089],\"y\":[12.21329099707344],\"type\":\"scatter\"},{\"hoverinfo\":\"text\",\"marker\":{\"opacity\":1,\"size\":1},\"mode\":\"markers\",\"showlegend\":false,\"text\":[\"ID: 19, Pos(9.76,13.29)\"],\"x\":[9.761718498538983],\"y\":[13.293451287384196],\"type\":\"scatter\"},{\"hoverinfo\":\"text\",\"marker\":{\"opacity\":1,\"size\":1},\"mode\":\"markers\",\"showlegend\":false,\"text\":[\"ID: 20, Pos(4.63,11.70)\"],\"x\":[4.628240506893892],\"y\":[11.695029112951659],\"type\":\"scatter\"}],\"layout\":{\"shapes\":[{\"fillcolor\":\"rgba(0, 0, 128, 0.5)\",\"line\":{\"color\":\"rgba(0, 0, 128, 0.5)\"},\"type\":\"circle\",\"x0\":7.408746366783158,\"x1\":7.808746366783159,\"xref\":\"x\",\"y0\":12.046399040417043,\"y1\":12.446399040417042,\"yref\":\"y\"},{\"fillcolor\":\"rgba(0, 0, 128, 0.5)\",\"line\":{\"color\":\"rgba(0, 0, 128, 0.5)\"},\"type\":\"circle\",\"x0\":6.932086321772685,\"x1\":7.332086321772685,\"xref\":\"x\",\"y0\":12.63640135237756,\"y1\":13.036401352377558,\"yref\":\"y\"},{\"fillcolor\":\"rgba(0, 13, 255, 0.5)\",\"line\":{\"color\":\"rgba(0, 13, 255, 0.5)\"},\"type\":\"circle\",\"x0\":4.901167122722285,\"x1\":5.301167122722285,\"xref\":\"x\",\"y0\":12.054832424525584,\"y1\":12.454832424525582,\"yref\":\"y\"},{\"fillcolor\":\"rgba(0, 0, 128, 0.5)\",\"line\":{\"color\":\"rgba(0, 0, 128, 0.5)\"},\"type\":\"circle\",\"x0\":8.603944337279426,\"x1\":9.003944337279425,\"xref\":\"x\",\"y0\":12.25309557149683,\"y1\":12.653095571496829,\"yref\":\"y\"},{\"fillcolor\":\"rgba(0, 0, 128, 0.5)\",\"line\":{\"color\":\"rgba(0, 0, 128, 0.5)\"},\"type\":\"circle\",\"x0\":8.258916140360492,\"x1\":8.65891614036049,\"xref\":\"x\",\"y0\":12.93625206271917,\"y1\":13.336252062719169,\"yref\":\"y\"},{\"fillcolor\":\"rgba(0, 0, 128, 0.5)\",\"line\":{\"color\":\"rgba(0, 0, 128, 0.5)\"},\"type\":\"circle\",\"x0\":10.940592298297517,\"x1\":11.340592298297516,\"xref\":\"x\",\"y0\":13.018718665734456,\"y1\":13.418718665734454,\"yref\":\"y\"},{\"fillcolor\":\"rgba(0, 0, 128, 0.5)\",\"line\":{\"color\":\"rgba(0, 0, 128, 0.5)\"},\"type\":\"circle\",\"x0\":9.813205366707438,\"x1\":10.213205366707436,\"xref\":\"x\",\"y0\":12.477493064497958,\"y1\":12.877493064497957,\"yref\":\"y\"},{\"fillcolor\":\"rgba(0, 0, 128, 0.5)\",\"line\":{\"color\":\"rgba(0, 0, 128, 0.5)\"},\"type\":\"circle\",\"x0\":6.002909596768089,\"x1\":6.402909596768089,\"xref\":\"x\",\"y0\":12.01329099707344,\"y1\":12.413290997073439,\"yref\":\"y\"},{\"fillcolor\":\"rgba(0, 0, 141, 0.5)\",\"line\":{\"color\":\"rgba(0, 0, 141, 0.5)\"},\"type\":\"circle\",\"x0\":9.561718498538983,\"x1\":9.961718498538982,\"xref\":\"x\",\"y0\":13.093451287384196,\"y1\":13.493451287384195,\"yref\":\"y\"},{\"fillcolor\":\"rgba(248, 245, 0, 0.5)\",\"line\":{\"color\":\"rgba(248, 245, 0, 0.5)\"},\"type\":\"circle\",\"x0\":4.428240506893892,\"x1\":4.828240506893892,\"xref\":\"x\",\"y0\":11.49502911295166,\"y1\":11.895029112951658,\"yref\":\"y\"},{\"line\":{\"color\":\"white\",\"width\":3},\"type\":\"line\",\"x0\":7.6087463667831585,\"x1\":7.805646077975026,\"y0\":12.246399040417042,\"y1\":12.281477577053558},{\"line\":{\"color\":\"white\",\"width\":3},\"type\":\"line\",\"x0\":7.132086321772685,\"x1\":7.328010820056778,\"y0\":12.836401352377559,\"y1\":12.876570880282756},{\"line\":{\"color\":\"white\",\"width\":3},\"type\":\"line\",\"x0\":5.101167122722285,\"x1\":5.298454385088795,\"y0\":12.254832424525583,\"y1\":12.2876613158856},{\"line\":{\"color\":\"white\",\"width\":3},\"type\":\"line\",\"x0\":8.803944337279425,\"x1\":9.000294539045145,\"y0\":12.45309557149683,\"y1\":12.491129743849616},{\"line\":{\"color\":\"white\",\"width\":3},\"type\":\"line\",\"x0\":8.458916140360492,\"x1\":8.655664553641099,\"y0\":13.13625206271917,\"y1\":13.172169494024363},{\"line\":{\"color\":\"white\",\"width\":3},\"type\":\"line\",\"x0\":11.140592298297516,\"x1\":11.336567830983789,\"y0\":13.218718665734455,\"y1\":13.258638467692023},{\"line\":{\"color\":\"white\",\"width\":3},\"type\":\"line\",\"x0\":10.013205366707437,\"x1\":10.21202112587962,\"y0\":12.677493064497957,\"y1\":12.699225388459935},{\"line\":{\"color\":\"white\",\"width\":3},\"type\":\"line\",\"x0\":6.202909596768089,\"x1\":6.398939154282076,\"y0\":12.21329099707344,\"y1\":12.252944654923258},{\"line\":{\"color\":\"white\",\"width\":3},\"type\":\"line\",\"x0\":9.761718498538983,\"x1\":9.937264743875375,\"y0\":13.293451287384196,\"y1\":13.197620625546268},{\"line\":{\"color\":\"black\",\"width\":3},\"type\":\"line\",\"x0\":4.628240506893892,\"x1\":4.726048061762861,\"y0\":11.695029112951659,\"y1\":11.869481634316509}],\"title\":{\"text\":\"\\u003cb\\u003eMode: Low_knowledge_shortest_path  |  Number of Agents: 10\\u003c\\u002fb\\u003e\",\"x\":0.5}},\"name\":\"550\"},{\"data\":[{\"hoverinfo\":\"name\",\"line\":{\"color\":\"white\"},\"mode\":\"lines\",\"name\":\"Exterior\",\"showlegend\":false,\"x\":[10.1,10.1,15.0,15.0,13.6,13.6,15.0,15.0,13.6,13.6,15.0,15.0,10.1,10.1,9.9,9.9,5.1,5.1,4.9,4.9,0.0,0.0,1.5,1.5,0.0,0.0,1.5,1.5,0.0,0.0,4.9,4.9,5.1,5.1,9.9,9.9,10.1],\"y\":[1.5,0.0,0.0,4.9,4.9,5.1,5.1,9.9,9.9,10.1,10.1,15.0,15.0,13.6,13.6,15.0,15.0,13.6,13.6,15.0,15.0,10.1,10.1,9.9,9.9,5.1,5.1,4.9,4.9,0.0,0.0,1.5,1.5,0.0,0.0,1.5,1.5],\"type\":\"scatter\"},{\"hoverinfo\":\"name\",\"line\":{\"color\":\"white\"},\"mode\":\"lines\",\"name\":\"Obstacle\",\"showlegend\":false,\"x\":[10.1,11.5,11.5,10.1,10.1,9.9,9.9,8.6,8.6,9.9,9.9,10.1,10.1],\"y\":[5.1,5.1,4.9,4.9,3.6,3.6,4.9,4.9,5.1,5.1,6.5,6.5,5.1],\"type\":\"scatter\"},{\"hoverinfo\":\"name\",\"line\":{\"color\":\"white\"},\"mode\":\"lines\",\"name\":\"Obstacle\",\"showlegend\":false,\"x\":[10.1,11.5,11.5,10.1,10.1,9.9,9.9,8.6,8.6,9.9,9.9,10.1,10.1],\"y\":[10.1,10.1,9.9,9.9,8.6,8.6,9.9,9.9,10.1,10.1,11.5,11.5,10.1],\"type\":\"scatter\"},{\"hoverinfo\":\"name\",\"line\":{\"color\":\"white\"},\"mode\":\"lines\",\"name\":\"Obstacle\",\"showlegend\":false,\"x\":[5.1,6.4,6.4,5.1,5.1,4.9,4.9,3.6,3.6,4.9,4.9,5.1,5.1],\"y\":[5.1,5.1,4.9,4.9,3.6,3.6,4.9,4.9,5.1,5.1,6.5,6.5,5.1],\"type\":\"scatter\"},{\"hoverinfo\":\"name\",\"line\":{\"color\":\"white\"},\"mode\":\"lines\",\"name\":\"Obstacle\",\"showlegend\":false,\"x\":[5.1,6.4,6.4,5.1,5.1,4.9,4.9,3.6,3.6,4.9,4.9,5.1,5.1],\"y\":[10.1,10.1,9.9,9.9,8.6,8.6,9.9,9.9,10.1,10.1,11.5,11.5,10.1],\"type\":\"scatter\"},{\"fill\":\"toself\",\"fillcolor\":\"rgb(0, 0, 0)\",\"hoverinfo\":\"name\",\"line\":{\"width\":0},\"mode\":\"lines\",\"name\":\"Risk Area\",\"showlegend\":false,\"x\":[1.5,1.5,3.6,3.6,4.9,4.9,5.0,5.0,4.9,4.9,0.0,0.0,1.5],\"y\":[4.9,5.0,5.0,4.9,4.9,3.6,3.6,1.5,1.5,0.0,0.0,4.9,4.9],\"type\":\"scatter\"},{\"fill\":\"toself\",\"fillcolor\":\"rgb(153, 0, 0)\",\"hoverinfo\":\"name\",\"line\":{\"width\":0},\"mode\":\"lines\",\"name\":\"Risk Area\",\"showlegend\":false,\"x\":[9.9,9.9,5.1,5.1,5.0,5.0,5.1,5.1,6.4,6.4,8.6,8.6,9.9,9.9,10.0,10.0,9.9],\"y\":[1.5,0.0,0.0,1.5,1.5,3.6,3.6,4.9,4.9,5.0,5.0,4.9,4.9,3.6,3.6,1.5,1.5],\"type\":\"scatter\"},{\"fill\":\"toself\",\"fillcolor\":\"rgb(0, 0, 0)\",\"hoverinfo\":\"name\",\"line\":{\"width\":0},\"mode\":\"lines\",\"name\":\"Risk Area\",\"showlegend\":false,\"x\":[13.6,15.0,15.0,10.1,10.1,10.0,10.0,10.1,10.1,11.5,11.5,13.6,13.6],\"y\":[4.9,4.9,0.0,0.0,1.5,1.5,3.6,3.6,4.9,4.9,5.0,5.0,4.9],\"type\":\"scatter\"},{\"fill\":\"toself\",\"fillcolor\":\"rgb(153, 0, 0)\",\"hoverinfo\":\"name\",\"line\":{\"width\":0},\"mode\":\"lines\",\"name\":\"Risk Area\",\"showlegend\":false,\"x\":[13.6,15.0,15.0,13.6,13.6,11.5,11.5,10.1,10.1,10.0,10.0,10.1,10.1,11.5,11.5,13.6,13.6],\"y\":[9.9,9.9,5.1,5.1,5.0,5.0,5.1,5.1,6.5,6.5,8.6,8.6,9.9,9.9,10.0,10.0,9.9],\"type\":\"scatter\"},{\"fill\":\"toself\",\"fillcolor\":\"rgb(153, 0, 0)\",\"hoverinfo\":\"name\",\"line\":{\"width\":0},\"mode\":\"lines\",\"name\":\"Risk Area\",\"showlegend\":false,\"x\":[9.9,9.9,8.6,8.6,6.4,6.4,5.1,5.1,5.0,5.0,5.1,5.1,6.4,6.4,8.6,8.6,9.9,9.9,10.0,10.0,9.9],\"y\":[6.5,5.1,5.1,5.0,5.0,5.1,5.1,6.5,6.5,8.6,8.6,9.9,9.9,10.0,10.0,9.9,9.9,8.6,8.6,6.5,6.5],\"type\":\"scatter\"},{\"fill\":\"toself\",\"fillcolor\":\"rgb(25, 0, 0)\",\"hoverinfo\":\"name\",\"line\":{\"width\":0},\"mode\":\"lines\",\"name\":\"Risk Area\",\"showlegend\":false,\"x\":[4.9,4.9,3.6,3.6,1.5,1.5,0.0,0.0,1.5,1.5,3.6,3.6,4.9,4.9,5.0,5.0,4.9],\"y\":[6.5,5.1,5.1,5.0,5.0,5.1,5.1,9.9,9.9,10.0,10.0,9.9,9.9,8.6,8.6,6.5,6.5],\"type\":\"scatter\"},{\"fill\":\"toself\",\"fillcolor\":\"rgb(0, 0, 0)\",\"hoverinfo\":\"name\",\"line\":{\"width\":0},\"mode\":\"lines\",\"name\":\"Risk Area\",\"showlegend\":false,\"x\":[1.5,0.0,0.0,4.9,4.9,5.0,5.0,4.9,4.9,3.6,3.6,1.5,1.5],\"y\":[10.1,10.1,15.0,15.0,13.6,13.6,11.5,11.5,10.1,10.1,10.0,10.0,10.1],\"type\":\"scatter\"},{\"fill\":\"toself\",\"fillcolor\":\"rgb(0, 0, 0)\",\"hoverinfo\":\"name\",\"line\":{\"width\":0},\"mode\":\"lines\",\"name\":\"Risk Area\",\"showlegend\":false,\"x\":[6.4,5.1,5.1,5.0,5.0,5.1,5.1,9.9,9.9,10.0,10.0,9.9,9.9,8.6,8.6,6.4,6.4],\"y\":[10.1,10.1,11.5,11.5,13.6,13.6,15.0,15.0,13.6,13.6,11.5,11.5,10.1,10.1,10.0,10.0,10.1],\"type\":\"scatter\"},{\"fill\":\"toself\",\"fillcolor\":\"rgb(0, 0, 0)\",\"hoverinfo\":\"name\",\"line\":{\"width\":0},\"mode\":\"lines\",\"name\":\"Risk Area\",\"showlegend\":false,\"x\":[10.1,10.1,15.0,15.0,13.6,13.6,11.5,11.5,10.1,10.1,10.0,10.0,10.1],\"y\":[13.6,15.0,15.0,10.1,10.1,10.0,10.0,10.1,10.1,11.5,11.5,13.6,13.6],\"type\":\"scatter\"},{\"hoverinfo\":\"text\",\"marker\":{\"opacity\":1,\"size\":1},\"mode\":\"markers\",\"showlegend\":false,\"text\":[\"ID: 11.0, Pos(9.18,12.54)\"],\"x\":[9.18063889337701],\"y\":[12.54487986664302],\"type\":\"scatter\"},{\"hoverinfo\":\"text\",\"marker\":{\"opacity\":1,\"size\":1},\"mode\":\"markers\",\"showlegend\":false,\"text\":[\"ID: 12.0, Pos(8.70,13.14)\"],\"x\":[8.69894741318616],\"y\":[13.138057320617914],\"type\":\"scatter\"},{\"hoverinfo\":\"text\",\"marker\":{\"opacity\":1,\"size\":1},\"mode\":\"markers\",\"showlegend\":false,\"text\":[\"ID: 13.0, Pos(6.59,12.46)\"],\"x\":[6.590885117241864],\"y\":[12.463447427145418],\"type\":\"scatter\"},{\"hoverinfo\":\"text\",\"marker\":{\"opacity\":1,\"size\":1},\"mode\":\"markers\",\"showlegend\":false,\"text\":[\"ID: 14.0, Pos(10.37,12.76)\"],\"x\":[10.374562696481087],\"y\":[12.758033718327276],\"type\":\"scatter\"},{\"hoverinfo\":\"text\",\"marker\":{\"opacity\":1,\"size\":1},\"mode\":\"markers\",\"showlegend\":false,\"text\":[\"ID: 15.0, Pos(9.83,13.26)\"],\"x\":[9.826609626078765],\"y\":[13.257337828102429],\"type\":\"scatter\"},{\"hoverinfo\":\"text\",\"marker\":{\"opacity\":1,\"size\":1},\"mode\":\"markers\",\"showlegend\":false,\"text\":[\"ID: 17.0, Pos(11.59,12.89)\"],\"x\":[11.592345594908506],\"y\":[12.890409940414576],\"type\":\"scatter\"},{\"hoverinfo\":\"text\",\"marker\":{\"opacity\":1,\"size\":1},\"mode\":\"markers\",\"showlegend\":false,\"text\":[\"ID: 18.0, Pos(7.77,12.53)\"],\"x\":[7.771021270349785],\"y\":[12.531136411025715],\"type\":\"scatter\"},{\"hoverinfo\":\"text\",\"marker\":{\"opacity\":1,\"size\":1},\"mode\":\"markers\",\"showlegend\":false,\"text\":[\"ID: 19.0, Pos(11.32,13.53)\"],\"x\":[11.315230207253094],\"y\":[13.527434701525037],\"type\":\"scatter\"},{\"hoverinfo\":\"text\",\"marker\":{\"opacity\":1,\"size\":1},\"mode\":\"markers\",\"showlegend\":false,\"text\":[\"ID: 20.0, Pos(5.58,12.09)\"],\"x\":[5.578298384011793],\"y\":[12.085248561321174],\"type\":\"scatter\"},{\"hoverinfo\":\"none\",\"marker\":{\"opacity\":0,\"size\":1},\"mode\":\"markers\",\"showlegend\":false,\"x\":[0.0],\"y\":[0.0],\"type\":\"scatter\"}],\"layout\":{\"shapes\":[{\"fillcolor\":\"rgba(0, 0, 128, 0.5)\",\"line\":{\"color\":\"rgba(0, 0, 128, 0.5)\"},\"type\":\"circle\",\"x0\":8.98063889337701,\"x1\":9.380638893377009,\"xref\":\"x\",\"y0\":12.344879866643021,\"y1\":12.74487986664302,\"yref\":\"y\"},{\"fillcolor\":\"rgba(0, 0, 228, 0.5)\",\"line\":{\"color\":\"rgba(0, 0, 228, 0.5)\"},\"type\":\"circle\",\"x0\":8.49894741318616,\"x1\":8.898947413186159,\"xref\":\"x\",\"y0\":12.938057320617915,\"y1\":13.338057320617914,\"yref\":\"y\"},{\"fillcolor\":\"rgba(0, 0, 155, 0.5)\",\"line\":{\"color\":\"rgba(0, 0, 155, 0.5)\"},\"type\":\"circle\",\"x0\":6.390885117241864,\"x1\":6.7908851172418645,\"xref\":\"x\",\"y0\":12.263447427145419,\"y1\":12.663447427145417,\"yref\":\"y\"},{\"fillcolor\":\"rgba(0, 0, 128, 0.5)\",\"line\":{\"color\":\"rgba(0, 0, 128, 0.5)\"},\"type\":\"circle\",\"x0\":10.174562696481088,\"x1\":10.574562696481086,\"xref\":\"x\",\"y0\":12.558033718327277,\"y1\":12.958033718327275,\"yref\":\"y\"},{\"fillcolor\":\"rgba(238, 255, 9, 0.5)\",\"line\":{\"color\":\"rgba(238, 255, 9, 0.5)\"},\"type\":\"circle\",\"x0\":9.626609626078766,\"x1\":10.026609626078764,\"xref\":\"x\",\"y0\":13.05733782810243,\"y1\":13.457337828102428,\"yref\":\"y\"},{\"fillcolor\":\"rgba(0, 0, 128, 0.5)\",\"line\":{\"color\":\"rgba(0, 0, 128, 0.5)\"},\"type\":\"circle\",\"x0\":11.392345594908507,\"x1\":11.792345594908506,\"xref\":\"x\",\"y0\":12.690409940414577,\"y1\":13.090409940414576,\"yref\":\"y\"},{\"fillcolor\":\"rgba(0, 0, 128, 0.5)\",\"line\":{\"color\":\"rgba(0, 0, 128, 0.5)\"},\"type\":\"circle\",\"x0\":7.571021270349785,\"x1\":7.971021270349786,\"xref\":\"x\",\"y0\":12.331136411025716,\"y1\":12.731136411025714,\"yref\":\"y\"},{\"fillcolor\":\"rgba(0, 0, 128, 0.5)\",\"line\":{\"color\":\"rgba(0, 0, 128, 0.5)\"},\"type\":\"circle\",\"x0\":11.115230207253095,\"x1\":11.515230207253094,\"xref\":\"x\",\"y0\":13.327434701525037,\"y1\":13.727434701525036,\"yref\":\"y\"},{\"fillcolor\":\"rgba(0, 40, 255, 0.5)\",\"line\":{\"color\":\"rgba(0, 40, 255, 0.5)\"},\"type\":\"circle\",\"x0\":5.378298384011793,\"x1\":5.778298384011793,\"xref\":\"x\",\"y0\":11.885248561321175,\"y1\":12.285248561321174,\"yref\":\"y\"},{\"fillcolor\":\"rgba(255,255,255,0)\",\"line\":{\"width\":0},\"type\":\"circle\",\"x0\":0.0,\"x1\":0.0,\"xref\":\"x\",\"y0\":0.0,\"y1\":0.0,\"yref\":\"y\"},{\"line\":{\"color\":\"white\",\"width\":3},\"type\":\"line\",\"x0\":9.18063889337701,\"x1\":9.376962520193285,\"y0\":12.54487986664302,\"y1\":12.583050975530554},{\"line\":{\"color\":\"white\",\"width\":3},\"type\":\"line\",\"x0\":8.69894741318616,\"x1\":8.895657984470903,\"y0\":13.138057320617914,\"y1\":13.174181428147783},{\"line\":{\"color\":\"white\",\"width\":3},\"type\":\"line\",\"x0\":6.590885117241864,\"x1\":6.787708957893676,\"y0\":12.463447427145418,\"y1\":12.498949198243073},{\"line\":{\"color\":\"white\",\"width\":3},\"type\":\"line\",\"x0\":10.374562696481087,\"x1\":10.569995147223871,\"y0\":12.758033718327276,\"y1\":12.800532626509366},{\"line\":{\"color\":\"black\",\"width\":3},\"type\":\"line\",\"x0\":9.826609626078765,\"x1\":10.01153019425046,\"y0\":13.257337828102429,\"y1\":13.181151323608146},{\"line\":{\"color\":\"white\",\"width\":3},\"type\":\"line\",\"x0\":11.592345594908506,\"x1\":11.786434989796318,\"y0\":12.890409940414576,\"y1\":12.938672832910605},{\"line\":{\"color\":\"white\",\"width\":3},\"type\":\"line\",\"x0\":7.771021270349785,\"x1\":7.9670276585631195,\"y0\":12.531136411025715,\"y1\":12.57090443561286},{\"line\":{\"color\":\"white\",\"width\":3},\"type\":\"line\",\"x0\":11.315230207253094,\"x1\":11.51012836649855,\"y0\":13.527434701525037,\"y1\":13.572320194980414},{\"line\":{\"color\":\"white\",\"width\":3},\"type\":\"line\",\"x0\":5.578298384011793,\"x1\":5.773810286292381,\"y0\":12.085248561321174,\"y1\":12.127380450272726},{\"line\":{\"color\":\"rgba(255,255,255,0)\",\"width\":3},\"type\":\"line\",\"x0\":0.0,\"x1\":null,\"y0\":0.0,\"y1\":null}],\"title\":{\"text\":\"\\u003cb\\u003eMode: Low_knowledge_shortest_path  |  Number of Agents: 9\\u003c\\u002fb\\u003e\",\"x\":0.5}},\"name\":\"600\"},{\"data\":[{\"hoverinfo\":\"name\",\"line\":{\"color\":\"white\"},\"mode\":\"lines\",\"name\":\"Exterior\",\"showlegend\":false,\"x\":[10.1,10.1,15.0,15.0,13.6,13.6,15.0,15.0,13.6,13.6,15.0,15.0,10.1,10.1,9.9,9.9,5.1,5.1,4.9,4.9,0.0,0.0,1.5,1.5,0.0,0.0,1.5,1.5,0.0,0.0,4.9,4.9,5.1,5.1,9.9,9.9,10.1],\"y\":[1.5,0.0,0.0,4.9,4.9,5.1,5.1,9.9,9.9,10.1,10.1,15.0,15.0,13.6,13.6,15.0,15.0,13.6,13.6,15.0,15.0,10.1,10.1,9.9,9.9,5.1,5.1,4.9,4.9,0.0,0.0,1.5,1.5,0.0,0.0,1.5,1.5],\"type\":\"scatter\"},{\"hoverinfo\":\"name\",\"line\":{\"color\":\"white\"},\"mode\":\"lines\",\"name\":\"Obstacle\",\"showlegend\":false,\"x\":[10.1,11.5,11.5,10.1,10.1,9.9,9.9,8.6,8.6,9.9,9.9,10.1,10.1],\"y\":[5.1,5.1,4.9,4.9,3.6,3.6,4.9,4.9,5.1,5.1,6.5,6.5,5.1],\"type\":\"scatter\"},{\"hoverinfo\":\"name\",\"line\":{\"color\":\"white\"},\"mode\":\"lines\",\"name\":\"Obstacle\",\"showlegend\":false,\"x\":[10.1,11.5,11.5,10.1,10.1,9.9,9.9,8.6,8.6,9.9,9.9,10.1,10.1],\"y\":[10.1,10.1,9.9,9.9,8.6,8.6,9.9,9.9,10.1,10.1,11.5,11.5,10.1],\"type\":\"scatter\"},{\"hoverinfo\":\"name\",\"line\":{\"color\":\"white\"},\"mode\":\"lines\",\"name\":\"Obstacle\",\"showlegend\":false,\"x\":[5.1,6.4,6.4,5.1,5.1,4.9,4.9,3.6,3.6,4.9,4.9,5.1,5.1],\"y\":[5.1,5.1,4.9,4.9,3.6,3.6,4.9,4.9,5.1,5.1,6.5,6.5,5.1],\"type\":\"scatter\"},{\"hoverinfo\":\"name\",\"line\":{\"color\":\"white\"},\"mode\":\"lines\",\"name\":\"Obstacle\",\"showlegend\":false,\"x\":[5.1,6.4,6.4,5.1,5.1,4.9,4.9,3.6,3.6,4.9,4.9,5.1,5.1],\"y\":[10.1,10.1,9.9,9.9,8.6,8.6,9.9,9.9,10.1,10.1,11.5,11.5,10.1],\"type\":\"scatter\"},{\"fill\":\"toself\",\"fillcolor\":\"rgb(0, 0, 0)\",\"hoverinfo\":\"name\",\"line\":{\"width\":0},\"mode\":\"lines\",\"name\":\"Risk Area\",\"showlegend\":false,\"x\":[1.5,1.5,3.6,3.6,4.9,4.9,5.0,5.0,4.9,4.9,0.0,0.0,1.5],\"y\":[4.9,5.0,5.0,4.9,4.9,3.6,3.6,1.5,1.5,0.0,0.0,4.9,4.9],\"type\":\"scatter\"},{\"fill\":\"toself\",\"fillcolor\":\"rgb(153, 0, 0)\",\"hoverinfo\":\"name\",\"line\":{\"width\":0},\"mode\":\"lines\",\"name\":\"Risk Area\",\"showlegend\":false,\"x\":[9.9,9.9,5.1,5.1,5.0,5.0,5.1,5.1,6.4,6.4,8.6,8.6,9.9,9.9,10.0,10.0,9.9],\"y\":[1.5,0.0,0.0,1.5,1.5,3.6,3.6,4.9,4.9,5.0,5.0,4.9,4.9,3.6,3.6,1.5,1.5],\"type\":\"scatter\"},{\"fill\":\"toself\",\"fillcolor\":\"rgb(0, 0, 0)\",\"hoverinfo\":\"name\",\"line\":{\"width\":0},\"mode\":\"lines\",\"name\":\"Risk Area\",\"showlegend\":false,\"x\":[13.6,15.0,15.0,10.1,10.1,10.0,10.0,10.1,10.1,11.5,11.5,13.6,13.6],\"y\":[4.9,4.9,0.0,0.0,1.5,1.5,3.6,3.6,4.9,4.9,5.0,5.0,4.9],\"type\":\"scatter\"},{\"fill\":\"toself\",\"fillcolor\":\"rgb(153, 0, 0)\",\"hoverinfo\":\"name\",\"line\":{\"width\":0},\"mode\":\"lines\",\"name\":\"Risk Area\",\"showlegend\":false,\"x\":[13.6,15.0,15.0,13.6,13.6,11.5,11.5,10.1,10.1,10.0,10.0,10.1,10.1,11.5,11.5,13.6,13.6],\"y\":[9.9,9.9,5.1,5.1,5.0,5.0,5.1,5.1,6.5,6.5,8.6,8.6,9.9,9.9,10.0,10.0,9.9],\"type\":\"scatter\"},{\"fill\":\"toself\",\"fillcolor\":\"rgb(153, 0, 0)\",\"hoverinfo\":\"name\",\"line\":{\"width\":0},\"mode\":\"lines\",\"name\":\"Risk Area\",\"showlegend\":false,\"x\":[9.9,9.9,8.6,8.6,6.4,6.4,5.1,5.1,5.0,5.0,5.1,5.1,6.4,6.4,8.6,8.6,9.9,9.9,10.0,10.0,9.9],\"y\":[6.5,5.1,5.1,5.0,5.0,5.1,5.1,6.5,6.5,8.6,8.6,9.9,9.9,10.0,10.0,9.9,9.9,8.6,8.6,6.5,6.5],\"type\":\"scatter\"},{\"fill\":\"toself\",\"fillcolor\":\"rgb(25, 0, 0)\",\"hoverinfo\":\"name\",\"line\":{\"width\":0},\"mode\":\"lines\",\"name\":\"Risk Area\",\"showlegend\":false,\"x\":[4.9,4.9,3.6,3.6,1.5,1.5,0.0,0.0,1.5,1.5,3.6,3.6,4.9,4.9,5.0,5.0,4.9],\"y\":[6.5,5.1,5.1,5.0,5.0,5.1,5.1,9.9,9.9,10.0,10.0,9.9,9.9,8.6,8.6,6.5,6.5],\"type\":\"scatter\"},{\"fill\":\"toself\",\"fillcolor\":\"rgb(0, 0, 0)\",\"hoverinfo\":\"name\",\"line\":{\"width\":0},\"mode\":\"lines\",\"name\":\"Risk Area\",\"showlegend\":false,\"x\":[1.5,0.0,0.0,4.9,4.9,5.0,5.0,4.9,4.9,3.6,3.6,1.5,1.5],\"y\":[10.1,10.1,15.0,15.0,13.6,13.6,11.5,11.5,10.1,10.1,10.0,10.0,10.1],\"type\":\"scatter\"},{\"fill\":\"toself\",\"fillcolor\":\"rgb(0, 0, 0)\",\"hoverinfo\":\"name\",\"line\":{\"width\":0},\"mode\":\"lines\",\"name\":\"Risk Area\",\"showlegend\":false,\"x\":[6.4,5.1,5.1,5.0,5.0,5.1,5.1,9.9,9.9,10.0,10.0,9.9,9.9,8.6,8.6,6.4,6.4],\"y\":[10.1,10.1,11.5,11.5,13.6,13.6,15.0,15.0,13.6,13.6,11.5,11.5,10.1,10.1,10.0,10.0,10.1],\"type\":\"scatter\"},{\"fill\":\"toself\",\"fillcolor\":\"rgb(0, 0, 0)\",\"hoverinfo\":\"name\",\"line\":{\"width\":0},\"mode\":\"lines\",\"name\":\"Risk Area\",\"showlegend\":false,\"x\":[10.1,10.1,15.0,15.0,13.6,13.6,11.5,11.5,10.1,10.1,10.0,10.0,10.1],\"y\":[13.6,15.0,15.0,10.1,10.1,10.0,10.0,10.1,10.1,11.5,11.5,13.6,13.6],\"type\":\"scatter\"},{\"hoverinfo\":\"text\",\"marker\":{\"opacity\":1,\"size\":1},\"mode\":\"markers\",\"showlegend\":false,\"text\":[\"ID: 11.0, Pos(10.76,12.78)\"],\"x\":[10.76151968084357],\"y\":[12.78090413723364],\"type\":\"scatter\"},{\"hoverinfo\":\"text\",\"marker\":{\"opacity\":1,\"size\":1},\"mode\":\"markers\",\"showlegend\":false,\"text\":[\"ID: 12.0, Pos(9.90,13.22)\"],\"x\":[9.897299056246625],\"y\":[13.22471825361799],\"type\":\"scatter\"},{\"hoverinfo\":\"text\",\"marker\":{\"opacity\":1,\"size\":1},\"mode\":\"markers\",\"showlegend\":false,\"text\":[\"ID: 13.0, Pos(8.02,12.72)\"],\"x\":[8.020906746891953],\"y\":[12.721155888867317],\"type\":\"scatter\"},{\"hoverinfo\":\"text\",\"marker\":{\"opacity\":1,\"size\":1},\"mode\":\"markers\",\"showlegend\":false,\"text\":[\"ID: 14.0, Pos(11.91,13.19)\"],\"x\":[11.909995167815483],\"y\":[13.189016622211827],\"type\":\"scatter\"},{\"hoverinfo\":\"text\",\"marker\":{\"opacity\":1,\"size\":1},\"mode\":\"markers\",\"showlegend\":false,\"text\":[\"ID: 15.0, Pos(11.04,13.42)\"],\"x\":[11.041639415141498],\"y\":[13.423754869461595],\"type\":\"scatter\"},{\"hoverinfo\":\"text\",\"marker\":{\"opacity\":1,\"size\":1},\"mode\":\"markers\",\"showlegend\":false,\"text\":[\"ID: 18.0, Pos(9.05,12.79)\"],\"x\":[9.053762293643011],\"y\":[12.789803276887742],\"type\":\"scatter\"},{\"hoverinfo\":\"text\",\"marker\":{\"opacity\":1,\"size\":1},\"mode\":\"markers\",\"showlegend\":false,\"text\":[\"ID: 20.0, Pos(6.98,12.38)\"],\"x\":[6.983469479094264],\"y\":[12.376029812549493],\"type\":\"scatter\"},{\"hoverinfo\":\"none\",\"marker\":{\"opacity\":0,\"size\":1},\"mode\":\"markers\",\"showlegend\":false,\"x\":[0.0],\"y\":[0.0],\"type\":\"scatter\"},{\"hoverinfo\":\"none\",\"marker\":{\"opacity\":0,\"size\":1},\"mode\":\"markers\",\"showlegend\":false,\"x\":[0.0],\"y\":[0.0],\"type\":\"scatter\"},{\"hoverinfo\":\"none\",\"marker\":{\"opacity\":0,\"size\":1},\"mode\":\"markers\",\"showlegend\":false,\"x\":[0.0],\"y\":[0.0],\"type\":\"scatter\"}],\"layout\":{\"shapes\":[{\"fillcolor\":\"rgba(0, 0, 128, 0.5)\",\"line\":{\"color\":\"rgba(0, 0, 128, 0.5)\"},\"type\":\"circle\",\"x0\":10.56151968084357,\"x1\":10.961519680843569,\"xref\":\"x\",\"y0\":12.58090413723364,\"y1\":12.980904137233638,\"yref\":\"y\"},{\"fillcolor\":\"rgba(0, 196, 255, 0.5)\",\"line\":{\"color\":\"rgba(0, 196, 255, 0.5)\"},\"type\":\"circle\",\"x0\":9.697299056246626,\"x1\":10.097299056246625,\"xref\":\"x\",\"y0\":13.02471825361799,\"y1\":13.42471825361799,\"yref\":\"y\"},{\"fillcolor\":\"rgba(0, 104, 255, 0.5)\",\"line\":{\"color\":\"rgba(0, 104, 255, 0.5)\"},\"type\":\"circle\",\"x0\":7.820906746891953,\"x1\":8.220906746891952,\"xref\":\"x\",\"y0\":12.521155888867318,\"y1\":12.921155888867316,\"yref\":\"y\"},{\"fillcolor\":\"rgba(0, 0, 128, 0.5)\",\"line\":{\"color\":\"rgba(0, 0, 128, 0.5)\"},\"type\":\"circle\",\"x0\":11.709995167815483,\"x1\":12.109995167815482,\"xref\":\"x\",\"y0\":12.989016622211828,\"y1\":13.389016622211827,\"yref\":\"y\"},{\"fillcolor\":\"rgba(0, 0, 128, 0.5)\",\"line\":{\"color\":\"rgba(0, 0, 128, 0.5)\"},\"type\":\"circle\",\"x0\":10.841639415141499,\"x1\":11.241639415141497,\"xref\":\"x\",\"y0\":13.223754869461596,\"y1\":13.623754869461594,\"yref\":\"y\"},{\"fillcolor\":\"rgba(0, 224, 251, 0.5)\",\"line\":{\"color\":\"rgba(0, 224, 251, 0.5)\"},\"type\":\"circle\",\"x0\":8.853762293643012,\"x1\":9.25376229364301,\"xref\":\"x\",\"y0\":12.589803276887743,\"y1\":12.989803276887741,\"yref\":\"y\"},{\"fillcolor\":\"rgba(0, 21, 255, 0.5)\",\"line\":{\"color\":\"rgba(0, 21, 255, 0.5)\"},\"type\":\"circle\",\"x0\":6.783469479094264,\"x1\":7.183469479094264,\"xref\":\"x\",\"y0\":12.176029812549494,\"y1\":12.576029812549493,\"yref\":\"y\"},{\"fillcolor\":\"rgba(255,255,255,0)\",\"line\":{\"width\":0},\"type\":\"circle\",\"x0\":0.0,\"x1\":0.0,\"xref\":\"x\",\"y0\":0.0,\"y1\":0.0,\"yref\":\"y\"},{\"fillcolor\":\"rgba(255,255,255,0)\",\"line\":{\"width\":0},\"type\":\"circle\",\"x0\":0.0,\"x1\":0.0,\"xref\":\"x\",\"y0\":0.0,\"y1\":0.0,\"yref\":\"y\"},{\"fillcolor\":\"rgba(255,255,255,0)\",\"line\":{\"width\":0},\"type\":\"circle\",\"x0\":0.0,\"x1\":0.0,\"xref\":\"x\",\"y0\":0.0,\"y1\":0.0,\"yref\":\"y\"},{\"line\":{\"color\":\"white\",\"width\":3},\"type\":\"line\",\"x0\":10.76151968084357,\"x1\":10.957419563026246,\"y0\":12.78090413723364,\"y1\":12.821193542302632},{\"line\":{\"color\":\"black\",\"width\":3},\"type\":\"line\",\"x0\":9.897299056246625,\"x1\":10.09269798818582,\"y0\":13.22471825361799,\"y1\":13.182065499931719},{\"line\":{\"color\":\"white\",\"width\":3},\"type\":\"line\",\"x0\":8.020906746891953,\"x1\":8.21772716652703,\"y0\":12.721155888867317,\"y1\":12.756676621048285},{\"line\":{\"color\":\"white\",\"width\":3},\"type\":\"line\",\"x0\":11.909995167815483,\"x1\":12.101829797908362,\"y0\":13.189016622211827,\"y1\":13.2455805214509},{\"line\":{\"color\":\"white\",\"width\":3},\"type\":\"line\",\"x0\":11.041639415141498,\"x1\":11.236314622389239,\"y0\":13.423754869461595,\"y1\":13.469597684417145},{\"line\":{\"color\":\"black\",\"width\":3},\"type\":\"line\",\"x0\":9.053762293643011,\"x1\":9.249848861253898,\"y0\":12.789803276887742,\"y1\":12.829174052884424},{\"line\":{\"color\":\"white\",\"width\":3},\"type\":\"line\",\"x0\":6.983469479094264,\"x1\":7.179481786376027,\"y0\":12.376029812549493,\"y1\":12.415768652417809},{\"line\":{\"color\":\"rgba(255,255,255,0)\",\"width\":3},\"type\":\"line\",\"x0\":0.0,\"x1\":null,\"y0\":0.0,\"y1\":null},{\"line\":{\"color\":\"rgba(255,255,255,0)\",\"width\":3},\"type\":\"line\",\"x0\":0.0,\"x1\":null,\"y0\":0.0,\"y1\":null},{\"line\":{\"color\":\"rgba(255,255,255,0)\",\"width\":3},\"type\":\"line\",\"x0\":0.0,\"x1\":null,\"y0\":0.0,\"y1\":null}],\"title\":{\"text\":\"\\u003cb\\u003eMode: Low_knowledge_shortest_path  |  Number of Agents: 7\\u003c\\u002fb\\u003e\",\"x\":0.5}},\"name\":\"650\"},{\"data\":[{\"hoverinfo\":\"name\",\"line\":{\"color\":\"white\"},\"mode\":\"lines\",\"name\":\"Exterior\",\"showlegend\":false,\"x\":[10.1,10.1,15.0,15.0,13.6,13.6,15.0,15.0,13.6,13.6,15.0,15.0,10.1,10.1,9.9,9.9,5.1,5.1,4.9,4.9,0.0,0.0,1.5,1.5,0.0,0.0,1.5,1.5,0.0,0.0,4.9,4.9,5.1,5.1,9.9,9.9,10.1],\"y\":[1.5,0.0,0.0,4.9,4.9,5.1,5.1,9.9,9.9,10.1,10.1,15.0,15.0,13.6,13.6,15.0,15.0,13.6,13.6,15.0,15.0,10.1,10.1,9.9,9.9,5.1,5.1,4.9,4.9,0.0,0.0,1.5,1.5,0.0,0.0,1.5,1.5],\"type\":\"scatter\"},{\"hoverinfo\":\"name\",\"line\":{\"color\":\"white\"},\"mode\":\"lines\",\"name\":\"Obstacle\",\"showlegend\":false,\"x\":[10.1,11.5,11.5,10.1,10.1,9.9,9.9,8.6,8.6,9.9,9.9,10.1,10.1],\"y\":[5.1,5.1,4.9,4.9,3.6,3.6,4.9,4.9,5.1,5.1,6.5,6.5,5.1],\"type\":\"scatter\"},{\"hoverinfo\":\"name\",\"line\":{\"color\":\"white\"},\"mode\":\"lines\",\"name\":\"Obstacle\",\"showlegend\":false,\"x\":[10.1,11.5,11.5,10.1,10.1,9.9,9.9,8.6,8.6,9.9,9.9,10.1,10.1],\"y\":[10.1,10.1,9.9,9.9,8.6,8.6,9.9,9.9,10.1,10.1,11.5,11.5,10.1],\"type\":\"scatter\"},{\"hoverinfo\":\"name\",\"line\":{\"color\":\"white\"},\"mode\":\"lines\",\"name\":\"Obstacle\",\"showlegend\":false,\"x\":[5.1,6.4,6.4,5.1,5.1,4.9,4.9,3.6,3.6,4.9,4.9,5.1,5.1],\"y\":[5.1,5.1,4.9,4.9,3.6,3.6,4.9,4.9,5.1,5.1,6.5,6.5,5.1],\"type\":\"scatter\"},{\"hoverinfo\":\"name\",\"line\":{\"color\":\"white\"},\"mode\":\"lines\",\"name\":\"Obstacle\",\"showlegend\":false,\"x\":[5.1,6.4,6.4,5.1,5.1,4.9,4.9,3.6,3.6,4.9,4.9,5.1,5.1],\"y\":[10.1,10.1,9.9,9.9,8.6,8.6,9.9,9.9,10.1,10.1,11.5,11.5,10.1],\"type\":\"scatter\"},{\"fill\":\"toself\",\"fillcolor\":\"rgb(0, 0, 0)\",\"hoverinfo\":\"name\",\"line\":{\"width\":0},\"mode\":\"lines\",\"name\":\"Risk Area\",\"showlegend\":false,\"x\":[1.5,1.5,3.6,3.6,4.9,4.9,5.0,5.0,4.9,4.9,0.0,0.0,1.5],\"y\":[4.9,5.0,5.0,4.9,4.9,3.6,3.6,1.5,1.5,0.0,0.0,4.9,4.9],\"type\":\"scatter\"},{\"fill\":\"toself\",\"fillcolor\":\"rgb(153, 0, 0)\",\"hoverinfo\":\"name\",\"line\":{\"width\":0},\"mode\":\"lines\",\"name\":\"Risk Area\",\"showlegend\":false,\"x\":[9.9,9.9,5.1,5.1,5.0,5.0,5.1,5.1,6.4,6.4,8.6,8.6,9.9,9.9,10.0,10.0,9.9],\"y\":[1.5,0.0,0.0,1.5,1.5,3.6,3.6,4.9,4.9,5.0,5.0,4.9,4.9,3.6,3.6,1.5,1.5],\"type\":\"scatter\"},{\"fill\":\"toself\",\"fillcolor\":\"rgb(0, 0, 0)\",\"hoverinfo\":\"name\",\"line\":{\"width\":0},\"mode\":\"lines\",\"name\":\"Risk Area\",\"showlegend\":false,\"x\":[13.6,15.0,15.0,10.1,10.1,10.0,10.0,10.1,10.1,11.5,11.5,13.6,13.6],\"y\":[4.9,4.9,0.0,0.0,1.5,1.5,3.6,3.6,4.9,4.9,5.0,5.0,4.9],\"type\":\"scatter\"},{\"fill\":\"toself\",\"fillcolor\":\"rgb(153, 0, 0)\",\"hoverinfo\":\"name\",\"line\":{\"width\":0},\"mode\":\"lines\",\"name\":\"Risk Area\",\"showlegend\":false,\"x\":[13.6,15.0,15.0,13.6,13.6,11.5,11.5,10.1,10.1,10.0,10.0,10.1,10.1,11.5,11.5,13.6,13.6],\"y\":[9.9,9.9,5.1,5.1,5.0,5.0,5.1,5.1,6.5,6.5,8.6,8.6,9.9,9.9,10.0,10.0,9.9],\"type\":\"scatter\"},{\"fill\":\"toself\",\"fillcolor\":\"rgb(153, 0, 0)\",\"hoverinfo\":\"name\",\"line\":{\"width\":0},\"mode\":\"lines\",\"name\":\"Risk Area\",\"showlegend\":false,\"x\":[9.9,9.9,8.6,8.6,6.4,6.4,5.1,5.1,5.0,5.0,5.1,5.1,6.4,6.4,8.6,8.6,9.9,9.9,10.0,10.0,9.9],\"y\":[6.5,5.1,5.1,5.0,5.0,5.1,5.1,6.5,6.5,8.6,8.6,9.9,9.9,10.0,10.0,9.9,9.9,8.6,8.6,6.5,6.5],\"type\":\"scatter\"},{\"fill\":\"toself\",\"fillcolor\":\"rgb(25, 0, 0)\",\"hoverinfo\":\"name\",\"line\":{\"width\":0},\"mode\":\"lines\",\"name\":\"Risk Area\",\"showlegend\":false,\"x\":[4.9,4.9,3.6,3.6,1.5,1.5,0.0,0.0,1.5,1.5,3.6,3.6,4.9,4.9,5.0,5.0,4.9],\"y\":[6.5,5.1,5.1,5.0,5.0,5.1,5.1,9.9,9.9,10.0,10.0,9.9,9.9,8.6,8.6,6.5,6.5],\"type\":\"scatter\"},{\"fill\":\"toself\",\"fillcolor\":\"rgb(0, 0, 0)\",\"hoverinfo\":\"name\",\"line\":{\"width\":0},\"mode\":\"lines\",\"name\":\"Risk Area\",\"showlegend\":false,\"x\":[1.5,0.0,0.0,4.9,4.9,5.0,5.0,4.9,4.9,3.6,3.6,1.5,1.5],\"y\":[10.1,10.1,15.0,15.0,13.6,13.6,11.5,11.5,10.1,10.1,10.0,10.0,10.1],\"type\":\"scatter\"},{\"fill\":\"toself\",\"fillcolor\":\"rgb(0, 0, 0)\",\"hoverinfo\":\"name\",\"line\":{\"width\":0},\"mode\":\"lines\",\"name\":\"Risk Area\",\"showlegend\":false,\"x\":[6.4,5.1,5.1,5.0,5.0,5.1,5.1,9.9,9.9,10.0,10.0,9.9,9.9,8.6,8.6,6.4,6.4],\"y\":[10.1,10.1,11.5,11.5,13.6,13.6,15.0,15.0,13.6,13.6,11.5,11.5,10.1,10.1,10.0,10.0,10.1],\"type\":\"scatter\"},{\"fill\":\"toself\",\"fillcolor\":\"rgb(0, 0, 0)\",\"hoverinfo\":\"name\",\"line\":{\"width\":0},\"mode\":\"lines\",\"name\":\"Risk Area\",\"showlegend\":false,\"x\":[10.1,10.1,15.0,15.0,13.6,13.6,11.5,11.5,10.1,10.1,10.0,10.0,10.1],\"y\":[13.6,15.0,15.0,10.1,10.1,10.0,10.0,10.1,10.1,11.5,11.5,13.6,13.6],\"type\":\"scatter\"},{\"hoverinfo\":\"text\",\"marker\":{\"opacity\":1,\"size\":1},\"mode\":\"markers\",\"showlegend\":false,\"text\":[\"ID: 11.0, Pos(12.32,13.13)\"],\"x\":[12.322918072790781],\"y\":[13.127418920035893],\"type\":\"scatter\"},{\"hoverinfo\":\"text\",\"marker\":{\"opacity\":1,\"size\":1},\"mode\":\"markers\",\"showlegend\":false,\"text\":[\"ID: 12.0, Pos(11.33,13.36)\"],\"x\":[11.334645531176795],\"y\":[13.363812029625521],\"type\":\"scatter\"},{\"hoverinfo\":\"text\",\"marker\":{\"opacity\":1,\"size\":1},\"mode\":\"markers\",\"showlegend\":false,\"text\":[\"ID: 13.0, Pos(9.22,12.94)\"],\"x\":[9.218762270696393],\"y\":[12.937599840713515],\"type\":\"scatter\"},{\"hoverinfo\":\"text\",\"marker\":{\"opacity\":1,\"size\":1},\"mode\":\"markers\",\"showlegend\":false,\"text\":[\"ID: 18.0, Pos(10.27,13.03)\"],\"x\":[10.265607993682073],\"y\":[13.034093387464308],\"type\":\"scatter\"},{\"hoverinfo\":\"text\",\"marker\":{\"opacity\":1,\"size\":1},\"mode\":\"markers\",\"showlegend\":false,\"text\":[\"ID: 20.0, Pos(8.24,12.63)\"],\"x\":[8.241836997362254],\"y\":[12.630959619560574],\"type\":\"scatter\"},{\"hoverinfo\":\"none\",\"marker\":{\"opacity\":0,\"size\":1},\"mode\":\"markers\",\"showlegend\":false,\"x\":[0.0],\"y\":[0.0],\"type\":\"scatter\"},{\"hoverinfo\":\"none\",\"marker\":{\"opacity\":0,\"size\":1},\"mode\":\"markers\",\"showlegend\":false,\"x\":[0.0],\"y\":[0.0],\"type\":\"scatter\"},{\"hoverinfo\":\"none\",\"marker\":{\"opacity\":0,\"size\":1},\"mode\":\"markers\",\"showlegend\":false,\"x\":[0.0],\"y\":[0.0],\"type\":\"scatter\"},{\"hoverinfo\":\"none\",\"marker\":{\"opacity\":0,\"size\":1},\"mode\":\"markers\",\"showlegend\":false,\"x\":[0.0],\"y\":[0.0],\"type\":\"scatter\"},{\"hoverinfo\":\"none\",\"marker\":{\"opacity\":0,\"size\":1},\"mode\":\"markers\",\"showlegend\":false,\"x\":[0.0],\"y\":[0.0],\"type\":\"scatter\"}],\"layout\":{\"shapes\":[{\"fillcolor\":\"rgba(0, 0, 128, 0.5)\",\"line\":{\"color\":\"rgba(0, 0, 128, 0.5)\"},\"type\":\"circle\",\"x0\":12.122918072790782,\"x1\":12.52291807279078,\"xref\":\"x\",\"y0\":12.927418920035894,\"y1\":13.327418920035893,\"yref\":\"y\"},{\"fillcolor\":\"rgba(0, 37, 255, 0.5)\",\"line\":{\"color\":\"rgba(0, 37, 255, 0.5)\"},\"type\":\"circle\",\"x0\":11.134645531176796,\"x1\":11.534645531176794,\"xref\":\"x\",\"y0\":13.163812029625522,\"y1\":13.56381202962552,\"yref\":\"y\"},{\"fillcolor\":\"rgba(0, 85, 255, 0.5)\",\"line\":{\"color\":\"rgba(0, 85, 255, 0.5)\"},\"type\":\"circle\",\"x0\":9.018762270696394,\"x1\":9.418762270696392,\"xref\":\"x\",\"y0\":12.737599840713516,\"y1\":13.137599840713515,\"yref\":\"y\"},{\"fillcolor\":\"rgba(0, 0, 255, 0.5)\",\"line\":{\"color\":\"rgba(0, 0, 255, 0.5)\"},\"type\":\"circle\",\"x0\":10.065607993682073,\"x1\":10.465607993682072,\"xref\":\"x\",\"y0\":12.834093387464309,\"y1\":13.234093387464307,\"yref\":\"y\"},{\"fillcolor\":\"rgba(0, 120, 255, 0.5)\",\"line\":{\"color\":\"rgba(0, 120, 255, 0.5)\"},\"type\":\"circle\",\"x0\":8.041836997362255,\"x1\":8.441836997362254,\"xref\":\"x\",\"y0\":12.430959619560575,\"y1\":12.830959619560574,\"yref\":\"y\"},{\"fillcolor\":\"rgba(255,255,255,0)\",\"line\":{\"width\":0},\"type\":\"circle\",\"x0\":0.0,\"x1\":0.0,\"xref\":\"x\",\"y0\":0.0,\"y1\":0.0,\"yref\":\"y\"},{\"fillcolor\":\"rgba(255,255,255,0)\",\"line\":{\"width\":0},\"type\":\"circle\",\"x0\":0.0,\"x1\":0.0,\"xref\":\"x\",\"y0\":0.0,\"y1\":0.0,\"yref\":\"y\"},{\"fillcolor\":\"rgba(255,255,255,0)\",\"line\":{\"width\":0},\"type\":\"circle\",\"x0\":0.0,\"x1\":0.0,\"xref\":\"x\",\"y0\":0.0,\"y1\":0.0,\"yref\":\"y\"},{\"fillcolor\":\"rgba(255,255,255,0)\",\"line\":{\"width\":0},\"type\":\"circle\",\"x0\":0.0,\"x1\":0.0,\"xref\":\"x\",\"y0\":0.0,\"y1\":0.0,\"yref\":\"y\"},{\"fillcolor\":\"rgba(255,255,255,0)\",\"line\":{\"width\":0},\"type\":\"circle\",\"x0\":0.0,\"x1\":0.0,\"xref\":\"x\",\"y0\":0.0,\"y1\":0.0,\"yref\":\"y\"},{\"line\":{\"color\":\"white\",\"width\":3},\"type\":\"line\",\"x0\":12.322918072790781,\"x1\":12.506498779534963,\"y0\":13.127418920035893,\"y1\":13.206779641500017},{\"line\":{\"color\":\"white\",\"width\":3},\"type\":\"line\",\"x0\":11.334645531176795,\"x1\":11.532060231548828,\"y0\":13.363812029625521,\"y1\":13.39586567336567},{\"line\":{\"color\":\"white\",\"width\":3},\"type\":\"line\",\"x0\":9.218762270696393,\"x1\":9.41558879641275,\"y0\":12.937599840713515,\"y1\":12.973086722436602},{\"line\":{\"color\":\"white\",\"width\":3},\"type\":\"line\",\"x0\":10.265607993682073,\"x1\":10.461720753823084,\"y0\":13.034093387464308,\"y1\":13.073333485704177},{\"line\":{\"color\":\"white\",\"width\":3},\"type\":\"line\",\"x0\":8.241836997362254,\"x1\":8.43785421267847,\"y0\":12.630959619560574,\"y1\":12.67067424280789},{\"line\":{\"color\":\"rgba(255,255,255,0)\",\"width\":3},\"type\":\"line\",\"x0\":0.0,\"x1\":null,\"y0\":0.0,\"y1\":null},{\"line\":{\"color\":\"rgba(255,255,255,0)\",\"width\":3},\"type\":\"line\",\"x0\":0.0,\"x1\":null,\"y0\":0.0,\"y1\":null},{\"line\":{\"color\":\"rgba(255,255,255,0)\",\"width\":3},\"type\":\"line\",\"x0\":0.0,\"x1\":null,\"y0\":0.0,\"y1\":null},{\"line\":{\"color\":\"rgba(255,255,255,0)\",\"width\":3},\"type\":\"line\",\"x0\":0.0,\"x1\":null,\"y0\":0.0,\"y1\":null},{\"line\":{\"color\":\"rgba(255,255,255,0)\",\"width\":3},\"type\":\"line\",\"x0\":0.0,\"x1\":null,\"y0\":0.0,\"y1\":null}],\"title\":{\"text\":\"\\u003cb\\u003eMode: Low_knowledge_shortest_path  |  Number of Agents: 5\\u003c\\u002fb\\u003e\",\"x\":0.5}},\"name\":\"700\"},{\"data\":[{\"hoverinfo\":\"name\",\"line\":{\"color\":\"white\"},\"mode\":\"lines\",\"name\":\"Exterior\",\"showlegend\":false,\"x\":[10.1,10.1,15.0,15.0,13.6,13.6,15.0,15.0,13.6,13.6,15.0,15.0,10.1,10.1,9.9,9.9,5.1,5.1,4.9,4.9,0.0,0.0,1.5,1.5,0.0,0.0,1.5,1.5,0.0,0.0,4.9,4.9,5.1,5.1,9.9,9.9,10.1],\"y\":[1.5,0.0,0.0,4.9,4.9,5.1,5.1,9.9,9.9,10.1,10.1,15.0,15.0,13.6,13.6,15.0,15.0,13.6,13.6,15.0,15.0,10.1,10.1,9.9,9.9,5.1,5.1,4.9,4.9,0.0,0.0,1.5,1.5,0.0,0.0,1.5,1.5],\"type\":\"scatter\"},{\"hoverinfo\":\"name\",\"line\":{\"color\":\"white\"},\"mode\":\"lines\",\"name\":\"Obstacle\",\"showlegend\":false,\"x\":[10.1,11.5,11.5,10.1,10.1,9.9,9.9,8.6,8.6,9.9,9.9,10.1,10.1],\"y\":[5.1,5.1,4.9,4.9,3.6,3.6,4.9,4.9,5.1,5.1,6.5,6.5,5.1],\"type\":\"scatter\"},{\"hoverinfo\":\"name\",\"line\":{\"color\":\"white\"},\"mode\":\"lines\",\"name\":\"Obstacle\",\"showlegend\":false,\"x\":[10.1,11.5,11.5,10.1,10.1,9.9,9.9,8.6,8.6,9.9,9.9,10.1,10.1],\"y\":[10.1,10.1,9.9,9.9,8.6,8.6,9.9,9.9,10.1,10.1,11.5,11.5,10.1],\"type\":\"scatter\"},{\"hoverinfo\":\"name\",\"line\":{\"color\":\"white\"},\"mode\":\"lines\",\"name\":\"Obstacle\",\"showlegend\":false,\"x\":[5.1,6.4,6.4,5.1,5.1,4.9,4.9,3.6,3.6,4.9,4.9,5.1,5.1],\"y\":[5.1,5.1,4.9,4.9,3.6,3.6,4.9,4.9,5.1,5.1,6.5,6.5,5.1],\"type\":\"scatter\"},{\"hoverinfo\":\"name\",\"line\":{\"color\":\"white\"},\"mode\":\"lines\",\"name\":\"Obstacle\",\"showlegend\":false,\"x\":[5.1,6.4,6.4,5.1,5.1,4.9,4.9,3.6,3.6,4.9,4.9,5.1,5.1],\"y\":[10.1,10.1,9.9,9.9,8.6,8.6,9.9,9.9,10.1,10.1,11.5,11.5,10.1],\"type\":\"scatter\"},{\"fill\":\"toself\",\"fillcolor\":\"rgb(0, 0, 0)\",\"hoverinfo\":\"name\",\"line\":{\"width\":0},\"mode\":\"lines\",\"name\":\"Risk Area\",\"showlegend\":false,\"x\":[1.5,1.5,3.6,3.6,4.9,4.9,5.0,5.0,4.9,4.9,0.0,0.0,1.5],\"y\":[4.9,5.0,5.0,4.9,4.9,3.6,3.6,1.5,1.5,0.0,0.0,4.9,4.9],\"type\":\"scatter\"},{\"fill\":\"toself\",\"fillcolor\":\"rgb(153, 0, 0)\",\"hoverinfo\":\"name\",\"line\":{\"width\":0},\"mode\":\"lines\",\"name\":\"Risk Area\",\"showlegend\":false,\"x\":[9.9,9.9,5.1,5.1,5.0,5.0,5.1,5.1,6.4,6.4,8.6,8.6,9.9,9.9,10.0,10.0,9.9],\"y\":[1.5,0.0,0.0,1.5,1.5,3.6,3.6,4.9,4.9,5.0,5.0,4.9,4.9,3.6,3.6,1.5,1.5],\"type\":\"scatter\"},{\"fill\":\"toself\",\"fillcolor\":\"rgb(0, 0, 0)\",\"hoverinfo\":\"name\",\"line\":{\"width\":0},\"mode\":\"lines\",\"name\":\"Risk Area\",\"showlegend\":false,\"x\":[13.6,15.0,15.0,10.1,10.1,10.0,10.0,10.1,10.1,11.5,11.5,13.6,13.6],\"y\":[4.9,4.9,0.0,0.0,1.5,1.5,3.6,3.6,4.9,4.9,5.0,5.0,4.9],\"type\":\"scatter\"},{\"fill\":\"toself\",\"fillcolor\":\"rgb(153, 0, 0)\",\"hoverinfo\":\"name\",\"line\":{\"width\":0},\"mode\":\"lines\",\"name\":\"Risk Area\",\"showlegend\":false,\"x\":[13.6,15.0,15.0,13.6,13.6,11.5,11.5,10.1,10.1,10.0,10.0,10.1,10.1,11.5,11.5,13.6,13.6],\"y\":[9.9,9.9,5.1,5.1,5.0,5.0,5.1,5.1,6.5,6.5,8.6,8.6,9.9,9.9,10.0,10.0,9.9],\"type\":\"scatter\"},{\"fill\":\"toself\",\"fillcolor\":\"rgb(153, 0, 0)\",\"hoverinfo\":\"name\",\"line\":{\"width\":0},\"mode\":\"lines\",\"name\":\"Risk Area\",\"showlegend\":false,\"x\":[9.9,9.9,8.6,8.6,6.4,6.4,5.1,5.1,5.0,5.0,5.1,5.1,6.4,6.4,8.6,8.6,9.9,9.9,10.0,10.0,9.9],\"y\":[6.5,5.1,5.1,5.0,5.0,5.1,5.1,6.5,6.5,8.6,8.6,9.9,9.9,10.0,10.0,9.9,9.9,8.6,8.6,6.5,6.5],\"type\":\"scatter\"},{\"fill\":\"toself\",\"fillcolor\":\"rgb(25, 0, 0)\",\"hoverinfo\":\"name\",\"line\":{\"width\":0},\"mode\":\"lines\",\"name\":\"Risk Area\",\"showlegend\":false,\"x\":[4.9,4.9,3.6,3.6,1.5,1.5,0.0,0.0,1.5,1.5,3.6,3.6,4.9,4.9,5.0,5.0,4.9],\"y\":[6.5,5.1,5.1,5.0,5.0,5.1,5.1,9.9,9.9,10.0,10.0,9.9,9.9,8.6,8.6,6.5,6.5],\"type\":\"scatter\"},{\"fill\":\"toself\",\"fillcolor\":\"rgb(0, 0, 0)\",\"hoverinfo\":\"name\",\"line\":{\"width\":0},\"mode\":\"lines\",\"name\":\"Risk Area\",\"showlegend\":false,\"x\":[1.5,0.0,0.0,4.9,4.9,5.0,5.0,4.9,4.9,3.6,3.6,1.5,1.5],\"y\":[10.1,10.1,15.0,15.0,13.6,13.6,11.5,11.5,10.1,10.1,10.0,10.0,10.1],\"type\":\"scatter\"},{\"fill\":\"toself\",\"fillcolor\":\"rgb(0, 0, 0)\",\"hoverinfo\":\"name\",\"line\":{\"width\":0},\"mode\":\"lines\",\"name\":\"Risk Area\",\"showlegend\":false,\"x\":[6.4,5.1,5.1,5.0,5.0,5.1,5.1,9.9,9.9,10.0,10.0,9.9,9.9,8.6,8.6,6.4,6.4],\"y\":[10.1,10.1,11.5,11.5,13.6,13.6,15.0,15.0,13.6,13.6,11.5,11.5,10.1,10.1,10.0,10.0,10.1],\"type\":\"scatter\"},{\"fill\":\"toself\",\"fillcolor\":\"rgb(0, 0, 0)\",\"hoverinfo\":\"name\",\"line\":{\"width\":0},\"mode\":\"lines\",\"name\":\"Risk Area\",\"showlegend\":false,\"x\":[10.1,10.1,15.0,15.0,13.6,13.6,11.5,11.5,10.1,10.1,10.0,10.0,10.1],\"y\":[13.6,15.0,15.0,10.1,10.1,10.0,10.0,10.1,10.1,11.5,11.5,13.6,13.6],\"type\":\"scatter\"},{\"hoverinfo\":\"text\",\"marker\":{\"opacity\":1,\"size\":1},\"mode\":\"markers\",\"showlegend\":false,\"text\":[\"ID: 13.0, Pos(10.59,13.17)\"],\"x\":[10.594569105091075],\"y\":[13.173842900023464],\"type\":\"scatter\"},{\"hoverinfo\":\"text\",\"marker\":{\"opacity\":1,\"size\":1},\"mode\":\"markers\",\"showlegend\":false,\"text\":[\"ID: 18.0, Pos(11.73,13.33)\"],\"x\":[11.733908495345181],\"y\":[13.334963459767794],\"type\":\"scatter\"},{\"hoverinfo\":\"text\",\"marker\":{\"opacity\":1,\"size\":1},\"mode\":\"markers\",\"showlegend\":false,\"text\":[\"ID: 20.0, Pos(9.53,12.89)\"],\"x\":[9.531413468896165],\"y\":[12.892589250810621],\"type\":\"scatter\"},{\"hoverinfo\":\"none\",\"marker\":{\"opacity\":0,\"size\":1},\"mode\":\"markers\",\"showlegend\":false,\"x\":[0.0],\"y\":[0.0],\"type\":\"scatter\"},{\"hoverinfo\":\"none\",\"marker\":{\"opacity\":0,\"size\":1},\"mode\":\"markers\",\"showlegend\":false,\"x\":[0.0],\"y\":[0.0],\"type\":\"scatter\"},{\"hoverinfo\":\"none\",\"marker\":{\"opacity\":0,\"size\":1},\"mode\":\"markers\",\"showlegend\":false,\"x\":[0.0],\"y\":[0.0],\"type\":\"scatter\"},{\"hoverinfo\":\"none\",\"marker\":{\"opacity\":0,\"size\":1},\"mode\":\"markers\",\"showlegend\":false,\"x\":[0.0],\"y\":[0.0],\"type\":\"scatter\"},{\"hoverinfo\":\"none\",\"marker\":{\"opacity\":0,\"size\":1},\"mode\":\"markers\",\"showlegend\":false,\"x\":[0.0],\"y\":[0.0],\"type\":\"scatter\"},{\"hoverinfo\":\"none\",\"marker\":{\"opacity\":0,\"size\":1},\"mode\":\"markers\",\"showlegend\":false,\"x\":[0.0],\"y\":[0.0],\"type\":\"scatter\"},{\"hoverinfo\":\"none\",\"marker\":{\"opacity\":0,\"size\":1},\"mode\":\"markers\",\"showlegend\":false,\"x\":[0.0],\"y\":[0.0],\"type\":\"scatter\"}],\"layout\":{\"shapes\":[{\"fillcolor\":\"rgba(0, 0, 205, 0.5)\",\"line\":{\"color\":\"rgba(0, 0, 205, 0.5)\"},\"type\":\"circle\",\"x0\":10.394569105091076,\"x1\":10.794569105091075,\"xref\":\"x\",\"y0\":12.973842900023465,\"y1\":13.373842900023464,\"yref\":\"y\"},{\"fillcolor\":\"rgba(0, 0, 128, 0.5)\",\"line\":{\"color\":\"rgba(0, 0, 128, 0.5)\"},\"type\":\"circle\",\"x0\":11.533908495345182,\"x1\":11.93390849534518,\"xref\":\"x\",\"y0\":13.134963459767794,\"y1\":13.534963459767793,\"yref\":\"y\"},{\"fillcolor\":\"rgba(0, 13, 255, 0.5)\",\"line\":{\"color\":\"rgba(0, 13, 255, 0.5)\"},\"type\":\"circle\",\"x0\":9.331413468896166,\"x1\":9.731413468896164,\"xref\":\"x\",\"y0\":12.692589250810622,\"y1\":13.09258925081062,\"yref\":\"y\"},{\"fillcolor\":\"rgba(255,255,255,0)\",\"line\":{\"width\":0},\"type\":\"circle\",\"x0\":0.0,\"x1\":0.0,\"xref\":\"x\",\"y0\":0.0,\"y1\":0.0,\"yref\":\"y\"},{\"fillcolor\":\"rgba(255,255,255,0)\",\"line\":{\"width\":0},\"type\":\"circle\",\"x0\":0.0,\"x1\":0.0,\"xref\":\"x\",\"y0\":0.0,\"y1\":0.0,\"yref\":\"y\"},{\"fillcolor\":\"rgba(255,255,255,0)\",\"line\":{\"width\":0},\"type\":\"circle\",\"x0\":0.0,\"x1\":0.0,\"xref\":\"x\",\"y0\":0.0,\"y1\":0.0,\"yref\":\"y\"},{\"fillcolor\":\"rgba(255,255,255,0)\",\"line\":{\"width\":0},\"type\":\"circle\",\"x0\":0.0,\"x1\":0.0,\"xref\":\"x\",\"y0\":0.0,\"y1\":0.0,\"yref\":\"y\"},{\"fillcolor\":\"rgba(255,255,255,0)\",\"line\":{\"width\":0},\"type\":\"circle\",\"x0\":0.0,\"x1\":0.0,\"xref\":\"x\",\"y0\":0.0,\"y1\":0.0,\"yref\":\"y\"},{\"fillcolor\":\"rgba(255,255,255,0)\",\"line\":{\"width\":0},\"type\":\"circle\",\"x0\":0.0,\"x1\":0.0,\"xref\":\"x\",\"y0\":0.0,\"y1\":0.0,\"yref\":\"y\"},{\"fillcolor\":\"rgba(255,255,255,0)\",\"line\":{\"width\":0},\"type\":\"circle\",\"x0\":0.0,\"x1\":0.0,\"xref\":\"x\",\"y0\":0.0,\"y1\":0.0,\"yref\":\"y\"},{\"line\":{\"color\":\"white\",\"width\":3},\"type\":\"line\",\"x0\":10.594569105091075,\"x1\":10.791344076563508,\"y0\":13.173842900023464,\"y1\":13.209614545247346},{\"line\":{\"color\":\"white\",\"width\":3},\"type\":\"line\",\"x0\":11.733908495345181,\"x1\":11.929804329151349,\"y0\":13.334963459767794,\"y1\":13.375272544319374},{\"line\":{\"color\":\"white\",\"width\":3},\"type\":\"line\",\"x0\":9.531413468896165,\"x1\":9.727413770665253,\"y0\":12.892589250810621,\"y1\":12.932387262148206},{\"line\":{\"color\":\"rgba(255,255,255,0)\",\"width\":3},\"type\":\"line\",\"x0\":0.0,\"x1\":null,\"y0\":0.0,\"y1\":null},{\"line\":{\"color\":\"rgba(255,255,255,0)\",\"width\":3},\"type\":\"line\",\"x0\":0.0,\"x1\":null,\"y0\":0.0,\"y1\":null},{\"line\":{\"color\":\"rgba(255,255,255,0)\",\"width\":3},\"type\":\"line\",\"x0\":0.0,\"x1\":null,\"y0\":0.0,\"y1\":null},{\"line\":{\"color\":\"rgba(255,255,255,0)\",\"width\":3},\"type\":\"line\",\"x0\":0.0,\"x1\":null,\"y0\":0.0,\"y1\":null},{\"line\":{\"color\":\"rgba(255,255,255,0)\",\"width\":3},\"type\":\"line\",\"x0\":0.0,\"x1\":null,\"y0\":0.0,\"y1\":null},{\"line\":{\"color\":\"rgba(255,255,255,0)\",\"width\":3},\"type\":\"line\",\"x0\":0.0,\"x1\":null,\"y0\":0.0,\"y1\":null},{\"line\":{\"color\":\"rgba(255,255,255,0)\",\"width\":3},\"type\":\"line\",\"x0\":0.0,\"x1\":null,\"y0\":0.0,\"y1\":null}],\"title\":{\"text\":\"\\u003cb\\u003eMode: Low_knowledge_shortest_path  |  Number of Agents: 3\\u003c\\u002fb\\u003e\",\"x\":0.5}},\"name\":\"750\"},{\"data\":[{\"hoverinfo\":\"name\",\"line\":{\"color\":\"white\"},\"mode\":\"lines\",\"name\":\"Exterior\",\"showlegend\":false,\"x\":[10.1,10.1,15.0,15.0,13.6,13.6,15.0,15.0,13.6,13.6,15.0,15.0,10.1,10.1,9.9,9.9,5.1,5.1,4.9,4.9,0.0,0.0,1.5,1.5,0.0,0.0,1.5,1.5,0.0,0.0,4.9,4.9,5.1,5.1,9.9,9.9,10.1],\"y\":[1.5,0.0,0.0,4.9,4.9,5.1,5.1,9.9,9.9,10.1,10.1,15.0,15.0,13.6,13.6,15.0,15.0,13.6,13.6,15.0,15.0,10.1,10.1,9.9,9.9,5.1,5.1,4.9,4.9,0.0,0.0,1.5,1.5,0.0,0.0,1.5,1.5],\"type\":\"scatter\"},{\"hoverinfo\":\"name\",\"line\":{\"color\":\"white\"},\"mode\":\"lines\",\"name\":\"Obstacle\",\"showlegend\":false,\"x\":[10.1,11.5,11.5,10.1,10.1,9.9,9.9,8.6,8.6,9.9,9.9,10.1,10.1],\"y\":[5.1,5.1,4.9,4.9,3.6,3.6,4.9,4.9,5.1,5.1,6.5,6.5,5.1],\"type\":\"scatter\"},{\"hoverinfo\":\"name\",\"line\":{\"color\":\"white\"},\"mode\":\"lines\",\"name\":\"Obstacle\",\"showlegend\":false,\"x\":[10.1,11.5,11.5,10.1,10.1,9.9,9.9,8.6,8.6,9.9,9.9,10.1,10.1],\"y\":[10.1,10.1,9.9,9.9,8.6,8.6,9.9,9.9,10.1,10.1,11.5,11.5,10.1],\"type\":\"scatter\"},{\"hoverinfo\":\"name\",\"line\":{\"color\":\"white\"},\"mode\":\"lines\",\"name\":\"Obstacle\",\"showlegend\":false,\"x\":[5.1,6.4,6.4,5.1,5.1,4.9,4.9,3.6,3.6,4.9,4.9,5.1,5.1],\"y\":[5.1,5.1,4.9,4.9,3.6,3.6,4.9,4.9,5.1,5.1,6.5,6.5,5.1],\"type\":\"scatter\"},{\"hoverinfo\":\"name\",\"line\":{\"color\":\"white\"},\"mode\":\"lines\",\"name\":\"Obstacle\",\"showlegend\":false,\"x\":[5.1,6.4,6.4,5.1,5.1,4.9,4.9,3.6,3.6,4.9,4.9,5.1,5.1],\"y\":[10.1,10.1,9.9,9.9,8.6,8.6,9.9,9.9,10.1,10.1,11.5,11.5,10.1],\"type\":\"scatter\"},{\"fill\":\"toself\",\"fillcolor\":\"rgb(0, 0, 0)\",\"hoverinfo\":\"name\",\"line\":{\"width\":0},\"mode\":\"lines\",\"name\":\"Risk Area\",\"showlegend\":false,\"x\":[1.5,1.5,3.6,3.6,4.9,4.9,5.0,5.0,4.9,4.9,0.0,0.0,1.5],\"y\":[4.9,5.0,5.0,4.9,4.9,3.6,3.6,1.5,1.5,0.0,0.0,4.9,4.9],\"type\":\"scatter\"},{\"fill\":\"toself\",\"fillcolor\":\"rgb(153, 0, 0)\",\"hoverinfo\":\"name\",\"line\":{\"width\":0},\"mode\":\"lines\",\"name\":\"Risk Area\",\"showlegend\":false,\"x\":[9.9,9.9,5.1,5.1,5.0,5.0,5.1,5.1,6.4,6.4,8.6,8.6,9.9,9.9,10.0,10.0,9.9],\"y\":[1.5,0.0,0.0,1.5,1.5,3.6,3.6,4.9,4.9,5.0,5.0,4.9,4.9,3.6,3.6,1.5,1.5],\"type\":\"scatter\"},{\"fill\":\"toself\",\"fillcolor\":\"rgb(0, 0, 0)\",\"hoverinfo\":\"name\",\"line\":{\"width\":0},\"mode\":\"lines\",\"name\":\"Risk Area\",\"showlegend\":false,\"x\":[13.6,15.0,15.0,10.1,10.1,10.0,10.0,10.1,10.1,11.5,11.5,13.6,13.6],\"y\":[4.9,4.9,0.0,0.0,1.5,1.5,3.6,3.6,4.9,4.9,5.0,5.0,4.9],\"type\":\"scatter\"},{\"fill\":\"toself\",\"fillcolor\":\"rgb(153, 0, 0)\",\"hoverinfo\":\"name\",\"line\":{\"width\":0},\"mode\":\"lines\",\"name\":\"Risk Area\",\"showlegend\":false,\"x\":[13.6,15.0,15.0,13.6,13.6,11.5,11.5,10.1,10.1,10.0,10.0,10.1,10.1,11.5,11.5,13.6,13.6],\"y\":[9.9,9.9,5.1,5.1,5.0,5.0,5.1,5.1,6.5,6.5,8.6,8.6,9.9,9.9,10.0,10.0,9.9],\"type\":\"scatter\"},{\"fill\":\"toself\",\"fillcolor\":\"rgb(153, 0, 0)\",\"hoverinfo\":\"name\",\"line\":{\"width\":0},\"mode\":\"lines\",\"name\":\"Risk Area\",\"showlegend\":false,\"x\":[9.9,9.9,8.6,8.6,6.4,6.4,5.1,5.1,5.0,5.0,5.1,5.1,6.4,6.4,8.6,8.6,9.9,9.9,10.0,10.0,9.9],\"y\":[6.5,5.1,5.1,5.0,5.0,5.1,5.1,6.5,6.5,8.6,8.6,9.9,9.9,10.0,10.0,9.9,9.9,8.6,8.6,6.5,6.5],\"type\":\"scatter\"},{\"fill\":\"toself\",\"fillcolor\":\"rgb(25, 0, 0)\",\"hoverinfo\":\"name\",\"line\":{\"width\":0},\"mode\":\"lines\",\"name\":\"Risk Area\",\"showlegend\":false,\"x\":[4.9,4.9,3.6,3.6,1.5,1.5,0.0,0.0,1.5,1.5,3.6,3.6,4.9,4.9,5.0,5.0,4.9],\"y\":[6.5,5.1,5.1,5.0,5.0,5.1,5.1,9.9,9.9,10.0,10.0,9.9,9.9,8.6,8.6,6.5,6.5],\"type\":\"scatter\"},{\"fill\":\"toself\",\"fillcolor\":\"rgb(0, 0, 0)\",\"hoverinfo\":\"name\",\"line\":{\"width\":0},\"mode\":\"lines\",\"name\":\"Risk Area\",\"showlegend\":false,\"x\":[1.5,0.0,0.0,4.9,4.9,5.0,5.0,4.9,4.9,3.6,3.6,1.5,1.5],\"y\":[10.1,10.1,15.0,15.0,13.6,13.6,11.5,11.5,10.1,10.1,10.0,10.0,10.1],\"type\":\"scatter\"},{\"fill\":\"toself\",\"fillcolor\":\"rgb(0, 0, 0)\",\"hoverinfo\":\"name\",\"line\":{\"width\":0},\"mode\":\"lines\",\"name\":\"Risk Area\",\"showlegend\":false,\"x\":[6.4,5.1,5.1,5.0,5.0,5.1,5.1,9.9,9.9,10.0,10.0,9.9,9.9,8.6,8.6,6.4,6.4],\"y\":[10.1,10.1,11.5,11.5,13.6,13.6,15.0,15.0,13.6,13.6,11.5,11.5,10.1,10.1,10.0,10.0,10.1],\"type\":\"scatter\"},{\"fill\":\"toself\",\"fillcolor\":\"rgb(0, 0, 0)\",\"hoverinfo\":\"name\",\"line\":{\"width\":0},\"mode\":\"lines\",\"name\":\"Risk Area\",\"showlegend\":false,\"x\":[10.1,10.1,15.0,15.0,13.6,13.6,11.5,11.5,10.1,10.1,10.0,10.0,10.1],\"y\":[13.6,15.0,15.0,10.1,10.1,10.0,10.0,10.1,10.1,11.5,11.5,13.6,13.6],\"type\":\"scatter\"},{\"hoverinfo\":\"text\",\"marker\":{\"opacity\":1,\"size\":1},\"mode\":\"markers\",\"showlegend\":false,\"text\":[\"ID: 13.0, Pos(12.14,13.46)\"],\"x\":[12.137653130808232],\"y\":[13.45568701130855],\"type\":\"scatter\"},{\"hoverinfo\":\"text\",\"marker\":{\"opacity\":1,\"size\":1},\"mode\":\"markers\",\"showlegend\":false,\"text\":[\"ID: 20.0, Pos(10.99,13.19)\"],\"x\":[10.98951736117392],\"y\":[13.186753230174128],\"type\":\"scatter\"},{\"hoverinfo\":\"none\",\"marker\":{\"opacity\":0,\"size\":1},\"mode\":\"markers\",\"showlegend\":false,\"x\":[0.0],\"y\":[0.0],\"type\":\"scatter\"},{\"hoverinfo\":\"none\",\"marker\":{\"opacity\":0,\"size\":1},\"mode\":\"markers\",\"showlegend\":false,\"x\":[0.0],\"y\":[0.0],\"type\":\"scatter\"},{\"hoverinfo\":\"none\",\"marker\":{\"opacity\":0,\"size\":1},\"mode\":\"markers\",\"showlegend\":false,\"x\":[0.0],\"y\":[0.0],\"type\":\"scatter\"},{\"hoverinfo\":\"none\",\"marker\":{\"opacity\":0,\"size\":1},\"mode\":\"markers\",\"showlegend\":false,\"x\":[0.0],\"y\":[0.0],\"type\":\"scatter\"},{\"hoverinfo\":\"none\",\"marker\":{\"opacity\":0,\"size\":1},\"mode\":\"markers\",\"showlegend\":false,\"x\":[0.0],\"y\":[0.0],\"type\":\"scatter\"},{\"hoverinfo\":\"none\",\"marker\":{\"opacity\":0,\"size\":1},\"mode\":\"markers\",\"showlegend\":false,\"x\":[0.0],\"y\":[0.0],\"type\":\"scatter\"},{\"hoverinfo\":\"none\",\"marker\":{\"opacity\":0,\"size\":1},\"mode\":\"markers\",\"showlegend\":false,\"x\":[0.0],\"y\":[0.0],\"type\":\"scatter\"},{\"hoverinfo\":\"none\",\"marker\":{\"opacity\":0,\"size\":1},\"mode\":\"markers\",\"showlegend\":false,\"x\":[0.0],\"y\":[0.0],\"type\":\"scatter\"}],\"layout\":{\"shapes\":[{\"fillcolor\":\"rgba(0, 0, 128, 0.5)\",\"line\":{\"color\":\"rgba(0, 0, 128, 0.5)\"},\"type\":\"circle\",\"x0\":11.937653130808233,\"x1\":12.337653130808231,\"xref\":\"x\",\"y0\":13.25568701130855,\"y1\":13.65568701130855,\"yref\":\"y\"},{\"fillcolor\":\"rgba(0, 0, 159, 0.5)\",\"line\":{\"color\":\"rgba(0, 0, 159, 0.5)\"},\"type\":\"circle\",\"x0\":10.789517361173921,\"x1\":11.18951736117392,\"xref\":\"x\",\"y0\":12.986753230174129,\"y1\":13.386753230174127,\"yref\":\"y\"},{\"fillcolor\":\"rgba(255,255,255,0)\",\"line\":{\"width\":0},\"type\":\"circle\",\"x0\":0.0,\"x1\":0.0,\"xref\":\"x\",\"y0\":0.0,\"y1\":0.0,\"yref\":\"y\"},{\"fillcolor\":\"rgba(255,255,255,0)\",\"line\":{\"width\":0},\"type\":\"circle\",\"x0\":0.0,\"x1\":0.0,\"xref\":\"x\",\"y0\":0.0,\"y1\":0.0,\"yref\":\"y\"},{\"fillcolor\":\"rgba(255,255,255,0)\",\"line\":{\"width\":0},\"type\":\"circle\",\"x0\":0.0,\"x1\":0.0,\"xref\":\"x\",\"y0\":0.0,\"y1\":0.0,\"yref\":\"y\"},{\"fillcolor\":\"rgba(255,255,255,0)\",\"line\":{\"width\":0},\"type\":\"circle\",\"x0\":0.0,\"x1\":0.0,\"xref\":\"x\",\"y0\":0.0,\"y1\":0.0,\"yref\":\"y\"},{\"fillcolor\":\"rgba(255,255,255,0)\",\"line\":{\"width\":0},\"type\":\"circle\",\"x0\":0.0,\"x1\":0.0,\"xref\":\"x\",\"y0\":0.0,\"y1\":0.0,\"yref\":\"y\"},{\"fillcolor\":\"rgba(255,255,255,0)\",\"line\":{\"width\":0},\"type\":\"circle\",\"x0\":0.0,\"x1\":0.0,\"xref\":\"x\",\"y0\":0.0,\"y1\":0.0,\"yref\":\"y\"},{\"fillcolor\":\"rgba(255,255,255,0)\",\"line\":{\"width\":0},\"type\":\"circle\",\"x0\":0.0,\"x1\":0.0,\"xref\":\"x\",\"y0\":0.0,\"y1\":0.0,\"yref\":\"y\"},{\"fillcolor\":\"rgba(255,255,255,0)\",\"line\":{\"width\":0},\"type\":\"circle\",\"x0\":0.0,\"x1\":0.0,\"xref\":\"x\",\"y0\":0.0,\"y1\":0.0,\"yref\":\"y\"},{\"line\":{\"color\":\"white\",\"width\":3},\"type\":\"line\",\"x0\":12.137653130808232,\"x1\":12.33440024692105,\"y0\":13.45568701130855,\"y1\":13.491611547510008},{\"line\":{\"color\":\"white\",\"width\":3},\"type\":\"line\",\"x0\":10.98951736117392,\"x1\":11.185481096102702,\"y0\":13.186753230174128,\"y1\":13.22673090635424},{\"line\":{\"color\":\"rgba(255,255,255,0)\",\"width\":3},\"type\":\"line\",\"x0\":0.0,\"x1\":null,\"y0\":0.0,\"y1\":null},{\"line\":{\"color\":\"rgba(255,255,255,0)\",\"width\":3},\"type\":\"line\",\"x0\":0.0,\"x1\":null,\"y0\":0.0,\"y1\":null},{\"line\":{\"color\":\"rgba(255,255,255,0)\",\"width\":3},\"type\":\"line\",\"x0\":0.0,\"x1\":null,\"y0\":0.0,\"y1\":null},{\"line\":{\"color\":\"rgba(255,255,255,0)\",\"width\":3},\"type\":\"line\",\"x0\":0.0,\"x1\":null,\"y0\":0.0,\"y1\":null},{\"line\":{\"color\":\"rgba(255,255,255,0)\",\"width\":3},\"type\":\"line\",\"x0\":0.0,\"x1\":null,\"y0\":0.0,\"y1\":null},{\"line\":{\"color\":\"rgba(255,255,255,0)\",\"width\":3},\"type\":\"line\",\"x0\":0.0,\"x1\":null,\"y0\":0.0,\"y1\":null},{\"line\":{\"color\":\"rgba(255,255,255,0)\",\"width\":3},\"type\":\"line\",\"x0\":0.0,\"x1\":null,\"y0\":0.0,\"y1\":null},{\"line\":{\"color\":\"rgba(255,255,255,0)\",\"width\":3},\"type\":\"line\",\"x0\":0.0,\"x1\":null,\"y0\":0.0,\"y1\":null}],\"title\":{\"text\":\"\\u003cb\\u003eMode: Low_knowledge_shortest_path  |  Number of Agents: 2\\u003c\\u002fb\\u003e\",\"x\":0.5}},\"name\":\"800\"}]);\n                        }).then(function(){\n                            \nvar gd = document.getElementById('623bff97-bc80-41fb-87b8-da1729352fa2');\nvar x = new MutationObserver(function (mutations, observer) {{\n        var display = window.getComputedStyle(gd).display;\n        if (!display || display === 'none') {{\n            console.log([gd, 'removed!']);\n            Plotly.purge(gd);\n            observer.disconnect();\n        }}\n}});\n\n// Listen for the removal of the full notebook cells\nvar notebookContainer = gd.closest('#notebook-container');\nif (notebookContainer) {{\n    x.observe(notebookContainer, {childList: true});\n}}\n\n// Listen for the clearing of the current output cell\nvar outputEl = gd.closest('.output');\nif (outputEl) {{\n    x.observe(outputEl, {childList: true});\n}}\n\n                        })                };                });            </script>        </div>"
     },
     "metadata": {},
     "output_type": "display_data"
    }
   ],
   "source": [
    "agent_trajectories = {}\n",
    "for mode in modes:\n",
    "    trajectory_file = trajectory_files[mode]\n",
    "    agent_trajectories[mode], walkable_area = read_sqlite_file(\n",
    "        trajectory_file\n",
    "    )\n",
    "    animate(\n",
    "        agent_trajectories[mode],\n",
    "        walkable_area,\n",
    "        title_note=f\"Mode: {modes_names[mode]}\",\n",
    "        risk_per_frame=all_risks,\n",
    "        specific_areas=specific_areas\n",
    "    ).show()"
   ],
   "metadata": {
    "collapsed": false
   }
  },
  {
   "cell_type": "code",
   "execution_count": 77,
   "outputs": [],
   "source": [],
   "metadata": {
    "collapsed": false
   }
  }
 ],
 "metadata": {
  "kernelspec": {
   "display_name": "Python 3",
   "language": "python",
   "name": "python3"
  },
  "language_info": {
   "codemirror_mode": {
    "name": "ipython",
    "version": 2
   },
   "file_extension": ".py",
   "mimetype": "text/x-python",
   "name": "python",
   "nbconvert_exporter": "python",
   "pygments_lexer": "ipython2",
   "version": "2.7.6"
  }
 },
 "nbformat": 4,
 "nbformat_minor": 0
}
