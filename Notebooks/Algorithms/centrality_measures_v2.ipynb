{
 "cells": [
  {
   "cell_type": "markdown",
   "source": [
    "# Centrality Measures"
   ],
   "metadata": {
    "collapsed": false
   }
  },
  {
   "cell_type": "code",
   "execution_count": 301,
   "outputs": [],
   "source": [
    "import pathlib\n",
    "\n",
    "import jupedsim as jps\n",
    "import matplotlib.pyplot as plt\n",
    "import pedpy\n",
    "import shapely\n",
    "import sqlite3\n",
    "from matplotlib.patches import Circle\n",
    "from shapely import Polygon\n",
    "import networkx as nx\n",
    "from jupedsim.internal.notebook_utils import animate, read_sqlite_file\n",
    "%matplotlib inline\n",
    "import plotly.graph_objects as go\n",
    "\n",
    "# from Py.centralityMeasures import centralityMeasuresAlgorithm\n",
    "from Py.RiskSimulationValues import RiskSimulationValues\n",
    "from Py.DangerSimulation import *\n",
    "from Py.animation import animate\n",
    "from Py.pathAlgorithms import get_sortest_path, centralityMeasuresAlgorithm, compute_efficient_paths\n",
    "from Py.simulation_config import SimulationConfig\n",
    "from Py.agentGroup import AgentGroup\n",
    "\n",
    "try:\n",
    "    %reload_ext autoreload\n",
    "except:\n",
    "    %load_ext autoreload\n",
    "%autoreload 2"
   ],
   "metadata": {
    "collapsed": false
   }
  },
  {
   "cell_type": "code",
   "execution_count": 302,
   "outputs": [],
   "source": [
    "complete_area = Polygon(\n",
    "    [\n",
    "        (0, 0),\n",
    "        (0, 15),\n",
    "        (15, 15),\n",
    "        (15, 0),\n",
    "    ]\n",
    ")\n",
    "obstacles = [\n",
    "    #bottom\n",
    "    Polygon([(4.9, 0.0), (4.9, 1.5), (5.1, 1.5),(5.1, 0.0)]),\n",
    "    Polygon([(9.9, 0.0), (9.9, 1.5), (10.1, 1.5),(10.1, 0.0)]),\n",
    "    #right\n",
    "    Polygon([(13.6, 4.9), (15, 4.9), (15, 5.1),(13.6, 5.1)]),\n",
    "    Polygon([(13.6, 9.9), (15, 9.9), (15, 10.1),(13.6, 10.1)]),\n",
    "    #top\n",
    "    Polygon([(4.9, 15), (4.9, 13.6), (5.1, 13.6),(5.1, 15)]),\n",
    "    Polygon([(9.9, 15), (9.9, 13.6), (10.1, 13.6),(10.1, 15)]),\n",
    "    #left\n",
    "    Polygon([(1.5, 4.9), (0, 4.9), (0, 5.1),(1.5, 5.1)]),\n",
    "    Polygon([(1.5, 9.9), (0, 9.9), (0, 10.1),(1.5, 10.1)]),\n",
    "    #center\n",
    "    ## bottom left\n",
    "    Polygon([(3.6, 4.9), (4.9, 4.9), (4.9, 3.6), (5.1, 3.6), (5.1, 4.9), (6.4, 4.9), (6.4, 5.1), (5.1, 5.1), (5.1, 6.5), (4.9, 6.5), (4.9, 5.1), (3.6, 5.1)  ]),\n",
    "    ## bottom right\n",
    "    Polygon([(8.6, 4.9), (9.9, 4.9), (9.9, 3.6), (10.1, 3.6), (10.1, 4.9), (11.5, 4.9), (11.5, 5.1), (10.1, 5.1), (10.1, 6.5), (9.9, 6.5), (9.9, 5.1), (8.6, 5.1)  ]),\n",
    "    ## top left\n",
    "    Polygon([(3.6, 9.9), (4.9, 9.9), (4.9, 8.6), (5.1, 8.6), (5.1, 9.9), (6.4, 9.9), (6.4, 10.1), (5.1, 10.1), (5.1, 11.5), (4.9, 11.5), (4.9, 10.1), (3.6, 10.1)  ]),\n",
    "    ## top right\n",
    "    Polygon([(8.6, 9.9), (9.9, 9.9), (9.9, 8.6), (10.1, 8.6), (10.1, 9.9), (11.5, 9.9), (11.5, 10.1), (10.1, 10.1), (10.1, 11.5), (9.9, 11.5), (9.9, 10.1), (8.6, 10.1)  ]),\n",
    "\n",
    "]\n",
    "exit_polygons = {'I': [(12.5, 12.5), (15, 12.5), (15, 15), (12.5, 15)]}\n",
    "waypoints = {'B':([7.5, 2.5], 1.5), 'C':([12.5, 2.5], 1.5), 'D':([12.5, 7.5], 1.5), 'E':([7.5, 7.5], 1.5), 'F':([2.5, 7.5], 1.5), 'G':([2.5, 12.5], 1.5), 'H':([7.5, 12.5], 1.5)}\n",
    "distribution_polygon = {'A': Polygon([[0, 0], [5, 0], [5, 5], [0, 5]])}\n",
    "obstacle = shapely.union_all(obstacles)  # combines obstacle polygons into only one polygon\n",
    "walkable_area = pedpy.WalkableArea(\n",
    "    shapely.difference(complete_area, obstacle))  # difference subtracts obstacle form complete_area"
   ],
   "metadata": {
    "collapsed": false
   }
  },
  {
   "cell_type": "code",
   "execution_count": 303,
   "outputs": [
    {
     "data": {
      "text/plain": "<Figure size 640x480 with 1 Axes>",
      "image/png": "[encoded data removed]"
     },
     "metadata": {},
     "output_type": "display_data"
    }
   ],
   "source": [
    "fig, ax = plt.subplots(nrows=1, ncols=1)\n",
    "ax.set_aspect(\"equal\")\n",
    "pedpy.plot_walkable_area(walkable_area=walkable_area, axes=ax)\n",
    "\n",
    "for idx, (waypoint, distance) in waypoints.items():\n",
    "    ax.plot(waypoint[0], waypoint[1], \"ro\")\n",
    "    ax.annotate(\n",
    "        f\"{idx}\",\n",
    "        (waypoint[0], waypoint[1]),\n",
    "        textcoords=\"offset points\",\n",
    "        xytext=(10, -15),\n",
    "        ha=\"center\",\n",
    "    )\n",
    "    circle = Circle(\n",
    "        (waypoint[0], waypoint[1]), distance, fc=\"red\", ec=\"red\", alpha=0.1\n",
    "    )\n",
    "    ax.add_patch(circle)\n",
    "for name, exit_polygon in exit_polygons.items():\n",
    "    x, y = Polygon(exit_polygon).exterior.xy\n",
    "    plt.fill(x, y, alpha=0.1, color=\"orange\")\n",
    "    centroid = Polygon(exit_polygon).centroid\n",
    "    plt.text(centroid.x, centroid.y, f\"Exit {name}\", ha=\"center\", va=\"center\", fontsize=8)\n",
    "\n",
    "for _, pol in distribution_polygon.items():\n",
    "    x, y = pol.exterior.xy\n",
    "    plt.fill(x, y, alpha=0.1, color=\"blue\")\n",
    "    centroid = pol.centroid\n",
    "    plt.text(centroid.x, centroid.y, \"Start\", ha=\"center\", va=\"center\", fontsize=10)"
   ],
   "metadata": {
    "collapsed": false
   }
  },
  {
   "cell_type": "code",
   "execution_count": 304,
   "outputs": [],
   "source": [
    "def remove_obstacles_from_areas(specific_areas, obstacles):\n",
    "    \"\"\"\n",
    "    Removes obstacles from specific areas by subtracting overlapping polygons.\n",
    "\n",
    "    Args:\n",
    "        specific_areas (dict): Dictionary of named areas {name: Polygon}.\n",
    "        obstacles (list): List of Polygon objects representing obstacles.\n",
    "\n",
    "    Returns:\n",
    "        dict: Dictionary of cleaned areas {name: Polygon without obstacles}.\n",
    "    \"\"\"\n",
    "    cleaned_areas = {}\n",
    "\n",
    "    for name, area in specific_areas.items():\n",
    "        # Subtract all obstacles from the current area\n",
    "        cleaned_area = area\n",
    "        for obstacle in obstacles:\n",
    "            if cleaned_area.intersects(obstacle):  # Only process if they overlap\n",
    "                cleaned_area = cleaned_area.difference(obstacle)\n",
    "\n",
    "        # Store the cleaned area in the dictionary\n",
    "        cleaned_areas[name] = cleaned_area\n",
    "\n",
    "    return cleaned_areas"
   ],
   "metadata": {
    "collapsed": false
   }
  },
  {
   "cell_type": "code",
   "execution_count": 305,
   "outputs": [],
   "source": [
    "specific_areas = dict()\n",
    "specific_areas['A'] = Polygon([(0,0), (5,0), (5,5), (0,5)])\n",
    "specific_areas['B'] = Polygon([(5,0), (10,0), (10,5), (5,5)])\n",
    "specific_areas['C'] = Polygon([(10,0), (15,0), (15,5), (10,5)])\n",
    "specific_areas['D'] = Polygon([(10,5), (15,5), (15,10), (10,10)])\n",
    "specific_areas['E'] = Polygon([(5,5), (10,5), (10,10), (5,10)])\n",
    "specific_areas['F'] = Polygon([(0,5), (5,5), (5,10), (0,10)])\n",
    "specific_areas['G'] = Polygon([(0,10), (5,10), (5,15), (0,15)])\n",
    "specific_areas['H'] = Polygon([(5,10), (10,10), (10,15), (5,15)])\n",
    "specific_areas['I'] = Polygon([(10,10), (15,10), (15,15), (10,15)])"
   ],
   "metadata": {
    "collapsed": false
   }
  },
  {
   "cell_type": "code",
   "execution_count": 306,
   "outputs": [],
   "source": [
    "specific_areas = remove_obstacles_from_areas(specific_areas, obstacles)"
   ],
   "metadata": {
    "collapsed": false
   }
  },
  {
   "cell_type": "markdown",
   "source": [
    "## Configuration of Simulation Scenarios"
   ],
   "metadata": {
    "collapsed": false
   }
  },
  {
   "cell_type": "code",
   "execution_count": 307,
   "outputs": [],
   "source": [
    "# Dictionary to store simulations for different percentages of agents\n",
    "simulations = {}\n",
    "\n",
    "# List of percentages of agents that will be used in the simulation\n",
    "percentages = [0]\n",
    "\n",
    "# Total number of agents in the simulation (not currently used in this snippet)\n",
    "total_agents = 10\n",
    "\n",
    "# Loop over each percentage value to create a corresponding simulation\n",
    "for percentage in percentages:\n",
    "    # Define the output file path for storing the simulation trajectories\n",
    "    trajectory_file = f\"../../sqlite_data/centrality_measures_percentage_{percentage}.sqlite\"\n",
    "\n",
    "    # Create a new simulation instance using JPS (JuPedSim)\n",
    "    simulation = jps.Simulation(\n",
    "        model=jps.CollisionFreeSpeedModel(  # Define the agent movement model\n",
    "            strength_neighbor_repulsion=2.6,  # Strength of repulsion between neighboring agents\n",
    "            range_neighbor_repulsion=0.1,  # Distance at which agents start repelling each other\n",
    "            range_geometry_repulsion=0.05,  # Distance at which agents start avoiding obstacles\n",
    "        ),\n",
    "        geometry=walkable_area.polygon,  # Define the walkable area for the simulation\n",
    "        trajectory_writer=jps.SqliteTrajectoryWriter(  # Specify where to store simulation results\n",
    "            output_file=pathlib.Path(trajectory_file),  # Save output to the specified SQLite file\n",
    "        ),\n",
    "    )\n",
    "\n",
    "    # Store the simulation object in the dictionary using the percentage as a key\n",
    "    simulations[percentage] = simulation"
   ],
   "metadata": {
    "collapsed": false
   }
  },
  {
   "cell_type": "markdown",
   "source": [
    "## Choosing the path\n"
   ],
   "metadata": {
    "collapsed": false
   }
  },
  {
   "cell_type": "code",
   "execution_count": 308,
   "outputs": [],
   "source": [
    "# Create the graph\n",
    "G = nx.DiGraph()\n",
    "\n",
    "# Nodos y sus niveles iniciales de riesgo (0 a 1)\n",
    "nodes = {\n",
    "    \"A\": 0.0, \"B\": 0.6, \"C\": 0.0,\n",
    "    \"D\": 0.6, \"E\": 0.6, \"F\": 0.1,\n",
    "    \"G\": 0.0, \"H\": 0.0, \"I\": 0.0,\n",
    "}\n",
    "\n",
    "# Agregar nodos al grafo\n",
    "for node, risk in nodes.items():\n",
    "    G.add_node(node, risk=risk)\n",
    "\n",
    "# Definir las conexiones entre nodos\n",
    "edges = [\n",
    "    (\"A\", \"B\"), (\"A\", \"F\"), (\"B\", \"A\"), (\"B\", \"E\"), (\"B\", \"C\"),\n",
    "    (\"C\", \"B\"), (\"C\", \"D\"), (\"D\", \"I\"), (\"D\", \"E\"), (\"D\", \"C\"),\n",
    "    (\"E\", \"D\"), (\"E\", \"F\"), (\"E\", \"B\"), (\"E\", \"H\"), (\"F\", \"A\"),\n",
    "    (\"F\", \"E\"), (\"F\", \"G\"), (\"G\", \"F\"), (\"G\", \"H\"), (\"H\", \"E\"),\n",
    "    (\"H\", \"G\"), (\"H\", \"I\"),\n",
    "]\n",
    "\n",
    "# Agregar las aristas con un costo fijo (se puede ajustar)\n",
    "G.add_edges_from([(u, v, {\"cost\": 3}) for u, v in edges])\n",
    "\n",
    "# Parameters for calculation\n",
    "source = \"A\"  # Source nodes\n",
    "targets = [\"I\"]  # Target nodes\n",
    "\n",
    "# Calculate all efficient paths between source-target pairs\n",
    "gamma = 0.2  # Time tolerance factor\n",
    "\n",
    "_, _, best_paths = centralityMeasuresAlgorithm(G, source, targets, gamma)"
   ],
   "metadata": {
    "collapsed": false
   }
  },
  {
   "cell_type": "markdown",
   "source": [
    "## Outlining Agent Journeys"
   ],
   "metadata": {
    "collapsed": false
   }
  },
  {
   "cell_type": "code",
   "execution_count": 309,
   "outputs": [],
   "source": [
    "def create_journeys_for_simulation(start, paths, waypoint_ids, exit_ids):\n",
    "    \"\"\"\n",
    "    Generates journey descriptions for simulation agents using the best paths obtained previously.\n",
    "\n",
    "    Args:\n",
    "        start (str): The starting node in the graph.\n",
    "        paths (list): A list of paths (each path is a list of nodes).\n",
    "        waypoint_ids (dict): A dictionary mapping graph node IDs to simulation waypoint IDs.\n",
    "        exit_ids (dict): A dictionary mapping exit nodes to simulation exit IDs.\n",
    "\n",
    "    Returns:\n",
    "        list: A list of tuples, where each tuple contains:\n",
    "              - A jps.JourneyDescription object describing the agent's journey.\n",
    "              - The original path (a list of nodes) used to generate the journey.\n",
    "    \"\"\"\n",
    "    if not paths:\n",
    "        raise ValueError(f\"No valid paths found from {start}.\")\n",
    "\n",
    "    journeys = []\n",
    "    # Iterate over each path from the best_paths list.\n",
    "    for path in paths:\n",
    "        # Skip paths that do not have at least two nodes (start and end are required).\n",
    "        if len(path) < 2:\n",
    "            continue\n",
    "\n",
    "        # Map the intermediate graph nodes to simulation waypoint IDs,\n",
    "        # excluding the start and end nodes.\n",
    "        needed_waypoints = [waypoint_ids[node] for node in path[1:-1]]\n",
    "        if not needed_waypoints:\n",
    "            continue\n",
    "\n",
    "        # Ensure that the exit node (last node in the path) exists in the exit_ids dictionary.\n",
    "        if path[-1] not in exit_ids:\n",
    "            continue\n",
    "\n",
    "        # Create a JourneyDescription using the intermediate waypoints and append the exit stage.\n",
    "        journey = jps.JourneyDescription([*needed_waypoints, exit_ids[path[-1]]])\n",
    "\n",
    "        # Configure transitions between waypoints.\n",
    "        for idx, waypoint in enumerate(needed_waypoints):\n",
    "            # If it's the last waypoint, the next stage is the exit (mapped from exit_ids);\n",
    "            # otherwise, the next stage is the following waypoint.\n",
    "            next_waypoint = exit_ids[path[-1]] if idx == len(needed_waypoints) - 1 else needed_waypoints[idx + 1]\n",
    "            journey.set_transition_for_stage(\n",
    "                waypoint, jps.Transition.create_fixed_transition(next_waypoint)\n",
    "            )\n",
    "\n",
    "        # Append the journey description along with its corresponding path.\n",
    "        journeys.append((journey, path))\n",
    "\n",
    "    return journeys"
   ],
   "metadata": {
    "collapsed": false
   }
  },
  {
   "cell_type": "code",
   "execution_count": 310,
   "outputs": [],
   "source": [
    "def set_journeys(simulation, start, paths, waypoint_ids, exit_ids):\n",
    "    \"\"\"\n",
    "    Configures agent journeys in the simulation by setting up waypoints, exit stages,\n",
    "    and journey paths between a start and end point.\n",
    "\n",
    "    Args:\n",
    "        simulation (jps.Simulation): The simulation instance where journeys are added.\n",
    "        start (str): The starting node in the graph.\n",
    "        end (str): The destination node in the graph.\n",
    "        paths (dict): A list of paths (each path is a list of nodes)\n",
    "        waypoint_ids (dict): A dictionary mapping nodes to waypoint IDs in the simulation.\n",
    "        exit_ids (dict): A dictionary mapping exit nodes to simulation exit IDs.\n",
    "\n",
    "    Returns:\n",
    "        tuple:\n",
    "            - journeys_id (dict): A dictionary mapping the starting node to a list of tuples (journey ID, path) for each journey.\n",
    "    \"\"\"\n",
    "\n",
    "    # Generate different journey paths using the provided graph information\n",
    "    journeys = create_journeys_for_simulation(start, paths, waypoint_ids, exit_ids)\n",
    "\n",
    "    # Initialize a dictionary to store journey IDs and their associated paths\n",
    "    journeys_id = {}\n",
    "\n",
    "    # Iterate over the generated journeys and their respective paths\n",
    "    for journey, path in journeys:\n",
    "        # Add the journey to the simulation and retrieve its unique ID\n",
    "        journey_id = simulation.add_journey(journey)\n",
    "\n",
    "        # Ensure the starting node is initialized in the dictionary\n",
    "        if start not in journeys_id:\n",
    "            journeys_id[start] = []\n",
    "\n",
    "        # Store the journey ID and its corresponding path in the dictionary\n",
    "        journeys_id[start].append((journey_id, path))\n",
    "\n",
    "    # Return the journey mapping IDs\n",
    "    return journeys_id"
   ],
   "metadata": {
    "collapsed": false
   }
  },
  {
   "cell_type": "markdown",
   "source": [
    "## Allocate Agents"
   ],
   "metadata": {
    "collapsed": false
   }
  },
  {
   "cell_type": "code",
   "execution_count": 311,
   "outputs": [],
   "source": [
    "positions = jps.distribute_by_number(\n",
    "    polygon=distribution_polygon[source],\n",
    "    number_of_agents=total_agents,\n",
    "    distance_to_agents=0.4,\n",
    "    distance_to_polygon=0.7,\n",
    "    seed=45131502,\n",
    ")"
   ],
   "metadata": {
    "collapsed": false
   }
  },
  {
   "cell_type": "markdown",
   "source": [
    "## Launching the Simulation"
   ],
   "metadata": {
    "collapsed": false
   }
  },
  {
   "cell_type": "code",
   "execution_count": 312,
   "outputs": [],
   "source": [
    "def update_graph_risks(G, risk_per_node):\n",
    "    \"\"\"\n",
    "    Updates the risk values for each node in the graph based on the provided risk mapping.\n",
    "\n",
    "    Args:\n",
    "        G (networkx.Graph): The graph whose nodes will have their risk attributes updated.\n",
    "        risk_per_node (dict): A dictionary mapping node identifiers to their corresponding risk values.\n",
    "    \"\"\"\n",
    "    # Iterate over each node and its associated risk value in the risk_per_node dictionary.\n",
    "    for node, risk in risk_per_node.items():\n",
    "        # Check if the node exists in the graph to avoid updating non-existent nodes.\n",
    "        if G.has_node(node):\n",
    "            # Update the 'risk' attribute of the node in the graph.\n",
    "            G.nodes[node]['risk'] = risk"
   ],
   "metadata": {
    "collapsed": false
   }
  },
  {
   "cell_type": "code",
   "execution_count": 313,
   "outputs": [],
   "source": [
    "def compute_low_Knowledge_alternative_path(simulation_config, risk_per_node, next_node, current_node, agent_group, G, risk_threshold):\n",
    "    \"\"\"\n",
    "    Computes an alternative path based on node risk values and the selected algorithm.\n",
    "    If the risk of the next node is below the threshold, no update is needed and None is returned.\n",
    "\n",
    "    Args:\n",
    "        simulation_config (SimulationConfig): The simulation configuration instance.\n",
    "        risk_per_node (dict): Mapping of each node to its risk value.\n",
    "        next_node: The node following the current node in the current path.\n",
    "        current_node: The current node in the path.\n",
    "        agent_group (AgentGroup): An AgentGroup instance containing:\n",
    "            - agents (list): List of agent IDs.\n",
    "            - path (list): List representing the group's current path.\n",
    "            - algorithm (int): Identifier for the algorithm used.\n",
    "            - knowledge_level (int): The knowledge level of the agents.\n",
    "        G: The graph representing the environment.\n",
    "        risk_threshold (float): Threshold above which a node is considered unsafe.\n",
    "    Returns:\n",
    "        list or None: The best alternative path if one is found, or None if no update is needed or found.\n",
    "    \"\"\"\n",
    "\n",
    "    algo = agent_group.algorithm\n",
    "    current_path = agent_group.path\n",
    "\n",
    "    # If the risk of the next node is below the threshold, no update is needed.\n",
    "    if risk_per_node[next_node] < risk_threshold:\n",
    "        return None\n",
    "\n",
    "    # Update the graph with the risk values for each node.\n",
    "    update_graph_risks(G, risk_per_node)\n",
    "\n",
    "    # Sort the neighbors of the current_node by their risk (lowest risk first).\n",
    "    neighbors_sorted = sorted(\n",
    "        G.neighbors(current_node),\n",
    "        key=lambda neighbor: G.nodes[neighbor].get('risk', float('inf'))\n",
    "    )\n",
    "\n",
    "    # Remove the starting node of the current path from the neighbors if applicable.\n",
    "    if current_node != current_path[0] and current_path[0] in neighbors_sorted:\n",
    "        neighbors_sorted.remove(current_path[0])\n",
    "\n",
    "    best_path = None\n",
    "\n",
    "    if algo == 1:\n",
    "        gamma = 0.2\n",
    "        # Get alternative paths using the centralityMeasuresAlgorithm.\n",
    "        _, _, alternative_paths = centralityMeasuresAlgorithm(\n",
    "            G, current_node, simulation_config.get_exit_ids_keys(), gamma\n",
    "        )\n",
    "        if alternative_paths:\n",
    "            # Iterate through the sorted neighbors to find the first alternative path\n",
    "            # where the second node matches one of the sorted neighbors.\n",
    "            for neighbor in neighbors_sorted:\n",
    "                for path in alternative_paths:\n",
    "                    if len(path) > 1 and path[1] == neighbor:\n",
    "                        best_path = path\n",
    "                        break  # Break inner loop if a valid path is found.\n",
    "                if best_path:\n",
    "                    break  # Break outer loop once a valid path is found.\n",
    "    elif algo == 0:\n",
    "        # Use the shortest path algorithm for each neighbor.\n",
    "        for neighbour in neighbors_sorted:\n",
    "            best_path = get_sortest_path(G, neighbour, simulation_config.get_exit_ids_keys())\n",
    "            if best_path is not None:\n",
    "                best_path.insert(0, current_node)\n",
    "                break\n",
    "\n",
    "    return best_path"
   ],
   "metadata": {
    "collapsed": false
   }
  },
  {
   "cell_type": "code",
   "execution_count": 314,
   "outputs": [],
   "source": [
    "def compute_high_Knowledge_alternative_path(simulation_config, risk_per_node, current_node, agent_group, G, risk_threshold):\n",
    "    \"\"\"\n",
    "    Computes an alternative path for a high-knowledge agent group when the current path contains nodes\n",
    "    with risk values at or above a given threshold. It evaluates the risk of the current path and, if necessary,\n",
    "    computes alternative paths using either centrality measures or efficient paths, selecting the path with\n",
    "    the lowest total risk (excluding the first and last nodes).\n",
    "\n",
    "    Args:\n",
    "        simulation_config (SimulationConfig): Simulation configuration instance containing necessary parameters.\n",
    "        risk_per_node (dict): Mapping of nodes to their risk values.\n",
    "        current_node: The node from which alternative paths are evaluated.\n",
    "        agent_group (AgentGroup): An AgentGroup instance containing:\n",
    "            - algorithm (int): Identifier for the algorithm (e.g., 0 for efficient paths, 1 for centrality measures).\n",
    "            - path (list): The current path (list of nodes) followed by the agent group.\n",
    "        G (networkx.Graph): The graph representing the simulation environment.\n",
    "        risk_threshold (float): The risk threshold above which a node is considered dangerous.\n",
    "\n",
    "    Returns:\n",
    "        list or None: The best alternative path (as a list of nodes) with lower total risk, or None if\n",
    "                      no dangerous nodes are found in the current path.\n",
    "    \"\"\"\n",
    "    # Retrieve the algorithm identifier and current path from the agent group.\n",
    "    algo = agent_group.algorithm\n",
    "    current_path = agent_group.path\n",
    "    dangerous_path = False  # Flag to indicate if any node in the current path is dangerous.\n",
    "\n",
    "    # Iterate over the nodes in the current path.\n",
    "    for i, node in enumerate(current_path):\n",
    "        # Check if the node's risk meets or exceeds the threshold.\n",
    "        if risk_per_node.get(node, 0) >= risk_threshold:\n",
    "            # If the node is the first node, skip it as there's no previous node to update from.\n",
    "            if i == 0:\n",
    "                continue\n",
    "            dangerous_path = True\n",
    "\n",
    "    # If a dangerous node is found in the current path, attempt to compute an alternative path.\n",
    "    if dangerous_path:\n",
    "        # Update the graph with the current risk values for each node.\n",
    "        update_graph_risks(G, risk_per_node)\n",
    "\n",
    "        gamma = 0.2  # Tolerance factor for path cost or risk.\n",
    "\n",
    "        # Depending on the algorithm specified in the agent group, compute alternative paths.\n",
    "        if algo == 1:\n",
    "            # Use centralityMeasuresAlgorithm to compute alternative paths based on node centrality.\n",
    "            _, _, alternative_paths = centralityMeasuresAlgorithm(\n",
    "                G, current_node, simulation_config.get_exit_ids_keys(), gamma\n",
    "            )\n",
    "        elif algo == 0:\n",
    "            # Use compute_efficient_paths to compute alternative efficient paths.\n",
    "            alternative_paths = compute_efficient_paths(\n",
    "                G, current_node, simulation_config.get_exit_ids_keys(), gamma\n",
    "            )\n",
    "\n",
    "        best_risk = float('inf')  # Initialize the best (lowest) risk value.\n",
    "\n",
    "        # Iterate over the computed alternative paths to find the one with the lowest total risk.\n",
    "        for path in alternative_paths:\n",
    "            # Calculate the total risk for intermediate nodes (exclude first and last nodes).\n",
    "            path_risk = sum(G.nodes[node][\"risk\"] for node in path[1:-1])\n",
    "            # If this path has a lower risk than the current best, update best_risk and best_path.\n",
    "            if path_risk < best_risk:\n",
    "                best_risk = path_risk\n",
    "                best_path = path\n",
    "    else:\n",
    "        # If no dangerous node is found in the current path, no alternative path is needed.\n",
    "        return None\n",
    "\n",
    "    # Return the alternative path with the lowest computed risk.\n",
    "    return best_path"
   ],
   "metadata": {
    "collapsed": false
   }
  },
  {
   "cell_type": "code",
   "execution_count": 315,
   "outputs": [],
   "source": [
    "def is_sublist(sub, main):\n",
    "    \"\"\"\n",
    "    Checks if 'sub' is a contiguous sublist of 'main'.\n",
    "\n",
    "    Args:\n",
    "        sub (list): The potential sublist.\n",
    "        main (list): The list in which to check for the sublist.\n",
    "\n",
    "    Returns:\n",
    "        bool: True if 'sub' is a contiguous sublist of 'main', False otherwise.\n",
    "    \"\"\"\n",
    "    n = len(sub)\n",
    "    for i in range(len(main) - n + 1):\n",
    "        if main[i:i+n] == sub:\n",
    "            return True\n",
    "    return False"
   ],
   "metadata": {
    "collapsed": false
   }
  },
  {
   "cell_type": "code",
   "execution_count": 316,
   "outputs": [],
   "source": [
    "def update_group_paths(simulation_config, risk_per_node, agent_group, G, risk_threshold=0.5):\n",
    "    \"\"\"\n",
    "    Updates the path of a group of agents based on the current node of the first agent in the group.\n",
    "    If the path is considered unsafe, the path for all agents in the group is updated.\n",
    "\n",
    "    Args:\n",
    "        simulation_config (SimulationConfig): Instance containing:\n",
    "            - simulation: Object managing the simulation (agents and environment).\n",
    "            - every_nth_frame (int): Interval at which agent paths are updated.\n",
    "            - waypoints_ids (dict): Mapping from graph nodes to simulation waypoint IDs.\n",
    "            - journeys_ids (dict): Mapping of journey identifiers to tuples (journey_id, path).\n",
    "        risk_per_node (dict): Mapping of each node to its risk value.\n",
    "        agent_group (AgentGroup): An AgentGroup instance containing:\n",
    "            - agents (list): List of agent IDs.\n",
    "            - path (list): List representing the group's current path.\n",
    "            - algorithm (int): Identifier for the algorithm used.\n",
    "            - knowledge_level (int): The knowledge level of the agents.\n",
    "        risk_threshold (float): Threshold above which a path segment is considered unsafe.\n",
    "\n",
    "    Returns:\n",
    "        AgentGroup: The updated AgentGroup with the new path if a change was made,\n",
    "                or the original AgentGroup if no update occurred.\n",
    "    \"\"\"\n",
    "    knowledge_level = agent_group.knowledge_level\n",
    "    agents_ids = agent_group.agents\n",
    "    current_path = agent_group.path\n",
    "\n",
    "    if not agents_ids:\n",
    "        # No agents in the group; return the original group.\n",
    "        return agent_group\n",
    "\n",
    "    simulation = simulation_config.simulation\n",
    "    waypoints_ids = simulation_config.waypoints_ids\n",
    "\n",
    "    # Use the first agent in the list to evaluate the path.\n",
    "    first_agent_id = agents_ids[0]\n",
    "    # Check if the first agent still exists in the simulation.\n",
    "    agent_exists = any(agent.id == first_agent_id for agent in simulation.agents())\n",
    "    if not agent_exists:\n",
    "        return agent_group\n",
    "\n",
    "    # Retrieve the agent for path evaluation.\n",
    "    agent = simulation.agent(first_agent_id)\n",
    "    current_stage = agent.stage_id  # Current stage ID of the agent.\n",
    "    next_node = None\n",
    "\n",
    "    # Find the node corresponding to the agent's current stage.\n",
    "    for node, waypoint in waypoints_ids.items():\n",
    "        if waypoint == current_stage:\n",
    "            next_node = node\n",
    "            break\n",
    "\n",
    "    # If no corresponding node is found, return the original group.\n",
    "    if not next_node:\n",
    "        return agent_group\n",
    "\n",
    "    # Attempt to obtain the index of next_node in current_path.\n",
    "    try:\n",
    "        node_index = current_path.index(next_node)\n",
    "    except ValueError:\n",
    "        # next_node is not in the current_path.\n",
    "        return agent_group\n",
    "\n",
    "    # Avoid using a negative index if next_node is the first element in current_path.\n",
    "    if node_index == 0:\n",
    "        return agent_group\n",
    "\n",
    "    # The current node is defined as the node immediately before next_node in the path.\n",
    "    current_node = current_path[node_index - 1]\n",
    "\n",
    "    if knowledge_level == 0:\n",
    "        # Inside update_group_paths, after computing current_node and next_node\n",
    "        best_path = compute_low_Knowledge_alternative_path(\n",
    "            simulation_config,\n",
    "            risk_per_node,\n",
    "            next_node,\n",
    "            current_node,\n",
    "            agent_group,\n",
    "            G,\n",
    "            risk_threshold,\n",
    "        )\n",
    "    elif knowledge_level == 1:\n",
    "        best_path = compute_high_Knowledge_alternative_path(\n",
    "            simulation_config,\n",
    "            risk_per_node,\n",
    "            current_node,\n",
    "            agent_group,\n",
    "            G,\n",
    "            risk_threshold,\n",
    "        )\n",
    "\n",
    "    # Ensure a valid alternative path was found and that it is different from the current path.\n",
    "    if best_path is not None and not is_sublist(best_path, current_path):\n",
    "        journeys_ids = set_journeys(\n",
    "            simulation, current_node, [best_path], waypoints_ids, simulation_config.exit_ids\n",
    "        )\n",
    "\n",
    "        # Assume best_path has at least two nodes.\n",
    "        next_node = best_path[1]\n",
    "        next_stage_id = waypoints_ids[next_node]\n",
    "\n",
    "        new_journey_id, _ = journeys_ids[current_node][0]\n",
    "        # Update all agents in the group with the new journey and stage.\n",
    "        for agent_id in agents_ids:\n",
    "            simulation.switch_agent_journey(agent_id, new_journey_id, next_stage_id)\n",
    "\n",
    "        agent_group.path = best_path\n",
    "\n",
    "        # Return the updated agent group with the new path.\n",
    "        return agent_group\n",
    "\n",
    "    # If no update is made, return the original agent_group.\n",
    "    return agent_group"
   ],
   "metadata": {
    "collapsed": false
   }
  },
  {
   "cell_type": "code",
   "execution_count": 317,
   "outputs": [],
   "source": [
    "def simulate_risk(riskSimulationValues, every_nth_frame, G, connection):\n",
    "    \"\"\"\n",
    "    Simulates risk propagation in a graph over multiple frames and stores the results in a database.\n",
    "\n",
    "    Args:\n",
    "        iterations (int): Total number of frames to simulate.\n",
    "        every_nth_frame (int): Interval of frames at which risk updates are performed.\n",
    "        G (networkx.Graph): Graph where each node has a \"risk\" attribute.\n",
    "        propagation_chance (float): Probability of risk spreading between connected nodes.\n",
    "        increase_chance (float): Probability of individual nodes increasing their risk.\n",
    "        connection (sqlite3.Connection): Open SQLite database connection to store risk data.\n",
    "    \"\"\"\n",
    "    # Validate the input arguments\n",
    "    if riskSimulationValues.iterations <= 0:\n",
    "        raise ValueError(\"iterations must be a positive integer.\")\n",
    "    if every_nth_frame <= 0:\n",
    "        raise ValueError(\"every_nth_frame must be a positive integer.\")\n",
    "\n",
    "    for frame in range(riskSimulationValues.iterations + 1):\n",
    "        if frame == 0:\n",
    "            # Save the initial risk levels of all nodes before any updates\n",
    "            try:\n",
    "                write_risk_levels(connection, 0, {node: G.nodes[node][\"risk\"] for node in G.nodes})\n",
    "            except Exception as e:\n",
    "                print(f\"Error writing initial risks: {e}\")\n",
    "            continue\n",
    "\n",
    "        if frame % every_nth_frame == 0:\n",
    "            try:\n",
    "                # Update risks in the graph based on propagation and increase chances\n",
    "                update_risk(G, riskSimulationValues.propagation_chance, riskSimulationValues.increase_chance)\n",
    "                # Save the updated risk levels for the current frame\n",
    "                write_risk_levels(connection, frame, {node: G.nodes[node][\"risk\"] for node in G.nodes})\n",
    "            except Exception as e:\n",
    "                print(f\"Error updating risks at frame {frame}: {e}\")"
   ],
   "metadata": {
    "collapsed": false
   }
  },
  {
   "cell_type": "code",
   "execution_count": 318,
   "outputs": [],
   "source": [
    "def run_agent_simulation(simulation_config, agent_group, G, risk_threshold):\n",
    "    \"\"\"\n",
    "    Runs the agent simulation, updating agent paths based on current risk levels retrieved from the database.\n",
    "\n",
    "    Args:\n",
    "        simulation_config (SimulationConfig): An instance of SimulationConfig containing:\n",
    "            - simulation: The simulation object managing agents and the environment.\n",
    "            - every_nth_frame (int): The interval at which agent paths are updated.\n",
    "            - waypoints_ids (dict): Mapping of graph node IDs to simulation waypoint IDs.\n",
    "            - journeys_ids (dict): Mapping of journey identifiers to tuples (journey_id, path).\n",
    "        agent_group (tuple): A tuple representing the current group of agents and their associated paths.\n",
    "        risk_threshold (float): The risk level threshold above which agents will attempt to avoid high-risk areas.\n",
    "    \"\"\"\n",
    "    while simulation_config.simulation.agent_count() > 0:\n",
    "        # Advance the simulation by one frame\n",
    "        simulation_config.simulation.iterate()\n",
    "        frame = simulation_config.simulation.iteration_count()\n",
    "\n",
    "        # Update agent paths only at specified intervals\n",
    "        if frame % every_nth_frame == 0:\n",
    "            try:\n",
    "                # Fetch risk levels for the current frame from the database\n",
    "                risk_this_frame = get_risk_levels_by_frame(connection, frame)\n",
    "\n",
    "                # Update paths for the agents based on current risks and threshold\n",
    "                agent_group = update_group_paths(\n",
    "                    simulation_config, risk_this_frame, agent_group, G, risk_threshold=risk_threshold\n",
    "                )\n",
    "            except Exception as e:\n",
    "                print(f\"Error updating paths at frame {frame}: {e}\")"
   ],
   "metadata": {
    "collapsed": false
   }
  },
  {
   "cell_type": "code",
   "execution_count": 319,
   "outputs": [],
   "source": [
    "# False -> to use the default risk evolution, True -> random risk evolution\n",
    "use_random_risk_layout = True"
   ],
   "metadata": {
    "collapsed": false
   }
  },
  {
   "cell_type": "code",
   "execution_count": 320,
   "outputs": [],
   "source": [
    "trajectory_files = {}\n",
    "for percentage, simulation in simulations.items():\n",
    "\n",
    "    exit_ids = {}\n",
    "    for node, exit_polygon in exit_polygons.items():\n",
    "        exit_ids[node] = simulation.add_exit_stage(exit_polygon)\n",
    "\n",
    "    # Initialize a dictionary to store waypoint IDs\n",
    "    waypoints_ids = {}\n",
    "    # Convert waypoints into simulation waypoints with associated distances\n",
    "    for node, (waypoint, distance) in waypoints.items():\n",
    "        waypoints_ids[node] = simulation.add_waypoint_stage(waypoint, distance)\n",
    "\n",
    "    # Set up journeys and waypoints for the simulation\n",
    "    journeys_ids = set_journeys(\n",
    "        simulation, source, best_paths, waypoints_ids, exit_ids  # sources[0] -> start, targets[0] -> exit\n",
    "    )\n",
    "\n",
    "    every_nth_frame = 50  # Interval of frames for risk updates\n",
    "\n",
    "    simulation_config = SimulationConfig(simulation, every_nth_frame, waypoints_ids, journeys_ids, exit_ids)\n",
    "\n",
    "    # Retrieve the best path for the first source and its associated journey ID\n",
    "    journey_id, best_path_source = journeys_ids[source][0]\n",
    "    next_node = best_path_source[1]  # Get the next node on the best path\n",
    "    first_waypoint_id = waypoints_ids[next_node]  # Determine the waypoint ID for the next node\n",
    "\n",
    "    # Calculate the number of items based on the percentage of positions\n",
    "    num_items = int(len(positions) * (percentage / 100.0))\n",
    "\n",
    "    # Initialize an agent group\n",
    "    agents = []\n",
    "    for position in positions[num_items:]:  # Use the second half of the positions\n",
    "        # Add agents with specified parameters (e.g., position, journey, velocity)\n",
    "        agents.append(\n",
    "            simulation.add_agent(\n",
    "                jps.CollisionFreeSpeedModelAgentParameters(\n",
    "                    position=position,       # Initial position of the agent\n",
    "                    journey_id=journey_id,   # Journey ID for the agent\n",
    "                    stage_id=first_waypoint_id,  # Starting waypoint for the agent\n",
    "                    v0=0.8                   # Desired maximum speed of the agent\n",
    "                )\n",
    "            )\n",
    "        )\n",
    "    agent_group = AgentGroup(agents, best_path_source, 0, 0)\n",
    "\n",
    "    # Simulation parameters\n",
    "    riskSimulationValues = RiskSimulationValues(3000, 0.005, 0.09)\n",
    "\n",
    "    # Establish a connection to the appropriate SQLite database\n",
    "    default_connection_file = \"../../sqlite_data/default_centrality_measures_risks.db\" # default risk evolution file\n",
    "    new_connection_file = \"../../sqlite_data/centrality_measures_risks.db\" # random risk evolution file\n",
    "    if use_random_risk_layout:\n",
    "        connection_file = new_connection_file  # Use new database if random risk layout is enabled\n",
    "    else:\n",
    "        connection_file = default_connection_file  # Use default database otherwise\n",
    "\n",
    "    connection = sqlite3.connect(connection_file)\n",
    "\n",
    "    try:\n",
    "        if use_random_risk_layout:\n",
    "            # Create or reset the risk table if random risk layout is enabled\n",
    "            create_risk_table(connection)\n",
    "\n",
    "            # Simulate risk propagation and store results in the database\n",
    "            simulate_risk(riskSimulationValues, every_nth_frame, G, connection)\n",
    "\n",
    "        # Run the agent simulation, updating paths based on the risk levels\n",
    "        run_agent_simulation(\n",
    "            simulation_config,\n",
    "            agent_group,\n",
    "            G,\n",
    "            risk_threshold=0.5,  # Threshold for avoiding high-risk areas\n",
    "        )\n",
    "    finally:\n",
    "        # Ensure the database connection is closed after operations\n",
    "        connection.close()\n",
    "\n",
    "    # Generate the trajectory file for the current percentage and store its path\n",
    "    trajectory_file = f\"../../sqlite_data/centrality_measures_percentage_{percentage}.sqlite\"\n",
    "    trajectory_files[percentage] = trajectory_file"
   ],
   "metadata": {
    "collapsed": false
   }
  },
  {
   "cell_type": "code",
   "execution_count": 321,
   "outputs": [
    {
     "name": "stdout",
     "output_type": "stream",
     "text": [
      "Frame 0, Area A: Risk Level 0.0\n",
      "Frame 0, Area B: Risk Level 0.6\n",
      "Frame 0, Area C: Risk Level 0.0\n",
      "Frame 0, Area D: Risk Level 0.6\n",
      "Frame 0, Area E: Risk Level 0.6\n",
      "Frame 0, Area F: Risk Level 0.1\n",
      "Frame 0, Area G: Risk Level 0.0\n",
      "Frame 0, Area H: Risk Level 0.0\n",
      "Frame 0, Area I: Risk Level 0.0\n",
      "Frame 50, Area A: Risk Level 0.0\n",
      "Frame 50, Area B: Risk Level 0.7\n",
      "Frame 50, Area C: Risk Level 0.0\n",
      "Frame 50, Area D: Risk Level 0.6\n",
      "Frame 50, Area E: Risk Level 0.8\n",
      "Frame 50, Area F: Risk Level 0.1\n",
      "Frame 50, Area G: Risk Level 0.0\n",
      "Frame 50, Area H: Risk Level 0.0\n",
      "Frame 50, Area I: Risk Level 0.0\n",
      "Frame 100, Area A: Risk Level 0.0\n",
      "Frame 100, Area B: Risk Level 0.7\n",
      "Frame 100, Area C: Risk Level 0.0\n",
      "Frame 100, Area D: Risk Level 0.6\n",
      "Frame 100, Area E: Risk Level 0.8\n",
      "Frame 100, Area F: Risk Level 0.1\n",
      "Frame 100, Area G: Risk Level 0.0\n",
      "Frame 100, Area H: Risk Level 0.0\n",
      "Frame 100, Area I: Risk Level 0.0\n",
      "Frame 150, Area A: Risk Level 0.0\n",
      "Frame 150, Area B: Risk Level 0.7\n",
      "Frame 150, Area C: Risk Level 0.0\n",
      "Frame 150, Area D: Risk Level 0.6\n",
      "Frame 150, Area E: Risk Level 0.8\n",
      "Frame 150, Area F: Risk Level 0.1\n",
      "Frame 150, Area G: Risk Level 0.0\n",
      "Frame 150, Area H: Risk Level 0.0\n",
      "Frame 150, Area I: Risk Level 0.0\n",
      "Frame 200, Area A: Risk Level 0.0\n",
      "Frame 200, Area B: Risk Level 0.7\n",
      "Frame 200, Area C: Risk Level 0.0\n",
      "Frame 200, Area D: Risk Level 0.6\n",
      "Frame 200, Area E: Risk Level 0.8\n",
      "Frame 200, Area F: Risk Level 0.1\n",
      "Frame 200, Area G: Risk Level 0.0\n",
      "Frame 200, Area H: Risk Level 0.0\n",
      "Frame 200, Area I: Risk Level 0.0\n",
      "Frame 250, Area A: Risk Level 0.0\n",
      "Frame 250, Area B: Risk Level 0.7\n",
      "Frame 250, Area C: Risk Level 0.0\n",
      "Frame 250, Area D: Risk Level 0.6\n",
      "Frame 250, Area E: Risk Level 0.8\n",
      "Frame 250, Area F: Risk Level 0.1\n",
      "Frame 250, Area G: Risk Level 0.0\n",
      "Frame 250, Area H: Risk Level 0.0\n",
      "Frame 250, Area I: Risk Level 0.0\n",
      "Frame 300, Area A: Risk Level 0.0\n",
      "Frame 300, Area B: Risk Level 0.7\n",
      "Frame 300, Area C: Risk Level 0.0\n",
      "Frame 300, Area D: Risk Level 0.6\n",
      "Frame 300, Area E: Risk Level 0.8\n",
      "Frame 300, Area F: Risk Level 0.1\n",
      "Frame 300, Area G: Risk Level 0.1\n",
      "Frame 300, Area H: Risk Level 0.0\n",
      "Frame 300, Area I: Risk Level 0.0\n",
      "Frame 350, Area A: Risk Level 0.0\n",
      "Frame 350, Area B: Risk Level 0.7\n",
      "Frame 350, Area C: Risk Level 0.1\n",
      "Frame 350, Area D: Risk Level 0.7\n",
      "Frame 350, Area E: Risk Level 0.8\n",
      "Frame 350, Area F: Risk Level 0.1\n",
      "Frame 350, Area G: Risk Level 0.2\n",
      "Frame 350, Area H: Risk Level 0.0\n",
      "Frame 350, Area I: Risk Level 0.0\n",
      "Frame 400, Area A: Risk Level 0.0\n",
      "Frame 400, Area B: Risk Level 0.7\n",
      "Frame 400, Area C: Risk Level 0.1\n",
      "Frame 400, Area D: Risk Level 0.7\n",
      "Frame 400, Area E: Risk Level 0.8\n",
      "Frame 400, Area F: Risk Level 0.1\n",
      "Frame 400, Area G: Risk Level 0.2\n",
      "Frame 400, Area H: Risk Level 0.0\n",
      "Frame 400, Area I: Risk Level 0.0\n",
      "Frame 450, Area A: Risk Level 0.0\n",
      "Frame 450, Area B: Risk Level 0.7\n",
      "Frame 450, Area C: Risk Level 0.1\n",
      "Frame 450, Area D: Risk Level 0.7\n",
      "Frame 450, Area E: Risk Level 0.8\n",
      "Frame 450, Area F: Risk Level 0.1\n",
      "Frame 450, Area G: Risk Level 0.2\n",
      "Frame 450, Area H: Risk Level 0.0\n",
      "Frame 450, Area I: Risk Level 0.0\n",
      "Frame 500, Area A: Risk Level 0.0\n",
      "Frame 500, Area B: Risk Level 0.7\n",
      "Frame 500, Area C: Risk Level 0.1\n",
      "Frame 500, Area D: Risk Level 0.7\n",
      "Frame 500, Area E: Risk Level 0.8\n",
      "Frame 500, Area F: Risk Level 0.1\n",
      "Frame 500, Area G: Risk Level 0.2\n",
      "Frame 500, Area H: Risk Level 0.0\n",
      "Frame 500, Area I: Risk Level 0.0\n",
      "Frame 550, Area A: Risk Level 0.0\n",
      "Frame 550, Area B: Risk Level 0.7\n",
      "Frame 550, Area C: Risk Level 0.1\n",
      "Frame 550, Area D: Risk Level 0.7\n",
      "Frame 550, Area E: Risk Level 0.8\n",
      "Frame 550, Area F: Risk Level 0.3\n",
      "Frame 550, Area G: Risk Level 0.2\n",
      "Frame 550, Area H: Risk Level 0.0\n",
      "Frame 550, Area I: Risk Level 0.0\n",
      "Frame 600, Area A: Risk Level 0.0\n",
      "Frame 600, Area B: Risk Level 0.7\n",
      "Frame 600, Area C: Risk Level 0.1\n",
      "Frame 600, Area D: Risk Level 0.7\n",
      "Frame 600, Area E: Risk Level 0.8\n",
      "Frame 600, Area F: Risk Level 0.3\n",
      "Frame 600, Area G: Risk Level 0.2\n",
      "Frame 600, Area H: Risk Level 0.0\n",
      "Frame 600, Area I: Risk Level 0.0\n",
      "Frame 650, Area A: Risk Level 0.0\n",
      "Frame 650, Area B: Risk Level 0.7\n",
      "Frame 650, Area C: Risk Level 0.1\n",
      "Frame 650, Area D: Risk Level 0.7\n",
      "Frame 650, Area E: Risk Level 0.8\n",
      "Frame 650, Area F: Risk Level 0.3\n",
      "Frame 650, Area G: Risk Level 0.2\n",
      "Frame 650, Area H: Risk Level 0.0\n",
      "Frame 650, Area I: Risk Level 0.0\n",
      "Frame 700, Area A: Risk Level 0.0\n",
      "Frame 700, Area B: Risk Level 0.7\n",
      "Frame 700, Area C: Risk Level 0.1\n",
      "Frame 700, Area D: Risk Level 0.7\n",
      "Frame 700, Area E: Risk Level 0.8\n",
      "Frame 700, Area F: Risk Level 0.3\n",
      "Frame 700, Area G: Risk Level 0.2\n",
      "Frame 700, Area H: Risk Level 0.0\n",
      "Frame 700, Area I: Risk Level 0.0\n",
      "Frame 750, Area A: Risk Level 0.0\n",
      "Frame 750, Area B: Risk Level 0.7\n",
      "Frame 750, Area C: Risk Level 0.1\n",
      "Frame 750, Area D: Risk Level 0.7\n",
      "Frame 750, Area E: Risk Level 0.8\n",
      "Frame 750, Area F: Risk Level 0.3\n",
      "Frame 750, Area G: Risk Level 0.2\n",
      "Frame 750, Area H: Risk Level 0.0\n",
      "Frame 750, Area I: Risk Level 0.0\n",
      "Frame 800, Area A: Risk Level 0.0\n",
      "Frame 800, Area B: Risk Level 0.7\n",
      "Frame 800, Area C: Risk Level 0.1\n",
      "Frame 800, Area D: Risk Level 0.7\n",
      "Frame 800, Area E: Risk Level 0.8\n",
      "Frame 800, Area F: Risk Level 0.3\n",
      "Frame 800, Area G: Risk Level 0.2\n",
      "Frame 800, Area H: Risk Level 0.0\n",
      "Frame 800, Area I: Risk Level 0.0\n",
      "Frame 850, Area A: Risk Level 0.0\n",
      "Frame 850, Area B: Risk Level 0.7\n",
      "Frame 850, Area C: Risk Level 0.1\n",
      "Frame 850, Area D: Risk Level 0.7\n",
      "Frame 850, Area E: Risk Level 0.8\n",
      "Frame 850, Area F: Risk Level 0.3\n",
      "Frame 850, Area G: Risk Level 0.2\n",
      "Frame 850, Area H: Risk Level 0.0\n",
      "Frame 850, Area I: Risk Level 0.0\n",
      "Frame 900, Area A: Risk Level 0.1\n",
      "Frame 900, Area B: Risk Level 0.7\n",
      "Frame 900, Area C: Risk Level 0.1\n",
      "Frame 900, Area D: Risk Level 0.7\n",
      "Frame 900, Area E: Risk Level 0.8\n",
      "Frame 900, Area F: Risk Level 0.3\n",
      "Frame 900, Area G: Risk Level 0.2\n",
      "Frame 900, Area H: Risk Level 0.2\n",
      "Frame 900, Area I: Risk Level 0.0\n",
      "Frame 950, Area A: Risk Level 0.1\n",
      "Frame 950, Area B: Risk Level 0.7\n",
      "Frame 950, Area C: Risk Level 0.1\n",
      "Frame 950, Area D: Risk Level 0.7\n",
      "Frame 950, Area E: Risk Level 0.8\n",
      "Frame 950, Area F: Risk Level 0.3\n",
      "Frame 950, Area G: Risk Level 0.2\n",
      "Frame 950, Area H: Risk Level 0.2\n",
      "Frame 950, Area I: Risk Level 0.0\n",
      "Frame 1000, Area A: Risk Level 0.1\n",
      "Frame 1000, Area B: Risk Level 0.7\n",
      "Frame 1000, Area C: Risk Level 0.1\n",
      "Frame 1000, Area D: Risk Level 0.9\n",
      "Frame 1000, Area E: Risk Level 0.9\n",
      "Frame 1000, Area F: Risk Level 0.3\n",
      "Frame 1000, Area G: Risk Level 0.2\n",
      "Frame 1000, Area H: Risk Level 0.3\n",
      "Frame 1000, Area I: Risk Level 0.0\n",
      "Frame 1050, Area A: Risk Level 0.2\n",
      "Frame 1050, Area B: Risk Level 0.7\n",
      "Frame 1050, Area C: Risk Level 0.1\n",
      "Frame 1050, Area D: Risk Level 1.0\n",
      "Frame 1050, Area E: Risk Level 0.9\n",
      "Frame 1050, Area F: Risk Level 0.3\n",
      "Frame 1050, Area G: Risk Level 0.2\n",
      "Frame 1050, Area H: Risk Level 0.3\n",
      "Frame 1050, Area I: Risk Level 0.0\n",
      "Frame 1100, Area A: Risk Level 0.3\n",
      "Frame 1100, Area B: Risk Level 0.7\n",
      "Frame 1100, Area C: Risk Level 0.1\n",
      "Frame 1100, Area D: Risk Level 1.0\n",
      "Frame 1100, Area E: Risk Level 0.9\n",
      "Frame 1100, Area F: Risk Level 0.3\n",
      "Frame 1100, Area G: Risk Level 0.2\n",
      "Frame 1100, Area H: Risk Level 0.3\n",
      "Frame 1100, Area I: Risk Level 0.0\n",
      "Frame 1150, Area A: Risk Level 0.3\n",
      "Frame 1150, Area B: Risk Level 0.7\n",
      "Frame 1150, Area C: Risk Level 0.1\n",
      "Frame 1150, Area D: Risk Level 1.0\n",
      "Frame 1150, Area E: Risk Level 0.9\n",
      "Frame 1150, Area F: Risk Level 0.3\n",
      "Frame 1150, Area G: Risk Level 0.2\n",
      "Frame 1150, Area H: Risk Level 0.3\n",
      "Frame 1150, Area I: Risk Level 0.0\n",
      "Frame 1200, Area A: Risk Level 0.3\n",
      "Frame 1200, Area B: Risk Level 0.7\n",
      "Frame 1200, Area C: Risk Level 0.1\n",
      "Frame 1200, Area D: Risk Level 1.0\n",
      "Frame 1200, Area E: Risk Level 1.0\n",
      "Frame 1200, Area F: Risk Level 0.3\n",
      "Frame 1200, Area G: Risk Level 0.2\n",
      "Frame 1200, Area H: Risk Level 0.3\n",
      "Frame 1200, Area I: Risk Level 0.0\n",
      "Frame 1250, Area A: Risk Level 0.3\n",
      "Frame 1250, Area B: Risk Level 0.7\n",
      "Frame 1250, Area C: Risk Level 0.1\n",
      "Frame 1250, Area D: Risk Level 1.0\n",
      "Frame 1250, Area E: Risk Level 1.0\n",
      "Frame 1250, Area F: Risk Level 0.3\n",
      "Frame 1250, Area G: Risk Level 0.2\n",
      "Frame 1250, Area H: Risk Level 0.3\n",
      "Frame 1250, Area I: Risk Level 0.0\n",
      "Frame 1300, Area A: Risk Level 0.3\n",
      "Frame 1300, Area B: Risk Level 0.9\n",
      "Frame 1300, Area C: Risk Level 0.1\n",
      "Frame 1300, Area D: Risk Level 1.0\n",
      "Frame 1300, Area E: Risk Level 1.0\n",
      "Frame 1300, Area F: Risk Level 0.3\n",
      "Frame 1300, Area G: Risk Level 0.2\n",
      "Frame 1300, Area H: Risk Level 0.3\n",
      "Frame 1300, Area I: Risk Level 0.2\n",
      "Frame 1350, Area A: Risk Level 0.3\n",
      "Frame 1350, Area B: Risk Level 0.9\n",
      "Frame 1350, Area C: Risk Level 0.1\n",
      "Frame 1350, Area D: Risk Level 1.0\n",
      "Frame 1350, Area E: Risk Level 1.0\n",
      "Frame 1350, Area F: Risk Level 0.3\n",
      "Frame 1350, Area G: Risk Level 0.2\n",
      "Frame 1350, Area H: Risk Level 0.3\n",
      "Frame 1350, Area I: Risk Level 0.2\n",
      "Frame 1400, Area A: Risk Level 0.3\n",
      "Frame 1400, Area B: Risk Level 0.9\n",
      "Frame 1400, Area C: Risk Level 0.2\n",
      "Frame 1400, Area D: Risk Level 1.0\n",
      "Frame 1400, Area E: Risk Level 1.0\n",
      "Frame 1400, Area F: Risk Level 0.3\n",
      "Frame 1400, Area G: Risk Level 0.4\n",
      "Frame 1400, Area H: Risk Level 0.5\n",
      "Frame 1400, Area I: Risk Level 0.2\n",
      "Frame 1450, Area A: Risk Level 0.3\n",
      "Frame 1450, Area B: Risk Level 0.9\n",
      "Frame 1450, Area C: Risk Level 0.2\n",
      "Frame 1450, Area D: Risk Level 1.0\n",
      "Frame 1450, Area E: Risk Level 1.0\n",
      "Frame 1450, Area F: Risk Level 0.3\n",
      "Frame 1450, Area G: Risk Level 0.4\n",
      "Frame 1450, Area H: Risk Level 0.5\n",
      "Frame 1450, Area I: Risk Level 0.2\n",
      "Frame 1500, Area A: Risk Level 0.3\n",
      "Frame 1500, Area B: Risk Level 0.9\n",
      "Frame 1500, Area C: Risk Level 0.2\n",
      "Frame 1500, Area D: Risk Level 1.0\n",
      "Frame 1500, Area E: Risk Level 1.0\n",
      "Frame 1500, Area F: Risk Level 0.3\n",
      "Frame 1500, Area G: Risk Level 0.4\n",
      "Frame 1500, Area H: Risk Level 0.5\n",
      "Frame 1500, Area I: Risk Level 0.2\n",
      "Frame 1550, Area A: Risk Level 0.3\n",
      "Frame 1550, Area B: Risk Level 0.9\n",
      "Frame 1550, Area C: Risk Level 0.2\n",
      "Frame 1550, Area D: Risk Level 1.0\n",
      "Frame 1550, Area E: Risk Level 1.0\n",
      "Frame 1550, Area F: Risk Level 0.3\n",
      "Frame 1550, Area G: Risk Level 0.4\n",
      "Frame 1550, Area H: Risk Level 0.5\n",
      "Frame 1550, Area I: Risk Level 0.2\n",
      "Frame 1600, Area A: Risk Level 0.3\n",
      "Frame 1600, Area B: Risk Level 0.9\n",
      "Frame 1600, Area C: Risk Level 0.2\n",
      "Frame 1600, Area D: Risk Level 1.0\n",
      "Frame 1600, Area E: Risk Level 1.0\n",
      "Frame 1600, Area F: Risk Level 0.3\n",
      "Frame 1600, Area G: Risk Level 0.4\n",
      "Frame 1600, Area H: Risk Level 0.7\n",
      "Frame 1600, Area I: Risk Level 0.2\n",
      "Frame 1650, Area A: Risk Level 0.3\n",
      "Frame 1650, Area B: Risk Level 0.9\n",
      "Frame 1650, Area C: Risk Level 0.3\n",
      "Frame 1650, Area D: Risk Level 1.0\n",
      "Frame 1650, Area E: Risk Level 1.0\n",
      "Frame 1650, Area F: Risk Level 0.3\n",
      "Frame 1650, Area G: Risk Level 0.4\n",
      "Frame 1650, Area H: Risk Level 0.7\n",
      "Frame 1650, Area I: Risk Level 0.3\n",
      "Frame 1700, Area A: Risk Level 0.3\n",
      "Frame 1700, Area B: Risk Level 0.9\n",
      "Frame 1700, Area C: Risk Level 0.3\n",
      "Frame 1700, Area D: Risk Level 1.0\n",
      "Frame 1700, Area E: Risk Level 1.0\n",
      "Frame 1700, Area F: Risk Level 0.3\n",
      "Frame 1700, Area G: Risk Level 0.4\n",
      "Frame 1700, Area H: Risk Level 0.8\n",
      "Frame 1700, Area I: Risk Level 0.3\n",
      "Frame 1750, Area A: Risk Level 0.5\n",
      "Frame 1750, Area B: Risk Level 0.9\n",
      "Frame 1750, Area C: Risk Level 0.3\n",
      "Frame 1750, Area D: Risk Level 1.0\n",
      "Frame 1750, Area E: Risk Level 1.0\n",
      "Frame 1750, Area F: Risk Level 0.3\n",
      "Frame 1750, Area G: Risk Level 0.4\n",
      "Frame 1750, Area H: Risk Level 0.8\n",
      "Frame 1750, Area I: Risk Level 0.3\n",
      "Frame 1800, Area A: Risk Level 0.5\n",
      "Frame 1800, Area B: Risk Level 0.9\n",
      "Frame 1800, Area C: Risk Level 0.3\n",
      "Frame 1800, Area D: Risk Level 1.0\n",
      "Frame 1800, Area E: Risk Level 1.0\n",
      "Frame 1800, Area F: Risk Level 0.3\n",
      "Frame 1800, Area G: Risk Level 0.4\n",
      "Frame 1800, Area H: Risk Level 1.0\n",
      "Frame 1800, Area I: Risk Level 0.3\n",
      "Frame 1850, Area A: Risk Level 0.5\n",
      "Frame 1850, Area B: Risk Level 0.9\n",
      "Frame 1850, Area C: Risk Level 0.3\n",
      "Frame 1850, Area D: Risk Level 1.0\n",
      "Frame 1850, Area E: Risk Level 1.0\n",
      "Frame 1850, Area F: Risk Level 0.3\n",
      "Frame 1850, Area G: Risk Level 0.4\n",
      "Frame 1850, Area H: Risk Level 1.0\n",
      "Frame 1850, Area I: Risk Level 0.4\n",
      "Frame 1900, Area A: Risk Level 0.5\n",
      "Frame 1900, Area B: Risk Level 0.9\n",
      "Frame 1900, Area C: Risk Level 0.3\n",
      "Frame 1900, Area D: Risk Level 1.0\n",
      "Frame 1900, Area E: Risk Level 1.0\n",
      "Frame 1900, Area F: Risk Level 0.3\n",
      "Frame 1900, Area G: Risk Level 0.4\n",
      "Frame 1900, Area H: Risk Level 1.0\n",
      "Frame 1900, Area I: Risk Level 0.4\n",
      "Frame 1950, Area A: Risk Level 0.5\n",
      "Frame 1950, Area B: Risk Level 0.9\n",
      "Frame 1950, Area C: Risk Level 0.3\n",
      "Frame 1950, Area D: Risk Level 1.0\n",
      "Frame 1950, Area E: Risk Level 1.0\n",
      "Frame 1950, Area F: Risk Level 0.3\n",
      "Frame 1950, Area G: Risk Level 0.4\n",
      "Frame 1950, Area H: Risk Level 1.0\n",
      "Frame 1950, Area I: Risk Level 0.4\n",
      "Frame 2000, Area A: Risk Level 0.5\n",
      "Frame 2000, Area B: Risk Level 0.9\n",
      "Frame 2000, Area C: Risk Level 0.3\n",
      "Frame 2000, Area D: Risk Level 1.0\n",
      "Frame 2000, Area E: Risk Level 1.0\n",
      "Frame 2000, Area F: Risk Level 0.4\n",
      "Frame 2000, Area G: Risk Level 0.4\n",
      "Frame 2000, Area H: Risk Level 1.0\n",
      "Frame 2000, Area I: Risk Level 0.4\n",
      "Frame 2050, Area A: Risk Level 0.5\n",
      "Frame 2050, Area B: Risk Level 0.9\n",
      "Frame 2050, Area C: Risk Level 0.3\n",
      "Frame 2050, Area D: Risk Level 1.0\n",
      "Frame 2050, Area E: Risk Level 1.0\n",
      "Frame 2050, Area F: Risk Level 0.4\n",
      "Frame 2050, Area G: Risk Level 0.4\n",
      "Frame 2050, Area H: Risk Level 1.0\n",
      "Frame 2050, Area I: Risk Level 0.4\n",
      "Frame 2100, Area A: Risk Level 0.6\n",
      "Frame 2100, Area B: Risk Level 0.9\n",
      "Frame 2100, Area C: Risk Level 0.3\n",
      "Frame 2100, Area D: Risk Level 1.0\n",
      "Frame 2100, Area E: Risk Level 1.0\n",
      "Frame 2100, Area F: Risk Level 0.5\n",
      "Frame 2100, Area G: Risk Level 0.4\n",
      "Frame 2100, Area H: Risk Level 1.0\n",
      "Frame 2100, Area I: Risk Level 0.4\n",
      "Frame 2150, Area A: Risk Level 0.6\n",
      "Frame 2150, Area B: Risk Level 0.9\n",
      "Frame 2150, Area C: Risk Level 0.3\n",
      "Frame 2150, Area D: Risk Level 1.0\n",
      "Frame 2150, Area E: Risk Level 1.0\n",
      "Frame 2150, Area F: Risk Level 0.5\n",
      "Frame 2150, Area G: Risk Level 0.4\n",
      "Frame 2150, Area H: Risk Level 1.0\n",
      "Frame 2150, Area I: Risk Level 0.4\n",
      "Frame 2200, Area A: Risk Level 0.6\n",
      "Frame 2200, Area B: Risk Level 0.9\n",
      "Frame 2200, Area C: Risk Level 0.3\n",
      "Frame 2200, Area D: Risk Level 1.0\n",
      "Frame 2200, Area E: Risk Level 1.0\n",
      "Frame 2200, Area F: Risk Level 0.5\n",
      "Frame 2200, Area G: Risk Level 0.4\n",
      "Frame 2200, Area H: Risk Level 1.0\n",
      "Frame 2200, Area I: Risk Level 0.4\n",
      "Frame 2250, Area A: Risk Level 0.6\n",
      "Frame 2250, Area B: Risk Level 0.9\n",
      "Frame 2250, Area C: Risk Level 0.3\n",
      "Frame 2250, Area D: Risk Level 1.0\n",
      "Frame 2250, Area E: Risk Level 1.0\n",
      "Frame 2250, Area F: Risk Level 0.5\n",
      "Frame 2250, Area G: Risk Level 0.4\n",
      "Frame 2250, Area H: Risk Level 1.0\n",
      "Frame 2250, Area I: Risk Level 0.4\n",
      "Frame 2300, Area A: Risk Level 0.6\n",
      "Frame 2300, Area B: Risk Level 0.9\n",
      "Frame 2300, Area C: Risk Level 0.3\n",
      "Frame 2300, Area D: Risk Level 1.0\n",
      "Frame 2300, Area E: Risk Level 1.0\n",
      "Frame 2300, Area F: Risk Level 0.5\n",
      "Frame 2300, Area G: Risk Level 0.4\n",
      "Frame 2300, Area H: Risk Level 1.0\n",
      "Frame 2300, Area I: Risk Level 0.4\n",
      "Frame 2350, Area A: Risk Level 0.7\n",
      "Frame 2350, Area B: Risk Level 0.9\n",
      "Frame 2350, Area C: Risk Level 0.5\n",
      "Frame 2350, Area D: Risk Level 1.0\n",
      "Frame 2350, Area E: Risk Level 1.0\n",
      "Frame 2350, Area F: Risk Level 0.5\n",
      "Frame 2350, Area G: Risk Level 0.4\n",
      "Frame 2350, Area H: Risk Level 1.0\n",
      "Frame 2350, Area I: Risk Level 0.4\n",
      "Frame 2400, Area A: Risk Level 0.7\n",
      "Frame 2400, Area B: Risk Level 0.9\n",
      "Frame 2400, Area C: Risk Level 0.5\n",
      "Frame 2400, Area D: Risk Level 1.0\n",
      "Frame 2400, Area E: Risk Level 1.0\n",
      "Frame 2400, Area F: Risk Level 0.5\n",
      "Frame 2400, Area G: Risk Level 0.4\n",
      "Frame 2400, Area H: Risk Level 1.0\n",
      "Frame 2400, Area I: Risk Level 0.4\n",
      "Frame 2450, Area A: Risk Level 0.7\n",
      "Frame 2450, Area B: Risk Level 0.9\n",
      "Frame 2450, Area C: Risk Level 0.5\n",
      "Frame 2450, Area D: Risk Level 1.0\n",
      "Frame 2450, Area E: Risk Level 1.0\n",
      "Frame 2450, Area F: Risk Level 0.5\n",
      "Frame 2450, Area G: Risk Level 0.4\n",
      "Frame 2450, Area H: Risk Level 1.0\n",
      "Frame 2450, Area I: Risk Level 0.4\n",
      "Frame 2500, Area A: Risk Level 0.7\n",
      "Frame 2500, Area B: Risk Level 0.9\n",
      "Frame 2500, Area C: Risk Level 0.5\n",
      "Frame 2500, Area D: Risk Level 1.0\n",
      "Frame 2500, Area E: Risk Level 1.0\n",
      "Frame 2500, Area F: Risk Level 0.5\n",
      "Frame 2500, Area G: Risk Level 0.4\n",
      "Frame 2500, Area H: Risk Level 1.0\n",
      "Frame 2500, Area I: Risk Level 0.4\n",
      "Frame 2550, Area A: Risk Level 0.7\n",
      "Frame 2550, Area B: Risk Level 0.9\n",
      "Frame 2550, Area C: Risk Level 0.5\n",
      "Frame 2550, Area D: Risk Level 1.0\n",
      "Frame 2550, Area E: Risk Level 1.0\n",
      "Frame 2550, Area F: Risk Level 0.5\n",
      "Frame 2550, Area G: Risk Level 0.4\n",
      "Frame 2550, Area H: Risk Level 1.0\n",
      "Frame 2550, Area I: Risk Level 0.4\n",
      "Frame 2600, Area A: Risk Level 0.7\n",
      "Frame 2600, Area B: Risk Level 0.9\n",
      "Frame 2600, Area C: Risk Level 0.5\n",
      "Frame 2600, Area D: Risk Level 1.0\n",
      "Frame 2600, Area E: Risk Level 1.0\n",
      "Frame 2600, Area F: Risk Level 0.5\n",
      "Frame 2600, Area G: Risk Level 0.4\n",
      "Frame 2600, Area H: Risk Level 1.0\n",
      "Frame 2600, Area I: Risk Level 0.4\n",
      "Frame 2650, Area A: Risk Level 0.7\n",
      "Frame 2650, Area B: Risk Level 0.9\n",
      "Frame 2650, Area C: Risk Level 0.5\n",
      "Frame 2650, Area D: Risk Level 1.0\n",
      "Frame 2650, Area E: Risk Level 1.0\n",
      "Frame 2650, Area F: Risk Level 0.5\n",
      "Frame 2650, Area G: Risk Level 0.4\n",
      "Frame 2650, Area H: Risk Level 1.0\n",
      "Frame 2650, Area I: Risk Level 0.4\n",
      "Frame 2700, Area A: Risk Level 0.7\n",
      "Frame 2700, Area B: Risk Level 0.9\n",
      "Frame 2700, Area C: Risk Level 0.5\n",
      "Frame 2700, Area D: Risk Level 1.0\n",
      "Frame 2700, Area E: Risk Level 1.0\n",
      "Frame 2700, Area F: Risk Level 0.5\n",
      "Frame 2700, Area G: Risk Level 0.4\n",
      "Frame 2700, Area H: Risk Level 1.0\n",
      "Frame 2700, Area I: Risk Level 0.4\n",
      "Frame 2750, Area A: Risk Level 0.7\n",
      "Frame 2750, Area B: Risk Level 0.9\n",
      "Frame 2750, Area C: Risk Level 0.6\n",
      "Frame 2750, Area D: Risk Level 1.0\n",
      "Frame 2750, Area E: Risk Level 1.0\n",
      "Frame 2750, Area F: Risk Level 0.6\n",
      "Frame 2750, Area G: Risk Level 0.4\n",
      "Frame 2750, Area H: Risk Level 1.0\n",
      "Frame 2750, Area I: Risk Level 0.4\n",
      "Frame 2800, Area A: Risk Level 0.7\n",
      "Frame 2800, Area B: Risk Level 1.0\n",
      "Frame 2800, Area C: Risk Level 0.6\n",
      "Frame 2800, Area D: Risk Level 1.0\n",
      "Frame 2800, Area E: Risk Level 1.0\n",
      "Frame 2800, Area F: Risk Level 0.6\n",
      "Frame 2800, Area G: Risk Level 0.4\n",
      "Frame 2800, Area H: Risk Level 1.0\n",
      "Frame 2800, Area I: Risk Level 0.4\n",
      "Frame 2850, Area A: Risk Level 0.7\n",
      "Frame 2850, Area B: Risk Level 1.0\n",
      "Frame 2850, Area C: Risk Level 0.6\n",
      "Frame 2850, Area D: Risk Level 1.0\n",
      "Frame 2850, Area E: Risk Level 1.0\n",
      "Frame 2850, Area F: Risk Level 0.7\n",
      "Frame 2850, Area G: Risk Level 0.4\n",
      "Frame 2850, Area H: Risk Level 1.0\n",
      "Frame 2850, Area I: Risk Level 0.4\n",
      "Frame 2900, Area A: Risk Level 0.8\n",
      "Frame 2900, Area B: Risk Level 1.0\n",
      "Frame 2900, Area C: Risk Level 0.6\n",
      "Frame 2900, Area D: Risk Level 1.0\n",
      "Frame 2900, Area E: Risk Level 1.0\n",
      "Frame 2900, Area F: Risk Level 0.7\n",
      "Frame 2900, Area G: Risk Level 0.9\n",
      "Frame 2900, Area H: Risk Level 1.0\n",
      "Frame 2900, Area I: Risk Level 0.4\n",
      "Frame 2950, Area A: Risk Level 0.8\n",
      "Frame 2950, Area B: Risk Level 1.0\n",
      "Frame 2950, Area C: Risk Level 0.6\n",
      "Frame 2950, Area D: Risk Level 1.0\n",
      "Frame 2950, Area E: Risk Level 1.0\n",
      "Frame 2950, Area F: Risk Level 0.7\n",
      "Frame 2950, Area G: Risk Level 0.9\n",
      "Frame 2950, Area H: Risk Level 1.0\n",
      "Frame 2950, Area I: Risk Level 0.4\n",
      "Frame 3000, Area A: Risk Level 0.9\n",
      "Frame 3000, Area B: Risk Level 1.0\n",
      "Frame 3000, Area C: Risk Level 0.6\n",
      "Frame 3000, Area D: Risk Level 1.0\n",
      "Frame 3000, Area E: Risk Level 1.0\n",
      "Frame 3000, Area F: Risk Level 0.7\n",
      "Frame 3000, Area G: Risk Level 1.0\n",
      "Frame 3000, Area H: Risk Level 1.0\n",
      "Frame 3000, Area I: Risk Level 0.4\n"
     ]
    }
   ],
   "source": [
    "# Open the database connection safely\n",
    "with sqlite3.connect(connection_file) as connection:\n",
    "    # Fetch all risk data grouped by frame\n",
    "    all_risks = get_risks_grouped_by_frame(connection)\n",
    "\n",
    "    # Iterate over the nested dictionary\n",
    "    for frame, areas in all_risks.items():  # 'areas' is a dictionary {area: risk_level}\n",
    "        for area, risk in areas.items():\n",
    "            print(f\"Frame {frame}, Area {area}: Risk Level {risk}\")\n",
    "\n",
    "# Connection automatically closes when 'with' block ends"
   ],
   "metadata": {
    "collapsed": false
   }
  },
  {
   "cell_type": "markdown",
   "source": [
    "## Visualizing Agent Pathways"
   ],
   "metadata": {
    "collapsed": false
   }
  },
  {
   "cell_type": "code",
   "execution_count": 322,
   "outputs": [
    {
     "data": {
      "application/vnd.plotly.v1+json": {
       "data": [
        {
         "hoverinfo": "name",
         "line": {
          "color": "white"
         },
         "mode": "lines",
         "name": "Exterior",
         "showlegend": false,
         "x": [
          10.1,
          10.1,
          15.0,
          15.0,
          13.6,
          13.6,
          15.0,
          15.0,
          13.6,
          13.6,
          15.0,
          15.0,
          10.1,
          10.1,
          9.9,
          9.9,
          5.1,
          5.1,
          4.9,
          4.9,
          0.0,
          0.0,
          1.5,
          1.5,
          0.0,
          0.0,
          1.5,
          1.5,
          0.0,
          0.0,
          4.9,
          4.9,
          5.1,
          5.1,
          9.9,
          9.9,
          10.1
         ],
         "y": [
          1.5,
          0.0,
          0.0,
          4.9,
          4.9,
          5.1,
          5.1,
          9.9,
          9.9,
          10.1,
          10.1,
          15.0,
          15.0,
          13.6,
          13.6,
          15.0,
          15.0,
          13.6,
          13.6,
          15.0,
          15.0,
          10.1,
          10.1,
          9.9,
          9.9,
          5.1,
          5.1,
          4.9,
          4.9,
          0.0,
          0.0,
          1.5,
          1.5,
          0.0,
          0.0,
          1.5,
          1.5
         ],
         "type": "scatter"
        },
        {
         "hoverinfo": "name",
         "line": {
          "color": "white"
         },
         "mode": "lines",
         "name": "Obstacle",
         "showlegend": false,
         "x": [
          10.1,
          11.5,
          11.5,
          10.1,
          10.1,
          9.9,
          9.9,
          8.6,
          8.6,
          9.9,
          9.9,
          10.1,
          10.1
         ],
         "y": [
          5.1,
          5.1,
          4.9,
          4.9,
          3.6,
          3.6,
          4.9,
          4.9,
          5.1,
          5.1,
          6.5,
          6.5,
          5.1
         ],
         "type": "scatter"
        },
        {
         "hoverinfo": "name",
         "line": {
          "color": "white"
         },
         "mode": "lines",
         "name": "Obstacle",
         "showlegend": false,
         "x": [
          10.1,
          11.5,
          11.5,
          10.1,
          10.1,
          9.9,
          9.9,
          8.6,
          8.6,
          9.9,
          9.9,
          10.1,
          10.1
         ],
         "y": [
          10.1,
          10.1,
          9.9,
          9.9,
          8.6,
          8.6,
          9.9,
          9.9,
          10.1,
          10.1,
          11.5,
          11.5,
          10.1
         ],
         "type": "scatter"
        },
        {
         "hoverinfo": "name",
         "line": {
          "color": "white"
         },
         "mode": "lines",
         "name": "Obstacle",
         "showlegend": false,
         "x": [
          5.1,
          6.4,
          6.4,
          5.1,
          5.1,
          4.9,
          4.9,
          3.6,
          3.6,
          4.9,
          4.9,
          5.1,
          5.1
         ],
         "y": [
          5.1,
          5.1,
          4.9,
          4.9,
          3.6,
          3.6,
          4.9,
          4.9,
          5.1,
          5.1,
          6.5,
          6.5,
          5.1
         ],
         "type": "scatter"
        },
        {
         "hoverinfo": "name",
         "line": {
          "color": "white"
         },
         "mode": "lines",
         "name": "Obstacle",
         "showlegend": false,
         "x": [
          5.1,
          6.4,
          6.4,
          5.1,
          5.1,
          4.9,
          4.9,
          3.6,
          3.6,
          4.9,
          4.9,
          5.1,
          5.1
         ],
         "y": [
          10.1,
          10.1,
          9.9,
          9.9,
          8.6,
          8.6,
          9.9,
          9.9,
          10.1,
          10.1,
          11.5,
          11.5,
          10.1
         ],
         "type": "scatter"
        },
        {
         "fill": "toself",
         "fillcolor": "rgb(0, 0, 0)",
         "hoverinfo": "name",
         "line": {
          "width": 0
         },
         "mode": "lines",
         "name": "Risk Area",
         "showlegend": false,
         "x": [
          1.5,
          1.5,
          3.6,
          3.6,
          4.9,
          4.9,
          5.0,
          5.0,
          4.9,
          4.9,
          0.0,
          0.0,
          1.5
         ],
         "y": [
          4.9,
          5.0,
          5.0,
          4.9,
          4.9,
          3.6,
          3.6,
          1.5,
          1.5,
          0.0,
          0.0,
          4.9,
          4.9
         ],
         "type": "scatter"
        },
        {
         "fill": "toself",
         "fillcolor": "rgb(178, 0, 0)",
         "hoverinfo": "name",
         "line": {
          "width": 0
         },
         "mode": "lines",
         "name": "Risk Area",
         "showlegend": false,
         "x": [
          9.9,
          9.9,
          5.1,
          5.1,
          5.0,
          5.0,
          5.1,
          5.1,
          6.4,
          6.4,
          8.6,
          8.6,
          9.9,
          9.9,
          10.0,
          10.0,
          9.9
         ],
         "y": [
          1.5,
          0.0,
          0.0,
          1.5,
          1.5,
          3.6,
          3.6,
          4.9,
          4.9,
          5.0,
          5.0,
          4.9,
          4.9,
          3.6,
          3.6,
          1.5,
          1.5
         ],
         "type": "scatter"
        },
        {
         "fill": "toself",
         "fillcolor": "rgb(25, 0, 0)",
         "hoverinfo": "name",
         "line": {
          "width": 0
         },
         "mode": "lines",
         "name": "Risk Area",
         "showlegend": false,
         "x": [
          13.6,
          15.0,
          15.0,
          10.1,
          10.1,
          10.0,
          10.0,
          10.1,
          10.1,
          11.5,
          11.5,
          13.6,
          13.6
         ],
         "y": [
          4.9,
          4.9,
          0.0,
          0.0,
          1.5,
          1.5,
          3.6,
          3.6,
          4.9,
          4.9,
          5.0,
          5.0,
          4.9
         ],
         "type": "scatter"
        },
        {
         "fill": "toself",
         "fillcolor": "rgb(178, 0, 0)",
         "hoverinfo": "name",
         "line": {
          "width": 0
         },
         "mode": "lines",
         "name": "Risk Area",
         "showlegend": false,
         "x": [
          13.6,
          15.0,
          15.0,
          13.6,
          13.6,
          11.5,
          11.5,
          10.1,
          10.1,
          10.0,
          10.0,
          10.1,
          10.1,
          11.5,
          11.5,
          13.6,
          13.6
         ],
         "y": [
          9.9,
          9.9,
          5.1,
          5.1,
          5.0,
          5.0,
          5.1,
          5.1,
          6.5,
          6.5,
          8.6,
          8.6,
          9.9,
          9.9,
          10.0,
          10.0,
          9.9
         ],
         "type": "scatter"
        },
        {
         "fill": "toself",
         "fillcolor": "rgb(204, 0, 0)",
         "hoverinfo": "name",
         "line": {
          "width": 0
         },
         "mode": "lines",
         "name": "Risk Area",
         "showlegend": false,
         "x": [
          9.9,
          9.9,
          8.6,
          8.6,
          6.4,
          6.4,
          5.1,
          5.1,
          5.0,
          5.0,
          5.1,
          5.1,
          6.4,
          6.4,
          8.6,
          8.6,
          9.9,
          9.9,
          10.0,
          10.0,
          9.9
         ],
         "y": [
          6.5,
          5.1,
          5.1,
          5.0,
          5.0,
          5.1,
          5.1,
          6.5,
          6.5,
          8.6,
          8.6,
          9.9,
          9.9,
          10.0,
          10.0,
          9.9,
          9.9,
          8.6,
          8.6,
          6.5,
          6.5
         ],
         "type": "scatter"
        },
        {
         "fill": "toself",
         "fillcolor": "rgb(76, 0, 0)",
         "hoverinfo": "name",
         "line": {
          "width": 0
         },
         "mode": "lines",
         "name": "Risk Area",
         "showlegend": false,
         "x": [
          4.9,
          4.9,
          3.6,
          3.6,
          1.5,
          1.5,
          0.0,
          0.0,
          1.5,
          1.5,
          3.6,
          3.6,
          4.9,
          4.9,
          5.0,
          5.0,
          4.9
         ],
         "y": [
          6.5,
          5.1,
          5.1,
          5.0,
          5.0,
          5.1,
          5.1,
          9.9,
          9.9,
          10.0,
          10.0,
          9.9,
          9.9,
          8.6,
          8.6,
          6.5,
          6.5
         ],
         "type": "scatter"
        },
        {
         "fill": "toself",
         "fillcolor": "rgb(51, 0, 0)",
         "hoverinfo": "name",
         "line": {
          "width": 0
         },
         "mode": "lines",
         "name": "Risk Area",
         "showlegend": false,
         "x": [
          1.5,
          0.0,
          0.0,
          4.9,
          4.9,
          5.0,
          5.0,
          4.9,
          4.9,
          3.6,
          3.6,
          1.5,
          1.5
         ],
         "y": [
          10.1,
          10.1,
          15.0,
          15.0,
          13.6,
          13.6,
          11.5,
          11.5,
          10.1,
          10.1,
          10.0,
          10.0,
          10.1
         ],
         "type": "scatter"
        },
        {
         "fill": "toself",
         "fillcolor": "rgb(0, 0, 0)",
         "hoverinfo": "name",
         "line": {
          "width": 0
         },
         "mode": "lines",
         "name": "Risk Area",
         "showlegend": false,
         "x": [
          6.4,
          5.1,
          5.1,
          5.0,
          5.0,
          5.1,
          5.1,
          9.9,
          9.9,
          10.0,
          10.0,
          9.9,
          9.9,
          8.6,
          8.6,
          6.4,
          6.4
         ],
         "y": [
          10.1,
          10.1,
          11.5,
          11.5,
          13.6,
          13.6,
          15.0,
          15.0,
          13.6,
          13.6,
          11.5,
          11.5,
          10.1,
          10.1,
          10.0,
          10.0,
          10.1
         ],
         "type": "scatter"
        },
        {
         "fill": "toself",
         "fillcolor": "rgb(0, 0, 0)",
         "hoverinfo": "name",
         "line": {
          "width": 0
         },
         "mode": "lines",
         "name": "Risk Area",
         "showlegend": false,
         "x": [
          10.1,
          10.1,
          15.0,
          15.0,
          13.6,
          13.6,
          11.5,
          11.5,
          10.1,
          10.1,
          10.0,
          10.0,
          10.1
         ],
         "y": [
          13.6,
          15.0,
          15.0,
          10.1,
          10.1,
          10.0,
          10.0,
          10.1,
          10.1,
          11.5,
          11.5,
          13.6,
          13.6
         ],
         "type": "scatter"
        },
        {
         "hoverinfo": "none",
         "marker": {
          "cmax": 0.8000000000000069,
          "cmin": 0,
          "color": [
           0.7999997415062419,
           0.5075973971098988,
           0.7998523749829529,
           0.7988478819166775,
           0.7992132371410413,
           0.7249901030431707,
           0.612802758593313,
           0.7999999999999988,
           0.26322573985669484,
           0.799652812025704
          ],
          "colorbar": {
           "title": {
            "text": "Speed [m/s]"
           }
          },
          "colorscale": [
           [
            0.0,
            "rgb(128,0,0)"
           ],
           [
            0.2,
            "rgb(250,0,0)"
           ],
           [
            0.4,
            "rgb(255,255,0)"
           ],
           [
            0.6,
            "rgb(5,255,255)"
           ],
           [
            0.8,
            "rgb(0,60,170)"
           ],
           [
            1.0,
            "rgb(0,0,131)"
           ]
          ],
          "size": [
           0.4,
           0.4,
           0.4,
           0.4,
           0.4,
           0.4,
           0.4,
           0.4,
           0.4,
           0.4
          ]
         },
         "mode": "markers",
         "showlegend": false,
         "text": [
          0.7999997415062419,
          0.5075973971098988,
          0.7998523749829529,
          0.7988478819166775,
          0.7992132371410413,
          0.7249901030431707,
          0.612802758593313,
          0.7999999999999988,
          0.26322573985669484,
          0.799652812025704
         ],
         "x": [
          3.9863327738146737,
          0.8488279016949318,
          1.7258968673840784,
          2.116160882427272,
          1.692259232863783,
          1.453767774845684,
          3.0719865838614573,
          3.48879726462054,
          1.7042831428492793,
          1.7565776142251517
         ],
         "y": [
          4.268834270066489,
          1.6370406488593048,
          1.5962220773638665,
          3.5204353653542206,
          2.7972929381969065,
          3.6607508930614516,
          4.234745501580994,
          1.9561046634672852,
          3.3139640340517103,
          2.253852105302265
         ],
         "type": "scatter"
        },
        {
         "hoverinfo": "none",
         "marker": {
          "cmax": 1,
          "cmin": 0,
          "color": [
           0
          ],
          "colorbar": {
           "title": {
            "text": "Risk Level"
           },
           "x": 1.25
          },
          "colorscale": [
           [
            0.0,
            "rgb(0, 0, 0)"
           ],
           [
            0.1,
            "rgb(25, 0, 0)"
           ],
           [
            0.2,
            "rgb(51, 0, 0)"
           ],
           [
            0.3,
            "rgb(76, 0, 0)"
           ],
           [
            0.4,
            "rgb(102, 0, 0)"
           ],
           [
            0.5,
            "rgb(127, 0, 0)"
           ],
           [
            0.6,
            "rgb(153, 0, 0)"
           ],
           [
            0.7,
            "rgb(178, 0, 0)"
           ],
           [
            0.8,
            "rgb(204, 0, 0)"
           ],
           [
            0.9,
            "rgb(229, 0, 0)"
           ],
           [
            1.0,
            "rgb(255, 0, 0)"
           ]
          ],
          "size": 10
         },
         "mode": "markers",
         "showlegend": false,
         "x": [
          0
         ],
         "y": [
          0
         ],
         "type": "scatter"
        },
        {
         "hoverinfo": "text",
         "marker": {
          "opacity": 1,
          "size": 1
         },
         "mode": "markers",
         "showlegend": false,
         "text": [
          "ID: 171, Pos(3.99,4.27)"
         ],
         "x": [
          3.9863327738146737
         ],
         "y": [
          4.268834270066489
         ],
         "type": "scatter"
        },
        {
         "hoverinfo": "text",
         "marker": {
          "opacity": 1,
          "size": 1
         },
         "mode": "markers",
         "showlegend": false,
         "text": [
          "ID: 172, Pos(0.85,1.64)"
         ],
         "x": [
          0.8488279016949318
         ],
         "y": [
          1.6370406488593048
         ],
         "type": "scatter"
        },
        {
         "hoverinfo": "text",
         "marker": {
          "opacity": 1,
          "size": 1
         },
         "mode": "markers",
         "showlegend": false,
         "text": [
          "ID: 173, Pos(1.73,1.60)"
         ],
         "x": [
          1.7258968673840784
         ],
         "y": [
          1.5962220773638665
         ],
         "type": "scatter"
        },
        {
         "hoverinfo": "text",
         "marker": {
          "opacity": 1,
          "size": 1
         },
         "mode": "markers",
         "showlegend": false,
         "text": [
          "ID: 174, Pos(2.12,3.52)"
         ],
         "x": [
          2.116160882427272
         ],
         "y": [
          3.5204353653542206
         ],
         "type": "scatter"
        },
        {
         "hoverinfo": "text",
         "marker": {
          "opacity": 1,
          "size": 1
         },
         "mode": "markers",
         "showlegend": false,
         "text": [
          "ID: 175, Pos(1.69,2.80)"
         ],
         "x": [
          1.692259232863783
         ],
         "y": [
          2.7972929381969065
         ],
         "type": "scatter"
        },
        {
         "hoverinfo": "text",
         "marker": {
          "opacity": 1,
          "size": 1
         },
         "mode": "markers",
         "showlegend": false,
         "text": [
          "ID: 176, Pos(1.45,3.66)"
         ],
         "x": [
          1.453767774845684
         ],
         "y": [
          3.6607508930614516
         ],
         "type": "scatter"
        },
        {
         "hoverinfo": "text",
         "marker": {
          "opacity": 1,
          "size": 1
         },
         "mode": "markers",
         "showlegend": false,
         "text": [
          "ID: 177, Pos(3.07,4.23)"
         ],
         "x": [
          3.0719865838614573
         ],
         "y": [
          4.234745501580994
         ],
         "type": "scatter"
        },
        {
         "hoverinfo": "text",
         "marker": {
          "opacity": 1,
          "size": 1
         },
         "mode": "markers",
         "showlegend": false,
         "text": [
          "ID: 178, Pos(3.49,1.96)"
         ],
         "x": [
          3.48879726462054
         ],
         "y": [
          1.9561046634672852
         ],
         "type": "scatter"
        },
        {
         "hoverinfo": "text",
         "marker": {
          "opacity": 1,
          "size": 1
         },
         "mode": "markers",
         "showlegend": false,
         "text": [
          "ID: 179, Pos(1.70,3.31)"
         ],
         "x": [
          1.7042831428492793
         ],
         "y": [
          3.3139640340517103
         ],
         "type": "scatter"
        },
        {
         "hoverinfo": "text",
         "marker": {
          "opacity": 1,
          "size": 1
         },
         "mode": "markers",
         "showlegend": false,
         "text": [
          "ID: 180, Pos(1.76,2.25)"
         ],
         "x": [
          1.7565776142251517
         ],
         "y": [
          2.253852105302265
         ],
         "type": "scatter"
        }
       ],
       "layout": {
        "shapes": [
         {
          "fillcolor": "rgba(0, 0, 128, 0.5)",
          "line": {
           "color": "rgba(0, 0, 128, 0.5)"
          },
          "type": "circle",
          "x0": 3.7863327738146735,
          "x1": 4.186332773814674,
          "xref": "x",
          "y0": 4.068834270066489,
          "y1": 4.468834270066489,
          "yref": "y"
         },
         {
          "fillcolor": "rgba(48, 255, 199, 0.5)",
          "line": {
           "color": "rgba(48, 255, 199, 0.5)"
          },
          "type": "circle",
          "x0": 0.6488279016949319,
          "x1": 1.0488279016949318,
          "xref": "x",
          "y0": 1.4370406488593048,
          "y1": 1.8370406488593047,
          "yref": "y"
         },
         {
          "fillcolor": "rgba(0, 0, 128, 0.5)",
          "line": {
           "color": "rgba(0, 0, 128, 0.5)"
          },
          "type": "circle",
          "x0": 1.5258968673840785,
          "x1": 1.9258968673840784,
          "xref": "x",
          "y0": 1.3962220773638665,
          "y1": 1.7962220773638664,
          "yref": "y"
         },
         {
          "fillcolor": "rgba(0, 0, 128, 0.5)",
          "line": {
           "color": "rgba(0, 0, 128, 0.5)"
          },
          "type": "circle",
          "x0": 1.916160882427272,
          "x1": 2.316160882427272,
          "xref": "x",
          "y0": 3.3204353653542205,
          "y1": 3.720435365354221,
          "yref": "y"
         },
         {
          "fillcolor": "rgba(0, 0, 128, 0.5)",
          "line": {
           "color": "rgba(0, 0, 128, 0.5)"
          },
          "type": "circle",
          "x0": 1.4922592328637831,
          "x1": 1.892259232863783,
          "xref": "x",
          "y0": 2.5972929381969063,
          "y1": 2.9972929381969067,
          "yref": "y"
         },
         {
          "fillcolor": "rgba(0, 0, 246, 0.5)",
          "line": {
           "color": "rgba(0, 0, 246, 0.5)"
          },
          "type": "circle",
          "x0": 1.2537677748456841,
          "x1": 1.653767774845684,
          "xref": "x",
          "y0": 3.4607508930614514,
          "y1": 3.860750893061452,
          "yref": "y"
         },
         {
          "fillcolor": "rgba(0, 136, 255, 0.5)",
          "line": {
           "color": "rgba(0, 136, 255, 0.5)"
          },
          "type": "circle",
          "x0": 2.871986583861457,
          "x1": 3.2719865838614575,
          "xref": "x",
          "y0": 4.034745501580994,
          "y1": 4.434745501580994,
          "yref": "y"
         },
         {
          "fillcolor": "rgba(0, 0, 128, 0.5)",
          "line": {
           "color": "rgba(0, 0, 128, 0.5)"
          },
          "type": "circle",
          "x0": 3.28879726462054,
          "x1": 3.6887972646205403,
          "xref": "x",
          "y0": 1.7561046634672852,
          "y1": 2.156104663467285,
          "yref": "y"
         },
         {
          "fillcolor": "rgba(255, 152, 0, 0.5)",
          "line": {
           "color": "rgba(255, 152, 0, 0.5)"
          },
          "type": "circle",
          "x0": 1.5042831428492793,
          "x1": 1.9042831428492792,
          "xref": "x",
          "y0": 3.11396403405171,
          "y1": 3.5139640340517104,
          "yref": "y"
         },
         {
          "fillcolor": "rgba(0, 0, 128, 0.5)",
          "line": {
           "color": "rgba(0, 0, 128, 0.5)"
          },
          "type": "circle",
          "x0": 1.5565776142251517,
          "x1": 1.9565776142251516,
          "xref": "x",
          "y0": 2.0538521053022647,
          "y1": 2.453852105302265,
          "yref": "y"
         },
         {
          "line": {
           "color": "white",
           "width": 3
          },
          "type": "line",
          "x0": 3.9863327738146737,
          "x1": 3.9863327738146737,
          "y0": 4.268834270066489,
          "y1": 4.268834270066489
         },
         {
          "line": {
           "color": "black",
           "width": 3
          },
          "type": "line",
          "x0": 0.8488279016949318,
          "x1": 0.8488279016949318,
          "y0": 1.6370406488593048,
          "y1": 1.6370406488593048
         },
         {
          "line": {
           "color": "white",
           "width": 3
          },
          "type": "line",
          "x0": 1.7258968673840784,
          "x1": 1.7258968673840784,
          "y0": 1.5962220773638665,
          "y1": 1.5962220773638665
         },
         {
          "line": {
           "color": "white",
           "width": 3
          },
          "type": "line",
          "x0": 2.116160882427272,
          "x1": 2.116160882427272,
          "y0": 3.5204353653542206,
          "y1": 3.5204353653542206
         },
         {
          "line": {
           "color": "white",
           "width": 3
          },
          "type": "line",
          "x0": 1.692259232863783,
          "x1": 1.692259232863783,
          "y0": 2.7972929381969065,
          "y1": 2.7972929381969065
         },
         {
          "line": {
           "color": "white",
           "width": 3
          },
          "type": "line",
          "x0": 1.453767774845684,
          "x1": 1.453767774845684,
          "y0": 3.6607508930614516,
          "y1": 3.6607508930614516
         },
         {
          "line": {
           "color": "white",
           "width": 3
          },
          "type": "line",
          "x0": 3.0719865838614573,
          "x1": 3.0719865838614573,
          "y0": 4.234745501580994,
          "y1": 4.234745501580994
         },
         {
          "line": {
           "color": "white",
           "width": 3
          },
          "type": "line",
          "x0": 3.48879726462054,
          "x1": 3.48879726462054,
          "y0": 1.9561046634672852,
          "y1": 1.9561046634672852
         },
         {
          "line": {
           "color": "black",
           "width": 3
          },
          "type": "line",
          "x0": 1.7042831428492793,
          "x1": 1.7042831428492793,
          "y0": 3.3139640340517103,
          "y1": 3.3139640340517103
         },
         {
          "line": {
           "color": "white",
           "width": 3
          },
          "type": "line",
          "x0": 1.7565776142251517,
          "x1": 1.7565776142251517,
          "y0": 2.253852105302265,
          "y1": 2.253852105302265
         }
        ],
        "title": {
         "text": "<b>Percentage using the shortest path: 0%  |  Number of Agents: 10</b>",
         "x": 0.5
        },
        "template": {
         "data": {
          "histogram2dcontour": [
           {
            "type": "histogram2dcontour",
            "colorbar": {
             "outlinewidth": 0,
             "ticks": ""
            },
            "colorscale": [
             [
              0.0,
              "#0d0887"
             ],
             [
              0.1111111111111111,
              "#46039f"
             ],
             [
              0.2222222222222222,
              "#7201a8"
             ],
             [
              0.3333333333333333,
              "#9c179e"
             ],
             [
              0.4444444444444444,
              "#bd3786"
             ],
             [
              0.5555555555555556,
              "#d8576b"
             ],
             [
              0.6666666666666666,
              "#ed7953"
             ],
             [
              0.7777777777777778,
              "#fb9f3a"
             ],
             [
              0.8888888888888888,
              "#fdca26"
             ],
             [
              1.0,
              "#f0f921"
             ]
            ]
           }
          ],
          "choropleth": [
           {
            "type": "choropleth",
            "colorbar": {
             "outlinewidth": 0,
             "ticks": ""
            }
           }
          ],
          "histogram2d": [
           {
            "type": "histogram2d",
            "colorbar": {
             "outlinewidth": 0,
             "ticks": ""
            },
            "colorscale": [
             [
              0.0,
              "#0d0887"
             ],
             [
              0.1111111111111111,
              "#46039f"
             ],
             [
              0.2222222222222222,
              "#7201a8"
             ],
             [
              0.3333333333333333,
              "#9c179e"
             ],
             [
              0.4444444444444444,
              "#bd3786"
             ],
             [
              0.5555555555555556,
              "#d8576b"
             ],
             [
              0.6666666666666666,
              "#ed7953"
             ],
             [
              0.7777777777777778,
              "#fb9f3a"
             ],
             [
              0.8888888888888888,
              "#fdca26"
             ],
             [
              1.0,
              "#f0f921"
             ]
            ]
           }
          ],
          "heatmap": [
           {
            "type": "heatmap",
            "colorbar": {
             "outlinewidth": 0,
             "ticks": ""
            },
            "colorscale": [
             [
              0.0,
              "#0d0887"
             ],
             [
              0.1111111111111111,
              "#46039f"
             ],
             [
              0.2222222222222222,
              "#7201a8"
             ],
             [
              0.3333333333333333,
              "#9c179e"
             ],
             [
              0.4444444444444444,
              "#bd3786"
             ],
             [
              0.5555555555555556,
              "#d8576b"
             ],
             [
              0.6666666666666666,
              "#ed7953"
             ],
             [
              0.7777777777777778,
              "#fb9f3a"
             ],
             [
              0.8888888888888888,
              "#fdca26"
             ],
             [
              1.0,
              "#f0f921"
             ]
            ]
           }
          ],
          "heatmapgl": [
           {
            "type": "heatmapgl",
            "colorbar": {
             "outlinewidth": 0,
             "ticks": ""
            },
            "colorscale": [
             [
              0.0,
              "#0d0887"
             ],
             [
              0.1111111111111111,
              "#46039f"
             ],
             [
              0.2222222222222222,
              "#7201a8"
             ],
             [
              0.3333333333333333,
              "#9c179e"
             ],
             [
              0.4444444444444444,
              "#bd3786"
             ],
             [
              0.5555555555555556,
              "#d8576b"
             ],
             [
              0.6666666666666666,
              "#ed7953"
             ],
             [
              0.7777777777777778,
              "#fb9f3a"
             ],
             [
              0.8888888888888888,
              "#fdca26"
             ],
             [
              1.0,
              "#f0f921"
             ]
            ]
           }
          ],
          "contourcarpet": [
           {
            "type": "contourcarpet",
            "colorbar": {
             "outlinewidth": 0,
             "ticks": ""
            }
           }
          ],
          "contour": [
           {
            "type": "contour",
            "colorbar": {
             "outlinewidth": 0,
             "ticks": ""
            },
            "colorscale": [
             [
              0.0,
              "#0d0887"
             ],
             [
              0.1111111111111111,
              "#46039f"
             ],
             [
              0.2222222222222222,
              "#7201a8"
             ],
             [
              0.3333333333333333,
              "#9c179e"
             ],
             [
              0.4444444444444444,
              "#bd3786"
             ],
             [
              0.5555555555555556,
              "#d8576b"
             ],
             [
              0.6666666666666666,
              "#ed7953"
             ],
             [
              0.7777777777777778,
              "#fb9f3a"
             ],
             [
              0.8888888888888888,
              "#fdca26"
             ],
             [
              1.0,
              "#f0f921"
             ]
            ]
           }
          ],
          "surface": [
           {
            "type": "surface",
            "colorbar": {
             "outlinewidth": 0,
             "ticks": ""
            },
            "colorscale": [
             [
              0.0,
              "#0d0887"
             ],
             [
              0.1111111111111111,
              "#46039f"
             ],
             [
              0.2222222222222222,
              "#7201a8"
             ],
             [
              0.3333333333333333,
              "#9c179e"
             ],
             [
              0.4444444444444444,
              "#bd3786"
             ],
             [
              0.5555555555555556,
              "#d8576b"
             ],
             [
              0.6666666666666666,
              "#ed7953"
             ],
             [
              0.7777777777777778,
              "#fb9f3a"
             ],
             [
              0.8888888888888888,
              "#fdca26"
             ],
             [
              1.0,
              "#f0f921"
             ]
            ]
           }
          ],
          "mesh3d": [
           {
            "type": "mesh3d",
            "colorbar": {
             "outlinewidth": 0,
             "ticks": ""
            }
           }
          ],
          "scatter": [
           {
            "marker": {
             "line": {
              "color": "#283442"
             }
            },
            "type": "scatter"
           }
          ],
          "parcoords": [
           {
            "type": "parcoords",
            "line": {
             "colorbar": {
              "outlinewidth": 0,
              "ticks": ""
             }
            }
           }
          ],
          "scatterpolargl": [
           {
            "type": "scatterpolargl",
            "marker": {
             "colorbar": {
              "outlinewidth": 0,
              "ticks": ""
             }
            }
           }
          ],
          "bar": [
           {
            "error_x": {
             "color": "#f2f5fa"
            },
            "error_y": {
             "color": "#f2f5fa"
            },
            "marker": {
             "line": {
              "color": "rgb(17,17,17)",
              "width": 0.5
             },
             "pattern": {
              "fillmode": "overlay",
              "size": 10,
              "solidity": 0.2
             }
            },
            "type": "bar"
           }
          ],
          "scattergeo": [
           {
            "type": "scattergeo",
            "marker": {
             "colorbar": {
              "outlinewidth": 0,
              "ticks": ""
             }
            }
           }
          ],
          "scatterpolar": [
           {
            "type": "scatterpolar",
            "marker": {
             "colorbar": {
              "outlinewidth": 0,
              "ticks": ""
             }
            }
           }
          ],
          "histogram": [
           {
            "marker": {
             "pattern": {
              "fillmode": "overlay",
              "size": 10,
              "solidity": 0.2
             }
            },
            "type": "histogram"
           }
          ],
          "scattergl": [
           {
            "marker": {
             "line": {
              "color": "#283442"
             }
            },
            "type": "scattergl"
           }
          ],
          "scatter3d": [
           {
            "type": "scatter3d",
            "line": {
             "colorbar": {
              "outlinewidth": 0,
              "ticks": ""
             }
            },
            "marker": {
             "colorbar": {
              "outlinewidth": 0,
              "ticks": ""
             }
            }
           }
          ],
          "scattermapbox": [
           {
            "type": "scattermapbox",
            "marker": {
             "colorbar": {
              "outlinewidth": 0,
              "ticks": ""
             }
            }
           }
          ],
          "scatterternary": [
           {
            "type": "scatterternary",
            "marker": {
             "colorbar": {
              "outlinewidth": 0,
              "ticks": ""
             }
            }
           }
          ],
          "scattercarpet": [
           {
            "type": "scattercarpet",
            "marker": {
             "colorbar": {
              "outlinewidth": 0,
              "ticks": ""
             }
            }
           }
          ],
          "carpet": [
           {
            "aaxis": {
             "endlinecolor": "#A2B1C6",
             "gridcolor": "#506784",
             "linecolor": "#506784",
             "minorgridcolor": "#506784",
             "startlinecolor": "#A2B1C6"
            },
            "baxis": {
             "endlinecolor": "#A2B1C6",
             "gridcolor": "#506784",
             "linecolor": "#506784",
             "minorgridcolor": "#506784",
             "startlinecolor": "#A2B1C6"
            },
            "type": "carpet"
           }
          ],
          "table": [
           {
            "cells": {
             "fill": {
              "color": "#506784"
             },
             "line": {
              "color": "rgb(17,17,17)"
             }
            },
            "header": {
             "fill": {
              "color": "#2a3f5f"
             },
             "line": {
              "color": "rgb(17,17,17)"
             }
            },
            "type": "table"
           }
          ],
          "barpolar": [
           {
            "marker": {
             "line": {
              "color": "rgb(17,17,17)",
              "width": 0.5
             },
             "pattern": {
              "fillmode": "overlay",
              "size": 10,
              "solidity": 0.2
             }
            },
            "type": "barpolar"
           }
          ],
          "pie": [
           {
            "automargin": true,
            "type": "pie"
           }
          ]
         },
         "layout": {
          "autotypenumbers": "strict",
          "colorway": [
           "#636efa",
           "#EF553B",
           "#00cc96",
           "#ab63fa",
           "#FFA15A",
           "#19d3f3",
           "#FF6692",
           "#B6E880",
           "#FF97FF",
           "#FECB52"
          ],
          "font": {
           "color": "#f2f5fa"
          },
          "hovermode": "closest",
          "hoverlabel": {
           "align": "left"
          },
          "paper_bgcolor": "rgb(17,17,17)",
          "plot_bgcolor": "rgb(17,17,17)",
          "polar": {
           "bgcolor": "rgb(17,17,17)",
           "angularaxis": {
            "gridcolor": "#506784",
            "linecolor": "#506784",
            "ticks": ""
           },
           "radialaxis": {
            "gridcolor": "#506784",
            "linecolor": "#506784",
            "ticks": ""
           }
          },
          "ternary": {
           "bgcolor": "rgb(17,17,17)",
           "aaxis": {
            "gridcolor": "#506784",
            "linecolor": "#506784",
            "ticks": ""
           },
           "baxis": {
            "gridcolor": "#506784",
            "linecolor": "#506784",
            "ticks": ""
           },
           "caxis": {
            "gridcolor": "#506784",
            "linecolor": "#506784",
            "ticks": ""
           }
          },
          "coloraxis": {
           "colorbar": {
            "outlinewidth": 0,
            "ticks": ""
           }
          },
          "colorscale": {
           "sequential": [
            [
             0.0,
             "#0d0887"
            ],
            [
             0.1111111111111111,
             "#46039f"
            ],
            [
             0.2222222222222222,
             "#7201a8"
            ],
            [
             0.3333333333333333,
             "#9c179e"
            ],
            [
             0.4444444444444444,
             "#bd3786"
            ],
            [
             0.5555555555555556,
             "#d8576b"
            ],
            [
             0.6666666666666666,
             "#ed7953"
            ],
            [
             0.7777777777777778,
             "#fb9f3a"
            ],
            [
             0.8888888888888888,
             "#fdca26"
            ],
            [
             1.0,
             "#f0f921"
            ]
           ],
           "sequentialminus": [
            [
             0.0,
             "#0d0887"
            ],
            [
             0.1111111111111111,
             "#46039f"
            ],
            [
             0.2222222222222222,
             "#7201a8"
            ],
            [
             0.3333333333333333,
             "#9c179e"
            ],
            [
             0.4444444444444444,
             "#bd3786"
            ],
            [
             0.5555555555555556,
             "#d8576b"
            ],
            [
             0.6666666666666666,
             "#ed7953"
            ],
            [
             0.7777777777777778,
             "#fb9f3a"
            ],
            [
             0.8888888888888888,
             "#fdca26"
            ],
            [
             1.0,
             "#f0f921"
            ]
           ],
           "diverging": [
            [
             0,
             "#8e0152"
            ],
            [
             0.1,
             "#c51b7d"
            ],
            [
             0.2,
             "#de77ae"
            ],
            [
             0.3,
             "#f1b6da"
            ],
            [
             0.4,
             "#fde0ef"
            ],
            [
             0.5,
             "#f7f7f7"
            ],
            [
             0.6,
             "#e6f5d0"
            ],
            [
             0.7,
             "#b8e186"
            ],
            [
             0.8,
             "#7fbc41"
            ],
            [
             0.9,
             "#4d9221"
            ],
            [
             1,
             "#276419"
            ]
           ]
          },
          "xaxis": {
           "gridcolor": "#283442",
           "linecolor": "#506784",
           "ticks": "",
           "title": {
            "standoff": 15
           },
           "zerolinecolor": "#283442",
           "automargin": true,
           "zerolinewidth": 2
          },
          "yaxis": {
           "gridcolor": "#283442",
           "linecolor": "#506784",
           "ticks": "",
           "title": {
            "standoff": 15
           },
           "zerolinecolor": "#283442",
           "automargin": true,
           "zerolinewidth": 2
          },
          "scene": {
           "xaxis": {
            "backgroundcolor": "rgb(17,17,17)",
            "gridcolor": "#506784",
            "linecolor": "#506784",
            "showbackground": true,
            "ticks": "",
            "zerolinecolor": "#C8D4E3",
            "gridwidth": 2
           },
           "yaxis": {
            "backgroundcolor": "rgb(17,17,17)",
            "gridcolor": "#506784",
            "linecolor": "#506784",
            "showbackground": true,
            "ticks": "",
            "zerolinecolor": "#C8D4E3",
            "gridwidth": 2
           },
           "zaxis": {
            "backgroundcolor": "rgb(17,17,17)",
            "gridcolor": "#506784",
            "linecolor": "#506784",
            "showbackground": true,
            "ticks": "",
            "zerolinecolor": "#C8D4E3",
            "gridwidth": 2
           }
          },
          "shapedefaults": {
           "line": {
            "color": "#f2f5fa"
           }
          },
          "annotationdefaults": {
           "arrowcolor": "#f2f5fa",
           "arrowhead": 0,
           "arrowwidth": 1
          },
          "geo": {
           "bgcolor": "rgb(17,17,17)",
           "landcolor": "rgb(17,17,17)",
           "subunitcolor": "#506784",
           "showland": true,
           "showlakes": true,
           "lakecolor": "rgb(17,17,17)"
          },
          "title": {
           "x": 0.05
          },
          "updatemenudefaults": {
           "bgcolor": "#506784",
           "borderwidth": 0
          },
          "sliderdefaults": {
           "bgcolor": "#C8D4E3",
           "borderwidth": 1,
           "bordercolor": "rgb(17,17,17)",
           "tickwidth": 0
          },
          "mapbox": {
           "style": "dark"
          }
         }
        },
        "xaxis": {
         "range": [
          -0.5,
          15.5
         ]
        },
        "yaxis": {
         "scaleanchor": "x",
         "scaleratio": 1,
         "range": [
          -0.5,
          15.5
         ]
        },
        "updatemenus": [
         {
          "buttons": [
           {
            "args": [
             null,
             {
              "frame": {
               "duration": 100,
               "redraw": true
              },
              "fromcurrent": true
             }
            ],
            "label": "Play",
            "method": "animate"
           }
          ],
          "direction": "left",
          "pad": {
           "r": 10,
           "t": 87
          },
          "showactive": false,
          "type": "buttons",
          "x": 0.1,
          "xanchor": "right",
          "y": 0,
          "yanchor": "top"
         }
        ],
        "sliders": [
         {
          "active": 0,
          "currentvalue": {
           "font": {
            "size": 20
           },
           "prefix": "Frame:",
           "visible": true,
           "xanchor": "right"
          },
          "len": 0.9,
          "pad": {
           "b": 10,
           "t": 50
          },
          "steps": [
           {
            "args": [
             [
              "0"
             ],
             {
              "frame": {
               "duration": 100,
               "redraw": true
              },
              "mode": "immediate",
              "transition": {
               "duration": 500
              }
             }
            ],
            "label": "0",
            "method": "animate"
           },
           {
            "args": [
             [
              "50"
             ],
             {
              "frame": {
               "duration": 100,
               "redraw": true
              },
              "mode": "immediate",
              "transition": {
               "duration": 500
              }
             }
            ],
            "label": "50",
            "method": "animate"
           },
           {
            "args": [
             [
              "100"
             ],
             {
              "frame": {
               "duration": 100,
               "redraw": true
              },
              "mode": "immediate",
              "transition": {
               "duration": 500
              }
             }
            ],
            "label": "100",
            "method": "animate"
           },
           {
            "args": [
             [
              "150"
             ],
             {
              "frame": {
               "duration": 100,
               "redraw": true
              },
              "mode": "immediate",
              "transition": {
               "duration": 500
              }
             }
            ],
            "label": "150",
            "method": "animate"
           },
           {
            "args": [
             [
              "200"
             ],
             {
              "frame": {
               "duration": 100,
               "redraw": true
              },
              "mode": "immediate",
              "transition": {
               "duration": 500
              }
             }
            ],
            "label": "200",
            "method": "animate"
           },
           {
            "args": [
             [
              "250"
             ],
             {
              "frame": {
               "duration": 100,
               "redraw": true
              },
              "mode": "immediate",
              "transition": {
               "duration": 500
              }
             }
            ],
            "label": "250",
            "method": "animate"
           },
           {
            "args": [
             [
              "300"
             ],
             {
              "frame": {
               "duration": 100,
               "redraw": true
              },
              "mode": "immediate",
              "transition": {
               "duration": 500
              }
             }
            ],
            "label": "300",
            "method": "animate"
           },
           {
            "args": [
             [
              "350"
             ],
             {
              "frame": {
               "duration": 100,
               "redraw": true
              },
              "mode": "immediate",
              "transition": {
               "duration": 500
              }
             }
            ],
            "label": "350",
            "method": "animate"
           },
           {
            "args": [
             [
              "400"
             ],
             {
              "frame": {
               "duration": 100,
               "redraw": true
              },
              "mode": "immediate",
              "transition": {
               "duration": 500
              }
             }
            ],
            "label": "400",
            "method": "animate"
           },
           {
            "args": [
             [
              "450"
             ],
             {
              "frame": {
               "duration": 100,
               "redraw": true
              },
              "mode": "immediate",
              "transition": {
               "duration": 500
              }
             }
            ],
            "label": "450",
            "method": "animate"
           },
           {
            "args": [
             [
              "500"
             ],
             {
              "frame": {
               "duration": 100,
               "redraw": true
              },
              "mode": "immediate",
              "transition": {
               "duration": 500
              }
             }
            ],
            "label": "500",
            "method": "animate"
           },
           {
            "args": [
             [
              "550"
             ],
             {
              "frame": {
               "duration": 100,
               "redraw": true
              },
              "mode": "immediate",
              "transition": {
               "duration": 500
              }
             }
            ],
            "label": "550",
            "method": "animate"
           },
           {
            "args": [
             [
              "600"
             ],
             {
              "frame": {
               "duration": 100,
               "redraw": true
              },
              "mode": "immediate",
              "transition": {
               "duration": 500
              }
             }
            ],
            "label": "600",
            "method": "animate"
           },
           {
            "args": [
             [
              "650"
             ],
             {
              "frame": {
               "duration": 100,
               "redraw": true
              },
              "mode": "immediate",
              "transition": {
               "duration": 500
              }
             }
            ],
            "label": "650",
            "method": "animate"
           },
           {
            "args": [
             [
              "700"
             ],
             {
              "frame": {
               "duration": 100,
               "redraw": true
              },
              "mode": "immediate",
              "transition": {
               "duration": 500
              }
             }
            ],
            "label": "700",
            "method": "animate"
           },
           {
            "args": [
             [
              "750"
             ],
             {
              "frame": {
               "duration": 100,
               "redraw": true
              },
              "mode": "immediate",
              "transition": {
               "duration": 500
              }
             }
            ],
            "label": "750",
            "method": "animate"
           },
           {
            "args": [
             [
              "800"
             ],
             {
              "frame": {
               "duration": 100,
               "redraw": true
              },
              "mode": "immediate",
              "transition": {
               "duration": 500
              }
             }
            ],
            "label": "800",
            "method": "animate"
           }
          ],
          "transition": {
           "duration": 100,
           "easing": "cubic-in-out"
          },
          "x": 0.1,
          "xanchor": "left",
          "y": 0,
          "yanchor": "top"
         }
        ],
        "autosize": false,
        "width": 800,
        "height": 800
       },
       "frames": [
        {
         "data": [
          {
           "hoverinfo": "name",
           "line": {
            "color": "white"
           },
           "mode": "lines",
           "name": "Exterior",
           "showlegend": false,
           "x": [
            10.1,
            10.1,
            15.0,
            15.0,
            13.6,
            13.6,
            15.0,
            15.0,
            13.6,
            13.6,
            15.0,
            15.0,
            10.1,
            10.1,
            9.9,
            9.9,
            5.1,
            5.1,
            4.9,
            4.9,
            0.0,
            0.0,
            1.5,
            1.5,
            0.0,
            0.0,
            1.5,
            1.5,
            0.0,
            0.0,
            4.9,
            4.9,
            5.1,
            5.1,
            9.9,
            9.9,
            10.1
           ],
           "y": [
            1.5,
            0.0,
            0.0,
            4.9,
            4.9,
            5.1,
            5.1,
            9.9,
            9.9,
            10.1,
            10.1,
            15.0,
            15.0,
            13.6,
            13.6,
            15.0,
            15.0,
            13.6,
            13.6,
            15.0,
            15.0,
            10.1,
            10.1,
            9.9,
            9.9,
            5.1,
            5.1,
            4.9,
            4.9,
            0.0,
            0.0,
            1.5,
            1.5,
            0.0,
            0.0,
            1.5,
            1.5
           ],
           "type": "scatter"
          },
          {
           "hoverinfo": "name",
           "line": {
            "color": "white"
           },
           "mode": "lines",
           "name": "Obstacle",
           "showlegend": false,
           "x": [
            10.1,
            11.5,
            11.5,
            10.1,
            10.1,
            9.9,
            9.9,
            8.6,
            8.6,
            9.9,
            9.9,
            10.1,
            10.1
           ],
           "y": [
            5.1,
            5.1,
            4.9,
            4.9,
            3.6,
            3.6,
            4.9,
            4.9,
            5.1,
            5.1,
            6.5,
            6.5,
            5.1
           ],
           "type": "scatter"
          },
          {
           "hoverinfo": "name",
           "line": {
            "color": "white"
           },
           "mode": "lines",
           "name": "Obstacle",
           "showlegend": false,
           "x": [
            10.1,
            11.5,
            11.5,
            10.1,
            10.1,
            9.9,
            9.9,
            8.6,
            8.6,
            9.9,
            9.9,
            10.1,
            10.1
           ],
           "y": [
            10.1,
            10.1,
            9.9,
            9.9,
            8.6,
            8.6,
            9.9,
            9.9,
            10.1,
            10.1,
            11.5,
            11.5,
            10.1
           ],
           "type": "scatter"
          },
          {
           "hoverinfo": "name",
           "line": {
            "color": "white"
           },
           "mode": "lines",
           "name": "Obstacle",
           "showlegend": false,
           "x": [
            5.1,
            6.4,
            6.4,
            5.1,
            5.1,
            4.9,
            4.9,
            3.6,
            3.6,
            4.9,
            4.9,
            5.1,
            5.1
           ],
           "y": [
            5.1,
            5.1,
            4.9,
            4.9,
            3.6,
            3.6,
            4.9,
            4.9,
            5.1,
            5.1,
            6.5,
            6.5,
            5.1
           ],
           "type": "scatter"
          },
          {
           "hoverinfo": "name",
           "line": {
            "color": "white"
           },
           "mode": "lines",
           "name": "Obstacle",
           "showlegend": false,
           "x": [
            5.1,
            6.4,
            6.4,
            5.1,
            5.1,
            4.9,
            4.9,
            3.6,
            3.6,
            4.9,
            4.9,
            5.1,
            5.1
           ],
           "y": [
            10.1,
            10.1,
            9.9,
            9.9,
            8.6,
            8.6,
            9.9,
            9.9,
            10.1,
            10.1,
            11.5,
            11.5,
            10.1
           ],
           "type": "scatter"
          },
          {
           "fill": "toself",
           "fillcolor": "rgb(0, 0, 0)",
           "hoverinfo": "name",
           "line": {
            "width": 0
           },
           "mode": "lines",
           "name": "Risk Area",
           "showlegend": false,
           "x": [
            1.5,
            1.5,
            3.6,
            3.6,
            4.9,
            4.9,
            5.0,
            5.0,
            4.9,
            4.9,
            0.0,
            0.0,
            1.5
           ],
           "y": [
            4.9,
            5.0,
            5.0,
            4.9,
            4.9,
            3.6,
            3.6,
            1.5,
            1.5,
            0.0,
            0.0,
            4.9,
            4.9
           ],
           "type": "scatter"
          },
          {
           "fill": "toself",
           "fillcolor": "rgb(153, 0, 0)",
           "hoverinfo": "name",
           "line": {
            "width": 0
           },
           "mode": "lines",
           "name": "Risk Area",
           "showlegend": false,
           "x": [
            9.9,
            9.9,
            5.1,
            5.1,
            5.0,
            5.0,
            5.1,
            5.1,
            6.4,
            6.4,
            8.6,
            8.6,
            9.9,
            9.9,
            10.0,
            10.0,
            9.9
           ],
           "y": [
            1.5,
            0.0,
            0.0,
            1.5,
            1.5,
            3.6,
            3.6,
            4.9,
            4.9,
            5.0,
            5.0,
            4.9,
            4.9,
            3.6,
            3.6,
            1.5,
            1.5
           ],
           "type": "scatter"
          },
          {
           "fill": "toself",
           "fillcolor": "rgb(0, 0, 0)",
           "hoverinfo": "name",
           "line": {
            "width": 0
           },
           "mode": "lines",
           "name": "Risk Area",
           "showlegend": false,
           "x": [
            13.6,
            15.0,
            15.0,
            10.1,
            10.1,
            10.0,
            10.0,
            10.1,
            10.1,
            11.5,
            11.5,
            13.6,
            13.6
           ],
           "y": [
            4.9,
            4.9,
            0.0,
            0.0,
            1.5,
            1.5,
            3.6,
            3.6,
            4.9,
            4.9,
            5.0,
            5.0,
            4.9
           ],
           "type": "scatter"
          },
          {
           "fill": "toself",
           "fillcolor": "rgb(153, 0, 0)",
           "hoverinfo": "name",
           "line": {
            "width": 0
           },
           "mode": "lines",
           "name": "Risk Area",
           "showlegend": false,
           "x": [
            13.6,
            15.0,
            15.0,
            13.6,
            13.6,
            11.5,
            11.5,
            10.1,
            10.1,
            10.0,
            10.0,
            10.1,
            10.1,
            11.5,
            11.5,
            13.6,
            13.6
           ],
           "y": [
            9.9,
            9.9,
            5.1,
            5.1,
            5.0,
            5.0,
            5.1,
            5.1,
            6.5,
            6.5,
            8.6,
            8.6,
            9.9,
            9.9,
            10.0,
            10.0,
            9.9
           ],
           "type": "scatter"
          },
          {
           "fill": "toself",
           "fillcolor": "rgb(153, 0, 0)",
           "hoverinfo": "name",
           "line": {
            "width": 0
           },
           "mode": "lines",
           "name": "Risk Area",
           "showlegend": false,
           "x": [
            9.9,
            9.9,
            8.6,
            8.6,
            6.4,
            6.4,
            5.1,
            5.1,
            5.0,
            5.0,
            5.1,
            5.1,
            6.4,
            6.4,
            8.6,
            8.6,
            9.9,
            9.9,
            10.0,
            10.0,
            9.9
           ],
           "y": [
            6.5,
            5.1,
            5.1,
            5.0,
            5.0,
            5.1,
            5.1,
            6.5,
            6.5,
            8.6,
            8.6,
            9.9,
            9.9,
            10.0,
            10.0,
            9.9,
            9.9,
            8.6,
            8.6,
            6.5,
            6.5
           ],
           "type": "scatter"
          },
          {
           "fill": "toself",
           "fillcolor": "rgb(25, 0, 0)",
           "hoverinfo": "name",
           "line": {
            "width": 0
           },
           "mode": "lines",
           "name": "Risk Area",
           "showlegend": false,
           "x": [
            4.9,
            4.9,
            3.6,
            3.6,
            1.5,
            1.5,
            0.0,
            0.0,
            1.5,
            1.5,
            3.6,
            3.6,
            4.9,
            4.9,
            5.0,
            5.0,
            4.9
           ],
           "y": [
            6.5,
            5.1,
            5.1,
            5.0,
            5.0,
            5.1,
            5.1,
            9.9,
            9.9,
            10.0,
            10.0,
            9.9,
            9.9,
            8.6,
            8.6,
            6.5,
            6.5
           ],
           "type": "scatter"
          },
          {
           "fill": "toself",
           "fillcolor": "rgb(0, 0, 0)",
           "hoverinfo": "name",
           "line": {
            "width": 0
           },
           "mode": "lines",
           "name": "Risk Area",
           "showlegend": false,
           "x": [
            1.5,
            0.0,
            0.0,
            4.9,
            4.9,
            5.0,
            5.0,
            4.9,
            4.9,
            3.6,
            3.6,
            1.5,
            1.5
           ],
           "y": [
            10.1,
            10.1,
            15.0,
            15.0,
            13.6,
            13.6,
            11.5,
            11.5,
            10.1,
            10.1,
            10.0,
            10.0,
            10.1
           ],
           "type": "scatter"
          },
          {
           "fill": "toself",
           "fillcolor": "rgb(0, 0, 0)",
           "hoverinfo": "name",
           "line": {
            "width": 0
           },
           "mode": "lines",
           "name": "Risk Area",
           "showlegend": false,
           "x": [
            6.4,
            5.1,
            5.1,
            5.0,
            5.0,
            5.1,
            5.1,
            9.9,
            9.9,
            10.0,
            10.0,
            9.9,
            9.9,
            8.6,
            8.6,
            6.4,
            6.4
           ],
           "y": [
            10.1,
            10.1,
            11.5,
            11.5,
            13.6,
            13.6,
            15.0,
            15.0,
            13.6,
            13.6,
            11.5,
            11.5,
            10.1,
            10.1,
            10.0,
            10.0,
            10.1
           ],
           "type": "scatter"
          },
          {
           "fill": "toself",
           "fillcolor": "rgb(0, 0, 0)",
           "hoverinfo": "name",
           "line": {
            "width": 0
           },
           "mode": "lines",
           "name": "Risk Area",
           "showlegend": false,
           "x": [
            10.1,
            10.1,
            15.0,
            15.0,
            13.6,
            13.6,
            11.5,
            11.5,
            10.1,
            10.1,
            10.0,
            10.0,
            10.1
           ],
           "y": [
            13.6,
            15.0,
            15.0,
            10.1,
            10.1,
            10.0,
            10.0,
            10.1,
            10.1,
            11.5,
            11.5,
            13.6,
            13.6
           ],
           "type": "scatter"
          },
          {
           "hoverinfo": "text",
           "marker": {
            "opacity": 1,
            "size": 1
           },
           "mode": "markers",
           "showlegend": false,
           "text": [
            "ID: 171, Pos(3.99,4.27)"
           ],
           "x": [
            3.9863327738146737
           ],
           "y": [
            4.268834270066489
           ],
           "type": "scatter"
          },
          {
           "hoverinfo": "text",
           "marker": {
            "opacity": 1,
            "size": 1
           },
           "mode": "markers",
           "showlegend": false,
           "text": [
            "ID: 172, Pos(0.85,1.64)"
           ],
           "x": [
            0.8488279016949318
           ],
           "y": [
            1.6370406488593048
           ],
           "type": "scatter"
          },
          {
           "hoverinfo": "text",
           "marker": {
            "opacity": 1,
            "size": 1
           },
           "mode": "markers",
           "showlegend": false,
           "text": [
            "ID: 173, Pos(1.73,1.60)"
           ],
           "x": [
            1.7258968673840784
           ],
           "y": [
            1.5962220773638665
           ],
           "type": "scatter"
          },
          {
           "hoverinfo": "text",
           "marker": {
            "opacity": 1,
            "size": 1
           },
           "mode": "markers",
           "showlegend": false,
           "text": [
            "ID: 174, Pos(2.12,3.52)"
           ],
           "x": [
            2.116160882427272
           ],
           "y": [
            3.5204353653542206
           ],
           "type": "scatter"
          },
          {
           "hoverinfo": "text",
           "marker": {
            "opacity": 1,
            "size": 1
           },
           "mode": "markers",
           "showlegend": false,
           "text": [
            "ID: 175, Pos(1.69,2.80)"
           ],
           "x": [
            1.692259232863783
           ],
           "y": [
            2.7972929381969065
           ],
           "type": "scatter"
          },
          {
           "hoverinfo": "text",
           "marker": {
            "opacity": 1,
            "size": 1
           },
           "mode": "markers",
           "showlegend": false,
           "text": [
            "ID: 176, Pos(1.45,3.66)"
           ],
           "x": [
            1.453767774845684
           ],
           "y": [
            3.6607508930614516
           ],
           "type": "scatter"
          },
          {
           "hoverinfo": "text",
           "marker": {
            "opacity": 1,
            "size": 1
           },
           "mode": "markers",
           "showlegend": false,
           "text": [
            "ID: 177, Pos(3.07,4.23)"
           ],
           "x": [
            3.0719865838614573
           ],
           "y": [
            4.234745501580994
           ],
           "type": "scatter"
          },
          {
           "hoverinfo": "text",
           "marker": {
            "opacity": 1,
            "size": 1
           },
           "mode": "markers",
           "showlegend": false,
           "text": [
            "ID: 178, Pos(3.49,1.96)"
           ],
           "x": [
            3.48879726462054
           ],
           "y": [
            1.9561046634672852
           ],
           "type": "scatter"
          },
          {
           "hoverinfo": "text",
           "marker": {
            "opacity": 1,
            "size": 1
           },
           "mode": "markers",
           "showlegend": false,
           "text": [
            "ID: 179, Pos(1.70,3.31)"
           ],
           "x": [
            1.7042831428492793
           ],
           "y": [
            3.3139640340517103
           ],
           "type": "scatter"
          },
          {
           "hoverinfo": "text",
           "marker": {
            "opacity": 1,
            "size": 1
           },
           "mode": "markers",
           "showlegend": false,
           "text": [
            "ID: 180, Pos(1.76,2.25)"
           ],
           "x": [
            1.7565776142251517
           ],
           "y": [
            2.253852105302265
           ],
           "type": "scatter"
          }
         ],
         "layout": {
          "shapes": [
           {
            "fillcolor": "rgba(0, 0, 128, 0.5)",
            "line": {
             "color": "rgba(0, 0, 128, 0.5)"
            },
            "type": "circle",
            "x0": 3.7863327738146735,
            "x1": 4.186332773814674,
            "xref": "x",
            "y0": 4.068834270066489,
            "y1": 4.468834270066489,
            "yref": "y"
           },
           {
            "fillcolor": "rgba(48, 255, 199, 0.5)",
            "line": {
             "color": "rgba(48, 255, 199, 0.5)"
            },
            "type": "circle",
            "x0": 0.6488279016949319,
            "x1": 1.0488279016949318,
            "xref": "x",
            "y0": 1.4370406488593048,
            "y1": 1.8370406488593047,
            "yref": "y"
           },
           {
            "fillcolor": "rgba(0, 0, 128, 0.5)",
            "line": {
             "color": "rgba(0, 0, 128, 0.5)"
            },
            "type": "circle",
            "x0": 1.5258968673840785,
            "x1": 1.9258968673840784,
            "xref": "x",
            "y0": 1.3962220773638665,
            "y1": 1.7962220773638664,
            "yref": "y"
           },
           {
            "fillcolor": "rgba(0, 0, 128, 0.5)",
            "line": {
             "color": "rgba(0, 0, 128, 0.5)"
            },
            "type": "circle",
            "x0": 1.916160882427272,
            "x1": 2.316160882427272,
            "xref": "x",
            "y0": 3.3204353653542205,
            "y1": 3.720435365354221,
            "yref": "y"
           },
           {
            "fillcolor": "rgba(0, 0, 128, 0.5)",
            "line": {
             "color": "rgba(0, 0, 128, 0.5)"
            },
            "type": "circle",
            "x0": 1.4922592328637831,
            "x1": 1.892259232863783,
            "xref": "x",
            "y0": 2.5972929381969063,
            "y1": 2.9972929381969067,
            "yref": "y"
           },
           {
            "fillcolor": "rgba(0, 0, 246, 0.5)",
            "line": {
             "color": "rgba(0, 0, 246, 0.5)"
            },
            "type": "circle",
            "x0": 1.2537677748456841,
            "x1": 1.653767774845684,
            "xref": "x",
            "y0": 3.4607508930614514,
            "y1": 3.860750893061452,
            "yref": "y"
           },
           {
            "fillcolor": "rgba(0, 136, 255, 0.5)",
            "line": {
             "color": "rgba(0, 136, 255, 0.5)"
            },
            "type": "circle",
            "x0": 2.871986583861457,
            "x1": 3.2719865838614575,
            "xref": "x",
            "y0": 4.034745501580994,
            "y1": 4.434745501580994,
            "yref": "y"
           },
           {
            "fillcolor": "rgba(0, 0, 128, 0.5)",
            "line": {
             "color": "rgba(0, 0, 128, 0.5)"
            },
            "type": "circle",
            "x0": 3.28879726462054,
            "x1": 3.6887972646205403,
            "xref": "x",
            "y0": 1.7561046634672852,
            "y1": 2.156104663467285,
            "yref": "y"
           },
           {
            "fillcolor": "rgba(255, 152, 0, 0.5)",
            "line": {
             "color": "rgba(255, 152, 0, 0.5)"
            },
            "type": "circle",
            "x0": 1.5042831428492793,
            "x1": 1.9042831428492792,
            "xref": "x",
            "y0": 3.11396403405171,
            "y1": 3.5139640340517104,
            "yref": "y"
           },
           {
            "fillcolor": "rgba(0, 0, 128, 0.5)",
            "line": {
             "color": "rgba(0, 0, 128, 0.5)"
            },
            "type": "circle",
            "x0": 1.5565776142251517,
            "x1": 1.9565776142251516,
            "xref": "x",
            "y0": 2.0538521053022647,
            "y1": 2.453852105302265,
            "yref": "y"
           },
           {
            "line": {
             "color": "white",
             "width": 3
            },
            "type": "line",
            "x0": 3.9863327738146737,
            "x1": 3.9863327738146737,
            "y0": 4.268834270066489,
            "y1": 4.268834270066489
           },
           {
            "line": {
             "color": "black",
             "width": 3
            },
            "type": "line",
            "x0": 0.8488279016949318,
            "x1": 0.8488279016949318,
            "y0": 1.6370406488593048,
            "y1": 1.6370406488593048
           },
           {
            "line": {
             "color": "white",
             "width": 3
            },
            "type": "line",
            "x0": 1.7258968673840784,
            "x1": 1.7258968673840784,
            "y0": 1.5962220773638665,
            "y1": 1.5962220773638665
           },
           {
            "line": {
             "color": "white",
             "width": 3
            },
            "type": "line",
            "x0": 2.116160882427272,
            "x1": 2.116160882427272,
            "y0": 3.5204353653542206,
            "y1": 3.5204353653542206
           },
           {
            "line": {
             "color": "white",
             "width": 3
            },
            "type": "line",
            "x0": 1.692259232863783,
            "x1": 1.692259232863783,
            "y0": 2.7972929381969065,
            "y1": 2.7972929381969065
           },
           {
            "line": {
             "color": "white",
             "width": 3
            },
            "type": "line",
            "x0": 1.453767774845684,
            "x1": 1.453767774845684,
            "y0": 3.6607508930614516,
            "y1": 3.6607508930614516
           },
           {
            "line": {
             "color": "white",
             "width": 3
            },
            "type": "line",
            "x0": 3.0719865838614573,
            "x1": 3.0719865838614573,
            "y0": 4.234745501580994,
            "y1": 4.234745501580994
           },
           {
            "line": {
             "color": "white",
             "width": 3
            },
            "type": "line",
            "x0": 3.48879726462054,
            "x1": 3.48879726462054,
            "y0": 1.9561046634672852,
            "y1": 1.9561046634672852
           },
           {
            "line": {
             "color": "black",
             "width": 3
            },
            "type": "line",
            "x0": 1.7042831428492793,
            "x1": 1.7042831428492793,
            "y0": 3.3139640340517103,
            "y1": 3.3139640340517103
           },
           {
            "line": {
             "color": "white",
             "width": 3
            },
            "type": "line",
            "x0": 1.7565776142251517,
            "x1": 1.7565776142251517,
            "y0": 2.253852105302265,
            "y1": 2.253852105302265
           }
          ],
          "title": {
           "text": "<b>Percentage using the shortest path: 0%  |  Number of Agents: 10</b>",
           "x": 0.5
          }
         },
         "name": "0"
        },
        {
         "data": [
          {
           "hoverinfo": "name",
           "line": {
            "color": "white"
           },
           "mode": "lines",
           "name": "Exterior",
           "showlegend": false,
           "x": [
            10.1,
            10.1,
            15.0,
            15.0,
            13.6,
            13.6,
            15.0,
            15.0,
            13.6,
            13.6,
            15.0,
            15.0,
            10.1,
            10.1,
            9.9,
            9.9,
            5.1,
            5.1,
            4.9,
            4.9,
            0.0,
            0.0,
            1.5,
            1.5,
            0.0,
            0.0,
            1.5,
            1.5,
            0.0,
            0.0,
            4.9,
            4.9,
            5.1,
            5.1,
            9.9,
            9.9,
            10.1
           ],
           "y": [
            1.5,
            0.0,
            0.0,
            4.9,
            4.9,
            5.1,
            5.1,
            9.9,
            9.9,
            10.1,
            10.1,
            15.0,
            15.0,
            13.6,
            13.6,
            15.0,
            15.0,
            13.6,
            13.6,
            15.0,
            15.0,
            10.1,
            10.1,
            9.9,
            9.9,
            5.1,
            5.1,
            4.9,
            4.9,
            0.0,
            0.0,
            1.5,
            1.5,
            0.0,
            0.0,
            1.5,
            1.5
           ],
           "type": "scatter"
          },
          {
           "hoverinfo": "name",
           "line": {
            "color": "white"
           },
           "mode": "lines",
           "name": "Obstacle",
           "showlegend": false,
           "x": [
            10.1,
            11.5,
            11.5,
            10.1,
            10.1,
            9.9,
            9.9,
            8.6,
            8.6,
            9.9,
            9.9,
            10.1,
            10.1
           ],
           "y": [
            5.1,
            5.1,
            4.9,
            4.9,
            3.6,
            3.6,
            4.9,
            4.9,
            5.1,
            5.1,
            6.5,
            6.5,
            5.1
           ],
           "type": "scatter"
          },
          {
           "hoverinfo": "name",
           "line": {
            "color": "white"
           },
           "mode": "lines",
           "name": "Obstacle",
           "showlegend": false,
           "x": [
            10.1,
            11.5,
            11.5,
            10.1,
            10.1,
            9.9,
            9.9,
            8.6,
            8.6,
            9.9,
            9.9,
            10.1,
            10.1
           ],
           "y": [
            10.1,
            10.1,
            9.9,
            9.9,
            8.6,
            8.6,
            9.9,
            9.9,
            10.1,
            10.1,
            11.5,
            11.5,
            10.1
           ],
           "type": "scatter"
          },
          {
           "hoverinfo": "name",
           "line": {
            "color": "white"
           },
           "mode": "lines",
           "name": "Obstacle",
           "showlegend": false,
           "x": [
            5.1,
            6.4,
            6.4,
            5.1,
            5.1,
            4.9,
            4.9,
            3.6,
            3.6,
            4.9,
            4.9,
            5.1,
            5.1
           ],
           "y": [
            5.1,
            5.1,
            4.9,
            4.9,
            3.6,
            3.6,
            4.9,
            4.9,
            5.1,
            5.1,
            6.5,
            6.5,
            5.1
           ],
           "type": "scatter"
          },
          {
           "hoverinfo": "name",
           "line": {
            "color": "white"
           },
           "mode": "lines",
           "name": "Obstacle",
           "showlegend": false,
           "x": [
            5.1,
            6.4,
            6.4,
            5.1,
            5.1,
            4.9,
            4.9,
            3.6,
            3.6,
            4.9,
            4.9,
            5.1,
            5.1
           ],
           "y": [
            10.1,
            10.1,
            9.9,
            9.9,
            8.6,
            8.6,
            9.9,
            9.9,
            10.1,
            10.1,
            11.5,
            11.5,
            10.1
           ],
           "type": "scatter"
          },
          {
           "fill": "toself",
           "fillcolor": "rgb(0, 0, 0)",
           "hoverinfo": "name",
           "line": {
            "width": 0
           },
           "mode": "lines",
           "name": "Risk Area",
           "showlegend": false,
           "x": [
            1.5,
            1.5,
            3.6,
            3.6,
            4.9,
            4.9,
            5.0,
            5.0,
            4.9,
            4.9,
            0.0,
            0.0,
            1.5
           ],
           "y": [
            4.9,
            5.0,
            5.0,
            4.9,
            4.9,
            3.6,
            3.6,
            1.5,
            1.5,
            0.0,
            0.0,
            4.9,
            4.9
           ],
           "type": "scatter"
          },
          {
           "fill": "toself",
           "fillcolor": "rgb(178, 0, 0)",
           "hoverinfo": "name",
           "line": {
            "width": 0
           },
           "mode": "lines",
           "name": "Risk Area",
           "showlegend": false,
           "x": [
            9.9,
            9.9,
            5.1,
            5.1,
            5.0,
            5.0,
            5.1,
            5.1,
            6.4,
            6.4,
            8.6,
            8.6,
            9.9,
            9.9,
            10.0,
            10.0,
            9.9
           ],
           "y": [
            1.5,
            0.0,
            0.0,
            1.5,
            1.5,
            3.6,
            3.6,
            4.9,
            4.9,
            5.0,
            5.0,
            4.9,
            4.9,
            3.6,
            3.6,
            1.5,
            1.5
           ],
           "type": "scatter"
          },
          {
           "fill": "toself",
           "fillcolor": "rgb(0, 0, 0)",
           "hoverinfo": "name",
           "line": {
            "width": 0
           },
           "mode": "lines",
           "name": "Risk Area",
           "showlegend": false,
           "x": [
            13.6,
            15.0,
            15.0,
            10.1,
            10.1,
            10.0,
            10.0,
            10.1,
            10.1,
            11.5,
            11.5,
            13.6,
            13.6
           ],
           "y": [
            4.9,
            4.9,
            0.0,
            0.0,
            1.5,
            1.5,
            3.6,
            3.6,
            4.9,
            4.9,
            5.0,
            5.0,
            4.9
           ],
           "type": "scatter"
          },
          {
           "fill": "toself",
           "fillcolor": "rgb(153, 0, 0)",
           "hoverinfo": "name",
           "line": {
            "width": 0
           },
           "mode": "lines",
           "name": "Risk Area",
           "showlegend": false,
           "x": [
            13.6,
            15.0,
            15.0,
            13.6,
            13.6,
            11.5,
            11.5,
            10.1,
            10.1,
            10.0,
            10.0,
            10.1,
            10.1,
            11.5,
            11.5,
            13.6,
            13.6
           ],
           "y": [
            9.9,
            9.9,
            5.1,
            5.1,
            5.0,
            5.0,
            5.1,
            5.1,
            6.5,
            6.5,
            8.6,
            8.6,
            9.9,
            9.9,
            10.0,
            10.0,
            9.9
           ],
           "type": "scatter"
          },
          {
           "fill": "toself",
           "fillcolor": "rgb(204, 0, 0)",
           "hoverinfo": "name",
           "line": {
            "width": 0
           },
           "mode": "lines",
           "name": "Risk Area",
           "showlegend": false,
           "x": [
            9.9,
            9.9,
            8.6,
            8.6,
            6.4,
            6.4,
            5.1,
            5.1,
            5.0,
            5.0,
            5.1,
            5.1,
            6.4,
            6.4,
            8.6,
            8.6,
            9.9,
            9.9,
            10.0,
            10.0,
            9.9
           ],
           "y": [
            6.5,
            5.1,
            5.1,
            5.0,
            5.0,
            5.1,
            5.1,
            6.5,
            6.5,
            8.6,
            8.6,
            9.9,
            9.9,
            10.0,
            10.0,
            9.9,
            9.9,
            8.6,
            8.6,
            6.5,
            6.5
           ],
           "type": "scatter"
          },
          {
           "fill": "toself",
           "fillcolor": "rgb(25, 0, 0)",
           "hoverinfo": "name",
           "line": {
            "width": 0
           },
           "mode": "lines",
           "name": "Risk Area",
           "showlegend": false,
           "x": [
            4.9,
            4.9,
            3.6,
            3.6,
            1.5,
            1.5,
            0.0,
            0.0,
            1.5,
            1.5,
            3.6,
            3.6,
            4.9,
            4.9,
            5.0,
            5.0,
            4.9
           ],
           "y": [
            6.5,
            5.1,
            5.1,
            5.0,
            5.0,
            5.1,
            5.1,
            9.9,
            9.9,
            10.0,
            10.0,
            9.9,
            9.9,
            8.6,
            8.6,
            6.5,
            6.5
           ],
           "type": "scatter"
          },
          {
           "fill": "toself",
           "fillcolor": "rgb(0, 0, 0)",
           "hoverinfo": "name",
           "line": {
            "width": 0
           },
           "mode": "lines",
           "name": "Risk Area",
           "showlegend": false,
           "x": [
            1.5,
            0.0,
            0.0,
            4.9,
            4.9,
            5.0,
            5.0,
            4.9,
            4.9,
            3.6,
            3.6,
            1.5,
            1.5
           ],
           "y": [
            10.1,
            10.1,
            15.0,
            15.0,
            13.6,
            13.6,
            11.5,
            11.5,
            10.1,
            10.1,
            10.0,
            10.0,
            10.1
           ],
           "type": "scatter"
          },
          {
           "fill": "toself",
           "fillcolor": "rgb(0, 0, 0)",
           "hoverinfo": "name",
           "line": {
            "width": 0
           },
           "mode": "lines",
           "name": "Risk Area",
           "showlegend": false,
           "x": [
            6.4,
            5.1,
            5.1,
            5.0,
            5.0,
            5.1,
            5.1,
            9.9,
            9.9,
            10.0,
            10.0,
            9.9,
            9.9,
            8.6,
            8.6,
            6.4,
            6.4
           ],
           "y": [
            10.1,
            10.1,
            11.5,
            11.5,
            13.6,
            13.6,
            15.0,
            15.0,
            13.6,
            13.6,
            11.5,
            11.5,
            10.1,
            10.1,
            10.0,
            10.0,
            10.1
           ],
           "type": "scatter"
          },
          {
           "fill": "toself",
           "fillcolor": "rgb(0, 0, 0)",
           "hoverinfo": "name",
           "line": {
            "width": 0
           },
           "mode": "lines",
           "name": "Risk Area",
           "showlegend": false,
           "x": [
            10.1,
            10.1,
            15.0,
            15.0,
            13.6,
            13.6,
            11.5,
            11.5,
            10.1,
            10.1,
            10.0,
            10.0,
            10.1
           ],
           "y": [
            13.6,
            15.0,
            15.0,
            10.1,
            10.1,
            10.0,
            10.0,
            10.1,
            10.1,
            11.5,
            11.5,
            13.6,
            13.6
           ],
           "type": "scatter"
          },
          {
           "hoverinfo": "text",
           "marker": {
            "opacity": 1,
            "size": 1
           },
           "mode": "markers",
           "showlegend": false,
           "text": [
            "ID: 171, Pos(3.62,4.57)"
           ],
           "x": [
            3.624663867004494
           ],
           "y": [
            4.572942041072394
           ],
           "type": "scatter"
          },
          {
           "hoverinfo": "text",
           "marker": {
            "opacity": 1,
            "size": 1
           },
           "mode": "markers",
           "showlegend": false,
           "text": [
            "ID: 172, Pos(1.37,2.85)"
           ],
           "x": [
            1.3726374518931295
           ],
           "y": [
            2.8458001230525047
           ],
           "type": "scatter"
          },
          {
           "hoverinfo": "text",
           "marker": {
            "opacity": 1,
            "size": 1
           },
           "mode": "markers",
           "showlegend": false,
           "text": [
            "ID: 173, Pos(2.15,1.87)"
           ],
           "x": [
            2.1468923029348774
           ],
           "y": [
            1.868570495335488
           ],
           "type": "scatter"
          },
          {
           "hoverinfo": "text",
           "marker": {
            "opacity": 1,
            "size": 1
           },
           "mode": "markers",
           "showlegend": false,
           "text": [
            "ID: 174, Pos(2.57,4.71)"
           ],
           "x": [
            2.5685625821921643
           ],
           "y": [
            4.709391544762826
           ],
           "type": "scatter"
          },
          {
           "hoverinfo": "text",
           "marker": {
            "opacity": 1,
            "size": 1
           },
           "mode": "markers",
           "showlegend": false,
           "text": [
            "ID: 175, Pos(2.14,3.19)"
           ],
           "x": [
            2.135724068214924
           ],
           "y": [
            3.1861311292691084
           ],
           "type": "scatter"
          },
          {
           "hoverinfo": "text",
           "marker": {
            "opacity": 1,
            "size": 1
           },
           "mode": "markers",
           "showlegend": false,
           "text": [
            "ID: 176, Pos(1.96,5.04)"
           ],
           "x": [
            1.960579232601007
           ],
           "y": [
            5.040717503395859
           ],
           "type": "scatter"
          },
          {
           "hoverinfo": "text",
           "marker": {
            "opacity": 1,
            "size": 1
           },
           "mode": "markers",
           "showlegend": false,
           "text": [
            "ID: 177, Pos(3.03,5.28)"
           ],
           "x": [
            3.034440411887453
           ],
           "y": [
            5.278552531984465
           ],
           "type": "scatter"
          },
          {
           "hoverinfo": "text",
           "marker": {
            "opacity": 1,
            "size": 1
           },
           "mode": "markers",
           "showlegend": false,
           "text": [
            "ID: 178, Pos(3.59,3.17)"
           ],
           "x": [
            3.5916390920039114
           ],
           "y": [
            3.1733961277269316
           ],
           "type": "scatter"
          },
          {
           "hoverinfo": "text",
           "marker": {
            "opacity": 1,
            "size": 1
           },
           "mode": "markers",
           "showlegend": false,
           "text": [
            "ID: 179, Pos(1.89,3.98)"
           ],
           "x": [
            1.887176775050277
           ],
           "y": [
            3.9845793231642537
           ],
           "type": "scatter"
          },
          {
           "hoverinfo": "text",
           "marker": {
            "opacity": 1,
            "size": 1
           },
           "mode": "markers",
           "showlegend": false,
           "text": [
            "ID: 180, Pos(2.19,2.50)"
           ],
           "x": [
            2.1870682441532456
           ],
           "y": [
            2.495098850517011
           ],
           "type": "scatter"
          }
         ],
         "layout": {
          "shapes": [
           {
            "fillcolor": "rgba(0, 156, 255, 0.5)",
            "line": {
             "color": "rgba(0, 156, 255, 0.5)"
            },
            "type": "circle",
            "x0": 3.4246638670044938,
            "x1": 3.824663867004494,
            "xref": "x",
            "y0": 4.372942041072394,
            "y1": 4.772942041072394,
            "yref": "y"
           },
           {
            "fillcolor": "rgba(0, 0, 128, 0.5)",
            "line": {
             "color": "rgba(0, 0, 128, 0.5)"
            },
            "type": "circle",
            "x0": 1.1726374518931295,
            "x1": 1.5726374518931294,
            "xref": "x",
            "y0": 2.6458001230525046,
            "y1": 3.045800123052505,
            "yref": "y"
           },
           {
            "fillcolor": "rgba(255, 104, 0, 0.5)",
            "line": {
             "color": "rgba(255, 104, 0, 0.5)"
            },
            "type": "circle",
            "x0": 1.9468923029348775,
            "x1": 2.3468923029348776,
            "xref": "x",
            "y0": 1.668570495335488,
            "y1": 2.068570495335488,
            "yref": "y"
           },
           {
            "fillcolor": "rgba(0, 0, 128, 0.5)",
            "line": {
             "color": "rgba(0, 0, 128, 0.5)"
            },
            "type": "circle",
            "x0": 2.368562582192164,
            "x1": 2.7685625821921644,
            "xref": "x",
            "y0": 4.509391544762826,
            "y1": 4.909391544762826,
            "yref": "y"
           },
           {
            "fillcolor": "rgba(131, 255, 115, 0.5)",
            "line": {
             "color": "rgba(131, 255, 115, 0.5)"
            },
            "type": "circle",
            "x0": 1.9357240682149242,
            "x1": 2.3357240682149243,
            "xref": "x",
            "y0": 2.986131129269108,
            "y1": 3.3861311292691085,
            "yref": "y"
           },
           {
            "fillcolor": "rgba(0, 0, 128, 0.5)",
            "line": {
             "color": "rgba(0, 0, 128, 0.5)"
            },
            "type": "circle",
            "x0": 1.760579232601007,
            "x1": 2.160579232601007,
            "xref": "x",
            "y0": 4.840717503395859,
            "y1": 5.240717503395859,
            "yref": "y"
           },
           {
            "fillcolor": "rgba(0, 0, 128, 0.5)",
            "line": {
             "color": "rgba(0, 0, 128, 0.5)"
            },
            "type": "circle",
            "x0": 2.834440411887453,
            "x1": 3.2344404118874532,
            "xref": "x",
            "y0": 5.078552531984465,
            "y1": 5.478552531984465,
            "yref": "y"
           },
           {
            "fillcolor": "rgba(0, 0, 128, 0.5)",
            "line": {
             "color": "rgba(0, 0, 128, 0.5)"
            },
            "type": "circle",
            "x0": 3.3916390920039112,
            "x1": 3.7916390920039116,
            "xref": "x",
            "y0": 2.9733961277269314,
            "y1": 3.3733961277269318,
            "yref": "y"
           },
           {
            "fillcolor": "rgba(0, 72, 255, 0.5)",
            "line": {
             "color": "rgba(0, 72, 255, 0.5)"
            },
            "type": "circle",
            "x0": 1.687176775050277,
            "x1": 2.087176775050277,
            "xref": "x",
            "y0": 3.7845793231642535,
            "y1": 4.184579323164254,
            "yref": "y"
           },
           {
            "fillcolor": "rgba(255, 189, 0, 0.5)",
            "line": {
             "color": "rgba(255, 189, 0, 0.5)"
            },
            "type": "circle",
            "x0": 1.9870682441532457,
            "x1": 2.387068244153246,
            "xref": "x",
            "y0": 2.295098850517011,
            "y1": 2.6950988505170113,
            "yref": "y"
           },
           {
            "line": {
             "color": "white",
             "width": 3
            },
            "type": "line",
            "x0": 3.624663867004494,
            "x1": 3.424974445443303,
            "y0": 4.572942041072394,
            "y1": 4.584083626083376
           },
           {
            "line": {
             "color": "white",
             "width": 3
            },
            "type": "line",
            "x0": 1.3726374518931295,
            "x1": 1.4105350643284174,
            "y0": 2.8458001230525047,
            "y1": 3.0421767280025462
           },
           {
            "line": {
             "color": "black",
             "width": 3
            },
            "type": "line",
            "x0": 2.1468923029348774,
            "x1": 2.1594252159539273,
            "y0": 1.868570495335488,
            "y1": 2.068177424301536
           },
           {
            "line": {
             "color": "white",
             "width": 3
            },
            "type": "line",
            "x0": 2.5685625821921643,
            "x1": 2.578214239732299,
            "y0": 4.709391544762826,
            "y1": 4.909158522781537
           },
           {
            "line": {
             "color": "black",
             "width": 3
            },
            "type": "line",
            "x0": 2.135724068214924,
            "x1": 2.1558988958439422,
            "y0": 3.1861311292691084,
            "y1": 3.3851109682733136
           },
           {
            "line": {
             "color": "white",
             "width": 3
            },
            "type": "line",
            "x0": 1.960579232601007,
            "x1": 1.9910900807831045,
            "y0": 5.040717503395859,
            "y1": 5.238376523284173
           },
           {
            "line": {
             "color": "white",
             "width": 3
            },
            "type": "line",
            "x0": 3.034440411887453,
            "x1": 2.9992777218855466,
            "y0": 5.278552531984465,
            "y1": 5.475437232334263
           },
           {
            "line": {
             "color": "white",
             "width": 3
            },
            "type": "line",
            "x0": 3.5916390920039114,
            "x1": 3.542722206616879,
            "y0": 3.1733961277269316,
            "y1": 3.3673217276977243
           },
           {
            "line": {
             "color": "white",
             "width": 3
            },
            "type": "line",
            "x0": 1.887176775050277,
            "x1": 1.91789447937893,
            "y0": 3.9845793231642537,
            "y1": 4.182206301688891
           },
           {
            "line": {
             "color": "black",
             "width": 3
            },
            "type": "line",
            "x0": 2.1870682441532456,
            "x1": 2.2064155038077296,
            "y0": 2.495098850517011,
            "y1": 2.694160859810251
           }
          ],
          "title": {
           "text": "<b>Percentage using the shortest path: 0%  |  Number of Agents: 10</b>",
           "x": 0.5
          }
         },
         "name": "50"
        },
        {
         "data": [
          {
           "hoverinfo": "name",
           "line": {
            "color": "white"
           },
           "mode": "lines",
           "name": "Exterior",
           "showlegend": false,
           "x": [
            10.1,
            10.1,
            15.0,
            15.0,
            13.6,
            13.6,
            15.0,
            15.0,
            13.6,
            13.6,
            15.0,
            15.0,
            10.1,
            10.1,
            9.9,
            9.9,
            5.1,
            5.1,
            4.9,
            4.9,
            0.0,
            0.0,
            1.5,
            1.5,
            0.0,
            0.0,
            1.5,
            1.5,
            0.0,
            0.0,
            4.9,
            4.9,
            5.1,
            5.1,
            9.9,
            9.9,
            10.1
           ],
           "y": [
            1.5,
            0.0,
            0.0,
            4.9,
            4.9,
            5.1,
            5.1,
            9.9,
            9.9,
            10.1,
            10.1,
            15.0,
            15.0,
            13.6,
            13.6,
            15.0,
            15.0,
            13.6,
            13.6,
            15.0,
            15.0,
            10.1,
            10.1,
            9.9,
            9.9,
            5.1,
            5.1,
            4.9,
            4.9,
            0.0,
            0.0,
            1.5,
            1.5,
            0.0,
            0.0,
            1.5,
            1.5
           ],
           "type": "scatter"
          },
          {
           "hoverinfo": "name",
           "line": {
            "color": "white"
           },
           "mode": "lines",
           "name": "Obstacle",
           "showlegend": false,
           "x": [
            10.1,
            11.5,
            11.5,
            10.1,
            10.1,
            9.9,
            9.9,
            8.6,
            8.6,
            9.9,
            9.9,
            10.1,
            10.1
           ],
           "y": [
            5.1,
            5.1,
            4.9,
            4.9,
            3.6,
            3.6,
            4.9,
            4.9,
            5.1,
            5.1,
            6.5,
            6.5,
            5.1
           ],
           "type": "scatter"
          },
          {
           "hoverinfo": "name",
           "line": {
            "color": "white"
           },
           "mode": "lines",
           "name": "Obstacle",
           "showlegend": false,
           "x": [
            10.1,
            11.5,
            11.5,
            10.1,
            10.1,
            9.9,
            9.9,
            8.6,
            8.6,
            9.9,
            9.9,
            10.1,
            10.1
           ],
           "y": [
            10.1,
            10.1,
            9.9,
            9.9,
            8.6,
            8.6,
            9.9,
            9.9,
            10.1,
            10.1,
            11.5,
            11.5,
            10.1
           ],
           "type": "scatter"
          },
          {
           "hoverinfo": "name",
           "line": {
            "color": "white"
           },
           "mode": "lines",
           "name": "Obstacle",
           "showlegend": false,
           "x": [
            5.1,
            6.4,
            6.4,
            5.1,
            5.1,
            4.9,
            4.9,
            3.6,
            3.6,
            4.9,
            4.9,
            5.1,
            5.1
           ],
           "y": [
            5.1,
            5.1,
            4.9,
            4.9,
            3.6,
            3.6,
            4.9,
            4.9,
            5.1,
            5.1,
            6.5,
            6.5,
            5.1
           ],
           "type": "scatter"
          },
          {
           "hoverinfo": "name",
           "line": {
            "color": "white"
           },
           "mode": "lines",
           "name": "Obstacle",
           "showlegend": false,
           "x": [
            5.1,
            6.4,
            6.4,
            5.1,
            5.1,
            4.9,
            4.9,
            3.6,
            3.6,
            4.9,
            4.9,
            5.1,
            5.1
           ],
           "y": [
            10.1,
            10.1,
            9.9,
            9.9,
            8.6,
            8.6,
            9.9,
            9.9,
            10.1,
            10.1,
            11.5,
            11.5,
            10.1
           ],
           "type": "scatter"
          },
          {
           "fill": "toself",
           "fillcolor": "rgb(0, 0, 0)",
           "hoverinfo": "name",
           "line": {
            "width": 0
           },
           "mode": "lines",
           "name": "Risk Area",
           "showlegend": false,
           "x": [
            1.5,
            1.5,
            3.6,
            3.6,
            4.9,
            4.9,
            5.0,
            5.0,
            4.9,
            4.9,
            0.0,
            0.0,
            1.5
           ],
           "y": [
            4.9,
            5.0,
            5.0,
            4.9,
            4.9,
            3.6,
            3.6,
            1.5,
            1.5,
            0.0,
            0.0,
            4.9,
            4.9
           ],
           "type": "scatter"
          },
          {
           "fill": "toself",
           "fillcolor": "rgb(178, 0, 0)",
           "hoverinfo": "name",
           "line": {
            "width": 0
           },
           "mode": "lines",
           "name": "Risk Area",
           "showlegend": false,
           "x": [
            9.9,
            9.9,
            5.1,
            5.1,
            5.0,
            5.0,
            5.1,
            5.1,
            6.4,
            6.4,
            8.6,
            8.6,
            9.9,
            9.9,
            10.0,
            10.0,
            9.9
           ],
           "y": [
            1.5,
            0.0,
            0.0,
            1.5,
            1.5,
            3.6,
            3.6,
            4.9,
            4.9,
            5.0,
            5.0,
            4.9,
            4.9,
            3.6,
            3.6,
            1.5,
            1.5
           ],
           "type": "scatter"
          },
          {
           "fill": "toself",
           "fillcolor": "rgb(0, 0, 0)",
           "hoverinfo": "name",
           "line": {
            "width": 0
           },
           "mode": "lines",
           "name": "Risk Area",
           "showlegend": false,
           "x": [
            13.6,
            15.0,
            15.0,
            10.1,
            10.1,
            10.0,
            10.0,
            10.1,
            10.1,
            11.5,
            11.5,
            13.6,
            13.6
           ],
           "y": [
            4.9,
            4.9,
            0.0,
            0.0,
            1.5,
            1.5,
            3.6,
            3.6,
            4.9,
            4.9,
            5.0,
            5.0,
            4.9
           ],
           "type": "scatter"
          },
          {
           "fill": "toself",
           "fillcolor": "rgb(153, 0, 0)",
           "hoverinfo": "name",
           "line": {
            "width": 0
           },
           "mode": "lines",
           "name": "Risk Area",
           "showlegend": false,
           "x": [
            13.6,
            15.0,
            15.0,
            13.6,
            13.6,
            11.5,
            11.5,
            10.1,
            10.1,
            10.0,
            10.0,
            10.1,
            10.1,
            11.5,
            11.5,
            13.6,
            13.6
           ],
           "y": [
            9.9,
            9.9,
            5.1,
            5.1,
            5.0,
            5.0,
            5.1,
            5.1,
            6.5,
            6.5,
            8.6,
            8.6,
            9.9,
            9.9,
            10.0,
            10.0,
            9.9
           ],
           "type": "scatter"
          },
          {
           "fill": "toself",
           "fillcolor": "rgb(204, 0, 0)",
           "hoverinfo": "name",
           "line": {
            "width": 0
           },
           "mode": "lines",
           "name": "Risk Area",
           "showlegend": false,
           "x": [
            9.9,
            9.9,
            8.6,
            8.6,
            6.4,
            6.4,
            5.1,
            5.1,
            5.0,
            5.0,
            5.1,
            5.1,
            6.4,
            6.4,
            8.6,
            8.6,
            9.9,
            9.9,
            10.0,
            10.0,
            9.9
           ],
           "y": [
            6.5,
            5.1,
            5.1,
            5.0,
            5.0,
            5.1,
            5.1,
            6.5,
            6.5,
            8.6,
            8.6,
            9.9,
            9.9,
            10.0,
            10.0,
            9.9,
            9.9,
            8.6,
            8.6,
            6.5,
            6.5
           ],
           "type": "scatter"
          },
          {
           "fill": "toself",
           "fillcolor": "rgb(25, 0, 0)",
           "hoverinfo": "name",
           "line": {
            "width": 0
           },
           "mode": "lines",
           "name": "Risk Area",
           "showlegend": false,
           "x": [
            4.9,
            4.9,
            3.6,
            3.6,
            1.5,
            1.5,
            0.0,
            0.0,
            1.5,
            1.5,
            3.6,
            3.6,
            4.9,
            4.9,
            5.0,
            5.0,
            4.9
           ],
           "y": [
            6.5,
            5.1,
            5.1,
            5.0,
            5.0,
            5.1,
            5.1,
            9.9,
            9.9,
            10.0,
            10.0,
            9.9,
            9.9,
            8.6,
            8.6,
            6.5,
            6.5
           ],
           "type": "scatter"
          },
          {
           "fill": "toself",
           "fillcolor": "rgb(0, 0, 0)",
           "hoverinfo": "name",
           "line": {
            "width": 0
           },
           "mode": "lines",
           "name": "Risk Area",
           "showlegend": false,
           "x": [
            1.5,
            0.0,
            0.0,
            4.9,
            4.9,
            5.0,
            5.0,
            4.9,
            4.9,
            3.6,
            3.6,
            1.5,
            1.5
           ],
           "y": [
            10.1,
            10.1,
            15.0,
            15.0,
            13.6,
            13.6,
            11.5,
            11.5,
            10.1,
            10.1,
            10.0,
            10.0,
            10.1
           ],
           "type": "scatter"
          },
          {
           "fill": "toself",
           "fillcolor": "rgb(0, 0, 0)",
           "hoverinfo": "name",
           "line": {
            "width": 0
           },
           "mode": "lines",
           "name": "Risk Area",
           "showlegend": false,
           "x": [
            6.4,
            5.1,
            5.1,
            5.0,
            5.0,
            5.1,
            5.1,
            9.9,
            9.9,
            10.0,
            10.0,
            9.9,
            9.9,
            8.6,
            8.6,
            6.4,
            6.4
           ],
           "y": [
            10.1,
            10.1,
            11.5,
            11.5,
            13.6,
            13.6,
            15.0,
            15.0,
            13.6,
            13.6,
            11.5,
            11.5,
            10.1,
            10.1,
            10.0,
            10.0,
            10.1
           ],
           "type": "scatter"
          },
          {
           "fill": "toself",
           "fillcolor": "rgb(0, 0, 0)",
           "hoverinfo": "name",
           "line": {
            "width": 0
           },
           "mode": "lines",
           "name": "Risk Area",
           "showlegend": false,
           "x": [
            10.1,
            10.1,
            15.0,
            15.0,
            13.6,
            13.6,
            11.5,
            11.5,
            10.1,
            10.1,
            10.0,
            10.0,
            10.1
           ],
           "y": [
            13.6,
            15.0,
            15.0,
            10.1,
            10.1,
            10.0,
            10.0,
            10.1,
            10.1,
            11.5,
            11.5,
            13.6,
            13.6
           ],
           "type": "scatter"
          },
          {
           "hoverinfo": "text",
           "marker": {
            "opacity": 1,
            "size": 1
           },
           "mode": "markers",
           "showlegend": false,
           "text": [
            "ID: 171, Pos(3.09,5.19)"
           ],
           "x": [
            3.0930498955625776
           ],
           "y": [
            5.1944170742963705
           ],
           "type": "scatter"
          },
          {
           "hoverinfo": "text",
           "marker": {
            "opacity": 1,
            "size": 1
           },
           "mode": "markers",
           "showlegend": false,
           "text": [
            "ID: 172, Pos(1.61,4.37)"
           ],
           "x": [
            1.6132424839892938
           ],
           "y": [
            4.371182705373676
           ],
           "type": "scatter"
          },
          {
           "hoverinfo": "text",
           "marker": {
            "opacity": 1,
            "size": 1
           },
           "mode": "markers",
           "showlegend": false,
           "text": [
            "ID: 173, Pos(2.19,2.52)"
           ],
           "x": [
            2.187512791784387
           ],
           "y": [
            2.524341332818206
           ],
           "type": "scatter"
          },
          {
           "hoverinfo": "text",
           "marker": {
            "opacity": 1,
            "size": 1
           },
           "mode": "markers",
           "showlegend": false,
           "text": [
            "ID: 174, Pos(2.75,5.95)"
           ],
           "x": [
            2.7511061464809003
           ],
           "y": [
            5.950517914265674
           ],
           "type": "scatter"
          },
          {
           "hoverinfo": "text",
           "marker": {
            "opacity": 1,
            "size": 1
           },
           "mode": "markers",
           "showlegend": false,
           "text": [
            "ID: 175, Pos(2.32,4.34)"
           ],
           "x": [
            2.324197644594571
           ],
           "y": [
            4.342374545810683
           ],
           "type": "scatter"
          },
          {
           "hoverinfo": "text",
           "marker": {
            "opacity": 1,
            "size": 1
           },
           "mode": "markers",
           "showlegend": false,
           "text": [
            "ID: 176, Pos(2.51,6.41)"
           ],
           "x": [
            2.505724223363731
           ],
           "y": [
            6.408981289038088
           ],
           "type": "scatter"
          },
          {
           "hoverinfo": "text",
           "marker": {
            "opacity": 1,
            "size": 1
           },
           "mode": "markers",
           "showlegend": false,
           "text": [
            "ID: 177, Pos(3.65,6.30)"
           ],
           "x": [
            3.6506442897543576
           ],
           "y": [
            6.304863083789267
           ],
           "type": "scatter"
          },
          {
           "hoverinfo": "text",
           "marker": {
            "opacity": 1,
            "size": 1
           },
           "mode": "markers",
           "showlegend": false,
           "text": [
            "ID: 178, Pos(3.30,4.35)"
           ],
           "x": [
            3.296641779912512
           ],
           "y": [
            4.347902513523779
           ],
           "type": "scatter"
          },
          {
           "hoverinfo": "text",
           "marker": {
            "opacity": 1,
            "size": 1
           },
           "mode": "markers",
           "showlegend": false,
           "text": [
            "ID: 179, Pos(2.10,5.39)"
           ],
           "x": [
            2.1048525664578177
           ],
           "y": [
            5.38585597160029
           ],
           "type": "scatter"
          },
          {
           "hoverinfo": "text",
           "marker": {
            "opacity": 1,
            "size": 1
           },
           "mode": "markers",
           "showlegend": false,
           "text": [
            "ID: 180, Pos(2.25,3.37)"
           ],
           "x": [
            2.248019098995477
           ],
           "y": [
            3.3728362929137616
           ],
           "type": "scatter"
          }
         ],
         "layout": {
          "shapes": [
           {
            "fillcolor": "rgba(141, 255, 106, 0.5)",
            "line": {
             "color": "rgba(141, 255, 106, 0.5)"
            },
            "type": "circle",
            "x0": 2.8930498955625774,
            "x1": 3.2930498955625778,
            "xref": "x",
            "y0": 4.99441707429637,
            "y1": 5.394417074296371,
            "yref": "y"
           },
           {
            "fillcolor": "rgba(0, 0, 241, 0.5)",
            "line": {
             "color": "rgba(0, 0, 241, 0.5)"
            },
            "type": "circle",
            "x0": 1.4132424839892939,
            "x1": 1.8132424839892938,
            "xref": "x",
            "y0": 4.171182705373676,
            "y1": 4.571182705373676,
            "yref": "y"
           },
           {
            "fillcolor": "rgba(112, 255, 135, 0.5)",
            "line": {
             "color": "rgba(112, 255, 135, 0.5)"
            },
            "type": "circle",
            "x0": 1.987512791784387,
            "x1": 2.387512791784387,
            "xref": "x",
            "y0": 2.324341332818206,
            "y1": 2.7243413328182062,
            "yref": "y"
           },
           {
            "fillcolor": "rgba(0, 0, 255, 0.5)",
            "line": {
             "color": "rgba(0, 0, 255, 0.5)"
            },
            "type": "circle",
            "x0": 2.5511061464809,
            "x1": 2.9511061464809005,
            "xref": "x",
            "y0": 5.750517914265674,
            "y1": 6.1505179142656745,
            "yref": "y"
           },
           {
            "fillcolor": "rgba(0, 61, 255, 0.5)",
            "line": {
             "color": "rgba(0, 61, 255, 0.5)"
            },
            "type": "circle",
            "x0": 2.1241976445945707,
            "x1": 2.524197644594571,
            "xref": "x",
            "y0": 4.142374545810683,
            "y1": 4.5423745458106835,
            "yref": "y"
           },
           {
            "fillcolor": "rgba(0, 0, 128, 0.5)",
            "line": {
             "color": "rgba(0, 0, 128, 0.5)"
            },
            "type": "circle",
            "x0": 2.3057242233637307,
            "x1": 2.705724223363731,
            "xref": "x",
            "y0": 6.208981289038088,
            "y1": 6.608981289038089,
            "yref": "y"
           },
           {
            "fillcolor": "rgba(0, 0, 128, 0.5)",
            "line": {
             "color": "rgba(0, 0, 128, 0.5)"
            },
            "type": "circle",
            "x0": 3.4506442897543574,
            "x1": 3.850644289754358,
            "xref": "x",
            "y0": 6.104863083789267,
            "y1": 6.504863083789267,
            "yref": "y"
           },
           {
            "fillcolor": "rgba(90, 255, 157, 0.5)",
            "line": {
             "color": "rgba(90, 255, 157, 0.5)"
            },
            "type": "circle",
            "x0": 3.096641779912512,
            "x1": 3.4966417799125122,
            "xref": "x",
            "y0": 4.147902513523779,
            "y1": 4.54790251352378,
            "yref": "y"
           },
           {
            "fillcolor": "rgba(0, 16, 255, 0.5)",
            "line": {
             "color": "rgba(0, 16, 255, 0.5)"
            },
            "type": "circle",
            "x0": 1.9048525664578178,
            "x1": 2.304852566457818,
            "xref": "x",
            "y0": 5.18585597160029,
            "y1": 5.5858559716002905,
            "yref": "y"
           },
           {
            "fillcolor": "rgba(0, 196, 255, 0.5)",
            "line": {
             "color": "rgba(0, 196, 255, 0.5)"
            },
            "type": "circle",
            "x0": 2.0480190989954767,
            "x1": 2.448019098995477,
            "xref": "x",
            "y0": 3.1728362929137615,
            "y1": 3.572836292913762,
            "yref": "y"
           },
           {
            "line": {
             "color": "black",
             "width": 3
            },
            "type": "line",
            "x0": 3.0930498955625776,
            "x1": 3.042090798624277,
            "y0": 5.1944170742963705,
            "y1": 5.387816067156295
           },
           {
            "line": {
             "color": "white",
             "width": 3
            },
            "type": "line",
            "x0": 1.6132424839892938,
            "x1": 1.645817145001457,
            "y0": 4.371182705373676,
            "y1": 4.568512103740829
           },
           {
            "line": {
             "color": "black",
             "width": 3
            },
            "type": "line",
            "x0": 2.187512791784387,
            "x1": 2.199998032971993,
            "y0": 2.524341332818206,
            "y1": 2.72395124928652
           },
           {
            "line": {
             "color": "white",
             "width": 3
            },
            "type": "line",
            "x0": 2.7511061464809003,
            "x1": 2.8544024340767034,
            "y0": 5.950517914265674,
            "y1": 6.121777591273793
           },
           {
            "line": {
             "color": "white",
             "width": 3
            },
            "type": "line",
            "x0": 2.324197644594571,
            "x1": 2.3564454225569156,
            "y0": 4.342374545810683,
            "y1": 4.5397576271943
           },
           {
            "line": {
             "color": "white",
             "width": 3
            },
            "type": "line",
            "x0": 2.505724223363731,
            "x1": 2.6171914912857175,
            "y0": 6.408981289038088,
            "y1": 6.575038653168704
           },
           {
            "line": {
             "color": "white",
             "width": 3
            },
            "type": "line",
            "x0": 3.6506442897543576,
            "x1": 3.8413026364150187,
            "y0": 6.304863083789267,
            "y1": 6.365273305181208
           },
           {
            "line": {
             "color": "black",
             "width": 3
            },
            "type": "line",
            "x0": 3.296641779912512,
            "x1": 3.2489750084285296,
            "y0": 4.347902513523779,
            "y1": 4.542139170456228
           },
           {
            "line": {
             "color": "white",
             "width": 3
            },
            "type": "line",
            "x0": 2.1048525664578177,
            "x1": 2.13692137924613,
            "y0": 5.38585597160029,
            "y1": 5.583268208420474
           },
           {
            "line": {
             "color": "black",
             "width": 3
            },
            "type": "line",
            "x0": 2.248019098995477,
            "x1": 2.260346038946906,
            "y0": 3.3728362929137616,
            "y1": 3.57245604782653
           }
          ],
          "title": {
           "text": "<b>Percentage using the shortest path: 0%  |  Number of Agents: 10</b>",
           "x": 0.5
          }
         },
         "name": "100"
        },
        {
         "data": [
          {
           "hoverinfo": "name",
           "line": {
            "color": "white"
           },
           "mode": "lines",
           "name": "Exterior",
           "showlegend": false,
           "x": [
            10.1,
            10.1,
            15.0,
            15.0,
            13.6,
            13.6,
            15.0,
            15.0,
            13.6,
            13.6,
            15.0,
            15.0,
            10.1,
            10.1,
            9.9,
            9.9,
            5.1,
            5.1,
            4.9,
            4.9,
            0.0,
            0.0,
            1.5,
            1.5,
            0.0,
            0.0,
            1.5,
            1.5,
            0.0,
            0.0,
            4.9,
            4.9,
            5.1,
            5.1,
            9.9,
            9.9,
            10.1
           ],
           "y": [
            1.5,
            0.0,
            0.0,
            4.9,
            4.9,
            5.1,
            5.1,
            9.9,
            9.9,
            10.1,
            10.1,
            15.0,
            15.0,
            13.6,
            13.6,
            15.0,
            15.0,
            13.6,
            13.6,
            15.0,
            15.0,
            10.1,
            10.1,
            9.9,
            9.9,
            5.1,
            5.1,
            4.9,
            4.9,
            0.0,
            0.0,
            1.5,
            1.5,
            0.0,
            0.0,
            1.5,
            1.5
           ],
           "type": "scatter"
          },
          {
           "hoverinfo": "name",
           "line": {
            "color": "white"
           },
           "mode": "lines",
           "name": "Obstacle",
           "showlegend": false,
           "x": [
            10.1,
            11.5,
            11.5,
            10.1,
            10.1,
            9.9,
            9.9,
            8.6,
            8.6,
            9.9,
            9.9,
            10.1,
            10.1
           ],
           "y": [
            5.1,
            5.1,
            4.9,
            4.9,
            3.6,
            3.6,
            4.9,
            4.9,
            5.1,
            5.1,
            6.5,
            6.5,
            5.1
           ],
           "type": "scatter"
          },
          {
           "hoverinfo": "name",
           "line": {
            "color": "white"
           },
           "mode": "lines",
           "name": "Obstacle",
           "showlegend": false,
           "x": [
            10.1,
            11.5,
            11.5,
            10.1,
            10.1,
            9.9,
            9.9,
            8.6,
            8.6,
            9.9,
            9.9,
            10.1,
            10.1
           ],
           "y": [
            10.1,
            10.1,
            9.9,
            9.9,
            8.6,
            8.6,
            9.9,
            9.9,
            10.1,
            10.1,
            11.5,
            11.5,
            10.1
           ],
           "type": "scatter"
          },
          {
           "hoverinfo": "name",
           "line": {
            "color": "white"
           },
           "mode": "lines",
           "name": "Obstacle",
           "showlegend": false,
           "x": [
            5.1,
            6.4,
            6.4,
            5.1,
            5.1,
            4.9,
            4.9,
            3.6,
            3.6,
            4.9,
            4.9,
            5.1,
            5.1
           ],
           "y": [
            5.1,
            5.1,
            4.9,
            4.9,
            3.6,
            3.6,
            4.9,
            4.9,
            5.1,
            5.1,
            6.5,
            6.5,
            5.1
           ],
           "type": "scatter"
          },
          {
           "hoverinfo": "name",
           "line": {
            "color": "white"
           },
           "mode": "lines",
           "name": "Obstacle",
           "showlegend": false,
           "x": [
            5.1,
            6.4,
            6.4,
            5.1,
            5.1,
            4.9,
            4.9,
            3.6,
            3.6,
            4.9,
            4.9,
            5.1,
            5.1
           ],
           "y": [
            10.1,
            10.1,
            9.9,
            9.9,
            8.6,
            8.6,
            9.9,
            9.9,
            10.1,
            10.1,
            11.5,
            11.5,
            10.1
           ],
           "type": "scatter"
          },
          {
           "fill": "toself",
           "fillcolor": "rgb(0, 0, 0)",
           "hoverinfo": "name",
           "line": {
            "width": 0
           },
           "mode": "lines",
           "name": "Risk Area",
           "showlegend": false,
           "x": [
            1.5,
            1.5,
            3.6,
            3.6,
            4.9,
            4.9,
            5.0,
            5.0,
            4.9,
            4.9,
            0.0,
            0.0,
            1.5
           ],
           "y": [
            4.9,
            5.0,
            5.0,
            4.9,
            4.9,
            3.6,
            3.6,
            1.5,
            1.5,
            0.0,
            0.0,
            4.9,
            4.9
           ],
           "type": "scatter"
          },
          {
           "fill": "toself",
           "fillcolor": "rgb(178, 0, 0)",
           "hoverinfo": "name",
           "line": {
            "width": 0
           },
           "mode": "lines",
           "name": "Risk Area",
           "showlegend": false,
           "x": [
            9.9,
            9.9,
            5.1,
            5.1,
            5.0,
            5.0,
            5.1,
            5.1,
            6.4,
            6.4,
            8.6,
            8.6,
            9.9,
            9.9,
            10.0,
            10.0,
            9.9
           ],
           "y": [
            1.5,
            0.0,
            0.0,
            1.5,
            1.5,
            3.6,
            3.6,
            4.9,
            4.9,
            5.0,
            5.0,
            4.9,
            4.9,
            3.6,
            3.6,
            1.5,
            1.5
           ],
           "type": "scatter"
          },
          {
           "fill": "toself",
           "fillcolor": "rgb(0, 0, 0)",
           "hoverinfo": "name",
           "line": {
            "width": 0
           },
           "mode": "lines",
           "name": "Risk Area",
           "showlegend": false,
           "x": [
            13.6,
            15.0,
            15.0,
            10.1,
            10.1,
            10.0,
            10.0,
            10.1,
            10.1,
            11.5,
            11.5,
            13.6,
            13.6
           ],
           "y": [
            4.9,
            4.9,
            0.0,
            0.0,
            1.5,
            1.5,
            3.6,
            3.6,
            4.9,
            4.9,
            5.0,
            5.0,
            4.9
           ],
           "type": "scatter"
          },
          {
           "fill": "toself",
           "fillcolor": "rgb(153, 0, 0)",
           "hoverinfo": "name",
           "line": {
            "width": 0
           },
           "mode": "lines",
           "name": "Risk Area",
           "showlegend": false,
           "x": [
            13.6,
            15.0,
            15.0,
            13.6,
            13.6,
            11.5,
            11.5,
            10.1,
            10.1,
            10.0,
            10.0,
            10.1,
            10.1,
            11.5,
            11.5,
            13.6,
            13.6
           ],
           "y": [
            9.9,
            9.9,
            5.1,
            5.1,
            5.0,
            5.0,
            5.1,
            5.1,
            6.5,
            6.5,
            8.6,
            8.6,
            9.9,
            9.9,
            10.0,
            10.0,
            9.9
           ],
           "type": "scatter"
          },
          {
           "fill": "toself",
           "fillcolor": "rgb(204, 0, 0)",
           "hoverinfo": "name",
           "line": {
            "width": 0
           },
           "mode": "lines",
           "name": "Risk Area",
           "showlegend": false,
           "x": [
            9.9,
            9.9,
            8.6,
            8.6,
            6.4,
            6.4,
            5.1,
            5.1,
            5.0,
            5.0,
            5.1,
            5.1,
            6.4,
            6.4,
            8.6,
            8.6,
            9.9,
            9.9,
            10.0,
            10.0,
            9.9
           ],
           "y": [
            6.5,
            5.1,
            5.1,
            5.0,
            5.0,
            5.1,
            5.1,
            6.5,
            6.5,
            8.6,
            8.6,
            9.9,
            9.9,
            10.0,
            10.0,
            9.9,
            9.9,
            8.6,
            8.6,
            6.5,
            6.5
           ],
           "type": "scatter"
          },
          {
           "fill": "toself",
           "fillcolor": "rgb(25, 0, 0)",
           "hoverinfo": "name",
           "line": {
            "width": 0
           },
           "mode": "lines",
           "name": "Risk Area",
           "showlegend": false,
           "x": [
            4.9,
            4.9,
            3.6,
            3.6,
            1.5,
            1.5,
            0.0,
            0.0,
            1.5,
            1.5,
            3.6,
            3.6,
            4.9,
            4.9,
            5.0,
            5.0,
            4.9
           ],
           "y": [
            6.5,
            5.1,
            5.1,
            5.0,
            5.0,
            5.1,
            5.1,
            9.9,
            9.9,
            10.0,
            10.0,
            9.9,
            9.9,
            8.6,
            8.6,
            6.5,
            6.5
           ],
           "type": "scatter"
          },
          {
           "fill": "toself",
           "fillcolor": "rgb(0, 0, 0)",
           "hoverinfo": "name",
           "line": {
            "width": 0
           },
           "mode": "lines",
           "name": "Risk Area",
           "showlegend": false,
           "x": [
            1.5,
            0.0,
            0.0,
            4.9,
            4.9,
            5.0,
            5.0,
            4.9,
            4.9,
            3.6,
            3.6,
            1.5,
            1.5
           ],
           "y": [
            10.1,
            10.1,
            15.0,
            15.0,
            13.6,
            13.6,
            11.5,
            11.5,
            10.1,
            10.1,
            10.0,
            10.0,
            10.1
           ],
           "type": "scatter"
          },
          {
           "fill": "toself",
           "fillcolor": "rgb(0, 0, 0)",
           "hoverinfo": "name",
           "line": {
            "width": 0
           },
           "mode": "lines",
           "name": "Risk Area",
           "showlegend": false,
           "x": [
            6.4,
            5.1,
            5.1,
            5.0,
            5.0,
            5.1,
            5.1,
            9.9,
            9.9,
            10.0,
            10.0,
            9.9,
            9.9,
            8.6,
            8.6,
            6.4,
            6.4
           ],
           "y": [
            10.1,
            10.1,
            11.5,
            11.5,
            13.6,
            13.6,
            15.0,
            15.0,
            13.6,
            13.6,
            11.5,
            11.5,
            10.1,
            10.1,
            10.0,
            10.0,
            10.1
           ],
           "type": "scatter"
          },
          {
           "fill": "toself",
           "fillcolor": "rgb(0, 0, 0)",
           "hoverinfo": "name",
           "line": {
            "width": 0
           },
           "mode": "lines",
           "name": "Risk Area",
           "showlegend": false,
           "x": [
            10.1,
            10.1,
            15.0,
            15.0,
            13.6,
            13.6,
            11.5,
            11.5,
            10.1,
            10.1,
            10.0,
            10.0,
            10.1
           ],
           "y": [
            13.6,
            15.0,
            15.0,
            10.1,
            10.1,
            10.0,
            10.0,
            10.1,
            10.1,
            11.5,
            11.5,
            13.6,
            13.6
           ],
           "type": "scatter"
          },
          {
           "hoverinfo": "text",
           "marker": {
            "opacity": 1,
            "size": 1
           },
           "mode": "markers",
           "showlegend": false,
           "text": [
            "ID: 171, Pos(3.19,6.11)"
           ],
           "x": [
            3.189070042263967
           ],
           "y": [
            6.110187873663138
           ],
           "type": "scatter"
          },
          {
           "hoverinfo": "text",
           "marker": {
            "opacity": 1,
            "size": 1
           },
           "mode": "markers",
           "showlegend": false,
           "text": [
            "ID: 172, Pos(1.94,5.82)"
           ],
           "x": [
            1.9402561616530356
           ],
           "y": [
            5.816705278142739
           ],
           "type": "scatter"
          },
          {
           "hoverinfo": "text",
           "marker": {
            "opacity": 1,
            "size": 1
           },
           "mode": "markers",
           "showlegend": false,
           "text": [
            "ID: 173, Pos(2.25,3.58)"
           ],
           "x": [
            2.254011058789444
           ],
           "y": [
            3.5845268555672702
           ],
           "type": "scatter"
          },
          {
           "hoverinfo": "text",
           "marker": {
            "opacity": 1,
            "size": 1
           },
           "mode": "markers",
           "showlegend": false,
           "text": [
            "ID: 174, Pos(4.09,6.34)"
           ],
           "x": [
            4.087433167194759
           ],
           "y": [
            6.33549347298958
           ],
           "type": "scatter"
          },
          {
           "hoverinfo": "text",
           "marker": {
            "opacity": 1,
            "size": 1
           },
           "mode": "markers",
           "showlegend": false,
           "text": [
            "ID: 175, Pos(2.51,5.54)"
           ],
           "x": [
            2.512264533551085
           ],
           "y": [
            5.544723323146758
           ],
           "type": "scatter"
          },
          {
           "hoverinfo": "text",
           "marker": {
            "opacity": 1,
            "size": 1
           },
           "mode": "markers",
           "showlegend": false,
           "text": [
            "ID: 176, Pos(3.93,7.01)"
           ],
           "x": [
            3.9251143821906234
           ],
           "y": [
            7.014969990028248
           ],
           "type": "scatter"
          },
          {
           "hoverinfo": "text",
           "marker": {
            "opacity": 1,
            "size": 1
           },
           "mode": "markers",
           "showlegend": false,
           "text": [
            "ID: 177, Pos(5.06,6.97)"
           ],
           "x": [
            5.064832387554964
           ],
           "y": [
            6.967940157984842
           ],
           "type": "scatter"
          },
          {
           "hoverinfo": "text",
           "marker": {
            "opacity": 1,
            "size": 1
           },
           "mode": "markers",
           "showlegend": false,
           "text": [
            "ID: 178, Pos(3.11,5.28)"
           ],
           "x": [
            3.1107071720913986
           ],
           "y": [
            5.281850039784984
           ],
           "type": "scatter"
          },
          {
           "hoverinfo": "text",
           "marker": {
            "opacity": 1,
            "size": 1
           },
           "mode": "markers",
           "showlegend": false,
           "text": [
            "ID: 179, Pos(2.82,6.59)"
           ],
           "x": [
            2.823020167807354
           ],
           "y": [
            6.592652690795309
           ],
           "type": "scatter"
          },
          {
           "hoverinfo": "text",
           "marker": {
            "opacity": 1,
            "size": 1
           },
           "mode": "markers",
           "showlegend": false,
           "text": [
            "ID: 180, Pos(2.32,4.55)"
           ],
           "x": [
            2.318880817540021
           ],
           "y": [
            4.549654883133761
           ],
           "type": "scatter"
          }
         ],
         "layout": {
          "shapes": [
           {
            "fillcolor": "rgba(60, 255, 186, 0.5)",
            "line": {
             "color": "rgba(60, 255, 186, 0.5)"
            },
            "type": "circle",
            "x0": 2.989070042263967,
            "x1": 3.3890700422639672,
            "xref": "x",
            "y0": 5.910187873663138,
            "y1": 6.310187873663138,
            "yref": "y"
           },
           {
            "fillcolor": "rgba(0, 0, 132, 0.5)",
            "line": {
             "color": "rgba(0, 0, 132, 0.5)"
            },
            "type": "circle",
            "x0": 1.7402561616530356,
            "x1": 2.140256161653036,
            "xref": "x",
            "y0": 5.616705278142739,
            "y1": 6.016705278142739,
            "yref": "y"
           },
           {
            "fillcolor": "rgba(0, 204, 255, 0.5)",
            "line": {
             "color": "rgba(0, 204, 255, 0.5)"
            },
            "type": "circle",
            "x0": 2.054011058789444,
            "x1": 2.4540110587894444,
            "xref": "x",
            "y0": 3.38452685556727,
            "y1": 3.7845268555672704,
            "yref": "y"
           },
           {
            "fillcolor": "rgba(144, 255, 102, 0.5)",
            "line": {
             "color": "rgba(144, 255, 102, 0.5)"
            },
            "type": "circle",
            "x0": 3.887433167194759,
            "x1": 4.287433167194759,
            "xref": "x",
            "y0": 6.13549347298958,
            "y1": 6.535493472989581,
            "yref": "y"
           },
           {
            "fillcolor": "rgba(0, 13, 255, 0.5)",
            "line": {
             "color": "rgba(0, 13, 255, 0.5)"
            },
            "type": "circle",
            "x0": 2.312264533551085,
            "x1": 2.7122645335510853,
            "xref": "x",
            "y0": 5.3447233231467575,
            "y1": 5.744723323146758,
            "yref": "y"
           },
           {
            "fillcolor": "rgba(2, 232, 244, 0.5)",
            "line": {
             "color": "rgba(2, 232, 244, 0.5)"
            },
            "type": "circle",
            "x0": 3.725114382190623,
            "x1": 4.125114382190623,
            "xref": "x",
            "y0": 6.814969990028247,
            "y1": 7.214969990028248,
            "yref": "y"
           },
           {
            "fillcolor": "rgba(44, 255, 202, 0.5)",
            "line": {
             "color": "rgba(44, 255, 202, 0.5)"
            },
            "type": "circle",
            "x0": 4.864832387554964,
            "x1": 5.264832387554964,
            "xref": "x",
            "y0": 6.7679401579848415,
            "y1": 7.167940157984842,
            "yref": "y"
           },
           {
            "fillcolor": "rgba(93, 255, 154, 0.5)",
            "line": {
             "color": "rgba(93, 255, 154, 0.5)"
            },
            "type": "circle",
            "x0": 2.9107071720913984,
            "x1": 3.3107071720913988,
            "xref": "x",
            "y0": 5.0818500397849835,
            "y1": 5.481850039784984,
            "yref": "y"
           },
           {
            "fillcolor": "rgba(0, 53, 255, 0.5)",
            "line": {
             "color": "rgba(0, 53, 255, 0.5)"
            },
            "type": "circle",
            "x0": 2.6230201678073537,
            "x1": 3.023020167807354,
            "xref": "x",
            "y0": 6.392652690795309,
            "y1": 6.792652690795309,
            "yref": "y"
           },
           {
            "fillcolor": "rgba(0, 136, 255, 0.5)",
            "line": {
             "color": "rgba(0, 136, 255, 0.5)"
            },
            "type": "circle",
            "x0": 2.118880817540021,
            "x1": 2.5188808175400212,
            "xref": "x",
            "y0": 4.349654883133761,
            "y1": 4.749654883133761,
            "yref": "y"
           },
           {
            "line": {
             "color": "black",
             "width": 3
            },
            "type": "line",
            "x0": 3.189070042263967,
            "x1": 3.388344383592977,
            "y0": 6.110187873663138,
            "y1": 6.127209533038455
           },
           {
            "line": {
             "color": "white",
             "width": 3
            },
            "type": "line",
            "x0": 1.9402561616530356,
            "x1": 1.9563273228746036,
            "y0": 5.816705278142739,
            "y1": 6.016058526867184
           },
           {
            "line": {
             "color": "black",
             "width": 3
            },
            "type": "line",
            "x0": 2.254011058789444,
            "x1": 2.266543271835937,
            "y0": 3.5845268555672702,
            "y1": 3.7841338284819392
           },
           {
            "line": {
             "color": "black",
             "width": 3
            },
            "type": "line",
            "x0": 4.087433167194759,
            "x1": 4.278850468040508,
            "y0": 6.33549347298958,
            "y1": 6.393453950359321
           },
           {
            "line": {
             "color": "white",
             "width": 3
            },
            "type": "line",
            "x0": 2.512264533551085,
            "x1": 2.515635411467262,
            "y0": 5.544723323146758,
            "y1": 5.744694914084256
           },
           {
            "line": {
             "color": "black",
             "width": 3
            },
            "type": "line",
            "x0": 3.9251143821906234,
            "x1": 4.117987565490642,
            "y0": 7.014969990028248,
            "y1": 7.06788440360071
           },
           {
            "line": {
             "color": "black",
             "width": 3
            },
            "type": "line",
            "x0": 5.064832387554964,
            "x1": 5.257360108273728,
            "y0": 6.967940157984842,
            "y1": 7.02209804526673
           },
           {
            "line": {
             "color": "black",
             "width": 3
            },
            "type": "line",
            "x0": 3.1107071720913986,
            "x1": 3.0892470282674362,
            "y0": 5.281850039784984,
            "y1": 5.480695362151528
           },
           {
            "line": {
             "color": "white",
             "width": 3
            },
            "type": "line",
            "x0": 2.823020167807354,
            "x1": 2.994718876482206,
            "y0": 6.592652690795309,
            "y1": 6.6952175650914745
           },
           {
            "line": {
             "color": "white",
             "width": 3
            },
            "type": "line",
            "x0": 2.318880817540021,
            "x1": 2.3306192914404122,
            "y0": 4.549654883133761,
            "y1": 4.749310106532724
           }
          ],
          "title": {
           "text": "<b>Percentage using the shortest path: 0%  |  Number of Agents: 10</b>",
           "x": 0.5
          }
         },
         "name": "150"
        },
        {
         "data": [
          {
           "hoverinfo": "name",
           "line": {
            "color": "white"
           },
           "mode": "lines",
           "name": "Exterior",
           "showlegend": false,
           "x": [
            10.1,
            10.1,
            15.0,
            15.0,
            13.6,
            13.6,
            15.0,
            15.0,
            13.6,
            13.6,
            15.0,
            15.0,
            10.1,
            10.1,
            9.9,
            9.9,
            5.1,
            5.1,
            4.9,
            4.9,
            0.0,
            0.0,
            1.5,
            1.5,
            0.0,
            0.0,
            1.5,
            1.5,
            0.0,
            0.0,
            4.9,
            4.9,
            5.1,
            5.1,
            9.9,
            9.9,
            10.1
           ],
           "y": [
            1.5,
            0.0,
            0.0,
            4.9,
            4.9,
            5.1,
            5.1,
            9.9,
            9.9,
            10.1,
            10.1,
            15.0,
            15.0,
            13.6,
            13.6,
            15.0,
            15.0,
            13.6,
            13.6,
            15.0,
            15.0,
            10.1,
            10.1,
            9.9,
            9.9,
            5.1,
            5.1,
            4.9,
            4.9,
            0.0,
            0.0,
            1.5,
            1.5,
            0.0,
            0.0,
            1.5,
            1.5
           ],
           "type": "scatter"
          },
          {
           "hoverinfo": "name",
           "line": {
            "color": "white"
           },
           "mode": "lines",
           "name": "Obstacle",
           "showlegend": false,
           "x": [
            10.1,
            11.5,
            11.5,
            10.1,
            10.1,
            9.9,
            9.9,
            8.6,
            8.6,
            9.9,
            9.9,
            10.1,
            10.1
           ],
           "y": [
            5.1,
            5.1,
            4.9,
            4.9,
            3.6,
            3.6,
            4.9,
            4.9,
            5.1,
            5.1,
            6.5,
            6.5,
            5.1
           ],
           "type": "scatter"
          },
          {
           "hoverinfo": "name",
           "line": {
            "color": "white"
           },
           "mode": "lines",
           "name": "Obstacle",
           "showlegend": false,
           "x": [
            10.1,
            11.5,
            11.5,
            10.1,
            10.1,
            9.9,
            9.9,
            8.6,
            8.6,
            9.9,
            9.9,
            10.1,
            10.1
           ],
           "y": [
            10.1,
            10.1,
            9.9,
            9.9,
            8.6,
            8.6,
            9.9,
            9.9,
            10.1,
            10.1,
            11.5,
            11.5,
            10.1
           ],
           "type": "scatter"
          },
          {
           "hoverinfo": "name",
           "line": {
            "color": "white"
           },
           "mode": "lines",
           "name": "Obstacle",
           "showlegend": false,
           "x": [
            5.1,
            6.4,
            6.4,
            5.1,
            5.1,
            4.9,
            4.9,
            3.6,
            3.6,
            4.9,
            4.9,
            5.1,
            5.1
           ],
           "y": [
            5.1,
            5.1,
            4.9,
            4.9,
            3.6,
            3.6,
            4.9,
            4.9,
            5.1,
            5.1,
            6.5,
            6.5,
            5.1
           ],
           "type": "scatter"
          },
          {
           "hoverinfo": "name",
           "line": {
            "color": "white"
           },
           "mode": "lines",
           "name": "Obstacle",
           "showlegend": false,
           "x": [
            5.1,
            6.4,
            6.4,
            5.1,
            5.1,
            4.9,
            4.9,
            3.6,
            3.6,
            4.9,
            4.9,
            5.1,
            5.1
           ],
           "y": [
            10.1,
            10.1,
            9.9,
            9.9,
            8.6,
            8.6,
            9.9,
            9.9,
            10.1,
            10.1,
            11.5,
            11.5,
            10.1
           ],
           "type": "scatter"
          },
          {
           "fill": "toself",
           "fillcolor": "rgb(0, 0, 0)",
           "hoverinfo": "name",
           "line": {
            "width": 0
           },
           "mode": "lines",
           "name": "Risk Area",
           "showlegend": false,
           "x": [
            1.5,
            1.5,
            3.6,
            3.6,
            4.9,
            4.9,
            5.0,
            5.0,
            4.9,
            4.9,
            0.0,
            0.0,
            1.5
           ],
           "y": [
            4.9,
            5.0,
            5.0,
            4.9,
            4.9,
            3.6,
            3.6,
            1.5,
            1.5,
            0.0,
            0.0,
            4.9,
            4.9
           ],
           "type": "scatter"
          },
          {
           "fill": "toself",
           "fillcolor": "rgb(178, 0, 0)",
           "hoverinfo": "name",
           "line": {
            "width": 0
           },
           "mode": "lines",
           "name": "Risk Area",
           "showlegend": false,
           "x": [
            9.9,
            9.9,
            5.1,
            5.1,
            5.0,
            5.0,
            5.1,
            5.1,
            6.4,
            6.4,
            8.6,
            8.6,
            9.9,
            9.9,
            10.0,
            10.0,
            9.9
           ],
           "y": [
            1.5,
            0.0,
            0.0,
            1.5,
            1.5,
            3.6,
            3.6,
            4.9,
            4.9,
            5.0,
            5.0,
            4.9,
            4.9,
            3.6,
            3.6,
            1.5,
            1.5
           ],
           "type": "scatter"
          },
          {
           "fill": "toself",
           "fillcolor": "rgb(0, 0, 0)",
           "hoverinfo": "name",
           "line": {
            "width": 0
           },
           "mode": "lines",
           "name": "Risk Area",
           "showlegend": false,
           "x": [
            13.6,
            15.0,
            15.0,
            10.1,
            10.1,
            10.0,
            10.0,
            10.1,
            10.1,
            11.5,
            11.5,
            13.6,
            13.6
           ],
           "y": [
            4.9,
            4.9,
            0.0,
            0.0,
            1.5,
            1.5,
            3.6,
            3.6,
            4.9,
            4.9,
            5.0,
            5.0,
            4.9
           ],
           "type": "scatter"
          },
          {
           "fill": "toself",
           "fillcolor": "rgb(153, 0, 0)",
           "hoverinfo": "name",
           "line": {
            "width": 0
           },
           "mode": "lines",
           "name": "Risk Area",
           "showlegend": false,
           "x": [
            13.6,
            15.0,
            15.0,
            13.6,
            13.6,
            11.5,
            11.5,
            10.1,
            10.1,
            10.0,
            10.0,
            10.1,
            10.1,
            11.5,
            11.5,
            13.6,
            13.6
           ],
           "y": [
            9.9,
            9.9,
            5.1,
            5.1,
            5.0,
            5.0,
            5.1,
            5.1,
            6.5,
            6.5,
            8.6,
            8.6,
            9.9,
            9.9,
            10.0,
            10.0,
            9.9
           ],
           "type": "scatter"
          },
          {
           "fill": "toself",
           "fillcolor": "rgb(204, 0, 0)",
           "hoverinfo": "name",
           "line": {
            "width": 0
           },
           "mode": "lines",
           "name": "Risk Area",
           "showlegend": false,
           "x": [
            9.9,
            9.9,
            8.6,
            8.6,
            6.4,
            6.4,
            5.1,
            5.1,
            5.0,
            5.0,
            5.1,
            5.1,
            6.4,
            6.4,
            8.6,
            8.6,
            9.9,
            9.9,
            10.0,
            10.0,
            9.9
           ],
           "y": [
            6.5,
            5.1,
            5.1,
            5.0,
            5.0,
            5.1,
            5.1,
            6.5,
            6.5,
            8.6,
            8.6,
            9.9,
            9.9,
            10.0,
            10.0,
            9.9,
            9.9,
            8.6,
            8.6,
            6.5,
            6.5
           ],
           "type": "scatter"
          },
          {
           "fill": "toself",
           "fillcolor": "rgb(25, 0, 0)",
           "hoverinfo": "name",
           "line": {
            "width": 0
           },
           "mode": "lines",
           "name": "Risk Area",
           "showlegend": false,
           "x": [
            4.9,
            4.9,
            3.6,
            3.6,
            1.5,
            1.5,
            0.0,
            0.0,
            1.5,
            1.5,
            3.6,
            3.6,
            4.9,
            4.9,
            5.0,
            5.0,
            4.9
           ],
           "y": [
            6.5,
            5.1,
            5.1,
            5.0,
            5.0,
            5.1,
            5.1,
            9.9,
            9.9,
            10.0,
            10.0,
            9.9,
            9.9,
            8.6,
            8.6,
            6.5,
            6.5
           ],
           "type": "scatter"
          },
          {
           "fill": "toself",
           "fillcolor": "rgb(0, 0, 0)",
           "hoverinfo": "name",
           "line": {
            "width": 0
           },
           "mode": "lines",
           "name": "Risk Area",
           "showlegend": false,
           "x": [
            1.5,
            0.0,
            0.0,
            4.9,
            4.9,
            5.0,
            5.0,
            4.9,
            4.9,
            3.6,
            3.6,
            1.5,
            1.5
           ],
           "y": [
            10.1,
            10.1,
            15.0,
            15.0,
            13.6,
            13.6,
            11.5,
            11.5,
            10.1,
            10.1,
            10.0,
            10.0,
            10.1
           ],
           "type": "scatter"
          },
          {
           "fill": "toself",
           "fillcolor": "rgb(0, 0, 0)",
           "hoverinfo": "name",
           "line": {
            "width": 0
           },
           "mode": "lines",
           "name": "Risk Area",
           "showlegend": false,
           "x": [
            6.4,
            5.1,
            5.1,
            5.0,
            5.0,
            5.1,
            5.1,
            9.9,
            9.9,
            10.0,
            10.0,
            9.9,
            9.9,
            8.6,
            8.6,
            6.4,
            6.4
           ],
           "y": [
            10.1,
            10.1,
            11.5,
            11.5,
            13.6,
            13.6,
            15.0,
            15.0,
            13.6,
            13.6,
            11.5,
            11.5,
            10.1,
            10.1,
            10.0,
            10.0,
            10.1
           ],
           "type": "scatter"
          },
          {
           "fill": "toself",
           "fillcolor": "rgb(0, 0, 0)",
           "hoverinfo": "name",
           "line": {
            "width": 0
           },
           "mode": "lines",
           "name": "Risk Area",
           "showlegend": false,
           "x": [
            10.1,
            10.1,
            15.0,
            15.0,
            13.6,
            13.6,
            11.5,
            11.5,
            10.1,
            10.1,
            10.0,
            10.0,
            10.1
           ],
           "y": [
            13.6,
            15.0,
            15.0,
            10.1,
            10.1,
            10.0,
            10.0,
            10.1,
            10.1,
            11.5,
            11.5,
            13.6,
            13.6
           ],
           "type": "scatter"
          },
          {
           "hoverinfo": "text",
           "marker": {
            "opacity": 1,
            "size": 1
           },
           "mode": "markers",
           "showlegend": false,
           "text": [
            "ID: 171, Pos(3.12,7.71)"
           ],
           "x": [
            3.122374024926149
           ],
           "y": [
            7.705859607071755
           ],
           "type": "scatter"
          },
          {
           "hoverinfo": "text",
           "marker": {
            "opacity": 1,
            "size": 1
           },
           "mode": "markers",
           "showlegend": false,
           "text": [
            "ID: 172, Pos(1.92,7.42)"
           ],
           "x": [
            1.916759877460899
           ],
           "y": [
            7.415179669722961
           ],
           "type": "scatter"
          },
          {
           "hoverinfo": "text",
           "marker": {
            "opacity": 1,
            "size": 1
           },
           "mode": "markers",
           "showlegend": false,
           "text": [
            "ID: 173, Pos(2.29,4.83)"
           ],
           "x": [
            2.288084784472091
           ],
           "y": [
            4.82638137865342
           ],
           "type": "scatter"
          },
          {
           "hoverinfo": "text",
           "marker": {
            "opacity": 1,
            "size": 1
           },
           "mode": "markers",
           "showlegend": false,
           "text": [
            "ID: 174, Pos(3.84,7.48)"
           ],
           "x": [
            3.843606920788923
           ],
           "y": [
            7.476062310836708
           ],
           "type": "scatter"
          },
          {
           "hoverinfo": "text",
           "marker": {
            "opacity": 1,
            "size": 1
           },
           "mode": "markers",
           "showlegend": false,
           "text": [
            "ID: 175, Pos(2.52,7.01)"
           ],
           "x": [
            2.523229741643003
           ],
           "y": [
            7.012321703057623
           ],
           "type": "scatter"
          },
          {
           "hoverinfo": "text",
           "marker": {
            "opacity": 1,
            "size": 1
           },
           "mode": "markers",
           "showlegend": false,
           "text": [
            "ID: 176, Pos(3.51,8.56)"
           ],
           "x": [
            3.5136787534986818
           ],
           "y": [
            8.561122984140262
           ],
           "type": "scatter"
          },
          {
           "hoverinfo": "text",
           "marker": {
            "opacity": 1,
            "size": 1
           },
           "mode": "markers",
           "showlegend": false,
           "text": [
            "ID: 177, Pos(4.29,8.37)"
           ],
           "x": [
            4.290991207789992
           ],
           "y": [
            8.368306131821983
           ],
           "type": "scatter"
          },
          {
           "hoverinfo": "text",
           "marker": {
            "opacity": 1,
            "size": 1
           },
           "mode": "markers",
           "showlegend": false,
           "text": [
            "ID: 178, Pos(3.11,6.56)"
           ],
           "x": [
            3.1074841817325844
           ],
           "y": [
            6.559114526294265
           ],
           "type": "scatter"
          },
          {
           "hoverinfo": "text",
           "marker": {
            "opacity": 1,
            "size": 1
           },
           "mode": "markers",
           "showlegend": false,
           "text": [
            "ID: 179, Pos(2.60,8.18)"
           ],
           "x": [
            2.601055746458383
           ],
           "y": [
            8.176679017934811
           ],
           "type": "scatter"
          },
          {
           "hoverinfo": "text",
           "marker": {
            "opacity": 1,
            "size": 1
           },
           "mode": "markers",
           "showlegend": false,
           "text": [
            "ID: 180, Pos(2.34,5.90)"
           ],
           "x": [
            2.344842528094984
           ],
           "y": [
            5.900713983572042
           ],
           "type": "scatter"
          }
         ],
         "layout": {
          "shapes": [
           {
            "fillcolor": "rgba(0, 0, 128, 0.5)",
            "line": {
             "color": "rgba(0, 0, 128, 0.5)"
            },
            "type": "circle",
            "x0": 2.9223740249261487,
            "x1": 3.322374024926149,
            "xref": "x",
            "y0": 7.505859607071755,
            "y1": 7.905859607071755,
            "yref": "y"
           },
           {
            "fillcolor": "rgba(0, 0, 128, 0.5)",
            "line": {
             "color": "rgba(0, 0, 128, 0.5)"
            },
            "type": "circle",
            "x0": 1.716759877460899,
            "x1": 2.116759877460899,
            "xref": "x",
            "y0": 7.215179669722961,
            "y1": 7.615179669722961,
            "yref": "y"
           },
           {
            "fillcolor": "rgba(0, 48, 255, 0.5)",
            "line": {
             "color": "rgba(0, 48, 255, 0.5)"
            },
            "type": "circle",
            "x0": 2.0880847844720907,
            "x1": 2.488084784472091,
            "xref": "x",
            "y0": 4.62638137865342,
            "y1": 5.02638137865342,
            "yref": "y"
           },
           {
            "fillcolor": "rgba(0, 0, 232, 0.5)",
            "line": {
             "color": "rgba(0, 0, 232, 0.5)"
            },
            "type": "circle",
            "x0": 3.643606920788923,
            "x1": 4.043606920788923,
            "xref": "x",
            "y0": 7.276062310836708,
            "y1": 7.676062310836708,
            "yref": "y"
           },
           {
            "fillcolor": "rgba(0, 0, 178, 0.5)",
            "line": {
             "color": "rgba(0, 0, 178, 0.5)"
            },
            "type": "circle",
            "x0": 2.323229741643003,
            "x1": 2.7232297416430034,
            "xref": "x",
            "y0": 6.812321703057623,
            "y1": 7.212321703057623,
            "yref": "y"
           },
           {
            "fillcolor": "rgba(0, 0, 128, 0.5)",
            "line": {
             "color": "rgba(0, 0, 128, 0.5)"
            },
            "type": "circle",
            "x0": 3.3136787534986816,
            "x1": 3.713678753498682,
            "xref": "x",
            "y0": 8.361122984140263,
            "y1": 8.761122984140261,
            "yref": "y"
           },
           {
            "fillcolor": "rgba(0, 0, 128, 0.5)",
            "line": {
             "color": "rgba(0, 0, 128, 0.5)"
            },
            "type": "circle",
            "x0": 4.090991207789992,
            "x1": 4.4909912077899925,
            "xref": "x",
            "y0": 8.168306131821984,
            "y1": 8.568306131821982,
            "yref": "y"
           },
           {
            "fillcolor": "rgba(0, 0, 214, 0.5)",
            "line": {
             "color": "rgba(0, 0, 214, 0.5)"
            },
            "type": "circle",
            "x0": 2.9074841817325843,
            "x1": 3.3074841817325846,
            "xref": "x",
            "y0": 6.359114526294265,
            "y1": 6.759114526294265,
            "yref": "y"
           },
           {
            "fillcolor": "rgba(0, 0, 128, 0.5)",
            "line": {
             "color": "rgba(0, 0, 128, 0.5)"
            },
            "type": "circle",
            "x0": 2.4010557464583826,
            "x1": 2.801055746458383,
            "xref": "x",
            "y0": 7.976679017934811,
            "y1": 8.37667901793481,
            "yref": "y"
           },
           {
            "fillcolor": "rgba(0, 0, 246, 0.5)",
            "line": {
             "color": "rgba(0, 0, 246, 0.5)"
            },
            "type": "circle",
            "x0": 2.144842528094984,
            "x1": 2.5448425280949842,
            "xref": "x",
            "y0": 5.700713983572042,
            "y1": 6.100713983572042,
            "yref": "y"
           },
           {
            "line": {
             "color": "white",
             "width": 3
            },
            "type": "line",
            "x0": 3.122374024926149,
            "x1": 3.1011790412450058,
            "y0": 7.705859607071755,
            "y1": 7.904733367700843
           },
           {
            "line": {
             "color": "white",
             "width": 3
            },
            "type": "line",
            "x0": 1.916759877460899,
            "x1": 1.92219592904061,
            "y0": 7.415179669722961,
            "y1": 7.6151057794315795
           },
           {
            "line": {
             "color": "white",
             "width": 3
            },
            "type": "line",
            "x0": 2.288084784472091,
            "x1": 2.293607740654669,
            "y0": 4.82638137865342,
            "y1": 5.026305106497329
           },
           {
            "line": {
             "color": "white",
             "width": 3
            },
            "type": "line",
            "x0": 3.843606920788923,
            "x1": 3.8038251728203814,
            "y0": 7.476062310836708,
            "y1": 7.672065914192788
           },
           {
            "line": {
             "color": "white",
             "width": 3
            },
            "type": "line",
            "x0": 2.523229741643003,
            "x1": 2.5229638053048804,
            "y0": 7.012321703057623,
            "y1": 7.212321526252205
           },
           {
            "line": {
             "color": "white",
             "width": 3
            },
            "type": "line",
            "x0": 3.5136787534986818,
            "x1": 3.458813117199057,
            "y0": 8.561122984140262,
            "y1": 8.75345021038095
           },
           {
            "line": {
             "color": "white",
             "width": 3
            },
            "type": "line",
            "x0": 4.290991207789992,
            "x1": 4.197276737744994,
            "y0": 8.368306131821983,
            "y1": 8.544991156949143
           },
           {
            "line": {
             "color": "white",
             "width": 3
            },
            "type": "line",
            "x0": 3.1074841817325844,
            "x1": 3.101372446298281,
            "y0": 6.559114526294265,
            "y1": 6.759021121207942
           },
           {
            "line": {
             "color": "white",
             "width": 3
            },
            "type": "line",
            "x0": 2.601055746458383,
            "x1": 2.5790360652976716,
            "y0": 8.176679017934811,
            "y1": 8.375463156239608
           },
           {
            "line": {
             "color": "white",
             "width": 3
            },
            "type": "line",
            "x0": 2.344842528094984,
            "x1": 2.3486239714406065,
            "y0": 5.900713983572042,
            "y1": 6.100678232092181
           }
          ],
          "title": {
           "text": "<b>Percentage using the shortest path: 0%  |  Number of Agents: 10</b>",
           "x": 0.5
          }
         },
         "name": "200"
        },
        {
         "data": [
          {
           "hoverinfo": "name",
           "line": {
            "color": "white"
           },
           "mode": "lines",
           "name": "Exterior",
           "showlegend": false,
           "x": [
            10.1,
            10.1,
            15.0,
            15.0,
            13.6,
            13.6,
            15.0,
            15.0,
            13.6,
            13.6,
            15.0,
            15.0,
            10.1,
            10.1,
            9.9,
            9.9,
            5.1,
            5.1,
            4.9,
            4.9,
            0.0,
            0.0,
            1.5,
            1.5,
            0.0,
            0.0,
            1.5,
            1.5,
            0.0,
            0.0,
            4.9,
            4.9,
            5.1,
            5.1,
            9.9,
            9.9,
            10.1
           ],
           "y": [
            1.5,
            0.0,
            0.0,
            4.9,
            4.9,
            5.1,
            5.1,
            9.9,
            9.9,
            10.1,
            10.1,
            15.0,
            15.0,
            13.6,
            13.6,
            15.0,
            15.0,
            13.6,
            13.6,
            15.0,
            15.0,
            10.1,
            10.1,
            9.9,
            9.9,
            5.1,
            5.1,
            4.9,
            4.9,
            0.0,
            0.0,
            1.5,
            1.5,
            0.0,
            0.0,
            1.5,
            1.5
           ],
           "type": "scatter"
          },
          {
           "hoverinfo": "name",
           "line": {
            "color": "white"
           },
           "mode": "lines",
           "name": "Obstacle",
           "showlegend": false,
           "x": [
            10.1,
            11.5,
            11.5,
            10.1,
            10.1,
            9.9,
            9.9,
            8.6,
            8.6,
            9.9,
            9.9,
            10.1,
            10.1
           ],
           "y": [
            5.1,
            5.1,
            4.9,
            4.9,
            3.6,
            3.6,
            4.9,
            4.9,
            5.1,
            5.1,
            6.5,
            6.5,
            5.1
           ],
           "type": "scatter"
          },
          {
           "hoverinfo": "name",
           "line": {
            "color": "white"
           },
           "mode": "lines",
           "name": "Obstacle",
           "showlegend": false,
           "x": [
            10.1,
            11.5,
            11.5,
            10.1,
            10.1,
            9.9,
            9.9,
            8.6,
            8.6,
            9.9,
            9.9,
            10.1,
            10.1
           ],
           "y": [
            10.1,
            10.1,
            9.9,
            9.9,
            8.6,
            8.6,
            9.9,
            9.9,
            10.1,
            10.1,
            11.5,
            11.5,
            10.1
           ],
           "type": "scatter"
          },
          {
           "hoverinfo": "name",
           "line": {
            "color": "white"
           },
           "mode": "lines",
           "name": "Obstacle",
           "showlegend": false,
           "x": [
            5.1,
            6.4,
            6.4,
            5.1,
            5.1,
            4.9,
            4.9,
            3.6,
            3.6,
            4.9,
            4.9,
            5.1,
            5.1
           ],
           "y": [
            5.1,
            5.1,
            4.9,
            4.9,
            3.6,
            3.6,
            4.9,
            4.9,
            5.1,
            5.1,
            6.5,
            6.5,
            5.1
           ],
           "type": "scatter"
          },
          {
           "hoverinfo": "name",
           "line": {
            "color": "white"
           },
           "mode": "lines",
           "name": "Obstacle",
           "showlegend": false,
           "x": [
            5.1,
            6.4,
            6.4,
            5.1,
            5.1,
            4.9,
            4.9,
            3.6,
            3.6,
            4.9,
            4.9,
            5.1,
            5.1
           ],
           "y": [
            10.1,
            10.1,
            9.9,
            9.9,
            8.6,
            8.6,
            9.9,
            9.9,
            10.1,
            10.1,
            11.5,
            11.5,
            10.1
           ],
           "type": "scatter"
          },
          {
           "fill": "toself",
           "fillcolor": "rgb(0, 0, 0)",
           "hoverinfo": "name",
           "line": {
            "width": 0
           },
           "mode": "lines",
           "name": "Risk Area",
           "showlegend": false,
           "x": [
            1.5,
            1.5,
            3.6,
            3.6,
            4.9,
            4.9,
            5.0,
            5.0,
            4.9,
            4.9,
            0.0,
            0.0,
            1.5
           ],
           "y": [
            4.9,
            5.0,
            5.0,
            4.9,
            4.9,
            3.6,
            3.6,
            1.5,
            1.5,
            0.0,
            0.0,
            4.9,
            4.9
           ],
           "type": "scatter"
          },
          {
           "fill": "toself",
           "fillcolor": "rgb(178, 0, 0)",
           "hoverinfo": "name",
           "line": {
            "width": 0
           },
           "mode": "lines",
           "name": "Risk Area",
           "showlegend": false,
           "x": [
            9.9,
            9.9,
            5.1,
            5.1,
            5.0,
            5.0,
            5.1,
            5.1,
            6.4,
            6.4,
            8.6,
            8.6,
            9.9,
            9.9,
            10.0,
            10.0,
            9.9
           ],
           "y": [
            1.5,
            0.0,
            0.0,
            1.5,
            1.5,
            3.6,
            3.6,
            4.9,
            4.9,
            5.0,
            5.0,
            4.9,
            4.9,
            3.6,
            3.6,
            1.5,
            1.5
           ],
           "type": "scatter"
          },
          {
           "fill": "toself",
           "fillcolor": "rgb(0, 0, 0)",
           "hoverinfo": "name",
           "line": {
            "width": 0
           },
           "mode": "lines",
           "name": "Risk Area",
           "showlegend": false,
           "x": [
            13.6,
            15.0,
            15.0,
            10.1,
            10.1,
            10.0,
            10.0,
            10.1,
            10.1,
            11.5,
            11.5,
            13.6,
            13.6
           ],
           "y": [
            4.9,
            4.9,
            0.0,
            0.0,
            1.5,
            1.5,
            3.6,
            3.6,
            4.9,
            4.9,
            5.0,
            5.0,
            4.9
           ],
           "type": "scatter"
          },
          {
           "fill": "toself",
           "fillcolor": "rgb(153, 0, 0)",
           "hoverinfo": "name",
           "line": {
            "width": 0
           },
           "mode": "lines",
           "name": "Risk Area",
           "showlegend": false,
           "x": [
            13.6,
            15.0,
            15.0,
            13.6,
            13.6,
            11.5,
            11.5,
            10.1,
            10.1,
            10.0,
            10.0,
            10.1,
            10.1,
            11.5,
            11.5,
            13.6,
            13.6
           ],
           "y": [
            9.9,
            9.9,
            5.1,
            5.1,
            5.0,
            5.0,
            5.1,
            5.1,
            6.5,
            6.5,
            8.6,
            8.6,
            9.9,
            9.9,
            10.0,
            10.0,
            9.9
           ],
           "type": "scatter"
          },
          {
           "fill": "toself",
           "fillcolor": "rgb(204, 0, 0)",
           "hoverinfo": "name",
           "line": {
            "width": 0
           },
           "mode": "lines",
           "name": "Risk Area",
           "showlegend": false,
           "x": [
            9.9,
            9.9,
            8.6,
            8.6,
            6.4,
            6.4,
            5.1,
            5.1,
            5.0,
            5.0,
            5.1,
            5.1,
            6.4,
            6.4,
            8.6,
            8.6,
            9.9,
            9.9,
            10.0,
            10.0,
            9.9
           ],
           "y": [
            6.5,
            5.1,
            5.1,
            5.0,
            5.0,
            5.1,
            5.1,
            6.5,
            6.5,
            8.6,
            8.6,
            9.9,
            9.9,
            10.0,
            10.0,
            9.9,
            9.9,
            8.6,
            8.6,
            6.5,
            6.5
           ],
           "type": "scatter"
          },
          {
           "fill": "toself",
           "fillcolor": "rgb(25, 0, 0)",
           "hoverinfo": "name",
           "line": {
            "width": 0
           },
           "mode": "lines",
           "name": "Risk Area",
           "showlegend": false,
           "x": [
            4.9,
            4.9,
            3.6,
            3.6,
            1.5,
            1.5,
            0.0,
            0.0,
            1.5,
            1.5,
            3.6,
            3.6,
            4.9,
            4.9,
            5.0,
            5.0,
            4.9
           ],
           "y": [
            6.5,
            5.1,
            5.1,
            5.0,
            5.0,
            5.1,
            5.1,
            9.9,
            9.9,
            10.0,
            10.0,
            9.9,
            9.9,
            8.6,
            8.6,
            6.5,
            6.5
           ],
           "type": "scatter"
          },
          {
           "fill": "toself",
           "fillcolor": "rgb(0, 0, 0)",
           "hoverinfo": "name",
           "line": {
            "width": 0
           },
           "mode": "lines",
           "name": "Risk Area",
           "showlegend": false,
           "x": [
            1.5,
            0.0,
            0.0,
            4.9,
            4.9,
            5.0,
            5.0,
            4.9,
            4.9,
            3.6,
            3.6,
            1.5,
            1.5
           ],
           "y": [
            10.1,
            10.1,
            15.0,
            15.0,
            13.6,
            13.6,
            11.5,
            11.5,
            10.1,
            10.1,
            10.0,
            10.0,
            10.1
           ],
           "type": "scatter"
          },
          {
           "fill": "toself",
           "fillcolor": "rgb(0, 0, 0)",
           "hoverinfo": "name",
           "line": {
            "width": 0
           },
           "mode": "lines",
           "name": "Risk Area",
           "showlegend": false,
           "x": [
            6.4,
            5.1,
            5.1,
            5.0,
            5.0,
            5.1,
            5.1,
            9.9,
            9.9,
            10.0,
            10.0,
            9.9,
            9.9,
            8.6,
            8.6,
            6.4,
            6.4
           ],
           "y": [
            10.1,
            10.1,
            11.5,
            11.5,
            13.6,
            13.6,
            15.0,
            15.0,
            13.6,
            13.6,
            11.5,
            11.5,
            10.1,
            10.1,
            10.0,
            10.0,
            10.1
           ],
           "type": "scatter"
          },
          {
           "fill": "toself",
           "fillcolor": "rgb(0, 0, 0)",
           "hoverinfo": "name",
           "line": {
            "width": 0
           },
           "mode": "lines",
           "name": "Risk Area",
           "showlegend": false,
           "x": [
            10.1,
            10.1,
            15.0,
            15.0,
            13.6,
            13.6,
            11.5,
            11.5,
            10.1,
            10.1,
            10.0,
            10.0,
            10.1
           ],
           "y": [
            13.6,
            15.0,
            15.0,
            10.1,
            10.1,
            10.0,
            10.0,
            10.1,
            10.1,
            11.5,
            11.5,
            13.6,
            13.6
           ],
           "type": "scatter"
          },
          {
           "hoverinfo": "text",
           "marker": {
            "opacity": 1,
            "size": 1
           },
           "mode": "markers",
           "showlegend": false,
           "text": [
            "ID: 171, Pos(2.96,9.03)"
           ],
           "x": [
            2.9592726658313318
           ],
           "y": [
            9.031501936935705
           ],
           "type": "scatter"
          },
          {
           "hoverinfo": "text",
           "marker": {
            "opacity": 1,
            "size": 1
           },
           "mode": "markers",
           "showlegend": false,
           "text": [
            "ID: 172, Pos(1.96,9.01)"
           ],
           "x": [
            1.9636308606114932
           ],
           "y": [
            9.014482111028068
           ],
           "type": "scatter"
          },
          {
           "hoverinfo": "text",
           "marker": {
            "opacity": 1,
            "size": 1
           },
           "mode": "markers",
           "showlegend": false,
           "text": [
            "ID: 173, Pos(2.33,6.26)"
           ],
           "x": [
            2.327664489392784
           ],
           "y": [
            6.260023957864764
           ],
           "type": "scatter"
          },
          {
           "hoverinfo": "text",
           "marker": {
            "opacity": 1,
            "size": 1
           },
           "mode": "markers",
           "showlegend": false,
           "text": [
            "ID: 174, Pos(3.61,8.70)"
           ],
           "x": [
            3.609859830844313
           ],
           "y": [
            8.70242214773194
           ],
           "type": "scatter"
          },
          {
           "hoverinfo": "text",
           "marker": {
            "opacity": 1,
            "size": 1
           },
           "mode": "markers",
           "showlegend": false,
           "text": [
            "ID: 175, Pos(2.49,8.58)"
           ],
           "x": [
            2.4894272719409907
           ],
           "y": [
            8.576895989714226
           ],
           "type": "scatter"
          },
          {
           "hoverinfo": "text",
           "marker": {
            "opacity": 1,
            "size": 1
           },
           "mode": "markers",
           "showlegend": false,
           "text": [
            "ID: 176, Pos(3.07,10.10)"
           ],
           "x": [
            3.0694956233792174
           ],
           "y": [
            10.096449727965213
           ],
           "type": "scatter"
          },
          {
           "hoverinfo": "text",
           "marker": {
            "opacity": 1,
            "size": 1
           },
           "mode": "markers",
           "showlegend": false,
           "text": [
            "ID: 177, Pos(3.66,9.54)"
           ],
           "x": [
            3.6566615602173207
           ],
           "y": [
            9.540368366441738
           ],
           "type": "scatter"
          },
          {
           "hoverinfo": "text",
           "marker": {
            "opacity": 1,
            "size": 1
           },
           "mode": "markers",
           "showlegend": false,
           "text": [
            "ID: 178, Pos(3.04,7.98)"
           ],
           "x": [
            3.0397002424966564
           ],
           "y": [
            7.982098276606271
           ],
           "type": "scatter"
          },
          {
           "hoverinfo": "text",
           "marker": {
            "opacity": 1,
            "size": 1
           },
           "mode": "markers",
           "showlegend": false,
           "text": [
            "ID: 179, Pos(2.45,9.77)"
           ],
           "x": [
            2.450252796528598
           ],
           "y": [
            9.769412298632334
           ],
           "type": "scatter"
          },
          {
           "hoverinfo": "text",
           "marker": {
            "opacity": 1,
            "size": 1
           },
           "mode": "markers",
           "showlegend": false,
           "text": [
            "ID: 180, Pos(2.37,7.41)"
           ],
           "x": [
            2.3707140438571472
           ],
           "y": [
            7.409155238682809
           ],
           "type": "scatter"
          }
         ],
         "layout": {
          "shapes": [
           {
            "fillcolor": "rgba(0, 56, 255, 0.5)",
            "line": {
             "color": "rgba(0, 56, 255, 0.5)"
            },
            "type": "circle",
            "x0": 2.7592726658313316,
            "x1": 3.159272665831332,
            "xref": "x",
            "y0": 8.831501936935705,
            "y1": 9.231501936935704,
            "yref": "y"
           },
           {
            "fillcolor": "rgba(0, 0, 128, 0.5)",
            "line": {
             "color": "rgba(0, 0, 128, 0.5)"
            },
            "type": "circle",
            "x0": 1.7636308606114932,
            "x1": 2.163630860611493,
            "xref": "x",
            "y0": 8.814482111028068,
            "y1": 9.214482111028067,
            "yref": "y"
           },
           {
            "fillcolor": "rgba(0, 0, 205, 0.5)",
            "line": {
             "color": "rgba(0, 0, 205, 0.5)"
            },
            "type": "circle",
            "x0": 2.127664489392784,
            "x1": 2.527664489392784,
            "xref": "x",
            "y0": 6.060023957864764,
            "y1": 6.460023957864764,
            "yref": "y"
           },
           {
            "fillcolor": "rgba(125, 255, 122, 0.5)",
            "line": {
             "color": "rgba(125, 255, 122, 0.5)"
            },
            "type": "circle",
            "x0": 3.409859830844313,
            "x1": 3.8098598308443132,
            "xref": "x",
            "y0": 8.502422147731941,
            "y1": 8.90242214773194,
            "yref": "y"
           },
           {
            "fillcolor": "rgba(0, 0, 137, 0.5)",
            "line": {
             "color": "rgba(0, 0, 137, 0.5)"
            },
            "type": "circle",
            "x0": 2.2894272719409905,
            "x1": 2.689427271940991,
            "xref": "x",
            "y0": 8.376895989714226,
            "y1": 8.776895989714225,
            "yref": "y"
           },
           {
            "fillcolor": "rgba(0, 0, 128, 0.5)",
            "line": {
             "color": "rgba(0, 0, 128, 0.5)"
            },
            "type": "circle",
            "x0": 2.8694956233792173,
            "x1": 3.2694956233792176,
            "xref": "x",
            "y0": 9.896449727965214,
            "y1": 10.296449727965213,
            "yref": "y"
           },
           {
            "fillcolor": "rgba(112, 255, 135, 0.5)",
            "line": {
             "color": "rgba(112, 255, 135, 0.5)"
            },
            "type": "circle",
            "x0": 3.4566615602173205,
            "x1": 3.856661560217321,
            "xref": "x",
            "y0": 9.340368366441739,
            "y1": 9.740368366441738,
            "yref": "y"
           },
           {
            "fillcolor": "rgba(0, 80, 255, 0.5)",
            "line": {
             "color": "rgba(0, 80, 255, 0.5)"
            },
            "type": "circle",
            "x0": 2.839700242496656,
            "x1": 3.2397002424966566,
            "xref": "x",
            "y0": 7.782098276606271,
            "y1": 8.18209827660627,
            "yref": "y"
           },
           {
            "fillcolor": "rgba(0, 0, 128, 0.5)",
            "line": {
             "color": "rgba(0, 0, 128, 0.5)"
            },
            "type": "circle",
            "x0": 2.250252796528598,
            "x1": 2.6502527965285982,
            "xref": "x",
            "y0": 9.569412298632335,
            "y1": 9.969412298632333,
            "yref": "y"
           },
           {
            "fillcolor": "rgba(0, 0, 168, 0.5)",
            "line": {
             "color": "rgba(0, 0, 168, 0.5)"
            },
            "type": "circle",
            "x0": 2.170714043857147,
            "x1": 2.5707140438571474,
            "xref": "x",
            "y0": 7.209155238682809,
            "y1": 7.609155238682809,
            "yref": "y"
           },
           {
            "line": {
             "color": "white",
             "width": 3
            },
            "type": "line",
            "x0": 2.9592726658313318,
            "x1": 2.9462656549761994,
            "y0": 9.031501936935705,
            "y1": 9.23107853292986
           },
           {
            "line": {
             "color": "white",
             "width": 3
            },
            "type": "line",
            "x0": 1.9636308606114932,
            "x1": 1.9672281118100365,
            "y0": 9.014482111028068,
            "y1": 9.214449757870787
           },
           {
            "line": {
             "color": "white",
             "width": 3
            },
            "type": "line",
            "x0": 2.327664489392784,
            "x1": 2.3331830192962473,
            "y0": 6.260023957864764,
            "y1": 6.459947807936997
           },
           {
            "line": {
             "color": "black",
             "width": 3
            },
            "type": "line",
            "x0": 3.609859830844313,
            "x1": 3.56951136755517,
            "y0": 8.70242214773194,
            "y1": 8.89830987453024
           },
           {
            "line": {
             "color": "white",
             "width": 3
            },
            "type": "line",
            "x0": 2.4894272719409907,
            "x1": 2.474628096902224,
            "y0": 8.576895989714226,
            "y1": 8.776347699203445
           },
           {
            "line": {
             "color": "white",
             "width": 3
            },
            "type": "line",
            "x0": 3.0694956233792174,
            "x1": 3.0387638388688454,
            "y0": 10.096449727965213,
            "y1": 10.294074517454812
           },
           {
            "line": {
             "color": "black",
             "width": 3
            },
            "type": "line",
            "x0": 3.6566615602173207,
            "x1": 3.509036711622744,
            "y0": 9.540368366441738,
            "y1": 9.67530132786121
           },
           {
            "line": {
             "color": "white",
             "width": 3
            },
            "type": "line",
            "x0": 3.0397002424966564,
            "x1": 3.022746393633123,
            "y0": 7.982098276606271,
            "y1": 8.181378398567073
           },
           {
            "line": {
             "color": "white",
             "width": 3
            },
            "type": "line",
            "x0": 2.450252796528598,
            "x1": 2.4303090471283375,
            "y0": 9.769412298632334,
            "y1": 9.968415431421393
           },
           {
            "line": {
             "color": "white",
             "width": 3
            },
            "type": "line",
            "x0": 2.3707140438571472,
            "x1": 2.3726184334649787,
            "y0": 7.409155238682809,
            "y1": 7.609146171727838
           }
          ],
          "title": {
           "text": "<b>Percentage using the shortest path: 0%  |  Number of Agents: 10</b>",
           "x": 0.5
          }
         },
         "name": "250"
        },
        {
         "data": [
          {
           "hoverinfo": "name",
           "line": {
            "color": "white"
           },
           "mode": "lines",
           "name": "Exterior",
           "showlegend": false,
           "x": [
            10.1,
            10.1,
            15.0,
            15.0,
            13.6,
            13.6,
            15.0,
            15.0,
            13.6,
            13.6,
            15.0,
            15.0,
            10.1,
            10.1,
            9.9,
            9.9,
            5.1,
            5.1,
            4.9,
            4.9,
            0.0,
            0.0,
            1.5,
            1.5,
            0.0,
            0.0,
            1.5,
            1.5,
            0.0,
            0.0,
            4.9,
            4.9,
            5.1,
            5.1,
            9.9,
            9.9,
            10.1
           ],
           "y": [
            1.5,
            0.0,
            0.0,
            4.9,
            4.9,
            5.1,
            5.1,
            9.9,
            9.9,
            10.1,
            10.1,
            15.0,
            15.0,
            13.6,
            13.6,
            15.0,
            15.0,
            13.6,
            13.6,
            15.0,
            15.0,
            10.1,
            10.1,
            9.9,
            9.9,
            5.1,
            5.1,
            4.9,
            4.9,
            0.0,
            0.0,
            1.5,
            1.5,
            0.0,
            0.0,
            1.5,
            1.5
           ],
           "type": "scatter"
          },
          {
           "hoverinfo": "name",
           "line": {
            "color": "white"
           },
           "mode": "lines",
           "name": "Obstacle",
           "showlegend": false,
           "x": [
            10.1,
            11.5,
            11.5,
            10.1,
            10.1,
            9.9,
            9.9,
            8.6,
            8.6,
            9.9,
            9.9,
            10.1,
            10.1
           ],
           "y": [
            5.1,
            5.1,
            4.9,
            4.9,
            3.6,
            3.6,
            4.9,
            4.9,
            5.1,
            5.1,
            6.5,
            6.5,
            5.1
           ],
           "type": "scatter"
          },
          {
           "hoverinfo": "name",
           "line": {
            "color": "white"
           },
           "mode": "lines",
           "name": "Obstacle",
           "showlegend": false,
           "x": [
            10.1,
            11.5,
            11.5,
            10.1,
            10.1,
            9.9,
            9.9,
            8.6,
            8.6,
            9.9,
            9.9,
            10.1,
            10.1
           ],
           "y": [
            10.1,
            10.1,
            9.9,
            9.9,
            8.6,
            8.6,
            9.9,
            9.9,
            10.1,
            10.1,
            11.5,
            11.5,
            10.1
           ],
           "type": "scatter"
          },
          {
           "hoverinfo": "name",
           "line": {
            "color": "white"
           },
           "mode": "lines",
           "name": "Obstacle",
           "showlegend": false,
           "x": [
            5.1,
            6.4,
            6.4,
            5.1,
            5.1,
            4.9,
            4.9,
            3.6,
            3.6,
            4.9,
            4.9,
            5.1,
            5.1
           ],
           "y": [
            5.1,
            5.1,
            4.9,
            4.9,
            3.6,
            3.6,
            4.9,
            4.9,
            5.1,
            5.1,
            6.5,
            6.5,
            5.1
           ],
           "type": "scatter"
          },
          {
           "hoverinfo": "name",
           "line": {
            "color": "white"
           },
           "mode": "lines",
           "name": "Obstacle",
           "showlegend": false,
           "x": [
            5.1,
            6.4,
            6.4,
            5.1,
            5.1,
            4.9,
            4.9,
            3.6,
            3.6,
            4.9,
            4.9,
            5.1,
            5.1
           ],
           "y": [
            10.1,
            10.1,
            9.9,
            9.9,
            8.6,
            8.6,
            9.9,
            9.9,
            10.1,
            10.1,
            11.5,
            11.5,
            10.1
           ],
           "type": "scatter"
          },
          {
           "fill": "toself",
           "fillcolor": "rgb(0, 0, 0)",
           "hoverinfo": "name",
           "line": {
            "width": 0
           },
           "mode": "lines",
           "name": "Risk Area",
           "showlegend": false,
           "x": [
            1.5,
            1.5,
            3.6,
            3.6,
            4.9,
            4.9,
            5.0,
            5.0,
            4.9,
            4.9,
            0.0,
            0.0,
            1.5
           ],
           "y": [
            4.9,
            5.0,
            5.0,
            4.9,
            4.9,
            3.6,
            3.6,
            1.5,
            1.5,
            0.0,
            0.0,
            4.9,
            4.9
           ],
           "type": "scatter"
          },
          {
           "fill": "toself",
           "fillcolor": "rgb(178, 0, 0)",
           "hoverinfo": "name",
           "line": {
            "width": 0
           },
           "mode": "lines",
           "name": "Risk Area",
           "showlegend": false,
           "x": [
            9.9,
            9.9,
            5.1,
            5.1,
            5.0,
            5.0,
            5.1,
            5.1,
            6.4,
            6.4,
            8.6,
            8.6,
            9.9,
            9.9,
            10.0,
            10.0,
            9.9
           ],
           "y": [
            1.5,
            0.0,
            0.0,
            1.5,
            1.5,
            3.6,
            3.6,
            4.9,
            4.9,
            5.0,
            5.0,
            4.9,
            4.9,
            3.6,
            3.6,
            1.5,
            1.5
           ],
           "type": "scatter"
          },
          {
           "fill": "toself",
           "fillcolor": "rgb(0, 0, 0)",
           "hoverinfo": "name",
           "line": {
            "width": 0
           },
           "mode": "lines",
           "name": "Risk Area",
           "showlegend": false,
           "x": [
            13.6,
            15.0,
            15.0,
            10.1,
            10.1,
            10.0,
            10.0,
            10.1,
            10.1,
            11.5,
            11.5,
            13.6,
            13.6
           ],
           "y": [
            4.9,
            4.9,
            0.0,
            0.0,
            1.5,
            1.5,
            3.6,
            3.6,
            4.9,
            4.9,
            5.0,
            5.0,
            4.9
           ],
           "type": "scatter"
          },
          {
           "fill": "toself",
           "fillcolor": "rgb(153, 0, 0)",
           "hoverinfo": "name",
           "line": {
            "width": 0
           },
           "mode": "lines",
           "name": "Risk Area",
           "showlegend": false,
           "x": [
            13.6,
            15.0,
            15.0,
            13.6,
            13.6,
            11.5,
            11.5,
            10.1,
            10.1,
            10.0,
            10.0,
            10.1,
            10.1,
            11.5,
            11.5,
            13.6,
            13.6
           ],
           "y": [
            9.9,
            9.9,
            5.1,
            5.1,
            5.0,
            5.0,
            5.1,
            5.1,
            6.5,
            6.5,
            8.6,
            8.6,
            9.9,
            9.9,
            10.0,
            10.0,
            9.9
           ],
           "type": "scatter"
          },
          {
           "fill": "toself",
           "fillcolor": "rgb(204, 0, 0)",
           "hoverinfo": "name",
           "line": {
            "width": 0
           },
           "mode": "lines",
           "name": "Risk Area",
           "showlegend": false,
           "x": [
            9.9,
            9.9,
            8.6,
            8.6,
            6.4,
            6.4,
            5.1,
            5.1,
            5.0,
            5.0,
            5.1,
            5.1,
            6.4,
            6.4,
            8.6,
            8.6,
            9.9,
            9.9,
            10.0,
            10.0,
            9.9
           ],
           "y": [
            6.5,
            5.1,
            5.1,
            5.0,
            5.0,
            5.1,
            5.1,
            6.5,
            6.5,
            8.6,
            8.6,
            9.9,
            9.9,
            10.0,
            10.0,
            9.9,
            9.9,
            8.6,
            8.6,
            6.5,
            6.5
           ],
           "type": "scatter"
          },
          {
           "fill": "toself",
           "fillcolor": "rgb(25, 0, 0)",
           "hoverinfo": "name",
           "line": {
            "width": 0
           },
           "mode": "lines",
           "name": "Risk Area",
           "showlegend": false,
           "x": [
            4.9,
            4.9,
            3.6,
            3.6,
            1.5,
            1.5,
            0.0,
            0.0,
            1.5,
            1.5,
            3.6,
            3.6,
            4.9,
            4.9,
            5.0,
            5.0,
            4.9
           ],
           "y": [
            6.5,
            5.1,
            5.1,
            5.0,
            5.0,
            5.1,
            5.1,
            9.9,
            9.9,
            10.0,
            10.0,
            9.9,
            9.9,
            8.6,
            8.6,
            6.5,
            6.5
           ],
           "type": "scatter"
          },
          {
           "fill": "toself",
           "fillcolor": "rgb(25, 0, 0)",
           "hoverinfo": "name",
           "line": {
            "width": 0
           },
           "mode": "lines",
           "name": "Risk Area",
           "showlegend": false,
           "x": [
            1.5,
            0.0,
            0.0,
            4.9,
            4.9,
            5.0,
            5.0,
            4.9,
            4.9,
            3.6,
            3.6,
            1.5,
            1.5
           ],
           "y": [
            10.1,
            10.1,
            15.0,
            15.0,
            13.6,
            13.6,
            11.5,
            11.5,
            10.1,
            10.1,
            10.0,
            10.0,
            10.1
           ],
           "type": "scatter"
          },
          {
           "fill": "toself",
           "fillcolor": "rgb(0, 0, 0)",
           "hoverinfo": "name",
           "line": {
            "width": 0
           },
           "mode": "lines",
           "name": "Risk Area",
           "showlegend": false,
           "x": [
            6.4,
            5.1,
            5.1,
            5.0,
            5.0,
            5.1,
            5.1,
            9.9,
            9.9,
            10.0,
            10.0,
            9.9,
            9.9,
            8.6,
            8.6,
            6.4,
            6.4
           ],
           "y": [
            10.1,
            10.1,
            11.5,
            11.5,
            13.6,
            13.6,
            15.0,
            15.0,
            13.6,
            13.6,
            11.5,
            11.5,
            10.1,
            10.1,
            10.0,
            10.0,
            10.1
           ],
           "type": "scatter"
          },
          {
           "fill": "toself",
           "fillcolor": "rgb(0, 0, 0)",
           "hoverinfo": "name",
           "line": {
            "width": 0
           },
           "mode": "lines",
           "name": "Risk Area",
           "showlegend": false,
           "x": [
            10.1,
            10.1,
            15.0,
            15.0,
            13.6,
            13.6,
            11.5,
            11.5,
            10.1,
            10.1,
            10.0,
            10.0,
            10.1
           ],
           "y": [
            13.6,
            15.0,
            15.0,
            10.1,
            10.1,
            10.0,
            10.0,
            10.1,
            10.1,
            11.5,
            11.5,
            13.6,
            13.6
           ],
           "type": "scatter"
          },
          {
           "hoverinfo": "text",
           "marker": {
            "opacity": 1,
            "size": 1
           },
           "mode": "markers",
           "showlegend": false,
           "text": [
            "ID: 171, Pos(2.63,10.22)"
           ],
           "x": [
            2.631813128910917
           ],
           "y": [
            10.215084438144187
           ],
           "type": "scatter"
          },
          {
           "hoverinfo": "text",
           "marker": {
            "opacity": 1,
            "size": 1
           },
           "mode": "markers",
           "showlegend": false,
           "text": [
            "ID: 172, Pos(2.01,10.36)"
           ],
           "x": [
            2.006415782702154
           ],
           "y": [
            10.361754401699745
           ],
           "type": "scatter"
          },
          {
           "hoverinfo": "text",
           "marker": {
            "opacity": 1,
            "size": 1
           },
           "mode": "markers",
           "showlegend": false,
           "text": [
            "ID: 173, Pos(2.37,7.65)"
           ],
           "x": [
            2.366229288888349
           ],
           "y": [
            7.654274992711588
           ],
           "type": "scatter"
          },
          {
           "hoverinfo": "text",
           "marker": {
            "opacity": 1,
            "size": 1
           },
           "mode": "markers",
           "showlegend": false,
           "text": [
            "ID: 174, Pos(3.44,9.59)"
           ],
           "x": [
            3.4378204440070337
           ],
           "y": [
            9.594103578890183
           ],
           "type": "scatter"
          },
          {
           "hoverinfo": "text",
           "marker": {
            "opacity": 1,
            "size": 1
           },
           "mode": "markers",
           "showlegend": false,
           "text": [
            "ID: 175, Pos(2.35,9.49)"
           ],
           "x": [
            2.3510026401363775
           ],
           "y": [
            9.492270575268956
           ],
           "type": "scatter"
          },
          {
           "hoverinfo": "text",
           "marker": {
            "opacity": 1,
            "size": 1
           },
           "mode": "markers",
           "showlegend": false,
           "text": [
            "ID: 176, Pos(3.53,11.27)"
           ],
           "x": [
            3.528448562683578
           ],
           "y": [
            11.267894135580253
           ],
           "type": "scatter"
          },
          {
           "hoverinfo": "text",
           "marker": {
            "opacity": 1,
            "size": 1
           },
           "mode": "markers",
           "showlegend": false,
           "text": [
            "ID: 177, Pos(3.19,10.46)"
           ],
           "x": [
            3.190956694763647
           ],
           "y": [
            10.456591795446277
           ],
           "type": "scatter"
          },
          {
           "hoverinfo": "text",
           "marker": {
            "opacity": 1,
            "size": 1
           },
           "mode": "markers",
           "showlegend": false,
           "text": [
            "ID: 178, Pos(2.93,9.24)"
           ],
           "x": [
            2.9286838574089065
           ],
           "y": [
            9.244968102506055
           ],
           "type": "scatter"
          },
          {
           "hoverinfo": "text",
           "marker": {
            "opacity": 1,
            "size": 1
           },
           "mode": "markers",
           "showlegend": false,
           "text": [
            "ID: 179, Pos(2.58,11.08)"
           ],
           "x": [
            2.575740599899485
           ],
           "y": [
            11.08110316356519
           ],
           "type": "scatter"
          },
          {
           "hoverinfo": "text",
           "marker": {
            "opacity": 1,
            "size": 1
           },
           "mode": "markers",
           "showlegend": false,
           "text": [
            "ID: 180, Pos(2.37,8.63)"
           ],
           "x": [
            2.365923515632747
           ],
           "y": [
            8.625906074290896
           ],
           "type": "scatter"
          }
         ],
         "layout": {
          "shapes": [
           {
            "fillcolor": "rgba(83, 255, 164, 0.5)",
            "line": {
             "color": "rgba(83, 255, 164, 0.5)"
            },
            "type": "circle",
            "x0": 2.4318131289109166,
            "x1": 2.831813128910917,
            "xref": "x",
            "y0": 10.015084438144187,
            "y1": 10.415084438144186,
            "yref": "y"
           },
           {
            "fillcolor": "rgba(0, 0, 128, 0.5)",
            "line": {
             "color": "rgba(0, 0, 128, 0.5)"
            },
            "type": "circle",
            "x0": 1.8064157827021539,
            "x1": 2.206415782702154,
            "xref": "x",
            "y0": 10.161754401699746,
            "y1": 10.561754401699744,
            "yref": "y"
           },
           {
            "fillcolor": "rgba(0, 192, 255, 0.5)",
            "line": {
             "color": "rgba(0, 192, 255, 0.5)"
            },
            "type": "circle",
            "x0": 2.1662292888883488,
            "x1": 2.566229288888349,
            "xref": "x",
            "y0": 7.4542749927115874,
            "y1": 7.854274992711588,
            "yref": "y"
           },
           {
            "fillcolor": "rgba(44, 255, 202, 0.5)",
            "line": {
             "color": "rgba(44, 255, 202, 0.5)"
            },
            "type": "circle",
            "x0": 3.2378204440070335,
            "x1": 3.637820444007034,
            "xref": "x",
            "y0": 9.394103578890183,
            "y1": 9.794103578890182,
            "yref": "y"
           },
           {
            "fillcolor": "rgba(19, 252, 228, 0.5)",
            "line": {
             "color": "rgba(19, 252, 228, 0.5)"
            },
            "type": "circle",
            "x0": 2.1510026401363773,
            "x1": 2.5510026401363777,
            "xref": "x",
            "y0": 9.292270575268956,
            "y1": 9.692270575268955,
            "yref": "y"
           },
           {
            "fillcolor": "rgba(0, 0, 128, 0.5)",
            "line": {
             "color": "rgba(0, 0, 128, 0.5)"
            },
            "type": "circle",
            "x0": 3.328448562683578,
            "x1": 3.728448562683578,
            "xref": "x",
            "y0": 11.067894135580254,
            "y1": 11.467894135580252,
            "yref": "y"
           },
           {
            "fillcolor": "rgba(0, 160, 255, 0.5)",
            "line": {
             "color": "rgba(0, 160, 255, 0.5)"
            },
            "type": "circle",
            "x0": 2.990956694763647,
            "x1": 3.390956694763647,
            "xref": "x",
            "y0": 10.256591795446278,
            "y1": 10.656591795446277,
            "yref": "y"
           },
           {
            "fillcolor": "rgba(0, 140, 255, 0.5)",
            "line": {
             "color": "rgba(0, 140, 255, 0.5)"
            },
            "type": "circle",
            "x0": 2.7286838574089063,
            "x1": 3.1286838574089066,
            "xref": "x",
            "y0": 9.044968102506056,
            "y1": 9.444968102506055,
            "yref": "y"
           },
           {
            "fillcolor": "rgba(0, 200, 255, 0.5)",
            "line": {
             "color": "rgba(0, 200, 255, 0.5)"
            },
            "type": "circle",
            "x0": 2.3757405998994847,
            "x1": 2.775740599899485,
            "xref": "x",
            "y0": 10.881103163565191,
            "y1": 11.28110316356519,
            "yref": "y"
           },
           {
            "fillcolor": "rgba(93, 255, 154, 0.5)",
            "line": {
             "color": "rgba(93, 255, 154, 0.5)"
            },
            "type": "circle",
            "x0": 2.165923515632747,
            "x1": 2.5659235156327473,
            "xref": "x",
            "y0": 8.425906074290896,
            "y1": 8.825906074290895,
            "yref": "y"
           },
           {
            "line": {
             "color": "black",
             "width": 3
            },
            "type": "line",
            "x0": 2.631813128910917,
            "x1": 2.606122599236267,
            "y0": 10.215084438144187,
            "y1": 10.41342756680015
           },
           {
            "line": {
             "color": "white",
             "width": 3
            },
            "type": "line",
            "x0": 2.006415782702154,
            "x1": 2.004578714048007,
            "y0": 10.361754401699745,
            "y1": 10.561745964468678
           },
           {
            "line": {
             "color": "black",
             "width": 3
            },
            "type": "line",
            "x0": 2.366229288888349,
            "x1": 2.371795500320769,
            "y0": 7.654274992711588,
            "y1": 7.854197520932621
           },
           {
            "line": {
             "color": "black",
             "width": 3
            },
            "type": "line",
            "x0": 3.4378204440070337,
            "x1": 3.3555196755649943,
            "y0": 9.594103578890183,
            "y1": 9.776385183869538
           },
           {
            "line": {
             "color": "black",
             "width": 3
            },
            "type": "line",
            "x0": 2.3510026401363775,
            "x1": 2.3113152826883887,
            "y0": 9.492270575268956,
            "y1": 9.68829331287558
           },
           {
            "line": {
             "color": "white",
             "width": 3
            },
            "type": "line",
            "x0": 3.528448562683578,
            "x1": 3.718239562562676,
            "y0": 11.267894135580253,
            "y1": 11.33097643392846
           },
           {
            "line": {
             "color": "white",
             "width": 3
            },
            "type": "line",
            "x0": 3.190956694763647,
            "x1": 3.185483697498093,
            "y0": 10.456591795446277,
            "y1": 10.656516897174228
           },
           {
            "line": {
             "color": "white",
             "width": 3
            },
            "type": "line",
            "x0": 2.9286838574089065,
            "x1": 2.9011626820169174,
            "y0": 9.244968102506055,
            "y1": 9.443065515172258
           },
           {
            "line": {
             "color": "black",
             "width": 3
            },
            "type": "line",
            "x0": 2.575740599899485,
            "x1": 2.764871888376784,
            "y0": 11.08110316356519,
            "y1": 11.146136660464224
           },
           {
            "line": {
             "color": "black",
             "width": 3
            },
            "type": "line",
            "x0": 2.365923515632747,
            "x1": 2.368538725474265,
            "y0": 8.625906074290896,
            "y1": 8.825888975253665
           }
          ],
          "title": {
           "text": "<b>Percentage using the shortest path: 0%  |  Number of Agents: 10</b>",
           "x": 0.5
          }
         },
         "name": "300"
        },
        {
         "data": [
          {
           "hoverinfo": "name",
           "line": {
            "color": "white"
           },
           "mode": "lines",
           "name": "Exterior",
           "showlegend": false,
           "x": [
            10.1,
            10.1,
            15.0,
            15.0,
            13.6,
            13.6,
            15.0,
            15.0,
            13.6,
            13.6,
            15.0,
            15.0,
            10.1,
            10.1,
            9.9,
            9.9,
            5.1,
            5.1,
            4.9,
            4.9,
            0.0,
            0.0,
            1.5,
            1.5,
            0.0,
            0.0,
            1.5,
            1.5,
            0.0,
            0.0,
            4.9,
            4.9,
            5.1,
            5.1,
            9.9,
            9.9,
            10.1
           ],
           "y": [
            1.5,
            0.0,
            0.0,
            4.9,
            4.9,
            5.1,
            5.1,
            9.9,
            9.9,
            10.1,
            10.1,
            15.0,
            15.0,
            13.6,
            13.6,
            15.0,
            15.0,
            13.6,
            13.6,
            15.0,
            15.0,
            10.1,
            10.1,
            9.9,
            9.9,
            5.1,
            5.1,
            4.9,
            4.9,
            0.0,
            0.0,
            1.5,
            1.5,
            0.0,
            0.0,
            1.5,
            1.5
           ],
           "type": "scatter"
          },
          {
           "hoverinfo": "name",
           "line": {
            "color": "white"
           },
           "mode": "lines",
           "name": "Obstacle",
           "showlegend": false,
           "x": [
            10.1,
            11.5,
            11.5,
            10.1,
            10.1,
            9.9,
            9.9,
            8.6,
            8.6,
            9.9,
            9.9,
            10.1,
            10.1
           ],
           "y": [
            5.1,
            5.1,
            4.9,
            4.9,
            3.6,
            3.6,
            4.9,
            4.9,
            5.1,
            5.1,
            6.5,
            6.5,
            5.1
           ],
           "type": "scatter"
          },
          {
           "hoverinfo": "name",
           "line": {
            "color": "white"
           },
           "mode": "lines",
           "name": "Obstacle",
           "showlegend": false,
           "x": [
            10.1,
            11.5,
            11.5,
            10.1,
            10.1,
            9.9,
            9.9,
            8.6,
            8.6,
            9.9,
            9.9,
            10.1,
            10.1
           ],
           "y": [
            10.1,
            10.1,
            9.9,
            9.9,
            8.6,
            8.6,
            9.9,
            9.9,
            10.1,
            10.1,
            11.5,
            11.5,
            10.1
           ],
           "type": "scatter"
          },
          {
           "hoverinfo": "name",
           "line": {
            "color": "white"
           },
           "mode": "lines",
           "name": "Obstacle",
           "showlegend": false,
           "x": [
            5.1,
            6.4,
            6.4,
            5.1,
            5.1,
            4.9,
            4.9,
            3.6,
            3.6,
            4.9,
            4.9,
            5.1,
            5.1
           ],
           "y": [
            5.1,
            5.1,
            4.9,
            4.9,
            3.6,
            3.6,
            4.9,
            4.9,
            5.1,
            5.1,
            6.5,
            6.5,
            5.1
           ],
           "type": "scatter"
          },
          {
           "hoverinfo": "name",
           "line": {
            "color": "white"
           },
           "mode": "lines",
           "name": "Obstacle",
           "showlegend": false,
           "x": [
            5.1,
            6.4,
            6.4,
            5.1,
            5.1,
            4.9,
            4.9,
            3.6,
            3.6,
            4.9,
            4.9,
            5.1,
            5.1
           ],
           "y": [
            10.1,
            10.1,
            9.9,
            9.9,
            8.6,
            8.6,
            9.9,
            9.9,
            10.1,
            10.1,
            11.5,
            11.5,
            10.1
           ],
           "type": "scatter"
          },
          {
           "fill": "toself",
           "fillcolor": "rgb(0, 0, 0)",
           "hoverinfo": "name",
           "line": {
            "width": 0
           },
           "mode": "lines",
           "name": "Risk Area",
           "showlegend": false,
           "x": [
            1.5,
            1.5,
            3.6,
            3.6,
            4.9,
            4.9,
            5.0,
            5.0,
            4.9,
            4.9,
            0.0,
            0.0,
            1.5
           ],
           "y": [
            4.9,
            5.0,
            5.0,
            4.9,
            4.9,
            3.6,
            3.6,
            1.5,
            1.5,
            0.0,
            0.0,
            4.9,
            4.9
           ],
           "type": "scatter"
          },
          {
           "fill": "toself",
           "fillcolor": "rgb(178, 0, 0)",
           "hoverinfo": "name",
           "line": {
            "width": 0
           },
           "mode": "lines",
           "name": "Risk Area",
           "showlegend": false,
           "x": [
            9.9,
            9.9,
            5.1,
            5.1,
            5.0,
            5.0,
            5.1,
            5.1,
            6.4,
            6.4,
            8.6,
            8.6,
            9.9,
            9.9,
            10.0,
            10.0,
            9.9
           ],
           "y": [
            1.5,
            0.0,
            0.0,
            1.5,
            1.5,
            3.6,
            3.6,
            4.9,
            4.9,
            5.0,
            5.0,
            4.9,
            4.9,
            3.6,
            3.6,
            1.5,
            1.5
           ],
           "type": "scatter"
          },
          {
           "fill": "toself",
           "fillcolor": "rgb(25, 0, 0)",
           "hoverinfo": "name",
           "line": {
            "width": 0
           },
           "mode": "lines",
           "name": "Risk Area",
           "showlegend": false,
           "x": [
            13.6,
            15.0,
            15.0,
            10.1,
            10.1,
            10.0,
            10.0,
            10.1,
            10.1,
            11.5,
            11.5,
            13.6,
            13.6
           ],
           "y": [
            4.9,
            4.9,
            0.0,
            0.0,
            1.5,
            1.5,
            3.6,
            3.6,
            4.9,
            4.9,
            5.0,
            5.0,
            4.9
           ],
           "type": "scatter"
          },
          {
           "fill": "toself",
           "fillcolor": "rgb(178, 0, 0)",
           "hoverinfo": "name",
           "line": {
            "width": 0
           },
           "mode": "lines",
           "name": "Risk Area",
           "showlegend": false,
           "x": [
            13.6,
            15.0,
            15.0,
            13.6,
            13.6,
            11.5,
            11.5,
            10.1,
            10.1,
            10.0,
            10.0,
            10.1,
            10.1,
            11.5,
            11.5,
            13.6,
            13.6
           ],
           "y": [
            9.9,
            9.9,
            5.1,
            5.1,
            5.0,
            5.0,
            5.1,
            5.1,
            6.5,
            6.5,
            8.6,
            8.6,
            9.9,
            9.9,
            10.0,
            10.0,
            9.9
           ],
           "type": "scatter"
          },
          {
           "fill": "toself",
           "fillcolor": "rgb(204, 0, 0)",
           "hoverinfo": "name",
           "line": {
            "width": 0
           },
           "mode": "lines",
           "name": "Risk Area",
           "showlegend": false,
           "x": [
            9.9,
            9.9,
            8.6,
            8.6,
            6.4,
            6.4,
            5.1,
            5.1,
            5.0,
            5.0,
            5.1,
            5.1,
            6.4,
            6.4,
            8.6,
            8.6,
            9.9,
            9.9,
            10.0,
            10.0,
            9.9
           ],
           "y": [
            6.5,
            5.1,
            5.1,
            5.0,
            5.0,
            5.1,
            5.1,
            6.5,
            6.5,
            8.6,
            8.6,
            9.9,
            9.9,
            10.0,
            10.0,
            9.9,
            9.9,
            8.6,
            8.6,
            6.5,
            6.5
           ],
           "type": "scatter"
          },
          {
           "fill": "toself",
           "fillcolor": "rgb(25, 0, 0)",
           "hoverinfo": "name",
           "line": {
            "width": 0
           },
           "mode": "lines",
           "name": "Risk Area",
           "showlegend": false,
           "x": [
            4.9,
            4.9,
            3.6,
            3.6,
            1.5,
            1.5,
            0.0,
            0.0,
            1.5,
            1.5,
            3.6,
            3.6,
            4.9,
            4.9,
            5.0,
            5.0,
            4.9
           ],
           "y": [
            6.5,
            5.1,
            5.1,
            5.0,
            5.0,
            5.1,
            5.1,
            9.9,
            9.9,
            10.0,
            10.0,
            9.9,
            9.9,
            8.6,
            8.6,
            6.5,
            6.5
           ],
           "type": "scatter"
          },
          {
           "fill": "toself",
           "fillcolor": "rgb(51, 0, 0)",
           "hoverinfo": "name",
           "line": {
            "width": 0
           },
           "mode": "lines",
           "name": "Risk Area",
           "showlegend": false,
           "x": [
            1.5,
            0.0,
            0.0,
            4.9,
            4.9,
            5.0,
            5.0,
            4.9,
            4.9,
            3.6,
            3.6,
            1.5,
            1.5
           ],
           "y": [
            10.1,
            10.1,
            15.0,
            15.0,
            13.6,
            13.6,
            11.5,
            11.5,
            10.1,
            10.1,
            10.0,
            10.0,
            10.1
           ],
           "type": "scatter"
          },
          {
           "fill": "toself",
           "fillcolor": "rgb(0, 0, 0)",
           "hoverinfo": "name",
           "line": {
            "width": 0
           },
           "mode": "lines",
           "name": "Risk Area",
           "showlegend": false,
           "x": [
            6.4,
            5.1,
            5.1,
            5.0,
            5.0,
            5.1,
            5.1,
            9.9,
            9.9,
            10.0,
            10.0,
            9.9,
            9.9,
            8.6,
            8.6,
            6.4,
            6.4
           ],
           "y": [
            10.1,
            10.1,
            11.5,
            11.5,
            13.6,
            13.6,
            15.0,
            15.0,
            13.6,
            13.6,
            11.5,
            11.5,
            10.1,
            10.1,
            10.0,
            10.0,
            10.1
           ],
           "type": "scatter"
          },
          {
           "fill": "toself",
           "fillcolor": "rgb(0, 0, 0)",
           "hoverinfo": "name",
           "line": {
            "width": 0
           },
           "mode": "lines",
           "name": "Risk Area",
           "showlegend": false,
           "x": [
            10.1,
            10.1,
            15.0,
            15.0,
            13.6,
            13.6,
            11.5,
            11.5,
            10.1,
            10.1,
            10.0,
            10.0,
            10.1
           ],
           "y": [
            13.6,
            15.0,
            15.0,
            10.1,
            10.1,
            10.0,
            10.0,
            10.1,
            10.1,
            11.5,
            11.5,
            13.6,
            13.6
           ],
           "type": "scatter"
          },
          {
           "hoverinfo": "text",
           "marker": {
            "opacity": 1,
            "size": 1
           },
           "mode": "markers",
           "showlegend": false,
           "text": [
            "ID: 171, Pos(3.00,11.10)"
           ],
           "x": [
            3.0013101965546434
           ],
           "y": [
            11.101214292186176
           ],
           "type": "scatter"
          },
          {
           "hoverinfo": "text",
           "marker": {
            "opacity": 1,
            "size": 1
           },
           "mode": "markers",
           "showlegend": false,
           "text": [
            "ID: 172, Pos(2.65,11.59)"
           ],
           "x": [
            2.647069905512061
           ],
           "y": [
            11.592306198707396
           ],
           "type": "scatter"
          },
          {
           "hoverinfo": "text",
           "marker": {
            "opacity": 1,
            "size": 1
           },
           "mode": "markers",
           "showlegend": false,
           "text": [
            "ID: 173, Pos(2.40,8.75)"
           ],
           "x": [
            2.3969910911499683
           ],
           "y": [
            8.747060401861635
           ],
           "type": "scatter"
          },
          {
           "hoverinfo": "text",
           "marker": {
            "opacity": 1,
            "size": 1
           },
           "mode": "markers",
           "showlegend": false,
           "text": [
            "ID: 174, Pos(3.18,10.57)"
           ],
           "x": [
            3.181921622285993
           ],
           "y": [
            10.566832624003053
           ],
           "type": "scatter"
          },
          {
           "hoverinfo": "text",
           "marker": {
            "opacity": 1,
            "size": 1
           },
           "mode": "markers",
           "showlegend": false,
           "text": [
            "ID: 175, Pos(2.22,10.69)"
           ],
           "x": [
            2.217338440875904
           ],
           "y": [
            10.687491729753999
           ],
           "type": "scatter"
          },
          {
           "hoverinfo": "text",
           "marker": {
            "opacity": 1,
            "size": 1
           },
           "mode": "markers",
           "showlegend": false,
           "text": [
            "ID: 176, Pos(4.94,11.93)"
           ],
           "x": [
            4.9440740557300895
           ],
           "y": [
            11.93025768489316
           ],
           "type": "scatter"
          },
          {
           "hoverinfo": "text",
           "marker": {
            "opacity": 1,
            "size": 1
           },
           "mode": "markers",
           "showlegend": false,
           "text": [
            "ID: 177, Pos(3.99,11.34)"
           ],
           "x": [
            3.9861943486099274
           ],
           "y": [
            11.337801576922512
           ],
           "type": "scatter"
          },
          {
           "hoverinfo": "text",
           "marker": {
            "opacity": 1,
            "size": 1
           },
           "mode": "markers",
           "showlegend": false,
           "text": [
            "ID: 178, Pos(2.72,10.21)"
           ],
           "x": [
            2.718155811199624
           ],
           "y": [
            10.209663652362224
           ],
           "type": "scatter"
          },
          {
           "hoverinfo": "text",
           "marker": {
            "opacity": 1,
            "size": 1
           },
           "mode": "markers",
           "showlegend": false,
           "text": [
            "ID: 179, Pos(3.72,11.97)"
           ],
           "x": [
            3.718591509330506
           ],
           "y": [
            11.971873717692109
           ],
           "type": "scatter"
          },
          {
           "hoverinfo": "text",
           "marker": {
            "opacity": 1,
            "size": 1
           },
           "mode": "markers",
           "showlegend": false,
           "text": [
            "ID: 180, Pos(2.33,9.71)"
           ],
           "x": [
            2.3318806219533212
           ],
           "y": [
            9.705013606915045
           ],
           "type": "scatter"
          }
         ],
         "layout": {
          "shapes": [
           {
            "fillcolor": "rgba(0, 140, 255, 0.5)",
            "line": {
             "color": "rgba(0, 140, 255, 0.5)"
            },
            "type": "circle",
            "x0": 2.801310196554643,
            "x1": 3.2013101965546436,
            "xref": "x",
            "y0": 10.901214292186177,
            "y1": 11.301214292186176,
            "yref": "y"
           },
           {
            "fillcolor": "rgba(0, 0, 228, 0.5)",
            "line": {
             "color": "rgba(0, 0, 228, 0.5)"
            },
            "type": "circle",
            "x0": 2.447069905512061,
            "x1": 2.847069905512061,
            "xref": "x",
            "y0": 11.392306198707397,
            "y1": 11.792306198707395,
            "yref": "y"
           },
           {
            "fillcolor": "rgba(0, 212, 255, 0.5)",
            "line": {
             "color": "rgba(0, 212, 255, 0.5)"
            },
            "type": "circle",
            "x0": 2.196991091149968,
            "x1": 2.5969910911499685,
            "xref": "x",
            "y0": 8.547060401861636,
            "y1": 8.947060401861634,
            "yref": "y"
           },
           {
            "fillcolor": "rgba(255, 26, 0, 0.5)",
            "line": {
             "color": "rgba(255, 26, 0, 0.5)"
            },
            "type": "circle",
            "x0": 2.981921622285993,
            "x1": 3.381921622285993,
            "xref": "x",
            "y0": 10.366832624003054,
            "y1": 10.766832624003053,
            "yref": "y"
           },
           {
            "fillcolor": "rgba(0, 0, 255, 0.5)",
            "line": {
             "color": "rgba(0, 0, 255, 0.5)"
            },
            "type": "circle",
            "x0": 2.017338440875904,
            "x1": 2.417338440875904,
            "xref": "x",
            "y0": 10.487491729754,
            "y1": 10.887491729753998,
            "yref": "y"
           },
           {
            "fillcolor": "rgba(0, 0, 128, 0.5)",
            "line": {
             "color": "rgba(0, 0, 128, 0.5)"
            },
            "type": "circle",
            "x0": 4.744074055730089,
            "x1": 5.14407405573009,
            "xref": "x",
            "y0": 11.73025768489316,
            "y1": 12.13025768489316,
            "yref": "y"
           },
           {
            "fillcolor": "rgba(0, 0, 250, 0.5)",
            "line": {
             "color": "rgba(0, 0, 250, 0.5)"
            },
            "type": "circle",
            "x0": 3.786194348609927,
            "x1": 4.186194348609927,
            "xref": "x",
            "y0": 11.137801576922513,
            "y1": 11.537801576922512,
            "yref": "y"
           },
           {
            "fillcolor": "rgba(255, 219, 0, 0.5)",
            "line": {
             "color": "rgba(255, 219, 0, 0.5)"
            },
            "type": "circle",
            "x0": 2.5181558111996236,
            "x1": 2.918155811199624,
            "xref": "x",
            "y0": 10.009663652362224,
            "y1": 10.409663652362223,
            "yref": "y"
           },
           {
            "fillcolor": "rgba(0, 0, 128, 0.5)",
            "line": {
             "color": "rgba(0, 0, 128, 0.5)"
            },
            "type": "circle",
            "x0": 3.518591509330506,
            "x1": 3.9185915093305064,
            "xref": "x",
            "y0": 11.77187371769211,
            "y1": 12.171873717692108,
            "yref": "y"
           },
           {
            "fillcolor": "rgba(0, 168, 255, 0.5)",
            "line": {
             "color": "rgba(0, 168, 255, 0.5)"
            },
            "type": "circle",
            "x0": 2.131880621953321,
            "x1": 2.5318806219533214,
            "xref": "x",
            "y0": 9.505013606915046,
            "y1": 9.905013606915045,
            "yref": "y"
           },
           {
            "line": {
             "color": "white",
             "width": 3
            },
            "type": "line",
            "x0": 3.0013101965546434,
            "x1": 3.1784496007171694,
            "y0": 11.101214292186176,
            "y1": 11.194067033087807
           },
           {
            "line": {
             "color": "white",
             "width": 3
            },
            "type": "line",
            "x0": 2.647069905512061,
            "x1": 2.8196789418919033,
            "y0": 11.592306198707396,
            "y1": 11.693331544834109
           },
           {
            "line": {
             "color": "black",
             "width": 3
            },
            "type": "line",
            "x0": 2.3969910911499683,
            "x1": 2.4026605371313723,
            "y0": 8.747060401861635,
            "y1": 8.94698002916787
           },
           {
            "line": {
             "color": "white",
             "width": 3
            },
            "type": "line",
            "x0": 3.181921622285993,
            "x1": 3.2258619323238826,
            "y0": 10.566832624003053,
            "y1": 10.76194605038313
           },
           {
            "line": {
             "color": "white",
             "width": 3
            },
            "type": "line",
            "x0": 2.217338440875904,
            "x1": 2.2207462315594557,
            "y0": 10.687491729753999,
            "y1": 10.887462695053108
           },
           {
            "line": {
             "color": "white",
             "width": 3
            },
            "type": "line",
            "x0": 4.9440740557300895,
            "x1": 5.1322763056896115,
            "y0": 11.93025768489316,
            "y1": 11.997932740195491
           },
           {
            "line": {
             "color": "white",
             "width": 3
            },
            "type": "line",
            "x0": 3.9861943486099274,
            "x1": 4.1808221693758565,
            "y0": 11.337801576922512,
            "y1": 11.383845158276543
           },
           {
            "line": {
             "color": "black",
             "width": 3
            },
            "type": "line",
            "x0": 2.718155811199624,
            "x1": 2.6779091190356725,
            "y0": 10.209663652362224,
            "y1": 10.40557231416629
           },
           {
            "line": {
             "color": "white",
             "width": 3
            },
            "type": "line",
            "x0": 3.718591509330506,
            "x1": 3.9104642396150027,
            "y0": 11.971873717692109,
            "y1": 12.028308240576358
           },
           {
            "line": {
             "color": "black",
             "width": 3
            },
            "type": "line",
            "x0": 2.3318806219533212,
            "x1": 2.3105974718162243,
            "y0": 9.705013606915045,
            "y1": 9.90387795143221
           }
          ],
          "title": {
           "text": "<b>Percentage using the shortest path: 0%  |  Number of Agents: 10</b>",
           "x": 0.5
          }
         },
         "name": "350"
        },
        {
         "data": [
          {
           "hoverinfo": "name",
           "line": {
            "color": "white"
           },
           "mode": "lines",
           "name": "Exterior",
           "showlegend": false,
           "x": [
            10.1,
            10.1,
            15.0,
            15.0,
            13.6,
            13.6,
            15.0,
            15.0,
            13.6,
            13.6,
            15.0,
            15.0,
            10.1,
            10.1,
            9.9,
            9.9,
            5.1,
            5.1,
            4.9,
            4.9,
            0.0,
            0.0,
            1.5,
            1.5,
            0.0,
            0.0,
            1.5,
            1.5,
            0.0,
            0.0,
            4.9,
            4.9,
            5.1,
            5.1,
            9.9,
            9.9,
            10.1
           ],
           "y": [
            1.5,
            0.0,
            0.0,
            4.9,
            4.9,
            5.1,
            5.1,
            9.9,
            9.9,
            10.1,
            10.1,
            15.0,
            15.0,
            13.6,
            13.6,
            15.0,
            15.0,
            13.6,
            13.6,
            15.0,
            15.0,
            10.1,
            10.1,
            9.9,
            9.9,
            5.1,
            5.1,
            4.9,
            4.9,
            0.0,
            0.0,
            1.5,
            1.5,
            0.0,
            0.0,
            1.5,
            1.5
           ],
           "type": "scatter"
          },
          {
           "hoverinfo": "name",
           "line": {
            "color": "white"
           },
           "mode": "lines",
           "name": "Obstacle",
           "showlegend": false,
           "x": [
            10.1,
            11.5,
            11.5,
            10.1,
            10.1,
            9.9,
            9.9,
            8.6,
            8.6,
            9.9,
            9.9,
            10.1,
            10.1
           ],
           "y": [
            5.1,
            5.1,
            4.9,
            4.9,
            3.6,
            3.6,
            4.9,
            4.9,
            5.1,
            5.1,
            6.5,
            6.5,
            5.1
           ],
           "type": "scatter"
          },
          {
           "hoverinfo": "name",
           "line": {
            "color": "white"
           },
           "mode": "lines",
           "name": "Obstacle",
           "showlegend": false,
           "x": [
            10.1,
            11.5,
            11.5,
            10.1,
            10.1,
            9.9,
            9.9,
            8.6,
            8.6,
            9.9,
            9.9,
            10.1,
            10.1
           ],
           "y": [
            10.1,
            10.1,
            9.9,
            9.9,
            8.6,
            8.6,
            9.9,
            9.9,
            10.1,
            10.1,
            11.5,
            11.5,
            10.1
           ],
           "type": "scatter"
          },
          {
           "hoverinfo": "name",
           "line": {
            "color": "white"
           },
           "mode": "lines",
           "name": "Obstacle",
           "showlegend": false,
           "x": [
            5.1,
            6.4,
            6.4,
            5.1,
            5.1,
            4.9,
            4.9,
            3.6,
            3.6,
            4.9,
            4.9,
            5.1,
            5.1
           ],
           "y": [
            5.1,
            5.1,
            4.9,
            4.9,
            3.6,
            3.6,
            4.9,
            4.9,
            5.1,
            5.1,
            6.5,
            6.5,
            5.1
           ],
           "type": "scatter"
          },
          {
           "hoverinfo": "name",
           "line": {
            "color": "white"
           },
           "mode": "lines",
           "name": "Obstacle",
           "showlegend": false,
           "x": [
            5.1,
            6.4,
            6.4,
            5.1,
            5.1,
            4.9,
            4.9,
            3.6,
            3.6,
            4.9,
            4.9,
            5.1,
            5.1
           ],
           "y": [
            10.1,
            10.1,
            9.9,
            9.9,
            8.6,
            8.6,
            9.9,
            9.9,
            10.1,
            10.1,
            11.5,
            11.5,
            10.1
           ],
           "type": "scatter"
          },
          {
           "fill": "toself",
           "fillcolor": "rgb(0, 0, 0)",
           "hoverinfo": "name",
           "line": {
            "width": 0
           },
           "mode": "lines",
           "name": "Risk Area",
           "showlegend": false,
           "x": [
            1.5,
            1.5,
            3.6,
            3.6,
            4.9,
            4.9,
            5.0,
            5.0,
            4.9,
            4.9,
            0.0,
            0.0,
            1.5
           ],
           "y": [
            4.9,
            5.0,
            5.0,
            4.9,
            4.9,
            3.6,
            3.6,
            1.5,
            1.5,
            0.0,
            0.0,
            4.9,
            4.9
           ],
           "type": "scatter"
          },
          {
           "fill": "toself",
           "fillcolor": "rgb(178, 0, 0)",
           "hoverinfo": "name",
           "line": {
            "width": 0
           },
           "mode": "lines",
           "name": "Risk Area",
           "showlegend": false,
           "x": [
            9.9,
            9.9,
            5.1,
            5.1,
            5.0,
            5.0,
            5.1,
            5.1,
            6.4,
            6.4,
            8.6,
            8.6,
            9.9,
            9.9,
            10.0,
            10.0,
            9.9
           ],
           "y": [
            1.5,
            0.0,
            0.0,
            1.5,
            1.5,
            3.6,
            3.6,
            4.9,
            4.9,
            5.0,
            5.0,
            4.9,
            4.9,
            3.6,
            3.6,
            1.5,
            1.5
           ],
           "type": "scatter"
          },
          {
           "fill": "toself",
           "fillcolor": "rgb(25, 0, 0)",
           "hoverinfo": "name",
           "line": {
            "width": 0
           },
           "mode": "lines",
           "name": "Risk Area",
           "showlegend": false,
           "x": [
            13.6,
            15.0,
            15.0,
            10.1,
            10.1,
            10.0,
            10.0,
            10.1,
            10.1,
            11.5,
            11.5,
            13.6,
            13.6
           ],
           "y": [
            4.9,
            4.9,
            0.0,
            0.0,
            1.5,
            1.5,
            3.6,
            3.6,
            4.9,
            4.9,
            5.0,
            5.0,
            4.9
           ],
           "type": "scatter"
          },
          {
           "fill": "toself",
           "fillcolor": "rgb(178, 0, 0)",
           "hoverinfo": "name",
           "line": {
            "width": 0
           },
           "mode": "lines",
           "name": "Risk Area",
           "showlegend": false,
           "x": [
            13.6,
            15.0,
            15.0,
            13.6,
            13.6,
            11.5,
            11.5,
            10.1,
            10.1,
            10.0,
            10.0,
            10.1,
            10.1,
            11.5,
            11.5,
            13.6,
            13.6
           ],
           "y": [
            9.9,
            9.9,
            5.1,
            5.1,
            5.0,
            5.0,
            5.1,
            5.1,
            6.5,
            6.5,
            8.6,
            8.6,
            9.9,
            9.9,
            10.0,
            10.0,
            9.9
           ],
           "type": "scatter"
          },
          {
           "fill": "toself",
           "fillcolor": "rgb(204, 0, 0)",
           "hoverinfo": "name",
           "line": {
            "width": 0
           },
           "mode": "lines",
           "name": "Risk Area",
           "showlegend": false,
           "x": [
            9.9,
            9.9,
            8.6,
            8.6,
            6.4,
            6.4,
            5.1,
            5.1,
            5.0,
            5.0,
            5.1,
            5.1,
            6.4,
            6.4,
            8.6,
            8.6,
            9.9,
            9.9,
            10.0,
            10.0,
            9.9
           ],
           "y": [
            6.5,
            5.1,
            5.1,
            5.0,
            5.0,
            5.1,
            5.1,
            6.5,
            6.5,
            8.6,
            8.6,
            9.9,
            9.9,
            10.0,
            10.0,
            9.9,
            9.9,
            8.6,
            8.6,
            6.5,
            6.5
           ],
           "type": "scatter"
          },
          {
           "fill": "toself",
           "fillcolor": "rgb(25, 0, 0)",
           "hoverinfo": "name",
           "line": {
            "width": 0
           },
           "mode": "lines",
           "name": "Risk Area",
           "showlegend": false,
           "x": [
            4.9,
            4.9,
            3.6,
            3.6,
            1.5,
            1.5,
            0.0,
            0.0,
            1.5,
            1.5,
            3.6,
            3.6,
            4.9,
            4.9,
            5.0,
            5.0,
            4.9
           ],
           "y": [
            6.5,
            5.1,
            5.1,
            5.0,
            5.0,
            5.1,
            5.1,
            9.9,
            9.9,
            10.0,
            10.0,
            9.9,
            9.9,
            8.6,
            8.6,
            6.5,
            6.5
           ],
           "type": "scatter"
          },
          {
           "fill": "toself",
           "fillcolor": "rgb(51, 0, 0)",
           "hoverinfo": "name",
           "line": {
            "width": 0
           },
           "mode": "lines",
           "name": "Risk Area",
           "showlegend": false,
           "x": [
            1.5,
            0.0,
            0.0,
            4.9,
            4.9,
            5.0,
            5.0,
            4.9,
            4.9,
            3.6,
            3.6,
            1.5,
            1.5
           ],
           "y": [
            10.1,
            10.1,
            15.0,
            15.0,
            13.6,
            13.6,
            11.5,
            11.5,
            10.1,
            10.1,
            10.0,
            10.0,
            10.1
           ],
           "type": "scatter"
          },
          {
           "fill": "toself",
           "fillcolor": "rgb(0, 0, 0)",
           "hoverinfo": "name",
           "line": {
            "width": 0
           },
           "mode": "lines",
           "name": "Risk Area",
           "showlegend": false,
           "x": [
            6.4,
            5.1,
            5.1,
            5.0,
            5.0,
            5.1,
            5.1,
            9.9,
            9.9,
            10.0,
            10.0,
            9.9,
            9.9,
            8.6,
            8.6,
            6.4,
            6.4
           ],
           "y": [
            10.1,
            10.1,
            11.5,
            11.5,
            13.6,
            13.6,
            15.0,
            15.0,
            13.6,
            13.6,
            11.5,
            11.5,
            10.1,
            10.1,
            10.0,
            10.0,
            10.1
           ],
           "type": "scatter"
          },
          {
           "fill": "toself",
           "fillcolor": "rgb(0, 0, 0)",
           "hoverinfo": "name",
           "line": {
            "width": 0
           },
           "mode": "lines",
           "name": "Risk Area",
           "showlegend": false,
           "x": [
            10.1,
            10.1,
            15.0,
            15.0,
            13.6,
            13.6,
            11.5,
            11.5,
            10.1,
            10.1,
            10.0,
            10.0,
            10.1
           ],
           "y": [
            13.6,
            15.0,
            15.0,
            10.1,
            10.1,
            10.0,
            10.0,
            10.1,
            10.1,
            11.5,
            11.5,
            13.6,
            13.6
           ],
           "type": "scatter"
          },
          {
           "hoverinfo": "text",
           "marker": {
            "opacity": 1,
            "size": 1
           },
           "mode": "markers",
           "showlegend": false,
           "text": [
            "ID: 171, Pos(4.07,11.41)"
           ],
           "x": [
            4.065003088071062
           ],
           "y": [
            11.409303272245467
           ],
           "type": "scatter"
          },
          {
           "hoverinfo": "text",
           "marker": {
            "opacity": 1,
            "size": 1
           },
           "mode": "markers",
           "showlegend": false,
           "text": [
            "ID: 172, Pos(4.09,12.14)"
           ],
           "x": [
            4.092878879868091
           ],
           "y": [
            12.140291546940423
           ],
           "type": "scatter"
          },
          {
           "hoverinfo": "text",
           "marker": {
            "opacity": 1,
            "size": 1
           },
           "mode": "markers",
           "showlegend": false,
           "text": [
            "ID: 173, Pos(2.43,9.98)"
           ],
           "x": [
            2.4308273080830545
           ],
           "y": [
            9.975964696402873
           ],
           "type": "scatter"
          },
          {
           "hoverinfo": "text",
           "marker": {
            "opacity": 1,
            "size": 1
           },
           "mode": "markers",
           "showlegend": false,
           "text": [
            "ID: 174, Pos(3.36,11.20)"
           ],
           "x": [
            3.3627724291955925
           ],
           "y": [
            11.197019673946576
           ],
           "type": "scatter"
          },
          {
           "hoverinfo": "text",
           "marker": {
            "opacity": 1,
            "size": 1
           },
           "mode": "markers",
           "showlegend": false,
           "text": [
            "ID: 175, Pos(3.05,11.71)"
           ],
           "x": [
            3.0477432427501188
           ],
           "y": [
            11.711283668506562
           ],
           "type": "scatter"
          },
          {
           "hoverinfo": "text",
           "marker": {
            "opacity": 1,
            "size": 1
           },
           "mode": "markers",
           "showlegend": false,
           "text": [
            "ID: 176, Pos(6.50,12.28)"
           ],
           "x": [
            6.5047654259015495
           ],
           "y": [
            12.279734472182232
           ],
           "type": "scatter"
          },
          {
           "hoverinfo": "text",
           "marker": {
            "opacity": 1,
            "size": 1
           },
           "mode": "markers",
           "showlegend": false,
           "text": [
            "ID: 177, Pos(4.74,11.81)"
           ],
           "x": [
            4.738868940366939
           ],
           "y": [
            11.813026912903053
           ],
           "type": "scatter"
          },
          {
           "hoverinfo": "text",
           "marker": {
            "opacity": 1,
            "size": 1
           },
           "mode": "markers",
           "showlegend": false,
           "text": [
            "ID: 178, Pos(2.69,10.89)"
           ],
           "x": [
            2.690166915866565
           ],
           "y": [
            10.894642244660693
           ],
           "type": "scatter"
          },
          {
           "hoverinfo": "text",
           "marker": {
            "opacity": 1,
            "size": 1
           },
           "mode": "markers",
           "showlegend": false,
           "text": [
            "ID: 179, Pos(5.26,12.38)"
           ],
           "x": [
            5.260687338109389
           ],
           "y": [
            12.381284483871049
           ],
           "type": "scatter"
          },
          {
           "hoverinfo": "text",
           "marker": {
            "opacity": 1,
            "size": 1
           },
           "mode": "markers",
           "showlegend": false,
           "text": [
            "ID: 180, Pos(2.15,11.11)"
           ],
           "x": [
            2.149315799209779
           ],
           "y": [
            11.110223051034986
           ],
           "type": "scatter"
          }
         ],
         "layout": {
          "shapes": [
           {
            "fillcolor": "rgba(186, 255, 60, 0.5)",
            "line": {
             "color": "rgba(186, 255, 60, 0.5)"
            },
            "type": "circle",
            "x0": 3.865003088071062,
            "x1": 4.2650030880710625,
            "xref": "x",
            "y0": 11.209303272245467,
            "y1": 11.609303272245466,
            "yref": "y"
           },
           {
            "fillcolor": "rgba(0, 0, 137, 0.5)",
            "line": {
             "color": "rgba(0, 0, 137, 0.5)"
            },
            "type": "circle",
            "x0": 3.892878879868091,
            "x1": 4.292878879868091,
            "xref": "x",
            "y0": 11.940291546940424,
            "y1": 12.340291546940422,
            "yref": "y"
           },
           {
            "fillcolor": "rgba(0, 216, 255, 0.5)",
            "line": {
             "color": "rgba(0, 216, 255, 0.5)"
            },
            "type": "circle",
            "x0": 2.2308273080830543,
            "x1": 2.6308273080830546,
            "xref": "x",
            "y0": 9.775964696402873,
            "y1": 10.175964696402872,
            "yref": "y"
           },
           {
            "fillcolor": "rgba(248, 245, 0, 0.5)",
            "line": {
             "color": "rgba(248, 245, 0, 0.5)"
            },
            "type": "circle",
            "x0": 3.1627724291955923,
            "x1": 3.5627724291955927,
            "xref": "x",
            "y0": 10.997019673946577,
            "y1": 11.397019673946575,
            "yref": "y"
           },
           {
            "fillcolor": "rgba(0, 0, 246, 0.5)",
            "line": {
             "color": "rgba(0, 0, 246, 0.5)"
            },
            "type": "circle",
            "x0": 2.8477432427501186,
            "x1": 3.247743242750119,
            "xref": "x",
            "y0": 11.511283668506563,
            "y1": 11.911283668506561,
            "yref": "y"
           },
           {
            "fillcolor": "rgba(0, 0, 128, 0.5)",
            "line": {
             "color": "rgba(0, 0, 128, 0.5)"
            },
            "type": "circle",
            "x0": 6.304765425901549,
            "x1": 6.70476542590155,
            "xref": "x",
            "y0": 12.079734472182233,
            "y1": 12.479734472182232,
            "yref": "y"
           },
           {
            "fillcolor": "rgba(206, 255, 41, 0.5)",
            "line": {
             "color": "rgba(206, 255, 41, 0.5)"
            },
            "type": "circle",
            "x0": 4.538868940366939,
            "x1": 4.938868940366939,
            "xref": "x",
            "y0": 11.613026912903054,
            "y1": 12.013026912903053,
            "yref": "y"
           },
           {
            "fillcolor": "rgba(77, 255, 170, 0.5)",
            "line": {
             "color": "rgba(77, 255, 170, 0.5)"
            },
            "type": "circle",
            "x0": 2.4901669158665647,
            "x1": 2.890166915866565,
            "xref": "x",
            "y0": 10.694642244660693,
            "y1": 11.094642244660692,
            "yref": "y"
           },
           {
            "fillcolor": "rgba(0, 0, 128, 0.5)",
            "line": {
             "color": "rgba(0, 0, 128, 0.5)"
            },
            "type": "circle",
            "x0": 5.060687338109389,
            "x1": 5.460687338109389,
            "xref": "x",
            "y0": 12.18128448387105,
            "y1": 12.581284483871048,
            "yref": "y"
           },
           {
            "fillcolor": "rgba(0, 56, 255, 0.5)",
            "line": {
             "color": "rgba(0, 56, 255, 0.5)"
            },
            "type": "circle",
            "x0": 1.949315799209779,
            "x1": 2.349315799209779,
            "xref": "x",
            "y0": 10.910223051034986,
            "y1": 11.310223051034985,
            "yref": "y"
           },
           {
            "line": {
             "color": "black",
             "width": 3
            },
            "type": "line",
            "x0": 4.065003088071062,
            "x1": 4.259762758505413,
            "y0": 11.409303272245467,
            "y1": 11.454785914784166
           },
           {
            "line": {
             "color": "white",
             "width": 3
            },
            "type": "line",
            "x0": 4.092878879868091,
            "x1": 4.285972381858318,
            "y0": 12.140291546940423,
            "y1": 12.192396244321275
           },
           {
            "line": {
             "color": "black",
             "width": 3
            },
            "type": "line",
            "x0": 2.4308273080830545,
            "x1": 2.435868108236181,
            "y0": 9.975964696402873,
            "y1": 10.175901162145909
           },
           {
            "line": {
             "color": "black",
             "width": 3
            },
            "type": "line",
            "x0": 3.3627724291955925,
            "x1": 3.5627207274125814,
            "y0": 11.197019673946576,
            "y1": 11.201566985254372
           },
           {
            "line": {
             "color": "white",
             "width": 3
            },
            "type": "line",
            "x0": 3.0477432427501188,
            "x1": 3.2187549719780595,
            "y0": 11.711283668506562,
            "y1": 11.814989929004517
           },
           {
            "line": {
             "color": "white",
             "width": 3
            },
            "type": "line",
            "x0": 6.5047654259015495,
            "x1": 6.700776347571477,
            "y0": 12.279734472182232,
            "y1": 12.319480145985874
           },
           {
            "line": {
             "color": "black",
             "width": 3
            },
            "type": "line",
            "x0": 4.738868940366939,
            "x1": 4.898622191536498,
            "y0": 11.813026912903053,
            "y1": 11.933355208580984
           },
           {
            "line": {
             "color": "black",
             "width": 3
            },
            "type": "line",
            "x0": 2.690166915866565,
            "x1": 2.7317792386750988,
            "y0": 10.894642244660693,
            "y1": 11.090265388972602
           },
           {
            "line": {
             "color": "white",
             "width": 3
            },
            "type": "line",
            "x0": 5.260687338109389,
            "x1": 5.459748754010051,
            "y0": 12.381284483871049,
            "y1": 12.40063784790999
           },
           {
            "line": {
             "color": "white",
             "width": 3
            },
            "type": "line",
            "x0": 2.149315799209779,
            "x1": 2.3150851511951513,
            "y0": 11.110223051034986,
            "y1": 11.222118189188302
           }
          ],
          "title": {
           "text": "<b>Percentage using the shortest path: 0%  |  Number of Agents: 10</b>",
           "x": 0.5
          }
         },
         "name": "400"
        },
        {
         "data": [
          {
           "hoverinfo": "name",
           "line": {
            "color": "white"
           },
           "mode": "lines",
           "name": "Exterior",
           "showlegend": false,
           "x": [
            10.1,
            10.1,
            15.0,
            15.0,
            13.6,
            13.6,
            15.0,
            15.0,
            13.6,
            13.6,
            15.0,
            15.0,
            10.1,
            10.1,
            9.9,
            9.9,
            5.1,
            5.1,
            4.9,
            4.9,
            0.0,
            0.0,
            1.5,
            1.5,
            0.0,
            0.0,
            1.5,
            1.5,
            0.0,
            0.0,
            4.9,
            4.9,
            5.1,
            5.1,
            9.9,
            9.9,
            10.1
           ],
           "y": [
            1.5,
            0.0,
            0.0,
            4.9,
            4.9,
            5.1,
            5.1,
            9.9,
            9.9,
            10.1,
            10.1,
            15.0,
            15.0,
            13.6,
            13.6,
            15.0,
            15.0,
            13.6,
            13.6,
            15.0,
            15.0,
            10.1,
            10.1,
            9.9,
            9.9,
            5.1,
            5.1,
            4.9,
            4.9,
            0.0,
            0.0,
            1.5,
            1.5,
            0.0,
            0.0,
            1.5,
            1.5
           ],
           "type": "scatter"
          },
          {
           "hoverinfo": "name",
           "line": {
            "color": "white"
           },
           "mode": "lines",
           "name": "Obstacle",
           "showlegend": false,
           "x": [
            10.1,
            11.5,
            11.5,
            10.1,
            10.1,
            9.9,
            9.9,
            8.6,
            8.6,
            9.9,
            9.9,
            10.1,
            10.1
           ],
           "y": [
            5.1,
            5.1,
            4.9,
            4.9,
            3.6,
            3.6,
            4.9,
            4.9,
            5.1,
            5.1,
            6.5,
            6.5,
            5.1
           ],
           "type": "scatter"
          },
          {
           "hoverinfo": "name",
           "line": {
            "color": "white"
           },
           "mode": "lines",
           "name": "Obstacle",
           "showlegend": false,
           "x": [
            10.1,
            11.5,
            11.5,
            10.1,
            10.1,
            9.9,
            9.9,
            8.6,
            8.6,
            9.9,
            9.9,
            10.1,
            10.1
           ],
           "y": [
            10.1,
            10.1,
            9.9,
            9.9,
            8.6,
            8.6,
            9.9,
            9.9,
            10.1,
            10.1,
            11.5,
            11.5,
            10.1
           ],
           "type": "scatter"
          },
          {
           "hoverinfo": "name",
           "line": {
            "color": "white"
           },
           "mode": "lines",
           "name": "Obstacle",
           "showlegend": false,
           "x": [
            5.1,
            6.4,
            6.4,
            5.1,
            5.1,
            4.9,
            4.9,
            3.6,
            3.6,
            4.9,
            4.9,
            5.1,
            5.1
           ],
           "y": [
            5.1,
            5.1,
            4.9,
            4.9,
            3.6,
            3.6,
            4.9,
            4.9,
            5.1,
            5.1,
            6.5,
            6.5,
            5.1
           ],
           "type": "scatter"
          },
          {
           "hoverinfo": "name",
           "line": {
            "color": "white"
           },
           "mode": "lines",
           "name": "Obstacle",
           "showlegend": false,
           "x": [
            5.1,
            6.4,
            6.4,
            5.1,
            5.1,
            4.9,
            4.9,
            3.6,
            3.6,
            4.9,
            4.9,
            5.1,
            5.1
           ],
           "y": [
            10.1,
            10.1,
            9.9,
            9.9,
            8.6,
            8.6,
            9.9,
            9.9,
            10.1,
            10.1,
            11.5,
            11.5,
            10.1
           ],
           "type": "scatter"
          },
          {
           "fill": "toself",
           "fillcolor": "rgb(0, 0, 0)",
           "hoverinfo": "name",
           "line": {
            "width": 0
           },
           "mode": "lines",
           "name": "Risk Area",
           "showlegend": false,
           "x": [
            1.5,
            1.5,
            3.6,
            3.6,
            4.9,
            4.9,
            5.0,
            5.0,
            4.9,
            4.9,
            0.0,
            0.0,
            1.5
           ],
           "y": [
            4.9,
            5.0,
            5.0,
            4.9,
            4.9,
            3.6,
            3.6,
            1.5,
            1.5,
            0.0,
            0.0,
            4.9,
            4.9
           ],
           "type": "scatter"
          },
          {
           "fill": "toself",
           "fillcolor": "rgb(178, 0, 0)",
           "hoverinfo": "name",
           "line": {
            "width": 0
           },
           "mode": "lines",
           "name": "Risk Area",
           "showlegend": false,
           "x": [
            9.9,
            9.9,
            5.1,
            5.1,
            5.0,
            5.0,
            5.1,
            5.1,
            6.4,
            6.4,
            8.6,
            8.6,
            9.9,
            9.9,
            10.0,
            10.0,
            9.9
           ],
           "y": [
            1.5,
            0.0,
            0.0,
            1.5,
            1.5,
            3.6,
            3.6,
            4.9,
            4.9,
            5.0,
            5.0,
            4.9,
            4.9,
            3.6,
            3.6,
            1.5,
            1.5
           ],
           "type": "scatter"
          },
          {
           "fill": "toself",
           "fillcolor": "rgb(25, 0, 0)",
           "hoverinfo": "name",
           "line": {
            "width": 0
           },
           "mode": "lines",
           "name": "Risk Area",
           "showlegend": false,
           "x": [
            13.6,
            15.0,
            15.0,
            10.1,
            10.1,
            10.0,
            10.0,
            10.1,
            10.1,
            11.5,
            11.5,
            13.6,
            13.6
           ],
           "y": [
            4.9,
            4.9,
            0.0,
            0.0,
            1.5,
            1.5,
            3.6,
            3.6,
            4.9,
            4.9,
            5.0,
            5.0,
            4.9
           ],
           "type": "scatter"
          },
          {
           "fill": "toself",
           "fillcolor": "rgb(178, 0, 0)",
           "hoverinfo": "name",
           "line": {
            "width": 0
           },
           "mode": "lines",
           "name": "Risk Area",
           "showlegend": false,
           "x": [
            13.6,
            15.0,
            15.0,
            13.6,
            13.6,
            11.5,
            11.5,
            10.1,
            10.1,
            10.0,
            10.0,
            10.1,
            10.1,
            11.5,
            11.5,
            13.6,
            13.6
           ],
           "y": [
            9.9,
            9.9,
            5.1,
            5.1,
            5.0,
            5.0,
            5.1,
            5.1,
            6.5,
            6.5,
            8.6,
            8.6,
            9.9,
            9.9,
            10.0,
            10.0,
            9.9
           ],
           "type": "scatter"
          },
          {
           "fill": "toself",
           "fillcolor": "rgb(204, 0, 0)",
           "hoverinfo": "name",
           "line": {
            "width": 0
           },
           "mode": "lines",
           "name": "Risk Area",
           "showlegend": false,
           "x": [
            9.9,
            9.9,
            8.6,
            8.6,
            6.4,
            6.4,
            5.1,
            5.1,
            5.0,
            5.0,
            5.1,
            5.1,
            6.4,
            6.4,
            8.6,
            8.6,
            9.9,
            9.9,
            10.0,
            10.0,
            9.9
           ],
           "y": [
            6.5,
            5.1,
            5.1,
            5.0,
            5.0,
            5.1,
            5.1,
            6.5,
            6.5,
            8.6,
            8.6,
            9.9,
            9.9,
            10.0,
            10.0,
            9.9,
            9.9,
            8.6,
            8.6,
            6.5,
            6.5
           ],
           "type": "scatter"
          },
          {
           "fill": "toself",
           "fillcolor": "rgb(25, 0, 0)",
           "hoverinfo": "name",
           "line": {
            "width": 0
           },
           "mode": "lines",
           "name": "Risk Area",
           "showlegend": false,
           "x": [
            4.9,
            4.9,
            3.6,
            3.6,
            1.5,
            1.5,
            0.0,
            0.0,
            1.5,
            1.5,
            3.6,
            3.6,
            4.9,
            4.9,
            5.0,
            5.0,
            4.9
           ],
           "y": [
            6.5,
            5.1,
            5.1,
            5.0,
            5.0,
            5.1,
            5.1,
            9.9,
            9.9,
            10.0,
            10.0,
            9.9,
            9.9,
            8.6,
            8.6,
            6.5,
            6.5
           ],
           "type": "scatter"
          },
          {
           "fill": "toself",
           "fillcolor": "rgb(51, 0, 0)",
           "hoverinfo": "name",
           "line": {
            "width": 0
           },
           "mode": "lines",
           "name": "Risk Area",
           "showlegend": false,
           "x": [
            1.5,
            0.0,
            0.0,
            4.9,
            4.9,
            5.0,
            5.0,
            4.9,
            4.9,
            3.6,
            3.6,
            1.5,
            1.5
           ],
           "y": [
            10.1,
            10.1,
            15.0,
            15.0,
            13.6,
            13.6,
            11.5,
            11.5,
            10.1,
            10.1,
            10.0,
            10.0,
            10.1
           ],
           "type": "scatter"
          },
          {
           "fill": "toself",
           "fillcolor": "rgb(0, 0, 0)",
           "hoverinfo": "name",
           "line": {
            "width": 0
           },
           "mode": "lines",
           "name": "Risk Area",
           "showlegend": false,
           "x": [
            6.4,
            5.1,
            5.1,
            5.0,
            5.0,
            5.1,
            5.1,
            9.9,
            9.9,
            10.0,
            10.0,
            9.9,
            9.9,
            8.6,
            8.6,
            6.4,
            6.4
           ],
           "y": [
            10.1,
            10.1,
            11.5,
            11.5,
            13.6,
            13.6,
            15.0,
            15.0,
            13.6,
            13.6,
            11.5,
            11.5,
            10.1,
            10.1,
            10.0,
            10.0,
            10.1
           ],
           "type": "scatter"
          },
          {
           "fill": "toself",
           "fillcolor": "rgb(0, 0, 0)",
           "hoverinfo": "name",
           "line": {
            "width": 0
           },
           "mode": "lines",
           "name": "Risk Area",
           "showlegend": false,
           "x": [
            10.1,
            10.1,
            15.0,
            15.0,
            13.6,
            13.6,
            11.5,
            11.5,
            10.1,
            10.1,
            10.0,
            10.0,
            10.1
           ],
           "y": [
            13.6,
            15.0,
            15.0,
            10.1,
            10.1,
            10.0,
            10.0,
            10.1,
            10.1,
            11.5,
            11.5,
            13.6,
            13.6
           ],
           "type": "scatter"
          },
          {
           "hoverinfo": "text",
           "marker": {
            "opacity": 1,
            "size": 1
           },
           "mode": "markers",
           "showlegend": false,
           "text": [
            "ID: 171, Pos(4.91,11.87)"
           ],
           "x": [
            4.910053840320399
           ],
           "y": [
            11.869900883678582
           ],
           "type": "scatter"
          },
          {
           "hoverinfo": "text",
           "marker": {
            "opacity": 1,
            "size": 1
           },
           "mode": "markers",
           "showlegend": false,
           "text": [
            "ID: 172, Pos(5.63,12.55)"
           ],
           "x": [
            5.627715254763864
           ],
           "y": [
            12.55156316902829
           ],
           "type": "scatter"
          },
          {
           "hoverinfo": "text",
           "marker": {
            "opacity": 1,
            "size": 1
           },
           "mode": "markers",
           "showlegend": false,
           "text": [
            "ID: 173, Pos(2.58,11.06)"
           ],
           "x": [
            2.5753805918516717
           ],
           "y": [
            11.057134656733899
           ],
           "type": "scatter"
          },
          {
           "hoverinfo": "text",
           "marker": {
            "opacity": 1,
            "size": 1
           },
           "mode": "markers",
           "showlegend": false,
           "text": [
            "ID: 174, Pos(4.14,11.39)"
           ],
           "x": [
            4.139108079110754
           ],
           "y": [
            11.392075061200007
           ],
           "type": "scatter"
          },
          {
           "hoverinfo": "text",
           "marker": {
            "opacity": 1,
            "size": 1
           },
           "mode": "markers",
           "showlegend": false,
           "text": [
            "ID: 175, Pos(4.47,12.26)"
           ],
           "x": [
            4.473104815018424
           ],
           "y": [
            12.261988961220764
           ],
           "type": "scatter"
          },
          {
           "hoverinfo": "text",
           "marker": {
            "opacity": 1,
            "size": 1
           },
           "mode": "markers",
           "showlegend": false,
           "text": [
            "ID: 176, Pos(8.07,12.60)"
           ],
           "x": [
            8.07284233587497
           ],
           "y": [
            12.597751458406028
           ],
           "type": "scatter"
          },
          {
           "hoverinfo": "text",
           "marker": {
            "opacity": 1,
            "size": 1
           },
           "mode": "markers",
           "showlegend": false,
           "text": [
            "ID: 177, Pos(6.05,12.04)"
           ],
           "x": [
            6.054862661755736
           ],
           "y": [
            12.035707038924079
           ],
           "type": "scatter"
          },
          {
           "hoverinfo": "text",
           "marker": {
            "opacity": 1,
            "size": 1
           },
           "mode": "markers",
           "showlegend": false,
           "text": [
            "ID: 178, Pos(3.37,11.11)"
           ],
           "x": [
            3.372159139110701
           ],
           "y": [
            11.105923941512765
           ],
           "type": "scatter"
          },
          {
           "hoverinfo": "text",
           "marker": {
            "opacity": 1,
            "size": 1
           },
           "mode": "markers",
           "showlegend": false,
           "text": [
            "ID: 179, Pos(6.85,12.58)"
           ],
           "x": [
            6.846326486130385
           ],
           "y": [
            12.576604344186332
           ],
           "type": "scatter"
          },
          {
           "hoverinfo": "text",
           "marker": {
            "opacity": 1,
            "size": 1
           },
           "mode": "markers",
           "showlegend": false,
           "text": [
            "ID: 180, Pos(3.39,11.84)"
           ],
           "x": [
            3.392994668244981
           ],
           "y": [
            11.836542294180642
           ],
           "type": "scatter"
          }
         ],
         "layout": {
          "shapes": [
           {
            "fillcolor": "rgba(0, 5, 255, 0.5)",
            "line": {
             "color": "rgba(0, 5, 255, 0.5)"
            },
            "type": "circle",
            "x0": 4.710053840320398,
            "x1": 5.110053840320399,
            "xref": "x",
            "y0": 11.669900883678583,
            "y1": 12.069900883678581,
            "yref": "y"
           },
           {
            "fillcolor": "rgba(0, 0, 128, 0.5)",
            "line": {
             "color": "rgba(0, 0, 128, 0.5)"
            },
            "type": "circle",
            "x0": 5.427715254763863,
            "x1": 5.827715254763864,
            "xref": "x",
            "y0": 12.35156316902829,
            "y1": 12.75156316902829,
            "yref": "y"
           },
           {
            "fillcolor": "rgba(173, 255, 73, 0.5)",
            "line": {
             "color": "rgba(173, 255, 73, 0.5)"
            },
            "type": "circle",
            "x0": 2.3753805918516715,
            "x1": 2.775380591851672,
            "xref": "x",
            "y0": 10.8571346567339,
            "y1": 11.257134656733898,
            "yref": "y"
           },
           {
            "fillcolor": "rgba(48, 255, 199, 0.5)",
            "line": {
             "color": "rgba(48, 255, 199, 0.5)"
            },
            "type": "circle",
            "x0": 3.9391080791107536,
            "x1": 4.339108079110754,
            "xref": "x",
            "y0": 11.192075061200008,
            "y1": 11.592075061200006,
            "yref": "y"
           },
           {
            "fillcolor": "rgba(0, 0, 146, 0.5)",
            "line": {
             "color": "rgba(0, 0, 146, 0.5)"
            },
            "type": "circle",
            "x0": 4.273104815018423,
            "x1": 4.673104815018424,
            "xref": "x",
            "y0": 12.061988961220765,
            "y1": 12.461988961220763,
            "yref": "y"
           },
           {
            "fillcolor": "rgba(0, 0, 128, 0.5)",
            "line": {
             "color": "rgba(0, 0, 128, 0.5)"
            },
            "type": "circle",
            "x0": 7.87284233587497,
            "x1": 8.27284233587497,
            "xref": "x",
            "y0": 12.397751458406029,
            "y1": 12.797751458406028,
            "yref": "y"
           },
           {
            "fillcolor": "rgba(0, 0, 128, 0.5)",
            "line": {
             "color": "rgba(0, 0, 128, 0.5)"
            },
            "type": "circle",
            "x0": 5.854862661755736,
            "x1": 6.254862661755737,
            "xref": "x",
            "y0": 11.83570703892408,
            "y1": 12.235707038924078,
            "yref": "y"
           },
           {
            "fillcolor": "rgba(148, 255, 99, 0.5)",
            "line": {
             "color": "rgba(148, 255, 99, 0.5)"
            },
            "type": "circle",
            "x0": 3.172159139110701,
            "x1": 3.5721591391107013,
            "xref": "x",
            "y0": 10.905923941512766,
            "y1": 11.305923941512765,
            "yref": "y"
           },
           {
            "fillcolor": "rgba(0, 0, 128, 0.5)",
            "line": {
             "color": "rgba(0, 0, 128, 0.5)"
            },
            "type": "circle",
            "x0": 6.646326486130385,
            "x1": 7.046326486130385,
            "xref": "x",
            "y0": 12.376604344186333,
            "y1": 12.776604344186332,
            "yref": "y"
           },
           {
            "fillcolor": "rgba(0, 0, 187, 0.5)",
            "line": {
             "color": "rgba(0, 0, 187, 0.5)"
            },
            "type": "circle",
            "x0": 3.192994668244981,
            "x1": 3.592994668244981,
            "xref": "x",
            "y0": 11.636542294180643,
            "y1": 12.036542294180641,
            "yref": "y"
           },
           {
            "line": {
             "color": "white",
             "width": 3
            },
            "type": "line",
            "x0": 4.910053840320399,
            "x1": 5.101573183055676,
            "y0": 11.869900883678582,
            "y1": 11.927523286945432
           },
           {
            "line": {
             "color": "white",
             "width": 3
            },
            "type": "line",
            "x0": 5.627715254763864,
            "x1": 5.826136935029311,
            "y0": 12.55156316902829,
            "y1": 12.576639787632812
           },
           {
            "line": {
             "color": "black",
             "width": 3
            },
            "type": "line",
            "x0": 2.5753805918516717,
            "x1": 2.7667135552950666,
            "y0": 11.057134656733899,
            "y1": 11.11537293538264
           },
           {
            "line": {
             "color": "black",
             "width": 3
            },
            "type": "line",
            "x0": 4.139108079110754,
            "x1": 4.326772531873403,
            "y0": 11.392075061200007,
            "y1": 11.461227452115255
           },
           {
            "line": {
             "color": "white",
             "width": 3
            },
            "type": "line",
            "x0": 4.473104815018424,
            "x1": 4.650764646033634,
            "y0": 12.261988961220764,
            "y1": 12.35384202019893
           },
           {
            "line": {
             "color": "white",
             "width": 3
            },
            "type": "line",
            "x0": 8.07284233587497,
            "x1": 8.26885086066547,
            "y0": 12.597751458406028,
            "y1": 12.637508950900548
           },
           {
            "line": {
             "color": "white",
             "width": 3
            },
            "type": "line",
            "x0": 6.054862661755736,
            "x1": 6.252466508971626,
            "y0": 12.035707038924079,
            "y1": 12.066573194588164
           },
           {
            "line": {
             "color": "black",
             "width": 3
            },
            "type": "line",
            "x0": 3.372159139110701,
            "x1": 3.565184331981998,
            "y0": 11.105923941512765,
            "y1": 11.158281127428346
           },
           {
            "line": {
             "color": "white",
             "width": 3
            },
            "type": "line",
            "x0": 6.846326486130385,
            "x1": 7.043361834265626,
            "y0": 12.576604344186332,
            "y1": 12.610912821057573
           },
           {
            "line": {
             "color": "white",
             "width": 3
            },
            "type": "line",
            "x0": 3.392994668244981,
            "x1": 3.585740663147336,
            "y0": 11.836542294180642,
            "y1": 11.889918144985113
           }
          ],
          "title": {
           "text": "<b>Percentage using the shortest path: 0%  |  Number of Agents: 10</b>",
           "x": 0.5
          }
         },
         "name": "450"
        },
        {
         "data": [
          {
           "hoverinfo": "name",
           "line": {
            "color": "white"
           },
           "mode": "lines",
           "name": "Exterior",
           "showlegend": false,
           "x": [
            10.1,
            10.1,
            15.0,
            15.0,
            13.6,
            13.6,
            15.0,
            15.0,
            13.6,
            13.6,
            15.0,
            15.0,
            10.1,
            10.1,
            9.9,
            9.9,
            5.1,
            5.1,
            4.9,
            4.9,
            0.0,
            0.0,
            1.5,
            1.5,
            0.0,
            0.0,
            1.5,
            1.5,
            0.0,
            0.0,
            4.9,
            4.9,
            5.1,
            5.1,
            9.9,
            9.9,
            10.1
           ],
           "y": [
            1.5,
            0.0,
            0.0,
            4.9,
            4.9,
            5.1,
            5.1,
            9.9,
            9.9,
            10.1,
            10.1,
            15.0,
            15.0,
            13.6,
            13.6,
            15.0,
            15.0,
            13.6,
            13.6,
            15.0,
            15.0,
            10.1,
            10.1,
            9.9,
            9.9,
            5.1,
            5.1,
            4.9,
            4.9,
            0.0,
            0.0,
            1.5,
            1.5,
            0.0,
            0.0,
            1.5,
            1.5
           ],
           "type": "scatter"
          },
          {
           "hoverinfo": "name",
           "line": {
            "color": "white"
           },
           "mode": "lines",
           "name": "Obstacle",
           "showlegend": false,
           "x": [
            10.1,
            11.5,
            11.5,
            10.1,
            10.1,
            9.9,
            9.9,
            8.6,
            8.6,
            9.9,
            9.9,
            10.1,
            10.1
           ],
           "y": [
            5.1,
            5.1,
            4.9,
            4.9,
            3.6,
            3.6,
            4.9,
            4.9,
            5.1,
            5.1,
            6.5,
            6.5,
            5.1
           ],
           "type": "scatter"
          },
          {
           "hoverinfo": "name",
           "line": {
            "color": "white"
           },
           "mode": "lines",
           "name": "Obstacle",
           "showlegend": false,
           "x": [
            10.1,
            11.5,
            11.5,
            10.1,
            10.1,
            9.9,
            9.9,
            8.6,
            8.6,
            9.9,
            9.9,
            10.1,
            10.1
           ],
           "y": [
            10.1,
            10.1,
            9.9,
            9.9,
            8.6,
            8.6,
            9.9,
            9.9,
            10.1,
            10.1,
            11.5,
            11.5,
            10.1
           ],
           "type": "scatter"
          },
          {
           "hoverinfo": "name",
           "line": {
            "color": "white"
           },
           "mode": "lines",
           "name": "Obstacle",
           "showlegend": false,
           "x": [
            5.1,
            6.4,
            6.4,
            5.1,
            5.1,
            4.9,
            4.9,
            3.6,
            3.6,
            4.9,
            4.9,
            5.1,
            5.1
           ],
           "y": [
            5.1,
            5.1,
            4.9,
            4.9,
            3.6,
            3.6,
            4.9,
            4.9,
            5.1,
            5.1,
            6.5,
            6.5,
            5.1
           ],
           "type": "scatter"
          },
          {
           "hoverinfo": "name",
           "line": {
            "color": "white"
           },
           "mode": "lines",
           "name": "Obstacle",
           "showlegend": false,
           "x": [
            5.1,
            6.4,
            6.4,
            5.1,
            5.1,
            4.9,
            4.9,
            3.6,
            3.6,
            4.9,
            4.9,
            5.1,
            5.1
           ],
           "y": [
            10.1,
            10.1,
            9.9,
            9.9,
            8.6,
            8.6,
            9.9,
            9.9,
            10.1,
            10.1,
            11.5,
            11.5,
            10.1
           ],
           "type": "scatter"
          },
          {
           "fill": "toself",
           "fillcolor": "rgb(0, 0, 0)",
           "hoverinfo": "name",
           "line": {
            "width": 0
           },
           "mode": "lines",
           "name": "Risk Area",
           "showlegend": false,
           "x": [
            1.5,
            1.5,
            3.6,
            3.6,
            4.9,
            4.9,
            5.0,
            5.0,
            4.9,
            4.9,
            0.0,
            0.0,
            1.5
           ],
           "y": [
            4.9,
            5.0,
            5.0,
            4.9,
            4.9,
            3.6,
            3.6,
            1.5,
            1.5,
            0.0,
            0.0,
            4.9,
            4.9
           ],
           "type": "scatter"
          },
          {
           "fill": "toself",
           "fillcolor": "rgb(178, 0, 0)",
           "hoverinfo": "name",
           "line": {
            "width": 0
           },
           "mode": "lines",
           "name": "Risk Area",
           "showlegend": false,
           "x": [
            9.9,
            9.9,
            5.1,
            5.1,
            5.0,
            5.0,
            5.1,
            5.1,
            6.4,
            6.4,
            8.6,
            8.6,
            9.9,
            9.9,
            10.0,
            10.0,
            9.9
           ],
           "y": [
            1.5,
            0.0,
            0.0,
            1.5,
            1.5,
            3.6,
            3.6,
            4.9,
            4.9,
            5.0,
            5.0,
            4.9,
            4.9,
            3.6,
            3.6,
            1.5,
            1.5
           ],
           "type": "scatter"
          },
          {
           "fill": "toself",
           "fillcolor": "rgb(25, 0, 0)",
           "hoverinfo": "name",
           "line": {
            "width": 0
           },
           "mode": "lines",
           "name": "Risk Area",
           "showlegend": false,
           "x": [
            13.6,
            15.0,
            15.0,
            10.1,
            10.1,
            10.0,
            10.0,
            10.1,
            10.1,
            11.5,
            11.5,
            13.6,
            13.6
           ],
           "y": [
            4.9,
            4.9,
            0.0,
            0.0,
            1.5,
            1.5,
            3.6,
            3.6,
            4.9,
            4.9,
            5.0,
            5.0,
            4.9
           ],
           "type": "scatter"
          },
          {
           "fill": "toself",
           "fillcolor": "rgb(178, 0, 0)",
           "hoverinfo": "name",
           "line": {
            "width": 0
           },
           "mode": "lines",
           "name": "Risk Area",
           "showlegend": false,
           "x": [
            13.6,
            15.0,
            15.0,
            13.6,
            13.6,
            11.5,
            11.5,
            10.1,
            10.1,
            10.0,
            10.0,
            10.1,
            10.1,
            11.5,
            11.5,
            13.6,
            13.6
           ],
           "y": [
            9.9,
            9.9,
            5.1,
            5.1,
            5.0,
            5.0,
            5.1,
            5.1,
            6.5,
            6.5,
            8.6,
            8.6,
            9.9,
            9.9,
            10.0,
            10.0,
            9.9
           ],
           "type": "scatter"
          },
          {
           "fill": "toself",
           "fillcolor": "rgb(204, 0, 0)",
           "hoverinfo": "name",
           "line": {
            "width": 0
           },
           "mode": "lines",
           "name": "Risk Area",
           "showlegend": false,
           "x": [
            9.9,
            9.9,
            8.6,
            8.6,
            6.4,
            6.4,
            5.1,
            5.1,
            5.0,
            5.0,
            5.1,
            5.1,
            6.4,
            6.4,
            8.6,
            8.6,
            9.9,
            9.9,
            10.0,
            10.0,
            9.9
           ],
           "y": [
            6.5,
            5.1,
            5.1,
            5.0,
            5.0,
            5.1,
            5.1,
            6.5,
            6.5,
            8.6,
            8.6,
            9.9,
            9.9,
            10.0,
            10.0,
            9.9,
            9.9,
            8.6,
            8.6,
            6.5,
            6.5
           ],
           "type": "scatter"
          },
          {
           "fill": "toself",
           "fillcolor": "rgb(25, 0, 0)",
           "hoverinfo": "name",
           "line": {
            "width": 0
           },
           "mode": "lines",
           "name": "Risk Area",
           "showlegend": false,
           "x": [
            4.9,
            4.9,
            3.6,
            3.6,
            1.5,
            1.5,
            0.0,
            0.0,
            1.5,
            1.5,
            3.6,
            3.6,
            4.9,
            4.9,
            5.0,
            5.0,
            4.9
           ],
           "y": [
            6.5,
            5.1,
            5.1,
            5.0,
            5.0,
            5.1,
            5.1,
            9.9,
            9.9,
            10.0,
            10.0,
            9.9,
            9.9,
            8.6,
            8.6,
            6.5,
            6.5
           ],
           "type": "scatter"
          },
          {
           "fill": "toself",
           "fillcolor": "rgb(51, 0, 0)",
           "hoverinfo": "name",
           "line": {
            "width": 0
           },
           "mode": "lines",
           "name": "Risk Area",
           "showlegend": false,
           "x": [
            1.5,
            0.0,
            0.0,
            4.9,
            4.9,
            5.0,
            5.0,
            4.9,
            4.9,
            3.6,
            3.6,
            1.5,
            1.5
           ],
           "y": [
            10.1,
            10.1,
            15.0,
            15.0,
            13.6,
            13.6,
            11.5,
            11.5,
            10.1,
            10.1,
            10.0,
            10.0,
            10.1
           ],
           "type": "scatter"
          },
          {
           "fill": "toself",
           "fillcolor": "rgb(0, 0, 0)",
           "hoverinfo": "name",
           "line": {
            "width": 0
           },
           "mode": "lines",
           "name": "Risk Area",
           "showlegend": false,
           "x": [
            6.4,
            5.1,
            5.1,
            5.0,
            5.0,
            5.1,
            5.1,
            9.9,
            9.9,
            10.0,
            10.0,
            9.9,
            9.9,
            8.6,
            8.6,
            6.4,
            6.4
           ],
           "y": [
            10.1,
            10.1,
            11.5,
            11.5,
            13.6,
            13.6,
            15.0,
            15.0,
            13.6,
            13.6,
            11.5,
            11.5,
            10.1,
            10.1,
            10.0,
            10.0,
            10.1
           ],
           "type": "scatter"
          },
          {
           "fill": "toself",
           "fillcolor": "rgb(0, 0, 0)",
           "hoverinfo": "name",
           "line": {
            "width": 0
           },
           "mode": "lines",
           "name": "Risk Area",
           "showlegend": false,
           "x": [
            10.1,
            10.1,
            15.0,
            15.0,
            13.6,
            13.6,
            11.5,
            11.5,
            10.1,
            10.1,
            10.0,
            10.0,
            10.1
           ],
           "y": [
            13.6,
            15.0,
            15.0,
            10.1,
            10.1,
            10.0,
            10.0,
            10.1,
            10.1,
            11.5,
            11.5,
            13.6,
            13.6
           ],
           "type": "scatter"
          },
          {
           "hoverinfo": "text",
           "marker": {
            "opacity": 1,
            "size": 1
           },
           "mode": "markers",
           "showlegend": false,
           "text": [
            "ID: 171, Pos(6.46,12.07)"
           ],
           "x": [
            6.459100054472618
           ],
           "y": [
            12.065808819787904
           ],
           "type": "scatter"
          },
          {
           "hoverinfo": "text",
           "marker": {
            "opacity": 1,
            "size": 1
           },
           "mode": "markers",
           "showlegend": false,
           "text": [
            "ID: 172, Pos(7.19,12.87)"
           ],
           "x": [
            7.1933292390534245
           ],
           "y": [
            12.867273666103213
           ],
           "type": "scatter"
          },
          {
           "hoverinfo": "text",
           "marker": {
            "opacity": 1,
            "size": 1
           },
           "mode": "markers",
           "showlegend": false,
           "text": [
            "ID: 173, Pos(3.43,11.31)"
           ],
           "x": [
            3.433629336478838
           ],
           "y": [
            11.313549058583012
           ],
           "type": "scatter"
          },
          {
           "hoverinfo": "text",
           "marker": {
            "opacity": 1,
            "size": 1
           },
           "mode": "markers",
           "showlegend": false,
           "text": [
            "ID: 174, Pos(5.26,11.93)"
           ],
           "x": [
            5.257985878386476
           ],
           "y": [
            11.928254313728782
           ],
           "type": "scatter"
          },
          {
           "hoverinfo": "text",
           "marker": {
            "opacity": 1,
            "size": 1
           },
           "mode": "markers",
           "showlegend": false,
           "text": [
            "ID: 175, Pos(6.03,12.59)"
           ],
           "x": [
            6.025582940826339
           ],
           "y": [
            12.586794357095547
           ],
           "type": "scatter"
          },
          {
           "hoverinfo": "text",
           "marker": {
            "opacity": 1,
            "size": 1
           },
           "mode": "markers",
           "showlegend": false,
           "text": [
            "ID: 176, Pos(9.64,12.92)"
           ],
           "x": [
            9.64090539165544
           ],
           "y": [
            12.915836747782098
           ],
           "type": "scatter"
          },
          {
           "hoverinfo": "text",
           "marker": {
            "opacity": 1,
            "size": 1
           },
           "mode": "markers",
           "showlegend": false,
           "text": [
            "ID: 177, Pos(7.64,12.25)"
           ],
           "x": [
            7.6397799004895885
           ],
           "y": [
            12.247317912817934
           ],
           "type": "scatter"
          },
          {
           "hoverinfo": "text",
           "marker": {
            "opacity": 1,
            "size": 1
           },
           "mode": "markers",
           "showlegend": false,
           "text": [
            "ID: 178, Pos(4.34,11.46)"
           ],
           "x": [
            4.338628833699183
           ],
           "y": [
            11.463184266724607
           ],
           "type": "scatter"
          },
          {
           "hoverinfo": "text",
           "marker": {
            "opacity": 1,
            "size": 1
           },
           "mode": "markers",
           "showlegend": false,
           "text": [
            "ID: 179, Pos(8.42,12.85)"
           ],
           "x": [
            8.422869447640453
           ],
           "y": [
            12.849572745101298
           ],
           "type": "scatter"
          },
          {
           "hoverinfo": "text",
           "marker": {
            "opacity": 1,
            "size": 1
           },
           "mode": "markers",
           "showlegend": false,
           "text": [
            "ID: 180, Pos(4.84,12.41)"
           ],
           "x": [
            4.836618353299724
           ],
           "y": [
            12.40537877624748
           ],
           "type": "scatter"
          }
         ],
         "layout": {
          "shapes": [
           {
            "fillcolor": "rgba(0, 0, 132, 0.5)",
            "line": {
             "color": "rgba(0, 0, 132, 0.5)"
            },
            "type": "circle",
            "x0": 6.259100054472618,
            "x1": 6.659100054472618,
            "xref": "x",
            "y0": 11.865808819787905,
            "y1": 12.265808819787903,
            "yref": "y"
           },
           {
            "fillcolor": "rgba(0, 0, 128, 0.5)",
            "line": {
             "color": "rgba(0, 0, 128, 0.5)"
            },
            "type": "circle",
            "x0": 6.993329239053424,
            "x1": 7.393329239053425,
            "xref": "x",
            "y0": 12.667273666103213,
            "y1": 13.067273666103212,
            "yref": "y"
           },
           {
            "fillcolor": "rgba(38, 255, 209, 0.5)",
            "line": {
             "color": "rgba(38, 255, 209, 0.5)"
            },
            "type": "circle",
            "x0": 3.2336293364788378,
            "x1": 3.633629336478838,
            "xref": "x",
            "y0": 11.113549058583013,
            "y1": 11.513549058583012,
            "yref": "y"
           },
           {
            "fillcolor": "rgba(0, 0, 128, 0.5)",
            "line": {
             "color": "rgba(0, 0, 128, 0.5)"
            },
            "type": "circle",
            "x0": 5.057985878386476,
            "x1": 5.457985878386476,
            "xref": "x",
            "y0": 11.728254313728783,
            "y1": 12.128254313728782,
            "yref": "y"
           },
           {
            "fillcolor": "rgba(0, 0, 132, 0.5)",
            "line": {
             "color": "rgba(0, 0, 132, 0.5)"
            },
            "type": "circle",
            "x0": 5.825582940826338,
            "x1": 6.225582940826339,
            "xref": "x",
            "y0": 12.386794357095548,
            "y1": 12.786794357095546,
            "yref": "y"
           },
           {
            "fillcolor": "rgba(0, 0, 128, 0.5)",
            "line": {
             "color": "rgba(0, 0, 128, 0.5)"
            },
            "type": "circle",
            "x0": 9.440905391655441,
            "x1": 9.84090539165544,
            "xref": "x",
            "y0": 12.715836747782099,
            "y1": 13.115836747782097,
            "yref": "y"
           },
           {
            "fillcolor": "rgba(0, 0, 128, 0.5)",
            "line": {
             "color": "rgba(0, 0, 128, 0.5)"
            },
            "type": "circle",
            "x0": 7.439779900489588,
            "x1": 7.839779900489589,
            "xref": "x",
            "y0": 12.047317912817935,
            "y1": 12.447317912817933,
            "yref": "y"
           },
           {
            "fillcolor": "rgba(0, 117, 255, 0.5)",
            "line": {
             "color": "rgba(0, 117, 255, 0.5)"
            },
            "type": "circle",
            "x0": 4.138628833699183,
            "x1": 4.538628833699184,
            "xref": "x",
            "y0": 11.263184266724608,
            "y1": 11.663184266724606,
            "yref": "y"
           },
           {
            "fillcolor": "rgba(0, 0, 128, 0.5)",
            "line": {
             "color": "rgba(0, 0, 128, 0.5)"
            },
            "type": "circle",
            "x0": 8.222869447640454,
            "x1": 8.622869447640452,
            "xref": "x",
            "y0": 12.649572745101299,
            "y1": 13.049572745101297,
            "yref": "y"
           },
           {
            "fillcolor": "rgba(0, 0, 128, 0.5)",
            "line": {
             "color": "rgba(0, 0, 128, 0.5)"
            },
            "type": "circle",
            "x0": 4.636618353299724,
            "x1": 5.036618353299724,
            "xref": "x",
            "y0": 12.20537877624748,
            "y1": 12.605378776247479,
            "yref": "y"
           },
           {
            "line": {
             "color": "white",
             "width": 3
            },
            "type": "line",
            "x0": 6.459100054472618,
            "x1": 6.6582965042257145,
            "y0": 12.065808819787904,
            "y1": 12.083718995827295
           },
           {
            "line": {
             "color": "white",
             "width": 3
            },
            "type": "line",
            "x0": 7.1933292390534245,
            "x1": 7.389422386646309,
            "y0": 12.867273666103213,
            "y1": 12.906611656228726
           },
           {
            "line": {
             "color": "black",
             "width": 3
            },
            "type": "line",
            "x0": 3.433629336478838,
            "x1": 3.625521445758402,
            "y0": 11.313549058583012,
            "y1": 11.369917652642469
           },
           {
            "line": {
             "color": "white",
             "width": 3
            },
            "type": "line",
            "x0": 5.257985878386476,
            "x1": 5.456854433410359,
            "y0": 11.928254313728782,
            "y1": 11.949498085115069
           },
           {
            "line": {
             "color": "white",
             "width": 3
            },
            "type": "line",
            "x0": 6.025582940826339,
            "x1": 6.216404168246302,
            "y0": 12.586794357095547,
            "y1": 12.64668808937146
           },
           {
            "line": {
             "color": "white",
             "width": 3
            },
            "type": "line",
            "x0": 9.64090539165544,
            "x1": 9.836919510228823,
            "y0": 12.915836747782098,
            "y1": 12.95556665238682
           },
           {
            "line": {
             "color": "white",
             "width": 3
            },
            "type": "line",
            "x0": 7.6397799004895885,
            "x1": 7.83669000985345,
            "y0": 12.247317912817934,
            "y1": 12.282338033181976
           },
           {
            "line": {
             "color": "white",
             "width": 3
            },
            "type": "line",
            "x0": 4.338628833699183,
            "x1": 4.523188977078295,
            "y0": 11.463184266724607,
            "y1": 11.54023978875828
           },
           {
            "line": {
             "color": "white",
             "width": 3
            },
            "type": "line",
            "x0": 8.422869447640453,
            "x1": 8.619959188279779,
            "y0": 12.849572745101298,
            "y1": 12.883567364303799
           },
           {
            "line": {
             "color": "white",
             "width": 3
            },
            "type": "line",
            "x0": 4.836618353299724,
            "x1": 5.029822668827726,
            "y0": 12.40537877624748,
            "y1": 12.457071062532343
           }
          ],
          "title": {
           "text": "<b>Percentage using the shortest path: 0%  |  Number of Agents: 10</b>",
           "x": 0.5
          }
         },
         "name": "500"
        },
        {
         "data": [
          {
           "hoverinfo": "name",
           "line": {
            "color": "white"
           },
           "mode": "lines",
           "name": "Exterior",
           "showlegend": false,
           "x": [
            10.1,
            10.1,
            15.0,
            15.0,
            13.6,
            13.6,
            15.0,
            15.0,
            13.6,
            13.6,
            15.0,
            15.0,
            10.1,
            10.1,
            9.9,
            9.9,
            5.1,
            5.1,
            4.9,
            4.9,
            0.0,
            0.0,
            1.5,
            1.5,
            0.0,
            0.0,
            1.5,
            1.5,
            0.0,
            0.0,
            4.9,
            4.9,
            5.1,
            5.1,
            9.9,
            9.9,
            10.1
           ],
           "y": [
            1.5,
            0.0,
            0.0,
            4.9,
            4.9,
            5.1,
            5.1,
            9.9,
            9.9,
            10.1,
            10.1,
            15.0,
            15.0,
            13.6,
            13.6,
            15.0,
            15.0,
            13.6,
            13.6,
            15.0,
            15.0,
            10.1,
            10.1,
            9.9,
            9.9,
            5.1,
            5.1,
            4.9,
            4.9,
            0.0,
            0.0,
            1.5,
            1.5,
            0.0,
            0.0,
            1.5,
            1.5
           ],
           "type": "scatter"
          },
          {
           "hoverinfo": "name",
           "line": {
            "color": "white"
           },
           "mode": "lines",
           "name": "Obstacle",
           "showlegend": false,
           "x": [
            10.1,
            11.5,
            11.5,
            10.1,
            10.1,
            9.9,
            9.9,
            8.6,
            8.6,
            9.9,
            9.9,
            10.1,
            10.1
           ],
           "y": [
            5.1,
            5.1,
            4.9,
            4.9,
            3.6,
            3.6,
            4.9,
            4.9,
            5.1,
            5.1,
            6.5,
            6.5,
            5.1
           ],
           "type": "scatter"
          },
          {
           "hoverinfo": "name",
           "line": {
            "color": "white"
           },
           "mode": "lines",
           "name": "Obstacle",
           "showlegend": false,
           "x": [
            10.1,
            11.5,
            11.5,
            10.1,
            10.1,
            9.9,
            9.9,
            8.6,
            8.6,
            9.9,
            9.9,
            10.1,
            10.1
           ],
           "y": [
            10.1,
            10.1,
            9.9,
            9.9,
            8.6,
            8.6,
            9.9,
            9.9,
            10.1,
            10.1,
            11.5,
            11.5,
            10.1
           ],
           "type": "scatter"
          },
          {
           "hoverinfo": "name",
           "line": {
            "color": "white"
           },
           "mode": "lines",
           "name": "Obstacle",
           "showlegend": false,
           "x": [
            5.1,
            6.4,
            6.4,
            5.1,
            5.1,
            4.9,
            4.9,
            3.6,
            3.6,
            4.9,
            4.9,
            5.1,
            5.1
           ],
           "y": [
            5.1,
            5.1,
            4.9,
            4.9,
            3.6,
            3.6,
            4.9,
            4.9,
            5.1,
            5.1,
            6.5,
            6.5,
            5.1
           ],
           "type": "scatter"
          },
          {
           "hoverinfo": "name",
           "line": {
            "color": "white"
           },
           "mode": "lines",
           "name": "Obstacle",
           "showlegend": false,
           "x": [
            5.1,
            6.4,
            6.4,
            5.1,
            5.1,
            4.9,
            4.9,
            3.6,
            3.6,
            4.9,
            4.9,
            5.1,
            5.1
           ],
           "y": [
            10.1,
            10.1,
            9.9,
            9.9,
            8.6,
            8.6,
            9.9,
            9.9,
            10.1,
            10.1,
            11.5,
            11.5,
            10.1
           ],
           "type": "scatter"
          },
          {
           "fill": "toself",
           "fillcolor": "rgb(0, 0, 0)",
           "hoverinfo": "name",
           "line": {
            "width": 0
           },
           "mode": "lines",
           "name": "Risk Area",
           "showlegend": false,
           "x": [
            1.5,
            1.5,
            3.6,
            3.6,
            4.9,
            4.9,
            5.0,
            5.0,
            4.9,
            4.9,
            0.0,
            0.0,
            1.5
           ],
           "y": [
            4.9,
            5.0,
            5.0,
            4.9,
            4.9,
            3.6,
            3.6,
            1.5,
            1.5,
            0.0,
            0.0,
            4.9,
            4.9
           ],
           "type": "scatter"
          },
          {
           "fill": "toself",
           "fillcolor": "rgb(178, 0, 0)",
           "hoverinfo": "name",
           "line": {
            "width": 0
           },
           "mode": "lines",
           "name": "Risk Area",
           "showlegend": false,
           "x": [
            9.9,
            9.9,
            5.1,
            5.1,
            5.0,
            5.0,
            5.1,
            5.1,
            6.4,
            6.4,
            8.6,
            8.6,
            9.9,
            9.9,
            10.0,
            10.0,
            9.9
           ],
           "y": [
            1.5,
            0.0,
            0.0,
            1.5,
            1.5,
            3.6,
            3.6,
            4.9,
            4.9,
            5.0,
            5.0,
            4.9,
            4.9,
            3.6,
            3.6,
            1.5,
            1.5
           ],
           "type": "scatter"
          },
          {
           "fill": "toself",
           "fillcolor": "rgb(25, 0, 0)",
           "hoverinfo": "name",
           "line": {
            "width": 0
           },
           "mode": "lines",
           "name": "Risk Area",
           "showlegend": false,
           "x": [
            13.6,
            15.0,
            15.0,
            10.1,
            10.1,
            10.0,
            10.0,
            10.1,
            10.1,
            11.5,
            11.5,
            13.6,
            13.6
           ],
           "y": [
            4.9,
            4.9,
            0.0,
            0.0,
            1.5,
            1.5,
            3.6,
            3.6,
            4.9,
            4.9,
            5.0,
            5.0,
            4.9
           ],
           "type": "scatter"
          },
          {
           "fill": "toself",
           "fillcolor": "rgb(178, 0, 0)",
           "hoverinfo": "name",
           "line": {
            "width": 0
           },
           "mode": "lines",
           "name": "Risk Area",
           "showlegend": false,
           "x": [
            13.6,
            15.0,
            15.0,
            13.6,
            13.6,
            11.5,
            11.5,
            10.1,
            10.1,
            10.0,
            10.0,
            10.1,
            10.1,
            11.5,
            11.5,
            13.6,
            13.6
           ],
           "y": [
            9.9,
            9.9,
            5.1,
            5.1,
            5.0,
            5.0,
            5.1,
            5.1,
            6.5,
            6.5,
            8.6,
            8.6,
            9.9,
            9.9,
            10.0,
            10.0,
            9.9
           ],
           "type": "scatter"
          },
          {
           "fill": "toself",
           "fillcolor": "rgb(204, 0, 0)",
           "hoverinfo": "name",
           "line": {
            "width": 0
           },
           "mode": "lines",
           "name": "Risk Area",
           "showlegend": false,
           "x": [
            9.9,
            9.9,
            8.6,
            8.6,
            6.4,
            6.4,
            5.1,
            5.1,
            5.0,
            5.0,
            5.1,
            5.1,
            6.4,
            6.4,
            8.6,
            8.6,
            9.9,
            9.9,
            10.0,
            10.0,
            9.9
           ],
           "y": [
            6.5,
            5.1,
            5.1,
            5.0,
            5.0,
            5.1,
            5.1,
            6.5,
            6.5,
            8.6,
            8.6,
            9.9,
            9.9,
            10.0,
            10.0,
            9.9,
            9.9,
            8.6,
            8.6,
            6.5,
            6.5
           ],
           "type": "scatter"
          },
          {
           "fill": "toself",
           "fillcolor": "rgb(76, 0, 0)",
           "hoverinfo": "name",
           "line": {
            "width": 0
           },
           "mode": "lines",
           "name": "Risk Area",
           "showlegend": false,
           "x": [
            4.9,
            4.9,
            3.6,
            3.6,
            1.5,
            1.5,
            0.0,
            0.0,
            1.5,
            1.5,
            3.6,
            3.6,
            4.9,
            4.9,
            5.0,
            5.0,
            4.9
           ],
           "y": [
            6.5,
            5.1,
            5.1,
            5.0,
            5.0,
            5.1,
            5.1,
            9.9,
            9.9,
            10.0,
            10.0,
            9.9,
            9.9,
            8.6,
            8.6,
            6.5,
            6.5
           ],
           "type": "scatter"
          },
          {
           "fill": "toself",
           "fillcolor": "rgb(51, 0, 0)",
           "hoverinfo": "name",
           "line": {
            "width": 0
           },
           "mode": "lines",
           "name": "Risk Area",
           "showlegend": false,
           "x": [
            1.5,
            0.0,
            0.0,
            4.9,
            4.9,
            5.0,
            5.0,
            4.9,
            4.9,
            3.6,
            3.6,
            1.5,
            1.5
           ],
           "y": [
            10.1,
            10.1,
            15.0,
            15.0,
            13.6,
            13.6,
            11.5,
            11.5,
            10.1,
            10.1,
            10.0,
            10.0,
            10.1
           ],
           "type": "scatter"
          },
          {
           "fill": "toself",
           "fillcolor": "rgb(0, 0, 0)",
           "hoverinfo": "name",
           "line": {
            "width": 0
           },
           "mode": "lines",
           "name": "Risk Area",
           "showlegend": false,
           "x": [
            6.4,
            5.1,
            5.1,
            5.0,
            5.0,
            5.1,
            5.1,
            9.9,
            9.9,
            10.0,
            10.0,
            9.9,
            9.9,
            8.6,
            8.6,
            6.4,
            6.4
           ],
           "y": [
            10.1,
            10.1,
            11.5,
            11.5,
            13.6,
            13.6,
            15.0,
            15.0,
            13.6,
            13.6,
            11.5,
            11.5,
            10.1,
            10.1,
            10.0,
            10.0,
            10.1
           ],
           "type": "scatter"
          },
          {
           "fill": "toself",
           "fillcolor": "rgb(0, 0, 0)",
           "hoverinfo": "name",
           "line": {
            "width": 0
           },
           "mode": "lines",
           "name": "Risk Area",
           "showlegend": false,
           "x": [
            10.1,
            10.1,
            15.0,
            15.0,
            13.6,
            13.6,
            11.5,
            11.5,
            10.1,
            10.1,
            10.0,
            10.0,
            10.1
           ],
           "y": [
            13.6,
            15.0,
            15.0,
            10.1,
            10.1,
            10.0,
            10.0,
            10.1,
            10.1,
            11.5,
            11.5,
            13.6,
            13.6
           ],
           "type": "scatter"
          },
          {
           "hoverinfo": "text",
           "marker": {
            "opacity": 1,
            "size": 1
           },
           "mode": "markers",
           "showlegend": false,
           "text": [
            "ID: 171, Pos(8.03,12.32)"
           ],
           "x": [
            8.034369255207718
           ],
           "y": [
            12.316817579537963
           ],
           "type": "scatter"
          },
          {
           "hoverinfo": "text",
           "marker": {
            "opacity": 1,
            "size": 1
           },
           "mode": "markers",
           "showlegend": false,
           "text": [
            "ID: 172, Pos(8.77,13.16)"
           ],
           "x": [
            8.765474156658955
           ],
           "y": [
            13.164422946364414
           ],
           "type": "scatter"
          },
          {
           "hoverinfo": "text",
           "marker": {
            "opacity": 1,
            "size": 1
           },
           "mode": "markers",
           "showlegend": false,
           "text": [
            "ID: 173, Pos(4.53,11.64)"
           ],
           "x": [
            4.527028406890869
           ],
           "y": [
            11.638635978563261
           ],
           "type": "scatter"
          },
          {
           "hoverinfo": "text",
           "marker": {
            "opacity": 1,
            "size": 1
           },
           "mode": "markers",
           "showlegend": false,
           "text": [
            "ID: 174, Pos(6.85,12.11)"
           ],
           "x": [
            6.846885413563132
           ],
           "y": [
            12.11189089807584
           ],
           "type": "scatter"
          },
          {
           "hoverinfo": "text",
           "marker": {
            "opacity": 1,
            "size": 1
           },
           "mode": "markers",
           "showlegend": false,
           "text": [
            "ID: 175, Pos(7.59,12.94)"
           ],
           "x": [
            7.585757691436647
           ],
           "y": [
            12.938806395622915
           ],
           "type": "scatter"
          },
          {
           "hoverinfo": "text",
           "marker": {
            "opacity": 1,
            "size": 1
           },
           "mode": "markers",
           "showlegend": false,
           "text": [
            "ID: 176, Pos(11.21,13.23)"
           ],
           "x": [
            11.209322439305359
           ],
           "y": [
            13.232154820434447
           ],
           "type": "scatter"
          },
          {
           "hoverinfo": "text",
           "marker": {
            "opacity": 1,
            "size": 1
           },
           "mode": "markers",
           "showlegend": false,
           "text": [
            "ID: 177, Pos(9.21,12.54)"
           ],
           "x": [
            9.211893606013096
           ],
           "y": [
            12.544631365344266
           ],
           "type": "scatter"
          },
          {
           "hoverinfo": "text",
           "marker": {
            "opacity": 1,
            "size": 1
           },
           "mode": "markers",
           "showlegend": false,
           "text": [
            "ID: 178, Pos(5.49,12.07)"
           ],
           "x": [
            5.49397768997114
           ],
           "y": [
            12.067632189409485
           ],
           "type": "scatter"
          },
          {
           "hoverinfo": "text",
           "marker": {
            "opacity": 1,
            "size": 1
           },
           "mode": "markers",
           "showlegend": false,
           "text": [
            "ID: 179, Pos(10.00,13.11)"
           ],
           "x": [
            10.00081243573555
           ],
           "y": [
            13.113869201136625
           ],
           "type": "scatter"
          },
          {
           "hoverinfo": "text",
           "marker": {
            "opacity": 1,
            "size": 1
           },
           "mode": "markers",
           "showlegend": false,
           "text": [
            "ID: 180, Pos(6.41,12.69)"
           ],
           "x": [
            6.407671384556447
           ],
           "y": [
            12.691402282796602
           ],
           "type": "scatter"
          }
         ],
         "layout": {
          "shapes": [
           {
            "fillcolor": "rgba(0, 0, 128, 0.5)",
            "line": {
             "color": "rgba(0, 0, 128, 0.5)"
            },
            "type": "circle",
            "x0": 7.834369255207718,
            "x1": 8.234369255207717,
            "xref": "x",
            "y0": 12.116817579537964,
            "y1": 12.516817579537962,
            "yref": "y"
           },
           {
            "fillcolor": "rgba(0, 0, 128, 0.5)",
            "line": {
             "color": "rgba(0, 0, 128, 0.5)"
            },
            "type": "circle",
            "x0": 8.565474156658956,
            "x1": 8.965474156658955,
            "xref": "x",
            "y0": 12.964422946364415,
            "y1": 13.364422946364414,
            "yref": "y"
           },
           {
            "fillcolor": "rgba(0, 69, 255, 0.5)",
            "line": {
             "color": "rgba(0, 69, 255, 0.5)"
            },
            "type": "circle",
            "x0": 4.327028406890869,
            "x1": 4.727028406890869,
            "xref": "x",
            "y0": 11.438635978563262,
            "y1": 11.83863597856326,
            "yref": "y"
           },
           {
            "fillcolor": "rgba(0, 0, 128, 0.5)",
            "line": {
             "color": "rgba(0, 0, 128, 0.5)"
            },
            "type": "circle",
            "x0": 6.6468854135631315,
            "x1": 7.046885413563132,
            "xref": "x",
            "y0": 11.911890898075841,
            "y1": 12.31189089807584,
            "yref": "y"
           },
           {
            "fillcolor": "rgba(0, 0, 128, 0.5)",
            "line": {
             "color": "rgba(0, 0, 128, 0.5)"
            },
            "type": "circle",
            "x0": 7.3857576914366465,
            "x1": 7.785757691436647,
            "xref": "x",
            "y0": 12.738806395622916,
            "y1": 13.138806395622915,
            "yref": "y"
           },
           {
            "fillcolor": "rgba(0, 0, 128, 0.5)",
            "line": {
             "color": "rgba(0, 0, 128, 0.5)"
            },
            "type": "circle",
            "x0": 11.00932243930536,
            "x1": 11.409322439305358,
            "xref": "x",
            "y0": 13.032154820434448,
            "y1": 13.432154820434446,
            "yref": "y"
           },
           {
            "fillcolor": "rgba(0, 0, 196, 0.5)",
            "line": {
             "color": "rgba(0, 0, 196, 0.5)"
            },
            "type": "circle",
            "x0": 9.011893606013096,
            "x1": 9.411893606013095,
            "xref": "x",
            "y0": 12.344631365344267,
            "y1": 12.744631365344265,
            "yref": "y"
           },
           {
            "fillcolor": "rgba(0, 0, 128, 0.5)",
            "line": {
             "color": "rgba(0, 0, 128, 0.5)"
            },
            "type": "circle",
            "x0": 5.29397768997114,
            "x1": 5.69397768997114,
            "xref": "x",
            "y0": 11.867632189409486,
            "y1": 12.267632189409484,
            "yref": "y"
           },
           {
            "fillcolor": "rgba(0, 0, 128, 0.5)",
            "line": {
             "color": "rgba(0, 0, 128, 0.5)"
            },
            "type": "circle",
            "x0": 9.800812435735551,
            "x1": 10.20081243573555,
            "xref": "x",
            "y0": 12.913869201136626,
            "y1": 13.313869201136624,
            "yref": "y"
           },
           {
            "fillcolor": "rgba(0, 0, 128, 0.5)",
            "line": {
             "color": "rgba(0, 0, 128, 0.5)"
            },
            "type": "circle",
            "x0": 6.207671384556447,
            "x1": 6.607671384556447,
            "xref": "x",
            "y0": 12.491402282796603,
            "y1": 12.891402282796601,
            "yref": "y"
           },
           {
            "line": {
             "color": "white",
             "width": 3
            },
            "type": "line",
            "x0": 8.034369255207718,
            "x1": 8.230981926516304,
            "y0": 12.316817579537963,
            "y1": 12.353470785139958
           },
           {
            "line": {
             "color": "white",
             "width": 3
            },
            "type": "line",
            "x0": 8.765474156658955,
            "x1": 8.962238034033797,
            "y0": 13.164422946364414,
            "y1": 13.200255565029789
           },
           {
            "line": {
             "color": "white",
             "width": 3
            },
            "type": "line",
            "x0": 4.527028406890869,
            "x1": 4.71113486409787,
            "y0": 11.638635978563261,
            "y1": 11.716769277576464
           },
           {
            "line": {
             "color": "white",
             "width": 3
            },
            "type": "line",
            "x0": 6.846885413563132,
            "x1": 7.044803932783528,
            "y0": 12.11189089807584,
            "y1": 12.140670400323197
           },
           {
            "line": {
             "color": "white",
             "width": 3
            },
            "type": "line",
            "x0": 7.585757691436647,
            "x1": 7.782062034782288,
            "y0": 12.938806395622915,
            "y1": 12.977076550883071
           },
           {
            "line": {
             "color": "white",
             "width": 3
            },
            "type": "line",
            "x0": 11.209322439305359,
            "x1": 11.405296365698161,
            "y0": 13.232154820434447,
            "y1": 13.272082507246836
           },
           {
            "line": {
             "color": "white",
             "width": 3
            },
            "type": "line",
            "x0": 9.211893606013096,
            "x1": 9.408147876168968,
            "y0": 12.544631365344266,
            "y1": 12.583157479157958
           },
           {
            "line": {
             "color": "white",
             "width": 3
            },
            "type": "line",
            "x0": 5.49397768997114,
            "x1": 5.689472021215555,
            "y0": 12.067632189409485,
            "y1": 12.109845533878966
           },
           {
            "line": {
             "color": "white",
             "width": 3
            },
            "type": "line",
            "x0": 10.00081243573555,
            "x1": 10.199107193239849,
            "y0": 13.113869201136625,
            "y1": 13.139930458710111
           },
           {
            "line": {
             "color": "white",
             "width": 3
            },
            "type": "line",
            "x0": 6.407671384556447,
            "x1": 6.60216626768464,
            "y0": 12.691402282796602,
            "y1": 12.738004218775167
           }
          ],
          "title": {
           "text": "<b>Percentage using the shortest path: 0%  |  Number of Agents: 10</b>",
           "x": 0.5
          }
         },
         "name": "550"
        },
        {
         "data": [
          {
           "hoverinfo": "name",
           "line": {
            "color": "white"
           },
           "mode": "lines",
           "name": "Exterior",
           "showlegend": false,
           "x": [
            10.1,
            10.1,
            15.0,
            15.0,
            13.6,
            13.6,
            15.0,
            15.0,
            13.6,
            13.6,
            15.0,
            15.0,
            10.1,
            10.1,
            9.9,
            9.9,
            5.1,
            5.1,
            4.9,
            4.9,
            0.0,
            0.0,
            1.5,
            1.5,
            0.0,
            0.0,
            1.5,
            1.5,
            0.0,
            0.0,
            4.9,
            4.9,
            5.1,
            5.1,
            9.9,
            9.9,
            10.1
           ],
           "y": [
            1.5,
            0.0,
            0.0,
            4.9,
            4.9,
            5.1,
            5.1,
            9.9,
            9.9,
            10.1,
            10.1,
            15.0,
            15.0,
            13.6,
            13.6,
            15.0,
            15.0,
            13.6,
            13.6,
            15.0,
            15.0,
            10.1,
            10.1,
            9.9,
            9.9,
            5.1,
            5.1,
            4.9,
            4.9,
            0.0,
            0.0,
            1.5,
            1.5,
            0.0,
            0.0,
            1.5,
            1.5
           ],
           "type": "scatter"
          },
          {
           "hoverinfo": "name",
           "line": {
            "color": "white"
           },
           "mode": "lines",
           "name": "Obstacle",
           "showlegend": false,
           "x": [
            10.1,
            11.5,
            11.5,
            10.1,
            10.1,
            9.9,
            9.9,
            8.6,
            8.6,
            9.9,
            9.9,
            10.1,
            10.1
           ],
           "y": [
            5.1,
            5.1,
            4.9,
            4.9,
            3.6,
            3.6,
            4.9,
            4.9,
            5.1,
            5.1,
            6.5,
            6.5,
            5.1
           ],
           "type": "scatter"
          },
          {
           "hoverinfo": "name",
           "line": {
            "color": "white"
           },
           "mode": "lines",
           "name": "Obstacle",
           "showlegend": false,
           "x": [
            10.1,
            11.5,
            11.5,
            10.1,
            10.1,
            9.9,
            9.9,
            8.6,
            8.6,
            9.9,
            9.9,
            10.1,
            10.1
           ],
           "y": [
            10.1,
            10.1,
            9.9,
            9.9,
            8.6,
            8.6,
            9.9,
            9.9,
            10.1,
            10.1,
            11.5,
            11.5,
            10.1
           ],
           "type": "scatter"
          },
          {
           "hoverinfo": "name",
           "line": {
            "color": "white"
           },
           "mode": "lines",
           "name": "Obstacle",
           "showlegend": false,
           "x": [
            5.1,
            6.4,
            6.4,
            5.1,
            5.1,
            4.9,
            4.9,
            3.6,
            3.6,
            4.9,
            4.9,
            5.1,
            5.1
           ],
           "y": [
            5.1,
            5.1,
            4.9,
            4.9,
            3.6,
            3.6,
            4.9,
            4.9,
            5.1,
            5.1,
            6.5,
            6.5,
            5.1
           ],
           "type": "scatter"
          },
          {
           "hoverinfo": "name",
           "line": {
            "color": "white"
           },
           "mode": "lines",
           "name": "Obstacle",
           "showlegend": false,
           "x": [
            5.1,
            6.4,
            6.4,
            5.1,
            5.1,
            4.9,
            4.9,
            3.6,
            3.6,
            4.9,
            4.9,
            5.1,
            5.1
           ],
           "y": [
            10.1,
            10.1,
            9.9,
            9.9,
            8.6,
            8.6,
            9.9,
            9.9,
            10.1,
            10.1,
            11.5,
            11.5,
            10.1
           ],
           "type": "scatter"
          },
          {
           "fill": "toself",
           "fillcolor": "rgb(0, 0, 0)",
           "hoverinfo": "name",
           "line": {
            "width": 0
           },
           "mode": "lines",
           "name": "Risk Area",
           "showlegend": false,
           "x": [
            1.5,
            1.5,
            3.6,
            3.6,
            4.9,
            4.9,
            5.0,
            5.0,
            4.9,
            4.9,
            0.0,
            0.0,
            1.5
           ],
           "y": [
            4.9,
            5.0,
            5.0,
            4.9,
            4.9,
            3.6,
            3.6,
            1.5,
            1.5,
            0.0,
            0.0,
            4.9,
            4.9
           ],
           "type": "scatter"
          },
          {
           "fill": "toself",
           "fillcolor": "rgb(178, 0, 0)",
           "hoverinfo": "name",
           "line": {
            "width": 0
           },
           "mode": "lines",
           "name": "Risk Area",
           "showlegend": false,
           "x": [
            9.9,
            9.9,
            5.1,
            5.1,
            5.0,
            5.0,
            5.1,
            5.1,
            6.4,
            6.4,
            8.6,
            8.6,
            9.9,
            9.9,
            10.0,
            10.0,
            9.9
           ],
           "y": [
            1.5,
            0.0,
            0.0,
            1.5,
            1.5,
            3.6,
            3.6,
            4.9,
            4.9,
            5.0,
            5.0,
            4.9,
            4.9,
            3.6,
            3.6,
            1.5,
            1.5
           ],
           "type": "scatter"
          },
          {
           "fill": "toself",
           "fillcolor": "rgb(25, 0, 0)",
           "hoverinfo": "name",
           "line": {
            "width": 0
           },
           "mode": "lines",
           "name": "Risk Area",
           "showlegend": false,
           "x": [
            13.6,
            15.0,
            15.0,
            10.1,
            10.1,
            10.0,
            10.0,
            10.1,
            10.1,
            11.5,
            11.5,
            13.6,
            13.6
           ],
           "y": [
            4.9,
            4.9,
            0.0,
            0.0,
            1.5,
            1.5,
            3.6,
            3.6,
            4.9,
            4.9,
            5.0,
            5.0,
            4.9
           ],
           "type": "scatter"
          },
          {
           "fill": "toself",
           "fillcolor": "rgb(178, 0, 0)",
           "hoverinfo": "name",
           "line": {
            "width": 0
           },
           "mode": "lines",
           "name": "Risk Area",
           "showlegend": false,
           "x": [
            13.6,
            15.0,
            15.0,
            13.6,
            13.6,
            11.5,
            11.5,
            10.1,
            10.1,
            10.0,
            10.0,
            10.1,
            10.1,
            11.5,
            11.5,
            13.6,
            13.6
           ],
           "y": [
            9.9,
            9.9,
            5.1,
            5.1,
            5.0,
            5.0,
            5.1,
            5.1,
            6.5,
            6.5,
            8.6,
            8.6,
            9.9,
            9.9,
            10.0,
            10.0,
            9.9
           ],
           "type": "scatter"
          },
          {
           "fill": "toself",
           "fillcolor": "rgb(204, 0, 0)",
           "hoverinfo": "name",
           "line": {
            "width": 0
           },
           "mode": "lines",
           "name": "Risk Area",
           "showlegend": false,
           "x": [
            9.9,
            9.9,
            8.6,
            8.6,
            6.4,
            6.4,
            5.1,
            5.1,
            5.0,
            5.0,
            5.1,
            5.1,
            6.4,
            6.4,
            8.6,
            8.6,
            9.9,
            9.9,
            10.0,
            10.0,
            9.9
           ],
           "y": [
            6.5,
            5.1,
            5.1,
            5.0,
            5.0,
            5.1,
            5.1,
            6.5,
            6.5,
            8.6,
            8.6,
            9.9,
            9.9,
            10.0,
            10.0,
            9.9,
            9.9,
            8.6,
            8.6,
            6.5,
            6.5
           ],
           "type": "scatter"
          },
          {
           "fill": "toself",
           "fillcolor": "rgb(76, 0, 0)",
           "hoverinfo": "name",
           "line": {
            "width": 0
           },
           "mode": "lines",
           "name": "Risk Area",
           "showlegend": false,
           "x": [
            4.9,
            4.9,
            3.6,
            3.6,
            1.5,
            1.5,
            0.0,
            0.0,
            1.5,
            1.5,
            3.6,
            3.6,
            4.9,
            4.9,
            5.0,
            5.0,
            4.9
           ],
           "y": [
            6.5,
            5.1,
            5.1,
            5.0,
            5.0,
            5.1,
            5.1,
            9.9,
            9.9,
            10.0,
            10.0,
            9.9,
            9.9,
            8.6,
            8.6,
            6.5,
            6.5
           ],
           "type": "scatter"
          },
          {
           "fill": "toself",
           "fillcolor": "rgb(51, 0, 0)",
           "hoverinfo": "name",
           "line": {
            "width": 0
           },
           "mode": "lines",
           "name": "Risk Area",
           "showlegend": false,
           "x": [
            1.5,
            0.0,
            0.0,
            4.9,
            4.9,
            5.0,
            5.0,
            4.9,
            4.9,
            3.6,
            3.6,
            1.5,
            1.5
           ],
           "y": [
            10.1,
            10.1,
            15.0,
            15.0,
            13.6,
            13.6,
            11.5,
            11.5,
            10.1,
            10.1,
            10.0,
            10.0,
            10.1
           ],
           "type": "scatter"
          },
          {
           "fill": "toself",
           "fillcolor": "rgb(0, 0, 0)",
           "hoverinfo": "name",
           "line": {
            "width": 0
           },
           "mode": "lines",
           "name": "Risk Area",
           "showlegend": false,
           "x": [
            6.4,
            5.1,
            5.1,
            5.0,
            5.0,
            5.1,
            5.1,
            9.9,
            9.9,
            10.0,
            10.0,
            9.9,
            9.9,
            8.6,
            8.6,
            6.4,
            6.4
           ],
           "y": [
            10.1,
            10.1,
            11.5,
            11.5,
            13.6,
            13.6,
            15.0,
            15.0,
            13.6,
            13.6,
            11.5,
            11.5,
            10.1,
            10.1,
            10.0,
            10.0,
            10.1
           ],
           "type": "scatter"
          },
          {
           "fill": "toself",
           "fillcolor": "rgb(0, 0, 0)",
           "hoverinfo": "name",
           "line": {
            "width": 0
           },
           "mode": "lines",
           "name": "Risk Area",
           "showlegend": false,
           "x": [
            10.1,
            10.1,
            15.0,
            15.0,
            13.6,
            13.6,
            11.5,
            11.5,
            10.1,
            10.1,
            10.0,
            10.0,
            10.1
           ],
           "y": [
            13.6,
            15.0,
            15.0,
            10.1,
            10.1,
            10.0,
            10.0,
            10.1,
            10.1,
            11.5,
            11.5,
            13.6,
            13.6
           ],
           "type": "scatter"
          },
          {
           "hoverinfo": "text",
           "marker": {
            "opacity": 1,
            "size": 1
           },
           "mode": "markers",
           "showlegend": false,
           "text": [
            "ID: 171.0, Pos(9.50,12.59)"
           ],
           "x": [
            9.498152032258245
           ],
           "y": [
            12.589527717843351
           ],
           "type": "scatter"
          },
          {
           "hoverinfo": "text",
           "marker": {
            "opacity": 1,
            "size": 1
           },
           "mode": "markers",
           "showlegend": false,
           "text": [
            "ID: 172.0, Pos(9.97,13.22)"
           ],
           "x": [
            9.96991608017276
           ],
           "y": [
            13.221997907147845
           ],
           "type": "scatter"
          },
          {
           "hoverinfo": "text",
           "marker": {
            "opacity": 1,
            "size": 1
           },
           "mode": "markers",
           "showlegend": false,
           "text": [
            "ID: 173.0, Pos(5.90,12.16)"
           ],
           "x": [
            5.903521864616911
           ],
           "y": [
            12.156287610784663
           ],
           "type": "scatter"
          },
          {
           "hoverinfo": "text",
           "marker": {
            "opacity": 1,
            "size": 1
           },
           "mode": "markers",
           "showlegend": false,
           "text": [
            "ID: 174.0, Pos(8.37,12.38)"
           ],
           "x": [
            8.368923704204148
           ],
           "y": [
            12.375147653682578
           ],
           "type": "scatter"
          },
          {
           "hoverinfo": "text",
           "marker": {
            "opacity": 1,
            "size": 1
           },
           "mode": "markers",
           "showlegend": false,
           "text": [
            "ID: 175.0, Pos(9.04,13.22)"
           ],
           "x": [
            9.037126847045876
           ],
           "y": [
            13.218377245895443
           ],
           "type": "scatter"
          },
          {
           "hoverinfo": "text",
           "marker": {
            "opacity": 1,
            "size": 1
           },
           "mode": "markers",
           "showlegend": false,
           "text": [
            "ID: 177.0, Pos(10.61,12.80)"
           ],
           "x": [
            10.612666325825968
           ],
           "y": [
            12.803103418640557
           ],
           "type": "scatter"
          },
          {
           "hoverinfo": "text",
           "marker": {
            "opacity": 1,
            "size": 1
           },
           "mode": "markers",
           "showlegend": false,
           "text": [
            "ID: 178.0, Pos(7.06,12.39)"
           ],
           "x": [
            7.060835261523747
           ],
           "y": [
            12.39146526367303
           ],
           "type": "scatter"
          },
          {
           "hoverinfo": "text",
           "marker": {
            "opacity": 1,
            "size": 1
           },
           "mode": "markers",
           "showlegend": false,
           "text": [
            "ID: 179.0, Pos(11.58,13.37)"
           ],
           "x": [
            11.57946935006059
           ],
           "y": [
            13.372745986530312
           ],
           "type": "scatter"
          },
          {
           "hoverinfo": "text",
           "marker": {
            "opacity": 1,
            "size": 1
           },
           "mode": "markers",
           "showlegend": false,
           "text": [
            "ID: 180.0, Pos(7.95,13.01)"
           ],
           "x": [
            7.94866897927056
           ],
           "y": [
            13.013034748584754
           ],
           "type": "scatter"
          },
          {
           "hoverinfo": "none",
           "marker": {
            "opacity": 0,
            "size": 1
           },
           "mode": "markers",
           "showlegend": false,
           "x": [
            0.0
           ],
           "y": [
            0.0
           ],
           "type": "scatter"
          }
         ],
         "layout": {
          "shapes": [
           {
            "fillcolor": "rgba(0, 0, 232, 0.5)",
            "line": {
             "color": "rgba(0, 0, 232, 0.5)"
            },
            "type": "circle",
            "x0": 9.298152032258246,
            "x1": 9.698152032258244,
            "xref": "x",
            "y0": 12.389527717843352,
            "y1": 12.78952771784335,
            "yref": "y"
           },
           {
            "fillcolor": "rgba(209, 255, 38, 0.5)",
            "line": {
             "color": "rgba(209, 255, 38, 0.5)"
            },
            "type": "circle",
            "x0": 9.769916080172761,
            "x1": 10.16991608017276,
            "xref": "x",
            "y0": 13.021997907147846,
            "y1": 13.421997907147844,
            "yref": "y"
           },
           {
            "fillcolor": "rgba(0, 0, 155, 0.5)",
            "line": {
             "color": "rgba(0, 0, 155, 0.5)"
            },
            "type": "circle",
            "x0": 5.703521864616911,
            "x1": 6.103521864616911,
            "xref": "x",
            "y0": 11.956287610784663,
            "y1": 12.356287610784662,
            "yref": "y"
           },
           {
            "fillcolor": "rgba(0, 0, 209, 0.5)",
            "line": {
             "color": "rgba(0, 0, 209, 0.5)"
            },
            "type": "circle",
            "x0": 8.168923704204149,
            "x1": 8.568923704204147,
            "xref": "x",
            "y0": 12.17514765368258,
            "y1": 12.575147653682578,
            "yref": "y"
           },
           {
            "fillcolor": "rgba(15, 248, 231, 0.5)",
            "line": {
             "color": "rgba(15, 248, 231, 0.5)"
            },
            "type": "circle",
            "x0": 8.837126847045877,
            "x1": 9.237126847045875,
            "xref": "x",
            "y0": 13.018377245895444,
            "y1": 13.418377245895442,
            "yref": "y"
           },
           {
            "fillcolor": "rgba(0, 0, 255, 0.5)",
            "line": {
             "color": "rgba(0, 0, 255, 0.5)"
            },
            "type": "circle",
            "x0": 10.412666325825969,
            "x1": 10.812666325825967,
            "xref": "x",
            "y0": 12.603103418640558,
            "y1": 13.003103418640556,
            "yref": "y"
           },
           {
            "fillcolor": "rgba(0, 0, 128, 0.5)",
            "line": {
             "color": "rgba(0, 0, 128, 0.5)"
            },
            "type": "circle",
            "x0": 6.8608352615237465,
            "x1": 7.260835261523747,
            "xref": "x",
            "y0": 12.191465263673031,
            "y1": 12.59146526367303,
            "yref": "y"
           },
           {
            "fillcolor": "rgba(0, 0, 128, 0.5)",
            "line": {
             "color": "rgba(0, 0, 128, 0.5)"
            },
            "type": "circle",
            "x0": 11.37946935006059,
            "x1": 11.77946935006059,
            "xref": "x",
            "y0": 13.172745986530312,
            "y1": 13.572745986530311,
            "yref": "y"
           },
           {
            "fillcolor": "rgba(0, 0, 255, 0.5)",
            "line": {
             "color": "rgba(0, 0, 255, 0.5)"
            },
            "type": "circle",
            "x0": 7.74866897927056,
            "x1": 8.14866897927056,
            "xref": "x",
            "y0": 12.813034748584755,
            "y1": 13.213034748584754,
            "yref": "y"
           },
           {
            "fillcolor": "rgba(255,255,255,0)",
            "line": {
             "width": 0
            },
            "type": "circle",
            "x0": 0.0,
            "x1": 0.0,
            "xref": "x",
            "y0": 0.0,
            "y1": 0.0,
            "yref": "y"
           },
           {
            "line": {
             "color": "white",
             "width": 3
            },
            "type": "line",
            "x0": 9.498152032258245,
            "x1": 9.69497890235098,
            "y0": 12.589527717843351,
            "y1": 12.625012689443983
           },
           {
            "line": {
             "color": "black",
             "width": 3
            },
            "type": "line",
            "x0": 9.96991608017276,
            "x1": 10.16788591463563,
            "y0": 13.221997907147845,
            "y1": 13.193573540088153
           },
           {
            "line": {
             "color": "white",
             "width": 3
            },
            "type": "line",
            "x0": 5.903521864616911,
            "x1": 6.099041335056934,
            "y0": 12.156287610784663,
            "y1": 12.198384364565126
           },
           {
            "line": {
             "color": "white",
             "width": 3
            },
            "type": "line",
            "x0": 8.368923704204148,
            "x1": 8.565515885688493,
            "y0": 12.375147653682578,
            "y1": 12.411910599419098
           },
           {
            "line": {
             "color": "black",
             "width": 3
            },
            "type": "line",
            "x0": 9.037126847045876,
            "x1": 9.234273267283104,
            "y0": 13.218377245895443,
            "y1": 13.252041603718606
           },
           {
            "line": {
             "color": "white",
             "width": 3
            },
            "type": "line",
            "x0": 10.612666325825968,
            "x1": 10.806791078810239,
            "y0": 12.803103418640557,
            "y1": 12.851223895350536
           },
           {
            "line": {
             "color": "white",
             "width": 3
            },
            "type": "line",
            "x0": 7.060835261523747,
            "x1": 7.256875292080792,
            "y0": 12.39146526367303,
            "y1": 12.431067112357058
           },
           {
            "line": {
             "color": "white",
             "width": 3
            },
            "type": "line",
            "x0": 11.57946935006059,
            "x1": 11.776492052163295,
            "y0": 13.372745986530312,
            "y1": 13.40712701118271
           },
           {
            "line": {
             "color": "white",
             "width": 3
            },
            "type": "line",
            "x0": 7.94866897927056,
            "x1": 8.145034956875401,
            "y0": 13.013034748584754,
            "y1": 13.050987388009375
           },
           {
            "line": {
             "color": "rgba(255,255,255,0)",
             "width": 3
            },
            "type": "line",
            "x0": 0.0,
            "x1": null,
            "y0": 0.0,
            "y1": null
           }
          ],
          "title": {
           "text": "<b>Percentage using the shortest path: 0%  |  Number of Agents: 9</b>",
           "x": 0.5
          }
         },
         "name": "600"
        },
        {
         "data": [
          {
           "hoverinfo": "name",
           "line": {
            "color": "white"
           },
           "mode": "lines",
           "name": "Exterior",
           "showlegend": false,
           "x": [
            10.1,
            10.1,
            15.0,
            15.0,
            13.6,
            13.6,
            15.0,
            15.0,
            13.6,
            13.6,
            15.0,
            15.0,
            10.1,
            10.1,
            9.9,
            9.9,
            5.1,
            5.1,
            4.9,
            4.9,
            0.0,
            0.0,
            1.5,
            1.5,
            0.0,
            0.0,
            1.5,
            1.5,
            0.0,
            0.0,
            4.9,
            4.9,
            5.1,
            5.1,
            9.9,
            9.9,
            10.1
           ],
           "y": [
            1.5,
            0.0,
            0.0,
            4.9,
            4.9,
            5.1,
            5.1,
            9.9,
            9.9,
            10.1,
            10.1,
            15.0,
            15.0,
            13.6,
            13.6,
            15.0,
            15.0,
            13.6,
            13.6,
            15.0,
            15.0,
            10.1,
            10.1,
            9.9,
            9.9,
            5.1,
            5.1,
            4.9,
            4.9,
            0.0,
            0.0,
            1.5,
            1.5,
            0.0,
            0.0,
            1.5,
            1.5
           ],
           "type": "scatter"
          },
          {
           "hoverinfo": "name",
           "line": {
            "color": "white"
           },
           "mode": "lines",
           "name": "Obstacle",
           "showlegend": false,
           "x": [
            10.1,
            11.5,
            11.5,
            10.1,
            10.1,
            9.9,
            9.9,
            8.6,
            8.6,
            9.9,
            9.9,
            10.1,
            10.1
           ],
           "y": [
            5.1,
            5.1,
            4.9,
            4.9,
            3.6,
            3.6,
            4.9,
            4.9,
            5.1,
            5.1,
            6.5,
            6.5,
            5.1
           ],
           "type": "scatter"
          },
          {
           "hoverinfo": "name",
           "line": {
            "color": "white"
           },
           "mode": "lines",
           "name": "Obstacle",
           "showlegend": false,
           "x": [
            10.1,
            11.5,
            11.5,
            10.1,
            10.1,
            9.9,
            9.9,
            8.6,
            8.6,
            9.9,
            9.9,
            10.1,
            10.1
           ],
           "y": [
            10.1,
            10.1,
            9.9,
            9.9,
            8.6,
            8.6,
            9.9,
            9.9,
            10.1,
            10.1,
            11.5,
            11.5,
            10.1
           ],
           "type": "scatter"
          },
          {
           "hoverinfo": "name",
           "line": {
            "color": "white"
           },
           "mode": "lines",
           "name": "Obstacle",
           "showlegend": false,
           "x": [
            5.1,
            6.4,
            6.4,
            5.1,
            5.1,
            4.9,
            4.9,
            3.6,
            3.6,
            4.9,
            4.9,
            5.1,
            5.1
           ],
           "y": [
            5.1,
            5.1,
            4.9,
            4.9,
            3.6,
            3.6,
            4.9,
            4.9,
            5.1,
            5.1,
            6.5,
            6.5,
            5.1
           ],
           "type": "scatter"
          },
          {
           "hoverinfo": "name",
           "line": {
            "color": "white"
           },
           "mode": "lines",
           "name": "Obstacle",
           "showlegend": false,
           "x": [
            5.1,
            6.4,
            6.4,
            5.1,
            5.1,
            4.9,
            4.9,
            3.6,
            3.6,
            4.9,
            4.9,
            5.1,
            5.1
           ],
           "y": [
            10.1,
            10.1,
            9.9,
            9.9,
            8.6,
            8.6,
            9.9,
            9.9,
            10.1,
            10.1,
            11.5,
            11.5,
            10.1
           ],
           "type": "scatter"
          },
          {
           "fill": "toself",
           "fillcolor": "rgb(0, 0, 0)",
           "hoverinfo": "name",
           "line": {
            "width": 0
           },
           "mode": "lines",
           "name": "Risk Area",
           "showlegend": false,
           "x": [
            1.5,
            1.5,
            3.6,
            3.6,
            4.9,
            4.9,
            5.0,
            5.0,
            4.9,
            4.9,
            0.0,
            0.0,
            1.5
           ],
           "y": [
            4.9,
            5.0,
            5.0,
            4.9,
            4.9,
            3.6,
            3.6,
            1.5,
            1.5,
            0.0,
            0.0,
            4.9,
            4.9
           ],
           "type": "scatter"
          },
          {
           "fill": "toself",
           "fillcolor": "rgb(178, 0, 0)",
           "hoverinfo": "name",
           "line": {
            "width": 0
           },
           "mode": "lines",
           "name": "Risk Area",
           "showlegend": false,
           "x": [
            9.9,
            9.9,
            5.1,
            5.1,
            5.0,
            5.0,
            5.1,
            5.1,
            6.4,
            6.4,
            8.6,
            8.6,
            9.9,
            9.9,
            10.0,
            10.0,
            9.9
           ],
           "y": [
            1.5,
            0.0,
            0.0,
            1.5,
            1.5,
            3.6,
            3.6,
            4.9,
            4.9,
            5.0,
            5.0,
            4.9,
            4.9,
            3.6,
            3.6,
            1.5,
            1.5
           ],
           "type": "scatter"
          },
          {
           "fill": "toself",
           "fillcolor": "rgb(25, 0, 0)",
           "hoverinfo": "name",
           "line": {
            "width": 0
           },
           "mode": "lines",
           "name": "Risk Area",
           "showlegend": false,
           "x": [
            13.6,
            15.0,
            15.0,
            10.1,
            10.1,
            10.0,
            10.0,
            10.1,
            10.1,
            11.5,
            11.5,
            13.6,
            13.6
           ],
           "y": [
            4.9,
            4.9,
            0.0,
            0.0,
            1.5,
            1.5,
            3.6,
            3.6,
            4.9,
            4.9,
            5.0,
            5.0,
            4.9
           ],
           "type": "scatter"
          },
          {
           "fill": "toself",
           "fillcolor": "rgb(178, 0, 0)",
           "hoverinfo": "name",
           "line": {
            "width": 0
           },
           "mode": "lines",
           "name": "Risk Area",
           "showlegend": false,
           "x": [
            13.6,
            15.0,
            15.0,
            13.6,
            13.6,
            11.5,
            11.5,
            10.1,
            10.1,
            10.0,
            10.0,
            10.1,
            10.1,
            11.5,
            11.5,
            13.6,
            13.6
           ],
           "y": [
            9.9,
            9.9,
            5.1,
            5.1,
            5.0,
            5.0,
            5.1,
            5.1,
            6.5,
            6.5,
            8.6,
            8.6,
            9.9,
            9.9,
            10.0,
            10.0,
            9.9
           ],
           "type": "scatter"
          },
          {
           "fill": "toself",
           "fillcolor": "rgb(204, 0, 0)",
           "hoverinfo": "name",
           "line": {
            "width": 0
           },
           "mode": "lines",
           "name": "Risk Area",
           "showlegend": false,
           "x": [
            9.9,
            9.9,
            8.6,
            8.6,
            6.4,
            6.4,
            5.1,
            5.1,
            5.0,
            5.0,
            5.1,
            5.1,
            6.4,
            6.4,
            8.6,
            8.6,
            9.9,
            9.9,
            10.0,
            10.0,
            9.9
           ],
           "y": [
            6.5,
            5.1,
            5.1,
            5.0,
            5.0,
            5.1,
            5.1,
            6.5,
            6.5,
            8.6,
            8.6,
            9.9,
            9.9,
            10.0,
            10.0,
            9.9,
            9.9,
            8.6,
            8.6,
            6.5,
            6.5
           ],
           "type": "scatter"
          },
          {
           "fill": "toself",
           "fillcolor": "rgb(76, 0, 0)",
           "hoverinfo": "name",
           "line": {
            "width": 0
           },
           "mode": "lines",
           "name": "Risk Area",
           "showlegend": false,
           "x": [
            4.9,
            4.9,
            3.6,
            3.6,
            1.5,
            1.5,
            0.0,
            0.0,
            1.5,
            1.5,
            3.6,
            3.6,
            4.9,
            4.9,
            5.0,
            5.0,
            4.9
           ],
           "y": [
            6.5,
            5.1,
            5.1,
            5.0,
            5.0,
            5.1,
            5.1,
            9.9,
            9.9,
            10.0,
            10.0,
            9.9,
            9.9,
            8.6,
            8.6,
            6.5,
            6.5
           ],
           "type": "scatter"
          },
          {
           "fill": "toself",
           "fillcolor": "rgb(51, 0, 0)",
           "hoverinfo": "name",
           "line": {
            "width": 0
           },
           "mode": "lines",
           "name": "Risk Area",
           "showlegend": false,
           "x": [
            1.5,
            0.0,
            0.0,
            4.9,
            4.9,
            5.0,
            5.0,
            4.9,
            4.9,
            3.6,
            3.6,
            1.5,
            1.5
           ],
           "y": [
            10.1,
            10.1,
            15.0,
            15.0,
            13.6,
            13.6,
            11.5,
            11.5,
            10.1,
            10.1,
            10.0,
            10.0,
            10.1
           ],
           "type": "scatter"
          },
          {
           "fill": "toself",
           "fillcolor": "rgb(0, 0, 0)",
           "hoverinfo": "name",
           "line": {
            "width": 0
           },
           "mode": "lines",
           "name": "Risk Area",
           "showlegend": false,
           "x": [
            6.4,
            5.1,
            5.1,
            5.0,
            5.0,
            5.1,
            5.1,
            9.9,
            9.9,
            10.0,
            10.0,
            9.9,
            9.9,
            8.6,
            8.6,
            6.4,
            6.4
           ],
           "y": [
            10.1,
            10.1,
            11.5,
            11.5,
            13.6,
            13.6,
            15.0,
            15.0,
            13.6,
            13.6,
            11.5,
            11.5,
            10.1,
            10.1,
            10.0,
            10.0,
            10.1
           ],
           "type": "scatter"
          },
          {
           "fill": "toself",
           "fillcolor": "rgb(0, 0, 0)",
           "hoverinfo": "name",
           "line": {
            "width": 0
           },
           "mode": "lines",
           "name": "Risk Area",
           "showlegend": false,
           "x": [
            10.1,
            10.1,
            15.0,
            15.0,
            13.6,
            13.6,
            11.5,
            11.5,
            10.1,
            10.1,
            10.0,
            10.0,
            10.1
           ],
           "y": [
            13.6,
            15.0,
            15.0,
            10.1,
            10.1,
            10.0,
            10.0,
            10.1,
            10.1,
            11.5,
            11.5,
            13.6,
            13.6
           ],
           "type": "scatter"
          },
          {
           "hoverinfo": "text",
           "marker": {
            "opacity": 1,
            "size": 1
           },
           "mode": "markers",
           "showlegend": false,
           "text": [
            "ID: 171.0, Pos(10.97,12.84)"
           ],
           "x": [
            10.973707752620651
           ],
           "y": [
            12.840837334545785
           ],
           "type": "scatter"
          },
          {
           "hoverinfo": "text",
           "marker": {
            "opacity": 1,
            "size": 1
           },
           "mode": "markers",
           "showlegend": false,
           "text": [
            "ID: 172.0, Pos(11.32,13.48)"
           ],
           "x": [
            11.32351712261778
           ],
           "y": [
            13.47721550215655
           ],
           "type": "scatter"
          },
          {
           "hoverinfo": "text",
           "marker": {
            "opacity": 1,
            "size": 1
           },
           "mode": "markers",
           "showlegend": false,
           "text": [
            "ID: 173.0, Pos(7.46,12.47)"
           ],
           "x": [
            7.45507187257035
           ],
           "y": [
            12.472802690331156
           ],
           "type": "scatter"
          },
          {
           "hoverinfo": "text",
           "marker": {
            "opacity": 1,
            "size": 1
           },
           "mode": "markers",
           "showlegend": false,
           "text": [
            "ID: 174.0, Pos(9.84,12.64)"
           ],
           "x": [
            9.83543852646986
           ],
           "y": [
            12.63717058585874
           ],
           "type": "scatter"
          },
          {
           "hoverinfo": "text",
           "marker": {
            "opacity": 1,
            "size": 1
           },
           "mode": "markers",
           "showlegend": false,
           "text": [
            "ID: 175.0, Pos(10.10,13.22)"
           ],
           "x": [
            10.095294547285112
           ],
           "y": [
            13.222511690151851
           ],
           "type": "scatter"
          },
          {
           "hoverinfo": "text",
           "marker": {
            "opacity": 1,
            "size": 1
           },
           "mode": "markers",
           "showlegend": false,
           "text": [
            "ID: 177.0, Pos(12.09,13.22)"
           ],
           "x": [
            12.08919081545698
           ],
           "y": [
            13.221966906744314
           ],
           "type": "scatter"
          },
          {
           "hoverinfo": "text",
           "marker": {
            "opacity": 1,
            "size": 1
           },
           "mode": "markers",
           "showlegend": false,
           "text": [
            "ID: 178.0, Pos(8.63,12.69)"
           ],
           "x": [
            8.632236731578722
           ],
           "y": [
            12.691897661071417
           ],
           "type": "scatter"
          },
          {
           "hoverinfo": "text",
           "marker": {
            "opacity": 1,
            "size": 1
           },
           "mode": "markers",
           "showlegend": false,
           "text": [
            "ID: 180.0, Pos(9.14,13.22)"
           ],
           "x": [
            9.138382140831217
           ],
           "y": [
            13.221052896494234
           ],
           "type": "scatter"
          },
          {
           "hoverinfo": "none",
           "marker": {
            "opacity": 0,
            "size": 1
           },
           "mode": "markers",
           "showlegend": false,
           "x": [
            0.0
           ],
           "y": [
            0.0
           ],
           "type": "scatter"
          },
          {
           "hoverinfo": "none",
           "marker": {
            "opacity": 0,
            "size": 1
           },
           "mode": "markers",
           "showlegend": false,
           "x": [
            0.0
           ],
           "y": [
            0.0
           ],
           "type": "scatter"
          }
         ],
         "layout": {
          "shapes": [
           {
            "fillcolor": "rgba(0, 0, 159, 0.5)",
            "line": {
             "color": "rgba(0, 0, 159, 0.5)"
            },
            "type": "circle",
            "x0": 10.773707752620652,
            "x1": 11.17370775262065,
            "xref": "x",
            "y0": 12.640837334545786,
            "y1": 13.040837334545785,
            "yref": "y"
           },
           {
            "fillcolor": "rgba(0, 0, 218, 0.5)",
            "line": {
             "color": "rgba(0, 0, 218, 0.5)"
            },
            "type": "circle",
            "x0": 11.12351712261778,
            "x1": 11.523517122617779,
            "xref": "x",
            "y0": 13.277215502156551,
            "y1": 13.67721550215655,
            "yref": "y"
           },
           {
            "fillcolor": "rgba(0, 0, 128, 0.5)",
            "line": {
             "color": "rgba(0, 0, 128, 0.5)"
            },
            "type": "circle",
            "x0": 7.25507187257035,
            "x1": 7.655071872570351,
            "xref": "x",
            "y0": 12.272802690331156,
            "y1": 12.672802690331155,
            "yref": "y"
           },
           {
            "fillcolor": "rgba(0, 0, 196, 0.5)",
            "line": {
             "color": "rgba(0, 0, 196, 0.5)"
            },
            "type": "circle",
            "x0": 9.63543852646986,
            "x1": 10.035438526469859,
            "xref": "x",
            "y0": 12.437170585858741,
            "y1": 12.83717058585874,
            "yref": "y"
           },
           {
            "fillcolor": "rgba(0, 45, 255, 0.5)",
            "line": {
             "color": "rgba(0, 45, 255, 0.5)"
            },
            "type": "circle",
            "x0": 9.895294547285113,
            "x1": 10.295294547285112,
            "xref": "x",
            "y0": 13.022511690151852,
            "y1": 13.42251169015185,
            "yref": "y"
           },
           {
            "fillcolor": "rgba(0, 0, 128, 0.5)",
            "line": {
             "color": "rgba(0, 0, 128, 0.5)"
            },
            "type": "circle",
            "x0": 11.889190815456981,
            "x1": 12.28919081545698,
            "xref": "x",
            "y0": 13.021966906744314,
            "y1": 13.421966906744313,
            "yref": "y"
           },
           {
            "fillcolor": "rgba(0, 0, 128, 0.5)",
            "line": {
             "color": "rgba(0, 0, 128, 0.5)"
            },
            "type": "circle",
            "x0": 8.432236731578723,
            "x1": 8.832236731578721,
            "xref": "x",
            "y0": 12.491897661071418,
            "y1": 12.891897661071416,
            "yref": "y"
           },
           {
            "fillcolor": "rgba(0, 204, 255, 0.5)",
            "line": {
             "color": "rgba(0, 204, 255, 0.5)"
            },
            "type": "circle",
            "x0": 8.938382140831218,
            "x1": 9.338382140831216,
            "xref": "x",
            "y0": 13.021052896494234,
            "y1": 13.421052896494233,
            "yref": "y"
           },
           {
            "fillcolor": "rgba(255,255,255,0)",
            "line": {
             "width": 0
            },
            "type": "circle",
            "x0": 0.0,
            "x1": 0.0,
            "xref": "x",
            "y0": 0.0,
            "y1": 0.0,
            "yref": "y"
           },
           {
            "fillcolor": "rgba(255,255,255,0)",
            "line": {
             "width": 0
            },
            "type": "circle",
            "x0": 0.0,
            "x1": 0.0,
            "xref": "x",
            "y0": 0.0,
            "y1": 0.0,
            "yref": "y"
           },
           {
            "line": {
             "color": "white",
             "width": 3
            },
            "type": "line",
            "x0": 10.973707752620651,
            "x1": 11.16814215206316,
            "y0": 12.840837334545785,
            "y1": 12.88769098235928
           },
           {
            "line": {
             "color": "white",
             "width": 3
            },
            "type": "line",
            "x0": 11.32351712261778,
            "x1": 11.519112302261288,
            "y0": 13.47721550215655,
            "y1": 13.518959072921687
           },
           {
            "line": {
             "color": "white",
             "width": 3
            },
            "type": "line",
            "x0": 7.45507187257035,
            "x1": 7.651077647273984,
            "y0": 12.472802690331156,
            "y1": 12.512573738630495
           },
           {
            "line": {
             "color": "white",
             "width": 3
            },
            "type": "line",
            "x0": 9.83543852646986,
            "x1": 10.035144967713512,
            "y0": 12.63717058585874,
            "y1": 12.64800282135265
           },
           {
            "line": {
             "color": "white",
             "width": 3
            },
            "type": "line",
            "x0": 10.095294547285112,
            "x1": 10.295255074893497,
            "y0": 13.222511690151851,
            "y1": 13.22648502610245
           },
           {
            "line": {
             "color": "white",
             "width": 3
            },
            "type": "line",
            "x0": 12.08919081545698,
            "x1": 12.281256847525768,
            "y0": 13.221966906744314,
            "y1": 13.27774001249746
           },
           {
            "line": {
             "color": "white",
             "width": 3
            },
            "type": "line",
            "x0": 8.632236731578722,
            "x1": 8.830060018113915,
            "y0": 12.691897661071417,
            "y1": 12.721324643662477
           },
           {
            "line": {
             "color": "black",
             "width": 3
            },
            "type": "line",
            "x0": 9.138382140831217,
            "x1": 9.33506356157541,
            "y0": 13.221052896494234,
            "y1": 13.257335381718452
           },
           {
            "line": {
             "color": "rgba(255,255,255,0)",
             "width": 3
            },
            "type": "line",
            "x0": 0.0,
            "x1": null,
            "y0": 0.0,
            "y1": null
           },
           {
            "line": {
             "color": "rgba(255,255,255,0)",
             "width": 3
            },
            "type": "line",
            "x0": 0.0,
            "x1": null,
            "y0": 0.0,
            "y1": null
           }
          ],
          "title": {
           "text": "<b>Percentage using the shortest path: 0%  |  Number of Agents: 8</b>",
           "x": 0.5
          }
         },
         "name": "650"
        },
        {
         "data": [
          {
           "hoverinfo": "name",
           "line": {
            "color": "white"
           },
           "mode": "lines",
           "name": "Exterior",
           "showlegend": false,
           "x": [
            10.1,
            10.1,
            15.0,
            15.0,
            13.6,
            13.6,
            15.0,
            15.0,
            13.6,
            13.6,
            15.0,
            15.0,
            10.1,
            10.1,
            9.9,
            9.9,
            5.1,
            5.1,
            4.9,
            4.9,
            0.0,
            0.0,
            1.5,
            1.5,
            0.0,
            0.0,
            1.5,
            1.5,
            0.0,
            0.0,
            4.9,
            4.9,
            5.1,
            5.1,
            9.9,
            9.9,
            10.1
           ],
           "y": [
            1.5,
            0.0,
            0.0,
            4.9,
            4.9,
            5.1,
            5.1,
            9.9,
            9.9,
            10.1,
            10.1,
            15.0,
            15.0,
            13.6,
            13.6,
            15.0,
            15.0,
            13.6,
            13.6,
            15.0,
            15.0,
            10.1,
            10.1,
            9.9,
            9.9,
            5.1,
            5.1,
            4.9,
            4.9,
            0.0,
            0.0,
            1.5,
            1.5,
            0.0,
            0.0,
            1.5,
            1.5
           ],
           "type": "scatter"
          },
          {
           "hoverinfo": "name",
           "line": {
            "color": "white"
           },
           "mode": "lines",
           "name": "Obstacle",
           "showlegend": false,
           "x": [
            10.1,
            11.5,
            11.5,
            10.1,
            10.1,
            9.9,
            9.9,
            8.6,
            8.6,
            9.9,
            9.9,
            10.1,
            10.1
           ],
           "y": [
            5.1,
            5.1,
            4.9,
            4.9,
            3.6,
            3.6,
            4.9,
            4.9,
            5.1,
            5.1,
            6.5,
            6.5,
            5.1
           ],
           "type": "scatter"
          },
          {
           "hoverinfo": "name",
           "line": {
            "color": "white"
           },
           "mode": "lines",
           "name": "Obstacle",
           "showlegend": false,
           "x": [
            10.1,
            11.5,
            11.5,
            10.1,
            10.1,
            9.9,
            9.9,
            8.6,
            8.6,
            9.9,
            9.9,
            10.1,
            10.1
           ],
           "y": [
            10.1,
            10.1,
            9.9,
            9.9,
            8.6,
            8.6,
            9.9,
            9.9,
            10.1,
            10.1,
            11.5,
            11.5,
            10.1
           ],
           "type": "scatter"
          },
          {
           "hoverinfo": "name",
           "line": {
            "color": "white"
           },
           "mode": "lines",
           "name": "Obstacle",
           "showlegend": false,
           "x": [
            5.1,
            6.4,
            6.4,
            5.1,
            5.1,
            4.9,
            4.9,
            3.6,
            3.6,
            4.9,
            4.9,
            5.1,
            5.1
           ],
           "y": [
            5.1,
            5.1,
            4.9,
            4.9,
            3.6,
            3.6,
            4.9,
            4.9,
            5.1,
            5.1,
            6.5,
            6.5,
            5.1
           ],
           "type": "scatter"
          },
          {
           "hoverinfo": "name",
           "line": {
            "color": "white"
           },
           "mode": "lines",
           "name": "Obstacle",
           "showlegend": false,
           "x": [
            5.1,
            6.4,
            6.4,
            5.1,
            5.1,
            4.9,
            4.9,
            3.6,
            3.6,
            4.9,
            4.9,
            5.1,
            5.1
           ],
           "y": [
            10.1,
            10.1,
            9.9,
            9.9,
            8.6,
            8.6,
            9.9,
            9.9,
            10.1,
            10.1,
            11.5,
            11.5,
            10.1
           ],
           "type": "scatter"
          },
          {
           "fill": "toself",
           "fillcolor": "rgb(0, 0, 0)",
           "hoverinfo": "name",
           "line": {
            "width": 0
           },
           "mode": "lines",
           "name": "Risk Area",
           "showlegend": false,
           "x": [
            1.5,
            1.5,
            3.6,
            3.6,
            4.9,
            4.9,
            5.0,
            5.0,
            4.9,
            4.9,
            0.0,
            0.0,
            1.5
           ],
           "y": [
            4.9,
            5.0,
            5.0,
            4.9,
            4.9,
            3.6,
            3.6,
            1.5,
            1.5,
            0.0,
            0.0,
            4.9,
            4.9
           ],
           "type": "scatter"
          },
          {
           "fill": "toself",
           "fillcolor": "rgb(178, 0, 0)",
           "hoverinfo": "name",
           "line": {
            "width": 0
           },
           "mode": "lines",
           "name": "Risk Area",
           "showlegend": false,
           "x": [
            9.9,
            9.9,
            5.1,
            5.1,
            5.0,
            5.0,
            5.1,
            5.1,
            6.4,
            6.4,
            8.6,
            8.6,
            9.9,
            9.9,
            10.0,
            10.0,
            9.9
           ],
           "y": [
            1.5,
            0.0,
            0.0,
            1.5,
            1.5,
            3.6,
            3.6,
            4.9,
            4.9,
            5.0,
            5.0,
            4.9,
            4.9,
            3.6,
            3.6,
            1.5,
            1.5
           ],
           "type": "scatter"
          },
          {
           "fill": "toself",
           "fillcolor": "rgb(25, 0, 0)",
           "hoverinfo": "name",
           "line": {
            "width": 0
           },
           "mode": "lines",
           "name": "Risk Area",
           "showlegend": false,
           "x": [
            13.6,
            15.0,
            15.0,
            10.1,
            10.1,
            10.0,
            10.0,
            10.1,
            10.1,
            11.5,
            11.5,
            13.6,
            13.6
           ],
           "y": [
            4.9,
            4.9,
            0.0,
            0.0,
            1.5,
            1.5,
            3.6,
            3.6,
            4.9,
            4.9,
            5.0,
            5.0,
            4.9
           ],
           "type": "scatter"
          },
          {
           "fill": "toself",
           "fillcolor": "rgb(178, 0, 0)",
           "hoverinfo": "name",
           "line": {
            "width": 0
           },
           "mode": "lines",
           "name": "Risk Area",
           "showlegend": false,
           "x": [
            13.6,
            15.0,
            15.0,
            13.6,
            13.6,
            11.5,
            11.5,
            10.1,
            10.1,
            10.0,
            10.0,
            10.1,
            10.1,
            11.5,
            11.5,
            13.6,
            13.6
           ],
           "y": [
            9.9,
            9.9,
            5.1,
            5.1,
            5.0,
            5.0,
            5.1,
            5.1,
            6.5,
            6.5,
            8.6,
            8.6,
            9.9,
            9.9,
            10.0,
            10.0,
            9.9
           ],
           "type": "scatter"
          },
          {
           "fill": "toself",
           "fillcolor": "rgb(204, 0, 0)",
           "hoverinfo": "name",
           "line": {
            "width": 0
           },
           "mode": "lines",
           "name": "Risk Area",
           "showlegend": false,
           "x": [
            9.9,
            9.9,
            8.6,
            8.6,
            6.4,
            6.4,
            5.1,
            5.1,
            5.0,
            5.0,
            5.1,
            5.1,
            6.4,
            6.4,
            8.6,
            8.6,
            9.9,
            9.9,
            10.0,
            10.0,
            9.9
           ],
           "y": [
            6.5,
            5.1,
            5.1,
            5.0,
            5.0,
            5.1,
            5.1,
            6.5,
            6.5,
            8.6,
            8.6,
            9.9,
            9.9,
            10.0,
            10.0,
            9.9,
            9.9,
            8.6,
            8.6,
            6.5,
            6.5
           ],
           "type": "scatter"
          },
          {
           "fill": "toself",
           "fillcolor": "rgb(76, 0, 0)",
           "hoverinfo": "name",
           "line": {
            "width": 0
           },
           "mode": "lines",
           "name": "Risk Area",
           "showlegend": false,
           "x": [
            4.9,
            4.9,
            3.6,
            3.6,
            1.5,
            1.5,
            0.0,
            0.0,
            1.5,
            1.5,
            3.6,
            3.6,
            4.9,
            4.9,
            5.0,
            5.0,
            4.9
           ],
           "y": [
            6.5,
            5.1,
            5.1,
            5.0,
            5.0,
            5.1,
            5.1,
            9.9,
            9.9,
            10.0,
            10.0,
            9.9,
            9.9,
            8.6,
            8.6,
            6.5,
            6.5
           ],
           "type": "scatter"
          },
          {
           "fill": "toself",
           "fillcolor": "rgb(51, 0, 0)",
           "hoverinfo": "name",
           "line": {
            "width": 0
           },
           "mode": "lines",
           "name": "Risk Area",
           "showlegend": false,
           "x": [
            1.5,
            0.0,
            0.0,
            4.9,
            4.9,
            5.0,
            5.0,
            4.9,
            4.9,
            3.6,
            3.6,
            1.5,
            1.5
           ],
           "y": [
            10.1,
            10.1,
            15.0,
            15.0,
            13.6,
            13.6,
            11.5,
            11.5,
            10.1,
            10.1,
            10.0,
            10.0,
            10.1
           ],
           "type": "scatter"
          },
          {
           "fill": "toself",
           "fillcolor": "rgb(0, 0, 0)",
           "hoverinfo": "name",
           "line": {
            "width": 0
           },
           "mode": "lines",
           "name": "Risk Area",
           "showlegend": false,
           "x": [
            6.4,
            5.1,
            5.1,
            5.0,
            5.0,
            5.1,
            5.1,
            9.9,
            9.9,
            10.0,
            10.0,
            9.9,
            9.9,
            8.6,
            8.6,
            6.4,
            6.4
           ],
           "y": [
            10.1,
            10.1,
            11.5,
            11.5,
            13.6,
            13.6,
            15.0,
            15.0,
            13.6,
            13.6,
            11.5,
            11.5,
            10.1,
            10.1,
            10.0,
            10.0,
            10.1
           ],
           "type": "scatter"
          },
          {
           "fill": "toself",
           "fillcolor": "rgb(0, 0, 0)",
           "hoverinfo": "name",
           "line": {
            "width": 0
           },
           "mode": "lines",
           "name": "Risk Area",
           "showlegend": false,
           "x": [
            10.1,
            10.1,
            15.0,
            15.0,
            13.6,
            13.6,
            11.5,
            11.5,
            10.1,
            10.1,
            10.0,
            10.0,
            10.1
           ],
           "y": [
            13.6,
            15.0,
            15.0,
            10.1,
            10.1,
            10.0,
            10.0,
            10.1,
            10.1,
            11.5,
            11.5,
            13.6,
            13.6
           ],
           "type": "scatter"
          },
          {
           "hoverinfo": "text",
           "marker": {
            "opacity": 1,
            "size": 1
           },
           "mode": "markers",
           "showlegend": false,
           "text": [
            "ID: 171.0, Pos(12.51,13.23)"
           ],
           "x": [
            12.512714583247751
           ],
           "y": [
            13.231861793268182
           ],
           "type": "scatter"
          },
          {
           "hoverinfo": "text",
           "marker": {
            "opacity": 1,
            "size": 1
           },
           "mode": "markers",
           "showlegend": false,
           "text": [
            "ID: 173.0, Pos(9.01,12.79)"
           ],
           "x": [
            9.006153746186172
           ],
           "y": [
            12.787667739548803
           ],
           "type": "scatter"
          },
          {
           "hoverinfo": "text",
           "marker": {
            "opacity": 1,
            "size": 1
           },
           "mode": "markers",
           "showlegend": false,
           "text": [
            "ID: 174.0, Pos(11.37,12.91)"
           ],
           "x": [
            11.366659019403144
           ],
           "y": [
            12.906746978433349
           ],
           "type": "scatter"
          },
          {
           "hoverinfo": "text",
           "marker": {
            "opacity": 1,
            "size": 1
           },
           "mode": "markers",
           "showlegend": false,
           "text": [
            "ID: 175.0, Pos(11.63,13.56)"
           ],
           "x": [
            11.631191765607618
           ],
           "y": [
            13.555698016120164
           ],
           "type": "scatter"
          },
          {
           "hoverinfo": "text",
           "marker": {
            "opacity": 1,
            "size": 1
           },
           "mode": "markers",
           "showlegend": false,
           "text": [
            "ID: 178.0, Pos(10.20,12.71)"
           ],
           "x": [
            10.195533665379942
           ],
           "y": [
            12.707111832572066
           ],
           "type": "scatter"
          },
          {
           "hoverinfo": "text",
           "marker": {
            "opacity": 1,
            "size": 1
           },
           "mode": "markers",
           "showlegend": false,
           "text": [
            "ID: 180.0, Pos(10.45,13.30)"
           ],
           "x": [
            10.452183394395982
           ],
           "y": [
            13.297146663368986
           ],
           "type": "scatter"
          },
          {
           "hoverinfo": "none",
           "marker": {
            "opacity": 0,
            "size": 1
           },
           "mode": "markers",
           "showlegend": false,
           "x": [
            0.0
           ],
           "y": [
            0.0
           ],
           "type": "scatter"
          },
          {
           "hoverinfo": "none",
           "marker": {
            "opacity": 0,
            "size": 1
           },
           "mode": "markers",
           "showlegend": false,
           "x": [
            0.0
           ],
           "y": [
            0.0
           ],
           "type": "scatter"
          },
          {
           "hoverinfo": "none",
           "marker": {
            "opacity": 0,
            "size": 1
           },
           "mode": "markers",
           "showlegend": false,
           "x": [
            0.0
           ],
           "y": [
            0.0
           ],
           "type": "scatter"
          },
          {
           "hoverinfo": "none",
           "marker": {
            "opacity": 0,
            "size": 1
           },
           "mode": "markers",
           "showlegend": false,
           "x": [
            0.0
           ],
           "y": [
            0.0
           ],
           "type": "scatter"
          }
         ],
         "layout": {
          "shapes": [
           {
            "fillcolor": "rgba(0, 0, 128, 0.5)",
            "line": {
             "color": "rgba(0, 0, 128, 0.5)"
            },
            "type": "circle",
            "x0": 12.312714583247752,
            "x1": 12.71271458324775,
            "xref": "x",
            "y0": 13.031861793268183,
            "y1": 13.431861793268181,
            "yref": "y"
           },
           {
            "fillcolor": "rgba(0, 0, 137, 0.5)",
            "line": {
             "color": "rgba(0, 0, 137, 0.5)"
            },
            "type": "circle",
            "x0": 8.806153746186173,
            "x1": 9.206153746186171,
            "xref": "x",
            "y0": 12.587667739548804,
            "y1": 12.987667739548803,
            "yref": "y"
           },
           {
            "fillcolor": "rgba(0, 0, 132, 0.5)",
            "line": {
             "color": "rgba(0, 0, 132, 0.5)"
            },
            "type": "circle",
            "x0": 11.166659019403145,
            "x1": 11.566659019403144,
            "xref": "x",
            "y0": 12.70674697843335,
            "y1": 13.106746978433348,
            "yref": "y"
           },
           {
            "fillcolor": "rgba(0, 0, 128, 0.5)",
            "line": {
             "color": "rgba(0, 0, 128, 0.5)"
            },
            "type": "circle",
            "x0": 11.431191765607618,
            "x1": 11.831191765607617,
            "xref": "x",
            "y0": 13.355698016120165,
            "y1": 13.755698016120164,
            "yref": "y"
           },
           {
            "fillcolor": "rgba(0, 0, 146, 0.5)",
            "line": {
             "color": "rgba(0, 0, 146, 0.5)"
            },
            "type": "circle",
            "x0": 9.995533665379943,
            "x1": 10.395533665379942,
            "xref": "x",
            "y0": 12.507111832572066,
            "y1": 12.907111832572065,
            "yref": "y"
           },
           {
            "fillcolor": "rgba(0, 0, 128, 0.5)",
            "line": {
             "color": "rgba(0, 0, 128, 0.5)"
            },
            "type": "circle",
            "x0": 10.252183394395983,
            "x1": 10.652183394395982,
            "xref": "x",
            "y0": 13.097146663368987,
            "y1": 13.497146663368985,
            "yref": "y"
           },
           {
            "fillcolor": "rgba(255,255,255,0)",
            "line": {
             "width": 0
            },
            "type": "circle",
            "x0": 0.0,
            "x1": 0.0,
            "xref": "x",
            "y0": 0.0,
            "y1": 0.0,
            "yref": "y"
           },
           {
            "fillcolor": "rgba(255,255,255,0)",
            "line": {
             "width": 0
            },
            "type": "circle",
            "x0": 0.0,
            "x1": 0.0,
            "xref": "x",
            "y0": 0.0,
            "y1": 0.0,
            "yref": "y"
           },
           {
            "fillcolor": "rgba(255,255,255,0)",
            "line": {
             "width": 0
            },
            "type": "circle",
            "x0": 0.0,
            "x1": 0.0,
            "xref": "x",
            "y0": 0.0,
            "y1": 0.0,
            "yref": "y"
           },
           {
            "fillcolor": "rgba(255,255,255,0)",
            "line": {
             "width": 0
            },
            "type": "circle",
            "x0": 0.0,
            "x1": 0.0,
            "xref": "x",
            "y0": 0.0,
            "y1": 0.0,
            "yref": "y"
           },
           {
            "line": {
             "color": "white",
             "width": 3
            },
            "type": "line",
            "x0": 12.512714583247751,
            "x1": 12.697810730788012,
            "y0": 13.231861793268182,
            "y1": 13.307620727828763
           },
           {
            "line": {
             "color": "white",
             "width": 3
            },
            "type": "line",
            "x0": 9.006153746186172,
            "x1": 9.20215159534728,
            "y0": 12.787667739548803,
            "y1": 12.827477827770505
           },
           {
            "line": {
             "color": "white",
             "width": 3
            },
            "type": "line",
            "x0": 11.366659019403144,
            "x1": 11.561356319437175,
            "y0": 12.906746978433349,
            "y1": 12.952495873058885
           },
           {
            "line": {
             "color": "white",
             "width": 3
            },
            "type": "line",
            "x0": 11.631191765607618,
            "x1": 11.827011767599933,
            "y0": 13.555698016120164,
            "y1": 13.596373891276448
           },
           {
            "line": {
             "color": "white",
             "width": 3
            },
            "type": "line",
            "x0": 10.195533665379942,
            "x1": 10.394900604593653,
            "y0": 12.707111832572066,
            "y1": 12.723012258621585
           },
           {
            "line": {
             "color": "white",
             "width": 3
            },
            "type": "line",
            "x0": 10.452183394395982,
            "x1": 10.64475277779683,
            "y0": 13.297146663368986,
            "y1": 13.351156223417343
           },
           {
            "line": {
             "color": "rgba(255,255,255,0)",
             "width": 3
            },
            "type": "line",
            "x0": 0.0,
            "x1": null,
            "y0": 0.0,
            "y1": null
           },
           {
            "line": {
             "color": "rgba(255,255,255,0)",
             "width": 3
            },
            "type": "line",
            "x0": 0.0,
            "x1": null,
            "y0": 0.0,
            "y1": null
           },
           {
            "line": {
             "color": "rgba(255,255,255,0)",
             "width": 3
            },
            "type": "line",
            "x0": 0.0,
            "x1": null,
            "y0": 0.0,
            "y1": null
           },
           {
            "line": {
             "color": "rgba(255,255,255,0)",
             "width": 3
            },
            "type": "line",
            "x0": 0.0,
            "x1": null,
            "y0": 0.0,
            "y1": null
           }
          ],
          "title": {
           "text": "<b>Percentage using the shortest path: 0%  |  Number of Agents: 6</b>",
           "x": 0.5
          }
         },
         "name": "700"
        },
        {
         "data": [
          {
           "hoverinfo": "name",
           "line": {
            "color": "white"
           },
           "mode": "lines",
           "name": "Exterior",
           "showlegend": false,
           "x": [
            10.1,
            10.1,
            15.0,
            15.0,
            13.6,
            13.6,
            15.0,
            15.0,
            13.6,
            13.6,
            15.0,
            15.0,
            10.1,
            10.1,
            9.9,
            9.9,
            5.1,
            5.1,
            4.9,
            4.9,
            0.0,
            0.0,
            1.5,
            1.5,
            0.0,
            0.0,
            1.5,
            1.5,
            0.0,
            0.0,
            4.9,
            4.9,
            5.1,
            5.1,
            9.9,
            9.9,
            10.1
           ],
           "y": [
            1.5,
            0.0,
            0.0,
            4.9,
            4.9,
            5.1,
            5.1,
            9.9,
            9.9,
            10.1,
            10.1,
            15.0,
            15.0,
            13.6,
            13.6,
            15.0,
            15.0,
            13.6,
            13.6,
            15.0,
            15.0,
            10.1,
            10.1,
            9.9,
            9.9,
            5.1,
            5.1,
            4.9,
            4.9,
            0.0,
            0.0,
            1.5,
            1.5,
            0.0,
            0.0,
            1.5,
            1.5
           ],
           "type": "scatter"
          },
          {
           "hoverinfo": "name",
           "line": {
            "color": "white"
           },
           "mode": "lines",
           "name": "Obstacle",
           "showlegend": false,
           "x": [
            10.1,
            11.5,
            11.5,
            10.1,
            10.1,
            9.9,
            9.9,
            8.6,
            8.6,
            9.9,
            9.9,
            10.1,
            10.1
           ],
           "y": [
            5.1,
            5.1,
            4.9,
            4.9,
            3.6,
            3.6,
            4.9,
            4.9,
            5.1,
            5.1,
            6.5,
            6.5,
            5.1
           ],
           "type": "scatter"
          },
          {
           "hoverinfo": "name",
           "line": {
            "color": "white"
           },
           "mode": "lines",
           "name": "Obstacle",
           "showlegend": false,
           "x": [
            10.1,
            11.5,
            11.5,
            10.1,
            10.1,
            9.9,
            9.9,
            8.6,
            8.6,
            9.9,
            9.9,
            10.1,
            10.1
           ],
           "y": [
            10.1,
            10.1,
            9.9,
            9.9,
            8.6,
            8.6,
            9.9,
            9.9,
            10.1,
            10.1,
            11.5,
            11.5,
            10.1
           ],
           "type": "scatter"
          },
          {
           "hoverinfo": "name",
           "line": {
            "color": "white"
           },
           "mode": "lines",
           "name": "Obstacle",
           "showlegend": false,
           "x": [
            5.1,
            6.4,
            6.4,
            5.1,
            5.1,
            4.9,
            4.9,
            3.6,
            3.6,
            4.9,
            4.9,
            5.1,
            5.1
           ],
           "y": [
            5.1,
            5.1,
            4.9,
            4.9,
            3.6,
            3.6,
            4.9,
            4.9,
            5.1,
            5.1,
            6.5,
            6.5,
            5.1
           ],
           "type": "scatter"
          },
          {
           "hoverinfo": "name",
           "line": {
            "color": "white"
           },
           "mode": "lines",
           "name": "Obstacle",
           "showlegend": false,
           "x": [
            5.1,
            6.4,
            6.4,
            5.1,
            5.1,
            4.9,
            4.9,
            3.6,
            3.6,
            4.9,
            4.9,
            5.1,
            5.1
           ],
           "y": [
            10.1,
            10.1,
            9.9,
            9.9,
            8.6,
            8.6,
            9.9,
            9.9,
            10.1,
            10.1,
            11.5,
            11.5,
            10.1
           ],
           "type": "scatter"
          },
          {
           "fill": "toself",
           "fillcolor": "rgb(0, 0, 0)",
           "hoverinfo": "name",
           "line": {
            "width": 0
           },
           "mode": "lines",
           "name": "Risk Area",
           "showlegend": false,
           "x": [
            1.5,
            1.5,
            3.6,
            3.6,
            4.9,
            4.9,
            5.0,
            5.0,
            4.9,
            4.9,
            0.0,
            0.0,
            1.5
           ],
           "y": [
            4.9,
            5.0,
            5.0,
            4.9,
            4.9,
            3.6,
            3.6,
            1.5,
            1.5,
            0.0,
            0.0,
            4.9,
            4.9
           ],
           "type": "scatter"
          },
          {
           "fill": "toself",
           "fillcolor": "rgb(178, 0, 0)",
           "hoverinfo": "name",
           "line": {
            "width": 0
           },
           "mode": "lines",
           "name": "Risk Area",
           "showlegend": false,
           "x": [
            9.9,
            9.9,
            5.1,
            5.1,
            5.0,
            5.0,
            5.1,
            5.1,
            6.4,
            6.4,
            8.6,
            8.6,
            9.9,
            9.9,
            10.0,
            10.0,
            9.9
           ],
           "y": [
            1.5,
            0.0,
            0.0,
            1.5,
            1.5,
            3.6,
            3.6,
            4.9,
            4.9,
            5.0,
            5.0,
            4.9,
            4.9,
            3.6,
            3.6,
            1.5,
            1.5
           ],
           "type": "scatter"
          },
          {
           "fill": "toself",
           "fillcolor": "rgb(25, 0, 0)",
           "hoverinfo": "name",
           "line": {
            "width": 0
           },
           "mode": "lines",
           "name": "Risk Area",
           "showlegend": false,
           "x": [
            13.6,
            15.0,
            15.0,
            10.1,
            10.1,
            10.0,
            10.0,
            10.1,
            10.1,
            11.5,
            11.5,
            13.6,
            13.6
           ],
           "y": [
            4.9,
            4.9,
            0.0,
            0.0,
            1.5,
            1.5,
            3.6,
            3.6,
            4.9,
            4.9,
            5.0,
            5.0,
            4.9
           ],
           "type": "scatter"
          },
          {
           "fill": "toself",
           "fillcolor": "rgb(178, 0, 0)",
           "hoverinfo": "name",
           "line": {
            "width": 0
           },
           "mode": "lines",
           "name": "Risk Area",
           "showlegend": false,
           "x": [
            13.6,
            15.0,
            15.0,
            13.6,
            13.6,
            11.5,
            11.5,
            10.1,
            10.1,
            10.0,
            10.0,
            10.1,
            10.1,
            11.5,
            11.5,
            13.6,
            13.6
           ],
           "y": [
            9.9,
            9.9,
            5.1,
            5.1,
            5.0,
            5.0,
            5.1,
            5.1,
            6.5,
            6.5,
            8.6,
            8.6,
            9.9,
            9.9,
            10.0,
            10.0,
            9.9
           ],
           "type": "scatter"
          },
          {
           "fill": "toself",
           "fillcolor": "rgb(204, 0, 0)",
           "hoverinfo": "name",
           "line": {
            "width": 0
           },
           "mode": "lines",
           "name": "Risk Area",
           "showlegend": false,
           "x": [
            9.9,
            9.9,
            8.6,
            8.6,
            6.4,
            6.4,
            5.1,
            5.1,
            5.0,
            5.0,
            5.1,
            5.1,
            6.4,
            6.4,
            8.6,
            8.6,
            9.9,
            9.9,
            10.0,
            10.0,
            9.9
           ],
           "y": [
            6.5,
            5.1,
            5.1,
            5.0,
            5.0,
            5.1,
            5.1,
            6.5,
            6.5,
            8.6,
            8.6,
            9.9,
            9.9,
            10.0,
            10.0,
            9.9,
            9.9,
            8.6,
            8.6,
            6.5,
            6.5
           ],
           "type": "scatter"
          },
          {
           "fill": "toself",
           "fillcolor": "rgb(76, 0, 0)",
           "hoverinfo": "name",
           "line": {
            "width": 0
           },
           "mode": "lines",
           "name": "Risk Area",
           "showlegend": false,
           "x": [
            4.9,
            4.9,
            3.6,
            3.6,
            1.5,
            1.5,
            0.0,
            0.0,
            1.5,
            1.5,
            3.6,
            3.6,
            4.9,
            4.9,
            5.0,
            5.0,
            4.9
           ],
           "y": [
            6.5,
            5.1,
            5.1,
            5.0,
            5.0,
            5.1,
            5.1,
            9.9,
            9.9,
            10.0,
            10.0,
            9.9,
            9.9,
            8.6,
            8.6,
            6.5,
            6.5
           ],
           "type": "scatter"
          },
          {
           "fill": "toself",
           "fillcolor": "rgb(51, 0, 0)",
           "hoverinfo": "name",
           "line": {
            "width": 0
           },
           "mode": "lines",
           "name": "Risk Area",
           "showlegend": false,
           "x": [
            1.5,
            0.0,
            0.0,
            4.9,
            4.9,
            5.0,
            5.0,
            4.9,
            4.9,
            3.6,
            3.6,
            1.5,
            1.5
           ],
           "y": [
            10.1,
            10.1,
            15.0,
            15.0,
            13.6,
            13.6,
            11.5,
            11.5,
            10.1,
            10.1,
            10.0,
            10.0,
            10.1
           ],
           "type": "scatter"
          },
          {
           "fill": "toself",
           "fillcolor": "rgb(0, 0, 0)",
           "hoverinfo": "name",
           "line": {
            "width": 0
           },
           "mode": "lines",
           "name": "Risk Area",
           "showlegend": false,
           "x": [
            6.4,
            5.1,
            5.1,
            5.0,
            5.0,
            5.1,
            5.1,
            9.9,
            9.9,
            10.0,
            10.0,
            9.9,
            9.9,
            8.6,
            8.6,
            6.4,
            6.4
           ],
           "y": [
            10.1,
            10.1,
            11.5,
            11.5,
            13.6,
            13.6,
            15.0,
            15.0,
            13.6,
            13.6,
            11.5,
            11.5,
            10.1,
            10.1,
            10.0,
            10.0,
            10.1
           ],
           "type": "scatter"
          },
          {
           "fill": "toself",
           "fillcolor": "rgb(0, 0, 0)",
           "hoverinfo": "name",
           "line": {
            "width": 0
           },
           "mode": "lines",
           "name": "Risk Area",
           "showlegend": false,
           "x": [
            10.1,
            10.1,
            15.0,
            15.0,
            13.6,
            13.6,
            11.5,
            11.5,
            10.1,
            10.1,
            10.0,
            10.0,
            10.1
           ],
           "y": [
            13.6,
            15.0,
            15.0,
            10.1,
            10.1,
            10.0,
            10.0,
            10.1,
            10.1,
            11.5,
            11.5,
            13.6,
            13.6
           ],
           "type": "scatter"
          },
          {
           "hoverinfo": "text",
           "marker": {
            "opacity": 1,
            "size": 1
           },
           "mode": "markers",
           "showlegend": false,
           "text": [
            "ID: 173.0, Pos(10.56,13.10)"
           ],
           "x": [
            10.56434386534258
           ],
           "y": [
            13.10163548084204
           ],
           "type": "scatter"
          },
          {
           "hoverinfo": "text",
           "marker": {
            "opacity": 1,
            "size": 1
           },
           "mode": "markers",
           "showlegend": false,
           "text": [
            "ID: 178.0, Pos(11.75,13.01)"
           ],
           "x": [
            11.754580816665737
           ],
           "y": [
            13.014194749944819
           ],
           "type": "scatter"
          },
          {
           "hoverinfo": "text",
           "marker": {
            "opacity": 1,
            "size": 1
           },
           "mode": "markers",
           "showlegend": false,
           "text": [
            "ID: 180.0, Pos(12.01,13.65)"
           ],
           "x": [
            12.01225093470094
           ],
           "y": [
            13.64924439461771
           ],
           "type": "scatter"
          },
          {
           "hoverinfo": "none",
           "marker": {
            "opacity": 0,
            "size": 1
           },
           "mode": "markers",
           "showlegend": false,
           "x": [
            0.0
           ],
           "y": [
            0.0
           ],
           "type": "scatter"
          },
          {
           "hoverinfo": "none",
           "marker": {
            "opacity": 0,
            "size": 1
           },
           "mode": "markers",
           "showlegend": false,
           "x": [
            0.0
           ],
           "y": [
            0.0
           ],
           "type": "scatter"
          },
          {
           "hoverinfo": "none",
           "marker": {
            "opacity": 0,
            "size": 1
           },
           "mode": "markers",
           "showlegend": false,
           "x": [
            0.0
           ],
           "y": [
            0.0
           ],
           "type": "scatter"
          },
          {
           "hoverinfo": "none",
           "marker": {
            "opacity": 0,
            "size": 1
           },
           "mode": "markers",
           "showlegend": false,
           "x": [
            0.0
           ],
           "y": [
            0.0
           ],
           "type": "scatter"
          },
          {
           "hoverinfo": "none",
           "marker": {
            "opacity": 0,
            "size": 1
           },
           "mode": "markers",
           "showlegend": false,
           "x": [
            0.0
           ],
           "y": [
            0.0
           ],
           "type": "scatter"
          },
          {
           "hoverinfo": "none",
           "marker": {
            "opacity": 0,
            "size": 1
           },
           "mode": "markers",
           "showlegend": false,
           "x": [
            0.0
           ],
           "y": [
            0.0
           ],
           "type": "scatter"
          },
          {
           "hoverinfo": "none",
           "marker": {
            "opacity": 0,
            "size": 1
           },
           "mode": "markers",
           "showlegend": false,
           "x": [
            0.0
           ],
           "y": [
            0.0
           ],
           "type": "scatter"
          }
         ],
         "layout": {
          "shapes": [
           {
            "fillcolor": "rgba(0, 0, 137, 0.5)",
            "line": {
             "color": "rgba(0, 0, 137, 0.5)"
            },
            "type": "circle",
            "x0": 10.364343865342581,
            "x1": 10.76434386534258,
            "xref": "x",
            "y0": 12.90163548084204,
            "y1": 13.30163548084204,
            "yref": "y"
           },
           {
            "fillcolor": "rgba(0, 0, 128, 0.5)",
            "line": {
             "color": "rgba(0, 0, 128, 0.5)"
            },
            "type": "circle",
            "x0": 11.554580816665737,
            "x1": 11.954580816665736,
            "xref": "x",
            "y0": 12.81419474994482,
            "y1": 13.214194749944818,
            "yref": "y"
           },
           {
            "fillcolor": "rgba(0, 0, 128, 0.5)",
            "line": {
             "color": "rgba(0, 0, 128, 0.5)"
            },
            "type": "circle",
            "x0": 11.812250934700941,
            "x1": 12.21225093470094,
            "xref": "x",
            "y0": 13.449244394617711,
            "y1": 13.84924439461771,
            "yref": "y"
           },
           {
            "fillcolor": "rgba(255,255,255,0)",
            "line": {
             "width": 0
            },
            "type": "circle",
            "x0": 0.0,
            "x1": 0.0,
            "xref": "x",
            "y0": 0.0,
            "y1": 0.0,
            "yref": "y"
           },
           {
            "fillcolor": "rgba(255,255,255,0)",
            "line": {
             "width": 0
            },
            "type": "circle",
            "x0": 0.0,
            "x1": 0.0,
            "xref": "x",
            "y0": 0.0,
            "y1": 0.0,
            "yref": "y"
           },
           {
            "fillcolor": "rgba(255,255,255,0)",
            "line": {
             "width": 0
            },
            "type": "circle",
            "x0": 0.0,
            "x1": 0.0,
            "xref": "x",
            "y0": 0.0,
            "y1": 0.0,
            "yref": "y"
           },
           {
            "fillcolor": "rgba(255,255,255,0)",
            "line": {
             "width": 0
            },
            "type": "circle",
            "x0": 0.0,
            "x1": 0.0,
            "xref": "x",
            "y0": 0.0,
            "y1": 0.0,
            "yref": "y"
           },
           {
            "fillcolor": "rgba(255,255,255,0)",
            "line": {
             "width": 0
            },
            "type": "circle",
            "x0": 0.0,
            "x1": 0.0,
            "xref": "x",
            "y0": 0.0,
            "y1": 0.0,
            "yref": "y"
           },
           {
            "fillcolor": "rgba(255,255,255,0)",
            "line": {
             "width": 0
            },
            "type": "circle",
            "x0": 0.0,
            "x1": 0.0,
            "xref": "x",
            "y0": 0.0,
            "y1": 0.0,
            "yref": "y"
           },
           {
            "fillcolor": "rgba(255,255,255,0)",
            "line": {
             "width": 0
            },
            "type": "circle",
            "x0": 0.0,
            "x1": 0.0,
            "xref": "x",
            "y0": 0.0,
            "y1": 0.0,
            "yref": "y"
           },
           {
            "line": {
             "color": "white",
             "width": 3
            },
            "type": "line",
            "x0": 10.56434386534258,
            "x1": 10.760341261907824,
            "y0": 13.10163548084204,
            "y1": 13.141447797273598
           },
           {
            "line": {
             "color": "white",
             "width": 3
            },
            "type": "line",
            "x0": 11.754580816665737,
            "x1": 11.949304874861793,
            "y0": 13.014194749944819,
            "y1": 13.05982961775068
           },
           {
            "line": {
             "color": "white",
             "width": 3
            },
            "type": "line",
            "x0": 12.01225093470094,
            "x1": 12.208850551601534,
            "y0": 13.64924439461771,
            "y1": 13.685967556716582
           },
           {
            "line": {
             "color": "rgba(255,255,255,0)",
             "width": 3
            },
            "type": "line",
            "x0": 0.0,
            "x1": null,
            "y0": 0.0,
            "y1": null
           },
           {
            "line": {
             "color": "rgba(255,255,255,0)",
             "width": 3
            },
            "type": "line",
            "x0": 0.0,
            "x1": null,
            "y0": 0.0,
            "y1": null
           },
           {
            "line": {
             "color": "rgba(255,255,255,0)",
             "width": 3
            },
            "type": "line",
            "x0": 0.0,
            "x1": null,
            "y0": 0.0,
            "y1": null
           },
           {
            "line": {
             "color": "rgba(255,255,255,0)",
             "width": 3
            },
            "type": "line",
            "x0": 0.0,
            "x1": null,
            "y0": 0.0,
            "y1": null
           },
           {
            "line": {
             "color": "rgba(255,255,255,0)",
             "width": 3
            },
            "type": "line",
            "x0": 0.0,
            "x1": null,
            "y0": 0.0,
            "y1": null
           },
           {
            "line": {
             "color": "rgba(255,255,255,0)",
             "width": 3
            },
            "type": "line",
            "x0": 0.0,
            "x1": null,
            "y0": 0.0,
            "y1": null
           },
           {
            "line": {
             "color": "rgba(255,255,255,0)",
             "width": 3
            },
            "type": "line",
            "x0": 0.0,
            "x1": null,
            "y0": 0.0,
            "y1": null
           }
          ],
          "title": {
           "text": "<b>Percentage using the shortest path: 0%  |  Number of Agents: 3</b>",
           "x": 0.5
          }
         },
         "name": "750"
        },
        {
         "data": [
          {
           "hoverinfo": "name",
           "line": {
            "color": "white"
           },
           "mode": "lines",
           "name": "Exterior",
           "showlegend": false,
           "x": [
            10.1,
            10.1,
            15.0,
            15.0,
            13.6,
            13.6,
            15.0,
            15.0,
            13.6,
            13.6,
            15.0,
            15.0,
            10.1,
            10.1,
            9.9,
            9.9,
            5.1,
            5.1,
            4.9,
            4.9,
            0.0,
            0.0,
            1.5,
            1.5,
            0.0,
            0.0,
            1.5,
            1.5,
            0.0,
            0.0,
            4.9,
            4.9,
            5.1,
            5.1,
            9.9,
            9.9,
            10.1
           ],
           "y": [
            1.5,
            0.0,
            0.0,
            4.9,
            4.9,
            5.1,
            5.1,
            9.9,
            9.9,
            10.1,
            10.1,
            15.0,
            15.0,
            13.6,
            13.6,
            15.0,
            15.0,
            13.6,
            13.6,
            15.0,
            15.0,
            10.1,
            10.1,
            9.9,
            9.9,
            5.1,
            5.1,
            4.9,
            4.9,
            0.0,
            0.0,
            1.5,
            1.5,
            0.0,
            0.0,
            1.5,
            1.5
           ],
           "type": "scatter"
          },
          {
           "hoverinfo": "name",
           "line": {
            "color": "white"
           },
           "mode": "lines",
           "name": "Obstacle",
           "showlegend": false,
           "x": [
            10.1,
            11.5,
            11.5,
            10.1,
            10.1,
            9.9,
            9.9,
            8.6,
            8.6,
            9.9,
            9.9,
            10.1,
            10.1
           ],
           "y": [
            5.1,
            5.1,
            4.9,
            4.9,
            3.6,
            3.6,
            4.9,
            4.9,
            5.1,
            5.1,
            6.5,
            6.5,
            5.1
           ],
           "type": "scatter"
          },
          {
           "hoverinfo": "name",
           "line": {
            "color": "white"
           },
           "mode": "lines",
           "name": "Obstacle",
           "showlegend": false,
           "x": [
            10.1,
            11.5,
            11.5,
            10.1,
            10.1,
            9.9,
            9.9,
            8.6,
            8.6,
            9.9,
            9.9,
            10.1,
            10.1
           ],
           "y": [
            10.1,
            10.1,
            9.9,
            9.9,
            8.6,
            8.6,
            9.9,
            9.9,
            10.1,
            10.1,
            11.5,
            11.5,
            10.1
           ],
           "type": "scatter"
          },
          {
           "hoverinfo": "name",
           "line": {
            "color": "white"
           },
           "mode": "lines",
           "name": "Obstacle",
           "showlegend": false,
           "x": [
            5.1,
            6.4,
            6.4,
            5.1,
            5.1,
            4.9,
            4.9,
            3.6,
            3.6,
            4.9,
            4.9,
            5.1,
            5.1
           ],
           "y": [
            5.1,
            5.1,
            4.9,
            4.9,
            3.6,
            3.6,
            4.9,
            4.9,
            5.1,
            5.1,
            6.5,
            6.5,
            5.1
           ],
           "type": "scatter"
          },
          {
           "hoverinfo": "name",
           "line": {
            "color": "white"
           },
           "mode": "lines",
           "name": "Obstacle",
           "showlegend": false,
           "x": [
            5.1,
            6.4,
            6.4,
            5.1,
            5.1,
            4.9,
            4.9,
            3.6,
            3.6,
            4.9,
            4.9,
            5.1,
            5.1
           ],
           "y": [
            10.1,
            10.1,
            9.9,
            9.9,
            8.6,
            8.6,
            9.9,
            9.9,
            10.1,
            10.1,
            11.5,
            11.5,
            10.1
           ],
           "type": "scatter"
          },
          {
           "fill": "toself",
           "fillcolor": "rgb(0, 0, 0)",
           "hoverinfo": "name",
           "line": {
            "width": 0
           },
           "mode": "lines",
           "name": "Risk Area",
           "showlegend": false,
           "x": [
            1.5,
            1.5,
            3.6,
            3.6,
            4.9,
            4.9,
            5.0,
            5.0,
            4.9,
            4.9,
            0.0,
            0.0,
            1.5
           ],
           "y": [
            4.9,
            5.0,
            5.0,
            4.9,
            4.9,
            3.6,
            3.6,
            1.5,
            1.5,
            0.0,
            0.0,
            4.9,
            4.9
           ],
           "type": "scatter"
          },
          {
           "fill": "toself",
           "fillcolor": "rgb(178, 0, 0)",
           "hoverinfo": "name",
           "line": {
            "width": 0
           },
           "mode": "lines",
           "name": "Risk Area",
           "showlegend": false,
           "x": [
            9.9,
            9.9,
            5.1,
            5.1,
            5.0,
            5.0,
            5.1,
            5.1,
            6.4,
            6.4,
            8.6,
            8.6,
            9.9,
            9.9,
            10.0,
            10.0,
            9.9
           ],
           "y": [
            1.5,
            0.0,
            0.0,
            1.5,
            1.5,
            3.6,
            3.6,
            4.9,
            4.9,
            5.0,
            5.0,
            4.9,
            4.9,
            3.6,
            3.6,
            1.5,
            1.5
           ],
           "type": "scatter"
          },
          {
           "fill": "toself",
           "fillcolor": "rgb(25, 0, 0)",
           "hoverinfo": "name",
           "line": {
            "width": 0
           },
           "mode": "lines",
           "name": "Risk Area",
           "showlegend": false,
           "x": [
            13.6,
            15.0,
            15.0,
            10.1,
            10.1,
            10.0,
            10.0,
            10.1,
            10.1,
            11.5,
            11.5,
            13.6,
            13.6
           ],
           "y": [
            4.9,
            4.9,
            0.0,
            0.0,
            1.5,
            1.5,
            3.6,
            3.6,
            4.9,
            4.9,
            5.0,
            5.0,
            4.9
           ],
           "type": "scatter"
          },
          {
           "fill": "toself",
           "fillcolor": "rgb(178, 0, 0)",
           "hoverinfo": "name",
           "line": {
            "width": 0
           },
           "mode": "lines",
           "name": "Risk Area",
           "showlegend": false,
           "x": [
            13.6,
            15.0,
            15.0,
            13.6,
            13.6,
            11.5,
            11.5,
            10.1,
            10.1,
            10.0,
            10.0,
            10.1,
            10.1,
            11.5,
            11.5,
            13.6,
            13.6
           ],
           "y": [
            9.9,
            9.9,
            5.1,
            5.1,
            5.0,
            5.0,
            5.1,
            5.1,
            6.5,
            6.5,
            8.6,
            8.6,
            9.9,
            9.9,
            10.0,
            10.0,
            9.9
           ],
           "type": "scatter"
          },
          {
           "fill": "toself",
           "fillcolor": "rgb(204, 0, 0)",
           "hoverinfo": "name",
           "line": {
            "width": 0
           },
           "mode": "lines",
           "name": "Risk Area",
           "showlegend": false,
           "x": [
            9.9,
            9.9,
            8.6,
            8.6,
            6.4,
            6.4,
            5.1,
            5.1,
            5.0,
            5.0,
            5.1,
            5.1,
            6.4,
            6.4,
            8.6,
            8.6,
            9.9,
            9.9,
            10.0,
            10.0,
            9.9
           ],
           "y": [
            6.5,
            5.1,
            5.1,
            5.0,
            5.0,
            5.1,
            5.1,
            6.5,
            6.5,
            8.6,
            8.6,
            9.9,
            9.9,
            10.0,
            10.0,
            9.9,
            9.9,
            8.6,
            8.6,
            6.5,
            6.5
           ],
           "type": "scatter"
          },
          {
           "fill": "toself",
           "fillcolor": "rgb(76, 0, 0)",
           "hoverinfo": "name",
           "line": {
            "width": 0
           },
           "mode": "lines",
           "name": "Risk Area",
           "showlegend": false,
           "x": [
            4.9,
            4.9,
            3.6,
            3.6,
            1.5,
            1.5,
            0.0,
            0.0,
            1.5,
            1.5,
            3.6,
            3.6,
            4.9,
            4.9,
            5.0,
            5.0,
            4.9
           ],
           "y": [
            6.5,
            5.1,
            5.1,
            5.0,
            5.0,
            5.1,
            5.1,
            9.9,
            9.9,
            10.0,
            10.0,
            9.9,
            9.9,
            8.6,
            8.6,
            6.5,
            6.5
           ],
           "type": "scatter"
          },
          {
           "fill": "toself",
           "fillcolor": "rgb(51, 0, 0)",
           "hoverinfo": "name",
           "line": {
            "width": 0
           },
           "mode": "lines",
           "name": "Risk Area",
           "showlegend": false,
           "x": [
            1.5,
            0.0,
            0.0,
            4.9,
            4.9,
            5.0,
            5.0,
            4.9,
            4.9,
            3.6,
            3.6,
            1.5,
            1.5
           ],
           "y": [
            10.1,
            10.1,
            15.0,
            15.0,
            13.6,
            13.6,
            11.5,
            11.5,
            10.1,
            10.1,
            10.0,
            10.0,
            10.1
           ],
           "type": "scatter"
          },
          {
           "fill": "toself",
           "fillcolor": "rgb(0, 0, 0)",
           "hoverinfo": "name",
           "line": {
            "width": 0
           },
           "mode": "lines",
           "name": "Risk Area",
           "showlegend": false,
           "x": [
            6.4,
            5.1,
            5.1,
            5.0,
            5.0,
            5.1,
            5.1,
            9.9,
            9.9,
            10.0,
            10.0,
            9.9,
            9.9,
            8.6,
            8.6,
            6.4,
            6.4
           ],
           "y": [
            10.1,
            10.1,
            11.5,
            11.5,
            13.6,
            13.6,
            15.0,
            15.0,
            13.6,
            13.6,
            11.5,
            11.5,
            10.1,
            10.1,
            10.0,
            10.0,
            10.1
           ],
           "type": "scatter"
          },
          {
           "fill": "toself",
           "fillcolor": "rgb(0, 0, 0)",
           "hoverinfo": "name",
           "line": {
            "width": 0
           },
           "mode": "lines",
           "name": "Risk Area",
           "showlegend": false,
           "x": [
            10.1,
            10.1,
            15.0,
            15.0,
            13.6,
            13.6,
            11.5,
            11.5,
            10.1,
            10.1,
            10.0,
            10.0,
            10.1
           ],
           "y": [
            13.6,
            15.0,
            15.0,
            10.1,
            10.1,
            10.0,
            10.0,
            10.1,
            10.1,
            11.5,
            11.5,
            13.6,
            13.6
           ],
           "type": "scatter"
          },
          {
           "hoverinfo": "text",
           "marker": {
            "opacity": 1,
            "size": 1
           },
           "mode": "markers",
           "showlegend": false,
           "text": [
            "ID: 173.0, Pos(12.12,13.42)"
           ],
           "x": [
            12.123084616779458
           ],
           "y": [
            13.418966630282723
           ],
           "type": "scatter"
          },
          {
           "hoverinfo": "none",
           "marker": {
            "opacity": 0,
            "size": 1
           },
           "mode": "markers",
           "showlegend": false,
           "x": [
            0.0
           ],
           "y": [
            0.0
           ],
           "type": "scatter"
          },
          {
           "hoverinfo": "none",
           "marker": {
            "opacity": 0,
            "size": 1
           },
           "mode": "markers",
           "showlegend": false,
           "x": [
            0.0
           ],
           "y": [
            0.0
           ],
           "type": "scatter"
          },
          {
           "hoverinfo": "none",
           "marker": {
            "opacity": 0,
            "size": 1
           },
           "mode": "markers",
           "showlegend": false,
           "x": [
            0.0
           ],
           "y": [
            0.0
           ],
           "type": "scatter"
          },
          {
           "hoverinfo": "none",
           "marker": {
            "opacity": 0,
            "size": 1
           },
           "mode": "markers",
           "showlegend": false,
           "x": [
            0.0
           ],
           "y": [
            0.0
           ],
           "type": "scatter"
          },
          {
           "hoverinfo": "none",
           "marker": {
            "opacity": 0,
            "size": 1
           },
           "mode": "markers",
           "showlegend": false,
           "x": [
            0.0
           ],
           "y": [
            0.0
           ],
           "type": "scatter"
          },
          {
           "hoverinfo": "none",
           "marker": {
            "opacity": 0,
            "size": 1
           },
           "mode": "markers",
           "showlegend": false,
           "x": [
            0.0
           ],
           "y": [
            0.0
           ],
           "type": "scatter"
          },
          {
           "hoverinfo": "none",
           "marker": {
            "opacity": 0,
            "size": 1
           },
           "mode": "markers",
           "showlegend": false,
           "x": [
            0.0
           ],
           "y": [
            0.0
           ],
           "type": "scatter"
          },
          {
           "hoverinfo": "none",
           "marker": {
            "opacity": 0,
            "size": 1
           },
           "mode": "markers",
           "showlegend": false,
           "x": [
            0.0
           ],
           "y": [
            0.0
           ],
           "type": "scatter"
          },
          {
           "hoverinfo": "none",
           "marker": {
            "opacity": 0,
            "size": 1
           },
           "mode": "markers",
           "showlegend": false,
           "x": [
            0.0
           ],
           "y": [
            0.0
           ],
           "type": "scatter"
          }
         ],
         "layout": {
          "shapes": [
           {
            "fillcolor": "rgba(0, 0, 128, 0.5)",
            "line": {
             "color": "rgba(0, 0, 128, 0.5)"
            },
            "type": "circle",
            "x0": 11.923084616779459,
            "x1": 12.323084616779457,
            "xref": "x",
            "y0": 13.218966630282724,
            "y1": 13.618966630282722,
            "yref": "y"
           },
           {
            "fillcolor": "rgba(255,255,255,0)",
            "line": {
             "width": 0
            },
            "type": "circle",
            "x0": 0.0,
            "x1": 0.0,
            "xref": "x",
            "y0": 0.0,
            "y1": 0.0,
            "yref": "y"
           },
           {
            "fillcolor": "rgba(255,255,255,0)",
            "line": {
             "width": 0
            },
            "type": "circle",
            "x0": 0.0,
            "x1": 0.0,
            "xref": "x",
            "y0": 0.0,
            "y1": 0.0,
            "yref": "y"
           },
           {
            "fillcolor": "rgba(255,255,255,0)",
            "line": {
             "width": 0
            },
            "type": "circle",
            "x0": 0.0,
            "x1": 0.0,
            "xref": "x",
            "y0": 0.0,
            "y1": 0.0,
            "yref": "y"
           },
           {
            "fillcolor": "rgba(255,255,255,0)",
            "line": {
             "width": 0
            },
            "type": "circle",
            "x0": 0.0,
            "x1": 0.0,
            "xref": "x",
            "y0": 0.0,
            "y1": 0.0,
            "yref": "y"
           },
           {
            "fillcolor": "rgba(255,255,255,0)",
            "line": {
             "width": 0
            },
            "type": "circle",
            "x0": 0.0,
            "x1": 0.0,
            "xref": "x",
            "y0": 0.0,
            "y1": 0.0,
            "yref": "y"
           },
           {
            "fillcolor": "rgba(255,255,255,0)",
            "line": {
             "width": 0
            },
            "type": "circle",
            "x0": 0.0,
            "x1": 0.0,
            "xref": "x",
            "y0": 0.0,
            "y1": 0.0,
            "yref": "y"
           },
           {
            "fillcolor": "rgba(255,255,255,0)",
            "line": {
             "width": 0
            },
            "type": "circle",
            "x0": 0.0,
            "x1": 0.0,
            "xref": "x",
            "y0": 0.0,
            "y1": 0.0,
            "yref": "y"
           },
           {
            "fillcolor": "rgba(255,255,255,0)",
            "line": {
             "width": 0
            },
            "type": "circle",
            "x0": 0.0,
            "x1": 0.0,
            "xref": "x",
            "y0": 0.0,
            "y1": 0.0,
            "yref": "y"
           },
           {
            "fillcolor": "rgba(255,255,255,0)",
            "line": {
             "width": 0
            },
            "type": "circle",
            "x0": 0.0,
            "x1": 0.0,
            "xref": "x",
            "y0": 0.0,
            "y1": 0.0,
            "yref": "y"
           },
           {
            "line": {
             "color": "white",
             "width": 3
            },
            "type": "line",
            "x0": 12.123084616779458,
            "x1": 12.319068764694626,
            "y0": 13.418966630282723,
            "y1": 13.458844114731546
           },
           {
            "line": {
             "color": "rgba(255,255,255,0)",
             "width": 3
            },
            "type": "line",
            "x0": 0.0,
            "x1": null,
            "y0": 0.0,
            "y1": null
           },
           {
            "line": {
             "color": "rgba(255,255,255,0)",
             "width": 3
            },
            "type": "line",
            "x0": 0.0,
            "x1": null,
            "y0": 0.0,
            "y1": null
           },
           {
            "line": {
             "color": "rgba(255,255,255,0)",
             "width": 3
            },
            "type": "line",
            "x0": 0.0,
            "x1": null,
            "y0": 0.0,
            "y1": null
           },
           {
            "line": {
             "color": "rgba(255,255,255,0)",
             "width": 3
            },
            "type": "line",
            "x0": 0.0,
            "x1": null,
            "y0": 0.0,
            "y1": null
           },
           {
            "line": {
             "color": "rgba(255,255,255,0)",
             "width": 3
            },
            "type": "line",
            "x0": 0.0,
            "x1": null,
            "y0": 0.0,
            "y1": null
           },
           {
            "line": {
             "color": "rgba(255,255,255,0)",
             "width": 3
            },
            "type": "line",
            "x0": 0.0,
            "x1": null,
            "y0": 0.0,
            "y1": null
           },
           {
            "line": {
             "color": "rgba(255,255,255,0)",
             "width": 3
            },
            "type": "line",
            "x0": 0.0,
            "x1": null,
            "y0": 0.0,
            "y1": null
           },
           {
            "line": {
             "color": "rgba(255,255,255,0)",
             "width": 3
            },
            "type": "line",
            "x0": 0.0,
            "x1": null,
            "y0": 0.0,
            "y1": null
           },
           {
            "line": {
             "color": "rgba(255,255,255,0)",
             "width": 3
            },
            "type": "line",
            "x0": 0.0,
            "x1": null,
            "y0": 0.0,
            "y1": null
           }
          ],
          "title": {
           "text": "<b>Percentage using the shortest path: 0%  |  Number of Agents: 1</b>",
           "x": 0.5
          }
         },
         "name": "800"
        }
       ],
       "config": {
        "plotlyServerURL": "https://plot.ly"
       }
      },
      "text/html": "<div>                            <div id=\"3bbb5fb6-7564-45f7-8149-23e88e85c2d7\" class=\"plotly-graph-div\" style=\"height:800px; width:800px;\"></div>            <script type=\"text/javascript\">                require([\"plotly\"], function(Plotly) {                    window.PLOTLYENV=window.PLOTLYENV || {};                                    if (document.getElementById(\"3bbb5fb6-7564-45f7-8149-23e88e85c2d7\")) {                    Plotly.newPlot(                        \"3bbb5fb6-7564-45f7-8149-23e88e85c2d7\",                        [{\"hoverinfo\":\"name\",\"line\":{\"color\":\"white\"},\"mode\":\"lines\",\"name\":\"Exterior\",\"showlegend\":false,\"x\":[10.1,10.1,15.0,15.0,13.6,13.6,15.0,15.0,13.6,13.6,15.0,15.0,10.1,10.1,9.9,9.9,5.1,5.1,4.9,4.9,0.0,0.0,1.5,1.5,0.0,0.0,1.5,1.5,0.0,0.0,4.9,4.9,5.1,5.1,9.9,9.9,10.1],\"y\":[1.5,0.0,0.0,4.9,4.9,5.1,5.1,9.9,9.9,10.1,10.1,15.0,15.0,13.6,13.6,15.0,15.0,13.6,13.6,15.0,15.0,10.1,10.1,9.9,9.9,5.1,5.1,4.9,4.9,0.0,0.0,1.5,1.5,0.0,0.0,1.5,1.5],\"type\":\"scatter\"},{\"hoverinfo\":\"name\",\"line\":{\"color\":\"white\"},\"mode\":\"lines\",\"name\":\"Obstacle\",\"showlegend\":false,\"x\":[10.1,11.5,11.5,10.1,10.1,9.9,9.9,8.6,8.6,9.9,9.9,10.1,10.1],\"y\":[5.1,5.1,4.9,4.9,3.6,3.6,4.9,4.9,5.1,5.1,6.5,6.5,5.1],\"type\":\"scatter\"},{\"hoverinfo\":\"name\",\"line\":{\"color\":\"white\"},\"mode\":\"lines\",\"name\":\"Obstacle\",\"showlegend\":false,\"x\":[10.1,11.5,11.5,10.1,10.1,9.9,9.9,8.6,8.6,9.9,9.9,10.1,10.1],\"y\":[10.1,10.1,9.9,9.9,8.6,8.6,9.9,9.9,10.1,10.1,11.5,11.5,10.1],\"type\":\"scatter\"},{\"hoverinfo\":\"name\",\"line\":{\"color\":\"white\"},\"mode\":\"lines\",\"name\":\"Obstacle\",\"showlegend\":false,\"x\":[5.1,6.4,6.4,5.1,5.1,4.9,4.9,3.6,3.6,4.9,4.9,5.1,5.1],\"y\":[5.1,5.1,4.9,4.9,3.6,3.6,4.9,4.9,5.1,5.1,6.5,6.5,5.1],\"type\":\"scatter\"},{\"hoverinfo\":\"name\",\"line\":{\"color\":\"white\"},\"mode\":\"lines\",\"name\":\"Obstacle\",\"showlegend\":false,\"x\":[5.1,6.4,6.4,5.1,5.1,4.9,4.9,3.6,3.6,4.9,4.9,5.1,5.1],\"y\":[10.1,10.1,9.9,9.9,8.6,8.6,9.9,9.9,10.1,10.1,11.5,11.5,10.1],\"type\":\"scatter\"},{\"fill\":\"toself\",\"fillcolor\":\"rgb(0, 0, 0)\",\"hoverinfo\":\"name\",\"line\":{\"width\":0},\"mode\":\"lines\",\"name\":\"Risk Area\",\"showlegend\":false,\"x\":[1.5,1.5,3.6,3.6,4.9,4.9,5.0,5.0,4.9,4.9,0.0,0.0,1.5],\"y\":[4.9,5.0,5.0,4.9,4.9,3.6,3.6,1.5,1.5,0.0,0.0,4.9,4.9],\"type\":\"scatter\"},{\"fill\":\"toself\",\"fillcolor\":\"rgb(178, 0, 0)\",\"hoverinfo\":\"name\",\"line\":{\"width\":0},\"mode\":\"lines\",\"name\":\"Risk Area\",\"showlegend\":false,\"x\":[9.9,9.9,5.1,5.1,5.0,5.0,5.1,5.1,6.4,6.4,8.6,8.6,9.9,9.9,10.0,10.0,9.9],\"y\":[1.5,0.0,0.0,1.5,1.5,3.6,3.6,4.9,4.9,5.0,5.0,4.9,4.9,3.6,3.6,1.5,1.5],\"type\":\"scatter\"},{\"fill\":\"toself\",\"fillcolor\":\"rgb(25, 0, 0)\",\"hoverinfo\":\"name\",\"line\":{\"width\":0},\"mode\":\"lines\",\"name\":\"Risk Area\",\"showlegend\":false,\"x\":[13.6,15.0,15.0,10.1,10.1,10.0,10.0,10.1,10.1,11.5,11.5,13.6,13.6],\"y\":[4.9,4.9,0.0,0.0,1.5,1.5,3.6,3.6,4.9,4.9,5.0,5.0,4.9],\"type\":\"scatter\"},{\"fill\":\"toself\",\"fillcolor\":\"rgb(178, 0, 0)\",\"hoverinfo\":\"name\",\"line\":{\"width\":0},\"mode\":\"lines\",\"name\":\"Risk Area\",\"showlegend\":false,\"x\":[13.6,15.0,15.0,13.6,13.6,11.5,11.5,10.1,10.1,10.0,10.0,10.1,10.1,11.5,11.5,13.6,13.6],\"y\":[9.9,9.9,5.1,5.1,5.0,5.0,5.1,5.1,6.5,6.5,8.6,8.6,9.9,9.9,10.0,10.0,9.9],\"type\":\"scatter\"},{\"fill\":\"toself\",\"fillcolor\":\"rgb(204, 0, 0)\",\"hoverinfo\":\"name\",\"line\":{\"width\":0},\"mode\":\"lines\",\"name\":\"Risk Area\",\"showlegend\":false,\"x\":[9.9,9.9,8.6,8.6,6.4,6.4,5.1,5.1,5.0,5.0,5.1,5.1,6.4,6.4,8.6,8.6,9.9,9.9,10.0,10.0,9.9],\"y\":[6.5,5.1,5.1,5.0,5.0,5.1,5.1,6.5,6.5,8.6,8.6,9.9,9.9,10.0,10.0,9.9,9.9,8.6,8.6,6.5,6.5],\"type\":\"scatter\"},{\"fill\":\"toself\",\"fillcolor\":\"rgb(76, 0, 0)\",\"hoverinfo\":\"name\",\"line\":{\"width\":0},\"mode\":\"lines\",\"name\":\"Risk Area\",\"showlegend\":false,\"x\":[4.9,4.9,3.6,3.6,1.5,1.5,0.0,0.0,1.5,1.5,3.6,3.6,4.9,4.9,5.0,5.0,4.9],\"y\":[6.5,5.1,5.1,5.0,5.0,5.1,5.1,9.9,9.9,10.0,10.0,9.9,9.9,8.6,8.6,6.5,6.5],\"type\":\"scatter\"},{\"fill\":\"toself\",\"fillcolor\":\"rgb(51, 0, 0)\",\"hoverinfo\":\"name\",\"line\":{\"width\":0},\"mode\":\"lines\",\"name\":\"Risk Area\",\"showlegend\":false,\"x\":[1.5,0.0,0.0,4.9,4.9,5.0,5.0,4.9,4.9,3.6,3.6,1.5,1.5],\"y\":[10.1,10.1,15.0,15.0,13.6,13.6,11.5,11.5,10.1,10.1,10.0,10.0,10.1],\"type\":\"scatter\"},{\"fill\":\"toself\",\"fillcolor\":\"rgb(0, 0, 0)\",\"hoverinfo\":\"name\",\"line\":{\"width\":0},\"mode\":\"lines\",\"name\":\"Risk Area\",\"showlegend\":false,\"x\":[6.4,5.1,5.1,5.0,5.0,5.1,5.1,9.9,9.9,10.0,10.0,9.9,9.9,8.6,8.6,6.4,6.4],\"y\":[10.1,10.1,11.5,11.5,13.6,13.6,15.0,15.0,13.6,13.6,11.5,11.5,10.1,10.1,10.0,10.0,10.1],\"type\":\"scatter\"},{\"fill\":\"toself\",\"fillcolor\":\"rgb(0, 0, 0)\",\"hoverinfo\":\"name\",\"line\":{\"width\":0},\"mode\":\"lines\",\"name\":\"Risk Area\",\"showlegend\":false,\"x\":[10.1,10.1,15.0,15.0,13.6,13.6,11.5,11.5,10.1,10.1,10.0,10.0,10.1],\"y\":[13.6,15.0,15.0,10.1,10.1,10.0,10.0,10.1,10.1,11.5,11.5,13.6,13.6],\"type\":\"scatter\"},{\"hoverinfo\":\"none\",\"marker\":{\"cmax\":0.8000000000000069,\"cmin\":0,\"color\":[0.7999997415062419,0.5075973971098988,0.7998523749829529,0.7988478819166775,0.7992132371410413,0.7249901030431707,0.612802758593313,0.7999999999999988,0.26322573985669484,0.799652812025704],\"colorbar\":{\"title\":{\"text\":\"Speed [m\\u002fs]\"}},\"colorscale\":[[0.0,\"rgb(128,0,0)\"],[0.2,\"rgb(250,0,0)\"],[0.4,\"rgb(255,255,0)\"],[0.6,\"rgb(5,255,255)\"],[0.8,\"rgb(0,60,170)\"],[1.0,\"rgb(0,0,131)\"]],\"size\":[0.4,0.4,0.4,0.4,0.4,0.4,0.4,0.4,0.4,0.4]},\"mode\":\"markers\",\"showlegend\":false,\"text\":[0.7999997415062419,0.5075973971098988,0.7998523749829529,0.7988478819166775,0.7992132371410413,0.7249901030431707,0.612802758593313,0.7999999999999988,0.26322573985669484,0.799652812025704],\"x\":[3.9863327738146737,0.8488279016949318,1.7258968673840784,2.116160882427272,1.692259232863783,1.453767774845684,3.0719865838614573,3.48879726462054,1.7042831428492793,1.7565776142251517],\"y\":[4.268834270066489,1.6370406488593048,1.5962220773638665,3.5204353653542206,2.7972929381969065,3.6607508930614516,4.234745501580994,1.9561046634672852,3.3139640340517103,2.253852105302265],\"type\":\"scatter\"},{\"hoverinfo\":\"none\",\"marker\":{\"cmax\":1,\"cmin\":0,\"color\":[0],\"colorbar\":{\"title\":{\"text\":\"Risk Level\"},\"x\":1.25},\"colorscale\":[[0.0,\"rgb(0, 0, 0)\"],[0.1,\"rgb(25, 0, 0)\"],[0.2,\"rgb(51, 0, 0)\"],[0.3,\"rgb(76, 0, 0)\"],[0.4,\"rgb(102, 0, 0)\"],[0.5,\"rgb(127, 0, 0)\"],[0.6,\"rgb(153, 0, 0)\"],[0.7,\"rgb(178, 0, 0)\"],[0.8,\"rgb(204, 0, 0)\"],[0.9,\"rgb(229, 0, 0)\"],[1.0,\"rgb(255, 0, 0)\"]],\"size\":10},\"mode\":\"markers\",\"showlegend\":false,\"x\":[0],\"y\":[0],\"type\":\"scatter\"},{\"hoverinfo\":\"text\",\"marker\":{\"opacity\":1,\"size\":1},\"mode\":\"markers\",\"showlegend\":false,\"text\":[\"ID: 171, Pos(3.99,4.27)\"],\"x\":[3.9863327738146737],\"y\":[4.268834270066489],\"type\":\"scatter\"},{\"hoverinfo\":\"text\",\"marker\":{\"opacity\":1,\"size\":1},\"mode\":\"markers\",\"showlegend\":false,\"text\":[\"ID: 172, Pos(0.85,1.64)\"],\"x\":[0.8488279016949318],\"y\":[1.6370406488593048],\"type\":\"scatter\"},{\"hoverinfo\":\"text\",\"marker\":{\"opacity\":1,\"size\":1},\"mode\":\"markers\",\"showlegend\":false,\"text\":[\"ID: 173, Pos(1.73,1.60)\"],\"x\":[1.7258968673840784],\"y\":[1.5962220773638665],\"type\":\"scatter\"},{\"hoverinfo\":\"text\",\"marker\":{\"opacity\":1,\"size\":1},\"mode\":\"markers\",\"showlegend\":false,\"text\":[\"ID: 174, Pos(2.12,3.52)\"],\"x\":[2.116160882427272],\"y\":[3.5204353653542206],\"type\":\"scatter\"},{\"hoverinfo\":\"text\",\"marker\":{\"opacity\":1,\"size\":1},\"mode\":\"markers\",\"showlegend\":false,\"text\":[\"ID: 175, Pos(1.69,2.80)\"],\"x\":[1.692259232863783],\"y\":[2.7972929381969065],\"type\":\"scatter\"},{\"hoverinfo\":\"text\",\"marker\":{\"opacity\":1,\"size\":1},\"mode\":\"markers\",\"showlegend\":false,\"text\":[\"ID: 176, Pos(1.45,3.66)\"],\"x\":[1.453767774845684],\"y\":[3.6607508930614516],\"type\":\"scatter\"},{\"hoverinfo\":\"text\",\"marker\":{\"opacity\":1,\"size\":1},\"mode\":\"markers\",\"showlegend\":false,\"text\":[\"ID: 177, Pos(3.07,4.23)\"],\"x\":[3.0719865838614573],\"y\":[4.234745501580994],\"type\":\"scatter\"},{\"hoverinfo\":\"text\",\"marker\":{\"opacity\":1,\"size\":1},\"mode\":\"markers\",\"showlegend\":false,\"text\":[\"ID: 178, Pos(3.49,1.96)\"],\"x\":[3.48879726462054],\"y\":[1.9561046634672852],\"type\":\"scatter\"},{\"hoverinfo\":\"text\",\"marker\":{\"opacity\":1,\"size\":1},\"mode\":\"markers\",\"showlegend\":false,\"text\":[\"ID: 179, Pos(1.70,3.31)\"],\"x\":[1.7042831428492793],\"y\":[3.3139640340517103],\"type\":\"scatter\"},{\"hoverinfo\":\"text\",\"marker\":{\"opacity\":1,\"size\":1},\"mode\":\"markers\",\"showlegend\":false,\"text\":[\"ID: 180, Pos(1.76,2.25)\"],\"x\":[1.7565776142251517],\"y\":[2.253852105302265],\"type\":\"scatter\"}],                        {\"shapes\":[{\"fillcolor\":\"rgba(0, 0, 128, 0.5)\",\"line\":{\"color\":\"rgba(0, 0, 128, 0.5)\"},\"type\":\"circle\",\"x0\":3.7863327738146735,\"x1\":4.186332773814674,\"xref\":\"x\",\"y0\":4.068834270066489,\"y1\":4.468834270066489,\"yref\":\"y\"},{\"fillcolor\":\"rgba(48, 255, 199, 0.5)\",\"line\":{\"color\":\"rgba(48, 255, 199, 0.5)\"},\"type\":\"circle\",\"x0\":0.6488279016949319,\"x1\":1.0488279016949318,\"xref\":\"x\",\"y0\":1.4370406488593048,\"y1\":1.8370406488593047,\"yref\":\"y\"},{\"fillcolor\":\"rgba(0, 0, 128, 0.5)\",\"line\":{\"color\":\"rgba(0, 0, 128, 0.5)\"},\"type\":\"circle\",\"x0\":1.5258968673840785,\"x1\":1.9258968673840784,\"xref\":\"x\",\"y0\":1.3962220773638665,\"y1\":1.7962220773638664,\"yref\":\"y\"},{\"fillcolor\":\"rgba(0, 0, 128, 0.5)\",\"line\":{\"color\":\"rgba(0, 0, 128, 0.5)\"},\"type\":\"circle\",\"x0\":1.916160882427272,\"x1\":2.316160882427272,\"xref\":\"x\",\"y0\":3.3204353653542205,\"y1\":3.720435365354221,\"yref\":\"y\"},{\"fillcolor\":\"rgba(0, 0, 128, 0.5)\",\"line\":{\"color\":\"rgba(0, 0, 128, 0.5)\"},\"type\":\"circle\",\"x0\":1.4922592328637831,\"x1\":1.892259232863783,\"xref\":\"x\",\"y0\":2.5972929381969063,\"y1\":2.9972929381969067,\"yref\":\"y\"},{\"fillcolor\":\"rgba(0, 0, 246, 0.5)\",\"line\":{\"color\":\"rgba(0, 0, 246, 0.5)\"},\"type\":\"circle\",\"x0\":1.2537677748456841,\"x1\":1.653767774845684,\"xref\":\"x\",\"y0\":3.4607508930614514,\"y1\":3.860750893061452,\"yref\":\"y\"},{\"fillcolor\":\"rgba(0, 136, 255, 0.5)\",\"line\":{\"color\":\"rgba(0, 136, 255, 0.5)\"},\"type\":\"circle\",\"x0\":2.871986583861457,\"x1\":3.2719865838614575,\"xref\":\"x\",\"y0\":4.034745501580994,\"y1\":4.434745501580994,\"yref\":\"y\"},{\"fillcolor\":\"rgba(0, 0, 128, 0.5)\",\"line\":{\"color\":\"rgba(0, 0, 128, 0.5)\"},\"type\":\"circle\",\"x0\":3.28879726462054,\"x1\":3.6887972646205403,\"xref\":\"x\",\"y0\":1.7561046634672852,\"y1\":2.156104663467285,\"yref\":\"y\"},{\"fillcolor\":\"rgba(255, 152, 0, 0.5)\",\"line\":{\"color\":\"rgba(255, 152, 0, 0.5)\"},\"type\":\"circle\",\"x0\":1.5042831428492793,\"x1\":1.9042831428492792,\"xref\":\"x\",\"y0\":3.11396403405171,\"y1\":3.5139640340517104,\"yref\":\"y\"},{\"fillcolor\":\"rgba(0, 0, 128, 0.5)\",\"line\":{\"color\":\"rgba(0, 0, 128, 0.5)\"},\"type\":\"circle\",\"x0\":1.5565776142251517,\"x1\":1.9565776142251516,\"xref\":\"x\",\"y0\":2.0538521053022647,\"y1\":2.453852105302265,\"yref\":\"y\"},{\"line\":{\"color\":\"white\",\"width\":3},\"type\":\"line\",\"x0\":3.9863327738146737,\"x1\":3.9863327738146737,\"y0\":4.268834270066489,\"y1\":4.268834270066489},{\"line\":{\"color\":\"black\",\"width\":3},\"type\":\"line\",\"x0\":0.8488279016949318,\"x1\":0.8488279016949318,\"y0\":1.6370406488593048,\"y1\":1.6370406488593048},{\"line\":{\"color\":\"white\",\"width\":3},\"type\":\"line\",\"x0\":1.7258968673840784,\"x1\":1.7258968673840784,\"y0\":1.5962220773638665,\"y1\":1.5962220773638665},{\"line\":{\"color\":\"white\",\"width\":3},\"type\":\"line\",\"x0\":2.116160882427272,\"x1\":2.116160882427272,\"y0\":3.5204353653542206,\"y1\":3.5204353653542206},{\"line\":{\"color\":\"white\",\"width\":3},\"type\":\"line\",\"x0\":1.692259232863783,\"x1\":1.692259232863783,\"y0\":2.7972929381969065,\"y1\":2.7972929381969065},{\"line\":{\"color\":\"white\",\"width\":3},\"type\":\"line\",\"x0\":1.453767774845684,\"x1\":1.453767774845684,\"y0\":3.6607508930614516,\"y1\":3.6607508930614516},{\"line\":{\"color\":\"white\",\"width\":3},\"type\":\"line\",\"x0\":3.0719865838614573,\"x1\":3.0719865838614573,\"y0\":4.234745501580994,\"y1\":4.234745501580994},{\"line\":{\"color\":\"white\",\"width\":3},\"type\":\"line\",\"x0\":3.48879726462054,\"x1\":3.48879726462054,\"y0\":1.9561046634672852,\"y1\":1.9561046634672852},{\"line\":{\"color\":\"black\",\"width\":3},\"type\":\"line\",\"x0\":1.7042831428492793,\"x1\":1.7042831428492793,\"y0\":3.3139640340517103,\"y1\":3.3139640340517103},{\"line\":{\"color\":\"white\",\"width\":3},\"type\":\"line\",\"x0\":1.7565776142251517,\"x1\":1.7565776142251517,\"y0\":2.253852105302265,\"y1\":2.253852105302265}],\"title\":{\"text\":\"\\u003cb\\u003ePercentage using the shortest path: 0%  |  Number of Agents: 10\\u003c\\u002fb\\u003e\",\"x\":0.5},\"template\":{\"data\":{\"histogram2dcontour\":[{\"type\":\"histogram2dcontour\",\"colorbar\":{\"outlinewidth\":0,\"ticks\":\"\"},\"colorscale\":[[0.0,\"#0d0887\"],[0.1111111111111111,\"#46039f\"],[0.2222222222222222,\"#7201a8\"],[0.3333333333333333,\"#9c179e\"],[0.4444444444444444,\"#bd3786\"],[0.5555555555555556,\"#d8576b\"],[0.6666666666666666,\"#ed7953\"],[0.7777777777777778,\"#fb9f3a\"],[0.8888888888888888,\"#fdca26\"],[1.0,\"#f0f921\"]]}],\"choropleth\":[{\"type\":\"choropleth\",\"colorbar\":{\"outlinewidth\":0,\"ticks\":\"\"}}],\"histogram2d\":[{\"type\":\"histogram2d\",\"colorbar\":{\"outlinewidth\":0,\"ticks\":\"\"},\"colorscale\":[[0.0,\"#0d0887\"],[0.1111111111111111,\"#46039f\"],[0.2222222222222222,\"#7201a8\"],[0.3333333333333333,\"#9c179e\"],[0.4444444444444444,\"#bd3786\"],[0.5555555555555556,\"#d8576b\"],[0.6666666666666666,\"#ed7953\"],[0.7777777777777778,\"#fb9f3a\"],[0.8888888888888888,\"#fdca26\"],[1.0,\"#f0f921\"]]}],\"heatmap\":[{\"type\":\"heatmap\",\"colorbar\":{\"outlinewidth\":0,\"ticks\":\"\"},\"colorscale\":[[0.0,\"#0d0887\"],[0.1111111111111111,\"#46039f\"],[0.2222222222222222,\"#7201a8\"],[0.3333333333333333,\"#9c179e\"],[0.4444444444444444,\"#bd3786\"],[0.5555555555555556,\"#d8576b\"],[0.6666666666666666,\"#ed7953\"],[0.7777777777777778,\"#fb9f3a\"],[0.8888888888888888,\"#fdca26\"],[1.0,\"#f0f921\"]]}],\"heatmapgl\":[{\"type\":\"heatmapgl\",\"colorbar\":{\"outlinewidth\":0,\"ticks\":\"\"},\"colorscale\":[[0.0,\"#0d0887\"],[0.1111111111111111,\"#46039f\"],[0.2222222222222222,\"#7201a8\"],[0.3333333333333333,\"#9c179e\"],[0.4444444444444444,\"#bd3786\"],[0.5555555555555556,\"#d8576b\"],[0.6666666666666666,\"#ed7953\"],[0.7777777777777778,\"#fb9f3a\"],[0.8888888888888888,\"#fdca26\"],[1.0,\"#f0f921\"]]}],\"contourcarpet\":[{\"type\":\"contourcarpet\",\"colorbar\":{\"outlinewidth\":0,\"ticks\":\"\"}}],\"contour\":[{\"type\":\"contour\",\"colorbar\":{\"outlinewidth\":0,\"ticks\":\"\"},\"colorscale\":[[0.0,\"#0d0887\"],[0.1111111111111111,\"#46039f\"],[0.2222222222222222,\"#7201a8\"],[0.3333333333333333,\"#9c179e\"],[0.4444444444444444,\"#bd3786\"],[0.5555555555555556,\"#d8576b\"],[0.6666666666666666,\"#ed7953\"],[0.7777777777777778,\"#fb9f3a\"],[0.8888888888888888,\"#fdca26\"],[1.0,\"#f0f921\"]]}],\"surface\":[{\"type\":\"surface\",\"colorbar\":{\"outlinewidth\":0,\"ticks\":\"\"},\"colorscale\":[[0.0,\"#0d0887\"],[0.1111111111111111,\"#46039f\"],[0.2222222222222222,\"#7201a8\"],[0.3333333333333333,\"#9c179e\"],[0.4444444444444444,\"#bd3786\"],[0.5555555555555556,\"#d8576b\"],[0.6666666666666666,\"#ed7953\"],[0.7777777777777778,\"#fb9f3a\"],[0.8888888888888888,\"#fdca26\"],[1.0,\"#f0f921\"]]}],\"mesh3d\":[{\"type\":\"mesh3d\",\"colorbar\":{\"outlinewidth\":0,\"ticks\":\"\"}}],\"scatter\":[{\"marker\":{\"line\":{\"color\":\"#283442\"}},\"type\":\"scatter\"}],\"parcoords\":[{\"type\":\"parcoords\",\"line\":{\"colorbar\":{\"outlinewidth\":0,\"ticks\":\"\"}}}],\"scatterpolargl\":[{\"type\":\"scatterpolargl\",\"marker\":{\"colorbar\":{\"outlinewidth\":0,\"ticks\":\"\"}}}],\"bar\":[{\"error_x\":{\"color\":\"#f2f5fa\"},\"error_y\":{\"color\":\"#f2f5fa\"},\"marker\":{\"line\":{\"color\":\"rgb(17,17,17)\",\"width\":0.5},\"pattern\":{\"fillmode\":\"overlay\",\"size\":10,\"solidity\":0.2}},\"type\":\"bar\"}],\"scattergeo\":[{\"type\":\"scattergeo\",\"marker\":{\"colorbar\":{\"outlinewidth\":0,\"ticks\":\"\"}}}],\"scatterpolar\":[{\"type\":\"scatterpolar\",\"marker\":{\"colorbar\":{\"outlinewidth\":0,\"ticks\":\"\"}}}],\"histogram\":[{\"marker\":{\"pattern\":{\"fillmode\":\"overlay\",\"size\":10,\"solidity\":0.2}},\"type\":\"histogram\"}],\"scattergl\":[{\"marker\":{\"line\":{\"color\":\"#283442\"}},\"type\":\"scattergl\"}],\"scatter3d\":[{\"type\":\"scatter3d\",\"line\":{\"colorbar\":{\"outlinewidth\":0,\"ticks\":\"\"}},\"marker\":{\"colorbar\":{\"outlinewidth\":0,\"ticks\":\"\"}}}],\"scattermapbox\":[{\"type\":\"scattermapbox\",\"marker\":{\"colorbar\":{\"outlinewidth\":0,\"ticks\":\"\"}}}],\"scatterternary\":[{\"type\":\"scatterternary\",\"marker\":{\"colorbar\":{\"outlinewidth\":0,\"ticks\":\"\"}}}],\"scattercarpet\":[{\"type\":\"scattercarpet\",\"marker\":{\"colorbar\":{\"outlinewidth\":0,\"ticks\":\"\"}}}],\"carpet\":[{\"aaxis\":{\"endlinecolor\":\"#A2B1C6\",\"gridcolor\":\"#506784\",\"linecolor\":\"#506784\",\"minorgridcolor\":\"#506784\",\"startlinecolor\":\"#A2B1C6\"},\"baxis\":{\"endlinecolor\":\"#A2B1C6\",\"gridcolor\":\"#506784\",\"linecolor\":\"#506784\",\"minorgridcolor\":\"#506784\",\"startlinecolor\":\"#A2B1C6\"},\"type\":\"carpet\"}],\"table\":[{\"cells\":{\"fill\":{\"color\":\"#506784\"},\"line\":{\"color\":\"rgb(17,17,17)\"}},\"header\":{\"fill\":{\"color\":\"#2a3f5f\"},\"line\":{\"color\":\"rgb(17,17,17)\"}},\"type\":\"table\"}],\"barpolar\":[{\"marker\":{\"line\":{\"color\":\"rgb(17,17,17)\",\"width\":0.5},\"pattern\":{\"fillmode\":\"overlay\",\"size\":10,\"solidity\":0.2}},\"type\":\"barpolar\"}],\"pie\":[{\"automargin\":true,\"type\":\"pie\"}]},\"layout\":{\"autotypenumbers\":\"strict\",\"colorway\":[\"#636efa\",\"#EF553B\",\"#00cc96\",\"#ab63fa\",\"#FFA15A\",\"#19d3f3\",\"#FF6692\",\"#B6E880\",\"#FF97FF\",\"#FECB52\"],\"font\":{\"color\":\"#f2f5fa\"},\"hovermode\":\"closest\",\"hoverlabel\":{\"align\":\"left\"},\"paper_bgcolor\":\"rgb(17,17,17)\",\"plot_bgcolor\":\"rgb(17,17,17)\",\"polar\":{\"bgcolor\":\"rgb(17,17,17)\",\"angularaxis\":{\"gridcolor\":\"#506784\",\"linecolor\":\"#506784\",\"ticks\":\"\"},\"radialaxis\":{\"gridcolor\":\"#506784\",\"linecolor\":\"#506784\",\"ticks\":\"\"}},\"ternary\":{\"bgcolor\":\"rgb(17,17,17)\",\"aaxis\":{\"gridcolor\":\"#506784\",\"linecolor\":\"#506784\",\"ticks\":\"\"},\"baxis\":{\"gridcolor\":\"#506784\",\"linecolor\":\"#506784\",\"ticks\":\"\"},\"caxis\":{\"gridcolor\":\"#506784\",\"linecolor\":\"#506784\",\"ticks\":\"\"}},\"coloraxis\":{\"colorbar\":{\"outlinewidth\":0,\"ticks\":\"\"}},\"colorscale\":{\"sequential\":[[0.0,\"#0d0887\"],[0.1111111111111111,\"#46039f\"],[0.2222222222222222,\"#7201a8\"],[0.3333333333333333,\"#9c179e\"],[0.4444444444444444,\"#bd3786\"],[0.5555555555555556,\"#d8576b\"],[0.6666666666666666,\"#ed7953\"],[0.7777777777777778,\"#fb9f3a\"],[0.8888888888888888,\"#fdca26\"],[1.0,\"#f0f921\"]],\"sequentialminus\":[[0.0,\"#0d0887\"],[0.1111111111111111,\"#46039f\"],[0.2222222222222222,\"#7201a8\"],[0.3333333333333333,\"#9c179e\"],[0.4444444444444444,\"#bd3786\"],[0.5555555555555556,\"#d8576b\"],[0.6666666666666666,\"#ed7953\"],[0.7777777777777778,\"#fb9f3a\"],[0.8888888888888888,\"#fdca26\"],[1.0,\"#f0f921\"]],\"diverging\":[[0,\"#8e0152\"],[0.1,\"#c51b7d\"],[0.2,\"#de77ae\"],[0.3,\"#f1b6da\"],[0.4,\"#fde0ef\"],[0.5,\"#f7f7f7\"],[0.6,\"#e6f5d0\"],[0.7,\"#b8e186\"],[0.8,\"#7fbc41\"],[0.9,\"#4d9221\"],[1,\"#276419\"]]},\"xaxis\":{\"gridcolor\":\"#283442\",\"linecolor\":\"#506784\",\"ticks\":\"\",\"title\":{\"standoff\":15},\"zerolinecolor\":\"#283442\",\"automargin\":true,\"zerolinewidth\":2},\"yaxis\":{\"gridcolor\":\"#283442\",\"linecolor\":\"#506784\",\"ticks\":\"\",\"title\":{\"standoff\":15},\"zerolinecolor\":\"#283442\",\"automargin\":true,\"zerolinewidth\":2},\"scene\":{\"xaxis\":{\"backgroundcolor\":\"rgb(17,17,17)\",\"gridcolor\":\"#506784\",\"linecolor\":\"#506784\",\"showbackground\":true,\"ticks\":\"\",\"zerolinecolor\":\"#C8D4E3\",\"gridwidth\":2},\"yaxis\":{\"backgroundcolor\":\"rgb(17,17,17)\",\"gridcolor\":\"#506784\",\"linecolor\":\"#506784\",\"showbackground\":true,\"ticks\":\"\",\"zerolinecolor\":\"#C8D4E3\",\"gridwidth\":2},\"zaxis\":{\"backgroundcolor\":\"rgb(17,17,17)\",\"gridcolor\":\"#506784\",\"linecolor\":\"#506784\",\"showbackground\":true,\"ticks\":\"\",\"zerolinecolor\":\"#C8D4E3\",\"gridwidth\":2}},\"shapedefaults\":{\"line\":{\"color\":\"#f2f5fa\"}},\"annotationdefaults\":{\"arrowcolor\":\"#f2f5fa\",\"arrowhead\":0,\"arrowwidth\":1},\"geo\":{\"bgcolor\":\"rgb(17,17,17)\",\"landcolor\":\"rgb(17,17,17)\",\"subunitcolor\":\"#506784\",\"showland\":true,\"showlakes\":true,\"lakecolor\":\"rgb(17,17,17)\"},\"title\":{\"x\":0.05},\"updatemenudefaults\":{\"bgcolor\":\"#506784\",\"borderwidth\":0},\"sliderdefaults\":{\"bgcolor\":\"#C8D4E3\",\"borderwidth\":1,\"bordercolor\":\"rgb(17,17,17)\",\"tickwidth\":0},\"mapbox\":{\"style\":\"dark\"}}},\"xaxis\":{\"range\":[-0.5,15.5]},\"yaxis\":{\"scaleanchor\":\"x\",\"scaleratio\":1,\"range\":[-0.5,15.5]},\"updatemenus\":[{\"buttons\":[{\"args\":[null,{\"frame\":{\"duration\":100,\"redraw\":true},\"fromcurrent\":true}],\"label\":\"Play\",\"method\":\"animate\"}],\"direction\":\"left\",\"pad\":{\"r\":10,\"t\":87},\"showactive\":false,\"type\":\"buttons\",\"x\":0.1,\"xanchor\":\"right\",\"y\":0,\"yanchor\":\"top\"}],\"sliders\":[{\"active\":0,\"currentvalue\":{\"font\":{\"size\":20},\"prefix\":\"Frame:\",\"visible\":true,\"xanchor\":\"right\"},\"len\":0.9,\"pad\":{\"b\":10,\"t\":50},\"steps\":[{\"args\":[[\"0\"],{\"frame\":{\"duration\":100,\"redraw\":true},\"mode\":\"immediate\",\"transition\":{\"duration\":500}}],\"label\":\"0\",\"method\":\"animate\"},{\"args\":[[\"50\"],{\"frame\":{\"duration\":100,\"redraw\":true},\"mode\":\"immediate\",\"transition\":{\"duration\":500}}],\"label\":\"50\",\"method\":\"animate\"},{\"args\":[[\"100\"],{\"frame\":{\"duration\":100,\"redraw\":true},\"mode\":\"immediate\",\"transition\":{\"duration\":500}}],\"label\":\"100\",\"method\":\"animate\"},{\"args\":[[\"150\"],{\"frame\":{\"duration\":100,\"redraw\":true},\"mode\":\"immediate\",\"transition\":{\"duration\":500}}],\"label\":\"150\",\"method\":\"animate\"},{\"args\":[[\"200\"],{\"frame\":{\"duration\":100,\"redraw\":true},\"mode\":\"immediate\",\"transition\":{\"duration\":500}}],\"label\":\"200\",\"method\":\"animate\"},{\"args\":[[\"250\"],{\"frame\":{\"duration\":100,\"redraw\":true},\"mode\":\"immediate\",\"transition\":{\"duration\":500}}],\"label\":\"250\",\"method\":\"animate\"},{\"args\":[[\"300\"],{\"frame\":{\"duration\":100,\"redraw\":true},\"mode\":\"immediate\",\"transition\":{\"duration\":500}}],\"label\":\"300\",\"method\":\"animate\"},{\"args\":[[\"350\"],{\"frame\":{\"duration\":100,\"redraw\":true},\"mode\":\"immediate\",\"transition\":{\"duration\":500}}],\"label\":\"350\",\"method\":\"animate\"},{\"args\":[[\"400\"],{\"frame\":{\"duration\":100,\"redraw\":true},\"mode\":\"immediate\",\"transition\":{\"duration\":500}}],\"label\":\"400\",\"method\":\"animate\"},{\"args\":[[\"450\"],{\"frame\":{\"duration\":100,\"redraw\":true},\"mode\":\"immediate\",\"transition\":{\"duration\":500}}],\"label\":\"450\",\"method\":\"animate\"},{\"args\":[[\"500\"],{\"frame\":{\"duration\":100,\"redraw\":true},\"mode\":\"immediate\",\"transition\":{\"duration\":500}}],\"label\":\"500\",\"method\":\"animate\"},{\"args\":[[\"550\"],{\"frame\":{\"duration\":100,\"redraw\":true},\"mode\":\"immediate\",\"transition\":{\"duration\":500}}],\"label\":\"550\",\"method\":\"animate\"},{\"args\":[[\"600\"],{\"frame\":{\"duration\":100,\"redraw\":true},\"mode\":\"immediate\",\"transition\":{\"duration\":500}}],\"label\":\"600\",\"method\":\"animate\"},{\"args\":[[\"650\"],{\"frame\":{\"duration\":100,\"redraw\":true},\"mode\":\"immediate\",\"transition\":{\"duration\":500}}],\"label\":\"650\",\"method\":\"animate\"},{\"args\":[[\"700\"],{\"frame\":{\"duration\":100,\"redraw\":true},\"mode\":\"immediate\",\"transition\":{\"duration\":500}}],\"label\":\"700\",\"method\":\"animate\"},{\"args\":[[\"750\"],{\"frame\":{\"duration\":100,\"redraw\":true},\"mode\":\"immediate\",\"transition\":{\"duration\":500}}],\"label\":\"750\",\"method\":\"animate\"},{\"args\":[[\"800\"],{\"frame\":{\"duration\":100,\"redraw\":true},\"mode\":\"immediate\",\"transition\":{\"duration\":500}}],\"label\":\"800\",\"method\":\"animate\"}],\"transition\":{\"duration\":100,\"easing\":\"cubic-in-out\"},\"x\":0.1,\"xanchor\":\"left\",\"y\":0,\"yanchor\":\"top\"}],\"autosize\":false,\"width\":800,\"height\":800},                        {\"responsive\": true}                    ).then(function(){\n                            Plotly.addFrames('3bbb5fb6-7564-45f7-8149-23e88e85c2d7', [{\"data\":[{\"hoverinfo\":\"name\",\"line\":{\"color\":\"white\"},\"mode\":\"lines\",\"name\":\"Exterior\",\"showlegend\":false,\"x\":[10.1,10.1,15.0,15.0,13.6,13.6,15.0,15.0,13.6,13.6,15.0,15.0,10.1,10.1,9.9,9.9,5.1,5.1,4.9,4.9,0.0,0.0,1.5,1.5,0.0,0.0,1.5,1.5,0.0,0.0,4.9,4.9,5.1,5.1,9.9,9.9,10.1],\"y\":[1.5,0.0,0.0,4.9,4.9,5.1,5.1,9.9,9.9,10.1,10.1,15.0,15.0,13.6,13.6,15.0,15.0,13.6,13.6,15.0,15.0,10.1,10.1,9.9,9.9,5.1,5.1,4.9,4.9,0.0,0.0,1.5,1.5,0.0,0.0,1.5,1.5],\"type\":\"scatter\"},{\"hoverinfo\":\"name\",\"line\":{\"color\":\"white\"},\"mode\":\"lines\",\"name\":\"Obstacle\",\"showlegend\":false,\"x\":[10.1,11.5,11.5,10.1,10.1,9.9,9.9,8.6,8.6,9.9,9.9,10.1,10.1],\"y\":[5.1,5.1,4.9,4.9,3.6,3.6,4.9,4.9,5.1,5.1,6.5,6.5,5.1],\"type\":\"scatter\"},{\"hoverinfo\":\"name\",\"line\":{\"color\":\"white\"},\"mode\":\"lines\",\"name\":\"Obstacle\",\"showlegend\":false,\"x\":[10.1,11.5,11.5,10.1,10.1,9.9,9.9,8.6,8.6,9.9,9.9,10.1,10.1],\"y\":[10.1,10.1,9.9,9.9,8.6,8.6,9.9,9.9,10.1,10.1,11.5,11.5,10.1],\"type\":\"scatter\"},{\"hoverinfo\":\"name\",\"line\":{\"color\":\"white\"},\"mode\":\"lines\",\"name\":\"Obstacle\",\"showlegend\":false,\"x\":[5.1,6.4,6.4,5.1,5.1,4.9,4.9,3.6,3.6,4.9,4.9,5.1,5.1],\"y\":[5.1,5.1,4.9,4.9,3.6,3.6,4.9,4.9,5.1,5.1,6.5,6.5,5.1],\"type\":\"scatter\"},{\"hoverinfo\":\"name\",\"line\":{\"color\":\"white\"},\"mode\":\"lines\",\"name\":\"Obstacle\",\"showlegend\":false,\"x\":[5.1,6.4,6.4,5.1,5.1,4.9,4.9,3.6,3.6,4.9,4.9,5.1,5.1],\"y\":[10.1,10.1,9.9,9.9,8.6,8.6,9.9,9.9,10.1,10.1,11.5,11.5,10.1],\"type\":\"scatter\"},{\"fill\":\"toself\",\"fillcolor\":\"rgb(0, 0, 0)\",\"hoverinfo\":\"name\",\"line\":{\"width\":0},\"mode\":\"lines\",\"name\":\"Risk Area\",\"showlegend\":false,\"x\":[1.5,1.5,3.6,3.6,4.9,4.9,5.0,5.0,4.9,4.9,0.0,0.0,1.5],\"y\":[4.9,5.0,5.0,4.9,4.9,3.6,3.6,1.5,1.5,0.0,0.0,4.9,4.9],\"type\":\"scatter\"},{\"fill\":\"toself\",\"fillcolor\":\"rgb(153, 0, 0)\",\"hoverinfo\":\"name\",\"line\":{\"width\":0},\"mode\":\"lines\",\"name\":\"Risk Area\",\"showlegend\":false,\"x\":[9.9,9.9,5.1,5.1,5.0,5.0,5.1,5.1,6.4,6.4,8.6,8.6,9.9,9.9,10.0,10.0,9.9],\"y\":[1.5,0.0,0.0,1.5,1.5,3.6,3.6,4.9,4.9,5.0,5.0,4.9,4.9,3.6,3.6,1.5,1.5],\"type\":\"scatter\"},{\"fill\":\"toself\",\"fillcolor\":\"rgb(0, 0, 0)\",\"hoverinfo\":\"name\",\"line\":{\"width\":0},\"mode\":\"lines\",\"name\":\"Risk Area\",\"showlegend\":false,\"x\":[13.6,15.0,15.0,10.1,10.1,10.0,10.0,10.1,10.1,11.5,11.5,13.6,13.6],\"y\":[4.9,4.9,0.0,0.0,1.5,1.5,3.6,3.6,4.9,4.9,5.0,5.0,4.9],\"type\":\"scatter\"},{\"fill\":\"toself\",\"fillcolor\":\"rgb(153, 0, 0)\",\"hoverinfo\":\"name\",\"line\":{\"width\":0},\"mode\":\"lines\",\"name\":\"Risk Area\",\"showlegend\":false,\"x\":[13.6,15.0,15.0,13.6,13.6,11.5,11.5,10.1,10.1,10.0,10.0,10.1,10.1,11.5,11.5,13.6,13.6],\"y\":[9.9,9.9,5.1,5.1,5.0,5.0,5.1,5.1,6.5,6.5,8.6,8.6,9.9,9.9,10.0,10.0,9.9],\"type\":\"scatter\"},{\"fill\":\"toself\",\"fillcolor\":\"rgb(153, 0, 0)\",\"hoverinfo\":\"name\",\"line\":{\"width\":0},\"mode\":\"lines\",\"name\":\"Risk Area\",\"showlegend\":false,\"x\":[9.9,9.9,8.6,8.6,6.4,6.4,5.1,5.1,5.0,5.0,5.1,5.1,6.4,6.4,8.6,8.6,9.9,9.9,10.0,10.0,9.9],\"y\":[6.5,5.1,5.1,5.0,5.0,5.1,5.1,6.5,6.5,8.6,8.6,9.9,9.9,10.0,10.0,9.9,9.9,8.6,8.6,6.5,6.5],\"type\":\"scatter\"},{\"fill\":\"toself\",\"fillcolor\":\"rgb(25, 0, 0)\",\"hoverinfo\":\"name\",\"line\":{\"width\":0},\"mode\":\"lines\",\"name\":\"Risk Area\",\"showlegend\":false,\"x\":[4.9,4.9,3.6,3.6,1.5,1.5,0.0,0.0,1.5,1.5,3.6,3.6,4.9,4.9,5.0,5.0,4.9],\"y\":[6.5,5.1,5.1,5.0,5.0,5.1,5.1,9.9,9.9,10.0,10.0,9.9,9.9,8.6,8.6,6.5,6.5],\"type\":\"scatter\"},{\"fill\":\"toself\",\"fillcolor\":\"rgb(0, 0, 0)\",\"hoverinfo\":\"name\",\"line\":{\"width\":0},\"mode\":\"lines\",\"name\":\"Risk Area\",\"showlegend\":false,\"x\":[1.5,0.0,0.0,4.9,4.9,5.0,5.0,4.9,4.9,3.6,3.6,1.5,1.5],\"y\":[10.1,10.1,15.0,15.0,13.6,13.6,11.5,11.5,10.1,10.1,10.0,10.0,10.1],\"type\":\"scatter\"},{\"fill\":\"toself\",\"fillcolor\":\"rgb(0, 0, 0)\",\"hoverinfo\":\"name\",\"line\":{\"width\":0},\"mode\":\"lines\",\"name\":\"Risk Area\",\"showlegend\":false,\"x\":[6.4,5.1,5.1,5.0,5.0,5.1,5.1,9.9,9.9,10.0,10.0,9.9,9.9,8.6,8.6,6.4,6.4],\"y\":[10.1,10.1,11.5,11.5,13.6,13.6,15.0,15.0,13.6,13.6,11.5,11.5,10.1,10.1,10.0,10.0,10.1],\"type\":\"scatter\"},{\"fill\":\"toself\",\"fillcolor\":\"rgb(0, 0, 0)\",\"hoverinfo\":\"name\",\"line\":{\"width\":0},\"mode\":\"lines\",\"name\":\"Risk Area\",\"showlegend\":false,\"x\":[10.1,10.1,15.0,15.0,13.6,13.6,11.5,11.5,10.1,10.1,10.0,10.0,10.1],\"y\":[13.6,15.0,15.0,10.1,10.1,10.0,10.0,10.1,10.1,11.5,11.5,13.6,13.6],\"type\":\"scatter\"},{\"hoverinfo\":\"text\",\"marker\":{\"opacity\":1,\"size\":1},\"mode\":\"markers\",\"showlegend\":false,\"text\":[\"ID: 171, Pos(3.99,4.27)\"],\"x\":[3.9863327738146737],\"y\":[4.268834270066489],\"type\":\"scatter\"},{\"hoverinfo\":\"text\",\"marker\":{\"opacity\":1,\"size\":1},\"mode\":\"markers\",\"showlegend\":false,\"text\":[\"ID: 172, Pos(0.85,1.64)\"],\"x\":[0.8488279016949318],\"y\":[1.6370406488593048],\"type\":\"scatter\"},{\"hoverinfo\":\"text\",\"marker\":{\"opacity\":1,\"size\":1},\"mode\":\"markers\",\"showlegend\":false,\"text\":[\"ID: 173, Pos(1.73,1.60)\"],\"x\":[1.7258968673840784],\"y\":[1.5962220773638665],\"type\":\"scatter\"},{\"hoverinfo\":\"text\",\"marker\":{\"opacity\":1,\"size\":1},\"mode\":\"markers\",\"showlegend\":false,\"text\":[\"ID: 174, Pos(2.12,3.52)\"],\"x\":[2.116160882427272],\"y\":[3.5204353653542206],\"type\":\"scatter\"},{\"hoverinfo\":\"text\",\"marker\":{\"opacity\":1,\"size\":1},\"mode\":\"markers\",\"showlegend\":false,\"text\":[\"ID: 175, Pos(1.69,2.80)\"],\"x\":[1.692259232863783],\"y\":[2.7972929381969065],\"type\":\"scatter\"},{\"hoverinfo\":\"text\",\"marker\":{\"opacity\":1,\"size\":1},\"mode\":\"markers\",\"showlegend\":false,\"text\":[\"ID: 176, Pos(1.45,3.66)\"],\"x\":[1.453767774845684],\"y\":[3.6607508930614516],\"type\":\"scatter\"},{\"hoverinfo\":\"text\",\"marker\":{\"opacity\":1,\"size\":1},\"mode\":\"markers\",\"showlegend\":false,\"text\":[\"ID: 177, Pos(3.07,4.23)\"],\"x\":[3.0719865838614573],\"y\":[4.234745501580994],\"type\":\"scatter\"},{\"hoverinfo\":\"text\",\"marker\":{\"opacity\":1,\"size\":1},\"mode\":\"markers\",\"showlegend\":false,\"text\":[\"ID: 178, Pos(3.49,1.96)\"],\"x\":[3.48879726462054],\"y\":[1.9561046634672852],\"type\":\"scatter\"},{\"hoverinfo\":\"text\",\"marker\":{\"opacity\":1,\"size\":1},\"mode\":\"markers\",\"showlegend\":false,\"text\":[\"ID: 179, Pos(1.70,3.31)\"],\"x\":[1.7042831428492793],\"y\":[3.3139640340517103],\"type\":\"scatter\"},{\"hoverinfo\":\"text\",\"marker\":{\"opacity\":1,\"size\":1},\"mode\":\"markers\",\"showlegend\":false,\"text\":[\"ID: 180, Pos(1.76,2.25)\"],\"x\":[1.7565776142251517],\"y\":[2.253852105302265],\"type\":\"scatter\"}],\"layout\":{\"shapes\":[{\"fillcolor\":\"rgba(0, 0, 128, 0.5)\",\"line\":{\"color\":\"rgba(0, 0, 128, 0.5)\"},\"type\":\"circle\",\"x0\":3.7863327738146735,\"x1\":4.186332773814674,\"xref\":\"x\",\"y0\":4.068834270066489,\"y1\":4.468834270066489,\"yref\":\"y\"},{\"fillcolor\":\"rgba(48, 255, 199, 0.5)\",\"line\":{\"color\":\"rgba(48, 255, 199, 0.5)\"},\"type\":\"circle\",\"x0\":0.6488279016949319,\"x1\":1.0488279016949318,\"xref\":\"x\",\"y0\":1.4370406488593048,\"y1\":1.8370406488593047,\"yref\":\"y\"},{\"fillcolor\":\"rgba(0, 0, 128, 0.5)\",\"line\":{\"color\":\"rgba(0, 0, 128, 0.5)\"},\"type\":\"circle\",\"x0\":1.5258968673840785,\"x1\":1.9258968673840784,\"xref\":\"x\",\"y0\":1.3962220773638665,\"y1\":1.7962220773638664,\"yref\":\"y\"},{\"fillcolor\":\"rgba(0, 0, 128, 0.5)\",\"line\":{\"color\":\"rgba(0, 0, 128, 0.5)\"},\"type\":\"circle\",\"x0\":1.916160882427272,\"x1\":2.316160882427272,\"xref\":\"x\",\"y0\":3.3204353653542205,\"y1\":3.720435365354221,\"yref\":\"y\"},{\"fillcolor\":\"rgba(0, 0, 128, 0.5)\",\"line\":{\"color\":\"rgba(0, 0, 128, 0.5)\"},\"type\":\"circle\",\"x0\":1.4922592328637831,\"x1\":1.892259232863783,\"xref\":\"x\",\"y0\":2.5972929381969063,\"y1\":2.9972929381969067,\"yref\":\"y\"},{\"fillcolor\":\"rgba(0, 0, 246, 0.5)\",\"line\":{\"color\":\"rgba(0, 0, 246, 0.5)\"},\"type\":\"circle\",\"x0\":1.2537677748456841,\"x1\":1.653767774845684,\"xref\":\"x\",\"y0\":3.4607508930614514,\"y1\":3.860750893061452,\"yref\":\"y\"},{\"fillcolor\":\"rgba(0, 136, 255, 0.5)\",\"line\":{\"color\":\"rgba(0, 136, 255, 0.5)\"},\"type\":\"circle\",\"x0\":2.871986583861457,\"x1\":3.2719865838614575,\"xref\":\"x\",\"y0\":4.034745501580994,\"y1\":4.434745501580994,\"yref\":\"y\"},{\"fillcolor\":\"rgba(0, 0, 128, 0.5)\",\"line\":{\"color\":\"rgba(0, 0, 128, 0.5)\"},\"type\":\"circle\",\"x0\":3.28879726462054,\"x1\":3.6887972646205403,\"xref\":\"x\",\"y0\":1.7561046634672852,\"y1\":2.156104663467285,\"yref\":\"y\"},{\"fillcolor\":\"rgba(255, 152, 0, 0.5)\",\"line\":{\"color\":\"rgba(255, 152, 0, 0.5)\"},\"type\":\"circle\",\"x0\":1.5042831428492793,\"x1\":1.9042831428492792,\"xref\":\"x\",\"y0\":3.11396403405171,\"y1\":3.5139640340517104,\"yref\":\"y\"},{\"fillcolor\":\"rgba(0, 0, 128, 0.5)\",\"line\":{\"color\":\"rgba(0, 0, 128, 0.5)\"},\"type\":\"circle\",\"x0\":1.5565776142251517,\"x1\":1.9565776142251516,\"xref\":\"x\",\"y0\":2.0538521053022647,\"y1\":2.453852105302265,\"yref\":\"y\"},{\"line\":{\"color\":\"white\",\"width\":3},\"type\":\"line\",\"x0\":3.9863327738146737,\"x1\":3.9863327738146737,\"y0\":4.268834270066489,\"y1\":4.268834270066489},{\"line\":{\"color\":\"black\",\"width\":3},\"type\":\"line\",\"x0\":0.8488279016949318,\"x1\":0.8488279016949318,\"y0\":1.6370406488593048,\"y1\":1.6370406488593048},{\"line\":{\"color\":\"white\",\"width\":3},\"type\":\"line\",\"x0\":1.7258968673840784,\"x1\":1.7258968673840784,\"y0\":1.5962220773638665,\"y1\":1.5962220773638665},{\"line\":{\"color\":\"white\",\"width\":3},\"type\":\"line\",\"x0\":2.116160882427272,\"x1\":2.116160882427272,\"y0\":3.5204353653542206,\"y1\":3.5204353653542206},{\"line\":{\"color\":\"white\",\"width\":3},\"type\":\"line\",\"x0\":1.692259232863783,\"x1\":1.692259232863783,\"y0\":2.7972929381969065,\"y1\":2.7972929381969065},{\"line\":{\"color\":\"white\",\"width\":3},\"type\":\"line\",\"x0\":1.453767774845684,\"x1\":1.453767774845684,\"y0\":3.6607508930614516,\"y1\":3.6607508930614516},{\"line\":{\"color\":\"white\",\"width\":3},\"type\":\"line\",\"x0\":3.0719865838614573,\"x1\":3.0719865838614573,\"y0\":4.234745501580994,\"y1\":4.234745501580994},{\"line\":{\"color\":\"white\",\"width\":3},\"type\":\"line\",\"x0\":3.48879726462054,\"x1\":3.48879726462054,\"y0\":1.9561046634672852,\"y1\":1.9561046634672852},{\"line\":{\"color\":\"black\",\"width\":3},\"type\":\"line\",\"x0\":1.7042831428492793,\"x1\":1.7042831428492793,\"y0\":3.3139640340517103,\"y1\":3.3139640340517103},{\"line\":{\"color\":\"white\",\"width\":3},\"type\":\"line\",\"x0\":1.7565776142251517,\"x1\":1.7565776142251517,\"y0\":2.253852105302265,\"y1\":2.253852105302265}],\"title\":{\"text\":\"\\u003cb\\u003ePercentage using the shortest path: 0%  |  Number of Agents: 10\\u003c\\u002fb\\u003e\",\"x\":0.5}},\"name\":\"0\"},{\"data\":[{\"hoverinfo\":\"name\",\"line\":{\"color\":\"white\"},\"mode\":\"lines\",\"name\":\"Exterior\",\"showlegend\":false,\"x\":[10.1,10.1,15.0,15.0,13.6,13.6,15.0,15.0,13.6,13.6,15.0,15.0,10.1,10.1,9.9,9.9,5.1,5.1,4.9,4.9,0.0,0.0,1.5,1.5,0.0,0.0,1.5,1.5,0.0,0.0,4.9,4.9,5.1,5.1,9.9,9.9,10.1],\"y\":[1.5,0.0,0.0,4.9,4.9,5.1,5.1,9.9,9.9,10.1,10.1,15.0,15.0,13.6,13.6,15.0,15.0,13.6,13.6,15.0,15.0,10.1,10.1,9.9,9.9,5.1,5.1,4.9,4.9,0.0,0.0,1.5,1.5,0.0,0.0,1.5,1.5],\"type\":\"scatter\"},{\"hoverinfo\":\"name\",\"line\":{\"color\":\"white\"},\"mode\":\"lines\",\"name\":\"Obstacle\",\"showlegend\":false,\"x\":[10.1,11.5,11.5,10.1,10.1,9.9,9.9,8.6,8.6,9.9,9.9,10.1,10.1],\"y\":[5.1,5.1,4.9,4.9,3.6,3.6,4.9,4.9,5.1,5.1,6.5,6.5,5.1],\"type\":\"scatter\"},{\"hoverinfo\":\"name\",\"line\":{\"color\":\"white\"},\"mode\":\"lines\",\"name\":\"Obstacle\",\"showlegend\":false,\"x\":[10.1,11.5,11.5,10.1,10.1,9.9,9.9,8.6,8.6,9.9,9.9,10.1,10.1],\"y\":[10.1,10.1,9.9,9.9,8.6,8.6,9.9,9.9,10.1,10.1,11.5,11.5,10.1],\"type\":\"scatter\"},{\"hoverinfo\":\"name\",\"line\":{\"color\":\"white\"},\"mode\":\"lines\",\"name\":\"Obstacle\",\"showlegend\":false,\"x\":[5.1,6.4,6.4,5.1,5.1,4.9,4.9,3.6,3.6,4.9,4.9,5.1,5.1],\"y\":[5.1,5.1,4.9,4.9,3.6,3.6,4.9,4.9,5.1,5.1,6.5,6.5,5.1],\"type\":\"scatter\"},{\"hoverinfo\":\"name\",\"line\":{\"color\":\"white\"},\"mode\":\"lines\",\"name\":\"Obstacle\",\"showlegend\":false,\"x\":[5.1,6.4,6.4,5.1,5.1,4.9,4.9,3.6,3.6,4.9,4.9,5.1,5.1],\"y\":[10.1,10.1,9.9,9.9,8.6,8.6,9.9,9.9,10.1,10.1,11.5,11.5,10.1],\"type\":\"scatter\"},{\"fill\":\"toself\",\"fillcolor\":\"rgb(0, 0, 0)\",\"hoverinfo\":\"name\",\"line\":{\"width\":0},\"mode\":\"lines\",\"name\":\"Risk Area\",\"showlegend\":false,\"x\":[1.5,1.5,3.6,3.6,4.9,4.9,5.0,5.0,4.9,4.9,0.0,0.0,1.5],\"y\":[4.9,5.0,5.0,4.9,4.9,3.6,3.6,1.5,1.5,0.0,0.0,4.9,4.9],\"type\":\"scatter\"},{\"fill\":\"toself\",\"fillcolor\":\"rgb(178, 0, 0)\",\"hoverinfo\":\"name\",\"line\":{\"width\":0},\"mode\":\"lines\",\"name\":\"Risk Area\",\"showlegend\":false,\"x\":[9.9,9.9,5.1,5.1,5.0,5.0,5.1,5.1,6.4,6.4,8.6,8.6,9.9,9.9,10.0,10.0,9.9],\"y\":[1.5,0.0,0.0,1.5,1.5,3.6,3.6,4.9,4.9,5.0,5.0,4.9,4.9,3.6,3.6,1.5,1.5],\"type\":\"scatter\"},{\"fill\":\"toself\",\"fillcolor\":\"rgb(0, 0, 0)\",\"hoverinfo\":\"name\",\"line\":{\"width\":0},\"mode\":\"lines\",\"name\":\"Risk Area\",\"showlegend\":false,\"x\":[13.6,15.0,15.0,10.1,10.1,10.0,10.0,10.1,10.1,11.5,11.5,13.6,13.6],\"y\":[4.9,4.9,0.0,0.0,1.5,1.5,3.6,3.6,4.9,4.9,5.0,5.0,4.9],\"type\":\"scatter\"},{\"fill\":\"toself\",\"fillcolor\":\"rgb(153, 0, 0)\",\"hoverinfo\":\"name\",\"line\":{\"width\":0},\"mode\":\"lines\",\"name\":\"Risk Area\",\"showlegend\":false,\"x\":[13.6,15.0,15.0,13.6,13.6,11.5,11.5,10.1,10.1,10.0,10.0,10.1,10.1,11.5,11.5,13.6,13.6],\"y\":[9.9,9.9,5.1,5.1,5.0,5.0,5.1,5.1,6.5,6.5,8.6,8.6,9.9,9.9,10.0,10.0,9.9],\"type\":\"scatter\"},{\"fill\":\"toself\",\"fillcolor\":\"rgb(204, 0, 0)\",\"hoverinfo\":\"name\",\"line\":{\"width\":0},\"mode\":\"lines\",\"name\":\"Risk Area\",\"showlegend\":false,\"x\":[9.9,9.9,8.6,8.6,6.4,6.4,5.1,5.1,5.0,5.0,5.1,5.1,6.4,6.4,8.6,8.6,9.9,9.9,10.0,10.0,9.9],\"y\":[6.5,5.1,5.1,5.0,5.0,5.1,5.1,6.5,6.5,8.6,8.6,9.9,9.9,10.0,10.0,9.9,9.9,8.6,8.6,6.5,6.5],\"type\":\"scatter\"},{\"fill\":\"toself\",\"fillcolor\":\"rgb(25, 0, 0)\",\"hoverinfo\":\"name\",\"line\":{\"width\":0},\"mode\":\"lines\",\"name\":\"Risk Area\",\"showlegend\":false,\"x\":[4.9,4.9,3.6,3.6,1.5,1.5,0.0,0.0,1.5,1.5,3.6,3.6,4.9,4.9,5.0,5.0,4.9],\"y\":[6.5,5.1,5.1,5.0,5.0,5.1,5.1,9.9,9.9,10.0,10.0,9.9,9.9,8.6,8.6,6.5,6.5],\"type\":\"scatter\"},{\"fill\":\"toself\",\"fillcolor\":\"rgb(0, 0, 0)\",\"hoverinfo\":\"name\",\"line\":{\"width\":0},\"mode\":\"lines\",\"name\":\"Risk Area\",\"showlegend\":false,\"x\":[1.5,0.0,0.0,4.9,4.9,5.0,5.0,4.9,4.9,3.6,3.6,1.5,1.5],\"y\":[10.1,10.1,15.0,15.0,13.6,13.6,11.5,11.5,10.1,10.1,10.0,10.0,10.1],\"type\":\"scatter\"},{\"fill\":\"toself\",\"fillcolor\":\"rgb(0, 0, 0)\",\"hoverinfo\":\"name\",\"line\":{\"width\":0},\"mode\":\"lines\",\"name\":\"Risk Area\",\"showlegend\":false,\"x\":[6.4,5.1,5.1,5.0,5.0,5.1,5.1,9.9,9.9,10.0,10.0,9.9,9.9,8.6,8.6,6.4,6.4],\"y\":[10.1,10.1,11.5,11.5,13.6,13.6,15.0,15.0,13.6,13.6,11.5,11.5,10.1,10.1,10.0,10.0,10.1],\"type\":\"scatter\"},{\"fill\":\"toself\",\"fillcolor\":\"rgb(0, 0, 0)\",\"hoverinfo\":\"name\",\"line\":{\"width\":0},\"mode\":\"lines\",\"name\":\"Risk Area\",\"showlegend\":false,\"x\":[10.1,10.1,15.0,15.0,13.6,13.6,11.5,11.5,10.1,10.1,10.0,10.0,10.1],\"y\":[13.6,15.0,15.0,10.1,10.1,10.0,10.0,10.1,10.1,11.5,11.5,13.6,13.6],\"type\":\"scatter\"},{\"hoverinfo\":\"text\",\"marker\":{\"opacity\":1,\"size\":1},\"mode\":\"markers\",\"showlegend\":false,\"text\":[\"ID: 171, Pos(3.62,4.57)\"],\"x\":[3.624663867004494],\"y\":[4.572942041072394],\"type\":\"scatter\"},{\"hoverinfo\":\"text\",\"marker\":{\"opacity\":1,\"size\":1},\"mode\":\"markers\",\"showlegend\":false,\"text\":[\"ID: 172, Pos(1.37,2.85)\"],\"x\":[1.3726374518931295],\"y\":[2.8458001230525047],\"type\":\"scatter\"},{\"hoverinfo\":\"text\",\"marker\":{\"opacity\":1,\"size\":1},\"mode\":\"markers\",\"showlegend\":false,\"text\":[\"ID: 173, Pos(2.15,1.87)\"],\"x\":[2.1468923029348774],\"y\":[1.868570495335488],\"type\":\"scatter\"},{\"hoverinfo\":\"text\",\"marker\":{\"opacity\":1,\"size\":1},\"mode\":\"markers\",\"showlegend\":false,\"text\":[\"ID: 174, Pos(2.57,4.71)\"],\"x\":[2.5685625821921643],\"y\":[4.709391544762826],\"type\":\"scatter\"},{\"hoverinfo\":\"text\",\"marker\":{\"opacity\":1,\"size\":1},\"mode\":\"markers\",\"showlegend\":false,\"text\":[\"ID: 175, Pos(2.14,3.19)\"],\"x\":[2.135724068214924],\"y\":[3.1861311292691084],\"type\":\"scatter\"},{\"hoverinfo\":\"text\",\"marker\":{\"opacity\":1,\"size\":1},\"mode\":\"markers\",\"showlegend\":false,\"text\":[\"ID: 176, Pos(1.96,5.04)\"],\"x\":[1.960579232601007],\"y\":[5.040717503395859],\"type\":\"scatter\"},{\"hoverinfo\":\"text\",\"marker\":{\"opacity\":1,\"size\":1},\"mode\":\"markers\",\"showlegend\":false,\"text\":[\"ID: 177, Pos(3.03,5.28)\"],\"x\":[3.034440411887453],\"y\":[5.278552531984465],\"type\":\"scatter\"},{\"hoverinfo\":\"text\",\"marker\":{\"opacity\":1,\"size\":1},\"mode\":\"markers\",\"showlegend\":false,\"text\":[\"ID: 178, Pos(3.59,3.17)\"],\"x\":[3.5916390920039114],\"y\":[3.1733961277269316],\"type\":\"scatter\"},{\"hoverinfo\":\"text\",\"marker\":{\"opacity\":1,\"size\":1},\"mode\":\"markers\",\"showlegend\":false,\"text\":[\"ID: 179, Pos(1.89,3.98)\"],\"x\":[1.887176775050277],\"y\":[3.9845793231642537],\"type\":\"scatter\"},{\"hoverinfo\":\"text\",\"marker\":{\"opacity\":1,\"size\":1},\"mode\":\"markers\",\"showlegend\":false,\"text\":[\"ID: 180, Pos(2.19,2.50)\"],\"x\":[2.1870682441532456],\"y\":[2.495098850517011],\"type\":\"scatter\"}],\"layout\":{\"shapes\":[{\"fillcolor\":\"rgba(0, 156, 255, 0.5)\",\"line\":{\"color\":\"rgba(0, 156, 255, 0.5)\"},\"type\":\"circle\",\"x0\":3.4246638670044938,\"x1\":3.824663867004494,\"xref\":\"x\",\"y0\":4.372942041072394,\"y1\":4.772942041072394,\"yref\":\"y\"},{\"fillcolor\":\"rgba(0, 0, 128, 0.5)\",\"line\":{\"color\":\"rgba(0, 0, 128, 0.5)\"},\"type\":\"circle\",\"x0\":1.1726374518931295,\"x1\":1.5726374518931294,\"xref\":\"x\",\"y0\":2.6458001230525046,\"y1\":3.045800123052505,\"yref\":\"y\"},{\"fillcolor\":\"rgba(255, 104, 0, 0.5)\",\"line\":{\"color\":\"rgba(255, 104, 0, 0.5)\"},\"type\":\"circle\",\"x0\":1.9468923029348775,\"x1\":2.3468923029348776,\"xref\":\"x\",\"y0\":1.668570495335488,\"y1\":2.068570495335488,\"yref\":\"y\"},{\"fillcolor\":\"rgba(0, 0, 128, 0.5)\",\"line\":{\"color\":\"rgba(0, 0, 128, 0.5)\"},\"type\":\"circle\",\"x0\":2.368562582192164,\"x1\":2.7685625821921644,\"xref\":\"x\",\"y0\":4.509391544762826,\"y1\":4.909391544762826,\"yref\":\"y\"},{\"fillcolor\":\"rgba(131, 255, 115, 0.5)\",\"line\":{\"color\":\"rgba(131, 255, 115, 0.5)\"},\"type\":\"circle\",\"x0\":1.9357240682149242,\"x1\":2.3357240682149243,\"xref\":\"x\",\"y0\":2.986131129269108,\"y1\":3.3861311292691085,\"yref\":\"y\"},{\"fillcolor\":\"rgba(0, 0, 128, 0.5)\",\"line\":{\"color\":\"rgba(0, 0, 128, 0.5)\"},\"type\":\"circle\",\"x0\":1.760579232601007,\"x1\":2.160579232601007,\"xref\":\"x\",\"y0\":4.840717503395859,\"y1\":5.240717503395859,\"yref\":\"y\"},{\"fillcolor\":\"rgba(0, 0, 128, 0.5)\",\"line\":{\"color\":\"rgba(0, 0, 128, 0.5)\"},\"type\":\"circle\",\"x0\":2.834440411887453,\"x1\":3.2344404118874532,\"xref\":\"x\",\"y0\":5.078552531984465,\"y1\":5.478552531984465,\"yref\":\"y\"},{\"fillcolor\":\"rgba(0, 0, 128, 0.5)\",\"line\":{\"color\":\"rgba(0, 0, 128, 0.5)\"},\"type\":\"circle\",\"x0\":3.3916390920039112,\"x1\":3.7916390920039116,\"xref\":\"x\",\"y0\":2.9733961277269314,\"y1\":3.3733961277269318,\"yref\":\"y\"},{\"fillcolor\":\"rgba(0, 72, 255, 0.5)\",\"line\":{\"color\":\"rgba(0, 72, 255, 0.5)\"},\"type\":\"circle\",\"x0\":1.687176775050277,\"x1\":2.087176775050277,\"xref\":\"x\",\"y0\":3.7845793231642535,\"y1\":4.184579323164254,\"yref\":\"y\"},{\"fillcolor\":\"rgba(255, 189, 0, 0.5)\",\"line\":{\"color\":\"rgba(255, 189, 0, 0.5)\"},\"type\":\"circle\",\"x0\":1.9870682441532457,\"x1\":2.387068244153246,\"xref\":\"x\",\"y0\":2.295098850517011,\"y1\":2.6950988505170113,\"yref\":\"y\"},{\"line\":{\"color\":\"white\",\"width\":3},\"type\":\"line\",\"x0\":3.624663867004494,\"x1\":3.424974445443303,\"y0\":4.572942041072394,\"y1\":4.584083626083376},{\"line\":{\"color\":\"white\",\"width\":3},\"type\":\"line\",\"x0\":1.3726374518931295,\"x1\":1.4105350643284174,\"y0\":2.8458001230525047,\"y1\":3.0421767280025462},{\"line\":{\"color\":\"black\",\"width\":3},\"type\":\"line\",\"x0\":2.1468923029348774,\"x1\":2.1594252159539273,\"y0\":1.868570495335488,\"y1\":2.068177424301536},{\"line\":{\"color\":\"white\",\"width\":3},\"type\":\"line\",\"x0\":2.5685625821921643,\"x1\":2.578214239732299,\"y0\":4.709391544762826,\"y1\":4.909158522781537},{\"line\":{\"color\":\"black\",\"width\":3},\"type\":\"line\",\"x0\":2.135724068214924,\"x1\":2.1558988958439422,\"y0\":3.1861311292691084,\"y1\":3.3851109682733136},{\"line\":{\"color\":\"white\",\"width\":3},\"type\":\"line\",\"x0\":1.960579232601007,\"x1\":1.9910900807831045,\"y0\":5.040717503395859,\"y1\":5.238376523284173},{\"line\":{\"color\":\"white\",\"width\":3},\"type\":\"line\",\"x0\":3.034440411887453,\"x1\":2.9992777218855466,\"y0\":5.278552531984465,\"y1\":5.475437232334263},{\"line\":{\"color\":\"white\",\"width\":3},\"type\":\"line\",\"x0\":3.5916390920039114,\"x1\":3.542722206616879,\"y0\":3.1733961277269316,\"y1\":3.3673217276977243},{\"line\":{\"color\":\"white\",\"width\":3},\"type\":\"line\",\"x0\":1.887176775050277,\"x1\":1.91789447937893,\"y0\":3.9845793231642537,\"y1\":4.182206301688891},{\"line\":{\"color\":\"black\",\"width\":3},\"type\":\"line\",\"x0\":2.1870682441532456,\"x1\":2.2064155038077296,\"y0\":2.495098850517011,\"y1\":2.694160859810251}],\"title\":{\"text\":\"\\u003cb\\u003ePercentage using the shortest path: 0%  |  Number of Agents: 10\\u003c\\u002fb\\u003e\",\"x\":0.5}},\"name\":\"50\"},{\"data\":[{\"hoverinfo\":\"name\",\"line\":{\"color\":\"white\"},\"mode\":\"lines\",\"name\":\"Exterior\",\"showlegend\":false,\"x\":[10.1,10.1,15.0,15.0,13.6,13.6,15.0,15.0,13.6,13.6,15.0,15.0,10.1,10.1,9.9,9.9,5.1,5.1,4.9,4.9,0.0,0.0,1.5,1.5,0.0,0.0,1.5,1.5,0.0,0.0,4.9,4.9,5.1,5.1,9.9,9.9,10.1],\"y\":[1.5,0.0,0.0,4.9,4.9,5.1,5.1,9.9,9.9,10.1,10.1,15.0,15.0,13.6,13.6,15.0,15.0,13.6,13.6,15.0,15.0,10.1,10.1,9.9,9.9,5.1,5.1,4.9,4.9,0.0,0.0,1.5,1.5,0.0,0.0,1.5,1.5],\"type\":\"scatter\"},{\"hoverinfo\":\"name\",\"line\":{\"color\":\"white\"},\"mode\":\"lines\",\"name\":\"Obstacle\",\"showlegend\":false,\"x\":[10.1,11.5,11.5,10.1,10.1,9.9,9.9,8.6,8.6,9.9,9.9,10.1,10.1],\"y\":[5.1,5.1,4.9,4.9,3.6,3.6,4.9,4.9,5.1,5.1,6.5,6.5,5.1],\"type\":\"scatter\"},{\"hoverinfo\":\"name\",\"line\":{\"color\":\"white\"},\"mode\":\"lines\",\"name\":\"Obstacle\",\"showlegend\":false,\"x\":[10.1,11.5,11.5,10.1,10.1,9.9,9.9,8.6,8.6,9.9,9.9,10.1,10.1],\"y\":[10.1,10.1,9.9,9.9,8.6,8.6,9.9,9.9,10.1,10.1,11.5,11.5,10.1],\"type\":\"scatter\"},{\"hoverinfo\":\"name\",\"line\":{\"color\":\"white\"},\"mode\":\"lines\",\"name\":\"Obstacle\",\"showlegend\":false,\"x\":[5.1,6.4,6.4,5.1,5.1,4.9,4.9,3.6,3.6,4.9,4.9,5.1,5.1],\"y\":[5.1,5.1,4.9,4.9,3.6,3.6,4.9,4.9,5.1,5.1,6.5,6.5,5.1],\"type\":\"scatter\"},{\"hoverinfo\":\"name\",\"line\":{\"color\":\"white\"},\"mode\":\"lines\",\"name\":\"Obstacle\",\"showlegend\":false,\"x\":[5.1,6.4,6.4,5.1,5.1,4.9,4.9,3.6,3.6,4.9,4.9,5.1,5.1],\"y\":[10.1,10.1,9.9,9.9,8.6,8.6,9.9,9.9,10.1,10.1,11.5,11.5,10.1],\"type\":\"scatter\"},{\"fill\":\"toself\",\"fillcolor\":\"rgb(0, 0, 0)\",\"hoverinfo\":\"name\",\"line\":{\"width\":0},\"mode\":\"lines\",\"name\":\"Risk Area\",\"showlegend\":false,\"x\":[1.5,1.5,3.6,3.6,4.9,4.9,5.0,5.0,4.9,4.9,0.0,0.0,1.5],\"y\":[4.9,5.0,5.0,4.9,4.9,3.6,3.6,1.5,1.5,0.0,0.0,4.9,4.9],\"type\":\"scatter\"},{\"fill\":\"toself\",\"fillcolor\":\"rgb(178, 0, 0)\",\"hoverinfo\":\"name\",\"line\":{\"width\":0},\"mode\":\"lines\",\"name\":\"Risk Area\",\"showlegend\":false,\"x\":[9.9,9.9,5.1,5.1,5.0,5.0,5.1,5.1,6.4,6.4,8.6,8.6,9.9,9.9,10.0,10.0,9.9],\"y\":[1.5,0.0,0.0,1.5,1.5,3.6,3.6,4.9,4.9,5.0,5.0,4.9,4.9,3.6,3.6,1.5,1.5],\"type\":\"scatter\"},{\"fill\":\"toself\",\"fillcolor\":\"rgb(0, 0, 0)\",\"hoverinfo\":\"name\",\"line\":{\"width\":0},\"mode\":\"lines\",\"name\":\"Risk Area\",\"showlegend\":false,\"x\":[13.6,15.0,15.0,10.1,10.1,10.0,10.0,10.1,10.1,11.5,11.5,13.6,13.6],\"y\":[4.9,4.9,0.0,0.0,1.5,1.5,3.6,3.6,4.9,4.9,5.0,5.0,4.9],\"type\":\"scatter\"},{\"fill\":\"toself\",\"fillcolor\":\"rgb(153, 0, 0)\",\"hoverinfo\":\"name\",\"line\":{\"width\":0},\"mode\":\"lines\",\"name\":\"Risk Area\",\"showlegend\":false,\"x\":[13.6,15.0,15.0,13.6,13.6,11.5,11.5,10.1,10.1,10.0,10.0,10.1,10.1,11.5,11.5,13.6,13.6],\"y\":[9.9,9.9,5.1,5.1,5.0,5.0,5.1,5.1,6.5,6.5,8.6,8.6,9.9,9.9,10.0,10.0,9.9],\"type\":\"scatter\"},{\"fill\":\"toself\",\"fillcolor\":\"rgb(204, 0, 0)\",\"hoverinfo\":\"name\",\"line\":{\"width\":0},\"mode\":\"lines\",\"name\":\"Risk Area\",\"showlegend\":false,\"x\":[9.9,9.9,8.6,8.6,6.4,6.4,5.1,5.1,5.0,5.0,5.1,5.1,6.4,6.4,8.6,8.6,9.9,9.9,10.0,10.0,9.9],\"y\":[6.5,5.1,5.1,5.0,5.0,5.1,5.1,6.5,6.5,8.6,8.6,9.9,9.9,10.0,10.0,9.9,9.9,8.6,8.6,6.5,6.5],\"type\":\"scatter\"},{\"fill\":\"toself\",\"fillcolor\":\"rgb(25, 0, 0)\",\"hoverinfo\":\"name\",\"line\":{\"width\":0},\"mode\":\"lines\",\"name\":\"Risk Area\",\"showlegend\":false,\"x\":[4.9,4.9,3.6,3.6,1.5,1.5,0.0,0.0,1.5,1.5,3.6,3.6,4.9,4.9,5.0,5.0,4.9],\"y\":[6.5,5.1,5.1,5.0,5.0,5.1,5.1,9.9,9.9,10.0,10.0,9.9,9.9,8.6,8.6,6.5,6.5],\"type\":\"scatter\"},{\"fill\":\"toself\",\"fillcolor\":\"rgb(0, 0, 0)\",\"hoverinfo\":\"name\",\"line\":{\"width\":0},\"mode\":\"lines\",\"name\":\"Risk Area\",\"showlegend\":false,\"x\":[1.5,0.0,0.0,4.9,4.9,5.0,5.0,4.9,4.9,3.6,3.6,1.5,1.5],\"y\":[10.1,10.1,15.0,15.0,13.6,13.6,11.5,11.5,10.1,10.1,10.0,10.0,10.1],\"type\":\"scatter\"},{\"fill\":\"toself\",\"fillcolor\":\"rgb(0, 0, 0)\",\"hoverinfo\":\"name\",\"line\":{\"width\":0},\"mode\":\"lines\",\"name\":\"Risk Area\",\"showlegend\":false,\"x\":[6.4,5.1,5.1,5.0,5.0,5.1,5.1,9.9,9.9,10.0,10.0,9.9,9.9,8.6,8.6,6.4,6.4],\"y\":[10.1,10.1,11.5,11.5,13.6,13.6,15.0,15.0,13.6,13.6,11.5,11.5,10.1,10.1,10.0,10.0,10.1],\"type\":\"scatter\"},{\"fill\":\"toself\",\"fillcolor\":\"rgb(0, 0, 0)\",\"hoverinfo\":\"name\",\"line\":{\"width\":0},\"mode\":\"lines\",\"name\":\"Risk Area\",\"showlegend\":false,\"x\":[10.1,10.1,15.0,15.0,13.6,13.6,11.5,11.5,10.1,10.1,10.0,10.0,10.1],\"y\":[13.6,15.0,15.0,10.1,10.1,10.0,10.0,10.1,10.1,11.5,11.5,13.6,13.6],\"type\":\"scatter\"},{\"hoverinfo\":\"text\",\"marker\":{\"opacity\":1,\"size\":1},\"mode\":\"markers\",\"showlegend\":false,\"text\":[\"ID: 171, Pos(3.09,5.19)\"],\"x\":[3.0930498955625776],\"y\":[5.1944170742963705],\"type\":\"scatter\"},{\"hoverinfo\":\"text\",\"marker\":{\"opacity\":1,\"size\":1},\"mode\":\"markers\",\"showlegend\":false,\"text\":[\"ID: 172, Pos(1.61,4.37)\"],\"x\":[1.6132424839892938],\"y\":[4.371182705373676],\"type\":\"scatter\"},{\"hoverinfo\":\"text\",\"marker\":{\"opacity\":1,\"size\":1},\"mode\":\"markers\",\"showlegend\":false,\"text\":[\"ID: 173, Pos(2.19,2.52)\"],\"x\":[2.187512791784387],\"y\":[2.524341332818206],\"type\":\"scatter\"},{\"hoverinfo\":\"text\",\"marker\":{\"opacity\":1,\"size\":1},\"mode\":\"markers\",\"showlegend\":false,\"text\":[\"ID: 174, Pos(2.75,5.95)\"],\"x\":[2.7511061464809003],\"y\":[5.950517914265674],\"type\":\"scatter\"},{\"hoverinfo\":\"text\",\"marker\":{\"opacity\":1,\"size\":1},\"mode\":\"markers\",\"showlegend\":false,\"text\":[\"ID: 175, Pos(2.32,4.34)\"],\"x\":[2.324197644594571],\"y\":[4.342374545810683],\"type\":\"scatter\"},{\"hoverinfo\":\"text\",\"marker\":{\"opacity\":1,\"size\":1},\"mode\":\"markers\",\"showlegend\":false,\"text\":[\"ID: 176, Pos(2.51,6.41)\"],\"x\":[2.505724223363731],\"y\":[6.408981289038088],\"type\":\"scatter\"},{\"hoverinfo\":\"text\",\"marker\":{\"opacity\":1,\"size\":1},\"mode\":\"markers\",\"showlegend\":false,\"text\":[\"ID: 177, Pos(3.65,6.30)\"],\"x\":[3.6506442897543576],\"y\":[6.304863083789267],\"type\":\"scatter\"},{\"hoverinfo\":\"text\",\"marker\":{\"opacity\":1,\"size\":1},\"mode\":\"markers\",\"showlegend\":false,\"text\":[\"ID: 178, Pos(3.30,4.35)\"],\"x\":[3.296641779912512],\"y\":[4.347902513523779],\"type\":\"scatter\"},{\"hoverinfo\":\"text\",\"marker\":{\"opacity\":1,\"size\":1},\"mode\":\"markers\",\"showlegend\":false,\"text\":[\"ID: 179, Pos(2.10,5.39)\"],\"x\":[2.1048525664578177],\"y\":[5.38585597160029],\"type\":\"scatter\"},{\"hoverinfo\":\"text\",\"marker\":{\"opacity\":1,\"size\":1},\"mode\":\"markers\",\"showlegend\":false,\"text\":[\"ID: 180, Pos(2.25,3.37)\"],\"x\":[2.248019098995477],\"y\":[3.3728362929137616],\"type\":\"scatter\"}],\"layout\":{\"shapes\":[{\"fillcolor\":\"rgba(141, 255, 106, 0.5)\",\"line\":{\"color\":\"rgba(141, 255, 106, 0.5)\"},\"type\":\"circle\",\"x0\":2.8930498955625774,\"x1\":3.2930498955625778,\"xref\":\"x\",\"y0\":4.99441707429637,\"y1\":5.394417074296371,\"yref\":\"y\"},{\"fillcolor\":\"rgba(0, 0, 241, 0.5)\",\"line\":{\"color\":\"rgba(0, 0, 241, 0.5)\"},\"type\":\"circle\",\"x0\":1.4132424839892939,\"x1\":1.8132424839892938,\"xref\":\"x\",\"y0\":4.171182705373676,\"y1\":4.571182705373676,\"yref\":\"y\"},{\"fillcolor\":\"rgba(112, 255, 135, 0.5)\",\"line\":{\"color\":\"rgba(112, 255, 135, 0.5)\"},\"type\":\"circle\",\"x0\":1.987512791784387,\"x1\":2.387512791784387,\"xref\":\"x\",\"y0\":2.324341332818206,\"y1\":2.7243413328182062,\"yref\":\"y\"},{\"fillcolor\":\"rgba(0, 0, 255, 0.5)\",\"line\":{\"color\":\"rgba(0, 0, 255, 0.5)\"},\"type\":\"circle\",\"x0\":2.5511061464809,\"x1\":2.9511061464809005,\"xref\":\"x\",\"y0\":5.750517914265674,\"y1\":6.1505179142656745,\"yref\":\"y\"},{\"fillcolor\":\"rgba(0, 61, 255, 0.5)\",\"line\":{\"color\":\"rgba(0, 61, 255, 0.5)\"},\"type\":\"circle\",\"x0\":2.1241976445945707,\"x1\":2.524197644594571,\"xref\":\"x\",\"y0\":4.142374545810683,\"y1\":4.5423745458106835,\"yref\":\"y\"},{\"fillcolor\":\"rgba(0, 0, 128, 0.5)\",\"line\":{\"color\":\"rgba(0, 0, 128, 0.5)\"},\"type\":\"circle\",\"x0\":2.3057242233637307,\"x1\":2.705724223363731,\"xref\":\"x\",\"y0\":6.208981289038088,\"y1\":6.608981289038089,\"yref\":\"y\"},{\"fillcolor\":\"rgba(0, 0, 128, 0.5)\",\"line\":{\"color\":\"rgba(0, 0, 128, 0.5)\"},\"type\":\"circle\",\"x0\":3.4506442897543574,\"x1\":3.850644289754358,\"xref\":\"x\",\"y0\":6.104863083789267,\"y1\":6.504863083789267,\"yref\":\"y\"},{\"fillcolor\":\"rgba(90, 255, 157, 0.5)\",\"line\":{\"color\":\"rgba(90, 255, 157, 0.5)\"},\"type\":\"circle\",\"x0\":3.096641779912512,\"x1\":3.4966417799125122,\"xref\":\"x\",\"y0\":4.147902513523779,\"y1\":4.54790251352378,\"yref\":\"y\"},{\"fillcolor\":\"rgba(0, 16, 255, 0.5)\",\"line\":{\"color\":\"rgba(0, 16, 255, 0.5)\"},\"type\":\"circle\",\"x0\":1.9048525664578178,\"x1\":2.304852566457818,\"xref\":\"x\",\"y0\":5.18585597160029,\"y1\":5.5858559716002905,\"yref\":\"y\"},{\"fillcolor\":\"rgba(0, 196, 255, 0.5)\",\"line\":{\"color\":\"rgba(0, 196, 255, 0.5)\"},\"type\":\"circle\",\"x0\":2.0480190989954767,\"x1\":2.448019098995477,\"xref\":\"x\",\"y0\":3.1728362929137615,\"y1\":3.572836292913762,\"yref\":\"y\"},{\"line\":{\"color\":\"black\",\"width\":3},\"type\":\"line\",\"x0\":3.0930498955625776,\"x1\":3.042090798624277,\"y0\":5.1944170742963705,\"y1\":5.387816067156295},{\"line\":{\"color\":\"white\",\"width\":3},\"type\":\"line\",\"x0\":1.6132424839892938,\"x1\":1.645817145001457,\"y0\":4.371182705373676,\"y1\":4.568512103740829},{\"line\":{\"color\":\"black\",\"width\":3},\"type\":\"line\",\"x0\":2.187512791784387,\"x1\":2.199998032971993,\"y0\":2.524341332818206,\"y1\":2.72395124928652},{\"line\":{\"color\":\"white\",\"width\":3},\"type\":\"line\",\"x0\":2.7511061464809003,\"x1\":2.8544024340767034,\"y0\":5.950517914265674,\"y1\":6.121777591273793},{\"line\":{\"color\":\"white\",\"width\":3},\"type\":\"line\",\"x0\":2.324197644594571,\"x1\":2.3564454225569156,\"y0\":4.342374545810683,\"y1\":4.5397576271943},{\"line\":{\"color\":\"white\",\"width\":3},\"type\":\"line\",\"x0\":2.505724223363731,\"x1\":2.6171914912857175,\"y0\":6.408981289038088,\"y1\":6.575038653168704},{\"line\":{\"color\":\"white\",\"width\":3},\"type\":\"line\",\"x0\":3.6506442897543576,\"x1\":3.8413026364150187,\"y0\":6.304863083789267,\"y1\":6.365273305181208},{\"line\":{\"color\":\"black\",\"width\":3},\"type\":\"line\",\"x0\":3.296641779912512,\"x1\":3.2489750084285296,\"y0\":4.347902513523779,\"y1\":4.542139170456228},{\"line\":{\"color\":\"white\",\"width\":3},\"type\":\"line\",\"x0\":2.1048525664578177,\"x1\":2.13692137924613,\"y0\":5.38585597160029,\"y1\":5.583268208420474},{\"line\":{\"color\":\"black\",\"width\":3},\"type\":\"line\",\"x0\":2.248019098995477,\"x1\":2.260346038946906,\"y0\":3.3728362929137616,\"y1\":3.57245604782653}],\"title\":{\"text\":\"\\u003cb\\u003ePercentage using the shortest path: 0%  |  Number of Agents: 10\\u003c\\u002fb\\u003e\",\"x\":0.5}},\"name\":\"100\"},{\"data\":[{\"hoverinfo\":\"name\",\"line\":{\"color\":\"white\"},\"mode\":\"lines\",\"name\":\"Exterior\",\"showlegend\":false,\"x\":[10.1,10.1,15.0,15.0,13.6,13.6,15.0,15.0,13.6,13.6,15.0,15.0,10.1,10.1,9.9,9.9,5.1,5.1,4.9,4.9,0.0,0.0,1.5,1.5,0.0,0.0,1.5,1.5,0.0,0.0,4.9,4.9,5.1,5.1,9.9,9.9,10.1],\"y\":[1.5,0.0,0.0,4.9,4.9,5.1,5.1,9.9,9.9,10.1,10.1,15.0,15.0,13.6,13.6,15.0,15.0,13.6,13.6,15.0,15.0,10.1,10.1,9.9,9.9,5.1,5.1,4.9,4.9,0.0,0.0,1.5,1.5,0.0,0.0,1.5,1.5],\"type\":\"scatter\"},{\"hoverinfo\":\"name\",\"line\":{\"color\":\"white\"},\"mode\":\"lines\",\"name\":\"Obstacle\",\"showlegend\":false,\"x\":[10.1,11.5,11.5,10.1,10.1,9.9,9.9,8.6,8.6,9.9,9.9,10.1,10.1],\"y\":[5.1,5.1,4.9,4.9,3.6,3.6,4.9,4.9,5.1,5.1,6.5,6.5,5.1],\"type\":\"scatter\"},{\"hoverinfo\":\"name\",\"line\":{\"color\":\"white\"},\"mode\":\"lines\",\"name\":\"Obstacle\",\"showlegend\":false,\"x\":[10.1,11.5,11.5,10.1,10.1,9.9,9.9,8.6,8.6,9.9,9.9,10.1,10.1],\"y\":[10.1,10.1,9.9,9.9,8.6,8.6,9.9,9.9,10.1,10.1,11.5,11.5,10.1],\"type\":\"scatter\"},{\"hoverinfo\":\"name\",\"line\":{\"color\":\"white\"},\"mode\":\"lines\",\"name\":\"Obstacle\",\"showlegend\":false,\"x\":[5.1,6.4,6.4,5.1,5.1,4.9,4.9,3.6,3.6,4.9,4.9,5.1,5.1],\"y\":[5.1,5.1,4.9,4.9,3.6,3.6,4.9,4.9,5.1,5.1,6.5,6.5,5.1],\"type\":\"scatter\"},{\"hoverinfo\":\"name\",\"line\":{\"color\":\"white\"},\"mode\":\"lines\",\"name\":\"Obstacle\",\"showlegend\":false,\"x\":[5.1,6.4,6.4,5.1,5.1,4.9,4.9,3.6,3.6,4.9,4.9,5.1,5.1],\"y\":[10.1,10.1,9.9,9.9,8.6,8.6,9.9,9.9,10.1,10.1,11.5,11.5,10.1],\"type\":\"scatter\"},{\"fill\":\"toself\",\"fillcolor\":\"rgb(0, 0, 0)\",\"hoverinfo\":\"name\",\"line\":{\"width\":0},\"mode\":\"lines\",\"name\":\"Risk Area\",\"showlegend\":false,\"x\":[1.5,1.5,3.6,3.6,4.9,4.9,5.0,5.0,4.9,4.9,0.0,0.0,1.5],\"y\":[4.9,5.0,5.0,4.9,4.9,3.6,3.6,1.5,1.5,0.0,0.0,4.9,4.9],\"type\":\"scatter\"},{\"fill\":\"toself\",\"fillcolor\":\"rgb(178, 0, 0)\",\"hoverinfo\":\"name\",\"line\":{\"width\":0},\"mode\":\"lines\",\"name\":\"Risk Area\",\"showlegend\":false,\"x\":[9.9,9.9,5.1,5.1,5.0,5.0,5.1,5.1,6.4,6.4,8.6,8.6,9.9,9.9,10.0,10.0,9.9],\"y\":[1.5,0.0,0.0,1.5,1.5,3.6,3.6,4.9,4.9,5.0,5.0,4.9,4.9,3.6,3.6,1.5,1.5],\"type\":\"scatter\"},{\"fill\":\"toself\",\"fillcolor\":\"rgb(0, 0, 0)\",\"hoverinfo\":\"name\",\"line\":{\"width\":0},\"mode\":\"lines\",\"name\":\"Risk Area\",\"showlegend\":false,\"x\":[13.6,15.0,15.0,10.1,10.1,10.0,10.0,10.1,10.1,11.5,11.5,13.6,13.6],\"y\":[4.9,4.9,0.0,0.0,1.5,1.5,3.6,3.6,4.9,4.9,5.0,5.0,4.9],\"type\":\"scatter\"},{\"fill\":\"toself\",\"fillcolor\":\"rgb(153, 0, 0)\",\"hoverinfo\":\"name\",\"line\":{\"width\":0},\"mode\":\"lines\",\"name\":\"Risk Area\",\"showlegend\":false,\"x\":[13.6,15.0,15.0,13.6,13.6,11.5,11.5,10.1,10.1,10.0,10.0,10.1,10.1,11.5,11.5,13.6,13.6],\"y\":[9.9,9.9,5.1,5.1,5.0,5.0,5.1,5.1,6.5,6.5,8.6,8.6,9.9,9.9,10.0,10.0,9.9],\"type\":\"scatter\"},{\"fill\":\"toself\",\"fillcolor\":\"rgb(204, 0, 0)\",\"hoverinfo\":\"name\",\"line\":{\"width\":0},\"mode\":\"lines\",\"name\":\"Risk Area\",\"showlegend\":false,\"x\":[9.9,9.9,8.6,8.6,6.4,6.4,5.1,5.1,5.0,5.0,5.1,5.1,6.4,6.4,8.6,8.6,9.9,9.9,10.0,10.0,9.9],\"y\":[6.5,5.1,5.1,5.0,5.0,5.1,5.1,6.5,6.5,8.6,8.6,9.9,9.9,10.0,10.0,9.9,9.9,8.6,8.6,6.5,6.5],\"type\":\"scatter\"},{\"fill\":\"toself\",\"fillcolor\":\"rgb(25, 0, 0)\",\"hoverinfo\":\"name\",\"line\":{\"width\":0},\"mode\":\"lines\",\"name\":\"Risk Area\",\"showlegend\":false,\"x\":[4.9,4.9,3.6,3.6,1.5,1.5,0.0,0.0,1.5,1.5,3.6,3.6,4.9,4.9,5.0,5.0,4.9],\"y\":[6.5,5.1,5.1,5.0,5.0,5.1,5.1,9.9,9.9,10.0,10.0,9.9,9.9,8.6,8.6,6.5,6.5],\"type\":\"scatter\"},{\"fill\":\"toself\",\"fillcolor\":\"rgb(0, 0, 0)\",\"hoverinfo\":\"name\",\"line\":{\"width\":0},\"mode\":\"lines\",\"name\":\"Risk Area\",\"showlegend\":false,\"x\":[1.5,0.0,0.0,4.9,4.9,5.0,5.0,4.9,4.9,3.6,3.6,1.5,1.5],\"y\":[10.1,10.1,15.0,15.0,13.6,13.6,11.5,11.5,10.1,10.1,10.0,10.0,10.1],\"type\":\"scatter\"},{\"fill\":\"toself\",\"fillcolor\":\"rgb(0, 0, 0)\",\"hoverinfo\":\"name\",\"line\":{\"width\":0},\"mode\":\"lines\",\"name\":\"Risk Area\",\"showlegend\":false,\"x\":[6.4,5.1,5.1,5.0,5.0,5.1,5.1,9.9,9.9,10.0,10.0,9.9,9.9,8.6,8.6,6.4,6.4],\"y\":[10.1,10.1,11.5,11.5,13.6,13.6,15.0,15.0,13.6,13.6,11.5,11.5,10.1,10.1,10.0,10.0,10.1],\"type\":\"scatter\"},{\"fill\":\"toself\",\"fillcolor\":\"rgb(0, 0, 0)\",\"hoverinfo\":\"name\",\"line\":{\"width\":0},\"mode\":\"lines\",\"name\":\"Risk Area\",\"showlegend\":false,\"x\":[10.1,10.1,15.0,15.0,13.6,13.6,11.5,11.5,10.1,10.1,10.0,10.0,10.1],\"y\":[13.6,15.0,15.0,10.1,10.1,10.0,10.0,10.1,10.1,11.5,11.5,13.6,13.6],\"type\":\"scatter\"},{\"hoverinfo\":\"text\",\"marker\":{\"opacity\":1,\"size\":1},\"mode\":\"markers\",\"showlegend\":false,\"text\":[\"ID: 171, Pos(3.19,6.11)\"],\"x\":[3.189070042263967],\"y\":[6.110187873663138],\"type\":\"scatter\"},{\"hoverinfo\":\"text\",\"marker\":{\"opacity\":1,\"size\":1},\"mode\":\"markers\",\"showlegend\":false,\"text\":[\"ID: 172, Pos(1.94,5.82)\"],\"x\":[1.9402561616530356],\"y\":[5.816705278142739],\"type\":\"scatter\"},{\"hoverinfo\":\"text\",\"marker\":{\"opacity\":1,\"size\":1},\"mode\":\"markers\",\"showlegend\":false,\"text\":[\"ID: 173, Pos(2.25,3.58)\"],\"x\":[2.254011058789444],\"y\":[3.5845268555672702],\"type\":\"scatter\"},{\"hoverinfo\":\"text\",\"marker\":{\"opacity\":1,\"size\":1},\"mode\":\"markers\",\"showlegend\":false,\"text\":[\"ID: 174, Pos(4.09,6.34)\"],\"x\":[4.087433167194759],\"y\":[6.33549347298958],\"type\":\"scatter\"},{\"hoverinfo\":\"text\",\"marker\":{\"opacity\":1,\"size\":1},\"mode\":\"markers\",\"showlegend\":false,\"text\":[\"ID: 175, Pos(2.51,5.54)\"],\"x\":[2.512264533551085],\"y\":[5.544723323146758],\"type\":\"scatter\"},{\"hoverinfo\":\"text\",\"marker\":{\"opacity\":1,\"size\":1},\"mode\":\"markers\",\"showlegend\":false,\"text\":[\"ID: 176, Pos(3.93,7.01)\"],\"x\":[3.9251143821906234],\"y\":[7.014969990028248],\"type\":\"scatter\"},{\"hoverinfo\":\"text\",\"marker\":{\"opacity\":1,\"size\":1},\"mode\":\"markers\",\"showlegend\":false,\"text\":[\"ID: 177, Pos(5.06,6.97)\"],\"x\":[5.064832387554964],\"y\":[6.967940157984842],\"type\":\"scatter\"},{\"hoverinfo\":\"text\",\"marker\":{\"opacity\":1,\"size\":1},\"mode\":\"markers\",\"showlegend\":false,\"text\":[\"ID: 178, Pos(3.11,5.28)\"],\"x\":[3.1107071720913986],\"y\":[5.281850039784984],\"type\":\"scatter\"},{\"hoverinfo\":\"text\",\"marker\":{\"opacity\":1,\"size\":1},\"mode\":\"markers\",\"showlegend\":false,\"text\":[\"ID: 179, Pos(2.82,6.59)\"],\"x\":[2.823020167807354],\"y\":[6.592652690795309],\"type\":\"scatter\"},{\"hoverinfo\":\"text\",\"marker\":{\"opacity\":1,\"size\":1},\"mode\":\"markers\",\"showlegend\":false,\"text\":[\"ID: 180, Pos(2.32,4.55)\"],\"x\":[2.318880817540021],\"y\":[4.549654883133761],\"type\":\"scatter\"}],\"layout\":{\"shapes\":[{\"fillcolor\":\"rgba(60, 255, 186, 0.5)\",\"line\":{\"color\":\"rgba(60, 255, 186, 0.5)\"},\"type\":\"circle\",\"x0\":2.989070042263967,\"x1\":3.3890700422639672,\"xref\":\"x\",\"y0\":5.910187873663138,\"y1\":6.310187873663138,\"yref\":\"y\"},{\"fillcolor\":\"rgba(0, 0, 132, 0.5)\",\"line\":{\"color\":\"rgba(0, 0, 132, 0.5)\"},\"type\":\"circle\",\"x0\":1.7402561616530356,\"x1\":2.140256161653036,\"xref\":\"x\",\"y0\":5.616705278142739,\"y1\":6.016705278142739,\"yref\":\"y\"},{\"fillcolor\":\"rgba(0, 204, 255, 0.5)\",\"line\":{\"color\":\"rgba(0, 204, 255, 0.5)\"},\"type\":\"circle\",\"x0\":2.054011058789444,\"x1\":2.4540110587894444,\"xref\":\"x\",\"y0\":3.38452685556727,\"y1\":3.7845268555672704,\"yref\":\"y\"},{\"fillcolor\":\"rgba(144, 255, 102, 0.5)\",\"line\":{\"color\":\"rgba(144, 255, 102, 0.5)\"},\"type\":\"circle\",\"x0\":3.887433167194759,\"x1\":4.287433167194759,\"xref\":\"x\",\"y0\":6.13549347298958,\"y1\":6.535493472989581,\"yref\":\"y\"},{\"fillcolor\":\"rgba(0, 13, 255, 0.5)\",\"line\":{\"color\":\"rgba(0, 13, 255, 0.5)\"},\"type\":\"circle\",\"x0\":2.312264533551085,\"x1\":2.7122645335510853,\"xref\":\"x\",\"y0\":5.3447233231467575,\"y1\":5.744723323146758,\"yref\":\"y\"},{\"fillcolor\":\"rgba(2, 232, 244, 0.5)\",\"line\":{\"color\":\"rgba(2, 232, 244, 0.5)\"},\"type\":\"circle\",\"x0\":3.725114382190623,\"x1\":4.125114382190623,\"xref\":\"x\",\"y0\":6.814969990028247,\"y1\":7.214969990028248,\"yref\":\"y\"},{\"fillcolor\":\"rgba(44, 255, 202, 0.5)\",\"line\":{\"color\":\"rgba(44, 255, 202, 0.5)\"},\"type\":\"circle\",\"x0\":4.864832387554964,\"x1\":5.264832387554964,\"xref\":\"x\",\"y0\":6.7679401579848415,\"y1\":7.167940157984842,\"yref\":\"y\"},{\"fillcolor\":\"rgba(93, 255, 154, 0.5)\",\"line\":{\"color\":\"rgba(93, 255, 154, 0.5)\"},\"type\":\"circle\",\"x0\":2.9107071720913984,\"x1\":3.3107071720913988,\"xref\":\"x\",\"y0\":5.0818500397849835,\"y1\":5.481850039784984,\"yref\":\"y\"},{\"fillcolor\":\"rgba(0, 53, 255, 0.5)\",\"line\":{\"color\":\"rgba(0, 53, 255, 0.5)\"},\"type\":\"circle\",\"x0\":2.6230201678073537,\"x1\":3.023020167807354,\"xref\":\"x\",\"y0\":6.392652690795309,\"y1\":6.792652690795309,\"yref\":\"y\"},{\"fillcolor\":\"rgba(0, 136, 255, 0.5)\",\"line\":{\"color\":\"rgba(0, 136, 255, 0.5)\"},\"type\":\"circle\",\"x0\":2.118880817540021,\"x1\":2.5188808175400212,\"xref\":\"x\",\"y0\":4.349654883133761,\"y1\":4.749654883133761,\"yref\":\"y\"},{\"line\":{\"color\":\"black\",\"width\":3},\"type\":\"line\",\"x0\":3.189070042263967,\"x1\":3.388344383592977,\"y0\":6.110187873663138,\"y1\":6.127209533038455},{\"line\":{\"color\":\"white\",\"width\":3},\"type\":\"line\",\"x0\":1.9402561616530356,\"x1\":1.9563273228746036,\"y0\":5.816705278142739,\"y1\":6.016058526867184},{\"line\":{\"color\":\"black\",\"width\":3},\"type\":\"line\",\"x0\":2.254011058789444,\"x1\":2.266543271835937,\"y0\":3.5845268555672702,\"y1\":3.7841338284819392},{\"line\":{\"color\":\"black\",\"width\":3},\"type\":\"line\",\"x0\":4.087433167194759,\"x1\":4.278850468040508,\"y0\":6.33549347298958,\"y1\":6.393453950359321},{\"line\":{\"color\":\"white\",\"width\":3},\"type\":\"line\",\"x0\":2.512264533551085,\"x1\":2.515635411467262,\"y0\":5.544723323146758,\"y1\":5.744694914084256},{\"line\":{\"color\":\"black\",\"width\":3},\"type\":\"line\",\"x0\":3.9251143821906234,\"x1\":4.117987565490642,\"y0\":7.014969990028248,\"y1\":7.06788440360071},{\"line\":{\"color\":\"black\",\"width\":3},\"type\":\"line\",\"x0\":5.064832387554964,\"x1\":5.257360108273728,\"y0\":6.967940157984842,\"y1\":7.02209804526673},{\"line\":{\"color\":\"black\",\"width\":3},\"type\":\"line\",\"x0\":3.1107071720913986,\"x1\":3.0892470282674362,\"y0\":5.281850039784984,\"y1\":5.480695362151528},{\"line\":{\"color\":\"white\",\"width\":3},\"type\":\"line\",\"x0\":2.823020167807354,\"x1\":2.994718876482206,\"y0\":6.592652690795309,\"y1\":6.6952175650914745},{\"line\":{\"color\":\"white\",\"width\":3},\"type\":\"line\",\"x0\":2.318880817540021,\"x1\":2.3306192914404122,\"y0\":4.549654883133761,\"y1\":4.749310106532724}],\"title\":{\"text\":\"\\u003cb\\u003ePercentage using the shortest path: 0%  |  Number of Agents: 10\\u003c\\u002fb\\u003e\",\"x\":0.5}},\"name\":\"150\"},{\"data\":[{\"hoverinfo\":\"name\",\"line\":{\"color\":\"white\"},\"mode\":\"lines\",\"name\":\"Exterior\",\"showlegend\":false,\"x\":[10.1,10.1,15.0,15.0,13.6,13.6,15.0,15.0,13.6,13.6,15.0,15.0,10.1,10.1,9.9,9.9,5.1,5.1,4.9,4.9,0.0,0.0,1.5,1.5,0.0,0.0,1.5,1.5,0.0,0.0,4.9,4.9,5.1,5.1,9.9,9.9,10.1],\"y\":[1.5,0.0,0.0,4.9,4.9,5.1,5.1,9.9,9.9,10.1,10.1,15.0,15.0,13.6,13.6,15.0,15.0,13.6,13.6,15.0,15.0,10.1,10.1,9.9,9.9,5.1,5.1,4.9,4.9,0.0,0.0,1.5,1.5,0.0,0.0,1.5,1.5],\"type\":\"scatter\"},{\"hoverinfo\":\"name\",\"line\":{\"color\":\"white\"},\"mode\":\"lines\",\"name\":\"Obstacle\",\"showlegend\":false,\"x\":[10.1,11.5,11.5,10.1,10.1,9.9,9.9,8.6,8.6,9.9,9.9,10.1,10.1],\"y\":[5.1,5.1,4.9,4.9,3.6,3.6,4.9,4.9,5.1,5.1,6.5,6.5,5.1],\"type\":\"scatter\"},{\"hoverinfo\":\"name\",\"line\":{\"color\":\"white\"},\"mode\":\"lines\",\"name\":\"Obstacle\",\"showlegend\":false,\"x\":[10.1,11.5,11.5,10.1,10.1,9.9,9.9,8.6,8.6,9.9,9.9,10.1,10.1],\"y\":[10.1,10.1,9.9,9.9,8.6,8.6,9.9,9.9,10.1,10.1,11.5,11.5,10.1],\"type\":\"scatter\"},{\"hoverinfo\":\"name\",\"line\":{\"color\":\"white\"},\"mode\":\"lines\",\"name\":\"Obstacle\",\"showlegend\":false,\"x\":[5.1,6.4,6.4,5.1,5.1,4.9,4.9,3.6,3.6,4.9,4.9,5.1,5.1],\"y\":[5.1,5.1,4.9,4.9,3.6,3.6,4.9,4.9,5.1,5.1,6.5,6.5,5.1],\"type\":\"scatter\"},{\"hoverinfo\":\"name\",\"line\":{\"color\":\"white\"},\"mode\":\"lines\",\"name\":\"Obstacle\",\"showlegend\":false,\"x\":[5.1,6.4,6.4,5.1,5.1,4.9,4.9,3.6,3.6,4.9,4.9,5.1,5.1],\"y\":[10.1,10.1,9.9,9.9,8.6,8.6,9.9,9.9,10.1,10.1,11.5,11.5,10.1],\"type\":\"scatter\"},{\"fill\":\"toself\",\"fillcolor\":\"rgb(0, 0, 0)\",\"hoverinfo\":\"name\",\"line\":{\"width\":0},\"mode\":\"lines\",\"name\":\"Risk Area\",\"showlegend\":false,\"x\":[1.5,1.5,3.6,3.6,4.9,4.9,5.0,5.0,4.9,4.9,0.0,0.0,1.5],\"y\":[4.9,5.0,5.0,4.9,4.9,3.6,3.6,1.5,1.5,0.0,0.0,4.9,4.9],\"type\":\"scatter\"},{\"fill\":\"toself\",\"fillcolor\":\"rgb(178, 0, 0)\",\"hoverinfo\":\"name\",\"line\":{\"width\":0},\"mode\":\"lines\",\"name\":\"Risk Area\",\"showlegend\":false,\"x\":[9.9,9.9,5.1,5.1,5.0,5.0,5.1,5.1,6.4,6.4,8.6,8.6,9.9,9.9,10.0,10.0,9.9],\"y\":[1.5,0.0,0.0,1.5,1.5,3.6,3.6,4.9,4.9,5.0,5.0,4.9,4.9,3.6,3.6,1.5,1.5],\"type\":\"scatter\"},{\"fill\":\"toself\",\"fillcolor\":\"rgb(0, 0, 0)\",\"hoverinfo\":\"name\",\"line\":{\"width\":0},\"mode\":\"lines\",\"name\":\"Risk Area\",\"showlegend\":false,\"x\":[13.6,15.0,15.0,10.1,10.1,10.0,10.0,10.1,10.1,11.5,11.5,13.6,13.6],\"y\":[4.9,4.9,0.0,0.0,1.5,1.5,3.6,3.6,4.9,4.9,5.0,5.0,4.9],\"type\":\"scatter\"},{\"fill\":\"toself\",\"fillcolor\":\"rgb(153, 0, 0)\",\"hoverinfo\":\"name\",\"line\":{\"width\":0},\"mode\":\"lines\",\"name\":\"Risk Area\",\"showlegend\":false,\"x\":[13.6,15.0,15.0,13.6,13.6,11.5,11.5,10.1,10.1,10.0,10.0,10.1,10.1,11.5,11.5,13.6,13.6],\"y\":[9.9,9.9,5.1,5.1,5.0,5.0,5.1,5.1,6.5,6.5,8.6,8.6,9.9,9.9,10.0,10.0,9.9],\"type\":\"scatter\"},{\"fill\":\"toself\",\"fillcolor\":\"rgb(204, 0, 0)\",\"hoverinfo\":\"name\",\"line\":{\"width\":0},\"mode\":\"lines\",\"name\":\"Risk Area\",\"showlegend\":false,\"x\":[9.9,9.9,8.6,8.6,6.4,6.4,5.1,5.1,5.0,5.0,5.1,5.1,6.4,6.4,8.6,8.6,9.9,9.9,10.0,10.0,9.9],\"y\":[6.5,5.1,5.1,5.0,5.0,5.1,5.1,6.5,6.5,8.6,8.6,9.9,9.9,10.0,10.0,9.9,9.9,8.6,8.6,6.5,6.5],\"type\":\"scatter\"},{\"fill\":\"toself\",\"fillcolor\":\"rgb(25, 0, 0)\",\"hoverinfo\":\"name\",\"line\":{\"width\":0},\"mode\":\"lines\",\"name\":\"Risk Area\",\"showlegend\":false,\"x\":[4.9,4.9,3.6,3.6,1.5,1.5,0.0,0.0,1.5,1.5,3.6,3.6,4.9,4.9,5.0,5.0,4.9],\"y\":[6.5,5.1,5.1,5.0,5.0,5.1,5.1,9.9,9.9,10.0,10.0,9.9,9.9,8.6,8.6,6.5,6.5],\"type\":\"scatter\"},{\"fill\":\"toself\",\"fillcolor\":\"rgb(0, 0, 0)\",\"hoverinfo\":\"name\",\"line\":{\"width\":0},\"mode\":\"lines\",\"name\":\"Risk Area\",\"showlegend\":false,\"x\":[1.5,0.0,0.0,4.9,4.9,5.0,5.0,4.9,4.9,3.6,3.6,1.5,1.5],\"y\":[10.1,10.1,15.0,15.0,13.6,13.6,11.5,11.5,10.1,10.1,10.0,10.0,10.1],\"type\":\"scatter\"},{\"fill\":\"toself\",\"fillcolor\":\"rgb(0, 0, 0)\",\"hoverinfo\":\"name\",\"line\":{\"width\":0},\"mode\":\"lines\",\"name\":\"Risk Area\",\"showlegend\":false,\"x\":[6.4,5.1,5.1,5.0,5.0,5.1,5.1,9.9,9.9,10.0,10.0,9.9,9.9,8.6,8.6,6.4,6.4],\"y\":[10.1,10.1,11.5,11.5,13.6,13.6,15.0,15.0,13.6,13.6,11.5,11.5,10.1,10.1,10.0,10.0,10.1],\"type\":\"scatter\"},{\"fill\":\"toself\",\"fillcolor\":\"rgb(0, 0, 0)\",\"hoverinfo\":\"name\",\"line\":{\"width\":0},\"mode\":\"lines\",\"name\":\"Risk Area\",\"showlegend\":false,\"x\":[10.1,10.1,15.0,15.0,13.6,13.6,11.5,11.5,10.1,10.1,10.0,10.0,10.1],\"y\":[13.6,15.0,15.0,10.1,10.1,10.0,10.0,10.1,10.1,11.5,11.5,13.6,13.6],\"type\":\"scatter\"},{\"hoverinfo\":\"text\",\"marker\":{\"opacity\":1,\"size\":1},\"mode\":\"markers\",\"showlegend\":false,\"text\":[\"ID: 171, Pos(3.12,7.71)\"],\"x\":[3.122374024926149],\"y\":[7.705859607071755],\"type\":\"scatter\"},{\"hoverinfo\":\"text\",\"marker\":{\"opacity\":1,\"size\":1},\"mode\":\"markers\",\"showlegend\":false,\"text\":[\"ID: 172, Pos(1.92,7.42)\"],\"x\":[1.916759877460899],\"y\":[7.415179669722961],\"type\":\"scatter\"},{\"hoverinfo\":\"text\",\"marker\":{\"opacity\":1,\"size\":1},\"mode\":\"markers\",\"showlegend\":false,\"text\":[\"ID: 173, Pos(2.29,4.83)\"],\"x\":[2.288084784472091],\"y\":[4.82638137865342],\"type\":\"scatter\"},{\"hoverinfo\":\"text\",\"marker\":{\"opacity\":1,\"size\":1},\"mode\":\"markers\",\"showlegend\":false,\"text\":[\"ID: 174, Pos(3.84,7.48)\"],\"x\":[3.843606920788923],\"y\":[7.476062310836708],\"type\":\"scatter\"},{\"hoverinfo\":\"text\",\"marker\":{\"opacity\":1,\"size\":1},\"mode\":\"markers\",\"showlegend\":false,\"text\":[\"ID: 175, Pos(2.52,7.01)\"],\"x\":[2.523229741643003],\"y\":[7.012321703057623],\"type\":\"scatter\"},{\"hoverinfo\":\"text\",\"marker\":{\"opacity\":1,\"size\":1},\"mode\":\"markers\",\"showlegend\":false,\"text\":[\"ID: 176, Pos(3.51,8.56)\"],\"x\":[3.5136787534986818],\"y\":[8.561122984140262],\"type\":\"scatter\"},{\"hoverinfo\":\"text\",\"marker\":{\"opacity\":1,\"size\":1},\"mode\":\"markers\",\"showlegend\":false,\"text\":[\"ID: 177, Pos(4.29,8.37)\"],\"x\":[4.290991207789992],\"y\":[8.368306131821983],\"type\":\"scatter\"},{\"hoverinfo\":\"text\",\"marker\":{\"opacity\":1,\"size\":1},\"mode\":\"markers\",\"showlegend\":false,\"text\":[\"ID: 178, Pos(3.11,6.56)\"],\"x\":[3.1074841817325844],\"y\":[6.559114526294265],\"type\":\"scatter\"},{\"hoverinfo\":\"text\",\"marker\":{\"opacity\":1,\"size\":1},\"mode\":\"markers\",\"showlegend\":false,\"text\":[\"ID: 179, Pos(2.60,8.18)\"],\"x\":[2.601055746458383],\"y\":[8.176679017934811],\"type\":\"scatter\"},{\"hoverinfo\":\"text\",\"marker\":{\"opacity\":1,\"size\":1},\"mode\":\"markers\",\"showlegend\":false,\"text\":[\"ID: 180, Pos(2.34,5.90)\"],\"x\":[2.344842528094984],\"y\":[5.900713983572042],\"type\":\"scatter\"}],\"layout\":{\"shapes\":[{\"fillcolor\":\"rgba(0, 0, 128, 0.5)\",\"line\":{\"color\":\"rgba(0, 0, 128, 0.5)\"},\"type\":\"circle\",\"x0\":2.9223740249261487,\"x1\":3.322374024926149,\"xref\":\"x\",\"y0\":7.505859607071755,\"y1\":7.905859607071755,\"yref\":\"y\"},{\"fillcolor\":\"rgba(0, 0, 128, 0.5)\",\"line\":{\"color\":\"rgba(0, 0, 128, 0.5)\"},\"type\":\"circle\",\"x0\":1.716759877460899,\"x1\":2.116759877460899,\"xref\":\"x\",\"y0\":7.215179669722961,\"y1\":7.615179669722961,\"yref\":\"y\"},{\"fillcolor\":\"rgba(0, 48, 255, 0.5)\",\"line\":{\"color\":\"rgba(0, 48, 255, 0.5)\"},\"type\":\"circle\",\"x0\":2.0880847844720907,\"x1\":2.488084784472091,\"xref\":\"x\",\"y0\":4.62638137865342,\"y1\":5.02638137865342,\"yref\":\"y\"},{\"fillcolor\":\"rgba(0, 0, 232, 0.5)\",\"line\":{\"color\":\"rgba(0, 0, 232, 0.5)\"},\"type\":\"circle\",\"x0\":3.643606920788923,\"x1\":4.043606920788923,\"xref\":\"x\",\"y0\":7.276062310836708,\"y1\":7.676062310836708,\"yref\":\"y\"},{\"fillcolor\":\"rgba(0, 0, 178, 0.5)\",\"line\":{\"color\":\"rgba(0, 0, 178, 0.5)\"},\"type\":\"circle\",\"x0\":2.323229741643003,\"x1\":2.7232297416430034,\"xref\":\"x\",\"y0\":6.812321703057623,\"y1\":7.212321703057623,\"yref\":\"y\"},{\"fillcolor\":\"rgba(0, 0, 128, 0.5)\",\"line\":{\"color\":\"rgba(0, 0, 128, 0.5)\"},\"type\":\"circle\",\"x0\":3.3136787534986816,\"x1\":3.713678753498682,\"xref\":\"x\",\"y0\":8.361122984140263,\"y1\":8.761122984140261,\"yref\":\"y\"},{\"fillcolor\":\"rgba(0, 0, 128, 0.5)\",\"line\":{\"color\":\"rgba(0, 0, 128, 0.5)\"},\"type\":\"circle\",\"x0\":4.090991207789992,\"x1\":4.4909912077899925,\"xref\":\"x\",\"y0\":8.168306131821984,\"y1\":8.568306131821982,\"yref\":\"y\"},{\"fillcolor\":\"rgba(0, 0, 214, 0.5)\",\"line\":{\"color\":\"rgba(0, 0, 214, 0.5)\"},\"type\":\"circle\",\"x0\":2.9074841817325843,\"x1\":3.3074841817325846,\"xref\":\"x\",\"y0\":6.359114526294265,\"y1\":6.759114526294265,\"yref\":\"y\"},{\"fillcolor\":\"rgba(0, 0, 128, 0.5)\",\"line\":{\"color\":\"rgba(0, 0, 128, 0.5)\"},\"type\":\"circle\",\"x0\":2.4010557464583826,\"x1\":2.801055746458383,\"xref\":\"x\",\"y0\":7.976679017934811,\"y1\":8.37667901793481,\"yref\":\"y\"},{\"fillcolor\":\"rgba(0, 0, 246, 0.5)\",\"line\":{\"color\":\"rgba(0, 0, 246, 0.5)\"},\"type\":\"circle\",\"x0\":2.144842528094984,\"x1\":2.5448425280949842,\"xref\":\"x\",\"y0\":5.700713983572042,\"y1\":6.100713983572042,\"yref\":\"y\"},{\"line\":{\"color\":\"white\",\"width\":3},\"type\":\"line\",\"x0\":3.122374024926149,\"x1\":3.1011790412450058,\"y0\":7.705859607071755,\"y1\":7.904733367700843},{\"line\":{\"color\":\"white\",\"width\":3},\"type\":\"line\",\"x0\":1.916759877460899,\"x1\":1.92219592904061,\"y0\":7.415179669722961,\"y1\":7.6151057794315795},{\"line\":{\"color\":\"white\",\"width\":3},\"type\":\"line\",\"x0\":2.288084784472091,\"x1\":2.293607740654669,\"y0\":4.82638137865342,\"y1\":5.026305106497329},{\"line\":{\"color\":\"white\",\"width\":3},\"type\":\"line\",\"x0\":3.843606920788923,\"x1\":3.8038251728203814,\"y0\":7.476062310836708,\"y1\":7.672065914192788},{\"line\":{\"color\":\"white\",\"width\":3},\"type\":\"line\",\"x0\":2.523229741643003,\"x1\":2.5229638053048804,\"y0\":7.012321703057623,\"y1\":7.212321526252205},{\"line\":{\"color\":\"white\",\"width\":3},\"type\":\"line\",\"x0\":3.5136787534986818,\"x1\":3.458813117199057,\"y0\":8.561122984140262,\"y1\":8.75345021038095},{\"line\":{\"color\":\"white\",\"width\":3},\"type\":\"line\",\"x0\":4.290991207789992,\"x1\":4.197276737744994,\"y0\":8.368306131821983,\"y1\":8.544991156949143},{\"line\":{\"color\":\"white\",\"width\":3},\"type\":\"line\",\"x0\":3.1074841817325844,\"x1\":3.101372446298281,\"y0\":6.559114526294265,\"y1\":6.759021121207942},{\"line\":{\"color\":\"white\",\"width\":3},\"type\":\"line\",\"x0\":2.601055746458383,\"x1\":2.5790360652976716,\"y0\":8.176679017934811,\"y1\":8.375463156239608},{\"line\":{\"color\":\"white\",\"width\":3},\"type\":\"line\",\"x0\":2.344842528094984,\"x1\":2.3486239714406065,\"y0\":5.900713983572042,\"y1\":6.100678232092181}],\"title\":{\"text\":\"\\u003cb\\u003ePercentage using the shortest path: 0%  |  Number of Agents: 10\\u003c\\u002fb\\u003e\",\"x\":0.5}},\"name\":\"200\"},{\"data\":[{\"hoverinfo\":\"name\",\"line\":{\"color\":\"white\"},\"mode\":\"lines\",\"name\":\"Exterior\",\"showlegend\":false,\"x\":[10.1,10.1,15.0,15.0,13.6,13.6,15.0,15.0,13.6,13.6,15.0,15.0,10.1,10.1,9.9,9.9,5.1,5.1,4.9,4.9,0.0,0.0,1.5,1.5,0.0,0.0,1.5,1.5,0.0,0.0,4.9,4.9,5.1,5.1,9.9,9.9,10.1],\"y\":[1.5,0.0,0.0,4.9,4.9,5.1,5.1,9.9,9.9,10.1,10.1,15.0,15.0,13.6,13.6,15.0,15.0,13.6,13.6,15.0,15.0,10.1,10.1,9.9,9.9,5.1,5.1,4.9,4.9,0.0,0.0,1.5,1.5,0.0,0.0,1.5,1.5],\"type\":\"scatter\"},{\"hoverinfo\":\"name\",\"line\":{\"color\":\"white\"},\"mode\":\"lines\",\"name\":\"Obstacle\",\"showlegend\":false,\"x\":[10.1,11.5,11.5,10.1,10.1,9.9,9.9,8.6,8.6,9.9,9.9,10.1,10.1],\"y\":[5.1,5.1,4.9,4.9,3.6,3.6,4.9,4.9,5.1,5.1,6.5,6.5,5.1],\"type\":\"scatter\"},{\"hoverinfo\":\"name\",\"line\":{\"color\":\"white\"},\"mode\":\"lines\",\"name\":\"Obstacle\",\"showlegend\":false,\"x\":[10.1,11.5,11.5,10.1,10.1,9.9,9.9,8.6,8.6,9.9,9.9,10.1,10.1],\"y\":[10.1,10.1,9.9,9.9,8.6,8.6,9.9,9.9,10.1,10.1,11.5,11.5,10.1],\"type\":\"scatter\"},{\"hoverinfo\":\"name\",\"line\":{\"color\":\"white\"},\"mode\":\"lines\",\"name\":\"Obstacle\",\"showlegend\":false,\"x\":[5.1,6.4,6.4,5.1,5.1,4.9,4.9,3.6,3.6,4.9,4.9,5.1,5.1],\"y\":[5.1,5.1,4.9,4.9,3.6,3.6,4.9,4.9,5.1,5.1,6.5,6.5,5.1],\"type\":\"scatter\"},{\"hoverinfo\":\"name\",\"line\":{\"color\":\"white\"},\"mode\":\"lines\",\"name\":\"Obstacle\",\"showlegend\":false,\"x\":[5.1,6.4,6.4,5.1,5.1,4.9,4.9,3.6,3.6,4.9,4.9,5.1,5.1],\"y\":[10.1,10.1,9.9,9.9,8.6,8.6,9.9,9.9,10.1,10.1,11.5,11.5,10.1],\"type\":\"scatter\"},{\"fill\":\"toself\",\"fillcolor\":\"rgb(0, 0, 0)\",\"hoverinfo\":\"name\",\"line\":{\"width\":0},\"mode\":\"lines\",\"name\":\"Risk Area\",\"showlegend\":false,\"x\":[1.5,1.5,3.6,3.6,4.9,4.9,5.0,5.0,4.9,4.9,0.0,0.0,1.5],\"y\":[4.9,5.0,5.0,4.9,4.9,3.6,3.6,1.5,1.5,0.0,0.0,4.9,4.9],\"type\":\"scatter\"},{\"fill\":\"toself\",\"fillcolor\":\"rgb(178, 0, 0)\",\"hoverinfo\":\"name\",\"line\":{\"width\":0},\"mode\":\"lines\",\"name\":\"Risk Area\",\"showlegend\":false,\"x\":[9.9,9.9,5.1,5.1,5.0,5.0,5.1,5.1,6.4,6.4,8.6,8.6,9.9,9.9,10.0,10.0,9.9],\"y\":[1.5,0.0,0.0,1.5,1.5,3.6,3.6,4.9,4.9,5.0,5.0,4.9,4.9,3.6,3.6,1.5,1.5],\"type\":\"scatter\"},{\"fill\":\"toself\",\"fillcolor\":\"rgb(0, 0, 0)\",\"hoverinfo\":\"name\",\"line\":{\"width\":0},\"mode\":\"lines\",\"name\":\"Risk Area\",\"showlegend\":false,\"x\":[13.6,15.0,15.0,10.1,10.1,10.0,10.0,10.1,10.1,11.5,11.5,13.6,13.6],\"y\":[4.9,4.9,0.0,0.0,1.5,1.5,3.6,3.6,4.9,4.9,5.0,5.0,4.9],\"type\":\"scatter\"},{\"fill\":\"toself\",\"fillcolor\":\"rgb(153, 0, 0)\",\"hoverinfo\":\"name\",\"line\":{\"width\":0},\"mode\":\"lines\",\"name\":\"Risk Area\",\"showlegend\":false,\"x\":[13.6,15.0,15.0,13.6,13.6,11.5,11.5,10.1,10.1,10.0,10.0,10.1,10.1,11.5,11.5,13.6,13.6],\"y\":[9.9,9.9,5.1,5.1,5.0,5.0,5.1,5.1,6.5,6.5,8.6,8.6,9.9,9.9,10.0,10.0,9.9],\"type\":\"scatter\"},{\"fill\":\"toself\",\"fillcolor\":\"rgb(204, 0, 0)\",\"hoverinfo\":\"name\",\"line\":{\"width\":0},\"mode\":\"lines\",\"name\":\"Risk Area\",\"showlegend\":false,\"x\":[9.9,9.9,8.6,8.6,6.4,6.4,5.1,5.1,5.0,5.0,5.1,5.1,6.4,6.4,8.6,8.6,9.9,9.9,10.0,10.0,9.9],\"y\":[6.5,5.1,5.1,5.0,5.0,5.1,5.1,6.5,6.5,8.6,8.6,9.9,9.9,10.0,10.0,9.9,9.9,8.6,8.6,6.5,6.5],\"type\":\"scatter\"},{\"fill\":\"toself\",\"fillcolor\":\"rgb(25, 0, 0)\",\"hoverinfo\":\"name\",\"line\":{\"width\":0},\"mode\":\"lines\",\"name\":\"Risk Area\",\"showlegend\":false,\"x\":[4.9,4.9,3.6,3.6,1.5,1.5,0.0,0.0,1.5,1.5,3.6,3.6,4.9,4.9,5.0,5.0,4.9],\"y\":[6.5,5.1,5.1,5.0,5.0,5.1,5.1,9.9,9.9,10.0,10.0,9.9,9.9,8.6,8.6,6.5,6.5],\"type\":\"scatter\"},{\"fill\":\"toself\",\"fillcolor\":\"rgb(0, 0, 0)\",\"hoverinfo\":\"name\",\"line\":{\"width\":0},\"mode\":\"lines\",\"name\":\"Risk Area\",\"showlegend\":false,\"x\":[1.5,0.0,0.0,4.9,4.9,5.0,5.0,4.9,4.9,3.6,3.6,1.5,1.5],\"y\":[10.1,10.1,15.0,15.0,13.6,13.6,11.5,11.5,10.1,10.1,10.0,10.0,10.1],\"type\":\"scatter\"},{\"fill\":\"toself\",\"fillcolor\":\"rgb(0, 0, 0)\",\"hoverinfo\":\"name\",\"line\":{\"width\":0},\"mode\":\"lines\",\"name\":\"Risk Area\",\"showlegend\":false,\"x\":[6.4,5.1,5.1,5.0,5.0,5.1,5.1,9.9,9.9,10.0,10.0,9.9,9.9,8.6,8.6,6.4,6.4],\"y\":[10.1,10.1,11.5,11.5,13.6,13.6,15.0,15.0,13.6,13.6,11.5,11.5,10.1,10.1,10.0,10.0,10.1],\"type\":\"scatter\"},{\"fill\":\"toself\",\"fillcolor\":\"rgb(0, 0, 0)\",\"hoverinfo\":\"name\",\"line\":{\"width\":0},\"mode\":\"lines\",\"name\":\"Risk Area\",\"showlegend\":false,\"x\":[10.1,10.1,15.0,15.0,13.6,13.6,11.5,11.5,10.1,10.1,10.0,10.0,10.1],\"y\":[13.6,15.0,15.0,10.1,10.1,10.0,10.0,10.1,10.1,11.5,11.5,13.6,13.6],\"type\":\"scatter\"},{\"hoverinfo\":\"text\",\"marker\":{\"opacity\":1,\"size\":1},\"mode\":\"markers\",\"showlegend\":false,\"text\":[\"ID: 171, Pos(2.96,9.03)\"],\"x\":[2.9592726658313318],\"y\":[9.031501936935705],\"type\":\"scatter\"},{\"hoverinfo\":\"text\",\"marker\":{\"opacity\":1,\"size\":1},\"mode\":\"markers\",\"showlegend\":false,\"text\":[\"ID: 172, Pos(1.96,9.01)\"],\"x\":[1.9636308606114932],\"y\":[9.014482111028068],\"type\":\"scatter\"},{\"hoverinfo\":\"text\",\"marker\":{\"opacity\":1,\"size\":1},\"mode\":\"markers\",\"showlegend\":false,\"text\":[\"ID: 173, Pos(2.33,6.26)\"],\"x\":[2.327664489392784],\"y\":[6.260023957864764],\"type\":\"scatter\"},{\"hoverinfo\":\"text\",\"marker\":{\"opacity\":1,\"size\":1},\"mode\":\"markers\",\"showlegend\":false,\"text\":[\"ID: 174, Pos(3.61,8.70)\"],\"x\":[3.609859830844313],\"y\":[8.70242214773194],\"type\":\"scatter\"},{\"hoverinfo\":\"text\",\"marker\":{\"opacity\":1,\"size\":1},\"mode\":\"markers\",\"showlegend\":false,\"text\":[\"ID: 175, Pos(2.49,8.58)\"],\"x\":[2.4894272719409907],\"y\":[8.576895989714226],\"type\":\"scatter\"},{\"hoverinfo\":\"text\",\"marker\":{\"opacity\":1,\"size\":1},\"mode\":\"markers\",\"showlegend\":false,\"text\":[\"ID: 176, Pos(3.07,10.10)\"],\"x\":[3.0694956233792174],\"y\":[10.096449727965213],\"type\":\"scatter\"},{\"hoverinfo\":\"text\",\"marker\":{\"opacity\":1,\"size\":1},\"mode\":\"markers\",\"showlegend\":false,\"text\":[\"ID: 177, Pos(3.66,9.54)\"],\"x\":[3.6566615602173207],\"y\":[9.540368366441738],\"type\":\"scatter\"},{\"hoverinfo\":\"text\",\"marker\":{\"opacity\":1,\"size\":1},\"mode\":\"markers\",\"showlegend\":false,\"text\":[\"ID: 178, Pos(3.04,7.98)\"],\"x\":[3.0397002424966564],\"y\":[7.982098276606271],\"type\":\"scatter\"},{\"hoverinfo\":\"text\",\"marker\":{\"opacity\":1,\"size\":1},\"mode\":\"markers\",\"showlegend\":false,\"text\":[\"ID: 179, Pos(2.45,9.77)\"],\"x\":[2.450252796528598],\"y\":[9.769412298632334],\"type\":\"scatter\"},{\"hoverinfo\":\"text\",\"marker\":{\"opacity\":1,\"size\":1},\"mode\":\"markers\",\"showlegend\":false,\"text\":[\"ID: 180, Pos(2.37,7.41)\"],\"x\":[2.3707140438571472],\"y\":[7.409155238682809],\"type\":\"scatter\"}],\"layout\":{\"shapes\":[{\"fillcolor\":\"rgba(0, 56, 255, 0.5)\",\"line\":{\"color\":\"rgba(0, 56, 255, 0.5)\"},\"type\":\"circle\",\"x0\":2.7592726658313316,\"x1\":3.159272665831332,\"xref\":\"x\",\"y0\":8.831501936935705,\"y1\":9.231501936935704,\"yref\":\"y\"},{\"fillcolor\":\"rgba(0, 0, 128, 0.5)\",\"line\":{\"color\":\"rgba(0, 0, 128, 0.5)\"},\"type\":\"circle\",\"x0\":1.7636308606114932,\"x1\":2.163630860611493,\"xref\":\"x\",\"y0\":8.814482111028068,\"y1\":9.214482111028067,\"yref\":\"y\"},{\"fillcolor\":\"rgba(0, 0, 205, 0.5)\",\"line\":{\"color\":\"rgba(0, 0, 205, 0.5)\"},\"type\":\"circle\",\"x0\":2.127664489392784,\"x1\":2.527664489392784,\"xref\":\"x\",\"y0\":6.060023957864764,\"y1\":6.460023957864764,\"yref\":\"y\"},{\"fillcolor\":\"rgba(125, 255, 122, 0.5)\",\"line\":{\"color\":\"rgba(125, 255, 122, 0.5)\"},\"type\":\"circle\",\"x0\":3.409859830844313,\"x1\":3.8098598308443132,\"xref\":\"x\",\"y0\":8.502422147731941,\"y1\":8.90242214773194,\"yref\":\"y\"},{\"fillcolor\":\"rgba(0, 0, 137, 0.5)\",\"line\":{\"color\":\"rgba(0, 0, 137, 0.5)\"},\"type\":\"circle\",\"x0\":2.2894272719409905,\"x1\":2.689427271940991,\"xref\":\"x\",\"y0\":8.376895989714226,\"y1\":8.776895989714225,\"yref\":\"y\"},{\"fillcolor\":\"rgba(0, 0, 128, 0.5)\",\"line\":{\"color\":\"rgba(0, 0, 128, 0.5)\"},\"type\":\"circle\",\"x0\":2.8694956233792173,\"x1\":3.2694956233792176,\"xref\":\"x\",\"y0\":9.896449727965214,\"y1\":10.296449727965213,\"yref\":\"y\"},{\"fillcolor\":\"rgba(112, 255, 135, 0.5)\",\"line\":{\"color\":\"rgba(112, 255, 135, 0.5)\"},\"type\":\"circle\",\"x0\":3.4566615602173205,\"x1\":3.856661560217321,\"xref\":\"x\",\"y0\":9.340368366441739,\"y1\":9.740368366441738,\"yref\":\"y\"},{\"fillcolor\":\"rgba(0, 80, 255, 0.5)\",\"line\":{\"color\":\"rgba(0, 80, 255, 0.5)\"},\"type\":\"circle\",\"x0\":2.839700242496656,\"x1\":3.2397002424966566,\"xref\":\"x\",\"y0\":7.782098276606271,\"y1\":8.18209827660627,\"yref\":\"y\"},{\"fillcolor\":\"rgba(0, 0, 128, 0.5)\",\"line\":{\"color\":\"rgba(0, 0, 128, 0.5)\"},\"type\":\"circle\",\"x0\":2.250252796528598,\"x1\":2.6502527965285982,\"xref\":\"x\",\"y0\":9.569412298632335,\"y1\":9.969412298632333,\"yref\":\"y\"},{\"fillcolor\":\"rgba(0, 0, 168, 0.5)\",\"line\":{\"color\":\"rgba(0, 0, 168, 0.5)\"},\"type\":\"circle\",\"x0\":2.170714043857147,\"x1\":2.5707140438571474,\"xref\":\"x\",\"y0\":7.209155238682809,\"y1\":7.609155238682809,\"yref\":\"y\"},{\"line\":{\"color\":\"white\",\"width\":3},\"type\":\"line\",\"x0\":2.9592726658313318,\"x1\":2.9462656549761994,\"y0\":9.031501936935705,\"y1\":9.23107853292986},{\"line\":{\"color\":\"white\",\"width\":3},\"type\":\"line\",\"x0\":1.9636308606114932,\"x1\":1.9672281118100365,\"y0\":9.014482111028068,\"y1\":9.214449757870787},{\"line\":{\"color\":\"white\",\"width\":3},\"type\":\"line\",\"x0\":2.327664489392784,\"x1\":2.3331830192962473,\"y0\":6.260023957864764,\"y1\":6.459947807936997},{\"line\":{\"color\":\"black\",\"width\":3},\"type\":\"line\",\"x0\":3.609859830844313,\"x1\":3.56951136755517,\"y0\":8.70242214773194,\"y1\":8.89830987453024},{\"line\":{\"color\":\"white\",\"width\":3},\"type\":\"line\",\"x0\":2.4894272719409907,\"x1\":2.474628096902224,\"y0\":8.576895989714226,\"y1\":8.776347699203445},{\"line\":{\"color\":\"white\",\"width\":3},\"type\":\"line\",\"x0\":3.0694956233792174,\"x1\":3.0387638388688454,\"y0\":10.096449727965213,\"y1\":10.294074517454812},{\"line\":{\"color\":\"black\",\"width\":3},\"type\":\"line\",\"x0\":3.6566615602173207,\"x1\":3.509036711622744,\"y0\":9.540368366441738,\"y1\":9.67530132786121},{\"line\":{\"color\":\"white\",\"width\":3},\"type\":\"line\",\"x0\":3.0397002424966564,\"x1\":3.022746393633123,\"y0\":7.982098276606271,\"y1\":8.181378398567073},{\"line\":{\"color\":\"white\",\"width\":3},\"type\":\"line\",\"x0\":2.450252796528598,\"x1\":2.4303090471283375,\"y0\":9.769412298632334,\"y1\":9.968415431421393},{\"line\":{\"color\":\"white\",\"width\":3},\"type\":\"line\",\"x0\":2.3707140438571472,\"x1\":2.3726184334649787,\"y0\":7.409155238682809,\"y1\":7.609146171727838}],\"title\":{\"text\":\"\\u003cb\\u003ePercentage using the shortest path: 0%  |  Number of Agents: 10\\u003c\\u002fb\\u003e\",\"x\":0.5}},\"name\":\"250\"},{\"data\":[{\"hoverinfo\":\"name\",\"line\":{\"color\":\"white\"},\"mode\":\"lines\",\"name\":\"Exterior\",\"showlegend\":false,\"x\":[10.1,10.1,15.0,15.0,13.6,13.6,15.0,15.0,13.6,13.6,15.0,15.0,10.1,10.1,9.9,9.9,5.1,5.1,4.9,4.9,0.0,0.0,1.5,1.5,0.0,0.0,1.5,1.5,0.0,0.0,4.9,4.9,5.1,5.1,9.9,9.9,10.1],\"y\":[1.5,0.0,0.0,4.9,4.9,5.1,5.1,9.9,9.9,10.1,10.1,15.0,15.0,13.6,13.6,15.0,15.0,13.6,13.6,15.0,15.0,10.1,10.1,9.9,9.9,5.1,5.1,4.9,4.9,0.0,0.0,1.5,1.5,0.0,0.0,1.5,1.5],\"type\":\"scatter\"},{\"hoverinfo\":\"name\",\"line\":{\"color\":\"white\"},\"mode\":\"lines\",\"name\":\"Obstacle\",\"showlegend\":false,\"x\":[10.1,11.5,11.5,10.1,10.1,9.9,9.9,8.6,8.6,9.9,9.9,10.1,10.1],\"y\":[5.1,5.1,4.9,4.9,3.6,3.6,4.9,4.9,5.1,5.1,6.5,6.5,5.1],\"type\":\"scatter\"},{\"hoverinfo\":\"name\",\"line\":{\"color\":\"white\"},\"mode\":\"lines\",\"name\":\"Obstacle\",\"showlegend\":false,\"x\":[10.1,11.5,11.5,10.1,10.1,9.9,9.9,8.6,8.6,9.9,9.9,10.1,10.1],\"y\":[10.1,10.1,9.9,9.9,8.6,8.6,9.9,9.9,10.1,10.1,11.5,11.5,10.1],\"type\":\"scatter\"},{\"hoverinfo\":\"name\",\"line\":{\"color\":\"white\"},\"mode\":\"lines\",\"name\":\"Obstacle\",\"showlegend\":false,\"x\":[5.1,6.4,6.4,5.1,5.1,4.9,4.9,3.6,3.6,4.9,4.9,5.1,5.1],\"y\":[5.1,5.1,4.9,4.9,3.6,3.6,4.9,4.9,5.1,5.1,6.5,6.5,5.1],\"type\":\"scatter\"},{\"hoverinfo\":\"name\",\"line\":{\"color\":\"white\"},\"mode\":\"lines\",\"name\":\"Obstacle\",\"showlegend\":false,\"x\":[5.1,6.4,6.4,5.1,5.1,4.9,4.9,3.6,3.6,4.9,4.9,5.1,5.1],\"y\":[10.1,10.1,9.9,9.9,8.6,8.6,9.9,9.9,10.1,10.1,11.5,11.5,10.1],\"type\":\"scatter\"},{\"fill\":\"toself\",\"fillcolor\":\"rgb(0, 0, 0)\",\"hoverinfo\":\"name\",\"line\":{\"width\":0},\"mode\":\"lines\",\"name\":\"Risk Area\",\"showlegend\":false,\"x\":[1.5,1.5,3.6,3.6,4.9,4.9,5.0,5.0,4.9,4.9,0.0,0.0,1.5],\"y\":[4.9,5.0,5.0,4.9,4.9,3.6,3.6,1.5,1.5,0.0,0.0,4.9,4.9],\"type\":\"scatter\"},{\"fill\":\"toself\",\"fillcolor\":\"rgb(178, 0, 0)\",\"hoverinfo\":\"name\",\"line\":{\"width\":0},\"mode\":\"lines\",\"name\":\"Risk Area\",\"showlegend\":false,\"x\":[9.9,9.9,5.1,5.1,5.0,5.0,5.1,5.1,6.4,6.4,8.6,8.6,9.9,9.9,10.0,10.0,9.9],\"y\":[1.5,0.0,0.0,1.5,1.5,3.6,3.6,4.9,4.9,5.0,5.0,4.9,4.9,3.6,3.6,1.5,1.5],\"type\":\"scatter\"},{\"fill\":\"toself\",\"fillcolor\":\"rgb(0, 0, 0)\",\"hoverinfo\":\"name\",\"line\":{\"width\":0},\"mode\":\"lines\",\"name\":\"Risk Area\",\"showlegend\":false,\"x\":[13.6,15.0,15.0,10.1,10.1,10.0,10.0,10.1,10.1,11.5,11.5,13.6,13.6],\"y\":[4.9,4.9,0.0,0.0,1.5,1.5,3.6,3.6,4.9,4.9,5.0,5.0,4.9],\"type\":\"scatter\"},{\"fill\":\"toself\",\"fillcolor\":\"rgb(153, 0, 0)\",\"hoverinfo\":\"name\",\"line\":{\"width\":0},\"mode\":\"lines\",\"name\":\"Risk Area\",\"showlegend\":false,\"x\":[13.6,15.0,15.0,13.6,13.6,11.5,11.5,10.1,10.1,10.0,10.0,10.1,10.1,11.5,11.5,13.6,13.6],\"y\":[9.9,9.9,5.1,5.1,5.0,5.0,5.1,5.1,6.5,6.5,8.6,8.6,9.9,9.9,10.0,10.0,9.9],\"type\":\"scatter\"},{\"fill\":\"toself\",\"fillcolor\":\"rgb(204, 0, 0)\",\"hoverinfo\":\"name\",\"line\":{\"width\":0},\"mode\":\"lines\",\"name\":\"Risk Area\",\"showlegend\":false,\"x\":[9.9,9.9,8.6,8.6,6.4,6.4,5.1,5.1,5.0,5.0,5.1,5.1,6.4,6.4,8.6,8.6,9.9,9.9,10.0,10.0,9.9],\"y\":[6.5,5.1,5.1,5.0,5.0,5.1,5.1,6.5,6.5,8.6,8.6,9.9,9.9,10.0,10.0,9.9,9.9,8.6,8.6,6.5,6.5],\"type\":\"scatter\"},{\"fill\":\"toself\",\"fillcolor\":\"rgb(25, 0, 0)\",\"hoverinfo\":\"name\",\"line\":{\"width\":0},\"mode\":\"lines\",\"name\":\"Risk Area\",\"showlegend\":false,\"x\":[4.9,4.9,3.6,3.6,1.5,1.5,0.0,0.0,1.5,1.5,3.6,3.6,4.9,4.9,5.0,5.0,4.9],\"y\":[6.5,5.1,5.1,5.0,5.0,5.1,5.1,9.9,9.9,10.0,10.0,9.9,9.9,8.6,8.6,6.5,6.5],\"type\":\"scatter\"},{\"fill\":\"toself\",\"fillcolor\":\"rgb(25, 0, 0)\",\"hoverinfo\":\"name\",\"line\":{\"width\":0},\"mode\":\"lines\",\"name\":\"Risk Area\",\"showlegend\":false,\"x\":[1.5,0.0,0.0,4.9,4.9,5.0,5.0,4.9,4.9,3.6,3.6,1.5,1.5],\"y\":[10.1,10.1,15.0,15.0,13.6,13.6,11.5,11.5,10.1,10.1,10.0,10.0,10.1],\"type\":\"scatter\"},{\"fill\":\"toself\",\"fillcolor\":\"rgb(0, 0, 0)\",\"hoverinfo\":\"name\",\"line\":{\"width\":0},\"mode\":\"lines\",\"name\":\"Risk Area\",\"showlegend\":false,\"x\":[6.4,5.1,5.1,5.0,5.0,5.1,5.1,9.9,9.9,10.0,10.0,9.9,9.9,8.6,8.6,6.4,6.4],\"y\":[10.1,10.1,11.5,11.5,13.6,13.6,15.0,15.0,13.6,13.6,11.5,11.5,10.1,10.1,10.0,10.0,10.1],\"type\":\"scatter\"},{\"fill\":\"toself\",\"fillcolor\":\"rgb(0, 0, 0)\",\"hoverinfo\":\"name\",\"line\":{\"width\":0},\"mode\":\"lines\",\"name\":\"Risk Area\",\"showlegend\":false,\"x\":[10.1,10.1,15.0,15.0,13.6,13.6,11.5,11.5,10.1,10.1,10.0,10.0,10.1],\"y\":[13.6,15.0,15.0,10.1,10.1,10.0,10.0,10.1,10.1,11.5,11.5,13.6,13.6],\"type\":\"scatter\"},{\"hoverinfo\":\"text\",\"marker\":{\"opacity\":1,\"size\":1},\"mode\":\"markers\",\"showlegend\":false,\"text\":[\"ID: 171, Pos(2.63,10.22)\"],\"x\":[2.631813128910917],\"y\":[10.215084438144187],\"type\":\"scatter\"},{\"hoverinfo\":\"text\",\"marker\":{\"opacity\":1,\"size\":1},\"mode\":\"markers\",\"showlegend\":false,\"text\":[\"ID: 172, Pos(2.01,10.36)\"],\"x\":[2.006415782702154],\"y\":[10.361754401699745],\"type\":\"scatter\"},{\"hoverinfo\":\"text\",\"marker\":{\"opacity\":1,\"size\":1},\"mode\":\"markers\",\"showlegend\":false,\"text\":[\"ID: 173, Pos(2.37,7.65)\"],\"x\":[2.366229288888349],\"y\":[7.654274992711588],\"type\":\"scatter\"},{\"hoverinfo\":\"text\",\"marker\":{\"opacity\":1,\"size\":1},\"mode\":\"markers\",\"showlegend\":false,\"text\":[\"ID: 174, Pos(3.44,9.59)\"],\"x\":[3.4378204440070337],\"y\":[9.594103578890183],\"type\":\"scatter\"},{\"hoverinfo\":\"text\",\"marker\":{\"opacity\":1,\"size\":1},\"mode\":\"markers\",\"showlegend\":false,\"text\":[\"ID: 175, Pos(2.35,9.49)\"],\"x\":[2.3510026401363775],\"y\":[9.492270575268956],\"type\":\"scatter\"},{\"hoverinfo\":\"text\",\"marker\":{\"opacity\":1,\"size\":1},\"mode\":\"markers\",\"showlegend\":false,\"text\":[\"ID: 176, Pos(3.53,11.27)\"],\"x\":[3.528448562683578],\"y\":[11.267894135580253],\"type\":\"scatter\"},{\"hoverinfo\":\"text\",\"marker\":{\"opacity\":1,\"size\":1},\"mode\":\"markers\",\"showlegend\":false,\"text\":[\"ID: 177, Pos(3.19,10.46)\"],\"x\":[3.190956694763647],\"y\":[10.456591795446277],\"type\":\"scatter\"},{\"hoverinfo\":\"text\",\"marker\":{\"opacity\":1,\"size\":1},\"mode\":\"markers\",\"showlegend\":false,\"text\":[\"ID: 178, Pos(2.93,9.24)\"],\"x\":[2.9286838574089065],\"y\":[9.244968102506055],\"type\":\"scatter\"},{\"hoverinfo\":\"text\",\"marker\":{\"opacity\":1,\"size\":1},\"mode\":\"markers\",\"showlegend\":false,\"text\":[\"ID: 179, Pos(2.58,11.08)\"],\"x\":[2.575740599899485],\"y\":[11.08110316356519],\"type\":\"scatter\"},{\"hoverinfo\":\"text\",\"marker\":{\"opacity\":1,\"size\":1},\"mode\":\"markers\",\"showlegend\":false,\"text\":[\"ID: 180, Pos(2.37,8.63)\"],\"x\":[2.365923515632747],\"y\":[8.625906074290896],\"type\":\"scatter\"}],\"layout\":{\"shapes\":[{\"fillcolor\":\"rgba(83, 255, 164, 0.5)\",\"line\":{\"color\":\"rgba(83, 255, 164, 0.5)\"},\"type\":\"circle\",\"x0\":2.4318131289109166,\"x1\":2.831813128910917,\"xref\":\"x\",\"y0\":10.015084438144187,\"y1\":10.415084438144186,\"yref\":\"y\"},{\"fillcolor\":\"rgba(0, 0, 128, 0.5)\",\"line\":{\"color\":\"rgba(0, 0, 128, 0.5)\"},\"type\":\"circle\",\"x0\":1.8064157827021539,\"x1\":2.206415782702154,\"xref\":\"x\",\"y0\":10.161754401699746,\"y1\":10.561754401699744,\"yref\":\"y\"},{\"fillcolor\":\"rgba(0, 192, 255, 0.5)\",\"line\":{\"color\":\"rgba(0, 192, 255, 0.5)\"},\"type\":\"circle\",\"x0\":2.1662292888883488,\"x1\":2.566229288888349,\"xref\":\"x\",\"y0\":7.4542749927115874,\"y1\":7.854274992711588,\"yref\":\"y\"},{\"fillcolor\":\"rgba(44, 255, 202, 0.5)\",\"line\":{\"color\":\"rgba(44, 255, 202, 0.5)\"},\"type\":\"circle\",\"x0\":3.2378204440070335,\"x1\":3.637820444007034,\"xref\":\"x\",\"y0\":9.394103578890183,\"y1\":9.794103578890182,\"yref\":\"y\"},{\"fillcolor\":\"rgba(19, 252, 228, 0.5)\",\"line\":{\"color\":\"rgba(19, 252, 228, 0.5)\"},\"type\":\"circle\",\"x0\":2.1510026401363773,\"x1\":2.5510026401363777,\"xref\":\"x\",\"y0\":9.292270575268956,\"y1\":9.692270575268955,\"yref\":\"y\"},{\"fillcolor\":\"rgba(0, 0, 128, 0.5)\",\"line\":{\"color\":\"rgba(0, 0, 128, 0.5)\"},\"type\":\"circle\",\"x0\":3.328448562683578,\"x1\":3.728448562683578,\"xref\":\"x\",\"y0\":11.067894135580254,\"y1\":11.467894135580252,\"yref\":\"y\"},{\"fillcolor\":\"rgba(0, 160, 255, 0.5)\",\"line\":{\"color\":\"rgba(0, 160, 255, 0.5)\"},\"type\":\"circle\",\"x0\":2.990956694763647,\"x1\":3.390956694763647,\"xref\":\"x\",\"y0\":10.256591795446278,\"y1\":10.656591795446277,\"yref\":\"y\"},{\"fillcolor\":\"rgba(0, 140, 255, 0.5)\",\"line\":{\"color\":\"rgba(0, 140, 255, 0.5)\"},\"type\":\"circle\",\"x0\":2.7286838574089063,\"x1\":3.1286838574089066,\"xref\":\"x\",\"y0\":9.044968102506056,\"y1\":9.444968102506055,\"yref\":\"y\"},{\"fillcolor\":\"rgba(0, 200, 255, 0.5)\",\"line\":{\"color\":\"rgba(0, 200, 255, 0.5)\"},\"type\":\"circle\",\"x0\":2.3757405998994847,\"x1\":2.775740599899485,\"xref\":\"x\",\"y0\":10.881103163565191,\"y1\":11.28110316356519,\"yref\":\"y\"},{\"fillcolor\":\"rgba(93, 255, 154, 0.5)\",\"line\":{\"color\":\"rgba(93, 255, 154, 0.5)\"},\"type\":\"circle\",\"x0\":2.165923515632747,\"x1\":2.5659235156327473,\"xref\":\"x\",\"y0\":8.425906074290896,\"y1\":8.825906074290895,\"yref\":\"y\"},{\"line\":{\"color\":\"black\",\"width\":3},\"type\":\"line\",\"x0\":2.631813128910917,\"x1\":2.606122599236267,\"y0\":10.215084438144187,\"y1\":10.41342756680015},{\"line\":{\"color\":\"white\",\"width\":3},\"type\":\"line\",\"x0\":2.006415782702154,\"x1\":2.004578714048007,\"y0\":10.361754401699745,\"y1\":10.561745964468678},{\"line\":{\"color\":\"black\",\"width\":3},\"type\":\"line\",\"x0\":2.366229288888349,\"x1\":2.371795500320769,\"y0\":7.654274992711588,\"y1\":7.854197520932621},{\"line\":{\"color\":\"black\",\"width\":3},\"type\":\"line\",\"x0\":3.4378204440070337,\"x1\":3.3555196755649943,\"y0\":9.594103578890183,\"y1\":9.776385183869538},{\"line\":{\"color\":\"black\",\"width\":3},\"type\":\"line\",\"x0\":2.3510026401363775,\"x1\":2.3113152826883887,\"y0\":9.492270575268956,\"y1\":9.68829331287558},{\"line\":{\"color\":\"white\",\"width\":3},\"type\":\"line\",\"x0\":3.528448562683578,\"x1\":3.718239562562676,\"y0\":11.267894135580253,\"y1\":11.33097643392846},{\"line\":{\"color\":\"white\",\"width\":3},\"type\":\"line\",\"x0\":3.190956694763647,\"x1\":3.185483697498093,\"y0\":10.456591795446277,\"y1\":10.656516897174228},{\"line\":{\"color\":\"white\",\"width\":3},\"type\":\"line\",\"x0\":2.9286838574089065,\"x1\":2.9011626820169174,\"y0\":9.244968102506055,\"y1\":9.443065515172258},{\"line\":{\"color\":\"black\",\"width\":3},\"type\":\"line\",\"x0\":2.575740599899485,\"x1\":2.764871888376784,\"y0\":11.08110316356519,\"y1\":11.146136660464224},{\"line\":{\"color\":\"black\",\"width\":3},\"type\":\"line\",\"x0\":2.365923515632747,\"x1\":2.368538725474265,\"y0\":8.625906074290896,\"y1\":8.825888975253665}],\"title\":{\"text\":\"\\u003cb\\u003ePercentage using the shortest path: 0%  |  Number of Agents: 10\\u003c\\u002fb\\u003e\",\"x\":0.5}},\"name\":\"300\"},{\"data\":[{\"hoverinfo\":\"name\",\"line\":{\"color\":\"white\"},\"mode\":\"lines\",\"name\":\"Exterior\",\"showlegend\":false,\"x\":[10.1,10.1,15.0,15.0,13.6,13.6,15.0,15.0,13.6,13.6,15.0,15.0,10.1,10.1,9.9,9.9,5.1,5.1,4.9,4.9,0.0,0.0,1.5,1.5,0.0,0.0,1.5,1.5,0.0,0.0,4.9,4.9,5.1,5.1,9.9,9.9,10.1],\"y\":[1.5,0.0,0.0,4.9,4.9,5.1,5.1,9.9,9.9,10.1,10.1,15.0,15.0,13.6,13.6,15.0,15.0,13.6,13.6,15.0,15.0,10.1,10.1,9.9,9.9,5.1,5.1,4.9,4.9,0.0,0.0,1.5,1.5,0.0,0.0,1.5,1.5],\"type\":\"scatter\"},{\"hoverinfo\":\"name\",\"line\":{\"color\":\"white\"},\"mode\":\"lines\",\"name\":\"Obstacle\",\"showlegend\":false,\"x\":[10.1,11.5,11.5,10.1,10.1,9.9,9.9,8.6,8.6,9.9,9.9,10.1,10.1],\"y\":[5.1,5.1,4.9,4.9,3.6,3.6,4.9,4.9,5.1,5.1,6.5,6.5,5.1],\"type\":\"scatter\"},{\"hoverinfo\":\"name\",\"line\":{\"color\":\"white\"},\"mode\":\"lines\",\"name\":\"Obstacle\",\"showlegend\":false,\"x\":[10.1,11.5,11.5,10.1,10.1,9.9,9.9,8.6,8.6,9.9,9.9,10.1,10.1],\"y\":[10.1,10.1,9.9,9.9,8.6,8.6,9.9,9.9,10.1,10.1,11.5,11.5,10.1],\"type\":\"scatter\"},{\"hoverinfo\":\"name\",\"line\":{\"color\":\"white\"},\"mode\":\"lines\",\"name\":\"Obstacle\",\"showlegend\":false,\"x\":[5.1,6.4,6.4,5.1,5.1,4.9,4.9,3.6,3.6,4.9,4.9,5.1,5.1],\"y\":[5.1,5.1,4.9,4.9,3.6,3.6,4.9,4.9,5.1,5.1,6.5,6.5,5.1],\"type\":\"scatter\"},{\"hoverinfo\":\"name\",\"line\":{\"color\":\"white\"},\"mode\":\"lines\",\"name\":\"Obstacle\",\"showlegend\":false,\"x\":[5.1,6.4,6.4,5.1,5.1,4.9,4.9,3.6,3.6,4.9,4.9,5.1,5.1],\"y\":[10.1,10.1,9.9,9.9,8.6,8.6,9.9,9.9,10.1,10.1,11.5,11.5,10.1],\"type\":\"scatter\"},{\"fill\":\"toself\",\"fillcolor\":\"rgb(0, 0, 0)\",\"hoverinfo\":\"name\",\"line\":{\"width\":0},\"mode\":\"lines\",\"name\":\"Risk Area\",\"showlegend\":false,\"x\":[1.5,1.5,3.6,3.6,4.9,4.9,5.0,5.0,4.9,4.9,0.0,0.0,1.5],\"y\":[4.9,5.0,5.0,4.9,4.9,3.6,3.6,1.5,1.5,0.0,0.0,4.9,4.9],\"type\":\"scatter\"},{\"fill\":\"toself\",\"fillcolor\":\"rgb(178, 0, 0)\",\"hoverinfo\":\"name\",\"line\":{\"width\":0},\"mode\":\"lines\",\"name\":\"Risk Area\",\"showlegend\":false,\"x\":[9.9,9.9,5.1,5.1,5.0,5.0,5.1,5.1,6.4,6.4,8.6,8.6,9.9,9.9,10.0,10.0,9.9],\"y\":[1.5,0.0,0.0,1.5,1.5,3.6,3.6,4.9,4.9,5.0,5.0,4.9,4.9,3.6,3.6,1.5,1.5],\"type\":\"scatter\"},{\"fill\":\"toself\",\"fillcolor\":\"rgb(25, 0, 0)\",\"hoverinfo\":\"name\",\"line\":{\"width\":0},\"mode\":\"lines\",\"name\":\"Risk Area\",\"showlegend\":false,\"x\":[13.6,15.0,15.0,10.1,10.1,10.0,10.0,10.1,10.1,11.5,11.5,13.6,13.6],\"y\":[4.9,4.9,0.0,0.0,1.5,1.5,3.6,3.6,4.9,4.9,5.0,5.0,4.9],\"type\":\"scatter\"},{\"fill\":\"toself\",\"fillcolor\":\"rgb(178, 0, 0)\",\"hoverinfo\":\"name\",\"line\":{\"width\":0},\"mode\":\"lines\",\"name\":\"Risk Area\",\"showlegend\":false,\"x\":[13.6,15.0,15.0,13.6,13.6,11.5,11.5,10.1,10.1,10.0,10.0,10.1,10.1,11.5,11.5,13.6,13.6],\"y\":[9.9,9.9,5.1,5.1,5.0,5.0,5.1,5.1,6.5,6.5,8.6,8.6,9.9,9.9,10.0,10.0,9.9],\"type\":\"scatter\"},{\"fill\":\"toself\",\"fillcolor\":\"rgb(204, 0, 0)\",\"hoverinfo\":\"name\",\"line\":{\"width\":0},\"mode\":\"lines\",\"name\":\"Risk Area\",\"showlegend\":false,\"x\":[9.9,9.9,8.6,8.6,6.4,6.4,5.1,5.1,5.0,5.0,5.1,5.1,6.4,6.4,8.6,8.6,9.9,9.9,10.0,10.0,9.9],\"y\":[6.5,5.1,5.1,5.0,5.0,5.1,5.1,6.5,6.5,8.6,8.6,9.9,9.9,10.0,10.0,9.9,9.9,8.6,8.6,6.5,6.5],\"type\":\"scatter\"},{\"fill\":\"toself\",\"fillcolor\":\"rgb(25, 0, 0)\",\"hoverinfo\":\"name\",\"line\":{\"width\":0},\"mode\":\"lines\",\"name\":\"Risk Area\",\"showlegend\":false,\"x\":[4.9,4.9,3.6,3.6,1.5,1.5,0.0,0.0,1.5,1.5,3.6,3.6,4.9,4.9,5.0,5.0,4.9],\"y\":[6.5,5.1,5.1,5.0,5.0,5.1,5.1,9.9,9.9,10.0,10.0,9.9,9.9,8.6,8.6,6.5,6.5],\"type\":\"scatter\"},{\"fill\":\"toself\",\"fillcolor\":\"rgb(51, 0, 0)\",\"hoverinfo\":\"name\",\"line\":{\"width\":0},\"mode\":\"lines\",\"name\":\"Risk Area\",\"showlegend\":false,\"x\":[1.5,0.0,0.0,4.9,4.9,5.0,5.0,4.9,4.9,3.6,3.6,1.5,1.5],\"y\":[10.1,10.1,15.0,15.0,13.6,13.6,11.5,11.5,10.1,10.1,10.0,10.0,10.1],\"type\":\"scatter\"},{\"fill\":\"toself\",\"fillcolor\":\"rgb(0, 0, 0)\",\"hoverinfo\":\"name\",\"line\":{\"width\":0},\"mode\":\"lines\",\"name\":\"Risk Area\",\"showlegend\":false,\"x\":[6.4,5.1,5.1,5.0,5.0,5.1,5.1,9.9,9.9,10.0,10.0,9.9,9.9,8.6,8.6,6.4,6.4],\"y\":[10.1,10.1,11.5,11.5,13.6,13.6,15.0,15.0,13.6,13.6,11.5,11.5,10.1,10.1,10.0,10.0,10.1],\"type\":\"scatter\"},{\"fill\":\"toself\",\"fillcolor\":\"rgb(0, 0, 0)\",\"hoverinfo\":\"name\",\"line\":{\"width\":0},\"mode\":\"lines\",\"name\":\"Risk Area\",\"showlegend\":false,\"x\":[10.1,10.1,15.0,15.0,13.6,13.6,11.5,11.5,10.1,10.1,10.0,10.0,10.1],\"y\":[13.6,15.0,15.0,10.1,10.1,10.0,10.0,10.1,10.1,11.5,11.5,13.6,13.6],\"type\":\"scatter\"},{\"hoverinfo\":\"text\",\"marker\":{\"opacity\":1,\"size\":1},\"mode\":\"markers\",\"showlegend\":false,\"text\":[\"ID: 171, Pos(3.00,11.10)\"],\"x\":[3.0013101965546434],\"y\":[11.101214292186176],\"type\":\"scatter\"},{\"hoverinfo\":\"text\",\"marker\":{\"opacity\":1,\"size\":1},\"mode\":\"markers\",\"showlegend\":false,\"text\":[\"ID: 172, Pos(2.65,11.59)\"],\"x\":[2.647069905512061],\"y\":[11.592306198707396],\"type\":\"scatter\"},{\"hoverinfo\":\"text\",\"marker\":{\"opacity\":1,\"size\":1},\"mode\":\"markers\",\"showlegend\":false,\"text\":[\"ID: 173, Pos(2.40,8.75)\"],\"x\":[2.3969910911499683],\"y\":[8.747060401861635],\"type\":\"scatter\"},{\"hoverinfo\":\"text\",\"marker\":{\"opacity\":1,\"size\":1},\"mode\":\"markers\",\"showlegend\":false,\"text\":[\"ID: 174, Pos(3.18,10.57)\"],\"x\":[3.181921622285993],\"y\":[10.566832624003053],\"type\":\"scatter\"},{\"hoverinfo\":\"text\",\"marker\":{\"opacity\":1,\"size\":1},\"mode\":\"markers\",\"showlegend\":false,\"text\":[\"ID: 175, Pos(2.22,10.69)\"],\"x\":[2.217338440875904],\"y\":[10.687491729753999],\"type\":\"scatter\"},{\"hoverinfo\":\"text\",\"marker\":{\"opacity\":1,\"size\":1},\"mode\":\"markers\",\"showlegend\":false,\"text\":[\"ID: 176, Pos(4.94,11.93)\"],\"x\":[4.9440740557300895],\"y\":[11.93025768489316],\"type\":\"scatter\"},{\"hoverinfo\":\"text\",\"marker\":{\"opacity\":1,\"size\":1},\"mode\":\"markers\",\"showlegend\":false,\"text\":[\"ID: 177, Pos(3.99,11.34)\"],\"x\":[3.9861943486099274],\"y\":[11.337801576922512],\"type\":\"scatter\"},{\"hoverinfo\":\"text\",\"marker\":{\"opacity\":1,\"size\":1},\"mode\":\"markers\",\"showlegend\":false,\"text\":[\"ID: 178, Pos(2.72,10.21)\"],\"x\":[2.718155811199624],\"y\":[10.209663652362224],\"type\":\"scatter\"},{\"hoverinfo\":\"text\",\"marker\":{\"opacity\":1,\"size\":1},\"mode\":\"markers\",\"showlegend\":false,\"text\":[\"ID: 179, Pos(3.72,11.97)\"],\"x\":[3.718591509330506],\"y\":[11.971873717692109],\"type\":\"scatter\"},{\"hoverinfo\":\"text\",\"marker\":{\"opacity\":1,\"size\":1},\"mode\":\"markers\",\"showlegend\":false,\"text\":[\"ID: 180, Pos(2.33,9.71)\"],\"x\":[2.3318806219533212],\"y\":[9.705013606915045],\"type\":\"scatter\"}],\"layout\":{\"shapes\":[{\"fillcolor\":\"rgba(0, 140, 255, 0.5)\",\"line\":{\"color\":\"rgba(0, 140, 255, 0.5)\"},\"type\":\"circle\",\"x0\":2.801310196554643,\"x1\":3.2013101965546436,\"xref\":\"x\",\"y0\":10.901214292186177,\"y1\":11.301214292186176,\"yref\":\"y\"},{\"fillcolor\":\"rgba(0, 0, 228, 0.5)\",\"line\":{\"color\":\"rgba(0, 0, 228, 0.5)\"},\"type\":\"circle\",\"x0\":2.447069905512061,\"x1\":2.847069905512061,\"xref\":\"x\",\"y0\":11.392306198707397,\"y1\":11.792306198707395,\"yref\":\"y\"},{\"fillcolor\":\"rgba(0, 212, 255, 0.5)\",\"line\":{\"color\":\"rgba(0, 212, 255, 0.5)\"},\"type\":\"circle\",\"x0\":2.196991091149968,\"x1\":2.5969910911499685,\"xref\":\"x\",\"y0\":8.547060401861636,\"y1\":8.947060401861634,\"yref\":\"y\"},{\"fillcolor\":\"rgba(255, 26, 0, 0.5)\",\"line\":{\"color\":\"rgba(255, 26, 0, 0.5)\"},\"type\":\"circle\",\"x0\":2.981921622285993,\"x1\":3.381921622285993,\"xref\":\"x\",\"y0\":10.366832624003054,\"y1\":10.766832624003053,\"yref\":\"y\"},{\"fillcolor\":\"rgba(0, 0, 255, 0.5)\",\"line\":{\"color\":\"rgba(0, 0, 255, 0.5)\"},\"type\":\"circle\",\"x0\":2.017338440875904,\"x1\":2.417338440875904,\"xref\":\"x\",\"y0\":10.487491729754,\"y1\":10.887491729753998,\"yref\":\"y\"},{\"fillcolor\":\"rgba(0, 0, 128, 0.5)\",\"line\":{\"color\":\"rgba(0, 0, 128, 0.5)\"},\"type\":\"circle\",\"x0\":4.744074055730089,\"x1\":5.14407405573009,\"xref\":\"x\",\"y0\":11.73025768489316,\"y1\":12.13025768489316,\"yref\":\"y\"},{\"fillcolor\":\"rgba(0, 0, 250, 0.5)\",\"line\":{\"color\":\"rgba(0, 0, 250, 0.5)\"},\"type\":\"circle\",\"x0\":3.786194348609927,\"x1\":4.186194348609927,\"xref\":\"x\",\"y0\":11.137801576922513,\"y1\":11.537801576922512,\"yref\":\"y\"},{\"fillcolor\":\"rgba(255, 219, 0, 0.5)\",\"line\":{\"color\":\"rgba(255, 219, 0, 0.5)\"},\"type\":\"circle\",\"x0\":2.5181558111996236,\"x1\":2.918155811199624,\"xref\":\"x\",\"y0\":10.009663652362224,\"y1\":10.409663652362223,\"yref\":\"y\"},{\"fillcolor\":\"rgba(0, 0, 128, 0.5)\",\"line\":{\"color\":\"rgba(0, 0, 128, 0.5)\"},\"type\":\"circle\",\"x0\":3.518591509330506,\"x1\":3.9185915093305064,\"xref\":\"x\",\"y0\":11.77187371769211,\"y1\":12.171873717692108,\"yref\":\"y\"},{\"fillcolor\":\"rgba(0, 168, 255, 0.5)\",\"line\":{\"color\":\"rgba(0, 168, 255, 0.5)\"},\"type\":\"circle\",\"x0\":2.131880621953321,\"x1\":2.5318806219533214,\"xref\":\"x\",\"y0\":9.505013606915046,\"y1\":9.905013606915045,\"yref\":\"y\"},{\"line\":{\"color\":\"white\",\"width\":3},\"type\":\"line\",\"x0\":3.0013101965546434,\"x1\":3.1784496007171694,\"y0\":11.101214292186176,\"y1\":11.194067033087807},{\"line\":{\"color\":\"white\",\"width\":3},\"type\":\"line\",\"x0\":2.647069905512061,\"x1\":2.8196789418919033,\"y0\":11.592306198707396,\"y1\":11.693331544834109},{\"line\":{\"color\":\"black\",\"width\":3},\"type\":\"line\",\"x0\":2.3969910911499683,\"x1\":2.4026605371313723,\"y0\":8.747060401861635,\"y1\":8.94698002916787},{\"line\":{\"color\":\"white\",\"width\":3},\"type\":\"line\",\"x0\":3.181921622285993,\"x1\":3.2258619323238826,\"y0\":10.566832624003053,\"y1\":10.76194605038313},{\"line\":{\"color\":\"white\",\"width\":3},\"type\":\"line\",\"x0\":2.217338440875904,\"x1\":2.2207462315594557,\"y0\":10.687491729753999,\"y1\":10.887462695053108},{\"line\":{\"color\":\"white\",\"width\":3},\"type\":\"line\",\"x0\":4.9440740557300895,\"x1\":5.1322763056896115,\"y0\":11.93025768489316,\"y1\":11.997932740195491},{\"line\":{\"color\":\"white\",\"width\":3},\"type\":\"line\",\"x0\":3.9861943486099274,\"x1\":4.1808221693758565,\"y0\":11.337801576922512,\"y1\":11.383845158276543},{\"line\":{\"color\":\"black\",\"width\":3},\"type\":\"line\",\"x0\":2.718155811199624,\"x1\":2.6779091190356725,\"y0\":10.209663652362224,\"y1\":10.40557231416629},{\"line\":{\"color\":\"white\",\"width\":3},\"type\":\"line\",\"x0\":3.718591509330506,\"x1\":3.9104642396150027,\"y0\":11.971873717692109,\"y1\":12.028308240576358},{\"line\":{\"color\":\"black\",\"width\":3},\"type\":\"line\",\"x0\":2.3318806219533212,\"x1\":2.3105974718162243,\"y0\":9.705013606915045,\"y1\":9.90387795143221}],\"title\":{\"text\":\"\\u003cb\\u003ePercentage using the shortest path: 0%  |  Number of Agents: 10\\u003c\\u002fb\\u003e\",\"x\":0.5}},\"name\":\"350\"},{\"data\":[{\"hoverinfo\":\"name\",\"line\":{\"color\":\"white\"},\"mode\":\"lines\",\"name\":\"Exterior\",\"showlegend\":false,\"x\":[10.1,10.1,15.0,15.0,13.6,13.6,15.0,15.0,13.6,13.6,15.0,15.0,10.1,10.1,9.9,9.9,5.1,5.1,4.9,4.9,0.0,0.0,1.5,1.5,0.0,0.0,1.5,1.5,0.0,0.0,4.9,4.9,5.1,5.1,9.9,9.9,10.1],\"y\":[1.5,0.0,0.0,4.9,4.9,5.1,5.1,9.9,9.9,10.1,10.1,15.0,15.0,13.6,13.6,15.0,15.0,13.6,13.6,15.0,15.0,10.1,10.1,9.9,9.9,5.1,5.1,4.9,4.9,0.0,0.0,1.5,1.5,0.0,0.0,1.5,1.5],\"type\":\"scatter\"},{\"hoverinfo\":\"name\",\"line\":{\"color\":\"white\"},\"mode\":\"lines\",\"name\":\"Obstacle\",\"showlegend\":false,\"x\":[10.1,11.5,11.5,10.1,10.1,9.9,9.9,8.6,8.6,9.9,9.9,10.1,10.1],\"y\":[5.1,5.1,4.9,4.9,3.6,3.6,4.9,4.9,5.1,5.1,6.5,6.5,5.1],\"type\":\"scatter\"},{\"hoverinfo\":\"name\",\"line\":{\"color\":\"white\"},\"mode\":\"lines\",\"name\":\"Obstacle\",\"showlegend\":false,\"x\":[10.1,11.5,11.5,10.1,10.1,9.9,9.9,8.6,8.6,9.9,9.9,10.1,10.1],\"y\":[10.1,10.1,9.9,9.9,8.6,8.6,9.9,9.9,10.1,10.1,11.5,11.5,10.1],\"type\":\"scatter\"},{\"hoverinfo\":\"name\",\"line\":{\"color\":\"white\"},\"mode\":\"lines\",\"name\":\"Obstacle\",\"showlegend\":false,\"x\":[5.1,6.4,6.4,5.1,5.1,4.9,4.9,3.6,3.6,4.9,4.9,5.1,5.1],\"y\":[5.1,5.1,4.9,4.9,3.6,3.6,4.9,4.9,5.1,5.1,6.5,6.5,5.1],\"type\":\"scatter\"},{\"hoverinfo\":\"name\",\"line\":{\"color\":\"white\"},\"mode\":\"lines\",\"name\":\"Obstacle\",\"showlegend\":false,\"x\":[5.1,6.4,6.4,5.1,5.1,4.9,4.9,3.6,3.6,4.9,4.9,5.1,5.1],\"y\":[10.1,10.1,9.9,9.9,8.6,8.6,9.9,9.9,10.1,10.1,11.5,11.5,10.1],\"type\":\"scatter\"},{\"fill\":\"toself\",\"fillcolor\":\"rgb(0, 0, 0)\",\"hoverinfo\":\"name\",\"line\":{\"width\":0},\"mode\":\"lines\",\"name\":\"Risk Area\",\"showlegend\":false,\"x\":[1.5,1.5,3.6,3.6,4.9,4.9,5.0,5.0,4.9,4.9,0.0,0.0,1.5],\"y\":[4.9,5.0,5.0,4.9,4.9,3.6,3.6,1.5,1.5,0.0,0.0,4.9,4.9],\"type\":\"scatter\"},{\"fill\":\"toself\",\"fillcolor\":\"rgb(178, 0, 0)\",\"hoverinfo\":\"name\",\"line\":{\"width\":0},\"mode\":\"lines\",\"name\":\"Risk Area\",\"showlegend\":false,\"x\":[9.9,9.9,5.1,5.1,5.0,5.0,5.1,5.1,6.4,6.4,8.6,8.6,9.9,9.9,10.0,10.0,9.9],\"y\":[1.5,0.0,0.0,1.5,1.5,3.6,3.6,4.9,4.9,5.0,5.0,4.9,4.9,3.6,3.6,1.5,1.5],\"type\":\"scatter\"},{\"fill\":\"toself\",\"fillcolor\":\"rgb(25, 0, 0)\",\"hoverinfo\":\"name\",\"line\":{\"width\":0},\"mode\":\"lines\",\"name\":\"Risk Area\",\"showlegend\":false,\"x\":[13.6,15.0,15.0,10.1,10.1,10.0,10.0,10.1,10.1,11.5,11.5,13.6,13.6],\"y\":[4.9,4.9,0.0,0.0,1.5,1.5,3.6,3.6,4.9,4.9,5.0,5.0,4.9],\"type\":\"scatter\"},{\"fill\":\"toself\",\"fillcolor\":\"rgb(178, 0, 0)\",\"hoverinfo\":\"name\",\"line\":{\"width\":0},\"mode\":\"lines\",\"name\":\"Risk Area\",\"showlegend\":false,\"x\":[13.6,15.0,15.0,13.6,13.6,11.5,11.5,10.1,10.1,10.0,10.0,10.1,10.1,11.5,11.5,13.6,13.6],\"y\":[9.9,9.9,5.1,5.1,5.0,5.0,5.1,5.1,6.5,6.5,8.6,8.6,9.9,9.9,10.0,10.0,9.9],\"type\":\"scatter\"},{\"fill\":\"toself\",\"fillcolor\":\"rgb(204, 0, 0)\",\"hoverinfo\":\"name\",\"line\":{\"width\":0},\"mode\":\"lines\",\"name\":\"Risk Area\",\"showlegend\":false,\"x\":[9.9,9.9,8.6,8.6,6.4,6.4,5.1,5.1,5.0,5.0,5.1,5.1,6.4,6.4,8.6,8.6,9.9,9.9,10.0,10.0,9.9],\"y\":[6.5,5.1,5.1,5.0,5.0,5.1,5.1,6.5,6.5,8.6,8.6,9.9,9.9,10.0,10.0,9.9,9.9,8.6,8.6,6.5,6.5],\"type\":\"scatter\"},{\"fill\":\"toself\",\"fillcolor\":\"rgb(25, 0, 0)\",\"hoverinfo\":\"name\",\"line\":{\"width\":0},\"mode\":\"lines\",\"name\":\"Risk Area\",\"showlegend\":false,\"x\":[4.9,4.9,3.6,3.6,1.5,1.5,0.0,0.0,1.5,1.5,3.6,3.6,4.9,4.9,5.0,5.0,4.9],\"y\":[6.5,5.1,5.1,5.0,5.0,5.1,5.1,9.9,9.9,10.0,10.0,9.9,9.9,8.6,8.6,6.5,6.5],\"type\":\"scatter\"},{\"fill\":\"toself\",\"fillcolor\":\"rgb(51, 0, 0)\",\"hoverinfo\":\"name\",\"line\":{\"width\":0},\"mode\":\"lines\",\"name\":\"Risk Area\",\"showlegend\":false,\"x\":[1.5,0.0,0.0,4.9,4.9,5.0,5.0,4.9,4.9,3.6,3.6,1.5,1.5],\"y\":[10.1,10.1,15.0,15.0,13.6,13.6,11.5,11.5,10.1,10.1,10.0,10.0,10.1],\"type\":\"scatter\"},{\"fill\":\"toself\",\"fillcolor\":\"rgb(0, 0, 0)\",\"hoverinfo\":\"name\",\"line\":{\"width\":0},\"mode\":\"lines\",\"name\":\"Risk Area\",\"showlegend\":false,\"x\":[6.4,5.1,5.1,5.0,5.0,5.1,5.1,9.9,9.9,10.0,10.0,9.9,9.9,8.6,8.6,6.4,6.4],\"y\":[10.1,10.1,11.5,11.5,13.6,13.6,15.0,15.0,13.6,13.6,11.5,11.5,10.1,10.1,10.0,10.0,10.1],\"type\":\"scatter\"},{\"fill\":\"toself\",\"fillcolor\":\"rgb(0, 0, 0)\",\"hoverinfo\":\"name\",\"line\":{\"width\":0},\"mode\":\"lines\",\"name\":\"Risk Area\",\"showlegend\":false,\"x\":[10.1,10.1,15.0,15.0,13.6,13.6,11.5,11.5,10.1,10.1,10.0,10.0,10.1],\"y\":[13.6,15.0,15.0,10.1,10.1,10.0,10.0,10.1,10.1,11.5,11.5,13.6,13.6],\"type\":\"scatter\"},{\"hoverinfo\":\"text\",\"marker\":{\"opacity\":1,\"size\":1},\"mode\":\"markers\",\"showlegend\":false,\"text\":[\"ID: 171, Pos(4.07,11.41)\"],\"x\":[4.065003088071062],\"y\":[11.409303272245467],\"type\":\"scatter\"},{\"hoverinfo\":\"text\",\"marker\":{\"opacity\":1,\"size\":1},\"mode\":\"markers\",\"showlegend\":false,\"text\":[\"ID: 172, Pos(4.09,12.14)\"],\"x\":[4.092878879868091],\"y\":[12.140291546940423],\"type\":\"scatter\"},{\"hoverinfo\":\"text\",\"marker\":{\"opacity\":1,\"size\":1},\"mode\":\"markers\",\"showlegend\":false,\"text\":[\"ID: 173, Pos(2.43,9.98)\"],\"x\":[2.4308273080830545],\"y\":[9.975964696402873],\"type\":\"scatter\"},{\"hoverinfo\":\"text\",\"marker\":{\"opacity\":1,\"size\":1},\"mode\":\"markers\",\"showlegend\":false,\"text\":[\"ID: 174, Pos(3.36,11.20)\"],\"x\":[3.3627724291955925],\"y\":[11.197019673946576],\"type\":\"scatter\"},{\"hoverinfo\":\"text\",\"marker\":{\"opacity\":1,\"size\":1},\"mode\":\"markers\",\"showlegend\":false,\"text\":[\"ID: 175, Pos(3.05,11.71)\"],\"x\":[3.0477432427501188],\"y\":[11.711283668506562],\"type\":\"scatter\"},{\"hoverinfo\":\"text\",\"marker\":{\"opacity\":1,\"size\":1},\"mode\":\"markers\",\"showlegend\":false,\"text\":[\"ID: 176, Pos(6.50,12.28)\"],\"x\":[6.5047654259015495],\"y\":[12.279734472182232],\"type\":\"scatter\"},{\"hoverinfo\":\"text\",\"marker\":{\"opacity\":1,\"size\":1},\"mode\":\"markers\",\"showlegend\":false,\"text\":[\"ID: 177, Pos(4.74,11.81)\"],\"x\":[4.738868940366939],\"y\":[11.813026912903053],\"type\":\"scatter\"},{\"hoverinfo\":\"text\",\"marker\":{\"opacity\":1,\"size\":1},\"mode\":\"markers\",\"showlegend\":false,\"text\":[\"ID: 178, Pos(2.69,10.89)\"],\"x\":[2.690166915866565],\"y\":[10.894642244660693],\"type\":\"scatter\"},{\"hoverinfo\":\"text\",\"marker\":{\"opacity\":1,\"size\":1},\"mode\":\"markers\",\"showlegend\":false,\"text\":[\"ID: 179, Pos(5.26,12.38)\"],\"x\":[5.260687338109389],\"y\":[12.381284483871049],\"type\":\"scatter\"},{\"hoverinfo\":\"text\",\"marker\":{\"opacity\":1,\"size\":1},\"mode\":\"markers\",\"showlegend\":false,\"text\":[\"ID: 180, Pos(2.15,11.11)\"],\"x\":[2.149315799209779],\"y\":[11.110223051034986],\"type\":\"scatter\"}],\"layout\":{\"shapes\":[{\"fillcolor\":\"rgba(186, 255, 60, 0.5)\",\"line\":{\"color\":\"rgba(186, 255, 60, 0.5)\"},\"type\":\"circle\",\"x0\":3.865003088071062,\"x1\":4.2650030880710625,\"xref\":\"x\",\"y0\":11.209303272245467,\"y1\":11.609303272245466,\"yref\":\"y\"},{\"fillcolor\":\"rgba(0, 0, 137, 0.5)\",\"line\":{\"color\":\"rgba(0, 0, 137, 0.5)\"},\"type\":\"circle\",\"x0\":3.892878879868091,\"x1\":4.292878879868091,\"xref\":\"x\",\"y0\":11.940291546940424,\"y1\":12.340291546940422,\"yref\":\"y\"},{\"fillcolor\":\"rgba(0, 216, 255, 0.5)\",\"line\":{\"color\":\"rgba(0, 216, 255, 0.5)\"},\"type\":\"circle\",\"x0\":2.2308273080830543,\"x1\":2.6308273080830546,\"xref\":\"x\",\"y0\":9.775964696402873,\"y1\":10.175964696402872,\"yref\":\"y\"},{\"fillcolor\":\"rgba(248, 245, 0, 0.5)\",\"line\":{\"color\":\"rgba(248, 245, 0, 0.5)\"},\"type\":\"circle\",\"x0\":3.1627724291955923,\"x1\":3.5627724291955927,\"xref\":\"x\",\"y0\":10.997019673946577,\"y1\":11.397019673946575,\"yref\":\"y\"},{\"fillcolor\":\"rgba(0, 0, 246, 0.5)\",\"line\":{\"color\":\"rgba(0, 0, 246, 0.5)\"},\"type\":\"circle\",\"x0\":2.8477432427501186,\"x1\":3.247743242750119,\"xref\":\"x\",\"y0\":11.511283668506563,\"y1\":11.911283668506561,\"yref\":\"y\"},{\"fillcolor\":\"rgba(0, 0, 128, 0.5)\",\"line\":{\"color\":\"rgba(0, 0, 128, 0.5)\"},\"type\":\"circle\",\"x0\":6.304765425901549,\"x1\":6.70476542590155,\"xref\":\"x\",\"y0\":12.079734472182233,\"y1\":12.479734472182232,\"yref\":\"y\"},{\"fillcolor\":\"rgba(206, 255, 41, 0.5)\",\"line\":{\"color\":\"rgba(206, 255, 41, 0.5)\"},\"type\":\"circle\",\"x0\":4.538868940366939,\"x1\":4.938868940366939,\"xref\":\"x\",\"y0\":11.613026912903054,\"y1\":12.013026912903053,\"yref\":\"y\"},{\"fillcolor\":\"rgba(77, 255, 170, 0.5)\",\"line\":{\"color\":\"rgba(77, 255, 170, 0.5)\"},\"type\":\"circle\",\"x0\":2.4901669158665647,\"x1\":2.890166915866565,\"xref\":\"x\",\"y0\":10.694642244660693,\"y1\":11.094642244660692,\"yref\":\"y\"},{\"fillcolor\":\"rgba(0, 0, 128, 0.5)\",\"line\":{\"color\":\"rgba(0, 0, 128, 0.5)\"},\"type\":\"circle\",\"x0\":5.060687338109389,\"x1\":5.460687338109389,\"xref\":\"x\",\"y0\":12.18128448387105,\"y1\":12.581284483871048,\"yref\":\"y\"},{\"fillcolor\":\"rgba(0, 56, 255, 0.5)\",\"line\":{\"color\":\"rgba(0, 56, 255, 0.5)\"},\"type\":\"circle\",\"x0\":1.949315799209779,\"x1\":2.349315799209779,\"xref\":\"x\",\"y0\":10.910223051034986,\"y1\":11.310223051034985,\"yref\":\"y\"},{\"line\":{\"color\":\"black\",\"width\":3},\"type\":\"line\",\"x0\":4.065003088071062,\"x1\":4.259762758505413,\"y0\":11.409303272245467,\"y1\":11.454785914784166},{\"line\":{\"color\":\"white\",\"width\":3},\"type\":\"line\",\"x0\":4.092878879868091,\"x1\":4.285972381858318,\"y0\":12.140291546940423,\"y1\":12.192396244321275},{\"line\":{\"color\":\"black\",\"width\":3},\"type\":\"line\",\"x0\":2.4308273080830545,\"x1\":2.435868108236181,\"y0\":9.975964696402873,\"y1\":10.175901162145909},{\"line\":{\"color\":\"black\",\"width\":3},\"type\":\"line\",\"x0\":3.3627724291955925,\"x1\":3.5627207274125814,\"y0\":11.197019673946576,\"y1\":11.201566985254372},{\"line\":{\"color\":\"white\",\"width\":3},\"type\":\"line\",\"x0\":3.0477432427501188,\"x1\":3.2187549719780595,\"y0\":11.711283668506562,\"y1\":11.814989929004517},{\"line\":{\"color\":\"white\",\"width\":3},\"type\":\"line\",\"x0\":6.5047654259015495,\"x1\":6.700776347571477,\"y0\":12.279734472182232,\"y1\":12.319480145985874},{\"line\":{\"color\":\"black\",\"width\":3},\"type\":\"line\",\"x0\":4.738868940366939,\"x1\":4.898622191536498,\"y0\":11.813026912903053,\"y1\":11.933355208580984},{\"line\":{\"color\":\"black\",\"width\":3},\"type\":\"line\",\"x0\":2.690166915866565,\"x1\":2.7317792386750988,\"y0\":10.894642244660693,\"y1\":11.090265388972602},{\"line\":{\"color\":\"white\",\"width\":3},\"type\":\"line\",\"x0\":5.260687338109389,\"x1\":5.459748754010051,\"y0\":12.381284483871049,\"y1\":12.40063784790999},{\"line\":{\"color\":\"white\",\"width\":3},\"type\":\"line\",\"x0\":2.149315799209779,\"x1\":2.3150851511951513,\"y0\":11.110223051034986,\"y1\":11.222118189188302}],\"title\":{\"text\":\"\\u003cb\\u003ePercentage using the shortest path: 0%  |  Number of Agents: 10\\u003c\\u002fb\\u003e\",\"x\":0.5}},\"name\":\"400\"},{\"data\":[{\"hoverinfo\":\"name\",\"line\":{\"color\":\"white\"},\"mode\":\"lines\",\"name\":\"Exterior\",\"showlegend\":false,\"x\":[10.1,10.1,15.0,15.0,13.6,13.6,15.0,15.0,13.6,13.6,15.0,15.0,10.1,10.1,9.9,9.9,5.1,5.1,4.9,4.9,0.0,0.0,1.5,1.5,0.0,0.0,1.5,1.5,0.0,0.0,4.9,4.9,5.1,5.1,9.9,9.9,10.1],\"y\":[1.5,0.0,0.0,4.9,4.9,5.1,5.1,9.9,9.9,10.1,10.1,15.0,15.0,13.6,13.6,15.0,15.0,13.6,13.6,15.0,15.0,10.1,10.1,9.9,9.9,5.1,5.1,4.9,4.9,0.0,0.0,1.5,1.5,0.0,0.0,1.5,1.5],\"type\":\"scatter\"},{\"hoverinfo\":\"name\",\"line\":{\"color\":\"white\"},\"mode\":\"lines\",\"name\":\"Obstacle\",\"showlegend\":false,\"x\":[10.1,11.5,11.5,10.1,10.1,9.9,9.9,8.6,8.6,9.9,9.9,10.1,10.1],\"y\":[5.1,5.1,4.9,4.9,3.6,3.6,4.9,4.9,5.1,5.1,6.5,6.5,5.1],\"type\":\"scatter\"},{\"hoverinfo\":\"name\",\"line\":{\"color\":\"white\"},\"mode\":\"lines\",\"name\":\"Obstacle\",\"showlegend\":false,\"x\":[10.1,11.5,11.5,10.1,10.1,9.9,9.9,8.6,8.6,9.9,9.9,10.1,10.1],\"y\":[10.1,10.1,9.9,9.9,8.6,8.6,9.9,9.9,10.1,10.1,11.5,11.5,10.1],\"type\":\"scatter\"},{\"hoverinfo\":\"name\",\"line\":{\"color\":\"white\"},\"mode\":\"lines\",\"name\":\"Obstacle\",\"showlegend\":false,\"x\":[5.1,6.4,6.4,5.1,5.1,4.9,4.9,3.6,3.6,4.9,4.9,5.1,5.1],\"y\":[5.1,5.1,4.9,4.9,3.6,3.6,4.9,4.9,5.1,5.1,6.5,6.5,5.1],\"type\":\"scatter\"},{\"hoverinfo\":\"name\",\"line\":{\"color\":\"white\"},\"mode\":\"lines\",\"name\":\"Obstacle\",\"showlegend\":false,\"x\":[5.1,6.4,6.4,5.1,5.1,4.9,4.9,3.6,3.6,4.9,4.9,5.1,5.1],\"y\":[10.1,10.1,9.9,9.9,8.6,8.6,9.9,9.9,10.1,10.1,11.5,11.5,10.1],\"type\":\"scatter\"},{\"fill\":\"toself\",\"fillcolor\":\"rgb(0, 0, 0)\",\"hoverinfo\":\"name\",\"line\":{\"width\":0},\"mode\":\"lines\",\"name\":\"Risk Area\",\"showlegend\":false,\"x\":[1.5,1.5,3.6,3.6,4.9,4.9,5.0,5.0,4.9,4.9,0.0,0.0,1.5],\"y\":[4.9,5.0,5.0,4.9,4.9,3.6,3.6,1.5,1.5,0.0,0.0,4.9,4.9],\"type\":\"scatter\"},{\"fill\":\"toself\",\"fillcolor\":\"rgb(178, 0, 0)\",\"hoverinfo\":\"name\",\"line\":{\"width\":0},\"mode\":\"lines\",\"name\":\"Risk Area\",\"showlegend\":false,\"x\":[9.9,9.9,5.1,5.1,5.0,5.0,5.1,5.1,6.4,6.4,8.6,8.6,9.9,9.9,10.0,10.0,9.9],\"y\":[1.5,0.0,0.0,1.5,1.5,3.6,3.6,4.9,4.9,5.0,5.0,4.9,4.9,3.6,3.6,1.5,1.5],\"type\":\"scatter\"},{\"fill\":\"toself\",\"fillcolor\":\"rgb(25, 0, 0)\",\"hoverinfo\":\"name\",\"line\":{\"width\":0},\"mode\":\"lines\",\"name\":\"Risk Area\",\"showlegend\":false,\"x\":[13.6,15.0,15.0,10.1,10.1,10.0,10.0,10.1,10.1,11.5,11.5,13.6,13.6],\"y\":[4.9,4.9,0.0,0.0,1.5,1.5,3.6,3.6,4.9,4.9,5.0,5.0,4.9],\"type\":\"scatter\"},{\"fill\":\"toself\",\"fillcolor\":\"rgb(178, 0, 0)\",\"hoverinfo\":\"name\",\"line\":{\"width\":0},\"mode\":\"lines\",\"name\":\"Risk Area\",\"showlegend\":false,\"x\":[13.6,15.0,15.0,13.6,13.6,11.5,11.5,10.1,10.1,10.0,10.0,10.1,10.1,11.5,11.5,13.6,13.6],\"y\":[9.9,9.9,5.1,5.1,5.0,5.0,5.1,5.1,6.5,6.5,8.6,8.6,9.9,9.9,10.0,10.0,9.9],\"type\":\"scatter\"},{\"fill\":\"toself\",\"fillcolor\":\"rgb(204, 0, 0)\",\"hoverinfo\":\"name\",\"line\":{\"width\":0},\"mode\":\"lines\",\"name\":\"Risk Area\",\"showlegend\":false,\"x\":[9.9,9.9,8.6,8.6,6.4,6.4,5.1,5.1,5.0,5.0,5.1,5.1,6.4,6.4,8.6,8.6,9.9,9.9,10.0,10.0,9.9],\"y\":[6.5,5.1,5.1,5.0,5.0,5.1,5.1,6.5,6.5,8.6,8.6,9.9,9.9,10.0,10.0,9.9,9.9,8.6,8.6,6.5,6.5],\"type\":\"scatter\"},{\"fill\":\"toself\",\"fillcolor\":\"rgb(25, 0, 0)\",\"hoverinfo\":\"name\",\"line\":{\"width\":0},\"mode\":\"lines\",\"name\":\"Risk Area\",\"showlegend\":false,\"x\":[4.9,4.9,3.6,3.6,1.5,1.5,0.0,0.0,1.5,1.5,3.6,3.6,4.9,4.9,5.0,5.0,4.9],\"y\":[6.5,5.1,5.1,5.0,5.0,5.1,5.1,9.9,9.9,10.0,10.0,9.9,9.9,8.6,8.6,6.5,6.5],\"type\":\"scatter\"},{\"fill\":\"toself\",\"fillcolor\":\"rgb(51, 0, 0)\",\"hoverinfo\":\"name\",\"line\":{\"width\":0},\"mode\":\"lines\",\"name\":\"Risk Area\",\"showlegend\":false,\"x\":[1.5,0.0,0.0,4.9,4.9,5.0,5.0,4.9,4.9,3.6,3.6,1.5,1.5],\"y\":[10.1,10.1,15.0,15.0,13.6,13.6,11.5,11.5,10.1,10.1,10.0,10.0,10.1],\"type\":\"scatter\"},{\"fill\":\"toself\",\"fillcolor\":\"rgb(0, 0, 0)\",\"hoverinfo\":\"name\",\"line\":{\"width\":0},\"mode\":\"lines\",\"name\":\"Risk Area\",\"showlegend\":false,\"x\":[6.4,5.1,5.1,5.0,5.0,5.1,5.1,9.9,9.9,10.0,10.0,9.9,9.9,8.6,8.6,6.4,6.4],\"y\":[10.1,10.1,11.5,11.5,13.6,13.6,15.0,15.0,13.6,13.6,11.5,11.5,10.1,10.1,10.0,10.0,10.1],\"type\":\"scatter\"},{\"fill\":\"toself\",\"fillcolor\":\"rgb(0, 0, 0)\",\"hoverinfo\":\"name\",\"line\":{\"width\":0},\"mode\":\"lines\",\"name\":\"Risk Area\",\"showlegend\":false,\"x\":[10.1,10.1,15.0,15.0,13.6,13.6,11.5,11.5,10.1,10.1,10.0,10.0,10.1],\"y\":[13.6,15.0,15.0,10.1,10.1,10.0,10.0,10.1,10.1,11.5,11.5,13.6,13.6],\"type\":\"scatter\"},{\"hoverinfo\":\"text\",\"marker\":{\"opacity\":1,\"size\":1},\"mode\":\"markers\",\"showlegend\":false,\"text\":[\"ID: 171, Pos(4.91,11.87)\"],\"x\":[4.910053840320399],\"y\":[11.869900883678582],\"type\":\"scatter\"},{\"hoverinfo\":\"text\",\"marker\":{\"opacity\":1,\"size\":1},\"mode\":\"markers\",\"showlegend\":false,\"text\":[\"ID: 172, Pos(5.63,12.55)\"],\"x\":[5.627715254763864],\"y\":[12.55156316902829],\"type\":\"scatter\"},{\"hoverinfo\":\"text\",\"marker\":{\"opacity\":1,\"size\":1},\"mode\":\"markers\",\"showlegend\":false,\"text\":[\"ID: 173, Pos(2.58,11.06)\"],\"x\":[2.5753805918516717],\"y\":[11.057134656733899],\"type\":\"scatter\"},{\"hoverinfo\":\"text\",\"marker\":{\"opacity\":1,\"size\":1},\"mode\":\"markers\",\"showlegend\":false,\"text\":[\"ID: 174, Pos(4.14,11.39)\"],\"x\":[4.139108079110754],\"y\":[11.392075061200007],\"type\":\"scatter\"},{\"hoverinfo\":\"text\",\"marker\":{\"opacity\":1,\"size\":1},\"mode\":\"markers\",\"showlegend\":false,\"text\":[\"ID: 175, Pos(4.47,12.26)\"],\"x\":[4.473104815018424],\"y\":[12.261988961220764],\"type\":\"scatter\"},{\"hoverinfo\":\"text\",\"marker\":{\"opacity\":1,\"size\":1},\"mode\":\"markers\",\"showlegend\":false,\"text\":[\"ID: 176, Pos(8.07,12.60)\"],\"x\":[8.07284233587497],\"y\":[12.597751458406028],\"type\":\"scatter\"},{\"hoverinfo\":\"text\",\"marker\":{\"opacity\":1,\"size\":1},\"mode\":\"markers\",\"showlegend\":false,\"text\":[\"ID: 177, Pos(6.05,12.04)\"],\"x\":[6.054862661755736],\"y\":[12.035707038924079],\"type\":\"scatter\"},{\"hoverinfo\":\"text\",\"marker\":{\"opacity\":1,\"size\":1},\"mode\":\"markers\",\"showlegend\":false,\"text\":[\"ID: 178, Pos(3.37,11.11)\"],\"x\":[3.372159139110701],\"y\":[11.105923941512765],\"type\":\"scatter\"},{\"hoverinfo\":\"text\",\"marker\":{\"opacity\":1,\"size\":1},\"mode\":\"markers\",\"showlegend\":false,\"text\":[\"ID: 179, Pos(6.85,12.58)\"],\"x\":[6.846326486130385],\"y\":[12.576604344186332],\"type\":\"scatter\"},{\"hoverinfo\":\"text\",\"marker\":{\"opacity\":1,\"size\":1},\"mode\":\"markers\",\"showlegend\":false,\"text\":[\"ID: 180, Pos(3.39,11.84)\"],\"x\":[3.392994668244981],\"y\":[11.836542294180642],\"type\":\"scatter\"}],\"layout\":{\"shapes\":[{\"fillcolor\":\"rgba(0, 5, 255, 0.5)\",\"line\":{\"color\":\"rgba(0, 5, 255, 0.5)\"},\"type\":\"circle\",\"x0\":4.710053840320398,\"x1\":5.110053840320399,\"xref\":\"x\",\"y0\":11.669900883678583,\"y1\":12.069900883678581,\"yref\":\"y\"},{\"fillcolor\":\"rgba(0, 0, 128, 0.5)\",\"line\":{\"color\":\"rgba(0, 0, 128, 0.5)\"},\"type\":\"circle\",\"x0\":5.427715254763863,\"x1\":5.827715254763864,\"xref\":\"x\",\"y0\":12.35156316902829,\"y1\":12.75156316902829,\"yref\":\"y\"},{\"fillcolor\":\"rgba(173, 255, 73, 0.5)\",\"line\":{\"color\":\"rgba(173, 255, 73, 0.5)\"},\"type\":\"circle\",\"x0\":2.3753805918516715,\"x1\":2.775380591851672,\"xref\":\"x\",\"y0\":10.8571346567339,\"y1\":11.257134656733898,\"yref\":\"y\"},{\"fillcolor\":\"rgba(48, 255, 199, 0.5)\",\"line\":{\"color\":\"rgba(48, 255, 199, 0.5)\"},\"type\":\"circle\",\"x0\":3.9391080791107536,\"x1\":4.339108079110754,\"xref\":\"x\",\"y0\":11.192075061200008,\"y1\":11.592075061200006,\"yref\":\"y\"},{\"fillcolor\":\"rgba(0, 0, 146, 0.5)\",\"line\":{\"color\":\"rgba(0, 0, 146, 0.5)\"},\"type\":\"circle\",\"x0\":4.273104815018423,\"x1\":4.673104815018424,\"xref\":\"x\",\"y0\":12.061988961220765,\"y1\":12.461988961220763,\"yref\":\"y\"},{\"fillcolor\":\"rgba(0, 0, 128, 0.5)\",\"line\":{\"color\":\"rgba(0, 0, 128, 0.5)\"},\"type\":\"circle\",\"x0\":7.87284233587497,\"x1\":8.27284233587497,\"xref\":\"x\",\"y0\":12.397751458406029,\"y1\":12.797751458406028,\"yref\":\"y\"},{\"fillcolor\":\"rgba(0, 0, 128, 0.5)\",\"line\":{\"color\":\"rgba(0, 0, 128, 0.5)\"},\"type\":\"circle\",\"x0\":5.854862661755736,\"x1\":6.254862661755737,\"xref\":\"x\",\"y0\":11.83570703892408,\"y1\":12.235707038924078,\"yref\":\"y\"},{\"fillcolor\":\"rgba(148, 255, 99, 0.5)\",\"line\":{\"color\":\"rgba(148, 255, 99, 0.5)\"},\"type\":\"circle\",\"x0\":3.172159139110701,\"x1\":3.5721591391107013,\"xref\":\"x\",\"y0\":10.905923941512766,\"y1\":11.305923941512765,\"yref\":\"y\"},{\"fillcolor\":\"rgba(0, 0, 128, 0.5)\",\"line\":{\"color\":\"rgba(0, 0, 128, 0.5)\"},\"type\":\"circle\",\"x0\":6.646326486130385,\"x1\":7.046326486130385,\"xref\":\"x\",\"y0\":12.376604344186333,\"y1\":12.776604344186332,\"yref\":\"y\"},{\"fillcolor\":\"rgba(0, 0, 187, 0.5)\",\"line\":{\"color\":\"rgba(0, 0, 187, 0.5)\"},\"type\":\"circle\",\"x0\":3.192994668244981,\"x1\":3.592994668244981,\"xref\":\"x\",\"y0\":11.636542294180643,\"y1\":12.036542294180641,\"yref\":\"y\"},{\"line\":{\"color\":\"white\",\"width\":3},\"type\":\"line\",\"x0\":4.910053840320399,\"x1\":5.101573183055676,\"y0\":11.869900883678582,\"y1\":11.927523286945432},{\"line\":{\"color\":\"white\",\"width\":3},\"type\":\"line\",\"x0\":5.627715254763864,\"x1\":5.826136935029311,\"y0\":12.55156316902829,\"y1\":12.576639787632812},{\"line\":{\"color\":\"black\",\"width\":3},\"type\":\"line\",\"x0\":2.5753805918516717,\"x1\":2.7667135552950666,\"y0\":11.057134656733899,\"y1\":11.11537293538264},{\"line\":{\"color\":\"black\",\"width\":3},\"type\":\"line\",\"x0\":4.139108079110754,\"x1\":4.326772531873403,\"y0\":11.392075061200007,\"y1\":11.461227452115255},{\"line\":{\"color\":\"white\",\"width\":3},\"type\":\"line\",\"x0\":4.473104815018424,\"x1\":4.650764646033634,\"y0\":12.261988961220764,\"y1\":12.35384202019893},{\"line\":{\"color\":\"white\",\"width\":3},\"type\":\"line\",\"x0\":8.07284233587497,\"x1\":8.26885086066547,\"y0\":12.597751458406028,\"y1\":12.637508950900548},{\"line\":{\"color\":\"white\",\"width\":3},\"type\":\"line\",\"x0\":6.054862661755736,\"x1\":6.252466508971626,\"y0\":12.035707038924079,\"y1\":12.066573194588164},{\"line\":{\"color\":\"black\",\"width\":3},\"type\":\"line\",\"x0\":3.372159139110701,\"x1\":3.565184331981998,\"y0\":11.105923941512765,\"y1\":11.158281127428346},{\"line\":{\"color\":\"white\",\"width\":3},\"type\":\"line\",\"x0\":6.846326486130385,\"x1\":7.043361834265626,\"y0\":12.576604344186332,\"y1\":12.610912821057573},{\"line\":{\"color\":\"white\",\"width\":3},\"type\":\"line\",\"x0\":3.392994668244981,\"x1\":3.585740663147336,\"y0\":11.836542294180642,\"y1\":11.889918144985113}],\"title\":{\"text\":\"\\u003cb\\u003ePercentage using the shortest path: 0%  |  Number of Agents: 10\\u003c\\u002fb\\u003e\",\"x\":0.5}},\"name\":\"450\"},{\"data\":[{\"hoverinfo\":\"name\",\"line\":{\"color\":\"white\"},\"mode\":\"lines\",\"name\":\"Exterior\",\"showlegend\":false,\"x\":[10.1,10.1,15.0,15.0,13.6,13.6,15.0,15.0,13.6,13.6,15.0,15.0,10.1,10.1,9.9,9.9,5.1,5.1,4.9,4.9,0.0,0.0,1.5,1.5,0.0,0.0,1.5,1.5,0.0,0.0,4.9,4.9,5.1,5.1,9.9,9.9,10.1],\"y\":[1.5,0.0,0.0,4.9,4.9,5.1,5.1,9.9,9.9,10.1,10.1,15.0,15.0,13.6,13.6,15.0,15.0,13.6,13.6,15.0,15.0,10.1,10.1,9.9,9.9,5.1,5.1,4.9,4.9,0.0,0.0,1.5,1.5,0.0,0.0,1.5,1.5],\"type\":\"scatter\"},{\"hoverinfo\":\"name\",\"line\":{\"color\":\"white\"},\"mode\":\"lines\",\"name\":\"Obstacle\",\"showlegend\":false,\"x\":[10.1,11.5,11.5,10.1,10.1,9.9,9.9,8.6,8.6,9.9,9.9,10.1,10.1],\"y\":[5.1,5.1,4.9,4.9,3.6,3.6,4.9,4.9,5.1,5.1,6.5,6.5,5.1],\"type\":\"scatter\"},{\"hoverinfo\":\"name\",\"line\":{\"color\":\"white\"},\"mode\":\"lines\",\"name\":\"Obstacle\",\"showlegend\":false,\"x\":[10.1,11.5,11.5,10.1,10.1,9.9,9.9,8.6,8.6,9.9,9.9,10.1,10.1],\"y\":[10.1,10.1,9.9,9.9,8.6,8.6,9.9,9.9,10.1,10.1,11.5,11.5,10.1],\"type\":\"scatter\"},{\"hoverinfo\":\"name\",\"line\":{\"color\":\"white\"},\"mode\":\"lines\",\"name\":\"Obstacle\",\"showlegend\":false,\"x\":[5.1,6.4,6.4,5.1,5.1,4.9,4.9,3.6,3.6,4.9,4.9,5.1,5.1],\"y\":[5.1,5.1,4.9,4.9,3.6,3.6,4.9,4.9,5.1,5.1,6.5,6.5,5.1],\"type\":\"scatter\"},{\"hoverinfo\":\"name\",\"line\":{\"color\":\"white\"},\"mode\":\"lines\",\"name\":\"Obstacle\",\"showlegend\":false,\"x\":[5.1,6.4,6.4,5.1,5.1,4.9,4.9,3.6,3.6,4.9,4.9,5.1,5.1],\"y\":[10.1,10.1,9.9,9.9,8.6,8.6,9.9,9.9,10.1,10.1,11.5,11.5,10.1],\"type\":\"scatter\"},{\"fill\":\"toself\",\"fillcolor\":\"rgb(0, 0, 0)\",\"hoverinfo\":\"name\",\"line\":{\"width\":0},\"mode\":\"lines\",\"name\":\"Risk Area\",\"showlegend\":false,\"x\":[1.5,1.5,3.6,3.6,4.9,4.9,5.0,5.0,4.9,4.9,0.0,0.0,1.5],\"y\":[4.9,5.0,5.0,4.9,4.9,3.6,3.6,1.5,1.5,0.0,0.0,4.9,4.9],\"type\":\"scatter\"},{\"fill\":\"toself\",\"fillcolor\":\"rgb(178, 0, 0)\",\"hoverinfo\":\"name\",\"line\":{\"width\":0},\"mode\":\"lines\",\"name\":\"Risk Area\",\"showlegend\":false,\"x\":[9.9,9.9,5.1,5.1,5.0,5.0,5.1,5.1,6.4,6.4,8.6,8.6,9.9,9.9,10.0,10.0,9.9],\"y\":[1.5,0.0,0.0,1.5,1.5,3.6,3.6,4.9,4.9,5.0,5.0,4.9,4.9,3.6,3.6,1.5,1.5],\"type\":\"scatter\"},{\"fill\":\"toself\",\"fillcolor\":\"rgb(25, 0, 0)\",\"hoverinfo\":\"name\",\"line\":{\"width\":0},\"mode\":\"lines\",\"name\":\"Risk Area\",\"showlegend\":false,\"x\":[13.6,15.0,15.0,10.1,10.1,10.0,10.0,10.1,10.1,11.5,11.5,13.6,13.6],\"y\":[4.9,4.9,0.0,0.0,1.5,1.5,3.6,3.6,4.9,4.9,5.0,5.0,4.9],\"type\":\"scatter\"},{\"fill\":\"toself\",\"fillcolor\":\"rgb(178, 0, 0)\",\"hoverinfo\":\"name\",\"line\":{\"width\":0},\"mode\":\"lines\",\"name\":\"Risk Area\",\"showlegend\":false,\"x\":[13.6,15.0,15.0,13.6,13.6,11.5,11.5,10.1,10.1,10.0,10.0,10.1,10.1,11.5,11.5,13.6,13.6],\"y\":[9.9,9.9,5.1,5.1,5.0,5.0,5.1,5.1,6.5,6.5,8.6,8.6,9.9,9.9,10.0,10.0,9.9],\"type\":\"scatter\"},{\"fill\":\"toself\",\"fillcolor\":\"rgb(204, 0, 0)\",\"hoverinfo\":\"name\",\"line\":{\"width\":0},\"mode\":\"lines\",\"name\":\"Risk Area\",\"showlegend\":false,\"x\":[9.9,9.9,8.6,8.6,6.4,6.4,5.1,5.1,5.0,5.0,5.1,5.1,6.4,6.4,8.6,8.6,9.9,9.9,10.0,10.0,9.9],\"y\":[6.5,5.1,5.1,5.0,5.0,5.1,5.1,6.5,6.5,8.6,8.6,9.9,9.9,10.0,10.0,9.9,9.9,8.6,8.6,6.5,6.5],\"type\":\"scatter\"},{\"fill\":\"toself\",\"fillcolor\":\"rgb(25, 0, 0)\",\"hoverinfo\":\"name\",\"line\":{\"width\":0},\"mode\":\"lines\",\"name\":\"Risk Area\",\"showlegend\":false,\"x\":[4.9,4.9,3.6,3.6,1.5,1.5,0.0,0.0,1.5,1.5,3.6,3.6,4.9,4.9,5.0,5.0,4.9],\"y\":[6.5,5.1,5.1,5.0,5.0,5.1,5.1,9.9,9.9,10.0,10.0,9.9,9.9,8.6,8.6,6.5,6.5],\"type\":\"scatter\"},{\"fill\":\"toself\",\"fillcolor\":\"rgb(51, 0, 0)\",\"hoverinfo\":\"name\",\"line\":{\"width\":0},\"mode\":\"lines\",\"name\":\"Risk Area\",\"showlegend\":false,\"x\":[1.5,0.0,0.0,4.9,4.9,5.0,5.0,4.9,4.9,3.6,3.6,1.5,1.5],\"y\":[10.1,10.1,15.0,15.0,13.6,13.6,11.5,11.5,10.1,10.1,10.0,10.0,10.1],\"type\":\"scatter\"},{\"fill\":\"toself\",\"fillcolor\":\"rgb(0, 0, 0)\",\"hoverinfo\":\"name\",\"line\":{\"width\":0},\"mode\":\"lines\",\"name\":\"Risk Area\",\"showlegend\":false,\"x\":[6.4,5.1,5.1,5.0,5.0,5.1,5.1,9.9,9.9,10.0,10.0,9.9,9.9,8.6,8.6,6.4,6.4],\"y\":[10.1,10.1,11.5,11.5,13.6,13.6,15.0,15.0,13.6,13.6,11.5,11.5,10.1,10.1,10.0,10.0,10.1],\"type\":\"scatter\"},{\"fill\":\"toself\",\"fillcolor\":\"rgb(0, 0, 0)\",\"hoverinfo\":\"name\",\"line\":{\"width\":0},\"mode\":\"lines\",\"name\":\"Risk Area\",\"showlegend\":false,\"x\":[10.1,10.1,15.0,15.0,13.6,13.6,11.5,11.5,10.1,10.1,10.0,10.0,10.1],\"y\":[13.6,15.0,15.0,10.1,10.1,10.0,10.0,10.1,10.1,11.5,11.5,13.6,13.6],\"type\":\"scatter\"},{\"hoverinfo\":\"text\",\"marker\":{\"opacity\":1,\"size\":1},\"mode\":\"markers\",\"showlegend\":false,\"text\":[\"ID: 171, Pos(6.46,12.07)\"],\"x\":[6.459100054472618],\"y\":[12.065808819787904],\"type\":\"scatter\"},{\"hoverinfo\":\"text\",\"marker\":{\"opacity\":1,\"size\":1},\"mode\":\"markers\",\"showlegend\":false,\"text\":[\"ID: 172, Pos(7.19,12.87)\"],\"x\":[7.1933292390534245],\"y\":[12.867273666103213],\"type\":\"scatter\"},{\"hoverinfo\":\"text\",\"marker\":{\"opacity\":1,\"size\":1},\"mode\":\"markers\",\"showlegend\":false,\"text\":[\"ID: 173, Pos(3.43,11.31)\"],\"x\":[3.433629336478838],\"y\":[11.313549058583012],\"type\":\"scatter\"},{\"hoverinfo\":\"text\",\"marker\":{\"opacity\":1,\"size\":1},\"mode\":\"markers\",\"showlegend\":false,\"text\":[\"ID: 174, Pos(5.26,11.93)\"],\"x\":[5.257985878386476],\"y\":[11.928254313728782],\"type\":\"scatter\"},{\"hoverinfo\":\"text\",\"marker\":{\"opacity\":1,\"size\":1},\"mode\":\"markers\",\"showlegend\":false,\"text\":[\"ID: 175, Pos(6.03,12.59)\"],\"x\":[6.025582940826339],\"y\":[12.586794357095547],\"type\":\"scatter\"},{\"hoverinfo\":\"text\",\"marker\":{\"opacity\":1,\"size\":1},\"mode\":\"markers\",\"showlegend\":false,\"text\":[\"ID: 176, Pos(9.64,12.92)\"],\"x\":[9.64090539165544],\"y\":[12.915836747782098],\"type\":\"scatter\"},{\"hoverinfo\":\"text\",\"marker\":{\"opacity\":1,\"size\":1},\"mode\":\"markers\",\"showlegend\":false,\"text\":[\"ID: 177, Pos(7.64,12.25)\"],\"x\":[7.6397799004895885],\"y\":[12.247317912817934],\"type\":\"scatter\"},{\"hoverinfo\":\"text\",\"marker\":{\"opacity\":1,\"size\":1},\"mode\":\"markers\",\"showlegend\":false,\"text\":[\"ID: 178, Pos(4.34,11.46)\"],\"x\":[4.338628833699183],\"y\":[11.463184266724607],\"type\":\"scatter\"},{\"hoverinfo\":\"text\",\"marker\":{\"opacity\":1,\"size\":1},\"mode\":\"markers\",\"showlegend\":false,\"text\":[\"ID: 179, Pos(8.42,12.85)\"],\"x\":[8.422869447640453],\"y\":[12.849572745101298],\"type\":\"scatter\"},{\"hoverinfo\":\"text\",\"marker\":{\"opacity\":1,\"size\":1},\"mode\":\"markers\",\"showlegend\":false,\"text\":[\"ID: 180, Pos(4.84,12.41)\"],\"x\":[4.836618353299724],\"y\":[12.40537877624748],\"type\":\"scatter\"}],\"layout\":{\"shapes\":[{\"fillcolor\":\"rgba(0, 0, 132, 0.5)\",\"line\":{\"color\":\"rgba(0, 0, 132, 0.5)\"},\"type\":\"circle\",\"x0\":6.259100054472618,\"x1\":6.659100054472618,\"xref\":\"x\",\"y0\":11.865808819787905,\"y1\":12.265808819787903,\"yref\":\"y\"},{\"fillcolor\":\"rgba(0, 0, 128, 0.5)\",\"line\":{\"color\":\"rgba(0, 0, 128, 0.5)\"},\"type\":\"circle\",\"x0\":6.993329239053424,\"x1\":7.393329239053425,\"xref\":\"x\",\"y0\":12.667273666103213,\"y1\":13.067273666103212,\"yref\":\"y\"},{\"fillcolor\":\"rgba(38, 255, 209, 0.5)\",\"line\":{\"color\":\"rgba(38, 255, 209, 0.5)\"},\"type\":\"circle\",\"x0\":3.2336293364788378,\"x1\":3.633629336478838,\"xref\":\"x\",\"y0\":11.113549058583013,\"y1\":11.513549058583012,\"yref\":\"y\"},{\"fillcolor\":\"rgba(0, 0, 128, 0.5)\",\"line\":{\"color\":\"rgba(0, 0, 128, 0.5)\"},\"type\":\"circle\",\"x0\":5.057985878386476,\"x1\":5.457985878386476,\"xref\":\"x\",\"y0\":11.728254313728783,\"y1\":12.128254313728782,\"yref\":\"y\"},{\"fillcolor\":\"rgba(0, 0, 132, 0.5)\",\"line\":{\"color\":\"rgba(0, 0, 132, 0.5)\"},\"type\":\"circle\",\"x0\":5.825582940826338,\"x1\":6.225582940826339,\"xref\":\"x\",\"y0\":12.386794357095548,\"y1\":12.786794357095546,\"yref\":\"y\"},{\"fillcolor\":\"rgba(0, 0, 128, 0.5)\",\"line\":{\"color\":\"rgba(0, 0, 128, 0.5)\"},\"type\":\"circle\",\"x0\":9.440905391655441,\"x1\":9.84090539165544,\"xref\":\"x\",\"y0\":12.715836747782099,\"y1\":13.115836747782097,\"yref\":\"y\"},{\"fillcolor\":\"rgba(0, 0, 128, 0.5)\",\"line\":{\"color\":\"rgba(0, 0, 128, 0.5)\"},\"type\":\"circle\",\"x0\":7.439779900489588,\"x1\":7.839779900489589,\"xref\":\"x\",\"y0\":12.047317912817935,\"y1\":12.447317912817933,\"yref\":\"y\"},{\"fillcolor\":\"rgba(0, 117, 255, 0.5)\",\"line\":{\"color\":\"rgba(0, 117, 255, 0.5)\"},\"type\":\"circle\",\"x0\":4.138628833699183,\"x1\":4.538628833699184,\"xref\":\"x\",\"y0\":11.263184266724608,\"y1\":11.663184266724606,\"yref\":\"y\"},{\"fillcolor\":\"rgba(0, 0, 128, 0.5)\",\"line\":{\"color\":\"rgba(0, 0, 128, 0.5)\"},\"type\":\"circle\",\"x0\":8.222869447640454,\"x1\":8.622869447640452,\"xref\":\"x\",\"y0\":12.649572745101299,\"y1\":13.049572745101297,\"yref\":\"y\"},{\"fillcolor\":\"rgba(0, 0, 128, 0.5)\",\"line\":{\"color\":\"rgba(0, 0, 128, 0.5)\"},\"type\":\"circle\",\"x0\":4.636618353299724,\"x1\":5.036618353299724,\"xref\":\"x\",\"y0\":12.20537877624748,\"y1\":12.605378776247479,\"yref\":\"y\"},{\"line\":{\"color\":\"white\",\"width\":3},\"type\":\"line\",\"x0\":6.459100054472618,\"x1\":6.6582965042257145,\"y0\":12.065808819787904,\"y1\":12.083718995827295},{\"line\":{\"color\":\"white\",\"width\":3},\"type\":\"line\",\"x0\":7.1933292390534245,\"x1\":7.389422386646309,\"y0\":12.867273666103213,\"y1\":12.906611656228726},{\"line\":{\"color\":\"black\",\"width\":3},\"type\":\"line\",\"x0\":3.433629336478838,\"x1\":3.625521445758402,\"y0\":11.313549058583012,\"y1\":11.369917652642469},{\"line\":{\"color\":\"white\",\"width\":3},\"type\":\"line\",\"x0\":5.257985878386476,\"x1\":5.456854433410359,\"y0\":11.928254313728782,\"y1\":11.949498085115069},{\"line\":{\"color\":\"white\",\"width\":3},\"type\":\"line\",\"x0\":6.025582940826339,\"x1\":6.216404168246302,\"y0\":12.586794357095547,\"y1\":12.64668808937146},{\"line\":{\"color\":\"white\",\"width\":3},\"type\":\"line\",\"x0\":9.64090539165544,\"x1\":9.836919510228823,\"y0\":12.915836747782098,\"y1\":12.95556665238682},{\"line\":{\"color\":\"white\",\"width\":3},\"type\":\"line\",\"x0\":7.6397799004895885,\"x1\":7.83669000985345,\"y0\":12.247317912817934,\"y1\":12.282338033181976},{\"line\":{\"color\":\"white\",\"width\":3},\"type\":\"line\",\"x0\":4.338628833699183,\"x1\":4.523188977078295,\"y0\":11.463184266724607,\"y1\":11.54023978875828},{\"line\":{\"color\":\"white\",\"width\":3},\"type\":\"line\",\"x0\":8.422869447640453,\"x1\":8.619959188279779,\"y0\":12.849572745101298,\"y1\":12.883567364303799},{\"line\":{\"color\":\"white\",\"width\":3},\"type\":\"line\",\"x0\":4.836618353299724,\"x1\":5.029822668827726,\"y0\":12.40537877624748,\"y1\":12.457071062532343}],\"title\":{\"text\":\"\\u003cb\\u003ePercentage using the shortest path: 0%  |  Number of Agents: 10\\u003c\\u002fb\\u003e\",\"x\":0.5}},\"name\":\"500\"},{\"data\":[{\"hoverinfo\":\"name\",\"line\":{\"color\":\"white\"},\"mode\":\"lines\",\"name\":\"Exterior\",\"showlegend\":false,\"x\":[10.1,10.1,15.0,15.0,13.6,13.6,15.0,15.0,13.6,13.6,15.0,15.0,10.1,10.1,9.9,9.9,5.1,5.1,4.9,4.9,0.0,0.0,1.5,1.5,0.0,0.0,1.5,1.5,0.0,0.0,4.9,4.9,5.1,5.1,9.9,9.9,10.1],\"y\":[1.5,0.0,0.0,4.9,4.9,5.1,5.1,9.9,9.9,10.1,10.1,15.0,15.0,13.6,13.6,15.0,15.0,13.6,13.6,15.0,15.0,10.1,10.1,9.9,9.9,5.1,5.1,4.9,4.9,0.0,0.0,1.5,1.5,0.0,0.0,1.5,1.5],\"type\":\"scatter\"},{\"hoverinfo\":\"name\",\"line\":{\"color\":\"white\"},\"mode\":\"lines\",\"name\":\"Obstacle\",\"showlegend\":false,\"x\":[10.1,11.5,11.5,10.1,10.1,9.9,9.9,8.6,8.6,9.9,9.9,10.1,10.1],\"y\":[5.1,5.1,4.9,4.9,3.6,3.6,4.9,4.9,5.1,5.1,6.5,6.5,5.1],\"type\":\"scatter\"},{\"hoverinfo\":\"name\",\"line\":{\"color\":\"white\"},\"mode\":\"lines\",\"name\":\"Obstacle\",\"showlegend\":false,\"x\":[10.1,11.5,11.5,10.1,10.1,9.9,9.9,8.6,8.6,9.9,9.9,10.1,10.1],\"y\":[10.1,10.1,9.9,9.9,8.6,8.6,9.9,9.9,10.1,10.1,11.5,11.5,10.1],\"type\":\"scatter\"},{\"hoverinfo\":\"name\",\"line\":{\"color\":\"white\"},\"mode\":\"lines\",\"name\":\"Obstacle\",\"showlegend\":false,\"x\":[5.1,6.4,6.4,5.1,5.1,4.9,4.9,3.6,3.6,4.9,4.9,5.1,5.1],\"y\":[5.1,5.1,4.9,4.9,3.6,3.6,4.9,4.9,5.1,5.1,6.5,6.5,5.1],\"type\":\"scatter\"},{\"hoverinfo\":\"name\",\"line\":{\"color\":\"white\"},\"mode\":\"lines\",\"name\":\"Obstacle\",\"showlegend\":false,\"x\":[5.1,6.4,6.4,5.1,5.1,4.9,4.9,3.6,3.6,4.9,4.9,5.1,5.1],\"y\":[10.1,10.1,9.9,9.9,8.6,8.6,9.9,9.9,10.1,10.1,11.5,11.5,10.1],\"type\":\"scatter\"},{\"fill\":\"toself\",\"fillcolor\":\"rgb(0, 0, 0)\",\"hoverinfo\":\"name\",\"line\":{\"width\":0},\"mode\":\"lines\",\"name\":\"Risk Area\",\"showlegend\":false,\"x\":[1.5,1.5,3.6,3.6,4.9,4.9,5.0,5.0,4.9,4.9,0.0,0.0,1.5],\"y\":[4.9,5.0,5.0,4.9,4.9,3.6,3.6,1.5,1.5,0.0,0.0,4.9,4.9],\"type\":\"scatter\"},{\"fill\":\"toself\",\"fillcolor\":\"rgb(178, 0, 0)\",\"hoverinfo\":\"name\",\"line\":{\"width\":0},\"mode\":\"lines\",\"name\":\"Risk Area\",\"showlegend\":false,\"x\":[9.9,9.9,5.1,5.1,5.0,5.0,5.1,5.1,6.4,6.4,8.6,8.6,9.9,9.9,10.0,10.0,9.9],\"y\":[1.5,0.0,0.0,1.5,1.5,3.6,3.6,4.9,4.9,5.0,5.0,4.9,4.9,3.6,3.6,1.5,1.5],\"type\":\"scatter\"},{\"fill\":\"toself\",\"fillcolor\":\"rgb(25, 0, 0)\",\"hoverinfo\":\"name\",\"line\":{\"width\":0},\"mode\":\"lines\",\"name\":\"Risk Area\",\"showlegend\":false,\"x\":[13.6,15.0,15.0,10.1,10.1,10.0,10.0,10.1,10.1,11.5,11.5,13.6,13.6],\"y\":[4.9,4.9,0.0,0.0,1.5,1.5,3.6,3.6,4.9,4.9,5.0,5.0,4.9],\"type\":\"scatter\"},{\"fill\":\"toself\",\"fillcolor\":\"rgb(178, 0, 0)\",\"hoverinfo\":\"name\",\"line\":{\"width\":0},\"mode\":\"lines\",\"name\":\"Risk Area\",\"showlegend\":false,\"x\":[13.6,15.0,15.0,13.6,13.6,11.5,11.5,10.1,10.1,10.0,10.0,10.1,10.1,11.5,11.5,13.6,13.6],\"y\":[9.9,9.9,5.1,5.1,5.0,5.0,5.1,5.1,6.5,6.5,8.6,8.6,9.9,9.9,10.0,10.0,9.9],\"type\":\"scatter\"},{\"fill\":\"toself\",\"fillcolor\":\"rgb(204, 0, 0)\",\"hoverinfo\":\"name\",\"line\":{\"width\":0},\"mode\":\"lines\",\"name\":\"Risk Area\",\"showlegend\":false,\"x\":[9.9,9.9,8.6,8.6,6.4,6.4,5.1,5.1,5.0,5.0,5.1,5.1,6.4,6.4,8.6,8.6,9.9,9.9,10.0,10.0,9.9],\"y\":[6.5,5.1,5.1,5.0,5.0,5.1,5.1,6.5,6.5,8.6,8.6,9.9,9.9,10.0,10.0,9.9,9.9,8.6,8.6,6.5,6.5],\"type\":\"scatter\"},{\"fill\":\"toself\",\"fillcolor\":\"rgb(76, 0, 0)\",\"hoverinfo\":\"name\",\"line\":{\"width\":0},\"mode\":\"lines\",\"name\":\"Risk Area\",\"showlegend\":false,\"x\":[4.9,4.9,3.6,3.6,1.5,1.5,0.0,0.0,1.5,1.5,3.6,3.6,4.9,4.9,5.0,5.0,4.9],\"y\":[6.5,5.1,5.1,5.0,5.0,5.1,5.1,9.9,9.9,10.0,10.0,9.9,9.9,8.6,8.6,6.5,6.5],\"type\":\"scatter\"},{\"fill\":\"toself\",\"fillcolor\":\"rgb(51, 0, 0)\",\"hoverinfo\":\"name\",\"line\":{\"width\":0},\"mode\":\"lines\",\"name\":\"Risk Area\",\"showlegend\":false,\"x\":[1.5,0.0,0.0,4.9,4.9,5.0,5.0,4.9,4.9,3.6,3.6,1.5,1.5],\"y\":[10.1,10.1,15.0,15.0,13.6,13.6,11.5,11.5,10.1,10.1,10.0,10.0,10.1],\"type\":\"scatter\"},{\"fill\":\"toself\",\"fillcolor\":\"rgb(0, 0, 0)\",\"hoverinfo\":\"name\",\"line\":{\"width\":0},\"mode\":\"lines\",\"name\":\"Risk Area\",\"showlegend\":false,\"x\":[6.4,5.1,5.1,5.0,5.0,5.1,5.1,9.9,9.9,10.0,10.0,9.9,9.9,8.6,8.6,6.4,6.4],\"y\":[10.1,10.1,11.5,11.5,13.6,13.6,15.0,15.0,13.6,13.6,11.5,11.5,10.1,10.1,10.0,10.0,10.1],\"type\":\"scatter\"},{\"fill\":\"toself\",\"fillcolor\":\"rgb(0, 0, 0)\",\"hoverinfo\":\"name\",\"line\":{\"width\":0},\"mode\":\"lines\",\"name\":\"Risk Area\",\"showlegend\":false,\"x\":[10.1,10.1,15.0,15.0,13.6,13.6,11.5,11.5,10.1,10.1,10.0,10.0,10.1],\"y\":[13.6,15.0,15.0,10.1,10.1,10.0,10.0,10.1,10.1,11.5,11.5,13.6,13.6],\"type\":\"scatter\"},{\"hoverinfo\":\"text\",\"marker\":{\"opacity\":1,\"size\":1},\"mode\":\"markers\",\"showlegend\":false,\"text\":[\"ID: 171, Pos(8.03,12.32)\"],\"x\":[8.034369255207718],\"y\":[12.316817579537963],\"type\":\"scatter\"},{\"hoverinfo\":\"text\",\"marker\":{\"opacity\":1,\"size\":1},\"mode\":\"markers\",\"showlegend\":false,\"text\":[\"ID: 172, Pos(8.77,13.16)\"],\"x\":[8.765474156658955],\"y\":[13.164422946364414],\"type\":\"scatter\"},{\"hoverinfo\":\"text\",\"marker\":{\"opacity\":1,\"size\":1},\"mode\":\"markers\",\"showlegend\":false,\"text\":[\"ID: 173, Pos(4.53,11.64)\"],\"x\":[4.527028406890869],\"y\":[11.638635978563261],\"type\":\"scatter\"},{\"hoverinfo\":\"text\",\"marker\":{\"opacity\":1,\"size\":1},\"mode\":\"markers\",\"showlegend\":false,\"text\":[\"ID: 174, Pos(6.85,12.11)\"],\"x\":[6.846885413563132],\"y\":[12.11189089807584],\"type\":\"scatter\"},{\"hoverinfo\":\"text\",\"marker\":{\"opacity\":1,\"size\":1},\"mode\":\"markers\",\"showlegend\":false,\"text\":[\"ID: 175, Pos(7.59,12.94)\"],\"x\":[7.585757691436647],\"y\":[12.938806395622915],\"type\":\"scatter\"},{\"hoverinfo\":\"text\",\"marker\":{\"opacity\":1,\"size\":1},\"mode\":\"markers\",\"showlegend\":false,\"text\":[\"ID: 176, Pos(11.21,13.23)\"],\"x\":[11.209322439305359],\"y\":[13.232154820434447],\"type\":\"scatter\"},{\"hoverinfo\":\"text\",\"marker\":{\"opacity\":1,\"size\":1},\"mode\":\"markers\",\"showlegend\":false,\"text\":[\"ID: 177, Pos(9.21,12.54)\"],\"x\":[9.211893606013096],\"y\":[12.544631365344266],\"type\":\"scatter\"},{\"hoverinfo\":\"text\",\"marker\":{\"opacity\":1,\"size\":1},\"mode\":\"markers\",\"showlegend\":false,\"text\":[\"ID: 178, Pos(5.49,12.07)\"],\"x\":[5.49397768997114],\"y\":[12.067632189409485],\"type\":\"scatter\"},{\"hoverinfo\":\"text\",\"marker\":{\"opacity\":1,\"size\":1},\"mode\":\"markers\",\"showlegend\":false,\"text\":[\"ID: 179, Pos(10.00,13.11)\"],\"x\":[10.00081243573555],\"y\":[13.113869201136625],\"type\":\"scatter\"},{\"hoverinfo\":\"text\",\"marker\":{\"opacity\":1,\"size\":1},\"mode\":\"markers\",\"showlegend\":false,\"text\":[\"ID: 180, Pos(6.41,12.69)\"],\"x\":[6.407671384556447],\"y\":[12.691402282796602],\"type\":\"scatter\"}],\"layout\":{\"shapes\":[{\"fillcolor\":\"rgba(0, 0, 128, 0.5)\",\"line\":{\"color\":\"rgba(0, 0, 128, 0.5)\"},\"type\":\"circle\",\"x0\":7.834369255207718,\"x1\":8.234369255207717,\"xref\":\"x\",\"y0\":12.116817579537964,\"y1\":12.516817579537962,\"yref\":\"y\"},{\"fillcolor\":\"rgba(0, 0, 128, 0.5)\",\"line\":{\"color\":\"rgba(0, 0, 128, 0.5)\"},\"type\":\"circle\",\"x0\":8.565474156658956,\"x1\":8.965474156658955,\"xref\":\"x\",\"y0\":12.964422946364415,\"y1\":13.364422946364414,\"yref\":\"y\"},{\"fillcolor\":\"rgba(0, 69, 255, 0.5)\",\"line\":{\"color\":\"rgba(0, 69, 255, 0.5)\"},\"type\":\"circle\",\"x0\":4.327028406890869,\"x1\":4.727028406890869,\"xref\":\"x\",\"y0\":11.438635978563262,\"y1\":11.83863597856326,\"yref\":\"y\"},{\"fillcolor\":\"rgba(0, 0, 128, 0.5)\",\"line\":{\"color\":\"rgba(0, 0, 128, 0.5)\"},\"type\":\"circle\",\"x0\":6.6468854135631315,\"x1\":7.046885413563132,\"xref\":\"x\",\"y0\":11.911890898075841,\"y1\":12.31189089807584,\"yref\":\"y\"},{\"fillcolor\":\"rgba(0, 0, 128, 0.5)\",\"line\":{\"color\":\"rgba(0, 0, 128, 0.5)\"},\"type\":\"circle\",\"x0\":7.3857576914366465,\"x1\":7.785757691436647,\"xref\":\"x\",\"y0\":12.738806395622916,\"y1\":13.138806395622915,\"yref\":\"y\"},{\"fillcolor\":\"rgba(0, 0, 128, 0.5)\",\"line\":{\"color\":\"rgba(0, 0, 128, 0.5)\"},\"type\":\"circle\",\"x0\":11.00932243930536,\"x1\":11.409322439305358,\"xref\":\"x\",\"y0\":13.032154820434448,\"y1\":13.432154820434446,\"yref\":\"y\"},{\"fillcolor\":\"rgba(0, 0, 196, 0.5)\",\"line\":{\"color\":\"rgba(0, 0, 196, 0.5)\"},\"type\":\"circle\",\"x0\":9.011893606013096,\"x1\":9.411893606013095,\"xref\":\"x\",\"y0\":12.344631365344267,\"y1\":12.744631365344265,\"yref\":\"y\"},{\"fillcolor\":\"rgba(0, 0, 128, 0.5)\",\"line\":{\"color\":\"rgba(0, 0, 128, 0.5)\"},\"type\":\"circle\",\"x0\":5.29397768997114,\"x1\":5.69397768997114,\"xref\":\"x\",\"y0\":11.867632189409486,\"y1\":12.267632189409484,\"yref\":\"y\"},{\"fillcolor\":\"rgba(0, 0, 128, 0.5)\",\"line\":{\"color\":\"rgba(0, 0, 128, 0.5)\"},\"type\":\"circle\",\"x0\":9.800812435735551,\"x1\":10.20081243573555,\"xref\":\"x\",\"y0\":12.913869201136626,\"y1\":13.313869201136624,\"yref\":\"y\"},{\"fillcolor\":\"rgba(0, 0, 128, 0.5)\",\"line\":{\"color\":\"rgba(0, 0, 128, 0.5)\"},\"type\":\"circle\",\"x0\":6.207671384556447,\"x1\":6.607671384556447,\"xref\":\"x\",\"y0\":12.491402282796603,\"y1\":12.891402282796601,\"yref\":\"y\"},{\"line\":{\"color\":\"white\",\"width\":3},\"type\":\"line\",\"x0\":8.034369255207718,\"x1\":8.230981926516304,\"y0\":12.316817579537963,\"y1\":12.353470785139958},{\"line\":{\"color\":\"white\",\"width\":3},\"type\":\"line\",\"x0\":8.765474156658955,\"x1\":8.962238034033797,\"y0\":13.164422946364414,\"y1\":13.200255565029789},{\"line\":{\"color\":\"white\",\"width\":3},\"type\":\"line\",\"x0\":4.527028406890869,\"x1\":4.71113486409787,\"y0\":11.638635978563261,\"y1\":11.716769277576464},{\"line\":{\"color\":\"white\",\"width\":3},\"type\":\"line\",\"x0\":6.846885413563132,\"x1\":7.044803932783528,\"y0\":12.11189089807584,\"y1\":12.140670400323197},{\"line\":{\"color\":\"white\",\"width\":3},\"type\":\"line\",\"x0\":7.585757691436647,\"x1\":7.782062034782288,\"y0\":12.938806395622915,\"y1\":12.977076550883071},{\"line\":{\"color\":\"white\",\"width\":3},\"type\":\"line\",\"x0\":11.209322439305359,\"x1\":11.405296365698161,\"y0\":13.232154820434447,\"y1\":13.272082507246836},{\"line\":{\"color\":\"white\",\"width\":3},\"type\":\"line\",\"x0\":9.211893606013096,\"x1\":9.408147876168968,\"y0\":12.544631365344266,\"y1\":12.583157479157958},{\"line\":{\"color\":\"white\",\"width\":3},\"type\":\"line\",\"x0\":5.49397768997114,\"x1\":5.689472021215555,\"y0\":12.067632189409485,\"y1\":12.109845533878966},{\"line\":{\"color\":\"white\",\"width\":3},\"type\":\"line\",\"x0\":10.00081243573555,\"x1\":10.199107193239849,\"y0\":13.113869201136625,\"y1\":13.139930458710111},{\"line\":{\"color\":\"white\",\"width\":3},\"type\":\"line\",\"x0\":6.407671384556447,\"x1\":6.60216626768464,\"y0\":12.691402282796602,\"y1\":12.738004218775167}],\"title\":{\"text\":\"\\u003cb\\u003ePercentage using the shortest path: 0%  |  Number of Agents: 10\\u003c\\u002fb\\u003e\",\"x\":0.5}},\"name\":\"550\"},{\"data\":[{\"hoverinfo\":\"name\",\"line\":{\"color\":\"white\"},\"mode\":\"lines\",\"name\":\"Exterior\",\"showlegend\":false,\"x\":[10.1,10.1,15.0,15.0,13.6,13.6,15.0,15.0,13.6,13.6,15.0,15.0,10.1,10.1,9.9,9.9,5.1,5.1,4.9,4.9,0.0,0.0,1.5,1.5,0.0,0.0,1.5,1.5,0.0,0.0,4.9,4.9,5.1,5.1,9.9,9.9,10.1],\"y\":[1.5,0.0,0.0,4.9,4.9,5.1,5.1,9.9,9.9,10.1,10.1,15.0,15.0,13.6,13.6,15.0,15.0,13.6,13.6,15.0,15.0,10.1,10.1,9.9,9.9,5.1,5.1,4.9,4.9,0.0,0.0,1.5,1.5,0.0,0.0,1.5,1.5],\"type\":\"scatter\"},{\"hoverinfo\":\"name\",\"line\":{\"color\":\"white\"},\"mode\":\"lines\",\"name\":\"Obstacle\",\"showlegend\":false,\"x\":[10.1,11.5,11.5,10.1,10.1,9.9,9.9,8.6,8.6,9.9,9.9,10.1,10.1],\"y\":[5.1,5.1,4.9,4.9,3.6,3.6,4.9,4.9,5.1,5.1,6.5,6.5,5.1],\"type\":\"scatter\"},{\"hoverinfo\":\"name\",\"line\":{\"color\":\"white\"},\"mode\":\"lines\",\"name\":\"Obstacle\",\"showlegend\":false,\"x\":[10.1,11.5,11.5,10.1,10.1,9.9,9.9,8.6,8.6,9.9,9.9,10.1,10.1],\"y\":[10.1,10.1,9.9,9.9,8.6,8.6,9.9,9.9,10.1,10.1,11.5,11.5,10.1],\"type\":\"scatter\"},{\"hoverinfo\":\"name\",\"line\":{\"color\":\"white\"},\"mode\":\"lines\",\"name\":\"Obstacle\",\"showlegend\":false,\"x\":[5.1,6.4,6.4,5.1,5.1,4.9,4.9,3.6,3.6,4.9,4.9,5.1,5.1],\"y\":[5.1,5.1,4.9,4.9,3.6,3.6,4.9,4.9,5.1,5.1,6.5,6.5,5.1],\"type\":\"scatter\"},{\"hoverinfo\":\"name\",\"line\":{\"color\":\"white\"},\"mode\":\"lines\",\"name\":\"Obstacle\",\"showlegend\":false,\"x\":[5.1,6.4,6.4,5.1,5.1,4.9,4.9,3.6,3.6,4.9,4.9,5.1,5.1],\"y\":[10.1,10.1,9.9,9.9,8.6,8.6,9.9,9.9,10.1,10.1,11.5,11.5,10.1],\"type\":\"scatter\"},{\"fill\":\"toself\",\"fillcolor\":\"rgb(0, 0, 0)\",\"hoverinfo\":\"name\",\"line\":{\"width\":0},\"mode\":\"lines\",\"name\":\"Risk Area\",\"showlegend\":false,\"x\":[1.5,1.5,3.6,3.6,4.9,4.9,5.0,5.0,4.9,4.9,0.0,0.0,1.5],\"y\":[4.9,5.0,5.0,4.9,4.9,3.6,3.6,1.5,1.5,0.0,0.0,4.9,4.9],\"type\":\"scatter\"},{\"fill\":\"toself\",\"fillcolor\":\"rgb(178, 0, 0)\",\"hoverinfo\":\"name\",\"line\":{\"width\":0},\"mode\":\"lines\",\"name\":\"Risk Area\",\"showlegend\":false,\"x\":[9.9,9.9,5.1,5.1,5.0,5.0,5.1,5.1,6.4,6.4,8.6,8.6,9.9,9.9,10.0,10.0,9.9],\"y\":[1.5,0.0,0.0,1.5,1.5,3.6,3.6,4.9,4.9,5.0,5.0,4.9,4.9,3.6,3.6,1.5,1.5],\"type\":\"scatter\"},{\"fill\":\"toself\",\"fillcolor\":\"rgb(25, 0, 0)\",\"hoverinfo\":\"name\",\"line\":{\"width\":0},\"mode\":\"lines\",\"name\":\"Risk Area\",\"showlegend\":false,\"x\":[13.6,15.0,15.0,10.1,10.1,10.0,10.0,10.1,10.1,11.5,11.5,13.6,13.6],\"y\":[4.9,4.9,0.0,0.0,1.5,1.5,3.6,3.6,4.9,4.9,5.0,5.0,4.9],\"type\":\"scatter\"},{\"fill\":\"toself\",\"fillcolor\":\"rgb(178, 0, 0)\",\"hoverinfo\":\"name\",\"line\":{\"width\":0},\"mode\":\"lines\",\"name\":\"Risk Area\",\"showlegend\":false,\"x\":[13.6,15.0,15.0,13.6,13.6,11.5,11.5,10.1,10.1,10.0,10.0,10.1,10.1,11.5,11.5,13.6,13.6],\"y\":[9.9,9.9,5.1,5.1,5.0,5.0,5.1,5.1,6.5,6.5,8.6,8.6,9.9,9.9,10.0,10.0,9.9],\"type\":\"scatter\"},{\"fill\":\"toself\",\"fillcolor\":\"rgb(204, 0, 0)\",\"hoverinfo\":\"name\",\"line\":{\"width\":0},\"mode\":\"lines\",\"name\":\"Risk Area\",\"showlegend\":false,\"x\":[9.9,9.9,8.6,8.6,6.4,6.4,5.1,5.1,5.0,5.0,5.1,5.1,6.4,6.4,8.6,8.6,9.9,9.9,10.0,10.0,9.9],\"y\":[6.5,5.1,5.1,5.0,5.0,5.1,5.1,6.5,6.5,8.6,8.6,9.9,9.9,10.0,10.0,9.9,9.9,8.6,8.6,6.5,6.5],\"type\":\"scatter\"},{\"fill\":\"toself\",\"fillcolor\":\"rgb(76, 0, 0)\",\"hoverinfo\":\"name\",\"line\":{\"width\":0},\"mode\":\"lines\",\"name\":\"Risk Area\",\"showlegend\":false,\"x\":[4.9,4.9,3.6,3.6,1.5,1.5,0.0,0.0,1.5,1.5,3.6,3.6,4.9,4.9,5.0,5.0,4.9],\"y\":[6.5,5.1,5.1,5.0,5.0,5.1,5.1,9.9,9.9,10.0,10.0,9.9,9.9,8.6,8.6,6.5,6.5],\"type\":\"scatter\"},{\"fill\":\"toself\",\"fillcolor\":\"rgb(51, 0, 0)\",\"hoverinfo\":\"name\",\"line\":{\"width\":0},\"mode\":\"lines\",\"name\":\"Risk Area\",\"showlegend\":false,\"x\":[1.5,0.0,0.0,4.9,4.9,5.0,5.0,4.9,4.9,3.6,3.6,1.5,1.5],\"y\":[10.1,10.1,15.0,15.0,13.6,13.6,11.5,11.5,10.1,10.1,10.0,10.0,10.1],\"type\":\"scatter\"},{\"fill\":\"toself\",\"fillcolor\":\"rgb(0, 0, 0)\",\"hoverinfo\":\"name\",\"line\":{\"width\":0},\"mode\":\"lines\",\"name\":\"Risk Area\",\"showlegend\":false,\"x\":[6.4,5.1,5.1,5.0,5.0,5.1,5.1,9.9,9.9,10.0,10.0,9.9,9.9,8.6,8.6,6.4,6.4],\"y\":[10.1,10.1,11.5,11.5,13.6,13.6,15.0,15.0,13.6,13.6,11.5,11.5,10.1,10.1,10.0,10.0,10.1],\"type\":\"scatter\"},{\"fill\":\"toself\",\"fillcolor\":\"rgb(0, 0, 0)\",\"hoverinfo\":\"name\",\"line\":{\"width\":0},\"mode\":\"lines\",\"name\":\"Risk Area\",\"showlegend\":false,\"x\":[10.1,10.1,15.0,15.0,13.6,13.6,11.5,11.5,10.1,10.1,10.0,10.0,10.1],\"y\":[13.6,15.0,15.0,10.1,10.1,10.0,10.0,10.1,10.1,11.5,11.5,13.6,13.6],\"type\":\"scatter\"},{\"hoverinfo\":\"text\",\"marker\":{\"opacity\":1,\"size\":1},\"mode\":\"markers\",\"showlegend\":false,\"text\":[\"ID: 171.0, Pos(9.50,12.59)\"],\"x\":[9.498152032258245],\"y\":[12.589527717843351],\"type\":\"scatter\"},{\"hoverinfo\":\"text\",\"marker\":{\"opacity\":1,\"size\":1},\"mode\":\"markers\",\"showlegend\":false,\"text\":[\"ID: 172.0, Pos(9.97,13.22)\"],\"x\":[9.96991608017276],\"y\":[13.221997907147845],\"type\":\"scatter\"},{\"hoverinfo\":\"text\",\"marker\":{\"opacity\":1,\"size\":1},\"mode\":\"markers\",\"showlegend\":false,\"text\":[\"ID: 173.0, Pos(5.90,12.16)\"],\"x\":[5.903521864616911],\"y\":[12.156287610784663],\"type\":\"scatter\"},{\"hoverinfo\":\"text\",\"marker\":{\"opacity\":1,\"size\":1},\"mode\":\"markers\",\"showlegend\":false,\"text\":[\"ID: 174.0, Pos(8.37,12.38)\"],\"x\":[8.368923704204148],\"y\":[12.375147653682578],\"type\":\"scatter\"},{\"hoverinfo\":\"text\",\"marker\":{\"opacity\":1,\"size\":1},\"mode\":\"markers\",\"showlegend\":false,\"text\":[\"ID: 175.0, Pos(9.04,13.22)\"],\"x\":[9.037126847045876],\"y\":[13.218377245895443],\"type\":\"scatter\"},{\"hoverinfo\":\"text\",\"marker\":{\"opacity\":1,\"size\":1},\"mode\":\"markers\",\"showlegend\":false,\"text\":[\"ID: 177.0, Pos(10.61,12.80)\"],\"x\":[10.612666325825968],\"y\":[12.803103418640557],\"type\":\"scatter\"},{\"hoverinfo\":\"text\",\"marker\":{\"opacity\":1,\"size\":1},\"mode\":\"markers\",\"showlegend\":false,\"text\":[\"ID: 178.0, Pos(7.06,12.39)\"],\"x\":[7.060835261523747],\"y\":[12.39146526367303],\"type\":\"scatter\"},{\"hoverinfo\":\"text\",\"marker\":{\"opacity\":1,\"size\":1},\"mode\":\"markers\",\"showlegend\":false,\"text\":[\"ID: 179.0, Pos(11.58,13.37)\"],\"x\":[11.57946935006059],\"y\":[13.372745986530312],\"type\":\"scatter\"},{\"hoverinfo\":\"text\",\"marker\":{\"opacity\":1,\"size\":1},\"mode\":\"markers\",\"showlegend\":false,\"text\":[\"ID: 180.0, Pos(7.95,13.01)\"],\"x\":[7.94866897927056],\"y\":[13.013034748584754],\"type\":\"scatter\"},{\"hoverinfo\":\"none\",\"marker\":{\"opacity\":0,\"size\":1},\"mode\":\"markers\",\"showlegend\":false,\"x\":[0.0],\"y\":[0.0],\"type\":\"scatter\"}],\"layout\":{\"shapes\":[{\"fillcolor\":\"rgba(0, 0, 232, 0.5)\",\"line\":{\"color\":\"rgba(0, 0, 232, 0.5)\"},\"type\":\"circle\",\"x0\":9.298152032258246,\"x1\":9.698152032258244,\"xref\":\"x\",\"y0\":12.389527717843352,\"y1\":12.78952771784335,\"yref\":\"y\"},{\"fillcolor\":\"rgba(209, 255, 38, 0.5)\",\"line\":{\"color\":\"rgba(209, 255, 38, 0.5)\"},\"type\":\"circle\",\"x0\":9.769916080172761,\"x1\":10.16991608017276,\"xref\":\"x\",\"y0\":13.021997907147846,\"y1\":13.421997907147844,\"yref\":\"y\"},{\"fillcolor\":\"rgba(0, 0, 155, 0.5)\",\"line\":{\"color\":\"rgba(0, 0, 155, 0.5)\"},\"type\":\"circle\",\"x0\":5.703521864616911,\"x1\":6.103521864616911,\"xref\":\"x\",\"y0\":11.956287610784663,\"y1\":12.356287610784662,\"yref\":\"y\"},{\"fillcolor\":\"rgba(0, 0, 209, 0.5)\",\"line\":{\"color\":\"rgba(0, 0, 209, 0.5)\"},\"type\":\"circle\",\"x0\":8.168923704204149,\"x1\":8.568923704204147,\"xref\":\"x\",\"y0\":12.17514765368258,\"y1\":12.575147653682578,\"yref\":\"y\"},{\"fillcolor\":\"rgba(15, 248, 231, 0.5)\",\"line\":{\"color\":\"rgba(15, 248, 231, 0.5)\"},\"type\":\"circle\",\"x0\":8.837126847045877,\"x1\":9.237126847045875,\"xref\":\"x\",\"y0\":13.018377245895444,\"y1\":13.418377245895442,\"yref\":\"y\"},{\"fillcolor\":\"rgba(0, 0, 255, 0.5)\",\"line\":{\"color\":\"rgba(0, 0, 255, 0.5)\"},\"type\":\"circle\",\"x0\":10.412666325825969,\"x1\":10.812666325825967,\"xref\":\"x\",\"y0\":12.603103418640558,\"y1\":13.003103418640556,\"yref\":\"y\"},{\"fillcolor\":\"rgba(0, 0, 128, 0.5)\",\"line\":{\"color\":\"rgba(0, 0, 128, 0.5)\"},\"type\":\"circle\",\"x0\":6.8608352615237465,\"x1\":7.260835261523747,\"xref\":\"x\",\"y0\":12.191465263673031,\"y1\":12.59146526367303,\"yref\":\"y\"},{\"fillcolor\":\"rgba(0, 0, 128, 0.5)\",\"line\":{\"color\":\"rgba(0, 0, 128, 0.5)\"},\"type\":\"circle\",\"x0\":11.37946935006059,\"x1\":11.77946935006059,\"xref\":\"x\",\"y0\":13.172745986530312,\"y1\":13.572745986530311,\"yref\":\"y\"},{\"fillcolor\":\"rgba(0, 0, 255, 0.5)\",\"line\":{\"color\":\"rgba(0, 0, 255, 0.5)\"},\"type\":\"circle\",\"x0\":7.74866897927056,\"x1\":8.14866897927056,\"xref\":\"x\",\"y0\":12.813034748584755,\"y1\":13.213034748584754,\"yref\":\"y\"},{\"fillcolor\":\"rgba(255,255,255,0)\",\"line\":{\"width\":0},\"type\":\"circle\",\"x0\":0.0,\"x1\":0.0,\"xref\":\"x\",\"y0\":0.0,\"y1\":0.0,\"yref\":\"y\"},{\"line\":{\"color\":\"white\",\"width\":3},\"type\":\"line\",\"x0\":9.498152032258245,\"x1\":9.69497890235098,\"y0\":12.589527717843351,\"y1\":12.625012689443983},{\"line\":{\"color\":\"black\",\"width\":3},\"type\":\"line\",\"x0\":9.96991608017276,\"x1\":10.16788591463563,\"y0\":13.221997907147845,\"y1\":13.193573540088153},{\"line\":{\"color\":\"white\",\"width\":3},\"type\":\"line\",\"x0\":5.903521864616911,\"x1\":6.099041335056934,\"y0\":12.156287610784663,\"y1\":12.198384364565126},{\"line\":{\"color\":\"white\",\"width\":3},\"type\":\"line\",\"x0\":8.368923704204148,\"x1\":8.565515885688493,\"y0\":12.375147653682578,\"y1\":12.411910599419098},{\"line\":{\"color\":\"black\",\"width\":3},\"type\":\"line\",\"x0\":9.037126847045876,\"x1\":9.234273267283104,\"y0\":13.218377245895443,\"y1\":13.252041603718606},{\"line\":{\"color\":\"white\",\"width\":3},\"type\":\"line\",\"x0\":10.612666325825968,\"x1\":10.806791078810239,\"y0\":12.803103418640557,\"y1\":12.851223895350536},{\"line\":{\"color\":\"white\",\"width\":3},\"type\":\"line\",\"x0\":7.060835261523747,\"x1\":7.256875292080792,\"y0\":12.39146526367303,\"y1\":12.431067112357058},{\"line\":{\"color\":\"white\",\"width\":3},\"type\":\"line\",\"x0\":11.57946935006059,\"x1\":11.776492052163295,\"y0\":13.372745986530312,\"y1\":13.40712701118271},{\"line\":{\"color\":\"white\",\"width\":3},\"type\":\"line\",\"x0\":7.94866897927056,\"x1\":8.145034956875401,\"y0\":13.013034748584754,\"y1\":13.050987388009375},{\"line\":{\"color\":\"rgba(255,255,255,0)\",\"width\":3},\"type\":\"line\",\"x0\":0.0,\"x1\":null,\"y0\":0.0,\"y1\":null}],\"title\":{\"text\":\"\\u003cb\\u003ePercentage using the shortest path: 0%  |  Number of Agents: 9\\u003c\\u002fb\\u003e\",\"x\":0.5}},\"name\":\"600\"},{\"data\":[{\"hoverinfo\":\"name\",\"line\":{\"color\":\"white\"},\"mode\":\"lines\",\"name\":\"Exterior\",\"showlegend\":false,\"x\":[10.1,10.1,15.0,15.0,13.6,13.6,15.0,15.0,13.6,13.6,15.0,15.0,10.1,10.1,9.9,9.9,5.1,5.1,4.9,4.9,0.0,0.0,1.5,1.5,0.0,0.0,1.5,1.5,0.0,0.0,4.9,4.9,5.1,5.1,9.9,9.9,10.1],\"y\":[1.5,0.0,0.0,4.9,4.9,5.1,5.1,9.9,9.9,10.1,10.1,15.0,15.0,13.6,13.6,15.0,15.0,13.6,13.6,15.0,15.0,10.1,10.1,9.9,9.9,5.1,5.1,4.9,4.9,0.0,0.0,1.5,1.5,0.0,0.0,1.5,1.5],\"type\":\"scatter\"},{\"hoverinfo\":\"name\",\"line\":{\"color\":\"white\"},\"mode\":\"lines\",\"name\":\"Obstacle\",\"showlegend\":false,\"x\":[10.1,11.5,11.5,10.1,10.1,9.9,9.9,8.6,8.6,9.9,9.9,10.1,10.1],\"y\":[5.1,5.1,4.9,4.9,3.6,3.6,4.9,4.9,5.1,5.1,6.5,6.5,5.1],\"type\":\"scatter\"},{\"hoverinfo\":\"name\",\"line\":{\"color\":\"white\"},\"mode\":\"lines\",\"name\":\"Obstacle\",\"showlegend\":false,\"x\":[10.1,11.5,11.5,10.1,10.1,9.9,9.9,8.6,8.6,9.9,9.9,10.1,10.1],\"y\":[10.1,10.1,9.9,9.9,8.6,8.6,9.9,9.9,10.1,10.1,11.5,11.5,10.1],\"type\":\"scatter\"},{\"hoverinfo\":\"name\",\"line\":{\"color\":\"white\"},\"mode\":\"lines\",\"name\":\"Obstacle\",\"showlegend\":false,\"x\":[5.1,6.4,6.4,5.1,5.1,4.9,4.9,3.6,3.6,4.9,4.9,5.1,5.1],\"y\":[5.1,5.1,4.9,4.9,3.6,3.6,4.9,4.9,5.1,5.1,6.5,6.5,5.1],\"type\":\"scatter\"},{\"hoverinfo\":\"name\",\"line\":{\"color\":\"white\"},\"mode\":\"lines\",\"name\":\"Obstacle\",\"showlegend\":false,\"x\":[5.1,6.4,6.4,5.1,5.1,4.9,4.9,3.6,3.6,4.9,4.9,5.1,5.1],\"y\":[10.1,10.1,9.9,9.9,8.6,8.6,9.9,9.9,10.1,10.1,11.5,11.5,10.1],\"type\":\"scatter\"},{\"fill\":\"toself\",\"fillcolor\":\"rgb(0, 0, 0)\",\"hoverinfo\":\"name\",\"line\":{\"width\":0},\"mode\":\"lines\",\"name\":\"Risk Area\",\"showlegend\":false,\"x\":[1.5,1.5,3.6,3.6,4.9,4.9,5.0,5.0,4.9,4.9,0.0,0.0,1.5],\"y\":[4.9,5.0,5.0,4.9,4.9,3.6,3.6,1.5,1.5,0.0,0.0,4.9,4.9],\"type\":\"scatter\"},{\"fill\":\"toself\",\"fillcolor\":\"rgb(178, 0, 0)\",\"hoverinfo\":\"name\",\"line\":{\"width\":0},\"mode\":\"lines\",\"name\":\"Risk Area\",\"showlegend\":false,\"x\":[9.9,9.9,5.1,5.1,5.0,5.0,5.1,5.1,6.4,6.4,8.6,8.6,9.9,9.9,10.0,10.0,9.9],\"y\":[1.5,0.0,0.0,1.5,1.5,3.6,3.6,4.9,4.9,5.0,5.0,4.9,4.9,3.6,3.6,1.5,1.5],\"type\":\"scatter\"},{\"fill\":\"toself\",\"fillcolor\":\"rgb(25, 0, 0)\",\"hoverinfo\":\"name\",\"line\":{\"width\":0},\"mode\":\"lines\",\"name\":\"Risk Area\",\"showlegend\":false,\"x\":[13.6,15.0,15.0,10.1,10.1,10.0,10.0,10.1,10.1,11.5,11.5,13.6,13.6],\"y\":[4.9,4.9,0.0,0.0,1.5,1.5,3.6,3.6,4.9,4.9,5.0,5.0,4.9],\"type\":\"scatter\"},{\"fill\":\"toself\",\"fillcolor\":\"rgb(178, 0, 0)\",\"hoverinfo\":\"name\",\"line\":{\"width\":0},\"mode\":\"lines\",\"name\":\"Risk Area\",\"showlegend\":false,\"x\":[13.6,15.0,15.0,13.6,13.6,11.5,11.5,10.1,10.1,10.0,10.0,10.1,10.1,11.5,11.5,13.6,13.6],\"y\":[9.9,9.9,5.1,5.1,5.0,5.0,5.1,5.1,6.5,6.5,8.6,8.6,9.9,9.9,10.0,10.0,9.9],\"type\":\"scatter\"},{\"fill\":\"toself\",\"fillcolor\":\"rgb(204, 0, 0)\",\"hoverinfo\":\"name\",\"line\":{\"width\":0},\"mode\":\"lines\",\"name\":\"Risk Area\",\"showlegend\":false,\"x\":[9.9,9.9,8.6,8.6,6.4,6.4,5.1,5.1,5.0,5.0,5.1,5.1,6.4,6.4,8.6,8.6,9.9,9.9,10.0,10.0,9.9],\"y\":[6.5,5.1,5.1,5.0,5.0,5.1,5.1,6.5,6.5,8.6,8.6,9.9,9.9,10.0,10.0,9.9,9.9,8.6,8.6,6.5,6.5],\"type\":\"scatter\"},{\"fill\":\"toself\",\"fillcolor\":\"rgb(76, 0, 0)\",\"hoverinfo\":\"name\",\"line\":{\"width\":0},\"mode\":\"lines\",\"name\":\"Risk Area\",\"showlegend\":false,\"x\":[4.9,4.9,3.6,3.6,1.5,1.5,0.0,0.0,1.5,1.5,3.6,3.6,4.9,4.9,5.0,5.0,4.9],\"y\":[6.5,5.1,5.1,5.0,5.0,5.1,5.1,9.9,9.9,10.0,10.0,9.9,9.9,8.6,8.6,6.5,6.5],\"type\":\"scatter\"},{\"fill\":\"toself\",\"fillcolor\":\"rgb(51, 0, 0)\",\"hoverinfo\":\"name\",\"line\":{\"width\":0},\"mode\":\"lines\",\"name\":\"Risk Area\",\"showlegend\":false,\"x\":[1.5,0.0,0.0,4.9,4.9,5.0,5.0,4.9,4.9,3.6,3.6,1.5,1.5],\"y\":[10.1,10.1,15.0,15.0,13.6,13.6,11.5,11.5,10.1,10.1,10.0,10.0,10.1],\"type\":\"scatter\"},{\"fill\":\"toself\",\"fillcolor\":\"rgb(0, 0, 0)\",\"hoverinfo\":\"name\",\"line\":{\"width\":0},\"mode\":\"lines\",\"name\":\"Risk Area\",\"showlegend\":false,\"x\":[6.4,5.1,5.1,5.0,5.0,5.1,5.1,9.9,9.9,10.0,10.0,9.9,9.9,8.6,8.6,6.4,6.4],\"y\":[10.1,10.1,11.5,11.5,13.6,13.6,15.0,15.0,13.6,13.6,11.5,11.5,10.1,10.1,10.0,10.0,10.1],\"type\":\"scatter\"},{\"fill\":\"toself\",\"fillcolor\":\"rgb(0, 0, 0)\",\"hoverinfo\":\"name\",\"line\":{\"width\":0},\"mode\":\"lines\",\"name\":\"Risk Area\",\"showlegend\":false,\"x\":[10.1,10.1,15.0,15.0,13.6,13.6,11.5,11.5,10.1,10.1,10.0,10.0,10.1],\"y\":[13.6,15.0,15.0,10.1,10.1,10.0,10.0,10.1,10.1,11.5,11.5,13.6,13.6],\"type\":\"scatter\"},{\"hoverinfo\":\"text\",\"marker\":{\"opacity\":1,\"size\":1},\"mode\":\"markers\",\"showlegend\":false,\"text\":[\"ID: 171.0, Pos(10.97,12.84)\"],\"x\":[10.973707752620651],\"y\":[12.840837334545785],\"type\":\"scatter\"},{\"hoverinfo\":\"text\",\"marker\":{\"opacity\":1,\"size\":1},\"mode\":\"markers\",\"showlegend\":false,\"text\":[\"ID: 172.0, Pos(11.32,13.48)\"],\"x\":[11.32351712261778],\"y\":[13.47721550215655],\"type\":\"scatter\"},{\"hoverinfo\":\"text\",\"marker\":{\"opacity\":1,\"size\":1},\"mode\":\"markers\",\"showlegend\":false,\"text\":[\"ID: 173.0, Pos(7.46,12.47)\"],\"x\":[7.45507187257035],\"y\":[12.472802690331156],\"type\":\"scatter\"},{\"hoverinfo\":\"text\",\"marker\":{\"opacity\":1,\"size\":1},\"mode\":\"markers\",\"showlegend\":false,\"text\":[\"ID: 174.0, Pos(9.84,12.64)\"],\"x\":[9.83543852646986],\"y\":[12.63717058585874],\"type\":\"scatter\"},{\"hoverinfo\":\"text\",\"marker\":{\"opacity\":1,\"size\":1},\"mode\":\"markers\",\"showlegend\":false,\"text\":[\"ID: 175.0, Pos(10.10,13.22)\"],\"x\":[10.095294547285112],\"y\":[13.222511690151851],\"type\":\"scatter\"},{\"hoverinfo\":\"text\",\"marker\":{\"opacity\":1,\"size\":1},\"mode\":\"markers\",\"showlegend\":false,\"text\":[\"ID: 177.0, Pos(12.09,13.22)\"],\"x\":[12.08919081545698],\"y\":[13.221966906744314],\"type\":\"scatter\"},{\"hoverinfo\":\"text\",\"marker\":{\"opacity\":1,\"size\":1},\"mode\":\"markers\",\"showlegend\":false,\"text\":[\"ID: 178.0, Pos(8.63,12.69)\"],\"x\":[8.632236731578722],\"y\":[12.691897661071417],\"type\":\"scatter\"},{\"hoverinfo\":\"text\",\"marker\":{\"opacity\":1,\"size\":1},\"mode\":\"markers\",\"showlegend\":false,\"text\":[\"ID: 180.0, Pos(9.14,13.22)\"],\"x\":[9.138382140831217],\"y\":[13.221052896494234],\"type\":\"scatter\"},{\"hoverinfo\":\"none\",\"marker\":{\"opacity\":0,\"size\":1},\"mode\":\"markers\",\"showlegend\":false,\"x\":[0.0],\"y\":[0.0],\"type\":\"scatter\"},{\"hoverinfo\":\"none\",\"marker\":{\"opacity\":0,\"size\":1},\"mode\":\"markers\",\"showlegend\":false,\"x\":[0.0],\"y\":[0.0],\"type\":\"scatter\"}],\"layout\":{\"shapes\":[{\"fillcolor\":\"rgba(0, 0, 159, 0.5)\",\"line\":{\"color\":\"rgba(0, 0, 159, 0.5)\"},\"type\":\"circle\",\"x0\":10.773707752620652,\"x1\":11.17370775262065,\"xref\":\"x\",\"y0\":12.640837334545786,\"y1\":13.040837334545785,\"yref\":\"y\"},{\"fillcolor\":\"rgba(0, 0, 218, 0.5)\",\"line\":{\"color\":\"rgba(0, 0, 218, 0.5)\"},\"type\":\"circle\",\"x0\":11.12351712261778,\"x1\":11.523517122617779,\"xref\":\"x\",\"y0\":13.277215502156551,\"y1\":13.67721550215655,\"yref\":\"y\"},{\"fillcolor\":\"rgba(0, 0, 128, 0.5)\",\"line\":{\"color\":\"rgba(0, 0, 128, 0.5)\"},\"type\":\"circle\",\"x0\":7.25507187257035,\"x1\":7.655071872570351,\"xref\":\"x\",\"y0\":12.272802690331156,\"y1\":12.672802690331155,\"yref\":\"y\"},{\"fillcolor\":\"rgba(0, 0, 196, 0.5)\",\"line\":{\"color\":\"rgba(0, 0, 196, 0.5)\"},\"type\":\"circle\",\"x0\":9.63543852646986,\"x1\":10.035438526469859,\"xref\":\"x\",\"y0\":12.437170585858741,\"y1\":12.83717058585874,\"yref\":\"y\"},{\"fillcolor\":\"rgba(0, 45, 255, 0.5)\",\"line\":{\"color\":\"rgba(0, 45, 255, 0.5)\"},\"type\":\"circle\",\"x0\":9.895294547285113,\"x1\":10.295294547285112,\"xref\":\"x\",\"y0\":13.022511690151852,\"y1\":13.42251169015185,\"yref\":\"y\"},{\"fillcolor\":\"rgba(0, 0, 128, 0.5)\",\"line\":{\"color\":\"rgba(0, 0, 128, 0.5)\"},\"type\":\"circle\",\"x0\":11.889190815456981,\"x1\":12.28919081545698,\"xref\":\"x\",\"y0\":13.021966906744314,\"y1\":13.421966906744313,\"yref\":\"y\"},{\"fillcolor\":\"rgba(0, 0, 128, 0.5)\",\"line\":{\"color\":\"rgba(0, 0, 128, 0.5)\"},\"type\":\"circle\",\"x0\":8.432236731578723,\"x1\":8.832236731578721,\"xref\":\"x\",\"y0\":12.491897661071418,\"y1\":12.891897661071416,\"yref\":\"y\"},{\"fillcolor\":\"rgba(0, 204, 255, 0.5)\",\"line\":{\"color\":\"rgba(0, 204, 255, 0.5)\"},\"type\":\"circle\",\"x0\":8.938382140831218,\"x1\":9.338382140831216,\"xref\":\"x\",\"y0\":13.021052896494234,\"y1\":13.421052896494233,\"yref\":\"y\"},{\"fillcolor\":\"rgba(255,255,255,0)\",\"line\":{\"width\":0},\"type\":\"circle\",\"x0\":0.0,\"x1\":0.0,\"xref\":\"x\",\"y0\":0.0,\"y1\":0.0,\"yref\":\"y\"},{\"fillcolor\":\"rgba(255,255,255,0)\",\"line\":{\"width\":0},\"type\":\"circle\",\"x0\":0.0,\"x1\":0.0,\"xref\":\"x\",\"y0\":0.0,\"y1\":0.0,\"yref\":\"y\"},{\"line\":{\"color\":\"white\",\"width\":3},\"type\":\"line\",\"x0\":10.973707752620651,\"x1\":11.16814215206316,\"y0\":12.840837334545785,\"y1\":12.88769098235928},{\"line\":{\"color\":\"white\",\"width\":3},\"type\":\"line\",\"x0\":11.32351712261778,\"x1\":11.519112302261288,\"y0\":13.47721550215655,\"y1\":13.518959072921687},{\"line\":{\"color\":\"white\",\"width\":3},\"type\":\"line\",\"x0\":7.45507187257035,\"x1\":7.651077647273984,\"y0\":12.472802690331156,\"y1\":12.512573738630495},{\"line\":{\"color\":\"white\",\"width\":3},\"type\":\"line\",\"x0\":9.83543852646986,\"x1\":10.035144967713512,\"y0\":12.63717058585874,\"y1\":12.64800282135265},{\"line\":{\"color\":\"white\",\"width\":3},\"type\":\"line\",\"x0\":10.095294547285112,\"x1\":10.295255074893497,\"y0\":13.222511690151851,\"y1\":13.22648502610245},{\"line\":{\"color\":\"white\",\"width\":3},\"type\":\"line\",\"x0\":12.08919081545698,\"x1\":12.281256847525768,\"y0\":13.221966906744314,\"y1\":13.27774001249746},{\"line\":{\"color\":\"white\",\"width\":3},\"type\":\"line\",\"x0\":8.632236731578722,\"x1\":8.830060018113915,\"y0\":12.691897661071417,\"y1\":12.721324643662477},{\"line\":{\"color\":\"black\",\"width\":3},\"type\":\"line\",\"x0\":9.138382140831217,\"x1\":9.33506356157541,\"y0\":13.221052896494234,\"y1\":13.257335381718452},{\"line\":{\"color\":\"rgba(255,255,255,0)\",\"width\":3},\"type\":\"line\",\"x0\":0.0,\"x1\":null,\"y0\":0.0,\"y1\":null},{\"line\":{\"color\":\"rgba(255,255,255,0)\",\"width\":3},\"type\":\"line\",\"x0\":0.0,\"x1\":null,\"y0\":0.0,\"y1\":null}],\"title\":{\"text\":\"\\u003cb\\u003ePercentage using the shortest path: 0%  |  Number of Agents: 8\\u003c\\u002fb\\u003e\",\"x\":0.5}},\"name\":\"650\"},{\"data\":[{\"hoverinfo\":\"name\",\"line\":{\"color\":\"white\"},\"mode\":\"lines\",\"name\":\"Exterior\",\"showlegend\":false,\"x\":[10.1,10.1,15.0,15.0,13.6,13.6,15.0,15.0,13.6,13.6,15.0,15.0,10.1,10.1,9.9,9.9,5.1,5.1,4.9,4.9,0.0,0.0,1.5,1.5,0.0,0.0,1.5,1.5,0.0,0.0,4.9,4.9,5.1,5.1,9.9,9.9,10.1],\"y\":[1.5,0.0,0.0,4.9,4.9,5.1,5.1,9.9,9.9,10.1,10.1,15.0,15.0,13.6,13.6,15.0,15.0,13.6,13.6,15.0,15.0,10.1,10.1,9.9,9.9,5.1,5.1,4.9,4.9,0.0,0.0,1.5,1.5,0.0,0.0,1.5,1.5],\"type\":\"scatter\"},{\"hoverinfo\":\"name\",\"line\":{\"color\":\"white\"},\"mode\":\"lines\",\"name\":\"Obstacle\",\"showlegend\":false,\"x\":[10.1,11.5,11.5,10.1,10.1,9.9,9.9,8.6,8.6,9.9,9.9,10.1,10.1],\"y\":[5.1,5.1,4.9,4.9,3.6,3.6,4.9,4.9,5.1,5.1,6.5,6.5,5.1],\"type\":\"scatter\"},{\"hoverinfo\":\"name\",\"line\":{\"color\":\"white\"},\"mode\":\"lines\",\"name\":\"Obstacle\",\"showlegend\":false,\"x\":[10.1,11.5,11.5,10.1,10.1,9.9,9.9,8.6,8.6,9.9,9.9,10.1,10.1],\"y\":[10.1,10.1,9.9,9.9,8.6,8.6,9.9,9.9,10.1,10.1,11.5,11.5,10.1],\"type\":\"scatter\"},{\"hoverinfo\":\"name\",\"line\":{\"color\":\"white\"},\"mode\":\"lines\",\"name\":\"Obstacle\",\"showlegend\":false,\"x\":[5.1,6.4,6.4,5.1,5.1,4.9,4.9,3.6,3.6,4.9,4.9,5.1,5.1],\"y\":[5.1,5.1,4.9,4.9,3.6,3.6,4.9,4.9,5.1,5.1,6.5,6.5,5.1],\"type\":\"scatter\"},{\"hoverinfo\":\"name\",\"line\":{\"color\":\"white\"},\"mode\":\"lines\",\"name\":\"Obstacle\",\"showlegend\":false,\"x\":[5.1,6.4,6.4,5.1,5.1,4.9,4.9,3.6,3.6,4.9,4.9,5.1,5.1],\"y\":[10.1,10.1,9.9,9.9,8.6,8.6,9.9,9.9,10.1,10.1,11.5,11.5,10.1],\"type\":\"scatter\"},{\"fill\":\"toself\",\"fillcolor\":\"rgb(0, 0, 0)\",\"hoverinfo\":\"name\",\"line\":{\"width\":0},\"mode\":\"lines\",\"name\":\"Risk Area\",\"showlegend\":false,\"x\":[1.5,1.5,3.6,3.6,4.9,4.9,5.0,5.0,4.9,4.9,0.0,0.0,1.5],\"y\":[4.9,5.0,5.0,4.9,4.9,3.6,3.6,1.5,1.5,0.0,0.0,4.9,4.9],\"type\":\"scatter\"},{\"fill\":\"toself\",\"fillcolor\":\"rgb(178, 0, 0)\",\"hoverinfo\":\"name\",\"line\":{\"width\":0},\"mode\":\"lines\",\"name\":\"Risk Area\",\"showlegend\":false,\"x\":[9.9,9.9,5.1,5.1,5.0,5.0,5.1,5.1,6.4,6.4,8.6,8.6,9.9,9.9,10.0,10.0,9.9],\"y\":[1.5,0.0,0.0,1.5,1.5,3.6,3.6,4.9,4.9,5.0,5.0,4.9,4.9,3.6,3.6,1.5,1.5],\"type\":\"scatter\"},{\"fill\":\"toself\",\"fillcolor\":\"rgb(25, 0, 0)\",\"hoverinfo\":\"name\",\"line\":{\"width\":0},\"mode\":\"lines\",\"name\":\"Risk Area\",\"showlegend\":false,\"x\":[13.6,15.0,15.0,10.1,10.1,10.0,10.0,10.1,10.1,11.5,11.5,13.6,13.6],\"y\":[4.9,4.9,0.0,0.0,1.5,1.5,3.6,3.6,4.9,4.9,5.0,5.0,4.9],\"type\":\"scatter\"},{\"fill\":\"toself\",\"fillcolor\":\"rgb(178, 0, 0)\",\"hoverinfo\":\"name\",\"line\":{\"width\":0},\"mode\":\"lines\",\"name\":\"Risk Area\",\"showlegend\":false,\"x\":[13.6,15.0,15.0,13.6,13.6,11.5,11.5,10.1,10.1,10.0,10.0,10.1,10.1,11.5,11.5,13.6,13.6],\"y\":[9.9,9.9,5.1,5.1,5.0,5.0,5.1,5.1,6.5,6.5,8.6,8.6,9.9,9.9,10.0,10.0,9.9],\"type\":\"scatter\"},{\"fill\":\"toself\",\"fillcolor\":\"rgb(204, 0, 0)\",\"hoverinfo\":\"name\",\"line\":{\"width\":0},\"mode\":\"lines\",\"name\":\"Risk Area\",\"showlegend\":false,\"x\":[9.9,9.9,8.6,8.6,6.4,6.4,5.1,5.1,5.0,5.0,5.1,5.1,6.4,6.4,8.6,8.6,9.9,9.9,10.0,10.0,9.9],\"y\":[6.5,5.1,5.1,5.0,5.0,5.1,5.1,6.5,6.5,8.6,8.6,9.9,9.9,10.0,10.0,9.9,9.9,8.6,8.6,6.5,6.5],\"type\":\"scatter\"},{\"fill\":\"toself\",\"fillcolor\":\"rgb(76, 0, 0)\",\"hoverinfo\":\"name\",\"line\":{\"width\":0},\"mode\":\"lines\",\"name\":\"Risk Area\",\"showlegend\":false,\"x\":[4.9,4.9,3.6,3.6,1.5,1.5,0.0,0.0,1.5,1.5,3.6,3.6,4.9,4.9,5.0,5.0,4.9],\"y\":[6.5,5.1,5.1,5.0,5.0,5.1,5.1,9.9,9.9,10.0,10.0,9.9,9.9,8.6,8.6,6.5,6.5],\"type\":\"scatter\"},{\"fill\":\"toself\",\"fillcolor\":\"rgb(51, 0, 0)\",\"hoverinfo\":\"name\",\"line\":{\"width\":0},\"mode\":\"lines\",\"name\":\"Risk Area\",\"showlegend\":false,\"x\":[1.5,0.0,0.0,4.9,4.9,5.0,5.0,4.9,4.9,3.6,3.6,1.5,1.5],\"y\":[10.1,10.1,15.0,15.0,13.6,13.6,11.5,11.5,10.1,10.1,10.0,10.0,10.1],\"type\":\"scatter\"},{\"fill\":\"toself\",\"fillcolor\":\"rgb(0, 0, 0)\",\"hoverinfo\":\"name\",\"line\":{\"width\":0},\"mode\":\"lines\",\"name\":\"Risk Area\",\"showlegend\":false,\"x\":[6.4,5.1,5.1,5.0,5.0,5.1,5.1,9.9,9.9,10.0,10.0,9.9,9.9,8.6,8.6,6.4,6.4],\"y\":[10.1,10.1,11.5,11.5,13.6,13.6,15.0,15.0,13.6,13.6,11.5,11.5,10.1,10.1,10.0,10.0,10.1],\"type\":\"scatter\"},{\"fill\":\"toself\",\"fillcolor\":\"rgb(0, 0, 0)\",\"hoverinfo\":\"name\",\"line\":{\"width\":0},\"mode\":\"lines\",\"name\":\"Risk Area\",\"showlegend\":false,\"x\":[10.1,10.1,15.0,15.0,13.6,13.6,11.5,11.5,10.1,10.1,10.0,10.0,10.1],\"y\":[13.6,15.0,15.0,10.1,10.1,10.0,10.0,10.1,10.1,11.5,11.5,13.6,13.6],\"type\":\"scatter\"},{\"hoverinfo\":\"text\",\"marker\":{\"opacity\":1,\"size\":1},\"mode\":\"markers\",\"showlegend\":false,\"text\":[\"ID: 171.0, Pos(12.51,13.23)\"],\"x\":[12.512714583247751],\"y\":[13.231861793268182],\"type\":\"scatter\"},{\"hoverinfo\":\"text\",\"marker\":{\"opacity\":1,\"size\":1},\"mode\":\"markers\",\"showlegend\":false,\"text\":[\"ID: 173.0, Pos(9.01,12.79)\"],\"x\":[9.006153746186172],\"y\":[12.787667739548803],\"type\":\"scatter\"},{\"hoverinfo\":\"text\",\"marker\":{\"opacity\":1,\"size\":1},\"mode\":\"markers\",\"showlegend\":false,\"text\":[\"ID: 174.0, Pos(11.37,12.91)\"],\"x\":[11.366659019403144],\"y\":[12.906746978433349],\"type\":\"scatter\"},{\"hoverinfo\":\"text\",\"marker\":{\"opacity\":1,\"size\":1},\"mode\":\"markers\",\"showlegend\":false,\"text\":[\"ID: 175.0, Pos(11.63,13.56)\"],\"x\":[11.631191765607618],\"y\":[13.555698016120164],\"type\":\"scatter\"},{\"hoverinfo\":\"text\",\"marker\":{\"opacity\":1,\"size\":1},\"mode\":\"markers\",\"showlegend\":false,\"text\":[\"ID: 178.0, Pos(10.20,12.71)\"],\"x\":[10.195533665379942],\"y\":[12.707111832572066],\"type\":\"scatter\"},{\"hoverinfo\":\"text\",\"marker\":{\"opacity\":1,\"size\":1},\"mode\":\"markers\",\"showlegend\":false,\"text\":[\"ID: 180.0, Pos(10.45,13.30)\"],\"x\":[10.452183394395982],\"y\":[13.297146663368986],\"type\":\"scatter\"},{\"hoverinfo\":\"none\",\"marker\":{\"opacity\":0,\"size\":1},\"mode\":\"markers\",\"showlegend\":false,\"x\":[0.0],\"y\":[0.0],\"type\":\"scatter\"},{\"hoverinfo\":\"none\",\"marker\":{\"opacity\":0,\"size\":1},\"mode\":\"markers\",\"showlegend\":false,\"x\":[0.0],\"y\":[0.0],\"type\":\"scatter\"},{\"hoverinfo\":\"none\",\"marker\":{\"opacity\":0,\"size\":1},\"mode\":\"markers\",\"showlegend\":false,\"x\":[0.0],\"y\":[0.0],\"type\":\"scatter\"},{\"hoverinfo\":\"none\",\"marker\":{\"opacity\":0,\"size\":1},\"mode\":\"markers\",\"showlegend\":false,\"x\":[0.0],\"y\":[0.0],\"type\":\"scatter\"}],\"layout\":{\"shapes\":[{\"fillcolor\":\"rgba(0, 0, 128, 0.5)\",\"line\":{\"color\":\"rgba(0, 0, 128, 0.5)\"},\"type\":\"circle\",\"x0\":12.312714583247752,\"x1\":12.71271458324775,\"xref\":\"x\",\"y0\":13.031861793268183,\"y1\":13.431861793268181,\"yref\":\"y\"},{\"fillcolor\":\"rgba(0, 0, 137, 0.5)\",\"line\":{\"color\":\"rgba(0, 0, 137, 0.5)\"},\"type\":\"circle\",\"x0\":8.806153746186173,\"x1\":9.206153746186171,\"xref\":\"x\",\"y0\":12.587667739548804,\"y1\":12.987667739548803,\"yref\":\"y\"},{\"fillcolor\":\"rgba(0, 0, 132, 0.5)\",\"line\":{\"color\":\"rgba(0, 0, 132, 0.5)\"},\"type\":\"circle\",\"x0\":11.166659019403145,\"x1\":11.566659019403144,\"xref\":\"x\",\"y0\":12.70674697843335,\"y1\":13.106746978433348,\"yref\":\"y\"},{\"fillcolor\":\"rgba(0, 0, 128, 0.5)\",\"line\":{\"color\":\"rgba(0, 0, 128, 0.5)\"},\"type\":\"circle\",\"x0\":11.431191765607618,\"x1\":11.831191765607617,\"xref\":\"x\",\"y0\":13.355698016120165,\"y1\":13.755698016120164,\"yref\":\"y\"},{\"fillcolor\":\"rgba(0, 0, 146, 0.5)\",\"line\":{\"color\":\"rgba(0, 0, 146, 0.5)\"},\"type\":\"circle\",\"x0\":9.995533665379943,\"x1\":10.395533665379942,\"xref\":\"x\",\"y0\":12.507111832572066,\"y1\":12.907111832572065,\"yref\":\"y\"},{\"fillcolor\":\"rgba(0, 0, 128, 0.5)\",\"line\":{\"color\":\"rgba(0, 0, 128, 0.5)\"},\"type\":\"circle\",\"x0\":10.252183394395983,\"x1\":10.652183394395982,\"xref\":\"x\",\"y0\":13.097146663368987,\"y1\":13.497146663368985,\"yref\":\"y\"},{\"fillcolor\":\"rgba(255,255,255,0)\",\"line\":{\"width\":0},\"type\":\"circle\",\"x0\":0.0,\"x1\":0.0,\"xref\":\"x\",\"y0\":0.0,\"y1\":0.0,\"yref\":\"y\"},{\"fillcolor\":\"rgba(255,255,255,0)\",\"line\":{\"width\":0},\"type\":\"circle\",\"x0\":0.0,\"x1\":0.0,\"xref\":\"x\",\"y0\":0.0,\"y1\":0.0,\"yref\":\"y\"},{\"fillcolor\":\"rgba(255,255,255,0)\",\"line\":{\"width\":0},\"type\":\"circle\",\"x0\":0.0,\"x1\":0.0,\"xref\":\"x\",\"y0\":0.0,\"y1\":0.0,\"yref\":\"y\"},{\"fillcolor\":\"rgba(255,255,255,0)\",\"line\":{\"width\":0},\"type\":\"circle\",\"x0\":0.0,\"x1\":0.0,\"xref\":\"x\",\"y0\":0.0,\"y1\":0.0,\"yref\":\"y\"},{\"line\":{\"color\":\"white\",\"width\":3},\"type\":\"line\",\"x0\":12.512714583247751,\"x1\":12.697810730788012,\"y0\":13.231861793268182,\"y1\":13.307620727828763},{\"line\":{\"color\":\"white\",\"width\":3},\"type\":\"line\",\"x0\":9.006153746186172,\"x1\":9.20215159534728,\"y0\":12.787667739548803,\"y1\":12.827477827770505},{\"line\":{\"color\":\"white\",\"width\":3},\"type\":\"line\",\"x0\":11.366659019403144,\"x1\":11.561356319437175,\"y0\":12.906746978433349,\"y1\":12.952495873058885},{\"line\":{\"color\":\"white\",\"width\":3},\"type\":\"line\",\"x0\":11.631191765607618,\"x1\":11.827011767599933,\"y0\":13.555698016120164,\"y1\":13.596373891276448},{\"line\":{\"color\":\"white\",\"width\":3},\"type\":\"line\",\"x0\":10.195533665379942,\"x1\":10.394900604593653,\"y0\":12.707111832572066,\"y1\":12.723012258621585},{\"line\":{\"color\":\"white\",\"width\":3},\"type\":\"line\",\"x0\":10.452183394395982,\"x1\":10.64475277779683,\"y0\":13.297146663368986,\"y1\":13.351156223417343},{\"line\":{\"color\":\"rgba(255,255,255,0)\",\"width\":3},\"type\":\"line\",\"x0\":0.0,\"x1\":null,\"y0\":0.0,\"y1\":null},{\"line\":{\"color\":\"rgba(255,255,255,0)\",\"width\":3},\"type\":\"line\",\"x0\":0.0,\"x1\":null,\"y0\":0.0,\"y1\":null},{\"line\":{\"color\":\"rgba(255,255,255,0)\",\"width\":3},\"type\":\"line\",\"x0\":0.0,\"x1\":null,\"y0\":0.0,\"y1\":null},{\"line\":{\"color\":\"rgba(255,255,255,0)\",\"width\":3},\"type\":\"line\",\"x0\":0.0,\"x1\":null,\"y0\":0.0,\"y1\":null}],\"title\":{\"text\":\"\\u003cb\\u003ePercentage using the shortest path: 0%  |  Number of Agents: 6\\u003c\\u002fb\\u003e\",\"x\":0.5}},\"name\":\"700\"},{\"data\":[{\"hoverinfo\":\"name\",\"line\":{\"color\":\"white\"},\"mode\":\"lines\",\"name\":\"Exterior\",\"showlegend\":false,\"x\":[10.1,10.1,15.0,15.0,13.6,13.6,15.0,15.0,13.6,13.6,15.0,15.0,10.1,10.1,9.9,9.9,5.1,5.1,4.9,4.9,0.0,0.0,1.5,1.5,0.0,0.0,1.5,1.5,0.0,0.0,4.9,4.9,5.1,5.1,9.9,9.9,10.1],\"y\":[1.5,0.0,0.0,4.9,4.9,5.1,5.1,9.9,9.9,10.1,10.1,15.0,15.0,13.6,13.6,15.0,15.0,13.6,13.6,15.0,15.0,10.1,10.1,9.9,9.9,5.1,5.1,4.9,4.9,0.0,0.0,1.5,1.5,0.0,0.0,1.5,1.5],\"type\":\"scatter\"},{\"hoverinfo\":\"name\",\"line\":{\"color\":\"white\"},\"mode\":\"lines\",\"name\":\"Obstacle\",\"showlegend\":false,\"x\":[10.1,11.5,11.5,10.1,10.1,9.9,9.9,8.6,8.6,9.9,9.9,10.1,10.1],\"y\":[5.1,5.1,4.9,4.9,3.6,3.6,4.9,4.9,5.1,5.1,6.5,6.5,5.1],\"type\":\"scatter\"},{\"hoverinfo\":\"name\",\"line\":{\"color\":\"white\"},\"mode\":\"lines\",\"name\":\"Obstacle\",\"showlegend\":false,\"x\":[10.1,11.5,11.5,10.1,10.1,9.9,9.9,8.6,8.6,9.9,9.9,10.1,10.1],\"y\":[10.1,10.1,9.9,9.9,8.6,8.6,9.9,9.9,10.1,10.1,11.5,11.5,10.1],\"type\":\"scatter\"},{\"hoverinfo\":\"name\",\"line\":{\"color\":\"white\"},\"mode\":\"lines\",\"name\":\"Obstacle\",\"showlegend\":false,\"x\":[5.1,6.4,6.4,5.1,5.1,4.9,4.9,3.6,3.6,4.9,4.9,5.1,5.1],\"y\":[5.1,5.1,4.9,4.9,3.6,3.6,4.9,4.9,5.1,5.1,6.5,6.5,5.1],\"type\":\"scatter\"},{\"hoverinfo\":\"name\",\"line\":{\"color\":\"white\"},\"mode\":\"lines\",\"name\":\"Obstacle\",\"showlegend\":false,\"x\":[5.1,6.4,6.4,5.1,5.1,4.9,4.9,3.6,3.6,4.9,4.9,5.1,5.1],\"y\":[10.1,10.1,9.9,9.9,8.6,8.6,9.9,9.9,10.1,10.1,11.5,11.5,10.1],\"type\":\"scatter\"},{\"fill\":\"toself\",\"fillcolor\":\"rgb(0, 0, 0)\",\"hoverinfo\":\"name\",\"line\":{\"width\":0},\"mode\":\"lines\",\"name\":\"Risk Area\",\"showlegend\":false,\"x\":[1.5,1.5,3.6,3.6,4.9,4.9,5.0,5.0,4.9,4.9,0.0,0.0,1.5],\"y\":[4.9,5.0,5.0,4.9,4.9,3.6,3.6,1.5,1.5,0.0,0.0,4.9,4.9],\"type\":\"scatter\"},{\"fill\":\"toself\",\"fillcolor\":\"rgb(178, 0, 0)\",\"hoverinfo\":\"name\",\"line\":{\"width\":0},\"mode\":\"lines\",\"name\":\"Risk Area\",\"showlegend\":false,\"x\":[9.9,9.9,5.1,5.1,5.0,5.0,5.1,5.1,6.4,6.4,8.6,8.6,9.9,9.9,10.0,10.0,9.9],\"y\":[1.5,0.0,0.0,1.5,1.5,3.6,3.6,4.9,4.9,5.0,5.0,4.9,4.9,3.6,3.6,1.5,1.5],\"type\":\"scatter\"},{\"fill\":\"toself\",\"fillcolor\":\"rgb(25, 0, 0)\",\"hoverinfo\":\"name\",\"line\":{\"width\":0},\"mode\":\"lines\",\"name\":\"Risk Area\",\"showlegend\":false,\"x\":[13.6,15.0,15.0,10.1,10.1,10.0,10.0,10.1,10.1,11.5,11.5,13.6,13.6],\"y\":[4.9,4.9,0.0,0.0,1.5,1.5,3.6,3.6,4.9,4.9,5.0,5.0,4.9],\"type\":\"scatter\"},{\"fill\":\"toself\",\"fillcolor\":\"rgb(178, 0, 0)\",\"hoverinfo\":\"name\",\"line\":{\"width\":0},\"mode\":\"lines\",\"name\":\"Risk Area\",\"showlegend\":false,\"x\":[13.6,15.0,15.0,13.6,13.6,11.5,11.5,10.1,10.1,10.0,10.0,10.1,10.1,11.5,11.5,13.6,13.6],\"y\":[9.9,9.9,5.1,5.1,5.0,5.0,5.1,5.1,6.5,6.5,8.6,8.6,9.9,9.9,10.0,10.0,9.9],\"type\":\"scatter\"},{\"fill\":\"toself\",\"fillcolor\":\"rgb(204, 0, 0)\",\"hoverinfo\":\"name\",\"line\":{\"width\":0},\"mode\":\"lines\",\"name\":\"Risk Area\",\"showlegend\":false,\"x\":[9.9,9.9,8.6,8.6,6.4,6.4,5.1,5.1,5.0,5.0,5.1,5.1,6.4,6.4,8.6,8.6,9.9,9.9,10.0,10.0,9.9],\"y\":[6.5,5.1,5.1,5.0,5.0,5.1,5.1,6.5,6.5,8.6,8.6,9.9,9.9,10.0,10.0,9.9,9.9,8.6,8.6,6.5,6.5],\"type\":\"scatter\"},{\"fill\":\"toself\",\"fillcolor\":\"rgb(76, 0, 0)\",\"hoverinfo\":\"name\",\"line\":{\"width\":0},\"mode\":\"lines\",\"name\":\"Risk Area\",\"showlegend\":false,\"x\":[4.9,4.9,3.6,3.6,1.5,1.5,0.0,0.0,1.5,1.5,3.6,3.6,4.9,4.9,5.0,5.0,4.9],\"y\":[6.5,5.1,5.1,5.0,5.0,5.1,5.1,9.9,9.9,10.0,10.0,9.9,9.9,8.6,8.6,6.5,6.5],\"type\":\"scatter\"},{\"fill\":\"toself\",\"fillcolor\":\"rgb(51, 0, 0)\",\"hoverinfo\":\"name\",\"line\":{\"width\":0},\"mode\":\"lines\",\"name\":\"Risk Area\",\"showlegend\":false,\"x\":[1.5,0.0,0.0,4.9,4.9,5.0,5.0,4.9,4.9,3.6,3.6,1.5,1.5],\"y\":[10.1,10.1,15.0,15.0,13.6,13.6,11.5,11.5,10.1,10.1,10.0,10.0,10.1],\"type\":\"scatter\"},{\"fill\":\"toself\",\"fillcolor\":\"rgb(0, 0, 0)\",\"hoverinfo\":\"name\",\"line\":{\"width\":0},\"mode\":\"lines\",\"name\":\"Risk Area\",\"showlegend\":false,\"x\":[6.4,5.1,5.1,5.0,5.0,5.1,5.1,9.9,9.9,10.0,10.0,9.9,9.9,8.6,8.6,6.4,6.4],\"y\":[10.1,10.1,11.5,11.5,13.6,13.6,15.0,15.0,13.6,13.6,11.5,11.5,10.1,10.1,10.0,10.0,10.1],\"type\":\"scatter\"},{\"fill\":\"toself\",\"fillcolor\":\"rgb(0, 0, 0)\",\"hoverinfo\":\"name\",\"line\":{\"width\":0},\"mode\":\"lines\",\"name\":\"Risk Area\",\"showlegend\":false,\"x\":[10.1,10.1,15.0,15.0,13.6,13.6,11.5,11.5,10.1,10.1,10.0,10.0,10.1],\"y\":[13.6,15.0,15.0,10.1,10.1,10.0,10.0,10.1,10.1,11.5,11.5,13.6,13.6],\"type\":\"scatter\"},{\"hoverinfo\":\"text\",\"marker\":{\"opacity\":1,\"size\":1},\"mode\":\"markers\",\"showlegend\":false,\"text\":[\"ID: 173.0, Pos(10.56,13.10)\"],\"x\":[10.56434386534258],\"y\":[13.10163548084204],\"type\":\"scatter\"},{\"hoverinfo\":\"text\",\"marker\":{\"opacity\":1,\"size\":1},\"mode\":\"markers\",\"showlegend\":false,\"text\":[\"ID: 178.0, Pos(11.75,13.01)\"],\"x\":[11.754580816665737],\"y\":[13.014194749944819],\"type\":\"scatter\"},{\"hoverinfo\":\"text\",\"marker\":{\"opacity\":1,\"size\":1},\"mode\":\"markers\",\"showlegend\":false,\"text\":[\"ID: 180.0, Pos(12.01,13.65)\"],\"x\":[12.01225093470094],\"y\":[13.64924439461771],\"type\":\"scatter\"},{\"hoverinfo\":\"none\",\"marker\":{\"opacity\":0,\"size\":1},\"mode\":\"markers\",\"showlegend\":false,\"x\":[0.0],\"y\":[0.0],\"type\":\"scatter\"},{\"hoverinfo\":\"none\",\"marker\":{\"opacity\":0,\"size\":1},\"mode\":\"markers\",\"showlegend\":false,\"x\":[0.0],\"y\":[0.0],\"type\":\"scatter\"},{\"hoverinfo\":\"none\",\"marker\":{\"opacity\":0,\"size\":1},\"mode\":\"markers\",\"showlegend\":false,\"x\":[0.0],\"y\":[0.0],\"type\":\"scatter\"},{\"hoverinfo\":\"none\",\"marker\":{\"opacity\":0,\"size\":1},\"mode\":\"markers\",\"showlegend\":false,\"x\":[0.0],\"y\":[0.0],\"type\":\"scatter\"},{\"hoverinfo\":\"none\",\"marker\":{\"opacity\":0,\"size\":1},\"mode\":\"markers\",\"showlegend\":false,\"x\":[0.0],\"y\":[0.0],\"type\":\"scatter\"},{\"hoverinfo\":\"none\",\"marker\":{\"opacity\":0,\"size\":1},\"mode\":\"markers\",\"showlegend\":false,\"x\":[0.0],\"y\":[0.0],\"type\":\"scatter\"},{\"hoverinfo\":\"none\",\"marker\":{\"opacity\":0,\"size\":1},\"mode\":\"markers\",\"showlegend\":false,\"x\":[0.0],\"y\":[0.0],\"type\":\"scatter\"}],\"layout\":{\"shapes\":[{\"fillcolor\":\"rgba(0, 0, 137, 0.5)\",\"line\":{\"color\":\"rgba(0, 0, 137, 0.5)\"},\"type\":\"circle\",\"x0\":10.364343865342581,\"x1\":10.76434386534258,\"xref\":\"x\",\"y0\":12.90163548084204,\"y1\":13.30163548084204,\"yref\":\"y\"},{\"fillcolor\":\"rgba(0, 0, 128, 0.5)\",\"line\":{\"color\":\"rgba(0, 0, 128, 0.5)\"},\"type\":\"circle\",\"x0\":11.554580816665737,\"x1\":11.954580816665736,\"xref\":\"x\",\"y0\":12.81419474994482,\"y1\":13.214194749944818,\"yref\":\"y\"},{\"fillcolor\":\"rgba(0, 0, 128, 0.5)\",\"line\":{\"color\":\"rgba(0, 0, 128, 0.5)\"},\"type\":\"circle\",\"x0\":11.812250934700941,\"x1\":12.21225093470094,\"xref\":\"x\",\"y0\":13.449244394617711,\"y1\":13.84924439461771,\"yref\":\"y\"},{\"fillcolor\":\"rgba(255,255,255,0)\",\"line\":{\"width\":0},\"type\":\"circle\",\"x0\":0.0,\"x1\":0.0,\"xref\":\"x\",\"y0\":0.0,\"y1\":0.0,\"yref\":\"y\"},{\"fillcolor\":\"rgba(255,255,255,0)\",\"line\":{\"width\":0},\"type\":\"circle\",\"x0\":0.0,\"x1\":0.0,\"xref\":\"x\",\"y0\":0.0,\"y1\":0.0,\"yref\":\"y\"},{\"fillcolor\":\"rgba(255,255,255,0)\",\"line\":{\"width\":0},\"type\":\"circle\",\"x0\":0.0,\"x1\":0.0,\"xref\":\"x\",\"y0\":0.0,\"y1\":0.0,\"yref\":\"y\"},{\"fillcolor\":\"rgba(255,255,255,0)\",\"line\":{\"width\":0},\"type\":\"circle\",\"x0\":0.0,\"x1\":0.0,\"xref\":\"x\",\"y0\":0.0,\"y1\":0.0,\"yref\":\"y\"},{\"fillcolor\":\"rgba(255,255,255,0)\",\"line\":{\"width\":0},\"type\":\"circle\",\"x0\":0.0,\"x1\":0.0,\"xref\":\"x\",\"y0\":0.0,\"y1\":0.0,\"yref\":\"y\"},{\"fillcolor\":\"rgba(255,255,255,0)\",\"line\":{\"width\":0},\"type\":\"circle\",\"x0\":0.0,\"x1\":0.0,\"xref\":\"x\",\"y0\":0.0,\"y1\":0.0,\"yref\":\"y\"},{\"fillcolor\":\"rgba(255,255,255,0)\",\"line\":{\"width\":0},\"type\":\"circle\",\"x0\":0.0,\"x1\":0.0,\"xref\":\"x\",\"y0\":0.0,\"y1\":0.0,\"yref\":\"y\"},{\"line\":{\"color\":\"white\",\"width\":3},\"type\":\"line\",\"x0\":10.56434386534258,\"x1\":10.760341261907824,\"y0\":13.10163548084204,\"y1\":13.141447797273598},{\"line\":{\"color\":\"white\",\"width\":3},\"type\":\"line\",\"x0\":11.754580816665737,\"x1\":11.949304874861793,\"y0\":13.014194749944819,\"y1\":13.05982961775068},{\"line\":{\"color\":\"white\",\"width\":3},\"type\":\"line\",\"x0\":12.01225093470094,\"x1\":12.208850551601534,\"y0\":13.64924439461771,\"y1\":13.685967556716582},{\"line\":{\"color\":\"rgba(255,255,255,0)\",\"width\":3},\"type\":\"line\",\"x0\":0.0,\"x1\":null,\"y0\":0.0,\"y1\":null},{\"line\":{\"color\":\"rgba(255,255,255,0)\",\"width\":3},\"type\":\"line\",\"x0\":0.0,\"x1\":null,\"y0\":0.0,\"y1\":null},{\"line\":{\"color\":\"rgba(255,255,255,0)\",\"width\":3},\"type\":\"line\",\"x0\":0.0,\"x1\":null,\"y0\":0.0,\"y1\":null},{\"line\":{\"color\":\"rgba(255,255,255,0)\",\"width\":3},\"type\":\"line\",\"x0\":0.0,\"x1\":null,\"y0\":0.0,\"y1\":null},{\"line\":{\"color\":\"rgba(255,255,255,0)\",\"width\":3},\"type\":\"line\",\"x0\":0.0,\"x1\":null,\"y0\":0.0,\"y1\":null},{\"line\":{\"color\":\"rgba(255,255,255,0)\",\"width\":3},\"type\":\"line\",\"x0\":0.0,\"x1\":null,\"y0\":0.0,\"y1\":null},{\"line\":{\"color\":\"rgba(255,255,255,0)\",\"width\":3},\"type\":\"line\",\"x0\":0.0,\"x1\":null,\"y0\":0.0,\"y1\":null}],\"title\":{\"text\":\"\\u003cb\\u003ePercentage using the shortest path: 0%  |  Number of Agents: 3\\u003c\\u002fb\\u003e\",\"x\":0.5}},\"name\":\"750\"},{\"data\":[{\"hoverinfo\":\"name\",\"line\":{\"color\":\"white\"},\"mode\":\"lines\",\"name\":\"Exterior\",\"showlegend\":false,\"x\":[10.1,10.1,15.0,15.0,13.6,13.6,15.0,15.0,13.6,13.6,15.0,15.0,10.1,10.1,9.9,9.9,5.1,5.1,4.9,4.9,0.0,0.0,1.5,1.5,0.0,0.0,1.5,1.5,0.0,0.0,4.9,4.9,5.1,5.1,9.9,9.9,10.1],\"y\":[1.5,0.0,0.0,4.9,4.9,5.1,5.1,9.9,9.9,10.1,10.1,15.0,15.0,13.6,13.6,15.0,15.0,13.6,13.6,15.0,15.0,10.1,10.1,9.9,9.9,5.1,5.1,4.9,4.9,0.0,0.0,1.5,1.5,0.0,0.0,1.5,1.5],\"type\":\"scatter\"},{\"hoverinfo\":\"name\",\"line\":{\"color\":\"white\"},\"mode\":\"lines\",\"name\":\"Obstacle\",\"showlegend\":false,\"x\":[10.1,11.5,11.5,10.1,10.1,9.9,9.9,8.6,8.6,9.9,9.9,10.1,10.1],\"y\":[5.1,5.1,4.9,4.9,3.6,3.6,4.9,4.9,5.1,5.1,6.5,6.5,5.1],\"type\":\"scatter\"},{\"hoverinfo\":\"name\",\"line\":{\"color\":\"white\"},\"mode\":\"lines\",\"name\":\"Obstacle\",\"showlegend\":false,\"x\":[10.1,11.5,11.5,10.1,10.1,9.9,9.9,8.6,8.6,9.9,9.9,10.1,10.1],\"y\":[10.1,10.1,9.9,9.9,8.6,8.6,9.9,9.9,10.1,10.1,11.5,11.5,10.1],\"type\":\"scatter\"},{\"hoverinfo\":\"name\",\"line\":{\"color\":\"white\"},\"mode\":\"lines\",\"name\":\"Obstacle\",\"showlegend\":false,\"x\":[5.1,6.4,6.4,5.1,5.1,4.9,4.9,3.6,3.6,4.9,4.9,5.1,5.1],\"y\":[5.1,5.1,4.9,4.9,3.6,3.6,4.9,4.9,5.1,5.1,6.5,6.5,5.1],\"type\":\"scatter\"},{\"hoverinfo\":\"name\",\"line\":{\"color\":\"white\"},\"mode\":\"lines\",\"name\":\"Obstacle\",\"showlegend\":false,\"x\":[5.1,6.4,6.4,5.1,5.1,4.9,4.9,3.6,3.6,4.9,4.9,5.1,5.1],\"y\":[10.1,10.1,9.9,9.9,8.6,8.6,9.9,9.9,10.1,10.1,11.5,11.5,10.1],\"type\":\"scatter\"},{\"fill\":\"toself\",\"fillcolor\":\"rgb(0, 0, 0)\",\"hoverinfo\":\"name\",\"line\":{\"width\":0},\"mode\":\"lines\",\"name\":\"Risk Area\",\"showlegend\":false,\"x\":[1.5,1.5,3.6,3.6,4.9,4.9,5.0,5.0,4.9,4.9,0.0,0.0,1.5],\"y\":[4.9,5.0,5.0,4.9,4.9,3.6,3.6,1.5,1.5,0.0,0.0,4.9,4.9],\"type\":\"scatter\"},{\"fill\":\"toself\",\"fillcolor\":\"rgb(178, 0, 0)\",\"hoverinfo\":\"name\",\"line\":{\"width\":0},\"mode\":\"lines\",\"name\":\"Risk Area\",\"showlegend\":false,\"x\":[9.9,9.9,5.1,5.1,5.0,5.0,5.1,5.1,6.4,6.4,8.6,8.6,9.9,9.9,10.0,10.0,9.9],\"y\":[1.5,0.0,0.0,1.5,1.5,3.6,3.6,4.9,4.9,5.0,5.0,4.9,4.9,3.6,3.6,1.5,1.5],\"type\":\"scatter\"},{\"fill\":\"toself\",\"fillcolor\":\"rgb(25, 0, 0)\",\"hoverinfo\":\"name\",\"line\":{\"width\":0},\"mode\":\"lines\",\"name\":\"Risk Area\",\"showlegend\":false,\"x\":[13.6,15.0,15.0,10.1,10.1,10.0,10.0,10.1,10.1,11.5,11.5,13.6,13.6],\"y\":[4.9,4.9,0.0,0.0,1.5,1.5,3.6,3.6,4.9,4.9,5.0,5.0,4.9],\"type\":\"scatter\"},{\"fill\":\"toself\",\"fillcolor\":\"rgb(178, 0, 0)\",\"hoverinfo\":\"name\",\"line\":{\"width\":0},\"mode\":\"lines\",\"name\":\"Risk Area\",\"showlegend\":false,\"x\":[13.6,15.0,15.0,13.6,13.6,11.5,11.5,10.1,10.1,10.0,10.0,10.1,10.1,11.5,11.5,13.6,13.6],\"y\":[9.9,9.9,5.1,5.1,5.0,5.0,5.1,5.1,6.5,6.5,8.6,8.6,9.9,9.9,10.0,10.0,9.9],\"type\":\"scatter\"},{\"fill\":\"toself\",\"fillcolor\":\"rgb(204, 0, 0)\",\"hoverinfo\":\"name\",\"line\":{\"width\":0},\"mode\":\"lines\",\"name\":\"Risk Area\",\"showlegend\":false,\"x\":[9.9,9.9,8.6,8.6,6.4,6.4,5.1,5.1,5.0,5.0,5.1,5.1,6.4,6.4,8.6,8.6,9.9,9.9,10.0,10.0,9.9],\"y\":[6.5,5.1,5.1,5.0,5.0,5.1,5.1,6.5,6.5,8.6,8.6,9.9,9.9,10.0,10.0,9.9,9.9,8.6,8.6,6.5,6.5],\"type\":\"scatter\"},{\"fill\":\"toself\",\"fillcolor\":\"rgb(76, 0, 0)\",\"hoverinfo\":\"name\",\"line\":{\"width\":0},\"mode\":\"lines\",\"name\":\"Risk Area\",\"showlegend\":false,\"x\":[4.9,4.9,3.6,3.6,1.5,1.5,0.0,0.0,1.5,1.5,3.6,3.6,4.9,4.9,5.0,5.0,4.9],\"y\":[6.5,5.1,5.1,5.0,5.0,5.1,5.1,9.9,9.9,10.0,10.0,9.9,9.9,8.6,8.6,6.5,6.5],\"type\":\"scatter\"},{\"fill\":\"toself\",\"fillcolor\":\"rgb(51, 0, 0)\",\"hoverinfo\":\"name\",\"line\":{\"width\":0},\"mode\":\"lines\",\"name\":\"Risk Area\",\"showlegend\":false,\"x\":[1.5,0.0,0.0,4.9,4.9,5.0,5.0,4.9,4.9,3.6,3.6,1.5,1.5],\"y\":[10.1,10.1,15.0,15.0,13.6,13.6,11.5,11.5,10.1,10.1,10.0,10.0,10.1],\"type\":\"scatter\"},{\"fill\":\"toself\",\"fillcolor\":\"rgb(0, 0, 0)\",\"hoverinfo\":\"name\",\"line\":{\"width\":0},\"mode\":\"lines\",\"name\":\"Risk Area\",\"showlegend\":false,\"x\":[6.4,5.1,5.1,5.0,5.0,5.1,5.1,9.9,9.9,10.0,10.0,9.9,9.9,8.6,8.6,6.4,6.4],\"y\":[10.1,10.1,11.5,11.5,13.6,13.6,15.0,15.0,13.6,13.6,11.5,11.5,10.1,10.1,10.0,10.0,10.1],\"type\":\"scatter\"},{\"fill\":\"toself\",\"fillcolor\":\"rgb(0, 0, 0)\",\"hoverinfo\":\"name\",\"line\":{\"width\":0},\"mode\":\"lines\",\"name\":\"Risk Area\",\"showlegend\":false,\"x\":[10.1,10.1,15.0,15.0,13.6,13.6,11.5,11.5,10.1,10.1,10.0,10.0,10.1],\"y\":[13.6,15.0,15.0,10.1,10.1,10.0,10.0,10.1,10.1,11.5,11.5,13.6,13.6],\"type\":\"scatter\"},{\"hoverinfo\":\"text\",\"marker\":{\"opacity\":1,\"size\":1},\"mode\":\"markers\",\"showlegend\":false,\"text\":[\"ID: 173.0, Pos(12.12,13.42)\"],\"x\":[12.123084616779458],\"y\":[13.418966630282723],\"type\":\"scatter\"},{\"hoverinfo\":\"none\",\"marker\":{\"opacity\":0,\"size\":1},\"mode\":\"markers\",\"showlegend\":false,\"x\":[0.0],\"y\":[0.0],\"type\":\"scatter\"},{\"hoverinfo\":\"none\",\"marker\":{\"opacity\":0,\"size\":1},\"mode\":\"markers\",\"showlegend\":false,\"x\":[0.0],\"y\":[0.0],\"type\":\"scatter\"},{\"hoverinfo\":\"none\",\"marker\":{\"opacity\":0,\"size\":1},\"mode\":\"markers\",\"showlegend\":false,\"x\":[0.0],\"y\":[0.0],\"type\":\"scatter\"},{\"hoverinfo\":\"none\",\"marker\":{\"opacity\":0,\"size\":1},\"mode\":\"markers\",\"showlegend\":false,\"x\":[0.0],\"y\":[0.0],\"type\":\"scatter\"},{\"hoverinfo\":\"none\",\"marker\":{\"opacity\":0,\"size\":1},\"mode\":\"markers\",\"showlegend\":false,\"x\":[0.0],\"y\":[0.0],\"type\":\"scatter\"},{\"hoverinfo\":\"none\",\"marker\":{\"opacity\":0,\"size\":1},\"mode\":\"markers\",\"showlegend\":false,\"x\":[0.0],\"y\":[0.0],\"type\":\"scatter\"},{\"hoverinfo\":\"none\",\"marker\":{\"opacity\":0,\"size\":1},\"mode\":\"markers\",\"showlegend\":false,\"x\":[0.0],\"y\":[0.0],\"type\":\"scatter\"},{\"hoverinfo\":\"none\",\"marker\":{\"opacity\":0,\"size\":1},\"mode\":\"markers\",\"showlegend\":false,\"x\":[0.0],\"y\":[0.0],\"type\":\"scatter\"},{\"hoverinfo\":\"none\",\"marker\":{\"opacity\":0,\"size\":1},\"mode\":\"markers\",\"showlegend\":false,\"x\":[0.0],\"y\":[0.0],\"type\":\"scatter\"}],\"layout\":{\"shapes\":[{\"fillcolor\":\"rgba(0, 0, 128, 0.5)\",\"line\":{\"color\":\"rgba(0, 0, 128, 0.5)\"},\"type\":\"circle\",\"x0\":11.923084616779459,\"x1\":12.323084616779457,\"xref\":\"x\",\"y0\":13.218966630282724,\"y1\":13.618966630282722,\"yref\":\"y\"},{\"fillcolor\":\"rgba(255,255,255,0)\",\"line\":{\"width\":0},\"type\":\"circle\",\"x0\":0.0,\"x1\":0.0,\"xref\":\"x\",\"y0\":0.0,\"y1\":0.0,\"yref\":\"y\"},{\"fillcolor\":\"rgba(255,255,255,0)\",\"line\":{\"width\":0},\"type\":\"circle\",\"x0\":0.0,\"x1\":0.0,\"xref\":\"x\",\"y0\":0.0,\"y1\":0.0,\"yref\":\"y\"},{\"fillcolor\":\"rgba(255,255,255,0)\",\"line\":{\"width\":0},\"type\":\"circle\",\"x0\":0.0,\"x1\":0.0,\"xref\":\"x\",\"y0\":0.0,\"y1\":0.0,\"yref\":\"y\"},{\"fillcolor\":\"rgba(255,255,255,0)\",\"line\":{\"width\":0},\"type\":\"circle\",\"x0\":0.0,\"x1\":0.0,\"xref\":\"x\",\"y0\":0.0,\"y1\":0.0,\"yref\":\"y\"},{\"fillcolor\":\"rgba(255,255,255,0)\",\"line\":{\"width\":0},\"type\":\"circle\",\"x0\":0.0,\"x1\":0.0,\"xref\":\"x\",\"y0\":0.0,\"y1\":0.0,\"yref\":\"y\"},{\"fillcolor\":\"rgba(255,255,255,0)\",\"line\":{\"width\":0},\"type\":\"circle\",\"x0\":0.0,\"x1\":0.0,\"xref\":\"x\",\"y0\":0.0,\"y1\":0.0,\"yref\":\"y\"},{\"fillcolor\":\"rgba(255,255,255,0)\",\"line\":{\"width\":0},\"type\":\"circle\",\"x0\":0.0,\"x1\":0.0,\"xref\":\"x\",\"y0\":0.0,\"y1\":0.0,\"yref\":\"y\"},{\"fillcolor\":\"rgba(255,255,255,0)\",\"line\":{\"width\":0},\"type\":\"circle\",\"x0\":0.0,\"x1\":0.0,\"xref\":\"x\",\"y0\":0.0,\"y1\":0.0,\"yref\":\"y\"},{\"fillcolor\":\"rgba(255,255,255,0)\",\"line\":{\"width\":0},\"type\":\"circle\",\"x0\":0.0,\"x1\":0.0,\"xref\":\"x\",\"y0\":0.0,\"y1\":0.0,\"yref\":\"y\"},{\"line\":{\"color\":\"white\",\"width\":3},\"type\":\"line\",\"x0\":12.123084616779458,\"x1\":12.319068764694626,\"y0\":13.418966630282723,\"y1\":13.458844114731546},{\"line\":{\"color\":\"rgba(255,255,255,0)\",\"width\":3},\"type\":\"line\",\"x0\":0.0,\"x1\":null,\"y0\":0.0,\"y1\":null},{\"line\":{\"color\":\"rgba(255,255,255,0)\",\"width\":3},\"type\":\"line\",\"x0\":0.0,\"x1\":null,\"y0\":0.0,\"y1\":null},{\"line\":{\"color\":\"rgba(255,255,255,0)\",\"width\":3},\"type\":\"line\",\"x0\":0.0,\"x1\":null,\"y0\":0.0,\"y1\":null},{\"line\":{\"color\":\"rgba(255,255,255,0)\",\"width\":3},\"type\":\"line\",\"x0\":0.0,\"x1\":null,\"y0\":0.0,\"y1\":null},{\"line\":{\"color\":\"rgba(255,255,255,0)\",\"width\":3},\"type\":\"line\",\"x0\":0.0,\"x1\":null,\"y0\":0.0,\"y1\":null},{\"line\":{\"color\":\"rgba(255,255,255,0)\",\"width\":3},\"type\":\"line\",\"x0\":0.0,\"x1\":null,\"y0\":0.0,\"y1\":null},{\"line\":{\"color\":\"rgba(255,255,255,0)\",\"width\":3},\"type\":\"line\",\"x0\":0.0,\"x1\":null,\"y0\":0.0,\"y1\":null},{\"line\":{\"color\":\"rgba(255,255,255,0)\",\"width\":3},\"type\":\"line\",\"x0\":0.0,\"x1\":null,\"y0\":0.0,\"y1\":null},{\"line\":{\"color\":\"rgba(255,255,255,0)\",\"width\":3},\"type\":\"line\",\"x0\":0.0,\"x1\":null,\"y0\":0.0,\"y1\":null}],\"title\":{\"text\":\"\\u003cb\\u003ePercentage using the shortest path: 0%  |  Number of Agents: 1\\u003c\\u002fb\\u003e\",\"x\":0.5}},\"name\":\"800\"}]);\n                        }).then(function(){\n                            \nvar gd = document.getElementById('3bbb5fb6-7564-45f7-8149-23e88e85c2d7');\nvar x = new MutationObserver(function (mutations, observer) {{\n        var display = window.getComputedStyle(gd).display;\n        if (!display || display === 'none') {{\n            console.log([gd, 'removed!']);\n            Plotly.purge(gd);\n            observer.disconnect();\n        }}\n}});\n\n// Listen for the removal of the full notebook cells\nvar notebookContainer = gd.closest('#notebook-container');\nif (notebookContainer) {{\n    x.observe(notebookContainer, {childList: true});\n}}\n\n// Listen for the clearing of the current output cell\nvar outputEl = gd.closest('.output');\nif (outputEl) {{\n    x.observe(outputEl, {childList: true});\n}}\n\n                        })                };                });            </script>        </div>"
     },
     "metadata": {},
     "output_type": "display_data"
    }
   ],
   "source": [
    "agent_trajectories = {}\n",
    "for percentage in percentages:\n",
    "    trajectory_file = trajectory_files[percentage]\n",
    "    agent_trajectories[percentage], walkable_area = read_sqlite_file(\n",
    "        trajectory_file\n",
    "    )\n",
    "    animate(\n",
    "        agent_trajectories[percentage],\n",
    "        walkable_area,\n",
    "        title_note=f\"Percentage using the shortest path: {percentage}%\",\n",
    "        risk_per_frame=all_risks,\n",
    "        specific_areas=specific_areas\n",
    "    ).show()"
   ],
   "metadata": {
    "collapsed": false
   }
  },
  {
   "cell_type": "code",
   "execution_count": 322,
   "outputs": [],
   "source": [],
   "metadata": {
    "collapsed": false
   }
  }
 ],
 "metadata": {
  "kernelspec": {
   "display_name": "Python 3",
   "language": "python",
   "name": "python3"
  },
  "language_info": {
   "codemirror_mode": {
    "name": "ipython",
    "version": 2
   },
   "file_extension": ".py",
   "mimetype": "text/x-python",
   "name": "python",
   "nbconvert_exporter": "python",
   "pygments_lexer": "ipython2",
   "version": "2.7.6"
  }
 },
 "nbformat": 4,
 "nbformat_minor": 0
}
