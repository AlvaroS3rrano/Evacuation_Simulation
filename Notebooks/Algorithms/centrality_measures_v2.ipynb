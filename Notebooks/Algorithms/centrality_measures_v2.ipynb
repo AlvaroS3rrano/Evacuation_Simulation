{
 "cells": [
  {
   "cell_type": "markdown",
   "source": [
    "# Centrality Measures"
   ],
   "metadata": {
    "collapsed": false
   }
  },
  {
   "cell_type": "code",
   "execution_count": 97,
   "outputs": [],
   "source": [
    "import pathlib\n",
    "\n",
    "import jupedsim as jps\n",
    "import matplotlib.pyplot as plt\n",
    "import pedpy\n",
    "import shapely\n",
    "import sqlite3\n",
    "from matplotlib.patches import Circle\n",
    "from shapely import Polygon\n",
    "import networkx as nx\n",
    "from jupedsim.internal.notebook_utils import animate, read_sqlite_file\n",
    "%matplotlib inline\n",
    "import plotly.graph_objects as go\n",
    "from Py.centralityMeasures import centralityMeasuresAlgorithm\n",
    "from Py.RiskSimulationValues import RiskSimulationValues\n",
    "\n",
    "from Py.DangerSimulation import *\n",
    "from Py.animation import animate\n",
    "\n",
    "try:\n",
    "    %reload_ext autoreload\n",
    "except:\n",
    "    %load_ext autoreload\n",
    "%autoreload 2"
   ],
   "metadata": {
    "collapsed": false
   }
  },
  {
   "cell_type": "code",
   "execution_count": 98,
   "outputs": [
    {
     "data": {
      "text/plain": "Text(2.5, 2.5, 'Start')"
     },
     "execution_count": 98,
     "metadata": {},
     "output_type": "execute_result"
    },
    {
     "data": {
      "text/plain": "<Figure size 640x480 with 1 Axes>",
      "image/png": "[encoded data removed]"
     },
     "metadata": {},
     "output_type": "display_data"
    }
   ],
   "source": [
    "complete_area = Polygon(\n",
    "    [\n",
    "        (0, 0),\n",
    "        (0, 15),\n",
    "        (15, 15),\n",
    "        (15, 0),\n",
    "    ]\n",
    ")\n",
    "obstacles = [\n",
    "    #bottom\n",
    "    Polygon([(4.9, 0.0), (4.9, 1.5), (5.1, 1.5),(5.1, 0.0)]),\n",
    "    Polygon([(9.9, 0.0), (9.9, 1.5), (10.1, 1.5),(10.1, 0.0)]),\n",
    "    #right\n",
    "    Polygon([(13.6, 4.9), (15, 4.9), (15, 5.1),(13.6, 5.1)]),\n",
    "    Polygon([(13.6, 9.9), (15, 9.9), (15, 10.1),(13.6, 10.1)]),\n",
    "    #top\n",
    "    Polygon([(4.9, 15), (4.9, 13.6), (5.1, 13.6),(5.1, 15)]),\n",
    "    Polygon([(9.9, 15), (9.9, 13.6), (10.1, 13.6),(10.1, 15)]),\n",
    "    #left\n",
    "    Polygon([(1.5, 4.9), (0, 4.9), (0, 5.1),(1.5, 5.1)]),\n",
    "    Polygon([(1.5, 9.9), (0, 9.9), (0, 10.1),(1.5, 10.1)]),\n",
    "    #center\n",
    "    ## bottom left\n",
    "    Polygon([(3.6, 4.9), (4.9, 4.9), (4.9, 3.6), (5.1, 3.6), (5.1, 4.9), (6.4, 4.9), (6.4, 5.1), (5.1, 5.1), (5.1, 6.5), (4.9, 6.5), (4.9, 5.1), (3.6, 5.1)  ]),\n",
    "    ## bottom right\n",
    "    Polygon([(8.6, 4.9), (9.9, 4.9), (9.9, 3.6), (10.1, 3.6), (10.1, 4.9), (11.5, 4.9), (11.5, 5.1), (10.1, 5.1), (10.1, 6.5), (9.9, 6.5), (9.9, 5.1), (8.6, 5.1)  ]),\n",
    "    ## top left\n",
    "    Polygon([(3.6, 9.9), (4.9, 9.9), (4.9, 8.6), (5.1, 8.6), (5.1, 9.9), (6.4, 9.9), (6.4, 10.1), (5.1, 10.1), (5.1, 11.5), (4.9, 11.5), (4.9, 10.1), (3.6, 10.1)  ]),\n",
    "    ## top right\n",
    "    Polygon([(8.6, 9.9), (9.9, 9.9), (9.9, 8.6), (10.1, 8.6), (10.1, 9.9), (11.5, 9.9), (11.5, 10.1), (10.1, 10.1), (10.1, 11.5), (9.9, 11.5), (9.9, 10.1), (8.6, 10.1)  ]),\n",
    "\n",
    "]\n",
    "\n",
    "exit_polygon = [(12.5, 12.5), (15, 12.5), (15, 15), (12.5, 15)]\n",
    "waypoints = {'B':([7.5, 2.5], 1.5), 'C':([12.5, 2.5], 1.5), 'D':([12.5, 7.5], 1.5), 'E':([7.5, 7.5], 1.5), 'F':([2.5, 7.5], 1.5), 'G':([2.5, 12.5], 1.5), 'H':([7.5, 12.5], 1.5)}\n",
    "distribution_polygon = Polygon([[0, 0], [5, 0], [5, 5], [0, 5]])\n",
    "obstacle = shapely.union_all(obstacles)  # combines obstacle polygons into only one polygon\n",
    "walkable_area = pedpy.WalkableArea(\n",
    "    shapely.difference(complete_area, obstacle))  # difference subtracts obstacle form complete_area\n",
    "fig, ax = plt.subplots(nrows=1, ncols=1)\n",
    "ax.set_aspect(\"equal\")\n",
    "pedpy.plot_walkable_area(walkable_area=walkable_area, axes=ax)\n",
    "\n",
    "for idx, (waypoint, distance) in waypoints.items():\n",
    "    ax.plot(waypoint[0], waypoint[1], \"ro\")\n",
    "    ax.annotate(\n",
    "        f\"{idx}\",\n",
    "        (waypoint[0], waypoint[1]),\n",
    "        textcoords=\"offset points\",\n",
    "        xytext=(10, -15),\n",
    "        ha=\"center\",\n",
    "    )\n",
    "    circle = Circle(\n",
    "        (waypoint[0], waypoint[1]), distance, fc=\"red\", ec=\"red\", alpha=0.1\n",
    "    )\n",
    "    ax.add_patch(circle)\n",
    "\n",
    "x, y = Polygon(exit_polygon).exterior.xy\n",
    "plt.fill(x, y, alpha=0.1, color=\"orange\")\n",
    "centroid = Polygon(exit_polygon).centroid\n",
    "plt.text(centroid.x, centroid.y, \"Exit\", ha=\"center\", va=\"center\", fontsize=8)\n",
    "\n",
    "x, y = distribution_polygon.exterior.xy\n",
    "plt.fill(x, y, alpha=0.1, color=\"blue\")\n",
    "centroid = distribution_polygon.centroid\n",
    "plt.text(centroid.x, centroid.y, \"Start\", ha=\"center\", va=\"center\", fontsize=10)"
   ],
   "metadata": {
    "collapsed": false
   }
  },
  {
   "cell_type": "code",
   "execution_count": 99,
   "outputs": [],
   "source": [
    "specific_areas = dict()\n",
    "specific_areas['A'] = Polygon([(0,0), (5,0), (5,5), (0,5)])\n",
    "specific_areas['B'] = Polygon([(5,0), (10,0), (10,5), (5,5)])\n",
    "specific_areas['C'] = Polygon([(10,0), (15,0), (15,5), (10,5)])\n",
    "specific_areas['D'] = Polygon([(10,5), (15,5), (15,10), (10,10)])\n",
    "specific_areas['E'] = Polygon([(5,5), (10,5), (10,10), (5,10)])\n",
    "specific_areas['F'] = Polygon([(0,5), (5,5), (5,10), (0,10)])\n",
    "specific_areas['G'] = Polygon([(0,10), (5,10), (5,15), (0,15)])\n",
    "specific_areas['H'] = Polygon([(5,10), (10,10), (10,15), (5,15)])\n",
    "specific_areas['I'] = Polygon([(10,10), (15,10), (15,15), (10,15)])"
   ],
   "metadata": {
    "collapsed": false
   }
  },
  {
   "cell_type": "markdown",
   "source": [
    "## Configuration of Simulation Scenarios"
   ],
   "metadata": {
    "collapsed": false
   }
  },
  {
   "cell_type": "code",
   "execution_count": 100,
   "outputs": [],
   "source": [
    "simulations = {}\n",
    "percentages = [0]\n",
    "total_agents = 10\n",
    "for percentage in percentages:\n",
    "    trajectory_file = f\"../../sqlite_data/centrality_measures_percentage_{percentage}.sqlite\"\n",
    "    simulation = jps.Simulation(\n",
    "        #dt=0.005,\n",
    "        model=jps.CollisionFreeSpeedModel(\n",
    "            strength_neighbor_repulsion=2.6,\n",
    "            range_neighbor_repulsion=0.1,\n",
    "            range_geometry_repulsion=0.05,\n",
    "        ),\n",
    "        geometry=walkable_area.polygon,\n",
    "        trajectory_writer=jps.SqliteTrajectoryWriter(\n",
    "            output_file=pathlib.Path(trajectory_file),\n",
    "        ),\n",
    "    )\n",
    "    simulations[percentage] = simulation"
   ],
   "metadata": {
    "collapsed": false
   }
  },
  {
   "cell_type": "markdown",
   "source": [
    "## Choosing the path\n"
   ],
   "metadata": {
    "collapsed": false
   }
  },
  {
   "cell_type": "code",
   "execution_count": 101,
   "outputs": [],
   "source": [
    "# Create the graph\n",
    "G = nx.DiGraph()\n",
    "\n",
    "# Nodos y sus niveles iniciales de riesgo (0 a 1)\n",
    "nodes = {\n",
    "    \"A\": 1.0, \"B\": 0.4, \"C\": 1.0,\n",
    "    \"D\": 0.4, \"E\": 0.4, \"F\": 0.9,\n",
    "    \"G\": 1.0, \"H\": 1.0, \"I\": 1.0,\n",
    "}\n",
    "\n",
    "# Agregar nodos al grafo\n",
    "for node, risk in nodes.items():\n",
    "    G.add_node(node, risk=risk)\n",
    "\n",
    "# Definir las conexiones entre nodos\n",
    "edges = [\n",
    "    (\"A\", \"B\"), (\"A\", \"F\"), (\"B\", \"A\"), (\"B\", \"E\"), (\"B\", \"C\"),\n",
    "    (\"C\", \"B\"), (\"C\", \"D\"), (\"D\", \"I\"), (\"D\", \"E\"), (\"D\", \"C\"),\n",
    "    (\"E\", \"D\"), (\"E\", \"F\"), (\"E\", \"B\"), (\"E\", \"H\"), (\"F\", \"A\"),\n",
    "    (\"F\", \"E\"), (\"F\", \"G\"), (\"G\", \"F\"), (\"G\", \"H\"), (\"H\", \"E\"),\n",
    "    (\"H\", \"G\"), (\"H\", \"I\"),\n",
    "]\n",
    "\n",
    "# Agregar las aristas con un costo fijo (se puede ajustar)\n",
    "G.add_edges_from([(u, v, {\"cost\": 3}) for u, v in edges])\n",
    "\n",
    "# Parameters for calculation\n",
    "sources = [\"A\"]  # Source nodes\n",
    "targets = [\"I\"]  # Target nodes\n",
    "\n",
    "# Calculate all efficient paths between source-target pairs\n",
    "gamma = 1.2  # Time tolerance factor\n",
    "\n",
    "_, _, possible_paths = centralityMeasuresAlgorithm(G, sources, targets, gamma)"
   ],
   "metadata": {
    "collapsed": false
   }
  },
  {
   "cell_type": "markdown",
   "source": [
    "## Outlining Agent Journeys"
   ],
   "metadata": {
    "collapsed": false
   }
  },
  {
   "cell_type": "code",
   "execution_count": 102,
   "outputs": [],
   "source": [
    "def differentGraphs(start, end, paths, waypoint_ids, exit_id):\n",
    "    \"\"\"\n",
    "    Creates journey descriptions for agents based on paths ordered by centrality scores.\n",
    "\n",
    "    Args:\n",
    "        start (str): Starting node in the graph.\n",
    "        end (str): Ending node in the graph.\n",
    "        paths (dict): Dictionary of paths ordered by centrality scores.\n",
    "                      Structure: {source: [(path1, score1), (path2, score2), ...], ...}\n",
    "        waypoint_ids (dict): Dictionary mapping node IDs to waypoint IDs in the simulation.\n",
    "        exit_id (int): ID of the exit stage in the simulation.\n",
    "\n",
    "    Returns:\n",
    "        list[jps.JourneyDescription]: List of journey descriptions for the agents.\n",
    "    \"\"\"\n",
    "    if not paths:\n",
    "        raise ValueError(f\"No valid paths found from {start} to {end}.\")\n",
    "\n",
    "    journeys = []\n",
    "    for source, path_list in paths.items():\n",
    "        for path, score in path_list:  # Unpack path and its centrality score\n",
    "            if len(path) < 2:\n",
    "                continue\n",
    "\n",
    "            # Map graph nodes in the path to waypoint IDs, excluding start and end nodes\n",
    "            needed_waypoints = [waypoint_ids[node] for node in path[1:-1]]\n",
    "            if not needed_waypoints:\n",
    "                continue\n",
    "\n",
    "            # Create the journey description\n",
    "            journey = jps.JourneyDescription([*needed_waypoints, exit_id])\n",
    "\n",
    "            # Set transitions between waypoints\n",
    "            for idx, waypoint in enumerate(needed_waypoints):\n",
    "                next_waypoint = exit_id if idx == len(needed_waypoints) - 1 else needed_waypoints[idx + 1]\n",
    "                journey.set_transition_for_stage(\n",
    "                    waypoint, jps.Transition.create_fixed_transition(next_waypoint)\n",
    "                )\n",
    "\n",
    "            journeys.append((journey, path))\n",
    "\n",
    "    return journeys"
   ],
   "metadata": {
    "collapsed": false
   }
  },
  {
   "cell_type": "code",
   "execution_count": 103,
   "outputs": [],
   "source": [
    "def set_journeys(simulation, start, end, paths):\n",
    "    \"\"\"\n",
    "    Configures agent journeys in the simulation.\n",
    "\n",
    "    Args:\n",
    "        simulation (jps.Simulation): The simulation instance.\n",
    "        start (str): Starting node in the graph.\n",
    "        end (str): Ending node in the graph.\n",
    "\n",
    "    Returns:\n",
    "        tuple: Journeys IDs and the dictionary of waypoint IDs.\n",
    "    \"\"\"\n",
    "    # Add the exit stage to the simulation\n",
    "    exit_id = simulation.add_exit_stage(exit_polygon)\n",
    "\n",
    "    # Map nodes to waypoint IDs\n",
    "    waypoint_ids = {}\n",
    "    for node, (waypoint, distance) in waypoints.items():\n",
    "        waypoint_ids[node] = simulation.add_waypoint_stage(waypoint, distance)\n",
    "\n",
    "    # Create the journey based on the best paths\n",
    "    journeys = differentGraphs(start, end, paths, waypoint_ids, exit_id)\n",
    "\n",
    "    journeys_id = dict()  # Initialize an empty dictionary to store journey IDs and their associated paths\n",
    "\n",
    "    # Iterate over the journeys and their respective paths\n",
    "    for journey, path in journeys:\n",
    "        # Add each journey to the simulation and retrieve its unique ID\n",
    "        journey_id = simulation.add_journey(journey)\n",
    "\n",
    "        # Ensure the starting node is initialized in the dictionary\n",
    "        if start not in journeys_id:\n",
    "            journeys_id[start] = []\n",
    "\n",
    "        # Store the journey ID and the path in journeys_id for the starting node (start)\n",
    "        journeys_id[start].append((journey_id, path))\n",
    "\n",
    "    return journeys_id, waypoint_ids"
   ],
   "metadata": {
    "collapsed": false
   }
  },
  {
   "cell_type": "markdown",
   "source": [
    "## Allocate Agents"
   ],
   "metadata": {
    "collapsed": false
   }
  },
  {
   "cell_type": "code",
   "execution_count": 104,
   "outputs": [],
   "source": [
    "positions = jps.distribute_by_number(\n",
    "    polygon=distribution_polygon,\n",
    "    number_of_agents=total_agents,\n",
    "    distance_to_agents=0.4,\n",
    "    distance_to_polygon=0.7,\n",
    "    seed=45131502,\n",
    ")"
   ],
   "metadata": {
    "collapsed": false
   }
  },
  {
   "cell_type": "markdown",
   "source": [
    "## Launching the Simulation"
   ],
   "metadata": {
    "collapsed": false
   }
  },
  {
   "cell_type": "code",
   "execution_count": 105,
   "outputs": [],
   "source": [
    "def simulate_risk_per_frame(\n",
    "    G: nx.DiGraph,\n",
    "    total_frames: int,\n",
    "    propagation_chance=0.3,\n",
    "    increase_chance=0.2,\n",
    "):\n",
    "    \"\"\"\n",
    "    Genera niveles de riesgo por frame para sincronizar con la simulación de agentes.\n",
    "\n",
    "    Parámetros:\n",
    "        G (nx.DiGraph): Grafo con áreas y conexiones.\n",
    "        total_frames (int): Número total de frames de la simulación.\n",
    "        propagation_chance (float): Probabilidad de propagar riesgo.\n",
    "        increase_chance (float): Probabilidad de incrementar riesgo.\n",
    "\n",
    "    Retorna:\n",
    "        dict: Riesgos por frame en formato {frame: {area: riesgo}}.\n",
    "    \"\"\"\n",
    "    risks_per_frame = {}\n",
    "\n",
    "    for frame in range(total_frames):\n",
    "        # Actualizar riesgos en el grafo\n",
    "        update_risk(G, propagation_chance, increase_chance)\n",
    "\n",
    "        # Guardar riesgos actuales\n",
    "        risks_per_frame[frame] = {node: G.nodes[node][\"risk\"] for node in G.nodes}\n",
    "\n",
    "    return risks_per_frame"
   ],
   "metadata": {
    "collapsed": false
   }
  },
  {
   "cell_type": "code",
   "execution_count": 106,
   "outputs": [],
   "source": [
    "def update_group_paths(simulation, risk_per_node, waypoint_id, journeys_id, agent_group, risk_threshold=0.5):\n",
    "    \"\"\"\n",
    "    Updates the paths of a group of agents based on the current node of the first agent in the group.\n",
    "    If the path is considered unsafe, all agents in the group are updated.\n",
    "\n",
    "    Args:\n",
    "        simulation (jps.Simulation): Instance of the simulation.\n",
    "        G (networkx.DiGraph): Graph representing node connections and risks.\n",
    "        waypoint_id (dict): Dictionary mapping nodes to waypoint IDs.\n",
    "        journeys_id (dict): Dictionary mapping start nodes to a list of tuples (journey_id, path).\n",
    "        agent_group (tuple): Tuple containing a list of agent IDs and the current path.\n",
    "        risk_threshold (float): Risk threshold above which a path segment is considered unsafe.\n",
    "\n",
    "    Returns:\n",
    "        tuple: Updated agent_group tuple with the new path, or the original if no update was made.\n",
    "    \"\"\"\n",
    "\n",
    "    agents_ids, current_path = agent_group\n",
    "    if not agents_ids:\n",
    "        # No agents in the group\n",
    "        return agent_group\n",
    "\n",
    "    # Get the ID of the agent in the middle of the group\n",
    "    # first_agent_id = agents_ids[(len(agents_ids) // 2) - 1]\n",
    "    first_agent_id = agents_ids[0]\n",
    "    # Check if the first agent still exists in the simulation\n",
    "    agent_exists = any(agent.id == first_agent_id for agent in simulation.agents())\n",
    "    if not agent_exists:\n",
    "        # The first agent no longer exists in the simulation\n",
    "        return agent_group\n",
    "\n",
    "    # Retrieve the first agent to evaluate the group's path\n",
    "    agent = simulation.agent(first_agent_id)\n",
    "\n",
    "    current_stage = agent.stage_id  # Current stage ID of the agent\n",
    "    next_node = None\n",
    "\n",
    "    # Find the node associated with the agent's current stage\n",
    "    for node, waypoint in waypoint_id.items():\n",
    "        if waypoint == current_stage:\n",
    "            next_node = node\n",
    "            break\n",
    "\n",
    "    # If the next node is not found, exit\n",
    "    if not next_node:\n",
    "        return agent_group\n",
    "\n",
    "    # Get the current node the agent is heading to\n",
    "    index = current_path.index(next_node) - 1\n",
    "    current_node = current_path[index]\n",
    "\n",
    "    # Check if the next node is dangerous\n",
    "    if risk_per_node[next_node] >= risk_threshold: # 0 is the most risky and 1 the safest\n",
    "        # The next node is safe; no changes needed\n",
    "        return agent_group\n",
    "\n",
    "    # If the next node is dangerous, search for alternative paths that pass through the current node\n",
    "    alternative_paths = []\n",
    "    for journey_id, path in journeys_id.get(\"A\", []):  # Assuming all paths start from \"A\"\n",
    "        if current_node in path:\n",
    "            # Get the segment of the path from the current node to the end\n",
    "            start_index = path.index(current_node)\n",
    "            remaining_path = path[start_index:]\n",
    "\n",
    "            # Calculate the total risk of the remaining path\n",
    "            total_risk = sum(risk_per_node[node] for node in remaining_path)\n",
    "\n",
    "            # Add the path and its risk if it's below the threshold\n",
    "            alternative_paths.append((journey_id, remaining_path, total_risk))\n",
    "\n",
    "    if alternative_paths:\n",
    "        # Select the best alternative path (lowest risk)\n",
    "        best_path = max(alternative_paths, key=lambda x: x[2])  # Maximize total security\n",
    "        new_journey_id = best_path[0]\n",
    "        remaining_path = best_path[1]\n",
    "\n",
    "        # Determine the next node in the path\n",
    "        if len(remaining_path) > 1:\n",
    "            next_node = remaining_path[1]\n",
    "            next_stage_id = waypoint_id[next_node]\n",
    "\n",
    "            # Update all agents in the group to the new journey and stage\n",
    "            for agent_id in agents_ids:\n",
    "                simulation.switch_agent_journey(agent_id, new_journey_id, next_stage_id)\n",
    "\n",
    "            # Return the updated agent_group tuple with the new path\n",
    "            return (agents_ids, remaining_path)\n",
    "\n",
    "    # If no update was made, return the original agent_group\n",
    "    return agent_group"
   ],
   "metadata": {
    "collapsed": false
   }
  },
  {
   "cell_type": "code",
   "execution_count": 107,
   "outputs": [],
   "source": [
    "def simulate_risk(riskSimulationValues, every_nth_frame, G, connection):\n",
    "    \"\"\"\n",
    "    Simulates risk propagation in a graph over multiple frames and stores the results in a database.\n",
    "\n",
    "    Args:\n",
    "        iterations (int): Total number of frames to simulate.\n",
    "        every_nth_frame (int): Interval of frames at which risk updates are performed.\n",
    "        G (networkx.Graph): Graph where each node has a \"risk\" attribute.\n",
    "        propagation_chance (float): Probability of risk spreading between connected nodes.\n",
    "        increase_chance (float): Probability of individual nodes increasing their risk.\n",
    "        connection (sqlite3.Connection): Open SQLite database connection to store risk data.\n",
    "    \"\"\"\n",
    "    # Validate the input arguments\n",
    "    if riskSimulationValues.iterations <= 0:\n",
    "        raise ValueError(\"iterations must be a positive integer.\")\n",
    "    if every_nth_frame <= 0:\n",
    "        raise ValueError(\"every_nth_frame must be a positive integer.\")\n",
    "\n",
    "    for frame in range(riskSimulationValues.iterations + 1):\n",
    "        if frame == 0:\n",
    "            # Save the initial risk levels of all nodes before any updates\n",
    "            try:\n",
    "                write_risk_levels(connection, 0, {node: G.nodes[node][\"risk\"] for node in G.nodes})\n",
    "            except Exception as e:\n",
    "                print(f\"Error writing initial risks: {e}\")\n",
    "            continue\n",
    "\n",
    "        if frame % every_nth_frame == 0:\n",
    "            try:\n",
    "                # Update risks in the graph based on propagation and increase chances\n",
    "                update_risk(G, riskSimulationValues.propagation_chance, riskSimulationValues.increase_chance)\n",
    "                # Save the updated risk levels for the current frame\n",
    "                write_risk_levels(connection, frame, {node: G.nodes[node][\"risk\"] for node in G.nodes})\n",
    "            except Exception as e:\n",
    "                print(f\"Error updating risks at frame {frame}: {e}\")"
   ],
   "metadata": {
    "collapsed": false
   }
  },
  {
   "cell_type": "code",
   "execution_count": 108,
   "outputs": [],
   "source": [
    "def run_agent_simulation(simulation, connection, every_nth_frame, waypoint_id, journeys_id, agent_group, risk_threshold):\n",
    "    \"\"\"\n",
    "    Runs the agent simulation, updating their paths based on risk levels from the database.\n",
    "\n",
    "    Args:\n",
    "        simulation (object): Jupedsim simulation object managing agents and environment.\n",
    "        connection (sqlite3.Connection): Open SQLite database connection to fetch risk data.\n",
    "        every_nth_frame (int): Interval at which agent paths are updated.\n",
    "        waypoint_id (dict): Mapping of nodes to waypoint IDs.\n",
    "        journeys_id (dict): Mapping of source nodes to journey IDs.\n",
    "        agent_group (tuple): Tuple containing agents and their current path.\n",
    "        risk_threshold (float): Threshold above which agents will try to avoid high-risk areas.\n",
    "    \"\"\"\n",
    "    while simulation.agent_count() > 0:\n",
    "        # Advance the simulation by one frame\n",
    "        simulation.iterate()\n",
    "        frame = simulation.iteration_count()\n",
    "\n",
    "        # Update agent paths only at specified intervals\n",
    "        if frame % every_nth_frame == 0:\n",
    "            try:\n",
    "                # Fetch risk levels for the current frame from the database\n",
    "                risk_this_frame = get_risk_levels_by_frame(connection, frame)\n",
    "\n",
    "                # Update paths for the agents based on current risks and threshold\n",
    "                agent_group = update_group_paths(\n",
    "                    simulation, risk_this_frame, waypoint_id, journeys_id, agent_group, risk_threshold=risk_threshold\n",
    "                )\n",
    "            except Exception as e:\n",
    "                print(f\"Error updating paths at frame {frame}: {e}\")"
   ],
   "metadata": {
    "collapsed": false
   }
  },
  {
   "cell_type": "code",
   "execution_count": 109,
   "outputs": [],
   "source": [
    "# False -> to use the default risk evolution, True -> random risk evolution\n",
    "use_random_risk_layout = True"
   ],
   "metadata": {
    "collapsed": false
   }
  },
  {
   "cell_type": "code",
   "execution_count": 110,
   "outputs": [],
   "source": [
    "trajectory_files = {}\n",
    "for percentage, simulation in simulations.items():\n",
    "    # Set up journeys and waypoints for the simulation\n",
    "    journeys_id, waypoint_id = set_journeys(\n",
    "        simulation, sources[0], targets[0], possible_paths  # sources[0] -> start, targets[0] -> exit\n",
    "    )\n",
    "\n",
    "    # Retrieve the best path for the first source and its associated journey ID\n",
    "    journey_id, best_path_source_0 = journeys_id[sources[0]][0]\n",
    "    next_node = best_path_source_0[1]  # Get the next node on the best path\n",
    "    first_waypoint_id = waypoint_id[next_node]  # Determine the waypoint ID for the next node\n",
    "\n",
    "    # Calculate the number of items based on the percentage of positions\n",
    "    num_items = int(len(positions) * (percentage / 100.0))\n",
    "\n",
    "    # Initialize an agent group\n",
    "    agents = []\n",
    "    for position in positions[num_items:]:  # Use the second half of the positions\n",
    "        # Add agents with specified parameters (e.g., position, journey, velocity)\n",
    "        agents.append(\n",
    "            simulation.add_agent(\n",
    "                jps.CollisionFreeSpeedModelAgentParameters(\n",
    "                    position=position,       # Initial position of the agent\n",
    "                    journey_id=journey_id,   # Journey ID for the agent\n",
    "                    stage_id=first_waypoint_id,  # Starting waypoint for the agent\n",
    "                    v0=0.8                   # Desired maximum speed of the agent\n",
    "                )\n",
    "            )\n",
    "        )\n",
    "    agent_group = (agents, best_path_source_0)  # Group the agents with their best path\n",
    "\n",
    "    # Simulation parameters\n",
    "    every_nth_frame = 50  # Interval of frames for risk updates\n",
    "    riskSimulationValues = RiskSimulationValues(3000, 0.005, 0.05)\n",
    "\n",
    "    # Establish a connection to the appropriate SQLite database\n",
    "    default_connection_file = \"../../sqlite_data/default_centrality_measures_risks.db\" # default risk evolution file\n",
    "    new_connection_file = \"../../sqlite_data/centrality_measures_risks.db\" # random risk evolution file\n",
    "    if use_random_risk_layout:\n",
    "        connection_file = new_connection_file  # Use new database if random risk layout is enabled\n",
    "    else:\n",
    "        connection_file = default_connection_file  # Use default database otherwise\n",
    "\n",
    "    connection = sqlite3.connect(connection_file)\n",
    "\n",
    "    try:\n",
    "        if use_random_risk_layout:\n",
    "            # Create or reset the risk table if random risk layout is enabled\n",
    "            create_risk_table(connection)\n",
    "\n",
    "            # Simulate risk propagation and store results in the database\n",
    "            simulate_risk(riskSimulationValues, every_nth_frame, G, connection)\n",
    "\n",
    "        # Run the agent simulation, updating paths based on the risk levels\n",
    "        run_agent_simulation(\n",
    "            simulation,\n",
    "            connection,\n",
    "            every_nth_frame,\n",
    "            waypoint_id,\n",
    "            journeys_id,\n",
    "            agent_group,\n",
    "            risk_threshold=0.5  # Threshold for avoiding high-risk areas\n",
    "        )\n",
    "    finally:\n",
    "        # Ensure the database connection is closed after operations\n",
    "        connection.close()\n",
    "\n",
    "    # Generate the trajectory file for the current percentage and store its path\n",
    "    trajectory_file = f\"../../sqlite_data/centrality_measures_percentage_{percentage}.sqlite\"\n",
    "    trajectory_files[percentage] = trajectory_file"
   ],
   "metadata": {
    "collapsed": false
   }
  },
  {
   "cell_type": "code",
   "execution_count": 111,
   "outputs": [
    {
     "name": "stdout",
     "output_type": "stream",
     "text": [
      "Frame 0, Area A: Risk Level 1.0\n",
      "Frame 0, Area B: Risk Level 0.4\n",
      "Frame 0, Area C: Risk Level 1.0\n",
      "Frame 0, Area D: Risk Level 0.4\n",
      "Frame 0, Area E: Risk Level 0.4\n",
      "Frame 0, Area F: Risk Level 0.9\n",
      "Frame 0, Area G: Risk Level 1.0\n",
      "Frame 0, Area H: Risk Level 1.0\n",
      "Frame 0, Area I: Risk Level 1.0\n",
      "Frame 50, Area A: Risk Level 1.0\n",
      "Frame 50, Area B: Risk Level 0.4\n",
      "Frame 50, Area C: Risk Level 1.0\n",
      "Frame 50, Area D: Risk Level 0.4\n",
      "Frame 50, Area E: Risk Level 0.4\n",
      "Frame 50, Area F: Risk Level 0.9\n",
      "Frame 50, Area G: Risk Level 1.0\n",
      "Frame 50, Area H: Risk Level 1.0\n",
      "Frame 50, Area I: Risk Level 1.0\n",
      "Frame 100, Area A: Risk Level 1.0\n",
      "Frame 100, Area B: Risk Level 0.4\n",
      "Frame 100, Area C: Risk Level 1.0\n",
      "Frame 100, Area D: Risk Level 0.4\n",
      "Frame 100, Area E: Risk Level 0.4\n",
      "Frame 100, Area F: Risk Level 0.9\n",
      "Frame 100, Area G: Risk Level 1.0\n",
      "Frame 100, Area H: Risk Level 1.0\n",
      "Frame 100, Area I: Risk Level 1.0\n",
      "Frame 150, Area A: Risk Level 1.0\n",
      "Frame 150, Area B: Risk Level 0.4\n",
      "Frame 150, Area C: Risk Level 1.0\n",
      "Frame 150, Area D: Risk Level 0.4\n",
      "Frame 150, Area E: Risk Level 0.4\n",
      "Frame 150, Area F: Risk Level 0.9\n",
      "Frame 150, Area G: Risk Level 1.0\n",
      "Frame 150, Area H: Risk Level 1.0\n",
      "Frame 150, Area I: Risk Level 1.0\n",
      "Frame 200, Area A: Risk Level 1.0\n",
      "Frame 200, Area B: Risk Level 0.4\n",
      "Frame 200, Area C: Risk Level 1.0\n",
      "Frame 200, Area D: Risk Level 0.4\n",
      "Frame 200, Area E: Risk Level 0.4\n",
      "Frame 200, Area F: Risk Level 0.9\n",
      "Frame 200, Area G: Risk Level 1.0\n",
      "Frame 200, Area H: Risk Level 1.0\n",
      "Frame 200, Area I: Risk Level 1.0\n",
      "Frame 250, Area A: Risk Level 1.0\n",
      "Frame 250, Area B: Risk Level 0.4\n",
      "Frame 250, Area C: Risk Level 1.0\n",
      "Frame 250, Area D: Risk Level 0.4\n",
      "Frame 250, Area E: Risk Level 0.4\n",
      "Frame 250, Area F: Risk Level 0.9\n",
      "Frame 250, Area G: Risk Level 1.0\n",
      "Frame 250, Area H: Risk Level 1.0\n",
      "Frame 250, Area I: Risk Level 1.0\n",
      "Frame 300, Area A: Risk Level 1.0\n",
      "Frame 300, Area B: Risk Level 0.4\n",
      "Frame 300, Area C: Risk Level 1.0\n",
      "Frame 300, Area D: Risk Level 0.4\n",
      "Frame 300, Area E: Risk Level 0.3\n",
      "Frame 300, Area F: Risk Level 0.9\n",
      "Frame 300, Area G: Risk Level 1.0\n",
      "Frame 300, Area H: Risk Level 1.0\n",
      "Frame 300, Area I: Risk Level 1.0\n",
      "Frame 350, Area A: Risk Level 1.0\n",
      "Frame 350, Area B: Risk Level 0.4\n",
      "Frame 350, Area C: Risk Level 1.0\n",
      "Frame 350, Area D: Risk Level 0.4\n",
      "Frame 350, Area E: Risk Level 0.3\n",
      "Frame 350, Area F: Risk Level 0.9\n",
      "Frame 350, Area G: Risk Level 1.0\n",
      "Frame 350, Area H: Risk Level 1.0\n",
      "Frame 350, Area I: Risk Level 1.0\n",
      "Frame 400, Area A: Risk Level 1.0\n",
      "Frame 400, Area B: Risk Level 0.4\n",
      "Frame 400, Area C: Risk Level 1.0\n",
      "Frame 400, Area D: Risk Level 0.4\n",
      "Frame 400, Area E: Risk Level 0.3\n",
      "Frame 400, Area F: Risk Level 0.9\n",
      "Frame 400, Area G: Risk Level 1.0\n",
      "Frame 400, Area H: Risk Level 1.0\n",
      "Frame 400, Area I: Risk Level 1.0\n",
      "Frame 450, Area A: Risk Level 0.8\n",
      "Frame 450, Area B: Risk Level 0.4\n",
      "Frame 450, Area C: Risk Level 1.0\n",
      "Frame 450, Area D: Risk Level 0.4\n",
      "Frame 450, Area E: Risk Level 0.3\n",
      "Frame 450, Area F: Risk Level 0.9\n",
      "Frame 450, Area G: Risk Level 1.0\n",
      "Frame 450, Area H: Risk Level 1.0\n",
      "Frame 450, Area I: Risk Level 1.0\n",
      "Frame 500, Area A: Risk Level 0.8\n",
      "Frame 500, Area B: Risk Level 0.4\n",
      "Frame 500, Area C: Risk Level 1.0\n",
      "Frame 500, Area D: Risk Level 0.4\n",
      "Frame 500, Area E: Risk Level 0.3\n",
      "Frame 500, Area F: Risk Level 0.9\n",
      "Frame 500, Area G: Risk Level 1.0\n",
      "Frame 500, Area H: Risk Level 1.0\n",
      "Frame 500, Area I: Risk Level 1.0\n",
      "Frame 550, Area A: Risk Level 0.8\n",
      "Frame 550, Area B: Risk Level 0.4\n",
      "Frame 550, Area C: Risk Level 1.0\n",
      "Frame 550, Area D: Risk Level 0.4\n",
      "Frame 550, Area E: Risk Level 0.3\n",
      "Frame 550, Area F: Risk Level 0.9\n",
      "Frame 550, Area G: Risk Level 1.0\n",
      "Frame 550, Area H: Risk Level 1.0\n",
      "Frame 550, Area I: Risk Level 1.0\n",
      "Frame 600, Area A: Risk Level 0.6\n",
      "Frame 600, Area B: Risk Level 0.4\n",
      "Frame 600, Area C: Risk Level 1.0\n",
      "Frame 600, Area D: Risk Level 0.4\n",
      "Frame 600, Area E: Risk Level 0.3\n",
      "Frame 600, Area F: Risk Level 0.9\n",
      "Frame 600, Area G: Risk Level 0.8\n",
      "Frame 600, Area H: Risk Level 1.0\n",
      "Frame 600, Area I: Risk Level 1.0\n",
      "Frame 650, Area A: Risk Level 0.6\n",
      "Frame 650, Area B: Risk Level 0.4\n",
      "Frame 650, Area C: Risk Level 1.0\n",
      "Frame 650, Area D: Risk Level 0.4\n",
      "Frame 650, Area E: Risk Level 0.3\n",
      "Frame 650, Area F: Risk Level 0.9\n",
      "Frame 650, Area G: Risk Level 0.8\n",
      "Frame 650, Area H: Risk Level 1.0\n",
      "Frame 650, Area I: Risk Level 1.0\n",
      "Frame 700, Area A: Risk Level 0.6\n",
      "Frame 700, Area B: Risk Level 0.4\n",
      "Frame 700, Area C: Risk Level 1.0\n",
      "Frame 700, Area D: Risk Level 0.4\n",
      "Frame 700, Area E: Risk Level 0.3\n",
      "Frame 700, Area F: Risk Level 0.9\n",
      "Frame 700, Area G: Risk Level 0.8\n",
      "Frame 700, Area H: Risk Level 1.0\n",
      "Frame 700, Area I: Risk Level 1.0\n",
      "Frame 750, Area A: Risk Level 0.5\n",
      "Frame 750, Area B: Risk Level 0.4\n",
      "Frame 750, Area C: Risk Level 1.0\n",
      "Frame 750, Area D: Risk Level 0.4\n",
      "Frame 750, Area E: Risk Level 0.3\n",
      "Frame 750, Area F: Risk Level 0.9\n",
      "Frame 750, Area G: Risk Level 0.8\n",
      "Frame 750, Area H: Risk Level 1.0\n",
      "Frame 750, Area I: Risk Level 1.0\n",
      "Frame 800, Area A: Risk Level 0.5\n",
      "Frame 800, Area B: Risk Level 0.4\n",
      "Frame 800, Area C: Risk Level 0.9\n",
      "Frame 800, Area D: Risk Level 0.4\n",
      "Frame 800, Area E: Risk Level 0.3\n",
      "Frame 800, Area F: Risk Level 0.9\n",
      "Frame 800, Area G: Risk Level 0.8\n",
      "Frame 800, Area H: Risk Level 1.0\n",
      "Frame 800, Area I: Risk Level 1.0\n",
      "Frame 850, Area A: Risk Level 0.5\n",
      "Frame 850, Area B: Risk Level 0.4\n",
      "Frame 850, Area C: Risk Level 0.9\n",
      "Frame 850, Area D: Risk Level 0.4\n",
      "Frame 850, Area E: Risk Level 0.3\n",
      "Frame 850, Area F: Risk Level 0.9\n",
      "Frame 850, Area G: Risk Level 0.7\n",
      "Frame 850, Area H: Risk Level 1.0\n",
      "Frame 850, Area I: Risk Level 1.0\n",
      "Frame 900, Area A: Risk Level 0.5\n",
      "Frame 900, Area B: Risk Level 0.4\n",
      "Frame 900, Area C: Risk Level 0.9\n",
      "Frame 900, Area D: Risk Level 0.4\n",
      "Frame 900, Area E: Risk Level 0.3\n",
      "Frame 900, Area F: Risk Level 0.9\n",
      "Frame 900, Area G: Risk Level 0.7\n",
      "Frame 900, Area H: Risk Level 1.0\n",
      "Frame 900, Area I: Risk Level 1.0\n",
      "Frame 950, Area A: Risk Level 0.5\n",
      "Frame 950, Area B: Risk Level 0.4\n",
      "Frame 950, Area C: Risk Level 0.9\n",
      "Frame 950, Area D: Risk Level 0.4\n",
      "Frame 950, Area E: Risk Level 0.3\n",
      "Frame 950, Area F: Risk Level 0.8\n",
      "Frame 950, Area G: Risk Level 0.7\n",
      "Frame 950, Area H: Risk Level 1.0\n",
      "Frame 950, Area I: Risk Level 1.0\n",
      "Frame 1000, Area A: Risk Level 0.5\n",
      "Frame 1000, Area B: Risk Level 0.4\n",
      "Frame 1000, Area C: Risk Level 0.9\n",
      "Frame 1000, Area D: Risk Level 0.3\n",
      "Frame 1000, Area E: Risk Level 0.3\n",
      "Frame 1000, Area F: Risk Level 0.6\n",
      "Frame 1000, Area G: Risk Level 0.7\n",
      "Frame 1000, Area H: Risk Level 1.0\n",
      "Frame 1000, Area I: Risk Level 1.0\n",
      "Frame 1050, Area A: Risk Level 0.4\n",
      "Frame 1050, Area B: Risk Level 0.4\n",
      "Frame 1050, Area C: Risk Level 0.9\n",
      "Frame 1050, Area D: Risk Level 0.3\n",
      "Frame 1050, Area E: Risk Level 0.3\n",
      "Frame 1050, Area F: Risk Level 0.6\n",
      "Frame 1050, Area G: Risk Level 0.7\n",
      "Frame 1050, Area H: Risk Level 1.0\n",
      "Frame 1050, Area I: Risk Level 1.0\n",
      "Frame 1100, Area A: Risk Level 0.4\n",
      "Frame 1100, Area B: Risk Level 0.4\n",
      "Frame 1100, Area C: Risk Level 0.9\n",
      "Frame 1100, Area D: Risk Level 0.3\n",
      "Frame 1100, Area E: Risk Level 0.3\n",
      "Frame 1100, Area F: Risk Level 0.6\n",
      "Frame 1100, Area G: Risk Level 0.6\n",
      "Frame 1100, Area H: Risk Level 1.0\n",
      "Frame 1100, Area I: Risk Level 1.0\n",
      "Frame 1150, Area A: Risk Level 0.4\n",
      "Frame 1150, Area B: Risk Level 0.4\n",
      "Frame 1150, Area C: Risk Level 0.9\n",
      "Frame 1150, Area D: Risk Level 0.3\n",
      "Frame 1150, Area E: Risk Level 0.3\n",
      "Frame 1150, Area F: Risk Level 0.6\n",
      "Frame 1150, Area G: Risk Level 0.6\n",
      "Frame 1150, Area H: Risk Level 1.0\n",
      "Frame 1150, Area I: Risk Level 1.0\n",
      "Frame 1200, Area A: Risk Level 0.4\n",
      "Frame 1200, Area B: Risk Level 0.3\n",
      "Frame 1200, Area C: Risk Level 0.9\n",
      "Frame 1200, Area D: Risk Level 0.3\n",
      "Frame 1200, Area E: Risk Level 0.3\n",
      "Frame 1200, Area F: Risk Level 0.6\n",
      "Frame 1200, Area G: Risk Level 0.6\n",
      "Frame 1200, Area H: Risk Level 1.0\n",
      "Frame 1200, Area I: Risk Level 1.0\n",
      "Frame 1250, Area A: Risk Level 0.4\n",
      "Frame 1250, Area B: Risk Level 0.3\n",
      "Frame 1250, Area C: Risk Level 0.9\n",
      "Frame 1250, Area D: Risk Level 0.3\n",
      "Frame 1250, Area E: Risk Level 0.3\n",
      "Frame 1250, Area F: Risk Level 0.6\n",
      "Frame 1250, Area G: Risk Level 0.6\n",
      "Frame 1250, Area H: Risk Level 1.0\n",
      "Frame 1250, Area I: Risk Level 1.0\n",
      "Frame 1300, Area A: Risk Level 0.4\n",
      "Frame 1300, Area B: Risk Level 0.3\n",
      "Frame 1300, Area C: Risk Level 0.9\n",
      "Frame 1300, Area D: Risk Level 0.3\n",
      "Frame 1300, Area E: Risk Level 0.3\n",
      "Frame 1300, Area F: Risk Level 0.6\n",
      "Frame 1300, Area G: Risk Level 0.6\n",
      "Frame 1300, Area H: Risk Level 1.0\n",
      "Frame 1300, Area I: Risk Level 1.0\n",
      "Frame 1350, Area A: Risk Level 0.4\n",
      "Frame 1350, Area B: Risk Level 0.3\n",
      "Frame 1350, Area C: Risk Level 0.9\n",
      "Frame 1350, Area D: Risk Level 0.3\n",
      "Frame 1350, Area E: Risk Level 0.3\n",
      "Frame 1350, Area F: Risk Level 0.6\n",
      "Frame 1350, Area G: Risk Level 0.6\n",
      "Frame 1350, Area H: Risk Level 1.0\n",
      "Frame 1350, Area I: Risk Level 1.0\n",
      "Frame 1400, Area A: Risk Level 0.4\n",
      "Frame 1400, Area B: Risk Level 0.3\n",
      "Frame 1400, Area C: Risk Level 0.9\n",
      "Frame 1400, Area D: Risk Level 0.3\n",
      "Frame 1400, Area E: Risk Level 0.3\n",
      "Frame 1400, Area F: Risk Level 0.6\n",
      "Frame 1400, Area G: Risk Level 0.6\n",
      "Frame 1400, Area H: Risk Level 1.0\n",
      "Frame 1400, Area I: Risk Level 1.0\n",
      "Frame 1450, Area A: Risk Level 0.4\n",
      "Frame 1450, Area B: Risk Level 0.3\n",
      "Frame 1450, Area C: Risk Level 0.9\n",
      "Frame 1450, Area D: Risk Level 0.3\n",
      "Frame 1450, Area E: Risk Level 0.3\n",
      "Frame 1450, Area F: Risk Level 0.6\n",
      "Frame 1450, Area G: Risk Level 0.6\n",
      "Frame 1450, Area H: Risk Level 1.0\n",
      "Frame 1450, Area I: Risk Level 1.0\n",
      "Frame 1500, Area A: Risk Level 0.4\n",
      "Frame 1500, Area B: Risk Level 0.3\n",
      "Frame 1500, Area C: Risk Level 0.9\n",
      "Frame 1500, Area D: Risk Level 0.3\n",
      "Frame 1500, Area E: Risk Level 0.3\n",
      "Frame 1500, Area F: Risk Level 0.6\n",
      "Frame 1500, Area G: Risk Level 0.6\n",
      "Frame 1500, Area H: Risk Level 1.0\n",
      "Frame 1500, Area I: Risk Level 1.0\n",
      "Frame 1550, Area A: Risk Level 0.4\n",
      "Frame 1550, Area B: Risk Level 0.3\n",
      "Frame 1550, Area C: Risk Level 0.9\n",
      "Frame 1550, Area D: Risk Level 0.2\n",
      "Frame 1550, Area E: Risk Level 0.3\n",
      "Frame 1550, Area F: Risk Level 0.6\n",
      "Frame 1550, Area G: Risk Level 0.6\n",
      "Frame 1550, Area H: Risk Level 1.0\n",
      "Frame 1550, Area I: Risk Level 1.0\n",
      "Frame 1600, Area A: Risk Level 0.4\n",
      "Frame 1600, Area B: Risk Level 0.3\n",
      "Frame 1600, Area C: Risk Level 0.9\n",
      "Frame 1600, Area D: Risk Level 0.2\n",
      "Frame 1600, Area E: Risk Level 0.3\n",
      "Frame 1600, Area F: Risk Level 0.6\n",
      "Frame 1600, Area G: Risk Level 0.6\n",
      "Frame 1600, Area H: Risk Level 1.0\n",
      "Frame 1600, Area I: Risk Level 1.0\n",
      "Frame 1650, Area A: Risk Level 0.4\n",
      "Frame 1650, Area B: Risk Level 0.3\n",
      "Frame 1650, Area C: Risk Level 0.9\n",
      "Frame 1650, Area D: Risk Level 0.2\n",
      "Frame 1650, Area E: Risk Level 0.2\n",
      "Frame 1650, Area F: Risk Level 0.6\n",
      "Frame 1650, Area G: Risk Level 0.6\n",
      "Frame 1650, Area H: Risk Level 1.0\n",
      "Frame 1650, Area I: Risk Level 1.0\n",
      "Frame 1700, Area A: Risk Level 0.4\n",
      "Frame 1700, Area B: Risk Level 0.3\n",
      "Frame 1700, Area C: Risk Level 0.9\n",
      "Frame 1700, Area D: Risk Level 0.2\n",
      "Frame 1700, Area E: Risk Level 0.2\n",
      "Frame 1700, Area F: Risk Level 0.6\n",
      "Frame 1700, Area G: Risk Level 0.6\n",
      "Frame 1700, Area H: Risk Level 0.8\n",
      "Frame 1700, Area I: Risk Level 1.0\n",
      "Frame 1750, Area A: Risk Level 0.4\n",
      "Frame 1750, Area B: Risk Level 0.3\n",
      "Frame 1750, Area C: Risk Level 0.9\n",
      "Frame 1750, Area D: Risk Level 0.2\n",
      "Frame 1750, Area E: Risk Level 0.2\n",
      "Frame 1750, Area F: Risk Level 0.6\n",
      "Frame 1750, Area G: Risk Level 0.6\n",
      "Frame 1750, Area H: Risk Level 0.8\n",
      "Frame 1750, Area I: Risk Level 1.0\n",
      "Frame 1800, Area A: Risk Level 0.4\n",
      "Frame 1800, Area B: Risk Level 0.3\n",
      "Frame 1800, Area C: Risk Level 0.9\n",
      "Frame 1800, Area D: Risk Level 0.2\n",
      "Frame 1800, Area E: Risk Level 0.2\n",
      "Frame 1800, Area F: Risk Level 0.6\n",
      "Frame 1800, Area G: Risk Level 0.6\n",
      "Frame 1800, Area H: Risk Level 0.8\n",
      "Frame 1800, Area I: Risk Level 1.0\n",
      "Frame 1850, Area A: Risk Level 0.4\n",
      "Frame 1850, Area B: Risk Level 0.3\n",
      "Frame 1850, Area C: Risk Level 0.9\n",
      "Frame 1850, Area D: Risk Level 0.2\n",
      "Frame 1850, Area E: Risk Level 0.2\n",
      "Frame 1850, Area F: Risk Level 0.6\n",
      "Frame 1850, Area G: Risk Level 0.6\n",
      "Frame 1850, Area H: Risk Level 0.8\n",
      "Frame 1850, Area I: Risk Level 1.0\n",
      "Frame 1900, Area A: Risk Level 0.4\n",
      "Frame 1900, Area B: Risk Level 0.3\n",
      "Frame 1900, Area C: Risk Level 0.9\n",
      "Frame 1900, Area D: Risk Level 0.2\n",
      "Frame 1900, Area E: Risk Level 0.2\n",
      "Frame 1900, Area F: Risk Level 0.4\n",
      "Frame 1900, Area G: Risk Level 0.6\n",
      "Frame 1900, Area H: Risk Level 0.8\n",
      "Frame 1900, Area I: Risk Level 1.0\n",
      "Frame 1950, Area A: Risk Level 0.3\n",
      "Frame 1950, Area B: Risk Level 0.1\n",
      "Frame 1950, Area C: Risk Level 0.9\n",
      "Frame 1950, Area D: Risk Level 0.2\n",
      "Frame 1950, Area E: Risk Level 0.2\n",
      "Frame 1950, Area F: Risk Level 0.4\n",
      "Frame 1950, Area G: Risk Level 0.6\n",
      "Frame 1950, Area H: Risk Level 0.8\n",
      "Frame 1950, Area I: Risk Level 1.0\n",
      "Frame 2000, Area A: Risk Level 0.3\n",
      "Frame 2000, Area B: Risk Level 0.1\n",
      "Frame 2000, Area C: Risk Level 0.9\n",
      "Frame 2000, Area D: Risk Level 0.2\n",
      "Frame 2000, Area E: Risk Level 0.2\n",
      "Frame 2000, Area F: Risk Level 0.4\n",
      "Frame 2000, Area G: Risk Level 0.6\n",
      "Frame 2000, Area H: Risk Level 0.8\n",
      "Frame 2000, Area I: Risk Level 1.0\n",
      "Frame 2050, Area A: Risk Level 0.3\n",
      "Frame 2050, Area B: Risk Level 0.1\n",
      "Frame 2050, Area C: Risk Level 0.9\n",
      "Frame 2050, Area D: Risk Level 0.2\n",
      "Frame 2050, Area E: Risk Level 0.2\n",
      "Frame 2050, Area F: Risk Level 0.4\n",
      "Frame 2050, Area G: Risk Level 0.6\n",
      "Frame 2050, Area H: Risk Level 0.8\n",
      "Frame 2050, Area I: Risk Level 0.9\n",
      "Frame 2100, Area A: Risk Level 0.3\n",
      "Frame 2100, Area B: Risk Level 0.0\n",
      "Frame 2100, Area C: Risk Level 0.9\n",
      "Frame 2100, Area D: Risk Level 0.2\n",
      "Frame 2100, Area E: Risk Level 0.2\n",
      "Frame 2100, Area F: Risk Level 0.4\n",
      "Frame 2100, Area G: Risk Level 0.6\n",
      "Frame 2100, Area H: Risk Level 0.8\n",
      "Frame 2100, Area I: Risk Level 0.9\n",
      "Frame 2150, Area A: Risk Level 0.3\n",
      "Frame 2150, Area B: Risk Level 0.0\n",
      "Frame 2150, Area C: Risk Level 0.9\n",
      "Frame 2150, Area D: Risk Level 0.2\n",
      "Frame 2150, Area E: Risk Level 0.2\n",
      "Frame 2150, Area F: Risk Level 0.4\n",
      "Frame 2150, Area G: Risk Level 0.6\n",
      "Frame 2150, Area H: Risk Level 0.8\n",
      "Frame 2150, Area I: Risk Level 0.9\n",
      "Frame 2200, Area A: Risk Level 0.3\n",
      "Frame 2200, Area B: Risk Level 0.0\n",
      "Frame 2200, Area C: Risk Level 0.9\n",
      "Frame 2200, Area D: Risk Level 0.2\n",
      "Frame 2200, Area E: Risk Level 0.2\n",
      "Frame 2200, Area F: Risk Level 0.4\n",
      "Frame 2200, Area G: Risk Level 0.6\n",
      "Frame 2200, Area H: Risk Level 0.8\n",
      "Frame 2200, Area I: Risk Level 0.9\n",
      "Frame 2250, Area A: Risk Level 0.3\n",
      "Frame 2250, Area B: Risk Level 0.0\n",
      "Frame 2250, Area C: Risk Level 0.9\n",
      "Frame 2250, Area D: Risk Level 0.2\n",
      "Frame 2250, Area E: Risk Level 0.2\n",
      "Frame 2250, Area F: Risk Level 0.4\n",
      "Frame 2250, Area G: Risk Level 0.6\n",
      "Frame 2250, Area H: Risk Level 0.8\n",
      "Frame 2250, Area I: Risk Level 0.9\n",
      "Frame 2300, Area A: Risk Level 0.3\n",
      "Frame 2300, Area B: Risk Level 0.0\n",
      "Frame 2300, Area C: Risk Level 0.9\n",
      "Frame 2300, Area D: Risk Level 0.2\n",
      "Frame 2300, Area E: Risk Level 0.2\n",
      "Frame 2300, Area F: Risk Level 0.4\n",
      "Frame 2300, Area G: Risk Level 0.6\n",
      "Frame 2300, Area H: Risk Level 0.8\n",
      "Frame 2300, Area I: Risk Level 0.9\n",
      "Frame 2350, Area A: Risk Level 0.3\n",
      "Frame 2350, Area B: Risk Level 0.0\n",
      "Frame 2350, Area C: Risk Level 0.9\n",
      "Frame 2350, Area D: Risk Level 0.2\n",
      "Frame 2350, Area E: Risk Level 0.2\n",
      "Frame 2350, Area F: Risk Level 0.4\n",
      "Frame 2350, Area G: Risk Level 0.6\n",
      "Frame 2350, Area H: Risk Level 0.8\n",
      "Frame 2350, Area I: Risk Level 0.9\n",
      "Frame 2400, Area A: Risk Level 0.1\n",
      "Frame 2400, Area B: Risk Level 0.0\n",
      "Frame 2400, Area C: Risk Level 0.9\n",
      "Frame 2400, Area D: Risk Level 0.2\n",
      "Frame 2400, Area E: Risk Level 0.2\n",
      "Frame 2400, Area F: Risk Level 0.3\n",
      "Frame 2400, Area G: Risk Level 0.6\n",
      "Frame 2400, Area H: Risk Level 0.8\n",
      "Frame 2400, Area I: Risk Level 0.9\n",
      "Frame 2450, Area A: Risk Level 0.1\n",
      "Frame 2450, Area B: Risk Level 0.0\n",
      "Frame 2450, Area C: Risk Level 0.9\n",
      "Frame 2450, Area D: Risk Level 0.2\n",
      "Frame 2450, Area E: Risk Level 0.2\n",
      "Frame 2450, Area F: Risk Level 0.3\n",
      "Frame 2450, Area G: Risk Level 0.6\n",
      "Frame 2450, Area H: Risk Level 0.8\n",
      "Frame 2450, Area I: Risk Level 0.9\n",
      "Frame 2500, Area A: Risk Level 0.1\n",
      "Frame 2500, Area B: Risk Level 0.0\n",
      "Frame 2500, Area C: Risk Level 0.9\n",
      "Frame 2500, Area D: Risk Level 0.2\n",
      "Frame 2500, Area E: Risk Level 0.1\n",
      "Frame 2500, Area F: Risk Level 0.3\n",
      "Frame 2500, Area G: Risk Level 0.6\n",
      "Frame 2500, Area H: Risk Level 0.8\n",
      "Frame 2500, Area I: Risk Level 0.9\n",
      "Frame 2550, Area A: Risk Level 0.1\n",
      "Frame 2550, Area B: Risk Level 0.0\n",
      "Frame 2550, Area C: Risk Level 0.9\n",
      "Frame 2550, Area D: Risk Level 0.2\n",
      "Frame 2550, Area E: Risk Level 0.1\n",
      "Frame 2550, Area F: Risk Level 0.3\n",
      "Frame 2550, Area G: Risk Level 0.6\n",
      "Frame 2550, Area H: Risk Level 0.8\n",
      "Frame 2550, Area I: Risk Level 0.9\n",
      "Frame 2600, Area A: Risk Level 0.1\n",
      "Frame 2600, Area B: Risk Level 0.0\n",
      "Frame 2600, Area C: Risk Level 0.9\n",
      "Frame 2600, Area D: Risk Level 0.2\n",
      "Frame 2600, Area E: Risk Level 0.1\n",
      "Frame 2600, Area F: Risk Level 0.3\n",
      "Frame 2600, Area G: Risk Level 0.6\n",
      "Frame 2600, Area H: Risk Level 0.8\n",
      "Frame 2600, Area I: Risk Level 0.9\n",
      "Frame 2650, Area A: Risk Level 0.1\n",
      "Frame 2650, Area B: Risk Level 0.0\n",
      "Frame 2650, Area C: Risk Level 0.9\n",
      "Frame 2650, Area D: Risk Level 0.2\n",
      "Frame 2650, Area E: Risk Level 0.1\n",
      "Frame 2650, Area F: Risk Level 0.3\n",
      "Frame 2650, Area G: Risk Level 0.6\n",
      "Frame 2650, Area H: Risk Level 0.8\n",
      "Frame 2650, Area I: Risk Level 0.9\n",
      "Frame 2700, Area A: Risk Level 0.1\n",
      "Frame 2700, Area B: Risk Level 0.0\n",
      "Frame 2700, Area C: Risk Level 0.9\n",
      "Frame 2700, Area D: Risk Level 0.2\n",
      "Frame 2700, Area E: Risk Level 0.1\n",
      "Frame 2700, Area F: Risk Level 0.3\n",
      "Frame 2700, Area G: Risk Level 0.6\n",
      "Frame 2700, Area H: Risk Level 0.8\n",
      "Frame 2700, Area I: Risk Level 0.9\n",
      "Frame 2750, Area A: Risk Level 0.1\n",
      "Frame 2750, Area B: Risk Level 0.0\n",
      "Frame 2750, Area C: Risk Level 0.9\n",
      "Frame 2750, Area D: Risk Level 0.2\n",
      "Frame 2750, Area E: Risk Level 0.1\n",
      "Frame 2750, Area F: Risk Level 0.3\n",
      "Frame 2750, Area G: Risk Level 0.6\n",
      "Frame 2750, Area H: Risk Level 0.8\n",
      "Frame 2750, Area I: Risk Level 0.9\n",
      "Frame 2800, Area A: Risk Level 0.1\n",
      "Frame 2800, Area B: Risk Level 0.0\n",
      "Frame 2800, Area C: Risk Level 0.9\n",
      "Frame 2800, Area D: Risk Level 0.2\n",
      "Frame 2800, Area E: Risk Level 0.0\n",
      "Frame 2800, Area F: Risk Level 0.3\n",
      "Frame 2800, Area G: Risk Level 0.6\n",
      "Frame 2800, Area H: Risk Level 0.8\n",
      "Frame 2800, Area I: Risk Level 0.9\n",
      "Frame 2850, Area A: Risk Level 0.1\n",
      "Frame 2850, Area B: Risk Level 0.0\n",
      "Frame 2850, Area C: Risk Level 0.9\n",
      "Frame 2850, Area D: Risk Level 0.2\n",
      "Frame 2850, Area E: Risk Level 0.0\n",
      "Frame 2850, Area F: Risk Level 0.3\n",
      "Frame 2850, Area G: Risk Level 0.6\n",
      "Frame 2850, Area H: Risk Level 0.6\n",
      "Frame 2850, Area I: Risk Level 0.9\n",
      "Frame 2900, Area A: Risk Level 0.1\n",
      "Frame 2900, Area B: Risk Level 0.0\n",
      "Frame 2900, Area C: Risk Level 0.9\n",
      "Frame 2900, Area D: Risk Level 0.2\n",
      "Frame 2900, Area E: Risk Level 0.0\n",
      "Frame 2900, Area F: Risk Level 0.3\n",
      "Frame 2900, Area G: Risk Level 0.6\n",
      "Frame 2900, Area H: Risk Level 0.6\n",
      "Frame 2900, Area I: Risk Level 0.8\n",
      "Frame 2950, Area A: Risk Level 0.1\n",
      "Frame 2950, Area B: Risk Level 0.0\n",
      "Frame 2950, Area C: Risk Level 0.9\n",
      "Frame 2950, Area D: Risk Level 0.2\n",
      "Frame 2950, Area E: Risk Level 0.0\n",
      "Frame 2950, Area F: Risk Level 0.3\n",
      "Frame 2950, Area G: Risk Level 0.6\n",
      "Frame 2950, Area H: Risk Level 0.6\n",
      "Frame 2950, Area I: Risk Level 0.8\n",
      "Frame 3000, Area A: Risk Level 0.1\n",
      "Frame 3000, Area B: Risk Level 0.0\n",
      "Frame 3000, Area C: Risk Level 0.9\n",
      "Frame 3000, Area D: Risk Level 0.2\n",
      "Frame 3000, Area E: Risk Level 0.0\n",
      "Frame 3000, Area F: Risk Level 0.3\n",
      "Frame 3000, Area G: Risk Level 0.5\n",
      "Frame 3000, Area H: Risk Level 0.6\n",
      "Frame 3000, Area I: Risk Level 0.8\n"
     ]
    }
   ],
   "source": [
    "# Open the database connection safely\n",
    "with sqlite3.connect(connection_file) as connection:\n",
    "    # Fetch all risk data grouped by frame\n",
    "    all_risks = get_risks_grouped_by_frame(connection)\n",
    "\n",
    "    # Iterate over the nested dictionary\n",
    "    for frame, areas in all_risks.items():  # 'areas' is a dictionary {area: risk_level}\n",
    "        for area, risk in areas.items():\n",
    "            print(f\"Frame {frame}, Area {area}: Risk Level {risk}\")\n",
    "\n",
    "# Connection automatically closes when 'with' block ends"
   ],
   "metadata": {
    "collapsed": false
   }
  },
  {
   "cell_type": "markdown",
   "source": [
    "## Visualizing Agent Pathways"
   ],
   "metadata": {
    "collapsed": false
   }
  },
  {
   "cell_type": "code",
   "execution_count": 112,
   "outputs": [
    {
     "data": {
      "application/vnd.plotly.v1+json": {
       "data": [
        {
         "hoverinfo": "name",
         "line": {
          "color": "grey"
         },
         "mode": "lines",
         "name": "Exterior",
         "showlegend": false,
         "x": [
          10.1,
          10.1,
          15.0,
          15.0,
          13.6,
          13.6,
          15.0,
          15.0,
          13.6,
          13.6,
          15.0,
          15.0,
          10.1,
          10.1,
          9.9,
          9.9,
          5.1,
          5.1,
          4.9,
          4.9,
          0.0,
          0.0,
          1.5,
          1.5,
          0.0,
          0.0,
          1.5,
          1.5,
          0.0,
          0.0,
          4.9,
          4.9,
          5.1,
          5.1,
          9.9,
          9.9,
          10.1
         ],
         "y": [
          1.5,
          0.0,
          0.0,
          4.9,
          4.9,
          5.1,
          5.1,
          9.9,
          9.9,
          10.1,
          10.1,
          15.0,
          15.0,
          13.6,
          13.6,
          15.0,
          15.0,
          13.6,
          13.6,
          15.0,
          15.0,
          10.1,
          10.1,
          9.9,
          9.9,
          5.1,
          5.1,
          4.9,
          4.9,
          0.0,
          0.0,
          1.5,
          1.5,
          0.0,
          0.0,
          1.5,
          1.5
         ],
         "type": "scatter"
        },
        {
         "hoverinfo": "name",
         "line": {
          "color": "grey"
         },
         "mode": "lines",
         "name": "Obstacle",
         "showlegend": false,
         "x": [
          10.1,
          11.5,
          11.5,
          10.1,
          10.1,
          9.9,
          9.9,
          8.6,
          8.6,
          9.9,
          9.9,
          10.1,
          10.1
         ],
         "y": [
          5.1,
          5.1,
          4.9,
          4.9,
          3.6,
          3.6,
          4.9,
          4.9,
          5.1,
          5.1,
          6.5,
          6.5,
          5.1
         ],
         "type": "scatter"
        },
        {
         "hoverinfo": "name",
         "line": {
          "color": "grey"
         },
         "mode": "lines",
         "name": "Obstacle",
         "showlegend": false,
         "x": [
          10.1,
          11.5,
          11.5,
          10.1,
          10.1,
          9.9,
          9.9,
          8.6,
          8.6,
          9.9,
          9.9,
          10.1,
          10.1
         ],
         "y": [
          10.1,
          10.1,
          9.9,
          9.9,
          8.6,
          8.6,
          9.9,
          9.9,
          10.1,
          10.1,
          11.5,
          11.5,
          10.1
         ],
         "type": "scatter"
        },
        {
         "hoverinfo": "name",
         "line": {
          "color": "grey"
         },
         "mode": "lines",
         "name": "Obstacle",
         "showlegend": false,
         "x": [
          5.1,
          6.4,
          6.4,
          5.1,
          5.1,
          4.9,
          4.9,
          3.6,
          3.6,
          4.9,
          4.9,
          5.1,
          5.1
         ],
         "y": [
          5.1,
          5.1,
          4.9,
          4.9,
          3.6,
          3.6,
          4.9,
          4.9,
          5.1,
          5.1,
          6.5,
          6.5,
          5.1
         ],
         "type": "scatter"
        },
        {
         "hoverinfo": "name",
         "line": {
          "color": "grey"
         },
         "mode": "lines",
         "name": "Obstacle",
         "showlegend": false,
         "x": [
          5.1,
          6.4,
          6.4,
          5.1,
          5.1,
          4.9,
          4.9,
          3.6,
          3.6,
          4.9,
          4.9,
          5.1,
          5.1
         ],
         "y": [
          10.1,
          10.1,
          9.9,
          9.9,
          8.6,
          8.6,
          9.9,
          9.9,
          10.1,
          10.1,
          11.5,
          11.5,
          10.1
         ],
         "type": "scatter"
        },
        {
         "fill": "toself",
         "fillcolor": "rgba(200, 0, 0, 0.50)",
         "hoverinfo": "name",
         "line": {
          "width": 0
         },
         "mode": "lines",
         "name": "Risk Area",
         "showlegend": false,
         "x": [
          0.0,
          5.0,
          5.0,
          0.0,
          0.0
         ],
         "y": [
          0.0,
          0.0,
          5.0,
          5.0,
          0.0
         ],
         "type": "scatter"
        },
        {
         "fill": "toself",
         "fillcolor": "rgba(200, 0, 0, 0.60)",
         "hoverinfo": "name",
         "line": {
          "width": 0
         },
         "mode": "lines",
         "name": "Risk Area",
         "showlegend": false,
         "x": [
          5.0,
          10.0,
          10.0,
          5.0,
          5.0
         ],
         "y": [
          0.0,
          0.0,
          5.0,
          5.0,
          0.0
         ],
         "type": "scatter"
        },
        {
         "fill": "toself",
         "fillcolor": "rgba(200, 0, 0, 0.10)",
         "hoverinfo": "name",
         "line": {
          "width": 0
         },
         "mode": "lines",
         "name": "Risk Area",
         "showlegend": false,
         "x": [
          10.0,
          15.0,
          15.0,
          10.0,
          10.0
         ],
         "y": [
          0.0,
          0.0,
          5.0,
          5.0,
          0.0
         ],
         "type": "scatter"
        },
        {
         "fill": "toself",
         "fillcolor": "rgba(200, 0, 0, 0.60)",
         "hoverinfo": "name",
         "line": {
          "width": 0
         },
         "mode": "lines",
         "name": "Risk Area",
         "showlegend": false,
         "x": [
          10.0,
          15.0,
          15.0,
          10.0,
          10.0
         ],
         "y": [
          5.0,
          5.0,
          10.0,
          10.0,
          5.0
         ],
         "type": "scatter"
        },
        {
         "fill": "toself",
         "fillcolor": "rgba(200, 0, 0, 0.70)",
         "hoverinfo": "name",
         "line": {
          "width": 0
         },
         "mode": "lines",
         "name": "Risk Area",
         "showlegend": false,
         "x": [
          5.0,
          10.0,
          10.0,
          5.0,
          5.0
         ],
         "y": [
          5.0,
          5.0,
          10.0,
          10.0,
          5.0
         ],
         "type": "scatter"
        },
        {
         "fill": "toself",
         "fillcolor": "rgba(200, 0, 0, 0.10)",
         "hoverinfo": "name",
         "line": {
          "width": 0
         },
         "mode": "lines",
         "name": "Risk Area",
         "showlegend": false,
         "x": [
          0.0,
          5.0,
          5.0,
          0.0,
          0.0
         ],
         "y": [
          5.0,
          5.0,
          10.0,
          10.0,
          5.0
         ],
         "type": "scatter"
        },
        {
         "fill": "toself",
         "fillcolor": "rgba(200, 0, 0, 0.20)",
         "hoverinfo": "name",
         "line": {
          "width": 0
         },
         "mode": "lines",
         "name": "Risk Area",
         "showlegend": false,
         "x": [
          0.0,
          5.0,
          5.0,
          0.0,
          0.0
         ],
         "y": [
          10.0,
          10.0,
          15.0,
          15.0,
          10.0
         ],
         "type": "scatter"
        },
        {
         "fill": "toself",
         "fillcolor": "rgba(200, 0, 0, 0.00)",
         "hoverinfo": "name",
         "line": {
          "width": 0
         },
         "mode": "lines",
         "name": "Risk Area",
         "showlegend": false,
         "x": [
          5.0,
          10.0,
          10.0,
          5.0,
          5.0
         ],
         "y": [
          10.0,
          10.0,
          15.0,
          15.0,
          10.0
         ],
         "type": "scatter"
        },
        {
         "fill": "toself",
         "fillcolor": "rgba(200, 0, 0, 0.00)",
         "hoverinfo": "name",
         "line": {
          "width": 0
         },
         "mode": "lines",
         "name": "Risk Area",
         "showlegend": false,
         "x": [
          10.0,
          15.0,
          15.0,
          10.0,
          10.0
         ],
         "y": [
          10.0,
          10.0,
          15.0,
          15.0,
          10.0
         ],
         "type": "scatter"
        },
        {
         "hoverinfo": "none",
         "marker": {
          "cmax": 0.800000000000019,
          "cmin": 0,
          "color": [
           0.7999997415062419,
           0.5075973971098988,
           0.7998523749829529,
           0.7988478819166775,
           0.7992132371410413,
           0.7249901030431707,
           0.612802758593313,
           0.7999999999999988,
           0.26322573985669484,
           0.799652812025704
          ],
          "colorbar": {
           "title": {
            "text": "Speed [m/s]"
           }
          },
          "colorscale": [
           [
            0.0,
            "rgb(128,0,0)"
           ],
           [
            0.2,
            "rgb(250,0,0)"
           ],
           [
            0.4,
            "rgb(255,255,0)"
           ],
           [
            0.6,
            "rgb(5,255,255)"
           ],
           [
            0.8,
            "rgb(0,60,170)"
           ],
           [
            1.0,
            "rgb(0,0,131)"
           ]
          ],
          "size": [
           0.4,
           0.4,
           0.4,
           0.4,
           0.4,
           0.4,
           0.4,
           0.4,
           0.4,
           0.4
          ]
         },
         "mode": "markers",
         "showlegend": false,
         "text": [
          0.7999997415062419,
          0.5075973971098988,
          0.7998523749829529,
          0.7988478819166775,
          0.7992132371410413,
          0.7249901030431707,
          0.612802758593313,
          0.7999999999999988,
          0.26322573985669484,
          0.799652812025704
         ],
         "x": [
          3.9863327738146737,
          0.8488279016949318,
          1.7258968673840784,
          2.116160882427272,
          1.692259232863783,
          1.453767774845684,
          3.0719865838614573,
          3.48879726462054,
          1.7042831428492793,
          1.7565776142251517
         ],
         "y": [
          4.268834270066489,
          1.6370406488593048,
          1.5962220773638665,
          3.5204353653542206,
          2.7972929381969065,
          3.6607508930614516,
          4.234745501580994,
          1.9561046634672852,
          3.3139640340517103,
          2.253852105302265
         ],
         "type": "scatter"
        },
        {
         "hoverinfo": "text",
         "marker": {
          "opacity": 1,
          "size": 1
         },
         "mode": "markers",
         "showlegend": false,
         "text": [
          "ID: 61, Pos(3.99,4.27)"
         ],
         "x": [
          3.9863327738146737
         ],
         "y": [
          4.268834270066489
         ],
         "type": "scatter"
        },
        {
         "hoverinfo": "text",
         "marker": {
          "opacity": 1,
          "size": 1
         },
         "mode": "markers",
         "showlegend": false,
         "text": [
          "ID: 62, Pos(0.85,1.64)"
         ],
         "x": [
          0.8488279016949318
         ],
         "y": [
          1.6370406488593048
         ],
         "type": "scatter"
        },
        {
         "hoverinfo": "text",
         "marker": {
          "opacity": 1,
          "size": 1
         },
         "mode": "markers",
         "showlegend": false,
         "text": [
          "ID: 63, Pos(1.73,1.60)"
         ],
         "x": [
          1.7258968673840784
         ],
         "y": [
          1.5962220773638665
         ],
         "type": "scatter"
        },
        {
         "hoverinfo": "text",
         "marker": {
          "opacity": 1,
          "size": 1
         },
         "mode": "markers",
         "showlegend": false,
         "text": [
          "ID: 64, Pos(2.12,3.52)"
         ],
         "x": [
          2.116160882427272
         ],
         "y": [
          3.5204353653542206
         ],
         "type": "scatter"
        },
        {
         "hoverinfo": "text",
         "marker": {
          "opacity": 1,
          "size": 1
         },
         "mode": "markers",
         "showlegend": false,
         "text": [
          "ID: 65, Pos(1.69,2.80)"
         ],
         "x": [
          1.692259232863783
         ],
         "y": [
          2.7972929381969065
         ],
         "type": "scatter"
        },
        {
         "hoverinfo": "text",
         "marker": {
          "opacity": 1,
          "size": 1
         },
         "mode": "markers",
         "showlegend": false,
         "text": [
          "ID: 66, Pos(1.45,3.66)"
         ],
         "x": [
          1.453767774845684
         ],
         "y": [
          3.6607508930614516
         ],
         "type": "scatter"
        },
        {
         "hoverinfo": "text",
         "marker": {
          "opacity": 1,
          "size": 1
         },
         "mode": "markers",
         "showlegend": false,
         "text": [
          "ID: 67, Pos(3.07,4.23)"
         ],
         "x": [
          3.0719865838614573
         ],
         "y": [
          4.234745501580994
         ],
         "type": "scatter"
        },
        {
         "hoverinfo": "text",
         "marker": {
          "opacity": 1,
          "size": 1
         },
         "mode": "markers",
         "showlegend": false,
         "text": [
          "ID: 68, Pos(3.49,1.96)"
         ],
         "x": [
          3.48879726462054
         ],
         "y": [
          1.9561046634672852
         ],
         "type": "scatter"
        },
        {
         "hoverinfo": "text",
         "marker": {
          "opacity": 1,
          "size": 1
         },
         "mode": "markers",
         "showlegend": false,
         "text": [
          "ID: 69, Pos(1.70,3.31)"
         ],
         "x": [
          1.7042831428492793
         ],
         "y": [
          3.3139640340517103
         ],
         "type": "scatter"
        },
        {
         "hoverinfo": "text",
         "marker": {
          "opacity": 1,
          "size": 1
         },
         "mode": "markers",
         "showlegend": false,
         "text": [
          "ID: 70, Pos(1.76,2.25)"
         ],
         "x": [
          1.7565776142251517
         ],
         "y": [
          2.253852105302265
         ],
         "type": "scatter"
        }
       ],
       "layout": {
        "shapes": [
         {
          "fillcolor": "rgba(0, 0, 128, 0.5)",
          "line": {
           "color": "rgba(0, 0, 128, 0.5)"
          },
          "type": "circle",
          "x0": 3.7863327738146735,
          "x1": 4.186332773814674,
          "xref": "x",
          "y0": 4.068834270066489,
          "y1": 4.468834270066489,
          "yref": "y"
         },
         {
          "fillcolor": "rgba(48, 255, 199, 0.5)",
          "line": {
           "color": "rgba(48, 255, 199, 0.5)"
          },
          "type": "circle",
          "x0": 0.6488279016949319,
          "x1": 1.0488279016949318,
          "xref": "x",
          "y0": 1.4370406488593048,
          "y1": 1.8370406488593047,
          "yref": "y"
         },
         {
          "fillcolor": "rgba(0, 0, 128, 0.5)",
          "line": {
           "color": "rgba(0, 0, 128, 0.5)"
          },
          "type": "circle",
          "x0": 1.5258968673840785,
          "x1": 1.9258968673840784,
          "xref": "x",
          "y0": 1.3962220773638665,
          "y1": 1.7962220773638664,
          "yref": "y"
         },
         {
          "fillcolor": "rgba(0, 0, 128, 0.5)",
          "line": {
           "color": "rgba(0, 0, 128, 0.5)"
          },
          "type": "circle",
          "x0": 1.916160882427272,
          "x1": 2.316160882427272,
          "xref": "x",
          "y0": 3.3204353653542205,
          "y1": 3.720435365354221,
          "yref": "y"
         },
         {
          "fillcolor": "rgba(0, 0, 128, 0.5)",
          "line": {
           "color": "rgba(0, 0, 128, 0.5)"
          },
          "type": "circle",
          "x0": 1.4922592328637831,
          "x1": 1.892259232863783,
          "xref": "x",
          "y0": 2.5972929381969063,
          "y1": 2.9972929381969067,
          "yref": "y"
         },
         {
          "fillcolor": "rgba(0, 0, 246, 0.5)",
          "line": {
           "color": "rgba(0, 0, 246, 0.5)"
          },
          "type": "circle",
          "x0": 1.2537677748456841,
          "x1": 1.653767774845684,
          "xref": "x",
          "y0": 3.4607508930614514,
          "y1": 3.860750893061452,
          "yref": "y"
         },
         {
          "fillcolor": "rgba(0, 136, 255, 0.5)",
          "line": {
           "color": "rgba(0, 136, 255, 0.5)"
          },
          "type": "circle",
          "x0": 2.871986583861457,
          "x1": 3.2719865838614575,
          "xref": "x",
          "y0": 4.034745501580994,
          "y1": 4.434745501580994,
          "yref": "y"
         },
         {
          "fillcolor": "rgba(0, 0, 128, 0.5)",
          "line": {
           "color": "rgba(0, 0, 128, 0.5)"
          },
          "type": "circle",
          "x0": 3.28879726462054,
          "x1": 3.6887972646205403,
          "xref": "x",
          "y0": 1.7561046634672852,
          "y1": 2.156104663467285,
          "yref": "y"
         },
         {
          "fillcolor": "rgba(255, 152, 0, 0.5)",
          "line": {
           "color": "rgba(255, 152, 0, 0.5)"
          },
          "type": "circle",
          "x0": 1.5042831428492793,
          "x1": 1.9042831428492792,
          "xref": "x",
          "y0": 3.11396403405171,
          "y1": 3.5139640340517104,
          "yref": "y"
         },
         {
          "fillcolor": "rgba(0, 0, 128, 0.5)",
          "line": {
           "color": "rgba(0, 0, 128, 0.5)"
          },
          "type": "circle",
          "x0": 1.5565776142251517,
          "x1": 1.9565776142251516,
          "xref": "x",
          "y0": 2.0538521053022647,
          "y1": 2.453852105302265,
          "yref": "y"
         },
         {
          "line": {
           "color": "white",
           "width": 3
          },
          "type": "line",
          "x0": 3.9863327738146737,
          "x1": 3.9863327738146737,
          "y0": 4.268834270066489,
          "y1": 4.268834270066489
         },
         {
          "line": {
           "color": "black",
           "width": 3
          },
          "type": "line",
          "x0": 0.8488279016949318,
          "x1": 0.8488279016949318,
          "y0": 1.6370406488593048,
          "y1": 1.6370406488593048
         },
         {
          "line": {
           "color": "white",
           "width": 3
          },
          "type": "line",
          "x0": 1.7258968673840784,
          "x1": 1.7258968673840784,
          "y0": 1.5962220773638665,
          "y1": 1.5962220773638665
         },
         {
          "line": {
           "color": "white",
           "width": 3
          },
          "type": "line",
          "x0": 2.116160882427272,
          "x1": 2.116160882427272,
          "y0": 3.5204353653542206,
          "y1": 3.5204353653542206
         },
         {
          "line": {
           "color": "white",
           "width": 3
          },
          "type": "line",
          "x0": 1.692259232863783,
          "x1": 1.692259232863783,
          "y0": 2.7972929381969065,
          "y1": 2.7972929381969065
         },
         {
          "line": {
           "color": "white",
           "width": 3
          },
          "type": "line",
          "x0": 1.453767774845684,
          "x1": 1.453767774845684,
          "y0": 3.6607508930614516,
          "y1": 3.6607508930614516
         },
         {
          "line": {
           "color": "white",
           "width": 3
          },
          "type": "line",
          "x0": 3.0719865838614573,
          "x1": 3.0719865838614573,
          "y0": 4.234745501580994,
          "y1": 4.234745501580994
         },
         {
          "line": {
           "color": "white",
           "width": 3
          },
          "type": "line",
          "x0": 3.48879726462054,
          "x1": 3.48879726462054,
          "y0": 1.9561046634672852,
          "y1": 1.9561046634672852
         },
         {
          "line": {
           "color": "black",
           "width": 3
          },
          "type": "line",
          "x0": 1.7042831428492793,
          "x1": 1.7042831428492793,
          "y0": 3.3139640340517103,
          "y1": 3.3139640340517103
         },
         {
          "line": {
           "color": "white",
           "width": 3
          },
          "type": "line",
          "x0": 1.7565776142251517,
          "x1": 1.7565776142251517,
          "y0": 2.253852105302265,
          "y1": 2.253852105302265
         }
        ],
        "title": {
         "text": "<b>Percentage using the shortest path: 0%  |  Number of Agents: 10</b>",
         "x": 0.5
        },
        "template": {
         "data": {
          "histogram2dcontour": [
           {
            "type": "histogram2dcontour",
            "colorbar": {
             "outlinewidth": 0,
             "ticks": ""
            },
            "colorscale": [
             [
              0.0,
              "#0d0887"
             ],
             [
              0.1111111111111111,
              "#46039f"
             ],
             [
              0.2222222222222222,
              "#7201a8"
             ],
             [
              0.3333333333333333,
              "#9c179e"
             ],
             [
              0.4444444444444444,
              "#bd3786"
             ],
             [
              0.5555555555555556,
              "#d8576b"
             ],
             [
              0.6666666666666666,
              "#ed7953"
             ],
             [
              0.7777777777777778,
              "#fb9f3a"
             ],
             [
              0.8888888888888888,
              "#fdca26"
             ],
             [
              1.0,
              "#f0f921"
             ]
            ]
           }
          ],
          "choropleth": [
           {
            "type": "choropleth",
            "colorbar": {
             "outlinewidth": 0,
             "ticks": ""
            }
           }
          ],
          "histogram2d": [
           {
            "type": "histogram2d",
            "colorbar": {
             "outlinewidth": 0,
             "ticks": ""
            },
            "colorscale": [
             [
              0.0,
              "#0d0887"
             ],
             [
              0.1111111111111111,
              "#46039f"
             ],
             [
              0.2222222222222222,
              "#7201a8"
             ],
             [
              0.3333333333333333,
              "#9c179e"
             ],
             [
              0.4444444444444444,
              "#bd3786"
             ],
             [
              0.5555555555555556,
              "#d8576b"
             ],
             [
              0.6666666666666666,
              "#ed7953"
             ],
             [
              0.7777777777777778,
              "#fb9f3a"
             ],
             [
              0.8888888888888888,
              "#fdca26"
             ],
             [
              1.0,
              "#f0f921"
             ]
            ]
           }
          ],
          "heatmap": [
           {
            "type": "heatmap",
            "colorbar": {
             "outlinewidth": 0,
             "ticks": ""
            },
            "colorscale": [
             [
              0.0,
              "#0d0887"
             ],
             [
              0.1111111111111111,
              "#46039f"
             ],
             [
              0.2222222222222222,
              "#7201a8"
             ],
             [
              0.3333333333333333,
              "#9c179e"
             ],
             [
              0.4444444444444444,
              "#bd3786"
             ],
             [
              0.5555555555555556,
              "#d8576b"
             ],
             [
              0.6666666666666666,
              "#ed7953"
             ],
             [
              0.7777777777777778,
              "#fb9f3a"
             ],
             [
              0.8888888888888888,
              "#fdca26"
             ],
             [
              1.0,
              "#f0f921"
             ]
            ]
           }
          ],
          "heatmapgl": [
           {
            "type": "heatmapgl",
            "colorbar": {
             "outlinewidth": 0,
             "ticks": ""
            },
            "colorscale": [
             [
              0.0,
              "#0d0887"
             ],
             [
              0.1111111111111111,
              "#46039f"
             ],
             [
              0.2222222222222222,
              "#7201a8"
             ],
             [
              0.3333333333333333,
              "#9c179e"
             ],
             [
              0.4444444444444444,
              "#bd3786"
             ],
             [
              0.5555555555555556,
              "#d8576b"
             ],
             [
              0.6666666666666666,
              "#ed7953"
             ],
             [
              0.7777777777777778,
              "#fb9f3a"
             ],
             [
              0.8888888888888888,
              "#fdca26"
             ],
             [
              1.0,
              "#f0f921"
             ]
            ]
           }
          ],
          "contourcarpet": [
           {
            "type": "contourcarpet",
            "colorbar": {
             "outlinewidth": 0,
             "ticks": ""
            }
           }
          ],
          "contour": [
           {
            "type": "contour",
            "colorbar": {
             "outlinewidth": 0,
             "ticks": ""
            },
            "colorscale": [
             [
              0.0,
              "#0d0887"
             ],
             [
              0.1111111111111111,
              "#46039f"
             ],
             [
              0.2222222222222222,
              "#7201a8"
             ],
             [
              0.3333333333333333,
              "#9c179e"
             ],
             [
              0.4444444444444444,
              "#bd3786"
             ],
             [
              0.5555555555555556,
              "#d8576b"
             ],
             [
              0.6666666666666666,
              "#ed7953"
             ],
             [
              0.7777777777777778,
              "#fb9f3a"
             ],
             [
              0.8888888888888888,
              "#fdca26"
             ],
             [
              1.0,
              "#f0f921"
             ]
            ]
           }
          ],
          "surface": [
           {
            "type": "surface",
            "colorbar": {
             "outlinewidth": 0,
             "ticks": ""
            },
            "colorscale": [
             [
              0.0,
              "#0d0887"
             ],
             [
              0.1111111111111111,
              "#46039f"
             ],
             [
              0.2222222222222222,
              "#7201a8"
             ],
             [
              0.3333333333333333,
              "#9c179e"
             ],
             [
              0.4444444444444444,
              "#bd3786"
             ],
             [
              0.5555555555555556,
              "#d8576b"
             ],
             [
              0.6666666666666666,
              "#ed7953"
             ],
             [
              0.7777777777777778,
              "#fb9f3a"
             ],
             [
              0.8888888888888888,
              "#fdca26"
             ],
             [
              1.0,
              "#f0f921"
             ]
            ]
           }
          ],
          "mesh3d": [
           {
            "type": "mesh3d",
            "colorbar": {
             "outlinewidth": 0,
             "ticks": ""
            }
           }
          ],
          "scatter": [
           {
            "marker": {
             "line": {
              "color": "#283442"
             }
            },
            "type": "scatter"
           }
          ],
          "parcoords": [
           {
            "type": "parcoords",
            "line": {
             "colorbar": {
              "outlinewidth": 0,
              "ticks": ""
             }
            }
           }
          ],
          "scatterpolargl": [
           {
            "type": "scatterpolargl",
            "marker": {
             "colorbar": {
              "outlinewidth": 0,
              "ticks": ""
             }
            }
           }
          ],
          "bar": [
           {
            "error_x": {
             "color": "#f2f5fa"
            },
            "error_y": {
             "color": "#f2f5fa"
            },
            "marker": {
             "line": {
              "color": "rgb(17,17,17)",
              "width": 0.5
             },
             "pattern": {
              "fillmode": "overlay",
              "size": 10,
              "solidity": 0.2
             }
            },
            "type": "bar"
           }
          ],
          "scattergeo": [
           {
            "type": "scattergeo",
            "marker": {
             "colorbar": {
              "outlinewidth": 0,
              "ticks": ""
             }
            }
           }
          ],
          "scatterpolar": [
           {
            "type": "scatterpolar",
            "marker": {
             "colorbar": {
              "outlinewidth": 0,
              "ticks": ""
             }
            }
           }
          ],
          "histogram": [
           {
            "marker": {
             "pattern": {
              "fillmode": "overlay",
              "size": 10,
              "solidity": 0.2
             }
            },
            "type": "histogram"
           }
          ],
          "scattergl": [
           {
            "marker": {
             "line": {
              "color": "#283442"
             }
            },
            "type": "scattergl"
           }
          ],
          "scatter3d": [
           {
            "type": "scatter3d",
            "line": {
             "colorbar": {
              "outlinewidth": 0,
              "ticks": ""
             }
            },
            "marker": {
             "colorbar": {
              "outlinewidth": 0,
              "ticks": ""
             }
            }
           }
          ],
          "scattermapbox": [
           {
            "type": "scattermapbox",
            "marker": {
             "colorbar": {
              "outlinewidth": 0,
              "ticks": ""
             }
            }
           }
          ],
          "scatterternary": [
           {
            "type": "scatterternary",
            "marker": {
             "colorbar": {
              "outlinewidth": 0,
              "ticks": ""
             }
            }
           }
          ],
          "scattercarpet": [
           {
            "type": "scattercarpet",
            "marker": {
             "colorbar": {
              "outlinewidth": 0,
              "ticks": ""
             }
            }
           }
          ],
          "carpet": [
           {
            "aaxis": {
             "endlinecolor": "#A2B1C6",
             "gridcolor": "#506784",
             "linecolor": "#506784",
             "minorgridcolor": "#506784",
             "startlinecolor": "#A2B1C6"
            },
            "baxis": {
             "endlinecolor": "#A2B1C6",
             "gridcolor": "#506784",
             "linecolor": "#506784",
             "minorgridcolor": "#506784",
             "startlinecolor": "#A2B1C6"
            },
            "type": "carpet"
           }
          ],
          "table": [
           {
            "cells": {
             "fill": {
              "color": "#506784"
             },
             "line": {
              "color": "rgb(17,17,17)"
             }
            },
            "header": {
             "fill": {
              "color": "#2a3f5f"
             },
             "line": {
              "color": "rgb(17,17,17)"
             }
            },
            "type": "table"
           }
          ],
          "barpolar": [
           {
            "marker": {
             "line": {
              "color": "rgb(17,17,17)",
              "width": 0.5
             },
             "pattern": {
              "fillmode": "overlay",
              "size": 10,
              "solidity": 0.2
             }
            },
            "type": "barpolar"
           }
          ],
          "pie": [
           {
            "automargin": true,
            "type": "pie"
           }
          ]
         },
         "layout": {
          "autotypenumbers": "strict",
          "colorway": [
           "#636efa",
           "#EF553B",
           "#00cc96",
           "#ab63fa",
           "#FFA15A",
           "#19d3f3",
           "#FF6692",
           "#B6E880",
           "#FF97FF",
           "#FECB52"
          ],
          "font": {
           "color": "#f2f5fa"
          },
          "hovermode": "closest",
          "hoverlabel": {
           "align": "left"
          },
          "paper_bgcolor": "rgb(17,17,17)",
          "plot_bgcolor": "rgb(17,17,17)",
          "polar": {
           "bgcolor": "rgb(17,17,17)",
           "angularaxis": {
            "gridcolor": "#506784",
            "linecolor": "#506784",
            "ticks": ""
           },
           "radialaxis": {
            "gridcolor": "#506784",
            "linecolor": "#506784",
            "ticks": ""
           }
          },
          "ternary": {
           "bgcolor": "rgb(17,17,17)",
           "aaxis": {
            "gridcolor": "#506784",
            "linecolor": "#506784",
            "ticks": ""
           },
           "baxis": {
            "gridcolor": "#506784",
            "linecolor": "#506784",
            "ticks": ""
           },
           "caxis": {
            "gridcolor": "#506784",
            "linecolor": "#506784",
            "ticks": ""
           }
          },
          "coloraxis": {
           "colorbar": {
            "outlinewidth": 0,
            "ticks": ""
           }
          },
          "colorscale": {
           "sequential": [
            [
             0.0,
             "#0d0887"
            ],
            [
             0.1111111111111111,
             "#46039f"
            ],
            [
             0.2222222222222222,
             "#7201a8"
            ],
            [
             0.3333333333333333,
             "#9c179e"
            ],
            [
             0.4444444444444444,
             "#bd3786"
            ],
            [
             0.5555555555555556,
             "#d8576b"
            ],
            [
             0.6666666666666666,
             "#ed7953"
            ],
            [
             0.7777777777777778,
             "#fb9f3a"
            ],
            [
             0.8888888888888888,
             "#fdca26"
            ],
            [
             1.0,
             "#f0f921"
            ]
           ],
           "sequentialminus": [
            [
             0.0,
             "#0d0887"
            ],
            [
             0.1111111111111111,
             "#46039f"
            ],
            [
             0.2222222222222222,
             "#7201a8"
            ],
            [
             0.3333333333333333,
             "#9c179e"
            ],
            [
             0.4444444444444444,
             "#bd3786"
            ],
            [
             0.5555555555555556,
             "#d8576b"
            ],
            [
             0.6666666666666666,
             "#ed7953"
            ],
            [
             0.7777777777777778,
             "#fb9f3a"
            ],
            [
             0.8888888888888888,
             "#fdca26"
            ],
            [
             1.0,
             "#f0f921"
            ]
           ],
           "diverging": [
            [
             0,
             "#8e0152"
            ],
            [
             0.1,
             "#c51b7d"
            ],
            [
             0.2,
             "#de77ae"
            ],
            [
             0.3,
             "#f1b6da"
            ],
            [
             0.4,
             "#fde0ef"
            ],
            [
             0.5,
             "#f7f7f7"
            ],
            [
             0.6,
             "#e6f5d0"
            ],
            [
             0.7,
             "#b8e186"
            ],
            [
             0.8,
             "#7fbc41"
            ],
            [
             0.9,
             "#4d9221"
            ],
            [
             1,
             "#276419"
            ]
           ]
          },
          "xaxis": {
           "gridcolor": "#283442",
           "linecolor": "#506784",
           "ticks": "",
           "title": {
            "standoff": 15
           },
           "zerolinecolor": "#283442",
           "automargin": true,
           "zerolinewidth": 2
          },
          "yaxis": {
           "gridcolor": "#283442",
           "linecolor": "#506784",
           "ticks": "",
           "title": {
            "standoff": 15
           },
           "zerolinecolor": "#283442",
           "automargin": true,
           "zerolinewidth": 2
          },
          "scene": {
           "xaxis": {
            "backgroundcolor": "rgb(17,17,17)",
            "gridcolor": "#506784",
            "linecolor": "#506784",
            "showbackground": true,
            "ticks": "",
            "zerolinecolor": "#C8D4E3",
            "gridwidth": 2
           },
           "yaxis": {
            "backgroundcolor": "rgb(17,17,17)",
            "gridcolor": "#506784",
            "linecolor": "#506784",
            "showbackground": true,
            "ticks": "",
            "zerolinecolor": "#C8D4E3",
            "gridwidth": 2
           },
           "zaxis": {
            "backgroundcolor": "rgb(17,17,17)",
            "gridcolor": "#506784",
            "linecolor": "#506784",
            "showbackground": true,
            "ticks": "",
            "zerolinecolor": "#C8D4E3",
            "gridwidth": 2
           }
          },
          "shapedefaults": {
           "line": {
            "color": "#f2f5fa"
           }
          },
          "annotationdefaults": {
           "arrowcolor": "#f2f5fa",
           "arrowhead": 0,
           "arrowwidth": 1
          },
          "geo": {
           "bgcolor": "rgb(17,17,17)",
           "landcolor": "rgb(17,17,17)",
           "subunitcolor": "#506784",
           "showland": true,
           "showlakes": true,
           "lakecolor": "rgb(17,17,17)"
          },
          "title": {
           "x": 0.05
          },
          "updatemenudefaults": {
           "bgcolor": "#506784",
           "borderwidth": 0
          },
          "sliderdefaults": {
           "bgcolor": "#C8D4E3",
           "borderwidth": 1,
           "bordercolor": "rgb(17,17,17)",
           "tickwidth": 0
          },
          "mapbox": {
           "style": "dark"
          }
         }
        },
        "xaxis": {
         "range": [
          -0.5,
          15.5
         ]
        },
        "yaxis": {
         "scaleanchor": "x",
         "scaleratio": 1,
         "range": [
          -0.5,
          15.5
         ]
        },
        "updatemenus": [
         {
          "buttons": [
           {
            "args": [
             null,
             {
              "frame": {
               "duration": 100,
               "redraw": true
              },
              "fromcurrent": true
             }
            ],
            "label": "Play",
            "method": "animate"
           }
          ],
          "direction": "left",
          "pad": {
           "r": 10,
           "t": 87
          },
          "showactive": false,
          "type": "buttons",
          "x": 0.1,
          "xanchor": "right",
          "y": 0,
          "yanchor": "top"
         }
        ],
        "sliders": [
         {
          "active": 0,
          "currentvalue": {
           "font": {
            "size": 20
           },
           "prefix": "Frame:",
           "visible": true,
           "xanchor": "right"
          },
          "len": 0.9,
          "pad": {
           "b": 10,
           "t": 50
          },
          "steps": [
           {
            "args": [
             [
              "0"
             ],
             {
              "frame": {
               "duration": 100,
               "redraw": true
              },
              "mode": "immediate",
              "transition": {
               "duration": 500
              }
             }
            ],
            "label": "0",
            "method": "animate"
           },
           {
            "args": [
             [
              "50"
             ],
             {
              "frame": {
               "duration": 100,
               "redraw": true
              },
              "mode": "immediate",
              "transition": {
               "duration": 500
              }
             }
            ],
            "label": "50",
            "method": "animate"
           },
           {
            "args": [
             [
              "100"
             ],
             {
              "frame": {
               "duration": 100,
               "redraw": true
              },
              "mode": "immediate",
              "transition": {
               "duration": 500
              }
             }
            ],
            "label": "100",
            "method": "animate"
           },
           {
            "args": [
             [
              "150"
             ],
             {
              "frame": {
               "duration": 100,
               "redraw": true
              },
              "mode": "immediate",
              "transition": {
               "duration": 500
              }
             }
            ],
            "label": "150",
            "method": "animate"
           },
           {
            "args": [
             [
              "200"
             ],
             {
              "frame": {
               "duration": 100,
               "redraw": true
              },
              "mode": "immediate",
              "transition": {
               "duration": 500
              }
             }
            ],
            "label": "200",
            "method": "animate"
           },
           {
            "args": [
             [
              "250"
             ],
             {
              "frame": {
               "duration": 100,
               "redraw": true
              },
              "mode": "immediate",
              "transition": {
               "duration": 500
              }
             }
            ],
            "label": "250",
            "method": "animate"
           },
           {
            "args": [
             [
              "300"
             ],
             {
              "frame": {
               "duration": 100,
               "redraw": true
              },
              "mode": "immediate",
              "transition": {
               "duration": 500
              }
             }
            ],
            "label": "300",
            "method": "animate"
           },
           {
            "args": [
             [
              "350"
             ],
             {
              "frame": {
               "duration": 100,
               "redraw": true
              },
              "mode": "immediate",
              "transition": {
               "duration": 500
              }
             }
            ],
            "label": "350",
            "method": "animate"
           },
           {
            "args": [
             [
              "400"
             ],
             {
              "frame": {
               "duration": 100,
               "redraw": true
              },
              "mode": "immediate",
              "transition": {
               "duration": 500
              }
             }
            ],
            "label": "400",
            "method": "animate"
           },
           {
            "args": [
             [
              "450"
             ],
             {
              "frame": {
               "duration": 100,
               "redraw": true
              },
              "mode": "immediate",
              "transition": {
               "duration": 500
              }
             }
            ],
            "label": "450",
            "method": "animate"
           },
           {
            "args": [
             [
              "500"
             ],
             {
              "frame": {
               "duration": 100,
               "redraw": true
              },
              "mode": "immediate",
              "transition": {
               "duration": 500
              }
             }
            ],
            "label": "500",
            "method": "animate"
           },
           {
            "args": [
             [
              "550"
             ],
             {
              "frame": {
               "duration": 100,
               "redraw": true
              },
              "mode": "immediate",
              "transition": {
               "duration": 500
              }
             }
            ],
            "label": "550",
            "method": "animate"
           },
           {
            "args": [
             [
              "600"
             ],
             {
              "frame": {
               "duration": 100,
               "redraw": true
              },
              "mode": "immediate",
              "transition": {
               "duration": 500
              }
             }
            ],
            "label": "600",
            "method": "animate"
           },
           {
            "args": [
             [
              "650"
             ],
             {
              "frame": {
               "duration": 100,
               "redraw": true
              },
              "mode": "immediate",
              "transition": {
               "duration": 500
              }
             }
            ],
            "label": "650",
            "method": "animate"
           },
           {
            "args": [
             [
              "700"
             ],
             {
              "frame": {
               "duration": 100,
               "redraw": true
              },
              "mode": "immediate",
              "transition": {
               "duration": 500
              }
             }
            ],
            "label": "700",
            "method": "animate"
           },
           {
            "args": [
             [
              "750"
             ],
             {
              "frame": {
               "duration": 100,
               "redraw": true
              },
              "mode": "immediate",
              "transition": {
               "duration": 500
              }
             }
            ],
            "label": "750",
            "method": "animate"
           },
           {
            "args": [
             [
              "800"
             ],
             {
              "frame": {
               "duration": 100,
               "redraw": true
              },
              "mode": "immediate",
              "transition": {
               "duration": 500
              }
             }
            ],
            "label": "800",
            "method": "animate"
           }
          ],
          "transition": {
           "duration": 100,
           "easing": "cubic-in-out"
          },
          "x": 0.1,
          "xanchor": "left",
          "y": 0,
          "yanchor": "top"
         }
        ],
        "autosize": false,
        "width": 800,
        "height": 800
       },
       "frames": [
        {
         "data": [
          {
           "hoverinfo": "name",
           "line": {
            "color": "grey"
           },
           "mode": "lines",
           "name": "Exterior",
           "showlegend": false,
           "x": [
            10.1,
            10.1,
            15.0,
            15.0,
            13.6,
            13.6,
            15.0,
            15.0,
            13.6,
            13.6,
            15.0,
            15.0,
            10.1,
            10.1,
            9.9,
            9.9,
            5.1,
            5.1,
            4.9,
            4.9,
            0.0,
            0.0,
            1.5,
            1.5,
            0.0,
            0.0,
            1.5,
            1.5,
            0.0,
            0.0,
            4.9,
            4.9,
            5.1,
            5.1,
            9.9,
            9.9,
            10.1
           ],
           "y": [
            1.5,
            0.0,
            0.0,
            4.9,
            4.9,
            5.1,
            5.1,
            9.9,
            9.9,
            10.1,
            10.1,
            15.0,
            15.0,
            13.6,
            13.6,
            15.0,
            15.0,
            13.6,
            13.6,
            15.0,
            15.0,
            10.1,
            10.1,
            9.9,
            9.9,
            5.1,
            5.1,
            4.9,
            4.9,
            0.0,
            0.0,
            1.5,
            1.5,
            0.0,
            0.0,
            1.5,
            1.5
           ],
           "type": "scatter"
          },
          {
           "hoverinfo": "name",
           "line": {
            "color": "grey"
           },
           "mode": "lines",
           "name": "Obstacle",
           "showlegend": false,
           "x": [
            10.1,
            11.5,
            11.5,
            10.1,
            10.1,
            9.9,
            9.9,
            8.6,
            8.6,
            9.9,
            9.9,
            10.1,
            10.1
           ],
           "y": [
            5.1,
            5.1,
            4.9,
            4.9,
            3.6,
            3.6,
            4.9,
            4.9,
            5.1,
            5.1,
            6.5,
            6.5,
            5.1
           ],
           "type": "scatter"
          },
          {
           "hoverinfo": "name",
           "line": {
            "color": "grey"
           },
           "mode": "lines",
           "name": "Obstacle",
           "showlegend": false,
           "x": [
            10.1,
            11.5,
            11.5,
            10.1,
            10.1,
            9.9,
            9.9,
            8.6,
            8.6,
            9.9,
            9.9,
            10.1,
            10.1
           ],
           "y": [
            10.1,
            10.1,
            9.9,
            9.9,
            8.6,
            8.6,
            9.9,
            9.9,
            10.1,
            10.1,
            11.5,
            11.5,
            10.1
           ],
           "type": "scatter"
          },
          {
           "hoverinfo": "name",
           "line": {
            "color": "grey"
           },
           "mode": "lines",
           "name": "Obstacle",
           "showlegend": false,
           "x": [
            5.1,
            6.4,
            6.4,
            5.1,
            5.1,
            4.9,
            4.9,
            3.6,
            3.6,
            4.9,
            4.9,
            5.1,
            5.1
           ],
           "y": [
            5.1,
            5.1,
            4.9,
            4.9,
            3.6,
            3.6,
            4.9,
            4.9,
            5.1,
            5.1,
            6.5,
            6.5,
            5.1
           ],
           "type": "scatter"
          },
          {
           "hoverinfo": "name",
           "line": {
            "color": "grey"
           },
           "mode": "lines",
           "name": "Obstacle",
           "showlegend": false,
           "x": [
            5.1,
            6.4,
            6.4,
            5.1,
            5.1,
            4.9,
            4.9,
            3.6,
            3.6,
            4.9,
            4.9,
            5.1,
            5.1
           ],
           "y": [
            10.1,
            10.1,
            9.9,
            9.9,
            8.6,
            8.6,
            9.9,
            9.9,
            10.1,
            10.1,
            11.5,
            11.5,
            10.1
           ],
           "type": "scatter"
          },
          {
           "fill": "toself",
           "fillcolor": "rgba(200, 0, 0, 0.00)",
           "hoverinfo": "name",
           "line": {
            "width": 0
           },
           "mode": "lines",
           "name": "Risk Area",
           "showlegend": false,
           "x": [
            0.0,
            5.0,
            5.0,
            0.0,
            0.0
           ],
           "y": [
            0.0,
            0.0,
            5.0,
            5.0,
            0.0
           ],
           "type": "scatter"
          },
          {
           "fill": "toself",
           "fillcolor": "rgba(200, 0, 0, 0.60)",
           "hoverinfo": "name",
           "line": {
            "width": 0
           },
           "mode": "lines",
           "name": "Risk Area",
           "showlegend": false,
           "x": [
            5.0,
            10.0,
            10.0,
            5.0,
            5.0
           ],
           "y": [
            0.0,
            0.0,
            5.0,
            5.0,
            0.0
           ],
           "type": "scatter"
          },
          {
           "fill": "toself",
           "fillcolor": "rgba(200, 0, 0, 0.00)",
           "hoverinfo": "name",
           "line": {
            "width": 0
           },
           "mode": "lines",
           "name": "Risk Area",
           "showlegend": false,
           "x": [
            10.0,
            15.0,
            15.0,
            10.0,
            10.0
           ],
           "y": [
            0.0,
            0.0,
            5.0,
            5.0,
            0.0
           ],
           "type": "scatter"
          },
          {
           "fill": "toself",
           "fillcolor": "rgba(200, 0, 0, 0.60)",
           "hoverinfo": "name",
           "line": {
            "width": 0
           },
           "mode": "lines",
           "name": "Risk Area",
           "showlegend": false,
           "x": [
            10.0,
            15.0,
            15.0,
            10.0,
            10.0
           ],
           "y": [
            5.0,
            5.0,
            10.0,
            10.0,
            5.0
           ],
           "type": "scatter"
          },
          {
           "fill": "toself",
           "fillcolor": "rgba(200, 0, 0, 0.60)",
           "hoverinfo": "name",
           "line": {
            "width": 0
           },
           "mode": "lines",
           "name": "Risk Area",
           "showlegend": false,
           "x": [
            5.0,
            10.0,
            10.0,
            5.0,
            5.0
           ],
           "y": [
            5.0,
            5.0,
            10.0,
            10.0,
            5.0
           ],
           "type": "scatter"
          },
          {
           "fill": "toself",
           "fillcolor": "rgba(200, 0, 0, 0.10)",
           "hoverinfo": "name",
           "line": {
            "width": 0
           },
           "mode": "lines",
           "name": "Risk Area",
           "showlegend": false,
           "x": [
            0.0,
            5.0,
            5.0,
            0.0,
            0.0
           ],
           "y": [
            5.0,
            5.0,
            10.0,
            10.0,
            5.0
           ],
           "type": "scatter"
          },
          {
           "fill": "toself",
           "fillcolor": "rgba(200, 0, 0, 0.00)",
           "hoverinfo": "name",
           "line": {
            "width": 0
           },
           "mode": "lines",
           "name": "Risk Area",
           "showlegend": false,
           "x": [
            0.0,
            5.0,
            5.0,
            0.0,
            0.0
           ],
           "y": [
            10.0,
            10.0,
            15.0,
            15.0,
            10.0
           ],
           "type": "scatter"
          },
          {
           "fill": "toself",
           "fillcolor": "rgba(200, 0, 0, 0.00)",
           "hoverinfo": "name",
           "line": {
            "width": 0
           },
           "mode": "lines",
           "name": "Risk Area",
           "showlegend": false,
           "x": [
            5.0,
            10.0,
            10.0,
            5.0,
            5.0
           ],
           "y": [
            10.0,
            10.0,
            15.0,
            15.0,
            10.0
           ],
           "type": "scatter"
          },
          {
           "fill": "toself",
           "fillcolor": "rgba(200, 0, 0, 0.00)",
           "hoverinfo": "name",
           "line": {
            "width": 0
           },
           "mode": "lines",
           "name": "Risk Area",
           "showlegend": false,
           "x": [
            10.0,
            15.0,
            15.0,
            10.0,
            10.0
           ],
           "y": [
            10.0,
            10.0,
            15.0,
            15.0,
            10.0
           ],
           "type": "scatter"
          },
          {
           "hoverinfo": "text",
           "marker": {
            "opacity": 1,
            "size": 1
           },
           "mode": "markers",
           "showlegend": false,
           "text": [
            "ID: 61, Pos(3.99,4.27)"
           ],
           "x": [
            3.9863327738146737
           ],
           "y": [
            4.268834270066489
           ],
           "type": "scatter"
          },
          {
           "hoverinfo": "text",
           "marker": {
            "opacity": 1,
            "size": 1
           },
           "mode": "markers",
           "showlegend": false,
           "text": [
            "ID: 62, Pos(0.85,1.64)"
           ],
           "x": [
            0.8488279016949318
           ],
           "y": [
            1.6370406488593048
           ],
           "type": "scatter"
          },
          {
           "hoverinfo": "text",
           "marker": {
            "opacity": 1,
            "size": 1
           },
           "mode": "markers",
           "showlegend": false,
           "text": [
            "ID: 63, Pos(1.73,1.60)"
           ],
           "x": [
            1.7258968673840784
           ],
           "y": [
            1.5962220773638665
           ],
           "type": "scatter"
          },
          {
           "hoverinfo": "text",
           "marker": {
            "opacity": 1,
            "size": 1
           },
           "mode": "markers",
           "showlegend": false,
           "text": [
            "ID: 64, Pos(2.12,3.52)"
           ],
           "x": [
            2.116160882427272
           ],
           "y": [
            3.5204353653542206
           ],
           "type": "scatter"
          },
          {
           "hoverinfo": "text",
           "marker": {
            "opacity": 1,
            "size": 1
           },
           "mode": "markers",
           "showlegend": false,
           "text": [
            "ID: 65, Pos(1.69,2.80)"
           ],
           "x": [
            1.692259232863783
           ],
           "y": [
            2.7972929381969065
           ],
           "type": "scatter"
          },
          {
           "hoverinfo": "text",
           "marker": {
            "opacity": 1,
            "size": 1
           },
           "mode": "markers",
           "showlegend": false,
           "text": [
            "ID: 66, Pos(1.45,3.66)"
           ],
           "x": [
            1.453767774845684
           ],
           "y": [
            3.6607508930614516
           ],
           "type": "scatter"
          },
          {
           "hoverinfo": "text",
           "marker": {
            "opacity": 1,
            "size": 1
           },
           "mode": "markers",
           "showlegend": false,
           "text": [
            "ID: 67, Pos(3.07,4.23)"
           ],
           "x": [
            3.0719865838614573
           ],
           "y": [
            4.234745501580994
           ],
           "type": "scatter"
          },
          {
           "hoverinfo": "text",
           "marker": {
            "opacity": 1,
            "size": 1
           },
           "mode": "markers",
           "showlegend": false,
           "text": [
            "ID: 68, Pos(3.49,1.96)"
           ],
           "x": [
            3.48879726462054
           ],
           "y": [
            1.9561046634672852
           ],
           "type": "scatter"
          },
          {
           "hoverinfo": "text",
           "marker": {
            "opacity": 1,
            "size": 1
           },
           "mode": "markers",
           "showlegend": false,
           "text": [
            "ID: 69, Pos(1.70,3.31)"
           ],
           "x": [
            1.7042831428492793
           ],
           "y": [
            3.3139640340517103
           ],
           "type": "scatter"
          },
          {
           "hoverinfo": "text",
           "marker": {
            "opacity": 1,
            "size": 1
           },
           "mode": "markers",
           "showlegend": false,
           "text": [
            "ID: 70, Pos(1.76,2.25)"
           ],
           "x": [
            1.7565776142251517
           ],
           "y": [
            2.253852105302265
           ],
           "type": "scatter"
          }
         ],
         "layout": {
          "shapes": [
           {
            "fillcolor": "rgba(0, 0, 128, 0.5)",
            "line": {
             "color": "rgba(0, 0, 128, 0.5)"
            },
            "type": "circle",
            "x0": 3.7863327738146735,
            "x1": 4.186332773814674,
            "xref": "x",
            "y0": 4.068834270066489,
            "y1": 4.468834270066489,
            "yref": "y"
           },
           {
            "fillcolor": "rgba(48, 255, 199, 0.5)",
            "line": {
             "color": "rgba(48, 255, 199, 0.5)"
            },
            "type": "circle",
            "x0": 0.6488279016949319,
            "x1": 1.0488279016949318,
            "xref": "x",
            "y0": 1.4370406488593048,
            "y1": 1.8370406488593047,
            "yref": "y"
           },
           {
            "fillcolor": "rgba(0, 0, 128, 0.5)",
            "line": {
             "color": "rgba(0, 0, 128, 0.5)"
            },
            "type": "circle",
            "x0": 1.5258968673840785,
            "x1": 1.9258968673840784,
            "xref": "x",
            "y0": 1.3962220773638665,
            "y1": 1.7962220773638664,
            "yref": "y"
           },
           {
            "fillcolor": "rgba(0, 0, 128, 0.5)",
            "line": {
             "color": "rgba(0, 0, 128, 0.5)"
            },
            "type": "circle",
            "x0": 1.916160882427272,
            "x1": 2.316160882427272,
            "xref": "x",
            "y0": 3.3204353653542205,
            "y1": 3.720435365354221,
            "yref": "y"
           },
           {
            "fillcolor": "rgba(0, 0, 128, 0.5)",
            "line": {
             "color": "rgba(0, 0, 128, 0.5)"
            },
            "type": "circle",
            "x0": 1.4922592328637831,
            "x1": 1.892259232863783,
            "xref": "x",
            "y0": 2.5972929381969063,
            "y1": 2.9972929381969067,
            "yref": "y"
           },
           {
            "fillcolor": "rgba(0, 0, 246, 0.5)",
            "line": {
             "color": "rgba(0, 0, 246, 0.5)"
            },
            "type": "circle",
            "x0": 1.2537677748456841,
            "x1": 1.653767774845684,
            "xref": "x",
            "y0": 3.4607508930614514,
            "y1": 3.860750893061452,
            "yref": "y"
           },
           {
            "fillcolor": "rgba(0, 136, 255, 0.5)",
            "line": {
             "color": "rgba(0, 136, 255, 0.5)"
            },
            "type": "circle",
            "x0": 2.871986583861457,
            "x1": 3.2719865838614575,
            "xref": "x",
            "y0": 4.034745501580994,
            "y1": 4.434745501580994,
            "yref": "y"
           },
           {
            "fillcolor": "rgba(0, 0, 128, 0.5)",
            "line": {
             "color": "rgba(0, 0, 128, 0.5)"
            },
            "type": "circle",
            "x0": 3.28879726462054,
            "x1": 3.6887972646205403,
            "xref": "x",
            "y0": 1.7561046634672852,
            "y1": 2.156104663467285,
            "yref": "y"
           },
           {
            "fillcolor": "rgba(255, 152, 0, 0.5)",
            "line": {
             "color": "rgba(255, 152, 0, 0.5)"
            },
            "type": "circle",
            "x0": 1.5042831428492793,
            "x1": 1.9042831428492792,
            "xref": "x",
            "y0": 3.11396403405171,
            "y1": 3.5139640340517104,
            "yref": "y"
           },
           {
            "fillcolor": "rgba(0, 0, 128, 0.5)",
            "line": {
             "color": "rgba(0, 0, 128, 0.5)"
            },
            "type": "circle",
            "x0": 1.5565776142251517,
            "x1": 1.9565776142251516,
            "xref": "x",
            "y0": 2.0538521053022647,
            "y1": 2.453852105302265,
            "yref": "y"
           },
           {
            "line": {
             "color": "white",
             "width": 3
            },
            "type": "line",
            "x0": 3.9863327738146737,
            "x1": 3.9863327738146737,
            "y0": 4.268834270066489,
            "y1": 4.268834270066489
           },
           {
            "line": {
             "color": "black",
             "width": 3
            },
            "type": "line",
            "x0": 0.8488279016949318,
            "x1": 0.8488279016949318,
            "y0": 1.6370406488593048,
            "y1": 1.6370406488593048
           },
           {
            "line": {
             "color": "white",
             "width": 3
            },
            "type": "line",
            "x0": 1.7258968673840784,
            "x1": 1.7258968673840784,
            "y0": 1.5962220773638665,
            "y1": 1.5962220773638665
           },
           {
            "line": {
             "color": "white",
             "width": 3
            },
            "type": "line",
            "x0": 2.116160882427272,
            "x1": 2.116160882427272,
            "y0": 3.5204353653542206,
            "y1": 3.5204353653542206
           },
           {
            "line": {
             "color": "white",
             "width": 3
            },
            "type": "line",
            "x0": 1.692259232863783,
            "x1": 1.692259232863783,
            "y0": 2.7972929381969065,
            "y1": 2.7972929381969065
           },
           {
            "line": {
             "color": "white",
             "width": 3
            },
            "type": "line",
            "x0": 1.453767774845684,
            "x1": 1.453767774845684,
            "y0": 3.6607508930614516,
            "y1": 3.6607508930614516
           },
           {
            "line": {
             "color": "white",
             "width": 3
            },
            "type": "line",
            "x0": 3.0719865838614573,
            "x1": 3.0719865838614573,
            "y0": 4.234745501580994,
            "y1": 4.234745501580994
           },
           {
            "line": {
             "color": "white",
             "width": 3
            },
            "type": "line",
            "x0": 3.48879726462054,
            "x1": 3.48879726462054,
            "y0": 1.9561046634672852,
            "y1": 1.9561046634672852
           },
           {
            "line": {
             "color": "black",
             "width": 3
            },
            "type": "line",
            "x0": 1.7042831428492793,
            "x1": 1.7042831428492793,
            "y0": 3.3139640340517103,
            "y1": 3.3139640340517103
           },
           {
            "line": {
             "color": "white",
             "width": 3
            },
            "type": "line",
            "x0": 1.7565776142251517,
            "x1": 1.7565776142251517,
            "y0": 2.253852105302265,
            "y1": 2.253852105302265
           }
          ],
          "title": {
           "text": "<b>Percentage using the shortest path: 0%  |  Number of Agents: 10</b>",
           "x": 0.5
          }
         },
         "name": "0"
        },
        {
         "data": [
          {
           "hoverinfo": "name",
           "line": {
            "color": "grey"
           },
           "mode": "lines",
           "name": "Exterior",
           "showlegend": false,
           "x": [
            10.1,
            10.1,
            15.0,
            15.0,
            13.6,
            13.6,
            15.0,
            15.0,
            13.6,
            13.6,
            15.0,
            15.0,
            10.1,
            10.1,
            9.9,
            9.9,
            5.1,
            5.1,
            4.9,
            4.9,
            0.0,
            0.0,
            1.5,
            1.5,
            0.0,
            0.0,
            1.5,
            1.5,
            0.0,
            0.0,
            4.9,
            4.9,
            5.1,
            5.1,
            9.9,
            9.9,
            10.1
           ],
           "y": [
            1.5,
            0.0,
            0.0,
            4.9,
            4.9,
            5.1,
            5.1,
            9.9,
            9.9,
            10.1,
            10.1,
            15.0,
            15.0,
            13.6,
            13.6,
            15.0,
            15.0,
            13.6,
            13.6,
            15.0,
            15.0,
            10.1,
            10.1,
            9.9,
            9.9,
            5.1,
            5.1,
            4.9,
            4.9,
            0.0,
            0.0,
            1.5,
            1.5,
            0.0,
            0.0,
            1.5,
            1.5
           ],
           "type": "scatter"
          },
          {
           "hoverinfo": "name",
           "line": {
            "color": "grey"
           },
           "mode": "lines",
           "name": "Obstacle",
           "showlegend": false,
           "x": [
            10.1,
            11.5,
            11.5,
            10.1,
            10.1,
            9.9,
            9.9,
            8.6,
            8.6,
            9.9,
            9.9,
            10.1,
            10.1
           ],
           "y": [
            5.1,
            5.1,
            4.9,
            4.9,
            3.6,
            3.6,
            4.9,
            4.9,
            5.1,
            5.1,
            6.5,
            6.5,
            5.1
           ],
           "type": "scatter"
          },
          {
           "hoverinfo": "name",
           "line": {
            "color": "grey"
           },
           "mode": "lines",
           "name": "Obstacle",
           "showlegend": false,
           "x": [
            10.1,
            11.5,
            11.5,
            10.1,
            10.1,
            9.9,
            9.9,
            8.6,
            8.6,
            9.9,
            9.9,
            10.1,
            10.1
           ],
           "y": [
            10.1,
            10.1,
            9.9,
            9.9,
            8.6,
            8.6,
            9.9,
            9.9,
            10.1,
            10.1,
            11.5,
            11.5,
            10.1
           ],
           "type": "scatter"
          },
          {
           "hoverinfo": "name",
           "line": {
            "color": "grey"
           },
           "mode": "lines",
           "name": "Obstacle",
           "showlegend": false,
           "x": [
            5.1,
            6.4,
            6.4,
            5.1,
            5.1,
            4.9,
            4.9,
            3.6,
            3.6,
            4.9,
            4.9,
            5.1,
            5.1
           ],
           "y": [
            5.1,
            5.1,
            4.9,
            4.9,
            3.6,
            3.6,
            4.9,
            4.9,
            5.1,
            5.1,
            6.5,
            6.5,
            5.1
           ],
           "type": "scatter"
          },
          {
           "hoverinfo": "name",
           "line": {
            "color": "grey"
           },
           "mode": "lines",
           "name": "Obstacle",
           "showlegend": false,
           "x": [
            5.1,
            6.4,
            6.4,
            5.1,
            5.1,
            4.9,
            4.9,
            3.6,
            3.6,
            4.9,
            4.9,
            5.1,
            5.1
           ],
           "y": [
            10.1,
            10.1,
            9.9,
            9.9,
            8.6,
            8.6,
            9.9,
            9.9,
            10.1,
            10.1,
            11.5,
            11.5,
            10.1
           ],
           "type": "scatter"
          },
          {
           "fill": "toself",
           "fillcolor": "rgba(200, 0, 0, 0.00)",
           "hoverinfo": "name",
           "line": {
            "width": 0
           },
           "mode": "lines",
           "name": "Risk Area",
           "showlegend": false,
           "x": [
            0.0,
            5.0,
            5.0,
            0.0,
            0.0
           ],
           "y": [
            0.0,
            0.0,
            5.0,
            5.0,
            0.0
           ],
           "type": "scatter"
          },
          {
           "fill": "toself",
           "fillcolor": "rgba(200, 0, 0, 0.60)",
           "hoverinfo": "name",
           "line": {
            "width": 0
           },
           "mode": "lines",
           "name": "Risk Area",
           "showlegend": false,
           "x": [
            5.0,
            10.0,
            10.0,
            5.0,
            5.0
           ],
           "y": [
            0.0,
            0.0,
            5.0,
            5.0,
            0.0
           ],
           "type": "scatter"
          },
          {
           "fill": "toself",
           "fillcolor": "rgba(200, 0, 0, 0.00)",
           "hoverinfo": "name",
           "line": {
            "width": 0
           },
           "mode": "lines",
           "name": "Risk Area",
           "showlegend": false,
           "x": [
            10.0,
            15.0,
            15.0,
            10.0,
            10.0
           ],
           "y": [
            0.0,
            0.0,
            5.0,
            5.0,
            0.0
           ],
           "type": "scatter"
          },
          {
           "fill": "toself",
           "fillcolor": "rgba(200, 0, 0, 0.60)",
           "hoverinfo": "name",
           "line": {
            "width": 0
           },
           "mode": "lines",
           "name": "Risk Area",
           "showlegend": false,
           "x": [
            10.0,
            15.0,
            15.0,
            10.0,
            10.0
           ],
           "y": [
            5.0,
            5.0,
            10.0,
            10.0,
            5.0
           ],
           "type": "scatter"
          },
          {
           "fill": "toself",
           "fillcolor": "rgba(200, 0, 0, 0.60)",
           "hoverinfo": "name",
           "line": {
            "width": 0
           },
           "mode": "lines",
           "name": "Risk Area",
           "showlegend": false,
           "x": [
            5.0,
            10.0,
            10.0,
            5.0,
            5.0
           ],
           "y": [
            5.0,
            5.0,
            10.0,
            10.0,
            5.0
           ],
           "type": "scatter"
          },
          {
           "fill": "toself",
           "fillcolor": "rgba(200, 0, 0, 0.10)",
           "hoverinfo": "name",
           "line": {
            "width": 0
           },
           "mode": "lines",
           "name": "Risk Area",
           "showlegend": false,
           "x": [
            0.0,
            5.0,
            5.0,
            0.0,
            0.0
           ],
           "y": [
            5.0,
            5.0,
            10.0,
            10.0,
            5.0
           ],
           "type": "scatter"
          },
          {
           "fill": "toself",
           "fillcolor": "rgba(200, 0, 0, 0.00)",
           "hoverinfo": "name",
           "line": {
            "width": 0
           },
           "mode": "lines",
           "name": "Risk Area",
           "showlegend": false,
           "x": [
            0.0,
            5.0,
            5.0,
            0.0,
            0.0
           ],
           "y": [
            10.0,
            10.0,
            15.0,
            15.0,
            10.0
           ],
           "type": "scatter"
          },
          {
           "fill": "toself",
           "fillcolor": "rgba(200, 0, 0, 0.00)",
           "hoverinfo": "name",
           "line": {
            "width": 0
           },
           "mode": "lines",
           "name": "Risk Area",
           "showlegend": false,
           "x": [
            5.0,
            10.0,
            10.0,
            5.0,
            5.0
           ],
           "y": [
            10.0,
            10.0,
            15.0,
            15.0,
            10.0
           ],
           "type": "scatter"
          },
          {
           "fill": "toself",
           "fillcolor": "rgba(200, 0, 0, 0.00)",
           "hoverinfo": "name",
           "line": {
            "width": 0
           },
           "mode": "lines",
           "name": "Risk Area",
           "showlegend": false,
           "x": [
            10.0,
            15.0,
            15.0,
            10.0,
            10.0
           ],
           "y": [
            10.0,
            10.0,
            15.0,
            15.0,
            10.0
           ],
           "type": "scatter"
          },
          {
           "hoverinfo": "text",
           "marker": {
            "opacity": 1,
            "size": 1
           },
           "mode": "markers",
           "showlegend": false,
           "text": [
            "ID: 61, Pos(3.62,4.57)"
           ],
           "x": [
            3.624663867004494
           ],
           "y": [
            4.572942041072394
           ],
           "type": "scatter"
          },
          {
           "hoverinfo": "text",
           "marker": {
            "opacity": 1,
            "size": 1
           },
           "mode": "markers",
           "showlegend": false,
           "text": [
            "ID: 62, Pos(1.37,2.85)"
           ],
           "x": [
            1.3726374518931295
           ],
           "y": [
            2.8458001230525047
           ],
           "type": "scatter"
          },
          {
           "hoverinfo": "text",
           "marker": {
            "opacity": 1,
            "size": 1
           },
           "mode": "markers",
           "showlegend": false,
           "text": [
            "ID: 63, Pos(2.15,1.87)"
           ],
           "x": [
            2.1468923029348774
           ],
           "y": [
            1.868570495335488
           ],
           "type": "scatter"
          },
          {
           "hoverinfo": "text",
           "marker": {
            "opacity": 1,
            "size": 1
           },
           "mode": "markers",
           "showlegend": false,
           "text": [
            "ID: 64, Pos(2.57,4.71)"
           ],
           "x": [
            2.5685625821921643
           ],
           "y": [
            4.709391544762826
           ],
           "type": "scatter"
          },
          {
           "hoverinfo": "text",
           "marker": {
            "opacity": 1,
            "size": 1
           },
           "mode": "markers",
           "showlegend": false,
           "text": [
            "ID: 65, Pos(2.14,3.19)"
           ],
           "x": [
            2.135724068214924
           ],
           "y": [
            3.1861311292691084
           ],
           "type": "scatter"
          },
          {
           "hoverinfo": "text",
           "marker": {
            "opacity": 1,
            "size": 1
           },
           "mode": "markers",
           "showlegend": false,
           "text": [
            "ID: 66, Pos(1.96,5.04)"
           ],
           "x": [
            1.960579232601007
           ],
           "y": [
            5.040717503395859
           ],
           "type": "scatter"
          },
          {
           "hoverinfo": "text",
           "marker": {
            "opacity": 1,
            "size": 1
           },
           "mode": "markers",
           "showlegend": false,
           "text": [
            "ID: 67, Pos(3.03,5.28)"
           ],
           "x": [
            3.034440411887453
           ],
           "y": [
            5.278552531984465
           ],
           "type": "scatter"
          },
          {
           "hoverinfo": "text",
           "marker": {
            "opacity": 1,
            "size": 1
           },
           "mode": "markers",
           "showlegend": false,
           "text": [
            "ID: 68, Pos(3.59,3.17)"
           ],
           "x": [
            3.5916390920039114
           ],
           "y": [
            3.1733961277269316
           ],
           "type": "scatter"
          },
          {
           "hoverinfo": "text",
           "marker": {
            "opacity": 1,
            "size": 1
           },
           "mode": "markers",
           "showlegend": false,
           "text": [
            "ID: 69, Pos(1.89,3.98)"
           ],
           "x": [
            1.887176775050277
           ],
           "y": [
            3.9845793231642537
           ],
           "type": "scatter"
          },
          {
           "hoverinfo": "text",
           "marker": {
            "opacity": 1,
            "size": 1
           },
           "mode": "markers",
           "showlegend": false,
           "text": [
            "ID: 70, Pos(2.19,2.50)"
           ],
           "x": [
            2.1870682441532456
           ],
           "y": [
            2.495098850517011
           ],
           "type": "scatter"
          }
         ],
         "layout": {
          "shapes": [
           {
            "fillcolor": "rgba(0, 156, 255, 0.5)",
            "line": {
             "color": "rgba(0, 156, 255, 0.5)"
            },
            "type": "circle",
            "x0": 3.4246638670044938,
            "x1": 3.824663867004494,
            "xref": "x",
            "y0": 4.372942041072394,
            "y1": 4.772942041072394,
            "yref": "y"
           },
           {
            "fillcolor": "rgba(0, 0, 128, 0.5)",
            "line": {
             "color": "rgba(0, 0, 128, 0.5)"
            },
            "type": "circle",
            "x0": 1.1726374518931295,
            "x1": 1.5726374518931294,
            "xref": "x",
            "y0": 2.6458001230525046,
            "y1": 3.045800123052505,
            "yref": "y"
           },
           {
            "fillcolor": "rgba(255, 104, 0, 0.5)",
            "line": {
             "color": "rgba(255, 104, 0, 0.5)"
            },
            "type": "circle",
            "x0": 1.9468923029348775,
            "x1": 2.3468923029348776,
            "xref": "x",
            "y0": 1.668570495335488,
            "y1": 2.068570495335488,
            "yref": "y"
           },
           {
            "fillcolor": "rgba(0, 0, 128, 0.5)",
            "line": {
             "color": "rgba(0, 0, 128, 0.5)"
            },
            "type": "circle",
            "x0": 2.368562582192164,
            "x1": 2.7685625821921644,
            "xref": "x",
            "y0": 4.509391544762826,
            "y1": 4.909391544762826,
            "yref": "y"
           },
           {
            "fillcolor": "rgba(131, 255, 115, 0.5)",
            "line": {
             "color": "rgba(131, 255, 115, 0.5)"
            },
            "type": "circle",
            "x0": 1.9357240682149242,
            "x1": 2.3357240682149243,
            "xref": "x",
            "y0": 2.986131129269108,
            "y1": 3.3861311292691085,
            "yref": "y"
           },
           {
            "fillcolor": "rgba(0, 0, 128, 0.5)",
            "line": {
             "color": "rgba(0, 0, 128, 0.5)"
            },
            "type": "circle",
            "x0": 1.760579232601007,
            "x1": 2.160579232601007,
            "xref": "x",
            "y0": 4.840717503395859,
            "y1": 5.240717503395859,
            "yref": "y"
           },
           {
            "fillcolor": "rgba(0, 0, 128, 0.5)",
            "line": {
             "color": "rgba(0, 0, 128, 0.5)"
            },
            "type": "circle",
            "x0": 2.834440411887453,
            "x1": 3.2344404118874532,
            "xref": "x",
            "y0": 5.078552531984465,
            "y1": 5.478552531984465,
            "yref": "y"
           },
           {
            "fillcolor": "rgba(0, 0, 128, 0.5)",
            "line": {
             "color": "rgba(0, 0, 128, 0.5)"
            },
            "type": "circle",
            "x0": 3.3916390920039112,
            "x1": 3.7916390920039116,
            "xref": "x",
            "y0": 2.9733961277269314,
            "y1": 3.3733961277269318,
            "yref": "y"
           },
           {
            "fillcolor": "rgba(0, 72, 255, 0.5)",
            "line": {
             "color": "rgba(0, 72, 255, 0.5)"
            },
            "type": "circle",
            "x0": 1.687176775050277,
            "x1": 2.087176775050277,
            "xref": "x",
            "y0": 3.7845793231642535,
            "y1": 4.184579323164254,
            "yref": "y"
           },
           {
            "fillcolor": "rgba(255, 189, 0, 0.5)",
            "line": {
             "color": "rgba(255, 189, 0, 0.5)"
            },
            "type": "circle",
            "x0": 1.9870682441532457,
            "x1": 2.387068244153246,
            "xref": "x",
            "y0": 2.295098850517011,
            "y1": 2.6950988505170113,
            "yref": "y"
           },
           {
            "line": {
             "color": "white",
             "width": 3
            },
            "type": "line",
            "x0": 3.624663867004494,
            "x1": 3.424974445443303,
            "y0": 4.572942041072394,
            "y1": 4.584083626083376
           },
           {
            "line": {
             "color": "white",
             "width": 3
            },
            "type": "line",
            "x0": 1.3726374518931295,
            "x1": 1.4105350643284174,
            "y0": 2.8458001230525047,
            "y1": 3.0421767280025462
           },
           {
            "line": {
             "color": "black",
             "width": 3
            },
            "type": "line",
            "x0": 2.1468923029348774,
            "x1": 2.1594252159539273,
            "y0": 1.868570495335488,
            "y1": 2.068177424301536
           },
           {
            "line": {
             "color": "white",
             "width": 3
            },
            "type": "line",
            "x0": 2.5685625821921643,
            "x1": 2.578214239732299,
            "y0": 4.709391544762826,
            "y1": 4.909158522781537
           },
           {
            "line": {
             "color": "black",
             "width": 3
            },
            "type": "line",
            "x0": 2.135724068214924,
            "x1": 2.1558988958439422,
            "y0": 3.1861311292691084,
            "y1": 3.3851109682733136
           },
           {
            "line": {
             "color": "white",
             "width": 3
            },
            "type": "line",
            "x0": 1.960579232601007,
            "x1": 1.9910900807831045,
            "y0": 5.040717503395859,
            "y1": 5.238376523284173
           },
           {
            "line": {
             "color": "white",
             "width": 3
            },
            "type": "line",
            "x0": 3.034440411887453,
            "x1": 2.9992777218855466,
            "y0": 5.278552531984465,
            "y1": 5.475437232334263
           },
           {
            "line": {
             "color": "white",
             "width": 3
            },
            "type": "line",
            "x0": 3.5916390920039114,
            "x1": 3.542722206616879,
            "y0": 3.1733961277269316,
            "y1": 3.3673217276977243
           },
           {
            "line": {
             "color": "white",
             "width": 3
            },
            "type": "line",
            "x0": 1.887176775050277,
            "x1": 1.91789447937893,
            "y0": 3.9845793231642537,
            "y1": 4.182206301688891
           },
           {
            "line": {
             "color": "black",
             "width": 3
            },
            "type": "line",
            "x0": 2.1870682441532456,
            "x1": 2.2064155038077296,
            "y0": 2.495098850517011,
            "y1": 2.694160859810251
           }
          ],
          "title": {
           "text": "<b>Percentage using the shortest path: 0%  |  Number of Agents: 10</b>",
           "x": 0.5
          }
         },
         "name": "50"
        },
        {
         "data": [
          {
           "hoverinfo": "name",
           "line": {
            "color": "grey"
           },
           "mode": "lines",
           "name": "Exterior",
           "showlegend": false,
           "x": [
            10.1,
            10.1,
            15.0,
            15.0,
            13.6,
            13.6,
            15.0,
            15.0,
            13.6,
            13.6,
            15.0,
            15.0,
            10.1,
            10.1,
            9.9,
            9.9,
            5.1,
            5.1,
            4.9,
            4.9,
            0.0,
            0.0,
            1.5,
            1.5,
            0.0,
            0.0,
            1.5,
            1.5,
            0.0,
            0.0,
            4.9,
            4.9,
            5.1,
            5.1,
            9.9,
            9.9,
            10.1
           ],
           "y": [
            1.5,
            0.0,
            0.0,
            4.9,
            4.9,
            5.1,
            5.1,
            9.9,
            9.9,
            10.1,
            10.1,
            15.0,
            15.0,
            13.6,
            13.6,
            15.0,
            15.0,
            13.6,
            13.6,
            15.0,
            15.0,
            10.1,
            10.1,
            9.9,
            9.9,
            5.1,
            5.1,
            4.9,
            4.9,
            0.0,
            0.0,
            1.5,
            1.5,
            0.0,
            0.0,
            1.5,
            1.5
           ],
           "type": "scatter"
          },
          {
           "hoverinfo": "name",
           "line": {
            "color": "grey"
           },
           "mode": "lines",
           "name": "Obstacle",
           "showlegend": false,
           "x": [
            10.1,
            11.5,
            11.5,
            10.1,
            10.1,
            9.9,
            9.9,
            8.6,
            8.6,
            9.9,
            9.9,
            10.1,
            10.1
           ],
           "y": [
            5.1,
            5.1,
            4.9,
            4.9,
            3.6,
            3.6,
            4.9,
            4.9,
            5.1,
            5.1,
            6.5,
            6.5,
            5.1
           ],
           "type": "scatter"
          },
          {
           "hoverinfo": "name",
           "line": {
            "color": "grey"
           },
           "mode": "lines",
           "name": "Obstacle",
           "showlegend": false,
           "x": [
            10.1,
            11.5,
            11.5,
            10.1,
            10.1,
            9.9,
            9.9,
            8.6,
            8.6,
            9.9,
            9.9,
            10.1,
            10.1
           ],
           "y": [
            10.1,
            10.1,
            9.9,
            9.9,
            8.6,
            8.6,
            9.9,
            9.9,
            10.1,
            10.1,
            11.5,
            11.5,
            10.1
           ],
           "type": "scatter"
          },
          {
           "hoverinfo": "name",
           "line": {
            "color": "grey"
           },
           "mode": "lines",
           "name": "Obstacle",
           "showlegend": false,
           "x": [
            5.1,
            6.4,
            6.4,
            5.1,
            5.1,
            4.9,
            4.9,
            3.6,
            3.6,
            4.9,
            4.9,
            5.1,
            5.1
           ],
           "y": [
            5.1,
            5.1,
            4.9,
            4.9,
            3.6,
            3.6,
            4.9,
            4.9,
            5.1,
            5.1,
            6.5,
            6.5,
            5.1
           ],
           "type": "scatter"
          },
          {
           "hoverinfo": "name",
           "line": {
            "color": "grey"
           },
           "mode": "lines",
           "name": "Obstacle",
           "showlegend": false,
           "x": [
            5.1,
            6.4,
            6.4,
            5.1,
            5.1,
            4.9,
            4.9,
            3.6,
            3.6,
            4.9,
            4.9,
            5.1,
            5.1
           ],
           "y": [
            10.1,
            10.1,
            9.9,
            9.9,
            8.6,
            8.6,
            9.9,
            9.9,
            10.1,
            10.1,
            11.5,
            11.5,
            10.1
           ],
           "type": "scatter"
          },
          {
           "fill": "toself",
           "fillcolor": "rgba(200, 0, 0, 0.00)",
           "hoverinfo": "name",
           "line": {
            "width": 0
           },
           "mode": "lines",
           "name": "Risk Area",
           "showlegend": false,
           "x": [
            0.0,
            5.0,
            5.0,
            0.0,
            0.0
           ],
           "y": [
            0.0,
            0.0,
            5.0,
            5.0,
            0.0
           ],
           "type": "scatter"
          },
          {
           "fill": "toself",
           "fillcolor": "rgba(200, 0, 0, 0.60)",
           "hoverinfo": "name",
           "line": {
            "width": 0
           },
           "mode": "lines",
           "name": "Risk Area",
           "showlegend": false,
           "x": [
            5.0,
            10.0,
            10.0,
            5.0,
            5.0
           ],
           "y": [
            0.0,
            0.0,
            5.0,
            5.0,
            0.0
           ],
           "type": "scatter"
          },
          {
           "fill": "toself",
           "fillcolor": "rgba(200, 0, 0, 0.00)",
           "hoverinfo": "name",
           "line": {
            "width": 0
           },
           "mode": "lines",
           "name": "Risk Area",
           "showlegend": false,
           "x": [
            10.0,
            15.0,
            15.0,
            10.0,
            10.0
           ],
           "y": [
            0.0,
            0.0,
            5.0,
            5.0,
            0.0
           ],
           "type": "scatter"
          },
          {
           "fill": "toself",
           "fillcolor": "rgba(200, 0, 0, 0.60)",
           "hoverinfo": "name",
           "line": {
            "width": 0
           },
           "mode": "lines",
           "name": "Risk Area",
           "showlegend": false,
           "x": [
            10.0,
            15.0,
            15.0,
            10.0,
            10.0
           ],
           "y": [
            5.0,
            5.0,
            10.0,
            10.0,
            5.0
           ],
           "type": "scatter"
          },
          {
           "fill": "toself",
           "fillcolor": "rgba(200, 0, 0, 0.60)",
           "hoverinfo": "name",
           "line": {
            "width": 0
           },
           "mode": "lines",
           "name": "Risk Area",
           "showlegend": false,
           "x": [
            5.0,
            10.0,
            10.0,
            5.0,
            5.0
           ],
           "y": [
            5.0,
            5.0,
            10.0,
            10.0,
            5.0
           ],
           "type": "scatter"
          },
          {
           "fill": "toself",
           "fillcolor": "rgba(200, 0, 0, 0.10)",
           "hoverinfo": "name",
           "line": {
            "width": 0
           },
           "mode": "lines",
           "name": "Risk Area",
           "showlegend": false,
           "x": [
            0.0,
            5.0,
            5.0,
            0.0,
            0.0
           ],
           "y": [
            5.0,
            5.0,
            10.0,
            10.0,
            5.0
           ],
           "type": "scatter"
          },
          {
           "fill": "toself",
           "fillcolor": "rgba(200, 0, 0, 0.00)",
           "hoverinfo": "name",
           "line": {
            "width": 0
           },
           "mode": "lines",
           "name": "Risk Area",
           "showlegend": false,
           "x": [
            0.0,
            5.0,
            5.0,
            0.0,
            0.0
           ],
           "y": [
            10.0,
            10.0,
            15.0,
            15.0,
            10.0
           ],
           "type": "scatter"
          },
          {
           "fill": "toself",
           "fillcolor": "rgba(200, 0, 0, 0.00)",
           "hoverinfo": "name",
           "line": {
            "width": 0
           },
           "mode": "lines",
           "name": "Risk Area",
           "showlegend": false,
           "x": [
            5.0,
            10.0,
            10.0,
            5.0,
            5.0
           ],
           "y": [
            10.0,
            10.0,
            15.0,
            15.0,
            10.0
           ],
           "type": "scatter"
          },
          {
           "fill": "toself",
           "fillcolor": "rgba(200, 0, 0, 0.00)",
           "hoverinfo": "name",
           "line": {
            "width": 0
           },
           "mode": "lines",
           "name": "Risk Area",
           "showlegend": false,
           "x": [
            10.0,
            15.0,
            15.0,
            10.0,
            10.0
           ],
           "y": [
            10.0,
            10.0,
            15.0,
            15.0,
            10.0
           ],
           "type": "scatter"
          },
          {
           "hoverinfo": "text",
           "marker": {
            "opacity": 1,
            "size": 1
           },
           "mode": "markers",
           "showlegend": false,
           "text": [
            "ID: 61, Pos(3.10,5.17)"
           ],
           "x": [
            3.1026552191555368
           ],
           "y": [
            5.168661575786402
           ],
           "type": "scatter"
          },
          {
           "hoverinfo": "text",
           "marker": {
            "opacity": 1,
            "size": 1
           },
           "mode": "markers",
           "showlegend": false,
           "text": [
            "ID: 62, Pos(1.62,4.38)"
           ],
           "x": [
            1.616950958507311
           ],
           "y": [
            4.382105284673975
           ],
           "type": "scatter"
          },
          {
           "hoverinfo": "text",
           "marker": {
            "opacity": 1,
            "size": 1
           },
           "mode": "markers",
           "showlegend": false,
           "text": [
            "ID: 63, Pos(2.19,2.53)"
           ],
           "x": [
            2.1876527661875698
           ],
           "y": [
            2.5265277836263325
           ],
           "type": "scatter"
          },
          {
           "hoverinfo": "text",
           "marker": {
            "opacity": 1,
            "size": 1
           },
           "mode": "markers",
           "showlegend": false,
           "text": [
            "ID: 64, Pos(2.60,5.82)"
           ],
           "x": [
            2.600331519603923
           ],
           "y": [
            5.820774304637576
           ],
           "type": "scatter"
          },
          {
           "hoverinfo": "text",
           "marker": {
            "opacity": 1,
            "size": 1
           },
           "mode": "markers",
           "showlegend": false,
           "text": [
            "ID: 65, Pos(2.33,4.41)"
           ],
           "x": [
            2.33350418913301
           ],
           "y": [
            4.41115865321033
           ],
           "type": "scatter"
          },
          {
           "hoverinfo": "text",
           "marker": {
            "opacity": 1,
            "size": 1
           },
           "mode": "markers",
           "showlegend": false,
           "text": [
            "ID: 66, Pos(2.12,6.63)"
           ],
           "x": [
            2.116749818880267
           ],
           "y": [
            6.628476473807076
           ],
           "type": "scatter"
          },
          {
           "hoverinfo": "text",
           "marker": {
            "opacity": 1,
            "size": 1
           },
           "mode": "markers",
           "showlegend": false,
           "text": [
            "ID: 67, Pos(2.87,6.86)"
           ],
           "x": [
            2.870267920081498
           ],
           "y": [
            6.863428694580823
           ],
           "type": "scatter"
          },
          {
           "hoverinfo": "text",
           "marker": {
            "opacity": 1,
            "size": 1
           },
           "mode": "markers",
           "showlegend": false,
           "text": [
            "ID: 68, Pos(3.30,4.34)"
           ],
           "x": [
            3.2988898698511058
           ],
           "y": [
            4.338910861257535
           ],
           "type": "scatter"
          },
          {
           "hoverinfo": "text",
           "marker": {
            "opacity": 1,
            "size": 1
           },
           "mode": "markers",
           "showlegend": false,
           "text": [
            "ID: 69, Pos(2.07,5.45)"
           ],
           "x": [
            2.068101577021166
           ],
           "y": [
            5.449233639679231
           ],
           "type": "scatter"
          },
          {
           "hoverinfo": "text",
           "marker": {
            "opacity": 1,
            "size": 1
           },
           "mode": "markers",
           "showlegend": false,
           "text": [
            "ID: 70, Pos(2.25,3.39)"
           ],
           "x": [
            2.2489198475130947
           ],
           "y": [
            3.387477723980477
           ],
           "type": "scatter"
          }
         ],
         "layout": {
          "shapes": [
           {
            "fillcolor": "rgba(144, 255, 102, 0.5)",
            "line": {
             "color": "rgba(144, 255, 102, 0.5)"
            },
            "type": "circle",
            "x0": 2.9026552191555366,
            "x1": 3.302655219155537,
            "xref": "x",
            "y0": 4.968661575786402,
            "y1": 5.368661575786402,
            "yref": "y"
           },
           {
            "fillcolor": "rgba(0, 0, 191, 0.5)",
            "line": {
             "color": "rgba(0, 0, 191, 0.5)"
            },
            "type": "circle",
            "x0": 1.416950958507311,
            "x1": 1.816950958507311,
            "xref": "x",
            "y0": 4.182105284673975,
            "y1": 4.582105284673975,
            "yref": "y"
           },
           {
            "fillcolor": "rgba(99, 255, 148, 0.5)",
            "line": {
             "color": "rgba(99, 255, 148, 0.5)"
            },
            "type": "circle",
            "x0": 1.9876527661875698,
            "x1": 2.38765276618757,
            "xref": "x",
            "y0": 2.3265277836263323,
            "y1": 2.7265277836263326,
            "yref": "y"
           },
           {
            "fillcolor": "rgba(0, 48, 255, 0.5)",
            "line": {
             "color": "rgba(0, 48, 255, 0.5)"
            },
            "type": "circle",
            "x0": 2.400331519603923,
            "x1": 2.8003315196039233,
            "xref": "x",
            "y0": 5.6207743046375755,
            "y1": 6.020774304637576,
            "yref": "y"
           },
           {
            "fillcolor": "rgba(0, 0, 128, 0.5)",
            "line": {
             "color": "rgba(0, 0, 128, 0.5)"
            },
            "type": "circle",
            "x0": 2.13350418913301,
            "x1": 2.5335041891330103,
            "xref": "x",
            "y0": 4.21115865321033,
            "y1": 4.61115865321033,
            "yref": "y"
           },
           {
            "fillcolor": "rgba(0, 0, 128, 0.5)",
            "line": {
             "color": "rgba(0, 0, 128, 0.5)"
            },
            "type": "circle",
            "x0": 1.9167498188802672,
            "x1": 2.3167498188802673,
            "xref": "x",
            "y0": 6.428476473807076,
            "y1": 6.8284764738070765,
            "yref": "y"
           },
           {
            "fillcolor": "rgba(0, 0, 128, 0.5)",
            "line": {
             "color": "rgba(0, 0, 128, 0.5)"
            },
            "type": "circle",
            "x0": 2.6702679200814976,
            "x1": 3.070267920081498,
            "xref": "x",
            "y0": 6.663428694580823,
            "y1": 7.063428694580823,
            "yref": "y"
           },
           {
            "fillcolor": "rgba(109, 255, 138, 0.5)",
            "line": {
             "color": "rgba(109, 255, 138, 0.5)"
            },
            "type": "circle",
            "x0": 3.0988898698511056,
            "x1": 3.498889869851106,
            "xref": "x",
            "y0": 4.138910861257535,
            "y1": 4.538910861257535,
            "yref": "y"
           },
           {
            "fillcolor": "rgba(0, 0, 159, 0.5)",
            "line": {
             "color": "rgba(0, 0, 159, 0.5)"
            },
            "type": "circle",
            "x0": 1.868101577021166,
            "x1": 2.268101577021166,
            "xref": "x",
            "y0": 5.249233639679231,
            "y1": 5.649233639679231,
            "yref": "y"
           },
           {
            "fillcolor": "rgba(0, 120, 255, 0.5)",
            "line": {
             "color": "rgba(0, 120, 255, 0.5)"
            },
            "type": "circle",
            "x0": 2.0489198475130945,
            "x1": 2.448919847513095,
            "xref": "x",
            "y0": 3.187477723980477,
            "y1": 3.587477723980477,
            "yref": "y"
           },
           {
            "line": {
             "color": "black",
             "width": 3
            },
            "type": "line",
            "x0": 3.1026552191555368,
            "x1": 3.051718629839062,
            "y0": 5.168661575786402,
            "y1": 5.362066497825126
           },
           {
            "line": {
             "color": "white",
             "width": 3
            },
            "type": "line",
            "x0": 1.616950958507311,
            "x1": 1.6512671745111955,
            "y0": 4.382105284673975,
            "y1": 4.579139285088053
           },
           {
            "line": {
             "color": "black",
             "width": 3
            },
            "type": "line",
            "x0": 2.1876527661875698,
            "x1": 2.200144565575231,
            "y0": 2.5265277836263325,
            "y1": 2.726137289782874
           },
           {
            "line": {
             "color": "white",
             "width": 3
            },
            "type": "line",
            "x0": 2.600331519603923,
            "x1": 2.6175905615058936,
            "y0": 5.820774304637576,
            "y1": 6.020028226738562
           },
           {
            "line": {
             "color": "white",
             "width": 3
            },
            "type": "line",
            "x0": 2.33350418913301,
            "x1": 2.36374602563493,
            "y0": 4.41115865321033,
            "y1": 4.608859010632847
           },
           {
            "line": {
             "color": "white",
             "width": 3
            },
            "type": "line",
            "x0": 2.116749818880267,
            "x1": 2.118472865495519,
            "y0": 6.628476473807076,
            "y1": 6.828469051445252
           },
           {
            "line": {
             "color": "white",
             "width": 3
            },
            "type": "line",
            "x0": 2.870267920081498,
            "x1": 2.867474010472574,
            "y0": 6.863428694580823,
            "y1": 7.063409178801402
           },
           {
            "line": {
             "color": "black",
             "width": 3
            },
            "type": "line",
            "x0": 3.2988898698511058,
            "x1": 3.2512708445697878,
            "y0": 4.338910861257535,
            "y1": 4.5331592291561025
           },
           {
            "line": {
             "color": "white",
             "width": 3
            },
            "type": "line",
            "x0": 2.068101577021166,
            "x1": 2.0744083119057755,
            "y0": 5.449233639679231,
            "y1": 5.649134177685249
           },
           {
            "line": {
             "color": "white",
             "width": 3
            },
            "type": "line",
            "x0": 2.2489198475130947,
            "x1": 2.26125024457371,
            "y0": 3.387477723980477,
            "y1": 3.587097265379428
           }
          ],
          "title": {
           "text": "<b>Percentage using the shortest path: 0%  |  Number of Agents: 10</b>",
           "x": 0.5
          }
         },
         "name": "100"
        },
        {
         "data": [
          {
           "hoverinfo": "name",
           "line": {
            "color": "grey"
           },
           "mode": "lines",
           "name": "Exterior",
           "showlegend": false,
           "x": [
            10.1,
            10.1,
            15.0,
            15.0,
            13.6,
            13.6,
            15.0,
            15.0,
            13.6,
            13.6,
            15.0,
            15.0,
            10.1,
            10.1,
            9.9,
            9.9,
            5.1,
            5.1,
            4.9,
            4.9,
            0.0,
            0.0,
            1.5,
            1.5,
            0.0,
            0.0,
            1.5,
            1.5,
            0.0,
            0.0,
            4.9,
            4.9,
            5.1,
            5.1,
            9.9,
            9.9,
            10.1
           ],
           "y": [
            1.5,
            0.0,
            0.0,
            4.9,
            4.9,
            5.1,
            5.1,
            9.9,
            9.9,
            10.1,
            10.1,
            15.0,
            15.0,
            13.6,
            13.6,
            15.0,
            15.0,
            13.6,
            13.6,
            15.0,
            15.0,
            10.1,
            10.1,
            9.9,
            9.9,
            5.1,
            5.1,
            4.9,
            4.9,
            0.0,
            0.0,
            1.5,
            1.5,
            0.0,
            0.0,
            1.5,
            1.5
           ],
           "type": "scatter"
          },
          {
           "hoverinfo": "name",
           "line": {
            "color": "grey"
           },
           "mode": "lines",
           "name": "Obstacle",
           "showlegend": false,
           "x": [
            10.1,
            11.5,
            11.5,
            10.1,
            10.1,
            9.9,
            9.9,
            8.6,
            8.6,
            9.9,
            9.9,
            10.1,
            10.1
           ],
           "y": [
            5.1,
            5.1,
            4.9,
            4.9,
            3.6,
            3.6,
            4.9,
            4.9,
            5.1,
            5.1,
            6.5,
            6.5,
            5.1
           ],
           "type": "scatter"
          },
          {
           "hoverinfo": "name",
           "line": {
            "color": "grey"
           },
           "mode": "lines",
           "name": "Obstacle",
           "showlegend": false,
           "x": [
            10.1,
            11.5,
            11.5,
            10.1,
            10.1,
            9.9,
            9.9,
            8.6,
            8.6,
            9.9,
            9.9,
            10.1,
            10.1
           ],
           "y": [
            10.1,
            10.1,
            9.9,
            9.9,
            8.6,
            8.6,
            9.9,
            9.9,
            10.1,
            10.1,
            11.5,
            11.5,
            10.1
           ],
           "type": "scatter"
          },
          {
           "hoverinfo": "name",
           "line": {
            "color": "grey"
           },
           "mode": "lines",
           "name": "Obstacle",
           "showlegend": false,
           "x": [
            5.1,
            6.4,
            6.4,
            5.1,
            5.1,
            4.9,
            4.9,
            3.6,
            3.6,
            4.9,
            4.9,
            5.1,
            5.1
           ],
           "y": [
            5.1,
            5.1,
            4.9,
            4.9,
            3.6,
            3.6,
            4.9,
            4.9,
            5.1,
            5.1,
            6.5,
            6.5,
            5.1
           ],
           "type": "scatter"
          },
          {
           "hoverinfo": "name",
           "line": {
            "color": "grey"
           },
           "mode": "lines",
           "name": "Obstacle",
           "showlegend": false,
           "x": [
            5.1,
            6.4,
            6.4,
            5.1,
            5.1,
            4.9,
            4.9,
            3.6,
            3.6,
            4.9,
            4.9,
            5.1,
            5.1
           ],
           "y": [
            10.1,
            10.1,
            9.9,
            9.9,
            8.6,
            8.6,
            9.9,
            9.9,
            10.1,
            10.1,
            11.5,
            11.5,
            10.1
           ],
           "type": "scatter"
          },
          {
           "fill": "toself",
           "fillcolor": "rgba(200, 0, 0, 0.00)",
           "hoverinfo": "name",
           "line": {
            "width": 0
           },
           "mode": "lines",
           "name": "Risk Area",
           "showlegend": false,
           "x": [
            0.0,
            5.0,
            5.0,
            0.0,
            0.0
           ],
           "y": [
            0.0,
            0.0,
            5.0,
            5.0,
            0.0
           ],
           "type": "scatter"
          },
          {
           "fill": "toself",
           "fillcolor": "rgba(200, 0, 0, 0.60)",
           "hoverinfo": "name",
           "line": {
            "width": 0
           },
           "mode": "lines",
           "name": "Risk Area",
           "showlegend": false,
           "x": [
            5.0,
            10.0,
            10.0,
            5.0,
            5.0
           ],
           "y": [
            0.0,
            0.0,
            5.0,
            5.0,
            0.0
           ],
           "type": "scatter"
          },
          {
           "fill": "toself",
           "fillcolor": "rgba(200, 0, 0, 0.00)",
           "hoverinfo": "name",
           "line": {
            "width": 0
           },
           "mode": "lines",
           "name": "Risk Area",
           "showlegend": false,
           "x": [
            10.0,
            15.0,
            15.0,
            10.0,
            10.0
           ],
           "y": [
            0.0,
            0.0,
            5.0,
            5.0,
            0.0
           ],
           "type": "scatter"
          },
          {
           "fill": "toself",
           "fillcolor": "rgba(200, 0, 0, 0.60)",
           "hoverinfo": "name",
           "line": {
            "width": 0
           },
           "mode": "lines",
           "name": "Risk Area",
           "showlegend": false,
           "x": [
            10.0,
            15.0,
            15.0,
            10.0,
            10.0
           ],
           "y": [
            5.0,
            5.0,
            10.0,
            10.0,
            5.0
           ],
           "type": "scatter"
          },
          {
           "fill": "toself",
           "fillcolor": "rgba(200, 0, 0, 0.60)",
           "hoverinfo": "name",
           "line": {
            "width": 0
           },
           "mode": "lines",
           "name": "Risk Area",
           "showlegend": false,
           "x": [
            5.0,
            10.0,
            10.0,
            5.0,
            5.0
           ],
           "y": [
            5.0,
            5.0,
            10.0,
            10.0,
            5.0
           ],
           "type": "scatter"
          },
          {
           "fill": "toself",
           "fillcolor": "rgba(200, 0, 0, 0.10)",
           "hoverinfo": "name",
           "line": {
            "width": 0
           },
           "mode": "lines",
           "name": "Risk Area",
           "showlegend": false,
           "x": [
            0.0,
            5.0,
            5.0,
            0.0,
            0.0
           ],
           "y": [
            5.0,
            5.0,
            10.0,
            10.0,
            5.0
           ],
           "type": "scatter"
          },
          {
           "fill": "toself",
           "fillcolor": "rgba(200, 0, 0, 0.00)",
           "hoverinfo": "name",
           "line": {
            "width": 0
           },
           "mode": "lines",
           "name": "Risk Area",
           "showlegend": false,
           "x": [
            0.0,
            5.0,
            5.0,
            0.0,
            0.0
           ],
           "y": [
            10.0,
            10.0,
            15.0,
            15.0,
            10.0
           ],
           "type": "scatter"
          },
          {
           "fill": "toself",
           "fillcolor": "rgba(200, 0, 0, 0.00)",
           "hoverinfo": "name",
           "line": {
            "width": 0
           },
           "mode": "lines",
           "name": "Risk Area",
           "showlegend": false,
           "x": [
            5.0,
            10.0,
            10.0,
            5.0,
            5.0
           ],
           "y": [
            10.0,
            10.0,
            15.0,
            15.0,
            10.0
           ],
           "type": "scatter"
          },
          {
           "fill": "toself",
           "fillcolor": "rgba(200, 0, 0, 0.00)",
           "hoverinfo": "name",
           "line": {
            "width": 0
           },
           "mode": "lines",
           "name": "Risk Area",
           "showlegend": false,
           "x": [
            10.0,
            15.0,
            15.0,
            10.0,
            10.0
           ],
           "y": [
            10.0,
            10.0,
            15.0,
            15.0,
            10.0
           ],
           "type": "scatter"
          },
          {
           "hoverinfo": "text",
           "marker": {
            "opacity": 1,
            "size": 1
           },
           "mode": "markers",
           "showlegend": false,
           "text": [
            "ID: 61, Pos(2.96,6.24)"
           ],
           "x": [
            2.9581676026443975
           ],
           "y": [
            6.243316523388464
           ],
           "type": "scatter"
          },
          {
           "hoverinfo": "text",
           "marker": {
            "opacity": 1,
            "size": 1
           },
           "mode": "markers",
           "showlegend": false,
           "text": [
            "ID: 62, Pos(1.94,5.15)"
           ],
           "x": [
            1.9377816298191668
           ],
           "y": [
            5.153257725681714
           ],
           "type": "scatter"
          },
          {
           "hoverinfo": "text",
           "marker": {
            "opacity": 1,
            "size": 1
           },
           "mode": "markers",
           "showlegend": false,
           "text": [
            "ID: 63, Pos(2.26,3.71)"
           ],
           "x": [
            2.2621615723924484
           ],
           "y": [
            3.7147914763581893
           ],
           "type": "scatter"
          },
          {
           "hoverinfo": "text",
           "marker": {
            "opacity": 1,
            "size": 1
           },
           "mode": "markers",
           "showlegend": false,
           "text": [
            "ID: 64, Pos(2.74,7.29)"
           ],
           "x": [
            2.737489465733495
           ],
           "y": [
            7.292000318408571
           ],
           "type": "scatter"
          },
          {
           "hoverinfo": "text",
           "marker": {
            "opacity": 1,
            "size": 1
           },
           "mode": "markers",
           "showlegend": false,
           "text": [
            "ID: 65, Pos(2.37,5.92)"
           ],
           "x": [
            2.3739785731271343
           ],
           "y": [
            5.920418627380049
           ],
           "type": "scatter"
          },
          {
           "hoverinfo": "text",
           "marker": {
            "opacity": 1,
            "size": 1
           },
           "mode": "markers",
           "showlegend": false,
           "text": [
            "ID: 66, Pos(2.13,8.23)"
           ],
           "x": [
            2.1344054310321643
           ],
           "y": [
            8.228378641372304
           ],
           "type": "scatter"
          },
          {
           "hoverinfo": "text",
           "marker": {
            "opacity": 1,
            "size": 1
           },
           "mode": "markers",
           "showlegend": false,
           "text": [
            "ID: 67, Pos(2.85,8.46)"
           ],
           "x": [
            2.8491945578620244
           ],
           "y": [
            8.463289778198781
           ],
           "type": "scatter"
          },
          {
           "hoverinfo": "text",
           "marker": {
            "opacity": 1,
            "size": 1
           },
           "mode": "markers",
           "showlegend": false,
           "text": [
            "ID: 68, Pos(3.05,5.28)"
           ],
           "x": [
            3.047171937903029
           ],
           "y": [
            5.281635062193727
           ],
           "type": "scatter"
          },
          {
           "hoverinfo": "text",
           "marker": {
            "opacity": 1,
            "size": 1
           },
           "mode": "markers",
           "showlegend": false,
           "text": [
            "ID: 69, Pos(2.05,7.03)"
           ],
           "x": [
            2.050799933307093
           ],
           "y": [
            7.031880957380289
           ],
           "type": "scatter"
          },
          {
           "hoverinfo": "text",
           "marker": {
            "opacity": 1,
            "size": 1
           },
           "mode": "markers",
           "showlegend": false,
           "text": [
            "ID: 70, Pos(2.43,4.78)"
           ],
           "x": [
            2.4298220087979896
           ],
           "y": [
            4.782187642838245
           ],
           "type": "scatter"
          }
         ],
         "layout": {
          "shapes": [
           {
            "fillcolor": "rgba(0, 56, 255, 0.5)",
            "line": {
             "color": "rgba(0, 56, 255, 0.5)"
            },
            "type": "circle",
            "x0": 2.7581676026443973,
            "x1": 3.1581676026443977,
            "xref": "x",
            "y0": 6.043316523388464,
            "y1": 6.443316523388464,
            "yref": "y"
           },
           {
            "fillcolor": "rgba(77, 255, 170, 0.5)",
            "line": {
             "color": "rgba(77, 255, 170, 0.5)"
            },
            "type": "circle",
            "x0": 1.7377816298191668,
            "x1": 2.137781629819167,
            "xref": "x",
            "y0": 4.953257725681714,
            "y1": 5.353257725681714,
            "yref": "y"
           },
           {
            "fillcolor": "rgba(0, 40, 255, 0.5)",
            "line": {
             "color": "rgba(0, 40, 255, 0.5)"
            },
            "type": "circle",
            "x0": 2.0621615723924482,
            "x1": 2.4621615723924486,
            "xref": "x",
            "y0": 3.514791476358189,
            "y1": 3.9147914763581895,
            "yref": "y"
           },
           {
            "fillcolor": "rgba(0, 0, 164, 0.5)",
            "line": {
             "color": "rgba(0, 0, 164, 0.5)"
            },
            "type": "circle",
            "x0": 2.5374894657334948,
            "x1": 2.937489465733495,
            "xref": "x",
            "y0": 7.092000318408571,
            "y1": 7.4920003184085715,
            "yref": "y"
           },
           {
            "fillcolor": "rgba(0, 0, 196, 0.5)",
            "line": {
             "color": "rgba(0, 0, 196, 0.5)"
            },
            "type": "circle",
            "x0": 2.173978573127134,
            "x1": 2.5739785731271345,
            "xref": "x",
            "y0": 5.720418627380049,
            "y1": 6.120418627380049,
            "yref": "y"
           },
           {
            "fillcolor": "rgba(0, 0, 128, 0.5)",
            "line": {
             "color": "rgba(0, 0, 128, 0.5)"
            },
            "type": "circle",
            "x0": 1.9344054310321643,
            "x1": 2.3344054310321645,
            "xref": "x",
            "y0": 8.028378641372305,
            "y1": 8.428378641372303,
            "yref": "y"
           },
           {
            "fillcolor": "rgba(0, 0, 128, 0.5)",
            "line": {
             "color": "rgba(0, 0, 128, 0.5)"
            },
            "type": "circle",
            "x0": 2.649194557862024,
            "x1": 3.0491945578620245,
            "xref": "x",
            "y0": 8.263289778198782,
            "y1": 8.66328977819878,
            "yref": "y"
           },
           {
            "fillcolor": "rgba(0, 204, 255, 0.5)",
            "line": {
             "color": "rgba(0, 204, 255, 0.5)"
            },
            "type": "circle",
            "x0": 2.847171937903029,
            "x1": 3.2471719379030293,
            "xref": "x",
            "y0": 5.081635062193727,
            "y1": 5.481635062193727,
            "yref": "y"
           },
           {
            "fillcolor": "rgba(0, 0, 128, 0.5)",
            "line": {
             "color": "rgba(0, 0, 128, 0.5)"
            },
            "type": "circle",
            "x0": 1.850799933307093,
            "x1": 2.250799933307093,
            "xref": "x",
            "y0": 6.831880957380289,
            "y1": 7.231880957380289,
            "yref": "y"
           },
           {
            "fillcolor": "rgba(0, 0, 223, 0.5)",
            "line": {
             "color": "rgba(0, 0, 223, 0.5)"
            },
            "type": "circle",
            "x0": 2.2298220087979894,
            "x1": 2.6298220087979898,
            "xref": "x",
            "y0": 4.582187642838245,
            "y1": 4.9821876428382454,
            "yref": "y"
           },
           {
            "line": {
             "color": "white",
             "width": 3
            },
            "type": "line",
            "x0": 2.9581676026443975,
            "x1": 2.9737458004841697,
            "y0": 6.243316523388464,
            "y1": 6.442708899752419
           },
           {
            "line": {
             "color": "black",
             "width": 3
            },
            "type": "line",
            "x0": 1.9377816298191668,
            "x1": 1.9506087809362653,
            "y0": 5.153257725681714,
            "y1": 5.352845962294544
           },
           {
            "line": {
             "color": "white",
             "width": 3
            },
            "type": "line",
            "x0": 2.2621615723924484,
            "x1": 2.2746532109042463,
            "y0": 3.7147914763581893,
            "y1": 3.914400992582468
           },
           {
            "line": {
             "color": "white",
             "width": 3
            },
            "type": "line",
            "x0": 2.737489465733495,
            "x1": 2.74543965890754,
            "y0": 7.292000318408571,
            "y1": 7.49184224200944
           },
           {
            "line": {
             "color": "white",
             "width": 3
            },
            "type": "line",
            "x0": 2.3739785731271343,
            "x1": 2.3574569607993467,
            "y0": 5.920418627380049,
            "y1": 6.119735050000189
           },
           {
            "line": {
             "color": "white",
             "width": 3
            },
            "type": "line",
            "x0": 2.1344054310321643,
            "x1": 2.136741989418354,
            "y0": 8.228378641372304,
            "y1": 8.42836499214382
           },
           {
            "line": {
             "color": "white",
             "width": 3
            },
            "type": "line",
            "x0": 2.8491945578620244,
            "x1": 2.8466012148951925,
            "y0": 8.463289778198781,
            "y1": 8.663272963922623
           },
           {
            "line": {
             "color": "black",
             "width": 3
            },
            "type": "line",
            "x0": 3.047171937903029,
            "x1": 3.008528492612634,
            "y0": 5.281635062193727,
            "y1": 5.477866262913919
           },
           {
            "line": {
             "color": "white",
             "width": 3
            },
            "type": "line",
            "x0": 2.050799933307093,
            "x1": 2.0496717711894674,
            "y0": 7.031880957380289,
            "y1": 7.2318777754805685
           },
           {
            "line": {
             "color": "white",
             "width": 3
            },
            "type": "line",
            "x0": 2.4298220087979896,
            "x1": 2.4850903408716047,
            "y0": 4.782187642838245,
            "y1": 4.974399534951612
           }
          ],
          "title": {
           "text": "<b>Percentage using the shortest path: 0%  |  Number of Agents: 10</b>",
           "x": 0.5
          }
         },
         "name": "150"
        },
        {
         "data": [
          {
           "hoverinfo": "name",
           "line": {
            "color": "grey"
           },
           "mode": "lines",
           "name": "Exterior",
           "showlegend": false,
           "x": [
            10.1,
            10.1,
            15.0,
            15.0,
            13.6,
            13.6,
            15.0,
            15.0,
            13.6,
            13.6,
            15.0,
            15.0,
            10.1,
            10.1,
            9.9,
            9.9,
            5.1,
            5.1,
            4.9,
            4.9,
            0.0,
            0.0,
            1.5,
            1.5,
            0.0,
            0.0,
            1.5,
            1.5,
            0.0,
            0.0,
            4.9,
            4.9,
            5.1,
            5.1,
            9.9,
            9.9,
            10.1
           ],
           "y": [
            1.5,
            0.0,
            0.0,
            4.9,
            4.9,
            5.1,
            5.1,
            9.9,
            9.9,
            10.1,
            10.1,
            15.0,
            15.0,
            13.6,
            13.6,
            15.0,
            15.0,
            13.6,
            13.6,
            15.0,
            15.0,
            10.1,
            10.1,
            9.9,
            9.9,
            5.1,
            5.1,
            4.9,
            4.9,
            0.0,
            0.0,
            1.5,
            1.5,
            0.0,
            0.0,
            1.5,
            1.5
           ],
           "type": "scatter"
          },
          {
           "hoverinfo": "name",
           "line": {
            "color": "grey"
           },
           "mode": "lines",
           "name": "Obstacle",
           "showlegend": false,
           "x": [
            10.1,
            11.5,
            11.5,
            10.1,
            10.1,
            9.9,
            9.9,
            8.6,
            8.6,
            9.9,
            9.9,
            10.1,
            10.1
           ],
           "y": [
            5.1,
            5.1,
            4.9,
            4.9,
            3.6,
            3.6,
            4.9,
            4.9,
            5.1,
            5.1,
            6.5,
            6.5,
            5.1
           ],
           "type": "scatter"
          },
          {
           "hoverinfo": "name",
           "line": {
            "color": "grey"
           },
           "mode": "lines",
           "name": "Obstacle",
           "showlegend": false,
           "x": [
            10.1,
            11.5,
            11.5,
            10.1,
            10.1,
            9.9,
            9.9,
            8.6,
            8.6,
            9.9,
            9.9,
            10.1,
            10.1
           ],
           "y": [
            10.1,
            10.1,
            9.9,
            9.9,
            8.6,
            8.6,
            9.9,
            9.9,
            10.1,
            10.1,
            11.5,
            11.5,
            10.1
           ],
           "type": "scatter"
          },
          {
           "hoverinfo": "name",
           "line": {
            "color": "grey"
           },
           "mode": "lines",
           "name": "Obstacle",
           "showlegend": false,
           "x": [
            5.1,
            6.4,
            6.4,
            5.1,
            5.1,
            4.9,
            4.9,
            3.6,
            3.6,
            4.9,
            4.9,
            5.1,
            5.1
           ],
           "y": [
            5.1,
            5.1,
            4.9,
            4.9,
            3.6,
            3.6,
            4.9,
            4.9,
            5.1,
            5.1,
            6.5,
            6.5,
            5.1
           ],
           "type": "scatter"
          },
          {
           "hoverinfo": "name",
           "line": {
            "color": "grey"
           },
           "mode": "lines",
           "name": "Obstacle",
           "showlegend": false,
           "x": [
            5.1,
            6.4,
            6.4,
            5.1,
            5.1,
            4.9,
            4.9,
            3.6,
            3.6,
            4.9,
            4.9,
            5.1,
            5.1
           ],
           "y": [
            10.1,
            10.1,
            9.9,
            9.9,
            8.6,
            8.6,
            9.9,
            9.9,
            10.1,
            10.1,
            11.5,
            11.5,
            10.1
           ],
           "type": "scatter"
          },
          {
           "fill": "toself",
           "fillcolor": "rgba(200, 0, 0, 0.00)",
           "hoverinfo": "name",
           "line": {
            "width": 0
           },
           "mode": "lines",
           "name": "Risk Area",
           "showlegend": false,
           "x": [
            0.0,
            5.0,
            5.0,
            0.0,
            0.0
           ],
           "y": [
            0.0,
            0.0,
            5.0,
            5.0,
            0.0
           ],
           "type": "scatter"
          },
          {
           "fill": "toself",
           "fillcolor": "rgba(200, 0, 0, 0.60)",
           "hoverinfo": "name",
           "line": {
            "width": 0
           },
           "mode": "lines",
           "name": "Risk Area",
           "showlegend": false,
           "x": [
            5.0,
            10.0,
            10.0,
            5.0,
            5.0
           ],
           "y": [
            0.0,
            0.0,
            5.0,
            5.0,
            0.0
           ],
           "type": "scatter"
          },
          {
           "fill": "toself",
           "fillcolor": "rgba(200, 0, 0, 0.00)",
           "hoverinfo": "name",
           "line": {
            "width": 0
           },
           "mode": "lines",
           "name": "Risk Area",
           "showlegend": false,
           "x": [
            10.0,
            15.0,
            15.0,
            10.0,
            10.0
           ],
           "y": [
            0.0,
            0.0,
            5.0,
            5.0,
            0.0
           ],
           "type": "scatter"
          },
          {
           "fill": "toself",
           "fillcolor": "rgba(200, 0, 0, 0.60)",
           "hoverinfo": "name",
           "line": {
            "width": 0
           },
           "mode": "lines",
           "name": "Risk Area",
           "showlegend": false,
           "x": [
            10.0,
            15.0,
            15.0,
            10.0,
            10.0
           ],
           "y": [
            5.0,
            5.0,
            10.0,
            10.0,
            5.0
           ],
           "type": "scatter"
          },
          {
           "fill": "toself",
           "fillcolor": "rgba(200, 0, 0, 0.60)",
           "hoverinfo": "name",
           "line": {
            "width": 0
           },
           "mode": "lines",
           "name": "Risk Area",
           "showlegend": false,
           "x": [
            5.0,
            10.0,
            10.0,
            5.0,
            5.0
           ],
           "y": [
            5.0,
            5.0,
            10.0,
            10.0,
            5.0
           ],
           "type": "scatter"
          },
          {
           "fill": "toself",
           "fillcolor": "rgba(200, 0, 0, 0.10)",
           "hoverinfo": "name",
           "line": {
            "width": 0
           },
           "mode": "lines",
           "name": "Risk Area",
           "showlegend": false,
           "x": [
            0.0,
            5.0,
            5.0,
            0.0,
            0.0
           ],
           "y": [
            5.0,
            5.0,
            10.0,
            10.0,
            5.0
           ],
           "type": "scatter"
          },
          {
           "fill": "toself",
           "fillcolor": "rgba(200, 0, 0, 0.00)",
           "hoverinfo": "name",
           "line": {
            "width": 0
           },
           "mode": "lines",
           "name": "Risk Area",
           "showlegend": false,
           "x": [
            0.0,
            5.0,
            5.0,
            0.0,
            0.0
           ],
           "y": [
            10.0,
            10.0,
            15.0,
            15.0,
            10.0
           ],
           "type": "scatter"
          },
          {
           "fill": "toself",
           "fillcolor": "rgba(200, 0, 0, 0.00)",
           "hoverinfo": "name",
           "line": {
            "width": 0
           },
           "mode": "lines",
           "name": "Risk Area",
           "showlegend": false,
           "x": [
            5.0,
            10.0,
            10.0,
            5.0,
            5.0
           ],
           "y": [
            10.0,
            10.0,
            15.0,
            15.0,
            10.0
           ],
           "type": "scatter"
          },
          {
           "fill": "toself",
           "fillcolor": "rgba(200, 0, 0, 0.00)",
           "hoverinfo": "name",
           "line": {
            "width": 0
           },
           "mode": "lines",
           "name": "Risk Area",
           "showlegend": false,
           "x": [
            10.0,
            15.0,
            15.0,
            10.0,
            10.0
           ],
           "y": [
            10.0,
            10.0,
            15.0,
            15.0,
            10.0
           ],
           "type": "scatter"
          },
          {
           "hoverinfo": "text",
           "marker": {
            "opacity": 1,
            "size": 1
           },
           "mode": "markers",
           "showlegend": false,
           "text": [
            "ID: 61, Pos(2.98,7.71)"
           ],
           "x": [
            2.975063910974815
           ],
           "y": [
            7.714419463712564
           ],
           "type": "scatter"
          },
          {
           "hoverinfo": "text",
           "marker": {
            "opacity": 1,
            "size": 1
           },
           "mode": "markers",
           "showlegend": false,
           "text": [
            "ID: 62, Pos(1.89,6.43)"
           ],
           "x": [
            1.887117925072684
           ],
           "y": [
            6.429951302345017
           ],
           "type": "scatter"
          },
          {
           "hoverinfo": "text",
           "marker": {
            "opacity": 1,
            "size": 1
           },
           "mode": "markers",
           "showlegend": false,
           "text": [
            "ID: 63, Pos(2.35,5.17)"
           ],
           "x": [
            2.3531771543749755
           ],
           "y": [
            5.1657295833827686
           ],
           "type": "scatter"
          },
          {
           "hoverinfo": "text",
           "marker": {
            "opacity": 1,
            "size": 1
           },
           "mode": "markers",
           "showlegend": false,
           "text": [
            "ID: 64, Pos(2.77,8.87)"
           ],
           "x": [
            2.771343948998321
           ],
           "y": [
            8.868837359579636
           ],
           "type": "scatter"
          },
          {
           "hoverinfo": "text",
           "marker": {
            "opacity": 1,
            "size": 1
           },
           "mode": "markers",
           "showlegend": false,
           "text": [
            "ID: 65, Pos(2.27,7.46)"
           ],
           "x": [
            2.272460351565042
           ],
           "y": [
            7.463385283153417
           ],
           "type": "scatter"
          },
          {
           "hoverinfo": "text",
           "marker": {
            "opacity": 1,
            "size": 1
           },
           "mode": "markers",
           "showlegend": false,
           "text": [
            "ID: 66, Pos(2.16,9.83)"
           ],
           "x": [
            2.155857671085766
           ],
           "y": [
            9.82823319358474
           ],
           "type": "scatter"
          },
          {
           "hoverinfo": "text",
           "marker": {
            "opacity": 1,
            "size": 1
           },
           "mode": "markers",
           "showlegend": false,
           "text": [
            "ID: 67, Pos(2.82,10.06)"
           ],
           "x": [
            2.824536662721713
           ],
           "y": [
            10.063096809263753
           ],
           "type": "scatter"
          },
          {
           "hoverinfo": "text",
           "marker": {
            "opacity": 1,
            "size": 1
           },
           "mode": "markers",
           "showlegend": false,
           "text": [
            "ID: 68, Pos(3.09,6.59)"
           ],
           "x": [
            3.088378763412687
           ],
           "y": [
            6.585175026882389
           ],
           "type": "scatter"
          },
          {
           "hoverinfo": "text",
           "marker": {
            "opacity": 1,
            "size": 1
           },
           "mode": "markers",
           "showlegend": false,
           "text": [
            "ID: 69, Pos(2.07,8.63)"
           ],
           "x": [
            2.07343490565318
           ],
           "y": [
            8.631290096103207
           ],
           "type": "scatter"
          },
          {
           "hoverinfo": "text",
           "marker": {
            "opacity": 1,
            "size": 1
           },
           "mode": "markers",
           "showlegend": false,
           "text": [
            "ID: 70, Pos(2.52,6.31)"
           ],
           "x": [
            2.522475743564226
           ],
           "y": [
            6.309268037464245
           ],
           "type": "scatter"
          }
         ],
         "layout": {
          "shapes": [
           {
            "fillcolor": "rgba(0, 0, 168, 0.5)",
            "line": {
             "color": "rgba(0, 0, 168, 0.5)"
            },
            "type": "circle",
            "x0": 2.775063910974815,
            "x1": 3.1750639109748153,
            "xref": "x",
            "y0": 7.514419463712564,
            "y1": 7.914419463712564,
            "yref": "y"
           },
           {
            "fillcolor": "rgba(0, 0, 128, 0.5)",
            "line": {
             "color": "rgba(0, 0, 128, 0.5)"
            },
            "type": "circle",
            "x0": 1.687117925072684,
            "x1": 2.087117925072684,
            "xref": "x",
            "y0": 6.229951302345017,
            "y1": 6.629951302345018,
            "yref": "y"
           },
           {
            "fillcolor": "rgba(0, 0, 196, 0.5)",
            "line": {
             "color": "rgba(0, 0, 196, 0.5)"
            },
            "type": "circle",
            "x0": 2.1531771543749754,
            "x1": 2.5531771543749757,
            "xref": "x",
            "y0": 4.965729583382768,
            "y1": 5.365729583382769,
            "yref": "y"
           },
           {
            "fillcolor": "rgba(0, 0, 132, 0.5)",
            "line": {
             "color": "rgba(0, 0, 132, 0.5)"
            },
            "type": "circle",
            "x0": 2.571343948998321,
            "x1": 2.9713439489983213,
            "xref": "x",
            "y0": 8.668837359579637,
            "y1": 9.068837359579636,
            "yref": "y"
           },
           {
            "fillcolor": "rgba(0, 0, 150, 0.5)",
            "line": {
             "color": "rgba(0, 0, 150, 0.5)"
            },
            "type": "circle",
            "x0": 2.072460351565042,
            "x1": 2.4724603515650423,
            "xref": "x",
            "y0": 7.263385283153417,
            "y1": 7.663385283153417,
            "yref": "y"
           },
           {
            "fillcolor": "rgba(0, 0, 128, 0.5)",
            "line": {
             "color": "rgba(0, 0, 128, 0.5)"
            },
            "type": "circle",
            "x0": 1.9558576710857662,
            "x1": 2.3558576710857664,
            "xref": "x",
            "y0": 9.628233193584741,
            "y1": 10.02823319358474,
            "yref": "y"
           },
           {
            "fillcolor": "rgba(0, 0, 128, 0.5)",
            "line": {
             "color": "rgba(0, 0, 128, 0.5)"
            },
            "type": "circle",
            "x0": 2.624536662721713,
            "x1": 3.0245366627217134,
            "xref": "x",
            "y0": 9.863096809263753,
            "y1": 10.263096809263752,
            "yref": "y"
           },
           {
            "fillcolor": "rgba(0, 0, 232, 0.5)",
            "line": {
             "color": "rgba(0, 0, 232, 0.5)"
            },
            "type": "circle",
            "x0": 2.8883787634126867,
            "x1": 3.288378763412687,
            "xref": "x",
            "y0": 6.385175026882389,
            "y1": 6.785175026882389,
            "yref": "y"
           },
           {
            "fillcolor": "rgba(0, 0, 128, 0.5)",
            "line": {
             "color": "rgba(0, 0, 128, 0.5)"
            },
            "type": "circle",
            "x0": 1.8734349056531798,
            "x1": 2.27343490565318,
            "xref": "x",
            "y0": 8.431290096103208,
            "y1": 8.831290096103206,
            "yref": "y"
           },
           {
            "fillcolor": "rgba(0, 0, 155, 0.5)",
            "line": {
             "color": "rgba(0, 0, 155, 0.5)"
            },
            "type": "circle",
            "x0": 2.322475743564226,
            "x1": 2.7224757435642264,
            "xref": "x",
            "y0": 6.109268037464245,
            "y1": 6.5092680374642455,
            "yref": "y"
           },
           {
            "line": {
             "color": "white",
             "width": 3
            },
            "type": "line",
            "x0": 2.975063910974815,
            "x1": 2.970872811120147,
            "y0": 7.714419463712564,
            "y1": 7.914375545595582
           },
           {
            "line": {
             "color": "white",
             "width": 3
            },
            "type": "line",
            "x0": 1.887117925072684,
            "x1": 1.864118166373978,
            "y0": 6.429951302345017,
            "y1": 6.628624428609747
           },
           {
            "line": {
             "color": "white",
             "width": 3
            },
            "type": "line",
            "x0": 2.3531771543749755,
            "x1": 2.3657290868352905,
            "y0": 5.1657295833827686,
            "y1": 5.365335317247084
           },
           {
            "line": {
             "color": "white",
             "width": 3
            },
            "type": "line",
            "x0": 2.771343948998321,
            "x1": 2.7734207732165754,
            "y0": 8.868837359579636,
            "y1": 9.068826576291855
           },
           {
            "line": {
             "color": "white",
             "width": 3
            },
            "type": "line",
            "x0": 2.272460351565042,
            "x1": 2.2659429536934854,
            "y0": 7.463385283153417,
            "y1": 7.663279063759477
           },
           {
            "line": {
             "color": "white",
             "width": 3
            },
            "type": "line",
            "x0": 2.155857671085766,
            "x1": 2.159241571671929,
            "y0": 9.82823319358474,
            "y1": 10.028204564577747
           },
           {
            "line": {
             "color": "white",
             "width": 3
            },
            "type": "line",
            "x0": 2.824536662721713,
            "x1": 2.8206374743069844,
            "y0": 10.063096809263753,
            "y1": 10.263058796475589
           },
           {
            "line": {
             "color": "white",
             "width": 3
            },
            "type": "line",
            "x0": 3.088378763412687,
            "x1": 3.113398069867275,
            "y0": 6.585175026882389,
            "y1": 6.783603941873454
           },
           {
            "line": {
             "color": "white",
             "width": 3
            },
            "type": "line",
            "x0": 2.07343490565318,
            "x1": 2.07852498448703,
            "y0": 8.631290096103207,
            "y1": 8.831225313354858
           },
           {
            "line": {
             "color": "white",
             "width": 3
            },
            "type": "line",
            "x0": 2.522475743564226,
            "x1": 2.517267288948546,
            "y0": 6.309268037464245,
            "y1": 6.509200205962755
           }
          ],
          "title": {
           "text": "<b>Percentage using the shortest path: 0%  |  Number of Agents: 10</b>",
           "x": 0.5
          }
         },
         "name": "200"
        },
        {
         "data": [
          {
           "hoverinfo": "name",
           "line": {
            "color": "grey"
           },
           "mode": "lines",
           "name": "Exterior",
           "showlegend": false,
           "x": [
            10.1,
            10.1,
            15.0,
            15.0,
            13.6,
            13.6,
            15.0,
            15.0,
            13.6,
            13.6,
            15.0,
            15.0,
            10.1,
            10.1,
            9.9,
            9.9,
            5.1,
            5.1,
            4.9,
            4.9,
            0.0,
            0.0,
            1.5,
            1.5,
            0.0,
            0.0,
            1.5,
            1.5,
            0.0,
            0.0,
            4.9,
            4.9,
            5.1,
            5.1,
            9.9,
            9.9,
            10.1
           ],
           "y": [
            1.5,
            0.0,
            0.0,
            4.9,
            4.9,
            5.1,
            5.1,
            9.9,
            9.9,
            10.1,
            10.1,
            15.0,
            15.0,
            13.6,
            13.6,
            15.0,
            15.0,
            13.6,
            13.6,
            15.0,
            15.0,
            10.1,
            10.1,
            9.9,
            9.9,
            5.1,
            5.1,
            4.9,
            4.9,
            0.0,
            0.0,
            1.5,
            1.5,
            0.0,
            0.0,
            1.5,
            1.5
           ],
           "type": "scatter"
          },
          {
           "hoverinfo": "name",
           "line": {
            "color": "grey"
           },
           "mode": "lines",
           "name": "Obstacle",
           "showlegend": false,
           "x": [
            10.1,
            11.5,
            11.5,
            10.1,
            10.1,
            9.9,
            9.9,
            8.6,
            8.6,
            9.9,
            9.9,
            10.1,
            10.1
           ],
           "y": [
            5.1,
            5.1,
            4.9,
            4.9,
            3.6,
            3.6,
            4.9,
            4.9,
            5.1,
            5.1,
            6.5,
            6.5,
            5.1
           ],
           "type": "scatter"
          },
          {
           "hoverinfo": "name",
           "line": {
            "color": "grey"
           },
           "mode": "lines",
           "name": "Obstacle",
           "showlegend": false,
           "x": [
            10.1,
            11.5,
            11.5,
            10.1,
            10.1,
            9.9,
            9.9,
            8.6,
            8.6,
            9.9,
            9.9,
            10.1,
            10.1
           ],
           "y": [
            10.1,
            10.1,
            9.9,
            9.9,
            8.6,
            8.6,
            9.9,
            9.9,
            10.1,
            10.1,
            11.5,
            11.5,
            10.1
           ],
           "type": "scatter"
          },
          {
           "hoverinfo": "name",
           "line": {
            "color": "grey"
           },
           "mode": "lines",
           "name": "Obstacle",
           "showlegend": false,
           "x": [
            5.1,
            6.4,
            6.4,
            5.1,
            5.1,
            4.9,
            4.9,
            3.6,
            3.6,
            4.9,
            4.9,
            5.1,
            5.1
           ],
           "y": [
            5.1,
            5.1,
            4.9,
            4.9,
            3.6,
            3.6,
            4.9,
            4.9,
            5.1,
            5.1,
            6.5,
            6.5,
            5.1
           ],
           "type": "scatter"
          },
          {
           "hoverinfo": "name",
           "line": {
            "color": "grey"
           },
           "mode": "lines",
           "name": "Obstacle",
           "showlegend": false,
           "x": [
            5.1,
            6.4,
            6.4,
            5.1,
            5.1,
            4.9,
            4.9,
            3.6,
            3.6,
            4.9,
            4.9,
            5.1,
            5.1
           ],
           "y": [
            10.1,
            10.1,
            9.9,
            9.9,
            8.6,
            8.6,
            9.9,
            9.9,
            10.1,
            10.1,
            11.5,
            11.5,
            10.1
           ],
           "type": "scatter"
          },
          {
           "fill": "toself",
           "fillcolor": "rgba(200, 0, 0, 0.00)",
           "hoverinfo": "name",
           "line": {
            "width": 0
           },
           "mode": "lines",
           "name": "Risk Area",
           "showlegend": false,
           "x": [
            0.0,
            5.0,
            5.0,
            0.0,
            0.0
           ],
           "y": [
            0.0,
            0.0,
            5.0,
            5.0,
            0.0
           ],
           "type": "scatter"
          },
          {
           "fill": "toself",
           "fillcolor": "rgba(200, 0, 0, 0.60)",
           "hoverinfo": "name",
           "line": {
            "width": 0
           },
           "mode": "lines",
           "name": "Risk Area",
           "showlegend": false,
           "x": [
            5.0,
            10.0,
            10.0,
            5.0,
            5.0
           ],
           "y": [
            0.0,
            0.0,
            5.0,
            5.0,
            0.0
           ],
           "type": "scatter"
          },
          {
           "fill": "toself",
           "fillcolor": "rgba(200, 0, 0, 0.00)",
           "hoverinfo": "name",
           "line": {
            "width": 0
           },
           "mode": "lines",
           "name": "Risk Area",
           "showlegend": false,
           "x": [
            10.0,
            15.0,
            15.0,
            10.0,
            10.0
           ],
           "y": [
            0.0,
            0.0,
            5.0,
            5.0,
            0.0
           ],
           "type": "scatter"
          },
          {
           "fill": "toself",
           "fillcolor": "rgba(200, 0, 0, 0.60)",
           "hoverinfo": "name",
           "line": {
            "width": 0
           },
           "mode": "lines",
           "name": "Risk Area",
           "showlegend": false,
           "x": [
            10.0,
            15.0,
            15.0,
            10.0,
            10.0
           ],
           "y": [
            5.0,
            5.0,
            10.0,
            10.0,
            5.0
           ],
           "type": "scatter"
          },
          {
           "fill": "toself",
           "fillcolor": "rgba(200, 0, 0, 0.60)",
           "hoverinfo": "name",
           "line": {
            "width": 0
           },
           "mode": "lines",
           "name": "Risk Area",
           "showlegend": false,
           "x": [
            5.0,
            10.0,
            10.0,
            5.0,
            5.0
           ],
           "y": [
            5.0,
            5.0,
            10.0,
            10.0,
            5.0
           ],
           "type": "scatter"
          },
          {
           "fill": "toself",
           "fillcolor": "rgba(200, 0, 0, 0.10)",
           "hoverinfo": "name",
           "line": {
            "width": 0
           },
           "mode": "lines",
           "name": "Risk Area",
           "showlegend": false,
           "x": [
            0.0,
            5.0,
            5.0,
            0.0,
            0.0
           ],
           "y": [
            5.0,
            5.0,
            10.0,
            10.0,
            5.0
           ],
           "type": "scatter"
          },
          {
           "fill": "toself",
           "fillcolor": "rgba(200, 0, 0, 0.00)",
           "hoverinfo": "name",
           "line": {
            "width": 0
           },
           "mode": "lines",
           "name": "Risk Area",
           "showlegend": false,
           "x": [
            0.0,
            5.0,
            5.0,
            0.0,
            0.0
           ],
           "y": [
            10.0,
            10.0,
            15.0,
            15.0,
            10.0
           ],
           "type": "scatter"
          },
          {
           "fill": "toself",
           "fillcolor": "rgba(200, 0, 0, 0.00)",
           "hoverinfo": "name",
           "line": {
            "width": 0
           },
           "mode": "lines",
           "name": "Risk Area",
           "showlegend": false,
           "x": [
            5.0,
            10.0,
            10.0,
            5.0,
            5.0
           ],
           "y": [
            10.0,
            10.0,
            15.0,
            15.0,
            10.0
           ],
           "type": "scatter"
          },
          {
           "fill": "toself",
           "fillcolor": "rgba(200, 0, 0, 0.00)",
           "hoverinfo": "name",
           "line": {
            "width": 0
           },
           "mode": "lines",
           "name": "Risk Area",
           "showlegend": false,
           "x": [
            10.0,
            15.0,
            15.0,
            10.0,
            10.0
           ],
           "y": [
            10.0,
            10.0,
            15.0,
            15.0,
            10.0
           ],
           "type": "scatter"
          },
          {
           "hoverinfo": "text",
           "marker": {
            "opacity": 1,
            "size": 1
           },
           "mode": "markers",
           "showlegend": false,
           "text": [
            "ID: 61, Pos(2.93,9.26)"
           ],
           "x": [
            2.927394079540924
           ],
           "y": [
            9.262211827137127
           ],
           "type": "scatter"
          },
          {
           "hoverinfo": "text",
           "marker": {
            "opacity": 1,
            "size": 1
           },
           "mode": "markers",
           "showlegend": false,
           "text": [
            "ID: 62, Pos(1.83,8.02)"
           ],
           "x": [
            1.8330759280005802
           ],
           "y": [
            8.024788524790797
           ],
           "type": "scatter"
          },
          {
           "hoverinfo": "text",
           "marker": {
            "opacity": 1,
            "size": 1
           },
           "mode": "markers",
           "showlegend": false,
           "text": [
            "ID: 63, Pos(2.42,6.70)"
           ],
           "x": [
            2.416021234616005
           ],
           "y": [
            6.70358408166514
           ],
           "type": "scatter"
          },
          {
           "hoverinfo": "text",
           "marker": {
            "opacity": 1,
            "size": 1
           },
           "mode": "markers",
           "showlegend": false,
           "text": [
            "ID: 64, Pos(2.78,10.38)"
           ],
           "x": [
            2.7809570933688215
           ],
           "y": [
            10.377223523372093
           ],
           "type": "scatter"
          },
          {
           "hoverinfo": "text",
           "marker": {
            "opacity": 1,
            "size": 1
           },
           "mode": "markers",
           "showlegend": false,
           "text": [
            "ID: 65, Pos(2.24,9.03)"
           ],
           "x": [
            2.2368219918723056
           ],
           "y": [
            9.033579320580799
           ],
           "type": "scatter"
          },
          {
           "hoverinfo": "text",
           "marker": {
            "opacity": 1,
            "size": 1
           },
           "mode": "markers",
           "showlegend": false,
           "text": [
            "ID: 66, Pos(2.44,11.11)"
           ],
           "x": [
            2.437937422149642
           ],
           "y": [
            11.105419615636162
           ],
           "type": "scatter"
          },
          {
           "hoverinfo": "text",
           "marker": {
            "opacity": 1,
            "size": 1
           },
           "mode": "markers",
           "showlegend": false,
           "text": [
            "ID: 67, Pos(3.40,11.22)"
           ],
           "x": [
            3.402875240013397
           ],
           "y": [
            11.221899202664561
           ],
           "type": "scatter"
          },
          {
           "hoverinfo": "text",
           "marker": {
            "opacity": 1,
            "size": 1
           },
           "mode": "markers",
           "showlegend": false,
           "text": [
            "ID: 68, Pos(3.15,8.11)"
           ],
           "x": [
            3.148842798262761
           ],
           "y": [
            8.113111435409955
           ],
           "type": "scatter"
          },
          {
           "hoverinfo": "text",
           "marker": {
            "opacity": 1,
            "size": 1
           },
           "mode": "markers",
           "showlegend": false,
           "text": [
            "ID: 69, Pos(2.12,10.17)"
           ],
           "x": [
            2.1191699432523445
           ],
           "y": [
            10.17048724646153
           ],
           "type": "scatter"
          },
          {
           "hoverinfo": "text",
           "marker": {
            "opacity": 1,
            "size": 1
           },
           "mode": "markers",
           "showlegend": false,
           "text": [
            "ID: 70, Pos(2.51,7.88)"
           ],
           "x": [
            2.506189097930183
           ],
           "y": [
            7.8808779014051975
           ],
           "type": "scatter"
          }
         ],
         "layout": {
          "shapes": [
           {
            "fillcolor": "rgba(0, 0, 255, 0.5)",
            "line": {
             "color": "rgba(0, 0, 255, 0.5)"
            },
            "type": "circle",
            "x0": 2.727394079540924,
            "x1": 3.1273940795409243,
            "xref": "x",
            "y0": 9.062211827137128,
            "y1": 9.462211827137127,
            "yref": "y"
           },
           {
            "fillcolor": "rgba(0, 0, 228, 0.5)",
            "line": {
             "color": "rgba(0, 0, 228, 0.5)"
            },
            "type": "circle",
            "x0": 1.6330759280005802,
            "x1": 2.03307592800058,
            "xref": "x",
            "y0": 7.8247885247907965,
            "y1": 8.224788524790796,
            "yref": "y"
           },
           {
            "fillcolor": "rgba(0, 0, 155, 0.5)",
            "line": {
             "color": "rgba(0, 0, 155, 0.5)"
            },
            "type": "circle",
            "x0": 2.216021234616005,
            "x1": 2.616021234616005,
            "xref": "x",
            "y0": 6.50358408166514,
            "y1": 6.90358408166514,
            "yref": "y"
           },
           {
            "fillcolor": "rgba(67, 255, 180, 0.5)",
            "line": {
             "color": "rgba(67, 255, 180, 0.5)"
            },
            "type": "circle",
            "x0": 2.5809570933688213,
            "x1": 2.9809570933688216,
            "xref": "x",
            "y0": 10.177223523372094,
            "y1": 10.577223523372092,
            "yref": "y"
           },
           {
            "fillcolor": "rgba(0, 0, 218, 0.5)",
            "line": {
             "color": "rgba(0, 0, 218, 0.5)"
            },
            "type": "circle",
            "x0": 2.0368219918723054,
            "x1": 2.4368219918723057,
            "xref": "x",
            "y0": 8.8335793205808,
            "y1": 9.233579320580798,
            "yref": "y"
           },
           {
            "fillcolor": "rgba(0, 200, 255, 0.5)",
            "line": {
             "color": "rgba(0, 200, 255, 0.5)"
            },
            "type": "circle",
            "x0": 2.237937422149642,
            "x1": 2.6379374221496423,
            "xref": "x",
            "y0": 10.905419615636163,
            "y1": 11.305419615636161,
            "yref": "y"
           },
           {
            "fillcolor": "rgba(0, 0, 128, 0.5)",
            "line": {
             "color": "rgba(0, 0, 128, 0.5)"
            },
            "type": "circle",
            "x0": 3.202875240013397,
            "x1": 3.602875240013397,
            "xref": "x",
            "y0": 11.021899202664562,
            "y1": 11.42189920266456,
            "yref": "y"
           },
           {
            "fillcolor": "rgba(0, 0, 178, 0.5)",
            "line": {
             "color": "rgba(0, 0, 178, 0.5)"
            },
            "type": "circle",
            "x0": 2.9488427982627607,
            "x1": 3.348842798262761,
            "xref": "x",
            "y0": 7.913111435409955,
            "y1": 8.313111435409954,
            "yref": "y"
           },
           {
            "fillcolor": "rgba(0, 148, 255, 0.5)",
            "line": {
             "color": "rgba(0, 148, 255, 0.5)"
            },
            "type": "circle",
            "x0": 1.9191699432523446,
            "x1": 2.3191699432523447,
            "xref": "x",
            "y0": 9.97048724646153,
            "y1": 10.37048724646153,
            "yref": "y"
           },
           {
            "fillcolor": "rgba(0, 0, 155, 0.5)",
            "line": {
             "color": "rgba(0, 0, 155, 0.5)"
            },
            "type": "circle",
            "x0": 2.306189097930183,
            "x1": 2.7061890979301833,
            "xref": "x",
            "y0": 7.680877901405197,
            "y1": 8.080877901405197,
            "yref": "y"
           },
           {
            "line": {
             "color": "white",
             "width": 3
            },
            "type": "line",
            "x0": 2.927394079540924,
            "x1": 2.9201716339794648,
            "y0": 9.262211827137127,
            "y1": 9.462081375293199
           },
           {
            "line": {
             "color": "white",
             "width": 3
            },
            "type": "line",
            "x0": 1.8330759280005802,
            "x1": 1.8338651018550014,
            "y0": 8.024788524790797,
            "y1": 8.224786967796305
           },
           {
            "line": {
             "color": "white",
             "width": 3
            },
            "type": "line",
            "x0": 2.416021234616005,
            "x1": 2.418910071687816,
            "y0": 6.70358408166514,
            "y1": 6.903563217127749
           },
           {
            "line": {
             "color": "black",
             "width": 3
            },
            "type": "line",
            "x0": 2.7809570933688215,
            "x1": 2.784232579293704,
            "y0": 10.377223523372093,
            "y1": 10.57719669955319
           },
           {
            "line": {
             "color": "white",
             "width": 3
            },
            "type": "line",
            "x0": 2.2368219918723056,
            "x1": 2.233301901835475,
            "y0": 9.033579320580799,
            "y1": 9.233548340596732
           },
           {
            "line": {
             "color": "black",
             "width": 3
            },
            "type": "line",
            "x0": 2.437937422149642,
            "x1": 2.6278230818765014,
            "y0": 11.105419615636162,
            "y1": 11.168216400825338
           },
           {
            "line": {
             "color": "white",
             "width": 3
            },
            "type": "line",
            "x0": 3.402875240013397,
            "x1": 3.593349340621758,
            "y0": 11.221899202664561,
            "y1": 11.28288786552444
           },
           {
            "line": {
             "color": "white",
             "width": 3
            },
            "type": "line",
            "x0": 3.148842798262761,
            "x1": 3.148542229381857,
            "y0": 8.113111435409955,
            "y1": 8.313111209555696
           },
           {
            "line": {
             "color": "white",
             "width": 3
            },
            "type": "line",
            "x0": 2.1191699432523445,
            "x1": 2.125429655157864,
            "y0": 10.17048724646153,
            "y1": 10.370389262476527
           },
           {
            "line": {
             "color": "white",
             "width": 3
            },
            "type": "line",
            "x0": 2.506189097930183,
            "x1": 2.5055419049774326,
            "y0": 7.8808779014051975,
            "y1": 8.080876854255662
           }
          ],
          "title": {
           "text": "<b>Percentage using the shortest path: 0%  |  Number of Agents: 10</b>",
           "x": 0.5
          }
         },
         "name": "250"
        },
        {
         "data": [
          {
           "hoverinfo": "name",
           "line": {
            "color": "grey"
           },
           "mode": "lines",
           "name": "Exterior",
           "showlegend": false,
           "x": [
            10.1,
            10.1,
            15.0,
            15.0,
            13.6,
            13.6,
            15.0,
            15.0,
            13.6,
            13.6,
            15.0,
            15.0,
            10.1,
            10.1,
            9.9,
            9.9,
            5.1,
            5.1,
            4.9,
            4.9,
            0.0,
            0.0,
            1.5,
            1.5,
            0.0,
            0.0,
            1.5,
            1.5,
            0.0,
            0.0,
            4.9,
            4.9,
            5.1,
            5.1,
            9.9,
            9.9,
            10.1
           ],
           "y": [
            1.5,
            0.0,
            0.0,
            4.9,
            4.9,
            5.1,
            5.1,
            9.9,
            9.9,
            10.1,
            10.1,
            15.0,
            15.0,
            13.6,
            13.6,
            15.0,
            15.0,
            13.6,
            13.6,
            15.0,
            15.0,
            10.1,
            10.1,
            9.9,
            9.9,
            5.1,
            5.1,
            4.9,
            4.9,
            0.0,
            0.0,
            1.5,
            1.5,
            0.0,
            0.0,
            1.5,
            1.5
           ],
           "type": "scatter"
          },
          {
           "hoverinfo": "name",
           "line": {
            "color": "grey"
           },
           "mode": "lines",
           "name": "Obstacle",
           "showlegend": false,
           "x": [
            10.1,
            11.5,
            11.5,
            10.1,
            10.1,
            9.9,
            9.9,
            8.6,
            8.6,
            9.9,
            9.9,
            10.1,
            10.1
           ],
           "y": [
            5.1,
            5.1,
            4.9,
            4.9,
            3.6,
            3.6,
            4.9,
            4.9,
            5.1,
            5.1,
            6.5,
            6.5,
            5.1
           ],
           "type": "scatter"
          },
          {
           "hoverinfo": "name",
           "line": {
            "color": "grey"
           },
           "mode": "lines",
           "name": "Obstacle",
           "showlegend": false,
           "x": [
            10.1,
            11.5,
            11.5,
            10.1,
            10.1,
            9.9,
            9.9,
            8.6,
            8.6,
            9.9,
            9.9,
            10.1,
            10.1
           ],
           "y": [
            10.1,
            10.1,
            9.9,
            9.9,
            8.6,
            8.6,
            9.9,
            9.9,
            10.1,
            10.1,
            11.5,
            11.5,
            10.1
           ],
           "type": "scatter"
          },
          {
           "hoverinfo": "name",
           "line": {
            "color": "grey"
           },
           "mode": "lines",
           "name": "Obstacle",
           "showlegend": false,
           "x": [
            5.1,
            6.4,
            6.4,
            5.1,
            5.1,
            4.9,
            4.9,
            3.6,
            3.6,
            4.9,
            4.9,
            5.1,
            5.1
           ],
           "y": [
            5.1,
            5.1,
            4.9,
            4.9,
            3.6,
            3.6,
            4.9,
            4.9,
            5.1,
            5.1,
            6.5,
            6.5,
            5.1
           ],
           "type": "scatter"
          },
          {
           "hoverinfo": "name",
           "line": {
            "color": "grey"
           },
           "mode": "lines",
           "name": "Obstacle",
           "showlegend": false,
           "x": [
            5.1,
            6.4,
            6.4,
            5.1,
            5.1,
            4.9,
            4.9,
            3.6,
            3.6,
            4.9,
            4.9,
            5.1,
            5.1
           ],
           "y": [
            10.1,
            10.1,
            9.9,
            9.9,
            8.6,
            8.6,
            9.9,
            9.9,
            10.1,
            10.1,
            11.5,
            11.5,
            10.1
           ],
           "type": "scatter"
          },
          {
           "fill": "toself",
           "fillcolor": "rgba(200, 0, 0, 0.00)",
           "hoverinfo": "name",
           "line": {
            "width": 0
           },
           "mode": "lines",
           "name": "Risk Area",
           "showlegend": false,
           "x": [
            0.0,
            5.0,
            5.0,
            0.0,
            0.0
           ],
           "y": [
            0.0,
            0.0,
            5.0,
            5.0,
            0.0
           ],
           "type": "scatter"
          },
          {
           "fill": "toself",
           "fillcolor": "rgba(200, 0, 0, 0.60)",
           "hoverinfo": "name",
           "line": {
            "width": 0
           },
           "mode": "lines",
           "name": "Risk Area",
           "showlegend": false,
           "x": [
            5.0,
            10.0,
            10.0,
            5.0,
            5.0
           ],
           "y": [
            0.0,
            0.0,
            5.0,
            5.0,
            0.0
           ],
           "type": "scatter"
          },
          {
           "fill": "toself",
           "fillcolor": "rgba(200, 0, 0, 0.00)",
           "hoverinfo": "name",
           "line": {
            "width": 0
           },
           "mode": "lines",
           "name": "Risk Area",
           "showlegend": false,
           "x": [
            10.0,
            15.0,
            15.0,
            10.0,
            10.0
           ],
           "y": [
            0.0,
            0.0,
            5.0,
            5.0,
            0.0
           ],
           "type": "scatter"
          },
          {
           "fill": "toself",
           "fillcolor": "rgba(200, 0, 0, 0.60)",
           "hoverinfo": "name",
           "line": {
            "width": 0
           },
           "mode": "lines",
           "name": "Risk Area",
           "showlegend": false,
           "x": [
            10.0,
            15.0,
            15.0,
            10.0,
            10.0
           ],
           "y": [
            5.0,
            5.0,
            10.0,
            10.0,
            5.0
           ],
           "type": "scatter"
          },
          {
           "fill": "toself",
           "fillcolor": "rgba(200, 0, 0, 0.70)",
           "hoverinfo": "name",
           "line": {
            "width": 0
           },
           "mode": "lines",
           "name": "Risk Area",
           "showlegend": false,
           "x": [
            5.0,
            10.0,
            10.0,
            5.0,
            5.0
           ],
           "y": [
            5.0,
            5.0,
            10.0,
            10.0,
            5.0
           ],
           "type": "scatter"
          },
          {
           "fill": "toself",
           "fillcolor": "rgba(200, 0, 0, 0.10)",
           "hoverinfo": "name",
           "line": {
            "width": 0
           },
           "mode": "lines",
           "name": "Risk Area",
           "showlegend": false,
           "x": [
            0.0,
            5.0,
            5.0,
            0.0,
            0.0
           ],
           "y": [
            5.0,
            5.0,
            10.0,
            10.0,
            5.0
           ],
           "type": "scatter"
          },
          {
           "fill": "toself",
           "fillcolor": "rgba(200, 0, 0, 0.00)",
           "hoverinfo": "name",
           "line": {
            "width": 0
           },
           "mode": "lines",
           "name": "Risk Area",
           "showlegend": false,
           "x": [
            0.0,
            5.0,
            5.0,
            0.0,
            0.0
           ],
           "y": [
            10.0,
            10.0,
            15.0,
            15.0,
            10.0
           ],
           "type": "scatter"
          },
          {
           "fill": "toself",
           "fillcolor": "rgba(200, 0, 0, 0.00)",
           "hoverinfo": "name",
           "line": {
            "width": 0
           },
           "mode": "lines",
           "name": "Risk Area",
           "showlegend": false,
           "x": [
            5.0,
            10.0,
            10.0,
            5.0,
            5.0
           ],
           "y": [
            10.0,
            10.0,
            15.0,
            15.0,
            10.0
           ],
           "type": "scatter"
          },
          {
           "fill": "toself",
           "fillcolor": "rgba(200, 0, 0, 0.00)",
           "hoverinfo": "name",
           "line": {
            "width": 0
           },
           "mode": "lines",
           "name": "Risk Area",
           "showlegend": false,
           "x": [
            10.0,
            15.0,
            15.0,
            10.0,
            10.0
           ],
           "y": [
            10.0,
            10.0,
            15.0,
            15.0,
            10.0
           ],
           "type": "scatter"
          },
          {
           "hoverinfo": "text",
           "marker": {
            "opacity": 1,
            "size": 1
           },
           "mode": "markers",
           "showlegend": false,
           "text": [
            "ID: 61, Pos(2.89,10.29)"
           ],
           "x": [
            2.8943539213525935
           ],
           "y": [
            10.288681423265098
           ],
           "type": "scatter"
          },
          {
           "hoverinfo": "text",
           "marker": {
            "opacity": 1,
            "size": 1
           },
           "mode": "markers",
           "showlegend": false,
           "text": [
            "ID: 62, Pos(1.84,9.44)"
           ],
           "x": [
            1.8405796888684818
           ],
           "y": [
            9.43740496318966
           ],
           "type": "scatter"
          },
          {
           "hoverinfo": "text",
           "marker": {
            "opacity": 1,
            "size": 1
           },
           "mode": "markers",
           "showlegend": false,
           "text": [
            "ID: 63, Pos(2.44,8.24)"
           ],
           "x": [
            2.4382965217860106
           ],
           "y": [
            8.242704520928843
           ],
           "type": "scatter"
          },
          {
           "hoverinfo": "text",
           "marker": {
            "opacity": 1,
            "size": 1
           },
           "mode": "markers",
           "showlegend": false,
           "text": [
            "ID: 64, Pos(3.03,11.06)"
           ],
           "x": [
            3.034566706881194
           ],
           "y": [
            11.059397605810505
           ],
           "type": "scatter"
          },
          {
           "hoverinfo": "text",
           "marker": {
            "opacity": 1,
            "size": 1
           },
           "mode": "markers",
           "showlegend": false,
           "text": [
            "ID: 65, Pos(2.21,10.48)"
           ],
           "x": [
            2.210307135072303
           ],
           "y": [
            10.478250005035179
           ],
           "type": "scatter"
          },
          {
           "hoverinfo": "text",
           "marker": {
            "opacity": 1,
            "size": 1
           },
           "mode": "markers",
           "showlegend": false,
           "text": [
            "ID: 66, Pos(3.75,11.55)"
           ],
           "x": [
            3.7504468901675097
           ],
           "y": [
            11.553774610768434
           ],
           "type": "scatter"
          },
          {
           "hoverinfo": "text",
           "marker": {
            "opacity": 1,
            "size": 1
           },
           "mode": "markers",
           "showlegend": false,
           "text": [
            "ID: 67, Pos(4.82,11.88)"
           ],
           "x": [
            4.820144755359248
           ],
           "y": [
            11.876037491458401
           ],
           "type": "scatter"
          },
          {
           "hoverinfo": "text",
           "marker": {
            "opacity": 1,
            "size": 1
           },
           "mode": "markers",
           "showlegend": false,
           "text": [
            "ID: 68, Pos(3.15,9.40)"
           ],
           "x": [
            3.1507282958709464
           ],
           "y": [
            9.403557018418901
           ],
           "type": "scatter"
          },
          {
           "hoverinfo": "text",
           "marker": {
            "opacity": 1,
            "size": 1
           },
           "mode": "markers",
           "showlegend": false,
           "text": [
            "ID: 69, Pos(2.60,11.50)"
           ],
           "x": [
            2.604417810587924
           ],
           "y": [
            11.498025403114964
           ],
           "type": "scatter"
          },
          {
           "hoverinfo": "text",
           "marker": {
            "opacity": 1,
            "size": 1
           },
           "mode": "markers",
           "showlegend": false,
           "text": [
            "ID: 70, Pos(2.50,9.39)"
           ],
           "x": [
            2.495946441913437
           ],
           "y": [
            9.392050474046373
           ],
           "type": "scatter"
          }
         ],
         "layout": {
          "shapes": [
           {
            "fillcolor": "rgba(183, 255, 64, 0.5)",
            "line": {
             "color": "rgba(183, 255, 64, 0.5)"
            },
            "type": "circle",
            "x0": 2.6943539213525933,
            "x1": 3.0943539213525937,
            "xref": "x",
            "y0": 10.088681423265099,
            "y1": 10.488681423265097,
            "yref": "y"
           },
           {
            "fillcolor": "rgba(0, 5, 255, 0.5)",
            "line": {
             "color": "rgba(0, 5, 255, 0.5)"
            },
            "type": "circle",
            "x0": 1.6405796888684818,
            "x1": 2.040579688868482,
            "xref": "x",
            "y0": 9.237404963189661,
            "y1": 9.63740496318966,
            "yref": "y"
           },
           {
            "fillcolor": "rgba(0, 0, 209, 0.5)",
            "line": {
             "color": "rgba(0, 0, 209, 0.5)"
            },
            "type": "circle",
            "x0": 2.2382965217860105,
            "x1": 2.638296521786011,
            "xref": "x",
            "y0": 8.042704520928844,
            "y1": 8.442704520928842,
            "yref": "y"
           },
           {
            "fillcolor": "rgba(0, 140, 255, 0.5)",
            "line": {
             "color": "rgba(0, 140, 255, 0.5)"
            },
            "type": "circle",
            "x0": 2.8345667068811937,
            "x1": 3.234566706881194,
            "xref": "x",
            "y0": 10.859397605810505,
            "y1": 11.259397605810504,
            "yref": "y"
           },
           {
            "fillcolor": "rgba(0, 0, 232, 0.5)",
            "line": {
             "color": "rgba(0, 0, 232, 0.5)"
            },
            "type": "circle",
            "x0": 2.0103071350723027,
            "x1": 2.410307135072303,
            "xref": "x",
            "y0": 10.27825000503518,
            "y1": 10.678250005035178,
            "yref": "y"
           },
           {
            "fillcolor": "rgba(0, 0, 255, 0.5)",
            "line": {
             "color": "rgba(0, 0, 255, 0.5)"
            },
            "type": "circle",
            "x0": 3.5504468901675095,
            "x1": 3.95044689016751,
            "xref": "x",
            "y0": 11.353774610768435,
            "y1": 11.753774610768433,
            "yref": "y"
           },
           {
            "fillcolor": "rgba(0, 0, 137, 0.5)",
            "line": {
             "color": "rgba(0, 0, 137, 0.5)"
            },
            "type": "circle",
            "x0": 4.620144755359248,
            "x1": 5.020144755359248,
            "xref": "x",
            "y0": 11.676037491458402,
            "y1": 12.0760374914584,
            "yref": "y"
           },
           {
            "fillcolor": "rgba(31, 255, 215, 0.5)",
            "line": {
             "color": "rgba(31, 255, 215, 0.5)"
            },
            "type": "circle",
            "x0": 2.950728295870946,
            "x1": 3.3507282958709466,
            "xref": "x",
            "y0": 9.203557018418902,
            "y1": 9.6035570184189,
            "yref": "y"
           },
           {
            "fillcolor": "rgba(0, 0, 132, 0.5)",
            "line": {
             "color": "rgba(0, 0, 132, 0.5)"
            },
            "type": "circle",
            "x0": 2.404417810587924,
            "x1": 2.8044178105879243,
            "xref": "x",
            "y0": 11.298025403114965,
            "y1": 11.698025403114963,
            "yref": "y"
           },
           {
            "fillcolor": "rgba(0, 53, 255, 0.5)",
            "line": {
             "color": "rgba(0, 53, 255, 0.5)"
            },
            "type": "circle",
            "x0": 2.2959464419134368,
            "x1": 2.695946441913437,
            "xref": "x",
            "y0": 9.192050474046374,
            "y1": 9.592050474046372,
            "yref": "y"
           },
           {
            "line": {
             "color": "black",
             "width": 3
            },
            "type": "line",
            "x0": 2.8943539213525935,
            "x1": 2.8787254822308115,
            "y0": 10.288681423265098,
            "y1": 10.48806986799201
           },
           {
            "line": {
             "color": "white",
             "width": 3
            },
            "type": "line",
            "x0": 1.8405796888684818,
            "x1": 1.843299756529308,
            "y0": 9.43740496318966,
            "y1": 9.637386465414043
           },
           {
            "line": {
             "color": "white",
             "width": 3
            },
            "type": "line",
            "x0": 2.4382965217860106,
            "x1": 2.4411880326629665,
            "y0": 8.242704520928843,
            "y1": 8.442683617748607
           },
           {
            "line": {
             "color": "white",
             "width": 3
            },
            "type": "line",
            "x0": 3.034566706881194,
            "x1": 3.232896045185273,
            "y0": 11.059397605810505,
            "y1": 11.085194380179914
           },
           {
            "line": {
             "color": "white",
             "width": 3
            },
            "type": "line",
            "x0": 2.210307135072303,
            "x1": 2.2146966893715114,
            "y0": 10.478250005035179,
            "y1": 10.678201828765431
           },
           {
            "line": {
             "color": "white",
             "width": 3
            },
            "type": "line",
            "x0": 3.7504468901675097,
            "x1": 3.94397082966161,
            "y0": 11.553774610768434,
            "y1": 11.60425713093813
           },
           {
            "line": {
             "color": "white",
             "width": 3
            },
            "type": "line",
            "x0": 4.820144755359248,
            "x1": 4.995010240741721,
            "y0": 11.876037491458401,
            "y1": 11.973104798116987
           },
           {
            "line": {
             "color": "black",
             "width": 3
            },
            "type": "line",
            "x0": 3.1507282958709464,
            "x1": 3.1510789838319098,
            "y0": 9.403557018418901,
            "y1": 9.60355671096355
           },
           {
            "line": {
             "color": "white",
             "width": 3
            },
            "type": "line",
            "x0": 2.604417810587924,
            "x1": 2.779459908768377,
            "y0": 11.498025403114964,
            "y1": 11.594773859767175
           },
           {
            "line": {
             "color": "white",
             "width": 3
            },
            "type": "line",
            "x0": 2.495946441913437,
            "x1": 2.4946910120009766,
            "y0": 9.392050474046373,
            "y1": 9.592046533746895
           }
          ],
          "title": {
           "text": "<b>Percentage using the shortest path: 0%  |  Number of Agents: 10</b>",
           "x": 0.5
          }
         },
         "name": "300"
        },
        {
         "data": [
          {
           "hoverinfo": "name",
           "line": {
            "color": "grey"
           },
           "mode": "lines",
           "name": "Exterior",
           "showlegend": false,
           "x": [
            10.1,
            10.1,
            15.0,
            15.0,
            13.6,
            13.6,
            15.0,
            15.0,
            13.6,
            13.6,
            15.0,
            15.0,
            10.1,
            10.1,
            9.9,
            9.9,
            5.1,
            5.1,
            4.9,
            4.9,
            0.0,
            0.0,
            1.5,
            1.5,
            0.0,
            0.0,
            1.5,
            1.5,
            0.0,
            0.0,
            4.9,
            4.9,
            5.1,
            5.1,
            9.9,
            9.9,
            10.1
           ],
           "y": [
            1.5,
            0.0,
            0.0,
            4.9,
            4.9,
            5.1,
            5.1,
            9.9,
            9.9,
            10.1,
            10.1,
            15.0,
            15.0,
            13.6,
            13.6,
            15.0,
            15.0,
            13.6,
            13.6,
            15.0,
            15.0,
            10.1,
            10.1,
            9.9,
            9.9,
            5.1,
            5.1,
            4.9,
            4.9,
            0.0,
            0.0,
            1.5,
            1.5,
            0.0,
            0.0,
            1.5,
            1.5
           ],
           "type": "scatter"
          },
          {
           "hoverinfo": "name",
           "line": {
            "color": "grey"
           },
           "mode": "lines",
           "name": "Obstacle",
           "showlegend": false,
           "x": [
            10.1,
            11.5,
            11.5,
            10.1,
            10.1,
            9.9,
            9.9,
            8.6,
            8.6,
            9.9,
            9.9,
            10.1,
            10.1
           ],
           "y": [
            5.1,
            5.1,
            4.9,
            4.9,
            3.6,
            3.6,
            4.9,
            4.9,
            5.1,
            5.1,
            6.5,
            6.5,
            5.1
           ],
           "type": "scatter"
          },
          {
           "hoverinfo": "name",
           "line": {
            "color": "grey"
           },
           "mode": "lines",
           "name": "Obstacle",
           "showlegend": false,
           "x": [
            10.1,
            11.5,
            11.5,
            10.1,
            10.1,
            9.9,
            9.9,
            8.6,
            8.6,
            9.9,
            9.9,
            10.1,
            10.1
           ],
           "y": [
            10.1,
            10.1,
            9.9,
            9.9,
            8.6,
            8.6,
            9.9,
            9.9,
            10.1,
            10.1,
            11.5,
            11.5,
            10.1
           ],
           "type": "scatter"
          },
          {
           "hoverinfo": "name",
           "line": {
            "color": "grey"
           },
           "mode": "lines",
           "name": "Obstacle",
           "showlegend": false,
           "x": [
            5.1,
            6.4,
            6.4,
            5.1,
            5.1,
            4.9,
            4.9,
            3.6,
            3.6,
            4.9,
            4.9,
            5.1,
            5.1
           ],
           "y": [
            5.1,
            5.1,
            4.9,
            4.9,
            3.6,
            3.6,
            4.9,
            4.9,
            5.1,
            5.1,
            6.5,
            6.5,
            5.1
           ],
           "type": "scatter"
          },
          {
           "hoverinfo": "name",
           "line": {
            "color": "grey"
           },
           "mode": "lines",
           "name": "Obstacle",
           "showlegend": false,
           "x": [
            5.1,
            6.4,
            6.4,
            5.1,
            5.1,
            4.9,
            4.9,
            3.6,
            3.6,
            4.9,
            4.9,
            5.1,
            5.1
           ],
           "y": [
            10.1,
            10.1,
            9.9,
            9.9,
            8.6,
            8.6,
            9.9,
            9.9,
            10.1,
            10.1,
            11.5,
            11.5,
            10.1
           ],
           "type": "scatter"
          },
          {
           "fill": "toself",
           "fillcolor": "rgba(200, 0, 0, 0.00)",
           "hoverinfo": "name",
           "line": {
            "width": 0
           },
           "mode": "lines",
           "name": "Risk Area",
           "showlegend": false,
           "x": [
            0.0,
            5.0,
            5.0,
            0.0,
            0.0
           ],
           "y": [
            0.0,
            0.0,
            5.0,
            5.0,
            0.0
           ],
           "type": "scatter"
          },
          {
           "fill": "toself",
           "fillcolor": "rgba(200, 0, 0, 0.60)",
           "hoverinfo": "name",
           "line": {
            "width": 0
           },
           "mode": "lines",
           "name": "Risk Area",
           "showlegend": false,
           "x": [
            5.0,
            10.0,
            10.0,
            5.0,
            5.0
           ],
           "y": [
            0.0,
            0.0,
            5.0,
            5.0,
            0.0
           ],
           "type": "scatter"
          },
          {
           "fill": "toself",
           "fillcolor": "rgba(200, 0, 0, 0.00)",
           "hoverinfo": "name",
           "line": {
            "width": 0
           },
           "mode": "lines",
           "name": "Risk Area",
           "showlegend": false,
           "x": [
            10.0,
            15.0,
            15.0,
            10.0,
            10.0
           ],
           "y": [
            0.0,
            0.0,
            5.0,
            5.0,
            0.0
           ],
           "type": "scatter"
          },
          {
           "fill": "toself",
           "fillcolor": "rgba(200, 0, 0, 0.60)",
           "hoverinfo": "name",
           "line": {
            "width": 0
           },
           "mode": "lines",
           "name": "Risk Area",
           "showlegend": false,
           "x": [
            10.0,
            15.0,
            15.0,
            10.0,
            10.0
           ],
           "y": [
            5.0,
            5.0,
            10.0,
            10.0,
            5.0
           ],
           "type": "scatter"
          },
          {
           "fill": "toself",
           "fillcolor": "rgba(200, 0, 0, 0.70)",
           "hoverinfo": "name",
           "line": {
            "width": 0
           },
           "mode": "lines",
           "name": "Risk Area",
           "showlegend": false,
           "x": [
            5.0,
            10.0,
            10.0,
            5.0,
            5.0
           ],
           "y": [
            5.0,
            5.0,
            10.0,
            10.0,
            5.0
           ],
           "type": "scatter"
          },
          {
           "fill": "toself",
           "fillcolor": "rgba(200, 0, 0, 0.10)",
           "hoverinfo": "name",
           "line": {
            "width": 0
           },
           "mode": "lines",
           "name": "Risk Area",
           "showlegend": false,
           "x": [
            0.0,
            5.0,
            5.0,
            0.0,
            0.0
           ],
           "y": [
            5.0,
            5.0,
            10.0,
            10.0,
            5.0
           ],
           "type": "scatter"
          },
          {
           "fill": "toself",
           "fillcolor": "rgba(200, 0, 0, 0.00)",
           "hoverinfo": "name",
           "line": {
            "width": 0
           },
           "mode": "lines",
           "name": "Risk Area",
           "showlegend": false,
           "x": [
            0.0,
            5.0,
            5.0,
            0.0,
            0.0
           ],
           "y": [
            10.0,
            10.0,
            15.0,
            15.0,
            10.0
           ],
           "type": "scatter"
          },
          {
           "fill": "toself",
           "fillcolor": "rgba(200, 0, 0, 0.00)",
           "hoverinfo": "name",
           "line": {
            "width": 0
           },
           "mode": "lines",
           "name": "Risk Area",
           "showlegend": false,
           "x": [
            5.0,
            10.0,
            10.0,
            5.0,
            5.0
           ],
           "y": [
            10.0,
            10.0,
            15.0,
            15.0,
            10.0
           ],
           "type": "scatter"
          },
          {
           "fill": "toself",
           "fillcolor": "rgba(200, 0, 0, 0.00)",
           "hoverinfo": "name",
           "line": {
            "width": 0
           },
           "mode": "lines",
           "name": "Risk Area",
           "showlegend": false,
           "x": [
            10.0,
            15.0,
            15.0,
            10.0,
            10.0
           ],
           "y": [
            10.0,
            10.0,
            15.0,
            15.0,
            10.0
           ],
           "type": "scatter"
          },
          {
           "hoverinfo": "text",
           "marker": {
            "opacity": 1,
            "size": 1
           },
           "mode": "markers",
           "showlegend": false,
           "text": [
            "ID: 61, Pos(3.31,11.12)"
           ],
           "x": [
            3.308656044066112
           ],
           "y": [
            11.117176833392604
           ],
           "type": "scatter"
          },
          {
           "hoverinfo": "text",
           "marker": {
            "opacity": 1,
            "size": 1
           },
           "mode": "markers",
           "showlegend": false,
           "text": [
            "ID: 62, Pos(1.95,10.96)"
           ],
           "x": [
            1.948901365877937
           ],
           "y": [
            10.95653303352023
           ],
           "type": "scatter"
          },
          {
           "hoverinfo": "text",
           "marker": {
            "opacity": 1,
            "size": 1
           },
           "mode": "markers",
           "showlegend": false,
           "text": [
            "ID: 63, Pos(2.46,9.60)"
           ],
           "x": [
            2.4571913168430837
           ],
           "y": [
            9.596587077746486
           ],
           "type": "scatter"
          },
          {
           "hoverinfo": "text",
           "marker": {
            "opacity": 1,
            "size": 1
           },
           "mode": "markers",
           "showlegend": false,
           "text": [
            "ID: 64, Pos(4.26,11.37)"
           ],
           "x": [
            4.26447018598231
           ],
           "y": [
            11.371010200667417
           ],
           "type": "scatter"
          },
          {
           "hoverinfo": "text",
           "marker": {
            "opacity": 1,
            "size": 1
           },
           "mode": "markers",
           "showlegend": false,
           "text": [
            "ID: 65, Pos(2.96,11.67)"
           ],
           "x": [
            2.96372831285788
           ],
           "y": [
            11.665560654175682
           ],
           "type": "scatter"
          },
          {
           "hoverinfo": "text",
           "marker": {
            "opacity": 1,
            "size": 1
           },
           "mode": "markers",
           "showlegend": false,
           "text": [
            "ID: 66, Pos(5.21,12.01)"
           ],
           "x": [
            5.205152336732559
           ],
           "y": [
            12.00939201215353
           ],
           "type": "scatter"
          },
          {
           "hoverinfo": "text",
           "marker": {
            "opacity": 1,
            "size": 1
           },
           "mode": "markers",
           "showlegend": false,
           "text": [
            "ID: 67, Pos(6.37,12.25)"
           ],
           "x": [
            6.3720523791137635
           ],
           "y": [
            12.252861544019147
           ],
           "type": "scatter"
          },
          {
           "hoverinfo": "text",
           "marker": {
            "opacity": 1,
            "size": 1
           },
           "mode": "markers",
           "showlegend": false,
           "text": [
            "ID: 68, Pos(3.11,10.41)"
           ],
           "x": [
            3.1102736157642705
           ],
           "y": [
            10.40670006316253
           ],
           "type": "scatter"
          },
          {
           "hoverinfo": "text",
           "marker": {
            "opacity": 1,
            "size": 1
           },
           "mode": "markers",
           "showlegend": false,
           "text": [
            "ID: 69, Pos(4.06,12.03)"
           ],
           "x": [
            4.056433296642343
           ],
           "y": [
            12.026748142020043
           ],
           "type": "scatter"
          },
          {
           "hoverinfo": "text",
           "marker": {
            "opacity": 1,
            "size": 1
           },
           "mode": "markers",
           "showlegend": false,
           "text": [
            "ID: 70, Pos(2.51,10.69)"
           ],
           "x": [
            2.5144058681949546
           ],
           "y": [
            10.687426977566682
           ],
           "type": "scatter"
          }
         ],
         "layout": {
          "shapes": [
           {
            "fillcolor": "rgba(0, 173, 255, 0.5)",
            "line": {
             "color": "rgba(0, 173, 255, 0.5)"
            },
            "type": "circle",
            "x0": 3.108656044066112,
            "x1": 3.5086560440661123,
            "xref": "x",
            "y0": 10.917176833392604,
            "y1": 11.317176833392603,
            "yref": "y"
           },
           {
            "fillcolor": "rgba(0, 0, 155, 0.5)",
            "line": {
             "color": "rgba(0, 0, 155, 0.5)"
            },
            "type": "circle",
            "x0": 1.748901365877937,
            "x1": 2.1489013658779372,
            "xref": "x",
            "y0": 10.756533033520231,
            "y1": 11.15653303352023,
            "yref": "y"
           },
           {
            "fillcolor": "rgba(0, 16, 255, 0.5)",
            "line": {
             "color": "rgba(0, 16, 255, 0.5)"
            },
            "type": "circle",
            "x0": 2.2571913168430835,
            "x1": 2.657191316843084,
            "xref": "x",
            "y0": 9.396587077746487,
            "y1": 9.796587077746485,
            "yref": "y"
           },
           {
            "fillcolor": "rgba(0, 0, 228, 0.5)",
            "line": {
             "color": "rgba(0, 0, 228, 0.5)"
            },
            "type": "circle",
            "x0": 4.06447018598231,
            "x1": 4.46447018598231,
            "xref": "x",
            "y0": 11.171010200667418,
            "y1": 11.571010200667416,
            "yref": "y"
           },
           {
            "fillcolor": "rgba(0, 0, 205, 0.5)",
            "line": {
             "color": "rgba(0, 0, 205, 0.5)"
            },
            "type": "circle",
            "x0": 2.76372831285788,
            "x1": 3.1637283128578804,
            "xref": "x",
            "y0": 11.465560654175682,
            "y1": 11.865560654175681,
            "yref": "y"
           },
           {
            "fillcolor": "rgba(0, 0, 137, 0.5)",
            "line": {
             "color": "rgba(0, 0, 137, 0.5)"
            },
            "type": "circle",
            "x0": 5.005152336732559,
            "x1": 5.405152336732559,
            "xref": "x",
            "y0": 11.80939201215353,
            "y1": 12.209392012153529,
            "yref": "y"
           },
           {
            "fillcolor": "rgba(0, 0, 128, 0.5)",
            "line": {
             "color": "rgba(0, 0, 128, 0.5)"
            },
            "type": "circle",
            "x0": 6.172052379113763,
            "x1": 6.572052379113764,
            "xref": "x",
            "y0": 12.052861544019148,
            "y1": 12.452861544019147,
            "yref": "y"
           },
           {
            "fillcolor": "rgba(119, 255, 128, 0.5)",
            "line": {
             "color": "rgba(119, 255, 128, 0.5)"
            },
            "type": "circle",
            "x0": 2.9102736157642703,
            "x1": 3.3102736157642707,
            "xref": "x",
            "y0": 10.20670006316253,
            "y1": 10.60670006316253,
            "yref": "y"
           },
           {
            "fillcolor": "rgba(0, 0, 209, 0.5)",
            "line": {
             "color": "rgba(0, 0, 209, 0.5)"
            },
            "type": "circle",
            "x0": 3.8564332966423427,
            "x1": 4.256433296642343,
            "xref": "x",
            "y0": 11.826748142020044,
            "y1": 12.226748142020043,
            "yref": "y"
           },
           {
            "fillcolor": "rgba(0, 0, 218, 0.5)",
            "line": {
             "color": "rgba(0, 0, 218, 0.5)"
            },
            "type": "circle",
            "x0": 2.3144058681949544,
            "x1": 2.7144058681949548,
            "xref": "x",
            "y0": 10.487426977566683,
            "y1": 10.887426977566681,
            "yref": "y"
           },
           {
            "line": {
             "color": "black",
             "width": 3
            },
            "type": "line",
            "x0": 3.308656044066112,
            "x1": 3.503608361939051,
            "y0": 11.117176833392604,
            "y1": 11.161826511509792
           },
           {
            "line": {
             "color": "white",
             "width": 3
            },
            "type": "line",
            "x0": 1.948901365877937,
            "x1": 1.9656768239780131,
            "y0": 10.95653303352023,
            "y1": 11.15582825174067
           },
           {
            "line": {
             "color": "white",
             "width": 3
            },
            "type": "line",
            "x0": 2.4571913168430837,
            "x1": 2.459609807320956,
            "y0": 9.596587077746486,
            "y1": 9.796572454471407
           },
           {
            "line": {
             "color": "white",
             "width": 3
            },
            "type": "line",
            "x0": 4.26447018598231,
            "x1": 4.453717719546997,
            "y0": 11.371010200667417,
            "y1": 11.435704644321277
           },
           {
            "line": {
             "color": "white",
             "width": 3
            },
            "type": "line",
            "x0": 2.96372831285788,
            "x1": 3.147642572025826,
            "y0": 11.665560654175682,
            "y1": 11.74414529182647
           },
           {
            "line": {
             "color": "white",
             "width": 3
            },
            "type": "line",
            "x0": 5.205152336732559,
            "x1": 5.399947346428211,
            "y0": 12.00939201215353,
            "y1": 12.054723063295889
           },
           {
            "line": {
             "color": "white",
             "width": 3
            },
            "type": "line",
            "x0": 6.3720523791137635,
            "x1": 6.568057436264044,
            "y0": 12.252861544019147,
            "y1": 12.292636128511196
           },
           {
            "line": {
             "color": "black",
             "width": 3
            },
            "type": "line",
            "x0": 3.1102736157642705,
            "x1": 3.079077486004448,
            "y0": 10.40670006316253,
            "y1": 10.604252085394672
           },
           {
            "line": {
             "color": "white",
             "width": 3
            },
            "type": "line",
            "x0": 4.056433296642343,
            "x1": 4.24842026784059,
            "y0": 12.026748142020043,
            "y1": 12.082792792880973
           },
           {
            "line": {
             "color": "white",
             "width": 3
            },
            "type": "line",
            "x0": 2.5144058681949546,
            "x1": 2.523215188283705,
            "y0": 10.687426977566682,
            "y1": 10.887232873074232
           }
          ],
          "title": {
           "text": "<b>Percentage using the shortest path: 0%  |  Number of Agents: 10</b>",
           "x": 0.5
          }
         },
         "name": "350"
        },
        {
         "data": [
          {
           "hoverinfo": "name",
           "line": {
            "color": "grey"
           },
           "mode": "lines",
           "name": "Exterior",
           "showlegend": false,
           "x": [
            10.1,
            10.1,
            15.0,
            15.0,
            13.6,
            13.6,
            15.0,
            15.0,
            13.6,
            13.6,
            15.0,
            15.0,
            10.1,
            10.1,
            9.9,
            9.9,
            5.1,
            5.1,
            4.9,
            4.9,
            0.0,
            0.0,
            1.5,
            1.5,
            0.0,
            0.0,
            1.5,
            1.5,
            0.0,
            0.0,
            4.9,
            4.9,
            5.1,
            5.1,
            9.9,
            9.9,
            10.1
           ],
           "y": [
            1.5,
            0.0,
            0.0,
            4.9,
            4.9,
            5.1,
            5.1,
            9.9,
            9.9,
            10.1,
            10.1,
            15.0,
            15.0,
            13.6,
            13.6,
            15.0,
            15.0,
            13.6,
            13.6,
            15.0,
            15.0,
            10.1,
            10.1,
            9.9,
            9.9,
            5.1,
            5.1,
            4.9,
            4.9,
            0.0,
            0.0,
            1.5,
            1.5,
            0.0,
            0.0,
            1.5,
            1.5
           ],
           "type": "scatter"
          },
          {
           "hoverinfo": "name",
           "line": {
            "color": "grey"
           },
           "mode": "lines",
           "name": "Obstacle",
           "showlegend": false,
           "x": [
            10.1,
            11.5,
            11.5,
            10.1,
            10.1,
            9.9,
            9.9,
            8.6,
            8.6,
            9.9,
            9.9,
            10.1,
            10.1
           ],
           "y": [
            5.1,
            5.1,
            4.9,
            4.9,
            3.6,
            3.6,
            4.9,
            4.9,
            5.1,
            5.1,
            6.5,
            6.5,
            5.1
           ],
           "type": "scatter"
          },
          {
           "hoverinfo": "name",
           "line": {
            "color": "grey"
           },
           "mode": "lines",
           "name": "Obstacle",
           "showlegend": false,
           "x": [
            10.1,
            11.5,
            11.5,
            10.1,
            10.1,
            9.9,
            9.9,
            8.6,
            8.6,
            9.9,
            9.9,
            10.1,
            10.1
           ],
           "y": [
            10.1,
            10.1,
            9.9,
            9.9,
            8.6,
            8.6,
            9.9,
            9.9,
            10.1,
            10.1,
            11.5,
            11.5,
            10.1
           ],
           "type": "scatter"
          },
          {
           "hoverinfo": "name",
           "line": {
            "color": "grey"
           },
           "mode": "lines",
           "name": "Obstacle",
           "showlegend": false,
           "x": [
            5.1,
            6.4,
            6.4,
            5.1,
            5.1,
            4.9,
            4.9,
            3.6,
            3.6,
            4.9,
            4.9,
            5.1,
            5.1
           ],
           "y": [
            5.1,
            5.1,
            4.9,
            4.9,
            3.6,
            3.6,
            4.9,
            4.9,
            5.1,
            5.1,
            6.5,
            6.5,
            5.1
           ],
           "type": "scatter"
          },
          {
           "hoverinfo": "name",
           "line": {
            "color": "grey"
           },
           "mode": "lines",
           "name": "Obstacle",
           "showlegend": false,
           "x": [
            5.1,
            6.4,
            6.4,
            5.1,
            5.1,
            4.9,
            4.9,
            3.6,
            3.6,
            4.9,
            4.9,
            5.1,
            5.1
           ],
           "y": [
            10.1,
            10.1,
            9.9,
            9.9,
            8.6,
            8.6,
            9.9,
            9.9,
            10.1,
            10.1,
            11.5,
            11.5,
            10.1
           ],
           "type": "scatter"
          },
          {
           "fill": "toself",
           "fillcolor": "rgba(200, 0, 0, 0.00)",
           "hoverinfo": "name",
           "line": {
            "width": 0
           },
           "mode": "lines",
           "name": "Risk Area",
           "showlegend": false,
           "x": [
            0.0,
            5.0,
            5.0,
            0.0,
            0.0
           ],
           "y": [
            0.0,
            0.0,
            5.0,
            5.0,
            0.0
           ],
           "type": "scatter"
          },
          {
           "fill": "toself",
           "fillcolor": "rgba(200, 0, 0, 0.60)",
           "hoverinfo": "name",
           "line": {
            "width": 0
           },
           "mode": "lines",
           "name": "Risk Area",
           "showlegend": false,
           "x": [
            5.0,
            10.0,
            10.0,
            5.0,
            5.0
           ],
           "y": [
            0.0,
            0.0,
            5.0,
            5.0,
            0.0
           ],
           "type": "scatter"
          },
          {
           "fill": "toself",
           "fillcolor": "rgba(200, 0, 0, 0.00)",
           "hoverinfo": "name",
           "line": {
            "width": 0
           },
           "mode": "lines",
           "name": "Risk Area",
           "showlegend": false,
           "x": [
            10.0,
            15.0,
            15.0,
            10.0,
            10.0
           ],
           "y": [
            0.0,
            0.0,
            5.0,
            5.0,
            0.0
           ],
           "type": "scatter"
          },
          {
           "fill": "toself",
           "fillcolor": "rgba(200, 0, 0, 0.60)",
           "hoverinfo": "name",
           "line": {
            "width": 0
           },
           "mode": "lines",
           "name": "Risk Area",
           "showlegend": false,
           "x": [
            10.0,
            15.0,
            15.0,
            10.0,
            10.0
           ],
           "y": [
            5.0,
            5.0,
            10.0,
            10.0,
            5.0
           ],
           "type": "scatter"
          },
          {
           "fill": "toself",
           "fillcolor": "rgba(200, 0, 0, 0.70)",
           "hoverinfo": "name",
           "line": {
            "width": 0
           },
           "mode": "lines",
           "name": "Risk Area",
           "showlegend": false,
           "x": [
            5.0,
            10.0,
            10.0,
            5.0,
            5.0
           ],
           "y": [
            5.0,
            5.0,
            10.0,
            10.0,
            5.0
           ],
           "type": "scatter"
          },
          {
           "fill": "toself",
           "fillcolor": "rgba(200, 0, 0, 0.10)",
           "hoverinfo": "name",
           "line": {
            "width": 0
           },
           "mode": "lines",
           "name": "Risk Area",
           "showlegend": false,
           "x": [
            0.0,
            5.0,
            5.0,
            0.0,
            0.0
           ],
           "y": [
            5.0,
            5.0,
            10.0,
            10.0,
            5.0
           ],
           "type": "scatter"
          },
          {
           "fill": "toself",
           "fillcolor": "rgba(200, 0, 0, 0.00)",
           "hoverinfo": "name",
           "line": {
            "width": 0
           },
           "mode": "lines",
           "name": "Risk Area",
           "showlegend": false,
           "x": [
            0.0,
            5.0,
            5.0,
            0.0,
            0.0
           ],
           "y": [
            10.0,
            10.0,
            15.0,
            15.0,
            10.0
           ],
           "type": "scatter"
          },
          {
           "fill": "toself",
           "fillcolor": "rgba(200, 0, 0, 0.00)",
           "hoverinfo": "name",
           "line": {
            "width": 0
           },
           "mode": "lines",
           "name": "Risk Area",
           "showlegend": false,
           "x": [
            5.0,
            10.0,
            10.0,
            5.0,
            5.0
           ],
           "y": [
            10.0,
            10.0,
            15.0,
            15.0,
            10.0
           ],
           "type": "scatter"
          },
          {
           "fill": "toself",
           "fillcolor": "rgba(200, 0, 0, 0.00)",
           "hoverinfo": "name",
           "line": {
            "width": 0
           },
           "mode": "lines",
           "name": "Risk Area",
           "showlegend": false,
           "x": [
            10.0,
            15.0,
            15.0,
            10.0,
            10.0
           ],
           "y": [
            10.0,
            10.0,
            15.0,
            15.0,
            10.0
           ],
           "type": "scatter"
          },
          {
           "hoverinfo": "text",
           "marker": {
            "opacity": 1,
            "size": 1
           },
           "mode": "markers",
           "showlegend": false,
           "text": [
            "ID: 61, Pos(4.24,11.38)"
           ],
           "x": [
            4.235386660417017
           ],
           "y": [
            11.37945560301704
           ],
           "type": "scatter"
          },
          {
           "hoverinfo": "text",
           "marker": {
            "opacity": 1,
            "size": 1
           },
           "mode": "markers",
           "showlegend": false,
           "text": [
            "ID: 62, Pos(3.15,11.86)"
           ],
           "x": [
            3.152022401154816
           ],
           "y": [
            11.860617225328392
           ],
           "type": "scatter"
          },
          {
           "hoverinfo": "text",
           "marker": {
            "opacity": 1,
            "size": 1
           },
           "mode": "markers",
           "showlegend": false,
           "text": [
            "ID: 63, Pos(2.45,10.57)"
           ],
           "x": [
            2.445987374647305
           ],
           "y": [
            10.566450660170366
           ],
           "type": "scatter"
          },
          {
           "hoverinfo": "text",
           "marker": {
            "opacity": 1,
            "size": 1
           },
           "mode": "markers",
           "showlegend": false,
           "text": [
            "ID: 64, Pos(4.87,11.87)"
           ],
           "x": [
            4.869969186258527
           ],
           "y": [
            11.865291760973232
           ],
           "type": "scatter"
          },
          {
           "hoverinfo": "text",
           "marker": {
            "opacity": 1,
            "size": 1
           },
           "mode": "markers",
           "showlegend": false,
           "text": [
            "ID: 65, Pos(4.40,12.20)"
           ],
           "x": [
            4.402997383022826
           ],
           "y": [
            12.202775061908879
           ],
           "type": "scatter"
          },
          {
           "hoverinfo": "text",
           "marker": {
            "opacity": 1,
            "size": 1
           },
           "mode": "markers",
           "showlegend": false,
           "text": [
            "ID: 66, Pos(6.76,12.34)"
           ],
           "x": [
            6.764544273924344
           ],
           "y": [
            12.33536776603929
           ],
           "type": "scatter"
          },
          {
           "hoverinfo": "text",
           "marker": {
            "opacity": 1,
            "size": 1
           },
           "mode": "markers",
           "showlegend": false,
           "text": [
            "ID: 67, Pos(7.94,12.57)"
           ],
           "x": [
            7.940094758051359
           ],
           "y": [
            12.571048749677278
           ],
           "type": "scatter"
          },
          {
           "hoverinfo": "text",
           "marker": {
            "opacity": 1,
            "size": 1
           },
           "mode": "markers",
           "showlegend": false,
           "text": [
            "ID: 68, Pos(3.47,11.24)"
           ],
           "x": [
            3.469940213628017
           ],
           "y": [
            11.23959466923386
           ],
           "type": "scatter"
          },
          {
           "hoverinfo": "text",
           "marker": {
            "opacity": 1,
            "size": 1
           },
           "mode": "markers",
           "showlegend": false,
           "text": [
            "ID: 69, Pos(5.58,12.38)"
           ],
           "x": [
            5.5792562889839035
           ],
           "y": [
            12.376134496723251
           ],
           "type": "scatter"
          },
          {
           "hoverinfo": "text",
           "marker": {
            "opacity": 1,
            "size": 1
           },
           "mode": "markers",
           "showlegend": false,
           "text": [
            "ID: 70, Pos(2.82,11.07)"
           ],
           "x": [
            2.823005073026447
           ],
           "y": [
            11.073188134489152
           ],
           "type": "scatter"
          }
         ],
         "layout": {
          "shapes": [
           {
            "fillcolor": "rgba(173, 255, 73, 0.5)",
            "line": {
             "color": "rgba(173, 255, 73, 0.5)"
            },
            "type": "circle",
            "x0": 4.035386660417017,
            "x1": 4.435386660417017,
            "xref": "x",
            "y0": 11.179455603017042,
            "y1": 11.57945560301704,
            "yref": "y"
           },
           {
            "fillcolor": "rgba(0, 0, 128, 0.5)",
            "line": {
             "color": "rgba(0, 0, 128, 0.5)"
            },
            "type": "circle",
            "x0": 2.952022401154816,
            "x1": 3.3520224011548163,
            "xref": "x",
            "y0": 11.660617225328393,
            "y1": 12.060617225328391,
            "yref": "y"
           },
           {
            "fillcolor": "rgba(0, 104, 255, 0.5)",
            "line": {
             "color": "rgba(0, 104, 255, 0.5)"
            },
            "type": "circle",
            "x0": 2.2459873746473047,
            "x1": 2.645987374647305,
            "xref": "x",
            "y0": 10.366450660170367,
            "y1": 10.766450660170365,
            "yref": "y"
           },
           {
            "fillcolor": "rgba(90, 255, 157, 0.5)",
            "line": {
             "color": "rgba(90, 255, 157, 0.5)"
            },
            "type": "circle",
            "x0": 4.669969186258527,
            "x1": 5.069969186258527,
            "xref": "x",
            "y0": 11.665291760973233,
            "y1": 12.065291760973231,
            "yref": "y"
           },
           {
            "fillcolor": "rgba(0, 0, 132, 0.5)",
            "line": {
             "color": "rgba(0, 0, 132, 0.5)"
            },
            "type": "circle",
            "x0": 4.202997383022826,
            "x1": 4.602997383022826,
            "xref": "x",
            "y0": 12.00277506190888,
            "y1": 12.402775061908878,
            "yref": "y"
           },
           {
            "fillcolor": "rgba(0, 0, 128, 0.5)",
            "line": {
             "color": "rgba(0, 0, 128, 0.5)"
            },
            "type": "circle",
            "x0": 6.564544273924344,
            "x1": 6.964544273924345,
            "xref": "x",
            "y0": 12.135367766039291,
            "y1": 12.53536776603929,
            "yref": "y"
           },
           {
            "fillcolor": "rgba(0, 0, 128, 0.5)",
            "line": {
             "color": "rgba(0, 0, 128, 0.5)"
            },
            "type": "circle",
            "x0": 7.740094758051359,
            "x1": 8.140094758051358,
            "xref": "x",
            "y0": 12.371048749677279,
            "y1": 12.771048749677277,
            "yref": "y"
           },
           {
            "fillcolor": "rgba(196, 255, 51, 0.5)",
            "line": {
             "color": "rgba(196, 255, 51, 0.5)"
            },
            "type": "circle",
            "x0": 3.2699402136280167,
            "x1": 3.669940213628017,
            "xref": "x",
            "y0": 11.03959466923386,
            "y1": 11.439594669233859,
            "yref": "y"
           },
           {
            "fillcolor": "rgba(0, 0, 146, 0.5)",
            "line": {
             "color": "rgba(0, 0, 146, 0.5)"
            },
            "type": "circle",
            "x0": 5.379256288983903,
            "x1": 5.779256288983904,
            "xref": "x",
            "y0": 12.176134496723252,
            "y1": 12.57613449672325,
            "yref": "y"
           },
           {
            "fillcolor": "rgba(255, 156, 0, 0.5)",
            "line": {
             "color": "rgba(255, 156, 0, 0.5)"
            },
            "type": "circle",
            "x0": 2.6230050730264467,
            "x1": 3.023005073026447,
            "xref": "x",
            "y0": 10.873188134489153,
            "y1": 11.273188134489152,
            "yref": "y"
           },
           {
            "line": {
             "color": "black",
             "width": 3
            },
            "type": "line",
            "x0": 4.235386660417017,
            "x1": 4.419887288240938,
            "y0": 11.37945560301704,
            "y1": 11.45665351965071
           },
           {
            "line": {
             "color": "white",
             "width": 3
            },
            "type": "line",
            "x0": 3.152022401154816,
            "x1": 3.3431075875506413,
            "y0": 11.860617225328392,
            "y1": 11.919663406746606
           },
           {
            "line": {
             "color": "white",
             "width": 3
            },
            "type": "line",
            "x0": 2.445987374647305,
            "x1": 2.4164377456131745,
            "y0": 10.566450660170366,
            "y1": 10.764255663706539
           },
           {
            "line": {
             "color": "black",
             "width": 3
            },
            "type": "line",
            "x0": 4.869969186258527,
            "x1": 5.061264103950406,
            "y0": 11.865291760973232,
            "y1": 11.923654886876983
           },
           {
            "line": {
             "color": "white",
             "width": 3
            },
            "type": "line",
            "x0": 4.402997383022826,
            "x1": 4.573969411373371,
            "y0": 12.202775061908879,
            "y1": 12.30654676094913
           },
           {
            "line": {
             "color": "white",
             "width": 3
            },
            "type": "line",
            "x0": 6.764544273924344,
            "x1": 6.960574385447359,
            "y0": 12.33536776603929,
            "y1": 12.375018685023278
           },
           {
            "line": {
             "color": "white",
             "width": 3
            },
            "type": "line",
            "x0": 7.940094758051359,
            "x1": 8.136100104103765,
            "y0": 12.571048749677278,
            "y1": 12.610821910462867
           },
           {
            "line": {
             "color": "black",
             "width": 3
            },
            "type": "line",
            "x0": 3.469940213628017,
            "x1": 3.6661282657537924,
            "y0": 11.23959466923386,
            "y1": 11.2784565812184
           },
           {
            "line": {
             "color": "white",
             "width": 3
            },
            "type": "line",
            "x0": 5.5792562889839035,
            "x1": 5.778667095762396,
            "y0": 12.376134496723251,
            "y1": 12.391474970638708
           },
           {
            "line": {
             "color": "black",
             "width": 3
            },
            "type": "line",
            "x0": 2.823005073026447,
            "x1": 3.0047729798931724,
            "y0": 11.073188134489152,
            "y1": 11.156617314236344
           }
          ],
          "title": {
           "text": "<b>Percentage using the shortest path: 0%  |  Number of Agents: 10</b>",
           "x": 0.5
          }
         },
         "name": "400"
        },
        {
         "data": [
          {
           "hoverinfo": "name",
           "line": {
            "color": "grey"
           },
           "mode": "lines",
           "name": "Exterior",
           "showlegend": false,
           "x": [
            10.1,
            10.1,
            15.0,
            15.0,
            13.6,
            13.6,
            15.0,
            15.0,
            13.6,
            13.6,
            15.0,
            15.0,
            10.1,
            10.1,
            9.9,
            9.9,
            5.1,
            5.1,
            4.9,
            4.9,
            0.0,
            0.0,
            1.5,
            1.5,
            0.0,
            0.0,
            1.5,
            1.5,
            0.0,
            0.0,
            4.9,
            4.9,
            5.1,
            5.1,
            9.9,
            9.9,
            10.1
           ],
           "y": [
            1.5,
            0.0,
            0.0,
            4.9,
            4.9,
            5.1,
            5.1,
            9.9,
            9.9,
            10.1,
            10.1,
            15.0,
            15.0,
            13.6,
            13.6,
            15.0,
            15.0,
            13.6,
            13.6,
            15.0,
            15.0,
            10.1,
            10.1,
            9.9,
            9.9,
            5.1,
            5.1,
            4.9,
            4.9,
            0.0,
            0.0,
            1.5,
            1.5,
            0.0,
            0.0,
            1.5,
            1.5
           ],
           "type": "scatter"
          },
          {
           "hoverinfo": "name",
           "line": {
            "color": "grey"
           },
           "mode": "lines",
           "name": "Obstacle",
           "showlegend": false,
           "x": [
            10.1,
            11.5,
            11.5,
            10.1,
            10.1,
            9.9,
            9.9,
            8.6,
            8.6,
            9.9,
            9.9,
            10.1,
            10.1
           ],
           "y": [
            5.1,
            5.1,
            4.9,
            4.9,
            3.6,
            3.6,
            4.9,
            4.9,
            5.1,
            5.1,
            6.5,
            6.5,
            5.1
           ],
           "type": "scatter"
          },
          {
           "hoverinfo": "name",
           "line": {
            "color": "grey"
           },
           "mode": "lines",
           "name": "Obstacle",
           "showlegend": false,
           "x": [
            10.1,
            11.5,
            11.5,
            10.1,
            10.1,
            9.9,
            9.9,
            8.6,
            8.6,
            9.9,
            9.9,
            10.1,
            10.1
           ],
           "y": [
            10.1,
            10.1,
            9.9,
            9.9,
            8.6,
            8.6,
            9.9,
            9.9,
            10.1,
            10.1,
            11.5,
            11.5,
            10.1
           ],
           "type": "scatter"
          },
          {
           "hoverinfo": "name",
           "line": {
            "color": "grey"
           },
           "mode": "lines",
           "name": "Obstacle",
           "showlegend": false,
           "x": [
            5.1,
            6.4,
            6.4,
            5.1,
            5.1,
            4.9,
            4.9,
            3.6,
            3.6,
            4.9,
            4.9,
            5.1,
            5.1
           ],
           "y": [
            5.1,
            5.1,
            4.9,
            4.9,
            3.6,
            3.6,
            4.9,
            4.9,
            5.1,
            5.1,
            6.5,
            6.5,
            5.1
           ],
           "type": "scatter"
          },
          {
           "hoverinfo": "name",
           "line": {
            "color": "grey"
           },
           "mode": "lines",
           "name": "Obstacle",
           "showlegend": false,
           "x": [
            5.1,
            6.4,
            6.4,
            5.1,
            5.1,
            4.9,
            4.9,
            3.6,
            3.6,
            4.9,
            4.9,
            5.1,
            5.1
           ],
           "y": [
            10.1,
            10.1,
            9.9,
            9.9,
            8.6,
            8.6,
            9.9,
            9.9,
            10.1,
            10.1,
            11.5,
            11.5,
            10.1
           ],
           "type": "scatter"
          },
          {
           "fill": "toself",
           "fillcolor": "rgba(200, 0, 0, 0.20)",
           "hoverinfo": "name",
           "line": {
            "width": 0
           },
           "mode": "lines",
           "name": "Risk Area",
           "showlegend": false,
           "x": [
            0.0,
            5.0,
            5.0,
            0.0,
            0.0
           ],
           "y": [
            0.0,
            0.0,
            5.0,
            5.0,
            0.0
           ],
           "type": "scatter"
          },
          {
           "fill": "toself",
           "fillcolor": "rgba(200, 0, 0, 0.60)",
           "hoverinfo": "name",
           "line": {
            "width": 0
           },
           "mode": "lines",
           "name": "Risk Area",
           "showlegend": false,
           "x": [
            5.0,
            10.0,
            10.0,
            5.0,
            5.0
           ],
           "y": [
            0.0,
            0.0,
            5.0,
            5.0,
            0.0
           ],
           "type": "scatter"
          },
          {
           "fill": "toself",
           "fillcolor": "rgba(200, 0, 0, 0.00)",
           "hoverinfo": "name",
           "line": {
            "width": 0
           },
           "mode": "lines",
           "name": "Risk Area",
           "showlegend": false,
           "x": [
            10.0,
            15.0,
            15.0,
            10.0,
            10.0
           ],
           "y": [
            0.0,
            0.0,
            5.0,
            5.0,
            0.0
           ],
           "type": "scatter"
          },
          {
           "fill": "toself",
           "fillcolor": "rgba(200, 0, 0, 0.60)",
           "hoverinfo": "name",
           "line": {
            "width": 0
           },
           "mode": "lines",
           "name": "Risk Area",
           "showlegend": false,
           "x": [
            10.0,
            15.0,
            15.0,
            10.0,
            10.0
           ],
           "y": [
            5.0,
            5.0,
            10.0,
            10.0,
            5.0
           ],
           "type": "scatter"
          },
          {
           "fill": "toself",
           "fillcolor": "rgba(200, 0, 0, 0.70)",
           "hoverinfo": "name",
           "line": {
            "width": 0
           },
           "mode": "lines",
           "name": "Risk Area",
           "showlegend": false,
           "x": [
            5.0,
            10.0,
            10.0,
            5.0,
            5.0
           ],
           "y": [
            5.0,
            5.0,
            10.0,
            10.0,
            5.0
           ],
           "type": "scatter"
          },
          {
           "fill": "toself",
           "fillcolor": "rgba(200, 0, 0, 0.10)",
           "hoverinfo": "name",
           "line": {
            "width": 0
           },
           "mode": "lines",
           "name": "Risk Area",
           "showlegend": false,
           "x": [
            0.0,
            5.0,
            5.0,
            0.0,
            0.0
           ],
           "y": [
            5.0,
            5.0,
            10.0,
            10.0,
            5.0
           ],
           "type": "scatter"
          },
          {
           "fill": "toself",
           "fillcolor": "rgba(200, 0, 0, 0.00)",
           "hoverinfo": "name",
           "line": {
            "width": 0
           },
           "mode": "lines",
           "name": "Risk Area",
           "showlegend": false,
           "x": [
            0.0,
            5.0,
            5.0,
            0.0,
            0.0
           ],
           "y": [
            10.0,
            10.0,
            15.0,
            15.0,
            10.0
           ],
           "type": "scatter"
          },
          {
           "fill": "toself",
           "fillcolor": "rgba(200, 0, 0, 0.00)",
           "hoverinfo": "name",
           "line": {
            "width": 0
           },
           "mode": "lines",
           "name": "Risk Area",
           "showlegend": false,
           "x": [
            5.0,
            10.0,
            10.0,
            5.0,
            5.0
           ],
           "y": [
            10.0,
            10.0,
            15.0,
            15.0,
            10.0
           ],
           "type": "scatter"
          },
          {
           "fill": "toself",
           "fillcolor": "rgba(200, 0, 0, 0.00)",
           "hoverinfo": "name",
           "line": {
            "width": 0
           },
           "mode": "lines",
           "name": "Risk Area",
           "showlegend": false,
           "x": [
            10.0,
            15.0,
            15.0,
            10.0,
            10.0
           ],
           "y": [
            10.0,
            10.0,
            15.0,
            15.0,
            10.0
           ],
           "type": "scatter"
          },
          {
           "hoverinfo": "text",
           "marker": {
            "opacity": 1,
            "size": 1
           },
           "mode": "markers",
           "showlegend": false,
           "text": [
            "ID: 61, Pos(5.16,11.93)"
           ],
           "x": [
            5.16178312536572
           ],
           "y": [
            11.931245552672403
           ],
           "type": "scatter"
          },
          {
           "hoverinfo": "text",
           "marker": {
            "opacity": 1,
            "size": 1
           },
           "mode": "markers",
           "showlegend": false,
           "text": [
            "ID: 62, Pos(4.68,12.33)"
           ],
           "x": [
            4.679392894031097
           ],
           "y": [
            12.328499482883084
           ],
           "type": "scatter"
          },
          {
           "hoverinfo": "text",
           "marker": {
            "opacity": 1,
            "size": 1
           },
           "mode": "markers",
           "showlegend": false,
           "text": [
            "ID: 63, Pos(2.75,11.13)"
           ],
           "x": [
            2.752719716137008
           ],
           "y": [
            11.134047386267001
           ],
           "type": "scatter"
          },
          {
           "hoverinfo": "text",
           "marker": {
            "opacity": 1,
            "size": 1
           },
           "mode": "markers",
           "showlegend": false,
           "text": [
            "ID: 64, Pos(6.31,12.04)"
           ],
           "x": [
            6.307683936721535
           ],
           "y": [
            12.039835536168248
           ],
           "type": "scatter"
          },
          {
           "hoverinfo": "text",
           "marker": {
            "opacity": 1,
            "size": 1
           },
           "mode": "markers",
           "showlegend": false,
           "text": [
            "ID: 65, Pos(5.93,12.60)"
           ],
           "x": [
            5.934725366171918
           ],
           "y": [
            12.600572956559928
           ],
           "type": "scatter"
          },
          {
           "hoverinfo": "text",
           "marker": {
            "opacity": 1,
            "size": 1
           },
           "mode": "markers",
           "showlegend": false,
           "text": [
            "ID: 66, Pos(8.33,12.65)"
           ],
           "x": [
            8.33186233461508
           ],
           "y": [
            12.652515980007403
           ],
           "type": "scatter"
          },
          {
           "hoverinfo": "text",
           "marker": {
            "opacity": 1,
            "size": 1
           },
           "mode": "markers",
           "showlegend": false,
           "text": [
            "ID: 67, Pos(9.51,12.89)"
           ],
           "x": [
            9.508137817783645
           ],
           "y": [
            12.889232600246313
           ],
           "type": "scatter"
          },
          {
           "hoverinfo": "text",
           "marker": {
            "opacity": 1,
            "size": 1
           },
           "mode": "markers",
           "showlegend": false,
           "text": [
            "ID: 68, Pos(4.31,11.47)"
           ],
           "x": [
            4.3108693263181666
           ],
           "y": [
            11.47313819534427
           ],
           "type": "scatter"
          },
          {
           "hoverinfo": "text",
           "marker": {
            "opacity": 1,
            "size": 1
           },
           "mode": "markers",
           "showlegend": false,
           "text": [
            "ID: 69, Pos(7.14,12.61)"
           ],
           "x": [
            7.138946604838431
           ],
           "y": [
            12.60509221522232
           ],
           "type": "scatter"
          },
          {
           "hoverinfo": "text",
           "marker": {
            "opacity": 1,
            "size": 1
           },
           "mode": "markers",
           "showlegend": false,
           "text": [
            "ID: 70, Pos(3.49,11.28)"
           ],
           "x": [
            3.49138221396939
           ],
           "y": [
            11.28452935889344
           ],
           "type": "scatter"
          }
         ],
         "layout": {
          "shapes": [
           {
            "fillcolor": "rgba(0, 0, 205, 0.5)",
            "line": {
             "color": "rgba(0, 0, 205, 0.5)"
            },
            "type": "circle",
            "x0": 4.96178312536572,
            "x1": 5.36178312536572,
            "xref": "x",
            "y0": 11.731245552672403,
            "y1": 12.131245552672402,
            "yref": "y"
           },
           {
            "fillcolor": "rgba(0, 0, 128, 0.5)",
            "line": {
             "color": "rgba(0, 0, 128, 0.5)"
            },
            "type": "circle",
            "x0": 4.479392894031097,
            "x1": 4.879392894031097,
            "xref": "x",
            "y0": 12.128499482883084,
            "y1": 12.528499482883083,
            "yref": "y"
           },
           {
            "fillcolor": "rgba(225, 255, 22, 0.5)",
            "line": {
             "color": "rgba(225, 255, 22, 0.5)"
            },
            "type": "circle",
            "x0": 2.5527197161370077,
            "x1": 2.952719716137008,
            "xref": "x",
            "y0": 10.934047386267002,
            "y1": 11.334047386267,
            "yref": "y"
           },
           {
            "fillcolor": "rgba(0, 0, 128, 0.5)",
            "line": {
             "color": "rgba(0, 0, 128, 0.5)"
            },
            "type": "circle",
            "x0": 6.107683936721535,
            "x1": 6.507683936721535,
            "xref": "x",
            "y0": 11.839835536168248,
            "y1": 12.239835536168247,
            "yref": "y"
           },
           {
            "fillcolor": "rgba(0, 0, 132, 0.5)",
            "line": {
             "color": "rgba(0, 0, 132, 0.5)"
            },
            "type": "circle",
            "x0": 5.734725366171918,
            "x1": 6.134725366171918,
            "xref": "x",
            "y0": 12.400572956559929,
            "y1": 12.800572956559927,
            "yref": "y"
           },
           {
            "fillcolor": "rgba(0, 0, 128, 0.5)",
            "line": {
             "color": "rgba(0, 0, 128, 0.5)"
            },
            "type": "circle",
            "x0": 8.13186233461508,
            "x1": 8.531862334615079,
            "xref": "x",
            "y0": 12.452515980007403,
            "y1": 12.852515980007402,
            "yref": "y"
           },
           {
            "fillcolor": "rgba(0, 0, 128, 0.5)",
            "line": {
             "color": "rgba(0, 0, 128, 0.5)"
            },
            "type": "circle",
            "x0": 9.308137817783646,
            "x1": 9.708137817783644,
            "xref": "x",
            "y0": 12.689232600246314,
            "y1": 13.089232600246312,
            "yref": "y"
           },
           {
            "fillcolor": "rgba(0, 204, 255, 0.5)",
            "line": {
             "color": "rgba(0, 204, 255, 0.5)"
            },
            "type": "circle",
            "x0": 4.110869326318166,
            "x1": 4.510869326318167,
            "xref": "x",
            "y0": 11.27313819534427,
            "y1": 11.673138195344269,
            "yref": "y"
           },
           {
            "fillcolor": "rgba(0, 0, 137, 0.5)",
            "line": {
             "color": "rgba(0, 0, 137, 0.5)"
            },
            "type": "circle",
            "x0": 6.9389466048384305,
            "x1": 7.338946604838431,
            "xref": "x",
            "y0": 12.405092215222322,
            "y1": 12.80509221522232,
            "yref": "y"
           },
           {
            "fillcolor": "rgba(125, 255, 122, 0.5)",
            "line": {
             "color": "rgba(125, 255, 122, 0.5)"
            },
            "type": "circle",
            "x0": 3.29138221396939,
            "x1": 3.69138221396939,
            "xref": "x",
            "y0": 11.084529358893441,
            "y1": 11.48452935889344,
            "yref": "y"
           },
           {
            "line": {
             "color": "white",
             "width": 3
            },
            "type": "line",
            "x0": 5.16178312536572,
            "x1": 5.359935925350477,
            "y0": 11.931245552672403,
            "y1": 11.958365063328033
           },
           {
            "line": {
             "color": "white",
             "width": 3
            },
            "type": "line",
            "x0": 4.679392894031097,
            "x1": 4.870161297231028,
            "y0": 12.328499482883084,
            "y1": 12.388561253923811
           },
           {
            "line": {
             "color": "black",
             "width": 3
            },
            "type": "line",
            "x0": 2.752719716137008,
            "x1": 2.9445558007676,
            "y0": 11.134047386267001,
            "y1": 11.190606352254758
           },
           {
            "line": {
             "color": "white",
             "width": 3
            },
            "type": "line",
            "x0": 6.307683936721535,
            "x1": 6.507124571342263,
            "y0": 12.039835536168248,
            "y1": 12.054783220339415
           },
           {
            "line": {
             "color": "white",
             "width": 3
            },
            "type": "line",
            "x0": 5.934725366171918,
            "x1": 6.133937753863345,
            "y0": 12.600572956559928,
            "y1": 12.618304978167199
           },
           {
            "line": {
             "color": "white",
             "width": 3
            },
            "type": "line",
            "x0": 8.33186233461508,
            "x1": 8.527887313891439,
            "y0": 12.652515980007403,
            "y1": 12.692192263851823
           },
           {
            "line": {
             "color": "white",
             "width": 3
            },
            "type": "line",
            "x0": 9.508137817783645,
            "x1": 9.704144472065126,
            "y0": 12.889232600246313,
            "y1": 12.92899931342932
           },
           {
            "line": {
             "color": "black",
             "width": 3
            },
            "type": "line",
            "x0": 4.3108693263181666,
            "x1": 4.498477196485433,
            "y0": 11.47313819534427,
            "y1": 11.542443945836578
           },
           {
            "line": {
             "color": "white",
             "width": 3
            },
            "type": "line",
            "x0": 7.138946604838431,
            "x1": 7.335927308960516,
            "y0": 12.60509221522232,
            "y1": 12.639713050041367
           },
           {
            "line": {
             "color": "black",
             "width": 3
            },
            "type": "line",
            "x0": 3.49138221396939,
            "x1": 3.683049477555893,
            "y0": 11.28452935889344,
            "y1": 11.341657811255306
           }
          ],
          "title": {
           "text": "<b>Percentage using the shortest path: 0%  |  Number of Agents: 10</b>",
           "x": 0.5
          }
         },
         "name": "450"
        },
        {
         "data": [
          {
           "hoverinfo": "name",
           "line": {
            "color": "grey"
           },
           "mode": "lines",
           "name": "Exterior",
           "showlegend": false,
           "x": [
            10.1,
            10.1,
            15.0,
            15.0,
            13.6,
            13.6,
            15.0,
            15.0,
            13.6,
            13.6,
            15.0,
            15.0,
            10.1,
            10.1,
            9.9,
            9.9,
            5.1,
            5.1,
            4.9,
            4.9,
            0.0,
            0.0,
            1.5,
            1.5,
            0.0,
            0.0,
            1.5,
            1.5,
            0.0,
            0.0,
            4.9,
            4.9,
            5.1,
            5.1,
            9.9,
            9.9,
            10.1
           ],
           "y": [
            1.5,
            0.0,
            0.0,
            4.9,
            4.9,
            5.1,
            5.1,
            9.9,
            9.9,
            10.1,
            10.1,
            15.0,
            15.0,
            13.6,
            13.6,
            15.0,
            15.0,
            13.6,
            13.6,
            15.0,
            15.0,
            10.1,
            10.1,
            9.9,
            9.9,
            5.1,
            5.1,
            4.9,
            4.9,
            0.0,
            0.0,
            1.5,
            1.5,
            0.0,
            0.0,
            1.5,
            1.5
           ],
           "type": "scatter"
          },
          {
           "hoverinfo": "name",
           "line": {
            "color": "grey"
           },
           "mode": "lines",
           "name": "Obstacle",
           "showlegend": false,
           "x": [
            10.1,
            11.5,
            11.5,
            10.1,
            10.1,
            9.9,
            9.9,
            8.6,
            8.6,
            9.9,
            9.9,
            10.1,
            10.1
           ],
           "y": [
            5.1,
            5.1,
            4.9,
            4.9,
            3.6,
            3.6,
            4.9,
            4.9,
            5.1,
            5.1,
            6.5,
            6.5,
            5.1
           ],
           "type": "scatter"
          },
          {
           "hoverinfo": "name",
           "line": {
            "color": "grey"
           },
           "mode": "lines",
           "name": "Obstacle",
           "showlegend": false,
           "x": [
            10.1,
            11.5,
            11.5,
            10.1,
            10.1,
            9.9,
            9.9,
            8.6,
            8.6,
            9.9,
            9.9,
            10.1,
            10.1
           ],
           "y": [
            10.1,
            10.1,
            9.9,
            9.9,
            8.6,
            8.6,
            9.9,
            9.9,
            10.1,
            10.1,
            11.5,
            11.5,
            10.1
           ],
           "type": "scatter"
          },
          {
           "hoverinfo": "name",
           "line": {
            "color": "grey"
           },
           "mode": "lines",
           "name": "Obstacle",
           "showlegend": false,
           "x": [
            5.1,
            6.4,
            6.4,
            5.1,
            5.1,
            4.9,
            4.9,
            3.6,
            3.6,
            4.9,
            4.9,
            5.1,
            5.1
           ],
           "y": [
            5.1,
            5.1,
            4.9,
            4.9,
            3.6,
            3.6,
            4.9,
            4.9,
            5.1,
            5.1,
            6.5,
            6.5,
            5.1
           ],
           "type": "scatter"
          },
          {
           "hoverinfo": "name",
           "line": {
            "color": "grey"
           },
           "mode": "lines",
           "name": "Obstacle",
           "showlegend": false,
           "x": [
            5.1,
            6.4,
            6.4,
            5.1,
            5.1,
            4.9,
            4.9,
            3.6,
            3.6,
            4.9,
            4.9,
            5.1,
            5.1
           ],
           "y": [
            10.1,
            10.1,
            9.9,
            9.9,
            8.6,
            8.6,
            9.9,
            9.9,
            10.1,
            10.1,
            11.5,
            11.5,
            10.1
           ],
           "type": "scatter"
          },
          {
           "fill": "toself",
           "fillcolor": "rgba(200, 0, 0, 0.20)",
           "hoverinfo": "name",
           "line": {
            "width": 0
           },
           "mode": "lines",
           "name": "Risk Area",
           "showlegend": false,
           "x": [
            0.0,
            5.0,
            5.0,
            0.0,
            0.0
           ],
           "y": [
            0.0,
            0.0,
            5.0,
            5.0,
            0.0
           ],
           "type": "scatter"
          },
          {
           "fill": "toself",
           "fillcolor": "rgba(200, 0, 0, 0.60)",
           "hoverinfo": "name",
           "line": {
            "width": 0
           },
           "mode": "lines",
           "name": "Risk Area",
           "showlegend": false,
           "x": [
            5.0,
            10.0,
            10.0,
            5.0,
            5.0
           ],
           "y": [
            0.0,
            0.0,
            5.0,
            5.0,
            0.0
           ],
           "type": "scatter"
          },
          {
           "fill": "toself",
           "fillcolor": "rgba(200, 0, 0, 0.00)",
           "hoverinfo": "name",
           "line": {
            "width": 0
           },
           "mode": "lines",
           "name": "Risk Area",
           "showlegend": false,
           "x": [
            10.0,
            15.0,
            15.0,
            10.0,
            10.0
           ],
           "y": [
            0.0,
            0.0,
            5.0,
            5.0,
            0.0
           ],
           "type": "scatter"
          },
          {
           "fill": "toself",
           "fillcolor": "rgba(200, 0, 0, 0.60)",
           "hoverinfo": "name",
           "line": {
            "width": 0
           },
           "mode": "lines",
           "name": "Risk Area",
           "showlegend": false,
           "x": [
            10.0,
            15.0,
            15.0,
            10.0,
            10.0
           ],
           "y": [
            5.0,
            5.0,
            10.0,
            10.0,
            5.0
           ],
           "type": "scatter"
          },
          {
           "fill": "toself",
           "fillcolor": "rgba(200, 0, 0, 0.70)",
           "hoverinfo": "name",
           "line": {
            "width": 0
           },
           "mode": "lines",
           "name": "Risk Area",
           "showlegend": false,
           "x": [
            5.0,
            10.0,
            10.0,
            5.0,
            5.0
           ],
           "y": [
            5.0,
            5.0,
            10.0,
            10.0,
            5.0
           ],
           "type": "scatter"
          },
          {
           "fill": "toself",
           "fillcolor": "rgba(200, 0, 0, 0.10)",
           "hoverinfo": "name",
           "line": {
            "width": 0
           },
           "mode": "lines",
           "name": "Risk Area",
           "showlegend": false,
           "x": [
            0.0,
            5.0,
            5.0,
            0.0,
            0.0
           ],
           "y": [
            5.0,
            5.0,
            10.0,
            10.0,
            5.0
           ],
           "type": "scatter"
          },
          {
           "fill": "toself",
           "fillcolor": "rgba(200, 0, 0, 0.00)",
           "hoverinfo": "name",
           "line": {
            "width": 0
           },
           "mode": "lines",
           "name": "Risk Area",
           "showlegend": false,
           "x": [
            0.0,
            5.0,
            5.0,
            0.0,
            0.0
           ],
           "y": [
            10.0,
            10.0,
            15.0,
            15.0,
            10.0
           ],
           "type": "scatter"
          },
          {
           "fill": "toself",
           "fillcolor": "rgba(200, 0, 0, 0.00)",
           "hoverinfo": "name",
           "line": {
            "width": 0
           },
           "mode": "lines",
           "name": "Risk Area",
           "showlegend": false,
           "x": [
            5.0,
            10.0,
            10.0,
            5.0,
            5.0
           ],
           "y": [
            10.0,
            10.0,
            15.0,
            15.0,
            10.0
           ],
           "type": "scatter"
          },
          {
           "fill": "toself",
           "fillcolor": "rgba(200, 0, 0, 0.00)",
           "hoverinfo": "name",
           "line": {
            "width": 0
           },
           "mode": "lines",
           "name": "Risk Area",
           "showlegend": false,
           "x": [
            10.0,
            15.0,
            15.0,
            10.0,
            10.0
           ],
           "y": [
            10.0,
            10.0,
            15.0,
            15.0,
            10.0
           ],
           "type": "scatter"
          },
          {
           "hoverinfo": "text",
           "marker": {
            "opacity": 1,
            "size": 1
           },
           "mode": "markers",
           "showlegend": false,
           "text": [
            "ID: 61, Pos(6.71,12.10)"
           ],
           "x": [
            6.709048518244106
           ],
           "y": [
            12.10212641304505
           ],
           "type": "scatter"
          },
          {
           "hoverinfo": "text",
           "marker": {
            "opacity": 1,
            "size": 1
           },
           "mode": "markers",
           "showlegend": false,
           "text": [
            "ID: 62, Pos(6.25,12.64)"
           ],
           "x": [
            6.246455030336445
           ],
           "y": [
            12.635610514901655
           ],
           "type": "scatter"
          },
          {
           "hoverinfo": "text",
           "marker": {
            "opacity": 1,
            "size": 1
           },
           "mode": "markers",
           "showlegend": false,
           "text": [
            "ID: 63, Pos(3.58,11.37)"
           ],
           "x": [
            3.5825291282230536
           ],
           "y": [
            11.374895652810725
           ],
           "type": "scatter"
          },
          {
           "hoverinfo": "text",
           "marker": {
            "opacity": 1,
            "size": 1
           },
           "mode": "markers",
           "showlegend": false,
           "text": [
            "ID: 64, Pos(7.89,12.28)"
           ],
           "x": [
            7.888796461818201
           ],
           "y": [
            12.280014997231621
           ],
           "type": "scatter"
          },
          {
           "hoverinfo": "text",
           "marker": {
            "opacity": 1,
            "size": 1
           },
           "mode": "markers",
           "showlegend": false,
           "text": [
            "ID: 65, Pos(7.50,12.94)"
           ],
           "x": [
            7.496549927865555
           ],
           "y": [
            12.94182774486513
           ],
           "type": "scatter"
          },
          {
           "hoverinfo": "text",
           "marker": {
            "opacity": 1,
            "size": 1
           },
           "mode": "markers",
           "showlegend": false,
           "text": [
            "ID: 66, Pos(9.90,12.97)"
           ],
           "x": [
            9.899980460848388
           ],
           "y": [
            12.969706552697021
           ],
           "type": "scatter"
          },
          {
           "hoverinfo": "text",
           "marker": {
            "opacity": 1,
            "size": 1
           },
           "mode": "markers",
           "showlegend": false,
           "text": [
            "ID: 67, Pos(11.08,13.21)"
           ],
           "x": [
            11.07658172844977
           ],
           "y": [
            13.205418347395973
           ],
           "type": "scatter"
          },
          {
           "hoverinfo": "text",
           "marker": {
            "opacity": 1,
            "size": 1
           },
           "mode": "markers",
           "showlegend": false,
           "text": [
            "ID: 68, Pos(5.34,12.03)"
           ],
           "x": [
            5.335925483917294
           ],
           "y": [
            12.033470746525124
           ],
           "type": "scatter"
          },
          {
           "hoverinfo": "text",
           "marker": {
            "opacity": 1,
            "size": 1
           },
           "mode": "markers",
           "showlegend": false,
           "text": [
            "ID: 69, Pos(8.71,12.88)"
           ],
           "x": [
            8.706453594387984
           ],
           "y": [
            12.87988769416925
           ],
           "type": "scatter"
          },
          {
           "hoverinfo": "text",
           "marker": {
            "opacity": 1,
            "size": 1
           },
           "mode": "markers",
           "showlegend": false,
           "text": [
            "ID: 70, Pos(4.46,11.58)"
           ],
           "x": [
            4.463984061649328
           ],
           "y": [
            11.577115818328553
           ],
           "type": "scatter"
          }
         ],
         "layout": {
          "shapes": [
           {
            "fillcolor": "rgba(0, 0, 137, 0.5)",
            "line": {
             "color": "rgba(0, 0, 137, 0.5)"
            },
            "type": "circle",
            "x0": 6.509048518244106,
            "x1": 6.909048518244107,
            "xref": "x",
            "y0": 11.902126413045051,
            "y1": 12.30212641304505,
            "yref": "y"
           },
           {
            "fillcolor": "rgba(0, 0, 128, 0.5)",
            "line": {
             "color": "rgba(0, 0, 128, 0.5)"
            },
            "type": "circle",
            "x0": 6.046455030336444,
            "x1": 6.446455030336445,
            "xref": "x",
            "y0": 12.435610514901656,
            "y1": 12.835610514901655,
            "yref": "y"
           },
           {
            "fillcolor": "rgba(51, 255, 196, 0.5)",
            "line": {
             "color": "rgba(51, 255, 196, 0.5)"
            },
            "type": "circle",
            "x0": 3.3825291282230534,
            "x1": 3.7825291282230538,
            "xref": "x",
            "y0": 11.174895652810726,
            "y1": 11.574895652810724,
            "yref": "y"
           },
           {
            "fillcolor": "rgba(0, 0, 128, 0.5)",
            "line": {
             "color": "rgba(0, 0, 128, 0.5)"
            },
            "type": "circle",
            "x0": 7.6887964618182005,
            "x1": 8.0887964618182,
            "xref": "x",
            "y0": 12.080014997231622,
            "y1": 12.48001499723162,
            "yref": "y"
           },
           {
            "fillcolor": "rgba(0, 0, 128, 0.5)",
            "line": {
             "color": "rgba(0, 0, 128, 0.5)"
            },
            "type": "circle",
            "x0": 7.296549927865555,
            "x1": 7.696549927865555,
            "xref": "x",
            "y0": 12.74182774486513,
            "y1": 13.141827744865129,
            "yref": "y"
           },
           {
            "fillcolor": "rgba(0, 0, 128, 0.5)",
            "line": {
             "color": "rgba(0, 0, 128, 0.5)"
            },
            "type": "circle",
            "x0": 9.699980460848389,
            "x1": 10.099980460848387,
            "xref": "x",
            "y0": 12.769706552697022,
            "y1": 13.16970655269702,
            "yref": "y"
           },
           {
            "fillcolor": "rgba(0, 0, 128, 0.5)",
            "line": {
             "color": "rgba(0, 0, 128, 0.5)"
            },
            "type": "circle",
            "x0": 10.876581728449771,
            "x1": 11.27658172844977,
            "xref": "x",
            "y0": 13.005418347395974,
            "y1": 13.405418347395972,
            "yref": "y"
           },
           {
            "fillcolor": "rgba(0, 16, 255, 0.5)",
            "line": {
             "color": "rgba(0, 16, 255, 0.5)"
            },
            "type": "circle",
            "x0": 5.135925483917294,
            "x1": 5.535925483917294,
            "xref": "x",
            "y0": 11.833470746525125,
            "y1": 12.233470746525123,
            "yref": "y"
           },
           {
            "fillcolor": "rgba(0, 0, 132, 0.5)",
            "line": {
             "color": "rgba(0, 0, 132, 0.5)"
            },
            "type": "circle",
            "x0": 8.506453594387985,
            "x1": 8.906453594387983,
            "xref": "x",
            "y0": 12.67988769416925,
            "y1": 13.07988769416925,
            "yref": "y"
           },
           {
            "fillcolor": "rgba(0, 184, 255, 0.5)",
            "line": {
             "color": "rgba(0, 184, 255, 0.5)"
            },
            "type": "circle",
            "x0": 4.263984061649328,
            "x1": 4.663984061649328,
            "xref": "x",
            "y0": 11.377115818328553,
            "y1": 11.777115818328552,
            "yref": "y"
           },
           {
            "line": {
             "color": "white",
             "width": 3
            },
            "type": "line",
            "x0": 6.709048518244106,
            "x1": 6.9074504331059705,
            "y0": 12.10212641304505,
            "y1": 12.127358935296018
           },
           {
            "line": {
             "color": "white",
             "width": 3
            },
            "type": "line",
            "x0": 6.246455030336445,
            "x1": 6.439789244147387,
            "y0": 12.635610514901655,
            "y1": 12.686814828881094
           },
           {
            "line": {
             "color": "black",
             "width": 3
            },
            "type": "line",
            "x0": 3.5825291282230536,
            "x1": 3.774706357186592,
            "y0": 11.374895652810725,
            "y1": 11.430284394156741
           },
           {
            "line": {
             "color": "white",
             "width": 3
            },
            "type": "line",
            "x0": 7.888796461818201,
            "x1": 8.085480113666167,
            "y0": 12.280014997231621,
            "y1": 12.316285385921956
           },
           {
            "line": {
             "color": "white",
             "width": 3
            },
            "type": "line",
            "x0": 7.496549927865555,
            "x1": 7.692926572586759,
            "y0": 12.94182774486513,
            "y1": 12.979725151214929
           },
           {
            "line": {
             "color": "white",
             "width": 3
            },
            "type": "line",
            "x0": 9.899980460848388,
            "x1": 10.096083856659739,
            "y0": 12.969706552697021,
            "y1": 13.008993422657053
           },
           {
            "line": {
             "color": "white",
             "width": 3
            },
            "type": "line",
            "x0": 11.07658172844977,
            "x1": 11.272557212797931,
            "y0": 13.205418347395973,
            "y1": 13.245338386655776
           },
           {
            "line": {
             "color": "white",
             "width": 3
            },
            "type": "line",
            "x0": 5.335925483917294,
            "x1": 5.5312024935374255,
            "y0": 12.033470746525124,
            "y1": 12.076678263392203
           },
           {
            "line": {
             "color": "white",
             "width": 3
            },
            "type": "line",
            "x0": 8.706453594387984,
            "x1": 8.903459901667084,
            "y0": 12.87988769416925,
            "y1": 12.914362538509044
           },
           {
            "line": {
             "color": "black",
             "width": 3
            },
            "type": "line",
            "x0": 4.463984061649328,
            "x1": 4.653455624872952,
            "y0": 11.577115818328553,
            "y1": 11.641151173637917
           }
          ],
          "title": {
           "text": "<b>Percentage using the shortest path: 0%  |  Number of Agents: 10</b>",
           "x": 0.5
          }
         },
         "name": "500"
        },
        {
         "data": [
          {
           "hoverinfo": "name",
           "line": {
            "color": "grey"
           },
           "mode": "lines",
           "name": "Exterior",
           "showlegend": false,
           "x": [
            10.1,
            10.1,
            15.0,
            15.0,
            13.6,
            13.6,
            15.0,
            15.0,
            13.6,
            13.6,
            15.0,
            15.0,
            10.1,
            10.1,
            9.9,
            9.9,
            5.1,
            5.1,
            4.9,
            4.9,
            0.0,
            0.0,
            1.5,
            1.5,
            0.0,
            0.0,
            1.5,
            1.5,
            0.0,
            0.0,
            4.9,
            4.9,
            5.1,
            5.1,
            9.9,
            9.9,
            10.1
           ],
           "y": [
            1.5,
            0.0,
            0.0,
            4.9,
            4.9,
            5.1,
            5.1,
            9.9,
            9.9,
            10.1,
            10.1,
            15.0,
            15.0,
            13.6,
            13.6,
            15.0,
            15.0,
            13.6,
            13.6,
            15.0,
            15.0,
            10.1,
            10.1,
            9.9,
            9.9,
            5.1,
            5.1,
            4.9,
            4.9,
            0.0,
            0.0,
            1.5,
            1.5,
            0.0,
            0.0,
            1.5,
            1.5
           ],
           "type": "scatter"
          },
          {
           "hoverinfo": "name",
           "line": {
            "color": "grey"
           },
           "mode": "lines",
           "name": "Obstacle",
           "showlegend": false,
           "x": [
            10.1,
            11.5,
            11.5,
            10.1,
            10.1,
            9.9,
            9.9,
            8.6,
            8.6,
            9.9,
            9.9,
            10.1,
            10.1
           ],
           "y": [
            5.1,
            5.1,
            4.9,
            4.9,
            3.6,
            3.6,
            4.9,
            4.9,
            5.1,
            5.1,
            6.5,
            6.5,
            5.1
           ],
           "type": "scatter"
          },
          {
           "hoverinfo": "name",
           "line": {
            "color": "grey"
           },
           "mode": "lines",
           "name": "Obstacle",
           "showlegend": false,
           "x": [
            10.1,
            11.5,
            11.5,
            10.1,
            10.1,
            9.9,
            9.9,
            8.6,
            8.6,
            9.9,
            9.9,
            10.1,
            10.1
           ],
           "y": [
            10.1,
            10.1,
            9.9,
            9.9,
            8.6,
            8.6,
            9.9,
            9.9,
            10.1,
            10.1,
            11.5,
            11.5,
            10.1
           ],
           "type": "scatter"
          },
          {
           "hoverinfo": "name",
           "line": {
            "color": "grey"
           },
           "mode": "lines",
           "name": "Obstacle",
           "showlegend": false,
           "x": [
            5.1,
            6.4,
            6.4,
            5.1,
            5.1,
            4.9,
            4.9,
            3.6,
            3.6,
            4.9,
            4.9,
            5.1,
            5.1
           ],
           "y": [
            5.1,
            5.1,
            4.9,
            4.9,
            3.6,
            3.6,
            4.9,
            4.9,
            5.1,
            5.1,
            6.5,
            6.5,
            5.1
           ],
           "type": "scatter"
          },
          {
           "hoverinfo": "name",
           "line": {
            "color": "grey"
           },
           "mode": "lines",
           "name": "Obstacle",
           "showlegend": false,
           "x": [
            5.1,
            6.4,
            6.4,
            5.1,
            5.1,
            4.9,
            4.9,
            3.6,
            3.6,
            4.9,
            4.9,
            5.1,
            5.1
           ],
           "y": [
            10.1,
            10.1,
            9.9,
            9.9,
            8.6,
            8.6,
            9.9,
            9.9,
            10.1,
            10.1,
            11.5,
            11.5,
            10.1
           ],
           "type": "scatter"
          },
          {
           "fill": "toself",
           "fillcolor": "rgba(200, 0, 0, 0.20)",
           "hoverinfo": "name",
           "line": {
            "width": 0
           },
           "mode": "lines",
           "name": "Risk Area",
           "showlegend": false,
           "x": [
            0.0,
            5.0,
            5.0,
            0.0,
            0.0
           ],
           "y": [
            0.0,
            0.0,
            5.0,
            5.0,
            0.0
           ],
           "type": "scatter"
          },
          {
           "fill": "toself",
           "fillcolor": "rgba(200, 0, 0, 0.60)",
           "hoverinfo": "name",
           "line": {
            "width": 0
           },
           "mode": "lines",
           "name": "Risk Area",
           "showlegend": false,
           "x": [
            5.0,
            10.0,
            10.0,
            5.0,
            5.0
           ],
           "y": [
            0.0,
            0.0,
            5.0,
            5.0,
            0.0
           ],
           "type": "scatter"
          },
          {
           "fill": "toself",
           "fillcolor": "rgba(200, 0, 0, 0.00)",
           "hoverinfo": "name",
           "line": {
            "width": 0
           },
           "mode": "lines",
           "name": "Risk Area",
           "showlegend": false,
           "x": [
            10.0,
            15.0,
            15.0,
            10.0,
            10.0
           ],
           "y": [
            0.0,
            0.0,
            5.0,
            5.0,
            0.0
           ],
           "type": "scatter"
          },
          {
           "fill": "toself",
           "fillcolor": "rgba(200, 0, 0, 0.60)",
           "hoverinfo": "name",
           "line": {
            "width": 0
           },
           "mode": "lines",
           "name": "Risk Area",
           "showlegend": false,
           "x": [
            10.0,
            15.0,
            15.0,
            10.0,
            10.0
           ],
           "y": [
            5.0,
            5.0,
            10.0,
            10.0,
            5.0
           ],
           "type": "scatter"
          },
          {
           "fill": "toself",
           "fillcolor": "rgba(200, 0, 0, 0.70)",
           "hoverinfo": "name",
           "line": {
            "width": 0
           },
           "mode": "lines",
           "name": "Risk Area",
           "showlegend": false,
           "x": [
            5.0,
            10.0,
            10.0,
            5.0,
            5.0
           ],
           "y": [
            5.0,
            5.0,
            10.0,
            10.0,
            5.0
           ],
           "type": "scatter"
          },
          {
           "fill": "toself",
           "fillcolor": "rgba(200, 0, 0, 0.10)",
           "hoverinfo": "name",
           "line": {
            "width": 0
           },
           "mode": "lines",
           "name": "Risk Area",
           "showlegend": false,
           "x": [
            0.0,
            5.0,
            5.0,
            0.0,
            0.0
           ],
           "y": [
            5.0,
            5.0,
            10.0,
            10.0,
            5.0
           ],
           "type": "scatter"
          },
          {
           "fill": "toself",
           "fillcolor": "rgba(200, 0, 0, 0.00)",
           "hoverinfo": "name",
           "line": {
            "width": 0
           },
           "mode": "lines",
           "name": "Risk Area",
           "showlegend": false,
           "x": [
            0.0,
            5.0,
            5.0,
            0.0,
            0.0
           ],
           "y": [
            10.0,
            10.0,
            15.0,
            15.0,
            10.0
           ],
           "type": "scatter"
          },
          {
           "fill": "toself",
           "fillcolor": "rgba(200, 0, 0, 0.00)",
           "hoverinfo": "name",
           "line": {
            "width": 0
           },
           "mode": "lines",
           "name": "Risk Area",
           "showlegend": false,
           "x": [
            5.0,
            10.0,
            10.0,
            5.0,
            5.0
           ],
           "y": [
            10.0,
            10.0,
            15.0,
            15.0,
            10.0
           ],
           "type": "scatter"
          },
          {
           "fill": "toself",
           "fillcolor": "rgba(200, 0, 0, 0.00)",
           "hoverinfo": "name",
           "line": {
            "width": 0
           },
           "mode": "lines",
           "name": "Risk Area",
           "showlegend": false,
           "x": [
            10.0,
            15.0,
            15.0,
            10.0,
            10.0
           ],
           "y": [
            10.0,
            10.0,
            15.0,
            15.0,
            10.0
           ],
           "type": "scatter"
          },
          {
           "hoverinfo": "text",
           "marker": {
            "opacity": 1,
            "size": 1
           },
           "mode": "markers",
           "showlegend": false,
           "text": [
            "ID: 61.0, Pos(8.28,12.37)"
           ],
           "x": [
            8.275133130911422
           ],
           "y": [
            12.366812297533706
           ],
           "type": "scatter"
          },
          {
           "hoverinfo": "text",
           "marker": {
            "opacity": 1,
            "size": 1
           },
           "mode": "markers",
           "showlegend": false,
           "text": [
            "ID: 62.0, Pos(7.81,12.97)"
           ],
           "x": [
            7.810405660084215
           ],
           "y": [
            12.972159219071838
           ],
           "type": "scatter"
          },
          {
           "hoverinfo": "text",
           "marker": {
            "opacity": 1,
            "size": 1
           },
           "mode": "markers",
           "showlegend": false,
           "text": [
            "ID: 63.0, Pos(4.71,11.80)"
           ],
           "x": [
            4.707414328492602
           ],
           "y": [
            11.799355004982315
           ],
           "type": "scatter"
          },
          {
           "hoverinfo": "text",
           "marker": {
            "opacity": 1,
            "size": 1
           },
           "mode": "markers",
           "showlegend": false,
           "text": [
            "ID: 64.0, Pos(9.41,12.57)"
           ],
           "x": [
            9.41481947394931
           ],
           "y": [
            12.572572186582159
           ],
           "type": "scatter"
          },
          {
           "hoverinfo": "text",
           "marker": {
            "opacity": 1,
            "size": 1
           },
           "mode": "markers",
           "showlegend": false,
           "text": [
            "ID: 65.0, Pos(9.07,13.23)"
           ],
           "x": [
            9.06961242062924
           ],
           "y": [
            13.234143217414374
           ],
           "type": "scatter"
          },
          {
           "hoverinfo": "text",
           "marker": {
            "opacity": 1,
            "size": 1
           },
           "mode": "markers",
           "showlegend": false,
           "text": [
            "ID: 66.0, Pos(11.47,13.29)"
           ],
           "x": [
            11.468422711849659
           ],
           "y": [
            13.285813874230977
           ],
           "type": "scatter"
          },
          {
           "hoverinfo": "text",
           "marker": {
            "opacity": 1,
            "size": 1
           },
           "mode": "markers",
           "showlegend": false,
           "text": [
            "ID: 68.0, Pos(6.89,12.36)"
           ],
           "x": [
            6.885632912002553
           ],
           "y": [
            12.356349327921855
           ],
           "type": "scatter"
          },
          {
           "hoverinfo": "text",
           "marker": {
            "opacity": 1,
            "size": 1
           },
           "mode": "markers",
           "showlegend": false,
           "text": [
            "ID: 69.0, Pos(10.28,13.14)"
           ],
           "x": [
            10.279932603160745
           ],
           "y": [
            13.139420754278794
           ],
           "type": "scatter"
          },
          {
           "hoverinfo": "text",
           "marker": {
            "opacity": 1,
            "size": 1
           },
           "mode": "markers",
           "showlegend": false,
           "text": [
            "ID: 70.0, Pos(5.74,12.12)"
           ],
           "x": [
            5.7435867337171445
           ],
           "y": [
            12.122064570809648
           ],
           "type": "scatter"
          },
          {
           "hoverinfo": "none",
           "marker": {
            "opacity": 0,
            "size": 1
           },
           "mode": "markers",
           "showlegend": false,
           "x": [
            0.0
           ],
           "y": [
            0.0
           ],
           "type": "scatter"
          }
         ],
         "layout": {
          "shapes": [
           {
            "fillcolor": "rgba(0, 0, 191, 0.5)",
            "line": {
             "color": "rgba(0, 0, 191, 0.5)"
            },
            "type": "circle",
            "x0": 8.075133130911423,
            "x1": 8.475133130911422,
            "xref": "x",
            "y0": 12.166812297533706,
            "y1": 12.566812297533705,
            "yref": "y"
           },
           {
            "fillcolor": "rgba(0, 0, 128, 0.5)",
            "line": {
             "color": "rgba(0, 0, 128, 0.5)"
            },
            "type": "circle",
            "x0": 7.610405660084215,
            "x1": 8.010405660084215,
            "xref": "x",
            "y0": 12.772159219071838,
            "y1": 13.172159219071837,
            "yref": "y"
           },
           {
            "fillcolor": "rgba(0, 0, 218, 0.5)",
            "line": {
             "color": "rgba(0, 0, 218, 0.5)"
            },
            "type": "circle",
            "x0": 4.507414328492602,
            "x1": 4.907414328492602,
            "xref": "x",
            "y0": 11.599355004982316,
            "y1": 11.999355004982315,
            "yref": "y"
           },
           {
            "fillcolor": "rgba(0, 109, 255, 0.5)",
            "line": {
             "color": "rgba(0, 109, 255, 0.5)"
            },
            "type": "circle",
            "x0": 9.21481947394931,
            "x1": 9.614819473949309,
            "xref": "x",
            "y0": 12.37257218658216,
            "y1": 12.772572186582158,
            "yref": "y"
           },
           {
            "fillcolor": "rgba(0, 0, 128, 0.5)",
            "line": {
             "color": "rgba(0, 0, 128, 0.5)"
            },
            "type": "circle",
            "x0": 8.86961242062924,
            "x1": 9.269612420629239,
            "xref": "x",
            "y0": 13.034143217414375,
            "y1": 13.434143217414373,
            "yref": "y"
           },
           {
            "fillcolor": "rgba(0, 0, 128, 0.5)",
            "line": {
             "color": "rgba(0, 0, 128, 0.5)"
            },
            "type": "circle",
            "x0": 11.26842271184966,
            "x1": 11.668422711849658,
            "xref": "x",
            "y0": 13.085813874230977,
            "y1": 13.485813874230976,
            "yref": "y"
           },
           {
            "fillcolor": "rgba(0, 0, 128, 0.5)",
            "line": {
             "color": "rgba(0, 0, 128, 0.5)"
            },
            "type": "circle",
            "x0": 6.685632912002553,
            "x1": 7.085632912002553,
            "xref": "x",
            "y0": 12.156349327921856,
            "y1": 12.556349327921854,
            "yref": "y"
           },
           {
            "fillcolor": "rgba(0, 0, 128, 0.5)",
            "line": {
             "color": "rgba(0, 0, 128, 0.5)"
            },
            "type": "circle",
            "x0": 10.079932603160746,
            "x1": 10.479932603160744,
            "xref": "x",
            "y0": 12.939420754278794,
            "y1": 13.339420754278793,
            "yref": "y"
           },
           {
            "fillcolor": "rgba(0, 0, 182, 0.5)",
            "line": {
             "color": "rgba(0, 0, 182, 0.5)"
            },
            "type": "circle",
            "x0": 5.543586733717144,
            "x1": 5.943586733717145,
            "xref": "x",
            "y0": 11.922064570809649,
            "y1": 12.322064570809648,
            "yref": "y"
           },
           {
            "fillcolor": "rgba(255,255,255,0)",
            "line": {
             "width": 0
            },
            "type": "circle",
            "x0": 0.0,
            "x1": 0.0,
            "xref": "x",
            "y0": 0.0,
            "y1": 0.0,
            "yref": "y"
           },
           {
            "line": {
             "color": "white",
             "width": 3
            },
            "type": "line",
            "x0": 8.275133130911422,
            "x1": 8.471706729822165,
            "y0": 12.366812297533706,
            "y1": 12.403674476135604
           },
           {
            "line": {
             "color": "white",
             "width": 3
            },
            "type": "line",
            "x0": 7.810405660084215,
            "x1": 8.006704852200526,
            "y0": 12.972159219071838,
            "y1": 13.010455787775621
           },
           {
            "line": {
             "color": "white",
             "width": 3
            },
            "type": "line",
            "x0": 4.707414328492602,
            "x1": 4.856690183006203,
            "y0": 11.799355004982315,
            "y1": 11.932459171931491
           },
           {
            "line": {
             "color": "white",
             "width": 3
            },
            "type": "line",
            "x0": 9.41481947394931,
            "x1": 9.611384183404601,
            "y0": 12.572572186582159,
            "y1": 12.609481738147533
           },
           {
            "line": {
             "color": "white",
             "width": 3
            },
            "type": "line",
            "x0": 9.06961242062924,
            "x1": 9.266068972720857,
            "y0": 13.234143217414374,
            "y1": 13.271624187789662
           },
           {
            "line": {
             "color": "white",
             "width": 3
            },
            "type": "line",
            "x0": 11.468422711849659,
            "x1": 11.664410557858861,
            "y0": 13.285813874230977,
            "y1": 13.325673179501806
           },
           {
            "line": {
             "color": "white",
             "width": 3
            },
            "type": "line",
            "x0": 6.885632912002553,
            "x1": 7.081664926450883,
            "y0": 12.356349327921855,
            "y1": 12.39599083787455
           },
           {
            "line": {
             "color": "white",
             "width": 3
            },
            "type": "line",
            "x0": 10.279932603160745,
            "x1": 10.477798183032505,
            "y0": 13.139420754278794,
            "y1": 13.16856200171284
           },
           {
            "line": {
             "color": "white",
             "width": 3
            },
            "type": "line",
            "x0": 5.7435867337171445,
            "x1": 5.939099923932298,
            "y0": 12.122064570809648,
            "y1": 12.164190482691682
           },
           {
            "line": {
             "color": "rgba(255,255,255,0)",
             "width": 3
            },
            "type": "line",
            "x0": 0.0,
            "x1": null,
            "y0": 0.0,
            "y1": null
           }
          ],
          "title": {
           "text": "<b>Percentage using the shortest path: 0%  |  Number of Agents: 9</b>",
           "x": 0.5
          }
         },
         "name": "550"
        },
        {
         "data": [
          {
           "hoverinfo": "name",
           "line": {
            "color": "grey"
           },
           "mode": "lines",
           "name": "Exterior",
           "showlegend": false,
           "x": [
            10.1,
            10.1,
            15.0,
            15.0,
            13.6,
            13.6,
            15.0,
            15.0,
            13.6,
            13.6,
            15.0,
            15.0,
            10.1,
            10.1,
            9.9,
            9.9,
            5.1,
            5.1,
            4.9,
            4.9,
            0.0,
            0.0,
            1.5,
            1.5,
            0.0,
            0.0,
            1.5,
            1.5,
            0.0,
            0.0,
            4.9,
            4.9,
            5.1,
            5.1,
            9.9,
            9.9,
            10.1
           ],
           "y": [
            1.5,
            0.0,
            0.0,
            4.9,
            4.9,
            5.1,
            5.1,
            9.9,
            9.9,
            10.1,
            10.1,
            15.0,
            15.0,
            13.6,
            13.6,
            15.0,
            15.0,
            13.6,
            13.6,
            15.0,
            15.0,
            10.1,
            10.1,
            9.9,
            9.9,
            5.1,
            5.1,
            4.9,
            4.9,
            0.0,
            0.0,
            1.5,
            1.5,
            0.0,
            0.0,
            1.5,
            1.5
           ],
           "type": "scatter"
          },
          {
           "hoverinfo": "name",
           "line": {
            "color": "grey"
           },
           "mode": "lines",
           "name": "Obstacle",
           "showlegend": false,
           "x": [
            10.1,
            11.5,
            11.5,
            10.1,
            10.1,
            9.9,
            9.9,
            8.6,
            8.6,
            9.9,
            9.9,
            10.1,
            10.1
           ],
           "y": [
            5.1,
            5.1,
            4.9,
            4.9,
            3.6,
            3.6,
            4.9,
            4.9,
            5.1,
            5.1,
            6.5,
            6.5,
            5.1
           ],
           "type": "scatter"
          },
          {
           "hoverinfo": "name",
           "line": {
            "color": "grey"
           },
           "mode": "lines",
           "name": "Obstacle",
           "showlegend": false,
           "x": [
            10.1,
            11.5,
            11.5,
            10.1,
            10.1,
            9.9,
            9.9,
            8.6,
            8.6,
            9.9,
            9.9,
            10.1,
            10.1
           ],
           "y": [
            10.1,
            10.1,
            9.9,
            9.9,
            8.6,
            8.6,
            9.9,
            9.9,
            10.1,
            10.1,
            11.5,
            11.5,
            10.1
           ],
           "type": "scatter"
          },
          {
           "hoverinfo": "name",
           "line": {
            "color": "grey"
           },
           "mode": "lines",
           "name": "Obstacle",
           "showlegend": false,
           "x": [
            5.1,
            6.4,
            6.4,
            5.1,
            5.1,
            4.9,
            4.9,
            3.6,
            3.6,
            4.9,
            4.9,
            5.1,
            5.1
           ],
           "y": [
            5.1,
            5.1,
            4.9,
            4.9,
            3.6,
            3.6,
            4.9,
            4.9,
            5.1,
            5.1,
            6.5,
            6.5,
            5.1
           ],
           "type": "scatter"
          },
          {
           "hoverinfo": "name",
           "line": {
            "color": "grey"
           },
           "mode": "lines",
           "name": "Obstacle",
           "showlegend": false,
           "x": [
            5.1,
            6.4,
            6.4,
            5.1,
            5.1,
            4.9,
            4.9,
            3.6,
            3.6,
            4.9,
            4.9,
            5.1,
            5.1
           ],
           "y": [
            10.1,
            10.1,
            9.9,
            9.9,
            8.6,
            8.6,
            9.9,
            9.9,
            10.1,
            10.1,
            11.5,
            11.5,
            10.1
           ],
           "type": "scatter"
          },
          {
           "fill": "toself",
           "fillcolor": "rgba(200, 0, 0, 0.40)",
           "hoverinfo": "name",
           "line": {
            "width": 0
           },
           "mode": "lines",
           "name": "Risk Area",
           "showlegend": false,
           "x": [
            0.0,
            5.0,
            5.0,
            0.0,
            0.0
           ],
           "y": [
            0.0,
            0.0,
            5.0,
            5.0,
            0.0
           ],
           "type": "scatter"
          },
          {
           "fill": "toself",
           "fillcolor": "rgba(200, 0, 0, 0.60)",
           "hoverinfo": "name",
           "line": {
            "width": 0
           },
           "mode": "lines",
           "name": "Risk Area",
           "showlegend": false,
           "x": [
            5.0,
            10.0,
            10.0,
            5.0,
            5.0
           ],
           "y": [
            0.0,
            0.0,
            5.0,
            5.0,
            0.0
           ],
           "type": "scatter"
          },
          {
           "fill": "toself",
           "fillcolor": "rgba(200, 0, 0, 0.00)",
           "hoverinfo": "name",
           "line": {
            "width": 0
           },
           "mode": "lines",
           "name": "Risk Area",
           "showlegend": false,
           "x": [
            10.0,
            15.0,
            15.0,
            10.0,
            10.0
           ],
           "y": [
            0.0,
            0.0,
            5.0,
            5.0,
            0.0
           ],
           "type": "scatter"
          },
          {
           "fill": "toself",
           "fillcolor": "rgba(200, 0, 0, 0.60)",
           "hoverinfo": "name",
           "line": {
            "width": 0
           },
           "mode": "lines",
           "name": "Risk Area",
           "showlegend": false,
           "x": [
            10.0,
            15.0,
            15.0,
            10.0,
            10.0
           ],
           "y": [
            5.0,
            5.0,
            10.0,
            10.0,
            5.0
           ],
           "type": "scatter"
          },
          {
           "fill": "toself",
           "fillcolor": "rgba(200, 0, 0, 0.70)",
           "hoverinfo": "name",
           "line": {
            "width": 0
           },
           "mode": "lines",
           "name": "Risk Area",
           "showlegend": false,
           "x": [
            5.0,
            10.0,
            10.0,
            5.0,
            5.0
           ],
           "y": [
            5.0,
            5.0,
            10.0,
            10.0,
            5.0
           ],
           "type": "scatter"
          },
          {
           "fill": "toself",
           "fillcolor": "rgba(200, 0, 0, 0.10)",
           "hoverinfo": "name",
           "line": {
            "width": 0
           },
           "mode": "lines",
           "name": "Risk Area",
           "showlegend": false,
           "x": [
            0.0,
            5.0,
            5.0,
            0.0,
            0.0
           ],
           "y": [
            5.0,
            5.0,
            10.0,
            10.0,
            5.0
           ],
           "type": "scatter"
          },
          {
           "fill": "toself",
           "fillcolor": "rgba(200, 0, 0, 0.20)",
           "hoverinfo": "name",
           "line": {
            "width": 0
           },
           "mode": "lines",
           "name": "Risk Area",
           "showlegend": false,
           "x": [
            0.0,
            5.0,
            5.0,
            0.0,
            0.0
           ],
           "y": [
            10.0,
            10.0,
            15.0,
            15.0,
            10.0
           ],
           "type": "scatter"
          },
          {
           "fill": "toself",
           "fillcolor": "rgba(200, 0, 0, 0.00)",
           "hoverinfo": "name",
           "line": {
            "width": 0
           },
           "mode": "lines",
           "name": "Risk Area",
           "showlegend": false,
           "x": [
            5.0,
            10.0,
            10.0,
            5.0,
            5.0
           ],
           "y": [
            10.0,
            10.0,
            15.0,
            15.0,
            10.0
           ],
           "type": "scatter"
          },
          {
           "fill": "toself",
           "fillcolor": "rgba(200, 0, 0, 0.00)",
           "hoverinfo": "name",
           "line": {
            "width": 0
           },
           "mode": "lines",
           "name": "Risk Area",
           "showlegend": false,
           "x": [
            10.0,
            15.0,
            15.0,
            10.0,
            10.0
           ],
           "y": [
            10.0,
            10.0,
            15.0,
            15.0,
            10.0
           ],
           "type": "scatter"
          },
          {
           "hoverinfo": "text",
           "marker": {
            "opacity": 1,
            "size": 1
           },
           "mode": "markers",
           "showlegend": false,
           "text": [
            "ID: 61.0, Pos(9.74,12.64)"
           ],
           "x": [
            9.742606254305354
           ],
           "y": [
            12.637731927651739
           ],
           "type": "scatter"
          },
          {
           "hoverinfo": "text",
           "marker": {
            "opacity": 1,
            "size": 1
           },
           "mode": "markers",
           "showlegend": false,
           "text": [
            "ID: 62.0, Pos(9.38,13.28)"
           ],
           "x": [
            9.379983563550699
           ],
           "y": [
            13.28265870499573
           ],
           "type": "scatter"
          },
          {
           "hoverinfo": "text",
           "marker": {
            "opacity": 1,
            "size": 1
           },
           "mode": "markers",
           "showlegend": false,
           "text": [
            "ID: 63.0, Pos(6.13,12.20)"
           ],
           "x": [
            6.129146389996134
           ],
           "y": [
            12.203823478505276
           ],
           "type": "scatter"
          },
          {
           "hoverinfo": "text",
           "marker": {
            "opacity": 1,
            "size": 1
           },
           "mode": "markers",
           "showlegend": false,
           "text": [
            "ID: 64.0, Pos(10.92,12.74)"
           ],
           "x": [
            10.915774231772211
           ],
           "y": [
            12.740856767506266
           ],
           "type": "scatter"
          },
          {
           "hoverinfo": "text",
           "marker": {
            "opacity": 1,
            "size": 1
           },
           "mode": "markers",
           "showlegend": false,
           "text": [
            "ID: 65.0, Pos(10.63,13.35)"
           ],
           "x": [
            10.627241363432265
           ],
           "y": [
            13.352590270172316
           ],
           "type": "scatter"
          },
          {
           "hoverinfo": "text",
           "marker": {
            "opacity": 1,
            "size": 1
           },
           "mode": "markers",
           "showlegend": false,
           "text": [
            "ID: 68.0, Pos(8.45,12.67)"
           ],
           "x": [
            8.453852797151388
           ],
           "y": [
            12.673660498207187
           ],
           "type": "scatter"
          },
          {
           "hoverinfo": "text",
           "marker": {
            "opacity": 1,
            "size": 1
           },
           "mode": "markers",
           "showlegend": false,
           "text": [
            "ID: 69.0, Pos(11.85,13.42)"
           ],
           "x": [
            11.85332713336349
           ],
           "y": [
            13.41508363033283
           ],
           "type": "scatter"
          },
          {
           "hoverinfo": "text",
           "marker": {
            "opacity": 1,
            "size": 1
           },
           "mode": "markers",
           "showlegend": false,
           "text": [
            "ID: 70.0, Pos(7.28,12.44)"
           ],
           "x": [
            7.281922468978317
           ],
           "y": [
            12.437818935482397
           ],
           "type": "scatter"
          },
          {
           "hoverinfo": "none",
           "marker": {
            "opacity": 0,
            "size": 1
           },
           "mode": "markers",
           "showlegend": false,
           "x": [
            0.0
           ],
           "y": [
            0.0
           ],
           "type": "scatter"
          },
          {
           "hoverinfo": "none",
           "marker": {
            "opacity": 0,
            "size": 1
           },
           "mode": "markers",
           "showlegend": false,
           "x": [
            0.0
           ],
           "y": [
            0.0
           ],
           "type": "scatter"
          }
         ],
         "layout": {
          "shapes": [
           {
            "fillcolor": "rgba(0, 0, 164, 0.5)",
            "line": {
             "color": "rgba(0, 0, 164, 0.5)"
            },
            "type": "circle",
            "x0": 9.542606254305355,
            "x1": 9.942606254305353,
            "xref": "x",
            "y0": 12.43773192765174,
            "y1": 12.837731927651738,
            "yref": "y"
           },
           {
            "fillcolor": "rgba(0, 0, 128, 0.5)",
            "line": {
             "color": "rgba(0, 0, 128, 0.5)"
            },
            "type": "circle",
            "x0": 9.1799835635507,
            "x1": 9.579983563550698,
            "xref": "x",
            "y0": 13.082658704995731,
            "y1": 13.48265870499573,
            "yref": "y"
           },
           {
            "fillcolor": "rgba(0, 0, 164, 0.5)",
            "line": {
             "color": "rgba(0, 0, 164, 0.5)"
            },
            "type": "circle",
            "x0": 5.929146389996133,
            "x1": 6.329146389996134,
            "xref": "x",
            "y0": 12.003823478505277,
            "y1": 12.403823478505275,
            "yref": "y"
           },
           {
            "fillcolor": "rgba(0, 0, 128, 0.5)",
            "line": {
             "color": "rgba(0, 0, 128, 0.5)"
            },
            "type": "circle",
            "x0": 10.715774231772212,
            "x1": 11.11577423177221,
            "xref": "x",
            "y0": 12.540856767506266,
            "y1": 12.940856767506265,
            "yref": "y"
           },
           {
            "fillcolor": "rgba(0, 0, 128, 0.5)",
            "line": {
             "color": "rgba(0, 0, 128, 0.5)"
            },
            "type": "circle",
            "x0": 10.427241363432266,
            "x1": 10.827241363432265,
            "xref": "x",
            "y0": 13.152590270172317,
            "y1": 13.552590270172315,
            "yref": "y"
           },
           {
            "fillcolor": "rgba(0, 0, 128, 0.5)",
            "line": {
             "color": "rgba(0, 0, 128, 0.5)"
            },
            "type": "circle",
            "x0": 8.253852797151389,
            "x1": 8.653852797151387,
            "xref": "x",
            "y0": 12.473660498207188,
            "y1": 12.873660498207187,
            "yref": "y"
           },
           {
            "fillcolor": "rgba(0, 0, 128, 0.5)",
            "line": {
             "color": "rgba(0, 0, 128, 0.5)"
            },
            "type": "circle",
            "x0": 11.65332713336349,
            "x1": 12.053327133363489,
            "xref": "x",
            "y0": 13.215083630332831,
            "y1": 13.61508363033283,
            "yref": "y"
           },
           {
            "fillcolor": "rgba(0, 0, 132, 0.5)",
            "line": {
             "color": "rgba(0, 0, 132, 0.5)"
            },
            "type": "circle",
            "x0": 7.081922468978317,
            "x1": 7.4819224689783175,
            "xref": "x",
            "y0": 12.237818935482398,
            "y1": 12.637818935482397,
            "yref": "y"
           },
           {
            "fillcolor": "rgba(255,255,255,0)",
            "line": {
             "width": 0
            },
            "type": "circle",
            "x0": 0.0,
            "x1": 0.0,
            "xref": "x",
            "y0": 0.0,
            "y1": 0.0,
            "yref": "y"
           },
           {
            "fillcolor": "rgba(255,255,255,0)",
            "line": {
             "width": 0
            },
            "type": "circle",
            "x0": 0.0,
            "x1": 0.0,
            "xref": "x",
            "y0": 0.0,
            "y1": 0.0,
            "yref": "y"
           },
           {
            "line": {
             "color": "white",
             "width": 3
            },
            "type": "line",
            "x0": 9.742606254305354,
            "x1": 9.93910206225316,
            "y0": 12.637731927651739,
            "y1": 12.67500654983546
           },
           {
            "line": {
             "color": "white",
             "width": 3
            },
            "type": "line",
            "x0": 9.379983563550699,
            "x1": 9.576415561609402,
            "y0": 13.28265870499573,
            "y1": 13.320268147143489
           },
           {
            "line": {
             "color": "white",
             "width": 3
            },
            "type": "line",
            "x0": 6.129146389996134,
            "x1": 6.325152930942426,
            "y0": 12.203823478505276,
            "y1": 12.243590750303444
           },
           {
            "line": {
             "color": "white",
             "width": 3
            },
            "type": "line",
            "x0": 10.915774231772211,
            "x1": 11.112525974903914,
            "y0": 12.740856767506266,
            "y1": 12.776755953773312
           },
           {
            "line": {
             "color": "white",
             "width": 3
            },
            "type": "line",
            "x0": 10.627241363432265,
            "x1": 10.81899752238488,
            "y0": 13.352590270172316,
            "y1": 13.40941962441587
           },
           {
            "line": {
             "color": "white",
             "width": 3
            },
            "type": "line",
            "x0": 8.453852797151388,
            "x1": 8.649875399127117,
            "y0": 12.673660498207187,
            "y1": 12.713348525553798
           },
           {
            "line": {
             "color": "white",
             "width": 3
            },
            "type": "line",
            "x0": 11.85332713336349,
            "x1": 12.050262213419522,
            "y0": 13.41508363033283,
            "y1": 13.44996305468765
           },
           {
            "line": {
             "color": "white",
             "width": 3
            },
            "type": "line",
            "x0": 7.281922468978317,
            "x1": 7.477929602954724,
            "y0": 12.437818935482397,
            "y1": 12.477583284217852
           },
           {
            "line": {
             "color": "rgba(255,255,255,0)",
             "width": 3
            },
            "type": "line",
            "x0": 0.0,
            "x1": null,
            "y0": 0.0,
            "y1": null
           },
           {
            "line": {
             "color": "rgba(255,255,255,0)",
             "width": 3
            },
            "type": "line",
            "x0": 0.0,
            "x1": null,
            "y0": 0.0,
            "y1": null
           }
          ],
          "title": {
           "text": "<b>Percentage using the shortest path: 0%  |  Number of Agents: 8</b>",
           "x": 0.5
          }
         },
         "name": "600"
        },
        {
         "data": [
          {
           "hoverinfo": "name",
           "line": {
            "color": "grey"
           },
           "mode": "lines",
           "name": "Exterior",
           "showlegend": false,
           "x": [
            10.1,
            10.1,
            15.0,
            15.0,
            13.6,
            13.6,
            15.0,
            15.0,
            13.6,
            13.6,
            15.0,
            15.0,
            10.1,
            10.1,
            9.9,
            9.9,
            5.1,
            5.1,
            4.9,
            4.9,
            0.0,
            0.0,
            1.5,
            1.5,
            0.0,
            0.0,
            1.5,
            1.5,
            0.0,
            0.0,
            4.9,
            4.9,
            5.1,
            5.1,
            9.9,
            9.9,
            10.1
           ],
           "y": [
            1.5,
            0.0,
            0.0,
            4.9,
            4.9,
            5.1,
            5.1,
            9.9,
            9.9,
            10.1,
            10.1,
            15.0,
            15.0,
            13.6,
            13.6,
            15.0,
            15.0,
            13.6,
            13.6,
            15.0,
            15.0,
            10.1,
            10.1,
            9.9,
            9.9,
            5.1,
            5.1,
            4.9,
            4.9,
            0.0,
            0.0,
            1.5,
            1.5,
            0.0,
            0.0,
            1.5,
            1.5
           ],
           "type": "scatter"
          },
          {
           "hoverinfo": "name",
           "line": {
            "color": "grey"
           },
           "mode": "lines",
           "name": "Obstacle",
           "showlegend": false,
           "x": [
            10.1,
            11.5,
            11.5,
            10.1,
            10.1,
            9.9,
            9.9,
            8.6,
            8.6,
            9.9,
            9.9,
            10.1,
            10.1
           ],
           "y": [
            5.1,
            5.1,
            4.9,
            4.9,
            3.6,
            3.6,
            4.9,
            4.9,
            5.1,
            5.1,
            6.5,
            6.5,
            5.1
           ],
           "type": "scatter"
          },
          {
           "hoverinfo": "name",
           "line": {
            "color": "grey"
           },
           "mode": "lines",
           "name": "Obstacle",
           "showlegend": false,
           "x": [
            10.1,
            11.5,
            11.5,
            10.1,
            10.1,
            9.9,
            9.9,
            8.6,
            8.6,
            9.9,
            9.9,
            10.1,
            10.1
           ],
           "y": [
            10.1,
            10.1,
            9.9,
            9.9,
            8.6,
            8.6,
            9.9,
            9.9,
            10.1,
            10.1,
            11.5,
            11.5,
            10.1
           ],
           "type": "scatter"
          },
          {
           "hoverinfo": "name",
           "line": {
            "color": "grey"
           },
           "mode": "lines",
           "name": "Obstacle",
           "showlegend": false,
           "x": [
            5.1,
            6.4,
            6.4,
            5.1,
            5.1,
            4.9,
            4.9,
            3.6,
            3.6,
            4.9,
            4.9,
            5.1,
            5.1
           ],
           "y": [
            5.1,
            5.1,
            4.9,
            4.9,
            3.6,
            3.6,
            4.9,
            4.9,
            5.1,
            5.1,
            6.5,
            6.5,
            5.1
           ],
           "type": "scatter"
          },
          {
           "hoverinfo": "name",
           "line": {
            "color": "grey"
           },
           "mode": "lines",
           "name": "Obstacle",
           "showlegend": false,
           "x": [
            5.1,
            6.4,
            6.4,
            5.1,
            5.1,
            4.9,
            4.9,
            3.6,
            3.6,
            4.9,
            4.9,
            5.1,
            5.1
           ],
           "y": [
            10.1,
            10.1,
            9.9,
            9.9,
            8.6,
            8.6,
            9.9,
            9.9,
            10.1,
            10.1,
            11.5,
            11.5,
            10.1
           ],
           "type": "scatter"
          },
          {
           "fill": "toself",
           "fillcolor": "rgba(200, 0, 0, 0.40)",
           "hoverinfo": "name",
           "line": {
            "width": 0
           },
           "mode": "lines",
           "name": "Risk Area",
           "showlegend": false,
           "x": [
            0.0,
            5.0,
            5.0,
            0.0,
            0.0
           ],
           "y": [
            0.0,
            0.0,
            5.0,
            5.0,
            0.0
           ],
           "type": "scatter"
          },
          {
           "fill": "toself",
           "fillcolor": "rgba(200, 0, 0, 0.60)",
           "hoverinfo": "name",
           "line": {
            "width": 0
           },
           "mode": "lines",
           "name": "Risk Area",
           "showlegend": false,
           "x": [
            5.0,
            10.0,
            10.0,
            5.0,
            5.0
           ],
           "y": [
            0.0,
            0.0,
            5.0,
            5.0,
            0.0
           ],
           "type": "scatter"
          },
          {
           "fill": "toself",
           "fillcolor": "rgba(200, 0, 0, 0.00)",
           "hoverinfo": "name",
           "line": {
            "width": 0
           },
           "mode": "lines",
           "name": "Risk Area",
           "showlegend": false,
           "x": [
            10.0,
            15.0,
            15.0,
            10.0,
            10.0
           ],
           "y": [
            0.0,
            0.0,
            5.0,
            5.0,
            0.0
           ],
           "type": "scatter"
          },
          {
           "fill": "toself",
           "fillcolor": "rgba(200, 0, 0, 0.60)",
           "hoverinfo": "name",
           "line": {
            "width": 0
           },
           "mode": "lines",
           "name": "Risk Area",
           "showlegend": false,
           "x": [
            10.0,
            15.0,
            15.0,
            10.0,
            10.0
           ],
           "y": [
            5.0,
            5.0,
            10.0,
            10.0,
            5.0
           ],
           "type": "scatter"
          },
          {
           "fill": "toself",
           "fillcolor": "rgba(200, 0, 0, 0.70)",
           "hoverinfo": "name",
           "line": {
            "width": 0
           },
           "mode": "lines",
           "name": "Risk Area",
           "showlegend": false,
           "x": [
            5.0,
            10.0,
            10.0,
            5.0,
            5.0
           ],
           "y": [
            5.0,
            5.0,
            10.0,
            10.0,
            5.0
           ],
           "type": "scatter"
          },
          {
           "fill": "toself",
           "fillcolor": "rgba(200, 0, 0, 0.10)",
           "hoverinfo": "name",
           "line": {
            "width": 0
           },
           "mode": "lines",
           "name": "Risk Area",
           "showlegend": false,
           "x": [
            0.0,
            5.0,
            5.0,
            0.0,
            0.0
           ],
           "y": [
            5.0,
            5.0,
            10.0,
            10.0,
            5.0
           ],
           "type": "scatter"
          },
          {
           "fill": "toself",
           "fillcolor": "rgba(200, 0, 0, 0.20)",
           "hoverinfo": "name",
           "line": {
            "width": 0
           },
           "mode": "lines",
           "name": "Risk Area",
           "showlegend": false,
           "x": [
            0.0,
            5.0,
            5.0,
            0.0,
            0.0
           ],
           "y": [
            10.0,
            10.0,
            15.0,
            15.0,
            10.0
           ],
           "type": "scatter"
          },
          {
           "fill": "toself",
           "fillcolor": "rgba(200, 0, 0, 0.00)",
           "hoverinfo": "name",
           "line": {
            "width": 0
           },
           "mode": "lines",
           "name": "Risk Area",
           "showlegend": false,
           "x": [
            5.0,
            10.0,
            10.0,
            5.0,
            5.0
           ],
           "y": [
            10.0,
            10.0,
            15.0,
            15.0,
            10.0
           ],
           "type": "scatter"
          },
          {
           "fill": "toself",
           "fillcolor": "rgba(200, 0, 0, 0.00)",
           "hoverinfo": "name",
           "line": {
            "width": 0
           },
           "mode": "lines",
           "name": "Risk Area",
           "showlegend": false,
           "x": [
            10.0,
            15.0,
            15.0,
            10.0,
            10.0
           ],
           "y": [
            10.0,
            10.0,
            15.0,
            15.0,
            10.0
           ],
           "type": "scatter"
          },
          {
           "hoverinfo": "text",
           "marker": {
            "opacity": 1,
            "size": 1
           },
           "mode": "markers",
           "showlegend": false,
           "text": [
            "ID: 61.0, Pos(11.28,13.00)"
           ],
           "x": [
            11.27762185019363
           ],
           "y": [
            12.998712471927357
           ],
           "type": "scatter"
          },
          {
           "hoverinfo": "text",
           "marker": {
            "opacity": 1,
            "size": 1
           },
           "mode": "markers",
           "showlegend": false,
           "text": [
            "ID: 62.0, Pos(10.35,13.21)"
           ],
           "x": [
            10.350566239418493
           ],
           "y": [
            13.21237240313957
           ],
           "type": "scatter"
          },
          {
           "hoverinfo": "text",
           "marker": {
            "opacity": 1,
            "size": 1
           },
           "mode": "markers",
           "showlegend": false,
           "text": [
            "ID: 63.0, Pos(7.59,12.50)"
           ],
           "x": [
            7.594791272356508
           ],
           "y": [
            12.501184421879056
           ],
           "type": "scatter"
          },
          {
           "hoverinfo": "text",
           "marker": {
            "opacity": 1,
            "size": 1
           },
           "mode": "markers",
           "showlegend": false,
           "text": [
            "ID: 64.0, Pos(12.47,13.12)"
           ],
           "x": [
            12.468840597226066
           ],
           "y": [
            13.121725037262701
           ],
           "type": "scatter"
          },
          {
           "hoverinfo": "text",
           "marker": {
            "opacity": 1,
            "size": 1
           },
           "mode": "markers",
           "showlegend": false,
           "text": [
            "ID: 65.0, Pos(12.18,13.72)"
           ],
           "x": [
            12.184629562442007
           ],
           "y": [
            13.718018306482806
           ],
           "type": "scatter"
          },
          {
           "hoverinfo": "text",
           "marker": {
            "opacity": 1,
            "size": 1
           },
           "mode": "markers",
           "showlegend": false,
           "text": [
            "ID: 68.0, Pos(9.55,12.89)"
           ],
           "x": [
            9.554326617672666
           ],
           "y": [
            12.893401213189449
           ],
           "type": "scatter"
          },
          {
           "hoverinfo": "text",
           "marker": {
            "opacity": 1,
            "size": 1
           },
           "mode": "markers",
           "showlegend": false,
           "text": [
            "ID: 70.0, Pos(8.63,12.71)"
           ],
           "x": [
            8.631667651082353
           ],
           "y": [
            12.711660766618811
           ],
           "type": "scatter"
          },
          {
           "hoverinfo": "none",
           "marker": {
            "opacity": 0,
            "size": 1
           },
           "mode": "markers",
           "showlegend": false,
           "x": [
            0.0
           ],
           "y": [
            0.0
           ],
           "type": "scatter"
          },
          {
           "hoverinfo": "none",
           "marker": {
            "opacity": 0,
            "size": 1
           },
           "mode": "markers",
           "showlegend": false,
           "x": [
            0.0
           ],
           "y": [
            0.0
           ],
           "type": "scatter"
          },
          {
           "hoverinfo": "none",
           "marker": {
            "opacity": 0,
            "size": 1
           },
           "mode": "markers",
           "showlegend": false,
           "x": [
            0.0
           ],
           "y": [
            0.0
           ],
           "type": "scatter"
          }
         ],
         "layout": {
          "shapes": [
           {
            "fillcolor": "rgba(0, 0, 132, 0.5)",
            "line": {
             "color": "rgba(0, 0, 132, 0.5)"
            },
            "type": "circle",
            "x0": 11.07762185019363,
            "x1": 11.477621850193628,
            "xref": "x",
            "y0": 12.798712471927358,
            "y1": 13.198712471927356,
            "yref": "y"
           },
           {
            "fillcolor": "rgba(0, 228, 248, 0.5)",
            "line": {
             "color": "rgba(0, 228, 248, 0.5)"
            },
            "type": "circle",
            "x0": 10.150566239418493,
            "x1": 10.550566239418492,
            "xref": "x",
            "y0": 13.01237240313957,
            "y1": 13.41237240313957,
            "yref": "y"
           },
           {
            "fillcolor": "rgba(0, 72, 255, 0.5)",
            "line": {
             "color": "rgba(0, 72, 255, 0.5)"
            },
            "type": "circle",
            "x0": 7.394791272356508,
            "x1": 7.794791272356508,
            "xref": "x",
            "y0": 12.301184421879057,
            "y1": 12.701184421879056,
            "yref": "y"
           },
           {
            "fillcolor": "rgba(0, 0, 128, 0.5)",
            "line": {
             "color": "rgba(0, 0, 128, 0.5)"
            },
            "type": "circle",
            "x0": 12.268840597226067,
            "x1": 12.668840597226065,
            "xref": "x",
            "y0": 12.921725037262702,
            "y1": 13.3217250372627,
            "yref": "y"
           },
           {
            "fillcolor": "rgba(0, 0, 132, 0.5)",
            "line": {
             "color": "rgba(0, 0, 132, 0.5)"
            },
            "type": "circle",
            "x0": 11.984629562442008,
            "x1": 12.384629562442006,
            "xref": "x",
            "y0": 13.518018306482807,
            "y1": 13.918018306482805,
            "yref": "y"
           },
           {
            "fillcolor": "rgba(102, 255, 144, 0.5)",
            "line": {
             "color": "rgba(102, 255, 144, 0.5)"
            },
            "type": "circle",
            "x0": 9.354326617672667,
            "x1": 9.754326617672666,
            "xref": "x",
            "y0": 12.69340121318945,
            "y1": 13.093401213189448,
            "yref": "y"
           },
           {
            "fillcolor": "rgba(9, 240, 238, 0.5)",
            "line": {
             "color": "rgba(9, 240, 238, 0.5)"
            },
            "type": "circle",
            "x0": 8.431667651082353,
            "x1": 8.831667651082352,
            "xref": "x",
            "y0": 12.511660766618812,
            "y1": 12.91166076661881,
            "yref": "y"
           },
           {
            "fillcolor": "rgba(255,255,255,0)",
            "line": {
             "width": 0
            },
            "type": "circle",
            "x0": 0.0,
            "x1": 0.0,
            "xref": "x",
            "y0": 0.0,
            "y1": 0.0,
            "yref": "y"
           },
           {
            "fillcolor": "rgba(255,255,255,0)",
            "line": {
             "width": 0
            },
            "type": "circle",
            "x0": 0.0,
            "x1": 0.0,
            "xref": "x",
            "y0": 0.0,
            "y1": 0.0,
            "yref": "y"
           },
           {
            "fillcolor": "rgba(255,255,255,0)",
            "line": {
             "width": 0
            },
            "type": "circle",
            "x0": 0.0,
            "x1": 0.0,
            "xref": "x",
            "y0": 0.0,
            "y1": 0.0,
            "yref": "y"
           },
           {
            "line": {
             "color": "white",
             "width": 3
            },
            "type": "line",
            "x0": 11.27762185019363,
            "x1": 11.469306347460957,
            "y0": 12.998712471927357,
            "y1": 13.055783073005074
           },
           {
            "line": {
             "color": "black",
             "width": 3
            },
            "type": "line",
            "x0": 10.350566239418493,
            "x1": 10.549236120808883,
            "y0": 13.21237240313957,
            "y1": 13.235400173946314
           },
           {
            "line": {
             "color": "white",
             "width": 3
            },
            "type": "line",
            "x0": 7.594791272356508,
            "x1": 7.790797822167233,
            "y0": 12.501184421879056,
            "y1": 12.540951649985821
           },
           {
            "line": {
             "color": "white",
             "width": 3
            },
            "type": "line",
            "x0": 12.468840597226066,
            "x1": 12.661833840538243,
            "y0": 13.121725037262701,
            "y1": 13.17419986966688
           },
           {
            "line": {
             "color": "white",
             "width": 3
            },
            "type": "line",
            "x0": 12.184629562442007,
            "x1": 12.380278601555311,
            "y0": 13.718018306482806,
            "y1": 13.759508708915664
           },
           {
            "line": {
             "color": "black",
             "width": 3
            },
            "type": "line",
            "x0": 9.554326617672666,
            "x1": 9.750484101402915,
            "y0": 12.893401213189449,
            "y1": 12.932417127591357
           },
           {
            "line": {
             "color": "black",
             "width": 3
            },
            "type": "line",
            "x0": 8.631667651082353,
            "x1": 8.827672349750529,
            "y0": 12.711660766618811,
            "y1": 12.751437117632918
           },
           {
            "line": {
             "color": "rgba(255,255,255,0)",
             "width": 3
            },
            "type": "line",
            "x0": 0.0,
            "x1": null,
            "y0": 0.0,
            "y1": null
           },
           {
            "line": {
             "color": "rgba(255,255,255,0)",
             "width": 3
            },
            "type": "line",
            "x0": 0.0,
            "x1": null,
            "y0": 0.0,
            "y1": null
           },
           {
            "line": {
             "color": "rgba(255,255,255,0)",
             "width": 3
            },
            "type": "line",
            "x0": 0.0,
            "x1": null,
            "y0": 0.0,
            "y1": null
           }
          ],
          "title": {
           "text": "<b>Percentage using the shortest path: 0%  |  Number of Agents: 7</b>",
           "x": 0.5
          }
         },
         "name": "650"
        },
        {
         "data": [
          {
           "hoverinfo": "name",
           "line": {
            "color": "grey"
           },
           "mode": "lines",
           "name": "Exterior",
           "showlegend": false,
           "x": [
            10.1,
            10.1,
            15.0,
            15.0,
            13.6,
            13.6,
            15.0,
            15.0,
            13.6,
            13.6,
            15.0,
            15.0,
            10.1,
            10.1,
            9.9,
            9.9,
            5.1,
            5.1,
            4.9,
            4.9,
            0.0,
            0.0,
            1.5,
            1.5,
            0.0,
            0.0,
            1.5,
            1.5,
            0.0,
            0.0,
            4.9,
            4.9,
            5.1,
            5.1,
            9.9,
            9.9,
            10.1
           ],
           "y": [
            1.5,
            0.0,
            0.0,
            4.9,
            4.9,
            5.1,
            5.1,
            9.9,
            9.9,
            10.1,
            10.1,
            15.0,
            15.0,
            13.6,
            13.6,
            15.0,
            15.0,
            13.6,
            13.6,
            15.0,
            15.0,
            10.1,
            10.1,
            9.9,
            9.9,
            5.1,
            5.1,
            4.9,
            4.9,
            0.0,
            0.0,
            1.5,
            1.5,
            0.0,
            0.0,
            1.5,
            1.5
           ],
           "type": "scatter"
          },
          {
           "hoverinfo": "name",
           "line": {
            "color": "grey"
           },
           "mode": "lines",
           "name": "Obstacle",
           "showlegend": false,
           "x": [
            10.1,
            11.5,
            11.5,
            10.1,
            10.1,
            9.9,
            9.9,
            8.6,
            8.6,
            9.9,
            9.9,
            10.1,
            10.1
           ],
           "y": [
            5.1,
            5.1,
            4.9,
            4.9,
            3.6,
            3.6,
            4.9,
            4.9,
            5.1,
            5.1,
            6.5,
            6.5,
            5.1
           ],
           "type": "scatter"
          },
          {
           "hoverinfo": "name",
           "line": {
            "color": "grey"
           },
           "mode": "lines",
           "name": "Obstacle",
           "showlegend": false,
           "x": [
            10.1,
            11.5,
            11.5,
            10.1,
            10.1,
            9.9,
            9.9,
            8.6,
            8.6,
            9.9,
            9.9,
            10.1,
            10.1
           ],
           "y": [
            10.1,
            10.1,
            9.9,
            9.9,
            8.6,
            8.6,
            9.9,
            9.9,
            10.1,
            10.1,
            11.5,
            11.5,
            10.1
           ],
           "type": "scatter"
          },
          {
           "hoverinfo": "name",
           "line": {
            "color": "grey"
           },
           "mode": "lines",
           "name": "Obstacle",
           "showlegend": false,
           "x": [
            5.1,
            6.4,
            6.4,
            5.1,
            5.1,
            4.9,
            4.9,
            3.6,
            3.6,
            4.9,
            4.9,
            5.1,
            5.1
           ],
           "y": [
            5.1,
            5.1,
            4.9,
            4.9,
            3.6,
            3.6,
            4.9,
            4.9,
            5.1,
            5.1,
            6.5,
            6.5,
            5.1
           ],
           "type": "scatter"
          },
          {
           "hoverinfo": "name",
           "line": {
            "color": "grey"
           },
           "mode": "lines",
           "name": "Obstacle",
           "showlegend": false,
           "x": [
            5.1,
            6.4,
            6.4,
            5.1,
            5.1,
            4.9,
            4.9,
            3.6,
            3.6,
            4.9,
            4.9,
            5.1,
            5.1
           ],
           "y": [
            10.1,
            10.1,
            9.9,
            9.9,
            8.6,
            8.6,
            9.9,
            9.9,
            10.1,
            10.1,
            11.5,
            11.5,
            10.1
           ],
           "type": "scatter"
          },
          {
           "fill": "toself",
           "fillcolor": "rgba(200, 0, 0, 0.40)",
           "hoverinfo": "name",
           "line": {
            "width": 0
           },
           "mode": "lines",
           "name": "Risk Area",
           "showlegend": false,
           "x": [
            0.0,
            5.0,
            5.0,
            0.0,
            0.0
           ],
           "y": [
            0.0,
            0.0,
            5.0,
            5.0,
            0.0
           ],
           "type": "scatter"
          },
          {
           "fill": "toself",
           "fillcolor": "rgba(200, 0, 0, 0.60)",
           "hoverinfo": "name",
           "line": {
            "width": 0
           },
           "mode": "lines",
           "name": "Risk Area",
           "showlegend": false,
           "x": [
            5.0,
            10.0,
            10.0,
            5.0,
            5.0
           ],
           "y": [
            0.0,
            0.0,
            5.0,
            5.0,
            0.0
           ],
           "type": "scatter"
          },
          {
           "fill": "toself",
           "fillcolor": "rgba(200, 0, 0, 0.00)",
           "hoverinfo": "name",
           "line": {
            "width": 0
           },
           "mode": "lines",
           "name": "Risk Area",
           "showlegend": false,
           "x": [
            10.0,
            15.0,
            15.0,
            10.0,
            10.0
           ],
           "y": [
            0.0,
            0.0,
            5.0,
            5.0,
            0.0
           ],
           "type": "scatter"
          },
          {
           "fill": "toself",
           "fillcolor": "rgba(200, 0, 0, 0.60)",
           "hoverinfo": "name",
           "line": {
            "width": 0
           },
           "mode": "lines",
           "name": "Risk Area",
           "showlegend": false,
           "x": [
            10.0,
            15.0,
            15.0,
            10.0,
            10.0
           ],
           "y": [
            5.0,
            5.0,
            10.0,
            10.0,
            5.0
           ],
           "type": "scatter"
          },
          {
           "fill": "toself",
           "fillcolor": "rgba(200, 0, 0, 0.70)",
           "hoverinfo": "name",
           "line": {
            "width": 0
           },
           "mode": "lines",
           "name": "Risk Area",
           "showlegend": false,
           "x": [
            5.0,
            10.0,
            10.0,
            5.0,
            5.0
           ],
           "y": [
            5.0,
            5.0,
            10.0,
            10.0,
            5.0
           ],
           "type": "scatter"
          },
          {
           "fill": "toself",
           "fillcolor": "rgba(200, 0, 0, 0.10)",
           "hoverinfo": "name",
           "line": {
            "width": 0
           },
           "mode": "lines",
           "name": "Risk Area",
           "showlegend": false,
           "x": [
            0.0,
            5.0,
            5.0,
            0.0,
            0.0
           ],
           "y": [
            5.0,
            5.0,
            10.0,
            10.0,
            5.0
           ],
           "type": "scatter"
          },
          {
           "fill": "toself",
           "fillcolor": "rgba(200, 0, 0, 0.20)",
           "hoverinfo": "name",
           "line": {
            "width": 0
           },
           "mode": "lines",
           "name": "Risk Area",
           "showlegend": false,
           "x": [
            0.0,
            5.0,
            5.0,
            0.0,
            0.0
           ],
           "y": [
            10.0,
            10.0,
            15.0,
            15.0,
            10.0
           ],
           "type": "scatter"
          },
          {
           "fill": "toself",
           "fillcolor": "rgba(200, 0, 0, 0.00)",
           "hoverinfo": "name",
           "line": {
            "width": 0
           },
           "mode": "lines",
           "name": "Risk Area",
           "showlegend": false,
           "x": [
            5.0,
            10.0,
            10.0,
            5.0,
            5.0
           ],
           "y": [
            10.0,
            10.0,
            15.0,
            15.0,
            10.0
           ],
           "type": "scatter"
          },
          {
           "fill": "toself",
           "fillcolor": "rgba(200, 0, 0, 0.00)",
           "hoverinfo": "name",
           "line": {
            "width": 0
           },
           "mode": "lines",
           "name": "Risk Area",
           "showlegend": false,
           "x": [
            10.0,
            15.0,
            15.0,
            10.0,
            10.0
           ],
           "y": [
            10.0,
            10.0,
            15.0,
            15.0,
            10.0
           ],
           "type": "scatter"
          },
          {
           "hoverinfo": "text",
           "marker": {
            "opacity": 1,
            "size": 1
           },
           "mode": "markers",
           "showlegend": false,
           "text": [
            "ID: 62.0, Pos(11.69,13.42)"
           ],
           "x": [
            11.685862507302271
           ],
           "y": [
            13.423640956953937
           ],
           "type": "scatter"
          },
          {
           "hoverinfo": "text",
           "marker": {
            "opacity": 1,
            "size": 1
           },
           "mode": "markers",
           "showlegend": false,
           "text": [
            "ID: 63.0, Pos(8.74,12.73)"
           ],
           "x": [
            8.741617928418298
           ],
           "y": [
            12.733860105874303
           ],
           "type": "scatter"
          },
          {
           "hoverinfo": "text",
           "marker": {
            "opacity": 1,
            "size": 1
           },
           "mode": "markers",
           "showlegend": false,
           "text": [
            "ID: 68.0, Pos(10.65,13.11)"
           ],
           "x": [
            10.654139541341102
           ],
           "y": [
            13.11426061441541
           ],
           "type": "scatter"
          },
          {
           "hoverinfo": "text",
           "marker": {
            "opacity": 1,
            "size": 1
           },
           "mode": "markers",
           "showlegend": false,
           "text": [
            "ID: 70.0, Pos(9.68,12.93)"
           ],
           "x": [
            9.684636933551637
           ],
           "y": [
            12.925330113011452
           ],
           "type": "scatter"
          },
          {
           "hoverinfo": "none",
           "marker": {
            "opacity": 0,
            "size": 1
           },
           "mode": "markers",
           "showlegend": false,
           "x": [
            0.0
           ],
           "y": [
            0.0
           ],
           "type": "scatter"
          },
          {
           "hoverinfo": "none",
           "marker": {
            "opacity": 0,
            "size": 1
           },
           "mode": "markers",
           "showlegend": false,
           "x": [
            0.0
           ],
           "y": [
            0.0
           ],
           "type": "scatter"
          },
          {
           "hoverinfo": "none",
           "marker": {
            "opacity": 0,
            "size": 1
           },
           "mode": "markers",
           "showlegend": false,
           "x": [
            0.0
           ],
           "y": [
            0.0
           ],
           "type": "scatter"
          },
          {
           "hoverinfo": "none",
           "marker": {
            "opacity": 0,
            "size": 1
           },
           "mode": "markers",
           "showlegend": false,
           "x": [
            0.0
           ],
           "y": [
            0.0
           ],
           "type": "scatter"
          },
          {
           "hoverinfo": "none",
           "marker": {
            "opacity": 0,
            "size": 1
           },
           "mode": "markers",
           "showlegend": false,
           "x": [
            0.0
           ],
           "y": [
            0.0
           ],
           "type": "scatter"
          },
          {
           "hoverinfo": "none",
           "marker": {
            "opacity": 0,
            "size": 1
           },
           "mode": "markers",
           "showlegend": false,
           "x": [
            0.0
           ],
           "y": [
            0.0
           ],
           "type": "scatter"
          }
         ],
         "layout": {
          "shapes": [
           {
            "fillcolor": "rgba(0, 0, 128, 0.5)",
            "line": {
             "color": "rgba(0, 0, 128, 0.5)"
            },
            "type": "circle",
            "x0": 11.485862507302272,
            "x1": 11.88586250730227,
            "xref": "x",
            "y0": 13.223640956953938,
            "y1": 13.623640956953937,
            "yref": "y"
           },
           {
            "fillcolor": "rgba(0, 208, 255, 0.5)",
            "line": {
             "color": "rgba(0, 208, 255, 0.5)"
            },
            "type": "circle",
            "x0": 8.5416179284183,
            "x1": 8.941617928418298,
            "xref": "x",
            "y0": 12.533860105874304,
            "y1": 12.933860105874302,
            "yref": "y"
           },
           {
            "fillcolor": "rgba(0, 48, 255, 0.5)",
            "line": {
             "color": "rgba(0, 48, 255, 0.5)"
            },
            "type": "circle",
            "x0": 10.454139541341103,
            "x1": 10.854139541341102,
            "xref": "x",
            "y0": 12.914260614415412,
            "y1": 13.31426061441541,
            "yref": "y"
           },
           {
            "fillcolor": "rgba(0, 173, 255, 0.5)",
            "line": {
             "color": "rgba(0, 173, 255, 0.5)"
            },
            "type": "circle",
            "x0": 9.484636933551638,
            "x1": 9.884636933551636,
            "xref": "x",
            "y0": 12.725330113011452,
            "y1": 13.12533011301145,
            "yref": "y"
           },
           {
            "fillcolor": "rgba(255,255,255,0)",
            "line": {
             "width": 0
            },
            "type": "circle",
            "x0": 0.0,
            "x1": 0.0,
            "xref": "x",
            "y0": 0.0,
            "y1": 0.0,
            "yref": "y"
           },
           {
            "fillcolor": "rgba(255,255,255,0)",
            "line": {
             "width": 0
            },
            "type": "circle",
            "x0": 0.0,
            "x1": 0.0,
            "xref": "x",
            "y0": 0.0,
            "y1": 0.0,
            "yref": "y"
           },
           {
            "fillcolor": "rgba(255,255,255,0)",
            "line": {
             "width": 0
            },
            "type": "circle",
            "x0": 0.0,
            "x1": 0.0,
            "xref": "x",
            "y0": 0.0,
            "y1": 0.0,
            "yref": "y"
           },
           {
            "fillcolor": "rgba(255,255,255,0)",
            "line": {
             "width": 0
            },
            "type": "circle",
            "x0": 0.0,
            "x1": 0.0,
            "xref": "x",
            "y0": 0.0,
            "y1": 0.0,
            "yref": "y"
           },
           {
            "fillcolor": "rgba(255,255,255,0)",
            "line": {
             "width": 0
            },
            "type": "circle",
            "x0": 0.0,
            "x1": 0.0,
            "xref": "x",
            "y0": 0.0,
            "y1": 0.0,
            "yref": "y"
           },
           {
            "fillcolor": "rgba(255,255,255,0)",
            "line": {
             "width": 0
            },
            "type": "circle",
            "x0": 0.0,
            "x1": 0.0,
            "xref": "x",
            "y0": 0.0,
            "y1": 0.0,
            "yref": "y"
           },
           {
            "line": {
             "color": "white",
             "width": 3
            },
            "type": "line",
            "x0": 11.685862507302271,
            "x1": 11.883395866418066,
            "y0": 13.423640956953937,
            "y1": 13.454955043822796
           },
           {
            "line": {
             "color": "black",
             "width": 3
            },
            "type": "line",
            "x0": 8.741617928418298,
            "x1": 8.937624510573293,
            "y0": 12.733860105874303,
            "y1": 12.77362717456081
           },
           {
            "line": {
             "color": "white",
             "width": 3
            },
            "type": "line",
            "x0": 10.654139541341102,
            "x1": 10.850072918718501,
            "y0": 13.11426061441541,
            "y1": 13.15438681071516
           },
           {
            "line": {
             "color": "black",
             "width": 3
            },
            "type": "line",
            "x0": 9.684636933551637,
            "x1": 9.880656004330056,
            "y0": 12.925330113011452,
            "y1": 12.965035577259652
           },
           {
            "line": {
             "color": "rgba(255,255,255,0)",
             "width": 3
            },
            "type": "line",
            "x0": 0.0,
            "x1": null,
            "y0": 0.0,
            "y1": null
           },
           {
            "line": {
             "color": "rgba(255,255,255,0)",
             "width": 3
            },
            "type": "line",
            "x0": 0.0,
            "x1": null,
            "y0": 0.0,
            "y1": null
           },
           {
            "line": {
             "color": "rgba(255,255,255,0)",
             "width": 3
            },
            "type": "line",
            "x0": 0.0,
            "x1": null,
            "y0": 0.0,
            "y1": null
           },
           {
            "line": {
             "color": "rgba(255,255,255,0)",
             "width": 3
            },
            "type": "line",
            "x0": 0.0,
            "x1": null,
            "y0": 0.0,
            "y1": null
           },
           {
            "line": {
             "color": "rgba(255,255,255,0)",
             "width": 3
            },
            "type": "line",
            "x0": 0.0,
            "x1": null,
            "y0": 0.0,
            "y1": null
           },
           {
            "line": {
             "color": "rgba(255,255,255,0)",
             "width": 3
            },
            "type": "line",
            "x0": 0.0,
            "x1": null,
            "y0": 0.0,
            "y1": null
           }
          ],
          "title": {
           "text": "<b>Percentage using the shortest path: 0%  |  Number of Agents: 4</b>",
           "x": 0.5
          }
         },
         "name": "700"
        },
        {
         "data": [
          {
           "hoverinfo": "name",
           "line": {
            "color": "grey"
           },
           "mode": "lines",
           "name": "Exterior",
           "showlegend": false,
           "x": [
            10.1,
            10.1,
            15.0,
            15.0,
            13.6,
            13.6,
            15.0,
            15.0,
            13.6,
            13.6,
            15.0,
            15.0,
            10.1,
            10.1,
            9.9,
            9.9,
            5.1,
            5.1,
            4.9,
            4.9,
            0.0,
            0.0,
            1.5,
            1.5,
            0.0,
            0.0,
            1.5,
            1.5,
            0.0,
            0.0,
            4.9,
            4.9,
            5.1,
            5.1,
            9.9,
            9.9,
            10.1
           ],
           "y": [
            1.5,
            0.0,
            0.0,
            4.9,
            4.9,
            5.1,
            5.1,
            9.9,
            9.9,
            10.1,
            10.1,
            15.0,
            15.0,
            13.6,
            13.6,
            15.0,
            15.0,
            13.6,
            13.6,
            15.0,
            15.0,
            10.1,
            10.1,
            9.9,
            9.9,
            5.1,
            5.1,
            4.9,
            4.9,
            0.0,
            0.0,
            1.5,
            1.5,
            0.0,
            0.0,
            1.5,
            1.5
           ],
           "type": "scatter"
          },
          {
           "hoverinfo": "name",
           "line": {
            "color": "grey"
           },
           "mode": "lines",
           "name": "Obstacle",
           "showlegend": false,
           "x": [
            10.1,
            11.5,
            11.5,
            10.1,
            10.1,
            9.9,
            9.9,
            8.6,
            8.6,
            9.9,
            9.9,
            10.1,
            10.1
           ],
           "y": [
            5.1,
            5.1,
            4.9,
            4.9,
            3.6,
            3.6,
            4.9,
            4.9,
            5.1,
            5.1,
            6.5,
            6.5,
            5.1
           ],
           "type": "scatter"
          },
          {
           "hoverinfo": "name",
           "line": {
            "color": "grey"
           },
           "mode": "lines",
           "name": "Obstacle",
           "showlegend": false,
           "x": [
            10.1,
            11.5,
            11.5,
            10.1,
            10.1,
            9.9,
            9.9,
            8.6,
            8.6,
            9.9,
            9.9,
            10.1,
            10.1
           ],
           "y": [
            10.1,
            10.1,
            9.9,
            9.9,
            8.6,
            8.6,
            9.9,
            9.9,
            10.1,
            10.1,
            11.5,
            11.5,
            10.1
           ],
           "type": "scatter"
          },
          {
           "hoverinfo": "name",
           "line": {
            "color": "grey"
           },
           "mode": "lines",
           "name": "Obstacle",
           "showlegend": false,
           "x": [
            5.1,
            6.4,
            6.4,
            5.1,
            5.1,
            4.9,
            4.9,
            3.6,
            3.6,
            4.9,
            4.9,
            5.1,
            5.1
           ],
           "y": [
            5.1,
            5.1,
            4.9,
            4.9,
            3.6,
            3.6,
            4.9,
            4.9,
            5.1,
            5.1,
            6.5,
            6.5,
            5.1
           ],
           "type": "scatter"
          },
          {
           "hoverinfo": "name",
           "line": {
            "color": "grey"
           },
           "mode": "lines",
           "name": "Obstacle",
           "showlegend": false,
           "x": [
            5.1,
            6.4,
            6.4,
            5.1,
            5.1,
            4.9,
            4.9,
            3.6,
            3.6,
            4.9,
            4.9,
            5.1,
            5.1
           ],
           "y": [
            10.1,
            10.1,
            9.9,
            9.9,
            8.6,
            8.6,
            9.9,
            9.9,
            10.1,
            10.1,
            11.5,
            11.5,
            10.1
           ],
           "type": "scatter"
          },
          {
           "fill": "toself",
           "fillcolor": "rgba(200, 0, 0, 0.50)",
           "hoverinfo": "name",
           "line": {
            "width": 0
           },
           "mode": "lines",
           "name": "Risk Area",
           "showlegend": false,
           "x": [
            0.0,
            5.0,
            5.0,
            0.0,
            0.0
           ],
           "y": [
            0.0,
            0.0,
            5.0,
            5.0,
            0.0
           ],
           "type": "scatter"
          },
          {
           "fill": "toself",
           "fillcolor": "rgba(200, 0, 0, 0.60)",
           "hoverinfo": "name",
           "line": {
            "width": 0
           },
           "mode": "lines",
           "name": "Risk Area",
           "showlegend": false,
           "x": [
            5.0,
            10.0,
            10.0,
            5.0,
            5.0
           ],
           "y": [
            0.0,
            0.0,
            5.0,
            5.0,
            0.0
           ],
           "type": "scatter"
          },
          {
           "fill": "toself",
           "fillcolor": "rgba(200, 0, 0, 0.00)",
           "hoverinfo": "name",
           "line": {
            "width": 0
           },
           "mode": "lines",
           "name": "Risk Area",
           "showlegend": false,
           "x": [
            10.0,
            15.0,
            15.0,
            10.0,
            10.0
           ],
           "y": [
            0.0,
            0.0,
            5.0,
            5.0,
            0.0
           ],
           "type": "scatter"
          },
          {
           "fill": "toself",
           "fillcolor": "rgba(200, 0, 0, 0.60)",
           "hoverinfo": "name",
           "line": {
            "width": 0
           },
           "mode": "lines",
           "name": "Risk Area",
           "showlegend": false,
           "x": [
            10.0,
            15.0,
            15.0,
            10.0,
            10.0
           ],
           "y": [
            5.0,
            5.0,
            10.0,
            10.0,
            5.0
           ],
           "type": "scatter"
          },
          {
           "fill": "toself",
           "fillcolor": "rgba(200, 0, 0, 0.70)",
           "hoverinfo": "name",
           "line": {
            "width": 0
           },
           "mode": "lines",
           "name": "Risk Area",
           "showlegend": false,
           "x": [
            5.0,
            10.0,
            10.0,
            5.0,
            5.0
           ],
           "y": [
            5.0,
            5.0,
            10.0,
            10.0,
            5.0
           ],
           "type": "scatter"
          },
          {
           "fill": "toself",
           "fillcolor": "rgba(200, 0, 0, 0.10)",
           "hoverinfo": "name",
           "line": {
            "width": 0
           },
           "mode": "lines",
           "name": "Risk Area",
           "showlegend": false,
           "x": [
            0.0,
            5.0,
            5.0,
            0.0,
            0.0
           ],
           "y": [
            5.0,
            5.0,
            10.0,
            10.0,
            5.0
           ],
           "type": "scatter"
          },
          {
           "fill": "toself",
           "fillcolor": "rgba(200, 0, 0, 0.20)",
           "hoverinfo": "name",
           "line": {
            "width": 0
           },
           "mode": "lines",
           "name": "Risk Area",
           "showlegend": false,
           "x": [
            0.0,
            5.0,
            5.0,
            0.0,
            0.0
           ],
           "y": [
            10.0,
            10.0,
            15.0,
            15.0,
            10.0
           ],
           "type": "scatter"
          },
          {
           "fill": "toself",
           "fillcolor": "rgba(200, 0, 0, 0.00)",
           "hoverinfo": "name",
           "line": {
            "width": 0
           },
           "mode": "lines",
           "name": "Risk Area",
           "showlegend": false,
           "x": [
            5.0,
            10.0,
            10.0,
            5.0,
            5.0
           ],
           "y": [
            10.0,
            10.0,
            15.0,
            15.0,
            10.0
           ],
           "type": "scatter"
          },
          {
           "fill": "toself",
           "fillcolor": "rgba(200, 0, 0, 0.00)",
           "hoverinfo": "name",
           "line": {
            "width": 0
           },
           "mode": "lines",
           "name": "Risk Area",
           "showlegend": false,
           "x": [
            10.0,
            15.0,
            15.0,
            10.0,
            10.0
           ],
           "y": [
            10.0,
            10.0,
            15.0,
            15.0,
            10.0
           ],
           "type": "scatter"
          },
          {
           "hoverinfo": "text",
           "marker": {
            "opacity": 1,
            "size": 1
           },
           "mode": "markers",
           "showlegend": false,
           "text": [
            "ID: 63.0, Pos(9.95,12.98)"
           ],
           "x": [
            9.947557755440393
           ],
           "y": [
            12.978154016301048
           ],
           "type": "scatter"
          },
          {
           "hoverinfo": "text",
           "marker": {
            "opacity": 1,
            "size": 1
           },
           "mode": "markers",
           "showlegend": false,
           "text": [
            "ID: 68.0, Pos(12.14,13.42)"
           ],
           "x": [
            12.141512472572108
           ],
           "y": [
            13.41960279497249
           ],
           "type": "scatter"
          },
          {
           "hoverinfo": "text",
           "marker": {
            "opacity": 1,
            "size": 1
           },
           "mode": "markers",
           "showlegend": false,
           "text": [
            "ID: 70.0, Pos(11.01,13.19)"
           ],
           "x": [
            11.010465495627006
           ],
           "y": [
            13.192163218662815
           ],
           "type": "scatter"
          },
          {
           "hoverinfo": "none",
           "marker": {
            "opacity": 0,
            "size": 1
           },
           "mode": "markers",
           "showlegend": false,
           "x": [
            0.0
           ],
           "y": [
            0.0
           ],
           "type": "scatter"
          },
          {
           "hoverinfo": "none",
           "marker": {
            "opacity": 0,
            "size": 1
           },
           "mode": "markers",
           "showlegend": false,
           "x": [
            0.0
           ],
           "y": [
            0.0
           ],
           "type": "scatter"
          },
          {
           "hoverinfo": "none",
           "marker": {
            "opacity": 0,
            "size": 1
           },
           "mode": "markers",
           "showlegend": false,
           "x": [
            0.0
           ],
           "y": [
            0.0
           ],
           "type": "scatter"
          },
          {
           "hoverinfo": "none",
           "marker": {
            "opacity": 0,
            "size": 1
           },
           "mode": "markers",
           "showlegend": false,
           "x": [
            0.0
           ],
           "y": [
            0.0
           ],
           "type": "scatter"
          },
          {
           "hoverinfo": "none",
           "marker": {
            "opacity": 0,
            "size": 1
           },
           "mode": "markers",
           "showlegend": false,
           "x": [
            0.0
           ],
           "y": [
            0.0
           ],
           "type": "scatter"
          },
          {
           "hoverinfo": "none",
           "marker": {
            "opacity": 0,
            "size": 1
           },
           "mode": "markers",
           "showlegend": false,
           "x": [
            0.0
           ],
           "y": [
            0.0
           ],
           "type": "scatter"
          },
          {
           "hoverinfo": "none",
           "marker": {
            "opacity": 0,
            "size": 1
           },
           "mode": "markers",
           "showlegend": false,
           "x": [
            0.0
           ],
           "y": [
            0.0
           ],
           "type": "scatter"
          }
         ],
         "layout": {
          "shapes": [
           {
            "fillcolor": "rgba(0, 37, 255, 0.5)",
            "line": {
             "color": "rgba(0, 37, 255, 0.5)"
            },
            "type": "circle",
            "x0": 9.747557755440393,
            "x1": 10.147557755440392,
            "xref": "x",
            "y0": 12.778154016301048,
            "y1": 13.178154016301047,
            "yref": "y"
           },
           {
            "fillcolor": "rgba(0, 0, 128, 0.5)",
            "line": {
             "color": "rgba(0, 0, 128, 0.5)"
            },
            "type": "circle",
            "x0": 11.941512472572109,
            "x1": 12.341512472572107,
            "xref": "x",
            "y0": 13.219602794972491,
            "y1": 13.61960279497249,
            "yref": "y"
           },
           {
            "fillcolor": "rgba(0, 0, 200, 0.5)",
            "line": {
             "color": "rgba(0, 0, 200, 0.5)"
            },
            "type": "circle",
            "x0": 10.810465495627007,
            "x1": 11.210465495627005,
            "xref": "x",
            "y0": 12.992163218662816,
            "y1": 13.392163218662814,
            "yref": "y"
           },
           {
            "fillcolor": "rgba(255,255,255,0)",
            "line": {
             "width": 0
            },
            "type": "circle",
            "x0": 0.0,
            "x1": 0.0,
            "xref": "x",
            "y0": 0.0,
            "y1": 0.0,
            "yref": "y"
           },
           {
            "fillcolor": "rgba(255,255,255,0)",
            "line": {
             "width": 0
            },
            "type": "circle",
            "x0": 0.0,
            "x1": 0.0,
            "xref": "x",
            "y0": 0.0,
            "y1": 0.0,
            "yref": "y"
           },
           {
            "fillcolor": "rgba(255,255,255,0)",
            "line": {
             "width": 0
            },
            "type": "circle",
            "x0": 0.0,
            "x1": 0.0,
            "xref": "x",
            "y0": 0.0,
            "y1": 0.0,
            "yref": "y"
           },
           {
            "fillcolor": "rgba(255,255,255,0)",
            "line": {
             "width": 0
            },
            "type": "circle",
            "x0": 0.0,
            "x1": 0.0,
            "xref": "x",
            "y0": 0.0,
            "y1": 0.0,
            "yref": "y"
           },
           {
            "fillcolor": "rgba(255,255,255,0)",
            "line": {
             "width": 0
            },
            "type": "circle",
            "x0": 0.0,
            "x1": 0.0,
            "xref": "x",
            "y0": 0.0,
            "y1": 0.0,
            "yref": "y"
           },
           {
            "fillcolor": "rgba(255,255,255,0)",
            "line": {
             "width": 0
            },
            "type": "circle",
            "x0": 0.0,
            "x1": 0.0,
            "xref": "x",
            "y0": 0.0,
            "y1": 0.0,
            "yref": "y"
           },
           {
            "fillcolor": "rgba(255,255,255,0)",
            "line": {
             "width": 0
            },
            "type": "circle",
            "x0": 0.0,
            "x1": 0.0,
            "xref": "x",
            "y0": 0.0,
            "y1": 0.0,
            "yref": "y"
           },
           {
            "line": {
             "color": "white",
             "width": 3
            },
            "type": "line",
            "x0": 9.947557755440393,
            "x1": 10.143667116703917,
            "y0": 12.978154016301048,
            "y1": 13.017411097507024
           },
           {
            "line": {
             "color": "white",
             "width": 3
            },
            "type": "line",
            "x0": 12.141512472572108,
            "x1": 12.33742242571293,
            "y0": 13.41960279497249,
            "y1": 13.45984320079004
           },
           {
            "line": {
             "color": "white",
             "width": 3
            },
            "type": "line",
            "x0": 11.010465495627006,
            "x1": 11.206443977150437,
            "y0": 13.192163218662815,
            "y1": 13.232068541362553
           },
           {
            "line": {
             "color": "rgba(255,255,255,0)",
             "width": 3
            },
            "type": "line",
            "x0": 0.0,
            "x1": null,
            "y0": 0.0,
            "y1": null
           },
           {
            "line": {
             "color": "rgba(255,255,255,0)",
             "width": 3
            },
            "type": "line",
            "x0": 0.0,
            "x1": null,
            "y0": 0.0,
            "y1": null
           },
           {
            "line": {
             "color": "rgba(255,255,255,0)",
             "width": 3
            },
            "type": "line",
            "x0": 0.0,
            "x1": null,
            "y0": 0.0,
            "y1": null
           },
           {
            "line": {
             "color": "rgba(255,255,255,0)",
             "width": 3
            },
            "type": "line",
            "x0": 0.0,
            "x1": null,
            "y0": 0.0,
            "y1": null
           },
           {
            "line": {
             "color": "rgba(255,255,255,0)",
             "width": 3
            },
            "type": "line",
            "x0": 0.0,
            "x1": null,
            "y0": 0.0,
            "y1": null
           },
           {
            "line": {
             "color": "rgba(255,255,255,0)",
             "width": 3
            },
            "type": "line",
            "x0": 0.0,
            "x1": null,
            "y0": 0.0,
            "y1": null
           },
           {
            "line": {
             "color": "rgba(255,255,255,0)",
             "width": 3
            },
            "type": "line",
            "x0": 0.0,
            "x1": null,
            "y0": 0.0,
            "y1": null
           }
          ],
          "title": {
           "text": "<b>Percentage using the shortest path: 0%  |  Number of Agents: 3</b>",
           "x": 0.5
          }
         },
         "name": "750"
        },
        {
         "data": [
          {
           "hoverinfo": "name",
           "line": {
            "color": "grey"
           },
           "mode": "lines",
           "name": "Exterior",
           "showlegend": false,
           "x": [
            10.1,
            10.1,
            15.0,
            15.0,
            13.6,
            13.6,
            15.0,
            15.0,
            13.6,
            13.6,
            15.0,
            15.0,
            10.1,
            10.1,
            9.9,
            9.9,
            5.1,
            5.1,
            4.9,
            4.9,
            0.0,
            0.0,
            1.5,
            1.5,
            0.0,
            0.0,
            1.5,
            1.5,
            0.0,
            0.0,
            4.9,
            4.9,
            5.1,
            5.1,
            9.9,
            9.9,
            10.1
           ],
           "y": [
            1.5,
            0.0,
            0.0,
            4.9,
            4.9,
            5.1,
            5.1,
            9.9,
            9.9,
            10.1,
            10.1,
            15.0,
            15.0,
            13.6,
            13.6,
            15.0,
            15.0,
            13.6,
            13.6,
            15.0,
            15.0,
            10.1,
            10.1,
            9.9,
            9.9,
            5.1,
            5.1,
            4.9,
            4.9,
            0.0,
            0.0,
            1.5,
            1.5,
            0.0,
            0.0,
            1.5,
            1.5
           ],
           "type": "scatter"
          },
          {
           "hoverinfo": "name",
           "line": {
            "color": "grey"
           },
           "mode": "lines",
           "name": "Obstacle",
           "showlegend": false,
           "x": [
            10.1,
            11.5,
            11.5,
            10.1,
            10.1,
            9.9,
            9.9,
            8.6,
            8.6,
            9.9,
            9.9,
            10.1,
            10.1
           ],
           "y": [
            5.1,
            5.1,
            4.9,
            4.9,
            3.6,
            3.6,
            4.9,
            4.9,
            5.1,
            5.1,
            6.5,
            6.5,
            5.1
           ],
           "type": "scatter"
          },
          {
           "hoverinfo": "name",
           "line": {
            "color": "grey"
           },
           "mode": "lines",
           "name": "Obstacle",
           "showlegend": false,
           "x": [
            10.1,
            11.5,
            11.5,
            10.1,
            10.1,
            9.9,
            9.9,
            8.6,
            8.6,
            9.9,
            9.9,
            10.1,
            10.1
           ],
           "y": [
            10.1,
            10.1,
            9.9,
            9.9,
            8.6,
            8.6,
            9.9,
            9.9,
            10.1,
            10.1,
            11.5,
            11.5,
            10.1
           ],
           "type": "scatter"
          },
          {
           "hoverinfo": "name",
           "line": {
            "color": "grey"
           },
           "mode": "lines",
           "name": "Obstacle",
           "showlegend": false,
           "x": [
            5.1,
            6.4,
            6.4,
            5.1,
            5.1,
            4.9,
            4.9,
            3.6,
            3.6,
            4.9,
            4.9,
            5.1,
            5.1
           ],
           "y": [
            5.1,
            5.1,
            4.9,
            4.9,
            3.6,
            3.6,
            4.9,
            4.9,
            5.1,
            5.1,
            6.5,
            6.5,
            5.1
           ],
           "type": "scatter"
          },
          {
           "hoverinfo": "name",
           "line": {
            "color": "grey"
           },
           "mode": "lines",
           "name": "Obstacle",
           "showlegend": false,
           "x": [
            5.1,
            6.4,
            6.4,
            5.1,
            5.1,
            4.9,
            4.9,
            3.6,
            3.6,
            4.9,
            4.9,
            5.1,
            5.1
           ],
           "y": [
            10.1,
            10.1,
            9.9,
            9.9,
            8.6,
            8.6,
            9.9,
            9.9,
            10.1,
            10.1,
            11.5,
            11.5,
            10.1
           ],
           "type": "scatter"
          },
          {
           "fill": "toself",
           "fillcolor": "rgba(200, 0, 0, 0.50)",
           "hoverinfo": "name",
           "line": {
            "width": 0
           },
           "mode": "lines",
           "name": "Risk Area",
           "showlegend": false,
           "x": [
            0.0,
            5.0,
            5.0,
            0.0,
            0.0
           ],
           "y": [
            0.0,
            0.0,
            5.0,
            5.0,
            0.0
           ],
           "type": "scatter"
          },
          {
           "fill": "toself",
           "fillcolor": "rgba(200, 0, 0, 0.60)",
           "hoverinfo": "name",
           "line": {
            "width": 0
           },
           "mode": "lines",
           "name": "Risk Area",
           "showlegend": false,
           "x": [
            5.0,
            10.0,
            10.0,
            5.0,
            5.0
           ],
           "y": [
            0.0,
            0.0,
            5.0,
            5.0,
            0.0
           ],
           "type": "scatter"
          },
          {
           "fill": "toself",
           "fillcolor": "rgba(200, 0, 0, 0.10)",
           "hoverinfo": "name",
           "line": {
            "width": 0
           },
           "mode": "lines",
           "name": "Risk Area",
           "showlegend": false,
           "x": [
            10.0,
            15.0,
            15.0,
            10.0,
            10.0
           ],
           "y": [
            0.0,
            0.0,
            5.0,
            5.0,
            0.0
           ],
           "type": "scatter"
          },
          {
           "fill": "toself",
           "fillcolor": "rgba(200, 0, 0, 0.60)",
           "hoverinfo": "name",
           "line": {
            "width": 0
           },
           "mode": "lines",
           "name": "Risk Area",
           "showlegend": false,
           "x": [
            10.0,
            15.0,
            15.0,
            10.0,
            10.0
           ],
           "y": [
            5.0,
            5.0,
            10.0,
            10.0,
            5.0
           ],
           "type": "scatter"
          },
          {
           "fill": "toself",
           "fillcolor": "rgba(200, 0, 0, 0.70)",
           "hoverinfo": "name",
           "line": {
            "width": 0
           },
           "mode": "lines",
           "name": "Risk Area",
           "showlegend": false,
           "x": [
            5.0,
            10.0,
            10.0,
            5.0,
            5.0
           ],
           "y": [
            5.0,
            5.0,
            10.0,
            10.0,
            5.0
           ],
           "type": "scatter"
          },
          {
           "fill": "toself",
           "fillcolor": "rgba(200, 0, 0, 0.10)",
           "hoverinfo": "name",
           "line": {
            "width": 0
           },
           "mode": "lines",
           "name": "Risk Area",
           "showlegend": false,
           "x": [
            0.0,
            5.0,
            5.0,
            0.0,
            0.0
           ],
           "y": [
            5.0,
            5.0,
            10.0,
            10.0,
            5.0
           ],
           "type": "scatter"
          },
          {
           "fill": "toself",
           "fillcolor": "rgba(200, 0, 0, 0.20)",
           "hoverinfo": "name",
           "line": {
            "width": 0
           },
           "mode": "lines",
           "name": "Risk Area",
           "showlegend": false,
           "x": [
            0.0,
            5.0,
            5.0,
            0.0,
            0.0
           ],
           "y": [
            10.0,
            10.0,
            15.0,
            15.0,
            10.0
           ],
           "type": "scatter"
          },
          {
           "fill": "toself",
           "fillcolor": "rgba(200, 0, 0, 0.00)",
           "hoverinfo": "name",
           "line": {
            "width": 0
           },
           "mode": "lines",
           "name": "Risk Area",
           "showlegend": false,
           "x": [
            5.0,
            10.0,
            10.0,
            5.0,
            5.0
           ],
           "y": [
            10.0,
            10.0,
            15.0,
            15.0,
            10.0
           ],
           "type": "scatter"
          },
          {
           "fill": "toself",
           "fillcolor": "rgba(200, 0, 0, 0.00)",
           "hoverinfo": "name",
           "line": {
            "width": 0
           },
           "mode": "lines",
           "name": "Risk Area",
           "showlegend": false,
           "x": [
            10.0,
            15.0,
            15.0,
            10.0,
            10.0
           ],
           "y": [
            10.0,
            10.0,
            15.0,
            15.0,
            10.0
           ],
           "type": "scatter"
          },
          {
           "hoverinfo": "text",
           "marker": {
            "opacity": 1,
            "size": 1
           },
           "mode": "markers",
           "showlegend": false,
           "text": [
            "ID: 63.0, Pos(11.40,13.27)"
           ],
           "x": [
            11.404565648073874
           ],
           "y": [
            13.272305591321116
           ],
           "type": "scatter"
          },
          {
           "hoverinfo": "none",
           "marker": {
            "opacity": 0,
            "size": 1
           },
           "mode": "markers",
           "showlegend": false,
           "x": [
            0.0
           ],
           "y": [
            0.0
           ],
           "type": "scatter"
          },
          {
           "hoverinfo": "none",
           "marker": {
            "opacity": 0,
            "size": 1
           },
           "mode": "markers",
           "showlegend": false,
           "x": [
            0.0
           ],
           "y": [
            0.0
           ],
           "type": "scatter"
          },
          {
           "hoverinfo": "none",
           "marker": {
            "opacity": 0,
            "size": 1
           },
           "mode": "markers",
           "showlegend": false,
           "x": [
            0.0
           ],
           "y": [
            0.0
           ],
           "type": "scatter"
          },
          {
           "hoverinfo": "none",
           "marker": {
            "opacity": 0,
            "size": 1
           },
           "mode": "markers",
           "showlegend": false,
           "x": [
            0.0
           ],
           "y": [
            0.0
           ],
           "type": "scatter"
          },
          {
           "hoverinfo": "none",
           "marker": {
            "opacity": 0,
            "size": 1
           },
           "mode": "markers",
           "showlegend": false,
           "x": [
            0.0
           ],
           "y": [
            0.0
           ],
           "type": "scatter"
          },
          {
           "hoverinfo": "none",
           "marker": {
            "opacity": 0,
            "size": 1
           },
           "mode": "markers",
           "showlegend": false,
           "x": [
            0.0
           ],
           "y": [
            0.0
           ],
           "type": "scatter"
          },
          {
           "hoverinfo": "none",
           "marker": {
            "opacity": 0,
            "size": 1
           },
           "mode": "markers",
           "showlegend": false,
           "x": [
            0.0
           ],
           "y": [
            0.0
           ],
           "type": "scatter"
          },
          {
           "hoverinfo": "none",
           "marker": {
            "opacity": 0,
            "size": 1
           },
           "mode": "markers",
           "showlegend": false,
           "x": [
            0.0
           ],
           "y": [
            0.0
           ],
           "type": "scatter"
          },
          {
           "hoverinfo": "none",
           "marker": {
            "opacity": 0,
            "size": 1
           },
           "mode": "markers",
           "showlegend": false,
           "x": [
            0.0
           ],
           "y": [
            0.0
           ],
           "type": "scatter"
          }
         ],
         "layout": {
          "shapes": [
           {
            "fillcolor": "rgba(0, 0, 137, 0.5)",
            "line": {
             "color": "rgba(0, 0, 137, 0.5)"
            },
            "type": "circle",
            "x0": 11.204565648073874,
            "x1": 11.604565648073873,
            "xref": "x",
            "y0": 13.072305591321117,
            "y1": 13.472305591321115,
            "yref": "y"
           },
           {
            "fillcolor": "rgba(255,255,255,0)",
            "line": {
             "width": 0
            },
            "type": "circle",
            "x0": 0.0,
            "x1": 0.0,
            "xref": "x",
            "y0": 0.0,
            "y1": 0.0,
            "yref": "y"
           },
           {
            "fillcolor": "rgba(255,255,255,0)",
            "line": {
             "width": 0
            },
            "type": "circle",
            "x0": 0.0,
            "x1": 0.0,
            "xref": "x",
            "y0": 0.0,
            "y1": 0.0,
            "yref": "y"
           },
           {
            "fillcolor": "rgba(255,255,255,0)",
            "line": {
             "width": 0
            },
            "type": "circle",
            "x0": 0.0,
            "x1": 0.0,
            "xref": "x",
            "y0": 0.0,
            "y1": 0.0,
            "yref": "y"
           },
           {
            "fillcolor": "rgba(255,255,255,0)",
            "line": {
             "width": 0
            },
            "type": "circle",
            "x0": 0.0,
            "x1": 0.0,
            "xref": "x",
            "y0": 0.0,
            "y1": 0.0,
            "yref": "y"
           },
           {
            "fillcolor": "rgba(255,255,255,0)",
            "line": {
             "width": 0
            },
            "type": "circle",
            "x0": 0.0,
            "x1": 0.0,
            "xref": "x",
            "y0": 0.0,
            "y1": 0.0,
            "yref": "y"
           },
           {
            "fillcolor": "rgba(255,255,255,0)",
            "line": {
             "width": 0
            },
            "type": "circle",
            "x0": 0.0,
            "x1": 0.0,
            "xref": "x",
            "y0": 0.0,
            "y1": 0.0,
            "yref": "y"
           },
           {
            "fillcolor": "rgba(255,255,255,0)",
            "line": {
             "width": 0
            },
            "type": "circle",
            "x0": 0.0,
            "x1": 0.0,
            "xref": "x",
            "y0": 0.0,
            "y1": 0.0,
            "yref": "y"
           },
           {
            "fillcolor": "rgba(255,255,255,0)",
            "line": {
             "width": 0
            },
            "type": "circle",
            "x0": 0.0,
            "x1": 0.0,
            "xref": "x",
            "y0": 0.0,
            "y1": 0.0,
            "yref": "y"
           },
           {
            "fillcolor": "rgba(255,255,255,0)",
            "line": {
             "width": 0
            },
            "type": "circle",
            "x0": 0.0,
            "x1": 0.0,
            "xref": "x",
            "y0": 0.0,
            "y1": 0.0,
            "yref": "y"
           },
           {
            "line": {
             "color": "white",
             "width": 3
            },
            "type": "line",
            "x0": 11.404565648073874,
            "x1": 11.600542252982242,
            "y0": 13.272305591321116,
            "y1": 13.312220129131155
           },
           {
            "line": {
             "color": "rgba(255,255,255,0)",
             "width": 3
            },
            "type": "line",
            "x0": 0.0,
            "x1": null,
            "y0": 0.0,
            "y1": null
           },
           {
            "line": {
             "color": "rgba(255,255,255,0)",
             "width": 3
            },
            "type": "line",
            "x0": 0.0,
            "x1": null,
            "y0": 0.0,
            "y1": null
           },
           {
            "line": {
             "color": "rgba(255,255,255,0)",
             "width": 3
            },
            "type": "line",
            "x0": 0.0,
            "x1": null,
            "y0": 0.0,
            "y1": null
           },
           {
            "line": {
             "color": "rgba(255,255,255,0)",
             "width": 3
            },
            "type": "line",
            "x0": 0.0,
            "x1": null,
            "y0": 0.0,
            "y1": null
           },
           {
            "line": {
             "color": "rgba(255,255,255,0)",
             "width": 3
            },
            "type": "line",
            "x0": 0.0,
            "x1": null,
            "y0": 0.0,
            "y1": null
           },
           {
            "line": {
             "color": "rgba(255,255,255,0)",
             "width": 3
            },
            "type": "line",
            "x0": 0.0,
            "x1": null,
            "y0": 0.0,
            "y1": null
           },
           {
            "line": {
             "color": "rgba(255,255,255,0)",
             "width": 3
            },
            "type": "line",
            "x0": 0.0,
            "x1": null,
            "y0": 0.0,
            "y1": null
           },
           {
            "line": {
             "color": "rgba(255,255,255,0)",
             "width": 3
            },
            "type": "line",
            "x0": 0.0,
            "x1": null,
            "y0": 0.0,
            "y1": null
           },
           {
            "line": {
             "color": "rgba(255,255,255,0)",
             "width": 3
            },
            "type": "line",
            "x0": 0.0,
            "x1": null,
            "y0": 0.0,
            "y1": null
           }
          ],
          "title": {
           "text": "<b>Percentage using the shortest path: 0%  |  Number of Agents: 1</b>",
           "x": 0.5
          }
         },
         "name": "800"
        }
       ],
       "config": {
        "plotlyServerURL": "https://plot.ly"
       }
      },
      "text/html": "<div>                            <div id=\"8dd440a3-367e-498e-bf8e-5684720a70be\" class=\"plotly-graph-div\" style=\"height:800px; width:800px;\"></div>            <script type=\"text/javascript\">                require([\"plotly\"], function(Plotly) {                    window.PLOTLYENV=window.PLOTLYENV || {};                                    if (document.getElementById(\"8dd440a3-367e-498e-bf8e-5684720a70be\")) {                    Plotly.newPlot(                        \"8dd440a3-367e-498e-bf8e-5684720a70be\",                        [{\"hoverinfo\":\"name\",\"line\":{\"color\":\"grey\"},\"mode\":\"lines\",\"name\":\"Exterior\",\"showlegend\":false,\"x\":[10.1,10.1,15.0,15.0,13.6,13.6,15.0,15.0,13.6,13.6,15.0,15.0,10.1,10.1,9.9,9.9,5.1,5.1,4.9,4.9,0.0,0.0,1.5,1.5,0.0,0.0,1.5,1.5,0.0,0.0,4.9,4.9,5.1,5.1,9.9,9.9,10.1],\"y\":[1.5,0.0,0.0,4.9,4.9,5.1,5.1,9.9,9.9,10.1,10.1,15.0,15.0,13.6,13.6,15.0,15.0,13.6,13.6,15.0,15.0,10.1,10.1,9.9,9.9,5.1,5.1,4.9,4.9,0.0,0.0,1.5,1.5,0.0,0.0,1.5,1.5],\"type\":\"scatter\"},{\"hoverinfo\":\"name\",\"line\":{\"color\":\"grey\"},\"mode\":\"lines\",\"name\":\"Obstacle\",\"showlegend\":false,\"x\":[10.1,11.5,11.5,10.1,10.1,9.9,9.9,8.6,8.6,9.9,9.9,10.1,10.1],\"y\":[5.1,5.1,4.9,4.9,3.6,3.6,4.9,4.9,5.1,5.1,6.5,6.5,5.1],\"type\":\"scatter\"},{\"hoverinfo\":\"name\",\"line\":{\"color\":\"grey\"},\"mode\":\"lines\",\"name\":\"Obstacle\",\"showlegend\":false,\"x\":[10.1,11.5,11.5,10.1,10.1,9.9,9.9,8.6,8.6,9.9,9.9,10.1,10.1],\"y\":[10.1,10.1,9.9,9.9,8.6,8.6,9.9,9.9,10.1,10.1,11.5,11.5,10.1],\"type\":\"scatter\"},{\"hoverinfo\":\"name\",\"line\":{\"color\":\"grey\"},\"mode\":\"lines\",\"name\":\"Obstacle\",\"showlegend\":false,\"x\":[5.1,6.4,6.4,5.1,5.1,4.9,4.9,3.6,3.6,4.9,4.9,5.1,5.1],\"y\":[5.1,5.1,4.9,4.9,3.6,3.6,4.9,4.9,5.1,5.1,6.5,6.5,5.1],\"type\":\"scatter\"},{\"hoverinfo\":\"name\",\"line\":{\"color\":\"grey\"},\"mode\":\"lines\",\"name\":\"Obstacle\",\"showlegend\":false,\"x\":[5.1,6.4,6.4,5.1,5.1,4.9,4.9,3.6,3.6,4.9,4.9,5.1,5.1],\"y\":[10.1,10.1,9.9,9.9,8.6,8.6,9.9,9.9,10.1,10.1,11.5,11.5,10.1],\"type\":\"scatter\"},{\"fill\":\"toself\",\"fillcolor\":\"rgba(200, 0, 0, 0.50)\",\"hoverinfo\":\"name\",\"line\":{\"width\":0},\"mode\":\"lines\",\"name\":\"Risk Area\",\"showlegend\":false,\"x\":[0.0,5.0,5.0,0.0,0.0],\"y\":[0.0,0.0,5.0,5.0,0.0],\"type\":\"scatter\"},{\"fill\":\"toself\",\"fillcolor\":\"rgba(200, 0, 0, 0.60)\",\"hoverinfo\":\"name\",\"line\":{\"width\":0},\"mode\":\"lines\",\"name\":\"Risk Area\",\"showlegend\":false,\"x\":[5.0,10.0,10.0,5.0,5.0],\"y\":[0.0,0.0,5.0,5.0,0.0],\"type\":\"scatter\"},{\"fill\":\"toself\",\"fillcolor\":\"rgba(200, 0, 0, 0.10)\",\"hoverinfo\":\"name\",\"line\":{\"width\":0},\"mode\":\"lines\",\"name\":\"Risk Area\",\"showlegend\":false,\"x\":[10.0,15.0,15.0,10.0,10.0],\"y\":[0.0,0.0,5.0,5.0,0.0],\"type\":\"scatter\"},{\"fill\":\"toself\",\"fillcolor\":\"rgba(200, 0, 0, 0.60)\",\"hoverinfo\":\"name\",\"line\":{\"width\":0},\"mode\":\"lines\",\"name\":\"Risk Area\",\"showlegend\":false,\"x\":[10.0,15.0,15.0,10.0,10.0],\"y\":[5.0,5.0,10.0,10.0,5.0],\"type\":\"scatter\"},{\"fill\":\"toself\",\"fillcolor\":\"rgba(200, 0, 0, 0.70)\",\"hoverinfo\":\"name\",\"line\":{\"width\":0},\"mode\":\"lines\",\"name\":\"Risk Area\",\"showlegend\":false,\"x\":[5.0,10.0,10.0,5.0,5.0],\"y\":[5.0,5.0,10.0,10.0,5.0],\"type\":\"scatter\"},{\"fill\":\"toself\",\"fillcolor\":\"rgba(200, 0, 0, 0.10)\",\"hoverinfo\":\"name\",\"line\":{\"width\":0},\"mode\":\"lines\",\"name\":\"Risk Area\",\"showlegend\":false,\"x\":[0.0,5.0,5.0,0.0,0.0],\"y\":[5.0,5.0,10.0,10.0,5.0],\"type\":\"scatter\"},{\"fill\":\"toself\",\"fillcolor\":\"rgba(200, 0, 0, 0.20)\",\"hoverinfo\":\"name\",\"line\":{\"width\":0},\"mode\":\"lines\",\"name\":\"Risk Area\",\"showlegend\":false,\"x\":[0.0,5.0,5.0,0.0,0.0],\"y\":[10.0,10.0,15.0,15.0,10.0],\"type\":\"scatter\"},{\"fill\":\"toself\",\"fillcolor\":\"rgba(200, 0, 0, 0.00)\",\"hoverinfo\":\"name\",\"line\":{\"width\":0},\"mode\":\"lines\",\"name\":\"Risk Area\",\"showlegend\":false,\"x\":[5.0,10.0,10.0,5.0,5.0],\"y\":[10.0,10.0,15.0,15.0,10.0],\"type\":\"scatter\"},{\"fill\":\"toself\",\"fillcolor\":\"rgba(200, 0, 0, 0.00)\",\"hoverinfo\":\"name\",\"line\":{\"width\":0},\"mode\":\"lines\",\"name\":\"Risk Area\",\"showlegend\":false,\"x\":[10.0,15.0,15.0,10.0,10.0],\"y\":[10.0,10.0,15.0,15.0,10.0],\"type\":\"scatter\"},{\"hoverinfo\":\"none\",\"marker\":{\"cmax\":0.800000000000019,\"cmin\":0,\"color\":[0.7999997415062419,0.5075973971098988,0.7998523749829529,0.7988478819166775,0.7992132371410413,0.7249901030431707,0.612802758593313,0.7999999999999988,0.26322573985669484,0.799652812025704],\"colorbar\":{\"title\":{\"text\":\"Speed [m\\u002fs]\"}},\"colorscale\":[[0.0,\"rgb(128,0,0)\"],[0.2,\"rgb(250,0,0)\"],[0.4,\"rgb(255,255,0)\"],[0.6,\"rgb(5,255,255)\"],[0.8,\"rgb(0,60,170)\"],[1.0,\"rgb(0,0,131)\"]],\"size\":[0.4,0.4,0.4,0.4,0.4,0.4,0.4,0.4,0.4,0.4]},\"mode\":\"markers\",\"showlegend\":false,\"text\":[0.7999997415062419,0.5075973971098988,0.7998523749829529,0.7988478819166775,0.7992132371410413,0.7249901030431707,0.612802758593313,0.7999999999999988,0.26322573985669484,0.799652812025704],\"x\":[3.9863327738146737,0.8488279016949318,1.7258968673840784,2.116160882427272,1.692259232863783,1.453767774845684,3.0719865838614573,3.48879726462054,1.7042831428492793,1.7565776142251517],\"y\":[4.268834270066489,1.6370406488593048,1.5962220773638665,3.5204353653542206,2.7972929381969065,3.6607508930614516,4.234745501580994,1.9561046634672852,3.3139640340517103,2.253852105302265],\"type\":\"scatter\"},{\"hoverinfo\":\"text\",\"marker\":{\"opacity\":1,\"size\":1},\"mode\":\"markers\",\"showlegend\":false,\"text\":[\"ID: 61, Pos(3.99,4.27)\"],\"x\":[3.9863327738146737],\"y\":[4.268834270066489],\"type\":\"scatter\"},{\"hoverinfo\":\"text\",\"marker\":{\"opacity\":1,\"size\":1},\"mode\":\"markers\",\"showlegend\":false,\"text\":[\"ID: 62, Pos(0.85,1.64)\"],\"x\":[0.8488279016949318],\"y\":[1.6370406488593048],\"type\":\"scatter\"},{\"hoverinfo\":\"text\",\"marker\":{\"opacity\":1,\"size\":1},\"mode\":\"markers\",\"showlegend\":false,\"text\":[\"ID: 63, Pos(1.73,1.60)\"],\"x\":[1.7258968673840784],\"y\":[1.5962220773638665],\"type\":\"scatter\"},{\"hoverinfo\":\"text\",\"marker\":{\"opacity\":1,\"size\":1},\"mode\":\"markers\",\"showlegend\":false,\"text\":[\"ID: 64, Pos(2.12,3.52)\"],\"x\":[2.116160882427272],\"y\":[3.5204353653542206],\"type\":\"scatter\"},{\"hoverinfo\":\"text\",\"marker\":{\"opacity\":1,\"size\":1},\"mode\":\"markers\",\"showlegend\":false,\"text\":[\"ID: 65, Pos(1.69,2.80)\"],\"x\":[1.692259232863783],\"y\":[2.7972929381969065],\"type\":\"scatter\"},{\"hoverinfo\":\"text\",\"marker\":{\"opacity\":1,\"size\":1},\"mode\":\"markers\",\"showlegend\":false,\"text\":[\"ID: 66, Pos(1.45,3.66)\"],\"x\":[1.453767774845684],\"y\":[3.6607508930614516],\"type\":\"scatter\"},{\"hoverinfo\":\"text\",\"marker\":{\"opacity\":1,\"size\":1},\"mode\":\"markers\",\"showlegend\":false,\"text\":[\"ID: 67, Pos(3.07,4.23)\"],\"x\":[3.0719865838614573],\"y\":[4.234745501580994],\"type\":\"scatter\"},{\"hoverinfo\":\"text\",\"marker\":{\"opacity\":1,\"size\":1},\"mode\":\"markers\",\"showlegend\":false,\"text\":[\"ID: 68, Pos(3.49,1.96)\"],\"x\":[3.48879726462054],\"y\":[1.9561046634672852],\"type\":\"scatter\"},{\"hoverinfo\":\"text\",\"marker\":{\"opacity\":1,\"size\":1},\"mode\":\"markers\",\"showlegend\":false,\"text\":[\"ID: 69, Pos(1.70,3.31)\"],\"x\":[1.7042831428492793],\"y\":[3.3139640340517103],\"type\":\"scatter\"},{\"hoverinfo\":\"text\",\"marker\":{\"opacity\":1,\"size\":1},\"mode\":\"markers\",\"showlegend\":false,\"text\":[\"ID: 70, Pos(1.76,2.25)\"],\"x\":[1.7565776142251517],\"y\":[2.253852105302265],\"type\":\"scatter\"}],                        {\"shapes\":[{\"fillcolor\":\"rgba(0, 0, 128, 0.5)\",\"line\":{\"color\":\"rgba(0, 0, 128, 0.5)\"},\"type\":\"circle\",\"x0\":3.7863327738146735,\"x1\":4.186332773814674,\"xref\":\"x\",\"y0\":4.068834270066489,\"y1\":4.468834270066489,\"yref\":\"y\"},{\"fillcolor\":\"rgba(48, 255, 199, 0.5)\",\"line\":{\"color\":\"rgba(48, 255, 199, 0.5)\"},\"type\":\"circle\",\"x0\":0.6488279016949319,\"x1\":1.0488279016949318,\"xref\":\"x\",\"y0\":1.4370406488593048,\"y1\":1.8370406488593047,\"yref\":\"y\"},{\"fillcolor\":\"rgba(0, 0, 128, 0.5)\",\"line\":{\"color\":\"rgba(0, 0, 128, 0.5)\"},\"type\":\"circle\",\"x0\":1.5258968673840785,\"x1\":1.9258968673840784,\"xref\":\"x\",\"y0\":1.3962220773638665,\"y1\":1.7962220773638664,\"yref\":\"y\"},{\"fillcolor\":\"rgba(0, 0, 128, 0.5)\",\"line\":{\"color\":\"rgba(0, 0, 128, 0.5)\"},\"type\":\"circle\",\"x0\":1.916160882427272,\"x1\":2.316160882427272,\"xref\":\"x\",\"y0\":3.3204353653542205,\"y1\":3.720435365354221,\"yref\":\"y\"},{\"fillcolor\":\"rgba(0, 0, 128, 0.5)\",\"line\":{\"color\":\"rgba(0, 0, 128, 0.5)\"},\"type\":\"circle\",\"x0\":1.4922592328637831,\"x1\":1.892259232863783,\"xref\":\"x\",\"y0\":2.5972929381969063,\"y1\":2.9972929381969067,\"yref\":\"y\"},{\"fillcolor\":\"rgba(0, 0, 246, 0.5)\",\"line\":{\"color\":\"rgba(0, 0, 246, 0.5)\"},\"type\":\"circle\",\"x0\":1.2537677748456841,\"x1\":1.653767774845684,\"xref\":\"x\",\"y0\":3.4607508930614514,\"y1\":3.860750893061452,\"yref\":\"y\"},{\"fillcolor\":\"rgba(0, 136, 255, 0.5)\",\"line\":{\"color\":\"rgba(0, 136, 255, 0.5)\"},\"type\":\"circle\",\"x0\":2.871986583861457,\"x1\":3.2719865838614575,\"xref\":\"x\",\"y0\":4.034745501580994,\"y1\":4.434745501580994,\"yref\":\"y\"},{\"fillcolor\":\"rgba(0, 0, 128, 0.5)\",\"line\":{\"color\":\"rgba(0, 0, 128, 0.5)\"},\"type\":\"circle\",\"x0\":3.28879726462054,\"x1\":3.6887972646205403,\"xref\":\"x\",\"y0\":1.7561046634672852,\"y1\":2.156104663467285,\"yref\":\"y\"},{\"fillcolor\":\"rgba(255, 152, 0, 0.5)\",\"line\":{\"color\":\"rgba(255, 152, 0, 0.5)\"},\"type\":\"circle\",\"x0\":1.5042831428492793,\"x1\":1.9042831428492792,\"xref\":\"x\",\"y0\":3.11396403405171,\"y1\":3.5139640340517104,\"yref\":\"y\"},{\"fillcolor\":\"rgba(0, 0, 128, 0.5)\",\"line\":{\"color\":\"rgba(0, 0, 128, 0.5)\"},\"type\":\"circle\",\"x0\":1.5565776142251517,\"x1\":1.9565776142251516,\"xref\":\"x\",\"y0\":2.0538521053022647,\"y1\":2.453852105302265,\"yref\":\"y\"},{\"line\":{\"color\":\"white\",\"width\":3},\"type\":\"line\",\"x0\":3.9863327738146737,\"x1\":3.9863327738146737,\"y0\":4.268834270066489,\"y1\":4.268834270066489},{\"line\":{\"color\":\"black\",\"width\":3},\"type\":\"line\",\"x0\":0.8488279016949318,\"x1\":0.8488279016949318,\"y0\":1.6370406488593048,\"y1\":1.6370406488593048},{\"line\":{\"color\":\"white\",\"width\":3},\"type\":\"line\",\"x0\":1.7258968673840784,\"x1\":1.7258968673840784,\"y0\":1.5962220773638665,\"y1\":1.5962220773638665},{\"line\":{\"color\":\"white\",\"width\":3},\"type\":\"line\",\"x0\":2.116160882427272,\"x1\":2.116160882427272,\"y0\":3.5204353653542206,\"y1\":3.5204353653542206},{\"line\":{\"color\":\"white\",\"width\":3},\"type\":\"line\",\"x0\":1.692259232863783,\"x1\":1.692259232863783,\"y0\":2.7972929381969065,\"y1\":2.7972929381969065},{\"line\":{\"color\":\"white\",\"width\":3},\"type\":\"line\",\"x0\":1.453767774845684,\"x1\":1.453767774845684,\"y0\":3.6607508930614516,\"y1\":3.6607508930614516},{\"line\":{\"color\":\"white\",\"width\":3},\"type\":\"line\",\"x0\":3.0719865838614573,\"x1\":3.0719865838614573,\"y0\":4.234745501580994,\"y1\":4.234745501580994},{\"line\":{\"color\":\"white\",\"width\":3},\"type\":\"line\",\"x0\":3.48879726462054,\"x1\":3.48879726462054,\"y0\":1.9561046634672852,\"y1\":1.9561046634672852},{\"line\":{\"color\":\"black\",\"width\":3},\"type\":\"line\",\"x0\":1.7042831428492793,\"x1\":1.7042831428492793,\"y0\":3.3139640340517103,\"y1\":3.3139640340517103},{\"line\":{\"color\":\"white\",\"width\":3},\"type\":\"line\",\"x0\":1.7565776142251517,\"x1\":1.7565776142251517,\"y0\":2.253852105302265,\"y1\":2.253852105302265}],\"title\":{\"text\":\"\\u003cb\\u003ePercentage using the shortest path: 0%  |  Number of Agents: 10\\u003c\\u002fb\\u003e\",\"x\":0.5},\"template\":{\"data\":{\"histogram2dcontour\":[{\"type\":\"histogram2dcontour\",\"colorbar\":{\"outlinewidth\":0,\"ticks\":\"\"},\"colorscale\":[[0.0,\"#0d0887\"],[0.1111111111111111,\"#46039f\"],[0.2222222222222222,\"#7201a8\"],[0.3333333333333333,\"#9c179e\"],[0.4444444444444444,\"#bd3786\"],[0.5555555555555556,\"#d8576b\"],[0.6666666666666666,\"#ed7953\"],[0.7777777777777778,\"#fb9f3a\"],[0.8888888888888888,\"#fdca26\"],[1.0,\"#f0f921\"]]}],\"choropleth\":[{\"type\":\"choropleth\",\"colorbar\":{\"outlinewidth\":0,\"ticks\":\"\"}}],\"histogram2d\":[{\"type\":\"histogram2d\",\"colorbar\":{\"outlinewidth\":0,\"ticks\":\"\"},\"colorscale\":[[0.0,\"#0d0887\"],[0.1111111111111111,\"#46039f\"],[0.2222222222222222,\"#7201a8\"],[0.3333333333333333,\"#9c179e\"],[0.4444444444444444,\"#bd3786\"],[0.5555555555555556,\"#d8576b\"],[0.6666666666666666,\"#ed7953\"],[0.7777777777777778,\"#fb9f3a\"],[0.8888888888888888,\"#fdca26\"],[1.0,\"#f0f921\"]]}],\"heatmap\":[{\"type\":\"heatmap\",\"colorbar\":{\"outlinewidth\":0,\"ticks\":\"\"},\"colorscale\":[[0.0,\"#0d0887\"],[0.1111111111111111,\"#46039f\"],[0.2222222222222222,\"#7201a8\"],[0.3333333333333333,\"#9c179e\"],[0.4444444444444444,\"#bd3786\"],[0.5555555555555556,\"#d8576b\"],[0.6666666666666666,\"#ed7953\"],[0.7777777777777778,\"#fb9f3a\"],[0.8888888888888888,\"#fdca26\"],[1.0,\"#f0f921\"]]}],\"heatmapgl\":[{\"type\":\"heatmapgl\",\"colorbar\":{\"outlinewidth\":0,\"ticks\":\"\"},\"colorscale\":[[0.0,\"#0d0887\"],[0.1111111111111111,\"#46039f\"],[0.2222222222222222,\"#7201a8\"],[0.3333333333333333,\"#9c179e\"],[0.4444444444444444,\"#bd3786\"],[0.5555555555555556,\"#d8576b\"],[0.6666666666666666,\"#ed7953\"],[0.7777777777777778,\"#fb9f3a\"],[0.8888888888888888,\"#fdca26\"],[1.0,\"#f0f921\"]]}],\"contourcarpet\":[{\"type\":\"contourcarpet\",\"colorbar\":{\"outlinewidth\":0,\"ticks\":\"\"}}],\"contour\":[{\"type\":\"contour\",\"colorbar\":{\"outlinewidth\":0,\"ticks\":\"\"},\"colorscale\":[[0.0,\"#0d0887\"],[0.1111111111111111,\"#46039f\"],[0.2222222222222222,\"#7201a8\"],[0.3333333333333333,\"#9c179e\"],[0.4444444444444444,\"#bd3786\"],[0.5555555555555556,\"#d8576b\"],[0.6666666666666666,\"#ed7953\"],[0.7777777777777778,\"#fb9f3a\"],[0.8888888888888888,\"#fdca26\"],[1.0,\"#f0f921\"]]}],\"surface\":[{\"type\":\"surface\",\"colorbar\":{\"outlinewidth\":0,\"ticks\":\"\"},\"colorscale\":[[0.0,\"#0d0887\"],[0.1111111111111111,\"#46039f\"],[0.2222222222222222,\"#7201a8\"],[0.3333333333333333,\"#9c179e\"],[0.4444444444444444,\"#bd3786\"],[0.5555555555555556,\"#d8576b\"],[0.6666666666666666,\"#ed7953\"],[0.7777777777777778,\"#fb9f3a\"],[0.8888888888888888,\"#fdca26\"],[1.0,\"#f0f921\"]]}],\"mesh3d\":[{\"type\":\"mesh3d\",\"colorbar\":{\"outlinewidth\":0,\"ticks\":\"\"}}],\"scatter\":[{\"marker\":{\"line\":{\"color\":\"#283442\"}},\"type\":\"scatter\"}],\"parcoords\":[{\"type\":\"parcoords\",\"line\":{\"colorbar\":{\"outlinewidth\":0,\"ticks\":\"\"}}}],\"scatterpolargl\":[{\"type\":\"scatterpolargl\",\"marker\":{\"colorbar\":{\"outlinewidth\":0,\"ticks\":\"\"}}}],\"bar\":[{\"error_x\":{\"color\":\"#f2f5fa\"},\"error_y\":{\"color\":\"#f2f5fa\"},\"marker\":{\"line\":{\"color\":\"rgb(17,17,17)\",\"width\":0.5},\"pattern\":{\"fillmode\":\"overlay\",\"size\":10,\"solidity\":0.2}},\"type\":\"bar\"}],\"scattergeo\":[{\"type\":\"scattergeo\",\"marker\":{\"colorbar\":{\"outlinewidth\":0,\"ticks\":\"\"}}}],\"scatterpolar\":[{\"type\":\"scatterpolar\",\"marker\":{\"colorbar\":{\"outlinewidth\":0,\"ticks\":\"\"}}}],\"histogram\":[{\"marker\":{\"pattern\":{\"fillmode\":\"overlay\",\"size\":10,\"solidity\":0.2}},\"type\":\"histogram\"}],\"scattergl\":[{\"marker\":{\"line\":{\"color\":\"#283442\"}},\"type\":\"scattergl\"}],\"scatter3d\":[{\"type\":\"scatter3d\",\"line\":{\"colorbar\":{\"outlinewidth\":0,\"ticks\":\"\"}},\"marker\":{\"colorbar\":{\"outlinewidth\":0,\"ticks\":\"\"}}}],\"scattermapbox\":[{\"type\":\"scattermapbox\",\"marker\":{\"colorbar\":{\"outlinewidth\":0,\"ticks\":\"\"}}}],\"scatterternary\":[{\"type\":\"scatterternary\",\"marker\":{\"colorbar\":{\"outlinewidth\":0,\"ticks\":\"\"}}}],\"scattercarpet\":[{\"type\":\"scattercarpet\",\"marker\":{\"colorbar\":{\"outlinewidth\":0,\"ticks\":\"\"}}}],\"carpet\":[{\"aaxis\":{\"endlinecolor\":\"#A2B1C6\",\"gridcolor\":\"#506784\",\"linecolor\":\"#506784\",\"minorgridcolor\":\"#506784\",\"startlinecolor\":\"#A2B1C6\"},\"baxis\":{\"endlinecolor\":\"#A2B1C6\",\"gridcolor\":\"#506784\",\"linecolor\":\"#506784\",\"minorgridcolor\":\"#506784\",\"startlinecolor\":\"#A2B1C6\"},\"type\":\"carpet\"}],\"table\":[{\"cells\":{\"fill\":{\"color\":\"#506784\"},\"line\":{\"color\":\"rgb(17,17,17)\"}},\"header\":{\"fill\":{\"color\":\"#2a3f5f\"},\"line\":{\"color\":\"rgb(17,17,17)\"}},\"type\":\"table\"}],\"barpolar\":[{\"marker\":{\"line\":{\"color\":\"rgb(17,17,17)\",\"width\":0.5},\"pattern\":{\"fillmode\":\"overlay\",\"size\":10,\"solidity\":0.2}},\"type\":\"barpolar\"}],\"pie\":[{\"automargin\":true,\"type\":\"pie\"}]},\"layout\":{\"autotypenumbers\":\"strict\",\"colorway\":[\"#636efa\",\"#EF553B\",\"#00cc96\",\"#ab63fa\",\"#FFA15A\",\"#19d3f3\",\"#FF6692\",\"#B6E880\",\"#FF97FF\",\"#FECB52\"],\"font\":{\"color\":\"#f2f5fa\"},\"hovermode\":\"closest\",\"hoverlabel\":{\"align\":\"left\"},\"paper_bgcolor\":\"rgb(17,17,17)\",\"plot_bgcolor\":\"rgb(17,17,17)\",\"polar\":{\"bgcolor\":\"rgb(17,17,17)\",\"angularaxis\":{\"gridcolor\":\"#506784\",\"linecolor\":\"#506784\",\"ticks\":\"\"},\"radialaxis\":{\"gridcolor\":\"#506784\",\"linecolor\":\"#506784\",\"ticks\":\"\"}},\"ternary\":{\"bgcolor\":\"rgb(17,17,17)\",\"aaxis\":{\"gridcolor\":\"#506784\",\"linecolor\":\"#506784\",\"ticks\":\"\"},\"baxis\":{\"gridcolor\":\"#506784\",\"linecolor\":\"#506784\",\"ticks\":\"\"},\"caxis\":{\"gridcolor\":\"#506784\",\"linecolor\":\"#506784\",\"ticks\":\"\"}},\"coloraxis\":{\"colorbar\":{\"outlinewidth\":0,\"ticks\":\"\"}},\"colorscale\":{\"sequential\":[[0.0,\"#0d0887\"],[0.1111111111111111,\"#46039f\"],[0.2222222222222222,\"#7201a8\"],[0.3333333333333333,\"#9c179e\"],[0.4444444444444444,\"#bd3786\"],[0.5555555555555556,\"#d8576b\"],[0.6666666666666666,\"#ed7953\"],[0.7777777777777778,\"#fb9f3a\"],[0.8888888888888888,\"#fdca26\"],[1.0,\"#f0f921\"]],\"sequentialminus\":[[0.0,\"#0d0887\"],[0.1111111111111111,\"#46039f\"],[0.2222222222222222,\"#7201a8\"],[0.3333333333333333,\"#9c179e\"],[0.4444444444444444,\"#bd3786\"],[0.5555555555555556,\"#d8576b\"],[0.6666666666666666,\"#ed7953\"],[0.7777777777777778,\"#fb9f3a\"],[0.8888888888888888,\"#fdca26\"],[1.0,\"#f0f921\"]],\"diverging\":[[0,\"#8e0152\"],[0.1,\"#c51b7d\"],[0.2,\"#de77ae\"],[0.3,\"#f1b6da\"],[0.4,\"#fde0ef\"],[0.5,\"#f7f7f7\"],[0.6,\"#e6f5d0\"],[0.7,\"#b8e186\"],[0.8,\"#7fbc41\"],[0.9,\"#4d9221\"],[1,\"#276419\"]]},\"xaxis\":{\"gridcolor\":\"#283442\",\"linecolor\":\"#506784\",\"ticks\":\"\",\"title\":{\"standoff\":15},\"zerolinecolor\":\"#283442\",\"automargin\":true,\"zerolinewidth\":2},\"yaxis\":{\"gridcolor\":\"#283442\",\"linecolor\":\"#506784\",\"ticks\":\"\",\"title\":{\"standoff\":15},\"zerolinecolor\":\"#283442\",\"automargin\":true,\"zerolinewidth\":2},\"scene\":{\"xaxis\":{\"backgroundcolor\":\"rgb(17,17,17)\",\"gridcolor\":\"#506784\",\"linecolor\":\"#506784\",\"showbackground\":true,\"ticks\":\"\",\"zerolinecolor\":\"#C8D4E3\",\"gridwidth\":2},\"yaxis\":{\"backgroundcolor\":\"rgb(17,17,17)\",\"gridcolor\":\"#506784\",\"linecolor\":\"#506784\",\"showbackground\":true,\"ticks\":\"\",\"zerolinecolor\":\"#C8D4E3\",\"gridwidth\":2},\"zaxis\":{\"backgroundcolor\":\"rgb(17,17,17)\",\"gridcolor\":\"#506784\",\"linecolor\":\"#506784\",\"showbackground\":true,\"ticks\":\"\",\"zerolinecolor\":\"#C8D4E3\",\"gridwidth\":2}},\"shapedefaults\":{\"line\":{\"color\":\"#f2f5fa\"}},\"annotationdefaults\":{\"arrowcolor\":\"#f2f5fa\",\"arrowhead\":0,\"arrowwidth\":1},\"geo\":{\"bgcolor\":\"rgb(17,17,17)\",\"landcolor\":\"rgb(17,17,17)\",\"subunitcolor\":\"#506784\",\"showland\":true,\"showlakes\":true,\"lakecolor\":\"rgb(17,17,17)\"},\"title\":{\"x\":0.05},\"updatemenudefaults\":{\"bgcolor\":\"#506784\",\"borderwidth\":0},\"sliderdefaults\":{\"bgcolor\":\"#C8D4E3\",\"borderwidth\":1,\"bordercolor\":\"rgb(17,17,17)\",\"tickwidth\":0},\"mapbox\":{\"style\":\"dark\"}}},\"xaxis\":{\"range\":[-0.5,15.5]},\"yaxis\":{\"scaleanchor\":\"x\",\"scaleratio\":1,\"range\":[-0.5,15.5]},\"updatemenus\":[{\"buttons\":[{\"args\":[null,{\"frame\":{\"duration\":100,\"redraw\":true},\"fromcurrent\":true}],\"label\":\"Play\",\"method\":\"animate\"}],\"direction\":\"left\",\"pad\":{\"r\":10,\"t\":87},\"showactive\":false,\"type\":\"buttons\",\"x\":0.1,\"xanchor\":\"right\",\"y\":0,\"yanchor\":\"top\"}],\"sliders\":[{\"active\":0,\"currentvalue\":{\"font\":{\"size\":20},\"prefix\":\"Frame:\",\"visible\":true,\"xanchor\":\"right\"},\"len\":0.9,\"pad\":{\"b\":10,\"t\":50},\"steps\":[{\"args\":[[\"0\"],{\"frame\":{\"duration\":100,\"redraw\":true},\"mode\":\"immediate\",\"transition\":{\"duration\":500}}],\"label\":\"0\",\"method\":\"animate\"},{\"args\":[[\"50\"],{\"frame\":{\"duration\":100,\"redraw\":true},\"mode\":\"immediate\",\"transition\":{\"duration\":500}}],\"label\":\"50\",\"method\":\"animate\"},{\"args\":[[\"100\"],{\"frame\":{\"duration\":100,\"redraw\":true},\"mode\":\"immediate\",\"transition\":{\"duration\":500}}],\"label\":\"100\",\"method\":\"animate\"},{\"args\":[[\"150\"],{\"frame\":{\"duration\":100,\"redraw\":true},\"mode\":\"immediate\",\"transition\":{\"duration\":500}}],\"label\":\"150\",\"method\":\"animate\"},{\"args\":[[\"200\"],{\"frame\":{\"duration\":100,\"redraw\":true},\"mode\":\"immediate\",\"transition\":{\"duration\":500}}],\"label\":\"200\",\"method\":\"animate\"},{\"args\":[[\"250\"],{\"frame\":{\"duration\":100,\"redraw\":true},\"mode\":\"immediate\",\"transition\":{\"duration\":500}}],\"label\":\"250\",\"method\":\"animate\"},{\"args\":[[\"300\"],{\"frame\":{\"duration\":100,\"redraw\":true},\"mode\":\"immediate\",\"transition\":{\"duration\":500}}],\"label\":\"300\",\"method\":\"animate\"},{\"args\":[[\"350\"],{\"frame\":{\"duration\":100,\"redraw\":true},\"mode\":\"immediate\",\"transition\":{\"duration\":500}}],\"label\":\"350\",\"method\":\"animate\"},{\"args\":[[\"400\"],{\"frame\":{\"duration\":100,\"redraw\":true},\"mode\":\"immediate\",\"transition\":{\"duration\":500}}],\"label\":\"400\",\"method\":\"animate\"},{\"args\":[[\"450\"],{\"frame\":{\"duration\":100,\"redraw\":true},\"mode\":\"immediate\",\"transition\":{\"duration\":500}}],\"label\":\"450\",\"method\":\"animate\"},{\"args\":[[\"500\"],{\"frame\":{\"duration\":100,\"redraw\":true},\"mode\":\"immediate\",\"transition\":{\"duration\":500}}],\"label\":\"500\",\"method\":\"animate\"},{\"args\":[[\"550\"],{\"frame\":{\"duration\":100,\"redraw\":true},\"mode\":\"immediate\",\"transition\":{\"duration\":500}}],\"label\":\"550\",\"method\":\"animate\"},{\"args\":[[\"600\"],{\"frame\":{\"duration\":100,\"redraw\":true},\"mode\":\"immediate\",\"transition\":{\"duration\":500}}],\"label\":\"600\",\"method\":\"animate\"},{\"args\":[[\"650\"],{\"frame\":{\"duration\":100,\"redraw\":true},\"mode\":\"immediate\",\"transition\":{\"duration\":500}}],\"label\":\"650\",\"method\":\"animate\"},{\"args\":[[\"700\"],{\"frame\":{\"duration\":100,\"redraw\":true},\"mode\":\"immediate\",\"transition\":{\"duration\":500}}],\"label\":\"700\",\"method\":\"animate\"},{\"args\":[[\"750\"],{\"frame\":{\"duration\":100,\"redraw\":true},\"mode\":\"immediate\",\"transition\":{\"duration\":500}}],\"label\":\"750\",\"method\":\"animate\"},{\"args\":[[\"800\"],{\"frame\":{\"duration\":100,\"redraw\":true},\"mode\":\"immediate\",\"transition\":{\"duration\":500}}],\"label\":\"800\",\"method\":\"animate\"}],\"transition\":{\"duration\":100,\"easing\":\"cubic-in-out\"},\"x\":0.1,\"xanchor\":\"left\",\"y\":0,\"yanchor\":\"top\"}],\"autosize\":false,\"width\":800,\"height\":800},                        {\"responsive\": true}                    ).then(function(){\n                            Plotly.addFrames('8dd440a3-367e-498e-bf8e-5684720a70be', [{\"data\":[{\"hoverinfo\":\"name\",\"line\":{\"color\":\"grey\"},\"mode\":\"lines\",\"name\":\"Exterior\",\"showlegend\":false,\"x\":[10.1,10.1,15.0,15.0,13.6,13.6,15.0,15.0,13.6,13.6,15.0,15.0,10.1,10.1,9.9,9.9,5.1,5.1,4.9,4.9,0.0,0.0,1.5,1.5,0.0,0.0,1.5,1.5,0.0,0.0,4.9,4.9,5.1,5.1,9.9,9.9,10.1],\"y\":[1.5,0.0,0.0,4.9,4.9,5.1,5.1,9.9,9.9,10.1,10.1,15.0,15.0,13.6,13.6,15.0,15.0,13.6,13.6,15.0,15.0,10.1,10.1,9.9,9.9,5.1,5.1,4.9,4.9,0.0,0.0,1.5,1.5,0.0,0.0,1.5,1.5],\"type\":\"scatter\"},{\"hoverinfo\":\"name\",\"line\":{\"color\":\"grey\"},\"mode\":\"lines\",\"name\":\"Obstacle\",\"showlegend\":false,\"x\":[10.1,11.5,11.5,10.1,10.1,9.9,9.9,8.6,8.6,9.9,9.9,10.1,10.1],\"y\":[5.1,5.1,4.9,4.9,3.6,3.6,4.9,4.9,5.1,5.1,6.5,6.5,5.1],\"type\":\"scatter\"},{\"hoverinfo\":\"name\",\"line\":{\"color\":\"grey\"},\"mode\":\"lines\",\"name\":\"Obstacle\",\"showlegend\":false,\"x\":[10.1,11.5,11.5,10.1,10.1,9.9,9.9,8.6,8.6,9.9,9.9,10.1,10.1],\"y\":[10.1,10.1,9.9,9.9,8.6,8.6,9.9,9.9,10.1,10.1,11.5,11.5,10.1],\"type\":\"scatter\"},{\"hoverinfo\":\"name\",\"line\":{\"color\":\"grey\"},\"mode\":\"lines\",\"name\":\"Obstacle\",\"showlegend\":false,\"x\":[5.1,6.4,6.4,5.1,5.1,4.9,4.9,3.6,3.6,4.9,4.9,5.1,5.1],\"y\":[5.1,5.1,4.9,4.9,3.6,3.6,4.9,4.9,5.1,5.1,6.5,6.5,5.1],\"type\":\"scatter\"},{\"hoverinfo\":\"name\",\"line\":{\"color\":\"grey\"},\"mode\":\"lines\",\"name\":\"Obstacle\",\"showlegend\":false,\"x\":[5.1,6.4,6.4,5.1,5.1,4.9,4.9,3.6,3.6,4.9,4.9,5.1,5.1],\"y\":[10.1,10.1,9.9,9.9,8.6,8.6,9.9,9.9,10.1,10.1,11.5,11.5,10.1],\"type\":\"scatter\"},{\"fill\":\"toself\",\"fillcolor\":\"rgba(200, 0, 0, 0.00)\",\"hoverinfo\":\"name\",\"line\":{\"width\":0},\"mode\":\"lines\",\"name\":\"Risk Area\",\"showlegend\":false,\"x\":[0.0,5.0,5.0,0.0,0.0],\"y\":[0.0,0.0,5.0,5.0,0.0],\"type\":\"scatter\"},{\"fill\":\"toself\",\"fillcolor\":\"rgba(200, 0, 0, 0.60)\",\"hoverinfo\":\"name\",\"line\":{\"width\":0},\"mode\":\"lines\",\"name\":\"Risk Area\",\"showlegend\":false,\"x\":[5.0,10.0,10.0,5.0,5.0],\"y\":[0.0,0.0,5.0,5.0,0.0],\"type\":\"scatter\"},{\"fill\":\"toself\",\"fillcolor\":\"rgba(200, 0, 0, 0.00)\",\"hoverinfo\":\"name\",\"line\":{\"width\":0},\"mode\":\"lines\",\"name\":\"Risk Area\",\"showlegend\":false,\"x\":[10.0,15.0,15.0,10.0,10.0],\"y\":[0.0,0.0,5.0,5.0,0.0],\"type\":\"scatter\"},{\"fill\":\"toself\",\"fillcolor\":\"rgba(200, 0, 0, 0.60)\",\"hoverinfo\":\"name\",\"line\":{\"width\":0},\"mode\":\"lines\",\"name\":\"Risk Area\",\"showlegend\":false,\"x\":[10.0,15.0,15.0,10.0,10.0],\"y\":[5.0,5.0,10.0,10.0,5.0],\"type\":\"scatter\"},{\"fill\":\"toself\",\"fillcolor\":\"rgba(200, 0, 0, 0.60)\",\"hoverinfo\":\"name\",\"line\":{\"width\":0},\"mode\":\"lines\",\"name\":\"Risk Area\",\"showlegend\":false,\"x\":[5.0,10.0,10.0,5.0,5.0],\"y\":[5.0,5.0,10.0,10.0,5.0],\"type\":\"scatter\"},{\"fill\":\"toself\",\"fillcolor\":\"rgba(200, 0, 0, 0.10)\",\"hoverinfo\":\"name\",\"line\":{\"width\":0},\"mode\":\"lines\",\"name\":\"Risk Area\",\"showlegend\":false,\"x\":[0.0,5.0,5.0,0.0,0.0],\"y\":[5.0,5.0,10.0,10.0,5.0],\"type\":\"scatter\"},{\"fill\":\"toself\",\"fillcolor\":\"rgba(200, 0, 0, 0.00)\",\"hoverinfo\":\"name\",\"line\":{\"width\":0},\"mode\":\"lines\",\"name\":\"Risk Area\",\"showlegend\":false,\"x\":[0.0,5.0,5.0,0.0,0.0],\"y\":[10.0,10.0,15.0,15.0,10.0],\"type\":\"scatter\"},{\"fill\":\"toself\",\"fillcolor\":\"rgba(200, 0, 0, 0.00)\",\"hoverinfo\":\"name\",\"line\":{\"width\":0},\"mode\":\"lines\",\"name\":\"Risk Area\",\"showlegend\":false,\"x\":[5.0,10.0,10.0,5.0,5.0],\"y\":[10.0,10.0,15.0,15.0,10.0],\"type\":\"scatter\"},{\"fill\":\"toself\",\"fillcolor\":\"rgba(200, 0, 0, 0.00)\",\"hoverinfo\":\"name\",\"line\":{\"width\":0},\"mode\":\"lines\",\"name\":\"Risk Area\",\"showlegend\":false,\"x\":[10.0,15.0,15.0,10.0,10.0],\"y\":[10.0,10.0,15.0,15.0,10.0],\"type\":\"scatter\"},{\"hoverinfo\":\"text\",\"marker\":{\"opacity\":1,\"size\":1},\"mode\":\"markers\",\"showlegend\":false,\"text\":[\"ID: 61, Pos(3.99,4.27)\"],\"x\":[3.9863327738146737],\"y\":[4.268834270066489],\"type\":\"scatter\"},{\"hoverinfo\":\"text\",\"marker\":{\"opacity\":1,\"size\":1},\"mode\":\"markers\",\"showlegend\":false,\"text\":[\"ID: 62, Pos(0.85,1.64)\"],\"x\":[0.8488279016949318],\"y\":[1.6370406488593048],\"type\":\"scatter\"},{\"hoverinfo\":\"text\",\"marker\":{\"opacity\":1,\"size\":1},\"mode\":\"markers\",\"showlegend\":false,\"text\":[\"ID: 63, Pos(1.73,1.60)\"],\"x\":[1.7258968673840784],\"y\":[1.5962220773638665],\"type\":\"scatter\"},{\"hoverinfo\":\"text\",\"marker\":{\"opacity\":1,\"size\":1},\"mode\":\"markers\",\"showlegend\":false,\"text\":[\"ID: 64, Pos(2.12,3.52)\"],\"x\":[2.116160882427272],\"y\":[3.5204353653542206],\"type\":\"scatter\"},{\"hoverinfo\":\"text\",\"marker\":{\"opacity\":1,\"size\":1},\"mode\":\"markers\",\"showlegend\":false,\"text\":[\"ID: 65, Pos(1.69,2.80)\"],\"x\":[1.692259232863783],\"y\":[2.7972929381969065],\"type\":\"scatter\"},{\"hoverinfo\":\"text\",\"marker\":{\"opacity\":1,\"size\":1},\"mode\":\"markers\",\"showlegend\":false,\"text\":[\"ID: 66, Pos(1.45,3.66)\"],\"x\":[1.453767774845684],\"y\":[3.6607508930614516],\"type\":\"scatter\"},{\"hoverinfo\":\"text\",\"marker\":{\"opacity\":1,\"size\":1},\"mode\":\"markers\",\"showlegend\":false,\"text\":[\"ID: 67, Pos(3.07,4.23)\"],\"x\":[3.0719865838614573],\"y\":[4.234745501580994],\"type\":\"scatter\"},{\"hoverinfo\":\"text\",\"marker\":{\"opacity\":1,\"size\":1},\"mode\":\"markers\",\"showlegend\":false,\"text\":[\"ID: 68, Pos(3.49,1.96)\"],\"x\":[3.48879726462054],\"y\":[1.9561046634672852],\"type\":\"scatter\"},{\"hoverinfo\":\"text\",\"marker\":{\"opacity\":1,\"size\":1},\"mode\":\"markers\",\"showlegend\":false,\"text\":[\"ID: 69, Pos(1.70,3.31)\"],\"x\":[1.7042831428492793],\"y\":[3.3139640340517103],\"type\":\"scatter\"},{\"hoverinfo\":\"text\",\"marker\":{\"opacity\":1,\"size\":1},\"mode\":\"markers\",\"showlegend\":false,\"text\":[\"ID: 70, Pos(1.76,2.25)\"],\"x\":[1.7565776142251517],\"y\":[2.253852105302265],\"type\":\"scatter\"}],\"layout\":{\"shapes\":[{\"fillcolor\":\"rgba(0, 0, 128, 0.5)\",\"line\":{\"color\":\"rgba(0, 0, 128, 0.5)\"},\"type\":\"circle\",\"x0\":3.7863327738146735,\"x1\":4.186332773814674,\"xref\":\"x\",\"y0\":4.068834270066489,\"y1\":4.468834270066489,\"yref\":\"y\"},{\"fillcolor\":\"rgba(48, 255, 199, 0.5)\",\"line\":{\"color\":\"rgba(48, 255, 199, 0.5)\"},\"type\":\"circle\",\"x0\":0.6488279016949319,\"x1\":1.0488279016949318,\"xref\":\"x\",\"y0\":1.4370406488593048,\"y1\":1.8370406488593047,\"yref\":\"y\"},{\"fillcolor\":\"rgba(0, 0, 128, 0.5)\",\"line\":{\"color\":\"rgba(0, 0, 128, 0.5)\"},\"type\":\"circle\",\"x0\":1.5258968673840785,\"x1\":1.9258968673840784,\"xref\":\"x\",\"y0\":1.3962220773638665,\"y1\":1.7962220773638664,\"yref\":\"y\"},{\"fillcolor\":\"rgba(0, 0, 128, 0.5)\",\"line\":{\"color\":\"rgba(0, 0, 128, 0.5)\"},\"type\":\"circle\",\"x0\":1.916160882427272,\"x1\":2.316160882427272,\"xref\":\"x\",\"y0\":3.3204353653542205,\"y1\":3.720435365354221,\"yref\":\"y\"},{\"fillcolor\":\"rgba(0, 0, 128, 0.5)\",\"line\":{\"color\":\"rgba(0, 0, 128, 0.5)\"},\"type\":\"circle\",\"x0\":1.4922592328637831,\"x1\":1.892259232863783,\"xref\":\"x\",\"y0\":2.5972929381969063,\"y1\":2.9972929381969067,\"yref\":\"y\"},{\"fillcolor\":\"rgba(0, 0, 246, 0.5)\",\"line\":{\"color\":\"rgba(0, 0, 246, 0.5)\"},\"type\":\"circle\",\"x0\":1.2537677748456841,\"x1\":1.653767774845684,\"xref\":\"x\",\"y0\":3.4607508930614514,\"y1\":3.860750893061452,\"yref\":\"y\"},{\"fillcolor\":\"rgba(0, 136, 255, 0.5)\",\"line\":{\"color\":\"rgba(0, 136, 255, 0.5)\"},\"type\":\"circle\",\"x0\":2.871986583861457,\"x1\":3.2719865838614575,\"xref\":\"x\",\"y0\":4.034745501580994,\"y1\":4.434745501580994,\"yref\":\"y\"},{\"fillcolor\":\"rgba(0, 0, 128, 0.5)\",\"line\":{\"color\":\"rgba(0, 0, 128, 0.5)\"},\"type\":\"circle\",\"x0\":3.28879726462054,\"x1\":3.6887972646205403,\"xref\":\"x\",\"y0\":1.7561046634672852,\"y1\":2.156104663467285,\"yref\":\"y\"},{\"fillcolor\":\"rgba(255, 152, 0, 0.5)\",\"line\":{\"color\":\"rgba(255, 152, 0, 0.5)\"},\"type\":\"circle\",\"x0\":1.5042831428492793,\"x1\":1.9042831428492792,\"xref\":\"x\",\"y0\":3.11396403405171,\"y1\":3.5139640340517104,\"yref\":\"y\"},{\"fillcolor\":\"rgba(0, 0, 128, 0.5)\",\"line\":{\"color\":\"rgba(0, 0, 128, 0.5)\"},\"type\":\"circle\",\"x0\":1.5565776142251517,\"x1\":1.9565776142251516,\"xref\":\"x\",\"y0\":2.0538521053022647,\"y1\":2.453852105302265,\"yref\":\"y\"},{\"line\":{\"color\":\"white\",\"width\":3},\"type\":\"line\",\"x0\":3.9863327738146737,\"x1\":3.9863327738146737,\"y0\":4.268834270066489,\"y1\":4.268834270066489},{\"line\":{\"color\":\"black\",\"width\":3},\"type\":\"line\",\"x0\":0.8488279016949318,\"x1\":0.8488279016949318,\"y0\":1.6370406488593048,\"y1\":1.6370406488593048},{\"line\":{\"color\":\"white\",\"width\":3},\"type\":\"line\",\"x0\":1.7258968673840784,\"x1\":1.7258968673840784,\"y0\":1.5962220773638665,\"y1\":1.5962220773638665},{\"line\":{\"color\":\"white\",\"width\":3},\"type\":\"line\",\"x0\":2.116160882427272,\"x1\":2.116160882427272,\"y0\":3.5204353653542206,\"y1\":3.5204353653542206},{\"line\":{\"color\":\"white\",\"width\":3},\"type\":\"line\",\"x0\":1.692259232863783,\"x1\":1.692259232863783,\"y0\":2.7972929381969065,\"y1\":2.7972929381969065},{\"line\":{\"color\":\"white\",\"width\":3},\"type\":\"line\",\"x0\":1.453767774845684,\"x1\":1.453767774845684,\"y0\":3.6607508930614516,\"y1\":3.6607508930614516},{\"line\":{\"color\":\"white\",\"width\":3},\"type\":\"line\",\"x0\":3.0719865838614573,\"x1\":3.0719865838614573,\"y0\":4.234745501580994,\"y1\":4.234745501580994},{\"line\":{\"color\":\"white\",\"width\":3},\"type\":\"line\",\"x0\":3.48879726462054,\"x1\":3.48879726462054,\"y0\":1.9561046634672852,\"y1\":1.9561046634672852},{\"line\":{\"color\":\"black\",\"width\":3},\"type\":\"line\",\"x0\":1.7042831428492793,\"x1\":1.7042831428492793,\"y0\":3.3139640340517103,\"y1\":3.3139640340517103},{\"line\":{\"color\":\"white\",\"width\":3},\"type\":\"line\",\"x0\":1.7565776142251517,\"x1\":1.7565776142251517,\"y0\":2.253852105302265,\"y1\":2.253852105302265}],\"title\":{\"text\":\"\\u003cb\\u003ePercentage using the shortest path: 0%  |  Number of Agents: 10\\u003c\\u002fb\\u003e\",\"x\":0.5}},\"name\":\"0\"},{\"data\":[{\"hoverinfo\":\"name\",\"line\":{\"color\":\"grey\"},\"mode\":\"lines\",\"name\":\"Exterior\",\"showlegend\":false,\"x\":[10.1,10.1,15.0,15.0,13.6,13.6,15.0,15.0,13.6,13.6,15.0,15.0,10.1,10.1,9.9,9.9,5.1,5.1,4.9,4.9,0.0,0.0,1.5,1.5,0.0,0.0,1.5,1.5,0.0,0.0,4.9,4.9,5.1,5.1,9.9,9.9,10.1],\"y\":[1.5,0.0,0.0,4.9,4.9,5.1,5.1,9.9,9.9,10.1,10.1,15.0,15.0,13.6,13.6,15.0,15.0,13.6,13.6,15.0,15.0,10.1,10.1,9.9,9.9,5.1,5.1,4.9,4.9,0.0,0.0,1.5,1.5,0.0,0.0,1.5,1.5],\"type\":\"scatter\"},{\"hoverinfo\":\"name\",\"line\":{\"color\":\"grey\"},\"mode\":\"lines\",\"name\":\"Obstacle\",\"showlegend\":false,\"x\":[10.1,11.5,11.5,10.1,10.1,9.9,9.9,8.6,8.6,9.9,9.9,10.1,10.1],\"y\":[5.1,5.1,4.9,4.9,3.6,3.6,4.9,4.9,5.1,5.1,6.5,6.5,5.1],\"type\":\"scatter\"},{\"hoverinfo\":\"name\",\"line\":{\"color\":\"grey\"},\"mode\":\"lines\",\"name\":\"Obstacle\",\"showlegend\":false,\"x\":[10.1,11.5,11.5,10.1,10.1,9.9,9.9,8.6,8.6,9.9,9.9,10.1,10.1],\"y\":[10.1,10.1,9.9,9.9,8.6,8.6,9.9,9.9,10.1,10.1,11.5,11.5,10.1],\"type\":\"scatter\"},{\"hoverinfo\":\"name\",\"line\":{\"color\":\"grey\"},\"mode\":\"lines\",\"name\":\"Obstacle\",\"showlegend\":false,\"x\":[5.1,6.4,6.4,5.1,5.1,4.9,4.9,3.6,3.6,4.9,4.9,5.1,5.1],\"y\":[5.1,5.1,4.9,4.9,3.6,3.6,4.9,4.9,5.1,5.1,6.5,6.5,5.1],\"type\":\"scatter\"},{\"hoverinfo\":\"name\",\"line\":{\"color\":\"grey\"},\"mode\":\"lines\",\"name\":\"Obstacle\",\"showlegend\":false,\"x\":[5.1,6.4,6.4,5.1,5.1,4.9,4.9,3.6,3.6,4.9,4.9,5.1,5.1],\"y\":[10.1,10.1,9.9,9.9,8.6,8.6,9.9,9.9,10.1,10.1,11.5,11.5,10.1],\"type\":\"scatter\"},{\"fill\":\"toself\",\"fillcolor\":\"rgba(200, 0, 0, 0.00)\",\"hoverinfo\":\"name\",\"line\":{\"width\":0},\"mode\":\"lines\",\"name\":\"Risk Area\",\"showlegend\":false,\"x\":[0.0,5.0,5.0,0.0,0.0],\"y\":[0.0,0.0,5.0,5.0,0.0],\"type\":\"scatter\"},{\"fill\":\"toself\",\"fillcolor\":\"rgba(200, 0, 0, 0.60)\",\"hoverinfo\":\"name\",\"line\":{\"width\":0},\"mode\":\"lines\",\"name\":\"Risk Area\",\"showlegend\":false,\"x\":[5.0,10.0,10.0,5.0,5.0],\"y\":[0.0,0.0,5.0,5.0,0.0],\"type\":\"scatter\"},{\"fill\":\"toself\",\"fillcolor\":\"rgba(200, 0, 0, 0.00)\",\"hoverinfo\":\"name\",\"line\":{\"width\":0},\"mode\":\"lines\",\"name\":\"Risk Area\",\"showlegend\":false,\"x\":[10.0,15.0,15.0,10.0,10.0],\"y\":[0.0,0.0,5.0,5.0,0.0],\"type\":\"scatter\"},{\"fill\":\"toself\",\"fillcolor\":\"rgba(200, 0, 0, 0.60)\",\"hoverinfo\":\"name\",\"line\":{\"width\":0},\"mode\":\"lines\",\"name\":\"Risk Area\",\"showlegend\":false,\"x\":[10.0,15.0,15.0,10.0,10.0],\"y\":[5.0,5.0,10.0,10.0,5.0],\"type\":\"scatter\"},{\"fill\":\"toself\",\"fillcolor\":\"rgba(200, 0, 0, 0.60)\",\"hoverinfo\":\"name\",\"line\":{\"width\":0},\"mode\":\"lines\",\"name\":\"Risk Area\",\"showlegend\":false,\"x\":[5.0,10.0,10.0,5.0,5.0],\"y\":[5.0,5.0,10.0,10.0,5.0],\"type\":\"scatter\"},{\"fill\":\"toself\",\"fillcolor\":\"rgba(200, 0, 0, 0.10)\",\"hoverinfo\":\"name\",\"line\":{\"width\":0},\"mode\":\"lines\",\"name\":\"Risk Area\",\"showlegend\":false,\"x\":[0.0,5.0,5.0,0.0,0.0],\"y\":[5.0,5.0,10.0,10.0,5.0],\"type\":\"scatter\"},{\"fill\":\"toself\",\"fillcolor\":\"rgba(200, 0, 0, 0.00)\",\"hoverinfo\":\"name\",\"line\":{\"width\":0},\"mode\":\"lines\",\"name\":\"Risk Area\",\"showlegend\":false,\"x\":[0.0,5.0,5.0,0.0,0.0],\"y\":[10.0,10.0,15.0,15.0,10.0],\"type\":\"scatter\"},{\"fill\":\"toself\",\"fillcolor\":\"rgba(200, 0, 0, 0.00)\",\"hoverinfo\":\"name\",\"line\":{\"width\":0},\"mode\":\"lines\",\"name\":\"Risk Area\",\"showlegend\":false,\"x\":[5.0,10.0,10.0,5.0,5.0],\"y\":[10.0,10.0,15.0,15.0,10.0],\"type\":\"scatter\"},{\"fill\":\"toself\",\"fillcolor\":\"rgba(200, 0, 0, 0.00)\",\"hoverinfo\":\"name\",\"line\":{\"width\":0},\"mode\":\"lines\",\"name\":\"Risk Area\",\"showlegend\":false,\"x\":[10.0,15.0,15.0,10.0,10.0],\"y\":[10.0,10.0,15.0,15.0,10.0],\"type\":\"scatter\"},{\"hoverinfo\":\"text\",\"marker\":{\"opacity\":1,\"size\":1},\"mode\":\"markers\",\"showlegend\":false,\"text\":[\"ID: 61, Pos(3.62,4.57)\"],\"x\":[3.624663867004494],\"y\":[4.572942041072394],\"type\":\"scatter\"},{\"hoverinfo\":\"text\",\"marker\":{\"opacity\":1,\"size\":1},\"mode\":\"markers\",\"showlegend\":false,\"text\":[\"ID: 62, Pos(1.37,2.85)\"],\"x\":[1.3726374518931295],\"y\":[2.8458001230525047],\"type\":\"scatter\"},{\"hoverinfo\":\"text\",\"marker\":{\"opacity\":1,\"size\":1},\"mode\":\"markers\",\"showlegend\":false,\"text\":[\"ID: 63, Pos(2.15,1.87)\"],\"x\":[2.1468923029348774],\"y\":[1.868570495335488],\"type\":\"scatter\"},{\"hoverinfo\":\"text\",\"marker\":{\"opacity\":1,\"size\":1},\"mode\":\"markers\",\"showlegend\":false,\"text\":[\"ID: 64, Pos(2.57,4.71)\"],\"x\":[2.5685625821921643],\"y\":[4.709391544762826],\"type\":\"scatter\"},{\"hoverinfo\":\"text\",\"marker\":{\"opacity\":1,\"size\":1},\"mode\":\"markers\",\"showlegend\":false,\"text\":[\"ID: 65, Pos(2.14,3.19)\"],\"x\":[2.135724068214924],\"y\":[3.1861311292691084],\"type\":\"scatter\"},{\"hoverinfo\":\"text\",\"marker\":{\"opacity\":1,\"size\":1},\"mode\":\"markers\",\"showlegend\":false,\"text\":[\"ID: 66, Pos(1.96,5.04)\"],\"x\":[1.960579232601007],\"y\":[5.040717503395859],\"type\":\"scatter\"},{\"hoverinfo\":\"text\",\"marker\":{\"opacity\":1,\"size\":1},\"mode\":\"markers\",\"showlegend\":false,\"text\":[\"ID: 67, Pos(3.03,5.28)\"],\"x\":[3.034440411887453],\"y\":[5.278552531984465],\"type\":\"scatter\"},{\"hoverinfo\":\"text\",\"marker\":{\"opacity\":1,\"size\":1},\"mode\":\"markers\",\"showlegend\":false,\"text\":[\"ID: 68, Pos(3.59,3.17)\"],\"x\":[3.5916390920039114],\"y\":[3.1733961277269316],\"type\":\"scatter\"},{\"hoverinfo\":\"text\",\"marker\":{\"opacity\":1,\"size\":1},\"mode\":\"markers\",\"showlegend\":false,\"text\":[\"ID: 69, Pos(1.89,3.98)\"],\"x\":[1.887176775050277],\"y\":[3.9845793231642537],\"type\":\"scatter\"},{\"hoverinfo\":\"text\",\"marker\":{\"opacity\":1,\"size\":1},\"mode\":\"markers\",\"showlegend\":false,\"text\":[\"ID: 70, Pos(2.19,2.50)\"],\"x\":[2.1870682441532456],\"y\":[2.495098850517011],\"type\":\"scatter\"}],\"layout\":{\"shapes\":[{\"fillcolor\":\"rgba(0, 156, 255, 0.5)\",\"line\":{\"color\":\"rgba(0, 156, 255, 0.5)\"},\"type\":\"circle\",\"x0\":3.4246638670044938,\"x1\":3.824663867004494,\"xref\":\"x\",\"y0\":4.372942041072394,\"y1\":4.772942041072394,\"yref\":\"y\"},{\"fillcolor\":\"rgba(0, 0, 128, 0.5)\",\"line\":{\"color\":\"rgba(0, 0, 128, 0.5)\"},\"type\":\"circle\",\"x0\":1.1726374518931295,\"x1\":1.5726374518931294,\"xref\":\"x\",\"y0\":2.6458001230525046,\"y1\":3.045800123052505,\"yref\":\"y\"},{\"fillcolor\":\"rgba(255, 104, 0, 0.5)\",\"line\":{\"color\":\"rgba(255, 104, 0, 0.5)\"},\"type\":\"circle\",\"x0\":1.9468923029348775,\"x1\":2.3468923029348776,\"xref\":\"x\",\"y0\":1.668570495335488,\"y1\":2.068570495335488,\"yref\":\"y\"},{\"fillcolor\":\"rgba(0, 0, 128, 0.5)\",\"line\":{\"color\":\"rgba(0, 0, 128, 0.5)\"},\"type\":\"circle\",\"x0\":2.368562582192164,\"x1\":2.7685625821921644,\"xref\":\"x\",\"y0\":4.509391544762826,\"y1\":4.909391544762826,\"yref\":\"y\"},{\"fillcolor\":\"rgba(131, 255, 115, 0.5)\",\"line\":{\"color\":\"rgba(131, 255, 115, 0.5)\"},\"type\":\"circle\",\"x0\":1.9357240682149242,\"x1\":2.3357240682149243,\"xref\":\"x\",\"y0\":2.986131129269108,\"y1\":3.3861311292691085,\"yref\":\"y\"},{\"fillcolor\":\"rgba(0, 0, 128, 0.5)\",\"line\":{\"color\":\"rgba(0, 0, 128, 0.5)\"},\"type\":\"circle\",\"x0\":1.760579232601007,\"x1\":2.160579232601007,\"xref\":\"x\",\"y0\":4.840717503395859,\"y1\":5.240717503395859,\"yref\":\"y\"},{\"fillcolor\":\"rgba(0, 0, 128, 0.5)\",\"line\":{\"color\":\"rgba(0, 0, 128, 0.5)\"},\"type\":\"circle\",\"x0\":2.834440411887453,\"x1\":3.2344404118874532,\"xref\":\"x\",\"y0\":5.078552531984465,\"y1\":5.478552531984465,\"yref\":\"y\"},{\"fillcolor\":\"rgba(0, 0, 128, 0.5)\",\"line\":{\"color\":\"rgba(0, 0, 128, 0.5)\"},\"type\":\"circle\",\"x0\":3.3916390920039112,\"x1\":3.7916390920039116,\"xref\":\"x\",\"y0\":2.9733961277269314,\"y1\":3.3733961277269318,\"yref\":\"y\"},{\"fillcolor\":\"rgba(0, 72, 255, 0.5)\",\"line\":{\"color\":\"rgba(0, 72, 255, 0.5)\"},\"type\":\"circle\",\"x0\":1.687176775050277,\"x1\":2.087176775050277,\"xref\":\"x\",\"y0\":3.7845793231642535,\"y1\":4.184579323164254,\"yref\":\"y\"},{\"fillcolor\":\"rgba(255, 189, 0, 0.5)\",\"line\":{\"color\":\"rgba(255, 189, 0, 0.5)\"},\"type\":\"circle\",\"x0\":1.9870682441532457,\"x1\":2.387068244153246,\"xref\":\"x\",\"y0\":2.295098850517011,\"y1\":2.6950988505170113,\"yref\":\"y\"},{\"line\":{\"color\":\"white\",\"width\":3},\"type\":\"line\",\"x0\":3.624663867004494,\"x1\":3.424974445443303,\"y0\":4.572942041072394,\"y1\":4.584083626083376},{\"line\":{\"color\":\"white\",\"width\":3},\"type\":\"line\",\"x0\":1.3726374518931295,\"x1\":1.4105350643284174,\"y0\":2.8458001230525047,\"y1\":3.0421767280025462},{\"line\":{\"color\":\"black\",\"width\":3},\"type\":\"line\",\"x0\":2.1468923029348774,\"x1\":2.1594252159539273,\"y0\":1.868570495335488,\"y1\":2.068177424301536},{\"line\":{\"color\":\"white\",\"width\":3},\"type\":\"line\",\"x0\":2.5685625821921643,\"x1\":2.578214239732299,\"y0\":4.709391544762826,\"y1\":4.909158522781537},{\"line\":{\"color\":\"black\",\"width\":3},\"type\":\"line\",\"x0\":2.135724068214924,\"x1\":2.1558988958439422,\"y0\":3.1861311292691084,\"y1\":3.3851109682733136},{\"line\":{\"color\":\"white\",\"width\":3},\"type\":\"line\",\"x0\":1.960579232601007,\"x1\":1.9910900807831045,\"y0\":5.040717503395859,\"y1\":5.238376523284173},{\"line\":{\"color\":\"white\",\"width\":3},\"type\":\"line\",\"x0\":3.034440411887453,\"x1\":2.9992777218855466,\"y0\":5.278552531984465,\"y1\":5.475437232334263},{\"line\":{\"color\":\"white\",\"width\":3},\"type\":\"line\",\"x0\":3.5916390920039114,\"x1\":3.542722206616879,\"y0\":3.1733961277269316,\"y1\":3.3673217276977243},{\"line\":{\"color\":\"white\",\"width\":3},\"type\":\"line\",\"x0\":1.887176775050277,\"x1\":1.91789447937893,\"y0\":3.9845793231642537,\"y1\":4.182206301688891},{\"line\":{\"color\":\"black\",\"width\":3},\"type\":\"line\",\"x0\":2.1870682441532456,\"x1\":2.2064155038077296,\"y0\":2.495098850517011,\"y1\":2.694160859810251}],\"title\":{\"text\":\"\\u003cb\\u003ePercentage using the shortest path: 0%  |  Number of Agents: 10\\u003c\\u002fb\\u003e\",\"x\":0.5}},\"name\":\"50\"},{\"data\":[{\"hoverinfo\":\"name\",\"line\":{\"color\":\"grey\"},\"mode\":\"lines\",\"name\":\"Exterior\",\"showlegend\":false,\"x\":[10.1,10.1,15.0,15.0,13.6,13.6,15.0,15.0,13.6,13.6,15.0,15.0,10.1,10.1,9.9,9.9,5.1,5.1,4.9,4.9,0.0,0.0,1.5,1.5,0.0,0.0,1.5,1.5,0.0,0.0,4.9,4.9,5.1,5.1,9.9,9.9,10.1],\"y\":[1.5,0.0,0.0,4.9,4.9,5.1,5.1,9.9,9.9,10.1,10.1,15.0,15.0,13.6,13.6,15.0,15.0,13.6,13.6,15.0,15.0,10.1,10.1,9.9,9.9,5.1,5.1,4.9,4.9,0.0,0.0,1.5,1.5,0.0,0.0,1.5,1.5],\"type\":\"scatter\"},{\"hoverinfo\":\"name\",\"line\":{\"color\":\"grey\"},\"mode\":\"lines\",\"name\":\"Obstacle\",\"showlegend\":false,\"x\":[10.1,11.5,11.5,10.1,10.1,9.9,9.9,8.6,8.6,9.9,9.9,10.1,10.1],\"y\":[5.1,5.1,4.9,4.9,3.6,3.6,4.9,4.9,5.1,5.1,6.5,6.5,5.1],\"type\":\"scatter\"},{\"hoverinfo\":\"name\",\"line\":{\"color\":\"grey\"},\"mode\":\"lines\",\"name\":\"Obstacle\",\"showlegend\":false,\"x\":[10.1,11.5,11.5,10.1,10.1,9.9,9.9,8.6,8.6,9.9,9.9,10.1,10.1],\"y\":[10.1,10.1,9.9,9.9,8.6,8.6,9.9,9.9,10.1,10.1,11.5,11.5,10.1],\"type\":\"scatter\"},{\"hoverinfo\":\"name\",\"line\":{\"color\":\"grey\"},\"mode\":\"lines\",\"name\":\"Obstacle\",\"showlegend\":false,\"x\":[5.1,6.4,6.4,5.1,5.1,4.9,4.9,3.6,3.6,4.9,4.9,5.1,5.1],\"y\":[5.1,5.1,4.9,4.9,3.6,3.6,4.9,4.9,5.1,5.1,6.5,6.5,5.1],\"type\":\"scatter\"},{\"hoverinfo\":\"name\",\"line\":{\"color\":\"grey\"},\"mode\":\"lines\",\"name\":\"Obstacle\",\"showlegend\":false,\"x\":[5.1,6.4,6.4,5.1,5.1,4.9,4.9,3.6,3.6,4.9,4.9,5.1,5.1],\"y\":[10.1,10.1,9.9,9.9,8.6,8.6,9.9,9.9,10.1,10.1,11.5,11.5,10.1],\"type\":\"scatter\"},{\"fill\":\"toself\",\"fillcolor\":\"rgba(200, 0, 0, 0.00)\",\"hoverinfo\":\"name\",\"line\":{\"width\":0},\"mode\":\"lines\",\"name\":\"Risk Area\",\"showlegend\":false,\"x\":[0.0,5.0,5.0,0.0,0.0],\"y\":[0.0,0.0,5.0,5.0,0.0],\"type\":\"scatter\"},{\"fill\":\"toself\",\"fillcolor\":\"rgba(200, 0, 0, 0.60)\",\"hoverinfo\":\"name\",\"line\":{\"width\":0},\"mode\":\"lines\",\"name\":\"Risk Area\",\"showlegend\":false,\"x\":[5.0,10.0,10.0,5.0,5.0],\"y\":[0.0,0.0,5.0,5.0,0.0],\"type\":\"scatter\"},{\"fill\":\"toself\",\"fillcolor\":\"rgba(200, 0, 0, 0.00)\",\"hoverinfo\":\"name\",\"line\":{\"width\":0},\"mode\":\"lines\",\"name\":\"Risk Area\",\"showlegend\":false,\"x\":[10.0,15.0,15.0,10.0,10.0],\"y\":[0.0,0.0,5.0,5.0,0.0],\"type\":\"scatter\"},{\"fill\":\"toself\",\"fillcolor\":\"rgba(200, 0, 0, 0.60)\",\"hoverinfo\":\"name\",\"line\":{\"width\":0},\"mode\":\"lines\",\"name\":\"Risk Area\",\"showlegend\":false,\"x\":[10.0,15.0,15.0,10.0,10.0],\"y\":[5.0,5.0,10.0,10.0,5.0],\"type\":\"scatter\"},{\"fill\":\"toself\",\"fillcolor\":\"rgba(200, 0, 0, 0.60)\",\"hoverinfo\":\"name\",\"line\":{\"width\":0},\"mode\":\"lines\",\"name\":\"Risk Area\",\"showlegend\":false,\"x\":[5.0,10.0,10.0,5.0,5.0],\"y\":[5.0,5.0,10.0,10.0,5.0],\"type\":\"scatter\"},{\"fill\":\"toself\",\"fillcolor\":\"rgba(200, 0, 0, 0.10)\",\"hoverinfo\":\"name\",\"line\":{\"width\":0},\"mode\":\"lines\",\"name\":\"Risk Area\",\"showlegend\":false,\"x\":[0.0,5.0,5.0,0.0,0.0],\"y\":[5.0,5.0,10.0,10.0,5.0],\"type\":\"scatter\"},{\"fill\":\"toself\",\"fillcolor\":\"rgba(200, 0, 0, 0.00)\",\"hoverinfo\":\"name\",\"line\":{\"width\":0},\"mode\":\"lines\",\"name\":\"Risk Area\",\"showlegend\":false,\"x\":[0.0,5.0,5.0,0.0,0.0],\"y\":[10.0,10.0,15.0,15.0,10.0],\"type\":\"scatter\"},{\"fill\":\"toself\",\"fillcolor\":\"rgba(200, 0, 0, 0.00)\",\"hoverinfo\":\"name\",\"line\":{\"width\":0},\"mode\":\"lines\",\"name\":\"Risk Area\",\"showlegend\":false,\"x\":[5.0,10.0,10.0,5.0,5.0],\"y\":[10.0,10.0,15.0,15.0,10.0],\"type\":\"scatter\"},{\"fill\":\"toself\",\"fillcolor\":\"rgba(200, 0, 0, 0.00)\",\"hoverinfo\":\"name\",\"line\":{\"width\":0},\"mode\":\"lines\",\"name\":\"Risk Area\",\"showlegend\":false,\"x\":[10.0,15.0,15.0,10.0,10.0],\"y\":[10.0,10.0,15.0,15.0,10.0],\"type\":\"scatter\"},{\"hoverinfo\":\"text\",\"marker\":{\"opacity\":1,\"size\":1},\"mode\":\"markers\",\"showlegend\":false,\"text\":[\"ID: 61, Pos(3.10,5.17)\"],\"x\":[3.1026552191555368],\"y\":[5.168661575786402],\"type\":\"scatter\"},{\"hoverinfo\":\"text\",\"marker\":{\"opacity\":1,\"size\":1},\"mode\":\"markers\",\"showlegend\":false,\"text\":[\"ID: 62, Pos(1.62,4.38)\"],\"x\":[1.616950958507311],\"y\":[4.382105284673975],\"type\":\"scatter\"},{\"hoverinfo\":\"text\",\"marker\":{\"opacity\":1,\"size\":1},\"mode\":\"markers\",\"showlegend\":false,\"text\":[\"ID: 63, Pos(2.19,2.53)\"],\"x\":[2.1876527661875698],\"y\":[2.5265277836263325],\"type\":\"scatter\"},{\"hoverinfo\":\"text\",\"marker\":{\"opacity\":1,\"size\":1},\"mode\":\"markers\",\"showlegend\":false,\"text\":[\"ID: 64, Pos(2.60,5.82)\"],\"x\":[2.600331519603923],\"y\":[5.820774304637576],\"type\":\"scatter\"},{\"hoverinfo\":\"text\",\"marker\":{\"opacity\":1,\"size\":1},\"mode\":\"markers\",\"showlegend\":false,\"text\":[\"ID: 65, Pos(2.33,4.41)\"],\"x\":[2.33350418913301],\"y\":[4.41115865321033],\"type\":\"scatter\"},{\"hoverinfo\":\"text\",\"marker\":{\"opacity\":1,\"size\":1},\"mode\":\"markers\",\"showlegend\":false,\"text\":[\"ID: 66, Pos(2.12,6.63)\"],\"x\":[2.116749818880267],\"y\":[6.628476473807076],\"type\":\"scatter\"},{\"hoverinfo\":\"text\",\"marker\":{\"opacity\":1,\"size\":1},\"mode\":\"markers\",\"showlegend\":false,\"text\":[\"ID: 67, Pos(2.87,6.86)\"],\"x\":[2.870267920081498],\"y\":[6.863428694580823],\"type\":\"scatter\"},{\"hoverinfo\":\"text\",\"marker\":{\"opacity\":1,\"size\":1},\"mode\":\"markers\",\"showlegend\":false,\"text\":[\"ID: 68, Pos(3.30,4.34)\"],\"x\":[3.2988898698511058],\"y\":[4.338910861257535],\"type\":\"scatter\"},{\"hoverinfo\":\"text\",\"marker\":{\"opacity\":1,\"size\":1},\"mode\":\"markers\",\"showlegend\":false,\"text\":[\"ID: 69, Pos(2.07,5.45)\"],\"x\":[2.068101577021166],\"y\":[5.449233639679231],\"type\":\"scatter\"},{\"hoverinfo\":\"text\",\"marker\":{\"opacity\":1,\"size\":1},\"mode\":\"markers\",\"showlegend\":false,\"text\":[\"ID: 70, Pos(2.25,3.39)\"],\"x\":[2.2489198475130947],\"y\":[3.387477723980477],\"type\":\"scatter\"}],\"layout\":{\"shapes\":[{\"fillcolor\":\"rgba(144, 255, 102, 0.5)\",\"line\":{\"color\":\"rgba(144, 255, 102, 0.5)\"},\"type\":\"circle\",\"x0\":2.9026552191555366,\"x1\":3.302655219155537,\"xref\":\"x\",\"y0\":4.968661575786402,\"y1\":5.368661575786402,\"yref\":\"y\"},{\"fillcolor\":\"rgba(0, 0, 191, 0.5)\",\"line\":{\"color\":\"rgba(0, 0, 191, 0.5)\"},\"type\":\"circle\",\"x0\":1.416950958507311,\"x1\":1.816950958507311,\"xref\":\"x\",\"y0\":4.182105284673975,\"y1\":4.582105284673975,\"yref\":\"y\"},{\"fillcolor\":\"rgba(99, 255, 148, 0.5)\",\"line\":{\"color\":\"rgba(99, 255, 148, 0.5)\"},\"type\":\"circle\",\"x0\":1.9876527661875698,\"x1\":2.38765276618757,\"xref\":\"x\",\"y0\":2.3265277836263323,\"y1\":2.7265277836263326,\"yref\":\"y\"},{\"fillcolor\":\"rgba(0, 48, 255, 0.5)\",\"line\":{\"color\":\"rgba(0, 48, 255, 0.5)\"},\"type\":\"circle\",\"x0\":2.400331519603923,\"x1\":2.8003315196039233,\"xref\":\"x\",\"y0\":5.6207743046375755,\"y1\":6.020774304637576,\"yref\":\"y\"},{\"fillcolor\":\"rgba(0, 0, 128, 0.5)\",\"line\":{\"color\":\"rgba(0, 0, 128, 0.5)\"},\"type\":\"circle\",\"x0\":2.13350418913301,\"x1\":2.5335041891330103,\"xref\":\"x\",\"y0\":4.21115865321033,\"y1\":4.61115865321033,\"yref\":\"y\"},{\"fillcolor\":\"rgba(0, 0, 128, 0.5)\",\"line\":{\"color\":\"rgba(0, 0, 128, 0.5)\"},\"type\":\"circle\",\"x0\":1.9167498188802672,\"x1\":2.3167498188802673,\"xref\":\"x\",\"y0\":6.428476473807076,\"y1\":6.8284764738070765,\"yref\":\"y\"},{\"fillcolor\":\"rgba(0, 0, 128, 0.5)\",\"line\":{\"color\":\"rgba(0, 0, 128, 0.5)\"},\"type\":\"circle\",\"x0\":2.6702679200814976,\"x1\":3.070267920081498,\"xref\":\"x\",\"y0\":6.663428694580823,\"y1\":7.063428694580823,\"yref\":\"y\"},{\"fillcolor\":\"rgba(109, 255, 138, 0.5)\",\"line\":{\"color\":\"rgba(109, 255, 138, 0.5)\"},\"type\":\"circle\",\"x0\":3.0988898698511056,\"x1\":3.498889869851106,\"xref\":\"x\",\"y0\":4.138910861257535,\"y1\":4.538910861257535,\"yref\":\"y\"},{\"fillcolor\":\"rgba(0, 0, 159, 0.5)\",\"line\":{\"color\":\"rgba(0, 0, 159, 0.5)\"},\"type\":\"circle\",\"x0\":1.868101577021166,\"x1\":2.268101577021166,\"xref\":\"x\",\"y0\":5.249233639679231,\"y1\":5.649233639679231,\"yref\":\"y\"},{\"fillcolor\":\"rgba(0, 120, 255, 0.5)\",\"line\":{\"color\":\"rgba(0, 120, 255, 0.5)\"},\"type\":\"circle\",\"x0\":2.0489198475130945,\"x1\":2.448919847513095,\"xref\":\"x\",\"y0\":3.187477723980477,\"y1\":3.587477723980477,\"yref\":\"y\"},{\"line\":{\"color\":\"black\",\"width\":3},\"type\":\"line\",\"x0\":3.1026552191555368,\"x1\":3.051718629839062,\"y0\":5.168661575786402,\"y1\":5.362066497825126},{\"line\":{\"color\":\"white\",\"width\":3},\"type\":\"line\",\"x0\":1.616950958507311,\"x1\":1.6512671745111955,\"y0\":4.382105284673975,\"y1\":4.579139285088053},{\"line\":{\"color\":\"black\",\"width\":3},\"type\":\"line\",\"x0\":2.1876527661875698,\"x1\":2.200144565575231,\"y0\":2.5265277836263325,\"y1\":2.726137289782874},{\"line\":{\"color\":\"white\",\"width\":3},\"type\":\"line\",\"x0\":2.600331519603923,\"x1\":2.6175905615058936,\"y0\":5.820774304637576,\"y1\":6.020028226738562},{\"line\":{\"color\":\"white\",\"width\":3},\"type\":\"line\",\"x0\":2.33350418913301,\"x1\":2.36374602563493,\"y0\":4.41115865321033,\"y1\":4.608859010632847},{\"line\":{\"color\":\"white\",\"width\":3},\"type\":\"line\",\"x0\":2.116749818880267,\"x1\":2.118472865495519,\"y0\":6.628476473807076,\"y1\":6.828469051445252},{\"line\":{\"color\":\"white\",\"width\":3},\"type\":\"line\",\"x0\":2.870267920081498,\"x1\":2.867474010472574,\"y0\":6.863428694580823,\"y1\":7.063409178801402},{\"line\":{\"color\":\"black\",\"width\":3},\"type\":\"line\",\"x0\":3.2988898698511058,\"x1\":3.2512708445697878,\"y0\":4.338910861257535,\"y1\":4.5331592291561025},{\"line\":{\"color\":\"white\",\"width\":3},\"type\":\"line\",\"x0\":2.068101577021166,\"x1\":2.0744083119057755,\"y0\":5.449233639679231,\"y1\":5.649134177685249},{\"line\":{\"color\":\"white\",\"width\":3},\"type\":\"line\",\"x0\":2.2489198475130947,\"x1\":2.26125024457371,\"y0\":3.387477723980477,\"y1\":3.587097265379428}],\"title\":{\"text\":\"\\u003cb\\u003ePercentage using the shortest path: 0%  |  Number of Agents: 10\\u003c\\u002fb\\u003e\",\"x\":0.5}},\"name\":\"100\"},{\"data\":[{\"hoverinfo\":\"name\",\"line\":{\"color\":\"grey\"},\"mode\":\"lines\",\"name\":\"Exterior\",\"showlegend\":false,\"x\":[10.1,10.1,15.0,15.0,13.6,13.6,15.0,15.0,13.6,13.6,15.0,15.0,10.1,10.1,9.9,9.9,5.1,5.1,4.9,4.9,0.0,0.0,1.5,1.5,0.0,0.0,1.5,1.5,0.0,0.0,4.9,4.9,5.1,5.1,9.9,9.9,10.1],\"y\":[1.5,0.0,0.0,4.9,4.9,5.1,5.1,9.9,9.9,10.1,10.1,15.0,15.0,13.6,13.6,15.0,15.0,13.6,13.6,15.0,15.0,10.1,10.1,9.9,9.9,5.1,5.1,4.9,4.9,0.0,0.0,1.5,1.5,0.0,0.0,1.5,1.5],\"type\":\"scatter\"},{\"hoverinfo\":\"name\",\"line\":{\"color\":\"grey\"},\"mode\":\"lines\",\"name\":\"Obstacle\",\"showlegend\":false,\"x\":[10.1,11.5,11.5,10.1,10.1,9.9,9.9,8.6,8.6,9.9,9.9,10.1,10.1],\"y\":[5.1,5.1,4.9,4.9,3.6,3.6,4.9,4.9,5.1,5.1,6.5,6.5,5.1],\"type\":\"scatter\"},{\"hoverinfo\":\"name\",\"line\":{\"color\":\"grey\"},\"mode\":\"lines\",\"name\":\"Obstacle\",\"showlegend\":false,\"x\":[10.1,11.5,11.5,10.1,10.1,9.9,9.9,8.6,8.6,9.9,9.9,10.1,10.1],\"y\":[10.1,10.1,9.9,9.9,8.6,8.6,9.9,9.9,10.1,10.1,11.5,11.5,10.1],\"type\":\"scatter\"},{\"hoverinfo\":\"name\",\"line\":{\"color\":\"grey\"},\"mode\":\"lines\",\"name\":\"Obstacle\",\"showlegend\":false,\"x\":[5.1,6.4,6.4,5.1,5.1,4.9,4.9,3.6,3.6,4.9,4.9,5.1,5.1],\"y\":[5.1,5.1,4.9,4.9,3.6,3.6,4.9,4.9,5.1,5.1,6.5,6.5,5.1],\"type\":\"scatter\"},{\"hoverinfo\":\"name\",\"line\":{\"color\":\"grey\"},\"mode\":\"lines\",\"name\":\"Obstacle\",\"showlegend\":false,\"x\":[5.1,6.4,6.4,5.1,5.1,4.9,4.9,3.6,3.6,4.9,4.9,5.1,5.1],\"y\":[10.1,10.1,9.9,9.9,8.6,8.6,9.9,9.9,10.1,10.1,11.5,11.5,10.1],\"type\":\"scatter\"},{\"fill\":\"toself\",\"fillcolor\":\"rgba(200, 0, 0, 0.00)\",\"hoverinfo\":\"name\",\"line\":{\"width\":0},\"mode\":\"lines\",\"name\":\"Risk Area\",\"showlegend\":false,\"x\":[0.0,5.0,5.0,0.0,0.0],\"y\":[0.0,0.0,5.0,5.0,0.0],\"type\":\"scatter\"},{\"fill\":\"toself\",\"fillcolor\":\"rgba(200, 0, 0, 0.60)\",\"hoverinfo\":\"name\",\"line\":{\"width\":0},\"mode\":\"lines\",\"name\":\"Risk Area\",\"showlegend\":false,\"x\":[5.0,10.0,10.0,5.0,5.0],\"y\":[0.0,0.0,5.0,5.0,0.0],\"type\":\"scatter\"},{\"fill\":\"toself\",\"fillcolor\":\"rgba(200, 0, 0, 0.00)\",\"hoverinfo\":\"name\",\"line\":{\"width\":0},\"mode\":\"lines\",\"name\":\"Risk Area\",\"showlegend\":false,\"x\":[10.0,15.0,15.0,10.0,10.0],\"y\":[0.0,0.0,5.0,5.0,0.0],\"type\":\"scatter\"},{\"fill\":\"toself\",\"fillcolor\":\"rgba(200, 0, 0, 0.60)\",\"hoverinfo\":\"name\",\"line\":{\"width\":0},\"mode\":\"lines\",\"name\":\"Risk Area\",\"showlegend\":false,\"x\":[10.0,15.0,15.0,10.0,10.0],\"y\":[5.0,5.0,10.0,10.0,5.0],\"type\":\"scatter\"},{\"fill\":\"toself\",\"fillcolor\":\"rgba(200, 0, 0, 0.60)\",\"hoverinfo\":\"name\",\"line\":{\"width\":0},\"mode\":\"lines\",\"name\":\"Risk Area\",\"showlegend\":false,\"x\":[5.0,10.0,10.0,5.0,5.0],\"y\":[5.0,5.0,10.0,10.0,5.0],\"type\":\"scatter\"},{\"fill\":\"toself\",\"fillcolor\":\"rgba(200, 0, 0, 0.10)\",\"hoverinfo\":\"name\",\"line\":{\"width\":0},\"mode\":\"lines\",\"name\":\"Risk Area\",\"showlegend\":false,\"x\":[0.0,5.0,5.0,0.0,0.0],\"y\":[5.0,5.0,10.0,10.0,5.0],\"type\":\"scatter\"},{\"fill\":\"toself\",\"fillcolor\":\"rgba(200, 0, 0, 0.00)\",\"hoverinfo\":\"name\",\"line\":{\"width\":0},\"mode\":\"lines\",\"name\":\"Risk Area\",\"showlegend\":false,\"x\":[0.0,5.0,5.0,0.0,0.0],\"y\":[10.0,10.0,15.0,15.0,10.0],\"type\":\"scatter\"},{\"fill\":\"toself\",\"fillcolor\":\"rgba(200, 0, 0, 0.00)\",\"hoverinfo\":\"name\",\"line\":{\"width\":0},\"mode\":\"lines\",\"name\":\"Risk Area\",\"showlegend\":false,\"x\":[5.0,10.0,10.0,5.0,5.0],\"y\":[10.0,10.0,15.0,15.0,10.0],\"type\":\"scatter\"},{\"fill\":\"toself\",\"fillcolor\":\"rgba(200, 0, 0, 0.00)\",\"hoverinfo\":\"name\",\"line\":{\"width\":0},\"mode\":\"lines\",\"name\":\"Risk Area\",\"showlegend\":false,\"x\":[10.0,15.0,15.0,10.0,10.0],\"y\":[10.0,10.0,15.0,15.0,10.0],\"type\":\"scatter\"},{\"hoverinfo\":\"text\",\"marker\":{\"opacity\":1,\"size\":1},\"mode\":\"markers\",\"showlegend\":false,\"text\":[\"ID: 61, Pos(2.96,6.24)\"],\"x\":[2.9581676026443975],\"y\":[6.243316523388464],\"type\":\"scatter\"},{\"hoverinfo\":\"text\",\"marker\":{\"opacity\":1,\"size\":1},\"mode\":\"markers\",\"showlegend\":false,\"text\":[\"ID: 62, Pos(1.94,5.15)\"],\"x\":[1.9377816298191668],\"y\":[5.153257725681714],\"type\":\"scatter\"},{\"hoverinfo\":\"text\",\"marker\":{\"opacity\":1,\"size\":1},\"mode\":\"markers\",\"showlegend\":false,\"text\":[\"ID: 63, Pos(2.26,3.71)\"],\"x\":[2.2621615723924484],\"y\":[3.7147914763581893],\"type\":\"scatter\"},{\"hoverinfo\":\"text\",\"marker\":{\"opacity\":1,\"size\":1},\"mode\":\"markers\",\"showlegend\":false,\"text\":[\"ID: 64, Pos(2.74,7.29)\"],\"x\":[2.737489465733495],\"y\":[7.292000318408571],\"type\":\"scatter\"},{\"hoverinfo\":\"text\",\"marker\":{\"opacity\":1,\"size\":1},\"mode\":\"markers\",\"showlegend\":false,\"text\":[\"ID: 65, Pos(2.37,5.92)\"],\"x\":[2.3739785731271343],\"y\":[5.920418627380049],\"type\":\"scatter\"},{\"hoverinfo\":\"text\",\"marker\":{\"opacity\":1,\"size\":1},\"mode\":\"markers\",\"showlegend\":false,\"text\":[\"ID: 66, Pos(2.13,8.23)\"],\"x\":[2.1344054310321643],\"y\":[8.228378641372304],\"type\":\"scatter\"},{\"hoverinfo\":\"text\",\"marker\":{\"opacity\":1,\"size\":1},\"mode\":\"markers\",\"showlegend\":false,\"text\":[\"ID: 67, Pos(2.85,8.46)\"],\"x\":[2.8491945578620244],\"y\":[8.463289778198781],\"type\":\"scatter\"},{\"hoverinfo\":\"text\",\"marker\":{\"opacity\":1,\"size\":1},\"mode\":\"markers\",\"showlegend\":false,\"text\":[\"ID: 68, Pos(3.05,5.28)\"],\"x\":[3.047171937903029],\"y\":[5.281635062193727],\"type\":\"scatter\"},{\"hoverinfo\":\"text\",\"marker\":{\"opacity\":1,\"size\":1},\"mode\":\"markers\",\"showlegend\":false,\"text\":[\"ID: 69, Pos(2.05,7.03)\"],\"x\":[2.050799933307093],\"y\":[7.031880957380289],\"type\":\"scatter\"},{\"hoverinfo\":\"text\",\"marker\":{\"opacity\":1,\"size\":1},\"mode\":\"markers\",\"showlegend\":false,\"text\":[\"ID: 70, Pos(2.43,4.78)\"],\"x\":[2.4298220087979896],\"y\":[4.782187642838245],\"type\":\"scatter\"}],\"layout\":{\"shapes\":[{\"fillcolor\":\"rgba(0, 56, 255, 0.5)\",\"line\":{\"color\":\"rgba(0, 56, 255, 0.5)\"},\"type\":\"circle\",\"x0\":2.7581676026443973,\"x1\":3.1581676026443977,\"xref\":\"x\",\"y0\":6.043316523388464,\"y1\":6.443316523388464,\"yref\":\"y\"},{\"fillcolor\":\"rgba(77, 255, 170, 0.5)\",\"line\":{\"color\":\"rgba(77, 255, 170, 0.5)\"},\"type\":\"circle\",\"x0\":1.7377816298191668,\"x1\":2.137781629819167,\"xref\":\"x\",\"y0\":4.953257725681714,\"y1\":5.353257725681714,\"yref\":\"y\"},{\"fillcolor\":\"rgba(0, 40, 255, 0.5)\",\"line\":{\"color\":\"rgba(0, 40, 255, 0.5)\"},\"type\":\"circle\",\"x0\":2.0621615723924482,\"x1\":2.4621615723924486,\"xref\":\"x\",\"y0\":3.514791476358189,\"y1\":3.9147914763581895,\"yref\":\"y\"},{\"fillcolor\":\"rgba(0, 0, 164, 0.5)\",\"line\":{\"color\":\"rgba(0, 0, 164, 0.5)\"},\"type\":\"circle\",\"x0\":2.5374894657334948,\"x1\":2.937489465733495,\"xref\":\"x\",\"y0\":7.092000318408571,\"y1\":7.4920003184085715,\"yref\":\"y\"},{\"fillcolor\":\"rgba(0, 0, 196, 0.5)\",\"line\":{\"color\":\"rgba(0, 0, 196, 0.5)\"},\"type\":\"circle\",\"x0\":2.173978573127134,\"x1\":2.5739785731271345,\"xref\":\"x\",\"y0\":5.720418627380049,\"y1\":6.120418627380049,\"yref\":\"y\"},{\"fillcolor\":\"rgba(0, 0, 128, 0.5)\",\"line\":{\"color\":\"rgba(0, 0, 128, 0.5)\"},\"type\":\"circle\",\"x0\":1.9344054310321643,\"x1\":2.3344054310321645,\"xref\":\"x\",\"y0\":8.028378641372305,\"y1\":8.428378641372303,\"yref\":\"y\"},{\"fillcolor\":\"rgba(0, 0, 128, 0.5)\",\"line\":{\"color\":\"rgba(0, 0, 128, 0.5)\"},\"type\":\"circle\",\"x0\":2.649194557862024,\"x1\":3.0491945578620245,\"xref\":\"x\",\"y0\":8.263289778198782,\"y1\":8.66328977819878,\"yref\":\"y\"},{\"fillcolor\":\"rgba(0, 204, 255, 0.5)\",\"line\":{\"color\":\"rgba(0, 204, 255, 0.5)\"},\"type\":\"circle\",\"x0\":2.847171937903029,\"x1\":3.2471719379030293,\"xref\":\"x\",\"y0\":5.081635062193727,\"y1\":5.481635062193727,\"yref\":\"y\"},{\"fillcolor\":\"rgba(0, 0, 128, 0.5)\",\"line\":{\"color\":\"rgba(0, 0, 128, 0.5)\"},\"type\":\"circle\",\"x0\":1.850799933307093,\"x1\":2.250799933307093,\"xref\":\"x\",\"y0\":6.831880957380289,\"y1\":7.231880957380289,\"yref\":\"y\"},{\"fillcolor\":\"rgba(0, 0, 223, 0.5)\",\"line\":{\"color\":\"rgba(0, 0, 223, 0.5)\"},\"type\":\"circle\",\"x0\":2.2298220087979894,\"x1\":2.6298220087979898,\"xref\":\"x\",\"y0\":4.582187642838245,\"y1\":4.9821876428382454,\"yref\":\"y\"},{\"line\":{\"color\":\"white\",\"width\":3},\"type\":\"line\",\"x0\":2.9581676026443975,\"x1\":2.9737458004841697,\"y0\":6.243316523388464,\"y1\":6.442708899752419},{\"line\":{\"color\":\"black\",\"width\":3},\"type\":\"line\",\"x0\":1.9377816298191668,\"x1\":1.9506087809362653,\"y0\":5.153257725681714,\"y1\":5.352845962294544},{\"line\":{\"color\":\"white\",\"width\":3},\"type\":\"line\",\"x0\":2.2621615723924484,\"x1\":2.2746532109042463,\"y0\":3.7147914763581893,\"y1\":3.914400992582468},{\"line\":{\"color\":\"white\",\"width\":3},\"type\":\"line\",\"x0\":2.737489465733495,\"x1\":2.74543965890754,\"y0\":7.292000318408571,\"y1\":7.49184224200944},{\"line\":{\"color\":\"white\",\"width\":3},\"type\":\"line\",\"x0\":2.3739785731271343,\"x1\":2.3574569607993467,\"y0\":5.920418627380049,\"y1\":6.119735050000189},{\"line\":{\"color\":\"white\",\"width\":3},\"type\":\"line\",\"x0\":2.1344054310321643,\"x1\":2.136741989418354,\"y0\":8.228378641372304,\"y1\":8.42836499214382},{\"line\":{\"color\":\"white\",\"width\":3},\"type\":\"line\",\"x0\":2.8491945578620244,\"x1\":2.8466012148951925,\"y0\":8.463289778198781,\"y1\":8.663272963922623},{\"line\":{\"color\":\"black\",\"width\":3},\"type\":\"line\",\"x0\":3.047171937903029,\"x1\":3.008528492612634,\"y0\":5.281635062193727,\"y1\":5.477866262913919},{\"line\":{\"color\":\"white\",\"width\":3},\"type\":\"line\",\"x0\":2.050799933307093,\"x1\":2.0496717711894674,\"y0\":7.031880957380289,\"y1\":7.2318777754805685},{\"line\":{\"color\":\"white\",\"width\":3},\"type\":\"line\",\"x0\":2.4298220087979896,\"x1\":2.4850903408716047,\"y0\":4.782187642838245,\"y1\":4.974399534951612}],\"title\":{\"text\":\"\\u003cb\\u003ePercentage using the shortest path: 0%  |  Number of Agents: 10\\u003c\\u002fb\\u003e\",\"x\":0.5}},\"name\":\"150\"},{\"data\":[{\"hoverinfo\":\"name\",\"line\":{\"color\":\"grey\"},\"mode\":\"lines\",\"name\":\"Exterior\",\"showlegend\":false,\"x\":[10.1,10.1,15.0,15.0,13.6,13.6,15.0,15.0,13.6,13.6,15.0,15.0,10.1,10.1,9.9,9.9,5.1,5.1,4.9,4.9,0.0,0.0,1.5,1.5,0.0,0.0,1.5,1.5,0.0,0.0,4.9,4.9,5.1,5.1,9.9,9.9,10.1],\"y\":[1.5,0.0,0.0,4.9,4.9,5.1,5.1,9.9,9.9,10.1,10.1,15.0,15.0,13.6,13.6,15.0,15.0,13.6,13.6,15.0,15.0,10.1,10.1,9.9,9.9,5.1,5.1,4.9,4.9,0.0,0.0,1.5,1.5,0.0,0.0,1.5,1.5],\"type\":\"scatter\"},{\"hoverinfo\":\"name\",\"line\":{\"color\":\"grey\"},\"mode\":\"lines\",\"name\":\"Obstacle\",\"showlegend\":false,\"x\":[10.1,11.5,11.5,10.1,10.1,9.9,9.9,8.6,8.6,9.9,9.9,10.1,10.1],\"y\":[5.1,5.1,4.9,4.9,3.6,3.6,4.9,4.9,5.1,5.1,6.5,6.5,5.1],\"type\":\"scatter\"},{\"hoverinfo\":\"name\",\"line\":{\"color\":\"grey\"},\"mode\":\"lines\",\"name\":\"Obstacle\",\"showlegend\":false,\"x\":[10.1,11.5,11.5,10.1,10.1,9.9,9.9,8.6,8.6,9.9,9.9,10.1,10.1],\"y\":[10.1,10.1,9.9,9.9,8.6,8.6,9.9,9.9,10.1,10.1,11.5,11.5,10.1],\"type\":\"scatter\"},{\"hoverinfo\":\"name\",\"line\":{\"color\":\"grey\"},\"mode\":\"lines\",\"name\":\"Obstacle\",\"showlegend\":false,\"x\":[5.1,6.4,6.4,5.1,5.1,4.9,4.9,3.6,3.6,4.9,4.9,5.1,5.1],\"y\":[5.1,5.1,4.9,4.9,3.6,3.6,4.9,4.9,5.1,5.1,6.5,6.5,5.1],\"type\":\"scatter\"},{\"hoverinfo\":\"name\",\"line\":{\"color\":\"grey\"},\"mode\":\"lines\",\"name\":\"Obstacle\",\"showlegend\":false,\"x\":[5.1,6.4,6.4,5.1,5.1,4.9,4.9,3.6,3.6,4.9,4.9,5.1,5.1],\"y\":[10.1,10.1,9.9,9.9,8.6,8.6,9.9,9.9,10.1,10.1,11.5,11.5,10.1],\"type\":\"scatter\"},{\"fill\":\"toself\",\"fillcolor\":\"rgba(200, 0, 0, 0.00)\",\"hoverinfo\":\"name\",\"line\":{\"width\":0},\"mode\":\"lines\",\"name\":\"Risk Area\",\"showlegend\":false,\"x\":[0.0,5.0,5.0,0.0,0.0],\"y\":[0.0,0.0,5.0,5.0,0.0],\"type\":\"scatter\"},{\"fill\":\"toself\",\"fillcolor\":\"rgba(200, 0, 0, 0.60)\",\"hoverinfo\":\"name\",\"line\":{\"width\":0},\"mode\":\"lines\",\"name\":\"Risk Area\",\"showlegend\":false,\"x\":[5.0,10.0,10.0,5.0,5.0],\"y\":[0.0,0.0,5.0,5.0,0.0],\"type\":\"scatter\"},{\"fill\":\"toself\",\"fillcolor\":\"rgba(200, 0, 0, 0.00)\",\"hoverinfo\":\"name\",\"line\":{\"width\":0},\"mode\":\"lines\",\"name\":\"Risk Area\",\"showlegend\":false,\"x\":[10.0,15.0,15.0,10.0,10.0],\"y\":[0.0,0.0,5.0,5.0,0.0],\"type\":\"scatter\"},{\"fill\":\"toself\",\"fillcolor\":\"rgba(200, 0, 0, 0.60)\",\"hoverinfo\":\"name\",\"line\":{\"width\":0},\"mode\":\"lines\",\"name\":\"Risk Area\",\"showlegend\":false,\"x\":[10.0,15.0,15.0,10.0,10.0],\"y\":[5.0,5.0,10.0,10.0,5.0],\"type\":\"scatter\"},{\"fill\":\"toself\",\"fillcolor\":\"rgba(200, 0, 0, 0.60)\",\"hoverinfo\":\"name\",\"line\":{\"width\":0},\"mode\":\"lines\",\"name\":\"Risk Area\",\"showlegend\":false,\"x\":[5.0,10.0,10.0,5.0,5.0],\"y\":[5.0,5.0,10.0,10.0,5.0],\"type\":\"scatter\"},{\"fill\":\"toself\",\"fillcolor\":\"rgba(200, 0, 0, 0.10)\",\"hoverinfo\":\"name\",\"line\":{\"width\":0},\"mode\":\"lines\",\"name\":\"Risk Area\",\"showlegend\":false,\"x\":[0.0,5.0,5.0,0.0,0.0],\"y\":[5.0,5.0,10.0,10.0,5.0],\"type\":\"scatter\"},{\"fill\":\"toself\",\"fillcolor\":\"rgba(200, 0, 0, 0.00)\",\"hoverinfo\":\"name\",\"line\":{\"width\":0},\"mode\":\"lines\",\"name\":\"Risk Area\",\"showlegend\":false,\"x\":[0.0,5.0,5.0,0.0,0.0],\"y\":[10.0,10.0,15.0,15.0,10.0],\"type\":\"scatter\"},{\"fill\":\"toself\",\"fillcolor\":\"rgba(200, 0, 0, 0.00)\",\"hoverinfo\":\"name\",\"line\":{\"width\":0},\"mode\":\"lines\",\"name\":\"Risk Area\",\"showlegend\":false,\"x\":[5.0,10.0,10.0,5.0,5.0],\"y\":[10.0,10.0,15.0,15.0,10.0],\"type\":\"scatter\"},{\"fill\":\"toself\",\"fillcolor\":\"rgba(200, 0, 0, 0.00)\",\"hoverinfo\":\"name\",\"line\":{\"width\":0},\"mode\":\"lines\",\"name\":\"Risk Area\",\"showlegend\":false,\"x\":[10.0,15.0,15.0,10.0,10.0],\"y\":[10.0,10.0,15.0,15.0,10.0],\"type\":\"scatter\"},{\"hoverinfo\":\"text\",\"marker\":{\"opacity\":1,\"size\":1},\"mode\":\"markers\",\"showlegend\":false,\"text\":[\"ID: 61, Pos(2.98,7.71)\"],\"x\":[2.975063910974815],\"y\":[7.714419463712564],\"type\":\"scatter\"},{\"hoverinfo\":\"text\",\"marker\":{\"opacity\":1,\"size\":1},\"mode\":\"markers\",\"showlegend\":false,\"text\":[\"ID: 62, Pos(1.89,6.43)\"],\"x\":[1.887117925072684],\"y\":[6.429951302345017],\"type\":\"scatter\"},{\"hoverinfo\":\"text\",\"marker\":{\"opacity\":1,\"size\":1},\"mode\":\"markers\",\"showlegend\":false,\"text\":[\"ID: 63, Pos(2.35,5.17)\"],\"x\":[2.3531771543749755],\"y\":[5.1657295833827686],\"type\":\"scatter\"},{\"hoverinfo\":\"text\",\"marker\":{\"opacity\":1,\"size\":1},\"mode\":\"markers\",\"showlegend\":false,\"text\":[\"ID: 64, Pos(2.77,8.87)\"],\"x\":[2.771343948998321],\"y\":[8.868837359579636],\"type\":\"scatter\"},{\"hoverinfo\":\"text\",\"marker\":{\"opacity\":1,\"size\":1},\"mode\":\"markers\",\"showlegend\":false,\"text\":[\"ID: 65, Pos(2.27,7.46)\"],\"x\":[2.272460351565042],\"y\":[7.463385283153417],\"type\":\"scatter\"},{\"hoverinfo\":\"text\",\"marker\":{\"opacity\":1,\"size\":1},\"mode\":\"markers\",\"showlegend\":false,\"text\":[\"ID: 66, Pos(2.16,9.83)\"],\"x\":[2.155857671085766],\"y\":[9.82823319358474],\"type\":\"scatter\"},{\"hoverinfo\":\"text\",\"marker\":{\"opacity\":1,\"size\":1},\"mode\":\"markers\",\"showlegend\":false,\"text\":[\"ID: 67, Pos(2.82,10.06)\"],\"x\":[2.824536662721713],\"y\":[10.063096809263753],\"type\":\"scatter\"},{\"hoverinfo\":\"text\",\"marker\":{\"opacity\":1,\"size\":1},\"mode\":\"markers\",\"showlegend\":false,\"text\":[\"ID: 68, Pos(3.09,6.59)\"],\"x\":[3.088378763412687],\"y\":[6.585175026882389],\"type\":\"scatter\"},{\"hoverinfo\":\"text\",\"marker\":{\"opacity\":1,\"size\":1},\"mode\":\"markers\",\"showlegend\":false,\"text\":[\"ID: 69, Pos(2.07,8.63)\"],\"x\":[2.07343490565318],\"y\":[8.631290096103207],\"type\":\"scatter\"},{\"hoverinfo\":\"text\",\"marker\":{\"opacity\":1,\"size\":1},\"mode\":\"markers\",\"showlegend\":false,\"text\":[\"ID: 70, Pos(2.52,6.31)\"],\"x\":[2.522475743564226],\"y\":[6.309268037464245],\"type\":\"scatter\"}],\"layout\":{\"shapes\":[{\"fillcolor\":\"rgba(0, 0, 168, 0.5)\",\"line\":{\"color\":\"rgba(0, 0, 168, 0.5)\"},\"type\":\"circle\",\"x0\":2.775063910974815,\"x1\":3.1750639109748153,\"xref\":\"x\",\"y0\":7.514419463712564,\"y1\":7.914419463712564,\"yref\":\"y\"},{\"fillcolor\":\"rgba(0, 0, 128, 0.5)\",\"line\":{\"color\":\"rgba(0, 0, 128, 0.5)\"},\"type\":\"circle\",\"x0\":1.687117925072684,\"x1\":2.087117925072684,\"xref\":\"x\",\"y0\":6.229951302345017,\"y1\":6.629951302345018,\"yref\":\"y\"},{\"fillcolor\":\"rgba(0, 0, 196, 0.5)\",\"line\":{\"color\":\"rgba(0, 0, 196, 0.5)\"},\"type\":\"circle\",\"x0\":2.1531771543749754,\"x1\":2.5531771543749757,\"xref\":\"x\",\"y0\":4.965729583382768,\"y1\":5.365729583382769,\"yref\":\"y\"},{\"fillcolor\":\"rgba(0, 0, 132, 0.5)\",\"line\":{\"color\":\"rgba(0, 0, 132, 0.5)\"},\"type\":\"circle\",\"x0\":2.571343948998321,\"x1\":2.9713439489983213,\"xref\":\"x\",\"y0\":8.668837359579637,\"y1\":9.068837359579636,\"yref\":\"y\"},{\"fillcolor\":\"rgba(0, 0, 150, 0.5)\",\"line\":{\"color\":\"rgba(0, 0, 150, 0.5)\"},\"type\":\"circle\",\"x0\":2.072460351565042,\"x1\":2.4724603515650423,\"xref\":\"x\",\"y0\":7.263385283153417,\"y1\":7.663385283153417,\"yref\":\"y\"},{\"fillcolor\":\"rgba(0, 0, 128, 0.5)\",\"line\":{\"color\":\"rgba(0, 0, 128, 0.5)\"},\"type\":\"circle\",\"x0\":1.9558576710857662,\"x1\":2.3558576710857664,\"xref\":\"x\",\"y0\":9.628233193584741,\"y1\":10.02823319358474,\"yref\":\"y\"},{\"fillcolor\":\"rgba(0, 0, 128, 0.5)\",\"line\":{\"color\":\"rgba(0, 0, 128, 0.5)\"},\"type\":\"circle\",\"x0\":2.624536662721713,\"x1\":3.0245366627217134,\"xref\":\"x\",\"y0\":9.863096809263753,\"y1\":10.263096809263752,\"yref\":\"y\"},{\"fillcolor\":\"rgba(0, 0, 232, 0.5)\",\"line\":{\"color\":\"rgba(0, 0, 232, 0.5)\"},\"type\":\"circle\",\"x0\":2.8883787634126867,\"x1\":3.288378763412687,\"xref\":\"x\",\"y0\":6.385175026882389,\"y1\":6.785175026882389,\"yref\":\"y\"},{\"fillcolor\":\"rgba(0, 0, 128, 0.5)\",\"line\":{\"color\":\"rgba(0, 0, 128, 0.5)\"},\"type\":\"circle\",\"x0\":1.8734349056531798,\"x1\":2.27343490565318,\"xref\":\"x\",\"y0\":8.431290096103208,\"y1\":8.831290096103206,\"yref\":\"y\"},{\"fillcolor\":\"rgba(0, 0, 155, 0.5)\",\"line\":{\"color\":\"rgba(0, 0, 155, 0.5)\"},\"type\":\"circle\",\"x0\":2.322475743564226,\"x1\":2.7224757435642264,\"xref\":\"x\",\"y0\":6.109268037464245,\"y1\":6.5092680374642455,\"yref\":\"y\"},{\"line\":{\"color\":\"white\",\"width\":3},\"type\":\"line\",\"x0\":2.975063910974815,\"x1\":2.970872811120147,\"y0\":7.714419463712564,\"y1\":7.914375545595582},{\"line\":{\"color\":\"white\",\"width\":3},\"type\":\"line\",\"x0\":1.887117925072684,\"x1\":1.864118166373978,\"y0\":6.429951302345017,\"y1\":6.628624428609747},{\"line\":{\"color\":\"white\",\"width\":3},\"type\":\"line\",\"x0\":2.3531771543749755,\"x1\":2.3657290868352905,\"y0\":5.1657295833827686,\"y1\":5.365335317247084},{\"line\":{\"color\":\"white\",\"width\":3},\"type\":\"line\",\"x0\":2.771343948998321,\"x1\":2.7734207732165754,\"y0\":8.868837359579636,\"y1\":9.068826576291855},{\"line\":{\"color\":\"white\",\"width\":3},\"type\":\"line\",\"x0\":2.272460351565042,\"x1\":2.2659429536934854,\"y0\":7.463385283153417,\"y1\":7.663279063759477},{\"line\":{\"color\":\"white\",\"width\":3},\"type\":\"line\",\"x0\":2.155857671085766,\"x1\":2.159241571671929,\"y0\":9.82823319358474,\"y1\":10.028204564577747},{\"line\":{\"color\":\"white\",\"width\":3},\"type\":\"line\",\"x0\":2.824536662721713,\"x1\":2.8206374743069844,\"y0\":10.063096809263753,\"y1\":10.263058796475589},{\"line\":{\"color\":\"white\",\"width\":3},\"type\":\"line\",\"x0\":3.088378763412687,\"x1\":3.113398069867275,\"y0\":6.585175026882389,\"y1\":6.783603941873454},{\"line\":{\"color\":\"white\",\"width\":3},\"type\":\"line\",\"x0\":2.07343490565318,\"x1\":2.07852498448703,\"y0\":8.631290096103207,\"y1\":8.831225313354858},{\"line\":{\"color\":\"white\",\"width\":3},\"type\":\"line\",\"x0\":2.522475743564226,\"x1\":2.517267288948546,\"y0\":6.309268037464245,\"y1\":6.509200205962755}],\"title\":{\"text\":\"\\u003cb\\u003ePercentage using the shortest path: 0%  |  Number of Agents: 10\\u003c\\u002fb\\u003e\",\"x\":0.5}},\"name\":\"200\"},{\"data\":[{\"hoverinfo\":\"name\",\"line\":{\"color\":\"grey\"},\"mode\":\"lines\",\"name\":\"Exterior\",\"showlegend\":false,\"x\":[10.1,10.1,15.0,15.0,13.6,13.6,15.0,15.0,13.6,13.6,15.0,15.0,10.1,10.1,9.9,9.9,5.1,5.1,4.9,4.9,0.0,0.0,1.5,1.5,0.0,0.0,1.5,1.5,0.0,0.0,4.9,4.9,5.1,5.1,9.9,9.9,10.1],\"y\":[1.5,0.0,0.0,4.9,4.9,5.1,5.1,9.9,9.9,10.1,10.1,15.0,15.0,13.6,13.6,15.0,15.0,13.6,13.6,15.0,15.0,10.1,10.1,9.9,9.9,5.1,5.1,4.9,4.9,0.0,0.0,1.5,1.5,0.0,0.0,1.5,1.5],\"type\":\"scatter\"},{\"hoverinfo\":\"name\",\"line\":{\"color\":\"grey\"},\"mode\":\"lines\",\"name\":\"Obstacle\",\"showlegend\":false,\"x\":[10.1,11.5,11.5,10.1,10.1,9.9,9.9,8.6,8.6,9.9,9.9,10.1,10.1],\"y\":[5.1,5.1,4.9,4.9,3.6,3.6,4.9,4.9,5.1,5.1,6.5,6.5,5.1],\"type\":\"scatter\"},{\"hoverinfo\":\"name\",\"line\":{\"color\":\"grey\"},\"mode\":\"lines\",\"name\":\"Obstacle\",\"showlegend\":false,\"x\":[10.1,11.5,11.5,10.1,10.1,9.9,9.9,8.6,8.6,9.9,9.9,10.1,10.1],\"y\":[10.1,10.1,9.9,9.9,8.6,8.6,9.9,9.9,10.1,10.1,11.5,11.5,10.1],\"type\":\"scatter\"},{\"hoverinfo\":\"name\",\"line\":{\"color\":\"grey\"},\"mode\":\"lines\",\"name\":\"Obstacle\",\"showlegend\":false,\"x\":[5.1,6.4,6.4,5.1,5.1,4.9,4.9,3.6,3.6,4.9,4.9,5.1,5.1],\"y\":[5.1,5.1,4.9,4.9,3.6,3.6,4.9,4.9,5.1,5.1,6.5,6.5,5.1],\"type\":\"scatter\"},{\"hoverinfo\":\"name\",\"line\":{\"color\":\"grey\"},\"mode\":\"lines\",\"name\":\"Obstacle\",\"showlegend\":false,\"x\":[5.1,6.4,6.4,5.1,5.1,4.9,4.9,3.6,3.6,4.9,4.9,5.1,5.1],\"y\":[10.1,10.1,9.9,9.9,8.6,8.6,9.9,9.9,10.1,10.1,11.5,11.5,10.1],\"type\":\"scatter\"},{\"fill\":\"toself\",\"fillcolor\":\"rgba(200, 0, 0, 0.00)\",\"hoverinfo\":\"name\",\"line\":{\"width\":0},\"mode\":\"lines\",\"name\":\"Risk Area\",\"showlegend\":false,\"x\":[0.0,5.0,5.0,0.0,0.0],\"y\":[0.0,0.0,5.0,5.0,0.0],\"type\":\"scatter\"},{\"fill\":\"toself\",\"fillcolor\":\"rgba(200, 0, 0, 0.60)\",\"hoverinfo\":\"name\",\"line\":{\"width\":0},\"mode\":\"lines\",\"name\":\"Risk Area\",\"showlegend\":false,\"x\":[5.0,10.0,10.0,5.0,5.0],\"y\":[0.0,0.0,5.0,5.0,0.0],\"type\":\"scatter\"},{\"fill\":\"toself\",\"fillcolor\":\"rgba(200, 0, 0, 0.00)\",\"hoverinfo\":\"name\",\"line\":{\"width\":0},\"mode\":\"lines\",\"name\":\"Risk Area\",\"showlegend\":false,\"x\":[10.0,15.0,15.0,10.0,10.0],\"y\":[0.0,0.0,5.0,5.0,0.0],\"type\":\"scatter\"},{\"fill\":\"toself\",\"fillcolor\":\"rgba(200, 0, 0, 0.60)\",\"hoverinfo\":\"name\",\"line\":{\"width\":0},\"mode\":\"lines\",\"name\":\"Risk Area\",\"showlegend\":false,\"x\":[10.0,15.0,15.0,10.0,10.0],\"y\":[5.0,5.0,10.0,10.0,5.0],\"type\":\"scatter\"},{\"fill\":\"toself\",\"fillcolor\":\"rgba(200, 0, 0, 0.60)\",\"hoverinfo\":\"name\",\"line\":{\"width\":0},\"mode\":\"lines\",\"name\":\"Risk Area\",\"showlegend\":false,\"x\":[5.0,10.0,10.0,5.0,5.0],\"y\":[5.0,5.0,10.0,10.0,5.0],\"type\":\"scatter\"},{\"fill\":\"toself\",\"fillcolor\":\"rgba(200, 0, 0, 0.10)\",\"hoverinfo\":\"name\",\"line\":{\"width\":0},\"mode\":\"lines\",\"name\":\"Risk Area\",\"showlegend\":false,\"x\":[0.0,5.0,5.0,0.0,0.0],\"y\":[5.0,5.0,10.0,10.0,5.0],\"type\":\"scatter\"},{\"fill\":\"toself\",\"fillcolor\":\"rgba(200, 0, 0, 0.00)\",\"hoverinfo\":\"name\",\"line\":{\"width\":0},\"mode\":\"lines\",\"name\":\"Risk Area\",\"showlegend\":false,\"x\":[0.0,5.0,5.0,0.0,0.0],\"y\":[10.0,10.0,15.0,15.0,10.0],\"type\":\"scatter\"},{\"fill\":\"toself\",\"fillcolor\":\"rgba(200, 0, 0, 0.00)\",\"hoverinfo\":\"name\",\"line\":{\"width\":0},\"mode\":\"lines\",\"name\":\"Risk Area\",\"showlegend\":false,\"x\":[5.0,10.0,10.0,5.0,5.0],\"y\":[10.0,10.0,15.0,15.0,10.0],\"type\":\"scatter\"},{\"fill\":\"toself\",\"fillcolor\":\"rgba(200, 0, 0, 0.00)\",\"hoverinfo\":\"name\",\"line\":{\"width\":0},\"mode\":\"lines\",\"name\":\"Risk Area\",\"showlegend\":false,\"x\":[10.0,15.0,15.0,10.0,10.0],\"y\":[10.0,10.0,15.0,15.0,10.0],\"type\":\"scatter\"},{\"hoverinfo\":\"text\",\"marker\":{\"opacity\":1,\"size\":1},\"mode\":\"markers\",\"showlegend\":false,\"text\":[\"ID: 61, Pos(2.93,9.26)\"],\"x\":[2.927394079540924],\"y\":[9.262211827137127],\"type\":\"scatter\"},{\"hoverinfo\":\"text\",\"marker\":{\"opacity\":1,\"size\":1},\"mode\":\"markers\",\"showlegend\":false,\"text\":[\"ID: 62, Pos(1.83,8.02)\"],\"x\":[1.8330759280005802],\"y\":[8.024788524790797],\"type\":\"scatter\"},{\"hoverinfo\":\"text\",\"marker\":{\"opacity\":1,\"size\":1},\"mode\":\"markers\",\"showlegend\":false,\"text\":[\"ID: 63, Pos(2.42,6.70)\"],\"x\":[2.416021234616005],\"y\":[6.70358408166514],\"type\":\"scatter\"},{\"hoverinfo\":\"text\",\"marker\":{\"opacity\":1,\"size\":1},\"mode\":\"markers\",\"showlegend\":false,\"text\":[\"ID: 64, Pos(2.78,10.38)\"],\"x\":[2.7809570933688215],\"y\":[10.377223523372093],\"type\":\"scatter\"},{\"hoverinfo\":\"text\",\"marker\":{\"opacity\":1,\"size\":1},\"mode\":\"markers\",\"showlegend\":false,\"text\":[\"ID: 65, Pos(2.24,9.03)\"],\"x\":[2.2368219918723056],\"y\":[9.033579320580799],\"type\":\"scatter\"},{\"hoverinfo\":\"text\",\"marker\":{\"opacity\":1,\"size\":1},\"mode\":\"markers\",\"showlegend\":false,\"text\":[\"ID: 66, Pos(2.44,11.11)\"],\"x\":[2.437937422149642],\"y\":[11.105419615636162],\"type\":\"scatter\"},{\"hoverinfo\":\"text\",\"marker\":{\"opacity\":1,\"size\":1},\"mode\":\"markers\",\"showlegend\":false,\"text\":[\"ID: 67, Pos(3.40,11.22)\"],\"x\":[3.402875240013397],\"y\":[11.221899202664561],\"type\":\"scatter\"},{\"hoverinfo\":\"text\",\"marker\":{\"opacity\":1,\"size\":1},\"mode\":\"markers\",\"showlegend\":false,\"text\":[\"ID: 68, Pos(3.15,8.11)\"],\"x\":[3.148842798262761],\"y\":[8.113111435409955],\"type\":\"scatter\"},{\"hoverinfo\":\"text\",\"marker\":{\"opacity\":1,\"size\":1},\"mode\":\"markers\",\"showlegend\":false,\"text\":[\"ID: 69, Pos(2.12,10.17)\"],\"x\":[2.1191699432523445],\"y\":[10.17048724646153],\"type\":\"scatter\"},{\"hoverinfo\":\"text\",\"marker\":{\"opacity\":1,\"size\":1},\"mode\":\"markers\",\"showlegend\":false,\"text\":[\"ID: 70, Pos(2.51,7.88)\"],\"x\":[2.506189097930183],\"y\":[7.8808779014051975],\"type\":\"scatter\"}],\"layout\":{\"shapes\":[{\"fillcolor\":\"rgba(0, 0, 255, 0.5)\",\"line\":{\"color\":\"rgba(0, 0, 255, 0.5)\"},\"type\":\"circle\",\"x0\":2.727394079540924,\"x1\":3.1273940795409243,\"xref\":\"x\",\"y0\":9.062211827137128,\"y1\":9.462211827137127,\"yref\":\"y\"},{\"fillcolor\":\"rgba(0, 0, 228, 0.5)\",\"line\":{\"color\":\"rgba(0, 0, 228, 0.5)\"},\"type\":\"circle\",\"x0\":1.6330759280005802,\"x1\":2.03307592800058,\"xref\":\"x\",\"y0\":7.8247885247907965,\"y1\":8.224788524790796,\"yref\":\"y\"},{\"fillcolor\":\"rgba(0, 0, 155, 0.5)\",\"line\":{\"color\":\"rgba(0, 0, 155, 0.5)\"},\"type\":\"circle\",\"x0\":2.216021234616005,\"x1\":2.616021234616005,\"xref\":\"x\",\"y0\":6.50358408166514,\"y1\":6.90358408166514,\"yref\":\"y\"},{\"fillcolor\":\"rgba(67, 255, 180, 0.5)\",\"line\":{\"color\":\"rgba(67, 255, 180, 0.5)\"},\"type\":\"circle\",\"x0\":2.5809570933688213,\"x1\":2.9809570933688216,\"xref\":\"x\",\"y0\":10.177223523372094,\"y1\":10.577223523372092,\"yref\":\"y\"},{\"fillcolor\":\"rgba(0, 0, 218, 0.5)\",\"line\":{\"color\":\"rgba(0, 0, 218, 0.5)\"},\"type\":\"circle\",\"x0\":2.0368219918723054,\"x1\":2.4368219918723057,\"xref\":\"x\",\"y0\":8.8335793205808,\"y1\":9.233579320580798,\"yref\":\"y\"},{\"fillcolor\":\"rgba(0, 200, 255, 0.5)\",\"line\":{\"color\":\"rgba(0, 200, 255, 0.5)\"},\"type\":\"circle\",\"x0\":2.237937422149642,\"x1\":2.6379374221496423,\"xref\":\"x\",\"y0\":10.905419615636163,\"y1\":11.305419615636161,\"yref\":\"y\"},{\"fillcolor\":\"rgba(0, 0, 128, 0.5)\",\"line\":{\"color\":\"rgba(0, 0, 128, 0.5)\"},\"type\":\"circle\",\"x0\":3.202875240013397,\"x1\":3.602875240013397,\"xref\":\"x\",\"y0\":11.021899202664562,\"y1\":11.42189920266456,\"yref\":\"y\"},{\"fillcolor\":\"rgba(0, 0, 178, 0.5)\",\"line\":{\"color\":\"rgba(0, 0, 178, 0.5)\"},\"type\":\"circle\",\"x0\":2.9488427982627607,\"x1\":3.348842798262761,\"xref\":\"x\",\"y0\":7.913111435409955,\"y1\":8.313111435409954,\"yref\":\"y\"},{\"fillcolor\":\"rgba(0, 148, 255, 0.5)\",\"line\":{\"color\":\"rgba(0, 148, 255, 0.5)\"},\"type\":\"circle\",\"x0\":1.9191699432523446,\"x1\":2.3191699432523447,\"xref\":\"x\",\"y0\":9.97048724646153,\"y1\":10.37048724646153,\"yref\":\"y\"},{\"fillcolor\":\"rgba(0, 0, 155, 0.5)\",\"line\":{\"color\":\"rgba(0, 0, 155, 0.5)\"},\"type\":\"circle\",\"x0\":2.306189097930183,\"x1\":2.7061890979301833,\"xref\":\"x\",\"y0\":7.680877901405197,\"y1\":8.080877901405197,\"yref\":\"y\"},{\"line\":{\"color\":\"white\",\"width\":3},\"type\":\"line\",\"x0\":2.927394079540924,\"x1\":2.9201716339794648,\"y0\":9.262211827137127,\"y1\":9.462081375293199},{\"line\":{\"color\":\"white\",\"width\":3},\"type\":\"line\",\"x0\":1.8330759280005802,\"x1\":1.8338651018550014,\"y0\":8.024788524790797,\"y1\":8.224786967796305},{\"line\":{\"color\":\"white\",\"width\":3},\"type\":\"line\",\"x0\":2.416021234616005,\"x1\":2.418910071687816,\"y0\":6.70358408166514,\"y1\":6.903563217127749},{\"line\":{\"color\":\"black\",\"width\":3},\"type\":\"line\",\"x0\":2.7809570933688215,\"x1\":2.784232579293704,\"y0\":10.377223523372093,\"y1\":10.57719669955319},{\"line\":{\"color\":\"white\",\"width\":3},\"type\":\"line\",\"x0\":2.2368219918723056,\"x1\":2.233301901835475,\"y0\":9.033579320580799,\"y1\":9.233548340596732},{\"line\":{\"color\":\"black\",\"width\":3},\"type\":\"line\",\"x0\":2.437937422149642,\"x1\":2.6278230818765014,\"y0\":11.105419615636162,\"y1\":11.168216400825338},{\"line\":{\"color\":\"white\",\"width\":3},\"type\":\"line\",\"x0\":3.402875240013397,\"x1\":3.593349340621758,\"y0\":11.221899202664561,\"y1\":11.28288786552444},{\"line\":{\"color\":\"white\",\"width\":3},\"type\":\"line\",\"x0\":3.148842798262761,\"x1\":3.148542229381857,\"y0\":8.113111435409955,\"y1\":8.313111209555696},{\"line\":{\"color\":\"white\",\"width\":3},\"type\":\"line\",\"x0\":2.1191699432523445,\"x1\":2.125429655157864,\"y0\":10.17048724646153,\"y1\":10.370389262476527},{\"line\":{\"color\":\"white\",\"width\":3},\"type\":\"line\",\"x0\":2.506189097930183,\"x1\":2.5055419049774326,\"y0\":7.8808779014051975,\"y1\":8.080876854255662}],\"title\":{\"text\":\"\\u003cb\\u003ePercentage using the shortest path: 0%  |  Number of Agents: 10\\u003c\\u002fb\\u003e\",\"x\":0.5}},\"name\":\"250\"},{\"data\":[{\"hoverinfo\":\"name\",\"line\":{\"color\":\"grey\"},\"mode\":\"lines\",\"name\":\"Exterior\",\"showlegend\":false,\"x\":[10.1,10.1,15.0,15.0,13.6,13.6,15.0,15.0,13.6,13.6,15.0,15.0,10.1,10.1,9.9,9.9,5.1,5.1,4.9,4.9,0.0,0.0,1.5,1.5,0.0,0.0,1.5,1.5,0.0,0.0,4.9,4.9,5.1,5.1,9.9,9.9,10.1],\"y\":[1.5,0.0,0.0,4.9,4.9,5.1,5.1,9.9,9.9,10.1,10.1,15.0,15.0,13.6,13.6,15.0,15.0,13.6,13.6,15.0,15.0,10.1,10.1,9.9,9.9,5.1,5.1,4.9,4.9,0.0,0.0,1.5,1.5,0.0,0.0,1.5,1.5],\"type\":\"scatter\"},{\"hoverinfo\":\"name\",\"line\":{\"color\":\"grey\"},\"mode\":\"lines\",\"name\":\"Obstacle\",\"showlegend\":false,\"x\":[10.1,11.5,11.5,10.1,10.1,9.9,9.9,8.6,8.6,9.9,9.9,10.1,10.1],\"y\":[5.1,5.1,4.9,4.9,3.6,3.6,4.9,4.9,5.1,5.1,6.5,6.5,5.1],\"type\":\"scatter\"},{\"hoverinfo\":\"name\",\"line\":{\"color\":\"grey\"},\"mode\":\"lines\",\"name\":\"Obstacle\",\"showlegend\":false,\"x\":[10.1,11.5,11.5,10.1,10.1,9.9,9.9,8.6,8.6,9.9,9.9,10.1,10.1],\"y\":[10.1,10.1,9.9,9.9,8.6,8.6,9.9,9.9,10.1,10.1,11.5,11.5,10.1],\"type\":\"scatter\"},{\"hoverinfo\":\"name\",\"line\":{\"color\":\"grey\"},\"mode\":\"lines\",\"name\":\"Obstacle\",\"showlegend\":false,\"x\":[5.1,6.4,6.4,5.1,5.1,4.9,4.9,3.6,3.6,4.9,4.9,5.1,5.1],\"y\":[5.1,5.1,4.9,4.9,3.6,3.6,4.9,4.9,5.1,5.1,6.5,6.5,5.1],\"type\":\"scatter\"},{\"hoverinfo\":\"name\",\"line\":{\"color\":\"grey\"},\"mode\":\"lines\",\"name\":\"Obstacle\",\"showlegend\":false,\"x\":[5.1,6.4,6.4,5.1,5.1,4.9,4.9,3.6,3.6,4.9,4.9,5.1,5.1],\"y\":[10.1,10.1,9.9,9.9,8.6,8.6,9.9,9.9,10.1,10.1,11.5,11.5,10.1],\"type\":\"scatter\"},{\"fill\":\"toself\",\"fillcolor\":\"rgba(200, 0, 0, 0.00)\",\"hoverinfo\":\"name\",\"line\":{\"width\":0},\"mode\":\"lines\",\"name\":\"Risk Area\",\"showlegend\":false,\"x\":[0.0,5.0,5.0,0.0,0.0],\"y\":[0.0,0.0,5.0,5.0,0.0],\"type\":\"scatter\"},{\"fill\":\"toself\",\"fillcolor\":\"rgba(200, 0, 0, 0.60)\",\"hoverinfo\":\"name\",\"line\":{\"width\":0},\"mode\":\"lines\",\"name\":\"Risk Area\",\"showlegend\":false,\"x\":[5.0,10.0,10.0,5.0,5.0],\"y\":[0.0,0.0,5.0,5.0,0.0],\"type\":\"scatter\"},{\"fill\":\"toself\",\"fillcolor\":\"rgba(200, 0, 0, 0.00)\",\"hoverinfo\":\"name\",\"line\":{\"width\":0},\"mode\":\"lines\",\"name\":\"Risk Area\",\"showlegend\":false,\"x\":[10.0,15.0,15.0,10.0,10.0],\"y\":[0.0,0.0,5.0,5.0,0.0],\"type\":\"scatter\"},{\"fill\":\"toself\",\"fillcolor\":\"rgba(200, 0, 0, 0.60)\",\"hoverinfo\":\"name\",\"line\":{\"width\":0},\"mode\":\"lines\",\"name\":\"Risk Area\",\"showlegend\":false,\"x\":[10.0,15.0,15.0,10.0,10.0],\"y\":[5.0,5.0,10.0,10.0,5.0],\"type\":\"scatter\"},{\"fill\":\"toself\",\"fillcolor\":\"rgba(200, 0, 0, 0.70)\",\"hoverinfo\":\"name\",\"line\":{\"width\":0},\"mode\":\"lines\",\"name\":\"Risk Area\",\"showlegend\":false,\"x\":[5.0,10.0,10.0,5.0,5.0],\"y\":[5.0,5.0,10.0,10.0,5.0],\"type\":\"scatter\"},{\"fill\":\"toself\",\"fillcolor\":\"rgba(200, 0, 0, 0.10)\",\"hoverinfo\":\"name\",\"line\":{\"width\":0},\"mode\":\"lines\",\"name\":\"Risk Area\",\"showlegend\":false,\"x\":[0.0,5.0,5.0,0.0,0.0],\"y\":[5.0,5.0,10.0,10.0,5.0],\"type\":\"scatter\"},{\"fill\":\"toself\",\"fillcolor\":\"rgba(200, 0, 0, 0.00)\",\"hoverinfo\":\"name\",\"line\":{\"width\":0},\"mode\":\"lines\",\"name\":\"Risk Area\",\"showlegend\":false,\"x\":[0.0,5.0,5.0,0.0,0.0],\"y\":[10.0,10.0,15.0,15.0,10.0],\"type\":\"scatter\"},{\"fill\":\"toself\",\"fillcolor\":\"rgba(200, 0, 0, 0.00)\",\"hoverinfo\":\"name\",\"line\":{\"width\":0},\"mode\":\"lines\",\"name\":\"Risk Area\",\"showlegend\":false,\"x\":[5.0,10.0,10.0,5.0,5.0],\"y\":[10.0,10.0,15.0,15.0,10.0],\"type\":\"scatter\"},{\"fill\":\"toself\",\"fillcolor\":\"rgba(200, 0, 0, 0.00)\",\"hoverinfo\":\"name\",\"line\":{\"width\":0},\"mode\":\"lines\",\"name\":\"Risk Area\",\"showlegend\":false,\"x\":[10.0,15.0,15.0,10.0,10.0],\"y\":[10.0,10.0,15.0,15.0,10.0],\"type\":\"scatter\"},{\"hoverinfo\":\"text\",\"marker\":{\"opacity\":1,\"size\":1},\"mode\":\"markers\",\"showlegend\":false,\"text\":[\"ID: 61, Pos(2.89,10.29)\"],\"x\":[2.8943539213525935],\"y\":[10.288681423265098],\"type\":\"scatter\"},{\"hoverinfo\":\"text\",\"marker\":{\"opacity\":1,\"size\":1},\"mode\":\"markers\",\"showlegend\":false,\"text\":[\"ID: 62, Pos(1.84,9.44)\"],\"x\":[1.8405796888684818],\"y\":[9.43740496318966],\"type\":\"scatter\"},{\"hoverinfo\":\"text\",\"marker\":{\"opacity\":1,\"size\":1},\"mode\":\"markers\",\"showlegend\":false,\"text\":[\"ID: 63, Pos(2.44,8.24)\"],\"x\":[2.4382965217860106],\"y\":[8.242704520928843],\"type\":\"scatter\"},{\"hoverinfo\":\"text\",\"marker\":{\"opacity\":1,\"size\":1},\"mode\":\"markers\",\"showlegend\":false,\"text\":[\"ID: 64, Pos(3.03,11.06)\"],\"x\":[3.034566706881194],\"y\":[11.059397605810505],\"type\":\"scatter\"},{\"hoverinfo\":\"text\",\"marker\":{\"opacity\":1,\"size\":1},\"mode\":\"markers\",\"showlegend\":false,\"text\":[\"ID: 65, Pos(2.21,10.48)\"],\"x\":[2.210307135072303],\"y\":[10.478250005035179],\"type\":\"scatter\"},{\"hoverinfo\":\"text\",\"marker\":{\"opacity\":1,\"size\":1},\"mode\":\"markers\",\"showlegend\":false,\"text\":[\"ID: 66, Pos(3.75,11.55)\"],\"x\":[3.7504468901675097],\"y\":[11.553774610768434],\"type\":\"scatter\"},{\"hoverinfo\":\"text\",\"marker\":{\"opacity\":1,\"size\":1},\"mode\":\"markers\",\"showlegend\":false,\"text\":[\"ID: 67, Pos(4.82,11.88)\"],\"x\":[4.820144755359248],\"y\":[11.876037491458401],\"type\":\"scatter\"},{\"hoverinfo\":\"text\",\"marker\":{\"opacity\":1,\"size\":1},\"mode\":\"markers\",\"showlegend\":false,\"text\":[\"ID: 68, Pos(3.15,9.40)\"],\"x\":[3.1507282958709464],\"y\":[9.403557018418901],\"type\":\"scatter\"},{\"hoverinfo\":\"text\",\"marker\":{\"opacity\":1,\"size\":1},\"mode\":\"markers\",\"showlegend\":false,\"text\":[\"ID: 69, Pos(2.60,11.50)\"],\"x\":[2.604417810587924],\"y\":[11.498025403114964],\"type\":\"scatter\"},{\"hoverinfo\":\"text\",\"marker\":{\"opacity\":1,\"size\":1},\"mode\":\"markers\",\"showlegend\":false,\"text\":[\"ID: 70, Pos(2.50,9.39)\"],\"x\":[2.495946441913437],\"y\":[9.392050474046373],\"type\":\"scatter\"}],\"layout\":{\"shapes\":[{\"fillcolor\":\"rgba(183, 255, 64, 0.5)\",\"line\":{\"color\":\"rgba(183, 255, 64, 0.5)\"},\"type\":\"circle\",\"x0\":2.6943539213525933,\"x1\":3.0943539213525937,\"xref\":\"x\",\"y0\":10.088681423265099,\"y1\":10.488681423265097,\"yref\":\"y\"},{\"fillcolor\":\"rgba(0, 5, 255, 0.5)\",\"line\":{\"color\":\"rgba(0, 5, 255, 0.5)\"},\"type\":\"circle\",\"x0\":1.6405796888684818,\"x1\":2.040579688868482,\"xref\":\"x\",\"y0\":9.237404963189661,\"y1\":9.63740496318966,\"yref\":\"y\"},{\"fillcolor\":\"rgba(0, 0, 209, 0.5)\",\"line\":{\"color\":\"rgba(0, 0, 209, 0.5)\"},\"type\":\"circle\",\"x0\":2.2382965217860105,\"x1\":2.638296521786011,\"xref\":\"x\",\"y0\":8.042704520928844,\"y1\":8.442704520928842,\"yref\":\"y\"},{\"fillcolor\":\"rgba(0, 140, 255, 0.5)\",\"line\":{\"color\":\"rgba(0, 140, 255, 0.5)\"},\"type\":\"circle\",\"x0\":2.8345667068811937,\"x1\":3.234566706881194,\"xref\":\"x\",\"y0\":10.859397605810505,\"y1\":11.259397605810504,\"yref\":\"y\"},{\"fillcolor\":\"rgba(0, 0, 232, 0.5)\",\"line\":{\"color\":\"rgba(0, 0, 232, 0.5)\"},\"type\":\"circle\",\"x0\":2.0103071350723027,\"x1\":2.410307135072303,\"xref\":\"x\",\"y0\":10.27825000503518,\"y1\":10.678250005035178,\"yref\":\"y\"},{\"fillcolor\":\"rgba(0, 0, 255, 0.5)\",\"line\":{\"color\":\"rgba(0, 0, 255, 0.5)\"},\"type\":\"circle\",\"x0\":3.5504468901675095,\"x1\":3.95044689016751,\"xref\":\"x\",\"y0\":11.353774610768435,\"y1\":11.753774610768433,\"yref\":\"y\"},{\"fillcolor\":\"rgba(0, 0, 137, 0.5)\",\"line\":{\"color\":\"rgba(0, 0, 137, 0.5)\"},\"type\":\"circle\",\"x0\":4.620144755359248,\"x1\":5.020144755359248,\"xref\":\"x\",\"y0\":11.676037491458402,\"y1\":12.0760374914584,\"yref\":\"y\"},{\"fillcolor\":\"rgba(31, 255, 215, 0.5)\",\"line\":{\"color\":\"rgba(31, 255, 215, 0.5)\"},\"type\":\"circle\",\"x0\":2.950728295870946,\"x1\":3.3507282958709466,\"xref\":\"x\",\"y0\":9.203557018418902,\"y1\":9.6035570184189,\"yref\":\"y\"},{\"fillcolor\":\"rgba(0, 0, 132, 0.5)\",\"line\":{\"color\":\"rgba(0, 0, 132, 0.5)\"},\"type\":\"circle\",\"x0\":2.404417810587924,\"x1\":2.8044178105879243,\"xref\":\"x\",\"y0\":11.298025403114965,\"y1\":11.698025403114963,\"yref\":\"y\"},{\"fillcolor\":\"rgba(0, 53, 255, 0.5)\",\"line\":{\"color\":\"rgba(0, 53, 255, 0.5)\"},\"type\":\"circle\",\"x0\":2.2959464419134368,\"x1\":2.695946441913437,\"xref\":\"x\",\"y0\":9.192050474046374,\"y1\":9.592050474046372,\"yref\":\"y\"},{\"line\":{\"color\":\"black\",\"width\":3},\"type\":\"line\",\"x0\":2.8943539213525935,\"x1\":2.8787254822308115,\"y0\":10.288681423265098,\"y1\":10.48806986799201},{\"line\":{\"color\":\"white\",\"width\":3},\"type\":\"line\",\"x0\":1.8405796888684818,\"x1\":1.843299756529308,\"y0\":9.43740496318966,\"y1\":9.637386465414043},{\"line\":{\"color\":\"white\",\"width\":3},\"type\":\"line\",\"x0\":2.4382965217860106,\"x1\":2.4411880326629665,\"y0\":8.242704520928843,\"y1\":8.442683617748607},{\"line\":{\"color\":\"white\",\"width\":3},\"type\":\"line\",\"x0\":3.034566706881194,\"x1\":3.232896045185273,\"y0\":11.059397605810505,\"y1\":11.085194380179914},{\"line\":{\"color\":\"white\",\"width\":3},\"type\":\"line\",\"x0\":2.210307135072303,\"x1\":2.2146966893715114,\"y0\":10.478250005035179,\"y1\":10.678201828765431},{\"line\":{\"color\":\"white\",\"width\":3},\"type\":\"line\",\"x0\":3.7504468901675097,\"x1\":3.94397082966161,\"y0\":11.553774610768434,\"y1\":11.60425713093813},{\"line\":{\"color\":\"white\",\"width\":3},\"type\":\"line\",\"x0\":4.820144755359248,\"x1\":4.995010240741721,\"y0\":11.876037491458401,\"y1\":11.973104798116987},{\"line\":{\"color\":\"black\",\"width\":3},\"type\":\"line\",\"x0\":3.1507282958709464,\"x1\":3.1510789838319098,\"y0\":9.403557018418901,\"y1\":9.60355671096355},{\"line\":{\"color\":\"white\",\"width\":3},\"type\":\"line\",\"x0\":2.604417810587924,\"x1\":2.779459908768377,\"y0\":11.498025403114964,\"y1\":11.594773859767175},{\"line\":{\"color\":\"white\",\"width\":3},\"type\":\"line\",\"x0\":2.495946441913437,\"x1\":2.4946910120009766,\"y0\":9.392050474046373,\"y1\":9.592046533746895}],\"title\":{\"text\":\"\\u003cb\\u003ePercentage using the shortest path: 0%  |  Number of Agents: 10\\u003c\\u002fb\\u003e\",\"x\":0.5}},\"name\":\"300\"},{\"data\":[{\"hoverinfo\":\"name\",\"line\":{\"color\":\"grey\"},\"mode\":\"lines\",\"name\":\"Exterior\",\"showlegend\":false,\"x\":[10.1,10.1,15.0,15.0,13.6,13.6,15.0,15.0,13.6,13.6,15.0,15.0,10.1,10.1,9.9,9.9,5.1,5.1,4.9,4.9,0.0,0.0,1.5,1.5,0.0,0.0,1.5,1.5,0.0,0.0,4.9,4.9,5.1,5.1,9.9,9.9,10.1],\"y\":[1.5,0.0,0.0,4.9,4.9,5.1,5.1,9.9,9.9,10.1,10.1,15.0,15.0,13.6,13.6,15.0,15.0,13.6,13.6,15.0,15.0,10.1,10.1,9.9,9.9,5.1,5.1,4.9,4.9,0.0,0.0,1.5,1.5,0.0,0.0,1.5,1.5],\"type\":\"scatter\"},{\"hoverinfo\":\"name\",\"line\":{\"color\":\"grey\"},\"mode\":\"lines\",\"name\":\"Obstacle\",\"showlegend\":false,\"x\":[10.1,11.5,11.5,10.1,10.1,9.9,9.9,8.6,8.6,9.9,9.9,10.1,10.1],\"y\":[5.1,5.1,4.9,4.9,3.6,3.6,4.9,4.9,5.1,5.1,6.5,6.5,5.1],\"type\":\"scatter\"},{\"hoverinfo\":\"name\",\"line\":{\"color\":\"grey\"},\"mode\":\"lines\",\"name\":\"Obstacle\",\"showlegend\":false,\"x\":[10.1,11.5,11.5,10.1,10.1,9.9,9.9,8.6,8.6,9.9,9.9,10.1,10.1],\"y\":[10.1,10.1,9.9,9.9,8.6,8.6,9.9,9.9,10.1,10.1,11.5,11.5,10.1],\"type\":\"scatter\"},{\"hoverinfo\":\"name\",\"line\":{\"color\":\"grey\"},\"mode\":\"lines\",\"name\":\"Obstacle\",\"showlegend\":false,\"x\":[5.1,6.4,6.4,5.1,5.1,4.9,4.9,3.6,3.6,4.9,4.9,5.1,5.1],\"y\":[5.1,5.1,4.9,4.9,3.6,3.6,4.9,4.9,5.1,5.1,6.5,6.5,5.1],\"type\":\"scatter\"},{\"hoverinfo\":\"name\",\"line\":{\"color\":\"grey\"},\"mode\":\"lines\",\"name\":\"Obstacle\",\"showlegend\":false,\"x\":[5.1,6.4,6.4,5.1,5.1,4.9,4.9,3.6,3.6,4.9,4.9,5.1,5.1],\"y\":[10.1,10.1,9.9,9.9,8.6,8.6,9.9,9.9,10.1,10.1,11.5,11.5,10.1],\"type\":\"scatter\"},{\"fill\":\"toself\",\"fillcolor\":\"rgba(200, 0, 0, 0.00)\",\"hoverinfo\":\"name\",\"line\":{\"width\":0},\"mode\":\"lines\",\"name\":\"Risk Area\",\"showlegend\":false,\"x\":[0.0,5.0,5.0,0.0,0.0],\"y\":[0.0,0.0,5.0,5.0,0.0],\"type\":\"scatter\"},{\"fill\":\"toself\",\"fillcolor\":\"rgba(200, 0, 0, 0.60)\",\"hoverinfo\":\"name\",\"line\":{\"width\":0},\"mode\":\"lines\",\"name\":\"Risk Area\",\"showlegend\":false,\"x\":[5.0,10.0,10.0,5.0,5.0],\"y\":[0.0,0.0,5.0,5.0,0.0],\"type\":\"scatter\"},{\"fill\":\"toself\",\"fillcolor\":\"rgba(200, 0, 0, 0.00)\",\"hoverinfo\":\"name\",\"line\":{\"width\":0},\"mode\":\"lines\",\"name\":\"Risk Area\",\"showlegend\":false,\"x\":[10.0,15.0,15.0,10.0,10.0],\"y\":[0.0,0.0,5.0,5.0,0.0],\"type\":\"scatter\"},{\"fill\":\"toself\",\"fillcolor\":\"rgba(200, 0, 0, 0.60)\",\"hoverinfo\":\"name\",\"line\":{\"width\":0},\"mode\":\"lines\",\"name\":\"Risk Area\",\"showlegend\":false,\"x\":[10.0,15.0,15.0,10.0,10.0],\"y\":[5.0,5.0,10.0,10.0,5.0],\"type\":\"scatter\"},{\"fill\":\"toself\",\"fillcolor\":\"rgba(200, 0, 0, 0.70)\",\"hoverinfo\":\"name\",\"line\":{\"width\":0},\"mode\":\"lines\",\"name\":\"Risk Area\",\"showlegend\":false,\"x\":[5.0,10.0,10.0,5.0,5.0],\"y\":[5.0,5.0,10.0,10.0,5.0],\"type\":\"scatter\"},{\"fill\":\"toself\",\"fillcolor\":\"rgba(200, 0, 0, 0.10)\",\"hoverinfo\":\"name\",\"line\":{\"width\":0},\"mode\":\"lines\",\"name\":\"Risk Area\",\"showlegend\":false,\"x\":[0.0,5.0,5.0,0.0,0.0],\"y\":[5.0,5.0,10.0,10.0,5.0],\"type\":\"scatter\"},{\"fill\":\"toself\",\"fillcolor\":\"rgba(200, 0, 0, 0.00)\",\"hoverinfo\":\"name\",\"line\":{\"width\":0},\"mode\":\"lines\",\"name\":\"Risk Area\",\"showlegend\":false,\"x\":[0.0,5.0,5.0,0.0,0.0],\"y\":[10.0,10.0,15.0,15.0,10.0],\"type\":\"scatter\"},{\"fill\":\"toself\",\"fillcolor\":\"rgba(200, 0, 0, 0.00)\",\"hoverinfo\":\"name\",\"line\":{\"width\":0},\"mode\":\"lines\",\"name\":\"Risk Area\",\"showlegend\":false,\"x\":[5.0,10.0,10.0,5.0,5.0],\"y\":[10.0,10.0,15.0,15.0,10.0],\"type\":\"scatter\"},{\"fill\":\"toself\",\"fillcolor\":\"rgba(200, 0, 0, 0.00)\",\"hoverinfo\":\"name\",\"line\":{\"width\":0},\"mode\":\"lines\",\"name\":\"Risk Area\",\"showlegend\":false,\"x\":[10.0,15.0,15.0,10.0,10.0],\"y\":[10.0,10.0,15.0,15.0,10.0],\"type\":\"scatter\"},{\"hoverinfo\":\"text\",\"marker\":{\"opacity\":1,\"size\":1},\"mode\":\"markers\",\"showlegend\":false,\"text\":[\"ID: 61, Pos(3.31,11.12)\"],\"x\":[3.308656044066112],\"y\":[11.117176833392604],\"type\":\"scatter\"},{\"hoverinfo\":\"text\",\"marker\":{\"opacity\":1,\"size\":1},\"mode\":\"markers\",\"showlegend\":false,\"text\":[\"ID: 62, Pos(1.95,10.96)\"],\"x\":[1.948901365877937],\"y\":[10.95653303352023],\"type\":\"scatter\"},{\"hoverinfo\":\"text\",\"marker\":{\"opacity\":1,\"size\":1},\"mode\":\"markers\",\"showlegend\":false,\"text\":[\"ID: 63, Pos(2.46,9.60)\"],\"x\":[2.4571913168430837],\"y\":[9.596587077746486],\"type\":\"scatter\"},{\"hoverinfo\":\"text\",\"marker\":{\"opacity\":1,\"size\":1},\"mode\":\"markers\",\"showlegend\":false,\"text\":[\"ID: 64, Pos(4.26,11.37)\"],\"x\":[4.26447018598231],\"y\":[11.371010200667417],\"type\":\"scatter\"},{\"hoverinfo\":\"text\",\"marker\":{\"opacity\":1,\"size\":1},\"mode\":\"markers\",\"showlegend\":false,\"text\":[\"ID: 65, Pos(2.96,11.67)\"],\"x\":[2.96372831285788],\"y\":[11.665560654175682],\"type\":\"scatter\"},{\"hoverinfo\":\"text\",\"marker\":{\"opacity\":1,\"size\":1},\"mode\":\"markers\",\"showlegend\":false,\"text\":[\"ID: 66, Pos(5.21,12.01)\"],\"x\":[5.205152336732559],\"y\":[12.00939201215353],\"type\":\"scatter\"},{\"hoverinfo\":\"text\",\"marker\":{\"opacity\":1,\"size\":1},\"mode\":\"markers\",\"showlegend\":false,\"text\":[\"ID: 67, Pos(6.37,12.25)\"],\"x\":[6.3720523791137635],\"y\":[12.252861544019147],\"type\":\"scatter\"},{\"hoverinfo\":\"text\",\"marker\":{\"opacity\":1,\"size\":1},\"mode\":\"markers\",\"showlegend\":false,\"text\":[\"ID: 68, Pos(3.11,10.41)\"],\"x\":[3.1102736157642705],\"y\":[10.40670006316253],\"type\":\"scatter\"},{\"hoverinfo\":\"text\",\"marker\":{\"opacity\":1,\"size\":1},\"mode\":\"markers\",\"showlegend\":false,\"text\":[\"ID: 69, Pos(4.06,12.03)\"],\"x\":[4.056433296642343],\"y\":[12.026748142020043],\"type\":\"scatter\"},{\"hoverinfo\":\"text\",\"marker\":{\"opacity\":1,\"size\":1},\"mode\":\"markers\",\"showlegend\":false,\"text\":[\"ID: 70, Pos(2.51,10.69)\"],\"x\":[2.5144058681949546],\"y\":[10.687426977566682],\"type\":\"scatter\"}],\"layout\":{\"shapes\":[{\"fillcolor\":\"rgba(0, 173, 255, 0.5)\",\"line\":{\"color\":\"rgba(0, 173, 255, 0.5)\"},\"type\":\"circle\",\"x0\":3.108656044066112,\"x1\":3.5086560440661123,\"xref\":\"x\",\"y0\":10.917176833392604,\"y1\":11.317176833392603,\"yref\":\"y\"},{\"fillcolor\":\"rgba(0, 0, 155, 0.5)\",\"line\":{\"color\":\"rgba(0, 0, 155, 0.5)\"},\"type\":\"circle\",\"x0\":1.748901365877937,\"x1\":2.1489013658779372,\"xref\":\"x\",\"y0\":10.756533033520231,\"y1\":11.15653303352023,\"yref\":\"y\"},{\"fillcolor\":\"rgba(0, 16, 255, 0.5)\",\"line\":{\"color\":\"rgba(0, 16, 255, 0.5)\"},\"type\":\"circle\",\"x0\":2.2571913168430835,\"x1\":2.657191316843084,\"xref\":\"x\",\"y0\":9.396587077746487,\"y1\":9.796587077746485,\"yref\":\"y\"},{\"fillcolor\":\"rgba(0, 0, 228, 0.5)\",\"line\":{\"color\":\"rgba(0, 0, 228, 0.5)\"},\"type\":\"circle\",\"x0\":4.06447018598231,\"x1\":4.46447018598231,\"xref\":\"x\",\"y0\":11.171010200667418,\"y1\":11.571010200667416,\"yref\":\"y\"},{\"fillcolor\":\"rgba(0, 0, 205, 0.5)\",\"line\":{\"color\":\"rgba(0, 0, 205, 0.5)\"},\"type\":\"circle\",\"x0\":2.76372831285788,\"x1\":3.1637283128578804,\"xref\":\"x\",\"y0\":11.465560654175682,\"y1\":11.865560654175681,\"yref\":\"y\"},{\"fillcolor\":\"rgba(0, 0, 137, 0.5)\",\"line\":{\"color\":\"rgba(0, 0, 137, 0.5)\"},\"type\":\"circle\",\"x0\":5.005152336732559,\"x1\":5.405152336732559,\"xref\":\"x\",\"y0\":11.80939201215353,\"y1\":12.209392012153529,\"yref\":\"y\"},{\"fillcolor\":\"rgba(0, 0, 128, 0.5)\",\"line\":{\"color\":\"rgba(0, 0, 128, 0.5)\"},\"type\":\"circle\",\"x0\":6.172052379113763,\"x1\":6.572052379113764,\"xref\":\"x\",\"y0\":12.052861544019148,\"y1\":12.452861544019147,\"yref\":\"y\"},{\"fillcolor\":\"rgba(119, 255, 128, 0.5)\",\"line\":{\"color\":\"rgba(119, 255, 128, 0.5)\"},\"type\":\"circle\",\"x0\":2.9102736157642703,\"x1\":3.3102736157642707,\"xref\":\"x\",\"y0\":10.20670006316253,\"y1\":10.60670006316253,\"yref\":\"y\"},{\"fillcolor\":\"rgba(0, 0, 209, 0.5)\",\"line\":{\"color\":\"rgba(0, 0, 209, 0.5)\"},\"type\":\"circle\",\"x0\":3.8564332966423427,\"x1\":4.256433296642343,\"xref\":\"x\",\"y0\":11.826748142020044,\"y1\":12.226748142020043,\"yref\":\"y\"},{\"fillcolor\":\"rgba(0, 0, 218, 0.5)\",\"line\":{\"color\":\"rgba(0, 0, 218, 0.5)\"},\"type\":\"circle\",\"x0\":2.3144058681949544,\"x1\":2.7144058681949548,\"xref\":\"x\",\"y0\":10.487426977566683,\"y1\":10.887426977566681,\"yref\":\"y\"},{\"line\":{\"color\":\"black\",\"width\":3},\"type\":\"line\",\"x0\":3.308656044066112,\"x1\":3.503608361939051,\"y0\":11.117176833392604,\"y1\":11.161826511509792},{\"line\":{\"color\":\"white\",\"width\":3},\"type\":\"line\",\"x0\":1.948901365877937,\"x1\":1.9656768239780131,\"y0\":10.95653303352023,\"y1\":11.15582825174067},{\"line\":{\"color\":\"white\",\"width\":3},\"type\":\"line\",\"x0\":2.4571913168430837,\"x1\":2.459609807320956,\"y0\":9.596587077746486,\"y1\":9.796572454471407},{\"line\":{\"color\":\"white\",\"width\":3},\"type\":\"line\",\"x0\":4.26447018598231,\"x1\":4.453717719546997,\"y0\":11.371010200667417,\"y1\":11.435704644321277},{\"line\":{\"color\":\"white\",\"width\":3},\"type\":\"line\",\"x0\":2.96372831285788,\"x1\":3.147642572025826,\"y0\":11.665560654175682,\"y1\":11.74414529182647},{\"line\":{\"color\":\"white\",\"width\":3},\"type\":\"line\",\"x0\":5.205152336732559,\"x1\":5.399947346428211,\"y0\":12.00939201215353,\"y1\":12.054723063295889},{\"line\":{\"color\":\"white\",\"width\":3},\"type\":\"line\",\"x0\":6.3720523791137635,\"x1\":6.568057436264044,\"y0\":12.252861544019147,\"y1\":12.292636128511196},{\"line\":{\"color\":\"black\",\"width\":3},\"type\":\"line\",\"x0\":3.1102736157642705,\"x1\":3.079077486004448,\"y0\":10.40670006316253,\"y1\":10.604252085394672},{\"line\":{\"color\":\"white\",\"width\":3},\"type\":\"line\",\"x0\":4.056433296642343,\"x1\":4.24842026784059,\"y0\":12.026748142020043,\"y1\":12.082792792880973},{\"line\":{\"color\":\"white\",\"width\":3},\"type\":\"line\",\"x0\":2.5144058681949546,\"x1\":2.523215188283705,\"y0\":10.687426977566682,\"y1\":10.887232873074232}],\"title\":{\"text\":\"\\u003cb\\u003ePercentage using the shortest path: 0%  |  Number of Agents: 10\\u003c\\u002fb\\u003e\",\"x\":0.5}},\"name\":\"350\"},{\"data\":[{\"hoverinfo\":\"name\",\"line\":{\"color\":\"grey\"},\"mode\":\"lines\",\"name\":\"Exterior\",\"showlegend\":false,\"x\":[10.1,10.1,15.0,15.0,13.6,13.6,15.0,15.0,13.6,13.6,15.0,15.0,10.1,10.1,9.9,9.9,5.1,5.1,4.9,4.9,0.0,0.0,1.5,1.5,0.0,0.0,1.5,1.5,0.0,0.0,4.9,4.9,5.1,5.1,9.9,9.9,10.1],\"y\":[1.5,0.0,0.0,4.9,4.9,5.1,5.1,9.9,9.9,10.1,10.1,15.0,15.0,13.6,13.6,15.0,15.0,13.6,13.6,15.0,15.0,10.1,10.1,9.9,9.9,5.1,5.1,4.9,4.9,0.0,0.0,1.5,1.5,0.0,0.0,1.5,1.5],\"type\":\"scatter\"},{\"hoverinfo\":\"name\",\"line\":{\"color\":\"grey\"},\"mode\":\"lines\",\"name\":\"Obstacle\",\"showlegend\":false,\"x\":[10.1,11.5,11.5,10.1,10.1,9.9,9.9,8.6,8.6,9.9,9.9,10.1,10.1],\"y\":[5.1,5.1,4.9,4.9,3.6,3.6,4.9,4.9,5.1,5.1,6.5,6.5,5.1],\"type\":\"scatter\"},{\"hoverinfo\":\"name\",\"line\":{\"color\":\"grey\"},\"mode\":\"lines\",\"name\":\"Obstacle\",\"showlegend\":false,\"x\":[10.1,11.5,11.5,10.1,10.1,9.9,9.9,8.6,8.6,9.9,9.9,10.1,10.1],\"y\":[10.1,10.1,9.9,9.9,8.6,8.6,9.9,9.9,10.1,10.1,11.5,11.5,10.1],\"type\":\"scatter\"},{\"hoverinfo\":\"name\",\"line\":{\"color\":\"grey\"},\"mode\":\"lines\",\"name\":\"Obstacle\",\"showlegend\":false,\"x\":[5.1,6.4,6.4,5.1,5.1,4.9,4.9,3.6,3.6,4.9,4.9,5.1,5.1],\"y\":[5.1,5.1,4.9,4.9,3.6,3.6,4.9,4.9,5.1,5.1,6.5,6.5,5.1],\"type\":\"scatter\"},{\"hoverinfo\":\"name\",\"line\":{\"color\":\"grey\"},\"mode\":\"lines\",\"name\":\"Obstacle\",\"showlegend\":false,\"x\":[5.1,6.4,6.4,5.1,5.1,4.9,4.9,3.6,3.6,4.9,4.9,5.1,5.1],\"y\":[10.1,10.1,9.9,9.9,8.6,8.6,9.9,9.9,10.1,10.1,11.5,11.5,10.1],\"type\":\"scatter\"},{\"fill\":\"toself\",\"fillcolor\":\"rgba(200, 0, 0, 0.00)\",\"hoverinfo\":\"name\",\"line\":{\"width\":0},\"mode\":\"lines\",\"name\":\"Risk Area\",\"showlegend\":false,\"x\":[0.0,5.0,5.0,0.0,0.0],\"y\":[0.0,0.0,5.0,5.0,0.0],\"type\":\"scatter\"},{\"fill\":\"toself\",\"fillcolor\":\"rgba(200, 0, 0, 0.60)\",\"hoverinfo\":\"name\",\"line\":{\"width\":0},\"mode\":\"lines\",\"name\":\"Risk Area\",\"showlegend\":false,\"x\":[5.0,10.0,10.0,5.0,5.0],\"y\":[0.0,0.0,5.0,5.0,0.0],\"type\":\"scatter\"},{\"fill\":\"toself\",\"fillcolor\":\"rgba(200, 0, 0, 0.00)\",\"hoverinfo\":\"name\",\"line\":{\"width\":0},\"mode\":\"lines\",\"name\":\"Risk Area\",\"showlegend\":false,\"x\":[10.0,15.0,15.0,10.0,10.0],\"y\":[0.0,0.0,5.0,5.0,0.0],\"type\":\"scatter\"},{\"fill\":\"toself\",\"fillcolor\":\"rgba(200, 0, 0, 0.60)\",\"hoverinfo\":\"name\",\"line\":{\"width\":0},\"mode\":\"lines\",\"name\":\"Risk Area\",\"showlegend\":false,\"x\":[10.0,15.0,15.0,10.0,10.0],\"y\":[5.0,5.0,10.0,10.0,5.0],\"type\":\"scatter\"},{\"fill\":\"toself\",\"fillcolor\":\"rgba(200, 0, 0, 0.70)\",\"hoverinfo\":\"name\",\"line\":{\"width\":0},\"mode\":\"lines\",\"name\":\"Risk Area\",\"showlegend\":false,\"x\":[5.0,10.0,10.0,5.0,5.0],\"y\":[5.0,5.0,10.0,10.0,5.0],\"type\":\"scatter\"},{\"fill\":\"toself\",\"fillcolor\":\"rgba(200, 0, 0, 0.10)\",\"hoverinfo\":\"name\",\"line\":{\"width\":0},\"mode\":\"lines\",\"name\":\"Risk Area\",\"showlegend\":false,\"x\":[0.0,5.0,5.0,0.0,0.0],\"y\":[5.0,5.0,10.0,10.0,5.0],\"type\":\"scatter\"},{\"fill\":\"toself\",\"fillcolor\":\"rgba(200, 0, 0, 0.00)\",\"hoverinfo\":\"name\",\"line\":{\"width\":0},\"mode\":\"lines\",\"name\":\"Risk Area\",\"showlegend\":false,\"x\":[0.0,5.0,5.0,0.0,0.0],\"y\":[10.0,10.0,15.0,15.0,10.0],\"type\":\"scatter\"},{\"fill\":\"toself\",\"fillcolor\":\"rgba(200, 0, 0, 0.00)\",\"hoverinfo\":\"name\",\"line\":{\"width\":0},\"mode\":\"lines\",\"name\":\"Risk Area\",\"showlegend\":false,\"x\":[5.0,10.0,10.0,5.0,5.0],\"y\":[10.0,10.0,15.0,15.0,10.0],\"type\":\"scatter\"},{\"fill\":\"toself\",\"fillcolor\":\"rgba(200, 0, 0, 0.00)\",\"hoverinfo\":\"name\",\"line\":{\"width\":0},\"mode\":\"lines\",\"name\":\"Risk Area\",\"showlegend\":false,\"x\":[10.0,15.0,15.0,10.0,10.0],\"y\":[10.0,10.0,15.0,15.0,10.0],\"type\":\"scatter\"},{\"hoverinfo\":\"text\",\"marker\":{\"opacity\":1,\"size\":1},\"mode\":\"markers\",\"showlegend\":false,\"text\":[\"ID: 61, Pos(4.24,11.38)\"],\"x\":[4.235386660417017],\"y\":[11.37945560301704],\"type\":\"scatter\"},{\"hoverinfo\":\"text\",\"marker\":{\"opacity\":1,\"size\":1},\"mode\":\"markers\",\"showlegend\":false,\"text\":[\"ID: 62, Pos(3.15,11.86)\"],\"x\":[3.152022401154816],\"y\":[11.860617225328392],\"type\":\"scatter\"},{\"hoverinfo\":\"text\",\"marker\":{\"opacity\":1,\"size\":1},\"mode\":\"markers\",\"showlegend\":false,\"text\":[\"ID: 63, Pos(2.45,10.57)\"],\"x\":[2.445987374647305],\"y\":[10.566450660170366],\"type\":\"scatter\"},{\"hoverinfo\":\"text\",\"marker\":{\"opacity\":1,\"size\":1},\"mode\":\"markers\",\"showlegend\":false,\"text\":[\"ID: 64, Pos(4.87,11.87)\"],\"x\":[4.869969186258527],\"y\":[11.865291760973232],\"type\":\"scatter\"},{\"hoverinfo\":\"text\",\"marker\":{\"opacity\":1,\"size\":1},\"mode\":\"markers\",\"showlegend\":false,\"text\":[\"ID: 65, Pos(4.40,12.20)\"],\"x\":[4.402997383022826],\"y\":[12.202775061908879],\"type\":\"scatter\"},{\"hoverinfo\":\"text\",\"marker\":{\"opacity\":1,\"size\":1},\"mode\":\"markers\",\"showlegend\":false,\"text\":[\"ID: 66, Pos(6.76,12.34)\"],\"x\":[6.764544273924344],\"y\":[12.33536776603929],\"type\":\"scatter\"},{\"hoverinfo\":\"text\",\"marker\":{\"opacity\":1,\"size\":1},\"mode\":\"markers\",\"showlegend\":false,\"text\":[\"ID: 67, Pos(7.94,12.57)\"],\"x\":[7.940094758051359],\"y\":[12.571048749677278],\"type\":\"scatter\"},{\"hoverinfo\":\"text\",\"marker\":{\"opacity\":1,\"size\":1},\"mode\":\"markers\",\"showlegend\":false,\"text\":[\"ID: 68, Pos(3.47,11.24)\"],\"x\":[3.469940213628017],\"y\":[11.23959466923386],\"type\":\"scatter\"},{\"hoverinfo\":\"text\",\"marker\":{\"opacity\":1,\"size\":1},\"mode\":\"markers\",\"showlegend\":false,\"text\":[\"ID: 69, Pos(5.58,12.38)\"],\"x\":[5.5792562889839035],\"y\":[12.376134496723251],\"type\":\"scatter\"},{\"hoverinfo\":\"text\",\"marker\":{\"opacity\":1,\"size\":1},\"mode\":\"markers\",\"showlegend\":false,\"text\":[\"ID: 70, Pos(2.82,11.07)\"],\"x\":[2.823005073026447],\"y\":[11.073188134489152],\"type\":\"scatter\"}],\"layout\":{\"shapes\":[{\"fillcolor\":\"rgba(173, 255, 73, 0.5)\",\"line\":{\"color\":\"rgba(173, 255, 73, 0.5)\"},\"type\":\"circle\",\"x0\":4.035386660417017,\"x1\":4.435386660417017,\"xref\":\"x\",\"y0\":11.179455603017042,\"y1\":11.57945560301704,\"yref\":\"y\"},{\"fillcolor\":\"rgba(0, 0, 128, 0.5)\",\"line\":{\"color\":\"rgba(0, 0, 128, 0.5)\"},\"type\":\"circle\",\"x0\":2.952022401154816,\"x1\":3.3520224011548163,\"xref\":\"x\",\"y0\":11.660617225328393,\"y1\":12.060617225328391,\"yref\":\"y\"},{\"fillcolor\":\"rgba(0, 104, 255, 0.5)\",\"line\":{\"color\":\"rgba(0, 104, 255, 0.5)\"},\"type\":\"circle\",\"x0\":2.2459873746473047,\"x1\":2.645987374647305,\"xref\":\"x\",\"y0\":10.366450660170367,\"y1\":10.766450660170365,\"yref\":\"y\"},{\"fillcolor\":\"rgba(90, 255, 157, 0.5)\",\"line\":{\"color\":\"rgba(90, 255, 157, 0.5)\"},\"type\":\"circle\",\"x0\":4.669969186258527,\"x1\":5.069969186258527,\"xref\":\"x\",\"y0\":11.665291760973233,\"y1\":12.065291760973231,\"yref\":\"y\"},{\"fillcolor\":\"rgba(0, 0, 132, 0.5)\",\"line\":{\"color\":\"rgba(0, 0, 132, 0.5)\"},\"type\":\"circle\",\"x0\":4.202997383022826,\"x1\":4.602997383022826,\"xref\":\"x\",\"y0\":12.00277506190888,\"y1\":12.402775061908878,\"yref\":\"y\"},{\"fillcolor\":\"rgba(0, 0, 128, 0.5)\",\"line\":{\"color\":\"rgba(0, 0, 128, 0.5)\"},\"type\":\"circle\",\"x0\":6.564544273924344,\"x1\":6.964544273924345,\"xref\":\"x\",\"y0\":12.135367766039291,\"y1\":12.53536776603929,\"yref\":\"y\"},{\"fillcolor\":\"rgba(0, 0, 128, 0.5)\",\"line\":{\"color\":\"rgba(0, 0, 128, 0.5)\"},\"type\":\"circle\",\"x0\":7.740094758051359,\"x1\":8.140094758051358,\"xref\":\"x\",\"y0\":12.371048749677279,\"y1\":12.771048749677277,\"yref\":\"y\"},{\"fillcolor\":\"rgba(196, 255, 51, 0.5)\",\"line\":{\"color\":\"rgba(196, 255, 51, 0.5)\"},\"type\":\"circle\",\"x0\":3.2699402136280167,\"x1\":3.669940213628017,\"xref\":\"x\",\"y0\":11.03959466923386,\"y1\":11.439594669233859,\"yref\":\"y\"},{\"fillcolor\":\"rgba(0, 0, 146, 0.5)\",\"line\":{\"color\":\"rgba(0, 0, 146, 0.5)\"},\"type\":\"circle\",\"x0\":5.379256288983903,\"x1\":5.779256288983904,\"xref\":\"x\",\"y0\":12.176134496723252,\"y1\":12.57613449672325,\"yref\":\"y\"},{\"fillcolor\":\"rgba(255, 156, 0, 0.5)\",\"line\":{\"color\":\"rgba(255, 156, 0, 0.5)\"},\"type\":\"circle\",\"x0\":2.6230050730264467,\"x1\":3.023005073026447,\"xref\":\"x\",\"y0\":10.873188134489153,\"y1\":11.273188134489152,\"yref\":\"y\"},{\"line\":{\"color\":\"black\",\"width\":3},\"type\":\"line\",\"x0\":4.235386660417017,\"x1\":4.419887288240938,\"y0\":11.37945560301704,\"y1\":11.45665351965071},{\"line\":{\"color\":\"white\",\"width\":3},\"type\":\"line\",\"x0\":3.152022401154816,\"x1\":3.3431075875506413,\"y0\":11.860617225328392,\"y1\":11.919663406746606},{\"line\":{\"color\":\"white\",\"width\":3},\"type\":\"line\",\"x0\":2.445987374647305,\"x1\":2.4164377456131745,\"y0\":10.566450660170366,\"y1\":10.764255663706539},{\"line\":{\"color\":\"black\",\"width\":3},\"type\":\"line\",\"x0\":4.869969186258527,\"x1\":5.061264103950406,\"y0\":11.865291760973232,\"y1\":11.923654886876983},{\"line\":{\"color\":\"white\",\"width\":3},\"type\":\"line\",\"x0\":4.402997383022826,\"x1\":4.573969411373371,\"y0\":12.202775061908879,\"y1\":12.30654676094913},{\"line\":{\"color\":\"white\",\"width\":3},\"type\":\"line\",\"x0\":6.764544273924344,\"x1\":6.960574385447359,\"y0\":12.33536776603929,\"y1\":12.375018685023278},{\"line\":{\"color\":\"white\",\"width\":3},\"type\":\"line\",\"x0\":7.940094758051359,\"x1\":8.136100104103765,\"y0\":12.571048749677278,\"y1\":12.610821910462867},{\"line\":{\"color\":\"black\",\"width\":3},\"type\":\"line\",\"x0\":3.469940213628017,\"x1\":3.6661282657537924,\"y0\":11.23959466923386,\"y1\":11.2784565812184},{\"line\":{\"color\":\"white\",\"width\":3},\"type\":\"line\",\"x0\":5.5792562889839035,\"x1\":5.778667095762396,\"y0\":12.376134496723251,\"y1\":12.391474970638708},{\"line\":{\"color\":\"black\",\"width\":3},\"type\":\"line\",\"x0\":2.823005073026447,\"x1\":3.0047729798931724,\"y0\":11.073188134489152,\"y1\":11.156617314236344}],\"title\":{\"text\":\"\\u003cb\\u003ePercentage using the shortest path: 0%  |  Number of Agents: 10\\u003c\\u002fb\\u003e\",\"x\":0.5}},\"name\":\"400\"},{\"data\":[{\"hoverinfo\":\"name\",\"line\":{\"color\":\"grey\"},\"mode\":\"lines\",\"name\":\"Exterior\",\"showlegend\":false,\"x\":[10.1,10.1,15.0,15.0,13.6,13.6,15.0,15.0,13.6,13.6,15.0,15.0,10.1,10.1,9.9,9.9,5.1,5.1,4.9,4.9,0.0,0.0,1.5,1.5,0.0,0.0,1.5,1.5,0.0,0.0,4.9,4.9,5.1,5.1,9.9,9.9,10.1],\"y\":[1.5,0.0,0.0,4.9,4.9,5.1,5.1,9.9,9.9,10.1,10.1,15.0,15.0,13.6,13.6,15.0,15.0,13.6,13.6,15.0,15.0,10.1,10.1,9.9,9.9,5.1,5.1,4.9,4.9,0.0,0.0,1.5,1.5,0.0,0.0,1.5,1.5],\"type\":\"scatter\"},{\"hoverinfo\":\"name\",\"line\":{\"color\":\"grey\"},\"mode\":\"lines\",\"name\":\"Obstacle\",\"showlegend\":false,\"x\":[10.1,11.5,11.5,10.1,10.1,9.9,9.9,8.6,8.6,9.9,9.9,10.1,10.1],\"y\":[5.1,5.1,4.9,4.9,3.6,3.6,4.9,4.9,5.1,5.1,6.5,6.5,5.1],\"type\":\"scatter\"},{\"hoverinfo\":\"name\",\"line\":{\"color\":\"grey\"},\"mode\":\"lines\",\"name\":\"Obstacle\",\"showlegend\":false,\"x\":[10.1,11.5,11.5,10.1,10.1,9.9,9.9,8.6,8.6,9.9,9.9,10.1,10.1],\"y\":[10.1,10.1,9.9,9.9,8.6,8.6,9.9,9.9,10.1,10.1,11.5,11.5,10.1],\"type\":\"scatter\"},{\"hoverinfo\":\"name\",\"line\":{\"color\":\"grey\"},\"mode\":\"lines\",\"name\":\"Obstacle\",\"showlegend\":false,\"x\":[5.1,6.4,6.4,5.1,5.1,4.9,4.9,3.6,3.6,4.9,4.9,5.1,5.1],\"y\":[5.1,5.1,4.9,4.9,3.6,3.6,4.9,4.9,5.1,5.1,6.5,6.5,5.1],\"type\":\"scatter\"},{\"hoverinfo\":\"name\",\"line\":{\"color\":\"grey\"},\"mode\":\"lines\",\"name\":\"Obstacle\",\"showlegend\":false,\"x\":[5.1,6.4,6.4,5.1,5.1,4.9,4.9,3.6,3.6,4.9,4.9,5.1,5.1],\"y\":[10.1,10.1,9.9,9.9,8.6,8.6,9.9,9.9,10.1,10.1,11.5,11.5,10.1],\"type\":\"scatter\"},{\"fill\":\"toself\",\"fillcolor\":\"rgba(200, 0, 0, 0.20)\",\"hoverinfo\":\"name\",\"line\":{\"width\":0},\"mode\":\"lines\",\"name\":\"Risk Area\",\"showlegend\":false,\"x\":[0.0,5.0,5.0,0.0,0.0],\"y\":[0.0,0.0,5.0,5.0,0.0],\"type\":\"scatter\"},{\"fill\":\"toself\",\"fillcolor\":\"rgba(200, 0, 0, 0.60)\",\"hoverinfo\":\"name\",\"line\":{\"width\":0},\"mode\":\"lines\",\"name\":\"Risk Area\",\"showlegend\":false,\"x\":[5.0,10.0,10.0,5.0,5.0],\"y\":[0.0,0.0,5.0,5.0,0.0],\"type\":\"scatter\"},{\"fill\":\"toself\",\"fillcolor\":\"rgba(200, 0, 0, 0.00)\",\"hoverinfo\":\"name\",\"line\":{\"width\":0},\"mode\":\"lines\",\"name\":\"Risk Area\",\"showlegend\":false,\"x\":[10.0,15.0,15.0,10.0,10.0],\"y\":[0.0,0.0,5.0,5.0,0.0],\"type\":\"scatter\"},{\"fill\":\"toself\",\"fillcolor\":\"rgba(200, 0, 0, 0.60)\",\"hoverinfo\":\"name\",\"line\":{\"width\":0},\"mode\":\"lines\",\"name\":\"Risk Area\",\"showlegend\":false,\"x\":[10.0,15.0,15.0,10.0,10.0],\"y\":[5.0,5.0,10.0,10.0,5.0],\"type\":\"scatter\"},{\"fill\":\"toself\",\"fillcolor\":\"rgba(200, 0, 0, 0.70)\",\"hoverinfo\":\"name\",\"line\":{\"width\":0},\"mode\":\"lines\",\"name\":\"Risk Area\",\"showlegend\":false,\"x\":[5.0,10.0,10.0,5.0,5.0],\"y\":[5.0,5.0,10.0,10.0,5.0],\"type\":\"scatter\"},{\"fill\":\"toself\",\"fillcolor\":\"rgba(200, 0, 0, 0.10)\",\"hoverinfo\":\"name\",\"line\":{\"width\":0},\"mode\":\"lines\",\"name\":\"Risk Area\",\"showlegend\":false,\"x\":[0.0,5.0,5.0,0.0,0.0],\"y\":[5.0,5.0,10.0,10.0,5.0],\"type\":\"scatter\"},{\"fill\":\"toself\",\"fillcolor\":\"rgba(200, 0, 0, 0.00)\",\"hoverinfo\":\"name\",\"line\":{\"width\":0},\"mode\":\"lines\",\"name\":\"Risk Area\",\"showlegend\":false,\"x\":[0.0,5.0,5.0,0.0,0.0],\"y\":[10.0,10.0,15.0,15.0,10.0],\"type\":\"scatter\"},{\"fill\":\"toself\",\"fillcolor\":\"rgba(200, 0, 0, 0.00)\",\"hoverinfo\":\"name\",\"line\":{\"width\":0},\"mode\":\"lines\",\"name\":\"Risk Area\",\"showlegend\":false,\"x\":[5.0,10.0,10.0,5.0,5.0],\"y\":[10.0,10.0,15.0,15.0,10.0],\"type\":\"scatter\"},{\"fill\":\"toself\",\"fillcolor\":\"rgba(200, 0, 0, 0.00)\",\"hoverinfo\":\"name\",\"line\":{\"width\":0},\"mode\":\"lines\",\"name\":\"Risk Area\",\"showlegend\":false,\"x\":[10.0,15.0,15.0,10.0,10.0],\"y\":[10.0,10.0,15.0,15.0,10.0],\"type\":\"scatter\"},{\"hoverinfo\":\"text\",\"marker\":{\"opacity\":1,\"size\":1},\"mode\":\"markers\",\"showlegend\":false,\"text\":[\"ID: 61, Pos(5.16,11.93)\"],\"x\":[5.16178312536572],\"y\":[11.931245552672403],\"type\":\"scatter\"},{\"hoverinfo\":\"text\",\"marker\":{\"opacity\":1,\"size\":1},\"mode\":\"markers\",\"showlegend\":false,\"text\":[\"ID: 62, Pos(4.68,12.33)\"],\"x\":[4.679392894031097],\"y\":[12.328499482883084],\"type\":\"scatter\"},{\"hoverinfo\":\"text\",\"marker\":{\"opacity\":1,\"size\":1},\"mode\":\"markers\",\"showlegend\":false,\"text\":[\"ID: 63, Pos(2.75,11.13)\"],\"x\":[2.752719716137008],\"y\":[11.134047386267001],\"type\":\"scatter\"},{\"hoverinfo\":\"text\",\"marker\":{\"opacity\":1,\"size\":1},\"mode\":\"markers\",\"showlegend\":false,\"text\":[\"ID: 64, Pos(6.31,12.04)\"],\"x\":[6.307683936721535],\"y\":[12.039835536168248],\"type\":\"scatter\"},{\"hoverinfo\":\"text\",\"marker\":{\"opacity\":1,\"size\":1},\"mode\":\"markers\",\"showlegend\":false,\"text\":[\"ID: 65, Pos(5.93,12.60)\"],\"x\":[5.934725366171918],\"y\":[12.600572956559928],\"type\":\"scatter\"},{\"hoverinfo\":\"text\",\"marker\":{\"opacity\":1,\"size\":1},\"mode\":\"markers\",\"showlegend\":false,\"text\":[\"ID: 66, Pos(8.33,12.65)\"],\"x\":[8.33186233461508],\"y\":[12.652515980007403],\"type\":\"scatter\"},{\"hoverinfo\":\"text\",\"marker\":{\"opacity\":1,\"size\":1},\"mode\":\"markers\",\"showlegend\":false,\"text\":[\"ID: 67, Pos(9.51,12.89)\"],\"x\":[9.508137817783645],\"y\":[12.889232600246313],\"type\":\"scatter\"},{\"hoverinfo\":\"text\",\"marker\":{\"opacity\":1,\"size\":1},\"mode\":\"markers\",\"showlegend\":false,\"text\":[\"ID: 68, Pos(4.31,11.47)\"],\"x\":[4.3108693263181666],\"y\":[11.47313819534427],\"type\":\"scatter\"},{\"hoverinfo\":\"text\",\"marker\":{\"opacity\":1,\"size\":1},\"mode\":\"markers\",\"showlegend\":false,\"text\":[\"ID: 69, Pos(7.14,12.61)\"],\"x\":[7.138946604838431],\"y\":[12.60509221522232],\"type\":\"scatter\"},{\"hoverinfo\":\"text\",\"marker\":{\"opacity\":1,\"size\":1},\"mode\":\"markers\",\"showlegend\":false,\"text\":[\"ID: 70, Pos(3.49,11.28)\"],\"x\":[3.49138221396939],\"y\":[11.28452935889344],\"type\":\"scatter\"}],\"layout\":{\"shapes\":[{\"fillcolor\":\"rgba(0, 0, 205, 0.5)\",\"line\":{\"color\":\"rgba(0, 0, 205, 0.5)\"},\"type\":\"circle\",\"x0\":4.96178312536572,\"x1\":5.36178312536572,\"xref\":\"x\",\"y0\":11.731245552672403,\"y1\":12.131245552672402,\"yref\":\"y\"},{\"fillcolor\":\"rgba(0, 0, 128, 0.5)\",\"line\":{\"color\":\"rgba(0, 0, 128, 0.5)\"},\"type\":\"circle\",\"x0\":4.479392894031097,\"x1\":4.879392894031097,\"xref\":\"x\",\"y0\":12.128499482883084,\"y1\":12.528499482883083,\"yref\":\"y\"},{\"fillcolor\":\"rgba(225, 255, 22, 0.5)\",\"line\":{\"color\":\"rgba(225, 255, 22, 0.5)\"},\"type\":\"circle\",\"x0\":2.5527197161370077,\"x1\":2.952719716137008,\"xref\":\"x\",\"y0\":10.934047386267002,\"y1\":11.334047386267,\"yref\":\"y\"},{\"fillcolor\":\"rgba(0, 0, 128, 0.5)\",\"line\":{\"color\":\"rgba(0, 0, 128, 0.5)\"},\"type\":\"circle\",\"x0\":6.107683936721535,\"x1\":6.507683936721535,\"xref\":\"x\",\"y0\":11.839835536168248,\"y1\":12.239835536168247,\"yref\":\"y\"},{\"fillcolor\":\"rgba(0, 0, 132, 0.5)\",\"line\":{\"color\":\"rgba(0, 0, 132, 0.5)\"},\"type\":\"circle\",\"x0\":5.734725366171918,\"x1\":6.134725366171918,\"xref\":\"x\",\"y0\":12.400572956559929,\"y1\":12.800572956559927,\"yref\":\"y\"},{\"fillcolor\":\"rgba(0, 0, 128, 0.5)\",\"line\":{\"color\":\"rgba(0, 0, 128, 0.5)\"},\"type\":\"circle\",\"x0\":8.13186233461508,\"x1\":8.531862334615079,\"xref\":\"x\",\"y0\":12.452515980007403,\"y1\":12.852515980007402,\"yref\":\"y\"},{\"fillcolor\":\"rgba(0, 0, 128, 0.5)\",\"line\":{\"color\":\"rgba(0, 0, 128, 0.5)\"},\"type\":\"circle\",\"x0\":9.308137817783646,\"x1\":9.708137817783644,\"xref\":\"x\",\"y0\":12.689232600246314,\"y1\":13.089232600246312,\"yref\":\"y\"},{\"fillcolor\":\"rgba(0, 204, 255, 0.5)\",\"line\":{\"color\":\"rgba(0, 204, 255, 0.5)\"},\"type\":\"circle\",\"x0\":4.110869326318166,\"x1\":4.510869326318167,\"xref\":\"x\",\"y0\":11.27313819534427,\"y1\":11.673138195344269,\"yref\":\"y\"},{\"fillcolor\":\"rgba(0, 0, 137, 0.5)\",\"line\":{\"color\":\"rgba(0, 0, 137, 0.5)\"},\"type\":\"circle\",\"x0\":6.9389466048384305,\"x1\":7.338946604838431,\"xref\":\"x\",\"y0\":12.405092215222322,\"y1\":12.80509221522232,\"yref\":\"y\"},{\"fillcolor\":\"rgba(125, 255, 122, 0.5)\",\"line\":{\"color\":\"rgba(125, 255, 122, 0.5)\"},\"type\":\"circle\",\"x0\":3.29138221396939,\"x1\":3.69138221396939,\"xref\":\"x\",\"y0\":11.084529358893441,\"y1\":11.48452935889344,\"yref\":\"y\"},{\"line\":{\"color\":\"white\",\"width\":3},\"type\":\"line\",\"x0\":5.16178312536572,\"x1\":5.359935925350477,\"y0\":11.931245552672403,\"y1\":11.958365063328033},{\"line\":{\"color\":\"white\",\"width\":3},\"type\":\"line\",\"x0\":4.679392894031097,\"x1\":4.870161297231028,\"y0\":12.328499482883084,\"y1\":12.388561253923811},{\"line\":{\"color\":\"black\",\"width\":3},\"type\":\"line\",\"x0\":2.752719716137008,\"x1\":2.9445558007676,\"y0\":11.134047386267001,\"y1\":11.190606352254758},{\"line\":{\"color\":\"white\",\"width\":3},\"type\":\"line\",\"x0\":6.307683936721535,\"x1\":6.507124571342263,\"y0\":12.039835536168248,\"y1\":12.054783220339415},{\"line\":{\"color\":\"white\",\"width\":3},\"type\":\"line\",\"x0\":5.934725366171918,\"x1\":6.133937753863345,\"y0\":12.600572956559928,\"y1\":12.618304978167199},{\"line\":{\"color\":\"white\",\"width\":3},\"type\":\"line\",\"x0\":8.33186233461508,\"x1\":8.527887313891439,\"y0\":12.652515980007403,\"y1\":12.692192263851823},{\"line\":{\"color\":\"white\",\"width\":3},\"type\":\"line\",\"x0\":9.508137817783645,\"x1\":9.704144472065126,\"y0\":12.889232600246313,\"y1\":12.92899931342932},{\"line\":{\"color\":\"black\",\"width\":3},\"type\":\"line\",\"x0\":4.3108693263181666,\"x1\":4.498477196485433,\"y0\":11.47313819534427,\"y1\":11.542443945836578},{\"line\":{\"color\":\"white\",\"width\":3},\"type\":\"line\",\"x0\":7.138946604838431,\"x1\":7.335927308960516,\"y0\":12.60509221522232,\"y1\":12.639713050041367},{\"line\":{\"color\":\"black\",\"width\":3},\"type\":\"line\",\"x0\":3.49138221396939,\"x1\":3.683049477555893,\"y0\":11.28452935889344,\"y1\":11.341657811255306}],\"title\":{\"text\":\"\\u003cb\\u003ePercentage using the shortest path: 0%  |  Number of Agents: 10\\u003c\\u002fb\\u003e\",\"x\":0.5}},\"name\":\"450\"},{\"data\":[{\"hoverinfo\":\"name\",\"line\":{\"color\":\"grey\"},\"mode\":\"lines\",\"name\":\"Exterior\",\"showlegend\":false,\"x\":[10.1,10.1,15.0,15.0,13.6,13.6,15.0,15.0,13.6,13.6,15.0,15.0,10.1,10.1,9.9,9.9,5.1,5.1,4.9,4.9,0.0,0.0,1.5,1.5,0.0,0.0,1.5,1.5,0.0,0.0,4.9,4.9,5.1,5.1,9.9,9.9,10.1],\"y\":[1.5,0.0,0.0,4.9,4.9,5.1,5.1,9.9,9.9,10.1,10.1,15.0,15.0,13.6,13.6,15.0,15.0,13.6,13.6,15.0,15.0,10.1,10.1,9.9,9.9,5.1,5.1,4.9,4.9,0.0,0.0,1.5,1.5,0.0,0.0,1.5,1.5],\"type\":\"scatter\"},{\"hoverinfo\":\"name\",\"line\":{\"color\":\"grey\"},\"mode\":\"lines\",\"name\":\"Obstacle\",\"showlegend\":false,\"x\":[10.1,11.5,11.5,10.1,10.1,9.9,9.9,8.6,8.6,9.9,9.9,10.1,10.1],\"y\":[5.1,5.1,4.9,4.9,3.6,3.6,4.9,4.9,5.1,5.1,6.5,6.5,5.1],\"type\":\"scatter\"},{\"hoverinfo\":\"name\",\"line\":{\"color\":\"grey\"},\"mode\":\"lines\",\"name\":\"Obstacle\",\"showlegend\":false,\"x\":[10.1,11.5,11.5,10.1,10.1,9.9,9.9,8.6,8.6,9.9,9.9,10.1,10.1],\"y\":[10.1,10.1,9.9,9.9,8.6,8.6,9.9,9.9,10.1,10.1,11.5,11.5,10.1],\"type\":\"scatter\"},{\"hoverinfo\":\"name\",\"line\":{\"color\":\"grey\"},\"mode\":\"lines\",\"name\":\"Obstacle\",\"showlegend\":false,\"x\":[5.1,6.4,6.4,5.1,5.1,4.9,4.9,3.6,3.6,4.9,4.9,5.1,5.1],\"y\":[5.1,5.1,4.9,4.9,3.6,3.6,4.9,4.9,5.1,5.1,6.5,6.5,5.1],\"type\":\"scatter\"},{\"hoverinfo\":\"name\",\"line\":{\"color\":\"grey\"},\"mode\":\"lines\",\"name\":\"Obstacle\",\"showlegend\":false,\"x\":[5.1,6.4,6.4,5.1,5.1,4.9,4.9,3.6,3.6,4.9,4.9,5.1,5.1],\"y\":[10.1,10.1,9.9,9.9,8.6,8.6,9.9,9.9,10.1,10.1,11.5,11.5,10.1],\"type\":\"scatter\"},{\"fill\":\"toself\",\"fillcolor\":\"rgba(200, 0, 0, 0.20)\",\"hoverinfo\":\"name\",\"line\":{\"width\":0},\"mode\":\"lines\",\"name\":\"Risk Area\",\"showlegend\":false,\"x\":[0.0,5.0,5.0,0.0,0.0],\"y\":[0.0,0.0,5.0,5.0,0.0],\"type\":\"scatter\"},{\"fill\":\"toself\",\"fillcolor\":\"rgba(200, 0, 0, 0.60)\",\"hoverinfo\":\"name\",\"line\":{\"width\":0},\"mode\":\"lines\",\"name\":\"Risk Area\",\"showlegend\":false,\"x\":[5.0,10.0,10.0,5.0,5.0],\"y\":[0.0,0.0,5.0,5.0,0.0],\"type\":\"scatter\"},{\"fill\":\"toself\",\"fillcolor\":\"rgba(200, 0, 0, 0.00)\",\"hoverinfo\":\"name\",\"line\":{\"width\":0},\"mode\":\"lines\",\"name\":\"Risk Area\",\"showlegend\":false,\"x\":[10.0,15.0,15.0,10.0,10.0],\"y\":[0.0,0.0,5.0,5.0,0.0],\"type\":\"scatter\"},{\"fill\":\"toself\",\"fillcolor\":\"rgba(200, 0, 0, 0.60)\",\"hoverinfo\":\"name\",\"line\":{\"width\":0},\"mode\":\"lines\",\"name\":\"Risk Area\",\"showlegend\":false,\"x\":[10.0,15.0,15.0,10.0,10.0],\"y\":[5.0,5.0,10.0,10.0,5.0],\"type\":\"scatter\"},{\"fill\":\"toself\",\"fillcolor\":\"rgba(200, 0, 0, 0.70)\",\"hoverinfo\":\"name\",\"line\":{\"width\":0},\"mode\":\"lines\",\"name\":\"Risk Area\",\"showlegend\":false,\"x\":[5.0,10.0,10.0,5.0,5.0],\"y\":[5.0,5.0,10.0,10.0,5.0],\"type\":\"scatter\"},{\"fill\":\"toself\",\"fillcolor\":\"rgba(200, 0, 0, 0.10)\",\"hoverinfo\":\"name\",\"line\":{\"width\":0},\"mode\":\"lines\",\"name\":\"Risk Area\",\"showlegend\":false,\"x\":[0.0,5.0,5.0,0.0,0.0],\"y\":[5.0,5.0,10.0,10.0,5.0],\"type\":\"scatter\"},{\"fill\":\"toself\",\"fillcolor\":\"rgba(200, 0, 0, 0.00)\",\"hoverinfo\":\"name\",\"line\":{\"width\":0},\"mode\":\"lines\",\"name\":\"Risk Area\",\"showlegend\":false,\"x\":[0.0,5.0,5.0,0.0,0.0],\"y\":[10.0,10.0,15.0,15.0,10.0],\"type\":\"scatter\"},{\"fill\":\"toself\",\"fillcolor\":\"rgba(200, 0, 0, 0.00)\",\"hoverinfo\":\"name\",\"line\":{\"width\":0},\"mode\":\"lines\",\"name\":\"Risk Area\",\"showlegend\":false,\"x\":[5.0,10.0,10.0,5.0,5.0],\"y\":[10.0,10.0,15.0,15.0,10.0],\"type\":\"scatter\"},{\"fill\":\"toself\",\"fillcolor\":\"rgba(200, 0, 0, 0.00)\",\"hoverinfo\":\"name\",\"line\":{\"width\":0},\"mode\":\"lines\",\"name\":\"Risk Area\",\"showlegend\":false,\"x\":[10.0,15.0,15.0,10.0,10.0],\"y\":[10.0,10.0,15.0,15.0,10.0],\"type\":\"scatter\"},{\"hoverinfo\":\"text\",\"marker\":{\"opacity\":1,\"size\":1},\"mode\":\"markers\",\"showlegend\":false,\"text\":[\"ID: 61, Pos(6.71,12.10)\"],\"x\":[6.709048518244106],\"y\":[12.10212641304505],\"type\":\"scatter\"},{\"hoverinfo\":\"text\",\"marker\":{\"opacity\":1,\"size\":1},\"mode\":\"markers\",\"showlegend\":false,\"text\":[\"ID: 62, Pos(6.25,12.64)\"],\"x\":[6.246455030336445],\"y\":[12.635610514901655],\"type\":\"scatter\"},{\"hoverinfo\":\"text\",\"marker\":{\"opacity\":1,\"size\":1},\"mode\":\"markers\",\"showlegend\":false,\"text\":[\"ID: 63, Pos(3.58,11.37)\"],\"x\":[3.5825291282230536],\"y\":[11.374895652810725],\"type\":\"scatter\"},{\"hoverinfo\":\"text\",\"marker\":{\"opacity\":1,\"size\":1},\"mode\":\"markers\",\"showlegend\":false,\"text\":[\"ID: 64, Pos(7.89,12.28)\"],\"x\":[7.888796461818201],\"y\":[12.280014997231621],\"type\":\"scatter\"},{\"hoverinfo\":\"text\",\"marker\":{\"opacity\":1,\"size\":1},\"mode\":\"markers\",\"showlegend\":false,\"text\":[\"ID: 65, Pos(7.50,12.94)\"],\"x\":[7.496549927865555],\"y\":[12.94182774486513],\"type\":\"scatter\"},{\"hoverinfo\":\"text\",\"marker\":{\"opacity\":1,\"size\":1},\"mode\":\"markers\",\"showlegend\":false,\"text\":[\"ID: 66, Pos(9.90,12.97)\"],\"x\":[9.899980460848388],\"y\":[12.969706552697021],\"type\":\"scatter\"},{\"hoverinfo\":\"text\",\"marker\":{\"opacity\":1,\"size\":1},\"mode\":\"markers\",\"showlegend\":false,\"text\":[\"ID: 67, Pos(11.08,13.21)\"],\"x\":[11.07658172844977],\"y\":[13.205418347395973],\"type\":\"scatter\"},{\"hoverinfo\":\"text\",\"marker\":{\"opacity\":1,\"size\":1},\"mode\":\"markers\",\"showlegend\":false,\"text\":[\"ID: 68, Pos(5.34,12.03)\"],\"x\":[5.335925483917294],\"y\":[12.033470746525124],\"type\":\"scatter\"},{\"hoverinfo\":\"text\",\"marker\":{\"opacity\":1,\"size\":1},\"mode\":\"markers\",\"showlegend\":false,\"text\":[\"ID: 69, Pos(8.71,12.88)\"],\"x\":[8.706453594387984],\"y\":[12.87988769416925],\"type\":\"scatter\"},{\"hoverinfo\":\"text\",\"marker\":{\"opacity\":1,\"size\":1},\"mode\":\"markers\",\"showlegend\":false,\"text\":[\"ID: 70, Pos(4.46,11.58)\"],\"x\":[4.463984061649328],\"y\":[11.577115818328553],\"type\":\"scatter\"}],\"layout\":{\"shapes\":[{\"fillcolor\":\"rgba(0, 0, 137, 0.5)\",\"line\":{\"color\":\"rgba(0, 0, 137, 0.5)\"},\"type\":\"circle\",\"x0\":6.509048518244106,\"x1\":6.909048518244107,\"xref\":\"x\",\"y0\":11.902126413045051,\"y1\":12.30212641304505,\"yref\":\"y\"},{\"fillcolor\":\"rgba(0, 0, 128, 0.5)\",\"line\":{\"color\":\"rgba(0, 0, 128, 0.5)\"},\"type\":\"circle\",\"x0\":6.046455030336444,\"x1\":6.446455030336445,\"xref\":\"x\",\"y0\":12.435610514901656,\"y1\":12.835610514901655,\"yref\":\"y\"},{\"fillcolor\":\"rgba(51, 255, 196, 0.5)\",\"line\":{\"color\":\"rgba(51, 255, 196, 0.5)\"},\"type\":\"circle\",\"x0\":3.3825291282230534,\"x1\":3.7825291282230538,\"xref\":\"x\",\"y0\":11.174895652810726,\"y1\":11.574895652810724,\"yref\":\"y\"},{\"fillcolor\":\"rgba(0, 0, 128, 0.5)\",\"line\":{\"color\":\"rgba(0, 0, 128, 0.5)\"},\"type\":\"circle\",\"x0\":7.6887964618182005,\"x1\":8.0887964618182,\"xref\":\"x\",\"y0\":12.080014997231622,\"y1\":12.48001499723162,\"yref\":\"y\"},{\"fillcolor\":\"rgba(0, 0, 128, 0.5)\",\"line\":{\"color\":\"rgba(0, 0, 128, 0.5)\"},\"type\":\"circle\",\"x0\":7.296549927865555,\"x1\":7.696549927865555,\"xref\":\"x\",\"y0\":12.74182774486513,\"y1\":13.141827744865129,\"yref\":\"y\"},{\"fillcolor\":\"rgba(0, 0, 128, 0.5)\",\"line\":{\"color\":\"rgba(0, 0, 128, 0.5)\"},\"type\":\"circle\",\"x0\":9.699980460848389,\"x1\":10.099980460848387,\"xref\":\"x\",\"y0\":12.769706552697022,\"y1\":13.16970655269702,\"yref\":\"y\"},{\"fillcolor\":\"rgba(0, 0, 128, 0.5)\",\"line\":{\"color\":\"rgba(0, 0, 128, 0.5)\"},\"type\":\"circle\",\"x0\":10.876581728449771,\"x1\":11.27658172844977,\"xref\":\"x\",\"y0\":13.005418347395974,\"y1\":13.405418347395972,\"yref\":\"y\"},{\"fillcolor\":\"rgba(0, 16, 255, 0.5)\",\"line\":{\"color\":\"rgba(0, 16, 255, 0.5)\"},\"type\":\"circle\",\"x0\":5.135925483917294,\"x1\":5.535925483917294,\"xref\":\"x\",\"y0\":11.833470746525125,\"y1\":12.233470746525123,\"yref\":\"y\"},{\"fillcolor\":\"rgba(0, 0, 132, 0.5)\",\"line\":{\"color\":\"rgba(0, 0, 132, 0.5)\"},\"type\":\"circle\",\"x0\":8.506453594387985,\"x1\":8.906453594387983,\"xref\":\"x\",\"y0\":12.67988769416925,\"y1\":13.07988769416925,\"yref\":\"y\"},{\"fillcolor\":\"rgba(0, 184, 255, 0.5)\",\"line\":{\"color\":\"rgba(0, 184, 255, 0.5)\"},\"type\":\"circle\",\"x0\":4.263984061649328,\"x1\":4.663984061649328,\"xref\":\"x\",\"y0\":11.377115818328553,\"y1\":11.777115818328552,\"yref\":\"y\"},{\"line\":{\"color\":\"white\",\"width\":3},\"type\":\"line\",\"x0\":6.709048518244106,\"x1\":6.9074504331059705,\"y0\":12.10212641304505,\"y1\":12.127358935296018},{\"line\":{\"color\":\"white\",\"width\":3},\"type\":\"line\",\"x0\":6.246455030336445,\"x1\":6.439789244147387,\"y0\":12.635610514901655,\"y1\":12.686814828881094},{\"line\":{\"color\":\"black\",\"width\":3},\"type\":\"line\",\"x0\":3.5825291282230536,\"x1\":3.774706357186592,\"y0\":11.374895652810725,\"y1\":11.430284394156741},{\"line\":{\"color\":\"white\",\"width\":3},\"type\":\"line\",\"x0\":7.888796461818201,\"x1\":8.085480113666167,\"y0\":12.280014997231621,\"y1\":12.316285385921956},{\"line\":{\"color\":\"white\",\"width\":3},\"type\":\"line\",\"x0\":7.496549927865555,\"x1\":7.692926572586759,\"y0\":12.94182774486513,\"y1\":12.979725151214929},{\"line\":{\"color\":\"white\",\"width\":3},\"type\":\"line\",\"x0\":9.899980460848388,\"x1\":10.096083856659739,\"y0\":12.969706552697021,\"y1\":13.008993422657053},{\"line\":{\"color\":\"white\",\"width\":3},\"type\":\"line\",\"x0\":11.07658172844977,\"x1\":11.272557212797931,\"y0\":13.205418347395973,\"y1\":13.245338386655776},{\"line\":{\"color\":\"white\",\"width\":3},\"type\":\"line\",\"x0\":5.335925483917294,\"x1\":5.5312024935374255,\"y0\":12.033470746525124,\"y1\":12.076678263392203},{\"line\":{\"color\":\"white\",\"width\":3},\"type\":\"line\",\"x0\":8.706453594387984,\"x1\":8.903459901667084,\"y0\":12.87988769416925,\"y1\":12.914362538509044},{\"line\":{\"color\":\"black\",\"width\":3},\"type\":\"line\",\"x0\":4.463984061649328,\"x1\":4.653455624872952,\"y0\":11.577115818328553,\"y1\":11.641151173637917}],\"title\":{\"text\":\"\\u003cb\\u003ePercentage using the shortest path: 0%  |  Number of Agents: 10\\u003c\\u002fb\\u003e\",\"x\":0.5}},\"name\":\"500\"},{\"data\":[{\"hoverinfo\":\"name\",\"line\":{\"color\":\"grey\"},\"mode\":\"lines\",\"name\":\"Exterior\",\"showlegend\":false,\"x\":[10.1,10.1,15.0,15.0,13.6,13.6,15.0,15.0,13.6,13.6,15.0,15.0,10.1,10.1,9.9,9.9,5.1,5.1,4.9,4.9,0.0,0.0,1.5,1.5,0.0,0.0,1.5,1.5,0.0,0.0,4.9,4.9,5.1,5.1,9.9,9.9,10.1],\"y\":[1.5,0.0,0.0,4.9,4.9,5.1,5.1,9.9,9.9,10.1,10.1,15.0,15.0,13.6,13.6,15.0,15.0,13.6,13.6,15.0,15.0,10.1,10.1,9.9,9.9,5.1,5.1,4.9,4.9,0.0,0.0,1.5,1.5,0.0,0.0,1.5,1.5],\"type\":\"scatter\"},{\"hoverinfo\":\"name\",\"line\":{\"color\":\"grey\"},\"mode\":\"lines\",\"name\":\"Obstacle\",\"showlegend\":false,\"x\":[10.1,11.5,11.5,10.1,10.1,9.9,9.9,8.6,8.6,9.9,9.9,10.1,10.1],\"y\":[5.1,5.1,4.9,4.9,3.6,3.6,4.9,4.9,5.1,5.1,6.5,6.5,5.1],\"type\":\"scatter\"},{\"hoverinfo\":\"name\",\"line\":{\"color\":\"grey\"},\"mode\":\"lines\",\"name\":\"Obstacle\",\"showlegend\":false,\"x\":[10.1,11.5,11.5,10.1,10.1,9.9,9.9,8.6,8.6,9.9,9.9,10.1,10.1],\"y\":[10.1,10.1,9.9,9.9,8.6,8.6,9.9,9.9,10.1,10.1,11.5,11.5,10.1],\"type\":\"scatter\"},{\"hoverinfo\":\"name\",\"line\":{\"color\":\"grey\"},\"mode\":\"lines\",\"name\":\"Obstacle\",\"showlegend\":false,\"x\":[5.1,6.4,6.4,5.1,5.1,4.9,4.9,3.6,3.6,4.9,4.9,5.1,5.1],\"y\":[5.1,5.1,4.9,4.9,3.6,3.6,4.9,4.9,5.1,5.1,6.5,6.5,5.1],\"type\":\"scatter\"},{\"hoverinfo\":\"name\",\"line\":{\"color\":\"grey\"},\"mode\":\"lines\",\"name\":\"Obstacle\",\"showlegend\":false,\"x\":[5.1,6.4,6.4,5.1,5.1,4.9,4.9,3.6,3.6,4.9,4.9,5.1,5.1],\"y\":[10.1,10.1,9.9,9.9,8.6,8.6,9.9,9.9,10.1,10.1,11.5,11.5,10.1],\"type\":\"scatter\"},{\"fill\":\"toself\",\"fillcolor\":\"rgba(200, 0, 0, 0.20)\",\"hoverinfo\":\"name\",\"line\":{\"width\":0},\"mode\":\"lines\",\"name\":\"Risk Area\",\"showlegend\":false,\"x\":[0.0,5.0,5.0,0.0,0.0],\"y\":[0.0,0.0,5.0,5.0,0.0],\"type\":\"scatter\"},{\"fill\":\"toself\",\"fillcolor\":\"rgba(200, 0, 0, 0.60)\",\"hoverinfo\":\"name\",\"line\":{\"width\":0},\"mode\":\"lines\",\"name\":\"Risk Area\",\"showlegend\":false,\"x\":[5.0,10.0,10.0,5.0,5.0],\"y\":[0.0,0.0,5.0,5.0,0.0],\"type\":\"scatter\"},{\"fill\":\"toself\",\"fillcolor\":\"rgba(200, 0, 0, 0.00)\",\"hoverinfo\":\"name\",\"line\":{\"width\":0},\"mode\":\"lines\",\"name\":\"Risk Area\",\"showlegend\":false,\"x\":[10.0,15.0,15.0,10.0,10.0],\"y\":[0.0,0.0,5.0,5.0,0.0],\"type\":\"scatter\"},{\"fill\":\"toself\",\"fillcolor\":\"rgba(200, 0, 0, 0.60)\",\"hoverinfo\":\"name\",\"line\":{\"width\":0},\"mode\":\"lines\",\"name\":\"Risk Area\",\"showlegend\":false,\"x\":[10.0,15.0,15.0,10.0,10.0],\"y\":[5.0,5.0,10.0,10.0,5.0],\"type\":\"scatter\"},{\"fill\":\"toself\",\"fillcolor\":\"rgba(200, 0, 0, 0.70)\",\"hoverinfo\":\"name\",\"line\":{\"width\":0},\"mode\":\"lines\",\"name\":\"Risk Area\",\"showlegend\":false,\"x\":[5.0,10.0,10.0,5.0,5.0],\"y\":[5.0,5.0,10.0,10.0,5.0],\"type\":\"scatter\"},{\"fill\":\"toself\",\"fillcolor\":\"rgba(200, 0, 0, 0.10)\",\"hoverinfo\":\"name\",\"line\":{\"width\":0},\"mode\":\"lines\",\"name\":\"Risk Area\",\"showlegend\":false,\"x\":[0.0,5.0,5.0,0.0,0.0],\"y\":[5.0,5.0,10.0,10.0,5.0],\"type\":\"scatter\"},{\"fill\":\"toself\",\"fillcolor\":\"rgba(200, 0, 0, 0.00)\",\"hoverinfo\":\"name\",\"line\":{\"width\":0},\"mode\":\"lines\",\"name\":\"Risk Area\",\"showlegend\":false,\"x\":[0.0,5.0,5.0,0.0,0.0],\"y\":[10.0,10.0,15.0,15.0,10.0],\"type\":\"scatter\"},{\"fill\":\"toself\",\"fillcolor\":\"rgba(200, 0, 0, 0.00)\",\"hoverinfo\":\"name\",\"line\":{\"width\":0},\"mode\":\"lines\",\"name\":\"Risk Area\",\"showlegend\":false,\"x\":[5.0,10.0,10.0,5.0,5.0],\"y\":[10.0,10.0,15.0,15.0,10.0],\"type\":\"scatter\"},{\"fill\":\"toself\",\"fillcolor\":\"rgba(200, 0, 0, 0.00)\",\"hoverinfo\":\"name\",\"line\":{\"width\":0},\"mode\":\"lines\",\"name\":\"Risk Area\",\"showlegend\":false,\"x\":[10.0,15.0,15.0,10.0,10.0],\"y\":[10.0,10.0,15.0,15.0,10.0],\"type\":\"scatter\"},{\"hoverinfo\":\"text\",\"marker\":{\"opacity\":1,\"size\":1},\"mode\":\"markers\",\"showlegend\":false,\"text\":[\"ID: 61.0, Pos(8.28,12.37)\"],\"x\":[8.275133130911422],\"y\":[12.366812297533706],\"type\":\"scatter\"},{\"hoverinfo\":\"text\",\"marker\":{\"opacity\":1,\"size\":1},\"mode\":\"markers\",\"showlegend\":false,\"text\":[\"ID: 62.0, Pos(7.81,12.97)\"],\"x\":[7.810405660084215],\"y\":[12.972159219071838],\"type\":\"scatter\"},{\"hoverinfo\":\"text\",\"marker\":{\"opacity\":1,\"size\":1},\"mode\":\"markers\",\"showlegend\":false,\"text\":[\"ID: 63.0, Pos(4.71,11.80)\"],\"x\":[4.707414328492602],\"y\":[11.799355004982315],\"type\":\"scatter\"},{\"hoverinfo\":\"text\",\"marker\":{\"opacity\":1,\"size\":1},\"mode\":\"markers\",\"showlegend\":false,\"text\":[\"ID: 64.0, Pos(9.41,12.57)\"],\"x\":[9.41481947394931],\"y\":[12.572572186582159],\"type\":\"scatter\"},{\"hoverinfo\":\"text\",\"marker\":{\"opacity\":1,\"size\":1},\"mode\":\"markers\",\"showlegend\":false,\"text\":[\"ID: 65.0, Pos(9.07,13.23)\"],\"x\":[9.06961242062924],\"y\":[13.234143217414374],\"type\":\"scatter\"},{\"hoverinfo\":\"text\",\"marker\":{\"opacity\":1,\"size\":1},\"mode\":\"markers\",\"showlegend\":false,\"text\":[\"ID: 66.0, Pos(11.47,13.29)\"],\"x\":[11.468422711849659],\"y\":[13.285813874230977],\"type\":\"scatter\"},{\"hoverinfo\":\"text\",\"marker\":{\"opacity\":1,\"size\":1},\"mode\":\"markers\",\"showlegend\":false,\"text\":[\"ID: 68.0, Pos(6.89,12.36)\"],\"x\":[6.885632912002553],\"y\":[12.356349327921855],\"type\":\"scatter\"},{\"hoverinfo\":\"text\",\"marker\":{\"opacity\":1,\"size\":1},\"mode\":\"markers\",\"showlegend\":false,\"text\":[\"ID: 69.0, Pos(10.28,13.14)\"],\"x\":[10.279932603160745],\"y\":[13.139420754278794],\"type\":\"scatter\"},{\"hoverinfo\":\"text\",\"marker\":{\"opacity\":1,\"size\":1},\"mode\":\"markers\",\"showlegend\":false,\"text\":[\"ID: 70.0, Pos(5.74,12.12)\"],\"x\":[5.7435867337171445],\"y\":[12.122064570809648],\"type\":\"scatter\"},{\"hoverinfo\":\"none\",\"marker\":{\"opacity\":0,\"size\":1},\"mode\":\"markers\",\"showlegend\":false,\"x\":[0.0],\"y\":[0.0],\"type\":\"scatter\"}],\"layout\":{\"shapes\":[{\"fillcolor\":\"rgba(0, 0, 191, 0.5)\",\"line\":{\"color\":\"rgba(0, 0, 191, 0.5)\"},\"type\":\"circle\",\"x0\":8.075133130911423,\"x1\":8.475133130911422,\"xref\":\"x\",\"y0\":12.166812297533706,\"y1\":12.566812297533705,\"yref\":\"y\"},{\"fillcolor\":\"rgba(0, 0, 128, 0.5)\",\"line\":{\"color\":\"rgba(0, 0, 128, 0.5)\"},\"type\":\"circle\",\"x0\":7.610405660084215,\"x1\":8.010405660084215,\"xref\":\"x\",\"y0\":12.772159219071838,\"y1\":13.172159219071837,\"yref\":\"y\"},{\"fillcolor\":\"rgba(0, 0, 218, 0.5)\",\"line\":{\"color\":\"rgba(0, 0, 218, 0.5)\"},\"type\":\"circle\",\"x0\":4.507414328492602,\"x1\":4.907414328492602,\"xref\":\"x\",\"y0\":11.599355004982316,\"y1\":11.999355004982315,\"yref\":\"y\"},{\"fillcolor\":\"rgba(0, 109, 255, 0.5)\",\"line\":{\"color\":\"rgba(0, 109, 255, 0.5)\"},\"type\":\"circle\",\"x0\":9.21481947394931,\"x1\":9.614819473949309,\"xref\":\"x\",\"y0\":12.37257218658216,\"y1\":12.772572186582158,\"yref\":\"y\"},{\"fillcolor\":\"rgba(0, 0, 128, 0.5)\",\"line\":{\"color\":\"rgba(0, 0, 128, 0.5)\"},\"type\":\"circle\",\"x0\":8.86961242062924,\"x1\":9.269612420629239,\"xref\":\"x\",\"y0\":13.034143217414375,\"y1\":13.434143217414373,\"yref\":\"y\"},{\"fillcolor\":\"rgba(0, 0, 128, 0.5)\",\"line\":{\"color\":\"rgba(0, 0, 128, 0.5)\"},\"type\":\"circle\",\"x0\":11.26842271184966,\"x1\":11.668422711849658,\"xref\":\"x\",\"y0\":13.085813874230977,\"y1\":13.485813874230976,\"yref\":\"y\"},{\"fillcolor\":\"rgba(0, 0, 128, 0.5)\",\"line\":{\"color\":\"rgba(0, 0, 128, 0.5)\"},\"type\":\"circle\",\"x0\":6.685632912002553,\"x1\":7.085632912002553,\"xref\":\"x\",\"y0\":12.156349327921856,\"y1\":12.556349327921854,\"yref\":\"y\"},{\"fillcolor\":\"rgba(0, 0, 128, 0.5)\",\"line\":{\"color\":\"rgba(0, 0, 128, 0.5)\"},\"type\":\"circle\",\"x0\":10.079932603160746,\"x1\":10.479932603160744,\"xref\":\"x\",\"y0\":12.939420754278794,\"y1\":13.339420754278793,\"yref\":\"y\"},{\"fillcolor\":\"rgba(0, 0, 182, 0.5)\",\"line\":{\"color\":\"rgba(0, 0, 182, 0.5)\"},\"type\":\"circle\",\"x0\":5.543586733717144,\"x1\":5.943586733717145,\"xref\":\"x\",\"y0\":11.922064570809649,\"y1\":12.322064570809648,\"yref\":\"y\"},{\"fillcolor\":\"rgba(255,255,255,0)\",\"line\":{\"width\":0},\"type\":\"circle\",\"x0\":0.0,\"x1\":0.0,\"xref\":\"x\",\"y0\":0.0,\"y1\":0.0,\"yref\":\"y\"},{\"line\":{\"color\":\"white\",\"width\":3},\"type\":\"line\",\"x0\":8.275133130911422,\"x1\":8.471706729822165,\"y0\":12.366812297533706,\"y1\":12.403674476135604},{\"line\":{\"color\":\"white\",\"width\":3},\"type\":\"line\",\"x0\":7.810405660084215,\"x1\":8.006704852200526,\"y0\":12.972159219071838,\"y1\":13.010455787775621},{\"line\":{\"color\":\"white\",\"width\":3},\"type\":\"line\",\"x0\":4.707414328492602,\"x1\":4.856690183006203,\"y0\":11.799355004982315,\"y1\":11.932459171931491},{\"line\":{\"color\":\"white\",\"width\":3},\"type\":\"line\",\"x0\":9.41481947394931,\"x1\":9.611384183404601,\"y0\":12.572572186582159,\"y1\":12.609481738147533},{\"line\":{\"color\":\"white\",\"width\":3},\"type\":\"line\",\"x0\":9.06961242062924,\"x1\":9.266068972720857,\"y0\":13.234143217414374,\"y1\":13.271624187789662},{\"line\":{\"color\":\"white\",\"width\":3},\"type\":\"line\",\"x0\":11.468422711849659,\"x1\":11.664410557858861,\"y0\":13.285813874230977,\"y1\":13.325673179501806},{\"line\":{\"color\":\"white\",\"width\":3},\"type\":\"line\",\"x0\":6.885632912002553,\"x1\":7.081664926450883,\"y0\":12.356349327921855,\"y1\":12.39599083787455},{\"line\":{\"color\":\"white\",\"width\":3},\"type\":\"line\",\"x0\":10.279932603160745,\"x1\":10.477798183032505,\"y0\":13.139420754278794,\"y1\":13.16856200171284},{\"line\":{\"color\":\"white\",\"width\":3},\"type\":\"line\",\"x0\":5.7435867337171445,\"x1\":5.939099923932298,\"y0\":12.122064570809648,\"y1\":12.164190482691682},{\"line\":{\"color\":\"rgba(255,255,255,0)\",\"width\":3},\"type\":\"line\",\"x0\":0.0,\"x1\":null,\"y0\":0.0,\"y1\":null}],\"title\":{\"text\":\"\\u003cb\\u003ePercentage using the shortest path: 0%  |  Number of Agents: 9\\u003c\\u002fb\\u003e\",\"x\":0.5}},\"name\":\"550\"},{\"data\":[{\"hoverinfo\":\"name\",\"line\":{\"color\":\"grey\"},\"mode\":\"lines\",\"name\":\"Exterior\",\"showlegend\":false,\"x\":[10.1,10.1,15.0,15.0,13.6,13.6,15.0,15.0,13.6,13.6,15.0,15.0,10.1,10.1,9.9,9.9,5.1,5.1,4.9,4.9,0.0,0.0,1.5,1.5,0.0,0.0,1.5,1.5,0.0,0.0,4.9,4.9,5.1,5.1,9.9,9.9,10.1],\"y\":[1.5,0.0,0.0,4.9,4.9,5.1,5.1,9.9,9.9,10.1,10.1,15.0,15.0,13.6,13.6,15.0,15.0,13.6,13.6,15.0,15.0,10.1,10.1,9.9,9.9,5.1,5.1,4.9,4.9,0.0,0.0,1.5,1.5,0.0,0.0,1.5,1.5],\"type\":\"scatter\"},{\"hoverinfo\":\"name\",\"line\":{\"color\":\"grey\"},\"mode\":\"lines\",\"name\":\"Obstacle\",\"showlegend\":false,\"x\":[10.1,11.5,11.5,10.1,10.1,9.9,9.9,8.6,8.6,9.9,9.9,10.1,10.1],\"y\":[5.1,5.1,4.9,4.9,3.6,3.6,4.9,4.9,5.1,5.1,6.5,6.5,5.1],\"type\":\"scatter\"},{\"hoverinfo\":\"name\",\"line\":{\"color\":\"grey\"},\"mode\":\"lines\",\"name\":\"Obstacle\",\"showlegend\":false,\"x\":[10.1,11.5,11.5,10.1,10.1,9.9,9.9,8.6,8.6,9.9,9.9,10.1,10.1],\"y\":[10.1,10.1,9.9,9.9,8.6,8.6,9.9,9.9,10.1,10.1,11.5,11.5,10.1],\"type\":\"scatter\"},{\"hoverinfo\":\"name\",\"line\":{\"color\":\"grey\"},\"mode\":\"lines\",\"name\":\"Obstacle\",\"showlegend\":false,\"x\":[5.1,6.4,6.4,5.1,5.1,4.9,4.9,3.6,3.6,4.9,4.9,5.1,5.1],\"y\":[5.1,5.1,4.9,4.9,3.6,3.6,4.9,4.9,5.1,5.1,6.5,6.5,5.1],\"type\":\"scatter\"},{\"hoverinfo\":\"name\",\"line\":{\"color\":\"grey\"},\"mode\":\"lines\",\"name\":\"Obstacle\",\"showlegend\":false,\"x\":[5.1,6.4,6.4,5.1,5.1,4.9,4.9,3.6,3.6,4.9,4.9,5.1,5.1],\"y\":[10.1,10.1,9.9,9.9,8.6,8.6,9.9,9.9,10.1,10.1,11.5,11.5,10.1],\"type\":\"scatter\"},{\"fill\":\"toself\",\"fillcolor\":\"rgba(200, 0, 0, 0.40)\",\"hoverinfo\":\"name\",\"line\":{\"width\":0},\"mode\":\"lines\",\"name\":\"Risk Area\",\"showlegend\":false,\"x\":[0.0,5.0,5.0,0.0,0.0],\"y\":[0.0,0.0,5.0,5.0,0.0],\"type\":\"scatter\"},{\"fill\":\"toself\",\"fillcolor\":\"rgba(200, 0, 0, 0.60)\",\"hoverinfo\":\"name\",\"line\":{\"width\":0},\"mode\":\"lines\",\"name\":\"Risk Area\",\"showlegend\":false,\"x\":[5.0,10.0,10.0,5.0,5.0],\"y\":[0.0,0.0,5.0,5.0,0.0],\"type\":\"scatter\"},{\"fill\":\"toself\",\"fillcolor\":\"rgba(200, 0, 0, 0.00)\",\"hoverinfo\":\"name\",\"line\":{\"width\":0},\"mode\":\"lines\",\"name\":\"Risk Area\",\"showlegend\":false,\"x\":[10.0,15.0,15.0,10.0,10.0],\"y\":[0.0,0.0,5.0,5.0,0.0],\"type\":\"scatter\"},{\"fill\":\"toself\",\"fillcolor\":\"rgba(200, 0, 0, 0.60)\",\"hoverinfo\":\"name\",\"line\":{\"width\":0},\"mode\":\"lines\",\"name\":\"Risk Area\",\"showlegend\":false,\"x\":[10.0,15.0,15.0,10.0,10.0],\"y\":[5.0,5.0,10.0,10.0,5.0],\"type\":\"scatter\"},{\"fill\":\"toself\",\"fillcolor\":\"rgba(200, 0, 0, 0.70)\",\"hoverinfo\":\"name\",\"line\":{\"width\":0},\"mode\":\"lines\",\"name\":\"Risk Area\",\"showlegend\":false,\"x\":[5.0,10.0,10.0,5.0,5.0],\"y\":[5.0,5.0,10.0,10.0,5.0],\"type\":\"scatter\"},{\"fill\":\"toself\",\"fillcolor\":\"rgba(200, 0, 0, 0.10)\",\"hoverinfo\":\"name\",\"line\":{\"width\":0},\"mode\":\"lines\",\"name\":\"Risk Area\",\"showlegend\":false,\"x\":[0.0,5.0,5.0,0.0,0.0],\"y\":[5.0,5.0,10.0,10.0,5.0],\"type\":\"scatter\"},{\"fill\":\"toself\",\"fillcolor\":\"rgba(200, 0, 0, 0.20)\",\"hoverinfo\":\"name\",\"line\":{\"width\":0},\"mode\":\"lines\",\"name\":\"Risk Area\",\"showlegend\":false,\"x\":[0.0,5.0,5.0,0.0,0.0],\"y\":[10.0,10.0,15.0,15.0,10.0],\"type\":\"scatter\"},{\"fill\":\"toself\",\"fillcolor\":\"rgba(200, 0, 0, 0.00)\",\"hoverinfo\":\"name\",\"line\":{\"width\":0},\"mode\":\"lines\",\"name\":\"Risk Area\",\"showlegend\":false,\"x\":[5.0,10.0,10.0,5.0,5.0],\"y\":[10.0,10.0,15.0,15.0,10.0],\"type\":\"scatter\"},{\"fill\":\"toself\",\"fillcolor\":\"rgba(200, 0, 0, 0.00)\",\"hoverinfo\":\"name\",\"line\":{\"width\":0},\"mode\":\"lines\",\"name\":\"Risk Area\",\"showlegend\":false,\"x\":[10.0,15.0,15.0,10.0,10.0],\"y\":[10.0,10.0,15.0,15.0,10.0],\"type\":\"scatter\"},{\"hoverinfo\":\"text\",\"marker\":{\"opacity\":1,\"size\":1},\"mode\":\"markers\",\"showlegend\":false,\"text\":[\"ID: 61.0, Pos(9.74,12.64)\"],\"x\":[9.742606254305354],\"y\":[12.637731927651739],\"type\":\"scatter\"},{\"hoverinfo\":\"text\",\"marker\":{\"opacity\":1,\"size\":1},\"mode\":\"markers\",\"showlegend\":false,\"text\":[\"ID: 62.0, Pos(9.38,13.28)\"],\"x\":[9.379983563550699],\"y\":[13.28265870499573],\"type\":\"scatter\"},{\"hoverinfo\":\"text\",\"marker\":{\"opacity\":1,\"size\":1},\"mode\":\"markers\",\"showlegend\":false,\"text\":[\"ID: 63.0, Pos(6.13,12.20)\"],\"x\":[6.129146389996134],\"y\":[12.203823478505276],\"type\":\"scatter\"},{\"hoverinfo\":\"text\",\"marker\":{\"opacity\":1,\"size\":1},\"mode\":\"markers\",\"showlegend\":false,\"text\":[\"ID: 64.0, Pos(10.92,12.74)\"],\"x\":[10.915774231772211],\"y\":[12.740856767506266],\"type\":\"scatter\"},{\"hoverinfo\":\"text\",\"marker\":{\"opacity\":1,\"size\":1},\"mode\":\"markers\",\"showlegend\":false,\"text\":[\"ID: 65.0, Pos(10.63,13.35)\"],\"x\":[10.627241363432265],\"y\":[13.352590270172316],\"type\":\"scatter\"},{\"hoverinfo\":\"text\",\"marker\":{\"opacity\":1,\"size\":1},\"mode\":\"markers\",\"showlegend\":false,\"text\":[\"ID: 68.0, Pos(8.45,12.67)\"],\"x\":[8.453852797151388],\"y\":[12.673660498207187],\"type\":\"scatter\"},{\"hoverinfo\":\"text\",\"marker\":{\"opacity\":1,\"size\":1},\"mode\":\"markers\",\"showlegend\":false,\"text\":[\"ID: 69.0, Pos(11.85,13.42)\"],\"x\":[11.85332713336349],\"y\":[13.41508363033283],\"type\":\"scatter\"},{\"hoverinfo\":\"text\",\"marker\":{\"opacity\":1,\"size\":1},\"mode\":\"markers\",\"showlegend\":false,\"text\":[\"ID: 70.0, Pos(7.28,12.44)\"],\"x\":[7.281922468978317],\"y\":[12.437818935482397],\"type\":\"scatter\"},{\"hoverinfo\":\"none\",\"marker\":{\"opacity\":0,\"size\":1},\"mode\":\"markers\",\"showlegend\":false,\"x\":[0.0],\"y\":[0.0],\"type\":\"scatter\"},{\"hoverinfo\":\"none\",\"marker\":{\"opacity\":0,\"size\":1},\"mode\":\"markers\",\"showlegend\":false,\"x\":[0.0],\"y\":[0.0],\"type\":\"scatter\"}],\"layout\":{\"shapes\":[{\"fillcolor\":\"rgba(0, 0, 164, 0.5)\",\"line\":{\"color\":\"rgba(0, 0, 164, 0.5)\"},\"type\":\"circle\",\"x0\":9.542606254305355,\"x1\":9.942606254305353,\"xref\":\"x\",\"y0\":12.43773192765174,\"y1\":12.837731927651738,\"yref\":\"y\"},{\"fillcolor\":\"rgba(0, 0, 128, 0.5)\",\"line\":{\"color\":\"rgba(0, 0, 128, 0.5)\"},\"type\":\"circle\",\"x0\":9.1799835635507,\"x1\":9.579983563550698,\"xref\":\"x\",\"y0\":13.082658704995731,\"y1\":13.48265870499573,\"yref\":\"y\"},{\"fillcolor\":\"rgba(0, 0, 164, 0.5)\",\"line\":{\"color\":\"rgba(0, 0, 164, 0.5)\"},\"type\":\"circle\",\"x0\":5.929146389996133,\"x1\":6.329146389996134,\"xref\":\"x\",\"y0\":12.003823478505277,\"y1\":12.403823478505275,\"yref\":\"y\"},{\"fillcolor\":\"rgba(0, 0, 128, 0.5)\",\"line\":{\"color\":\"rgba(0, 0, 128, 0.5)\"},\"type\":\"circle\",\"x0\":10.715774231772212,\"x1\":11.11577423177221,\"xref\":\"x\",\"y0\":12.540856767506266,\"y1\":12.940856767506265,\"yref\":\"y\"},{\"fillcolor\":\"rgba(0, 0, 128, 0.5)\",\"line\":{\"color\":\"rgba(0, 0, 128, 0.5)\"},\"type\":\"circle\",\"x0\":10.427241363432266,\"x1\":10.827241363432265,\"xref\":\"x\",\"y0\":13.152590270172317,\"y1\":13.552590270172315,\"yref\":\"y\"},{\"fillcolor\":\"rgba(0, 0, 128, 0.5)\",\"line\":{\"color\":\"rgba(0, 0, 128, 0.5)\"},\"type\":\"circle\",\"x0\":8.253852797151389,\"x1\":8.653852797151387,\"xref\":\"x\",\"y0\":12.473660498207188,\"y1\":12.873660498207187,\"yref\":\"y\"},{\"fillcolor\":\"rgba(0, 0, 128, 0.5)\",\"line\":{\"color\":\"rgba(0, 0, 128, 0.5)\"},\"type\":\"circle\",\"x0\":11.65332713336349,\"x1\":12.053327133363489,\"xref\":\"x\",\"y0\":13.215083630332831,\"y1\":13.61508363033283,\"yref\":\"y\"},{\"fillcolor\":\"rgba(0, 0, 132, 0.5)\",\"line\":{\"color\":\"rgba(0, 0, 132, 0.5)\"},\"type\":\"circle\",\"x0\":7.081922468978317,\"x1\":7.4819224689783175,\"xref\":\"x\",\"y0\":12.237818935482398,\"y1\":12.637818935482397,\"yref\":\"y\"},{\"fillcolor\":\"rgba(255,255,255,0)\",\"line\":{\"width\":0},\"type\":\"circle\",\"x0\":0.0,\"x1\":0.0,\"xref\":\"x\",\"y0\":0.0,\"y1\":0.0,\"yref\":\"y\"},{\"fillcolor\":\"rgba(255,255,255,0)\",\"line\":{\"width\":0},\"type\":\"circle\",\"x0\":0.0,\"x1\":0.0,\"xref\":\"x\",\"y0\":0.0,\"y1\":0.0,\"yref\":\"y\"},{\"line\":{\"color\":\"white\",\"width\":3},\"type\":\"line\",\"x0\":9.742606254305354,\"x1\":9.93910206225316,\"y0\":12.637731927651739,\"y1\":12.67500654983546},{\"line\":{\"color\":\"white\",\"width\":3},\"type\":\"line\",\"x0\":9.379983563550699,\"x1\":9.576415561609402,\"y0\":13.28265870499573,\"y1\":13.320268147143489},{\"line\":{\"color\":\"white\",\"width\":3},\"type\":\"line\",\"x0\":6.129146389996134,\"x1\":6.325152930942426,\"y0\":12.203823478505276,\"y1\":12.243590750303444},{\"line\":{\"color\":\"white\",\"width\":3},\"type\":\"line\",\"x0\":10.915774231772211,\"x1\":11.112525974903914,\"y0\":12.740856767506266,\"y1\":12.776755953773312},{\"line\":{\"color\":\"white\",\"width\":3},\"type\":\"line\",\"x0\":10.627241363432265,\"x1\":10.81899752238488,\"y0\":13.352590270172316,\"y1\":13.40941962441587},{\"line\":{\"color\":\"white\",\"width\":3},\"type\":\"line\",\"x0\":8.453852797151388,\"x1\":8.649875399127117,\"y0\":12.673660498207187,\"y1\":12.713348525553798},{\"line\":{\"color\":\"white\",\"width\":3},\"type\":\"line\",\"x0\":11.85332713336349,\"x1\":12.050262213419522,\"y0\":13.41508363033283,\"y1\":13.44996305468765},{\"line\":{\"color\":\"white\",\"width\":3},\"type\":\"line\",\"x0\":7.281922468978317,\"x1\":7.477929602954724,\"y0\":12.437818935482397,\"y1\":12.477583284217852},{\"line\":{\"color\":\"rgba(255,255,255,0)\",\"width\":3},\"type\":\"line\",\"x0\":0.0,\"x1\":null,\"y0\":0.0,\"y1\":null},{\"line\":{\"color\":\"rgba(255,255,255,0)\",\"width\":3},\"type\":\"line\",\"x0\":0.0,\"x1\":null,\"y0\":0.0,\"y1\":null}],\"title\":{\"text\":\"\\u003cb\\u003ePercentage using the shortest path: 0%  |  Number of Agents: 8\\u003c\\u002fb\\u003e\",\"x\":0.5}},\"name\":\"600\"},{\"data\":[{\"hoverinfo\":\"name\",\"line\":{\"color\":\"grey\"},\"mode\":\"lines\",\"name\":\"Exterior\",\"showlegend\":false,\"x\":[10.1,10.1,15.0,15.0,13.6,13.6,15.0,15.0,13.6,13.6,15.0,15.0,10.1,10.1,9.9,9.9,5.1,5.1,4.9,4.9,0.0,0.0,1.5,1.5,0.0,0.0,1.5,1.5,0.0,0.0,4.9,4.9,5.1,5.1,9.9,9.9,10.1],\"y\":[1.5,0.0,0.0,4.9,4.9,5.1,5.1,9.9,9.9,10.1,10.1,15.0,15.0,13.6,13.6,15.0,15.0,13.6,13.6,15.0,15.0,10.1,10.1,9.9,9.9,5.1,5.1,4.9,4.9,0.0,0.0,1.5,1.5,0.0,0.0,1.5,1.5],\"type\":\"scatter\"},{\"hoverinfo\":\"name\",\"line\":{\"color\":\"grey\"},\"mode\":\"lines\",\"name\":\"Obstacle\",\"showlegend\":false,\"x\":[10.1,11.5,11.5,10.1,10.1,9.9,9.9,8.6,8.6,9.9,9.9,10.1,10.1],\"y\":[5.1,5.1,4.9,4.9,3.6,3.6,4.9,4.9,5.1,5.1,6.5,6.5,5.1],\"type\":\"scatter\"},{\"hoverinfo\":\"name\",\"line\":{\"color\":\"grey\"},\"mode\":\"lines\",\"name\":\"Obstacle\",\"showlegend\":false,\"x\":[10.1,11.5,11.5,10.1,10.1,9.9,9.9,8.6,8.6,9.9,9.9,10.1,10.1],\"y\":[10.1,10.1,9.9,9.9,8.6,8.6,9.9,9.9,10.1,10.1,11.5,11.5,10.1],\"type\":\"scatter\"},{\"hoverinfo\":\"name\",\"line\":{\"color\":\"grey\"},\"mode\":\"lines\",\"name\":\"Obstacle\",\"showlegend\":false,\"x\":[5.1,6.4,6.4,5.1,5.1,4.9,4.9,3.6,3.6,4.9,4.9,5.1,5.1],\"y\":[5.1,5.1,4.9,4.9,3.6,3.6,4.9,4.9,5.1,5.1,6.5,6.5,5.1],\"type\":\"scatter\"},{\"hoverinfo\":\"name\",\"line\":{\"color\":\"grey\"},\"mode\":\"lines\",\"name\":\"Obstacle\",\"showlegend\":false,\"x\":[5.1,6.4,6.4,5.1,5.1,4.9,4.9,3.6,3.6,4.9,4.9,5.1,5.1],\"y\":[10.1,10.1,9.9,9.9,8.6,8.6,9.9,9.9,10.1,10.1,11.5,11.5,10.1],\"type\":\"scatter\"},{\"fill\":\"toself\",\"fillcolor\":\"rgba(200, 0, 0, 0.40)\",\"hoverinfo\":\"name\",\"line\":{\"width\":0},\"mode\":\"lines\",\"name\":\"Risk Area\",\"showlegend\":false,\"x\":[0.0,5.0,5.0,0.0,0.0],\"y\":[0.0,0.0,5.0,5.0,0.0],\"type\":\"scatter\"},{\"fill\":\"toself\",\"fillcolor\":\"rgba(200, 0, 0, 0.60)\",\"hoverinfo\":\"name\",\"line\":{\"width\":0},\"mode\":\"lines\",\"name\":\"Risk Area\",\"showlegend\":false,\"x\":[5.0,10.0,10.0,5.0,5.0],\"y\":[0.0,0.0,5.0,5.0,0.0],\"type\":\"scatter\"},{\"fill\":\"toself\",\"fillcolor\":\"rgba(200, 0, 0, 0.00)\",\"hoverinfo\":\"name\",\"line\":{\"width\":0},\"mode\":\"lines\",\"name\":\"Risk Area\",\"showlegend\":false,\"x\":[10.0,15.0,15.0,10.0,10.0],\"y\":[0.0,0.0,5.0,5.0,0.0],\"type\":\"scatter\"},{\"fill\":\"toself\",\"fillcolor\":\"rgba(200, 0, 0, 0.60)\",\"hoverinfo\":\"name\",\"line\":{\"width\":0},\"mode\":\"lines\",\"name\":\"Risk Area\",\"showlegend\":false,\"x\":[10.0,15.0,15.0,10.0,10.0],\"y\":[5.0,5.0,10.0,10.0,5.0],\"type\":\"scatter\"},{\"fill\":\"toself\",\"fillcolor\":\"rgba(200, 0, 0, 0.70)\",\"hoverinfo\":\"name\",\"line\":{\"width\":0},\"mode\":\"lines\",\"name\":\"Risk Area\",\"showlegend\":false,\"x\":[5.0,10.0,10.0,5.0,5.0],\"y\":[5.0,5.0,10.0,10.0,5.0],\"type\":\"scatter\"},{\"fill\":\"toself\",\"fillcolor\":\"rgba(200, 0, 0, 0.10)\",\"hoverinfo\":\"name\",\"line\":{\"width\":0},\"mode\":\"lines\",\"name\":\"Risk Area\",\"showlegend\":false,\"x\":[0.0,5.0,5.0,0.0,0.0],\"y\":[5.0,5.0,10.0,10.0,5.0],\"type\":\"scatter\"},{\"fill\":\"toself\",\"fillcolor\":\"rgba(200, 0, 0, 0.20)\",\"hoverinfo\":\"name\",\"line\":{\"width\":0},\"mode\":\"lines\",\"name\":\"Risk Area\",\"showlegend\":false,\"x\":[0.0,5.0,5.0,0.0,0.0],\"y\":[10.0,10.0,15.0,15.0,10.0],\"type\":\"scatter\"},{\"fill\":\"toself\",\"fillcolor\":\"rgba(200, 0, 0, 0.00)\",\"hoverinfo\":\"name\",\"line\":{\"width\":0},\"mode\":\"lines\",\"name\":\"Risk Area\",\"showlegend\":false,\"x\":[5.0,10.0,10.0,5.0,5.0],\"y\":[10.0,10.0,15.0,15.0,10.0],\"type\":\"scatter\"},{\"fill\":\"toself\",\"fillcolor\":\"rgba(200, 0, 0, 0.00)\",\"hoverinfo\":\"name\",\"line\":{\"width\":0},\"mode\":\"lines\",\"name\":\"Risk Area\",\"showlegend\":false,\"x\":[10.0,15.0,15.0,10.0,10.0],\"y\":[10.0,10.0,15.0,15.0,10.0],\"type\":\"scatter\"},{\"hoverinfo\":\"text\",\"marker\":{\"opacity\":1,\"size\":1},\"mode\":\"markers\",\"showlegend\":false,\"text\":[\"ID: 61.0, Pos(11.28,13.00)\"],\"x\":[11.27762185019363],\"y\":[12.998712471927357],\"type\":\"scatter\"},{\"hoverinfo\":\"text\",\"marker\":{\"opacity\":1,\"size\":1},\"mode\":\"markers\",\"showlegend\":false,\"text\":[\"ID: 62.0, Pos(10.35,13.21)\"],\"x\":[10.350566239418493],\"y\":[13.21237240313957],\"type\":\"scatter\"},{\"hoverinfo\":\"text\",\"marker\":{\"opacity\":1,\"size\":1},\"mode\":\"markers\",\"showlegend\":false,\"text\":[\"ID: 63.0, Pos(7.59,12.50)\"],\"x\":[7.594791272356508],\"y\":[12.501184421879056],\"type\":\"scatter\"},{\"hoverinfo\":\"text\",\"marker\":{\"opacity\":1,\"size\":1},\"mode\":\"markers\",\"showlegend\":false,\"text\":[\"ID: 64.0, Pos(12.47,13.12)\"],\"x\":[12.468840597226066],\"y\":[13.121725037262701],\"type\":\"scatter\"},{\"hoverinfo\":\"text\",\"marker\":{\"opacity\":1,\"size\":1},\"mode\":\"markers\",\"showlegend\":false,\"text\":[\"ID: 65.0, Pos(12.18,13.72)\"],\"x\":[12.184629562442007],\"y\":[13.718018306482806],\"type\":\"scatter\"},{\"hoverinfo\":\"text\",\"marker\":{\"opacity\":1,\"size\":1},\"mode\":\"markers\",\"showlegend\":false,\"text\":[\"ID: 68.0, Pos(9.55,12.89)\"],\"x\":[9.554326617672666],\"y\":[12.893401213189449],\"type\":\"scatter\"},{\"hoverinfo\":\"text\",\"marker\":{\"opacity\":1,\"size\":1},\"mode\":\"markers\",\"showlegend\":false,\"text\":[\"ID: 70.0, Pos(8.63,12.71)\"],\"x\":[8.631667651082353],\"y\":[12.711660766618811],\"type\":\"scatter\"},{\"hoverinfo\":\"none\",\"marker\":{\"opacity\":0,\"size\":1},\"mode\":\"markers\",\"showlegend\":false,\"x\":[0.0],\"y\":[0.0],\"type\":\"scatter\"},{\"hoverinfo\":\"none\",\"marker\":{\"opacity\":0,\"size\":1},\"mode\":\"markers\",\"showlegend\":false,\"x\":[0.0],\"y\":[0.0],\"type\":\"scatter\"},{\"hoverinfo\":\"none\",\"marker\":{\"opacity\":0,\"size\":1},\"mode\":\"markers\",\"showlegend\":false,\"x\":[0.0],\"y\":[0.0],\"type\":\"scatter\"}],\"layout\":{\"shapes\":[{\"fillcolor\":\"rgba(0, 0, 132, 0.5)\",\"line\":{\"color\":\"rgba(0, 0, 132, 0.5)\"},\"type\":\"circle\",\"x0\":11.07762185019363,\"x1\":11.477621850193628,\"xref\":\"x\",\"y0\":12.798712471927358,\"y1\":13.198712471927356,\"yref\":\"y\"},{\"fillcolor\":\"rgba(0, 228, 248, 0.5)\",\"line\":{\"color\":\"rgba(0, 228, 248, 0.5)\"},\"type\":\"circle\",\"x0\":10.150566239418493,\"x1\":10.550566239418492,\"xref\":\"x\",\"y0\":13.01237240313957,\"y1\":13.41237240313957,\"yref\":\"y\"},{\"fillcolor\":\"rgba(0, 72, 255, 0.5)\",\"line\":{\"color\":\"rgba(0, 72, 255, 0.5)\"},\"type\":\"circle\",\"x0\":7.394791272356508,\"x1\":7.794791272356508,\"xref\":\"x\",\"y0\":12.301184421879057,\"y1\":12.701184421879056,\"yref\":\"y\"},{\"fillcolor\":\"rgba(0, 0, 128, 0.5)\",\"line\":{\"color\":\"rgba(0, 0, 128, 0.5)\"},\"type\":\"circle\",\"x0\":12.268840597226067,\"x1\":12.668840597226065,\"xref\":\"x\",\"y0\":12.921725037262702,\"y1\":13.3217250372627,\"yref\":\"y\"},{\"fillcolor\":\"rgba(0, 0, 132, 0.5)\",\"line\":{\"color\":\"rgba(0, 0, 132, 0.5)\"},\"type\":\"circle\",\"x0\":11.984629562442008,\"x1\":12.384629562442006,\"xref\":\"x\",\"y0\":13.518018306482807,\"y1\":13.918018306482805,\"yref\":\"y\"},{\"fillcolor\":\"rgba(102, 255, 144, 0.5)\",\"line\":{\"color\":\"rgba(102, 255, 144, 0.5)\"},\"type\":\"circle\",\"x0\":9.354326617672667,\"x1\":9.754326617672666,\"xref\":\"x\",\"y0\":12.69340121318945,\"y1\":13.093401213189448,\"yref\":\"y\"},{\"fillcolor\":\"rgba(9, 240, 238, 0.5)\",\"line\":{\"color\":\"rgba(9, 240, 238, 0.5)\"},\"type\":\"circle\",\"x0\":8.431667651082353,\"x1\":8.831667651082352,\"xref\":\"x\",\"y0\":12.511660766618812,\"y1\":12.91166076661881,\"yref\":\"y\"},{\"fillcolor\":\"rgba(255,255,255,0)\",\"line\":{\"width\":0},\"type\":\"circle\",\"x0\":0.0,\"x1\":0.0,\"xref\":\"x\",\"y0\":0.0,\"y1\":0.0,\"yref\":\"y\"},{\"fillcolor\":\"rgba(255,255,255,0)\",\"line\":{\"width\":0},\"type\":\"circle\",\"x0\":0.0,\"x1\":0.0,\"xref\":\"x\",\"y0\":0.0,\"y1\":0.0,\"yref\":\"y\"},{\"fillcolor\":\"rgba(255,255,255,0)\",\"line\":{\"width\":0},\"type\":\"circle\",\"x0\":0.0,\"x1\":0.0,\"xref\":\"x\",\"y0\":0.0,\"y1\":0.0,\"yref\":\"y\"},{\"line\":{\"color\":\"white\",\"width\":3},\"type\":\"line\",\"x0\":11.27762185019363,\"x1\":11.469306347460957,\"y0\":12.998712471927357,\"y1\":13.055783073005074},{\"line\":{\"color\":\"black\",\"width\":3},\"type\":\"line\",\"x0\":10.350566239418493,\"x1\":10.549236120808883,\"y0\":13.21237240313957,\"y1\":13.235400173946314},{\"line\":{\"color\":\"white\",\"width\":3},\"type\":\"line\",\"x0\":7.594791272356508,\"x1\":7.790797822167233,\"y0\":12.501184421879056,\"y1\":12.540951649985821},{\"line\":{\"color\":\"white\",\"width\":3},\"type\":\"line\",\"x0\":12.468840597226066,\"x1\":12.661833840538243,\"y0\":13.121725037262701,\"y1\":13.17419986966688},{\"line\":{\"color\":\"white\",\"width\":3},\"type\":\"line\",\"x0\":12.184629562442007,\"x1\":12.380278601555311,\"y0\":13.718018306482806,\"y1\":13.759508708915664},{\"line\":{\"color\":\"black\",\"width\":3},\"type\":\"line\",\"x0\":9.554326617672666,\"x1\":9.750484101402915,\"y0\":12.893401213189449,\"y1\":12.932417127591357},{\"line\":{\"color\":\"black\",\"width\":3},\"type\":\"line\",\"x0\":8.631667651082353,\"x1\":8.827672349750529,\"y0\":12.711660766618811,\"y1\":12.751437117632918},{\"line\":{\"color\":\"rgba(255,255,255,0)\",\"width\":3},\"type\":\"line\",\"x0\":0.0,\"x1\":null,\"y0\":0.0,\"y1\":null},{\"line\":{\"color\":\"rgba(255,255,255,0)\",\"width\":3},\"type\":\"line\",\"x0\":0.0,\"x1\":null,\"y0\":0.0,\"y1\":null},{\"line\":{\"color\":\"rgba(255,255,255,0)\",\"width\":3},\"type\":\"line\",\"x0\":0.0,\"x1\":null,\"y0\":0.0,\"y1\":null}],\"title\":{\"text\":\"\\u003cb\\u003ePercentage using the shortest path: 0%  |  Number of Agents: 7\\u003c\\u002fb\\u003e\",\"x\":0.5}},\"name\":\"650\"},{\"data\":[{\"hoverinfo\":\"name\",\"line\":{\"color\":\"grey\"},\"mode\":\"lines\",\"name\":\"Exterior\",\"showlegend\":false,\"x\":[10.1,10.1,15.0,15.0,13.6,13.6,15.0,15.0,13.6,13.6,15.0,15.0,10.1,10.1,9.9,9.9,5.1,5.1,4.9,4.9,0.0,0.0,1.5,1.5,0.0,0.0,1.5,1.5,0.0,0.0,4.9,4.9,5.1,5.1,9.9,9.9,10.1],\"y\":[1.5,0.0,0.0,4.9,4.9,5.1,5.1,9.9,9.9,10.1,10.1,15.0,15.0,13.6,13.6,15.0,15.0,13.6,13.6,15.0,15.0,10.1,10.1,9.9,9.9,5.1,5.1,4.9,4.9,0.0,0.0,1.5,1.5,0.0,0.0,1.5,1.5],\"type\":\"scatter\"},{\"hoverinfo\":\"name\",\"line\":{\"color\":\"grey\"},\"mode\":\"lines\",\"name\":\"Obstacle\",\"showlegend\":false,\"x\":[10.1,11.5,11.5,10.1,10.1,9.9,9.9,8.6,8.6,9.9,9.9,10.1,10.1],\"y\":[5.1,5.1,4.9,4.9,3.6,3.6,4.9,4.9,5.1,5.1,6.5,6.5,5.1],\"type\":\"scatter\"},{\"hoverinfo\":\"name\",\"line\":{\"color\":\"grey\"},\"mode\":\"lines\",\"name\":\"Obstacle\",\"showlegend\":false,\"x\":[10.1,11.5,11.5,10.1,10.1,9.9,9.9,8.6,8.6,9.9,9.9,10.1,10.1],\"y\":[10.1,10.1,9.9,9.9,8.6,8.6,9.9,9.9,10.1,10.1,11.5,11.5,10.1],\"type\":\"scatter\"},{\"hoverinfo\":\"name\",\"line\":{\"color\":\"grey\"},\"mode\":\"lines\",\"name\":\"Obstacle\",\"showlegend\":false,\"x\":[5.1,6.4,6.4,5.1,5.1,4.9,4.9,3.6,3.6,4.9,4.9,5.1,5.1],\"y\":[5.1,5.1,4.9,4.9,3.6,3.6,4.9,4.9,5.1,5.1,6.5,6.5,5.1],\"type\":\"scatter\"},{\"hoverinfo\":\"name\",\"line\":{\"color\":\"grey\"},\"mode\":\"lines\",\"name\":\"Obstacle\",\"showlegend\":false,\"x\":[5.1,6.4,6.4,5.1,5.1,4.9,4.9,3.6,3.6,4.9,4.9,5.1,5.1],\"y\":[10.1,10.1,9.9,9.9,8.6,8.6,9.9,9.9,10.1,10.1,11.5,11.5,10.1],\"type\":\"scatter\"},{\"fill\":\"toself\",\"fillcolor\":\"rgba(200, 0, 0, 0.40)\",\"hoverinfo\":\"name\",\"line\":{\"width\":0},\"mode\":\"lines\",\"name\":\"Risk Area\",\"showlegend\":false,\"x\":[0.0,5.0,5.0,0.0,0.0],\"y\":[0.0,0.0,5.0,5.0,0.0],\"type\":\"scatter\"},{\"fill\":\"toself\",\"fillcolor\":\"rgba(200, 0, 0, 0.60)\",\"hoverinfo\":\"name\",\"line\":{\"width\":0},\"mode\":\"lines\",\"name\":\"Risk Area\",\"showlegend\":false,\"x\":[5.0,10.0,10.0,5.0,5.0],\"y\":[0.0,0.0,5.0,5.0,0.0],\"type\":\"scatter\"},{\"fill\":\"toself\",\"fillcolor\":\"rgba(200, 0, 0, 0.00)\",\"hoverinfo\":\"name\",\"line\":{\"width\":0},\"mode\":\"lines\",\"name\":\"Risk Area\",\"showlegend\":false,\"x\":[10.0,15.0,15.0,10.0,10.0],\"y\":[0.0,0.0,5.0,5.0,0.0],\"type\":\"scatter\"},{\"fill\":\"toself\",\"fillcolor\":\"rgba(200, 0, 0, 0.60)\",\"hoverinfo\":\"name\",\"line\":{\"width\":0},\"mode\":\"lines\",\"name\":\"Risk Area\",\"showlegend\":false,\"x\":[10.0,15.0,15.0,10.0,10.0],\"y\":[5.0,5.0,10.0,10.0,5.0],\"type\":\"scatter\"},{\"fill\":\"toself\",\"fillcolor\":\"rgba(200, 0, 0, 0.70)\",\"hoverinfo\":\"name\",\"line\":{\"width\":0},\"mode\":\"lines\",\"name\":\"Risk Area\",\"showlegend\":false,\"x\":[5.0,10.0,10.0,5.0,5.0],\"y\":[5.0,5.0,10.0,10.0,5.0],\"type\":\"scatter\"},{\"fill\":\"toself\",\"fillcolor\":\"rgba(200, 0, 0, 0.10)\",\"hoverinfo\":\"name\",\"line\":{\"width\":0},\"mode\":\"lines\",\"name\":\"Risk Area\",\"showlegend\":false,\"x\":[0.0,5.0,5.0,0.0,0.0],\"y\":[5.0,5.0,10.0,10.0,5.0],\"type\":\"scatter\"},{\"fill\":\"toself\",\"fillcolor\":\"rgba(200, 0, 0, 0.20)\",\"hoverinfo\":\"name\",\"line\":{\"width\":0},\"mode\":\"lines\",\"name\":\"Risk Area\",\"showlegend\":false,\"x\":[0.0,5.0,5.0,0.0,0.0],\"y\":[10.0,10.0,15.0,15.0,10.0],\"type\":\"scatter\"},{\"fill\":\"toself\",\"fillcolor\":\"rgba(200, 0, 0, 0.00)\",\"hoverinfo\":\"name\",\"line\":{\"width\":0},\"mode\":\"lines\",\"name\":\"Risk Area\",\"showlegend\":false,\"x\":[5.0,10.0,10.0,5.0,5.0],\"y\":[10.0,10.0,15.0,15.0,10.0],\"type\":\"scatter\"},{\"fill\":\"toself\",\"fillcolor\":\"rgba(200, 0, 0, 0.00)\",\"hoverinfo\":\"name\",\"line\":{\"width\":0},\"mode\":\"lines\",\"name\":\"Risk Area\",\"showlegend\":false,\"x\":[10.0,15.0,15.0,10.0,10.0],\"y\":[10.0,10.0,15.0,15.0,10.0],\"type\":\"scatter\"},{\"hoverinfo\":\"text\",\"marker\":{\"opacity\":1,\"size\":1},\"mode\":\"markers\",\"showlegend\":false,\"text\":[\"ID: 62.0, Pos(11.69,13.42)\"],\"x\":[11.685862507302271],\"y\":[13.423640956953937],\"type\":\"scatter\"},{\"hoverinfo\":\"text\",\"marker\":{\"opacity\":1,\"size\":1},\"mode\":\"markers\",\"showlegend\":false,\"text\":[\"ID: 63.0, Pos(8.74,12.73)\"],\"x\":[8.741617928418298],\"y\":[12.733860105874303],\"type\":\"scatter\"},{\"hoverinfo\":\"text\",\"marker\":{\"opacity\":1,\"size\":1},\"mode\":\"markers\",\"showlegend\":false,\"text\":[\"ID: 68.0, Pos(10.65,13.11)\"],\"x\":[10.654139541341102],\"y\":[13.11426061441541],\"type\":\"scatter\"},{\"hoverinfo\":\"text\",\"marker\":{\"opacity\":1,\"size\":1},\"mode\":\"markers\",\"showlegend\":false,\"text\":[\"ID: 70.0, Pos(9.68,12.93)\"],\"x\":[9.684636933551637],\"y\":[12.925330113011452],\"type\":\"scatter\"},{\"hoverinfo\":\"none\",\"marker\":{\"opacity\":0,\"size\":1},\"mode\":\"markers\",\"showlegend\":false,\"x\":[0.0],\"y\":[0.0],\"type\":\"scatter\"},{\"hoverinfo\":\"none\",\"marker\":{\"opacity\":0,\"size\":1},\"mode\":\"markers\",\"showlegend\":false,\"x\":[0.0],\"y\":[0.0],\"type\":\"scatter\"},{\"hoverinfo\":\"none\",\"marker\":{\"opacity\":0,\"size\":1},\"mode\":\"markers\",\"showlegend\":false,\"x\":[0.0],\"y\":[0.0],\"type\":\"scatter\"},{\"hoverinfo\":\"none\",\"marker\":{\"opacity\":0,\"size\":1},\"mode\":\"markers\",\"showlegend\":false,\"x\":[0.0],\"y\":[0.0],\"type\":\"scatter\"},{\"hoverinfo\":\"none\",\"marker\":{\"opacity\":0,\"size\":1},\"mode\":\"markers\",\"showlegend\":false,\"x\":[0.0],\"y\":[0.0],\"type\":\"scatter\"},{\"hoverinfo\":\"none\",\"marker\":{\"opacity\":0,\"size\":1},\"mode\":\"markers\",\"showlegend\":false,\"x\":[0.0],\"y\":[0.0],\"type\":\"scatter\"}],\"layout\":{\"shapes\":[{\"fillcolor\":\"rgba(0, 0, 128, 0.5)\",\"line\":{\"color\":\"rgba(0, 0, 128, 0.5)\"},\"type\":\"circle\",\"x0\":11.485862507302272,\"x1\":11.88586250730227,\"xref\":\"x\",\"y0\":13.223640956953938,\"y1\":13.623640956953937,\"yref\":\"y\"},{\"fillcolor\":\"rgba(0, 208, 255, 0.5)\",\"line\":{\"color\":\"rgba(0, 208, 255, 0.5)\"},\"type\":\"circle\",\"x0\":8.5416179284183,\"x1\":8.941617928418298,\"xref\":\"x\",\"y0\":12.533860105874304,\"y1\":12.933860105874302,\"yref\":\"y\"},{\"fillcolor\":\"rgba(0, 48, 255, 0.5)\",\"line\":{\"color\":\"rgba(0, 48, 255, 0.5)\"},\"type\":\"circle\",\"x0\":10.454139541341103,\"x1\":10.854139541341102,\"xref\":\"x\",\"y0\":12.914260614415412,\"y1\":13.31426061441541,\"yref\":\"y\"},{\"fillcolor\":\"rgba(0, 173, 255, 0.5)\",\"line\":{\"color\":\"rgba(0, 173, 255, 0.5)\"},\"type\":\"circle\",\"x0\":9.484636933551638,\"x1\":9.884636933551636,\"xref\":\"x\",\"y0\":12.725330113011452,\"y1\":13.12533011301145,\"yref\":\"y\"},{\"fillcolor\":\"rgba(255,255,255,0)\",\"line\":{\"width\":0},\"type\":\"circle\",\"x0\":0.0,\"x1\":0.0,\"xref\":\"x\",\"y0\":0.0,\"y1\":0.0,\"yref\":\"y\"},{\"fillcolor\":\"rgba(255,255,255,0)\",\"line\":{\"width\":0},\"type\":\"circle\",\"x0\":0.0,\"x1\":0.0,\"xref\":\"x\",\"y0\":0.0,\"y1\":0.0,\"yref\":\"y\"},{\"fillcolor\":\"rgba(255,255,255,0)\",\"line\":{\"width\":0},\"type\":\"circle\",\"x0\":0.0,\"x1\":0.0,\"xref\":\"x\",\"y0\":0.0,\"y1\":0.0,\"yref\":\"y\"},{\"fillcolor\":\"rgba(255,255,255,0)\",\"line\":{\"width\":0},\"type\":\"circle\",\"x0\":0.0,\"x1\":0.0,\"xref\":\"x\",\"y0\":0.0,\"y1\":0.0,\"yref\":\"y\"},{\"fillcolor\":\"rgba(255,255,255,0)\",\"line\":{\"width\":0},\"type\":\"circle\",\"x0\":0.0,\"x1\":0.0,\"xref\":\"x\",\"y0\":0.0,\"y1\":0.0,\"yref\":\"y\"},{\"fillcolor\":\"rgba(255,255,255,0)\",\"line\":{\"width\":0},\"type\":\"circle\",\"x0\":0.0,\"x1\":0.0,\"xref\":\"x\",\"y0\":0.0,\"y1\":0.0,\"yref\":\"y\"},{\"line\":{\"color\":\"white\",\"width\":3},\"type\":\"line\",\"x0\":11.685862507302271,\"x1\":11.883395866418066,\"y0\":13.423640956953937,\"y1\":13.454955043822796},{\"line\":{\"color\":\"black\",\"width\":3},\"type\":\"line\",\"x0\":8.741617928418298,\"x1\":8.937624510573293,\"y0\":12.733860105874303,\"y1\":12.77362717456081},{\"line\":{\"color\":\"white\",\"width\":3},\"type\":\"line\",\"x0\":10.654139541341102,\"x1\":10.850072918718501,\"y0\":13.11426061441541,\"y1\":13.15438681071516},{\"line\":{\"color\":\"black\",\"width\":3},\"type\":\"line\",\"x0\":9.684636933551637,\"x1\":9.880656004330056,\"y0\":12.925330113011452,\"y1\":12.965035577259652},{\"line\":{\"color\":\"rgba(255,255,255,0)\",\"width\":3},\"type\":\"line\",\"x0\":0.0,\"x1\":null,\"y0\":0.0,\"y1\":null},{\"line\":{\"color\":\"rgba(255,255,255,0)\",\"width\":3},\"type\":\"line\",\"x0\":0.0,\"x1\":null,\"y0\":0.0,\"y1\":null},{\"line\":{\"color\":\"rgba(255,255,255,0)\",\"width\":3},\"type\":\"line\",\"x0\":0.0,\"x1\":null,\"y0\":0.0,\"y1\":null},{\"line\":{\"color\":\"rgba(255,255,255,0)\",\"width\":3},\"type\":\"line\",\"x0\":0.0,\"x1\":null,\"y0\":0.0,\"y1\":null},{\"line\":{\"color\":\"rgba(255,255,255,0)\",\"width\":3},\"type\":\"line\",\"x0\":0.0,\"x1\":null,\"y0\":0.0,\"y1\":null},{\"line\":{\"color\":\"rgba(255,255,255,0)\",\"width\":3},\"type\":\"line\",\"x0\":0.0,\"x1\":null,\"y0\":0.0,\"y1\":null}],\"title\":{\"text\":\"\\u003cb\\u003ePercentage using the shortest path: 0%  |  Number of Agents: 4\\u003c\\u002fb\\u003e\",\"x\":0.5}},\"name\":\"700\"},{\"data\":[{\"hoverinfo\":\"name\",\"line\":{\"color\":\"grey\"},\"mode\":\"lines\",\"name\":\"Exterior\",\"showlegend\":false,\"x\":[10.1,10.1,15.0,15.0,13.6,13.6,15.0,15.0,13.6,13.6,15.0,15.0,10.1,10.1,9.9,9.9,5.1,5.1,4.9,4.9,0.0,0.0,1.5,1.5,0.0,0.0,1.5,1.5,0.0,0.0,4.9,4.9,5.1,5.1,9.9,9.9,10.1],\"y\":[1.5,0.0,0.0,4.9,4.9,5.1,5.1,9.9,9.9,10.1,10.1,15.0,15.0,13.6,13.6,15.0,15.0,13.6,13.6,15.0,15.0,10.1,10.1,9.9,9.9,5.1,5.1,4.9,4.9,0.0,0.0,1.5,1.5,0.0,0.0,1.5,1.5],\"type\":\"scatter\"},{\"hoverinfo\":\"name\",\"line\":{\"color\":\"grey\"},\"mode\":\"lines\",\"name\":\"Obstacle\",\"showlegend\":false,\"x\":[10.1,11.5,11.5,10.1,10.1,9.9,9.9,8.6,8.6,9.9,9.9,10.1,10.1],\"y\":[5.1,5.1,4.9,4.9,3.6,3.6,4.9,4.9,5.1,5.1,6.5,6.5,5.1],\"type\":\"scatter\"},{\"hoverinfo\":\"name\",\"line\":{\"color\":\"grey\"},\"mode\":\"lines\",\"name\":\"Obstacle\",\"showlegend\":false,\"x\":[10.1,11.5,11.5,10.1,10.1,9.9,9.9,8.6,8.6,9.9,9.9,10.1,10.1],\"y\":[10.1,10.1,9.9,9.9,8.6,8.6,9.9,9.9,10.1,10.1,11.5,11.5,10.1],\"type\":\"scatter\"},{\"hoverinfo\":\"name\",\"line\":{\"color\":\"grey\"},\"mode\":\"lines\",\"name\":\"Obstacle\",\"showlegend\":false,\"x\":[5.1,6.4,6.4,5.1,5.1,4.9,4.9,3.6,3.6,4.9,4.9,5.1,5.1],\"y\":[5.1,5.1,4.9,4.9,3.6,3.6,4.9,4.9,5.1,5.1,6.5,6.5,5.1],\"type\":\"scatter\"},{\"hoverinfo\":\"name\",\"line\":{\"color\":\"grey\"},\"mode\":\"lines\",\"name\":\"Obstacle\",\"showlegend\":false,\"x\":[5.1,6.4,6.4,5.1,5.1,4.9,4.9,3.6,3.6,4.9,4.9,5.1,5.1],\"y\":[10.1,10.1,9.9,9.9,8.6,8.6,9.9,9.9,10.1,10.1,11.5,11.5,10.1],\"type\":\"scatter\"},{\"fill\":\"toself\",\"fillcolor\":\"rgba(200, 0, 0, 0.50)\",\"hoverinfo\":\"name\",\"line\":{\"width\":0},\"mode\":\"lines\",\"name\":\"Risk Area\",\"showlegend\":false,\"x\":[0.0,5.0,5.0,0.0,0.0],\"y\":[0.0,0.0,5.0,5.0,0.0],\"type\":\"scatter\"},{\"fill\":\"toself\",\"fillcolor\":\"rgba(200, 0, 0, 0.60)\",\"hoverinfo\":\"name\",\"line\":{\"width\":0},\"mode\":\"lines\",\"name\":\"Risk Area\",\"showlegend\":false,\"x\":[5.0,10.0,10.0,5.0,5.0],\"y\":[0.0,0.0,5.0,5.0,0.0],\"type\":\"scatter\"},{\"fill\":\"toself\",\"fillcolor\":\"rgba(200, 0, 0, 0.00)\",\"hoverinfo\":\"name\",\"line\":{\"width\":0},\"mode\":\"lines\",\"name\":\"Risk Area\",\"showlegend\":false,\"x\":[10.0,15.0,15.0,10.0,10.0],\"y\":[0.0,0.0,5.0,5.0,0.0],\"type\":\"scatter\"},{\"fill\":\"toself\",\"fillcolor\":\"rgba(200, 0, 0, 0.60)\",\"hoverinfo\":\"name\",\"line\":{\"width\":0},\"mode\":\"lines\",\"name\":\"Risk Area\",\"showlegend\":false,\"x\":[10.0,15.0,15.0,10.0,10.0],\"y\":[5.0,5.0,10.0,10.0,5.0],\"type\":\"scatter\"},{\"fill\":\"toself\",\"fillcolor\":\"rgba(200, 0, 0, 0.70)\",\"hoverinfo\":\"name\",\"line\":{\"width\":0},\"mode\":\"lines\",\"name\":\"Risk Area\",\"showlegend\":false,\"x\":[5.0,10.0,10.0,5.0,5.0],\"y\":[5.0,5.0,10.0,10.0,5.0],\"type\":\"scatter\"},{\"fill\":\"toself\",\"fillcolor\":\"rgba(200, 0, 0, 0.10)\",\"hoverinfo\":\"name\",\"line\":{\"width\":0},\"mode\":\"lines\",\"name\":\"Risk Area\",\"showlegend\":false,\"x\":[0.0,5.0,5.0,0.0,0.0],\"y\":[5.0,5.0,10.0,10.0,5.0],\"type\":\"scatter\"},{\"fill\":\"toself\",\"fillcolor\":\"rgba(200, 0, 0, 0.20)\",\"hoverinfo\":\"name\",\"line\":{\"width\":0},\"mode\":\"lines\",\"name\":\"Risk Area\",\"showlegend\":false,\"x\":[0.0,5.0,5.0,0.0,0.0],\"y\":[10.0,10.0,15.0,15.0,10.0],\"type\":\"scatter\"},{\"fill\":\"toself\",\"fillcolor\":\"rgba(200, 0, 0, 0.00)\",\"hoverinfo\":\"name\",\"line\":{\"width\":0},\"mode\":\"lines\",\"name\":\"Risk Area\",\"showlegend\":false,\"x\":[5.0,10.0,10.0,5.0,5.0],\"y\":[10.0,10.0,15.0,15.0,10.0],\"type\":\"scatter\"},{\"fill\":\"toself\",\"fillcolor\":\"rgba(200, 0, 0, 0.00)\",\"hoverinfo\":\"name\",\"line\":{\"width\":0},\"mode\":\"lines\",\"name\":\"Risk Area\",\"showlegend\":false,\"x\":[10.0,15.0,15.0,10.0,10.0],\"y\":[10.0,10.0,15.0,15.0,10.0],\"type\":\"scatter\"},{\"hoverinfo\":\"text\",\"marker\":{\"opacity\":1,\"size\":1},\"mode\":\"markers\",\"showlegend\":false,\"text\":[\"ID: 63.0, Pos(9.95,12.98)\"],\"x\":[9.947557755440393],\"y\":[12.978154016301048],\"type\":\"scatter\"},{\"hoverinfo\":\"text\",\"marker\":{\"opacity\":1,\"size\":1},\"mode\":\"markers\",\"showlegend\":false,\"text\":[\"ID: 68.0, Pos(12.14,13.42)\"],\"x\":[12.141512472572108],\"y\":[13.41960279497249],\"type\":\"scatter\"},{\"hoverinfo\":\"text\",\"marker\":{\"opacity\":1,\"size\":1},\"mode\":\"markers\",\"showlegend\":false,\"text\":[\"ID: 70.0, Pos(11.01,13.19)\"],\"x\":[11.010465495627006],\"y\":[13.192163218662815],\"type\":\"scatter\"},{\"hoverinfo\":\"none\",\"marker\":{\"opacity\":0,\"size\":1},\"mode\":\"markers\",\"showlegend\":false,\"x\":[0.0],\"y\":[0.0],\"type\":\"scatter\"},{\"hoverinfo\":\"none\",\"marker\":{\"opacity\":0,\"size\":1},\"mode\":\"markers\",\"showlegend\":false,\"x\":[0.0],\"y\":[0.0],\"type\":\"scatter\"},{\"hoverinfo\":\"none\",\"marker\":{\"opacity\":0,\"size\":1},\"mode\":\"markers\",\"showlegend\":false,\"x\":[0.0],\"y\":[0.0],\"type\":\"scatter\"},{\"hoverinfo\":\"none\",\"marker\":{\"opacity\":0,\"size\":1},\"mode\":\"markers\",\"showlegend\":false,\"x\":[0.0],\"y\":[0.0],\"type\":\"scatter\"},{\"hoverinfo\":\"none\",\"marker\":{\"opacity\":0,\"size\":1},\"mode\":\"markers\",\"showlegend\":false,\"x\":[0.0],\"y\":[0.0],\"type\":\"scatter\"},{\"hoverinfo\":\"none\",\"marker\":{\"opacity\":0,\"size\":1},\"mode\":\"markers\",\"showlegend\":false,\"x\":[0.0],\"y\":[0.0],\"type\":\"scatter\"},{\"hoverinfo\":\"none\",\"marker\":{\"opacity\":0,\"size\":1},\"mode\":\"markers\",\"showlegend\":false,\"x\":[0.0],\"y\":[0.0],\"type\":\"scatter\"}],\"layout\":{\"shapes\":[{\"fillcolor\":\"rgba(0, 37, 255, 0.5)\",\"line\":{\"color\":\"rgba(0, 37, 255, 0.5)\"},\"type\":\"circle\",\"x0\":9.747557755440393,\"x1\":10.147557755440392,\"xref\":\"x\",\"y0\":12.778154016301048,\"y1\":13.178154016301047,\"yref\":\"y\"},{\"fillcolor\":\"rgba(0, 0, 128, 0.5)\",\"line\":{\"color\":\"rgba(0, 0, 128, 0.5)\"},\"type\":\"circle\",\"x0\":11.941512472572109,\"x1\":12.341512472572107,\"xref\":\"x\",\"y0\":13.219602794972491,\"y1\":13.61960279497249,\"yref\":\"y\"},{\"fillcolor\":\"rgba(0, 0, 200, 0.5)\",\"line\":{\"color\":\"rgba(0, 0, 200, 0.5)\"},\"type\":\"circle\",\"x0\":10.810465495627007,\"x1\":11.210465495627005,\"xref\":\"x\",\"y0\":12.992163218662816,\"y1\":13.392163218662814,\"yref\":\"y\"},{\"fillcolor\":\"rgba(255,255,255,0)\",\"line\":{\"width\":0},\"type\":\"circle\",\"x0\":0.0,\"x1\":0.0,\"xref\":\"x\",\"y0\":0.0,\"y1\":0.0,\"yref\":\"y\"},{\"fillcolor\":\"rgba(255,255,255,0)\",\"line\":{\"width\":0},\"type\":\"circle\",\"x0\":0.0,\"x1\":0.0,\"xref\":\"x\",\"y0\":0.0,\"y1\":0.0,\"yref\":\"y\"},{\"fillcolor\":\"rgba(255,255,255,0)\",\"line\":{\"width\":0},\"type\":\"circle\",\"x0\":0.0,\"x1\":0.0,\"xref\":\"x\",\"y0\":0.0,\"y1\":0.0,\"yref\":\"y\"},{\"fillcolor\":\"rgba(255,255,255,0)\",\"line\":{\"width\":0},\"type\":\"circle\",\"x0\":0.0,\"x1\":0.0,\"xref\":\"x\",\"y0\":0.0,\"y1\":0.0,\"yref\":\"y\"},{\"fillcolor\":\"rgba(255,255,255,0)\",\"line\":{\"width\":0},\"type\":\"circle\",\"x0\":0.0,\"x1\":0.0,\"xref\":\"x\",\"y0\":0.0,\"y1\":0.0,\"yref\":\"y\"},{\"fillcolor\":\"rgba(255,255,255,0)\",\"line\":{\"width\":0},\"type\":\"circle\",\"x0\":0.0,\"x1\":0.0,\"xref\":\"x\",\"y0\":0.0,\"y1\":0.0,\"yref\":\"y\"},{\"fillcolor\":\"rgba(255,255,255,0)\",\"line\":{\"width\":0},\"type\":\"circle\",\"x0\":0.0,\"x1\":0.0,\"xref\":\"x\",\"y0\":0.0,\"y1\":0.0,\"yref\":\"y\"},{\"line\":{\"color\":\"white\",\"width\":3},\"type\":\"line\",\"x0\":9.947557755440393,\"x1\":10.143667116703917,\"y0\":12.978154016301048,\"y1\":13.017411097507024},{\"line\":{\"color\":\"white\",\"width\":3},\"type\":\"line\",\"x0\":12.141512472572108,\"x1\":12.33742242571293,\"y0\":13.41960279497249,\"y1\":13.45984320079004},{\"line\":{\"color\":\"white\",\"width\":3},\"type\":\"line\",\"x0\":11.010465495627006,\"x1\":11.206443977150437,\"y0\":13.192163218662815,\"y1\":13.232068541362553},{\"line\":{\"color\":\"rgba(255,255,255,0)\",\"width\":3},\"type\":\"line\",\"x0\":0.0,\"x1\":null,\"y0\":0.0,\"y1\":null},{\"line\":{\"color\":\"rgba(255,255,255,0)\",\"width\":3},\"type\":\"line\",\"x0\":0.0,\"x1\":null,\"y0\":0.0,\"y1\":null},{\"line\":{\"color\":\"rgba(255,255,255,0)\",\"width\":3},\"type\":\"line\",\"x0\":0.0,\"x1\":null,\"y0\":0.0,\"y1\":null},{\"line\":{\"color\":\"rgba(255,255,255,0)\",\"width\":3},\"type\":\"line\",\"x0\":0.0,\"x1\":null,\"y0\":0.0,\"y1\":null},{\"line\":{\"color\":\"rgba(255,255,255,0)\",\"width\":3},\"type\":\"line\",\"x0\":0.0,\"x1\":null,\"y0\":0.0,\"y1\":null},{\"line\":{\"color\":\"rgba(255,255,255,0)\",\"width\":3},\"type\":\"line\",\"x0\":0.0,\"x1\":null,\"y0\":0.0,\"y1\":null},{\"line\":{\"color\":\"rgba(255,255,255,0)\",\"width\":3},\"type\":\"line\",\"x0\":0.0,\"x1\":null,\"y0\":0.0,\"y1\":null}],\"title\":{\"text\":\"\\u003cb\\u003ePercentage using the shortest path: 0%  |  Number of Agents: 3\\u003c\\u002fb\\u003e\",\"x\":0.5}},\"name\":\"750\"},{\"data\":[{\"hoverinfo\":\"name\",\"line\":{\"color\":\"grey\"},\"mode\":\"lines\",\"name\":\"Exterior\",\"showlegend\":false,\"x\":[10.1,10.1,15.0,15.0,13.6,13.6,15.0,15.0,13.6,13.6,15.0,15.0,10.1,10.1,9.9,9.9,5.1,5.1,4.9,4.9,0.0,0.0,1.5,1.5,0.0,0.0,1.5,1.5,0.0,0.0,4.9,4.9,5.1,5.1,9.9,9.9,10.1],\"y\":[1.5,0.0,0.0,4.9,4.9,5.1,5.1,9.9,9.9,10.1,10.1,15.0,15.0,13.6,13.6,15.0,15.0,13.6,13.6,15.0,15.0,10.1,10.1,9.9,9.9,5.1,5.1,4.9,4.9,0.0,0.0,1.5,1.5,0.0,0.0,1.5,1.5],\"type\":\"scatter\"},{\"hoverinfo\":\"name\",\"line\":{\"color\":\"grey\"},\"mode\":\"lines\",\"name\":\"Obstacle\",\"showlegend\":false,\"x\":[10.1,11.5,11.5,10.1,10.1,9.9,9.9,8.6,8.6,9.9,9.9,10.1,10.1],\"y\":[5.1,5.1,4.9,4.9,3.6,3.6,4.9,4.9,5.1,5.1,6.5,6.5,5.1],\"type\":\"scatter\"},{\"hoverinfo\":\"name\",\"line\":{\"color\":\"grey\"},\"mode\":\"lines\",\"name\":\"Obstacle\",\"showlegend\":false,\"x\":[10.1,11.5,11.5,10.1,10.1,9.9,9.9,8.6,8.6,9.9,9.9,10.1,10.1],\"y\":[10.1,10.1,9.9,9.9,8.6,8.6,9.9,9.9,10.1,10.1,11.5,11.5,10.1],\"type\":\"scatter\"},{\"hoverinfo\":\"name\",\"line\":{\"color\":\"grey\"},\"mode\":\"lines\",\"name\":\"Obstacle\",\"showlegend\":false,\"x\":[5.1,6.4,6.4,5.1,5.1,4.9,4.9,3.6,3.6,4.9,4.9,5.1,5.1],\"y\":[5.1,5.1,4.9,4.9,3.6,3.6,4.9,4.9,5.1,5.1,6.5,6.5,5.1],\"type\":\"scatter\"},{\"hoverinfo\":\"name\",\"line\":{\"color\":\"grey\"},\"mode\":\"lines\",\"name\":\"Obstacle\",\"showlegend\":false,\"x\":[5.1,6.4,6.4,5.1,5.1,4.9,4.9,3.6,3.6,4.9,4.9,5.1,5.1],\"y\":[10.1,10.1,9.9,9.9,8.6,8.6,9.9,9.9,10.1,10.1,11.5,11.5,10.1],\"type\":\"scatter\"},{\"fill\":\"toself\",\"fillcolor\":\"rgba(200, 0, 0, 0.50)\",\"hoverinfo\":\"name\",\"line\":{\"width\":0},\"mode\":\"lines\",\"name\":\"Risk Area\",\"showlegend\":false,\"x\":[0.0,5.0,5.0,0.0,0.0],\"y\":[0.0,0.0,5.0,5.0,0.0],\"type\":\"scatter\"},{\"fill\":\"toself\",\"fillcolor\":\"rgba(200, 0, 0, 0.60)\",\"hoverinfo\":\"name\",\"line\":{\"width\":0},\"mode\":\"lines\",\"name\":\"Risk Area\",\"showlegend\":false,\"x\":[5.0,10.0,10.0,5.0,5.0],\"y\":[0.0,0.0,5.0,5.0,0.0],\"type\":\"scatter\"},{\"fill\":\"toself\",\"fillcolor\":\"rgba(200, 0, 0, 0.10)\",\"hoverinfo\":\"name\",\"line\":{\"width\":0},\"mode\":\"lines\",\"name\":\"Risk Area\",\"showlegend\":false,\"x\":[10.0,15.0,15.0,10.0,10.0],\"y\":[0.0,0.0,5.0,5.0,0.0],\"type\":\"scatter\"},{\"fill\":\"toself\",\"fillcolor\":\"rgba(200, 0, 0, 0.60)\",\"hoverinfo\":\"name\",\"line\":{\"width\":0},\"mode\":\"lines\",\"name\":\"Risk Area\",\"showlegend\":false,\"x\":[10.0,15.0,15.0,10.0,10.0],\"y\":[5.0,5.0,10.0,10.0,5.0],\"type\":\"scatter\"},{\"fill\":\"toself\",\"fillcolor\":\"rgba(200, 0, 0, 0.70)\",\"hoverinfo\":\"name\",\"line\":{\"width\":0},\"mode\":\"lines\",\"name\":\"Risk Area\",\"showlegend\":false,\"x\":[5.0,10.0,10.0,5.0,5.0],\"y\":[5.0,5.0,10.0,10.0,5.0],\"type\":\"scatter\"},{\"fill\":\"toself\",\"fillcolor\":\"rgba(200, 0, 0, 0.10)\",\"hoverinfo\":\"name\",\"line\":{\"width\":0},\"mode\":\"lines\",\"name\":\"Risk Area\",\"showlegend\":false,\"x\":[0.0,5.0,5.0,0.0,0.0],\"y\":[5.0,5.0,10.0,10.0,5.0],\"type\":\"scatter\"},{\"fill\":\"toself\",\"fillcolor\":\"rgba(200, 0, 0, 0.20)\",\"hoverinfo\":\"name\",\"line\":{\"width\":0},\"mode\":\"lines\",\"name\":\"Risk Area\",\"showlegend\":false,\"x\":[0.0,5.0,5.0,0.0,0.0],\"y\":[10.0,10.0,15.0,15.0,10.0],\"type\":\"scatter\"},{\"fill\":\"toself\",\"fillcolor\":\"rgba(200, 0, 0, 0.00)\",\"hoverinfo\":\"name\",\"line\":{\"width\":0},\"mode\":\"lines\",\"name\":\"Risk Area\",\"showlegend\":false,\"x\":[5.0,10.0,10.0,5.0,5.0],\"y\":[10.0,10.0,15.0,15.0,10.0],\"type\":\"scatter\"},{\"fill\":\"toself\",\"fillcolor\":\"rgba(200, 0, 0, 0.00)\",\"hoverinfo\":\"name\",\"line\":{\"width\":0},\"mode\":\"lines\",\"name\":\"Risk Area\",\"showlegend\":false,\"x\":[10.0,15.0,15.0,10.0,10.0],\"y\":[10.0,10.0,15.0,15.0,10.0],\"type\":\"scatter\"},{\"hoverinfo\":\"text\",\"marker\":{\"opacity\":1,\"size\":1},\"mode\":\"markers\",\"showlegend\":false,\"text\":[\"ID: 63.0, Pos(11.40,13.27)\"],\"x\":[11.404565648073874],\"y\":[13.272305591321116],\"type\":\"scatter\"},{\"hoverinfo\":\"none\",\"marker\":{\"opacity\":0,\"size\":1},\"mode\":\"markers\",\"showlegend\":false,\"x\":[0.0],\"y\":[0.0],\"type\":\"scatter\"},{\"hoverinfo\":\"none\",\"marker\":{\"opacity\":0,\"size\":1},\"mode\":\"markers\",\"showlegend\":false,\"x\":[0.0],\"y\":[0.0],\"type\":\"scatter\"},{\"hoverinfo\":\"none\",\"marker\":{\"opacity\":0,\"size\":1},\"mode\":\"markers\",\"showlegend\":false,\"x\":[0.0],\"y\":[0.0],\"type\":\"scatter\"},{\"hoverinfo\":\"none\",\"marker\":{\"opacity\":0,\"size\":1},\"mode\":\"markers\",\"showlegend\":false,\"x\":[0.0],\"y\":[0.0],\"type\":\"scatter\"},{\"hoverinfo\":\"none\",\"marker\":{\"opacity\":0,\"size\":1},\"mode\":\"markers\",\"showlegend\":false,\"x\":[0.0],\"y\":[0.0],\"type\":\"scatter\"},{\"hoverinfo\":\"none\",\"marker\":{\"opacity\":0,\"size\":1},\"mode\":\"markers\",\"showlegend\":false,\"x\":[0.0],\"y\":[0.0],\"type\":\"scatter\"},{\"hoverinfo\":\"none\",\"marker\":{\"opacity\":0,\"size\":1},\"mode\":\"markers\",\"showlegend\":false,\"x\":[0.0],\"y\":[0.0],\"type\":\"scatter\"},{\"hoverinfo\":\"none\",\"marker\":{\"opacity\":0,\"size\":1},\"mode\":\"markers\",\"showlegend\":false,\"x\":[0.0],\"y\":[0.0],\"type\":\"scatter\"},{\"hoverinfo\":\"none\",\"marker\":{\"opacity\":0,\"size\":1},\"mode\":\"markers\",\"showlegend\":false,\"x\":[0.0],\"y\":[0.0],\"type\":\"scatter\"}],\"layout\":{\"shapes\":[{\"fillcolor\":\"rgba(0, 0, 137, 0.5)\",\"line\":{\"color\":\"rgba(0, 0, 137, 0.5)\"},\"type\":\"circle\",\"x0\":11.204565648073874,\"x1\":11.604565648073873,\"xref\":\"x\",\"y0\":13.072305591321117,\"y1\":13.472305591321115,\"yref\":\"y\"},{\"fillcolor\":\"rgba(255,255,255,0)\",\"line\":{\"width\":0},\"type\":\"circle\",\"x0\":0.0,\"x1\":0.0,\"xref\":\"x\",\"y0\":0.0,\"y1\":0.0,\"yref\":\"y\"},{\"fillcolor\":\"rgba(255,255,255,0)\",\"line\":{\"width\":0},\"type\":\"circle\",\"x0\":0.0,\"x1\":0.0,\"xref\":\"x\",\"y0\":0.0,\"y1\":0.0,\"yref\":\"y\"},{\"fillcolor\":\"rgba(255,255,255,0)\",\"line\":{\"width\":0},\"type\":\"circle\",\"x0\":0.0,\"x1\":0.0,\"xref\":\"x\",\"y0\":0.0,\"y1\":0.0,\"yref\":\"y\"},{\"fillcolor\":\"rgba(255,255,255,0)\",\"line\":{\"width\":0},\"type\":\"circle\",\"x0\":0.0,\"x1\":0.0,\"xref\":\"x\",\"y0\":0.0,\"y1\":0.0,\"yref\":\"y\"},{\"fillcolor\":\"rgba(255,255,255,0)\",\"line\":{\"width\":0},\"type\":\"circle\",\"x0\":0.0,\"x1\":0.0,\"xref\":\"x\",\"y0\":0.0,\"y1\":0.0,\"yref\":\"y\"},{\"fillcolor\":\"rgba(255,255,255,0)\",\"line\":{\"width\":0},\"type\":\"circle\",\"x0\":0.0,\"x1\":0.0,\"xref\":\"x\",\"y0\":0.0,\"y1\":0.0,\"yref\":\"y\"},{\"fillcolor\":\"rgba(255,255,255,0)\",\"line\":{\"width\":0},\"type\":\"circle\",\"x0\":0.0,\"x1\":0.0,\"xref\":\"x\",\"y0\":0.0,\"y1\":0.0,\"yref\":\"y\"},{\"fillcolor\":\"rgba(255,255,255,0)\",\"line\":{\"width\":0},\"type\":\"circle\",\"x0\":0.0,\"x1\":0.0,\"xref\":\"x\",\"y0\":0.0,\"y1\":0.0,\"yref\":\"y\"},{\"fillcolor\":\"rgba(255,255,255,0)\",\"line\":{\"width\":0},\"type\":\"circle\",\"x0\":0.0,\"x1\":0.0,\"xref\":\"x\",\"y0\":0.0,\"y1\":0.0,\"yref\":\"y\"},{\"line\":{\"color\":\"white\",\"width\":3},\"type\":\"line\",\"x0\":11.404565648073874,\"x1\":11.600542252982242,\"y0\":13.272305591321116,\"y1\":13.312220129131155},{\"line\":{\"color\":\"rgba(255,255,255,0)\",\"width\":3},\"type\":\"line\",\"x0\":0.0,\"x1\":null,\"y0\":0.0,\"y1\":null},{\"line\":{\"color\":\"rgba(255,255,255,0)\",\"width\":3},\"type\":\"line\",\"x0\":0.0,\"x1\":null,\"y0\":0.0,\"y1\":null},{\"line\":{\"color\":\"rgba(255,255,255,0)\",\"width\":3},\"type\":\"line\",\"x0\":0.0,\"x1\":null,\"y0\":0.0,\"y1\":null},{\"line\":{\"color\":\"rgba(255,255,255,0)\",\"width\":3},\"type\":\"line\",\"x0\":0.0,\"x1\":null,\"y0\":0.0,\"y1\":null},{\"line\":{\"color\":\"rgba(255,255,255,0)\",\"width\":3},\"type\":\"line\",\"x0\":0.0,\"x1\":null,\"y0\":0.0,\"y1\":null},{\"line\":{\"color\":\"rgba(255,255,255,0)\",\"width\":3},\"type\":\"line\",\"x0\":0.0,\"x1\":null,\"y0\":0.0,\"y1\":null},{\"line\":{\"color\":\"rgba(255,255,255,0)\",\"width\":3},\"type\":\"line\",\"x0\":0.0,\"x1\":null,\"y0\":0.0,\"y1\":null},{\"line\":{\"color\":\"rgba(255,255,255,0)\",\"width\":3},\"type\":\"line\",\"x0\":0.0,\"x1\":null,\"y0\":0.0,\"y1\":null},{\"line\":{\"color\":\"rgba(255,255,255,0)\",\"width\":3},\"type\":\"line\",\"x0\":0.0,\"x1\":null,\"y0\":0.0,\"y1\":null}],\"title\":{\"text\":\"\\u003cb\\u003ePercentage using the shortest path: 0%  |  Number of Agents: 1\\u003c\\u002fb\\u003e\",\"x\":0.5}},\"name\":\"800\"}]);\n                        }).then(function(){\n                            \nvar gd = document.getElementById('8dd440a3-367e-498e-bf8e-5684720a70be');\nvar x = new MutationObserver(function (mutations, observer) {{\n        var display = window.getComputedStyle(gd).display;\n        if (!display || display === 'none') {{\n            console.log([gd, 'removed!']);\n            Plotly.purge(gd);\n            observer.disconnect();\n        }}\n}});\n\n// Listen for the removal of the full notebook cells\nvar notebookContainer = gd.closest('#notebook-container');\nif (notebookContainer) {{\n    x.observe(notebookContainer, {childList: true});\n}}\n\n// Listen for the clearing of the current output cell\nvar outputEl = gd.closest('.output');\nif (outputEl) {{\n    x.observe(outputEl, {childList: true});\n}}\n\n                        })                };                });            </script>        </div>"
     },
     "metadata": {},
     "output_type": "display_data"
    }
   ],
   "source": [
    "agent_trajectories = {}\n",
    "for percentage in percentages:\n",
    "    trajectory_file = trajectory_files[percentage]\n",
    "    agent_trajectories[percentage], walkable_area = read_sqlite_file(\n",
    "        trajectory_file\n",
    "    )\n",
    "    animate(\n",
    "        agent_trajectories[percentage],\n",
    "        walkable_area,\n",
    "        title_note=f\"Percentage using the shortest path: {percentage}%\",\n",
    "        risk_per_frame=all_risks,\n",
    "        specific_areas=specific_areas\n",
    "    ).show()"
   ],
   "metadata": {
    "collapsed": false
   }
  },
  {
   "cell_type": "code",
   "execution_count": 112,
   "outputs": [],
   "source": [],
   "metadata": {
    "collapsed": false
   }
  }
 ],
 "metadata": {
  "kernelspec": {
   "display_name": "Python 3",
   "language": "python",
   "name": "python3"
  },
  "language_info": {
   "codemirror_mode": {
    "name": "ipython",
    "version": 2
   },
   "file_extension": ".py",
   "mimetype": "text/x-python",
   "name": "python",
   "nbconvert_exporter": "python",
   "pygments_lexer": "ipython2",
   "version": "2.7.6"
  }
 },
 "nbformat": 4,
 "nbformat_minor": 0
}
