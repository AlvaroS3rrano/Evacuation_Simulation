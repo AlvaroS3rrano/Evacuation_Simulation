{
 "cells": [
  {
   "cell_type": "markdown",
   "source": [
    "# Centrality Measures"
   ],
   "metadata": {
    "collapsed": false
   }
  },
  {
   "cell_type": "code",
   "execution_count": 49,
   "outputs": [],
   "source": [
    "import pathlib\n",
    "\n",
    "import jupedsim as jps\n",
    "import matplotlib.pyplot as plt\n",
    "import pedpy\n",
    "import shapely\n",
    "import sqlite3\n",
    "from matplotlib.patches import Circle\n",
    "from shapely import Polygon\n",
    "import networkx as nx\n",
    "from jupedsim.internal.notebook_utils import animate, read_sqlite_file\n",
    "%matplotlib inline\n",
    "import plotly.graph_objects as go\n",
    "\n",
    "# from Py.centralityMeasures import centralityMeasuresAlgorithm\n",
    "from Py.RiskSimulationValues import RiskSimulationValues\n",
    "from Py.DangerSimulation import *\n",
    "from Py.animation import animate\n",
    "from Py.pathAlgorithms import get_sortest_path, centralityMeasuresAlgorithm\n",
    "from Py.simulation_config import SimulationConfig\n",
    "\n",
    "try:\n",
    "    %reload_ext autoreload\n",
    "except:\n",
    "    %load_ext autoreload\n",
    "%autoreload 2"
   ],
   "metadata": {
    "collapsed": false
   }
  },
  {
   "cell_type": "code",
   "execution_count": 50,
   "outputs": [],
   "source": [
    "complete_area = Polygon(\n",
    "    [\n",
    "        (0, 0),\n",
    "        (0, 15),\n",
    "        (15, 15),\n",
    "        (15, 0),\n",
    "    ]\n",
    ")\n",
    "obstacles = [\n",
    "    #bottom\n",
    "    Polygon([(4.9, 0.0), (4.9, 1.5), (5.1, 1.5),(5.1, 0.0)]),\n",
    "    Polygon([(9.9, 0.0), (9.9, 1.5), (10.1, 1.5),(10.1, 0.0)]),\n",
    "    #right\n",
    "    Polygon([(13.6, 4.9), (15, 4.9), (15, 5.1),(13.6, 5.1)]),\n",
    "    Polygon([(13.6, 9.9), (15, 9.9), (15, 10.1),(13.6, 10.1)]),\n",
    "    #top\n",
    "    Polygon([(4.9, 15), (4.9, 13.6), (5.1, 13.6),(5.1, 15)]),\n",
    "    Polygon([(9.9, 15), (9.9, 13.6), (10.1, 13.6),(10.1, 15)]),\n",
    "    #left\n",
    "    Polygon([(1.5, 4.9), (0, 4.9), (0, 5.1),(1.5, 5.1)]),\n",
    "    Polygon([(1.5, 9.9), (0, 9.9), (0, 10.1),(1.5, 10.1)]),\n",
    "    #center\n",
    "    ## bottom left\n",
    "    Polygon([(3.6, 4.9), (4.9, 4.9), (4.9, 3.6), (5.1, 3.6), (5.1, 4.9), (6.4, 4.9), (6.4, 5.1), (5.1, 5.1), (5.1, 6.5), (4.9, 6.5), (4.9, 5.1), (3.6, 5.1)  ]),\n",
    "    ## bottom right\n",
    "    Polygon([(8.6, 4.9), (9.9, 4.9), (9.9, 3.6), (10.1, 3.6), (10.1, 4.9), (11.5, 4.9), (11.5, 5.1), (10.1, 5.1), (10.1, 6.5), (9.9, 6.5), (9.9, 5.1), (8.6, 5.1)  ]),\n",
    "    ## top left\n",
    "    Polygon([(3.6, 9.9), (4.9, 9.9), (4.9, 8.6), (5.1, 8.6), (5.1, 9.9), (6.4, 9.9), (6.4, 10.1), (5.1, 10.1), (5.1, 11.5), (4.9, 11.5), (4.9, 10.1), (3.6, 10.1)  ]),\n",
    "    ## top right\n",
    "    Polygon([(8.6, 9.9), (9.9, 9.9), (9.9, 8.6), (10.1, 8.6), (10.1, 9.9), (11.5, 9.9), (11.5, 10.1), (10.1, 10.1), (10.1, 11.5), (9.9, 11.5), (9.9, 10.1), (8.6, 10.1)  ]),\n",
    "\n",
    "]\n",
    "exit_polygons = {'I': [(12.5, 12.5), (15, 12.5), (15, 15), (12.5, 15)]}\n",
    "waypoints = {'B':([7.5, 2.5], 1.5), 'C':([12.5, 2.5], 1.5), 'D':([12.5, 7.5], 1.5), 'E':([7.5, 7.5], 1.5), 'F':([2.5, 7.5], 1.5), 'G':([2.5, 12.5], 1.5), 'H':([7.5, 12.5], 1.5)}\n",
    "distribution_polygon = Polygon([[0, 0], [5, 0], [5, 5], [0, 5]])\n",
    "obstacle = shapely.union_all(obstacles)  # combines obstacle polygons into only one polygon\n",
    "walkable_area = pedpy.WalkableArea(\n",
    "    shapely.difference(complete_area, obstacle))  # difference subtracts obstacle form complete_area"
   ],
   "metadata": {
    "collapsed": false
   }
  },
  {
   "cell_type": "code",
   "execution_count": 51,
   "outputs": [
    {
     "data": {
      "text/plain": "Text(2.5, 2.5, 'Start')"
     },
     "execution_count": 51,
     "metadata": {},
     "output_type": "execute_result"
    },
    {
     "data": {
      "text/plain": "<Figure size 640x480 with 1 Axes>",
      "image/png": "[encoded data removed]"
     },
     "metadata": {},
     "output_type": "display_data"
    }
   ],
   "source": [
    "fig, ax = plt.subplots(nrows=1, ncols=1)\n",
    "ax.set_aspect(\"equal\")\n",
    "pedpy.plot_walkable_area(walkable_area=walkable_area, axes=ax)\n",
    "\n",
    "for idx, (waypoint, distance) in waypoints.items():\n",
    "    ax.plot(waypoint[0], waypoint[1], \"ro\")\n",
    "    ax.annotate(\n",
    "        f\"{idx}\",\n",
    "        (waypoint[0], waypoint[1]),\n",
    "        textcoords=\"offset points\",\n",
    "        xytext=(10, -15),\n",
    "        ha=\"center\",\n",
    "    )\n",
    "    circle = Circle(\n",
    "        (waypoint[0], waypoint[1]), distance, fc=\"red\", ec=\"red\", alpha=0.1\n",
    "    )\n",
    "    ax.add_patch(circle)\n",
    "for name, exit_polygon in exit_polygons.items():\n",
    "    x, y = Polygon(exit_polygon).exterior.xy\n",
    "    plt.fill(x, y, alpha=0.1, color=\"orange\")\n",
    "    centroid = Polygon(exit_polygon).centroid\n",
    "    plt.text(centroid.x, centroid.y, f\"Exit {name}\", ha=\"center\", va=\"center\", fontsize=8)\n",
    "\n",
    "x, y = distribution_polygon.exterior.xy\n",
    "plt.fill(x, y, alpha=0.1, color=\"blue\")\n",
    "centroid = distribution_polygon.centroid\n",
    "plt.text(centroid.x, centroid.y, \"Start\", ha=\"center\", va=\"center\", fontsize=10)"
   ],
   "metadata": {
    "collapsed": false
   }
  },
  {
   "cell_type": "code",
   "execution_count": 52,
   "outputs": [],
   "source": [
    "def remove_obstacles_from_areas(specific_areas, obstacles):\n",
    "    \"\"\"\n",
    "    Removes obstacles from specific areas by subtracting overlapping polygons.\n",
    "\n",
    "    Args:\n",
    "        specific_areas (dict): Dictionary of named areas {name: Polygon}.\n",
    "        obstacles (list): List of Polygon objects representing obstacles.\n",
    "\n",
    "    Returns:\n",
    "        dict: Dictionary of cleaned areas {name: Polygon without obstacles}.\n",
    "    \"\"\"\n",
    "    cleaned_areas = {}\n",
    "\n",
    "    for name, area in specific_areas.items():\n",
    "        # Subtract all obstacles from the current area\n",
    "        cleaned_area = area\n",
    "        for obstacle in obstacles:\n",
    "            if cleaned_area.intersects(obstacle):  # Only process if they overlap\n",
    "                cleaned_area = cleaned_area.difference(obstacle)\n",
    "\n",
    "        # Store the cleaned area in the dictionary\n",
    "        cleaned_areas[name] = cleaned_area\n",
    "\n",
    "    return cleaned_areas"
   ],
   "metadata": {
    "collapsed": false
   }
  },
  {
   "cell_type": "code",
   "execution_count": 53,
   "outputs": [],
   "source": [
    "specific_areas = dict()\n",
    "specific_areas['A'] = Polygon([(0,0), (5,0), (5,5), (0,5)])\n",
    "specific_areas['B'] = Polygon([(5,0), (10,0), (10,5), (5,5)])\n",
    "specific_areas['C'] = Polygon([(10,0), (15,0), (15,5), (10,5)])\n",
    "specific_areas['D'] = Polygon([(10,5), (15,5), (15,10), (10,10)])\n",
    "specific_areas['E'] = Polygon([(5,5), (10,5), (10,10), (5,10)])\n",
    "specific_areas['F'] = Polygon([(0,5), (5,5), (5,10), (0,10)])\n",
    "specific_areas['G'] = Polygon([(0,10), (5,10), (5,15), (0,15)])\n",
    "specific_areas['H'] = Polygon([(5,10), (10,10), (10,15), (5,15)])\n",
    "specific_areas['I'] = Polygon([(10,10), (15,10), (15,15), (10,15)])"
   ],
   "metadata": {
    "collapsed": false
   }
  },
  {
   "cell_type": "code",
   "execution_count": 54,
   "outputs": [],
   "source": [
    "specific_areas = remove_obstacles_from_areas(specific_areas, obstacles)"
   ],
   "metadata": {
    "collapsed": false
   }
  },
  {
   "cell_type": "markdown",
   "source": [
    "## Configuration of Simulation Scenarios"
   ],
   "metadata": {
    "collapsed": false
   }
  },
  {
   "cell_type": "code",
   "execution_count": 55,
   "outputs": [],
   "source": [
    "# Dictionary to store simulations for different percentages of agents\n",
    "simulations = {}\n",
    "\n",
    "# List of percentages of agents that will be used in the simulation\n",
    "percentages = [0]\n",
    "\n",
    "# Total number of agents in the simulation (not currently used in this snippet)\n",
    "total_agents = 10\n",
    "\n",
    "# Loop over each percentage value to create a corresponding simulation\n",
    "for percentage in percentages:\n",
    "    # Define the output file path for storing the simulation trajectories\n",
    "    trajectory_file = f\"../../sqlite_data/centrality_measures_percentage_{percentage}.sqlite\"\n",
    "\n",
    "    # Create a new simulation instance using JPS (JuPedSim)\n",
    "    simulation = jps.Simulation(\n",
    "        model=jps.CollisionFreeSpeedModel(  # Define the agent movement model\n",
    "            strength_neighbor_repulsion=2.6,  # Strength of repulsion between neighboring agents\n",
    "            range_neighbor_repulsion=0.1,  # Distance at which agents start repelling each other\n",
    "            range_geometry_repulsion=0.05,  # Distance at which agents start avoiding obstacles\n",
    "        ),\n",
    "        geometry=walkable_area.polygon,  # Define the walkable area for the simulation\n",
    "        trajectory_writer=jps.SqliteTrajectoryWriter(  # Specify where to store simulation results\n",
    "            output_file=pathlib.Path(trajectory_file),  # Save output to the specified SQLite file\n",
    "        ),\n",
    "    )\n",
    "\n",
    "    # Store the simulation object in the dictionary using the percentage as a key\n",
    "    simulations[percentage] = simulation"
   ],
   "metadata": {
    "collapsed": false
   }
  },
  {
   "cell_type": "markdown",
   "source": [
    "## Choosing the path\n"
   ],
   "metadata": {
    "collapsed": false
   }
  },
  {
   "cell_type": "code",
   "execution_count": 56,
   "outputs": [],
   "source": [
    "# Create the graph\n",
    "G = nx.DiGraph()\n",
    "\n",
    "# Nodos y sus niveles iniciales de riesgo (0 a 1)\n",
    "nodes = {\n",
    "    \"A\": 0.0, \"B\": 0.6, \"C\": 0.0,\n",
    "    \"D\": 0.6, \"E\": 0.6, \"F\": 0.1,\n",
    "    \"G\": 0.0, \"H\": 0.0, \"I\": 0.0,\n",
    "}\n",
    "\n",
    "# Agregar nodos al grafo\n",
    "for node, risk in nodes.items():\n",
    "    G.add_node(node, risk=risk)\n",
    "\n",
    "# Definir las conexiones entre nodos\n",
    "edges = [\n",
    "    (\"A\", \"B\"), (\"A\", \"F\"), (\"B\", \"A\"), (\"B\", \"E\"), (\"B\", \"C\"),\n",
    "    (\"C\", \"B\"), (\"C\", \"D\"), (\"D\", \"I\"), (\"D\", \"E\"), (\"D\", \"C\"),\n",
    "    (\"E\", \"D\"), (\"E\", \"F\"), (\"E\", \"B\"), (\"E\", \"H\"), (\"F\", \"A\"),\n",
    "    (\"F\", \"E\"), (\"F\", \"G\"), (\"G\", \"F\"), (\"G\", \"H\"), (\"H\", \"E\"),\n",
    "    (\"H\", \"G\"), (\"H\", \"I\"),\n",
    "]\n",
    "\n",
    "# Agregar las aristas con un costo fijo (se puede ajustar)\n",
    "G.add_edges_from([(u, v, {\"cost\": 3}) for u, v in edges])\n",
    "\n",
    "# Parameters for calculation\n",
    "source = \"A\"  # Source nodes\n",
    "targets = [\"I\"]  # Target nodes\n",
    "\n",
    "# Calculate all efficient paths between source-target pairs\n",
    "gamma = 0.2  # Time tolerance factor\n",
    "\n",
    "_, _, best_paths = centralityMeasuresAlgorithm(G, source, targets, gamma)"
   ],
   "metadata": {
    "collapsed": false
   }
  },
  {
   "cell_type": "markdown",
   "source": [
    "## Outlining Agent Journeys"
   ],
   "metadata": {
    "collapsed": false
   }
  },
  {
   "cell_type": "code",
   "execution_count": 57,
   "outputs": [],
   "source": [
    "def create_journeys_for_simulation(start, paths, waypoint_ids, exit_ids):\n",
    "    \"\"\"\n",
    "    Generates journey descriptions for simulation agents using the best paths obtained previously.\n",
    "\n",
    "    Args:\n",
    "        start (str): The starting node in the graph.\n",
    "        paths (list): A list of paths (each path is a list of nodes).\n",
    "        waypoint_ids (dict): A dictionary mapping graph node IDs to simulation waypoint IDs.\n",
    "        exit_ids (dict): A dictionary mapping exit nodes to simulation exit IDs.\n",
    "\n",
    "    Returns:\n",
    "        list: A list of tuples, where each tuple contains:\n",
    "              - A jps.JourneyDescription object describing the agent's journey.\n",
    "              - The original path (a list of nodes) used to generate the journey.\n",
    "    \"\"\"\n",
    "    if not paths:\n",
    "        raise ValueError(f\"No valid paths found from {start}.\")\n",
    "\n",
    "    journeys = []\n",
    "    # Iterate over each path from the best_paths list.\n",
    "    for path in paths:\n",
    "        # Skip paths that do not have at least two nodes (start and end are required).\n",
    "        if len(path) < 2:\n",
    "            continue\n",
    "\n",
    "        # Map the intermediate graph nodes to simulation waypoint IDs,\n",
    "        # excluding the start and end nodes.\n",
    "        needed_waypoints = [waypoint_ids[node] for node in path[1:-1]]\n",
    "        if not needed_waypoints:\n",
    "            continue\n",
    "\n",
    "        # Ensure that the exit node (last node in the path) exists in the exit_ids dictionary.\n",
    "        if path[-1] not in exit_ids:\n",
    "            continue\n",
    "\n",
    "        # Create a JourneyDescription using the intermediate waypoints and append the exit stage.\n",
    "        journey = jps.JourneyDescription([*needed_waypoints, exit_ids[path[-1]]])\n",
    "\n",
    "        # Configure transitions between waypoints.\n",
    "        for idx, waypoint in enumerate(needed_waypoints):\n",
    "            # If it's the last waypoint, the next stage is the exit (mapped from exit_ids);\n",
    "            # otherwise, the next stage is the following waypoint.\n",
    "            next_waypoint = exit_ids[path[-1]] if idx == len(needed_waypoints) - 1 else needed_waypoints[idx + 1]\n",
    "            journey.set_transition_for_stage(\n",
    "                waypoint, jps.Transition.create_fixed_transition(next_waypoint)\n",
    "            )\n",
    "\n",
    "        # Append the journey description along with its corresponding path.\n",
    "        journeys.append((journey, path))\n",
    "\n",
    "    return journeys"
   ],
   "metadata": {
    "collapsed": false
   }
  },
  {
   "cell_type": "code",
   "execution_count": 58,
   "outputs": [],
   "source": [
    "def set_journeys(simulation, start, paths, waypoints, exit_ids):\n",
    "    \"\"\"\n",
    "    Configures agent journeys in the simulation by setting up waypoints, exit stages,\n",
    "    and journey paths between a start and end point.\n",
    "\n",
    "    Args:\n",
    "        simulation (jps.Simulation): The simulation instance where journeys are added.\n",
    "        start (str): The starting node in the graph.\n",
    "        end (str): The destination node in the graph.\n",
    "        paths (dict): A list of paths (each path is a list of nodes)\n",
    "        waypoints (dict): A dictionary mapping nodes to waypoints and their associated distances.\n",
    "\n",
    "    Returns:\n",
    "        tuple:\n",
    "            - journeys_id (dict): A dictionary mapping the starting node to a list of tuples\n",
    "              (journey ID, path) for each journey.\n",
    "            - waypoint_ids (dict): A dictionary mapping nodes to waypoint IDs in the simulation.\n",
    "    \"\"\"\n",
    "\n",
    "    # Initialize a dictionary to store waypoint IDs\n",
    "    waypoint_ids = {}\n",
    "\n",
    "    # Convert waypoints into simulation waypoints with associated distances\n",
    "    for node, (waypoint, distance) in waypoints.items():\n",
    "        waypoint_ids[node] = simulation.add_waypoint_stage(waypoint, distance)\n",
    "\n",
    "    # Generate different journey paths using the provided graph information\n",
    "    journeys = create_journeys_for_simulation(start, paths, waypoint_ids, exit_ids)\n",
    "\n",
    "    # Initialize a dictionary to store journey IDs and their associated paths\n",
    "    journeys_id = {}\n",
    "\n",
    "    # Iterate over the generated journeys and their respective paths\n",
    "    for journey, path in journeys:\n",
    "        # Add the journey to the simulation and retrieve its unique ID\n",
    "        journey_id = simulation.add_journey(journey)\n",
    "\n",
    "        # Ensure the starting node is initialized in the dictionary\n",
    "        if start not in journeys_id:\n",
    "            journeys_id[start] = []\n",
    "\n",
    "        # Store the journey ID and its corresponding path in the dictionary\n",
    "        journeys_id[start].append((journey_id, path))\n",
    "\n",
    "    # Return the journey mapping and waypoint IDs\n",
    "    return journeys_id, waypoint_ids"
   ],
   "metadata": {
    "collapsed": false
   }
  },
  {
   "cell_type": "markdown",
   "source": [
    "## Allocate Agents"
   ],
   "metadata": {
    "collapsed": false
   }
  },
  {
   "cell_type": "code",
   "execution_count": 59,
   "outputs": [],
   "source": [
    "positions = jps.distribute_by_number(\n",
    "    polygon=distribution_polygon,\n",
    "    number_of_agents=total_agents,\n",
    "    distance_to_agents=0.4,\n",
    "    distance_to_polygon=0.7,\n",
    "    seed=45131502,\n",
    ")"
   ],
   "metadata": {
    "collapsed": false
   }
  },
  {
   "cell_type": "markdown",
   "source": [
    "## Launching the Simulation"
   ],
   "metadata": {
    "collapsed": false
   }
  },
  {
   "cell_type": "code",
   "execution_count": 60,
   "outputs": [],
   "source": [
    "def update_group_paths(simulation_config, risk_per_node, agent_group, risk_threshold=0.5):\n",
    "    \"\"\"\n",
    "    Updates the paths of a group of agents based on the current node of the first agent in the group.\n",
    "    If the path is considered unsafe, all agents in the group are updated.\n",
    "\n",
    "    Args:\n",
    "        simulation_config (SimulationConfig): An instance of SimulationConfig containing:\n",
    "            - simulation: The simulation object managing agents and the environment.\n",
    "            - every_nth_frame (int): The interval at which agent paths are updated.\n",
    "            - waypoints_ids (dict): Mapping of graph node to simulation waypoint IDs.\n",
    "            - journeys_ids (dict): Mapping of journey identifiers to tuples (journey_id, path).\n",
    "        risk_per_node (dict): Mapping of graph node to risk in said node.\n",
    "        agent_group (tuple): Tuple containing a list of agent IDs and the current path.\n",
    "        risk_threshold (float): Risk threshold above which a path segment is considered unsafe.\n",
    "\n",
    "    Returns:\n",
    "        tuple: Updated agent_group tuple with the new path, or the original if no update was made.\n",
    "    \"\"\"\n",
    "\n",
    "    agents_ids, current_path = agent_group\n",
    "    if not agents_ids:\n",
    "        # No agents in the group\n",
    "        return agent_group\n",
    "\n",
    "    # Get the ID of the agent in the middle of the group\n",
    "    # first_agent_id = agents_ids[(len(agents_ids) // 2) - 1] !!!!!!!!!!!!!!!!!!!!\n",
    "    first_agent_id = agents_ids[0]\n",
    "    # Check if the first agent still exists in the simulation\n",
    "    agent_exists = any(agent.id == first_agent_id for agent in simulation_config.simulation.agents())\n",
    "    if not agent_exists:\n",
    "        # The first agent no longer exists in the simulation\n",
    "        return agent_group\n",
    "\n",
    "    # Retrieve the first agent to evaluate the group's path\n",
    "    agent = simulation_config.simulation.agent(first_agent_id)\n",
    "\n",
    "    current_stage = agent.stage_id  # Current stage ID of the agent\n",
    "    next_node = None\n",
    "\n",
    "    # Find the node associated with the agent's current stage\n",
    "    for node, waypoint in simulation_config.waypoints_ids.items():\n",
    "        if waypoint == current_stage:\n",
    "            next_node = node\n",
    "            break\n",
    "\n",
    "    # If the next node is not found, exit\n",
    "    if not next_node:\n",
    "        return agent_group\n",
    "\n",
    "    # Get the current node the agent is heading to\n",
    "    index = current_path.index(next_node) - 1\n",
    "    current_node = current_path[index]\n",
    "\n",
    "    # Check if the next node is dangerous\n",
    "    if risk_per_node[next_node] < risk_threshold:\n",
    "        # The next node is safe; no changes needed\n",
    "        return agent_group\n",
    "\n",
    "    # If the next node is dangerous, search for alternative paths that pass through the current node\n",
    "    alternative_paths = []\n",
    "    for journey_id, path in simulation_config.journeys_ids.get(\"A\", []):  # Assuming all paths start from \"A\" !!!!!!!!!!!!!!\n",
    "        if current_node in path:\n",
    "            # Get the segment of the path from the current node to the end\n",
    "            start_index = path.index(current_node)\n",
    "            remaining_path = path[start_index:]\n",
    "\n",
    "            # Calculate the total risk of the remaining path\n",
    "            total_risk = sum(risk_per_node[node] for node in remaining_path)\n",
    "\n",
    "            # Add the path and its risk if it's below the threshold\n",
    "            alternative_paths.append((journey_id, remaining_path, total_risk))\n",
    "\n",
    "    if alternative_paths :\n",
    "        # Select the best alternative path (lowest risk)\n",
    "        best_path = min(alternative_paths, key=lambda x: x[2])  # Minimice total risk\n",
    "        new_journey_id = best_path[0]\n",
    "        remaining_path = best_path[1]\n",
    "\n",
    "        # Determine the next node in the path\n",
    "        if len(remaining_path) > 1:\n",
    "            next_node = remaining_path[1]\n",
    "            next_stage_id = simulation_config.waypoints_ids[next_node]\n",
    "\n",
    "            # Update all agents in the group to the new journey and stage\n",
    "            for agent_id in agents_ids:\n",
    "                simulation_config.simulation.switch_agent_journey(agent_id, new_journey_id, next_stage_id)\n",
    "\n",
    "            # Return the updated agent_group tuple with the new path\n",
    "            return (agents_ids, remaining_path)\n",
    "\n",
    "    # If no update was made, return the original agent_group\n",
    "    return agent_group"
   ],
   "metadata": {
    "collapsed": false
   }
  },
  {
   "cell_type": "code",
   "execution_count": 61,
   "outputs": [],
   "source": [
    "def simulate_risk(riskSimulationValues, every_nth_frame, G, connection):\n",
    "    \"\"\"\n",
    "    Simulates risk propagation in a graph over multiple frames and stores the results in a database.\n",
    "\n",
    "    Args:\n",
    "        iterations (int): Total number of frames to simulate.\n",
    "        every_nth_frame (int): Interval of frames at which risk updates are performed.\n",
    "        G (networkx.Graph): Graph where each node has a \"risk\" attribute.\n",
    "        propagation_chance (float): Probability of risk spreading between connected nodes.\n",
    "        increase_chance (float): Probability of individual nodes increasing their risk.\n",
    "        connection (sqlite3.Connection): Open SQLite database connection to store risk data.\n",
    "    \"\"\"\n",
    "    # Validate the input arguments\n",
    "    if riskSimulationValues.iterations <= 0:\n",
    "        raise ValueError(\"iterations must be a positive integer.\")\n",
    "    if every_nth_frame <= 0:\n",
    "        raise ValueError(\"every_nth_frame must be a positive integer.\")\n",
    "\n",
    "    for frame in range(riskSimulationValues.iterations + 1):\n",
    "        if frame == 0:\n",
    "            # Save the initial risk levels of all nodes before any updates\n",
    "            try:\n",
    "                write_risk_levels(connection, 0, {node: G.nodes[node][\"risk\"] for node in G.nodes})\n",
    "            except Exception as e:\n",
    "                print(f\"Error writing initial risks: {e}\")\n",
    "            continue\n",
    "\n",
    "        if frame % every_nth_frame == 0:\n",
    "            try:\n",
    "                # Update risks in the graph based on propagation and increase chances\n",
    "                update_risk(G, riskSimulationValues.propagation_chance, riskSimulationValues.increase_chance)\n",
    "                # Save the updated risk levels for the current frame\n",
    "                write_risk_levels(connection, frame, {node: G.nodes[node][\"risk\"] for node in G.nodes})\n",
    "            except Exception as e:\n",
    "                print(f\"Error updating risks at frame {frame}: {e}\")"
   ],
   "metadata": {
    "collapsed": false
   }
  },
  {
   "cell_type": "code",
   "execution_count": 62,
   "outputs": [],
   "source": [
    "def run_agent_simulation(simulation_config, agent_group, risk_threshold):\n",
    "    \"\"\"\n",
    "    Runs the agent simulation, updating agent paths based on current risk levels retrieved from the database.\n",
    "\n",
    "    Args:\n",
    "        simulation_config (SimulationConfig): An instance of SimulationConfig containing:\n",
    "            - simulation: The simulation object managing agents and the environment.\n",
    "            - every_nth_frame (int): The interval at which agent paths are updated.\n",
    "            - waypoints_ids (dict): Mapping of graph node IDs to simulation waypoint IDs.\n",
    "            - journeys_ids (dict): Mapping of journey identifiers to tuples (journey_id, path).\n",
    "        agent_group (tuple): A tuple representing the current group of agents and their associated paths.\n",
    "        risk_threshold (float): The risk level threshold above which agents will attempt to avoid high-risk areas.\n",
    "    \"\"\"\n",
    "    while simulation_config.simulation.agent_count() > 0:\n",
    "        # Advance the simulation by one frame\n",
    "        simulation_config.simulation.iterate()\n",
    "        frame = simulation_config.simulation.iteration_count()\n",
    "\n",
    "        # Update agent paths only at specified intervals\n",
    "        if frame % every_nth_frame == 0:\n",
    "            try:\n",
    "                # Fetch risk levels for the current frame from the database\n",
    "                risk_this_frame = get_risk_levels_by_frame(connection, frame)\n",
    "\n",
    "                # Update paths for the agents based on current risks and threshold\n",
    "                agent_group = update_group_paths(\n",
    "                    simulation_config, risk_this_frame, agent_group, risk_threshold=risk_threshold\n",
    "                )\n",
    "            except Exception as e:\n",
    "                print(f\"Error updating paths at frame {frame}: {e}\")"
   ],
   "metadata": {
    "collapsed": false
   }
  },
  {
   "cell_type": "code",
   "execution_count": 63,
   "outputs": [],
   "source": [
    "# False -> to use the default risk evolution, True -> random risk evolution\n",
    "use_random_risk_layout = True"
   ],
   "metadata": {
    "collapsed": false
   }
  },
  {
   "cell_type": "code",
   "execution_count": 66,
   "outputs": [
    {
     "name": "stdout",
     "output_type": "stream",
     "text": [
      "{'A': [(19, ['A', 'B', 'E', 'D', 'I']), (20, ['A', 'B', 'E', 'H', 'I']), (21, ['A', 'F', 'E', 'D', 'I']), (22, ['A', 'F', 'E', 'H', 'I']), (23, ['A', 'B', 'C', 'D', 'I']), (24, ['A', 'F', 'G', 'H', 'I'])]}\n"
     ]
    }
   ],
   "source": [
    "trajectory_files = {}\n",
    "for percentage, simulation in simulations.items():\n",
    "\n",
    "    exit_ids = {}\n",
    "    for node, exit_polygon in exit_polygons.items():\n",
    "        exit_ids[node] = simulation.add_exit_stage(exit_polygon)\n",
    "\n",
    "    # Set up journeys and waypoints for the simulation\n",
    "    journeys_ids, waypoints_ids = set_journeys(\n",
    "        simulation, source, best_paths, waypoints, exit_ids  # sources[0] -> start, targets[0] -> exit\n",
    "    )\n",
    "\n",
    "    print(journeys_ids)\n",
    "\n",
    "    simulation_config = SimulationConfig(simulation, every_nth_frame, waypoints_ids, journeys_ids)\n",
    "\n",
    "    # Retrieve the best path for the first source and its associated journey ID\n",
    "    journey_id, best_path_source = journeys_ids[source][0]\n",
    "    next_node = best_path_source[1]  # Get the next node on the best path\n",
    "    first_waypoint_id = waypoints_ids[next_node]  # Determine the waypoint ID for the next node\n",
    "\n",
    "    # Calculate the number of items based on the percentage of positions\n",
    "    num_items = int(len(positions) * (percentage / 100.0))\n",
    "\n",
    "    # Initialize an agent group\n",
    "    agents = []\n",
    "    for position in positions[num_items:]:  # Use the second half of the positions\n",
    "        # Add agents with specified parameters (e.g., position, journey, velocity)\n",
    "        agents.append(\n",
    "            simulation.add_agent(\n",
    "                jps.CollisionFreeSpeedModelAgentParameters(\n",
    "                    position=position,       # Initial position of the agent\n",
    "                    journey_id=journey_id,   # Journey ID for the agent\n",
    "                    stage_id=first_waypoint_id,  # Starting waypoint for the agent\n",
    "                    v0=0.8                   # Desired maximum speed of the agent\n",
    "                )\n",
    "            )\n",
    "        )\n",
    "    agent_group = (agents, best_path_source)  # Group the agents with their best path\n",
    "\n",
    "    # Simulation parameters\n",
    "    every_nth_frame = 50  # Interval of frames for risk updates\n",
    "    riskSimulationValues = RiskSimulationValues(3000, 0.005, 0.09)\n",
    "\n",
    "    # Establish a connection to the appropriate SQLite database\n",
    "    default_connection_file = \"../../sqlite_data/default_centrality_measures_risks.db\" # default risk evolution file\n",
    "    new_connection_file = \"../../sqlite_data/centrality_measures_risks.db\" # random risk evolution file\n",
    "    if use_random_risk_layout:\n",
    "        connection_file = new_connection_file  # Use new database if random risk layout is enabled\n",
    "    else:\n",
    "        connection_file = default_connection_file  # Use default database otherwise\n",
    "\n",
    "    connection = sqlite3.connect(connection_file)\n",
    "\n",
    "    try:\n",
    "        if use_random_risk_layout:\n",
    "            # Create or reset the risk table if random risk layout is enabled\n",
    "            create_risk_table(connection)\n",
    "\n",
    "            # Simulate risk propagation and store results in the database\n",
    "            simulate_risk(riskSimulationValues, every_nth_frame, G, connection)\n",
    "\n",
    "        # Run the agent simulation, updating paths based on the risk levels\n",
    "        run_agent_simulation(\n",
    "            simulation_config,\n",
    "            agent_group,\n",
    "            risk_threshold=0.5  # Threshold for avoiding high-risk areas\n",
    "        )\n",
    "    finally:\n",
    "        # Ensure the database connection is closed after operations\n",
    "        connection.close()\n",
    "\n",
    "    # Generate the trajectory file for the current percentage and store its path\n",
    "    trajectory_file = f\"../../sqlite_data/centrality_measures_percentage_{percentage}.sqlite\"\n",
    "    trajectory_files[percentage] = trajectory_file"
   ],
   "metadata": {
    "collapsed": false
   }
  },
  {
   "cell_type": "code",
   "execution_count": 67,
   "outputs": [
    {
     "name": "stdout",
     "output_type": "stream",
     "text": [
      "Frame 0, Area A: Risk Level 0.0\n",
      "Frame 0, Area B: Risk Level 0.6\n",
      "Frame 0, Area C: Risk Level 0.0\n",
      "Frame 0, Area D: Risk Level 0.6\n",
      "Frame 0, Area E: Risk Level 0.6\n",
      "Frame 0, Area F: Risk Level 0.1\n",
      "Frame 0, Area G: Risk Level 0.0\n",
      "Frame 0, Area H: Risk Level 0.0\n",
      "Frame 0, Area I: Risk Level 0.0\n",
      "Frame 50, Area A: Risk Level 0.0\n",
      "Frame 50, Area B: Risk Level 0.6\n",
      "Frame 50, Area C: Risk Level 0.0\n",
      "Frame 50, Area D: Risk Level 0.6\n",
      "Frame 50, Area E: Risk Level 0.6\n",
      "Frame 50, Area F: Risk Level 0.1\n",
      "Frame 50, Area G: Risk Level 0.0\n",
      "Frame 50, Area H: Risk Level 0.2\n",
      "Frame 50, Area I: Risk Level 0.0\n",
      "Frame 100, Area A: Risk Level 0.0\n",
      "Frame 100, Area B: Risk Level 0.6\n",
      "Frame 100, Area C: Risk Level 0.0\n",
      "Frame 100, Area D: Risk Level 0.6\n",
      "Frame 100, Area E: Risk Level 0.6\n",
      "Frame 100, Area F: Risk Level 0.1\n",
      "Frame 100, Area G: Risk Level 0.0\n",
      "Frame 100, Area H: Risk Level 0.2\n",
      "Frame 100, Area I: Risk Level 0.0\n",
      "Frame 150, Area A: Risk Level 0.0\n",
      "Frame 150, Area B: Risk Level 0.6\n",
      "Frame 150, Area C: Risk Level 0.0\n",
      "Frame 150, Area D: Risk Level 0.6\n",
      "Frame 150, Area E: Risk Level 0.6\n",
      "Frame 150, Area F: Risk Level 0.1\n",
      "Frame 150, Area G: Risk Level 0.0\n",
      "Frame 150, Area H: Risk Level 0.2\n",
      "Frame 150, Area I: Risk Level 0.0\n",
      "Frame 200, Area A: Risk Level 0.0\n",
      "Frame 200, Area B: Risk Level 0.6\n",
      "Frame 200, Area C: Risk Level 0.0\n",
      "Frame 200, Area D: Risk Level 0.6\n",
      "Frame 200, Area E: Risk Level 0.6\n",
      "Frame 200, Area F: Risk Level 0.1\n",
      "Frame 200, Area G: Risk Level 0.0\n",
      "Frame 200, Area H: Risk Level 0.2\n",
      "Frame 200, Area I: Risk Level 0.0\n",
      "Frame 250, Area A: Risk Level 0.0\n",
      "Frame 250, Area B: Risk Level 0.6\n",
      "Frame 250, Area C: Risk Level 0.0\n",
      "Frame 250, Area D: Risk Level 0.6\n",
      "Frame 250, Area E: Risk Level 0.6\n",
      "Frame 250, Area F: Risk Level 0.1\n",
      "Frame 250, Area G: Risk Level 0.0\n",
      "Frame 250, Area H: Risk Level 0.2\n",
      "Frame 250, Area I: Risk Level 0.0\n",
      "Frame 300, Area A: Risk Level 0.1\n",
      "Frame 300, Area B: Risk Level 0.6\n",
      "Frame 300, Area C: Risk Level 0.0\n",
      "Frame 300, Area D: Risk Level 0.6\n",
      "Frame 300, Area E: Risk Level 0.6\n",
      "Frame 300, Area F: Risk Level 0.1\n",
      "Frame 300, Area G: Risk Level 0.2\n",
      "Frame 300, Area H: Risk Level 0.2\n",
      "Frame 300, Area I: Risk Level 0.1\n",
      "Frame 350, Area A: Risk Level 0.1\n",
      "Frame 350, Area B: Risk Level 0.6\n",
      "Frame 350, Area C: Risk Level 0.0\n",
      "Frame 350, Area D: Risk Level 0.6\n",
      "Frame 350, Area E: Risk Level 0.8\n",
      "Frame 350, Area F: Risk Level 0.1\n",
      "Frame 350, Area G: Risk Level 0.2\n",
      "Frame 350, Area H: Risk Level 0.2\n",
      "Frame 350, Area I: Risk Level 0.1\n",
      "Frame 400, Area A: Risk Level 0.1\n",
      "Frame 400, Area B: Risk Level 0.6\n",
      "Frame 400, Area C: Risk Level 0.0\n",
      "Frame 400, Area D: Risk Level 0.6\n",
      "Frame 400, Area E: Risk Level 0.8\n",
      "Frame 400, Area F: Risk Level 0.1\n",
      "Frame 400, Area G: Risk Level 0.2\n",
      "Frame 400, Area H: Risk Level 0.3\n",
      "Frame 400, Area I: Risk Level 0.1\n",
      "Frame 450, Area A: Risk Level 0.1\n",
      "Frame 450, Area B: Risk Level 0.6\n",
      "Frame 450, Area C: Risk Level 0.0\n",
      "Frame 450, Area D: Risk Level 0.6\n",
      "Frame 450, Area E: Risk Level 0.8\n",
      "Frame 450, Area F: Risk Level 0.1\n",
      "Frame 450, Area G: Risk Level 0.2\n",
      "Frame 450, Area H: Risk Level 0.3\n",
      "Frame 450, Area I: Risk Level 0.1\n",
      "Frame 500, Area A: Risk Level 0.1\n",
      "Frame 500, Area B: Risk Level 0.6\n",
      "Frame 500, Area C: Risk Level 0.0\n",
      "Frame 500, Area D: Risk Level 0.6\n",
      "Frame 500, Area E: Risk Level 0.8\n",
      "Frame 500, Area F: Risk Level 0.1\n",
      "Frame 500, Area G: Risk Level 0.2\n",
      "Frame 500, Area H: Risk Level 0.4\n",
      "Frame 500, Area I: Risk Level 0.1\n",
      "Frame 550, Area A: Risk Level 0.1\n",
      "Frame 550, Area B: Risk Level 0.6\n",
      "Frame 550, Area C: Risk Level 0.0\n",
      "Frame 550, Area D: Risk Level 0.6\n",
      "Frame 550, Area E: Risk Level 0.8\n",
      "Frame 550, Area F: Risk Level 0.1\n",
      "Frame 550, Area G: Risk Level 0.2\n",
      "Frame 550, Area H: Risk Level 0.4\n",
      "Frame 550, Area I: Risk Level 0.1\n",
      "Frame 600, Area A: Risk Level 0.1\n",
      "Frame 600, Area B: Risk Level 0.6\n",
      "Frame 600, Area C: Risk Level 0.0\n",
      "Frame 600, Area D: Risk Level 0.6\n",
      "Frame 600, Area E: Risk Level 0.8\n",
      "Frame 600, Area F: Risk Level 0.2\n",
      "Frame 600, Area G: Risk Level 0.2\n",
      "Frame 600, Area H: Risk Level 0.6\n",
      "Frame 600, Area I: Risk Level 0.2\n",
      "Frame 650, Area A: Risk Level 0.3\n",
      "Frame 650, Area B: Risk Level 0.6\n",
      "Frame 650, Area C: Risk Level 0.0\n",
      "Frame 650, Area D: Risk Level 0.6\n",
      "Frame 650, Area E: Risk Level 0.8\n",
      "Frame 650, Area F: Risk Level 0.2\n",
      "Frame 650, Area G: Risk Level 0.2\n",
      "Frame 650, Area H: Risk Level 0.6\n",
      "Frame 650, Area I: Risk Level 0.2\n",
      "Frame 700, Area A: Risk Level 0.3\n",
      "Frame 700, Area B: Risk Level 0.6\n",
      "Frame 700, Area C: Risk Level 0.0\n",
      "Frame 700, Area D: Risk Level 0.6\n",
      "Frame 700, Area E: Risk Level 0.8\n",
      "Frame 700, Area F: Risk Level 0.2\n",
      "Frame 700, Area G: Risk Level 0.2\n",
      "Frame 700, Area H: Risk Level 0.6\n",
      "Frame 700, Area I: Risk Level 0.2\n",
      "Frame 750, Area A: Risk Level 0.3\n",
      "Frame 750, Area B: Risk Level 0.6\n",
      "Frame 750, Area C: Risk Level 0.0\n",
      "Frame 750, Area D: Risk Level 0.6\n",
      "Frame 750, Area E: Risk Level 0.8\n",
      "Frame 750, Area F: Risk Level 0.2\n",
      "Frame 750, Area G: Risk Level 0.2\n",
      "Frame 750, Area H: Risk Level 0.6\n",
      "Frame 750, Area I: Risk Level 0.2\n",
      "Frame 800, Area A: Risk Level 0.3\n",
      "Frame 800, Area B: Risk Level 0.6\n",
      "Frame 800, Area C: Risk Level 0.0\n",
      "Frame 800, Area D: Risk Level 0.6\n",
      "Frame 800, Area E: Risk Level 0.8\n",
      "Frame 800, Area F: Risk Level 0.2\n",
      "Frame 800, Area G: Risk Level 0.2\n",
      "Frame 800, Area H: Risk Level 0.6\n",
      "Frame 800, Area I: Risk Level 0.2\n",
      "Frame 850, Area A: Risk Level 0.3\n",
      "Frame 850, Area B: Risk Level 0.6\n",
      "Frame 850, Area C: Risk Level 0.0\n",
      "Frame 850, Area D: Risk Level 0.6\n",
      "Frame 850, Area E: Risk Level 1.0\n",
      "Frame 850, Area F: Risk Level 0.2\n",
      "Frame 850, Area G: Risk Level 0.2\n",
      "Frame 850, Area H: Risk Level 0.6\n",
      "Frame 850, Area I: Risk Level 0.2\n",
      "Frame 900, Area A: Risk Level 0.3\n",
      "Frame 900, Area B: Risk Level 0.6\n",
      "Frame 900, Area C: Risk Level 0.0\n",
      "Frame 900, Area D: Risk Level 0.6\n",
      "Frame 900, Area E: Risk Level 1.0\n",
      "Frame 900, Area F: Risk Level 0.3\n",
      "Frame 900, Area G: Risk Level 0.2\n",
      "Frame 900, Area H: Risk Level 0.8\n",
      "Frame 900, Area I: Risk Level 0.2\n",
      "Frame 950, Area A: Risk Level 0.3\n",
      "Frame 950, Area B: Risk Level 0.6\n",
      "Frame 950, Area C: Risk Level 0.0\n",
      "Frame 950, Area D: Risk Level 0.6\n",
      "Frame 950, Area E: Risk Level 1.0\n",
      "Frame 950, Area F: Risk Level 0.3\n",
      "Frame 950, Area G: Risk Level 0.2\n",
      "Frame 950, Area H: Risk Level 0.8\n",
      "Frame 950, Area I: Risk Level 0.2\n",
      "Frame 1000, Area A: Risk Level 0.3\n",
      "Frame 1000, Area B: Risk Level 0.6\n",
      "Frame 1000, Area C: Risk Level 0.0\n",
      "Frame 1000, Area D: Risk Level 0.7\n",
      "Frame 1000, Area E: Risk Level 1.0\n",
      "Frame 1000, Area F: Risk Level 0.3\n",
      "Frame 1000, Area G: Risk Level 0.2\n",
      "Frame 1000, Area H: Risk Level 0.8\n",
      "Frame 1000, Area I: Risk Level 0.2\n",
      "Frame 1050, Area A: Risk Level 0.3\n",
      "Frame 1050, Area B: Risk Level 0.6\n",
      "Frame 1050, Area C: Risk Level 0.0\n",
      "Frame 1050, Area D: Risk Level 0.7\n",
      "Frame 1050, Area E: Risk Level 1.0\n",
      "Frame 1050, Area F: Risk Level 0.3\n",
      "Frame 1050, Area G: Risk Level 0.2\n",
      "Frame 1050, Area H: Risk Level 0.9\n",
      "Frame 1050, Area I: Risk Level 0.2\n",
      "Frame 1100, Area A: Risk Level 0.3\n",
      "Frame 1100, Area B: Risk Level 0.6\n",
      "Frame 1100, Area C: Risk Level 0.1\n",
      "Frame 1100, Area D: Risk Level 0.7\n",
      "Frame 1100, Area E: Risk Level 1.0\n",
      "Frame 1100, Area F: Risk Level 0.3\n",
      "Frame 1100, Area G: Risk Level 0.2\n",
      "Frame 1100, Area H: Risk Level 0.9\n",
      "Frame 1100, Area I: Risk Level 0.2\n",
      "Frame 1150, Area A: Risk Level 0.4\n",
      "Frame 1150, Area B: Risk Level 0.6\n",
      "Frame 1150, Area C: Risk Level 0.1\n",
      "Frame 1150, Area D: Risk Level 0.7\n",
      "Frame 1150, Area E: Risk Level 1.0\n",
      "Frame 1150, Area F: Risk Level 0.3\n",
      "Frame 1150, Area G: Risk Level 0.2\n",
      "Frame 1150, Area H: Risk Level 0.9\n",
      "Frame 1150, Area I: Risk Level 0.3\n",
      "Frame 1200, Area A: Risk Level 0.4\n",
      "Frame 1200, Area B: Risk Level 0.6\n",
      "Frame 1200, Area C: Risk Level 0.1\n",
      "Frame 1200, Area D: Risk Level 0.7\n",
      "Frame 1200, Area E: Risk Level 1.0\n",
      "Frame 1200, Area F: Risk Level 0.3\n",
      "Frame 1200, Area G: Risk Level 0.2\n",
      "Frame 1200, Area H: Risk Level 0.9\n",
      "Frame 1200, Area I: Risk Level 0.4\n",
      "Frame 1250, Area A: Risk Level 0.4\n",
      "Frame 1250, Area B: Risk Level 0.6\n",
      "Frame 1250, Area C: Risk Level 0.1\n",
      "Frame 1250, Area D: Risk Level 0.7\n",
      "Frame 1250, Area E: Risk Level 1.0\n",
      "Frame 1250, Area F: Risk Level 0.3\n",
      "Frame 1250, Area G: Risk Level 0.2\n",
      "Frame 1250, Area H: Risk Level 0.9\n",
      "Frame 1250, Area I: Risk Level 0.4\n",
      "Frame 1300, Area A: Risk Level 0.5\n",
      "Frame 1300, Area B: Risk Level 0.6\n",
      "Frame 1300, Area C: Risk Level 0.1\n",
      "Frame 1300, Area D: Risk Level 0.8\n",
      "Frame 1300, Area E: Risk Level 1.0\n",
      "Frame 1300, Area F: Risk Level 0.3\n",
      "Frame 1300, Area G: Risk Level 0.2\n",
      "Frame 1300, Area H: Risk Level 0.9\n",
      "Frame 1300, Area I: Risk Level 0.4\n",
      "Frame 1350, Area A: Risk Level 0.5\n",
      "Frame 1350, Area B: Risk Level 0.6\n",
      "Frame 1350, Area C: Risk Level 0.1\n",
      "Frame 1350, Area D: Risk Level 0.8\n",
      "Frame 1350, Area E: Risk Level 1.0\n",
      "Frame 1350, Area F: Risk Level 0.3\n",
      "Frame 1350, Area G: Risk Level 0.2\n",
      "Frame 1350, Area H: Risk Level 0.9\n",
      "Frame 1350, Area I: Risk Level 0.4\n",
      "Frame 1400, Area A: Risk Level 0.5\n",
      "Frame 1400, Area B: Risk Level 0.6\n",
      "Frame 1400, Area C: Risk Level 0.1\n",
      "Frame 1400, Area D: Risk Level 0.8\n",
      "Frame 1400, Area E: Risk Level 1.0\n",
      "Frame 1400, Area F: Risk Level 0.3\n",
      "Frame 1400, Area G: Risk Level 0.2\n",
      "Frame 1400, Area H: Risk Level 0.9\n",
      "Frame 1400, Area I: Risk Level 0.4\n",
      "Frame 1450, Area A: Risk Level 0.5\n",
      "Frame 1450, Area B: Risk Level 0.6\n",
      "Frame 1450, Area C: Risk Level 0.1\n",
      "Frame 1450, Area D: Risk Level 0.8\n",
      "Frame 1450, Area E: Risk Level 1.0\n",
      "Frame 1450, Area F: Risk Level 0.3\n",
      "Frame 1450, Area G: Risk Level 0.2\n",
      "Frame 1450, Area H: Risk Level 0.9\n",
      "Frame 1450, Area I: Risk Level 0.4\n",
      "Frame 1500, Area A: Risk Level 0.5\n",
      "Frame 1500, Area B: Risk Level 0.6\n",
      "Frame 1500, Area C: Risk Level 0.1\n",
      "Frame 1500, Area D: Risk Level 0.8\n",
      "Frame 1500, Area E: Risk Level 1.0\n",
      "Frame 1500, Area F: Risk Level 0.3\n",
      "Frame 1500, Area G: Risk Level 0.2\n",
      "Frame 1500, Area H: Risk Level 0.9\n",
      "Frame 1500, Area I: Risk Level 0.4\n",
      "Frame 1550, Area A: Risk Level 0.5\n",
      "Frame 1550, Area B: Risk Level 0.6\n",
      "Frame 1550, Area C: Risk Level 0.1\n",
      "Frame 1550, Area D: Risk Level 0.8\n",
      "Frame 1550, Area E: Risk Level 1.0\n",
      "Frame 1550, Area F: Risk Level 0.5\n",
      "Frame 1550, Area G: Risk Level 0.2\n",
      "Frame 1550, Area H: Risk Level 0.9\n",
      "Frame 1550, Area I: Risk Level 0.4\n",
      "Frame 1600, Area A: Risk Level 0.6\n",
      "Frame 1600, Area B: Risk Level 0.6\n",
      "Frame 1600, Area C: Risk Level 0.1\n",
      "Frame 1600, Area D: Risk Level 0.8\n",
      "Frame 1600, Area E: Risk Level 1.0\n",
      "Frame 1600, Area F: Risk Level 0.5\n",
      "Frame 1600, Area G: Risk Level 0.2\n",
      "Frame 1600, Area H: Risk Level 0.9\n",
      "Frame 1600, Area I: Risk Level 0.4\n",
      "Frame 1650, Area A: Risk Level 0.6\n",
      "Frame 1650, Area B: Risk Level 0.6\n",
      "Frame 1650, Area C: Risk Level 0.1\n",
      "Frame 1650, Area D: Risk Level 0.8\n",
      "Frame 1650, Area E: Risk Level 1.0\n",
      "Frame 1650, Area F: Risk Level 0.5\n",
      "Frame 1650, Area G: Risk Level 0.2\n",
      "Frame 1650, Area H: Risk Level 0.9\n",
      "Frame 1650, Area I: Risk Level 0.4\n",
      "Frame 1700, Area A: Risk Level 0.6\n",
      "Frame 1700, Area B: Risk Level 0.6\n",
      "Frame 1700, Area C: Risk Level 0.1\n",
      "Frame 1700, Area D: Risk Level 0.8\n",
      "Frame 1700, Area E: Risk Level 1.0\n",
      "Frame 1700, Area F: Risk Level 0.5\n",
      "Frame 1700, Area G: Risk Level 0.2\n",
      "Frame 1700, Area H: Risk Level 0.9\n",
      "Frame 1700, Area I: Risk Level 0.4\n",
      "Frame 1750, Area A: Risk Level 0.6\n",
      "Frame 1750, Area B: Risk Level 0.6\n",
      "Frame 1750, Area C: Risk Level 0.1\n",
      "Frame 1750, Area D: Risk Level 0.8\n",
      "Frame 1750, Area E: Risk Level 1.0\n",
      "Frame 1750, Area F: Risk Level 0.5\n",
      "Frame 1750, Area G: Risk Level 0.2\n",
      "Frame 1750, Area H: Risk Level 0.9\n",
      "Frame 1750, Area I: Risk Level 0.4\n",
      "Frame 1800, Area A: Risk Level 0.6\n",
      "Frame 1800, Area B: Risk Level 0.8\n",
      "Frame 1800, Area C: Risk Level 0.1\n",
      "Frame 1800, Area D: Risk Level 0.8\n",
      "Frame 1800, Area E: Risk Level 1.0\n",
      "Frame 1800, Area F: Risk Level 0.5\n",
      "Frame 1800, Area G: Risk Level 0.2\n",
      "Frame 1800, Area H: Risk Level 0.9\n",
      "Frame 1800, Area I: Risk Level 0.4\n",
      "Frame 1850, Area A: Risk Level 0.6\n",
      "Frame 1850, Area B: Risk Level 0.8\n",
      "Frame 1850, Area C: Risk Level 0.1\n",
      "Frame 1850, Area D: Risk Level 0.8\n",
      "Frame 1850, Area E: Risk Level 1.0\n",
      "Frame 1850, Area F: Risk Level 0.5\n",
      "Frame 1850, Area G: Risk Level 0.2\n",
      "Frame 1850, Area H: Risk Level 0.9\n",
      "Frame 1850, Area I: Risk Level 0.4\n",
      "Frame 1900, Area A: Risk Level 0.6\n",
      "Frame 1900, Area B: Risk Level 0.8\n",
      "Frame 1900, Area C: Risk Level 0.1\n",
      "Frame 1900, Area D: Risk Level 0.8\n",
      "Frame 1900, Area E: Risk Level 1.0\n",
      "Frame 1900, Area F: Risk Level 0.5\n",
      "Frame 1900, Area G: Risk Level 0.2\n",
      "Frame 1900, Area H: Risk Level 0.9\n",
      "Frame 1900, Area I: Risk Level 0.4\n",
      "Frame 1950, Area A: Risk Level 0.6\n",
      "Frame 1950, Area B: Risk Level 0.8\n",
      "Frame 1950, Area C: Risk Level 0.1\n",
      "Frame 1950, Area D: Risk Level 0.8\n",
      "Frame 1950, Area E: Risk Level 1.0\n",
      "Frame 1950, Area F: Risk Level 0.5\n",
      "Frame 1950, Area G: Risk Level 0.2\n",
      "Frame 1950, Area H: Risk Level 0.9\n",
      "Frame 1950, Area I: Risk Level 0.4\n",
      "Frame 2000, Area A: Risk Level 0.6\n",
      "Frame 2000, Area B: Risk Level 0.8\n",
      "Frame 2000, Area C: Risk Level 0.1\n",
      "Frame 2000, Area D: Risk Level 0.8\n",
      "Frame 2000, Area E: Risk Level 1.0\n",
      "Frame 2000, Area F: Risk Level 0.5\n",
      "Frame 2000, Area G: Risk Level 0.3\n",
      "Frame 2000, Area H: Risk Level 0.9\n",
      "Frame 2000, Area I: Risk Level 0.4\n",
      "Frame 2050, Area A: Risk Level 0.6\n",
      "Frame 2050, Area B: Risk Level 0.8\n",
      "Frame 2050, Area C: Risk Level 0.1\n",
      "Frame 2050, Area D: Risk Level 0.8\n",
      "Frame 2050, Area E: Risk Level 1.0\n",
      "Frame 2050, Area F: Risk Level 0.5\n",
      "Frame 2050, Area G: Risk Level 0.3\n",
      "Frame 2050, Area H: Risk Level 0.9\n",
      "Frame 2050, Area I: Risk Level 0.4\n",
      "Frame 2100, Area A: Risk Level 0.6\n",
      "Frame 2100, Area B: Risk Level 0.8\n",
      "Frame 2100, Area C: Risk Level 0.2\n",
      "Frame 2100, Area D: Risk Level 0.8\n",
      "Frame 2100, Area E: Risk Level 1.0\n",
      "Frame 2100, Area F: Risk Level 0.5\n",
      "Frame 2100, Area G: Risk Level 0.4\n",
      "Frame 2100, Area H: Risk Level 0.9\n",
      "Frame 2100, Area I: Risk Level 0.5\n",
      "Frame 2150, Area A: Risk Level 0.6\n",
      "Frame 2150, Area B: Risk Level 0.8\n",
      "Frame 2150, Area C: Risk Level 0.2\n",
      "Frame 2150, Area D: Risk Level 0.8\n",
      "Frame 2150, Area E: Risk Level 1.0\n",
      "Frame 2150, Area F: Risk Level 0.5\n",
      "Frame 2150, Area G: Risk Level 0.4\n",
      "Frame 2150, Area H: Risk Level 0.9\n",
      "Frame 2150, Area I: Risk Level 0.5\n",
      "Frame 2200, Area A: Risk Level 0.6\n",
      "Frame 2200, Area B: Risk Level 0.8\n",
      "Frame 2200, Area C: Risk Level 0.2\n",
      "Frame 2200, Area D: Risk Level 0.8\n",
      "Frame 2200, Area E: Risk Level 1.0\n",
      "Frame 2200, Area F: Risk Level 0.5\n",
      "Frame 2200, Area G: Risk Level 0.4\n",
      "Frame 2200, Area H: Risk Level 0.9\n",
      "Frame 2200, Area I: Risk Level 0.5\n",
      "Frame 2250, Area A: Risk Level 0.6\n",
      "Frame 2250, Area B: Risk Level 0.8\n",
      "Frame 2250, Area C: Risk Level 0.2\n",
      "Frame 2250, Area D: Risk Level 0.8\n",
      "Frame 2250, Area E: Risk Level 1.0\n",
      "Frame 2250, Area F: Risk Level 0.5\n",
      "Frame 2250, Area G: Risk Level 0.4\n",
      "Frame 2250, Area H: Risk Level 0.9\n",
      "Frame 2250, Area I: Risk Level 0.5\n",
      "Frame 2300, Area A: Risk Level 0.6\n",
      "Frame 2300, Area B: Risk Level 0.8\n",
      "Frame 2300, Area C: Risk Level 0.2\n",
      "Frame 2300, Area D: Risk Level 0.9\n",
      "Frame 2300, Area E: Risk Level 1.0\n",
      "Frame 2300, Area F: Risk Level 0.5\n",
      "Frame 2300, Area G: Risk Level 0.4\n",
      "Frame 2300, Area H: Risk Level 0.9\n",
      "Frame 2300, Area I: Risk Level 0.5\n",
      "Frame 2350, Area A: Risk Level 0.6\n",
      "Frame 2350, Area B: Risk Level 0.8\n",
      "Frame 2350, Area C: Risk Level 0.4\n",
      "Frame 2350, Area D: Risk Level 0.9\n",
      "Frame 2350, Area E: Risk Level 1.0\n",
      "Frame 2350, Area F: Risk Level 0.5\n",
      "Frame 2350, Area G: Risk Level 0.4\n",
      "Frame 2350, Area H: Risk Level 0.9\n",
      "Frame 2350, Area I: Risk Level 0.6\n",
      "Frame 2400, Area A: Risk Level 0.6\n",
      "Frame 2400, Area B: Risk Level 0.8\n",
      "Frame 2400, Area C: Risk Level 0.4\n",
      "Frame 2400, Area D: Risk Level 0.9\n",
      "Frame 2400, Area E: Risk Level 1.0\n",
      "Frame 2400, Area F: Risk Level 0.5\n",
      "Frame 2400, Area G: Risk Level 0.4\n",
      "Frame 2400, Area H: Risk Level 0.9\n",
      "Frame 2400, Area I: Risk Level 0.6\n",
      "Frame 2450, Area A: Risk Level 0.6\n",
      "Frame 2450, Area B: Risk Level 0.8\n",
      "Frame 2450, Area C: Risk Level 0.4\n",
      "Frame 2450, Area D: Risk Level 0.9\n",
      "Frame 2450, Area E: Risk Level 1.0\n",
      "Frame 2450, Area F: Risk Level 0.5\n",
      "Frame 2450, Area G: Risk Level 0.4\n",
      "Frame 2450, Area H: Risk Level 0.9\n",
      "Frame 2450, Area I: Risk Level 0.7\n",
      "Frame 2500, Area A: Risk Level 0.6\n",
      "Frame 2500, Area B: Risk Level 0.8\n",
      "Frame 2500, Area C: Risk Level 0.4\n",
      "Frame 2500, Area D: Risk Level 0.9\n",
      "Frame 2500, Area E: Risk Level 1.0\n",
      "Frame 2500, Area F: Risk Level 0.6\n",
      "Frame 2500, Area G: Risk Level 0.4\n",
      "Frame 2500, Area H: Risk Level 0.9\n",
      "Frame 2500, Area I: Risk Level 0.7\n",
      "Frame 2550, Area A: Risk Level 0.6\n",
      "Frame 2550, Area B: Risk Level 0.8\n",
      "Frame 2550, Area C: Risk Level 0.4\n",
      "Frame 2550, Area D: Risk Level 0.9\n",
      "Frame 2550, Area E: Risk Level 1.0\n",
      "Frame 2550, Area F: Risk Level 0.8\n",
      "Frame 2550, Area G: Risk Level 0.4\n",
      "Frame 2550, Area H: Risk Level 0.9\n",
      "Frame 2550, Area I: Risk Level 0.7\n",
      "Frame 2600, Area A: Risk Level 0.6\n",
      "Frame 2600, Area B: Risk Level 0.8\n",
      "Frame 2600, Area C: Risk Level 0.4\n",
      "Frame 2600, Area D: Risk Level 0.9\n",
      "Frame 2600, Area E: Risk Level 1.0\n",
      "Frame 2600, Area F: Risk Level 0.8\n",
      "Frame 2600, Area G: Risk Level 0.4\n",
      "Frame 2600, Area H: Risk Level 0.9\n",
      "Frame 2600, Area I: Risk Level 0.7\n",
      "Frame 2650, Area A: Risk Level 0.7\n",
      "Frame 2650, Area B: Risk Level 0.8\n",
      "Frame 2650, Area C: Risk Level 0.4\n",
      "Frame 2650, Area D: Risk Level 0.9\n",
      "Frame 2650, Area E: Risk Level 1.0\n",
      "Frame 2650, Area F: Risk Level 1.0\n",
      "Frame 2650, Area G: Risk Level 0.6\n",
      "Frame 2650, Area H: Risk Level 0.9\n",
      "Frame 2650, Area I: Risk Level 0.7\n",
      "Frame 2700, Area A: Risk Level 0.7\n",
      "Frame 2700, Area B: Risk Level 0.8\n",
      "Frame 2700, Area C: Risk Level 0.4\n",
      "Frame 2700, Area D: Risk Level 0.9\n",
      "Frame 2700, Area E: Risk Level 1.0\n",
      "Frame 2700, Area F: Risk Level 1.0\n",
      "Frame 2700, Area G: Risk Level 0.6\n",
      "Frame 2700, Area H: Risk Level 1.0\n",
      "Frame 2700, Area I: Risk Level 0.7\n",
      "Frame 2750, Area A: Risk Level 0.7\n",
      "Frame 2750, Area B: Risk Level 0.8\n",
      "Frame 2750, Area C: Risk Level 0.4\n",
      "Frame 2750, Area D: Risk Level 0.9\n",
      "Frame 2750, Area E: Risk Level 1.0\n",
      "Frame 2750, Area F: Risk Level 1.0\n",
      "Frame 2750, Area G: Risk Level 0.6\n",
      "Frame 2750, Area H: Risk Level 1.0\n",
      "Frame 2750, Area I: Risk Level 0.7\n",
      "Frame 2800, Area A: Risk Level 0.7\n",
      "Frame 2800, Area B: Risk Level 0.8\n",
      "Frame 2800, Area C: Risk Level 0.4\n",
      "Frame 2800, Area D: Risk Level 0.9\n",
      "Frame 2800, Area E: Risk Level 1.0\n",
      "Frame 2800, Area F: Risk Level 1.0\n",
      "Frame 2800, Area G: Risk Level 0.6\n",
      "Frame 2800, Area H: Risk Level 1.0\n",
      "Frame 2800, Area I: Risk Level 0.7\n",
      "Frame 2850, Area A: Risk Level 0.7\n",
      "Frame 2850, Area B: Risk Level 0.8\n",
      "Frame 2850, Area C: Risk Level 0.4\n",
      "Frame 2850, Area D: Risk Level 1.0\n",
      "Frame 2850, Area E: Risk Level 1.0\n",
      "Frame 2850, Area F: Risk Level 1.0\n",
      "Frame 2850, Area G: Risk Level 0.6\n",
      "Frame 2850, Area H: Risk Level 1.0\n",
      "Frame 2850, Area I: Risk Level 0.7\n",
      "Frame 2900, Area A: Risk Level 0.7\n",
      "Frame 2900, Area B: Risk Level 0.8\n",
      "Frame 2900, Area C: Risk Level 0.5\n",
      "Frame 2900, Area D: Risk Level 1.0\n",
      "Frame 2900, Area E: Risk Level 1.0\n",
      "Frame 2900, Area F: Risk Level 1.0\n",
      "Frame 2900, Area G: Risk Level 0.6\n",
      "Frame 2900, Area H: Risk Level 1.0\n",
      "Frame 2900, Area I: Risk Level 0.8\n",
      "Frame 2950, Area A: Risk Level 0.7\n",
      "Frame 2950, Area B: Risk Level 0.8\n",
      "Frame 2950, Area C: Risk Level 0.5\n",
      "Frame 2950, Area D: Risk Level 1.0\n",
      "Frame 2950, Area E: Risk Level 1.0\n",
      "Frame 2950, Area F: Risk Level 1.0\n",
      "Frame 2950, Area G: Risk Level 0.6\n",
      "Frame 2950, Area H: Risk Level 1.0\n",
      "Frame 2950, Area I: Risk Level 0.8\n",
      "Frame 3000, Area A: Risk Level 0.7\n",
      "Frame 3000, Area B: Risk Level 0.8\n",
      "Frame 3000, Area C: Risk Level 0.5\n",
      "Frame 3000, Area D: Risk Level 1.0\n",
      "Frame 3000, Area E: Risk Level 1.0\n",
      "Frame 3000, Area F: Risk Level 1.0\n",
      "Frame 3000, Area G: Risk Level 0.6\n",
      "Frame 3000, Area H: Risk Level 1.0\n",
      "Frame 3000, Area I: Risk Level 0.8\n"
     ]
    }
   ],
   "source": [
    "# Open the database connection safely\n",
    "with sqlite3.connect(connection_file) as connection:\n",
    "    # Fetch all risk data grouped by frame\n",
    "    all_risks = get_risks_grouped_by_frame(connection)\n",
    "\n",
    "    # Iterate over the nested dictionary\n",
    "    for frame, areas in all_risks.items():  # 'areas' is a dictionary {area: risk_level}\n",
    "        for area, risk in areas.items():\n",
    "            print(f\"Frame {frame}, Area {area}: Risk Level {risk}\")\n",
    "\n",
    "# Connection automatically closes when 'with' block ends"
   ],
   "metadata": {
    "collapsed": false
   }
  },
  {
   "cell_type": "markdown",
   "source": [
    "## Visualizing Agent Pathways"
   ],
   "metadata": {
    "collapsed": false
   }
  },
  {
   "cell_type": "code",
   "execution_count": 68,
   "outputs": [
    {
     "data": {
      "application/vnd.plotly.v1+json": {
       "data": [
        {
         "hoverinfo": "name",
         "line": {
          "color": "white"
         },
         "mode": "lines",
         "name": "Exterior",
         "showlegend": false,
         "x": [
          10.1,
          10.1,
          15.0,
          15.0,
          13.6,
          13.6,
          15.0,
          15.0,
          13.6,
          13.6,
          15.0,
          15.0,
          10.1,
          10.1,
          9.9,
          9.9,
          5.1,
          5.1,
          4.9,
          4.9,
          0.0,
          0.0,
          1.5,
          1.5,
          0.0,
          0.0,
          1.5,
          1.5,
          0.0,
          0.0,
          4.9,
          4.9,
          5.1,
          5.1,
          9.9,
          9.9,
          10.1
         ],
         "y": [
          1.5,
          0.0,
          0.0,
          4.9,
          4.9,
          5.1,
          5.1,
          9.9,
          9.9,
          10.1,
          10.1,
          15.0,
          15.0,
          13.6,
          13.6,
          15.0,
          15.0,
          13.6,
          13.6,
          15.0,
          15.0,
          10.1,
          10.1,
          9.9,
          9.9,
          5.1,
          5.1,
          4.9,
          4.9,
          0.0,
          0.0,
          1.5,
          1.5,
          0.0,
          0.0,
          1.5,
          1.5
         ],
         "type": "scatter"
        },
        {
         "hoverinfo": "name",
         "line": {
          "color": "white"
         },
         "mode": "lines",
         "name": "Obstacle",
         "showlegend": false,
         "x": [
          10.1,
          11.5,
          11.5,
          10.1,
          10.1,
          9.9,
          9.9,
          8.6,
          8.6,
          9.9,
          9.9,
          10.1,
          10.1
         ],
         "y": [
          5.1,
          5.1,
          4.9,
          4.9,
          3.6,
          3.6,
          4.9,
          4.9,
          5.1,
          5.1,
          6.5,
          6.5,
          5.1
         ],
         "type": "scatter"
        },
        {
         "hoverinfo": "name",
         "line": {
          "color": "white"
         },
         "mode": "lines",
         "name": "Obstacle",
         "showlegend": false,
         "x": [
          10.1,
          11.5,
          11.5,
          10.1,
          10.1,
          9.9,
          9.9,
          8.6,
          8.6,
          9.9,
          9.9,
          10.1,
          10.1
         ],
         "y": [
          10.1,
          10.1,
          9.9,
          9.9,
          8.6,
          8.6,
          9.9,
          9.9,
          10.1,
          10.1,
          11.5,
          11.5,
          10.1
         ],
         "type": "scatter"
        },
        {
         "hoverinfo": "name",
         "line": {
          "color": "white"
         },
         "mode": "lines",
         "name": "Obstacle",
         "showlegend": false,
         "x": [
          5.1,
          6.4,
          6.4,
          5.1,
          5.1,
          4.9,
          4.9,
          3.6,
          3.6,
          4.9,
          4.9,
          5.1,
          5.1
         ],
         "y": [
          5.1,
          5.1,
          4.9,
          4.9,
          3.6,
          3.6,
          4.9,
          4.9,
          5.1,
          5.1,
          6.5,
          6.5,
          5.1
         ],
         "type": "scatter"
        },
        {
         "hoverinfo": "name",
         "line": {
          "color": "white"
         },
         "mode": "lines",
         "name": "Obstacle",
         "showlegend": false,
         "x": [
          5.1,
          6.4,
          6.4,
          5.1,
          5.1,
          4.9,
          4.9,
          3.6,
          3.6,
          4.9,
          4.9,
          5.1,
          5.1
         ],
         "y": [
          10.1,
          10.1,
          9.9,
          9.9,
          8.6,
          8.6,
          9.9,
          9.9,
          10.1,
          10.1,
          11.5,
          11.5,
          10.1
         ],
         "type": "scatter"
        },
        {
         "fill": "toself",
         "fillcolor": "rgb(76, 0, 0)",
         "hoverinfo": "name",
         "line": {
          "width": 0
         },
         "mode": "lines",
         "name": "Risk Area",
         "showlegend": false,
         "x": [
          1.5,
          1.5,
          3.6,
          3.6,
          4.9,
          4.9,
          5.0,
          5.0,
          4.9,
          4.9,
          0.0,
          0.0,
          1.5
         ],
         "y": [
          4.9,
          5.0,
          5.0,
          4.9,
          4.9,
          3.6,
          3.6,
          1.5,
          1.5,
          0.0,
          0.0,
          4.9,
          4.9
         ],
         "type": "scatter"
        },
        {
         "fill": "toself",
         "fillcolor": "rgb(153, 0, 0)",
         "hoverinfo": "name",
         "line": {
          "width": 0
         },
         "mode": "lines",
         "name": "Risk Area",
         "showlegend": false,
         "x": [
          9.9,
          9.9,
          5.1,
          5.1,
          5.0,
          5.0,
          5.1,
          5.1,
          6.4,
          6.4,
          8.6,
          8.6,
          9.9,
          9.9,
          10.0,
          10.0,
          9.9
         ],
         "y": [
          1.5,
          0.0,
          0.0,
          1.5,
          1.5,
          3.6,
          3.6,
          4.9,
          4.9,
          5.0,
          5.0,
          4.9,
          4.9,
          3.6,
          3.6,
          1.5,
          1.5
         ],
         "type": "scatter"
        },
        {
         "fill": "toself",
         "fillcolor": "rgb(0, 0, 0)",
         "hoverinfo": "name",
         "line": {
          "width": 0
         },
         "mode": "lines",
         "name": "Risk Area",
         "showlegend": false,
         "x": [
          13.6,
          15.0,
          15.0,
          10.1,
          10.1,
          10.0,
          10.0,
          10.1,
          10.1,
          11.5,
          11.5,
          13.6,
          13.6
         ],
         "y": [
          4.9,
          4.9,
          0.0,
          0.0,
          1.5,
          1.5,
          3.6,
          3.6,
          4.9,
          4.9,
          5.0,
          5.0,
          4.9
         ],
         "type": "scatter"
        },
        {
         "fill": "toself",
         "fillcolor": "rgb(153, 0, 0)",
         "hoverinfo": "name",
         "line": {
          "width": 0
         },
         "mode": "lines",
         "name": "Risk Area",
         "showlegend": false,
         "x": [
          13.6,
          15.0,
          15.0,
          13.6,
          13.6,
          11.5,
          11.5,
          10.1,
          10.1,
          10.0,
          10.0,
          10.1,
          10.1,
          11.5,
          11.5,
          13.6,
          13.6
         ],
         "y": [
          9.9,
          9.9,
          5.1,
          5.1,
          5.0,
          5.0,
          5.1,
          5.1,
          6.5,
          6.5,
          8.6,
          8.6,
          9.9,
          9.9,
          10.0,
          10.0,
          9.9
         ],
         "type": "scatter"
        },
        {
         "fill": "toself",
         "fillcolor": "rgb(204, 0, 0)",
         "hoverinfo": "name",
         "line": {
          "width": 0
         },
         "mode": "lines",
         "name": "Risk Area",
         "showlegend": false,
         "x": [
          9.9,
          9.9,
          8.6,
          8.6,
          6.4,
          6.4,
          5.1,
          5.1,
          5.0,
          5.0,
          5.1,
          5.1,
          6.4,
          6.4,
          8.6,
          8.6,
          9.9,
          9.9,
          10.0,
          10.0,
          9.9
         ],
         "y": [
          6.5,
          5.1,
          5.1,
          5.0,
          5.0,
          5.1,
          5.1,
          6.5,
          6.5,
          8.6,
          8.6,
          9.9,
          9.9,
          10.0,
          10.0,
          9.9,
          9.9,
          8.6,
          8.6,
          6.5,
          6.5
         ],
         "type": "scatter"
        },
        {
         "fill": "toself",
         "fillcolor": "rgb(51, 0, 0)",
         "hoverinfo": "name",
         "line": {
          "width": 0
         },
         "mode": "lines",
         "name": "Risk Area",
         "showlegend": false,
         "x": [
          4.9,
          4.9,
          3.6,
          3.6,
          1.5,
          1.5,
          0.0,
          0.0,
          1.5,
          1.5,
          3.6,
          3.6,
          4.9,
          4.9,
          5.0,
          5.0,
          4.9
         ],
         "y": [
          6.5,
          5.1,
          5.1,
          5.0,
          5.0,
          5.1,
          5.1,
          9.9,
          9.9,
          10.0,
          10.0,
          9.9,
          9.9,
          8.6,
          8.6,
          6.5,
          6.5
         ],
         "type": "scatter"
        },
        {
         "fill": "toself",
         "fillcolor": "rgb(51, 0, 0)",
         "hoverinfo": "name",
         "line": {
          "width": 0
         },
         "mode": "lines",
         "name": "Risk Area",
         "showlegend": false,
         "x": [
          1.5,
          0.0,
          0.0,
          4.9,
          4.9,
          5.0,
          5.0,
          4.9,
          4.9,
          3.6,
          3.6,
          1.5,
          1.5
         ],
         "y": [
          10.1,
          10.1,
          15.0,
          15.0,
          13.6,
          13.6,
          11.5,
          11.5,
          10.1,
          10.1,
          10.0,
          10.0,
          10.1
         ],
         "type": "scatter"
        },
        {
         "fill": "toself",
         "fillcolor": "rgb(153, 0, 0)",
         "hoverinfo": "name",
         "line": {
          "width": 0
         },
         "mode": "lines",
         "name": "Risk Area",
         "showlegend": false,
         "x": [
          6.4,
          5.1,
          5.1,
          5.0,
          5.0,
          5.1,
          5.1,
          9.9,
          9.9,
          10.0,
          10.0,
          9.9,
          9.9,
          8.6,
          8.6,
          6.4,
          6.4
         ],
         "y": [
          10.1,
          10.1,
          11.5,
          11.5,
          13.6,
          13.6,
          15.0,
          15.0,
          13.6,
          13.6,
          11.5,
          11.5,
          10.1,
          10.1,
          10.0,
          10.0,
          10.1
         ],
         "type": "scatter"
        },
        {
         "fill": "toself",
         "fillcolor": "rgb(51, 0, 0)",
         "hoverinfo": "name",
         "line": {
          "width": 0
         },
         "mode": "lines",
         "name": "Risk Area",
         "showlegend": false,
         "x": [
          10.1,
          10.1,
          15.0,
          15.0,
          13.6,
          13.6,
          11.5,
          11.5,
          10.1,
          10.1,
          10.0,
          10.0,
          10.1
         ],
         "y": [
          13.6,
          15.0,
          15.0,
          10.1,
          10.1,
          10.0,
          10.0,
          10.1,
          10.1,
          11.5,
          11.5,
          13.6,
          13.6
         ],
         "type": "scatter"
        },
        {
         "hoverinfo": "none",
         "marker": {
          "cmax": 0.8000000000000191,
          "cmin": 0,
          "color": [
           0.7999997415062419,
           0.5075973971098988,
           0.7998523749829529,
           0.7988478819166775,
           0.7992132371410413,
           0.7249901030431707,
           0.612802758593313,
           0.7999999999999988,
           0.26322573985669484,
           0.799652812025704
          ],
          "colorbar": {
           "title": {
            "text": "Speed [m/s]"
           }
          },
          "colorscale": [
           [
            0.0,
            "rgb(128,0,0)"
           ],
           [
            0.2,
            "rgb(250,0,0)"
           ],
           [
            0.4,
            "rgb(255,255,0)"
           ],
           [
            0.6,
            "rgb(5,255,255)"
           ],
           [
            0.8,
            "rgb(0,60,170)"
           ],
           [
            1.0,
            "rgb(0,0,131)"
           ]
          ],
          "size": [
           0.4,
           0.4,
           0.4,
           0.4,
           0.4,
           0.4,
           0.4,
           0.4,
           0.4,
           0.4
          ]
         },
         "mode": "markers",
         "showlegend": false,
         "text": [
          0.7999997415062419,
          0.5075973971098988,
          0.7998523749829529,
          0.7988478819166775,
          0.7992132371410413,
          0.7249901030431707,
          0.612802758593313,
          0.7999999999999988,
          0.26322573985669484,
          0.799652812025704
         ],
         "x": [
          3.9863327738146737,
          0.8488279016949318,
          1.7258968673840784,
          2.116160882427272,
          1.692259232863783,
          1.453767774845684,
          3.0719865838614573,
          3.48879726462054,
          1.7042831428492793,
          1.7565776142251517
         ],
         "y": [
          4.268834270066489,
          1.6370406488593048,
          1.5962220773638665,
          3.5204353653542206,
          2.7972929381969065,
          3.6607508930614516,
          4.234745501580994,
          1.9561046634672852,
          3.3139640340517103,
          2.253852105302265
         ],
         "type": "scatter"
        },
        {
         "hoverinfo": "none",
         "marker": {
          "cmax": 1,
          "cmin": 0,
          "color": [
           0
          ],
          "colorbar": {
           "title": {
            "text": "Risk Level"
           },
           "x": 1.25
          },
          "colorscale": [
           [
            0.0,
            "rgb(0, 0, 0)"
           ],
           [
            0.1,
            "rgb(25, 0, 0)"
           ],
           [
            0.2,
            "rgb(51, 0, 0)"
           ],
           [
            0.3,
            "rgb(76, 0, 0)"
           ],
           [
            0.4,
            "rgb(102, 0, 0)"
           ],
           [
            0.5,
            "rgb(127, 0, 0)"
           ],
           [
            0.6,
            "rgb(153, 0, 0)"
           ],
           [
            0.7,
            "rgb(178, 0, 0)"
           ],
           [
            0.8,
            "rgb(204, 0, 0)"
           ],
           [
            0.9,
            "rgb(229, 0, 0)"
           ],
           [
            1.0,
            "rgb(255, 0, 0)"
           ]
          ],
          "size": 10
         },
         "mode": "markers",
         "showlegend": false,
         "x": [
          0
         ],
         "y": [
          0
         ],
         "type": "scatter"
        },
        {
         "hoverinfo": "text",
         "marker": {
          "opacity": 1,
          "size": 1
         },
         "mode": "markers",
         "showlegend": false,
         "text": [
          "ID: 11, Pos(3.99,4.27)"
         ],
         "x": [
          3.9863327738146737
         ],
         "y": [
          4.268834270066489
         ],
         "type": "scatter"
        },
        {
         "hoverinfo": "text",
         "marker": {
          "opacity": 1,
          "size": 1
         },
         "mode": "markers",
         "showlegend": false,
         "text": [
          "ID: 12, Pos(0.85,1.64)"
         ],
         "x": [
          0.8488279016949318
         ],
         "y": [
          1.6370406488593048
         ],
         "type": "scatter"
        },
        {
         "hoverinfo": "text",
         "marker": {
          "opacity": 1,
          "size": 1
         },
         "mode": "markers",
         "showlegend": false,
         "text": [
          "ID: 13, Pos(1.73,1.60)"
         ],
         "x": [
          1.7258968673840784
         ],
         "y": [
          1.5962220773638665
         ],
         "type": "scatter"
        },
        {
         "hoverinfo": "text",
         "marker": {
          "opacity": 1,
          "size": 1
         },
         "mode": "markers",
         "showlegend": false,
         "text": [
          "ID: 14, Pos(2.12,3.52)"
         ],
         "x": [
          2.116160882427272
         ],
         "y": [
          3.5204353653542206
         ],
         "type": "scatter"
        },
        {
         "hoverinfo": "text",
         "marker": {
          "opacity": 1,
          "size": 1
         },
         "mode": "markers",
         "showlegend": false,
         "text": [
          "ID: 15, Pos(1.69,2.80)"
         ],
         "x": [
          1.692259232863783
         ],
         "y": [
          2.7972929381969065
         ],
         "type": "scatter"
        },
        {
         "hoverinfo": "text",
         "marker": {
          "opacity": 1,
          "size": 1
         },
         "mode": "markers",
         "showlegend": false,
         "text": [
          "ID: 16, Pos(1.45,3.66)"
         ],
         "x": [
          1.453767774845684
         ],
         "y": [
          3.6607508930614516
         ],
         "type": "scatter"
        },
        {
         "hoverinfo": "text",
         "marker": {
          "opacity": 1,
          "size": 1
         },
         "mode": "markers",
         "showlegend": false,
         "text": [
          "ID: 17, Pos(3.07,4.23)"
         ],
         "x": [
          3.0719865838614573
         ],
         "y": [
          4.234745501580994
         ],
         "type": "scatter"
        },
        {
         "hoverinfo": "text",
         "marker": {
          "opacity": 1,
          "size": 1
         },
         "mode": "markers",
         "showlegend": false,
         "text": [
          "ID: 18, Pos(3.49,1.96)"
         ],
         "x": [
          3.48879726462054
         ],
         "y": [
          1.9561046634672852
         ],
         "type": "scatter"
        },
        {
         "hoverinfo": "text",
         "marker": {
          "opacity": 1,
          "size": 1
         },
         "mode": "markers",
         "showlegend": false,
         "text": [
          "ID: 19, Pos(1.70,3.31)"
         ],
         "x": [
          1.7042831428492793
         ],
         "y": [
          3.3139640340517103
         ],
         "type": "scatter"
        },
        {
         "hoverinfo": "text",
         "marker": {
          "opacity": 1,
          "size": 1
         },
         "mode": "markers",
         "showlegend": false,
         "text": [
          "ID: 20, Pos(1.76,2.25)"
         ],
         "x": [
          1.7565776142251517
         ],
         "y": [
          2.253852105302265
         ],
         "type": "scatter"
        }
       ],
       "layout": {
        "shapes": [
         {
          "fillcolor": "rgba(0, 0, 128, 0.5)",
          "line": {
           "color": "rgba(0, 0, 128, 0.5)"
          },
          "type": "circle",
          "x0": 3.7863327738146735,
          "x1": 4.186332773814674,
          "xref": "x",
          "y0": 4.068834270066489,
          "y1": 4.468834270066489,
          "yref": "y"
         },
         {
          "fillcolor": "rgba(15, 248, 231, 0.5)",
          "line": {
           "color": "rgba(15, 248, 231, 0.5)"
          },
          "type": "circle",
          "x0": 0.6488279016949319,
          "x1": 1.0488279016949318,
          "xref": "x",
          "y0": 1.4370406488593048,
          "y1": 1.8370406488593047,
          "yref": "y"
         },
         {
          "fillcolor": "rgba(0, 0, 128, 0.5)",
          "line": {
           "color": "rgba(0, 0, 128, 0.5)"
          },
          "type": "circle",
          "x0": 1.5258968673840785,
          "x1": 1.9258968673840784,
          "xref": "x",
          "y0": 1.3962220773638665,
          "y1": 1.7962220773638664,
          "yref": "y"
         },
         {
          "fillcolor": "rgba(0, 0, 128, 0.5)",
          "line": {
           "color": "rgba(0, 0, 128, 0.5)"
          },
          "type": "circle",
          "x0": 1.916160882427272,
          "x1": 2.316160882427272,
          "xref": "x",
          "y0": 3.3204353653542205,
          "y1": 3.720435365354221,
          "yref": "y"
         },
         {
          "fillcolor": "rgba(0, 0, 128, 0.5)",
          "line": {
           "color": "rgba(0, 0, 128, 0.5)"
          },
          "type": "circle",
          "x0": 1.4922592328637831,
          "x1": 1.892259232863783,
          "xref": "x",
          "y0": 2.5972929381969063,
          "y1": 2.9972929381969067,
          "yref": "y"
         },
         {
          "fillcolor": "rgba(0, 0, 237, 0.5)",
          "line": {
           "color": "rgba(0, 0, 237, 0.5)"
          },
          "type": "circle",
          "x0": 1.2537677748456841,
          "x1": 1.653767774845684,
          "xref": "x",
          "y0": 3.4607508930614514,
          "y1": 3.860750893061452,
          "yref": "y"
         },
         {
          "fillcolor": "rgba(0, 112, 255, 0.5)",
          "line": {
           "color": "rgba(0, 112, 255, 0.5)"
          },
          "type": "circle",
          "x0": 2.871986583861457,
          "x1": 3.2719865838614575,
          "xref": "x",
          "y0": 4.034745501580994,
          "y1": 4.434745501580994,
          "yref": "y"
         },
         {
          "fillcolor": "rgba(0, 0, 128, 0.5)",
          "line": {
           "color": "rgba(0, 0, 128, 0.5)"
          },
          "type": "circle",
          "x0": 3.28879726462054,
          "x1": 3.6887972646205403,
          "xref": "x",
          "y0": 1.7561046634672852,
          "y1": 2.156104663467285,
          "yref": "y"
         },
         {
          "fillcolor": "rgba(255, 222, 0, 0.5)",
          "line": {
           "color": "rgba(255, 222, 0, 0.5)"
          },
          "type": "circle",
          "x0": 1.5042831428492793,
          "x1": 1.9042831428492792,
          "xref": "x",
          "y0": 3.11396403405171,
          "y1": 3.5139640340517104,
          "yref": "y"
         },
         {
          "fillcolor": "rgba(0, 0, 128, 0.5)",
          "line": {
           "color": "rgba(0, 0, 128, 0.5)"
          },
          "type": "circle",
          "x0": 1.5565776142251517,
          "x1": 1.9565776142251516,
          "xref": "x",
          "y0": 2.0538521053022647,
          "y1": 2.453852105302265,
          "yref": "y"
         },
         {
          "line": {
           "color": "white",
           "width": 3
          },
          "type": "line",
          "x0": 3.9863327738146737,
          "x1": 3.9863327738146737,
          "y0": 4.268834270066489,
          "y1": 4.268834270066489
         },
         {
          "line": {
           "color": "black",
           "width": 3
          },
          "type": "line",
          "x0": 0.8488279016949318,
          "x1": 0.8488279016949318,
          "y0": 1.6370406488593048,
          "y1": 1.6370406488593048
         },
         {
          "line": {
           "color": "white",
           "width": 3
          },
          "type": "line",
          "x0": 1.7258968673840784,
          "x1": 1.7258968673840784,
          "y0": 1.5962220773638665,
          "y1": 1.5962220773638665
         },
         {
          "line": {
           "color": "white",
           "width": 3
          },
          "type": "line",
          "x0": 2.116160882427272,
          "x1": 2.116160882427272,
          "y0": 3.5204353653542206,
          "y1": 3.5204353653542206
         },
         {
          "line": {
           "color": "white",
           "width": 3
          },
          "type": "line",
          "x0": 1.692259232863783,
          "x1": 1.692259232863783,
          "y0": 2.7972929381969065,
          "y1": 2.7972929381969065
         },
         {
          "line": {
           "color": "white",
           "width": 3
          },
          "type": "line",
          "x0": 1.453767774845684,
          "x1": 1.453767774845684,
          "y0": 3.6607508930614516,
          "y1": 3.6607508930614516
         },
         {
          "line": {
           "color": "white",
           "width": 3
          },
          "type": "line",
          "x0": 3.0719865838614573,
          "x1": 3.0719865838614573,
          "y0": 4.234745501580994,
          "y1": 4.234745501580994
         },
         {
          "line": {
           "color": "white",
           "width": 3
          },
          "type": "line",
          "x0": 3.48879726462054,
          "x1": 3.48879726462054,
          "y0": 1.9561046634672852,
          "y1": 1.9561046634672852
         },
         {
          "line": {
           "color": "black",
           "width": 3
          },
          "type": "line",
          "x0": 1.7042831428492793,
          "x1": 1.7042831428492793,
          "y0": 3.3139640340517103,
          "y1": 3.3139640340517103
         },
         {
          "line": {
           "color": "white",
           "width": 3
          },
          "type": "line",
          "x0": 1.7565776142251517,
          "x1": 1.7565776142251517,
          "y0": 2.253852105302265,
          "y1": 2.253852105302265
         }
        ],
        "title": {
         "text": "<b>Percentage using the shortest path: 0%  |  Number of Agents: 10</b>",
         "x": 0.5
        },
        "template": {
         "data": {
          "histogram2dcontour": [
           {
            "type": "histogram2dcontour",
            "colorbar": {
             "outlinewidth": 0,
             "ticks": ""
            },
            "colorscale": [
             [
              0.0,
              "#0d0887"
             ],
             [
              0.1111111111111111,
              "#46039f"
             ],
             [
              0.2222222222222222,
              "#7201a8"
             ],
             [
              0.3333333333333333,
              "#9c179e"
             ],
             [
              0.4444444444444444,
              "#bd3786"
             ],
             [
              0.5555555555555556,
              "#d8576b"
             ],
             [
              0.6666666666666666,
              "#ed7953"
             ],
             [
              0.7777777777777778,
              "#fb9f3a"
             ],
             [
              0.8888888888888888,
              "#fdca26"
             ],
             [
              1.0,
              "#f0f921"
             ]
            ]
           }
          ],
          "choropleth": [
           {
            "type": "choropleth",
            "colorbar": {
             "outlinewidth": 0,
             "ticks": ""
            }
           }
          ],
          "histogram2d": [
           {
            "type": "histogram2d",
            "colorbar": {
             "outlinewidth": 0,
             "ticks": ""
            },
            "colorscale": [
             [
              0.0,
              "#0d0887"
             ],
             [
              0.1111111111111111,
              "#46039f"
             ],
             [
              0.2222222222222222,
              "#7201a8"
             ],
             [
              0.3333333333333333,
              "#9c179e"
             ],
             [
              0.4444444444444444,
              "#bd3786"
             ],
             [
              0.5555555555555556,
              "#d8576b"
             ],
             [
              0.6666666666666666,
              "#ed7953"
             ],
             [
              0.7777777777777778,
              "#fb9f3a"
             ],
             [
              0.8888888888888888,
              "#fdca26"
             ],
             [
              1.0,
              "#f0f921"
             ]
            ]
           }
          ],
          "heatmap": [
           {
            "type": "heatmap",
            "colorbar": {
             "outlinewidth": 0,
             "ticks": ""
            },
            "colorscale": [
             [
              0.0,
              "#0d0887"
             ],
             [
              0.1111111111111111,
              "#46039f"
             ],
             [
              0.2222222222222222,
              "#7201a8"
             ],
             [
              0.3333333333333333,
              "#9c179e"
             ],
             [
              0.4444444444444444,
              "#bd3786"
             ],
             [
              0.5555555555555556,
              "#d8576b"
             ],
             [
              0.6666666666666666,
              "#ed7953"
             ],
             [
              0.7777777777777778,
              "#fb9f3a"
             ],
             [
              0.8888888888888888,
              "#fdca26"
             ],
             [
              1.0,
              "#f0f921"
             ]
            ]
           }
          ],
          "heatmapgl": [
           {
            "type": "heatmapgl",
            "colorbar": {
             "outlinewidth": 0,
             "ticks": ""
            },
            "colorscale": [
             [
              0.0,
              "#0d0887"
             ],
             [
              0.1111111111111111,
              "#46039f"
             ],
             [
              0.2222222222222222,
              "#7201a8"
             ],
             [
              0.3333333333333333,
              "#9c179e"
             ],
             [
              0.4444444444444444,
              "#bd3786"
             ],
             [
              0.5555555555555556,
              "#d8576b"
             ],
             [
              0.6666666666666666,
              "#ed7953"
             ],
             [
              0.7777777777777778,
              "#fb9f3a"
             ],
             [
              0.8888888888888888,
              "#fdca26"
             ],
             [
              1.0,
              "#f0f921"
             ]
            ]
           }
          ],
          "contourcarpet": [
           {
            "type": "contourcarpet",
            "colorbar": {
             "outlinewidth": 0,
             "ticks": ""
            }
           }
          ],
          "contour": [
           {
            "type": "contour",
            "colorbar": {
             "outlinewidth": 0,
             "ticks": ""
            },
            "colorscale": [
             [
              0.0,
              "#0d0887"
             ],
             [
              0.1111111111111111,
              "#46039f"
             ],
             [
              0.2222222222222222,
              "#7201a8"
             ],
             [
              0.3333333333333333,
              "#9c179e"
             ],
             [
              0.4444444444444444,
              "#bd3786"
             ],
             [
              0.5555555555555556,
              "#d8576b"
             ],
             [
              0.6666666666666666,
              "#ed7953"
             ],
             [
              0.7777777777777778,
              "#fb9f3a"
             ],
             [
              0.8888888888888888,
              "#fdca26"
             ],
             [
              1.0,
              "#f0f921"
             ]
            ]
           }
          ],
          "surface": [
           {
            "type": "surface",
            "colorbar": {
             "outlinewidth": 0,
             "ticks": ""
            },
            "colorscale": [
             [
              0.0,
              "#0d0887"
             ],
             [
              0.1111111111111111,
              "#46039f"
             ],
             [
              0.2222222222222222,
              "#7201a8"
             ],
             [
              0.3333333333333333,
              "#9c179e"
             ],
             [
              0.4444444444444444,
              "#bd3786"
             ],
             [
              0.5555555555555556,
              "#d8576b"
             ],
             [
              0.6666666666666666,
              "#ed7953"
             ],
             [
              0.7777777777777778,
              "#fb9f3a"
             ],
             [
              0.8888888888888888,
              "#fdca26"
             ],
             [
              1.0,
              "#f0f921"
             ]
            ]
           }
          ],
          "mesh3d": [
           {
            "type": "mesh3d",
            "colorbar": {
             "outlinewidth": 0,
             "ticks": ""
            }
           }
          ],
          "scatter": [
           {
            "marker": {
             "line": {
              "color": "#283442"
             }
            },
            "type": "scatter"
           }
          ],
          "parcoords": [
           {
            "type": "parcoords",
            "line": {
             "colorbar": {
              "outlinewidth": 0,
              "ticks": ""
             }
            }
           }
          ],
          "scatterpolargl": [
           {
            "type": "scatterpolargl",
            "marker": {
             "colorbar": {
              "outlinewidth": 0,
              "ticks": ""
             }
            }
           }
          ],
          "bar": [
           {
            "error_x": {
             "color": "#f2f5fa"
            },
            "error_y": {
             "color": "#f2f5fa"
            },
            "marker": {
             "line": {
              "color": "rgb(17,17,17)",
              "width": 0.5
             },
             "pattern": {
              "fillmode": "overlay",
              "size": 10,
              "solidity": 0.2
             }
            },
            "type": "bar"
           }
          ],
          "scattergeo": [
           {
            "type": "scattergeo",
            "marker": {
             "colorbar": {
              "outlinewidth": 0,
              "ticks": ""
             }
            }
           }
          ],
          "scatterpolar": [
           {
            "type": "scatterpolar",
            "marker": {
             "colorbar": {
              "outlinewidth": 0,
              "ticks": ""
             }
            }
           }
          ],
          "histogram": [
           {
            "marker": {
             "pattern": {
              "fillmode": "overlay",
              "size": 10,
              "solidity": 0.2
             }
            },
            "type": "histogram"
           }
          ],
          "scattergl": [
           {
            "marker": {
             "line": {
              "color": "#283442"
             }
            },
            "type": "scattergl"
           }
          ],
          "scatter3d": [
           {
            "type": "scatter3d",
            "line": {
             "colorbar": {
              "outlinewidth": 0,
              "ticks": ""
             }
            },
            "marker": {
             "colorbar": {
              "outlinewidth": 0,
              "ticks": ""
             }
            }
           }
          ],
          "scattermapbox": [
           {
            "type": "scattermapbox",
            "marker": {
             "colorbar": {
              "outlinewidth": 0,
              "ticks": ""
             }
            }
           }
          ],
          "scatterternary": [
           {
            "type": "scatterternary",
            "marker": {
             "colorbar": {
              "outlinewidth": 0,
              "ticks": ""
             }
            }
           }
          ],
          "scattercarpet": [
           {
            "type": "scattercarpet",
            "marker": {
             "colorbar": {
              "outlinewidth": 0,
              "ticks": ""
             }
            }
           }
          ],
          "carpet": [
           {
            "aaxis": {
             "endlinecolor": "#A2B1C6",
             "gridcolor": "#506784",
             "linecolor": "#506784",
             "minorgridcolor": "#506784",
             "startlinecolor": "#A2B1C6"
            },
            "baxis": {
             "endlinecolor": "#A2B1C6",
             "gridcolor": "#506784",
             "linecolor": "#506784",
             "minorgridcolor": "#506784",
             "startlinecolor": "#A2B1C6"
            },
            "type": "carpet"
           }
          ],
          "table": [
           {
            "cells": {
             "fill": {
              "color": "#506784"
             },
             "line": {
              "color": "rgb(17,17,17)"
             }
            },
            "header": {
             "fill": {
              "color": "#2a3f5f"
             },
             "line": {
              "color": "rgb(17,17,17)"
             }
            },
            "type": "table"
           }
          ],
          "barpolar": [
           {
            "marker": {
             "line": {
              "color": "rgb(17,17,17)",
              "width": 0.5
             },
             "pattern": {
              "fillmode": "overlay",
              "size": 10,
              "solidity": 0.2
             }
            },
            "type": "barpolar"
           }
          ],
          "pie": [
           {
            "automargin": true,
            "type": "pie"
           }
          ]
         },
         "layout": {
          "autotypenumbers": "strict",
          "colorway": [
           "#636efa",
           "#EF553B",
           "#00cc96",
           "#ab63fa",
           "#FFA15A",
           "#19d3f3",
           "#FF6692",
           "#B6E880",
           "#FF97FF",
           "#FECB52"
          ],
          "font": {
           "color": "#f2f5fa"
          },
          "hovermode": "closest",
          "hoverlabel": {
           "align": "left"
          },
          "paper_bgcolor": "rgb(17,17,17)",
          "plot_bgcolor": "rgb(17,17,17)",
          "polar": {
           "bgcolor": "rgb(17,17,17)",
           "angularaxis": {
            "gridcolor": "#506784",
            "linecolor": "#506784",
            "ticks": ""
           },
           "radialaxis": {
            "gridcolor": "#506784",
            "linecolor": "#506784",
            "ticks": ""
           }
          },
          "ternary": {
           "bgcolor": "rgb(17,17,17)",
           "aaxis": {
            "gridcolor": "#506784",
            "linecolor": "#506784",
            "ticks": ""
           },
           "baxis": {
            "gridcolor": "#506784",
            "linecolor": "#506784",
            "ticks": ""
           },
           "caxis": {
            "gridcolor": "#506784",
            "linecolor": "#506784",
            "ticks": ""
           }
          },
          "coloraxis": {
           "colorbar": {
            "outlinewidth": 0,
            "ticks": ""
           }
          },
          "colorscale": {
           "sequential": [
            [
             0.0,
             "#0d0887"
            ],
            [
             0.1111111111111111,
             "#46039f"
            ],
            [
             0.2222222222222222,
             "#7201a8"
            ],
            [
             0.3333333333333333,
             "#9c179e"
            ],
            [
             0.4444444444444444,
             "#bd3786"
            ],
            [
             0.5555555555555556,
             "#d8576b"
            ],
            [
             0.6666666666666666,
             "#ed7953"
            ],
            [
             0.7777777777777778,
             "#fb9f3a"
            ],
            [
             0.8888888888888888,
             "#fdca26"
            ],
            [
             1.0,
             "#f0f921"
            ]
           ],
           "sequentialminus": [
            [
             0.0,
             "#0d0887"
            ],
            [
             0.1111111111111111,
             "#46039f"
            ],
            [
             0.2222222222222222,
             "#7201a8"
            ],
            [
             0.3333333333333333,
             "#9c179e"
            ],
            [
             0.4444444444444444,
             "#bd3786"
            ],
            [
             0.5555555555555556,
             "#d8576b"
            ],
            [
             0.6666666666666666,
             "#ed7953"
            ],
            [
             0.7777777777777778,
             "#fb9f3a"
            ],
            [
             0.8888888888888888,
             "#fdca26"
            ],
            [
             1.0,
             "#f0f921"
            ]
           ],
           "diverging": [
            [
             0,
             "#8e0152"
            ],
            [
             0.1,
             "#c51b7d"
            ],
            [
             0.2,
             "#de77ae"
            ],
            [
             0.3,
             "#f1b6da"
            ],
            [
             0.4,
             "#fde0ef"
            ],
            [
             0.5,
             "#f7f7f7"
            ],
            [
             0.6,
             "#e6f5d0"
            ],
            [
             0.7,
             "#b8e186"
            ],
            [
             0.8,
             "#7fbc41"
            ],
            [
             0.9,
             "#4d9221"
            ],
            [
             1,
             "#276419"
            ]
           ]
          },
          "xaxis": {
           "gridcolor": "#283442",
           "linecolor": "#506784",
           "ticks": "",
           "title": {
            "standoff": 15
           },
           "zerolinecolor": "#283442",
           "automargin": true,
           "zerolinewidth": 2
          },
          "yaxis": {
           "gridcolor": "#283442",
           "linecolor": "#506784",
           "ticks": "",
           "title": {
            "standoff": 15
           },
           "zerolinecolor": "#283442",
           "automargin": true,
           "zerolinewidth": 2
          },
          "scene": {
           "xaxis": {
            "backgroundcolor": "rgb(17,17,17)",
            "gridcolor": "#506784",
            "linecolor": "#506784",
            "showbackground": true,
            "ticks": "",
            "zerolinecolor": "#C8D4E3",
            "gridwidth": 2
           },
           "yaxis": {
            "backgroundcolor": "rgb(17,17,17)",
            "gridcolor": "#506784",
            "linecolor": "#506784",
            "showbackground": true,
            "ticks": "",
            "zerolinecolor": "#C8D4E3",
            "gridwidth": 2
           },
           "zaxis": {
            "backgroundcolor": "rgb(17,17,17)",
            "gridcolor": "#506784",
            "linecolor": "#506784",
            "showbackground": true,
            "ticks": "",
            "zerolinecolor": "#C8D4E3",
            "gridwidth": 2
           }
          },
          "shapedefaults": {
           "line": {
            "color": "#f2f5fa"
           }
          },
          "annotationdefaults": {
           "arrowcolor": "#f2f5fa",
           "arrowhead": 0,
           "arrowwidth": 1
          },
          "geo": {
           "bgcolor": "rgb(17,17,17)",
           "landcolor": "rgb(17,17,17)",
           "subunitcolor": "#506784",
           "showland": true,
           "showlakes": true,
           "lakecolor": "rgb(17,17,17)"
          },
          "title": {
           "x": 0.05
          },
          "updatemenudefaults": {
           "bgcolor": "#506784",
           "borderwidth": 0
          },
          "sliderdefaults": {
           "bgcolor": "#C8D4E3",
           "borderwidth": 1,
           "bordercolor": "rgb(17,17,17)",
           "tickwidth": 0
          },
          "mapbox": {
           "style": "dark"
          }
         }
        },
        "xaxis": {
         "range": [
          -0.5,
          15.5
         ]
        },
        "yaxis": {
         "scaleanchor": "x",
         "scaleratio": 1,
         "range": [
          -0.5,
          15.5
         ]
        },
        "updatemenus": [
         {
          "buttons": [
           {
            "args": [
             null,
             {
              "frame": {
               "duration": 100,
               "redraw": true
              },
              "fromcurrent": true
             }
            ],
            "label": "Play",
            "method": "animate"
           }
          ],
          "direction": "left",
          "pad": {
           "r": 10,
           "t": 87
          },
          "showactive": false,
          "type": "buttons",
          "x": 0.1,
          "xanchor": "right",
          "y": 0,
          "yanchor": "top"
         }
        ],
        "sliders": [
         {
          "active": 0,
          "currentvalue": {
           "font": {
            "size": 20
           },
           "prefix": "Frame:",
           "visible": true,
           "xanchor": "right"
          },
          "len": 0.9,
          "pad": {
           "b": 10,
           "t": 50
          },
          "steps": [
           {
            "args": [
             [
              "0"
             ],
             {
              "frame": {
               "duration": 100,
               "redraw": true
              },
              "mode": "immediate",
              "transition": {
               "duration": 500
              }
             }
            ],
            "label": "0",
            "method": "animate"
           },
           {
            "args": [
             [
              "50"
             ],
             {
              "frame": {
               "duration": 100,
               "redraw": true
              },
              "mode": "immediate",
              "transition": {
               "duration": 500
              }
             }
            ],
            "label": "50",
            "method": "animate"
           },
           {
            "args": [
             [
              "100"
             ],
             {
              "frame": {
               "duration": 100,
               "redraw": true
              },
              "mode": "immediate",
              "transition": {
               "duration": 500
              }
             }
            ],
            "label": "100",
            "method": "animate"
           },
           {
            "args": [
             [
              "150"
             ],
             {
              "frame": {
               "duration": 100,
               "redraw": true
              },
              "mode": "immediate",
              "transition": {
               "duration": 500
              }
             }
            ],
            "label": "150",
            "method": "animate"
           },
           {
            "args": [
             [
              "200"
             ],
             {
              "frame": {
               "duration": 100,
               "redraw": true
              },
              "mode": "immediate",
              "transition": {
               "duration": 500
              }
             }
            ],
            "label": "200",
            "method": "animate"
           },
           {
            "args": [
             [
              "250"
             ],
             {
              "frame": {
               "duration": 100,
               "redraw": true
              },
              "mode": "immediate",
              "transition": {
               "duration": 500
              }
             }
            ],
            "label": "250",
            "method": "animate"
           },
           {
            "args": [
             [
              "300"
             ],
             {
              "frame": {
               "duration": 100,
               "redraw": true
              },
              "mode": "immediate",
              "transition": {
               "duration": 500
              }
             }
            ],
            "label": "300",
            "method": "animate"
           },
           {
            "args": [
             [
              "350"
             ],
             {
              "frame": {
               "duration": 100,
               "redraw": true
              },
              "mode": "immediate",
              "transition": {
               "duration": 500
              }
             }
            ],
            "label": "350",
            "method": "animate"
           },
           {
            "args": [
             [
              "400"
             ],
             {
              "frame": {
               "duration": 100,
               "redraw": true
              },
              "mode": "immediate",
              "transition": {
               "duration": 500
              }
             }
            ],
            "label": "400",
            "method": "animate"
           },
           {
            "args": [
             [
              "450"
             ],
             {
              "frame": {
               "duration": 100,
               "redraw": true
              },
              "mode": "immediate",
              "transition": {
               "duration": 500
              }
             }
            ],
            "label": "450",
            "method": "animate"
           },
           {
            "args": [
             [
              "500"
             ],
             {
              "frame": {
               "duration": 100,
               "redraw": true
              },
              "mode": "immediate",
              "transition": {
               "duration": 500
              }
             }
            ],
            "label": "500",
            "method": "animate"
           },
           {
            "args": [
             [
              "550"
             ],
             {
              "frame": {
               "duration": 100,
               "redraw": true
              },
              "mode": "immediate",
              "transition": {
               "duration": 500
              }
             }
            ],
            "label": "550",
            "method": "animate"
           },
           {
            "args": [
             [
              "600"
             ],
             {
              "frame": {
               "duration": 100,
               "redraw": true
              },
              "mode": "immediate",
              "transition": {
               "duration": 500
              }
             }
            ],
            "label": "600",
            "method": "animate"
           },
           {
            "args": [
             [
              "650"
             ],
             {
              "frame": {
               "duration": 100,
               "redraw": true
              },
              "mode": "immediate",
              "transition": {
               "duration": 500
              }
             }
            ],
            "label": "650",
            "method": "animate"
           },
           {
            "args": [
             [
              "700"
             ],
             {
              "frame": {
               "duration": 100,
               "redraw": true
              },
              "mode": "immediate",
              "transition": {
               "duration": 500
              }
             }
            ],
            "label": "700",
            "method": "animate"
           },
           {
            "args": [
             [
              "750"
             ],
             {
              "frame": {
               "duration": 100,
               "redraw": true
              },
              "mode": "immediate",
              "transition": {
               "duration": 500
              }
             }
            ],
            "label": "750",
            "method": "animate"
           },
           {
            "args": [
             [
              "800"
             ],
             {
              "frame": {
               "duration": 100,
               "redraw": true
              },
              "mode": "immediate",
              "transition": {
               "duration": 500
              }
             }
            ],
            "label": "800",
            "method": "animate"
           }
          ],
          "transition": {
           "duration": 100,
           "easing": "cubic-in-out"
          },
          "x": 0.1,
          "xanchor": "left",
          "y": 0,
          "yanchor": "top"
         }
        ],
        "autosize": false,
        "width": 800,
        "height": 800
       },
       "frames": [
        {
         "data": [
          {
           "hoverinfo": "name",
           "line": {
            "color": "white"
           },
           "mode": "lines",
           "name": "Exterior",
           "showlegend": false,
           "x": [
            10.1,
            10.1,
            15.0,
            15.0,
            13.6,
            13.6,
            15.0,
            15.0,
            13.6,
            13.6,
            15.0,
            15.0,
            10.1,
            10.1,
            9.9,
            9.9,
            5.1,
            5.1,
            4.9,
            4.9,
            0.0,
            0.0,
            1.5,
            1.5,
            0.0,
            0.0,
            1.5,
            1.5,
            0.0,
            0.0,
            4.9,
            4.9,
            5.1,
            5.1,
            9.9,
            9.9,
            10.1
           ],
           "y": [
            1.5,
            0.0,
            0.0,
            4.9,
            4.9,
            5.1,
            5.1,
            9.9,
            9.9,
            10.1,
            10.1,
            15.0,
            15.0,
            13.6,
            13.6,
            15.0,
            15.0,
            13.6,
            13.6,
            15.0,
            15.0,
            10.1,
            10.1,
            9.9,
            9.9,
            5.1,
            5.1,
            4.9,
            4.9,
            0.0,
            0.0,
            1.5,
            1.5,
            0.0,
            0.0,
            1.5,
            1.5
           ],
           "type": "scatter"
          },
          {
           "hoverinfo": "name",
           "line": {
            "color": "white"
           },
           "mode": "lines",
           "name": "Obstacle",
           "showlegend": false,
           "x": [
            10.1,
            11.5,
            11.5,
            10.1,
            10.1,
            9.9,
            9.9,
            8.6,
            8.6,
            9.9,
            9.9,
            10.1,
            10.1
           ],
           "y": [
            5.1,
            5.1,
            4.9,
            4.9,
            3.6,
            3.6,
            4.9,
            4.9,
            5.1,
            5.1,
            6.5,
            6.5,
            5.1
           ],
           "type": "scatter"
          },
          {
           "hoverinfo": "name",
           "line": {
            "color": "white"
           },
           "mode": "lines",
           "name": "Obstacle",
           "showlegend": false,
           "x": [
            10.1,
            11.5,
            11.5,
            10.1,
            10.1,
            9.9,
            9.9,
            8.6,
            8.6,
            9.9,
            9.9,
            10.1,
            10.1
           ],
           "y": [
            10.1,
            10.1,
            9.9,
            9.9,
            8.6,
            8.6,
            9.9,
            9.9,
            10.1,
            10.1,
            11.5,
            11.5,
            10.1
           ],
           "type": "scatter"
          },
          {
           "hoverinfo": "name",
           "line": {
            "color": "white"
           },
           "mode": "lines",
           "name": "Obstacle",
           "showlegend": false,
           "x": [
            5.1,
            6.4,
            6.4,
            5.1,
            5.1,
            4.9,
            4.9,
            3.6,
            3.6,
            4.9,
            4.9,
            5.1,
            5.1
           ],
           "y": [
            5.1,
            5.1,
            4.9,
            4.9,
            3.6,
            3.6,
            4.9,
            4.9,
            5.1,
            5.1,
            6.5,
            6.5,
            5.1
           ],
           "type": "scatter"
          },
          {
           "hoverinfo": "name",
           "line": {
            "color": "white"
           },
           "mode": "lines",
           "name": "Obstacle",
           "showlegend": false,
           "x": [
            5.1,
            6.4,
            6.4,
            5.1,
            5.1,
            4.9,
            4.9,
            3.6,
            3.6,
            4.9,
            4.9,
            5.1,
            5.1
           ],
           "y": [
            10.1,
            10.1,
            9.9,
            9.9,
            8.6,
            8.6,
            9.9,
            9.9,
            10.1,
            10.1,
            11.5,
            11.5,
            10.1
           ],
           "type": "scatter"
          },
          {
           "fill": "toself",
           "fillcolor": "rgb(0, 0, 0)",
           "hoverinfo": "name",
           "line": {
            "width": 0
           },
           "mode": "lines",
           "name": "Risk Area",
           "showlegend": false,
           "x": [
            1.5,
            1.5,
            3.6,
            3.6,
            4.9,
            4.9,
            5.0,
            5.0,
            4.9,
            4.9,
            0.0,
            0.0,
            1.5
           ],
           "y": [
            4.9,
            5.0,
            5.0,
            4.9,
            4.9,
            3.6,
            3.6,
            1.5,
            1.5,
            0.0,
            0.0,
            4.9,
            4.9
           ],
           "type": "scatter"
          },
          {
           "fill": "toself",
           "fillcolor": "rgb(153, 0, 0)",
           "hoverinfo": "name",
           "line": {
            "width": 0
           },
           "mode": "lines",
           "name": "Risk Area",
           "showlegend": false,
           "x": [
            9.9,
            9.9,
            5.1,
            5.1,
            5.0,
            5.0,
            5.1,
            5.1,
            6.4,
            6.4,
            8.6,
            8.6,
            9.9,
            9.9,
            10.0,
            10.0,
            9.9
           ],
           "y": [
            1.5,
            0.0,
            0.0,
            1.5,
            1.5,
            3.6,
            3.6,
            4.9,
            4.9,
            5.0,
            5.0,
            4.9,
            4.9,
            3.6,
            3.6,
            1.5,
            1.5
           ],
           "type": "scatter"
          },
          {
           "fill": "toself",
           "fillcolor": "rgb(0, 0, 0)",
           "hoverinfo": "name",
           "line": {
            "width": 0
           },
           "mode": "lines",
           "name": "Risk Area",
           "showlegend": false,
           "x": [
            13.6,
            15.0,
            15.0,
            10.1,
            10.1,
            10.0,
            10.0,
            10.1,
            10.1,
            11.5,
            11.5,
            13.6,
            13.6
           ],
           "y": [
            4.9,
            4.9,
            0.0,
            0.0,
            1.5,
            1.5,
            3.6,
            3.6,
            4.9,
            4.9,
            5.0,
            5.0,
            4.9
           ],
           "type": "scatter"
          },
          {
           "fill": "toself",
           "fillcolor": "rgb(153, 0, 0)",
           "hoverinfo": "name",
           "line": {
            "width": 0
           },
           "mode": "lines",
           "name": "Risk Area",
           "showlegend": false,
           "x": [
            13.6,
            15.0,
            15.0,
            13.6,
            13.6,
            11.5,
            11.5,
            10.1,
            10.1,
            10.0,
            10.0,
            10.1,
            10.1,
            11.5,
            11.5,
            13.6,
            13.6
           ],
           "y": [
            9.9,
            9.9,
            5.1,
            5.1,
            5.0,
            5.0,
            5.1,
            5.1,
            6.5,
            6.5,
            8.6,
            8.6,
            9.9,
            9.9,
            10.0,
            10.0,
            9.9
           ],
           "type": "scatter"
          },
          {
           "fill": "toself",
           "fillcolor": "rgb(153, 0, 0)",
           "hoverinfo": "name",
           "line": {
            "width": 0
           },
           "mode": "lines",
           "name": "Risk Area",
           "showlegend": false,
           "x": [
            9.9,
            9.9,
            8.6,
            8.6,
            6.4,
            6.4,
            5.1,
            5.1,
            5.0,
            5.0,
            5.1,
            5.1,
            6.4,
            6.4,
            8.6,
            8.6,
            9.9,
            9.9,
            10.0,
            10.0,
            9.9
           ],
           "y": [
            6.5,
            5.1,
            5.1,
            5.0,
            5.0,
            5.1,
            5.1,
            6.5,
            6.5,
            8.6,
            8.6,
            9.9,
            9.9,
            10.0,
            10.0,
            9.9,
            9.9,
            8.6,
            8.6,
            6.5,
            6.5
           ],
           "type": "scatter"
          },
          {
           "fill": "toself",
           "fillcolor": "rgb(25, 0, 0)",
           "hoverinfo": "name",
           "line": {
            "width": 0
           },
           "mode": "lines",
           "name": "Risk Area",
           "showlegend": false,
           "x": [
            4.9,
            4.9,
            3.6,
            3.6,
            1.5,
            1.5,
            0.0,
            0.0,
            1.5,
            1.5,
            3.6,
            3.6,
            4.9,
            4.9,
            5.0,
            5.0,
            4.9
           ],
           "y": [
            6.5,
            5.1,
            5.1,
            5.0,
            5.0,
            5.1,
            5.1,
            9.9,
            9.9,
            10.0,
            10.0,
            9.9,
            9.9,
            8.6,
            8.6,
            6.5,
            6.5
           ],
           "type": "scatter"
          },
          {
           "fill": "toself",
           "fillcolor": "rgb(0, 0, 0)",
           "hoverinfo": "name",
           "line": {
            "width": 0
           },
           "mode": "lines",
           "name": "Risk Area",
           "showlegend": false,
           "x": [
            1.5,
            0.0,
            0.0,
            4.9,
            4.9,
            5.0,
            5.0,
            4.9,
            4.9,
            3.6,
            3.6,
            1.5,
            1.5
           ],
           "y": [
            10.1,
            10.1,
            15.0,
            15.0,
            13.6,
            13.6,
            11.5,
            11.5,
            10.1,
            10.1,
            10.0,
            10.0,
            10.1
           ],
           "type": "scatter"
          },
          {
           "fill": "toself",
           "fillcolor": "rgb(0, 0, 0)",
           "hoverinfo": "name",
           "line": {
            "width": 0
           },
           "mode": "lines",
           "name": "Risk Area",
           "showlegend": false,
           "x": [
            6.4,
            5.1,
            5.1,
            5.0,
            5.0,
            5.1,
            5.1,
            9.9,
            9.9,
            10.0,
            10.0,
            9.9,
            9.9,
            8.6,
            8.6,
            6.4,
            6.4
           ],
           "y": [
            10.1,
            10.1,
            11.5,
            11.5,
            13.6,
            13.6,
            15.0,
            15.0,
            13.6,
            13.6,
            11.5,
            11.5,
            10.1,
            10.1,
            10.0,
            10.0,
            10.1
           ],
           "type": "scatter"
          },
          {
           "fill": "toself",
           "fillcolor": "rgb(0, 0, 0)",
           "hoverinfo": "name",
           "line": {
            "width": 0
           },
           "mode": "lines",
           "name": "Risk Area",
           "showlegend": false,
           "x": [
            10.1,
            10.1,
            15.0,
            15.0,
            13.6,
            13.6,
            11.5,
            11.5,
            10.1,
            10.1,
            10.0,
            10.0,
            10.1
           ],
           "y": [
            13.6,
            15.0,
            15.0,
            10.1,
            10.1,
            10.0,
            10.0,
            10.1,
            10.1,
            11.5,
            11.5,
            13.6,
            13.6
           ],
           "type": "scatter"
          },
          {
           "hoverinfo": "text",
           "marker": {
            "opacity": 1,
            "size": 1
           },
           "mode": "markers",
           "showlegend": false,
           "text": [
            "ID: 11, Pos(3.99,4.27)"
           ],
           "x": [
            3.9863327738146737
           ],
           "y": [
            4.268834270066489
           ],
           "type": "scatter"
          },
          {
           "hoverinfo": "text",
           "marker": {
            "opacity": 1,
            "size": 1
           },
           "mode": "markers",
           "showlegend": false,
           "text": [
            "ID: 12, Pos(0.85,1.64)"
           ],
           "x": [
            0.8488279016949318
           ],
           "y": [
            1.6370406488593048
           ],
           "type": "scatter"
          },
          {
           "hoverinfo": "text",
           "marker": {
            "opacity": 1,
            "size": 1
           },
           "mode": "markers",
           "showlegend": false,
           "text": [
            "ID: 13, Pos(1.73,1.60)"
           ],
           "x": [
            1.7258968673840784
           ],
           "y": [
            1.5962220773638665
           ],
           "type": "scatter"
          },
          {
           "hoverinfo": "text",
           "marker": {
            "opacity": 1,
            "size": 1
           },
           "mode": "markers",
           "showlegend": false,
           "text": [
            "ID: 14, Pos(2.12,3.52)"
           ],
           "x": [
            2.116160882427272
           ],
           "y": [
            3.5204353653542206
           ],
           "type": "scatter"
          },
          {
           "hoverinfo": "text",
           "marker": {
            "opacity": 1,
            "size": 1
           },
           "mode": "markers",
           "showlegend": false,
           "text": [
            "ID: 15, Pos(1.69,2.80)"
           ],
           "x": [
            1.692259232863783
           ],
           "y": [
            2.7972929381969065
           ],
           "type": "scatter"
          },
          {
           "hoverinfo": "text",
           "marker": {
            "opacity": 1,
            "size": 1
           },
           "mode": "markers",
           "showlegend": false,
           "text": [
            "ID: 16, Pos(1.45,3.66)"
           ],
           "x": [
            1.453767774845684
           ],
           "y": [
            3.6607508930614516
           ],
           "type": "scatter"
          },
          {
           "hoverinfo": "text",
           "marker": {
            "opacity": 1,
            "size": 1
           },
           "mode": "markers",
           "showlegend": false,
           "text": [
            "ID: 17, Pos(3.07,4.23)"
           ],
           "x": [
            3.0719865838614573
           ],
           "y": [
            4.234745501580994
           ],
           "type": "scatter"
          },
          {
           "hoverinfo": "text",
           "marker": {
            "opacity": 1,
            "size": 1
           },
           "mode": "markers",
           "showlegend": false,
           "text": [
            "ID: 18, Pos(3.49,1.96)"
           ],
           "x": [
            3.48879726462054
           ],
           "y": [
            1.9561046634672852
           ],
           "type": "scatter"
          },
          {
           "hoverinfo": "text",
           "marker": {
            "opacity": 1,
            "size": 1
           },
           "mode": "markers",
           "showlegend": false,
           "text": [
            "ID: 19, Pos(1.70,3.31)"
           ],
           "x": [
            1.7042831428492793
           ],
           "y": [
            3.3139640340517103
           ],
           "type": "scatter"
          },
          {
           "hoverinfo": "text",
           "marker": {
            "opacity": 1,
            "size": 1
           },
           "mode": "markers",
           "showlegend": false,
           "text": [
            "ID: 20, Pos(1.76,2.25)"
           ],
           "x": [
            1.7565776142251517
           ],
           "y": [
            2.253852105302265
           ],
           "type": "scatter"
          }
         ],
         "layout": {
          "shapes": [
           {
            "fillcolor": "rgba(0, 0, 128, 0.5)",
            "line": {
             "color": "rgba(0, 0, 128, 0.5)"
            },
            "type": "circle",
            "x0": 3.7863327738146735,
            "x1": 4.186332773814674,
            "xref": "x",
            "y0": 4.068834270066489,
            "y1": 4.468834270066489,
            "yref": "y"
           },
           {
            "fillcolor": "rgba(15, 248, 231, 0.5)",
            "line": {
             "color": "rgba(15, 248, 231, 0.5)"
            },
            "type": "circle",
            "x0": 0.6488279016949319,
            "x1": 1.0488279016949318,
            "xref": "x",
            "y0": 1.4370406488593048,
            "y1": 1.8370406488593047,
            "yref": "y"
           },
           {
            "fillcolor": "rgba(0, 0, 128, 0.5)",
            "line": {
             "color": "rgba(0, 0, 128, 0.5)"
            },
            "type": "circle",
            "x0": 1.5258968673840785,
            "x1": 1.9258968673840784,
            "xref": "x",
            "y0": 1.3962220773638665,
            "y1": 1.7962220773638664,
            "yref": "y"
           },
           {
            "fillcolor": "rgba(0, 0, 128, 0.5)",
            "line": {
             "color": "rgba(0, 0, 128, 0.5)"
            },
            "type": "circle",
            "x0": 1.916160882427272,
            "x1": 2.316160882427272,
            "xref": "x",
            "y0": 3.3204353653542205,
            "y1": 3.720435365354221,
            "yref": "y"
           },
           {
            "fillcolor": "rgba(0, 0, 128, 0.5)",
            "line": {
             "color": "rgba(0, 0, 128, 0.5)"
            },
            "type": "circle",
            "x0": 1.4922592328637831,
            "x1": 1.892259232863783,
            "xref": "x",
            "y0": 2.5972929381969063,
            "y1": 2.9972929381969067,
            "yref": "y"
           },
           {
            "fillcolor": "rgba(0, 0, 237, 0.5)",
            "line": {
             "color": "rgba(0, 0, 237, 0.5)"
            },
            "type": "circle",
            "x0": 1.2537677748456841,
            "x1": 1.653767774845684,
            "xref": "x",
            "y0": 3.4607508930614514,
            "y1": 3.860750893061452,
            "yref": "y"
           },
           {
            "fillcolor": "rgba(0, 112, 255, 0.5)",
            "line": {
             "color": "rgba(0, 112, 255, 0.5)"
            },
            "type": "circle",
            "x0": 2.871986583861457,
            "x1": 3.2719865838614575,
            "xref": "x",
            "y0": 4.034745501580994,
            "y1": 4.434745501580994,
            "yref": "y"
           },
           {
            "fillcolor": "rgba(0, 0, 128, 0.5)",
            "line": {
             "color": "rgba(0, 0, 128, 0.5)"
            },
            "type": "circle",
            "x0": 3.28879726462054,
            "x1": 3.6887972646205403,
            "xref": "x",
            "y0": 1.7561046634672852,
            "y1": 2.156104663467285,
            "yref": "y"
           },
           {
            "fillcolor": "rgba(255, 222, 0, 0.5)",
            "line": {
             "color": "rgba(255, 222, 0, 0.5)"
            },
            "type": "circle",
            "x0": 1.5042831428492793,
            "x1": 1.9042831428492792,
            "xref": "x",
            "y0": 3.11396403405171,
            "y1": 3.5139640340517104,
            "yref": "y"
           },
           {
            "fillcolor": "rgba(0, 0, 128, 0.5)",
            "line": {
             "color": "rgba(0, 0, 128, 0.5)"
            },
            "type": "circle",
            "x0": 1.5565776142251517,
            "x1": 1.9565776142251516,
            "xref": "x",
            "y0": 2.0538521053022647,
            "y1": 2.453852105302265,
            "yref": "y"
           },
           {
            "line": {
             "color": "white",
             "width": 3
            },
            "type": "line",
            "x0": 3.9863327738146737,
            "x1": 3.9863327738146737,
            "y0": 4.268834270066489,
            "y1": 4.268834270066489
           },
           {
            "line": {
             "color": "black",
             "width": 3
            },
            "type": "line",
            "x0": 0.8488279016949318,
            "x1": 0.8488279016949318,
            "y0": 1.6370406488593048,
            "y1": 1.6370406488593048
           },
           {
            "line": {
             "color": "white",
             "width": 3
            },
            "type": "line",
            "x0": 1.7258968673840784,
            "x1": 1.7258968673840784,
            "y0": 1.5962220773638665,
            "y1": 1.5962220773638665
           },
           {
            "line": {
             "color": "white",
             "width": 3
            },
            "type": "line",
            "x0": 2.116160882427272,
            "x1": 2.116160882427272,
            "y0": 3.5204353653542206,
            "y1": 3.5204353653542206
           },
           {
            "line": {
             "color": "white",
             "width": 3
            },
            "type": "line",
            "x0": 1.692259232863783,
            "x1": 1.692259232863783,
            "y0": 2.7972929381969065,
            "y1": 2.7972929381969065
           },
           {
            "line": {
             "color": "white",
             "width": 3
            },
            "type": "line",
            "x0": 1.453767774845684,
            "x1": 1.453767774845684,
            "y0": 3.6607508930614516,
            "y1": 3.6607508930614516
           },
           {
            "line": {
             "color": "white",
             "width": 3
            },
            "type": "line",
            "x0": 3.0719865838614573,
            "x1": 3.0719865838614573,
            "y0": 4.234745501580994,
            "y1": 4.234745501580994
           },
           {
            "line": {
             "color": "white",
             "width": 3
            },
            "type": "line",
            "x0": 3.48879726462054,
            "x1": 3.48879726462054,
            "y0": 1.9561046634672852,
            "y1": 1.9561046634672852
           },
           {
            "line": {
             "color": "black",
             "width": 3
            },
            "type": "line",
            "x0": 1.7042831428492793,
            "x1": 1.7042831428492793,
            "y0": 3.3139640340517103,
            "y1": 3.3139640340517103
           },
           {
            "line": {
             "color": "white",
             "width": 3
            },
            "type": "line",
            "x0": 1.7565776142251517,
            "x1": 1.7565776142251517,
            "y0": 2.253852105302265,
            "y1": 2.253852105302265
           }
          ],
          "title": {
           "text": "<b>Percentage using the shortest path: 0%  |  Number of Agents: 10</b>",
           "x": 0.5
          }
         },
         "name": "0"
        },
        {
         "data": [
          {
           "hoverinfo": "name",
           "line": {
            "color": "white"
           },
           "mode": "lines",
           "name": "Exterior",
           "showlegend": false,
           "x": [
            10.1,
            10.1,
            15.0,
            15.0,
            13.6,
            13.6,
            15.0,
            15.0,
            13.6,
            13.6,
            15.0,
            15.0,
            10.1,
            10.1,
            9.9,
            9.9,
            5.1,
            5.1,
            4.9,
            4.9,
            0.0,
            0.0,
            1.5,
            1.5,
            0.0,
            0.0,
            1.5,
            1.5,
            0.0,
            0.0,
            4.9,
            4.9,
            5.1,
            5.1,
            9.9,
            9.9,
            10.1
           ],
           "y": [
            1.5,
            0.0,
            0.0,
            4.9,
            4.9,
            5.1,
            5.1,
            9.9,
            9.9,
            10.1,
            10.1,
            15.0,
            15.0,
            13.6,
            13.6,
            15.0,
            15.0,
            13.6,
            13.6,
            15.0,
            15.0,
            10.1,
            10.1,
            9.9,
            9.9,
            5.1,
            5.1,
            4.9,
            4.9,
            0.0,
            0.0,
            1.5,
            1.5,
            0.0,
            0.0,
            1.5,
            1.5
           ],
           "type": "scatter"
          },
          {
           "hoverinfo": "name",
           "line": {
            "color": "white"
           },
           "mode": "lines",
           "name": "Obstacle",
           "showlegend": false,
           "x": [
            10.1,
            11.5,
            11.5,
            10.1,
            10.1,
            9.9,
            9.9,
            8.6,
            8.6,
            9.9,
            9.9,
            10.1,
            10.1
           ],
           "y": [
            5.1,
            5.1,
            4.9,
            4.9,
            3.6,
            3.6,
            4.9,
            4.9,
            5.1,
            5.1,
            6.5,
            6.5,
            5.1
           ],
           "type": "scatter"
          },
          {
           "hoverinfo": "name",
           "line": {
            "color": "white"
           },
           "mode": "lines",
           "name": "Obstacle",
           "showlegend": false,
           "x": [
            10.1,
            11.5,
            11.5,
            10.1,
            10.1,
            9.9,
            9.9,
            8.6,
            8.6,
            9.9,
            9.9,
            10.1,
            10.1
           ],
           "y": [
            10.1,
            10.1,
            9.9,
            9.9,
            8.6,
            8.6,
            9.9,
            9.9,
            10.1,
            10.1,
            11.5,
            11.5,
            10.1
           ],
           "type": "scatter"
          },
          {
           "hoverinfo": "name",
           "line": {
            "color": "white"
           },
           "mode": "lines",
           "name": "Obstacle",
           "showlegend": false,
           "x": [
            5.1,
            6.4,
            6.4,
            5.1,
            5.1,
            4.9,
            4.9,
            3.6,
            3.6,
            4.9,
            4.9,
            5.1,
            5.1
           ],
           "y": [
            5.1,
            5.1,
            4.9,
            4.9,
            3.6,
            3.6,
            4.9,
            4.9,
            5.1,
            5.1,
            6.5,
            6.5,
            5.1
           ],
           "type": "scatter"
          },
          {
           "hoverinfo": "name",
           "line": {
            "color": "white"
           },
           "mode": "lines",
           "name": "Obstacle",
           "showlegend": false,
           "x": [
            5.1,
            6.4,
            6.4,
            5.1,
            5.1,
            4.9,
            4.9,
            3.6,
            3.6,
            4.9,
            4.9,
            5.1,
            5.1
           ],
           "y": [
            10.1,
            10.1,
            9.9,
            9.9,
            8.6,
            8.6,
            9.9,
            9.9,
            10.1,
            10.1,
            11.5,
            11.5,
            10.1
           ],
           "type": "scatter"
          },
          {
           "fill": "toself",
           "fillcolor": "rgb(0, 0, 0)",
           "hoverinfo": "name",
           "line": {
            "width": 0
           },
           "mode": "lines",
           "name": "Risk Area",
           "showlegend": false,
           "x": [
            1.5,
            1.5,
            3.6,
            3.6,
            4.9,
            4.9,
            5.0,
            5.0,
            4.9,
            4.9,
            0.0,
            0.0,
            1.5
           ],
           "y": [
            4.9,
            5.0,
            5.0,
            4.9,
            4.9,
            3.6,
            3.6,
            1.5,
            1.5,
            0.0,
            0.0,
            4.9,
            4.9
           ],
           "type": "scatter"
          },
          {
           "fill": "toself",
           "fillcolor": "rgb(153, 0, 0)",
           "hoverinfo": "name",
           "line": {
            "width": 0
           },
           "mode": "lines",
           "name": "Risk Area",
           "showlegend": false,
           "x": [
            9.9,
            9.9,
            5.1,
            5.1,
            5.0,
            5.0,
            5.1,
            5.1,
            6.4,
            6.4,
            8.6,
            8.6,
            9.9,
            9.9,
            10.0,
            10.0,
            9.9
           ],
           "y": [
            1.5,
            0.0,
            0.0,
            1.5,
            1.5,
            3.6,
            3.6,
            4.9,
            4.9,
            5.0,
            5.0,
            4.9,
            4.9,
            3.6,
            3.6,
            1.5,
            1.5
           ],
           "type": "scatter"
          },
          {
           "fill": "toself",
           "fillcolor": "rgb(0, 0, 0)",
           "hoverinfo": "name",
           "line": {
            "width": 0
           },
           "mode": "lines",
           "name": "Risk Area",
           "showlegend": false,
           "x": [
            13.6,
            15.0,
            15.0,
            10.1,
            10.1,
            10.0,
            10.0,
            10.1,
            10.1,
            11.5,
            11.5,
            13.6,
            13.6
           ],
           "y": [
            4.9,
            4.9,
            0.0,
            0.0,
            1.5,
            1.5,
            3.6,
            3.6,
            4.9,
            4.9,
            5.0,
            5.0,
            4.9
           ],
           "type": "scatter"
          },
          {
           "fill": "toself",
           "fillcolor": "rgb(153, 0, 0)",
           "hoverinfo": "name",
           "line": {
            "width": 0
           },
           "mode": "lines",
           "name": "Risk Area",
           "showlegend": false,
           "x": [
            13.6,
            15.0,
            15.0,
            13.6,
            13.6,
            11.5,
            11.5,
            10.1,
            10.1,
            10.0,
            10.0,
            10.1,
            10.1,
            11.5,
            11.5,
            13.6,
            13.6
           ],
           "y": [
            9.9,
            9.9,
            5.1,
            5.1,
            5.0,
            5.0,
            5.1,
            5.1,
            6.5,
            6.5,
            8.6,
            8.6,
            9.9,
            9.9,
            10.0,
            10.0,
            9.9
           ],
           "type": "scatter"
          },
          {
           "fill": "toself",
           "fillcolor": "rgb(153, 0, 0)",
           "hoverinfo": "name",
           "line": {
            "width": 0
           },
           "mode": "lines",
           "name": "Risk Area",
           "showlegend": false,
           "x": [
            9.9,
            9.9,
            8.6,
            8.6,
            6.4,
            6.4,
            5.1,
            5.1,
            5.0,
            5.0,
            5.1,
            5.1,
            6.4,
            6.4,
            8.6,
            8.6,
            9.9,
            9.9,
            10.0,
            10.0,
            9.9
           ],
           "y": [
            6.5,
            5.1,
            5.1,
            5.0,
            5.0,
            5.1,
            5.1,
            6.5,
            6.5,
            8.6,
            8.6,
            9.9,
            9.9,
            10.0,
            10.0,
            9.9,
            9.9,
            8.6,
            8.6,
            6.5,
            6.5
           ],
           "type": "scatter"
          },
          {
           "fill": "toself",
           "fillcolor": "rgb(25, 0, 0)",
           "hoverinfo": "name",
           "line": {
            "width": 0
           },
           "mode": "lines",
           "name": "Risk Area",
           "showlegend": false,
           "x": [
            4.9,
            4.9,
            3.6,
            3.6,
            1.5,
            1.5,
            0.0,
            0.0,
            1.5,
            1.5,
            3.6,
            3.6,
            4.9,
            4.9,
            5.0,
            5.0,
            4.9
           ],
           "y": [
            6.5,
            5.1,
            5.1,
            5.0,
            5.0,
            5.1,
            5.1,
            9.9,
            9.9,
            10.0,
            10.0,
            9.9,
            9.9,
            8.6,
            8.6,
            6.5,
            6.5
           ],
           "type": "scatter"
          },
          {
           "fill": "toself",
           "fillcolor": "rgb(0, 0, 0)",
           "hoverinfo": "name",
           "line": {
            "width": 0
           },
           "mode": "lines",
           "name": "Risk Area",
           "showlegend": false,
           "x": [
            1.5,
            0.0,
            0.0,
            4.9,
            4.9,
            5.0,
            5.0,
            4.9,
            4.9,
            3.6,
            3.6,
            1.5,
            1.5
           ],
           "y": [
            10.1,
            10.1,
            15.0,
            15.0,
            13.6,
            13.6,
            11.5,
            11.5,
            10.1,
            10.1,
            10.0,
            10.0,
            10.1
           ],
           "type": "scatter"
          },
          {
           "fill": "toself",
           "fillcolor": "rgb(51, 0, 0)",
           "hoverinfo": "name",
           "line": {
            "width": 0
           },
           "mode": "lines",
           "name": "Risk Area",
           "showlegend": false,
           "x": [
            6.4,
            5.1,
            5.1,
            5.0,
            5.0,
            5.1,
            5.1,
            9.9,
            9.9,
            10.0,
            10.0,
            9.9,
            9.9,
            8.6,
            8.6,
            6.4,
            6.4
           ],
           "y": [
            10.1,
            10.1,
            11.5,
            11.5,
            13.6,
            13.6,
            15.0,
            15.0,
            13.6,
            13.6,
            11.5,
            11.5,
            10.1,
            10.1,
            10.0,
            10.0,
            10.1
           ],
           "type": "scatter"
          },
          {
           "fill": "toself",
           "fillcolor": "rgb(0, 0, 0)",
           "hoverinfo": "name",
           "line": {
            "width": 0
           },
           "mode": "lines",
           "name": "Risk Area",
           "showlegend": false,
           "x": [
            10.1,
            10.1,
            15.0,
            15.0,
            13.6,
            13.6,
            11.5,
            11.5,
            10.1,
            10.1,
            10.0,
            10.0,
            10.1
           ],
           "y": [
            13.6,
            15.0,
            15.0,
            10.1,
            10.1,
            10.0,
            10.0,
            10.1,
            10.1,
            11.5,
            11.5,
            13.6,
            13.6
           ],
           "type": "scatter"
          },
          {
           "hoverinfo": "text",
           "marker": {
            "opacity": 1,
            "size": 1
           },
           "mode": "markers",
           "showlegend": false,
           "text": [
            "ID: 11, Pos(3.62,4.57)"
           ],
           "x": [
            3.624663867004494
           ],
           "y": [
            4.572942041072394
           ],
           "type": "scatter"
          },
          {
           "hoverinfo": "text",
           "marker": {
            "opacity": 1,
            "size": 1
           },
           "mode": "markers",
           "showlegend": false,
           "text": [
            "ID: 12, Pos(1.37,2.85)"
           ],
           "x": [
            1.3726374518931295
           ],
           "y": [
            2.8458001230525047
           ],
           "type": "scatter"
          },
          {
           "hoverinfo": "text",
           "marker": {
            "opacity": 1,
            "size": 1
           },
           "mode": "markers",
           "showlegend": false,
           "text": [
            "ID: 13, Pos(2.15,1.87)"
           ],
           "x": [
            2.1468923029348774
           ],
           "y": [
            1.868570495335488
           ],
           "type": "scatter"
          },
          {
           "hoverinfo": "text",
           "marker": {
            "opacity": 1,
            "size": 1
           },
           "mode": "markers",
           "showlegend": false,
           "text": [
            "ID: 14, Pos(2.57,4.71)"
           ],
           "x": [
            2.5685625821921643
           ],
           "y": [
            4.709391544762826
           ],
           "type": "scatter"
          },
          {
           "hoverinfo": "text",
           "marker": {
            "opacity": 1,
            "size": 1
           },
           "mode": "markers",
           "showlegend": false,
           "text": [
            "ID: 15, Pos(2.14,3.19)"
           ],
           "x": [
            2.135724068214924
           ],
           "y": [
            3.1861311292691084
           ],
           "type": "scatter"
          },
          {
           "hoverinfo": "text",
           "marker": {
            "opacity": 1,
            "size": 1
           },
           "mode": "markers",
           "showlegend": false,
           "text": [
            "ID: 16, Pos(1.96,5.04)"
           ],
           "x": [
            1.960579232601007
           ],
           "y": [
            5.040717503395859
           ],
           "type": "scatter"
          },
          {
           "hoverinfo": "text",
           "marker": {
            "opacity": 1,
            "size": 1
           },
           "mode": "markers",
           "showlegend": false,
           "text": [
            "ID: 17, Pos(3.03,5.28)"
           ],
           "x": [
            3.034440411887453
           ],
           "y": [
            5.278552531984465
           ],
           "type": "scatter"
          },
          {
           "hoverinfo": "text",
           "marker": {
            "opacity": 1,
            "size": 1
           },
           "mode": "markers",
           "showlegend": false,
           "text": [
            "ID: 18, Pos(3.59,3.17)"
           ],
           "x": [
            3.5916390920039114
           ],
           "y": [
            3.1733961277269316
           ],
           "type": "scatter"
          },
          {
           "hoverinfo": "text",
           "marker": {
            "opacity": 1,
            "size": 1
           },
           "mode": "markers",
           "showlegend": false,
           "text": [
            "ID: 19, Pos(1.89,3.98)"
           ],
           "x": [
            1.887176775050277
           ],
           "y": [
            3.9845793231642537
           ],
           "type": "scatter"
          },
          {
           "hoverinfo": "text",
           "marker": {
            "opacity": 1,
            "size": 1
           },
           "mode": "markers",
           "showlegend": false,
           "text": [
            "ID: 20, Pos(2.19,2.50)"
           ],
           "x": [
            2.1870682441532456
           ],
           "y": [
            2.495098850517011
           ],
           "type": "scatter"
          }
         ],
         "layout": {
          "shapes": [
           {
            "fillcolor": "rgba(0, 128, 255, 0.5)",
            "line": {
             "color": "rgba(0, 128, 255, 0.5)"
            },
            "type": "circle",
            "x0": 3.4246638670044938,
            "x1": 3.824663867004494,
            "xref": "x",
            "y0": 4.372942041072394,
            "y1": 4.772942041072394,
            "yref": "y"
           },
           {
            "fillcolor": "rgba(0, 0, 128, 0.5)",
            "line": {
             "color": "rgba(0, 0, 128, 0.5)"
            },
            "type": "circle",
            "x0": 1.1726374518931295,
            "x1": 1.5726374518931294,
            "xref": "x",
            "y0": 2.6458001230525046,
            "y1": 3.045800123052505,
            "yref": "y"
           },
           {
            "fillcolor": "rgba(255, 182, 0, 0.5)",
            "line": {
             "color": "rgba(255, 182, 0, 0.5)"
            },
            "type": "circle",
            "x0": 1.9468923029348775,
            "x1": 2.3468923029348776,
            "xref": "x",
            "y0": 1.668570495335488,
            "y1": 2.068570495335488,
            "yref": "y"
           },
           {
            "fillcolor": "rgba(0, 0, 128, 0.5)",
            "line": {
             "color": "rgba(0, 0, 128, 0.5)"
            },
            "type": "circle",
            "x0": 2.368562582192164,
            "x1": 2.7685625821921644,
            "xref": "x",
            "y0": 4.509391544762826,
            "y1": 4.909391544762826,
            "yref": "y"
           },
           {
            "fillcolor": "rgba(90, 255, 157, 0.5)",
            "line": {
             "color": "rgba(90, 255, 157, 0.5)"
            },
            "type": "circle",
            "x0": 1.9357240682149242,
            "x1": 2.3357240682149243,
            "xref": "x",
            "y0": 2.986131129269108,
            "y1": 3.3861311292691085,
            "yref": "y"
           },
           {
            "fillcolor": "rgba(0, 0, 128, 0.5)",
            "line": {
             "color": "rgba(0, 0, 128, 0.5)"
            },
            "type": "circle",
            "x0": 1.760579232601007,
            "x1": 2.160579232601007,
            "xref": "x",
            "y0": 4.840717503395859,
            "y1": 5.240717503395859,
            "yref": "y"
           },
           {
            "fillcolor": "rgba(0, 0, 128, 0.5)",
            "line": {
             "color": "rgba(0, 0, 128, 0.5)"
            },
            "type": "circle",
            "x0": 2.834440411887453,
            "x1": 3.2344404118874532,
            "xref": "x",
            "y0": 5.078552531984465,
            "y1": 5.478552531984465,
            "yref": "y"
           },
           {
            "fillcolor": "rgba(0, 0, 128, 0.5)",
            "line": {
             "color": "rgba(0, 0, 128, 0.5)"
            },
            "type": "circle",
            "x0": 3.3916390920039112,
            "x1": 3.7916390920039116,
            "xref": "x",
            "y0": 2.9733961277269314,
            "y1": 3.3733961277269318,
            "yref": "y"
           },
           {
            "fillcolor": "rgba(0, 53, 255, 0.5)",
            "line": {
             "color": "rgba(0, 53, 255, 0.5)"
            },
            "type": "circle",
            "x0": 1.687176775050277,
            "x1": 2.087176775050277,
            "xref": "x",
            "y0": 3.7845793231642535,
            "y1": 4.184579323164254,
            "yref": "y"
           },
           {
            "fillcolor": "rgba(238, 255, 9, 0.5)",
            "line": {
             "color": "rgba(238, 255, 9, 0.5)"
            },
            "type": "circle",
            "x0": 1.9870682441532457,
            "x1": 2.387068244153246,
            "xref": "x",
            "y0": 2.295098850517011,
            "y1": 2.6950988505170113,
            "yref": "y"
           },
           {
            "line": {
             "color": "white",
             "width": 3
            },
            "type": "line",
            "x0": 3.624663867004494,
            "x1": 3.424974445443303,
            "y0": 4.572942041072394,
            "y1": 4.584083626083376
           },
           {
            "line": {
             "color": "white",
             "width": 3
            },
            "type": "line",
            "x0": 1.3726374518931295,
            "x1": 1.4105350643284174,
            "y0": 2.8458001230525047,
            "y1": 3.0421767280025462
           },
           {
            "line": {
             "color": "black",
             "width": 3
            },
            "type": "line",
            "x0": 2.1468923029348774,
            "x1": 2.1594252159539273,
            "y0": 1.868570495335488,
            "y1": 2.068177424301536
           },
           {
            "line": {
             "color": "white",
             "width": 3
            },
            "type": "line",
            "x0": 2.5685625821921643,
            "x1": 2.578214239732299,
            "y0": 4.709391544762826,
            "y1": 4.909158522781537
           },
           {
            "line": {
             "color": "black",
             "width": 3
            },
            "type": "line",
            "x0": 2.135724068214924,
            "x1": 2.1558988958439422,
            "y0": 3.1861311292691084,
            "y1": 3.3851109682733136
           },
           {
            "line": {
             "color": "white",
             "width": 3
            },
            "type": "line",
            "x0": 1.960579232601007,
            "x1": 1.9910900807831045,
            "y0": 5.040717503395859,
            "y1": 5.238376523284173
           },
           {
            "line": {
             "color": "white",
             "width": 3
            },
            "type": "line",
            "x0": 3.034440411887453,
            "x1": 2.9992777218855466,
            "y0": 5.278552531984465,
            "y1": 5.475437232334263
           },
           {
            "line": {
             "color": "white",
             "width": 3
            },
            "type": "line",
            "x0": 3.5916390920039114,
            "x1": 3.542722206616879,
            "y0": 3.1733961277269316,
            "y1": 3.3673217276977243
           },
           {
            "line": {
             "color": "white",
             "width": 3
            },
            "type": "line",
            "x0": 1.887176775050277,
            "x1": 1.91789447937893,
            "y0": 3.9845793231642537,
            "y1": 4.182206301688891
           },
           {
            "line": {
             "color": "black",
             "width": 3
            },
            "type": "line",
            "x0": 2.1870682441532456,
            "x1": 2.2064155038077296,
            "y0": 2.495098850517011,
            "y1": 2.694160859810251
           }
          ],
          "title": {
           "text": "<b>Percentage using the shortest path: 0%  |  Number of Agents: 10</b>",
           "x": 0.5
          }
         },
         "name": "50"
        },
        {
         "data": [
          {
           "hoverinfo": "name",
           "line": {
            "color": "white"
           },
           "mode": "lines",
           "name": "Exterior",
           "showlegend": false,
           "x": [
            10.1,
            10.1,
            15.0,
            15.0,
            13.6,
            13.6,
            15.0,
            15.0,
            13.6,
            13.6,
            15.0,
            15.0,
            10.1,
            10.1,
            9.9,
            9.9,
            5.1,
            5.1,
            4.9,
            4.9,
            0.0,
            0.0,
            1.5,
            1.5,
            0.0,
            0.0,
            1.5,
            1.5,
            0.0,
            0.0,
            4.9,
            4.9,
            5.1,
            5.1,
            9.9,
            9.9,
            10.1
           ],
           "y": [
            1.5,
            0.0,
            0.0,
            4.9,
            4.9,
            5.1,
            5.1,
            9.9,
            9.9,
            10.1,
            10.1,
            15.0,
            15.0,
            13.6,
            13.6,
            15.0,
            15.0,
            13.6,
            13.6,
            15.0,
            15.0,
            10.1,
            10.1,
            9.9,
            9.9,
            5.1,
            5.1,
            4.9,
            4.9,
            0.0,
            0.0,
            1.5,
            1.5,
            0.0,
            0.0,
            1.5,
            1.5
           ],
           "type": "scatter"
          },
          {
           "hoverinfo": "name",
           "line": {
            "color": "white"
           },
           "mode": "lines",
           "name": "Obstacle",
           "showlegend": false,
           "x": [
            10.1,
            11.5,
            11.5,
            10.1,
            10.1,
            9.9,
            9.9,
            8.6,
            8.6,
            9.9,
            9.9,
            10.1,
            10.1
           ],
           "y": [
            5.1,
            5.1,
            4.9,
            4.9,
            3.6,
            3.6,
            4.9,
            4.9,
            5.1,
            5.1,
            6.5,
            6.5,
            5.1
           ],
           "type": "scatter"
          },
          {
           "hoverinfo": "name",
           "line": {
            "color": "white"
           },
           "mode": "lines",
           "name": "Obstacle",
           "showlegend": false,
           "x": [
            10.1,
            11.5,
            11.5,
            10.1,
            10.1,
            9.9,
            9.9,
            8.6,
            8.6,
            9.9,
            9.9,
            10.1,
            10.1
           ],
           "y": [
            10.1,
            10.1,
            9.9,
            9.9,
            8.6,
            8.6,
            9.9,
            9.9,
            10.1,
            10.1,
            11.5,
            11.5,
            10.1
           ],
           "type": "scatter"
          },
          {
           "hoverinfo": "name",
           "line": {
            "color": "white"
           },
           "mode": "lines",
           "name": "Obstacle",
           "showlegend": false,
           "x": [
            5.1,
            6.4,
            6.4,
            5.1,
            5.1,
            4.9,
            4.9,
            3.6,
            3.6,
            4.9,
            4.9,
            5.1,
            5.1
           ],
           "y": [
            5.1,
            5.1,
            4.9,
            4.9,
            3.6,
            3.6,
            4.9,
            4.9,
            5.1,
            5.1,
            6.5,
            6.5,
            5.1
           ],
           "type": "scatter"
          },
          {
           "hoverinfo": "name",
           "line": {
            "color": "white"
           },
           "mode": "lines",
           "name": "Obstacle",
           "showlegend": false,
           "x": [
            5.1,
            6.4,
            6.4,
            5.1,
            5.1,
            4.9,
            4.9,
            3.6,
            3.6,
            4.9,
            4.9,
            5.1,
            5.1
           ],
           "y": [
            10.1,
            10.1,
            9.9,
            9.9,
            8.6,
            8.6,
            9.9,
            9.9,
            10.1,
            10.1,
            11.5,
            11.5,
            10.1
           ],
           "type": "scatter"
          },
          {
           "fill": "toself",
           "fillcolor": "rgb(0, 0, 0)",
           "hoverinfo": "name",
           "line": {
            "width": 0
           },
           "mode": "lines",
           "name": "Risk Area",
           "showlegend": false,
           "x": [
            1.5,
            1.5,
            3.6,
            3.6,
            4.9,
            4.9,
            5.0,
            5.0,
            4.9,
            4.9,
            0.0,
            0.0,
            1.5
           ],
           "y": [
            4.9,
            5.0,
            5.0,
            4.9,
            4.9,
            3.6,
            3.6,
            1.5,
            1.5,
            0.0,
            0.0,
            4.9,
            4.9
           ],
           "type": "scatter"
          },
          {
           "fill": "toself",
           "fillcolor": "rgb(153, 0, 0)",
           "hoverinfo": "name",
           "line": {
            "width": 0
           },
           "mode": "lines",
           "name": "Risk Area",
           "showlegend": false,
           "x": [
            9.9,
            9.9,
            5.1,
            5.1,
            5.0,
            5.0,
            5.1,
            5.1,
            6.4,
            6.4,
            8.6,
            8.6,
            9.9,
            9.9,
            10.0,
            10.0,
            9.9
           ],
           "y": [
            1.5,
            0.0,
            0.0,
            1.5,
            1.5,
            3.6,
            3.6,
            4.9,
            4.9,
            5.0,
            5.0,
            4.9,
            4.9,
            3.6,
            3.6,
            1.5,
            1.5
           ],
           "type": "scatter"
          },
          {
           "fill": "toself",
           "fillcolor": "rgb(0, 0, 0)",
           "hoverinfo": "name",
           "line": {
            "width": 0
           },
           "mode": "lines",
           "name": "Risk Area",
           "showlegend": false,
           "x": [
            13.6,
            15.0,
            15.0,
            10.1,
            10.1,
            10.0,
            10.0,
            10.1,
            10.1,
            11.5,
            11.5,
            13.6,
            13.6
           ],
           "y": [
            4.9,
            4.9,
            0.0,
            0.0,
            1.5,
            1.5,
            3.6,
            3.6,
            4.9,
            4.9,
            5.0,
            5.0,
            4.9
           ],
           "type": "scatter"
          },
          {
           "fill": "toself",
           "fillcolor": "rgb(153, 0, 0)",
           "hoverinfo": "name",
           "line": {
            "width": 0
           },
           "mode": "lines",
           "name": "Risk Area",
           "showlegend": false,
           "x": [
            13.6,
            15.0,
            15.0,
            13.6,
            13.6,
            11.5,
            11.5,
            10.1,
            10.1,
            10.0,
            10.0,
            10.1,
            10.1,
            11.5,
            11.5,
            13.6,
            13.6
           ],
           "y": [
            9.9,
            9.9,
            5.1,
            5.1,
            5.0,
            5.0,
            5.1,
            5.1,
            6.5,
            6.5,
            8.6,
            8.6,
            9.9,
            9.9,
            10.0,
            10.0,
            9.9
           ],
           "type": "scatter"
          },
          {
           "fill": "toself",
           "fillcolor": "rgb(153, 0, 0)",
           "hoverinfo": "name",
           "line": {
            "width": 0
           },
           "mode": "lines",
           "name": "Risk Area",
           "showlegend": false,
           "x": [
            9.9,
            9.9,
            8.6,
            8.6,
            6.4,
            6.4,
            5.1,
            5.1,
            5.0,
            5.0,
            5.1,
            5.1,
            6.4,
            6.4,
            8.6,
            8.6,
            9.9,
            9.9,
            10.0,
            10.0,
            9.9
           ],
           "y": [
            6.5,
            5.1,
            5.1,
            5.0,
            5.0,
            5.1,
            5.1,
            6.5,
            6.5,
            8.6,
            8.6,
            9.9,
            9.9,
            10.0,
            10.0,
            9.9,
            9.9,
            8.6,
            8.6,
            6.5,
            6.5
           ],
           "type": "scatter"
          },
          {
           "fill": "toself",
           "fillcolor": "rgb(25, 0, 0)",
           "hoverinfo": "name",
           "line": {
            "width": 0
           },
           "mode": "lines",
           "name": "Risk Area",
           "showlegend": false,
           "x": [
            4.9,
            4.9,
            3.6,
            3.6,
            1.5,
            1.5,
            0.0,
            0.0,
            1.5,
            1.5,
            3.6,
            3.6,
            4.9,
            4.9,
            5.0,
            5.0,
            4.9
           ],
           "y": [
            6.5,
            5.1,
            5.1,
            5.0,
            5.0,
            5.1,
            5.1,
            9.9,
            9.9,
            10.0,
            10.0,
            9.9,
            9.9,
            8.6,
            8.6,
            6.5,
            6.5
           ],
           "type": "scatter"
          },
          {
           "fill": "toself",
           "fillcolor": "rgb(0, 0, 0)",
           "hoverinfo": "name",
           "line": {
            "width": 0
           },
           "mode": "lines",
           "name": "Risk Area",
           "showlegend": false,
           "x": [
            1.5,
            0.0,
            0.0,
            4.9,
            4.9,
            5.0,
            5.0,
            4.9,
            4.9,
            3.6,
            3.6,
            1.5,
            1.5
           ],
           "y": [
            10.1,
            10.1,
            15.0,
            15.0,
            13.6,
            13.6,
            11.5,
            11.5,
            10.1,
            10.1,
            10.0,
            10.0,
            10.1
           ],
           "type": "scatter"
          },
          {
           "fill": "toself",
           "fillcolor": "rgb(51, 0, 0)",
           "hoverinfo": "name",
           "line": {
            "width": 0
           },
           "mode": "lines",
           "name": "Risk Area",
           "showlegend": false,
           "x": [
            6.4,
            5.1,
            5.1,
            5.0,
            5.0,
            5.1,
            5.1,
            9.9,
            9.9,
            10.0,
            10.0,
            9.9,
            9.9,
            8.6,
            8.6,
            6.4,
            6.4
           ],
           "y": [
            10.1,
            10.1,
            11.5,
            11.5,
            13.6,
            13.6,
            15.0,
            15.0,
            13.6,
            13.6,
            11.5,
            11.5,
            10.1,
            10.1,
            10.0,
            10.0,
            10.1
           ],
           "type": "scatter"
          },
          {
           "fill": "toself",
           "fillcolor": "rgb(0, 0, 0)",
           "hoverinfo": "name",
           "line": {
            "width": 0
           },
           "mode": "lines",
           "name": "Risk Area",
           "showlegend": false,
           "x": [
            10.1,
            10.1,
            15.0,
            15.0,
            13.6,
            13.6,
            11.5,
            11.5,
            10.1,
            10.1,
            10.0,
            10.0,
            10.1
           ],
           "y": [
            13.6,
            15.0,
            15.0,
            10.1,
            10.1,
            10.0,
            10.0,
            10.1,
            10.1,
            11.5,
            11.5,
            13.6,
            13.6
           ],
           "type": "scatter"
          },
          {
           "hoverinfo": "text",
           "marker": {
            "opacity": 1,
            "size": 1
           },
           "mode": "markers",
           "showlegend": false,
           "text": [
            "ID: 11, Pos(3.10,5.17)"
           ],
           "x": [
            3.1026552191555368
           ],
           "y": [
            5.168661575786402
           ],
           "type": "scatter"
          },
          {
           "hoverinfo": "text",
           "marker": {
            "opacity": 1,
            "size": 1
           },
           "mode": "markers",
           "showlegend": false,
           "text": [
            "ID: 12, Pos(1.62,4.38)"
           ],
           "x": [
            1.616950958507311
           ],
           "y": [
            4.382105284673975
           ],
           "type": "scatter"
          },
          {
           "hoverinfo": "text",
           "marker": {
            "opacity": 1,
            "size": 1
           },
           "mode": "markers",
           "showlegend": false,
           "text": [
            "ID: 13, Pos(2.19,2.53)"
           ],
           "x": [
            2.1876527661875698
           ],
           "y": [
            2.5265277836263325
           ],
           "type": "scatter"
          },
          {
           "hoverinfo": "text",
           "marker": {
            "opacity": 1,
            "size": 1
           },
           "mode": "markers",
           "showlegend": false,
           "text": [
            "ID: 14, Pos(2.60,5.82)"
           ],
           "x": [
            2.600331519603923
           ],
           "y": [
            5.820774304637576
           ],
           "type": "scatter"
          },
          {
           "hoverinfo": "text",
           "marker": {
            "opacity": 1,
            "size": 1
           },
           "mode": "markers",
           "showlegend": false,
           "text": [
            "ID: 15, Pos(2.33,4.41)"
           ],
           "x": [
            2.33350418913301
           ],
           "y": [
            4.41115865321033
           ],
           "type": "scatter"
          },
          {
           "hoverinfo": "text",
           "marker": {
            "opacity": 1,
            "size": 1
           },
           "mode": "markers",
           "showlegend": false,
           "text": [
            "ID: 16, Pos(2.12,6.63)"
           ],
           "x": [
            2.116749818880267
           ],
           "y": [
            6.628476473807076
           ],
           "type": "scatter"
          },
          {
           "hoverinfo": "text",
           "marker": {
            "opacity": 1,
            "size": 1
           },
           "mode": "markers",
           "showlegend": false,
           "text": [
            "ID: 17, Pos(2.87,6.86)"
           ],
           "x": [
            2.870267920081498
           ],
           "y": [
            6.863428694580823
           ],
           "type": "scatter"
          },
          {
           "hoverinfo": "text",
           "marker": {
            "opacity": 1,
            "size": 1
           },
           "mode": "markers",
           "showlegend": false,
           "text": [
            "ID: 18, Pos(3.30,4.34)"
           ],
           "x": [
            3.2988898698511058
           ],
           "y": [
            4.338910861257535
           ],
           "type": "scatter"
          },
          {
           "hoverinfo": "text",
           "marker": {
            "opacity": 1,
            "size": 1
           },
           "mode": "markers",
           "showlegend": false,
           "text": [
            "ID: 19, Pos(2.07,5.45)"
           ],
           "x": [
            2.068101577021166
           ],
           "y": [
            5.449233639679231
           ],
           "type": "scatter"
          },
          {
           "hoverinfo": "text",
           "marker": {
            "opacity": 1,
            "size": 1
           },
           "mode": "markers",
           "showlegend": false,
           "text": [
            "ID: 20, Pos(2.25,3.39)"
           ],
           "x": [
            2.2489198475130947
           ],
           "y": [
            3.387477723980477
           ],
           "type": "scatter"
          }
         ],
         "layout": {
          "shapes": [
           {
            "fillcolor": "rgba(102, 255, 144, 0.5)",
            "line": {
             "color": "rgba(102, 255, 144, 0.5)"
            },
            "type": "circle",
            "x0": 2.9026552191555366,
            "x1": 3.302655219155537,
            "xref": "x",
            "y0": 4.968661575786402,
            "y1": 5.368661575786402,
            "yref": "y"
           },
           {
            "fillcolor": "rgba(0, 0, 187, 0.5)",
            "line": {
             "color": "rgba(0, 0, 187, 0.5)"
            },
            "type": "circle",
            "x0": 1.416950958507311,
            "x1": 1.816950958507311,
            "xref": "x",
            "y0": 4.182105284673975,
            "y1": 4.582105284673975,
            "yref": "y"
           },
           {
            "fillcolor": "rgba(60, 255, 186, 0.5)",
            "line": {
             "color": "rgba(60, 255, 186, 0.5)"
            },
            "type": "circle",
            "x0": 1.9876527661875698,
            "x1": 2.38765276618757,
            "xref": "x",
            "y0": 2.3265277836263323,
            "y1": 2.7265277836263326,
            "yref": "y"
           },
           {
            "fillcolor": "rgba(0, 29, 255, 0.5)",
            "line": {
             "color": "rgba(0, 29, 255, 0.5)"
            },
            "type": "circle",
            "x0": 2.400331519603923,
            "x1": 2.8003315196039233,
            "xref": "x",
            "y0": 5.6207743046375755,
            "y1": 6.020774304637576,
            "yref": "y"
           },
           {
            "fillcolor": "rgba(0, 0, 128, 0.5)",
            "line": {
             "color": "rgba(0, 0, 128, 0.5)"
            },
            "type": "circle",
            "x0": 2.13350418913301,
            "x1": 2.5335041891330103,
            "xref": "x",
            "y0": 4.21115865321033,
            "y1": 4.61115865321033,
            "yref": "y"
           },
           {
            "fillcolor": "rgba(0, 0, 128, 0.5)",
            "line": {
             "color": "rgba(0, 0, 128, 0.5)"
            },
            "type": "circle",
            "x0": 1.9167498188802672,
            "x1": 2.3167498188802673,
            "xref": "x",
            "y0": 6.428476473807076,
            "y1": 6.8284764738070765,
            "yref": "y"
           },
           {
            "fillcolor": "rgba(0, 0, 128, 0.5)",
            "line": {
             "color": "rgba(0, 0, 128, 0.5)"
            },
            "type": "circle",
            "x0": 2.6702679200814976,
            "x1": 3.070267920081498,
            "xref": "x",
            "y0": 6.663428694580823,
            "y1": 7.063428694580823,
            "yref": "y"
           },
           {
            "fillcolor": "rgba(70, 255, 177, 0.5)",
            "line": {
             "color": "rgba(70, 255, 177, 0.5)"
            },
            "type": "circle",
            "x0": 3.0988898698511056,
            "x1": 3.498889869851106,
            "xref": "x",
            "y0": 4.138910861257535,
            "y1": 4.538910861257535,
            "yref": "y"
           },
           {
            "fillcolor": "rgba(0, 0, 155, 0.5)",
            "line": {
             "color": "rgba(0, 0, 155, 0.5)"
            },
            "type": "circle",
            "x0": 1.868101577021166,
            "x1": 2.268101577021166,
            "xref": "x",
            "y0": 5.249233639679231,
            "y1": 5.649233639679231,
            "yref": "y"
           },
           {
            "fillcolor": "rgba(0, 96, 255, 0.5)",
            "line": {
             "color": "rgba(0, 96, 255, 0.5)"
            },
            "type": "circle",
            "x0": 2.0489198475130945,
            "x1": 2.448919847513095,
            "xref": "x",
            "y0": 3.187477723980477,
            "y1": 3.587477723980477,
            "yref": "y"
           },
           {
            "line": {
             "color": "black",
             "width": 3
            },
            "type": "line",
            "x0": 3.1026552191555368,
            "x1": 3.051718629839062,
            "y0": 5.168661575786402,
            "y1": 5.362066497825126
           },
           {
            "line": {
             "color": "white",
             "width": 3
            },
            "type": "line",
            "x0": 1.616950958507311,
            "x1": 1.6512671745111955,
            "y0": 4.382105284673975,
            "y1": 4.579139285088053
           },
           {
            "line": {
             "color": "black",
             "width": 3
            },
            "type": "line",
            "x0": 2.1876527661875698,
            "x1": 2.200144565575231,
            "y0": 2.5265277836263325,
            "y1": 2.726137289782874
           },
           {
            "line": {
             "color": "white",
             "width": 3
            },
            "type": "line",
            "x0": 2.600331519603923,
            "x1": 2.6175905615058936,
            "y0": 5.820774304637576,
            "y1": 6.020028226738562
           },
           {
            "line": {
             "color": "white",
             "width": 3
            },
            "type": "line",
            "x0": 2.33350418913301,
            "x1": 2.36374602563493,
            "y0": 4.41115865321033,
            "y1": 4.608859010632847
           },
           {
            "line": {
             "color": "white",
             "width": 3
            },
            "type": "line",
            "x0": 2.116749818880267,
            "x1": 2.118472865495519,
            "y0": 6.628476473807076,
            "y1": 6.828469051445252
           },
           {
            "line": {
             "color": "white",
             "width": 3
            },
            "type": "line",
            "x0": 2.870267920081498,
            "x1": 2.867474010472574,
            "y0": 6.863428694580823,
            "y1": 7.063409178801402
           },
           {
            "line": {
             "color": "black",
             "width": 3
            },
            "type": "line",
            "x0": 3.2988898698511058,
            "x1": 3.2512708445697878,
            "y0": 4.338910861257535,
            "y1": 4.5331592291561025
           },
           {
            "line": {
             "color": "white",
             "width": 3
            },
            "type": "line",
            "x0": 2.068101577021166,
            "x1": 2.0744083119057755,
            "y0": 5.449233639679231,
            "y1": 5.649134177685249
           },
           {
            "line": {
             "color": "white",
             "width": 3
            },
            "type": "line",
            "x0": 2.2489198475130947,
            "x1": 2.26125024457371,
            "y0": 3.387477723980477,
            "y1": 3.587097265379428
           }
          ],
          "title": {
           "text": "<b>Percentage using the shortest path: 0%  |  Number of Agents: 10</b>",
           "x": 0.5
          }
         },
         "name": "100"
        },
        {
         "data": [
          {
           "hoverinfo": "name",
           "line": {
            "color": "white"
           },
           "mode": "lines",
           "name": "Exterior",
           "showlegend": false,
           "x": [
            10.1,
            10.1,
            15.0,
            15.0,
            13.6,
            13.6,
            15.0,
            15.0,
            13.6,
            13.6,
            15.0,
            15.0,
            10.1,
            10.1,
            9.9,
            9.9,
            5.1,
            5.1,
            4.9,
            4.9,
            0.0,
            0.0,
            1.5,
            1.5,
            0.0,
            0.0,
            1.5,
            1.5,
            0.0,
            0.0,
            4.9,
            4.9,
            5.1,
            5.1,
            9.9,
            9.9,
            10.1
           ],
           "y": [
            1.5,
            0.0,
            0.0,
            4.9,
            4.9,
            5.1,
            5.1,
            9.9,
            9.9,
            10.1,
            10.1,
            15.0,
            15.0,
            13.6,
            13.6,
            15.0,
            15.0,
            13.6,
            13.6,
            15.0,
            15.0,
            10.1,
            10.1,
            9.9,
            9.9,
            5.1,
            5.1,
            4.9,
            4.9,
            0.0,
            0.0,
            1.5,
            1.5,
            0.0,
            0.0,
            1.5,
            1.5
           ],
           "type": "scatter"
          },
          {
           "hoverinfo": "name",
           "line": {
            "color": "white"
           },
           "mode": "lines",
           "name": "Obstacle",
           "showlegend": false,
           "x": [
            10.1,
            11.5,
            11.5,
            10.1,
            10.1,
            9.9,
            9.9,
            8.6,
            8.6,
            9.9,
            9.9,
            10.1,
            10.1
           ],
           "y": [
            5.1,
            5.1,
            4.9,
            4.9,
            3.6,
            3.6,
            4.9,
            4.9,
            5.1,
            5.1,
            6.5,
            6.5,
            5.1
           ],
           "type": "scatter"
          },
          {
           "hoverinfo": "name",
           "line": {
            "color": "white"
           },
           "mode": "lines",
           "name": "Obstacle",
           "showlegend": false,
           "x": [
            10.1,
            11.5,
            11.5,
            10.1,
            10.1,
            9.9,
            9.9,
            8.6,
            8.6,
            9.9,
            9.9,
            10.1,
            10.1
           ],
           "y": [
            10.1,
            10.1,
            9.9,
            9.9,
            8.6,
            8.6,
            9.9,
            9.9,
            10.1,
            10.1,
            11.5,
            11.5,
            10.1
           ],
           "type": "scatter"
          },
          {
           "hoverinfo": "name",
           "line": {
            "color": "white"
           },
           "mode": "lines",
           "name": "Obstacle",
           "showlegend": false,
           "x": [
            5.1,
            6.4,
            6.4,
            5.1,
            5.1,
            4.9,
            4.9,
            3.6,
            3.6,
            4.9,
            4.9,
            5.1,
            5.1
           ],
           "y": [
            5.1,
            5.1,
            4.9,
            4.9,
            3.6,
            3.6,
            4.9,
            4.9,
            5.1,
            5.1,
            6.5,
            6.5,
            5.1
           ],
           "type": "scatter"
          },
          {
           "hoverinfo": "name",
           "line": {
            "color": "white"
           },
           "mode": "lines",
           "name": "Obstacle",
           "showlegend": false,
           "x": [
            5.1,
            6.4,
            6.4,
            5.1,
            5.1,
            4.9,
            4.9,
            3.6,
            3.6,
            4.9,
            4.9,
            5.1,
            5.1
           ],
           "y": [
            10.1,
            10.1,
            9.9,
            9.9,
            8.6,
            8.6,
            9.9,
            9.9,
            10.1,
            10.1,
            11.5,
            11.5,
            10.1
           ],
           "type": "scatter"
          },
          {
           "fill": "toself",
           "fillcolor": "rgb(0, 0, 0)",
           "hoverinfo": "name",
           "line": {
            "width": 0
           },
           "mode": "lines",
           "name": "Risk Area",
           "showlegend": false,
           "x": [
            1.5,
            1.5,
            3.6,
            3.6,
            4.9,
            4.9,
            5.0,
            5.0,
            4.9,
            4.9,
            0.0,
            0.0,
            1.5
           ],
           "y": [
            4.9,
            5.0,
            5.0,
            4.9,
            4.9,
            3.6,
            3.6,
            1.5,
            1.5,
            0.0,
            0.0,
            4.9,
            4.9
           ],
           "type": "scatter"
          },
          {
           "fill": "toself",
           "fillcolor": "rgb(153, 0, 0)",
           "hoverinfo": "name",
           "line": {
            "width": 0
           },
           "mode": "lines",
           "name": "Risk Area",
           "showlegend": false,
           "x": [
            9.9,
            9.9,
            5.1,
            5.1,
            5.0,
            5.0,
            5.1,
            5.1,
            6.4,
            6.4,
            8.6,
            8.6,
            9.9,
            9.9,
            10.0,
            10.0,
            9.9
           ],
           "y": [
            1.5,
            0.0,
            0.0,
            1.5,
            1.5,
            3.6,
            3.6,
            4.9,
            4.9,
            5.0,
            5.0,
            4.9,
            4.9,
            3.6,
            3.6,
            1.5,
            1.5
           ],
           "type": "scatter"
          },
          {
           "fill": "toself",
           "fillcolor": "rgb(0, 0, 0)",
           "hoverinfo": "name",
           "line": {
            "width": 0
           },
           "mode": "lines",
           "name": "Risk Area",
           "showlegend": false,
           "x": [
            13.6,
            15.0,
            15.0,
            10.1,
            10.1,
            10.0,
            10.0,
            10.1,
            10.1,
            11.5,
            11.5,
            13.6,
            13.6
           ],
           "y": [
            4.9,
            4.9,
            0.0,
            0.0,
            1.5,
            1.5,
            3.6,
            3.6,
            4.9,
            4.9,
            5.0,
            5.0,
            4.9
           ],
           "type": "scatter"
          },
          {
           "fill": "toself",
           "fillcolor": "rgb(153, 0, 0)",
           "hoverinfo": "name",
           "line": {
            "width": 0
           },
           "mode": "lines",
           "name": "Risk Area",
           "showlegend": false,
           "x": [
            13.6,
            15.0,
            15.0,
            13.6,
            13.6,
            11.5,
            11.5,
            10.1,
            10.1,
            10.0,
            10.0,
            10.1,
            10.1,
            11.5,
            11.5,
            13.6,
            13.6
           ],
           "y": [
            9.9,
            9.9,
            5.1,
            5.1,
            5.0,
            5.0,
            5.1,
            5.1,
            6.5,
            6.5,
            8.6,
            8.6,
            9.9,
            9.9,
            10.0,
            10.0,
            9.9
           ],
           "type": "scatter"
          },
          {
           "fill": "toself",
           "fillcolor": "rgb(153, 0, 0)",
           "hoverinfo": "name",
           "line": {
            "width": 0
           },
           "mode": "lines",
           "name": "Risk Area",
           "showlegend": false,
           "x": [
            9.9,
            9.9,
            8.6,
            8.6,
            6.4,
            6.4,
            5.1,
            5.1,
            5.0,
            5.0,
            5.1,
            5.1,
            6.4,
            6.4,
            8.6,
            8.6,
            9.9,
            9.9,
            10.0,
            10.0,
            9.9
           ],
           "y": [
            6.5,
            5.1,
            5.1,
            5.0,
            5.0,
            5.1,
            5.1,
            6.5,
            6.5,
            8.6,
            8.6,
            9.9,
            9.9,
            10.0,
            10.0,
            9.9,
            9.9,
            8.6,
            8.6,
            6.5,
            6.5
           ],
           "type": "scatter"
          },
          {
           "fill": "toself",
           "fillcolor": "rgb(25, 0, 0)",
           "hoverinfo": "name",
           "line": {
            "width": 0
           },
           "mode": "lines",
           "name": "Risk Area",
           "showlegend": false,
           "x": [
            4.9,
            4.9,
            3.6,
            3.6,
            1.5,
            1.5,
            0.0,
            0.0,
            1.5,
            1.5,
            3.6,
            3.6,
            4.9,
            4.9,
            5.0,
            5.0,
            4.9
           ],
           "y": [
            6.5,
            5.1,
            5.1,
            5.0,
            5.0,
            5.1,
            5.1,
            9.9,
            9.9,
            10.0,
            10.0,
            9.9,
            9.9,
            8.6,
            8.6,
            6.5,
            6.5
           ],
           "type": "scatter"
          },
          {
           "fill": "toself",
           "fillcolor": "rgb(0, 0, 0)",
           "hoverinfo": "name",
           "line": {
            "width": 0
           },
           "mode": "lines",
           "name": "Risk Area",
           "showlegend": false,
           "x": [
            1.5,
            0.0,
            0.0,
            4.9,
            4.9,
            5.0,
            5.0,
            4.9,
            4.9,
            3.6,
            3.6,
            1.5,
            1.5
           ],
           "y": [
            10.1,
            10.1,
            15.0,
            15.0,
            13.6,
            13.6,
            11.5,
            11.5,
            10.1,
            10.1,
            10.0,
            10.0,
            10.1
           ],
           "type": "scatter"
          },
          {
           "fill": "toself",
           "fillcolor": "rgb(51, 0, 0)",
           "hoverinfo": "name",
           "line": {
            "width": 0
           },
           "mode": "lines",
           "name": "Risk Area",
           "showlegend": false,
           "x": [
            6.4,
            5.1,
            5.1,
            5.0,
            5.0,
            5.1,
            5.1,
            9.9,
            9.9,
            10.0,
            10.0,
            9.9,
            9.9,
            8.6,
            8.6,
            6.4,
            6.4
           ],
           "y": [
            10.1,
            10.1,
            11.5,
            11.5,
            13.6,
            13.6,
            15.0,
            15.0,
            13.6,
            13.6,
            11.5,
            11.5,
            10.1,
            10.1,
            10.0,
            10.0,
            10.1
           ],
           "type": "scatter"
          },
          {
           "fill": "toself",
           "fillcolor": "rgb(0, 0, 0)",
           "hoverinfo": "name",
           "line": {
            "width": 0
           },
           "mode": "lines",
           "name": "Risk Area",
           "showlegend": false,
           "x": [
            10.1,
            10.1,
            15.0,
            15.0,
            13.6,
            13.6,
            11.5,
            11.5,
            10.1,
            10.1,
            10.0,
            10.0,
            10.1
           ],
           "y": [
            13.6,
            15.0,
            15.0,
            10.1,
            10.1,
            10.0,
            10.0,
            10.1,
            10.1,
            11.5,
            11.5,
            13.6,
            13.6
           ],
           "type": "scatter"
          },
          {
           "hoverinfo": "text",
           "marker": {
            "opacity": 1,
            "size": 1
           },
           "mode": "markers",
           "showlegend": false,
           "text": [
            "ID: 11, Pos(2.96,6.24)"
           ],
           "x": [
            2.9581676026443975
           ],
           "y": [
            6.243316523388464
           ],
           "type": "scatter"
          },
          {
           "hoverinfo": "text",
           "marker": {
            "opacity": 1,
            "size": 1
           },
           "mode": "markers",
           "showlegend": false,
           "text": [
            "ID: 12, Pos(1.94,5.15)"
           ],
           "x": [
            1.9377816298191668
           ],
           "y": [
            5.153257725681714
           ],
           "type": "scatter"
          },
          {
           "hoverinfo": "text",
           "marker": {
            "opacity": 1,
            "size": 1
           },
           "mode": "markers",
           "showlegend": false,
           "text": [
            "ID: 13, Pos(2.26,3.71)"
           ],
           "x": [
            2.2621615723924484
           ],
           "y": [
            3.7147914763581893
           ],
           "type": "scatter"
          },
          {
           "hoverinfo": "text",
           "marker": {
            "opacity": 1,
            "size": 1
           },
           "mode": "markers",
           "showlegend": false,
           "text": [
            "ID: 14, Pos(2.74,7.29)"
           ],
           "x": [
            2.737489465733495
           ],
           "y": [
            7.292000318408571
           ],
           "type": "scatter"
          },
          {
           "hoverinfo": "text",
           "marker": {
            "opacity": 1,
            "size": 1
           },
           "mode": "markers",
           "showlegend": false,
           "text": [
            "ID: 15, Pos(2.37,5.92)"
           ],
           "x": [
            2.3739785731271343
           ],
           "y": [
            5.920418627380049
           ],
           "type": "scatter"
          },
          {
           "hoverinfo": "text",
           "marker": {
            "opacity": 1,
            "size": 1
           },
           "mode": "markers",
           "showlegend": false,
           "text": [
            "ID: 16, Pos(2.13,8.23)"
           ],
           "x": [
            2.1344054310321643
           ],
           "y": [
            8.228378641372304
           ],
           "type": "scatter"
          },
          {
           "hoverinfo": "text",
           "marker": {
            "opacity": 1,
            "size": 1
           },
           "mode": "markers",
           "showlegend": false,
           "text": [
            "ID: 17, Pos(2.85,8.46)"
           ],
           "x": [
            2.8491945578620244
           ],
           "y": [
            8.463289778198781
           ],
           "type": "scatter"
          },
          {
           "hoverinfo": "text",
           "marker": {
            "opacity": 1,
            "size": 1
           },
           "mode": "markers",
           "showlegend": false,
           "text": [
            "ID: 18, Pos(3.05,5.28)"
           ],
           "x": [
            3.047171937903029
           ],
           "y": [
            5.281635062193727
           ],
           "type": "scatter"
          },
          {
           "hoverinfo": "text",
           "marker": {
            "opacity": 1,
            "size": 1
           },
           "mode": "markers",
           "showlegend": false,
           "text": [
            "ID: 19, Pos(2.05,7.03)"
           ],
           "x": [
            2.050799933307093
           ],
           "y": [
            7.031880957380289
           ],
           "type": "scatter"
          },
          {
           "hoverinfo": "text",
           "marker": {
            "opacity": 1,
            "size": 1
           },
           "mode": "markers",
           "showlegend": false,
           "text": [
            "ID: 20, Pos(2.43,4.78)"
           ],
           "x": [
            2.4298220087979896
           ],
           "y": [
            4.782187642838245
           ],
           "type": "scatter"
          }
         ],
         "layout": {
          "shapes": [
           {
            "fillcolor": "rgba(0, 37, 255, 0.5)",
            "line": {
             "color": "rgba(0, 37, 255, 0.5)"
            },
            "type": "circle",
            "x0": 2.7581676026443973,
            "x1": 3.1581676026443977,
            "xref": "x",
            "y0": 6.043316523388464,
            "y1": 6.443316523388464,
            "yref": "y"
           },
           {
            "fillcolor": "rgba(41, 255, 206, 0.5)",
            "line": {
             "color": "rgba(41, 255, 206, 0.5)"
            },
            "type": "circle",
            "x0": 1.7377816298191668,
            "x1": 2.137781629819167,
            "xref": "x",
            "y0": 4.953257725681714,
            "y1": 5.353257725681714,
            "yref": "y"
           },
           {
            "fillcolor": "rgba(0, 24, 255, 0.5)",
            "line": {
             "color": "rgba(0, 24, 255, 0.5)"
            },
            "type": "circle",
            "x0": 2.0621615723924482,
            "x1": 2.4621615723924486,
            "xref": "x",
            "y0": 3.514791476358189,
            "y1": 3.9147914763581895,
            "yref": "y"
           },
           {
            "fillcolor": "rgba(0, 0, 159, 0.5)",
            "line": {
             "color": "rgba(0, 0, 159, 0.5)"
            },
            "type": "circle",
            "x0": 2.5374894657334948,
            "x1": 2.937489465733495,
            "xref": "x",
            "y0": 7.092000318408571,
            "y1": 7.4920003184085715,
            "yref": "y"
           },
           {
            "fillcolor": "rgba(0, 0, 187, 0.5)",
            "line": {
             "color": "rgba(0, 0, 187, 0.5)"
            },
            "type": "circle",
            "x0": 2.173978573127134,
            "x1": 2.5739785731271345,
            "xref": "x",
            "y0": 5.720418627380049,
            "y1": 6.120418627380049,
            "yref": "y"
           },
           {
            "fillcolor": "rgba(0, 0, 128, 0.5)",
            "line": {
             "color": "rgba(0, 0, 128, 0.5)"
            },
            "type": "circle",
            "x0": 1.9344054310321643,
            "x1": 2.3344054310321645,
            "xref": "x",
            "y0": 8.028378641372305,
            "y1": 8.428378641372303,
            "yref": "y"
           },
           {
            "fillcolor": "rgba(0, 0, 128, 0.5)",
            "line": {
             "color": "rgba(0, 0, 128, 0.5)"
            },
            "type": "circle",
            "x0": 2.649194557862024,
            "x1": 3.0491945578620245,
            "xref": "x",
            "y0": 8.263289778198782,
            "y1": 8.66328977819878,
            "yref": "y"
           },
           {
            "fillcolor": "rgba(0, 173, 255, 0.5)",
            "line": {
             "color": "rgba(0, 173, 255, 0.5)"
            },
            "type": "circle",
            "x0": 2.847171937903029,
            "x1": 3.2471719379030293,
            "xref": "x",
            "y0": 5.081635062193727,
            "y1": 5.481635062193727,
            "yref": "y"
           },
           {
            "fillcolor": "rgba(0, 0, 128, 0.5)",
            "line": {
             "color": "rgba(0, 0, 128, 0.5)"
            },
            "type": "circle",
            "x0": 1.850799933307093,
            "x1": 2.250799933307093,
            "xref": "x",
            "y0": 6.831880957380289,
            "y1": 7.231880957380289,
            "yref": "y"
           },
           {
            "fillcolor": "rgba(0, 0, 214, 0.5)",
            "line": {
             "color": "rgba(0, 0, 214, 0.5)"
            },
            "type": "circle",
            "x0": 2.2298220087979894,
            "x1": 2.6298220087979898,
            "xref": "x",
            "y0": 4.582187642838245,
            "y1": 4.9821876428382454,
            "yref": "y"
           },
           {
            "line": {
             "color": "white",
             "width": 3
            },
            "type": "line",
            "x0": 2.9581676026443975,
            "x1": 2.9737458004841697,
            "y0": 6.243316523388464,
            "y1": 6.442708899752419
           },
           {
            "line": {
             "color": "black",
             "width": 3
            },
            "type": "line",
            "x0": 1.9377816298191668,
            "x1": 1.9506087809362653,
            "y0": 5.153257725681714,
            "y1": 5.352845962294544
           },
           {
            "line": {
             "color": "white",
             "width": 3
            },
            "type": "line",
            "x0": 2.2621615723924484,
            "x1": 2.2746532109042463,
            "y0": 3.7147914763581893,
            "y1": 3.914400992582468
           },
           {
            "line": {
             "color": "white",
             "width": 3
            },
            "type": "line",
            "x0": 2.737489465733495,
            "x1": 2.74543965890754,
            "y0": 7.292000318408571,
            "y1": 7.49184224200944
           },
           {
            "line": {
             "color": "white",
             "width": 3
            },
            "type": "line",
            "x0": 2.3739785731271343,
            "x1": 2.3574569607993467,
            "y0": 5.920418627380049,
            "y1": 6.119735050000189
           },
           {
            "line": {
             "color": "white",
             "width": 3
            },
            "type": "line",
            "x0": 2.1344054310321643,
            "x1": 2.136741989418354,
            "y0": 8.228378641372304,
            "y1": 8.42836499214382
           },
           {
            "line": {
             "color": "white",
             "width": 3
            },
            "type": "line",
            "x0": 2.8491945578620244,
            "x1": 2.8466012148951925,
            "y0": 8.463289778198781,
            "y1": 8.663272963922623
           },
           {
            "line": {
             "color": "black",
             "width": 3
            },
            "type": "line",
            "x0": 3.047171937903029,
            "x1": 3.008528492612634,
            "y0": 5.281635062193727,
            "y1": 5.477866262913919
           },
           {
            "line": {
             "color": "white",
             "width": 3
            },
            "type": "line",
            "x0": 2.050799933307093,
            "x1": 2.0496717711894674,
            "y0": 7.031880957380289,
            "y1": 7.2318777754805685
           },
           {
            "line": {
             "color": "white",
             "width": 3
            },
            "type": "line",
            "x0": 2.4298220087979896,
            "x1": 2.4850903408716047,
            "y0": 4.782187642838245,
            "y1": 4.974399534951612
           }
          ],
          "title": {
           "text": "<b>Percentage using the shortest path: 0%  |  Number of Agents: 10</b>",
           "x": 0.5
          }
         },
         "name": "150"
        },
        {
         "data": [
          {
           "hoverinfo": "name",
           "line": {
            "color": "white"
           },
           "mode": "lines",
           "name": "Exterior",
           "showlegend": false,
           "x": [
            10.1,
            10.1,
            15.0,
            15.0,
            13.6,
            13.6,
            15.0,
            15.0,
            13.6,
            13.6,
            15.0,
            15.0,
            10.1,
            10.1,
            9.9,
            9.9,
            5.1,
            5.1,
            4.9,
            4.9,
            0.0,
            0.0,
            1.5,
            1.5,
            0.0,
            0.0,
            1.5,
            1.5,
            0.0,
            0.0,
            4.9,
            4.9,
            5.1,
            5.1,
            9.9,
            9.9,
            10.1
           ],
           "y": [
            1.5,
            0.0,
            0.0,
            4.9,
            4.9,
            5.1,
            5.1,
            9.9,
            9.9,
            10.1,
            10.1,
            15.0,
            15.0,
            13.6,
            13.6,
            15.0,
            15.0,
            13.6,
            13.6,
            15.0,
            15.0,
            10.1,
            10.1,
            9.9,
            9.9,
            5.1,
            5.1,
            4.9,
            4.9,
            0.0,
            0.0,
            1.5,
            1.5,
            0.0,
            0.0,
            1.5,
            1.5
           ],
           "type": "scatter"
          },
          {
           "hoverinfo": "name",
           "line": {
            "color": "white"
           },
           "mode": "lines",
           "name": "Obstacle",
           "showlegend": false,
           "x": [
            10.1,
            11.5,
            11.5,
            10.1,
            10.1,
            9.9,
            9.9,
            8.6,
            8.6,
            9.9,
            9.9,
            10.1,
            10.1
           ],
           "y": [
            5.1,
            5.1,
            4.9,
            4.9,
            3.6,
            3.6,
            4.9,
            4.9,
            5.1,
            5.1,
            6.5,
            6.5,
            5.1
           ],
           "type": "scatter"
          },
          {
           "hoverinfo": "name",
           "line": {
            "color": "white"
           },
           "mode": "lines",
           "name": "Obstacle",
           "showlegend": false,
           "x": [
            10.1,
            11.5,
            11.5,
            10.1,
            10.1,
            9.9,
            9.9,
            8.6,
            8.6,
            9.9,
            9.9,
            10.1,
            10.1
           ],
           "y": [
            10.1,
            10.1,
            9.9,
            9.9,
            8.6,
            8.6,
            9.9,
            9.9,
            10.1,
            10.1,
            11.5,
            11.5,
            10.1
           ],
           "type": "scatter"
          },
          {
           "hoverinfo": "name",
           "line": {
            "color": "white"
           },
           "mode": "lines",
           "name": "Obstacle",
           "showlegend": false,
           "x": [
            5.1,
            6.4,
            6.4,
            5.1,
            5.1,
            4.9,
            4.9,
            3.6,
            3.6,
            4.9,
            4.9,
            5.1,
            5.1
           ],
           "y": [
            5.1,
            5.1,
            4.9,
            4.9,
            3.6,
            3.6,
            4.9,
            4.9,
            5.1,
            5.1,
            6.5,
            6.5,
            5.1
           ],
           "type": "scatter"
          },
          {
           "hoverinfo": "name",
           "line": {
            "color": "white"
           },
           "mode": "lines",
           "name": "Obstacle",
           "showlegend": false,
           "x": [
            5.1,
            6.4,
            6.4,
            5.1,
            5.1,
            4.9,
            4.9,
            3.6,
            3.6,
            4.9,
            4.9,
            5.1,
            5.1
           ],
           "y": [
            10.1,
            10.1,
            9.9,
            9.9,
            8.6,
            8.6,
            9.9,
            9.9,
            10.1,
            10.1,
            11.5,
            11.5,
            10.1
           ],
           "type": "scatter"
          },
          {
           "fill": "toself",
           "fillcolor": "rgb(0, 0, 0)",
           "hoverinfo": "name",
           "line": {
            "width": 0
           },
           "mode": "lines",
           "name": "Risk Area",
           "showlegend": false,
           "x": [
            1.5,
            1.5,
            3.6,
            3.6,
            4.9,
            4.9,
            5.0,
            5.0,
            4.9,
            4.9,
            0.0,
            0.0,
            1.5
           ],
           "y": [
            4.9,
            5.0,
            5.0,
            4.9,
            4.9,
            3.6,
            3.6,
            1.5,
            1.5,
            0.0,
            0.0,
            4.9,
            4.9
           ],
           "type": "scatter"
          },
          {
           "fill": "toself",
           "fillcolor": "rgb(153, 0, 0)",
           "hoverinfo": "name",
           "line": {
            "width": 0
           },
           "mode": "lines",
           "name": "Risk Area",
           "showlegend": false,
           "x": [
            9.9,
            9.9,
            5.1,
            5.1,
            5.0,
            5.0,
            5.1,
            5.1,
            6.4,
            6.4,
            8.6,
            8.6,
            9.9,
            9.9,
            10.0,
            10.0,
            9.9
           ],
           "y": [
            1.5,
            0.0,
            0.0,
            1.5,
            1.5,
            3.6,
            3.6,
            4.9,
            4.9,
            5.0,
            5.0,
            4.9,
            4.9,
            3.6,
            3.6,
            1.5,
            1.5
           ],
           "type": "scatter"
          },
          {
           "fill": "toself",
           "fillcolor": "rgb(0, 0, 0)",
           "hoverinfo": "name",
           "line": {
            "width": 0
           },
           "mode": "lines",
           "name": "Risk Area",
           "showlegend": false,
           "x": [
            13.6,
            15.0,
            15.0,
            10.1,
            10.1,
            10.0,
            10.0,
            10.1,
            10.1,
            11.5,
            11.5,
            13.6,
            13.6
           ],
           "y": [
            4.9,
            4.9,
            0.0,
            0.0,
            1.5,
            1.5,
            3.6,
            3.6,
            4.9,
            4.9,
            5.0,
            5.0,
            4.9
           ],
           "type": "scatter"
          },
          {
           "fill": "toself",
           "fillcolor": "rgb(153, 0, 0)",
           "hoverinfo": "name",
           "line": {
            "width": 0
           },
           "mode": "lines",
           "name": "Risk Area",
           "showlegend": false,
           "x": [
            13.6,
            15.0,
            15.0,
            13.6,
            13.6,
            11.5,
            11.5,
            10.1,
            10.1,
            10.0,
            10.0,
            10.1,
            10.1,
            11.5,
            11.5,
            13.6,
            13.6
           ],
           "y": [
            9.9,
            9.9,
            5.1,
            5.1,
            5.0,
            5.0,
            5.1,
            5.1,
            6.5,
            6.5,
            8.6,
            8.6,
            9.9,
            9.9,
            10.0,
            10.0,
            9.9
           ],
           "type": "scatter"
          },
          {
           "fill": "toself",
           "fillcolor": "rgb(153, 0, 0)",
           "hoverinfo": "name",
           "line": {
            "width": 0
           },
           "mode": "lines",
           "name": "Risk Area",
           "showlegend": false,
           "x": [
            9.9,
            9.9,
            8.6,
            8.6,
            6.4,
            6.4,
            5.1,
            5.1,
            5.0,
            5.0,
            5.1,
            5.1,
            6.4,
            6.4,
            8.6,
            8.6,
            9.9,
            9.9,
            10.0,
            10.0,
            9.9
           ],
           "y": [
            6.5,
            5.1,
            5.1,
            5.0,
            5.0,
            5.1,
            5.1,
            6.5,
            6.5,
            8.6,
            8.6,
            9.9,
            9.9,
            10.0,
            10.0,
            9.9,
            9.9,
            8.6,
            8.6,
            6.5,
            6.5
           ],
           "type": "scatter"
          },
          {
           "fill": "toself",
           "fillcolor": "rgb(25, 0, 0)",
           "hoverinfo": "name",
           "line": {
            "width": 0
           },
           "mode": "lines",
           "name": "Risk Area",
           "showlegend": false,
           "x": [
            4.9,
            4.9,
            3.6,
            3.6,
            1.5,
            1.5,
            0.0,
            0.0,
            1.5,
            1.5,
            3.6,
            3.6,
            4.9,
            4.9,
            5.0,
            5.0,
            4.9
           ],
           "y": [
            6.5,
            5.1,
            5.1,
            5.0,
            5.0,
            5.1,
            5.1,
            9.9,
            9.9,
            10.0,
            10.0,
            9.9,
            9.9,
            8.6,
            8.6,
            6.5,
            6.5
           ],
           "type": "scatter"
          },
          {
           "fill": "toself",
           "fillcolor": "rgb(0, 0, 0)",
           "hoverinfo": "name",
           "line": {
            "width": 0
           },
           "mode": "lines",
           "name": "Risk Area",
           "showlegend": false,
           "x": [
            1.5,
            0.0,
            0.0,
            4.9,
            4.9,
            5.0,
            5.0,
            4.9,
            4.9,
            3.6,
            3.6,
            1.5,
            1.5
           ],
           "y": [
            10.1,
            10.1,
            15.0,
            15.0,
            13.6,
            13.6,
            11.5,
            11.5,
            10.1,
            10.1,
            10.0,
            10.0,
            10.1
           ],
           "type": "scatter"
          },
          {
           "fill": "toself",
           "fillcolor": "rgb(51, 0, 0)",
           "hoverinfo": "name",
           "line": {
            "width": 0
           },
           "mode": "lines",
           "name": "Risk Area",
           "showlegend": false,
           "x": [
            6.4,
            5.1,
            5.1,
            5.0,
            5.0,
            5.1,
            5.1,
            9.9,
            9.9,
            10.0,
            10.0,
            9.9,
            9.9,
            8.6,
            8.6,
            6.4,
            6.4
           ],
           "y": [
            10.1,
            10.1,
            11.5,
            11.5,
            13.6,
            13.6,
            15.0,
            15.0,
            13.6,
            13.6,
            11.5,
            11.5,
            10.1,
            10.1,
            10.0,
            10.0,
            10.1
           ],
           "type": "scatter"
          },
          {
           "fill": "toself",
           "fillcolor": "rgb(0, 0, 0)",
           "hoverinfo": "name",
           "line": {
            "width": 0
           },
           "mode": "lines",
           "name": "Risk Area",
           "showlegend": false,
           "x": [
            10.1,
            10.1,
            15.0,
            15.0,
            13.6,
            13.6,
            11.5,
            11.5,
            10.1,
            10.1,
            10.0,
            10.0,
            10.1
           ],
           "y": [
            13.6,
            15.0,
            15.0,
            10.1,
            10.1,
            10.0,
            10.0,
            10.1,
            10.1,
            11.5,
            11.5,
            13.6,
            13.6
           ],
           "type": "scatter"
          },
          {
           "hoverinfo": "text",
           "marker": {
            "opacity": 1,
            "size": 1
           },
           "mode": "markers",
           "showlegend": false,
           "text": [
            "ID: 11, Pos(2.98,7.71)"
           ],
           "x": [
            2.975063910974815
           ],
           "y": [
            7.714419463712564
           ],
           "type": "scatter"
          },
          {
           "hoverinfo": "text",
           "marker": {
            "opacity": 1,
            "size": 1
           },
           "mode": "markers",
           "showlegend": false,
           "text": [
            "ID: 12, Pos(1.89,6.43)"
           ],
           "x": [
            1.887117925072684
           ],
           "y": [
            6.429951302345017
           ],
           "type": "scatter"
          },
          {
           "hoverinfo": "text",
           "marker": {
            "opacity": 1,
            "size": 1
           },
           "mode": "markers",
           "showlegend": false,
           "text": [
            "ID: 13, Pos(2.35,5.17)"
           ],
           "x": [
            2.3531771543749755
           ],
           "y": [
            5.1657295833827686
           ],
           "type": "scatter"
          },
          {
           "hoverinfo": "text",
           "marker": {
            "opacity": 1,
            "size": 1
           },
           "mode": "markers",
           "showlegend": false,
           "text": [
            "ID: 14, Pos(2.77,8.87)"
           ],
           "x": [
            2.771343948998321
           ],
           "y": [
            8.868837359579636
           ],
           "type": "scatter"
          },
          {
           "hoverinfo": "text",
           "marker": {
            "opacity": 1,
            "size": 1
           },
           "mode": "markers",
           "showlegend": false,
           "text": [
            "ID: 15, Pos(2.27,7.46)"
           ],
           "x": [
            2.272460351565042
           ],
           "y": [
            7.463385283153417
           ],
           "type": "scatter"
          },
          {
           "hoverinfo": "text",
           "marker": {
            "opacity": 1,
            "size": 1
           },
           "mode": "markers",
           "showlegend": false,
           "text": [
            "ID: 16, Pos(2.16,9.83)"
           ],
           "x": [
            2.155857671085766
           ],
           "y": [
            9.82823319358474
           ],
           "type": "scatter"
          },
          {
           "hoverinfo": "text",
           "marker": {
            "opacity": 1,
            "size": 1
           },
           "mode": "markers",
           "showlegend": false,
           "text": [
            "ID: 17, Pos(2.82,10.06)"
           ],
           "x": [
            2.824536662721713
           ],
           "y": [
            10.063096809263753
           ],
           "type": "scatter"
          },
          {
           "hoverinfo": "text",
           "marker": {
            "opacity": 1,
            "size": 1
           },
           "mode": "markers",
           "showlegend": false,
           "text": [
            "ID: 18, Pos(3.09,6.59)"
           ],
           "x": [
            3.088378763412687
           ],
           "y": [
            6.585175026882389
           ],
           "type": "scatter"
          },
          {
           "hoverinfo": "text",
           "marker": {
            "opacity": 1,
            "size": 1
           },
           "mode": "markers",
           "showlegend": false,
           "text": [
            "ID: 19, Pos(2.07,8.63)"
           ],
           "x": [
            2.07343490565318
           ],
           "y": [
            8.631290096103207
           ],
           "type": "scatter"
          },
          {
           "hoverinfo": "text",
           "marker": {
            "opacity": 1,
            "size": 1
           },
           "mode": "markers",
           "showlegend": false,
           "text": [
            "ID: 20, Pos(2.52,6.31)"
           ],
           "x": [
            2.522475743564226
           ],
           "y": [
            6.309268037464245
           ],
           "type": "scatter"
          }
         ],
         "layout": {
          "shapes": [
           {
            "fillcolor": "rgba(0, 0, 164, 0.5)",
            "line": {
             "color": "rgba(0, 0, 164, 0.5)"
            },
            "type": "circle",
            "x0": 2.775063910974815,
            "x1": 3.1750639109748153,
            "xref": "x",
            "y0": 7.514419463712564,
            "y1": 7.914419463712564,
            "yref": "y"
           },
           {
            "fillcolor": "rgba(0, 0, 128, 0.5)",
            "line": {
             "color": "rgba(0, 0, 128, 0.5)"
            },
            "type": "circle",
            "x0": 1.687117925072684,
            "x1": 2.087117925072684,
            "xref": "x",
            "y0": 6.229951302345017,
            "y1": 6.629951302345018,
            "yref": "y"
           },
           {
            "fillcolor": "rgba(0, 0, 191, 0.5)",
            "line": {
             "color": "rgba(0, 0, 191, 0.5)"
            },
            "type": "circle",
            "x0": 2.1531771543749754,
            "x1": 2.5531771543749757,
            "xref": "x",
            "y0": 4.965729583382768,
            "y1": 5.365729583382769,
            "yref": "y"
           },
           {
            "fillcolor": "rgba(0, 0, 132, 0.5)",
            "line": {
             "color": "rgba(0, 0, 132, 0.5)"
            },
            "type": "circle",
            "x0": 2.571343948998321,
            "x1": 2.9713439489983213,
            "xref": "x",
            "y0": 8.668837359579637,
            "y1": 9.068837359579636,
            "yref": "y"
           },
           {
            "fillcolor": "rgba(0, 0, 146, 0.5)",
            "line": {
             "color": "rgba(0, 0, 146, 0.5)"
            },
            "type": "circle",
            "x0": 2.072460351565042,
            "x1": 2.4724603515650423,
            "xref": "x",
            "y0": 7.263385283153417,
            "y1": 7.663385283153417,
            "yref": "y"
           },
           {
            "fillcolor": "rgba(0, 0, 128, 0.5)",
            "line": {
             "color": "rgba(0, 0, 128, 0.5)"
            },
            "type": "circle",
            "x0": 1.9558576710857662,
            "x1": 2.3558576710857664,
            "xref": "x",
            "y0": 9.628233193584741,
            "y1": 10.02823319358474,
            "yref": "y"
           },
           {
            "fillcolor": "rgba(0, 0, 128, 0.5)",
            "line": {
             "color": "rgba(0, 0, 128, 0.5)"
            },
            "type": "circle",
            "x0": 2.624536662721713,
            "x1": 3.0245366627217134,
            "xref": "x",
            "y0": 9.863096809263753,
            "y1": 10.263096809263752,
            "yref": "y"
           },
           {
            "fillcolor": "rgba(0, 0, 223, 0.5)",
            "line": {
             "color": "rgba(0, 0, 223, 0.5)"
            },
            "type": "circle",
            "x0": 2.8883787634126867,
            "x1": 3.288378763412687,
            "xref": "x",
            "y0": 6.385175026882389,
            "y1": 6.785175026882389,
            "yref": "y"
           },
           {
            "fillcolor": "rgba(0, 0, 128, 0.5)",
            "line": {
             "color": "rgba(0, 0, 128, 0.5)"
            },
            "type": "circle",
            "x0": 1.8734349056531798,
            "x1": 2.27343490565318,
            "xref": "x",
            "y0": 8.431290096103208,
            "y1": 8.831290096103206,
            "yref": "y"
           },
           {
            "fillcolor": "rgba(0, 0, 155, 0.5)",
            "line": {
             "color": "rgba(0, 0, 155, 0.5)"
            },
            "type": "circle",
            "x0": 2.322475743564226,
            "x1": 2.7224757435642264,
            "xref": "x",
            "y0": 6.109268037464245,
            "y1": 6.5092680374642455,
            "yref": "y"
           },
           {
            "line": {
             "color": "white",
             "width": 3
            },
            "type": "line",
            "x0": 2.975063910974815,
            "x1": 2.970872811120147,
            "y0": 7.714419463712564,
            "y1": 7.914375545595582
           },
           {
            "line": {
             "color": "white",
             "width": 3
            },
            "type": "line",
            "x0": 1.887117925072684,
            "x1": 1.864118166373978,
            "y0": 6.429951302345017,
            "y1": 6.628624428609747
           },
           {
            "line": {
             "color": "white",
             "width": 3
            },
            "type": "line",
            "x0": 2.3531771543749755,
            "x1": 2.3657290868352905,
            "y0": 5.1657295833827686,
            "y1": 5.365335317247084
           },
           {
            "line": {
             "color": "white",
             "width": 3
            },
            "type": "line",
            "x0": 2.771343948998321,
            "x1": 2.7734207732165754,
            "y0": 8.868837359579636,
            "y1": 9.068826576291855
           },
           {
            "line": {
             "color": "white",
             "width": 3
            },
            "type": "line",
            "x0": 2.272460351565042,
            "x1": 2.2659429536934854,
            "y0": 7.463385283153417,
            "y1": 7.663279063759477
           },
           {
            "line": {
             "color": "white",
             "width": 3
            },
            "type": "line",
            "x0": 2.155857671085766,
            "x1": 2.159241571671929,
            "y0": 9.82823319358474,
            "y1": 10.028204564577747
           },
           {
            "line": {
             "color": "white",
             "width": 3
            },
            "type": "line",
            "x0": 2.824536662721713,
            "x1": 2.8206374743069844,
            "y0": 10.063096809263753,
            "y1": 10.263058796475589
           },
           {
            "line": {
             "color": "white",
             "width": 3
            },
            "type": "line",
            "x0": 3.088378763412687,
            "x1": 3.113398069867275,
            "y0": 6.585175026882389,
            "y1": 6.783603941873454
           },
           {
            "line": {
             "color": "white",
             "width": 3
            },
            "type": "line",
            "x0": 2.07343490565318,
            "x1": 2.07852498448703,
            "y0": 8.631290096103207,
            "y1": 8.831225313354858
           },
           {
            "line": {
             "color": "white",
             "width": 3
            },
            "type": "line",
            "x0": 2.522475743564226,
            "x1": 2.517267288948546,
            "y0": 6.309268037464245,
            "y1": 6.509200205962755
           }
          ],
          "title": {
           "text": "<b>Percentage using the shortest path: 0%  |  Number of Agents: 10</b>",
           "x": 0.5
          }
         },
         "name": "200"
        },
        {
         "data": [
          {
           "hoverinfo": "name",
           "line": {
            "color": "white"
           },
           "mode": "lines",
           "name": "Exterior",
           "showlegend": false,
           "x": [
            10.1,
            10.1,
            15.0,
            15.0,
            13.6,
            13.6,
            15.0,
            15.0,
            13.6,
            13.6,
            15.0,
            15.0,
            10.1,
            10.1,
            9.9,
            9.9,
            5.1,
            5.1,
            4.9,
            4.9,
            0.0,
            0.0,
            1.5,
            1.5,
            0.0,
            0.0,
            1.5,
            1.5,
            0.0,
            0.0,
            4.9,
            4.9,
            5.1,
            5.1,
            9.9,
            9.9,
            10.1
           ],
           "y": [
            1.5,
            0.0,
            0.0,
            4.9,
            4.9,
            5.1,
            5.1,
            9.9,
            9.9,
            10.1,
            10.1,
            15.0,
            15.0,
            13.6,
            13.6,
            15.0,
            15.0,
            13.6,
            13.6,
            15.0,
            15.0,
            10.1,
            10.1,
            9.9,
            9.9,
            5.1,
            5.1,
            4.9,
            4.9,
            0.0,
            0.0,
            1.5,
            1.5,
            0.0,
            0.0,
            1.5,
            1.5
           ],
           "type": "scatter"
          },
          {
           "hoverinfo": "name",
           "line": {
            "color": "white"
           },
           "mode": "lines",
           "name": "Obstacle",
           "showlegend": false,
           "x": [
            10.1,
            11.5,
            11.5,
            10.1,
            10.1,
            9.9,
            9.9,
            8.6,
            8.6,
            9.9,
            9.9,
            10.1,
            10.1
           ],
           "y": [
            5.1,
            5.1,
            4.9,
            4.9,
            3.6,
            3.6,
            4.9,
            4.9,
            5.1,
            5.1,
            6.5,
            6.5,
            5.1
           ],
           "type": "scatter"
          },
          {
           "hoverinfo": "name",
           "line": {
            "color": "white"
           },
           "mode": "lines",
           "name": "Obstacle",
           "showlegend": false,
           "x": [
            10.1,
            11.5,
            11.5,
            10.1,
            10.1,
            9.9,
            9.9,
            8.6,
            8.6,
            9.9,
            9.9,
            10.1,
            10.1
           ],
           "y": [
            10.1,
            10.1,
            9.9,
            9.9,
            8.6,
            8.6,
            9.9,
            9.9,
            10.1,
            10.1,
            11.5,
            11.5,
            10.1
           ],
           "type": "scatter"
          },
          {
           "hoverinfo": "name",
           "line": {
            "color": "white"
           },
           "mode": "lines",
           "name": "Obstacle",
           "showlegend": false,
           "x": [
            5.1,
            6.4,
            6.4,
            5.1,
            5.1,
            4.9,
            4.9,
            3.6,
            3.6,
            4.9,
            4.9,
            5.1,
            5.1
           ],
           "y": [
            5.1,
            5.1,
            4.9,
            4.9,
            3.6,
            3.6,
            4.9,
            4.9,
            5.1,
            5.1,
            6.5,
            6.5,
            5.1
           ],
           "type": "scatter"
          },
          {
           "hoverinfo": "name",
           "line": {
            "color": "white"
           },
           "mode": "lines",
           "name": "Obstacle",
           "showlegend": false,
           "x": [
            5.1,
            6.4,
            6.4,
            5.1,
            5.1,
            4.9,
            4.9,
            3.6,
            3.6,
            4.9,
            4.9,
            5.1,
            5.1
           ],
           "y": [
            10.1,
            10.1,
            9.9,
            9.9,
            8.6,
            8.6,
            9.9,
            9.9,
            10.1,
            10.1,
            11.5,
            11.5,
            10.1
           ],
           "type": "scatter"
          },
          {
           "fill": "toself",
           "fillcolor": "rgb(0, 0, 0)",
           "hoverinfo": "name",
           "line": {
            "width": 0
           },
           "mode": "lines",
           "name": "Risk Area",
           "showlegend": false,
           "x": [
            1.5,
            1.5,
            3.6,
            3.6,
            4.9,
            4.9,
            5.0,
            5.0,
            4.9,
            4.9,
            0.0,
            0.0,
            1.5
           ],
           "y": [
            4.9,
            5.0,
            5.0,
            4.9,
            4.9,
            3.6,
            3.6,
            1.5,
            1.5,
            0.0,
            0.0,
            4.9,
            4.9
           ],
           "type": "scatter"
          },
          {
           "fill": "toself",
           "fillcolor": "rgb(153, 0, 0)",
           "hoverinfo": "name",
           "line": {
            "width": 0
           },
           "mode": "lines",
           "name": "Risk Area",
           "showlegend": false,
           "x": [
            9.9,
            9.9,
            5.1,
            5.1,
            5.0,
            5.0,
            5.1,
            5.1,
            6.4,
            6.4,
            8.6,
            8.6,
            9.9,
            9.9,
            10.0,
            10.0,
            9.9
           ],
           "y": [
            1.5,
            0.0,
            0.0,
            1.5,
            1.5,
            3.6,
            3.6,
            4.9,
            4.9,
            5.0,
            5.0,
            4.9,
            4.9,
            3.6,
            3.6,
            1.5,
            1.5
           ],
           "type": "scatter"
          },
          {
           "fill": "toself",
           "fillcolor": "rgb(0, 0, 0)",
           "hoverinfo": "name",
           "line": {
            "width": 0
           },
           "mode": "lines",
           "name": "Risk Area",
           "showlegend": false,
           "x": [
            13.6,
            15.0,
            15.0,
            10.1,
            10.1,
            10.0,
            10.0,
            10.1,
            10.1,
            11.5,
            11.5,
            13.6,
            13.6
           ],
           "y": [
            4.9,
            4.9,
            0.0,
            0.0,
            1.5,
            1.5,
            3.6,
            3.6,
            4.9,
            4.9,
            5.0,
            5.0,
            4.9
           ],
           "type": "scatter"
          },
          {
           "fill": "toself",
           "fillcolor": "rgb(153, 0, 0)",
           "hoverinfo": "name",
           "line": {
            "width": 0
           },
           "mode": "lines",
           "name": "Risk Area",
           "showlegend": false,
           "x": [
            13.6,
            15.0,
            15.0,
            13.6,
            13.6,
            11.5,
            11.5,
            10.1,
            10.1,
            10.0,
            10.0,
            10.1,
            10.1,
            11.5,
            11.5,
            13.6,
            13.6
           ],
           "y": [
            9.9,
            9.9,
            5.1,
            5.1,
            5.0,
            5.0,
            5.1,
            5.1,
            6.5,
            6.5,
            8.6,
            8.6,
            9.9,
            9.9,
            10.0,
            10.0,
            9.9
           ],
           "type": "scatter"
          },
          {
           "fill": "toself",
           "fillcolor": "rgb(153, 0, 0)",
           "hoverinfo": "name",
           "line": {
            "width": 0
           },
           "mode": "lines",
           "name": "Risk Area",
           "showlegend": false,
           "x": [
            9.9,
            9.9,
            8.6,
            8.6,
            6.4,
            6.4,
            5.1,
            5.1,
            5.0,
            5.0,
            5.1,
            5.1,
            6.4,
            6.4,
            8.6,
            8.6,
            9.9,
            9.9,
            10.0,
            10.0,
            9.9
           ],
           "y": [
            6.5,
            5.1,
            5.1,
            5.0,
            5.0,
            5.1,
            5.1,
            6.5,
            6.5,
            8.6,
            8.6,
            9.9,
            9.9,
            10.0,
            10.0,
            9.9,
            9.9,
            8.6,
            8.6,
            6.5,
            6.5
           ],
           "type": "scatter"
          },
          {
           "fill": "toself",
           "fillcolor": "rgb(25, 0, 0)",
           "hoverinfo": "name",
           "line": {
            "width": 0
           },
           "mode": "lines",
           "name": "Risk Area",
           "showlegend": false,
           "x": [
            4.9,
            4.9,
            3.6,
            3.6,
            1.5,
            1.5,
            0.0,
            0.0,
            1.5,
            1.5,
            3.6,
            3.6,
            4.9,
            4.9,
            5.0,
            5.0,
            4.9
           ],
           "y": [
            6.5,
            5.1,
            5.1,
            5.0,
            5.0,
            5.1,
            5.1,
            9.9,
            9.9,
            10.0,
            10.0,
            9.9,
            9.9,
            8.6,
            8.6,
            6.5,
            6.5
           ],
           "type": "scatter"
          },
          {
           "fill": "toself",
           "fillcolor": "rgb(0, 0, 0)",
           "hoverinfo": "name",
           "line": {
            "width": 0
           },
           "mode": "lines",
           "name": "Risk Area",
           "showlegend": false,
           "x": [
            1.5,
            0.0,
            0.0,
            4.9,
            4.9,
            5.0,
            5.0,
            4.9,
            4.9,
            3.6,
            3.6,
            1.5,
            1.5
           ],
           "y": [
            10.1,
            10.1,
            15.0,
            15.0,
            13.6,
            13.6,
            11.5,
            11.5,
            10.1,
            10.1,
            10.0,
            10.0,
            10.1
           ],
           "type": "scatter"
          },
          {
           "fill": "toself",
           "fillcolor": "rgb(51, 0, 0)",
           "hoverinfo": "name",
           "line": {
            "width": 0
           },
           "mode": "lines",
           "name": "Risk Area",
           "showlegend": false,
           "x": [
            6.4,
            5.1,
            5.1,
            5.0,
            5.0,
            5.1,
            5.1,
            9.9,
            9.9,
            10.0,
            10.0,
            9.9,
            9.9,
            8.6,
            8.6,
            6.4,
            6.4
           ],
           "y": [
            10.1,
            10.1,
            11.5,
            11.5,
            13.6,
            13.6,
            15.0,
            15.0,
            13.6,
            13.6,
            11.5,
            11.5,
            10.1,
            10.1,
            10.0,
            10.0,
            10.1
           ],
           "type": "scatter"
          },
          {
           "fill": "toself",
           "fillcolor": "rgb(0, 0, 0)",
           "hoverinfo": "name",
           "line": {
            "width": 0
           },
           "mode": "lines",
           "name": "Risk Area",
           "showlegend": false,
           "x": [
            10.1,
            10.1,
            15.0,
            15.0,
            13.6,
            13.6,
            11.5,
            11.5,
            10.1,
            10.1,
            10.0,
            10.0,
            10.1
           ],
           "y": [
            13.6,
            15.0,
            15.0,
            10.1,
            10.1,
            10.0,
            10.0,
            10.1,
            10.1,
            11.5,
            11.5,
            13.6,
            13.6
           ],
           "type": "scatter"
          },
          {
           "hoverinfo": "text",
           "marker": {
            "opacity": 1,
            "size": 1
           },
           "mode": "markers",
           "showlegend": false,
           "text": [
            "ID: 11, Pos(2.93,9.26)"
           ],
           "x": [
            2.927394079540924
           ],
           "y": [
            9.262211827137127
           ],
           "type": "scatter"
          },
          {
           "hoverinfo": "text",
           "marker": {
            "opacity": 1,
            "size": 1
           },
           "mode": "markers",
           "showlegend": false,
           "text": [
            "ID: 12, Pos(1.83,8.02)"
           ],
           "x": [
            1.8330759280005802
           ],
           "y": [
            8.024788524790797
           ],
           "type": "scatter"
          },
          {
           "hoverinfo": "text",
           "marker": {
            "opacity": 1,
            "size": 1
           },
           "mode": "markers",
           "showlegend": false,
           "text": [
            "ID: 13, Pos(2.42,6.70)"
           ],
           "x": [
            2.416021234616005
           ],
           "y": [
            6.70358408166514
           ],
           "type": "scatter"
          },
          {
           "hoverinfo": "text",
           "marker": {
            "opacity": 1,
            "size": 1
           },
           "mode": "markers",
           "showlegend": false,
           "text": [
            "ID: 14, Pos(2.78,10.38)"
           ],
           "x": [
            2.7809570933688215
           ],
           "y": [
            10.377223523372093
           ],
           "type": "scatter"
          },
          {
           "hoverinfo": "text",
           "marker": {
            "opacity": 1,
            "size": 1
           },
           "mode": "markers",
           "showlegend": false,
           "text": [
            "ID: 15, Pos(2.24,9.03)"
           ],
           "x": [
            2.2368219918723056
           ],
           "y": [
            9.033579320580799
           ],
           "type": "scatter"
          },
          {
           "hoverinfo": "text",
           "marker": {
            "opacity": 1,
            "size": 1
           },
           "mode": "markers",
           "showlegend": false,
           "text": [
            "ID: 16, Pos(2.44,11.11)"
           ],
           "x": [
            2.437937422149642
           ],
           "y": [
            11.105419615636162
           ],
           "type": "scatter"
          },
          {
           "hoverinfo": "text",
           "marker": {
            "opacity": 1,
            "size": 1
           },
           "mode": "markers",
           "showlegend": false,
           "text": [
            "ID: 17, Pos(3.40,11.22)"
           ],
           "x": [
            3.402875240013397
           ],
           "y": [
            11.221899202664561
           ],
           "type": "scatter"
          },
          {
           "hoverinfo": "text",
           "marker": {
            "opacity": 1,
            "size": 1
           },
           "mode": "markers",
           "showlegend": false,
           "text": [
            "ID: 18, Pos(3.15,8.11)"
           ],
           "x": [
            3.148842798262761
           ],
           "y": [
            8.113111435409955
           ],
           "type": "scatter"
          },
          {
           "hoverinfo": "text",
           "marker": {
            "opacity": 1,
            "size": 1
           },
           "mode": "markers",
           "showlegend": false,
           "text": [
            "ID: 19, Pos(2.12,10.17)"
           ],
           "x": [
            2.1191699432523445
           ],
           "y": [
            10.17048724646153
           ],
           "type": "scatter"
          },
          {
           "hoverinfo": "text",
           "marker": {
            "opacity": 1,
            "size": 1
           },
           "mode": "markers",
           "showlegend": false,
           "text": [
            "ID: 20, Pos(2.51,7.88)"
           ],
           "x": [
            2.506189097930183
           ],
           "y": [
            7.8808779014051975
           ],
           "type": "scatter"
          }
         ],
         "layout": {
          "shapes": [
           {
            "fillcolor": "rgba(0, 0, 241, 0.5)",
            "line": {
             "color": "rgba(0, 0, 241, 0.5)"
            },
            "type": "circle",
            "x0": 2.727394079540924,
            "x1": 3.1273940795409243,
            "xref": "x",
            "y0": 9.062211827137128,
            "y1": 9.462211827137127,
            "yref": "y"
           },
           {
            "fillcolor": "rgba(0, 0, 218, 0.5)",
            "line": {
             "color": "rgba(0, 0, 218, 0.5)"
            },
            "type": "circle",
            "x0": 1.6330759280005802,
            "x1": 2.03307592800058,
            "xref": "x",
            "y0": 7.8247885247907965,
            "y1": 8.224788524790796,
            "yref": "y"
           },
           {
            "fillcolor": "rgba(0, 0, 155, 0.5)",
            "line": {
             "color": "rgba(0, 0, 155, 0.5)"
            },
            "type": "circle",
            "x0": 2.216021234616005,
            "x1": 2.616021234616005,
            "xref": "x",
            "y0": 6.50358408166514,
            "y1": 6.90358408166514,
            "yref": "y"
           },
           {
            "fillcolor": "rgba(31, 255, 215, 0.5)",
            "line": {
             "color": "rgba(31, 255, 215, 0.5)"
            },
            "type": "circle",
            "x0": 2.5809570933688213,
            "x1": 2.9809570933688216,
            "xref": "x",
            "y0": 10.177223523372094,
            "y1": 10.577223523372092,
            "yref": "y"
           },
           {
            "fillcolor": "rgba(0, 0, 209, 0.5)",
            "line": {
             "color": "rgba(0, 0, 209, 0.5)"
            },
            "type": "circle",
            "x0": 2.0368219918723054,
            "x1": 2.4368219918723057,
            "xref": "x",
            "y0": 8.8335793205808,
            "y1": 9.233579320580798,
            "yref": "y"
           },
           {
            "fillcolor": "rgba(0, 168, 255, 0.5)",
            "line": {
             "color": "rgba(0, 168, 255, 0.5)"
            },
            "type": "circle",
            "x0": 2.237937422149642,
            "x1": 2.6379374221496423,
            "xref": "x",
            "y0": 10.905419615636163,
            "y1": 11.305419615636161,
            "yref": "y"
           },
           {
            "fillcolor": "rgba(0, 0, 128, 0.5)",
            "line": {
             "color": "rgba(0, 0, 128, 0.5)"
            },
            "type": "circle",
            "x0": 3.202875240013397,
            "x1": 3.602875240013397,
            "xref": "x",
            "y0": 11.021899202664562,
            "y1": 11.42189920266456,
            "yref": "y"
           },
           {
            "fillcolor": "rgba(0, 0, 173, 0.5)",
            "line": {
             "color": "rgba(0, 0, 173, 0.5)"
            },
            "type": "circle",
            "x0": 2.9488427982627607,
            "x1": 3.348842798262761,
            "xref": "x",
            "y0": 7.913111435409955,
            "y1": 8.313111435409954,
            "yref": "y"
           },
           {
            "fillcolor": "rgba(0, 120, 255, 0.5)",
            "line": {
             "color": "rgba(0, 120, 255, 0.5)"
            },
            "type": "circle",
            "x0": 1.9191699432523446,
            "x1": 2.3191699432523447,
            "xref": "x",
            "y0": 9.97048724646153,
            "y1": 10.37048724646153,
            "yref": "y"
           },
           {
            "fillcolor": "rgba(0, 0, 150, 0.5)",
            "line": {
             "color": "rgba(0, 0, 150, 0.5)"
            },
            "type": "circle",
            "x0": 2.306189097930183,
            "x1": 2.7061890979301833,
            "xref": "x",
            "y0": 7.680877901405197,
            "y1": 8.080877901405197,
            "yref": "y"
           },
           {
            "line": {
             "color": "white",
             "width": 3
            },
            "type": "line",
            "x0": 2.927394079540924,
            "x1": 2.9201716339794648,
            "y0": 9.262211827137127,
            "y1": 9.462081375293199
           },
           {
            "line": {
             "color": "white",
             "width": 3
            },
            "type": "line",
            "x0": 1.8330759280005802,
            "x1": 1.8338651018550014,
            "y0": 8.024788524790797,
            "y1": 8.224786967796305
           },
           {
            "line": {
             "color": "white",
             "width": 3
            },
            "type": "line",
            "x0": 2.416021234616005,
            "x1": 2.418910071687816,
            "y0": 6.70358408166514,
            "y1": 6.903563217127749
           },
           {
            "line": {
             "color": "black",
             "width": 3
            },
            "type": "line",
            "x0": 2.7809570933688215,
            "x1": 2.784232579293704,
            "y0": 10.377223523372093,
            "y1": 10.57719669955319
           },
           {
            "line": {
             "color": "white",
             "width": 3
            },
            "type": "line",
            "x0": 2.2368219918723056,
            "x1": 2.233301901835475,
            "y0": 9.033579320580799,
            "y1": 9.233548340596732
           },
           {
            "line": {
             "color": "black",
             "width": 3
            },
            "type": "line",
            "x0": 2.437937422149642,
            "x1": 2.6278230818765014,
            "y0": 11.105419615636162,
            "y1": 11.168216400825338
           },
           {
            "line": {
             "color": "white",
             "width": 3
            },
            "type": "line",
            "x0": 3.402875240013397,
            "x1": 3.593349340621758,
            "y0": 11.221899202664561,
            "y1": 11.28288786552444
           },
           {
            "line": {
             "color": "white",
             "width": 3
            },
            "type": "line",
            "x0": 3.148842798262761,
            "x1": 3.148542229381857,
            "y0": 8.113111435409955,
            "y1": 8.313111209555696
           },
           {
            "line": {
             "color": "white",
             "width": 3
            },
            "type": "line",
            "x0": 2.1191699432523445,
            "x1": 2.125429655157864,
            "y0": 10.17048724646153,
            "y1": 10.370389262476527
           },
           {
            "line": {
             "color": "white",
             "width": 3
            },
            "type": "line",
            "x0": 2.506189097930183,
            "x1": 2.5055419049774326,
            "y0": 7.8808779014051975,
            "y1": 8.080876854255662
           }
          ],
          "title": {
           "text": "<b>Percentage using the shortest path: 0%  |  Number of Agents: 10</b>",
           "x": 0.5
          }
         },
         "name": "250"
        },
        {
         "data": [
          {
           "hoverinfo": "name",
           "line": {
            "color": "white"
           },
           "mode": "lines",
           "name": "Exterior",
           "showlegend": false,
           "x": [
            10.1,
            10.1,
            15.0,
            15.0,
            13.6,
            13.6,
            15.0,
            15.0,
            13.6,
            13.6,
            15.0,
            15.0,
            10.1,
            10.1,
            9.9,
            9.9,
            5.1,
            5.1,
            4.9,
            4.9,
            0.0,
            0.0,
            1.5,
            1.5,
            0.0,
            0.0,
            1.5,
            1.5,
            0.0,
            0.0,
            4.9,
            4.9,
            5.1,
            5.1,
            9.9,
            9.9,
            10.1
           ],
           "y": [
            1.5,
            0.0,
            0.0,
            4.9,
            4.9,
            5.1,
            5.1,
            9.9,
            9.9,
            10.1,
            10.1,
            15.0,
            15.0,
            13.6,
            13.6,
            15.0,
            15.0,
            13.6,
            13.6,
            15.0,
            15.0,
            10.1,
            10.1,
            9.9,
            9.9,
            5.1,
            5.1,
            4.9,
            4.9,
            0.0,
            0.0,
            1.5,
            1.5,
            0.0,
            0.0,
            1.5,
            1.5
           ],
           "type": "scatter"
          },
          {
           "hoverinfo": "name",
           "line": {
            "color": "white"
           },
           "mode": "lines",
           "name": "Obstacle",
           "showlegend": false,
           "x": [
            10.1,
            11.5,
            11.5,
            10.1,
            10.1,
            9.9,
            9.9,
            8.6,
            8.6,
            9.9,
            9.9,
            10.1,
            10.1
           ],
           "y": [
            5.1,
            5.1,
            4.9,
            4.9,
            3.6,
            3.6,
            4.9,
            4.9,
            5.1,
            5.1,
            6.5,
            6.5,
            5.1
           ],
           "type": "scatter"
          },
          {
           "hoverinfo": "name",
           "line": {
            "color": "white"
           },
           "mode": "lines",
           "name": "Obstacle",
           "showlegend": false,
           "x": [
            10.1,
            11.5,
            11.5,
            10.1,
            10.1,
            9.9,
            9.9,
            8.6,
            8.6,
            9.9,
            9.9,
            10.1,
            10.1
           ],
           "y": [
            10.1,
            10.1,
            9.9,
            9.9,
            8.6,
            8.6,
            9.9,
            9.9,
            10.1,
            10.1,
            11.5,
            11.5,
            10.1
           ],
           "type": "scatter"
          },
          {
           "hoverinfo": "name",
           "line": {
            "color": "white"
           },
           "mode": "lines",
           "name": "Obstacle",
           "showlegend": false,
           "x": [
            5.1,
            6.4,
            6.4,
            5.1,
            5.1,
            4.9,
            4.9,
            3.6,
            3.6,
            4.9,
            4.9,
            5.1,
            5.1
           ],
           "y": [
            5.1,
            5.1,
            4.9,
            4.9,
            3.6,
            3.6,
            4.9,
            4.9,
            5.1,
            5.1,
            6.5,
            6.5,
            5.1
           ],
           "type": "scatter"
          },
          {
           "hoverinfo": "name",
           "line": {
            "color": "white"
           },
           "mode": "lines",
           "name": "Obstacle",
           "showlegend": false,
           "x": [
            5.1,
            6.4,
            6.4,
            5.1,
            5.1,
            4.9,
            4.9,
            3.6,
            3.6,
            4.9,
            4.9,
            5.1,
            5.1
           ],
           "y": [
            10.1,
            10.1,
            9.9,
            9.9,
            8.6,
            8.6,
            9.9,
            9.9,
            10.1,
            10.1,
            11.5,
            11.5,
            10.1
           ],
           "type": "scatter"
          },
          {
           "fill": "toself",
           "fillcolor": "rgb(25, 0, 0)",
           "hoverinfo": "name",
           "line": {
            "width": 0
           },
           "mode": "lines",
           "name": "Risk Area",
           "showlegend": false,
           "x": [
            1.5,
            1.5,
            3.6,
            3.6,
            4.9,
            4.9,
            5.0,
            5.0,
            4.9,
            4.9,
            0.0,
            0.0,
            1.5
           ],
           "y": [
            4.9,
            5.0,
            5.0,
            4.9,
            4.9,
            3.6,
            3.6,
            1.5,
            1.5,
            0.0,
            0.0,
            4.9,
            4.9
           ],
           "type": "scatter"
          },
          {
           "fill": "toself",
           "fillcolor": "rgb(153, 0, 0)",
           "hoverinfo": "name",
           "line": {
            "width": 0
           },
           "mode": "lines",
           "name": "Risk Area",
           "showlegend": false,
           "x": [
            9.9,
            9.9,
            5.1,
            5.1,
            5.0,
            5.0,
            5.1,
            5.1,
            6.4,
            6.4,
            8.6,
            8.6,
            9.9,
            9.9,
            10.0,
            10.0,
            9.9
           ],
           "y": [
            1.5,
            0.0,
            0.0,
            1.5,
            1.5,
            3.6,
            3.6,
            4.9,
            4.9,
            5.0,
            5.0,
            4.9,
            4.9,
            3.6,
            3.6,
            1.5,
            1.5
           ],
           "type": "scatter"
          },
          {
           "fill": "toself",
           "fillcolor": "rgb(0, 0, 0)",
           "hoverinfo": "name",
           "line": {
            "width": 0
           },
           "mode": "lines",
           "name": "Risk Area",
           "showlegend": false,
           "x": [
            13.6,
            15.0,
            15.0,
            10.1,
            10.1,
            10.0,
            10.0,
            10.1,
            10.1,
            11.5,
            11.5,
            13.6,
            13.6
           ],
           "y": [
            4.9,
            4.9,
            0.0,
            0.0,
            1.5,
            1.5,
            3.6,
            3.6,
            4.9,
            4.9,
            5.0,
            5.0,
            4.9
           ],
           "type": "scatter"
          },
          {
           "fill": "toself",
           "fillcolor": "rgb(153, 0, 0)",
           "hoverinfo": "name",
           "line": {
            "width": 0
           },
           "mode": "lines",
           "name": "Risk Area",
           "showlegend": false,
           "x": [
            13.6,
            15.0,
            15.0,
            13.6,
            13.6,
            11.5,
            11.5,
            10.1,
            10.1,
            10.0,
            10.0,
            10.1,
            10.1,
            11.5,
            11.5,
            13.6,
            13.6
           ],
           "y": [
            9.9,
            9.9,
            5.1,
            5.1,
            5.0,
            5.0,
            5.1,
            5.1,
            6.5,
            6.5,
            8.6,
            8.6,
            9.9,
            9.9,
            10.0,
            10.0,
            9.9
           ],
           "type": "scatter"
          },
          {
           "fill": "toself",
           "fillcolor": "rgb(153, 0, 0)",
           "hoverinfo": "name",
           "line": {
            "width": 0
           },
           "mode": "lines",
           "name": "Risk Area",
           "showlegend": false,
           "x": [
            9.9,
            9.9,
            8.6,
            8.6,
            6.4,
            6.4,
            5.1,
            5.1,
            5.0,
            5.0,
            5.1,
            5.1,
            6.4,
            6.4,
            8.6,
            8.6,
            9.9,
            9.9,
            10.0,
            10.0,
            9.9
           ],
           "y": [
            6.5,
            5.1,
            5.1,
            5.0,
            5.0,
            5.1,
            5.1,
            6.5,
            6.5,
            8.6,
            8.6,
            9.9,
            9.9,
            10.0,
            10.0,
            9.9,
            9.9,
            8.6,
            8.6,
            6.5,
            6.5
           ],
           "type": "scatter"
          },
          {
           "fill": "toself",
           "fillcolor": "rgb(25, 0, 0)",
           "hoverinfo": "name",
           "line": {
            "width": 0
           },
           "mode": "lines",
           "name": "Risk Area",
           "showlegend": false,
           "x": [
            4.9,
            4.9,
            3.6,
            3.6,
            1.5,
            1.5,
            0.0,
            0.0,
            1.5,
            1.5,
            3.6,
            3.6,
            4.9,
            4.9,
            5.0,
            5.0,
            4.9
           ],
           "y": [
            6.5,
            5.1,
            5.1,
            5.0,
            5.0,
            5.1,
            5.1,
            9.9,
            9.9,
            10.0,
            10.0,
            9.9,
            9.9,
            8.6,
            8.6,
            6.5,
            6.5
           ],
           "type": "scatter"
          },
          {
           "fill": "toself",
           "fillcolor": "rgb(51, 0, 0)",
           "hoverinfo": "name",
           "line": {
            "width": 0
           },
           "mode": "lines",
           "name": "Risk Area",
           "showlegend": false,
           "x": [
            1.5,
            0.0,
            0.0,
            4.9,
            4.9,
            5.0,
            5.0,
            4.9,
            4.9,
            3.6,
            3.6,
            1.5,
            1.5
           ],
           "y": [
            10.1,
            10.1,
            15.0,
            15.0,
            13.6,
            13.6,
            11.5,
            11.5,
            10.1,
            10.1,
            10.0,
            10.0,
            10.1
           ],
           "type": "scatter"
          },
          {
           "fill": "toself",
           "fillcolor": "rgb(51, 0, 0)",
           "hoverinfo": "name",
           "line": {
            "width": 0
           },
           "mode": "lines",
           "name": "Risk Area",
           "showlegend": false,
           "x": [
            6.4,
            5.1,
            5.1,
            5.0,
            5.0,
            5.1,
            5.1,
            9.9,
            9.9,
            10.0,
            10.0,
            9.9,
            9.9,
            8.6,
            8.6,
            6.4,
            6.4
           ],
           "y": [
            10.1,
            10.1,
            11.5,
            11.5,
            13.6,
            13.6,
            15.0,
            15.0,
            13.6,
            13.6,
            11.5,
            11.5,
            10.1,
            10.1,
            10.0,
            10.0,
            10.1
           ],
           "type": "scatter"
          },
          {
           "fill": "toself",
           "fillcolor": "rgb(25, 0, 0)",
           "hoverinfo": "name",
           "line": {
            "width": 0
           },
           "mode": "lines",
           "name": "Risk Area",
           "showlegend": false,
           "x": [
            10.1,
            10.1,
            15.0,
            15.0,
            13.6,
            13.6,
            11.5,
            11.5,
            10.1,
            10.1,
            10.0,
            10.0,
            10.1
           ],
           "y": [
            13.6,
            15.0,
            15.0,
            10.1,
            10.1,
            10.0,
            10.0,
            10.1,
            10.1,
            11.5,
            11.5,
            13.6,
            13.6
           ],
           "type": "scatter"
          },
          {
           "hoverinfo": "text",
           "marker": {
            "opacity": 1,
            "size": 1
           },
           "mode": "markers",
           "showlegend": false,
           "text": [
            "ID: 11, Pos(2.89,10.29)"
           ],
           "x": [
            2.8943539213525935
           ],
           "y": [
            10.288681423265098
           ],
           "type": "scatter"
          },
          {
           "hoverinfo": "text",
           "marker": {
            "opacity": 1,
            "size": 1
           },
           "mode": "markers",
           "showlegend": false,
           "text": [
            "ID: 12, Pos(1.84,9.44)"
           ],
           "x": [
            1.8405796888684818
           ],
           "y": [
            9.43740496318966
           ],
           "type": "scatter"
          },
          {
           "hoverinfo": "text",
           "marker": {
            "opacity": 1,
            "size": 1
           },
           "mode": "markers",
           "showlegend": false,
           "text": [
            "ID: 13, Pos(2.44,8.24)"
           ],
           "x": [
            2.4382965217860106
           ],
           "y": [
            8.242704520928843
           ],
           "type": "scatter"
          },
          {
           "hoverinfo": "text",
           "marker": {
            "opacity": 1,
            "size": 1
           },
           "mode": "markers",
           "showlegend": false,
           "text": [
            "ID: 14, Pos(3.03,11.06)"
           ],
           "x": [
            3.034566706881194
           ],
           "y": [
            11.059397605810505
           ],
           "type": "scatter"
          },
          {
           "hoverinfo": "text",
           "marker": {
            "opacity": 1,
            "size": 1
           },
           "mode": "markers",
           "showlegend": false,
           "text": [
            "ID: 15, Pos(2.21,10.48)"
           ],
           "x": [
            2.210307135072303
           ],
           "y": [
            10.478250005035179
           ],
           "type": "scatter"
          },
          {
           "hoverinfo": "text",
           "marker": {
            "opacity": 1,
            "size": 1
           },
           "mode": "markers",
           "showlegend": false,
           "text": [
            "ID: 16, Pos(3.75,11.55)"
           ],
           "x": [
            3.7504468901675097
           ],
           "y": [
            11.553774610768434
           ],
           "type": "scatter"
          },
          {
           "hoverinfo": "text",
           "marker": {
            "opacity": 1,
            "size": 1
           },
           "mode": "markers",
           "showlegend": false,
           "text": [
            "ID: 17, Pos(4.82,11.88)"
           ],
           "x": [
            4.820144755359248
           ],
           "y": [
            11.876037491458401
           ],
           "type": "scatter"
          },
          {
           "hoverinfo": "text",
           "marker": {
            "opacity": 1,
            "size": 1
           },
           "mode": "markers",
           "showlegend": false,
           "text": [
            "ID: 18, Pos(3.15,9.40)"
           ],
           "x": [
            3.1507282958709464
           ],
           "y": [
            9.403557018418901
           ],
           "type": "scatter"
          },
          {
           "hoverinfo": "text",
           "marker": {
            "opacity": 1,
            "size": 1
           },
           "mode": "markers",
           "showlegend": false,
           "text": [
            "ID: 19, Pos(2.60,11.50)"
           ],
           "x": [
            2.604417810587924
           ],
           "y": [
            11.498025403114964
           ],
           "type": "scatter"
          },
          {
           "hoverinfo": "text",
           "marker": {
            "opacity": 1,
            "size": 1
           },
           "mode": "markers",
           "showlegend": false,
           "text": [
            "ID: 20, Pos(2.50,9.39)"
           ],
           "x": [
            2.495946441913437
           ],
           "y": [
            9.392050474046373
           ],
           "type": "scatter"
          }
         ],
         "layout": {
          "shapes": [
           {
            "fillcolor": "rgba(138, 255, 109, 0.5)",
            "line": {
             "color": "rgba(138, 255, 109, 0.5)"
            },
            "type": "circle",
            "x0": 2.6943539213525933,
            "x1": 3.0943539213525937,
            "xref": "x",
            "y0": 10.088681423265099,
            "y1": 10.488681423265097,
            "yref": "y"
           },
           {
            "fillcolor": "rgba(0, 0, 255, 0.5)",
            "line": {
             "color": "rgba(0, 0, 255, 0.5)"
            },
            "type": "circle",
            "x0": 1.6405796888684818,
            "x1": 2.040579688868482,
            "xref": "x",
            "y0": 9.237404963189661,
            "y1": 9.63740496318966,
            "yref": "y"
           },
           {
            "fillcolor": "rgba(0, 0, 200, 0.5)",
            "line": {
             "color": "rgba(0, 0, 200, 0.5)"
            },
            "type": "circle",
            "x0": 2.2382965217860105,
            "x1": 2.638296521786011,
            "xref": "x",
            "y0": 8.042704520928844,
            "y1": 8.442704520928842,
            "yref": "y"
           },
           {
            "fillcolor": "rgba(0, 112, 255, 0.5)",
            "line": {
             "color": "rgba(0, 112, 255, 0.5)"
            },
            "type": "circle",
            "x0": 2.8345667068811937,
            "x1": 3.234566706881194,
            "xref": "x",
            "y0": 10.859397605810505,
            "y1": 11.259397605810504,
            "yref": "y"
           },
           {
            "fillcolor": "rgba(0, 0, 218, 0.5)",
            "line": {
             "color": "rgba(0, 0, 218, 0.5)"
            },
            "type": "circle",
            "x0": 2.0103071350723027,
            "x1": 2.410307135072303,
            "xref": "x",
            "y0": 10.27825000503518,
            "y1": 10.678250005035178,
            "yref": "y"
           },
           {
            "fillcolor": "rgba(0, 0, 246, 0.5)",
            "line": {
             "color": "rgba(0, 0, 246, 0.5)"
            },
            "type": "circle",
            "x0": 3.5504468901675095,
            "x1": 3.95044689016751,
            "xref": "x",
            "y0": 11.353774610768435,
            "y1": 11.753774610768433,
            "yref": "y"
           },
           {
            "fillcolor": "rgba(0, 0, 137, 0.5)",
            "line": {
             "color": "rgba(0, 0, 137, 0.5)"
            },
            "type": "circle",
            "x0": 4.620144755359248,
            "x1": 5.020144755359248,
            "xref": "x",
            "y0": 11.676037491458402,
            "y1": 12.0760374914584,
            "yref": "y"
           },
           {
            "fillcolor": "rgba(0, 228, 248, 0.5)",
            "line": {
             "color": "rgba(0, 228, 248, 0.5)"
            },
            "type": "circle",
            "x0": 2.950728295870946,
            "x1": 3.3507282958709466,
            "xref": "x",
            "y0": 9.203557018418902,
            "y1": 9.6035570184189,
            "yref": "y"
           },
           {
            "fillcolor": "rgba(0, 0, 132, 0.5)",
            "line": {
             "color": "rgba(0, 0, 132, 0.5)"
            },
            "type": "circle",
            "x0": 2.404417810587924,
            "x1": 2.8044178105879243,
            "xref": "x",
            "y0": 11.298025403114965,
            "y1": 11.698025403114963,
            "yref": "y"
           },
           {
            "fillcolor": "rgba(0, 37, 255, 0.5)",
            "line": {
             "color": "rgba(0, 37, 255, 0.5)"
            },
            "type": "circle",
            "x0": 2.2959464419134368,
            "x1": 2.695946441913437,
            "xref": "x",
            "y0": 9.192050474046374,
            "y1": 9.592050474046372,
            "yref": "y"
           },
           {
            "line": {
             "color": "black",
             "width": 3
            },
            "type": "line",
            "x0": 2.8943539213525935,
            "x1": 2.8787254822308115,
            "y0": 10.288681423265098,
            "y1": 10.48806986799201
           },
           {
            "line": {
             "color": "white",
             "width": 3
            },
            "type": "line",
            "x0": 1.8405796888684818,
            "x1": 1.843299756529308,
            "y0": 9.43740496318966,
            "y1": 9.637386465414043
           },
           {
            "line": {
             "color": "white",
             "width": 3
            },
            "type": "line",
            "x0": 2.4382965217860106,
            "x1": 2.4411880326629665,
            "y0": 8.242704520928843,
            "y1": 8.442683617748607
           },
           {
            "line": {
             "color": "white",
             "width": 3
            },
            "type": "line",
            "x0": 3.034566706881194,
            "x1": 3.232896045185273,
            "y0": 11.059397605810505,
            "y1": 11.085194380179914
           },
           {
            "line": {
             "color": "white",
             "width": 3
            },
            "type": "line",
            "x0": 2.210307135072303,
            "x1": 2.2146966893715114,
            "y0": 10.478250005035179,
            "y1": 10.678201828765431
           },
           {
            "line": {
             "color": "white",
             "width": 3
            },
            "type": "line",
            "x0": 3.7504468901675097,
            "x1": 3.94397082966161,
            "y0": 11.553774610768434,
            "y1": 11.60425713093813
           },
           {
            "line": {
             "color": "white",
             "width": 3
            },
            "type": "line",
            "x0": 4.820144755359248,
            "x1": 4.995010240741721,
            "y0": 11.876037491458401,
            "y1": 11.973104798116987
           },
           {
            "line": {
             "color": "black",
             "width": 3
            },
            "type": "line",
            "x0": 3.1507282958709464,
            "x1": 3.1510789838319098,
            "y0": 9.403557018418901,
            "y1": 9.60355671096355
           },
           {
            "line": {
             "color": "white",
             "width": 3
            },
            "type": "line",
            "x0": 2.604417810587924,
            "x1": 2.779459908768377,
            "y0": 11.498025403114964,
            "y1": 11.594773859767175
           },
           {
            "line": {
             "color": "white",
             "width": 3
            },
            "type": "line",
            "x0": 2.495946441913437,
            "x1": 2.4946910120009766,
            "y0": 9.392050474046373,
            "y1": 9.592046533746895
           }
          ],
          "title": {
           "text": "<b>Percentage using the shortest path: 0%  |  Number of Agents: 10</b>",
           "x": 0.5
          }
         },
         "name": "300"
        },
        {
         "data": [
          {
           "hoverinfo": "name",
           "line": {
            "color": "white"
           },
           "mode": "lines",
           "name": "Exterior",
           "showlegend": false,
           "x": [
            10.1,
            10.1,
            15.0,
            15.0,
            13.6,
            13.6,
            15.0,
            15.0,
            13.6,
            13.6,
            15.0,
            15.0,
            10.1,
            10.1,
            9.9,
            9.9,
            5.1,
            5.1,
            4.9,
            4.9,
            0.0,
            0.0,
            1.5,
            1.5,
            0.0,
            0.0,
            1.5,
            1.5,
            0.0,
            0.0,
            4.9,
            4.9,
            5.1,
            5.1,
            9.9,
            9.9,
            10.1
           ],
           "y": [
            1.5,
            0.0,
            0.0,
            4.9,
            4.9,
            5.1,
            5.1,
            9.9,
            9.9,
            10.1,
            10.1,
            15.0,
            15.0,
            13.6,
            13.6,
            15.0,
            15.0,
            13.6,
            13.6,
            15.0,
            15.0,
            10.1,
            10.1,
            9.9,
            9.9,
            5.1,
            5.1,
            4.9,
            4.9,
            0.0,
            0.0,
            1.5,
            1.5,
            0.0,
            0.0,
            1.5,
            1.5
           ],
           "type": "scatter"
          },
          {
           "hoverinfo": "name",
           "line": {
            "color": "white"
           },
           "mode": "lines",
           "name": "Obstacle",
           "showlegend": false,
           "x": [
            10.1,
            11.5,
            11.5,
            10.1,
            10.1,
            9.9,
            9.9,
            8.6,
            8.6,
            9.9,
            9.9,
            10.1,
            10.1
           ],
           "y": [
            5.1,
            5.1,
            4.9,
            4.9,
            3.6,
            3.6,
            4.9,
            4.9,
            5.1,
            5.1,
            6.5,
            6.5,
            5.1
           ],
           "type": "scatter"
          },
          {
           "hoverinfo": "name",
           "line": {
            "color": "white"
           },
           "mode": "lines",
           "name": "Obstacle",
           "showlegend": false,
           "x": [
            10.1,
            11.5,
            11.5,
            10.1,
            10.1,
            9.9,
            9.9,
            8.6,
            8.6,
            9.9,
            9.9,
            10.1,
            10.1
           ],
           "y": [
            10.1,
            10.1,
            9.9,
            9.9,
            8.6,
            8.6,
            9.9,
            9.9,
            10.1,
            10.1,
            11.5,
            11.5,
            10.1
           ],
           "type": "scatter"
          },
          {
           "hoverinfo": "name",
           "line": {
            "color": "white"
           },
           "mode": "lines",
           "name": "Obstacle",
           "showlegend": false,
           "x": [
            5.1,
            6.4,
            6.4,
            5.1,
            5.1,
            4.9,
            4.9,
            3.6,
            3.6,
            4.9,
            4.9,
            5.1,
            5.1
           ],
           "y": [
            5.1,
            5.1,
            4.9,
            4.9,
            3.6,
            3.6,
            4.9,
            4.9,
            5.1,
            5.1,
            6.5,
            6.5,
            5.1
           ],
           "type": "scatter"
          },
          {
           "hoverinfo": "name",
           "line": {
            "color": "white"
           },
           "mode": "lines",
           "name": "Obstacle",
           "showlegend": false,
           "x": [
            5.1,
            6.4,
            6.4,
            5.1,
            5.1,
            4.9,
            4.9,
            3.6,
            3.6,
            4.9,
            4.9,
            5.1,
            5.1
           ],
           "y": [
            10.1,
            10.1,
            9.9,
            9.9,
            8.6,
            8.6,
            9.9,
            9.9,
            10.1,
            10.1,
            11.5,
            11.5,
            10.1
           ],
           "type": "scatter"
          },
          {
           "fill": "toself",
           "fillcolor": "rgb(25, 0, 0)",
           "hoverinfo": "name",
           "line": {
            "width": 0
           },
           "mode": "lines",
           "name": "Risk Area",
           "showlegend": false,
           "x": [
            1.5,
            1.5,
            3.6,
            3.6,
            4.9,
            4.9,
            5.0,
            5.0,
            4.9,
            4.9,
            0.0,
            0.0,
            1.5
           ],
           "y": [
            4.9,
            5.0,
            5.0,
            4.9,
            4.9,
            3.6,
            3.6,
            1.5,
            1.5,
            0.0,
            0.0,
            4.9,
            4.9
           ],
           "type": "scatter"
          },
          {
           "fill": "toself",
           "fillcolor": "rgb(153, 0, 0)",
           "hoverinfo": "name",
           "line": {
            "width": 0
           },
           "mode": "lines",
           "name": "Risk Area",
           "showlegend": false,
           "x": [
            9.9,
            9.9,
            5.1,
            5.1,
            5.0,
            5.0,
            5.1,
            5.1,
            6.4,
            6.4,
            8.6,
            8.6,
            9.9,
            9.9,
            10.0,
            10.0,
            9.9
           ],
           "y": [
            1.5,
            0.0,
            0.0,
            1.5,
            1.5,
            3.6,
            3.6,
            4.9,
            4.9,
            5.0,
            5.0,
            4.9,
            4.9,
            3.6,
            3.6,
            1.5,
            1.5
           ],
           "type": "scatter"
          },
          {
           "fill": "toself",
           "fillcolor": "rgb(0, 0, 0)",
           "hoverinfo": "name",
           "line": {
            "width": 0
           },
           "mode": "lines",
           "name": "Risk Area",
           "showlegend": false,
           "x": [
            13.6,
            15.0,
            15.0,
            10.1,
            10.1,
            10.0,
            10.0,
            10.1,
            10.1,
            11.5,
            11.5,
            13.6,
            13.6
           ],
           "y": [
            4.9,
            4.9,
            0.0,
            0.0,
            1.5,
            1.5,
            3.6,
            3.6,
            4.9,
            4.9,
            5.0,
            5.0,
            4.9
           ],
           "type": "scatter"
          },
          {
           "fill": "toself",
           "fillcolor": "rgb(153, 0, 0)",
           "hoverinfo": "name",
           "line": {
            "width": 0
           },
           "mode": "lines",
           "name": "Risk Area",
           "showlegend": false,
           "x": [
            13.6,
            15.0,
            15.0,
            13.6,
            13.6,
            11.5,
            11.5,
            10.1,
            10.1,
            10.0,
            10.0,
            10.1,
            10.1,
            11.5,
            11.5,
            13.6,
            13.6
           ],
           "y": [
            9.9,
            9.9,
            5.1,
            5.1,
            5.0,
            5.0,
            5.1,
            5.1,
            6.5,
            6.5,
            8.6,
            8.6,
            9.9,
            9.9,
            10.0,
            10.0,
            9.9
           ],
           "type": "scatter"
          },
          {
           "fill": "toself",
           "fillcolor": "rgb(204, 0, 0)",
           "hoverinfo": "name",
           "line": {
            "width": 0
           },
           "mode": "lines",
           "name": "Risk Area",
           "showlegend": false,
           "x": [
            9.9,
            9.9,
            8.6,
            8.6,
            6.4,
            6.4,
            5.1,
            5.1,
            5.0,
            5.0,
            5.1,
            5.1,
            6.4,
            6.4,
            8.6,
            8.6,
            9.9,
            9.9,
            10.0,
            10.0,
            9.9
           ],
           "y": [
            6.5,
            5.1,
            5.1,
            5.0,
            5.0,
            5.1,
            5.1,
            6.5,
            6.5,
            8.6,
            8.6,
            9.9,
            9.9,
            10.0,
            10.0,
            9.9,
            9.9,
            8.6,
            8.6,
            6.5,
            6.5
           ],
           "type": "scatter"
          },
          {
           "fill": "toself",
           "fillcolor": "rgb(25, 0, 0)",
           "hoverinfo": "name",
           "line": {
            "width": 0
           },
           "mode": "lines",
           "name": "Risk Area",
           "showlegend": false,
           "x": [
            4.9,
            4.9,
            3.6,
            3.6,
            1.5,
            1.5,
            0.0,
            0.0,
            1.5,
            1.5,
            3.6,
            3.6,
            4.9,
            4.9,
            5.0,
            5.0,
            4.9
           ],
           "y": [
            6.5,
            5.1,
            5.1,
            5.0,
            5.0,
            5.1,
            5.1,
            9.9,
            9.9,
            10.0,
            10.0,
            9.9,
            9.9,
            8.6,
            8.6,
            6.5,
            6.5
           ],
           "type": "scatter"
          },
          {
           "fill": "toself",
           "fillcolor": "rgb(51, 0, 0)",
           "hoverinfo": "name",
           "line": {
            "width": 0
           },
           "mode": "lines",
           "name": "Risk Area",
           "showlegend": false,
           "x": [
            1.5,
            0.0,
            0.0,
            4.9,
            4.9,
            5.0,
            5.0,
            4.9,
            4.9,
            3.6,
            3.6,
            1.5,
            1.5
           ],
           "y": [
            10.1,
            10.1,
            15.0,
            15.0,
            13.6,
            13.6,
            11.5,
            11.5,
            10.1,
            10.1,
            10.0,
            10.0,
            10.1
           ],
           "type": "scatter"
          },
          {
           "fill": "toself",
           "fillcolor": "rgb(51, 0, 0)",
           "hoverinfo": "name",
           "line": {
            "width": 0
           },
           "mode": "lines",
           "name": "Risk Area",
           "showlegend": false,
           "x": [
            6.4,
            5.1,
            5.1,
            5.0,
            5.0,
            5.1,
            5.1,
            9.9,
            9.9,
            10.0,
            10.0,
            9.9,
            9.9,
            8.6,
            8.6,
            6.4,
            6.4
           ],
           "y": [
            10.1,
            10.1,
            11.5,
            11.5,
            13.6,
            13.6,
            15.0,
            15.0,
            13.6,
            13.6,
            11.5,
            11.5,
            10.1,
            10.1,
            10.0,
            10.0,
            10.1
           ],
           "type": "scatter"
          },
          {
           "fill": "toself",
           "fillcolor": "rgb(25, 0, 0)",
           "hoverinfo": "name",
           "line": {
            "width": 0
           },
           "mode": "lines",
           "name": "Risk Area",
           "showlegend": false,
           "x": [
            10.1,
            10.1,
            15.0,
            15.0,
            13.6,
            13.6,
            11.5,
            11.5,
            10.1,
            10.1,
            10.0,
            10.0,
            10.1
           ],
           "y": [
            13.6,
            15.0,
            15.0,
            10.1,
            10.1,
            10.0,
            10.0,
            10.1,
            10.1,
            11.5,
            11.5,
            13.6,
            13.6
           ],
           "type": "scatter"
          },
          {
           "hoverinfo": "text",
           "marker": {
            "opacity": 1,
            "size": 1
           },
           "mode": "markers",
           "showlegend": false,
           "text": [
            "ID: 11, Pos(3.31,11.12)"
           ],
           "x": [
            3.307327570626673
           ],
           "y": [
            11.122412489715435
           ],
           "type": "scatter"
          },
          {
           "hoverinfo": "text",
           "marker": {
            "opacity": 1,
            "size": 1
           },
           "mode": "markers",
           "showlegend": false,
           "text": [
            "ID: 12, Pos(2.22,10.80)"
           ],
           "x": [
            2.2212595215312425
           ],
           "y": [
            10.799076149665295
           ],
           "type": "scatter"
          },
          {
           "hoverinfo": "text",
           "marker": {
            "opacity": 1,
            "size": 1
           },
           "mode": "markers",
           "showlegend": false,
           "text": [
            "ID: 13, Pos(2.73,9.52)"
           ],
           "x": [
            2.7295303446995893
           ],
           "y": [
            9.523941822473597
           ],
           "type": "scatter"
          },
          {
           "hoverinfo": "text",
           "marker": {
            "opacity": 1,
            "size": 1
           },
           "mode": "markers",
           "showlegend": false,
           "text": [
            "ID: 14, Pos(4.26,11.37)"
           ],
           "x": [
            4.264454207917084
           ],
           "y": [
            11.37105256677992
           ],
           "type": "scatter"
          },
          {
           "hoverinfo": "text",
           "marker": {
            "opacity": 1,
            "size": 1
           },
           "mode": "markers",
           "showlegend": false,
           "text": [
            "ID: 15, Pos(2.96,11.67)"
           ],
           "x": [
            2.9636445031943817
           ],
           "y": [
            11.665778541516131
           ],
           "type": "scatter"
          },
          {
           "hoverinfo": "text",
           "marker": {
            "opacity": 1,
            "size": 1
           },
           "mode": "markers",
           "showlegend": false,
           "text": [
            "ID: 16, Pos(5.21,12.01)"
           ],
           "x": [
            5.205152336340719
           ],
           "y": [
            12.009392013663234
           ],
           "type": "scatter"
          },
          {
           "hoverinfo": "text",
           "marker": {
            "opacity": 1,
            "size": 1
           },
           "mode": "markers",
           "showlegend": false,
           "text": [
            "ID: 17, Pos(6.37,12.25)"
           ],
           "x": [
            6.372052379113806
           ],
           "y": [
            12.252861544018945
           ],
           "type": "scatter"
          },
          {
           "hoverinfo": "text",
           "marker": {
            "opacity": 1,
            "size": 1
           },
           "mode": "markers",
           "showlegend": false,
           "text": [
            "ID: 18, Pos(3.43,10.47)"
           ],
           "x": [
            3.4321496133269176
           ],
           "y": [
            10.47263653963824
           ],
           "type": "scatter"
          },
          {
           "hoverinfo": "text",
           "marker": {
            "opacity": 1,
            "size": 1
           },
           "mode": "markers",
           "showlegend": false,
           "text": [
            "ID: 19, Pos(4.06,12.03)"
           ],
           "x": [
            4.056431049005888
           ],
           "y": [
            12.026756874680746
           ],
           "type": "scatter"
          },
          {
           "hoverinfo": "text",
           "marker": {
            "opacity": 1,
            "size": 1
           },
           "mode": "markers",
           "showlegend": false,
           "text": [
            "ID: 20, Pos(2.66,10.38)"
           ],
           "x": [
            2.655276470371866
           ],
           "y": [
            10.375325668331213
           ],
           "type": "scatter"
          }
         ],
         "layout": {
          "shapes": [
           {
            "fillcolor": "rgba(0, 144, 255, 0.5)",
            "line": {
             "color": "rgba(0, 144, 255, 0.5)"
            },
            "type": "circle",
            "x0": 3.1073275706266728,
            "x1": 3.507327570626673,
            "xref": "x",
            "y0": 10.922412489715436,
            "y1": 11.322412489715434,
            "yref": "y"
           },
           {
            "fillcolor": "rgba(0, 0, 218, 0.5)",
            "line": {
             "color": "rgba(0, 0, 218, 0.5)"
            },
            "type": "circle",
            "x0": 2.0212595215312423,
            "x1": 2.4212595215312427,
            "xref": "x",
            "y0": 10.599076149665295,
            "y1": 10.999076149665294,
            "yref": "y"
           },
           {
            "fillcolor": "rgba(0, 0, 155, 0.5)",
            "line": {
             "color": "rgba(0, 0, 155, 0.5)"
            },
            "type": "circle",
            "x0": 2.529530344699589,
            "x1": 2.9295303446995895,
            "xref": "x",
            "y0": 9.323941822473598,
            "y1": 9.723941822473597,
            "yref": "y"
           },
           {
            "fillcolor": "rgba(0, 0, 218, 0.5)",
            "line": {
             "color": "rgba(0, 0, 218, 0.5)"
            },
            "type": "circle",
            "x0": 4.064454207917084,
            "x1": 4.464454207917084,
            "xref": "x",
            "y0": 11.17105256677992,
            "y1": 11.571052566779919,
            "yref": "y"
           },
           {
            "fillcolor": "rgba(0, 0, 196, 0.5)",
            "line": {
             "color": "rgba(0, 0, 196, 0.5)"
            },
            "type": "circle",
            "x0": 2.7636445031943815,
            "x1": 3.163644503194382,
            "xref": "x",
            "y0": 11.465778541516132,
            "y1": 11.86577854151613,
            "yref": "y"
           },
           {
            "fillcolor": "rgba(0, 0, 137, 0.5)",
            "line": {
             "color": "rgba(0, 0, 137, 0.5)"
            },
            "type": "circle",
            "x0": 5.005152336340719,
            "x1": 5.405152336340719,
            "xref": "x",
            "y0": 11.809392013663235,
            "y1": 12.209392013663233,
            "yref": "y"
           },
           {
            "fillcolor": "rgba(0, 0, 128, 0.5)",
            "line": {
             "color": "rgba(0, 0, 128, 0.5)"
            },
            "type": "circle",
            "x0": 6.172052379113806,
            "x1": 6.572052379113806,
            "xref": "x",
            "y0": 12.052861544018945,
            "y1": 12.452861544018944,
            "yref": "y"
           },
           {
            "fillcolor": "rgba(0, 0, 132, 0.5)",
            "line": {
             "color": "rgba(0, 0, 132, 0.5)"
            },
            "type": "circle",
            "x0": 3.2321496133269174,
            "x1": 3.6321496133269178,
            "xref": "x",
            "y0": 10.27263653963824,
            "y1": 10.672636539638239,
            "yref": "y"
           },
           {
            "fillcolor": "rgba(0, 0, 200, 0.5)",
            "line": {
             "color": "rgba(0, 0, 200, 0.5)"
            },
            "type": "circle",
            "x0": 3.856431049005888,
            "x1": 4.256431049005888,
            "xref": "x",
            "y0": 11.826756874680747,
            "y1": 12.226756874680746,
            "yref": "y"
           },
           {
            "fillcolor": "rgba(144, 255, 102, 0.5)",
            "line": {
             "color": "rgba(144, 255, 102, 0.5)"
            },
            "type": "circle",
            "x0": 2.455276470371866,
            "x1": 2.8552764703718663,
            "xref": "x",
            "y0": 10.175325668331213,
            "y1": 10.575325668331212,
            "yref": "y"
           },
           {
            "line": {
             "color": "white",
             "width": 3
            },
            "type": "line",
            "x0": 3.307327570626673,
            "x1": 3.4976762685121834,
            "y0": 11.122412489715435,
            "y1": 11.183791421062361
           },
           {
            "line": {
             "color": "white",
             "width": 3
            },
            "type": "line",
            "x0": 2.2212595215312425,
            "x1": 2.3790783103181656,
            "y0": 10.799076149665295,
            "y1": 10.921930656728847
           },
           {
            "line": {
             "color": "white",
             "width": 3
            },
            "type": "line",
            "x0": 2.7295303446995893,
            "x1": 2.873700290031641,
            "y0": 9.523941822473597,
            "y1": 9.66256009999483
           },
           {
            "line": {
             "color": "white",
             "width": 3
            },
            "type": "line",
            "x0": 4.264454207917084,
            "x1": 4.453691545419841,
            "y0": 11.37105256677992,
            "y1": 11.435776828806365
           },
           {
            "line": {
             "color": "white",
             "width": 3
            },
            "type": "line",
            "x0": 2.9636445031943817,
            "x1": 3.1468365031946366,
            "y0": 11.665778541516131,
            "y1": 11.746032458155176
           },
           {
            "line": {
             "color": "white",
             "width": 3
            },
            "type": "line",
            "x0": 5.205152336340719,
            "x1": 5.399947345840532,
            "y0": 12.009392013663234,
            "y1": 12.054723065647142
           },
           {
            "line": {
             "color": "white",
             "width": 3
            },
            "type": "line",
            "x0": 6.372052379113806,
            "x1": 6.568057436264145,
            "y0": 12.252861544018945,
            "y1": 12.292636128510704
           },
           {
            "line": {
             "color": "white",
             "width": 3
            },
            "type": "line",
            "x0": 3.4321496133269176,
            "x1": 3.5902789582660883,
            "y0": 10.47263653963824,
            "y1": 10.595091062907528
           },
           {
            "line": {
             "color": "white",
             "width": 3
            },
            "type": "line",
            "x0": 4.056431049005888,
            "x1": 4.248414072924654,
            "y0": 12.026756874680746,
            "y1": 12.082815045601732
           },
           {
            "line": {
             "color": "black",
             "width": 3
            },
            "type": "line",
            "x0": 2.655276470371866,
            "x1": 2.8478221229151663,
            "y0": 10.375325668331213,
            "y1": 10.429419768625742
           }
          ],
          "title": {
           "text": "<b>Percentage using the shortest path: 0%  |  Number of Agents: 10</b>",
           "x": 0.5
          }
         },
         "name": "350"
        },
        {
         "data": [
          {
           "hoverinfo": "name",
           "line": {
            "color": "white"
           },
           "mode": "lines",
           "name": "Exterior",
           "showlegend": false,
           "x": [
            10.1,
            10.1,
            15.0,
            15.0,
            13.6,
            13.6,
            15.0,
            15.0,
            13.6,
            13.6,
            15.0,
            15.0,
            10.1,
            10.1,
            9.9,
            9.9,
            5.1,
            5.1,
            4.9,
            4.9,
            0.0,
            0.0,
            1.5,
            1.5,
            0.0,
            0.0,
            1.5,
            1.5,
            0.0,
            0.0,
            4.9,
            4.9,
            5.1,
            5.1,
            9.9,
            9.9,
            10.1
           ],
           "y": [
            1.5,
            0.0,
            0.0,
            4.9,
            4.9,
            5.1,
            5.1,
            9.9,
            9.9,
            10.1,
            10.1,
            15.0,
            15.0,
            13.6,
            13.6,
            15.0,
            15.0,
            13.6,
            13.6,
            15.0,
            15.0,
            10.1,
            10.1,
            9.9,
            9.9,
            5.1,
            5.1,
            4.9,
            4.9,
            0.0,
            0.0,
            1.5,
            1.5,
            0.0,
            0.0,
            1.5,
            1.5
           ],
           "type": "scatter"
          },
          {
           "hoverinfo": "name",
           "line": {
            "color": "white"
           },
           "mode": "lines",
           "name": "Obstacle",
           "showlegend": false,
           "x": [
            10.1,
            11.5,
            11.5,
            10.1,
            10.1,
            9.9,
            9.9,
            8.6,
            8.6,
            9.9,
            9.9,
            10.1,
            10.1
           ],
           "y": [
            5.1,
            5.1,
            4.9,
            4.9,
            3.6,
            3.6,
            4.9,
            4.9,
            5.1,
            5.1,
            6.5,
            6.5,
            5.1
           ],
           "type": "scatter"
          },
          {
           "hoverinfo": "name",
           "line": {
            "color": "white"
           },
           "mode": "lines",
           "name": "Obstacle",
           "showlegend": false,
           "x": [
            10.1,
            11.5,
            11.5,
            10.1,
            10.1,
            9.9,
            9.9,
            8.6,
            8.6,
            9.9,
            9.9,
            10.1,
            10.1
           ],
           "y": [
            10.1,
            10.1,
            9.9,
            9.9,
            8.6,
            8.6,
            9.9,
            9.9,
            10.1,
            10.1,
            11.5,
            11.5,
            10.1
           ],
           "type": "scatter"
          },
          {
           "hoverinfo": "name",
           "line": {
            "color": "white"
           },
           "mode": "lines",
           "name": "Obstacle",
           "showlegend": false,
           "x": [
            5.1,
            6.4,
            6.4,
            5.1,
            5.1,
            4.9,
            4.9,
            3.6,
            3.6,
            4.9,
            4.9,
            5.1,
            5.1
           ],
           "y": [
            5.1,
            5.1,
            4.9,
            4.9,
            3.6,
            3.6,
            4.9,
            4.9,
            5.1,
            5.1,
            6.5,
            6.5,
            5.1
           ],
           "type": "scatter"
          },
          {
           "hoverinfo": "name",
           "line": {
            "color": "white"
           },
           "mode": "lines",
           "name": "Obstacle",
           "showlegend": false,
           "x": [
            5.1,
            6.4,
            6.4,
            5.1,
            5.1,
            4.9,
            4.9,
            3.6,
            3.6,
            4.9,
            4.9,
            5.1,
            5.1
           ],
           "y": [
            10.1,
            10.1,
            9.9,
            9.9,
            8.6,
            8.6,
            9.9,
            9.9,
            10.1,
            10.1,
            11.5,
            11.5,
            10.1
           ],
           "type": "scatter"
          },
          {
           "fill": "toself",
           "fillcolor": "rgb(25, 0, 0)",
           "hoverinfo": "name",
           "line": {
            "width": 0
           },
           "mode": "lines",
           "name": "Risk Area",
           "showlegend": false,
           "x": [
            1.5,
            1.5,
            3.6,
            3.6,
            4.9,
            4.9,
            5.0,
            5.0,
            4.9,
            4.9,
            0.0,
            0.0,
            1.5
           ],
           "y": [
            4.9,
            5.0,
            5.0,
            4.9,
            4.9,
            3.6,
            3.6,
            1.5,
            1.5,
            0.0,
            0.0,
            4.9,
            4.9
           ],
           "type": "scatter"
          },
          {
           "fill": "toself",
           "fillcolor": "rgb(153, 0, 0)",
           "hoverinfo": "name",
           "line": {
            "width": 0
           },
           "mode": "lines",
           "name": "Risk Area",
           "showlegend": false,
           "x": [
            9.9,
            9.9,
            5.1,
            5.1,
            5.0,
            5.0,
            5.1,
            5.1,
            6.4,
            6.4,
            8.6,
            8.6,
            9.9,
            9.9,
            10.0,
            10.0,
            9.9
           ],
           "y": [
            1.5,
            0.0,
            0.0,
            1.5,
            1.5,
            3.6,
            3.6,
            4.9,
            4.9,
            5.0,
            5.0,
            4.9,
            4.9,
            3.6,
            3.6,
            1.5,
            1.5
           ],
           "type": "scatter"
          },
          {
           "fill": "toself",
           "fillcolor": "rgb(0, 0, 0)",
           "hoverinfo": "name",
           "line": {
            "width": 0
           },
           "mode": "lines",
           "name": "Risk Area",
           "showlegend": false,
           "x": [
            13.6,
            15.0,
            15.0,
            10.1,
            10.1,
            10.0,
            10.0,
            10.1,
            10.1,
            11.5,
            11.5,
            13.6,
            13.6
           ],
           "y": [
            4.9,
            4.9,
            0.0,
            0.0,
            1.5,
            1.5,
            3.6,
            3.6,
            4.9,
            4.9,
            5.0,
            5.0,
            4.9
           ],
           "type": "scatter"
          },
          {
           "fill": "toself",
           "fillcolor": "rgb(153, 0, 0)",
           "hoverinfo": "name",
           "line": {
            "width": 0
           },
           "mode": "lines",
           "name": "Risk Area",
           "showlegend": false,
           "x": [
            13.6,
            15.0,
            15.0,
            13.6,
            13.6,
            11.5,
            11.5,
            10.1,
            10.1,
            10.0,
            10.0,
            10.1,
            10.1,
            11.5,
            11.5,
            13.6,
            13.6
           ],
           "y": [
            9.9,
            9.9,
            5.1,
            5.1,
            5.0,
            5.0,
            5.1,
            5.1,
            6.5,
            6.5,
            8.6,
            8.6,
            9.9,
            9.9,
            10.0,
            10.0,
            9.9
           ],
           "type": "scatter"
          },
          {
           "fill": "toself",
           "fillcolor": "rgb(204, 0, 0)",
           "hoverinfo": "name",
           "line": {
            "width": 0
           },
           "mode": "lines",
           "name": "Risk Area",
           "showlegend": false,
           "x": [
            9.9,
            9.9,
            8.6,
            8.6,
            6.4,
            6.4,
            5.1,
            5.1,
            5.0,
            5.0,
            5.1,
            5.1,
            6.4,
            6.4,
            8.6,
            8.6,
            9.9,
            9.9,
            10.0,
            10.0,
            9.9
           ],
           "y": [
            6.5,
            5.1,
            5.1,
            5.0,
            5.0,
            5.1,
            5.1,
            6.5,
            6.5,
            8.6,
            8.6,
            9.9,
            9.9,
            10.0,
            10.0,
            9.9,
            9.9,
            8.6,
            8.6,
            6.5,
            6.5
           ],
           "type": "scatter"
          },
          {
           "fill": "toself",
           "fillcolor": "rgb(25, 0, 0)",
           "hoverinfo": "name",
           "line": {
            "width": 0
           },
           "mode": "lines",
           "name": "Risk Area",
           "showlegend": false,
           "x": [
            4.9,
            4.9,
            3.6,
            3.6,
            1.5,
            1.5,
            0.0,
            0.0,
            1.5,
            1.5,
            3.6,
            3.6,
            4.9,
            4.9,
            5.0,
            5.0,
            4.9
           ],
           "y": [
            6.5,
            5.1,
            5.1,
            5.0,
            5.0,
            5.1,
            5.1,
            9.9,
            9.9,
            10.0,
            10.0,
            9.9,
            9.9,
            8.6,
            8.6,
            6.5,
            6.5
           ],
           "type": "scatter"
          },
          {
           "fill": "toself",
           "fillcolor": "rgb(51, 0, 0)",
           "hoverinfo": "name",
           "line": {
            "width": 0
           },
           "mode": "lines",
           "name": "Risk Area",
           "showlegend": false,
           "x": [
            1.5,
            0.0,
            0.0,
            4.9,
            4.9,
            5.0,
            5.0,
            4.9,
            4.9,
            3.6,
            3.6,
            1.5,
            1.5
           ],
           "y": [
            10.1,
            10.1,
            15.0,
            15.0,
            13.6,
            13.6,
            11.5,
            11.5,
            10.1,
            10.1,
            10.0,
            10.0,
            10.1
           ],
           "type": "scatter"
          },
          {
           "fill": "toself",
           "fillcolor": "rgb(76, 0, 0)",
           "hoverinfo": "name",
           "line": {
            "width": 0
           },
           "mode": "lines",
           "name": "Risk Area",
           "showlegend": false,
           "x": [
            6.4,
            5.1,
            5.1,
            5.0,
            5.0,
            5.1,
            5.1,
            9.9,
            9.9,
            10.0,
            10.0,
            9.9,
            9.9,
            8.6,
            8.6,
            6.4,
            6.4
           ],
           "y": [
            10.1,
            10.1,
            11.5,
            11.5,
            13.6,
            13.6,
            15.0,
            15.0,
            13.6,
            13.6,
            11.5,
            11.5,
            10.1,
            10.1,
            10.0,
            10.0,
            10.1
           ],
           "type": "scatter"
          },
          {
           "fill": "toself",
           "fillcolor": "rgb(25, 0, 0)",
           "hoverinfo": "name",
           "line": {
            "width": 0
           },
           "mode": "lines",
           "name": "Risk Area",
           "showlegend": false,
           "x": [
            10.1,
            10.1,
            15.0,
            15.0,
            13.6,
            13.6,
            11.5,
            11.5,
            10.1,
            10.1,
            10.0,
            10.0,
            10.1
           ],
           "y": [
            13.6,
            15.0,
            15.0,
            10.1,
            10.1,
            10.0,
            10.0,
            10.1,
            10.1,
            11.5,
            11.5,
            13.6,
            13.6
           ],
           "type": "scatter"
          },
          {
           "hoverinfo": "text",
           "marker": {
            "opacity": 1,
            "size": 1
           },
           "mode": "markers",
           "showlegend": false,
           "text": [
            "ID: 11, Pos(4.16,11.53)"
           ],
           "x": [
            4.155124036296661
           ],
           "y": [
            11.529196827786976
           ],
           "type": "scatter"
          },
          {
           "hoverinfo": "text",
           "marker": {
            "opacity": 1,
            "size": 1
           },
           "mode": "markers",
           "showlegend": false,
           "text": [
            "ID: 12, Pos(3.29,11.43)"
           ],
           "x": [
            3.290435732615093
           ],
           "y": [
            11.433472124089885
           ],
           "type": "scatter"
          },
          {
           "hoverinfo": "text",
           "marker": {
            "opacity": 1,
            "size": 1
           },
           "mode": "markers",
           "showlegend": false,
           "text": [
            "ID: 13, Pos(3.28,10.25)"
           ],
           "x": [
            3.2808214637524604
           ],
           "y": [
            10.250176996422333
           ],
           "type": "scatter"
          },
          {
           "hoverinfo": "text",
           "marker": {
            "opacity": 1,
            "size": 1
           },
           "mode": "markers",
           "showlegend": false,
           "text": [
            "ID: 14, Pos(4.86,11.88)"
           ],
           "x": [
            4.8631506778599
           ],
           "y": [
            11.875539300606277
           ],
           "type": "scatter"
          },
          {
           "hoverinfo": "text",
           "marker": {
            "opacity": 1,
            "size": 1
           },
           "mode": "markers",
           "showlegend": false,
           "text": [
            "ID: 15, Pos(4.39,12.25)"
           ],
           "x": [
            4.392530678000057
           ],
           "y": [
            12.249806685553423
           ],
           "type": "scatter"
          },
          {
           "hoverinfo": "text",
           "marker": {
            "opacity": 1,
            "size": 1
           },
           "mode": "markers",
           "showlegend": false,
           "text": [
            "ID: 16, Pos(6.76,12.34)"
           ],
           "x": [
            6.764544271002325
           ],
           "y": [
            12.335367780262843
           ],
           "type": "scatter"
          },
          {
           "hoverinfo": "text",
           "marker": {
            "opacity": 1,
            "size": 1
           },
           "mode": "markers",
           "showlegend": false,
           "text": [
            "ID: 17, Pos(7.94,12.57)"
           ],
           "x": [
            7.940094758053736
           ],
           "y": [
            12.571048749665575
           ],
           "type": "scatter"
          },
          {
           "hoverinfo": "text",
           "marker": {
            "opacity": 1,
            "size": 1
           },
           "mode": "markers",
           "showlegend": false,
           "text": [
            "ID: 18, Pos(4.60,11.19)"
           ],
           "x": [
            4.59831158290478
           ],
           "y": [
            11.191454619476065
           ],
           "type": "scatter"
          },
          {
           "hoverinfo": "text",
           "marker": {
            "opacity": 1,
            "size": 1
           },
           "mode": "markers",
           "showlegend": false,
           "text": [
            "ID: 19, Pos(5.58,12.38)"
           ],
           "x": [
            5.579261022851251
           ],
           "y": [
            12.376075283723686
           ],
           "type": "scatter"
          },
          {
           "hoverinfo": "text",
           "marker": {
            "opacity": 1,
            "size": 1
           },
           "mode": "markers",
           "showlegend": false,
           "text": [
            "ID: 20, Pos(3.59,10.86)"
           ],
           "x": [
            3.593569755065404
           ],
           "y": [
            10.862353183277495
           ],
           "type": "scatter"
          }
         ],
         "layout": {
          "shapes": [
           {
            "fillcolor": "rgba(157, 255, 90, 0.5)",
            "line": {
             "color": "rgba(157, 255, 90, 0.5)"
            },
            "type": "circle",
            "x0": 3.9551240362966604,
            "x1": 4.355124036296661,
            "xref": "x",
            "y0": 11.329196827786976,
            "y1": 11.729196827786975,
            "yref": "y"
           },
           {
            "fillcolor": "rgba(51, 255, 196, 0.5)",
            "line": {
             "color": "rgba(51, 255, 196, 0.5)"
            },
            "type": "circle",
            "x0": 3.090435732615093,
            "x1": 3.490435732615093,
            "xref": "x",
            "y0": 11.233472124089886,
            "y1": 11.633472124089884,
            "yref": "y"
           },
           {
            "fillcolor": "rgba(244, 248, 2, 0.5)",
            "line": {
             "color": "rgba(244, 248, 2, 0.5)"
            },
            "type": "circle",
            "x0": 3.0808214637524602,
            "x1": 3.4808214637524606,
            "xref": "x",
            "y0": 10.050176996422334,
            "y1": 10.450176996422332,
            "yref": "y"
           },
           {
            "fillcolor": "rgba(51, 255, 196, 0.5)",
            "line": {
             "color": "rgba(51, 255, 196, 0.5)"
            },
            "type": "circle",
            "x0": 4.6631506778599,
            "x1": 5.0631506778599,
            "xref": "x",
            "y0": 11.675539300606278,
            "y1": 12.075539300606277,
            "yref": "y"
           },
           {
            "fillcolor": "rgba(0, 0, 132, 0.5)",
            "line": {
             "color": "rgba(0, 0, 132, 0.5)"
            },
            "type": "circle",
            "x0": 4.192530678000057,
            "x1": 4.592530678000057,
            "xref": "x",
            "y0": 12.049806685553424,
            "y1": 12.449806685553423,
            "yref": "y"
           },
           {
            "fillcolor": "rgba(0, 0, 128, 0.5)",
            "line": {
             "color": "rgba(0, 0, 128, 0.5)"
            },
            "type": "circle",
            "x0": 6.564544271002325,
            "x1": 6.9645442710023255,
            "xref": "x",
            "y0": 12.135367780262843,
            "y1": 12.535367780262842,
            "yref": "y"
           },
           {
            "fillcolor": "rgba(0, 0, 128, 0.5)",
            "line": {
             "color": "rgba(0, 0, 128, 0.5)"
            },
            "type": "circle",
            "x0": 7.740094758053736,
            "x1": 8.140094758053737,
            "xref": "x",
            "y0": 12.371048749665576,
            "y1": 12.771048749665574,
            "yref": "y"
           },
           {
            "fillcolor": "rgba(199, 255, 48, 0.5)",
            "line": {
             "color": "rgba(199, 255, 48, 0.5)"
            },
            "type": "circle",
            "x0": 4.39831158290478,
            "x1": 4.79831158290478,
            "xref": "x",
            "y0": 10.991454619476066,
            "y1": 11.391454619476065,
            "yref": "y"
           },
           {
            "fillcolor": "rgba(0, 0, 146, 0.5)",
            "line": {
             "color": "rgba(0, 0, 146, 0.5)"
            },
            "type": "circle",
            "x0": 5.379261022851251,
            "x1": 5.7792610228512515,
            "xref": "x",
            "y0": 12.176075283723687,
            "y1": 12.576075283723686,
            "yref": "y"
           },
           {
            "fillcolor": "rgba(31, 255, 215, 0.5)",
            "line": {
             "color": "rgba(31, 255, 215, 0.5)"
            },
            "type": "circle",
            "x0": 3.393569755065404,
            "x1": 3.793569755065404,
            "xref": "x",
            "y0": 10.662353183277496,
            "y1": 11.062353183277494,
            "yref": "y"
           },
           {
            "line": {
             "color": "black",
             "width": 3
            },
            "type": "line",
            "x0": 4.155124036296661,
            "x1": 4.293160048443379,
            "y0": 11.529196827786976,
            "y1": 11.67392436266072
           },
           {
            "line": {
             "color": "black",
             "width": 3
            },
            "type": "line",
            "x0": 3.290435732615093,
            "x1": 3.467712135123243,
            "y0": 11.433472124089885,
            "y1": 11.526063036785292
           },
           {
            "line": {
             "color": "black",
             "width": 3
            },
            "type": "line",
            "x0": 3.2808214637524604,
            "x1": 3.3399658517754127,
            "y0": 10.250176996422333,
            "y1": 10.441231808885643
           },
           {
            "line": {
             "color": "black",
             "width": 3
            },
            "type": "line",
            "x0": 4.8631506778599,
            "x1": 5.051930253553747,
            "y0": 11.875539300606277,
            "y1": 11.941586797158765
           },
           {
            "line": {
             "color": "white",
             "width": 3
            },
            "type": "line",
            "x0": 4.392530678000057,
            "x1": 4.572064761446675,
            "y0": 12.249806685553423,
            "y1": 12.337940180213415
           },
           {
            "line": {
             "color": "white",
             "width": 3
            },
            "type": "line",
            "x0": 6.764544271002325,
            "x1": 6.96057438150038,
            "y0": 12.335367780262843,
            "y1": 12.375018704314124
           },
           {
            "line": {
             "color": "white",
             "width": 3
            },
            "type": "line",
            "x0": 7.940094758053736,
            "x1": 8.136100104106475,
            "y0": 12.571048749665575,
            "y1": 12.610821910449529
           },
           {
            "line": {
             "color": "black",
             "width": 3
            },
            "type": "line",
            "x0": 4.59831158290478,
            "x1": 4.664678885103149,
            "y0": 11.191454619476065,
            "y1": 11.38012200192176
           },
           {
            "line": {
             "color": "white",
             "width": 3
            },
            "type": "line",
            "x0": 5.579261022851251,
            "x1": 5.7786751573186015,
            "y0": 12.376075283723686,
            "y1": 12.391372439493226
           },
           {
            "line": {
             "color": "black",
             "width": 3
            },
            "type": "line",
            "x0": 3.593569755065404,
            "x1": 3.775260191168396,
            "y0": 10.862353183277495,
            "y1": 10.945950942988533
           }
          ],
          "title": {
           "text": "<b>Percentage using the shortest path: 0%  |  Number of Agents: 10</b>",
           "x": 0.5
          }
         },
         "name": "400"
        },
        {
         "data": [
          {
           "hoverinfo": "name",
           "line": {
            "color": "white"
           },
           "mode": "lines",
           "name": "Exterior",
           "showlegend": false,
           "x": [
            10.1,
            10.1,
            15.0,
            15.0,
            13.6,
            13.6,
            15.0,
            15.0,
            13.6,
            13.6,
            15.0,
            15.0,
            10.1,
            10.1,
            9.9,
            9.9,
            5.1,
            5.1,
            4.9,
            4.9,
            0.0,
            0.0,
            1.5,
            1.5,
            0.0,
            0.0,
            1.5,
            1.5,
            0.0,
            0.0,
            4.9,
            4.9,
            5.1,
            5.1,
            9.9,
            9.9,
            10.1
           ],
           "y": [
            1.5,
            0.0,
            0.0,
            4.9,
            4.9,
            5.1,
            5.1,
            9.9,
            9.9,
            10.1,
            10.1,
            15.0,
            15.0,
            13.6,
            13.6,
            15.0,
            15.0,
            13.6,
            13.6,
            15.0,
            15.0,
            10.1,
            10.1,
            9.9,
            9.9,
            5.1,
            5.1,
            4.9,
            4.9,
            0.0,
            0.0,
            1.5,
            1.5,
            0.0,
            0.0,
            1.5,
            1.5
           ],
           "type": "scatter"
          },
          {
           "hoverinfo": "name",
           "line": {
            "color": "white"
           },
           "mode": "lines",
           "name": "Obstacle",
           "showlegend": false,
           "x": [
            10.1,
            11.5,
            11.5,
            10.1,
            10.1,
            9.9,
            9.9,
            8.6,
            8.6,
            9.9,
            9.9,
            10.1,
            10.1
           ],
           "y": [
            5.1,
            5.1,
            4.9,
            4.9,
            3.6,
            3.6,
            4.9,
            4.9,
            5.1,
            5.1,
            6.5,
            6.5,
            5.1
           ],
           "type": "scatter"
          },
          {
           "hoverinfo": "name",
           "line": {
            "color": "white"
           },
           "mode": "lines",
           "name": "Obstacle",
           "showlegend": false,
           "x": [
            10.1,
            11.5,
            11.5,
            10.1,
            10.1,
            9.9,
            9.9,
            8.6,
            8.6,
            9.9,
            9.9,
            10.1,
            10.1
           ],
           "y": [
            10.1,
            10.1,
            9.9,
            9.9,
            8.6,
            8.6,
            9.9,
            9.9,
            10.1,
            10.1,
            11.5,
            11.5,
            10.1
           ],
           "type": "scatter"
          },
          {
           "hoverinfo": "name",
           "line": {
            "color": "white"
           },
           "mode": "lines",
           "name": "Obstacle",
           "showlegend": false,
           "x": [
            5.1,
            6.4,
            6.4,
            5.1,
            5.1,
            4.9,
            4.9,
            3.6,
            3.6,
            4.9,
            4.9,
            5.1,
            5.1
           ],
           "y": [
            5.1,
            5.1,
            4.9,
            4.9,
            3.6,
            3.6,
            4.9,
            4.9,
            5.1,
            5.1,
            6.5,
            6.5,
            5.1
           ],
           "type": "scatter"
          },
          {
           "hoverinfo": "name",
           "line": {
            "color": "white"
           },
           "mode": "lines",
           "name": "Obstacle",
           "showlegend": false,
           "x": [
            5.1,
            6.4,
            6.4,
            5.1,
            5.1,
            4.9,
            4.9,
            3.6,
            3.6,
            4.9,
            4.9,
            5.1,
            5.1
           ],
           "y": [
            10.1,
            10.1,
            9.9,
            9.9,
            8.6,
            8.6,
            9.9,
            9.9,
            10.1,
            10.1,
            11.5,
            11.5,
            10.1
           ],
           "type": "scatter"
          },
          {
           "fill": "toself",
           "fillcolor": "rgb(25, 0, 0)",
           "hoverinfo": "name",
           "line": {
            "width": 0
           },
           "mode": "lines",
           "name": "Risk Area",
           "showlegend": false,
           "x": [
            1.5,
            1.5,
            3.6,
            3.6,
            4.9,
            4.9,
            5.0,
            5.0,
            4.9,
            4.9,
            0.0,
            0.0,
            1.5
           ],
           "y": [
            4.9,
            5.0,
            5.0,
            4.9,
            4.9,
            3.6,
            3.6,
            1.5,
            1.5,
            0.0,
            0.0,
            4.9,
            4.9
           ],
           "type": "scatter"
          },
          {
           "fill": "toself",
           "fillcolor": "rgb(153, 0, 0)",
           "hoverinfo": "name",
           "line": {
            "width": 0
           },
           "mode": "lines",
           "name": "Risk Area",
           "showlegend": false,
           "x": [
            9.9,
            9.9,
            5.1,
            5.1,
            5.0,
            5.0,
            5.1,
            5.1,
            6.4,
            6.4,
            8.6,
            8.6,
            9.9,
            9.9,
            10.0,
            10.0,
            9.9
           ],
           "y": [
            1.5,
            0.0,
            0.0,
            1.5,
            1.5,
            3.6,
            3.6,
            4.9,
            4.9,
            5.0,
            5.0,
            4.9,
            4.9,
            3.6,
            3.6,
            1.5,
            1.5
           ],
           "type": "scatter"
          },
          {
           "fill": "toself",
           "fillcolor": "rgb(0, 0, 0)",
           "hoverinfo": "name",
           "line": {
            "width": 0
           },
           "mode": "lines",
           "name": "Risk Area",
           "showlegend": false,
           "x": [
            13.6,
            15.0,
            15.0,
            10.1,
            10.1,
            10.0,
            10.0,
            10.1,
            10.1,
            11.5,
            11.5,
            13.6,
            13.6
           ],
           "y": [
            4.9,
            4.9,
            0.0,
            0.0,
            1.5,
            1.5,
            3.6,
            3.6,
            4.9,
            4.9,
            5.0,
            5.0,
            4.9
           ],
           "type": "scatter"
          },
          {
           "fill": "toself",
           "fillcolor": "rgb(153, 0, 0)",
           "hoverinfo": "name",
           "line": {
            "width": 0
           },
           "mode": "lines",
           "name": "Risk Area",
           "showlegend": false,
           "x": [
            13.6,
            15.0,
            15.0,
            13.6,
            13.6,
            11.5,
            11.5,
            10.1,
            10.1,
            10.0,
            10.0,
            10.1,
            10.1,
            11.5,
            11.5,
            13.6,
            13.6
           ],
           "y": [
            9.9,
            9.9,
            5.1,
            5.1,
            5.0,
            5.0,
            5.1,
            5.1,
            6.5,
            6.5,
            8.6,
            8.6,
            9.9,
            9.9,
            10.0,
            10.0,
            9.9
           ],
           "type": "scatter"
          },
          {
           "fill": "toself",
           "fillcolor": "rgb(204, 0, 0)",
           "hoverinfo": "name",
           "line": {
            "width": 0
           },
           "mode": "lines",
           "name": "Risk Area",
           "showlegend": false,
           "x": [
            9.9,
            9.9,
            8.6,
            8.6,
            6.4,
            6.4,
            5.1,
            5.1,
            5.0,
            5.0,
            5.1,
            5.1,
            6.4,
            6.4,
            8.6,
            8.6,
            9.9,
            9.9,
            10.0,
            10.0,
            9.9
           ],
           "y": [
            6.5,
            5.1,
            5.1,
            5.0,
            5.0,
            5.1,
            5.1,
            6.5,
            6.5,
            8.6,
            8.6,
            9.9,
            9.9,
            10.0,
            10.0,
            9.9,
            9.9,
            8.6,
            8.6,
            6.5,
            6.5
           ],
           "type": "scatter"
          },
          {
           "fill": "toself",
           "fillcolor": "rgb(25, 0, 0)",
           "hoverinfo": "name",
           "line": {
            "width": 0
           },
           "mode": "lines",
           "name": "Risk Area",
           "showlegend": false,
           "x": [
            4.9,
            4.9,
            3.6,
            3.6,
            1.5,
            1.5,
            0.0,
            0.0,
            1.5,
            1.5,
            3.6,
            3.6,
            4.9,
            4.9,
            5.0,
            5.0,
            4.9
           ],
           "y": [
            6.5,
            5.1,
            5.1,
            5.0,
            5.0,
            5.1,
            5.1,
            9.9,
            9.9,
            10.0,
            10.0,
            9.9,
            9.9,
            8.6,
            8.6,
            6.5,
            6.5
           ],
           "type": "scatter"
          },
          {
           "fill": "toself",
           "fillcolor": "rgb(51, 0, 0)",
           "hoverinfo": "name",
           "line": {
            "width": 0
           },
           "mode": "lines",
           "name": "Risk Area",
           "showlegend": false,
           "x": [
            1.5,
            0.0,
            0.0,
            4.9,
            4.9,
            5.0,
            5.0,
            4.9,
            4.9,
            3.6,
            3.6,
            1.5,
            1.5
           ],
           "y": [
            10.1,
            10.1,
            15.0,
            15.0,
            13.6,
            13.6,
            11.5,
            11.5,
            10.1,
            10.1,
            10.0,
            10.0,
            10.1
           ],
           "type": "scatter"
          },
          {
           "fill": "toself",
           "fillcolor": "rgb(76, 0, 0)",
           "hoverinfo": "name",
           "line": {
            "width": 0
           },
           "mode": "lines",
           "name": "Risk Area",
           "showlegend": false,
           "x": [
            6.4,
            5.1,
            5.1,
            5.0,
            5.0,
            5.1,
            5.1,
            9.9,
            9.9,
            10.0,
            10.0,
            9.9,
            9.9,
            8.6,
            8.6,
            6.4,
            6.4
           ],
           "y": [
            10.1,
            10.1,
            11.5,
            11.5,
            13.6,
            13.6,
            15.0,
            15.0,
            13.6,
            13.6,
            11.5,
            11.5,
            10.1,
            10.1,
            10.0,
            10.0,
            10.1
           ],
           "type": "scatter"
          },
          {
           "fill": "toself",
           "fillcolor": "rgb(25, 0, 0)",
           "hoverinfo": "name",
           "line": {
            "width": 0
           },
           "mode": "lines",
           "name": "Risk Area",
           "showlegend": false,
           "x": [
            10.1,
            10.1,
            15.0,
            15.0,
            13.6,
            13.6,
            11.5,
            11.5,
            10.1,
            10.1,
            10.0,
            10.0,
            10.1
           ],
           "y": [
            13.6,
            15.0,
            15.0,
            10.1,
            10.1,
            10.0,
            10.0,
            10.1,
            10.1,
            11.5,
            11.5,
            13.6,
            13.6
           ],
           "type": "scatter"
          },
          {
           "hoverinfo": "text",
           "marker": {
            "opacity": 1,
            "size": 1
           },
           "mode": "markers",
           "showlegend": false,
           "text": [
            "ID: 11, Pos(4.97,12.17)"
           ],
           "x": [
            4.965985094901069
           ],
           "y": [
            12.167454121746701
           ],
           "type": "scatter"
          },
          {
           "hoverinfo": "text",
           "marker": {
            "opacity": 1,
            "size": 1
           },
           "mode": "markers",
           "showlegend": false,
           "text": [
            "ID: 12, Pos(4.08,11.84)"
           ],
           "x": [
            4.081052876152446
           ],
           "y": [
            11.838877407059284
           ],
           "type": "scatter"
          },
          {
           "hoverinfo": "text",
           "marker": {
            "opacity": 1,
            "size": 1
           },
           "mode": "markers",
           "showlegend": false,
           "text": [
            "ID: 13, Pos(3.70,10.72)"
           ],
           "x": [
            3.6953445947912607
           ],
           "y": [
            10.715147324632655
           ],
           "type": "scatter"
          },
          {
           "hoverinfo": "text",
           "marker": {
            "opacity": 1,
            "size": 1
           },
           "mode": "markers",
           "showlegend": false,
           "text": [
            "ID: 14, Pos(6.29,12.05)"
           ],
           "x": [
            6.291877088468249
           ],
           "y": [
            12.04683702491353
           ],
           "type": "scatter"
          },
          {
           "hoverinfo": "text",
           "marker": {
            "opacity": 1,
            "size": 1
           },
           "mode": "markers",
           "showlegend": false,
           "text": [
            "ID: 15, Pos(5.93,12.62)"
           ],
           "x": [
            5.934582640240388
           ],
           "y": [
            12.616793165443559
           ],
           "type": "scatter"
          },
          {
           "hoverinfo": "text",
           "marker": {
            "opacity": 1,
            "size": 1
           },
           "mode": "markers",
           "showlegend": false,
           "text": [
            "ID: 16, Pos(8.23,12.63)"
           ],
           "x": [
            8.227989815033892
           ],
           "y": [
            12.631468160175944
           ],
           "type": "scatter"
          },
          {
           "hoverinfo": "text",
           "marker": {
            "opacity": 1,
            "size": 1
           },
           "mode": "markers",
           "showlegend": false,
           "text": [
            "ID: 17, Pos(9.18,12.82)"
           ],
           "x": [
            9.181862840955821
           ],
           "y": [
            12.824610457593876
           ],
           "type": "scatter"
          },
          {
           "hoverinfo": "text",
           "marker": {
            "opacity": 1,
            "size": 1
           },
           "mode": "markers",
           "showlegend": false,
           "text": [
            "ID: 18, Pos(4.61,11.58)"
           ],
           "x": [
            4.607206649377808
           ],
           "y": [
            11.583074661339992
           ],
           "type": "scatter"
          },
          {
           "hoverinfo": "text",
           "marker": {
            "opacity": 1,
            "size": 1
           },
           "mode": "markers",
           "showlegend": false,
           "text": [
            "ID: 19, Pos(7.12,12.60)"
           ],
           "x": [
            7.120396198794013
           ],
           "y": [
            12.601470153006106
           ],
           "type": "scatter"
          },
          {
           "hoverinfo": "text",
           "marker": {
            "opacity": 1,
            "size": 1
           },
           "mode": "markers",
           "showlegend": false,
           "text": [
            "ID: 20, Pos(4.20,11.14)"
           ],
           "x": [
            4.195828619672863
           ],
           "y": [
            11.138871981649997
           ],
           "type": "scatter"
          }
         ],
         "layout": {
          "shapes": [
           {
            "fillcolor": "rgba(0, 40, 255, 0.5)",
            "line": {
             "color": "rgba(0, 40, 255, 0.5)"
            },
            "type": "circle",
            "x0": 4.765985094901069,
            "x1": 5.165985094901069,
            "xref": "x",
            "y0": 11.967454121746702,
            "y1": 12.3674541217467,
            "yref": "y"
           },
           {
            "fillcolor": "rgba(0, 112, 255, 0.5)",
            "line": {
             "color": "rgba(0, 112, 255, 0.5)"
            },
            "type": "circle",
            "x0": 3.881052876152446,
            "x1": 4.2810528761524465,
            "xref": "x",
            "y0": 11.638877407059285,
            "y1": 12.038877407059283,
            "yref": "y"
           },
           {
            "fillcolor": "rgba(255, 215, 0, 0.5)",
            "line": {
             "color": "rgba(255, 215, 0, 0.5)"
            },
            "type": "circle",
            "x0": 3.4953445947912605,
            "x1": 3.895344594791261,
            "xref": "x",
            "y0": 10.515147324632656,
            "y1": 10.915147324632654,
            "yref": "y"
           },
           {
            "fillcolor": "rgba(0, 0, 128, 0.5)",
            "line": {
             "color": "rgba(0, 0, 128, 0.5)"
            },
            "type": "circle",
            "x0": 6.091877088468249,
            "x1": 6.491877088468249,
            "xref": "x",
            "y0": 11.846837024913532,
            "y1": 12.24683702491353,
            "yref": "y"
           },
           {
            "fillcolor": "rgba(0, 0, 150, 0.5)",
            "line": {
             "color": "rgba(0, 0, 150, 0.5)"
            },
            "type": "circle",
            "x0": 5.734582640240387,
            "x1": 6.134582640240388,
            "xref": "x",
            "y0": 12.41679316544356,
            "y1": 12.816793165443558,
            "yref": "y"
           },
           {
            "fillcolor": "rgba(9, 240, 238, 0.5)",
            "line": {
             "color": "rgba(9, 240, 238, 0.5)"
            },
            "type": "circle",
            "x0": 8.027989815033893,
            "x1": 8.427989815033891,
            "xref": "x",
            "y0": 12.431468160175944,
            "y1": 12.831468160175943,
            "yref": "y"
           },
           {
            "fillcolor": "rgba(255, 100, 0, 0.5)",
            "line": {
             "color": "rgba(255, 100, 0, 0.5)"
            },
            "type": "circle",
            "x0": 8.981862840955822,
            "x1": 9.38186284095582,
            "xref": "x",
            "y0": 12.624610457593876,
            "y1": 13.024610457593875,
            "yref": "y"
           },
           {
            "fillcolor": "rgba(248, 245, 0, 0.5)",
            "line": {
             "color": "rgba(248, 245, 0, 0.5)"
            },
            "type": "circle",
            "x0": 4.407206649377808,
            "x1": 4.807206649377808,
            "xref": "x",
            "y0": 11.383074661339993,
            "y1": 11.783074661339992,
            "yref": "y"
           },
           {
            "fillcolor": "rgba(0, 0, 255, 0.5)",
            "line": {
             "color": "rgba(0, 0, 255, 0.5)"
            },
            "type": "circle",
            "x0": 6.920396198794013,
            "x1": 7.320396198794013,
            "xref": "x",
            "y0": 12.401470153006107,
            "y1": 12.801470153006106,
            "yref": "y"
           },
           {
            "fillcolor": "rgba(255, 156, 0, 0.5)",
            "line": {
             "color": "rgba(255, 156, 0, 0.5)"
            },
            "type": "circle",
            "x0": 3.9958286196728627,
            "x1": 4.395828619672863,
            "xref": "x",
            "y0": 10.938871981649998,
            "y1": 11.338871981649996,
            "yref": "y"
           },
           {
            "line": {
             "color": "white",
             "width": 3
            },
            "type": "line",
            "x0": 4.965985094901069,
            "x1": 5.160204706149053,
            "y0": 12.167454121746701,
            "y1": 12.215190298873507
           },
           {
            "line": {
             "color": "white",
             "width": 3
            },
            "type": "line",
            "x0": 4.081052876152446,
            "x1": 4.236614474320346,
            "y0": 11.838877407059284,
            "y1": 11.964577801551302
           },
           {
            "line": {
             "color": "black",
             "width": 3
            },
            "type": "line",
            "x0": 3.6953445947912607,
            "x1": 3.8505604213603304,
            "y0": 10.715147324632655,
            "y1": 10.841274431879592
           },
           {
            "line": {
             "color": "white",
             "width": 3
            },
            "type": "line",
            "x0": 6.291877088468249,
            "x1": 6.491385441676229,
            "y0": 12.04683702491353,
            "y1": 12.060851909866319
           },
           {
            "line": {
             "color": "white",
             "width": 3
            },
            "type": "line",
            "x0": 5.934582640240388,
            "x1": 6.1339565172666095,
            "y0": 12.616793165443559,
            "y1": 12.63260636118423
           },
           {
            "line": {
             "color": "black",
             "width": 3
            },
            "type": "line",
            "x0": 8.227989815033892,
            "x1": 8.424023699357726,
            "y0": 12.631468160175944,
            "y1": 12.67110042224752
           },
           {
            "line": {
             "color": "black",
             "width": 3
            },
            "type": "line",
            "x0": 9.181862840955821,
            "x1": 9.377881354772196,
            "y0": 12.824610457593876,
            "y1": 12.864318671369114
           },
           {
            "line": {
             "color": "black",
             "width": 3
            },
            "type": "line",
            "x0": 4.607206649377808,
            "x1": 4.674441230357619,
            "y0": 11.583074661339992,
            "y1": 11.771434718465885
           },
           {
            "line": {
             "color": "white",
             "width": 3
            },
            "type": "line",
            "x0": 7.120396198794013,
            "x1": 7.31736461202396,
            "y0": 12.601470153006106,
            "y1": 12.636160846133754
           },
           {
            "line": {
             "color": "black",
             "width": 3
            },
            "type": "line",
            "x0": 4.195828619672863,
            "x1": 4.372216283770759,
            "y0": 11.138871981649997,
            "y1": 11.23314494677833
           }
          ],
          "title": {
           "text": "<b>Percentage using the shortest path: 0%  |  Number of Agents: 10</b>",
           "x": 0.5
          }
         },
         "name": "450"
        },
        {
         "data": [
          {
           "hoverinfo": "name",
           "line": {
            "color": "white"
           },
           "mode": "lines",
           "name": "Exterior",
           "showlegend": false,
           "x": [
            10.1,
            10.1,
            15.0,
            15.0,
            13.6,
            13.6,
            15.0,
            15.0,
            13.6,
            13.6,
            15.0,
            15.0,
            10.1,
            10.1,
            9.9,
            9.9,
            5.1,
            5.1,
            4.9,
            4.9,
            0.0,
            0.0,
            1.5,
            1.5,
            0.0,
            0.0,
            1.5,
            1.5,
            0.0,
            0.0,
            4.9,
            4.9,
            5.1,
            5.1,
            9.9,
            9.9,
            10.1
           ],
           "y": [
            1.5,
            0.0,
            0.0,
            4.9,
            4.9,
            5.1,
            5.1,
            9.9,
            9.9,
            10.1,
            10.1,
            15.0,
            15.0,
            13.6,
            13.6,
            15.0,
            15.0,
            13.6,
            13.6,
            15.0,
            15.0,
            10.1,
            10.1,
            9.9,
            9.9,
            5.1,
            5.1,
            4.9,
            4.9,
            0.0,
            0.0,
            1.5,
            1.5,
            0.0,
            0.0,
            1.5,
            1.5
           ],
           "type": "scatter"
          },
          {
           "hoverinfo": "name",
           "line": {
            "color": "white"
           },
           "mode": "lines",
           "name": "Obstacle",
           "showlegend": false,
           "x": [
            10.1,
            11.5,
            11.5,
            10.1,
            10.1,
            9.9,
            9.9,
            8.6,
            8.6,
            9.9,
            9.9,
            10.1,
            10.1
           ],
           "y": [
            5.1,
            5.1,
            4.9,
            4.9,
            3.6,
            3.6,
            4.9,
            4.9,
            5.1,
            5.1,
            6.5,
            6.5,
            5.1
           ],
           "type": "scatter"
          },
          {
           "hoverinfo": "name",
           "line": {
            "color": "white"
           },
           "mode": "lines",
           "name": "Obstacle",
           "showlegend": false,
           "x": [
            10.1,
            11.5,
            11.5,
            10.1,
            10.1,
            9.9,
            9.9,
            8.6,
            8.6,
            9.9,
            9.9,
            10.1,
            10.1
           ],
           "y": [
            10.1,
            10.1,
            9.9,
            9.9,
            8.6,
            8.6,
            9.9,
            9.9,
            10.1,
            10.1,
            11.5,
            11.5,
            10.1
           ],
           "type": "scatter"
          },
          {
           "hoverinfo": "name",
           "line": {
            "color": "white"
           },
           "mode": "lines",
           "name": "Obstacle",
           "showlegend": false,
           "x": [
            5.1,
            6.4,
            6.4,
            5.1,
            5.1,
            4.9,
            4.9,
            3.6,
            3.6,
            4.9,
            4.9,
            5.1,
            5.1
           ],
           "y": [
            5.1,
            5.1,
            4.9,
            4.9,
            3.6,
            3.6,
            4.9,
            4.9,
            5.1,
            5.1,
            6.5,
            6.5,
            5.1
           ],
           "type": "scatter"
          },
          {
           "hoverinfo": "name",
           "line": {
            "color": "white"
           },
           "mode": "lines",
           "name": "Obstacle",
           "showlegend": false,
           "x": [
            5.1,
            6.4,
            6.4,
            5.1,
            5.1,
            4.9,
            4.9,
            3.6,
            3.6,
            4.9,
            4.9,
            5.1,
            5.1
           ],
           "y": [
            10.1,
            10.1,
            9.9,
            9.9,
            8.6,
            8.6,
            9.9,
            9.9,
            10.1,
            10.1,
            11.5,
            11.5,
            10.1
           ],
           "type": "scatter"
          },
          {
           "fill": "toself",
           "fillcolor": "rgb(25, 0, 0)",
           "hoverinfo": "name",
           "line": {
            "width": 0
           },
           "mode": "lines",
           "name": "Risk Area",
           "showlegend": false,
           "x": [
            1.5,
            1.5,
            3.6,
            3.6,
            4.9,
            4.9,
            5.0,
            5.0,
            4.9,
            4.9,
            0.0,
            0.0,
            1.5
           ],
           "y": [
            4.9,
            5.0,
            5.0,
            4.9,
            4.9,
            3.6,
            3.6,
            1.5,
            1.5,
            0.0,
            0.0,
            4.9,
            4.9
           ],
           "type": "scatter"
          },
          {
           "fill": "toself",
           "fillcolor": "rgb(153, 0, 0)",
           "hoverinfo": "name",
           "line": {
            "width": 0
           },
           "mode": "lines",
           "name": "Risk Area",
           "showlegend": false,
           "x": [
            9.9,
            9.9,
            5.1,
            5.1,
            5.0,
            5.0,
            5.1,
            5.1,
            6.4,
            6.4,
            8.6,
            8.6,
            9.9,
            9.9,
            10.0,
            10.0,
            9.9
           ],
           "y": [
            1.5,
            0.0,
            0.0,
            1.5,
            1.5,
            3.6,
            3.6,
            4.9,
            4.9,
            5.0,
            5.0,
            4.9,
            4.9,
            3.6,
            3.6,
            1.5,
            1.5
           ],
           "type": "scatter"
          },
          {
           "fill": "toself",
           "fillcolor": "rgb(0, 0, 0)",
           "hoverinfo": "name",
           "line": {
            "width": 0
           },
           "mode": "lines",
           "name": "Risk Area",
           "showlegend": false,
           "x": [
            13.6,
            15.0,
            15.0,
            10.1,
            10.1,
            10.0,
            10.0,
            10.1,
            10.1,
            11.5,
            11.5,
            13.6,
            13.6
           ],
           "y": [
            4.9,
            4.9,
            0.0,
            0.0,
            1.5,
            1.5,
            3.6,
            3.6,
            4.9,
            4.9,
            5.0,
            5.0,
            4.9
           ],
           "type": "scatter"
          },
          {
           "fill": "toself",
           "fillcolor": "rgb(153, 0, 0)",
           "hoverinfo": "name",
           "line": {
            "width": 0
           },
           "mode": "lines",
           "name": "Risk Area",
           "showlegend": false,
           "x": [
            13.6,
            15.0,
            15.0,
            13.6,
            13.6,
            11.5,
            11.5,
            10.1,
            10.1,
            10.0,
            10.0,
            10.1,
            10.1,
            11.5,
            11.5,
            13.6,
            13.6
           ],
           "y": [
            9.9,
            9.9,
            5.1,
            5.1,
            5.0,
            5.0,
            5.1,
            5.1,
            6.5,
            6.5,
            8.6,
            8.6,
            9.9,
            9.9,
            10.0,
            10.0,
            9.9
           ],
           "type": "scatter"
          },
          {
           "fill": "toself",
           "fillcolor": "rgb(204, 0, 0)",
           "hoverinfo": "name",
           "line": {
            "width": 0
           },
           "mode": "lines",
           "name": "Risk Area",
           "showlegend": false,
           "x": [
            9.9,
            9.9,
            8.6,
            8.6,
            6.4,
            6.4,
            5.1,
            5.1,
            5.0,
            5.0,
            5.1,
            5.1,
            6.4,
            6.4,
            8.6,
            8.6,
            9.9,
            9.9,
            10.0,
            10.0,
            9.9
           ],
           "y": [
            6.5,
            5.1,
            5.1,
            5.0,
            5.0,
            5.1,
            5.1,
            6.5,
            6.5,
            8.6,
            8.6,
            9.9,
            9.9,
            10.0,
            10.0,
            9.9,
            9.9,
            8.6,
            8.6,
            6.5,
            6.5
           ],
           "type": "scatter"
          },
          {
           "fill": "toself",
           "fillcolor": "rgb(25, 0, 0)",
           "hoverinfo": "name",
           "line": {
            "width": 0
           },
           "mode": "lines",
           "name": "Risk Area",
           "showlegend": false,
           "x": [
            4.9,
            4.9,
            3.6,
            3.6,
            1.5,
            1.5,
            0.0,
            0.0,
            1.5,
            1.5,
            3.6,
            3.6,
            4.9,
            4.9,
            5.0,
            5.0,
            4.9
           ],
           "y": [
            6.5,
            5.1,
            5.1,
            5.0,
            5.0,
            5.1,
            5.1,
            9.9,
            9.9,
            10.0,
            10.0,
            9.9,
            9.9,
            8.6,
            8.6,
            6.5,
            6.5
           ],
           "type": "scatter"
          },
          {
           "fill": "toself",
           "fillcolor": "rgb(51, 0, 0)",
           "hoverinfo": "name",
           "line": {
            "width": 0
           },
           "mode": "lines",
           "name": "Risk Area",
           "showlegend": false,
           "x": [
            1.5,
            0.0,
            0.0,
            4.9,
            4.9,
            5.0,
            5.0,
            4.9,
            4.9,
            3.6,
            3.6,
            1.5,
            1.5
           ],
           "y": [
            10.1,
            10.1,
            15.0,
            15.0,
            13.6,
            13.6,
            11.5,
            11.5,
            10.1,
            10.1,
            10.0,
            10.0,
            10.1
           ],
           "type": "scatter"
          },
          {
           "fill": "toself",
           "fillcolor": "rgb(102, 0, 0)",
           "hoverinfo": "name",
           "line": {
            "width": 0
           },
           "mode": "lines",
           "name": "Risk Area",
           "showlegend": false,
           "x": [
            6.4,
            5.1,
            5.1,
            5.0,
            5.0,
            5.1,
            5.1,
            9.9,
            9.9,
            10.0,
            10.0,
            9.9,
            9.9,
            8.6,
            8.6,
            6.4,
            6.4
           ],
           "y": [
            10.1,
            10.1,
            11.5,
            11.5,
            13.6,
            13.6,
            15.0,
            15.0,
            13.6,
            13.6,
            11.5,
            11.5,
            10.1,
            10.1,
            10.0,
            10.0,
            10.1
           ],
           "type": "scatter"
          },
          {
           "fill": "toself",
           "fillcolor": "rgb(25, 0, 0)",
           "hoverinfo": "name",
           "line": {
            "width": 0
           },
           "mode": "lines",
           "name": "Risk Area",
           "showlegend": false,
           "x": [
            10.1,
            10.1,
            15.0,
            15.0,
            13.6,
            13.6,
            11.5,
            11.5,
            10.1,
            10.1,
            10.0,
            10.0,
            10.1
           ],
           "y": [
            13.6,
            15.0,
            15.0,
            10.1,
            10.1,
            10.0,
            10.0,
            10.1,
            10.1,
            11.5,
            11.5,
            13.6,
            13.6
           ],
           "type": "scatter"
          },
          {
           "hoverinfo": "text",
           "marker": {
            "opacity": 1,
            "size": 1
           },
           "mode": "markers",
           "showlegend": false,
           "text": [
            "ID: 11, Pos(6.31,12.38)"
           ],
           "x": [
            6.310176035093312
           ],
           "y": [
            12.376004259971797
           ],
           "type": "scatter"
          },
          {
           "hoverinfo": "text",
           "marker": {
            "opacity": 1,
            "size": 1
           },
           "mode": "markers",
           "showlegend": false,
           "text": [
            "ID: 12, Pos(5.35,12.60)"
           ],
           "x": [
            5.352889777246364
           ],
           "y": [
            12.597552318371028
           ],
           "type": "scatter"
          },
          {
           "hoverinfo": "text",
           "marker": {
            "opacity": 1,
            "size": 1
           },
           "mode": "markers",
           "showlegend": false,
           "text": [
            "ID: 13, Pos(4.14,11.07)"
           ],
           "x": [
            4.135958451343554
           ],
           "y": [
            11.07388992684635
           ],
           "type": "scatter"
          },
          {
           "hoverinfo": "text",
           "marker": {
            "opacity": 1,
            "size": 1
           },
           "mode": "markers",
           "showlegend": false,
           "text": [
            "ID: 14, Pos(7.85,12.21)"
           ],
           "x": [
            7.847614041988168
           ],
           "y": [
            12.214251068804272
           ],
           "type": "scatter"
          },
          {
           "hoverinfo": "text",
           "marker": {
            "opacity": 1,
            "size": 1
           },
           "mode": "markers",
           "showlegend": false,
           "text": [
            "ID: 15, Pos(7.19,12.87)"
           ],
           "x": [
            7.185547813505056
           ],
           "y": [
            12.869662776858364
           ],
           "type": "scatter"
          },
          {
           "hoverinfo": "text",
           "marker": {
            "opacity": 1,
            "size": 1
           },
           "mode": "markers",
           "showlegend": false,
           "text": [
            "ID: 16, Pos(8.83,12.52)"
           ],
           "x": [
            8.830052493368918
           ],
           "y": [
            12.515423916563464
           ],
           "type": "scatter"
          },
          {
           "hoverinfo": "text",
           "marker": {
            "opacity": 1,
            "size": 1
           },
           "mode": "markers",
           "showlegend": false,
           "text": [
            "ID: 17, Pos(8.93,13.05)"
           ],
           "x": [
            8.928050261040038
           ],
           "y": [
            13.050997680705326
           ],
           "type": "scatter"
          },
          {
           "hoverinfo": "text",
           "marker": {
            "opacity": 1,
            "size": 1
           },
           "mode": "markers",
           "showlegend": false,
           "text": [
            "ID: 18, Pos(5.42,11.94)"
           ],
           "x": [
            5.417659728991401
           ],
           "y": [
            11.94150937828201
           ],
           "type": "scatter"
          },
          {
           "hoverinfo": "text",
           "marker": {
            "opacity": 1,
            "size": 1
           },
           "mode": "markers",
           "showlegend": false,
           "text": [
            "ID: 19, Pos(8.09,12.83)"
           ],
           "x": [
            8.091653530931127
           ],
           "y": [
            12.830169615818042
           ],
           "type": "scatter"
          },
          {
           "hoverinfo": "text",
           "marker": {
            "opacity": 1,
            "size": 1
           },
           "mode": "markers",
           "showlegend": false,
           "text": [
            "ID: 20, Pos(4.65,11.73)"
           ],
           "x": [
            4.648010141817686
           ],
           "y": [
            11.727801197881654
           ],
           "type": "scatter"
          }
         ],
         "layout": {
          "shapes": [
           {
            "fillcolor": "rgba(0, 120, 255, 0.5)",
            "line": {
             "color": "rgba(0, 120, 255, 0.5)"
            },
            "type": "circle",
            "x0": 6.110176035093311,
            "x1": 6.510176035093312,
            "xref": "x",
            "y0": 12.176004259971798,
            "y1": 12.576004259971796,
            "yref": "y"
           },
           {
            "fillcolor": "rgba(0, 152, 255, 0.5)",
            "line": {
             "color": "rgba(0, 152, 255, 0.5)"
            },
            "type": "circle",
            "x0": 5.152889777246364,
            "x1": 5.552889777246365,
            "xref": "x",
            "y0": 12.397552318371028,
            "y1": 12.797552318371027,
            "yref": "y"
           },
           {
            "fillcolor": "rgba(99, 255, 148, 0.5)",
            "line": {
             "color": "rgba(99, 255, 148, 0.5)"
            },
            "type": "circle",
            "x0": 3.935958451343554,
            "x1": 4.335958451343554,
            "xref": "x",
            "y0": 10.873889926846351,
            "y1": 11.27388992684635,
            "yref": "y"
           },
           {
            "fillcolor": "rgba(0, 80, 255, 0.5)",
            "line": {
             "color": "rgba(0, 80, 255, 0.5)"
            },
            "type": "circle",
            "x0": 7.6476140419881675,
            "x1": 8.047614041988167,
            "xref": "x",
            "y0": 12.014251068804272,
            "y1": 12.41425106880427,
            "yref": "y"
           },
           {
            "fillcolor": "rgba(19, 252, 228, 0.5)",
            "line": {
             "color": "rgba(19, 252, 228, 0.5)"
            },
            "type": "circle",
            "x0": 6.985547813505056,
            "x1": 7.385547813505056,
            "xref": "x",
            "y0": 12.669662776858365,
            "y1": 13.069662776858364,
            "yref": "y"
           },
           {
            "fillcolor": "rgba(0, 0, 159, 0.5)",
            "line": {
             "color": "rgba(0, 0, 159, 0.5)"
            },
            "type": "circle",
            "x0": 8.630052493368918,
            "x1": 9.030052493368917,
            "xref": "x",
            "y0": 12.315423916563464,
            "y1": 12.715423916563463,
            "yref": "y"
           },
           {
            "fillcolor": "rgba(115, 255, 131, 0.5)",
            "line": {
             "color": "rgba(115, 255, 131, 0.5)"
            },
            "type": "circle",
            "x0": 8.728050261040039,
            "x1": 9.128050261040038,
            "xref": "x",
            "y0": 12.850997680705326,
            "y1": 13.250997680705325,
            "yref": "y"
           },
           {
            "fillcolor": "rgba(0, 140, 255, 0.5)",
            "line": {
             "color": "rgba(0, 140, 255, 0.5)"
            },
            "type": "circle",
            "x0": 5.217659728991401,
            "x1": 5.617659728991401,
            "xref": "x",
            "y0": 11.74150937828201,
            "y1": 12.14150937828201,
            "yref": "y"
           },
           {
            "fillcolor": "rgba(15, 248, 231, 0.5)",
            "line": {
             "color": "rgba(15, 248, 231, 0.5)"
            },
            "type": "circle",
            "x0": 7.891653530931127,
            "x1": 8.291653530931127,
            "xref": "x",
            "y0": 12.630169615818042,
            "y1": 13.030169615818041,
            "yref": "y"
           },
           {
            "fillcolor": "rgba(0, 0, 255, 0.5)",
            "line": {
             "color": "rgba(0, 0, 255, 0.5)"
            },
            "type": "circle",
            "x0": 4.448010141817686,
            "x1": 4.848010141817686,
            "xref": "x",
            "y0": 11.527801197881654,
            "y1": 11.927801197881653,
            "yref": "y"
           },
           {
            "line": {
             "color": "white",
             "width": 3
            },
            "type": "line",
            "x0": 6.310176035093312,
            "x1": 6.506963597196882,
            "y0": 12.376004259971797,
            "y1": 12.411706576441928
           },
           {
            "line": {
             "color": "white",
             "width": 3
            },
            "type": "line",
            "x0": 5.352889777246364,
            "x1": 5.550468592672399,
            "y0": 12.597552318371028,
            "y1": 12.628578302559204
           },
           {
            "line": {
             "color": "black",
             "width": 3
            },
            "type": "line",
            "x0": 4.135958451343554,
            "x1": 4.291674617230949,
            "y0": 11.07388992684635,
            "y1": 11.199398793789406
           },
           {
            "line": {
             "color": "white",
             "width": 3
            },
            "type": "line",
            "x0": 7.847614041988168,
            "x1": 8.047089585092769,
            "y0": 12.214251068804272,
            "y1": 12.228725449727976
           },
           {
            "line": {
             "color": "black",
             "width": 3
            },
            "type": "line",
            "x0": 7.185547813505056,
            "x1": 7.383332905321643,
            "y0": 12.869662776858364,
            "y1": 12.899345388857721
           },
           {
            "line": {
             "color": "white",
             "width": 3
            },
            "type": "line",
            "x0": 8.830052493368918,
            "x1": 9.013048925470622,
            "y0": 12.515423916563464,
            "y1": 12.434725057599746
           },
           {
            "line": {
             "color": "black",
             "width": 3
            },
            "type": "line",
            "x0": 8.928050261040038,
            "x1": 8.738688753633632,
            "y0": 13.050997680705326,
            "y1": 13.11535775771564
           },
           {
            "line": {
             "color": "white",
             "width": 3
            },
            "type": "line",
            "x0": 5.417659728991401,
            "x1": 5.617006326289032,
            "y0": 11.94150937828201,
            "y1": 11.957662834440242
           },
           {
            "line": {
             "color": "black",
             "width": 3
            },
            "type": "line",
            "x0": 8.091653530931127,
            "x1": 8.280651040666314,
            "y0": 12.830169615818042,
            "y1": 12.895590876230068
           },
           {
            "line": {
             "color": "white",
             "width": 3
            },
            "type": "line",
            "x0": 4.648010141817686,
            "x1": 4.758629136167421,
            "y0": 11.727801197881654,
            "y1": 11.894424839928794
           }
          ],
          "title": {
           "text": "<b>Percentage using the shortest path: 0%  |  Number of Agents: 10</b>",
           "x": 0.5
          }
         },
         "name": "500"
        },
        {
         "data": [
          {
           "hoverinfo": "name",
           "line": {
            "color": "white"
           },
           "mode": "lines",
           "name": "Exterior",
           "showlegend": false,
           "x": [
            10.1,
            10.1,
            15.0,
            15.0,
            13.6,
            13.6,
            15.0,
            15.0,
            13.6,
            13.6,
            15.0,
            15.0,
            10.1,
            10.1,
            9.9,
            9.9,
            5.1,
            5.1,
            4.9,
            4.9,
            0.0,
            0.0,
            1.5,
            1.5,
            0.0,
            0.0,
            1.5,
            1.5,
            0.0,
            0.0,
            4.9,
            4.9,
            5.1,
            5.1,
            9.9,
            9.9,
            10.1
           ],
           "y": [
            1.5,
            0.0,
            0.0,
            4.9,
            4.9,
            5.1,
            5.1,
            9.9,
            9.9,
            10.1,
            10.1,
            15.0,
            15.0,
            13.6,
            13.6,
            15.0,
            15.0,
            13.6,
            13.6,
            15.0,
            15.0,
            10.1,
            10.1,
            9.9,
            9.9,
            5.1,
            5.1,
            4.9,
            4.9,
            0.0,
            0.0,
            1.5,
            1.5,
            0.0,
            0.0,
            1.5,
            1.5
           ],
           "type": "scatter"
          },
          {
           "hoverinfo": "name",
           "line": {
            "color": "white"
           },
           "mode": "lines",
           "name": "Obstacle",
           "showlegend": false,
           "x": [
            10.1,
            11.5,
            11.5,
            10.1,
            10.1,
            9.9,
            9.9,
            8.6,
            8.6,
            9.9,
            9.9,
            10.1,
            10.1
           ],
           "y": [
            5.1,
            5.1,
            4.9,
            4.9,
            3.6,
            3.6,
            4.9,
            4.9,
            5.1,
            5.1,
            6.5,
            6.5,
            5.1
           ],
           "type": "scatter"
          },
          {
           "hoverinfo": "name",
           "line": {
            "color": "white"
           },
           "mode": "lines",
           "name": "Obstacle",
           "showlegend": false,
           "x": [
            10.1,
            11.5,
            11.5,
            10.1,
            10.1,
            9.9,
            9.9,
            8.6,
            8.6,
            9.9,
            9.9,
            10.1,
            10.1
           ],
           "y": [
            10.1,
            10.1,
            9.9,
            9.9,
            8.6,
            8.6,
            9.9,
            9.9,
            10.1,
            10.1,
            11.5,
            11.5,
            10.1
           ],
           "type": "scatter"
          },
          {
           "hoverinfo": "name",
           "line": {
            "color": "white"
           },
           "mode": "lines",
           "name": "Obstacle",
           "showlegend": false,
           "x": [
            5.1,
            6.4,
            6.4,
            5.1,
            5.1,
            4.9,
            4.9,
            3.6,
            3.6,
            4.9,
            4.9,
            5.1,
            5.1
           ],
           "y": [
            5.1,
            5.1,
            4.9,
            4.9,
            3.6,
            3.6,
            4.9,
            4.9,
            5.1,
            5.1,
            6.5,
            6.5,
            5.1
           ],
           "type": "scatter"
          },
          {
           "hoverinfo": "name",
           "line": {
            "color": "white"
           },
           "mode": "lines",
           "name": "Obstacle",
           "showlegend": false,
           "x": [
            5.1,
            6.4,
            6.4,
            5.1,
            5.1,
            4.9,
            4.9,
            3.6,
            3.6,
            4.9,
            4.9,
            5.1,
            5.1
           ],
           "y": [
            10.1,
            10.1,
            9.9,
            9.9,
            8.6,
            8.6,
            9.9,
            9.9,
            10.1,
            10.1,
            11.5,
            11.5,
            10.1
           ],
           "type": "scatter"
          },
          {
           "fill": "toself",
           "fillcolor": "rgb(25, 0, 0)",
           "hoverinfo": "name",
           "line": {
            "width": 0
           },
           "mode": "lines",
           "name": "Risk Area",
           "showlegend": false,
           "x": [
            1.5,
            1.5,
            3.6,
            3.6,
            4.9,
            4.9,
            5.0,
            5.0,
            4.9,
            4.9,
            0.0,
            0.0,
            1.5
           ],
           "y": [
            4.9,
            5.0,
            5.0,
            4.9,
            4.9,
            3.6,
            3.6,
            1.5,
            1.5,
            0.0,
            0.0,
            4.9,
            4.9
           ],
           "type": "scatter"
          },
          {
           "fill": "toself",
           "fillcolor": "rgb(153, 0, 0)",
           "hoverinfo": "name",
           "line": {
            "width": 0
           },
           "mode": "lines",
           "name": "Risk Area",
           "showlegend": false,
           "x": [
            9.9,
            9.9,
            5.1,
            5.1,
            5.0,
            5.0,
            5.1,
            5.1,
            6.4,
            6.4,
            8.6,
            8.6,
            9.9,
            9.9,
            10.0,
            10.0,
            9.9
           ],
           "y": [
            1.5,
            0.0,
            0.0,
            1.5,
            1.5,
            3.6,
            3.6,
            4.9,
            4.9,
            5.0,
            5.0,
            4.9,
            4.9,
            3.6,
            3.6,
            1.5,
            1.5
           ],
           "type": "scatter"
          },
          {
           "fill": "toself",
           "fillcolor": "rgb(0, 0, 0)",
           "hoverinfo": "name",
           "line": {
            "width": 0
           },
           "mode": "lines",
           "name": "Risk Area",
           "showlegend": false,
           "x": [
            13.6,
            15.0,
            15.0,
            10.1,
            10.1,
            10.0,
            10.0,
            10.1,
            10.1,
            11.5,
            11.5,
            13.6,
            13.6
           ],
           "y": [
            4.9,
            4.9,
            0.0,
            0.0,
            1.5,
            1.5,
            3.6,
            3.6,
            4.9,
            4.9,
            5.0,
            5.0,
            4.9
           ],
           "type": "scatter"
          },
          {
           "fill": "toself",
           "fillcolor": "rgb(153, 0, 0)",
           "hoverinfo": "name",
           "line": {
            "width": 0
           },
           "mode": "lines",
           "name": "Risk Area",
           "showlegend": false,
           "x": [
            13.6,
            15.0,
            15.0,
            13.6,
            13.6,
            11.5,
            11.5,
            10.1,
            10.1,
            10.0,
            10.0,
            10.1,
            10.1,
            11.5,
            11.5,
            13.6,
            13.6
           ],
           "y": [
            9.9,
            9.9,
            5.1,
            5.1,
            5.0,
            5.0,
            5.1,
            5.1,
            6.5,
            6.5,
            8.6,
            8.6,
            9.9,
            9.9,
            10.0,
            10.0,
            9.9
           ],
           "type": "scatter"
          },
          {
           "fill": "toself",
           "fillcolor": "rgb(204, 0, 0)",
           "hoverinfo": "name",
           "line": {
            "width": 0
           },
           "mode": "lines",
           "name": "Risk Area",
           "showlegend": false,
           "x": [
            9.9,
            9.9,
            8.6,
            8.6,
            6.4,
            6.4,
            5.1,
            5.1,
            5.0,
            5.0,
            5.1,
            5.1,
            6.4,
            6.4,
            8.6,
            8.6,
            9.9,
            9.9,
            10.0,
            10.0,
            9.9
           ],
           "y": [
            6.5,
            5.1,
            5.1,
            5.0,
            5.0,
            5.1,
            5.1,
            6.5,
            6.5,
            8.6,
            8.6,
            9.9,
            9.9,
            10.0,
            10.0,
            9.9,
            9.9,
            8.6,
            8.6,
            6.5,
            6.5
           ],
           "type": "scatter"
          },
          {
           "fill": "toself",
           "fillcolor": "rgb(25, 0, 0)",
           "hoverinfo": "name",
           "line": {
            "width": 0
           },
           "mode": "lines",
           "name": "Risk Area",
           "showlegend": false,
           "x": [
            4.9,
            4.9,
            3.6,
            3.6,
            1.5,
            1.5,
            0.0,
            0.0,
            1.5,
            1.5,
            3.6,
            3.6,
            4.9,
            4.9,
            5.0,
            5.0,
            4.9
           ],
           "y": [
            6.5,
            5.1,
            5.1,
            5.0,
            5.0,
            5.1,
            5.1,
            9.9,
            9.9,
            10.0,
            10.0,
            9.9,
            9.9,
            8.6,
            8.6,
            6.5,
            6.5
           ],
           "type": "scatter"
          },
          {
           "fill": "toself",
           "fillcolor": "rgb(51, 0, 0)",
           "hoverinfo": "name",
           "line": {
            "width": 0
           },
           "mode": "lines",
           "name": "Risk Area",
           "showlegend": false,
           "x": [
            1.5,
            0.0,
            0.0,
            4.9,
            4.9,
            5.0,
            5.0,
            4.9,
            4.9,
            3.6,
            3.6,
            1.5,
            1.5
           ],
           "y": [
            10.1,
            10.1,
            15.0,
            15.0,
            13.6,
            13.6,
            11.5,
            11.5,
            10.1,
            10.1,
            10.0,
            10.0,
            10.1
           ],
           "type": "scatter"
          },
          {
           "fill": "toself",
           "fillcolor": "rgb(102, 0, 0)",
           "hoverinfo": "name",
           "line": {
            "width": 0
           },
           "mode": "lines",
           "name": "Risk Area",
           "showlegend": false,
           "x": [
            6.4,
            5.1,
            5.1,
            5.0,
            5.0,
            5.1,
            5.1,
            9.9,
            9.9,
            10.0,
            10.0,
            9.9,
            9.9,
            8.6,
            8.6,
            6.4,
            6.4
           ],
           "y": [
            10.1,
            10.1,
            11.5,
            11.5,
            13.6,
            13.6,
            15.0,
            15.0,
            13.6,
            13.6,
            11.5,
            11.5,
            10.1,
            10.1,
            10.0,
            10.0,
            10.1
           ],
           "type": "scatter"
          },
          {
           "fill": "toself",
           "fillcolor": "rgb(25, 0, 0)",
           "hoverinfo": "name",
           "line": {
            "width": 0
           },
           "mode": "lines",
           "name": "Risk Area",
           "showlegend": false,
           "x": [
            10.1,
            10.1,
            15.0,
            15.0,
            13.6,
            13.6,
            11.5,
            11.5,
            10.1,
            10.1,
            10.0,
            10.0,
            10.1
           ],
           "y": [
            13.6,
            15.0,
            15.0,
            10.1,
            10.1,
            10.0,
            10.0,
            10.1,
            10.1,
            11.5,
            11.5,
            13.6,
            13.6
           ],
           "type": "scatter"
          },
          {
           "hoverinfo": "text",
           "marker": {
            "opacity": 1,
            "size": 1
           },
           "mode": "markers",
           "showlegend": false,
           "text": [
            "ID: 11, Pos(7.40,12.57)"
           ],
           "x": [
            7.400119748848894
           ],
           "y": [
            12.570177793556136
           ],
           "type": "scatter"
          },
          {
           "hoverinfo": "text",
           "marker": {
            "opacity": 1,
            "size": 1
           },
           "mode": "markers",
           "showlegend": false,
           "text": [
            "ID: 12, Pos(6.66,12.84)"
           ],
           "x": [
            6.663098343295723
           ],
           "y": [
            12.839359513466675
           ],
           "type": "scatter"
          },
          {
           "hoverinfo": "text",
           "marker": {
            "opacity": 1,
            "size": 1
           },
           "mode": "markers",
           "showlegend": false,
           "text": [
            "ID: 13, Pos(4.79,11.86)"
           ],
           "x": [
            4.793172246988508
           ],
           "y": [
            11.86120975229936
           ],
           "type": "scatter"
          },
          {
           "hoverinfo": "text",
           "marker": {
            "opacity": 1,
            "size": 1
           },
           "mode": "markers",
           "showlegend": false,
           "text": [
            "ID: 14, Pos(9.27,12.42)"
           ],
           "x": [
            9.265820610583434
           ],
           "y": [
            12.41815959914402
           ],
           "type": "scatter"
          },
          {
           "hoverinfo": "text",
           "marker": {
            "opacity": 1,
            "size": 1
           },
           "mode": "markers",
           "showlegend": false,
           "text": [
            "ID: 15, Pos(8.25,13.02)"
           ],
           "x": [
            8.250644951758572
           ],
           "y": [
            13.020757521112847
           ],
           "type": "scatter"
          },
          {
           "hoverinfo": "text",
           "marker": {
            "opacity": 1,
            "size": 1
           },
           "mode": "markers",
           "showlegend": false,
           "text": [
            "ID: 16, Pos(10.42,12.63)"
           ],
           "x": [
            10.417029432255017
           ],
           "y": [
            12.62519171338706
           ],
           "type": "scatter"
          },
          {
           "hoverinfo": "text",
           "marker": {
            "opacity": 1,
            "size": 1
           },
           "mode": "markers",
           "showlegend": false,
           "text": [
            "ID: 17, Pos(10.40,13.28)"
           ],
           "x": [
            10.395995052362288
           ],
           "y": [
            13.2759808680202
           ],
           "type": "scatter"
          },
          {
           "hoverinfo": "text",
           "marker": {
            "opacity": 1,
            "size": 1
           },
           "mode": "markers",
           "showlegend": false,
           "text": [
            "ID: 18, Pos(6.63,12.07)"
           ],
           "x": [
            6.629968347450622
           ],
           "y": [
            12.071550421042271
           ],
           "type": "scatter"
          },
          {
           "hoverinfo": "text",
           "marker": {
            "opacity": 1,
            "size": 1
           },
           "mode": "markers",
           "showlegend": false,
           "text": [
            "ID: 19, Pos(9.27,13.15)"
           ],
           "x": [
            9.271938176484129
           ],
           "y": [
            13.149594951836956
           ],
           "type": "scatter"
          },
          {
           "hoverinfo": "text",
           "marker": {
            "opacity": 1,
            "size": 1
           },
           "mode": "markers",
           "showlegend": false,
           "text": [
            "ID: 20, Pos(5.65,12.11)"
           ],
           "x": [
            5.650148874476822
           ],
           "y": [
            12.109210910870312
           ],
           "type": "scatter"
          }
         ],
         "layout": {
          "shapes": [
           {
            "fillcolor": "rgba(0, 176, 255, 0.5)",
            "line": {
             "color": "rgba(0, 176, 255, 0.5)"
            },
            "type": "circle",
            "x0": 7.200119748848894,
            "x1": 7.600119748848894,
            "xref": "x",
            "y0": 12.370177793556136,
            "y1": 12.770177793556135,
            "yref": "y"
           },
           {
            "fillcolor": "rgba(0, 0, 128, 0.5)",
            "line": {
             "color": "rgba(0, 0, 128, 0.5)"
            },
            "type": "circle",
            "x0": 6.463098343295723,
            "x1": 6.863098343295723,
            "xref": "x",
            "y0": 12.639359513466676,
            "y1": 13.039359513466675,
            "yref": "y"
           },
           {
            "fillcolor": "rgba(35, 255, 212, 0.5)",
            "line": {
             "color": "rgba(35, 255, 212, 0.5)"
            },
            "type": "circle",
            "x0": 4.593172246988508,
            "x1": 4.993172246988508,
            "xref": "x",
            "y0": 11.66120975229936,
            "y1": 12.061209752299359,
            "yref": "y"
           },
           {
            "fillcolor": "rgba(0, 0, 168, 0.5)",
            "line": {
             "color": "rgba(0, 0, 168, 0.5)"
            },
            "type": "circle",
            "x0": 9.065820610583435,
            "x1": 9.465820610583433,
            "xref": "x",
            "y0": 12.218159599144021,
            "y1": 12.61815959914402,
            "yref": "y"
           },
           {
            "fillcolor": "rgba(0, 93, 255, 0.5)",
            "line": {
             "color": "rgba(0, 93, 255, 0.5)"
            },
            "type": "circle",
            "x0": 8.050644951758573,
            "x1": 8.450644951758571,
            "xref": "x",
            "y0": 12.820757521112847,
            "y1": 13.220757521112846,
            "yref": "y"
           },
           {
            "fillcolor": "rgba(0, 0, 128, 0.5)",
            "line": {
             "color": "rgba(0, 0, 128, 0.5)"
            },
            "type": "circle",
            "x0": 10.217029432255018,
            "x1": 10.617029432255016,
            "xref": "x",
            "y0": 12.425191713387061,
            "y1": 12.82519171338706,
            "yref": "y"
           },
           {
            "fillcolor": "rgba(0, 0, 128, 0.5)",
            "line": {
             "color": "rgba(0, 0, 128, 0.5)"
            },
            "type": "circle",
            "x0": 10.195995052362289,
            "x1": 10.595995052362287,
            "xref": "x",
            "y0": 13.075980868020201,
            "y1": 13.4759808680202,
            "yref": "y"
           },
           {
            "fillcolor": "rgba(2, 232, 244, 0.5)",
            "line": {
             "color": "rgba(2, 232, 244, 0.5)"
            },
            "type": "circle",
            "x0": 6.429968347450622,
            "x1": 6.829968347450622,
            "xref": "x",
            "y0": 11.871550421042272,
            "y1": 12.27155042104227,
            "yref": "y"
           },
           {
            "fillcolor": "rgba(0, 0, 228, 0.5)",
            "line": {
             "color": "rgba(0, 0, 228, 0.5)"
            },
            "type": "circle",
            "x0": 9.07193817648413,
            "x1": 9.471938176484128,
            "xref": "x",
            "y0": 12.949594951836957,
            "y1": 13.349594951836956,
            "yref": "y"
           },
           {
            "fillcolor": "rgba(0, 152, 255, 0.5)",
            "line": {
             "color": "rgba(0, 152, 255, 0.5)"
            },
            "type": "circle",
            "x0": 5.450148874476822,
            "x1": 5.850148874476822,
            "xref": "x",
            "y0": 11.909210910870312,
            "y1": 12.309210910870311,
            "yref": "y"
           },
           {
            "line": {
             "color": "black",
             "width": 3
            },
            "type": "line",
            "x0": 7.400119748848894,
            "x1": 7.597562963766322,
            "y0": 12.570177793556136,
            "y1": 12.602055322994136
           },
           {
            "line": {
             "color": "white",
             "width": 3
            },
            "type": "line",
            "x0": 6.663098343295723,
            "x1": 6.85821901532421,
            "y0": 12.839359513466675,
            "y1": 12.883267637397807
           },
           {
            "line": {
             "color": "black",
             "width": 3
            },
            "type": "line",
            "x0": 4.793172246988508,
            "x1": 4.9633511073372105,
            "y0": 11.86120975229936,
            "y1": 11.966277137773716
           },
           {
            "line": {
             "color": "white",
             "width": 3
            },
            "type": "line",
            "x0": 9.265820610583434,
            "x1": 9.462029863764123,
            "y0": 12.41815959914402,
            "y1": 12.456914327452658
           },
           {
            "line": {
             "color": "white",
             "width": 3
            },
            "type": "line",
            "x0": 8.250644951758572,
            "x1": 8.448803393918656,
            "y0": 13.020757521112847,
            "y1": 13.047835774392707
           },
           {
            "line": {
             "color": "white",
             "width": 3
            },
            "type": "line",
            "x0": 10.417029432255017,
            "x1": 10.615816405092984,
            "y0": 12.62519171338706,
            "y1": 12.647185790542453
           },
           {
            "line": {
             "color": "white",
             "width": 3
            },
            "type": "line",
            "x0": 10.395995052362288,
            "x1": 10.588969882672163,
            "y0": 13.2759808680202,
            "y1": 13.328523373355164
           },
           {
            "line": {
             "color": "black",
             "width": 3
            },
            "type": "line",
            "x0": 6.629968347450622,
            "x1": 6.82743656353369,
            "y0": 12.071550421042271,
            "y1": 12.103272710319223
           },
           {
            "line": {
             "color": "white",
             "width": 3
            },
            "type": "line",
            "x0": 9.271938176484129,
            "x1": 9.466871129611608,
            "y0": 13.149594951836956,
            "y1": 13.19432909746421
           },
           {
            "line": {
             "color": "white",
             "width": 3
            },
            "type": "line",
            "x0": 5.650148874476822,
            "x1": 5.845700096050293,
            "y0": 12.109210910870312,
            "y1": 12.151159924459709
           }
          ],
          "title": {
           "text": "<b>Percentage using the shortest path: 0%  |  Number of Agents: 10</b>",
           "x": 0.5
          }
         },
         "name": "550"
        },
        {
         "data": [
          {
           "hoverinfo": "name",
           "line": {
            "color": "white"
           },
           "mode": "lines",
           "name": "Exterior",
           "showlegend": false,
           "x": [
            10.1,
            10.1,
            15.0,
            15.0,
            13.6,
            13.6,
            15.0,
            15.0,
            13.6,
            13.6,
            15.0,
            15.0,
            10.1,
            10.1,
            9.9,
            9.9,
            5.1,
            5.1,
            4.9,
            4.9,
            0.0,
            0.0,
            1.5,
            1.5,
            0.0,
            0.0,
            1.5,
            1.5,
            0.0,
            0.0,
            4.9,
            4.9,
            5.1,
            5.1,
            9.9,
            9.9,
            10.1
           ],
           "y": [
            1.5,
            0.0,
            0.0,
            4.9,
            4.9,
            5.1,
            5.1,
            9.9,
            9.9,
            10.1,
            10.1,
            15.0,
            15.0,
            13.6,
            13.6,
            15.0,
            15.0,
            13.6,
            13.6,
            15.0,
            15.0,
            10.1,
            10.1,
            9.9,
            9.9,
            5.1,
            5.1,
            4.9,
            4.9,
            0.0,
            0.0,
            1.5,
            1.5,
            0.0,
            0.0,
            1.5,
            1.5
           ],
           "type": "scatter"
          },
          {
           "hoverinfo": "name",
           "line": {
            "color": "white"
           },
           "mode": "lines",
           "name": "Obstacle",
           "showlegend": false,
           "x": [
            10.1,
            11.5,
            11.5,
            10.1,
            10.1,
            9.9,
            9.9,
            8.6,
            8.6,
            9.9,
            9.9,
            10.1,
            10.1
           ],
           "y": [
            5.1,
            5.1,
            4.9,
            4.9,
            3.6,
            3.6,
            4.9,
            4.9,
            5.1,
            5.1,
            6.5,
            6.5,
            5.1
           ],
           "type": "scatter"
          },
          {
           "hoverinfo": "name",
           "line": {
            "color": "white"
           },
           "mode": "lines",
           "name": "Obstacle",
           "showlegend": false,
           "x": [
            10.1,
            11.5,
            11.5,
            10.1,
            10.1,
            9.9,
            9.9,
            8.6,
            8.6,
            9.9,
            9.9,
            10.1,
            10.1
           ],
           "y": [
            10.1,
            10.1,
            9.9,
            9.9,
            8.6,
            8.6,
            9.9,
            9.9,
            10.1,
            10.1,
            11.5,
            11.5,
            10.1
           ],
           "type": "scatter"
          },
          {
           "hoverinfo": "name",
           "line": {
            "color": "white"
           },
           "mode": "lines",
           "name": "Obstacle",
           "showlegend": false,
           "x": [
            5.1,
            6.4,
            6.4,
            5.1,
            5.1,
            4.9,
            4.9,
            3.6,
            3.6,
            4.9,
            4.9,
            5.1,
            5.1
           ],
           "y": [
            5.1,
            5.1,
            4.9,
            4.9,
            3.6,
            3.6,
            4.9,
            4.9,
            5.1,
            5.1,
            6.5,
            6.5,
            5.1
           ],
           "type": "scatter"
          },
          {
           "hoverinfo": "name",
           "line": {
            "color": "white"
           },
           "mode": "lines",
           "name": "Obstacle",
           "showlegend": false,
           "x": [
            5.1,
            6.4,
            6.4,
            5.1,
            5.1,
            4.9,
            4.9,
            3.6,
            3.6,
            4.9,
            4.9,
            5.1,
            5.1
           ],
           "y": [
            10.1,
            10.1,
            9.9,
            9.9,
            8.6,
            8.6,
            9.9,
            9.9,
            10.1,
            10.1,
            11.5,
            11.5,
            10.1
           ],
           "type": "scatter"
          },
          {
           "fill": "toself",
           "fillcolor": "rgb(25, 0, 0)",
           "hoverinfo": "name",
           "line": {
            "width": 0
           },
           "mode": "lines",
           "name": "Risk Area",
           "showlegend": false,
           "x": [
            1.5,
            1.5,
            3.6,
            3.6,
            4.9,
            4.9,
            5.0,
            5.0,
            4.9,
            4.9,
            0.0,
            0.0,
            1.5
           ],
           "y": [
            4.9,
            5.0,
            5.0,
            4.9,
            4.9,
            3.6,
            3.6,
            1.5,
            1.5,
            0.0,
            0.0,
            4.9,
            4.9
           ],
           "type": "scatter"
          },
          {
           "fill": "toself",
           "fillcolor": "rgb(153, 0, 0)",
           "hoverinfo": "name",
           "line": {
            "width": 0
           },
           "mode": "lines",
           "name": "Risk Area",
           "showlegend": false,
           "x": [
            9.9,
            9.9,
            5.1,
            5.1,
            5.0,
            5.0,
            5.1,
            5.1,
            6.4,
            6.4,
            8.6,
            8.6,
            9.9,
            9.9,
            10.0,
            10.0,
            9.9
           ],
           "y": [
            1.5,
            0.0,
            0.0,
            1.5,
            1.5,
            3.6,
            3.6,
            4.9,
            4.9,
            5.0,
            5.0,
            4.9,
            4.9,
            3.6,
            3.6,
            1.5,
            1.5
           ],
           "type": "scatter"
          },
          {
           "fill": "toself",
           "fillcolor": "rgb(0, 0, 0)",
           "hoverinfo": "name",
           "line": {
            "width": 0
           },
           "mode": "lines",
           "name": "Risk Area",
           "showlegend": false,
           "x": [
            13.6,
            15.0,
            15.0,
            10.1,
            10.1,
            10.0,
            10.0,
            10.1,
            10.1,
            11.5,
            11.5,
            13.6,
            13.6
           ],
           "y": [
            4.9,
            4.9,
            0.0,
            0.0,
            1.5,
            1.5,
            3.6,
            3.6,
            4.9,
            4.9,
            5.0,
            5.0,
            4.9
           ],
           "type": "scatter"
          },
          {
           "fill": "toself",
           "fillcolor": "rgb(153, 0, 0)",
           "hoverinfo": "name",
           "line": {
            "width": 0
           },
           "mode": "lines",
           "name": "Risk Area",
           "showlegend": false,
           "x": [
            13.6,
            15.0,
            15.0,
            13.6,
            13.6,
            11.5,
            11.5,
            10.1,
            10.1,
            10.0,
            10.0,
            10.1,
            10.1,
            11.5,
            11.5,
            13.6,
            13.6
           ],
           "y": [
            9.9,
            9.9,
            5.1,
            5.1,
            5.0,
            5.0,
            5.1,
            5.1,
            6.5,
            6.5,
            8.6,
            8.6,
            9.9,
            9.9,
            10.0,
            10.0,
            9.9
           ],
           "type": "scatter"
          },
          {
           "fill": "toself",
           "fillcolor": "rgb(204, 0, 0)",
           "hoverinfo": "name",
           "line": {
            "width": 0
           },
           "mode": "lines",
           "name": "Risk Area",
           "showlegend": false,
           "x": [
            9.9,
            9.9,
            8.6,
            8.6,
            6.4,
            6.4,
            5.1,
            5.1,
            5.0,
            5.0,
            5.1,
            5.1,
            6.4,
            6.4,
            8.6,
            8.6,
            9.9,
            9.9,
            10.0,
            10.0,
            9.9
           ],
           "y": [
            6.5,
            5.1,
            5.1,
            5.0,
            5.0,
            5.1,
            5.1,
            6.5,
            6.5,
            8.6,
            8.6,
            9.9,
            9.9,
            10.0,
            10.0,
            9.9,
            9.9,
            8.6,
            8.6,
            6.5,
            6.5
           ],
           "type": "scatter"
          },
          {
           "fill": "toself",
           "fillcolor": "rgb(51, 0, 0)",
           "hoverinfo": "name",
           "line": {
            "width": 0
           },
           "mode": "lines",
           "name": "Risk Area",
           "showlegend": false,
           "x": [
            4.9,
            4.9,
            3.6,
            3.6,
            1.5,
            1.5,
            0.0,
            0.0,
            1.5,
            1.5,
            3.6,
            3.6,
            4.9,
            4.9,
            5.0,
            5.0,
            4.9
           ],
           "y": [
            6.5,
            5.1,
            5.1,
            5.0,
            5.0,
            5.1,
            5.1,
            9.9,
            9.9,
            10.0,
            10.0,
            9.9,
            9.9,
            8.6,
            8.6,
            6.5,
            6.5
           ],
           "type": "scatter"
          },
          {
           "fill": "toself",
           "fillcolor": "rgb(51, 0, 0)",
           "hoverinfo": "name",
           "line": {
            "width": 0
           },
           "mode": "lines",
           "name": "Risk Area",
           "showlegend": false,
           "x": [
            1.5,
            0.0,
            0.0,
            4.9,
            4.9,
            5.0,
            5.0,
            4.9,
            4.9,
            3.6,
            3.6,
            1.5,
            1.5
           ],
           "y": [
            10.1,
            10.1,
            15.0,
            15.0,
            13.6,
            13.6,
            11.5,
            11.5,
            10.1,
            10.1,
            10.0,
            10.0,
            10.1
           ],
           "type": "scatter"
          },
          {
           "fill": "toself",
           "fillcolor": "rgb(153, 0, 0)",
           "hoverinfo": "name",
           "line": {
            "width": 0
           },
           "mode": "lines",
           "name": "Risk Area",
           "showlegend": false,
           "x": [
            6.4,
            5.1,
            5.1,
            5.0,
            5.0,
            5.1,
            5.1,
            9.9,
            9.9,
            10.0,
            10.0,
            9.9,
            9.9,
            8.6,
            8.6,
            6.4,
            6.4
           ],
           "y": [
            10.1,
            10.1,
            11.5,
            11.5,
            13.6,
            13.6,
            15.0,
            15.0,
            13.6,
            13.6,
            11.5,
            11.5,
            10.1,
            10.1,
            10.0,
            10.0,
            10.1
           ],
           "type": "scatter"
          },
          {
           "fill": "toself",
           "fillcolor": "rgb(51, 0, 0)",
           "hoverinfo": "name",
           "line": {
            "width": 0
           },
           "mode": "lines",
           "name": "Risk Area",
           "showlegend": false,
           "x": [
            10.1,
            10.1,
            15.0,
            15.0,
            13.6,
            13.6,
            11.5,
            11.5,
            10.1,
            10.1,
            10.0,
            10.0,
            10.1
           ],
           "y": [
            13.6,
            15.0,
            15.0,
            10.1,
            10.1,
            10.0,
            10.0,
            10.1,
            10.1,
            11.5,
            11.5,
            13.6,
            13.6
           ],
           "type": "scatter"
          },
          {
           "hoverinfo": "text",
           "marker": {
            "opacity": 1,
            "size": 1
           },
           "mode": "markers",
           "showlegend": false,
           "text": [
            "ID: 11, Pos(8.70,12.71)"
           ],
           "x": [
            8.704961007945586
           ],
           "y": [
            12.707221362017558
           ],
           "type": "scatter"
          },
          {
           "hoverinfo": "text",
           "marker": {
            "opacity": 1,
            "size": 1
           },
           "mode": "markers",
           "showlegend": false,
           "text": [
            "ID: 12, Pos(8.22,13.21)"
           ],
           "x": [
            8.218923390477215
           ],
           "y": [
            13.211868024434885
           ],
           "type": "scatter"
          },
          {
           "hoverinfo": "text",
           "marker": {
            "opacity": 1,
            "size": 1
           },
           "mode": "markers",
           "showlegend": false,
           "text": [
            "ID: 13, Pos(5.82,12.14)"
           ],
           "x": [
            5.820964694775861
           ],
           "y": [
            12.138511211260155
           ],
           "type": "scatter"
          },
          {
           "hoverinfo": "text",
           "marker": {
            "opacity": 1,
            "size": 1
           },
           "mode": "markers",
           "showlegend": false,
           "text": [
            "ID: 14, Pos(10.82,12.68)"
           ],
           "x": [
            10.817220149582125
           ],
           "y": [
            12.67978385636386
           ],
           "type": "scatter"
          },
          {
           "hoverinfo": "text",
           "marker": {
            "opacity": 1,
            "size": 1
           },
           "mode": "markers",
           "showlegend": false,
           "text": [
            "ID: 15, Pos(9.64,13.21)"
           ],
           "x": [
            9.644886189887227
           ],
           "y": [
            13.205983830926272
           ],
           "type": "scatter"
          },
          {
           "hoverinfo": "text",
           "marker": {
            "opacity": 1,
            "size": 1
           },
           "mode": "markers",
           "showlegend": false,
           "text": [
            "ID: 16, Pos(11.98,12.98)"
           ],
           "x": [
            11.976896423653836
           ],
           "y": [
            12.976942848292115
           ],
           "type": "scatter"
          },
          {
           "hoverinfo": "text",
           "marker": {
            "opacity": 1,
            "size": 1
           },
           "mode": "markers",
           "showlegend": false,
           "text": [
            "ID: 17, Pos(11.95,13.66)"
           ],
           "x": [
            11.949848598711716
           ],
           "y": [
            13.655420573296663
           ],
           "type": "scatter"
          },
          {
           "hoverinfo": "text",
           "marker": {
            "opacity": 1,
            "size": 1
           },
           "mode": "markers",
           "showlegend": false,
           "text": [
            "ID: 18, Pos(7.74,12.31)"
           ],
           "x": [
            7.744351588850419
           ],
           "y": [
            12.307127048352413
           ],
           "type": "scatter"
          },
          {
           "hoverinfo": "text",
           "marker": {
            "opacity": 1,
            "size": 1
           },
           "mode": "markers",
           "showlegend": false,
           "text": [
            "ID: 19, Pos(10.79,13.38)"
           ],
           "x": [
            10.788397904261505
           ],
           "y": [
            13.37572839314523
           ],
           "type": "scatter"
          },
          {
           "hoverinfo": "text",
           "marker": {
            "opacity": 1,
            "size": 1
           },
           "mode": "markers",
           "showlegend": false,
           "text": [
            "ID: 20, Pos(6.76,12.34)"
           ],
           "x": [
            6.757767941422602
           ],
           "y": [
            12.339206280279528
           ],
           "type": "scatter"
          }
         ],
         "layout": {
          "shapes": [
           {
            "fillcolor": "rgba(0, 8, 255, 0.5)",
            "line": {
             "color": "rgba(0, 8, 255, 0.5)"
            },
            "type": "circle",
            "x0": 8.504961007945587,
            "x1": 8.904961007945586,
            "xref": "x",
            "y0": 12.507221362017559,
            "y1": 12.907221362017557,
            "yref": "y"
           },
           {
            "fillcolor": "rgba(0, 0, 128, 0.5)",
            "line": {
             "color": "rgba(0, 0, 128, 0.5)"
            },
            "type": "circle",
            "x0": 8.018923390477216,
            "x1": 8.418923390477214,
            "xref": "x",
            "y0": 13.011868024434886,
            "y1": 13.411868024434884,
            "yref": "y"
           },
           {
            "fillcolor": "rgba(0, 180, 255, 0.5)",
            "line": {
             "color": "rgba(0, 180, 255, 0.5)"
            },
            "type": "circle",
            "x0": 5.620964694775861,
            "x1": 6.020964694775861,
            "xref": "x",
            "y0": 11.938511211260156,
            "y1": 12.338511211260155,
            "yref": "y"
           },
           {
            "fillcolor": "rgba(0, 0, 128, 0.5)",
            "line": {
             "color": "rgba(0, 0, 128, 0.5)"
            },
            "type": "circle",
            "x0": 10.617220149582126,
            "x1": 11.017220149582124,
            "xref": "x",
            "y0": 12.479783856363861,
            "y1": 12.87978385636386,
            "yref": "y"
           },
           {
            "fillcolor": "rgba(0, 0, 191, 0.5)",
            "line": {
             "color": "rgba(0, 0, 191, 0.5)"
            },
            "type": "circle",
            "x0": 9.444886189887228,
            "x1": 9.844886189887227,
            "xref": "x",
            "y0": 13.005983830926272,
            "y1": 13.40598383092627,
            "yref": "y"
           },
           {
            "fillcolor": "rgba(0, 0, 128, 0.5)",
            "line": {
             "color": "rgba(0, 0, 128, 0.5)"
            },
            "type": "circle",
            "x0": 11.776896423653836,
            "x1": 12.176896423653835,
            "xref": "x",
            "y0": 12.776942848292116,
            "y1": 13.176942848292114,
            "yref": "y"
           },
           {
            "fillcolor": "rgba(0, 0, 128, 0.5)",
            "line": {
             "color": "rgba(0, 0, 128, 0.5)"
            },
            "type": "circle",
            "x0": 11.749848598711717,
            "x1": 12.149848598711715,
            "xref": "x",
            "y0": 13.455420573296664,
            "y1": 13.855420573296662,
            "yref": "y"
           },
           {
            "fillcolor": "rgba(0, 77, 255, 0.5)",
            "line": {
             "color": "rgba(0, 77, 255, 0.5)"
            },
            "type": "circle",
            "x0": 7.544351588850419,
            "x1": 7.944351588850419,
            "xref": "x",
            "y0": 12.107127048352414,
            "y1": 12.507127048352412,
            "yref": "y"
           },
           {
            "fillcolor": "rgba(0, 0, 132, 0.5)",
            "line": {
             "color": "rgba(0, 0, 132, 0.5)"
            },
            "type": "circle",
            "x0": 10.588397904261505,
            "x1": 10.988397904261504,
            "xref": "x",
            "y0": 13.175728393145231,
            "y1": 13.57572839314523,
            "yref": "y"
           },
           {
            "fillcolor": "rgba(0, 144, 255, 0.5)",
            "line": {
             "color": "rgba(0, 144, 255, 0.5)"
            },
            "type": "circle",
            "x0": 6.557767941422602,
            "x1": 6.957767941422603,
            "xref": "x",
            "y0": 12.139206280279529,
            "y1": 12.539206280279528,
            "yref": "y"
           },
           {
            "line": {
             "color": "white",
             "width": 3
            },
            "type": "line",
            "x0": 8.704961007945586,
            "x1": 8.903911114781772,
            "y0": 12.707221362017558,
            "y1": 12.72768730909728
           },
           {
            "line": {
             "color": "white",
             "width": 3
            },
            "type": "line",
            "x0": 8.218923390477215,
            "x1": 8.414514172251897,
            "y0": 13.211868024434885,
            "y1": 13.253632196697348
           },
           {
            "line": {
             "color": "black",
             "width": 3
            },
            "type": "line",
            "x0": 5.820964694775861,
            "x1": 6.016484180120452,
            "y0": 12.138511211260155,
            "y1": 12.180607895815903
           },
           {
            "line": {
             "color": "white",
             "width": 3
            },
            "type": "line",
            "x0": 10.817220149582125,
            "x1": 11.01255002682407,
            "y0": 12.67978385636386,
            "y1": 12.722751740377934
           },
           {
            "line": {
             "color": "white",
             "width": 3
            },
            "type": "line",
            "x0": 9.644886189887227,
            "x1": 9.843883873406716,
            "y0": 13.205983830926272,
            "y1": 13.22598187967803
           },
           {
            "line": {
             "color": "white",
             "width": 3
            },
            "type": "line",
            "x0": 11.976896423653836,
            "x1": 12.170474951544898,
            "y0": 12.976942848292115,
            "y1": 13.027215639536777
           },
           {
            "line": {
             "color": "white",
             "width": 3
            },
            "type": "line",
            "x0": 11.949848598711716,
            "x1": 12.145425752147041,
            "y0": 13.655420573296663,
            "y1": 13.697248519147918
           },
           {
            "line": {
             "color": "white",
             "width": 3
            },
            "type": "line",
            "x0": 7.744351588850419,
            "x1": 7.93912180064025,
            "y0": 12.307127048352413,
            "y1": 12.35256452846899
           },
           {
            "line": {
             "color": "white",
             "width": 3
            },
            "type": "line",
            "x0": 10.788397904261505,
            "x1": 10.98179365538387,
            "y0": 13.37572839314523,
            "y1": 13.426699791476219
           },
           {
            "line": {
             "color": "white",
             "width": 3
            },
            "type": "line",
            "x0": 6.757767941422602,
            "x1": 6.953745458010552,
            "y0": 12.339206280279528,
            "y1": 12.37911634156763
           }
          ],
          "title": {
           "text": "<b>Percentage using the shortest path: 0%  |  Number of Agents: 10</b>",
           "x": 0.5
          }
         },
         "name": "600"
        },
        {
         "data": [
          {
           "hoverinfo": "name",
           "line": {
            "color": "white"
           },
           "mode": "lines",
           "name": "Exterior",
           "showlegend": false,
           "x": [
            10.1,
            10.1,
            15.0,
            15.0,
            13.6,
            13.6,
            15.0,
            15.0,
            13.6,
            13.6,
            15.0,
            15.0,
            10.1,
            10.1,
            9.9,
            9.9,
            5.1,
            5.1,
            4.9,
            4.9,
            0.0,
            0.0,
            1.5,
            1.5,
            0.0,
            0.0,
            1.5,
            1.5,
            0.0,
            0.0,
            4.9,
            4.9,
            5.1,
            5.1,
            9.9,
            9.9,
            10.1
           ],
           "y": [
            1.5,
            0.0,
            0.0,
            4.9,
            4.9,
            5.1,
            5.1,
            9.9,
            9.9,
            10.1,
            10.1,
            15.0,
            15.0,
            13.6,
            13.6,
            15.0,
            15.0,
            13.6,
            13.6,
            15.0,
            15.0,
            10.1,
            10.1,
            9.9,
            9.9,
            5.1,
            5.1,
            4.9,
            4.9,
            0.0,
            0.0,
            1.5,
            1.5,
            0.0,
            0.0,
            1.5,
            1.5
           ],
           "type": "scatter"
          },
          {
           "hoverinfo": "name",
           "line": {
            "color": "white"
           },
           "mode": "lines",
           "name": "Obstacle",
           "showlegend": false,
           "x": [
            10.1,
            11.5,
            11.5,
            10.1,
            10.1,
            9.9,
            9.9,
            8.6,
            8.6,
            9.9,
            9.9,
            10.1,
            10.1
           ],
           "y": [
            5.1,
            5.1,
            4.9,
            4.9,
            3.6,
            3.6,
            4.9,
            4.9,
            5.1,
            5.1,
            6.5,
            6.5,
            5.1
           ],
           "type": "scatter"
          },
          {
           "hoverinfo": "name",
           "line": {
            "color": "white"
           },
           "mode": "lines",
           "name": "Obstacle",
           "showlegend": false,
           "x": [
            10.1,
            11.5,
            11.5,
            10.1,
            10.1,
            9.9,
            9.9,
            8.6,
            8.6,
            9.9,
            9.9,
            10.1,
            10.1
           ],
           "y": [
            10.1,
            10.1,
            9.9,
            9.9,
            8.6,
            8.6,
            9.9,
            9.9,
            10.1,
            10.1,
            11.5,
            11.5,
            10.1
           ],
           "type": "scatter"
          },
          {
           "hoverinfo": "name",
           "line": {
            "color": "white"
           },
           "mode": "lines",
           "name": "Obstacle",
           "showlegend": false,
           "x": [
            5.1,
            6.4,
            6.4,
            5.1,
            5.1,
            4.9,
            4.9,
            3.6,
            3.6,
            4.9,
            4.9,
            5.1,
            5.1
           ],
           "y": [
            5.1,
            5.1,
            4.9,
            4.9,
            3.6,
            3.6,
            4.9,
            4.9,
            5.1,
            5.1,
            6.5,
            6.5,
            5.1
           ],
           "type": "scatter"
          },
          {
           "hoverinfo": "name",
           "line": {
            "color": "white"
           },
           "mode": "lines",
           "name": "Obstacle",
           "showlegend": false,
           "x": [
            5.1,
            6.4,
            6.4,
            5.1,
            5.1,
            4.9,
            4.9,
            3.6,
            3.6,
            4.9,
            4.9,
            5.1,
            5.1
           ],
           "y": [
            10.1,
            10.1,
            9.9,
            9.9,
            8.6,
            8.6,
            9.9,
            9.9,
            10.1,
            10.1,
            11.5,
            11.5,
            10.1
           ],
           "type": "scatter"
          },
          {
           "fill": "toself",
           "fillcolor": "rgb(76, 0, 0)",
           "hoverinfo": "name",
           "line": {
            "width": 0
           },
           "mode": "lines",
           "name": "Risk Area",
           "showlegend": false,
           "x": [
            1.5,
            1.5,
            3.6,
            3.6,
            4.9,
            4.9,
            5.0,
            5.0,
            4.9,
            4.9,
            0.0,
            0.0,
            1.5
           ],
           "y": [
            4.9,
            5.0,
            5.0,
            4.9,
            4.9,
            3.6,
            3.6,
            1.5,
            1.5,
            0.0,
            0.0,
            4.9,
            4.9
           ],
           "type": "scatter"
          },
          {
           "fill": "toself",
           "fillcolor": "rgb(153, 0, 0)",
           "hoverinfo": "name",
           "line": {
            "width": 0
           },
           "mode": "lines",
           "name": "Risk Area",
           "showlegend": false,
           "x": [
            9.9,
            9.9,
            5.1,
            5.1,
            5.0,
            5.0,
            5.1,
            5.1,
            6.4,
            6.4,
            8.6,
            8.6,
            9.9,
            9.9,
            10.0,
            10.0,
            9.9
           ],
           "y": [
            1.5,
            0.0,
            0.0,
            1.5,
            1.5,
            3.6,
            3.6,
            4.9,
            4.9,
            5.0,
            5.0,
            4.9,
            4.9,
            3.6,
            3.6,
            1.5,
            1.5
           ],
           "type": "scatter"
          },
          {
           "fill": "toself",
           "fillcolor": "rgb(0, 0, 0)",
           "hoverinfo": "name",
           "line": {
            "width": 0
           },
           "mode": "lines",
           "name": "Risk Area",
           "showlegend": false,
           "x": [
            13.6,
            15.0,
            15.0,
            10.1,
            10.1,
            10.0,
            10.0,
            10.1,
            10.1,
            11.5,
            11.5,
            13.6,
            13.6
           ],
           "y": [
            4.9,
            4.9,
            0.0,
            0.0,
            1.5,
            1.5,
            3.6,
            3.6,
            4.9,
            4.9,
            5.0,
            5.0,
            4.9
           ],
           "type": "scatter"
          },
          {
           "fill": "toself",
           "fillcolor": "rgb(153, 0, 0)",
           "hoverinfo": "name",
           "line": {
            "width": 0
           },
           "mode": "lines",
           "name": "Risk Area",
           "showlegend": false,
           "x": [
            13.6,
            15.0,
            15.0,
            13.6,
            13.6,
            11.5,
            11.5,
            10.1,
            10.1,
            10.0,
            10.0,
            10.1,
            10.1,
            11.5,
            11.5,
            13.6,
            13.6
           ],
           "y": [
            9.9,
            9.9,
            5.1,
            5.1,
            5.0,
            5.0,
            5.1,
            5.1,
            6.5,
            6.5,
            8.6,
            8.6,
            9.9,
            9.9,
            10.0,
            10.0,
            9.9
           ],
           "type": "scatter"
          },
          {
           "fill": "toself",
           "fillcolor": "rgb(204, 0, 0)",
           "hoverinfo": "name",
           "line": {
            "width": 0
           },
           "mode": "lines",
           "name": "Risk Area",
           "showlegend": false,
           "x": [
            9.9,
            9.9,
            8.6,
            8.6,
            6.4,
            6.4,
            5.1,
            5.1,
            5.0,
            5.0,
            5.1,
            5.1,
            6.4,
            6.4,
            8.6,
            8.6,
            9.9,
            9.9,
            10.0,
            10.0,
            9.9
           ],
           "y": [
            6.5,
            5.1,
            5.1,
            5.0,
            5.0,
            5.1,
            5.1,
            6.5,
            6.5,
            8.6,
            8.6,
            9.9,
            9.9,
            10.0,
            10.0,
            9.9,
            9.9,
            8.6,
            8.6,
            6.5,
            6.5
           ],
           "type": "scatter"
          },
          {
           "fill": "toself",
           "fillcolor": "rgb(51, 0, 0)",
           "hoverinfo": "name",
           "line": {
            "width": 0
           },
           "mode": "lines",
           "name": "Risk Area",
           "showlegend": false,
           "x": [
            4.9,
            4.9,
            3.6,
            3.6,
            1.5,
            1.5,
            0.0,
            0.0,
            1.5,
            1.5,
            3.6,
            3.6,
            4.9,
            4.9,
            5.0,
            5.0,
            4.9
           ],
           "y": [
            6.5,
            5.1,
            5.1,
            5.0,
            5.0,
            5.1,
            5.1,
            9.9,
            9.9,
            10.0,
            10.0,
            9.9,
            9.9,
            8.6,
            8.6,
            6.5,
            6.5
           ],
           "type": "scatter"
          },
          {
           "fill": "toself",
           "fillcolor": "rgb(51, 0, 0)",
           "hoverinfo": "name",
           "line": {
            "width": 0
           },
           "mode": "lines",
           "name": "Risk Area",
           "showlegend": false,
           "x": [
            1.5,
            0.0,
            0.0,
            4.9,
            4.9,
            5.0,
            5.0,
            4.9,
            4.9,
            3.6,
            3.6,
            1.5,
            1.5
           ],
           "y": [
            10.1,
            10.1,
            15.0,
            15.0,
            13.6,
            13.6,
            11.5,
            11.5,
            10.1,
            10.1,
            10.0,
            10.0,
            10.1
           ],
           "type": "scatter"
          },
          {
           "fill": "toself",
           "fillcolor": "rgb(153, 0, 0)",
           "hoverinfo": "name",
           "line": {
            "width": 0
           },
           "mode": "lines",
           "name": "Risk Area",
           "showlegend": false,
           "x": [
            6.4,
            5.1,
            5.1,
            5.0,
            5.0,
            5.1,
            5.1,
            9.9,
            9.9,
            10.0,
            10.0,
            9.9,
            9.9,
            8.6,
            8.6,
            6.4,
            6.4
           ],
           "y": [
            10.1,
            10.1,
            11.5,
            11.5,
            13.6,
            13.6,
            15.0,
            15.0,
            13.6,
            13.6,
            11.5,
            11.5,
            10.1,
            10.1,
            10.0,
            10.0,
            10.1
           ],
           "type": "scatter"
          },
          {
           "fill": "toself",
           "fillcolor": "rgb(51, 0, 0)",
           "hoverinfo": "name",
           "line": {
            "width": 0
           },
           "mode": "lines",
           "name": "Risk Area",
           "showlegend": false,
           "x": [
            10.1,
            10.1,
            15.0,
            15.0,
            13.6,
            13.6,
            11.5,
            11.5,
            10.1,
            10.1,
            10.0,
            10.0,
            10.1
           ],
           "y": [
            13.6,
            15.0,
            15.0,
            10.1,
            10.1,
            10.0,
            10.0,
            10.1,
            10.1,
            11.5,
            11.5,
            13.6,
            13.6
           ],
           "type": "scatter"
          },
          {
           "hoverinfo": "text",
           "marker": {
            "opacity": 1,
            "size": 1
           },
           "mode": "markers",
           "showlegend": false,
           "text": [
            "ID: 11.0, Pos(10.14,12.86)"
           ],
           "x": [
            10.136924631508197
           ],
           "y": [
            12.855142499796163
           ],
           "type": "scatter"
          },
          {
           "hoverinfo": "text",
           "marker": {
            "opacity": 1,
            "size": 1
           },
           "mode": "markers",
           "showlegend": false,
           "text": [
            "ID: 12.0, Pos(9.67,13.37)"
           ],
           "x": [
            9.665213149107926
           ],
           "y": [
            13.36896267738499
           ],
           "type": "scatter"
          },
          {
           "hoverinfo": "text",
           "marker": {
            "opacity": 1,
            "size": 1
           },
           "mode": "markers",
           "showlegend": false,
           "text": [
            "ID: 13.0, Pos(6.98,12.38)"
           ],
           "x": [
            6.978558127454965
           ],
           "y": [
            12.37601018535596
           ],
           "type": "scatter"
          },
          {
           "hoverinfo": "text",
           "marker": {
            "opacity": 1,
            "size": 1
           },
           "mode": "markers",
           "showlegend": false,
           "text": [
            "ID: 14.0, Pos(12.37,13.07)"
           ],
           "x": [
            12.366573330426982
           ],
           "y": [
            13.073136606540006
           ],
           "type": "scatter"
          },
          {
           "hoverinfo": "text",
           "marker": {
            "opacity": 1,
            "size": 1
           },
           "mode": "markers",
           "showlegend": false,
           "text": [
            "ID: 15.0, Pos(11.21,13.34)"
           ],
           "x": [
            11.209491166514727
           ],
           "y": [
            13.337925548609494
           ],
           "type": "scatter"
          },
          {
           "hoverinfo": "text",
           "marker": {
            "opacity": 1,
            "size": 1
           },
           "mode": "markers",
           "showlegend": false,
           "text": [
            "ID: 18.0, Pos(9.05,12.62)"
           ],
           "x": [
            9.04634871930112
           ],
           "y": [
            12.61573594489351
           ],
           "type": "scatter"
          },
          {
           "hoverinfo": "text",
           "marker": {
            "opacity": 1,
            "size": 1
           },
           "mode": "markers",
           "showlegend": false,
           "text": [
            "ID: 19.0, Pos(12.35,13.73)"
           ],
           "x": [
            12.345229277923437
           ],
           "y": [
            13.731999276034292
           ],
           "type": "scatter"
          },
          {
           "hoverinfo": "text",
           "marker": {
            "opacity": 1,
            "size": 1
           },
           "mode": "markers",
           "showlegend": false,
           "text": [
            "ID: 20.0, Pos(7.98,12.59)"
           ],
           "x": [
            7.982404662346974
           ],
           "y": [
            12.58755606730642
           ],
           "type": "scatter"
          },
          {
           "hoverinfo": "none",
           "marker": {
            "opacity": 0,
            "size": 1
           },
           "mode": "markers",
           "showlegend": false,
           "x": [
            0.0
           ],
           "y": [
            0.0
           ],
           "type": "scatter"
          },
          {
           "hoverinfo": "none",
           "marker": {
            "opacity": 0,
            "size": 1
           },
           "mode": "markers",
           "showlegend": false,
           "x": [
            0.0
           ],
           "y": [
            0.0
           ],
           "type": "scatter"
          }
         ],
         "layout": {
          "shapes": [
           {
            "fillcolor": "rgba(0, 0, 159, 0.5)",
            "line": {
             "color": "rgba(0, 0, 159, 0.5)"
            },
            "type": "circle",
            "x0": 9.936924631508198,
            "x1": 10.336924631508197,
            "xref": "x",
            "y0": 12.655142499796163,
            "y1": 13.055142499796162,
            "yref": "y"
           },
           {
            "fillcolor": "rgba(231, 255, 15, 0.5)",
            "line": {
             "color": "rgba(231, 255, 15, 0.5)"
            },
            "type": "circle",
            "x0": 9.465213149107926,
            "x1": 9.865213149107925,
            "xref": "x",
            "y0": 13.168962677384991,
            "y1": 13.56896267738499,
            "yref": "y"
           },
           {
            "fillcolor": "rgba(0, 96, 255, 0.5)",
            "line": {
             "color": "rgba(0, 96, 255, 0.5)"
            },
            "type": "circle",
            "x0": 6.778558127454965,
            "x1": 7.1785581274549655,
            "xref": "x",
            "y0": 12.176010185355961,
            "y1": 12.57601018535596,
            "yref": "y"
           },
           {
            "fillcolor": "rgba(0, 0, 128, 0.5)",
            "line": {
             "color": "rgba(0, 0, 128, 0.5)"
            },
            "type": "circle",
            "x0": 12.166573330426983,
            "x1": 12.566573330426982,
            "xref": "x",
            "y0": 12.873136606540006,
            "y1": 13.273136606540005,
            "yref": "y"
           },
           {
            "fillcolor": "rgba(0, 0, 128, 0.5)",
            "line": {
             "color": "rgba(0, 0, 128, 0.5)"
            },
            "type": "circle",
            "x0": 11.009491166514728,
            "x1": 11.409491166514727,
            "xref": "x",
            "y0": 13.137925548609495,
            "y1": 13.537925548609493,
            "yref": "y"
           },
           {
            "fillcolor": "rgba(0, 0, 246, 0.5)",
            "line": {
             "color": "rgba(0, 0, 246, 0.5)"
            },
            "type": "circle",
            "x0": 8.84634871930112,
            "x1": 9.24634871930112,
            "xref": "x",
            "y0": 12.41573594489351,
            "y1": 12.81573594489351,
            "yref": "y"
           },
           {
            "fillcolor": "rgba(0, 0, 128, 0.5)",
            "line": {
             "color": "rgba(0, 0, 128, 0.5)"
            },
            "type": "circle",
            "x0": 12.145229277923438,
            "x1": 12.545229277923436,
            "xref": "x",
            "y0": 13.531999276034293,
            "y1": 13.931999276034292,
            "yref": "y"
           },
           {
            "fillcolor": "rgba(0, 45, 255, 0.5)",
            "line": {
             "color": "rgba(0, 45, 255, 0.5)"
            },
            "type": "circle",
            "x0": 7.782404662346974,
            "x1": 8.182404662346974,
            "xref": "x",
            "y0": 12.38755606730642,
            "y1": 12.787556067306419,
            "yref": "y"
           },
           {
            "fillcolor": "rgba(255,255,255,0)",
            "line": {
             "width": 0
            },
            "type": "circle",
            "x0": 0.0,
            "x1": 0.0,
            "xref": "x",
            "y0": 0.0,
            "y1": 0.0,
            "yref": "y"
           },
           {
            "fillcolor": "rgba(255,255,255,0)",
            "line": {
             "width": 0
            },
            "type": "circle",
            "x0": 0.0,
            "x1": 0.0,
            "xref": "x",
            "y0": 0.0,
            "y1": 0.0,
            "yref": "y"
           },
           {
            "line": {
             "color": "white",
             "width": 3
            },
            "type": "line",
            "x0": 10.136924631508197,
            "x1": 10.335210650278128,
            "y0": 12.855142499796163,
            "y1": 12.881270162538375
           },
           {
            "line": {
             "color": "black",
             "width": 3
            },
            "type": "line",
            "x0": 9.665213149107926,
            "x1": 9.807372202635475,
            "y0": 13.36896267738499,
            "y1": 13.228282886724955
           },
           {
            "line": {
             "color": "white",
             "width": 3
            },
            "type": "line",
            "x0": 6.978558127454965,
            "x1": 7.174565327534859,
            "y0": 12.37601018535596,
            "y1": 12.415774208251543
           },
           {
            "line": {
             "color": "white",
             "width": 3
            },
            "type": "line",
            "x0": 12.366573330426982,
            "x1": 12.55965329551172,
            "y0": 13.073136606540006,
            "y1": 13.125291444118856
           },
           {
            "line": {
             "color": "white",
             "width": 3
            },
            "type": "line",
            "x0": 11.209491166514727,
            "x1": 11.406894673117748,
            "y0": 13.337925548609494,
            "y1": 13.37004805755309
           },
           {
            "line": {
             "color": "white",
             "width": 3
            },
            "type": "line",
            "x0": 9.04634871930112,
            "x1": 9.241025819837136,
            "y0": 12.61573594489351,
            "y1": 12.661570719103604
           },
           {
            "line": {
             "color": "white",
             "width": 3
            },
            "type": "line",
            "x0": 12.345229277923437,
            "x1": 12.540998748888722,
            "y0": 13.731999276034292,
            "y1": 13.772917661119395
           },
           {
            "line": {
             "color": "white",
             "width": 3
            },
            "type": "line",
            "x0": 7.982404662346974,
            "x1": 8.178437371576653,
            "y0": 12.58755606730642,
            "y1": 12.627194141327147
           },
           {
            "line": {
             "color": "rgba(255,255,255,0)",
             "width": 3
            },
            "type": "line",
            "x0": 0.0,
            "x1": null,
            "y0": 0.0,
            "y1": null
           },
           {
            "line": {
             "color": "rgba(255,255,255,0)",
             "width": 3
            },
            "type": "line",
            "x0": 0.0,
            "x1": null,
            "y0": 0.0,
            "y1": null
           }
          ],
          "title": {
           "text": "<b>Percentage using the shortest path: 0%  |  Number of Agents: 8</b>",
           "x": 0.5
          }
         },
         "name": "650"
        },
        {
         "data": [
          {
           "hoverinfo": "name",
           "line": {
            "color": "white"
           },
           "mode": "lines",
           "name": "Exterior",
           "showlegend": false,
           "x": [
            10.1,
            10.1,
            15.0,
            15.0,
            13.6,
            13.6,
            15.0,
            15.0,
            13.6,
            13.6,
            15.0,
            15.0,
            10.1,
            10.1,
            9.9,
            9.9,
            5.1,
            5.1,
            4.9,
            4.9,
            0.0,
            0.0,
            1.5,
            1.5,
            0.0,
            0.0,
            1.5,
            1.5,
            0.0,
            0.0,
            4.9,
            4.9,
            5.1,
            5.1,
            9.9,
            9.9,
            10.1
           ],
           "y": [
            1.5,
            0.0,
            0.0,
            4.9,
            4.9,
            5.1,
            5.1,
            9.9,
            9.9,
            10.1,
            10.1,
            15.0,
            15.0,
            13.6,
            13.6,
            15.0,
            15.0,
            13.6,
            13.6,
            15.0,
            15.0,
            10.1,
            10.1,
            9.9,
            9.9,
            5.1,
            5.1,
            4.9,
            4.9,
            0.0,
            0.0,
            1.5,
            1.5,
            0.0,
            0.0,
            1.5,
            1.5
           ],
           "type": "scatter"
          },
          {
           "hoverinfo": "name",
           "line": {
            "color": "white"
           },
           "mode": "lines",
           "name": "Obstacle",
           "showlegend": false,
           "x": [
            10.1,
            11.5,
            11.5,
            10.1,
            10.1,
            9.9,
            9.9,
            8.6,
            8.6,
            9.9,
            9.9,
            10.1,
            10.1
           ],
           "y": [
            5.1,
            5.1,
            4.9,
            4.9,
            3.6,
            3.6,
            4.9,
            4.9,
            5.1,
            5.1,
            6.5,
            6.5,
            5.1
           ],
           "type": "scatter"
          },
          {
           "hoverinfo": "name",
           "line": {
            "color": "white"
           },
           "mode": "lines",
           "name": "Obstacle",
           "showlegend": false,
           "x": [
            10.1,
            11.5,
            11.5,
            10.1,
            10.1,
            9.9,
            9.9,
            8.6,
            8.6,
            9.9,
            9.9,
            10.1,
            10.1
           ],
           "y": [
            10.1,
            10.1,
            9.9,
            9.9,
            8.6,
            8.6,
            9.9,
            9.9,
            10.1,
            10.1,
            11.5,
            11.5,
            10.1
           ],
           "type": "scatter"
          },
          {
           "hoverinfo": "name",
           "line": {
            "color": "white"
           },
           "mode": "lines",
           "name": "Obstacle",
           "showlegend": false,
           "x": [
            5.1,
            6.4,
            6.4,
            5.1,
            5.1,
            4.9,
            4.9,
            3.6,
            3.6,
            4.9,
            4.9,
            5.1,
            5.1
           ],
           "y": [
            5.1,
            5.1,
            4.9,
            4.9,
            3.6,
            3.6,
            4.9,
            4.9,
            5.1,
            5.1,
            6.5,
            6.5,
            5.1
           ],
           "type": "scatter"
          },
          {
           "hoverinfo": "name",
           "line": {
            "color": "white"
           },
           "mode": "lines",
           "name": "Obstacle",
           "showlegend": false,
           "x": [
            5.1,
            6.4,
            6.4,
            5.1,
            5.1,
            4.9,
            4.9,
            3.6,
            3.6,
            4.9,
            4.9,
            5.1,
            5.1
           ],
           "y": [
            10.1,
            10.1,
            9.9,
            9.9,
            8.6,
            8.6,
            9.9,
            9.9,
            10.1,
            10.1,
            11.5,
            11.5,
            10.1
           ],
           "type": "scatter"
          },
          {
           "fill": "toself",
           "fillcolor": "rgb(76, 0, 0)",
           "hoverinfo": "name",
           "line": {
            "width": 0
           },
           "mode": "lines",
           "name": "Risk Area",
           "showlegend": false,
           "x": [
            1.5,
            1.5,
            3.6,
            3.6,
            4.9,
            4.9,
            5.0,
            5.0,
            4.9,
            4.9,
            0.0,
            0.0,
            1.5
           ],
           "y": [
            4.9,
            5.0,
            5.0,
            4.9,
            4.9,
            3.6,
            3.6,
            1.5,
            1.5,
            0.0,
            0.0,
            4.9,
            4.9
           ],
           "type": "scatter"
          },
          {
           "fill": "toself",
           "fillcolor": "rgb(153, 0, 0)",
           "hoverinfo": "name",
           "line": {
            "width": 0
           },
           "mode": "lines",
           "name": "Risk Area",
           "showlegend": false,
           "x": [
            9.9,
            9.9,
            5.1,
            5.1,
            5.0,
            5.0,
            5.1,
            5.1,
            6.4,
            6.4,
            8.6,
            8.6,
            9.9,
            9.9,
            10.0,
            10.0,
            9.9
           ],
           "y": [
            1.5,
            0.0,
            0.0,
            1.5,
            1.5,
            3.6,
            3.6,
            4.9,
            4.9,
            5.0,
            5.0,
            4.9,
            4.9,
            3.6,
            3.6,
            1.5,
            1.5
           ],
           "type": "scatter"
          },
          {
           "fill": "toself",
           "fillcolor": "rgb(0, 0, 0)",
           "hoverinfo": "name",
           "line": {
            "width": 0
           },
           "mode": "lines",
           "name": "Risk Area",
           "showlegend": false,
           "x": [
            13.6,
            15.0,
            15.0,
            10.1,
            10.1,
            10.0,
            10.0,
            10.1,
            10.1,
            11.5,
            11.5,
            13.6,
            13.6
           ],
           "y": [
            4.9,
            4.9,
            0.0,
            0.0,
            1.5,
            1.5,
            3.6,
            3.6,
            4.9,
            4.9,
            5.0,
            5.0,
            4.9
           ],
           "type": "scatter"
          },
          {
           "fill": "toself",
           "fillcolor": "rgb(153, 0, 0)",
           "hoverinfo": "name",
           "line": {
            "width": 0
           },
           "mode": "lines",
           "name": "Risk Area",
           "showlegend": false,
           "x": [
            13.6,
            15.0,
            15.0,
            13.6,
            13.6,
            11.5,
            11.5,
            10.1,
            10.1,
            10.0,
            10.0,
            10.1,
            10.1,
            11.5,
            11.5,
            13.6,
            13.6
           ],
           "y": [
            9.9,
            9.9,
            5.1,
            5.1,
            5.0,
            5.0,
            5.1,
            5.1,
            6.5,
            6.5,
            8.6,
            8.6,
            9.9,
            9.9,
            10.0,
            10.0,
            9.9
           ],
           "type": "scatter"
          },
          {
           "fill": "toself",
           "fillcolor": "rgb(204, 0, 0)",
           "hoverinfo": "name",
           "line": {
            "width": 0
           },
           "mode": "lines",
           "name": "Risk Area",
           "showlegend": false,
           "x": [
            9.9,
            9.9,
            8.6,
            8.6,
            6.4,
            6.4,
            5.1,
            5.1,
            5.0,
            5.0,
            5.1,
            5.1,
            6.4,
            6.4,
            8.6,
            8.6,
            9.9,
            9.9,
            10.0,
            10.0,
            9.9
           ],
           "y": [
            6.5,
            5.1,
            5.1,
            5.0,
            5.0,
            5.1,
            5.1,
            6.5,
            6.5,
            8.6,
            8.6,
            9.9,
            9.9,
            10.0,
            10.0,
            9.9,
            9.9,
            8.6,
            8.6,
            6.5,
            6.5
           ],
           "type": "scatter"
          },
          {
           "fill": "toself",
           "fillcolor": "rgb(51, 0, 0)",
           "hoverinfo": "name",
           "line": {
            "width": 0
           },
           "mode": "lines",
           "name": "Risk Area",
           "showlegend": false,
           "x": [
            4.9,
            4.9,
            3.6,
            3.6,
            1.5,
            1.5,
            0.0,
            0.0,
            1.5,
            1.5,
            3.6,
            3.6,
            4.9,
            4.9,
            5.0,
            5.0,
            4.9
           ],
           "y": [
            6.5,
            5.1,
            5.1,
            5.0,
            5.0,
            5.1,
            5.1,
            9.9,
            9.9,
            10.0,
            10.0,
            9.9,
            9.9,
            8.6,
            8.6,
            6.5,
            6.5
           ],
           "type": "scatter"
          },
          {
           "fill": "toself",
           "fillcolor": "rgb(51, 0, 0)",
           "hoverinfo": "name",
           "line": {
            "width": 0
           },
           "mode": "lines",
           "name": "Risk Area",
           "showlegend": false,
           "x": [
            1.5,
            0.0,
            0.0,
            4.9,
            4.9,
            5.0,
            5.0,
            4.9,
            4.9,
            3.6,
            3.6,
            1.5,
            1.5
           ],
           "y": [
            10.1,
            10.1,
            15.0,
            15.0,
            13.6,
            13.6,
            11.5,
            11.5,
            10.1,
            10.1,
            10.0,
            10.0,
            10.1
           ],
           "type": "scatter"
          },
          {
           "fill": "toself",
           "fillcolor": "rgb(153, 0, 0)",
           "hoverinfo": "name",
           "line": {
            "width": 0
           },
           "mode": "lines",
           "name": "Risk Area",
           "showlegend": false,
           "x": [
            6.4,
            5.1,
            5.1,
            5.0,
            5.0,
            5.1,
            5.1,
            9.9,
            9.9,
            10.0,
            10.0,
            9.9,
            9.9,
            8.6,
            8.6,
            6.4,
            6.4
           ],
           "y": [
            10.1,
            10.1,
            11.5,
            11.5,
            13.6,
            13.6,
            15.0,
            15.0,
            13.6,
            13.6,
            11.5,
            11.5,
            10.1,
            10.1,
            10.0,
            10.0,
            10.1
           ],
           "type": "scatter"
          },
          {
           "fill": "toself",
           "fillcolor": "rgb(51, 0, 0)",
           "hoverinfo": "name",
           "line": {
            "width": 0
           },
           "mode": "lines",
           "name": "Risk Area",
           "showlegend": false,
           "x": [
            10.1,
            10.1,
            15.0,
            15.0,
            13.6,
            13.6,
            11.5,
            11.5,
            10.1,
            10.1,
            10.0,
            10.0,
            10.1
           ],
           "y": [
            13.6,
            15.0,
            15.0,
            10.1,
            10.1,
            10.0,
            10.0,
            10.1,
            10.1,
            11.5,
            11.5,
            13.6,
            13.6
           ],
           "type": "scatter"
          },
          {
           "hoverinfo": "text",
           "marker": {
            "opacity": 1,
            "size": 1
           },
           "mode": "markers",
           "showlegend": false,
           "text": [
            "ID: 11.0, Pos(11.67,13.21)"
           ],
           "x": [
            11.668867976987963
           ],
           "y": [
            13.211749109545408
           ],
           "type": "scatter"
          },
          {
           "hoverinfo": "text",
           "marker": {
            "opacity": 1,
            "size": 1
           },
           "mode": "markers",
           "showlegend": false,
           "text": [
            "ID: 12.0, Pos(10.66,13.37)"
           ],
           "x": [
            10.664190572952243
           ],
           "y": [
            13.367308811336336
           ],
           "type": "scatter"
          },
          {
           "hoverinfo": "text",
           "marker": {
            "opacity": 1,
            "size": 1
           },
           "mode": "markers",
           "showlegend": false,
           "text": [
            "ID: 13.0, Pos(8.30,12.64)"
           ],
           "x": [
            8.297843058226102
           ],
           "y": [
            12.64367944494664
           ],
           "type": "scatter"
          },
          {
           "hoverinfo": "text",
           "marker": {
            "opacity": 1,
            "size": 1
           },
           "mode": "markers",
           "showlegend": false,
           "text": [
            "ID: 18.0, Pos(10.58,12.70)"
           ],
           "x": [
            10.576928242924316
           ],
           "y": [
            12.695753760817253
           ],
           "type": "scatter"
          },
          {
           "hoverinfo": "text",
           "marker": {
            "opacity": 1,
            "size": 1
           },
           "mode": "markers",
           "showlegend": false,
           "text": [
            "ID: 20.0, Pos(9.41,12.88)"
           ],
           "x": [
            9.406671967143367
           ],
           "y": [
            12.87516021907008
           ],
           "type": "scatter"
          },
          {
           "hoverinfo": "none",
           "marker": {
            "opacity": 0,
            "size": 1
           },
           "mode": "markers",
           "showlegend": false,
           "x": [
            0.0
           ],
           "y": [
            0.0
           ],
           "type": "scatter"
          },
          {
           "hoverinfo": "none",
           "marker": {
            "opacity": 0,
            "size": 1
           },
           "mode": "markers",
           "showlegend": false,
           "x": [
            0.0
           ],
           "y": [
            0.0
           ],
           "type": "scatter"
          },
          {
           "hoverinfo": "none",
           "marker": {
            "opacity": 0,
            "size": 1
           },
           "mode": "markers",
           "showlegend": false,
           "x": [
            0.0
           ],
           "y": [
            0.0
           ],
           "type": "scatter"
          },
          {
           "hoverinfo": "none",
           "marker": {
            "opacity": 0,
            "size": 1
           },
           "mode": "markers",
           "showlegend": false,
           "x": [
            0.0
           ],
           "y": [
            0.0
           ],
           "type": "scatter"
          },
          {
           "hoverinfo": "none",
           "marker": {
            "opacity": 0,
            "size": 1
           },
           "mode": "markers",
           "showlegend": false,
           "x": [
            0.0
           ],
           "y": [
            0.0
           ],
           "type": "scatter"
          }
         ],
         "layout": {
          "shapes": [
           {
            "fillcolor": "rgba(0, 0, 128, 0.5)",
            "line": {
             "color": "rgba(0, 0, 128, 0.5)"
            },
            "type": "circle",
            "x0": 11.468867976987964,
            "x1": 11.868867976987962,
            "xref": "x",
            "y0": 13.01174910954541,
            "y1": 13.411749109545408,
            "yref": "y"
           },
           {
            "fillcolor": "rgba(0, 0, 128, 0.5)",
            "line": {
             "color": "rgba(0, 0, 128, 0.5)"
            },
            "type": "circle",
            "x0": 10.464190572952244,
            "x1": 10.864190572952243,
            "xref": "x",
            "y0": 13.167308811336337,
            "y1": 13.567308811336336,
            "yref": "y"
           },
           {
            "fillcolor": "rgba(0, 0, 223, 0.5)",
            "line": {
             "color": "rgba(0, 0, 223, 0.5)"
            },
            "type": "circle",
            "x0": 8.097843058226102,
            "x1": 8.4978430582261,
            "xref": "x",
            "y0": 12.44367944494664,
            "y1": 12.84367944494664,
            "yref": "y"
           },
           {
            "fillcolor": "rgba(0, 0, 128, 0.5)",
            "line": {
             "color": "rgba(0, 0, 128, 0.5)"
            },
            "type": "circle",
            "x0": 10.376928242924317,
            "x1": 10.776928242924315,
            "xref": "x",
            "y0": 12.495753760817253,
            "y1": 12.895753760817252,
            "yref": "y"
           },
           {
            "fillcolor": "rgba(0, 0, 128, 0.5)",
            "line": {
             "color": "rgba(0, 0, 128, 0.5)"
            },
            "type": "circle",
            "x0": 9.206671967143368,
            "x1": 9.606671967143367,
            "xref": "x",
            "y0": 12.675160219070081,
            "y1": 13.07516021907008,
            "yref": "y"
           },
           {
            "fillcolor": "rgba(255,255,255,0)",
            "line": {
             "width": 0
            },
            "type": "circle",
            "x0": 0.0,
            "x1": 0.0,
            "xref": "x",
            "y0": 0.0,
            "y1": 0.0,
            "yref": "y"
           },
           {
            "fillcolor": "rgba(255,255,255,0)",
            "line": {
             "width": 0
            },
            "type": "circle",
            "x0": 0.0,
            "x1": 0.0,
            "xref": "x",
            "y0": 0.0,
            "y1": 0.0,
            "yref": "y"
           },
           {
            "fillcolor": "rgba(255,255,255,0)",
            "line": {
             "width": 0
            },
            "type": "circle",
            "x0": 0.0,
            "x1": 0.0,
            "xref": "x",
            "y0": 0.0,
            "y1": 0.0,
            "yref": "y"
           },
           {
            "fillcolor": "rgba(255,255,255,0)",
            "line": {
             "width": 0
            },
            "type": "circle",
            "x0": 0.0,
            "x1": 0.0,
            "xref": "x",
            "y0": 0.0,
            "y1": 0.0,
            "yref": "y"
           },
           {
            "fillcolor": "rgba(255,255,255,0)",
            "line": {
             "width": 0
            },
            "type": "circle",
            "x0": 0.0,
            "x1": 0.0,
            "xref": "x",
            "y0": 0.0,
            "y1": 0.0,
            "yref": "y"
           },
           {
            "line": {
             "color": "white",
             "width": 3
            },
            "type": "line",
            "x0": 11.668867976987963,
            "x1": 11.862596720610792,
            "y0": 13.211749109545408,
            "y1": 13.261439892335785
           },
           {
            "line": {
             "color": "white",
             "width": 3
            },
            "type": "line",
            "x0": 10.664190572952243,
            "x1": 10.856653595791032,
            "y0": 13.367308811336336,
            "y1": 13.4216961705272
           },
           {
            "line": {
             "color": "white",
             "width": 3
            },
            "type": "line",
            "x0": 8.297843058226102,
            "x1": 8.493848960536525,
            "y0": 12.64367944494664,
            "y1": 12.683449864349472
           },
           {
            "line": {
             "color": "white",
             "width": 3
            },
            "type": "line",
            "x0": 10.576928242924316,
            "x1": 10.774304896680187,
            "y0": 12.695753760817253,
            "y1": 12.728040856569818
           },
           {
            "line": {
             "color": "white",
             "width": 3
            },
            "type": "line",
            "x0": 9.406671967143367,
            "x1": 9.602721566858605,
            "y0": 12.87516021907008,
            "y1": 12.914714668269825
           },
           {
            "line": {
             "color": "rgba(255,255,255,0)",
             "width": 3
            },
            "type": "line",
            "x0": 0.0,
            "x1": null,
            "y0": 0.0,
            "y1": null
           },
           {
            "line": {
             "color": "rgba(255,255,255,0)",
             "width": 3
            },
            "type": "line",
            "x0": 0.0,
            "x1": null,
            "y0": 0.0,
            "y1": null
           },
           {
            "line": {
             "color": "rgba(255,255,255,0)",
             "width": 3
            },
            "type": "line",
            "x0": 0.0,
            "x1": null,
            "y0": 0.0,
            "y1": null
           },
           {
            "line": {
             "color": "rgba(255,255,255,0)",
             "width": 3
            },
            "type": "line",
            "x0": 0.0,
            "x1": null,
            "y0": 0.0,
            "y1": null
           },
           {
            "line": {
             "color": "rgba(255,255,255,0)",
             "width": 3
            },
            "type": "line",
            "x0": 0.0,
            "x1": null,
            "y0": 0.0,
            "y1": null
           }
          ],
          "title": {
           "text": "<b>Percentage using the shortest path: 0%  |  Number of Agents: 5</b>",
           "x": 0.5
          }
         },
         "name": "700"
        },
        {
         "data": [
          {
           "hoverinfo": "name",
           "line": {
            "color": "white"
           },
           "mode": "lines",
           "name": "Exterior",
           "showlegend": false,
           "x": [
            10.1,
            10.1,
            15.0,
            15.0,
            13.6,
            13.6,
            15.0,
            15.0,
            13.6,
            13.6,
            15.0,
            15.0,
            10.1,
            10.1,
            9.9,
            9.9,
            5.1,
            5.1,
            4.9,
            4.9,
            0.0,
            0.0,
            1.5,
            1.5,
            0.0,
            0.0,
            1.5,
            1.5,
            0.0,
            0.0,
            4.9,
            4.9,
            5.1,
            5.1,
            9.9,
            9.9,
            10.1
           ],
           "y": [
            1.5,
            0.0,
            0.0,
            4.9,
            4.9,
            5.1,
            5.1,
            9.9,
            9.9,
            10.1,
            10.1,
            15.0,
            15.0,
            13.6,
            13.6,
            15.0,
            15.0,
            13.6,
            13.6,
            15.0,
            15.0,
            10.1,
            10.1,
            9.9,
            9.9,
            5.1,
            5.1,
            4.9,
            4.9,
            0.0,
            0.0,
            1.5,
            1.5,
            0.0,
            0.0,
            1.5,
            1.5
           ],
           "type": "scatter"
          },
          {
           "hoverinfo": "name",
           "line": {
            "color": "white"
           },
           "mode": "lines",
           "name": "Obstacle",
           "showlegend": false,
           "x": [
            10.1,
            11.5,
            11.5,
            10.1,
            10.1,
            9.9,
            9.9,
            8.6,
            8.6,
            9.9,
            9.9,
            10.1,
            10.1
           ],
           "y": [
            5.1,
            5.1,
            4.9,
            4.9,
            3.6,
            3.6,
            4.9,
            4.9,
            5.1,
            5.1,
            6.5,
            6.5,
            5.1
           ],
           "type": "scatter"
          },
          {
           "hoverinfo": "name",
           "line": {
            "color": "white"
           },
           "mode": "lines",
           "name": "Obstacle",
           "showlegend": false,
           "x": [
            10.1,
            11.5,
            11.5,
            10.1,
            10.1,
            9.9,
            9.9,
            8.6,
            8.6,
            9.9,
            9.9,
            10.1,
            10.1
           ],
           "y": [
            10.1,
            10.1,
            9.9,
            9.9,
            8.6,
            8.6,
            9.9,
            9.9,
            10.1,
            10.1,
            11.5,
            11.5,
            10.1
           ],
           "type": "scatter"
          },
          {
           "hoverinfo": "name",
           "line": {
            "color": "white"
           },
           "mode": "lines",
           "name": "Obstacle",
           "showlegend": false,
           "x": [
            5.1,
            6.4,
            6.4,
            5.1,
            5.1,
            4.9,
            4.9,
            3.6,
            3.6,
            4.9,
            4.9,
            5.1,
            5.1
           ],
           "y": [
            5.1,
            5.1,
            4.9,
            4.9,
            3.6,
            3.6,
            4.9,
            4.9,
            5.1,
            5.1,
            6.5,
            6.5,
            5.1
           ],
           "type": "scatter"
          },
          {
           "hoverinfo": "name",
           "line": {
            "color": "white"
           },
           "mode": "lines",
           "name": "Obstacle",
           "showlegend": false,
           "x": [
            5.1,
            6.4,
            6.4,
            5.1,
            5.1,
            4.9,
            4.9,
            3.6,
            3.6,
            4.9,
            4.9,
            5.1,
            5.1
           ],
           "y": [
            10.1,
            10.1,
            9.9,
            9.9,
            8.6,
            8.6,
            9.9,
            9.9,
            10.1,
            10.1,
            11.5,
            11.5,
            10.1
           ],
           "type": "scatter"
          },
          {
           "fill": "toself",
           "fillcolor": "rgb(76, 0, 0)",
           "hoverinfo": "name",
           "line": {
            "width": 0
           },
           "mode": "lines",
           "name": "Risk Area",
           "showlegend": false,
           "x": [
            1.5,
            1.5,
            3.6,
            3.6,
            4.9,
            4.9,
            5.0,
            5.0,
            4.9,
            4.9,
            0.0,
            0.0,
            1.5
           ],
           "y": [
            4.9,
            5.0,
            5.0,
            4.9,
            4.9,
            3.6,
            3.6,
            1.5,
            1.5,
            0.0,
            0.0,
            4.9,
            4.9
           ],
           "type": "scatter"
          },
          {
           "fill": "toself",
           "fillcolor": "rgb(153, 0, 0)",
           "hoverinfo": "name",
           "line": {
            "width": 0
           },
           "mode": "lines",
           "name": "Risk Area",
           "showlegend": false,
           "x": [
            9.9,
            9.9,
            5.1,
            5.1,
            5.0,
            5.0,
            5.1,
            5.1,
            6.4,
            6.4,
            8.6,
            8.6,
            9.9,
            9.9,
            10.0,
            10.0,
            9.9
           ],
           "y": [
            1.5,
            0.0,
            0.0,
            1.5,
            1.5,
            3.6,
            3.6,
            4.9,
            4.9,
            5.0,
            5.0,
            4.9,
            4.9,
            3.6,
            3.6,
            1.5,
            1.5
           ],
           "type": "scatter"
          },
          {
           "fill": "toself",
           "fillcolor": "rgb(0, 0, 0)",
           "hoverinfo": "name",
           "line": {
            "width": 0
           },
           "mode": "lines",
           "name": "Risk Area",
           "showlegend": false,
           "x": [
            13.6,
            15.0,
            15.0,
            10.1,
            10.1,
            10.0,
            10.0,
            10.1,
            10.1,
            11.5,
            11.5,
            13.6,
            13.6
           ],
           "y": [
            4.9,
            4.9,
            0.0,
            0.0,
            1.5,
            1.5,
            3.6,
            3.6,
            4.9,
            4.9,
            5.0,
            5.0,
            4.9
           ],
           "type": "scatter"
          },
          {
           "fill": "toself",
           "fillcolor": "rgb(153, 0, 0)",
           "hoverinfo": "name",
           "line": {
            "width": 0
           },
           "mode": "lines",
           "name": "Risk Area",
           "showlegend": false,
           "x": [
            13.6,
            15.0,
            15.0,
            13.6,
            13.6,
            11.5,
            11.5,
            10.1,
            10.1,
            10.0,
            10.0,
            10.1,
            10.1,
            11.5,
            11.5,
            13.6,
            13.6
           ],
           "y": [
            9.9,
            9.9,
            5.1,
            5.1,
            5.0,
            5.0,
            5.1,
            5.1,
            6.5,
            6.5,
            8.6,
            8.6,
            9.9,
            9.9,
            10.0,
            10.0,
            9.9
           ],
           "type": "scatter"
          },
          {
           "fill": "toself",
           "fillcolor": "rgb(204, 0, 0)",
           "hoverinfo": "name",
           "line": {
            "width": 0
           },
           "mode": "lines",
           "name": "Risk Area",
           "showlegend": false,
           "x": [
            9.9,
            9.9,
            8.6,
            8.6,
            6.4,
            6.4,
            5.1,
            5.1,
            5.0,
            5.0,
            5.1,
            5.1,
            6.4,
            6.4,
            8.6,
            8.6,
            9.9,
            9.9,
            10.0,
            10.0,
            9.9
           ],
           "y": [
            6.5,
            5.1,
            5.1,
            5.0,
            5.0,
            5.1,
            5.1,
            6.5,
            6.5,
            8.6,
            8.6,
            9.9,
            9.9,
            10.0,
            10.0,
            9.9,
            9.9,
            8.6,
            8.6,
            6.5,
            6.5
           ],
           "type": "scatter"
          },
          {
           "fill": "toself",
           "fillcolor": "rgb(51, 0, 0)",
           "hoverinfo": "name",
           "line": {
            "width": 0
           },
           "mode": "lines",
           "name": "Risk Area",
           "showlegend": false,
           "x": [
            4.9,
            4.9,
            3.6,
            3.6,
            1.5,
            1.5,
            0.0,
            0.0,
            1.5,
            1.5,
            3.6,
            3.6,
            4.9,
            4.9,
            5.0,
            5.0,
            4.9
           ],
           "y": [
            6.5,
            5.1,
            5.1,
            5.0,
            5.0,
            5.1,
            5.1,
            9.9,
            9.9,
            10.0,
            10.0,
            9.9,
            9.9,
            8.6,
            8.6,
            6.5,
            6.5
           ],
           "type": "scatter"
          },
          {
           "fill": "toself",
           "fillcolor": "rgb(51, 0, 0)",
           "hoverinfo": "name",
           "line": {
            "width": 0
           },
           "mode": "lines",
           "name": "Risk Area",
           "showlegend": false,
           "x": [
            1.5,
            0.0,
            0.0,
            4.9,
            4.9,
            5.0,
            5.0,
            4.9,
            4.9,
            3.6,
            3.6,
            1.5,
            1.5
           ],
           "y": [
            10.1,
            10.1,
            15.0,
            15.0,
            13.6,
            13.6,
            11.5,
            11.5,
            10.1,
            10.1,
            10.0,
            10.0,
            10.1
           ],
           "type": "scatter"
          },
          {
           "fill": "toself",
           "fillcolor": "rgb(153, 0, 0)",
           "hoverinfo": "name",
           "line": {
            "width": 0
           },
           "mode": "lines",
           "name": "Risk Area",
           "showlegend": false,
           "x": [
            6.4,
            5.1,
            5.1,
            5.0,
            5.0,
            5.1,
            5.1,
            9.9,
            9.9,
            10.0,
            10.0,
            9.9,
            9.9,
            8.6,
            8.6,
            6.4,
            6.4
           ],
           "y": [
            10.1,
            10.1,
            11.5,
            11.5,
            13.6,
            13.6,
            15.0,
            15.0,
            13.6,
            13.6,
            11.5,
            11.5,
            10.1,
            10.1,
            10.0,
            10.0,
            10.1
           ],
           "type": "scatter"
          },
          {
           "fill": "toself",
           "fillcolor": "rgb(51, 0, 0)",
           "hoverinfo": "name",
           "line": {
            "width": 0
           },
           "mode": "lines",
           "name": "Risk Area",
           "showlegend": false,
           "x": [
            10.1,
            10.1,
            15.0,
            15.0,
            13.6,
            13.6,
            11.5,
            11.5,
            10.1,
            10.1,
            10.0,
            10.0,
            10.1
           ],
           "y": [
            13.6,
            15.0,
            15.0,
            10.1,
            10.1,
            10.0,
            10.0,
            10.1,
            10.1,
            11.5,
            11.5,
            13.6,
            13.6
           ],
           "type": "scatter"
          },
          {
           "hoverinfo": "text",
           "marker": {
            "opacity": 1,
            "size": 1
           },
           "mode": "markers",
           "showlegend": false,
           "text": [
            "ID: 12.0, Pos(12.12,13.71)"
           ],
           "x": [
            12.116465098201767
           ],
           "y": [
            13.706496443586998
           ],
           "type": "scatter"
          },
          {
           "hoverinfo": "text",
           "marker": {
            "opacity": 1,
            "size": 1
           },
           "mode": "markers",
           "showlegend": false,
           "text": [
            "ID: 13.0, Pos(9.81,12.95)"
           ],
           "x": [
            9.80511674278997
           ],
           "y": [
            12.949410176525193
           ],
           "type": "scatter"
          },
          {
           "hoverinfo": "text",
           "marker": {
            "opacity": 1,
            "size": 1
           },
           "mode": "markers",
           "showlegend": false,
           "text": [
            "ID: 18.0, Pos(12.14,13.04)"
           ],
           "x": [
            12.13984591256048
           ],
           "y": [
            13.036566315729708
           ],
           "type": "scatter"
          },
          {
           "hoverinfo": "text",
           "marker": {
            "opacity": 1,
            "size": 1
           },
           "mode": "markers",
           "showlegend": false,
           "text": [
            "ID: 20.0, Pos(10.96,13.19)"
           ],
           "x": [
            10.963747606784011
           ],
           "y": [
            13.186721478746126
           ],
           "type": "scatter"
          },
          {
           "hoverinfo": "none",
           "marker": {
            "opacity": 0,
            "size": 1
           },
           "mode": "markers",
           "showlegend": false,
           "x": [
            0.0
           ],
           "y": [
            0.0
           ],
           "type": "scatter"
          },
          {
           "hoverinfo": "none",
           "marker": {
            "opacity": 0,
            "size": 1
           },
           "mode": "markers",
           "showlegend": false,
           "x": [
            0.0
           ],
           "y": [
            0.0
           ],
           "type": "scatter"
          },
          {
           "hoverinfo": "none",
           "marker": {
            "opacity": 0,
            "size": 1
           },
           "mode": "markers",
           "showlegend": false,
           "x": [
            0.0
           ],
           "y": [
            0.0
           ],
           "type": "scatter"
          },
          {
           "hoverinfo": "none",
           "marker": {
            "opacity": 0,
            "size": 1
           },
           "mode": "markers",
           "showlegend": false,
           "x": [
            0.0
           ],
           "y": [
            0.0
           ],
           "type": "scatter"
          },
          {
           "hoverinfo": "none",
           "marker": {
            "opacity": 0,
            "size": 1
           },
           "mode": "markers",
           "showlegend": false,
           "x": [
            0.0
           ],
           "y": [
            0.0
           ],
           "type": "scatter"
          },
          {
           "hoverinfo": "none",
           "marker": {
            "opacity": 0,
            "size": 1
           },
           "mode": "markers",
           "showlegend": false,
           "x": [
            0.0
           ],
           "y": [
            0.0
           ],
           "type": "scatter"
          }
         ],
         "layout": {
          "shapes": [
           {
            "fillcolor": "rgba(0, 0, 128, 0.5)",
            "line": {
             "color": "rgba(0, 0, 128, 0.5)"
            },
            "type": "circle",
            "x0": 11.916465098201767,
            "x1": 12.316465098201766,
            "xref": "x",
            "y0": 13.506496443586999,
            "y1": 13.906496443586997,
            "yref": "y"
           },
           {
            "fillcolor": "rgba(0, 0, 150, 0.5)",
            "line": {
             "color": "rgba(0, 0, 150, 0.5)"
            },
            "type": "circle",
            "x0": 9.60511674278997,
            "x1": 10.00511674278997,
            "xref": "x",
            "y0": 12.749410176525194,
            "y1": 13.149410176525192,
            "yref": "y"
           },
           {
            "fillcolor": "rgba(0, 0, 128, 0.5)",
            "line": {
             "color": "rgba(0, 0, 128, 0.5)"
            },
            "type": "circle",
            "x0": 11.93984591256048,
            "x1": 12.33984591256048,
            "xref": "x",
            "y0": 12.836566315729709,
            "y1": 13.236566315729707,
            "yref": "y"
           },
           {
            "fillcolor": "rgba(0, 0, 146, 0.5)",
            "line": {
             "color": "rgba(0, 0, 146, 0.5)"
            },
            "type": "circle",
            "x0": 10.763747606784012,
            "x1": 11.16374760678401,
            "xref": "x",
            "y0": 12.986721478746126,
            "y1": 13.386721478746125,
            "yref": "y"
           },
           {
            "fillcolor": "rgba(255,255,255,0)",
            "line": {
             "width": 0
            },
            "type": "circle",
            "x0": 0.0,
            "x1": 0.0,
            "xref": "x",
            "y0": 0.0,
            "y1": 0.0,
            "yref": "y"
           },
           {
            "fillcolor": "rgba(255,255,255,0)",
            "line": {
             "width": 0
            },
            "type": "circle",
            "x0": 0.0,
            "x1": 0.0,
            "xref": "x",
            "y0": 0.0,
            "y1": 0.0,
            "yref": "y"
           },
           {
            "fillcolor": "rgba(255,255,255,0)",
            "line": {
             "width": 0
            },
            "type": "circle",
            "x0": 0.0,
            "x1": 0.0,
            "xref": "x",
            "y0": 0.0,
            "y1": 0.0,
            "yref": "y"
           },
           {
            "fillcolor": "rgba(255,255,255,0)",
            "line": {
             "width": 0
            },
            "type": "circle",
            "x0": 0.0,
            "x1": 0.0,
            "xref": "x",
            "y0": 0.0,
            "y1": 0.0,
            "yref": "y"
           },
           {
            "fillcolor": "rgba(255,255,255,0)",
            "line": {
             "width": 0
            },
            "type": "circle",
            "x0": 0.0,
            "x1": 0.0,
            "xref": "x",
            "y0": 0.0,
            "y1": 0.0,
            "yref": "y"
           },
           {
            "fillcolor": "rgba(255,255,255,0)",
            "line": {
             "width": 0
            },
            "type": "circle",
            "x0": 0.0,
            "x1": 0.0,
            "xref": "x",
            "y0": 0.0,
            "y1": 0.0,
            "yref": "y"
           },
           {
            "line": {
             "color": "white",
             "width": 3
            },
            "type": "line",
            "x0": 12.116465098201767,
            "x1": 12.312494789367207,
            "y0": 13.706496443586998,
            "y1": 13.746149440719394
           },
           {
            "line": {
             "color": "white",
             "width": 3
            },
            "type": "line",
            "x0": 9.80511674278997,
            "x1": 10.001163772689527,
            "y0": 12.949410176525193,
            "y1": 12.98897736075104
           },
           {
            "line": {
             "color": "white",
             "width": 3
            },
            "type": "line",
            "x0": 12.13984591256048,
            "x1": 12.333852618142444,
            "y0": 13.036566315729708,
            "y1": 13.085160535439805
           },
           {
            "line": {
             "color": "white",
             "width": 3
            },
            "type": "line",
            "x0": 10.963747606784011,
            "x1": 11.159772919405645,
            "y0": 13.186721478746126,
            "y1": 13.226396115626514
           },
           {
            "line": {
             "color": "rgba(255,255,255,0)",
             "width": 3
            },
            "type": "line",
            "x0": 0.0,
            "x1": null,
            "y0": 0.0,
            "y1": null
           },
           {
            "line": {
             "color": "rgba(255,255,255,0)",
             "width": 3
            },
            "type": "line",
            "x0": 0.0,
            "x1": null,
            "y0": 0.0,
            "y1": null
           },
           {
            "line": {
             "color": "rgba(255,255,255,0)",
             "width": 3
            },
            "type": "line",
            "x0": 0.0,
            "x1": null,
            "y0": 0.0,
            "y1": null
           },
           {
            "line": {
             "color": "rgba(255,255,255,0)",
             "width": 3
            },
            "type": "line",
            "x0": 0.0,
            "x1": null,
            "y0": 0.0,
            "y1": null
           },
           {
            "line": {
             "color": "rgba(255,255,255,0)",
             "width": 3
            },
            "type": "line",
            "x0": 0.0,
            "x1": null,
            "y0": 0.0,
            "y1": null
           },
           {
            "line": {
             "color": "rgba(255,255,255,0)",
             "width": 3
            },
            "type": "line",
            "x0": 0.0,
            "x1": null,
            "y0": 0.0,
            "y1": null
           }
          ],
          "title": {
           "text": "<b>Percentage using the shortest path: 0%  |  Number of Agents: 4</b>",
           "x": 0.5
          }
         },
         "name": "750"
        },
        {
         "data": [
          {
           "hoverinfo": "name",
           "line": {
            "color": "white"
           },
           "mode": "lines",
           "name": "Exterior",
           "showlegend": false,
           "x": [
            10.1,
            10.1,
            15.0,
            15.0,
            13.6,
            13.6,
            15.0,
            15.0,
            13.6,
            13.6,
            15.0,
            15.0,
            10.1,
            10.1,
            9.9,
            9.9,
            5.1,
            5.1,
            4.9,
            4.9,
            0.0,
            0.0,
            1.5,
            1.5,
            0.0,
            0.0,
            1.5,
            1.5,
            0.0,
            0.0,
            4.9,
            4.9,
            5.1,
            5.1,
            9.9,
            9.9,
            10.1
           ],
           "y": [
            1.5,
            0.0,
            0.0,
            4.9,
            4.9,
            5.1,
            5.1,
            9.9,
            9.9,
            10.1,
            10.1,
            15.0,
            15.0,
            13.6,
            13.6,
            15.0,
            15.0,
            13.6,
            13.6,
            15.0,
            15.0,
            10.1,
            10.1,
            9.9,
            9.9,
            5.1,
            5.1,
            4.9,
            4.9,
            0.0,
            0.0,
            1.5,
            1.5,
            0.0,
            0.0,
            1.5,
            1.5
           ],
           "type": "scatter"
          },
          {
           "hoverinfo": "name",
           "line": {
            "color": "white"
           },
           "mode": "lines",
           "name": "Obstacle",
           "showlegend": false,
           "x": [
            10.1,
            11.5,
            11.5,
            10.1,
            10.1,
            9.9,
            9.9,
            8.6,
            8.6,
            9.9,
            9.9,
            10.1,
            10.1
           ],
           "y": [
            5.1,
            5.1,
            4.9,
            4.9,
            3.6,
            3.6,
            4.9,
            4.9,
            5.1,
            5.1,
            6.5,
            6.5,
            5.1
           ],
           "type": "scatter"
          },
          {
           "hoverinfo": "name",
           "line": {
            "color": "white"
           },
           "mode": "lines",
           "name": "Obstacle",
           "showlegend": false,
           "x": [
            10.1,
            11.5,
            11.5,
            10.1,
            10.1,
            9.9,
            9.9,
            8.6,
            8.6,
            9.9,
            9.9,
            10.1,
            10.1
           ],
           "y": [
            10.1,
            10.1,
            9.9,
            9.9,
            8.6,
            8.6,
            9.9,
            9.9,
            10.1,
            10.1,
            11.5,
            11.5,
            10.1
           ],
           "type": "scatter"
          },
          {
           "hoverinfo": "name",
           "line": {
            "color": "white"
           },
           "mode": "lines",
           "name": "Obstacle",
           "showlegend": false,
           "x": [
            5.1,
            6.4,
            6.4,
            5.1,
            5.1,
            4.9,
            4.9,
            3.6,
            3.6,
            4.9,
            4.9,
            5.1,
            5.1
           ],
           "y": [
            5.1,
            5.1,
            4.9,
            4.9,
            3.6,
            3.6,
            4.9,
            4.9,
            5.1,
            5.1,
            6.5,
            6.5,
            5.1
           ],
           "type": "scatter"
          },
          {
           "hoverinfo": "name",
           "line": {
            "color": "white"
           },
           "mode": "lines",
           "name": "Obstacle",
           "showlegend": false,
           "x": [
            5.1,
            6.4,
            6.4,
            5.1,
            5.1,
            4.9,
            4.9,
            3.6,
            3.6,
            4.9,
            4.9,
            5.1,
            5.1
           ],
           "y": [
            10.1,
            10.1,
            9.9,
            9.9,
            8.6,
            8.6,
            9.9,
            9.9,
            10.1,
            10.1,
            11.5,
            11.5,
            10.1
           ],
           "type": "scatter"
          },
          {
           "fill": "toself",
           "fillcolor": "rgb(76, 0, 0)",
           "hoverinfo": "name",
           "line": {
            "width": 0
           },
           "mode": "lines",
           "name": "Risk Area",
           "showlegend": false,
           "x": [
            1.5,
            1.5,
            3.6,
            3.6,
            4.9,
            4.9,
            5.0,
            5.0,
            4.9,
            4.9,
            0.0,
            0.0,
            1.5
           ],
           "y": [
            4.9,
            5.0,
            5.0,
            4.9,
            4.9,
            3.6,
            3.6,
            1.5,
            1.5,
            0.0,
            0.0,
            4.9,
            4.9
           ],
           "type": "scatter"
          },
          {
           "fill": "toself",
           "fillcolor": "rgb(153, 0, 0)",
           "hoverinfo": "name",
           "line": {
            "width": 0
           },
           "mode": "lines",
           "name": "Risk Area",
           "showlegend": false,
           "x": [
            9.9,
            9.9,
            5.1,
            5.1,
            5.0,
            5.0,
            5.1,
            5.1,
            6.4,
            6.4,
            8.6,
            8.6,
            9.9,
            9.9,
            10.0,
            10.0,
            9.9
           ],
           "y": [
            1.5,
            0.0,
            0.0,
            1.5,
            1.5,
            3.6,
            3.6,
            4.9,
            4.9,
            5.0,
            5.0,
            4.9,
            4.9,
            3.6,
            3.6,
            1.5,
            1.5
           ],
           "type": "scatter"
          },
          {
           "fill": "toself",
           "fillcolor": "rgb(0, 0, 0)",
           "hoverinfo": "name",
           "line": {
            "width": 0
           },
           "mode": "lines",
           "name": "Risk Area",
           "showlegend": false,
           "x": [
            13.6,
            15.0,
            15.0,
            10.1,
            10.1,
            10.0,
            10.0,
            10.1,
            10.1,
            11.5,
            11.5,
            13.6,
            13.6
           ],
           "y": [
            4.9,
            4.9,
            0.0,
            0.0,
            1.5,
            1.5,
            3.6,
            3.6,
            4.9,
            4.9,
            5.0,
            5.0,
            4.9
           ],
           "type": "scatter"
          },
          {
           "fill": "toself",
           "fillcolor": "rgb(153, 0, 0)",
           "hoverinfo": "name",
           "line": {
            "width": 0
           },
           "mode": "lines",
           "name": "Risk Area",
           "showlegend": false,
           "x": [
            13.6,
            15.0,
            15.0,
            13.6,
            13.6,
            11.5,
            11.5,
            10.1,
            10.1,
            10.0,
            10.0,
            10.1,
            10.1,
            11.5,
            11.5,
            13.6,
            13.6
           ],
           "y": [
            9.9,
            9.9,
            5.1,
            5.1,
            5.0,
            5.0,
            5.1,
            5.1,
            6.5,
            6.5,
            8.6,
            8.6,
            9.9,
            9.9,
            10.0,
            10.0,
            9.9
           ],
           "type": "scatter"
          },
          {
           "fill": "toself",
           "fillcolor": "rgb(204, 0, 0)",
           "hoverinfo": "name",
           "line": {
            "width": 0
           },
           "mode": "lines",
           "name": "Risk Area",
           "showlegend": false,
           "x": [
            9.9,
            9.9,
            8.6,
            8.6,
            6.4,
            6.4,
            5.1,
            5.1,
            5.0,
            5.0,
            5.1,
            5.1,
            6.4,
            6.4,
            8.6,
            8.6,
            9.9,
            9.9,
            10.0,
            10.0,
            9.9
           ],
           "y": [
            6.5,
            5.1,
            5.1,
            5.0,
            5.0,
            5.1,
            5.1,
            6.5,
            6.5,
            8.6,
            8.6,
            9.9,
            9.9,
            10.0,
            10.0,
            9.9,
            9.9,
            8.6,
            8.6,
            6.5,
            6.5
           ],
           "type": "scatter"
          },
          {
           "fill": "toself",
           "fillcolor": "rgb(51, 0, 0)",
           "hoverinfo": "name",
           "line": {
            "width": 0
           },
           "mode": "lines",
           "name": "Risk Area",
           "showlegend": false,
           "x": [
            4.9,
            4.9,
            3.6,
            3.6,
            1.5,
            1.5,
            0.0,
            0.0,
            1.5,
            1.5,
            3.6,
            3.6,
            4.9,
            4.9,
            5.0,
            5.0,
            4.9
           ],
           "y": [
            6.5,
            5.1,
            5.1,
            5.0,
            5.0,
            5.1,
            5.1,
            9.9,
            9.9,
            10.0,
            10.0,
            9.9,
            9.9,
            8.6,
            8.6,
            6.5,
            6.5
           ],
           "type": "scatter"
          },
          {
           "fill": "toself",
           "fillcolor": "rgb(51, 0, 0)",
           "hoverinfo": "name",
           "line": {
            "width": 0
           },
           "mode": "lines",
           "name": "Risk Area",
           "showlegend": false,
           "x": [
            1.5,
            0.0,
            0.0,
            4.9,
            4.9,
            5.0,
            5.0,
            4.9,
            4.9,
            3.6,
            3.6,
            1.5,
            1.5
           ],
           "y": [
            10.1,
            10.1,
            15.0,
            15.0,
            13.6,
            13.6,
            11.5,
            11.5,
            10.1,
            10.1,
            10.0,
            10.0,
            10.1
           ],
           "type": "scatter"
          },
          {
           "fill": "toself",
           "fillcolor": "rgb(153, 0, 0)",
           "hoverinfo": "name",
           "line": {
            "width": 0
           },
           "mode": "lines",
           "name": "Risk Area",
           "showlegend": false,
           "x": [
            6.4,
            5.1,
            5.1,
            5.0,
            5.0,
            5.1,
            5.1,
            9.9,
            9.9,
            10.0,
            10.0,
            9.9,
            9.9,
            8.6,
            8.6,
            6.4,
            6.4
           ],
           "y": [
            10.1,
            10.1,
            11.5,
            11.5,
            13.6,
            13.6,
            15.0,
            15.0,
            13.6,
            13.6,
            11.5,
            11.5,
            10.1,
            10.1,
            10.0,
            10.0,
            10.1
           ],
           "type": "scatter"
          },
          {
           "fill": "toself",
           "fillcolor": "rgb(51, 0, 0)",
           "hoverinfo": "name",
           "line": {
            "width": 0
           },
           "mode": "lines",
           "name": "Risk Area",
           "showlegend": false,
           "x": [
            10.1,
            10.1,
            15.0,
            15.0,
            13.6,
            13.6,
            11.5,
            11.5,
            10.1,
            10.1,
            10.0,
            10.0,
            10.1
           ],
           "y": [
            13.6,
            15.0,
            15.0,
            10.1,
            10.1,
            10.0,
            10.0,
            10.1,
            10.1,
            11.5,
            11.5,
            13.6,
            13.6
           ],
           "type": "scatter"
          },
          {
           "hoverinfo": "text",
           "marker": {
            "opacity": 1,
            "size": 1
           },
           "mode": "markers",
           "showlegend": false,
           "text": [
            "ID: 13.0, Pos(11.35,13.26)"
           ],
           "x": [
            11.353337202548772
           ],
           "y": [
            13.261804158324273
           ],
           "type": "scatter"
          },
          {
           "hoverinfo": "none",
           "marker": {
            "opacity": 0,
            "size": 1
           },
           "mode": "markers",
           "showlegend": false,
           "x": [
            0.0
           ],
           "y": [
            0.0
           ],
           "type": "scatter"
          },
          {
           "hoverinfo": "none",
           "marker": {
            "opacity": 0,
            "size": 1
           },
           "mode": "markers",
           "showlegend": false,
           "x": [
            0.0
           ],
           "y": [
            0.0
           ],
           "type": "scatter"
          },
          {
           "hoverinfo": "none",
           "marker": {
            "opacity": 0,
            "size": 1
           },
           "mode": "markers",
           "showlegend": false,
           "x": [
            0.0
           ],
           "y": [
            0.0
           ],
           "type": "scatter"
          },
          {
           "hoverinfo": "none",
           "marker": {
            "opacity": 0,
            "size": 1
           },
           "mode": "markers",
           "showlegend": false,
           "x": [
            0.0
           ],
           "y": [
            0.0
           ],
           "type": "scatter"
          },
          {
           "hoverinfo": "none",
           "marker": {
            "opacity": 0,
            "size": 1
           },
           "mode": "markers",
           "showlegend": false,
           "x": [
            0.0
           ],
           "y": [
            0.0
           ],
           "type": "scatter"
          },
          {
           "hoverinfo": "none",
           "marker": {
            "opacity": 0,
            "size": 1
           },
           "mode": "markers",
           "showlegend": false,
           "x": [
            0.0
           ],
           "y": [
            0.0
           ],
           "type": "scatter"
          },
          {
           "hoverinfo": "none",
           "marker": {
            "opacity": 0,
            "size": 1
           },
           "mode": "markers",
           "showlegend": false,
           "x": [
            0.0
           ],
           "y": [
            0.0
           ],
           "type": "scatter"
          },
          {
           "hoverinfo": "none",
           "marker": {
            "opacity": 0,
            "size": 1
           },
           "mode": "markers",
           "showlegend": false,
           "x": [
            0.0
           ],
           "y": [
            0.0
           ],
           "type": "scatter"
          },
          {
           "hoverinfo": "none",
           "marker": {
            "opacity": 0,
            "size": 1
           },
           "mode": "markers",
           "showlegend": false,
           "x": [
            0.0
           ],
           "y": [
            0.0
           ],
           "type": "scatter"
          }
         ],
         "layout": {
          "shapes": [
           {
            "fillcolor": "rgba(0, 0, 128, 0.5)",
            "line": {
             "color": "rgba(0, 0, 128, 0.5)"
            },
            "type": "circle",
            "x0": 11.153337202548773,
            "x1": 11.553337202548772,
            "xref": "x",
            "y0": 13.061804158324273,
            "y1": 13.461804158324272,
            "yref": "y"
           },
           {
            "fillcolor": "rgba(255,255,255,0)",
            "line": {
             "width": 0
            },
            "type": "circle",
            "x0": 0.0,
            "x1": 0.0,
            "xref": "x",
            "y0": 0.0,
            "y1": 0.0,
            "yref": "y"
           },
           {
            "fillcolor": "rgba(255,255,255,0)",
            "line": {
             "width": 0
            },
            "type": "circle",
            "x0": 0.0,
            "x1": 0.0,
            "xref": "x",
            "y0": 0.0,
            "y1": 0.0,
            "yref": "y"
           },
           {
            "fillcolor": "rgba(255,255,255,0)",
            "line": {
             "width": 0
            },
            "type": "circle",
            "x0": 0.0,
            "x1": 0.0,
            "xref": "x",
            "y0": 0.0,
            "y1": 0.0,
            "yref": "y"
           },
           {
            "fillcolor": "rgba(255,255,255,0)",
            "line": {
             "width": 0
            },
            "type": "circle",
            "x0": 0.0,
            "x1": 0.0,
            "xref": "x",
            "y0": 0.0,
            "y1": 0.0,
            "yref": "y"
           },
           {
            "fillcolor": "rgba(255,255,255,0)",
            "line": {
             "width": 0
            },
            "type": "circle",
            "x0": 0.0,
            "x1": 0.0,
            "xref": "x",
            "y0": 0.0,
            "y1": 0.0,
            "yref": "y"
           },
           {
            "fillcolor": "rgba(255,255,255,0)",
            "line": {
             "width": 0
            },
            "type": "circle",
            "x0": 0.0,
            "x1": 0.0,
            "xref": "x",
            "y0": 0.0,
            "y1": 0.0,
            "yref": "y"
           },
           {
            "fillcolor": "rgba(255,255,255,0)",
            "line": {
             "width": 0
            },
            "type": "circle",
            "x0": 0.0,
            "x1": 0.0,
            "xref": "x",
            "y0": 0.0,
            "y1": 0.0,
            "yref": "y"
           },
           {
            "fillcolor": "rgba(255,255,255,0)",
            "line": {
             "width": 0
            },
            "type": "circle",
            "x0": 0.0,
            "x1": 0.0,
            "xref": "x",
            "y0": 0.0,
            "y1": 0.0,
            "yref": "y"
           },
           {
            "fillcolor": "rgba(255,255,255,0)",
            "line": {
             "width": 0
            },
            "type": "circle",
            "x0": 0.0,
            "x1": 0.0,
            "xref": "x",
            "y0": 0.0,
            "y1": 0.0,
            "yref": "y"
           },
           {
            "line": {
             "color": "white",
             "width": 3
            },
            "type": "line",
            "x0": 11.353337202548772,
            "x1": 11.549312724206034,
            "y0": 13.261804158324273,
            "y1": 13.301724014425764
           },
           {
            "line": {
             "color": "rgba(255,255,255,0)",
             "width": 3
            },
            "type": "line",
            "x0": 0.0,
            "x1": null,
            "y0": 0.0,
            "y1": null
           },
           {
            "line": {
             "color": "rgba(255,255,255,0)",
             "width": 3
            },
            "type": "line",
            "x0": 0.0,
            "x1": null,
            "y0": 0.0,
            "y1": null
           },
           {
            "line": {
             "color": "rgba(255,255,255,0)",
             "width": 3
            },
            "type": "line",
            "x0": 0.0,
            "x1": null,
            "y0": 0.0,
            "y1": null
           },
           {
            "line": {
             "color": "rgba(255,255,255,0)",
             "width": 3
            },
            "type": "line",
            "x0": 0.0,
            "x1": null,
            "y0": 0.0,
            "y1": null
           },
           {
            "line": {
             "color": "rgba(255,255,255,0)",
             "width": 3
            },
            "type": "line",
            "x0": 0.0,
            "x1": null,
            "y0": 0.0,
            "y1": null
           },
           {
            "line": {
             "color": "rgba(255,255,255,0)",
             "width": 3
            },
            "type": "line",
            "x0": 0.0,
            "x1": null,
            "y0": 0.0,
            "y1": null
           },
           {
            "line": {
             "color": "rgba(255,255,255,0)",
             "width": 3
            },
            "type": "line",
            "x0": 0.0,
            "x1": null,
            "y0": 0.0,
            "y1": null
           },
           {
            "line": {
             "color": "rgba(255,255,255,0)",
             "width": 3
            },
            "type": "line",
            "x0": 0.0,
            "x1": null,
            "y0": 0.0,
            "y1": null
           },
           {
            "line": {
             "color": "rgba(255,255,255,0)",
             "width": 3
            },
            "type": "line",
            "x0": 0.0,
            "x1": null,
            "y0": 0.0,
            "y1": null
           }
          ],
          "title": {
           "text": "<b>Percentage using the shortest path: 0%  |  Number of Agents: 1</b>",
           "x": 0.5
          }
         },
         "name": "800"
        }
       ],
       "config": {
        "plotlyServerURL": "https://plot.ly"
       }
      },
      "text/html": "<div>                            <div id=\"ee459983-22a1-4b29-bfbc-ea08e5e51f42\" class=\"plotly-graph-div\" style=\"height:800px; width:800px;\"></div>            <script type=\"text/javascript\">                require([\"plotly\"], function(Plotly) {                    window.PLOTLYENV=window.PLOTLYENV || {};                                    if (document.getElementById(\"ee459983-22a1-4b29-bfbc-ea08e5e51f42\")) {                    Plotly.newPlot(                        \"ee459983-22a1-4b29-bfbc-ea08e5e51f42\",                        [{\"hoverinfo\":\"name\",\"line\":{\"color\":\"white\"},\"mode\":\"lines\",\"name\":\"Exterior\",\"showlegend\":false,\"x\":[10.1,10.1,15.0,15.0,13.6,13.6,15.0,15.0,13.6,13.6,15.0,15.0,10.1,10.1,9.9,9.9,5.1,5.1,4.9,4.9,0.0,0.0,1.5,1.5,0.0,0.0,1.5,1.5,0.0,0.0,4.9,4.9,5.1,5.1,9.9,9.9,10.1],\"y\":[1.5,0.0,0.0,4.9,4.9,5.1,5.1,9.9,9.9,10.1,10.1,15.0,15.0,13.6,13.6,15.0,15.0,13.6,13.6,15.0,15.0,10.1,10.1,9.9,9.9,5.1,5.1,4.9,4.9,0.0,0.0,1.5,1.5,0.0,0.0,1.5,1.5],\"type\":\"scatter\"},{\"hoverinfo\":\"name\",\"line\":{\"color\":\"white\"},\"mode\":\"lines\",\"name\":\"Obstacle\",\"showlegend\":false,\"x\":[10.1,11.5,11.5,10.1,10.1,9.9,9.9,8.6,8.6,9.9,9.9,10.1,10.1],\"y\":[5.1,5.1,4.9,4.9,3.6,3.6,4.9,4.9,5.1,5.1,6.5,6.5,5.1],\"type\":\"scatter\"},{\"hoverinfo\":\"name\",\"line\":{\"color\":\"white\"},\"mode\":\"lines\",\"name\":\"Obstacle\",\"showlegend\":false,\"x\":[10.1,11.5,11.5,10.1,10.1,9.9,9.9,8.6,8.6,9.9,9.9,10.1,10.1],\"y\":[10.1,10.1,9.9,9.9,8.6,8.6,9.9,9.9,10.1,10.1,11.5,11.5,10.1],\"type\":\"scatter\"},{\"hoverinfo\":\"name\",\"line\":{\"color\":\"white\"},\"mode\":\"lines\",\"name\":\"Obstacle\",\"showlegend\":false,\"x\":[5.1,6.4,6.4,5.1,5.1,4.9,4.9,3.6,3.6,4.9,4.9,5.1,5.1],\"y\":[5.1,5.1,4.9,4.9,3.6,3.6,4.9,4.9,5.1,5.1,6.5,6.5,5.1],\"type\":\"scatter\"},{\"hoverinfo\":\"name\",\"line\":{\"color\":\"white\"},\"mode\":\"lines\",\"name\":\"Obstacle\",\"showlegend\":false,\"x\":[5.1,6.4,6.4,5.1,5.1,4.9,4.9,3.6,3.6,4.9,4.9,5.1,5.1],\"y\":[10.1,10.1,9.9,9.9,8.6,8.6,9.9,9.9,10.1,10.1,11.5,11.5,10.1],\"type\":\"scatter\"},{\"fill\":\"toself\",\"fillcolor\":\"rgb(76, 0, 0)\",\"hoverinfo\":\"name\",\"line\":{\"width\":0},\"mode\":\"lines\",\"name\":\"Risk Area\",\"showlegend\":false,\"x\":[1.5,1.5,3.6,3.6,4.9,4.9,5.0,5.0,4.9,4.9,0.0,0.0,1.5],\"y\":[4.9,5.0,5.0,4.9,4.9,3.6,3.6,1.5,1.5,0.0,0.0,4.9,4.9],\"type\":\"scatter\"},{\"fill\":\"toself\",\"fillcolor\":\"rgb(153, 0, 0)\",\"hoverinfo\":\"name\",\"line\":{\"width\":0},\"mode\":\"lines\",\"name\":\"Risk Area\",\"showlegend\":false,\"x\":[9.9,9.9,5.1,5.1,5.0,5.0,5.1,5.1,6.4,6.4,8.6,8.6,9.9,9.9,10.0,10.0,9.9],\"y\":[1.5,0.0,0.0,1.5,1.5,3.6,3.6,4.9,4.9,5.0,5.0,4.9,4.9,3.6,3.6,1.5,1.5],\"type\":\"scatter\"},{\"fill\":\"toself\",\"fillcolor\":\"rgb(0, 0, 0)\",\"hoverinfo\":\"name\",\"line\":{\"width\":0},\"mode\":\"lines\",\"name\":\"Risk Area\",\"showlegend\":false,\"x\":[13.6,15.0,15.0,10.1,10.1,10.0,10.0,10.1,10.1,11.5,11.5,13.6,13.6],\"y\":[4.9,4.9,0.0,0.0,1.5,1.5,3.6,3.6,4.9,4.9,5.0,5.0,4.9],\"type\":\"scatter\"},{\"fill\":\"toself\",\"fillcolor\":\"rgb(153, 0, 0)\",\"hoverinfo\":\"name\",\"line\":{\"width\":0},\"mode\":\"lines\",\"name\":\"Risk Area\",\"showlegend\":false,\"x\":[13.6,15.0,15.0,13.6,13.6,11.5,11.5,10.1,10.1,10.0,10.0,10.1,10.1,11.5,11.5,13.6,13.6],\"y\":[9.9,9.9,5.1,5.1,5.0,5.0,5.1,5.1,6.5,6.5,8.6,8.6,9.9,9.9,10.0,10.0,9.9],\"type\":\"scatter\"},{\"fill\":\"toself\",\"fillcolor\":\"rgb(204, 0, 0)\",\"hoverinfo\":\"name\",\"line\":{\"width\":0},\"mode\":\"lines\",\"name\":\"Risk Area\",\"showlegend\":false,\"x\":[9.9,9.9,8.6,8.6,6.4,6.4,5.1,5.1,5.0,5.0,5.1,5.1,6.4,6.4,8.6,8.6,9.9,9.9,10.0,10.0,9.9],\"y\":[6.5,5.1,5.1,5.0,5.0,5.1,5.1,6.5,6.5,8.6,8.6,9.9,9.9,10.0,10.0,9.9,9.9,8.6,8.6,6.5,6.5],\"type\":\"scatter\"},{\"fill\":\"toself\",\"fillcolor\":\"rgb(51, 0, 0)\",\"hoverinfo\":\"name\",\"line\":{\"width\":0},\"mode\":\"lines\",\"name\":\"Risk Area\",\"showlegend\":false,\"x\":[4.9,4.9,3.6,3.6,1.5,1.5,0.0,0.0,1.5,1.5,3.6,3.6,4.9,4.9,5.0,5.0,4.9],\"y\":[6.5,5.1,5.1,5.0,5.0,5.1,5.1,9.9,9.9,10.0,10.0,9.9,9.9,8.6,8.6,6.5,6.5],\"type\":\"scatter\"},{\"fill\":\"toself\",\"fillcolor\":\"rgb(51, 0, 0)\",\"hoverinfo\":\"name\",\"line\":{\"width\":0},\"mode\":\"lines\",\"name\":\"Risk Area\",\"showlegend\":false,\"x\":[1.5,0.0,0.0,4.9,4.9,5.0,5.0,4.9,4.9,3.6,3.6,1.5,1.5],\"y\":[10.1,10.1,15.0,15.0,13.6,13.6,11.5,11.5,10.1,10.1,10.0,10.0,10.1],\"type\":\"scatter\"},{\"fill\":\"toself\",\"fillcolor\":\"rgb(153, 0, 0)\",\"hoverinfo\":\"name\",\"line\":{\"width\":0},\"mode\":\"lines\",\"name\":\"Risk Area\",\"showlegend\":false,\"x\":[6.4,5.1,5.1,5.0,5.0,5.1,5.1,9.9,9.9,10.0,10.0,9.9,9.9,8.6,8.6,6.4,6.4],\"y\":[10.1,10.1,11.5,11.5,13.6,13.6,15.0,15.0,13.6,13.6,11.5,11.5,10.1,10.1,10.0,10.0,10.1],\"type\":\"scatter\"},{\"fill\":\"toself\",\"fillcolor\":\"rgb(51, 0, 0)\",\"hoverinfo\":\"name\",\"line\":{\"width\":0},\"mode\":\"lines\",\"name\":\"Risk Area\",\"showlegend\":false,\"x\":[10.1,10.1,15.0,15.0,13.6,13.6,11.5,11.5,10.1,10.1,10.0,10.0,10.1],\"y\":[13.6,15.0,15.0,10.1,10.1,10.0,10.0,10.1,10.1,11.5,11.5,13.6,13.6],\"type\":\"scatter\"},{\"hoverinfo\":\"none\",\"marker\":{\"cmax\":0.8000000000000191,\"cmin\":0,\"color\":[0.7999997415062419,0.5075973971098988,0.7998523749829529,0.7988478819166775,0.7992132371410413,0.7249901030431707,0.612802758593313,0.7999999999999988,0.26322573985669484,0.799652812025704],\"colorbar\":{\"title\":{\"text\":\"Speed [m\\u002fs]\"}},\"colorscale\":[[0.0,\"rgb(128,0,0)\"],[0.2,\"rgb(250,0,0)\"],[0.4,\"rgb(255,255,0)\"],[0.6,\"rgb(5,255,255)\"],[0.8,\"rgb(0,60,170)\"],[1.0,\"rgb(0,0,131)\"]],\"size\":[0.4,0.4,0.4,0.4,0.4,0.4,0.4,0.4,0.4,0.4]},\"mode\":\"markers\",\"showlegend\":false,\"text\":[0.7999997415062419,0.5075973971098988,0.7998523749829529,0.7988478819166775,0.7992132371410413,0.7249901030431707,0.612802758593313,0.7999999999999988,0.26322573985669484,0.799652812025704],\"x\":[3.9863327738146737,0.8488279016949318,1.7258968673840784,2.116160882427272,1.692259232863783,1.453767774845684,3.0719865838614573,3.48879726462054,1.7042831428492793,1.7565776142251517],\"y\":[4.268834270066489,1.6370406488593048,1.5962220773638665,3.5204353653542206,2.7972929381969065,3.6607508930614516,4.234745501580994,1.9561046634672852,3.3139640340517103,2.253852105302265],\"type\":\"scatter\"},{\"hoverinfo\":\"none\",\"marker\":{\"cmax\":1,\"cmin\":0,\"color\":[0],\"colorbar\":{\"title\":{\"text\":\"Risk Level\"},\"x\":1.25},\"colorscale\":[[0.0,\"rgb(0, 0, 0)\"],[0.1,\"rgb(25, 0, 0)\"],[0.2,\"rgb(51, 0, 0)\"],[0.3,\"rgb(76, 0, 0)\"],[0.4,\"rgb(102, 0, 0)\"],[0.5,\"rgb(127, 0, 0)\"],[0.6,\"rgb(153, 0, 0)\"],[0.7,\"rgb(178, 0, 0)\"],[0.8,\"rgb(204, 0, 0)\"],[0.9,\"rgb(229, 0, 0)\"],[1.0,\"rgb(255, 0, 0)\"]],\"size\":10},\"mode\":\"markers\",\"showlegend\":false,\"x\":[0],\"y\":[0],\"type\":\"scatter\"},{\"hoverinfo\":\"text\",\"marker\":{\"opacity\":1,\"size\":1},\"mode\":\"markers\",\"showlegend\":false,\"text\":[\"ID: 11, Pos(3.99,4.27)\"],\"x\":[3.9863327738146737],\"y\":[4.268834270066489],\"type\":\"scatter\"},{\"hoverinfo\":\"text\",\"marker\":{\"opacity\":1,\"size\":1},\"mode\":\"markers\",\"showlegend\":false,\"text\":[\"ID: 12, Pos(0.85,1.64)\"],\"x\":[0.8488279016949318],\"y\":[1.6370406488593048],\"type\":\"scatter\"},{\"hoverinfo\":\"text\",\"marker\":{\"opacity\":1,\"size\":1},\"mode\":\"markers\",\"showlegend\":false,\"text\":[\"ID: 13, Pos(1.73,1.60)\"],\"x\":[1.7258968673840784],\"y\":[1.5962220773638665],\"type\":\"scatter\"},{\"hoverinfo\":\"text\",\"marker\":{\"opacity\":1,\"size\":1},\"mode\":\"markers\",\"showlegend\":false,\"text\":[\"ID: 14, Pos(2.12,3.52)\"],\"x\":[2.116160882427272],\"y\":[3.5204353653542206],\"type\":\"scatter\"},{\"hoverinfo\":\"text\",\"marker\":{\"opacity\":1,\"size\":1},\"mode\":\"markers\",\"showlegend\":false,\"text\":[\"ID: 15, Pos(1.69,2.80)\"],\"x\":[1.692259232863783],\"y\":[2.7972929381969065],\"type\":\"scatter\"},{\"hoverinfo\":\"text\",\"marker\":{\"opacity\":1,\"size\":1},\"mode\":\"markers\",\"showlegend\":false,\"text\":[\"ID: 16, Pos(1.45,3.66)\"],\"x\":[1.453767774845684],\"y\":[3.6607508930614516],\"type\":\"scatter\"},{\"hoverinfo\":\"text\",\"marker\":{\"opacity\":1,\"size\":1},\"mode\":\"markers\",\"showlegend\":false,\"text\":[\"ID: 17, Pos(3.07,4.23)\"],\"x\":[3.0719865838614573],\"y\":[4.234745501580994],\"type\":\"scatter\"},{\"hoverinfo\":\"text\",\"marker\":{\"opacity\":1,\"size\":1},\"mode\":\"markers\",\"showlegend\":false,\"text\":[\"ID: 18, Pos(3.49,1.96)\"],\"x\":[3.48879726462054],\"y\":[1.9561046634672852],\"type\":\"scatter\"},{\"hoverinfo\":\"text\",\"marker\":{\"opacity\":1,\"size\":1},\"mode\":\"markers\",\"showlegend\":false,\"text\":[\"ID: 19, Pos(1.70,3.31)\"],\"x\":[1.7042831428492793],\"y\":[3.3139640340517103],\"type\":\"scatter\"},{\"hoverinfo\":\"text\",\"marker\":{\"opacity\":1,\"size\":1},\"mode\":\"markers\",\"showlegend\":false,\"text\":[\"ID: 20, Pos(1.76,2.25)\"],\"x\":[1.7565776142251517],\"y\":[2.253852105302265],\"type\":\"scatter\"}],                        {\"shapes\":[{\"fillcolor\":\"rgba(0, 0, 128, 0.5)\",\"line\":{\"color\":\"rgba(0, 0, 128, 0.5)\"},\"type\":\"circle\",\"x0\":3.7863327738146735,\"x1\":4.186332773814674,\"xref\":\"x\",\"y0\":4.068834270066489,\"y1\":4.468834270066489,\"yref\":\"y\"},{\"fillcolor\":\"rgba(15, 248, 231, 0.5)\",\"line\":{\"color\":\"rgba(15, 248, 231, 0.5)\"},\"type\":\"circle\",\"x0\":0.6488279016949319,\"x1\":1.0488279016949318,\"xref\":\"x\",\"y0\":1.4370406488593048,\"y1\":1.8370406488593047,\"yref\":\"y\"},{\"fillcolor\":\"rgba(0, 0, 128, 0.5)\",\"line\":{\"color\":\"rgba(0, 0, 128, 0.5)\"},\"type\":\"circle\",\"x0\":1.5258968673840785,\"x1\":1.9258968673840784,\"xref\":\"x\",\"y0\":1.3962220773638665,\"y1\":1.7962220773638664,\"yref\":\"y\"},{\"fillcolor\":\"rgba(0, 0, 128, 0.5)\",\"line\":{\"color\":\"rgba(0, 0, 128, 0.5)\"},\"type\":\"circle\",\"x0\":1.916160882427272,\"x1\":2.316160882427272,\"xref\":\"x\",\"y0\":3.3204353653542205,\"y1\":3.720435365354221,\"yref\":\"y\"},{\"fillcolor\":\"rgba(0, 0, 128, 0.5)\",\"line\":{\"color\":\"rgba(0, 0, 128, 0.5)\"},\"type\":\"circle\",\"x0\":1.4922592328637831,\"x1\":1.892259232863783,\"xref\":\"x\",\"y0\":2.5972929381969063,\"y1\":2.9972929381969067,\"yref\":\"y\"},{\"fillcolor\":\"rgba(0, 0, 237, 0.5)\",\"line\":{\"color\":\"rgba(0, 0, 237, 0.5)\"},\"type\":\"circle\",\"x0\":1.2537677748456841,\"x1\":1.653767774845684,\"xref\":\"x\",\"y0\":3.4607508930614514,\"y1\":3.860750893061452,\"yref\":\"y\"},{\"fillcolor\":\"rgba(0, 112, 255, 0.5)\",\"line\":{\"color\":\"rgba(0, 112, 255, 0.5)\"},\"type\":\"circle\",\"x0\":2.871986583861457,\"x1\":3.2719865838614575,\"xref\":\"x\",\"y0\":4.034745501580994,\"y1\":4.434745501580994,\"yref\":\"y\"},{\"fillcolor\":\"rgba(0, 0, 128, 0.5)\",\"line\":{\"color\":\"rgba(0, 0, 128, 0.5)\"},\"type\":\"circle\",\"x0\":3.28879726462054,\"x1\":3.6887972646205403,\"xref\":\"x\",\"y0\":1.7561046634672852,\"y1\":2.156104663467285,\"yref\":\"y\"},{\"fillcolor\":\"rgba(255, 222, 0, 0.5)\",\"line\":{\"color\":\"rgba(255, 222, 0, 0.5)\"},\"type\":\"circle\",\"x0\":1.5042831428492793,\"x1\":1.9042831428492792,\"xref\":\"x\",\"y0\":3.11396403405171,\"y1\":3.5139640340517104,\"yref\":\"y\"},{\"fillcolor\":\"rgba(0, 0, 128, 0.5)\",\"line\":{\"color\":\"rgba(0, 0, 128, 0.5)\"},\"type\":\"circle\",\"x0\":1.5565776142251517,\"x1\":1.9565776142251516,\"xref\":\"x\",\"y0\":2.0538521053022647,\"y1\":2.453852105302265,\"yref\":\"y\"},{\"line\":{\"color\":\"white\",\"width\":3},\"type\":\"line\",\"x0\":3.9863327738146737,\"x1\":3.9863327738146737,\"y0\":4.268834270066489,\"y1\":4.268834270066489},{\"line\":{\"color\":\"black\",\"width\":3},\"type\":\"line\",\"x0\":0.8488279016949318,\"x1\":0.8488279016949318,\"y0\":1.6370406488593048,\"y1\":1.6370406488593048},{\"line\":{\"color\":\"white\",\"width\":3},\"type\":\"line\",\"x0\":1.7258968673840784,\"x1\":1.7258968673840784,\"y0\":1.5962220773638665,\"y1\":1.5962220773638665},{\"line\":{\"color\":\"white\",\"width\":3},\"type\":\"line\",\"x0\":2.116160882427272,\"x1\":2.116160882427272,\"y0\":3.5204353653542206,\"y1\":3.5204353653542206},{\"line\":{\"color\":\"white\",\"width\":3},\"type\":\"line\",\"x0\":1.692259232863783,\"x1\":1.692259232863783,\"y0\":2.7972929381969065,\"y1\":2.7972929381969065},{\"line\":{\"color\":\"white\",\"width\":3},\"type\":\"line\",\"x0\":1.453767774845684,\"x1\":1.453767774845684,\"y0\":3.6607508930614516,\"y1\":3.6607508930614516},{\"line\":{\"color\":\"white\",\"width\":3},\"type\":\"line\",\"x0\":3.0719865838614573,\"x1\":3.0719865838614573,\"y0\":4.234745501580994,\"y1\":4.234745501580994},{\"line\":{\"color\":\"white\",\"width\":3},\"type\":\"line\",\"x0\":3.48879726462054,\"x1\":3.48879726462054,\"y0\":1.9561046634672852,\"y1\":1.9561046634672852},{\"line\":{\"color\":\"black\",\"width\":3},\"type\":\"line\",\"x0\":1.7042831428492793,\"x1\":1.7042831428492793,\"y0\":3.3139640340517103,\"y1\":3.3139640340517103},{\"line\":{\"color\":\"white\",\"width\":3},\"type\":\"line\",\"x0\":1.7565776142251517,\"x1\":1.7565776142251517,\"y0\":2.253852105302265,\"y1\":2.253852105302265}],\"title\":{\"text\":\"\\u003cb\\u003ePercentage using the shortest path: 0%  |  Number of Agents: 10\\u003c\\u002fb\\u003e\",\"x\":0.5},\"template\":{\"data\":{\"histogram2dcontour\":[{\"type\":\"histogram2dcontour\",\"colorbar\":{\"outlinewidth\":0,\"ticks\":\"\"},\"colorscale\":[[0.0,\"#0d0887\"],[0.1111111111111111,\"#46039f\"],[0.2222222222222222,\"#7201a8\"],[0.3333333333333333,\"#9c179e\"],[0.4444444444444444,\"#bd3786\"],[0.5555555555555556,\"#d8576b\"],[0.6666666666666666,\"#ed7953\"],[0.7777777777777778,\"#fb9f3a\"],[0.8888888888888888,\"#fdca26\"],[1.0,\"#f0f921\"]]}],\"choropleth\":[{\"type\":\"choropleth\",\"colorbar\":{\"outlinewidth\":0,\"ticks\":\"\"}}],\"histogram2d\":[{\"type\":\"histogram2d\",\"colorbar\":{\"outlinewidth\":0,\"ticks\":\"\"},\"colorscale\":[[0.0,\"#0d0887\"],[0.1111111111111111,\"#46039f\"],[0.2222222222222222,\"#7201a8\"],[0.3333333333333333,\"#9c179e\"],[0.4444444444444444,\"#bd3786\"],[0.5555555555555556,\"#d8576b\"],[0.6666666666666666,\"#ed7953\"],[0.7777777777777778,\"#fb9f3a\"],[0.8888888888888888,\"#fdca26\"],[1.0,\"#f0f921\"]]}],\"heatmap\":[{\"type\":\"heatmap\",\"colorbar\":{\"outlinewidth\":0,\"ticks\":\"\"},\"colorscale\":[[0.0,\"#0d0887\"],[0.1111111111111111,\"#46039f\"],[0.2222222222222222,\"#7201a8\"],[0.3333333333333333,\"#9c179e\"],[0.4444444444444444,\"#bd3786\"],[0.5555555555555556,\"#d8576b\"],[0.6666666666666666,\"#ed7953\"],[0.7777777777777778,\"#fb9f3a\"],[0.8888888888888888,\"#fdca26\"],[1.0,\"#f0f921\"]]}],\"heatmapgl\":[{\"type\":\"heatmapgl\",\"colorbar\":{\"outlinewidth\":0,\"ticks\":\"\"},\"colorscale\":[[0.0,\"#0d0887\"],[0.1111111111111111,\"#46039f\"],[0.2222222222222222,\"#7201a8\"],[0.3333333333333333,\"#9c179e\"],[0.4444444444444444,\"#bd3786\"],[0.5555555555555556,\"#d8576b\"],[0.6666666666666666,\"#ed7953\"],[0.7777777777777778,\"#fb9f3a\"],[0.8888888888888888,\"#fdca26\"],[1.0,\"#f0f921\"]]}],\"contourcarpet\":[{\"type\":\"contourcarpet\",\"colorbar\":{\"outlinewidth\":0,\"ticks\":\"\"}}],\"contour\":[{\"type\":\"contour\",\"colorbar\":{\"outlinewidth\":0,\"ticks\":\"\"},\"colorscale\":[[0.0,\"#0d0887\"],[0.1111111111111111,\"#46039f\"],[0.2222222222222222,\"#7201a8\"],[0.3333333333333333,\"#9c179e\"],[0.4444444444444444,\"#bd3786\"],[0.5555555555555556,\"#d8576b\"],[0.6666666666666666,\"#ed7953\"],[0.7777777777777778,\"#fb9f3a\"],[0.8888888888888888,\"#fdca26\"],[1.0,\"#f0f921\"]]}],\"surface\":[{\"type\":\"surface\",\"colorbar\":{\"outlinewidth\":0,\"ticks\":\"\"},\"colorscale\":[[0.0,\"#0d0887\"],[0.1111111111111111,\"#46039f\"],[0.2222222222222222,\"#7201a8\"],[0.3333333333333333,\"#9c179e\"],[0.4444444444444444,\"#bd3786\"],[0.5555555555555556,\"#d8576b\"],[0.6666666666666666,\"#ed7953\"],[0.7777777777777778,\"#fb9f3a\"],[0.8888888888888888,\"#fdca26\"],[1.0,\"#f0f921\"]]}],\"mesh3d\":[{\"type\":\"mesh3d\",\"colorbar\":{\"outlinewidth\":0,\"ticks\":\"\"}}],\"scatter\":[{\"marker\":{\"line\":{\"color\":\"#283442\"}},\"type\":\"scatter\"}],\"parcoords\":[{\"type\":\"parcoords\",\"line\":{\"colorbar\":{\"outlinewidth\":0,\"ticks\":\"\"}}}],\"scatterpolargl\":[{\"type\":\"scatterpolargl\",\"marker\":{\"colorbar\":{\"outlinewidth\":0,\"ticks\":\"\"}}}],\"bar\":[{\"error_x\":{\"color\":\"#f2f5fa\"},\"error_y\":{\"color\":\"#f2f5fa\"},\"marker\":{\"line\":{\"color\":\"rgb(17,17,17)\",\"width\":0.5},\"pattern\":{\"fillmode\":\"overlay\",\"size\":10,\"solidity\":0.2}},\"type\":\"bar\"}],\"scattergeo\":[{\"type\":\"scattergeo\",\"marker\":{\"colorbar\":{\"outlinewidth\":0,\"ticks\":\"\"}}}],\"scatterpolar\":[{\"type\":\"scatterpolar\",\"marker\":{\"colorbar\":{\"outlinewidth\":0,\"ticks\":\"\"}}}],\"histogram\":[{\"marker\":{\"pattern\":{\"fillmode\":\"overlay\",\"size\":10,\"solidity\":0.2}},\"type\":\"histogram\"}],\"scattergl\":[{\"marker\":{\"line\":{\"color\":\"#283442\"}},\"type\":\"scattergl\"}],\"scatter3d\":[{\"type\":\"scatter3d\",\"line\":{\"colorbar\":{\"outlinewidth\":0,\"ticks\":\"\"}},\"marker\":{\"colorbar\":{\"outlinewidth\":0,\"ticks\":\"\"}}}],\"scattermapbox\":[{\"type\":\"scattermapbox\",\"marker\":{\"colorbar\":{\"outlinewidth\":0,\"ticks\":\"\"}}}],\"scatterternary\":[{\"type\":\"scatterternary\",\"marker\":{\"colorbar\":{\"outlinewidth\":0,\"ticks\":\"\"}}}],\"scattercarpet\":[{\"type\":\"scattercarpet\",\"marker\":{\"colorbar\":{\"outlinewidth\":0,\"ticks\":\"\"}}}],\"carpet\":[{\"aaxis\":{\"endlinecolor\":\"#A2B1C6\",\"gridcolor\":\"#506784\",\"linecolor\":\"#506784\",\"minorgridcolor\":\"#506784\",\"startlinecolor\":\"#A2B1C6\"},\"baxis\":{\"endlinecolor\":\"#A2B1C6\",\"gridcolor\":\"#506784\",\"linecolor\":\"#506784\",\"minorgridcolor\":\"#506784\",\"startlinecolor\":\"#A2B1C6\"},\"type\":\"carpet\"}],\"table\":[{\"cells\":{\"fill\":{\"color\":\"#506784\"},\"line\":{\"color\":\"rgb(17,17,17)\"}},\"header\":{\"fill\":{\"color\":\"#2a3f5f\"},\"line\":{\"color\":\"rgb(17,17,17)\"}},\"type\":\"table\"}],\"barpolar\":[{\"marker\":{\"line\":{\"color\":\"rgb(17,17,17)\",\"width\":0.5},\"pattern\":{\"fillmode\":\"overlay\",\"size\":10,\"solidity\":0.2}},\"type\":\"barpolar\"}],\"pie\":[{\"automargin\":true,\"type\":\"pie\"}]},\"layout\":{\"autotypenumbers\":\"strict\",\"colorway\":[\"#636efa\",\"#EF553B\",\"#00cc96\",\"#ab63fa\",\"#FFA15A\",\"#19d3f3\",\"#FF6692\",\"#B6E880\",\"#FF97FF\",\"#FECB52\"],\"font\":{\"color\":\"#f2f5fa\"},\"hovermode\":\"closest\",\"hoverlabel\":{\"align\":\"left\"},\"paper_bgcolor\":\"rgb(17,17,17)\",\"plot_bgcolor\":\"rgb(17,17,17)\",\"polar\":{\"bgcolor\":\"rgb(17,17,17)\",\"angularaxis\":{\"gridcolor\":\"#506784\",\"linecolor\":\"#506784\",\"ticks\":\"\"},\"radialaxis\":{\"gridcolor\":\"#506784\",\"linecolor\":\"#506784\",\"ticks\":\"\"}},\"ternary\":{\"bgcolor\":\"rgb(17,17,17)\",\"aaxis\":{\"gridcolor\":\"#506784\",\"linecolor\":\"#506784\",\"ticks\":\"\"},\"baxis\":{\"gridcolor\":\"#506784\",\"linecolor\":\"#506784\",\"ticks\":\"\"},\"caxis\":{\"gridcolor\":\"#506784\",\"linecolor\":\"#506784\",\"ticks\":\"\"}},\"coloraxis\":{\"colorbar\":{\"outlinewidth\":0,\"ticks\":\"\"}},\"colorscale\":{\"sequential\":[[0.0,\"#0d0887\"],[0.1111111111111111,\"#46039f\"],[0.2222222222222222,\"#7201a8\"],[0.3333333333333333,\"#9c179e\"],[0.4444444444444444,\"#bd3786\"],[0.5555555555555556,\"#d8576b\"],[0.6666666666666666,\"#ed7953\"],[0.7777777777777778,\"#fb9f3a\"],[0.8888888888888888,\"#fdca26\"],[1.0,\"#f0f921\"]],\"sequentialminus\":[[0.0,\"#0d0887\"],[0.1111111111111111,\"#46039f\"],[0.2222222222222222,\"#7201a8\"],[0.3333333333333333,\"#9c179e\"],[0.4444444444444444,\"#bd3786\"],[0.5555555555555556,\"#d8576b\"],[0.6666666666666666,\"#ed7953\"],[0.7777777777777778,\"#fb9f3a\"],[0.8888888888888888,\"#fdca26\"],[1.0,\"#f0f921\"]],\"diverging\":[[0,\"#8e0152\"],[0.1,\"#c51b7d\"],[0.2,\"#de77ae\"],[0.3,\"#f1b6da\"],[0.4,\"#fde0ef\"],[0.5,\"#f7f7f7\"],[0.6,\"#e6f5d0\"],[0.7,\"#b8e186\"],[0.8,\"#7fbc41\"],[0.9,\"#4d9221\"],[1,\"#276419\"]]},\"xaxis\":{\"gridcolor\":\"#283442\",\"linecolor\":\"#506784\",\"ticks\":\"\",\"title\":{\"standoff\":15},\"zerolinecolor\":\"#283442\",\"automargin\":true,\"zerolinewidth\":2},\"yaxis\":{\"gridcolor\":\"#283442\",\"linecolor\":\"#506784\",\"ticks\":\"\",\"title\":{\"standoff\":15},\"zerolinecolor\":\"#283442\",\"automargin\":true,\"zerolinewidth\":2},\"scene\":{\"xaxis\":{\"backgroundcolor\":\"rgb(17,17,17)\",\"gridcolor\":\"#506784\",\"linecolor\":\"#506784\",\"showbackground\":true,\"ticks\":\"\",\"zerolinecolor\":\"#C8D4E3\",\"gridwidth\":2},\"yaxis\":{\"backgroundcolor\":\"rgb(17,17,17)\",\"gridcolor\":\"#506784\",\"linecolor\":\"#506784\",\"showbackground\":true,\"ticks\":\"\",\"zerolinecolor\":\"#C8D4E3\",\"gridwidth\":2},\"zaxis\":{\"backgroundcolor\":\"rgb(17,17,17)\",\"gridcolor\":\"#506784\",\"linecolor\":\"#506784\",\"showbackground\":true,\"ticks\":\"\",\"zerolinecolor\":\"#C8D4E3\",\"gridwidth\":2}},\"shapedefaults\":{\"line\":{\"color\":\"#f2f5fa\"}},\"annotationdefaults\":{\"arrowcolor\":\"#f2f5fa\",\"arrowhead\":0,\"arrowwidth\":1},\"geo\":{\"bgcolor\":\"rgb(17,17,17)\",\"landcolor\":\"rgb(17,17,17)\",\"subunitcolor\":\"#506784\",\"showland\":true,\"showlakes\":true,\"lakecolor\":\"rgb(17,17,17)\"},\"title\":{\"x\":0.05},\"updatemenudefaults\":{\"bgcolor\":\"#506784\",\"borderwidth\":0},\"sliderdefaults\":{\"bgcolor\":\"#C8D4E3\",\"borderwidth\":1,\"bordercolor\":\"rgb(17,17,17)\",\"tickwidth\":0},\"mapbox\":{\"style\":\"dark\"}}},\"xaxis\":{\"range\":[-0.5,15.5]},\"yaxis\":{\"scaleanchor\":\"x\",\"scaleratio\":1,\"range\":[-0.5,15.5]},\"updatemenus\":[{\"buttons\":[{\"args\":[null,{\"frame\":{\"duration\":100,\"redraw\":true},\"fromcurrent\":true}],\"label\":\"Play\",\"method\":\"animate\"}],\"direction\":\"left\",\"pad\":{\"r\":10,\"t\":87},\"showactive\":false,\"type\":\"buttons\",\"x\":0.1,\"xanchor\":\"right\",\"y\":0,\"yanchor\":\"top\"}],\"sliders\":[{\"active\":0,\"currentvalue\":{\"font\":{\"size\":20},\"prefix\":\"Frame:\",\"visible\":true,\"xanchor\":\"right\"},\"len\":0.9,\"pad\":{\"b\":10,\"t\":50},\"steps\":[{\"args\":[[\"0\"],{\"frame\":{\"duration\":100,\"redraw\":true},\"mode\":\"immediate\",\"transition\":{\"duration\":500}}],\"label\":\"0\",\"method\":\"animate\"},{\"args\":[[\"50\"],{\"frame\":{\"duration\":100,\"redraw\":true},\"mode\":\"immediate\",\"transition\":{\"duration\":500}}],\"label\":\"50\",\"method\":\"animate\"},{\"args\":[[\"100\"],{\"frame\":{\"duration\":100,\"redraw\":true},\"mode\":\"immediate\",\"transition\":{\"duration\":500}}],\"label\":\"100\",\"method\":\"animate\"},{\"args\":[[\"150\"],{\"frame\":{\"duration\":100,\"redraw\":true},\"mode\":\"immediate\",\"transition\":{\"duration\":500}}],\"label\":\"150\",\"method\":\"animate\"},{\"args\":[[\"200\"],{\"frame\":{\"duration\":100,\"redraw\":true},\"mode\":\"immediate\",\"transition\":{\"duration\":500}}],\"label\":\"200\",\"method\":\"animate\"},{\"args\":[[\"250\"],{\"frame\":{\"duration\":100,\"redraw\":true},\"mode\":\"immediate\",\"transition\":{\"duration\":500}}],\"label\":\"250\",\"method\":\"animate\"},{\"args\":[[\"300\"],{\"frame\":{\"duration\":100,\"redraw\":true},\"mode\":\"immediate\",\"transition\":{\"duration\":500}}],\"label\":\"300\",\"method\":\"animate\"},{\"args\":[[\"350\"],{\"frame\":{\"duration\":100,\"redraw\":true},\"mode\":\"immediate\",\"transition\":{\"duration\":500}}],\"label\":\"350\",\"method\":\"animate\"},{\"args\":[[\"400\"],{\"frame\":{\"duration\":100,\"redraw\":true},\"mode\":\"immediate\",\"transition\":{\"duration\":500}}],\"label\":\"400\",\"method\":\"animate\"},{\"args\":[[\"450\"],{\"frame\":{\"duration\":100,\"redraw\":true},\"mode\":\"immediate\",\"transition\":{\"duration\":500}}],\"label\":\"450\",\"method\":\"animate\"},{\"args\":[[\"500\"],{\"frame\":{\"duration\":100,\"redraw\":true},\"mode\":\"immediate\",\"transition\":{\"duration\":500}}],\"label\":\"500\",\"method\":\"animate\"},{\"args\":[[\"550\"],{\"frame\":{\"duration\":100,\"redraw\":true},\"mode\":\"immediate\",\"transition\":{\"duration\":500}}],\"label\":\"550\",\"method\":\"animate\"},{\"args\":[[\"600\"],{\"frame\":{\"duration\":100,\"redraw\":true},\"mode\":\"immediate\",\"transition\":{\"duration\":500}}],\"label\":\"600\",\"method\":\"animate\"},{\"args\":[[\"650\"],{\"frame\":{\"duration\":100,\"redraw\":true},\"mode\":\"immediate\",\"transition\":{\"duration\":500}}],\"label\":\"650\",\"method\":\"animate\"},{\"args\":[[\"700\"],{\"frame\":{\"duration\":100,\"redraw\":true},\"mode\":\"immediate\",\"transition\":{\"duration\":500}}],\"label\":\"700\",\"method\":\"animate\"},{\"args\":[[\"750\"],{\"frame\":{\"duration\":100,\"redraw\":true},\"mode\":\"immediate\",\"transition\":{\"duration\":500}}],\"label\":\"750\",\"method\":\"animate\"},{\"args\":[[\"800\"],{\"frame\":{\"duration\":100,\"redraw\":true},\"mode\":\"immediate\",\"transition\":{\"duration\":500}}],\"label\":\"800\",\"method\":\"animate\"}],\"transition\":{\"duration\":100,\"easing\":\"cubic-in-out\"},\"x\":0.1,\"xanchor\":\"left\",\"y\":0,\"yanchor\":\"top\"}],\"autosize\":false,\"width\":800,\"height\":800},                        {\"responsive\": true}                    ).then(function(){\n                            Plotly.addFrames('ee459983-22a1-4b29-bfbc-ea08e5e51f42', [{\"data\":[{\"hoverinfo\":\"name\",\"line\":{\"color\":\"white\"},\"mode\":\"lines\",\"name\":\"Exterior\",\"showlegend\":false,\"x\":[10.1,10.1,15.0,15.0,13.6,13.6,15.0,15.0,13.6,13.6,15.0,15.0,10.1,10.1,9.9,9.9,5.1,5.1,4.9,4.9,0.0,0.0,1.5,1.5,0.0,0.0,1.5,1.5,0.0,0.0,4.9,4.9,5.1,5.1,9.9,9.9,10.1],\"y\":[1.5,0.0,0.0,4.9,4.9,5.1,5.1,9.9,9.9,10.1,10.1,15.0,15.0,13.6,13.6,15.0,15.0,13.6,13.6,15.0,15.0,10.1,10.1,9.9,9.9,5.1,5.1,4.9,4.9,0.0,0.0,1.5,1.5,0.0,0.0,1.5,1.5],\"type\":\"scatter\"},{\"hoverinfo\":\"name\",\"line\":{\"color\":\"white\"},\"mode\":\"lines\",\"name\":\"Obstacle\",\"showlegend\":false,\"x\":[10.1,11.5,11.5,10.1,10.1,9.9,9.9,8.6,8.6,9.9,9.9,10.1,10.1],\"y\":[5.1,5.1,4.9,4.9,3.6,3.6,4.9,4.9,5.1,5.1,6.5,6.5,5.1],\"type\":\"scatter\"},{\"hoverinfo\":\"name\",\"line\":{\"color\":\"white\"},\"mode\":\"lines\",\"name\":\"Obstacle\",\"showlegend\":false,\"x\":[10.1,11.5,11.5,10.1,10.1,9.9,9.9,8.6,8.6,9.9,9.9,10.1,10.1],\"y\":[10.1,10.1,9.9,9.9,8.6,8.6,9.9,9.9,10.1,10.1,11.5,11.5,10.1],\"type\":\"scatter\"},{\"hoverinfo\":\"name\",\"line\":{\"color\":\"white\"},\"mode\":\"lines\",\"name\":\"Obstacle\",\"showlegend\":false,\"x\":[5.1,6.4,6.4,5.1,5.1,4.9,4.9,3.6,3.6,4.9,4.9,5.1,5.1],\"y\":[5.1,5.1,4.9,4.9,3.6,3.6,4.9,4.9,5.1,5.1,6.5,6.5,5.1],\"type\":\"scatter\"},{\"hoverinfo\":\"name\",\"line\":{\"color\":\"white\"},\"mode\":\"lines\",\"name\":\"Obstacle\",\"showlegend\":false,\"x\":[5.1,6.4,6.4,5.1,5.1,4.9,4.9,3.6,3.6,4.9,4.9,5.1,5.1],\"y\":[10.1,10.1,9.9,9.9,8.6,8.6,9.9,9.9,10.1,10.1,11.5,11.5,10.1],\"type\":\"scatter\"},{\"fill\":\"toself\",\"fillcolor\":\"rgb(0, 0, 0)\",\"hoverinfo\":\"name\",\"line\":{\"width\":0},\"mode\":\"lines\",\"name\":\"Risk Area\",\"showlegend\":false,\"x\":[1.5,1.5,3.6,3.6,4.9,4.9,5.0,5.0,4.9,4.9,0.0,0.0,1.5],\"y\":[4.9,5.0,5.0,4.9,4.9,3.6,3.6,1.5,1.5,0.0,0.0,4.9,4.9],\"type\":\"scatter\"},{\"fill\":\"toself\",\"fillcolor\":\"rgb(153, 0, 0)\",\"hoverinfo\":\"name\",\"line\":{\"width\":0},\"mode\":\"lines\",\"name\":\"Risk Area\",\"showlegend\":false,\"x\":[9.9,9.9,5.1,5.1,5.0,5.0,5.1,5.1,6.4,6.4,8.6,8.6,9.9,9.9,10.0,10.0,9.9],\"y\":[1.5,0.0,0.0,1.5,1.5,3.6,3.6,4.9,4.9,5.0,5.0,4.9,4.9,3.6,3.6,1.5,1.5],\"type\":\"scatter\"},{\"fill\":\"toself\",\"fillcolor\":\"rgb(0, 0, 0)\",\"hoverinfo\":\"name\",\"line\":{\"width\":0},\"mode\":\"lines\",\"name\":\"Risk Area\",\"showlegend\":false,\"x\":[13.6,15.0,15.0,10.1,10.1,10.0,10.0,10.1,10.1,11.5,11.5,13.6,13.6],\"y\":[4.9,4.9,0.0,0.0,1.5,1.5,3.6,3.6,4.9,4.9,5.0,5.0,4.9],\"type\":\"scatter\"},{\"fill\":\"toself\",\"fillcolor\":\"rgb(153, 0, 0)\",\"hoverinfo\":\"name\",\"line\":{\"width\":0},\"mode\":\"lines\",\"name\":\"Risk Area\",\"showlegend\":false,\"x\":[13.6,15.0,15.0,13.6,13.6,11.5,11.5,10.1,10.1,10.0,10.0,10.1,10.1,11.5,11.5,13.6,13.6],\"y\":[9.9,9.9,5.1,5.1,5.0,5.0,5.1,5.1,6.5,6.5,8.6,8.6,9.9,9.9,10.0,10.0,9.9],\"type\":\"scatter\"},{\"fill\":\"toself\",\"fillcolor\":\"rgb(153, 0, 0)\",\"hoverinfo\":\"name\",\"line\":{\"width\":0},\"mode\":\"lines\",\"name\":\"Risk Area\",\"showlegend\":false,\"x\":[9.9,9.9,8.6,8.6,6.4,6.4,5.1,5.1,5.0,5.0,5.1,5.1,6.4,6.4,8.6,8.6,9.9,9.9,10.0,10.0,9.9],\"y\":[6.5,5.1,5.1,5.0,5.0,5.1,5.1,6.5,6.5,8.6,8.6,9.9,9.9,10.0,10.0,9.9,9.9,8.6,8.6,6.5,6.5],\"type\":\"scatter\"},{\"fill\":\"toself\",\"fillcolor\":\"rgb(25, 0, 0)\",\"hoverinfo\":\"name\",\"line\":{\"width\":0},\"mode\":\"lines\",\"name\":\"Risk Area\",\"showlegend\":false,\"x\":[4.9,4.9,3.6,3.6,1.5,1.5,0.0,0.0,1.5,1.5,3.6,3.6,4.9,4.9,5.0,5.0,4.9],\"y\":[6.5,5.1,5.1,5.0,5.0,5.1,5.1,9.9,9.9,10.0,10.0,9.9,9.9,8.6,8.6,6.5,6.5],\"type\":\"scatter\"},{\"fill\":\"toself\",\"fillcolor\":\"rgb(0, 0, 0)\",\"hoverinfo\":\"name\",\"line\":{\"width\":0},\"mode\":\"lines\",\"name\":\"Risk Area\",\"showlegend\":false,\"x\":[1.5,0.0,0.0,4.9,4.9,5.0,5.0,4.9,4.9,3.6,3.6,1.5,1.5],\"y\":[10.1,10.1,15.0,15.0,13.6,13.6,11.5,11.5,10.1,10.1,10.0,10.0,10.1],\"type\":\"scatter\"},{\"fill\":\"toself\",\"fillcolor\":\"rgb(0, 0, 0)\",\"hoverinfo\":\"name\",\"line\":{\"width\":0},\"mode\":\"lines\",\"name\":\"Risk Area\",\"showlegend\":false,\"x\":[6.4,5.1,5.1,5.0,5.0,5.1,5.1,9.9,9.9,10.0,10.0,9.9,9.9,8.6,8.6,6.4,6.4],\"y\":[10.1,10.1,11.5,11.5,13.6,13.6,15.0,15.0,13.6,13.6,11.5,11.5,10.1,10.1,10.0,10.0,10.1],\"type\":\"scatter\"},{\"fill\":\"toself\",\"fillcolor\":\"rgb(0, 0, 0)\",\"hoverinfo\":\"name\",\"line\":{\"width\":0},\"mode\":\"lines\",\"name\":\"Risk Area\",\"showlegend\":false,\"x\":[10.1,10.1,15.0,15.0,13.6,13.6,11.5,11.5,10.1,10.1,10.0,10.0,10.1],\"y\":[13.6,15.0,15.0,10.1,10.1,10.0,10.0,10.1,10.1,11.5,11.5,13.6,13.6],\"type\":\"scatter\"},{\"hoverinfo\":\"text\",\"marker\":{\"opacity\":1,\"size\":1},\"mode\":\"markers\",\"showlegend\":false,\"text\":[\"ID: 11, Pos(3.99,4.27)\"],\"x\":[3.9863327738146737],\"y\":[4.268834270066489],\"type\":\"scatter\"},{\"hoverinfo\":\"text\",\"marker\":{\"opacity\":1,\"size\":1},\"mode\":\"markers\",\"showlegend\":false,\"text\":[\"ID: 12, Pos(0.85,1.64)\"],\"x\":[0.8488279016949318],\"y\":[1.6370406488593048],\"type\":\"scatter\"},{\"hoverinfo\":\"text\",\"marker\":{\"opacity\":1,\"size\":1},\"mode\":\"markers\",\"showlegend\":false,\"text\":[\"ID: 13, Pos(1.73,1.60)\"],\"x\":[1.7258968673840784],\"y\":[1.5962220773638665],\"type\":\"scatter\"},{\"hoverinfo\":\"text\",\"marker\":{\"opacity\":1,\"size\":1},\"mode\":\"markers\",\"showlegend\":false,\"text\":[\"ID: 14, Pos(2.12,3.52)\"],\"x\":[2.116160882427272],\"y\":[3.5204353653542206],\"type\":\"scatter\"},{\"hoverinfo\":\"text\",\"marker\":{\"opacity\":1,\"size\":1},\"mode\":\"markers\",\"showlegend\":false,\"text\":[\"ID: 15, Pos(1.69,2.80)\"],\"x\":[1.692259232863783],\"y\":[2.7972929381969065],\"type\":\"scatter\"},{\"hoverinfo\":\"text\",\"marker\":{\"opacity\":1,\"size\":1},\"mode\":\"markers\",\"showlegend\":false,\"text\":[\"ID: 16, Pos(1.45,3.66)\"],\"x\":[1.453767774845684],\"y\":[3.6607508930614516],\"type\":\"scatter\"},{\"hoverinfo\":\"text\",\"marker\":{\"opacity\":1,\"size\":1},\"mode\":\"markers\",\"showlegend\":false,\"text\":[\"ID: 17, Pos(3.07,4.23)\"],\"x\":[3.0719865838614573],\"y\":[4.234745501580994],\"type\":\"scatter\"},{\"hoverinfo\":\"text\",\"marker\":{\"opacity\":1,\"size\":1},\"mode\":\"markers\",\"showlegend\":false,\"text\":[\"ID: 18, Pos(3.49,1.96)\"],\"x\":[3.48879726462054],\"y\":[1.9561046634672852],\"type\":\"scatter\"},{\"hoverinfo\":\"text\",\"marker\":{\"opacity\":1,\"size\":1},\"mode\":\"markers\",\"showlegend\":false,\"text\":[\"ID: 19, Pos(1.70,3.31)\"],\"x\":[1.7042831428492793],\"y\":[3.3139640340517103],\"type\":\"scatter\"},{\"hoverinfo\":\"text\",\"marker\":{\"opacity\":1,\"size\":1},\"mode\":\"markers\",\"showlegend\":false,\"text\":[\"ID: 20, Pos(1.76,2.25)\"],\"x\":[1.7565776142251517],\"y\":[2.253852105302265],\"type\":\"scatter\"}],\"layout\":{\"shapes\":[{\"fillcolor\":\"rgba(0, 0, 128, 0.5)\",\"line\":{\"color\":\"rgba(0, 0, 128, 0.5)\"},\"type\":\"circle\",\"x0\":3.7863327738146735,\"x1\":4.186332773814674,\"xref\":\"x\",\"y0\":4.068834270066489,\"y1\":4.468834270066489,\"yref\":\"y\"},{\"fillcolor\":\"rgba(15, 248, 231, 0.5)\",\"line\":{\"color\":\"rgba(15, 248, 231, 0.5)\"},\"type\":\"circle\",\"x0\":0.6488279016949319,\"x1\":1.0488279016949318,\"xref\":\"x\",\"y0\":1.4370406488593048,\"y1\":1.8370406488593047,\"yref\":\"y\"},{\"fillcolor\":\"rgba(0, 0, 128, 0.5)\",\"line\":{\"color\":\"rgba(0, 0, 128, 0.5)\"},\"type\":\"circle\",\"x0\":1.5258968673840785,\"x1\":1.9258968673840784,\"xref\":\"x\",\"y0\":1.3962220773638665,\"y1\":1.7962220773638664,\"yref\":\"y\"},{\"fillcolor\":\"rgba(0, 0, 128, 0.5)\",\"line\":{\"color\":\"rgba(0, 0, 128, 0.5)\"},\"type\":\"circle\",\"x0\":1.916160882427272,\"x1\":2.316160882427272,\"xref\":\"x\",\"y0\":3.3204353653542205,\"y1\":3.720435365354221,\"yref\":\"y\"},{\"fillcolor\":\"rgba(0, 0, 128, 0.5)\",\"line\":{\"color\":\"rgba(0, 0, 128, 0.5)\"},\"type\":\"circle\",\"x0\":1.4922592328637831,\"x1\":1.892259232863783,\"xref\":\"x\",\"y0\":2.5972929381969063,\"y1\":2.9972929381969067,\"yref\":\"y\"},{\"fillcolor\":\"rgba(0, 0, 237, 0.5)\",\"line\":{\"color\":\"rgba(0, 0, 237, 0.5)\"},\"type\":\"circle\",\"x0\":1.2537677748456841,\"x1\":1.653767774845684,\"xref\":\"x\",\"y0\":3.4607508930614514,\"y1\":3.860750893061452,\"yref\":\"y\"},{\"fillcolor\":\"rgba(0, 112, 255, 0.5)\",\"line\":{\"color\":\"rgba(0, 112, 255, 0.5)\"},\"type\":\"circle\",\"x0\":2.871986583861457,\"x1\":3.2719865838614575,\"xref\":\"x\",\"y0\":4.034745501580994,\"y1\":4.434745501580994,\"yref\":\"y\"},{\"fillcolor\":\"rgba(0, 0, 128, 0.5)\",\"line\":{\"color\":\"rgba(0, 0, 128, 0.5)\"},\"type\":\"circle\",\"x0\":3.28879726462054,\"x1\":3.6887972646205403,\"xref\":\"x\",\"y0\":1.7561046634672852,\"y1\":2.156104663467285,\"yref\":\"y\"},{\"fillcolor\":\"rgba(255, 222, 0, 0.5)\",\"line\":{\"color\":\"rgba(255, 222, 0, 0.5)\"},\"type\":\"circle\",\"x0\":1.5042831428492793,\"x1\":1.9042831428492792,\"xref\":\"x\",\"y0\":3.11396403405171,\"y1\":3.5139640340517104,\"yref\":\"y\"},{\"fillcolor\":\"rgba(0, 0, 128, 0.5)\",\"line\":{\"color\":\"rgba(0, 0, 128, 0.5)\"},\"type\":\"circle\",\"x0\":1.5565776142251517,\"x1\":1.9565776142251516,\"xref\":\"x\",\"y0\":2.0538521053022647,\"y1\":2.453852105302265,\"yref\":\"y\"},{\"line\":{\"color\":\"white\",\"width\":3},\"type\":\"line\",\"x0\":3.9863327738146737,\"x1\":3.9863327738146737,\"y0\":4.268834270066489,\"y1\":4.268834270066489},{\"line\":{\"color\":\"black\",\"width\":3},\"type\":\"line\",\"x0\":0.8488279016949318,\"x1\":0.8488279016949318,\"y0\":1.6370406488593048,\"y1\":1.6370406488593048},{\"line\":{\"color\":\"white\",\"width\":3},\"type\":\"line\",\"x0\":1.7258968673840784,\"x1\":1.7258968673840784,\"y0\":1.5962220773638665,\"y1\":1.5962220773638665},{\"line\":{\"color\":\"white\",\"width\":3},\"type\":\"line\",\"x0\":2.116160882427272,\"x1\":2.116160882427272,\"y0\":3.5204353653542206,\"y1\":3.5204353653542206},{\"line\":{\"color\":\"white\",\"width\":3},\"type\":\"line\",\"x0\":1.692259232863783,\"x1\":1.692259232863783,\"y0\":2.7972929381969065,\"y1\":2.7972929381969065},{\"line\":{\"color\":\"white\",\"width\":3},\"type\":\"line\",\"x0\":1.453767774845684,\"x1\":1.453767774845684,\"y0\":3.6607508930614516,\"y1\":3.6607508930614516},{\"line\":{\"color\":\"white\",\"width\":3},\"type\":\"line\",\"x0\":3.0719865838614573,\"x1\":3.0719865838614573,\"y0\":4.234745501580994,\"y1\":4.234745501580994},{\"line\":{\"color\":\"white\",\"width\":3},\"type\":\"line\",\"x0\":3.48879726462054,\"x1\":3.48879726462054,\"y0\":1.9561046634672852,\"y1\":1.9561046634672852},{\"line\":{\"color\":\"black\",\"width\":3},\"type\":\"line\",\"x0\":1.7042831428492793,\"x1\":1.7042831428492793,\"y0\":3.3139640340517103,\"y1\":3.3139640340517103},{\"line\":{\"color\":\"white\",\"width\":3},\"type\":\"line\",\"x0\":1.7565776142251517,\"x1\":1.7565776142251517,\"y0\":2.253852105302265,\"y1\":2.253852105302265}],\"title\":{\"text\":\"\\u003cb\\u003ePercentage using the shortest path: 0%  |  Number of Agents: 10\\u003c\\u002fb\\u003e\",\"x\":0.5}},\"name\":\"0\"},{\"data\":[{\"hoverinfo\":\"name\",\"line\":{\"color\":\"white\"},\"mode\":\"lines\",\"name\":\"Exterior\",\"showlegend\":false,\"x\":[10.1,10.1,15.0,15.0,13.6,13.6,15.0,15.0,13.6,13.6,15.0,15.0,10.1,10.1,9.9,9.9,5.1,5.1,4.9,4.9,0.0,0.0,1.5,1.5,0.0,0.0,1.5,1.5,0.0,0.0,4.9,4.9,5.1,5.1,9.9,9.9,10.1],\"y\":[1.5,0.0,0.0,4.9,4.9,5.1,5.1,9.9,9.9,10.1,10.1,15.0,15.0,13.6,13.6,15.0,15.0,13.6,13.6,15.0,15.0,10.1,10.1,9.9,9.9,5.1,5.1,4.9,4.9,0.0,0.0,1.5,1.5,0.0,0.0,1.5,1.5],\"type\":\"scatter\"},{\"hoverinfo\":\"name\",\"line\":{\"color\":\"white\"},\"mode\":\"lines\",\"name\":\"Obstacle\",\"showlegend\":false,\"x\":[10.1,11.5,11.5,10.1,10.1,9.9,9.9,8.6,8.6,9.9,9.9,10.1,10.1],\"y\":[5.1,5.1,4.9,4.9,3.6,3.6,4.9,4.9,5.1,5.1,6.5,6.5,5.1],\"type\":\"scatter\"},{\"hoverinfo\":\"name\",\"line\":{\"color\":\"white\"},\"mode\":\"lines\",\"name\":\"Obstacle\",\"showlegend\":false,\"x\":[10.1,11.5,11.5,10.1,10.1,9.9,9.9,8.6,8.6,9.9,9.9,10.1,10.1],\"y\":[10.1,10.1,9.9,9.9,8.6,8.6,9.9,9.9,10.1,10.1,11.5,11.5,10.1],\"type\":\"scatter\"},{\"hoverinfo\":\"name\",\"line\":{\"color\":\"white\"},\"mode\":\"lines\",\"name\":\"Obstacle\",\"showlegend\":false,\"x\":[5.1,6.4,6.4,5.1,5.1,4.9,4.9,3.6,3.6,4.9,4.9,5.1,5.1],\"y\":[5.1,5.1,4.9,4.9,3.6,3.6,4.9,4.9,5.1,5.1,6.5,6.5,5.1],\"type\":\"scatter\"},{\"hoverinfo\":\"name\",\"line\":{\"color\":\"white\"},\"mode\":\"lines\",\"name\":\"Obstacle\",\"showlegend\":false,\"x\":[5.1,6.4,6.4,5.1,5.1,4.9,4.9,3.6,3.6,4.9,4.9,5.1,5.1],\"y\":[10.1,10.1,9.9,9.9,8.6,8.6,9.9,9.9,10.1,10.1,11.5,11.5,10.1],\"type\":\"scatter\"},{\"fill\":\"toself\",\"fillcolor\":\"rgb(0, 0, 0)\",\"hoverinfo\":\"name\",\"line\":{\"width\":0},\"mode\":\"lines\",\"name\":\"Risk Area\",\"showlegend\":false,\"x\":[1.5,1.5,3.6,3.6,4.9,4.9,5.0,5.0,4.9,4.9,0.0,0.0,1.5],\"y\":[4.9,5.0,5.0,4.9,4.9,3.6,3.6,1.5,1.5,0.0,0.0,4.9,4.9],\"type\":\"scatter\"},{\"fill\":\"toself\",\"fillcolor\":\"rgb(153, 0, 0)\",\"hoverinfo\":\"name\",\"line\":{\"width\":0},\"mode\":\"lines\",\"name\":\"Risk Area\",\"showlegend\":false,\"x\":[9.9,9.9,5.1,5.1,5.0,5.0,5.1,5.1,6.4,6.4,8.6,8.6,9.9,9.9,10.0,10.0,9.9],\"y\":[1.5,0.0,0.0,1.5,1.5,3.6,3.6,4.9,4.9,5.0,5.0,4.9,4.9,3.6,3.6,1.5,1.5],\"type\":\"scatter\"},{\"fill\":\"toself\",\"fillcolor\":\"rgb(0, 0, 0)\",\"hoverinfo\":\"name\",\"line\":{\"width\":0},\"mode\":\"lines\",\"name\":\"Risk Area\",\"showlegend\":false,\"x\":[13.6,15.0,15.0,10.1,10.1,10.0,10.0,10.1,10.1,11.5,11.5,13.6,13.6],\"y\":[4.9,4.9,0.0,0.0,1.5,1.5,3.6,3.6,4.9,4.9,5.0,5.0,4.9],\"type\":\"scatter\"},{\"fill\":\"toself\",\"fillcolor\":\"rgb(153, 0, 0)\",\"hoverinfo\":\"name\",\"line\":{\"width\":0},\"mode\":\"lines\",\"name\":\"Risk Area\",\"showlegend\":false,\"x\":[13.6,15.0,15.0,13.6,13.6,11.5,11.5,10.1,10.1,10.0,10.0,10.1,10.1,11.5,11.5,13.6,13.6],\"y\":[9.9,9.9,5.1,5.1,5.0,5.0,5.1,5.1,6.5,6.5,8.6,8.6,9.9,9.9,10.0,10.0,9.9],\"type\":\"scatter\"},{\"fill\":\"toself\",\"fillcolor\":\"rgb(153, 0, 0)\",\"hoverinfo\":\"name\",\"line\":{\"width\":0},\"mode\":\"lines\",\"name\":\"Risk Area\",\"showlegend\":false,\"x\":[9.9,9.9,8.6,8.6,6.4,6.4,5.1,5.1,5.0,5.0,5.1,5.1,6.4,6.4,8.6,8.6,9.9,9.9,10.0,10.0,9.9],\"y\":[6.5,5.1,5.1,5.0,5.0,5.1,5.1,6.5,6.5,8.6,8.6,9.9,9.9,10.0,10.0,9.9,9.9,8.6,8.6,6.5,6.5],\"type\":\"scatter\"},{\"fill\":\"toself\",\"fillcolor\":\"rgb(25, 0, 0)\",\"hoverinfo\":\"name\",\"line\":{\"width\":0},\"mode\":\"lines\",\"name\":\"Risk Area\",\"showlegend\":false,\"x\":[4.9,4.9,3.6,3.6,1.5,1.5,0.0,0.0,1.5,1.5,3.6,3.6,4.9,4.9,5.0,5.0,4.9],\"y\":[6.5,5.1,5.1,5.0,5.0,5.1,5.1,9.9,9.9,10.0,10.0,9.9,9.9,8.6,8.6,6.5,6.5],\"type\":\"scatter\"},{\"fill\":\"toself\",\"fillcolor\":\"rgb(0, 0, 0)\",\"hoverinfo\":\"name\",\"line\":{\"width\":0},\"mode\":\"lines\",\"name\":\"Risk Area\",\"showlegend\":false,\"x\":[1.5,0.0,0.0,4.9,4.9,5.0,5.0,4.9,4.9,3.6,3.6,1.5,1.5],\"y\":[10.1,10.1,15.0,15.0,13.6,13.6,11.5,11.5,10.1,10.1,10.0,10.0,10.1],\"type\":\"scatter\"},{\"fill\":\"toself\",\"fillcolor\":\"rgb(51, 0, 0)\",\"hoverinfo\":\"name\",\"line\":{\"width\":0},\"mode\":\"lines\",\"name\":\"Risk Area\",\"showlegend\":false,\"x\":[6.4,5.1,5.1,5.0,5.0,5.1,5.1,9.9,9.9,10.0,10.0,9.9,9.9,8.6,8.6,6.4,6.4],\"y\":[10.1,10.1,11.5,11.5,13.6,13.6,15.0,15.0,13.6,13.6,11.5,11.5,10.1,10.1,10.0,10.0,10.1],\"type\":\"scatter\"},{\"fill\":\"toself\",\"fillcolor\":\"rgb(0, 0, 0)\",\"hoverinfo\":\"name\",\"line\":{\"width\":0},\"mode\":\"lines\",\"name\":\"Risk Area\",\"showlegend\":false,\"x\":[10.1,10.1,15.0,15.0,13.6,13.6,11.5,11.5,10.1,10.1,10.0,10.0,10.1],\"y\":[13.6,15.0,15.0,10.1,10.1,10.0,10.0,10.1,10.1,11.5,11.5,13.6,13.6],\"type\":\"scatter\"},{\"hoverinfo\":\"text\",\"marker\":{\"opacity\":1,\"size\":1},\"mode\":\"markers\",\"showlegend\":false,\"text\":[\"ID: 11, Pos(3.62,4.57)\"],\"x\":[3.624663867004494],\"y\":[4.572942041072394],\"type\":\"scatter\"},{\"hoverinfo\":\"text\",\"marker\":{\"opacity\":1,\"size\":1},\"mode\":\"markers\",\"showlegend\":false,\"text\":[\"ID: 12, Pos(1.37,2.85)\"],\"x\":[1.3726374518931295],\"y\":[2.8458001230525047],\"type\":\"scatter\"},{\"hoverinfo\":\"text\",\"marker\":{\"opacity\":1,\"size\":1},\"mode\":\"markers\",\"showlegend\":false,\"text\":[\"ID: 13, Pos(2.15,1.87)\"],\"x\":[2.1468923029348774],\"y\":[1.868570495335488],\"type\":\"scatter\"},{\"hoverinfo\":\"text\",\"marker\":{\"opacity\":1,\"size\":1},\"mode\":\"markers\",\"showlegend\":false,\"text\":[\"ID: 14, Pos(2.57,4.71)\"],\"x\":[2.5685625821921643],\"y\":[4.709391544762826],\"type\":\"scatter\"},{\"hoverinfo\":\"text\",\"marker\":{\"opacity\":1,\"size\":1},\"mode\":\"markers\",\"showlegend\":false,\"text\":[\"ID: 15, Pos(2.14,3.19)\"],\"x\":[2.135724068214924],\"y\":[3.1861311292691084],\"type\":\"scatter\"},{\"hoverinfo\":\"text\",\"marker\":{\"opacity\":1,\"size\":1},\"mode\":\"markers\",\"showlegend\":false,\"text\":[\"ID: 16, Pos(1.96,5.04)\"],\"x\":[1.960579232601007],\"y\":[5.040717503395859],\"type\":\"scatter\"},{\"hoverinfo\":\"text\",\"marker\":{\"opacity\":1,\"size\":1},\"mode\":\"markers\",\"showlegend\":false,\"text\":[\"ID: 17, Pos(3.03,5.28)\"],\"x\":[3.034440411887453],\"y\":[5.278552531984465],\"type\":\"scatter\"},{\"hoverinfo\":\"text\",\"marker\":{\"opacity\":1,\"size\":1},\"mode\":\"markers\",\"showlegend\":false,\"text\":[\"ID: 18, Pos(3.59,3.17)\"],\"x\":[3.5916390920039114],\"y\":[3.1733961277269316],\"type\":\"scatter\"},{\"hoverinfo\":\"text\",\"marker\":{\"opacity\":1,\"size\":1},\"mode\":\"markers\",\"showlegend\":false,\"text\":[\"ID: 19, Pos(1.89,3.98)\"],\"x\":[1.887176775050277],\"y\":[3.9845793231642537],\"type\":\"scatter\"},{\"hoverinfo\":\"text\",\"marker\":{\"opacity\":1,\"size\":1},\"mode\":\"markers\",\"showlegend\":false,\"text\":[\"ID: 20, Pos(2.19,2.50)\"],\"x\":[2.1870682441532456],\"y\":[2.495098850517011],\"type\":\"scatter\"}],\"layout\":{\"shapes\":[{\"fillcolor\":\"rgba(0, 128, 255, 0.5)\",\"line\":{\"color\":\"rgba(0, 128, 255, 0.5)\"},\"type\":\"circle\",\"x0\":3.4246638670044938,\"x1\":3.824663867004494,\"xref\":\"x\",\"y0\":4.372942041072394,\"y1\":4.772942041072394,\"yref\":\"y\"},{\"fillcolor\":\"rgba(0, 0, 128, 0.5)\",\"line\":{\"color\":\"rgba(0, 0, 128, 0.5)\"},\"type\":\"circle\",\"x0\":1.1726374518931295,\"x1\":1.5726374518931294,\"xref\":\"x\",\"y0\":2.6458001230525046,\"y1\":3.045800123052505,\"yref\":\"y\"},{\"fillcolor\":\"rgba(255, 182, 0, 0.5)\",\"line\":{\"color\":\"rgba(255, 182, 0, 0.5)\"},\"type\":\"circle\",\"x0\":1.9468923029348775,\"x1\":2.3468923029348776,\"xref\":\"x\",\"y0\":1.668570495335488,\"y1\":2.068570495335488,\"yref\":\"y\"},{\"fillcolor\":\"rgba(0, 0, 128, 0.5)\",\"line\":{\"color\":\"rgba(0, 0, 128, 0.5)\"},\"type\":\"circle\",\"x0\":2.368562582192164,\"x1\":2.7685625821921644,\"xref\":\"x\",\"y0\":4.509391544762826,\"y1\":4.909391544762826,\"yref\":\"y\"},{\"fillcolor\":\"rgba(90, 255, 157, 0.5)\",\"line\":{\"color\":\"rgba(90, 255, 157, 0.5)\"},\"type\":\"circle\",\"x0\":1.9357240682149242,\"x1\":2.3357240682149243,\"xref\":\"x\",\"y0\":2.986131129269108,\"y1\":3.3861311292691085,\"yref\":\"y\"},{\"fillcolor\":\"rgba(0, 0, 128, 0.5)\",\"line\":{\"color\":\"rgba(0, 0, 128, 0.5)\"},\"type\":\"circle\",\"x0\":1.760579232601007,\"x1\":2.160579232601007,\"xref\":\"x\",\"y0\":4.840717503395859,\"y1\":5.240717503395859,\"yref\":\"y\"},{\"fillcolor\":\"rgba(0, 0, 128, 0.5)\",\"line\":{\"color\":\"rgba(0, 0, 128, 0.5)\"},\"type\":\"circle\",\"x0\":2.834440411887453,\"x1\":3.2344404118874532,\"xref\":\"x\",\"y0\":5.078552531984465,\"y1\":5.478552531984465,\"yref\":\"y\"},{\"fillcolor\":\"rgba(0, 0, 128, 0.5)\",\"line\":{\"color\":\"rgba(0, 0, 128, 0.5)\"},\"type\":\"circle\",\"x0\":3.3916390920039112,\"x1\":3.7916390920039116,\"xref\":\"x\",\"y0\":2.9733961277269314,\"y1\":3.3733961277269318,\"yref\":\"y\"},{\"fillcolor\":\"rgba(0, 53, 255, 0.5)\",\"line\":{\"color\":\"rgba(0, 53, 255, 0.5)\"},\"type\":\"circle\",\"x0\":1.687176775050277,\"x1\":2.087176775050277,\"xref\":\"x\",\"y0\":3.7845793231642535,\"y1\":4.184579323164254,\"yref\":\"y\"},{\"fillcolor\":\"rgba(238, 255, 9, 0.5)\",\"line\":{\"color\":\"rgba(238, 255, 9, 0.5)\"},\"type\":\"circle\",\"x0\":1.9870682441532457,\"x1\":2.387068244153246,\"xref\":\"x\",\"y0\":2.295098850517011,\"y1\":2.6950988505170113,\"yref\":\"y\"},{\"line\":{\"color\":\"white\",\"width\":3},\"type\":\"line\",\"x0\":3.624663867004494,\"x1\":3.424974445443303,\"y0\":4.572942041072394,\"y1\":4.584083626083376},{\"line\":{\"color\":\"white\",\"width\":3},\"type\":\"line\",\"x0\":1.3726374518931295,\"x1\":1.4105350643284174,\"y0\":2.8458001230525047,\"y1\":3.0421767280025462},{\"line\":{\"color\":\"black\",\"width\":3},\"type\":\"line\",\"x0\":2.1468923029348774,\"x1\":2.1594252159539273,\"y0\":1.868570495335488,\"y1\":2.068177424301536},{\"line\":{\"color\":\"white\",\"width\":3},\"type\":\"line\",\"x0\":2.5685625821921643,\"x1\":2.578214239732299,\"y0\":4.709391544762826,\"y1\":4.909158522781537},{\"line\":{\"color\":\"black\",\"width\":3},\"type\":\"line\",\"x0\":2.135724068214924,\"x1\":2.1558988958439422,\"y0\":3.1861311292691084,\"y1\":3.3851109682733136},{\"line\":{\"color\":\"white\",\"width\":3},\"type\":\"line\",\"x0\":1.960579232601007,\"x1\":1.9910900807831045,\"y0\":5.040717503395859,\"y1\":5.238376523284173},{\"line\":{\"color\":\"white\",\"width\":3},\"type\":\"line\",\"x0\":3.034440411887453,\"x1\":2.9992777218855466,\"y0\":5.278552531984465,\"y1\":5.475437232334263},{\"line\":{\"color\":\"white\",\"width\":3},\"type\":\"line\",\"x0\":3.5916390920039114,\"x1\":3.542722206616879,\"y0\":3.1733961277269316,\"y1\":3.3673217276977243},{\"line\":{\"color\":\"white\",\"width\":3},\"type\":\"line\",\"x0\":1.887176775050277,\"x1\":1.91789447937893,\"y0\":3.9845793231642537,\"y1\":4.182206301688891},{\"line\":{\"color\":\"black\",\"width\":3},\"type\":\"line\",\"x0\":2.1870682441532456,\"x1\":2.2064155038077296,\"y0\":2.495098850517011,\"y1\":2.694160859810251}],\"title\":{\"text\":\"\\u003cb\\u003ePercentage using the shortest path: 0%  |  Number of Agents: 10\\u003c\\u002fb\\u003e\",\"x\":0.5}},\"name\":\"50\"},{\"data\":[{\"hoverinfo\":\"name\",\"line\":{\"color\":\"white\"},\"mode\":\"lines\",\"name\":\"Exterior\",\"showlegend\":false,\"x\":[10.1,10.1,15.0,15.0,13.6,13.6,15.0,15.0,13.6,13.6,15.0,15.0,10.1,10.1,9.9,9.9,5.1,5.1,4.9,4.9,0.0,0.0,1.5,1.5,0.0,0.0,1.5,1.5,0.0,0.0,4.9,4.9,5.1,5.1,9.9,9.9,10.1],\"y\":[1.5,0.0,0.0,4.9,4.9,5.1,5.1,9.9,9.9,10.1,10.1,15.0,15.0,13.6,13.6,15.0,15.0,13.6,13.6,15.0,15.0,10.1,10.1,9.9,9.9,5.1,5.1,4.9,4.9,0.0,0.0,1.5,1.5,0.0,0.0,1.5,1.5],\"type\":\"scatter\"},{\"hoverinfo\":\"name\",\"line\":{\"color\":\"white\"},\"mode\":\"lines\",\"name\":\"Obstacle\",\"showlegend\":false,\"x\":[10.1,11.5,11.5,10.1,10.1,9.9,9.9,8.6,8.6,9.9,9.9,10.1,10.1],\"y\":[5.1,5.1,4.9,4.9,3.6,3.6,4.9,4.9,5.1,5.1,6.5,6.5,5.1],\"type\":\"scatter\"},{\"hoverinfo\":\"name\",\"line\":{\"color\":\"white\"},\"mode\":\"lines\",\"name\":\"Obstacle\",\"showlegend\":false,\"x\":[10.1,11.5,11.5,10.1,10.1,9.9,9.9,8.6,8.6,9.9,9.9,10.1,10.1],\"y\":[10.1,10.1,9.9,9.9,8.6,8.6,9.9,9.9,10.1,10.1,11.5,11.5,10.1],\"type\":\"scatter\"},{\"hoverinfo\":\"name\",\"line\":{\"color\":\"white\"},\"mode\":\"lines\",\"name\":\"Obstacle\",\"showlegend\":false,\"x\":[5.1,6.4,6.4,5.1,5.1,4.9,4.9,3.6,3.6,4.9,4.9,5.1,5.1],\"y\":[5.1,5.1,4.9,4.9,3.6,3.6,4.9,4.9,5.1,5.1,6.5,6.5,5.1],\"type\":\"scatter\"},{\"hoverinfo\":\"name\",\"line\":{\"color\":\"white\"},\"mode\":\"lines\",\"name\":\"Obstacle\",\"showlegend\":false,\"x\":[5.1,6.4,6.4,5.1,5.1,4.9,4.9,3.6,3.6,4.9,4.9,5.1,5.1],\"y\":[10.1,10.1,9.9,9.9,8.6,8.6,9.9,9.9,10.1,10.1,11.5,11.5,10.1],\"type\":\"scatter\"},{\"fill\":\"toself\",\"fillcolor\":\"rgb(0, 0, 0)\",\"hoverinfo\":\"name\",\"line\":{\"width\":0},\"mode\":\"lines\",\"name\":\"Risk Area\",\"showlegend\":false,\"x\":[1.5,1.5,3.6,3.6,4.9,4.9,5.0,5.0,4.9,4.9,0.0,0.0,1.5],\"y\":[4.9,5.0,5.0,4.9,4.9,3.6,3.6,1.5,1.5,0.0,0.0,4.9,4.9],\"type\":\"scatter\"},{\"fill\":\"toself\",\"fillcolor\":\"rgb(153, 0, 0)\",\"hoverinfo\":\"name\",\"line\":{\"width\":0},\"mode\":\"lines\",\"name\":\"Risk Area\",\"showlegend\":false,\"x\":[9.9,9.9,5.1,5.1,5.0,5.0,5.1,5.1,6.4,6.4,8.6,8.6,9.9,9.9,10.0,10.0,9.9],\"y\":[1.5,0.0,0.0,1.5,1.5,3.6,3.6,4.9,4.9,5.0,5.0,4.9,4.9,3.6,3.6,1.5,1.5],\"type\":\"scatter\"},{\"fill\":\"toself\",\"fillcolor\":\"rgb(0, 0, 0)\",\"hoverinfo\":\"name\",\"line\":{\"width\":0},\"mode\":\"lines\",\"name\":\"Risk Area\",\"showlegend\":false,\"x\":[13.6,15.0,15.0,10.1,10.1,10.0,10.0,10.1,10.1,11.5,11.5,13.6,13.6],\"y\":[4.9,4.9,0.0,0.0,1.5,1.5,3.6,3.6,4.9,4.9,5.0,5.0,4.9],\"type\":\"scatter\"},{\"fill\":\"toself\",\"fillcolor\":\"rgb(153, 0, 0)\",\"hoverinfo\":\"name\",\"line\":{\"width\":0},\"mode\":\"lines\",\"name\":\"Risk Area\",\"showlegend\":false,\"x\":[13.6,15.0,15.0,13.6,13.6,11.5,11.5,10.1,10.1,10.0,10.0,10.1,10.1,11.5,11.5,13.6,13.6],\"y\":[9.9,9.9,5.1,5.1,5.0,5.0,5.1,5.1,6.5,6.5,8.6,8.6,9.9,9.9,10.0,10.0,9.9],\"type\":\"scatter\"},{\"fill\":\"toself\",\"fillcolor\":\"rgb(153, 0, 0)\",\"hoverinfo\":\"name\",\"line\":{\"width\":0},\"mode\":\"lines\",\"name\":\"Risk Area\",\"showlegend\":false,\"x\":[9.9,9.9,8.6,8.6,6.4,6.4,5.1,5.1,5.0,5.0,5.1,5.1,6.4,6.4,8.6,8.6,9.9,9.9,10.0,10.0,9.9],\"y\":[6.5,5.1,5.1,5.0,5.0,5.1,5.1,6.5,6.5,8.6,8.6,9.9,9.9,10.0,10.0,9.9,9.9,8.6,8.6,6.5,6.5],\"type\":\"scatter\"},{\"fill\":\"toself\",\"fillcolor\":\"rgb(25, 0, 0)\",\"hoverinfo\":\"name\",\"line\":{\"width\":0},\"mode\":\"lines\",\"name\":\"Risk Area\",\"showlegend\":false,\"x\":[4.9,4.9,3.6,3.6,1.5,1.5,0.0,0.0,1.5,1.5,3.6,3.6,4.9,4.9,5.0,5.0,4.9],\"y\":[6.5,5.1,5.1,5.0,5.0,5.1,5.1,9.9,9.9,10.0,10.0,9.9,9.9,8.6,8.6,6.5,6.5],\"type\":\"scatter\"},{\"fill\":\"toself\",\"fillcolor\":\"rgb(0, 0, 0)\",\"hoverinfo\":\"name\",\"line\":{\"width\":0},\"mode\":\"lines\",\"name\":\"Risk Area\",\"showlegend\":false,\"x\":[1.5,0.0,0.0,4.9,4.9,5.0,5.0,4.9,4.9,3.6,3.6,1.5,1.5],\"y\":[10.1,10.1,15.0,15.0,13.6,13.6,11.5,11.5,10.1,10.1,10.0,10.0,10.1],\"type\":\"scatter\"},{\"fill\":\"toself\",\"fillcolor\":\"rgb(51, 0, 0)\",\"hoverinfo\":\"name\",\"line\":{\"width\":0},\"mode\":\"lines\",\"name\":\"Risk Area\",\"showlegend\":false,\"x\":[6.4,5.1,5.1,5.0,5.0,5.1,5.1,9.9,9.9,10.0,10.0,9.9,9.9,8.6,8.6,6.4,6.4],\"y\":[10.1,10.1,11.5,11.5,13.6,13.6,15.0,15.0,13.6,13.6,11.5,11.5,10.1,10.1,10.0,10.0,10.1],\"type\":\"scatter\"},{\"fill\":\"toself\",\"fillcolor\":\"rgb(0, 0, 0)\",\"hoverinfo\":\"name\",\"line\":{\"width\":0},\"mode\":\"lines\",\"name\":\"Risk Area\",\"showlegend\":false,\"x\":[10.1,10.1,15.0,15.0,13.6,13.6,11.5,11.5,10.1,10.1,10.0,10.0,10.1],\"y\":[13.6,15.0,15.0,10.1,10.1,10.0,10.0,10.1,10.1,11.5,11.5,13.6,13.6],\"type\":\"scatter\"},{\"hoverinfo\":\"text\",\"marker\":{\"opacity\":1,\"size\":1},\"mode\":\"markers\",\"showlegend\":false,\"text\":[\"ID: 11, Pos(3.10,5.17)\"],\"x\":[3.1026552191555368],\"y\":[5.168661575786402],\"type\":\"scatter\"},{\"hoverinfo\":\"text\",\"marker\":{\"opacity\":1,\"size\":1},\"mode\":\"markers\",\"showlegend\":false,\"text\":[\"ID: 12, Pos(1.62,4.38)\"],\"x\":[1.616950958507311],\"y\":[4.382105284673975],\"type\":\"scatter\"},{\"hoverinfo\":\"text\",\"marker\":{\"opacity\":1,\"size\":1},\"mode\":\"markers\",\"showlegend\":false,\"text\":[\"ID: 13, Pos(2.19,2.53)\"],\"x\":[2.1876527661875698],\"y\":[2.5265277836263325],\"type\":\"scatter\"},{\"hoverinfo\":\"text\",\"marker\":{\"opacity\":1,\"size\":1},\"mode\":\"markers\",\"showlegend\":false,\"text\":[\"ID: 14, Pos(2.60,5.82)\"],\"x\":[2.600331519603923],\"y\":[5.820774304637576],\"type\":\"scatter\"},{\"hoverinfo\":\"text\",\"marker\":{\"opacity\":1,\"size\":1},\"mode\":\"markers\",\"showlegend\":false,\"text\":[\"ID: 15, Pos(2.33,4.41)\"],\"x\":[2.33350418913301],\"y\":[4.41115865321033],\"type\":\"scatter\"},{\"hoverinfo\":\"text\",\"marker\":{\"opacity\":1,\"size\":1},\"mode\":\"markers\",\"showlegend\":false,\"text\":[\"ID: 16, Pos(2.12,6.63)\"],\"x\":[2.116749818880267],\"y\":[6.628476473807076],\"type\":\"scatter\"},{\"hoverinfo\":\"text\",\"marker\":{\"opacity\":1,\"size\":1},\"mode\":\"markers\",\"showlegend\":false,\"text\":[\"ID: 17, Pos(2.87,6.86)\"],\"x\":[2.870267920081498],\"y\":[6.863428694580823],\"type\":\"scatter\"},{\"hoverinfo\":\"text\",\"marker\":{\"opacity\":1,\"size\":1},\"mode\":\"markers\",\"showlegend\":false,\"text\":[\"ID: 18, Pos(3.30,4.34)\"],\"x\":[3.2988898698511058],\"y\":[4.338910861257535],\"type\":\"scatter\"},{\"hoverinfo\":\"text\",\"marker\":{\"opacity\":1,\"size\":1},\"mode\":\"markers\",\"showlegend\":false,\"text\":[\"ID: 19, Pos(2.07,5.45)\"],\"x\":[2.068101577021166],\"y\":[5.449233639679231],\"type\":\"scatter\"},{\"hoverinfo\":\"text\",\"marker\":{\"opacity\":1,\"size\":1},\"mode\":\"markers\",\"showlegend\":false,\"text\":[\"ID: 20, Pos(2.25,3.39)\"],\"x\":[2.2489198475130947],\"y\":[3.387477723980477],\"type\":\"scatter\"}],\"layout\":{\"shapes\":[{\"fillcolor\":\"rgba(102, 255, 144, 0.5)\",\"line\":{\"color\":\"rgba(102, 255, 144, 0.5)\"},\"type\":\"circle\",\"x0\":2.9026552191555366,\"x1\":3.302655219155537,\"xref\":\"x\",\"y0\":4.968661575786402,\"y1\":5.368661575786402,\"yref\":\"y\"},{\"fillcolor\":\"rgba(0, 0, 187, 0.5)\",\"line\":{\"color\":\"rgba(0, 0, 187, 0.5)\"},\"type\":\"circle\",\"x0\":1.416950958507311,\"x1\":1.816950958507311,\"xref\":\"x\",\"y0\":4.182105284673975,\"y1\":4.582105284673975,\"yref\":\"y\"},{\"fillcolor\":\"rgba(60, 255, 186, 0.5)\",\"line\":{\"color\":\"rgba(60, 255, 186, 0.5)\"},\"type\":\"circle\",\"x0\":1.9876527661875698,\"x1\":2.38765276618757,\"xref\":\"x\",\"y0\":2.3265277836263323,\"y1\":2.7265277836263326,\"yref\":\"y\"},{\"fillcolor\":\"rgba(0, 29, 255, 0.5)\",\"line\":{\"color\":\"rgba(0, 29, 255, 0.5)\"},\"type\":\"circle\",\"x0\":2.400331519603923,\"x1\":2.8003315196039233,\"xref\":\"x\",\"y0\":5.6207743046375755,\"y1\":6.020774304637576,\"yref\":\"y\"},{\"fillcolor\":\"rgba(0, 0, 128, 0.5)\",\"line\":{\"color\":\"rgba(0, 0, 128, 0.5)\"},\"type\":\"circle\",\"x0\":2.13350418913301,\"x1\":2.5335041891330103,\"xref\":\"x\",\"y0\":4.21115865321033,\"y1\":4.61115865321033,\"yref\":\"y\"},{\"fillcolor\":\"rgba(0, 0, 128, 0.5)\",\"line\":{\"color\":\"rgba(0, 0, 128, 0.5)\"},\"type\":\"circle\",\"x0\":1.9167498188802672,\"x1\":2.3167498188802673,\"xref\":\"x\",\"y0\":6.428476473807076,\"y1\":6.8284764738070765,\"yref\":\"y\"},{\"fillcolor\":\"rgba(0, 0, 128, 0.5)\",\"line\":{\"color\":\"rgba(0, 0, 128, 0.5)\"},\"type\":\"circle\",\"x0\":2.6702679200814976,\"x1\":3.070267920081498,\"xref\":\"x\",\"y0\":6.663428694580823,\"y1\":7.063428694580823,\"yref\":\"y\"},{\"fillcolor\":\"rgba(70, 255, 177, 0.5)\",\"line\":{\"color\":\"rgba(70, 255, 177, 0.5)\"},\"type\":\"circle\",\"x0\":3.0988898698511056,\"x1\":3.498889869851106,\"xref\":\"x\",\"y0\":4.138910861257535,\"y1\":4.538910861257535,\"yref\":\"y\"},{\"fillcolor\":\"rgba(0, 0, 155, 0.5)\",\"line\":{\"color\":\"rgba(0, 0, 155, 0.5)\"},\"type\":\"circle\",\"x0\":1.868101577021166,\"x1\":2.268101577021166,\"xref\":\"x\",\"y0\":5.249233639679231,\"y1\":5.649233639679231,\"yref\":\"y\"},{\"fillcolor\":\"rgba(0, 96, 255, 0.5)\",\"line\":{\"color\":\"rgba(0, 96, 255, 0.5)\"},\"type\":\"circle\",\"x0\":2.0489198475130945,\"x1\":2.448919847513095,\"xref\":\"x\",\"y0\":3.187477723980477,\"y1\":3.587477723980477,\"yref\":\"y\"},{\"line\":{\"color\":\"black\",\"width\":3},\"type\":\"line\",\"x0\":3.1026552191555368,\"x1\":3.051718629839062,\"y0\":5.168661575786402,\"y1\":5.362066497825126},{\"line\":{\"color\":\"white\",\"width\":3},\"type\":\"line\",\"x0\":1.616950958507311,\"x1\":1.6512671745111955,\"y0\":4.382105284673975,\"y1\":4.579139285088053},{\"line\":{\"color\":\"black\",\"width\":3},\"type\":\"line\",\"x0\":2.1876527661875698,\"x1\":2.200144565575231,\"y0\":2.5265277836263325,\"y1\":2.726137289782874},{\"line\":{\"color\":\"white\",\"width\":3},\"type\":\"line\",\"x0\":2.600331519603923,\"x1\":2.6175905615058936,\"y0\":5.820774304637576,\"y1\":6.020028226738562},{\"line\":{\"color\":\"white\",\"width\":3},\"type\":\"line\",\"x0\":2.33350418913301,\"x1\":2.36374602563493,\"y0\":4.41115865321033,\"y1\":4.608859010632847},{\"line\":{\"color\":\"white\",\"width\":3},\"type\":\"line\",\"x0\":2.116749818880267,\"x1\":2.118472865495519,\"y0\":6.628476473807076,\"y1\":6.828469051445252},{\"line\":{\"color\":\"white\",\"width\":3},\"type\":\"line\",\"x0\":2.870267920081498,\"x1\":2.867474010472574,\"y0\":6.863428694580823,\"y1\":7.063409178801402},{\"line\":{\"color\":\"black\",\"width\":3},\"type\":\"line\",\"x0\":3.2988898698511058,\"x1\":3.2512708445697878,\"y0\":4.338910861257535,\"y1\":4.5331592291561025},{\"line\":{\"color\":\"white\",\"width\":3},\"type\":\"line\",\"x0\":2.068101577021166,\"x1\":2.0744083119057755,\"y0\":5.449233639679231,\"y1\":5.649134177685249},{\"line\":{\"color\":\"white\",\"width\":3},\"type\":\"line\",\"x0\":2.2489198475130947,\"x1\":2.26125024457371,\"y0\":3.387477723980477,\"y1\":3.587097265379428}],\"title\":{\"text\":\"\\u003cb\\u003ePercentage using the shortest path: 0%  |  Number of Agents: 10\\u003c\\u002fb\\u003e\",\"x\":0.5}},\"name\":\"100\"},{\"data\":[{\"hoverinfo\":\"name\",\"line\":{\"color\":\"white\"},\"mode\":\"lines\",\"name\":\"Exterior\",\"showlegend\":false,\"x\":[10.1,10.1,15.0,15.0,13.6,13.6,15.0,15.0,13.6,13.6,15.0,15.0,10.1,10.1,9.9,9.9,5.1,5.1,4.9,4.9,0.0,0.0,1.5,1.5,0.0,0.0,1.5,1.5,0.0,0.0,4.9,4.9,5.1,5.1,9.9,9.9,10.1],\"y\":[1.5,0.0,0.0,4.9,4.9,5.1,5.1,9.9,9.9,10.1,10.1,15.0,15.0,13.6,13.6,15.0,15.0,13.6,13.6,15.0,15.0,10.1,10.1,9.9,9.9,5.1,5.1,4.9,4.9,0.0,0.0,1.5,1.5,0.0,0.0,1.5,1.5],\"type\":\"scatter\"},{\"hoverinfo\":\"name\",\"line\":{\"color\":\"white\"},\"mode\":\"lines\",\"name\":\"Obstacle\",\"showlegend\":false,\"x\":[10.1,11.5,11.5,10.1,10.1,9.9,9.9,8.6,8.6,9.9,9.9,10.1,10.1],\"y\":[5.1,5.1,4.9,4.9,3.6,3.6,4.9,4.9,5.1,5.1,6.5,6.5,5.1],\"type\":\"scatter\"},{\"hoverinfo\":\"name\",\"line\":{\"color\":\"white\"},\"mode\":\"lines\",\"name\":\"Obstacle\",\"showlegend\":false,\"x\":[10.1,11.5,11.5,10.1,10.1,9.9,9.9,8.6,8.6,9.9,9.9,10.1,10.1],\"y\":[10.1,10.1,9.9,9.9,8.6,8.6,9.9,9.9,10.1,10.1,11.5,11.5,10.1],\"type\":\"scatter\"},{\"hoverinfo\":\"name\",\"line\":{\"color\":\"white\"},\"mode\":\"lines\",\"name\":\"Obstacle\",\"showlegend\":false,\"x\":[5.1,6.4,6.4,5.1,5.1,4.9,4.9,3.6,3.6,4.9,4.9,5.1,5.1],\"y\":[5.1,5.1,4.9,4.9,3.6,3.6,4.9,4.9,5.1,5.1,6.5,6.5,5.1],\"type\":\"scatter\"},{\"hoverinfo\":\"name\",\"line\":{\"color\":\"white\"},\"mode\":\"lines\",\"name\":\"Obstacle\",\"showlegend\":false,\"x\":[5.1,6.4,6.4,5.1,5.1,4.9,4.9,3.6,3.6,4.9,4.9,5.1,5.1],\"y\":[10.1,10.1,9.9,9.9,8.6,8.6,9.9,9.9,10.1,10.1,11.5,11.5,10.1],\"type\":\"scatter\"},{\"fill\":\"toself\",\"fillcolor\":\"rgb(0, 0, 0)\",\"hoverinfo\":\"name\",\"line\":{\"width\":0},\"mode\":\"lines\",\"name\":\"Risk Area\",\"showlegend\":false,\"x\":[1.5,1.5,3.6,3.6,4.9,4.9,5.0,5.0,4.9,4.9,0.0,0.0,1.5],\"y\":[4.9,5.0,5.0,4.9,4.9,3.6,3.6,1.5,1.5,0.0,0.0,4.9,4.9],\"type\":\"scatter\"},{\"fill\":\"toself\",\"fillcolor\":\"rgb(153, 0, 0)\",\"hoverinfo\":\"name\",\"line\":{\"width\":0},\"mode\":\"lines\",\"name\":\"Risk Area\",\"showlegend\":false,\"x\":[9.9,9.9,5.1,5.1,5.0,5.0,5.1,5.1,6.4,6.4,8.6,8.6,9.9,9.9,10.0,10.0,9.9],\"y\":[1.5,0.0,0.0,1.5,1.5,3.6,3.6,4.9,4.9,5.0,5.0,4.9,4.9,3.6,3.6,1.5,1.5],\"type\":\"scatter\"},{\"fill\":\"toself\",\"fillcolor\":\"rgb(0, 0, 0)\",\"hoverinfo\":\"name\",\"line\":{\"width\":0},\"mode\":\"lines\",\"name\":\"Risk Area\",\"showlegend\":false,\"x\":[13.6,15.0,15.0,10.1,10.1,10.0,10.0,10.1,10.1,11.5,11.5,13.6,13.6],\"y\":[4.9,4.9,0.0,0.0,1.5,1.5,3.6,3.6,4.9,4.9,5.0,5.0,4.9],\"type\":\"scatter\"},{\"fill\":\"toself\",\"fillcolor\":\"rgb(153, 0, 0)\",\"hoverinfo\":\"name\",\"line\":{\"width\":0},\"mode\":\"lines\",\"name\":\"Risk Area\",\"showlegend\":false,\"x\":[13.6,15.0,15.0,13.6,13.6,11.5,11.5,10.1,10.1,10.0,10.0,10.1,10.1,11.5,11.5,13.6,13.6],\"y\":[9.9,9.9,5.1,5.1,5.0,5.0,5.1,5.1,6.5,6.5,8.6,8.6,9.9,9.9,10.0,10.0,9.9],\"type\":\"scatter\"},{\"fill\":\"toself\",\"fillcolor\":\"rgb(153, 0, 0)\",\"hoverinfo\":\"name\",\"line\":{\"width\":0},\"mode\":\"lines\",\"name\":\"Risk Area\",\"showlegend\":false,\"x\":[9.9,9.9,8.6,8.6,6.4,6.4,5.1,5.1,5.0,5.0,5.1,5.1,6.4,6.4,8.6,8.6,9.9,9.9,10.0,10.0,9.9],\"y\":[6.5,5.1,5.1,5.0,5.0,5.1,5.1,6.5,6.5,8.6,8.6,9.9,9.9,10.0,10.0,9.9,9.9,8.6,8.6,6.5,6.5],\"type\":\"scatter\"},{\"fill\":\"toself\",\"fillcolor\":\"rgb(25, 0, 0)\",\"hoverinfo\":\"name\",\"line\":{\"width\":0},\"mode\":\"lines\",\"name\":\"Risk Area\",\"showlegend\":false,\"x\":[4.9,4.9,3.6,3.6,1.5,1.5,0.0,0.0,1.5,1.5,3.6,3.6,4.9,4.9,5.0,5.0,4.9],\"y\":[6.5,5.1,5.1,5.0,5.0,5.1,5.1,9.9,9.9,10.0,10.0,9.9,9.9,8.6,8.6,6.5,6.5],\"type\":\"scatter\"},{\"fill\":\"toself\",\"fillcolor\":\"rgb(0, 0, 0)\",\"hoverinfo\":\"name\",\"line\":{\"width\":0},\"mode\":\"lines\",\"name\":\"Risk Area\",\"showlegend\":false,\"x\":[1.5,0.0,0.0,4.9,4.9,5.0,5.0,4.9,4.9,3.6,3.6,1.5,1.5],\"y\":[10.1,10.1,15.0,15.0,13.6,13.6,11.5,11.5,10.1,10.1,10.0,10.0,10.1],\"type\":\"scatter\"},{\"fill\":\"toself\",\"fillcolor\":\"rgb(51, 0, 0)\",\"hoverinfo\":\"name\",\"line\":{\"width\":0},\"mode\":\"lines\",\"name\":\"Risk Area\",\"showlegend\":false,\"x\":[6.4,5.1,5.1,5.0,5.0,5.1,5.1,9.9,9.9,10.0,10.0,9.9,9.9,8.6,8.6,6.4,6.4],\"y\":[10.1,10.1,11.5,11.5,13.6,13.6,15.0,15.0,13.6,13.6,11.5,11.5,10.1,10.1,10.0,10.0,10.1],\"type\":\"scatter\"},{\"fill\":\"toself\",\"fillcolor\":\"rgb(0, 0, 0)\",\"hoverinfo\":\"name\",\"line\":{\"width\":0},\"mode\":\"lines\",\"name\":\"Risk Area\",\"showlegend\":false,\"x\":[10.1,10.1,15.0,15.0,13.6,13.6,11.5,11.5,10.1,10.1,10.0,10.0,10.1],\"y\":[13.6,15.0,15.0,10.1,10.1,10.0,10.0,10.1,10.1,11.5,11.5,13.6,13.6],\"type\":\"scatter\"},{\"hoverinfo\":\"text\",\"marker\":{\"opacity\":1,\"size\":1},\"mode\":\"markers\",\"showlegend\":false,\"text\":[\"ID: 11, Pos(2.96,6.24)\"],\"x\":[2.9581676026443975],\"y\":[6.243316523388464],\"type\":\"scatter\"},{\"hoverinfo\":\"text\",\"marker\":{\"opacity\":1,\"size\":1},\"mode\":\"markers\",\"showlegend\":false,\"text\":[\"ID: 12, Pos(1.94,5.15)\"],\"x\":[1.9377816298191668],\"y\":[5.153257725681714],\"type\":\"scatter\"},{\"hoverinfo\":\"text\",\"marker\":{\"opacity\":1,\"size\":1},\"mode\":\"markers\",\"showlegend\":false,\"text\":[\"ID: 13, Pos(2.26,3.71)\"],\"x\":[2.2621615723924484],\"y\":[3.7147914763581893],\"type\":\"scatter\"},{\"hoverinfo\":\"text\",\"marker\":{\"opacity\":1,\"size\":1},\"mode\":\"markers\",\"showlegend\":false,\"text\":[\"ID: 14, Pos(2.74,7.29)\"],\"x\":[2.737489465733495],\"y\":[7.292000318408571],\"type\":\"scatter\"},{\"hoverinfo\":\"text\",\"marker\":{\"opacity\":1,\"size\":1},\"mode\":\"markers\",\"showlegend\":false,\"text\":[\"ID: 15, Pos(2.37,5.92)\"],\"x\":[2.3739785731271343],\"y\":[5.920418627380049],\"type\":\"scatter\"},{\"hoverinfo\":\"text\",\"marker\":{\"opacity\":1,\"size\":1},\"mode\":\"markers\",\"showlegend\":false,\"text\":[\"ID: 16, Pos(2.13,8.23)\"],\"x\":[2.1344054310321643],\"y\":[8.228378641372304],\"type\":\"scatter\"},{\"hoverinfo\":\"text\",\"marker\":{\"opacity\":1,\"size\":1},\"mode\":\"markers\",\"showlegend\":false,\"text\":[\"ID: 17, Pos(2.85,8.46)\"],\"x\":[2.8491945578620244],\"y\":[8.463289778198781],\"type\":\"scatter\"},{\"hoverinfo\":\"text\",\"marker\":{\"opacity\":1,\"size\":1},\"mode\":\"markers\",\"showlegend\":false,\"text\":[\"ID: 18, Pos(3.05,5.28)\"],\"x\":[3.047171937903029],\"y\":[5.281635062193727],\"type\":\"scatter\"},{\"hoverinfo\":\"text\",\"marker\":{\"opacity\":1,\"size\":1},\"mode\":\"markers\",\"showlegend\":false,\"text\":[\"ID: 19, Pos(2.05,7.03)\"],\"x\":[2.050799933307093],\"y\":[7.031880957380289],\"type\":\"scatter\"},{\"hoverinfo\":\"text\",\"marker\":{\"opacity\":1,\"size\":1},\"mode\":\"markers\",\"showlegend\":false,\"text\":[\"ID: 20, Pos(2.43,4.78)\"],\"x\":[2.4298220087979896],\"y\":[4.782187642838245],\"type\":\"scatter\"}],\"layout\":{\"shapes\":[{\"fillcolor\":\"rgba(0, 37, 255, 0.5)\",\"line\":{\"color\":\"rgba(0, 37, 255, 0.5)\"},\"type\":\"circle\",\"x0\":2.7581676026443973,\"x1\":3.1581676026443977,\"xref\":\"x\",\"y0\":6.043316523388464,\"y1\":6.443316523388464,\"yref\":\"y\"},{\"fillcolor\":\"rgba(41, 255, 206, 0.5)\",\"line\":{\"color\":\"rgba(41, 255, 206, 0.5)\"},\"type\":\"circle\",\"x0\":1.7377816298191668,\"x1\":2.137781629819167,\"xref\":\"x\",\"y0\":4.953257725681714,\"y1\":5.353257725681714,\"yref\":\"y\"},{\"fillcolor\":\"rgba(0, 24, 255, 0.5)\",\"line\":{\"color\":\"rgba(0, 24, 255, 0.5)\"},\"type\":\"circle\",\"x0\":2.0621615723924482,\"x1\":2.4621615723924486,\"xref\":\"x\",\"y0\":3.514791476358189,\"y1\":3.9147914763581895,\"yref\":\"y\"},{\"fillcolor\":\"rgba(0, 0, 159, 0.5)\",\"line\":{\"color\":\"rgba(0, 0, 159, 0.5)\"},\"type\":\"circle\",\"x0\":2.5374894657334948,\"x1\":2.937489465733495,\"xref\":\"x\",\"y0\":7.092000318408571,\"y1\":7.4920003184085715,\"yref\":\"y\"},{\"fillcolor\":\"rgba(0, 0, 187, 0.5)\",\"line\":{\"color\":\"rgba(0, 0, 187, 0.5)\"},\"type\":\"circle\",\"x0\":2.173978573127134,\"x1\":2.5739785731271345,\"xref\":\"x\",\"y0\":5.720418627380049,\"y1\":6.120418627380049,\"yref\":\"y\"},{\"fillcolor\":\"rgba(0, 0, 128, 0.5)\",\"line\":{\"color\":\"rgba(0, 0, 128, 0.5)\"},\"type\":\"circle\",\"x0\":1.9344054310321643,\"x1\":2.3344054310321645,\"xref\":\"x\",\"y0\":8.028378641372305,\"y1\":8.428378641372303,\"yref\":\"y\"},{\"fillcolor\":\"rgba(0, 0, 128, 0.5)\",\"line\":{\"color\":\"rgba(0, 0, 128, 0.5)\"},\"type\":\"circle\",\"x0\":2.649194557862024,\"x1\":3.0491945578620245,\"xref\":\"x\",\"y0\":8.263289778198782,\"y1\":8.66328977819878,\"yref\":\"y\"},{\"fillcolor\":\"rgba(0, 173, 255, 0.5)\",\"line\":{\"color\":\"rgba(0, 173, 255, 0.5)\"},\"type\":\"circle\",\"x0\":2.847171937903029,\"x1\":3.2471719379030293,\"xref\":\"x\",\"y0\":5.081635062193727,\"y1\":5.481635062193727,\"yref\":\"y\"},{\"fillcolor\":\"rgba(0, 0, 128, 0.5)\",\"line\":{\"color\":\"rgba(0, 0, 128, 0.5)\"},\"type\":\"circle\",\"x0\":1.850799933307093,\"x1\":2.250799933307093,\"xref\":\"x\",\"y0\":6.831880957380289,\"y1\":7.231880957380289,\"yref\":\"y\"},{\"fillcolor\":\"rgba(0, 0, 214, 0.5)\",\"line\":{\"color\":\"rgba(0, 0, 214, 0.5)\"},\"type\":\"circle\",\"x0\":2.2298220087979894,\"x1\":2.6298220087979898,\"xref\":\"x\",\"y0\":4.582187642838245,\"y1\":4.9821876428382454,\"yref\":\"y\"},{\"line\":{\"color\":\"white\",\"width\":3},\"type\":\"line\",\"x0\":2.9581676026443975,\"x1\":2.9737458004841697,\"y0\":6.243316523388464,\"y1\":6.442708899752419},{\"line\":{\"color\":\"black\",\"width\":3},\"type\":\"line\",\"x0\":1.9377816298191668,\"x1\":1.9506087809362653,\"y0\":5.153257725681714,\"y1\":5.352845962294544},{\"line\":{\"color\":\"white\",\"width\":3},\"type\":\"line\",\"x0\":2.2621615723924484,\"x1\":2.2746532109042463,\"y0\":3.7147914763581893,\"y1\":3.914400992582468},{\"line\":{\"color\":\"white\",\"width\":3},\"type\":\"line\",\"x0\":2.737489465733495,\"x1\":2.74543965890754,\"y0\":7.292000318408571,\"y1\":7.49184224200944},{\"line\":{\"color\":\"white\",\"width\":3},\"type\":\"line\",\"x0\":2.3739785731271343,\"x1\":2.3574569607993467,\"y0\":5.920418627380049,\"y1\":6.119735050000189},{\"line\":{\"color\":\"white\",\"width\":3},\"type\":\"line\",\"x0\":2.1344054310321643,\"x1\":2.136741989418354,\"y0\":8.228378641372304,\"y1\":8.42836499214382},{\"line\":{\"color\":\"white\",\"width\":3},\"type\":\"line\",\"x0\":2.8491945578620244,\"x1\":2.8466012148951925,\"y0\":8.463289778198781,\"y1\":8.663272963922623},{\"line\":{\"color\":\"black\",\"width\":3},\"type\":\"line\",\"x0\":3.047171937903029,\"x1\":3.008528492612634,\"y0\":5.281635062193727,\"y1\":5.477866262913919},{\"line\":{\"color\":\"white\",\"width\":3},\"type\":\"line\",\"x0\":2.050799933307093,\"x1\":2.0496717711894674,\"y0\":7.031880957380289,\"y1\":7.2318777754805685},{\"line\":{\"color\":\"white\",\"width\":3},\"type\":\"line\",\"x0\":2.4298220087979896,\"x1\":2.4850903408716047,\"y0\":4.782187642838245,\"y1\":4.974399534951612}],\"title\":{\"text\":\"\\u003cb\\u003ePercentage using the shortest path: 0%  |  Number of Agents: 10\\u003c\\u002fb\\u003e\",\"x\":0.5}},\"name\":\"150\"},{\"data\":[{\"hoverinfo\":\"name\",\"line\":{\"color\":\"white\"},\"mode\":\"lines\",\"name\":\"Exterior\",\"showlegend\":false,\"x\":[10.1,10.1,15.0,15.0,13.6,13.6,15.0,15.0,13.6,13.6,15.0,15.0,10.1,10.1,9.9,9.9,5.1,5.1,4.9,4.9,0.0,0.0,1.5,1.5,0.0,0.0,1.5,1.5,0.0,0.0,4.9,4.9,5.1,5.1,9.9,9.9,10.1],\"y\":[1.5,0.0,0.0,4.9,4.9,5.1,5.1,9.9,9.9,10.1,10.1,15.0,15.0,13.6,13.6,15.0,15.0,13.6,13.6,15.0,15.0,10.1,10.1,9.9,9.9,5.1,5.1,4.9,4.9,0.0,0.0,1.5,1.5,0.0,0.0,1.5,1.5],\"type\":\"scatter\"},{\"hoverinfo\":\"name\",\"line\":{\"color\":\"white\"},\"mode\":\"lines\",\"name\":\"Obstacle\",\"showlegend\":false,\"x\":[10.1,11.5,11.5,10.1,10.1,9.9,9.9,8.6,8.6,9.9,9.9,10.1,10.1],\"y\":[5.1,5.1,4.9,4.9,3.6,3.6,4.9,4.9,5.1,5.1,6.5,6.5,5.1],\"type\":\"scatter\"},{\"hoverinfo\":\"name\",\"line\":{\"color\":\"white\"},\"mode\":\"lines\",\"name\":\"Obstacle\",\"showlegend\":false,\"x\":[10.1,11.5,11.5,10.1,10.1,9.9,9.9,8.6,8.6,9.9,9.9,10.1,10.1],\"y\":[10.1,10.1,9.9,9.9,8.6,8.6,9.9,9.9,10.1,10.1,11.5,11.5,10.1],\"type\":\"scatter\"},{\"hoverinfo\":\"name\",\"line\":{\"color\":\"white\"},\"mode\":\"lines\",\"name\":\"Obstacle\",\"showlegend\":false,\"x\":[5.1,6.4,6.4,5.1,5.1,4.9,4.9,3.6,3.6,4.9,4.9,5.1,5.1],\"y\":[5.1,5.1,4.9,4.9,3.6,3.6,4.9,4.9,5.1,5.1,6.5,6.5,5.1],\"type\":\"scatter\"},{\"hoverinfo\":\"name\",\"line\":{\"color\":\"white\"},\"mode\":\"lines\",\"name\":\"Obstacle\",\"showlegend\":false,\"x\":[5.1,6.4,6.4,5.1,5.1,4.9,4.9,3.6,3.6,4.9,4.9,5.1,5.1],\"y\":[10.1,10.1,9.9,9.9,8.6,8.6,9.9,9.9,10.1,10.1,11.5,11.5,10.1],\"type\":\"scatter\"},{\"fill\":\"toself\",\"fillcolor\":\"rgb(0, 0, 0)\",\"hoverinfo\":\"name\",\"line\":{\"width\":0},\"mode\":\"lines\",\"name\":\"Risk Area\",\"showlegend\":false,\"x\":[1.5,1.5,3.6,3.6,4.9,4.9,5.0,5.0,4.9,4.9,0.0,0.0,1.5],\"y\":[4.9,5.0,5.0,4.9,4.9,3.6,3.6,1.5,1.5,0.0,0.0,4.9,4.9],\"type\":\"scatter\"},{\"fill\":\"toself\",\"fillcolor\":\"rgb(153, 0, 0)\",\"hoverinfo\":\"name\",\"line\":{\"width\":0},\"mode\":\"lines\",\"name\":\"Risk Area\",\"showlegend\":false,\"x\":[9.9,9.9,5.1,5.1,5.0,5.0,5.1,5.1,6.4,6.4,8.6,8.6,9.9,9.9,10.0,10.0,9.9],\"y\":[1.5,0.0,0.0,1.5,1.5,3.6,3.6,4.9,4.9,5.0,5.0,4.9,4.9,3.6,3.6,1.5,1.5],\"type\":\"scatter\"},{\"fill\":\"toself\",\"fillcolor\":\"rgb(0, 0, 0)\",\"hoverinfo\":\"name\",\"line\":{\"width\":0},\"mode\":\"lines\",\"name\":\"Risk Area\",\"showlegend\":false,\"x\":[13.6,15.0,15.0,10.1,10.1,10.0,10.0,10.1,10.1,11.5,11.5,13.6,13.6],\"y\":[4.9,4.9,0.0,0.0,1.5,1.5,3.6,3.6,4.9,4.9,5.0,5.0,4.9],\"type\":\"scatter\"},{\"fill\":\"toself\",\"fillcolor\":\"rgb(153, 0, 0)\",\"hoverinfo\":\"name\",\"line\":{\"width\":0},\"mode\":\"lines\",\"name\":\"Risk Area\",\"showlegend\":false,\"x\":[13.6,15.0,15.0,13.6,13.6,11.5,11.5,10.1,10.1,10.0,10.0,10.1,10.1,11.5,11.5,13.6,13.6],\"y\":[9.9,9.9,5.1,5.1,5.0,5.0,5.1,5.1,6.5,6.5,8.6,8.6,9.9,9.9,10.0,10.0,9.9],\"type\":\"scatter\"},{\"fill\":\"toself\",\"fillcolor\":\"rgb(153, 0, 0)\",\"hoverinfo\":\"name\",\"line\":{\"width\":0},\"mode\":\"lines\",\"name\":\"Risk Area\",\"showlegend\":false,\"x\":[9.9,9.9,8.6,8.6,6.4,6.4,5.1,5.1,5.0,5.0,5.1,5.1,6.4,6.4,8.6,8.6,9.9,9.9,10.0,10.0,9.9],\"y\":[6.5,5.1,5.1,5.0,5.0,5.1,5.1,6.5,6.5,8.6,8.6,9.9,9.9,10.0,10.0,9.9,9.9,8.6,8.6,6.5,6.5],\"type\":\"scatter\"},{\"fill\":\"toself\",\"fillcolor\":\"rgb(25, 0, 0)\",\"hoverinfo\":\"name\",\"line\":{\"width\":0},\"mode\":\"lines\",\"name\":\"Risk Area\",\"showlegend\":false,\"x\":[4.9,4.9,3.6,3.6,1.5,1.5,0.0,0.0,1.5,1.5,3.6,3.6,4.9,4.9,5.0,5.0,4.9],\"y\":[6.5,5.1,5.1,5.0,5.0,5.1,5.1,9.9,9.9,10.0,10.0,9.9,9.9,8.6,8.6,6.5,6.5],\"type\":\"scatter\"},{\"fill\":\"toself\",\"fillcolor\":\"rgb(0, 0, 0)\",\"hoverinfo\":\"name\",\"line\":{\"width\":0},\"mode\":\"lines\",\"name\":\"Risk Area\",\"showlegend\":false,\"x\":[1.5,0.0,0.0,4.9,4.9,5.0,5.0,4.9,4.9,3.6,3.6,1.5,1.5],\"y\":[10.1,10.1,15.0,15.0,13.6,13.6,11.5,11.5,10.1,10.1,10.0,10.0,10.1],\"type\":\"scatter\"},{\"fill\":\"toself\",\"fillcolor\":\"rgb(51, 0, 0)\",\"hoverinfo\":\"name\",\"line\":{\"width\":0},\"mode\":\"lines\",\"name\":\"Risk Area\",\"showlegend\":false,\"x\":[6.4,5.1,5.1,5.0,5.0,5.1,5.1,9.9,9.9,10.0,10.0,9.9,9.9,8.6,8.6,6.4,6.4],\"y\":[10.1,10.1,11.5,11.5,13.6,13.6,15.0,15.0,13.6,13.6,11.5,11.5,10.1,10.1,10.0,10.0,10.1],\"type\":\"scatter\"},{\"fill\":\"toself\",\"fillcolor\":\"rgb(0, 0, 0)\",\"hoverinfo\":\"name\",\"line\":{\"width\":0},\"mode\":\"lines\",\"name\":\"Risk Area\",\"showlegend\":false,\"x\":[10.1,10.1,15.0,15.0,13.6,13.6,11.5,11.5,10.1,10.1,10.0,10.0,10.1],\"y\":[13.6,15.0,15.0,10.1,10.1,10.0,10.0,10.1,10.1,11.5,11.5,13.6,13.6],\"type\":\"scatter\"},{\"hoverinfo\":\"text\",\"marker\":{\"opacity\":1,\"size\":1},\"mode\":\"markers\",\"showlegend\":false,\"text\":[\"ID: 11, Pos(2.98,7.71)\"],\"x\":[2.975063910974815],\"y\":[7.714419463712564],\"type\":\"scatter\"},{\"hoverinfo\":\"text\",\"marker\":{\"opacity\":1,\"size\":1},\"mode\":\"markers\",\"showlegend\":false,\"text\":[\"ID: 12, Pos(1.89,6.43)\"],\"x\":[1.887117925072684],\"y\":[6.429951302345017],\"type\":\"scatter\"},{\"hoverinfo\":\"text\",\"marker\":{\"opacity\":1,\"size\":1},\"mode\":\"markers\",\"showlegend\":false,\"text\":[\"ID: 13, Pos(2.35,5.17)\"],\"x\":[2.3531771543749755],\"y\":[5.1657295833827686],\"type\":\"scatter\"},{\"hoverinfo\":\"text\",\"marker\":{\"opacity\":1,\"size\":1},\"mode\":\"markers\",\"showlegend\":false,\"text\":[\"ID: 14, Pos(2.77,8.87)\"],\"x\":[2.771343948998321],\"y\":[8.868837359579636],\"type\":\"scatter\"},{\"hoverinfo\":\"text\",\"marker\":{\"opacity\":1,\"size\":1},\"mode\":\"markers\",\"showlegend\":false,\"text\":[\"ID: 15, Pos(2.27,7.46)\"],\"x\":[2.272460351565042],\"y\":[7.463385283153417],\"type\":\"scatter\"},{\"hoverinfo\":\"text\",\"marker\":{\"opacity\":1,\"size\":1},\"mode\":\"markers\",\"showlegend\":false,\"text\":[\"ID: 16, Pos(2.16,9.83)\"],\"x\":[2.155857671085766],\"y\":[9.82823319358474],\"type\":\"scatter\"},{\"hoverinfo\":\"text\",\"marker\":{\"opacity\":1,\"size\":1},\"mode\":\"markers\",\"showlegend\":false,\"text\":[\"ID: 17, Pos(2.82,10.06)\"],\"x\":[2.824536662721713],\"y\":[10.063096809263753],\"type\":\"scatter\"},{\"hoverinfo\":\"text\",\"marker\":{\"opacity\":1,\"size\":1},\"mode\":\"markers\",\"showlegend\":false,\"text\":[\"ID: 18, Pos(3.09,6.59)\"],\"x\":[3.088378763412687],\"y\":[6.585175026882389],\"type\":\"scatter\"},{\"hoverinfo\":\"text\",\"marker\":{\"opacity\":1,\"size\":1},\"mode\":\"markers\",\"showlegend\":false,\"text\":[\"ID: 19, Pos(2.07,8.63)\"],\"x\":[2.07343490565318],\"y\":[8.631290096103207],\"type\":\"scatter\"},{\"hoverinfo\":\"text\",\"marker\":{\"opacity\":1,\"size\":1},\"mode\":\"markers\",\"showlegend\":false,\"text\":[\"ID: 20, Pos(2.52,6.31)\"],\"x\":[2.522475743564226],\"y\":[6.309268037464245],\"type\":\"scatter\"}],\"layout\":{\"shapes\":[{\"fillcolor\":\"rgba(0, 0, 164, 0.5)\",\"line\":{\"color\":\"rgba(0, 0, 164, 0.5)\"},\"type\":\"circle\",\"x0\":2.775063910974815,\"x1\":3.1750639109748153,\"xref\":\"x\",\"y0\":7.514419463712564,\"y1\":7.914419463712564,\"yref\":\"y\"},{\"fillcolor\":\"rgba(0, 0, 128, 0.5)\",\"line\":{\"color\":\"rgba(0, 0, 128, 0.5)\"},\"type\":\"circle\",\"x0\":1.687117925072684,\"x1\":2.087117925072684,\"xref\":\"x\",\"y0\":6.229951302345017,\"y1\":6.629951302345018,\"yref\":\"y\"},{\"fillcolor\":\"rgba(0, 0, 191, 0.5)\",\"line\":{\"color\":\"rgba(0, 0, 191, 0.5)\"},\"type\":\"circle\",\"x0\":2.1531771543749754,\"x1\":2.5531771543749757,\"xref\":\"x\",\"y0\":4.965729583382768,\"y1\":5.365729583382769,\"yref\":\"y\"},{\"fillcolor\":\"rgba(0, 0, 132, 0.5)\",\"line\":{\"color\":\"rgba(0, 0, 132, 0.5)\"},\"type\":\"circle\",\"x0\":2.571343948998321,\"x1\":2.9713439489983213,\"xref\":\"x\",\"y0\":8.668837359579637,\"y1\":9.068837359579636,\"yref\":\"y\"},{\"fillcolor\":\"rgba(0, 0, 146, 0.5)\",\"line\":{\"color\":\"rgba(0, 0, 146, 0.5)\"},\"type\":\"circle\",\"x0\":2.072460351565042,\"x1\":2.4724603515650423,\"xref\":\"x\",\"y0\":7.263385283153417,\"y1\":7.663385283153417,\"yref\":\"y\"},{\"fillcolor\":\"rgba(0, 0, 128, 0.5)\",\"line\":{\"color\":\"rgba(0, 0, 128, 0.5)\"},\"type\":\"circle\",\"x0\":1.9558576710857662,\"x1\":2.3558576710857664,\"xref\":\"x\",\"y0\":9.628233193584741,\"y1\":10.02823319358474,\"yref\":\"y\"},{\"fillcolor\":\"rgba(0, 0, 128, 0.5)\",\"line\":{\"color\":\"rgba(0, 0, 128, 0.5)\"},\"type\":\"circle\",\"x0\":2.624536662721713,\"x1\":3.0245366627217134,\"xref\":\"x\",\"y0\":9.863096809263753,\"y1\":10.263096809263752,\"yref\":\"y\"},{\"fillcolor\":\"rgba(0, 0, 223, 0.5)\",\"line\":{\"color\":\"rgba(0, 0, 223, 0.5)\"},\"type\":\"circle\",\"x0\":2.8883787634126867,\"x1\":3.288378763412687,\"xref\":\"x\",\"y0\":6.385175026882389,\"y1\":6.785175026882389,\"yref\":\"y\"},{\"fillcolor\":\"rgba(0, 0, 128, 0.5)\",\"line\":{\"color\":\"rgba(0, 0, 128, 0.5)\"},\"type\":\"circle\",\"x0\":1.8734349056531798,\"x1\":2.27343490565318,\"xref\":\"x\",\"y0\":8.431290096103208,\"y1\":8.831290096103206,\"yref\":\"y\"},{\"fillcolor\":\"rgba(0, 0, 155, 0.5)\",\"line\":{\"color\":\"rgba(0, 0, 155, 0.5)\"},\"type\":\"circle\",\"x0\":2.322475743564226,\"x1\":2.7224757435642264,\"xref\":\"x\",\"y0\":6.109268037464245,\"y1\":6.5092680374642455,\"yref\":\"y\"},{\"line\":{\"color\":\"white\",\"width\":3},\"type\":\"line\",\"x0\":2.975063910974815,\"x1\":2.970872811120147,\"y0\":7.714419463712564,\"y1\":7.914375545595582},{\"line\":{\"color\":\"white\",\"width\":3},\"type\":\"line\",\"x0\":1.887117925072684,\"x1\":1.864118166373978,\"y0\":6.429951302345017,\"y1\":6.628624428609747},{\"line\":{\"color\":\"white\",\"width\":3},\"type\":\"line\",\"x0\":2.3531771543749755,\"x1\":2.3657290868352905,\"y0\":5.1657295833827686,\"y1\":5.365335317247084},{\"line\":{\"color\":\"white\",\"width\":3},\"type\":\"line\",\"x0\":2.771343948998321,\"x1\":2.7734207732165754,\"y0\":8.868837359579636,\"y1\":9.068826576291855},{\"line\":{\"color\":\"white\",\"width\":3},\"type\":\"line\",\"x0\":2.272460351565042,\"x1\":2.2659429536934854,\"y0\":7.463385283153417,\"y1\":7.663279063759477},{\"line\":{\"color\":\"white\",\"width\":3},\"type\":\"line\",\"x0\":2.155857671085766,\"x1\":2.159241571671929,\"y0\":9.82823319358474,\"y1\":10.028204564577747},{\"line\":{\"color\":\"white\",\"width\":3},\"type\":\"line\",\"x0\":2.824536662721713,\"x1\":2.8206374743069844,\"y0\":10.063096809263753,\"y1\":10.263058796475589},{\"line\":{\"color\":\"white\",\"width\":3},\"type\":\"line\",\"x0\":3.088378763412687,\"x1\":3.113398069867275,\"y0\":6.585175026882389,\"y1\":6.783603941873454},{\"line\":{\"color\":\"white\",\"width\":3},\"type\":\"line\",\"x0\":2.07343490565318,\"x1\":2.07852498448703,\"y0\":8.631290096103207,\"y1\":8.831225313354858},{\"line\":{\"color\":\"white\",\"width\":3},\"type\":\"line\",\"x0\":2.522475743564226,\"x1\":2.517267288948546,\"y0\":6.309268037464245,\"y1\":6.509200205962755}],\"title\":{\"text\":\"\\u003cb\\u003ePercentage using the shortest path: 0%  |  Number of Agents: 10\\u003c\\u002fb\\u003e\",\"x\":0.5}},\"name\":\"200\"},{\"data\":[{\"hoverinfo\":\"name\",\"line\":{\"color\":\"white\"},\"mode\":\"lines\",\"name\":\"Exterior\",\"showlegend\":false,\"x\":[10.1,10.1,15.0,15.0,13.6,13.6,15.0,15.0,13.6,13.6,15.0,15.0,10.1,10.1,9.9,9.9,5.1,5.1,4.9,4.9,0.0,0.0,1.5,1.5,0.0,0.0,1.5,1.5,0.0,0.0,4.9,4.9,5.1,5.1,9.9,9.9,10.1],\"y\":[1.5,0.0,0.0,4.9,4.9,5.1,5.1,9.9,9.9,10.1,10.1,15.0,15.0,13.6,13.6,15.0,15.0,13.6,13.6,15.0,15.0,10.1,10.1,9.9,9.9,5.1,5.1,4.9,4.9,0.0,0.0,1.5,1.5,0.0,0.0,1.5,1.5],\"type\":\"scatter\"},{\"hoverinfo\":\"name\",\"line\":{\"color\":\"white\"},\"mode\":\"lines\",\"name\":\"Obstacle\",\"showlegend\":false,\"x\":[10.1,11.5,11.5,10.1,10.1,9.9,9.9,8.6,8.6,9.9,9.9,10.1,10.1],\"y\":[5.1,5.1,4.9,4.9,3.6,3.6,4.9,4.9,5.1,5.1,6.5,6.5,5.1],\"type\":\"scatter\"},{\"hoverinfo\":\"name\",\"line\":{\"color\":\"white\"},\"mode\":\"lines\",\"name\":\"Obstacle\",\"showlegend\":false,\"x\":[10.1,11.5,11.5,10.1,10.1,9.9,9.9,8.6,8.6,9.9,9.9,10.1,10.1],\"y\":[10.1,10.1,9.9,9.9,8.6,8.6,9.9,9.9,10.1,10.1,11.5,11.5,10.1],\"type\":\"scatter\"},{\"hoverinfo\":\"name\",\"line\":{\"color\":\"white\"},\"mode\":\"lines\",\"name\":\"Obstacle\",\"showlegend\":false,\"x\":[5.1,6.4,6.4,5.1,5.1,4.9,4.9,3.6,3.6,4.9,4.9,5.1,5.1],\"y\":[5.1,5.1,4.9,4.9,3.6,3.6,4.9,4.9,5.1,5.1,6.5,6.5,5.1],\"type\":\"scatter\"},{\"hoverinfo\":\"name\",\"line\":{\"color\":\"white\"},\"mode\":\"lines\",\"name\":\"Obstacle\",\"showlegend\":false,\"x\":[5.1,6.4,6.4,5.1,5.1,4.9,4.9,3.6,3.6,4.9,4.9,5.1,5.1],\"y\":[10.1,10.1,9.9,9.9,8.6,8.6,9.9,9.9,10.1,10.1,11.5,11.5,10.1],\"type\":\"scatter\"},{\"fill\":\"toself\",\"fillcolor\":\"rgb(0, 0, 0)\",\"hoverinfo\":\"name\",\"line\":{\"width\":0},\"mode\":\"lines\",\"name\":\"Risk Area\",\"showlegend\":false,\"x\":[1.5,1.5,3.6,3.6,4.9,4.9,5.0,5.0,4.9,4.9,0.0,0.0,1.5],\"y\":[4.9,5.0,5.0,4.9,4.9,3.6,3.6,1.5,1.5,0.0,0.0,4.9,4.9],\"type\":\"scatter\"},{\"fill\":\"toself\",\"fillcolor\":\"rgb(153, 0, 0)\",\"hoverinfo\":\"name\",\"line\":{\"width\":0},\"mode\":\"lines\",\"name\":\"Risk Area\",\"showlegend\":false,\"x\":[9.9,9.9,5.1,5.1,5.0,5.0,5.1,5.1,6.4,6.4,8.6,8.6,9.9,9.9,10.0,10.0,9.9],\"y\":[1.5,0.0,0.0,1.5,1.5,3.6,3.6,4.9,4.9,5.0,5.0,4.9,4.9,3.6,3.6,1.5,1.5],\"type\":\"scatter\"},{\"fill\":\"toself\",\"fillcolor\":\"rgb(0, 0, 0)\",\"hoverinfo\":\"name\",\"line\":{\"width\":0},\"mode\":\"lines\",\"name\":\"Risk Area\",\"showlegend\":false,\"x\":[13.6,15.0,15.0,10.1,10.1,10.0,10.0,10.1,10.1,11.5,11.5,13.6,13.6],\"y\":[4.9,4.9,0.0,0.0,1.5,1.5,3.6,3.6,4.9,4.9,5.0,5.0,4.9],\"type\":\"scatter\"},{\"fill\":\"toself\",\"fillcolor\":\"rgb(153, 0, 0)\",\"hoverinfo\":\"name\",\"line\":{\"width\":0},\"mode\":\"lines\",\"name\":\"Risk Area\",\"showlegend\":false,\"x\":[13.6,15.0,15.0,13.6,13.6,11.5,11.5,10.1,10.1,10.0,10.0,10.1,10.1,11.5,11.5,13.6,13.6],\"y\":[9.9,9.9,5.1,5.1,5.0,5.0,5.1,5.1,6.5,6.5,8.6,8.6,9.9,9.9,10.0,10.0,9.9],\"type\":\"scatter\"},{\"fill\":\"toself\",\"fillcolor\":\"rgb(153, 0, 0)\",\"hoverinfo\":\"name\",\"line\":{\"width\":0},\"mode\":\"lines\",\"name\":\"Risk Area\",\"showlegend\":false,\"x\":[9.9,9.9,8.6,8.6,6.4,6.4,5.1,5.1,5.0,5.0,5.1,5.1,6.4,6.4,8.6,8.6,9.9,9.9,10.0,10.0,9.9],\"y\":[6.5,5.1,5.1,5.0,5.0,5.1,5.1,6.5,6.5,8.6,8.6,9.9,9.9,10.0,10.0,9.9,9.9,8.6,8.6,6.5,6.5],\"type\":\"scatter\"},{\"fill\":\"toself\",\"fillcolor\":\"rgb(25, 0, 0)\",\"hoverinfo\":\"name\",\"line\":{\"width\":0},\"mode\":\"lines\",\"name\":\"Risk Area\",\"showlegend\":false,\"x\":[4.9,4.9,3.6,3.6,1.5,1.5,0.0,0.0,1.5,1.5,3.6,3.6,4.9,4.9,5.0,5.0,4.9],\"y\":[6.5,5.1,5.1,5.0,5.0,5.1,5.1,9.9,9.9,10.0,10.0,9.9,9.9,8.6,8.6,6.5,6.5],\"type\":\"scatter\"},{\"fill\":\"toself\",\"fillcolor\":\"rgb(0, 0, 0)\",\"hoverinfo\":\"name\",\"line\":{\"width\":0},\"mode\":\"lines\",\"name\":\"Risk Area\",\"showlegend\":false,\"x\":[1.5,0.0,0.0,4.9,4.9,5.0,5.0,4.9,4.9,3.6,3.6,1.5,1.5],\"y\":[10.1,10.1,15.0,15.0,13.6,13.6,11.5,11.5,10.1,10.1,10.0,10.0,10.1],\"type\":\"scatter\"},{\"fill\":\"toself\",\"fillcolor\":\"rgb(51, 0, 0)\",\"hoverinfo\":\"name\",\"line\":{\"width\":0},\"mode\":\"lines\",\"name\":\"Risk Area\",\"showlegend\":false,\"x\":[6.4,5.1,5.1,5.0,5.0,5.1,5.1,9.9,9.9,10.0,10.0,9.9,9.9,8.6,8.6,6.4,6.4],\"y\":[10.1,10.1,11.5,11.5,13.6,13.6,15.0,15.0,13.6,13.6,11.5,11.5,10.1,10.1,10.0,10.0,10.1],\"type\":\"scatter\"},{\"fill\":\"toself\",\"fillcolor\":\"rgb(0, 0, 0)\",\"hoverinfo\":\"name\",\"line\":{\"width\":0},\"mode\":\"lines\",\"name\":\"Risk Area\",\"showlegend\":false,\"x\":[10.1,10.1,15.0,15.0,13.6,13.6,11.5,11.5,10.1,10.1,10.0,10.0,10.1],\"y\":[13.6,15.0,15.0,10.1,10.1,10.0,10.0,10.1,10.1,11.5,11.5,13.6,13.6],\"type\":\"scatter\"},{\"hoverinfo\":\"text\",\"marker\":{\"opacity\":1,\"size\":1},\"mode\":\"markers\",\"showlegend\":false,\"text\":[\"ID: 11, Pos(2.93,9.26)\"],\"x\":[2.927394079540924],\"y\":[9.262211827137127],\"type\":\"scatter\"},{\"hoverinfo\":\"text\",\"marker\":{\"opacity\":1,\"size\":1},\"mode\":\"markers\",\"showlegend\":false,\"text\":[\"ID: 12, Pos(1.83,8.02)\"],\"x\":[1.8330759280005802],\"y\":[8.024788524790797],\"type\":\"scatter\"},{\"hoverinfo\":\"text\",\"marker\":{\"opacity\":1,\"size\":1},\"mode\":\"markers\",\"showlegend\":false,\"text\":[\"ID: 13, Pos(2.42,6.70)\"],\"x\":[2.416021234616005],\"y\":[6.70358408166514],\"type\":\"scatter\"},{\"hoverinfo\":\"text\",\"marker\":{\"opacity\":1,\"size\":1},\"mode\":\"markers\",\"showlegend\":false,\"text\":[\"ID: 14, Pos(2.78,10.38)\"],\"x\":[2.7809570933688215],\"y\":[10.377223523372093],\"type\":\"scatter\"},{\"hoverinfo\":\"text\",\"marker\":{\"opacity\":1,\"size\":1},\"mode\":\"markers\",\"showlegend\":false,\"text\":[\"ID: 15, Pos(2.24,9.03)\"],\"x\":[2.2368219918723056],\"y\":[9.033579320580799],\"type\":\"scatter\"},{\"hoverinfo\":\"text\",\"marker\":{\"opacity\":1,\"size\":1},\"mode\":\"markers\",\"showlegend\":false,\"text\":[\"ID: 16, Pos(2.44,11.11)\"],\"x\":[2.437937422149642],\"y\":[11.105419615636162],\"type\":\"scatter\"},{\"hoverinfo\":\"text\",\"marker\":{\"opacity\":1,\"size\":1},\"mode\":\"markers\",\"showlegend\":false,\"text\":[\"ID: 17, Pos(3.40,11.22)\"],\"x\":[3.402875240013397],\"y\":[11.221899202664561],\"type\":\"scatter\"},{\"hoverinfo\":\"text\",\"marker\":{\"opacity\":1,\"size\":1},\"mode\":\"markers\",\"showlegend\":false,\"text\":[\"ID: 18, Pos(3.15,8.11)\"],\"x\":[3.148842798262761],\"y\":[8.113111435409955],\"type\":\"scatter\"},{\"hoverinfo\":\"text\",\"marker\":{\"opacity\":1,\"size\":1},\"mode\":\"markers\",\"showlegend\":false,\"text\":[\"ID: 19, Pos(2.12,10.17)\"],\"x\":[2.1191699432523445],\"y\":[10.17048724646153],\"type\":\"scatter\"},{\"hoverinfo\":\"text\",\"marker\":{\"opacity\":1,\"size\":1},\"mode\":\"markers\",\"showlegend\":false,\"text\":[\"ID: 20, Pos(2.51,7.88)\"],\"x\":[2.506189097930183],\"y\":[7.8808779014051975],\"type\":\"scatter\"}],\"layout\":{\"shapes\":[{\"fillcolor\":\"rgba(0, 0, 241, 0.5)\",\"line\":{\"color\":\"rgba(0, 0, 241, 0.5)\"},\"type\":\"circle\",\"x0\":2.727394079540924,\"x1\":3.1273940795409243,\"xref\":\"x\",\"y0\":9.062211827137128,\"y1\":9.462211827137127,\"yref\":\"y\"},{\"fillcolor\":\"rgba(0, 0, 218, 0.5)\",\"line\":{\"color\":\"rgba(0, 0, 218, 0.5)\"},\"type\":\"circle\",\"x0\":1.6330759280005802,\"x1\":2.03307592800058,\"xref\":\"x\",\"y0\":7.8247885247907965,\"y1\":8.224788524790796,\"yref\":\"y\"},{\"fillcolor\":\"rgba(0, 0, 155, 0.5)\",\"line\":{\"color\":\"rgba(0, 0, 155, 0.5)\"},\"type\":\"circle\",\"x0\":2.216021234616005,\"x1\":2.616021234616005,\"xref\":\"x\",\"y0\":6.50358408166514,\"y1\":6.90358408166514,\"yref\":\"y\"},{\"fillcolor\":\"rgba(31, 255, 215, 0.5)\",\"line\":{\"color\":\"rgba(31, 255, 215, 0.5)\"},\"type\":\"circle\",\"x0\":2.5809570933688213,\"x1\":2.9809570933688216,\"xref\":\"x\",\"y0\":10.177223523372094,\"y1\":10.577223523372092,\"yref\":\"y\"},{\"fillcolor\":\"rgba(0, 0, 209, 0.5)\",\"line\":{\"color\":\"rgba(0, 0, 209, 0.5)\"},\"type\":\"circle\",\"x0\":2.0368219918723054,\"x1\":2.4368219918723057,\"xref\":\"x\",\"y0\":8.8335793205808,\"y1\":9.233579320580798,\"yref\":\"y\"},{\"fillcolor\":\"rgba(0, 168, 255, 0.5)\",\"line\":{\"color\":\"rgba(0, 168, 255, 0.5)\"},\"type\":\"circle\",\"x0\":2.237937422149642,\"x1\":2.6379374221496423,\"xref\":\"x\",\"y0\":10.905419615636163,\"y1\":11.305419615636161,\"yref\":\"y\"},{\"fillcolor\":\"rgba(0, 0, 128, 0.5)\",\"line\":{\"color\":\"rgba(0, 0, 128, 0.5)\"},\"type\":\"circle\",\"x0\":3.202875240013397,\"x1\":3.602875240013397,\"xref\":\"x\",\"y0\":11.021899202664562,\"y1\":11.42189920266456,\"yref\":\"y\"},{\"fillcolor\":\"rgba(0, 0, 173, 0.5)\",\"line\":{\"color\":\"rgba(0, 0, 173, 0.5)\"},\"type\":\"circle\",\"x0\":2.9488427982627607,\"x1\":3.348842798262761,\"xref\":\"x\",\"y0\":7.913111435409955,\"y1\":8.313111435409954,\"yref\":\"y\"},{\"fillcolor\":\"rgba(0, 120, 255, 0.5)\",\"line\":{\"color\":\"rgba(0, 120, 255, 0.5)\"},\"type\":\"circle\",\"x0\":1.9191699432523446,\"x1\":2.3191699432523447,\"xref\":\"x\",\"y0\":9.97048724646153,\"y1\":10.37048724646153,\"yref\":\"y\"},{\"fillcolor\":\"rgba(0, 0, 150, 0.5)\",\"line\":{\"color\":\"rgba(0, 0, 150, 0.5)\"},\"type\":\"circle\",\"x0\":2.306189097930183,\"x1\":2.7061890979301833,\"xref\":\"x\",\"y0\":7.680877901405197,\"y1\":8.080877901405197,\"yref\":\"y\"},{\"line\":{\"color\":\"white\",\"width\":3},\"type\":\"line\",\"x0\":2.927394079540924,\"x1\":2.9201716339794648,\"y0\":9.262211827137127,\"y1\":9.462081375293199},{\"line\":{\"color\":\"white\",\"width\":3},\"type\":\"line\",\"x0\":1.8330759280005802,\"x1\":1.8338651018550014,\"y0\":8.024788524790797,\"y1\":8.224786967796305},{\"line\":{\"color\":\"white\",\"width\":3},\"type\":\"line\",\"x0\":2.416021234616005,\"x1\":2.418910071687816,\"y0\":6.70358408166514,\"y1\":6.903563217127749},{\"line\":{\"color\":\"black\",\"width\":3},\"type\":\"line\",\"x0\":2.7809570933688215,\"x1\":2.784232579293704,\"y0\":10.377223523372093,\"y1\":10.57719669955319},{\"line\":{\"color\":\"white\",\"width\":3},\"type\":\"line\",\"x0\":2.2368219918723056,\"x1\":2.233301901835475,\"y0\":9.033579320580799,\"y1\":9.233548340596732},{\"line\":{\"color\":\"black\",\"width\":3},\"type\":\"line\",\"x0\":2.437937422149642,\"x1\":2.6278230818765014,\"y0\":11.105419615636162,\"y1\":11.168216400825338},{\"line\":{\"color\":\"white\",\"width\":3},\"type\":\"line\",\"x0\":3.402875240013397,\"x1\":3.593349340621758,\"y0\":11.221899202664561,\"y1\":11.28288786552444},{\"line\":{\"color\":\"white\",\"width\":3},\"type\":\"line\",\"x0\":3.148842798262761,\"x1\":3.148542229381857,\"y0\":8.113111435409955,\"y1\":8.313111209555696},{\"line\":{\"color\":\"white\",\"width\":3},\"type\":\"line\",\"x0\":2.1191699432523445,\"x1\":2.125429655157864,\"y0\":10.17048724646153,\"y1\":10.370389262476527},{\"line\":{\"color\":\"white\",\"width\":3},\"type\":\"line\",\"x0\":2.506189097930183,\"x1\":2.5055419049774326,\"y0\":7.8808779014051975,\"y1\":8.080876854255662}],\"title\":{\"text\":\"\\u003cb\\u003ePercentage using the shortest path: 0%  |  Number of Agents: 10\\u003c\\u002fb\\u003e\",\"x\":0.5}},\"name\":\"250\"},{\"data\":[{\"hoverinfo\":\"name\",\"line\":{\"color\":\"white\"},\"mode\":\"lines\",\"name\":\"Exterior\",\"showlegend\":false,\"x\":[10.1,10.1,15.0,15.0,13.6,13.6,15.0,15.0,13.6,13.6,15.0,15.0,10.1,10.1,9.9,9.9,5.1,5.1,4.9,4.9,0.0,0.0,1.5,1.5,0.0,0.0,1.5,1.5,0.0,0.0,4.9,4.9,5.1,5.1,9.9,9.9,10.1],\"y\":[1.5,0.0,0.0,4.9,4.9,5.1,5.1,9.9,9.9,10.1,10.1,15.0,15.0,13.6,13.6,15.0,15.0,13.6,13.6,15.0,15.0,10.1,10.1,9.9,9.9,5.1,5.1,4.9,4.9,0.0,0.0,1.5,1.5,0.0,0.0,1.5,1.5],\"type\":\"scatter\"},{\"hoverinfo\":\"name\",\"line\":{\"color\":\"white\"},\"mode\":\"lines\",\"name\":\"Obstacle\",\"showlegend\":false,\"x\":[10.1,11.5,11.5,10.1,10.1,9.9,9.9,8.6,8.6,9.9,9.9,10.1,10.1],\"y\":[5.1,5.1,4.9,4.9,3.6,3.6,4.9,4.9,5.1,5.1,6.5,6.5,5.1],\"type\":\"scatter\"},{\"hoverinfo\":\"name\",\"line\":{\"color\":\"white\"},\"mode\":\"lines\",\"name\":\"Obstacle\",\"showlegend\":false,\"x\":[10.1,11.5,11.5,10.1,10.1,9.9,9.9,8.6,8.6,9.9,9.9,10.1,10.1],\"y\":[10.1,10.1,9.9,9.9,8.6,8.6,9.9,9.9,10.1,10.1,11.5,11.5,10.1],\"type\":\"scatter\"},{\"hoverinfo\":\"name\",\"line\":{\"color\":\"white\"},\"mode\":\"lines\",\"name\":\"Obstacle\",\"showlegend\":false,\"x\":[5.1,6.4,6.4,5.1,5.1,4.9,4.9,3.6,3.6,4.9,4.9,5.1,5.1],\"y\":[5.1,5.1,4.9,4.9,3.6,3.6,4.9,4.9,5.1,5.1,6.5,6.5,5.1],\"type\":\"scatter\"},{\"hoverinfo\":\"name\",\"line\":{\"color\":\"white\"},\"mode\":\"lines\",\"name\":\"Obstacle\",\"showlegend\":false,\"x\":[5.1,6.4,6.4,5.1,5.1,4.9,4.9,3.6,3.6,4.9,4.9,5.1,5.1],\"y\":[10.1,10.1,9.9,9.9,8.6,8.6,9.9,9.9,10.1,10.1,11.5,11.5,10.1],\"type\":\"scatter\"},{\"fill\":\"toself\",\"fillcolor\":\"rgb(25, 0, 0)\",\"hoverinfo\":\"name\",\"line\":{\"width\":0},\"mode\":\"lines\",\"name\":\"Risk Area\",\"showlegend\":false,\"x\":[1.5,1.5,3.6,3.6,4.9,4.9,5.0,5.0,4.9,4.9,0.0,0.0,1.5],\"y\":[4.9,5.0,5.0,4.9,4.9,3.6,3.6,1.5,1.5,0.0,0.0,4.9,4.9],\"type\":\"scatter\"},{\"fill\":\"toself\",\"fillcolor\":\"rgb(153, 0, 0)\",\"hoverinfo\":\"name\",\"line\":{\"width\":0},\"mode\":\"lines\",\"name\":\"Risk Area\",\"showlegend\":false,\"x\":[9.9,9.9,5.1,5.1,5.0,5.0,5.1,5.1,6.4,6.4,8.6,8.6,9.9,9.9,10.0,10.0,9.9],\"y\":[1.5,0.0,0.0,1.5,1.5,3.6,3.6,4.9,4.9,5.0,5.0,4.9,4.9,3.6,3.6,1.5,1.5],\"type\":\"scatter\"},{\"fill\":\"toself\",\"fillcolor\":\"rgb(0, 0, 0)\",\"hoverinfo\":\"name\",\"line\":{\"width\":0},\"mode\":\"lines\",\"name\":\"Risk Area\",\"showlegend\":false,\"x\":[13.6,15.0,15.0,10.1,10.1,10.0,10.0,10.1,10.1,11.5,11.5,13.6,13.6],\"y\":[4.9,4.9,0.0,0.0,1.5,1.5,3.6,3.6,4.9,4.9,5.0,5.0,4.9],\"type\":\"scatter\"},{\"fill\":\"toself\",\"fillcolor\":\"rgb(153, 0, 0)\",\"hoverinfo\":\"name\",\"line\":{\"width\":0},\"mode\":\"lines\",\"name\":\"Risk Area\",\"showlegend\":false,\"x\":[13.6,15.0,15.0,13.6,13.6,11.5,11.5,10.1,10.1,10.0,10.0,10.1,10.1,11.5,11.5,13.6,13.6],\"y\":[9.9,9.9,5.1,5.1,5.0,5.0,5.1,5.1,6.5,6.5,8.6,8.6,9.9,9.9,10.0,10.0,9.9],\"type\":\"scatter\"},{\"fill\":\"toself\",\"fillcolor\":\"rgb(153, 0, 0)\",\"hoverinfo\":\"name\",\"line\":{\"width\":0},\"mode\":\"lines\",\"name\":\"Risk Area\",\"showlegend\":false,\"x\":[9.9,9.9,8.6,8.6,6.4,6.4,5.1,5.1,5.0,5.0,5.1,5.1,6.4,6.4,8.6,8.6,9.9,9.9,10.0,10.0,9.9],\"y\":[6.5,5.1,5.1,5.0,5.0,5.1,5.1,6.5,6.5,8.6,8.6,9.9,9.9,10.0,10.0,9.9,9.9,8.6,8.6,6.5,6.5],\"type\":\"scatter\"},{\"fill\":\"toself\",\"fillcolor\":\"rgb(25, 0, 0)\",\"hoverinfo\":\"name\",\"line\":{\"width\":0},\"mode\":\"lines\",\"name\":\"Risk Area\",\"showlegend\":false,\"x\":[4.9,4.9,3.6,3.6,1.5,1.5,0.0,0.0,1.5,1.5,3.6,3.6,4.9,4.9,5.0,5.0,4.9],\"y\":[6.5,5.1,5.1,5.0,5.0,5.1,5.1,9.9,9.9,10.0,10.0,9.9,9.9,8.6,8.6,6.5,6.5],\"type\":\"scatter\"},{\"fill\":\"toself\",\"fillcolor\":\"rgb(51, 0, 0)\",\"hoverinfo\":\"name\",\"line\":{\"width\":0},\"mode\":\"lines\",\"name\":\"Risk Area\",\"showlegend\":false,\"x\":[1.5,0.0,0.0,4.9,4.9,5.0,5.0,4.9,4.9,3.6,3.6,1.5,1.5],\"y\":[10.1,10.1,15.0,15.0,13.6,13.6,11.5,11.5,10.1,10.1,10.0,10.0,10.1],\"type\":\"scatter\"},{\"fill\":\"toself\",\"fillcolor\":\"rgb(51, 0, 0)\",\"hoverinfo\":\"name\",\"line\":{\"width\":0},\"mode\":\"lines\",\"name\":\"Risk Area\",\"showlegend\":false,\"x\":[6.4,5.1,5.1,5.0,5.0,5.1,5.1,9.9,9.9,10.0,10.0,9.9,9.9,8.6,8.6,6.4,6.4],\"y\":[10.1,10.1,11.5,11.5,13.6,13.6,15.0,15.0,13.6,13.6,11.5,11.5,10.1,10.1,10.0,10.0,10.1],\"type\":\"scatter\"},{\"fill\":\"toself\",\"fillcolor\":\"rgb(25, 0, 0)\",\"hoverinfo\":\"name\",\"line\":{\"width\":0},\"mode\":\"lines\",\"name\":\"Risk Area\",\"showlegend\":false,\"x\":[10.1,10.1,15.0,15.0,13.6,13.6,11.5,11.5,10.1,10.1,10.0,10.0,10.1],\"y\":[13.6,15.0,15.0,10.1,10.1,10.0,10.0,10.1,10.1,11.5,11.5,13.6,13.6],\"type\":\"scatter\"},{\"hoverinfo\":\"text\",\"marker\":{\"opacity\":1,\"size\":1},\"mode\":\"markers\",\"showlegend\":false,\"text\":[\"ID: 11, Pos(2.89,10.29)\"],\"x\":[2.8943539213525935],\"y\":[10.288681423265098],\"type\":\"scatter\"},{\"hoverinfo\":\"text\",\"marker\":{\"opacity\":1,\"size\":1},\"mode\":\"markers\",\"showlegend\":false,\"text\":[\"ID: 12, Pos(1.84,9.44)\"],\"x\":[1.8405796888684818],\"y\":[9.43740496318966],\"type\":\"scatter\"},{\"hoverinfo\":\"text\",\"marker\":{\"opacity\":1,\"size\":1},\"mode\":\"markers\",\"showlegend\":false,\"text\":[\"ID: 13, Pos(2.44,8.24)\"],\"x\":[2.4382965217860106],\"y\":[8.242704520928843],\"type\":\"scatter\"},{\"hoverinfo\":\"text\",\"marker\":{\"opacity\":1,\"size\":1},\"mode\":\"markers\",\"showlegend\":false,\"text\":[\"ID: 14, Pos(3.03,11.06)\"],\"x\":[3.034566706881194],\"y\":[11.059397605810505],\"type\":\"scatter\"},{\"hoverinfo\":\"text\",\"marker\":{\"opacity\":1,\"size\":1},\"mode\":\"markers\",\"showlegend\":false,\"text\":[\"ID: 15, Pos(2.21,10.48)\"],\"x\":[2.210307135072303],\"y\":[10.478250005035179],\"type\":\"scatter\"},{\"hoverinfo\":\"text\",\"marker\":{\"opacity\":1,\"size\":1},\"mode\":\"markers\",\"showlegend\":false,\"text\":[\"ID: 16, Pos(3.75,11.55)\"],\"x\":[3.7504468901675097],\"y\":[11.553774610768434],\"type\":\"scatter\"},{\"hoverinfo\":\"text\",\"marker\":{\"opacity\":1,\"size\":1},\"mode\":\"markers\",\"showlegend\":false,\"text\":[\"ID: 17, Pos(4.82,11.88)\"],\"x\":[4.820144755359248],\"y\":[11.876037491458401],\"type\":\"scatter\"},{\"hoverinfo\":\"text\",\"marker\":{\"opacity\":1,\"size\":1},\"mode\":\"markers\",\"showlegend\":false,\"text\":[\"ID: 18, Pos(3.15,9.40)\"],\"x\":[3.1507282958709464],\"y\":[9.403557018418901],\"type\":\"scatter\"},{\"hoverinfo\":\"text\",\"marker\":{\"opacity\":1,\"size\":1},\"mode\":\"markers\",\"showlegend\":false,\"text\":[\"ID: 19, Pos(2.60,11.50)\"],\"x\":[2.604417810587924],\"y\":[11.498025403114964],\"type\":\"scatter\"},{\"hoverinfo\":\"text\",\"marker\":{\"opacity\":1,\"size\":1},\"mode\":\"markers\",\"showlegend\":false,\"text\":[\"ID: 20, Pos(2.50,9.39)\"],\"x\":[2.495946441913437],\"y\":[9.392050474046373],\"type\":\"scatter\"}],\"layout\":{\"shapes\":[{\"fillcolor\":\"rgba(138, 255, 109, 0.5)\",\"line\":{\"color\":\"rgba(138, 255, 109, 0.5)\"},\"type\":\"circle\",\"x0\":2.6943539213525933,\"x1\":3.0943539213525937,\"xref\":\"x\",\"y0\":10.088681423265099,\"y1\":10.488681423265097,\"yref\":\"y\"},{\"fillcolor\":\"rgba(0, 0, 255, 0.5)\",\"line\":{\"color\":\"rgba(0, 0, 255, 0.5)\"},\"type\":\"circle\",\"x0\":1.6405796888684818,\"x1\":2.040579688868482,\"xref\":\"x\",\"y0\":9.237404963189661,\"y1\":9.63740496318966,\"yref\":\"y\"},{\"fillcolor\":\"rgba(0, 0, 200, 0.5)\",\"line\":{\"color\":\"rgba(0, 0, 200, 0.5)\"},\"type\":\"circle\",\"x0\":2.2382965217860105,\"x1\":2.638296521786011,\"xref\":\"x\",\"y0\":8.042704520928844,\"y1\":8.442704520928842,\"yref\":\"y\"},{\"fillcolor\":\"rgba(0, 112, 255, 0.5)\",\"line\":{\"color\":\"rgba(0, 112, 255, 0.5)\"},\"type\":\"circle\",\"x0\":2.8345667068811937,\"x1\":3.234566706881194,\"xref\":\"x\",\"y0\":10.859397605810505,\"y1\":11.259397605810504,\"yref\":\"y\"},{\"fillcolor\":\"rgba(0, 0, 218, 0.5)\",\"line\":{\"color\":\"rgba(0, 0, 218, 0.5)\"},\"type\":\"circle\",\"x0\":2.0103071350723027,\"x1\":2.410307135072303,\"xref\":\"x\",\"y0\":10.27825000503518,\"y1\":10.678250005035178,\"yref\":\"y\"},{\"fillcolor\":\"rgba(0, 0, 246, 0.5)\",\"line\":{\"color\":\"rgba(0, 0, 246, 0.5)\"},\"type\":\"circle\",\"x0\":3.5504468901675095,\"x1\":3.95044689016751,\"xref\":\"x\",\"y0\":11.353774610768435,\"y1\":11.753774610768433,\"yref\":\"y\"},{\"fillcolor\":\"rgba(0, 0, 137, 0.5)\",\"line\":{\"color\":\"rgba(0, 0, 137, 0.5)\"},\"type\":\"circle\",\"x0\":4.620144755359248,\"x1\":5.020144755359248,\"xref\":\"x\",\"y0\":11.676037491458402,\"y1\":12.0760374914584,\"yref\":\"y\"},{\"fillcolor\":\"rgba(0, 228, 248, 0.5)\",\"line\":{\"color\":\"rgba(0, 228, 248, 0.5)\"},\"type\":\"circle\",\"x0\":2.950728295870946,\"x1\":3.3507282958709466,\"xref\":\"x\",\"y0\":9.203557018418902,\"y1\":9.6035570184189,\"yref\":\"y\"},{\"fillcolor\":\"rgba(0, 0, 132, 0.5)\",\"line\":{\"color\":\"rgba(0, 0, 132, 0.5)\"},\"type\":\"circle\",\"x0\":2.404417810587924,\"x1\":2.8044178105879243,\"xref\":\"x\",\"y0\":11.298025403114965,\"y1\":11.698025403114963,\"yref\":\"y\"},{\"fillcolor\":\"rgba(0, 37, 255, 0.5)\",\"line\":{\"color\":\"rgba(0, 37, 255, 0.5)\"},\"type\":\"circle\",\"x0\":2.2959464419134368,\"x1\":2.695946441913437,\"xref\":\"x\",\"y0\":9.192050474046374,\"y1\":9.592050474046372,\"yref\":\"y\"},{\"line\":{\"color\":\"black\",\"width\":3},\"type\":\"line\",\"x0\":2.8943539213525935,\"x1\":2.8787254822308115,\"y0\":10.288681423265098,\"y1\":10.48806986799201},{\"line\":{\"color\":\"white\",\"width\":3},\"type\":\"line\",\"x0\":1.8405796888684818,\"x1\":1.843299756529308,\"y0\":9.43740496318966,\"y1\":9.637386465414043},{\"line\":{\"color\":\"white\",\"width\":3},\"type\":\"line\",\"x0\":2.4382965217860106,\"x1\":2.4411880326629665,\"y0\":8.242704520928843,\"y1\":8.442683617748607},{\"line\":{\"color\":\"white\",\"width\":3},\"type\":\"line\",\"x0\":3.034566706881194,\"x1\":3.232896045185273,\"y0\":11.059397605810505,\"y1\":11.085194380179914},{\"line\":{\"color\":\"white\",\"width\":3},\"type\":\"line\",\"x0\":2.210307135072303,\"x1\":2.2146966893715114,\"y0\":10.478250005035179,\"y1\":10.678201828765431},{\"line\":{\"color\":\"white\",\"width\":3},\"type\":\"line\",\"x0\":3.7504468901675097,\"x1\":3.94397082966161,\"y0\":11.553774610768434,\"y1\":11.60425713093813},{\"line\":{\"color\":\"white\",\"width\":3},\"type\":\"line\",\"x0\":4.820144755359248,\"x1\":4.995010240741721,\"y0\":11.876037491458401,\"y1\":11.973104798116987},{\"line\":{\"color\":\"black\",\"width\":3},\"type\":\"line\",\"x0\":3.1507282958709464,\"x1\":3.1510789838319098,\"y0\":9.403557018418901,\"y1\":9.60355671096355},{\"line\":{\"color\":\"white\",\"width\":3},\"type\":\"line\",\"x0\":2.604417810587924,\"x1\":2.779459908768377,\"y0\":11.498025403114964,\"y1\":11.594773859767175},{\"line\":{\"color\":\"white\",\"width\":3},\"type\":\"line\",\"x0\":2.495946441913437,\"x1\":2.4946910120009766,\"y0\":9.392050474046373,\"y1\":9.592046533746895}],\"title\":{\"text\":\"\\u003cb\\u003ePercentage using the shortest path: 0%  |  Number of Agents: 10\\u003c\\u002fb\\u003e\",\"x\":0.5}},\"name\":\"300\"},{\"data\":[{\"hoverinfo\":\"name\",\"line\":{\"color\":\"white\"},\"mode\":\"lines\",\"name\":\"Exterior\",\"showlegend\":false,\"x\":[10.1,10.1,15.0,15.0,13.6,13.6,15.0,15.0,13.6,13.6,15.0,15.0,10.1,10.1,9.9,9.9,5.1,5.1,4.9,4.9,0.0,0.0,1.5,1.5,0.0,0.0,1.5,1.5,0.0,0.0,4.9,4.9,5.1,5.1,9.9,9.9,10.1],\"y\":[1.5,0.0,0.0,4.9,4.9,5.1,5.1,9.9,9.9,10.1,10.1,15.0,15.0,13.6,13.6,15.0,15.0,13.6,13.6,15.0,15.0,10.1,10.1,9.9,9.9,5.1,5.1,4.9,4.9,0.0,0.0,1.5,1.5,0.0,0.0,1.5,1.5],\"type\":\"scatter\"},{\"hoverinfo\":\"name\",\"line\":{\"color\":\"white\"},\"mode\":\"lines\",\"name\":\"Obstacle\",\"showlegend\":false,\"x\":[10.1,11.5,11.5,10.1,10.1,9.9,9.9,8.6,8.6,9.9,9.9,10.1,10.1],\"y\":[5.1,5.1,4.9,4.9,3.6,3.6,4.9,4.9,5.1,5.1,6.5,6.5,5.1],\"type\":\"scatter\"},{\"hoverinfo\":\"name\",\"line\":{\"color\":\"white\"},\"mode\":\"lines\",\"name\":\"Obstacle\",\"showlegend\":false,\"x\":[10.1,11.5,11.5,10.1,10.1,9.9,9.9,8.6,8.6,9.9,9.9,10.1,10.1],\"y\":[10.1,10.1,9.9,9.9,8.6,8.6,9.9,9.9,10.1,10.1,11.5,11.5,10.1],\"type\":\"scatter\"},{\"hoverinfo\":\"name\",\"line\":{\"color\":\"white\"},\"mode\":\"lines\",\"name\":\"Obstacle\",\"showlegend\":false,\"x\":[5.1,6.4,6.4,5.1,5.1,4.9,4.9,3.6,3.6,4.9,4.9,5.1,5.1],\"y\":[5.1,5.1,4.9,4.9,3.6,3.6,4.9,4.9,5.1,5.1,6.5,6.5,5.1],\"type\":\"scatter\"},{\"hoverinfo\":\"name\",\"line\":{\"color\":\"white\"},\"mode\":\"lines\",\"name\":\"Obstacle\",\"showlegend\":false,\"x\":[5.1,6.4,6.4,5.1,5.1,4.9,4.9,3.6,3.6,4.9,4.9,5.1,5.1],\"y\":[10.1,10.1,9.9,9.9,8.6,8.6,9.9,9.9,10.1,10.1,11.5,11.5,10.1],\"type\":\"scatter\"},{\"fill\":\"toself\",\"fillcolor\":\"rgb(25, 0, 0)\",\"hoverinfo\":\"name\",\"line\":{\"width\":0},\"mode\":\"lines\",\"name\":\"Risk Area\",\"showlegend\":false,\"x\":[1.5,1.5,3.6,3.6,4.9,4.9,5.0,5.0,4.9,4.9,0.0,0.0,1.5],\"y\":[4.9,5.0,5.0,4.9,4.9,3.6,3.6,1.5,1.5,0.0,0.0,4.9,4.9],\"type\":\"scatter\"},{\"fill\":\"toself\",\"fillcolor\":\"rgb(153, 0, 0)\",\"hoverinfo\":\"name\",\"line\":{\"width\":0},\"mode\":\"lines\",\"name\":\"Risk Area\",\"showlegend\":false,\"x\":[9.9,9.9,5.1,5.1,5.0,5.0,5.1,5.1,6.4,6.4,8.6,8.6,9.9,9.9,10.0,10.0,9.9],\"y\":[1.5,0.0,0.0,1.5,1.5,3.6,3.6,4.9,4.9,5.0,5.0,4.9,4.9,3.6,3.6,1.5,1.5],\"type\":\"scatter\"},{\"fill\":\"toself\",\"fillcolor\":\"rgb(0, 0, 0)\",\"hoverinfo\":\"name\",\"line\":{\"width\":0},\"mode\":\"lines\",\"name\":\"Risk Area\",\"showlegend\":false,\"x\":[13.6,15.0,15.0,10.1,10.1,10.0,10.0,10.1,10.1,11.5,11.5,13.6,13.6],\"y\":[4.9,4.9,0.0,0.0,1.5,1.5,3.6,3.6,4.9,4.9,5.0,5.0,4.9],\"type\":\"scatter\"},{\"fill\":\"toself\",\"fillcolor\":\"rgb(153, 0, 0)\",\"hoverinfo\":\"name\",\"line\":{\"width\":0},\"mode\":\"lines\",\"name\":\"Risk Area\",\"showlegend\":false,\"x\":[13.6,15.0,15.0,13.6,13.6,11.5,11.5,10.1,10.1,10.0,10.0,10.1,10.1,11.5,11.5,13.6,13.6],\"y\":[9.9,9.9,5.1,5.1,5.0,5.0,5.1,5.1,6.5,6.5,8.6,8.6,9.9,9.9,10.0,10.0,9.9],\"type\":\"scatter\"},{\"fill\":\"toself\",\"fillcolor\":\"rgb(204, 0, 0)\",\"hoverinfo\":\"name\",\"line\":{\"width\":0},\"mode\":\"lines\",\"name\":\"Risk Area\",\"showlegend\":false,\"x\":[9.9,9.9,8.6,8.6,6.4,6.4,5.1,5.1,5.0,5.0,5.1,5.1,6.4,6.4,8.6,8.6,9.9,9.9,10.0,10.0,9.9],\"y\":[6.5,5.1,5.1,5.0,5.0,5.1,5.1,6.5,6.5,8.6,8.6,9.9,9.9,10.0,10.0,9.9,9.9,8.6,8.6,6.5,6.5],\"type\":\"scatter\"},{\"fill\":\"toself\",\"fillcolor\":\"rgb(25, 0, 0)\",\"hoverinfo\":\"name\",\"line\":{\"width\":0},\"mode\":\"lines\",\"name\":\"Risk Area\",\"showlegend\":false,\"x\":[4.9,4.9,3.6,3.6,1.5,1.5,0.0,0.0,1.5,1.5,3.6,3.6,4.9,4.9,5.0,5.0,4.9],\"y\":[6.5,5.1,5.1,5.0,5.0,5.1,5.1,9.9,9.9,10.0,10.0,9.9,9.9,8.6,8.6,6.5,6.5],\"type\":\"scatter\"},{\"fill\":\"toself\",\"fillcolor\":\"rgb(51, 0, 0)\",\"hoverinfo\":\"name\",\"line\":{\"width\":0},\"mode\":\"lines\",\"name\":\"Risk Area\",\"showlegend\":false,\"x\":[1.5,0.0,0.0,4.9,4.9,5.0,5.0,4.9,4.9,3.6,3.6,1.5,1.5],\"y\":[10.1,10.1,15.0,15.0,13.6,13.6,11.5,11.5,10.1,10.1,10.0,10.0,10.1],\"type\":\"scatter\"},{\"fill\":\"toself\",\"fillcolor\":\"rgb(51, 0, 0)\",\"hoverinfo\":\"name\",\"line\":{\"width\":0},\"mode\":\"lines\",\"name\":\"Risk Area\",\"showlegend\":false,\"x\":[6.4,5.1,5.1,5.0,5.0,5.1,5.1,9.9,9.9,10.0,10.0,9.9,9.9,8.6,8.6,6.4,6.4],\"y\":[10.1,10.1,11.5,11.5,13.6,13.6,15.0,15.0,13.6,13.6,11.5,11.5,10.1,10.1,10.0,10.0,10.1],\"type\":\"scatter\"},{\"fill\":\"toself\",\"fillcolor\":\"rgb(25, 0, 0)\",\"hoverinfo\":\"name\",\"line\":{\"width\":0},\"mode\":\"lines\",\"name\":\"Risk Area\",\"showlegend\":false,\"x\":[10.1,10.1,15.0,15.0,13.6,13.6,11.5,11.5,10.1,10.1,10.0,10.0,10.1],\"y\":[13.6,15.0,15.0,10.1,10.1,10.0,10.0,10.1,10.1,11.5,11.5,13.6,13.6],\"type\":\"scatter\"},{\"hoverinfo\":\"text\",\"marker\":{\"opacity\":1,\"size\":1},\"mode\":\"markers\",\"showlegend\":false,\"text\":[\"ID: 11, Pos(3.31,11.12)\"],\"x\":[3.307327570626673],\"y\":[11.122412489715435],\"type\":\"scatter\"},{\"hoverinfo\":\"text\",\"marker\":{\"opacity\":1,\"size\":1},\"mode\":\"markers\",\"showlegend\":false,\"text\":[\"ID: 12, Pos(2.22,10.80)\"],\"x\":[2.2212595215312425],\"y\":[10.799076149665295],\"type\":\"scatter\"},{\"hoverinfo\":\"text\",\"marker\":{\"opacity\":1,\"size\":1},\"mode\":\"markers\",\"showlegend\":false,\"text\":[\"ID: 13, Pos(2.73,9.52)\"],\"x\":[2.7295303446995893],\"y\":[9.523941822473597],\"type\":\"scatter\"},{\"hoverinfo\":\"text\",\"marker\":{\"opacity\":1,\"size\":1},\"mode\":\"markers\",\"showlegend\":false,\"text\":[\"ID: 14, Pos(4.26,11.37)\"],\"x\":[4.264454207917084],\"y\":[11.37105256677992],\"type\":\"scatter\"},{\"hoverinfo\":\"text\",\"marker\":{\"opacity\":1,\"size\":1},\"mode\":\"markers\",\"showlegend\":false,\"text\":[\"ID: 15, Pos(2.96,11.67)\"],\"x\":[2.9636445031943817],\"y\":[11.665778541516131],\"type\":\"scatter\"},{\"hoverinfo\":\"text\",\"marker\":{\"opacity\":1,\"size\":1},\"mode\":\"markers\",\"showlegend\":false,\"text\":[\"ID: 16, Pos(5.21,12.01)\"],\"x\":[5.205152336340719],\"y\":[12.009392013663234],\"type\":\"scatter\"},{\"hoverinfo\":\"text\",\"marker\":{\"opacity\":1,\"size\":1},\"mode\":\"markers\",\"showlegend\":false,\"text\":[\"ID: 17, Pos(6.37,12.25)\"],\"x\":[6.372052379113806],\"y\":[12.252861544018945],\"type\":\"scatter\"},{\"hoverinfo\":\"text\",\"marker\":{\"opacity\":1,\"size\":1},\"mode\":\"markers\",\"showlegend\":false,\"text\":[\"ID: 18, Pos(3.43,10.47)\"],\"x\":[3.4321496133269176],\"y\":[10.47263653963824],\"type\":\"scatter\"},{\"hoverinfo\":\"text\",\"marker\":{\"opacity\":1,\"size\":1},\"mode\":\"markers\",\"showlegend\":false,\"text\":[\"ID: 19, Pos(4.06,12.03)\"],\"x\":[4.056431049005888],\"y\":[12.026756874680746],\"type\":\"scatter\"},{\"hoverinfo\":\"text\",\"marker\":{\"opacity\":1,\"size\":1},\"mode\":\"markers\",\"showlegend\":false,\"text\":[\"ID: 20, Pos(2.66,10.38)\"],\"x\":[2.655276470371866],\"y\":[10.375325668331213],\"type\":\"scatter\"}],\"layout\":{\"shapes\":[{\"fillcolor\":\"rgba(0, 144, 255, 0.5)\",\"line\":{\"color\":\"rgba(0, 144, 255, 0.5)\"},\"type\":\"circle\",\"x0\":3.1073275706266728,\"x1\":3.507327570626673,\"xref\":\"x\",\"y0\":10.922412489715436,\"y1\":11.322412489715434,\"yref\":\"y\"},{\"fillcolor\":\"rgba(0, 0, 218, 0.5)\",\"line\":{\"color\":\"rgba(0, 0, 218, 0.5)\"},\"type\":\"circle\",\"x0\":2.0212595215312423,\"x1\":2.4212595215312427,\"xref\":\"x\",\"y0\":10.599076149665295,\"y1\":10.999076149665294,\"yref\":\"y\"},{\"fillcolor\":\"rgba(0, 0, 155, 0.5)\",\"line\":{\"color\":\"rgba(0, 0, 155, 0.5)\"},\"type\":\"circle\",\"x0\":2.529530344699589,\"x1\":2.9295303446995895,\"xref\":\"x\",\"y0\":9.323941822473598,\"y1\":9.723941822473597,\"yref\":\"y\"},{\"fillcolor\":\"rgba(0, 0, 218, 0.5)\",\"line\":{\"color\":\"rgba(0, 0, 218, 0.5)\"},\"type\":\"circle\",\"x0\":4.064454207917084,\"x1\":4.464454207917084,\"xref\":\"x\",\"y0\":11.17105256677992,\"y1\":11.571052566779919,\"yref\":\"y\"},{\"fillcolor\":\"rgba(0, 0, 196, 0.5)\",\"line\":{\"color\":\"rgba(0, 0, 196, 0.5)\"},\"type\":\"circle\",\"x0\":2.7636445031943815,\"x1\":3.163644503194382,\"xref\":\"x\",\"y0\":11.465778541516132,\"y1\":11.86577854151613,\"yref\":\"y\"},{\"fillcolor\":\"rgba(0, 0, 137, 0.5)\",\"line\":{\"color\":\"rgba(0, 0, 137, 0.5)\"},\"type\":\"circle\",\"x0\":5.005152336340719,\"x1\":5.405152336340719,\"xref\":\"x\",\"y0\":11.809392013663235,\"y1\":12.209392013663233,\"yref\":\"y\"},{\"fillcolor\":\"rgba(0, 0, 128, 0.5)\",\"line\":{\"color\":\"rgba(0, 0, 128, 0.5)\"},\"type\":\"circle\",\"x0\":6.172052379113806,\"x1\":6.572052379113806,\"xref\":\"x\",\"y0\":12.052861544018945,\"y1\":12.452861544018944,\"yref\":\"y\"},{\"fillcolor\":\"rgba(0, 0, 132, 0.5)\",\"line\":{\"color\":\"rgba(0, 0, 132, 0.5)\"},\"type\":\"circle\",\"x0\":3.2321496133269174,\"x1\":3.6321496133269178,\"xref\":\"x\",\"y0\":10.27263653963824,\"y1\":10.672636539638239,\"yref\":\"y\"},{\"fillcolor\":\"rgba(0, 0, 200, 0.5)\",\"line\":{\"color\":\"rgba(0, 0, 200, 0.5)\"},\"type\":\"circle\",\"x0\":3.856431049005888,\"x1\":4.256431049005888,\"xref\":\"x\",\"y0\":11.826756874680747,\"y1\":12.226756874680746,\"yref\":\"y\"},{\"fillcolor\":\"rgba(144, 255, 102, 0.5)\",\"line\":{\"color\":\"rgba(144, 255, 102, 0.5)\"},\"type\":\"circle\",\"x0\":2.455276470371866,\"x1\":2.8552764703718663,\"xref\":\"x\",\"y0\":10.175325668331213,\"y1\":10.575325668331212,\"yref\":\"y\"},{\"line\":{\"color\":\"white\",\"width\":3},\"type\":\"line\",\"x0\":3.307327570626673,\"x1\":3.4976762685121834,\"y0\":11.122412489715435,\"y1\":11.183791421062361},{\"line\":{\"color\":\"white\",\"width\":3},\"type\":\"line\",\"x0\":2.2212595215312425,\"x1\":2.3790783103181656,\"y0\":10.799076149665295,\"y1\":10.921930656728847},{\"line\":{\"color\":\"white\",\"width\":3},\"type\":\"line\",\"x0\":2.7295303446995893,\"x1\":2.873700290031641,\"y0\":9.523941822473597,\"y1\":9.66256009999483},{\"line\":{\"color\":\"white\",\"width\":3},\"type\":\"line\",\"x0\":4.264454207917084,\"x1\":4.453691545419841,\"y0\":11.37105256677992,\"y1\":11.435776828806365},{\"line\":{\"color\":\"white\",\"width\":3},\"type\":\"line\",\"x0\":2.9636445031943817,\"x1\":3.1468365031946366,\"y0\":11.665778541516131,\"y1\":11.746032458155176},{\"line\":{\"color\":\"white\",\"width\":3},\"type\":\"line\",\"x0\":5.205152336340719,\"x1\":5.399947345840532,\"y0\":12.009392013663234,\"y1\":12.054723065647142},{\"line\":{\"color\":\"white\",\"width\":3},\"type\":\"line\",\"x0\":6.372052379113806,\"x1\":6.568057436264145,\"y0\":12.252861544018945,\"y1\":12.292636128510704},{\"line\":{\"color\":\"white\",\"width\":3},\"type\":\"line\",\"x0\":3.4321496133269176,\"x1\":3.5902789582660883,\"y0\":10.47263653963824,\"y1\":10.595091062907528},{\"line\":{\"color\":\"white\",\"width\":3},\"type\":\"line\",\"x0\":4.056431049005888,\"x1\":4.248414072924654,\"y0\":12.026756874680746,\"y1\":12.082815045601732},{\"line\":{\"color\":\"black\",\"width\":3},\"type\":\"line\",\"x0\":2.655276470371866,\"x1\":2.8478221229151663,\"y0\":10.375325668331213,\"y1\":10.429419768625742}],\"title\":{\"text\":\"\\u003cb\\u003ePercentage using the shortest path: 0%  |  Number of Agents: 10\\u003c\\u002fb\\u003e\",\"x\":0.5}},\"name\":\"350\"},{\"data\":[{\"hoverinfo\":\"name\",\"line\":{\"color\":\"white\"},\"mode\":\"lines\",\"name\":\"Exterior\",\"showlegend\":false,\"x\":[10.1,10.1,15.0,15.0,13.6,13.6,15.0,15.0,13.6,13.6,15.0,15.0,10.1,10.1,9.9,9.9,5.1,5.1,4.9,4.9,0.0,0.0,1.5,1.5,0.0,0.0,1.5,1.5,0.0,0.0,4.9,4.9,5.1,5.1,9.9,9.9,10.1],\"y\":[1.5,0.0,0.0,4.9,4.9,5.1,5.1,9.9,9.9,10.1,10.1,15.0,15.0,13.6,13.6,15.0,15.0,13.6,13.6,15.0,15.0,10.1,10.1,9.9,9.9,5.1,5.1,4.9,4.9,0.0,0.0,1.5,1.5,0.0,0.0,1.5,1.5],\"type\":\"scatter\"},{\"hoverinfo\":\"name\",\"line\":{\"color\":\"white\"},\"mode\":\"lines\",\"name\":\"Obstacle\",\"showlegend\":false,\"x\":[10.1,11.5,11.5,10.1,10.1,9.9,9.9,8.6,8.6,9.9,9.9,10.1,10.1],\"y\":[5.1,5.1,4.9,4.9,3.6,3.6,4.9,4.9,5.1,5.1,6.5,6.5,5.1],\"type\":\"scatter\"},{\"hoverinfo\":\"name\",\"line\":{\"color\":\"white\"},\"mode\":\"lines\",\"name\":\"Obstacle\",\"showlegend\":false,\"x\":[10.1,11.5,11.5,10.1,10.1,9.9,9.9,8.6,8.6,9.9,9.9,10.1,10.1],\"y\":[10.1,10.1,9.9,9.9,8.6,8.6,9.9,9.9,10.1,10.1,11.5,11.5,10.1],\"type\":\"scatter\"},{\"hoverinfo\":\"name\",\"line\":{\"color\":\"white\"},\"mode\":\"lines\",\"name\":\"Obstacle\",\"showlegend\":false,\"x\":[5.1,6.4,6.4,5.1,5.1,4.9,4.9,3.6,3.6,4.9,4.9,5.1,5.1],\"y\":[5.1,5.1,4.9,4.9,3.6,3.6,4.9,4.9,5.1,5.1,6.5,6.5,5.1],\"type\":\"scatter\"},{\"hoverinfo\":\"name\",\"line\":{\"color\":\"white\"},\"mode\":\"lines\",\"name\":\"Obstacle\",\"showlegend\":false,\"x\":[5.1,6.4,6.4,5.1,5.1,4.9,4.9,3.6,3.6,4.9,4.9,5.1,5.1],\"y\":[10.1,10.1,9.9,9.9,8.6,8.6,9.9,9.9,10.1,10.1,11.5,11.5,10.1],\"type\":\"scatter\"},{\"fill\":\"toself\",\"fillcolor\":\"rgb(25, 0, 0)\",\"hoverinfo\":\"name\",\"line\":{\"width\":0},\"mode\":\"lines\",\"name\":\"Risk Area\",\"showlegend\":false,\"x\":[1.5,1.5,3.6,3.6,4.9,4.9,5.0,5.0,4.9,4.9,0.0,0.0,1.5],\"y\":[4.9,5.0,5.0,4.9,4.9,3.6,3.6,1.5,1.5,0.0,0.0,4.9,4.9],\"type\":\"scatter\"},{\"fill\":\"toself\",\"fillcolor\":\"rgb(153, 0, 0)\",\"hoverinfo\":\"name\",\"line\":{\"width\":0},\"mode\":\"lines\",\"name\":\"Risk Area\",\"showlegend\":false,\"x\":[9.9,9.9,5.1,5.1,5.0,5.0,5.1,5.1,6.4,6.4,8.6,8.6,9.9,9.9,10.0,10.0,9.9],\"y\":[1.5,0.0,0.0,1.5,1.5,3.6,3.6,4.9,4.9,5.0,5.0,4.9,4.9,3.6,3.6,1.5,1.5],\"type\":\"scatter\"},{\"fill\":\"toself\",\"fillcolor\":\"rgb(0, 0, 0)\",\"hoverinfo\":\"name\",\"line\":{\"width\":0},\"mode\":\"lines\",\"name\":\"Risk Area\",\"showlegend\":false,\"x\":[13.6,15.0,15.0,10.1,10.1,10.0,10.0,10.1,10.1,11.5,11.5,13.6,13.6],\"y\":[4.9,4.9,0.0,0.0,1.5,1.5,3.6,3.6,4.9,4.9,5.0,5.0,4.9],\"type\":\"scatter\"},{\"fill\":\"toself\",\"fillcolor\":\"rgb(153, 0, 0)\",\"hoverinfo\":\"name\",\"line\":{\"width\":0},\"mode\":\"lines\",\"name\":\"Risk Area\",\"showlegend\":false,\"x\":[13.6,15.0,15.0,13.6,13.6,11.5,11.5,10.1,10.1,10.0,10.0,10.1,10.1,11.5,11.5,13.6,13.6],\"y\":[9.9,9.9,5.1,5.1,5.0,5.0,5.1,5.1,6.5,6.5,8.6,8.6,9.9,9.9,10.0,10.0,9.9],\"type\":\"scatter\"},{\"fill\":\"toself\",\"fillcolor\":\"rgb(204, 0, 0)\",\"hoverinfo\":\"name\",\"line\":{\"width\":0},\"mode\":\"lines\",\"name\":\"Risk Area\",\"showlegend\":false,\"x\":[9.9,9.9,8.6,8.6,6.4,6.4,5.1,5.1,5.0,5.0,5.1,5.1,6.4,6.4,8.6,8.6,9.9,9.9,10.0,10.0,9.9],\"y\":[6.5,5.1,5.1,5.0,5.0,5.1,5.1,6.5,6.5,8.6,8.6,9.9,9.9,10.0,10.0,9.9,9.9,8.6,8.6,6.5,6.5],\"type\":\"scatter\"},{\"fill\":\"toself\",\"fillcolor\":\"rgb(25, 0, 0)\",\"hoverinfo\":\"name\",\"line\":{\"width\":0},\"mode\":\"lines\",\"name\":\"Risk Area\",\"showlegend\":false,\"x\":[4.9,4.9,3.6,3.6,1.5,1.5,0.0,0.0,1.5,1.5,3.6,3.6,4.9,4.9,5.0,5.0,4.9],\"y\":[6.5,5.1,5.1,5.0,5.0,5.1,5.1,9.9,9.9,10.0,10.0,9.9,9.9,8.6,8.6,6.5,6.5],\"type\":\"scatter\"},{\"fill\":\"toself\",\"fillcolor\":\"rgb(51, 0, 0)\",\"hoverinfo\":\"name\",\"line\":{\"width\":0},\"mode\":\"lines\",\"name\":\"Risk Area\",\"showlegend\":false,\"x\":[1.5,0.0,0.0,4.9,4.9,5.0,5.0,4.9,4.9,3.6,3.6,1.5,1.5],\"y\":[10.1,10.1,15.0,15.0,13.6,13.6,11.5,11.5,10.1,10.1,10.0,10.0,10.1],\"type\":\"scatter\"},{\"fill\":\"toself\",\"fillcolor\":\"rgb(76, 0, 0)\",\"hoverinfo\":\"name\",\"line\":{\"width\":0},\"mode\":\"lines\",\"name\":\"Risk Area\",\"showlegend\":false,\"x\":[6.4,5.1,5.1,5.0,5.0,5.1,5.1,9.9,9.9,10.0,10.0,9.9,9.9,8.6,8.6,6.4,6.4],\"y\":[10.1,10.1,11.5,11.5,13.6,13.6,15.0,15.0,13.6,13.6,11.5,11.5,10.1,10.1,10.0,10.0,10.1],\"type\":\"scatter\"},{\"fill\":\"toself\",\"fillcolor\":\"rgb(25, 0, 0)\",\"hoverinfo\":\"name\",\"line\":{\"width\":0},\"mode\":\"lines\",\"name\":\"Risk Area\",\"showlegend\":false,\"x\":[10.1,10.1,15.0,15.0,13.6,13.6,11.5,11.5,10.1,10.1,10.0,10.0,10.1],\"y\":[13.6,15.0,15.0,10.1,10.1,10.0,10.0,10.1,10.1,11.5,11.5,13.6,13.6],\"type\":\"scatter\"},{\"hoverinfo\":\"text\",\"marker\":{\"opacity\":1,\"size\":1},\"mode\":\"markers\",\"showlegend\":false,\"text\":[\"ID: 11, Pos(4.16,11.53)\"],\"x\":[4.155124036296661],\"y\":[11.529196827786976],\"type\":\"scatter\"},{\"hoverinfo\":\"text\",\"marker\":{\"opacity\":1,\"size\":1},\"mode\":\"markers\",\"showlegend\":false,\"text\":[\"ID: 12, Pos(3.29,11.43)\"],\"x\":[3.290435732615093],\"y\":[11.433472124089885],\"type\":\"scatter\"},{\"hoverinfo\":\"text\",\"marker\":{\"opacity\":1,\"size\":1},\"mode\":\"markers\",\"showlegend\":false,\"text\":[\"ID: 13, Pos(3.28,10.25)\"],\"x\":[3.2808214637524604],\"y\":[10.250176996422333],\"type\":\"scatter\"},{\"hoverinfo\":\"text\",\"marker\":{\"opacity\":1,\"size\":1},\"mode\":\"markers\",\"showlegend\":false,\"text\":[\"ID: 14, Pos(4.86,11.88)\"],\"x\":[4.8631506778599],\"y\":[11.875539300606277],\"type\":\"scatter\"},{\"hoverinfo\":\"text\",\"marker\":{\"opacity\":1,\"size\":1},\"mode\":\"markers\",\"showlegend\":false,\"text\":[\"ID: 15, Pos(4.39,12.25)\"],\"x\":[4.392530678000057],\"y\":[12.249806685553423],\"type\":\"scatter\"},{\"hoverinfo\":\"text\",\"marker\":{\"opacity\":1,\"size\":1},\"mode\":\"markers\",\"showlegend\":false,\"text\":[\"ID: 16, Pos(6.76,12.34)\"],\"x\":[6.764544271002325],\"y\":[12.335367780262843],\"type\":\"scatter\"},{\"hoverinfo\":\"text\",\"marker\":{\"opacity\":1,\"size\":1},\"mode\":\"markers\",\"showlegend\":false,\"text\":[\"ID: 17, Pos(7.94,12.57)\"],\"x\":[7.940094758053736],\"y\":[12.571048749665575],\"type\":\"scatter\"},{\"hoverinfo\":\"text\",\"marker\":{\"opacity\":1,\"size\":1},\"mode\":\"markers\",\"showlegend\":false,\"text\":[\"ID: 18, Pos(4.60,11.19)\"],\"x\":[4.59831158290478],\"y\":[11.191454619476065],\"type\":\"scatter\"},{\"hoverinfo\":\"text\",\"marker\":{\"opacity\":1,\"size\":1},\"mode\":\"markers\",\"showlegend\":false,\"text\":[\"ID: 19, Pos(5.58,12.38)\"],\"x\":[5.579261022851251],\"y\":[12.376075283723686],\"type\":\"scatter\"},{\"hoverinfo\":\"text\",\"marker\":{\"opacity\":1,\"size\":1},\"mode\":\"markers\",\"showlegend\":false,\"text\":[\"ID: 20, Pos(3.59,10.86)\"],\"x\":[3.593569755065404],\"y\":[10.862353183277495],\"type\":\"scatter\"}],\"layout\":{\"shapes\":[{\"fillcolor\":\"rgba(157, 255, 90, 0.5)\",\"line\":{\"color\":\"rgba(157, 255, 90, 0.5)\"},\"type\":\"circle\",\"x0\":3.9551240362966604,\"x1\":4.355124036296661,\"xref\":\"x\",\"y0\":11.329196827786976,\"y1\":11.729196827786975,\"yref\":\"y\"},{\"fillcolor\":\"rgba(51, 255, 196, 0.5)\",\"line\":{\"color\":\"rgba(51, 255, 196, 0.5)\"},\"type\":\"circle\",\"x0\":3.090435732615093,\"x1\":3.490435732615093,\"xref\":\"x\",\"y0\":11.233472124089886,\"y1\":11.633472124089884,\"yref\":\"y\"},{\"fillcolor\":\"rgba(244, 248, 2, 0.5)\",\"line\":{\"color\":\"rgba(244, 248, 2, 0.5)\"},\"type\":\"circle\",\"x0\":3.0808214637524602,\"x1\":3.4808214637524606,\"xref\":\"x\",\"y0\":10.050176996422334,\"y1\":10.450176996422332,\"yref\":\"y\"},{\"fillcolor\":\"rgba(51, 255, 196, 0.5)\",\"line\":{\"color\":\"rgba(51, 255, 196, 0.5)\"},\"type\":\"circle\",\"x0\":4.6631506778599,\"x1\":5.0631506778599,\"xref\":\"x\",\"y0\":11.675539300606278,\"y1\":12.075539300606277,\"yref\":\"y\"},{\"fillcolor\":\"rgba(0, 0, 132, 0.5)\",\"line\":{\"color\":\"rgba(0, 0, 132, 0.5)\"},\"type\":\"circle\",\"x0\":4.192530678000057,\"x1\":4.592530678000057,\"xref\":\"x\",\"y0\":12.049806685553424,\"y1\":12.449806685553423,\"yref\":\"y\"},{\"fillcolor\":\"rgba(0, 0, 128, 0.5)\",\"line\":{\"color\":\"rgba(0, 0, 128, 0.5)\"},\"type\":\"circle\",\"x0\":6.564544271002325,\"x1\":6.9645442710023255,\"xref\":\"x\",\"y0\":12.135367780262843,\"y1\":12.535367780262842,\"yref\":\"y\"},{\"fillcolor\":\"rgba(0, 0, 128, 0.5)\",\"line\":{\"color\":\"rgba(0, 0, 128, 0.5)\"},\"type\":\"circle\",\"x0\":7.740094758053736,\"x1\":8.140094758053737,\"xref\":\"x\",\"y0\":12.371048749665576,\"y1\":12.771048749665574,\"yref\":\"y\"},{\"fillcolor\":\"rgba(199, 255, 48, 0.5)\",\"line\":{\"color\":\"rgba(199, 255, 48, 0.5)\"},\"type\":\"circle\",\"x0\":4.39831158290478,\"x1\":4.79831158290478,\"xref\":\"x\",\"y0\":10.991454619476066,\"y1\":11.391454619476065,\"yref\":\"y\"},{\"fillcolor\":\"rgba(0, 0, 146, 0.5)\",\"line\":{\"color\":\"rgba(0, 0, 146, 0.5)\"},\"type\":\"circle\",\"x0\":5.379261022851251,\"x1\":5.7792610228512515,\"xref\":\"x\",\"y0\":12.176075283723687,\"y1\":12.576075283723686,\"yref\":\"y\"},{\"fillcolor\":\"rgba(31, 255, 215, 0.5)\",\"line\":{\"color\":\"rgba(31, 255, 215, 0.5)\"},\"type\":\"circle\",\"x0\":3.393569755065404,\"x1\":3.793569755065404,\"xref\":\"x\",\"y0\":10.662353183277496,\"y1\":11.062353183277494,\"yref\":\"y\"},{\"line\":{\"color\":\"black\",\"width\":3},\"type\":\"line\",\"x0\":4.155124036296661,\"x1\":4.293160048443379,\"y0\":11.529196827786976,\"y1\":11.67392436266072},{\"line\":{\"color\":\"black\",\"width\":3},\"type\":\"line\",\"x0\":3.290435732615093,\"x1\":3.467712135123243,\"y0\":11.433472124089885,\"y1\":11.526063036785292},{\"line\":{\"color\":\"black\",\"width\":3},\"type\":\"line\",\"x0\":3.2808214637524604,\"x1\":3.3399658517754127,\"y0\":10.250176996422333,\"y1\":10.441231808885643},{\"line\":{\"color\":\"black\",\"width\":3},\"type\":\"line\",\"x0\":4.8631506778599,\"x1\":5.051930253553747,\"y0\":11.875539300606277,\"y1\":11.941586797158765},{\"line\":{\"color\":\"white\",\"width\":3},\"type\":\"line\",\"x0\":4.392530678000057,\"x1\":4.572064761446675,\"y0\":12.249806685553423,\"y1\":12.337940180213415},{\"line\":{\"color\":\"white\",\"width\":3},\"type\":\"line\",\"x0\":6.764544271002325,\"x1\":6.96057438150038,\"y0\":12.335367780262843,\"y1\":12.375018704314124},{\"line\":{\"color\":\"white\",\"width\":3},\"type\":\"line\",\"x0\":7.940094758053736,\"x1\":8.136100104106475,\"y0\":12.571048749665575,\"y1\":12.610821910449529},{\"line\":{\"color\":\"black\",\"width\":3},\"type\":\"line\",\"x0\":4.59831158290478,\"x1\":4.664678885103149,\"y0\":11.191454619476065,\"y1\":11.38012200192176},{\"line\":{\"color\":\"white\",\"width\":3},\"type\":\"line\",\"x0\":5.579261022851251,\"x1\":5.7786751573186015,\"y0\":12.376075283723686,\"y1\":12.391372439493226},{\"line\":{\"color\":\"black\",\"width\":3},\"type\":\"line\",\"x0\":3.593569755065404,\"x1\":3.775260191168396,\"y0\":10.862353183277495,\"y1\":10.945950942988533}],\"title\":{\"text\":\"\\u003cb\\u003ePercentage using the shortest path: 0%  |  Number of Agents: 10\\u003c\\u002fb\\u003e\",\"x\":0.5}},\"name\":\"400\"},{\"data\":[{\"hoverinfo\":\"name\",\"line\":{\"color\":\"white\"},\"mode\":\"lines\",\"name\":\"Exterior\",\"showlegend\":false,\"x\":[10.1,10.1,15.0,15.0,13.6,13.6,15.0,15.0,13.6,13.6,15.0,15.0,10.1,10.1,9.9,9.9,5.1,5.1,4.9,4.9,0.0,0.0,1.5,1.5,0.0,0.0,1.5,1.5,0.0,0.0,4.9,4.9,5.1,5.1,9.9,9.9,10.1],\"y\":[1.5,0.0,0.0,4.9,4.9,5.1,5.1,9.9,9.9,10.1,10.1,15.0,15.0,13.6,13.6,15.0,15.0,13.6,13.6,15.0,15.0,10.1,10.1,9.9,9.9,5.1,5.1,4.9,4.9,0.0,0.0,1.5,1.5,0.0,0.0,1.5,1.5],\"type\":\"scatter\"},{\"hoverinfo\":\"name\",\"line\":{\"color\":\"white\"},\"mode\":\"lines\",\"name\":\"Obstacle\",\"showlegend\":false,\"x\":[10.1,11.5,11.5,10.1,10.1,9.9,9.9,8.6,8.6,9.9,9.9,10.1,10.1],\"y\":[5.1,5.1,4.9,4.9,3.6,3.6,4.9,4.9,5.1,5.1,6.5,6.5,5.1],\"type\":\"scatter\"},{\"hoverinfo\":\"name\",\"line\":{\"color\":\"white\"},\"mode\":\"lines\",\"name\":\"Obstacle\",\"showlegend\":false,\"x\":[10.1,11.5,11.5,10.1,10.1,9.9,9.9,8.6,8.6,9.9,9.9,10.1,10.1],\"y\":[10.1,10.1,9.9,9.9,8.6,8.6,9.9,9.9,10.1,10.1,11.5,11.5,10.1],\"type\":\"scatter\"},{\"hoverinfo\":\"name\",\"line\":{\"color\":\"white\"},\"mode\":\"lines\",\"name\":\"Obstacle\",\"showlegend\":false,\"x\":[5.1,6.4,6.4,5.1,5.1,4.9,4.9,3.6,3.6,4.9,4.9,5.1,5.1],\"y\":[5.1,5.1,4.9,4.9,3.6,3.6,4.9,4.9,5.1,5.1,6.5,6.5,5.1],\"type\":\"scatter\"},{\"hoverinfo\":\"name\",\"line\":{\"color\":\"white\"},\"mode\":\"lines\",\"name\":\"Obstacle\",\"showlegend\":false,\"x\":[5.1,6.4,6.4,5.1,5.1,4.9,4.9,3.6,3.6,4.9,4.9,5.1,5.1],\"y\":[10.1,10.1,9.9,9.9,8.6,8.6,9.9,9.9,10.1,10.1,11.5,11.5,10.1],\"type\":\"scatter\"},{\"fill\":\"toself\",\"fillcolor\":\"rgb(25, 0, 0)\",\"hoverinfo\":\"name\",\"line\":{\"width\":0},\"mode\":\"lines\",\"name\":\"Risk Area\",\"showlegend\":false,\"x\":[1.5,1.5,3.6,3.6,4.9,4.9,5.0,5.0,4.9,4.9,0.0,0.0,1.5],\"y\":[4.9,5.0,5.0,4.9,4.9,3.6,3.6,1.5,1.5,0.0,0.0,4.9,4.9],\"type\":\"scatter\"},{\"fill\":\"toself\",\"fillcolor\":\"rgb(153, 0, 0)\",\"hoverinfo\":\"name\",\"line\":{\"width\":0},\"mode\":\"lines\",\"name\":\"Risk Area\",\"showlegend\":false,\"x\":[9.9,9.9,5.1,5.1,5.0,5.0,5.1,5.1,6.4,6.4,8.6,8.6,9.9,9.9,10.0,10.0,9.9],\"y\":[1.5,0.0,0.0,1.5,1.5,3.6,3.6,4.9,4.9,5.0,5.0,4.9,4.9,3.6,3.6,1.5,1.5],\"type\":\"scatter\"},{\"fill\":\"toself\",\"fillcolor\":\"rgb(0, 0, 0)\",\"hoverinfo\":\"name\",\"line\":{\"width\":0},\"mode\":\"lines\",\"name\":\"Risk Area\",\"showlegend\":false,\"x\":[13.6,15.0,15.0,10.1,10.1,10.0,10.0,10.1,10.1,11.5,11.5,13.6,13.6],\"y\":[4.9,4.9,0.0,0.0,1.5,1.5,3.6,3.6,4.9,4.9,5.0,5.0,4.9],\"type\":\"scatter\"},{\"fill\":\"toself\",\"fillcolor\":\"rgb(153, 0, 0)\",\"hoverinfo\":\"name\",\"line\":{\"width\":0},\"mode\":\"lines\",\"name\":\"Risk Area\",\"showlegend\":false,\"x\":[13.6,15.0,15.0,13.6,13.6,11.5,11.5,10.1,10.1,10.0,10.0,10.1,10.1,11.5,11.5,13.6,13.6],\"y\":[9.9,9.9,5.1,5.1,5.0,5.0,5.1,5.1,6.5,6.5,8.6,8.6,9.9,9.9,10.0,10.0,9.9],\"type\":\"scatter\"},{\"fill\":\"toself\",\"fillcolor\":\"rgb(204, 0, 0)\",\"hoverinfo\":\"name\",\"line\":{\"width\":0},\"mode\":\"lines\",\"name\":\"Risk Area\",\"showlegend\":false,\"x\":[9.9,9.9,8.6,8.6,6.4,6.4,5.1,5.1,5.0,5.0,5.1,5.1,6.4,6.4,8.6,8.6,9.9,9.9,10.0,10.0,9.9],\"y\":[6.5,5.1,5.1,5.0,5.0,5.1,5.1,6.5,6.5,8.6,8.6,9.9,9.9,10.0,10.0,9.9,9.9,8.6,8.6,6.5,6.5],\"type\":\"scatter\"},{\"fill\":\"toself\",\"fillcolor\":\"rgb(25, 0, 0)\",\"hoverinfo\":\"name\",\"line\":{\"width\":0},\"mode\":\"lines\",\"name\":\"Risk Area\",\"showlegend\":false,\"x\":[4.9,4.9,3.6,3.6,1.5,1.5,0.0,0.0,1.5,1.5,3.6,3.6,4.9,4.9,5.0,5.0,4.9],\"y\":[6.5,5.1,5.1,5.0,5.0,5.1,5.1,9.9,9.9,10.0,10.0,9.9,9.9,8.6,8.6,6.5,6.5],\"type\":\"scatter\"},{\"fill\":\"toself\",\"fillcolor\":\"rgb(51, 0, 0)\",\"hoverinfo\":\"name\",\"line\":{\"width\":0},\"mode\":\"lines\",\"name\":\"Risk Area\",\"showlegend\":false,\"x\":[1.5,0.0,0.0,4.9,4.9,5.0,5.0,4.9,4.9,3.6,3.6,1.5,1.5],\"y\":[10.1,10.1,15.0,15.0,13.6,13.6,11.5,11.5,10.1,10.1,10.0,10.0,10.1],\"type\":\"scatter\"},{\"fill\":\"toself\",\"fillcolor\":\"rgb(76, 0, 0)\",\"hoverinfo\":\"name\",\"line\":{\"width\":0},\"mode\":\"lines\",\"name\":\"Risk Area\",\"showlegend\":false,\"x\":[6.4,5.1,5.1,5.0,5.0,5.1,5.1,9.9,9.9,10.0,10.0,9.9,9.9,8.6,8.6,6.4,6.4],\"y\":[10.1,10.1,11.5,11.5,13.6,13.6,15.0,15.0,13.6,13.6,11.5,11.5,10.1,10.1,10.0,10.0,10.1],\"type\":\"scatter\"},{\"fill\":\"toself\",\"fillcolor\":\"rgb(25, 0, 0)\",\"hoverinfo\":\"name\",\"line\":{\"width\":0},\"mode\":\"lines\",\"name\":\"Risk Area\",\"showlegend\":false,\"x\":[10.1,10.1,15.0,15.0,13.6,13.6,11.5,11.5,10.1,10.1,10.0,10.0,10.1],\"y\":[13.6,15.0,15.0,10.1,10.1,10.0,10.0,10.1,10.1,11.5,11.5,13.6,13.6],\"type\":\"scatter\"},{\"hoverinfo\":\"text\",\"marker\":{\"opacity\":1,\"size\":1},\"mode\":\"markers\",\"showlegend\":false,\"text\":[\"ID: 11, Pos(4.97,12.17)\"],\"x\":[4.965985094901069],\"y\":[12.167454121746701],\"type\":\"scatter\"},{\"hoverinfo\":\"text\",\"marker\":{\"opacity\":1,\"size\":1},\"mode\":\"markers\",\"showlegend\":false,\"text\":[\"ID: 12, Pos(4.08,11.84)\"],\"x\":[4.081052876152446],\"y\":[11.838877407059284],\"type\":\"scatter\"},{\"hoverinfo\":\"text\",\"marker\":{\"opacity\":1,\"size\":1},\"mode\":\"markers\",\"showlegend\":false,\"text\":[\"ID: 13, Pos(3.70,10.72)\"],\"x\":[3.6953445947912607],\"y\":[10.715147324632655],\"type\":\"scatter\"},{\"hoverinfo\":\"text\",\"marker\":{\"opacity\":1,\"size\":1},\"mode\":\"markers\",\"showlegend\":false,\"text\":[\"ID: 14, Pos(6.29,12.05)\"],\"x\":[6.291877088468249],\"y\":[12.04683702491353],\"type\":\"scatter\"},{\"hoverinfo\":\"text\",\"marker\":{\"opacity\":1,\"size\":1},\"mode\":\"markers\",\"showlegend\":false,\"text\":[\"ID: 15, Pos(5.93,12.62)\"],\"x\":[5.934582640240388],\"y\":[12.616793165443559],\"type\":\"scatter\"},{\"hoverinfo\":\"text\",\"marker\":{\"opacity\":1,\"size\":1},\"mode\":\"markers\",\"showlegend\":false,\"text\":[\"ID: 16, Pos(8.23,12.63)\"],\"x\":[8.227989815033892],\"y\":[12.631468160175944],\"type\":\"scatter\"},{\"hoverinfo\":\"text\",\"marker\":{\"opacity\":1,\"size\":1},\"mode\":\"markers\",\"showlegend\":false,\"text\":[\"ID: 17, Pos(9.18,12.82)\"],\"x\":[9.181862840955821],\"y\":[12.824610457593876],\"type\":\"scatter\"},{\"hoverinfo\":\"text\",\"marker\":{\"opacity\":1,\"size\":1},\"mode\":\"markers\",\"showlegend\":false,\"text\":[\"ID: 18, Pos(4.61,11.58)\"],\"x\":[4.607206649377808],\"y\":[11.583074661339992],\"type\":\"scatter\"},{\"hoverinfo\":\"text\",\"marker\":{\"opacity\":1,\"size\":1},\"mode\":\"markers\",\"showlegend\":false,\"text\":[\"ID: 19, Pos(7.12,12.60)\"],\"x\":[7.120396198794013],\"y\":[12.601470153006106],\"type\":\"scatter\"},{\"hoverinfo\":\"text\",\"marker\":{\"opacity\":1,\"size\":1},\"mode\":\"markers\",\"showlegend\":false,\"text\":[\"ID: 20, Pos(4.20,11.14)\"],\"x\":[4.195828619672863],\"y\":[11.138871981649997],\"type\":\"scatter\"}],\"layout\":{\"shapes\":[{\"fillcolor\":\"rgba(0, 40, 255, 0.5)\",\"line\":{\"color\":\"rgba(0, 40, 255, 0.5)\"},\"type\":\"circle\",\"x0\":4.765985094901069,\"x1\":5.165985094901069,\"xref\":\"x\",\"y0\":11.967454121746702,\"y1\":12.3674541217467,\"yref\":\"y\"},{\"fillcolor\":\"rgba(0, 112, 255, 0.5)\",\"line\":{\"color\":\"rgba(0, 112, 255, 0.5)\"},\"type\":\"circle\",\"x0\":3.881052876152446,\"x1\":4.2810528761524465,\"xref\":\"x\",\"y0\":11.638877407059285,\"y1\":12.038877407059283,\"yref\":\"y\"},{\"fillcolor\":\"rgba(255, 215, 0, 0.5)\",\"line\":{\"color\":\"rgba(255, 215, 0, 0.5)\"},\"type\":\"circle\",\"x0\":3.4953445947912605,\"x1\":3.895344594791261,\"xref\":\"x\",\"y0\":10.515147324632656,\"y1\":10.915147324632654,\"yref\":\"y\"},{\"fillcolor\":\"rgba(0, 0, 128, 0.5)\",\"line\":{\"color\":\"rgba(0, 0, 128, 0.5)\"},\"type\":\"circle\",\"x0\":6.091877088468249,\"x1\":6.491877088468249,\"xref\":\"x\",\"y0\":11.846837024913532,\"y1\":12.24683702491353,\"yref\":\"y\"},{\"fillcolor\":\"rgba(0, 0, 150, 0.5)\",\"line\":{\"color\":\"rgba(0, 0, 150, 0.5)\"},\"type\":\"circle\",\"x0\":5.734582640240387,\"x1\":6.134582640240388,\"xref\":\"x\",\"y0\":12.41679316544356,\"y1\":12.816793165443558,\"yref\":\"y\"},{\"fillcolor\":\"rgba(9, 240, 238, 0.5)\",\"line\":{\"color\":\"rgba(9, 240, 238, 0.5)\"},\"type\":\"circle\",\"x0\":8.027989815033893,\"x1\":8.427989815033891,\"xref\":\"x\",\"y0\":12.431468160175944,\"y1\":12.831468160175943,\"yref\":\"y\"},{\"fillcolor\":\"rgba(255, 100, 0, 0.5)\",\"line\":{\"color\":\"rgba(255, 100, 0, 0.5)\"},\"type\":\"circle\",\"x0\":8.981862840955822,\"x1\":9.38186284095582,\"xref\":\"x\",\"y0\":12.624610457593876,\"y1\":13.024610457593875,\"yref\":\"y\"},{\"fillcolor\":\"rgba(248, 245, 0, 0.5)\",\"line\":{\"color\":\"rgba(248, 245, 0, 0.5)\"},\"type\":\"circle\",\"x0\":4.407206649377808,\"x1\":4.807206649377808,\"xref\":\"x\",\"y0\":11.383074661339993,\"y1\":11.783074661339992,\"yref\":\"y\"},{\"fillcolor\":\"rgba(0, 0, 255, 0.5)\",\"line\":{\"color\":\"rgba(0, 0, 255, 0.5)\"},\"type\":\"circle\",\"x0\":6.920396198794013,\"x1\":7.320396198794013,\"xref\":\"x\",\"y0\":12.401470153006107,\"y1\":12.801470153006106,\"yref\":\"y\"},{\"fillcolor\":\"rgba(255, 156, 0, 0.5)\",\"line\":{\"color\":\"rgba(255, 156, 0, 0.5)\"},\"type\":\"circle\",\"x0\":3.9958286196728627,\"x1\":4.395828619672863,\"xref\":\"x\",\"y0\":10.938871981649998,\"y1\":11.338871981649996,\"yref\":\"y\"},{\"line\":{\"color\":\"white\",\"width\":3},\"type\":\"line\",\"x0\":4.965985094901069,\"x1\":5.160204706149053,\"y0\":12.167454121746701,\"y1\":12.215190298873507},{\"line\":{\"color\":\"white\",\"width\":3},\"type\":\"line\",\"x0\":4.081052876152446,\"x1\":4.236614474320346,\"y0\":11.838877407059284,\"y1\":11.964577801551302},{\"line\":{\"color\":\"black\",\"width\":3},\"type\":\"line\",\"x0\":3.6953445947912607,\"x1\":3.8505604213603304,\"y0\":10.715147324632655,\"y1\":10.841274431879592},{\"line\":{\"color\":\"white\",\"width\":3},\"type\":\"line\",\"x0\":6.291877088468249,\"x1\":6.491385441676229,\"y0\":12.04683702491353,\"y1\":12.060851909866319},{\"line\":{\"color\":\"white\",\"width\":3},\"type\":\"line\",\"x0\":5.934582640240388,\"x1\":6.1339565172666095,\"y0\":12.616793165443559,\"y1\":12.63260636118423},{\"line\":{\"color\":\"black\",\"width\":3},\"type\":\"line\",\"x0\":8.227989815033892,\"x1\":8.424023699357726,\"y0\":12.631468160175944,\"y1\":12.67110042224752},{\"line\":{\"color\":\"black\",\"width\":3},\"type\":\"line\",\"x0\":9.181862840955821,\"x1\":9.377881354772196,\"y0\":12.824610457593876,\"y1\":12.864318671369114},{\"line\":{\"color\":\"black\",\"width\":3},\"type\":\"line\",\"x0\":4.607206649377808,\"x1\":4.674441230357619,\"y0\":11.583074661339992,\"y1\":11.771434718465885},{\"line\":{\"color\":\"white\",\"width\":3},\"type\":\"line\",\"x0\":7.120396198794013,\"x1\":7.31736461202396,\"y0\":12.601470153006106,\"y1\":12.636160846133754},{\"line\":{\"color\":\"black\",\"width\":3},\"type\":\"line\",\"x0\":4.195828619672863,\"x1\":4.372216283770759,\"y0\":11.138871981649997,\"y1\":11.23314494677833}],\"title\":{\"text\":\"\\u003cb\\u003ePercentage using the shortest path: 0%  |  Number of Agents: 10\\u003c\\u002fb\\u003e\",\"x\":0.5}},\"name\":\"450\"},{\"data\":[{\"hoverinfo\":\"name\",\"line\":{\"color\":\"white\"},\"mode\":\"lines\",\"name\":\"Exterior\",\"showlegend\":false,\"x\":[10.1,10.1,15.0,15.0,13.6,13.6,15.0,15.0,13.6,13.6,15.0,15.0,10.1,10.1,9.9,9.9,5.1,5.1,4.9,4.9,0.0,0.0,1.5,1.5,0.0,0.0,1.5,1.5,0.0,0.0,4.9,4.9,5.1,5.1,9.9,9.9,10.1],\"y\":[1.5,0.0,0.0,4.9,4.9,5.1,5.1,9.9,9.9,10.1,10.1,15.0,15.0,13.6,13.6,15.0,15.0,13.6,13.6,15.0,15.0,10.1,10.1,9.9,9.9,5.1,5.1,4.9,4.9,0.0,0.0,1.5,1.5,0.0,0.0,1.5,1.5],\"type\":\"scatter\"},{\"hoverinfo\":\"name\",\"line\":{\"color\":\"white\"},\"mode\":\"lines\",\"name\":\"Obstacle\",\"showlegend\":false,\"x\":[10.1,11.5,11.5,10.1,10.1,9.9,9.9,8.6,8.6,9.9,9.9,10.1,10.1],\"y\":[5.1,5.1,4.9,4.9,3.6,3.6,4.9,4.9,5.1,5.1,6.5,6.5,5.1],\"type\":\"scatter\"},{\"hoverinfo\":\"name\",\"line\":{\"color\":\"white\"},\"mode\":\"lines\",\"name\":\"Obstacle\",\"showlegend\":false,\"x\":[10.1,11.5,11.5,10.1,10.1,9.9,9.9,8.6,8.6,9.9,9.9,10.1,10.1],\"y\":[10.1,10.1,9.9,9.9,8.6,8.6,9.9,9.9,10.1,10.1,11.5,11.5,10.1],\"type\":\"scatter\"},{\"hoverinfo\":\"name\",\"line\":{\"color\":\"white\"},\"mode\":\"lines\",\"name\":\"Obstacle\",\"showlegend\":false,\"x\":[5.1,6.4,6.4,5.1,5.1,4.9,4.9,3.6,3.6,4.9,4.9,5.1,5.1],\"y\":[5.1,5.1,4.9,4.9,3.6,3.6,4.9,4.9,5.1,5.1,6.5,6.5,5.1],\"type\":\"scatter\"},{\"hoverinfo\":\"name\",\"line\":{\"color\":\"white\"},\"mode\":\"lines\",\"name\":\"Obstacle\",\"showlegend\":false,\"x\":[5.1,6.4,6.4,5.1,5.1,4.9,4.9,3.6,3.6,4.9,4.9,5.1,5.1],\"y\":[10.1,10.1,9.9,9.9,8.6,8.6,9.9,9.9,10.1,10.1,11.5,11.5,10.1],\"type\":\"scatter\"},{\"fill\":\"toself\",\"fillcolor\":\"rgb(25, 0, 0)\",\"hoverinfo\":\"name\",\"line\":{\"width\":0},\"mode\":\"lines\",\"name\":\"Risk Area\",\"showlegend\":false,\"x\":[1.5,1.5,3.6,3.6,4.9,4.9,5.0,5.0,4.9,4.9,0.0,0.0,1.5],\"y\":[4.9,5.0,5.0,4.9,4.9,3.6,3.6,1.5,1.5,0.0,0.0,4.9,4.9],\"type\":\"scatter\"},{\"fill\":\"toself\",\"fillcolor\":\"rgb(153, 0, 0)\",\"hoverinfo\":\"name\",\"line\":{\"width\":0},\"mode\":\"lines\",\"name\":\"Risk Area\",\"showlegend\":false,\"x\":[9.9,9.9,5.1,5.1,5.0,5.0,5.1,5.1,6.4,6.4,8.6,8.6,9.9,9.9,10.0,10.0,9.9],\"y\":[1.5,0.0,0.0,1.5,1.5,3.6,3.6,4.9,4.9,5.0,5.0,4.9,4.9,3.6,3.6,1.5,1.5],\"type\":\"scatter\"},{\"fill\":\"toself\",\"fillcolor\":\"rgb(0, 0, 0)\",\"hoverinfo\":\"name\",\"line\":{\"width\":0},\"mode\":\"lines\",\"name\":\"Risk Area\",\"showlegend\":false,\"x\":[13.6,15.0,15.0,10.1,10.1,10.0,10.0,10.1,10.1,11.5,11.5,13.6,13.6],\"y\":[4.9,4.9,0.0,0.0,1.5,1.5,3.6,3.6,4.9,4.9,5.0,5.0,4.9],\"type\":\"scatter\"},{\"fill\":\"toself\",\"fillcolor\":\"rgb(153, 0, 0)\",\"hoverinfo\":\"name\",\"line\":{\"width\":0},\"mode\":\"lines\",\"name\":\"Risk Area\",\"showlegend\":false,\"x\":[13.6,15.0,15.0,13.6,13.6,11.5,11.5,10.1,10.1,10.0,10.0,10.1,10.1,11.5,11.5,13.6,13.6],\"y\":[9.9,9.9,5.1,5.1,5.0,5.0,5.1,5.1,6.5,6.5,8.6,8.6,9.9,9.9,10.0,10.0,9.9],\"type\":\"scatter\"},{\"fill\":\"toself\",\"fillcolor\":\"rgb(204, 0, 0)\",\"hoverinfo\":\"name\",\"line\":{\"width\":0},\"mode\":\"lines\",\"name\":\"Risk Area\",\"showlegend\":false,\"x\":[9.9,9.9,8.6,8.6,6.4,6.4,5.1,5.1,5.0,5.0,5.1,5.1,6.4,6.4,8.6,8.6,9.9,9.9,10.0,10.0,9.9],\"y\":[6.5,5.1,5.1,5.0,5.0,5.1,5.1,6.5,6.5,8.6,8.6,9.9,9.9,10.0,10.0,9.9,9.9,8.6,8.6,6.5,6.5],\"type\":\"scatter\"},{\"fill\":\"toself\",\"fillcolor\":\"rgb(25, 0, 0)\",\"hoverinfo\":\"name\",\"line\":{\"width\":0},\"mode\":\"lines\",\"name\":\"Risk Area\",\"showlegend\":false,\"x\":[4.9,4.9,3.6,3.6,1.5,1.5,0.0,0.0,1.5,1.5,3.6,3.6,4.9,4.9,5.0,5.0,4.9],\"y\":[6.5,5.1,5.1,5.0,5.0,5.1,5.1,9.9,9.9,10.0,10.0,9.9,9.9,8.6,8.6,6.5,6.5],\"type\":\"scatter\"},{\"fill\":\"toself\",\"fillcolor\":\"rgb(51, 0, 0)\",\"hoverinfo\":\"name\",\"line\":{\"width\":0},\"mode\":\"lines\",\"name\":\"Risk Area\",\"showlegend\":false,\"x\":[1.5,0.0,0.0,4.9,4.9,5.0,5.0,4.9,4.9,3.6,3.6,1.5,1.5],\"y\":[10.1,10.1,15.0,15.0,13.6,13.6,11.5,11.5,10.1,10.1,10.0,10.0,10.1],\"type\":\"scatter\"},{\"fill\":\"toself\",\"fillcolor\":\"rgb(102, 0, 0)\",\"hoverinfo\":\"name\",\"line\":{\"width\":0},\"mode\":\"lines\",\"name\":\"Risk Area\",\"showlegend\":false,\"x\":[6.4,5.1,5.1,5.0,5.0,5.1,5.1,9.9,9.9,10.0,10.0,9.9,9.9,8.6,8.6,6.4,6.4],\"y\":[10.1,10.1,11.5,11.5,13.6,13.6,15.0,15.0,13.6,13.6,11.5,11.5,10.1,10.1,10.0,10.0,10.1],\"type\":\"scatter\"},{\"fill\":\"toself\",\"fillcolor\":\"rgb(25, 0, 0)\",\"hoverinfo\":\"name\",\"line\":{\"width\":0},\"mode\":\"lines\",\"name\":\"Risk Area\",\"showlegend\":false,\"x\":[10.1,10.1,15.0,15.0,13.6,13.6,11.5,11.5,10.1,10.1,10.0,10.0,10.1],\"y\":[13.6,15.0,15.0,10.1,10.1,10.0,10.0,10.1,10.1,11.5,11.5,13.6,13.6],\"type\":\"scatter\"},{\"hoverinfo\":\"text\",\"marker\":{\"opacity\":1,\"size\":1},\"mode\":\"markers\",\"showlegend\":false,\"text\":[\"ID: 11, Pos(6.31,12.38)\"],\"x\":[6.310176035093312],\"y\":[12.376004259971797],\"type\":\"scatter\"},{\"hoverinfo\":\"text\",\"marker\":{\"opacity\":1,\"size\":1},\"mode\":\"markers\",\"showlegend\":false,\"text\":[\"ID: 12, Pos(5.35,12.60)\"],\"x\":[5.352889777246364],\"y\":[12.597552318371028],\"type\":\"scatter\"},{\"hoverinfo\":\"text\",\"marker\":{\"opacity\":1,\"size\":1},\"mode\":\"markers\",\"showlegend\":false,\"text\":[\"ID: 13, Pos(4.14,11.07)\"],\"x\":[4.135958451343554],\"y\":[11.07388992684635],\"type\":\"scatter\"},{\"hoverinfo\":\"text\",\"marker\":{\"opacity\":1,\"size\":1},\"mode\":\"markers\",\"showlegend\":false,\"text\":[\"ID: 14, Pos(7.85,12.21)\"],\"x\":[7.847614041988168],\"y\":[12.214251068804272],\"type\":\"scatter\"},{\"hoverinfo\":\"text\",\"marker\":{\"opacity\":1,\"size\":1},\"mode\":\"markers\",\"showlegend\":false,\"text\":[\"ID: 15, Pos(7.19,12.87)\"],\"x\":[7.185547813505056],\"y\":[12.869662776858364],\"type\":\"scatter\"},{\"hoverinfo\":\"text\",\"marker\":{\"opacity\":1,\"size\":1},\"mode\":\"markers\",\"showlegend\":false,\"text\":[\"ID: 16, Pos(8.83,12.52)\"],\"x\":[8.830052493368918],\"y\":[12.515423916563464],\"type\":\"scatter\"},{\"hoverinfo\":\"text\",\"marker\":{\"opacity\":1,\"size\":1},\"mode\":\"markers\",\"showlegend\":false,\"text\":[\"ID: 17, Pos(8.93,13.05)\"],\"x\":[8.928050261040038],\"y\":[13.050997680705326],\"type\":\"scatter\"},{\"hoverinfo\":\"text\",\"marker\":{\"opacity\":1,\"size\":1},\"mode\":\"markers\",\"showlegend\":false,\"text\":[\"ID: 18, Pos(5.42,11.94)\"],\"x\":[5.417659728991401],\"y\":[11.94150937828201],\"type\":\"scatter\"},{\"hoverinfo\":\"text\",\"marker\":{\"opacity\":1,\"size\":1},\"mode\":\"markers\",\"showlegend\":false,\"text\":[\"ID: 19, Pos(8.09,12.83)\"],\"x\":[8.091653530931127],\"y\":[12.830169615818042],\"type\":\"scatter\"},{\"hoverinfo\":\"text\",\"marker\":{\"opacity\":1,\"size\":1},\"mode\":\"markers\",\"showlegend\":false,\"text\":[\"ID: 20, Pos(4.65,11.73)\"],\"x\":[4.648010141817686],\"y\":[11.727801197881654],\"type\":\"scatter\"}],\"layout\":{\"shapes\":[{\"fillcolor\":\"rgba(0, 120, 255, 0.5)\",\"line\":{\"color\":\"rgba(0, 120, 255, 0.5)\"},\"type\":\"circle\",\"x0\":6.110176035093311,\"x1\":6.510176035093312,\"xref\":\"x\",\"y0\":12.176004259971798,\"y1\":12.576004259971796,\"yref\":\"y\"},{\"fillcolor\":\"rgba(0, 152, 255, 0.5)\",\"line\":{\"color\":\"rgba(0, 152, 255, 0.5)\"},\"type\":\"circle\",\"x0\":5.152889777246364,\"x1\":5.552889777246365,\"xref\":\"x\",\"y0\":12.397552318371028,\"y1\":12.797552318371027,\"yref\":\"y\"},{\"fillcolor\":\"rgba(99, 255, 148, 0.5)\",\"line\":{\"color\":\"rgba(99, 255, 148, 0.5)\"},\"type\":\"circle\",\"x0\":3.935958451343554,\"x1\":4.335958451343554,\"xref\":\"x\",\"y0\":10.873889926846351,\"y1\":11.27388992684635,\"yref\":\"y\"},{\"fillcolor\":\"rgba(0, 80, 255, 0.5)\",\"line\":{\"color\":\"rgba(0, 80, 255, 0.5)\"},\"type\":\"circle\",\"x0\":7.6476140419881675,\"x1\":8.047614041988167,\"xref\":\"x\",\"y0\":12.014251068804272,\"y1\":12.41425106880427,\"yref\":\"y\"},{\"fillcolor\":\"rgba(19, 252, 228, 0.5)\",\"line\":{\"color\":\"rgba(19, 252, 228, 0.5)\"},\"type\":\"circle\",\"x0\":6.985547813505056,\"x1\":7.385547813505056,\"xref\":\"x\",\"y0\":12.669662776858365,\"y1\":13.069662776858364,\"yref\":\"y\"},{\"fillcolor\":\"rgba(0, 0, 159, 0.5)\",\"line\":{\"color\":\"rgba(0, 0, 159, 0.5)\"},\"type\":\"circle\",\"x0\":8.630052493368918,\"x1\":9.030052493368917,\"xref\":\"x\",\"y0\":12.315423916563464,\"y1\":12.715423916563463,\"yref\":\"y\"},{\"fillcolor\":\"rgba(115, 255, 131, 0.5)\",\"line\":{\"color\":\"rgba(115, 255, 131, 0.5)\"},\"type\":\"circle\",\"x0\":8.728050261040039,\"x1\":9.128050261040038,\"xref\":\"x\",\"y0\":12.850997680705326,\"y1\":13.250997680705325,\"yref\":\"y\"},{\"fillcolor\":\"rgba(0, 140, 255, 0.5)\",\"line\":{\"color\":\"rgba(0, 140, 255, 0.5)\"},\"type\":\"circle\",\"x0\":5.217659728991401,\"x1\":5.617659728991401,\"xref\":\"x\",\"y0\":11.74150937828201,\"y1\":12.14150937828201,\"yref\":\"y\"},{\"fillcolor\":\"rgba(15, 248, 231, 0.5)\",\"line\":{\"color\":\"rgba(15, 248, 231, 0.5)\"},\"type\":\"circle\",\"x0\":7.891653530931127,\"x1\":8.291653530931127,\"xref\":\"x\",\"y0\":12.630169615818042,\"y1\":13.030169615818041,\"yref\":\"y\"},{\"fillcolor\":\"rgba(0, 0, 255, 0.5)\",\"line\":{\"color\":\"rgba(0, 0, 255, 0.5)\"},\"type\":\"circle\",\"x0\":4.448010141817686,\"x1\":4.848010141817686,\"xref\":\"x\",\"y0\":11.527801197881654,\"y1\":11.927801197881653,\"yref\":\"y\"},{\"line\":{\"color\":\"white\",\"width\":3},\"type\":\"line\",\"x0\":6.310176035093312,\"x1\":6.506963597196882,\"y0\":12.376004259971797,\"y1\":12.411706576441928},{\"line\":{\"color\":\"white\",\"width\":3},\"type\":\"line\",\"x0\":5.352889777246364,\"x1\":5.550468592672399,\"y0\":12.597552318371028,\"y1\":12.628578302559204},{\"line\":{\"color\":\"black\",\"width\":3},\"type\":\"line\",\"x0\":4.135958451343554,\"x1\":4.291674617230949,\"y0\":11.07388992684635,\"y1\":11.199398793789406},{\"line\":{\"color\":\"white\",\"width\":3},\"type\":\"line\",\"x0\":7.847614041988168,\"x1\":8.047089585092769,\"y0\":12.214251068804272,\"y1\":12.228725449727976},{\"line\":{\"color\":\"black\",\"width\":3},\"type\":\"line\",\"x0\":7.185547813505056,\"x1\":7.383332905321643,\"y0\":12.869662776858364,\"y1\":12.899345388857721},{\"line\":{\"color\":\"white\",\"width\":3},\"type\":\"line\",\"x0\":8.830052493368918,\"x1\":9.013048925470622,\"y0\":12.515423916563464,\"y1\":12.434725057599746},{\"line\":{\"color\":\"black\",\"width\":3},\"type\":\"line\",\"x0\":8.928050261040038,\"x1\":8.738688753633632,\"y0\":13.050997680705326,\"y1\":13.11535775771564},{\"line\":{\"color\":\"white\",\"width\":3},\"type\":\"line\",\"x0\":5.417659728991401,\"x1\":5.617006326289032,\"y0\":11.94150937828201,\"y1\":11.957662834440242},{\"line\":{\"color\":\"black\",\"width\":3},\"type\":\"line\",\"x0\":8.091653530931127,\"x1\":8.280651040666314,\"y0\":12.830169615818042,\"y1\":12.895590876230068},{\"line\":{\"color\":\"white\",\"width\":3},\"type\":\"line\",\"x0\":4.648010141817686,\"x1\":4.758629136167421,\"y0\":11.727801197881654,\"y1\":11.894424839928794}],\"title\":{\"text\":\"\\u003cb\\u003ePercentage using the shortest path: 0%  |  Number of Agents: 10\\u003c\\u002fb\\u003e\",\"x\":0.5}},\"name\":\"500\"},{\"data\":[{\"hoverinfo\":\"name\",\"line\":{\"color\":\"white\"},\"mode\":\"lines\",\"name\":\"Exterior\",\"showlegend\":false,\"x\":[10.1,10.1,15.0,15.0,13.6,13.6,15.0,15.0,13.6,13.6,15.0,15.0,10.1,10.1,9.9,9.9,5.1,5.1,4.9,4.9,0.0,0.0,1.5,1.5,0.0,0.0,1.5,1.5,0.0,0.0,4.9,4.9,5.1,5.1,9.9,9.9,10.1],\"y\":[1.5,0.0,0.0,4.9,4.9,5.1,5.1,9.9,9.9,10.1,10.1,15.0,15.0,13.6,13.6,15.0,15.0,13.6,13.6,15.0,15.0,10.1,10.1,9.9,9.9,5.1,5.1,4.9,4.9,0.0,0.0,1.5,1.5,0.0,0.0,1.5,1.5],\"type\":\"scatter\"},{\"hoverinfo\":\"name\",\"line\":{\"color\":\"white\"},\"mode\":\"lines\",\"name\":\"Obstacle\",\"showlegend\":false,\"x\":[10.1,11.5,11.5,10.1,10.1,9.9,9.9,8.6,8.6,9.9,9.9,10.1,10.1],\"y\":[5.1,5.1,4.9,4.9,3.6,3.6,4.9,4.9,5.1,5.1,6.5,6.5,5.1],\"type\":\"scatter\"},{\"hoverinfo\":\"name\",\"line\":{\"color\":\"white\"},\"mode\":\"lines\",\"name\":\"Obstacle\",\"showlegend\":false,\"x\":[10.1,11.5,11.5,10.1,10.1,9.9,9.9,8.6,8.6,9.9,9.9,10.1,10.1],\"y\":[10.1,10.1,9.9,9.9,8.6,8.6,9.9,9.9,10.1,10.1,11.5,11.5,10.1],\"type\":\"scatter\"},{\"hoverinfo\":\"name\",\"line\":{\"color\":\"white\"},\"mode\":\"lines\",\"name\":\"Obstacle\",\"showlegend\":false,\"x\":[5.1,6.4,6.4,5.1,5.1,4.9,4.9,3.6,3.6,4.9,4.9,5.1,5.1],\"y\":[5.1,5.1,4.9,4.9,3.6,3.6,4.9,4.9,5.1,5.1,6.5,6.5,5.1],\"type\":\"scatter\"},{\"hoverinfo\":\"name\",\"line\":{\"color\":\"white\"},\"mode\":\"lines\",\"name\":\"Obstacle\",\"showlegend\":false,\"x\":[5.1,6.4,6.4,5.1,5.1,4.9,4.9,3.6,3.6,4.9,4.9,5.1,5.1],\"y\":[10.1,10.1,9.9,9.9,8.6,8.6,9.9,9.9,10.1,10.1,11.5,11.5,10.1],\"type\":\"scatter\"},{\"fill\":\"toself\",\"fillcolor\":\"rgb(25, 0, 0)\",\"hoverinfo\":\"name\",\"line\":{\"width\":0},\"mode\":\"lines\",\"name\":\"Risk Area\",\"showlegend\":false,\"x\":[1.5,1.5,3.6,3.6,4.9,4.9,5.0,5.0,4.9,4.9,0.0,0.0,1.5],\"y\":[4.9,5.0,5.0,4.9,4.9,3.6,3.6,1.5,1.5,0.0,0.0,4.9,4.9],\"type\":\"scatter\"},{\"fill\":\"toself\",\"fillcolor\":\"rgb(153, 0, 0)\",\"hoverinfo\":\"name\",\"line\":{\"width\":0},\"mode\":\"lines\",\"name\":\"Risk Area\",\"showlegend\":false,\"x\":[9.9,9.9,5.1,5.1,5.0,5.0,5.1,5.1,6.4,6.4,8.6,8.6,9.9,9.9,10.0,10.0,9.9],\"y\":[1.5,0.0,0.0,1.5,1.5,3.6,3.6,4.9,4.9,5.0,5.0,4.9,4.9,3.6,3.6,1.5,1.5],\"type\":\"scatter\"},{\"fill\":\"toself\",\"fillcolor\":\"rgb(0, 0, 0)\",\"hoverinfo\":\"name\",\"line\":{\"width\":0},\"mode\":\"lines\",\"name\":\"Risk Area\",\"showlegend\":false,\"x\":[13.6,15.0,15.0,10.1,10.1,10.0,10.0,10.1,10.1,11.5,11.5,13.6,13.6],\"y\":[4.9,4.9,0.0,0.0,1.5,1.5,3.6,3.6,4.9,4.9,5.0,5.0,4.9],\"type\":\"scatter\"},{\"fill\":\"toself\",\"fillcolor\":\"rgb(153, 0, 0)\",\"hoverinfo\":\"name\",\"line\":{\"width\":0},\"mode\":\"lines\",\"name\":\"Risk Area\",\"showlegend\":false,\"x\":[13.6,15.0,15.0,13.6,13.6,11.5,11.5,10.1,10.1,10.0,10.0,10.1,10.1,11.5,11.5,13.6,13.6],\"y\":[9.9,9.9,5.1,5.1,5.0,5.0,5.1,5.1,6.5,6.5,8.6,8.6,9.9,9.9,10.0,10.0,9.9],\"type\":\"scatter\"},{\"fill\":\"toself\",\"fillcolor\":\"rgb(204, 0, 0)\",\"hoverinfo\":\"name\",\"line\":{\"width\":0},\"mode\":\"lines\",\"name\":\"Risk Area\",\"showlegend\":false,\"x\":[9.9,9.9,8.6,8.6,6.4,6.4,5.1,5.1,5.0,5.0,5.1,5.1,6.4,6.4,8.6,8.6,9.9,9.9,10.0,10.0,9.9],\"y\":[6.5,5.1,5.1,5.0,5.0,5.1,5.1,6.5,6.5,8.6,8.6,9.9,9.9,10.0,10.0,9.9,9.9,8.6,8.6,6.5,6.5],\"type\":\"scatter\"},{\"fill\":\"toself\",\"fillcolor\":\"rgb(25, 0, 0)\",\"hoverinfo\":\"name\",\"line\":{\"width\":0},\"mode\":\"lines\",\"name\":\"Risk Area\",\"showlegend\":false,\"x\":[4.9,4.9,3.6,3.6,1.5,1.5,0.0,0.0,1.5,1.5,3.6,3.6,4.9,4.9,5.0,5.0,4.9],\"y\":[6.5,5.1,5.1,5.0,5.0,5.1,5.1,9.9,9.9,10.0,10.0,9.9,9.9,8.6,8.6,6.5,6.5],\"type\":\"scatter\"},{\"fill\":\"toself\",\"fillcolor\":\"rgb(51, 0, 0)\",\"hoverinfo\":\"name\",\"line\":{\"width\":0},\"mode\":\"lines\",\"name\":\"Risk Area\",\"showlegend\":false,\"x\":[1.5,0.0,0.0,4.9,4.9,5.0,5.0,4.9,4.9,3.6,3.6,1.5,1.5],\"y\":[10.1,10.1,15.0,15.0,13.6,13.6,11.5,11.5,10.1,10.1,10.0,10.0,10.1],\"type\":\"scatter\"},{\"fill\":\"toself\",\"fillcolor\":\"rgb(102, 0, 0)\",\"hoverinfo\":\"name\",\"line\":{\"width\":0},\"mode\":\"lines\",\"name\":\"Risk Area\",\"showlegend\":false,\"x\":[6.4,5.1,5.1,5.0,5.0,5.1,5.1,9.9,9.9,10.0,10.0,9.9,9.9,8.6,8.6,6.4,6.4],\"y\":[10.1,10.1,11.5,11.5,13.6,13.6,15.0,15.0,13.6,13.6,11.5,11.5,10.1,10.1,10.0,10.0,10.1],\"type\":\"scatter\"},{\"fill\":\"toself\",\"fillcolor\":\"rgb(25, 0, 0)\",\"hoverinfo\":\"name\",\"line\":{\"width\":0},\"mode\":\"lines\",\"name\":\"Risk Area\",\"showlegend\":false,\"x\":[10.1,10.1,15.0,15.0,13.6,13.6,11.5,11.5,10.1,10.1,10.0,10.0,10.1],\"y\":[13.6,15.0,15.0,10.1,10.1,10.0,10.0,10.1,10.1,11.5,11.5,13.6,13.6],\"type\":\"scatter\"},{\"hoverinfo\":\"text\",\"marker\":{\"opacity\":1,\"size\":1},\"mode\":\"markers\",\"showlegend\":false,\"text\":[\"ID: 11, Pos(7.40,12.57)\"],\"x\":[7.400119748848894],\"y\":[12.570177793556136],\"type\":\"scatter\"},{\"hoverinfo\":\"text\",\"marker\":{\"opacity\":1,\"size\":1},\"mode\":\"markers\",\"showlegend\":false,\"text\":[\"ID: 12, Pos(6.66,12.84)\"],\"x\":[6.663098343295723],\"y\":[12.839359513466675],\"type\":\"scatter\"},{\"hoverinfo\":\"text\",\"marker\":{\"opacity\":1,\"size\":1},\"mode\":\"markers\",\"showlegend\":false,\"text\":[\"ID: 13, Pos(4.79,11.86)\"],\"x\":[4.793172246988508],\"y\":[11.86120975229936],\"type\":\"scatter\"},{\"hoverinfo\":\"text\",\"marker\":{\"opacity\":1,\"size\":1},\"mode\":\"markers\",\"showlegend\":false,\"text\":[\"ID: 14, Pos(9.27,12.42)\"],\"x\":[9.265820610583434],\"y\":[12.41815959914402],\"type\":\"scatter\"},{\"hoverinfo\":\"text\",\"marker\":{\"opacity\":1,\"size\":1},\"mode\":\"markers\",\"showlegend\":false,\"text\":[\"ID: 15, Pos(8.25,13.02)\"],\"x\":[8.250644951758572],\"y\":[13.020757521112847],\"type\":\"scatter\"},{\"hoverinfo\":\"text\",\"marker\":{\"opacity\":1,\"size\":1},\"mode\":\"markers\",\"showlegend\":false,\"text\":[\"ID: 16, Pos(10.42,12.63)\"],\"x\":[10.417029432255017],\"y\":[12.62519171338706],\"type\":\"scatter\"},{\"hoverinfo\":\"text\",\"marker\":{\"opacity\":1,\"size\":1},\"mode\":\"markers\",\"showlegend\":false,\"text\":[\"ID: 17, Pos(10.40,13.28)\"],\"x\":[10.395995052362288],\"y\":[13.2759808680202],\"type\":\"scatter\"},{\"hoverinfo\":\"text\",\"marker\":{\"opacity\":1,\"size\":1},\"mode\":\"markers\",\"showlegend\":false,\"text\":[\"ID: 18, Pos(6.63,12.07)\"],\"x\":[6.629968347450622],\"y\":[12.071550421042271],\"type\":\"scatter\"},{\"hoverinfo\":\"text\",\"marker\":{\"opacity\":1,\"size\":1},\"mode\":\"markers\",\"showlegend\":false,\"text\":[\"ID: 19, Pos(9.27,13.15)\"],\"x\":[9.271938176484129],\"y\":[13.149594951836956],\"type\":\"scatter\"},{\"hoverinfo\":\"text\",\"marker\":{\"opacity\":1,\"size\":1},\"mode\":\"markers\",\"showlegend\":false,\"text\":[\"ID: 20, Pos(5.65,12.11)\"],\"x\":[5.650148874476822],\"y\":[12.109210910870312],\"type\":\"scatter\"}],\"layout\":{\"shapes\":[{\"fillcolor\":\"rgba(0, 176, 255, 0.5)\",\"line\":{\"color\":\"rgba(0, 176, 255, 0.5)\"},\"type\":\"circle\",\"x0\":7.200119748848894,\"x1\":7.600119748848894,\"xref\":\"x\",\"y0\":12.370177793556136,\"y1\":12.770177793556135,\"yref\":\"y\"},{\"fillcolor\":\"rgba(0, 0, 128, 0.5)\",\"line\":{\"color\":\"rgba(0, 0, 128, 0.5)\"},\"type\":\"circle\",\"x0\":6.463098343295723,\"x1\":6.863098343295723,\"xref\":\"x\",\"y0\":12.639359513466676,\"y1\":13.039359513466675,\"yref\":\"y\"},{\"fillcolor\":\"rgba(35, 255, 212, 0.5)\",\"line\":{\"color\":\"rgba(35, 255, 212, 0.5)\"},\"type\":\"circle\",\"x0\":4.593172246988508,\"x1\":4.993172246988508,\"xref\":\"x\",\"y0\":11.66120975229936,\"y1\":12.061209752299359,\"yref\":\"y\"},{\"fillcolor\":\"rgba(0, 0, 168, 0.5)\",\"line\":{\"color\":\"rgba(0, 0, 168, 0.5)\"},\"type\":\"circle\",\"x0\":9.065820610583435,\"x1\":9.465820610583433,\"xref\":\"x\",\"y0\":12.218159599144021,\"y1\":12.61815959914402,\"yref\":\"y\"},{\"fillcolor\":\"rgba(0, 93, 255, 0.5)\",\"line\":{\"color\":\"rgba(0, 93, 255, 0.5)\"},\"type\":\"circle\",\"x0\":8.050644951758573,\"x1\":8.450644951758571,\"xref\":\"x\",\"y0\":12.820757521112847,\"y1\":13.220757521112846,\"yref\":\"y\"},{\"fillcolor\":\"rgba(0, 0, 128, 0.5)\",\"line\":{\"color\":\"rgba(0, 0, 128, 0.5)\"},\"type\":\"circle\",\"x0\":10.217029432255018,\"x1\":10.617029432255016,\"xref\":\"x\",\"y0\":12.425191713387061,\"y1\":12.82519171338706,\"yref\":\"y\"},{\"fillcolor\":\"rgba(0, 0, 128, 0.5)\",\"line\":{\"color\":\"rgba(0, 0, 128, 0.5)\"},\"type\":\"circle\",\"x0\":10.195995052362289,\"x1\":10.595995052362287,\"xref\":\"x\",\"y0\":13.075980868020201,\"y1\":13.4759808680202,\"yref\":\"y\"},{\"fillcolor\":\"rgba(2, 232, 244, 0.5)\",\"line\":{\"color\":\"rgba(2, 232, 244, 0.5)\"},\"type\":\"circle\",\"x0\":6.429968347450622,\"x1\":6.829968347450622,\"xref\":\"x\",\"y0\":11.871550421042272,\"y1\":12.27155042104227,\"yref\":\"y\"},{\"fillcolor\":\"rgba(0, 0, 228, 0.5)\",\"line\":{\"color\":\"rgba(0, 0, 228, 0.5)\"},\"type\":\"circle\",\"x0\":9.07193817648413,\"x1\":9.471938176484128,\"xref\":\"x\",\"y0\":12.949594951836957,\"y1\":13.349594951836956,\"yref\":\"y\"},{\"fillcolor\":\"rgba(0, 152, 255, 0.5)\",\"line\":{\"color\":\"rgba(0, 152, 255, 0.5)\"},\"type\":\"circle\",\"x0\":5.450148874476822,\"x1\":5.850148874476822,\"xref\":\"x\",\"y0\":11.909210910870312,\"y1\":12.309210910870311,\"yref\":\"y\"},{\"line\":{\"color\":\"black\",\"width\":3},\"type\":\"line\",\"x0\":7.400119748848894,\"x1\":7.597562963766322,\"y0\":12.570177793556136,\"y1\":12.602055322994136},{\"line\":{\"color\":\"white\",\"width\":3},\"type\":\"line\",\"x0\":6.663098343295723,\"x1\":6.85821901532421,\"y0\":12.839359513466675,\"y1\":12.883267637397807},{\"line\":{\"color\":\"black\",\"width\":3},\"type\":\"line\",\"x0\":4.793172246988508,\"x1\":4.9633511073372105,\"y0\":11.86120975229936,\"y1\":11.966277137773716},{\"line\":{\"color\":\"white\",\"width\":3},\"type\":\"line\",\"x0\":9.265820610583434,\"x1\":9.462029863764123,\"y0\":12.41815959914402,\"y1\":12.456914327452658},{\"line\":{\"color\":\"white\",\"width\":3},\"type\":\"line\",\"x0\":8.250644951758572,\"x1\":8.448803393918656,\"y0\":13.020757521112847,\"y1\":13.047835774392707},{\"line\":{\"color\":\"white\",\"width\":3},\"type\":\"line\",\"x0\":10.417029432255017,\"x1\":10.615816405092984,\"y0\":12.62519171338706,\"y1\":12.647185790542453},{\"line\":{\"color\":\"white\",\"width\":3},\"type\":\"line\",\"x0\":10.395995052362288,\"x1\":10.588969882672163,\"y0\":13.2759808680202,\"y1\":13.328523373355164},{\"line\":{\"color\":\"black\",\"width\":3},\"type\":\"line\",\"x0\":6.629968347450622,\"x1\":6.82743656353369,\"y0\":12.071550421042271,\"y1\":12.103272710319223},{\"line\":{\"color\":\"white\",\"width\":3},\"type\":\"line\",\"x0\":9.271938176484129,\"x1\":9.466871129611608,\"y0\":13.149594951836956,\"y1\":13.19432909746421},{\"line\":{\"color\":\"white\",\"width\":3},\"type\":\"line\",\"x0\":5.650148874476822,\"x1\":5.845700096050293,\"y0\":12.109210910870312,\"y1\":12.151159924459709}],\"title\":{\"text\":\"\\u003cb\\u003ePercentage using the shortest path: 0%  |  Number of Agents: 10\\u003c\\u002fb\\u003e\",\"x\":0.5}},\"name\":\"550\"},{\"data\":[{\"hoverinfo\":\"name\",\"line\":{\"color\":\"white\"},\"mode\":\"lines\",\"name\":\"Exterior\",\"showlegend\":false,\"x\":[10.1,10.1,15.0,15.0,13.6,13.6,15.0,15.0,13.6,13.6,15.0,15.0,10.1,10.1,9.9,9.9,5.1,5.1,4.9,4.9,0.0,0.0,1.5,1.5,0.0,0.0,1.5,1.5,0.0,0.0,4.9,4.9,5.1,5.1,9.9,9.9,10.1],\"y\":[1.5,0.0,0.0,4.9,4.9,5.1,5.1,9.9,9.9,10.1,10.1,15.0,15.0,13.6,13.6,15.0,15.0,13.6,13.6,15.0,15.0,10.1,10.1,9.9,9.9,5.1,5.1,4.9,4.9,0.0,0.0,1.5,1.5,0.0,0.0,1.5,1.5],\"type\":\"scatter\"},{\"hoverinfo\":\"name\",\"line\":{\"color\":\"white\"},\"mode\":\"lines\",\"name\":\"Obstacle\",\"showlegend\":false,\"x\":[10.1,11.5,11.5,10.1,10.1,9.9,9.9,8.6,8.6,9.9,9.9,10.1,10.1],\"y\":[5.1,5.1,4.9,4.9,3.6,3.6,4.9,4.9,5.1,5.1,6.5,6.5,5.1],\"type\":\"scatter\"},{\"hoverinfo\":\"name\",\"line\":{\"color\":\"white\"},\"mode\":\"lines\",\"name\":\"Obstacle\",\"showlegend\":false,\"x\":[10.1,11.5,11.5,10.1,10.1,9.9,9.9,8.6,8.6,9.9,9.9,10.1,10.1],\"y\":[10.1,10.1,9.9,9.9,8.6,8.6,9.9,9.9,10.1,10.1,11.5,11.5,10.1],\"type\":\"scatter\"},{\"hoverinfo\":\"name\",\"line\":{\"color\":\"white\"},\"mode\":\"lines\",\"name\":\"Obstacle\",\"showlegend\":false,\"x\":[5.1,6.4,6.4,5.1,5.1,4.9,4.9,3.6,3.6,4.9,4.9,5.1,5.1],\"y\":[5.1,5.1,4.9,4.9,3.6,3.6,4.9,4.9,5.1,5.1,6.5,6.5,5.1],\"type\":\"scatter\"},{\"hoverinfo\":\"name\",\"line\":{\"color\":\"white\"},\"mode\":\"lines\",\"name\":\"Obstacle\",\"showlegend\":false,\"x\":[5.1,6.4,6.4,5.1,5.1,4.9,4.9,3.6,3.6,4.9,4.9,5.1,5.1],\"y\":[10.1,10.1,9.9,9.9,8.6,8.6,9.9,9.9,10.1,10.1,11.5,11.5,10.1],\"type\":\"scatter\"},{\"fill\":\"toself\",\"fillcolor\":\"rgb(25, 0, 0)\",\"hoverinfo\":\"name\",\"line\":{\"width\":0},\"mode\":\"lines\",\"name\":\"Risk Area\",\"showlegend\":false,\"x\":[1.5,1.5,3.6,3.6,4.9,4.9,5.0,5.0,4.9,4.9,0.0,0.0,1.5],\"y\":[4.9,5.0,5.0,4.9,4.9,3.6,3.6,1.5,1.5,0.0,0.0,4.9,4.9],\"type\":\"scatter\"},{\"fill\":\"toself\",\"fillcolor\":\"rgb(153, 0, 0)\",\"hoverinfo\":\"name\",\"line\":{\"width\":0},\"mode\":\"lines\",\"name\":\"Risk Area\",\"showlegend\":false,\"x\":[9.9,9.9,5.1,5.1,5.0,5.0,5.1,5.1,6.4,6.4,8.6,8.6,9.9,9.9,10.0,10.0,9.9],\"y\":[1.5,0.0,0.0,1.5,1.5,3.6,3.6,4.9,4.9,5.0,5.0,4.9,4.9,3.6,3.6,1.5,1.5],\"type\":\"scatter\"},{\"fill\":\"toself\",\"fillcolor\":\"rgb(0, 0, 0)\",\"hoverinfo\":\"name\",\"line\":{\"width\":0},\"mode\":\"lines\",\"name\":\"Risk Area\",\"showlegend\":false,\"x\":[13.6,15.0,15.0,10.1,10.1,10.0,10.0,10.1,10.1,11.5,11.5,13.6,13.6],\"y\":[4.9,4.9,0.0,0.0,1.5,1.5,3.6,3.6,4.9,4.9,5.0,5.0,4.9],\"type\":\"scatter\"},{\"fill\":\"toself\",\"fillcolor\":\"rgb(153, 0, 0)\",\"hoverinfo\":\"name\",\"line\":{\"width\":0},\"mode\":\"lines\",\"name\":\"Risk Area\",\"showlegend\":false,\"x\":[13.6,15.0,15.0,13.6,13.6,11.5,11.5,10.1,10.1,10.0,10.0,10.1,10.1,11.5,11.5,13.6,13.6],\"y\":[9.9,9.9,5.1,5.1,5.0,5.0,5.1,5.1,6.5,6.5,8.6,8.6,9.9,9.9,10.0,10.0,9.9],\"type\":\"scatter\"},{\"fill\":\"toself\",\"fillcolor\":\"rgb(204, 0, 0)\",\"hoverinfo\":\"name\",\"line\":{\"width\":0},\"mode\":\"lines\",\"name\":\"Risk Area\",\"showlegend\":false,\"x\":[9.9,9.9,8.6,8.6,6.4,6.4,5.1,5.1,5.0,5.0,5.1,5.1,6.4,6.4,8.6,8.6,9.9,9.9,10.0,10.0,9.9],\"y\":[6.5,5.1,5.1,5.0,5.0,5.1,5.1,6.5,6.5,8.6,8.6,9.9,9.9,10.0,10.0,9.9,9.9,8.6,8.6,6.5,6.5],\"type\":\"scatter\"},{\"fill\":\"toself\",\"fillcolor\":\"rgb(51, 0, 0)\",\"hoverinfo\":\"name\",\"line\":{\"width\":0},\"mode\":\"lines\",\"name\":\"Risk Area\",\"showlegend\":false,\"x\":[4.9,4.9,3.6,3.6,1.5,1.5,0.0,0.0,1.5,1.5,3.6,3.6,4.9,4.9,5.0,5.0,4.9],\"y\":[6.5,5.1,5.1,5.0,5.0,5.1,5.1,9.9,9.9,10.0,10.0,9.9,9.9,8.6,8.6,6.5,6.5],\"type\":\"scatter\"},{\"fill\":\"toself\",\"fillcolor\":\"rgb(51, 0, 0)\",\"hoverinfo\":\"name\",\"line\":{\"width\":0},\"mode\":\"lines\",\"name\":\"Risk Area\",\"showlegend\":false,\"x\":[1.5,0.0,0.0,4.9,4.9,5.0,5.0,4.9,4.9,3.6,3.6,1.5,1.5],\"y\":[10.1,10.1,15.0,15.0,13.6,13.6,11.5,11.5,10.1,10.1,10.0,10.0,10.1],\"type\":\"scatter\"},{\"fill\":\"toself\",\"fillcolor\":\"rgb(153, 0, 0)\",\"hoverinfo\":\"name\",\"line\":{\"width\":0},\"mode\":\"lines\",\"name\":\"Risk Area\",\"showlegend\":false,\"x\":[6.4,5.1,5.1,5.0,5.0,5.1,5.1,9.9,9.9,10.0,10.0,9.9,9.9,8.6,8.6,6.4,6.4],\"y\":[10.1,10.1,11.5,11.5,13.6,13.6,15.0,15.0,13.6,13.6,11.5,11.5,10.1,10.1,10.0,10.0,10.1],\"type\":\"scatter\"},{\"fill\":\"toself\",\"fillcolor\":\"rgb(51, 0, 0)\",\"hoverinfo\":\"name\",\"line\":{\"width\":0},\"mode\":\"lines\",\"name\":\"Risk Area\",\"showlegend\":false,\"x\":[10.1,10.1,15.0,15.0,13.6,13.6,11.5,11.5,10.1,10.1,10.0,10.0,10.1],\"y\":[13.6,15.0,15.0,10.1,10.1,10.0,10.0,10.1,10.1,11.5,11.5,13.6,13.6],\"type\":\"scatter\"},{\"hoverinfo\":\"text\",\"marker\":{\"opacity\":1,\"size\":1},\"mode\":\"markers\",\"showlegend\":false,\"text\":[\"ID: 11, Pos(8.70,12.71)\"],\"x\":[8.704961007945586],\"y\":[12.707221362017558],\"type\":\"scatter\"},{\"hoverinfo\":\"text\",\"marker\":{\"opacity\":1,\"size\":1},\"mode\":\"markers\",\"showlegend\":false,\"text\":[\"ID: 12, Pos(8.22,13.21)\"],\"x\":[8.218923390477215],\"y\":[13.211868024434885],\"type\":\"scatter\"},{\"hoverinfo\":\"text\",\"marker\":{\"opacity\":1,\"size\":1},\"mode\":\"markers\",\"showlegend\":false,\"text\":[\"ID: 13, Pos(5.82,12.14)\"],\"x\":[5.820964694775861],\"y\":[12.138511211260155],\"type\":\"scatter\"},{\"hoverinfo\":\"text\",\"marker\":{\"opacity\":1,\"size\":1},\"mode\":\"markers\",\"showlegend\":false,\"text\":[\"ID: 14, Pos(10.82,12.68)\"],\"x\":[10.817220149582125],\"y\":[12.67978385636386],\"type\":\"scatter\"},{\"hoverinfo\":\"text\",\"marker\":{\"opacity\":1,\"size\":1},\"mode\":\"markers\",\"showlegend\":false,\"text\":[\"ID: 15, Pos(9.64,13.21)\"],\"x\":[9.644886189887227],\"y\":[13.205983830926272],\"type\":\"scatter\"},{\"hoverinfo\":\"text\",\"marker\":{\"opacity\":1,\"size\":1},\"mode\":\"markers\",\"showlegend\":false,\"text\":[\"ID: 16, Pos(11.98,12.98)\"],\"x\":[11.976896423653836],\"y\":[12.976942848292115],\"type\":\"scatter\"},{\"hoverinfo\":\"text\",\"marker\":{\"opacity\":1,\"size\":1},\"mode\":\"markers\",\"showlegend\":false,\"text\":[\"ID: 17, Pos(11.95,13.66)\"],\"x\":[11.949848598711716],\"y\":[13.655420573296663],\"type\":\"scatter\"},{\"hoverinfo\":\"text\",\"marker\":{\"opacity\":1,\"size\":1},\"mode\":\"markers\",\"showlegend\":false,\"text\":[\"ID: 18, Pos(7.74,12.31)\"],\"x\":[7.744351588850419],\"y\":[12.307127048352413],\"type\":\"scatter\"},{\"hoverinfo\":\"text\",\"marker\":{\"opacity\":1,\"size\":1},\"mode\":\"markers\",\"showlegend\":false,\"text\":[\"ID: 19, Pos(10.79,13.38)\"],\"x\":[10.788397904261505],\"y\":[13.37572839314523],\"type\":\"scatter\"},{\"hoverinfo\":\"text\",\"marker\":{\"opacity\":1,\"size\":1},\"mode\":\"markers\",\"showlegend\":false,\"text\":[\"ID: 20, Pos(6.76,12.34)\"],\"x\":[6.757767941422602],\"y\":[12.339206280279528],\"type\":\"scatter\"}],\"layout\":{\"shapes\":[{\"fillcolor\":\"rgba(0, 8, 255, 0.5)\",\"line\":{\"color\":\"rgba(0, 8, 255, 0.5)\"},\"type\":\"circle\",\"x0\":8.504961007945587,\"x1\":8.904961007945586,\"xref\":\"x\",\"y0\":12.507221362017559,\"y1\":12.907221362017557,\"yref\":\"y\"},{\"fillcolor\":\"rgba(0, 0, 128, 0.5)\",\"line\":{\"color\":\"rgba(0, 0, 128, 0.5)\"},\"type\":\"circle\",\"x0\":8.018923390477216,\"x1\":8.418923390477214,\"xref\":\"x\",\"y0\":13.011868024434886,\"y1\":13.411868024434884,\"yref\":\"y\"},{\"fillcolor\":\"rgba(0, 180, 255, 0.5)\",\"line\":{\"color\":\"rgba(0, 180, 255, 0.5)\"},\"type\":\"circle\",\"x0\":5.620964694775861,\"x1\":6.020964694775861,\"xref\":\"x\",\"y0\":11.938511211260156,\"y1\":12.338511211260155,\"yref\":\"y\"},{\"fillcolor\":\"rgba(0, 0, 128, 0.5)\",\"line\":{\"color\":\"rgba(0, 0, 128, 0.5)\"},\"type\":\"circle\",\"x0\":10.617220149582126,\"x1\":11.017220149582124,\"xref\":\"x\",\"y0\":12.479783856363861,\"y1\":12.87978385636386,\"yref\":\"y\"},{\"fillcolor\":\"rgba(0, 0, 191, 0.5)\",\"line\":{\"color\":\"rgba(0, 0, 191, 0.5)\"},\"type\":\"circle\",\"x0\":9.444886189887228,\"x1\":9.844886189887227,\"xref\":\"x\",\"y0\":13.005983830926272,\"y1\":13.40598383092627,\"yref\":\"y\"},{\"fillcolor\":\"rgba(0, 0, 128, 0.5)\",\"line\":{\"color\":\"rgba(0, 0, 128, 0.5)\"},\"type\":\"circle\",\"x0\":11.776896423653836,\"x1\":12.176896423653835,\"xref\":\"x\",\"y0\":12.776942848292116,\"y1\":13.176942848292114,\"yref\":\"y\"},{\"fillcolor\":\"rgba(0, 0, 128, 0.5)\",\"line\":{\"color\":\"rgba(0, 0, 128, 0.5)\"},\"type\":\"circle\",\"x0\":11.749848598711717,\"x1\":12.149848598711715,\"xref\":\"x\",\"y0\":13.455420573296664,\"y1\":13.855420573296662,\"yref\":\"y\"},{\"fillcolor\":\"rgba(0, 77, 255, 0.5)\",\"line\":{\"color\":\"rgba(0, 77, 255, 0.5)\"},\"type\":\"circle\",\"x0\":7.544351588850419,\"x1\":7.944351588850419,\"xref\":\"x\",\"y0\":12.107127048352414,\"y1\":12.507127048352412,\"yref\":\"y\"},{\"fillcolor\":\"rgba(0, 0, 132, 0.5)\",\"line\":{\"color\":\"rgba(0, 0, 132, 0.5)\"},\"type\":\"circle\",\"x0\":10.588397904261505,\"x1\":10.988397904261504,\"xref\":\"x\",\"y0\":13.175728393145231,\"y1\":13.57572839314523,\"yref\":\"y\"},{\"fillcolor\":\"rgba(0, 144, 255, 0.5)\",\"line\":{\"color\":\"rgba(0, 144, 255, 0.5)\"},\"type\":\"circle\",\"x0\":6.557767941422602,\"x1\":6.957767941422603,\"xref\":\"x\",\"y0\":12.139206280279529,\"y1\":12.539206280279528,\"yref\":\"y\"},{\"line\":{\"color\":\"white\",\"width\":3},\"type\":\"line\",\"x0\":8.704961007945586,\"x1\":8.903911114781772,\"y0\":12.707221362017558,\"y1\":12.72768730909728},{\"line\":{\"color\":\"white\",\"width\":3},\"type\":\"line\",\"x0\":8.218923390477215,\"x1\":8.414514172251897,\"y0\":13.211868024434885,\"y1\":13.253632196697348},{\"line\":{\"color\":\"black\",\"width\":3},\"type\":\"line\",\"x0\":5.820964694775861,\"x1\":6.016484180120452,\"y0\":12.138511211260155,\"y1\":12.180607895815903},{\"line\":{\"color\":\"white\",\"width\":3},\"type\":\"line\",\"x0\":10.817220149582125,\"x1\":11.01255002682407,\"y0\":12.67978385636386,\"y1\":12.722751740377934},{\"line\":{\"color\":\"white\",\"width\":3},\"type\":\"line\",\"x0\":9.644886189887227,\"x1\":9.843883873406716,\"y0\":13.205983830926272,\"y1\":13.22598187967803},{\"line\":{\"color\":\"white\",\"width\":3},\"type\":\"line\",\"x0\":11.976896423653836,\"x1\":12.170474951544898,\"y0\":12.976942848292115,\"y1\":13.027215639536777},{\"line\":{\"color\":\"white\",\"width\":3},\"type\":\"line\",\"x0\":11.949848598711716,\"x1\":12.145425752147041,\"y0\":13.655420573296663,\"y1\":13.697248519147918},{\"line\":{\"color\":\"white\",\"width\":3},\"type\":\"line\",\"x0\":7.744351588850419,\"x1\":7.93912180064025,\"y0\":12.307127048352413,\"y1\":12.35256452846899},{\"line\":{\"color\":\"white\",\"width\":3},\"type\":\"line\",\"x0\":10.788397904261505,\"x1\":10.98179365538387,\"y0\":13.37572839314523,\"y1\":13.426699791476219},{\"line\":{\"color\":\"white\",\"width\":3},\"type\":\"line\",\"x0\":6.757767941422602,\"x1\":6.953745458010552,\"y0\":12.339206280279528,\"y1\":12.37911634156763}],\"title\":{\"text\":\"\\u003cb\\u003ePercentage using the shortest path: 0%  |  Number of Agents: 10\\u003c\\u002fb\\u003e\",\"x\":0.5}},\"name\":\"600\"},{\"data\":[{\"hoverinfo\":\"name\",\"line\":{\"color\":\"white\"},\"mode\":\"lines\",\"name\":\"Exterior\",\"showlegend\":false,\"x\":[10.1,10.1,15.0,15.0,13.6,13.6,15.0,15.0,13.6,13.6,15.0,15.0,10.1,10.1,9.9,9.9,5.1,5.1,4.9,4.9,0.0,0.0,1.5,1.5,0.0,0.0,1.5,1.5,0.0,0.0,4.9,4.9,5.1,5.1,9.9,9.9,10.1],\"y\":[1.5,0.0,0.0,4.9,4.9,5.1,5.1,9.9,9.9,10.1,10.1,15.0,15.0,13.6,13.6,15.0,15.0,13.6,13.6,15.0,15.0,10.1,10.1,9.9,9.9,5.1,5.1,4.9,4.9,0.0,0.0,1.5,1.5,0.0,0.0,1.5,1.5],\"type\":\"scatter\"},{\"hoverinfo\":\"name\",\"line\":{\"color\":\"white\"},\"mode\":\"lines\",\"name\":\"Obstacle\",\"showlegend\":false,\"x\":[10.1,11.5,11.5,10.1,10.1,9.9,9.9,8.6,8.6,9.9,9.9,10.1,10.1],\"y\":[5.1,5.1,4.9,4.9,3.6,3.6,4.9,4.9,5.1,5.1,6.5,6.5,5.1],\"type\":\"scatter\"},{\"hoverinfo\":\"name\",\"line\":{\"color\":\"white\"},\"mode\":\"lines\",\"name\":\"Obstacle\",\"showlegend\":false,\"x\":[10.1,11.5,11.5,10.1,10.1,9.9,9.9,8.6,8.6,9.9,9.9,10.1,10.1],\"y\":[10.1,10.1,9.9,9.9,8.6,8.6,9.9,9.9,10.1,10.1,11.5,11.5,10.1],\"type\":\"scatter\"},{\"hoverinfo\":\"name\",\"line\":{\"color\":\"white\"},\"mode\":\"lines\",\"name\":\"Obstacle\",\"showlegend\":false,\"x\":[5.1,6.4,6.4,5.1,5.1,4.9,4.9,3.6,3.6,4.9,4.9,5.1,5.1],\"y\":[5.1,5.1,4.9,4.9,3.6,3.6,4.9,4.9,5.1,5.1,6.5,6.5,5.1],\"type\":\"scatter\"},{\"hoverinfo\":\"name\",\"line\":{\"color\":\"white\"},\"mode\":\"lines\",\"name\":\"Obstacle\",\"showlegend\":false,\"x\":[5.1,6.4,6.4,5.1,5.1,4.9,4.9,3.6,3.6,4.9,4.9,5.1,5.1],\"y\":[10.1,10.1,9.9,9.9,8.6,8.6,9.9,9.9,10.1,10.1,11.5,11.5,10.1],\"type\":\"scatter\"},{\"fill\":\"toself\",\"fillcolor\":\"rgb(76, 0, 0)\",\"hoverinfo\":\"name\",\"line\":{\"width\":0},\"mode\":\"lines\",\"name\":\"Risk Area\",\"showlegend\":false,\"x\":[1.5,1.5,3.6,3.6,4.9,4.9,5.0,5.0,4.9,4.9,0.0,0.0,1.5],\"y\":[4.9,5.0,5.0,4.9,4.9,3.6,3.6,1.5,1.5,0.0,0.0,4.9,4.9],\"type\":\"scatter\"},{\"fill\":\"toself\",\"fillcolor\":\"rgb(153, 0, 0)\",\"hoverinfo\":\"name\",\"line\":{\"width\":0},\"mode\":\"lines\",\"name\":\"Risk Area\",\"showlegend\":false,\"x\":[9.9,9.9,5.1,5.1,5.0,5.0,5.1,5.1,6.4,6.4,8.6,8.6,9.9,9.9,10.0,10.0,9.9],\"y\":[1.5,0.0,0.0,1.5,1.5,3.6,3.6,4.9,4.9,5.0,5.0,4.9,4.9,3.6,3.6,1.5,1.5],\"type\":\"scatter\"},{\"fill\":\"toself\",\"fillcolor\":\"rgb(0, 0, 0)\",\"hoverinfo\":\"name\",\"line\":{\"width\":0},\"mode\":\"lines\",\"name\":\"Risk Area\",\"showlegend\":false,\"x\":[13.6,15.0,15.0,10.1,10.1,10.0,10.0,10.1,10.1,11.5,11.5,13.6,13.6],\"y\":[4.9,4.9,0.0,0.0,1.5,1.5,3.6,3.6,4.9,4.9,5.0,5.0,4.9],\"type\":\"scatter\"},{\"fill\":\"toself\",\"fillcolor\":\"rgb(153, 0, 0)\",\"hoverinfo\":\"name\",\"line\":{\"width\":0},\"mode\":\"lines\",\"name\":\"Risk Area\",\"showlegend\":false,\"x\":[13.6,15.0,15.0,13.6,13.6,11.5,11.5,10.1,10.1,10.0,10.0,10.1,10.1,11.5,11.5,13.6,13.6],\"y\":[9.9,9.9,5.1,5.1,5.0,5.0,5.1,5.1,6.5,6.5,8.6,8.6,9.9,9.9,10.0,10.0,9.9],\"type\":\"scatter\"},{\"fill\":\"toself\",\"fillcolor\":\"rgb(204, 0, 0)\",\"hoverinfo\":\"name\",\"line\":{\"width\":0},\"mode\":\"lines\",\"name\":\"Risk Area\",\"showlegend\":false,\"x\":[9.9,9.9,8.6,8.6,6.4,6.4,5.1,5.1,5.0,5.0,5.1,5.1,6.4,6.4,8.6,8.6,9.9,9.9,10.0,10.0,9.9],\"y\":[6.5,5.1,5.1,5.0,5.0,5.1,5.1,6.5,6.5,8.6,8.6,9.9,9.9,10.0,10.0,9.9,9.9,8.6,8.6,6.5,6.5],\"type\":\"scatter\"},{\"fill\":\"toself\",\"fillcolor\":\"rgb(51, 0, 0)\",\"hoverinfo\":\"name\",\"line\":{\"width\":0},\"mode\":\"lines\",\"name\":\"Risk Area\",\"showlegend\":false,\"x\":[4.9,4.9,3.6,3.6,1.5,1.5,0.0,0.0,1.5,1.5,3.6,3.6,4.9,4.9,5.0,5.0,4.9],\"y\":[6.5,5.1,5.1,5.0,5.0,5.1,5.1,9.9,9.9,10.0,10.0,9.9,9.9,8.6,8.6,6.5,6.5],\"type\":\"scatter\"},{\"fill\":\"toself\",\"fillcolor\":\"rgb(51, 0, 0)\",\"hoverinfo\":\"name\",\"line\":{\"width\":0},\"mode\":\"lines\",\"name\":\"Risk Area\",\"showlegend\":false,\"x\":[1.5,0.0,0.0,4.9,4.9,5.0,5.0,4.9,4.9,3.6,3.6,1.5,1.5],\"y\":[10.1,10.1,15.0,15.0,13.6,13.6,11.5,11.5,10.1,10.1,10.0,10.0,10.1],\"type\":\"scatter\"},{\"fill\":\"toself\",\"fillcolor\":\"rgb(153, 0, 0)\",\"hoverinfo\":\"name\",\"line\":{\"width\":0},\"mode\":\"lines\",\"name\":\"Risk Area\",\"showlegend\":false,\"x\":[6.4,5.1,5.1,5.0,5.0,5.1,5.1,9.9,9.9,10.0,10.0,9.9,9.9,8.6,8.6,6.4,6.4],\"y\":[10.1,10.1,11.5,11.5,13.6,13.6,15.0,15.0,13.6,13.6,11.5,11.5,10.1,10.1,10.0,10.0,10.1],\"type\":\"scatter\"},{\"fill\":\"toself\",\"fillcolor\":\"rgb(51, 0, 0)\",\"hoverinfo\":\"name\",\"line\":{\"width\":0},\"mode\":\"lines\",\"name\":\"Risk Area\",\"showlegend\":false,\"x\":[10.1,10.1,15.0,15.0,13.6,13.6,11.5,11.5,10.1,10.1,10.0,10.0,10.1],\"y\":[13.6,15.0,15.0,10.1,10.1,10.0,10.0,10.1,10.1,11.5,11.5,13.6,13.6],\"type\":\"scatter\"},{\"hoverinfo\":\"text\",\"marker\":{\"opacity\":1,\"size\":1},\"mode\":\"markers\",\"showlegend\":false,\"text\":[\"ID: 11.0, Pos(10.14,12.86)\"],\"x\":[10.136924631508197],\"y\":[12.855142499796163],\"type\":\"scatter\"},{\"hoverinfo\":\"text\",\"marker\":{\"opacity\":1,\"size\":1},\"mode\":\"markers\",\"showlegend\":false,\"text\":[\"ID: 12.0, Pos(9.67,13.37)\"],\"x\":[9.665213149107926],\"y\":[13.36896267738499],\"type\":\"scatter\"},{\"hoverinfo\":\"text\",\"marker\":{\"opacity\":1,\"size\":1},\"mode\":\"markers\",\"showlegend\":false,\"text\":[\"ID: 13.0, Pos(6.98,12.38)\"],\"x\":[6.978558127454965],\"y\":[12.37601018535596],\"type\":\"scatter\"},{\"hoverinfo\":\"text\",\"marker\":{\"opacity\":1,\"size\":1},\"mode\":\"markers\",\"showlegend\":false,\"text\":[\"ID: 14.0, Pos(12.37,13.07)\"],\"x\":[12.366573330426982],\"y\":[13.073136606540006],\"type\":\"scatter\"},{\"hoverinfo\":\"text\",\"marker\":{\"opacity\":1,\"size\":1},\"mode\":\"markers\",\"showlegend\":false,\"text\":[\"ID: 15.0, Pos(11.21,13.34)\"],\"x\":[11.209491166514727],\"y\":[13.337925548609494],\"type\":\"scatter\"},{\"hoverinfo\":\"text\",\"marker\":{\"opacity\":1,\"size\":1},\"mode\":\"markers\",\"showlegend\":false,\"text\":[\"ID: 18.0, Pos(9.05,12.62)\"],\"x\":[9.04634871930112],\"y\":[12.61573594489351],\"type\":\"scatter\"},{\"hoverinfo\":\"text\",\"marker\":{\"opacity\":1,\"size\":1},\"mode\":\"markers\",\"showlegend\":false,\"text\":[\"ID: 19.0, Pos(12.35,13.73)\"],\"x\":[12.345229277923437],\"y\":[13.731999276034292],\"type\":\"scatter\"},{\"hoverinfo\":\"text\",\"marker\":{\"opacity\":1,\"size\":1},\"mode\":\"markers\",\"showlegend\":false,\"text\":[\"ID: 20.0, Pos(7.98,12.59)\"],\"x\":[7.982404662346974],\"y\":[12.58755606730642],\"type\":\"scatter\"},{\"hoverinfo\":\"none\",\"marker\":{\"opacity\":0,\"size\":1},\"mode\":\"markers\",\"showlegend\":false,\"x\":[0.0],\"y\":[0.0],\"type\":\"scatter\"},{\"hoverinfo\":\"none\",\"marker\":{\"opacity\":0,\"size\":1},\"mode\":\"markers\",\"showlegend\":false,\"x\":[0.0],\"y\":[0.0],\"type\":\"scatter\"}],\"layout\":{\"shapes\":[{\"fillcolor\":\"rgba(0, 0, 159, 0.5)\",\"line\":{\"color\":\"rgba(0, 0, 159, 0.5)\"},\"type\":\"circle\",\"x0\":9.936924631508198,\"x1\":10.336924631508197,\"xref\":\"x\",\"y0\":12.655142499796163,\"y1\":13.055142499796162,\"yref\":\"y\"},{\"fillcolor\":\"rgba(231, 255, 15, 0.5)\",\"line\":{\"color\":\"rgba(231, 255, 15, 0.5)\"},\"type\":\"circle\",\"x0\":9.465213149107926,\"x1\":9.865213149107925,\"xref\":\"x\",\"y0\":13.168962677384991,\"y1\":13.56896267738499,\"yref\":\"y\"},{\"fillcolor\":\"rgba(0, 96, 255, 0.5)\",\"line\":{\"color\":\"rgba(0, 96, 255, 0.5)\"},\"type\":\"circle\",\"x0\":6.778558127454965,\"x1\":7.1785581274549655,\"xref\":\"x\",\"y0\":12.176010185355961,\"y1\":12.57601018535596,\"yref\":\"y\"},{\"fillcolor\":\"rgba(0, 0, 128, 0.5)\",\"line\":{\"color\":\"rgba(0, 0, 128, 0.5)\"},\"type\":\"circle\",\"x0\":12.166573330426983,\"x1\":12.566573330426982,\"xref\":\"x\",\"y0\":12.873136606540006,\"y1\":13.273136606540005,\"yref\":\"y\"},{\"fillcolor\":\"rgba(0, 0, 128, 0.5)\",\"line\":{\"color\":\"rgba(0, 0, 128, 0.5)\"},\"type\":\"circle\",\"x0\":11.009491166514728,\"x1\":11.409491166514727,\"xref\":\"x\",\"y0\":13.137925548609495,\"y1\":13.537925548609493,\"yref\":\"y\"},{\"fillcolor\":\"rgba(0, 0, 246, 0.5)\",\"line\":{\"color\":\"rgba(0, 0, 246, 0.5)\"},\"type\":\"circle\",\"x0\":8.84634871930112,\"x1\":9.24634871930112,\"xref\":\"x\",\"y0\":12.41573594489351,\"y1\":12.81573594489351,\"yref\":\"y\"},{\"fillcolor\":\"rgba(0, 0, 128, 0.5)\",\"line\":{\"color\":\"rgba(0, 0, 128, 0.5)\"},\"type\":\"circle\",\"x0\":12.145229277923438,\"x1\":12.545229277923436,\"xref\":\"x\",\"y0\":13.531999276034293,\"y1\":13.931999276034292,\"yref\":\"y\"},{\"fillcolor\":\"rgba(0, 45, 255, 0.5)\",\"line\":{\"color\":\"rgba(0, 45, 255, 0.5)\"},\"type\":\"circle\",\"x0\":7.782404662346974,\"x1\":8.182404662346974,\"xref\":\"x\",\"y0\":12.38755606730642,\"y1\":12.787556067306419,\"yref\":\"y\"},{\"fillcolor\":\"rgba(255,255,255,0)\",\"line\":{\"width\":0},\"type\":\"circle\",\"x0\":0.0,\"x1\":0.0,\"xref\":\"x\",\"y0\":0.0,\"y1\":0.0,\"yref\":\"y\"},{\"fillcolor\":\"rgba(255,255,255,0)\",\"line\":{\"width\":0},\"type\":\"circle\",\"x0\":0.0,\"x1\":0.0,\"xref\":\"x\",\"y0\":0.0,\"y1\":0.0,\"yref\":\"y\"},{\"line\":{\"color\":\"white\",\"width\":3},\"type\":\"line\",\"x0\":10.136924631508197,\"x1\":10.335210650278128,\"y0\":12.855142499796163,\"y1\":12.881270162538375},{\"line\":{\"color\":\"black\",\"width\":3},\"type\":\"line\",\"x0\":9.665213149107926,\"x1\":9.807372202635475,\"y0\":13.36896267738499,\"y1\":13.228282886724955},{\"line\":{\"color\":\"white\",\"width\":3},\"type\":\"line\",\"x0\":6.978558127454965,\"x1\":7.174565327534859,\"y0\":12.37601018535596,\"y1\":12.415774208251543},{\"line\":{\"color\":\"white\",\"width\":3},\"type\":\"line\",\"x0\":12.366573330426982,\"x1\":12.55965329551172,\"y0\":13.073136606540006,\"y1\":13.125291444118856},{\"line\":{\"color\":\"white\",\"width\":3},\"type\":\"line\",\"x0\":11.209491166514727,\"x1\":11.406894673117748,\"y0\":13.337925548609494,\"y1\":13.37004805755309},{\"line\":{\"color\":\"white\",\"width\":3},\"type\":\"line\",\"x0\":9.04634871930112,\"x1\":9.241025819837136,\"y0\":12.61573594489351,\"y1\":12.661570719103604},{\"line\":{\"color\":\"white\",\"width\":3},\"type\":\"line\",\"x0\":12.345229277923437,\"x1\":12.540998748888722,\"y0\":13.731999276034292,\"y1\":13.772917661119395},{\"line\":{\"color\":\"white\",\"width\":3},\"type\":\"line\",\"x0\":7.982404662346974,\"x1\":8.178437371576653,\"y0\":12.58755606730642,\"y1\":12.627194141327147},{\"line\":{\"color\":\"rgba(255,255,255,0)\",\"width\":3},\"type\":\"line\",\"x0\":0.0,\"x1\":null,\"y0\":0.0,\"y1\":null},{\"line\":{\"color\":\"rgba(255,255,255,0)\",\"width\":3},\"type\":\"line\",\"x0\":0.0,\"x1\":null,\"y0\":0.0,\"y1\":null}],\"title\":{\"text\":\"\\u003cb\\u003ePercentage using the shortest path: 0%  |  Number of Agents: 8\\u003c\\u002fb\\u003e\",\"x\":0.5}},\"name\":\"650\"},{\"data\":[{\"hoverinfo\":\"name\",\"line\":{\"color\":\"white\"},\"mode\":\"lines\",\"name\":\"Exterior\",\"showlegend\":false,\"x\":[10.1,10.1,15.0,15.0,13.6,13.6,15.0,15.0,13.6,13.6,15.0,15.0,10.1,10.1,9.9,9.9,5.1,5.1,4.9,4.9,0.0,0.0,1.5,1.5,0.0,0.0,1.5,1.5,0.0,0.0,4.9,4.9,5.1,5.1,9.9,9.9,10.1],\"y\":[1.5,0.0,0.0,4.9,4.9,5.1,5.1,9.9,9.9,10.1,10.1,15.0,15.0,13.6,13.6,15.0,15.0,13.6,13.6,15.0,15.0,10.1,10.1,9.9,9.9,5.1,5.1,4.9,4.9,0.0,0.0,1.5,1.5,0.0,0.0,1.5,1.5],\"type\":\"scatter\"},{\"hoverinfo\":\"name\",\"line\":{\"color\":\"white\"},\"mode\":\"lines\",\"name\":\"Obstacle\",\"showlegend\":false,\"x\":[10.1,11.5,11.5,10.1,10.1,9.9,9.9,8.6,8.6,9.9,9.9,10.1,10.1],\"y\":[5.1,5.1,4.9,4.9,3.6,3.6,4.9,4.9,5.1,5.1,6.5,6.5,5.1],\"type\":\"scatter\"},{\"hoverinfo\":\"name\",\"line\":{\"color\":\"white\"},\"mode\":\"lines\",\"name\":\"Obstacle\",\"showlegend\":false,\"x\":[10.1,11.5,11.5,10.1,10.1,9.9,9.9,8.6,8.6,9.9,9.9,10.1,10.1],\"y\":[10.1,10.1,9.9,9.9,8.6,8.6,9.9,9.9,10.1,10.1,11.5,11.5,10.1],\"type\":\"scatter\"},{\"hoverinfo\":\"name\",\"line\":{\"color\":\"white\"},\"mode\":\"lines\",\"name\":\"Obstacle\",\"showlegend\":false,\"x\":[5.1,6.4,6.4,5.1,5.1,4.9,4.9,3.6,3.6,4.9,4.9,5.1,5.1],\"y\":[5.1,5.1,4.9,4.9,3.6,3.6,4.9,4.9,5.1,5.1,6.5,6.5,5.1],\"type\":\"scatter\"},{\"hoverinfo\":\"name\",\"line\":{\"color\":\"white\"},\"mode\":\"lines\",\"name\":\"Obstacle\",\"showlegend\":false,\"x\":[5.1,6.4,6.4,5.1,5.1,4.9,4.9,3.6,3.6,4.9,4.9,5.1,5.1],\"y\":[10.1,10.1,9.9,9.9,8.6,8.6,9.9,9.9,10.1,10.1,11.5,11.5,10.1],\"type\":\"scatter\"},{\"fill\":\"toself\",\"fillcolor\":\"rgb(76, 0, 0)\",\"hoverinfo\":\"name\",\"line\":{\"width\":0},\"mode\":\"lines\",\"name\":\"Risk Area\",\"showlegend\":false,\"x\":[1.5,1.5,3.6,3.6,4.9,4.9,5.0,5.0,4.9,4.9,0.0,0.0,1.5],\"y\":[4.9,5.0,5.0,4.9,4.9,3.6,3.6,1.5,1.5,0.0,0.0,4.9,4.9],\"type\":\"scatter\"},{\"fill\":\"toself\",\"fillcolor\":\"rgb(153, 0, 0)\",\"hoverinfo\":\"name\",\"line\":{\"width\":0},\"mode\":\"lines\",\"name\":\"Risk Area\",\"showlegend\":false,\"x\":[9.9,9.9,5.1,5.1,5.0,5.0,5.1,5.1,6.4,6.4,8.6,8.6,9.9,9.9,10.0,10.0,9.9],\"y\":[1.5,0.0,0.0,1.5,1.5,3.6,3.6,4.9,4.9,5.0,5.0,4.9,4.9,3.6,3.6,1.5,1.5],\"type\":\"scatter\"},{\"fill\":\"toself\",\"fillcolor\":\"rgb(0, 0, 0)\",\"hoverinfo\":\"name\",\"line\":{\"width\":0},\"mode\":\"lines\",\"name\":\"Risk Area\",\"showlegend\":false,\"x\":[13.6,15.0,15.0,10.1,10.1,10.0,10.0,10.1,10.1,11.5,11.5,13.6,13.6],\"y\":[4.9,4.9,0.0,0.0,1.5,1.5,3.6,3.6,4.9,4.9,5.0,5.0,4.9],\"type\":\"scatter\"},{\"fill\":\"toself\",\"fillcolor\":\"rgb(153, 0, 0)\",\"hoverinfo\":\"name\",\"line\":{\"width\":0},\"mode\":\"lines\",\"name\":\"Risk Area\",\"showlegend\":false,\"x\":[13.6,15.0,15.0,13.6,13.6,11.5,11.5,10.1,10.1,10.0,10.0,10.1,10.1,11.5,11.5,13.6,13.6],\"y\":[9.9,9.9,5.1,5.1,5.0,5.0,5.1,5.1,6.5,6.5,8.6,8.6,9.9,9.9,10.0,10.0,9.9],\"type\":\"scatter\"},{\"fill\":\"toself\",\"fillcolor\":\"rgb(204, 0, 0)\",\"hoverinfo\":\"name\",\"line\":{\"width\":0},\"mode\":\"lines\",\"name\":\"Risk Area\",\"showlegend\":false,\"x\":[9.9,9.9,8.6,8.6,6.4,6.4,5.1,5.1,5.0,5.0,5.1,5.1,6.4,6.4,8.6,8.6,9.9,9.9,10.0,10.0,9.9],\"y\":[6.5,5.1,5.1,5.0,5.0,5.1,5.1,6.5,6.5,8.6,8.6,9.9,9.9,10.0,10.0,9.9,9.9,8.6,8.6,6.5,6.5],\"type\":\"scatter\"},{\"fill\":\"toself\",\"fillcolor\":\"rgb(51, 0, 0)\",\"hoverinfo\":\"name\",\"line\":{\"width\":0},\"mode\":\"lines\",\"name\":\"Risk Area\",\"showlegend\":false,\"x\":[4.9,4.9,3.6,3.6,1.5,1.5,0.0,0.0,1.5,1.5,3.6,3.6,4.9,4.9,5.0,5.0,4.9],\"y\":[6.5,5.1,5.1,5.0,5.0,5.1,5.1,9.9,9.9,10.0,10.0,9.9,9.9,8.6,8.6,6.5,6.5],\"type\":\"scatter\"},{\"fill\":\"toself\",\"fillcolor\":\"rgb(51, 0, 0)\",\"hoverinfo\":\"name\",\"line\":{\"width\":0},\"mode\":\"lines\",\"name\":\"Risk Area\",\"showlegend\":false,\"x\":[1.5,0.0,0.0,4.9,4.9,5.0,5.0,4.9,4.9,3.6,3.6,1.5,1.5],\"y\":[10.1,10.1,15.0,15.0,13.6,13.6,11.5,11.5,10.1,10.1,10.0,10.0,10.1],\"type\":\"scatter\"},{\"fill\":\"toself\",\"fillcolor\":\"rgb(153, 0, 0)\",\"hoverinfo\":\"name\",\"line\":{\"width\":0},\"mode\":\"lines\",\"name\":\"Risk Area\",\"showlegend\":false,\"x\":[6.4,5.1,5.1,5.0,5.0,5.1,5.1,9.9,9.9,10.0,10.0,9.9,9.9,8.6,8.6,6.4,6.4],\"y\":[10.1,10.1,11.5,11.5,13.6,13.6,15.0,15.0,13.6,13.6,11.5,11.5,10.1,10.1,10.0,10.0,10.1],\"type\":\"scatter\"},{\"fill\":\"toself\",\"fillcolor\":\"rgb(51, 0, 0)\",\"hoverinfo\":\"name\",\"line\":{\"width\":0},\"mode\":\"lines\",\"name\":\"Risk Area\",\"showlegend\":false,\"x\":[10.1,10.1,15.0,15.0,13.6,13.6,11.5,11.5,10.1,10.1,10.0,10.0,10.1],\"y\":[13.6,15.0,15.0,10.1,10.1,10.0,10.0,10.1,10.1,11.5,11.5,13.6,13.6],\"type\":\"scatter\"},{\"hoverinfo\":\"text\",\"marker\":{\"opacity\":1,\"size\":1},\"mode\":\"markers\",\"showlegend\":false,\"text\":[\"ID: 11.0, Pos(11.67,13.21)\"],\"x\":[11.668867976987963],\"y\":[13.211749109545408],\"type\":\"scatter\"},{\"hoverinfo\":\"text\",\"marker\":{\"opacity\":1,\"size\":1},\"mode\":\"markers\",\"showlegend\":false,\"text\":[\"ID: 12.0, Pos(10.66,13.37)\"],\"x\":[10.664190572952243],\"y\":[13.367308811336336],\"type\":\"scatter\"},{\"hoverinfo\":\"text\",\"marker\":{\"opacity\":1,\"size\":1},\"mode\":\"markers\",\"showlegend\":false,\"text\":[\"ID: 13.0, Pos(8.30,12.64)\"],\"x\":[8.297843058226102],\"y\":[12.64367944494664],\"type\":\"scatter\"},{\"hoverinfo\":\"text\",\"marker\":{\"opacity\":1,\"size\":1},\"mode\":\"markers\",\"showlegend\":false,\"text\":[\"ID: 18.0, Pos(10.58,12.70)\"],\"x\":[10.576928242924316],\"y\":[12.695753760817253],\"type\":\"scatter\"},{\"hoverinfo\":\"text\",\"marker\":{\"opacity\":1,\"size\":1},\"mode\":\"markers\",\"showlegend\":false,\"text\":[\"ID: 20.0, Pos(9.41,12.88)\"],\"x\":[9.406671967143367],\"y\":[12.87516021907008],\"type\":\"scatter\"},{\"hoverinfo\":\"none\",\"marker\":{\"opacity\":0,\"size\":1},\"mode\":\"markers\",\"showlegend\":false,\"x\":[0.0],\"y\":[0.0],\"type\":\"scatter\"},{\"hoverinfo\":\"none\",\"marker\":{\"opacity\":0,\"size\":1},\"mode\":\"markers\",\"showlegend\":false,\"x\":[0.0],\"y\":[0.0],\"type\":\"scatter\"},{\"hoverinfo\":\"none\",\"marker\":{\"opacity\":0,\"size\":1},\"mode\":\"markers\",\"showlegend\":false,\"x\":[0.0],\"y\":[0.0],\"type\":\"scatter\"},{\"hoverinfo\":\"none\",\"marker\":{\"opacity\":0,\"size\":1},\"mode\":\"markers\",\"showlegend\":false,\"x\":[0.0],\"y\":[0.0],\"type\":\"scatter\"},{\"hoverinfo\":\"none\",\"marker\":{\"opacity\":0,\"size\":1},\"mode\":\"markers\",\"showlegend\":false,\"x\":[0.0],\"y\":[0.0],\"type\":\"scatter\"}],\"layout\":{\"shapes\":[{\"fillcolor\":\"rgba(0, 0, 128, 0.5)\",\"line\":{\"color\":\"rgba(0, 0, 128, 0.5)\"},\"type\":\"circle\",\"x0\":11.468867976987964,\"x1\":11.868867976987962,\"xref\":\"x\",\"y0\":13.01174910954541,\"y1\":13.411749109545408,\"yref\":\"y\"},{\"fillcolor\":\"rgba(0, 0, 128, 0.5)\",\"line\":{\"color\":\"rgba(0, 0, 128, 0.5)\"},\"type\":\"circle\",\"x0\":10.464190572952244,\"x1\":10.864190572952243,\"xref\":\"x\",\"y0\":13.167308811336337,\"y1\":13.567308811336336,\"yref\":\"y\"},{\"fillcolor\":\"rgba(0, 0, 223, 0.5)\",\"line\":{\"color\":\"rgba(0, 0, 223, 0.5)\"},\"type\":\"circle\",\"x0\":8.097843058226102,\"x1\":8.4978430582261,\"xref\":\"x\",\"y0\":12.44367944494664,\"y1\":12.84367944494664,\"yref\":\"y\"},{\"fillcolor\":\"rgba(0, 0, 128, 0.5)\",\"line\":{\"color\":\"rgba(0, 0, 128, 0.5)\"},\"type\":\"circle\",\"x0\":10.376928242924317,\"x1\":10.776928242924315,\"xref\":\"x\",\"y0\":12.495753760817253,\"y1\":12.895753760817252,\"yref\":\"y\"},{\"fillcolor\":\"rgba(0, 0, 128, 0.5)\",\"line\":{\"color\":\"rgba(0, 0, 128, 0.5)\"},\"type\":\"circle\",\"x0\":9.206671967143368,\"x1\":9.606671967143367,\"xref\":\"x\",\"y0\":12.675160219070081,\"y1\":13.07516021907008,\"yref\":\"y\"},{\"fillcolor\":\"rgba(255,255,255,0)\",\"line\":{\"width\":0},\"type\":\"circle\",\"x0\":0.0,\"x1\":0.0,\"xref\":\"x\",\"y0\":0.0,\"y1\":0.0,\"yref\":\"y\"},{\"fillcolor\":\"rgba(255,255,255,0)\",\"line\":{\"width\":0},\"type\":\"circle\",\"x0\":0.0,\"x1\":0.0,\"xref\":\"x\",\"y0\":0.0,\"y1\":0.0,\"yref\":\"y\"},{\"fillcolor\":\"rgba(255,255,255,0)\",\"line\":{\"width\":0},\"type\":\"circle\",\"x0\":0.0,\"x1\":0.0,\"xref\":\"x\",\"y0\":0.0,\"y1\":0.0,\"yref\":\"y\"},{\"fillcolor\":\"rgba(255,255,255,0)\",\"line\":{\"width\":0},\"type\":\"circle\",\"x0\":0.0,\"x1\":0.0,\"xref\":\"x\",\"y0\":0.0,\"y1\":0.0,\"yref\":\"y\"},{\"fillcolor\":\"rgba(255,255,255,0)\",\"line\":{\"width\":0},\"type\":\"circle\",\"x0\":0.0,\"x1\":0.0,\"xref\":\"x\",\"y0\":0.0,\"y1\":0.0,\"yref\":\"y\"},{\"line\":{\"color\":\"white\",\"width\":3},\"type\":\"line\",\"x0\":11.668867976987963,\"x1\":11.862596720610792,\"y0\":13.211749109545408,\"y1\":13.261439892335785},{\"line\":{\"color\":\"white\",\"width\":3},\"type\":\"line\",\"x0\":10.664190572952243,\"x1\":10.856653595791032,\"y0\":13.367308811336336,\"y1\":13.4216961705272},{\"line\":{\"color\":\"white\",\"width\":3},\"type\":\"line\",\"x0\":8.297843058226102,\"x1\":8.493848960536525,\"y0\":12.64367944494664,\"y1\":12.683449864349472},{\"line\":{\"color\":\"white\",\"width\":3},\"type\":\"line\",\"x0\":10.576928242924316,\"x1\":10.774304896680187,\"y0\":12.695753760817253,\"y1\":12.728040856569818},{\"line\":{\"color\":\"white\",\"width\":3},\"type\":\"line\",\"x0\":9.406671967143367,\"x1\":9.602721566858605,\"y0\":12.87516021907008,\"y1\":12.914714668269825},{\"line\":{\"color\":\"rgba(255,255,255,0)\",\"width\":3},\"type\":\"line\",\"x0\":0.0,\"x1\":null,\"y0\":0.0,\"y1\":null},{\"line\":{\"color\":\"rgba(255,255,255,0)\",\"width\":3},\"type\":\"line\",\"x0\":0.0,\"x1\":null,\"y0\":0.0,\"y1\":null},{\"line\":{\"color\":\"rgba(255,255,255,0)\",\"width\":3},\"type\":\"line\",\"x0\":0.0,\"x1\":null,\"y0\":0.0,\"y1\":null},{\"line\":{\"color\":\"rgba(255,255,255,0)\",\"width\":3},\"type\":\"line\",\"x0\":0.0,\"x1\":null,\"y0\":0.0,\"y1\":null},{\"line\":{\"color\":\"rgba(255,255,255,0)\",\"width\":3},\"type\":\"line\",\"x0\":0.0,\"x1\":null,\"y0\":0.0,\"y1\":null}],\"title\":{\"text\":\"\\u003cb\\u003ePercentage using the shortest path: 0%  |  Number of Agents: 5\\u003c\\u002fb\\u003e\",\"x\":0.5}},\"name\":\"700\"},{\"data\":[{\"hoverinfo\":\"name\",\"line\":{\"color\":\"white\"},\"mode\":\"lines\",\"name\":\"Exterior\",\"showlegend\":false,\"x\":[10.1,10.1,15.0,15.0,13.6,13.6,15.0,15.0,13.6,13.6,15.0,15.0,10.1,10.1,9.9,9.9,5.1,5.1,4.9,4.9,0.0,0.0,1.5,1.5,0.0,0.0,1.5,1.5,0.0,0.0,4.9,4.9,5.1,5.1,9.9,9.9,10.1],\"y\":[1.5,0.0,0.0,4.9,4.9,5.1,5.1,9.9,9.9,10.1,10.1,15.0,15.0,13.6,13.6,15.0,15.0,13.6,13.6,15.0,15.0,10.1,10.1,9.9,9.9,5.1,5.1,4.9,4.9,0.0,0.0,1.5,1.5,0.0,0.0,1.5,1.5],\"type\":\"scatter\"},{\"hoverinfo\":\"name\",\"line\":{\"color\":\"white\"},\"mode\":\"lines\",\"name\":\"Obstacle\",\"showlegend\":false,\"x\":[10.1,11.5,11.5,10.1,10.1,9.9,9.9,8.6,8.6,9.9,9.9,10.1,10.1],\"y\":[5.1,5.1,4.9,4.9,3.6,3.6,4.9,4.9,5.1,5.1,6.5,6.5,5.1],\"type\":\"scatter\"},{\"hoverinfo\":\"name\",\"line\":{\"color\":\"white\"},\"mode\":\"lines\",\"name\":\"Obstacle\",\"showlegend\":false,\"x\":[10.1,11.5,11.5,10.1,10.1,9.9,9.9,8.6,8.6,9.9,9.9,10.1,10.1],\"y\":[10.1,10.1,9.9,9.9,8.6,8.6,9.9,9.9,10.1,10.1,11.5,11.5,10.1],\"type\":\"scatter\"},{\"hoverinfo\":\"name\",\"line\":{\"color\":\"white\"},\"mode\":\"lines\",\"name\":\"Obstacle\",\"showlegend\":false,\"x\":[5.1,6.4,6.4,5.1,5.1,4.9,4.9,3.6,3.6,4.9,4.9,5.1,5.1],\"y\":[5.1,5.1,4.9,4.9,3.6,3.6,4.9,4.9,5.1,5.1,6.5,6.5,5.1],\"type\":\"scatter\"},{\"hoverinfo\":\"name\",\"line\":{\"color\":\"white\"},\"mode\":\"lines\",\"name\":\"Obstacle\",\"showlegend\":false,\"x\":[5.1,6.4,6.4,5.1,5.1,4.9,4.9,3.6,3.6,4.9,4.9,5.1,5.1],\"y\":[10.1,10.1,9.9,9.9,8.6,8.6,9.9,9.9,10.1,10.1,11.5,11.5,10.1],\"type\":\"scatter\"},{\"fill\":\"toself\",\"fillcolor\":\"rgb(76, 0, 0)\",\"hoverinfo\":\"name\",\"line\":{\"width\":0},\"mode\":\"lines\",\"name\":\"Risk Area\",\"showlegend\":false,\"x\":[1.5,1.5,3.6,3.6,4.9,4.9,5.0,5.0,4.9,4.9,0.0,0.0,1.5],\"y\":[4.9,5.0,5.0,4.9,4.9,3.6,3.6,1.5,1.5,0.0,0.0,4.9,4.9],\"type\":\"scatter\"},{\"fill\":\"toself\",\"fillcolor\":\"rgb(153, 0, 0)\",\"hoverinfo\":\"name\",\"line\":{\"width\":0},\"mode\":\"lines\",\"name\":\"Risk Area\",\"showlegend\":false,\"x\":[9.9,9.9,5.1,5.1,5.0,5.0,5.1,5.1,6.4,6.4,8.6,8.6,9.9,9.9,10.0,10.0,9.9],\"y\":[1.5,0.0,0.0,1.5,1.5,3.6,3.6,4.9,4.9,5.0,5.0,4.9,4.9,3.6,3.6,1.5,1.5],\"type\":\"scatter\"},{\"fill\":\"toself\",\"fillcolor\":\"rgb(0, 0, 0)\",\"hoverinfo\":\"name\",\"line\":{\"width\":0},\"mode\":\"lines\",\"name\":\"Risk Area\",\"showlegend\":false,\"x\":[13.6,15.0,15.0,10.1,10.1,10.0,10.0,10.1,10.1,11.5,11.5,13.6,13.6],\"y\":[4.9,4.9,0.0,0.0,1.5,1.5,3.6,3.6,4.9,4.9,5.0,5.0,4.9],\"type\":\"scatter\"},{\"fill\":\"toself\",\"fillcolor\":\"rgb(153, 0, 0)\",\"hoverinfo\":\"name\",\"line\":{\"width\":0},\"mode\":\"lines\",\"name\":\"Risk Area\",\"showlegend\":false,\"x\":[13.6,15.0,15.0,13.6,13.6,11.5,11.5,10.1,10.1,10.0,10.0,10.1,10.1,11.5,11.5,13.6,13.6],\"y\":[9.9,9.9,5.1,5.1,5.0,5.0,5.1,5.1,6.5,6.5,8.6,8.6,9.9,9.9,10.0,10.0,9.9],\"type\":\"scatter\"},{\"fill\":\"toself\",\"fillcolor\":\"rgb(204, 0, 0)\",\"hoverinfo\":\"name\",\"line\":{\"width\":0},\"mode\":\"lines\",\"name\":\"Risk Area\",\"showlegend\":false,\"x\":[9.9,9.9,8.6,8.6,6.4,6.4,5.1,5.1,5.0,5.0,5.1,5.1,6.4,6.4,8.6,8.6,9.9,9.9,10.0,10.0,9.9],\"y\":[6.5,5.1,5.1,5.0,5.0,5.1,5.1,6.5,6.5,8.6,8.6,9.9,9.9,10.0,10.0,9.9,9.9,8.6,8.6,6.5,6.5],\"type\":\"scatter\"},{\"fill\":\"toself\",\"fillcolor\":\"rgb(51, 0, 0)\",\"hoverinfo\":\"name\",\"line\":{\"width\":0},\"mode\":\"lines\",\"name\":\"Risk Area\",\"showlegend\":false,\"x\":[4.9,4.9,3.6,3.6,1.5,1.5,0.0,0.0,1.5,1.5,3.6,3.6,4.9,4.9,5.0,5.0,4.9],\"y\":[6.5,5.1,5.1,5.0,5.0,5.1,5.1,9.9,9.9,10.0,10.0,9.9,9.9,8.6,8.6,6.5,6.5],\"type\":\"scatter\"},{\"fill\":\"toself\",\"fillcolor\":\"rgb(51, 0, 0)\",\"hoverinfo\":\"name\",\"line\":{\"width\":0},\"mode\":\"lines\",\"name\":\"Risk Area\",\"showlegend\":false,\"x\":[1.5,0.0,0.0,4.9,4.9,5.0,5.0,4.9,4.9,3.6,3.6,1.5,1.5],\"y\":[10.1,10.1,15.0,15.0,13.6,13.6,11.5,11.5,10.1,10.1,10.0,10.0,10.1],\"type\":\"scatter\"},{\"fill\":\"toself\",\"fillcolor\":\"rgb(153, 0, 0)\",\"hoverinfo\":\"name\",\"line\":{\"width\":0},\"mode\":\"lines\",\"name\":\"Risk Area\",\"showlegend\":false,\"x\":[6.4,5.1,5.1,5.0,5.0,5.1,5.1,9.9,9.9,10.0,10.0,9.9,9.9,8.6,8.6,6.4,6.4],\"y\":[10.1,10.1,11.5,11.5,13.6,13.6,15.0,15.0,13.6,13.6,11.5,11.5,10.1,10.1,10.0,10.0,10.1],\"type\":\"scatter\"},{\"fill\":\"toself\",\"fillcolor\":\"rgb(51, 0, 0)\",\"hoverinfo\":\"name\",\"line\":{\"width\":0},\"mode\":\"lines\",\"name\":\"Risk Area\",\"showlegend\":false,\"x\":[10.1,10.1,15.0,15.0,13.6,13.6,11.5,11.5,10.1,10.1,10.0,10.0,10.1],\"y\":[13.6,15.0,15.0,10.1,10.1,10.0,10.0,10.1,10.1,11.5,11.5,13.6,13.6],\"type\":\"scatter\"},{\"hoverinfo\":\"text\",\"marker\":{\"opacity\":1,\"size\":1},\"mode\":\"markers\",\"showlegend\":false,\"text\":[\"ID: 12.0, Pos(12.12,13.71)\"],\"x\":[12.116465098201767],\"y\":[13.706496443586998],\"type\":\"scatter\"},{\"hoverinfo\":\"text\",\"marker\":{\"opacity\":1,\"size\":1},\"mode\":\"markers\",\"showlegend\":false,\"text\":[\"ID: 13.0, Pos(9.81,12.95)\"],\"x\":[9.80511674278997],\"y\":[12.949410176525193],\"type\":\"scatter\"},{\"hoverinfo\":\"text\",\"marker\":{\"opacity\":1,\"size\":1},\"mode\":\"markers\",\"showlegend\":false,\"text\":[\"ID: 18.0, Pos(12.14,13.04)\"],\"x\":[12.13984591256048],\"y\":[13.036566315729708],\"type\":\"scatter\"},{\"hoverinfo\":\"text\",\"marker\":{\"opacity\":1,\"size\":1},\"mode\":\"markers\",\"showlegend\":false,\"text\":[\"ID: 20.0, Pos(10.96,13.19)\"],\"x\":[10.963747606784011],\"y\":[13.186721478746126],\"type\":\"scatter\"},{\"hoverinfo\":\"none\",\"marker\":{\"opacity\":0,\"size\":1},\"mode\":\"markers\",\"showlegend\":false,\"x\":[0.0],\"y\":[0.0],\"type\":\"scatter\"},{\"hoverinfo\":\"none\",\"marker\":{\"opacity\":0,\"size\":1},\"mode\":\"markers\",\"showlegend\":false,\"x\":[0.0],\"y\":[0.0],\"type\":\"scatter\"},{\"hoverinfo\":\"none\",\"marker\":{\"opacity\":0,\"size\":1},\"mode\":\"markers\",\"showlegend\":false,\"x\":[0.0],\"y\":[0.0],\"type\":\"scatter\"},{\"hoverinfo\":\"none\",\"marker\":{\"opacity\":0,\"size\":1},\"mode\":\"markers\",\"showlegend\":false,\"x\":[0.0],\"y\":[0.0],\"type\":\"scatter\"},{\"hoverinfo\":\"none\",\"marker\":{\"opacity\":0,\"size\":1},\"mode\":\"markers\",\"showlegend\":false,\"x\":[0.0],\"y\":[0.0],\"type\":\"scatter\"},{\"hoverinfo\":\"none\",\"marker\":{\"opacity\":0,\"size\":1},\"mode\":\"markers\",\"showlegend\":false,\"x\":[0.0],\"y\":[0.0],\"type\":\"scatter\"}],\"layout\":{\"shapes\":[{\"fillcolor\":\"rgba(0, 0, 128, 0.5)\",\"line\":{\"color\":\"rgba(0, 0, 128, 0.5)\"},\"type\":\"circle\",\"x0\":11.916465098201767,\"x1\":12.316465098201766,\"xref\":\"x\",\"y0\":13.506496443586999,\"y1\":13.906496443586997,\"yref\":\"y\"},{\"fillcolor\":\"rgba(0, 0, 150, 0.5)\",\"line\":{\"color\":\"rgba(0, 0, 150, 0.5)\"},\"type\":\"circle\",\"x0\":9.60511674278997,\"x1\":10.00511674278997,\"xref\":\"x\",\"y0\":12.749410176525194,\"y1\":13.149410176525192,\"yref\":\"y\"},{\"fillcolor\":\"rgba(0, 0, 128, 0.5)\",\"line\":{\"color\":\"rgba(0, 0, 128, 0.5)\"},\"type\":\"circle\",\"x0\":11.93984591256048,\"x1\":12.33984591256048,\"xref\":\"x\",\"y0\":12.836566315729709,\"y1\":13.236566315729707,\"yref\":\"y\"},{\"fillcolor\":\"rgba(0, 0, 146, 0.5)\",\"line\":{\"color\":\"rgba(0, 0, 146, 0.5)\"},\"type\":\"circle\",\"x0\":10.763747606784012,\"x1\":11.16374760678401,\"xref\":\"x\",\"y0\":12.986721478746126,\"y1\":13.386721478746125,\"yref\":\"y\"},{\"fillcolor\":\"rgba(255,255,255,0)\",\"line\":{\"width\":0},\"type\":\"circle\",\"x0\":0.0,\"x1\":0.0,\"xref\":\"x\",\"y0\":0.0,\"y1\":0.0,\"yref\":\"y\"},{\"fillcolor\":\"rgba(255,255,255,0)\",\"line\":{\"width\":0},\"type\":\"circle\",\"x0\":0.0,\"x1\":0.0,\"xref\":\"x\",\"y0\":0.0,\"y1\":0.0,\"yref\":\"y\"},{\"fillcolor\":\"rgba(255,255,255,0)\",\"line\":{\"width\":0},\"type\":\"circle\",\"x0\":0.0,\"x1\":0.0,\"xref\":\"x\",\"y0\":0.0,\"y1\":0.0,\"yref\":\"y\"},{\"fillcolor\":\"rgba(255,255,255,0)\",\"line\":{\"width\":0},\"type\":\"circle\",\"x0\":0.0,\"x1\":0.0,\"xref\":\"x\",\"y0\":0.0,\"y1\":0.0,\"yref\":\"y\"},{\"fillcolor\":\"rgba(255,255,255,0)\",\"line\":{\"width\":0},\"type\":\"circle\",\"x0\":0.0,\"x1\":0.0,\"xref\":\"x\",\"y0\":0.0,\"y1\":0.0,\"yref\":\"y\"},{\"fillcolor\":\"rgba(255,255,255,0)\",\"line\":{\"width\":0},\"type\":\"circle\",\"x0\":0.0,\"x1\":0.0,\"xref\":\"x\",\"y0\":0.0,\"y1\":0.0,\"yref\":\"y\"},{\"line\":{\"color\":\"white\",\"width\":3},\"type\":\"line\",\"x0\":12.116465098201767,\"x1\":12.312494789367207,\"y0\":13.706496443586998,\"y1\":13.746149440719394},{\"line\":{\"color\":\"white\",\"width\":3},\"type\":\"line\",\"x0\":9.80511674278997,\"x1\":10.001163772689527,\"y0\":12.949410176525193,\"y1\":12.98897736075104},{\"line\":{\"color\":\"white\",\"width\":3},\"type\":\"line\",\"x0\":12.13984591256048,\"x1\":12.333852618142444,\"y0\":13.036566315729708,\"y1\":13.085160535439805},{\"line\":{\"color\":\"white\",\"width\":3},\"type\":\"line\",\"x0\":10.963747606784011,\"x1\":11.159772919405645,\"y0\":13.186721478746126,\"y1\":13.226396115626514},{\"line\":{\"color\":\"rgba(255,255,255,0)\",\"width\":3},\"type\":\"line\",\"x0\":0.0,\"x1\":null,\"y0\":0.0,\"y1\":null},{\"line\":{\"color\":\"rgba(255,255,255,0)\",\"width\":3},\"type\":\"line\",\"x0\":0.0,\"x1\":null,\"y0\":0.0,\"y1\":null},{\"line\":{\"color\":\"rgba(255,255,255,0)\",\"width\":3},\"type\":\"line\",\"x0\":0.0,\"x1\":null,\"y0\":0.0,\"y1\":null},{\"line\":{\"color\":\"rgba(255,255,255,0)\",\"width\":3},\"type\":\"line\",\"x0\":0.0,\"x1\":null,\"y0\":0.0,\"y1\":null},{\"line\":{\"color\":\"rgba(255,255,255,0)\",\"width\":3},\"type\":\"line\",\"x0\":0.0,\"x1\":null,\"y0\":0.0,\"y1\":null},{\"line\":{\"color\":\"rgba(255,255,255,0)\",\"width\":3},\"type\":\"line\",\"x0\":0.0,\"x1\":null,\"y0\":0.0,\"y1\":null}],\"title\":{\"text\":\"\\u003cb\\u003ePercentage using the shortest path: 0%  |  Number of Agents: 4\\u003c\\u002fb\\u003e\",\"x\":0.5}},\"name\":\"750\"},{\"data\":[{\"hoverinfo\":\"name\",\"line\":{\"color\":\"white\"},\"mode\":\"lines\",\"name\":\"Exterior\",\"showlegend\":false,\"x\":[10.1,10.1,15.0,15.0,13.6,13.6,15.0,15.0,13.6,13.6,15.0,15.0,10.1,10.1,9.9,9.9,5.1,5.1,4.9,4.9,0.0,0.0,1.5,1.5,0.0,0.0,1.5,1.5,0.0,0.0,4.9,4.9,5.1,5.1,9.9,9.9,10.1],\"y\":[1.5,0.0,0.0,4.9,4.9,5.1,5.1,9.9,9.9,10.1,10.1,15.0,15.0,13.6,13.6,15.0,15.0,13.6,13.6,15.0,15.0,10.1,10.1,9.9,9.9,5.1,5.1,4.9,4.9,0.0,0.0,1.5,1.5,0.0,0.0,1.5,1.5],\"type\":\"scatter\"},{\"hoverinfo\":\"name\",\"line\":{\"color\":\"white\"},\"mode\":\"lines\",\"name\":\"Obstacle\",\"showlegend\":false,\"x\":[10.1,11.5,11.5,10.1,10.1,9.9,9.9,8.6,8.6,9.9,9.9,10.1,10.1],\"y\":[5.1,5.1,4.9,4.9,3.6,3.6,4.9,4.9,5.1,5.1,6.5,6.5,5.1],\"type\":\"scatter\"},{\"hoverinfo\":\"name\",\"line\":{\"color\":\"white\"},\"mode\":\"lines\",\"name\":\"Obstacle\",\"showlegend\":false,\"x\":[10.1,11.5,11.5,10.1,10.1,9.9,9.9,8.6,8.6,9.9,9.9,10.1,10.1],\"y\":[10.1,10.1,9.9,9.9,8.6,8.6,9.9,9.9,10.1,10.1,11.5,11.5,10.1],\"type\":\"scatter\"},{\"hoverinfo\":\"name\",\"line\":{\"color\":\"white\"},\"mode\":\"lines\",\"name\":\"Obstacle\",\"showlegend\":false,\"x\":[5.1,6.4,6.4,5.1,5.1,4.9,4.9,3.6,3.6,4.9,4.9,5.1,5.1],\"y\":[5.1,5.1,4.9,4.9,3.6,3.6,4.9,4.9,5.1,5.1,6.5,6.5,5.1],\"type\":\"scatter\"},{\"hoverinfo\":\"name\",\"line\":{\"color\":\"white\"},\"mode\":\"lines\",\"name\":\"Obstacle\",\"showlegend\":false,\"x\":[5.1,6.4,6.4,5.1,5.1,4.9,4.9,3.6,3.6,4.9,4.9,5.1,5.1],\"y\":[10.1,10.1,9.9,9.9,8.6,8.6,9.9,9.9,10.1,10.1,11.5,11.5,10.1],\"type\":\"scatter\"},{\"fill\":\"toself\",\"fillcolor\":\"rgb(76, 0, 0)\",\"hoverinfo\":\"name\",\"line\":{\"width\":0},\"mode\":\"lines\",\"name\":\"Risk Area\",\"showlegend\":false,\"x\":[1.5,1.5,3.6,3.6,4.9,4.9,5.0,5.0,4.9,4.9,0.0,0.0,1.5],\"y\":[4.9,5.0,5.0,4.9,4.9,3.6,3.6,1.5,1.5,0.0,0.0,4.9,4.9],\"type\":\"scatter\"},{\"fill\":\"toself\",\"fillcolor\":\"rgb(153, 0, 0)\",\"hoverinfo\":\"name\",\"line\":{\"width\":0},\"mode\":\"lines\",\"name\":\"Risk Area\",\"showlegend\":false,\"x\":[9.9,9.9,5.1,5.1,5.0,5.0,5.1,5.1,6.4,6.4,8.6,8.6,9.9,9.9,10.0,10.0,9.9],\"y\":[1.5,0.0,0.0,1.5,1.5,3.6,3.6,4.9,4.9,5.0,5.0,4.9,4.9,3.6,3.6,1.5,1.5],\"type\":\"scatter\"},{\"fill\":\"toself\",\"fillcolor\":\"rgb(0, 0, 0)\",\"hoverinfo\":\"name\",\"line\":{\"width\":0},\"mode\":\"lines\",\"name\":\"Risk Area\",\"showlegend\":false,\"x\":[13.6,15.0,15.0,10.1,10.1,10.0,10.0,10.1,10.1,11.5,11.5,13.6,13.6],\"y\":[4.9,4.9,0.0,0.0,1.5,1.5,3.6,3.6,4.9,4.9,5.0,5.0,4.9],\"type\":\"scatter\"},{\"fill\":\"toself\",\"fillcolor\":\"rgb(153, 0, 0)\",\"hoverinfo\":\"name\",\"line\":{\"width\":0},\"mode\":\"lines\",\"name\":\"Risk Area\",\"showlegend\":false,\"x\":[13.6,15.0,15.0,13.6,13.6,11.5,11.5,10.1,10.1,10.0,10.0,10.1,10.1,11.5,11.5,13.6,13.6],\"y\":[9.9,9.9,5.1,5.1,5.0,5.0,5.1,5.1,6.5,6.5,8.6,8.6,9.9,9.9,10.0,10.0,9.9],\"type\":\"scatter\"},{\"fill\":\"toself\",\"fillcolor\":\"rgb(204, 0, 0)\",\"hoverinfo\":\"name\",\"line\":{\"width\":0},\"mode\":\"lines\",\"name\":\"Risk Area\",\"showlegend\":false,\"x\":[9.9,9.9,8.6,8.6,6.4,6.4,5.1,5.1,5.0,5.0,5.1,5.1,6.4,6.4,8.6,8.6,9.9,9.9,10.0,10.0,9.9],\"y\":[6.5,5.1,5.1,5.0,5.0,5.1,5.1,6.5,6.5,8.6,8.6,9.9,9.9,10.0,10.0,9.9,9.9,8.6,8.6,6.5,6.5],\"type\":\"scatter\"},{\"fill\":\"toself\",\"fillcolor\":\"rgb(51, 0, 0)\",\"hoverinfo\":\"name\",\"line\":{\"width\":0},\"mode\":\"lines\",\"name\":\"Risk Area\",\"showlegend\":false,\"x\":[4.9,4.9,3.6,3.6,1.5,1.5,0.0,0.0,1.5,1.5,3.6,3.6,4.9,4.9,5.0,5.0,4.9],\"y\":[6.5,5.1,5.1,5.0,5.0,5.1,5.1,9.9,9.9,10.0,10.0,9.9,9.9,8.6,8.6,6.5,6.5],\"type\":\"scatter\"},{\"fill\":\"toself\",\"fillcolor\":\"rgb(51, 0, 0)\",\"hoverinfo\":\"name\",\"line\":{\"width\":0},\"mode\":\"lines\",\"name\":\"Risk Area\",\"showlegend\":false,\"x\":[1.5,0.0,0.0,4.9,4.9,5.0,5.0,4.9,4.9,3.6,3.6,1.5,1.5],\"y\":[10.1,10.1,15.0,15.0,13.6,13.6,11.5,11.5,10.1,10.1,10.0,10.0,10.1],\"type\":\"scatter\"},{\"fill\":\"toself\",\"fillcolor\":\"rgb(153, 0, 0)\",\"hoverinfo\":\"name\",\"line\":{\"width\":0},\"mode\":\"lines\",\"name\":\"Risk Area\",\"showlegend\":false,\"x\":[6.4,5.1,5.1,5.0,5.0,5.1,5.1,9.9,9.9,10.0,10.0,9.9,9.9,8.6,8.6,6.4,6.4],\"y\":[10.1,10.1,11.5,11.5,13.6,13.6,15.0,15.0,13.6,13.6,11.5,11.5,10.1,10.1,10.0,10.0,10.1],\"type\":\"scatter\"},{\"fill\":\"toself\",\"fillcolor\":\"rgb(51, 0, 0)\",\"hoverinfo\":\"name\",\"line\":{\"width\":0},\"mode\":\"lines\",\"name\":\"Risk Area\",\"showlegend\":false,\"x\":[10.1,10.1,15.0,15.0,13.6,13.6,11.5,11.5,10.1,10.1,10.0,10.0,10.1],\"y\":[13.6,15.0,15.0,10.1,10.1,10.0,10.0,10.1,10.1,11.5,11.5,13.6,13.6],\"type\":\"scatter\"},{\"hoverinfo\":\"text\",\"marker\":{\"opacity\":1,\"size\":1},\"mode\":\"markers\",\"showlegend\":false,\"text\":[\"ID: 13.0, Pos(11.35,13.26)\"],\"x\":[11.353337202548772],\"y\":[13.261804158324273],\"type\":\"scatter\"},{\"hoverinfo\":\"none\",\"marker\":{\"opacity\":0,\"size\":1},\"mode\":\"markers\",\"showlegend\":false,\"x\":[0.0],\"y\":[0.0],\"type\":\"scatter\"},{\"hoverinfo\":\"none\",\"marker\":{\"opacity\":0,\"size\":1},\"mode\":\"markers\",\"showlegend\":false,\"x\":[0.0],\"y\":[0.0],\"type\":\"scatter\"},{\"hoverinfo\":\"none\",\"marker\":{\"opacity\":0,\"size\":1},\"mode\":\"markers\",\"showlegend\":false,\"x\":[0.0],\"y\":[0.0],\"type\":\"scatter\"},{\"hoverinfo\":\"none\",\"marker\":{\"opacity\":0,\"size\":1},\"mode\":\"markers\",\"showlegend\":false,\"x\":[0.0],\"y\":[0.0],\"type\":\"scatter\"},{\"hoverinfo\":\"none\",\"marker\":{\"opacity\":0,\"size\":1},\"mode\":\"markers\",\"showlegend\":false,\"x\":[0.0],\"y\":[0.0],\"type\":\"scatter\"},{\"hoverinfo\":\"none\",\"marker\":{\"opacity\":0,\"size\":1},\"mode\":\"markers\",\"showlegend\":false,\"x\":[0.0],\"y\":[0.0],\"type\":\"scatter\"},{\"hoverinfo\":\"none\",\"marker\":{\"opacity\":0,\"size\":1},\"mode\":\"markers\",\"showlegend\":false,\"x\":[0.0],\"y\":[0.0],\"type\":\"scatter\"},{\"hoverinfo\":\"none\",\"marker\":{\"opacity\":0,\"size\":1},\"mode\":\"markers\",\"showlegend\":false,\"x\":[0.0],\"y\":[0.0],\"type\":\"scatter\"},{\"hoverinfo\":\"none\",\"marker\":{\"opacity\":0,\"size\":1},\"mode\":\"markers\",\"showlegend\":false,\"x\":[0.0],\"y\":[0.0],\"type\":\"scatter\"}],\"layout\":{\"shapes\":[{\"fillcolor\":\"rgba(0, 0, 128, 0.5)\",\"line\":{\"color\":\"rgba(0, 0, 128, 0.5)\"},\"type\":\"circle\",\"x0\":11.153337202548773,\"x1\":11.553337202548772,\"xref\":\"x\",\"y0\":13.061804158324273,\"y1\":13.461804158324272,\"yref\":\"y\"},{\"fillcolor\":\"rgba(255,255,255,0)\",\"line\":{\"width\":0},\"type\":\"circle\",\"x0\":0.0,\"x1\":0.0,\"xref\":\"x\",\"y0\":0.0,\"y1\":0.0,\"yref\":\"y\"},{\"fillcolor\":\"rgba(255,255,255,0)\",\"line\":{\"width\":0},\"type\":\"circle\",\"x0\":0.0,\"x1\":0.0,\"xref\":\"x\",\"y0\":0.0,\"y1\":0.0,\"yref\":\"y\"},{\"fillcolor\":\"rgba(255,255,255,0)\",\"line\":{\"width\":0},\"type\":\"circle\",\"x0\":0.0,\"x1\":0.0,\"xref\":\"x\",\"y0\":0.0,\"y1\":0.0,\"yref\":\"y\"},{\"fillcolor\":\"rgba(255,255,255,0)\",\"line\":{\"width\":0},\"type\":\"circle\",\"x0\":0.0,\"x1\":0.0,\"xref\":\"x\",\"y0\":0.0,\"y1\":0.0,\"yref\":\"y\"},{\"fillcolor\":\"rgba(255,255,255,0)\",\"line\":{\"width\":0},\"type\":\"circle\",\"x0\":0.0,\"x1\":0.0,\"xref\":\"x\",\"y0\":0.0,\"y1\":0.0,\"yref\":\"y\"},{\"fillcolor\":\"rgba(255,255,255,0)\",\"line\":{\"width\":0},\"type\":\"circle\",\"x0\":0.0,\"x1\":0.0,\"xref\":\"x\",\"y0\":0.0,\"y1\":0.0,\"yref\":\"y\"},{\"fillcolor\":\"rgba(255,255,255,0)\",\"line\":{\"width\":0},\"type\":\"circle\",\"x0\":0.0,\"x1\":0.0,\"xref\":\"x\",\"y0\":0.0,\"y1\":0.0,\"yref\":\"y\"},{\"fillcolor\":\"rgba(255,255,255,0)\",\"line\":{\"width\":0},\"type\":\"circle\",\"x0\":0.0,\"x1\":0.0,\"xref\":\"x\",\"y0\":0.0,\"y1\":0.0,\"yref\":\"y\"},{\"fillcolor\":\"rgba(255,255,255,0)\",\"line\":{\"width\":0},\"type\":\"circle\",\"x0\":0.0,\"x1\":0.0,\"xref\":\"x\",\"y0\":0.0,\"y1\":0.0,\"yref\":\"y\"},{\"line\":{\"color\":\"white\",\"width\":3},\"type\":\"line\",\"x0\":11.353337202548772,\"x1\":11.549312724206034,\"y0\":13.261804158324273,\"y1\":13.301724014425764},{\"line\":{\"color\":\"rgba(255,255,255,0)\",\"width\":3},\"type\":\"line\",\"x0\":0.0,\"x1\":null,\"y0\":0.0,\"y1\":null},{\"line\":{\"color\":\"rgba(255,255,255,0)\",\"width\":3},\"type\":\"line\",\"x0\":0.0,\"x1\":null,\"y0\":0.0,\"y1\":null},{\"line\":{\"color\":\"rgba(255,255,255,0)\",\"width\":3},\"type\":\"line\",\"x0\":0.0,\"x1\":null,\"y0\":0.0,\"y1\":null},{\"line\":{\"color\":\"rgba(255,255,255,0)\",\"width\":3},\"type\":\"line\",\"x0\":0.0,\"x1\":null,\"y0\":0.0,\"y1\":null},{\"line\":{\"color\":\"rgba(255,255,255,0)\",\"width\":3},\"type\":\"line\",\"x0\":0.0,\"x1\":null,\"y0\":0.0,\"y1\":null},{\"line\":{\"color\":\"rgba(255,255,255,0)\",\"width\":3},\"type\":\"line\",\"x0\":0.0,\"x1\":null,\"y0\":0.0,\"y1\":null},{\"line\":{\"color\":\"rgba(255,255,255,0)\",\"width\":3},\"type\":\"line\",\"x0\":0.0,\"x1\":null,\"y0\":0.0,\"y1\":null},{\"line\":{\"color\":\"rgba(255,255,255,0)\",\"width\":3},\"type\":\"line\",\"x0\":0.0,\"x1\":null,\"y0\":0.0,\"y1\":null},{\"line\":{\"color\":\"rgba(255,255,255,0)\",\"width\":3},\"type\":\"line\",\"x0\":0.0,\"x1\":null,\"y0\":0.0,\"y1\":null}],\"title\":{\"text\":\"\\u003cb\\u003ePercentage using the shortest path: 0%  |  Number of Agents: 1\\u003c\\u002fb\\u003e\",\"x\":0.5}},\"name\":\"800\"}]);\n                        }).then(function(){\n                            \nvar gd = document.getElementById('ee459983-22a1-4b29-bfbc-ea08e5e51f42');\nvar x = new MutationObserver(function (mutations, observer) {{\n        var display = window.getComputedStyle(gd).display;\n        if (!display || display === 'none') {{\n            console.log([gd, 'removed!']);\n            Plotly.purge(gd);\n            observer.disconnect();\n        }}\n}});\n\n// Listen for the removal of the full notebook cells\nvar notebookContainer = gd.closest('#notebook-container');\nif (notebookContainer) {{\n    x.observe(notebookContainer, {childList: true});\n}}\n\n// Listen for the clearing of the current output cell\nvar outputEl = gd.closest('.output');\nif (outputEl) {{\n    x.observe(outputEl, {childList: true});\n}}\n\n                        })                };                });            </script>        </div>"
     },
     "metadata": {},
     "output_type": "display_data"
    }
   ],
   "source": [
    "agent_trajectories = {}\n",
    "for percentage in percentages:\n",
    "    trajectory_file = trajectory_files[percentage]\n",
    "    agent_trajectories[percentage], walkable_area = read_sqlite_file(\n",
    "        trajectory_file\n",
    "    )\n",
    "    animate(\n",
    "        agent_trajectories[percentage],\n",
    "        walkable_area,\n",
    "        title_note=f\"Percentage using the shortest path: {percentage}%\",\n",
    "        risk_per_frame=all_risks,\n",
    "        specific_areas=specific_areas\n",
    "    ).show()"
   ],
   "metadata": {
    "collapsed": false
   }
  },
  {
   "cell_type": "code",
   "execution_count": null,
   "outputs": [],
   "source": [],
   "metadata": {
    "collapsed": false
   }
  }
 ],
 "metadata": {
  "kernelspec": {
   "display_name": "Python 3",
   "language": "python",
   "name": "python3"
  },
  "language_info": {
   "codemirror_mode": {
    "name": "ipython",
    "version": 2
   },
   "file_extension": ".py",
   "mimetype": "text/x-python",
   "name": "python",
   "nbconvert_exporter": "python",
   "pygments_lexer": "ipython2",
   "version": "2.7.6"
  }
 },
 "nbformat": 4,
 "nbformat_minor": 0
}
