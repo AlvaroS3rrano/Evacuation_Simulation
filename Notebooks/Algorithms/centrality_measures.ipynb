{
 "cells": [
  {
   "cell_type": "markdown",
   "source": [
    "# Centrality Measures"
   ],
   "metadata": {
    "collapsed": false
   }
  },
  {
   "cell_type": "code",
   "execution_count": 3,
   "outputs": [
    {
     "ename": "ModuleNotFoundError",
     "evalue": "No module named 'DangerSimulation'",
     "output_type": "error",
     "traceback": [
      "\u001B[1;31m---------------------------------------------------------------------------\u001B[0m",
      "\u001B[1;31mModuleNotFoundError\u001B[0m                       Traceback (most recent call last)",
      "Cell \u001B[1;32mIn[3], line 15\u001B[0m\n\u001B[0;32m     12\u001B[0m \u001B[38;5;28;01mimport\u001B[39;00m \u001B[38;5;21;01mplotly\u001B[39;00m\u001B[38;5;21;01m.\u001B[39;00m\u001B[38;5;21;01mgraph_objects\u001B[39;00m \u001B[38;5;28;01mas\u001B[39;00m \u001B[38;5;21;01mgo\u001B[39;00m\n\u001B[0;32m     13\u001B[0m \u001B[38;5;28;01mfrom\u001B[39;00m \u001B[38;5;21;01mPy\u001B[39;00m\u001B[38;5;21;01m.\u001B[39;00m\u001B[38;5;21;01mcentralityMeasures\u001B[39;00m \u001B[38;5;28;01mimport\u001B[39;00m centralityMeasuresAlgorithm\n\u001B[1;32m---> 15\u001B[0m \u001B[38;5;28;01mfrom\u001B[39;00m \u001B[38;5;21;01mPy\u001B[39;00m\u001B[38;5;21;01m.\u001B[39;00m\u001B[38;5;21;01manimation\u001B[39;00m \u001B[38;5;28;01mimport\u001B[39;00m animate\n\u001B[0;32m     16\u001B[0m \u001B[38;5;28;01mfrom\u001B[39;00m \u001B[38;5;21;01mPy\u001B[39;00m\u001B[38;5;21;01m.\u001B[39;00m\u001B[38;5;21;01mDangerSimulation\u001B[39;00m \u001B[38;5;28;01mimport\u001B[39;00m \u001B[38;5;241m*\u001B[39m\n\u001B[0;32m     18\u001B[0m get_ipython()\u001B[38;5;241m.\u001B[39mrun_line_magic(\u001B[38;5;124m'\u001B[39m\u001B[38;5;124mload_ext\u001B[39m\u001B[38;5;124m'\u001B[39m, \u001B[38;5;124m'\u001B[39m\u001B[38;5;124mautoreload\u001B[39m\u001B[38;5;124m'\u001B[39m)\n",
      "File \u001B[1;32m~\\Documentos\\UNI\\TFG\\TFG_Marin_Giuseppe\\Evacuation_Simulation\\Py\\animation.py:18\u001B[0m\n\u001B[0;32m     16\u001B[0m \u001B[38;5;28;01mimport\u001B[39;00m \u001B[38;5;21;01mpedpy\u001B[39;00m\n\u001B[0;32m     17\u001B[0m \u001B[38;5;28;01mimport\u001B[39;00m \u001B[38;5;21;01mplotly\u001B[39;00m\u001B[38;5;21;01m.\u001B[39;00m\u001B[38;5;21;01mgraph_objects\u001B[39;00m \u001B[38;5;28;01mas\u001B[39;00m \u001B[38;5;21;01mgo\u001B[39;00m\n\u001B[1;32m---> 18\u001B[0m \u001B[38;5;28;01mfrom\u001B[39;00m \u001B[38;5;21;01mDangerSimulation\u001B[39;00m \u001B[38;5;28;01mimport\u001B[39;00m get_risk_levels_by_frame\n\u001B[0;32m     19\u001B[0m \u001B[38;5;28;01mimport\u001B[39;00m \u001B[38;5;21;01mos\u001B[39;00m\n\u001B[0;32m     21\u001B[0m DUMMY_SPEED \u001B[38;5;241m=\u001B[39m \u001B[38;5;241m-\u001B[39m\u001B[38;5;241m1000\u001B[39m\n",
      "\u001B[1;31mModuleNotFoundError\u001B[0m: No module named 'DangerSimulation'"
     ]
    }
   ],
   "source": [
    "import pathlib\n",
    "\n",
    "import jupedsim as jps\n",
    "import matplotlib.pyplot as plt\n",
    "import pedpy\n",
    "import shapely\n",
    "from matplotlib.patches import Circle\n",
    "from shapely import Polygon\n",
    "import networkx as nx\n",
    "from jupedsim.internal.notebook_utils import animate, read_sqlite_file\n",
    "%matplotlib inline\n",
    "import plotly.graph_objects as go\n",
    "from Py.centralityMeasures import centralityMeasuresAlgorithm\n",
    "\n",
    "from Py.animation import animate\n",
    "from Py.DangerSimulation import *\n",
    "\n",
    "%load_ext autoreload\n",
    "%autoreload 2"
   ],
   "metadata": {
    "collapsed": false
   }
  },
  {
   "cell_type": "code",
   "execution_count": null,
   "outputs": [],
   "source": [
    "complete_area = Polygon(\n",
    "    [\n",
    "        (0, 0),\n",
    "        (0, 15),\n",
    "        (15, 15),\n",
    "        (15, 0),\n",
    "    ]\n",
    ")\n",
    "obstacles = [\n",
    "    #bottom\n",
    "    Polygon([(4.9, 0.0), (4.9, 1.5), (5.1, 1.5),(5.1, 0.0)]),\n",
    "    Polygon([(9.9, 0.0), (9.9, 1.5), (10.1, 1.5),(10.1, 0.0)]),\n",
    "    #right\n",
    "    Polygon([(13.6, 4.9), (15, 4.9), (15, 5.1),(13.6, 5.1)]),\n",
    "    Polygon([(13.6, 9.9), (15, 9.9), (15, 10.1),(13.6, 10.1)]),\n",
    "    #top\n",
    "    Polygon([(4.9, 15), (4.9, 13.6), (5.1, 13.6),(5.1, 15)]),\n",
    "    Polygon([(9.9, 15), (9.9, 13.6), (10.1, 13.6),(10.1, 15)]),\n",
    "    #left\n",
    "    Polygon([(1.5, 4.9), (0, 4.9), (0, 5.1),(1.5, 5.1)]),\n",
    "    Polygon([(1.5, 9.9), (0, 9.9), (0, 10.1),(1.5, 10.1)]),\n",
    "    #center\n",
    "    ## bottom left\n",
    "    Polygon([(3.6, 4.9), (4.9, 4.9), (4.9, 3.6), (5.1, 3.6), (5.1, 4.9), (6.4, 4.9), (6.4, 5.1), (5.1, 5.1), (5.1, 6.5), (4.9, 6.5), (4.9, 5.1), (3.6, 5.1)  ]),\n",
    "    ## bottom right\n",
    "    Polygon([(8.6, 4.9), (9.9, 4.9), (9.9, 3.6), (10.1, 3.6), (10.1, 4.9), (11.5, 4.9), (11.5, 5.1), (10.1, 5.1), (10.1, 6.5), (9.9, 6.5), (9.9, 5.1), (8.6, 5.1)  ]),\n",
    "    ## top left\n",
    "    Polygon([(3.6, 9.9), (4.9, 9.9), (4.9, 8.6), (5.1, 8.6), (5.1, 9.9), (6.4, 9.9), (6.4, 10.1), (5.1, 10.1), (5.1, 11.5), (4.9, 11.5), (4.9, 10.1), (3.6, 10.1)  ]),\n",
    "    ## top right\n",
    "    Polygon([(8.6, 9.9), (9.9, 9.9), (9.9, 8.6), (10.1, 8.6), (10.1, 9.9), (11.5, 9.9), (11.5, 10.1), (10.1, 10.1), (10.1, 11.5), (9.9, 11.5), (9.9, 10.1), (8.6, 10.1)  ]),\n",
    "\n",
    "]\n",
    "\n",
    "exit_polygon = [(12.5, 12.5), (15, 12.5), (15, 15), (12.5, 15)]\n",
    "waypoints = {'B':([7.5, 2.5], 1.5), 'C':([12.5, 2.5], 1.5), 'D':([12.5, 7.5], 1.5), 'E':([7.5, 7.5], 1.5), 'F':([2.5, 7.5], 1.5), 'G':([2.5, 12.5], 1.5), 'H':([7.5, 12.5], 1.5)}\n",
    "distribution_polygon = Polygon([[0, 0], [5, 0], [5, 5], [0, 5]])\n",
    "obstacle = shapely.union_all(obstacles)  # combines obstacle polygons into only one polygon\n",
    "walkable_area = pedpy.WalkableArea(\n",
    "    shapely.difference(complete_area, obstacle))  # difference subtracts obstacle form complete_area\n",
    "fig, ax = plt.subplots(nrows=1, ncols=1)\n",
    "ax.set_aspect(\"equal\")\n",
    "pedpy.plot_walkable_area(walkable_area=walkable_area, axes=ax)\n",
    "\n",
    "for idx, (waypoint, distance) in waypoints.items():\n",
    "    ax.plot(waypoint[0], waypoint[1], \"ro\")\n",
    "    ax.annotate(\n",
    "        f\"{idx}\",\n",
    "        (waypoint[0], waypoint[1]),\n",
    "        textcoords=\"offset points\",\n",
    "        xytext=(10, -15),\n",
    "        ha=\"center\",\n",
    "    )\n",
    "    circle = Circle(\n",
    "        (waypoint[0], waypoint[1]), distance, fc=\"red\", ec=\"red\", alpha=0.1\n",
    "    )\n",
    "    ax.add_patch(circle)\n",
    "\n",
    "x, y = Polygon(exit_polygon).exterior.xy\n",
    "plt.fill(x, y, alpha=0.1, color=\"orange\")\n",
    "centroid = Polygon(exit_polygon).centroid\n",
    "plt.text(centroid.x, centroid.y, \"Exit\", ha=\"center\", va=\"center\", fontsize=8)\n",
    "\n",
    "x, y = distribution_polygon.exterior.xy\n",
    "plt.fill(x, y, alpha=0.1, color=\"blue\")\n",
    "centroid = distribution_polygon.centroid\n",
    "plt.text(centroid.x, centroid.y, \"Start\", ha=\"center\", va=\"center\", fontsize=10)"
   ],
   "metadata": {
    "collapsed": false
   }
  },
  {
   "cell_type": "code",
   "execution_count": null,
   "outputs": [],
   "source": [
    "specific_areas = dict()\n",
    "specific_areas['A'] = Polygon([(0,0), (5,0), (5,5), (0,5)])\n",
    "specific_areas['B'] = Polygon([(5,0), (10,0), (10,5), (5,5)])\n",
    "specific_areas['C'] = Polygon([(10,0), (15,0), (15,5), (10,5)])\n",
    "specific_areas['D'] = Polygon([(10,5), (15,5), (15,10), (10,10)])\n",
    "specific_areas['E'] = Polygon([(5,5), (10,5), (10,10), (5,10)])\n",
    "specific_areas['F'] = Polygon([(0,5), (5,5), (5,10), (0,10)])\n",
    "specific_areas['G'] = Polygon([(0,10), (5,10), (5,15), (0,15)])\n",
    "specific_areas['H'] = Polygon([(5,10), (10,10), (10,15), (5,15)])\n",
    "specific_areas['I'] = Polygon([(10,10), (15,10), (15,15), (10,15)])"
   ],
   "metadata": {
    "collapsed": false
   }
  },
  {
   "cell_type": "markdown",
   "source": [
    "## Configuration of Simulation Scenarios"
   ],
   "metadata": {
    "collapsed": false
   }
  },
  {
   "cell_type": "code",
   "execution_count": null,
   "outputs": [],
   "source": [
    "simulations = {}\n",
    "percentages = [0]\n",
    "total_agents = 10\n",
    "for percentage in percentages:\n",
    "    trajectory_file = f\"../../sqlite_data/centrality_measures_percentage_{percentage}.sqlite\"\n",
    "    simulation = jps.Simulation(\n",
    "        dt=0.005,\n",
    "        model=jps.CollisionFreeSpeedModel(\n",
    "            strength_neighbor_repulsion=2.6,\n",
    "            range_neighbor_repulsion=0.1,\n",
    "            range_geometry_repulsion=0.05,\n",
    "        ),\n",
    "        geometry=walkable_area.polygon,\n",
    "        trajectory_writer=jps.SqliteTrajectoryWriter(\n",
    "            output_file=pathlib.Path(trajectory_file),\n",
    "        ),\n",
    "    )\n",
    "    simulations[percentage] = simulation"
   ],
   "metadata": {
    "collapsed": false
   }
  },
  {
   "cell_type": "markdown",
   "source": [
    "## Choosing the path\n"
   ],
   "metadata": {
    "collapsed": false
   }
  },
  {
   "cell_type": "code",
   "execution_count": null,
   "outputs": [],
   "source": [
    "# Create the graph\n",
    "G = nx.DiGraph()\n",
    "\n",
    "# Nodos y sus niveles iniciales de riesgo (0 a 1)\n",
    "nodes = {\n",
    "    \"A\": 1.0, \"B\": 0.9, \"C\": 1.0,\n",
    "    \"D\": 0.4, \"E\": 1.0, \"F\": 0.5,\n",
    "    \"G\": 1.0, \"H\": 1.0, \"I\": 1.0,\n",
    "}\n",
    "\n",
    "# Agregar nodos al grafo\n",
    "for node, risk in nodes.items():\n",
    "    G.add_node(node, risk=risk)\n",
    "\n",
    "# Definir las conexiones entre nodos\n",
    "edges = [\n",
    "    (\"A\", \"B\"), (\"A\", \"F\"), (\"B\", \"A\"), (\"B\", \"E\"), (\"B\", \"C\"),\n",
    "    (\"C\", \"B\"), (\"C\", \"D\"), (\"D\", \"I\"), (\"D\", \"E\"), (\"D\", \"C\"),\n",
    "    (\"E\", \"D\"), (\"E\", \"F\"), (\"E\", \"B\"), (\"E\", \"H\"), (\"F\", \"A\"),\n",
    "    (\"F\", \"E\"), (\"F\", \"G\"), (\"G\", \"F\"), (\"G\", \"H\"), (\"H\", \"E\"),\n",
    "    (\"H\", \"G\"), (\"H\", \"I\"),\n",
    "]\n",
    "\n",
    "# Agregar las aristas con un costo fijo (se puede ajustar)\n",
    "G.add_edges_from([(u, v, {\"cost\": 3}) for u, v in edges])\n",
    "\n",
    "# Parameters for calculation\n",
    "sources = [\"A\"]  # Source nodes\n",
    "targets = [\"I\"]  # Target nodes\n",
    "\n",
    "# Calculate all efficient paths between source-target pairs\n",
    "gamma = 1.2  # Time tolerance factor\n",
    "\n",
    "_, _, possible_paths = centralityMeasuresAlgorithm(G, sources, targets, gamma)"
   ],
   "metadata": {
    "collapsed": false
   }
  },
  {
   "cell_type": "markdown",
   "source": [
    "## Outlining Agent Journeys"
   ],
   "metadata": {
    "collapsed": false
   }
  },
  {
   "cell_type": "code",
   "execution_count": null,
   "outputs": [],
   "source": [
    "def differentGraphs(start, end, paths, waypoint_ids, exit_id):\n",
    "    \"\"\"\n",
    "    Creates journey descriptions for agents based on paths ordered by centrality scores.\n",
    "\n",
    "    Args:\n",
    "        start (str): Starting node in the graph.\n",
    "        end (str): Ending node in the graph.\n",
    "        paths (dict): Dictionary of paths ordered by centrality scores.\n",
    "                      Structure: {source: [(path1, score1), (path2, score2), ...], ...}\n",
    "        waypoint_ids (dict): Dictionary mapping node IDs to waypoint IDs in the simulation.\n",
    "        exit_id (int): ID of the exit stage in the simulation.\n",
    "\n",
    "    Returns:\n",
    "        list[jps.JourneyDescription]: List of journey descriptions for the agents.\n",
    "    \"\"\"\n",
    "    if not paths:\n",
    "        raise ValueError(f\"No valid paths found from {start} to {end}.\")\n",
    "\n",
    "    journeys = []\n",
    "    for source, path_list in paths.items():\n",
    "        for path, score in path_list:  # Unpack path and its centrality score\n",
    "            if len(path) < 2:\n",
    "                continue\n",
    "\n",
    "            # Map graph nodes in the path to waypoint IDs, excluding start and end nodes\n",
    "            needed_waypoints = [waypoint_ids[node] for node in path[1:-1]]\n",
    "            if not needed_waypoints:\n",
    "                continue\n",
    "\n",
    "            # Create the journey description\n",
    "            journey = jps.JourneyDescription([*needed_waypoints, exit_id])\n",
    "\n",
    "            # Set transitions between waypoints\n",
    "            for idx, waypoint in enumerate(needed_waypoints):\n",
    "                next_waypoint = exit_id if idx == len(needed_waypoints) - 1 else needed_waypoints[idx + 1]\n",
    "                journey.set_transition_for_stage(\n",
    "                    waypoint, jps.Transition.create_fixed_transition(next_waypoint)\n",
    "                )\n",
    "\n",
    "            journeys.append((journey, path))\n",
    "\n",
    "    return journeys"
   ],
   "metadata": {
    "collapsed": false
   }
  },
  {
   "cell_type": "code",
   "execution_count": null,
   "outputs": [],
   "source": [
    "def set_journeys(simulation, start, end, paths):\n",
    "    \"\"\"\n",
    "    Configures agent journeys in the simulation.\n",
    "\n",
    "    Args:\n",
    "        simulation (jps.Simulation): The simulation instance.\n",
    "        start (str): Starting node in the graph.\n",
    "        end (str): Ending node in the graph.\n",
    "\n",
    "    Returns:\n",
    "        tuple: Journeys IDs and the dictionary of waypoint IDs.\n",
    "    \"\"\"\n",
    "    # Add the exit stage to the simulation\n",
    "    exit_id = simulation.add_exit_stage(exit_polygon)\n",
    "\n",
    "    # Map nodes to waypoint IDs\n",
    "    waypoint_ids = {}\n",
    "    for node, (waypoint, distance) in waypoints.items():\n",
    "        waypoint_ids[node] = simulation.add_waypoint_stage(waypoint, distance)\n",
    "\n",
    "    # Create the journey based on the best paths\n",
    "    journeys = differentGraphs(start, end, paths, waypoint_ids, exit_id)\n",
    "\n",
    "    journeys_id = dict()  # Initialize an empty dictionary to store journey IDs and their associated paths\n",
    "\n",
    "    # Iterate over the journeys and their respective paths\n",
    "    for journey, path in journeys:\n",
    "        # Add each journey to the simulation and retrieve its unique ID\n",
    "        journey_id = simulation.add_journey(journey)\n",
    "\n",
    "        # Ensure the starting node is initialized in the dictionary\n",
    "        if start not in journeys_id:\n",
    "            journeys_id[start] = []\n",
    "\n",
    "        # Store the journey ID and the path in journeys_id for the starting node (start)\n",
    "        journeys_id[start].append((journey_id, path))\n",
    "\n",
    "    return journeys_id, waypoint_ids"
   ],
   "metadata": {
    "collapsed": false
   }
  },
  {
   "cell_type": "markdown",
   "source": [
    "## Allocate Agents"
   ],
   "metadata": {
    "collapsed": false
   }
  },
  {
   "cell_type": "code",
   "execution_count": null,
   "outputs": [],
   "source": [
    "positions = jps.distribute_by_number(\n",
    "    polygon=distribution_polygon,\n",
    "    number_of_agents=total_agents,\n",
    "    distance_to_agents=0.4,\n",
    "    distance_to_polygon=0.7,\n",
    "    seed=45131502,\n",
    ")"
   ],
   "metadata": {
    "collapsed": false
   }
  },
  {
   "cell_type": "markdown",
   "source": [
    "## Launching the Simulation"
   ],
   "metadata": {
    "collapsed": false
   }
  },
  {
   "cell_type": "code",
   "execution_count": null,
   "outputs": [],
   "source": [
    "def simulate_risk_per_frame(\n",
    "    G: nx.DiGraph,\n",
    "    total_frames: int,\n",
    "    propagation_chance=0.3,\n",
    "    increase_chance=0.2,\n",
    "):\n",
    "    \"\"\"\n",
    "    Genera niveles de riesgo por frame para sincronizar con la simulación de agentes.\n",
    "\n",
    "    Parámetros:\n",
    "        G (nx.DiGraph): Grafo con áreas y conexiones.\n",
    "        total_frames (int): Número total de frames de la simulación.\n",
    "        propagation_chance (float): Probabilidad de propagar riesgo.\n",
    "        increase_chance (float): Probabilidad de incrementar riesgo.\n",
    "\n",
    "    Retorna:\n",
    "        dict: Riesgos por frame en formato {frame: {area: riesgo}}.\n",
    "    \"\"\"\n",
    "    risks_per_frame = {}\n",
    "\n",
    "    for frame in range(total_frames):\n",
    "        # Actualizar riesgos en el grafo\n",
    "        update_risk(G, propagation_chance, increase_chance)\n",
    "\n",
    "        # Guardar riesgos actuales\n",
    "        risks_per_frame[frame] = {node: G.nodes[node][\"risk\"] for node in G.nodes}\n",
    "\n",
    "    return risks_per_frame"
   ],
   "metadata": {
    "collapsed": false
   }
  },
  {
   "cell_type": "code",
   "execution_count": null,
   "outputs": [],
   "source": [
    "def update_group_paths(simulation, G, waypoint_id, journeys_id, agent_group, risk_threshold=0.5):\n",
    "    \"\"\"\n",
    "    Updates the paths of a group of agents based on the current node of the first agent in the group.\n",
    "    If the path is considered unsafe, all agents in the group are updated.\n",
    "\n",
    "    Args:\n",
    "        simulation (jps.Simulation): Instance of the simulation.\n",
    "        G (networkx.DiGraph): Graph representing node connections and risks.\n",
    "        waypoint_id (dict): Dictionary mapping nodes to waypoint IDs.\n",
    "        journeys_id (dict): Dictionary mapping start nodes to a list of tuples (journey_id, path).\n",
    "        agent_group (tuple): Tuple containing a list of agent IDs and the current path.\n",
    "        risk_threshold (float): Risk threshold above which a path segment is considered unsafe.\n",
    "\n",
    "    Returns:\n",
    "        tuple: Updated agent_group tuple with the new path, or the original if no update was made.\n",
    "    \"\"\"\n",
    "\n",
    "    agents_ids, current_path = agent_group\n",
    "    if not agents_ids:\n",
    "        # No agents in the group\n",
    "        return agent_group\n",
    "\n",
    "    # Get the ID of the first agent in the group\n",
    "    first_agent_id = agents_ids[0]\n",
    "\n",
    "    # Check if the first agent still exists in the simulation\n",
    "    agent_exists = any(agent.id == first_agent_id for agent in simulation.agents())\n",
    "    if not agent_exists:\n",
    "        # The first agent no longer exists in the simulation\n",
    "        return agent_group\n",
    "\n",
    "    # Retrieve the first agent to evaluate the group's path\n",
    "    agent = simulation.agent(first_agent_id)\n",
    "\n",
    "    current_stage = agent.stage_id  # Current stage ID of the agent\n",
    "    next_node = None\n",
    "\n",
    "    # Find the node associated with the agent's current stage\n",
    "    for node, waypoint in waypoint_id.items():\n",
    "        if waypoint == current_stage:\n",
    "            next_node = node\n",
    "            break\n",
    "\n",
    "    # If the next node is not found, exit\n",
    "    if not next_node:\n",
    "        return agent_group\n",
    "\n",
    "    # Get the current node the agent is heading to\n",
    "    index = current_path.index(next_node) - 1\n",
    "    current_node = current_path[index]\n",
    "\n",
    "    # Check if the next node is dangerous\n",
    "    if G.nodes[next_node][\"risk\"] >= risk_threshold: # 0 is the most risky and 1 the safest\n",
    "        # The next node is safe; no changes needed\n",
    "        return agent_group\n",
    "\n",
    "    # If the next node is dangerous, search for alternative paths that pass through the current node\n",
    "    alternative_paths = []\n",
    "    for journey_id, path in journeys_id.get(\"A\", []):  # Assuming all paths start from \"A\"\n",
    "        if current_node in path:\n",
    "            # Get the segment of the path from the current node to the end\n",
    "            start_index = path.index(current_node)\n",
    "            remaining_path = path[start_index:]\n",
    "\n",
    "            # Calculate the total risk of the remaining path\n",
    "            total_risk = sum(G.nodes[node][\"risk\"] for node in remaining_path)\n",
    "\n",
    "            # Add the path and its risk if it's below the threshold\n",
    "            alternative_paths.append((journey_id, remaining_path, total_risk))\n",
    "\n",
    "    if alternative_paths:\n",
    "        # Select the best alternative path (lowest risk)\n",
    "        best_path = max(alternative_paths, key=lambda x: x[2])  # Maximize total security\n",
    "        new_journey_id = best_path[0]\n",
    "        remaining_path = best_path[1]\n",
    "\n",
    "        # Determine the next node in the path\n",
    "        if len(remaining_path) > 1:\n",
    "            next_node = remaining_path[1]\n",
    "            next_stage_id = waypoint_id[next_node]\n",
    "\n",
    "            # Update all agents in the group to the new journey and stage\n",
    "            for agent_id in agents_ids:\n",
    "                simulation.switch_agent_journey(agent_id, new_journey_id, next_stage_id)\n",
    "\n",
    "            # Return the updated agent_group tuple with the new path\n",
    "            return (agents_ids, remaining_path)\n",
    "\n",
    "    # If no update was made, return the original agent_group\n",
    "    return agent_group"
   ],
   "metadata": {
    "collapsed": false
   }
  },
  {
   "cell_type": "code",
   "execution_count": null,
   "outputs": [],
   "source": [
    "trajectory_files = {}\n",
    "for percentage, simulation in simulations.items():\n",
    "    journeys_id, waypoint_id = set_journeys(\n",
    "        simulation, sources[0], targets[0], possible_paths  # 0 -> start, 5 -> exit\n",
    "    )\n",
    "\n",
    "    journey_id, best_path_source_0 = journeys_id[sources[0]][0]  # Best path and its journey ID\n",
    "    next_node = best_path_source_0[1]\n",
    "    first_waypoint_id = waypoint_id[next_node]\n",
    "\n",
    "    num_items = int(len(positions) * (percentage / 100.0))\n",
    "    agents = []\n",
    "    for position in positions[num_items:]:  # Second half of positions\n",
    "        agents.append(\n",
    "            simulation.add_agent(\n",
    "                jps.CollisionFreeSpeedModelAgentParameters(\n",
    "                    position=position,\n",
    "                    journey_id=journey_id,\n",
    "                    stage_id=first_waypoint_id,\n",
    "                )\n",
    "            )\n",
    "        )\n",
    "    agent_group = (agents, best_path_source_0)\n",
    "\n",
    "    every_nth_frame = 50  # The default value of every_nth_frame\n",
    "    propagation_chance = 0.005\n",
    "    increase_chance = 0.05\n",
    "\n",
    "    risks_per_frame = {}\n",
    "\n",
    "    # Save initial risks\n",
    "    risks_per_frame[0] = {node: G.nodes[node][\"risk\"] for node in G.nodes}\n",
    "\n",
    "    while simulation.agent_count() > 0:\n",
    "        simulation.iterate()\n",
    "        if simulation.iteration_count() % every_nth_frame == 0:\n",
    "            update_risk(G, propagation_chance, increase_chance)\n",
    "            # Save current risks\n",
    "            risks_per_frame[simulation.iteration_count()] = {node: G.nodes[node][\"risk\"] for node in G.nodes}\n",
    "\n",
    "            # Call the function to update the agents' paths\n",
    "            agent_group = update_group_paths(simulation, G, waypoint_id, journeys_id, agent_group, risk_threshold=0.5)\n",
    "\n",
    "    trajectory_file = f\"../../sqlite_data/centrality_measures_percentage_{percentage}.sqlite\"\n",
    "    trajectory_files[percentage] = trajectory_file"
   ],
   "metadata": {
    "collapsed": false
   }
  },
  {
   "cell_type": "code",
   "execution_count": null,
   "outputs": [],
   "source": [
    "for frame, nodes in risks_per_frame.items():\n",
    "    for node, risk in nodes.items():\n",
    "        print(f\"{frame}, {node}: {risk}\")"
   ],
   "metadata": {
    "collapsed": false
   }
  },
  {
   "cell_type": "markdown",
   "source": [
    "## Visualizing Agent Pathways"
   ],
   "metadata": {
    "collapsed": false
   }
  },
  {
   "cell_type": "code",
   "execution_count": null,
   "outputs": [],
   "source": [
    "agent_trajectories = {}\n",
    "for percentage in percentages:\n",
    "    trajectory_file = trajectory_files[percentage]\n",
    "    agent_trajectories[percentage], walkable_area = read_sqlite_file(\n",
    "        trajectory_file\n",
    "    )\n",
    "    animate(\n",
    "        agent_trajectories[percentage],\n",
    "        walkable_area,\n",
    "        title_note=f\"Percentage using the shortest path: {percentage}%\",\n",
    "        risks_per_frame=risks_per_frame,\n",
    "        specific_areas=specific_areas\n",
    "    ).show()"
   ],
   "metadata": {
    "collapsed": false
   }
  },
  {
   "cell_type": "code",
   "execution_count": null,
   "outputs": [],
   "source": [],
   "metadata": {
    "collapsed": false
   }
  }
 ],
 "metadata": {
  "kernelspec": {
   "display_name": "Python 3",
   "language": "python",
   "name": "python3"
  },
  "language_info": {
   "codemirror_mode": {
    "name": "ipython",
    "version": 2
   },
   "file_extension": ".py",
   "mimetype": "text/x-python",
   "name": "python",
   "nbconvert_exporter": "python",
   "pygments_lexer": "ipython2",
   "version": "2.7.6"
  }
 },
 "nbformat": 4,
 "nbformat_minor": 0
}
