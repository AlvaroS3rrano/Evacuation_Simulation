{
 "cells": [
  {
   "cell_type": "markdown",
   "source": [
    "# Centrality Measures"
   ],
   "metadata": {
    "collapsed": false
   }
  },
  {
   "cell_type": "code",
   "execution_count": 7,
   "outputs": [
    {
     "name": "stdout",
     "output_type": "stream",
     "text": [
      "The autoreload extension is already loaded. To reload it, use:\n",
      "  %reload_ext autoreload\n"
     ]
    }
   ],
   "source": [
    "import pathlib\n",
    "\n",
    "import jupedsim as jps\n",
    "import matplotlib.pyplot as plt\n",
    "import pedpy\n",
    "import shapely\n",
    "from matplotlib.patches import Circle\n",
    "from shapely import Polygon\n",
    "import networkx as nx\n",
    "from jupedsim.internal.notebook_utils import animate, read_sqlite_file\n",
    "%matplotlib inline\n",
    "import plotly.graph_objects as go\n",
    "from Py.centralityMeasures import centralityMeasuresAlgorithm\n",
    "\n",
    "from Py.animation import animate\n",
    "from Py.DangerSimulation import *\n",
    "\n",
    "%load_ext autoreload\n",
    "%autoreload 2"
   ],
   "metadata": {
    "collapsed": false
   }
  },
  {
   "cell_type": "code",
   "execution_count": 254,
   "outputs": [],
   "source": [
    "from shapely.geometry import Polygon, LineString\n",
    "from shapely.ops import unary_union\n",
    "import pedpy\n",
    "\n",
    "# Define the complete area\n",
    "complete_area = Polygon(\n",
    "    [\n",
    "        (0, 0),\n",
    "        (0, 50),\n",
    "        (50, 50),\n",
    "        (50, 0),\n",
    "    ]\n",
    ")\n",
    "\n",
    "# Define the obstacles\n",
    "obstacles = [\n",
    "    # railway wall\n",
    "    Polygon([(4.9, 0.0), (5.1, 0.0 ), (5.1, 19.25), (4.9, 19.25)]),\n",
    "    Polygon([(4.9, 20), (5.1, 20), (5.1, 24.25), (4.9,24.25)]),\n",
    "    Polygon([(4.9, 25), (5.1, 25), (5.1, 29.25), (4.9, 29.25)]),\n",
    "    Polygon([(4.9, 30), (5.1, 30), (5.1, 50), (4.9, 50)]),\n",
    "\n",
    "    # exit 1\n",
    "    Polygon([(5.1, 4), (5.6, 4), (5.6, 4.1), (5.1, 4.1)]),\n",
    "    Polygon([(6.1, 4), (10.9, 4), (10.9, 1.5), (11.1, 1.5), (11.1, 4.1), (6.1, 4.1)]),\n",
    "    Polygon([(10.9, 0), (11.1, 0), (11.1, 0.5), (10.9, 0.5)]),\n",
    "\n",
    "    # big room 1\n",
    "    Polygon([(6.9, 19.5),(6.9, 4), (10.9, 4), (10.9, 2), (20.1, 2), (20.1, 24.25), (6.9, 24.25), (6.9, 20.5),\n",
    "             (7.1, 20.5), (7.1, 24.05), (19.9, 24.05), (19.9, 2.2), (11.1, 2.2), (11.1, 4.2), (7.1, 4.2), (7.1, 19.5)]),\n",
    "\n",
    "    # big room 2\n",
    "    Polygon([(6.9, 31), (6.9,26.25), (20.1, 26.25), (20.1, 38.1),(6.9, 38.1) ,(6.9, 33),\n",
    "        (7.1, 33), (7.1, 37.9), (19.9, 37.9), (19.9, 26.45), (7.1, 26.45), (7.1, 31)]),\n",
    "\n",
    "    # center upper left\n",
    "    Polygon([(21.9, 19.9), (29.9, 19.9), (29.9, 23.9), (33.1,26.9), (33.1, 38.1), (21.9, 38.1)]),\n",
    "\n",
    "    # center lower left\n",
    "    Polygon([(21.9, 9.9), (33.1, 9.9), (33.1, 14.9), (29.9, 17.9), (21.9,17.9)]),\n",
    "\n",
    "    # center upper right\n",
    "    Polygon([(34.9, 26.9), (37.5, 24.9),(42.1, 24.9), (42.1, 36.1), (34.9,36.1)]),\n",
    "\n",
    "    # center lower right\n",
    "    Polygon([(34.9, 9.9), (42.1, 9.9), (42.1, 22.9), (37.5, 22.9), (37.5, 17.9), ( 34.9, 14.9)]),\n",
    "\n",
    "    #center upper left wall\n",
    "    Polygon([(33.1,38.1), (38.1, 38.1), (38.1, 37.9), (33.1, 37.9)]),\n",
    "\n",
    "    #center upper right wall\n",
    "    Polygon([(39.1,38.1), (42.1, 38.1), (42.1, 36.1), (41.9, 36.1), (41.9, 37.9), (39.1, 37.9)]),\n",
    "\n",
    "    # bottom rooms\n",
    "    Polygon([(21.9, 2), (49.9, 2), (49.9, 12.1), (46.1,12.1), (43.1, 7.9), (21.9, 7.9)]),\n",
    "\n",
    "    # left center rooms\n",
    "    Polygon([(44.1, 13.9), (49.9, 13.9), (49.9, 33), (44.1, 33)]),\n",
    "\n",
    "    # left upper rooms\n",
    "    Polygon([(44.1, 35), (50, 35), (50, 35.2), (44.3, 35.2), (44.3, 38.9), (44.1, 38.9)]),\n",
    "\n",
    "    ## toilets rooms\n",
    "    #room wall\n",
    "    Polygon([(5.1, 39.9), (14.5, 39.9), (14.5, 40.1), (5.1, 40.1)]),\n",
    "    #room bottom side entrance wall\n",
    "    Polygon([(14.5, 39.9), (14.5, 45.1), (14.3, 45.1), (14.3, 39.9)]),\n",
    "    ##toilets bottom wall\n",
    "    #Polygon([(16.5, 39.9), (34.9, 39.9), (34.9, 40.1), (16.5, 40.1)]),\n",
    "    ##toilest bottom side entrance wall\n",
    "    #Polygon([(16.5, 39.9), (16.5, 43.1), (16.3, 43.1), (16.3, 39.9)]),\n",
    "    ##toilest bottom interior wall\n",
    "    #Polygon([(16.5, 42.9), (34.9, 42.9), (34.9, 43.1), (16.5, 43.1)]),\n",
    "    ##toilest bottom side exit wall\n",
    "    #Polygon([(34.9, 39.9), (34.9, 43.1), (35.1, 43.1), (35.1, 39.9)]),\n",
    "    #bottom toilets\n",
    "    Polygon([(16.5, 39.9), (35.1, 39.9), (35.1, 43.1), (16.5, 43.1)]),\n",
    "    #upper toilets\n",
    "    Polygon([(16.5, 45.9), (35.1, 45.9), (35.1, 50), (16.5, 50)]),\n",
    "\n",
    "    ## exit 2\n",
    "    # wall 1\n",
    "    Polygon([(35.1, 40.9), (35.1, 39.9), (38.1, 39.9), (38.1, 40.1), (35.3, 40.1), (35.3, 40.9)]),\n",
    "    # wall 2\n",
    "    Polygon([(39.1, 39.9), (44.1, 39.9), (44.1, 44), (43.9, 44), (43.9, 40.1), (39.1, 40.1)]),\n",
    "    # wall 3\n",
    "    Polygon([(43.9, 47.9), (44.1, 47.9), (44.1, 45), (43.9, 45)]),\n",
    "    # wall 4\n",
    "    Polygon([(39.1, 47.9), (50, 47.9), (50, 48.1), (39.1, 48.1)]),\n",
    "    # wall 5\n",
    "    Polygon([(35.1, 47.9), (38.1, 47.9), (38.1, 48.1), (35.1, 48.1)]),\n",
    "\n",
    "]\n",
    "\n",
    "areas = dict()\n",
    "areas[8] = Polygon([(34.9, 26.9), (37.5, 24.9),(42.1, 24.9), (42.1, 36.1), (34.9,36.1)])\n",
    "areas[7] = Polygon([(34.9, 9.9), (42.1, 9.9), (42.1, 22.9), (37.5, 22.9), (37.5, 17.9), ( 34.9, 14.9)])\n",
    "\n",
    "# Combine the obstacle polygons\n",
    "obstacle = unary_union(obstacles)\n",
    "\n",
    "# Compute the walkable area\n",
    "walkable_area = pedpy.WalkableArea(\n",
    "    shapely.difference(complete_area, obstacle)\n",
    ")\n"
   ],
   "metadata": {
    "collapsed": false
   }
  },
  {
   "cell_type": "code",
   "execution_count": 255,
   "outputs": [
    {
     "data": {
      "text/plain": "<Axes: xlabel='x/m', ylabel='y/m'>"
     },
     "execution_count": 255,
     "metadata": {},
     "output_type": "execute_result"
    },
    {
     "data": {
      "text/plain": "<Figure size 640x480 with 1 Axes>",
      "image/png": "[encoded data removed]"
     },
     "metadata": {},
     "output_type": "display_data"
    }
   ],
   "source": [
    "fig, ax = plt.subplots(nrows=1, ncols=1)\n",
    "ax.set_aspect(\"equal\")\n",
    "pedpy.plot_walkable_area(walkable_area=walkable_area, axes=ax)\n"
   ],
   "metadata": {
    "collapsed": false
   }
  },
  {
   "cell_type": "code",
   "execution_count": 200,
   "outputs": [
    {
     "ename": "NameError",
     "evalue": "name 'waypoints' is not defined",
     "output_type": "error",
     "traceback": [
      "\u001B[1;31m---------------------------------------------------------------------------\u001B[0m",
      "\u001B[1;31mNameError\u001B[0m                                 Traceback (most recent call last)",
      "Cell \u001B[1;32mIn[200], line 1\u001B[0m\n\u001B[1;32m----> 1\u001B[0m \u001B[38;5;28;01mfor\u001B[39;00m idx, (waypoint, distance) \u001B[38;5;129;01min\u001B[39;00m \u001B[43mwaypoints\u001B[49m\u001B[38;5;241m.\u001B[39mitems():\n\u001B[0;32m      2\u001B[0m     ax\u001B[38;5;241m.\u001B[39mplot(waypoint[\u001B[38;5;241m0\u001B[39m], waypoint[\u001B[38;5;241m1\u001B[39m], \u001B[38;5;124m\"\u001B[39m\u001B[38;5;124mro\u001B[39m\u001B[38;5;124m\"\u001B[39m)\n\u001B[0;32m      3\u001B[0m     ax\u001B[38;5;241m.\u001B[39mannotate(\n\u001B[0;32m      4\u001B[0m         \u001B[38;5;124mf\u001B[39m\u001B[38;5;124m\"\u001B[39m\u001B[38;5;132;01m{\u001B[39;00midx\u001B[38;5;132;01m}\u001B[39;00m\u001B[38;5;124m\"\u001B[39m,\n\u001B[0;32m      5\u001B[0m         (waypoint[\u001B[38;5;241m0\u001B[39m], waypoint[\u001B[38;5;241m1\u001B[39m]),\n\u001B[1;32m   (...)\u001B[0m\n\u001B[0;32m      8\u001B[0m         ha\u001B[38;5;241m=\u001B[39m\u001B[38;5;124m\"\u001B[39m\u001B[38;5;124mcenter\u001B[39m\u001B[38;5;124m\"\u001B[39m,\n\u001B[0;32m      9\u001B[0m     )\n",
      "\u001B[1;31mNameError\u001B[0m: name 'waypoints' is not defined"
     ]
    }
   ],
   "source": [
    "\n",
    "for idx, (waypoint, distance) in waypoints.items():\n",
    "    ax.plot(waypoint[0], waypoint[1], \"ro\")\n",
    "    ax.annotate(\n",
    "        f\"{idx}\",\n",
    "        (waypoint[0], waypoint[1]),\n",
    "        textcoords=\"offset points\",\n",
    "        xytext=(10, -15),\n",
    "        ha=\"center\",\n",
    "    )\n",
    "    circle = Circle(\n",
    "        (waypoint[0], waypoint[1]), distance, fc=\"red\", ec=\"red\", alpha=0.1\n",
    "    )\n",
    "    ax.add_patch(circle)\n",
    "\n",
    "x, y = Polygon(exit_polygon).exterior.xy\n",
    "plt.fill(x, y, alpha=0.1, color=\"orange\")\n",
    "centroid = Polygon(exit_polygon).centroid\n",
    "plt.text(centroid.x, centroid.y, \"Exit\", ha=\"center\", va=\"center\", fontsize=8)\n",
    "\n",
    "x, y = distribution_polygon.exterior.xy\n",
    "plt.fill(x, y, alpha=0.1, color=\"blue\")\n",
    "centroid = distribution_polygon.centroid\n",
    "plt.text(centroid.x, centroid.y, \"Start\", ha=\"center\", va=\"center\", fontsize=10)"
   ],
   "metadata": {
    "collapsed": false
   }
  },
  {
   "cell_type": "code",
   "execution_count": 65,
   "outputs": [],
   "source": [
    "specific_areas = dict()\n",
    "specific_areas['A'] = Polygon([(0,0), (5,0), (5,5), (0,5)])\n",
    "specific_areas['B'] = Polygon([(5,0), (10,0), (10,5), (5,5)])\n",
    "specific_areas['C'] = Polygon([(10,0), (15,0), (15,5), (10,5)])\n",
    "specific_areas['D'] = Polygon([(10,5), (15,5), (15,10), (10,10)])\n",
    "specific_areas['E'] = Polygon([(5,5), (10,5), (10,10), (5,10)])\n",
    "specific_areas['F'] = Polygon([(0,5), (5,5), (5,10), (0,10)])\n",
    "specific_areas['G'] = Polygon([(0,10), (5,10), (5,15), (0,15)])\n",
    "specific_areas['H'] = Polygon([(5,10), (10,10), (10,15), (5,15)])\n",
    "specific_areas['I'] = Polygon([(10,10), (15,10), (15,15), (10,15)])"
   ],
   "metadata": {
    "collapsed": false
   }
  },
  {
   "cell_type": "markdown",
   "source": [
    "## Configuration of Simulation Scenarios"
   ],
   "metadata": {
    "collapsed": false
   }
  },
  {
   "cell_type": "code",
   "execution_count": 66,
   "outputs": [],
   "source": [
    "simulations = {}\n",
    "percentages = [0]\n",
    "total_agents = 10\n",
    "for percentage in percentages:\n",
    "    trajectory_file = f\"../../sqlite_data/centrality_measures_percentage_{percentage}.sqlite\"\n",
    "    simulation = jps.Simulation(\n",
    "        dt=0.005,\n",
    "        model=jps.CollisionFreeSpeedModel(\n",
    "            strength_neighbor_repulsion=2.6,\n",
    "            range_neighbor_repulsion=0.1,\n",
    "            range_geometry_repulsion=0.05,\n",
    "        ),\n",
    "        geometry=walkable_area.polygon,\n",
    "        trajectory_writer=jps.SqliteTrajectoryWriter(\n",
    "            output_file=pathlib.Path(trajectory_file),\n",
    "        ),\n",
    "    )\n",
    "    simulations[percentage] = simulation"
   ],
   "metadata": {
    "collapsed": false
   }
  },
  {
   "cell_type": "markdown",
   "source": [
    "## Choosing the path\n"
   ],
   "metadata": {
    "collapsed": false
   }
  },
  {
   "cell_type": "code",
   "execution_count": 67,
   "outputs": [
    {
     "name": "stdout",
     "output_type": "stream",
     "text": [
      "{'best_path': ['A', 'B', 'E', 'D', 'I'], 'max_centrality_score': 1.6666666666666665}\n"
     ]
    }
   ],
   "source": [
    "# Create the graph\n",
    "G = nx.DiGraph()\n",
    "\n",
    "# Nodos y sus niveles iniciales de riesgo (0 a 1)\n",
    "nodes = {\n",
    "    \"A\": 1.0, \"B\": 0.9, \"C\": 1.0,\n",
    "    \"D\": 1.0, \"E\": 0.7, \"F\": 1.0,\n",
    "    \"G\": 1.0, \"H\": 1.0, \"I\": 1.0,\n",
    "}\n",
    "\n",
    "# Agregar nodos al grafo\n",
    "for node, risk in nodes.items():\n",
    "    G.add_node(node, risk=risk)\n",
    "\n",
    "# Definir las conexiones entre nodos\n",
    "edges = [\n",
    "    (\"A\", \"B\"), (\"A\", \"F\"), (\"B\", \"A\"), (\"B\", \"E\"), (\"B\", \"C\"),\n",
    "    (\"C\", \"B\"), (\"C\", \"D\"), (\"D\", \"I\"), (\"D\", \"E\"), (\"D\", \"C\"),\n",
    "    (\"E\", \"D\"), (\"E\", \"F\"), (\"E\", \"B\"), (\"E\", \"H\"), (\"F\", \"A\"),\n",
    "    (\"F\", \"E\"), (\"F\", \"G\"), (\"G\", \"F\"), (\"G\", \"H\"), (\"H\", \"E\"),\n",
    "    (\"H\", \"G\"), (\"H\", \"I\"),\n",
    "]\n",
    "\n",
    "# Agregar las aristas con un costo fijo (se puede ajustar)\n",
    "G.add_edges_from([(u, v, {\"cost\": 3}) for u, v in edges])\n",
    "\n",
    "# Parameters for calculation\n",
    "sources = [\"A\"]  # Source nodes\n",
    "targets = [\"I\"]  # Target nodes\n",
    "\n",
    "# Calculate all efficient paths between source-target pairs\n",
    "gamma = 1.2  # Time tolerance factor\n",
    "\n",
    "_, _, best_paths = centralityMeasuresAlgorithm(G, sources, targets, gamma)\n",
    "\n",
    "print(best_paths[sources[0]])"
   ],
   "metadata": {
    "collapsed": false
   }
  },
  {
   "cell_type": "markdown",
   "source": [
    "## Outlining Agent Journeys"
   ],
   "metadata": {
    "collapsed": false
   }
  },
  {
   "cell_type": "code",
   "execution_count": 68,
   "outputs": [],
   "source": [
    "def differentGraphs(start, end, paths, waypoint_ids, exit_id):\n",
    "    \"\"\"\n",
    "    Creates a journey description for an agent based on the best path between a start and an end node.\n",
    "\n",
    "    Args:\n",
    "        start (str): Starting node in the graph.\n",
    "        end (str): Ending node in the graph.\n",
    "        paths (dict): Dictionary containing the best paths for each source node.\n",
    "                      Structure: {source: {\"best_path\": [path_nodes], ...}, ...}\n",
    "        waypoint_ids (dict): Dictionary mapping node IDs to waypoint IDs in the simulation.\n",
    "                             Structure: {node_id: waypoint_id, ...}.\n",
    "        exit_id (int): ID of the exit stage in the simulation.\n",
    "\n",
    "    Returns:\n",
    "        jps.JourneyDescription: The journey description for the agent.\n",
    "    \"\"\"\n",
    "    path = paths[start][\"best_path\"]\n",
    "\n",
    "    if not path:\n",
    "        raise ValueError(f\"No valid path found from {start} to {end}.\")\n",
    "\n",
    "    # Map the graph nodes in the path to waypoint IDs, excluding start and end nodes\n",
    "    needed_waypoints = [waypoint_ids[node] for node in path[1:-1]]\n",
    "\n",
    "    # Create the journey description\n",
    "    journey = jps.JourneyDescription([*needed_waypoints, exit_id])\n",
    "\n",
    "    # Set transitions between waypoints\n",
    "    for idx, waypoint in enumerate(needed_waypoints):\n",
    "        next_waypoint = exit_id if idx == len(needed_waypoints) - 1 else needed_waypoints[idx + 1]\n",
    "        journey.set_transition_for_stage(\n",
    "            waypoint, jps.Transition.create_fixed_transition(next_waypoint)\n",
    "        )\n",
    "\n",
    "    return journey"
   ],
   "metadata": {
    "collapsed": false
   }
  },
  {
   "cell_type": "code",
   "execution_count": 69,
   "outputs": [],
   "source": [
    "def set_journeys(simulation, start, end):\n",
    "    \"\"\"\n",
    "    Configures agent journeys in the simulation.\n",
    "\n",
    "    Args:\n",
    "        simulation (jps.Simulation): The simulation instance.\n",
    "        start (str): Starting node in the graph.\n",
    "        end (str): Ending node in the graph.\n",
    "\n",
    "    Returns:\n",
    "        tuple: Journey ID and the dictionary of waypoint IDs.\n",
    "    \"\"\"\n",
    "    # Add the exit stage to the simulation\n",
    "    exit_id = simulation.add_exit_stage(exit_polygon)\n",
    "\n",
    "    # Map nodes to waypoint IDs\n",
    "    waypoint_ids = {}\n",
    "    for node, (waypoint, distance) in waypoints.items():\n",
    "        waypoint_ids[node] = simulation.add_waypoint_stage(waypoint, distance)\n",
    "\n",
    "    # Create the journey based on the best paths\n",
    "    journey = differentGraphs(start, end, best_paths, waypoint_ids, exit_id)\n",
    "\n",
    "    # Add the journey to the simulation\n",
    "    journey_id = simulation.add_journey(journey)\n",
    "\n",
    "    return journey_id, waypoint_ids"
   ],
   "metadata": {
    "collapsed": false
   }
  },
  {
   "cell_type": "markdown",
   "source": [
    "## Allocate Agents"
   ],
   "metadata": {
    "collapsed": false
   }
  },
  {
   "cell_type": "code",
   "execution_count": 70,
   "outputs": [],
   "source": [
    "positions = jps.distribute_by_number(\n",
    "    polygon=distribution_polygon,\n",
    "    number_of_agents=total_agents,\n",
    "    distance_to_agents=0.4,\n",
    "    distance_to_polygon=0.7,\n",
    "    seed=45131502,\n",
    ")"
   ],
   "metadata": {
    "collapsed": false
   }
  },
  {
   "cell_type": "markdown",
   "source": [
    "## Launching the Simulation"
   ],
   "metadata": {
    "collapsed": false
   }
  },
  {
   "cell_type": "code",
   "execution_count": 71,
   "outputs": [],
   "source": [
    "def simulate_risk_per_frame(\n",
    "    G: nx.DiGraph,\n",
    "    total_frames: int,\n",
    "    propagation_chance=0.3,\n",
    "    increase_chance=0.2,\n",
    "):\n",
    "    \"\"\"\n",
    "    Genera niveles de riesgo por frame para sincronizar con la simulación de agentes.\n",
    "\n",
    "    Parámetros:\n",
    "        G (nx.DiGraph): Grafo con áreas y conexiones.\n",
    "        total_frames (int): Número total de frames de la simulación.\n",
    "        propagation_chance (float): Probabilidad de propagar riesgo.\n",
    "        increase_chance (float): Probabilidad de incrementar riesgo.\n",
    "\n",
    "    Retorna:\n",
    "        dict: Riesgos por frame en formato {frame: {area: riesgo}}.\n",
    "    \"\"\"\n",
    "    risks_per_frame = {}\n",
    "\n",
    "    for frame in range(total_frames):\n",
    "        # Actualizar riesgos en el grafo\n",
    "        update_risk(G, propagation_chance, increase_chance)\n",
    "\n",
    "        # Guardar riesgos actuales\n",
    "        risks_per_frame[frame] = {node: G.nodes[node][\"risk\"] for node in G.nodes}\n",
    "\n",
    "    return risks_per_frame\n",
    "\n",
    "# Simular riesgos\n",
    "# risk_per_frame = simulate_risk_per_frame(G, total_frames=3000)\n",
    "\n"
   ],
   "metadata": {
    "collapsed": false
   }
  },
  {
   "cell_type": "code",
   "execution_count": 72,
   "outputs": [],
   "source": [
    "trajectory_files = {}\n",
    "for percentage, simulation in simulations.items():\n",
    "    journey_id, waypoint_id = set_journeys(\n",
    "        simulation, sources[0], targets[0]  # 0 -> start, 5 -> exit\n",
    "    )\n",
    "\n",
    "    next_node = best_paths[sources[0]][\"best_path\"][1]\n",
    "    first_waypoint_id = waypoint_id[next_node]\n",
    "\n",
    "    num_items = int(len(positions) * (percentage / 100.0))\n",
    "\n",
    "    for position in positions[num_items:]: # second half of positions\n",
    "        simulation.add_agent(\n",
    "            jps.CollisionFreeSpeedModelAgentParameters(\n",
    "                position=position,\n",
    "                journey_id=journey_id,\n",
    "                stage_id=first_waypoint_id,\n",
    "            )\n",
    "        )\n",
    "\n",
    "    every_nth_frame = 50 # the default value of every_nth_frame\n",
    "    propagation_chance=0.005\n",
    "    increase_chance=0.05\n",
    "    risks_per_frame = dict()\n",
    "\n",
    "    # Guardar riesgos iniciales\n",
    "    risks_per_frame[0] = {node: G.nodes[node][\"risk\"] for node in G.nodes}\n",
    "\n",
    "    while simulation.agent_count() > 0:\n",
    "        simulation.iterate()\n",
    "        if simulation.iteration_count() % every_nth_frame == 0:\n",
    "            update_risk(G, propagation_chance, increase_chance)\n",
    "            # Guardar riesgos actuales\n",
    "            risks_per_frame[simulation.iteration_count()] = {node: G.nodes[node][\"risk\"] for node in G.nodes}\n",
    "\n",
    "    trajectory_file = f\"../../sqlite_data/centrality_measures_percentage_{percentage}.sqlite\"\n",
    "    trajectory_files[percentage] = trajectory_file"
   ],
   "metadata": {
    "collapsed": false
   }
  },
  {
   "cell_type": "code",
   "execution_count": 73,
   "outputs": [
    {
     "name": "stdout",
     "output_type": "stream",
     "text": [
      "0, A: 1.0\n",
      "0, B: 0.9\n",
      "0, C: 1.0\n",
      "0, D: 1.0\n",
      "0, E: 0.7\n",
      "0, F: 1.0\n",
      "0, G: 1.0\n",
      "0, H: 1.0\n",
      "0, I: 1.0\n",
      "50, A: 1.0\n",
      "50, B: 0.9\n",
      "50, C: 1.0\n",
      "50, D: 1.0\n",
      "50, E: 0.7\n",
      "50, F: 1.0\n",
      "50, G: 1.0\n",
      "50, H: 1.0\n",
      "50, I: 1.0\n",
      "100, A: 1.0\n",
      "100, B: 0.9\n",
      "100, C: 1.0\n",
      "100, D: 1.0\n",
      "100, E: 0.7\n",
      "100, F: 1.0\n",
      "100, G: 1.0\n",
      "100, H: 1.0\n",
      "100, I: 1.0\n",
      "150, A: 1.0\n",
      "150, B: 0.9\n",
      "150, C: 1.0\n",
      "150, D: 1.0\n",
      "150, E: 0.5\n",
      "150, F: 1.0\n",
      "150, G: 1.0\n",
      "150, H: 0.8\n",
      "150, I: 1.0\n",
      "200, A: 1.0\n",
      "200, B: 0.9\n",
      "200, C: 1.0\n",
      "200, D: 1.0\n",
      "200, E: 0.5\n",
      "200, F: 1.0\n",
      "200, G: 1.0\n",
      "200, H: 0.8\n",
      "200, I: 1.0\n",
      "250, A: 1.0\n",
      "250, B: 0.9\n",
      "250, C: 1.0\n",
      "250, D: 1.0\n",
      "250, E: 0.5\n",
      "250, F: 1.0\n",
      "250, G: 1.0\n",
      "250, H: 0.8\n",
      "250, I: 1.0\n",
      "300, A: 1.0\n",
      "300, B: 0.9\n",
      "300, C: 1.0\n",
      "300, D: 1.0\n",
      "300, E: 0.5\n",
      "300, F: 1.0\n",
      "300, G: 1.0\n",
      "300, H: 0.8\n",
      "300, I: 1.0\n",
      "350, A: 1.0\n",
      "350, B: 0.9\n",
      "350, C: 1.0\n",
      "350, D: 1.0\n",
      "350, E: 0.5\n",
      "350, F: 1.0\n",
      "350, G: 1.0\n",
      "350, H: 0.8\n",
      "350, I: 1.0\n",
      "400, A: 1.0\n",
      "400, B: 0.9\n",
      "400, C: 1.0\n",
      "400, D: 1.0\n",
      "400, E: 0.5\n",
      "400, F: 1.0\n",
      "400, G: 1.0\n",
      "400, H: 0.8\n",
      "400, I: 1.0\n",
      "450, A: 0.8\n",
      "450, B: 0.9\n",
      "450, C: 1.0\n",
      "450, D: 1.0\n",
      "450, E: 0.5\n",
      "450, F: 0.9\n",
      "450, G: 1.0\n",
      "450, H: 0.8\n",
      "450, I: 1.0\n",
      "500, A: 0.8\n",
      "500, B: 0.9\n",
      "500, C: 1.0\n",
      "500, D: 1.0\n",
      "500, E: 0.5\n",
      "500, F: 0.9\n",
      "500, G: 1.0\n",
      "500, H: 0.8\n",
      "500, I: 1.0\n",
      "550, A: 0.8\n",
      "550, B: 0.9\n",
      "550, C: 1.0\n",
      "550, D: 1.0\n",
      "550, E: 0.5\n",
      "550, F: 0.9\n",
      "550, G: 1.0\n",
      "550, H: 0.8\n",
      "550, I: 1.0\n",
      "600, A: 0.6\n",
      "600, B: 0.9\n",
      "600, C: 1.0\n",
      "600, D: 1.0\n",
      "600, E: 0.5\n",
      "600, F: 0.9\n",
      "600, G: 1.0\n",
      "600, H: 0.8\n",
      "600, I: 1.0\n",
      "650, A: 0.6\n",
      "650, B: 0.9\n",
      "650, C: 0.9\n",
      "650, D: 1.0\n",
      "650, E: 0.5\n",
      "650, F: 0.9\n",
      "650, G: 1.0\n",
      "650, H: 0.8\n",
      "650, I: 1.0\n",
      "700, A: 0.6\n",
      "700, B: 0.9\n",
      "700, C: 0.9\n",
      "700, D: 1.0\n",
      "700, E: 0.4\n",
      "700, F: 0.9\n",
      "700, G: 1.0\n",
      "700, H: 0.8\n",
      "700, I: 1.0\n",
      "750, A: 0.6\n",
      "750, B: 0.9\n",
      "750, C: 0.9\n",
      "750, D: 1.0\n",
      "750, E: 0.4\n",
      "750, F: 0.9\n",
      "750, G: 1.0\n",
      "750, H: 0.8\n",
      "750, I: 1.0\n",
      "800, A: 0.6\n",
      "800, B: 0.9\n",
      "800, C: 0.9\n",
      "800, D: 1.0\n",
      "800, E: 0.4\n",
      "800, F: 0.9\n",
      "800, G: 1.0\n",
      "800, H: 0.8\n",
      "800, I: 1.0\n",
      "850, A: 0.6\n",
      "850, B: 0.9\n",
      "850, C: 0.9\n",
      "850, D: 1.0\n",
      "850, E: 0.4\n",
      "850, F: 0.9\n",
      "850, G: 1.0\n",
      "850, H: 0.8\n",
      "850, I: 1.0\n",
      "900, A: 0.6\n",
      "900, B: 0.9\n",
      "900, C: 0.9\n",
      "900, D: 1.0\n",
      "900, E: 0.4\n",
      "900, F: 0.9\n",
      "900, G: 1.0\n",
      "900, H: 0.7\n",
      "900, I: 1.0\n",
      "950, A: 0.6\n",
      "950, B: 0.9\n",
      "950, C: 0.9\n",
      "950, D: 1.0\n",
      "950, E: 0.4\n",
      "950, F: 0.9\n",
      "950, G: 1.0\n",
      "950, H: 0.7\n",
      "950, I: 1.0\n",
      "1000, A: 0.6\n",
      "1000, B: 0.9\n",
      "1000, C: 0.9\n",
      "1000, D: 1.0\n",
      "1000, E: 0.4\n",
      "1000, F: 0.9\n",
      "1000, G: 1.0\n",
      "1000, H: 0.7\n",
      "1000, I: 1.0\n",
      "1050, A: 0.6\n",
      "1050, B: 0.9\n",
      "1050, C: 0.9\n",
      "1050, D: 1.0\n",
      "1050, E: 0.4\n",
      "1050, F: 0.9\n",
      "1050, G: 1.0\n",
      "1050, H: 0.7\n",
      "1050, I: 1.0\n",
      "1100, A: 0.6\n",
      "1100, B: 0.8\n",
      "1100, C: 0.9\n",
      "1100, D: 1.0\n",
      "1100, E: 0.4\n",
      "1100, F: 0.9\n",
      "1100, G: 1.0\n",
      "1100, H: 0.7\n",
      "1100, I: 1.0\n",
      "1150, A: 0.5\n",
      "1150, B: 0.8\n",
      "1150, C: 0.9\n",
      "1150, D: 1.0\n",
      "1150, E: 0.4\n",
      "1150, F: 0.9\n",
      "1150, G: 1.0\n",
      "1150, H: 0.7\n",
      "1150, I: 1.0\n",
      "1200, A: 0.5\n",
      "1200, B: 0.8\n",
      "1200, C: 0.9\n",
      "1200, D: 1.0\n",
      "1200, E: 0.4\n",
      "1200, F: 0.9\n",
      "1200, G: 1.0\n",
      "1200, H: 0.7\n",
      "1200, I: 1.0\n",
      "1250, A: 0.5\n",
      "1250, B: 0.8\n",
      "1250, C: 0.9\n",
      "1250, D: 1.0\n",
      "1250, E: 0.4\n",
      "1250, F: 0.9\n",
      "1250, G: 1.0\n",
      "1250, H: 0.7\n",
      "1250, I: 1.0\n",
      "1300, A: 0.5\n",
      "1300, B: 0.8\n",
      "1300, C: 0.9\n",
      "1300, D: 1.0\n",
      "1300, E: 0.4\n",
      "1300, F: 0.9\n",
      "1300, G: 1.0\n",
      "1300, H: 0.6\n",
      "1300, I: 1.0\n",
      "1350, A: 0.5\n",
      "1350, B: 0.8\n",
      "1350, C: 0.9\n",
      "1350, D: 1.0\n",
      "1350, E: 0.4\n",
      "1350, F: 0.9\n",
      "1350, G: 1.0\n",
      "1350, H: 0.6\n",
      "1350, I: 1.0\n",
      "1400, A: 0.5\n",
      "1400, B: 0.8\n",
      "1400, C: 0.9\n",
      "1400, D: 1.0\n",
      "1400, E: 0.4\n",
      "1400, F: 0.9\n",
      "1400, G: 1.0\n",
      "1400, H: 0.6\n",
      "1400, I: 1.0\n",
      "1450, A: 0.5\n",
      "1450, B: 0.8\n",
      "1450, C: 0.9\n",
      "1450, D: 1.0\n",
      "1450, E: 0.4\n",
      "1450, F: 0.9\n",
      "1450, G: 1.0\n",
      "1450, H: 0.6\n",
      "1450, I: 1.0\n",
      "1500, A: 0.5\n",
      "1500, B: 0.7\n",
      "1500, C: 0.9\n",
      "1500, D: 1.0\n",
      "1500, E: 0.4\n",
      "1500, F: 0.9\n",
      "1500, G: 1.0\n",
      "1500, H: 0.6\n",
      "1500, I: 1.0\n",
      "1550, A: 0.5\n",
      "1550, B: 0.7\n",
      "1550, C: 0.9\n",
      "1550, D: 1.0\n",
      "1550, E: 0.4\n",
      "1550, F: 0.9\n",
      "1550, G: 1.0\n",
      "1550, H: 0.6\n",
      "1550, I: 1.0\n",
      "1600, A: 0.5\n",
      "1600, B: 0.7\n",
      "1600, C: 0.9\n",
      "1600, D: 1.0\n",
      "1600, E: 0.4\n",
      "1600, F: 0.9\n",
      "1600, G: 0.8\n",
      "1600, H: 0.6\n",
      "1600, I: 1.0\n",
      "1650, A: 0.5\n",
      "1650, B: 0.7\n",
      "1650, C: 0.9\n",
      "1650, D: 1.0\n",
      "1650, E: 0.4\n",
      "1650, F: 0.9\n",
      "1650, G: 0.7\n",
      "1650, H: 0.5\n",
      "1650, I: 1.0\n",
      "1700, A: 0.3\n",
      "1700, B: 0.7\n",
      "1700, C: 0.9\n",
      "1700, D: 1.0\n",
      "1700, E: 0.4\n",
      "1700, F: 0.9\n",
      "1700, G: 0.7\n",
      "1700, H: 0.5\n",
      "1700, I: 1.0\n",
      "1750, A: 0.3\n",
      "1750, B: 0.7\n",
      "1750, C: 0.9\n",
      "1750, D: 1.0\n",
      "1750, E: 0.4\n",
      "1750, F: 0.9\n",
      "1750, G: 0.7\n",
      "1750, H: 0.5\n",
      "1750, I: 1.0\n",
      "1800, A: 0.3\n",
      "1800, B: 0.6\n",
      "1800, C: 0.9\n",
      "1800, D: 1.0\n",
      "1800, E: 0.4\n",
      "1800, F: 0.9\n",
      "1800, G: 0.7\n",
      "1800, H: 0.5\n",
      "1800, I: 1.0\n",
      "1850, A: 0.3\n",
      "1850, B: 0.6\n",
      "1850, C: 0.9\n",
      "1850, D: 1.0\n",
      "1850, E: 0.4\n",
      "1850, F: 0.9\n",
      "1850, G: 0.7\n",
      "1850, H: 0.5\n",
      "1850, I: 1.0\n",
      "1900, A: 0.3\n",
      "1900, B: 0.6\n",
      "1900, C: 0.9\n",
      "1900, D: 1.0\n",
      "1900, E: 0.4\n",
      "1900, F: 0.9\n",
      "1900, G: 0.7\n",
      "1900, H: 0.5\n",
      "1900, I: 1.0\n",
      "1950, A: 0.3\n",
      "1950, B: 0.6\n",
      "1950, C: 0.7\n",
      "1950, D: 1.0\n",
      "1950, E: 0.4\n",
      "1950, F: 0.9\n",
      "1950, G: 0.7\n",
      "1950, H: 0.5\n",
      "1950, I: 1.0\n",
      "2000, A: 0.3\n",
      "2000, B: 0.3\n",
      "2000, C: 0.7\n",
      "2000, D: 1.0\n",
      "2000, E: 0.4\n",
      "2000, F: 0.9\n",
      "2000, G: 0.7\n",
      "2000, H: 0.5\n",
      "2000, I: 1.0\n",
      "2050, A: 0.3\n",
      "2050, B: 0.3\n",
      "2050, C: 0.7\n",
      "2050, D: 1.0\n",
      "2050, E: 0.4\n",
      "2050, F: 0.9\n",
      "2050, G: 0.7\n",
      "2050, H: 0.5\n",
      "2050, I: 1.0\n",
      "2100, A: 0.3\n",
      "2100, B: 0.3\n",
      "2100, C: 0.7\n",
      "2100, D: 1.0\n",
      "2100, E: 0.4\n",
      "2100, F: 0.9\n",
      "2100, G: 0.7\n",
      "2100, H: 0.5\n",
      "2100, I: 1.0\n",
      "2150, A: 0.3\n",
      "2150, B: 0.3\n",
      "2150, C: 0.7\n",
      "2150, D: 1.0\n",
      "2150, E: 0.4\n",
      "2150, F: 0.9\n",
      "2150, G: 0.7\n",
      "2150, H: 0.5\n",
      "2150, I: 1.0\n",
      "2200, A: 0.3\n",
      "2200, B: 0.3\n",
      "2200, C: 0.7\n",
      "2200, D: 1.0\n",
      "2200, E: 0.4\n",
      "2200, F: 0.9\n",
      "2200, G: 0.7\n",
      "2200, H: 0.5\n",
      "2200, I: 1.0\n",
      "2250, A: 0.3\n",
      "2250, B: 0.3\n",
      "2250, C: 0.7\n",
      "2250, D: 1.0\n",
      "2250, E: 0.4\n",
      "2250, F: 0.8\n",
      "2250, G: 0.7\n",
      "2250, H: 0.5\n",
      "2250, I: 1.0\n",
      "2300, A: 0.3\n",
      "2300, B: 0.3\n",
      "2300, C: 0.7\n",
      "2300, D: 1.0\n",
      "2300, E: 0.4\n",
      "2300, F: 0.8\n",
      "2300, G: 0.7\n",
      "2300, H: 0.5\n",
      "2300, I: 1.0\n",
      "2350, A: 0.3\n",
      "2350, B: 0.3\n",
      "2350, C: 0.7\n",
      "2350, D: 1.0\n",
      "2350, E: 0.4\n",
      "2350, F: 0.8\n",
      "2350, G: 0.7\n",
      "2350, H: 0.5\n",
      "2350, I: 1.0\n",
      "2400, A: 0.3\n",
      "2400, B: 0.3\n",
      "2400, C: 0.7\n",
      "2400, D: 1.0\n",
      "2400, E: 0.4\n",
      "2400, F: 0.7\n",
      "2400, G: 0.7\n",
      "2400, H: 0.5\n",
      "2400, I: 1.0\n",
      "2450, A: 0.3\n",
      "2450, B: 0.3\n",
      "2450, C: 0.7\n",
      "2450, D: 1.0\n",
      "2450, E: 0.4\n",
      "2450, F: 0.5\n",
      "2450, G: 0.7\n",
      "2450, H: 0.5\n",
      "2450, I: 1.0\n",
      "2500, A: 0.3\n",
      "2500, B: 0.3\n",
      "2500, C: 0.7\n",
      "2500, D: 1.0\n",
      "2500, E: 0.4\n",
      "2500, F: 0.5\n",
      "2500, G: 0.7\n",
      "2500, H: 0.5\n",
      "2500, I: 1.0\n",
      "2550, A: 0.1\n",
      "2550, B: 0.3\n",
      "2550, C: 0.7\n",
      "2550, D: 1.0\n",
      "2550, E: 0.4\n",
      "2550, F: 0.5\n",
      "2550, G: 0.7\n",
      "2550, H: 0.5\n",
      "2550, I: 1.0\n",
      "2600, A: 0.1\n",
      "2600, B: 0.3\n",
      "2600, C: 0.7\n",
      "2600, D: 1.0\n",
      "2600, E: 0.4\n",
      "2600, F: 0.5\n",
      "2600, G: 0.7\n",
      "2600, H: 0.5\n",
      "2600, I: 1.0\n",
      "2650, A: 0.1\n",
      "2650, B: 0.3\n",
      "2650, C: 0.6\n",
      "2650, D: 1.0\n",
      "2650, E: 0.4\n",
      "2650, F: 0.5\n",
      "2650, G: 0.7\n",
      "2650, H: 0.5\n",
      "2650, I: 1.0\n",
      "2700, A: 0.1\n",
      "2700, B: 0.3\n",
      "2700, C: 0.6\n",
      "2700, D: 1.0\n",
      "2700, E: 0.4\n",
      "2700, F: 0.5\n",
      "2700, G: 0.7\n",
      "2700, H: 0.5\n",
      "2700, I: 1.0\n",
      "2750, A: 0.1\n",
      "2750, B: 0.3\n",
      "2750, C: 0.6\n",
      "2750, D: 1.0\n",
      "2750, E: 0.4\n",
      "2750, F: 0.5\n",
      "2750, G: 0.6\n",
      "2750, H: 0.4\n",
      "2750, I: 1.0\n",
      "2800, A: 0.1\n",
      "2800, B: 0.3\n",
      "2800, C: 0.6\n",
      "2800, D: 1.0\n",
      "2800, E: 0.4\n",
      "2800, F: 0.5\n",
      "2800, G: 0.6\n",
      "2800, H: 0.4\n",
      "2800, I: 1.0\n",
      "2850, A: 0.1\n",
      "2850, B: 0.3\n",
      "2850, C: 0.6\n",
      "2850, D: 1.0\n",
      "2850, E: 0.4\n",
      "2850, F: 0.5\n",
      "2850, G: 0.6\n",
      "2850, H: 0.4\n",
      "2850, I: 1.0\n",
      "2900, A: 0.1\n",
      "2900, B: 0.3\n",
      "2900, C: 0.6\n",
      "2900, D: 1.0\n",
      "2900, E: 0.4\n",
      "2900, F: 0.4\n",
      "2900, G: 0.6\n",
      "2900, H: 0.4\n",
      "2900, I: 1.0\n",
      "2950, A: 0.1\n",
      "2950, B: 0.3\n",
      "2950, C: 0.6\n",
      "2950, D: 1.0\n",
      "2950, E: 0.4\n",
      "2950, F: 0.4\n",
      "2950, G: 0.6\n",
      "2950, H: 0.4\n",
      "2950, I: 1.0\n",
      "3000, A: 0.1\n",
      "3000, B: 0.3\n",
      "3000, C: 0.6\n",
      "3000, D: 1.0\n",
      "3000, E: 0.3\n",
      "3000, F: 0.4\n",
      "3000, G: 0.6\n",
      "3000, H: 0.4\n",
      "3000, I: 1.0\n",
      "3050, A: 0.1\n",
      "3050, B: 0.3\n",
      "3050, C: 0.6\n",
      "3050, D: 1.0\n",
      "3050, E: 0.3\n",
      "3050, F: 0.4\n",
      "3050, G: 0.6\n",
      "3050, H: 0.4\n",
      "3050, I: 1.0\n",
      "3100, A: 0.1\n",
      "3100, B: 0.3\n",
      "3100, C: 0.6\n",
      "3100, D: 1.0\n",
      "3100, E: 0.3\n",
      "3100, F: 0.4\n",
      "3100, G: 0.6\n",
      "3100, H: 0.4\n",
      "3100, I: 1.0\n",
      "3150, A: 0.1\n",
      "3150, B: 0.3\n",
      "3150, C: 0.6\n",
      "3150, D: 1.0\n",
      "3150, E: 0.3\n",
      "3150, F: 0.4\n",
      "3150, G: 0.6\n",
      "3150, H: 0.4\n",
      "3150, I: 1.0\n",
      "3200, A: 0.1\n",
      "3200, B: 0.3\n",
      "3200, C: 0.6\n",
      "3200, D: 1.0\n",
      "3200, E: 0.3\n",
      "3200, F: 0.4\n",
      "3200, G: 0.6\n",
      "3200, H: 0.4\n",
      "3200, I: 1.0\n",
      "3250, A: 0.1\n",
      "3250, B: 0.3\n",
      "3250, C: 0.6\n",
      "3250, D: 1.0\n",
      "3250, E: 0.3\n",
      "3250, F: 0.4\n",
      "3250, G: 0.6\n",
      "3250, H: 0.4\n",
      "3250, I: 1.0\n",
      "3300, A: 0.1\n",
      "3300, B: 0.3\n",
      "3300, C: 0.6\n",
      "3300, D: 1.0\n",
      "3300, E: 0.3\n",
      "3300, F: 0.4\n",
      "3300, G: 0.6\n",
      "3300, H: 0.4\n",
      "3300, I: 1.0\n",
      "3350, A: 0.1\n",
      "3350, B: 0.3\n",
      "3350, C: 0.6\n",
      "3350, D: 1.0\n",
      "3350, E: 0.3\n",
      "3350, F: 0.3\n",
      "3350, G: 0.6\n",
      "3350, H: 0.3\n",
      "3350, I: 1.0\n",
      "3400, A: 0.1\n",
      "3400, B: 0.3\n",
      "3400, C: 0.6\n",
      "3400, D: 1.0\n",
      "3400, E: 0.3\n",
      "3400, F: 0.3\n",
      "3400, G: 0.6\n",
      "3400, H: 0.3\n",
      "3400, I: 1.0\n",
      "3450, A: 0.1\n",
      "3450, B: 0.3\n",
      "3450, C: 0.6\n",
      "3450, D: 1.0\n",
      "3450, E: 0.3\n",
      "3450, F: 0.3\n",
      "3450, G: 0.6\n",
      "3450, H: 0.3\n",
      "3450, I: 1.0\n",
      "3500, A: 0.1\n",
      "3500, B: 0.3\n",
      "3500, C: 0.6\n",
      "3500, D: 1.0\n",
      "3500, E: 0.3\n",
      "3500, F: 0.3\n",
      "3500, G: 0.6\n",
      "3500, H: 0.3\n",
      "3500, I: 1.0\n",
      "3550, A: 0.1\n",
      "3550, B: 0.3\n",
      "3550, C: 0.6\n",
      "3550, D: 1.0\n",
      "3550, E: 0.3\n",
      "3550, F: 0.3\n",
      "3550, G: 0.6\n",
      "3550, H: 0.3\n",
      "3550, I: 1.0\n",
      "3600, A: 0.1\n",
      "3600, B: 0.3\n",
      "3600, C: 0.6\n",
      "3600, D: 1.0\n",
      "3600, E: 0.3\n",
      "3600, F: 0.3\n",
      "3600, G: 0.6\n",
      "3600, H: 0.3\n",
      "3600, I: 1.0\n",
      "3650, A: 0.1\n",
      "3650, B: 0.3\n",
      "3650, C: 0.6\n",
      "3650, D: 1.0\n",
      "3650, E: 0.3\n",
      "3650, F: 0.3\n",
      "3650, G: 0.6\n",
      "3650, H: 0.3\n",
      "3650, I: 1.0\n",
      "3700, A: 0.1\n",
      "3700, B: 0.2\n",
      "3700, C: 0.6\n",
      "3700, D: 1.0\n",
      "3700, E: 0.3\n",
      "3700, F: 0.3\n",
      "3700, G: 0.6\n",
      "3700, H: 0.3\n",
      "3700, I: 1.0\n",
      "3750, A: 0.0\n",
      "3750, B: 0.2\n",
      "3750, C: 0.6\n",
      "3750, D: 1.0\n",
      "3750, E: 0.3\n",
      "3750, F: 0.3\n",
      "3750, G: 0.6\n",
      "3750, H: 0.3\n",
      "3750, I: 1.0\n",
      "3800, A: 0.0\n",
      "3800, B: 0.2\n",
      "3800, C: 0.6\n",
      "3800, D: 1.0\n",
      "3800, E: 0.2\n",
      "3800, F: 0.3\n",
      "3800, G: 0.6\n",
      "3800, H: 0.3\n",
      "3800, I: 1.0\n",
      "3850, A: 0.0\n",
      "3850, B: 0.2\n",
      "3850, C: 0.6\n",
      "3850, D: 1.0\n",
      "3850, E: 0.2\n",
      "3850, F: 0.3\n",
      "3850, G: 0.6\n",
      "3850, H: 0.3\n",
      "3850, I: 1.0\n",
      "3900, A: 0.0\n",
      "3900, B: 0.2\n",
      "3900, C: 0.6\n",
      "3900, D: 1.0\n",
      "3900, E: 0.2\n",
      "3900, F: 0.3\n",
      "3900, G: 0.6\n",
      "3900, H: 0.3\n",
      "3900, I: 1.0\n",
      "3950, A: 0.0\n",
      "3950, B: 0.2\n",
      "3950, C: 0.6\n",
      "3950, D: 1.0\n",
      "3950, E: 0.2\n",
      "3950, F: 0.3\n",
      "3950, G: 0.6\n",
      "3950, H: 0.3\n",
      "3950, I: 1.0\n",
      "4000, A: 0.0\n",
      "4000, B: 0.2\n",
      "4000, C: 0.6\n",
      "4000, D: 1.0\n",
      "4000, E: 0.2\n",
      "4000, F: 0.3\n",
      "4000, G: 0.6\n",
      "4000, H: 0.3\n",
      "4000, I: 1.0\n",
      "4050, A: 0.0\n",
      "4050, B: 0.2\n",
      "4050, C: 0.6\n",
      "4050, D: 1.0\n",
      "4050, E: 0.2\n",
      "4050, F: 0.3\n",
      "4050, G: 0.6\n",
      "4050, H: 0.3\n",
      "4050, I: 1.0\n",
      "4100, A: 0.0\n",
      "4100, B: 0.2\n",
      "4100, C: 0.6\n",
      "4100, D: 1.0\n",
      "4100, E: 0.2\n",
      "4100, F: 0.3\n",
      "4100, G: 0.6\n",
      "4100, H: 0.3\n",
      "4100, I: 1.0\n",
      "4150, A: 0.0\n",
      "4150, B: 0.2\n",
      "4150, C: 0.6\n",
      "4150, D: 1.0\n",
      "4150, E: 0.2\n",
      "4150, F: 0.3\n",
      "4150, G: 0.6\n",
      "4150, H: 0.3\n",
      "4150, I: 1.0\n",
      "4200, A: 0.0\n",
      "4200, B: 0.2\n",
      "4200, C: 0.6\n",
      "4200, D: 1.0\n",
      "4200, E: 0.2\n",
      "4200, F: 0.3\n",
      "4200, G: 0.5\n",
      "4200, H: 0.3\n",
      "4200, I: 1.0\n",
      "4250, A: 0.0\n",
      "4250, B: 0.2\n",
      "4250, C: 0.6\n",
      "4250, D: 1.0\n",
      "4250, E: 0.2\n",
      "4250, F: 0.3\n",
      "4250, G: 0.5\n",
      "4250, H: 0.3\n",
      "4250, I: 0.9\n",
      "4300, A: 0.0\n",
      "4300, B: 0.1\n",
      "4300, C: 0.6\n",
      "4300, D: 1.0\n",
      "4300, E: 0.0\n",
      "4300, F: 0.3\n",
      "4300, G: 0.5\n",
      "4300, H: 0.3\n",
      "4300, I: 0.9\n",
      "4350, A: 0.0\n",
      "4350, B: 0.1\n",
      "4350, C: 0.6\n",
      "4350, D: 1.0\n",
      "4350, E: 0.0\n",
      "4350, F: 0.3\n",
      "4350, G: 0.5\n",
      "4350, H: 0.3\n",
      "4350, I: 0.9\n",
      "4400, A: 0.0\n",
      "4400, B: 0.1\n",
      "4400, C: 0.6\n",
      "4400, D: 1.0\n",
      "4400, E: 0.0\n",
      "4400, F: 0.3\n",
      "4400, G: 0.5\n",
      "4400, H: 0.3\n",
      "4400, I: 0.9\n",
      "4450, A: 0.0\n",
      "4450, B: 0.1\n",
      "4450, C: 0.6\n",
      "4450, D: 1.0\n",
      "4450, E: 0.0\n",
      "4450, F: 0.3\n",
      "4450, G: 0.5\n",
      "4450, H: 0.2\n",
      "4450, I: 0.9\n",
      "4500, A: 0.0\n",
      "4500, B: 0.1\n",
      "4500, C: 0.6\n",
      "4500, D: 1.0\n",
      "4500, E: 0.0\n",
      "4500, F: 0.3\n",
      "4500, G: 0.5\n",
      "4500, H: 0.2\n",
      "4500, I: 0.9\n",
      "4550, A: 0.0\n",
      "4550, B: 0.1\n",
      "4550, C: 0.6\n",
      "4550, D: 1.0\n",
      "4550, E: 0.0\n",
      "4550, F: 0.3\n",
      "4550, G: 0.5\n",
      "4550, H: 0.2\n",
      "4550, I: 0.9\n",
      "4600, A: 0.0\n",
      "4600, B: 0.1\n",
      "4600, C: 0.6\n",
      "4600, D: 1.0\n",
      "4600, E: 0.0\n",
      "4600, F: 0.3\n",
      "4600, G: 0.5\n",
      "4600, H: 0.0\n",
      "4600, I: 0.9\n",
      "4650, A: 0.0\n",
      "4650, B: 0.1\n",
      "4650, C: 0.6\n",
      "4650, D: 1.0\n",
      "4650, E: 0.0\n",
      "4650, F: 0.3\n",
      "4650, G: 0.5\n",
      "4650, H: 0.0\n",
      "4650, I: 0.8\n",
      "4700, A: 0.0\n",
      "4700, B: 0.1\n",
      "4700, C: 0.6\n",
      "4700, D: 1.0\n",
      "4700, E: 0.0\n",
      "4700, F: 0.3\n",
      "4700, G: 0.5\n",
      "4700, H: 0.0\n",
      "4700, I: 0.8\n",
      "4750, A: 0.0\n",
      "4750, B: 0.1\n",
      "4750, C: 0.5\n",
      "4750, D: 1.0\n",
      "4750, E: 0.0\n",
      "4750, F: 0.3\n",
      "4750, G: 0.5\n",
      "4750, H: 0.0\n",
      "4750, I: 0.8\n",
      "4800, A: 0.0\n",
      "4800, B: 0.1\n",
      "4800, C: 0.5\n",
      "4800, D: 1.0\n",
      "4800, E: 0.0\n",
      "4800, F: 0.3\n",
      "4800, G: 0.5\n",
      "4800, H: 0.0\n",
      "4800, I: 0.8\n",
      "4850, A: 0.0\n",
      "4850, B: 0.1\n",
      "4850, C: 0.5\n",
      "4850, D: 1.0\n",
      "4850, E: 0.0\n",
      "4850, F: 0.3\n",
      "4850, G: 0.5\n",
      "4850, H: 0.0\n",
      "4850, I: 0.8\n",
      "4900, A: 0.0\n",
      "4900, B: 0.1\n",
      "4900, C: 0.5\n",
      "4900, D: 1.0\n",
      "4900, E: 0.0\n",
      "4900, F: 0.3\n",
      "4900, G: 0.0\n",
      "4900, H: 0.0\n",
      "4900, I: 0.8\n",
      "4950, A: 0.0\n",
      "4950, B: 0.1\n",
      "4950, C: 0.5\n",
      "4950, D: 1.0\n",
      "4950, E: 0.0\n",
      "4950, F: 0.3\n",
      "4950, G: 0.0\n",
      "4950, H: 0.0\n",
      "4950, I: 0.8\n",
      "5000, A: 0.0\n",
      "5000, B: 0.1\n",
      "5000, C: 0.5\n",
      "5000, D: 1.0\n",
      "5000, E: 0.0\n",
      "5000, F: 0.3\n",
      "5000, G: 0.0\n",
      "5000, H: 0.0\n",
      "5000, I: 0.8\n"
     ]
    }
   ],
   "source": [
    "for frame, nodes in risks_per_frame.items():\n",
    "    for node, risk in nodes.items():\n",
    "        print(f\"{frame}, {node}: {risk}\")"
   ],
   "metadata": {
    "collapsed": false
   }
  },
  {
   "cell_type": "markdown",
   "source": [
    "## Visualizing Agent Pathways"
   ],
   "metadata": {
    "collapsed": false
   }
  },
  {
   "cell_type": "code",
   "execution_count": 74,
   "outputs": [
    {
     "data": {
      "application/vnd.plotly.v1+json": {
       "data": [
        {
         "hoverinfo": "name",
         "line": {
          "color": "grey"
         },
         "mode": "lines",
         "name": "Exterior",
         "showlegend": false,
         "x": [
          10.1,
          10.1,
          15.0,
          15.0,
          13.6,
          13.6,
          15.0,
          15.0,
          13.6,
          13.6,
          15.0,
          15.0,
          10.1,
          10.1,
          9.9,
          9.9,
          5.1,
          5.1,
          4.9,
          4.9,
          0.0,
          0.0,
          1.5,
          1.5,
          0.0,
          0.0,
          1.5,
          1.5,
          0.0,
          0.0,
          4.9,
          4.9,
          5.1,
          5.1,
          9.9,
          9.9,
          10.1
         ],
         "y": [
          1.5,
          0.0,
          0.0,
          4.9,
          4.9,
          5.1,
          5.1,
          9.9,
          9.9,
          10.1,
          10.1,
          15.0,
          15.0,
          13.6,
          13.6,
          15.0,
          15.0,
          13.6,
          13.6,
          15.0,
          15.0,
          10.1,
          10.1,
          9.9,
          9.9,
          5.1,
          5.1,
          4.9,
          4.9,
          0.0,
          0.0,
          1.5,
          1.5,
          0.0,
          0.0,
          1.5,
          1.5
         ],
         "type": "scatter"
        },
        {
         "hoverinfo": "name",
         "line": {
          "color": "grey"
         },
         "mode": "lines",
         "name": "Obstacle",
         "showlegend": false,
         "x": [
          10.1,
          11.5,
          11.5,
          10.1,
          10.1,
          9.9,
          9.9,
          8.6,
          8.6,
          9.9,
          9.9,
          10.1,
          10.1
         ],
         "y": [
          5.1,
          5.1,
          4.9,
          4.9,
          3.6,
          3.6,
          4.9,
          4.9,
          5.1,
          5.1,
          6.5,
          6.5,
          5.1
         ],
         "type": "scatter"
        },
        {
         "hoverinfo": "name",
         "line": {
          "color": "grey"
         },
         "mode": "lines",
         "name": "Obstacle",
         "showlegend": false,
         "x": [
          10.1,
          11.5,
          11.5,
          10.1,
          10.1,
          9.9,
          9.9,
          8.6,
          8.6,
          9.9,
          9.9,
          10.1,
          10.1
         ],
         "y": [
          10.1,
          10.1,
          9.9,
          9.9,
          8.6,
          8.6,
          9.9,
          9.9,
          10.1,
          10.1,
          11.5,
          11.5,
          10.1
         ],
         "type": "scatter"
        },
        {
         "hoverinfo": "name",
         "line": {
          "color": "grey"
         },
         "mode": "lines",
         "name": "Obstacle",
         "showlegend": false,
         "x": [
          5.1,
          6.4,
          6.4,
          5.1,
          5.1,
          4.9,
          4.9,
          3.6,
          3.6,
          4.9,
          4.9,
          5.1,
          5.1
         ],
         "y": [
          5.1,
          5.1,
          4.9,
          4.9,
          3.6,
          3.6,
          4.9,
          4.9,
          5.1,
          5.1,
          6.5,
          6.5,
          5.1
         ],
         "type": "scatter"
        },
        {
         "hoverinfo": "name",
         "line": {
          "color": "grey"
         },
         "mode": "lines",
         "name": "Obstacle",
         "showlegend": false,
         "x": [
          5.1,
          6.4,
          6.4,
          5.1,
          5.1,
          4.9,
          4.9,
          3.6,
          3.6,
          4.9,
          4.9,
          5.1,
          5.1
         ],
         "y": [
          10.1,
          10.1,
          9.9,
          9.9,
          8.6,
          8.6,
          9.9,
          9.9,
          10.1,
          10.1,
          11.5,
          11.5,
          10.1
         ],
         "type": "scatter"
        },
        {
         "fill": "toself",
         "fillcolor": "rgba(200, 0, 0, 0.50)",
         "hoverinfo": "name",
         "line": {
          "width": 0
         },
         "mode": "lines",
         "name": "Risk Area",
         "showlegend": false,
         "x": [
          0.0,
          5.0,
          5.0,
          0.0,
          0.0
         ],
         "y": [
          0.0,
          0.0,
          5.0,
          5.0,
          0.0
         ],
         "type": "scatter"
        },
        {
         "fill": "toself",
         "fillcolor": "rgba(200, 0, 0, 0.20)",
         "hoverinfo": "name",
         "line": {
          "width": 0
         },
         "mode": "lines",
         "name": "Risk Area",
         "showlegend": false,
         "x": [
          5.0,
          10.0,
          10.0,
          5.0,
          5.0
         ],
         "y": [
          0.0,
          0.0,
          5.0,
          5.0,
          0.0
         ],
         "type": "scatter"
        },
        {
         "fill": "toself",
         "fillcolor": "rgba(200, 0, 0, 0.10)",
         "hoverinfo": "name",
         "line": {
          "width": 0
         },
         "mode": "lines",
         "name": "Risk Area",
         "showlegend": false,
         "x": [
          10.0,
          15.0,
          15.0,
          10.0,
          10.0
         ],
         "y": [
          0.0,
          0.0,
          5.0,
          5.0,
          0.0
         ],
         "type": "scatter"
        },
        {
         "fill": "toself",
         "fillcolor": "rgba(200, 0, 0, 0.00)",
         "hoverinfo": "name",
         "line": {
          "width": 0
         },
         "mode": "lines",
         "name": "Risk Area",
         "showlegend": false,
         "x": [
          10.0,
          15.0,
          15.0,
          10.0,
          10.0
         ],
         "y": [
          5.0,
          5.0,
          10.0,
          10.0,
          5.0
         ],
         "type": "scatter"
        },
        {
         "fill": "toself",
         "fillcolor": "rgba(200, 0, 0, 0.60)",
         "hoverinfo": "name",
         "line": {
          "width": 0
         },
         "mode": "lines",
         "name": "Risk Area",
         "showlegend": false,
         "x": [
          5.0,
          10.0,
          10.0,
          5.0,
          5.0
         ],
         "y": [
          5.0,
          5.0,
          10.0,
          10.0,
          5.0
         ],
         "type": "scatter"
        },
        {
         "fill": "toself",
         "fillcolor": "rgba(200, 0, 0, 0.10)",
         "hoverinfo": "name",
         "line": {
          "width": 0
         },
         "mode": "lines",
         "name": "Risk Area",
         "showlegend": false,
         "x": [
          0.0,
          5.0,
          5.0,
          0.0,
          0.0
         ],
         "y": [
          5.0,
          5.0,
          10.0,
          10.0,
          5.0
         ],
         "type": "scatter"
        },
        {
         "fill": "toself",
         "fillcolor": "rgba(200, 0, 0, 0.00)",
         "hoverinfo": "name",
         "line": {
          "width": 0
         },
         "mode": "lines",
         "name": "Risk Area",
         "showlegend": false,
         "x": [
          0.0,
          5.0,
          5.0,
          0.0,
          0.0
         ],
         "y": [
          10.0,
          10.0,
          15.0,
          15.0,
          10.0
         ],
         "type": "scatter"
        },
        {
         "fill": "toself",
         "fillcolor": "rgba(200, 0, 0, 0.30)",
         "hoverinfo": "name",
         "line": {
          "width": 0
         },
         "mode": "lines",
         "name": "Risk Area",
         "showlegend": false,
         "x": [
          5.0,
          10.0,
          10.0,
          5.0,
          5.0
         ],
         "y": [
          10.0,
          10.0,
          15.0,
          15.0,
          10.0
         ],
         "type": "scatter"
        },
        {
         "fill": "toself",
         "fillcolor": "rgba(200, 0, 0, 0.00)",
         "hoverinfo": "name",
         "line": {
          "width": 0
         },
         "mode": "lines",
         "name": "Risk Area",
         "showlegend": false,
         "x": [
          10.0,
          15.0,
          15.0,
          10.0,
          10.0
         ],
         "y": [
          10.0,
          10.0,
          15.0,
          15.0,
          10.0
         ],
         "type": "scatter"
        },
        {
         "hoverinfo": "none",
         "marker": {
          "cmax": 1.2000000000001159,
          "cmin": 0,
          "color": [
           1.1999995813686553,
           0.5116768031848485,
           1.199859116713693,
           1.198496157689276,
           1.1983382558300264,
           1.1327968332965495,
           0.8234092620113442,
           1.2000000000000115,
           0.33620504683086555,
           1.1996222114864952
          ],
          "colorbar": {
           "title": {
            "text": "Speed [m/s]"
           }
          },
          "colorscale": [
           [
            0.0,
            "rgb(128,0,0)"
           ],
           [
            0.2,
            "rgb(250,0,0)"
           ],
           [
            0.4,
            "rgb(255,255,0)"
           ],
           [
            0.6,
            "rgb(5,255,255)"
           ],
           [
            0.8,
            "rgb(0,60,170)"
           ],
           [
            1.0,
            "rgb(0,0,131)"
           ]
          ],
          "size": [
           0.4,
           0.4,
           0.4,
           0.4,
           0.4,
           0.4,
           0.4,
           0.4,
           0.4,
           0.4
          ]
         },
         "mode": "markers",
         "showlegend": false,
         "text": [
          1.1999995813686553,
          0.5116768031848485,
          1.199859116713693,
          1.198496157689276,
          1.1983382558300264,
          1.1327968332965495,
          0.8234092620113442,
          1.2000000000000115,
          0.33620504683086555,
          1.1996222114864952
         ],
         "x": [
          3.9863327738146737,
          0.8488279016949318,
          1.7258968673840784,
          2.116160882427272,
          1.692259232863783,
          1.453767774845684,
          3.0719865838614573,
          3.48879726462054,
          1.7042831428492793,
          1.7565776142251517
         ],
         "y": [
          4.268834270066489,
          1.6370406488593048,
          1.5962220773638665,
          3.5204353653542206,
          2.7972929381969065,
          3.6607508930614516,
          4.234745501580994,
          1.9561046634672852,
          3.3139640340517103,
          2.253852105302265
         ],
         "type": "scatter"
        },
        {
         "hoverinfo": "text",
         "marker": {
          "opacity": 1,
          "size": 1
         },
         "mode": "markers",
         "showlegend": false,
         "text": [
          "ID: 61, Pos(3.99,4.27)"
         ],
         "x": [
          3.9863327738146737
         ],
         "y": [
          4.268834270066489
         ],
         "type": "scatter"
        },
        {
         "hoverinfo": "text",
         "marker": {
          "opacity": 1,
          "size": 1
         },
         "mode": "markers",
         "showlegend": false,
         "text": [
          "ID: 62, Pos(0.85,1.64)"
         ],
         "x": [
          0.8488279016949318
         ],
         "y": [
          1.6370406488593048
         ],
         "type": "scatter"
        },
        {
         "hoverinfo": "text",
         "marker": {
          "opacity": 1,
          "size": 1
         },
         "mode": "markers",
         "showlegend": false,
         "text": [
          "ID: 63, Pos(1.73,1.60)"
         ],
         "x": [
          1.7258968673840784
         ],
         "y": [
          1.5962220773638665
         ],
         "type": "scatter"
        },
        {
         "hoverinfo": "text",
         "marker": {
          "opacity": 1,
          "size": 1
         },
         "mode": "markers",
         "showlegend": false,
         "text": [
          "ID: 64, Pos(2.12,3.52)"
         ],
         "x": [
          2.116160882427272
         ],
         "y": [
          3.5204353653542206
         ],
         "type": "scatter"
        },
        {
         "hoverinfo": "text",
         "marker": {
          "opacity": 1,
          "size": 1
         },
         "mode": "markers",
         "showlegend": false,
         "text": [
          "ID: 65, Pos(1.69,2.80)"
         ],
         "x": [
          1.692259232863783
         ],
         "y": [
          2.7972929381969065
         ],
         "type": "scatter"
        },
        {
         "hoverinfo": "text",
         "marker": {
          "opacity": 1,
          "size": 1
         },
         "mode": "markers",
         "showlegend": false,
         "text": [
          "ID: 66, Pos(1.45,3.66)"
         ],
         "x": [
          1.453767774845684
         ],
         "y": [
          3.6607508930614516
         ],
         "type": "scatter"
        },
        {
         "hoverinfo": "text",
         "marker": {
          "opacity": 1,
          "size": 1
         },
         "mode": "markers",
         "showlegend": false,
         "text": [
          "ID: 67, Pos(3.07,4.23)"
         ],
         "x": [
          3.0719865838614573
         ],
         "y": [
          4.234745501580994
         ],
         "type": "scatter"
        },
        {
         "hoverinfo": "text",
         "marker": {
          "opacity": 1,
          "size": 1
         },
         "mode": "markers",
         "showlegend": false,
         "text": [
          "ID: 68, Pos(3.49,1.96)"
         ],
         "x": [
          3.48879726462054
         ],
         "y": [
          1.9561046634672852
         ],
         "type": "scatter"
        },
        {
         "hoverinfo": "text",
         "marker": {
          "opacity": 1,
          "size": 1
         },
         "mode": "markers",
         "showlegend": false,
         "text": [
          "ID: 69, Pos(1.70,3.31)"
         ],
         "x": [
          1.7042831428492793
         ],
         "y": [
          3.3139640340517103
         ],
         "type": "scatter"
        },
        {
         "hoverinfo": "text",
         "marker": {
          "opacity": 1,
          "size": 1
         },
         "mode": "markers",
         "showlegend": false,
         "text": [
          "ID: 70, Pos(1.76,2.25)"
         ],
         "x": [
          1.7565776142251517
         ],
         "y": [
          2.253852105302265
         ],
         "type": "scatter"
        }
       ],
       "layout": {
        "shapes": [
         {
          "fillcolor": "rgba(0, 0, 128, 0.5)",
          "line": {
           "color": "rgba(0, 0, 128, 0.5)"
          },
          "type": "circle",
          "x0": 3.7863327738146735,
          "x1": 4.186332773814674,
          "xref": "x",
          "y0": 4.068834270066489,
          "y1": 4.468834270066489,
          "yref": "y"
         },
         {
          "fillcolor": "rgba(225, 255, 22, 0.5)",
          "line": {
           "color": "rgba(225, 255, 22, 0.5)"
          },
          "type": "circle",
          "x0": 0.6488279016949319,
          "x1": 1.0488279016949318,
          "xref": "x",
          "y0": 1.4370406488593048,
          "y1": 1.8370406488593047,
          "yref": "y"
         },
         {
          "fillcolor": "rgba(0, 0, 128, 0.5)",
          "line": {
           "color": "rgba(0, 0, 128, 0.5)"
          },
          "type": "circle",
          "x0": 1.5258968673840785,
          "x1": 1.9258968673840784,
          "xref": "x",
          "y0": 1.3962220773638665,
          "y1": 1.7962220773638664,
          "yref": "y"
         },
         {
          "fillcolor": "rgba(0, 0, 128, 0.5)",
          "line": {
           "color": "rgba(0, 0, 128, 0.5)"
          },
          "type": "circle",
          "x0": 1.916160882427272,
          "x1": 2.316160882427272,
          "xref": "x",
          "y0": 3.3204353653542205,
          "y1": 3.720435365354221,
          "yref": "y"
         },
         {
          "fillcolor": "rgba(0, 0, 128, 0.5)",
          "line": {
           "color": "rgba(0, 0, 128, 0.5)"
          },
          "type": "circle",
          "x0": 1.4922592328637831,
          "x1": 1.892259232863783,
          "xref": "x",
          "y0": 2.5972929381969063,
          "y1": 2.9972929381969067,
          "yref": "y"
         },
         {
          "fillcolor": "rgba(0, 0, 196, 0.5)",
          "line": {
           "color": "rgba(0, 0, 196, 0.5)"
          },
          "type": "circle",
          "x0": 1.2537677748456841,
          "x1": 1.653767774845684,
          "xref": "x",
          "y0": 3.4607508930614514,
          "y1": 3.860750893061452,
          "yref": "y"
         },
         {
          "fillcolor": "rgba(0, 220, 254, 0.5)",
          "line": {
           "color": "rgba(0, 220, 254, 0.5)"
          },
          "type": "circle",
          "x0": 2.871986583861457,
          "x1": 3.2719865838614575,
          "xref": "x",
          "y0": 4.034745501580994,
          "y1": 4.434745501580994,
          "yref": "y"
         },
         {
          "fillcolor": "rgba(0, 0, 128, 0.5)",
          "line": {
           "color": "rgba(0, 0, 128, 0.5)"
          },
          "type": "circle",
          "x0": 3.28879726462054,
          "x1": 3.6887972646205403,
          "xref": "x",
          "y0": 1.7561046634672852,
          "y1": 2.156104663467285,
          "yref": "y"
         },
         {
          "fillcolor": "rgba(255, 119, 0, 0.5)",
          "line": {
           "color": "rgba(255, 119, 0, 0.5)"
          },
          "type": "circle",
          "x0": 1.5042831428492793,
          "x1": 1.9042831428492792,
          "xref": "x",
          "y0": 3.11396403405171,
          "y1": 3.5139640340517104,
          "yref": "y"
         },
         {
          "fillcolor": "rgba(0, 0, 128, 0.5)",
          "line": {
           "color": "rgba(0, 0, 128, 0.5)"
          },
          "type": "circle",
          "x0": 1.5565776142251517,
          "x1": 1.9565776142251516,
          "xref": "x",
          "y0": 2.0538521053022647,
          "y1": 2.453852105302265,
          "yref": "y"
         },
         {
          "line": {
           "color": "white",
           "width": 3
          },
          "type": "line",
          "x0": 3.9863327738146737,
          "x1": 3.9863327738146737,
          "y0": 4.268834270066489,
          "y1": 4.268834270066489
         },
         {
          "line": {
           "color": "black",
           "width": 3
          },
          "type": "line",
          "x0": 0.8488279016949318,
          "x1": 0.8488279016949318,
          "y0": 1.6370406488593048,
          "y1": 1.6370406488593048
         },
         {
          "line": {
           "color": "white",
           "width": 3
          },
          "type": "line",
          "x0": 1.7258968673840784,
          "x1": 1.7258968673840784,
          "y0": 1.5962220773638665,
          "y1": 1.5962220773638665
         },
         {
          "line": {
           "color": "white",
           "width": 3
          },
          "type": "line",
          "x0": 2.116160882427272,
          "x1": 2.116160882427272,
          "y0": 3.5204353653542206,
          "y1": 3.5204353653542206
         },
         {
          "line": {
           "color": "white",
           "width": 3
          },
          "type": "line",
          "x0": 1.692259232863783,
          "x1": 1.692259232863783,
          "y0": 2.7972929381969065,
          "y1": 2.7972929381969065
         },
         {
          "line": {
           "color": "white",
           "width": 3
          },
          "type": "line",
          "x0": 1.453767774845684,
          "x1": 1.453767774845684,
          "y0": 3.6607508930614516,
          "y1": 3.6607508930614516
         },
         {
          "line": {
           "color": "black",
           "width": 3
          },
          "type": "line",
          "x0": 3.0719865838614573,
          "x1": 3.0719865838614573,
          "y0": 4.234745501580994,
          "y1": 4.234745501580994
         },
         {
          "line": {
           "color": "white",
           "width": 3
          },
          "type": "line",
          "x0": 3.48879726462054,
          "x1": 3.48879726462054,
          "y0": 1.9561046634672852,
          "y1": 1.9561046634672852
         },
         {
          "line": {
           "color": "black",
           "width": 3
          },
          "type": "line",
          "x0": 1.7042831428492793,
          "x1": 1.7042831428492793,
          "y0": 3.3139640340517103,
          "y1": 3.3139640340517103
         },
         {
          "line": {
           "color": "white",
           "width": 3
          },
          "type": "line",
          "x0": 1.7565776142251517,
          "x1": 1.7565776142251517,
          "y0": 2.253852105302265,
          "y1": 2.253852105302265
         }
        ],
        "title": {
         "text": "<b>Percentage using the shortest path: 0%  |  Number of Agents: 10</b>",
         "x": 0.5
        },
        "template": {
         "data": {
          "histogram2dcontour": [
           {
            "type": "histogram2dcontour",
            "colorbar": {
             "outlinewidth": 0,
             "ticks": ""
            },
            "colorscale": [
             [
              0.0,
              "#0d0887"
             ],
             [
              0.1111111111111111,
              "#46039f"
             ],
             [
              0.2222222222222222,
              "#7201a8"
             ],
             [
              0.3333333333333333,
              "#9c179e"
             ],
             [
              0.4444444444444444,
              "#bd3786"
             ],
             [
              0.5555555555555556,
              "#d8576b"
             ],
             [
              0.6666666666666666,
              "#ed7953"
             ],
             [
              0.7777777777777778,
              "#fb9f3a"
             ],
             [
              0.8888888888888888,
              "#fdca26"
             ],
             [
              1.0,
              "#f0f921"
             ]
            ]
           }
          ],
          "choropleth": [
           {
            "type": "choropleth",
            "colorbar": {
             "outlinewidth": 0,
             "ticks": ""
            }
           }
          ],
          "histogram2d": [
           {
            "type": "histogram2d",
            "colorbar": {
             "outlinewidth": 0,
             "ticks": ""
            },
            "colorscale": [
             [
              0.0,
              "#0d0887"
             ],
             [
              0.1111111111111111,
              "#46039f"
             ],
             [
              0.2222222222222222,
              "#7201a8"
             ],
             [
              0.3333333333333333,
              "#9c179e"
             ],
             [
              0.4444444444444444,
              "#bd3786"
             ],
             [
              0.5555555555555556,
              "#d8576b"
             ],
             [
              0.6666666666666666,
              "#ed7953"
             ],
             [
              0.7777777777777778,
              "#fb9f3a"
             ],
             [
              0.8888888888888888,
              "#fdca26"
             ],
             [
              1.0,
              "#f0f921"
             ]
            ]
           }
          ],
          "heatmap": [
           {
            "type": "heatmap",
            "colorbar": {
             "outlinewidth": 0,
             "ticks": ""
            },
            "colorscale": [
             [
              0.0,
              "#0d0887"
             ],
             [
              0.1111111111111111,
              "#46039f"
             ],
             [
              0.2222222222222222,
              "#7201a8"
             ],
             [
              0.3333333333333333,
              "#9c179e"
             ],
             [
              0.4444444444444444,
              "#bd3786"
             ],
             [
              0.5555555555555556,
              "#d8576b"
             ],
             [
              0.6666666666666666,
              "#ed7953"
             ],
             [
              0.7777777777777778,
              "#fb9f3a"
             ],
             [
              0.8888888888888888,
              "#fdca26"
             ],
             [
              1.0,
              "#f0f921"
             ]
            ]
           }
          ],
          "heatmapgl": [
           {
            "type": "heatmapgl",
            "colorbar": {
             "outlinewidth": 0,
             "ticks": ""
            },
            "colorscale": [
             [
              0.0,
              "#0d0887"
             ],
             [
              0.1111111111111111,
              "#46039f"
             ],
             [
              0.2222222222222222,
              "#7201a8"
             ],
             [
              0.3333333333333333,
              "#9c179e"
             ],
             [
              0.4444444444444444,
              "#bd3786"
             ],
             [
              0.5555555555555556,
              "#d8576b"
             ],
             [
              0.6666666666666666,
              "#ed7953"
             ],
             [
              0.7777777777777778,
              "#fb9f3a"
             ],
             [
              0.8888888888888888,
              "#fdca26"
             ],
             [
              1.0,
              "#f0f921"
             ]
            ]
           }
          ],
          "contourcarpet": [
           {
            "type": "contourcarpet",
            "colorbar": {
             "outlinewidth": 0,
             "ticks": ""
            }
           }
          ],
          "contour": [
           {
            "type": "contour",
            "colorbar": {
             "outlinewidth": 0,
             "ticks": ""
            },
            "colorscale": [
             [
              0.0,
              "#0d0887"
             ],
             [
              0.1111111111111111,
              "#46039f"
             ],
             [
              0.2222222222222222,
              "#7201a8"
             ],
             [
              0.3333333333333333,
              "#9c179e"
             ],
             [
              0.4444444444444444,
              "#bd3786"
             ],
             [
              0.5555555555555556,
              "#d8576b"
             ],
             [
              0.6666666666666666,
              "#ed7953"
             ],
             [
              0.7777777777777778,
              "#fb9f3a"
             ],
             [
              0.8888888888888888,
              "#fdca26"
             ],
             [
              1.0,
              "#f0f921"
             ]
            ]
           }
          ],
          "surface": [
           {
            "type": "surface",
            "colorbar": {
             "outlinewidth": 0,
             "ticks": ""
            },
            "colorscale": [
             [
              0.0,
              "#0d0887"
             ],
             [
              0.1111111111111111,
              "#46039f"
             ],
             [
              0.2222222222222222,
              "#7201a8"
             ],
             [
              0.3333333333333333,
              "#9c179e"
             ],
             [
              0.4444444444444444,
              "#bd3786"
             ],
             [
              0.5555555555555556,
              "#d8576b"
             ],
             [
              0.6666666666666666,
              "#ed7953"
             ],
             [
              0.7777777777777778,
              "#fb9f3a"
             ],
             [
              0.8888888888888888,
              "#fdca26"
             ],
             [
              1.0,
              "#f0f921"
             ]
            ]
           }
          ],
          "mesh3d": [
           {
            "type": "mesh3d",
            "colorbar": {
             "outlinewidth": 0,
             "ticks": ""
            }
           }
          ],
          "scatter": [
           {
            "marker": {
             "line": {
              "color": "#283442"
             }
            },
            "type": "scatter"
           }
          ],
          "parcoords": [
           {
            "type": "parcoords",
            "line": {
             "colorbar": {
              "outlinewidth": 0,
              "ticks": ""
             }
            }
           }
          ],
          "scatterpolargl": [
           {
            "type": "scatterpolargl",
            "marker": {
             "colorbar": {
              "outlinewidth": 0,
              "ticks": ""
             }
            }
           }
          ],
          "bar": [
           {
            "error_x": {
             "color": "#f2f5fa"
            },
            "error_y": {
             "color": "#f2f5fa"
            },
            "marker": {
             "line": {
              "color": "rgb(17,17,17)",
              "width": 0.5
             },
             "pattern": {
              "fillmode": "overlay",
              "size": 10,
              "solidity": 0.2
             }
            },
            "type": "bar"
           }
          ],
          "scattergeo": [
           {
            "type": "scattergeo",
            "marker": {
             "colorbar": {
              "outlinewidth": 0,
              "ticks": ""
             }
            }
           }
          ],
          "scatterpolar": [
           {
            "type": "scatterpolar",
            "marker": {
             "colorbar": {
              "outlinewidth": 0,
              "ticks": ""
             }
            }
           }
          ],
          "histogram": [
           {
            "marker": {
             "pattern": {
              "fillmode": "overlay",
              "size": 10,
              "solidity": 0.2
             }
            },
            "type": "histogram"
           }
          ],
          "scattergl": [
           {
            "marker": {
             "line": {
              "color": "#283442"
             }
            },
            "type": "scattergl"
           }
          ],
          "scatter3d": [
           {
            "type": "scatter3d",
            "line": {
             "colorbar": {
              "outlinewidth": 0,
              "ticks": ""
             }
            },
            "marker": {
             "colorbar": {
              "outlinewidth": 0,
              "ticks": ""
             }
            }
           }
          ],
          "scattermapbox": [
           {
            "type": "scattermapbox",
            "marker": {
             "colorbar": {
              "outlinewidth": 0,
              "ticks": ""
             }
            }
           }
          ],
          "scatterternary": [
           {
            "type": "scatterternary",
            "marker": {
             "colorbar": {
              "outlinewidth": 0,
              "ticks": ""
             }
            }
           }
          ],
          "scattercarpet": [
           {
            "type": "scattercarpet",
            "marker": {
             "colorbar": {
              "outlinewidth": 0,
              "ticks": ""
             }
            }
           }
          ],
          "carpet": [
           {
            "aaxis": {
             "endlinecolor": "#A2B1C6",
             "gridcolor": "#506784",
             "linecolor": "#506784",
             "minorgridcolor": "#506784",
             "startlinecolor": "#A2B1C6"
            },
            "baxis": {
             "endlinecolor": "#A2B1C6",
             "gridcolor": "#506784",
             "linecolor": "#506784",
             "minorgridcolor": "#506784",
             "startlinecolor": "#A2B1C6"
            },
            "type": "carpet"
           }
          ],
          "table": [
           {
            "cells": {
             "fill": {
              "color": "#506784"
             },
             "line": {
              "color": "rgb(17,17,17)"
             }
            },
            "header": {
             "fill": {
              "color": "#2a3f5f"
             },
             "line": {
              "color": "rgb(17,17,17)"
             }
            },
            "type": "table"
           }
          ],
          "barpolar": [
           {
            "marker": {
             "line": {
              "color": "rgb(17,17,17)",
              "width": 0.5
             },
             "pattern": {
              "fillmode": "overlay",
              "size": 10,
              "solidity": 0.2
             }
            },
            "type": "barpolar"
           }
          ],
          "pie": [
           {
            "automargin": true,
            "type": "pie"
           }
          ]
         },
         "layout": {
          "autotypenumbers": "strict",
          "colorway": [
           "#636efa",
           "#EF553B",
           "#00cc96",
           "#ab63fa",
           "#FFA15A",
           "#19d3f3",
           "#FF6692",
           "#B6E880",
           "#FF97FF",
           "#FECB52"
          ],
          "font": {
           "color": "#f2f5fa"
          },
          "hovermode": "closest",
          "hoverlabel": {
           "align": "left"
          },
          "paper_bgcolor": "rgb(17,17,17)",
          "plot_bgcolor": "rgb(17,17,17)",
          "polar": {
           "bgcolor": "rgb(17,17,17)",
           "angularaxis": {
            "gridcolor": "#506784",
            "linecolor": "#506784",
            "ticks": ""
           },
           "radialaxis": {
            "gridcolor": "#506784",
            "linecolor": "#506784",
            "ticks": ""
           }
          },
          "ternary": {
           "bgcolor": "rgb(17,17,17)",
           "aaxis": {
            "gridcolor": "#506784",
            "linecolor": "#506784",
            "ticks": ""
           },
           "baxis": {
            "gridcolor": "#506784",
            "linecolor": "#506784",
            "ticks": ""
           },
           "caxis": {
            "gridcolor": "#506784",
            "linecolor": "#506784",
            "ticks": ""
           }
          },
          "coloraxis": {
           "colorbar": {
            "outlinewidth": 0,
            "ticks": ""
           }
          },
          "colorscale": {
           "sequential": [
            [
             0.0,
             "#0d0887"
            ],
            [
             0.1111111111111111,
             "#46039f"
            ],
            [
             0.2222222222222222,
             "#7201a8"
            ],
            [
             0.3333333333333333,
             "#9c179e"
            ],
            [
             0.4444444444444444,
             "#bd3786"
            ],
            [
             0.5555555555555556,
             "#d8576b"
            ],
            [
             0.6666666666666666,
             "#ed7953"
            ],
            [
             0.7777777777777778,
             "#fb9f3a"
            ],
            [
             0.8888888888888888,
             "#fdca26"
            ],
            [
             1.0,
             "#f0f921"
            ]
           ],
           "sequentialminus": [
            [
             0.0,
             "#0d0887"
            ],
            [
             0.1111111111111111,
             "#46039f"
            ],
            [
             0.2222222222222222,
             "#7201a8"
            ],
            [
             0.3333333333333333,
             "#9c179e"
            ],
            [
             0.4444444444444444,
             "#bd3786"
            ],
            [
             0.5555555555555556,
             "#d8576b"
            ],
            [
             0.6666666666666666,
             "#ed7953"
            ],
            [
             0.7777777777777778,
             "#fb9f3a"
            ],
            [
             0.8888888888888888,
             "#fdca26"
            ],
            [
             1.0,
             "#f0f921"
            ]
           ],
           "diverging": [
            [
             0,
             "#8e0152"
            ],
            [
             0.1,
             "#c51b7d"
            ],
            [
             0.2,
             "#de77ae"
            ],
            [
             0.3,
             "#f1b6da"
            ],
            [
             0.4,
             "#fde0ef"
            ],
            [
             0.5,
             "#f7f7f7"
            ],
            [
             0.6,
             "#e6f5d0"
            ],
            [
             0.7,
             "#b8e186"
            ],
            [
             0.8,
             "#7fbc41"
            ],
            [
             0.9,
             "#4d9221"
            ],
            [
             1,
             "#276419"
            ]
           ]
          },
          "xaxis": {
           "gridcolor": "#283442",
           "linecolor": "#506784",
           "ticks": "",
           "title": {
            "standoff": 15
           },
           "zerolinecolor": "#283442",
           "automargin": true,
           "zerolinewidth": 2
          },
          "yaxis": {
           "gridcolor": "#283442",
           "linecolor": "#506784",
           "ticks": "",
           "title": {
            "standoff": 15
           },
           "zerolinecolor": "#283442",
           "automargin": true,
           "zerolinewidth": 2
          },
          "scene": {
           "xaxis": {
            "backgroundcolor": "rgb(17,17,17)",
            "gridcolor": "#506784",
            "linecolor": "#506784",
            "showbackground": true,
            "ticks": "",
            "zerolinecolor": "#C8D4E3",
            "gridwidth": 2
           },
           "yaxis": {
            "backgroundcolor": "rgb(17,17,17)",
            "gridcolor": "#506784",
            "linecolor": "#506784",
            "showbackground": true,
            "ticks": "",
            "zerolinecolor": "#C8D4E3",
            "gridwidth": 2
           },
           "zaxis": {
            "backgroundcolor": "rgb(17,17,17)",
            "gridcolor": "#506784",
            "linecolor": "#506784",
            "showbackground": true,
            "ticks": "",
            "zerolinecolor": "#C8D4E3",
            "gridwidth": 2
           }
          },
          "shapedefaults": {
           "line": {
            "color": "#f2f5fa"
           }
          },
          "annotationdefaults": {
           "arrowcolor": "#f2f5fa",
           "arrowhead": 0,
           "arrowwidth": 1
          },
          "geo": {
           "bgcolor": "rgb(17,17,17)",
           "landcolor": "rgb(17,17,17)",
           "subunitcolor": "#506784",
           "showland": true,
           "showlakes": true,
           "lakecolor": "rgb(17,17,17)"
          },
          "title": {
           "x": 0.05
          },
          "updatemenudefaults": {
           "bgcolor": "#506784",
           "borderwidth": 0
          },
          "sliderdefaults": {
           "bgcolor": "#C8D4E3",
           "borderwidth": 1,
           "bordercolor": "rgb(17,17,17)",
           "tickwidth": 0
          },
          "mapbox": {
           "style": "dark"
          }
         }
        },
        "xaxis": {
         "range": [
          -0.5,
          15.5
         ]
        },
        "yaxis": {
         "scaleanchor": "x",
         "scaleratio": 1,
         "range": [
          -0.5,
          15.5
         ]
        },
        "updatemenus": [
         {
          "buttons": [
           {
            "args": [
             null,
             {
              "frame": {
               "duration": 100,
               "redraw": true
              },
              "fromcurrent": true
             }
            ],
            "label": "Play",
            "method": "animate"
           }
          ],
          "direction": "left",
          "pad": {
           "r": 10,
           "t": 87
          },
          "showactive": false,
          "type": "buttons",
          "x": 0.1,
          "xanchor": "right",
          "y": 0,
          "yanchor": "top"
         }
        ],
        "sliders": [
         {
          "active": 0,
          "currentvalue": {
           "font": {
            "size": 20
           },
           "prefix": "Frame:",
           "visible": true,
           "xanchor": "right"
          },
          "len": 0.9,
          "pad": {
           "b": 10,
           "t": 50
          },
          "steps": [
           {
            "args": [
             [
              "0"
             ],
             {
              "frame": {
               "duration": 100,
               "redraw": true
              },
              "mode": "immediate",
              "transition": {
               "duration": 500
              }
             }
            ],
            "label": "0",
            "method": "animate"
           },
           {
            "args": [
             [
              "50"
             ],
             {
              "frame": {
               "duration": 100,
               "redraw": true
              },
              "mode": "immediate",
              "transition": {
               "duration": 500
              }
             }
            ],
            "label": "50",
            "method": "animate"
           },
           {
            "args": [
             [
              "100"
             ],
             {
              "frame": {
               "duration": 100,
               "redraw": true
              },
              "mode": "immediate",
              "transition": {
               "duration": 500
              }
             }
            ],
            "label": "100",
            "method": "animate"
           },
           {
            "args": [
             [
              "150"
             ],
             {
              "frame": {
               "duration": 100,
               "redraw": true
              },
              "mode": "immediate",
              "transition": {
               "duration": 500
              }
             }
            ],
            "label": "150",
            "method": "animate"
           },
           {
            "args": [
             [
              "200"
             ],
             {
              "frame": {
               "duration": 100,
               "redraw": true
              },
              "mode": "immediate",
              "transition": {
               "duration": 500
              }
             }
            ],
            "label": "200",
            "method": "animate"
           },
           {
            "args": [
             [
              "250"
             ],
             {
              "frame": {
               "duration": 100,
               "redraw": true
              },
              "mode": "immediate",
              "transition": {
               "duration": 500
              }
             }
            ],
            "label": "250",
            "method": "animate"
           },
           {
            "args": [
             [
              "300"
             ],
             {
              "frame": {
               "duration": 100,
               "redraw": true
              },
              "mode": "immediate",
              "transition": {
               "duration": 500
              }
             }
            ],
            "label": "300",
            "method": "animate"
           },
           {
            "args": [
             [
              "350"
             ],
             {
              "frame": {
               "duration": 100,
               "redraw": true
              },
              "mode": "immediate",
              "transition": {
               "duration": 500
              }
             }
            ],
            "label": "350",
            "method": "animate"
           },
           {
            "args": [
             [
              "400"
             ],
             {
              "frame": {
               "duration": 100,
               "redraw": true
              },
              "mode": "immediate",
              "transition": {
               "duration": 500
              }
             }
            ],
            "label": "400",
            "method": "animate"
           },
           {
            "args": [
             [
              "450"
             ],
             {
              "frame": {
               "duration": 100,
               "redraw": true
              },
              "mode": "immediate",
              "transition": {
               "duration": 500
              }
             }
            ],
            "label": "450",
            "method": "animate"
           },
           {
            "args": [
             [
              "500"
             ],
             {
              "frame": {
               "duration": 100,
               "redraw": true
              },
              "mode": "immediate",
              "transition": {
               "duration": 500
              }
             }
            ],
            "label": "500",
            "method": "animate"
           },
           {
            "args": [
             [
              "550"
             ],
             {
              "frame": {
               "duration": 100,
               "redraw": true
              },
              "mode": "immediate",
              "transition": {
               "duration": 500
              }
             }
            ],
            "label": "550",
            "method": "animate"
           },
           {
            "args": [
             [
              "600"
             ],
             {
              "frame": {
               "duration": 100,
               "redraw": true
              },
              "mode": "immediate",
              "transition": {
               "duration": 500
              }
             }
            ],
            "label": "600",
            "method": "animate"
           },
           {
            "args": [
             [
              "650"
             ],
             {
              "frame": {
               "duration": 100,
               "redraw": true
              },
              "mode": "immediate",
              "transition": {
               "duration": 500
              }
             }
            ],
            "label": "650",
            "method": "animate"
           },
           {
            "args": [
             [
              "700"
             ],
             {
              "frame": {
               "duration": 100,
               "redraw": true
              },
              "mode": "immediate",
              "transition": {
               "duration": 500
              }
             }
            ],
            "label": "700",
            "method": "animate"
           },
           {
            "args": [
             [
              "750"
             ],
             {
              "frame": {
               "duration": 100,
               "redraw": true
              },
              "mode": "immediate",
              "transition": {
               "duration": 500
              }
             }
            ],
            "label": "750",
            "method": "animate"
           },
           {
            "args": [
             [
              "800"
             ],
             {
              "frame": {
               "duration": 100,
               "redraw": true
              },
              "mode": "immediate",
              "transition": {
               "duration": 500
              }
             }
            ],
            "label": "800",
            "method": "animate"
           },
           {
            "args": [
             [
              "850"
             ],
             {
              "frame": {
               "duration": 100,
               "redraw": true
              },
              "mode": "immediate",
              "transition": {
               "duration": 500
              }
             }
            ],
            "label": "850",
            "method": "animate"
           },
           {
            "args": [
             [
              "900"
             ],
             {
              "frame": {
               "duration": 100,
               "redraw": true
              },
              "mode": "immediate",
              "transition": {
               "duration": 500
              }
             }
            ],
            "label": "900",
            "method": "animate"
           },
           {
            "args": [
             [
              "950"
             ],
             {
              "frame": {
               "duration": 100,
               "redraw": true
              },
              "mode": "immediate",
              "transition": {
               "duration": 500
              }
             }
            ],
            "label": "950",
            "method": "animate"
           },
           {
            "args": [
             [
              "1000"
             ],
             {
              "frame": {
               "duration": 100,
               "redraw": true
              },
              "mode": "immediate",
              "transition": {
               "duration": 500
              }
             }
            ],
            "label": "1000",
            "method": "animate"
           },
           {
            "args": [
             [
              "1050"
             ],
             {
              "frame": {
               "duration": 100,
               "redraw": true
              },
              "mode": "immediate",
              "transition": {
               "duration": 500
              }
             }
            ],
            "label": "1050",
            "method": "animate"
           },
           {
            "args": [
             [
              "1100"
             ],
             {
              "frame": {
               "duration": 100,
               "redraw": true
              },
              "mode": "immediate",
              "transition": {
               "duration": 500
              }
             }
            ],
            "label": "1100",
            "method": "animate"
           },
           {
            "args": [
             [
              "1150"
             ],
             {
              "frame": {
               "duration": 100,
               "redraw": true
              },
              "mode": "immediate",
              "transition": {
               "duration": 500
              }
             }
            ],
            "label": "1150",
            "method": "animate"
           },
           {
            "args": [
             [
              "1200"
             ],
             {
              "frame": {
               "duration": 100,
               "redraw": true
              },
              "mode": "immediate",
              "transition": {
               "duration": 500
              }
             }
            ],
            "label": "1200",
            "method": "animate"
           },
           {
            "args": [
             [
              "1250"
             ],
             {
              "frame": {
               "duration": 100,
               "redraw": true
              },
              "mode": "immediate",
              "transition": {
               "duration": 500
              }
             }
            ],
            "label": "1250",
            "method": "animate"
           }
          ],
          "transition": {
           "duration": 100,
           "easing": "cubic-in-out"
          },
          "x": 0.1,
          "xanchor": "left",
          "y": 0,
          "yanchor": "top"
         }
        ],
        "autosize": false,
        "width": 800,
        "height": 800
       },
       "frames": [
        {
         "data": [
          {
           "hoverinfo": "name",
           "line": {
            "color": "grey"
           },
           "mode": "lines",
           "name": "Exterior",
           "showlegend": false,
           "x": [
            10.1,
            10.1,
            15.0,
            15.0,
            13.6,
            13.6,
            15.0,
            15.0,
            13.6,
            13.6,
            15.0,
            15.0,
            10.1,
            10.1,
            9.9,
            9.9,
            5.1,
            5.1,
            4.9,
            4.9,
            0.0,
            0.0,
            1.5,
            1.5,
            0.0,
            0.0,
            1.5,
            1.5,
            0.0,
            0.0,
            4.9,
            4.9,
            5.1,
            5.1,
            9.9,
            9.9,
            10.1
           ],
           "y": [
            1.5,
            0.0,
            0.0,
            4.9,
            4.9,
            5.1,
            5.1,
            9.9,
            9.9,
            10.1,
            10.1,
            15.0,
            15.0,
            13.6,
            13.6,
            15.0,
            15.0,
            13.6,
            13.6,
            15.0,
            15.0,
            10.1,
            10.1,
            9.9,
            9.9,
            5.1,
            5.1,
            4.9,
            4.9,
            0.0,
            0.0,
            1.5,
            1.5,
            0.0,
            0.0,
            1.5,
            1.5
           ],
           "type": "scatter"
          },
          {
           "hoverinfo": "name",
           "line": {
            "color": "grey"
           },
           "mode": "lines",
           "name": "Obstacle",
           "showlegend": false,
           "x": [
            10.1,
            11.5,
            11.5,
            10.1,
            10.1,
            9.9,
            9.9,
            8.6,
            8.6,
            9.9,
            9.9,
            10.1,
            10.1
           ],
           "y": [
            5.1,
            5.1,
            4.9,
            4.9,
            3.6,
            3.6,
            4.9,
            4.9,
            5.1,
            5.1,
            6.5,
            6.5,
            5.1
           ],
           "type": "scatter"
          },
          {
           "hoverinfo": "name",
           "line": {
            "color": "grey"
           },
           "mode": "lines",
           "name": "Obstacle",
           "showlegend": false,
           "x": [
            10.1,
            11.5,
            11.5,
            10.1,
            10.1,
            9.9,
            9.9,
            8.6,
            8.6,
            9.9,
            9.9,
            10.1,
            10.1
           ],
           "y": [
            10.1,
            10.1,
            9.9,
            9.9,
            8.6,
            8.6,
            9.9,
            9.9,
            10.1,
            10.1,
            11.5,
            11.5,
            10.1
           ],
           "type": "scatter"
          },
          {
           "hoverinfo": "name",
           "line": {
            "color": "grey"
           },
           "mode": "lines",
           "name": "Obstacle",
           "showlegend": false,
           "x": [
            5.1,
            6.4,
            6.4,
            5.1,
            5.1,
            4.9,
            4.9,
            3.6,
            3.6,
            4.9,
            4.9,
            5.1,
            5.1
           ],
           "y": [
            5.1,
            5.1,
            4.9,
            4.9,
            3.6,
            3.6,
            4.9,
            4.9,
            5.1,
            5.1,
            6.5,
            6.5,
            5.1
           ],
           "type": "scatter"
          },
          {
           "hoverinfo": "name",
           "line": {
            "color": "grey"
           },
           "mode": "lines",
           "name": "Obstacle",
           "showlegend": false,
           "x": [
            5.1,
            6.4,
            6.4,
            5.1,
            5.1,
            4.9,
            4.9,
            3.6,
            3.6,
            4.9,
            4.9,
            5.1,
            5.1
           ],
           "y": [
            10.1,
            10.1,
            9.9,
            9.9,
            8.6,
            8.6,
            9.9,
            9.9,
            10.1,
            10.1,
            11.5,
            11.5,
            10.1
           ],
           "type": "scatter"
          },
          {
           "fill": "toself",
           "fillcolor": "rgba(200, 0, 0, 0.00)",
           "hoverinfo": "name",
           "line": {
            "width": 0
           },
           "mode": "lines",
           "name": "Risk Area",
           "showlegend": false,
           "x": [
            0.0,
            5.0,
            5.0,
            0.0,
            0.0
           ],
           "y": [
            0.0,
            0.0,
            5.0,
            5.0,
            0.0
           ],
           "type": "scatter"
          },
          {
           "fill": "toself",
           "fillcolor": "rgba(200, 0, 0, 0.10)",
           "hoverinfo": "name",
           "line": {
            "width": 0
           },
           "mode": "lines",
           "name": "Risk Area",
           "showlegend": false,
           "x": [
            5.0,
            10.0,
            10.0,
            5.0,
            5.0
           ],
           "y": [
            0.0,
            0.0,
            5.0,
            5.0,
            0.0
           ],
           "type": "scatter"
          },
          {
           "fill": "toself",
           "fillcolor": "rgba(200, 0, 0, 0.00)",
           "hoverinfo": "name",
           "line": {
            "width": 0
           },
           "mode": "lines",
           "name": "Risk Area",
           "showlegend": false,
           "x": [
            10.0,
            15.0,
            15.0,
            10.0,
            10.0
           ],
           "y": [
            0.0,
            0.0,
            5.0,
            5.0,
            0.0
           ],
           "type": "scatter"
          },
          {
           "fill": "toself",
           "fillcolor": "rgba(200, 0, 0, 0.00)",
           "hoverinfo": "name",
           "line": {
            "width": 0
           },
           "mode": "lines",
           "name": "Risk Area",
           "showlegend": false,
           "x": [
            10.0,
            15.0,
            15.0,
            10.0,
            10.0
           ],
           "y": [
            5.0,
            5.0,
            10.0,
            10.0,
            5.0
           ],
           "type": "scatter"
          },
          {
           "fill": "toself",
           "fillcolor": "rgba(200, 0, 0, 0.30)",
           "hoverinfo": "name",
           "line": {
            "width": 0
           },
           "mode": "lines",
           "name": "Risk Area",
           "showlegend": false,
           "x": [
            5.0,
            10.0,
            10.0,
            5.0,
            5.0
           ],
           "y": [
            5.0,
            5.0,
            10.0,
            10.0,
            5.0
           ],
           "type": "scatter"
          },
          {
           "fill": "toself",
           "fillcolor": "rgba(200, 0, 0, 0.00)",
           "hoverinfo": "name",
           "line": {
            "width": 0
           },
           "mode": "lines",
           "name": "Risk Area",
           "showlegend": false,
           "x": [
            0.0,
            5.0,
            5.0,
            0.0,
            0.0
           ],
           "y": [
            5.0,
            5.0,
            10.0,
            10.0,
            5.0
           ],
           "type": "scatter"
          },
          {
           "fill": "toself",
           "fillcolor": "rgba(200, 0, 0, 0.00)",
           "hoverinfo": "name",
           "line": {
            "width": 0
           },
           "mode": "lines",
           "name": "Risk Area",
           "showlegend": false,
           "x": [
            0.0,
            5.0,
            5.0,
            0.0,
            0.0
           ],
           "y": [
            10.0,
            10.0,
            15.0,
            15.0,
            10.0
           ],
           "type": "scatter"
          },
          {
           "fill": "toself",
           "fillcolor": "rgba(200, 0, 0, 0.00)",
           "hoverinfo": "name",
           "line": {
            "width": 0
           },
           "mode": "lines",
           "name": "Risk Area",
           "showlegend": false,
           "x": [
            5.0,
            10.0,
            10.0,
            5.0,
            5.0
           ],
           "y": [
            10.0,
            10.0,
            15.0,
            15.0,
            10.0
           ],
           "type": "scatter"
          },
          {
           "fill": "toself",
           "fillcolor": "rgba(200, 0, 0, 0.00)",
           "hoverinfo": "name",
           "line": {
            "width": 0
           },
           "mode": "lines",
           "name": "Risk Area",
           "showlegend": false,
           "x": [
            10.0,
            15.0,
            15.0,
            10.0,
            10.0
           ],
           "y": [
            10.0,
            10.0,
            15.0,
            15.0,
            10.0
           ],
           "type": "scatter"
          },
          {
           "hoverinfo": "text",
           "marker": {
            "opacity": 1,
            "size": 1
           },
           "mode": "markers",
           "showlegend": false,
           "text": [
            "ID: 61, Pos(3.99,4.27)"
           ],
           "x": [
            3.9863327738146737
           ],
           "y": [
            4.268834270066489
           ],
           "type": "scatter"
          },
          {
           "hoverinfo": "text",
           "marker": {
            "opacity": 1,
            "size": 1
           },
           "mode": "markers",
           "showlegend": false,
           "text": [
            "ID: 62, Pos(0.85,1.64)"
           ],
           "x": [
            0.8488279016949318
           ],
           "y": [
            1.6370406488593048
           ],
           "type": "scatter"
          },
          {
           "hoverinfo": "text",
           "marker": {
            "opacity": 1,
            "size": 1
           },
           "mode": "markers",
           "showlegend": false,
           "text": [
            "ID: 63, Pos(1.73,1.60)"
           ],
           "x": [
            1.7258968673840784
           ],
           "y": [
            1.5962220773638665
           ],
           "type": "scatter"
          },
          {
           "hoverinfo": "text",
           "marker": {
            "opacity": 1,
            "size": 1
           },
           "mode": "markers",
           "showlegend": false,
           "text": [
            "ID: 64, Pos(2.12,3.52)"
           ],
           "x": [
            2.116160882427272
           ],
           "y": [
            3.5204353653542206
           ],
           "type": "scatter"
          },
          {
           "hoverinfo": "text",
           "marker": {
            "opacity": 1,
            "size": 1
           },
           "mode": "markers",
           "showlegend": false,
           "text": [
            "ID: 65, Pos(1.69,2.80)"
           ],
           "x": [
            1.692259232863783
           ],
           "y": [
            2.7972929381969065
           ],
           "type": "scatter"
          },
          {
           "hoverinfo": "text",
           "marker": {
            "opacity": 1,
            "size": 1
           },
           "mode": "markers",
           "showlegend": false,
           "text": [
            "ID: 66, Pos(1.45,3.66)"
           ],
           "x": [
            1.453767774845684
           ],
           "y": [
            3.6607508930614516
           ],
           "type": "scatter"
          },
          {
           "hoverinfo": "text",
           "marker": {
            "opacity": 1,
            "size": 1
           },
           "mode": "markers",
           "showlegend": false,
           "text": [
            "ID: 67, Pos(3.07,4.23)"
           ],
           "x": [
            3.0719865838614573
           ],
           "y": [
            4.234745501580994
           ],
           "type": "scatter"
          },
          {
           "hoverinfo": "text",
           "marker": {
            "opacity": 1,
            "size": 1
           },
           "mode": "markers",
           "showlegend": false,
           "text": [
            "ID: 68, Pos(3.49,1.96)"
           ],
           "x": [
            3.48879726462054
           ],
           "y": [
            1.9561046634672852
           ],
           "type": "scatter"
          },
          {
           "hoverinfo": "text",
           "marker": {
            "opacity": 1,
            "size": 1
           },
           "mode": "markers",
           "showlegend": false,
           "text": [
            "ID: 69, Pos(1.70,3.31)"
           ],
           "x": [
            1.7042831428492793
           ],
           "y": [
            3.3139640340517103
           ],
           "type": "scatter"
          },
          {
           "hoverinfo": "text",
           "marker": {
            "opacity": 1,
            "size": 1
           },
           "mode": "markers",
           "showlegend": false,
           "text": [
            "ID: 70, Pos(1.76,2.25)"
           ],
           "x": [
            1.7565776142251517
           ],
           "y": [
            2.253852105302265
           ],
           "type": "scatter"
          }
         ],
         "layout": {
          "shapes": [
           {
            "fillcolor": "rgba(0, 0, 128, 0.5)",
            "line": {
             "color": "rgba(0, 0, 128, 0.5)"
            },
            "type": "circle",
            "x0": 3.7863327738146735,
            "x1": 4.186332773814674,
            "xref": "x",
            "y0": 4.068834270066489,
            "y1": 4.468834270066489,
            "yref": "y"
           },
           {
            "fillcolor": "rgba(225, 255, 22, 0.5)",
            "line": {
             "color": "rgba(225, 255, 22, 0.5)"
            },
            "type": "circle",
            "x0": 0.6488279016949319,
            "x1": 1.0488279016949318,
            "xref": "x",
            "y0": 1.4370406488593048,
            "y1": 1.8370406488593047,
            "yref": "y"
           },
           {
            "fillcolor": "rgba(0, 0, 128, 0.5)",
            "line": {
             "color": "rgba(0, 0, 128, 0.5)"
            },
            "type": "circle",
            "x0": 1.5258968673840785,
            "x1": 1.9258968673840784,
            "xref": "x",
            "y0": 1.3962220773638665,
            "y1": 1.7962220773638664,
            "yref": "y"
           },
           {
            "fillcolor": "rgba(0, 0, 128, 0.5)",
            "line": {
             "color": "rgba(0, 0, 128, 0.5)"
            },
            "type": "circle",
            "x0": 1.916160882427272,
            "x1": 2.316160882427272,
            "xref": "x",
            "y0": 3.3204353653542205,
            "y1": 3.720435365354221,
            "yref": "y"
           },
           {
            "fillcolor": "rgba(0, 0, 128, 0.5)",
            "line": {
             "color": "rgba(0, 0, 128, 0.5)"
            },
            "type": "circle",
            "x0": 1.4922592328637831,
            "x1": 1.892259232863783,
            "xref": "x",
            "y0": 2.5972929381969063,
            "y1": 2.9972929381969067,
            "yref": "y"
           },
           {
            "fillcolor": "rgba(0, 0, 196, 0.5)",
            "line": {
             "color": "rgba(0, 0, 196, 0.5)"
            },
            "type": "circle",
            "x0": 1.2537677748456841,
            "x1": 1.653767774845684,
            "xref": "x",
            "y0": 3.4607508930614514,
            "y1": 3.860750893061452,
            "yref": "y"
           },
           {
            "fillcolor": "rgba(0, 220, 254, 0.5)",
            "line": {
             "color": "rgba(0, 220, 254, 0.5)"
            },
            "type": "circle",
            "x0": 2.871986583861457,
            "x1": 3.2719865838614575,
            "xref": "x",
            "y0": 4.034745501580994,
            "y1": 4.434745501580994,
            "yref": "y"
           },
           {
            "fillcolor": "rgba(0, 0, 128, 0.5)",
            "line": {
             "color": "rgba(0, 0, 128, 0.5)"
            },
            "type": "circle",
            "x0": 3.28879726462054,
            "x1": 3.6887972646205403,
            "xref": "x",
            "y0": 1.7561046634672852,
            "y1": 2.156104663467285,
            "yref": "y"
           },
           {
            "fillcolor": "rgba(255, 119, 0, 0.5)",
            "line": {
             "color": "rgba(255, 119, 0, 0.5)"
            },
            "type": "circle",
            "x0": 1.5042831428492793,
            "x1": 1.9042831428492792,
            "xref": "x",
            "y0": 3.11396403405171,
            "y1": 3.5139640340517104,
            "yref": "y"
           },
           {
            "fillcolor": "rgba(0, 0, 128, 0.5)",
            "line": {
             "color": "rgba(0, 0, 128, 0.5)"
            },
            "type": "circle",
            "x0": 1.5565776142251517,
            "x1": 1.9565776142251516,
            "xref": "x",
            "y0": 2.0538521053022647,
            "y1": 2.453852105302265,
            "yref": "y"
           },
           {
            "line": {
             "color": "white",
             "width": 3
            },
            "type": "line",
            "x0": 3.9863327738146737,
            "x1": 3.9863327738146737,
            "y0": 4.268834270066489,
            "y1": 4.268834270066489
           },
           {
            "line": {
             "color": "black",
             "width": 3
            },
            "type": "line",
            "x0": 0.8488279016949318,
            "x1": 0.8488279016949318,
            "y0": 1.6370406488593048,
            "y1": 1.6370406488593048
           },
           {
            "line": {
             "color": "white",
             "width": 3
            },
            "type": "line",
            "x0": 1.7258968673840784,
            "x1": 1.7258968673840784,
            "y0": 1.5962220773638665,
            "y1": 1.5962220773638665
           },
           {
            "line": {
             "color": "white",
             "width": 3
            },
            "type": "line",
            "x0": 2.116160882427272,
            "x1": 2.116160882427272,
            "y0": 3.5204353653542206,
            "y1": 3.5204353653542206
           },
           {
            "line": {
             "color": "white",
             "width": 3
            },
            "type": "line",
            "x0": 1.692259232863783,
            "x1": 1.692259232863783,
            "y0": 2.7972929381969065,
            "y1": 2.7972929381969065
           },
           {
            "line": {
             "color": "white",
             "width": 3
            },
            "type": "line",
            "x0": 1.453767774845684,
            "x1": 1.453767774845684,
            "y0": 3.6607508930614516,
            "y1": 3.6607508930614516
           },
           {
            "line": {
             "color": "black",
             "width": 3
            },
            "type": "line",
            "x0": 3.0719865838614573,
            "x1": 3.0719865838614573,
            "y0": 4.234745501580994,
            "y1": 4.234745501580994
           },
           {
            "line": {
             "color": "white",
             "width": 3
            },
            "type": "line",
            "x0": 3.48879726462054,
            "x1": 3.48879726462054,
            "y0": 1.9561046634672852,
            "y1": 1.9561046634672852
           },
           {
            "line": {
             "color": "black",
             "width": 3
            },
            "type": "line",
            "x0": 1.7042831428492793,
            "x1": 1.7042831428492793,
            "y0": 3.3139640340517103,
            "y1": 3.3139640340517103
           },
           {
            "line": {
             "color": "white",
             "width": 3
            },
            "type": "line",
            "x0": 1.7565776142251517,
            "x1": 1.7565776142251517,
            "y0": 2.253852105302265,
            "y1": 2.253852105302265
           }
          ],
          "title": {
           "text": "<b>Percentage using the shortest path: 0%  |  Number of Agents: 10</b>",
           "x": 0.5
          }
         },
         "name": "0"
        },
        {
         "data": [
          {
           "hoverinfo": "name",
           "line": {
            "color": "grey"
           },
           "mode": "lines",
           "name": "Exterior",
           "showlegend": false,
           "x": [
            10.1,
            10.1,
            15.0,
            15.0,
            13.6,
            13.6,
            15.0,
            15.0,
            13.6,
            13.6,
            15.0,
            15.0,
            10.1,
            10.1,
            9.9,
            9.9,
            5.1,
            5.1,
            4.9,
            4.9,
            0.0,
            0.0,
            1.5,
            1.5,
            0.0,
            0.0,
            1.5,
            1.5,
            0.0,
            0.0,
            4.9,
            4.9,
            5.1,
            5.1,
            9.9,
            9.9,
            10.1
           ],
           "y": [
            1.5,
            0.0,
            0.0,
            4.9,
            4.9,
            5.1,
            5.1,
            9.9,
            9.9,
            10.1,
            10.1,
            15.0,
            15.0,
            13.6,
            13.6,
            15.0,
            15.0,
            13.6,
            13.6,
            15.0,
            15.0,
            10.1,
            10.1,
            9.9,
            9.9,
            5.1,
            5.1,
            4.9,
            4.9,
            0.0,
            0.0,
            1.5,
            1.5,
            0.0,
            0.0,
            1.5,
            1.5
           ],
           "type": "scatter"
          },
          {
           "hoverinfo": "name",
           "line": {
            "color": "grey"
           },
           "mode": "lines",
           "name": "Obstacle",
           "showlegend": false,
           "x": [
            10.1,
            11.5,
            11.5,
            10.1,
            10.1,
            9.9,
            9.9,
            8.6,
            8.6,
            9.9,
            9.9,
            10.1,
            10.1
           ],
           "y": [
            5.1,
            5.1,
            4.9,
            4.9,
            3.6,
            3.6,
            4.9,
            4.9,
            5.1,
            5.1,
            6.5,
            6.5,
            5.1
           ],
           "type": "scatter"
          },
          {
           "hoverinfo": "name",
           "line": {
            "color": "grey"
           },
           "mode": "lines",
           "name": "Obstacle",
           "showlegend": false,
           "x": [
            10.1,
            11.5,
            11.5,
            10.1,
            10.1,
            9.9,
            9.9,
            8.6,
            8.6,
            9.9,
            9.9,
            10.1,
            10.1
           ],
           "y": [
            10.1,
            10.1,
            9.9,
            9.9,
            8.6,
            8.6,
            9.9,
            9.9,
            10.1,
            10.1,
            11.5,
            11.5,
            10.1
           ],
           "type": "scatter"
          },
          {
           "hoverinfo": "name",
           "line": {
            "color": "grey"
           },
           "mode": "lines",
           "name": "Obstacle",
           "showlegend": false,
           "x": [
            5.1,
            6.4,
            6.4,
            5.1,
            5.1,
            4.9,
            4.9,
            3.6,
            3.6,
            4.9,
            4.9,
            5.1,
            5.1
           ],
           "y": [
            5.1,
            5.1,
            4.9,
            4.9,
            3.6,
            3.6,
            4.9,
            4.9,
            5.1,
            5.1,
            6.5,
            6.5,
            5.1
           ],
           "type": "scatter"
          },
          {
           "hoverinfo": "name",
           "line": {
            "color": "grey"
           },
           "mode": "lines",
           "name": "Obstacle",
           "showlegend": false,
           "x": [
            5.1,
            6.4,
            6.4,
            5.1,
            5.1,
            4.9,
            4.9,
            3.6,
            3.6,
            4.9,
            4.9,
            5.1,
            5.1
           ],
           "y": [
            10.1,
            10.1,
            9.9,
            9.9,
            8.6,
            8.6,
            9.9,
            9.9,
            10.1,
            10.1,
            11.5,
            11.5,
            10.1
           ],
           "type": "scatter"
          },
          {
           "fill": "toself",
           "fillcolor": "rgba(200, 0, 0, 0.00)",
           "hoverinfo": "name",
           "line": {
            "width": 0
           },
           "mode": "lines",
           "name": "Risk Area",
           "showlegend": false,
           "x": [
            0.0,
            5.0,
            5.0,
            0.0,
            0.0
           ],
           "y": [
            0.0,
            0.0,
            5.0,
            5.0,
            0.0
           ],
           "type": "scatter"
          },
          {
           "fill": "toself",
           "fillcolor": "rgba(200, 0, 0, 0.10)",
           "hoverinfo": "name",
           "line": {
            "width": 0
           },
           "mode": "lines",
           "name": "Risk Area",
           "showlegend": false,
           "x": [
            5.0,
            10.0,
            10.0,
            5.0,
            5.0
           ],
           "y": [
            0.0,
            0.0,
            5.0,
            5.0,
            0.0
           ],
           "type": "scatter"
          },
          {
           "fill": "toself",
           "fillcolor": "rgba(200, 0, 0, 0.00)",
           "hoverinfo": "name",
           "line": {
            "width": 0
           },
           "mode": "lines",
           "name": "Risk Area",
           "showlegend": false,
           "x": [
            10.0,
            15.0,
            15.0,
            10.0,
            10.0
           ],
           "y": [
            0.0,
            0.0,
            5.0,
            5.0,
            0.0
           ],
           "type": "scatter"
          },
          {
           "fill": "toself",
           "fillcolor": "rgba(200, 0, 0, 0.00)",
           "hoverinfo": "name",
           "line": {
            "width": 0
           },
           "mode": "lines",
           "name": "Risk Area",
           "showlegend": false,
           "x": [
            10.0,
            15.0,
            15.0,
            10.0,
            10.0
           ],
           "y": [
            5.0,
            5.0,
            10.0,
            10.0,
            5.0
           ],
           "type": "scatter"
          },
          {
           "fill": "toself",
           "fillcolor": "rgba(200, 0, 0, 0.30)",
           "hoverinfo": "name",
           "line": {
            "width": 0
           },
           "mode": "lines",
           "name": "Risk Area",
           "showlegend": false,
           "x": [
            5.0,
            10.0,
            10.0,
            5.0,
            5.0
           ],
           "y": [
            5.0,
            5.0,
            10.0,
            10.0,
            5.0
           ],
           "type": "scatter"
          },
          {
           "fill": "toself",
           "fillcolor": "rgba(200, 0, 0, 0.00)",
           "hoverinfo": "name",
           "line": {
            "width": 0
           },
           "mode": "lines",
           "name": "Risk Area",
           "showlegend": false,
           "x": [
            0.0,
            5.0,
            5.0,
            0.0,
            0.0
           ],
           "y": [
            5.0,
            5.0,
            10.0,
            10.0,
            5.0
           ],
           "type": "scatter"
          },
          {
           "fill": "toself",
           "fillcolor": "rgba(200, 0, 0, 0.00)",
           "hoverinfo": "name",
           "line": {
            "width": 0
           },
           "mode": "lines",
           "name": "Risk Area",
           "showlegend": false,
           "x": [
            0.0,
            5.0,
            5.0,
            0.0,
            0.0
           ],
           "y": [
            10.0,
            10.0,
            15.0,
            15.0,
            10.0
           ],
           "type": "scatter"
          },
          {
           "fill": "toself",
           "fillcolor": "rgba(200, 0, 0, 0.00)",
           "hoverinfo": "name",
           "line": {
            "width": 0
           },
           "mode": "lines",
           "name": "Risk Area",
           "showlegend": false,
           "x": [
            5.0,
            10.0,
            10.0,
            5.0,
            5.0
           ],
           "y": [
            10.0,
            10.0,
            15.0,
            15.0,
            10.0
           ],
           "type": "scatter"
          },
          {
           "fill": "toself",
           "fillcolor": "rgba(200, 0, 0, 0.00)",
           "hoverinfo": "name",
           "line": {
            "width": 0
           },
           "mode": "lines",
           "name": "Risk Area",
           "showlegend": false,
           "x": [
            10.0,
            15.0,
            15.0,
            10.0,
            10.0
           ],
           "y": [
            10.0,
            10.0,
            15.0,
            15.0,
            10.0
           ],
           "type": "scatter"
          },
          {
           "hoverinfo": "text",
           "marker": {
            "opacity": 1,
            "size": 1
           },
           "mode": "markers",
           "showlegend": false,
           "text": [
            "ID: 61, Pos(4.67,3.34)"
           ],
           "x": [
            4.6729536648937335
           ],
           "y": [
            3.3396786395340152
           ],
           "type": "scatter"
          },
          {
           "hoverinfo": "text",
           "marker": {
            "opacity": 1,
            "size": 1
           },
           "mode": "markers",
           "showlegend": false,
           "text": [
            "ID: 62, Pos(1.59,1.73)"
           ],
           "x": [
            1.5916470735441108
           ],
           "y": [
            1.7336591976424827
           ],
           "type": "scatter"
          },
          {
           "hoverinfo": "text",
           "marker": {
            "opacity": 1,
            "size": 1
           },
           "mode": "markers",
           "showlegend": false,
           "text": [
            "ID: 63, Pos(2.92,1.52)"
           ],
           "x": [
            2.9222850980628787
           ],
           "y": [
            1.518629187447387
           ],
           "type": "scatter"
          },
          {
           "hoverinfo": "text",
           "marker": {
            "opacity": 1,
            "size": 1
           },
           "mode": "markers",
           "showlegend": false,
           "text": [
            "ID: 64, Pos(3.27,3.38)"
           ],
           "x": [
            3.272669136211791
           ],
           "y": [
            3.376442170474031
           ],
           "type": "scatter"
          },
          {
           "hoverinfo": "text",
           "marker": {
            "opacity": 1,
            "size": 1
           },
           "mode": "markers",
           "showlegend": false,
           "text": [
            "ID: 65, Pos(2.89,2.81)"
           ],
           "x": [
            2.8852548899819856
           ],
           "y": [
            2.8136851139808727
           ],
           "type": "scatter"
          },
          {
           "hoverinfo": "text",
           "marker": {
            "opacity": 1,
            "size": 1
           },
           "mode": "markers",
           "showlegend": false,
           "text": [
            "ID: 66, Pos(2.30,3.86)"
           ],
           "x": [
            2.3009452632771974
           ],
           "y": [
            3.8613344460950287
           ],
           "type": "scatter"
          },
          {
           "hoverinfo": "text",
           "marker": {
            "opacity": 1,
            "size": 1
           },
           "mode": "markers",
           "showlegend": false,
           "text": [
            "ID: 67, Pos(3.70,3.97)"
           ],
           "x": [
            3.7010784432918373
           ],
           "y": [
            3.965204877182201
           ],
           "type": "scatter"
          },
          {
           "hoverinfo": "text",
           "marker": {
            "opacity": 1,
            "size": 1
           },
           "mode": "markers",
           "showlegend": false,
           "text": [
            "ID: 68, Pos(4.68,2.12)"
           ],
           "x": [
            4.677905269221102
           ],
           "y": [
            2.1174184293209692
           ],
           "type": "scatter"
          },
          {
           "hoverinfo": "text",
           "marker": {
            "opacity": 1,
            "size": 1
           },
           "mode": "markers",
           "showlegend": false,
           "text": [
            "ID: 69, Pos(2.07,3.20)"
           ],
           "x": [
            2.0678552369084033
           ],
           "y": [
            3.2034193749424884
           ],
           "type": "scatter"
          },
          {
           "hoverinfo": "text",
           "marker": {
            "opacity": 1,
            "size": 1
           },
           "mode": "markers",
           "showlegend": false,
           "text": [
            "ID: 70, Pos(2.95,2.18)"
           ],
           "x": [
            2.947582916071155
           ],
           "y": [
            2.1758159852761927
           ],
           "type": "scatter"
          }
         ],
         "layout": {
          "shapes": [
           {
            "fillcolor": "rgba(0, 0, 141, 0.5)",
            "line": {
             "color": "rgba(0, 0, 141, 0.5)"
            },
            "type": "circle",
            "x0": 4.472953664893733,
            "x1": 4.872953664893734,
            "xref": "x",
            "y0": 3.139678639534015,
            "y1": 3.5396786395340154,
            "yref": "y"
           },
           {
            "fillcolor": "rgba(0, 104, 255, 0.5)",
            "line": {
             "color": "rgba(0, 104, 255, 0.5)"
            },
            "type": "circle",
            "x0": 1.3916470735441109,
            "x1": 1.7916470735441108,
            "xref": "x",
            "y0": 1.5336591976424827,
            "y1": 1.9336591976424826,
            "yref": "y"
           },
           {
            "fillcolor": "rgba(0, 0, 128, 0.5)",
            "line": {
             "color": "rgba(0, 0, 128, 0.5)"
            },
            "type": "circle",
            "x0": 2.7222850980628785,
            "x1": 3.122285098062879,
            "xref": "x",
            "y0": 1.318629187447387,
            "y1": 1.718629187447387,
            "yref": "y"
           },
           {
            "fillcolor": "rgba(0, 48, 255, 0.5)",
            "line": {
             "color": "rgba(0, 48, 255, 0.5)"
            },
            "type": "circle",
            "x0": 3.0726691362117906,
            "x1": 3.472669136211791,
            "xref": "x",
            "y0": 3.1764421704740307,
            "y1": 3.576442170474031,
            "yref": "y"
           },
           {
            "fillcolor": "rgba(0, 0, 128, 0.5)",
            "line": {
             "color": "rgba(0, 0, 128, 0.5)"
            },
            "type": "circle",
            "x0": 2.6852548899819855,
            "x1": 3.085254889981986,
            "xref": "x",
            "y0": 2.6136851139808726,
            "y1": 3.013685113980873,
            "yref": "y"
           },
           {
            "fillcolor": "rgba(96, 255, 151, 0.5)",
            "line": {
             "color": "rgba(96, 255, 151, 0.5)"
            },
            "type": "circle",
            "x0": 2.100945263277197,
            "x1": 2.5009452632771976,
            "xref": "x",
            "y0": 3.6613344460950286,
            "y1": 4.061334446095029,
            "yref": "y"
           },
           {
            "fillcolor": "rgba(41, 255, 206, 0.5)",
            "line": {
             "color": "rgba(41, 255, 206, 0.5)"
            },
            "type": "circle",
            "x0": 3.501078443291837,
            "x1": 3.9010784432918375,
            "xref": "x",
            "y0": 3.765204877182201,
            "y1": 4.165204877182201,
            "yref": "y"
           },
           {
            "fillcolor": "rgba(0, 0, 128, 0.5)",
            "line": {
             "color": "rgba(0, 0, 128, 0.5)"
            },
            "type": "circle",
            "x0": 4.477905269221102,
            "x1": 4.8779052692211025,
            "xref": "x",
            "y0": 1.9174184293209693,
            "y1": 2.3174184293209694,
            "yref": "y"
           },
           {
            "fillcolor": "rgba(231, 255, 15, 0.5)",
            "line": {
             "color": "rgba(231, 255, 15, 0.5)"
            },
            "type": "circle",
            "x0": 1.8678552369084034,
            "x1": 2.2678552369084035,
            "xref": "x",
            "y0": 3.0034193749424882,
            "y1": 3.4034193749424886,
            "yref": "y"
           },
           {
            "fillcolor": "rgba(0, 0, 128, 0.5)",
            "line": {
             "color": "rgba(0, 0, 128, 0.5)"
            },
            "type": "circle",
            "x0": 2.747582916071155,
            "x1": 3.1475829160711553,
            "xref": "x",
            "y0": 1.9758159852761927,
            "y1": 2.375815985276193,
            "yref": "y"
           },
           {
            "line": {
             "color": "white",
             "width": 3
            },
            "type": "line",
            "x0": 4.6729536648937335,
            "x1": 4.799569923304915,
            "y0": 3.3396786395340152,
            "y1": 3.184861576178735
           },
           {
            "line": {
             "color": "white",
             "width": 3
            },
            "type": "line",
            "x0": 1.5916470735441108,
            "x1": 1.789985366038998,
            "y0": 1.7336591976424827,
            "y1": 1.7593870372372216
           },
           {
            "line": {
             "color": "white",
             "width": 3
            },
            "type": "line",
            "x0": 2.9222850980628787,
            "x1": 3.122271737189196,
            "y0": 1.518629187447387,
            "y1": 1.5209409337483855
           },
           {
            "line": {
             "color": "white",
             "width": 3
            },
            "type": "line",
            "x0": 3.272669136211791,
            "x1": 3.470295555232549,
            "y0": 3.376442170474031,
            "y1": 3.345720866708863
           },
           {
            "line": {
             "color": "white",
             "width": 3
            },
            "type": "line",
            "x0": 2.8852548899819856,
            "x1": 3.0851239339873193,
            "y0": 2.8136851139808727,
            "y1": 2.820921497635298
           },
           {
            "line": {
             "color": "black",
             "width": 3
            },
            "type": "line",
            "x0": 2.3009452632771974,
            "x1": 2.499402364313692,
            "y0": 3.8613344460950287,
            "y1": 3.836539707778392
           },
           {
            "line": {
             "color": "black",
             "width": 3
            },
            "type": "line",
            "x0": 3.7010784432918373,
            "x1": 3.889156218656954,
            "y0": 3.965204877182201,
            "y1": 3.8971846565584136
           },
           {
            "line": {
             "color": "white",
             "width": 3
            },
            "type": "line",
            "x0": 4.677905269221102,
            "x1": 4.8760801202122135,
            "y0": 2.1174184293209692,
            "y1": 2.1443763304753753
           },
           {
            "line": {
             "color": "black",
             "width": 3
            },
            "type": "line",
            "x0": 2.0678552369084033,
            "x1": 2.261210143917335,
            "y0": 3.2034193749424884,
            "y1": 3.152293257002953
           },
           {
            "line": {
             "color": "white",
             "width": 3
            },
            "type": "line",
            "x0": 2.947582916071155,
            "x1": 3.1474640414649455,
            "y0": 2.1758159852761927,
            "y1": 2.1827105999363265
           }
          ],
          "title": {
           "text": "<b>Percentage using the shortest path: 0%  |  Number of Agents: 10</b>",
           "x": 0.5
          }
         },
         "name": "50"
        },
        {
         "data": [
          {
           "hoverinfo": "name",
           "line": {
            "color": "grey"
           },
           "mode": "lines",
           "name": "Exterior",
           "showlegend": false,
           "x": [
            10.1,
            10.1,
            15.0,
            15.0,
            13.6,
            13.6,
            15.0,
            15.0,
            13.6,
            13.6,
            15.0,
            15.0,
            10.1,
            10.1,
            9.9,
            9.9,
            5.1,
            5.1,
            4.9,
            4.9,
            0.0,
            0.0,
            1.5,
            1.5,
            0.0,
            0.0,
            1.5,
            1.5,
            0.0,
            0.0,
            4.9,
            4.9,
            5.1,
            5.1,
            9.9,
            9.9,
            10.1
           ],
           "y": [
            1.5,
            0.0,
            0.0,
            4.9,
            4.9,
            5.1,
            5.1,
            9.9,
            9.9,
            10.1,
            10.1,
            15.0,
            15.0,
            13.6,
            13.6,
            15.0,
            15.0,
            13.6,
            13.6,
            15.0,
            15.0,
            10.1,
            10.1,
            9.9,
            9.9,
            5.1,
            5.1,
            4.9,
            4.9,
            0.0,
            0.0,
            1.5,
            1.5,
            0.0,
            0.0,
            1.5,
            1.5
           ],
           "type": "scatter"
          },
          {
           "hoverinfo": "name",
           "line": {
            "color": "grey"
           },
           "mode": "lines",
           "name": "Obstacle",
           "showlegend": false,
           "x": [
            10.1,
            11.5,
            11.5,
            10.1,
            10.1,
            9.9,
            9.9,
            8.6,
            8.6,
            9.9,
            9.9,
            10.1,
            10.1
           ],
           "y": [
            5.1,
            5.1,
            4.9,
            4.9,
            3.6,
            3.6,
            4.9,
            4.9,
            5.1,
            5.1,
            6.5,
            6.5,
            5.1
           ],
           "type": "scatter"
          },
          {
           "hoverinfo": "name",
           "line": {
            "color": "grey"
           },
           "mode": "lines",
           "name": "Obstacle",
           "showlegend": false,
           "x": [
            10.1,
            11.5,
            11.5,
            10.1,
            10.1,
            9.9,
            9.9,
            8.6,
            8.6,
            9.9,
            9.9,
            10.1,
            10.1
           ],
           "y": [
            10.1,
            10.1,
            9.9,
            9.9,
            8.6,
            8.6,
            9.9,
            9.9,
            10.1,
            10.1,
            11.5,
            11.5,
            10.1
           ],
           "type": "scatter"
          },
          {
           "hoverinfo": "name",
           "line": {
            "color": "grey"
           },
           "mode": "lines",
           "name": "Obstacle",
           "showlegend": false,
           "x": [
            5.1,
            6.4,
            6.4,
            5.1,
            5.1,
            4.9,
            4.9,
            3.6,
            3.6,
            4.9,
            4.9,
            5.1,
            5.1
           ],
           "y": [
            5.1,
            5.1,
            4.9,
            4.9,
            3.6,
            3.6,
            4.9,
            4.9,
            5.1,
            5.1,
            6.5,
            6.5,
            5.1
           ],
           "type": "scatter"
          },
          {
           "hoverinfo": "name",
           "line": {
            "color": "grey"
           },
           "mode": "lines",
           "name": "Obstacle",
           "showlegend": false,
           "x": [
            5.1,
            6.4,
            6.4,
            5.1,
            5.1,
            4.9,
            4.9,
            3.6,
            3.6,
            4.9,
            4.9,
            5.1,
            5.1
           ],
           "y": [
            10.1,
            10.1,
            9.9,
            9.9,
            8.6,
            8.6,
            9.9,
            9.9,
            10.1,
            10.1,
            11.5,
            11.5,
            10.1
           ],
           "type": "scatter"
          },
          {
           "fill": "toself",
           "fillcolor": "rgba(200, 0, 0, 0.00)",
           "hoverinfo": "name",
           "line": {
            "width": 0
           },
           "mode": "lines",
           "name": "Risk Area",
           "showlegend": false,
           "x": [
            0.0,
            5.0,
            5.0,
            0.0,
            0.0
           ],
           "y": [
            0.0,
            0.0,
            5.0,
            5.0,
            0.0
           ],
           "type": "scatter"
          },
          {
           "fill": "toself",
           "fillcolor": "rgba(200, 0, 0, 0.10)",
           "hoverinfo": "name",
           "line": {
            "width": 0
           },
           "mode": "lines",
           "name": "Risk Area",
           "showlegend": false,
           "x": [
            5.0,
            10.0,
            10.0,
            5.0,
            5.0
           ],
           "y": [
            0.0,
            0.0,
            5.0,
            5.0,
            0.0
           ],
           "type": "scatter"
          },
          {
           "fill": "toself",
           "fillcolor": "rgba(200, 0, 0, 0.00)",
           "hoverinfo": "name",
           "line": {
            "width": 0
           },
           "mode": "lines",
           "name": "Risk Area",
           "showlegend": false,
           "x": [
            10.0,
            15.0,
            15.0,
            10.0,
            10.0
           ],
           "y": [
            0.0,
            0.0,
            5.0,
            5.0,
            0.0
           ],
           "type": "scatter"
          },
          {
           "fill": "toself",
           "fillcolor": "rgba(200, 0, 0, 0.00)",
           "hoverinfo": "name",
           "line": {
            "width": 0
           },
           "mode": "lines",
           "name": "Risk Area",
           "showlegend": false,
           "x": [
            10.0,
            15.0,
            15.0,
            10.0,
            10.0
           ],
           "y": [
            5.0,
            5.0,
            10.0,
            10.0,
            5.0
           ],
           "type": "scatter"
          },
          {
           "fill": "toself",
           "fillcolor": "rgba(200, 0, 0, 0.30)",
           "hoverinfo": "name",
           "line": {
            "width": 0
           },
           "mode": "lines",
           "name": "Risk Area",
           "showlegend": false,
           "x": [
            5.0,
            10.0,
            10.0,
            5.0,
            5.0
           ],
           "y": [
            5.0,
            5.0,
            10.0,
            10.0,
            5.0
           ],
           "type": "scatter"
          },
          {
           "fill": "toself",
           "fillcolor": "rgba(200, 0, 0, 0.00)",
           "hoverinfo": "name",
           "line": {
            "width": 0
           },
           "mode": "lines",
           "name": "Risk Area",
           "showlegend": false,
           "x": [
            0.0,
            5.0,
            5.0,
            0.0,
            0.0
           ],
           "y": [
            5.0,
            5.0,
            10.0,
            10.0,
            5.0
           ],
           "type": "scatter"
          },
          {
           "fill": "toself",
           "fillcolor": "rgba(200, 0, 0, 0.00)",
           "hoverinfo": "name",
           "line": {
            "width": 0
           },
           "mode": "lines",
           "name": "Risk Area",
           "showlegend": false,
           "x": [
            0.0,
            5.0,
            5.0,
            0.0,
            0.0
           ],
           "y": [
            10.0,
            10.0,
            15.0,
            15.0,
            10.0
           ],
           "type": "scatter"
          },
          {
           "fill": "toself",
           "fillcolor": "rgba(200, 0, 0, 0.00)",
           "hoverinfo": "name",
           "line": {
            "width": 0
           },
           "mode": "lines",
           "name": "Risk Area",
           "showlegend": false,
           "x": [
            5.0,
            10.0,
            10.0,
            5.0,
            5.0
           ],
           "y": [
            10.0,
            10.0,
            15.0,
            15.0,
            10.0
           ],
           "type": "scatter"
          },
          {
           "fill": "toself",
           "fillcolor": "rgba(200, 0, 0, 0.00)",
           "hoverinfo": "name",
           "line": {
            "width": 0
           },
           "mode": "lines",
           "name": "Risk Area",
           "showlegend": false,
           "x": [
            10.0,
            15.0,
            15.0,
            10.0,
            10.0
           ],
           "y": [
            10.0,
            10.0,
            15.0,
            15.0,
            10.0
           ],
           "type": "scatter"
          },
          {
           "hoverinfo": "text",
           "marker": {
            "opacity": 1,
            "size": 1
           },
           "mode": "markers",
           "showlegend": false,
           "text": [
            "ID: 61, Pos(5.79,2.96)"
           ],
           "x": [
            5.792822470768964
           ],
           "y": [
            2.9632835040483902
           ],
           "type": "scatter"
          },
          {
           "hoverinfo": "text",
           "marker": {
            "opacity": 1,
            "size": 1
           },
           "mode": "markers",
           "showlegend": false,
           "text": [
            "ID: 62, Pos(2.66,1.87)"
           ],
           "x": [
            2.656852132472695
           ],
           "y": [
            1.8715467172674622
           ],
           "type": "scatter"
          },
          {
           "hoverinfo": "text",
           "marker": {
            "opacity": 1,
            "size": 1
           },
           "mode": "markers",
           "showlegend": false,
           "text": [
            "ID: 63, Pos(4.12,1.54)"
           ],
           "x": [
            4.122065222751406
           ],
           "y": [
            1.5374161277367064
           ],
           "type": "scatter"
          },
          {
           "hoverinfo": "text",
           "marker": {
            "opacity": 1,
            "size": 1
           },
           "mode": "markers",
           "showlegend": false,
           "text": [
            "ID: 64, Pos(4.31,3.23)"
           ],
           "x": [
            4.307830330570993
           ],
           "y": [
            3.230577429744992
           ],
           "type": "scatter"
          },
          {
           "hoverinfo": "text",
           "marker": {
            "opacity": 1,
            "size": 1
           },
           "mode": "markers",
           "showlegend": false,
           "text": [
            "ID: 65, Pos(4.08,2.73)"
           ],
           "x": [
            4.0809714147866485
           ],
           "y": [
            2.7273803842598
           ],
           "type": "scatter"
          },
          {
           "hoverinfo": "text",
           "marker": {
            "opacity": 1,
            "size": 1
           },
           "mode": "markers",
           "showlegend": false,
           "text": [
            "ID: 66, Pos(3.09,3.73)"
           ],
           "x": [
            3.0934407379829705
           ],
           "y": [
            3.725544416564389
           ],
           "type": "scatter"
          },
          {
           "hoverinfo": "text",
           "marker": {
            "opacity": 1,
            "size": 1
           },
           "mode": "markers",
           "showlegend": false,
           "text": [
            "ID: 67, Pos(4.60,3.68)"
           ],
           "x": [
            4.597990948467551
           ],
           "y": [
            3.680525607298891
           ],
           "type": "scatter"
          },
          {
           "hoverinfo": "text",
           "marker": {
            "opacity": 1,
            "size": 1
           },
           "mode": "markers",
           "showlegend": false,
           "text": [
            "ID: 68, Pos(5.87,2.25)"
           ],
           "x": [
            5.870406965371651
           ],
           "y": [
            2.247794410670089
           ],
           "type": "scatter"
          },
          {
           "hoverinfo": "text",
           "marker": {
            "opacity": 1,
            "size": 1
           },
           "mode": "markers",
           "showlegend": false,
           "text": [
            "ID: 69, Pos(2.79,3.05)"
           ],
           "x": [
            2.7929427234916373
           ],
           "y": [
            3.045344177852101
           ],
           "type": "scatter"
          },
          {
           "hoverinfo": "text",
           "marker": {
            "opacity": 1,
            "size": 1
           },
           "mode": "markers",
           "showlegend": false,
           "text": [
            "ID: 70, Pos(4.15,2.16)"
           ],
           "x": [
            4.146943157272483
           ],
           "y": [
            2.158173364731244
           ],
           "type": "scatter"
          }
         ],
         "layout": {
          "shapes": [
           {
            "fillcolor": "rgba(0, 0, 128, 0.5)",
            "line": {
             "color": "rgba(0, 0, 128, 0.5)"
            },
            "type": "circle",
            "x0": 5.592822470768964,
            "x1": 5.992822470768965,
            "xref": "x",
            "y0": 2.76328350404839,
            "y1": 3.1632835040483904,
            "yref": "y"
           },
           {
            "fillcolor": "rgba(0, 0, 214, 0.5)",
            "line": {
             "color": "rgba(0, 0, 214, 0.5)"
            },
            "type": "circle",
            "x0": 2.4568521324726946,
            "x1": 2.856852132472695,
            "xref": "x",
            "y0": 1.6715467172674623,
            "y1": 2.0715467172674624,
            "yref": "y"
           },
           {
            "fillcolor": "rgba(0, 0, 128, 0.5)",
            "line": {
             "color": "rgba(0, 0, 128, 0.5)"
            },
            "type": "circle",
            "x0": 3.9220652227514057,
            "x1": 4.322065222751406,
            "xref": "x",
            "y0": 1.3374161277367065,
            "y1": 1.7374161277367064,
            "yref": "y"
           },
           {
            "fillcolor": "rgba(0, 0, 223, 0.5)",
            "line": {
             "color": "rgba(0, 0, 223, 0.5)"
            },
            "type": "circle",
            "x0": 4.107830330570993,
            "x1": 4.507830330570993,
            "xref": "x",
            "y0": 3.0305774297449917,
            "y1": 3.430577429744992,
            "yref": "y"
           },
           {
            "fillcolor": "rgba(0, 0, 128, 0.5)",
            "line": {
             "color": "rgba(0, 0, 128, 0.5)"
            },
            "type": "circle",
            "x0": 3.8809714147866483,
            "x1": 4.280971414786649,
            "xref": "x",
            "y0": 2.5273803842598,
            "y1": 2.9273803842598003,
            "yref": "y"
           },
           {
            "fillcolor": "rgba(0, 140, 255, 0.5)",
            "line": {
             "color": "rgba(0, 140, 255, 0.5)"
            },
            "type": "circle",
            "x0": 2.8934407379829703,
            "x1": 3.2934407379829707,
            "xref": "x",
            "y0": 3.5255444165643888,
            "y1": 3.925544416564389,
            "yref": "y"
           },
           {
            "fillcolor": "rgba(255, 19, 0, 0.5)",
            "line": {
             "color": "rgba(255, 19, 0, 0.5)"
            },
            "type": "circle",
            "x0": 4.397990948467551,
            "x1": 4.797990948467551,
            "xref": "x",
            "y0": 3.480525607298891,
            "y1": 3.880525607298891,
            "yref": "y"
           },
           {
            "fillcolor": "rgba(0, 0, 128, 0.5)",
            "line": {
             "color": "rgba(0, 0, 128, 0.5)"
            },
            "type": "circle",
            "x0": 5.670406965371651,
            "x1": 6.070406965371651,
            "xref": "x",
            "y0": 2.0477944106700887,
            "y1": 2.447794410670089,
            "yref": "y"
           },
           {
            "fillcolor": "rgba(0, 125, 255, 0.5)",
            "line": {
             "color": "rgba(0, 125, 255, 0.5)"
            },
            "type": "circle",
            "x0": 2.592942723491637,
            "x1": 2.9929427234916375,
            "xref": "x",
            "y0": 2.845344177852101,
            "y1": 3.2453441778521013,
            "yref": "y"
           },
           {
            "fillcolor": "rgba(0, 0, 128, 0.5)",
            "line": {
             "color": "rgba(0, 0, 128, 0.5)"
            },
            "type": "circle",
            "x0": 3.946943157272483,
            "x1": 4.3469431572724835,
            "xref": "x",
            "y0": 1.958173364731244,
            "y1": 2.358173364731244,
            "yref": "y"
           },
           {
            "line": {
             "color": "white",
             "width": 3
            },
            "type": "line",
            "x0": 5.792822470768964,
            "x1": 5.9901597303264,
            "y0": 2.9632835040483902,
            "y1": 2.930756500030781
           },
           {
            "line": {
             "color": "white",
             "width": 3
            },
            "type": "line",
            "x0": 2.656852132472695,
            "x1": 2.8552147437971627,
            "y0": 1.8715467172674622,
            "y1": 1.8970863810972418
           },
           {
            "line": {
             "color": "white",
             "width": 3
            },
            "type": "line",
            "x0": 4.122065222751406,
            "x1": 4.322052661346044,
            "y0": 1.5374161277367064,
            "y1": 1.5351746094218097
           },
           {
            "line": {
             "color": "white",
             "width": 3
            },
            "type": "line",
            "x0": 4.307830330570993,
            "x1": 4.496178184993262,
            "y0": 3.230577429744992,
            "y1": 3.1633086722529153
           },
           {
            "line": {
             "color": "white",
             "width": 3
            },
            "type": "line",
            "x0": 4.0809714147866485,
            "x1": 4.277895432333193,
            "y0": 2.7273803842598,
            "y1": 2.692438556698438
           },
           {
            "line": {
             "color": "white",
             "width": 3
            },
            "type": "line",
            "x0": 3.0934407379829705,
            "x1": 3.289863505974818,
            "y0": 3.725544416564389,
            "y1": 3.687886798285734
           },
           {
            "line": {
             "color": "white",
             "width": 3
            },
            "type": "line",
            "x0": 4.597990948467551,
            "x1": 4.764625045099402,
            "y0": 3.680525607298891,
            "y1": 3.791128852457824
           },
           {
            "line": {
             "color": "white",
             "width": 3
            },
            "type": "line",
            "x0": 5.870406965371651,
            "x1": 6.070175064613159,
            "y0": 2.247794410670089,
            "y1": 2.2574228334607085
           },
           {
            "line": {
             "color": "white",
             "width": 3
            },
            "type": "line",
            "x0": 2.7929427234916373,
            "x1": 2.989107299521707,
            "y0": 3.045344177852101,
            "y1": 3.006363937845875
           },
           {
            "line": {
             "color": "white",
             "width": 3
            },
            "type": "line",
            "x0": 4.146943157272483,
            "x1": 4.346465361385764,
            "y0": 2.158173364731244,
            "y1": 2.1443570676231802
           }
          ],
          "title": {
           "text": "<b>Percentage using the shortest path: 0%  |  Number of Agents: 10</b>",
           "x": 0.5
          }
         },
         "name": "100"
        },
        {
         "data": [
          {
           "hoverinfo": "name",
           "line": {
            "color": "grey"
           },
           "mode": "lines",
           "name": "Exterior",
           "showlegend": false,
           "x": [
            10.1,
            10.1,
            15.0,
            15.0,
            13.6,
            13.6,
            15.0,
            15.0,
            13.6,
            13.6,
            15.0,
            15.0,
            10.1,
            10.1,
            9.9,
            9.9,
            5.1,
            5.1,
            4.9,
            4.9,
            0.0,
            0.0,
            1.5,
            1.5,
            0.0,
            0.0,
            1.5,
            1.5,
            0.0,
            0.0,
            4.9,
            4.9,
            5.1,
            5.1,
            9.9,
            9.9,
            10.1
           ],
           "y": [
            1.5,
            0.0,
            0.0,
            4.9,
            4.9,
            5.1,
            5.1,
            9.9,
            9.9,
            10.1,
            10.1,
            15.0,
            15.0,
            13.6,
            13.6,
            15.0,
            15.0,
            13.6,
            13.6,
            15.0,
            15.0,
            10.1,
            10.1,
            9.9,
            9.9,
            5.1,
            5.1,
            4.9,
            4.9,
            0.0,
            0.0,
            1.5,
            1.5,
            0.0,
            0.0,
            1.5,
            1.5
           ],
           "type": "scatter"
          },
          {
           "hoverinfo": "name",
           "line": {
            "color": "grey"
           },
           "mode": "lines",
           "name": "Obstacle",
           "showlegend": false,
           "x": [
            10.1,
            11.5,
            11.5,
            10.1,
            10.1,
            9.9,
            9.9,
            8.6,
            8.6,
            9.9,
            9.9,
            10.1,
            10.1
           ],
           "y": [
            5.1,
            5.1,
            4.9,
            4.9,
            3.6,
            3.6,
            4.9,
            4.9,
            5.1,
            5.1,
            6.5,
            6.5,
            5.1
           ],
           "type": "scatter"
          },
          {
           "hoverinfo": "name",
           "line": {
            "color": "grey"
           },
           "mode": "lines",
           "name": "Obstacle",
           "showlegend": false,
           "x": [
            10.1,
            11.5,
            11.5,
            10.1,
            10.1,
            9.9,
            9.9,
            8.6,
            8.6,
            9.9,
            9.9,
            10.1,
            10.1
           ],
           "y": [
            10.1,
            10.1,
            9.9,
            9.9,
            8.6,
            8.6,
            9.9,
            9.9,
            10.1,
            10.1,
            11.5,
            11.5,
            10.1
           ],
           "type": "scatter"
          },
          {
           "hoverinfo": "name",
           "line": {
            "color": "grey"
           },
           "mode": "lines",
           "name": "Obstacle",
           "showlegend": false,
           "x": [
            5.1,
            6.4,
            6.4,
            5.1,
            5.1,
            4.9,
            4.9,
            3.6,
            3.6,
            4.9,
            4.9,
            5.1,
            5.1
           ],
           "y": [
            5.1,
            5.1,
            4.9,
            4.9,
            3.6,
            3.6,
            4.9,
            4.9,
            5.1,
            5.1,
            6.5,
            6.5,
            5.1
           ],
           "type": "scatter"
          },
          {
           "hoverinfo": "name",
           "line": {
            "color": "grey"
           },
           "mode": "lines",
           "name": "Obstacle",
           "showlegend": false,
           "x": [
            5.1,
            6.4,
            6.4,
            5.1,
            5.1,
            4.9,
            4.9,
            3.6,
            3.6,
            4.9,
            4.9,
            5.1,
            5.1
           ],
           "y": [
            10.1,
            10.1,
            9.9,
            9.9,
            8.6,
            8.6,
            9.9,
            9.9,
            10.1,
            10.1,
            11.5,
            11.5,
            10.1
           ],
           "type": "scatter"
          },
          {
           "fill": "toself",
           "fillcolor": "rgba(200, 0, 0, 0.00)",
           "hoverinfo": "name",
           "line": {
            "width": 0
           },
           "mode": "lines",
           "name": "Risk Area",
           "showlegend": false,
           "x": [
            0.0,
            5.0,
            5.0,
            0.0,
            0.0
           ],
           "y": [
            0.0,
            0.0,
            5.0,
            5.0,
            0.0
           ],
           "type": "scatter"
          },
          {
           "fill": "toself",
           "fillcolor": "rgba(200, 0, 0, 0.10)",
           "hoverinfo": "name",
           "line": {
            "width": 0
           },
           "mode": "lines",
           "name": "Risk Area",
           "showlegend": false,
           "x": [
            5.0,
            10.0,
            10.0,
            5.0,
            5.0
           ],
           "y": [
            0.0,
            0.0,
            5.0,
            5.0,
            0.0
           ],
           "type": "scatter"
          },
          {
           "fill": "toself",
           "fillcolor": "rgba(200, 0, 0, 0.00)",
           "hoverinfo": "name",
           "line": {
            "width": 0
           },
           "mode": "lines",
           "name": "Risk Area",
           "showlegend": false,
           "x": [
            10.0,
            15.0,
            15.0,
            10.0,
            10.0
           ],
           "y": [
            0.0,
            0.0,
            5.0,
            5.0,
            0.0
           ],
           "type": "scatter"
          },
          {
           "fill": "toself",
           "fillcolor": "rgba(200, 0, 0, 0.00)",
           "hoverinfo": "name",
           "line": {
            "width": 0
           },
           "mode": "lines",
           "name": "Risk Area",
           "showlegend": false,
           "x": [
            10.0,
            15.0,
            15.0,
            10.0,
            10.0
           ],
           "y": [
            5.0,
            5.0,
            10.0,
            10.0,
            5.0
           ],
           "type": "scatter"
          },
          {
           "fill": "toself",
           "fillcolor": "rgba(200, 0, 0, 0.50)",
           "hoverinfo": "name",
           "line": {
            "width": 0
           },
           "mode": "lines",
           "name": "Risk Area",
           "showlegend": false,
           "x": [
            5.0,
            10.0,
            10.0,
            5.0,
            5.0
           ],
           "y": [
            5.0,
            5.0,
            10.0,
            10.0,
            5.0
           ],
           "type": "scatter"
          },
          {
           "fill": "toself",
           "fillcolor": "rgba(200, 0, 0, 0.00)",
           "hoverinfo": "name",
           "line": {
            "width": 0
           },
           "mode": "lines",
           "name": "Risk Area",
           "showlegend": false,
           "x": [
            0.0,
            5.0,
            5.0,
            0.0,
            0.0
           ],
           "y": [
            5.0,
            5.0,
            10.0,
            10.0,
            5.0
           ],
           "type": "scatter"
          },
          {
           "fill": "toself",
           "fillcolor": "rgba(200, 0, 0, 0.00)",
           "hoverinfo": "name",
           "line": {
            "width": 0
           },
           "mode": "lines",
           "name": "Risk Area",
           "showlegend": false,
           "x": [
            0.0,
            5.0,
            5.0,
            0.0,
            0.0
           ],
           "y": [
            10.0,
            10.0,
            15.0,
            15.0,
            10.0
           ],
           "type": "scatter"
          },
          {
           "fill": "toself",
           "fillcolor": "rgba(200, 0, 0, 0.20)",
           "hoverinfo": "name",
           "line": {
            "width": 0
           },
           "mode": "lines",
           "name": "Risk Area",
           "showlegend": false,
           "x": [
            5.0,
            10.0,
            10.0,
            5.0,
            5.0
           ],
           "y": [
            10.0,
            10.0,
            15.0,
            15.0,
            10.0
           ],
           "type": "scatter"
          },
          {
           "fill": "toself",
           "fillcolor": "rgba(200, 0, 0, 0.00)",
           "hoverinfo": "name",
           "line": {
            "width": 0
           },
           "mode": "lines",
           "name": "Risk Area",
           "showlegend": false,
           "x": [
            10.0,
            15.0,
            15.0,
            10.0,
            10.0
           ],
           "y": [
            10.0,
            10.0,
            15.0,
            15.0,
            10.0
           ],
           "type": "scatter"
          },
          {
           "hoverinfo": "text",
           "marker": {
            "opacity": 1,
            "size": 1
           },
           "mode": "markers",
           "showlegend": false,
           "text": [
            "ID: 61, Pos(6.34,3.81)"
           ],
           "x": [
            6.337915259465798
           ],
           "y": [
            3.8104654154927147
           ],
           "type": "scatter"
          },
          {
           "hoverinfo": "text",
           "marker": {
            "opacity": 1,
            "size": 1
           },
           "mode": "markers",
           "showlegend": false,
           "text": [
            "ID: 62, Pos(3.76,2.01)"
           ],
           "x": [
            3.764115712717014
           ],
           "y": [
            2.0071306679634313
           ],
           "type": "scatter"
          },
          {
           "hoverinfo": "text",
           "marker": {
            "opacity": 1,
            "size": 1
           },
           "mode": "markers",
           "showlegend": false,
           "text": [
            "ID: 63, Pos(4.62,1.68)"
           ],
           "x": [
            4.616813931226993
           ],
           "y": [
            1.6789836085531786
           ],
           "type": "scatter"
          },
          {
           "hoverinfo": "text",
           "marker": {
            "opacity": 1,
            "size": 1
           },
           "mode": "markers",
           "showlegend": false,
           "text": [
            "ID: 64, Pos(5.33,3.16)"
           ],
           "x": [
            5.329616053891829
           ],
           "y": [
            3.1644056452317684
           ],
           "type": "scatter"
          },
          {
           "hoverinfo": "text",
           "marker": {
            "opacity": 1,
            "size": 1
           },
           "mode": "markers",
           "showlegend": false,
           "text": [
            "ID: 65, Pos(5.08,2.62)"
           ],
           "x": [
            5.0753077981506864
           ],
           "y": [
            2.619098610590308
           ],
           "type": "scatter"
          },
          {
           "hoverinfo": "text",
           "marker": {
            "opacity": 1,
            "size": 1
           },
           "mode": "markers",
           "showlegend": false,
           "text": [
            "ID: 66, Pos(3.77,3.60)"
           ],
           "x": [
            3.7664408782237966
           ],
           "y": [
            3.5963347297304042
           ],
           "type": "scatter"
          },
          {
           "hoverinfo": "text",
           "marker": {
            "opacity": 1,
            "size": 1
           },
           "mode": "markers",
           "showlegend": false,
           "text": [
            "ID: 67, Pos(4.60,3.45)"
           ],
           "x": [
            4.603285218104048
           ],
           "y": [
            3.4520770726636005
           ],
           "type": "scatter"
          },
          {
           "hoverinfo": "text",
           "marker": {
            "opacity": 1,
            "size": 1
           },
           "mode": "markers",
           "showlegend": false,
           "text": [
            "ID: 68, Pos(6.15,2.67)"
           ],
           "x": [
            6.148668903640828
           ],
           "y": [
            2.6718729482228825
           ],
           "type": "scatter"
          },
          {
           "hoverinfo": "text",
           "marker": {
            "opacity": 1,
            "size": 1
           },
           "mode": "markers",
           "showlegend": false,
           "text": [
            "ID: 69, Pos(3.76,2.86)"
           ],
           "x": [
            3.7610903279166332
           ],
           "y": [
            2.860528473266022
           ],
           "type": "scatter"
          },
          {
           "hoverinfo": "text",
           "marker": {
            "opacity": 1,
            "size": 1
           },
           "mode": "markers",
           "showlegend": false,
           "text": [
            "ID: 70, Pos(5.29,2.05)"
           ],
           "x": [
            5.287229059655491
           ],
           "y": [
            2.0537379174628105
           ],
           "type": "scatter"
          }
         ],
         "layout": {
          "shapes": [
           {
            "fillcolor": "rgba(0, 0, 128, 0.5)",
            "line": {
             "color": "rgba(0, 0, 128, 0.5)"
            },
            "type": "circle",
            "x0": 6.137915259465798,
            "x1": 6.537915259465798,
            "xref": "x",
            "y0": 3.6104654154927145,
            "y1": 4.010465415492715,
            "yref": "y"
           },
           {
            "fillcolor": "rgba(0, 109, 255, 0.5)",
            "line": {
             "color": "rgba(0, 109, 255, 0.5)"
            },
            "type": "circle",
            "x0": 3.564115712717014,
            "x1": 3.9641157127170144,
            "xref": "x",
            "y0": 1.8071306679634314,
            "y1": 2.2071306679634315,
            "yref": "y"
           },
           {
            "fillcolor": "rgba(255, 234, 0, 0.5)",
            "line": {
             "color": "rgba(255, 234, 0, 0.5)"
            },
            "type": "circle",
            "x0": 4.416813931226993,
            "x1": 4.816813931226993,
            "xref": "x",
            "y0": 1.4789836085531787,
            "y1": 1.8789836085531786,
            "yref": "y"
           },
           {
            "fillcolor": "rgba(0, 0, 223, 0.5)",
            "line": {
             "color": "rgba(0, 0, 223, 0.5)"
            },
            "type": "circle",
            "x0": 5.129616053891829,
            "x1": 5.5296160538918295,
            "xref": "x",
            "y0": 2.964405645231768,
            "y1": 3.3644056452317685,
            "yref": "y"
           },
           {
            "fillcolor": "rgba(102, 255, 144, 0.5)",
            "line": {
             "color": "rgba(102, 255, 144, 0.5)"
            },
            "type": "circle",
            "x0": 4.875307798150686,
            "x1": 5.275307798150687,
            "xref": "x",
            "y0": 2.4190986105903076,
            "y1": 2.819098610590308,
            "yref": "y"
           },
           {
            "fillcolor": "rgba(255, 219, 0, 0.5)",
            "line": {
             "color": "rgba(255, 219, 0, 0.5)"
            },
            "type": "circle",
            "x0": 3.5664408782237964,
            "x1": 3.9664408782237968,
            "xref": "x",
            "y0": 3.396334729730404,
            "y1": 3.7963347297304044,
            "yref": "y"
           },
           {
            "fillcolor": "rgba(193, 255, 54, 0.5)",
            "line": {
             "color": "rgba(193, 255, 54, 0.5)"
            },
            "type": "circle",
            "x0": 4.403285218104048,
            "x1": 4.803285218104048,
            "xref": "x",
            "y0": 3.2520770726636004,
            "y1": 3.6520770726636007,
            "yref": "y"
           },
           {
            "fillcolor": "rgba(44, 255, 202, 0.5)",
            "line": {
             "color": "rgba(44, 255, 202, 0.5)"
            },
            "type": "circle",
            "x0": 5.948668903640828,
            "x1": 6.348668903640828,
            "xref": "x",
            "y0": 2.4718729482228823,
            "y1": 2.8718729482228826,
            "yref": "y"
           },
           {
            "fillcolor": "rgba(0, 117, 255, 0.5)",
            "line": {
             "color": "rgba(0, 117, 255, 0.5)"
            },
            "type": "circle",
            "x0": 3.561090327916633,
            "x1": 3.9610903279166334,
            "xref": "x",
            "y0": 2.6605284732660217,
            "y1": 3.060528473266022,
            "yref": "y"
           },
           {
            "fillcolor": "rgba(0, 0, 128, 0.5)",
            "line": {
             "color": "rgba(0, 0, 128, 0.5)"
            },
            "type": "circle",
            "x0": 5.087229059655491,
            "x1": 5.487229059655491,
            "xref": "x",
            "y0": 1.8537379174628106,
            "y1": 2.2537379174628107,
            "yref": "y"
           },
           {
            "line": {
             "color": "white",
             "width": 3
            },
            "type": "line",
            "x0": 6.337915259465798,
            "x1": 6.398071787140956,
            "y0": 3.8104654154927147,
            "y1": 4.001203959521099
           },
           {
            "line": {
             "color": "white",
             "width": 3
            },
            "type": "line",
            "x0": 3.764115712717014,
            "x1": 3.9628979142010423,
            "y0": 2.0071306679634313,
            "y1": 2.0291678268811135
           },
           {
            "line": {
             "color": "black",
             "width": 3
            },
            "type": "line",
            "x0": 4.616813931226993,
            "x1": 4.7153831486571,
            "y0": 1.6789836085531786,
            "y1": 1.8530069097953294
           },
           {
            "line": {
             "color": "white",
             "width": 3
            },
            "type": "line",
            "x0": 5.329616053891829,
            "x1": 5.529592381701502,
            "y0": 3.1644056452317684,
            "y1": 3.161328582385706
           },
           {
            "line": {
             "color": "black",
             "width": 3
            },
            "type": "line",
            "x0": 5.0753077981506864,
            "x1": 5.274834629833223,
            "y0": 2.619098610590308,
            "y1": 2.6053493037449216
           },
           {
            "line": {
             "color": "black",
             "width": 3
            },
            "type": "line",
            "x0": 3.7664408782237966,
            "x1": 3.962568439179612,
            "y0": 3.5963347297304042,
            "y1": 3.5571686751228375
           },
           {
            "line": {
             "color": "black",
             "width": 3
            },
            "type": "line",
            "x0": 4.603285218104048,
            "x1": 4.6837176107486345,
            "y0": 3.4520770726636005,
            "y1": 3.268963364237751
           },
           {
            "line": {
             "color": "black",
             "width": 3
            },
            "type": "line",
            "x0": 6.148668903640828,
            "x1": 6.205322069580605,
            "y0": 2.6718729482228825,
            "y1": 2.863681234772239
           },
           {
            "line": {
             "color": "white",
             "width": 3
            },
            "type": "line",
            "x0": 3.7610903279166332,
            "x1": 3.9584722700719985,
            "y0": 2.860528473266022,
            "y1": 2.8282737230580905
           },
           {
            "line": {
             "color": "white",
             "width": 3
            },
            "type": "line",
            "x0": 5.287229059655491,
            "x1": 5.486623041500989,
            "y0": 2.0537379174628105,
            "y1": 2.038180282559099
           }
          ],
          "title": {
           "text": "<b>Percentage using the shortest path: 0%  |  Number of Agents: 10</b>",
           "x": 0.5
          }
         },
         "name": "150"
        },
        {
         "data": [
          {
           "hoverinfo": "name",
           "line": {
            "color": "grey"
           },
           "mode": "lines",
           "name": "Exterior",
           "showlegend": false,
           "x": [
            10.1,
            10.1,
            15.0,
            15.0,
            13.6,
            13.6,
            15.0,
            15.0,
            13.6,
            13.6,
            15.0,
            15.0,
            10.1,
            10.1,
            9.9,
            9.9,
            5.1,
            5.1,
            4.9,
            4.9,
            0.0,
            0.0,
            1.5,
            1.5,
            0.0,
            0.0,
            1.5,
            1.5,
            0.0,
            0.0,
            4.9,
            4.9,
            5.1,
            5.1,
            9.9,
            9.9,
            10.1
           ],
           "y": [
            1.5,
            0.0,
            0.0,
            4.9,
            4.9,
            5.1,
            5.1,
            9.9,
            9.9,
            10.1,
            10.1,
            15.0,
            15.0,
            13.6,
            13.6,
            15.0,
            15.0,
            13.6,
            13.6,
            15.0,
            15.0,
            10.1,
            10.1,
            9.9,
            9.9,
            5.1,
            5.1,
            4.9,
            4.9,
            0.0,
            0.0,
            1.5,
            1.5,
            0.0,
            0.0,
            1.5,
            1.5
           ],
           "type": "scatter"
          },
          {
           "hoverinfo": "name",
           "line": {
            "color": "grey"
           },
           "mode": "lines",
           "name": "Obstacle",
           "showlegend": false,
           "x": [
            10.1,
            11.5,
            11.5,
            10.1,
            10.1,
            9.9,
            9.9,
            8.6,
            8.6,
            9.9,
            9.9,
            10.1,
            10.1
           ],
           "y": [
            5.1,
            5.1,
            4.9,
            4.9,
            3.6,
            3.6,
            4.9,
            4.9,
            5.1,
            5.1,
            6.5,
            6.5,
            5.1
           ],
           "type": "scatter"
          },
          {
           "hoverinfo": "name",
           "line": {
            "color": "grey"
           },
           "mode": "lines",
           "name": "Obstacle",
           "showlegend": false,
           "x": [
            10.1,
            11.5,
            11.5,
            10.1,
            10.1,
            9.9,
            9.9,
            8.6,
            8.6,
            9.9,
            9.9,
            10.1,
            10.1
           ],
           "y": [
            10.1,
            10.1,
            9.9,
            9.9,
            8.6,
            8.6,
            9.9,
            9.9,
            10.1,
            10.1,
            11.5,
            11.5,
            10.1
           ],
           "type": "scatter"
          },
          {
           "hoverinfo": "name",
           "line": {
            "color": "grey"
           },
           "mode": "lines",
           "name": "Obstacle",
           "showlegend": false,
           "x": [
            5.1,
            6.4,
            6.4,
            5.1,
            5.1,
            4.9,
            4.9,
            3.6,
            3.6,
            4.9,
            4.9,
            5.1,
            5.1
           ],
           "y": [
            5.1,
            5.1,
            4.9,
            4.9,
            3.6,
            3.6,
            4.9,
            4.9,
            5.1,
            5.1,
            6.5,
            6.5,
            5.1
           ],
           "type": "scatter"
          },
          {
           "hoverinfo": "name",
           "line": {
            "color": "grey"
           },
           "mode": "lines",
           "name": "Obstacle",
           "showlegend": false,
           "x": [
            5.1,
            6.4,
            6.4,
            5.1,
            5.1,
            4.9,
            4.9,
            3.6,
            3.6,
            4.9,
            4.9,
            5.1,
            5.1
           ],
           "y": [
            10.1,
            10.1,
            9.9,
            9.9,
            8.6,
            8.6,
            9.9,
            9.9,
            10.1,
            10.1,
            11.5,
            11.5,
            10.1
           ],
           "type": "scatter"
          },
          {
           "fill": "toself",
           "fillcolor": "rgba(200, 0, 0, 0.00)",
           "hoverinfo": "name",
           "line": {
            "width": 0
           },
           "mode": "lines",
           "name": "Risk Area",
           "showlegend": false,
           "x": [
            0.0,
            5.0,
            5.0,
            0.0,
            0.0
           ],
           "y": [
            0.0,
            0.0,
            5.0,
            5.0,
            0.0
           ],
           "type": "scatter"
          },
          {
           "fill": "toself",
           "fillcolor": "rgba(200, 0, 0, 0.10)",
           "hoverinfo": "name",
           "line": {
            "width": 0
           },
           "mode": "lines",
           "name": "Risk Area",
           "showlegend": false,
           "x": [
            5.0,
            10.0,
            10.0,
            5.0,
            5.0
           ],
           "y": [
            0.0,
            0.0,
            5.0,
            5.0,
            0.0
           ],
           "type": "scatter"
          },
          {
           "fill": "toself",
           "fillcolor": "rgba(200, 0, 0, 0.00)",
           "hoverinfo": "name",
           "line": {
            "width": 0
           },
           "mode": "lines",
           "name": "Risk Area",
           "showlegend": false,
           "x": [
            10.0,
            15.0,
            15.0,
            10.0,
            10.0
           ],
           "y": [
            0.0,
            0.0,
            5.0,
            5.0,
            0.0
           ],
           "type": "scatter"
          },
          {
           "fill": "toself",
           "fillcolor": "rgba(200, 0, 0, 0.00)",
           "hoverinfo": "name",
           "line": {
            "width": 0
           },
           "mode": "lines",
           "name": "Risk Area",
           "showlegend": false,
           "x": [
            10.0,
            15.0,
            15.0,
            10.0,
            10.0
           ],
           "y": [
            5.0,
            5.0,
            10.0,
            10.0,
            5.0
           ],
           "type": "scatter"
          },
          {
           "fill": "toself",
           "fillcolor": "rgba(200, 0, 0, 0.50)",
           "hoverinfo": "name",
           "line": {
            "width": 0
           },
           "mode": "lines",
           "name": "Risk Area",
           "showlegend": false,
           "x": [
            5.0,
            10.0,
            10.0,
            5.0,
            5.0
           ],
           "y": [
            5.0,
            5.0,
            10.0,
            10.0,
            5.0
           ],
           "type": "scatter"
          },
          {
           "fill": "toself",
           "fillcolor": "rgba(200, 0, 0, 0.00)",
           "hoverinfo": "name",
           "line": {
            "width": 0
           },
           "mode": "lines",
           "name": "Risk Area",
           "showlegend": false,
           "x": [
            0.0,
            5.0,
            5.0,
            0.0,
            0.0
           ],
           "y": [
            5.0,
            5.0,
            10.0,
            10.0,
            5.0
           ],
           "type": "scatter"
          },
          {
           "fill": "toself",
           "fillcolor": "rgba(200, 0, 0, 0.00)",
           "hoverinfo": "name",
           "line": {
            "width": 0
           },
           "mode": "lines",
           "name": "Risk Area",
           "showlegend": false,
           "x": [
            0.0,
            5.0,
            5.0,
            0.0,
            0.0
           ],
           "y": [
            10.0,
            10.0,
            15.0,
            15.0,
            10.0
           ],
           "type": "scatter"
          },
          {
           "fill": "toself",
           "fillcolor": "rgba(200, 0, 0, 0.20)",
           "hoverinfo": "name",
           "line": {
            "width": 0
           },
           "mode": "lines",
           "name": "Risk Area",
           "showlegend": false,
           "x": [
            5.0,
            10.0,
            10.0,
            5.0,
            5.0
           ],
           "y": [
            10.0,
            10.0,
            15.0,
            15.0,
            10.0
           ],
           "type": "scatter"
          },
          {
           "fill": "toself",
           "fillcolor": "rgba(200, 0, 0, 0.00)",
           "hoverinfo": "name",
           "line": {
            "width": 0
           },
           "mode": "lines",
           "name": "Risk Area",
           "showlegend": false,
           "x": [
            10.0,
            15.0,
            15.0,
            10.0,
            10.0
           ],
           "y": [
            10.0,
            10.0,
            15.0,
            15.0,
            10.0
           ],
           "type": "scatter"
          },
          {
           "hoverinfo": "text",
           "marker": {
            "opacity": 1,
            "size": 1
           },
           "mode": "markers",
           "showlegend": false,
           "text": [
            "ID: 61, Pos(6.82,4.89)"
           ],
           "x": [
            6.818495896716733
           ],
           "y": [
            4.894711756091618
           ],
           "type": "scatter"
          },
          {
           "hoverinfo": "text",
           "marker": {
            "opacity": 1,
            "size": 1
           },
           "mode": "markers",
           "showlegend": false,
           "text": [
            "ID: 62, Pos(4.24,2.05)"
           ],
           "x": [
            4.242328320415786
           ],
           "y": [
            2.053025305220917
           ],
           "type": "scatter"
          },
          {
           "hoverinfo": "text",
           "marker": {
            "opacity": 1,
            "size": 1
           },
           "mode": "markers",
           "showlegend": false,
           "text": [
            "ID: 63, Pos(5.16,1.98)"
           ],
           "x": [
            5.161065449121136
           ],
           "y": [
            1.9838800136897727
           ],
           "type": "scatter"
          },
          {
           "hoverinfo": "text",
           "marker": {
            "opacity": 1,
            "size": 1
           },
           "mode": "markers",
           "showlegend": false,
           "text": [
            "ID: 64, Pos(5.75,3.15)"
           ],
           "x": [
            5.748042034942535
           ],
           "y": [
            3.1502189240538683
           ],
           "type": "scatter"
          },
          {
           "hoverinfo": "text",
           "marker": {
            "opacity": 1,
            "size": 1
           },
           "mode": "markers",
           "showlegend": false,
           "text": [
            "ID: 65, Pos(6.01,2.65)"
           ],
           "x": [
            6.009640666185608
           ],
           "y": [
            2.645962890851462
           ],
           "type": "scatter"
          },
          {
           "hoverinfo": "text",
           "marker": {
            "opacity": 1,
            "size": 1
           },
           "mode": "markers",
           "showlegend": false,
           "text": [
            "ID: 66, Pos(4.19,3.49)"
           ],
           "x": [
            4.190833547036539
           ],
           "y": [
            3.4921660258942815
           ],
           "type": "scatter"
          },
          {
           "hoverinfo": "text",
           "marker": {
            "opacity": 1,
            "size": 1
           },
           "mode": "markers",
           "showlegend": false,
           "text": [
            "ID: 67, Pos(4.96,3.20)"
           ],
           "x": [
            4.959328014215503
           ],
           "y": [
            3.1952081653091042
           ],
           "type": "scatter"
          },
          {
           "hoverinfo": "text",
           "marker": {
            "opacity": 1,
            "size": 1
           },
           "mode": "markers",
           "showlegend": false,
           "text": [
            "ID: 68, Pos(6.45,3.53)"
           ],
           "x": [
            6.454141863154297
           ],
           "y": [
            3.5309976095485136
           ],
           "type": "scatter"
          },
          {
           "hoverinfo": "text",
           "marker": {
            "opacity": 1,
            "size": 1
           },
           "mode": "markers",
           "showlegend": false,
           "text": [
            "ID: 69, Pos(4.71,2.65)"
           ],
           "x": [
            4.712398668248698
           ],
           "y": [
            2.6538767410181694
           ],
           "type": "scatter"
          },
          {
           "hoverinfo": "text",
           "marker": {
            "opacity": 1,
            "size": 1
           },
           "mode": "markers",
           "showlegend": false,
           "text": [
            "ID: 70, Pos(6.41,2.28)"
           ],
           "x": [
            6.413624592813852
           ],
           "y": [
            2.276805837745456
           ],
           "type": "scatter"
          }
         ],
         "layout": {
          "shapes": [
           {
            "fillcolor": "rgba(0, 0, 128, 0.5)",
            "line": {
             "color": "rgba(0, 0, 128, 0.5)"
            },
            "type": "circle",
            "x0": 6.618495896716733,
            "x1": 7.0184958967167335,
            "xref": "x",
            "y0": 4.694711756091618,
            "y1": 5.094711756091618,
            "yref": "y"
           },
           {
            "fillcolor": "rgba(219, 255, 28, 0.5)",
            "line": {
             "color": "rgba(219, 255, 28, 0.5)"
            },
            "type": "circle",
            "x0": 4.042328320415786,
            "x1": 4.442328320415786,
            "xref": "x",
            "y0": 1.853025305220917,
            "y1": 2.253025305220917,
            "yref": "y"
           },
           {
            "fillcolor": "rgba(0, 164, 255, 0.5)",
            "line": {
             "color": "rgba(0, 164, 255, 0.5)"
            },
            "type": "circle",
            "x0": 4.9610654491211355,
            "x1": 5.361065449121136,
            "xref": "x",
            "y0": 1.7838800136897728,
            "y1": 2.1838800136897727,
            "yref": "y"
           },
           {
            "fillcolor": "rgba(255, 174, 0, 0.5)",
            "line": {
             "color": "rgba(255, 174, 0, 0.5)"
            },
            "type": "circle",
            "x0": 5.548042034942535,
            "x1": 5.948042034942535,
            "xref": "x",
            "y0": 2.950218924053868,
            "y1": 3.3502189240538685,
            "yref": "y"
           },
           {
            "fillcolor": "rgba(205, 0, 0, 0.5)",
            "line": {
             "color": "rgba(205, 0, 0, 0.5)"
            },
            "type": "circle",
            "x0": 5.809640666185608,
            "x1": 6.209640666185608,
            "xref": "x",
            "y0": 2.4459628908514617,
            "y1": 2.845962890851462,
            "yref": "y"
           },
           {
            "fillcolor": "rgba(255, 196, 0, 0.5)",
            "line": {
             "color": "rgba(255, 196, 0, 0.5)"
            },
            "type": "circle",
            "x0": 3.990833547036539,
            "x1": 4.390833547036539,
            "xref": "x",
            "y0": 3.2921660258942813,
            "y1": 3.6921660258942817,
            "yref": "y"
           },
           {
            "fillcolor": "rgba(255, 167, 0, 0.5)",
            "line": {
             "color": "rgba(255, 167, 0, 0.5)"
            },
            "type": "circle",
            "x0": 4.7593280142155026,
            "x1": 5.159328014215503,
            "xref": "x",
            "y0": 2.995208165309104,
            "y1": 3.3952081653091044,
            "yref": "y"
           },
           {
            "fillcolor": "rgba(0, 45, 255, 0.5)",
            "line": {
             "color": "rgba(0, 45, 255, 0.5)"
            },
            "type": "circle",
            "x0": 6.254141863154297,
            "x1": 6.6541418631542975,
            "xref": "x",
            "y0": 3.3309976095485134,
            "y1": 3.730997609548514,
            "yref": "y"
           },
           {
            "fillcolor": "rgba(0, 0, 168, 0.5)",
            "line": {
             "color": "rgba(0, 0, 168, 0.5)"
            },
            "type": "circle",
            "x0": 4.512398668248697,
            "x1": 4.912398668248698,
            "xref": "x",
            "y0": 2.453876741018169,
            "y1": 2.8538767410181696,
            "yref": "y"
           },
           {
            "fillcolor": "rgba(0, 0, 137, 0.5)",
            "line": {
             "color": "rgba(0, 0, 137, 0.5)"
            },
            "type": "circle",
            "x0": 6.213624592813852,
            "x1": 6.613624592813852,
            "xref": "x",
            "y0": 2.076805837745456,
            "y1": 2.4768058377454563,
            "yref": "y"
           },
           {
            "line": {
             "color": "white",
             "width": 3
            },
            "type": "line",
            "x0": 6.818495896716733,
            "x1": 6.897080101795871,
            "y0": 4.894711756091618,
            "y1": 5.0786262000923
           },
           {
            "line": {
             "color": "black",
             "width": 3
            },
            "type": "line",
            "x0": 4.242328320415786,
            "x1": 4.441559658142838,
            "y0": 2.053025305220917,
            "y1": 2.070543126646235
           },
           {
            "line": {
             "color": "white",
             "width": 3
            },
            "type": "line",
            "x0": 5.161065449121136,
            "x1": 5.356857753618931,
            "y0": 1.9838800136897727,
            "y1": 2.024689001663535
           },
           {
            "line": {
             "color": "black",
             "width": 3
            },
            "type": "line",
            "x0": 5.748042034942535,
            "x1": 5.947519156510432,
            "y0": 3.1502189240538683,
            "y1": 3.1646715352707595
           },
           {
            "line": {
             "color": "white",
             "width": 3
            },
            "type": "line",
            "x0": 6.009640666185608,
            "x1": 6.025111889044508,
            "y0": 2.645962890851462,
            "y1": 2.845363596124162
           },
           {
            "line": {
             "color": "black",
             "width": 3
            },
            "type": "line",
            "x0": 4.190833547036539,
            "x1": 4.382873655554673,
            "y0": 3.4921660258942815,
            "y1": 3.4363037244706613
           },
           {
            "line": {
             "color": "black",
             "width": 3
            },
            "type": "line",
            "x0": 4.959328014215503,
            "x1": 5.157580187161891,
            "y0": 3.1952081653091042,
            "y1": 3.168824914523135
           },
           {
            "line": {
             "color": "white",
             "width": 3
            },
            "type": "line",
            "x0": 6.454141863154297,
            "x1": 6.511814136122602,
            "y0": 3.5309976095485136,
            "y1": 3.7225019409111995
           },
           {
            "line": {
             "color": "white",
             "width": 3
            },
            "type": "line",
            "x0": 4.712398668248698,
            "x1": 4.900780339686537,
            "y0": 2.6538767410181694,
            "y1": 2.5867027440678174
           },
           {
            "line": {
             "color": "white",
             "width": 3
            },
            "type": "line",
            "x0": 6.413624592813852,
            "x1": 6.564289469401005,
            "y0": 2.276805837745456,
            "y1": 2.408335663119696
           }
          ],
          "title": {
           "text": "<b>Percentage using the shortest path: 0%  |  Number of Agents: 10</b>",
           "x": 0.5
          }
         },
         "name": "200"
        },
        {
         "data": [
          {
           "hoverinfo": "name",
           "line": {
            "color": "grey"
           },
           "mode": "lines",
           "name": "Exterior",
           "showlegend": false,
           "x": [
            10.1,
            10.1,
            15.0,
            15.0,
            13.6,
            13.6,
            15.0,
            15.0,
            13.6,
            13.6,
            15.0,
            15.0,
            10.1,
            10.1,
            9.9,
            9.9,
            5.1,
            5.1,
            4.9,
            4.9,
            0.0,
            0.0,
            1.5,
            1.5,
            0.0,
            0.0,
            1.5,
            1.5,
            0.0,
            0.0,
            4.9,
            4.9,
            5.1,
            5.1,
            9.9,
            9.9,
            10.1
           ],
           "y": [
            1.5,
            0.0,
            0.0,
            4.9,
            4.9,
            5.1,
            5.1,
            9.9,
            9.9,
            10.1,
            10.1,
            15.0,
            15.0,
            13.6,
            13.6,
            15.0,
            15.0,
            13.6,
            13.6,
            15.0,
            15.0,
            10.1,
            10.1,
            9.9,
            9.9,
            5.1,
            5.1,
            4.9,
            4.9,
            0.0,
            0.0,
            1.5,
            1.5,
            0.0,
            0.0,
            1.5,
            1.5
           ],
           "type": "scatter"
          },
          {
           "hoverinfo": "name",
           "line": {
            "color": "grey"
           },
           "mode": "lines",
           "name": "Obstacle",
           "showlegend": false,
           "x": [
            10.1,
            11.5,
            11.5,
            10.1,
            10.1,
            9.9,
            9.9,
            8.6,
            8.6,
            9.9,
            9.9,
            10.1,
            10.1
           ],
           "y": [
            5.1,
            5.1,
            4.9,
            4.9,
            3.6,
            3.6,
            4.9,
            4.9,
            5.1,
            5.1,
            6.5,
            6.5,
            5.1
           ],
           "type": "scatter"
          },
          {
           "hoverinfo": "name",
           "line": {
            "color": "grey"
           },
           "mode": "lines",
           "name": "Obstacle",
           "showlegend": false,
           "x": [
            10.1,
            11.5,
            11.5,
            10.1,
            10.1,
            9.9,
            9.9,
            8.6,
            8.6,
            9.9,
            9.9,
            10.1,
            10.1
           ],
           "y": [
            10.1,
            10.1,
            9.9,
            9.9,
            8.6,
            8.6,
            9.9,
            9.9,
            10.1,
            10.1,
            11.5,
            11.5,
            10.1
           ],
           "type": "scatter"
          },
          {
           "hoverinfo": "name",
           "line": {
            "color": "grey"
           },
           "mode": "lines",
           "name": "Obstacle",
           "showlegend": false,
           "x": [
            5.1,
            6.4,
            6.4,
            5.1,
            5.1,
            4.9,
            4.9,
            3.6,
            3.6,
            4.9,
            4.9,
            5.1,
            5.1
           ],
           "y": [
            5.1,
            5.1,
            4.9,
            4.9,
            3.6,
            3.6,
            4.9,
            4.9,
            5.1,
            5.1,
            6.5,
            6.5,
            5.1
           ],
           "type": "scatter"
          },
          {
           "hoverinfo": "name",
           "line": {
            "color": "grey"
           },
           "mode": "lines",
           "name": "Obstacle",
           "showlegend": false,
           "x": [
            5.1,
            6.4,
            6.4,
            5.1,
            5.1,
            4.9,
            4.9,
            3.6,
            3.6,
            4.9,
            4.9,
            5.1,
            5.1
           ],
           "y": [
            10.1,
            10.1,
            9.9,
            9.9,
            8.6,
            8.6,
            9.9,
            9.9,
            10.1,
            10.1,
            11.5,
            11.5,
            10.1
           ],
           "type": "scatter"
          },
          {
           "fill": "toself",
           "fillcolor": "rgba(200, 0, 0, 0.00)",
           "hoverinfo": "name",
           "line": {
            "width": 0
           },
           "mode": "lines",
           "name": "Risk Area",
           "showlegend": false,
           "x": [
            0.0,
            5.0,
            5.0,
            0.0,
            0.0
           ],
           "y": [
            0.0,
            0.0,
            5.0,
            5.0,
            0.0
           ],
           "type": "scatter"
          },
          {
           "fill": "toself",
           "fillcolor": "rgba(200, 0, 0, 0.10)",
           "hoverinfo": "name",
           "line": {
            "width": 0
           },
           "mode": "lines",
           "name": "Risk Area",
           "showlegend": false,
           "x": [
            5.0,
            10.0,
            10.0,
            5.0,
            5.0
           ],
           "y": [
            0.0,
            0.0,
            5.0,
            5.0,
            0.0
           ],
           "type": "scatter"
          },
          {
           "fill": "toself",
           "fillcolor": "rgba(200, 0, 0, 0.00)",
           "hoverinfo": "name",
           "line": {
            "width": 0
           },
           "mode": "lines",
           "name": "Risk Area",
           "showlegend": false,
           "x": [
            10.0,
            15.0,
            15.0,
            10.0,
            10.0
           ],
           "y": [
            0.0,
            0.0,
            5.0,
            5.0,
            0.0
           ],
           "type": "scatter"
          },
          {
           "fill": "toself",
           "fillcolor": "rgba(200, 0, 0, 0.00)",
           "hoverinfo": "name",
           "line": {
            "width": 0
           },
           "mode": "lines",
           "name": "Risk Area",
           "showlegend": false,
           "x": [
            10.0,
            15.0,
            15.0,
            10.0,
            10.0
           ],
           "y": [
            5.0,
            5.0,
            10.0,
            10.0,
            5.0
           ],
           "type": "scatter"
          },
          {
           "fill": "toself",
           "fillcolor": "rgba(200, 0, 0, 0.50)",
           "hoverinfo": "name",
           "line": {
            "width": 0
           },
           "mode": "lines",
           "name": "Risk Area",
           "showlegend": false,
           "x": [
            5.0,
            10.0,
            10.0,
            5.0,
            5.0
           ],
           "y": [
            5.0,
            5.0,
            10.0,
            10.0,
            5.0
           ],
           "type": "scatter"
          },
          {
           "fill": "toself",
           "fillcolor": "rgba(200, 0, 0, 0.00)",
           "hoverinfo": "name",
           "line": {
            "width": 0
           },
           "mode": "lines",
           "name": "Risk Area",
           "showlegend": false,
           "x": [
            0.0,
            5.0,
            5.0,
            0.0,
            0.0
           ],
           "y": [
            5.0,
            5.0,
            10.0,
            10.0,
            5.0
           ],
           "type": "scatter"
          },
          {
           "fill": "toself",
           "fillcolor": "rgba(200, 0, 0, 0.00)",
           "hoverinfo": "name",
           "line": {
            "width": 0
           },
           "mode": "lines",
           "name": "Risk Area",
           "showlegend": false,
           "x": [
            0.0,
            5.0,
            5.0,
            0.0,
            0.0
           ],
           "y": [
            10.0,
            10.0,
            15.0,
            15.0,
            10.0
           ],
           "type": "scatter"
          },
          {
           "fill": "toself",
           "fillcolor": "rgba(200, 0, 0, 0.20)",
           "hoverinfo": "name",
           "line": {
            "width": 0
           },
           "mode": "lines",
           "name": "Risk Area",
           "showlegend": false,
           "x": [
            5.0,
            10.0,
            10.0,
            5.0,
            5.0
           ],
           "y": [
            10.0,
            10.0,
            15.0,
            15.0,
            10.0
           ],
           "type": "scatter"
          },
          {
           "fill": "toself",
           "fillcolor": "rgba(200, 0, 0, 0.00)",
           "hoverinfo": "name",
           "line": {
            "width": 0
           },
           "mode": "lines",
           "name": "Risk Area",
           "showlegend": false,
           "x": [
            10.0,
            15.0,
            15.0,
            10.0,
            10.0
           ],
           "y": [
            10.0,
            10.0,
            15.0,
            15.0,
            10.0
           ],
           "type": "scatter"
          },
          {
           "hoverinfo": "text",
           "marker": {
            "opacity": 1,
            "size": 1
           },
           "mode": "markers",
           "showlegend": false,
           "text": [
            "ID: 61, Pos(7.14,6.05)"
           ],
           "x": [
            7.138099800654597
           ],
           "y": [
            6.047572702367926
           ],
           "type": "scatter"
          },
          {
           "hoverinfo": "text",
           "marker": {
            "opacity": 1,
            "size": 1
           },
           "mode": "markers",
           "showlegend": false,
           "text": [
            "ID: 62, Pos(4.73,2.10)"
           ],
           "x": [
            4.727458490982779
           ],
           "y": [
            2.103296880026608
           ],
           "type": "scatter"
          },
          {
           "hoverinfo": "text",
           "marker": {
            "opacity": 1,
            "size": 1
           },
           "mode": "markers",
           "showlegend": false,
           "text": [
            "ID: 63, Pos(6.09,2.24)"
           ],
           "x": [
            6.092120243159756
           ],
           "y": [
            2.2412441423698843
           ],
           "type": "scatter"
          },
          {
           "hoverinfo": "text",
           "marker": {
            "opacity": 1,
            "size": 1
           },
           "mode": "markers",
           "showlegend": false,
           "text": [
            "ID: 64, Pos(6.11,3.38)"
           ],
           "x": [
            6.109018057924161
           ],
           "y": [
            3.3776322134539307
           ],
           "type": "scatter"
          },
          {
           "hoverinfo": "text",
           "marker": {
            "opacity": 1,
            "size": 1
           },
           "mode": "markers",
           "showlegend": false,
           "text": [
            "ID: 65, Pos(6.61,3.30)"
           ],
           "x": [
            6.612864287605157
           ],
           "y": [
            3.3036357529219282
           ],
           "type": "scatter"
          },
          {
           "hoverinfo": "text",
           "marker": {
            "opacity": 1,
            "size": 1
           },
           "mode": "markers",
           "showlegend": false,
           "text": [
            "ID: 66, Pos(4.58,3.36)"
           ],
           "x": [
            4.583436112827418
           ],
           "y": [
            3.3623055896317173
           ],
           "type": "scatter"
          },
          {
           "hoverinfo": "text",
           "marker": {
            "opacity": 1,
            "size": 1
           },
           "mode": "markers",
           "showlegend": false,
           "text": [
            "ID: 67, Pos(5.37,3.15)"
           ],
           "x": [
            5.368862867245899
           ],
           "y": [
            3.1459617738066488
           ],
           "type": "scatter"
          },
          {
           "hoverinfo": "text",
           "marker": {
            "opacity": 1,
            "size": 1
           },
           "mode": "markers",
           "showlegend": false,
           "text": [
            "ID: 68, Pos(6.74,4.57)"
           ],
           "x": [
            6.7376726329267065
           ],
           "y": [
            4.573399609100478
           ],
           "type": "scatter"
          },
          {
           "hoverinfo": "text",
           "marker": {
            "opacity": 1,
            "size": 1
           },
           "mode": "markers",
           "showlegend": false,
           "text": [
            "ID: 69, Pos(5.39,2.50)"
           ],
           "x": [
            5.386977348498742
           ],
           "y": [
            2.502522424472313
           ],
           "type": "scatter"
          },
          {
           "hoverinfo": "text",
           "marker": {
            "opacity": 1,
            "size": 1
           },
           "mode": "markers",
           "showlegend": false,
           "text": [
            "ID: 70, Pos(7.15,3.22)"
           ],
           "x": [
            7.1547165471618275
           ],
           "y": [
            3.2161430778128337
           ],
           "type": "scatter"
          }
         ],
         "layout": {
          "shapes": [
           {
            "fillcolor": "rgba(0, 21, 255, 0.5)",
            "line": {
             "color": "rgba(0, 21, 255, 0.5)"
            },
            "type": "circle",
            "x0": 6.938099800654597,
            "x1": 7.338099800654597,
            "xref": "x",
            "y0": 5.847572702367926,
            "y1": 6.247572702367926,
            "yref": "y"
           },
           {
            "fillcolor": "rgba(255, 148, 0, 0.5)",
            "line": {
             "color": "rgba(255, 148, 0, 0.5)"
            },
            "type": "circle",
            "x0": 4.527458490982779,
            "x1": 4.927458490982779,
            "xref": "x",
            "y0": 1.903296880026608,
            "y1": 2.303296880026608,
            "yref": "y"
           },
           {
            "fillcolor": "rgba(73, 255, 173, 0.5)",
            "line": {
             "color": "rgba(73, 255, 173, 0.5)"
            },
            "type": "circle",
            "x0": 5.892120243159756,
            "x1": 6.292120243159756,
            "xref": "x",
            "y0": 2.041244142369884,
            "y1": 2.4412441423698845,
            "yref": "y"
           },
           {
            "fillcolor": "rgba(51, 255, 196, 0.5)",
            "line": {
             "color": "rgba(51, 255, 196, 0.5)"
            },
            "type": "circle",
            "x0": 5.909018057924161,
            "x1": 6.3090180579241615,
            "xref": "x",
            "y0": 3.1776322134539305,
            "y1": 3.577632213453931,
            "yref": "y"
           },
           {
            "fillcolor": "rgba(0, 0, 232, 0.5)",
            "line": {
             "color": "rgba(0, 0, 232, 0.5)"
            },
            "type": "circle",
            "x0": 6.4128642876051565,
            "x1": 6.812864287605157,
            "xref": "x",
            "y0": 3.103635752921928,
            "y1": 3.5036357529219284,
            "yref": "y"
           },
           {
            "fillcolor": "rgba(255, 185, 0, 0.5)",
            "line": {
             "color": "rgba(255, 185, 0, 0.5)"
            },
            "type": "circle",
            "x0": 4.383436112827418,
            "x1": 4.7834361128274185,
            "xref": "x",
            "y0": 3.162305589631717,
            "y1": 3.5623055896317175,
            "yref": "y"
           },
           {
            "fillcolor": "rgba(255, 159, 0, 0.5)",
            "line": {
             "color": "rgba(255, 159, 0, 0.5)"
            },
            "type": "circle",
            "x0": 5.168862867245899,
            "x1": 5.568862867245899,
            "xref": "x",
            "y0": 2.9459617738066486,
            "y1": 3.345961773806649,
            "yref": "y"
           },
           {
            "fillcolor": "rgba(0, 0, 214, 0.5)",
            "line": {
             "color": "rgba(0, 0, 214, 0.5)"
            },
            "type": "circle",
            "x0": 6.537672632926706,
            "x1": 6.937672632926707,
            "xref": "x",
            "y0": 4.373399609100478,
            "y1": 4.773399609100478,
            "yref": "y"
           },
           {
            "fillcolor": "rgba(255, 134, 0, 0.5)",
            "line": {
             "color": "rgba(255, 134, 0, 0.5)"
            },
            "type": "circle",
            "x0": 5.186977348498742,
            "x1": 5.586977348498742,
            "xref": "x",
            "y0": 2.302522424472313,
            "y1": 2.7025224244723134,
            "yref": "y"
           },
           {
            "fillcolor": "rgba(0, 0, 128, 0.5)",
            "line": {
             "color": "rgba(0, 0, 128, 0.5)"
            },
            "type": "circle",
            "x0": 6.954716547161827,
            "x1": 7.354716547161828,
            "xref": "x",
            "y0": 3.0161430778128335,
            "y1": 3.416143077812834,
            "yref": "y"
           },
           {
            "line": {
             "color": "white",
             "width": 3
            },
            "type": "line",
            "x0": 7.138099800654597,
            "x1": 7.331141386532763,
            "y0": 6.047572702367926,
            "y1": 6.099869414708598
           },
           {
            "line": {
             "color": "black",
             "width": 3
            },
            "type": "line",
            "x0": 4.727458490982779,
            "x1": 4.926094508424968,
            "y0": 2.103296880026608,
            "y1": 2.126614954018827
           },
           {
            "line": {
             "color": "black",
             "width": 3
            },
            "type": "line",
            "x0": 6.092120243159756,
            "x1": 6.158599053547657,
            "y0": 2.2412441423698843,
            "y1": 2.4298722626738556
           },
           {
            "line": {
             "color": "black",
             "width": 3
            },
            "type": "line",
            "x0": 6.109018057924161,
            "x1": 6.124515505587229,
            "y0": 3.3776322134539307,
            "y1": 3.1782335446621595
           },
           {
            "line": {
             "color": "white",
             "width": 3
            },
            "type": "line",
            "x0": 6.612864287605157,
            "x1": 6.706775812256763,
            "y0": 3.3036357529219282,
            "y1": 3.4802161185847353
           },
           {
            "line": {
             "color": "black",
             "width": 3
            },
            "type": "line",
            "x0": 4.583436112827418,
            "x1": 4.761392385596953,
            "y0": 3.3623055896317173,
            "y1": 3.2710281828873593
           },
           {
            "line": {
             "color": "black",
             "width": 3
            },
            "type": "line",
            "x0": 5.368862867245899,
            "x1": 5.567678733091003,
            "y0": 3.1459617738066488,
            "y1": 3.1242304257522435
           },
           {
            "line": {
             "color": "white",
             "width": 3
            },
            "type": "line",
            "x0": 6.7376726329267065,
            "x1": 6.795551315382569,
            "y0": 4.573399609100478,
            "y1": 4.764841658079205
           },
           {
            "line": {
             "color": "black",
             "width": 3
            },
            "type": "line",
            "x0": 5.386977348498742,
            "x1": 5.584044043187392,
            "y0": 2.502522424472313,
            "y1": 2.468394461677996
           },
           {
            "line": {
             "color": "white",
             "width": 3
            },
            "type": "line",
            "x0": 7.1547165471618275,
            "x1": 7.273831295879472,
            "y0": 3.2161430778128337,
            "y1": 3.37680320552949
           }
          ],
          "title": {
           "text": "<b>Percentage using the shortest path: 0%  |  Number of Agents: 10</b>",
           "x": 0.5
          }
         },
         "name": "250"
        },
        {
         "data": [
          {
           "hoverinfo": "name",
           "line": {
            "color": "grey"
           },
           "mode": "lines",
           "name": "Exterior",
           "showlegend": false,
           "x": [
            10.1,
            10.1,
            15.0,
            15.0,
            13.6,
            13.6,
            15.0,
            15.0,
            13.6,
            13.6,
            15.0,
            15.0,
            10.1,
            10.1,
            9.9,
            9.9,
            5.1,
            5.1,
            4.9,
            4.9,
            0.0,
            0.0,
            1.5,
            1.5,
            0.0,
            0.0,
            1.5,
            1.5,
            0.0,
            0.0,
            4.9,
            4.9,
            5.1,
            5.1,
            9.9,
            9.9,
            10.1
           ],
           "y": [
            1.5,
            0.0,
            0.0,
            4.9,
            4.9,
            5.1,
            5.1,
            9.9,
            9.9,
            10.1,
            10.1,
            15.0,
            15.0,
            13.6,
            13.6,
            15.0,
            15.0,
            13.6,
            13.6,
            15.0,
            15.0,
            10.1,
            10.1,
            9.9,
            9.9,
            5.1,
            5.1,
            4.9,
            4.9,
            0.0,
            0.0,
            1.5,
            1.5,
            0.0,
            0.0,
            1.5,
            1.5
           ],
           "type": "scatter"
          },
          {
           "hoverinfo": "name",
           "line": {
            "color": "grey"
           },
           "mode": "lines",
           "name": "Obstacle",
           "showlegend": false,
           "x": [
            10.1,
            11.5,
            11.5,
            10.1,
            10.1,
            9.9,
            9.9,
            8.6,
            8.6,
            9.9,
            9.9,
            10.1,
            10.1
           ],
           "y": [
            5.1,
            5.1,
            4.9,
            4.9,
            3.6,
            3.6,
            4.9,
            4.9,
            5.1,
            5.1,
            6.5,
            6.5,
            5.1
           ],
           "type": "scatter"
          },
          {
           "hoverinfo": "name",
           "line": {
            "color": "grey"
           },
           "mode": "lines",
           "name": "Obstacle",
           "showlegend": false,
           "x": [
            10.1,
            11.5,
            11.5,
            10.1,
            10.1,
            9.9,
            9.9,
            8.6,
            8.6,
            9.9,
            9.9,
            10.1,
            10.1
           ],
           "y": [
            10.1,
            10.1,
            9.9,
            9.9,
            8.6,
            8.6,
            9.9,
            9.9,
            10.1,
            10.1,
            11.5,
            11.5,
            10.1
           ],
           "type": "scatter"
          },
          {
           "hoverinfo": "name",
           "line": {
            "color": "grey"
           },
           "mode": "lines",
           "name": "Obstacle",
           "showlegend": false,
           "x": [
            5.1,
            6.4,
            6.4,
            5.1,
            5.1,
            4.9,
            4.9,
            3.6,
            3.6,
            4.9,
            4.9,
            5.1,
            5.1
           ],
           "y": [
            5.1,
            5.1,
            4.9,
            4.9,
            3.6,
            3.6,
            4.9,
            4.9,
            5.1,
            5.1,
            6.5,
            6.5,
            5.1
           ],
           "type": "scatter"
          },
          {
           "hoverinfo": "name",
           "line": {
            "color": "grey"
           },
           "mode": "lines",
           "name": "Obstacle",
           "showlegend": false,
           "x": [
            5.1,
            6.4,
            6.4,
            5.1,
            5.1,
            4.9,
            4.9,
            3.6,
            3.6,
            4.9,
            4.9,
            5.1,
            5.1
           ],
           "y": [
            10.1,
            10.1,
            9.9,
            9.9,
            8.6,
            8.6,
            9.9,
            9.9,
            10.1,
            10.1,
            11.5,
            11.5,
            10.1
           ],
           "type": "scatter"
          },
          {
           "fill": "toself",
           "fillcolor": "rgba(200, 0, 0, 0.00)",
           "hoverinfo": "name",
           "line": {
            "width": 0
           },
           "mode": "lines",
           "name": "Risk Area",
           "showlegend": false,
           "x": [
            0.0,
            5.0,
            5.0,
            0.0,
            0.0
           ],
           "y": [
            0.0,
            0.0,
            5.0,
            5.0,
            0.0
           ],
           "type": "scatter"
          },
          {
           "fill": "toself",
           "fillcolor": "rgba(200, 0, 0, 0.10)",
           "hoverinfo": "name",
           "line": {
            "width": 0
           },
           "mode": "lines",
           "name": "Risk Area",
           "showlegend": false,
           "x": [
            5.0,
            10.0,
            10.0,
            5.0,
            5.0
           ],
           "y": [
            0.0,
            0.0,
            5.0,
            5.0,
            0.0
           ],
           "type": "scatter"
          },
          {
           "fill": "toself",
           "fillcolor": "rgba(200, 0, 0, 0.00)",
           "hoverinfo": "name",
           "line": {
            "width": 0
           },
           "mode": "lines",
           "name": "Risk Area",
           "showlegend": false,
           "x": [
            10.0,
            15.0,
            15.0,
            10.0,
            10.0
           ],
           "y": [
            0.0,
            0.0,
            5.0,
            5.0,
            0.0
           ],
           "type": "scatter"
          },
          {
           "fill": "toself",
           "fillcolor": "rgba(200, 0, 0, 0.00)",
           "hoverinfo": "name",
           "line": {
            "width": 0
           },
           "mode": "lines",
           "name": "Risk Area",
           "showlegend": false,
           "x": [
            10.0,
            15.0,
            15.0,
            10.0,
            10.0
           ],
           "y": [
            5.0,
            5.0,
            10.0,
            10.0,
            5.0
           ],
           "type": "scatter"
          },
          {
           "fill": "toself",
           "fillcolor": "rgba(200, 0, 0, 0.50)",
           "hoverinfo": "name",
           "line": {
            "width": 0
           },
           "mode": "lines",
           "name": "Risk Area",
           "showlegend": false,
           "x": [
            5.0,
            10.0,
            10.0,
            5.0,
            5.0
           ],
           "y": [
            5.0,
            5.0,
            10.0,
            10.0,
            5.0
           ],
           "type": "scatter"
          },
          {
           "fill": "toself",
           "fillcolor": "rgba(200, 0, 0, 0.00)",
           "hoverinfo": "name",
           "line": {
            "width": 0
           },
           "mode": "lines",
           "name": "Risk Area",
           "showlegend": false,
           "x": [
            0.0,
            5.0,
            5.0,
            0.0,
            0.0
           ],
           "y": [
            5.0,
            5.0,
            10.0,
            10.0,
            5.0
           ],
           "type": "scatter"
          },
          {
           "fill": "toself",
           "fillcolor": "rgba(200, 0, 0, 0.00)",
           "hoverinfo": "name",
           "line": {
            "width": 0
           },
           "mode": "lines",
           "name": "Risk Area",
           "showlegend": false,
           "x": [
            0.0,
            5.0,
            5.0,
            0.0,
            0.0
           ],
           "y": [
            10.0,
            10.0,
            15.0,
            15.0,
            10.0
           ],
           "type": "scatter"
          },
          {
           "fill": "toself",
           "fillcolor": "rgba(200, 0, 0, 0.20)",
           "hoverinfo": "name",
           "line": {
            "width": 0
           },
           "mode": "lines",
           "name": "Risk Area",
           "showlegend": false,
           "x": [
            5.0,
            10.0,
            10.0,
            5.0,
            5.0
           ],
           "y": [
            10.0,
            10.0,
            15.0,
            15.0,
            10.0
           ],
           "type": "scatter"
          },
          {
           "fill": "toself",
           "fillcolor": "rgba(200, 0, 0, 0.00)",
           "hoverinfo": "name",
           "line": {
            "width": 0
           },
           "mode": "lines",
           "name": "Risk Area",
           "showlegend": false,
           "x": [
            10.0,
            15.0,
            15.0,
            10.0,
            10.0
           ],
           "y": [
            10.0,
            10.0,
            15.0,
            15.0,
            10.0
           ],
           "type": "scatter"
          },
          {
           "hoverinfo": "text",
           "marker": {
            "opacity": 1,
            "size": 1
           },
           "mode": "markers",
           "showlegend": false,
           "text": [
            "ID: 61, Pos(8.30,6.36)"
           ],
           "x": [
            8.296340704897577
           ],
           "y": [
            6.361384759421631
           ],
           "type": "scatter"
          },
          {
           "hoverinfo": "text",
           "marker": {
            "opacity": 1,
            "size": 1
           },
           "mode": "markers",
           "showlegend": false,
           "text": [
            "ID: 62, Pos(5.08,2.14)"
           ],
           "x": [
            5.0753592597264054
           ],
           "y": [
            2.1430303067014695
           ],
           "type": "scatter"
          },
          {
           "hoverinfo": "text",
           "marker": {
            "opacity": 1,
            "size": 1
           },
           "mode": "markers",
           "showlegend": false,
           "text": [
            "ID: 63, Pos(6.46,2.94)"
           ],
           "x": [
            6.460066828742578
           ],
           "y": [
            2.9445707825559286
           ],
           "type": "scatter"
          },
          {
           "hoverinfo": "text",
           "marker": {
            "opacity": 1,
            "size": 1
           },
           "mode": "markers",
           "showlegend": false,
           "text": [
            "ID: 64, Pos(6.25,4.18)"
           ],
           "x": [
            6.246228074464557
           ],
           "y": [
            4.1799785499019855
           ],
           "type": "scatter"
          },
          {
           "hoverinfo": "text",
           "marker": {
            "opacity": 1,
            "size": 1
           },
           "mode": "markers",
           "showlegend": false,
           "text": [
            "ID: 65, Pos(6.88,4.23)"
           ],
           "x": [
            6.875966190808521
           ],
           "y": [
            4.229150432283023
           ],
           "type": "scatter"
          },
          {
           "hoverinfo": "text",
           "marker": {
            "opacity": 1,
            "size": 1
           },
           "mode": "markers",
           "showlegend": false,
           "text": [
            "ID: 66, Pos(5.00,3.14)"
           ],
           "x": [
            4.996476706983179
           ],
           "y": [
            3.140514727009105
           ],
           "type": "scatter"
          },
          {
           "hoverinfo": "text",
           "marker": {
            "opacity": 1,
            "size": 1
           },
           "mode": "markers",
           "showlegend": false,
           "text": [
            "ID: 67, Pos(5.87,3.09)"
           ],
           "x": [
            5.867307917796116
           ],
           "y": [
            3.08944867159754
           ],
           "type": "scatter"
          },
          {
           "hoverinfo": "text",
           "marker": {
            "opacity": 1,
            "size": 1
           },
           "mode": "markers",
           "showlegend": false,
           "text": [
            "ID: 68, Pos(7.05,5.66)"
           ],
           "x": [
            7.051679964421557
           ],
           "y": [
            5.661108360947344
           ],
           "type": "scatter"
          },
          {
           "hoverinfo": "text",
           "marker": {
            "opacity": 1,
            "size": 1
           },
           "mode": "markers",
           "showlegend": false,
           "text": [
            "ID: 69, Pos(5.89,2.42)"
           ],
           "x": [
            5.893966112541983
           ],
           "y": [
            2.4155661831203155
           ],
           "type": "scatter"
          },
          {
           "hoverinfo": "text",
           "marker": {
            "opacity": 1,
            "size": 1
           },
           "mode": "markers",
           "showlegend": false,
           "text": [
            "ID: 70, Pos(7.52,4.35)"
           ],
           "x": [
            7.518870466059384
           ],
           "y": [
            4.350338112498743
           ],
           "type": "scatter"
          }
         ],
         "layout": {
          "shapes": [
           {
            "fillcolor": "rgba(0, 0, 128, 0.5)",
            "line": {
             "color": "rgba(0, 0, 128, 0.5)"
            },
            "type": "circle",
            "x0": 8.096340704897578,
            "x1": 8.496340704897577,
            "xref": "x",
            "y0": 6.16138475942163,
            "y1": 6.561384759421631,
            "yref": "y"
           },
           {
            "fillcolor": "rgba(255, 226, 0, 0.5)",
            "line": {
             "color": "rgba(255, 226, 0, 0.5)"
            },
            "type": "circle",
            "x0": 4.875359259726405,
            "x1": 5.275359259726406,
            "xref": "x",
            "y0": 1.9430303067014696,
            "y1": 2.3430303067014697,
            "yref": "y"
           },
           {
            "fillcolor": "rgba(0, 104, 255, 0.5)",
            "line": {
             "color": "rgba(0, 104, 255, 0.5)"
            },
            "type": "circle",
            "x0": 6.260066828742578,
            "x1": 6.660066828742578,
            "xref": "x",
            "y0": 2.7445707825559285,
            "y1": 3.144570782555929,
            "yref": "y"
           },
           {
            "fillcolor": "rgba(0, 0, 128, 0.5)",
            "line": {
             "color": "rgba(0, 0, 128, 0.5)"
            },
            "type": "circle",
            "x0": 6.0462280744645565,
            "x1": 6.446228074464557,
            "xref": "x",
            "y0": 3.9799785499019853,
            "y1": 4.379978549901986,
            "yref": "y"
           },
           {
            "fillcolor": "rgba(0, 16, 255, 0.5)",
            "line": {
             "color": "rgba(0, 16, 255, 0.5)"
            },
            "type": "circle",
            "x0": 6.675966190808521,
            "x1": 7.075966190808521,
            "xref": "x",
            "y0": 4.029150432283023,
            "y1": 4.4291504322830235,
            "yref": "y"
           },
           {
            "fillcolor": "rgba(254, 237, 0, 0.5)",
            "line": {
             "color": "rgba(254, 237, 0, 0.5)"
            },
            "type": "circle",
            "x0": 4.796476706983179,
            "x1": 5.196476706983179,
            "xref": "x",
            "y0": 2.9405147270091048,
            "y1": 3.340514727009105,
            "yref": "y"
           },
           {
            "fillcolor": "rgba(246, 11, 0, 0.5)",
            "line": {
             "color": "rgba(246, 11, 0, 0.5)"
            },
            "type": "circle",
            "x0": 5.667307917796116,
            "x1": 6.067307917796116,
            "xref": "x",
            "y0": 2.88944867159754,
            "y1": 3.2894486715975404,
            "yref": "y"
           },
           {
            "fillcolor": "rgba(0, 0, 128, 0.5)",
            "line": {
             "color": "rgba(0, 0, 128, 0.5)"
            },
            "type": "circle",
            "x0": 6.851679964421557,
            "x1": 7.251679964421557,
            "xref": "x",
            "y0": 5.461108360947343,
            "y1": 5.861108360947344,
            "yref": "y"
           },
           {
            "fillcolor": "rgba(0, 0, 155, 0.5)",
            "line": {
             "color": "rgba(0, 0, 155, 0.5)"
            },
            "type": "circle",
            "x0": 5.6939661125419825,
            "x1": 6.093966112541983,
            "xref": "x",
            "y0": 2.2155661831203153,
            "y1": 2.6155661831203156,
            "yref": "y"
           },
           {
            "fillcolor": "rgba(0, 0, 128, 0.5)",
            "line": {
             "color": "rgba(0, 0, 128, 0.5)"
            },
            "type": "circle",
            "x0": 7.3188704660593835,
            "x1": 7.718870466059384,
            "xref": "x",
            "y0": 4.150338112498742,
            "y1": 4.550338112498743,
            "yref": "y"
           },
           {
            "line": {
             "color": "white",
             "width": 3
            },
            "type": "line",
            "x0": 8.296340704897577,
            "x1": 8.489383354042172,
            "y0": 6.361384759421631,
            "y1": 6.4136775467946245
           },
           {
            "line": {
             "color": "black",
             "width": 3
            },
            "type": "line",
            "x0": 5.0753592597264054,
            "x1": 5.273502921768882,
            "y0": 2.1430303067014695,
            "y1": 2.1702165015877846
           },
           {
            "line": {
             "color": "white",
             "width": 3
            },
            "type": "line",
            "x0": 6.460066828742578,
            "x1": 6.564955731052776,
            "y0": 2.9445707825559286,
            "y1": 3.114859708127035
           },
           {
            "line": {
             "color": "white",
             "width": 3
            },
            "type": "line",
            "x0": 6.246228074464557,
            "x1": 6.2871351986670145,
            "y0": 4.1799785499019855,
            "y1": 4.375750374201307
           },
           {
            "line": {
             "color": "white",
             "width": 3
            },
            "type": "line",
            "x0": 6.875966190808521,
            "x1": 6.924616498984111,
            "y0": 4.229150432283023,
            "y1": 4.423143080376759
           },
           {
            "line": {
             "color": "black",
             "width": 3
            },
            "type": "line",
            "x0": 4.996476706983179,
            "x1": 5.186363288221633,
            "y0": 3.140514727009105,
            "y1": 3.0777207283661476
           },
           {
            "line": {
             "color": "white",
             "width": 3
            },
            "type": "line",
            "x0": 5.867307917796116,
            "x1": 6.06519218198782,
            "y0": 3.08944867159754,
            "y1": 3.060434571830226
           },
           {
            "line": {
             "color": "white",
             "width": 3
            },
            "type": "line",
            "x0": 7.051679964421557,
            "x1": 7.0990266016762975,
            "y0": 5.661108360947344,
            "y1": 5.855423301033452
           },
           {
            "line": {
             "color": "white",
             "width": 3
            },
            "type": "line",
            "x0": 5.893966112541983,
            "x1": 6.0916450033933085,
            "y0": 2.4155661831203155,
            "y1": 2.3851843446014
           },
           {
            "line": {
             "color": "white",
             "width": 3
            },
            "type": "line",
            "x0": 7.518870466059384,
            "x1": 7.555976186859899,
            "y0": 4.350338112498743,
            "y1": 4.546865885304202
           }
          ],
          "title": {
           "text": "<b>Percentage using the shortest path: 0%  |  Number of Agents: 10</b>",
           "x": 0.5
          }
         },
         "name": "300"
        },
        {
         "data": [
          {
           "hoverinfo": "name",
           "line": {
            "color": "grey"
           },
           "mode": "lines",
           "name": "Exterior",
           "showlegend": false,
           "x": [
            10.1,
            10.1,
            15.0,
            15.0,
            13.6,
            13.6,
            15.0,
            15.0,
            13.6,
            13.6,
            15.0,
            15.0,
            10.1,
            10.1,
            9.9,
            9.9,
            5.1,
            5.1,
            4.9,
            4.9,
            0.0,
            0.0,
            1.5,
            1.5,
            0.0,
            0.0,
            1.5,
            1.5,
            0.0,
            0.0,
            4.9,
            4.9,
            5.1,
            5.1,
            9.9,
            9.9,
            10.1
           ],
           "y": [
            1.5,
            0.0,
            0.0,
            4.9,
            4.9,
            5.1,
            5.1,
            9.9,
            9.9,
            10.1,
            10.1,
            15.0,
            15.0,
            13.6,
            13.6,
            15.0,
            15.0,
            13.6,
            13.6,
            15.0,
            15.0,
            10.1,
            10.1,
            9.9,
            9.9,
            5.1,
            5.1,
            4.9,
            4.9,
            0.0,
            0.0,
            1.5,
            1.5,
            0.0,
            0.0,
            1.5,
            1.5
           ],
           "type": "scatter"
          },
          {
           "hoverinfo": "name",
           "line": {
            "color": "grey"
           },
           "mode": "lines",
           "name": "Obstacle",
           "showlegend": false,
           "x": [
            10.1,
            11.5,
            11.5,
            10.1,
            10.1,
            9.9,
            9.9,
            8.6,
            8.6,
            9.9,
            9.9,
            10.1,
            10.1
           ],
           "y": [
            5.1,
            5.1,
            4.9,
            4.9,
            3.6,
            3.6,
            4.9,
            4.9,
            5.1,
            5.1,
            6.5,
            6.5,
            5.1
           ],
           "type": "scatter"
          },
          {
           "hoverinfo": "name",
           "line": {
            "color": "grey"
           },
           "mode": "lines",
           "name": "Obstacle",
           "showlegend": false,
           "x": [
            10.1,
            11.5,
            11.5,
            10.1,
            10.1,
            9.9,
            9.9,
            8.6,
            8.6,
            9.9,
            9.9,
            10.1,
            10.1
           ],
           "y": [
            10.1,
            10.1,
            9.9,
            9.9,
            8.6,
            8.6,
            9.9,
            9.9,
            10.1,
            10.1,
            11.5,
            11.5,
            10.1
           ],
           "type": "scatter"
          },
          {
           "hoverinfo": "name",
           "line": {
            "color": "grey"
           },
           "mode": "lines",
           "name": "Obstacle",
           "showlegend": false,
           "x": [
            5.1,
            6.4,
            6.4,
            5.1,
            5.1,
            4.9,
            4.9,
            3.6,
            3.6,
            4.9,
            4.9,
            5.1,
            5.1
           ],
           "y": [
            5.1,
            5.1,
            4.9,
            4.9,
            3.6,
            3.6,
            4.9,
            4.9,
            5.1,
            5.1,
            6.5,
            6.5,
            5.1
           ],
           "type": "scatter"
          },
          {
           "hoverinfo": "name",
           "line": {
            "color": "grey"
           },
           "mode": "lines",
           "name": "Obstacle",
           "showlegend": false,
           "x": [
            5.1,
            6.4,
            6.4,
            5.1,
            5.1,
            4.9,
            4.9,
            3.6,
            3.6,
            4.9,
            4.9,
            5.1,
            5.1
           ],
           "y": [
            10.1,
            10.1,
            9.9,
            9.9,
            8.6,
            8.6,
            9.9,
            9.9,
            10.1,
            10.1,
            11.5,
            11.5,
            10.1
           ],
           "type": "scatter"
          },
          {
           "fill": "toself",
           "fillcolor": "rgba(200, 0, 0, 0.00)",
           "hoverinfo": "name",
           "line": {
            "width": 0
           },
           "mode": "lines",
           "name": "Risk Area",
           "showlegend": false,
           "x": [
            0.0,
            5.0,
            5.0,
            0.0,
            0.0
           ],
           "y": [
            0.0,
            0.0,
            5.0,
            5.0,
            0.0
           ],
           "type": "scatter"
          },
          {
           "fill": "toself",
           "fillcolor": "rgba(200, 0, 0, 0.10)",
           "hoverinfo": "name",
           "line": {
            "width": 0
           },
           "mode": "lines",
           "name": "Risk Area",
           "showlegend": false,
           "x": [
            5.0,
            10.0,
            10.0,
            5.0,
            5.0
           ],
           "y": [
            0.0,
            0.0,
            5.0,
            5.0,
            0.0
           ],
           "type": "scatter"
          },
          {
           "fill": "toself",
           "fillcolor": "rgba(200, 0, 0, 0.00)",
           "hoverinfo": "name",
           "line": {
            "width": 0
           },
           "mode": "lines",
           "name": "Risk Area",
           "showlegend": false,
           "x": [
            10.0,
            15.0,
            15.0,
            10.0,
            10.0
           ],
           "y": [
            0.0,
            0.0,
            5.0,
            5.0,
            0.0
           ],
           "type": "scatter"
          },
          {
           "fill": "toself",
           "fillcolor": "rgba(200, 0, 0, 0.00)",
           "hoverinfo": "name",
           "line": {
            "width": 0
           },
           "mode": "lines",
           "name": "Risk Area",
           "showlegend": false,
           "x": [
            10.0,
            15.0,
            15.0,
            10.0,
            10.0
           ],
           "y": [
            5.0,
            5.0,
            10.0,
            10.0,
            5.0
           ],
           "type": "scatter"
          },
          {
           "fill": "toself",
           "fillcolor": "rgba(200, 0, 0, 0.50)",
           "hoverinfo": "name",
           "line": {
            "width": 0
           },
           "mode": "lines",
           "name": "Risk Area",
           "showlegend": false,
           "x": [
            5.0,
            10.0,
            10.0,
            5.0,
            5.0
           ],
           "y": [
            5.0,
            5.0,
            10.0,
            10.0,
            5.0
           ],
           "type": "scatter"
          },
          {
           "fill": "toself",
           "fillcolor": "rgba(200, 0, 0, 0.00)",
           "hoverinfo": "name",
           "line": {
            "width": 0
           },
           "mode": "lines",
           "name": "Risk Area",
           "showlegend": false,
           "x": [
            0.0,
            5.0,
            5.0,
            0.0,
            0.0
           ],
           "y": [
            5.0,
            5.0,
            10.0,
            10.0,
            5.0
           ],
           "type": "scatter"
          },
          {
           "fill": "toself",
           "fillcolor": "rgba(200, 0, 0, 0.00)",
           "hoverinfo": "name",
           "line": {
            "width": 0
           },
           "mode": "lines",
           "name": "Risk Area",
           "showlegend": false,
           "x": [
            0.0,
            5.0,
            5.0,
            0.0,
            0.0
           ],
           "y": [
            10.0,
            10.0,
            15.0,
            15.0,
            10.0
           ],
           "type": "scatter"
          },
          {
           "fill": "toself",
           "fillcolor": "rgba(200, 0, 0, 0.20)",
           "hoverinfo": "name",
           "line": {
            "width": 0
           },
           "mode": "lines",
           "name": "Risk Area",
           "showlegend": false,
           "x": [
            5.0,
            10.0,
            10.0,
            5.0,
            5.0
           ],
           "y": [
            10.0,
            10.0,
            15.0,
            15.0,
            10.0
           ],
           "type": "scatter"
          },
          {
           "fill": "toself",
           "fillcolor": "rgba(200, 0, 0, 0.00)",
           "hoverinfo": "name",
           "line": {
            "width": 0
           },
           "mode": "lines",
           "name": "Risk Area",
           "showlegend": false,
           "x": [
            10.0,
            15.0,
            15.0,
            10.0,
            10.0
           ],
           "y": [
            10.0,
            10.0,
            15.0,
            15.0,
            10.0
           ],
           "type": "scatter"
          },
          {
           "hoverinfo": "text",
           "marker": {
            "opacity": 1,
            "size": 1
           },
           "mode": "markers",
           "showlegend": false,
           "text": [
            "ID: 61, Pos(9.45,6.68)"
           ],
           "x": [
            9.454288663038907
           ],
           "y": [
            6.676253597260133
           ],
           "type": "scatter"
          },
          {
           "hoverinfo": "text",
           "marker": {
            "opacity": 1,
            "size": 1
           },
           "mode": "markers",
           "showlegend": false,
           "text": [
            "ID: 62, Pos(5.48,2.19)"
           ],
           "x": [
            5.48429391502369
           ],
           "y": [
            2.191314949932061
           ],
           "type": "scatter"
          },
          {
           "hoverinfo": "text",
           "marker": {
            "opacity": 1,
            "size": 1
           },
           "mode": "markers",
           "showlegend": false,
           "text": [
            "ID: 63, Pos(6.77,3.88)"
           ],
           "x": [
            6.773941759796122
           ],
           "y": [
            3.881143131531465
           ],
           "type": "scatter"
          },
          {
           "hoverinfo": "text",
           "marker": {
            "opacity": 1,
            "size": 1
           },
           "mode": "markers",
           "showlegend": false,
           "text": [
            "ID: 64, Pos(6.56,4.61)"
           ],
           "x": [
            6.555582537391991
           ],
           "y": [
            4.610101302768838
           ],
           "type": "scatter"
          },
          {
           "hoverinfo": "text",
           "marker": {
            "opacity": 1,
            "size": 1
           },
           "mode": "markers",
           "showlegend": false,
           "text": [
            "ID: 65, Pos(7.04,5.30)"
           ],
           "x": [
            7.038771898849929
           ],
           "y": [
            5.297222416302388
           ],
           "type": "scatter"
          },
          {
           "hoverinfo": "text",
           "marker": {
            "opacity": 1,
            "size": 1
           },
           "mode": "markers",
           "showlegend": false,
           "text": [
            "ID: 66, Pos(5.40,3.03)"
           ],
           "x": [
            5.404218823261106
           ],
           "y": [
            3.031098689025332
           ],
           "type": "scatter"
          },
          {
           "hoverinfo": "text",
           "marker": {
            "opacity": 1,
            "size": 1
           },
           "mode": "markers",
           "showlegend": false,
           "text": [
            "ID: 67, Pos(6.20,3.35)"
           ],
           "x": [
            6.1962061719873445
           ],
           "y": [
            3.3501116714918298
           ],
           "type": "scatter"
          },
          {
           "hoverinfo": "text",
           "marker": {
            "opacity": 1,
            "size": 1
           },
           "mode": "markers",
           "showlegend": false,
           "text": [
            "ID: 68, Pos(7.92,6.26)"
           ],
           "x": [
            7.91568833375608
           ],
           "y": [
            6.257497844128103
           ],
           "type": "scatter"
          },
          {
           "hoverinfo": "text",
           "marker": {
            "opacity": 1,
            "size": 1
           },
           "mode": "markers",
           "showlegend": false,
           "text": [
            "ID: 69, Pos(6.10,2.59)"
           ],
           "x": [
            6.099382904031317
           ],
           "y": [
            2.5878112372180295
           ],
           "type": "scatter"
          },
          {
           "hoverinfo": "text",
           "marker": {
            "opacity": 1,
            "size": 1
           },
           "mode": "markers",
           "showlegend": false,
           "text": [
            "ID: 70, Pos(7.68,5.29)"
           ],
           "x": [
            7.681126277345863
           ],
           "y": [
            5.287169234062153
           ],
           "type": "scatter"
          }
         ],
         "layout": {
          "shapes": [
           {
            "fillcolor": "rgba(0, 0, 128, 0.5)",
            "line": {
             "color": "rgba(0, 0, 128, 0.5)"
            },
            "type": "circle",
            "x0": 9.254288663038908,
            "x1": 9.654288663038907,
            "xref": "x",
            "y0": 6.476253597260133,
            "y1": 6.876253597260133,
            "yref": "y"
           },
           {
            "fillcolor": "rgba(255, 115, 0, 0.5)",
            "line": {
             "color": "rgba(255, 115, 0, 0.5)"
            },
            "type": "circle",
            "x0": 5.28429391502369,
            "x1": 5.68429391502369,
            "xref": "x",
            "y0": 1.9913149499320613,
            "y1": 2.3913149499320614,
            "yref": "y"
           },
           {
            "fillcolor": "rgba(67, 255, 180, 0.5)",
            "line": {
             "color": "rgba(67, 255, 180, 0.5)"
            },
            "type": "circle",
            "x0": 6.573941759796122,
            "x1": 6.973941759796122,
            "xref": "x",
            "y0": 3.681143131531465,
            "y1": 4.081143131531465,
            "yref": "y"
           },
           {
            "fillcolor": "rgba(193, 255, 54, 0.5)",
            "line": {
             "color": "rgba(193, 255, 54, 0.5)"
            },
            "type": "circle",
            "x0": 6.3555825373919905,
            "x1": 6.755582537391991,
            "xref": "x",
            "y0": 4.410101302768838,
            "y1": 4.810101302768838,
            "yref": "y"
           },
           {
            "fillcolor": "rgba(0, 0, 128, 0.5)",
            "line": {
             "color": "rgba(0, 0, 128, 0.5)"
            },
            "type": "circle",
            "x0": 6.838771898849929,
            "x1": 7.238771898849929,
            "xref": "x",
            "y0": 5.097222416302388,
            "y1": 5.497222416302388,
            "yref": "y"
           },
           {
            "fillcolor": "rgba(255, 196, 0, 0.5)",
            "line": {
             "color": "rgba(255, 196, 0, 0.5)"
            },
            "type": "circle",
            "x0": 5.2042188232611055,
            "x1": 5.604218823261106,
            "xref": "x",
            "y0": 2.831098689025332,
            "y1": 3.231098689025332,
            "yref": "y"
           },
           {
            "fillcolor": "rgba(0, 132, 255, 0.5)",
            "line": {
             "color": "rgba(0, 132, 255, 0.5)"
            },
            "type": "circle",
            "x0": 5.996206171987344,
            "x1": 6.396206171987345,
            "xref": "x",
            "y0": 3.1501116714918296,
            "y1": 3.55011167149183,
            "yref": "y"
           },
           {
            "fillcolor": "rgba(0, 0, 132, 0.5)",
            "line": {
             "color": "rgba(0, 0, 132, 0.5)"
            },
            "type": "circle",
            "x0": 7.71568833375608,
            "x1": 8.11568833375608,
            "xref": "x",
            "y0": 6.057497844128103,
            "y1": 6.4574978441281035,
            "yref": "y"
           },
           {
            "fillcolor": "rgba(255, 145, 0, 0.5)",
            "line": {
             "color": "rgba(255, 145, 0, 0.5)"
            },
            "type": "circle",
            "x0": 5.899382904031317,
            "x1": 6.299382904031317,
            "xref": "x",
            "y0": 2.3878112372180293,
            "y1": 2.7878112372180297,
            "yref": "y"
           },
           {
            "fillcolor": "rgba(160, 255, 86, 0.5)",
            "line": {
             "color": "rgba(160, 255, 86, 0.5)"
            },
            "type": "circle",
            "x0": 7.481126277345862,
            "x1": 7.881126277345863,
            "xref": "x",
            "y0": 5.087169234062153,
            "y1": 5.487169234062153,
            "yref": "y"
           },
           {
            "line": {
             "color": "white",
             "width": 3
            },
            "type": "line",
            "x0": 9.454288663038907,
            "x1": 9.646213636659127,
            "y0": 6.676253597260133,
            "y1": 6.732510192436862
           },
           {
            "line": {
             "color": "black",
             "width": 3
            },
            "type": "line",
            "x0": 5.48429391502369,
            "x1": 5.683708677543071,
            "y0": 2.191314949932061,
            "y1": 2.2066039161933557
           },
           {
            "line": {
             "color": "black",
             "width": 3
            },
            "type": "line",
            "x0": 6.773941759796122,
            "x1": 6.826040130802118,
            "y0": 3.881143131531465,
            "y1": 4.074238340530864
           },
           {
            "line": {
             "color": "black",
             "width": 3
            },
            "type": "line",
            "x0": 6.555582537391991,
            "x1": 6.735164931513871,
            "y0": 4.610101302768838,
            "y1": 4.698136316947593
           },
           {
            "line": {
             "color": "white",
             "width": 3
            },
            "type": "line",
            "x0": 7.038771898849929,
            "x1": 7.037335360943769,
            "y0": 5.297222416302388,
            "y1": 5.497217257132956
           },
           {
            "line": {
             "color": "black",
             "width": 3
            },
            "type": "line",
            "x0": 5.404218823261106,
            "x1": 5.599231581681923,
            "y0": 3.031098689025332,
            "y1": 2.9867137360220424
           },
           {
            "line": {
             "color": "white",
             "width": 3
            },
            "type": "line",
            "x0": 6.1962061719873445,
            "x1": 6.252838525277202,
            "y0": 3.3501116714918298,
            "y1": 3.5419261041105794
           },
           {
            "line": {
             "color": "white",
             "width": 3
            },
            "type": "line",
            "x0": 7.91568833375608,
            "x1": 8.108410658667175,
            "y0": 6.257497844128103,
            "y1": 6.310959096272647
           },
           {
            "line": {
             "color": "black",
             "width": 3
            },
            "type": "line",
            "x0": 6.099382904031317,
            "x1": 6.174569645266823,
            "y0": 2.5878112372180295,
            "y1": 2.7731405493690895
           },
           {
            "line": {
             "color": "black",
             "width": 3
            },
            "type": "line",
            "x0": 7.681126277345863,
            "x1": 7.710926865089202,
            "y0": 5.287169234062153,
            "y1": 5.484936584679366
           }
          ],
          "title": {
           "text": "<b>Percentage using the shortest path: 0%  |  Number of Agents: 10</b>",
           "x": 0.5
          }
         },
         "name": "350"
        },
        {
         "data": [
          {
           "hoverinfo": "name",
           "line": {
            "color": "grey"
           },
           "mode": "lines",
           "name": "Exterior",
           "showlegend": false,
           "x": [
            10.1,
            10.1,
            15.0,
            15.0,
            13.6,
            13.6,
            15.0,
            15.0,
            13.6,
            13.6,
            15.0,
            15.0,
            10.1,
            10.1,
            9.9,
            9.9,
            5.1,
            5.1,
            4.9,
            4.9,
            0.0,
            0.0,
            1.5,
            1.5,
            0.0,
            0.0,
            1.5,
            1.5,
            0.0,
            0.0,
            4.9,
            4.9,
            5.1,
            5.1,
            9.9,
            9.9,
            10.1
           ],
           "y": [
            1.5,
            0.0,
            0.0,
            4.9,
            4.9,
            5.1,
            5.1,
            9.9,
            9.9,
            10.1,
            10.1,
            15.0,
            15.0,
            13.6,
            13.6,
            15.0,
            15.0,
            13.6,
            13.6,
            15.0,
            15.0,
            10.1,
            10.1,
            9.9,
            9.9,
            5.1,
            5.1,
            4.9,
            4.9,
            0.0,
            0.0,
            1.5,
            1.5,
            0.0,
            0.0,
            1.5,
            1.5
           ],
           "type": "scatter"
          },
          {
           "hoverinfo": "name",
           "line": {
            "color": "grey"
           },
           "mode": "lines",
           "name": "Obstacle",
           "showlegend": false,
           "x": [
            10.1,
            11.5,
            11.5,
            10.1,
            10.1,
            9.9,
            9.9,
            8.6,
            8.6,
            9.9,
            9.9,
            10.1,
            10.1
           ],
           "y": [
            5.1,
            5.1,
            4.9,
            4.9,
            3.6,
            3.6,
            4.9,
            4.9,
            5.1,
            5.1,
            6.5,
            6.5,
            5.1
           ],
           "type": "scatter"
          },
          {
           "hoverinfo": "name",
           "line": {
            "color": "grey"
           },
           "mode": "lines",
           "name": "Obstacle",
           "showlegend": false,
           "x": [
            10.1,
            11.5,
            11.5,
            10.1,
            10.1,
            9.9,
            9.9,
            8.6,
            8.6,
            9.9,
            9.9,
            10.1,
            10.1
           ],
           "y": [
            10.1,
            10.1,
            9.9,
            9.9,
            8.6,
            8.6,
            9.9,
            9.9,
            10.1,
            10.1,
            11.5,
            11.5,
            10.1
           ],
           "type": "scatter"
          },
          {
           "hoverinfo": "name",
           "line": {
            "color": "grey"
           },
           "mode": "lines",
           "name": "Obstacle",
           "showlegend": false,
           "x": [
            5.1,
            6.4,
            6.4,
            5.1,
            5.1,
            4.9,
            4.9,
            3.6,
            3.6,
            4.9,
            4.9,
            5.1,
            5.1
           ],
           "y": [
            5.1,
            5.1,
            4.9,
            4.9,
            3.6,
            3.6,
            4.9,
            4.9,
            5.1,
            5.1,
            6.5,
            6.5,
            5.1
           ],
           "type": "scatter"
          },
          {
           "hoverinfo": "name",
           "line": {
            "color": "grey"
           },
           "mode": "lines",
           "name": "Obstacle",
           "showlegend": false,
           "x": [
            5.1,
            6.4,
            6.4,
            5.1,
            5.1,
            4.9,
            4.9,
            3.6,
            3.6,
            4.9,
            4.9,
            5.1,
            5.1
           ],
           "y": [
            10.1,
            10.1,
            9.9,
            9.9,
            8.6,
            8.6,
            9.9,
            9.9,
            10.1,
            10.1,
            11.5,
            11.5,
            10.1
           ],
           "type": "scatter"
          },
          {
           "fill": "toself",
           "fillcolor": "rgba(200, 0, 0, 0.00)",
           "hoverinfo": "name",
           "line": {
            "width": 0
           },
           "mode": "lines",
           "name": "Risk Area",
           "showlegend": false,
           "x": [
            0.0,
            5.0,
            5.0,
            0.0,
            0.0
           ],
           "y": [
            0.0,
            0.0,
            5.0,
            5.0,
            0.0
           ],
           "type": "scatter"
          },
          {
           "fill": "toself",
           "fillcolor": "rgba(200, 0, 0, 0.10)",
           "hoverinfo": "name",
           "line": {
            "width": 0
           },
           "mode": "lines",
           "name": "Risk Area",
           "showlegend": false,
           "x": [
            5.0,
            10.0,
            10.0,
            5.0,
            5.0
           ],
           "y": [
            0.0,
            0.0,
            5.0,
            5.0,
            0.0
           ],
           "type": "scatter"
          },
          {
           "fill": "toself",
           "fillcolor": "rgba(200, 0, 0, 0.00)",
           "hoverinfo": "name",
           "line": {
            "width": 0
           },
           "mode": "lines",
           "name": "Risk Area",
           "showlegend": false,
           "x": [
            10.0,
            15.0,
            15.0,
            10.0,
            10.0
           ],
           "y": [
            0.0,
            0.0,
            5.0,
            5.0,
            0.0
           ],
           "type": "scatter"
          },
          {
           "fill": "toself",
           "fillcolor": "rgba(200, 0, 0, 0.00)",
           "hoverinfo": "name",
           "line": {
            "width": 0
           },
           "mode": "lines",
           "name": "Risk Area",
           "showlegend": false,
           "x": [
            10.0,
            15.0,
            15.0,
            10.0,
            10.0
           ],
           "y": [
            5.0,
            5.0,
            10.0,
            10.0,
            5.0
           ],
           "type": "scatter"
          },
          {
           "fill": "toself",
           "fillcolor": "rgba(200, 0, 0, 0.50)",
           "hoverinfo": "name",
           "line": {
            "width": 0
           },
           "mode": "lines",
           "name": "Risk Area",
           "showlegend": false,
           "x": [
            5.0,
            10.0,
            10.0,
            5.0,
            5.0
           ],
           "y": [
            5.0,
            5.0,
            10.0,
            10.0,
            5.0
           ],
           "type": "scatter"
          },
          {
           "fill": "toself",
           "fillcolor": "rgba(200, 0, 0, 0.00)",
           "hoverinfo": "name",
           "line": {
            "width": 0
           },
           "mode": "lines",
           "name": "Risk Area",
           "showlegend": false,
           "x": [
            0.0,
            5.0,
            5.0,
            0.0,
            0.0
           ],
           "y": [
            5.0,
            5.0,
            10.0,
            10.0,
            5.0
           ],
           "type": "scatter"
          },
          {
           "fill": "toself",
           "fillcolor": "rgba(200, 0, 0, 0.00)",
           "hoverinfo": "name",
           "line": {
            "width": 0
           },
           "mode": "lines",
           "name": "Risk Area",
           "showlegend": false,
           "x": [
            0.0,
            5.0,
            5.0,
            0.0,
            0.0
           ],
           "y": [
            10.0,
            10.0,
            15.0,
            15.0,
            10.0
           ],
           "type": "scatter"
          },
          {
           "fill": "toself",
           "fillcolor": "rgba(200, 0, 0, 0.20)",
           "hoverinfo": "name",
           "line": {
            "width": 0
           },
           "mode": "lines",
           "name": "Risk Area",
           "showlegend": false,
           "x": [
            5.0,
            10.0,
            10.0,
            5.0,
            5.0
           ],
           "y": [
            10.0,
            10.0,
            15.0,
            15.0,
            10.0
           ],
           "type": "scatter"
          },
          {
           "fill": "toself",
           "fillcolor": "rgba(200, 0, 0, 0.00)",
           "hoverinfo": "name",
           "line": {
            "width": 0
           },
           "mode": "lines",
           "name": "Risk Area",
           "showlegend": false,
           "x": [
            10.0,
            15.0,
            15.0,
            10.0,
            10.0
           ],
           "y": [
            10.0,
            10.0,
            15.0,
            15.0,
            10.0
           ],
           "type": "scatter"
          },
          {
           "hoverinfo": "text",
           "marker": {
            "opacity": 1,
            "size": 1
           },
           "mode": "markers",
           "showlegend": false,
           "text": [
            "ID: 61, Pos(10.57,7.09)"
           ],
           "x": [
            10.568606682434188
           ],
           "y": [
            7.085065309822063
           ],
           "type": "scatter"
          },
          {
           "hoverinfo": "text",
           "marker": {
            "opacity": 1,
            "size": 1
           },
           "mode": "markers",
           "showlegend": false,
           "text": [
            "ID: 62, Pos(6.08,2.35)"
           ],
           "x": [
            6.0827365548829375
           ],
           "y": [
            2.351646609627221
           ],
           "type": "scatter"
          },
          {
           "hoverinfo": "text",
           "marker": {
            "opacity": 1,
            "size": 1
           },
           "mode": "markers",
           "showlegend": false,
           "text": [
            "ID: 63, Pos(6.95,4.31)"
           ],
           "x": [
            6.954694152055066
           ],
           "y": [
            4.31121322714195
           ],
           "type": "scatter"
          },
          {
           "hoverinfo": "text",
           "marker": {
            "opacity": 1,
            "size": 1
           },
           "mode": "markers",
           "showlegend": false,
           "text": [
            "ID: 64, Pos(6.89,5.15)"
           ],
           "x": [
            6.894744483355145
           ],
           "y": [
            5.148785381234642
           ],
           "type": "scatter"
          },
          {
           "hoverinfo": "text",
           "marker": {
            "opacity": 1,
            "size": 1
           },
           "mode": "markers",
           "showlegend": false,
           "text": [
            "ID: 65, Pos(7.18,6.10)"
           ],
           "x": [
            7.179729647524501
           ],
           "y": [
            6.096273844274052
           ],
           "type": "scatter"
          },
          {
           "hoverinfo": "text",
           "marker": {
            "opacity": 1,
            "size": 1
           },
           "mode": "markers",
           "showlegend": false,
           "text": [
            "ID: 66, Pos(5.69,2.96)"
           ],
           "x": [
            5.694160545302182
           ],
           "y": [
            2.9616618056840838
           ],
           "type": "scatter"
          },
          {
           "hoverinfo": "text",
           "marker": {
            "opacity": 1,
            "size": 1
           },
           "mode": "markers",
           "showlegend": false,
           "text": [
            "ID: 67, Pos(6.32,4.34)"
           ],
           "x": [
            6.321641675454489
           ],
           "y": [
            4.342543947694884
           ],
           "type": "scatter"
          },
          {
           "hoverinfo": "text",
           "marker": {
            "opacity": 1,
            "size": 1
           },
           "mode": "markers",
           "showlegend": false,
           "text": [
            "ID: 68, Pos(9.06,6.57)"
           ],
           "x": [
            9.063202676547862
           ],
           "y": [
            6.570917587382048
           ],
           "type": "scatter"
          },
          {
           "hoverinfo": "text",
           "marker": {
            "opacity": 1,
            "size": 1
           },
           "mode": "markers",
           "showlegend": false,
           "text": [
            "ID: 69, Pos(6.37,3.19)"
           ],
           "x": [
            6.369215890418797
           ],
           "y": [
            3.186189123857496
           ],
           "type": "scatter"
          },
          {
           "hoverinfo": "text",
           "marker": {
            "opacity": 1,
            "size": 1
           },
           "mode": "markers",
           "showlegend": false,
           "text": [
            "ID: 70, Pos(7.94,6.08)"
           ],
           "x": [
            7.939077419130026
           ],
           "y": [
            6.077292567800785
           ],
           "type": "scatter"
          }
         ],
         "layout": {
          "shapes": [
           {
            "fillcolor": "rgba(0, 0, 128, 0.5)",
            "line": {
             "color": "rgba(0, 0, 128, 0.5)"
            },
            "type": "circle",
            "x0": 10.368606682434189,
            "x1": 10.768606682434188,
            "xref": "x",
            "y0": 6.885065309822063,
            "y1": 7.2850653098220635,
            "yref": "y"
           },
           {
            "fillcolor": "rgba(251, 241, 0, 0.5)",
            "line": {
             "color": "rgba(251, 241, 0, 0.5)"
            },
            "type": "circle",
            "x0": 5.882736554882937,
            "x1": 6.282736554882938,
            "xref": "x",
            "y0": 2.1516466096272207,
            "y1": 2.551646609627221,
            "yref": "y"
           },
           {
            "fillcolor": "rgba(190, 255, 57, 0.5)",
            "line": {
             "color": "rgba(190, 255, 57, 0.5)"
            },
            "type": "circle",
            "x0": 6.754694152055066,
            "x1": 7.154694152055066,
            "xref": "x",
            "y0": 4.11121322714195,
            "y1": 4.51121322714195,
            "yref": "y"
           },
           {
            "fillcolor": "rgba(167, 255, 80, 0.5)",
            "line": {
             "color": "rgba(167, 255, 80, 0.5)"
            },
            "type": "circle",
            "x0": 6.694744483355144,
            "x1": 7.094744483355145,
            "xref": "x",
            "y0": 4.948785381234642,
            "y1": 5.348785381234642,
            "yref": "y"
           },
           {
            "fillcolor": "rgba(255, 137, 0, 0.5)",
            "line": {
             "color": "rgba(255, 137, 0, 0.5)"
            },
            "type": "circle",
            "x0": 6.9797296475245005,
            "x1": 7.379729647524501,
            "xref": "x",
            "y0": 5.896273844274051,
            "y1": 6.296273844274052,
            "yref": "y"
           },
           {
            "fillcolor": "rgba(180, 255, 67, 0.5)",
            "line": {
             "color": "rgba(180, 255, 67, 0.5)"
            },
            "type": "circle",
            "x0": 5.494160545302182,
            "x1": 5.894160545302182,
            "xref": "x",
            "y0": 2.7616618056840836,
            "y1": 3.161661805684084,
            "yref": "y"
           },
           {
            "fillcolor": "rgba(0, 184, 255, 0.5)",
            "line": {
             "color": "rgba(0, 184, 255, 0.5)"
            },
            "type": "circle",
            "x0": 6.121641675454489,
            "x1": 6.5216416754544895,
            "xref": "x",
            "y0": 4.142543947694884,
            "y1": 4.542543947694885,
            "yref": "y"
           },
           {
            "fillcolor": "rgba(0, 0, 137, 0.5)",
            "line": {
             "color": "rgba(0, 0, 137, 0.5)"
            },
            "type": "circle",
            "x0": 8.863202676547862,
            "x1": 9.263202676547861,
            "xref": "x",
            "y0": 6.370917587382047,
            "y1": 6.770917587382048,
            "yref": "y"
           },
           {
            "fillcolor": "rgba(0, 184, 255, 0.5)",
            "line": {
             "color": "rgba(0, 184, 255, 0.5)"
            },
            "type": "circle",
            "x0": 6.169215890418797,
            "x1": 6.569215890418797,
            "xref": "x",
            "y0": 2.986189123857496,
            "y1": 3.386189123857496,
            "yref": "y"
           },
           {
            "fillcolor": "rgba(0, 216, 255, 0.5)",
            "line": {
             "color": "rgba(0, 216, 255, 0.5)"
            },
            "type": "circle",
            "x0": 7.739077419130026,
            "x1": 8.139077419130025,
            "xref": "x",
            "y0": 5.877292567800785,
            "y1": 6.277292567800785,
            "yref": "y"
           },
           {
            "line": {
             "color": "white",
             "width": 3
            },
            "type": "line",
            "x0": 10.568606682434188,
            "x1": 10.7641398978454,
            "y0": 7.085065309822063,
            "y1": 7.1270981739994275
           },
           {
            "line": {
             "color": "black",
             "width": 3
            },
            "type": "line",
            "x0": 6.0827365548829375,
            "x1": 6.150998662136321,
            "y0": 2.351646609627221,
            "y1": 2.539636728285962
           },
           {
            "line": {
             "color": "black",
             "width": 3
            },
            "type": "line",
            "x0": 6.954694152055066,
            "x1": 7.036593865461823,
            "y0": 4.31121322714195,
            "y1": 4.49367537922805
           },
           {
            "line": {
             "color": "black",
             "width": 3
            },
            "type": "line",
            "x0": 6.894744483355145,
            "x1": 6.948412780763235,
            "y0": 5.148785381234642,
            "y1": 5.341450151894244
           },
           {
            "line": {
             "color": "black",
             "width": 3
            },
            "type": "line",
            "x0": 7.179729647524501,
            "x1": 7.371590123876293,
            "y0": 6.096273844274052,
            "y1": 6.152750012823834
           },
           {
            "line": {
             "color": "black",
             "width": 3
            },
            "type": "line",
            "x0": 5.694160545302182,
            "x1": 5.888264535277008,
            "y0": 2.9616618056840838,
            "y1": 2.9134576453257415
           },
           {
            "line": {
             "color": "black",
             "width": 3
            },
            "type": "line",
            "x0": 6.321641675454489,
            "x1": 6.363055989515093,
            "y0": 4.342543947694884,
            "y1": 4.538209107063867
           },
           {
            "line": {
             "color": "white",
             "width": 3
            },
            "type": "line",
            "x0": 9.063202676547862,
            "x1": 9.256266626490504,
            "y0": 6.570917587382048,
            "y1": 6.623131677746093
           },
           {
            "line": {
             "color": "black",
             "width": 3
            },
            "type": "line",
            "x0": 6.369215890418797,
            "x1": 6.437579779708104,
            "y0": 3.186189123857496,
            "y1": 3.3741422526988094
           },
           {
            "line": {
             "color": "black",
             "width": 3
            },
            "type": "line",
            "x0": 7.939077419130026,
            "x1": 8.130763687367049,
            "y0": 6.077292567800785,
            "y1": 6.134357220339499
           }
          ],
          "title": {
           "text": "<b>Percentage using the shortest path: 0%  |  Number of Agents: 10</b>",
           "x": 0.5
          }
         },
         "name": "400"
        },
        {
         "data": [
          {
           "hoverinfo": "name",
           "line": {
            "color": "grey"
           },
           "mode": "lines",
           "name": "Exterior",
           "showlegend": false,
           "x": [
            10.1,
            10.1,
            15.0,
            15.0,
            13.6,
            13.6,
            15.0,
            15.0,
            13.6,
            13.6,
            15.0,
            15.0,
            10.1,
            10.1,
            9.9,
            9.9,
            5.1,
            5.1,
            4.9,
            4.9,
            0.0,
            0.0,
            1.5,
            1.5,
            0.0,
            0.0,
            1.5,
            1.5,
            0.0,
            0.0,
            4.9,
            4.9,
            5.1,
            5.1,
            9.9,
            9.9,
            10.1
           ],
           "y": [
            1.5,
            0.0,
            0.0,
            4.9,
            4.9,
            5.1,
            5.1,
            9.9,
            9.9,
            10.1,
            10.1,
            15.0,
            15.0,
            13.6,
            13.6,
            15.0,
            15.0,
            13.6,
            13.6,
            15.0,
            15.0,
            10.1,
            10.1,
            9.9,
            9.9,
            5.1,
            5.1,
            4.9,
            4.9,
            0.0,
            0.0,
            1.5,
            1.5,
            0.0,
            0.0,
            1.5,
            1.5
           ],
           "type": "scatter"
          },
          {
           "hoverinfo": "name",
           "line": {
            "color": "grey"
           },
           "mode": "lines",
           "name": "Obstacle",
           "showlegend": false,
           "x": [
            10.1,
            11.5,
            11.5,
            10.1,
            10.1,
            9.9,
            9.9,
            8.6,
            8.6,
            9.9,
            9.9,
            10.1,
            10.1
           ],
           "y": [
            5.1,
            5.1,
            4.9,
            4.9,
            3.6,
            3.6,
            4.9,
            4.9,
            5.1,
            5.1,
            6.5,
            6.5,
            5.1
           ],
           "type": "scatter"
          },
          {
           "hoverinfo": "name",
           "line": {
            "color": "grey"
           },
           "mode": "lines",
           "name": "Obstacle",
           "showlegend": false,
           "x": [
            10.1,
            11.5,
            11.5,
            10.1,
            10.1,
            9.9,
            9.9,
            8.6,
            8.6,
            9.9,
            9.9,
            10.1,
            10.1
           ],
           "y": [
            10.1,
            10.1,
            9.9,
            9.9,
            8.6,
            8.6,
            9.9,
            9.9,
            10.1,
            10.1,
            11.5,
            11.5,
            10.1
           ],
           "type": "scatter"
          },
          {
           "hoverinfo": "name",
           "line": {
            "color": "grey"
           },
           "mode": "lines",
           "name": "Obstacle",
           "showlegend": false,
           "x": [
            5.1,
            6.4,
            6.4,
            5.1,
            5.1,
            4.9,
            4.9,
            3.6,
            3.6,
            4.9,
            4.9,
            5.1,
            5.1
           ],
           "y": [
            5.1,
            5.1,
            4.9,
            4.9,
            3.6,
            3.6,
            4.9,
            4.9,
            5.1,
            5.1,
            6.5,
            6.5,
            5.1
           ],
           "type": "scatter"
          },
          {
           "hoverinfo": "name",
           "line": {
            "color": "grey"
           },
           "mode": "lines",
           "name": "Obstacle",
           "showlegend": false,
           "x": [
            5.1,
            6.4,
            6.4,
            5.1,
            5.1,
            4.9,
            4.9,
            3.6,
            3.6,
            4.9,
            4.9,
            5.1,
            5.1
           ],
           "y": [
            10.1,
            10.1,
            9.9,
            9.9,
            8.6,
            8.6,
            9.9,
            9.9,
            10.1,
            10.1,
            11.5,
            11.5,
            10.1
           ],
           "type": "scatter"
          },
          {
           "fill": "toself",
           "fillcolor": "rgba(200, 0, 0, 0.20)",
           "hoverinfo": "name",
           "line": {
            "width": 0
           },
           "mode": "lines",
           "name": "Risk Area",
           "showlegend": false,
           "x": [
            0.0,
            5.0,
            5.0,
            0.0,
            0.0
           ],
           "y": [
            0.0,
            0.0,
            5.0,
            5.0,
            0.0
           ],
           "type": "scatter"
          },
          {
           "fill": "toself",
           "fillcolor": "rgba(200, 0, 0, 0.10)",
           "hoverinfo": "name",
           "line": {
            "width": 0
           },
           "mode": "lines",
           "name": "Risk Area",
           "showlegend": false,
           "x": [
            5.0,
            10.0,
            10.0,
            5.0,
            5.0
           ],
           "y": [
            0.0,
            0.0,
            5.0,
            5.0,
            0.0
           ],
           "type": "scatter"
          },
          {
           "fill": "toself",
           "fillcolor": "rgba(200, 0, 0, 0.00)",
           "hoverinfo": "name",
           "line": {
            "width": 0
           },
           "mode": "lines",
           "name": "Risk Area",
           "showlegend": false,
           "x": [
            10.0,
            15.0,
            15.0,
            10.0,
            10.0
           ],
           "y": [
            0.0,
            0.0,
            5.0,
            5.0,
            0.0
           ],
           "type": "scatter"
          },
          {
           "fill": "toself",
           "fillcolor": "rgba(200, 0, 0, 0.00)",
           "hoverinfo": "name",
           "line": {
            "width": 0
           },
           "mode": "lines",
           "name": "Risk Area",
           "showlegend": false,
           "x": [
            10.0,
            15.0,
            15.0,
            10.0,
            10.0
           ],
           "y": [
            5.0,
            5.0,
            10.0,
            10.0,
            5.0
           ],
           "type": "scatter"
          },
          {
           "fill": "toself",
           "fillcolor": "rgba(200, 0, 0, 0.50)",
           "hoverinfo": "name",
           "line": {
            "width": 0
           },
           "mode": "lines",
           "name": "Risk Area",
           "showlegend": false,
           "x": [
            5.0,
            10.0,
            10.0,
            5.0,
            5.0
           ],
           "y": [
            5.0,
            5.0,
            10.0,
            10.0,
            5.0
           ],
           "type": "scatter"
          },
          {
           "fill": "toself",
           "fillcolor": "rgba(200, 0, 0, 0.10)",
           "hoverinfo": "name",
           "line": {
            "width": 0
           },
           "mode": "lines",
           "name": "Risk Area",
           "showlegend": false,
           "x": [
            0.0,
            5.0,
            5.0,
            0.0,
            0.0
           ],
           "y": [
            5.0,
            5.0,
            10.0,
            10.0,
            5.0
           ],
           "type": "scatter"
          },
          {
           "fill": "toself",
           "fillcolor": "rgba(200, 0, 0, 0.00)",
           "hoverinfo": "name",
           "line": {
            "width": 0
           },
           "mode": "lines",
           "name": "Risk Area",
           "showlegend": false,
           "x": [
            0.0,
            5.0,
            5.0,
            0.0,
            0.0
           ],
           "y": [
            10.0,
            10.0,
            15.0,
            15.0,
            10.0
           ],
           "type": "scatter"
          },
          {
           "fill": "toself",
           "fillcolor": "rgba(200, 0, 0, 0.20)",
           "hoverinfo": "name",
           "line": {
            "width": 0
           },
           "mode": "lines",
           "name": "Risk Area",
           "showlegend": false,
           "x": [
            5.0,
            10.0,
            10.0,
            5.0,
            5.0
           ],
           "y": [
            10.0,
            10.0,
            15.0,
            15.0,
            10.0
           ],
           "type": "scatter"
          },
          {
           "fill": "toself",
           "fillcolor": "rgba(200, 0, 0, 0.00)",
           "hoverinfo": "name",
           "line": {
            "width": 0
           },
           "mode": "lines",
           "name": "Risk Area",
           "showlegend": false,
           "x": [
            10.0,
            15.0,
            15.0,
            10.0,
            10.0
           ],
           "y": [
            10.0,
            10.0,
            15.0,
            15.0,
            10.0
           ],
           "type": "scatter"
          },
          {
           "hoverinfo": "text",
           "marker": {
            "opacity": 1,
            "size": 1
           },
           "mode": "markers",
           "showlegend": false,
           "text": [
            "ID: 61, Pos(11.31,7.85)"
           ],
           "x": [
            11.312854409575351
           ],
           "y": [
            7.851323716071759
           ],
           "type": "scatter"
          },
          {
           "hoverinfo": "text",
           "marker": {
            "opacity": 1,
            "size": 1
           },
           "mode": "markers",
           "showlegend": false,
           "text": [
            "ID: 62, Pos(6.68,3.01)"
           ],
           "x": [
            6.679175246522641
           ],
           "y": [
            3.0062339362781185
           ],
           "type": "scatter"
          },
          {
           "hoverinfo": "text",
           "marker": {
            "opacity": 1,
            "size": 1
           },
           "mode": "markers",
           "showlegend": false,
           "text": [
            "ID: 63, Pos(7.16,4.83)"
           ],
           "x": [
            7.15619803975692
           ],
           "y": [
            4.828717151161369
           ],
           "type": "scatter"
          },
          {
           "hoverinfo": "text",
           "marker": {
            "opacity": 1,
            "size": 1
           },
           "mode": "markers",
           "showlegend": false,
           "text": [
            "ID: 64, Pos(7.05,5.80)"
           ],
           "x": [
            7.052850328722025
           ],
           "y": [
            5.799214546915188
           ],
           "type": "scatter"
          },
          {
           "hoverinfo": "text",
           "marker": {
            "opacity": 1,
            "size": 1
           },
           "mode": "markers",
           "showlegend": false,
           "text": [
            "ID: 65, Pos(7.72,6.25)"
           ],
           "x": [
            7.718557510295234
           ],
           "y": [
            6.247530589298977
           ],
           "type": "scatter"
          },
          {
           "hoverinfo": "text",
           "marker": {
            "opacity": 1,
            "size": 1
           },
           "mode": "markers",
           "showlegend": false,
           "text": [
            "ID: 66, Pos(6.07,3.46)"
           ],
           "x": [
            6.074789152737942
           ],
           "y": [
            3.456078427747098
           ],
           "type": "scatter"
          },
          {
           "hoverinfo": "text",
           "marker": {
            "opacity": 1,
            "size": 1
           },
           "mode": "markers",
           "showlegend": false,
           "text": [
            "ID: 67, Pos(6.54,4.61)"
           ],
           "x": [
            6.542344577172921
           ],
           "y": [
            4.606357315213801
           ],
           "type": "scatter"
          },
          {
           "hoverinfo": "text",
           "marker": {
            "opacity": 1,
            "size": 1
           },
           "mode": "markers",
           "showlegend": false,
           "text": [
            "ID: 68, Pos(10.13,6.99)"
           ],
           "x": [
            10.133646847378566
           ],
           "y": [
            6.987941228013106
           ],
           "type": "scatter"
          },
          {
           "hoverinfo": "text",
           "marker": {
            "opacity": 1,
            "size": 1
           },
           "mode": "markers",
           "showlegend": false,
           "text": [
            "ID: 69, Pos(6.56,3.79)"
           ],
           "x": [
            6.563438246902499
           ],
           "y": [
            3.7887326098369396
           ],
           "type": "scatter"
          },
          {
           "hoverinfo": "text",
           "marker": {
            "opacity": 1,
            "size": 1
           },
           "mode": "markers",
           "showlegend": false,
           "text": [
            "ID: 70, Pos(8.85,6.37)"
           ],
           "x": [
            8.845564989737857
           ],
           "y": [
            6.367044750678757
           ],
           "type": "scatter"
          }
         ],
         "layout": {
          "shapes": [
           {
            "fillcolor": "rgba(0, 0, 128, 0.5)",
            "line": {
             "color": "rgba(0, 0, 128, 0.5)"
            },
            "type": "circle",
            "x0": 11.112854409575352,
            "x1": 11.51285440957535,
            "xref": "x",
            "y0": 7.651323716071759,
            "y1": 8.051323716071758,
            "yref": "y"
           },
           {
            "fillcolor": "rgba(255, 167, 0, 0.5)",
            "line": {
             "color": "rgba(255, 167, 0, 0.5)"
            },
            "type": "circle",
            "x0": 6.479175246522641,
            "x1": 6.8791752465226415,
            "xref": "x",
            "y0": 2.8062339362781183,
            "y1": 3.2062339362781187,
            "yref": "y"
           },
           {
            "fillcolor": "rgba(180, 255, 67, 0.5)",
            "line": {
             "color": "rgba(180, 255, 67, 0.5)"
            },
            "type": "circle",
            "x0": 6.95619803975692,
            "x1": 7.35619803975692,
            "xref": "x",
            "y0": 4.628717151161369,
            "y1": 5.028717151161369,
            "yref": "y"
           },
           {
            "fillcolor": "rgba(0, 0, 128, 0.5)",
            "line": {
             "color": "rgba(0, 0, 128, 0.5)"
            },
            "type": "circle",
            "x0": 6.852850328722025,
            "x1": 7.252850328722025,
            "xref": "x",
            "y0": 5.599214546915188,
            "y1": 5.999214546915188,
            "yref": "y"
           },
           {
            "fillcolor": "rgba(60, 255, 186, 0.5)",
            "line": {
             "color": "rgba(60, 255, 186, 0.5)"
            },
            "type": "circle",
            "x0": 7.518557510295234,
            "x1": 7.918557510295234,
            "xref": "x",
            "y0": 6.047530589298977,
            "y1": 6.447530589298977,
            "yref": "y"
           },
           {
            "fillcolor": "rgba(0, 0, 128, 0.5)",
            "line": {
             "color": "rgba(0, 0, 128, 0.5)"
            },
            "type": "circle",
            "x0": 5.874789152737942,
            "x1": 6.2747891527379425,
            "xref": "x",
            "y0": 3.2560784277470978,
            "y1": 3.656078427747098,
            "yref": "y"
           },
           {
            "fillcolor": "rgba(255, 48, 0, 0.5)",
            "line": {
             "color": "rgba(255, 48, 0, 0.5)"
            },
            "type": "circle",
            "x0": 6.342344577172921,
            "x1": 6.742344577172921,
            "xref": "x",
            "y0": 4.406357315213801,
            "y1": 4.806357315213801,
            "yref": "y"
           },
           {
            "fillcolor": "rgba(0, 0, 128, 0.5)",
            "line": {
             "color": "rgba(0, 0, 128, 0.5)"
            },
            "type": "circle",
            "x0": 9.933646847378567,
            "x1": 10.333646847378565,
            "xref": "x",
            "y0": 6.787941228013106,
            "y1": 7.1879412280131065,
            "yref": "y"
           },
           {
            "fillcolor": "rgba(255, 189, 0, 0.5)",
            "line": {
             "color": "rgba(255, 189, 0, 0.5)"
            },
            "type": "circle",
            "x0": 6.363438246902499,
            "x1": 6.763438246902499,
            "xref": "x",
            "y0": 3.5887326098369394,
            "y1": 3.98873260983694,
            "yref": "y"
           },
           {
            "fillcolor": "rgba(0, 29, 255, 0.5)",
            "line": {
             "color": "rgba(0, 29, 255, 0.5)"
            },
            "type": "circle",
            "x0": 8.645564989737858,
            "x1": 9.045564989737857,
            "xref": "x",
            "y0": 6.167044750678757,
            "y1": 6.5670447506787575,
            "yref": "y"
           },
           {
            "line": {
             "color": "white",
             "width": 3
            },
            "type": "line",
            "x0": 11.312854409575351,
            "x1": 11.389232288340606,
            "y0": 7.851323716071759,
            "y1": 8.036165322955382
           },
           {
            "line": {
             "color": "black",
             "width": 3
            },
            "type": "line",
            "x0": 6.679175246522641,
            "x1": 6.733570235375659,
            "y0": 3.0062339362781185,
            "y1": 3.1986948029177555
           },
           {
            "line": {
             "color": "black",
             "width": 3
            },
            "type": "line",
            "x0": 7.15619803975692,
            "x1": 7.2151809853288755,
            "y0": 4.828717151161369,
            "y1": 5.0198218662566685
           },
           {
            "line": {
             "color": "white",
             "width": 3
            },
            "type": "line",
            "x0": 7.052850328722025,
            "x1": 7.097081767587113,
            "y0": 5.799214546915188,
            "y1": 5.994262181650716
           },
           {
            "line": {
             "color": "black",
             "width": 3
            },
            "type": "line",
            "x0": 7.718557510295234,
            "x1": 7.911241099653244,
            "y0": 6.247530589298977,
            "y1": 6.301131283250769
           },
           {
            "line": {
             "color": "white",
             "width": 3
            },
            "type": "line",
            "x0": 6.074789152737942,
            "x1": 6.065766628417791,
            "y0": 3.456078427747098,
            "y1": 3.6558748092330804
           },
           {
            "line": {
             "color": "white",
             "width": 3
            },
            "type": "line",
            "x0": 6.542344577172921,
            "x1": 6.7279154387079245,
            "y0": 4.606357315213801,
            "y1": 4.680945889065004
           },
           {
            "line": {
             "color": "white",
             "width": 3
            },
            "type": "line",
            "x0": 10.133646847378566,
            "x1": 10.327515517985768,
            "y0": 6.987941228013106,
            "y1": 7.037083252360869
           },
           {
            "line": {
             "color": "black",
             "width": 3
            },
            "type": "line",
            "x0": 6.563438246902499,
            "x1": 6.646935291387399,
            "y0": 3.7887326098369396,
            "y1": 3.9704693523033066
           },
           {
            "line": {
             "color": "white",
             "width": 3
            },
            "type": "line",
            "x0": 8.845564989737857,
            "x1": 9.0357783481489,
            "y0": 6.367044750678757,
            "y1": 6.428841824088362
           }
          ],
          "title": {
           "text": "<b>Percentage using the shortest path: 0%  |  Number of Agents: 10</b>",
           "x": 0.5
          }
         },
         "name": "450"
        },
        {
         "data": [
          {
           "hoverinfo": "name",
           "line": {
            "color": "grey"
           },
           "mode": "lines",
           "name": "Exterior",
           "showlegend": false,
           "x": [
            10.1,
            10.1,
            15.0,
            15.0,
            13.6,
            13.6,
            15.0,
            15.0,
            13.6,
            13.6,
            15.0,
            15.0,
            10.1,
            10.1,
            9.9,
            9.9,
            5.1,
            5.1,
            4.9,
            4.9,
            0.0,
            0.0,
            1.5,
            1.5,
            0.0,
            0.0,
            1.5,
            1.5,
            0.0,
            0.0,
            4.9,
            4.9,
            5.1,
            5.1,
            9.9,
            9.9,
            10.1
           ],
           "y": [
            1.5,
            0.0,
            0.0,
            4.9,
            4.9,
            5.1,
            5.1,
            9.9,
            9.9,
            10.1,
            10.1,
            15.0,
            15.0,
            13.6,
            13.6,
            15.0,
            15.0,
            13.6,
            13.6,
            15.0,
            15.0,
            10.1,
            10.1,
            9.9,
            9.9,
            5.1,
            5.1,
            4.9,
            4.9,
            0.0,
            0.0,
            1.5,
            1.5,
            0.0,
            0.0,
            1.5,
            1.5
           ],
           "type": "scatter"
          },
          {
           "hoverinfo": "name",
           "line": {
            "color": "grey"
           },
           "mode": "lines",
           "name": "Obstacle",
           "showlegend": false,
           "x": [
            10.1,
            11.5,
            11.5,
            10.1,
            10.1,
            9.9,
            9.9,
            8.6,
            8.6,
            9.9,
            9.9,
            10.1,
            10.1
           ],
           "y": [
            5.1,
            5.1,
            4.9,
            4.9,
            3.6,
            3.6,
            4.9,
            4.9,
            5.1,
            5.1,
            6.5,
            6.5,
            5.1
           ],
           "type": "scatter"
          },
          {
           "hoverinfo": "name",
           "line": {
            "color": "grey"
           },
           "mode": "lines",
           "name": "Obstacle",
           "showlegend": false,
           "x": [
            10.1,
            11.5,
            11.5,
            10.1,
            10.1,
            9.9,
            9.9,
            8.6,
            8.6,
            9.9,
            9.9,
            10.1,
            10.1
           ],
           "y": [
            10.1,
            10.1,
            9.9,
            9.9,
            8.6,
            8.6,
            9.9,
            9.9,
            10.1,
            10.1,
            11.5,
            11.5,
            10.1
           ],
           "type": "scatter"
          },
          {
           "hoverinfo": "name",
           "line": {
            "color": "grey"
           },
           "mode": "lines",
           "name": "Obstacle",
           "showlegend": false,
           "x": [
            5.1,
            6.4,
            6.4,
            5.1,
            5.1,
            4.9,
            4.9,
            3.6,
            3.6,
            4.9,
            4.9,
            5.1,
            5.1
           ],
           "y": [
            5.1,
            5.1,
            4.9,
            4.9,
            3.6,
            3.6,
            4.9,
            4.9,
            5.1,
            5.1,
            6.5,
            6.5,
            5.1
           ],
           "type": "scatter"
          },
          {
           "hoverinfo": "name",
           "line": {
            "color": "grey"
           },
           "mode": "lines",
           "name": "Obstacle",
           "showlegend": false,
           "x": [
            5.1,
            6.4,
            6.4,
            5.1,
            5.1,
            4.9,
            4.9,
            3.6,
            3.6,
            4.9,
            4.9,
            5.1,
            5.1
           ],
           "y": [
            10.1,
            10.1,
            9.9,
            9.9,
            8.6,
            8.6,
            9.9,
            9.9,
            10.1,
            10.1,
            11.5,
            11.5,
            10.1
           ],
           "type": "scatter"
          },
          {
           "fill": "toself",
           "fillcolor": "rgba(200, 0, 0, 0.20)",
           "hoverinfo": "name",
           "line": {
            "width": 0
           },
           "mode": "lines",
           "name": "Risk Area",
           "showlegend": false,
           "x": [
            0.0,
            5.0,
            5.0,
            0.0,
            0.0
           ],
           "y": [
            0.0,
            0.0,
            5.0,
            5.0,
            0.0
           ],
           "type": "scatter"
          },
          {
           "fill": "toself",
           "fillcolor": "rgba(200, 0, 0, 0.10)",
           "hoverinfo": "name",
           "line": {
            "width": 0
           },
           "mode": "lines",
           "name": "Risk Area",
           "showlegend": false,
           "x": [
            5.0,
            10.0,
            10.0,
            5.0,
            5.0
           ],
           "y": [
            0.0,
            0.0,
            5.0,
            5.0,
            0.0
           ],
           "type": "scatter"
          },
          {
           "fill": "toself",
           "fillcolor": "rgba(200, 0, 0, 0.00)",
           "hoverinfo": "name",
           "line": {
            "width": 0
           },
           "mode": "lines",
           "name": "Risk Area",
           "showlegend": false,
           "x": [
            10.0,
            15.0,
            15.0,
            10.0,
            10.0
           ],
           "y": [
            0.0,
            0.0,
            5.0,
            5.0,
            0.0
           ],
           "type": "scatter"
          },
          {
           "fill": "toself",
           "fillcolor": "rgba(200, 0, 0, 0.00)",
           "hoverinfo": "name",
           "line": {
            "width": 0
           },
           "mode": "lines",
           "name": "Risk Area",
           "showlegend": false,
           "x": [
            10.0,
            15.0,
            15.0,
            10.0,
            10.0
           ],
           "y": [
            5.0,
            5.0,
            10.0,
            10.0,
            5.0
           ],
           "type": "scatter"
          },
          {
           "fill": "toself",
           "fillcolor": "rgba(200, 0, 0, 0.50)",
           "hoverinfo": "name",
           "line": {
            "width": 0
           },
           "mode": "lines",
           "name": "Risk Area",
           "showlegend": false,
           "x": [
            5.0,
            10.0,
            10.0,
            5.0,
            5.0
           ],
           "y": [
            5.0,
            5.0,
            10.0,
            10.0,
            5.0
           ],
           "type": "scatter"
          },
          {
           "fill": "toself",
           "fillcolor": "rgba(200, 0, 0, 0.10)",
           "hoverinfo": "name",
           "line": {
            "width": 0
           },
           "mode": "lines",
           "name": "Risk Area",
           "showlegend": false,
           "x": [
            0.0,
            5.0,
            5.0,
            0.0,
            0.0
           ],
           "y": [
            5.0,
            5.0,
            10.0,
            10.0,
            5.0
           ],
           "type": "scatter"
          },
          {
           "fill": "toself",
           "fillcolor": "rgba(200, 0, 0, 0.00)",
           "hoverinfo": "name",
           "line": {
            "width": 0
           },
           "mode": "lines",
           "name": "Risk Area",
           "showlegend": false,
           "x": [
            0.0,
            5.0,
            5.0,
            0.0,
            0.0
           ],
           "y": [
            10.0,
            10.0,
            15.0,
            15.0,
            10.0
           ],
           "type": "scatter"
          },
          {
           "fill": "toself",
           "fillcolor": "rgba(200, 0, 0, 0.20)",
           "hoverinfo": "name",
           "line": {
            "width": 0
           },
           "mode": "lines",
           "name": "Risk Area",
           "showlegend": false,
           "x": [
            5.0,
            10.0,
            10.0,
            5.0,
            5.0
           ],
           "y": [
            10.0,
            10.0,
            15.0,
            15.0,
            10.0
           ],
           "type": "scatter"
          },
          {
           "fill": "toself",
           "fillcolor": "rgba(200, 0, 0, 0.00)",
           "hoverinfo": "name",
           "line": {
            "width": 0
           },
           "mode": "lines",
           "name": "Risk Area",
           "showlegend": false,
           "x": [
            10.0,
            15.0,
            15.0,
            10.0,
            10.0
           ],
           "y": [
            10.0,
            10.0,
            15.0,
            15.0,
            10.0
           ],
           "type": "scatter"
          },
          {
           "hoverinfo": "text",
           "marker": {
            "opacity": 1,
            "size": 1
           },
           "mode": "markers",
           "showlegend": false,
           "text": [
            "ID: 61, Pos(11.77,8.96)"
           ],
           "x": [
            11.77109505211891
           ],
           "y": [
            8.96038436063
           ],
           "type": "scatter"
          },
          {
           "hoverinfo": "text",
           "marker": {
            "opacity": 1,
            "size": 1
           },
           "mode": "markers",
           "showlegend": false,
           "text": [
            "ID: 62, Pos(6.77,3.46)"
           ],
           "x": [
            6.7693634704740955
           ],
           "y": [
            3.4579176613965203
           ],
           "type": "scatter"
          },
          {
           "hoverinfo": "text",
           "marker": {
            "opacity": 1,
            "size": 1
           },
           "mode": "markers",
           "showlegend": false,
           "text": [
            "ID: 63, Pos(7.27,5.37)"
           ],
           "x": [
            7.268459268190634
           ],
           "y": [
            5.3726455856551745
           ],
           "type": "scatter"
          },
          {
           "hoverinfo": "text",
           "marker": {
            "opacity": 1,
            "size": 1
           },
           "mode": "markers",
           "showlegend": false,
           "text": [
            "ID: 64, Pos(7.52,6.17)"
           ],
           "x": [
            7.516498604445606
           ],
           "y": [
            6.172163377973561
           ],
           "type": "scatter"
          },
          {
           "hoverinfo": "text",
           "marker": {
            "opacity": 1,
            "size": 1
           },
           "mode": "markers",
           "showlegend": false,
           "text": [
            "ID: 65, Pos(8.54,6.46)"
           ],
           "x": [
            8.537143448441585
           ],
           "y": [
            6.463628369356862
           ],
           "type": "scatter"
          },
          {
           "hoverinfo": "text",
           "marker": {
            "opacity": 1,
            "size": 1
           },
           "mode": "markers",
           "showlegend": false,
           "text": [
            "ID: 66, Pos(6.19,4.23)"
           ],
           "x": [
            6.187869905303061
           ],
           "y": [
            4.229014256436889
           ],
           "type": "scatter"
          },
          {
           "hoverinfo": "text",
           "marker": {
            "opacity": 1,
            "size": 1
           },
           "mode": "markers",
           "showlegend": false,
           "text": [
            "ID: 67, Pos(6.74,4.83)"
           ],
           "x": [
            6.741157306069368
           ],
           "y": [
            4.834662940991289
           ],
           "type": "scatter"
          },
          {
           "hoverinfo": "text",
           "marker": {
            "opacity": 1,
            "size": 1
           },
           "mode": "markers",
           "showlegend": false,
           "text": [
            "ID: 68, Pos(11.14,7.44)"
           ],
           "x": [
            11.141694576042521
           ],
           "y": [
            7.440598994103201
           ],
           "type": "scatter"
          },
          {
           "hoverinfo": "text",
           "marker": {
            "opacity": 1,
            "size": 1
           },
           "mode": "markers",
           "showlegend": false,
           "text": [
            "ID: 69, Pos(7.07,4.41)"
           ],
           "x": [
            7.071518553507337
           ],
           "y": [
            4.405416562049156
           ],
           "type": "scatter"
          },
          {
           "hoverinfo": "text",
           "marker": {
            "opacity": 1,
            "size": 1
           },
           "mode": "markers",
           "showlegend": false,
           "text": [
            "ID: 70, Pos(9.80,6.86)"
           ],
           "x": [
            9.79605188073212
           ],
           "y": [
            6.862072693976146
           ],
           "type": "scatter"
          }
         ],
         "layout": {
          "shapes": [
           {
            "fillcolor": "rgba(0, 0, 128, 0.5)",
            "line": {
             "color": "rgba(0, 0, 128, 0.5)"
            },
            "type": "circle",
            "x0": 11.571095052118912,
            "x1": 11.97109505211891,
            "xref": "x",
            "y0": 8.76038436063,
            "y1": 9.16038436063,
            "yref": "y"
           },
           {
            "fillcolor": "rgba(164, 255, 83, 0.5)",
            "line": {
             "color": "rgba(164, 255, 83, 0.5)"
            },
            "type": "circle",
            "x0": 6.569363470474095,
            "x1": 6.969363470474096,
            "xref": "x",
            "y0": 3.25791766139652,
            "y1": 3.6579176613965205,
            "yref": "y"
           },
           {
            "fillcolor": "rgba(255, 208, 0, 0.5)",
            "line": {
             "color": "rgba(255, 208, 0, 0.5)"
            },
            "type": "circle",
            "x0": 7.068459268190634,
            "x1": 7.468459268190634,
            "xref": "x",
            "y0": 5.172645585655174,
            "y1": 5.572645585655175,
            "yref": "y"
           },
           {
            "fillcolor": "rgba(115, 255, 131, 0.5)",
            "line": {
             "color": "rgba(115, 255, 131, 0.5)"
            },
            "type": "circle",
            "x0": 7.316498604445606,
            "x1": 7.716498604445606,
            "xref": "x",
            "y0": 5.972163377973561,
            "y1": 6.372163377973561,
            "yref": "y"
           },
           {
            "fillcolor": "rgba(0, 128, 255, 0.5)",
            "line": {
             "color": "rgba(0, 128, 255, 0.5)"
            },
            "type": "circle",
            "x0": 8.337143448441585,
            "x1": 8.737143448441584,
            "xref": "x",
            "y0": 6.263628369356862,
            "y1": 6.6636283693568625,
            "yref": "y"
           },
           {
            "fillcolor": "rgba(255, 193, 0, 0.5)",
            "line": {
             "color": "rgba(255, 193, 0, 0.5)"
            },
            "type": "circle",
            "x0": 5.987869905303061,
            "x1": 6.387869905303061,
            "xref": "x",
            "y0": 4.029014256436889,
            "y1": 4.429014256436889,
            "yref": "y"
           },
           {
            "fillcolor": "rgba(255, 134, 0, 0.5)",
            "line": {
             "color": "rgba(255, 134, 0, 0.5)"
            },
            "type": "circle",
            "x0": 6.541157306069368,
            "x1": 6.9411573060693685,
            "xref": "x",
            "y0": 4.634662940991289,
            "y1": 5.034662940991289,
            "yref": "y"
           },
           {
            "fillcolor": "rgba(0, 0, 128, 0.5)",
            "line": {
             "color": "rgba(0, 0, 128, 0.5)"
            },
            "type": "circle",
            "x0": 10.941694576042522,
            "x1": 11.34169457604252,
            "xref": "x",
            "y0": 7.240598994103201,
            "y1": 7.640598994103201,
            "yref": "y"
           },
           {
            "fillcolor": "rgba(0, 0, 128, 0.5)",
            "line": {
             "color": "rgba(0, 0, 128, 0.5)"
            },
            "type": "circle",
            "x0": 6.871518553507337,
            "x1": 7.271518553507337,
            "xref": "x",
            "y0": 4.205416562049156,
            "y1": 4.6054165620491565,
            "yref": "y"
           },
           {
            "fillcolor": "rgba(0, 0, 246, 0.5)",
            "line": {
             "color": "rgba(0, 0, 246, 0.5)"
            },
            "type": "circle",
            "x0": 9.596051880732121,
            "x1": 9.99605188073212,
            "xref": "x",
            "y0": 6.662072693976146,
            "y1": 7.0620726939761465,
            "yref": "y"
           },
           {
            "line": {
             "color": "white",
             "width": 3
            },
            "type": "line",
            "x0": 11.77109505211891,
            "x1": 11.847466569734415,
            "y0": 8.96038436063,
            "y1": 9.145228595858217
           },
           {
            "line": {
             "color": "black",
             "width": 3
            },
            "type": "line",
            "x0": 6.7693634704740955,
            "x1": 6.806082856109834,
            "y0": 3.4579176613965203,
            "y1": 3.6545179836712665
           },
           {
            "line": {
             "color": "black",
             "width": 3
            },
            "type": "line",
            "x0": 7.268459268190634,
            "x1": 7.298091083313155,
            "y0": 5.3726455856551745,
            "y1": 5.570438294147031
           },
           {
            "line": {
             "color": "black",
             "width": 3
            },
            "type": "line",
            "x0": 7.516498604445606,
            "x1": 7.708274155062007,
            "y0": 6.172163377973561,
            "y1": 6.228927258969986
           },
           {
            "line": {
             "color": "white",
             "width": 3
            },
            "type": "line",
            "x0": 8.537143448441585,
            "x1": 8.730632533438119,
            "y0": 6.463628369356862,
            "y1": 6.514244315334428
           },
           {
            "line": {
             "color": "black",
             "width": 3
            },
            "type": "line",
            "x0": 6.187869905303061,
            "x1": 6.287367137355352,
            "y0": 4.229014256436889,
            "y1": 4.402508639095039
           },
           {
            "line": {
             "color": "black",
             "width": 3
            },
            "type": "line",
            "x0": 6.741157306069368,
            "x1": 6.802036452922246,
            "y0": 4.834662940991289,
            "y1": 5.025172073261808
           },
           {
            "line": {
             "color": "white",
             "width": 3
            },
            "type": "line",
            "x0": 11.141694576042521,
            "x1": 11.218110790272387,
            "y0": 7.440598994103201,
            "y1": 7.625424755843212
           },
           {
            "line": {
             "color": "white",
             "width": 3
            },
            "type": "line",
            "x0": 7.071518553507337,
            "x1": 7.2197890833375,
            "y0": 4.405416562049156,
            "y1": 4.5396396971037465
           },
           {
            "line": {
             "color": "white",
             "width": 3
            },
            "type": "line",
            "x0": 9.79605188073212,
            "x1": 9.96670605980581,
            "y0": 6.862072693976146,
            "y1": 6.966366275584436
           }
          ],
          "title": {
           "text": "<b>Percentage using the shortest path: 0%  |  Number of Agents: 10</b>",
           "x": 0.5
          }
         },
         "name": "500"
        },
        {
         "data": [
          {
           "hoverinfo": "name",
           "line": {
            "color": "grey"
           },
           "mode": "lines",
           "name": "Exterior",
           "showlegend": false,
           "x": [
            10.1,
            10.1,
            15.0,
            15.0,
            13.6,
            13.6,
            15.0,
            15.0,
            13.6,
            13.6,
            15.0,
            15.0,
            10.1,
            10.1,
            9.9,
            9.9,
            5.1,
            5.1,
            4.9,
            4.9,
            0.0,
            0.0,
            1.5,
            1.5,
            0.0,
            0.0,
            1.5,
            1.5,
            0.0,
            0.0,
            4.9,
            4.9,
            5.1,
            5.1,
            9.9,
            9.9,
            10.1
           ],
           "y": [
            1.5,
            0.0,
            0.0,
            4.9,
            4.9,
            5.1,
            5.1,
            9.9,
            9.9,
            10.1,
            10.1,
            15.0,
            15.0,
            13.6,
            13.6,
            15.0,
            15.0,
            13.6,
            13.6,
            15.0,
            15.0,
            10.1,
            10.1,
            9.9,
            9.9,
            5.1,
            5.1,
            4.9,
            4.9,
            0.0,
            0.0,
            1.5,
            1.5,
            0.0,
            0.0,
            1.5,
            1.5
           ],
           "type": "scatter"
          },
          {
           "hoverinfo": "name",
           "line": {
            "color": "grey"
           },
           "mode": "lines",
           "name": "Obstacle",
           "showlegend": false,
           "x": [
            10.1,
            11.5,
            11.5,
            10.1,
            10.1,
            9.9,
            9.9,
            8.6,
            8.6,
            9.9,
            9.9,
            10.1,
            10.1
           ],
           "y": [
            5.1,
            5.1,
            4.9,
            4.9,
            3.6,
            3.6,
            4.9,
            4.9,
            5.1,
            5.1,
            6.5,
            6.5,
            5.1
           ],
           "type": "scatter"
          },
          {
           "hoverinfo": "name",
           "line": {
            "color": "grey"
           },
           "mode": "lines",
           "name": "Obstacle",
           "showlegend": false,
           "x": [
            10.1,
            11.5,
            11.5,
            10.1,
            10.1,
            9.9,
            9.9,
            8.6,
            8.6,
            9.9,
            9.9,
            10.1,
            10.1
           ],
           "y": [
            10.1,
            10.1,
            9.9,
            9.9,
            8.6,
            8.6,
            9.9,
            9.9,
            10.1,
            10.1,
            11.5,
            11.5,
            10.1
           ],
           "type": "scatter"
          },
          {
           "hoverinfo": "name",
           "line": {
            "color": "grey"
           },
           "mode": "lines",
           "name": "Obstacle",
           "showlegend": false,
           "x": [
            5.1,
            6.4,
            6.4,
            5.1,
            5.1,
            4.9,
            4.9,
            3.6,
            3.6,
            4.9,
            4.9,
            5.1,
            5.1
           ],
           "y": [
            5.1,
            5.1,
            4.9,
            4.9,
            3.6,
            3.6,
            4.9,
            4.9,
            5.1,
            5.1,
            6.5,
            6.5,
            5.1
           ],
           "type": "scatter"
          },
          {
           "hoverinfo": "name",
           "line": {
            "color": "grey"
           },
           "mode": "lines",
           "name": "Obstacle",
           "showlegend": false,
           "x": [
            5.1,
            6.4,
            6.4,
            5.1,
            5.1,
            4.9,
            4.9,
            3.6,
            3.6,
            4.9,
            4.9,
            5.1,
            5.1
           ],
           "y": [
            10.1,
            10.1,
            9.9,
            9.9,
            8.6,
            8.6,
            9.9,
            9.9,
            10.1,
            10.1,
            11.5,
            11.5,
            10.1
           ],
           "type": "scatter"
          },
          {
           "fill": "toself",
           "fillcolor": "rgba(200, 0, 0, 0.20)",
           "hoverinfo": "name",
           "line": {
            "width": 0
           },
           "mode": "lines",
           "name": "Risk Area",
           "showlegend": false,
           "x": [
            0.0,
            5.0,
            5.0,
            0.0,
            0.0
           ],
           "y": [
            0.0,
            0.0,
            5.0,
            5.0,
            0.0
           ],
           "type": "scatter"
          },
          {
           "fill": "toself",
           "fillcolor": "rgba(200, 0, 0, 0.10)",
           "hoverinfo": "name",
           "line": {
            "width": 0
           },
           "mode": "lines",
           "name": "Risk Area",
           "showlegend": false,
           "x": [
            5.0,
            10.0,
            10.0,
            5.0,
            5.0
           ],
           "y": [
            0.0,
            0.0,
            5.0,
            5.0,
            0.0
           ],
           "type": "scatter"
          },
          {
           "fill": "toself",
           "fillcolor": "rgba(200, 0, 0, 0.00)",
           "hoverinfo": "name",
           "line": {
            "width": 0
           },
           "mode": "lines",
           "name": "Risk Area",
           "showlegend": false,
           "x": [
            10.0,
            15.0,
            15.0,
            10.0,
            10.0
           ],
           "y": [
            0.0,
            0.0,
            5.0,
            5.0,
            0.0
           ],
           "type": "scatter"
          },
          {
           "fill": "toself",
           "fillcolor": "rgba(200, 0, 0, 0.00)",
           "hoverinfo": "name",
           "line": {
            "width": 0
           },
           "mode": "lines",
           "name": "Risk Area",
           "showlegend": false,
           "x": [
            10.0,
            15.0,
            15.0,
            10.0,
            10.0
           ],
           "y": [
            5.0,
            5.0,
            10.0,
            10.0,
            5.0
           ],
           "type": "scatter"
          },
          {
           "fill": "toself",
           "fillcolor": "rgba(200, 0, 0, 0.50)",
           "hoverinfo": "name",
           "line": {
            "width": 0
           },
           "mode": "lines",
           "name": "Risk Area",
           "showlegend": false,
           "x": [
            5.0,
            10.0,
            10.0,
            5.0,
            5.0
           ],
           "y": [
            5.0,
            5.0,
            10.0,
            10.0,
            5.0
           ],
           "type": "scatter"
          },
          {
           "fill": "toself",
           "fillcolor": "rgba(200, 0, 0, 0.10)",
           "hoverinfo": "name",
           "line": {
            "width": 0
           },
           "mode": "lines",
           "name": "Risk Area",
           "showlegend": false,
           "x": [
            0.0,
            5.0,
            5.0,
            0.0,
            0.0
           ],
           "y": [
            5.0,
            5.0,
            10.0,
            10.0,
            5.0
           ],
           "type": "scatter"
          },
          {
           "fill": "toself",
           "fillcolor": "rgba(200, 0, 0, 0.00)",
           "hoverinfo": "name",
           "line": {
            "width": 0
           },
           "mode": "lines",
           "name": "Risk Area",
           "showlegend": false,
           "x": [
            0.0,
            5.0,
            5.0,
            0.0,
            0.0
           ],
           "y": [
            10.0,
            10.0,
            15.0,
            15.0,
            10.0
           ],
           "type": "scatter"
          },
          {
           "fill": "toself",
           "fillcolor": "rgba(200, 0, 0, 0.20)",
           "hoverinfo": "name",
           "line": {
            "width": 0
           },
           "mode": "lines",
           "name": "Risk Area",
           "showlegend": false,
           "x": [
            5.0,
            10.0,
            10.0,
            5.0,
            5.0
           ],
           "y": [
            10.0,
            10.0,
            15.0,
            15.0,
            10.0
           ],
           "type": "scatter"
          },
          {
           "fill": "toself",
           "fillcolor": "rgba(200, 0, 0, 0.00)",
           "hoverinfo": "name",
           "line": {
            "width": 0
           },
           "mode": "lines",
           "name": "Risk Area",
           "showlegend": false,
           "x": [
            10.0,
            15.0,
            15.0,
            10.0,
            10.0
           ],
           "y": [
            10.0,
            10.0,
            15.0,
            15.0,
            10.0
           ],
           "type": "scatter"
          },
          {
           "hoverinfo": "text",
           "marker": {
            "opacity": 1,
            "size": 1
           },
           "mode": "markers",
           "showlegend": false,
           "text": [
            "ID: 61, Pos(12.23,10.07)"
           ],
           "x": [
            12.230420305833432
           ],
           "y": [
            10.068995608843798
           ],
           "type": "scatter"
          },
          {
           "hoverinfo": "text",
           "marker": {
            "opacity": 1,
            "size": 1
           },
           "mode": "markers",
           "showlegend": false,
           "text": [
            "ID: 62, Pos(6.92,4.13)"
           ],
           "x": [
            6.922149768032579
           ],
           "y": [
            4.134084547210458
           ],
           "type": "scatter"
          },
          {
           "hoverinfo": "text",
           "marker": {
            "opacity": 1,
            "size": 1
           },
           "mode": "markers",
           "showlegend": false,
           "text": [
            "ID: 63, Pos(7.43,6.04)"
           ],
           "x": [
            7.428157564704592
           ],
           "y": [
            6.039620846259442
           ],
           "type": "scatter"
          },
          {
           "hoverinfo": "text",
           "marker": {
            "opacity": 1,
            "size": 1
           },
           "mode": "markers",
           "showlegend": false,
           "text": [
            "ID: 64, Pos(8.26,6.38)"
           ],
           "x": [
            8.263620851555869
           ],
           "y": [
            6.382636858791354
           ],
           "type": "scatter"
          },
          {
           "hoverinfo": "text",
           "marker": {
            "opacity": 1,
            "size": 1
           },
           "mode": "markers",
           "showlegend": false,
           "text": [
            "ID: 65, Pos(9.50,6.72)"
           ],
           "x": [
            9.502610467477615
           ],
           "y": [
            6.718712172184353
           ],
           "type": "scatter"
          },
          {
           "hoverinfo": "text",
           "marker": {
            "opacity": 1,
            "size": 1
           },
           "mode": "markers",
           "showlegend": false,
           "text": [
            "ID: 66, Pos(6.42,4.57)"
           ],
           "x": [
            6.416166447210007
           ],
           "y": [
            4.574267642457435
           ],
           "type": "scatter"
          },
          {
           "hoverinfo": "text",
           "marker": {
            "opacity": 1,
            "size": 1
           },
           "mode": "markers",
           "showlegend": false,
           "text": [
            "ID: 67, Pos(6.85,5.39)"
           ],
           "x": [
            6.848665241615581
           ],
           "y": [
            5.3862613829489225
           ],
           "type": "scatter"
          },
          {
           "hoverinfo": "text",
           "marker": {
            "opacity": 1,
            "size": 1
           },
           "mode": "markers",
           "showlegend": false,
           "text": [
            "ID: 68, Pos(11.60,8.55)"
           ],
           "x": [
            11.600176187295101
           ],
           "y": [
            8.549560044649322
           ],
           "type": "scatter"
          },
          {
           "hoverinfo": "text",
           "marker": {
            "opacity": 1,
            "size": 1
           },
           "mode": "markers",
           "showlegend": false,
           "text": [
            "ID: 69, Pos(7.44,5.07)"
           ],
           "x": [
            7.441694395557734
           ],
           "y": [
            5.073230754563743
           ],
           "type": "scatter"
          },
          {
           "hoverinfo": "text",
           "marker": {
            "opacity": 1,
            "size": 1
           },
           "mode": "markers",
           "showlegend": false,
           "text": [
            "ID: 70, Pos(10.91,7.16)"
           ],
           "x": [
            10.913905658652112
           ],
           "y": [
            7.15809305563776
           ],
           "type": "scatter"
          }
         ],
         "layout": {
          "shapes": [
           {
            "fillcolor": "rgba(0, 0, 128, 0.5)",
            "line": {
             "color": "rgba(0, 0, 128, 0.5)"
            },
            "type": "circle",
            "x0": 12.030420305833433,
            "x1": 12.430420305833431,
            "xref": "x",
            "y0": 9.868995608843798,
            "y1": 10.268995608843797,
            "yref": "y"
           },
           {
            "fillcolor": "rgba(106, 255, 141, 0.5)",
            "line": {
             "color": "rgba(106, 255, 141, 0.5)"
            },
            "type": "circle",
            "x0": 6.722149768032579,
            "x1": 7.122149768032579,
            "xref": "x",
            "y0": 3.9340845472104577,
            "y1": 4.334084547210458,
            "yref": "y"
           },
           {
            "fillcolor": "rgba(231, 255, 15, 0.5)",
            "line": {
             "color": "rgba(231, 255, 15, 0.5)"
            },
            "type": "circle",
            "x0": 7.228157564704592,
            "x1": 7.628157564704592,
            "xref": "x",
            "y0": 5.839620846259442,
            "y1": 6.2396208462594425,
            "yref": "y"
           },
           {
            "fillcolor": "rgba(0, 164, 255, 0.5)",
            "line": {
             "color": "rgba(0, 164, 255, 0.5)"
            },
            "type": "circle",
            "x0": 8.06362085155587,
            "x1": 8.463620851555868,
            "xref": "x",
            "y0": 6.182636858791354,
            "y1": 6.582636858791354,
            "yref": "y"
           },
           {
            "fillcolor": "rgba(0, 0, 255, 0.5)",
            "line": {
             "color": "rgba(0, 0, 255, 0.5)"
            },
            "type": "circle",
            "x0": 9.302610467477615,
            "x1": 9.702610467477614,
            "xref": "x",
            "y0": 6.518712172184353,
            "y1": 6.918712172184353,
            "yref": "y"
           },
           {
            "fillcolor": "rgba(141, 255, 106, 0.5)",
            "line": {
             "color": "rgba(141, 255, 106, 0.5)"
            },
            "type": "circle",
            "x0": 6.216166447210007,
            "x1": 6.6161664472100075,
            "xref": "x",
            "y0": 4.3742676424574345,
            "y1": 4.774267642457435,
            "yref": "y"
           },
           {
            "fillcolor": "rgba(0, 0, 128, 0.5)",
            "line": {
             "color": "rgba(0, 0, 128, 0.5)"
            },
            "type": "circle",
            "x0": 6.648665241615581,
            "x1": 7.0486652416155815,
            "xref": "x",
            "y0": 5.186261382948922,
            "y1": 5.586261382948923,
            "yref": "y"
           },
           {
            "fillcolor": "rgba(0, 0, 128, 0.5)",
            "line": {
             "color": "rgba(0, 0, 128, 0.5)"
            },
            "type": "circle",
            "x0": 11.400176187295102,
            "x1": 11.8001761872951,
            "xref": "x",
            "y0": 8.349560044649323,
            "y1": 8.749560044649321,
            "yref": "y"
           },
           {
            "fillcolor": "rgba(183, 255, 64, 0.5)",
            "line": {
             "color": "rgba(183, 255, 64, 0.5)"
            },
            "type": "circle",
            "x0": 7.241694395557734,
            "x1": 7.641694395557734,
            "xref": "x",
            "y0": 4.8732307545637426,
            "y1": 5.273230754563743,
            "yref": "y"
           },
           {
            "fillcolor": "rgba(0, 0, 128, 0.5)",
            "line": {
             "color": "rgba(0, 0, 128, 0.5)"
            },
            "type": "circle",
            "x0": 10.713905658652113,
            "x1": 11.113905658652111,
            "xref": "x",
            "y0": 6.95809305563776,
            "y1": 7.35809305563776,
            "yref": "y"
           },
           {
            "line": {
             "color": "white",
             "width": 3
            },
            "type": "line",
            "x0": 12.230420305833432,
            "x1": 12.306794419247588,
            "y0": 10.068995608843798,
            "y1": 10.253838771552624
           },
           {
            "line": {
             "color": "black",
             "width": 3
            },
            "type": "line",
            "x0": 6.922149768032579,
            "x1": 6.986318515688739,
            "y0": 4.134084547210458,
            "y1": 4.323510975736786
           },
           {
            "line": {
             "color": "black",
             "width": 3
            },
            "type": "line",
            "x0": 7.428157564704592,
            "x1": 7.619288674925984,
            "y0": 6.039620846259442,
            "y1": 6.098518203632574
           },
           {
            "line": {
             "color": "white",
             "width": 3
            },
            "type": "line",
            "x0": 8.263620851555869,
            "x1": 8.456891549387114,
            "y0": 6.382636858791354,
            "y1": 6.434080394437961
           },
           {
            "line": {
             "color": "white",
             "width": 3
            },
            "type": "line",
            "x0": 9.502610467477615,
            "x1": 9.693861896794349,
            "y0": 6.718712172184353,
            "y1": 6.777217648716951
           },
           {
            "line": {
             "color": "black",
             "width": 3
            },
            "type": "line",
            "x0": 6.416166447210007,
            "x1": 6.59822780494641,
            "y0": 4.574267642457435,
            "y1": 4.657054489354618
           },
           {
            "line": {
             "color": "white",
             "width": 3
            },
            "type": "line",
            "x0": 6.848665241615581,
            "x1": 6.8758093921871355,
            "y0": 5.3862613829489225,
            "y1": 5.584410809114503
           },
           {
            "line": {
             "color": "white",
             "width": 3
            },
            "type": "line",
            "x0": 11.600176187295101,
            "x1": 11.67658368985593,
            "y0": 8.549560044649322,
            "y1": 8.734389407988639
           },
           {
            "line": {
             "color": "black",
             "width": 3
            },
            "type": "line",
            "x0": 7.441694395557734,
            "x1": 7.48103993251711,
            "y0": 5.073230754563743,
            "y1": 5.269322388045078
           },
           {
            "line": {
             "color": "white",
             "width": 3
            },
            "type": "line",
            "x0": 10.913905658652112,
            "x1": 11.109415400877943,
            "y0": 7.15809305563776,
            "y1": 7.200234967018114
           }
          ],
          "title": {
           "text": "<b>Percentage using the shortest path: 0%  |  Number of Agents: 10</b>",
           "x": 0.5
          }
         },
         "name": "550"
        },
        {
         "data": [
          {
           "hoverinfo": "name",
           "line": {
            "color": "grey"
           },
           "mode": "lines",
           "name": "Exterior",
           "showlegend": false,
           "x": [
            10.1,
            10.1,
            15.0,
            15.0,
            13.6,
            13.6,
            15.0,
            15.0,
            13.6,
            13.6,
            15.0,
            15.0,
            10.1,
            10.1,
            9.9,
            9.9,
            5.1,
            5.1,
            4.9,
            4.9,
            0.0,
            0.0,
            1.5,
            1.5,
            0.0,
            0.0,
            1.5,
            1.5,
            0.0,
            0.0,
            4.9,
            4.9,
            5.1,
            5.1,
            9.9,
            9.9,
            10.1
           ],
           "y": [
            1.5,
            0.0,
            0.0,
            4.9,
            4.9,
            5.1,
            5.1,
            9.9,
            9.9,
            10.1,
            10.1,
            15.0,
            15.0,
            13.6,
            13.6,
            15.0,
            15.0,
            13.6,
            13.6,
            15.0,
            15.0,
            10.1,
            10.1,
            9.9,
            9.9,
            5.1,
            5.1,
            4.9,
            4.9,
            0.0,
            0.0,
            1.5,
            1.5,
            0.0,
            0.0,
            1.5,
            1.5
           ],
           "type": "scatter"
          },
          {
           "hoverinfo": "name",
           "line": {
            "color": "grey"
           },
           "mode": "lines",
           "name": "Obstacle",
           "showlegend": false,
           "x": [
            10.1,
            11.5,
            11.5,
            10.1,
            10.1,
            9.9,
            9.9,
            8.6,
            8.6,
            9.9,
            9.9,
            10.1,
            10.1
           ],
           "y": [
            5.1,
            5.1,
            4.9,
            4.9,
            3.6,
            3.6,
            4.9,
            4.9,
            5.1,
            5.1,
            6.5,
            6.5,
            5.1
           ],
           "type": "scatter"
          },
          {
           "hoverinfo": "name",
           "line": {
            "color": "grey"
           },
           "mode": "lines",
           "name": "Obstacle",
           "showlegend": false,
           "x": [
            10.1,
            11.5,
            11.5,
            10.1,
            10.1,
            9.9,
            9.9,
            8.6,
            8.6,
            9.9,
            9.9,
            10.1,
            10.1
           ],
           "y": [
            10.1,
            10.1,
            9.9,
            9.9,
            8.6,
            8.6,
            9.9,
            9.9,
            10.1,
            10.1,
            11.5,
            11.5,
            10.1
           ],
           "type": "scatter"
          },
          {
           "hoverinfo": "name",
           "line": {
            "color": "grey"
           },
           "mode": "lines",
           "name": "Obstacle",
           "showlegend": false,
           "x": [
            5.1,
            6.4,
            6.4,
            5.1,
            5.1,
            4.9,
            4.9,
            3.6,
            3.6,
            4.9,
            4.9,
            5.1,
            5.1
           ],
           "y": [
            5.1,
            5.1,
            4.9,
            4.9,
            3.6,
            3.6,
            4.9,
            4.9,
            5.1,
            5.1,
            6.5,
            6.5,
            5.1
           ],
           "type": "scatter"
          },
          {
           "hoverinfo": "name",
           "line": {
            "color": "grey"
           },
           "mode": "lines",
           "name": "Obstacle",
           "showlegend": false,
           "x": [
            5.1,
            6.4,
            6.4,
            5.1,
            5.1,
            4.9,
            4.9,
            3.6,
            3.6,
            4.9,
            4.9,
            5.1,
            5.1
           ],
           "y": [
            10.1,
            10.1,
            9.9,
            9.9,
            8.6,
            8.6,
            9.9,
            9.9,
            10.1,
            10.1,
            11.5,
            11.5,
            10.1
           ],
           "type": "scatter"
          },
          {
           "fill": "toself",
           "fillcolor": "rgba(200, 0, 0, 0.40)",
           "hoverinfo": "name",
           "line": {
            "width": 0
           },
           "mode": "lines",
           "name": "Risk Area",
           "showlegend": false,
           "x": [
            0.0,
            5.0,
            5.0,
            0.0,
            0.0
           ],
           "y": [
            0.0,
            0.0,
            5.0,
            5.0,
            0.0
           ],
           "type": "scatter"
          },
          {
           "fill": "toself",
           "fillcolor": "rgba(200, 0, 0, 0.10)",
           "hoverinfo": "name",
           "line": {
            "width": 0
           },
           "mode": "lines",
           "name": "Risk Area",
           "showlegend": false,
           "x": [
            5.0,
            10.0,
            10.0,
            5.0,
            5.0
           ],
           "y": [
            0.0,
            0.0,
            5.0,
            5.0,
            0.0
           ],
           "type": "scatter"
          },
          {
           "fill": "toself",
           "fillcolor": "rgba(200, 0, 0, 0.00)",
           "hoverinfo": "name",
           "line": {
            "width": 0
           },
           "mode": "lines",
           "name": "Risk Area",
           "showlegend": false,
           "x": [
            10.0,
            15.0,
            15.0,
            10.0,
            10.0
           ],
           "y": [
            0.0,
            0.0,
            5.0,
            5.0,
            0.0
           ],
           "type": "scatter"
          },
          {
           "fill": "toself",
           "fillcolor": "rgba(200, 0, 0, 0.00)",
           "hoverinfo": "name",
           "line": {
            "width": 0
           },
           "mode": "lines",
           "name": "Risk Area",
           "showlegend": false,
           "x": [
            10.0,
            15.0,
            15.0,
            10.0,
            10.0
           ],
           "y": [
            5.0,
            5.0,
            10.0,
            10.0,
            5.0
           ],
           "type": "scatter"
          },
          {
           "fill": "toself",
           "fillcolor": "rgba(200, 0, 0, 0.50)",
           "hoverinfo": "name",
           "line": {
            "width": 0
           },
           "mode": "lines",
           "name": "Risk Area",
           "showlegend": false,
           "x": [
            5.0,
            10.0,
            10.0,
            5.0,
            5.0
           ],
           "y": [
            5.0,
            5.0,
            10.0,
            10.0,
            5.0
           ],
           "type": "scatter"
          },
          {
           "fill": "toself",
           "fillcolor": "rgba(200, 0, 0, 0.10)",
           "hoverinfo": "name",
           "line": {
            "width": 0
           },
           "mode": "lines",
           "name": "Risk Area",
           "showlegend": false,
           "x": [
            0.0,
            5.0,
            5.0,
            0.0,
            0.0
           ],
           "y": [
            5.0,
            5.0,
            10.0,
            10.0,
            5.0
           ],
           "type": "scatter"
          },
          {
           "fill": "toself",
           "fillcolor": "rgba(200, 0, 0, 0.00)",
           "hoverinfo": "name",
           "line": {
            "width": 0
           },
           "mode": "lines",
           "name": "Risk Area",
           "showlegend": false,
           "x": [
            0.0,
            5.0,
            5.0,
            0.0,
            0.0
           ],
           "y": [
            10.0,
            10.0,
            15.0,
            15.0,
            10.0
           ],
           "type": "scatter"
          },
          {
           "fill": "toself",
           "fillcolor": "rgba(200, 0, 0, 0.20)",
           "hoverinfo": "name",
           "line": {
            "width": 0
           },
           "mode": "lines",
           "name": "Risk Area",
           "showlegend": false,
           "x": [
            5.0,
            10.0,
            10.0,
            5.0,
            5.0
           ],
           "y": [
            10.0,
            10.0,
            15.0,
            15.0,
            10.0
           ],
           "type": "scatter"
          },
          {
           "fill": "toself",
           "fillcolor": "rgba(200, 0, 0, 0.00)",
           "hoverinfo": "name",
           "line": {
            "width": 0
           },
           "mode": "lines",
           "name": "Risk Area",
           "showlegend": false,
           "x": [
            10.0,
            15.0,
            15.0,
            10.0,
            10.0
           ],
           "y": [
            10.0,
            10.0,
            15.0,
            15.0,
            10.0
           ],
           "type": "scatter"
          },
          {
           "hoverinfo": "text",
           "marker": {
            "opacity": 1,
            "size": 1
           },
           "mode": "markers",
           "showlegend": false,
           "text": [
            "ID: 61, Pos(12.69,11.18)"
           ],
           "x": [
            12.688337624458
           ],
           "y": [
            11.178189786617434
           ],
           "type": "scatter"
          },
          {
           "hoverinfo": "text",
           "marker": {
            "opacity": 1,
            "size": 1
           },
           "mode": "markers",
           "showlegend": false,
           "text": [
            "ID: 62, Pos(7.25,4.64)"
           ],
           "x": [
            7.250842169879898
           ],
           "y": [
            4.643182204240264
           ],
           "type": "scatter"
          },
          {
           "hoverinfo": "text",
           "marker": {
            "opacity": 1,
            "size": 1
           },
           "mode": "markers",
           "showlegend": false,
           "text": [
            "ID: 63, Pos(8.06,6.23)"
           ],
           "x": [
            8.057871407974558
           ],
           "y": [
            6.233997146693648
           ],
           "type": "scatter"
          },
          {
           "hoverinfo": "text",
           "marker": {
            "opacity": 1,
            "size": 1
           },
           "mode": "markers",
           "showlegend": false,
           "text": [
            "ID: 64, Pos(9.18,6.63)"
           ],
           "x": [
            9.184442403742095
           ],
           "y": [
            6.625949089733814
           ],
           "type": "scatter"
          },
          {
           "hoverinfo": "text",
           "marker": {
            "opacity": 1,
            "size": 1
           },
           "mode": "markers",
           "showlegend": false,
           "text": [
            "ID: 65, Pos(10.54,7.08)"
           ],
           "x": [
            10.543837611280479
           ],
           "y": [
            7.080857062944435
           ],
           "type": "scatter"
          },
          {
           "hoverinfo": "text",
           "marker": {
            "opacity": 1,
            "size": 1
           },
           "mode": "markers",
           "showlegend": false,
           "text": [
            "ID: 66, Pos(6.81,5.09)"
           ],
           "x": [
            6.811979269718189
           ],
           "y": [
            5.089716848612466
           ],
           "type": "scatter"
          },
          {
           "hoverinfo": "text",
           "marker": {
            "opacity": 1,
            "size": 1
           },
           "mode": "markers",
           "showlegend": false,
           "text": [
            "ID: 67, Pos(7.18,6.17)"
           ],
           "x": [
            7.1779621901945125
           ],
           "y": [
            6.169001286357713
           ],
           "type": "scatter"
          },
          {
           "hoverinfo": "text",
           "marker": {
            "opacity": 1,
            "size": 1
           },
           "mode": "markers",
           "showlegend": false,
           "text": [
            "ID: 68, Pos(12.06,9.66)"
           ],
           "x": [
            12.059152116285361
           ],
           "y": [
            9.658316149360983
           ],
           "type": "scatter"
          },
          {
           "hoverinfo": "text",
           "marker": {
            "opacity": 1,
            "size": 1
           },
           "mode": "markers",
           "showlegend": false,
           "text": [
            "ID: 69, Pos(7.50,5.67)"
           ],
           "x": [
            7.499139494595906
           ],
           "y": [
            5.666075663420961
           ],
           "type": "scatter"
          },
          {
           "hoverinfo": "text",
           "marker": {
            "opacity": 1,
            "size": 1
           },
           "mode": "markers",
           "showlegend": false,
           "text": [
            "ID: 70, Pos(11.45,8.18)"
           ],
           "x": [
            11.447283729355343
           ],
           "y": [
            8.177218485459655
           ],
           "type": "scatter"
          }
         ],
         "layout": {
          "shapes": [
           {
            "fillcolor": "rgba(0, 0, 128, 0.5)",
            "line": {
             "color": "rgba(0, 0, 128, 0.5)"
            },
            "type": "circle",
            "x0": 12.488337624458001,
            "x1": 12.888337624458,
            "xref": "x",
            "y0": 10.978189786617435,
            "y1": 11.378189786617433,
            "yref": "y"
           },
           {
            "fillcolor": "rgba(125, 255, 122, 0.5)",
            "line": {
             "color": "rgba(125, 255, 122, 0.5)"
            },
            "type": "circle",
            "x0": 7.050842169879898,
            "x1": 7.450842169879898,
            "xref": "x",
            "y0": 4.443182204240264,
            "y1": 4.843182204240264,
            "yref": "y"
           },
           {
            "fillcolor": "rgba(15, 248, 231, 0.5)",
            "line": {
             "color": "rgba(15, 248, 231, 0.5)"
            },
            "type": "circle",
            "x0": 7.8578714079745575,
            "x1": 8.257871407974557,
            "xref": "x",
            "y0": 6.033997146693648,
            "y1": 6.433997146693648,
            "yref": "y"
           },
           {
            "fillcolor": "rgba(0, 24, 255, 0.5)",
            "line": {
             "color": "rgba(0, 24, 255, 0.5)"
            },
            "type": "circle",
            "x0": 8.984442403742095,
            "x1": 9.384442403742094,
            "xref": "x",
            "y0": 6.425949089733813,
            "y1": 6.825949089733814,
            "yref": "y"
           },
           {
            "fillcolor": "rgba(0, 0, 128, 0.5)",
            "line": {
             "color": "rgba(0, 0, 128, 0.5)"
            },
            "type": "circle",
            "x0": 10.34383761128048,
            "x1": 10.743837611280478,
            "xref": "x",
            "y0": 6.880857062944435,
            "y1": 7.280857062944436,
            "yref": "y"
           },
           {
            "fillcolor": "rgba(48, 255, 199, 0.5)",
            "line": {
             "color": "rgba(48, 255, 199, 0.5)"
            },
            "type": "circle",
            "x0": 6.611979269718189,
            "x1": 7.011979269718189,
            "xref": "x",
            "y0": 4.889716848612466,
            "y1": 5.289716848612466,
            "yref": "y"
           },
           {
            "fillcolor": "rgba(0, 93, 255, 0.5)",
            "line": {
             "color": "rgba(0, 93, 255, 0.5)"
            },
            "type": "circle",
            "x0": 6.977962190194512,
            "x1": 7.377962190194513,
            "xref": "x",
            "y0": 5.969001286357713,
            "y1": 6.3690012863577135,
            "yref": "y"
           },
           {
            "fillcolor": "rgba(0, 0, 128, 0.5)",
            "line": {
             "color": "rgba(0, 0, 128, 0.5)"
            },
            "type": "circle",
            "x0": 11.859152116285362,
            "x1": 12.25915211628536,
            "xref": "x",
            "y0": 9.458316149360984,
            "y1": 9.858316149360983,
            "yref": "y"
           },
           {
            "fillcolor": "rgba(0, 132, 255, 0.5)",
            "line": {
             "color": "rgba(0, 132, 255, 0.5)"
            },
            "type": "circle",
            "x0": 7.299139494595906,
            "x1": 7.699139494595906,
            "xref": "x",
            "y0": 5.466075663420961,
            "y1": 5.866075663420961,
            "yref": "y"
           },
           {
            "fillcolor": "rgba(0, 0, 128, 0.5)",
            "line": {
             "color": "rgba(0, 0, 128, 0.5)"
            },
            "type": "circle",
            "x0": 11.247283729355344,
            "x1": 11.647283729355342,
            "xref": "x",
            "y0": 7.977218485459654,
            "y1": 8.377218485459654,
            "yref": "y"
           },
           {
            "line": {
             "color": "white",
             "width": 3
            },
            "type": "line",
            "x0": 12.688337624458,
            "x1": 12.764652378407089,
            "y0": 11.178189786617434,
            "y1": 11.363057464510813
           },
           {
            "line": {
             "color": "black",
             "width": 3
            },
            "type": "line",
            "x0": 7.250842169879898,
            "x1": 7.3165255626814805,
            "y0": 4.643182204240264,
            "y1": 4.83208877350156
           },
           {
            "line": {
             "color": "black",
             "width": 3
            },
            "type": "line",
            "x0": 8.057871407974558,
            "x1": 8.249147137943462,
            "y0": 6.233997146693648,
            "y1": 6.292423126573001
           },
           {
            "line": {
             "color": "white",
             "width": 3
            },
            "type": "line",
            "x0": 9.184442403742095,
            "x1": 9.377826581103221,
            "y0": 6.625949089733814,
            "y1": 6.676964381033193
           },
           {
            "line": {
             "color": "white",
             "width": 3
            },
            "type": "line",
            "x0": 10.543837611280479,
            "x1": 10.739393389794639,
            "y0": 7.080857062944435,
            "y1": 7.122784828085453
           },
           {
            "line": {
             "color": "black",
             "width": 3
            },
            "type": "line",
            "x0": 6.811979269718189,
            "x1": 6.853423165614198,
            "y0": 5.089716848612466,
            "y1": 5.285375744379975
           },
           {
            "line": {
             "color": "white",
             "width": 3
            },
            "type": "line",
            "x0": 7.1779621901945125,
            "x1": 7.341329884124732,
            "y0": 6.169001286357713,
            "y1": 6.284374578674099
           },
           {
            "line": {
             "color": "white",
             "width": 3
            },
            "type": "line",
            "x0": 12.059152116285361,
            "x1": 12.136081063738871,
            "y0": 9.658316149360983,
            "y1": 9.842929087812477
           },
           {
            "line": {
             "color": "white",
             "width": 3
            },
            "type": "line",
            "x0": 7.499139494595906,
            "x1": 7.5476597191942,
            "y0": 5.666075663420961,
            "y1": 5.860100888082424
           },
           {
            "line": {
             "color": "white",
             "width": 3
            },
            "type": "line",
            "x0": 11.447283729355343,
            "x1": 11.52366701754977,
            "y0": 8.177218485459655,
            "y1": 8.362057857035646
           }
          ],
          "title": {
           "text": "<b>Percentage using the shortest path: 0%  |  Number of Agents: 10</b>",
           "x": 0.5
          }
         },
         "name": "600"
        },
        {
         "data": [
          {
           "hoverinfo": "name",
           "line": {
            "color": "grey"
           },
           "mode": "lines",
           "name": "Exterior",
           "showlegend": false,
           "x": [
            10.1,
            10.1,
            15.0,
            15.0,
            13.6,
            13.6,
            15.0,
            15.0,
            13.6,
            13.6,
            15.0,
            15.0,
            10.1,
            10.1,
            9.9,
            9.9,
            5.1,
            5.1,
            4.9,
            4.9,
            0.0,
            0.0,
            1.5,
            1.5,
            0.0,
            0.0,
            1.5,
            1.5,
            0.0,
            0.0,
            4.9,
            4.9,
            5.1,
            5.1,
            9.9,
            9.9,
            10.1
           ],
           "y": [
            1.5,
            0.0,
            0.0,
            4.9,
            4.9,
            5.1,
            5.1,
            9.9,
            9.9,
            10.1,
            10.1,
            15.0,
            15.0,
            13.6,
            13.6,
            15.0,
            15.0,
            13.6,
            13.6,
            15.0,
            15.0,
            10.1,
            10.1,
            9.9,
            9.9,
            5.1,
            5.1,
            4.9,
            4.9,
            0.0,
            0.0,
            1.5,
            1.5,
            0.0,
            0.0,
            1.5,
            1.5
           ],
           "type": "scatter"
          },
          {
           "hoverinfo": "name",
           "line": {
            "color": "grey"
           },
           "mode": "lines",
           "name": "Obstacle",
           "showlegend": false,
           "x": [
            10.1,
            11.5,
            11.5,
            10.1,
            10.1,
            9.9,
            9.9,
            8.6,
            8.6,
            9.9,
            9.9,
            10.1,
            10.1
           ],
           "y": [
            5.1,
            5.1,
            4.9,
            4.9,
            3.6,
            3.6,
            4.9,
            4.9,
            5.1,
            5.1,
            6.5,
            6.5,
            5.1
           ],
           "type": "scatter"
          },
          {
           "hoverinfo": "name",
           "line": {
            "color": "grey"
           },
           "mode": "lines",
           "name": "Obstacle",
           "showlegend": false,
           "x": [
            10.1,
            11.5,
            11.5,
            10.1,
            10.1,
            9.9,
            9.9,
            8.6,
            8.6,
            9.9,
            9.9,
            10.1,
            10.1
           ],
           "y": [
            10.1,
            10.1,
            9.9,
            9.9,
            8.6,
            8.6,
            9.9,
            9.9,
            10.1,
            10.1,
            11.5,
            11.5,
            10.1
           ],
           "type": "scatter"
          },
          {
           "hoverinfo": "name",
           "line": {
            "color": "grey"
           },
           "mode": "lines",
           "name": "Obstacle",
           "showlegend": false,
           "x": [
            5.1,
            6.4,
            6.4,
            5.1,
            5.1,
            4.9,
            4.9,
            3.6,
            3.6,
            4.9,
            4.9,
            5.1,
            5.1
           ],
           "y": [
            5.1,
            5.1,
            4.9,
            4.9,
            3.6,
            3.6,
            4.9,
            4.9,
            5.1,
            5.1,
            6.5,
            6.5,
            5.1
           ],
           "type": "scatter"
          },
          {
           "hoverinfo": "name",
           "line": {
            "color": "grey"
           },
           "mode": "lines",
           "name": "Obstacle",
           "showlegend": false,
           "x": [
            5.1,
            6.4,
            6.4,
            5.1,
            5.1,
            4.9,
            4.9,
            3.6,
            3.6,
            4.9,
            4.9,
            5.1,
            5.1
           ],
           "y": [
            10.1,
            10.1,
            9.9,
            9.9,
            8.6,
            8.6,
            9.9,
            9.9,
            10.1,
            10.1,
            11.5,
            11.5,
            10.1
           ],
           "type": "scatter"
          },
          {
           "fill": "toself",
           "fillcolor": "rgba(200, 0, 0, 0.40)",
           "hoverinfo": "name",
           "line": {
            "width": 0
           },
           "mode": "lines",
           "name": "Risk Area",
           "showlegend": false,
           "x": [
            0.0,
            5.0,
            5.0,
            0.0,
            0.0
           ],
           "y": [
            0.0,
            0.0,
            5.0,
            5.0,
            0.0
           ],
           "type": "scatter"
          },
          {
           "fill": "toself",
           "fillcolor": "rgba(200, 0, 0, 0.10)",
           "hoverinfo": "name",
           "line": {
            "width": 0
           },
           "mode": "lines",
           "name": "Risk Area",
           "showlegend": false,
           "x": [
            5.0,
            10.0,
            10.0,
            5.0,
            5.0
           ],
           "y": [
            0.0,
            0.0,
            5.0,
            5.0,
            0.0
           ],
           "type": "scatter"
          },
          {
           "fill": "toself",
           "fillcolor": "rgba(200, 0, 0, 0.10)",
           "hoverinfo": "name",
           "line": {
            "width": 0
           },
           "mode": "lines",
           "name": "Risk Area",
           "showlegend": false,
           "x": [
            10.0,
            15.0,
            15.0,
            10.0,
            10.0
           ],
           "y": [
            0.0,
            0.0,
            5.0,
            5.0,
            0.0
           ],
           "type": "scatter"
          },
          {
           "fill": "toself",
           "fillcolor": "rgba(200, 0, 0, 0.00)",
           "hoverinfo": "name",
           "line": {
            "width": 0
           },
           "mode": "lines",
           "name": "Risk Area",
           "showlegend": false,
           "x": [
            10.0,
            15.0,
            15.0,
            10.0,
            10.0
           ],
           "y": [
            5.0,
            5.0,
            10.0,
            10.0,
            5.0
           ],
           "type": "scatter"
          },
          {
           "fill": "toself",
           "fillcolor": "rgba(200, 0, 0, 0.50)",
           "hoverinfo": "name",
           "line": {
            "width": 0
           },
           "mode": "lines",
           "name": "Risk Area",
           "showlegend": false,
           "x": [
            5.0,
            10.0,
            10.0,
            5.0,
            5.0
           ],
           "y": [
            5.0,
            5.0,
            10.0,
            10.0,
            5.0
           ],
           "type": "scatter"
          },
          {
           "fill": "toself",
           "fillcolor": "rgba(200, 0, 0, 0.10)",
           "hoverinfo": "name",
           "line": {
            "width": 0
           },
           "mode": "lines",
           "name": "Risk Area",
           "showlegend": false,
           "x": [
            0.0,
            5.0,
            5.0,
            0.0,
            0.0
           ],
           "y": [
            5.0,
            5.0,
            10.0,
            10.0,
            5.0
           ],
           "type": "scatter"
          },
          {
           "fill": "toself",
           "fillcolor": "rgba(200, 0, 0, 0.00)",
           "hoverinfo": "name",
           "line": {
            "width": 0
           },
           "mode": "lines",
           "name": "Risk Area",
           "showlegend": false,
           "x": [
            0.0,
            5.0,
            5.0,
            0.0,
            0.0
           ],
           "y": [
            10.0,
            10.0,
            15.0,
            15.0,
            10.0
           ],
           "type": "scatter"
          },
          {
           "fill": "toself",
           "fillcolor": "rgba(200, 0, 0, 0.20)",
           "hoverinfo": "name",
           "line": {
            "width": 0
           },
           "mode": "lines",
           "name": "Risk Area",
           "showlegend": false,
           "x": [
            5.0,
            10.0,
            10.0,
            5.0,
            5.0
           ],
           "y": [
            10.0,
            10.0,
            15.0,
            15.0,
            10.0
           ],
           "type": "scatter"
          },
          {
           "fill": "toself",
           "fillcolor": "rgba(200, 0, 0, 0.00)",
           "hoverinfo": "name",
           "line": {
            "width": 0
           },
           "mode": "lines",
           "name": "Risk Area",
           "showlegend": false,
           "x": [
            10.0,
            15.0,
            15.0,
            10.0,
            10.0
           ],
           "y": [
            10.0,
            10.0,
            15.0,
            15.0,
            10.0
           ],
           "type": "scatter"
          },
          {
           "hoverinfo": "text",
           "marker": {
            "opacity": 1,
            "size": 1
           },
           "mode": "markers",
           "showlegend": false,
           "text": [
            "ID: 61, Pos(13.15,12.29)"
           ],
           "x": [
            13.146226141157765
           ],
           "y": [
            12.287395856865198
           ],
           "type": "scatter"
          },
          {
           "hoverinfo": "text",
           "marker": {
            "opacity": 1,
            "size": 1
           },
           "mode": "markers",
           "showlegend": false,
           "text": [
            "ID: 62, Pos(7.34,5.18)"
           ],
           "x": [
            7.340033573906016
           ],
           "y": [
            5.182652633216831
           ],
           "type": "scatter"
          },
          {
           "hoverinfo": "text",
           "marker": {
            "opacity": 1,
            "size": 1
           },
           "mode": "markers",
           "showlegend": false,
           "text": [
            "ID: 63, Pos(8.91,6.47)"
           ],
           "x": [
            8.914024245134472
           ],
           "y": [
            6.471229903917264
           ],
           "type": "scatter"
          },
          {
           "hoverinfo": "text",
           "marker": {
            "opacity": 1,
            "size": 1
           },
           "mode": "markers",
           "showlegend": false,
           "text": [
            "ID: 64, Pos(10.17,7.00)"
           ],
           "x": [
            10.17254902946107
           ],
           "y": [
            6.998539629805892
           ],
           "type": "scatter"
          },
          {
           "hoverinfo": "text",
           "marker": {
            "opacity": 1,
            "size": 1
           },
           "mode": "markers",
           "showlegend": false,
           "text": [
            "ID: 65, Pos(11.30,7.82)"
           ],
           "x": [
            11.298627946245132
           ],
           "y": [
            7.82005990881358
           ],
           "type": "scatter"
          },
          {
           "hoverinfo": "text",
           "marker": {
            "opacity": 1,
            "size": 1
           },
           "mode": "markers",
           "showlegend": false,
           "text": [
            "ID: 66, Pos(6.95,6.12)"
           ],
           "x": [
            6.954314735308847
           ],
           "y": [
            6.115475772943457
           ],
           "type": "scatter"
          },
          {
           "hoverinfo": "text",
           "marker": {
            "opacity": 1,
            "size": 1
           },
           "mode": "markers",
           "showlegend": false,
           "text": [
            "ID: 67, Pos(7.98,6.60)"
           ],
           "x": [
            7.976661834268123
           ],
           "y": [
            6.601675333562101
           ],
           "type": "scatter"
          },
          {
           "hoverinfo": "text",
           "marker": {
            "opacity": 1,
            "size": 1
           },
           "mode": "markers",
           "showlegend": false,
           "text": [
            "ID: 68, Pos(12.52,10.77)"
           ],
           "x": [
            12.517989428842954
           ],
           "y": [
            10.767129409111124
           ],
           "type": "scatter"
          },
          {
           "hoverinfo": "text",
           "marker": {
            "opacity": 1,
            "size": 1
           },
           "mode": "markers",
           "showlegend": false,
           "text": [
            "ID: 69, Pos(7.57,6.00)"
           ],
           "x": [
            7.566340291378325
           ],
           "y": [
            5.999960770602908
           ],
           "type": "scatter"
          },
          {
           "hoverinfo": "text",
           "marker": {
            "opacity": 1,
            "size": 1
           },
           "mode": "markers",
           "showlegend": false,
           "text": [
            "ID: 70, Pos(11.91,9.29)"
           ],
           "x": [
            11.905567698555966
           ],
           "y": [
            9.28626122689068
           ],
           "type": "scatter"
          }
         ],
         "layout": {
          "shapes": [
           {
            "fillcolor": "rgba(0, 0, 128, 0.5)",
            "line": {
             "color": "rgba(0, 0, 128, 0.5)"
            },
            "type": "circle",
            "x0": 12.946226141157766,
            "x1": 13.346226141157764,
            "xref": "x",
            "y0": 12.087395856865198,
            "y1": 12.487395856865197,
            "yref": "y"
           },
           {
            "fillcolor": "rgba(255, 219, 0, 0.5)",
            "line": {
             "color": "rgba(255, 219, 0, 0.5)"
            },
            "type": "circle",
            "x0": 7.140033573906016,
            "x1": 7.540033573906016,
            "xref": "x",
            "y0": 4.982652633216831,
            "y1": 5.382652633216831,
            "yref": "y"
           },
           {
            "fillcolor": "rgba(0, 88, 255, 0.5)",
            "line": {
             "color": "rgba(0, 88, 255, 0.5)"
            },
            "type": "circle",
            "x0": 8.714024245134473,
            "x1": 9.114024245134472,
            "xref": "x",
            "y0": 6.271229903917264,
            "y1": 6.671229903917264,
            "yref": "y"
           },
           {
            "fillcolor": "rgba(0, 0, 132, 0.5)",
            "line": {
             "color": "rgba(0, 0, 132, 0.5)"
            },
            "type": "circle",
            "x0": 9.97254902946107,
            "x1": 10.37254902946107,
            "xref": "x",
            "y0": 6.798539629805892,
            "y1": 7.198539629805892,
            "yref": "y"
           },
           {
            "fillcolor": "rgba(0, 0, 141, 0.5)",
            "line": {
             "color": "rgba(0, 0, 141, 0.5)"
            },
            "type": "circle",
            "x0": 11.098627946245132,
            "x1": 11.498627946245131,
            "xref": "x",
            "y0": 7.620059908813579,
            "y1": 8.020059908813579,
            "yref": "y"
           },
           {
            "fillcolor": "rgba(255, 189, 0, 0.5)",
            "line": {
             "color": "rgba(255, 189, 0, 0.5)"
            },
            "type": "circle",
            "x0": 6.754314735308847,
            "x1": 7.154314735308847,
            "xref": "x",
            "y0": 5.915475772943457,
            "y1": 6.315475772943457,
            "yref": "y"
           },
           {
            "fillcolor": "rgba(199, 255, 48, 0.5)",
            "line": {
             "color": "rgba(199, 255, 48, 0.5)"
            },
            "type": "circle",
            "x0": 7.776661834268123,
            "x1": 8.176661834268122,
            "xref": "x",
            "y0": 6.401675333562101,
            "y1": 6.801675333562101,
            "yref": "y"
           },
           {
            "fillcolor": "rgba(0, 0, 128, 0.5)",
            "line": {
             "color": "rgba(0, 0, 128, 0.5)"
            },
            "type": "circle",
            "x0": 12.317989428842955,
            "x1": 12.717989428842953,
            "xref": "x",
            "y0": 10.567129409111125,
            "y1": 10.967129409111124,
            "yref": "y"
           },
           {
            "fillcolor": "rgba(180, 255, 67, 0.5)",
            "line": {
             "color": "rgba(180, 255, 67, 0.5)"
            },
            "type": "circle",
            "x0": 7.366340291378325,
            "x1": 7.7663402913783255,
            "xref": "x",
            "y0": 5.799960770602908,
            "y1": 6.1999607706029085,
            "yref": "y"
           },
           {
            "fillcolor": "rgba(0, 0, 128, 0.5)",
            "line": {
             "color": "rgba(0, 0, 128, 0.5)"
            },
            "type": "circle",
            "x0": 11.705567698555967,
            "x1": 12.105567698555966,
            "xref": "x",
            "y0": 9.08626122689068,
            "y1": 9.48626122689068,
            "yref": "y"
           },
           {
            "line": {
             "color": "white",
             "width": 3
            },
            "type": "line",
            "x0": 13.146226141157765,
            "x1": 13.22254089344218,
            "y0": 12.287395856865198,
            "y1": 12.472263535445766
           },
           {
            "line": {
             "color": "black",
             "width": 3
            },
            "type": "line",
            "x0": 7.340033573906016,
            "x1": 7.353127174073093,
            "y0": 5.182652633216831,
            "y1": 5.382223567059073
           },
           {
            "line": {
             "color": "white",
             "width": 3
            },
            "type": "line",
            "x0": 8.914024245134472,
            "x1": 9.106517633597967,
            "y0": 6.471229903917264,
            "y1": 6.525509692032564
           },
           {
            "line": {
             "color": "white",
             "width": 3
            },
            "type": "line",
            "x0": 10.17254902946107,
            "x1": 10.366949006564086,
            "y0": 6.998539629805892,
            "y1": 7.0455358945760524
           },
           {
            "line": {
             "color": "white",
             "width": 3
            },
            "type": "line",
            "x0": 11.298627946245132,
            "x1": 11.375046647872535,
            "y0": 7.82005990881358,
            "y1": 8.004884642119439
           },
           {
            "line": {
             "color": "black",
             "width": 3
            },
            "type": "line",
            "x0": 6.954314735308847,
            "x1": 7.13801126372482,
            "y0": 6.115475772943457,
            "y1": 6.194568032033202
           },
           {
            "line": {
             "color": "black",
             "width": 3
            },
            "type": "line",
            "x0": 7.976661834268123,
            "x1": 8.169686917541409,
            "y0": 6.601675333562101,
            "y1": 6.654032923530905
           },
           {
            "line": {
             "color": "white",
             "width": 3
            },
            "type": "line",
            "x0": 12.517989428842954,
            "x1": 12.594339096489769,
            "y0": 10.767129409111124,
            "y1": 10.951982670511136
           },
           {
            "line": {
             "color": "black",
             "width": 3
            },
            "type": "line",
            "x0": 7.566340291378325,
            "x1": 7.606112883368234,
            "y0": 5.999960770602908,
            "y1": 6.195966232073767
           },
           {
            "line": {
             "color": "white",
             "width": 3
            },
            "type": "line",
            "x0": 11.905567698555966,
            "x1": 11.981977179465812,
            "y0": 9.28626122689068,
            "y1": 9.47108977237835
           }
          ],
          "title": {
           "text": "<b>Percentage using the shortest path: 0%  |  Number of Agents: 10</b>",
           "x": 0.5
          }
         },
         "name": "650"
        },
        {
         "data": [
          {
           "hoverinfo": "name",
           "line": {
            "color": "grey"
           },
           "mode": "lines",
           "name": "Exterior",
           "showlegend": false,
           "x": [
            10.1,
            10.1,
            15.0,
            15.0,
            13.6,
            13.6,
            15.0,
            15.0,
            13.6,
            13.6,
            15.0,
            15.0,
            10.1,
            10.1,
            9.9,
            9.9,
            5.1,
            5.1,
            4.9,
            4.9,
            0.0,
            0.0,
            1.5,
            1.5,
            0.0,
            0.0,
            1.5,
            1.5,
            0.0,
            0.0,
            4.9,
            4.9,
            5.1,
            5.1,
            9.9,
            9.9,
            10.1
           ],
           "y": [
            1.5,
            0.0,
            0.0,
            4.9,
            4.9,
            5.1,
            5.1,
            9.9,
            9.9,
            10.1,
            10.1,
            15.0,
            15.0,
            13.6,
            13.6,
            15.0,
            15.0,
            13.6,
            13.6,
            15.0,
            15.0,
            10.1,
            10.1,
            9.9,
            9.9,
            5.1,
            5.1,
            4.9,
            4.9,
            0.0,
            0.0,
            1.5,
            1.5,
            0.0,
            0.0,
            1.5,
            1.5
           ],
           "type": "scatter"
          },
          {
           "hoverinfo": "name",
           "line": {
            "color": "grey"
           },
           "mode": "lines",
           "name": "Obstacle",
           "showlegend": false,
           "x": [
            10.1,
            11.5,
            11.5,
            10.1,
            10.1,
            9.9,
            9.9,
            8.6,
            8.6,
            9.9,
            9.9,
            10.1,
            10.1
           ],
           "y": [
            5.1,
            5.1,
            4.9,
            4.9,
            3.6,
            3.6,
            4.9,
            4.9,
            5.1,
            5.1,
            6.5,
            6.5,
            5.1
           ],
           "type": "scatter"
          },
          {
           "hoverinfo": "name",
           "line": {
            "color": "grey"
           },
           "mode": "lines",
           "name": "Obstacle",
           "showlegend": false,
           "x": [
            10.1,
            11.5,
            11.5,
            10.1,
            10.1,
            9.9,
            9.9,
            8.6,
            8.6,
            9.9,
            9.9,
            10.1,
            10.1
           ],
           "y": [
            10.1,
            10.1,
            9.9,
            9.9,
            8.6,
            8.6,
            9.9,
            9.9,
            10.1,
            10.1,
            11.5,
            11.5,
            10.1
           ],
           "type": "scatter"
          },
          {
           "hoverinfo": "name",
           "line": {
            "color": "grey"
           },
           "mode": "lines",
           "name": "Obstacle",
           "showlegend": false,
           "x": [
            5.1,
            6.4,
            6.4,
            5.1,
            5.1,
            4.9,
            4.9,
            3.6,
            3.6,
            4.9,
            4.9,
            5.1,
            5.1
           ],
           "y": [
            5.1,
            5.1,
            4.9,
            4.9,
            3.6,
            3.6,
            4.9,
            4.9,
            5.1,
            5.1,
            6.5,
            6.5,
            5.1
           ],
           "type": "scatter"
          },
          {
           "hoverinfo": "name",
           "line": {
            "color": "grey"
           },
           "mode": "lines",
           "name": "Obstacle",
           "showlegend": false,
           "x": [
            5.1,
            6.4,
            6.4,
            5.1,
            5.1,
            4.9,
            4.9,
            3.6,
            3.6,
            4.9,
            4.9,
            5.1,
            5.1
           ],
           "y": [
            10.1,
            10.1,
            9.9,
            9.9,
            8.6,
            8.6,
            9.9,
            9.9,
            10.1,
            10.1,
            11.5,
            11.5,
            10.1
           ],
           "type": "scatter"
          },
          {
           "fill": "toself",
           "fillcolor": "rgba(200, 0, 0, 0.40)",
           "hoverinfo": "name",
           "line": {
            "width": 0
           },
           "mode": "lines",
           "name": "Risk Area",
           "showlegend": false,
           "x": [
            0.0,
            5.0,
            5.0,
            0.0,
            0.0
           ],
           "y": [
            0.0,
            0.0,
            5.0,
            5.0,
            0.0
           ],
           "type": "scatter"
          },
          {
           "fill": "toself",
           "fillcolor": "rgba(200, 0, 0, 0.10)",
           "hoverinfo": "name",
           "line": {
            "width": 0
           },
           "mode": "lines",
           "name": "Risk Area",
           "showlegend": false,
           "x": [
            5.0,
            10.0,
            10.0,
            5.0,
            5.0
           ],
           "y": [
            0.0,
            0.0,
            5.0,
            5.0,
            0.0
           ],
           "type": "scatter"
          },
          {
           "fill": "toself",
           "fillcolor": "rgba(200, 0, 0, 0.10)",
           "hoverinfo": "name",
           "line": {
            "width": 0
           },
           "mode": "lines",
           "name": "Risk Area",
           "showlegend": false,
           "x": [
            10.0,
            15.0,
            15.0,
            10.0,
            10.0
           ],
           "y": [
            0.0,
            0.0,
            5.0,
            5.0,
            0.0
           ],
           "type": "scatter"
          },
          {
           "fill": "toself",
           "fillcolor": "rgba(200, 0, 0, 0.00)",
           "hoverinfo": "name",
           "line": {
            "width": 0
           },
           "mode": "lines",
           "name": "Risk Area",
           "showlegend": false,
           "x": [
            10.0,
            15.0,
            15.0,
            10.0,
            10.0
           ],
           "y": [
            5.0,
            5.0,
            10.0,
            10.0,
            5.0
           ],
           "type": "scatter"
          },
          {
           "fill": "toself",
           "fillcolor": "rgba(200, 0, 0, 0.60)",
           "hoverinfo": "name",
           "line": {
            "width": 0
           },
           "mode": "lines",
           "name": "Risk Area",
           "showlegend": false,
           "x": [
            5.0,
            10.0,
            10.0,
            5.0,
            5.0
           ],
           "y": [
            5.0,
            5.0,
            10.0,
            10.0,
            5.0
           ],
           "type": "scatter"
          },
          {
           "fill": "toself",
           "fillcolor": "rgba(200, 0, 0, 0.10)",
           "hoverinfo": "name",
           "line": {
            "width": 0
           },
           "mode": "lines",
           "name": "Risk Area",
           "showlegend": false,
           "x": [
            0.0,
            5.0,
            5.0,
            0.0,
            0.0
           ],
           "y": [
            5.0,
            5.0,
            10.0,
            10.0,
            5.0
           ],
           "type": "scatter"
          },
          {
           "fill": "toself",
           "fillcolor": "rgba(200, 0, 0, 0.00)",
           "hoverinfo": "name",
           "line": {
            "width": 0
           },
           "mode": "lines",
           "name": "Risk Area",
           "showlegend": false,
           "x": [
            0.0,
            5.0,
            5.0,
            0.0,
            0.0
           ],
           "y": [
            10.0,
            10.0,
            15.0,
            15.0,
            10.0
           ],
           "type": "scatter"
          },
          {
           "fill": "toself",
           "fillcolor": "rgba(200, 0, 0, 0.20)",
           "hoverinfo": "name",
           "line": {
            "width": 0
           },
           "mode": "lines",
           "name": "Risk Area",
           "showlegend": false,
           "x": [
            5.0,
            10.0,
            10.0,
            5.0,
            5.0
           ],
           "y": [
            10.0,
            10.0,
            15.0,
            15.0,
            10.0
           ],
           "type": "scatter"
          },
          {
           "fill": "toself",
           "fillcolor": "rgba(200, 0, 0, 0.00)",
           "hoverinfo": "name",
           "line": {
            "width": 0
           },
           "mode": "lines",
           "name": "Risk Area",
           "showlegend": false,
           "x": [
            10.0,
            15.0,
            15.0,
            10.0,
            10.0
           ],
           "y": [
            10.0,
            10.0,
            15.0,
            15.0,
            10.0
           ],
           "type": "scatter"
          },
          {
           "hoverinfo": "text",
           "marker": {
            "opacity": 1,
            "size": 1
           },
           "mode": "markers",
           "showlegend": false,
           "text": [
            "ID: 62.0, Pos(7.37,5.58)"
           ],
           "x": [
            7.369104608094798
           ],
           "y": [
            5.578800001857039
           ],
           "type": "scatter"
          },
          {
           "hoverinfo": "text",
           "marker": {
            "opacity": 1,
            "size": 1
           },
           "mode": "markers",
           "showlegend": false,
           "text": [
            "ID: 63.0, Pos(9.86,6.90)"
           ],
           "x": [
            9.8621725279151
           ],
           "y": [
            6.897709823302002
           ],
           "type": "scatter"
          },
          {
           "hoverinfo": "text",
           "marker": {
            "opacity": 1,
            "size": 1
           },
           "mode": "markers",
           "showlegend": false,
           "text": [
            "ID: 64.0, Pos(11.15,7.47)"
           ],
           "x": [
            11.152587127437322
           ],
           "y": [
            7.471273462970479
           ],
           "type": "scatter"
          },
          {
           "hoverinfo": "text",
           "marker": {
            "opacity": 1,
            "size": 1
           },
           "mode": "markers",
           "showlegend": false,
           "text": [
            "ID: 65.0, Pos(11.75,8.92)"
           ],
           "x": [
            11.753908986013405
           ],
           "y": [
            8.921342465908817
           ],
           "type": "scatter"
          },
          {
           "hoverinfo": "text",
           "marker": {
            "opacity": 1,
            "size": 1
           },
           "mode": "markers",
           "showlegend": false,
           "text": [
            "ID: 66.0, Pos(7.51,6.30)"
           ],
           "x": [
            7.5128093508506275
           ],
           "y": [
            6.299133367961185
           ],
           "type": "scatter"
          },
          {
           "hoverinfo": "text",
           "marker": {
            "opacity": 1,
            "size": 1
           },
           "mode": "markers",
           "showlegend": false,
           "text": [
            "ID: 67.0, Pos(8.73,6.84)"
           ],
           "x": [
            8.729221372768336
           ],
           "y": [
            6.836819950663576
           ],
           "type": "scatter"
          },
          {
           "hoverinfo": "text",
           "marker": {
            "opacity": 1,
            "size": 1
           },
           "mode": "markers",
           "showlegend": false,
           "text": [
            "ID: 68.0, Pos(12.98,11.88)"
           ],
           "x": [
            12.976087422134068
           ],
           "y": [
            11.876248982711124
           ],
           "type": "scatter"
          },
          {
           "hoverinfo": "text",
           "marker": {
            "opacity": 1,
            "size": 1
           },
           "mode": "markers",
           "showlegend": false,
           "text": [
            "ID: 69.0, Pos(8.60,6.20)"
           ],
           "x": [
            8.598420571552529
           ],
           "y": [
            6.203112438751828
           ],
           "type": "scatter"
          },
          {
           "hoverinfo": "text",
           "marker": {
            "opacity": 1,
            "size": 1
           },
           "mode": "markers",
           "showlegend": false,
           "text": [
            "ID: 70.0, Pos(12.36,10.39)"
           ],
           "x": [
            12.364851118728902
           ],
           "y": [
            10.394889699256009
           ],
           "type": "scatter"
          },
          {
           "hoverinfo": "none",
           "marker": {
            "opacity": 0,
            "size": 1
           },
           "mode": "markers",
           "showlegend": false,
           "x": [
            0.0
           ],
           "y": [
            0.0
           ],
           "type": "scatter"
          }
         ],
         "layout": {
          "shapes": [
           {
            "fillcolor": "rgba(255, 119, 0, 0.5)",
            "line": {
             "color": "rgba(255, 119, 0, 0.5)"
            },
            "type": "circle",
            "x0": 7.1691046080947975,
            "x1": 7.569104608094798,
            "xref": "x",
            "y0": 5.378800001857039,
            "y1": 5.778800001857039,
            "yref": "y"
           },
           {
            "fillcolor": "rgba(0, 45, 255, 0.5)",
            "line": {
             "color": "rgba(0, 45, 255, 0.5)"
            },
            "type": "circle",
            "x0": 9.6621725279151,
            "x1": 10.062172527915099,
            "xref": "x",
            "y0": 6.697709823302002,
            "y1": 7.097709823302003,
            "yref": "y"
           },
           {
            "fillcolor": "rgba(0, 0, 159, 0.5)",
            "line": {
             "color": "rgba(0, 0, 159, 0.5)"
            },
            "type": "circle",
            "x0": 10.952587127437322,
            "x1": 11.352587127437321,
            "xref": "x",
            "y0": 7.271273462970479,
            "y1": 7.671273462970479,
            "yref": "y"
           },
           {
            "fillcolor": "rgba(0, 0, 132, 0.5)",
            "line": {
             "color": "rgba(0, 0, 132, 0.5)"
            },
            "type": "circle",
            "x0": 11.553908986013406,
            "x1": 11.953908986013404,
            "xref": "x",
            "y0": 8.721342465908817,
            "y1": 9.121342465908816,
            "yref": "y"
           },
           {
            "fillcolor": "rgba(0, 120, 255, 0.5)",
            "line": {
             "color": "rgba(0, 120, 255, 0.5)"
            },
            "type": "circle",
            "x0": 7.312809350850627,
            "x1": 7.712809350850628,
            "xref": "x",
            "y0": 6.099133367961185,
            "y1": 6.499133367961186,
            "yref": "y"
           },
           {
            "fillcolor": "rgba(60, 255, 186, 0.5)",
            "line": {
             "color": "rgba(60, 255, 186, 0.5)"
            },
            "type": "circle",
            "x0": 8.529221372768337,
            "x1": 8.929221372768335,
            "xref": "x",
            "y0": 6.636819950663575,
            "y1": 7.036819950663576,
            "yref": "y"
           },
           {
            "fillcolor": "rgba(0, 0, 128, 0.5)",
            "line": {
             "color": "rgba(0, 0, 128, 0.5)"
            },
            "type": "circle",
            "x0": 12.776087422134069,
            "x1": 13.176087422134067,
            "xref": "x",
            "y0": 11.676248982711124,
            "y1": 12.076248982711123,
            "yref": "y"
           },
           {
            "fillcolor": "rgba(0, 0, 128, 0.5)",
            "line": {
             "color": "rgba(0, 0, 128, 0.5)"
            },
            "type": "circle",
            "x0": 8.39842057155253,
            "x1": 8.798420571552528,
            "xref": "x",
            "y0": 6.0031124387518275,
            "y1": 6.403112438751828,
            "yref": "y"
           },
           {
            "fillcolor": "rgba(0, 0, 128, 0.5)",
            "line": {
             "color": "rgba(0, 0, 128, 0.5)"
            },
            "type": "circle",
            "x0": 12.164851118728903,
            "x1": 12.564851118728901,
            "xref": "x",
            "y0": 10.19488969925601,
            "y1": 10.594889699256008,
            "yref": "y"
           },
           {
            "fillcolor": "rgba(255,255,255,0)",
            "line": {
             "width": 0
            },
            "type": "circle",
            "x0": 0.0,
            "x1": 0.0,
            "xref": "x",
            "y0": 0.0,
            "y1": 0.0,
            "yref": "y"
           },
           {
            "line": {
             "color": "black",
             "width": 3
            },
            "type": "line",
            "x0": 7.369104608094798,
            "x1": 7.380180761331337,
            "y0": 5.578800001857039,
            "y1": 5.778493063402704
           },
           {
            "line": {
             "color": "white",
             "width": 3
            },
            "type": "line",
            "x0": 9.8621725279151,
            "x1": 10.043783538250636,
            "y0": 6.897709823302002,
            "y1": 6.9814799905747575
           },
           {
            "line": {
             "color": "white",
             "width": 3
            },
            "type": "line",
            "x0": 11.152587127437322,
            "x1": 11.229053625121809,
            "y0": 7.471273462970479,
            "y1": 7.656078427005183
           },
           {
            "line": {
             "color": "white",
             "width": 3
            },
            "type": "line",
            "x0": 11.753908986013405,
            "x1": 11.830314913353787,
            "y0": 8.921342465908817,
            "y1": 9.106172480428256
           },
           {
            "line": {
             "color": "white",
             "width": 3
            },
            "type": "line",
            "x0": 7.5128093508506275,
            "x1": 7.702780767932295,
            "y0": 6.299133367961185,
            "y1": 6.361670242619127
           },
           {
            "line": {
             "color": "black",
             "width": 3
            },
            "type": "line",
            "x0": 8.729221372768336,
            "x1": 8.916349757720566,
            "y0": 6.836819950663576,
            "y1": 6.9074100883966185
           },
           {
            "line": {
             "color": "white",
             "width": 3
            },
            "type": "line",
            "x0": 12.976087422134068,
            "x1": 13.052437087233024,
            "y0": 11.876248982711124,
            "y1": 12.061102245163474
           },
           {
            "line": {
             "color": "white",
             "width": 3
            },
            "type": "line",
            "x0": 8.598420571552529,
            "x1": 8.795620416130141,
            "y0": 6.203112438751828,
            "y1": 6.236462420739309
           },
           {
            "line": {
             "color": "white",
             "width": 3
            },
            "type": "line",
            "x0": 12.364851118728902,
            "x1": 12.441173233759681,
            "y0": 10.394889699256009,
            "y1": 10.579754338268527
           },
           {
            "line": {
             "color": "rgba(255,255,255,0)",
             "width": 3
            },
            "type": "line",
            "x0": 0.0,
            "x1": null,
            "y0": 0.0,
            "y1": null
           }
          ],
          "title": {
           "text": "<b>Percentage using the shortest path: 0%  |  Number of Agents: 9</b>",
           "x": 0.5
          }
         },
         "name": "700"
        },
        {
         "data": [
          {
           "hoverinfo": "name",
           "line": {
            "color": "grey"
           },
           "mode": "lines",
           "name": "Exterior",
           "showlegend": false,
           "x": [
            10.1,
            10.1,
            15.0,
            15.0,
            13.6,
            13.6,
            15.0,
            15.0,
            13.6,
            13.6,
            15.0,
            15.0,
            10.1,
            10.1,
            9.9,
            9.9,
            5.1,
            5.1,
            4.9,
            4.9,
            0.0,
            0.0,
            1.5,
            1.5,
            0.0,
            0.0,
            1.5,
            1.5,
            0.0,
            0.0,
            4.9,
            4.9,
            5.1,
            5.1,
            9.9,
            9.9,
            10.1
           ],
           "y": [
            1.5,
            0.0,
            0.0,
            4.9,
            4.9,
            5.1,
            5.1,
            9.9,
            9.9,
            10.1,
            10.1,
            15.0,
            15.0,
            13.6,
            13.6,
            15.0,
            15.0,
            13.6,
            13.6,
            15.0,
            15.0,
            10.1,
            10.1,
            9.9,
            9.9,
            5.1,
            5.1,
            4.9,
            4.9,
            0.0,
            0.0,
            1.5,
            1.5,
            0.0,
            0.0,
            1.5,
            1.5
           ],
           "type": "scatter"
          },
          {
           "hoverinfo": "name",
           "line": {
            "color": "grey"
           },
           "mode": "lines",
           "name": "Obstacle",
           "showlegend": false,
           "x": [
            10.1,
            11.5,
            11.5,
            10.1,
            10.1,
            9.9,
            9.9,
            8.6,
            8.6,
            9.9,
            9.9,
            10.1,
            10.1
           ],
           "y": [
            5.1,
            5.1,
            4.9,
            4.9,
            3.6,
            3.6,
            4.9,
            4.9,
            5.1,
            5.1,
            6.5,
            6.5,
            5.1
           ],
           "type": "scatter"
          },
          {
           "hoverinfo": "name",
           "line": {
            "color": "grey"
           },
           "mode": "lines",
           "name": "Obstacle",
           "showlegend": false,
           "x": [
            10.1,
            11.5,
            11.5,
            10.1,
            10.1,
            9.9,
            9.9,
            8.6,
            8.6,
            9.9,
            9.9,
            10.1,
            10.1
           ],
           "y": [
            10.1,
            10.1,
            9.9,
            9.9,
            8.6,
            8.6,
            9.9,
            9.9,
            10.1,
            10.1,
            11.5,
            11.5,
            10.1
           ],
           "type": "scatter"
          },
          {
           "hoverinfo": "name",
           "line": {
            "color": "grey"
           },
           "mode": "lines",
           "name": "Obstacle",
           "showlegend": false,
           "x": [
            5.1,
            6.4,
            6.4,
            5.1,
            5.1,
            4.9,
            4.9,
            3.6,
            3.6,
            4.9,
            4.9,
            5.1,
            5.1
           ],
           "y": [
            5.1,
            5.1,
            4.9,
            4.9,
            3.6,
            3.6,
            4.9,
            4.9,
            5.1,
            5.1,
            6.5,
            6.5,
            5.1
           ],
           "type": "scatter"
          },
          {
           "hoverinfo": "name",
           "line": {
            "color": "grey"
           },
           "mode": "lines",
           "name": "Obstacle",
           "showlegend": false,
           "x": [
            5.1,
            6.4,
            6.4,
            5.1,
            5.1,
            4.9,
            4.9,
            3.6,
            3.6,
            4.9,
            4.9,
            5.1,
            5.1
           ],
           "y": [
            10.1,
            10.1,
            9.9,
            9.9,
            8.6,
            8.6,
            9.9,
            9.9,
            10.1,
            10.1,
            11.5,
            11.5,
            10.1
           ],
           "type": "scatter"
          },
          {
           "fill": "toself",
           "fillcolor": "rgba(200, 0, 0, 0.40)",
           "hoverinfo": "name",
           "line": {
            "width": 0
           },
           "mode": "lines",
           "name": "Risk Area",
           "showlegend": false,
           "x": [
            0.0,
            5.0,
            5.0,
            0.0,
            0.0
           ],
           "y": [
            0.0,
            0.0,
            5.0,
            5.0,
            0.0
           ],
           "type": "scatter"
          },
          {
           "fill": "toself",
           "fillcolor": "rgba(200, 0, 0, 0.10)",
           "hoverinfo": "name",
           "line": {
            "width": 0
           },
           "mode": "lines",
           "name": "Risk Area",
           "showlegend": false,
           "x": [
            5.0,
            10.0,
            10.0,
            5.0,
            5.0
           ],
           "y": [
            0.0,
            0.0,
            5.0,
            5.0,
            0.0
           ],
           "type": "scatter"
          },
          {
           "fill": "toself",
           "fillcolor": "rgba(200, 0, 0, 0.10)",
           "hoverinfo": "name",
           "line": {
            "width": 0
           },
           "mode": "lines",
           "name": "Risk Area",
           "showlegend": false,
           "x": [
            10.0,
            15.0,
            15.0,
            10.0,
            10.0
           ],
           "y": [
            0.0,
            0.0,
            5.0,
            5.0,
            0.0
           ],
           "type": "scatter"
          },
          {
           "fill": "toself",
           "fillcolor": "rgba(200, 0, 0, 0.00)",
           "hoverinfo": "name",
           "line": {
            "width": 0
           },
           "mode": "lines",
           "name": "Risk Area",
           "showlegend": false,
           "x": [
            10.0,
            15.0,
            15.0,
            10.0,
            10.0
           ],
           "y": [
            5.0,
            5.0,
            10.0,
            10.0,
            5.0
           ],
           "type": "scatter"
          },
          {
           "fill": "toself",
           "fillcolor": "rgba(200, 0, 0, 0.60)",
           "hoverinfo": "name",
           "line": {
            "width": 0
           },
           "mode": "lines",
           "name": "Risk Area",
           "showlegend": false,
           "x": [
            5.0,
            10.0,
            10.0,
            5.0,
            5.0
           ],
           "y": [
            5.0,
            5.0,
            10.0,
            10.0,
            5.0
           ],
           "type": "scatter"
          },
          {
           "fill": "toself",
           "fillcolor": "rgba(200, 0, 0, 0.10)",
           "hoverinfo": "name",
           "line": {
            "width": 0
           },
           "mode": "lines",
           "name": "Risk Area",
           "showlegend": false,
           "x": [
            0.0,
            5.0,
            5.0,
            0.0,
            0.0
           ],
           "y": [
            5.0,
            5.0,
            10.0,
            10.0,
            5.0
           ],
           "type": "scatter"
          },
          {
           "fill": "toself",
           "fillcolor": "rgba(200, 0, 0, 0.00)",
           "hoverinfo": "name",
           "line": {
            "width": 0
           },
           "mode": "lines",
           "name": "Risk Area",
           "showlegend": false,
           "x": [
            0.0,
            5.0,
            5.0,
            0.0,
            0.0
           ],
           "y": [
            10.0,
            10.0,
            15.0,
            15.0,
            10.0
           ],
           "type": "scatter"
          },
          {
           "fill": "toself",
           "fillcolor": "rgba(200, 0, 0, 0.20)",
           "hoverinfo": "name",
           "line": {
            "width": 0
           },
           "mode": "lines",
           "name": "Risk Area",
           "showlegend": false,
           "x": [
            5.0,
            10.0,
            10.0,
            5.0,
            5.0
           ],
           "y": [
            10.0,
            10.0,
            15.0,
            15.0,
            10.0
           ],
           "type": "scatter"
          },
          {
           "fill": "toself",
           "fillcolor": "rgba(200, 0, 0, 0.00)",
           "hoverinfo": "name",
           "line": {
            "width": 0
           },
           "mode": "lines",
           "name": "Risk Area",
           "showlegend": false,
           "x": [
            10.0,
            15.0,
            15.0,
            10.0,
            10.0
           ],
           "y": [
            10.0,
            10.0,
            15.0,
            15.0,
            10.0
           ],
           "type": "scatter"
          },
          {
           "hoverinfo": "text",
           "marker": {
            "opacity": 1,
            "size": 1
           },
           "mode": "markers",
           "showlegend": false,
           "text": [
            "ID: 62.0, Pos(7.56,6.06)"
           ],
           "x": [
            7.562640978155852
           ],
           "y": [
            6.0552840354460935
           ],
           "type": "scatter"
          },
          {
           "hoverinfo": "text",
           "marker": {
            "opacity": 1,
            "size": 1
           },
           "mode": "markers",
           "showlegend": false,
           "text": [
            "ID: 63.0, Pos(10.98,7.17)"
           ],
           "x": [
            10.9823934785271
           ],
           "y": [
            7.1729753350286085
           ],
           "type": "scatter"
          },
          {
           "hoverinfo": "text",
           "marker": {
            "opacity": 1,
            "size": 1
           },
           "mode": "markers",
           "showlegend": false,
           "text": [
            "ID: 64.0, Pos(11.60,8.56)"
           ],
           "x": [
            11.603558117687117
           ],
           "y": [
            8.561276807152066
           ],
           "type": "scatter"
          },
          {
           "hoverinfo": "text",
           "marker": {
            "opacity": 1,
            "size": 1
           },
           "mode": "markers",
           "showlegend": false,
           "text": [
            "ID: 65.0, Pos(12.21,10.03)"
           ],
           "x": [
            12.212288998624143
           ],
           "y": [
            10.027040839580298
           ],
           "type": "scatter"
          },
          {
           "hoverinfo": "text",
           "marker": {
            "opacity": 1,
            "size": 1
           },
           "mode": "markers",
           "showlegend": false,
           "text": [
            "ID: 66.0, Pos(8.36,6.53)"
           ],
           "x": [
            8.35985891310515
           ],
           "y": [
            6.527230444866318
           ],
           "type": "scatter"
          },
          {
           "hoverinfo": "text",
           "marker": {
            "opacity": 1,
            "size": 1
           },
           "mode": "markers",
           "showlegend": false,
           "text": [
            "ID: 67.0, Pos(9.62,7.16)"
           ],
           "x": [
            9.621649226974082
           ],
           "y": [
            7.1647472596368855
           ],
           "type": "scatter"
          },
          {
           "hoverinfo": "text",
           "marker": {
            "opacity": 1,
            "size": 1
           },
           "mode": "markers",
           "showlegend": false,
           "text": [
            "ID: 69.0, Pos(9.57,6.52)"
           ],
           "x": [
            9.56879881670483
           ],
           "y": [
            6.518632714233346
           ],
           "type": "scatter"
          },
          {
           "hoverinfo": "text",
           "marker": {
            "opacity": 1,
            "size": 1
           },
           "mode": "markers",
           "showlegend": false,
           "text": [
            "ID: 70.0, Pos(12.82,11.50)"
           ],
           "x": [
            12.822777838416854
           ],
           "y": [
            11.504079998255552
           ],
           "type": "scatter"
          },
          {
           "hoverinfo": "none",
           "marker": {
            "opacity": 0,
            "size": 1
           },
           "mode": "markers",
           "showlegend": false,
           "x": [
            0.0
           ],
           "y": [
            0.0
           ],
           "type": "scatter"
          },
          {
           "hoverinfo": "none",
           "marker": {
            "opacity": 0,
            "size": 1
           },
           "mode": "markers",
           "showlegend": false,
           "x": [
            0.0
           ],
           "y": [
            0.0
           ],
           "type": "scatter"
          }
         ],
         "layout": {
          "shapes": [
           {
            "fillcolor": "rgba(215, 255, 31, 0.5)",
            "line": {
             "color": "rgba(215, 255, 31, 0.5)"
            },
            "type": "circle",
            "x0": 7.362640978155852,
            "x1": 7.7626409781558525,
            "xref": "x",
            "y0": 5.855284035446093,
            "y1": 6.255284035446094,
            "yref": "y"
           },
           {
            "fillcolor": "rgba(0, 0, 250, 0.5)",
            "line": {
             "color": "rgba(0, 0, 250, 0.5)"
            },
            "type": "circle",
            "x0": 10.782393478527101,
            "x1": 11.1823934785271,
            "xref": "x",
            "y0": 6.972975335028608,
            "y1": 7.372975335028609,
            "yref": "y"
           },
           {
            "fillcolor": "rgba(0, 0, 137, 0.5)",
            "line": {
             "color": "rgba(0, 0, 137, 0.5)"
            },
            "type": "circle",
            "x0": 11.403558117687117,
            "x1": 11.803558117687116,
            "xref": "x",
            "y0": 8.361276807152066,
            "y1": 8.761276807152065,
            "yref": "y"
           },
           {
            "fillcolor": "rgba(0, 0, 128, 0.5)",
            "line": {
             "color": "rgba(0, 0, 128, 0.5)"
            },
            "type": "circle",
            "x0": 12.012288998624143,
            "x1": 12.412288998624142,
            "xref": "x",
            "y0": 9.827040839580299,
            "y1": 10.227040839580297,
            "yref": "y"
           },
           {
            "fillcolor": "rgba(2, 232, 244, 0.5)",
            "line": {
             "color": "rgba(2, 232, 244, 0.5)"
            },
            "type": "circle",
            "x0": 8.15985891310515,
            "x1": 8.559858913105149,
            "xref": "x",
            "y0": 6.327230444866318,
            "y1": 6.7272304448663185,
            "yref": "y"
           },
           {
            "fillcolor": "rgba(0, 0, 223, 0.5)",
            "line": {
             "color": "rgba(0, 0, 223, 0.5)"
            },
            "type": "circle",
            "x0": 9.421649226974083,
            "x1": 9.821649226974081,
            "xref": "x",
            "y0": 6.964747259636885,
            "y1": 7.364747259636886,
            "yref": "y"
           },
           {
            "fillcolor": "rgba(255, 100, 0, 0.5)",
            "line": {
             "color": "rgba(255, 100, 0, 0.5)"
            },
            "type": "circle",
            "x0": 9.36879881670483,
            "x1": 9.768798816704829,
            "xref": "x",
            "y0": 6.318632714233345,
            "y1": 6.718632714233346,
            "yref": "y"
           },
           {
            "fillcolor": "rgba(0, 0, 128, 0.5)",
            "line": {
             "color": "rgba(0, 0, 128, 0.5)"
            },
            "type": "circle",
            "x0": 12.622777838416855,
            "x1": 13.022777838416854,
            "xref": "x",
            "y0": 11.304079998255553,
            "y1": 11.704079998255551,
            "yref": "y"
           },
           {
            "fillcolor": "rgba(255,255,255,0)",
            "line": {
             "width": 0
            },
            "type": "circle",
            "x0": 0.0,
            "x1": 0.0,
            "xref": "x",
            "y0": 0.0,
            "y1": 0.0,
            "yref": "y"
           },
           {
            "fillcolor": "rgba(255,255,255,0)",
            "line": {
             "width": 0
            },
            "type": "circle",
            "x0": 0.0,
            "x1": 0.0,
            "xref": "x",
            "y0": 0.0,
            "y1": 0.0,
            "yref": "y"
           },
           {
            "line": {
             "color": "black",
             "width": 3
            },
            "type": "line",
            "x0": 7.562640978155852,
            "x1": 7.754783514486108,
            "y0": 6.0552840354460935,
            "y1": 6.110793005284999
           },
           {
            "line": {
             "color": "white",
             "width": 3
            },
            "type": "line",
            "x0": 10.9823934785271,
            "x1": 11.177908204892816,
            "y0": 7.1729753350286085,
            "y1": 7.2150941167552896
           },
           {
            "line": {
             "color": "white",
             "width": 3
            },
            "type": "line",
            "x0": 11.603558117687117,
            "x1": 11.680009950925049,
            "y0": 8.561276807152066,
            "y1": 8.746087838193395
           },
           {
            "line": {
             "color": "white",
             "width": 3
            },
            "type": "line",
            "x0": 12.212288998624143,
            "x1": 12.288725419672184,
            "y0": 10.027040839580298,
            "y1": 10.211858245517528
           },
           {
            "line": {
             "color": "black",
             "width": 3
            },
            "type": "line",
            "x0": 8.35985891310515,
            "x1": 8.554363253213241,
            "y0": 6.527230444866318,
            "y1": 6.573792894105118
           },
           {
            "line": {
             "color": "white",
             "width": 3
            },
            "type": "line",
            "x0": 9.621649226974082,
            "x1": 9.811439358236894,
            "y0": 7.1647472596368855,
            "y1": 7.227832171265931
           },
           {
            "line": {
             "color": "black",
             "width": 3
            },
            "type": "line",
            "x0": 9.56879881670483,
            "x1": 9.623409019624486,
            "y0": 6.518632714233346,
            "y1": 6.711032625192456
           },
           {
            "line": {
             "color": "white",
             "width": 3
            },
            "type": "line",
            "x0": 12.822777838416854,
            "x1": 12.899098899199462,
            "y0": 11.504079998255552,
            "y1": 11.688945072515178
           },
           {
            "line": {
             "color": "rgba(255,255,255,0)",
             "width": 3
            },
            "type": "line",
            "x0": 0.0,
            "x1": null,
            "y0": 0.0,
            "y1": null
           },
           {
            "line": {
             "color": "rgba(255,255,255,0)",
             "width": 3
            },
            "type": "line",
            "x0": 0.0,
            "x1": null,
            "y0": 0.0,
            "y1": null
           }
          ],
          "title": {
           "text": "<b>Percentage using the shortest path: 0%  |  Number of Agents: 8</b>",
           "x": 0.5
          }
         },
         "name": "750"
        },
        {
         "data": [
          {
           "hoverinfo": "name",
           "line": {
            "color": "grey"
           },
           "mode": "lines",
           "name": "Exterior",
           "showlegend": false,
           "x": [
            10.1,
            10.1,
            15.0,
            15.0,
            13.6,
            13.6,
            15.0,
            15.0,
            13.6,
            13.6,
            15.0,
            15.0,
            10.1,
            10.1,
            9.9,
            9.9,
            5.1,
            5.1,
            4.9,
            4.9,
            0.0,
            0.0,
            1.5,
            1.5,
            0.0,
            0.0,
            1.5,
            1.5,
            0.0,
            0.0,
            4.9,
            4.9,
            5.1,
            5.1,
            9.9,
            9.9,
            10.1
           ],
           "y": [
            1.5,
            0.0,
            0.0,
            4.9,
            4.9,
            5.1,
            5.1,
            9.9,
            9.9,
            10.1,
            10.1,
            15.0,
            15.0,
            13.6,
            13.6,
            15.0,
            15.0,
            13.6,
            13.6,
            15.0,
            15.0,
            10.1,
            10.1,
            9.9,
            9.9,
            5.1,
            5.1,
            4.9,
            4.9,
            0.0,
            0.0,
            1.5,
            1.5,
            0.0,
            0.0,
            1.5,
            1.5
           ],
           "type": "scatter"
          },
          {
           "hoverinfo": "name",
           "line": {
            "color": "grey"
           },
           "mode": "lines",
           "name": "Obstacle",
           "showlegend": false,
           "x": [
            10.1,
            11.5,
            11.5,
            10.1,
            10.1,
            9.9,
            9.9,
            8.6,
            8.6,
            9.9,
            9.9,
            10.1,
            10.1
           ],
           "y": [
            5.1,
            5.1,
            4.9,
            4.9,
            3.6,
            3.6,
            4.9,
            4.9,
            5.1,
            5.1,
            6.5,
            6.5,
            5.1
           ],
           "type": "scatter"
          },
          {
           "hoverinfo": "name",
           "line": {
            "color": "grey"
           },
           "mode": "lines",
           "name": "Obstacle",
           "showlegend": false,
           "x": [
            10.1,
            11.5,
            11.5,
            10.1,
            10.1,
            9.9,
            9.9,
            8.6,
            8.6,
            9.9,
            9.9,
            10.1,
            10.1
           ],
           "y": [
            10.1,
            10.1,
            9.9,
            9.9,
            8.6,
            8.6,
            9.9,
            9.9,
            10.1,
            10.1,
            11.5,
            11.5,
            10.1
           ],
           "type": "scatter"
          },
          {
           "hoverinfo": "name",
           "line": {
            "color": "grey"
           },
           "mode": "lines",
           "name": "Obstacle",
           "showlegend": false,
           "x": [
            5.1,
            6.4,
            6.4,
            5.1,
            5.1,
            4.9,
            4.9,
            3.6,
            3.6,
            4.9,
            4.9,
            5.1,
            5.1
           ],
           "y": [
            5.1,
            5.1,
            4.9,
            4.9,
            3.6,
            3.6,
            4.9,
            4.9,
            5.1,
            5.1,
            6.5,
            6.5,
            5.1
           ],
           "type": "scatter"
          },
          {
           "hoverinfo": "name",
           "line": {
            "color": "grey"
           },
           "mode": "lines",
           "name": "Obstacle",
           "showlegend": false,
           "x": [
            5.1,
            6.4,
            6.4,
            5.1,
            5.1,
            4.9,
            4.9,
            3.6,
            3.6,
            4.9,
            4.9,
            5.1,
            5.1
           ],
           "y": [
            10.1,
            10.1,
            9.9,
            9.9,
            8.6,
            8.6,
            9.9,
            9.9,
            10.1,
            10.1,
            11.5,
            11.5,
            10.1
           ],
           "type": "scatter"
          },
          {
           "fill": "toself",
           "fillcolor": "rgba(200, 0, 0, 0.40)",
           "hoverinfo": "name",
           "line": {
            "width": 0
           },
           "mode": "lines",
           "name": "Risk Area",
           "showlegend": false,
           "x": [
            0.0,
            5.0,
            5.0,
            0.0,
            0.0
           ],
           "y": [
            0.0,
            0.0,
            5.0,
            5.0,
            0.0
           ],
           "type": "scatter"
          },
          {
           "fill": "toself",
           "fillcolor": "rgba(200, 0, 0, 0.10)",
           "hoverinfo": "name",
           "line": {
            "width": 0
           },
           "mode": "lines",
           "name": "Risk Area",
           "showlegend": false,
           "x": [
            5.0,
            10.0,
            10.0,
            5.0,
            5.0
           ],
           "y": [
            0.0,
            0.0,
            5.0,
            5.0,
            0.0
           ],
           "type": "scatter"
          },
          {
           "fill": "toself",
           "fillcolor": "rgba(200, 0, 0, 0.10)",
           "hoverinfo": "name",
           "line": {
            "width": 0
           },
           "mode": "lines",
           "name": "Risk Area",
           "showlegend": false,
           "x": [
            10.0,
            15.0,
            15.0,
            10.0,
            10.0
           ],
           "y": [
            0.0,
            0.0,
            5.0,
            5.0,
            0.0
           ],
           "type": "scatter"
          },
          {
           "fill": "toself",
           "fillcolor": "rgba(200, 0, 0, 0.00)",
           "hoverinfo": "name",
           "line": {
            "width": 0
           },
           "mode": "lines",
           "name": "Risk Area",
           "showlegend": false,
           "x": [
            10.0,
            15.0,
            15.0,
            10.0,
            10.0
           ],
           "y": [
            5.0,
            5.0,
            10.0,
            10.0,
            5.0
           ],
           "type": "scatter"
          },
          {
           "fill": "toself",
           "fillcolor": "rgba(200, 0, 0, 0.60)",
           "hoverinfo": "name",
           "line": {
            "width": 0
           },
           "mode": "lines",
           "name": "Risk Area",
           "showlegend": false,
           "x": [
            5.0,
            10.0,
            10.0,
            5.0,
            5.0
           ],
           "y": [
            5.0,
            5.0,
            10.0,
            10.0,
            5.0
           ],
           "type": "scatter"
          },
          {
           "fill": "toself",
           "fillcolor": "rgba(200, 0, 0, 0.10)",
           "hoverinfo": "name",
           "line": {
            "width": 0
           },
           "mode": "lines",
           "name": "Risk Area",
           "showlegend": false,
           "x": [
            0.0,
            5.0,
            5.0,
            0.0,
            0.0
           ],
           "y": [
            5.0,
            5.0,
            10.0,
            10.0,
            5.0
           ],
           "type": "scatter"
          },
          {
           "fill": "toself",
           "fillcolor": "rgba(200, 0, 0, 0.00)",
           "hoverinfo": "name",
           "line": {
            "width": 0
           },
           "mode": "lines",
           "name": "Risk Area",
           "showlegend": false,
           "x": [
            0.0,
            5.0,
            5.0,
            0.0,
            0.0
           ],
           "y": [
            10.0,
            10.0,
            15.0,
            15.0,
            10.0
           ],
           "type": "scatter"
          },
          {
           "fill": "toself",
           "fillcolor": "rgba(200, 0, 0, 0.20)",
           "hoverinfo": "name",
           "line": {
            "width": 0
           },
           "mode": "lines",
           "name": "Risk Area",
           "showlegend": false,
           "x": [
            5.0,
            10.0,
            10.0,
            5.0,
            5.0
           ],
           "y": [
            10.0,
            10.0,
            15.0,
            15.0,
            10.0
           ],
           "type": "scatter"
          },
          {
           "fill": "toself",
           "fillcolor": "rgba(200, 0, 0, 0.00)",
           "hoverinfo": "name",
           "line": {
            "width": 0
           },
           "mode": "lines",
           "name": "Risk Area",
           "showlegend": false,
           "x": [
            10.0,
            15.0,
            15.0,
            10.0,
            10.0
           ],
           "y": [
            10.0,
            10.0,
            15.0,
            15.0,
            10.0
           ],
           "type": "scatter"
          },
          {
           "hoverinfo": "text",
           "marker": {
            "opacity": 1,
            "size": 1
           },
           "mode": "markers",
           "showlegend": false,
           "text": [
            "ID: 62.0, Pos(8.10,6.21)"
           ],
           "x": [
            8.096586491286839
           ],
           "y": [
            6.2102759880869725
           ],
           "type": "scatter"
          },
          {
           "hoverinfo": "text",
           "marker": {
            "opacity": 1,
            "size": 1
           },
           "mode": "markers",
           "showlegend": false,
           "text": [
            "ID: 63.0, Pos(11.46,8.21)"
           ],
           "x": [
            11.458794504829934
           ],
           "y": [
            8.207882791452489
           ],
           "type": "scatter"
          },
          {
           "hoverinfo": "text",
           "marker": {
            "opacity": 1,
            "size": 1
           },
           "mode": "markers",
           "showlegend": false,
           "text": [
            "ID: 64.0, Pos(12.06,9.66)"
           ],
           "x": [
            12.059531997336045
           ],
           "y": [
            9.661962317355137
           ],
           "type": "scatter"
          },
          {
           "hoverinfo": "text",
           "marker": {
            "opacity": 1,
            "size": 1
           },
           "mode": "markers",
           "showlegend": false,
           "text": [
            "ID: 65.0, Pos(12.67,11.14)"
           ],
           "x": [
            12.670021921685219
           ],
           "y": [
            11.135169531483522
           ],
           "type": "scatter"
          },
          {
           "hoverinfo": "text",
           "marker": {
            "opacity": 1,
            "size": 1
           },
           "mode": "markers",
           "showlegend": false,
           "text": [
            "ID: 66.0, Pos(8.91,6.66)"
           ],
           "x": [
            8.91228185106658
           ],
           "y": [
            6.6593181878259164
           ],
           "type": "scatter"
          },
          {
           "hoverinfo": "text",
           "marker": {
            "opacity": 1,
            "size": 1
           },
           "mode": "markers",
           "showlegend": false,
           "text": [
            "ID: 67.0, Pos(10.61,7.33)"
           ],
           "x": [
            10.605308256756889
           ],
           "y": [
            7.326296086210907
           ],
           "type": "scatter"
          },
          {
           "hoverinfo": "text",
           "marker": {
            "opacity": 1,
            "size": 1
           },
           "mode": "markers",
           "showlegend": false,
           "text": [
            "ID: 69.0, Pos(9.76,6.83)"
           ],
           "x": [
            9.755219563207785
           ],
           "y": [
            6.832910339191234
           ],
           "type": "scatter"
          },
          {
           "hoverinfo": "none",
           "marker": {
            "opacity": 0,
            "size": 1
           },
           "mode": "markers",
           "showlegend": false,
           "x": [
            0.0
           ],
           "y": [
            0.0
           ],
           "type": "scatter"
          },
          {
           "hoverinfo": "none",
           "marker": {
            "opacity": 0,
            "size": 1
           },
           "mode": "markers",
           "showlegend": false,
           "x": [
            0.0
           ],
           "y": [
            0.0
           ],
           "type": "scatter"
          },
          {
           "hoverinfo": "none",
           "marker": {
            "opacity": 0,
            "size": 1
           },
           "mode": "markers",
           "showlegend": false,
           "x": [
            0.0
           ],
           "y": [
            0.0
           ],
           "type": "scatter"
          }
         ],
         "layout": {
          "shapes": [
           {
            "fillcolor": "rgba(212, 255, 35, 0.5)",
            "line": {
             "color": "rgba(212, 255, 35, 0.5)"
            },
            "type": "circle",
            "x0": 7.896586491286839,
            "x1": 8.296586491286838,
            "xref": "x",
            "y0": 6.010275988086972,
            "y1": 6.410275988086973,
            "yref": "y"
           },
           {
            "fillcolor": "rgba(0, 0, 155, 0.5)",
            "line": {
             "color": "rgba(0, 0, 155, 0.5)"
            },
            "type": "circle",
            "x0": 11.258794504829934,
            "x1": 11.658794504829933,
            "xref": "x",
            "y0": 8.00788279145249,
            "y1": 8.407882791452488,
            "yref": "y"
           },
           {
            "fillcolor": "rgba(0, 0, 132, 0.5)",
            "line": {
             "color": "rgba(0, 0, 132, 0.5)"
            },
            "type": "circle",
            "x0": 11.859531997336045,
            "x1": 12.259531997336044,
            "xref": "x",
            "y0": 9.461962317355137,
            "y1": 9.861962317355136,
            "yref": "y"
           },
           {
            "fillcolor": "rgba(0, 0, 128, 0.5)",
            "line": {
             "color": "rgba(0, 0, 128, 0.5)"
            },
            "type": "circle",
            "x0": 12.47002192168522,
            "x1": 12.870021921685218,
            "xref": "x",
            "y0": 10.935169531483522,
            "y1": 11.33516953148352,
            "yref": "y"
           },
           {
            "fillcolor": "rgba(255, 226, 0, 0.5)",
            "line": {
             "color": "rgba(255, 226, 0, 0.5)"
            },
            "type": "circle",
            "x0": 8.712281851066582,
            "x1": 9.11228185106658,
            "xref": "x",
            "y0": 6.459318187825916,
            "y1": 6.859318187825917,
            "yref": "y"
           },
           {
            "fillcolor": "rgba(0, 0, 128, 0.5)",
            "line": {
             "color": "rgba(0, 0, 128, 0.5)"
            },
            "type": "circle",
            "x0": 10.40530825675689,
            "x1": 10.805308256756888,
            "xref": "x",
            "y0": 7.126296086210907,
            "y1": 7.526296086210907,
            "yref": "y"
           },
           {
            "fillcolor": "rgba(173, 255, 73, 0.5)",
            "line": {
             "color": "rgba(173, 255, 73, 0.5)"
            },
            "type": "circle",
            "x0": 9.555219563207785,
            "x1": 9.955219563207784,
            "xref": "x",
            "y0": 6.632910339191234,
            "y1": 7.032910339191234,
            "yref": "y"
           },
           {
            "fillcolor": "rgba(255,255,255,0)",
            "line": {
             "width": 0
            },
            "type": "circle",
            "x0": 0.0,
            "x1": 0.0,
            "xref": "x",
            "y0": 0.0,
            "y1": 0.0,
            "yref": "y"
           },
           {
            "fillcolor": "rgba(255,255,255,0)",
            "line": {
             "width": 0
            },
            "type": "circle",
            "x0": 0.0,
            "x1": 0.0,
            "xref": "x",
            "y0": 0.0,
            "y1": 0.0,
            "yref": "y"
           },
           {
            "fillcolor": "rgba(255,255,255,0)",
            "line": {
             "width": 0
            },
            "type": "circle",
            "x0": 0.0,
            "x1": 0.0,
            "xref": "x",
            "y0": 0.0,
            "y1": 0.0,
            "yref": "y"
           },
           {
            "line": {
             "color": "black",
             "width": 3
            },
            "type": "line",
            "x0": 8.096586491286839,
            "x1": 8.288680151588531,
            "y0": 6.2102759880869725,
            "y1": 6.265953862255245
           },
           {
            "line": {
             "color": "white",
             "width": 3
            },
            "type": "line",
            "x0": 11.458794504829934,
            "x1": 11.535251802479998,
            "y0": 8.207882791452489,
            "y1": 8.392691561904677
           },
           {
            "line": {
             "color": "white",
             "width": 3
            },
            "type": "line",
            "x0": 12.059531997336045,
            "x1": 12.136517455796126,
            "y0": 9.661962317355137,
            "y1": 9.846551697292583
           },
           {
            "line": {
             "color": "white",
             "width": 3
            },
            "type": "line",
            "x0": 12.670021921685219,
            "x1": 12.746370296860801,
            "y0": 11.135169531483522,
            "y1": 11.320023326705714
           },
           {
            "line": {
             "color": "black",
             "width": 3
            },
            "type": "line",
            "x0": 8.91228185106658,
            "x1": 9.106811748809227,
            "y0": 6.6593181878259164,
            "y1": 6.705773745988916
           },
           {
            "line": {
             "color": "white",
             "width": 3
            },
            "type": "line",
            "x0": 10.605308256756889,
            "x1": 10.804419595409835,
            "y0": 7.326296086210907,
            "y1": 7.345128898529615
           },
           {
            "line": {
             "color": "black",
             "width": 3
            },
            "type": "line",
            "x0": 9.755219563207785,
            "x1": 9.916026599905793,
            "y0": 6.832910339191234,
            "y1": 6.951826683519529
           },
           {
            "line": {
             "color": "rgba(255,255,255,0)",
             "width": 3
            },
            "type": "line",
            "x0": 0.0,
            "x1": null,
            "y0": 0.0,
            "y1": null
           },
           {
            "line": {
             "color": "rgba(255,255,255,0)",
             "width": 3
            },
            "type": "line",
            "x0": 0.0,
            "x1": null,
            "y0": 0.0,
            "y1": null
           },
           {
            "line": {
             "color": "rgba(255,255,255,0)",
             "width": 3
            },
            "type": "line",
            "x0": 0.0,
            "x1": null,
            "y0": 0.0,
            "y1": null
           }
          ],
          "title": {
           "text": "<b>Percentage using the shortest path: 0%  |  Number of Agents: 7</b>",
           "x": 0.5
          }
         },
         "name": "800"
        },
        {
         "data": [
          {
           "hoverinfo": "name",
           "line": {
            "color": "grey"
           },
           "mode": "lines",
           "name": "Exterior",
           "showlegend": false,
           "x": [
            10.1,
            10.1,
            15.0,
            15.0,
            13.6,
            13.6,
            15.0,
            15.0,
            13.6,
            13.6,
            15.0,
            15.0,
            10.1,
            10.1,
            9.9,
            9.9,
            5.1,
            5.1,
            4.9,
            4.9,
            0.0,
            0.0,
            1.5,
            1.5,
            0.0,
            0.0,
            1.5,
            1.5,
            0.0,
            0.0,
            4.9,
            4.9,
            5.1,
            5.1,
            9.9,
            9.9,
            10.1
           ],
           "y": [
            1.5,
            0.0,
            0.0,
            4.9,
            4.9,
            5.1,
            5.1,
            9.9,
            9.9,
            10.1,
            10.1,
            15.0,
            15.0,
            13.6,
            13.6,
            15.0,
            15.0,
            13.6,
            13.6,
            15.0,
            15.0,
            10.1,
            10.1,
            9.9,
            9.9,
            5.1,
            5.1,
            4.9,
            4.9,
            0.0,
            0.0,
            1.5,
            1.5,
            0.0,
            0.0,
            1.5,
            1.5
           ],
           "type": "scatter"
          },
          {
           "hoverinfo": "name",
           "line": {
            "color": "grey"
           },
           "mode": "lines",
           "name": "Obstacle",
           "showlegend": false,
           "x": [
            10.1,
            11.5,
            11.5,
            10.1,
            10.1,
            9.9,
            9.9,
            8.6,
            8.6,
            9.9,
            9.9,
            10.1,
            10.1
           ],
           "y": [
            5.1,
            5.1,
            4.9,
            4.9,
            3.6,
            3.6,
            4.9,
            4.9,
            5.1,
            5.1,
            6.5,
            6.5,
            5.1
           ],
           "type": "scatter"
          },
          {
           "hoverinfo": "name",
           "line": {
            "color": "grey"
           },
           "mode": "lines",
           "name": "Obstacle",
           "showlegend": false,
           "x": [
            10.1,
            11.5,
            11.5,
            10.1,
            10.1,
            9.9,
            9.9,
            8.6,
            8.6,
            9.9,
            9.9,
            10.1,
            10.1
           ],
           "y": [
            10.1,
            10.1,
            9.9,
            9.9,
            8.6,
            8.6,
            9.9,
            9.9,
            10.1,
            10.1,
            11.5,
            11.5,
            10.1
           ],
           "type": "scatter"
          },
          {
           "hoverinfo": "name",
           "line": {
            "color": "grey"
           },
           "mode": "lines",
           "name": "Obstacle",
           "showlegend": false,
           "x": [
            5.1,
            6.4,
            6.4,
            5.1,
            5.1,
            4.9,
            4.9,
            3.6,
            3.6,
            4.9,
            4.9,
            5.1,
            5.1
           ],
           "y": [
            5.1,
            5.1,
            4.9,
            4.9,
            3.6,
            3.6,
            4.9,
            4.9,
            5.1,
            5.1,
            6.5,
            6.5,
            5.1
           ],
           "type": "scatter"
          },
          {
           "hoverinfo": "name",
           "line": {
            "color": "grey"
           },
           "mode": "lines",
           "name": "Obstacle",
           "showlegend": false,
           "x": [
            5.1,
            6.4,
            6.4,
            5.1,
            5.1,
            4.9,
            4.9,
            3.6,
            3.6,
            4.9,
            4.9,
            5.1,
            5.1
           ],
           "y": [
            10.1,
            10.1,
            9.9,
            9.9,
            8.6,
            8.6,
            9.9,
            9.9,
            10.1,
            10.1,
            11.5,
            11.5,
            10.1
           ],
           "type": "scatter"
          },
          {
           "fill": "toself",
           "fillcolor": "rgba(200, 0, 0, 0.40)",
           "hoverinfo": "name",
           "line": {
            "width": 0
           },
           "mode": "lines",
           "name": "Risk Area",
           "showlegend": false,
           "x": [
            0.0,
            5.0,
            5.0,
            0.0,
            0.0
           ],
           "y": [
            0.0,
            0.0,
            5.0,
            5.0,
            0.0
           ],
           "type": "scatter"
          },
          {
           "fill": "toself",
           "fillcolor": "rgba(200, 0, 0, 0.10)",
           "hoverinfo": "name",
           "line": {
            "width": 0
           },
           "mode": "lines",
           "name": "Risk Area",
           "showlegend": false,
           "x": [
            5.0,
            10.0,
            10.0,
            5.0,
            5.0
           ],
           "y": [
            0.0,
            0.0,
            5.0,
            5.0,
            0.0
           ],
           "type": "scatter"
          },
          {
           "fill": "toself",
           "fillcolor": "rgba(200, 0, 0, 0.10)",
           "hoverinfo": "name",
           "line": {
            "width": 0
           },
           "mode": "lines",
           "name": "Risk Area",
           "showlegend": false,
           "x": [
            10.0,
            15.0,
            15.0,
            10.0,
            10.0
           ],
           "y": [
            0.0,
            0.0,
            5.0,
            5.0,
            0.0
           ],
           "type": "scatter"
          },
          {
           "fill": "toself",
           "fillcolor": "rgba(200, 0, 0, 0.00)",
           "hoverinfo": "name",
           "line": {
            "width": 0
           },
           "mode": "lines",
           "name": "Risk Area",
           "showlegend": false,
           "x": [
            10.0,
            15.0,
            15.0,
            10.0,
            10.0
           ],
           "y": [
            5.0,
            5.0,
            10.0,
            10.0,
            5.0
           ],
           "type": "scatter"
          },
          {
           "fill": "toself",
           "fillcolor": "rgba(200, 0, 0, 0.60)",
           "hoverinfo": "name",
           "line": {
            "width": 0
           },
           "mode": "lines",
           "name": "Risk Area",
           "showlegend": false,
           "x": [
            5.0,
            10.0,
            10.0,
            5.0,
            5.0
           ],
           "y": [
            5.0,
            5.0,
            10.0,
            10.0,
            5.0
           ],
           "type": "scatter"
          },
          {
           "fill": "toself",
           "fillcolor": "rgba(200, 0, 0, 0.10)",
           "hoverinfo": "name",
           "line": {
            "width": 0
           },
           "mode": "lines",
           "name": "Risk Area",
           "showlegend": false,
           "x": [
            0.0,
            5.0,
            5.0,
            0.0,
            0.0
           ],
           "y": [
            5.0,
            5.0,
            10.0,
            10.0,
            5.0
           ],
           "type": "scatter"
          },
          {
           "fill": "toself",
           "fillcolor": "rgba(200, 0, 0, 0.00)",
           "hoverinfo": "name",
           "line": {
            "width": 0
           },
           "mode": "lines",
           "name": "Risk Area",
           "showlegend": false,
           "x": [
            0.0,
            5.0,
            5.0,
            0.0,
            0.0
           ],
           "y": [
            10.0,
            10.0,
            15.0,
            15.0,
            10.0
           ],
           "type": "scatter"
          },
          {
           "fill": "toself",
           "fillcolor": "rgba(200, 0, 0, 0.20)",
           "hoverinfo": "name",
           "line": {
            "width": 0
           },
           "mode": "lines",
           "name": "Risk Area",
           "showlegend": false,
           "x": [
            5.0,
            10.0,
            10.0,
            5.0,
            5.0
           ],
           "y": [
            10.0,
            10.0,
            15.0,
            15.0,
            10.0
           ],
           "type": "scatter"
          },
          {
           "fill": "toself",
           "fillcolor": "rgba(200, 0, 0, 0.00)",
           "hoverinfo": "name",
           "line": {
            "width": 0
           },
           "mode": "lines",
           "name": "Risk Area",
           "showlegend": false,
           "x": [
            10.0,
            15.0,
            15.0,
            10.0,
            10.0
           ],
           "y": [
            10.0,
            10.0,
            15.0,
            15.0,
            10.0
           ],
           "type": "scatter"
          },
          {
           "hoverinfo": "text",
           "marker": {
            "opacity": 1,
            "size": 1
           },
           "mode": "markers",
           "showlegend": false,
           "text": [
            "ID: 62.0, Pos(8.60,6.36)"
           ],
           "x": [
            8.602913448637244
           ],
           "y": [
            6.357143396865362
           ],
           "type": "scatter"
          },
          {
           "hoverinfo": "text",
           "marker": {
            "opacity": 1,
            "size": 1
           },
           "mode": "markers",
           "showlegend": false,
           "text": [
            "ID: 63.0, Pos(11.91,9.30)"
           ],
           "x": [
            11.91031482717918
           ],
           "y": [
            9.29990468571901
           ],
           "type": "scatter"
          },
          {
           "hoverinfo": "text",
           "marker": {
            "opacity": 1,
            "size": 1
           },
           "mode": "markers",
           "showlegend": false,
           "text": [
            "ID: 64.0, Pos(12.52,10.77)"
           ],
           "x": [
            12.517349280374773
           ],
           "y": [
            10.767560174695479
           ],
           "type": "scatter"
          },
          {
           "hoverinfo": "text",
           "marker": {
            "opacity": 1,
            "size": 1
           },
           "mode": "markers",
           "showlegend": false,
           "text": [
            "ID: 65.0, Pos(13.13,12.24)"
           ],
           "x": [
            13.128112159591183
           ],
           "y": [
            12.244292308246875
           ],
           "type": "scatter"
          },
          {
           "hoverinfo": "text",
           "marker": {
            "opacity": 1,
            "size": 1
           },
           "mode": "markers",
           "showlegend": false,
           "text": [
            "ID: 66.0, Pos(9.47,6.79)"
           ],
           "x": [
            9.46612165733244
           ],
           "y": [
            6.791527202840932
           ],
           "type": "scatter"
          },
          {
           "hoverinfo": "text",
           "marker": {
            "opacity": 1,
            "size": 1
           },
           "mode": "markers",
           "showlegend": false,
           "text": [
            "ID: 67.0, Pos(11.28,7.98)"
           ],
           "x": [
            11.275984114786745
           ],
           "y": [
            7.979208498240089
           ],
           "type": "scatter"
          },
          {
           "hoverinfo": "text",
           "marker": {
            "opacity": 1,
            "size": 1
           },
           "mode": "markers",
           "showlegend": false,
           "text": [
            "ID: 69.0, Pos(10.59,7.09)"
           ],
           "x": [
            10.589627660775475
           ],
           "y": [
            7.086995597449325
           ],
           "type": "scatter"
          },
          {
           "hoverinfo": "none",
           "marker": {
            "opacity": 0,
            "size": 1
           },
           "mode": "markers",
           "showlegend": false,
           "x": [
            0.0
           ],
           "y": [
            0.0
           ],
           "type": "scatter"
          },
          {
           "hoverinfo": "none",
           "marker": {
            "opacity": 0,
            "size": 1
           },
           "mode": "markers",
           "showlegend": false,
           "x": [
            0.0
           ],
           "y": [
            0.0
           ],
           "type": "scatter"
          },
          {
           "hoverinfo": "none",
           "marker": {
            "opacity": 0,
            "size": 1
           },
           "mode": "markers",
           "showlegend": false,
           "x": [
            0.0
           ],
           "y": [
            0.0
           ],
           "type": "scatter"
          }
         ],
         "layout": {
          "shapes": [
           {
            "fillcolor": "rgba(183, 255, 64, 0.5)",
            "line": {
             "color": "rgba(183, 255, 64, 0.5)"
            },
            "type": "circle",
            "x0": 8.402913448637245,
            "x1": 8.802913448637243,
            "xref": "x",
            "y0": 6.1571433968653615,
            "y1": 6.557143396865362,
            "yref": "y"
           },
           {
            "fillcolor": "rgba(0, 0, 137, 0.5)",
            "line": {
             "color": "rgba(0, 0, 137, 0.5)"
            },
            "type": "circle",
            "x0": 11.71031482717918,
            "x1": 12.11031482717918,
            "xref": "x",
            "y0": 9.099904685719011,
            "y1": 9.49990468571901,
            "yref": "y"
           },
           {
            "fillcolor": "rgba(0, 0, 128, 0.5)",
            "line": {
             "color": "rgba(0, 0, 128, 0.5)"
            },
            "type": "circle",
            "x0": 12.317349280374774,
            "x1": 12.717349280374773,
            "xref": "x",
            "y0": 10.56756017469548,
            "y1": 10.967560174695478,
            "yref": "y"
           },
           {
            "fillcolor": "rgba(0, 0, 128, 0.5)",
            "line": {
             "color": "rgba(0, 0, 128, 0.5)"
            },
            "type": "circle",
            "x0": 12.928112159591183,
            "x1": 13.328112159591182,
            "xref": "x",
            "y0": 12.044292308246876,
            "y1": 12.444292308246874,
            "yref": "y"
           },
           {
            "fillcolor": "rgba(41, 255, 206, 0.5)",
            "line": {
             "color": "rgba(41, 255, 206, 0.5)"
            },
            "type": "circle",
            "x0": 9.266121657332441,
            "x1": 9.66612165733244,
            "xref": "x",
            "y0": 6.591527202840932,
            "y1": 6.991527202840932,
            "yref": "y"
           },
           {
            "fillcolor": "rgba(0, 0, 255, 0.5)",
            "line": {
             "color": "rgba(0, 0, 255, 0.5)"
            },
            "type": "circle",
            "x0": 11.075984114786745,
            "x1": 11.475984114786744,
            "xref": "x",
            "y0": 7.779208498240089,
            "y1": 8.179208498240088,
            "yref": "y"
           },
           {
            "fillcolor": "rgba(0, 0, 128, 0.5)",
            "line": {
             "color": "rgba(0, 0, 128, 0.5)"
            },
            "type": "circle",
            "x0": 10.389627660775476,
            "x1": 10.789627660775475,
            "xref": "x",
            "y0": 6.886995597449324,
            "y1": 7.286995597449325,
            "yref": "y"
           },
           {
            "fillcolor": "rgba(255,255,255,0)",
            "line": {
             "width": 0
            },
            "type": "circle",
            "x0": 0.0,
            "x1": 0.0,
            "xref": "x",
            "y0": 0.0,
            "y1": 0.0,
            "yref": "y"
           },
           {
            "fillcolor": "rgba(255,255,255,0)",
            "line": {
             "width": 0
            },
            "type": "circle",
            "x0": 0.0,
            "x1": 0.0,
            "xref": "x",
            "y0": 0.0,
            "y1": 0.0,
            "yref": "y"
           },
           {
            "fillcolor": "rgba(255,255,255,0)",
            "line": {
             "width": 0
            },
            "type": "circle",
            "x0": 0.0,
            "x1": 0.0,
            "xref": "x",
            "y0": 0.0,
            "y1": 0.0,
            "yref": "y"
           },
           {
            "line": {
             "color": "black",
             "width": 3
            },
            "type": "line",
            "x0": 8.602913448637244,
            "x1": 8.794924143337552,
            "y0": 6.357143396865362,
            "y1": 6.413106716287153
           },
           {
            "line": {
             "color": "white",
             "width": 3
            },
            "type": "line",
            "x0": 11.91031482717918,
            "x1": 11.986763140354949,
            "y0": 9.29990468571901,
            "y1": 9.484717172885272
           },
           {
            "line": {
             "color": "white",
             "width": 3
            },
            "type": "line",
            "x0": 12.517349280374773,
            "x1": 12.593742255943916,
            "y0": 10.767560174695479,
            "y1": 10.952395542749572
           },
           {
            "line": {
             "color": "white",
             "width": 3
            },
            "type": "line",
            "x0": 13.128112159591183,
            "x1": 13.204460531560166,
            "y0": 12.244292308246875,
            "y1": 12.429146104793459
           },
           {
            "line": {
             "color": "black",
             "width": 3
            },
            "type": "line",
            "x0": 9.46612165733244,
            "x1": 9.66026551436365,
            "y0": 6.791527202840932,
            "y1": 6.839570545533189
           },
           {
            "line": {
             "color": "white",
             "width": 3
            },
            "type": "line",
            "x0": 11.275984114786745,
            "x1": 11.354875102491176,
            "y0": 7.979208498240089,
            "y1": 8.16299155529111
           },
           {
            "line": {
             "color": "white",
             "width": 3
            },
            "type": "line",
            "x0": 10.589627660775475,
            "x1": 10.785155494533663,
            "y0": 7.086995597449325,
            "y1": 7.129053488811478
           },
           {
            "line": {
             "color": "rgba(255,255,255,0)",
             "width": 3
            },
            "type": "line",
            "x0": 0.0,
            "x1": null,
            "y0": 0.0,
            "y1": null
           },
           {
            "line": {
             "color": "rgba(255,255,255,0)",
             "width": 3
            },
            "type": "line",
            "x0": 0.0,
            "x1": null,
            "y0": 0.0,
            "y1": null
           },
           {
            "line": {
             "color": "rgba(255,255,255,0)",
             "width": 3
            },
            "type": "line",
            "x0": 0.0,
            "x1": null,
            "y0": 0.0,
            "y1": null
           }
          ],
          "title": {
           "text": "<b>Percentage using the shortest path: 0%  |  Number of Agents: 7</b>",
           "x": 0.5
          }
         },
         "name": "850"
        },
        {
         "data": [
          {
           "hoverinfo": "name",
           "line": {
            "color": "grey"
           },
           "mode": "lines",
           "name": "Exterior",
           "showlegend": false,
           "x": [
            10.1,
            10.1,
            15.0,
            15.0,
            13.6,
            13.6,
            15.0,
            15.0,
            13.6,
            13.6,
            15.0,
            15.0,
            10.1,
            10.1,
            9.9,
            9.9,
            5.1,
            5.1,
            4.9,
            4.9,
            0.0,
            0.0,
            1.5,
            1.5,
            0.0,
            0.0,
            1.5,
            1.5,
            0.0,
            0.0,
            4.9,
            4.9,
            5.1,
            5.1,
            9.9,
            9.9,
            10.1
           ],
           "y": [
            1.5,
            0.0,
            0.0,
            4.9,
            4.9,
            5.1,
            5.1,
            9.9,
            9.9,
            10.1,
            10.1,
            15.0,
            15.0,
            13.6,
            13.6,
            15.0,
            15.0,
            13.6,
            13.6,
            15.0,
            15.0,
            10.1,
            10.1,
            9.9,
            9.9,
            5.1,
            5.1,
            4.9,
            4.9,
            0.0,
            0.0,
            1.5,
            1.5,
            0.0,
            0.0,
            1.5,
            1.5
           ],
           "type": "scatter"
          },
          {
           "hoverinfo": "name",
           "line": {
            "color": "grey"
           },
           "mode": "lines",
           "name": "Obstacle",
           "showlegend": false,
           "x": [
            10.1,
            11.5,
            11.5,
            10.1,
            10.1,
            9.9,
            9.9,
            8.6,
            8.6,
            9.9,
            9.9,
            10.1,
            10.1
           ],
           "y": [
            5.1,
            5.1,
            4.9,
            4.9,
            3.6,
            3.6,
            4.9,
            4.9,
            5.1,
            5.1,
            6.5,
            6.5,
            5.1
           ],
           "type": "scatter"
          },
          {
           "hoverinfo": "name",
           "line": {
            "color": "grey"
           },
           "mode": "lines",
           "name": "Obstacle",
           "showlegend": false,
           "x": [
            10.1,
            11.5,
            11.5,
            10.1,
            10.1,
            9.9,
            9.9,
            8.6,
            8.6,
            9.9,
            9.9,
            10.1,
            10.1
           ],
           "y": [
            10.1,
            10.1,
            9.9,
            9.9,
            8.6,
            8.6,
            9.9,
            9.9,
            10.1,
            10.1,
            11.5,
            11.5,
            10.1
           ],
           "type": "scatter"
          },
          {
           "hoverinfo": "name",
           "line": {
            "color": "grey"
           },
           "mode": "lines",
           "name": "Obstacle",
           "showlegend": false,
           "x": [
            5.1,
            6.4,
            6.4,
            5.1,
            5.1,
            4.9,
            4.9,
            3.6,
            3.6,
            4.9,
            4.9,
            5.1,
            5.1
           ],
           "y": [
            5.1,
            5.1,
            4.9,
            4.9,
            3.6,
            3.6,
            4.9,
            4.9,
            5.1,
            5.1,
            6.5,
            6.5,
            5.1
           ],
           "type": "scatter"
          },
          {
           "hoverinfo": "name",
           "line": {
            "color": "grey"
           },
           "mode": "lines",
           "name": "Obstacle",
           "showlegend": false,
           "x": [
            5.1,
            6.4,
            6.4,
            5.1,
            5.1,
            4.9,
            4.9,
            3.6,
            3.6,
            4.9,
            4.9,
            5.1,
            5.1
           ],
           "y": [
            10.1,
            10.1,
            9.9,
            9.9,
            8.6,
            8.6,
            9.9,
            9.9,
            10.1,
            10.1,
            11.5,
            11.5,
            10.1
           ],
           "type": "scatter"
          },
          {
           "fill": "toself",
           "fillcolor": "rgba(200, 0, 0, 0.40)",
           "hoverinfo": "name",
           "line": {
            "width": 0
           },
           "mode": "lines",
           "name": "Risk Area",
           "showlegend": false,
           "x": [
            0.0,
            5.0,
            5.0,
            0.0,
            0.0
           ],
           "y": [
            0.0,
            0.0,
            5.0,
            5.0,
            0.0
           ],
           "type": "scatter"
          },
          {
           "fill": "toself",
           "fillcolor": "rgba(200, 0, 0, 0.10)",
           "hoverinfo": "name",
           "line": {
            "width": 0
           },
           "mode": "lines",
           "name": "Risk Area",
           "showlegend": false,
           "x": [
            5.0,
            10.0,
            10.0,
            5.0,
            5.0
           ],
           "y": [
            0.0,
            0.0,
            5.0,
            5.0,
            0.0
           ],
           "type": "scatter"
          },
          {
           "fill": "toself",
           "fillcolor": "rgba(200, 0, 0, 0.10)",
           "hoverinfo": "name",
           "line": {
            "width": 0
           },
           "mode": "lines",
           "name": "Risk Area",
           "showlegend": false,
           "x": [
            10.0,
            15.0,
            15.0,
            10.0,
            10.0
           ],
           "y": [
            0.0,
            0.0,
            5.0,
            5.0,
            0.0
           ],
           "type": "scatter"
          },
          {
           "fill": "toself",
           "fillcolor": "rgba(200, 0, 0, 0.00)",
           "hoverinfo": "name",
           "line": {
            "width": 0
           },
           "mode": "lines",
           "name": "Risk Area",
           "showlegend": false,
           "x": [
            10.0,
            15.0,
            15.0,
            10.0,
            10.0
           ],
           "y": [
            5.0,
            5.0,
            10.0,
            10.0,
            5.0
           ],
           "type": "scatter"
          },
          {
           "fill": "toself",
           "fillcolor": "rgba(200, 0, 0, 0.60)",
           "hoverinfo": "name",
           "line": {
            "width": 0
           },
           "mode": "lines",
           "name": "Risk Area",
           "showlegend": false,
           "x": [
            5.0,
            10.0,
            10.0,
            5.0,
            5.0
           ],
           "y": [
            5.0,
            5.0,
            10.0,
            10.0,
            5.0
           ],
           "type": "scatter"
          },
          {
           "fill": "toself",
           "fillcolor": "rgba(200, 0, 0, 0.10)",
           "hoverinfo": "name",
           "line": {
            "width": 0
           },
           "mode": "lines",
           "name": "Risk Area",
           "showlegend": false,
           "x": [
            0.0,
            5.0,
            5.0,
            0.0,
            0.0
           ],
           "y": [
            5.0,
            5.0,
            10.0,
            10.0,
            5.0
           ],
           "type": "scatter"
          },
          {
           "fill": "toself",
           "fillcolor": "rgba(200, 0, 0, 0.00)",
           "hoverinfo": "name",
           "line": {
            "width": 0
           },
           "mode": "lines",
           "name": "Risk Area",
           "showlegend": false,
           "x": [
            0.0,
            5.0,
            5.0,
            0.0,
            0.0
           ],
           "y": [
            10.0,
            10.0,
            15.0,
            15.0,
            10.0
           ],
           "type": "scatter"
          },
          {
           "fill": "toself",
           "fillcolor": "rgba(200, 0, 0, 0.30)",
           "hoverinfo": "name",
           "line": {
            "width": 0
           },
           "mode": "lines",
           "name": "Risk Area",
           "showlegend": false,
           "x": [
            5.0,
            10.0,
            10.0,
            5.0,
            5.0
           ],
           "y": [
            10.0,
            10.0,
            15.0,
            15.0,
            10.0
           ],
           "type": "scatter"
          },
          {
           "fill": "toself",
           "fillcolor": "rgba(200, 0, 0, 0.00)",
           "hoverinfo": "name",
           "line": {
            "width": 0
           },
           "mode": "lines",
           "name": "Risk Area",
           "showlegend": false,
           "x": [
            10.0,
            15.0,
            15.0,
            10.0,
            10.0
           ],
           "y": [
            10.0,
            10.0,
            15.0,
            15.0,
            10.0
           ],
           "type": "scatter"
          },
          {
           "hoverinfo": "text",
           "marker": {
            "opacity": 1,
            "size": 1
           },
           "mode": "markers",
           "showlegend": false,
           "text": [
            "ID: 62.0, Pos(9.24,6.54)"
           ],
           "x": [
            9.241365084486983
           ],
           "y": [
            6.543997078411816
           ],
           "type": "scatter"
          },
          {
           "hoverinfo": "text",
           "marker": {
            "opacity": 1,
            "size": 1
           },
           "mode": "markers",
           "showlegend": false,
           "text": [
            "ID: 63.0, Pos(12.37,10.40)"
           ],
           "x": [
            12.36686289248182
           ],
           "y": [
            10.401344000939607
           ],
           "type": "scatter"
          },
          {
           "hoverinfo": "text",
           "marker": {
            "opacity": 1,
            "size": 1
           },
           "mode": "markers",
           "showlegend": false,
           "text": [
            "ID: 64.0, Pos(12.98,11.88)"
           ],
           "x": [
            12.975547978063908
           ],
           "y": [
            11.876187331287547
           ],
           "type": "scatter"
          },
          {
           "hoverinfo": "text",
           "marker": {
            "opacity": 1,
            "size": 1
           },
           "mode": "markers",
           "showlegend": false,
           "text": [
            "ID: 66.0, Pos(10.28,7.03)"
           ],
           "x": [
            10.279037017268985
           ],
           "y": [
            7.034447838844332
           ],
           "type": "scatter"
          },
          {
           "hoverinfo": "text",
           "marker": {
            "opacity": 1,
            "size": 1
           },
           "mode": "markers",
           "showlegend": false,
           "text": [
            "ID: 67.0, Pos(11.71,9.00)"
           ],
           "x": [
            11.713847934010174
           ],
           "y": [
            9.000469893419602
           ],
           "type": "scatter"
          },
          {
           "hoverinfo": "text",
           "marker": {
            "opacity": 1,
            "size": 1
           },
           "mode": "markers",
           "showlegend": false,
           "text": [
            "ID: 69.0, Pos(11.25,7.71)"
           ],
           "x": [
            11.251832176409433
           ],
           "y": [
            7.705877484314781
           ],
           "type": "scatter"
          },
          {
           "hoverinfo": "none",
           "marker": {
            "opacity": 0,
            "size": 1
           },
           "mode": "markers",
           "showlegend": false,
           "x": [
            0.0
           ],
           "y": [
            0.0
           ],
           "type": "scatter"
          },
          {
           "hoverinfo": "none",
           "marker": {
            "opacity": 0,
            "size": 1
           },
           "mode": "markers",
           "showlegend": false,
           "x": [
            0.0
           ],
           "y": [
            0.0
           ],
           "type": "scatter"
          },
          {
           "hoverinfo": "none",
           "marker": {
            "opacity": 0,
            "size": 1
           },
           "mode": "markers",
           "showlegend": false,
           "x": [
            0.0
           ],
           "y": [
            0.0
           ],
           "type": "scatter"
          },
          {
           "hoverinfo": "none",
           "marker": {
            "opacity": 0,
            "size": 1
           },
           "mode": "markers",
           "showlegend": false,
           "x": [
            0.0
           ],
           "y": [
            0.0
           ],
           "type": "scatter"
          }
         ],
         "layout": {
          "shapes": [
           {
            "fillcolor": "rgba(48, 255, 199, 0.5)",
            "line": {
             "color": "rgba(48, 255, 199, 0.5)"
            },
            "type": "circle",
            "x0": 9.041365084486984,
            "x1": 9.441365084486982,
            "xref": "x",
            "y0": 6.343997078411816,
            "y1": 6.743997078411816,
            "yref": "y"
           },
           {
            "fillcolor": "rgba(0, 0, 132, 0.5)",
            "line": {
             "color": "rgba(0, 0, 132, 0.5)"
            },
            "type": "circle",
            "x0": 12.16686289248182,
            "x1": 12.566862892481819,
            "xref": "x",
            "y0": 10.201344000939608,
            "y1": 10.601344000939607,
            "yref": "y"
           },
           {
            "fillcolor": "rgba(0, 0, 128, 0.5)",
            "line": {
             "color": "rgba(0, 0, 128, 0.5)"
            },
            "type": "circle",
            "x0": 12.775547978063909,
            "x1": 13.175547978063907,
            "xref": "x",
            "y0": 11.676187331287547,
            "y1": 12.076187331287546,
            "yref": "y"
           },
           {
            "fillcolor": "rgba(0, 0, 232, 0.5)",
            "line": {
             "color": "rgba(0, 0, 232, 0.5)"
            },
            "type": "circle",
            "x0": 10.079037017268986,
            "x1": 10.479037017268984,
            "xref": "x",
            "y0": 6.834447838844332,
            "y1": 7.234447838844332,
            "yref": "y"
           },
           {
            "fillcolor": "rgba(0, 0, 182, 0.5)",
            "line": {
             "color": "rgba(0, 0, 182, 0.5)"
            },
            "type": "circle",
            "x0": 11.513847934010174,
            "x1": 11.913847934010173,
            "xref": "x",
            "y0": 8.800469893419603,
            "y1": 9.200469893419601,
            "yref": "y"
           },
           {
            "fillcolor": "rgba(0, 80, 255, 0.5)",
            "line": {
             "color": "rgba(0, 80, 255, 0.5)"
            },
            "type": "circle",
            "x0": 11.051832176409434,
            "x1": 11.451832176409432,
            "xref": "x",
            "y0": 7.505877484314781,
            "y1": 7.905877484314781,
            "yref": "y"
           },
           {
            "fillcolor": "rgba(255,255,255,0)",
            "line": {
             "width": 0
            },
            "type": "circle",
            "x0": 0.0,
            "x1": 0.0,
            "xref": "x",
            "y0": 0.0,
            "y1": 0.0,
            "yref": "y"
           },
           {
            "fillcolor": "rgba(255,255,255,0)",
            "line": {
             "width": 0
            },
            "type": "circle",
            "x0": 0.0,
            "x1": 0.0,
            "xref": "x",
            "y0": 0.0,
            "y1": 0.0,
            "yref": "y"
           },
           {
            "fillcolor": "rgba(255,255,255,0)",
            "line": {
             "width": 0
            },
            "type": "circle",
            "x0": 0.0,
            "x1": 0.0,
            "xref": "x",
            "y0": 0.0,
            "y1": 0.0,
            "yref": "y"
           },
           {
            "fillcolor": "rgba(255,255,255,0)",
            "line": {
             "width": 0
            },
            "type": "circle",
            "x0": 0.0,
            "x1": 0.0,
            "xref": "x",
            "y0": 0.0,
            "y1": 0.0,
            "yref": "y"
           },
           {
            "line": {
             "color": "black",
             "width": 3
            },
            "type": "line",
            "x0": 9.241365084486983,
            "x1": 9.43327158868341,
            "y0": 6.543997078411816,
            "y1": 6.600316645589721
           },
           {
            "line": {
             "color": "white",
             "width": 3
            },
            "type": "line",
            "x0": 12.36686289248182,
            "x1": 12.443215935367553,
            "y0": 10.401344000939607,
            "y1": 10.586195868233636
           },
           {
            "line": {
             "color": "white",
             "width": 3
            },
            "type": "line",
            "x0": 12.975547978063908,
            "x1": 13.051940951652533,
            "y0": 11.876187331287547,
            "y1": 12.061022700160194
           },
           {
            "line": {
             "color": "white",
             "width": 3
            },
            "type": "line",
            "x0": 10.279037017268985,
            "x1": 10.47450099725126,
            "y0": 7.034447838844332,
            "y1": 7.076801499010705
           },
           {
            "line": {
             "color": "white",
             "width": 3
            },
            "type": "line",
            "x0": 11.713847934010174,
            "x1": 11.792651285485158,
            "y0": 9.000469893419602,
            "y1": 9.184290544588913
           },
           {
            "line": {
             "color": "white",
             "width": 3
            },
            "type": "line",
            "x0": 11.251832176409433,
            "x1": 11.328333589279147,
            "y0": 7.705877484314781,
            "y1": 7.890667997677718
           },
           {
            "line": {
             "color": "rgba(255,255,255,0)",
             "width": 3
            },
            "type": "line",
            "x0": 0.0,
            "x1": null,
            "y0": 0.0,
            "y1": null
           },
           {
            "line": {
             "color": "rgba(255,255,255,0)",
             "width": 3
            },
            "type": "line",
            "x0": 0.0,
            "x1": null,
            "y0": 0.0,
            "y1": null
           },
           {
            "line": {
             "color": "rgba(255,255,255,0)",
             "width": 3
            },
            "type": "line",
            "x0": 0.0,
            "x1": null,
            "y0": 0.0,
            "y1": null
           },
           {
            "line": {
             "color": "rgba(255,255,255,0)",
             "width": 3
            },
            "type": "line",
            "x0": 0.0,
            "x1": null,
            "y0": 0.0,
            "y1": null
           }
          ],
          "title": {
           "text": "<b>Percentage using the shortest path: 0%  |  Number of Agents: 6</b>",
           "x": 0.5
          }
         },
         "name": "900"
        },
        {
         "data": [
          {
           "hoverinfo": "name",
           "line": {
            "color": "grey"
           },
           "mode": "lines",
           "name": "Exterior",
           "showlegend": false,
           "x": [
            10.1,
            10.1,
            15.0,
            15.0,
            13.6,
            13.6,
            15.0,
            15.0,
            13.6,
            13.6,
            15.0,
            15.0,
            10.1,
            10.1,
            9.9,
            9.9,
            5.1,
            5.1,
            4.9,
            4.9,
            0.0,
            0.0,
            1.5,
            1.5,
            0.0,
            0.0,
            1.5,
            1.5,
            0.0,
            0.0,
            4.9,
            4.9,
            5.1,
            5.1,
            9.9,
            9.9,
            10.1
           ],
           "y": [
            1.5,
            0.0,
            0.0,
            4.9,
            4.9,
            5.1,
            5.1,
            9.9,
            9.9,
            10.1,
            10.1,
            15.0,
            15.0,
            13.6,
            13.6,
            15.0,
            15.0,
            13.6,
            13.6,
            15.0,
            15.0,
            10.1,
            10.1,
            9.9,
            9.9,
            5.1,
            5.1,
            4.9,
            4.9,
            0.0,
            0.0,
            1.5,
            1.5,
            0.0,
            0.0,
            1.5,
            1.5
           ],
           "type": "scatter"
          },
          {
           "hoverinfo": "name",
           "line": {
            "color": "grey"
           },
           "mode": "lines",
           "name": "Obstacle",
           "showlegend": false,
           "x": [
            10.1,
            11.5,
            11.5,
            10.1,
            10.1,
            9.9,
            9.9,
            8.6,
            8.6,
            9.9,
            9.9,
            10.1,
            10.1
           ],
           "y": [
            5.1,
            5.1,
            4.9,
            4.9,
            3.6,
            3.6,
            4.9,
            4.9,
            5.1,
            5.1,
            6.5,
            6.5,
            5.1
           ],
           "type": "scatter"
          },
          {
           "hoverinfo": "name",
           "line": {
            "color": "grey"
           },
           "mode": "lines",
           "name": "Obstacle",
           "showlegend": false,
           "x": [
            10.1,
            11.5,
            11.5,
            10.1,
            10.1,
            9.9,
            9.9,
            8.6,
            8.6,
            9.9,
            9.9,
            10.1,
            10.1
           ],
           "y": [
            10.1,
            10.1,
            9.9,
            9.9,
            8.6,
            8.6,
            9.9,
            9.9,
            10.1,
            10.1,
            11.5,
            11.5,
            10.1
           ],
           "type": "scatter"
          },
          {
           "hoverinfo": "name",
           "line": {
            "color": "grey"
           },
           "mode": "lines",
           "name": "Obstacle",
           "showlegend": false,
           "x": [
            5.1,
            6.4,
            6.4,
            5.1,
            5.1,
            4.9,
            4.9,
            3.6,
            3.6,
            4.9,
            4.9,
            5.1,
            5.1
           ],
           "y": [
            5.1,
            5.1,
            4.9,
            4.9,
            3.6,
            3.6,
            4.9,
            4.9,
            5.1,
            5.1,
            6.5,
            6.5,
            5.1
           ],
           "type": "scatter"
          },
          {
           "hoverinfo": "name",
           "line": {
            "color": "grey"
           },
           "mode": "lines",
           "name": "Obstacle",
           "showlegend": false,
           "x": [
            5.1,
            6.4,
            6.4,
            5.1,
            5.1,
            4.9,
            4.9,
            3.6,
            3.6,
            4.9,
            4.9,
            5.1,
            5.1
           ],
           "y": [
            10.1,
            10.1,
            9.9,
            9.9,
            8.6,
            8.6,
            9.9,
            9.9,
            10.1,
            10.1,
            11.5,
            11.5,
            10.1
           ],
           "type": "scatter"
          },
          {
           "fill": "toself",
           "fillcolor": "rgba(200, 0, 0, 0.40)",
           "hoverinfo": "name",
           "line": {
            "width": 0
           },
           "mode": "lines",
           "name": "Risk Area",
           "showlegend": false,
           "x": [
            0.0,
            5.0,
            5.0,
            0.0,
            0.0
           ],
           "y": [
            0.0,
            0.0,
            5.0,
            5.0,
            0.0
           ],
           "type": "scatter"
          },
          {
           "fill": "toself",
           "fillcolor": "rgba(200, 0, 0, 0.10)",
           "hoverinfo": "name",
           "line": {
            "width": 0
           },
           "mode": "lines",
           "name": "Risk Area",
           "showlegend": false,
           "x": [
            5.0,
            10.0,
            10.0,
            5.0,
            5.0
           ],
           "y": [
            0.0,
            0.0,
            5.0,
            5.0,
            0.0
           ],
           "type": "scatter"
          },
          {
           "fill": "toself",
           "fillcolor": "rgba(200, 0, 0, 0.10)",
           "hoverinfo": "name",
           "line": {
            "width": 0
           },
           "mode": "lines",
           "name": "Risk Area",
           "showlegend": false,
           "x": [
            10.0,
            15.0,
            15.0,
            10.0,
            10.0
           ],
           "y": [
            0.0,
            0.0,
            5.0,
            5.0,
            0.0
           ],
           "type": "scatter"
          },
          {
           "fill": "toself",
           "fillcolor": "rgba(200, 0, 0, 0.00)",
           "hoverinfo": "name",
           "line": {
            "width": 0
           },
           "mode": "lines",
           "name": "Risk Area",
           "showlegend": false,
           "x": [
            10.0,
            15.0,
            15.0,
            10.0,
            10.0
           ],
           "y": [
            5.0,
            5.0,
            10.0,
            10.0,
            5.0
           ],
           "type": "scatter"
          },
          {
           "fill": "toself",
           "fillcolor": "rgba(200, 0, 0, 0.60)",
           "hoverinfo": "name",
           "line": {
            "width": 0
           },
           "mode": "lines",
           "name": "Risk Area",
           "showlegend": false,
           "x": [
            5.0,
            10.0,
            10.0,
            5.0,
            5.0
           ],
           "y": [
            5.0,
            5.0,
            10.0,
            10.0,
            5.0
           ],
           "type": "scatter"
          },
          {
           "fill": "toself",
           "fillcolor": "rgba(200, 0, 0, 0.10)",
           "hoverinfo": "name",
           "line": {
            "width": 0
           },
           "mode": "lines",
           "name": "Risk Area",
           "showlegend": false,
           "x": [
            0.0,
            5.0,
            5.0,
            0.0,
            0.0
           ],
           "y": [
            5.0,
            5.0,
            10.0,
            10.0,
            5.0
           ],
           "type": "scatter"
          },
          {
           "fill": "toself",
           "fillcolor": "rgba(200, 0, 0, 0.00)",
           "hoverinfo": "name",
           "line": {
            "width": 0
           },
           "mode": "lines",
           "name": "Risk Area",
           "showlegend": false,
           "x": [
            0.0,
            5.0,
            5.0,
            0.0,
            0.0
           ],
           "y": [
            10.0,
            10.0,
            15.0,
            15.0,
            10.0
           ],
           "type": "scatter"
          },
          {
           "fill": "toself",
           "fillcolor": "rgba(200, 0, 0, 0.30)",
           "hoverinfo": "name",
           "line": {
            "width": 0
           },
           "mode": "lines",
           "name": "Risk Area",
           "showlegend": false,
           "x": [
            5.0,
            10.0,
            10.0,
            5.0,
            5.0
           ],
           "y": [
            10.0,
            10.0,
            15.0,
            15.0,
            10.0
           ],
           "type": "scatter"
          },
          {
           "fill": "toself",
           "fillcolor": "rgba(200, 0, 0, 0.00)",
           "hoverinfo": "name",
           "line": {
            "width": 0
           },
           "mode": "lines",
           "name": "Risk Area",
           "showlegend": false,
           "x": [
            10.0,
            15.0,
            15.0,
            10.0,
            10.0
           ],
           "y": [
            10.0,
            10.0,
            15.0,
            15.0,
            10.0
           ],
           "type": "scatter"
          },
          {
           "hoverinfo": "text",
           "marker": {
            "opacity": 1,
            "size": 1
           },
           "mode": "markers",
           "showlegend": false,
           "text": [
            "ID: 62.0, Pos(10.04,6.96)"
           ],
           "x": [
            10.04237351007158
           ],
           "y": [
            6.961563731125129
           ],
           "type": "scatter"
          },
          {
           "hoverinfo": "text",
           "marker": {
            "opacity": 1,
            "size": 1
           },
           "mode": "markers",
           "showlegend": false,
           "text": [
            "ID: 63.0, Pos(12.82,11.51)"
           ],
           "x": [
            12.824229404685811
           ],
           "y": [
            11.50865233423379
           ],
           "type": "scatter"
          },
          {
           "hoverinfo": "text",
           "marker": {
            "opacity": 1,
            "size": 1
           },
           "mode": "markers",
           "showlegend": false,
           "text": [
            "ID: 66.0, Pos(11.15,7.47)"
           ],
           "x": [
            11.152819946778324
           ],
           "y": [
            7.473749042263343
           ],
           "type": "scatter"
          },
          {
           "hoverinfo": "text",
           "marker": {
            "opacity": 1,
            "size": 1
           },
           "mode": "markers",
           "showlegend": false,
           "text": [
            "ID: 67.0, Pos(12.18,10.07)"
           ],
           "x": [
            12.17586731159846
           ],
           "y": [
            10.069201528773924
           ],
           "type": "scatter"
          },
          {
           "hoverinfo": "text",
           "marker": {
            "opacity": 1,
            "size": 1
           },
           "mode": "markers",
           "showlegend": false,
           "text": [
            "ID: 69.0, Pos(11.65,8.67)"
           ],
           "x": [
            11.650113231197635
           ],
           "y": [
            8.668908237055849
           ],
           "type": "scatter"
          },
          {
           "hoverinfo": "none",
           "marker": {
            "opacity": 0,
            "size": 1
           },
           "mode": "markers",
           "showlegend": false,
           "x": [
            0.0
           ],
           "y": [
            0.0
           ],
           "type": "scatter"
          },
          {
           "hoverinfo": "none",
           "marker": {
            "opacity": 0,
            "size": 1
           },
           "mode": "markers",
           "showlegend": false,
           "x": [
            0.0
           ],
           "y": [
            0.0
           ],
           "type": "scatter"
          },
          {
           "hoverinfo": "none",
           "marker": {
            "opacity": 0,
            "size": 1
           },
           "mode": "markers",
           "showlegend": false,
           "x": [
            0.0
           ],
           "y": [
            0.0
           ],
           "type": "scatter"
          },
          {
           "hoverinfo": "none",
           "marker": {
            "opacity": 0,
            "size": 1
           },
           "mode": "markers",
           "showlegend": false,
           "x": [
            0.0
           ],
           "y": [
            0.0
           ],
           "type": "scatter"
          },
          {
           "hoverinfo": "none",
           "marker": {
            "opacity": 0,
            "size": 1
           },
           "mode": "markers",
           "showlegend": false,
           "x": [
            0.0
           ],
           "y": [
            0.0
           ],
           "type": "scatter"
          }
         ],
         "layout": {
          "shapes": [
           {
            "fillcolor": "rgba(0, 220, 254, 0.5)",
            "line": {
             "color": "rgba(0, 220, 254, 0.5)"
            },
            "type": "circle",
            "x0": 9.84237351007158,
            "x1": 10.242373510071578,
            "xref": "x",
            "y0": 6.761563731125129,
            "y1": 7.1615637311251295,
            "yref": "y"
           },
           {
            "fillcolor": "rgba(0, 0, 128, 0.5)",
            "line": {
             "color": "rgba(0, 0, 128, 0.5)"
            },
            "type": "circle",
            "x0": 12.624229404685812,
            "x1": 13.02422940468581,
            "xref": "x",
            "y0": 11.308652334233791,
            "y1": 11.70865233423379,
            "yref": "y"
           },
           {
            "fillcolor": "rgba(0, 156, 255, 0.5)",
            "line": {
             "color": "rgba(0, 156, 255, 0.5)"
            },
            "type": "circle",
            "x0": 10.952819946778325,
            "x1": 11.352819946778324,
            "xref": "x",
            "y0": 7.273749042263343,
            "y1": 7.673749042263343,
            "yref": "y"
           },
           {
            "fillcolor": "rgba(0, 0, 146, 0.5)",
            "line": {
             "color": "rgba(0, 0, 146, 0.5)"
            },
            "type": "circle",
            "x0": 11.97586731159846,
            "x1": 12.375867311598459,
            "xref": "x",
            "y0": 9.869201528773925,
            "y1": 10.269201528773923,
            "yref": "y"
           },
           {
            "fillcolor": "rgba(0, 0, 237, 0.5)",
            "line": {
             "color": "rgba(0, 0, 237, 0.5)"
            },
            "type": "circle",
            "x0": 11.450113231197635,
            "x1": 11.850113231197634,
            "xref": "x",
            "y0": 8.46890823705585,
            "y1": 8.868908237055848,
            "yref": "y"
           },
           {
            "fillcolor": "rgba(255,255,255,0)",
            "line": {
             "width": 0
            },
            "type": "circle",
            "x0": 0.0,
            "x1": 0.0,
            "xref": "x",
            "y0": 0.0,
            "y1": 0.0,
            "yref": "y"
           },
           {
            "fillcolor": "rgba(255,255,255,0)",
            "line": {
             "width": 0
            },
            "type": "circle",
            "x0": 0.0,
            "x1": 0.0,
            "xref": "x",
            "y0": 0.0,
            "y1": 0.0,
            "yref": "y"
           },
           {
            "fillcolor": "rgba(255,255,255,0)",
            "line": {
             "width": 0
            },
            "type": "circle",
            "x0": 0.0,
            "x1": 0.0,
            "xref": "x",
            "y0": 0.0,
            "y1": 0.0,
            "yref": "y"
           },
           {
            "fillcolor": "rgba(255,255,255,0)",
            "line": {
             "width": 0
            },
            "type": "circle",
            "x0": 0.0,
            "x1": 0.0,
            "xref": "x",
            "y0": 0.0,
            "y1": 0.0,
            "yref": "y"
           },
           {
            "fillcolor": "rgba(255,255,255,0)",
            "line": {
             "width": 0
            },
            "type": "circle",
            "x0": 0.0,
            "x1": 0.0,
            "xref": "x",
            "y0": 0.0,
            "y1": 0.0,
            "yref": "y"
           },
           {
            "line": {
             "color": "black",
             "width": 3
            },
            "type": "line",
            "x0": 10.04237351007158,
            "x1": 10.234461759394602,
            "y0": 6.961563731125129,
            "y1": 7.017260270263716
           },
           {
            "line": {
             "color": "white",
             "width": 3
            },
            "type": "line",
            "x0": 12.824229404685811,
            "x1": 12.900581308834951,
            "y0": 11.50865233423379,
            "y1": 11.693504671878735
           },
           {
            "line": {
             "color": "white",
             "width": 3
            },
            "type": "line",
            "x0": 11.152819946778324,
            "x1": 11.22937964097902,
            "y0": 7.473749042263343,
            "y1": 7.6585154169744785
           },
           {
            "line": {
             "color": "white",
             "width": 3
            },
            "type": "line",
            "x0": 12.17586731159846,
            "x1": 12.25467806276522,
            "y0": 10.069201528773924,
            "y1": 10.25301900754167
           },
           {
            "line": {
             "color": "white",
             "width": 3
            },
            "type": "line",
            "x0": 11.650113231197635,
            "x1": 11.726502202925278,
            "y0": 8.668908237055849,
            "y1": 8.853745259858082
           },
           {
            "line": {
             "color": "rgba(255,255,255,0)",
             "width": 3
            },
            "type": "line",
            "x0": 0.0,
            "x1": null,
            "y0": 0.0,
            "y1": null
           },
           {
            "line": {
             "color": "rgba(255,255,255,0)",
             "width": 3
            },
            "type": "line",
            "x0": 0.0,
            "x1": null,
            "y0": 0.0,
            "y1": null
           },
           {
            "line": {
             "color": "rgba(255,255,255,0)",
             "width": 3
            },
            "type": "line",
            "x0": 0.0,
            "x1": null,
            "y0": 0.0,
            "y1": null
           },
           {
            "line": {
             "color": "rgba(255,255,255,0)",
             "width": 3
            },
            "type": "line",
            "x0": 0.0,
            "x1": null,
            "y0": 0.0,
            "y1": null
           },
           {
            "line": {
             "color": "rgba(255,255,255,0)",
             "width": 3
            },
            "type": "line",
            "x0": 0.0,
            "x1": null,
            "y0": 0.0,
            "y1": null
           }
          ],
          "title": {
           "text": "<b>Percentage using the shortest path: 0%  |  Number of Agents: 5</b>",
           "x": 0.5
          }
         },
         "name": "950"
        },
        {
         "data": [
          {
           "hoverinfo": "name",
           "line": {
            "color": "grey"
           },
           "mode": "lines",
           "name": "Exterior",
           "showlegend": false,
           "x": [
            10.1,
            10.1,
            15.0,
            15.0,
            13.6,
            13.6,
            15.0,
            15.0,
            13.6,
            13.6,
            15.0,
            15.0,
            10.1,
            10.1,
            9.9,
            9.9,
            5.1,
            5.1,
            4.9,
            4.9,
            0.0,
            0.0,
            1.5,
            1.5,
            0.0,
            0.0,
            1.5,
            1.5,
            0.0,
            0.0,
            4.9,
            4.9,
            5.1,
            5.1,
            9.9,
            9.9,
            10.1
           ],
           "y": [
            1.5,
            0.0,
            0.0,
            4.9,
            4.9,
            5.1,
            5.1,
            9.9,
            9.9,
            10.1,
            10.1,
            15.0,
            15.0,
            13.6,
            13.6,
            15.0,
            15.0,
            13.6,
            13.6,
            15.0,
            15.0,
            10.1,
            10.1,
            9.9,
            9.9,
            5.1,
            5.1,
            4.9,
            4.9,
            0.0,
            0.0,
            1.5,
            1.5,
            0.0,
            0.0,
            1.5,
            1.5
           ],
           "type": "scatter"
          },
          {
           "hoverinfo": "name",
           "line": {
            "color": "grey"
           },
           "mode": "lines",
           "name": "Obstacle",
           "showlegend": false,
           "x": [
            10.1,
            11.5,
            11.5,
            10.1,
            10.1,
            9.9,
            9.9,
            8.6,
            8.6,
            9.9,
            9.9,
            10.1,
            10.1
           ],
           "y": [
            5.1,
            5.1,
            4.9,
            4.9,
            3.6,
            3.6,
            4.9,
            4.9,
            5.1,
            5.1,
            6.5,
            6.5,
            5.1
           ],
           "type": "scatter"
          },
          {
           "hoverinfo": "name",
           "line": {
            "color": "grey"
           },
           "mode": "lines",
           "name": "Obstacle",
           "showlegend": false,
           "x": [
            10.1,
            11.5,
            11.5,
            10.1,
            10.1,
            9.9,
            9.9,
            8.6,
            8.6,
            9.9,
            9.9,
            10.1,
            10.1
           ],
           "y": [
            10.1,
            10.1,
            9.9,
            9.9,
            8.6,
            8.6,
            9.9,
            9.9,
            10.1,
            10.1,
            11.5,
            11.5,
            10.1
           ],
           "type": "scatter"
          },
          {
           "hoverinfo": "name",
           "line": {
            "color": "grey"
           },
           "mode": "lines",
           "name": "Obstacle",
           "showlegend": false,
           "x": [
            5.1,
            6.4,
            6.4,
            5.1,
            5.1,
            4.9,
            4.9,
            3.6,
            3.6,
            4.9,
            4.9,
            5.1,
            5.1
           ],
           "y": [
            5.1,
            5.1,
            4.9,
            4.9,
            3.6,
            3.6,
            4.9,
            4.9,
            5.1,
            5.1,
            6.5,
            6.5,
            5.1
           ],
           "type": "scatter"
          },
          {
           "hoverinfo": "name",
           "line": {
            "color": "grey"
           },
           "mode": "lines",
           "name": "Obstacle",
           "showlegend": false,
           "x": [
            5.1,
            6.4,
            6.4,
            5.1,
            5.1,
            4.9,
            4.9,
            3.6,
            3.6,
            4.9,
            4.9,
            5.1,
            5.1
           ],
           "y": [
            10.1,
            10.1,
            9.9,
            9.9,
            8.6,
            8.6,
            9.9,
            9.9,
            10.1,
            10.1,
            11.5,
            11.5,
            10.1
           ],
           "type": "scatter"
          },
          {
           "fill": "toself",
           "fillcolor": "rgba(200, 0, 0, 0.40)",
           "hoverinfo": "name",
           "line": {
            "width": 0
           },
           "mode": "lines",
           "name": "Risk Area",
           "showlegend": false,
           "x": [
            0.0,
            5.0,
            5.0,
            0.0,
            0.0
           ],
           "y": [
            0.0,
            0.0,
            5.0,
            5.0,
            0.0
           ],
           "type": "scatter"
          },
          {
           "fill": "toself",
           "fillcolor": "rgba(200, 0, 0, 0.10)",
           "hoverinfo": "name",
           "line": {
            "width": 0
           },
           "mode": "lines",
           "name": "Risk Area",
           "showlegend": false,
           "x": [
            5.0,
            10.0,
            10.0,
            5.0,
            5.0
           ],
           "y": [
            0.0,
            0.0,
            5.0,
            5.0,
            0.0
           ],
           "type": "scatter"
          },
          {
           "fill": "toself",
           "fillcolor": "rgba(200, 0, 0, 0.10)",
           "hoverinfo": "name",
           "line": {
            "width": 0
           },
           "mode": "lines",
           "name": "Risk Area",
           "showlegend": false,
           "x": [
            10.0,
            15.0,
            15.0,
            10.0,
            10.0
           ],
           "y": [
            0.0,
            0.0,
            5.0,
            5.0,
            0.0
           ],
           "type": "scatter"
          },
          {
           "fill": "toself",
           "fillcolor": "rgba(200, 0, 0, 0.00)",
           "hoverinfo": "name",
           "line": {
            "width": 0
           },
           "mode": "lines",
           "name": "Risk Area",
           "showlegend": false,
           "x": [
            10.0,
            15.0,
            15.0,
            10.0,
            10.0
           ],
           "y": [
            5.0,
            5.0,
            10.0,
            10.0,
            5.0
           ],
           "type": "scatter"
          },
          {
           "fill": "toself",
           "fillcolor": "rgba(200, 0, 0, 0.60)",
           "hoverinfo": "name",
           "line": {
            "width": 0
           },
           "mode": "lines",
           "name": "Risk Area",
           "showlegend": false,
           "x": [
            5.0,
            10.0,
            10.0,
            5.0,
            5.0
           ],
           "y": [
            5.0,
            5.0,
            10.0,
            10.0,
            5.0
           ],
           "type": "scatter"
          },
          {
           "fill": "toself",
           "fillcolor": "rgba(200, 0, 0, 0.10)",
           "hoverinfo": "name",
           "line": {
            "width": 0
           },
           "mode": "lines",
           "name": "Risk Area",
           "showlegend": false,
           "x": [
            0.0,
            5.0,
            5.0,
            0.0,
            0.0
           ],
           "y": [
            5.0,
            5.0,
            10.0,
            10.0,
            5.0
           ],
           "type": "scatter"
          },
          {
           "fill": "toself",
           "fillcolor": "rgba(200, 0, 0, 0.00)",
           "hoverinfo": "name",
           "line": {
            "width": 0
           },
           "mode": "lines",
           "name": "Risk Area",
           "showlegend": false,
           "x": [
            0.0,
            5.0,
            5.0,
            0.0,
            0.0
           ],
           "y": [
            10.0,
            10.0,
            15.0,
            15.0,
            10.0
           ],
           "type": "scatter"
          },
          {
           "fill": "toself",
           "fillcolor": "rgba(200, 0, 0, 0.30)",
           "hoverinfo": "name",
           "line": {
            "width": 0
           },
           "mode": "lines",
           "name": "Risk Area",
           "showlegend": false,
           "x": [
            5.0,
            10.0,
            10.0,
            5.0,
            5.0
           ],
           "y": [
            10.0,
            10.0,
            15.0,
            15.0,
            10.0
           ],
           "type": "scatter"
          },
          {
           "fill": "toself",
           "fillcolor": "rgba(200, 0, 0, 0.00)",
           "hoverinfo": "name",
           "line": {
            "width": 0
           },
           "mode": "lines",
           "name": "Risk Area",
           "showlegend": false,
           "x": [
            10.0,
            15.0,
            15.0,
            10.0,
            10.0
           ],
           "y": [
            10.0,
            10.0,
            15.0,
            15.0,
            10.0
           ],
           "type": "scatter"
          },
          {
           "hoverinfo": "text",
           "marker": {
            "opacity": 1,
            "size": 1
           },
           "mode": "markers",
           "showlegend": false,
           "text": [
            "ID: 62.0, Pos(11.06,7.24)"
           ],
           "x": [
            11.063068109962376
           ],
           "y": [
            7.244587565304496
           ],
           "type": "scatter"
          },
          {
           "hoverinfo": "text",
           "marker": {
            "opacity": 1,
            "size": 1
           },
           "mode": "markers",
           "showlegend": false,
           "text": [
            "ID: 66.0, Pos(11.53,8.38)"
           ],
           "x": [
            11.526800438008676
           ],
           "y": [
            8.376649726678384
           ],
           "type": "scatter"
          },
          {
           "hoverinfo": "text",
           "marker": {
            "opacity": 1,
            "size": 1
           },
           "mode": "markers",
           "showlegend": false,
           "text": [
            "ID: 67.0, Pos(12.64,11.16)"
           ],
           "x": [
            12.642766286930204
           ],
           "y": [
            11.16079813883435
           ],
           "type": "scatter"
          },
          {
           "hoverinfo": "text",
           "marker": {
            "opacity": 1,
            "size": 1
           },
           "mode": "markers",
           "showlegend": false,
           "text": [
            "ID: 69.0, Pos(12.08,9.71)"
           ],
           "x": [
            12.081694512309523
           ],
           "y": [
            9.711282744426862
           ],
           "type": "scatter"
          },
          {
           "hoverinfo": "none",
           "marker": {
            "opacity": 0,
            "size": 1
           },
           "mode": "markers",
           "showlegend": false,
           "x": [
            0.0
           ],
           "y": [
            0.0
           ],
           "type": "scatter"
          },
          {
           "hoverinfo": "none",
           "marker": {
            "opacity": 0,
            "size": 1
           },
           "mode": "markers",
           "showlegend": false,
           "x": [
            0.0
           ],
           "y": [
            0.0
           ],
           "type": "scatter"
          },
          {
           "hoverinfo": "none",
           "marker": {
            "opacity": 0,
            "size": 1
           },
           "mode": "markers",
           "showlegend": false,
           "x": [
            0.0
           ],
           "y": [
            0.0
           ],
           "type": "scatter"
          },
          {
           "hoverinfo": "none",
           "marker": {
            "opacity": 0,
            "size": 1
           },
           "mode": "markers",
           "showlegend": false,
           "x": [
            0.0
           ],
           "y": [
            0.0
           ],
           "type": "scatter"
          },
          {
           "hoverinfo": "none",
           "marker": {
            "opacity": 0,
            "size": 1
           },
           "mode": "markers",
           "showlegend": false,
           "x": [
            0.0
           ],
           "y": [
            0.0
           ],
           "type": "scatter"
          },
          {
           "hoverinfo": "none",
           "marker": {
            "opacity": 0,
            "size": 1
           },
           "mode": "markers",
           "showlegend": false,
           "x": [
            0.0
           ],
           "y": [
            0.0
           ],
           "type": "scatter"
          }
         ],
         "layout": {
          "shapes": [
           {
            "fillcolor": "rgba(0, 224, 251, 0.5)",
            "line": {
             "color": "rgba(0, 224, 251, 0.5)"
            },
            "type": "circle",
            "x0": 10.863068109962377,
            "x1": 11.263068109962376,
            "xref": "x",
            "y0": 7.044587565304496,
            "y1": 7.444587565304496,
            "yref": "y"
           },
           {
            "fillcolor": "rgba(0, 13, 255, 0.5)",
            "line": {
             "color": "rgba(0, 13, 255, 0.5)"
            },
            "type": "circle",
            "x0": 11.326800438008677,
            "x1": 11.726800438008675,
            "xref": "x",
            "y0": 8.176649726678384,
            "y1": 8.576649726678383,
            "yref": "y"
           },
           {
            "fillcolor": "rgba(0, 0, 128, 0.5)",
            "line": {
             "color": "rgba(0, 0, 128, 0.5)"
            },
            "type": "circle",
            "x0": 12.442766286930205,
            "x1": 12.842766286930203,
            "xref": "x",
            "y0": 10.96079813883435,
            "y1": 11.36079813883435,
            "yref": "y"
           },
           {
            "fillcolor": "rgba(0, 0, 173, 0.5)",
            "line": {
             "color": "rgba(0, 0, 173, 0.5)"
            },
            "type": "circle",
            "x0": 11.881694512309524,
            "x1": 12.281694512309523,
            "xref": "x",
            "y0": 9.511282744426863,
            "y1": 9.911282744426861,
            "yref": "y"
           },
           {
            "fillcolor": "rgba(255,255,255,0)",
            "line": {
             "width": 0
            },
            "type": "circle",
            "x0": 0.0,
            "x1": 0.0,
            "xref": "x",
            "y0": 0.0,
            "y1": 0.0,
            "yref": "y"
           },
           {
            "fillcolor": "rgba(255,255,255,0)",
            "line": {
             "width": 0
            },
            "type": "circle",
            "x0": 0.0,
            "x1": 0.0,
            "xref": "x",
            "y0": 0.0,
            "y1": 0.0,
            "yref": "y"
           },
           {
            "fillcolor": "rgba(255,255,255,0)",
            "line": {
             "width": 0
            },
            "type": "circle",
            "x0": 0.0,
            "x1": 0.0,
            "xref": "x",
            "y0": 0.0,
            "y1": 0.0,
            "yref": "y"
           },
           {
            "fillcolor": "rgba(255,255,255,0)",
            "line": {
             "width": 0
            },
            "type": "circle",
            "x0": 0.0,
            "x1": 0.0,
            "xref": "x",
            "y0": 0.0,
            "y1": 0.0,
            "yref": "y"
           },
           {
            "fillcolor": "rgba(255,255,255,0)",
            "line": {
             "width": 0
            },
            "type": "circle",
            "x0": 0.0,
            "x1": 0.0,
            "xref": "x",
            "y0": 0.0,
            "y1": 0.0,
            "yref": "y"
           },
           {
            "fillcolor": "rgba(255,255,255,0)",
            "line": {
             "width": 0
            },
            "type": "circle",
            "x0": 0.0,
            "x1": 0.0,
            "xref": "x",
            "y0": 0.0,
            "y1": 0.0,
            "yref": "y"
           },
           {
            "line": {
             "color": "black",
             "width": 3
            },
            "type": "line",
            "x0": 11.063068109962376,
            "x1": 11.139418423680858,
            "y0": 7.244587565304496,
            "y1": 7.429440559857166
           },
           {
            "line": {
             "color": "white",
             "width": 3
            },
            "type": "line",
            "x0": 11.526800438008676,
            "x1": 11.603262808944441,
            "y0": 8.376649726678384,
            "y1": 8.56145639817831
           },
           {
            "line": {
             "color": "white",
             "width": 3
            },
            "type": "line",
            "x0": 12.642766286930204,
            "x1": 12.72140450202815,
            "y0": 11.16079813883435,
            "y1": 11.344689495689993
           },
           {
            "line": {
             "color": "white",
             "width": 3
            },
            "type": "line",
            "x0": 12.081694512309523,
            "x1": 12.158588345486057,
            "y0": 9.711282744426862,
            "y1": 9.89591031121855
           },
           {
            "line": {
             "color": "rgba(255,255,255,0)",
             "width": 3
            },
            "type": "line",
            "x0": 0.0,
            "x1": null,
            "y0": 0.0,
            "y1": null
           },
           {
            "line": {
             "color": "rgba(255,255,255,0)",
             "width": 3
            },
            "type": "line",
            "x0": 0.0,
            "x1": null,
            "y0": 0.0,
            "y1": null
           },
           {
            "line": {
             "color": "rgba(255,255,255,0)",
             "width": 3
            },
            "type": "line",
            "x0": 0.0,
            "x1": null,
            "y0": 0.0,
            "y1": null
           },
           {
            "line": {
             "color": "rgba(255,255,255,0)",
             "width": 3
            },
            "type": "line",
            "x0": 0.0,
            "x1": null,
            "y0": 0.0,
            "y1": null
           },
           {
            "line": {
             "color": "rgba(255,255,255,0)",
             "width": 3
            },
            "type": "line",
            "x0": 0.0,
            "x1": null,
            "y0": 0.0,
            "y1": null
           },
           {
            "line": {
             "color": "rgba(255,255,255,0)",
             "width": 3
            },
            "type": "line",
            "x0": 0.0,
            "x1": null,
            "y0": 0.0,
            "y1": null
           }
          ],
          "title": {
           "text": "<b>Percentage using the shortest path: 0%  |  Number of Agents: 4</b>",
           "x": 0.5
          }
         },
         "name": "1000"
        },
        {
         "data": [
          {
           "hoverinfo": "name",
           "line": {
            "color": "grey"
           },
           "mode": "lines",
           "name": "Exterior",
           "showlegend": false,
           "x": [
            10.1,
            10.1,
            15.0,
            15.0,
            13.6,
            13.6,
            15.0,
            15.0,
            13.6,
            13.6,
            15.0,
            15.0,
            10.1,
            10.1,
            9.9,
            9.9,
            5.1,
            5.1,
            4.9,
            4.9,
            0.0,
            0.0,
            1.5,
            1.5,
            0.0,
            0.0,
            1.5,
            1.5,
            0.0,
            0.0,
            4.9,
            4.9,
            5.1,
            5.1,
            9.9,
            9.9,
            10.1
           ],
           "y": [
            1.5,
            0.0,
            0.0,
            4.9,
            4.9,
            5.1,
            5.1,
            9.9,
            9.9,
            10.1,
            10.1,
            15.0,
            15.0,
            13.6,
            13.6,
            15.0,
            15.0,
            13.6,
            13.6,
            15.0,
            15.0,
            10.1,
            10.1,
            9.9,
            9.9,
            5.1,
            5.1,
            4.9,
            4.9,
            0.0,
            0.0,
            1.5,
            1.5,
            0.0,
            0.0,
            1.5,
            1.5
           ],
           "type": "scatter"
          },
          {
           "hoverinfo": "name",
           "line": {
            "color": "grey"
           },
           "mode": "lines",
           "name": "Obstacle",
           "showlegend": false,
           "x": [
            10.1,
            11.5,
            11.5,
            10.1,
            10.1,
            9.9,
            9.9,
            8.6,
            8.6,
            9.9,
            9.9,
            10.1,
            10.1
           ],
           "y": [
            5.1,
            5.1,
            4.9,
            4.9,
            3.6,
            3.6,
            4.9,
            4.9,
            5.1,
            5.1,
            6.5,
            6.5,
            5.1
           ],
           "type": "scatter"
          },
          {
           "hoverinfo": "name",
           "line": {
            "color": "grey"
           },
           "mode": "lines",
           "name": "Obstacle",
           "showlegend": false,
           "x": [
            10.1,
            11.5,
            11.5,
            10.1,
            10.1,
            9.9,
            9.9,
            8.6,
            8.6,
            9.9,
            9.9,
            10.1,
            10.1
           ],
           "y": [
            10.1,
            10.1,
            9.9,
            9.9,
            8.6,
            8.6,
            9.9,
            9.9,
            10.1,
            10.1,
            11.5,
            11.5,
            10.1
           ],
           "type": "scatter"
          },
          {
           "hoverinfo": "name",
           "line": {
            "color": "grey"
           },
           "mode": "lines",
           "name": "Obstacle",
           "showlegend": false,
           "x": [
            5.1,
            6.4,
            6.4,
            5.1,
            5.1,
            4.9,
            4.9,
            3.6,
            3.6,
            4.9,
            4.9,
            5.1,
            5.1
           ],
           "y": [
            5.1,
            5.1,
            4.9,
            4.9,
            3.6,
            3.6,
            4.9,
            4.9,
            5.1,
            5.1,
            6.5,
            6.5,
            5.1
           ],
           "type": "scatter"
          },
          {
           "hoverinfo": "name",
           "line": {
            "color": "grey"
           },
           "mode": "lines",
           "name": "Obstacle",
           "showlegend": false,
           "x": [
            5.1,
            6.4,
            6.4,
            5.1,
            5.1,
            4.9,
            4.9,
            3.6,
            3.6,
            4.9,
            4.9,
            5.1,
            5.1
           ],
           "y": [
            10.1,
            10.1,
            9.9,
            9.9,
            8.6,
            8.6,
            9.9,
            9.9,
            10.1,
            10.1,
            11.5,
            11.5,
            10.1
           ],
           "type": "scatter"
          },
          {
           "fill": "toself",
           "fillcolor": "rgba(200, 0, 0, 0.40)",
           "hoverinfo": "name",
           "line": {
            "width": 0
           },
           "mode": "lines",
           "name": "Risk Area",
           "showlegend": false,
           "x": [
            0.0,
            5.0,
            5.0,
            0.0,
            0.0
           ],
           "y": [
            0.0,
            0.0,
            5.0,
            5.0,
            0.0
           ],
           "type": "scatter"
          },
          {
           "fill": "toself",
           "fillcolor": "rgba(200, 0, 0, 0.10)",
           "hoverinfo": "name",
           "line": {
            "width": 0
           },
           "mode": "lines",
           "name": "Risk Area",
           "showlegend": false,
           "x": [
            5.0,
            10.0,
            10.0,
            5.0,
            5.0
           ],
           "y": [
            0.0,
            0.0,
            5.0,
            5.0,
            0.0
           ],
           "type": "scatter"
          },
          {
           "fill": "toself",
           "fillcolor": "rgba(200, 0, 0, 0.10)",
           "hoverinfo": "name",
           "line": {
            "width": 0
           },
           "mode": "lines",
           "name": "Risk Area",
           "showlegend": false,
           "x": [
            10.0,
            15.0,
            15.0,
            10.0,
            10.0
           ],
           "y": [
            0.0,
            0.0,
            5.0,
            5.0,
            0.0
           ],
           "type": "scatter"
          },
          {
           "fill": "toself",
           "fillcolor": "rgba(200, 0, 0, 0.00)",
           "hoverinfo": "name",
           "line": {
            "width": 0
           },
           "mode": "lines",
           "name": "Risk Area",
           "showlegend": false,
           "x": [
            10.0,
            15.0,
            15.0,
            10.0,
            10.0
           ],
           "y": [
            5.0,
            5.0,
            10.0,
            10.0,
            5.0
           ],
           "type": "scatter"
          },
          {
           "fill": "toself",
           "fillcolor": "rgba(200, 0, 0, 0.60)",
           "hoverinfo": "name",
           "line": {
            "width": 0
           },
           "mode": "lines",
           "name": "Risk Area",
           "showlegend": false,
           "x": [
            5.0,
            10.0,
            10.0,
            5.0,
            5.0
           ],
           "y": [
            5.0,
            5.0,
            10.0,
            10.0,
            5.0
           ],
           "type": "scatter"
          },
          {
           "fill": "toself",
           "fillcolor": "rgba(200, 0, 0, 0.10)",
           "hoverinfo": "name",
           "line": {
            "width": 0
           },
           "mode": "lines",
           "name": "Risk Area",
           "showlegend": false,
           "x": [
            0.0,
            5.0,
            5.0,
            0.0,
            0.0
           ],
           "y": [
            5.0,
            5.0,
            10.0,
            10.0,
            5.0
           ],
           "type": "scatter"
          },
          {
           "fill": "toself",
           "fillcolor": "rgba(200, 0, 0, 0.00)",
           "hoverinfo": "name",
           "line": {
            "width": 0
           },
           "mode": "lines",
           "name": "Risk Area",
           "showlegend": false,
           "x": [
            0.0,
            5.0,
            5.0,
            0.0,
            0.0
           ],
           "y": [
            10.0,
            10.0,
            15.0,
            15.0,
            10.0
           ],
           "type": "scatter"
          },
          {
           "fill": "toself",
           "fillcolor": "rgba(200, 0, 0, 0.30)",
           "hoverinfo": "name",
           "line": {
            "width": 0
           },
           "mode": "lines",
           "name": "Risk Area",
           "showlegend": false,
           "x": [
            5.0,
            10.0,
            10.0,
            5.0,
            5.0
           ],
           "y": [
            10.0,
            10.0,
            15.0,
            15.0,
            10.0
           ],
           "type": "scatter"
          },
          {
           "fill": "toself",
           "fillcolor": "rgba(200, 0, 0, 0.00)",
           "hoverinfo": "name",
           "line": {
            "width": 0
           },
           "mode": "lines",
           "name": "Risk Area",
           "showlegend": false,
           "x": [
            10.0,
            15.0,
            15.0,
            10.0,
            10.0
           ],
           "y": [
            10.0,
            10.0,
            15.0,
            15.0,
            10.0
           ],
           "type": "scatter"
          },
          {
           "hoverinfo": "text",
           "marker": {
            "opacity": 1,
            "size": 1
           },
           "mode": "markers",
           "showlegend": false,
           "text": [
            "ID: 62.0, Pos(11.41,8.09)"
           ],
           "x": [
            11.413156324156617
           ],
           "y": [
            8.092195101766029
           ],
           "type": "scatter"
          },
          {
           "hoverinfo": "text",
           "marker": {
            "opacity": 1,
            "size": 1
           },
           "mode": "markers",
           "showlegend": false,
           "text": [
            "ID: 66.0, Pos(11.94,9.38)"
           ],
           "x": [
            11.943575042669474
           ],
           "y": [
            9.383840388178676
           ],
           "type": "scatter"
          },
          {
           "hoverinfo": "text",
           "marker": {
            "opacity": 1,
            "size": 1
           },
           "mode": "markers",
           "showlegend": false,
           "text": [
            "ID: 67.0, Pos(13.11,12.26)"
           ],
           "x": [
            13.114596027854693
           ],
           "y": [
            12.264146087388688
           ],
           "type": "scatter"
          },
          {
           "hoverinfo": "text",
           "marker": {
            "opacity": 1,
            "size": 1
           },
           "mode": "markers",
           "showlegend": false,
           "text": [
            "ID: 69.0, Pos(12.53,10.79)"
           ],
           "x": [
            12.529163503042218
           ],
           "y": [
            10.793357486784949
           ],
           "type": "scatter"
          },
          {
           "hoverinfo": "none",
           "marker": {
            "opacity": 0,
            "size": 1
           },
           "mode": "markers",
           "showlegend": false,
           "x": [
            0.0
           ],
           "y": [
            0.0
           ],
           "type": "scatter"
          },
          {
           "hoverinfo": "none",
           "marker": {
            "opacity": 0,
            "size": 1
           },
           "mode": "markers",
           "showlegend": false,
           "x": [
            0.0
           ],
           "y": [
            0.0
           ],
           "type": "scatter"
          },
          {
           "hoverinfo": "none",
           "marker": {
            "opacity": 0,
            "size": 1
           },
           "mode": "markers",
           "showlegend": false,
           "x": [
            0.0
           ],
           "y": [
            0.0
           ],
           "type": "scatter"
          },
          {
           "hoverinfo": "none",
           "marker": {
            "opacity": 0,
            "size": 1
           },
           "mode": "markers",
           "showlegend": false,
           "x": [
            0.0
           ],
           "y": [
            0.0
           ],
           "type": "scatter"
          },
          {
           "hoverinfo": "none",
           "marker": {
            "opacity": 0,
            "size": 1
           },
           "mode": "markers",
           "showlegend": false,
           "x": [
            0.0
           ],
           "y": [
            0.0
           ],
           "type": "scatter"
          },
          {
           "hoverinfo": "none",
           "marker": {
            "opacity": 0,
            "size": 1
           },
           "mode": "markers",
           "showlegend": false,
           "x": [
            0.0
           ],
           "y": [
            0.0
           ],
           "type": "scatter"
          }
         ],
         "layout": {
          "shapes": [
           {
            "fillcolor": "rgba(0, 61, 255, 0.5)",
            "line": {
             "color": "rgba(0, 61, 255, 0.5)"
            },
            "type": "circle",
            "x0": 11.213156324156618,
            "x1": 11.613156324156616,
            "xref": "x",
            "y0": 7.892195101766029,
            "y1": 8.292195101766028,
            "yref": "y"
           },
           {
            "fillcolor": "rgba(0, 0, 205, 0.5)",
            "line": {
             "color": "rgba(0, 0, 205, 0.5)"
            },
            "type": "circle",
            "x0": 11.743575042669475,
            "x1": 12.143575042669474,
            "xref": "x",
            "y0": 9.183840388178677,
            "y1": 9.583840388178675,
            "yref": "y"
           },
           {
            "fillcolor": "rgba(0, 0, 128, 0.5)",
            "line": {
             "color": "rgba(0, 0, 128, 0.5)"
            },
            "type": "circle",
            "x0": 12.914596027854694,
            "x1": 13.314596027854693,
            "xref": "x",
            "y0": 12.06414608738869,
            "y1": 12.464146087388688,
            "yref": "y"
           },
           {
            "fillcolor": "rgba(0, 0, 141, 0.5)",
            "line": {
             "color": "rgba(0, 0, 141, 0.5)"
            },
            "type": "circle",
            "x0": 12.329163503042219,
            "x1": 12.729163503042217,
            "xref": "x",
            "y0": 10.59335748678495,
            "y1": 10.993357486784948,
            "yref": "y"
           },
           {
            "fillcolor": "rgba(255,255,255,0)",
            "line": {
             "width": 0
            },
            "type": "circle",
            "x0": 0.0,
            "x1": 0.0,
            "xref": "x",
            "y0": 0.0,
            "y1": 0.0,
            "yref": "y"
           },
           {
            "fillcolor": "rgba(255,255,255,0)",
            "line": {
             "width": 0
            },
            "type": "circle",
            "x0": 0.0,
            "x1": 0.0,
            "xref": "x",
            "y0": 0.0,
            "y1": 0.0,
            "yref": "y"
           },
           {
            "fillcolor": "rgba(255,255,255,0)",
            "line": {
             "width": 0
            },
            "type": "circle",
            "x0": 0.0,
            "x1": 0.0,
            "xref": "x",
            "y0": 0.0,
            "y1": 0.0,
            "yref": "y"
           },
           {
            "fillcolor": "rgba(255,255,255,0)",
            "line": {
             "width": 0
            },
            "type": "circle",
            "x0": 0.0,
            "x1": 0.0,
            "xref": "x",
            "y0": 0.0,
            "y1": 0.0,
            "yref": "y"
           },
           {
            "fillcolor": "rgba(255,255,255,0)",
            "line": {
             "width": 0
            },
            "type": "circle",
            "x0": 0.0,
            "x1": 0.0,
            "xref": "x",
            "y0": 0.0,
            "y1": 0.0,
            "yref": "y"
           },
           {
            "fillcolor": "rgba(255,255,255,0)",
            "line": {
             "width": 0
            },
            "type": "circle",
            "x0": 0.0,
            "x1": 0.0,
            "xref": "x",
            "y0": 0.0,
            "y1": 0.0,
            "yref": "y"
           },
           {
            "line": {
             "color": "white",
             "width": 3
            },
            "type": "line",
            "x0": 11.413156324156617,
            "x1": 11.489506287663161,
            "y0": 8.092195101766029,
            "y1": 8.27704824096726
           },
           {
            "line": {
             "color": "white",
             "width": 3
            },
            "type": "line",
            "x0": 11.943575042669474,
            "x1": 12.020142349890556,
            "y0": 9.383840388178676,
            "y1": 9.568603608179066
           },
           {
            "line": {
             "color": "white",
             "width": 3
            },
            "type": "line",
            "x0": 13.114596027854693,
            "x1": 13.19323438138785,
            "y0": 12.264146087388688,
            "y1": 12.448037385044653
           },
           {
            "line": {
             "color": "white",
             "width": 3
            },
            "type": "line",
            "x0": 12.529163503042218,
            "x1": 12.605495006696366,
            "y0": 10.793357486784949,
            "y1": 10.97821824938723
           },
           {
            "line": {
             "color": "rgba(255,255,255,0)",
             "width": 3
            },
            "type": "line",
            "x0": 0.0,
            "x1": null,
            "y0": 0.0,
            "y1": null
           },
           {
            "line": {
             "color": "rgba(255,255,255,0)",
             "width": 3
            },
            "type": "line",
            "x0": 0.0,
            "x1": null,
            "y0": 0.0,
            "y1": null
           },
           {
            "line": {
             "color": "rgba(255,255,255,0)",
             "width": 3
            },
            "type": "line",
            "x0": 0.0,
            "x1": null,
            "y0": 0.0,
            "y1": null
           },
           {
            "line": {
             "color": "rgba(255,255,255,0)",
             "width": 3
            },
            "type": "line",
            "x0": 0.0,
            "x1": null,
            "y0": 0.0,
            "y1": null
           },
           {
            "line": {
             "color": "rgba(255,255,255,0)",
             "width": 3
            },
            "type": "line",
            "x0": 0.0,
            "x1": null,
            "y0": 0.0,
            "y1": null
           },
           {
            "line": {
             "color": "rgba(255,255,255,0)",
             "width": 3
            },
            "type": "line",
            "x0": 0.0,
            "x1": null,
            "y0": 0.0,
            "y1": null
           }
          ],
          "title": {
           "text": "<b>Percentage using the shortest path: 0%  |  Number of Agents: 4</b>",
           "x": 0.5
          }
         },
         "name": "1050"
        },
        {
         "data": [
          {
           "hoverinfo": "name",
           "line": {
            "color": "grey"
           },
           "mode": "lines",
           "name": "Exterior",
           "showlegend": false,
           "x": [
            10.1,
            10.1,
            15.0,
            15.0,
            13.6,
            13.6,
            15.0,
            15.0,
            13.6,
            13.6,
            15.0,
            15.0,
            10.1,
            10.1,
            9.9,
            9.9,
            5.1,
            5.1,
            4.9,
            4.9,
            0.0,
            0.0,
            1.5,
            1.5,
            0.0,
            0.0,
            1.5,
            1.5,
            0.0,
            0.0,
            4.9,
            4.9,
            5.1,
            5.1,
            9.9,
            9.9,
            10.1
           ],
           "y": [
            1.5,
            0.0,
            0.0,
            4.9,
            4.9,
            5.1,
            5.1,
            9.9,
            9.9,
            10.1,
            10.1,
            15.0,
            15.0,
            13.6,
            13.6,
            15.0,
            15.0,
            13.6,
            13.6,
            15.0,
            15.0,
            10.1,
            10.1,
            9.9,
            9.9,
            5.1,
            5.1,
            4.9,
            4.9,
            0.0,
            0.0,
            1.5,
            1.5,
            0.0,
            0.0,
            1.5,
            1.5
           ],
           "type": "scatter"
          },
          {
           "hoverinfo": "name",
           "line": {
            "color": "grey"
           },
           "mode": "lines",
           "name": "Obstacle",
           "showlegend": false,
           "x": [
            10.1,
            11.5,
            11.5,
            10.1,
            10.1,
            9.9,
            9.9,
            8.6,
            8.6,
            9.9,
            9.9,
            10.1,
            10.1
           ],
           "y": [
            5.1,
            5.1,
            4.9,
            4.9,
            3.6,
            3.6,
            4.9,
            4.9,
            5.1,
            5.1,
            6.5,
            6.5,
            5.1
           ],
           "type": "scatter"
          },
          {
           "hoverinfo": "name",
           "line": {
            "color": "grey"
           },
           "mode": "lines",
           "name": "Obstacle",
           "showlegend": false,
           "x": [
            10.1,
            11.5,
            11.5,
            10.1,
            10.1,
            9.9,
            9.9,
            8.6,
            8.6,
            9.9,
            9.9,
            10.1,
            10.1
           ],
           "y": [
            10.1,
            10.1,
            9.9,
            9.9,
            8.6,
            8.6,
            9.9,
            9.9,
            10.1,
            10.1,
            11.5,
            11.5,
            10.1
           ],
           "type": "scatter"
          },
          {
           "hoverinfo": "name",
           "line": {
            "color": "grey"
           },
           "mode": "lines",
           "name": "Obstacle",
           "showlegend": false,
           "x": [
            5.1,
            6.4,
            6.4,
            5.1,
            5.1,
            4.9,
            4.9,
            3.6,
            3.6,
            4.9,
            4.9,
            5.1,
            5.1
           ],
           "y": [
            5.1,
            5.1,
            4.9,
            4.9,
            3.6,
            3.6,
            4.9,
            4.9,
            5.1,
            5.1,
            6.5,
            6.5,
            5.1
           ],
           "type": "scatter"
          },
          {
           "hoverinfo": "name",
           "line": {
            "color": "grey"
           },
           "mode": "lines",
           "name": "Obstacle",
           "showlegend": false,
           "x": [
            5.1,
            6.4,
            6.4,
            5.1,
            5.1,
            4.9,
            4.9,
            3.6,
            3.6,
            4.9,
            4.9,
            5.1,
            5.1
           ],
           "y": [
            10.1,
            10.1,
            9.9,
            9.9,
            8.6,
            8.6,
            9.9,
            9.9,
            10.1,
            10.1,
            11.5,
            11.5,
            10.1
           ],
           "type": "scatter"
          },
          {
           "fill": "toself",
           "fillcolor": "rgba(200, 0, 0, 0.40)",
           "hoverinfo": "name",
           "line": {
            "width": 0
           },
           "mode": "lines",
           "name": "Risk Area",
           "showlegend": false,
           "x": [
            0.0,
            5.0,
            5.0,
            0.0,
            0.0
           ],
           "y": [
            0.0,
            0.0,
            5.0,
            5.0,
            0.0
           ],
           "type": "scatter"
          },
          {
           "fill": "toself",
           "fillcolor": "rgba(200, 0, 0, 0.20)",
           "hoverinfo": "name",
           "line": {
            "width": 0
           },
           "mode": "lines",
           "name": "Risk Area",
           "showlegend": false,
           "x": [
            5.0,
            10.0,
            10.0,
            5.0,
            5.0
           ],
           "y": [
            0.0,
            0.0,
            5.0,
            5.0,
            0.0
           ],
           "type": "scatter"
          },
          {
           "fill": "toself",
           "fillcolor": "rgba(200, 0, 0, 0.10)",
           "hoverinfo": "name",
           "line": {
            "width": 0
           },
           "mode": "lines",
           "name": "Risk Area",
           "showlegend": false,
           "x": [
            10.0,
            15.0,
            15.0,
            10.0,
            10.0
           ],
           "y": [
            0.0,
            0.0,
            5.0,
            5.0,
            0.0
           ],
           "type": "scatter"
          },
          {
           "fill": "toself",
           "fillcolor": "rgba(200, 0, 0, 0.00)",
           "hoverinfo": "name",
           "line": {
            "width": 0
           },
           "mode": "lines",
           "name": "Risk Area",
           "showlegend": false,
           "x": [
            10.0,
            15.0,
            15.0,
            10.0,
            10.0
           ],
           "y": [
            5.0,
            5.0,
            10.0,
            10.0,
            5.0
           ],
           "type": "scatter"
          },
          {
           "fill": "toself",
           "fillcolor": "rgba(200, 0, 0, 0.60)",
           "hoverinfo": "name",
           "line": {
            "width": 0
           },
           "mode": "lines",
           "name": "Risk Area",
           "showlegend": false,
           "x": [
            5.0,
            10.0,
            10.0,
            5.0,
            5.0
           ],
           "y": [
            5.0,
            5.0,
            10.0,
            10.0,
            5.0
           ],
           "type": "scatter"
          },
          {
           "fill": "toself",
           "fillcolor": "rgba(200, 0, 0, 0.10)",
           "hoverinfo": "name",
           "line": {
            "width": 0
           },
           "mode": "lines",
           "name": "Risk Area",
           "showlegend": false,
           "x": [
            0.0,
            5.0,
            5.0,
            0.0,
            0.0
           ],
           "y": [
            5.0,
            5.0,
            10.0,
            10.0,
            5.0
           ],
           "type": "scatter"
          },
          {
           "fill": "toself",
           "fillcolor": "rgba(200, 0, 0, 0.00)",
           "hoverinfo": "name",
           "line": {
            "width": 0
           },
           "mode": "lines",
           "name": "Risk Area",
           "showlegend": false,
           "x": [
            0.0,
            5.0,
            5.0,
            0.0,
            0.0
           ],
           "y": [
            10.0,
            10.0,
            15.0,
            15.0,
            10.0
           ],
           "type": "scatter"
          },
          {
           "fill": "toself",
           "fillcolor": "rgba(200, 0, 0, 0.30)",
           "hoverinfo": "name",
           "line": {
            "width": 0
           },
           "mode": "lines",
           "name": "Risk Area",
           "showlegend": false,
           "x": [
            5.0,
            10.0,
            10.0,
            5.0,
            5.0
           ],
           "y": [
            10.0,
            10.0,
            15.0,
            15.0,
            10.0
           ],
           "type": "scatter"
          },
          {
           "fill": "toself",
           "fillcolor": "rgba(200, 0, 0, 0.00)",
           "hoverinfo": "name",
           "line": {
            "width": 0
           },
           "mode": "lines",
           "name": "Risk Area",
           "showlegend": false,
           "x": [
            10.0,
            15.0,
            15.0,
            10.0,
            10.0
           ],
           "y": [
            10.0,
            10.0,
            15.0,
            15.0,
            10.0
           ],
           "type": "scatter"
          },
          {
           "hoverinfo": "text",
           "marker": {
            "opacity": 1,
            "size": 1
           },
           "mode": "markers",
           "showlegend": false,
           "text": [
            "ID: 62.0, Pos(11.81,9.06)"
           ],
           "x": [
            11.81431092694833
           ],
           "y": [
            9.063441752163762
           ],
           "type": "scatter"
          },
          {
           "hoverinfo": "text",
           "marker": {
            "opacity": 1,
            "size": 1
           },
           "mode": "markers",
           "showlegend": false,
           "text": [
            "ID: 66.0, Pos(12.38,10.45)"
           ],
           "x": [
            12.384766040779233
           ],
           "y": [
            10.44732647162489
           ],
           "type": "scatter"
          },
          {
           "hoverinfo": "text",
           "marker": {
            "opacity": 1,
            "size": 1
           },
           "mode": "markers",
           "showlegend": false,
           "text": [
            "ID: 69.0, Pos(12.99,11.90)"
           ],
           "x": [
            12.985867208855712
           ],
           "y": [
            11.8994100783027
           ],
           "type": "scatter"
          },
          {
           "hoverinfo": "none",
           "marker": {
            "opacity": 0,
            "size": 1
           },
           "mode": "markers",
           "showlegend": false,
           "x": [
            0.0
           ],
           "y": [
            0.0
           ],
           "type": "scatter"
          },
          {
           "hoverinfo": "none",
           "marker": {
            "opacity": 0,
            "size": 1
           },
           "mode": "markers",
           "showlegend": false,
           "x": [
            0.0
           ],
           "y": [
            0.0
           ],
           "type": "scatter"
          },
          {
           "hoverinfo": "none",
           "marker": {
            "opacity": 0,
            "size": 1
           },
           "mode": "markers",
           "showlegend": false,
           "x": [
            0.0
           ],
           "y": [
            0.0
           ],
           "type": "scatter"
          },
          {
           "hoverinfo": "none",
           "marker": {
            "opacity": 0,
            "size": 1
           },
           "mode": "markers",
           "showlegend": false,
           "x": [
            0.0
           ],
           "y": [
            0.0
           ],
           "type": "scatter"
          },
          {
           "hoverinfo": "none",
           "marker": {
            "opacity": 0,
            "size": 1
           },
           "mode": "markers",
           "showlegend": false,
           "x": [
            0.0
           ],
           "y": [
            0.0
           ],
           "type": "scatter"
          },
          {
           "hoverinfo": "none",
           "marker": {
            "opacity": 0,
            "size": 1
           },
           "mode": "markers",
           "showlegend": false,
           "x": [
            0.0
           ],
           "y": [
            0.0
           ],
           "type": "scatter"
          },
          {
           "hoverinfo": "none",
           "marker": {
            "opacity": 0,
            "size": 1
           },
           "mode": "markers",
           "showlegend": false,
           "x": [
            0.0
           ],
           "y": [
            0.0
           ],
           "type": "scatter"
          }
         ],
         "layout": {
          "shapes": [
           {
            "fillcolor": "rgba(0, 0, 232, 0.5)",
            "line": {
             "color": "rgba(0, 0, 232, 0.5)"
            },
            "type": "circle",
            "x0": 11.614310926948331,
            "x1": 12.01431092694833,
            "xref": "x",
            "y0": 8.863441752163762,
            "y1": 9.26344175216376,
            "yref": "y"
           },
           {
            "fillcolor": "rgba(0, 0, 155, 0.5)",
            "line": {
             "color": "rgba(0, 0, 155, 0.5)"
            },
            "type": "circle",
            "x0": 12.184766040779234,
            "x1": 12.584766040779233,
            "xref": "x",
            "y0": 10.247326471624891,
            "y1": 10.64732647162489,
            "yref": "y"
           },
           {
            "fillcolor": "rgba(0, 0, 128, 0.5)",
            "line": {
             "color": "rgba(0, 0, 128, 0.5)"
            },
            "type": "circle",
            "x0": 12.785867208855713,
            "x1": 13.185867208855711,
            "xref": "x",
            "y0": 11.699410078302702,
            "y1": 12.0994100783027,
            "yref": "y"
           },
           {
            "fillcolor": "rgba(255,255,255,0)",
            "line": {
             "width": 0
            },
            "type": "circle",
            "x0": 0.0,
            "x1": 0.0,
            "xref": "x",
            "y0": 0.0,
            "y1": 0.0,
            "yref": "y"
           },
           {
            "fillcolor": "rgba(255,255,255,0)",
            "line": {
             "width": 0
            },
            "type": "circle",
            "x0": 0.0,
            "x1": 0.0,
            "xref": "x",
            "y0": 0.0,
            "y1": 0.0,
            "yref": "y"
           },
           {
            "fillcolor": "rgba(255,255,255,0)",
            "line": {
             "width": 0
            },
            "type": "circle",
            "x0": 0.0,
            "x1": 0.0,
            "xref": "x",
            "y0": 0.0,
            "y1": 0.0,
            "yref": "y"
           },
           {
            "fillcolor": "rgba(255,255,255,0)",
            "line": {
             "width": 0
            },
            "type": "circle",
            "x0": 0.0,
            "x1": 0.0,
            "xref": "x",
            "y0": 0.0,
            "y1": 0.0,
            "yref": "y"
           },
           {
            "fillcolor": "rgba(255,255,255,0)",
            "line": {
             "width": 0
            },
            "type": "circle",
            "x0": 0.0,
            "x1": 0.0,
            "xref": "x",
            "y0": 0.0,
            "y1": 0.0,
            "yref": "y"
           },
           {
            "fillcolor": "rgba(255,255,255,0)",
            "line": {
             "width": 0
            },
            "type": "circle",
            "x0": 0.0,
            "x1": 0.0,
            "xref": "x",
            "y0": 0.0,
            "y1": 0.0,
            "yref": "y"
           },
           {
            "fillcolor": "rgba(255,255,255,0)",
            "line": {
             "width": 0
            },
            "type": "circle",
            "x0": 0.0,
            "x1": 0.0,
            "xref": "x",
            "y0": 0.0,
            "y1": 0.0,
            "yref": "y"
           },
           {
            "line": {
             "color": "white",
             "width": 3
            },
            "type": "line",
            "x0": 11.81431092694833,
            "x1": 11.890661939320227,
            "y0": 9.063441752163762,
            "y1": 9.248294458148246
           },
           {
            "line": {
             "color": "white",
             "width": 3
            },
            "type": "line",
            "x0": 12.384766040779233,
            "x1": 12.461170455977584,
            "y0": 10.44732647162489,
            "y1": 10.63215711123369
           },
           {
            "line": {
             "color": "white",
             "width": 3
            },
            "type": "line",
            "x0": 12.985867208855712,
            "x1": 13.062198650998223,
            "y0": 11.8994100783027,
            "y1": 12.084270866303955
           },
           {
            "line": {
             "color": "rgba(255,255,255,0)",
             "width": 3
            },
            "type": "line",
            "x0": 0.0,
            "x1": null,
            "y0": 0.0,
            "y1": null
           },
           {
            "line": {
             "color": "rgba(255,255,255,0)",
             "width": 3
            },
            "type": "line",
            "x0": 0.0,
            "x1": null,
            "y0": 0.0,
            "y1": null
           },
           {
            "line": {
             "color": "rgba(255,255,255,0)",
             "width": 3
            },
            "type": "line",
            "x0": 0.0,
            "x1": null,
            "y0": 0.0,
            "y1": null
           },
           {
            "line": {
             "color": "rgba(255,255,255,0)",
             "width": 3
            },
            "type": "line",
            "x0": 0.0,
            "x1": null,
            "y0": 0.0,
            "y1": null
           },
           {
            "line": {
             "color": "rgba(255,255,255,0)",
             "width": 3
            },
            "type": "line",
            "x0": 0.0,
            "x1": null,
            "y0": 0.0,
            "y1": null
           },
           {
            "line": {
             "color": "rgba(255,255,255,0)",
             "width": 3
            },
            "type": "line",
            "x0": 0.0,
            "x1": null,
            "y0": 0.0,
            "y1": null
           },
           {
            "line": {
             "color": "rgba(255,255,255,0)",
             "width": 3
            },
            "type": "line",
            "x0": 0.0,
            "x1": null,
            "y0": 0.0,
            "y1": null
           }
          ],
          "title": {
           "text": "<b>Percentage using the shortest path: 0%  |  Number of Agents: 3</b>",
           "x": 0.5
          }
         },
         "name": "1100"
        },
        {
         "data": [
          {
           "hoverinfo": "name",
           "line": {
            "color": "grey"
           },
           "mode": "lines",
           "name": "Exterior",
           "showlegend": false,
           "x": [
            10.1,
            10.1,
            15.0,
            15.0,
            13.6,
            13.6,
            15.0,
            15.0,
            13.6,
            13.6,
            15.0,
            15.0,
            10.1,
            10.1,
            9.9,
            9.9,
            5.1,
            5.1,
            4.9,
            4.9,
            0.0,
            0.0,
            1.5,
            1.5,
            0.0,
            0.0,
            1.5,
            1.5,
            0.0,
            0.0,
            4.9,
            4.9,
            5.1,
            5.1,
            9.9,
            9.9,
            10.1
           ],
           "y": [
            1.5,
            0.0,
            0.0,
            4.9,
            4.9,
            5.1,
            5.1,
            9.9,
            9.9,
            10.1,
            10.1,
            15.0,
            15.0,
            13.6,
            13.6,
            15.0,
            15.0,
            13.6,
            13.6,
            15.0,
            15.0,
            10.1,
            10.1,
            9.9,
            9.9,
            5.1,
            5.1,
            4.9,
            4.9,
            0.0,
            0.0,
            1.5,
            1.5,
            0.0,
            0.0,
            1.5,
            1.5
           ],
           "type": "scatter"
          },
          {
           "hoverinfo": "name",
           "line": {
            "color": "grey"
           },
           "mode": "lines",
           "name": "Obstacle",
           "showlegend": false,
           "x": [
            10.1,
            11.5,
            11.5,
            10.1,
            10.1,
            9.9,
            9.9,
            8.6,
            8.6,
            9.9,
            9.9,
            10.1,
            10.1
           ],
           "y": [
            5.1,
            5.1,
            4.9,
            4.9,
            3.6,
            3.6,
            4.9,
            4.9,
            5.1,
            5.1,
            6.5,
            6.5,
            5.1
           ],
           "type": "scatter"
          },
          {
           "hoverinfo": "name",
           "line": {
            "color": "grey"
           },
           "mode": "lines",
           "name": "Obstacle",
           "showlegend": false,
           "x": [
            10.1,
            11.5,
            11.5,
            10.1,
            10.1,
            9.9,
            9.9,
            8.6,
            8.6,
            9.9,
            9.9,
            10.1,
            10.1
           ],
           "y": [
            10.1,
            10.1,
            9.9,
            9.9,
            8.6,
            8.6,
            9.9,
            9.9,
            10.1,
            10.1,
            11.5,
            11.5,
            10.1
           ],
           "type": "scatter"
          },
          {
           "hoverinfo": "name",
           "line": {
            "color": "grey"
           },
           "mode": "lines",
           "name": "Obstacle",
           "showlegend": false,
           "x": [
            5.1,
            6.4,
            6.4,
            5.1,
            5.1,
            4.9,
            4.9,
            3.6,
            3.6,
            4.9,
            4.9,
            5.1,
            5.1
           ],
           "y": [
            5.1,
            5.1,
            4.9,
            4.9,
            3.6,
            3.6,
            4.9,
            4.9,
            5.1,
            5.1,
            6.5,
            6.5,
            5.1
           ],
           "type": "scatter"
          },
          {
           "hoverinfo": "name",
           "line": {
            "color": "grey"
           },
           "mode": "lines",
           "name": "Obstacle",
           "showlegend": false,
           "x": [
            5.1,
            6.4,
            6.4,
            5.1,
            5.1,
            4.9,
            4.9,
            3.6,
            3.6,
            4.9,
            4.9,
            5.1,
            5.1
           ],
           "y": [
            10.1,
            10.1,
            9.9,
            9.9,
            8.6,
            8.6,
            9.9,
            9.9,
            10.1,
            10.1,
            11.5,
            11.5,
            10.1
           ],
           "type": "scatter"
          },
          {
           "fill": "toself",
           "fillcolor": "rgba(200, 0, 0, 0.50)",
           "hoverinfo": "name",
           "line": {
            "width": 0
           },
           "mode": "lines",
           "name": "Risk Area",
           "showlegend": false,
           "x": [
            0.0,
            5.0,
            5.0,
            0.0,
            0.0
           ],
           "y": [
            0.0,
            0.0,
            5.0,
            5.0,
            0.0
           ],
           "type": "scatter"
          },
          {
           "fill": "toself",
           "fillcolor": "rgba(200, 0, 0, 0.20)",
           "hoverinfo": "name",
           "line": {
            "width": 0
           },
           "mode": "lines",
           "name": "Risk Area",
           "showlegend": false,
           "x": [
            5.0,
            10.0,
            10.0,
            5.0,
            5.0
           ],
           "y": [
            0.0,
            0.0,
            5.0,
            5.0,
            0.0
           ],
           "type": "scatter"
          },
          {
           "fill": "toself",
           "fillcolor": "rgba(200, 0, 0, 0.10)",
           "hoverinfo": "name",
           "line": {
            "width": 0
           },
           "mode": "lines",
           "name": "Risk Area",
           "showlegend": false,
           "x": [
            10.0,
            15.0,
            15.0,
            10.0,
            10.0
           ],
           "y": [
            0.0,
            0.0,
            5.0,
            5.0,
            0.0
           ],
           "type": "scatter"
          },
          {
           "fill": "toself",
           "fillcolor": "rgba(200, 0, 0, 0.00)",
           "hoverinfo": "name",
           "line": {
            "width": 0
           },
           "mode": "lines",
           "name": "Risk Area",
           "showlegend": false,
           "x": [
            10.0,
            15.0,
            15.0,
            10.0,
            10.0
           ],
           "y": [
            5.0,
            5.0,
            10.0,
            10.0,
            5.0
           ],
           "type": "scatter"
          },
          {
           "fill": "toself",
           "fillcolor": "rgba(200, 0, 0, 0.60)",
           "hoverinfo": "name",
           "line": {
            "width": 0
           },
           "mode": "lines",
           "name": "Risk Area",
           "showlegend": false,
           "x": [
            5.0,
            10.0,
            10.0,
            5.0,
            5.0
           ],
           "y": [
            5.0,
            5.0,
            10.0,
            10.0,
            5.0
           ],
           "type": "scatter"
          },
          {
           "fill": "toself",
           "fillcolor": "rgba(200, 0, 0, 0.10)",
           "hoverinfo": "name",
           "line": {
            "width": 0
           },
           "mode": "lines",
           "name": "Risk Area",
           "showlegend": false,
           "x": [
            0.0,
            5.0,
            5.0,
            0.0,
            0.0
           ],
           "y": [
            5.0,
            5.0,
            10.0,
            10.0,
            5.0
           ],
           "type": "scatter"
          },
          {
           "fill": "toself",
           "fillcolor": "rgba(200, 0, 0, 0.00)",
           "hoverinfo": "name",
           "line": {
            "width": 0
           },
           "mode": "lines",
           "name": "Risk Area",
           "showlegend": false,
           "x": [
            0.0,
            5.0,
            5.0,
            0.0,
            0.0
           ],
           "y": [
            10.0,
            10.0,
            15.0,
            15.0,
            10.0
           ],
           "type": "scatter"
          },
          {
           "fill": "toself",
           "fillcolor": "rgba(200, 0, 0, 0.30)",
           "hoverinfo": "name",
           "line": {
            "width": 0
           },
           "mode": "lines",
           "name": "Risk Area",
           "showlegend": false,
           "x": [
            5.0,
            10.0,
            10.0,
            5.0,
            5.0
           ],
           "y": [
            10.0,
            10.0,
            15.0,
            15.0,
            10.0
           ],
           "type": "scatter"
          },
          {
           "fill": "toself",
           "fillcolor": "rgba(200, 0, 0, 0.00)",
           "hoverinfo": "name",
           "line": {
            "width": 0
           },
           "mode": "lines",
           "name": "Risk Area",
           "showlegend": false,
           "x": [
            10.0,
            15.0,
            15.0,
            10.0,
            10.0
           ],
           "y": [
            10.0,
            10.0,
            15.0,
            15.0,
            10.0
           ],
           "type": "scatter"
          },
          {
           "hoverinfo": "text",
           "marker": {
            "opacity": 1,
            "size": 1
           },
           "mode": "markers",
           "showlegend": false,
           "text": [
            "ID: 62.0, Pos(12.25,10.11)"
           ],
           "x": [
            12.246170134708077
           ],
           "y": [
            10.105953204369104
           ],
           "type": "scatter"
          },
          {
           "hoverinfo": "text",
           "marker": {
            "opacity": 1,
            "size": 1
           },
           "mode": "markers",
           "showlegend": false,
           "text": [
            "ID: 66.0, Pos(12.84,11.55)"
           ],
           "x": [
            12.838588427600596
           ],
           "y": [
            11.545180023144818
           ],
           "type": "scatter"
          },
          {
           "hoverinfo": "none",
           "marker": {
            "opacity": 0,
            "size": 1
           },
           "mode": "markers",
           "showlegend": false,
           "x": [
            0.0
           ],
           "y": [
            0.0
           ],
           "type": "scatter"
          },
          {
           "hoverinfo": "none",
           "marker": {
            "opacity": 0,
            "size": 1
           },
           "mode": "markers",
           "showlegend": false,
           "x": [
            0.0
           ],
           "y": [
            0.0
           ],
           "type": "scatter"
          },
          {
           "hoverinfo": "none",
           "marker": {
            "opacity": 0,
            "size": 1
           },
           "mode": "markers",
           "showlegend": false,
           "x": [
            0.0
           ],
           "y": [
            0.0
           ],
           "type": "scatter"
          },
          {
           "hoverinfo": "none",
           "marker": {
            "opacity": 0,
            "size": 1
           },
           "mode": "markers",
           "showlegend": false,
           "x": [
            0.0
           ],
           "y": [
            0.0
           ],
           "type": "scatter"
          },
          {
           "hoverinfo": "none",
           "marker": {
            "opacity": 0,
            "size": 1
           },
           "mode": "markers",
           "showlegend": false,
           "x": [
            0.0
           ],
           "y": [
            0.0
           ],
           "type": "scatter"
          },
          {
           "hoverinfo": "none",
           "marker": {
            "opacity": 0,
            "size": 1
           },
           "mode": "markers",
           "showlegend": false,
           "x": [
            0.0
           ],
           "y": [
            0.0
           ],
           "type": "scatter"
          },
          {
           "hoverinfo": "none",
           "marker": {
            "opacity": 0,
            "size": 1
           },
           "mode": "markers",
           "showlegend": false,
           "x": [
            0.0
           ],
           "y": [
            0.0
           ],
           "type": "scatter"
          },
          {
           "hoverinfo": "none",
           "marker": {
            "opacity": 0,
            "size": 1
           },
           "mode": "markers",
           "showlegend": false,
           "x": [
            0.0
           ],
           "y": [
            0.0
           ],
           "type": "scatter"
          }
         ],
         "layout": {
          "shapes": [
           {
            "fillcolor": "rgba(0, 0, 173, 0.5)",
            "line": {
             "color": "rgba(0, 0, 173, 0.5)"
            },
            "type": "circle",
            "x0": 12.046170134708078,
            "x1": 12.446170134708076,
            "xref": "x",
            "y0": 9.905953204369105,
            "y1": 10.305953204369104,
            "yref": "y"
           },
           {
            "fillcolor": "rgba(0, 0, 128, 0.5)",
            "line": {
             "color": "rgba(0, 0, 128, 0.5)"
            },
            "type": "circle",
            "x0": 12.638588427600597,
            "x1": 13.038588427600596,
            "xref": "x",
            "y0": 11.345180023144819,
            "y1": 11.745180023144817,
            "yref": "y"
           },
           {
            "fillcolor": "rgba(255,255,255,0)",
            "line": {
             "width": 0
            },
            "type": "circle",
            "x0": 0.0,
            "x1": 0.0,
            "xref": "x",
            "y0": 0.0,
            "y1": 0.0,
            "yref": "y"
           },
           {
            "fillcolor": "rgba(255,255,255,0)",
            "line": {
             "width": 0
            },
            "type": "circle",
            "x0": 0.0,
            "x1": 0.0,
            "xref": "x",
            "y0": 0.0,
            "y1": 0.0,
            "yref": "y"
           },
           {
            "fillcolor": "rgba(255,255,255,0)",
            "line": {
             "width": 0
            },
            "type": "circle",
            "x0": 0.0,
            "x1": 0.0,
            "xref": "x",
            "y0": 0.0,
            "y1": 0.0,
            "yref": "y"
           },
           {
            "fillcolor": "rgba(255,255,255,0)",
            "line": {
             "width": 0
            },
            "type": "circle",
            "x0": 0.0,
            "x1": 0.0,
            "xref": "x",
            "y0": 0.0,
            "y1": 0.0,
            "yref": "y"
           },
           {
            "fillcolor": "rgba(255,255,255,0)",
            "line": {
             "width": 0
            },
            "type": "circle",
            "x0": 0.0,
            "x1": 0.0,
            "xref": "x",
            "y0": 0.0,
            "y1": 0.0,
            "yref": "y"
           },
           {
            "fillcolor": "rgba(255,255,255,0)",
            "line": {
             "width": 0
            },
            "type": "circle",
            "x0": 0.0,
            "x1": 0.0,
            "xref": "x",
            "y0": 0.0,
            "y1": 0.0,
            "yref": "y"
           },
           {
            "fillcolor": "rgba(255,255,255,0)",
            "line": {
             "width": 0
            },
            "type": "circle",
            "x0": 0.0,
            "x1": 0.0,
            "xref": "x",
            "y0": 0.0,
            "y1": 0.0,
            "yref": "y"
           },
           {
            "fillcolor": "rgba(255,255,255,0)",
            "line": {
             "width": 0
            },
            "type": "circle",
            "x0": 0.0,
            "x1": 0.0,
            "xref": "x",
            "y0": 0.0,
            "y1": 0.0,
            "yref": "y"
           },
           {
            "line": {
             "color": "white",
             "width": 3
            },
            "type": "line",
            "x0": 12.246170134708077,
            "x1": 12.322505330672936,
            "y0": 10.105953204369104,
            "y1": 10.290812442323302
           },
           {
            "line": {
             "color": "white",
             "width": 3
            },
            "type": "line",
            "x0": 12.838588427600596,
            "x1": 12.91499237222998,
            "y0": 11.545180023144818,
            "y1": 11.73001085727449
           },
           {
            "line": {
             "color": "rgba(255,255,255,0)",
             "width": 3
            },
            "type": "line",
            "x0": 0.0,
            "x1": null,
            "y0": 0.0,
            "y1": null
           },
           {
            "line": {
             "color": "rgba(255,255,255,0)",
             "width": 3
            },
            "type": "line",
            "x0": 0.0,
            "x1": null,
            "y0": 0.0,
            "y1": null
           },
           {
            "line": {
             "color": "rgba(255,255,255,0)",
             "width": 3
            },
            "type": "line",
            "x0": 0.0,
            "x1": null,
            "y0": 0.0,
            "y1": null
           },
           {
            "line": {
             "color": "rgba(255,255,255,0)",
             "width": 3
            },
            "type": "line",
            "x0": 0.0,
            "x1": null,
            "y0": 0.0,
            "y1": null
           },
           {
            "line": {
             "color": "rgba(255,255,255,0)",
             "width": 3
            },
            "type": "line",
            "x0": 0.0,
            "x1": null,
            "y0": 0.0,
            "y1": null
           },
           {
            "line": {
             "color": "rgba(255,255,255,0)",
             "width": 3
            },
            "type": "line",
            "x0": 0.0,
            "x1": null,
            "y0": 0.0,
            "y1": null
           },
           {
            "line": {
             "color": "rgba(255,255,255,0)",
             "width": 3
            },
            "type": "line",
            "x0": 0.0,
            "x1": null,
            "y0": 0.0,
            "y1": null
           },
           {
            "line": {
             "color": "rgba(255,255,255,0)",
             "width": 3
            },
            "type": "line",
            "x0": 0.0,
            "x1": null,
            "y0": 0.0,
            "y1": null
           }
          ],
          "title": {
           "text": "<b>Percentage using the shortest path: 0%  |  Number of Agents: 2</b>",
           "x": 0.5
          }
         },
         "name": "1150"
        },
        {
         "data": [
          {
           "hoverinfo": "name",
           "line": {
            "color": "grey"
           },
           "mode": "lines",
           "name": "Exterior",
           "showlegend": false,
           "x": [
            10.1,
            10.1,
            15.0,
            15.0,
            13.6,
            13.6,
            15.0,
            15.0,
            13.6,
            13.6,
            15.0,
            15.0,
            10.1,
            10.1,
            9.9,
            9.9,
            5.1,
            5.1,
            4.9,
            4.9,
            0.0,
            0.0,
            1.5,
            1.5,
            0.0,
            0.0,
            1.5,
            1.5,
            0.0,
            0.0,
            4.9,
            4.9,
            5.1,
            5.1,
            9.9,
            9.9,
            10.1
           ],
           "y": [
            1.5,
            0.0,
            0.0,
            4.9,
            4.9,
            5.1,
            5.1,
            9.9,
            9.9,
            10.1,
            10.1,
            15.0,
            15.0,
            13.6,
            13.6,
            15.0,
            15.0,
            13.6,
            13.6,
            15.0,
            15.0,
            10.1,
            10.1,
            9.9,
            9.9,
            5.1,
            5.1,
            4.9,
            4.9,
            0.0,
            0.0,
            1.5,
            1.5,
            0.0,
            0.0,
            1.5,
            1.5
           ],
           "type": "scatter"
          },
          {
           "hoverinfo": "name",
           "line": {
            "color": "grey"
           },
           "mode": "lines",
           "name": "Obstacle",
           "showlegend": false,
           "x": [
            10.1,
            11.5,
            11.5,
            10.1,
            10.1,
            9.9,
            9.9,
            8.6,
            8.6,
            9.9,
            9.9,
            10.1,
            10.1
           ],
           "y": [
            5.1,
            5.1,
            4.9,
            4.9,
            3.6,
            3.6,
            4.9,
            4.9,
            5.1,
            5.1,
            6.5,
            6.5,
            5.1
           ],
           "type": "scatter"
          },
          {
           "hoverinfo": "name",
           "line": {
            "color": "grey"
           },
           "mode": "lines",
           "name": "Obstacle",
           "showlegend": false,
           "x": [
            10.1,
            11.5,
            11.5,
            10.1,
            10.1,
            9.9,
            9.9,
            8.6,
            8.6,
            9.9,
            9.9,
            10.1,
            10.1
           ],
           "y": [
            10.1,
            10.1,
            9.9,
            9.9,
            8.6,
            8.6,
            9.9,
            9.9,
            10.1,
            10.1,
            11.5,
            11.5,
            10.1
           ],
           "type": "scatter"
          },
          {
           "hoverinfo": "name",
           "line": {
            "color": "grey"
           },
           "mode": "lines",
           "name": "Obstacle",
           "showlegend": false,
           "x": [
            5.1,
            6.4,
            6.4,
            5.1,
            5.1,
            4.9,
            4.9,
            3.6,
            3.6,
            4.9,
            4.9,
            5.1,
            5.1
           ],
           "y": [
            5.1,
            5.1,
            4.9,
            4.9,
            3.6,
            3.6,
            4.9,
            4.9,
            5.1,
            5.1,
            6.5,
            6.5,
            5.1
           ],
           "type": "scatter"
          },
          {
           "hoverinfo": "name",
           "line": {
            "color": "grey"
           },
           "mode": "lines",
           "name": "Obstacle",
           "showlegend": false,
           "x": [
            5.1,
            6.4,
            6.4,
            5.1,
            5.1,
            4.9,
            4.9,
            3.6,
            3.6,
            4.9,
            4.9,
            5.1,
            5.1
           ],
           "y": [
            10.1,
            10.1,
            9.9,
            9.9,
            8.6,
            8.6,
            9.9,
            9.9,
            10.1,
            10.1,
            11.5,
            11.5,
            10.1
           ],
           "type": "scatter"
          },
          {
           "fill": "toself",
           "fillcolor": "rgba(200, 0, 0, 0.50)",
           "hoverinfo": "name",
           "line": {
            "width": 0
           },
           "mode": "lines",
           "name": "Risk Area",
           "showlegend": false,
           "x": [
            0.0,
            5.0,
            5.0,
            0.0,
            0.0
           ],
           "y": [
            0.0,
            0.0,
            5.0,
            5.0,
            0.0
           ],
           "type": "scatter"
          },
          {
           "fill": "toself",
           "fillcolor": "rgba(200, 0, 0, 0.20)",
           "hoverinfo": "name",
           "line": {
            "width": 0
           },
           "mode": "lines",
           "name": "Risk Area",
           "showlegend": false,
           "x": [
            5.0,
            10.0,
            10.0,
            5.0,
            5.0
           ],
           "y": [
            0.0,
            0.0,
            5.0,
            5.0,
            0.0
           ],
           "type": "scatter"
          },
          {
           "fill": "toself",
           "fillcolor": "rgba(200, 0, 0, 0.10)",
           "hoverinfo": "name",
           "line": {
            "width": 0
           },
           "mode": "lines",
           "name": "Risk Area",
           "showlegend": false,
           "x": [
            10.0,
            15.0,
            15.0,
            10.0,
            10.0
           ],
           "y": [
            0.0,
            0.0,
            5.0,
            5.0,
            0.0
           ],
           "type": "scatter"
          },
          {
           "fill": "toself",
           "fillcolor": "rgba(200, 0, 0, 0.00)",
           "hoverinfo": "name",
           "line": {
            "width": 0
           },
           "mode": "lines",
           "name": "Risk Area",
           "showlegend": false,
           "x": [
            10.0,
            15.0,
            15.0,
            10.0,
            10.0
           ],
           "y": [
            5.0,
            5.0,
            10.0,
            10.0,
            5.0
           ],
           "type": "scatter"
          },
          {
           "fill": "toself",
           "fillcolor": "rgba(200, 0, 0, 0.60)",
           "hoverinfo": "name",
           "line": {
            "width": 0
           },
           "mode": "lines",
           "name": "Risk Area",
           "showlegend": false,
           "x": [
            5.0,
            10.0,
            10.0,
            5.0,
            5.0
           ],
           "y": [
            5.0,
            5.0,
            10.0,
            10.0,
            5.0
           ],
           "type": "scatter"
          },
          {
           "fill": "toself",
           "fillcolor": "rgba(200, 0, 0, 0.10)",
           "hoverinfo": "name",
           "line": {
            "width": 0
           },
           "mode": "lines",
           "name": "Risk Area",
           "showlegend": false,
           "x": [
            0.0,
            5.0,
            5.0,
            0.0,
            0.0
           ],
           "y": [
            5.0,
            5.0,
            10.0,
            10.0,
            5.0
           ],
           "type": "scatter"
          },
          {
           "fill": "toself",
           "fillcolor": "rgba(200, 0, 0, 0.00)",
           "hoverinfo": "name",
           "line": {
            "width": 0
           },
           "mode": "lines",
           "name": "Risk Area",
           "showlegend": false,
           "x": [
            0.0,
            5.0,
            5.0,
            0.0,
            0.0
           ],
           "y": [
            10.0,
            10.0,
            15.0,
            15.0,
            10.0
           ],
           "type": "scatter"
          },
          {
           "fill": "toself",
           "fillcolor": "rgba(200, 0, 0, 0.30)",
           "hoverinfo": "name",
           "line": {
            "width": 0
           },
           "mode": "lines",
           "name": "Risk Area",
           "showlegend": false,
           "x": [
            5.0,
            10.0,
            10.0,
            5.0,
            5.0
           ],
           "y": [
            10.0,
            10.0,
            15.0,
            15.0,
            10.0
           ],
           "type": "scatter"
          },
          {
           "fill": "toself",
           "fillcolor": "rgba(200, 0, 0, 0.00)",
           "hoverinfo": "name",
           "line": {
            "width": 0
           },
           "mode": "lines",
           "name": "Risk Area",
           "showlegend": false,
           "x": [
            10.0,
            15.0,
            15.0,
            10.0,
            10.0
           ],
           "y": [
            10.0,
            10.0,
            15.0,
            15.0,
            10.0
           ],
           "type": "scatter"
          },
          {
           "hoverinfo": "text",
           "marker": {
            "opacity": 1,
            "size": 1
           },
           "mode": "markers",
           "showlegend": false,
           "text": [
            "ID: 62.0, Pos(12.69,11.19)"
           ],
           "x": [
            12.694269478356622
           ],
           "y": [
            11.191739958390961
           ],
           "type": "scatter"
          },
          {
           "hoverinfo": "none",
           "marker": {
            "opacity": 0,
            "size": 1
           },
           "mode": "markers",
           "showlegend": false,
           "x": [
            0.0
           ],
           "y": [
            0.0
           ],
           "type": "scatter"
          },
          {
           "hoverinfo": "none",
           "marker": {
            "opacity": 0,
            "size": 1
           },
           "mode": "markers",
           "showlegend": false,
           "x": [
            0.0
           ],
           "y": [
            0.0
           ],
           "type": "scatter"
          },
          {
           "hoverinfo": "none",
           "marker": {
            "opacity": 0,
            "size": 1
           },
           "mode": "markers",
           "showlegend": false,
           "x": [
            0.0
           ],
           "y": [
            0.0
           ],
           "type": "scatter"
          },
          {
           "hoverinfo": "none",
           "marker": {
            "opacity": 0,
            "size": 1
           },
           "mode": "markers",
           "showlegend": false,
           "x": [
            0.0
           ],
           "y": [
            0.0
           ],
           "type": "scatter"
          },
          {
           "hoverinfo": "none",
           "marker": {
            "opacity": 0,
            "size": 1
           },
           "mode": "markers",
           "showlegend": false,
           "x": [
            0.0
           ],
           "y": [
            0.0
           ],
           "type": "scatter"
          },
          {
           "hoverinfo": "none",
           "marker": {
            "opacity": 0,
            "size": 1
           },
           "mode": "markers",
           "showlegend": false,
           "x": [
            0.0
           ],
           "y": [
            0.0
           ],
           "type": "scatter"
          },
          {
           "hoverinfo": "none",
           "marker": {
            "opacity": 0,
            "size": 1
           },
           "mode": "markers",
           "showlegend": false,
           "x": [
            0.0
           ],
           "y": [
            0.0
           ],
           "type": "scatter"
          },
          {
           "hoverinfo": "none",
           "marker": {
            "opacity": 0,
            "size": 1
           },
           "mode": "markers",
           "showlegend": false,
           "x": [
            0.0
           ],
           "y": [
            0.0
           ],
           "type": "scatter"
          },
          {
           "hoverinfo": "none",
           "marker": {
            "opacity": 0,
            "size": 1
           },
           "mode": "markers",
           "showlegend": false,
           "x": [
            0.0
           ],
           "y": [
            0.0
           ],
           "type": "scatter"
          }
         ],
         "layout": {
          "shapes": [
           {
            "fillcolor": "rgba(0, 0, 128, 0.5)",
            "line": {
             "color": "rgba(0, 0, 128, 0.5)"
            },
            "type": "circle",
            "x0": 12.494269478356623,
            "x1": 12.894269478356621,
            "xref": "x",
            "y0": 10.991739958390962,
            "y1": 11.39173995839096,
            "yref": "y"
           },
           {
            "fillcolor": "rgba(255,255,255,0)",
            "line": {
             "width": 0
            },
            "type": "circle",
            "x0": 0.0,
            "x1": 0.0,
            "xref": "x",
            "y0": 0.0,
            "y1": 0.0,
            "yref": "y"
           },
           {
            "fillcolor": "rgba(255,255,255,0)",
            "line": {
             "width": 0
            },
            "type": "circle",
            "x0": 0.0,
            "x1": 0.0,
            "xref": "x",
            "y0": 0.0,
            "y1": 0.0,
            "yref": "y"
           },
           {
            "fillcolor": "rgba(255,255,255,0)",
            "line": {
             "width": 0
            },
            "type": "circle",
            "x0": 0.0,
            "x1": 0.0,
            "xref": "x",
            "y0": 0.0,
            "y1": 0.0,
            "yref": "y"
           },
           {
            "fillcolor": "rgba(255,255,255,0)",
            "line": {
             "width": 0
            },
            "type": "circle",
            "x0": 0.0,
            "x1": 0.0,
            "xref": "x",
            "y0": 0.0,
            "y1": 0.0,
            "yref": "y"
           },
           {
            "fillcolor": "rgba(255,255,255,0)",
            "line": {
             "width": 0
            },
            "type": "circle",
            "x0": 0.0,
            "x1": 0.0,
            "xref": "x",
            "y0": 0.0,
            "y1": 0.0,
            "yref": "y"
           },
           {
            "fillcolor": "rgba(255,255,255,0)",
            "line": {
             "width": 0
            },
            "type": "circle",
            "x0": 0.0,
            "x1": 0.0,
            "xref": "x",
            "y0": 0.0,
            "y1": 0.0,
            "yref": "y"
           },
           {
            "fillcolor": "rgba(255,255,255,0)",
            "line": {
             "width": 0
            },
            "type": "circle",
            "x0": 0.0,
            "x1": 0.0,
            "xref": "x",
            "y0": 0.0,
            "y1": 0.0,
            "yref": "y"
           },
           {
            "fillcolor": "rgba(255,255,255,0)",
            "line": {
             "width": 0
            },
            "type": "circle",
            "x0": 0.0,
            "x1": 0.0,
            "xref": "x",
            "y0": 0.0,
            "y1": 0.0,
            "yref": "y"
           },
           {
            "fillcolor": "rgba(255,255,255,0)",
            "line": {
             "width": 0
            },
            "type": "circle",
            "x0": 0.0,
            "x1": 0.0,
            "xref": "x",
            "y0": 0.0,
            "y1": 0.0,
            "yref": "y"
           },
           {
            "line": {
             "color": "white",
             "width": 3
            },
            "type": "line",
            "x0": 12.694269478356622,
            "x1": 12.77056334531303,
            "y0": 11.191739958390961,
            "y1": 11.37661625720949
           },
           {
            "line": {
             "color": "rgba(255,255,255,0)",
             "width": 3
            },
            "type": "line",
            "x0": 0.0,
            "x1": null,
            "y0": 0.0,
            "y1": null
           },
           {
            "line": {
             "color": "rgba(255,255,255,0)",
             "width": 3
            },
            "type": "line",
            "x0": 0.0,
            "x1": null,
            "y0": 0.0,
            "y1": null
           },
           {
            "line": {
             "color": "rgba(255,255,255,0)",
             "width": 3
            },
            "type": "line",
            "x0": 0.0,
            "x1": null,
            "y0": 0.0,
            "y1": null
           },
           {
            "line": {
             "color": "rgba(255,255,255,0)",
             "width": 3
            },
            "type": "line",
            "x0": 0.0,
            "x1": null,
            "y0": 0.0,
            "y1": null
           },
           {
            "line": {
             "color": "rgba(255,255,255,0)",
             "width": 3
            },
            "type": "line",
            "x0": 0.0,
            "x1": null,
            "y0": 0.0,
            "y1": null
           },
           {
            "line": {
             "color": "rgba(255,255,255,0)",
             "width": 3
            },
            "type": "line",
            "x0": 0.0,
            "x1": null,
            "y0": 0.0,
            "y1": null
           },
           {
            "line": {
             "color": "rgba(255,255,255,0)",
             "width": 3
            },
            "type": "line",
            "x0": 0.0,
            "x1": null,
            "y0": 0.0,
            "y1": null
           },
           {
            "line": {
             "color": "rgba(255,255,255,0)",
             "width": 3
            },
            "type": "line",
            "x0": 0.0,
            "x1": null,
            "y0": 0.0,
            "y1": null
           },
           {
            "line": {
             "color": "rgba(255,255,255,0)",
             "width": 3
            },
            "type": "line",
            "x0": 0.0,
            "x1": null,
            "y0": 0.0,
            "y1": null
           }
          ],
          "title": {
           "text": "<b>Percentage using the shortest path: 0%  |  Number of Agents: 1</b>",
           "x": 0.5
          }
         },
         "name": "1200"
        },
        {
         "data": [
          {
           "hoverinfo": "name",
           "line": {
            "color": "grey"
           },
           "mode": "lines",
           "name": "Exterior",
           "showlegend": false,
           "x": [
            10.1,
            10.1,
            15.0,
            15.0,
            13.6,
            13.6,
            15.0,
            15.0,
            13.6,
            13.6,
            15.0,
            15.0,
            10.1,
            10.1,
            9.9,
            9.9,
            5.1,
            5.1,
            4.9,
            4.9,
            0.0,
            0.0,
            1.5,
            1.5,
            0.0,
            0.0,
            1.5,
            1.5,
            0.0,
            0.0,
            4.9,
            4.9,
            5.1,
            5.1,
            9.9,
            9.9,
            10.1
           ],
           "y": [
            1.5,
            0.0,
            0.0,
            4.9,
            4.9,
            5.1,
            5.1,
            9.9,
            9.9,
            10.1,
            10.1,
            15.0,
            15.0,
            13.6,
            13.6,
            15.0,
            15.0,
            13.6,
            13.6,
            15.0,
            15.0,
            10.1,
            10.1,
            9.9,
            9.9,
            5.1,
            5.1,
            4.9,
            4.9,
            0.0,
            0.0,
            1.5,
            1.5,
            0.0,
            0.0,
            1.5,
            1.5
           ],
           "type": "scatter"
          },
          {
           "hoverinfo": "name",
           "line": {
            "color": "grey"
           },
           "mode": "lines",
           "name": "Obstacle",
           "showlegend": false,
           "x": [
            10.1,
            11.5,
            11.5,
            10.1,
            10.1,
            9.9,
            9.9,
            8.6,
            8.6,
            9.9,
            9.9,
            10.1,
            10.1
           ],
           "y": [
            5.1,
            5.1,
            4.9,
            4.9,
            3.6,
            3.6,
            4.9,
            4.9,
            5.1,
            5.1,
            6.5,
            6.5,
            5.1
           ],
           "type": "scatter"
          },
          {
           "hoverinfo": "name",
           "line": {
            "color": "grey"
           },
           "mode": "lines",
           "name": "Obstacle",
           "showlegend": false,
           "x": [
            10.1,
            11.5,
            11.5,
            10.1,
            10.1,
            9.9,
            9.9,
            8.6,
            8.6,
            9.9,
            9.9,
            10.1,
            10.1
           ],
           "y": [
            10.1,
            10.1,
            9.9,
            9.9,
            8.6,
            8.6,
            9.9,
            9.9,
            10.1,
            10.1,
            11.5,
            11.5,
            10.1
           ],
           "type": "scatter"
          },
          {
           "hoverinfo": "name",
           "line": {
            "color": "grey"
           },
           "mode": "lines",
           "name": "Obstacle",
           "showlegend": false,
           "x": [
            5.1,
            6.4,
            6.4,
            5.1,
            5.1,
            4.9,
            4.9,
            3.6,
            3.6,
            4.9,
            4.9,
            5.1,
            5.1
           ],
           "y": [
            5.1,
            5.1,
            4.9,
            4.9,
            3.6,
            3.6,
            4.9,
            4.9,
            5.1,
            5.1,
            6.5,
            6.5,
            5.1
           ],
           "type": "scatter"
          },
          {
           "hoverinfo": "name",
           "line": {
            "color": "grey"
           },
           "mode": "lines",
           "name": "Obstacle",
           "showlegend": false,
           "x": [
            5.1,
            6.4,
            6.4,
            5.1,
            5.1,
            4.9,
            4.9,
            3.6,
            3.6,
            4.9,
            4.9,
            5.1,
            5.1
           ],
           "y": [
            10.1,
            10.1,
            9.9,
            9.9,
            8.6,
            8.6,
            9.9,
            9.9,
            10.1,
            10.1,
            11.5,
            11.5,
            10.1
           ],
           "type": "scatter"
          },
          {
           "fill": "toself",
           "fillcolor": "rgba(200, 0, 0, 0.50)",
           "hoverinfo": "name",
           "line": {
            "width": 0
           },
           "mode": "lines",
           "name": "Risk Area",
           "showlegend": false,
           "x": [
            0.0,
            5.0,
            5.0,
            0.0,
            0.0
           ],
           "y": [
            0.0,
            0.0,
            5.0,
            5.0,
            0.0
           ],
           "type": "scatter"
          },
          {
           "fill": "toself",
           "fillcolor": "rgba(200, 0, 0, 0.20)",
           "hoverinfo": "name",
           "line": {
            "width": 0
           },
           "mode": "lines",
           "name": "Risk Area",
           "showlegend": false,
           "x": [
            5.0,
            10.0,
            10.0,
            5.0,
            5.0
           ],
           "y": [
            0.0,
            0.0,
            5.0,
            5.0,
            0.0
           ],
           "type": "scatter"
          },
          {
           "fill": "toself",
           "fillcolor": "rgba(200, 0, 0, 0.10)",
           "hoverinfo": "name",
           "line": {
            "width": 0
           },
           "mode": "lines",
           "name": "Risk Area",
           "showlegend": false,
           "x": [
            10.0,
            15.0,
            15.0,
            10.0,
            10.0
           ],
           "y": [
            0.0,
            0.0,
            5.0,
            5.0,
            0.0
           ],
           "type": "scatter"
          },
          {
           "fill": "toself",
           "fillcolor": "rgba(200, 0, 0, 0.00)",
           "hoverinfo": "name",
           "line": {
            "width": 0
           },
           "mode": "lines",
           "name": "Risk Area",
           "showlegend": false,
           "x": [
            10.0,
            15.0,
            15.0,
            10.0,
            10.0
           ],
           "y": [
            5.0,
            5.0,
            10.0,
            10.0,
            5.0
           ],
           "type": "scatter"
          },
          {
           "fill": "toself",
           "fillcolor": "rgba(200, 0, 0, 0.60)",
           "hoverinfo": "name",
           "line": {
            "width": 0
           },
           "mode": "lines",
           "name": "Risk Area",
           "showlegend": false,
           "x": [
            5.0,
            10.0,
            10.0,
            5.0,
            5.0
           ],
           "y": [
            5.0,
            5.0,
            10.0,
            10.0,
            5.0
           ],
           "type": "scatter"
          },
          {
           "fill": "toself",
           "fillcolor": "rgba(200, 0, 0, 0.10)",
           "hoverinfo": "name",
           "line": {
            "width": 0
           },
           "mode": "lines",
           "name": "Risk Area",
           "showlegend": false,
           "x": [
            0.0,
            5.0,
            5.0,
            0.0,
            0.0
           ],
           "y": [
            5.0,
            5.0,
            10.0,
            10.0,
            5.0
           ],
           "type": "scatter"
          },
          {
           "fill": "toself",
           "fillcolor": "rgba(200, 0, 0, 0.00)",
           "hoverinfo": "name",
           "line": {
            "width": 0
           },
           "mode": "lines",
           "name": "Risk Area",
           "showlegend": false,
           "x": [
            0.0,
            5.0,
            5.0,
            0.0,
            0.0
           ],
           "y": [
            10.0,
            10.0,
            15.0,
            15.0,
            10.0
           ],
           "type": "scatter"
          },
          {
           "fill": "toself",
           "fillcolor": "rgba(200, 0, 0, 0.30)",
           "hoverinfo": "name",
           "line": {
            "width": 0
           },
           "mode": "lines",
           "name": "Risk Area",
           "showlegend": false,
           "x": [
            5.0,
            10.0,
            10.0,
            5.0,
            5.0
           ],
           "y": [
            10.0,
            10.0,
            15.0,
            15.0,
            10.0
           ],
           "type": "scatter"
          },
          {
           "fill": "toself",
           "fillcolor": "rgba(200, 0, 0, 0.00)",
           "hoverinfo": "name",
           "line": {
            "width": 0
           },
           "mode": "lines",
           "name": "Risk Area",
           "showlegend": false,
           "x": [
            10.0,
            15.0,
            15.0,
            10.0,
            10.0
           ],
           "y": [
            10.0,
            10.0,
            15.0,
            15.0,
            10.0
           ],
           "type": "scatter"
          },
          {
           "hoverinfo": "text",
           "marker": {
            "opacity": 1,
            "size": 1
           },
           "mode": "markers",
           "showlegend": false,
           "text": [
            "ID: 62.0, Pos(13.15,12.30)"
           ],
           "x": [
            13.15203268035681
           ],
           "y": [
            12.300997751194181
           ],
           "type": "scatter"
          },
          {
           "hoverinfo": "none",
           "marker": {
            "opacity": 0,
            "size": 1
           },
           "mode": "markers",
           "showlegend": false,
           "x": [
            0.0
           ],
           "y": [
            0.0
           ],
           "type": "scatter"
          },
          {
           "hoverinfo": "none",
           "marker": {
            "opacity": 0,
            "size": 1
           },
           "mode": "markers",
           "showlegend": false,
           "x": [
            0.0
           ],
           "y": [
            0.0
           ],
           "type": "scatter"
          },
          {
           "hoverinfo": "none",
           "marker": {
            "opacity": 0,
            "size": 1
           },
           "mode": "markers",
           "showlegend": false,
           "x": [
            0.0
           ],
           "y": [
            0.0
           ],
           "type": "scatter"
          },
          {
           "hoverinfo": "none",
           "marker": {
            "opacity": 0,
            "size": 1
           },
           "mode": "markers",
           "showlegend": false,
           "x": [
            0.0
           ],
           "y": [
            0.0
           ],
           "type": "scatter"
          },
          {
           "hoverinfo": "none",
           "marker": {
            "opacity": 0,
            "size": 1
           },
           "mode": "markers",
           "showlegend": false,
           "x": [
            0.0
           ],
           "y": [
            0.0
           ],
           "type": "scatter"
          },
          {
           "hoverinfo": "none",
           "marker": {
            "opacity": 0,
            "size": 1
           },
           "mode": "markers",
           "showlegend": false,
           "x": [
            0.0
           ],
           "y": [
            0.0
           ],
           "type": "scatter"
          },
          {
           "hoverinfo": "none",
           "marker": {
            "opacity": 0,
            "size": 1
           },
           "mode": "markers",
           "showlegend": false,
           "x": [
            0.0
           ],
           "y": [
            0.0
           ],
           "type": "scatter"
          },
          {
           "hoverinfo": "none",
           "marker": {
            "opacity": 0,
            "size": 1
           },
           "mode": "markers",
           "showlegend": false,
           "x": [
            0.0
           ],
           "y": [
            0.0
           ],
           "type": "scatter"
          },
          {
           "hoverinfo": "none",
           "marker": {
            "opacity": 0,
            "size": 1
           },
           "mode": "markers",
           "showlegend": false,
           "x": [
            0.0
           ],
           "y": [
            0.0
           ],
           "type": "scatter"
          }
         ],
         "layout": {
          "shapes": [
           {
            "fillcolor": "rgba(0, 0, 128, 0.5)",
            "line": {
             "color": "rgba(0, 0, 128, 0.5)"
            },
            "type": "circle",
            "x0": 12.95203268035681,
            "x1": 13.352032680356809,
            "xref": "x",
            "y0": 12.100997751194182,
            "y1": 12.50099775119418,
            "yref": "y"
           },
           {
            "fillcolor": "rgba(255,255,255,0)",
            "line": {
             "width": 0
            },
            "type": "circle",
            "x0": 0.0,
            "x1": 0.0,
            "xref": "x",
            "y0": 0.0,
            "y1": 0.0,
            "yref": "y"
           },
           {
            "fillcolor": "rgba(255,255,255,0)",
            "line": {
             "width": 0
            },
            "type": "circle",
            "x0": 0.0,
            "x1": 0.0,
            "xref": "x",
            "y0": 0.0,
            "y1": 0.0,
            "yref": "y"
           },
           {
            "fillcolor": "rgba(255,255,255,0)",
            "line": {
             "width": 0
            },
            "type": "circle",
            "x0": 0.0,
            "x1": 0.0,
            "xref": "x",
            "y0": 0.0,
            "y1": 0.0,
            "yref": "y"
           },
           {
            "fillcolor": "rgba(255,255,255,0)",
            "line": {
             "width": 0
            },
            "type": "circle",
            "x0": 0.0,
            "x1": 0.0,
            "xref": "x",
            "y0": 0.0,
            "y1": 0.0,
            "yref": "y"
           },
           {
            "fillcolor": "rgba(255,255,255,0)",
            "line": {
             "width": 0
            },
            "type": "circle",
            "x0": 0.0,
            "x1": 0.0,
            "xref": "x",
            "y0": 0.0,
            "y1": 0.0,
            "yref": "y"
           },
           {
            "fillcolor": "rgba(255,255,255,0)",
            "line": {
             "width": 0
            },
            "type": "circle",
            "x0": 0.0,
            "x1": 0.0,
            "xref": "x",
            "y0": 0.0,
            "y1": 0.0,
            "yref": "y"
           },
           {
            "fillcolor": "rgba(255,255,255,0)",
            "line": {
             "width": 0
            },
            "type": "circle",
            "x0": 0.0,
            "x1": 0.0,
            "xref": "x",
            "y0": 0.0,
            "y1": 0.0,
            "yref": "y"
           },
           {
            "fillcolor": "rgba(255,255,255,0)",
            "line": {
             "width": 0
            },
            "type": "circle",
            "x0": 0.0,
            "x1": 0.0,
            "xref": "x",
            "y0": 0.0,
            "y1": 0.0,
            "yref": "y"
           },
           {
            "fillcolor": "rgba(255,255,255,0)",
            "line": {
             "width": 0
            },
            "type": "circle",
            "x0": 0.0,
            "x1": 0.0,
            "xref": "x",
            "y0": 0.0,
            "y1": 0.0,
            "yref": "y"
           },
           {
            "line": {
             "color": "white",
             "width": 3
            },
            "type": "line",
            "x0": 13.15203268035681,
            "x1": 13.228326547360473,
            "y0": 12.300997751194181,
            "y1": 12.485874049993209
           },
           {
            "line": {
             "color": "rgba(255,255,255,0)",
             "width": 3
            },
            "type": "line",
            "x0": 0.0,
            "x1": null,
            "y0": 0.0,
            "y1": null
           },
           {
            "line": {
             "color": "rgba(255,255,255,0)",
             "width": 3
            },
            "type": "line",
            "x0": 0.0,
            "x1": null,
            "y0": 0.0,
            "y1": null
           },
           {
            "line": {
             "color": "rgba(255,255,255,0)",
             "width": 3
            },
            "type": "line",
            "x0": 0.0,
            "x1": null,
            "y0": 0.0,
            "y1": null
           },
           {
            "line": {
             "color": "rgba(255,255,255,0)",
             "width": 3
            },
            "type": "line",
            "x0": 0.0,
            "x1": null,
            "y0": 0.0,
            "y1": null
           },
           {
            "line": {
             "color": "rgba(255,255,255,0)",
             "width": 3
            },
            "type": "line",
            "x0": 0.0,
            "x1": null,
            "y0": 0.0,
            "y1": null
           },
           {
            "line": {
             "color": "rgba(255,255,255,0)",
             "width": 3
            },
            "type": "line",
            "x0": 0.0,
            "x1": null,
            "y0": 0.0,
            "y1": null
           },
           {
            "line": {
             "color": "rgba(255,255,255,0)",
             "width": 3
            },
            "type": "line",
            "x0": 0.0,
            "x1": null,
            "y0": 0.0,
            "y1": null
           },
           {
            "line": {
             "color": "rgba(255,255,255,0)",
             "width": 3
            },
            "type": "line",
            "x0": 0.0,
            "x1": null,
            "y0": 0.0,
            "y1": null
           },
           {
            "line": {
             "color": "rgba(255,255,255,0)",
             "width": 3
            },
            "type": "line",
            "x0": 0.0,
            "x1": null,
            "y0": 0.0,
            "y1": null
           }
          ],
          "title": {
           "text": "<b>Percentage using the shortest path: 0%  |  Number of Agents: 1</b>",
           "x": 0.5
          }
         },
         "name": "1250"
        }
       ],
       "config": {
        "plotlyServerURL": "https://plot.ly"
       }
      },
      "text/html": "<div>                            <div id=\"24ad2849-53c3-44f4-878c-1b7ff5817152\" class=\"plotly-graph-div\" style=\"height:800px; width:800px;\"></div>            <script type=\"text/javascript\">                require([\"plotly\"], function(Plotly) {                    window.PLOTLYENV=window.PLOTLYENV || {};                                    if (document.getElementById(\"24ad2849-53c3-44f4-878c-1b7ff5817152\")) {                    Plotly.newPlot(                        \"24ad2849-53c3-44f4-878c-1b7ff5817152\",                        [{\"hoverinfo\":\"name\",\"line\":{\"color\":\"grey\"},\"mode\":\"lines\",\"name\":\"Exterior\",\"showlegend\":false,\"x\":[10.1,10.1,15.0,15.0,13.6,13.6,15.0,15.0,13.6,13.6,15.0,15.0,10.1,10.1,9.9,9.9,5.1,5.1,4.9,4.9,0.0,0.0,1.5,1.5,0.0,0.0,1.5,1.5,0.0,0.0,4.9,4.9,5.1,5.1,9.9,9.9,10.1],\"y\":[1.5,0.0,0.0,4.9,4.9,5.1,5.1,9.9,9.9,10.1,10.1,15.0,15.0,13.6,13.6,15.0,15.0,13.6,13.6,15.0,15.0,10.1,10.1,9.9,9.9,5.1,5.1,4.9,4.9,0.0,0.0,1.5,1.5,0.0,0.0,1.5,1.5],\"type\":\"scatter\"},{\"hoverinfo\":\"name\",\"line\":{\"color\":\"grey\"},\"mode\":\"lines\",\"name\":\"Obstacle\",\"showlegend\":false,\"x\":[10.1,11.5,11.5,10.1,10.1,9.9,9.9,8.6,8.6,9.9,9.9,10.1,10.1],\"y\":[5.1,5.1,4.9,4.9,3.6,3.6,4.9,4.9,5.1,5.1,6.5,6.5,5.1],\"type\":\"scatter\"},{\"hoverinfo\":\"name\",\"line\":{\"color\":\"grey\"},\"mode\":\"lines\",\"name\":\"Obstacle\",\"showlegend\":false,\"x\":[10.1,11.5,11.5,10.1,10.1,9.9,9.9,8.6,8.6,9.9,9.9,10.1,10.1],\"y\":[10.1,10.1,9.9,9.9,8.6,8.6,9.9,9.9,10.1,10.1,11.5,11.5,10.1],\"type\":\"scatter\"},{\"hoverinfo\":\"name\",\"line\":{\"color\":\"grey\"},\"mode\":\"lines\",\"name\":\"Obstacle\",\"showlegend\":false,\"x\":[5.1,6.4,6.4,5.1,5.1,4.9,4.9,3.6,3.6,4.9,4.9,5.1,5.1],\"y\":[5.1,5.1,4.9,4.9,3.6,3.6,4.9,4.9,5.1,5.1,6.5,6.5,5.1],\"type\":\"scatter\"},{\"hoverinfo\":\"name\",\"line\":{\"color\":\"grey\"},\"mode\":\"lines\",\"name\":\"Obstacle\",\"showlegend\":false,\"x\":[5.1,6.4,6.4,5.1,5.1,4.9,4.9,3.6,3.6,4.9,4.9,5.1,5.1],\"y\":[10.1,10.1,9.9,9.9,8.6,8.6,9.9,9.9,10.1,10.1,11.5,11.5,10.1],\"type\":\"scatter\"},{\"fill\":\"toself\",\"fillcolor\":\"rgba(200, 0, 0, 0.50)\",\"hoverinfo\":\"name\",\"line\":{\"width\":0},\"mode\":\"lines\",\"name\":\"Risk Area\",\"showlegend\":false,\"x\":[0.0,5.0,5.0,0.0,0.0],\"y\":[0.0,0.0,5.0,5.0,0.0],\"type\":\"scatter\"},{\"fill\":\"toself\",\"fillcolor\":\"rgba(200, 0, 0, 0.20)\",\"hoverinfo\":\"name\",\"line\":{\"width\":0},\"mode\":\"lines\",\"name\":\"Risk Area\",\"showlegend\":false,\"x\":[5.0,10.0,10.0,5.0,5.0],\"y\":[0.0,0.0,5.0,5.0,0.0],\"type\":\"scatter\"},{\"fill\":\"toself\",\"fillcolor\":\"rgba(200, 0, 0, 0.10)\",\"hoverinfo\":\"name\",\"line\":{\"width\":0},\"mode\":\"lines\",\"name\":\"Risk Area\",\"showlegend\":false,\"x\":[10.0,15.0,15.0,10.0,10.0],\"y\":[0.0,0.0,5.0,5.0,0.0],\"type\":\"scatter\"},{\"fill\":\"toself\",\"fillcolor\":\"rgba(200, 0, 0, 0.00)\",\"hoverinfo\":\"name\",\"line\":{\"width\":0},\"mode\":\"lines\",\"name\":\"Risk Area\",\"showlegend\":false,\"x\":[10.0,15.0,15.0,10.0,10.0],\"y\":[5.0,5.0,10.0,10.0,5.0],\"type\":\"scatter\"},{\"fill\":\"toself\",\"fillcolor\":\"rgba(200, 0, 0, 0.60)\",\"hoverinfo\":\"name\",\"line\":{\"width\":0},\"mode\":\"lines\",\"name\":\"Risk Area\",\"showlegend\":false,\"x\":[5.0,10.0,10.0,5.0,5.0],\"y\":[5.0,5.0,10.0,10.0,5.0],\"type\":\"scatter\"},{\"fill\":\"toself\",\"fillcolor\":\"rgba(200, 0, 0, 0.10)\",\"hoverinfo\":\"name\",\"line\":{\"width\":0},\"mode\":\"lines\",\"name\":\"Risk Area\",\"showlegend\":false,\"x\":[0.0,5.0,5.0,0.0,0.0],\"y\":[5.0,5.0,10.0,10.0,5.0],\"type\":\"scatter\"},{\"fill\":\"toself\",\"fillcolor\":\"rgba(200, 0, 0, 0.00)\",\"hoverinfo\":\"name\",\"line\":{\"width\":0},\"mode\":\"lines\",\"name\":\"Risk Area\",\"showlegend\":false,\"x\":[0.0,5.0,5.0,0.0,0.0],\"y\":[10.0,10.0,15.0,15.0,10.0],\"type\":\"scatter\"},{\"fill\":\"toself\",\"fillcolor\":\"rgba(200, 0, 0, 0.30)\",\"hoverinfo\":\"name\",\"line\":{\"width\":0},\"mode\":\"lines\",\"name\":\"Risk Area\",\"showlegend\":false,\"x\":[5.0,10.0,10.0,5.0,5.0],\"y\":[10.0,10.0,15.0,15.0,10.0],\"type\":\"scatter\"},{\"fill\":\"toself\",\"fillcolor\":\"rgba(200, 0, 0, 0.00)\",\"hoverinfo\":\"name\",\"line\":{\"width\":0},\"mode\":\"lines\",\"name\":\"Risk Area\",\"showlegend\":false,\"x\":[10.0,15.0,15.0,10.0,10.0],\"y\":[10.0,10.0,15.0,15.0,10.0],\"type\":\"scatter\"},{\"hoverinfo\":\"none\",\"marker\":{\"cmax\":1.2000000000001159,\"cmin\":0,\"color\":[1.1999995813686553,0.5116768031848485,1.199859116713693,1.198496157689276,1.1983382558300264,1.1327968332965495,0.8234092620113442,1.2000000000000115,0.33620504683086555,1.1996222114864952],\"colorbar\":{\"title\":{\"text\":\"Speed [m\\u002fs]\"}},\"colorscale\":[[0.0,\"rgb(128,0,0)\"],[0.2,\"rgb(250,0,0)\"],[0.4,\"rgb(255,255,0)\"],[0.6,\"rgb(5,255,255)\"],[0.8,\"rgb(0,60,170)\"],[1.0,\"rgb(0,0,131)\"]],\"size\":[0.4,0.4,0.4,0.4,0.4,0.4,0.4,0.4,0.4,0.4]},\"mode\":\"markers\",\"showlegend\":false,\"text\":[1.1999995813686553,0.5116768031848485,1.199859116713693,1.198496157689276,1.1983382558300264,1.1327968332965495,0.8234092620113442,1.2000000000000115,0.33620504683086555,1.1996222114864952],\"x\":[3.9863327738146737,0.8488279016949318,1.7258968673840784,2.116160882427272,1.692259232863783,1.453767774845684,3.0719865838614573,3.48879726462054,1.7042831428492793,1.7565776142251517],\"y\":[4.268834270066489,1.6370406488593048,1.5962220773638665,3.5204353653542206,2.7972929381969065,3.6607508930614516,4.234745501580994,1.9561046634672852,3.3139640340517103,2.253852105302265],\"type\":\"scatter\"},{\"hoverinfo\":\"text\",\"marker\":{\"opacity\":1,\"size\":1},\"mode\":\"markers\",\"showlegend\":false,\"text\":[\"ID: 61, Pos(3.99,4.27)\"],\"x\":[3.9863327738146737],\"y\":[4.268834270066489],\"type\":\"scatter\"},{\"hoverinfo\":\"text\",\"marker\":{\"opacity\":1,\"size\":1},\"mode\":\"markers\",\"showlegend\":false,\"text\":[\"ID: 62, Pos(0.85,1.64)\"],\"x\":[0.8488279016949318],\"y\":[1.6370406488593048],\"type\":\"scatter\"},{\"hoverinfo\":\"text\",\"marker\":{\"opacity\":1,\"size\":1},\"mode\":\"markers\",\"showlegend\":false,\"text\":[\"ID: 63, Pos(1.73,1.60)\"],\"x\":[1.7258968673840784],\"y\":[1.5962220773638665],\"type\":\"scatter\"},{\"hoverinfo\":\"text\",\"marker\":{\"opacity\":1,\"size\":1},\"mode\":\"markers\",\"showlegend\":false,\"text\":[\"ID: 64, Pos(2.12,3.52)\"],\"x\":[2.116160882427272],\"y\":[3.5204353653542206],\"type\":\"scatter\"},{\"hoverinfo\":\"text\",\"marker\":{\"opacity\":1,\"size\":1},\"mode\":\"markers\",\"showlegend\":false,\"text\":[\"ID: 65, Pos(1.69,2.80)\"],\"x\":[1.692259232863783],\"y\":[2.7972929381969065],\"type\":\"scatter\"},{\"hoverinfo\":\"text\",\"marker\":{\"opacity\":1,\"size\":1},\"mode\":\"markers\",\"showlegend\":false,\"text\":[\"ID: 66, Pos(1.45,3.66)\"],\"x\":[1.453767774845684],\"y\":[3.6607508930614516],\"type\":\"scatter\"},{\"hoverinfo\":\"text\",\"marker\":{\"opacity\":1,\"size\":1},\"mode\":\"markers\",\"showlegend\":false,\"text\":[\"ID: 67, Pos(3.07,4.23)\"],\"x\":[3.0719865838614573],\"y\":[4.234745501580994],\"type\":\"scatter\"},{\"hoverinfo\":\"text\",\"marker\":{\"opacity\":1,\"size\":1},\"mode\":\"markers\",\"showlegend\":false,\"text\":[\"ID: 68, Pos(3.49,1.96)\"],\"x\":[3.48879726462054],\"y\":[1.9561046634672852],\"type\":\"scatter\"},{\"hoverinfo\":\"text\",\"marker\":{\"opacity\":1,\"size\":1},\"mode\":\"markers\",\"showlegend\":false,\"text\":[\"ID: 69, Pos(1.70,3.31)\"],\"x\":[1.7042831428492793],\"y\":[3.3139640340517103],\"type\":\"scatter\"},{\"hoverinfo\":\"text\",\"marker\":{\"opacity\":1,\"size\":1},\"mode\":\"markers\",\"showlegend\":false,\"text\":[\"ID: 70, Pos(1.76,2.25)\"],\"x\":[1.7565776142251517],\"y\":[2.253852105302265],\"type\":\"scatter\"}],                        {\"shapes\":[{\"fillcolor\":\"rgba(0, 0, 128, 0.5)\",\"line\":{\"color\":\"rgba(0, 0, 128, 0.5)\"},\"type\":\"circle\",\"x0\":3.7863327738146735,\"x1\":4.186332773814674,\"xref\":\"x\",\"y0\":4.068834270066489,\"y1\":4.468834270066489,\"yref\":\"y\"},{\"fillcolor\":\"rgba(225, 255, 22, 0.5)\",\"line\":{\"color\":\"rgba(225, 255, 22, 0.5)\"},\"type\":\"circle\",\"x0\":0.6488279016949319,\"x1\":1.0488279016949318,\"xref\":\"x\",\"y0\":1.4370406488593048,\"y1\":1.8370406488593047,\"yref\":\"y\"},{\"fillcolor\":\"rgba(0, 0, 128, 0.5)\",\"line\":{\"color\":\"rgba(0, 0, 128, 0.5)\"},\"type\":\"circle\",\"x0\":1.5258968673840785,\"x1\":1.9258968673840784,\"xref\":\"x\",\"y0\":1.3962220773638665,\"y1\":1.7962220773638664,\"yref\":\"y\"},{\"fillcolor\":\"rgba(0, 0, 128, 0.5)\",\"line\":{\"color\":\"rgba(0, 0, 128, 0.5)\"},\"type\":\"circle\",\"x0\":1.916160882427272,\"x1\":2.316160882427272,\"xref\":\"x\",\"y0\":3.3204353653542205,\"y1\":3.720435365354221,\"yref\":\"y\"},{\"fillcolor\":\"rgba(0, 0, 128, 0.5)\",\"line\":{\"color\":\"rgba(0, 0, 128, 0.5)\"},\"type\":\"circle\",\"x0\":1.4922592328637831,\"x1\":1.892259232863783,\"xref\":\"x\",\"y0\":2.5972929381969063,\"y1\":2.9972929381969067,\"yref\":\"y\"},{\"fillcolor\":\"rgba(0, 0, 196, 0.5)\",\"line\":{\"color\":\"rgba(0, 0, 196, 0.5)\"},\"type\":\"circle\",\"x0\":1.2537677748456841,\"x1\":1.653767774845684,\"xref\":\"x\",\"y0\":3.4607508930614514,\"y1\":3.860750893061452,\"yref\":\"y\"},{\"fillcolor\":\"rgba(0, 220, 254, 0.5)\",\"line\":{\"color\":\"rgba(0, 220, 254, 0.5)\"},\"type\":\"circle\",\"x0\":2.871986583861457,\"x1\":3.2719865838614575,\"xref\":\"x\",\"y0\":4.034745501580994,\"y1\":4.434745501580994,\"yref\":\"y\"},{\"fillcolor\":\"rgba(0, 0, 128, 0.5)\",\"line\":{\"color\":\"rgba(0, 0, 128, 0.5)\"},\"type\":\"circle\",\"x0\":3.28879726462054,\"x1\":3.6887972646205403,\"xref\":\"x\",\"y0\":1.7561046634672852,\"y1\":2.156104663467285,\"yref\":\"y\"},{\"fillcolor\":\"rgba(255, 119, 0, 0.5)\",\"line\":{\"color\":\"rgba(255, 119, 0, 0.5)\"},\"type\":\"circle\",\"x0\":1.5042831428492793,\"x1\":1.9042831428492792,\"xref\":\"x\",\"y0\":3.11396403405171,\"y1\":3.5139640340517104,\"yref\":\"y\"},{\"fillcolor\":\"rgba(0, 0, 128, 0.5)\",\"line\":{\"color\":\"rgba(0, 0, 128, 0.5)\"},\"type\":\"circle\",\"x0\":1.5565776142251517,\"x1\":1.9565776142251516,\"xref\":\"x\",\"y0\":2.0538521053022647,\"y1\":2.453852105302265,\"yref\":\"y\"},{\"line\":{\"color\":\"white\",\"width\":3},\"type\":\"line\",\"x0\":3.9863327738146737,\"x1\":3.9863327738146737,\"y0\":4.268834270066489,\"y1\":4.268834270066489},{\"line\":{\"color\":\"black\",\"width\":3},\"type\":\"line\",\"x0\":0.8488279016949318,\"x1\":0.8488279016949318,\"y0\":1.6370406488593048,\"y1\":1.6370406488593048},{\"line\":{\"color\":\"white\",\"width\":3},\"type\":\"line\",\"x0\":1.7258968673840784,\"x1\":1.7258968673840784,\"y0\":1.5962220773638665,\"y1\":1.5962220773638665},{\"line\":{\"color\":\"white\",\"width\":3},\"type\":\"line\",\"x0\":2.116160882427272,\"x1\":2.116160882427272,\"y0\":3.5204353653542206,\"y1\":3.5204353653542206},{\"line\":{\"color\":\"white\",\"width\":3},\"type\":\"line\",\"x0\":1.692259232863783,\"x1\":1.692259232863783,\"y0\":2.7972929381969065,\"y1\":2.7972929381969065},{\"line\":{\"color\":\"white\",\"width\":3},\"type\":\"line\",\"x0\":1.453767774845684,\"x1\":1.453767774845684,\"y0\":3.6607508930614516,\"y1\":3.6607508930614516},{\"line\":{\"color\":\"black\",\"width\":3},\"type\":\"line\",\"x0\":3.0719865838614573,\"x1\":3.0719865838614573,\"y0\":4.234745501580994,\"y1\":4.234745501580994},{\"line\":{\"color\":\"white\",\"width\":3},\"type\":\"line\",\"x0\":3.48879726462054,\"x1\":3.48879726462054,\"y0\":1.9561046634672852,\"y1\":1.9561046634672852},{\"line\":{\"color\":\"black\",\"width\":3},\"type\":\"line\",\"x0\":1.7042831428492793,\"x1\":1.7042831428492793,\"y0\":3.3139640340517103,\"y1\":3.3139640340517103},{\"line\":{\"color\":\"white\",\"width\":3},\"type\":\"line\",\"x0\":1.7565776142251517,\"x1\":1.7565776142251517,\"y0\":2.253852105302265,\"y1\":2.253852105302265}],\"title\":{\"text\":\"\\u003cb\\u003ePercentage using the shortest path: 0%  |  Number of Agents: 10\\u003c\\u002fb\\u003e\",\"x\":0.5},\"template\":{\"data\":{\"histogram2dcontour\":[{\"type\":\"histogram2dcontour\",\"colorbar\":{\"outlinewidth\":0,\"ticks\":\"\"},\"colorscale\":[[0.0,\"#0d0887\"],[0.1111111111111111,\"#46039f\"],[0.2222222222222222,\"#7201a8\"],[0.3333333333333333,\"#9c179e\"],[0.4444444444444444,\"#bd3786\"],[0.5555555555555556,\"#d8576b\"],[0.6666666666666666,\"#ed7953\"],[0.7777777777777778,\"#fb9f3a\"],[0.8888888888888888,\"#fdca26\"],[1.0,\"#f0f921\"]]}],\"choropleth\":[{\"type\":\"choropleth\",\"colorbar\":{\"outlinewidth\":0,\"ticks\":\"\"}}],\"histogram2d\":[{\"type\":\"histogram2d\",\"colorbar\":{\"outlinewidth\":0,\"ticks\":\"\"},\"colorscale\":[[0.0,\"#0d0887\"],[0.1111111111111111,\"#46039f\"],[0.2222222222222222,\"#7201a8\"],[0.3333333333333333,\"#9c179e\"],[0.4444444444444444,\"#bd3786\"],[0.5555555555555556,\"#d8576b\"],[0.6666666666666666,\"#ed7953\"],[0.7777777777777778,\"#fb9f3a\"],[0.8888888888888888,\"#fdca26\"],[1.0,\"#f0f921\"]]}],\"heatmap\":[{\"type\":\"heatmap\",\"colorbar\":{\"outlinewidth\":0,\"ticks\":\"\"},\"colorscale\":[[0.0,\"#0d0887\"],[0.1111111111111111,\"#46039f\"],[0.2222222222222222,\"#7201a8\"],[0.3333333333333333,\"#9c179e\"],[0.4444444444444444,\"#bd3786\"],[0.5555555555555556,\"#d8576b\"],[0.6666666666666666,\"#ed7953\"],[0.7777777777777778,\"#fb9f3a\"],[0.8888888888888888,\"#fdca26\"],[1.0,\"#f0f921\"]]}],\"heatmapgl\":[{\"type\":\"heatmapgl\",\"colorbar\":{\"outlinewidth\":0,\"ticks\":\"\"},\"colorscale\":[[0.0,\"#0d0887\"],[0.1111111111111111,\"#46039f\"],[0.2222222222222222,\"#7201a8\"],[0.3333333333333333,\"#9c179e\"],[0.4444444444444444,\"#bd3786\"],[0.5555555555555556,\"#d8576b\"],[0.6666666666666666,\"#ed7953\"],[0.7777777777777778,\"#fb9f3a\"],[0.8888888888888888,\"#fdca26\"],[1.0,\"#f0f921\"]]}],\"contourcarpet\":[{\"type\":\"contourcarpet\",\"colorbar\":{\"outlinewidth\":0,\"ticks\":\"\"}}],\"contour\":[{\"type\":\"contour\",\"colorbar\":{\"outlinewidth\":0,\"ticks\":\"\"},\"colorscale\":[[0.0,\"#0d0887\"],[0.1111111111111111,\"#46039f\"],[0.2222222222222222,\"#7201a8\"],[0.3333333333333333,\"#9c179e\"],[0.4444444444444444,\"#bd3786\"],[0.5555555555555556,\"#d8576b\"],[0.6666666666666666,\"#ed7953\"],[0.7777777777777778,\"#fb9f3a\"],[0.8888888888888888,\"#fdca26\"],[1.0,\"#f0f921\"]]}],\"surface\":[{\"type\":\"surface\",\"colorbar\":{\"outlinewidth\":0,\"ticks\":\"\"},\"colorscale\":[[0.0,\"#0d0887\"],[0.1111111111111111,\"#46039f\"],[0.2222222222222222,\"#7201a8\"],[0.3333333333333333,\"#9c179e\"],[0.4444444444444444,\"#bd3786\"],[0.5555555555555556,\"#d8576b\"],[0.6666666666666666,\"#ed7953\"],[0.7777777777777778,\"#fb9f3a\"],[0.8888888888888888,\"#fdca26\"],[1.0,\"#f0f921\"]]}],\"mesh3d\":[{\"type\":\"mesh3d\",\"colorbar\":{\"outlinewidth\":0,\"ticks\":\"\"}}],\"scatter\":[{\"marker\":{\"line\":{\"color\":\"#283442\"}},\"type\":\"scatter\"}],\"parcoords\":[{\"type\":\"parcoords\",\"line\":{\"colorbar\":{\"outlinewidth\":0,\"ticks\":\"\"}}}],\"scatterpolargl\":[{\"type\":\"scatterpolargl\",\"marker\":{\"colorbar\":{\"outlinewidth\":0,\"ticks\":\"\"}}}],\"bar\":[{\"error_x\":{\"color\":\"#f2f5fa\"},\"error_y\":{\"color\":\"#f2f5fa\"},\"marker\":{\"line\":{\"color\":\"rgb(17,17,17)\",\"width\":0.5},\"pattern\":{\"fillmode\":\"overlay\",\"size\":10,\"solidity\":0.2}},\"type\":\"bar\"}],\"scattergeo\":[{\"type\":\"scattergeo\",\"marker\":{\"colorbar\":{\"outlinewidth\":0,\"ticks\":\"\"}}}],\"scatterpolar\":[{\"type\":\"scatterpolar\",\"marker\":{\"colorbar\":{\"outlinewidth\":0,\"ticks\":\"\"}}}],\"histogram\":[{\"marker\":{\"pattern\":{\"fillmode\":\"overlay\",\"size\":10,\"solidity\":0.2}},\"type\":\"histogram\"}],\"scattergl\":[{\"marker\":{\"line\":{\"color\":\"#283442\"}},\"type\":\"scattergl\"}],\"scatter3d\":[{\"type\":\"scatter3d\",\"line\":{\"colorbar\":{\"outlinewidth\":0,\"ticks\":\"\"}},\"marker\":{\"colorbar\":{\"outlinewidth\":0,\"ticks\":\"\"}}}],\"scattermapbox\":[{\"type\":\"scattermapbox\",\"marker\":{\"colorbar\":{\"outlinewidth\":0,\"ticks\":\"\"}}}],\"scatterternary\":[{\"type\":\"scatterternary\",\"marker\":{\"colorbar\":{\"outlinewidth\":0,\"ticks\":\"\"}}}],\"scattercarpet\":[{\"type\":\"scattercarpet\",\"marker\":{\"colorbar\":{\"outlinewidth\":0,\"ticks\":\"\"}}}],\"carpet\":[{\"aaxis\":{\"endlinecolor\":\"#A2B1C6\",\"gridcolor\":\"#506784\",\"linecolor\":\"#506784\",\"minorgridcolor\":\"#506784\",\"startlinecolor\":\"#A2B1C6\"},\"baxis\":{\"endlinecolor\":\"#A2B1C6\",\"gridcolor\":\"#506784\",\"linecolor\":\"#506784\",\"minorgridcolor\":\"#506784\",\"startlinecolor\":\"#A2B1C6\"},\"type\":\"carpet\"}],\"table\":[{\"cells\":{\"fill\":{\"color\":\"#506784\"},\"line\":{\"color\":\"rgb(17,17,17)\"}},\"header\":{\"fill\":{\"color\":\"#2a3f5f\"},\"line\":{\"color\":\"rgb(17,17,17)\"}},\"type\":\"table\"}],\"barpolar\":[{\"marker\":{\"line\":{\"color\":\"rgb(17,17,17)\",\"width\":0.5},\"pattern\":{\"fillmode\":\"overlay\",\"size\":10,\"solidity\":0.2}},\"type\":\"barpolar\"}],\"pie\":[{\"automargin\":true,\"type\":\"pie\"}]},\"layout\":{\"autotypenumbers\":\"strict\",\"colorway\":[\"#636efa\",\"#EF553B\",\"#00cc96\",\"#ab63fa\",\"#FFA15A\",\"#19d3f3\",\"#FF6692\",\"#B6E880\",\"#FF97FF\",\"#FECB52\"],\"font\":{\"color\":\"#f2f5fa\"},\"hovermode\":\"closest\",\"hoverlabel\":{\"align\":\"left\"},\"paper_bgcolor\":\"rgb(17,17,17)\",\"plot_bgcolor\":\"rgb(17,17,17)\",\"polar\":{\"bgcolor\":\"rgb(17,17,17)\",\"angularaxis\":{\"gridcolor\":\"#506784\",\"linecolor\":\"#506784\",\"ticks\":\"\"},\"radialaxis\":{\"gridcolor\":\"#506784\",\"linecolor\":\"#506784\",\"ticks\":\"\"}},\"ternary\":{\"bgcolor\":\"rgb(17,17,17)\",\"aaxis\":{\"gridcolor\":\"#506784\",\"linecolor\":\"#506784\",\"ticks\":\"\"},\"baxis\":{\"gridcolor\":\"#506784\",\"linecolor\":\"#506784\",\"ticks\":\"\"},\"caxis\":{\"gridcolor\":\"#506784\",\"linecolor\":\"#506784\",\"ticks\":\"\"}},\"coloraxis\":{\"colorbar\":{\"outlinewidth\":0,\"ticks\":\"\"}},\"colorscale\":{\"sequential\":[[0.0,\"#0d0887\"],[0.1111111111111111,\"#46039f\"],[0.2222222222222222,\"#7201a8\"],[0.3333333333333333,\"#9c179e\"],[0.4444444444444444,\"#bd3786\"],[0.5555555555555556,\"#d8576b\"],[0.6666666666666666,\"#ed7953\"],[0.7777777777777778,\"#fb9f3a\"],[0.8888888888888888,\"#fdca26\"],[1.0,\"#f0f921\"]],\"sequentialminus\":[[0.0,\"#0d0887\"],[0.1111111111111111,\"#46039f\"],[0.2222222222222222,\"#7201a8\"],[0.3333333333333333,\"#9c179e\"],[0.4444444444444444,\"#bd3786\"],[0.5555555555555556,\"#d8576b\"],[0.6666666666666666,\"#ed7953\"],[0.7777777777777778,\"#fb9f3a\"],[0.8888888888888888,\"#fdca26\"],[1.0,\"#f0f921\"]],\"diverging\":[[0,\"#8e0152\"],[0.1,\"#c51b7d\"],[0.2,\"#de77ae\"],[0.3,\"#f1b6da\"],[0.4,\"#fde0ef\"],[0.5,\"#f7f7f7\"],[0.6,\"#e6f5d0\"],[0.7,\"#b8e186\"],[0.8,\"#7fbc41\"],[0.9,\"#4d9221\"],[1,\"#276419\"]]},\"xaxis\":{\"gridcolor\":\"#283442\",\"linecolor\":\"#506784\",\"ticks\":\"\",\"title\":{\"standoff\":15},\"zerolinecolor\":\"#283442\",\"automargin\":true,\"zerolinewidth\":2},\"yaxis\":{\"gridcolor\":\"#283442\",\"linecolor\":\"#506784\",\"ticks\":\"\",\"title\":{\"standoff\":15},\"zerolinecolor\":\"#283442\",\"automargin\":true,\"zerolinewidth\":2},\"scene\":{\"xaxis\":{\"backgroundcolor\":\"rgb(17,17,17)\",\"gridcolor\":\"#506784\",\"linecolor\":\"#506784\",\"showbackground\":true,\"ticks\":\"\",\"zerolinecolor\":\"#C8D4E3\",\"gridwidth\":2},\"yaxis\":{\"backgroundcolor\":\"rgb(17,17,17)\",\"gridcolor\":\"#506784\",\"linecolor\":\"#506784\",\"showbackground\":true,\"ticks\":\"\",\"zerolinecolor\":\"#C8D4E3\",\"gridwidth\":2},\"zaxis\":{\"backgroundcolor\":\"rgb(17,17,17)\",\"gridcolor\":\"#506784\",\"linecolor\":\"#506784\",\"showbackground\":true,\"ticks\":\"\",\"zerolinecolor\":\"#C8D4E3\",\"gridwidth\":2}},\"shapedefaults\":{\"line\":{\"color\":\"#f2f5fa\"}},\"annotationdefaults\":{\"arrowcolor\":\"#f2f5fa\",\"arrowhead\":0,\"arrowwidth\":1},\"geo\":{\"bgcolor\":\"rgb(17,17,17)\",\"landcolor\":\"rgb(17,17,17)\",\"subunitcolor\":\"#506784\",\"showland\":true,\"showlakes\":true,\"lakecolor\":\"rgb(17,17,17)\"},\"title\":{\"x\":0.05},\"updatemenudefaults\":{\"bgcolor\":\"#506784\",\"borderwidth\":0},\"sliderdefaults\":{\"bgcolor\":\"#C8D4E3\",\"borderwidth\":1,\"bordercolor\":\"rgb(17,17,17)\",\"tickwidth\":0},\"mapbox\":{\"style\":\"dark\"}}},\"xaxis\":{\"range\":[-0.5,15.5]},\"yaxis\":{\"scaleanchor\":\"x\",\"scaleratio\":1,\"range\":[-0.5,15.5]},\"updatemenus\":[{\"buttons\":[{\"args\":[null,{\"frame\":{\"duration\":100,\"redraw\":true},\"fromcurrent\":true}],\"label\":\"Play\",\"method\":\"animate\"}],\"direction\":\"left\",\"pad\":{\"r\":10,\"t\":87},\"showactive\":false,\"type\":\"buttons\",\"x\":0.1,\"xanchor\":\"right\",\"y\":0,\"yanchor\":\"top\"}],\"sliders\":[{\"active\":0,\"currentvalue\":{\"font\":{\"size\":20},\"prefix\":\"Frame:\",\"visible\":true,\"xanchor\":\"right\"},\"len\":0.9,\"pad\":{\"b\":10,\"t\":50},\"steps\":[{\"args\":[[\"0\"],{\"frame\":{\"duration\":100,\"redraw\":true},\"mode\":\"immediate\",\"transition\":{\"duration\":500}}],\"label\":\"0\",\"method\":\"animate\"},{\"args\":[[\"50\"],{\"frame\":{\"duration\":100,\"redraw\":true},\"mode\":\"immediate\",\"transition\":{\"duration\":500}}],\"label\":\"50\",\"method\":\"animate\"},{\"args\":[[\"100\"],{\"frame\":{\"duration\":100,\"redraw\":true},\"mode\":\"immediate\",\"transition\":{\"duration\":500}}],\"label\":\"100\",\"method\":\"animate\"},{\"args\":[[\"150\"],{\"frame\":{\"duration\":100,\"redraw\":true},\"mode\":\"immediate\",\"transition\":{\"duration\":500}}],\"label\":\"150\",\"method\":\"animate\"},{\"args\":[[\"200\"],{\"frame\":{\"duration\":100,\"redraw\":true},\"mode\":\"immediate\",\"transition\":{\"duration\":500}}],\"label\":\"200\",\"method\":\"animate\"},{\"args\":[[\"250\"],{\"frame\":{\"duration\":100,\"redraw\":true},\"mode\":\"immediate\",\"transition\":{\"duration\":500}}],\"label\":\"250\",\"method\":\"animate\"},{\"args\":[[\"300\"],{\"frame\":{\"duration\":100,\"redraw\":true},\"mode\":\"immediate\",\"transition\":{\"duration\":500}}],\"label\":\"300\",\"method\":\"animate\"},{\"args\":[[\"350\"],{\"frame\":{\"duration\":100,\"redraw\":true},\"mode\":\"immediate\",\"transition\":{\"duration\":500}}],\"label\":\"350\",\"method\":\"animate\"},{\"args\":[[\"400\"],{\"frame\":{\"duration\":100,\"redraw\":true},\"mode\":\"immediate\",\"transition\":{\"duration\":500}}],\"label\":\"400\",\"method\":\"animate\"},{\"args\":[[\"450\"],{\"frame\":{\"duration\":100,\"redraw\":true},\"mode\":\"immediate\",\"transition\":{\"duration\":500}}],\"label\":\"450\",\"method\":\"animate\"},{\"args\":[[\"500\"],{\"frame\":{\"duration\":100,\"redraw\":true},\"mode\":\"immediate\",\"transition\":{\"duration\":500}}],\"label\":\"500\",\"method\":\"animate\"},{\"args\":[[\"550\"],{\"frame\":{\"duration\":100,\"redraw\":true},\"mode\":\"immediate\",\"transition\":{\"duration\":500}}],\"label\":\"550\",\"method\":\"animate\"},{\"args\":[[\"600\"],{\"frame\":{\"duration\":100,\"redraw\":true},\"mode\":\"immediate\",\"transition\":{\"duration\":500}}],\"label\":\"600\",\"method\":\"animate\"},{\"args\":[[\"650\"],{\"frame\":{\"duration\":100,\"redraw\":true},\"mode\":\"immediate\",\"transition\":{\"duration\":500}}],\"label\":\"650\",\"method\":\"animate\"},{\"args\":[[\"700\"],{\"frame\":{\"duration\":100,\"redraw\":true},\"mode\":\"immediate\",\"transition\":{\"duration\":500}}],\"label\":\"700\",\"method\":\"animate\"},{\"args\":[[\"750\"],{\"frame\":{\"duration\":100,\"redraw\":true},\"mode\":\"immediate\",\"transition\":{\"duration\":500}}],\"label\":\"750\",\"method\":\"animate\"},{\"args\":[[\"800\"],{\"frame\":{\"duration\":100,\"redraw\":true},\"mode\":\"immediate\",\"transition\":{\"duration\":500}}],\"label\":\"800\",\"method\":\"animate\"},{\"args\":[[\"850\"],{\"frame\":{\"duration\":100,\"redraw\":true},\"mode\":\"immediate\",\"transition\":{\"duration\":500}}],\"label\":\"850\",\"method\":\"animate\"},{\"args\":[[\"900\"],{\"frame\":{\"duration\":100,\"redraw\":true},\"mode\":\"immediate\",\"transition\":{\"duration\":500}}],\"label\":\"900\",\"method\":\"animate\"},{\"args\":[[\"950\"],{\"frame\":{\"duration\":100,\"redraw\":true},\"mode\":\"immediate\",\"transition\":{\"duration\":500}}],\"label\":\"950\",\"method\":\"animate\"},{\"args\":[[\"1000\"],{\"frame\":{\"duration\":100,\"redraw\":true},\"mode\":\"immediate\",\"transition\":{\"duration\":500}}],\"label\":\"1000\",\"method\":\"animate\"},{\"args\":[[\"1050\"],{\"frame\":{\"duration\":100,\"redraw\":true},\"mode\":\"immediate\",\"transition\":{\"duration\":500}}],\"label\":\"1050\",\"method\":\"animate\"},{\"args\":[[\"1100\"],{\"frame\":{\"duration\":100,\"redraw\":true},\"mode\":\"immediate\",\"transition\":{\"duration\":500}}],\"label\":\"1100\",\"method\":\"animate\"},{\"args\":[[\"1150\"],{\"frame\":{\"duration\":100,\"redraw\":true},\"mode\":\"immediate\",\"transition\":{\"duration\":500}}],\"label\":\"1150\",\"method\":\"animate\"},{\"args\":[[\"1200\"],{\"frame\":{\"duration\":100,\"redraw\":true},\"mode\":\"immediate\",\"transition\":{\"duration\":500}}],\"label\":\"1200\",\"method\":\"animate\"},{\"args\":[[\"1250\"],{\"frame\":{\"duration\":100,\"redraw\":true},\"mode\":\"immediate\",\"transition\":{\"duration\":500}}],\"label\":\"1250\",\"method\":\"animate\"}],\"transition\":{\"duration\":100,\"easing\":\"cubic-in-out\"},\"x\":0.1,\"xanchor\":\"left\",\"y\":0,\"yanchor\":\"top\"}],\"autosize\":false,\"width\":800,\"height\":800},                        {\"responsive\": true}                    ).then(function(){\n                            Plotly.addFrames('24ad2849-53c3-44f4-878c-1b7ff5817152', [{\"data\":[{\"hoverinfo\":\"name\",\"line\":{\"color\":\"grey\"},\"mode\":\"lines\",\"name\":\"Exterior\",\"showlegend\":false,\"x\":[10.1,10.1,15.0,15.0,13.6,13.6,15.0,15.0,13.6,13.6,15.0,15.0,10.1,10.1,9.9,9.9,5.1,5.1,4.9,4.9,0.0,0.0,1.5,1.5,0.0,0.0,1.5,1.5,0.0,0.0,4.9,4.9,5.1,5.1,9.9,9.9,10.1],\"y\":[1.5,0.0,0.0,4.9,4.9,5.1,5.1,9.9,9.9,10.1,10.1,15.0,15.0,13.6,13.6,15.0,15.0,13.6,13.6,15.0,15.0,10.1,10.1,9.9,9.9,5.1,5.1,4.9,4.9,0.0,0.0,1.5,1.5,0.0,0.0,1.5,1.5],\"type\":\"scatter\"},{\"hoverinfo\":\"name\",\"line\":{\"color\":\"grey\"},\"mode\":\"lines\",\"name\":\"Obstacle\",\"showlegend\":false,\"x\":[10.1,11.5,11.5,10.1,10.1,9.9,9.9,8.6,8.6,9.9,9.9,10.1,10.1],\"y\":[5.1,5.1,4.9,4.9,3.6,3.6,4.9,4.9,5.1,5.1,6.5,6.5,5.1],\"type\":\"scatter\"},{\"hoverinfo\":\"name\",\"line\":{\"color\":\"grey\"},\"mode\":\"lines\",\"name\":\"Obstacle\",\"showlegend\":false,\"x\":[10.1,11.5,11.5,10.1,10.1,9.9,9.9,8.6,8.6,9.9,9.9,10.1,10.1],\"y\":[10.1,10.1,9.9,9.9,8.6,8.6,9.9,9.9,10.1,10.1,11.5,11.5,10.1],\"type\":\"scatter\"},{\"hoverinfo\":\"name\",\"line\":{\"color\":\"grey\"},\"mode\":\"lines\",\"name\":\"Obstacle\",\"showlegend\":false,\"x\":[5.1,6.4,6.4,5.1,5.1,4.9,4.9,3.6,3.6,4.9,4.9,5.1,5.1],\"y\":[5.1,5.1,4.9,4.9,3.6,3.6,4.9,4.9,5.1,5.1,6.5,6.5,5.1],\"type\":\"scatter\"},{\"hoverinfo\":\"name\",\"line\":{\"color\":\"grey\"},\"mode\":\"lines\",\"name\":\"Obstacle\",\"showlegend\":false,\"x\":[5.1,6.4,6.4,5.1,5.1,4.9,4.9,3.6,3.6,4.9,4.9,5.1,5.1],\"y\":[10.1,10.1,9.9,9.9,8.6,8.6,9.9,9.9,10.1,10.1,11.5,11.5,10.1],\"type\":\"scatter\"},{\"fill\":\"toself\",\"fillcolor\":\"rgba(200, 0, 0, 0.00)\",\"hoverinfo\":\"name\",\"line\":{\"width\":0},\"mode\":\"lines\",\"name\":\"Risk Area\",\"showlegend\":false,\"x\":[0.0,5.0,5.0,0.0,0.0],\"y\":[0.0,0.0,5.0,5.0,0.0],\"type\":\"scatter\"},{\"fill\":\"toself\",\"fillcolor\":\"rgba(200, 0, 0, 0.10)\",\"hoverinfo\":\"name\",\"line\":{\"width\":0},\"mode\":\"lines\",\"name\":\"Risk Area\",\"showlegend\":false,\"x\":[5.0,10.0,10.0,5.0,5.0],\"y\":[0.0,0.0,5.0,5.0,0.0],\"type\":\"scatter\"},{\"fill\":\"toself\",\"fillcolor\":\"rgba(200, 0, 0, 0.00)\",\"hoverinfo\":\"name\",\"line\":{\"width\":0},\"mode\":\"lines\",\"name\":\"Risk Area\",\"showlegend\":false,\"x\":[10.0,15.0,15.0,10.0,10.0],\"y\":[0.0,0.0,5.0,5.0,0.0],\"type\":\"scatter\"},{\"fill\":\"toself\",\"fillcolor\":\"rgba(200, 0, 0, 0.00)\",\"hoverinfo\":\"name\",\"line\":{\"width\":0},\"mode\":\"lines\",\"name\":\"Risk Area\",\"showlegend\":false,\"x\":[10.0,15.0,15.0,10.0,10.0],\"y\":[5.0,5.0,10.0,10.0,5.0],\"type\":\"scatter\"},{\"fill\":\"toself\",\"fillcolor\":\"rgba(200, 0, 0, 0.30)\",\"hoverinfo\":\"name\",\"line\":{\"width\":0},\"mode\":\"lines\",\"name\":\"Risk Area\",\"showlegend\":false,\"x\":[5.0,10.0,10.0,5.0,5.0],\"y\":[5.0,5.0,10.0,10.0,5.0],\"type\":\"scatter\"},{\"fill\":\"toself\",\"fillcolor\":\"rgba(200, 0, 0, 0.00)\",\"hoverinfo\":\"name\",\"line\":{\"width\":0},\"mode\":\"lines\",\"name\":\"Risk Area\",\"showlegend\":false,\"x\":[0.0,5.0,5.0,0.0,0.0],\"y\":[5.0,5.0,10.0,10.0,5.0],\"type\":\"scatter\"},{\"fill\":\"toself\",\"fillcolor\":\"rgba(200, 0, 0, 0.00)\",\"hoverinfo\":\"name\",\"line\":{\"width\":0},\"mode\":\"lines\",\"name\":\"Risk Area\",\"showlegend\":false,\"x\":[0.0,5.0,5.0,0.0,0.0],\"y\":[10.0,10.0,15.0,15.0,10.0],\"type\":\"scatter\"},{\"fill\":\"toself\",\"fillcolor\":\"rgba(200, 0, 0, 0.00)\",\"hoverinfo\":\"name\",\"line\":{\"width\":0},\"mode\":\"lines\",\"name\":\"Risk Area\",\"showlegend\":false,\"x\":[5.0,10.0,10.0,5.0,5.0],\"y\":[10.0,10.0,15.0,15.0,10.0],\"type\":\"scatter\"},{\"fill\":\"toself\",\"fillcolor\":\"rgba(200, 0, 0, 0.00)\",\"hoverinfo\":\"name\",\"line\":{\"width\":0},\"mode\":\"lines\",\"name\":\"Risk Area\",\"showlegend\":false,\"x\":[10.0,15.0,15.0,10.0,10.0],\"y\":[10.0,10.0,15.0,15.0,10.0],\"type\":\"scatter\"},{\"hoverinfo\":\"text\",\"marker\":{\"opacity\":1,\"size\":1},\"mode\":\"markers\",\"showlegend\":false,\"text\":[\"ID: 61, Pos(3.99,4.27)\"],\"x\":[3.9863327738146737],\"y\":[4.268834270066489],\"type\":\"scatter\"},{\"hoverinfo\":\"text\",\"marker\":{\"opacity\":1,\"size\":1},\"mode\":\"markers\",\"showlegend\":false,\"text\":[\"ID: 62, Pos(0.85,1.64)\"],\"x\":[0.8488279016949318],\"y\":[1.6370406488593048],\"type\":\"scatter\"},{\"hoverinfo\":\"text\",\"marker\":{\"opacity\":1,\"size\":1},\"mode\":\"markers\",\"showlegend\":false,\"text\":[\"ID: 63, Pos(1.73,1.60)\"],\"x\":[1.7258968673840784],\"y\":[1.5962220773638665],\"type\":\"scatter\"},{\"hoverinfo\":\"text\",\"marker\":{\"opacity\":1,\"size\":1},\"mode\":\"markers\",\"showlegend\":false,\"text\":[\"ID: 64, Pos(2.12,3.52)\"],\"x\":[2.116160882427272],\"y\":[3.5204353653542206],\"type\":\"scatter\"},{\"hoverinfo\":\"text\",\"marker\":{\"opacity\":1,\"size\":1},\"mode\":\"markers\",\"showlegend\":false,\"text\":[\"ID: 65, Pos(1.69,2.80)\"],\"x\":[1.692259232863783],\"y\":[2.7972929381969065],\"type\":\"scatter\"},{\"hoverinfo\":\"text\",\"marker\":{\"opacity\":1,\"size\":1},\"mode\":\"markers\",\"showlegend\":false,\"text\":[\"ID: 66, Pos(1.45,3.66)\"],\"x\":[1.453767774845684],\"y\":[3.6607508930614516],\"type\":\"scatter\"},{\"hoverinfo\":\"text\",\"marker\":{\"opacity\":1,\"size\":1},\"mode\":\"markers\",\"showlegend\":false,\"text\":[\"ID: 67, Pos(3.07,4.23)\"],\"x\":[3.0719865838614573],\"y\":[4.234745501580994],\"type\":\"scatter\"},{\"hoverinfo\":\"text\",\"marker\":{\"opacity\":1,\"size\":1},\"mode\":\"markers\",\"showlegend\":false,\"text\":[\"ID: 68, Pos(3.49,1.96)\"],\"x\":[3.48879726462054],\"y\":[1.9561046634672852],\"type\":\"scatter\"},{\"hoverinfo\":\"text\",\"marker\":{\"opacity\":1,\"size\":1},\"mode\":\"markers\",\"showlegend\":false,\"text\":[\"ID: 69, Pos(1.70,3.31)\"],\"x\":[1.7042831428492793],\"y\":[3.3139640340517103],\"type\":\"scatter\"},{\"hoverinfo\":\"text\",\"marker\":{\"opacity\":1,\"size\":1},\"mode\":\"markers\",\"showlegend\":false,\"text\":[\"ID: 70, Pos(1.76,2.25)\"],\"x\":[1.7565776142251517],\"y\":[2.253852105302265],\"type\":\"scatter\"}],\"layout\":{\"shapes\":[{\"fillcolor\":\"rgba(0, 0, 128, 0.5)\",\"line\":{\"color\":\"rgba(0, 0, 128, 0.5)\"},\"type\":\"circle\",\"x0\":3.7863327738146735,\"x1\":4.186332773814674,\"xref\":\"x\",\"y0\":4.068834270066489,\"y1\":4.468834270066489,\"yref\":\"y\"},{\"fillcolor\":\"rgba(225, 255, 22, 0.5)\",\"line\":{\"color\":\"rgba(225, 255, 22, 0.5)\"},\"type\":\"circle\",\"x0\":0.6488279016949319,\"x1\":1.0488279016949318,\"xref\":\"x\",\"y0\":1.4370406488593048,\"y1\":1.8370406488593047,\"yref\":\"y\"},{\"fillcolor\":\"rgba(0, 0, 128, 0.5)\",\"line\":{\"color\":\"rgba(0, 0, 128, 0.5)\"},\"type\":\"circle\",\"x0\":1.5258968673840785,\"x1\":1.9258968673840784,\"xref\":\"x\",\"y0\":1.3962220773638665,\"y1\":1.7962220773638664,\"yref\":\"y\"},{\"fillcolor\":\"rgba(0, 0, 128, 0.5)\",\"line\":{\"color\":\"rgba(0, 0, 128, 0.5)\"},\"type\":\"circle\",\"x0\":1.916160882427272,\"x1\":2.316160882427272,\"xref\":\"x\",\"y0\":3.3204353653542205,\"y1\":3.720435365354221,\"yref\":\"y\"},{\"fillcolor\":\"rgba(0, 0, 128, 0.5)\",\"line\":{\"color\":\"rgba(0, 0, 128, 0.5)\"},\"type\":\"circle\",\"x0\":1.4922592328637831,\"x1\":1.892259232863783,\"xref\":\"x\",\"y0\":2.5972929381969063,\"y1\":2.9972929381969067,\"yref\":\"y\"},{\"fillcolor\":\"rgba(0, 0, 196, 0.5)\",\"line\":{\"color\":\"rgba(0, 0, 196, 0.5)\"},\"type\":\"circle\",\"x0\":1.2537677748456841,\"x1\":1.653767774845684,\"xref\":\"x\",\"y0\":3.4607508930614514,\"y1\":3.860750893061452,\"yref\":\"y\"},{\"fillcolor\":\"rgba(0, 220, 254, 0.5)\",\"line\":{\"color\":\"rgba(0, 220, 254, 0.5)\"},\"type\":\"circle\",\"x0\":2.871986583861457,\"x1\":3.2719865838614575,\"xref\":\"x\",\"y0\":4.034745501580994,\"y1\":4.434745501580994,\"yref\":\"y\"},{\"fillcolor\":\"rgba(0, 0, 128, 0.5)\",\"line\":{\"color\":\"rgba(0, 0, 128, 0.5)\"},\"type\":\"circle\",\"x0\":3.28879726462054,\"x1\":3.6887972646205403,\"xref\":\"x\",\"y0\":1.7561046634672852,\"y1\":2.156104663467285,\"yref\":\"y\"},{\"fillcolor\":\"rgba(255, 119, 0, 0.5)\",\"line\":{\"color\":\"rgba(255, 119, 0, 0.5)\"},\"type\":\"circle\",\"x0\":1.5042831428492793,\"x1\":1.9042831428492792,\"xref\":\"x\",\"y0\":3.11396403405171,\"y1\":3.5139640340517104,\"yref\":\"y\"},{\"fillcolor\":\"rgba(0, 0, 128, 0.5)\",\"line\":{\"color\":\"rgba(0, 0, 128, 0.5)\"},\"type\":\"circle\",\"x0\":1.5565776142251517,\"x1\":1.9565776142251516,\"xref\":\"x\",\"y0\":2.0538521053022647,\"y1\":2.453852105302265,\"yref\":\"y\"},{\"line\":{\"color\":\"white\",\"width\":3},\"type\":\"line\",\"x0\":3.9863327738146737,\"x1\":3.9863327738146737,\"y0\":4.268834270066489,\"y1\":4.268834270066489},{\"line\":{\"color\":\"black\",\"width\":3},\"type\":\"line\",\"x0\":0.8488279016949318,\"x1\":0.8488279016949318,\"y0\":1.6370406488593048,\"y1\":1.6370406488593048},{\"line\":{\"color\":\"white\",\"width\":3},\"type\":\"line\",\"x0\":1.7258968673840784,\"x1\":1.7258968673840784,\"y0\":1.5962220773638665,\"y1\":1.5962220773638665},{\"line\":{\"color\":\"white\",\"width\":3},\"type\":\"line\",\"x0\":2.116160882427272,\"x1\":2.116160882427272,\"y0\":3.5204353653542206,\"y1\":3.5204353653542206},{\"line\":{\"color\":\"white\",\"width\":3},\"type\":\"line\",\"x0\":1.692259232863783,\"x1\":1.692259232863783,\"y0\":2.7972929381969065,\"y1\":2.7972929381969065},{\"line\":{\"color\":\"white\",\"width\":3},\"type\":\"line\",\"x0\":1.453767774845684,\"x1\":1.453767774845684,\"y0\":3.6607508930614516,\"y1\":3.6607508930614516},{\"line\":{\"color\":\"black\",\"width\":3},\"type\":\"line\",\"x0\":3.0719865838614573,\"x1\":3.0719865838614573,\"y0\":4.234745501580994,\"y1\":4.234745501580994},{\"line\":{\"color\":\"white\",\"width\":3},\"type\":\"line\",\"x0\":3.48879726462054,\"x1\":3.48879726462054,\"y0\":1.9561046634672852,\"y1\":1.9561046634672852},{\"line\":{\"color\":\"black\",\"width\":3},\"type\":\"line\",\"x0\":1.7042831428492793,\"x1\":1.7042831428492793,\"y0\":3.3139640340517103,\"y1\":3.3139640340517103},{\"line\":{\"color\":\"white\",\"width\":3},\"type\":\"line\",\"x0\":1.7565776142251517,\"x1\":1.7565776142251517,\"y0\":2.253852105302265,\"y1\":2.253852105302265}],\"title\":{\"text\":\"\\u003cb\\u003ePercentage using the shortest path: 0%  |  Number of Agents: 10\\u003c\\u002fb\\u003e\",\"x\":0.5}},\"name\":\"0\"},{\"data\":[{\"hoverinfo\":\"name\",\"line\":{\"color\":\"grey\"},\"mode\":\"lines\",\"name\":\"Exterior\",\"showlegend\":false,\"x\":[10.1,10.1,15.0,15.0,13.6,13.6,15.0,15.0,13.6,13.6,15.0,15.0,10.1,10.1,9.9,9.9,5.1,5.1,4.9,4.9,0.0,0.0,1.5,1.5,0.0,0.0,1.5,1.5,0.0,0.0,4.9,4.9,5.1,5.1,9.9,9.9,10.1],\"y\":[1.5,0.0,0.0,4.9,4.9,5.1,5.1,9.9,9.9,10.1,10.1,15.0,15.0,13.6,13.6,15.0,15.0,13.6,13.6,15.0,15.0,10.1,10.1,9.9,9.9,5.1,5.1,4.9,4.9,0.0,0.0,1.5,1.5,0.0,0.0,1.5,1.5],\"type\":\"scatter\"},{\"hoverinfo\":\"name\",\"line\":{\"color\":\"grey\"},\"mode\":\"lines\",\"name\":\"Obstacle\",\"showlegend\":false,\"x\":[10.1,11.5,11.5,10.1,10.1,9.9,9.9,8.6,8.6,9.9,9.9,10.1,10.1],\"y\":[5.1,5.1,4.9,4.9,3.6,3.6,4.9,4.9,5.1,5.1,6.5,6.5,5.1],\"type\":\"scatter\"},{\"hoverinfo\":\"name\",\"line\":{\"color\":\"grey\"},\"mode\":\"lines\",\"name\":\"Obstacle\",\"showlegend\":false,\"x\":[10.1,11.5,11.5,10.1,10.1,9.9,9.9,8.6,8.6,9.9,9.9,10.1,10.1],\"y\":[10.1,10.1,9.9,9.9,8.6,8.6,9.9,9.9,10.1,10.1,11.5,11.5,10.1],\"type\":\"scatter\"},{\"hoverinfo\":\"name\",\"line\":{\"color\":\"grey\"},\"mode\":\"lines\",\"name\":\"Obstacle\",\"showlegend\":false,\"x\":[5.1,6.4,6.4,5.1,5.1,4.9,4.9,3.6,3.6,4.9,4.9,5.1,5.1],\"y\":[5.1,5.1,4.9,4.9,3.6,3.6,4.9,4.9,5.1,5.1,6.5,6.5,5.1],\"type\":\"scatter\"},{\"hoverinfo\":\"name\",\"line\":{\"color\":\"grey\"},\"mode\":\"lines\",\"name\":\"Obstacle\",\"showlegend\":false,\"x\":[5.1,6.4,6.4,5.1,5.1,4.9,4.9,3.6,3.6,4.9,4.9,5.1,5.1],\"y\":[10.1,10.1,9.9,9.9,8.6,8.6,9.9,9.9,10.1,10.1,11.5,11.5,10.1],\"type\":\"scatter\"},{\"fill\":\"toself\",\"fillcolor\":\"rgba(200, 0, 0, 0.00)\",\"hoverinfo\":\"name\",\"line\":{\"width\":0},\"mode\":\"lines\",\"name\":\"Risk Area\",\"showlegend\":false,\"x\":[0.0,5.0,5.0,0.0,0.0],\"y\":[0.0,0.0,5.0,5.0,0.0],\"type\":\"scatter\"},{\"fill\":\"toself\",\"fillcolor\":\"rgba(200, 0, 0, 0.10)\",\"hoverinfo\":\"name\",\"line\":{\"width\":0},\"mode\":\"lines\",\"name\":\"Risk Area\",\"showlegend\":false,\"x\":[5.0,10.0,10.0,5.0,5.0],\"y\":[0.0,0.0,5.0,5.0,0.0],\"type\":\"scatter\"},{\"fill\":\"toself\",\"fillcolor\":\"rgba(200, 0, 0, 0.00)\",\"hoverinfo\":\"name\",\"line\":{\"width\":0},\"mode\":\"lines\",\"name\":\"Risk Area\",\"showlegend\":false,\"x\":[10.0,15.0,15.0,10.0,10.0],\"y\":[0.0,0.0,5.0,5.0,0.0],\"type\":\"scatter\"},{\"fill\":\"toself\",\"fillcolor\":\"rgba(200, 0, 0, 0.00)\",\"hoverinfo\":\"name\",\"line\":{\"width\":0},\"mode\":\"lines\",\"name\":\"Risk Area\",\"showlegend\":false,\"x\":[10.0,15.0,15.0,10.0,10.0],\"y\":[5.0,5.0,10.0,10.0,5.0],\"type\":\"scatter\"},{\"fill\":\"toself\",\"fillcolor\":\"rgba(200, 0, 0, 0.30)\",\"hoverinfo\":\"name\",\"line\":{\"width\":0},\"mode\":\"lines\",\"name\":\"Risk Area\",\"showlegend\":false,\"x\":[5.0,10.0,10.0,5.0,5.0],\"y\":[5.0,5.0,10.0,10.0,5.0],\"type\":\"scatter\"},{\"fill\":\"toself\",\"fillcolor\":\"rgba(200, 0, 0, 0.00)\",\"hoverinfo\":\"name\",\"line\":{\"width\":0},\"mode\":\"lines\",\"name\":\"Risk Area\",\"showlegend\":false,\"x\":[0.0,5.0,5.0,0.0,0.0],\"y\":[5.0,5.0,10.0,10.0,5.0],\"type\":\"scatter\"},{\"fill\":\"toself\",\"fillcolor\":\"rgba(200, 0, 0, 0.00)\",\"hoverinfo\":\"name\",\"line\":{\"width\":0},\"mode\":\"lines\",\"name\":\"Risk Area\",\"showlegend\":false,\"x\":[0.0,5.0,5.0,0.0,0.0],\"y\":[10.0,10.0,15.0,15.0,10.0],\"type\":\"scatter\"},{\"fill\":\"toself\",\"fillcolor\":\"rgba(200, 0, 0, 0.00)\",\"hoverinfo\":\"name\",\"line\":{\"width\":0},\"mode\":\"lines\",\"name\":\"Risk Area\",\"showlegend\":false,\"x\":[5.0,10.0,10.0,5.0,5.0],\"y\":[10.0,10.0,15.0,15.0,10.0],\"type\":\"scatter\"},{\"fill\":\"toself\",\"fillcolor\":\"rgba(200, 0, 0, 0.00)\",\"hoverinfo\":\"name\",\"line\":{\"width\":0},\"mode\":\"lines\",\"name\":\"Risk Area\",\"showlegend\":false,\"x\":[10.0,15.0,15.0,10.0,10.0],\"y\":[10.0,10.0,15.0,15.0,10.0],\"type\":\"scatter\"},{\"hoverinfo\":\"text\",\"marker\":{\"opacity\":1,\"size\":1},\"mode\":\"markers\",\"showlegend\":false,\"text\":[\"ID: 61, Pos(4.67,3.34)\"],\"x\":[4.6729536648937335],\"y\":[3.3396786395340152],\"type\":\"scatter\"},{\"hoverinfo\":\"text\",\"marker\":{\"opacity\":1,\"size\":1},\"mode\":\"markers\",\"showlegend\":false,\"text\":[\"ID: 62, Pos(1.59,1.73)\"],\"x\":[1.5916470735441108],\"y\":[1.7336591976424827],\"type\":\"scatter\"},{\"hoverinfo\":\"text\",\"marker\":{\"opacity\":1,\"size\":1},\"mode\":\"markers\",\"showlegend\":false,\"text\":[\"ID: 63, Pos(2.92,1.52)\"],\"x\":[2.9222850980628787],\"y\":[1.518629187447387],\"type\":\"scatter\"},{\"hoverinfo\":\"text\",\"marker\":{\"opacity\":1,\"size\":1},\"mode\":\"markers\",\"showlegend\":false,\"text\":[\"ID: 64, Pos(3.27,3.38)\"],\"x\":[3.272669136211791],\"y\":[3.376442170474031],\"type\":\"scatter\"},{\"hoverinfo\":\"text\",\"marker\":{\"opacity\":1,\"size\":1},\"mode\":\"markers\",\"showlegend\":false,\"text\":[\"ID: 65, Pos(2.89,2.81)\"],\"x\":[2.8852548899819856],\"y\":[2.8136851139808727],\"type\":\"scatter\"},{\"hoverinfo\":\"text\",\"marker\":{\"opacity\":1,\"size\":1},\"mode\":\"markers\",\"showlegend\":false,\"text\":[\"ID: 66, Pos(2.30,3.86)\"],\"x\":[2.3009452632771974],\"y\":[3.8613344460950287],\"type\":\"scatter\"},{\"hoverinfo\":\"text\",\"marker\":{\"opacity\":1,\"size\":1},\"mode\":\"markers\",\"showlegend\":false,\"text\":[\"ID: 67, Pos(3.70,3.97)\"],\"x\":[3.7010784432918373],\"y\":[3.965204877182201],\"type\":\"scatter\"},{\"hoverinfo\":\"text\",\"marker\":{\"opacity\":1,\"size\":1},\"mode\":\"markers\",\"showlegend\":false,\"text\":[\"ID: 68, Pos(4.68,2.12)\"],\"x\":[4.677905269221102],\"y\":[2.1174184293209692],\"type\":\"scatter\"},{\"hoverinfo\":\"text\",\"marker\":{\"opacity\":1,\"size\":1},\"mode\":\"markers\",\"showlegend\":false,\"text\":[\"ID: 69, Pos(2.07,3.20)\"],\"x\":[2.0678552369084033],\"y\":[3.2034193749424884],\"type\":\"scatter\"},{\"hoverinfo\":\"text\",\"marker\":{\"opacity\":1,\"size\":1},\"mode\":\"markers\",\"showlegend\":false,\"text\":[\"ID: 70, Pos(2.95,2.18)\"],\"x\":[2.947582916071155],\"y\":[2.1758159852761927],\"type\":\"scatter\"}],\"layout\":{\"shapes\":[{\"fillcolor\":\"rgba(0, 0, 141, 0.5)\",\"line\":{\"color\":\"rgba(0, 0, 141, 0.5)\"},\"type\":\"circle\",\"x0\":4.472953664893733,\"x1\":4.872953664893734,\"xref\":\"x\",\"y0\":3.139678639534015,\"y1\":3.5396786395340154,\"yref\":\"y\"},{\"fillcolor\":\"rgba(0, 104, 255, 0.5)\",\"line\":{\"color\":\"rgba(0, 104, 255, 0.5)\"},\"type\":\"circle\",\"x0\":1.3916470735441109,\"x1\":1.7916470735441108,\"xref\":\"x\",\"y0\":1.5336591976424827,\"y1\":1.9336591976424826,\"yref\":\"y\"},{\"fillcolor\":\"rgba(0, 0, 128, 0.5)\",\"line\":{\"color\":\"rgba(0, 0, 128, 0.5)\"},\"type\":\"circle\",\"x0\":2.7222850980628785,\"x1\":3.122285098062879,\"xref\":\"x\",\"y0\":1.318629187447387,\"y1\":1.718629187447387,\"yref\":\"y\"},{\"fillcolor\":\"rgba(0, 48, 255, 0.5)\",\"line\":{\"color\":\"rgba(0, 48, 255, 0.5)\"},\"type\":\"circle\",\"x0\":3.0726691362117906,\"x1\":3.472669136211791,\"xref\":\"x\",\"y0\":3.1764421704740307,\"y1\":3.576442170474031,\"yref\":\"y\"},{\"fillcolor\":\"rgba(0, 0, 128, 0.5)\",\"line\":{\"color\":\"rgba(0, 0, 128, 0.5)\"},\"type\":\"circle\",\"x0\":2.6852548899819855,\"x1\":3.085254889981986,\"xref\":\"x\",\"y0\":2.6136851139808726,\"y1\":3.013685113980873,\"yref\":\"y\"},{\"fillcolor\":\"rgba(96, 255, 151, 0.5)\",\"line\":{\"color\":\"rgba(96, 255, 151, 0.5)\"},\"type\":\"circle\",\"x0\":2.100945263277197,\"x1\":2.5009452632771976,\"xref\":\"x\",\"y0\":3.6613344460950286,\"y1\":4.061334446095029,\"yref\":\"y\"},{\"fillcolor\":\"rgba(41, 255, 206, 0.5)\",\"line\":{\"color\":\"rgba(41, 255, 206, 0.5)\"},\"type\":\"circle\",\"x0\":3.501078443291837,\"x1\":3.9010784432918375,\"xref\":\"x\",\"y0\":3.765204877182201,\"y1\":4.165204877182201,\"yref\":\"y\"},{\"fillcolor\":\"rgba(0, 0, 128, 0.5)\",\"line\":{\"color\":\"rgba(0, 0, 128, 0.5)\"},\"type\":\"circle\",\"x0\":4.477905269221102,\"x1\":4.8779052692211025,\"xref\":\"x\",\"y0\":1.9174184293209693,\"y1\":2.3174184293209694,\"yref\":\"y\"},{\"fillcolor\":\"rgba(231, 255, 15, 0.5)\",\"line\":{\"color\":\"rgba(231, 255, 15, 0.5)\"},\"type\":\"circle\",\"x0\":1.8678552369084034,\"x1\":2.2678552369084035,\"xref\":\"x\",\"y0\":3.0034193749424882,\"y1\":3.4034193749424886,\"yref\":\"y\"},{\"fillcolor\":\"rgba(0, 0, 128, 0.5)\",\"line\":{\"color\":\"rgba(0, 0, 128, 0.5)\"},\"type\":\"circle\",\"x0\":2.747582916071155,\"x1\":3.1475829160711553,\"xref\":\"x\",\"y0\":1.9758159852761927,\"y1\":2.375815985276193,\"yref\":\"y\"},{\"line\":{\"color\":\"white\",\"width\":3},\"type\":\"line\",\"x0\":4.6729536648937335,\"x1\":4.799569923304915,\"y0\":3.3396786395340152,\"y1\":3.184861576178735},{\"line\":{\"color\":\"white\",\"width\":3},\"type\":\"line\",\"x0\":1.5916470735441108,\"x1\":1.789985366038998,\"y0\":1.7336591976424827,\"y1\":1.7593870372372216},{\"line\":{\"color\":\"white\",\"width\":3},\"type\":\"line\",\"x0\":2.9222850980628787,\"x1\":3.122271737189196,\"y0\":1.518629187447387,\"y1\":1.5209409337483855},{\"line\":{\"color\":\"white\",\"width\":3},\"type\":\"line\",\"x0\":3.272669136211791,\"x1\":3.470295555232549,\"y0\":3.376442170474031,\"y1\":3.345720866708863},{\"line\":{\"color\":\"white\",\"width\":3},\"type\":\"line\",\"x0\":2.8852548899819856,\"x1\":3.0851239339873193,\"y0\":2.8136851139808727,\"y1\":2.820921497635298},{\"line\":{\"color\":\"black\",\"width\":3},\"type\":\"line\",\"x0\":2.3009452632771974,\"x1\":2.499402364313692,\"y0\":3.8613344460950287,\"y1\":3.836539707778392},{\"line\":{\"color\":\"black\",\"width\":3},\"type\":\"line\",\"x0\":3.7010784432918373,\"x1\":3.889156218656954,\"y0\":3.965204877182201,\"y1\":3.8971846565584136},{\"line\":{\"color\":\"white\",\"width\":3},\"type\":\"line\",\"x0\":4.677905269221102,\"x1\":4.8760801202122135,\"y0\":2.1174184293209692,\"y1\":2.1443763304753753},{\"line\":{\"color\":\"black\",\"width\":3},\"type\":\"line\",\"x0\":2.0678552369084033,\"x1\":2.261210143917335,\"y0\":3.2034193749424884,\"y1\":3.152293257002953},{\"line\":{\"color\":\"white\",\"width\":3},\"type\":\"line\",\"x0\":2.947582916071155,\"x1\":3.1474640414649455,\"y0\":2.1758159852761927,\"y1\":2.1827105999363265}],\"title\":{\"text\":\"\\u003cb\\u003ePercentage using the shortest path: 0%  |  Number of Agents: 10\\u003c\\u002fb\\u003e\",\"x\":0.5}},\"name\":\"50\"},{\"data\":[{\"hoverinfo\":\"name\",\"line\":{\"color\":\"grey\"},\"mode\":\"lines\",\"name\":\"Exterior\",\"showlegend\":false,\"x\":[10.1,10.1,15.0,15.0,13.6,13.6,15.0,15.0,13.6,13.6,15.0,15.0,10.1,10.1,9.9,9.9,5.1,5.1,4.9,4.9,0.0,0.0,1.5,1.5,0.0,0.0,1.5,1.5,0.0,0.0,4.9,4.9,5.1,5.1,9.9,9.9,10.1],\"y\":[1.5,0.0,0.0,4.9,4.9,5.1,5.1,9.9,9.9,10.1,10.1,15.0,15.0,13.6,13.6,15.0,15.0,13.6,13.6,15.0,15.0,10.1,10.1,9.9,9.9,5.1,5.1,4.9,4.9,0.0,0.0,1.5,1.5,0.0,0.0,1.5,1.5],\"type\":\"scatter\"},{\"hoverinfo\":\"name\",\"line\":{\"color\":\"grey\"},\"mode\":\"lines\",\"name\":\"Obstacle\",\"showlegend\":false,\"x\":[10.1,11.5,11.5,10.1,10.1,9.9,9.9,8.6,8.6,9.9,9.9,10.1,10.1],\"y\":[5.1,5.1,4.9,4.9,3.6,3.6,4.9,4.9,5.1,5.1,6.5,6.5,5.1],\"type\":\"scatter\"},{\"hoverinfo\":\"name\",\"line\":{\"color\":\"grey\"},\"mode\":\"lines\",\"name\":\"Obstacle\",\"showlegend\":false,\"x\":[10.1,11.5,11.5,10.1,10.1,9.9,9.9,8.6,8.6,9.9,9.9,10.1,10.1],\"y\":[10.1,10.1,9.9,9.9,8.6,8.6,9.9,9.9,10.1,10.1,11.5,11.5,10.1],\"type\":\"scatter\"},{\"hoverinfo\":\"name\",\"line\":{\"color\":\"grey\"},\"mode\":\"lines\",\"name\":\"Obstacle\",\"showlegend\":false,\"x\":[5.1,6.4,6.4,5.1,5.1,4.9,4.9,3.6,3.6,4.9,4.9,5.1,5.1],\"y\":[5.1,5.1,4.9,4.9,3.6,3.6,4.9,4.9,5.1,5.1,6.5,6.5,5.1],\"type\":\"scatter\"},{\"hoverinfo\":\"name\",\"line\":{\"color\":\"grey\"},\"mode\":\"lines\",\"name\":\"Obstacle\",\"showlegend\":false,\"x\":[5.1,6.4,6.4,5.1,5.1,4.9,4.9,3.6,3.6,4.9,4.9,5.1,5.1],\"y\":[10.1,10.1,9.9,9.9,8.6,8.6,9.9,9.9,10.1,10.1,11.5,11.5,10.1],\"type\":\"scatter\"},{\"fill\":\"toself\",\"fillcolor\":\"rgba(200, 0, 0, 0.00)\",\"hoverinfo\":\"name\",\"line\":{\"width\":0},\"mode\":\"lines\",\"name\":\"Risk Area\",\"showlegend\":false,\"x\":[0.0,5.0,5.0,0.0,0.0],\"y\":[0.0,0.0,5.0,5.0,0.0],\"type\":\"scatter\"},{\"fill\":\"toself\",\"fillcolor\":\"rgba(200, 0, 0, 0.10)\",\"hoverinfo\":\"name\",\"line\":{\"width\":0},\"mode\":\"lines\",\"name\":\"Risk Area\",\"showlegend\":false,\"x\":[5.0,10.0,10.0,5.0,5.0],\"y\":[0.0,0.0,5.0,5.0,0.0],\"type\":\"scatter\"},{\"fill\":\"toself\",\"fillcolor\":\"rgba(200, 0, 0, 0.00)\",\"hoverinfo\":\"name\",\"line\":{\"width\":0},\"mode\":\"lines\",\"name\":\"Risk Area\",\"showlegend\":false,\"x\":[10.0,15.0,15.0,10.0,10.0],\"y\":[0.0,0.0,5.0,5.0,0.0],\"type\":\"scatter\"},{\"fill\":\"toself\",\"fillcolor\":\"rgba(200, 0, 0, 0.00)\",\"hoverinfo\":\"name\",\"line\":{\"width\":0},\"mode\":\"lines\",\"name\":\"Risk Area\",\"showlegend\":false,\"x\":[10.0,15.0,15.0,10.0,10.0],\"y\":[5.0,5.0,10.0,10.0,5.0],\"type\":\"scatter\"},{\"fill\":\"toself\",\"fillcolor\":\"rgba(200, 0, 0, 0.30)\",\"hoverinfo\":\"name\",\"line\":{\"width\":0},\"mode\":\"lines\",\"name\":\"Risk Area\",\"showlegend\":false,\"x\":[5.0,10.0,10.0,5.0,5.0],\"y\":[5.0,5.0,10.0,10.0,5.0],\"type\":\"scatter\"},{\"fill\":\"toself\",\"fillcolor\":\"rgba(200, 0, 0, 0.00)\",\"hoverinfo\":\"name\",\"line\":{\"width\":0},\"mode\":\"lines\",\"name\":\"Risk Area\",\"showlegend\":false,\"x\":[0.0,5.0,5.0,0.0,0.0],\"y\":[5.0,5.0,10.0,10.0,5.0],\"type\":\"scatter\"},{\"fill\":\"toself\",\"fillcolor\":\"rgba(200, 0, 0, 0.00)\",\"hoverinfo\":\"name\",\"line\":{\"width\":0},\"mode\":\"lines\",\"name\":\"Risk Area\",\"showlegend\":false,\"x\":[0.0,5.0,5.0,0.0,0.0],\"y\":[10.0,10.0,15.0,15.0,10.0],\"type\":\"scatter\"},{\"fill\":\"toself\",\"fillcolor\":\"rgba(200, 0, 0, 0.00)\",\"hoverinfo\":\"name\",\"line\":{\"width\":0},\"mode\":\"lines\",\"name\":\"Risk Area\",\"showlegend\":false,\"x\":[5.0,10.0,10.0,5.0,5.0],\"y\":[10.0,10.0,15.0,15.0,10.0],\"type\":\"scatter\"},{\"fill\":\"toself\",\"fillcolor\":\"rgba(200, 0, 0, 0.00)\",\"hoverinfo\":\"name\",\"line\":{\"width\":0},\"mode\":\"lines\",\"name\":\"Risk Area\",\"showlegend\":false,\"x\":[10.0,15.0,15.0,10.0,10.0],\"y\":[10.0,10.0,15.0,15.0,10.0],\"type\":\"scatter\"},{\"hoverinfo\":\"text\",\"marker\":{\"opacity\":1,\"size\":1},\"mode\":\"markers\",\"showlegend\":false,\"text\":[\"ID: 61, Pos(5.79,2.96)\"],\"x\":[5.792822470768964],\"y\":[2.9632835040483902],\"type\":\"scatter\"},{\"hoverinfo\":\"text\",\"marker\":{\"opacity\":1,\"size\":1},\"mode\":\"markers\",\"showlegend\":false,\"text\":[\"ID: 62, Pos(2.66,1.87)\"],\"x\":[2.656852132472695],\"y\":[1.8715467172674622],\"type\":\"scatter\"},{\"hoverinfo\":\"text\",\"marker\":{\"opacity\":1,\"size\":1},\"mode\":\"markers\",\"showlegend\":false,\"text\":[\"ID: 63, Pos(4.12,1.54)\"],\"x\":[4.122065222751406],\"y\":[1.5374161277367064],\"type\":\"scatter\"},{\"hoverinfo\":\"text\",\"marker\":{\"opacity\":1,\"size\":1},\"mode\":\"markers\",\"showlegend\":false,\"text\":[\"ID: 64, Pos(4.31,3.23)\"],\"x\":[4.307830330570993],\"y\":[3.230577429744992],\"type\":\"scatter\"},{\"hoverinfo\":\"text\",\"marker\":{\"opacity\":1,\"size\":1},\"mode\":\"markers\",\"showlegend\":false,\"text\":[\"ID: 65, Pos(4.08,2.73)\"],\"x\":[4.0809714147866485],\"y\":[2.7273803842598],\"type\":\"scatter\"},{\"hoverinfo\":\"text\",\"marker\":{\"opacity\":1,\"size\":1},\"mode\":\"markers\",\"showlegend\":false,\"text\":[\"ID: 66, Pos(3.09,3.73)\"],\"x\":[3.0934407379829705],\"y\":[3.725544416564389],\"type\":\"scatter\"},{\"hoverinfo\":\"text\",\"marker\":{\"opacity\":1,\"size\":1},\"mode\":\"markers\",\"showlegend\":false,\"text\":[\"ID: 67, Pos(4.60,3.68)\"],\"x\":[4.597990948467551],\"y\":[3.680525607298891],\"type\":\"scatter\"},{\"hoverinfo\":\"text\",\"marker\":{\"opacity\":1,\"size\":1},\"mode\":\"markers\",\"showlegend\":false,\"text\":[\"ID: 68, Pos(5.87,2.25)\"],\"x\":[5.870406965371651],\"y\":[2.247794410670089],\"type\":\"scatter\"},{\"hoverinfo\":\"text\",\"marker\":{\"opacity\":1,\"size\":1},\"mode\":\"markers\",\"showlegend\":false,\"text\":[\"ID: 69, Pos(2.79,3.05)\"],\"x\":[2.7929427234916373],\"y\":[3.045344177852101],\"type\":\"scatter\"},{\"hoverinfo\":\"text\",\"marker\":{\"opacity\":1,\"size\":1},\"mode\":\"markers\",\"showlegend\":false,\"text\":[\"ID: 70, Pos(4.15,2.16)\"],\"x\":[4.146943157272483],\"y\":[2.158173364731244],\"type\":\"scatter\"}],\"layout\":{\"shapes\":[{\"fillcolor\":\"rgba(0, 0, 128, 0.5)\",\"line\":{\"color\":\"rgba(0, 0, 128, 0.5)\"},\"type\":\"circle\",\"x0\":5.592822470768964,\"x1\":5.992822470768965,\"xref\":\"x\",\"y0\":2.76328350404839,\"y1\":3.1632835040483904,\"yref\":\"y\"},{\"fillcolor\":\"rgba(0, 0, 214, 0.5)\",\"line\":{\"color\":\"rgba(0, 0, 214, 0.5)\"},\"type\":\"circle\",\"x0\":2.4568521324726946,\"x1\":2.856852132472695,\"xref\":\"x\",\"y0\":1.6715467172674623,\"y1\":2.0715467172674624,\"yref\":\"y\"},{\"fillcolor\":\"rgba(0, 0, 128, 0.5)\",\"line\":{\"color\":\"rgba(0, 0, 128, 0.5)\"},\"type\":\"circle\",\"x0\":3.9220652227514057,\"x1\":4.322065222751406,\"xref\":\"x\",\"y0\":1.3374161277367065,\"y1\":1.7374161277367064,\"yref\":\"y\"},{\"fillcolor\":\"rgba(0, 0, 223, 0.5)\",\"line\":{\"color\":\"rgba(0, 0, 223, 0.5)\"},\"type\":\"circle\",\"x0\":4.107830330570993,\"x1\":4.507830330570993,\"xref\":\"x\",\"y0\":3.0305774297449917,\"y1\":3.430577429744992,\"yref\":\"y\"},{\"fillcolor\":\"rgba(0, 0, 128, 0.5)\",\"line\":{\"color\":\"rgba(0, 0, 128, 0.5)\"},\"type\":\"circle\",\"x0\":3.8809714147866483,\"x1\":4.280971414786649,\"xref\":\"x\",\"y0\":2.5273803842598,\"y1\":2.9273803842598003,\"yref\":\"y\"},{\"fillcolor\":\"rgba(0, 140, 255, 0.5)\",\"line\":{\"color\":\"rgba(0, 140, 255, 0.5)\"},\"type\":\"circle\",\"x0\":2.8934407379829703,\"x1\":3.2934407379829707,\"xref\":\"x\",\"y0\":3.5255444165643888,\"y1\":3.925544416564389,\"yref\":\"y\"},{\"fillcolor\":\"rgba(255, 19, 0, 0.5)\",\"line\":{\"color\":\"rgba(255, 19, 0, 0.5)\"},\"type\":\"circle\",\"x0\":4.397990948467551,\"x1\":4.797990948467551,\"xref\":\"x\",\"y0\":3.480525607298891,\"y1\":3.880525607298891,\"yref\":\"y\"},{\"fillcolor\":\"rgba(0, 0, 128, 0.5)\",\"line\":{\"color\":\"rgba(0, 0, 128, 0.5)\"},\"type\":\"circle\",\"x0\":5.670406965371651,\"x1\":6.070406965371651,\"xref\":\"x\",\"y0\":2.0477944106700887,\"y1\":2.447794410670089,\"yref\":\"y\"},{\"fillcolor\":\"rgba(0, 125, 255, 0.5)\",\"line\":{\"color\":\"rgba(0, 125, 255, 0.5)\"},\"type\":\"circle\",\"x0\":2.592942723491637,\"x1\":2.9929427234916375,\"xref\":\"x\",\"y0\":2.845344177852101,\"y1\":3.2453441778521013,\"yref\":\"y\"},{\"fillcolor\":\"rgba(0, 0, 128, 0.5)\",\"line\":{\"color\":\"rgba(0, 0, 128, 0.5)\"},\"type\":\"circle\",\"x0\":3.946943157272483,\"x1\":4.3469431572724835,\"xref\":\"x\",\"y0\":1.958173364731244,\"y1\":2.358173364731244,\"yref\":\"y\"},{\"line\":{\"color\":\"white\",\"width\":3},\"type\":\"line\",\"x0\":5.792822470768964,\"x1\":5.9901597303264,\"y0\":2.9632835040483902,\"y1\":2.930756500030781},{\"line\":{\"color\":\"white\",\"width\":3},\"type\":\"line\",\"x0\":2.656852132472695,\"x1\":2.8552147437971627,\"y0\":1.8715467172674622,\"y1\":1.8970863810972418},{\"line\":{\"color\":\"white\",\"width\":3},\"type\":\"line\",\"x0\":4.122065222751406,\"x1\":4.322052661346044,\"y0\":1.5374161277367064,\"y1\":1.5351746094218097},{\"line\":{\"color\":\"white\",\"width\":3},\"type\":\"line\",\"x0\":4.307830330570993,\"x1\":4.496178184993262,\"y0\":3.230577429744992,\"y1\":3.1633086722529153},{\"line\":{\"color\":\"white\",\"width\":3},\"type\":\"line\",\"x0\":4.0809714147866485,\"x1\":4.277895432333193,\"y0\":2.7273803842598,\"y1\":2.692438556698438},{\"line\":{\"color\":\"white\",\"width\":3},\"type\":\"line\",\"x0\":3.0934407379829705,\"x1\":3.289863505974818,\"y0\":3.725544416564389,\"y1\":3.687886798285734},{\"line\":{\"color\":\"white\",\"width\":3},\"type\":\"line\",\"x0\":4.597990948467551,\"x1\":4.764625045099402,\"y0\":3.680525607298891,\"y1\":3.791128852457824},{\"line\":{\"color\":\"white\",\"width\":3},\"type\":\"line\",\"x0\":5.870406965371651,\"x1\":6.070175064613159,\"y0\":2.247794410670089,\"y1\":2.2574228334607085},{\"line\":{\"color\":\"white\",\"width\":3},\"type\":\"line\",\"x0\":2.7929427234916373,\"x1\":2.989107299521707,\"y0\":3.045344177852101,\"y1\":3.006363937845875},{\"line\":{\"color\":\"white\",\"width\":3},\"type\":\"line\",\"x0\":4.146943157272483,\"x1\":4.346465361385764,\"y0\":2.158173364731244,\"y1\":2.1443570676231802}],\"title\":{\"text\":\"\\u003cb\\u003ePercentage using the shortest path: 0%  |  Number of Agents: 10\\u003c\\u002fb\\u003e\",\"x\":0.5}},\"name\":\"100\"},{\"data\":[{\"hoverinfo\":\"name\",\"line\":{\"color\":\"grey\"},\"mode\":\"lines\",\"name\":\"Exterior\",\"showlegend\":false,\"x\":[10.1,10.1,15.0,15.0,13.6,13.6,15.0,15.0,13.6,13.6,15.0,15.0,10.1,10.1,9.9,9.9,5.1,5.1,4.9,4.9,0.0,0.0,1.5,1.5,0.0,0.0,1.5,1.5,0.0,0.0,4.9,4.9,5.1,5.1,9.9,9.9,10.1],\"y\":[1.5,0.0,0.0,4.9,4.9,5.1,5.1,9.9,9.9,10.1,10.1,15.0,15.0,13.6,13.6,15.0,15.0,13.6,13.6,15.0,15.0,10.1,10.1,9.9,9.9,5.1,5.1,4.9,4.9,0.0,0.0,1.5,1.5,0.0,0.0,1.5,1.5],\"type\":\"scatter\"},{\"hoverinfo\":\"name\",\"line\":{\"color\":\"grey\"},\"mode\":\"lines\",\"name\":\"Obstacle\",\"showlegend\":false,\"x\":[10.1,11.5,11.5,10.1,10.1,9.9,9.9,8.6,8.6,9.9,9.9,10.1,10.1],\"y\":[5.1,5.1,4.9,4.9,3.6,3.6,4.9,4.9,5.1,5.1,6.5,6.5,5.1],\"type\":\"scatter\"},{\"hoverinfo\":\"name\",\"line\":{\"color\":\"grey\"},\"mode\":\"lines\",\"name\":\"Obstacle\",\"showlegend\":false,\"x\":[10.1,11.5,11.5,10.1,10.1,9.9,9.9,8.6,8.6,9.9,9.9,10.1,10.1],\"y\":[10.1,10.1,9.9,9.9,8.6,8.6,9.9,9.9,10.1,10.1,11.5,11.5,10.1],\"type\":\"scatter\"},{\"hoverinfo\":\"name\",\"line\":{\"color\":\"grey\"},\"mode\":\"lines\",\"name\":\"Obstacle\",\"showlegend\":false,\"x\":[5.1,6.4,6.4,5.1,5.1,4.9,4.9,3.6,3.6,4.9,4.9,5.1,5.1],\"y\":[5.1,5.1,4.9,4.9,3.6,3.6,4.9,4.9,5.1,5.1,6.5,6.5,5.1],\"type\":\"scatter\"},{\"hoverinfo\":\"name\",\"line\":{\"color\":\"grey\"},\"mode\":\"lines\",\"name\":\"Obstacle\",\"showlegend\":false,\"x\":[5.1,6.4,6.4,5.1,5.1,4.9,4.9,3.6,3.6,4.9,4.9,5.1,5.1],\"y\":[10.1,10.1,9.9,9.9,8.6,8.6,9.9,9.9,10.1,10.1,11.5,11.5,10.1],\"type\":\"scatter\"},{\"fill\":\"toself\",\"fillcolor\":\"rgba(200, 0, 0, 0.00)\",\"hoverinfo\":\"name\",\"line\":{\"width\":0},\"mode\":\"lines\",\"name\":\"Risk Area\",\"showlegend\":false,\"x\":[0.0,5.0,5.0,0.0,0.0],\"y\":[0.0,0.0,5.0,5.0,0.0],\"type\":\"scatter\"},{\"fill\":\"toself\",\"fillcolor\":\"rgba(200, 0, 0, 0.10)\",\"hoverinfo\":\"name\",\"line\":{\"width\":0},\"mode\":\"lines\",\"name\":\"Risk Area\",\"showlegend\":false,\"x\":[5.0,10.0,10.0,5.0,5.0],\"y\":[0.0,0.0,5.0,5.0,0.0],\"type\":\"scatter\"},{\"fill\":\"toself\",\"fillcolor\":\"rgba(200, 0, 0, 0.00)\",\"hoverinfo\":\"name\",\"line\":{\"width\":0},\"mode\":\"lines\",\"name\":\"Risk Area\",\"showlegend\":false,\"x\":[10.0,15.0,15.0,10.0,10.0],\"y\":[0.0,0.0,5.0,5.0,0.0],\"type\":\"scatter\"},{\"fill\":\"toself\",\"fillcolor\":\"rgba(200, 0, 0, 0.00)\",\"hoverinfo\":\"name\",\"line\":{\"width\":0},\"mode\":\"lines\",\"name\":\"Risk Area\",\"showlegend\":false,\"x\":[10.0,15.0,15.0,10.0,10.0],\"y\":[5.0,5.0,10.0,10.0,5.0],\"type\":\"scatter\"},{\"fill\":\"toself\",\"fillcolor\":\"rgba(200, 0, 0, 0.50)\",\"hoverinfo\":\"name\",\"line\":{\"width\":0},\"mode\":\"lines\",\"name\":\"Risk Area\",\"showlegend\":false,\"x\":[5.0,10.0,10.0,5.0,5.0],\"y\":[5.0,5.0,10.0,10.0,5.0],\"type\":\"scatter\"},{\"fill\":\"toself\",\"fillcolor\":\"rgba(200, 0, 0, 0.00)\",\"hoverinfo\":\"name\",\"line\":{\"width\":0},\"mode\":\"lines\",\"name\":\"Risk Area\",\"showlegend\":false,\"x\":[0.0,5.0,5.0,0.0,0.0],\"y\":[5.0,5.0,10.0,10.0,5.0],\"type\":\"scatter\"},{\"fill\":\"toself\",\"fillcolor\":\"rgba(200, 0, 0, 0.00)\",\"hoverinfo\":\"name\",\"line\":{\"width\":0},\"mode\":\"lines\",\"name\":\"Risk Area\",\"showlegend\":false,\"x\":[0.0,5.0,5.0,0.0,0.0],\"y\":[10.0,10.0,15.0,15.0,10.0],\"type\":\"scatter\"},{\"fill\":\"toself\",\"fillcolor\":\"rgba(200, 0, 0, 0.20)\",\"hoverinfo\":\"name\",\"line\":{\"width\":0},\"mode\":\"lines\",\"name\":\"Risk Area\",\"showlegend\":false,\"x\":[5.0,10.0,10.0,5.0,5.0],\"y\":[10.0,10.0,15.0,15.0,10.0],\"type\":\"scatter\"},{\"fill\":\"toself\",\"fillcolor\":\"rgba(200, 0, 0, 0.00)\",\"hoverinfo\":\"name\",\"line\":{\"width\":0},\"mode\":\"lines\",\"name\":\"Risk Area\",\"showlegend\":false,\"x\":[10.0,15.0,15.0,10.0,10.0],\"y\":[10.0,10.0,15.0,15.0,10.0],\"type\":\"scatter\"},{\"hoverinfo\":\"text\",\"marker\":{\"opacity\":1,\"size\":1},\"mode\":\"markers\",\"showlegend\":false,\"text\":[\"ID: 61, Pos(6.34,3.81)\"],\"x\":[6.337915259465798],\"y\":[3.8104654154927147],\"type\":\"scatter\"},{\"hoverinfo\":\"text\",\"marker\":{\"opacity\":1,\"size\":1},\"mode\":\"markers\",\"showlegend\":false,\"text\":[\"ID: 62, Pos(3.76,2.01)\"],\"x\":[3.764115712717014],\"y\":[2.0071306679634313],\"type\":\"scatter\"},{\"hoverinfo\":\"text\",\"marker\":{\"opacity\":1,\"size\":1},\"mode\":\"markers\",\"showlegend\":false,\"text\":[\"ID: 63, Pos(4.62,1.68)\"],\"x\":[4.616813931226993],\"y\":[1.6789836085531786],\"type\":\"scatter\"},{\"hoverinfo\":\"text\",\"marker\":{\"opacity\":1,\"size\":1},\"mode\":\"markers\",\"showlegend\":false,\"text\":[\"ID: 64, Pos(5.33,3.16)\"],\"x\":[5.329616053891829],\"y\":[3.1644056452317684],\"type\":\"scatter\"},{\"hoverinfo\":\"text\",\"marker\":{\"opacity\":1,\"size\":1},\"mode\":\"markers\",\"showlegend\":false,\"text\":[\"ID: 65, Pos(5.08,2.62)\"],\"x\":[5.0753077981506864],\"y\":[2.619098610590308],\"type\":\"scatter\"},{\"hoverinfo\":\"text\",\"marker\":{\"opacity\":1,\"size\":1},\"mode\":\"markers\",\"showlegend\":false,\"text\":[\"ID: 66, Pos(3.77,3.60)\"],\"x\":[3.7664408782237966],\"y\":[3.5963347297304042],\"type\":\"scatter\"},{\"hoverinfo\":\"text\",\"marker\":{\"opacity\":1,\"size\":1},\"mode\":\"markers\",\"showlegend\":false,\"text\":[\"ID: 67, Pos(4.60,3.45)\"],\"x\":[4.603285218104048],\"y\":[3.4520770726636005],\"type\":\"scatter\"},{\"hoverinfo\":\"text\",\"marker\":{\"opacity\":1,\"size\":1},\"mode\":\"markers\",\"showlegend\":false,\"text\":[\"ID: 68, Pos(6.15,2.67)\"],\"x\":[6.148668903640828],\"y\":[2.6718729482228825],\"type\":\"scatter\"},{\"hoverinfo\":\"text\",\"marker\":{\"opacity\":1,\"size\":1},\"mode\":\"markers\",\"showlegend\":false,\"text\":[\"ID: 69, Pos(3.76,2.86)\"],\"x\":[3.7610903279166332],\"y\":[2.860528473266022],\"type\":\"scatter\"},{\"hoverinfo\":\"text\",\"marker\":{\"opacity\":1,\"size\":1},\"mode\":\"markers\",\"showlegend\":false,\"text\":[\"ID: 70, Pos(5.29,2.05)\"],\"x\":[5.287229059655491],\"y\":[2.0537379174628105],\"type\":\"scatter\"}],\"layout\":{\"shapes\":[{\"fillcolor\":\"rgba(0, 0, 128, 0.5)\",\"line\":{\"color\":\"rgba(0, 0, 128, 0.5)\"},\"type\":\"circle\",\"x0\":6.137915259465798,\"x1\":6.537915259465798,\"xref\":\"x\",\"y0\":3.6104654154927145,\"y1\":4.010465415492715,\"yref\":\"y\"},{\"fillcolor\":\"rgba(0, 109, 255, 0.5)\",\"line\":{\"color\":\"rgba(0, 109, 255, 0.5)\"},\"type\":\"circle\",\"x0\":3.564115712717014,\"x1\":3.9641157127170144,\"xref\":\"x\",\"y0\":1.8071306679634314,\"y1\":2.2071306679634315,\"yref\":\"y\"},{\"fillcolor\":\"rgba(255, 234, 0, 0.5)\",\"line\":{\"color\":\"rgba(255, 234, 0, 0.5)\"},\"type\":\"circle\",\"x0\":4.416813931226993,\"x1\":4.816813931226993,\"xref\":\"x\",\"y0\":1.4789836085531787,\"y1\":1.8789836085531786,\"yref\":\"y\"},{\"fillcolor\":\"rgba(0, 0, 223, 0.5)\",\"line\":{\"color\":\"rgba(0, 0, 223, 0.5)\"},\"type\":\"circle\",\"x0\":5.129616053891829,\"x1\":5.5296160538918295,\"xref\":\"x\",\"y0\":2.964405645231768,\"y1\":3.3644056452317685,\"yref\":\"y\"},{\"fillcolor\":\"rgba(102, 255, 144, 0.5)\",\"line\":{\"color\":\"rgba(102, 255, 144, 0.5)\"},\"type\":\"circle\",\"x0\":4.875307798150686,\"x1\":5.275307798150687,\"xref\":\"x\",\"y0\":2.4190986105903076,\"y1\":2.819098610590308,\"yref\":\"y\"},{\"fillcolor\":\"rgba(255, 219, 0, 0.5)\",\"line\":{\"color\":\"rgba(255, 219, 0, 0.5)\"},\"type\":\"circle\",\"x0\":3.5664408782237964,\"x1\":3.9664408782237968,\"xref\":\"x\",\"y0\":3.396334729730404,\"y1\":3.7963347297304044,\"yref\":\"y\"},{\"fillcolor\":\"rgba(193, 255, 54, 0.5)\",\"line\":{\"color\":\"rgba(193, 255, 54, 0.5)\"},\"type\":\"circle\",\"x0\":4.403285218104048,\"x1\":4.803285218104048,\"xref\":\"x\",\"y0\":3.2520770726636004,\"y1\":3.6520770726636007,\"yref\":\"y\"},{\"fillcolor\":\"rgba(44, 255, 202, 0.5)\",\"line\":{\"color\":\"rgba(44, 255, 202, 0.5)\"},\"type\":\"circle\",\"x0\":5.948668903640828,\"x1\":6.348668903640828,\"xref\":\"x\",\"y0\":2.4718729482228823,\"y1\":2.8718729482228826,\"yref\":\"y\"},{\"fillcolor\":\"rgba(0, 117, 255, 0.5)\",\"line\":{\"color\":\"rgba(0, 117, 255, 0.5)\"},\"type\":\"circle\",\"x0\":3.561090327916633,\"x1\":3.9610903279166334,\"xref\":\"x\",\"y0\":2.6605284732660217,\"y1\":3.060528473266022,\"yref\":\"y\"},{\"fillcolor\":\"rgba(0, 0, 128, 0.5)\",\"line\":{\"color\":\"rgba(0, 0, 128, 0.5)\"},\"type\":\"circle\",\"x0\":5.087229059655491,\"x1\":5.487229059655491,\"xref\":\"x\",\"y0\":1.8537379174628106,\"y1\":2.2537379174628107,\"yref\":\"y\"},{\"line\":{\"color\":\"white\",\"width\":3},\"type\":\"line\",\"x0\":6.337915259465798,\"x1\":6.398071787140956,\"y0\":3.8104654154927147,\"y1\":4.001203959521099},{\"line\":{\"color\":\"white\",\"width\":3},\"type\":\"line\",\"x0\":3.764115712717014,\"x1\":3.9628979142010423,\"y0\":2.0071306679634313,\"y1\":2.0291678268811135},{\"line\":{\"color\":\"black\",\"width\":3},\"type\":\"line\",\"x0\":4.616813931226993,\"x1\":4.7153831486571,\"y0\":1.6789836085531786,\"y1\":1.8530069097953294},{\"line\":{\"color\":\"white\",\"width\":3},\"type\":\"line\",\"x0\":5.329616053891829,\"x1\":5.529592381701502,\"y0\":3.1644056452317684,\"y1\":3.161328582385706},{\"line\":{\"color\":\"black\",\"width\":3},\"type\":\"line\",\"x0\":5.0753077981506864,\"x1\":5.274834629833223,\"y0\":2.619098610590308,\"y1\":2.6053493037449216},{\"line\":{\"color\":\"black\",\"width\":3},\"type\":\"line\",\"x0\":3.7664408782237966,\"x1\":3.962568439179612,\"y0\":3.5963347297304042,\"y1\":3.5571686751228375},{\"line\":{\"color\":\"black\",\"width\":3},\"type\":\"line\",\"x0\":4.603285218104048,\"x1\":4.6837176107486345,\"y0\":3.4520770726636005,\"y1\":3.268963364237751},{\"line\":{\"color\":\"black\",\"width\":3},\"type\":\"line\",\"x0\":6.148668903640828,\"x1\":6.205322069580605,\"y0\":2.6718729482228825,\"y1\":2.863681234772239},{\"line\":{\"color\":\"white\",\"width\":3},\"type\":\"line\",\"x0\":3.7610903279166332,\"x1\":3.9584722700719985,\"y0\":2.860528473266022,\"y1\":2.8282737230580905},{\"line\":{\"color\":\"white\",\"width\":3},\"type\":\"line\",\"x0\":5.287229059655491,\"x1\":5.486623041500989,\"y0\":2.0537379174628105,\"y1\":2.038180282559099}],\"title\":{\"text\":\"\\u003cb\\u003ePercentage using the shortest path: 0%  |  Number of Agents: 10\\u003c\\u002fb\\u003e\",\"x\":0.5}},\"name\":\"150\"},{\"data\":[{\"hoverinfo\":\"name\",\"line\":{\"color\":\"grey\"},\"mode\":\"lines\",\"name\":\"Exterior\",\"showlegend\":false,\"x\":[10.1,10.1,15.0,15.0,13.6,13.6,15.0,15.0,13.6,13.6,15.0,15.0,10.1,10.1,9.9,9.9,5.1,5.1,4.9,4.9,0.0,0.0,1.5,1.5,0.0,0.0,1.5,1.5,0.0,0.0,4.9,4.9,5.1,5.1,9.9,9.9,10.1],\"y\":[1.5,0.0,0.0,4.9,4.9,5.1,5.1,9.9,9.9,10.1,10.1,15.0,15.0,13.6,13.6,15.0,15.0,13.6,13.6,15.0,15.0,10.1,10.1,9.9,9.9,5.1,5.1,4.9,4.9,0.0,0.0,1.5,1.5,0.0,0.0,1.5,1.5],\"type\":\"scatter\"},{\"hoverinfo\":\"name\",\"line\":{\"color\":\"grey\"},\"mode\":\"lines\",\"name\":\"Obstacle\",\"showlegend\":false,\"x\":[10.1,11.5,11.5,10.1,10.1,9.9,9.9,8.6,8.6,9.9,9.9,10.1,10.1],\"y\":[5.1,5.1,4.9,4.9,3.6,3.6,4.9,4.9,5.1,5.1,6.5,6.5,5.1],\"type\":\"scatter\"},{\"hoverinfo\":\"name\",\"line\":{\"color\":\"grey\"},\"mode\":\"lines\",\"name\":\"Obstacle\",\"showlegend\":false,\"x\":[10.1,11.5,11.5,10.1,10.1,9.9,9.9,8.6,8.6,9.9,9.9,10.1,10.1],\"y\":[10.1,10.1,9.9,9.9,8.6,8.6,9.9,9.9,10.1,10.1,11.5,11.5,10.1],\"type\":\"scatter\"},{\"hoverinfo\":\"name\",\"line\":{\"color\":\"grey\"},\"mode\":\"lines\",\"name\":\"Obstacle\",\"showlegend\":false,\"x\":[5.1,6.4,6.4,5.1,5.1,4.9,4.9,3.6,3.6,4.9,4.9,5.1,5.1],\"y\":[5.1,5.1,4.9,4.9,3.6,3.6,4.9,4.9,5.1,5.1,6.5,6.5,5.1],\"type\":\"scatter\"},{\"hoverinfo\":\"name\",\"line\":{\"color\":\"grey\"},\"mode\":\"lines\",\"name\":\"Obstacle\",\"showlegend\":false,\"x\":[5.1,6.4,6.4,5.1,5.1,4.9,4.9,3.6,3.6,4.9,4.9,5.1,5.1],\"y\":[10.1,10.1,9.9,9.9,8.6,8.6,9.9,9.9,10.1,10.1,11.5,11.5,10.1],\"type\":\"scatter\"},{\"fill\":\"toself\",\"fillcolor\":\"rgba(200, 0, 0, 0.00)\",\"hoverinfo\":\"name\",\"line\":{\"width\":0},\"mode\":\"lines\",\"name\":\"Risk Area\",\"showlegend\":false,\"x\":[0.0,5.0,5.0,0.0,0.0],\"y\":[0.0,0.0,5.0,5.0,0.0],\"type\":\"scatter\"},{\"fill\":\"toself\",\"fillcolor\":\"rgba(200, 0, 0, 0.10)\",\"hoverinfo\":\"name\",\"line\":{\"width\":0},\"mode\":\"lines\",\"name\":\"Risk Area\",\"showlegend\":false,\"x\":[5.0,10.0,10.0,5.0,5.0],\"y\":[0.0,0.0,5.0,5.0,0.0],\"type\":\"scatter\"},{\"fill\":\"toself\",\"fillcolor\":\"rgba(200, 0, 0, 0.00)\",\"hoverinfo\":\"name\",\"line\":{\"width\":0},\"mode\":\"lines\",\"name\":\"Risk Area\",\"showlegend\":false,\"x\":[10.0,15.0,15.0,10.0,10.0],\"y\":[0.0,0.0,5.0,5.0,0.0],\"type\":\"scatter\"},{\"fill\":\"toself\",\"fillcolor\":\"rgba(200, 0, 0, 0.00)\",\"hoverinfo\":\"name\",\"line\":{\"width\":0},\"mode\":\"lines\",\"name\":\"Risk Area\",\"showlegend\":false,\"x\":[10.0,15.0,15.0,10.0,10.0],\"y\":[5.0,5.0,10.0,10.0,5.0],\"type\":\"scatter\"},{\"fill\":\"toself\",\"fillcolor\":\"rgba(200, 0, 0, 0.50)\",\"hoverinfo\":\"name\",\"line\":{\"width\":0},\"mode\":\"lines\",\"name\":\"Risk Area\",\"showlegend\":false,\"x\":[5.0,10.0,10.0,5.0,5.0],\"y\":[5.0,5.0,10.0,10.0,5.0],\"type\":\"scatter\"},{\"fill\":\"toself\",\"fillcolor\":\"rgba(200, 0, 0, 0.00)\",\"hoverinfo\":\"name\",\"line\":{\"width\":0},\"mode\":\"lines\",\"name\":\"Risk Area\",\"showlegend\":false,\"x\":[0.0,5.0,5.0,0.0,0.0],\"y\":[5.0,5.0,10.0,10.0,5.0],\"type\":\"scatter\"},{\"fill\":\"toself\",\"fillcolor\":\"rgba(200, 0, 0, 0.00)\",\"hoverinfo\":\"name\",\"line\":{\"width\":0},\"mode\":\"lines\",\"name\":\"Risk Area\",\"showlegend\":false,\"x\":[0.0,5.0,5.0,0.0,0.0],\"y\":[10.0,10.0,15.0,15.0,10.0],\"type\":\"scatter\"},{\"fill\":\"toself\",\"fillcolor\":\"rgba(200, 0, 0, 0.20)\",\"hoverinfo\":\"name\",\"line\":{\"width\":0},\"mode\":\"lines\",\"name\":\"Risk Area\",\"showlegend\":false,\"x\":[5.0,10.0,10.0,5.0,5.0],\"y\":[10.0,10.0,15.0,15.0,10.0],\"type\":\"scatter\"},{\"fill\":\"toself\",\"fillcolor\":\"rgba(200, 0, 0, 0.00)\",\"hoverinfo\":\"name\",\"line\":{\"width\":0},\"mode\":\"lines\",\"name\":\"Risk Area\",\"showlegend\":false,\"x\":[10.0,15.0,15.0,10.0,10.0],\"y\":[10.0,10.0,15.0,15.0,10.0],\"type\":\"scatter\"},{\"hoverinfo\":\"text\",\"marker\":{\"opacity\":1,\"size\":1},\"mode\":\"markers\",\"showlegend\":false,\"text\":[\"ID: 61, Pos(6.82,4.89)\"],\"x\":[6.818495896716733],\"y\":[4.894711756091618],\"type\":\"scatter\"},{\"hoverinfo\":\"text\",\"marker\":{\"opacity\":1,\"size\":1},\"mode\":\"markers\",\"showlegend\":false,\"text\":[\"ID: 62, Pos(4.24,2.05)\"],\"x\":[4.242328320415786],\"y\":[2.053025305220917],\"type\":\"scatter\"},{\"hoverinfo\":\"text\",\"marker\":{\"opacity\":1,\"size\":1},\"mode\":\"markers\",\"showlegend\":false,\"text\":[\"ID: 63, Pos(5.16,1.98)\"],\"x\":[5.161065449121136],\"y\":[1.9838800136897727],\"type\":\"scatter\"},{\"hoverinfo\":\"text\",\"marker\":{\"opacity\":1,\"size\":1},\"mode\":\"markers\",\"showlegend\":false,\"text\":[\"ID: 64, Pos(5.75,3.15)\"],\"x\":[5.748042034942535],\"y\":[3.1502189240538683],\"type\":\"scatter\"},{\"hoverinfo\":\"text\",\"marker\":{\"opacity\":1,\"size\":1},\"mode\":\"markers\",\"showlegend\":false,\"text\":[\"ID: 65, Pos(6.01,2.65)\"],\"x\":[6.009640666185608],\"y\":[2.645962890851462],\"type\":\"scatter\"},{\"hoverinfo\":\"text\",\"marker\":{\"opacity\":1,\"size\":1},\"mode\":\"markers\",\"showlegend\":false,\"text\":[\"ID: 66, Pos(4.19,3.49)\"],\"x\":[4.190833547036539],\"y\":[3.4921660258942815],\"type\":\"scatter\"},{\"hoverinfo\":\"text\",\"marker\":{\"opacity\":1,\"size\":1},\"mode\":\"markers\",\"showlegend\":false,\"text\":[\"ID: 67, Pos(4.96,3.20)\"],\"x\":[4.959328014215503],\"y\":[3.1952081653091042],\"type\":\"scatter\"},{\"hoverinfo\":\"text\",\"marker\":{\"opacity\":1,\"size\":1},\"mode\":\"markers\",\"showlegend\":false,\"text\":[\"ID: 68, Pos(6.45,3.53)\"],\"x\":[6.454141863154297],\"y\":[3.5309976095485136],\"type\":\"scatter\"},{\"hoverinfo\":\"text\",\"marker\":{\"opacity\":1,\"size\":1},\"mode\":\"markers\",\"showlegend\":false,\"text\":[\"ID: 69, Pos(4.71,2.65)\"],\"x\":[4.712398668248698],\"y\":[2.6538767410181694],\"type\":\"scatter\"},{\"hoverinfo\":\"text\",\"marker\":{\"opacity\":1,\"size\":1},\"mode\":\"markers\",\"showlegend\":false,\"text\":[\"ID: 70, Pos(6.41,2.28)\"],\"x\":[6.413624592813852],\"y\":[2.276805837745456],\"type\":\"scatter\"}],\"layout\":{\"shapes\":[{\"fillcolor\":\"rgba(0, 0, 128, 0.5)\",\"line\":{\"color\":\"rgba(0, 0, 128, 0.5)\"},\"type\":\"circle\",\"x0\":6.618495896716733,\"x1\":7.0184958967167335,\"xref\":\"x\",\"y0\":4.694711756091618,\"y1\":5.094711756091618,\"yref\":\"y\"},{\"fillcolor\":\"rgba(219, 255, 28, 0.5)\",\"line\":{\"color\":\"rgba(219, 255, 28, 0.5)\"},\"type\":\"circle\",\"x0\":4.042328320415786,\"x1\":4.442328320415786,\"xref\":\"x\",\"y0\":1.853025305220917,\"y1\":2.253025305220917,\"yref\":\"y\"},{\"fillcolor\":\"rgba(0, 164, 255, 0.5)\",\"line\":{\"color\":\"rgba(0, 164, 255, 0.5)\"},\"type\":\"circle\",\"x0\":4.9610654491211355,\"x1\":5.361065449121136,\"xref\":\"x\",\"y0\":1.7838800136897728,\"y1\":2.1838800136897727,\"yref\":\"y\"},{\"fillcolor\":\"rgba(255, 174, 0, 0.5)\",\"line\":{\"color\":\"rgba(255, 174, 0, 0.5)\"},\"type\":\"circle\",\"x0\":5.548042034942535,\"x1\":5.948042034942535,\"xref\":\"x\",\"y0\":2.950218924053868,\"y1\":3.3502189240538685,\"yref\":\"y\"},{\"fillcolor\":\"rgba(205, 0, 0, 0.5)\",\"line\":{\"color\":\"rgba(205, 0, 0, 0.5)\"},\"type\":\"circle\",\"x0\":5.809640666185608,\"x1\":6.209640666185608,\"xref\":\"x\",\"y0\":2.4459628908514617,\"y1\":2.845962890851462,\"yref\":\"y\"},{\"fillcolor\":\"rgba(255, 196, 0, 0.5)\",\"line\":{\"color\":\"rgba(255, 196, 0, 0.5)\"},\"type\":\"circle\",\"x0\":3.990833547036539,\"x1\":4.390833547036539,\"xref\":\"x\",\"y0\":3.2921660258942813,\"y1\":3.6921660258942817,\"yref\":\"y\"},{\"fillcolor\":\"rgba(255, 167, 0, 0.5)\",\"line\":{\"color\":\"rgba(255, 167, 0, 0.5)\"},\"type\":\"circle\",\"x0\":4.7593280142155026,\"x1\":5.159328014215503,\"xref\":\"x\",\"y0\":2.995208165309104,\"y1\":3.3952081653091044,\"yref\":\"y\"},{\"fillcolor\":\"rgba(0, 45, 255, 0.5)\",\"line\":{\"color\":\"rgba(0, 45, 255, 0.5)\"},\"type\":\"circle\",\"x0\":6.254141863154297,\"x1\":6.6541418631542975,\"xref\":\"x\",\"y0\":3.3309976095485134,\"y1\":3.730997609548514,\"yref\":\"y\"},{\"fillcolor\":\"rgba(0, 0, 168, 0.5)\",\"line\":{\"color\":\"rgba(0, 0, 168, 0.5)\"},\"type\":\"circle\",\"x0\":4.512398668248697,\"x1\":4.912398668248698,\"xref\":\"x\",\"y0\":2.453876741018169,\"y1\":2.8538767410181696,\"yref\":\"y\"},{\"fillcolor\":\"rgba(0, 0, 137, 0.5)\",\"line\":{\"color\":\"rgba(0, 0, 137, 0.5)\"},\"type\":\"circle\",\"x0\":6.213624592813852,\"x1\":6.613624592813852,\"xref\":\"x\",\"y0\":2.076805837745456,\"y1\":2.4768058377454563,\"yref\":\"y\"},{\"line\":{\"color\":\"white\",\"width\":3},\"type\":\"line\",\"x0\":6.818495896716733,\"x1\":6.897080101795871,\"y0\":4.894711756091618,\"y1\":5.0786262000923},{\"line\":{\"color\":\"black\",\"width\":3},\"type\":\"line\",\"x0\":4.242328320415786,\"x1\":4.441559658142838,\"y0\":2.053025305220917,\"y1\":2.070543126646235},{\"line\":{\"color\":\"white\",\"width\":3},\"type\":\"line\",\"x0\":5.161065449121136,\"x1\":5.356857753618931,\"y0\":1.9838800136897727,\"y1\":2.024689001663535},{\"line\":{\"color\":\"black\",\"width\":3},\"type\":\"line\",\"x0\":5.748042034942535,\"x1\":5.947519156510432,\"y0\":3.1502189240538683,\"y1\":3.1646715352707595},{\"line\":{\"color\":\"white\",\"width\":3},\"type\":\"line\",\"x0\":6.009640666185608,\"x1\":6.025111889044508,\"y0\":2.645962890851462,\"y1\":2.845363596124162},{\"line\":{\"color\":\"black\",\"width\":3},\"type\":\"line\",\"x0\":4.190833547036539,\"x1\":4.382873655554673,\"y0\":3.4921660258942815,\"y1\":3.4363037244706613},{\"line\":{\"color\":\"black\",\"width\":3},\"type\":\"line\",\"x0\":4.959328014215503,\"x1\":5.157580187161891,\"y0\":3.1952081653091042,\"y1\":3.168824914523135},{\"line\":{\"color\":\"white\",\"width\":3},\"type\":\"line\",\"x0\":6.454141863154297,\"x1\":6.511814136122602,\"y0\":3.5309976095485136,\"y1\":3.7225019409111995},{\"line\":{\"color\":\"white\",\"width\":3},\"type\":\"line\",\"x0\":4.712398668248698,\"x1\":4.900780339686537,\"y0\":2.6538767410181694,\"y1\":2.5867027440678174},{\"line\":{\"color\":\"white\",\"width\":3},\"type\":\"line\",\"x0\":6.413624592813852,\"x1\":6.564289469401005,\"y0\":2.276805837745456,\"y1\":2.408335663119696}],\"title\":{\"text\":\"\\u003cb\\u003ePercentage using the shortest path: 0%  |  Number of Agents: 10\\u003c\\u002fb\\u003e\",\"x\":0.5}},\"name\":\"200\"},{\"data\":[{\"hoverinfo\":\"name\",\"line\":{\"color\":\"grey\"},\"mode\":\"lines\",\"name\":\"Exterior\",\"showlegend\":false,\"x\":[10.1,10.1,15.0,15.0,13.6,13.6,15.0,15.0,13.6,13.6,15.0,15.0,10.1,10.1,9.9,9.9,5.1,5.1,4.9,4.9,0.0,0.0,1.5,1.5,0.0,0.0,1.5,1.5,0.0,0.0,4.9,4.9,5.1,5.1,9.9,9.9,10.1],\"y\":[1.5,0.0,0.0,4.9,4.9,5.1,5.1,9.9,9.9,10.1,10.1,15.0,15.0,13.6,13.6,15.0,15.0,13.6,13.6,15.0,15.0,10.1,10.1,9.9,9.9,5.1,5.1,4.9,4.9,0.0,0.0,1.5,1.5,0.0,0.0,1.5,1.5],\"type\":\"scatter\"},{\"hoverinfo\":\"name\",\"line\":{\"color\":\"grey\"},\"mode\":\"lines\",\"name\":\"Obstacle\",\"showlegend\":false,\"x\":[10.1,11.5,11.5,10.1,10.1,9.9,9.9,8.6,8.6,9.9,9.9,10.1,10.1],\"y\":[5.1,5.1,4.9,4.9,3.6,3.6,4.9,4.9,5.1,5.1,6.5,6.5,5.1],\"type\":\"scatter\"},{\"hoverinfo\":\"name\",\"line\":{\"color\":\"grey\"},\"mode\":\"lines\",\"name\":\"Obstacle\",\"showlegend\":false,\"x\":[10.1,11.5,11.5,10.1,10.1,9.9,9.9,8.6,8.6,9.9,9.9,10.1,10.1],\"y\":[10.1,10.1,9.9,9.9,8.6,8.6,9.9,9.9,10.1,10.1,11.5,11.5,10.1],\"type\":\"scatter\"},{\"hoverinfo\":\"name\",\"line\":{\"color\":\"grey\"},\"mode\":\"lines\",\"name\":\"Obstacle\",\"showlegend\":false,\"x\":[5.1,6.4,6.4,5.1,5.1,4.9,4.9,3.6,3.6,4.9,4.9,5.1,5.1],\"y\":[5.1,5.1,4.9,4.9,3.6,3.6,4.9,4.9,5.1,5.1,6.5,6.5,5.1],\"type\":\"scatter\"},{\"hoverinfo\":\"name\",\"line\":{\"color\":\"grey\"},\"mode\":\"lines\",\"name\":\"Obstacle\",\"showlegend\":false,\"x\":[5.1,6.4,6.4,5.1,5.1,4.9,4.9,3.6,3.6,4.9,4.9,5.1,5.1],\"y\":[10.1,10.1,9.9,9.9,8.6,8.6,9.9,9.9,10.1,10.1,11.5,11.5,10.1],\"type\":\"scatter\"},{\"fill\":\"toself\",\"fillcolor\":\"rgba(200, 0, 0, 0.00)\",\"hoverinfo\":\"name\",\"line\":{\"width\":0},\"mode\":\"lines\",\"name\":\"Risk Area\",\"showlegend\":false,\"x\":[0.0,5.0,5.0,0.0,0.0],\"y\":[0.0,0.0,5.0,5.0,0.0],\"type\":\"scatter\"},{\"fill\":\"toself\",\"fillcolor\":\"rgba(200, 0, 0, 0.10)\",\"hoverinfo\":\"name\",\"line\":{\"width\":0},\"mode\":\"lines\",\"name\":\"Risk Area\",\"showlegend\":false,\"x\":[5.0,10.0,10.0,5.0,5.0],\"y\":[0.0,0.0,5.0,5.0,0.0],\"type\":\"scatter\"},{\"fill\":\"toself\",\"fillcolor\":\"rgba(200, 0, 0, 0.00)\",\"hoverinfo\":\"name\",\"line\":{\"width\":0},\"mode\":\"lines\",\"name\":\"Risk Area\",\"showlegend\":false,\"x\":[10.0,15.0,15.0,10.0,10.0],\"y\":[0.0,0.0,5.0,5.0,0.0],\"type\":\"scatter\"},{\"fill\":\"toself\",\"fillcolor\":\"rgba(200, 0, 0, 0.00)\",\"hoverinfo\":\"name\",\"line\":{\"width\":0},\"mode\":\"lines\",\"name\":\"Risk Area\",\"showlegend\":false,\"x\":[10.0,15.0,15.0,10.0,10.0],\"y\":[5.0,5.0,10.0,10.0,5.0],\"type\":\"scatter\"},{\"fill\":\"toself\",\"fillcolor\":\"rgba(200, 0, 0, 0.50)\",\"hoverinfo\":\"name\",\"line\":{\"width\":0},\"mode\":\"lines\",\"name\":\"Risk Area\",\"showlegend\":false,\"x\":[5.0,10.0,10.0,5.0,5.0],\"y\":[5.0,5.0,10.0,10.0,5.0],\"type\":\"scatter\"},{\"fill\":\"toself\",\"fillcolor\":\"rgba(200, 0, 0, 0.00)\",\"hoverinfo\":\"name\",\"line\":{\"width\":0},\"mode\":\"lines\",\"name\":\"Risk Area\",\"showlegend\":false,\"x\":[0.0,5.0,5.0,0.0,0.0],\"y\":[5.0,5.0,10.0,10.0,5.0],\"type\":\"scatter\"},{\"fill\":\"toself\",\"fillcolor\":\"rgba(200, 0, 0, 0.00)\",\"hoverinfo\":\"name\",\"line\":{\"width\":0},\"mode\":\"lines\",\"name\":\"Risk Area\",\"showlegend\":false,\"x\":[0.0,5.0,5.0,0.0,0.0],\"y\":[10.0,10.0,15.0,15.0,10.0],\"type\":\"scatter\"},{\"fill\":\"toself\",\"fillcolor\":\"rgba(200, 0, 0, 0.20)\",\"hoverinfo\":\"name\",\"line\":{\"width\":0},\"mode\":\"lines\",\"name\":\"Risk Area\",\"showlegend\":false,\"x\":[5.0,10.0,10.0,5.0,5.0],\"y\":[10.0,10.0,15.0,15.0,10.0],\"type\":\"scatter\"},{\"fill\":\"toself\",\"fillcolor\":\"rgba(200, 0, 0, 0.00)\",\"hoverinfo\":\"name\",\"line\":{\"width\":0},\"mode\":\"lines\",\"name\":\"Risk Area\",\"showlegend\":false,\"x\":[10.0,15.0,15.0,10.0,10.0],\"y\":[10.0,10.0,15.0,15.0,10.0],\"type\":\"scatter\"},{\"hoverinfo\":\"text\",\"marker\":{\"opacity\":1,\"size\":1},\"mode\":\"markers\",\"showlegend\":false,\"text\":[\"ID: 61, Pos(7.14,6.05)\"],\"x\":[7.138099800654597],\"y\":[6.047572702367926],\"type\":\"scatter\"},{\"hoverinfo\":\"text\",\"marker\":{\"opacity\":1,\"size\":1},\"mode\":\"markers\",\"showlegend\":false,\"text\":[\"ID: 62, Pos(4.73,2.10)\"],\"x\":[4.727458490982779],\"y\":[2.103296880026608],\"type\":\"scatter\"},{\"hoverinfo\":\"text\",\"marker\":{\"opacity\":1,\"size\":1},\"mode\":\"markers\",\"showlegend\":false,\"text\":[\"ID: 63, Pos(6.09,2.24)\"],\"x\":[6.092120243159756],\"y\":[2.2412441423698843],\"type\":\"scatter\"},{\"hoverinfo\":\"text\",\"marker\":{\"opacity\":1,\"size\":1},\"mode\":\"markers\",\"showlegend\":false,\"text\":[\"ID: 64, Pos(6.11,3.38)\"],\"x\":[6.109018057924161],\"y\":[3.3776322134539307],\"type\":\"scatter\"},{\"hoverinfo\":\"text\",\"marker\":{\"opacity\":1,\"size\":1},\"mode\":\"markers\",\"showlegend\":false,\"text\":[\"ID: 65, Pos(6.61,3.30)\"],\"x\":[6.612864287605157],\"y\":[3.3036357529219282],\"type\":\"scatter\"},{\"hoverinfo\":\"text\",\"marker\":{\"opacity\":1,\"size\":1},\"mode\":\"markers\",\"showlegend\":false,\"text\":[\"ID: 66, Pos(4.58,3.36)\"],\"x\":[4.583436112827418],\"y\":[3.3623055896317173],\"type\":\"scatter\"},{\"hoverinfo\":\"text\",\"marker\":{\"opacity\":1,\"size\":1},\"mode\":\"markers\",\"showlegend\":false,\"text\":[\"ID: 67, Pos(5.37,3.15)\"],\"x\":[5.368862867245899],\"y\":[3.1459617738066488],\"type\":\"scatter\"},{\"hoverinfo\":\"text\",\"marker\":{\"opacity\":1,\"size\":1},\"mode\":\"markers\",\"showlegend\":false,\"text\":[\"ID: 68, Pos(6.74,4.57)\"],\"x\":[6.7376726329267065],\"y\":[4.573399609100478],\"type\":\"scatter\"},{\"hoverinfo\":\"text\",\"marker\":{\"opacity\":1,\"size\":1},\"mode\":\"markers\",\"showlegend\":false,\"text\":[\"ID: 69, Pos(5.39,2.50)\"],\"x\":[5.386977348498742],\"y\":[2.502522424472313],\"type\":\"scatter\"},{\"hoverinfo\":\"text\",\"marker\":{\"opacity\":1,\"size\":1},\"mode\":\"markers\",\"showlegend\":false,\"text\":[\"ID: 70, Pos(7.15,3.22)\"],\"x\":[7.1547165471618275],\"y\":[3.2161430778128337],\"type\":\"scatter\"}],\"layout\":{\"shapes\":[{\"fillcolor\":\"rgba(0, 21, 255, 0.5)\",\"line\":{\"color\":\"rgba(0, 21, 255, 0.5)\"},\"type\":\"circle\",\"x0\":6.938099800654597,\"x1\":7.338099800654597,\"xref\":\"x\",\"y0\":5.847572702367926,\"y1\":6.247572702367926,\"yref\":\"y\"},{\"fillcolor\":\"rgba(255, 148, 0, 0.5)\",\"line\":{\"color\":\"rgba(255, 148, 0, 0.5)\"},\"type\":\"circle\",\"x0\":4.527458490982779,\"x1\":4.927458490982779,\"xref\":\"x\",\"y0\":1.903296880026608,\"y1\":2.303296880026608,\"yref\":\"y\"},{\"fillcolor\":\"rgba(73, 255, 173, 0.5)\",\"line\":{\"color\":\"rgba(73, 255, 173, 0.5)\"},\"type\":\"circle\",\"x0\":5.892120243159756,\"x1\":6.292120243159756,\"xref\":\"x\",\"y0\":2.041244142369884,\"y1\":2.4412441423698845,\"yref\":\"y\"},{\"fillcolor\":\"rgba(51, 255, 196, 0.5)\",\"line\":{\"color\":\"rgba(51, 255, 196, 0.5)\"},\"type\":\"circle\",\"x0\":5.909018057924161,\"x1\":6.3090180579241615,\"xref\":\"x\",\"y0\":3.1776322134539305,\"y1\":3.577632213453931,\"yref\":\"y\"},{\"fillcolor\":\"rgba(0, 0, 232, 0.5)\",\"line\":{\"color\":\"rgba(0, 0, 232, 0.5)\"},\"type\":\"circle\",\"x0\":6.4128642876051565,\"x1\":6.812864287605157,\"xref\":\"x\",\"y0\":3.103635752921928,\"y1\":3.5036357529219284,\"yref\":\"y\"},{\"fillcolor\":\"rgba(255, 185, 0, 0.5)\",\"line\":{\"color\":\"rgba(255, 185, 0, 0.5)\"},\"type\":\"circle\",\"x0\":4.383436112827418,\"x1\":4.7834361128274185,\"xref\":\"x\",\"y0\":3.162305589631717,\"y1\":3.5623055896317175,\"yref\":\"y\"},{\"fillcolor\":\"rgba(255, 159, 0, 0.5)\",\"line\":{\"color\":\"rgba(255, 159, 0, 0.5)\"},\"type\":\"circle\",\"x0\":5.168862867245899,\"x1\":5.568862867245899,\"xref\":\"x\",\"y0\":2.9459617738066486,\"y1\":3.345961773806649,\"yref\":\"y\"},{\"fillcolor\":\"rgba(0, 0, 214, 0.5)\",\"line\":{\"color\":\"rgba(0, 0, 214, 0.5)\"},\"type\":\"circle\",\"x0\":6.537672632926706,\"x1\":6.937672632926707,\"xref\":\"x\",\"y0\":4.373399609100478,\"y1\":4.773399609100478,\"yref\":\"y\"},{\"fillcolor\":\"rgba(255, 134, 0, 0.5)\",\"line\":{\"color\":\"rgba(255, 134, 0, 0.5)\"},\"type\":\"circle\",\"x0\":5.186977348498742,\"x1\":5.586977348498742,\"xref\":\"x\",\"y0\":2.302522424472313,\"y1\":2.7025224244723134,\"yref\":\"y\"},{\"fillcolor\":\"rgba(0, 0, 128, 0.5)\",\"line\":{\"color\":\"rgba(0, 0, 128, 0.5)\"},\"type\":\"circle\",\"x0\":6.954716547161827,\"x1\":7.354716547161828,\"xref\":\"x\",\"y0\":3.0161430778128335,\"y1\":3.416143077812834,\"yref\":\"y\"},{\"line\":{\"color\":\"white\",\"width\":3},\"type\":\"line\",\"x0\":7.138099800654597,\"x1\":7.331141386532763,\"y0\":6.047572702367926,\"y1\":6.099869414708598},{\"line\":{\"color\":\"black\",\"width\":3},\"type\":\"line\",\"x0\":4.727458490982779,\"x1\":4.926094508424968,\"y0\":2.103296880026608,\"y1\":2.126614954018827},{\"line\":{\"color\":\"black\",\"width\":3},\"type\":\"line\",\"x0\":6.092120243159756,\"x1\":6.158599053547657,\"y0\":2.2412441423698843,\"y1\":2.4298722626738556},{\"line\":{\"color\":\"black\",\"width\":3},\"type\":\"line\",\"x0\":6.109018057924161,\"x1\":6.124515505587229,\"y0\":3.3776322134539307,\"y1\":3.1782335446621595},{\"line\":{\"color\":\"white\",\"width\":3},\"type\":\"line\",\"x0\":6.612864287605157,\"x1\":6.706775812256763,\"y0\":3.3036357529219282,\"y1\":3.4802161185847353},{\"line\":{\"color\":\"black\",\"width\":3},\"type\":\"line\",\"x0\":4.583436112827418,\"x1\":4.761392385596953,\"y0\":3.3623055896317173,\"y1\":3.2710281828873593},{\"line\":{\"color\":\"black\",\"width\":3},\"type\":\"line\",\"x0\":5.368862867245899,\"x1\":5.567678733091003,\"y0\":3.1459617738066488,\"y1\":3.1242304257522435},{\"line\":{\"color\":\"white\",\"width\":3},\"type\":\"line\",\"x0\":6.7376726329267065,\"x1\":6.795551315382569,\"y0\":4.573399609100478,\"y1\":4.764841658079205},{\"line\":{\"color\":\"black\",\"width\":3},\"type\":\"line\",\"x0\":5.386977348498742,\"x1\":5.584044043187392,\"y0\":2.502522424472313,\"y1\":2.468394461677996},{\"line\":{\"color\":\"white\",\"width\":3},\"type\":\"line\",\"x0\":7.1547165471618275,\"x1\":7.273831295879472,\"y0\":3.2161430778128337,\"y1\":3.37680320552949}],\"title\":{\"text\":\"\\u003cb\\u003ePercentage using the shortest path: 0%  |  Number of Agents: 10\\u003c\\u002fb\\u003e\",\"x\":0.5}},\"name\":\"250\"},{\"data\":[{\"hoverinfo\":\"name\",\"line\":{\"color\":\"grey\"},\"mode\":\"lines\",\"name\":\"Exterior\",\"showlegend\":false,\"x\":[10.1,10.1,15.0,15.0,13.6,13.6,15.0,15.0,13.6,13.6,15.0,15.0,10.1,10.1,9.9,9.9,5.1,5.1,4.9,4.9,0.0,0.0,1.5,1.5,0.0,0.0,1.5,1.5,0.0,0.0,4.9,4.9,5.1,5.1,9.9,9.9,10.1],\"y\":[1.5,0.0,0.0,4.9,4.9,5.1,5.1,9.9,9.9,10.1,10.1,15.0,15.0,13.6,13.6,15.0,15.0,13.6,13.6,15.0,15.0,10.1,10.1,9.9,9.9,5.1,5.1,4.9,4.9,0.0,0.0,1.5,1.5,0.0,0.0,1.5,1.5],\"type\":\"scatter\"},{\"hoverinfo\":\"name\",\"line\":{\"color\":\"grey\"},\"mode\":\"lines\",\"name\":\"Obstacle\",\"showlegend\":false,\"x\":[10.1,11.5,11.5,10.1,10.1,9.9,9.9,8.6,8.6,9.9,9.9,10.1,10.1],\"y\":[5.1,5.1,4.9,4.9,3.6,3.6,4.9,4.9,5.1,5.1,6.5,6.5,5.1],\"type\":\"scatter\"},{\"hoverinfo\":\"name\",\"line\":{\"color\":\"grey\"},\"mode\":\"lines\",\"name\":\"Obstacle\",\"showlegend\":false,\"x\":[10.1,11.5,11.5,10.1,10.1,9.9,9.9,8.6,8.6,9.9,9.9,10.1,10.1],\"y\":[10.1,10.1,9.9,9.9,8.6,8.6,9.9,9.9,10.1,10.1,11.5,11.5,10.1],\"type\":\"scatter\"},{\"hoverinfo\":\"name\",\"line\":{\"color\":\"grey\"},\"mode\":\"lines\",\"name\":\"Obstacle\",\"showlegend\":false,\"x\":[5.1,6.4,6.4,5.1,5.1,4.9,4.9,3.6,3.6,4.9,4.9,5.1,5.1],\"y\":[5.1,5.1,4.9,4.9,3.6,3.6,4.9,4.9,5.1,5.1,6.5,6.5,5.1],\"type\":\"scatter\"},{\"hoverinfo\":\"name\",\"line\":{\"color\":\"grey\"},\"mode\":\"lines\",\"name\":\"Obstacle\",\"showlegend\":false,\"x\":[5.1,6.4,6.4,5.1,5.1,4.9,4.9,3.6,3.6,4.9,4.9,5.1,5.1],\"y\":[10.1,10.1,9.9,9.9,8.6,8.6,9.9,9.9,10.1,10.1,11.5,11.5,10.1],\"type\":\"scatter\"},{\"fill\":\"toself\",\"fillcolor\":\"rgba(200, 0, 0, 0.00)\",\"hoverinfo\":\"name\",\"line\":{\"width\":0},\"mode\":\"lines\",\"name\":\"Risk Area\",\"showlegend\":false,\"x\":[0.0,5.0,5.0,0.0,0.0],\"y\":[0.0,0.0,5.0,5.0,0.0],\"type\":\"scatter\"},{\"fill\":\"toself\",\"fillcolor\":\"rgba(200, 0, 0, 0.10)\",\"hoverinfo\":\"name\",\"line\":{\"width\":0},\"mode\":\"lines\",\"name\":\"Risk Area\",\"showlegend\":false,\"x\":[5.0,10.0,10.0,5.0,5.0],\"y\":[0.0,0.0,5.0,5.0,0.0],\"type\":\"scatter\"},{\"fill\":\"toself\",\"fillcolor\":\"rgba(200, 0, 0, 0.00)\",\"hoverinfo\":\"name\",\"line\":{\"width\":0},\"mode\":\"lines\",\"name\":\"Risk Area\",\"showlegend\":false,\"x\":[10.0,15.0,15.0,10.0,10.0],\"y\":[0.0,0.0,5.0,5.0,0.0],\"type\":\"scatter\"},{\"fill\":\"toself\",\"fillcolor\":\"rgba(200, 0, 0, 0.00)\",\"hoverinfo\":\"name\",\"line\":{\"width\":0},\"mode\":\"lines\",\"name\":\"Risk Area\",\"showlegend\":false,\"x\":[10.0,15.0,15.0,10.0,10.0],\"y\":[5.0,5.0,10.0,10.0,5.0],\"type\":\"scatter\"},{\"fill\":\"toself\",\"fillcolor\":\"rgba(200, 0, 0, 0.50)\",\"hoverinfo\":\"name\",\"line\":{\"width\":0},\"mode\":\"lines\",\"name\":\"Risk Area\",\"showlegend\":false,\"x\":[5.0,10.0,10.0,5.0,5.0],\"y\":[5.0,5.0,10.0,10.0,5.0],\"type\":\"scatter\"},{\"fill\":\"toself\",\"fillcolor\":\"rgba(200, 0, 0, 0.00)\",\"hoverinfo\":\"name\",\"line\":{\"width\":0},\"mode\":\"lines\",\"name\":\"Risk Area\",\"showlegend\":false,\"x\":[0.0,5.0,5.0,0.0,0.0],\"y\":[5.0,5.0,10.0,10.0,5.0],\"type\":\"scatter\"},{\"fill\":\"toself\",\"fillcolor\":\"rgba(200, 0, 0, 0.00)\",\"hoverinfo\":\"name\",\"line\":{\"width\":0},\"mode\":\"lines\",\"name\":\"Risk Area\",\"showlegend\":false,\"x\":[0.0,5.0,5.0,0.0,0.0],\"y\":[10.0,10.0,15.0,15.0,10.0],\"type\":\"scatter\"},{\"fill\":\"toself\",\"fillcolor\":\"rgba(200, 0, 0, 0.20)\",\"hoverinfo\":\"name\",\"line\":{\"width\":0},\"mode\":\"lines\",\"name\":\"Risk Area\",\"showlegend\":false,\"x\":[5.0,10.0,10.0,5.0,5.0],\"y\":[10.0,10.0,15.0,15.0,10.0],\"type\":\"scatter\"},{\"fill\":\"toself\",\"fillcolor\":\"rgba(200, 0, 0, 0.00)\",\"hoverinfo\":\"name\",\"line\":{\"width\":0},\"mode\":\"lines\",\"name\":\"Risk Area\",\"showlegend\":false,\"x\":[10.0,15.0,15.0,10.0,10.0],\"y\":[10.0,10.0,15.0,15.0,10.0],\"type\":\"scatter\"},{\"hoverinfo\":\"text\",\"marker\":{\"opacity\":1,\"size\":1},\"mode\":\"markers\",\"showlegend\":false,\"text\":[\"ID: 61, Pos(8.30,6.36)\"],\"x\":[8.296340704897577],\"y\":[6.361384759421631],\"type\":\"scatter\"},{\"hoverinfo\":\"text\",\"marker\":{\"opacity\":1,\"size\":1},\"mode\":\"markers\",\"showlegend\":false,\"text\":[\"ID: 62, Pos(5.08,2.14)\"],\"x\":[5.0753592597264054],\"y\":[2.1430303067014695],\"type\":\"scatter\"},{\"hoverinfo\":\"text\",\"marker\":{\"opacity\":1,\"size\":1},\"mode\":\"markers\",\"showlegend\":false,\"text\":[\"ID: 63, Pos(6.46,2.94)\"],\"x\":[6.460066828742578],\"y\":[2.9445707825559286],\"type\":\"scatter\"},{\"hoverinfo\":\"text\",\"marker\":{\"opacity\":1,\"size\":1},\"mode\":\"markers\",\"showlegend\":false,\"text\":[\"ID: 64, Pos(6.25,4.18)\"],\"x\":[6.246228074464557],\"y\":[4.1799785499019855],\"type\":\"scatter\"},{\"hoverinfo\":\"text\",\"marker\":{\"opacity\":1,\"size\":1},\"mode\":\"markers\",\"showlegend\":false,\"text\":[\"ID: 65, Pos(6.88,4.23)\"],\"x\":[6.875966190808521],\"y\":[4.229150432283023],\"type\":\"scatter\"},{\"hoverinfo\":\"text\",\"marker\":{\"opacity\":1,\"size\":1},\"mode\":\"markers\",\"showlegend\":false,\"text\":[\"ID: 66, Pos(5.00,3.14)\"],\"x\":[4.996476706983179],\"y\":[3.140514727009105],\"type\":\"scatter\"},{\"hoverinfo\":\"text\",\"marker\":{\"opacity\":1,\"size\":1},\"mode\":\"markers\",\"showlegend\":false,\"text\":[\"ID: 67, Pos(5.87,3.09)\"],\"x\":[5.867307917796116],\"y\":[3.08944867159754],\"type\":\"scatter\"},{\"hoverinfo\":\"text\",\"marker\":{\"opacity\":1,\"size\":1},\"mode\":\"markers\",\"showlegend\":false,\"text\":[\"ID: 68, Pos(7.05,5.66)\"],\"x\":[7.051679964421557],\"y\":[5.661108360947344],\"type\":\"scatter\"},{\"hoverinfo\":\"text\",\"marker\":{\"opacity\":1,\"size\":1},\"mode\":\"markers\",\"showlegend\":false,\"text\":[\"ID: 69, Pos(5.89,2.42)\"],\"x\":[5.893966112541983],\"y\":[2.4155661831203155],\"type\":\"scatter\"},{\"hoverinfo\":\"text\",\"marker\":{\"opacity\":1,\"size\":1},\"mode\":\"markers\",\"showlegend\":false,\"text\":[\"ID: 70, Pos(7.52,4.35)\"],\"x\":[7.518870466059384],\"y\":[4.350338112498743],\"type\":\"scatter\"}],\"layout\":{\"shapes\":[{\"fillcolor\":\"rgba(0, 0, 128, 0.5)\",\"line\":{\"color\":\"rgba(0, 0, 128, 0.5)\"},\"type\":\"circle\",\"x0\":8.096340704897578,\"x1\":8.496340704897577,\"xref\":\"x\",\"y0\":6.16138475942163,\"y1\":6.561384759421631,\"yref\":\"y\"},{\"fillcolor\":\"rgba(255, 226, 0, 0.5)\",\"line\":{\"color\":\"rgba(255, 226, 0, 0.5)\"},\"type\":\"circle\",\"x0\":4.875359259726405,\"x1\":5.275359259726406,\"xref\":\"x\",\"y0\":1.9430303067014696,\"y1\":2.3430303067014697,\"yref\":\"y\"},{\"fillcolor\":\"rgba(0, 104, 255, 0.5)\",\"line\":{\"color\":\"rgba(0, 104, 255, 0.5)\"},\"type\":\"circle\",\"x0\":6.260066828742578,\"x1\":6.660066828742578,\"xref\":\"x\",\"y0\":2.7445707825559285,\"y1\":3.144570782555929,\"yref\":\"y\"},{\"fillcolor\":\"rgba(0, 0, 128, 0.5)\",\"line\":{\"color\":\"rgba(0, 0, 128, 0.5)\"},\"type\":\"circle\",\"x0\":6.0462280744645565,\"x1\":6.446228074464557,\"xref\":\"x\",\"y0\":3.9799785499019853,\"y1\":4.379978549901986,\"yref\":\"y\"},{\"fillcolor\":\"rgba(0, 16, 255, 0.5)\",\"line\":{\"color\":\"rgba(0, 16, 255, 0.5)\"},\"type\":\"circle\",\"x0\":6.675966190808521,\"x1\":7.075966190808521,\"xref\":\"x\",\"y0\":4.029150432283023,\"y1\":4.4291504322830235,\"yref\":\"y\"},{\"fillcolor\":\"rgba(254, 237, 0, 0.5)\",\"line\":{\"color\":\"rgba(254, 237, 0, 0.5)\"},\"type\":\"circle\",\"x0\":4.796476706983179,\"x1\":5.196476706983179,\"xref\":\"x\",\"y0\":2.9405147270091048,\"y1\":3.340514727009105,\"yref\":\"y\"},{\"fillcolor\":\"rgba(246, 11, 0, 0.5)\",\"line\":{\"color\":\"rgba(246, 11, 0, 0.5)\"},\"type\":\"circle\",\"x0\":5.667307917796116,\"x1\":6.067307917796116,\"xref\":\"x\",\"y0\":2.88944867159754,\"y1\":3.2894486715975404,\"yref\":\"y\"},{\"fillcolor\":\"rgba(0, 0, 128, 0.5)\",\"line\":{\"color\":\"rgba(0, 0, 128, 0.5)\"},\"type\":\"circle\",\"x0\":6.851679964421557,\"x1\":7.251679964421557,\"xref\":\"x\",\"y0\":5.461108360947343,\"y1\":5.861108360947344,\"yref\":\"y\"},{\"fillcolor\":\"rgba(0, 0, 155, 0.5)\",\"line\":{\"color\":\"rgba(0, 0, 155, 0.5)\"},\"type\":\"circle\",\"x0\":5.6939661125419825,\"x1\":6.093966112541983,\"xref\":\"x\",\"y0\":2.2155661831203153,\"y1\":2.6155661831203156,\"yref\":\"y\"},{\"fillcolor\":\"rgba(0, 0, 128, 0.5)\",\"line\":{\"color\":\"rgba(0, 0, 128, 0.5)\"},\"type\":\"circle\",\"x0\":7.3188704660593835,\"x1\":7.718870466059384,\"xref\":\"x\",\"y0\":4.150338112498742,\"y1\":4.550338112498743,\"yref\":\"y\"},{\"line\":{\"color\":\"white\",\"width\":3},\"type\":\"line\",\"x0\":8.296340704897577,\"x1\":8.489383354042172,\"y0\":6.361384759421631,\"y1\":6.4136775467946245},{\"line\":{\"color\":\"black\",\"width\":3},\"type\":\"line\",\"x0\":5.0753592597264054,\"x1\":5.273502921768882,\"y0\":2.1430303067014695,\"y1\":2.1702165015877846},{\"line\":{\"color\":\"white\",\"width\":3},\"type\":\"line\",\"x0\":6.460066828742578,\"x1\":6.564955731052776,\"y0\":2.9445707825559286,\"y1\":3.114859708127035},{\"line\":{\"color\":\"white\",\"width\":3},\"type\":\"line\",\"x0\":6.246228074464557,\"x1\":6.2871351986670145,\"y0\":4.1799785499019855,\"y1\":4.375750374201307},{\"line\":{\"color\":\"white\",\"width\":3},\"type\":\"line\",\"x0\":6.875966190808521,\"x1\":6.924616498984111,\"y0\":4.229150432283023,\"y1\":4.423143080376759},{\"line\":{\"color\":\"black\",\"width\":3},\"type\":\"line\",\"x0\":4.996476706983179,\"x1\":5.186363288221633,\"y0\":3.140514727009105,\"y1\":3.0777207283661476},{\"line\":{\"color\":\"white\",\"width\":3},\"type\":\"line\",\"x0\":5.867307917796116,\"x1\":6.06519218198782,\"y0\":3.08944867159754,\"y1\":3.060434571830226},{\"line\":{\"color\":\"white\",\"width\":3},\"type\":\"line\",\"x0\":7.051679964421557,\"x1\":7.0990266016762975,\"y0\":5.661108360947344,\"y1\":5.855423301033452},{\"line\":{\"color\":\"white\",\"width\":3},\"type\":\"line\",\"x0\":5.893966112541983,\"x1\":6.0916450033933085,\"y0\":2.4155661831203155,\"y1\":2.3851843446014},{\"line\":{\"color\":\"white\",\"width\":3},\"type\":\"line\",\"x0\":7.518870466059384,\"x1\":7.555976186859899,\"y0\":4.350338112498743,\"y1\":4.546865885304202}],\"title\":{\"text\":\"\\u003cb\\u003ePercentage using the shortest path: 0%  |  Number of Agents: 10\\u003c\\u002fb\\u003e\",\"x\":0.5}},\"name\":\"300\"},{\"data\":[{\"hoverinfo\":\"name\",\"line\":{\"color\":\"grey\"},\"mode\":\"lines\",\"name\":\"Exterior\",\"showlegend\":false,\"x\":[10.1,10.1,15.0,15.0,13.6,13.6,15.0,15.0,13.6,13.6,15.0,15.0,10.1,10.1,9.9,9.9,5.1,5.1,4.9,4.9,0.0,0.0,1.5,1.5,0.0,0.0,1.5,1.5,0.0,0.0,4.9,4.9,5.1,5.1,9.9,9.9,10.1],\"y\":[1.5,0.0,0.0,4.9,4.9,5.1,5.1,9.9,9.9,10.1,10.1,15.0,15.0,13.6,13.6,15.0,15.0,13.6,13.6,15.0,15.0,10.1,10.1,9.9,9.9,5.1,5.1,4.9,4.9,0.0,0.0,1.5,1.5,0.0,0.0,1.5,1.5],\"type\":\"scatter\"},{\"hoverinfo\":\"name\",\"line\":{\"color\":\"grey\"},\"mode\":\"lines\",\"name\":\"Obstacle\",\"showlegend\":false,\"x\":[10.1,11.5,11.5,10.1,10.1,9.9,9.9,8.6,8.6,9.9,9.9,10.1,10.1],\"y\":[5.1,5.1,4.9,4.9,3.6,3.6,4.9,4.9,5.1,5.1,6.5,6.5,5.1],\"type\":\"scatter\"},{\"hoverinfo\":\"name\",\"line\":{\"color\":\"grey\"},\"mode\":\"lines\",\"name\":\"Obstacle\",\"showlegend\":false,\"x\":[10.1,11.5,11.5,10.1,10.1,9.9,9.9,8.6,8.6,9.9,9.9,10.1,10.1],\"y\":[10.1,10.1,9.9,9.9,8.6,8.6,9.9,9.9,10.1,10.1,11.5,11.5,10.1],\"type\":\"scatter\"},{\"hoverinfo\":\"name\",\"line\":{\"color\":\"grey\"},\"mode\":\"lines\",\"name\":\"Obstacle\",\"showlegend\":false,\"x\":[5.1,6.4,6.4,5.1,5.1,4.9,4.9,3.6,3.6,4.9,4.9,5.1,5.1],\"y\":[5.1,5.1,4.9,4.9,3.6,3.6,4.9,4.9,5.1,5.1,6.5,6.5,5.1],\"type\":\"scatter\"},{\"hoverinfo\":\"name\",\"line\":{\"color\":\"grey\"},\"mode\":\"lines\",\"name\":\"Obstacle\",\"showlegend\":false,\"x\":[5.1,6.4,6.4,5.1,5.1,4.9,4.9,3.6,3.6,4.9,4.9,5.1,5.1],\"y\":[10.1,10.1,9.9,9.9,8.6,8.6,9.9,9.9,10.1,10.1,11.5,11.5,10.1],\"type\":\"scatter\"},{\"fill\":\"toself\",\"fillcolor\":\"rgba(200, 0, 0, 0.00)\",\"hoverinfo\":\"name\",\"line\":{\"width\":0},\"mode\":\"lines\",\"name\":\"Risk Area\",\"showlegend\":false,\"x\":[0.0,5.0,5.0,0.0,0.0],\"y\":[0.0,0.0,5.0,5.0,0.0],\"type\":\"scatter\"},{\"fill\":\"toself\",\"fillcolor\":\"rgba(200, 0, 0, 0.10)\",\"hoverinfo\":\"name\",\"line\":{\"width\":0},\"mode\":\"lines\",\"name\":\"Risk Area\",\"showlegend\":false,\"x\":[5.0,10.0,10.0,5.0,5.0],\"y\":[0.0,0.0,5.0,5.0,0.0],\"type\":\"scatter\"},{\"fill\":\"toself\",\"fillcolor\":\"rgba(200, 0, 0, 0.00)\",\"hoverinfo\":\"name\",\"line\":{\"width\":0},\"mode\":\"lines\",\"name\":\"Risk Area\",\"showlegend\":false,\"x\":[10.0,15.0,15.0,10.0,10.0],\"y\":[0.0,0.0,5.0,5.0,0.0],\"type\":\"scatter\"},{\"fill\":\"toself\",\"fillcolor\":\"rgba(200, 0, 0, 0.00)\",\"hoverinfo\":\"name\",\"line\":{\"width\":0},\"mode\":\"lines\",\"name\":\"Risk Area\",\"showlegend\":false,\"x\":[10.0,15.0,15.0,10.0,10.0],\"y\":[5.0,5.0,10.0,10.0,5.0],\"type\":\"scatter\"},{\"fill\":\"toself\",\"fillcolor\":\"rgba(200, 0, 0, 0.50)\",\"hoverinfo\":\"name\",\"line\":{\"width\":0},\"mode\":\"lines\",\"name\":\"Risk Area\",\"showlegend\":false,\"x\":[5.0,10.0,10.0,5.0,5.0],\"y\":[5.0,5.0,10.0,10.0,5.0],\"type\":\"scatter\"},{\"fill\":\"toself\",\"fillcolor\":\"rgba(200, 0, 0, 0.00)\",\"hoverinfo\":\"name\",\"line\":{\"width\":0},\"mode\":\"lines\",\"name\":\"Risk Area\",\"showlegend\":false,\"x\":[0.0,5.0,5.0,0.0,0.0],\"y\":[5.0,5.0,10.0,10.0,5.0],\"type\":\"scatter\"},{\"fill\":\"toself\",\"fillcolor\":\"rgba(200, 0, 0, 0.00)\",\"hoverinfo\":\"name\",\"line\":{\"width\":0},\"mode\":\"lines\",\"name\":\"Risk Area\",\"showlegend\":false,\"x\":[0.0,5.0,5.0,0.0,0.0],\"y\":[10.0,10.0,15.0,15.0,10.0],\"type\":\"scatter\"},{\"fill\":\"toself\",\"fillcolor\":\"rgba(200, 0, 0, 0.20)\",\"hoverinfo\":\"name\",\"line\":{\"width\":0},\"mode\":\"lines\",\"name\":\"Risk Area\",\"showlegend\":false,\"x\":[5.0,10.0,10.0,5.0,5.0],\"y\":[10.0,10.0,15.0,15.0,10.0],\"type\":\"scatter\"},{\"fill\":\"toself\",\"fillcolor\":\"rgba(200, 0, 0, 0.00)\",\"hoverinfo\":\"name\",\"line\":{\"width\":0},\"mode\":\"lines\",\"name\":\"Risk Area\",\"showlegend\":false,\"x\":[10.0,15.0,15.0,10.0,10.0],\"y\":[10.0,10.0,15.0,15.0,10.0],\"type\":\"scatter\"},{\"hoverinfo\":\"text\",\"marker\":{\"opacity\":1,\"size\":1},\"mode\":\"markers\",\"showlegend\":false,\"text\":[\"ID: 61, Pos(9.45,6.68)\"],\"x\":[9.454288663038907],\"y\":[6.676253597260133],\"type\":\"scatter\"},{\"hoverinfo\":\"text\",\"marker\":{\"opacity\":1,\"size\":1},\"mode\":\"markers\",\"showlegend\":false,\"text\":[\"ID: 62, Pos(5.48,2.19)\"],\"x\":[5.48429391502369],\"y\":[2.191314949932061],\"type\":\"scatter\"},{\"hoverinfo\":\"text\",\"marker\":{\"opacity\":1,\"size\":1},\"mode\":\"markers\",\"showlegend\":false,\"text\":[\"ID: 63, Pos(6.77,3.88)\"],\"x\":[6.773941759796122],\"y\":[3.881143131531465],\"type\":\"scatter\"},{\"hoverinfo\":\"text\",\"marker\":{\"opacity\":1,\"size\":1},\"mode\":\"markers\",\"showlegend\":false,\"text\":[\"ID: 64, Pos(6.56,4.61)\"],\"x\":[6.555582537391991],\"y\":[4.610101302768838],\"type\":\"scatter\"},{\"hoverinfo\":\"text\",\"marker\":{\"opacity\":1,\"size\":1},\"mode\":\"markers\",\"showlegend\":false,\"text\":[\"ID: 65, Pos(7.04,5.30)\"],\"x\":[7.038771898849929],\"y\":[5.297222416302388],\"type\":\"scatter\"},{\"hoverinfo\":\"text\",\"marker\":{\"opacity\":1,\"size\":1},\"mode\":\"markers\",\"showlegend\":false,\"text\":[\"ID: 66, Pos(5.40,3.03)\"],\"x\":[5.404218823261106],\"y\":[3.031098689025332],\"type\":\"scatter\"},{\"hoverinfo\":\"text\",\"marker\":{\"opacity\":1,\"size\":1},\"mode\":\"markers\",\"showlegend\":false,\"text\":[\"ID: 67, Pos(6.20,3.35)\"],\"x\":[6.1962061719873445],\"y\":[3.3501116714918298],\"type\":\"scatter\"},{\"hoverinfo\":\"text\",\"marker\":{\"opacity\":1,\"size\":1},\"mode\":\"markers\",\"showlegend\":false,\"text\":[\"ID: 68, Pos(7.92,6.26)\"],\"x\":[7.91568833375608],\"y\":[6.257497844128103],\"type\":\"scatter\"},{\"hoverinfo\":\"text\",\"marker\":{\"opacity\":1,\"size\":1},\"mode\":\"markers\",\"showlegend\":false,\"text\":[\"ID: 69, Pos(6.10,2.59)\"],\"x\":[6.099382904031317],\"y\":[2.5878112372180295],\"type\":\"scatter\"},{\"hoverinfo\":\"text\",\"marker\":{\"opacity\":1,\"size\":1},\"mode\":\"markers\",\"showlegend\":false,\"text\":[\"ID: 70, Pos(7.68,5.29)\"],\"x\":[7.681126277345863],\"y\":[5.287169234062153],\"type\":\"scatter\"}],\"layout\":{\"shapes\":[{\"fillcolor\":\"rgba(0, 0, 128, 0.5)\",\"line\":{\"color\":\"rgba(0, 0, 128, 0.5)\"},\"type\":\"circle\",\"x0\":9.254288663038908,\"x1\":9.654288663038907,\"xref\":\"x\",\"y0\":6.476253597260133,\"y1\":6.876253597260133,\"yref\":\"y\"},{\"fillcolor\":\"rgba(255, 115, 0, 0.5)\",\"line\":{\"color\":\"rgba(255, 115, 0, 0.5)\"},\"type\":\"circle\",\"x0\":5.28429391502369,\"x1\":5.68429391502369,\"xref\":\"x\",\"y0\":1.9913149499320613,\"y1\":2.3913149499320614,\"yref\":\"y\"},{\"fillcolor\":\"rgba(67, 255, 180, 0.5)\",\"line\":{\"color\":\"rgba(67, 255, 180, 0.5)\"},\"type\":\"circle\",\"x0\":6.573941759796122,\"x1\":6.973941759796122,\"xref\":\"x\",\"y0\":3.681143131531465,\"y1\":4.081143131531465,\"yref\":\"y\"},{\"fillcolor\":\"rgba(193, 255, 54, 0.5)\",\"line\":{\"color\":\"rgba(193, 255, 54, 0.5)\"},\"type\":\"circle\",\"x0\":6.3555825373919905,\"x1\":6.755582537391991,\"xref\":\"x\",\"y0\":4.410101302768838,\"y1\":4.810101302768838,\"yref\":\"y\"},{\"fillcolor\":\"rgba(0, 0, 128, 0.5)\",\"line\":{\"color\":\"rgba(0, 0, 128, 0.5)\"},\"type\":\"circle\",\"x0\":6.838771898849929,\"x1\":7.238771898849929,\"xref\":\"x\",\"y0\":5.097222416302388,\"y1\":5.497222416302388,\"yref\":\"y\"},{\"fillcolor\":\"rgba(255, 196, 0, 0.5)\",\"line\":{\"color\":\"rgba(255, 196, 0, 0.5)\"},\"type\":\"circle\",\"x0\":5.2042188232611055,\"x1\":5.604218823261106,\"xref\":\"x\",\"y0\":2.831098689025332,\"y1\":3.231098689025332,\"yref\":\"y\"},{\"fillcolor\":\"rgba(0, 132, 255, 0.5)\",\"line\":{\"color\":\"rgba(0, 132, 255, 0.5)\"},\"type\":\"circle\",\"x0\":5.996206171987344,\"x1\":6.396206171987345,\"xref\":\"x\",\"y0\":3.1501116714918296,\"y1\":3.55011167149183,\"yref\":\"y\"},{\"fillcolor\":\"rgba(0, 0, 132, 0.5)\",\"line\":{\"color\":\"rgba(0, 0, 132, 0.5)\"},\"type\":\"circle\",\"x0\":7.71568833375608,\"x1\":8.11568833375608,\"xref\":\"x\",\"y0\":6.057497844128103,\"y1\":6.4574978441281035,\"yref\":\"y\"},{\"fillcolor\":\"rgba(255, 145, 0, 0.5)\",\"line\":{\"color\":\"rgba(255, 145, 0, 0.5)\"},\"type\":\"circle\",\"x0\":5.899382904031317,\"x1\":6.299382904031317,\"xref\":\"x\",\"y0\":2.3878112372180293,\"y1\":2.7878112372180297,\"yref\":\"y\"},{\"fillcolor\":\"rgba(160, 255, 86, 0.5)\",\"line\":{\"color\":\"rgba(160, 255, 86, 0.5)\"},\"type\":\"circle\",\"x0\":7.481126277345862,\"x1\":7.881126277345863,\"xref\":\"x\",\"y0\":5.087169234062153,\"y1\":5.487169234062153,\"yref\":\"y\"},{\"line\":{\"color\":\"white\",\"width\":3},\"type\":\"line\",\"x0\":9.454288663038907,\"x1\":9.646213636659127,\"y0\":6.676253597260133,\"y1\":6.732510192436862},{\"line\":{\"color\":\"black\",\"width\":3},\"type\":\"line\",\"x0\":5.48429391502369,\"x1\":5.683708677543071,\"y0\":2.191314949932061,\"y1\":2.2066039161933557},{\"line\":{\"color\":\"black\",\"width\":3},\"type\":\"line\",\"x0\":6.773941759796122,\"x1\":6.826040130802118,\"y0\":3.881143131531465,\"y1\":4.074238340530864},{\"line\":{\"color\":\"black\",\"width\":3},\"type\":\"line\",\"x0\":6.555582537391991,\"x1\":6.735164931513871,\"y0\":4.610101302768838,\"y1\":4.698136316947593},{\"line\":{\"color\":\"white\",\"width\":3},\"type\":\"line\",\"x0\":7.038771898849929,\"x1\":7.037335360943769,\"y0\":5.297222416302388,\"y1\":5.497217257132956},{\"line\":{\"color\":\"black\",\"width\":3},\"type\":\"line\",\"x0\":5.404218823261106,\"x1\":5.599231581681923,\"y0\":3.031098689025332,\"y1\":2.9867137360220424},{\"line\":{\"color\":\"white\",\"width\":3},\"type\":\"line\",\"x0\":6.1962061719873445,\"x1\":6.252838525277202,\"y0\":3.3501116714918298,\"y1\":3.5419261041105794},{\"line\":{\"color\":\"white\",\"width\":3},\"type\":\"line\",\"x0\":7.91568833375608,\"x1\":8.108410658667175,\"y0\":6.257497844128103,\"y1\":6.310959096272647},{\"line\":{\"color\":\"black\",\"width\":3},\"type\":\"line\",\"x0\":6.099382904031317,\"x1\":6.174569645266823,\"y0\":2.5878112372180295,\"y1\":2.7731405493690895},{\"line\":{\"color\":\"black\",\"width\":3},\"type\":\"line\",\"x0\":7.681126277345863,\"x1\":7.710926865089202,\"y0\":5.287169234062153,\"y1\":5.484936584679366}],\"title\":{\"text\":\"\\u003cb\\u003ePercentage using the shortest path: 0%  |  Number of Agents: 10\\u003c\\u002fb\\u003e\",\"x\":0.5}},\"name\":\"350\"},{\"data\":[{\"hoverinfo\":\"name\",\"line\":{\"color\":\"grey\"},\"mode\":\"lines\",\"name\":\"Exterior\",\"showlegend\":false,\"x\":[10.1,10.1,15.0,15.0,13.6,13.6,15.0,15.0,13.6,13.6,15.0,15.0,10.1,10.1,9.9,9.9,5.1,5.1,4.9,4.9,0.0,0.0,1.5,1.5,0.0,0.0,1.5,1.5,0.0,0.0,4.9,4.9,5.1,5.1,9.9,9.9,10.1],\"y\":[1.5,0.0,0.0,4.9,4.9,5.1,5.1,9.9,9.9,10.1,10.1,15.0,15.0,13.6,13.6,15.0,15.0,13.6,13.6,15.0,15.0,10.1,10.1,9.9,9.9,5.1,5.1,4.9,4.9,0.0,0.0,1.5,1.5,0.0,0.0,1.5,1.5],\"type\":\"scatter\"},{\"hoverinfo\":\"name\",\"line\":{\"color\":\"grey\"},\"mode\":\"lines\",\"name\":\"Obstacle\",\"showlegend\":false,\"x\":[10.1,11.5,11.5,10.1,10.1,9.9,9.9,8.6,8.6,9.9,9.9,10.1,10.1],\"y\":[5.1,5.1,4.9,4.9,3.6,3.6,4.9,4.9,5.1,5.1,6.5,6.5,5.1],\"type\":\"scatter\"},{\"hoverinfo\":\"name\",\"line\":{\"color\":\"grey\"},\"mode\":\"lines\",\"name\":\"Obstacle\",\"showlegend\":false,\"x\":[10.1,11.5,11.5,10.1,10.1,9.9,9.9,8.6,8.6,9.9,9.9,10.1,10.1],\"y\":[10.1,10.1,9.9,9.9,8.6,8.6,9.9,9.9,10.1,10.1,11.5,11.5,10.1],\"type\":\"scatter\"},{\"hoverinfo\":\"name\",\"line\":{\"color\":\"grey\"},\"mode\":\"lines\",\"name\":\"Obstacle\",\"showlegend\":false,\"x\":[5.1,6.4,6.4,5.1,5.1,4.9,4.9,3.6,3.6,4.9,4.9,5.1,5.1],\"y\":[5.1,5.1,4.9,4.9,3.6,3.6,4.9,4.9,5.1,5.1,6.5,6.5,5.1],\"type\":\"scatter\"},{\"hoverinfo\":\"name\",\"line\":{\"color\":\"grey\"},\"mode\":\"lines\",\"name\":\"Obstacle\",\"showlegend\":false,\"x\":[5.1,6.4,6.4,5.1,5.1,4.9,4.9,3.6,3.6,4.9,4.9,5.1,5.1],\"y\":[10.1,10.1,9.9,9.9,8.6,8.6,9.9,9.9,10.1,10.1,11.5,11.5,10.1],\"type\":\"scatter\"},{\"fill\":\"toself\",\"fillcolor\":\"rgba(200, 0, 0, 0.00)\",\"hoverinfo\":\"name\",\"line\":{\"width\":0},\"mode\":\"lines\",\"name\":\"Risk Area\",\"showlegend\":false,\"x\":[0.0,5.0,5.0,0.0,0.0],\"y\":[0.0,0.0,5.0,5.0,0.0],\"type\":\"scatter\"},{\"fill\":\"toself\",\"fillcolor\":\"rgba(200, 0, 0, 0.10)\",\"hoverinfo\":\"name\",\"line\":{\"width\":0},\"mode\":\"lines\",\"name\":\"Risk Area\",\"showlegend\":false,\"x\":[5.0,10.0,10.0,5.0,5.0],\"y\":[0.0,0.0,5.0,5.0,0.0],\"type\":\"scatter\"},{\"fill\":\"toself\",\"fillcolor\":\"rgba(200, 0, 0, 0.00)\",\"hoverinfo\":\"name\",\"line\":{\"width\":0},\"mode\":\"lines\",\"name\":\"Risk Area\",\"showlegend\":false,\"x\":[10.0,15.0,15.0,10.0,10.0],\"y\":[0.0,0.0,5.0,5.0,0.0],\"type\":\"scatter\"},{\"fill\":\"toself\",\"fillcolor\":\"rgba(200, 0, 0, 0.00)\",\"hoverinfo\":\"name\",\"line\":{\"width\":0},\"mode\":\"lines\",\"name\":\"Risk Area\",\"showlegend\":false,\"x\":[10.0,15.0,15.0,10.0,10.0],\"y\":[5.0,5.0,10.0,10.0,5.0],\"type\":\"scatter\"},{\"fill\":\"toself\",\"fillcolor\":\"rgba(200, 0, 0, 0.50)\",\"hoverinfo\":\"name\",\"line\":{\"width\":0},\"mode\":\"lines\",\"name\":\"Risk Area\",\"showlegend\":false,\"x\":[5.0,10.0,10.0,5.0,5.0],\"y\":[5.0,5.0,10.0,10.0,5.0],\"type\":\"scatter\"},{\"fill\":\"toself\",\"fillcolor\":\"rgba(200, 0, 0, 0.00)\",\"hoverinfo\":\"name\",\"line\":{\"width\":0},\"mode\":\"lines\",\"name\":\"Risk Area\",\"showlegend\":false,\"x\":[0.0,5.0,5.0,0.0,0.0],\"y\":[5.0,5.0,10.0,10.0,5.0],\"type\":\"scatter\"},{\"fill\":\"toself\",\"fillcolor\":\"rgba(200, 0, 0, 0.00)\",\"hoverinfo\":\"name\",\"line\":{\"width\":0},\"mode\":\"lines\",\"name\":\"Risk Area\",\"showlegend\":false,\"x\":[0.0,5.0,5.0,0.0,0.0],\"y\":[10.0,10.0,15.0,15.0,10.0],\"type\":\"scatter\"},{\"fill\":\"toself\",\"fillcolor\":\"rgba(200, 0, 0, 0.20)\",\"hoverinfo\":\"name\",\"line\":{\"width\":0},\"mode\":\"lines\",\"name\":\"Risk Area\",\"showlegend\":false,\"x\":[5.0,10.0,10.0,5.0,5.0],\"y\":[10.0,10.0,15.0,15.0,10.0],\"type\":\"scatter\"},{\"fill\":\"toself\",\"fillcolor\":\"rgba(200, 0, 0, 0.00)\",\"hoverinfo\":\"name\",\"line\":{\"width\":0},\"mode\":\"lines\",\"name\":\"Risk Area\",\"showlegend\":false,\"x\":[10.0,15.0,15.0,10.0,10.0],\"y\":[10.0,10.0,15.0,15.0,10.0],\"type\":\"scatter\"},{\"hoverinfo\":\"text\",\"marker\":{\"opacity\":1,\"size\":1},\"mode\":\"markers\",\"showlegend\":false,\"text\":[\"ID: 61, Pos(10.57,7.09)\"],\"x\":[10.568606682434188],\"y\":[7.085065309822063],\"type\":\"scatter\"},{\"hoverinfo\":\"text\",\"marker\":{\"opacity\":1,\"size\":1},\"mode\":\"markers\",\"showlegend\":false,\"text\":[\"ID: 62, Pos(6.08,2.35)\"],\"x\":[6.0827365548829375],\"y\":[2.351646609627221],\"type\":\"scatter\"},{\"hoverinfo\":\"text\",\"marker\":{\"opacity\":1,\"size\":1},\"mode\":\"markers\",\"showlegend\":false,\"text\":[\"ID: 63, Pos(6.95,4.31)\"],\"x\":[6.954694152055066],\"y\":[4.31121322714195],\"type\":\"scatter\"},{\"hoverinfo\":\"text\",\"marker\":{\"opacity\":1,\"size\":1},\"mode\":\"markers\",\"showlegend\":false,\"text\":[\"ID: 64, Pos(6.89,5.15)\"],\"x\":[6.894744483355145],\"y\":[5.148785381234642],\"type\":\"scatter\"},{\"hoverinfo\":\"text\",\"marker\":{\"opacity\":1,\"size\":1},\"mode\":\"markers\",\"showlegend\":false,\"text\":[\"ID: 65, Pos(7.18,6.10)\"],\"x\":[7.179729647524501],\"y\":[6.096273844274052],\"type\":\"scatter\"},{\"hoverinfo\":\"text\",\"marker\":{\"opacity\":1,\"size\":1},\"mode\":\"markers\",\"showlegend\":false,\"text\":[\"ID: 66, Pos(5.69,2.96)\"],\"x\":[5.694160545302182],\"y\":[2.9616618056840838],\"type\":\"scatter\"},{\"hoverinfo\":\"text\",\"marker\":{\"opacity\":1,\"size\":1},\"mode\":\"markers\",\"showlegend\":false,\"text\":[\"ID: 67, Pos(6.32,4.34)\"],\"x\":[6.321641675454489],\"y\":[4.342543947694884],\"type\":\"scatter\"},{\"hoverinfo\":\"text\",\"marker\":{\"opacity\":1,\"size\":1},\"mode\":\"markers\",\"showlegend\":false,\"text\":[\"ID: 68, Pos(9.06,6.57)\"],\"x\":[9.063202676547862],\"y\":[6.570917587382048],\"type\":\"scatter\"},{\"hoverinfo\":\"text\",\"marker\":{\"opacity\":1,\"size\":1},\"mode\":\"markers\",\"showlegend\":false,\"text\":[\"ID: 69, Pos(6.37,3.19)\"],\"x\":[6.369215890418797],\"y\":[3.186189123857496],\"type\":\"scatter\"},{\"hoverinfo\":\"text\",\"marker\":{\"opacity\":1,\"size\":1},\"mode\":\"markers\",\"showlegend\":false,\"text\":[\"ID: 70, Pos(7.94,6.08)\"],\"x\":[7.939077419130026],\"y\":[6.077292567800785],\"type\":\"scatter\"}],\"layout\":{\"shapes\":[{\"fillcolor\":\"rgba(0, 0, 128, 0.5)\",\"line\":{\"color\":\"rgba(0, 0, 128, 0.5)\"},\"type\":\"circle\",\"x0\":10.368606682434189,\"x1\":10.768606682434188,\"xref\":\"x\",\"y0\":6.885065309822063,\"y1\":7.2850653098220635,\"yref\":\"y\"},{\"fillcolor\":\"rgba(251, 241, 0, 0.5)\",\"line\":{\"color\":\"rgba(251, 241, 0, 0.5)\"},\"type\":\"circle\",\"x0\":5.882736554882937,\"x1\":6.282736554882938,\"xref\":\"x\",\"y0\":2.1516466096272207,\"y1\":2.551646609627221,\"yref\":\"y\"},{\"fillcolor\":\"rgba(190, 255, 57, 0.5)\",\"line\":{\"color\":\"rgba(190, 255, 57, 0.5)\"},\"type\":\"circle\",\"x0\":6.754694152055066,\"x1\":7.154694152055066,\"xref\":\"x\",\"y0\":4.11121322714195,\"y1\":4.51121322714195,\"yref\":\"y\"},{\"fillcolor\":\"rgba(167, 255, 80, 0.5)\",\"line\":{\"color\":\"rgba(167, 255, 80, 0.5)\"},\"type\":\"circle\",\"x0\":6.694744483355144,\"x1\":7.094744483355145,\"xref\":\"x\",\"y0\":4.948785381234642,\"y1\":5.348785381234642,\"yref\":\"y\"},{\"fillcolor\":\"rgba(255, 137, 0, 0.5)\",\"line\":{\"color\":\"rgba(255, 137, 0, 0.5)\"},\"type\":\"circle\",\"x0\":6.9797296475245005,\"x1\":7.379729647524501,\"xref\":\"x\",\"y0\":5.896273844274051,\"y1\":6.296273844274052,\"yref\":\"y\"},{\"fillcolor\":\"rgba(180, 255, 67, 0.5)\",\"line\":{\"color\":\"rgba(180, 255, 67, 0.5)\"},\"type\":\"circle\",\"x0\":5.494160545302182,\"x1\":5.894160545302182,\"xref\":\"x\",\"y0\":2.7616618056840836,\"y1\":3.161661805684084,\"yref\":\"y\"},{\"fillcolor\":\"rgba(0, 184, 255, 0.5)\",\"line\":{\"color\":\"rgba(0, 184, 255, 0.5)\"},\"type\":\"circle\",\"x0\":6.121641675454489,\"x1\":6.5216416754544895,\"xref\":\"x\",\"y0\":4.142543947694884,\"y1\":4.542543947694885,\"yref\":\"y\"},{\"fillcolor\":\"rgba(0, 0, 137, 0.5)\",\"line\":{\"color\":\"rgba(0, 0, 137, 0.5)\"},\"type\":\"circle\",\"x0\":8.863202676547862,\"x1\":9.263202676547861,\"xref\":\"x\",\"y0\":6.370917587382047,\"y1\":6.770917587382048,\"yref\":\"y\"},{\"fillcolor\":\"rgba(0, 184, 255, 0.5)\",\"line\":{\"color\":\"rgba(0, 184, 255, 0.5)\"},\"type\":\"circle\",\"x0\":6.169215890418797,\"x1\":6.569215890418797,\"xref\":\"x\",\"y0\":2.986189123857496,\"y1\":3.386189123857496,\"yref\":\"y\"},{\"fillcolor\":\"rgba(0, 216, 255, 0.5)\",\"line\":{\"color\":\"rgba(0, 216, 255, 0.5)\"},\"type\":\"circle\",\"x0\":7.739077419130026,\"x1\":8.139077419130025,\"xref\":\"x\",\"y0\":5.877292567800785,\"y1\":6.277292567800785,\"yref\":\"y\"},{\"line\":{\"color\":\"white\",\"width\":3},\"type\":\"line\",\"x0\":10.568606682434188,\"x1\":10.7641398978454,\"y0\":7.085065309822063,\"y1\":7.1270981739994275},{\"line\":{\"color\":\"black\",\"width\":3},\"type\":\"line\",\"x0\":6.0827365548829375,\"x1\":6.150998662136321,\"y0\":2.351646609627221,\"y1\":2.539636728285962},{\"line\":{\"color\":\"black\",\"width\":3},\"type\":\"line\",\"x0\":6.954694152055066,\"x1\":7.036593865461823,\"y0\":4.31121322714195,\"y1\":4.49367537922805},{\"line\":{\"color\":\"black\",\"width\":3},\"type\":\"line\",\"x0\":6.894744483355145,\"x1\":6.948412780763235,\"y0\":5.148785381234642,\"y1\":5.341450151894244},{\"line\":{\"color\":\"black\",\"width\":3},\"type\":\"line\",\"x0\":7.179729647524501,\"x1\":7.371590123876293,\"y0\":6.096273844274052,\"y1\":6.152750012823834},{\"line\":{\"color\":\"black\",\"width\":3},\"type\":\"line\",\"x0\":5.694160545302182,\"x1\":5.888264535277008,\"y0\":2.9616618056840838,\"y1\":2.9134576453257415},{\"line\":{\"color\":\"black\",\"width\":3},\"type\":\"line\",\"x0\":6.321641675454489,\"x1\":6.363055989515093,\"y0\":4.342543947694884,\"y1\":4.538209107063867},{\"line\":{\"color\":\"white\",\"width\":3},\"type\":\"line\",\"x0\":9.063202676547862,\"x1\":9.256266626490504,\"y0\":6.570917587382048,\"y1\":6.623131677746093},{\"line\":{\"color\":\"black\",\"width\":3},\"type\":\"line\",\"x0\":6.369215890418797,\"x1\":6.437579779708104,\"y0\":3.186189123857496,\"y1\":3.3741422526988094},{\"line\":{\"color\":\"black\",\"width\":3},\"type\":\"line\",\"x0\":7.939077419130026,\"x1\":8.130763687367049,\"y0\":6.077292567800785,\"y1\":6.134357220339499}],\"title\":{\"text\":\"\\u003cb\\u003ePercentage using the shortest path: 0%  |  Number of Agents: 10\\u003c\\u002fb\\u003e\",\"x\":0.5}},\"name\":\"400\"},{\"data\":[{\"hoverinfo\":\"name\",\"line\":{\"color\":\"grey\"},\"mode\":\"lines\",\"name\":\"Exterior\",\"showlegend\":false,\"x\":[10.1,10.1,15.0,15.0,13.6,13.6,15.0,15.0,13.6,13.6,15.0,15.0,10.1,10.1,9.9,9.9,5.1,5.1,4.9,4.9,0.0,0.0,1.5,1.5,0.0,0.0,1.5,1.5,0.0,0.0,4.9,4.9,5.1,5.1,9.9,9.9,10.1],\"y\":[1.5,0.0,0.0,4.9,4.9,5.1,5.1,9.9,9.9,10.1,10.1,15.0,15.0,13.6,13.6,15.0,15.0,13.6,13.6,15.0,15.0,10.1,10.1,9.9,9.9,5.1,5.1,4.9,4.9,0.0,0.0,1.5,1.5,0.0,0.0,1.5,1.5],\"type\":\"scatter\"},{\"hoverinfo\":\"name\",\"line\":{\"color\":\"grey\"},\"mode\":\"lines\",\"name\":\"Obstacle\",\"showlegend\":false,\"x\":[10.1,11.5,11.5,10.1,10.1,9.9,9.9,8.6,8.6,9.9,9.9,10.1,10.1],\"y\":[5.1,5.1,4.9,4.9,3.6,3.6,4.9,4.9,5.1,5.1,6.5,6.5,5.1],\"type\":\"scatter\"},{\"hoverinfo\":\"name\",\"line\":{\"color\":\"grey\"},\"mode\":\"lines\",\"name\":\"Obstacle\",\"showlegend\":false,\"x\":[10.1,11.5,11.5,10.1,10.1,9.9,9.9,8.6,8.6,9.9,9.9,10.1,10.1],\"y\":[10.1,10.1,9.9,9.9,8.6,8.6,9.9,9.9,10.1,10.1,11.5,11.5,10.1],\"type\":\"scatter\"},{\"hoverinfo\":\"name\",\"line\":{\"color\":\"grey\"},\"mode\":\"lines\",\"name\":\"Obstacle\",\"showlegend\":false,\"x\":[5.1,6.4,6.4,5.1,5.1,4.9,4.9,3.6,3.6,4.9,4.9,5.1,5.1],\"y\":[5.1,5.1,4.9,4.9,3.6,3.6,4.9,4.9,5.1,5.1,6.5,6.5,5.1],\"type\":\"scatter\"},{\"hoverinfo\":\"name\",\"line\":{\"color\":\"grey\"},\"mode\":\"lines\",\"name\":\"Obstacle\",\"showlegend\":false,\"x\":[5.1,6.4,6.4,5.1,5.1,4.9,4.9,3.6,3.6,4.9,4.9,5.1,5.1],\"y\":[10.1,10.1,9.9,9.9,8.6,8.6,9.9,9.9,10.1,10.1,11.5,11.5,10.1],\"type\":\"scatter\"},{\"fill\":\"toself\",\"fillcolor\":\"rgba(200, 0, 0, 0.20)\",\"hoverinfo\":\"name\",\"line\":{\"width\":0},\"mode\":\"lines\",\"name\":\"Risk Area\",\"showlegend\":false,\"x\":[0.0,5.0,5.0,0.0,0.0],\"y\":[0.0,0.0,5.0,5.0,0.0],\"type\":\"scatter\"},{\"fill\":\"toself\",\"fillcolor\":\"rgba(200, 0, 0, 0.10)\",\"hoverinfo\":\"name\",\"line\":{\"width\":0},\"mode\":\"lines\",\"name\":\"Risk Area\",\"showlegend\":false,\"x\":[5.0,10.0,10.0,5.0,5.0],\"y\":[0.0,0.0,5.0,5.0,0.0],\"type\":\"scatter\"},{\"fill\":\"toself\",\"fillcolor\":\"rgba(200, 0, 0, 0.00)\",\"hoverinfo\":\"name\",\"line\":{\"width\":0},\"mode\":\"lines\",\"name\":\"Risk Area\",\"showlegend\":false,\"x\":[10.0,15.0,15.0,10.0,10.0],\"y\":[0.0,0.0,5.0,5.0,0.0],\"type\":\"scatter\"},{\"fill\":\"toself\",\"fillcolor\":\"rgba(200, 0, 0, 0.00)\",\"hoverinfo\":\"name\",\"line\":{\"width\":0},\"mode\":\"lines\",\"name\":\"Risk Area\",\"showlegend\":false,\"x\":[10.0,15.0,15.0,10.0,10.0],\"y\":[5.0,5.0,10.0,10.0,5.0],\"type\":\"scatter\"},{\"fill\":\"toself\",\"fillcolor\":\"rgba(200, 0, 0, 0.50)\",\"hoverinfo\":\"name\",\"line\":{\"width\":0},\"mode\":\"lines\",\"name\":\"Risk Area\",\"showlegend\":false,\"x\":[5.0,10.0,10.0,5.0,5.0],\"y\":[5.0,5.0,10.0,10.0,5.0],\"type\":\"scatter\"},{\"fill\":\"toself\",\"fillcolor\":\"rgba(200, 0, 0, 0.10)\",\"hoverinfo\":\"name\",\"line\":{\"width\":0},\"mode\":\"lines\",\"name\":\"Risk Area\",\"showlegend\":false,\"x\":[0.0,5.0,5.0,0.0,0.0],\"y\":[5.0,5.0,10.0,10.0,5.0],\"type\":\"scatter\"},{\"fill\":\"toself\",\"fillcolor\":\"rgba(200, 0, 0, 0.00)\",\"hoverinfo\":\"name\",\"line\":{\"width\":0},\"mode\":\"lines\",\"name\":\"Risk Area\",\"showlegend\":false,\"x\":[0.0,5.0,5.0,0.0,0.0],\"y\":[10.0,10.0,15.0,15.0,10.0],\"type\":\"scatter\"},{\"fill\":\"toself\",\"fillcolor\":\"rgba(200, 0, 0, 0.20)\",\"hoverinfo\":\"name\",\"line\":{\"width\":0},\"mode\":\"lines\",\"name\":\"Risk Area\",\"showlegend\":false,\"x\":[5.0,10.0,10.0,5.0,5.0],\"y\":[10.0,10.0,15.0,15.0,10.0],\"type\":\"scatter\"},{\"fill\":\"toself\",\"fillcolor\":\"rgba(200, 0, 0, 0.00)\",\"hoverinfo\":\"name\",\"line\":{\"width\":0},\"mode\":\"lines\",\"name\":\"Risk Area\",\"showlegend\":false,\"x\":[10.0,15.0,15.0,10.0,10.0],\"y\":[10.0,10.0,15.0,15.0,10.0],\"type\":\"scatter\"},{\"hoverinfo\":\"text\",\"marker\":{\"opacity\":1,\"size\":1},\"mode\":\"markers\",\"showlegend\":false,\"text\":[\"ID: 61, Pos(11.31,7.85)\"],\"x\":[11.312854409575351],\"y\":[7.851323716071759],\"type\":\"scatter\"},{\"hoverinfo\":\"text\",\"marker\":{\"opacity\":1,\"size\":1},\"mode\":\"markers\",\"showlegend\":false,\"text\":[\"ID: 62, Pos(6.68,3.01)\"],\"x\":[6.679175246522641],\"y\":[3.0062339362781185],\"type\":\"scatter\"},{\"hoverinfo\":\"text\",\"marker\":{\"opacity\":1,\"size\":1},\"mode\":\"markers\",\"showlegend\":false,\"text\":[\"ID: 63, Pos(7.16,4.83)\"],\"x\":[7.15619803975692],\"y\":[4.828717151161369],\"type\":\"scatter\"},{\"hoverinfo\":\"text\",\"marker\":{\"opacity\":1,\"size\":1},\"mode\":\"markers\",\"showlegend\":false,\"text\":[\"ID: 64, Pos(7.05,5.80)\"],\"x\":[7.052850328722025],\"y\":[5.799214546915188],\"type\":\"scatter\"},{\"hoverinfo\":\"text\",\"marker\":{\"opacity\":1,\"size\":1},\"mode\":\"markers\",\"showlegend\":false,\"text\":[\"ID: 65, Pos(7.72,6.25)\"],\"x\":[7.718557510295234],\"y\":[6.247530589298977],\"type\":\"scatter\"},{\"hoverinfo\":\"text\",\"marker\":{\"opacity\":1,\"size\":1},\"mode\":\"markers\",\"showlegend\":false,\"text\":[\"ID: 66, Pos(6.07,3.46)\"],\"x\":[6.074789152737942],\"y\":[3.456078427747098],\"type\":\"scatter\"},{\"hoverinfo\":\"text\",\"marker\":{\"opacity\":1,\"size\":1},\"mode\":\"markers\",\"showlegend\":false,\"text\":[\"ID: 67, Pos(6.54,4.61)\"],\"x\":[6.542344577172921],\"y\":[4.606357315213801],\"type\":\"scatter\"},{\"hoverinfo\":\"text\",\"marker\":{\"opacity\":1,\"size\":1},\"mode\":\"markers\",\"showlegend\":false,\"text\":[\"ID: 68, Pos(10.13,6.99)\"],\"x\":[10.133646847378566],\"y\":[6.987941228013106],\"type\":\"scatter\"},{\"hoverinfo\":\"text\",\"marker\":{\"opacity\":1,\"size\":1},\"mode\":\"markers\",\"showlegend\":false,\"text\":[\"ID: 69, Pos(6.56,3.79)\"],\"x\":[6.563438246902499],\"y\":[3.7887326098369396],\"type\":\"scatter\"},{\"hoverinfo\":\"text\",\"marker\":{\"opacity\":1,\"size\":1},\"mode\":\"markers\",\"showlegend\":false,\"text\":[\"ID: 70, Pos(8.85,6.37)\"],\"x\":[8.845564989737857],\"y\":[6.367044750678757],\"type\":\"scatter\"}],\"layout\":{\"shapes\":[{\"fillcolor\":\"rgba(0, 0, 128, 0.5)\",\"line\":{\"color\":\"rgba(0, 0, 128, 0.5)\"},\"type\":\"circle\",\"x0\":11.112854409575352,\"x1\":11.51285440957535,\"xref\":\"x\",\"y0\":7.651323716071759,\"y1\":8.051323716071758,\"yref\":\"y\"},{\"fillcolor\":\"rgba(255, 167, 0, 0.5)\",\"line\":{\"color\":\"rgba(255, 167, 0, 0.5)\"},\"type\":\"circle\",\"x0\":6.479175246522641,\"x1\":6.8791752465226415,\"xref\":\"x\",\"y0\":2.8062339362781183,\"y1\":3.2062339362781187,\"yref\":\"y\"},{\"fillcolor\":\"rgba(180, 255, 67, 0.5)\",\"line\":{\"color\":\"rgba(180, 255, 67, 0.5)\"},\"type\":\"circle\",\"x0\":6.95619803975692,\"x1\":7.35619803975692,\"xref\":\"x\",\"y0\":4.628717151161369,\"y1\":5.028717151161369,\"yref\":\"y\"},{\"fillcolor\":\"rgba(0, 0, 128, 0.5)\",\"line\":{\"color\":\"rgba(0, 0, 128, 0.5)\"},\"type\":\"circle\",\"x0\":6.852850328722025,\"x1\":7.252850328722025,\"xref\":\"x\",\"y0\":5.599214546915188,\"y1\":5.999214546915188,\"yref\":\"y\"},{\"fillcolor\":\"rgba(60, 255, 186, 0.5)\",\"line\":{\"color\":\"rgba(60, 255, 186, 0.5)\"},\"type\":\"circle\",\"x0\":7.518557510295234,\"x1\":7.918557510295234,\"xref\":\"x\",\"y0\":6.047530589298977,\"y1\":6.447530589298977,\"yref\":\"y\"},{\"fillcolor\":\"rgba(0, 0, 128, 0.5)\",\"line\":{\"color\":\"rgba(0, 0, 128, 0.5)\"},\"type\":\"circle\",\"x0\":5.874789152737942,\"x1\":6.2747891527379425,\"xref\":\"x\",\"y0\":3.2560784277470978,\"y1\":3.656078427747098,\"yref\":\"y\"},{\"fillcolor\":\"rgba(255, 48, 0, 0.5)\",\"line\":{\"color\":\"rgba(255, 48, 0, 0.5)\"},\"type\":\"circle\",\"x0\":6.342344577172921,\"x1\":6.742344577172921,\"xref\":\"x\",\"y0\":4.406357315213801,\"y1\":4.806357315213801,\"yref\":\"y\"},{\"fillcolor\":\"rgba(0, 0, 128, 0.5)\",\"line\":{\"color\":\"rgba(0, 0, 128, 0.5)\"},\"type\":\"circle\",\"x0\":9.933646847378567,\"x1\":10.333646847378565,\"xref\":\"x\",\"y0\":6.787941228013106,\"y1\":7.1879412280131065,\"yref\":\"y\"},{\"fillcolor\":\"rgba(255, 189, 0, 0.5)\",\"line\":{\"color\":\"rgba(255, 189, 0, 0.5)\"},\"type\":\"circle\",\"x0\":6.363438246902499,\"x1\":6.763438246902499,\"xref\":\"x\",\"y0\":3.5887326098369394,\"y1\":3.98873260983694,\"yref\":\"y\"},{\"fillcolor\":\"rgba(0, 29, 255, 0.5)\",\"line\":{\"color\":\"rgba(0, 29, 255, 0.5)\"},\"type\":\"circle\",\"x0\":8.645564989737858,\"x1\":9.045564989737857,\"xref\":\"x\",\"y0\":6.167044750678757,\"y1\":6.5670447506787575,\"yref\":\"y\"},{\"line\":{\"color\":\"white\",\"width\":3},\"type\":\"line\",\"x0\":11.312854409575351,\"x1\":11.389232288340606,\"y0\":7.851323716071759,\"y1\":8.036165322955382},{\"line\":{\"color\":\"black\",\"width\":3},\"type\":\"line\",\"x0\":6.679175246522641,\"x1\":6.733570235375659,\"y0\":3.0062339362781185,\"y1\":3.1986948029177555},{\"line\":{\"color\":\"black\",\"width\":3},\"type\":\"line\",\"x0\":7.15619803975692,\"x1\":7.2151809853288755,\"y0\":4.828717151161369,\"y1\":5.0198218662566685},{\"line\":{\"color\":\"white\",\"width\":3},\"type\":\"line\",\"x0\":7.052850328722025,\"x1\":7.097081767587113,\"y0\":5.799214546915188,\"y1\":5.994262181650716},{\"line\":{\"color\":\"black\",\"width\":3},\"type\":\"line\",\"x0\":7.718557510295234,\"x1\":7.911241099653244,\"y0\":6.247530589298977,\"y1\":6.301131283250769},{\"line\":{\"color\":\"white\",\"width\":3},\"type\":\"line\",\"x0\":6.074789152737942,\"x1\":6.065766628417791,\"y0\":3.456078427747098,\"y1\":3.6558748092330804},{\"line\":{\"color\":\"white\",\"width\":3},\"type\":\"line\",\"x0\":6.542344577172921,\"x1\":6.7279154387079245,\"y0\":4.606357315213801,\"y1\":4.680945889065004},{\"line\":{\"color\":\"white\",\"width\":3},\"type\":\"line\",\"x0\":10.133646847378566,\"x1\":10.327515517985768,\"y0\":6.987941228013106,\"y1\":7.037083252360869},{\"line\":{\"color\":\"black\",\"width\":3},\"type\":\"line\",\"x0\":6.563438246902499,\"x1\":6.646935291387399,\"y0\":3.7887326098369396,\"y1\":3.9704693523033066},{\"line\":{\"color\":\"white\",\"width\":3},\"type\":\"line\",\"x0\":8.845564989737857,\"x1\":9.0357783481489,\"y0\":6.367044750678757,\"y1\":6.428841824088362}],\"title\":{\"text\":\"\\u003cb\\u003ePercentage using the shortest path: 0%  |  Number of Agents: 10\\u003c\\u002fb\\u003e\",\"x\":0.5}},\"name\":\"450\"},{\"data\":[{\"hoverinfo\":\"name\",\"line\":{\"color\":\"grey\"},\"mode\":\"lines\",\"name\":\"Exterior\",\"showlegend\":false,\"x\":[10.1,10.1,15.0,15.0,13.6,13.6,15.0,15.0,13.6,13.6,15.0,15.0,10.1,10.1,9.9,9.9,5.1,5.1,4.9,4.9,0.0,0.0,1.5,1.5,0.0,0.0,1.5,1.5,0.0,0.0,4.9,4.9,5.1,5.1,9.9,9.9,10.1],\"y\":[1.5,0.0,0.0,4.9,4.9,5.1,5.1,9.9,9.9,10.1,10.1,15.0,15.0,13.6,13.6,15.0,15.0,13.6,13.6,15.0,15.0,10.1,10.1,9.9,9.9,5.1,5.1,4.9,4.9,0.0,0.0,1.5,1.5,0.0,0.0,1.5,1.5],\"type\":\"scatter\"},{\"hoverinfo\":\"name\",\"line\":{\"color\":\"grey\"},\"mode\":\"lines\",\"name\":\"Obstacle\",\"showlegend\":false,\"x\":[10.1,11.5,11.5,10.1,10.1,9.9,9.9,8.6,8.6,9.9,9.9,10.1,10.1],\"y\":[5.1,5.1,4.9,4.9,3.6,3.6,4.9,4.9,5.1,5.1,6.5,6.5,5.1],\"type\":\"scatter\"},{\"hoverinfo\":\"name\",\"line\":{\"color\":\"grey\"},\"mode\":\"lines\",\"name\":\"Obstacle\",\"showlegend\":false,\"x\":[10.1,11.5,11.5,10.1,10.1,9.9,9.9,8.6,8.6,9.9,9.9,10.1,10.1],\"y\":[10.1,10.1,9.9,9.9,8.6,8.6,9.9,9.9,10.1,10.1,11.5,11.5,10.1],\"type\":\"scatter\"},{\"hoverinfo\":\"name\",\"line\":{\"color\":\"grey\"},\"mode\":\"lines\",\"name\":\"Obstacle\",\"showlegend\":false,\"x\":[5.1,6.4,6.4,5.1,5.1,4.9,4.9,3.6,3.6,4.9,4.9,5.1,5.1],\"y\":[5.1,5.1,4.9,4.9,3.6,3.6,4.9,4.9,5.1,5.1,6.5,6.5,5.1],\"type\":\"scatter\"},{\"hoverinfo\":\"name\",\"line\":{\"color\":\"grey\"},\"mode\":\"lines\",\"name\":\"Obstacle\",\"showlegend\":false,\"x\":[5.1,6.4,6.4,5.1,5.1,4.9,4.9,3.6,3.6,4.9,4.9,5.1,5.1],\"y\":[10.1,10.1,9.9,9.9,8.6,8.6,9.9,9.9,10.1,10.1,11.5,11.5,10.1],\"type\":\"scatter\"},{\"fill\":\"toself\",\"fillcolor\":\"rgba(200, 0, 0, 0.20)\",\"hoverinfo\":\"name\",\"line\":{\"width\":0},\"mode\":\"lines\",\"name\":\"Risk Area\",\"showlegend\":false,\"x\":[0.0,5.0,5.0,0.0,0.0],\"y\":[0.0,0.0,5.0,5.0,0.0],\"type\":\"scatter\"},{\"fill\":\"toself\",\"fillcolor\":\"rgba(200, 0, 0, 0.10)\",\"hoverinfo\":\"name\",\"line\":{\"width\":0},\"mode\":\"lines\",\"name\":\"Risk Area\",\"showlegend\":false,\"x\":[5.0,10.0,10.0,5.0,5.0],\"y\":[0.0,0.0,5.0,5.0,0.0],\"type\":\"scatter\"},{\"fill\":\"toself\",\"fillcolor\":\"rgba(200, 0, 0, 0.00)\",\"hoverinfo\":\"name\",\"line\":{\"width\":0},\"mode\":\"lines\",\"name\":\"Risk Area\",\"showlegend\":false,\"x\":[10.0,15.0,15.0,10.0,10.0],\"y\":[0.0,0.0,5.0,5.0,0.0],\"type\":\"scatter\"},{\"fill\":\"toself\",\"fillcolor\":\"rgba(200, 0, 0, 0.00)\",\"hoverinfo\":\"name\",\"line\":{\"width\":0},\"mode\":\"lines\",\"name\":\"Risk Area\",\"showlegend\":false,\"x\":[10.0,15.0,15.0,10.0,10.0],\"y\":[5.0,5.0,10.0,10.0,5.0],\"type\":\"scatter\"},{\"fill\":\"toself\",\"fillcolor\":\"rgba(200, 0, 0, 0.50)\",\"hoverinfo\":\"name\",\"line\":{\"width\":0},\"mode\":\"lines\",\"name\":\"Risk Area\",\"showlegend\":false,\"x\":[5.0,10.0,10.0,5.0,5.0],\"y\":[5.0,5.0,10.0,10.0,5.0],\"type\":\"scatter\"},{\"fill\":\"toself\",\"fillcolor\":\"rgba(200, 0, 0, 0.10)\",\"hoverinfo\":\"name\",\"line\":{\"width\":0},\"mode\":\"lines\",\"name\":\"Risk Area\",\"showlegend\":false,\"x\":[0.0,5.0,5.0,0.0,0.0],\"y\":[5.0,5.0,10.0,10.0,5.0],\"type\":\"scatter\"},{\"fill\":\"toself\",\"fillcolor\":\"rgba(200, 0, 0, 0.00)\",\"hoverinfo\":\"name\",\"line\":{\"width\":0},\"mode\":\"lines\",\"name\":\"Risk Area\",\"showlegend\":false,\"x\":[0.0,5.0,5.0,0.0,0.0],\"y\":[10.0,10.0,15.0,15.0,10.0],\"type\":\"scatter\"},{\"fill\":\"toself\",\"fillcolor\":\"rgba(200, 0, 0, 0.20)\",\"hoverinfo\":\"name\",\"line\":{\"width\":0},\"mode\":\"lines\",\"name\":\"Risk Area\",\"showlegend\":false,\"x\":[5.0,10.0,10.0,5.0,5.0],\"y\":[10.0,10.0,15.0,15.0,10.0],\"type\":\"scatter\"},{\"fill\":\"toself\",\"fillcolor\":\"rgba(200, 0, 0, 0.00)\",\"hoverinfo\":\"name\",\"line\":{\"width\":0},\"mode\":\"lines\",\"name\":\"Risk Area\",\"showlegend\":false,\"x\":[10.0,15.0,15.0,10.0,10.0],\"y\":[10.0,10.0,15.0,15.0,10.0],\"type\":\"scatter\"},{\"hoverinfo\":\"text\",\"marker\":{\"opacity\":1,\"size\":1},\"mode\":\"markers\",\"showlegend\":false,\"text\":[\"ID: 61, Pos(11.77,8.96)\"],\"x\":[11.77109505211891],\"y\":[8.96038436063],\"type\":\"scatter\"},{\"hoverinfo\":\"text\",\"marker\":{\"opacity\":1,\"size\":1},\"mode\":\"markers\",\"showlegend\":false,\"text\":[\"ID: 62, Pos(6.77,3.46)\"],\"x\":[6.7693634704740955],\"y\":[3.4579176613965203],\"type\":\"scatter\"},{\"hoverinfo\":\"text\",\"marker\":{\"opacity\":1,\"size\":1},\"mode\":\"markers\",\"showlegend\":false,\"text\":[\"ID: 63, Pos(7.27,5.37)\"],\"x\":[7.268459268190634],\"y\":[5.3726455856551745],\"type\":\"scatter\"},{\"hoverinfo\":\"text\",\"marker\":{\"opacity\":1,\"size\":1},\"mode\":\"markers\",\"showlegend\":false,\"text\":[\"ID: 64, Pos(7.52,6.17)\"],\"x\":[7.516498604445606],\"y\":[6.172163377973561],\"type\":\"scatter\"},{\"hoverinfo\":\"text\",\"marker\":{\"opacity\":1,\"size\":1},\"mode\":\"markers\",\"showlegend\":false,\"text\":[\"ID: 65, Pos(8.54,6.46)\"],\"x\":[8.537143448441585],\"y\":[6.463628369356862],\"type\":\"scatter\"},{\"hoverinfo\":\"text\",\"marker\":{\"opacity\":1,\"size\":1},\"mode\":\"markers\",\"showlegend\":false,\"text\":[\"ID: 66, Pos(6.19,4.23)\"],\"x\":[6.187869905303061],\"y\":[4.229014256436889],\"type\":\"scatter\"},{\"hoverinfo\":\"text\",\"marker\":{\"opacity\":1,\"size\":1},\"mode\":\"markers\",\"showlegend\":false,\"text\":[\"ID: 67, Pos(6.74,4.83)\"],\"x\":[6.741157306069368],\"y\":[4.834662940991289],\"type\":\"scatter\"},{\"hoverinfo\":\"text\",\"marker\":{\"opacity\":1,\"size\":1},\"mode\":\"markers\",\"showlegend\":false,\"text\":[\"ID: 68, Pos(11.14,7.44)\"],\"x\":[11.141694576042521],\"y\":[7.440598994103201],\"type\":\"scatter\"},{\"hoverinfo\":\"text\",\"marker\":{\"opacity\":1,\"size\":1},\"mode\":\"markers\",\"showlegend\":false,\"text\":[\"ID: 69, Pos(7.07,4.41)\"],\"x\":[7.071518553507337],\"y\":[4.405416562049156],\"type\":\"scatter\"},{\"hoverinfo\":\"text\",\"marker\":{\"opacity\":1,\"size\":1},\"mode\":\"markers\",\"showlegend\":false,\"text\":[\"ID: 70, Pos(9.80,6.86)\"],\"x\":[9.79605188073212],\"y\":[6.862072693976146],\"type\":\"scatter\"}],\"layout\":{\"shapes\":[{\"fillcolor\":\"rgba(0, 0, 128, 0.5)\",\"line\":{\"color\":\"rgba(0, 0, 128, 0.5)\"},\"type\":\"circle\",\"x0\":11.571095052118912,\"x1\":11.97109505211891,\"xref\":\"x\",\"y0\":8.76038436063,\"y1\":9.16038436063,\"yref\":\"y\"},{\"fillcolor\":\"rgba(164, 255, 83, 0.5)\",\"line\":{\"color\":\"rgba(164, 255, 83, 0.5)\"},\"type\":\"circle\",\"x0\":6.569363470474095,\"x1\":6.969363470474096,\"xref\":\"x\",\"y0\":3.25791766139652,\"y1\":3.6579176613965205,\"yref\":\"y\"},{\"fillcolor\":\"rgba(255, 208, 0, 0.5)\",\"line\":{\"color\":\"rgba(255, 208, 0, 0.5)\"},\"type\":\"circle\",\"x0\":7.068459268190634,\"x1\":7.468459268190634,\"xref\":\"x\",\"y0\":5.172645585655174,\"y1\":5.572645585655175,\"yref\":\"y\"},{\"fillcolor\":\"rgba(115, 255, 131, 0.5)\",\"line\":{\"color\":\"rgba(115, 255, 131, 0.5)\"},\"type\":\"circle\",\"x0\":7.316498604445606,\"x1\":7.716498604445606,\"xref\":\"x\",\"y0\":5.972163377973561,\"y1\":6.372163377973561,\"yref\":\"y\"},{\"fillcolor\":\"rgba(0, 128, 255, 0.5)\",\"line\":{\"color\":\"rgba(0, 128, 255, 0.5)\"},\"type\":\"circle\",\"x0\":8.337143448441585,\"x1\":8.737143448441584,\"xref\":\"x\",\"y0\":6.263628369356862,\"y1\":6.6636283693568625,\"yref\":\"y\"},{\"fillcolor\":\"rgba(255, 193, 0, 0.5)\",\"line\":{\"color\":\"rgba(255, 193, 0, 0.5)\"},\"type\":\"circle\",\"x0\":5.987869905303061,\"x1\":6.387869905303061,\"xref\":\"x\",\"y0\":4.029014256436889,\"y1\":4.429014256436889,\"yref\":\"y\"},{\"fillcolor\":\"rgba(255, 134, 0, 0.5)\",\"line\":{\"color\":\"rgba(255, 134, 0, 0.5)\"},\"type\":\"circle\",\"x0\":6.541157306069368,\"x1\":6.9411573060693685,\"xref\":\"x\",\"y0\":4.634662940991289,\"y1\":5.034662940991289,\"yref\":\"y\"},{\"fillcolor\":\"rgba(0, 0, 128, 0.5)\",\"line\":{\"color\":\"rgba(0, 0, 128, 0.5)\"},\"type\":\"circle\",\"x0\":10.941694576042522,\"x1\":11.34169457604252,\"xref\":\"x\",\"y0\":7.240598994103201,\"y1\":7.640598994103201,\"yref\":\"y\"},{\"fillcolor\":\"rgba(0, 0, 128, 0.5)\",\"line\":{\"color\":\"rgba(0, 0, 128, 0.5)\"},\"type\":\"circle\",\"x0\":6.871518553507337,\"x1\":7.271518553507337,\"xref\":\"x\",\"y0\":4.205416562049156,\"y1\":4.6054165620491565,\"yref\":\"y\"},{\"fillcolor\":\"rgba(0, 0, 246, 0.5)\",\"line\":{\"color\":\"rgba(0, 0, 246, 0.5)\"},\"type\":\"circle\",\"x0\":9.596051880732121,\"x1\":9.99605188073212,\"xref\":\"x\",\"y0\":6.662072693976146,\"y1\":7.0620726939761465,\"yref\":\"y\"},{\"line\":{\"color\":\"white\",\"width\":3},\"type\":\"line\",\"x0\":11.77109505211891,\"x1\":11.847466569734415,\"y0\":8.96038436063,\"y1\":9.145228595858217},{\"line\":{\"color\":\"black\",\"width\":3},\"type\":\"line\",\"x0\":6.7693634704740955,\"x1\":6.806082856109834,\"y0\":3.4579176613965203,\"y1\":3.6545179836712665},{\"line\":{\"color\":\"black\",\"width\":3},\"type\":\"line\",\"x0\":7.268459268190634,\"x1\":7.298091083313155,\"y0\":5.3726455856551745,\"y1\":5.570438294147031},{\"line\":{\"color\":\"black\",\"width\":3},\"type\":\"line\",\"x0\":7.516498604445606,\"x1\":7.708274155062007,\"y0\":6.172163377973561,\"y1\":6.228927258969986},{\"line\":{\"color\":\"white\",\"width\":3},\"type\":\"line\",\"x0\":8.537143448441585,\"x1\":8.730632533438119,\"y0\":6.463628369356862,\"y1\":6.514244315334428},{\"line\":{\"color\":\"black\",\"width\":3},\"type\":\"line\",\"x0\":6.187869905303061,\"x1\":6.287367137355352,\"y0\":4.229014256436889,\"y1\":4.402508639095039},{\"line\":{\"color\":\"black\",\"width\":3},\"type\":\"line\",\"x0\":6.741157306069368,\"x1\":6.802036452922246,\"y0\":4.834662940991289,\"y1\":5.025172073261808},{\"line\":{\"color\":\"white\",\"width\":3},\"type\":\"line\",\"x0\":11.141694576042521,\"x1\":11.218110790272387,\"y0\":7.440598994103201,\"y1\":7.625424755843212},{\"line\":{\"color\":\"white\",\"width\":3},\"type\":\"line\",\"x0\":7.071518553507337,\"x1\":7.2197890833375,\"y0\":4.405416562049156,\"y1\":4.5396396971037465},{\"line\":{\"color\":\"white\",\"width\":3},\"type\":\"line\",\"x0\":9.79605188073212,\"x1\":9.96670605980581,\"y0\":6.862072693976146,\"y1\":6.966366275584436}],\"title\":{\"text\":\"\\u003cb\\u003ePercentage using the shortest path: 0%  |  Number of Agents: 10\\u003c\\u002fb\\u003e\",\"x\":0.5}},\"name\":\"500\"},{\"data\":[{\"hoverinfo\":\"name\",\"line\":{\"color\":\"grey\"},\"mode\":\"lines\",\"name\":\"Exterior\",\"showlegend\":false,\"x\":[10.1,10.1,15.0,15.0,13.6,13.6,15.0,15.0,13.6,13.6,15.0,15.0,10.1,10.1,9.9,9.9,5.1,5.1,4.9,4.9,0.0,0.0,1.5,1.5,0.0,0.0,1.5,1.5,0.0,0.0,4.9,4.9,5.1,5.1,9.9,9.9,10.1],\"y\":[1.5,0.0,0.0,4.9,4.9,5.1,5.1,9.9,9.9,10.1,10.1,15.0,15.0,13.6,13.6,15.0,15.0,13.6,13.6,15.0,15.0,10.1,10.1,9.9,9.9,5.1,5.1,4.9,4.9,0.0,0.0,1.5,1.5,0.0,0.0,1.5,1.5],\"type\":\"scatter\"},{\"hoverinfo\":\"name\",\"line\":{\"color\":\"grey\"},\"mode\":\"lines\",\"name\":\"Obstacle\",\"showlegend\":false,\"x\":[10.1,11.5,11.5,10.1,10.1,9.9,9.9,8.6,8.6,9.9,9.9,10.1,10.1],\"y\":[5.1,5.1,4.9,4.9,3.6,3.6,4.9,4.9,5.1,5.1,6.5,6.5,5.1],\"type\":\"scatter\"},{\"hoverinfo\":\"name\",\"line\":{\"color\":\"grey\"},\"mode\":\"lines\",\"name\":\"Obstacle\",\"showlegend\":false,\"x\":[10.1,11.5,11.5,10.1,10.1,9.9,9.9,8.6,8.6,9.9,9.9,10.1,10.1],\"y\":[10.1,10.1,9.9,9.9,8.6,8.6,9.9,9.9,10.1,10.1,11.5,11.5,10.1],\"type\":\"scatter\"},{\"hoverinfo\":\"name\",\"line\":{\"color\":\"grey\"},\"mode\":\"lines\",\"name\":\"Obstacle\",\"showlegend\":false,\"x\":[5.1,6.4,6.4,5.1,5.1,4.9,4.9,3.6,3.6,4.9,4.9,5.1,5.1],\"y\":[5.1,5.1,4.9,4.9,3.6,3.6,4.9,4.9,5.1,5.1,6.5,6.5,5.1],\"type\":\"scatter\"},{\"hoverinfo\":\"name\",\"line\":{\"color\":\"grey\"},\"mode\":\"lines\",\"name\":\"Obstacle\",\"showlegend\":false,\"x\":[5.1,6.4,6.4,5.1,5.1,4.9,4.9,3.6,3.6,4.9,4.9,5.1,5.1],\"y\":[10.1,10.1,9.9,9.9,8.6,8.6,9.9,9.9,10.1,10.1,11.5,11.5,10.1],\"type\":\"scatter\"},{\"fill\":\"toself\",\"fillcolor\":\"rgba(200, 0, 0, 0.20)\",\"hoverinfo\":\"name\",\"line\":{\"width\":0},\"mode\":\"lines\",\"name\":\"Risk Area\",\"showlegend\":false,\"x\":[0.0,5.0,5.0,0.0,0.0],\"y\":[0.0,0.0,5.0,5.0,0.0],\"type\":\"scatter\"},{\"fill\":\"toself\",\"fillcolor\":\"rgba(200, 0, 0, 0.10)\",\"hoverinfo\":\"name\",\"line\":{\"width\":0},\"mode\":\"lines\",\"name\":\"Risk Area\",\"showlegend\":false,\"x\":[5.0,10.0,10.0,5.0,5.0],\"y\":[0.0,0.0,5.0,5.0,0.0],\"type\":\"scatter\"},{\"fill\":\"toself\",\"fillcolor\":\"rgba(200, 0, 0, 0.00)\",\"hoverinfo\":\"name\",\"line\":{\"width\":0},\"mode\":\"lines\",\"name\":\"Risk Area\",\"showlegend\":false,\"x\":[10.0,15.0,15.0,10.0,10.0],\"y\":[0.0,0.0,5.0,5.0,0.0],\"type\":\"scatter\"},{\"fill\":\"toself\",\"fillcolor\":\"rgba(200, 0, 0, 0.00)\",\"hoverinfo\":\"name\",\"line\":{\"width\":0},\"mode\":\"lines\",\"name\":\"Risk Area\",\"showlegend\":false,\"x\":[10.0,15.0,15.0,10.0,10.0],\"y\":[5.0,5.0,10.0,10.0,5.0],\"type\":\"scatter\"},{\"fill\":\"toself\",\"fillcolor\":\"rgba(200, 0, 0, 0.50)\",\"hoverinfo\":\"name\",\"line\":{\"width\":0},\"mode\":\"lines\",\"name\":\"Risk Area\",\"showlegend\":false,\"x\":[5.0,10.0,10.0,5.0,5.0],\"y\":[5.0,5.0,10.0,10.0,5.0],\"type\":\"scatter\"},{\"fill\":\"toself\",\"fillcolor\":\"rgba(200, 0, 0, 0.10)\",\"hoverinfo\":\"name\",\"line\":{\"width\":0},\"mode\":\"lines\",\"name\":\"Risk Area\",\"showlegend\":false,\"x\":[0.0,5.0,5.0,0.0,0.0],\"y\":[5.0,5.0,10.0,10.0,5.0],\"type\":\"scatter\"},{\"fill\":\"toself\",\"fillcolor\":\"rgba(200, 0, 0, 0.00)\",\"hoverinfo\":\"name\",\"line\":{\"width\":0},\"mode\":\"lines\",\"name\":\"Risk Area\",\"showlegend\":false,\"x\":[0.0,5.0,5.0,0.0,0.0],\"y\":[10.0,10.0,15.0,15.0,10.0],\"type\":\"scatter\"},{\"fill\":\"toself\",\"fillcolor\":\"rgba(200, 0, 0, 0.20)\",\"hoverinfo\":\"name\",\"line\":{\"width\":0},\"mode\":\"lines\",\"name\":\"Risk Area\",\"showlegend\":false,\"x\":[5.0,10.0,10.0,5.0,5.0],\"y\":[10.0,10.0,15.0,15.0,10.0],\"type\":\"scatter\"},{\"fill\":\"toself\",\"fillcolor\":\"rgba(200, 0, 0, 0.00)\",\"hoverinfo\":\"name\",\"line\":{\"width\":0},\"mode\":\"lines\",\"name\":\"Risk Area\",\"showlegend\":false,\"x\":[10.0,15.0,15.0,10.0,10.0],\"y\":[10.0,10.0,15.0,15.0,10.0],\"type\":\"scatter\"},{\"hoverinfo\":\"text\",\"marker\":{\"opacity\":1,\"size\":1},\"mode\":\"markers\",\"showlegend\":false,\"text\":[\"ID: 61, Pos(12.23,10.07)\"],\"x\":[12.230420305833432],\"y\":[10.068995608843798],\"type\":\"scatter\"},{\"hoverinfo\":\"text\",\"marker\":{\"opacity\":1,\"size\":1},\"mode\":\"markers\",\"showlegend\":false,\"text\":[\"ID: 62, Pos(6.92,4.13)\"],\"x\":[6.922149768032579],\"y\":[4.134084547210458],\"type\":\"scatter\"},{\"hoverinfo\":\"text\",\"marker\":{\"opacity\":1,\"size\":1},\"mode\":\"markers\",\"showlegend\":false,\"text\":[\"ID: 63, Pos(7.43,6.04)\"],\"x\":[7.428157564704592],\"y\":[6.039620846259442],\"type\":\"scatter\"},{\"hoverinfo\":\"text\",\"marker\":{\"opacity\":1,\"size\":1},\"mode\":\"markers\",\"showlegend\":false,\"text\":[\"ID: 64, Pos(8.26,6.38)\"],\"x\":[8.263620851555869],\"y\":[6.382636858791354],\"type\":\"scatter\"},{\"hoverinfo\":\"text\",\"marker\":{\"opacity\":1,\"size\":1},\"mode\":\"markers\",\"showlegend\":false,\"text\":[\"ID: 65, Pos(9.50,6.72)\"],\"x\":[9.502610467477615],\"y\":[6.718712172184353],\"type\":\"scatter\"},{\"hoverinfo\":\"text\",\"marker\":{\"opacity\":1,\"size\":1},\"mode\":\"markers\",\"showlegend\":false,\"text\":[\"ID: 66, Pos(6.42,4.57)\"],\"x\":[6.416166447210007],\"y\":[4.574267642457435],\"type\":\"scatter\"},{\"hoverinfo\":\"text\",\"marker\":{\"opacity\":1,\"size\":1},\"mode\":\"markers\",\"showlegend\":false,\"text\":[\"ID: 67, Pos(6.85,5.39)\"],\"x\":[6.848665241615581],\"y\":[5.3862613829489225],\"type\":\"scatter\"},{\"hoverinfo\":\"text\",\"marker\":{\"opacity\":1,\"size\":1},\"mode\":\"markers\",\"showlegend\":false,\"text\":[\"ID: 68, Pos(11.60,8.55)\"],\"x\":[11.600176187295101],\"y\":[8.549560044649322],\"type\":\"scatter\"},{\"hoverinfo\":\"text\",\"marker\":{\"opacity\":1,\"size\":1},\"mode\":\"markers\",\"showlegend\":false,\"text\":[\"ID: 69, Pos(7.44,5.07)\"],\"x\":[7.441694395557734],\"y\":[5.073230754563743],\"type\":\"scatter\"},{\"hoverinfo\":\"text\",\"marker\":{\"opacity\":1,\"size\":1},\"mode\":\"markers\",\"showlegend\":false,\"text\":[\"ID: 70, Pos(10.91,7.16)\"],\"x\":[10.913905658652112],\"y\":[7.15809305563776],\"type\":\"scatter\"}],\"layout\":{\"shapes\":[{\"fillcolor\":\"rgba(0, 0, 128, 0.5)\",\"line\":{\"color\":\"rgba(0, 0, 128, 0.5)\"},\"type\":\"circle\",\"x0\":12.030420305833433,\"x1\":12.430420305833431,\"xref\":\"x\",\"y0\":9.868995608843798,\"y1\":10.268995608843797,\"yref\":\"y\"},{\"fillcolor\":\"rgba(106, 255, 141, 0.5)\",\"line\":{\"color\":\"rgba(106, 255, 141, 0.5)\"},\"type\":\"circle\",\"x0\":6.722149768032579,\"x1\":7.122149768032579,\"xref\":\"x\",\"y0\":3.9340845472104577,\"y1\":4.334084547210458,\"yref\":\"y\"},{\"fillcolor\":\"rgba(231, 255, 15, 0.5)\",\"line\":{\"color\":\"rgba(231, 255, 15, 0.5)\"},\"type\":\"circle\",\"x0\":7.228157564704592,\"x1\":7.628157564704592,\"xref\":\"x\",\"y0\":5.839620846259442,\"y1\":6.2396208462594425,\"yref\":\"y\"},{\"fillcolor\":\"rgba(0, 164, 255, 0.5)\",\"line\":{\"color\":\"rgba(0, 164, 255, 0.5)\"},\"type\":\"circle\",\"x0\":8.06362085155587,\"x1\":8.463620851555868,\"xref\":\"x\",\"y0\":6.182636858791354,\"y1\":6.582636858791354,\"yref\":\"y\"},{\"fillcolor\":\"rgba(0, 0, 255, 0.5)\",\"line\":{\"color\":\"rgba(0, 0, 255, 0.5)\"},\"type\":\"circle\",\"x0\":9.302610467477615,\"x1\":9.702610467477614,\"xref\":\"x\",\"y0\":6.518712172184353,\"y1\":6.918712172184353,\"yref\":\"y\"},{\"fillcolor\":\"rgba(141, 255, 106, 0.5)\",\"line\":{\"color\":\"rgba(141, 255, 106, 0.5)\"},\"type\":\"circle\",\"x0\":6.216166447210007,\"x1\":6.6161664472100075,\"xref\":\"x\",\"y0\":4.3742676424574345,\"y1\":4.774267642457435,\"yref\":\"y\"},{\"fillcolor\":\"rgba(0, 0, 128, 0.5)\",\"line\":{\"color\":\"rgba(0, 0, 128, 0.5)\"},\"type\":\"circle\",\"x0\":6.648665241615581,\"x1\":7.0486652416155815,\"xref\":\"x\",\"y0\":5.186261382948922,\"y1\":5.586261382948923,\"yref\":\"y\"},{\"fillcolor\":\"rgba(0, 0, 128, 0.5)\",\"line\":{\"color\":\"rgba(0, 0, 128, 0.5)\"},\"type\":\"circle\",\"x0\":11.400176187295102,\"x1\":11.8001761872951,\"xref\":\"x\",\"y0\":8.349560044649323,\"y1\":8.749560044649321,\"yref\":\"y\"},{\"fillcolor\":\"rgba(183, 255, 64, 0.5)\",\"line\":{\"color\":\"rgba(183, 255, 64, 0.5)\"},\"type\":\"circle\",\"x0\":7.241694395557734,\"x1\":7.641694395557734,\"xref\":\"x\",\"y0\":4.8732307545637426,\"y1\":5.273230754563743,\"yref\":\"y\"},{\"fillcolor\":\"rgba(0, 0, 128, 0.5)\",\"line\":{\"color\":\"rgba(0, 0, 128, 0.5)\"},\"type\":\"circle\",\"x0\":10.713905658652113,\"x1\":11.113905658652111,\"xref\":\"x\",\"y0\":6.95809305563776,\"y1\":7.35809305563776,\"yref\":\"y\"},{\"line\":{\"color\":\"white\",\"width\":3},\"type\":\"line\",\"x0\":12.230420305833432,\"x1\":12.306794419247588,\"y0\":10.068995608843798,\"y1\":10.253838771552624},{\"line\":{\"color\":\"black\",\"width\":3},\"type\":\"line\",\"x0\":6.922149768032579,\"x1\":6.986318515688739,\"y0\":4.134084547210458,\"y1\":4.323510975736786},{\"line\":{\"color\":\"black\",\"width\":3},\"type\":\"line\",\"x0\":7.428157564704592,\"x1\":7.619288674925984,\"y0\":6.039620846259442,\"y1\":6.098518203632574},{\"line\":{\"color\":\"white\",\"width\":3},\"type\":\"line\",\"x0\":8.263620851555869,\"x1\":8.456891549387114,\"y0\":6.382636858791354,\"y1\":6.434080394437961},{\"line\":{\"color\":\"white\",\"width\":3},\"type\":\"line\",\"x0\":9.502610467477615,\"x1\":9.693861896794349,\"y0\":6.718712172184353,\"y1\":6.777217648716951},{\"line\":{\"color\":\"black\",\"width\":3},\"type\":\"line\",\"x0\":6.416166447210007,\"x1\":6.59822780494641,\"y0\":4.574267642457435,\"y1\":4.657054489354618},{\"line\":{\"color\":\"white\",\"width\":3},\"type\":\"line\",\"x0\":6.848665241615581,\"x1\":6.8758093921871355,\"y0\":5.3862613829489225,\"y1\":5.584410809114503},{\"line\":{\"color\":\"white\",\"width\":3},\"type\":\"line\",\"x0\":11.600176187295101,\"x1\":11.67658368985593,\"y0\":8.549560044649322,\"y1\":8.734389407988639},{\"line\":{\"color\":\"black\",\"width\":3},\"type\":\"line\",\"x0\":7.441694395557734,\"x1\":7.48103993251711,\"y0\":5.073230754563743,\"y1\":5.269322388045078},{\"line\":{\"color\":\"white\",\"width\":3},\"type\":\"line\",\"x0\":10.913905658652112,\"x1\":11.109415400877943,\"y0\":7.15809305563776,\"y1\":7.200234967018114}],\"title\":{\"text\":\"\\u003cb\\u003ePercentage using the shortest path: 0%  |  Number of Agents: 10\\u003c\\u002fb\\u003e\",\"x\":0.5}},\"name\":\"550\"},{\"data\":[{\"hoverinfo\":\"name\",\"line\":{\"color\":\"grey\"},\"mode\":\"lines\",\"name\":\"Exterior\",\"showlegend\":false,\"x\":[10.1,10.1,15.0,15.0,13.6,13.6,15.0,15.0,13.6,13.6,15.0,15.0,10.1,10.1,9.9,9.9,5.1,5.1,4.9,4.9,0.0,0.0,1.5,1.5,0.0,0.0,1.5,1.5,0.0,0.0,4.9,4.9,5.1,5.1,9.9,9.9,10.1],\"y\":[1.5,0.0,0.0,4.9,4.9,5.1,5.1,9.9,9.9,10.1,10.1,15.0,15.0,13.6,13.6,15.0,15.0,13.6,13.6,15.0,15.0,10.1,10.1,9.9,9.9,5.1,5.1,4.9,4.9,0.0,0.0,1.5,1.5,0.0,0.0,1.5,1.5],\"type\":\"scatter\"},{\"hoverinfo\":\"name\",\"line\":{\"color\":\"grey\"},\"mode\":\"lines\",\"name\":\"Obstacle\",\"showlegend\":false,\"x\":[10.1,11.5,11.5,10.1,10.1,9.9,9.9,8.6,8.6,9.9,9.9,10.1,10.1],\"y\":[5.1,5.1,4.9,4.9,3.6,3.6,4.9,4.9,5.1,5.1,6.5,6.5,5.1],\"type\":\"scatter\"},{\"hoverinfo\":\"name\",\"line\":{\"color\":\"grey\"},\"mode\":\"lines\",\"name\":\"Obstacle\",\"showlegend\":false,\"x\":[10.1,11.5,11.5,10.1,10.1,9.9,9.9,8.6,8.6,9.9,9.9,10.1,10.1],\"y\":[10.1,10.1,9.9,9.9,8.6,8.6,9.9,9.9,10.1,10.1,11.5,11.5,10.1],\"type\":\"scatter\"},{\"hoverinfo\":\"name\",\"line\":{\"color\":\"grey\"},\"mode\":\"lines\",\"name\":\"Obstacle\",\"showlegend\":false,\"x\":[5.1,6.4,6.4,5.1,5.1,4.9,4.9,3.6,3.6,4.9,4.9,5.1,5.1],\"y\":[5.1,5.1,4.9,4.9,3.6,3.6,4.9,4.9,5.1,5.1,6.5,6.5,5.1],\"type\":\"scatter\"},{\"hoverinfo\":\"name\",\"line\":{\"color\":\"grey\"},\"mode\":\"lines\",\"name\":\"Obstacle\",\"showlegend\":false,\"x\":[5.1,6.4,6.4,5.1,5.1,4.9,4.9,3.6,3.6,4.9,4.9,5.1,5.1],\"y\":[10.1,10.1,9.9,9.9,8.6,8.6,9.9,9.9,10.1,10.1,11.5,11.5,10.1],\"type\":\"scatter\"},{\"fill\":\"toself\",\"fillcolor\":\"rgba(200, 0, 0, 0.40)\",\"hoverinfo\":\"name\",\"line\":{\"width\":0},\"mode\":\"lines\",\"name\":\"Risk Area\",\"showlegend\":false,\"x\":[0.0,5.0,5.0,0.0,0.0],\"y\":[0.0,0.0,5.0,5.0,0.0],\"type\":\"scatter\"},{\"fill\":\"toself\",\"fillcolor\":\"rgba(200, 0, 0, 0.10)\",\"hoverinfo\":\"name\",\"line\":{\"width\":0},\"mode\":\"lines\",\"name\":\"Risk Area\",\"showlegend\":false,\"x\":[5.0,10.0,10.0,5.0,5.0],\"y\":[0.0,0.0,5.0,5.0,0.0],\"type\":\"scatter\"},{\"fill\":\"toself\",\"fillcolor\":\"rgba(200, 0, 0, 0.00)\",\"hoverinfo\":\"name\",\"line\":{\"width\":0},\"mode\":\"lines\",\"name\":\"Risk Area\",\"showlegend\":false,\"x\":[10.0,15.0,15.0,10.0,10.0],\"y\":[0.0,0.0,5.0,5.0,0.0],\"type\":\"scatter\"},{\"fill\":\"toself\",\"fillcolor\":\"rgba(200, 0, 0, 0.00)\",\"hoverinfo\":\"name\",\"line\":{\"width\":0},\"mode\":\"lines\",\"name\":\"Risk Area\",\"showlegend\":false,\"x\":[10.0,15.0,15.0,10.0,10.0],\"y\":[5.0,5.0,10.0,10.0,5.0],\"type\":\"scatter\"},{\"fill\":\"toself\",\"fillcolor\":\"rgba(200, 0, 0, 0.50)\",\"hoverinfo\":\"name\",\"line\":{\"width\":0},\"mode\":\"lines\",\"name\":\"Risk Area\",\"showlegend\":false,\"x\":[5.0,10.0,10.0,5.0,5.0],\"y\":[5.0,5.0,10.0,10.0,5.0],\"type\":\"scatter\"},{\"fill\":\"toself\",\"fillcolor\":\"rgba(200, 0, 0, 0.10)\",\"hoverinfo\":\"name\",\"line\":{\"width\":0},\"mode\":\"lines\",\"name\":\"Risk Area\",\"showlegend\":false,\"x\":[0.0,5.0,5.0,0.0,0.0],\"y\":[5.0,5.0,10.0,10.0,5.0],\"type\":\"scatter\"},{\"fill\":\"toself\",\"fillcolor\":\"rgba(200, 0, 0, 0.00)\",\"hoverinfo\":\"name\",\"line\":{\"width\":0},\"mode\":\"lines\",\"name\":\"Risk Area\",\"showlegend\":false,\"x\":[0.0,5.0,5.0,0.0,0.0],\"y\":[10.0,10.0,15.0,15.0,10.0],\"type\":\"scatter\"},{\"fill\":\"toself\",\"fillcolor\":\"rgba(200, 0, 0, 0.20)\",\"hoverinfo\":\"name\",\"line\":{\"width\":0},\"mode\":\"lines\",\"name\":\"Risk Area\",\"showlegend\":false,\"x\":[5.0,10.0,10.0,5.0,5.0],\"y\":[10.0,10.0,15.0,15.0,10.0],\"type\":\"scatter\"},{\"fill\":\"toself\",\"fillcolor\":\"rgba(200, 0, 0, 0.00)\",\"hoverinfo\":\"name\",\"line\":{\"width\":0},\"mode\":\"lines\",\"name\":\"Risk Area\",\"showlegend\":false,\"x\":[10.0,15.0,15.0,10.0,10.0],\"y\":[10.0,10.0,15.0,15.0,10.0],\"type\":\"scatter\"},{\"hoverinfo\":\"text\",\"marker\":{\"opacity\":1,\"size\":1},\"mode\":\"markers\",\"showlegend\":false,\"text\":[\"ID: 61, Pos(12.69,11.18)\"],\"x\":[12.688337624458],\"y\":[11.178189786617434],\"type\":\"scatter\"},{\"hoverinfo\":\"text\",\"marker\":{\"opacity\":1,\"size\":1},\"mode\":\"markers\",\"showlegend\":false,\"text\":[\"ID: 62, Pos(7.25,4.64)\"],\"x\":[7.250842169879898],\"y\":[4.643182204240264],\"type\":\"scatter\"},{\"hoverinfo\":\"text\",\"marker\":{\"opacity\":1,\"size\":1},\"mode\":\"markers\",\"showlegend\":false,\"text\":[\"ID: 63, Pos(8.06,6.23)\"],\"x\":[8.057871407974558],\"y\":[6.233997146693648],\"type\":\"scatter\"},{\"hoverinfo\":\"text\",\"marker\":{\"opacity\":1,\"size\":1},\"mode\":\"markers\",\"showlegend\":false,\"text\":[\"ID: 64, Pos(9.18,6.63)\"],\"x\":[9.184442403742095],\"y\":[6.625949089733814],\"type\":\"scatter\"},{\"hoverinfo\":\"text\",\"marker\":{\"opacity\":1,\"size\":1},\"mode\":\"markers\",\"showlegend\":false,\"text\":[\"ID: 65, Pos(10.54,7.08)\"],\"x\":[10.543837611280479],\"y\":[7.080857062944435],\"type\":\"scatter\"},{\"hoverinfo\":\"text\",\"marker\":{\"opacity\":1,\"size\":1},\"mode\":\"markers\",\"showlegend\":false,\"text\":[\"ID: 66, Pos(6.81,5.09)\"],\"x\":[6.811979269718189],\"y\":[5.089716848612466],\"type\":\"scatter\"},{\"hoverinfo\":\"text\",\"marker\":{\"opacity\":1,\"size\":1},\"mode\":\"markers\",\"showlegend\":false,\"text\":[\"ID: 67, Pos(7.18,6.17)\"],\"x\":[7.1779621901945125],\"y\":[6.169001286357713],\"type\":\"scatter\"},{\"hoverinfo\":\"text\",\"marker\":{\"opacity\":1,\"size\":1},\"mode\":\"markers\",\"showlegend\":false,\"text\":[\"ID: 68, Pos(12.06,9.66)\"],\"x\":[12.059152116285361],\"y\":[9.658316149360983],\"type\":\"scatter\"},{\"hoverinfo\":\"text\",\"marker\":{\"opacity\":1,\"size\":1},\"mode\":\"markers\",\"showlegend\":false,\"text\":[\"ID: 69, Pos(7.50,5.67)\"],\"x\":[7.499139494595906],\"y\":[5.666075663420961],\"type\":\"scatter\"},{\"hoverinfo\":\"text\",\"marker\":{\"opacity\":1,\"size\":1},\"mode\":\"markers\",\"showlegend\":false,\"text\":[\"ID: 70, Pos(11.45,8.18)\"],\"x\":[11.447283729355343],\"y\":[8.177218485459655],\"type\":\"scatter\"}],\"layout\":{\"shapes\":[{\"fillcolor\":\"rgba(0, 0, 128, 0.5)\",\"line\":{\"color\":\"rgba(0, 0, 128, 0.5)\"},\"type\":\"circle\",\"x0\":12.488337624458001,\"x1\":12.888337624458,\"xref\":\"x\",\"y0\":10.978189786617435,\"y1\":11.378189786617433,\"yref\":\"y\"},{\"fillcolor\":\"rgba(125, 255, 122, 0.5)\",\"line\":{\"color\":\"rgba(125, 255, 122, 0.5)\"},\"type\":\"circle\",\"x0\":7.050842169879898,\"x1\":7.450842169879898,\"xref\":\"x\",\"y0\":4.443182204240264,\"y1\":4.843182204240264,\"yref\":\"y\"},{\"fillcolor\":\"rgba(15, 248, 231, 0.5)\",\"line\":{\"color\":\"rgba(15, 248, 231, 0.5)\"},\"type\":\"circle\",\"x0\":7.8578714079745575,\"x1\":8.257871407974557,\"xref\":\"x\",\"y0\":6.033997146693648,\"y1\":6.433997146693648,\"yref\":\"y\"},{\"fillcolor\":\"rgba(0, 24, 255, 0.5)\",\"line\":{\"color\":\"rgba(0, 24, 255, 0.5)\"},\"type\":\"circle\",\"x0\":8.984442403742095,\"x1\":9.384442403742094,\"xref\":\"x\",\"y0\":6.425949089733813,\"y1\":6.825949089733814,\"yref\":\"y\"},{\"fillcolor\":\"rgba(0, 0, 128, 0.5)\",\"line\":{\"color\":\"rgba(0, 0, 128, 0.5)\"},\"type\":\"circle\",\"x0\":10.34383761128048,\"x1\":10.743837611280478,\"xref\":\"x\",\"y0\":6.880857062944435,\"y1\":7.280857062944436,\"yref\":\"y\"},{\"fillcolor\":\"rgba(48, 255, 199, 0.5)\",\"line\":{\"color\":\"rgba(48, 255, 199, 0.5)\"},\"type\":\"circle\",\"x0\":6.611979269718189,\"x1\":7.011979269718189,\"xref\":\"x\",\"y0\":4.889716848612466,\"y1\":5.289716848612466,\"yref\":\"y\"},{\"fillcolor\":\"rgba(0, 93, 255, 0.5)\",\"line\":{\"color\":\"rgba(0, 93, 255, 0.5)\"},\"type\":\"circle\",\"x0\":6.977962190194512,\"x1\":7.377962190194513,\"xref\":\"x\",\"y0\":5.969001286357713,\"y1\":6.3690012863577135,\"yref\":\"y\"},{\"fillcolor\":\"rgba(0, 0, 128, 0.5)\",\"line\":{\"color\":\"rgba(0, 0, 128, 0.5)\"},\"type\":\"circle\",\"x0\":11.859152116285362,\"x1\":12.25915211628536,\"xref\":\"x\",\"y0\":9.458316149360984,\"y1\":9.858316149360983,\"yref\":\"y\"},{\"fillcolor\":\"rgba(0, 132, 255, 0.5)\",\"line\":{\"color\":\"rgba(0, 132, 255, 0.5)\"},\"type\":\"circle\",\"x0\":7.299139494595906,\"x1\":7.699139494595906,\"xref\":\"x\",\"y0\":5.466075663420961,\"y1\":5.866075663420961,\"yref\":\"y\"},{\"fillcolor\":\"rgba(0, 0, 128, 0.5)\",\"line\":{\"color\":\"rgba(0, 0, 128, 0.5)\"},\"type\":\"circle\",\"x0\":11.247283729355344,\"x1\":11.647283729355342,\"xref\":\"x\",\"y0\":7.977218485459654,\"y1\":8.377218485459654,\"yref\":\"y\"},{\"line\":{\"color\":\"white\",\"width\":3},\"type\":\"line\",\"x0\":12.688337624458,\"x1\":12.764652378407089,\"y0\":11.178189786617434,\"y1\":11.363057464510813},{\"line\":{\"color\":\"black\",\"width\":3},\"type\":\"line\",\"x0\":7.250842169879898,\"x1\":7.3165255626814805,\"y0\":4.643182204240264,\"y1\":4.83208877350156},{\"line\":{\"color\":\"black\",\"width\":3},\"type\":\"line\",\"x0\":8.057871407974558,\"x1\":8.249147137943462,\"y0\":6.233997146693648,\"y1\":6.292423126573001},{\"line\":{\"color\":\"white\",\"width\":3},\"type\":\"line\",\"x0\":9.184442403742095,\"x1\":9.377826581103221,\"y0\":6.625949089733814,\"y1\":6.676964381033193},{\"line\":{\"color\":\"white\",\"width\":3},\"type\":\"line\",\"x0\":10.543837611280479,\"x1\":10.739393389794639,\"y0\":7.080857062944435,\"y1\":7.122784828085453},{\"line\":{\"color\":\"black\",\"width\":3},\"type\":\"line\",\"x0\":6.811979269718189,\"x1\":6.853423165614198,\"y0\":5.089716848612466,\"y1\":5.285375744379975},{\"line\":{\"color\":\"white\",\"width\":3},\"type\":\"line\",\"x0\":7.1779621901945125,\"x1\":7.341329884124732,\"y0\":6.169001286357713,\"y1\":6.284374578674099},{\"line\":{\"color\":\"white\",\"width\":3},\"type\":\"line\",\"x0\":12.059152116285361,\"x1\":12.136081063738871,\"y0\":9.658316149360983,\"y1\":9.842929087812477},{\"line\":{\"color\":\"white\",\"width\":3},\"type\":\"line\",\"x0\":7.499139494595906,\"x1\":7.5476597191942,\"y0\":5.666075663420961,\"y1\":5.860100888082424},{\"line\":{\"color\":\"white\",\"width\":3},\"type\":\"line\",\"x0\":11.447283729355343,\"x1\":11.52366701754977,\"y0\":8.177218485459655,\"y1\":8.362057857035646}],\"title\":{\"text\":\"\\u003cb\\u003ePercentage using the shortest path: 0%  |  Number of Agents: 10\\u003c\\u002fb\\u003e\",\"x\":0.5}},\"name\":\"600\"},{\"data\":[{\"hoverinfo\":\"name\",\"line\":{\"color\":\"grey\"},\"mode\":\"lines\",\"name\":\"Exterior\",\"showlegend\":false,\"x\":[10.1,10.1,15.0,15.0,13.6,13.6,15.0,15.0,13.6,13.6,15.0,15.0,10.1,10.1,9.9,9.9,5.1,5.1,4.9,4.9,0.0,0.0,1.5,1.5,0.0,0.0,1.5,1.5,0.0,0.0,4.9,4.9,5.1,5.1,9.9,9.9,10.1],\"y\":[1.5,0.0,0.0,4.9,4.9,5.1,5.1,9.9,9.9,10.1,10.1,15.0,15.0,13.6,13.6,15.0,15.0,13.6,13.6,15.0,15.0,10.1,10.1,9.9,9.9,5.1,5.1,4.9,4.9,0.0,0.0,1.5,1.5,0.0,0.0,1.5,1.5],\"type\":\"scatter\"},{\"hoverinfo\":\"name\",\"line\":{\"color\":\"grey\"},\"mode\":\"lines\",\"name\":\"Obstacle\",\"showlegend\":false,\"x\":[10.1,11.5,11.5,10.1,10.1,9.9,9.9,8.6,8.6,9.9,9.9,10.1,10.1],\"y\":[5.1,5.1,4.9,4.9,3.6,3.6,4.9,4.9,5.1,5.1,6.5,6.5,5.1],\"type\":\"scatter\"},{\"hoverinfo\":\"name\",\"line\":{\"color\":\"grey\"},\"mode\":\"lines\",\"name\":\"Obstacle\",\"showlegend\":false,\"x\":[10.1,11.5,11.5,10.1,10.1,9.9,9.9,8.6,8.6,9.9,9.9,10.1,10.1],\"y\":[10.1,10.1,9.9,9.9,8.6,8.6,9.9,9.9,10.1,10.1,11.5,11.5,10.1],\"type\":\"scatter\"},{\"hoverinfo\":\"name\",\"line\":{\"color\":\"grey\"},\"mode\":\"lines\",\"name\":\"Obstacle\",\"showlegend\":false,\"x\":[5.1,6.4,6.4,5.1,5.1,4.9,4.9,3.6,3.6,4.9,4.9,5.1,5.1],\"y\":[5.1,5.1,4.9,4.9,3.6,3.6,4.9,4.9,5.1,5.1,6.5,6.5,5.1],\"type\":\"scatter\"},{\"hoverinfo\":\"name\",\"line\":{\"color\":\"grey\"},\"mode\":\"lines\",\"name\":\"Obstacle\",\"showlegend\":false,\"x\":[5.1,6.4,6.4,5.1,5.1,4.9,4.9,3.6,3.6,4.9,4.9,5.1,5.1],\"y\":[10.1,10.1,9.9,9.9,8.6,8.6,9.9,9.9,10.1,10.1,11.5,11.5,10.1],\"type\":\"scatter\"},{\"fill\":\"toself\",\"fillcolor\":\"rgba(200, 0, 0, 0.40)\",\"hoverinfo\":\"name\",\"line\":{\"width\":0},\"mode\":\"lines\",\"name\":\"Risk Area\",\"showlegend\":false,\"x\":[0.0,5.0,5.0,0.0,0.0],\"y\":[0.0,0.0,5.0,5.0,0.0],\"type\":\"scatter\"},{\"fill\":\"toself\",\"fillcolor\":\"rgba(200, 0, 0, 0.10)\",\"hoverinfo\":\"name\",\"line\":{\"width\":0},\"mode\":\"lines\",\"name\":\"Risk Area\",\"showlegend\":false,\"x\":[5.0,10.0,10.0,5.0,5.0],\"y\":[0.0,0.0,5.0,5.0,0.0],\"type\":\"scatter\"},{\"fill\":\"toself\",\"fillcolor\":\"rgba(200, 0, 0, 0.10)\",\"hoverinfo\":\"name\",\"line\":{\"width\":0},\"mode\":\"lines\",\"name\":\"Risk Area\",\"showlegend\":false,\"x\":[10.0,15.0,15.0,10.0,10.0],\"y\":[0.0,0.0,5.0,5.0,0.0],\"type\":\"scatter\"},{\"fill\":\"toself\",\"fillcolor\":\"rgba(200, 0, 0, 0.00)\",\"hoverinfo\":\"name\",\"line\":{\"width\":0},\"mode\":\"lines\",\"name\":\"Risk Area\",\"showlegend\":false,\"x\":[10.0,15.0,15.0,10.0,10.0],\"y\":[5.0,5.0,10.0,10.0,5.0],\"type\":\"scatter\"},{\"fill\":\"toself\",\"fillcolor\":\"rgba(200, 0, 0, 0.50)\",\"hoverinfo\":\"name\",\"line\":{\"width\":0},\"mode\":\"lines\",\"name\":\"Risk Area\",\"showlegend\":false,\"x\":[5.0,10.0,10.0,5.0,5.0],\"y\":[5.0,5.0,10.0,10.0,5.0],\"type\":\"scatter\"},{\"fill\":\"toself\",\"fillcolor\":\"rgba(200, 0, 0, 0.10)\",\"hoverinfo\":\"name\",\"line\":{\"width\":0},\"mode\":\"lines\",\"name\":\"Risk Area\",\"showlegend\":false,\"x\":[0.0,5.0,5.0,0.0,0.0],\"y\":[5.0,5.0,10.0,10.0,5.0],\"type\":\"scatter\"},{\"fill\":\"toself\",\"fillcolor\":\"rgba(200, 0, 0, 0.00)\",\"hoverinfo\":\"name\",\"line\":{\"width\":0},\"mode\":\"lines\",\"name\":\"Risk Area\",\"showlegend\":false,\"x\":[0.0,5.0,5.0,0.0,0.0],\"y\":[10.0,10.0,15.0,15.0,10.0],\"type\":\"scatter\"},{\"fill\":\"toself\",\"fillcolor\":\"rgba(200, 0, 0, 0.20)\",\"hoverinfo\":\"name\",\"line\":{\"width\":0},\"mode\":\"lines\",\"name\":\"Risk Area\",\"showlegend\":false,\"x\":[5.0,10.0,10.0,5.0,5.0],\"y\":[10.0,10.0,15.0,15.0,10.0],\"type\":\"scatter\"},{\"fill\":\"toself\",\"fillcolor\":\"rgba(200, 0, 0, 0.00)\",\"hoverinfo\":\"name\",\"line\":{\"width\":0},\"mode\":\"lines\",\"name\":\"Risk Area\",\"showlegend\":false,\"x\":[10.0,15.0,15.0,10.0,10.0],\"y\":[10.0,10.0,15.0,15.0,10.0],\"type\":\"scatter\"},{\"hoverinfo\":\"text\",\"marker\":{\"opacity\":1,\"size\":1},\"mode\":\"markers\",\"showlegend\":false,\"text\":[\"ID: 61, Pos(13.15,12.29)\"],\"x\":[13.146226141157765],\"y\":[12.287395856865198],\"type\":\"scatter\"},{\"hoverinfo\":\"text\",\"marker\":{\"opacity\":1,\"size\":1},\"mode\":\"markers\",\"showlegend\":false,\"text\":[\"ID: 62, Pos(7.34,5.18)\"],\"x\":[7.340033573906016],\"y\":[5.182652633216831],\"type\":\"scatter\"},{\"hoverinfo\":\"text\",\"marker\":{\"opacity\":1,\"size\":1},\"mode\":\"markers\",\"showlegend\":false,\"text\":[\"ID: 63, Pos(8.91,6.47)\"],\"x\":[8.914024245134472],\"y\":[6.471229903917264],\"type\":\"scatter\"},{\"hoverinfo\":\"text\",\"marker\":{\"opacity\":1,\"size\":1},\"mode\":\"markers\",\"showlegend\":false,\"text\":[\"ID: 64, Pos(10.17,7.00)\"],\"x\":[10.17254902946107],\"y\":[6.998539629805892],\"type\":\"scatter\"},{\"hoverinfo\":\"text\",\"marker\":{\"opacity\":1,\"size\":1},\"mode\":\"markers\",\"showlegend\":false,\"text\":[\"ID: 65, Pos(11.30,7.82)\"],\"x\":[11.298627946245132],\"y\":[7.82005990881358],\"type\":\"scatter\"},{\"hoverinfo\":\"text\",\"marker\":{\"opacity\":1,\"size\":1},\"mode\":\"markers\",\"showlegend\":false,\"text\":[\"ID: 66, Pos(6.95,6.12)\"],\"x\":[6.954314735308847],\"y\":[6.115475772943457],\"type\":\"scatter\"},{\"hoverinfo\":\"text\",\"marker\":{\"opacity\":1,\"size\":1},\"mode\":\"markers\",\"showlegend\":false,\"text\":[\"ID: 67, Pos(7.98,6.60)\"],\"x\":[7.976661834268123],\"y\":[6.601675333562101],\"type\":\"scatter\"},{\"hoverinfo\":\"text\",\"marker\":{\"opacity\":1,\"size\":1},\"mode\":\"markers\",\"showlegend\":false,\"text\":[\"ID: 68, Pos(12.52,10.77)\"],\"x\":[12.517989428842954],\"y\":[10.767129409111124],\"type\":\"scatter\"},{\"hoverinfo\":\"text\",\"marker\":{\"opacity\":1,\"size\":1},\"mode\":\"markers\",\"showlegend\":false,\"text\":[\"ID: 69, Pos(7.57,6.00)\"],\"x\":[7.566340291378325],\"y\":[5.999960770602908],\"type\":\"scatter\"},{\"hoverinfo\":\"text\",\"marker\":{\"opacity\":1,\"size\":1},\"mode\":\"markers\",\"showlegend\":false,\"text\":[\"ID: 70, Pos(11.91,9.29)\"],\"x\":[11.905567698555966],\"y\":[9.28626122689068],\"type\":\"scatter\"}],\"layout\":{\"shapes\":[{\"fillcolor\":\"rgba(0, 0, 128, 0.5)\",\"line\":{\"color\":\"rgba(0, 0, 128, 0.5)\"},\"type\":\"circle\",\"x0\":12.946226141157766,\"x1\":13.346226141157764,\"xref\":\"x\",\"y0\":12.087395856865198,\"y1\":12.487395856865197,\"yref\":\"y\"},{\"fillcolor\":\"rgba(255, 219, 0, 0.5)\",\"line\":{\"color\":\"rgba(255, 219, 0, 0.5)\"},\"type\":\"circle\",\"x0\":7.140033573906016,\"x1\":7.540033573906016,\"xref\":\"x\",\"y0\":4.982652633216831,\"y1\":5.382652633216831,\"yref\":\"y\"},{\"fillcolor\":\"rgba(0, 88, 255, 0.5)\",\"line\":{\"color\":\"rgba(0, 88, 255, 0.5)\"},\"type\":\"circle\",\"x0\":8.714024245134473,\"x1\":9.114024245134472,\"xref\":\"x\",\"y0\":6.271229903917264,\"y1\":6.671229903917264,\"yref\":\"y\"},{\"fillcolor\":\"rgba(0, 0, 132, 0.5)\",\"line\":{\"color\":\"rgba(0, 0, 132, 0.5)\"},\"type\":\"circle\",\"x0\":9.97254902946107,\"x1\":10.37254902946107,\"xref\":\"x\",\"y0\":6.798539629805892,\"y1\":7.198539629805892,\"yref\":\"y\"},{\"fillcolor\":\"rgba(0, 0, 141, 0.5)\",\"line\":{\"color\":\"rgba(0, 0, 141, 0.5)\"},\"type\":\"circle\",\"x0\":11.098627946245132,\"x1\":11.498627946245131,\"xref\":\"x\",\"y0\":7.620059908813579,\"y1\":8.020059908813579,\"yref\":\"y\"},{\"fillcolor\":\"rgba(255, 189, 0, 0.5)\",\"line\":{\"color\":\"rgba(255, 189, 0, 0.5)\"},\"type\":\"circle\",\"x0\":6.754314735308847,\"x1\":7.154314735308847,\"xref\":\"x\",\"y0\":5.915475772943457,\"y1\":6.315475772943457,\"yref\":\"y\"},{\"fillcolor\":\"rgba(199, 255, 48, 0.5)\",\"line\":{\"color\":\"rgba(199, 255, 48, 0.5)\"},\"type\":\"circle\",\"x0\":7.776661834268123,\"x1\":8.176661834268122,\"xref\":\"x\",\"y0\":6.401675333562101,\"y1\":6.801675333562101,\"yref\":\"y\"},{\"fillcolor\":\"rgba(0, 0, 128, 0.5)\",\"line\":{\"color\":\"rgba(0, 0, 128, 0.5)\"},\"type\":\"circle\",\"x0\":12.317989428842955,\"x1\":12.717989428842953,\"xref\":\"x\",\"y0\":10.567129409111125,\"y1\":10.967129409111124,\"yref\":\"y\"},{\"fillcolor\":\"rgba(180, 255, 67, 0.5)\",\"line\":{\"color\":\"rgba(180, 255, 67, 0.5)\"},\"type\":\"circle\",\"x0\":7.366340291378325,\"x1\":7.7663402913783255,\"xref\":\"x\",\"y0\":5.799960770602908,\"y1\":6.1999607706029085,\"yref\":\"y\"},{\"fillcolor\":\"rgba(0, 0, 128, 0.5)\",\"line\":{\"color\":\"rgba(0, 0, 128, 0.5)\"},\"type\":\"circle\",\"x0\":11.705567698555967,\"x1\":12.105567698555966,\"xref\":\"x\",\"y0\":9.08626122689068,\"y1\":9.48626122689068,\"yref\":\"y\"},{\"line\":{\"color\":\"white\",\"width\":3},\"type\":\"line\",\"x0\":13.146226141157765,\"x1\":13.22254089344218,\"y0\":12.287395856865198,\"y1\":12.472263535445766},{\"line\":{\"color\":\"black\",\"width\":3},\"type\":\"line\",\"x0\":7.340033573906016,\"x1\":7.353127174073093,\"y0\":5.182652633216831,\"y1\":5.382223567059073},{\"line\":{\"color\":\"white\",\"width\":3},\"type\":\"line\",\"x0\":8.914024245134472,\"x1\":9.106517633597967,\"y0\":6.471229903917264,\"y1\":6.525509692032564},{\"line\":{\"color\":\"white\",\"width\":3},\"type\":\"line\",\"x0\":10.17254902946107,\"x1\":10.366949006564086,\"y0\":6.998539629805892,\"y1\":7.0455358945760524},{\"line\":{\"color\":\"white\",\"width\":3},\"type\":\"line\",\"x0\":11.298627946245132,\"x1\":11.375046647872535,\"y0\":7.82005990881358,\"y1\":8.004884642119439},{\"line\":{\"color\":\"black\",\"width\":3},\"type\":\"line\",\"x0\":6.954314735308847,\"x1\":7.13801126372482,\"y0\":6.115475772943457,\"y1\":6.194568032033202},{\"line\":{\"color\":\"black\",\"width\":3},\"type\":\"line\",\"x0\":7.976661834268123,\"x1\":8.169686917541409,\"y0\":6.601675333562101,\"y1\":6.654032923530905},{\"line\":{\"color\":\"white\",\"width\":3},\"type\":\"line\",\"x0\":12.517989428842954,\"x1\":12.594339096489769,\"y0\":10.767129409111124,\"y1\":10.951982670511136},{\"line\":{\"color\":\"black\",\"width\":3},\"type\":\"line\",\"x0\":7.566340291378325,\"x1\":7.606112883368234,\"y0\":5.999960770602908,\"y1\":6.195966232073767},{\"line\":{\"color\":\"white\",\"width\":3},\"type\":\"line\",\"x0\":11.905567698555966,\"x1\":11.981977179465812,\"y0\":9.28626122689068,\"y1\":9.47108977237835}],\"title\":{\"text\":\"\\u003cb\\u003ePercentage using the shortest path: 0%  |  Number of Agents: 10\\u003c\\u002fb\\u003e\",\"x\":0.5}},\"name\":\"650\"},{\"data\":[{\"hoverinfo\":\"name\",\"line\":{\"color\":\"grey\"},\"mode\":\"lines\",\"name\":\"Exterior\",\"showlegend\":false,\"x\":[10.1,10.1,15.0,15.0,13.6,13.6,15.0,15.0,13.6,13.6,15.0,15.0,10.1,10.1,9.9,9.9,5.1,5.1,4.9,4.9,0.0,0.0,1.5,1.5,0.0,0.0,1.5,1.5,0.0,0.0,4.9,4.9,5.1,5.1,9.9,9.9,10.1],\"y\":[1.5,0.0,0.0,4.9,4.9,5.1,5.1,9.9,9.9,10.1,10.1,15.0,15.0,13.6,13.6,15.0,15.0,13.6,13.6,15.0,15.0,10.1,10.1,9.9,9.9,5.1,5.1,4.9,4.9,0.0,0.0,1.5,1.5,0.0,0.0,1.5,1.5],\"type\":\"scatter\"},{\"hoverinfo\":\"name\",\"line\":{\"color\":\"grey\"},\"mode\":\"lines\",\"name\":\"Obstacle\",\"showlegend\":false,\"x\":[10.1,11.5,11.5,10.1,10.1,9.9,9.9,8.6,8.6,9.9,9.9,10.1,10.1],\"y\":[5.1,5.1,4.9,4.9,3.6,3.6,4.9,4.9,5.1,5.1,6.5,6.5,5.1],\"type\":\"scatter\"},{\"hoverinfo\":\"name\",\"line\":{\"color\":\"grey\"},\"mode\":\"lines\",\"name\":\"Obstacle\",\"showlegend\":false,\"x\":[10.1,11.5,11.5,10.1,10.1,9.9,9.9,8.6,8.6,9.9,9.9,10.1,10.1],\"y\":[10.1,10.1,9.9,9.9,8.6,8.6,9.9,9.9,10.1,10.1,11.5,11.5,10.1],\"type\":\"scatter\"},{\"hoverinfo\":\"name\",\"line\":{\"color\":\"grey\"},\"mode\":\"lines\",\"name\":\"Obstacle\",\"showlegend\":false,\"x\":[5.1,6.4,6.4,5.1,5.1,4.9,4.9,3.6,3.6,4.9,4.9,5.1,5.1],\"y\":[5.1,5.1,4.9,4.9,3.6,3.6,4.9,4.9,5.1,5.1,6.5,6.5,5.1],\"type\":\"scatter\"},{\"hoverinfo\":\"name\",\"line\":{\"color\":\"grey\"},\"mode\":\"lines\",\"name\":\"Obstacle\",\"showlegend\":false,\"x\":[5.1,6.4,6.4,5.1,5.1,4.9,4.9,3.6,3.6,4.9,4.9,5.1,5.1],\"y\":[10.1,10.1,9.9,9.9,8.6,8.6,9.9,9.9,10.1,10.1,11.5,11.5,10.1],\"type\":\"scatter\"},{\"fill\":\"toself\",\"fillcolor\":\"rgba(200, 0, 0, 0.40)\",\"hoverinfo\":\"name\",\"line\":{\"width\":0},\"mode\":\"lines\",\"name\":\"Risk Area\",\"showlegend\":false,\"x\":[0.0,5.0,5.0,0.0,0.0],\"y\":[0.0,0.0,5.0,5.0,0.0],\"type\":\"scatter\"},{\"fill\":\"toself\",\"fillcolor\":\"rgba(200, 0, 0, 0.10)\",\"hoverinfo\":\"name\",\"line\":{\"width\":0},\"mode\":\"lines\",\"name\":\"Risk Area\",\"showlegend\":false,\"x\":[5.0,10.0,10.0,5.0,5.0],\"y\":[0.0,0.0,5.0,5.0,0.0],\"type\":\"scatter\"},{\"fill\":\"toself\",\"fillcolor\":\"rgba(200, 0, 0, 0.10)\",\"hoverinfo\":\"name\",\"line\":{\"width\":0},\"mode\":\"lines\",\"name\":\"Risk Area\",\"showlegend\":false,\"x\":[10.0,15.0,15.0,10.0,10.0],\"y\":[0.0,0.0,5.0,5.0,0.0],\"type\":\"scatter\"},{\"fill\":\"toself\",\"fillcolor\":\"rgba(200, 0, 0, 0.00)\",\"hoverinfo\":\"name\",\"line\":{\"width\":0},\"mode\":\"lines\",\"name\":\"Risk Area\",\"showlegend\":false,\"x\":[10.0,15.0,15.0,10.0,10.0],\"y\":[5.0,5.0,10.0,10.0,5.0],\"type\":\"scatter\"},{\"fill\":\"toself\",\"fillcolor\":\"rgba(200, 0, 0, 0.60)\",\"hoverinfo\":\"name\",\"line\":{\"width\":0},\"mode\":\"lines\",\"name\":\"Risk Area\",\"showlegend\":false,\"x\":[5.0,10.0,10.0,5.0,5.0],\"y\":[5.0,5.0,10.0,10.0,5.0],\"type\":\"scatter\"},{\"fill\":\"toself\",\"fillcolor\":\"rgba(200, 0, 0, 0.10)\",\"hoverinfo\":\"name\",\"line\":{\"width\":0},\"mode\":\"lines\",\"name\":\"Risk Area\",\"showlegend\":false,\"x\":[0.0,5.0,5.0,0.0,0.0],\"y\":[5.0,5.0,10.0,10.0,5.0],\"type\":\"scatter\"},{\"fill\":\"toself\",\"fillcolor\":\"rgba(200, 0, 0, 0.00)\",\"hoverinfo\":\"name\",\"line\":{\"width\":0},\"mode\":\"lines\",\"name\":\"Risk Area\",\"showlegend\":false,\"x\":[0.0,5.0,5.0,0.0,0.0],\"y\":[10.0,10.0,15.0,15.0,10.0],\"type\":\"scatter\"},{\"fill\":\"toself\",\"fillcolor\":\"rgba(200, 0, 0, 0.20)\",\"hoverinfo\":\"name\",\"line\":{\"width\":0},\"mode\":\"lines\",\"name\":\"Risk Area\",\"showlegend\":false,\"x\":[5.0,10.0,10.0,5.0,5.0],\"y\":[10.0,10.0,15.0,15.0,10.0],\"type\":\"scatter\"},{\"fill\":\"toself\",\"fillcolor\":\"rgba(200, 0, 0, 0.00)\",\"hoverinfo\":\"name\",\"line\":{\"width\":0},\"mode\":\"lines\",\"name\":\"Risk Area\",\"showlegend\":false,\"x\":[10.0,15.0,15.0,10.0,10.0],\"y\":[10.0,10.0,15.0,15.0,10.0],\"type\":\"scatter\"},{\"hoverinfo\":\"text\",\"marker\":{\"opacity\":1,\"size\":1},\"mode\":\"markers\",\"showlegend\":false,\"text\":[\"ID: 62.0, Pos(7.37,5.58)\"],\"x\":[7.369104608094798],\"y\":[5.578800001857039],\"type\":\"scatter\"},{\"hoverinfo\":\"text\",\"marker\":{\"opacity\":1,\"size\":1},\"mode\":\"markers\",\"showlegend\":false,\"text\":[\"ID: 63.0, Pos(9.86,6.90)\"],\"x\":[9.8621725279151],\"y\":[6.897709823302002],\"type\":\"scatter\"},{\"hoverinfo\":\"text\",\"marker\":{\"opacity\":1,\"size\":1},\"mode\":\"markers\",\"showlegend\":false,\"text\":[\"ID: 64.0, Pos(11.15,7.47)\"],\"x\":[11.152587127437322],\"y\":[7.471273462970479],\"type\":\"scatter\"},{\"hoverinfo\":\"text\",\"marker\":{\"opacity\":1,\"size\":1},\"mode\":\"markers\",\"showlegend\":false,\"text\":[\"ID: 65.0, Pos(11.75,8.92)\"],\"x\":[11.753908986013405],\"y\":[8.921342465908817],\"type\":\"scatter\"},{\"hoverinfo\":\"text\",\"marker\":{\"opacity\":1,\"size\":1},\"mode\":\"markers\",\"showlegend\":false,\"text\":[\"ID: 66.0, Pos(7.51,6.30)\"],\"x\":[7.5128093508506275],\"y\":[6.299133367961185],\"type\":\"scatter\"},{\"hoverinfo\":\"text\",\"marker\":{\"opacity\":1,\"size\":1},\"mode\":\"markers\",\"showlegend\":false,\"text\":[\"ID: 67.0, Pos(8.73,6.84)\"],\"x\":[8.729221372768336],\"y\":[6.836819950663576],\"type\":\"scatter\"},{\"hoverinfo\":\"text\",\"marker\":{\"opacity\":1,\"size\":1},\"mode\":\"markers\",\"showlegend\":false,\"text\":[\"ID: 68.0, Pos(12.98,11.88)\"],\"x\":[12.976087422134068],\"y\":[11.876248982711124],\"type\":\"scatter\"},{\"hoverinfo\":\"text\",\"marker\":{\"opacity\":1,\"size\":1},\"mode\":\"markers\",\"showlegend\":false,\"text\":[\"ID: 69.0, Pos(8.60,6.20)\"],\"x\":[8.598420571552529],\"y\":[6.203112438751828],\"type\":\"scatter\"},{\"hoverinfo\":\"text\",\"marker\":{\"opacity\":1,\"size\":1},\"mode\":\"markers\",\"showlegend\":false,\"text\":[\"ID: 70.0, Pos(12.36,10.39)\"],\"x\":[12.364851118728902],\"y\":[10.394889699256009],\"type\":\"scatter\"},{\"hoverinfo\":\"none\",\"marker\":{\"opacity\":0,\"size\":1},\"mode\":\"markers\",\"showlegend\":false,\"x\":[0.0],\"y\":[0.0],\"type\":\"scatter\"}],\"layout\":{\"shapes\":[{\"fillcolor\":\"rgba(255, 119, 0, 0.5)\",\"line\":{\"color\":\"rgba(255, 119, 0, 0.5)\"},\"type\":\"circle\",\"x0\":7.1691046080947975,\"x1\":7.569104608094798,\"xref\":\"x\",\"y0\":5.378800001857039,\"y1\":5.778800001857039,\"yref\":\"y\"},{\"fillcolor\":\"rgba(0, 45, 255, 0.5)\",\"line\":{\"color\":\"rgba(0, 45, 255, 0.5)\"},\"type\":\"circle\",\"x0\":9.6621725279151,\"x1\":10.062172527915099,\"xref\":\"x\",\"y0\":6.697709823302002,\"y1\":7.097709823302003,\"yref\":\"y\"},{\"fillcolor\":\"rgba(0, 0, 159, 0.5)\",\"line\":{\"color\":\"rgba(0, 0, 159, 0.5)\"},\"type\":\"circle\",\"x0\":10.952587127437322,\"x1\":11.352587127437321,\"xref\":\"x\",\"y0\":7.271273462970479,\"y1\":7.671273462970479,\"yref\":\"y\"},{\"fillcolor\":\"rgba(0, 0, 132, 0.5)\",\"line\":{\"color\":\"rgba(0, 0, 132, 0.5)\"},\"type\":\"circle\",\"x0\":11.553908986013406,\"x1\":11.953908986013404,\"xref\":\"x\",\"y0\":8.721342465908817,\"y1\":9.121342465908816,\"yref\":\"y\"},{\"fillcolor\":\"rgba(0, 120, 255, 0.5)\",\"line\":{\"color\":\"rgba(0, 120, 255, 0.5)\"},\"type\":\"circle\",\"x0\":7.312809350850627,\"x1\":7.712809350850628,\"xref\":\"x\",\"y0\":6.099133367961185,\"y1\":6.499133367961186,\"yref\":\"y\"},{\"fillcolor\":\"rgba(60, 255, 186, 0.5)\",\"line\":{\"color\":\"rgba(60, 255, 186, 0.5)\"},\"type\":\"circle\",\"x0\":8.529221372768337,\"x1\":8.929221372768335,\"xref\":\"x\",\"y0\":6.636819950663575,\"y1\":7.036819950663576,\"yref\":\"y\"},{\"fillcolor\":\"rgba(0, 0, 128, 0.5)\",\"line\":{\"color\":\"rgba(0, 0, 128, 0.5)\"},\"type\":\"circle\",\"x0\":12.776087422134069,\"x1\":13.176087422134067,\"xref\":\"x\",\"y0\":11.676248982711124,\"y1\":12.076248982711123,\"yref\":\"y\"},{\"fillcolor\":\"rgba(0, 0, 128, 0.5)\",\"line\":{\"color\":\"rgba(0, 0, 128, 0.5)\"},\"type\":\"circle\",\"x0\":8.39842057155253,\"x1\":8.798420571552528,\"xref\":\"x\",\"y0\":6.0031124387518275,\"y1\":6.403112438751828,\"yref\":\"y\"},{\"fillcolor\":\"rgba(0, 0, 128, 0.5)\",\"line\":{\"color\":\"rgba(0, 0, 128, 0.5)\"},\"type\":\"circle\",\"x0\":12.164851118728903,\"x1\":12.564851118728901,\"xref\":\"x\",\"y0\":10.19488969925601,\"y1\":10.594889699256008,\"yref\":\"y\"},{\"fillcolor\":\"rgba(255,255,255,0)\",\"line\":{\"width\":0},\"type\":\"circle\",\"x0\":0.0,\"x1\":0.0,\"xref\":\"x\",\"y0\":0.0,\"y1\":0.0,\"yref\":\"y\"},{\"line\":{\"color\":\"black\",\"width\":3},\"type\":\"line\",\"x0\":7.369104608094798,\"x1\":7.380180761331337,\"y0\":5.578800001857039,\"y1\":5.778493063402704},{\"line\":{\"color\":\"white\",\"width\":3},\"type\":\"line\",\"x0\":9.8621725279151,\"x1\":10.043783538250636,\"y0\":6.897709823302002,\"y1\":6.9814799905747575},{\"line\":{\"color\":\"white\",\"width\":3},\"type\":\"line\",\"x0\":11.152587127437322,\"x1\":11.229053625121809,\"y0\":7.471273462970479,\"y1\":7.656078427005183},{\"line\":{\"color\":\"white\",\"width\":3},\"type\":\"line\",\"x0\":11.753908986013405,\"x1\":11.830314913353787,\"y0\":8.921342465908817,\"y1\":9.106172480428256},{\"line\":{\"color\":\"white\",\"width\":3},\"type\":\"line\",\"x0\":7.5128093508506275,\"x1\":7.702780767932295,\"y0\":6.299133367961185,\"y1\":6.361670242619127},{\"line\":{\"color\":\"black\",\"width\":3},\"type\":\"line\",\"x0\":8.729221372768336,\"x1\":8.916349757720566,\"y0\":6.836819950663576,\"y1\":6.9074100883966185},{\"line\":{\"color\":\"white\",\"width\":3},\"type\":\"line\",\"x0\":12.976087422134068,\"x1\":13.052437087233024,\"y0\":11.876248982711124,\"y1\":12.061102245163474},{\"line\":{\"color\":\"white\",\"width\":3},\"type\":\"line\",\"x0\":8.598420571552529,\"x1\":8.795620416130141,\"y0\":6.203112438751828,\"y1\":6.236462420739309},{\"line\":{\"color\":\"white\",\"width\":3},\"type\":\"line\",\"x0\":12.364851118728902,\"x1\":12.441173233759681,\"y0\":10.394889699256009,\"y1\":10.579754338268527},{\"line\":{\"color\":\"rgba(255,255,255,0)\",\"width\":3},\"type\":\"line\",\"x0\":0.0,\"x1\":null,\"y0\":0.0,\"y1\":null}],\"title\":{\"text\":\"\\u003cb\\u003ePercentage using the shortest path: 0%  |  Number of Agents: 9\\u003c\\u002fb\\u003e\",\"x\":0.5}},\"name\":\"700\"},{\"data\":[{\"hoverinfo\":\"name\",\"line\":{\"color\":\"grey\"},\"mode\":\"lines\",\"name\":\"Exterior\",\"showlegend\":false,\"x\":[10.1,10.1,15.0,15.0,13.6,13.6,15.0,15.0,13.6,13.6,15.0,15.0,10.1,10.1,9.9,9.9,5.1,5.1,4.9,4.9,0.0,0.0,1.5,1.5,0.0,0.0,1.5,1.5,0.0,0.0,4.9,4.9,5.1,5.1,9.9,9.9,10.1],\"y\":[1.5,0.0,0.0,4.9,4.9,5.1,5.1,9.9,9.9,10.1,10.1,15.0,15.0,13.6,13.6,15.0,15.0,13.6,13.6,15.0,15.0,10.1,10.1,9.9,9.9,5.1,5.1,4.9,4.9,0.0,0.0,1.5,1.5,0.0,0.0,1.5,1.5],\"type\":\"scatter\"},{\"hoverinfo\":\"name\",\"line\":{\"color\":\"grey\"},\"mode\":\"lines\",\"name\":\"Obstacle\",\"showlegend\":false,\"x\":[10.1,11.5,11.5,10.1,10.1,9.9,9.9,8.6,8.6,9.9,9.9,10.1,10.1],\"y\":[5.1,5.1,4.9,4.9,3.6,3.6,4.9,4.9,5.1,5.1,6.5,6.5,5.1],\"type\":\"scatter\"},{\"hoverinfo\":\"name\",\"line\":{\"color\":\"grey\"},\"mode\":\"lines\",\"name\":\"Obstacle\",\"showlegend\":false,\"x\":[10.1,11.5,11.5,10.1,10.1,9.9,9.9,8.6,8.6,9.9,9.9,10.1,10.1],\"y\":[10.1,10.1,9.9,9.9,8.6,8.6,9.9,9.9,10.1,10.1,11.5,11.5,10.1],\"type\":\"scatter\"},{\"hoverinfo\":\"name\",\"line\":{\"color\":\"grey\"},\"mode\":\"lines\",\"name\":\"Obstacle\",\"showlegend\":false,\"x\":[5.1,6.4,6.4,5.1,5.1,4.9,4.9,3.6,3.6,4.9,4.9,5.1,5.1],\"y\":[5.1,5.1,4.9,4.9,3.6,3.6,4.9,4.9,5.1,5.1,6.5,6.5,5.1],\"type\":\"scatter\"},{\"hoverinfo\":\"name\",\"line\":{\"color\":\"grey\"},\"mode\":\"lines\",\"name\":\"Obstacle\",\"showlegend\":false,\"x\":[5.1,6.4,6.4,5.1,5.1,4.9,4.9,3.6,3.6,4.9,4.9,5.1,5.1],\"y\":[10.1,10.1,9.9,9.9,8.6,8.6,9.9,9.9,10.1,10.1,11.5,11.5,10.1],\"type\":\"scatter\"},{\"fill\":\"toself\",\"fillcolor\":\"rgba(200, 0, 0, 0.40)\",\"hoverinfo\":\"name\",\"line\":{\"width\":0},\"mode\":\"lines\",\"name\":\"Risk Area\",\"showlegend\":false,\"x\":[0.0,5.0,5.0,0.0,0.0],\"y\":[0.0,0.0,5.0,5.0,0.0],\"type\":\"scatter\"},{\"fill\":\"toself\",\"fillcolor\":\"rgba(200, 0, 0, 0.10)\",\"hoverinfo\":\"name\",\"line\":{\"width\":0},\"mode\":\"lines\",\"name\":\"Risk Area\",\"showlegend\":false,\"x\":[5.0,10.0,10.0,5.0,5.0],\"y\":[0.0,0.0,5.0,5.0,0.0],\"type\":\"scatter\"},{\"fill\":\"toself\",\"fillcolor\":\"rgba(200, 0, 0, 0.10)\",\"hoverinfo\":\"name\",\"line\":{\"width\":0},\"mode\":\"lines\",\"name\":\"Risk Area\",\"showlegend\":false,\"x\":[10.0,15.0,15.0,10.0,10.0],\"y\":[0.0,0.0,5.0,5.0,0.0],\"type\":\"scatter\"},{\"fill\":\"toself\",\"fillcolor\":\"rgba(200, 0, 0, 0.00)\",\"hoverinfo\":\"name\",\"line\":{\"width\":0},\"mode\":\"lines\",\"name\":\"Risk Area\",\"showlegend\":false,\"x\":[10.0,15.0,15.0,10.0,10.0],\"y\":[5.0,5.0,10.0,10.0,5.0],\"type\":\"scatter\"},{\"fill\":\"toself\",\"fillcolor\":\"rgba(200, 0, 0, 0.60)\",\"hoverinfo\":\"name\",\"line\":{\"width\":0},\"mode\":\"lines\",\"name\":\"Risk Area\",\"showlegend\":false,\"x\":[5.0,10.0,10.0,5.0,5.0],\"y\":[5.0,5.0,10.0,10.0,5.0],\"type\":\"scatter\"},{\"fill\":\"toself\",\"fillcolor\":\"rgba(200, 0, 0, 0.10)\",\"hoverinfo\":\"name\",\"line\":{\"width\":0},\"mode\":\"lines\",\"name\":\"Risk Area\",\"showlegend\":false,\"x\":[0.0,5.0,5.0,0.0,0.0],\"y\":[5.0,5.0,10.0,10.0,5.0],\"type\":\"scatter\"},{\"fill\":\"toself\",\"fillcolor\":\"rgba(200, 0, 0, 0.00)\",\"hoverinfo\":\"name\",\"line\":{\"width\":0},\"mode\":\"lines\",\"name\":\"Risk Area\",\"showlegend\":false,\"x\":[0.0,5.0,5.0,0.0,0.0],\"y\":[10.0,10.0,15.0,15.0,10.0],\"type\":\"scatter\"},{\"fill\":\"toself\",\"fillcolor\":\"rgba(200, 0, 0, 0.20)\",\"hoverinfo\":\"name\",\"line\":{\"width\":0},\"mode\":\"lines\",\"name\":\"Risk Area\",\"showlegend\":false,\"x\":[5.0,10.0,10.0,5.0,5.0],\"y\":[10.0,10.0,15.0,15.0,10.0],\"type\":\"scatter\"},{\"fill\":\"toself\",\"fillcolor\":\"rgba(200, 0, 0, 0.00)\",\"hoverinfo\":\"name\",\"line\":{\"width\":0},\"mode\":\"lines\",\"name\":\"Risk Area\",\"showlegend\":false,\"x\":[10.0,15.0,15.0,10.0,10.0],\"y\":[10.0,10.0,15.0,15.0,10.0],\"type\":\"scatter\"},{\"hoverinfo\":\"text\",\"marker\":{\"opacity\":1,\"size\":1},\"mode\":\"markers\",\"showlegend\":false,\"text\":[\"ID: 62.0, Pos(7.56,6.06)\"],\"x\":[7.562640978155852],\"y\":[6.0552840354460935],\"type\":\"scatter\"},{\"hoverinfo\":\"text\",\"marker\":{\"opacity\":1,\"size\":1},\"mode\":\"markers\",\"showlegend\":false,\"text\":[\"ID: 63.0, Pos(10.98,7.17)\"],\"x\":[10.9823934785271],\"y\":[7.1729753350286085],\"type\":\"scatter\"},{\"hoverinfo\":\"text\",\"marker\":{\"opacity\":1,\"size\":1},\"mode\":\"markers\",\"showlegend\":false,\"text\":[\"ID: 64.0, Pos(11.60,8.56)\"],\"x\":[11.603558117687117],\"y\":[8.561276807152066],\"type\":\"scatter\"},{\"hoverinfo\":\"text\",\"marker\":{\"opacity\":1,\"size\":1},\"mode\":\"markers\",\"showlegend\":false,\"text\":[\"ID: 65.0, Pos(12.21,10.03)\"],\"x\":[12.212288998624143],\"y\":[10.027040839580298],\"type\":\"scatter\"},{\"hoverinfo\":\"text\",\"marker\":{\"opacity\":1,\"size\":1},\"mode\":\"markers\",\"showlegend\":false,\"text\":[\"ID: 66.0, Pos(8.36,6.53)\"],\"x\":[8.35985891310515],\"y\":[6.527230444866318],\"type\":\"scatter\"},{\"hoverinfo\":\"text\",\"marker\":{\"opacity\":1,\"size\":1},\"mode\":\"markers\",\"showlegend\":false,\"text\":[\"ID: 67.0, Pos(9.62,7.16)\"],\"x\":[9.621649226974082],\"y\":[7.1647472596368855],\"type\":\"scatter\"},{\"hoverinfo\":\"text\",\"marker\":{\"opacity\":1,\"size\":1},\"mode\":\"markers\",\"showlegend\":false,\"text\":[\"ID: 69.0, Pos(9.57,6.52)\"],\"x\":[9.56879881670483],\"y\":[6.518632714233346],\"type\":\"scatter\"},{\"hoverinfo\":\"text\",\"marker\":{\"opacity\":1,\"size\":1},\"mode\":\"markers\",\"showlegend\":false,\"text\":[\"ID: 70.0, Pos(12.82,11.50)\"],\"x\":[12.822777838416854],\"y\":[11.504079998255552],\"type\":\"scatter\"},{\"hoverinfo\":\"none\",\"marker\":{\"opacity\":0,\"size\":1},\"mode\":\"markers\",\"showlegend\":false,\"x\":[0.0],\"y\":[0.0],\"type\":\"scatter\"},{\"hoverinfo\":\"none\",\"marker\":{\"opacity\":0,\"size\":1},\"mode\":\"markers\",\"showlegend\":false,\"x\":[0.0],\"y\":[0.0],\"type\":\"scatter\"}],\"layout\":{\"shapes\":[{\"fillcolor\":\"rgba(215, 255, 31, 0.5)\",\"line\":{\"color\":\"rgba(215, 255, 31, 0.5)\"},\"type\":\"circle\",\"x0\":7.362640978155852,\"x1\":7.7626409781558525,\"xref\":\"x\",\"y0\":5.855284035446093,\"y1\":6.255284035446094,\"yref\":\"y\"},{\"fillcolor\":\"rgba(0, 0, 250, 0.5)\",\"line\":{\"color\":\"rgba(0, 0, 250, 0.5)\"},\"type\":\"circle\",\"x0\":10.782393478527101,\"x1\":11.1823934785271,\"xref\":\"x\",\"y0\":6.972975335028608,\"y1\":7.372975335028609,\"yref\":\"y\"},{\"fillcolor\":\"rgba(0, 0, 137, 0.5)\",\"line\":{\"color\":\"rgba(0, 0, 137, 0.5)\"},\"type\":\"circle\",\"x0\":11.403558117687117,\"x1\":11.803558117687116,\"xref\":\"x\",\"y0\":8.361276807152066,\"y1\":8.761276807152065,\"yref\":\"y\"},{\"fillcolor\":\"rgba(0, 0, 128, 0.5)\",\"line\":{\"color\":\"rgba(0, 0, 128, 0.5)\"},\"type\":\"circle\",\"x0\":12.012288998624143,\"x1\":12.412288998624142,\"xref\":\"x\",\"y0\":9.827040839580299,\"y1\":10.227040839580297,\"yref\":\"y\"},{\"fillcolor\":\"rgba(2, 232, 244, 0.5)\",\"line\":{\"color\":\"rgba(2, 232, 244, 0.5)\"},\"type\":\"circle\",\"x0\":8.15985891310515,\"x1\":8.559858913105149,\"xref\":\"x\",\"y0\":6.327230444866318,\"y1\":6.7272304448663185,\"yref\":\"y\"},{\"fillcolor\":\"rgba(0, 0, 223, 0.5)\",\"line\":{\"color\":\"rgba(0, 0, 223, 0.5)\"},\"type\":\"circle\",\"x0\":9.421649226974083,\"x1\":9.821649226974081,\"xref\":\"x\",\"y0\":6.964747259636885,\"y1\":7.364747259636886,\"yref\":\"y\"},{\"fillcolor\":\"rgba(255, 100, 0, 0.5)\",\"line\":{\"color\":\"rgba(255, 100, 0, 0.5)\"},\"type\":\"circle\",\"x0\":9.36879881670483,\"x1\":9.768798816704829,\"xref\":\"x\",\"y0\":6.318632714233345,\"y1\":6.718632714233346,\"yref\":\"y\"},{\"fillcolor\":\"rgba(0, 0, 128, 0.5)\",\"line\":{\"color\":\"rgba(0, 0, 128, 0.5)\"},\"type\":\"circle\",\"x0\":12.622777838416855,\"x1\":13.022777838416854,\"xref\":\"x\",\"y0\":11.304079998255553,\"y1\":11.704079998255551,\"yref\":\"y\"},{\"fillcolor\":\"rgba(255,255,255,0)\",\"line\":{\"width\":0},\"type\":\"circle\",\"x0\":0.0,\"x1\":0.0,\"xref\":\"x\",\"y0\":0.0,\"y1\":0.0,\"yref\":\"y\"},{\"fillcolor\":\"rgba(255,255,255,0)\",\"line\":{\"width\":0},\"type\":\"circle\",\"x0\":0.0,\"x1\":0.0,\"xref\":\"x\",\"y0\":0.0,\"y1\":0.0,\"yref\":\"y\"},{\"line\":{\"color\":\"black\",\"width\":3},\"type\":\"line\",\"x0\":7.562640978155852,\"x1\":7.754783514486108,\"y0\":6.0552840354460935,\"y1\":6.110793005284999},{\"line\":{\"color\":\"white\",\"width\":3},\"type\":\"line\",\"x0\":10.9823934785271,\"x1\":11.177908204892816,\"y0\":7.1729753350286085,\"y1\":7.2150941167552896},{\"line\":{\"color\":\"white\",\"width\":3},\"type\":\"line\",\"x0\":11.603558117687117,\"x1\":11.680009950925049,\"y0\":8.561276807152066,\"y1\":8.746087838193395},{\"line\":{\"color\":\"white\",\"width\":3},\"type\":\"line\",\"x0\":12.212288998624143,\"x1\":12.288725419672184,\"y0\":10.027040839580298,\"y1\":10.211858245517528},{\"line\":{\"color\":\"black\",\"width\":3},\"type\":\"line\",\"x0\":8.35985891310515,\"x1\":8.554363253213241,\"y0\":6.527230444866318,\"y1\":6.573792894105118},{\"line\":{\"color\":\"white\",\"width\":3},\"type\":\"line\",\"x0\":9.621649226974082,\"x1\":9.811439358236894,\"y0\":7.1647472596368855,\"y1\":7.227832171265931},{\"line\":{\"color\":\"black\",\"width\":3},\"type\":\"line\",\"x0\":9.56879881670483,\"x1\":9.623409019624486,\"y0\":6.518632714233346,\"y1\":6.711032625192456},{\"line\":{\"color\":\"white\",\"width\":3},\"type\":\"line\",\"x0\":12.822777838416854,\"x1\":12.899098899199462,\"y0\":11.504079998255552,\"y1\":11.688945072515178},{\"line\":{\"color\":\"rgba(255,255,255,0)\",\"width\":3},\"type\":\"line\",\"x0\":0.0,\"x1\":null,\"y0\":0.0,\"y1\":null},{\"line\":{\"color\":\"rgba(255,255,255,0)\",\"width\":3},\"type\":\"line\",\"x0\":0.0,\"x1\":null,\"y0\":0.0,\"y1\":null}],\"title\":{\"text\":\"\\u003cb\\u003ePercentage using the shortest path: 0%  |  Number of Agents: 8\\u003c\\u002fb\\u003e\",\"x\":0.5}},\"name\":\"750\"},{\"data\":[{\"hoverinfo\":\"name\",\"line\":{\"color\":\"grey\"},\"mode\":\"lines\",\"name\":\"Exterior\",\"showlegend\":false,\"x\":[10.1,10.1,15.0,15.0,13.6,13.6,15.0,15.0,13.6,13.6,15.0,15.0,10.1,10.1,9.9,9.9,5.1,5.1,4.9,4.9,0.0,0.0,1.5,1.5,0.0,0.0,1.5,1.5,0.0,0.0,4.9,4.9,5.1,5.1,9.9,9.9,10.1],\"y\":[1.5,0.0,0.0,4.9,4.9,5.1,5.1,9.9,9.9,10.1,10.1,15.0,15.0,13.6,13.6,15.0,15.0,13.6,13.6,15.0,15.0,10.1,10.1,9.9,9.9,5.1,5.1,4.9,4.9,0.0,0.0,1.5,1.5,0.0,0.0,1.5,1.5],\"type\":\"scatter\"},{\"hoverinfo\":\"name\",\"line\":{\"color\":\"grey\"},\"mode\":\"lines\",\"name\":\"Obstacle\",\"showlegend\":false,\"x\":[10.1,11.5,11.5,10.1,10.1,9.9,9.9,8.6,8.6,9.9,9.9,10.1,10.1],\"y\":[5.1,5.1,4.9,4.9,3.6,3.6,4.9,4.9,5.1,5.1,6.5,6.5,5.1],\"type\":\"scatter\"},{\"hoverinfo\":\"name\",\"line\":{\"color\":\"grey\"},\"mode\":\"lines\",\"name\":\"Obstacle\",\"showlegend\":false,\"x\":[10.1,11.5,11.5,10.1,10.1,9.9,9.9,8.6,8.6,9.9,9.9,10.1,10.1],\"y\":[10.1,10.1,9.9,9.9,8.6,8.6,9.9,9.9,10.1,10.1,11.5,11.5,10.1],\"type\":\"scatter\"},{\"hoverinfo\":\"name\",\"line\":{\"color\":\"grey\"},\"mode\":\"lines\",\"name\":\"Obstacle\",\"showlegend\":false,\"x\":[5.1,6.4,6.4,5.1,5.1,4.9,4.9,3.6,3.6,4.9,4.9,5.1,5.1],\"y\":[5.1,5.1,4.9,4.9,3.6,3.6,4.9,4.9,5.1,5.1,6.5,6.5,5.1],\"type\":\"scatter\"},{\"hoverinfo\":\"name\",\"line\":{\"color\":\"grey\"},\"mode\":\"lines\",\"name\":\"Obstacle\",\"showlegend\":false,\"x\":[5.1,6.4,6.4,5.1,5.1,4.9,4.9,3.6,3.6,4.9,4.9,5.1,5.1],\"y\":[10.1,10.1,9.9,9.9,8.6,8.6,9.9,9.9,10.1,10.1,11.5,11.5,10.1],\"type\":\"scatter\"},{\"fill\":\"toself\",\"fillcolor\":\"rgba(200, 0, 0, 0.40)\",\"hoverinfo\":\"name\",\"line\":{\"width\":0},\"mode\":\"lines\",\"name\":\"Risk Area\",\"showlegend\":false,\"x\":[0.0,5.0,5.0,0.0,0.0],\"y\":[0.0,0.0,5.0,5.0,0.0],\"type\":\"scatter\"},{\"fill\":\"toself\",\"fillcolor\":\"rgba(200, 0, 0, 0.10)\",\"hoverinfo\":\"name\",\"line\":{\"width\":0},\"mode\":\"lines\",\"name\":\"Risk Area\",\"showlegend\":false,\"x\":[5.0,10.0,10.0,5.0,5.0],\"y\":[0.0,0.0,5.0,5.0,0.0],\"type\":\"scatter\"},{\"fill\":\"toself\",\"fillcolor\":\"rgba(200, 0, 0, 0.10)\",\"hoverinfo\":\"name\",\"line\":{\"width\":0},\"mode\":\"lines\",\"name\":\"Risk Area\",\"showlegend\":false,\"x\":[10.0,15.0,15.0,10.0,10.0],\"y\":[0.0,0.0,5.0,5.0,0.0],\"type\":\"scatter\"},{\"fill\":\"toself\",\"fillcolor\":\"rgba(200, 0, 0, 0.00)\",\"hoverinfo\":\"name\",\"line\":{\"width\":0},\"mode\":\"lines\",\"name\":\"Risk Area\",\"showlegend\":false,\"x\":[10.0,15.0,15.0,10.0,10.0],\"y\":[5.0,5.0,10.0,10.0,5.0],\"type\":\"scatter\"},{\"fill\":\"toself\",\"fillcolor\":\"rgba(200, 0, 0, 0.60)\",\"hoverinfo\":\"name\",\"line\":{\"width\":0},\"mode\":\"lines\",\"name\":\"Risk Area\",\"showlegend\":false,\"x\":[5.0,10.0,10.0,5.0,5.0],\"y\":[5.0,5.0,10.0,10.0,5.0],\"type\":\"scatter\"},{\"fill\":\"toself\",\"fillcolor\":\"rgba(200, 0, 0, 0.10)\",\"hoverinfo\":\"name\",\"line\":{\"width\":0},\"mode\":\"lines\",\"name\":\"Risk Area\",\"showlegend\":false,\"x\":[0.0,5.0,5.0,0.0,0.0],\"y\":[5.0,5.0,10.0,10.0,5.0],\"type\":\"scatter\"},{\"fill\":\"toself\",\"fillcolor\":\"rgba(200, 0, 0, 0.00)\",\"hoverinfo\":\"name\",\"line\":{\"width\":0},\"mode\":\"lines\",\"name\":\"Risk Area\",\"showlegend\":false,\"x\":[0.0,5.0,5.0,0.0,0.0],\"y\":[10.0,10.0,15.0,15.0,10.0],\"type\":\"scatter\"},{\"fill\":\"toself\",\"fillcolor\":\"rgba(200, 0, 0, 0.20)\",\"hoverinfo\":\"name\",\"line\":{\"width\":0},\"mode\":\"lines\",\"name\":\"Risk Area\",\"showlegend\":false,\"x\":[5.0,10.0,10.0,5.0,5.0],\"y\":[10.0,10.0,15.0,15.0,10.0],\"type\":\"scatter\"},{\"fill\":\"toself\",\"fillcolor\":\"rgba(200, 0, 0, 0.00)\",\"hoverinfo\":\"name\",\"line\":{\"width\":0},\"mode\":\"lines\",\"name\":\"Risk Area\",\"showlegend\":false,\"x\":[10.0,15.0,15.0,10.0,10.0],\"y\":[10.0,10.0,15.0,15.0,10.0],\"type\":\"scatter\"},{\"hoverinfo\":\"text\",\"marker\":{\"opacity\":1,\"size\":1},\"mode\":\"markers\",\"showlegend\":false,\"text\":[\"ID: 62.0, Pos(8.10,6.21)\"],\"x\":[8.096586491286839],\"y\":[6.2102759880869725],\"type\":\"scatter\"},{\"hoverinfo\":\"text\",\"marker\":{\"opacity\":1,\"size\":1},\"mode\":\"markers\",\"showlegend\":false,\"text\":[\"ID: 63.0, Pos(11.46,8.21)\"],\"x\":[11.458794504829934],\"y\":[8.207882791452489],\"type\":\"scatter\"},{\"hoverinfo\":\"text\",\"marker\":{\"opacity\":1,\"size\":1},\"mode\":\"markers\",\"showlegend\":false,\"text\":[\"ID: 64.0, Pos(12.06,9.66)\"],\"x\":[12.059531997336045],\"y\":[9.661962317355137],\"type\":\"scatter\"},{\"hoverinfo\":\"text\",\"marker\":{\"opacity\":1,\"size\":1},\"mode\":\"markers\",\"showlegend\":false,\"text\":[\"ID: 65.0, Pos(12.67,11.14)\"],\"x\":[12.670021921685219],\"y\":[11.135169531483522],\"type\":\"scatter\"},{\"hoverinfo\":\"text\",\"marker\":{\"opacity\":1,\"size\":1},\"mode\":\"markers\",\"showlegend\":false,\"text\":[\"ID: 66.0, Pos(8.91,6.66)\"],\"x\":[8.91228185106658],\"y\":[6.6593181878259164],\"type\":\"scatter\"},{\"hoverinfo\":\"text\",\"marker\":{\"opacity\":1,\"size\":1},\"mode\":\"markers\",\"showlegend\":false,\"text\":[\"ID: 67.0, Pos(10.61,7.33)\"],\"x\":[10.605308256756889],\"y\":[7.326296086210907],\"type\":\"scatter\"},{\"hoverinfo\":\"text\",\"marker\":{\"opacity\":1,\"size\":1},\"mode\":\"markers\",\"showlegend\":false,\"text\":[\"ID: 69.0, Pos(9.76,6.83)\"],\"x\":[9.755219563207785],\"y\":[6.832910339191234],\"type\":\"scatter\"},{\"hoverinfo\":\"none\",\"marker\":{\"opacity\":0,\"size\":1},\"mode\":\"markers\",\"showlegend\":false,\"x\":[0.0],\"y\":[0.0],\"type\":\"scatter\"},{\"hoverinfo\":\"none\",\"marker\":{\"opacity\":0,\"size\":1},\"mode\":\"markers\",\"showlegend\":false,\"x\":[0.0],\"y\":[0.0],\"type\":\"scatter\"},{\"hoverinfo\":\"none\",\"marker\":{\"opacity\":0,\"size\":1},\"mode\":\"markers\",\"showlegend\":false,\"x\":[0.0],\"y\":[0.0],\"type\":\"scatter\"}],\"layout\":{\"shapes\":[{\"fillcolor\":\"rgba(212, 255, 35, 0.5)\",\"line\":{\"color\":\"rgba(212, 255, 35, 0.5)\"},\"type\":\"circle\",\"x0\":7.896586491286839,\"x1\":8.296586491286838,\"xref\":\"x\",\"y0\":6.010275988086972,\"y1\":6.410275988086973,\"yref\":\"y\"},{\"fillcolor\":\"rgba(0, 0, 155, 0.5)\",\"line\":{\"color\":\"rgba(0, 0, 155, 0.5)\"},\"type\":\"circle\",\"x0\":11.258794504829934,\"x1\":11.658794504829933,\"xref\":\"x\",\"y0\":8.00788279145249,\"y1\":8.407882791452488,\"yref\":\"y\"},{\"fillcolor\":\"rgba(0, 0, 132, 0.5)\",\"line\":{\"color\":\"rgba(0, 0, 132, 0.5)\"},\"type\":\"circle\",\"x0\":11.859531997336045,\"x1\":12.259531997336044,\"xref\":\"x\",\"y0\":9.461962317355137,\"y1\":9.861962317355136,\"yref\":\"y\"},{\"fillcolor\":\"rgba(0, 0, 128, 0.5)\",\"line\":{\"color\":\"rgba(0, 0, 128, 0.5)\"},\"type\":\"circle\",\"x0\":12.47002192168522,\"x1\":12.870021921685218,\"xref\":\"x\",\"y0\":10.935169531483522,\"y1\":11.33516953148352,\"yref\":\"y\"},{\"fillcolor\":\"rgba(255, 226, 0, 0.5)\",\"line\":{\"color\":\"rgba(255, 226, 0, 0.5)\"},\"type\":\"circle\",\"x0\":8.712281851066582,\"x1\":9.11228185106658,\"xref\":\"x\",\"y0\":6.459318187825916,\"y1\":6.859318187825917,\"yref\":\"y\"},{\"fillcolor\":\"rgba(0, 0, 128, 0.5)\",\"line\":{\"color\":\"rgba(0, 0, 128, 0.5)\"},\"type\":\"circle\",\"x0\":10.40530825675689,\"x1\":10.805308256756888,\"xref\":\"x\",\"y0\":7.126296086210907,\"y1\":7.526296086210907,\"yref\":\"y\"},{\"fillcolor\":\"rgba(173, 255, 73, 0.5)\",\"line\":{\"color\":\"rgba(173, 255, 73, 0.5)\"},\"type\":\"circle\",\"x0\":9.555219563207785,\"x1\":9.955219563207784,\"xref\":\"x\",\"y0\":6.632910339191234,\"y1\":7.032910339191234,\"yref\":\"y\"},{\"fillcolor\":\"rgba(255,255,255,0)\",\"line\":{\"width\":0},\"type\":\"circle\",\"x0\":0.0,\"x1\":0.0,\"xref\":\"x\",\"y0\":0.0,\"y1\":0.0,\"yref\":\"y\"},{\"fillcolor\":\"rgba(255,255,255,0)\",\"line\":{\"width\":0},\"type\":\"circle\",\"x0\":0.0,\"x1\":0.0,\"xref\":\"x\",\"y0\":0.0,\"y1\":0.0,\"yref\":\"y\"},{\"fillcolor\":\"rgba(255,255,255,0)\",\"line\":{\"width\":0},\"type\":\"circle\",\"x0\":0.0,\"x1\":0.0,\"xref\":\"x\",\"y0\":0.0,\"y1\":0.0,\"yref\":\"y\"},{\"line\":{\"color\":\"black\",\"width\":3},\"type\":\"line\",\"x0\":8.096586491286839,\"x1\":8.288680151588531,\"y0\":6.2102759880869725,\"y1\":6.265953862255245},{\"line\":{\"color\":\"white\",\"width\":3},\"type\":\"line\",\"x0\":11.458794504829934,\"x1\":11.535251802479998,\"y0\":8.207882791452489,\"y1\":8.392691561904677},{\"line\":{\"color\":\"white\",\"width\":3},\"type\":\"line\",\"x0\":12.059531997336045,\"x1\":12.136517455796126,\"y0\":9.661962317355137,\"y1\":9.846551697292583},{\"line\":{\"color\":\"white\",\"width\":3},\"type\":\"line\",\"x0\":12.670021921685219,\"x1\":12.746370296860801,\"y0\":11.135169531483522,\"y1\":11.320023326705714},{\"line\":{\"color\":\"black\",\"width\":3},\"type\":\"line\",\"x0\":8.91228185106658,\"x1\":9.106811748809227,\"y0\":6.6593181878259164,\"y1\":6.705773745988916},{\"line\":{\"color\":\"white\",\"width\":3},\"type\":\"line\",\"x0\":10.605308256756889,\"x1\":10.804419595409835,\"y0\":7.326296086210907,\"y1\":7.345128898529615},{\"line\":{\"color\":\"black\",\"width\":3},\"type\":\"line\",\"x0\":9.755219563207785,\"x1\":9.916026599905793,\"y0\":6.832910339191234,\"y1\":6.951826683519529},{\"line\":{\"color\":\"rgba(255,255,255,0)\",\"width\":3},\"type\":\"line\",\"x0\":0.0,\"x1\":null,\"y0\":0.0,\"y1\":null},{\"line\":{\"color\":\"rgba(255,255,255,0)\",\"width\":3},\"type\":\"line\",\"x0\":0.0,\"x1\":null,\"y0\":0.0,\"y1\":null},{\"line\":{\"color\":\"rgba(255,255,255,0)\",\"width\":3},\"type\":\"line\",\"x0\":0.0,\"x1\":null,\"y0\":0.0,\"y1\":null}],\"title\":{\"text\":\"\\u003cb\\u003ePercentage using the shortest path: 0%  |  Number of Agents: 7\\u003c\\u002fb\\u003e\",\"x\":0.5}},\"name\":\"800\"},{\"data\":[{\"hoverinfo\":\"name\",\"line\":{\"color\":\"grey\"},\"mode\":\"lines\",\"name\":\"Exterior\",\"showlegend\":false,\"x\":[10.1,10.1,15.0,15.0,13.6,13.6,15.0,15.0,13.6,13.6,15.0,15.0,10.1,10.1,9.9,9.9,5.1,5.1,4.9,4.9,0.0,0.0,1.5,1.5,0.0,0.0,1.5,1.5,0.0,0.0,4.9,4.9,5.1,5.1,9.9,9.9,10.1],\"y\":[1.5,0.0,0.0,4.9,4.9,5.1,5.1,9.9,9.9,10.1,10.1,15.0,15.0,13.6,13.6,15.0,15.0,13.6,13.6,15.0,15.0,10.1,10.1,9.9,9.9,5.1,5.1,4.9,4.9,0.0,0.0,1.5,1.5,0.0,0.0,1.5,1.5],\"type\":\"scatter\"},{\"hoverinfo\":\"name\",\"line\":{\"color\":\"grey\"},\"mode\":\"lines\",\"name\":\"Obstacle\",\"showlegend\":false,\"x\":[10.1,11.5,11.5,10.1,10.1,9.9,9.9,8.6,8.6,9.9,9.9,10.1,10.1],\"y\":[5.1,5.1,4.9,4.9,3.6,3.6,4.9,4.9,5.1,5.1,6.5,6.5,5.1],\"type\":\"scatter\"},{\"hoverinfo\":\"name\",\"line\":{\"color\":\"grey\"},\"mode\":\"lines\",\"name\":\"Obstacle\",\"showlegend\":false,\"x\":[10.1,11.5,11.5,10.1,10.1,9.9,9.9,8.6,8.6,9.9,9.9,10.1,10.1],\"y\":[10.1,10.1,9.9,9.9,8.6,8.6,9.9,9.9,10.1,10.1,11.5,11.5,10.1],\"type\":\"scatter\"},{\"hoverinfo\":\"name\",\"line\":{\"color\":\"grey\"},\"mode\":\"lines\",\"name\":\"Obstacle\",\"showlegend\":false,\"x\":[5.1,6.4,6.4,5.1,5.1,4.9,4.9,3.6,3.6,4.9,4.9,5.1,5.1],\"y\":[5.1,5.1,4.9,4.9,3.6,3.6,4.9,4.9,5.1,5.1,6.5,6.5,5.1],\"type\":\"scatter\"},{\"hoverinfo\":\"name\",\"line\":{\"color\":\"grey\"},\"mode\":\"lines\",\"name\":\"Obstacle\",\"showlegend\":false,\"x\":[5.1,6.4,6.4,5.1,5.1,4.9,4.9,3.6,3.6,4.9,4.9,5.1,5.1],\"y\":[10.1,10.1,9.9,9.9,8.6,8.6,9.9,9.9,10.1,10.1,11.5,11.5,10.1],\"type\":\"scatter\"},{\"fill\":\"toself\",\"fillcolor\":\"rgba(200, 0, 0, 0.40)\",\"hoverinfo\":\"name\",\"line\":{\"width\":0},\"mode\":\"lines\",\"name\":\"Risk Area\",\"showlegend\":false,\"x\":[0.0,5.0,5.0,0.0,0.0],\"y\":[0.0,0.0,5.0,5.0,0.0],\"type\":\"scatter\"},{\"fill\":\"toself\",\"fillcolor\":\"rgba(200, 0, 0, 0.10)\",\"hoverinfo\":\"name\",\"line\":{\"width\":0},\"mode\":\"lines\",\"name\":\"Risk Area\",\"showlegend\":false,\"x\":[5.0,10.0,10.0,5.0,5.0],\"y\":[0.0,0.0,5.0,5.0,0.0],\"type\":\"scatter\"},{\"fill\":\"toself\",\"fillcolor\":\"rgba(200, 0, 0, 0.10)\",\"hoverinfo\":\"name\",\"line\":{\"width\":0},\"mode\":\"lines\",\"name\":\"Risk Area\",\"showlegend\":false,\"x\":[10.0,15.0,15.0,10.0,10.0],\"y\":[0.0,0.0,5.0,5.0,0.0],\"type\":\"scatter\"},{\"fill\":\"toself\",\"fillcolor\":\"rgba(200, 0, 0, 0.00)\",\"hoverinfo\":\"name\",\"line\":{\"width\":0},\"mode\":\"lines\",\"name\":\"Risk Area\",\"showlegend\":false,\"x\":[10.0,15.0,15.0,10.0,10.0],\"y\":[5.0,5.0,10.0,10.0,5.0],\"type\":\"scatter\"},{\"fill\":\"toself\",\"fillcolor\":\"rgba(200, 0, 0, 0.60)\",\"hoverinfo\":\"name\",\"line\":{\"width\":0},\"mode\":\"lines\",\"name\":\"Risk Area\",\"showlegend\":false,\"x\":[5.0,10.0,10.0,5.0,5.0],\"y\":[5.0,5.0,10.0,10.0,5.0],\"type\":\"scatter\"},{\"fill\":\"toself\",\"fillcolor\":\"rgba(200, 0, 0, 0.10)\",\"hoverinfo\":\"name\",\"line\":{\"width\":0},\"mode\":\"lines\",\"name\":\"Risk Area\",\"showlegend\":false,\"x\":[0.0,5.0,5.0,0.0,0.0],\"y\":[5.0,5.0,10.0,10.0,5.0],\"type\":\"scatter\"},{\"fill\":\"toself\",\"fillcolor\":\"rgba(200, 0, 0, 0.00)\",\"hoverinfo\":\"name\",\"line\":{\"width\":0},\"mode\":\"lines\",\"name\":\"Risk Area\",\"showlegend\":false,\"x\":[0.0,5.0,5.0,0.0,0.0],\"y\":[10.0,10.0,15.0,15.0,10.0],\"type\":\"scatter\"},{\"fill\":\"toself\",\"fillcolor\":\"rgba(200, 0, 0, 0.20)\",\"hoverinfo\":\"name\",\"line\":{\"width\":0},\"mode\":\"lines\",\"name\":\"Risk Area\",\"showlegend\":false,\"x\":[5.0,10.0,10.0,5.0,5.0],\"y\":[10.0,10.0,15.0,15.0,10.0],\"type\":\"scatter\"},{\"fill\":\"toself\",\"fillcolor\":\"rgba(200, 0, 0, 0.00)\",\"hoverinfo\":\"name\",\"line\":{\"width\":0},\"mode\":\"lines\",\"name\":\"Risk Area\",\"showlegend\":false,\"x\":[10.0,15.0,15.0,10.0,10.0],\"y\":[10.0,10.0,15.0,15.0,10.0],\"type\":\"scatter\"},{\"hoverinfo\":\"text\",\"marker\":{\"opacity\":1,\"size\":1},\"mode\":\"markers\",\"showlegend\":false,\"text\":[\"ID: 62.0, Pos(8.60,6.36)\"],\"x\":[8.602913448637244],\"y\":[6.357143396865362],\"type\":\"scatter\"},{\"hoverinfo\":\"text\",\"marker\":{\"opacity\":1,\"size\":1},\"mode\":\"markers\",\"showlegend\":false,\"text\":[\"ID: 63.0, Pos(11.91,9.30)\"],\"x\":[11.91031482717918],\"y\":[9.29990468571901],\"type\":\"scatter\"},{\"hoverinfo\":\"text\",\"marker\":{\"opacity\":1,\"size\":1},\"mode\":\"markers\",\"showlegend\":false,\"text\":[\"ID: 64.0, Pos(12.52,10.77)\"],\"x\":[12.517349280374773],\"y\":[10.767560174695479],\"type\":\"scatter\"},{\"hoverinfo\":\"text\",\"marker\":{\"opacity\":1,\"size\":1},\"mode\":\"markers\",\"showlegend\":false,\"text\":[\"ID: 65.0, Pos(13.13,12.24)\"],\"x\":[13.128112159591183],\"y\":[12.244292308246875],\"type\":\"scatter\"},{\"hoverinfo\":\"text\",\"marker\":{\"opacity\":1,\"size\":1},\"mode\":\"markers\",\"showlegend\":false,\"text\":[\"ID: 66.0, Pos(9.47,6.79)\"],\"x\":[9.46612165733244],\"y\":[6.791527202840932],\"type\":\"scatter\"},{\"hoverinfo\":\"text\",\"marker\":{\"opacity\":1,\"size\":1},\"mode\":\"markers\",\"showlegend\":false,\"text\":[\"ID: 67.0, Pos(11.28,7.98)\"],\"x\":[11.275984114786745],\"y\":[7.979208498240089],\"type\":\"scatter\"},{\"hoverinfo\":\"text\",\"marker\":{\"opacity\":1,\"size\":1},\"mode\":\"markers\",\"showlegend\":false,\"text\":[\"ID: 69.0, Pos(10.59,7.09)\"],\"x\":[10.589627660775475],\"y\":[7.086995597449325],\"type\":\"scatter\"},{\"hoverinfo\":\"none\",\"marker\":{\"opacity\":0,\"size\":1},\"mode\":\"markers\",\"showlegend\":false,\"x\":[0.0],\"y\":[0.0],\"type\":\"scatter\"},{\"hoverinfo\":\"none\",\"marker\":{\"opacity\":0,\"size\":1},\"mode\":\"markers\",\"showlegend\":false,\"x\":[0.0],\"y\":[0.0],\"type\":\"scatter\"},{\"hoverinfo\":\"none\",\"marker\":{\"opacity\":0,\"size\":1},\"mode\":\"markers\",\"showlegend\":false,\"x\":[0.0],\"y\":[0.0],\"type\":\"scatter\"}],\"layout\":{\"shapes\":[{\"fillcolor\":\"rgba(183, 255, 64, 0.5)\",\"line\":{\"color\":\"rgba(183, 255, 64, 0.5)\"},\"type\":\"circle\",\"x0\":8.402913448637245,\"x1\":8.802913448637243,\"xref\":\"x\",\"y0\":6.1571433968653615,\"y1\":6.557143396865362,\"yref\":\"y\"},{\"fillcolor\":\"rgba(0, 0, 137, 0.5)\",\"line\":{\"color\":\"rgba(0, 0, 137, 0.5)\"},\"type\":\"circle\",\"x0\":11.71031482717918,\"x1\":12.11031482717918,\"xref\":\"x\",\"y0\":9.099904685719011,\"y1\":9.49990468571901,\"yref\":\"y\"},{\"fillcolor\":\"rgba(0, 0, 128, 0.5)\",\"line\":{\"color\":\"rgba(0, 0, 128, 0.5)\"},\"type\":\"circle\",\"x0\":12.317349280374774,\"x1\":12.717349280374773,\"xref\":\"x\",\"y0\":10.56756017469548,\"y1\":10.967560174695478,\"yref\":\"y\"},{\"fillcolor\":\"rgba(0, 0, 128, 0.5)\",\"line\":{\"color\":\"rgba(0, 0, 128, 0.5)\"},\"type\":\"circle\",\"x0\":12.928112159591183,\"x1\":13.328112159591182,\"xref\":\"x\",\"y0\":12.044292308246876,\"y1\":12.444292308246874,\"yref\":\"y\"},{\"fillcolor\":\"rgba(41, 255, 206, 0.5)\",\"line\":{\"color\":\"rgba(41, 255, 206, 0.5)\"},\"type\":\"circle\",\"x0\":9.266121657332441,\"x1\":9.66612165733244,\"xref\":\"x\",\"y0\":6.591527202840932,\"y1\":6.991527202840932,\"yref\":\"y\"},{\"fillcolor\":\"rgba(0, 0, 255, 0.5)\",\"line\":{\"color\":\"rgba(0, 0, 255, 0.5)\"},\"type\":\"circle\",\"x0\":11.075984114786745,\"x1\":11.475984114786744,\"xref\":\"x\",\"y0\":7.779208498240089,\"y1\":8.179208498240088,\"yref\":\"y\"},{\"fillcolor\":\"rgba(0, 0, 128, 0.5)\",\"line\":{\"color\":\"rgba(0, 0, 128, 0.5)\"},\"type\":\"circle\",\"x0\":10.389627660775476,\"x1\":10.789627660775475,\"xref\":\"x\",\"y0\":6.886995597449324,\"y1\":7.286995597449325,\"yref\":\"y\"},{\"fillcolor\":\"rgba(255,255,255,0)\",\"line\":{\"width\":0},\"type\":\"circle\",\"x0\":0.0,\"x1\":0.0,\"xref\":\"x\",\"y0\":0.0,\"y1\":0.0,\"yref\":\"y\"},{\"fillcolor\":\"rgba(255,255,255,0)\",\"line\":{\"width\":0},\"type\":\"circle\",\"x0\":0.0,\"x1\":0.0,\"xref\":\"x\",\"y0\":0.0,\"y1\":0.0,\"yref\":\"y\"},{\"fillcolor\":\"rgba(255,255,255,0)\",\"line\":{\"width\":0},\"type\":\"circle\",\"x0\":0.0,\"x1\":0.0,\"xref\":\"x\",\"y0\":0.0,\"y1\":0.0,\"yref\":\"y\"},{\"line\":{\"color\":\"black\",\"width\":3},\"type\":\"line\",\"x0\":8.602913448637244,\"x1\":8.794924143337552,\"y0\":6.357143396865362,\"y1\":6.413106716287153},{\"line\":{\"color\":\"white\",\"width\":3},\"type\":\"line\",\"x0\":11.91031482717918,\"x1\":11.986763140354949,\"y0\":9.29990468571901,\"y1\":9.484717172885272},{\"line\":{\"color\":\"white\",\"width\":3},\"type\":\"line\",\"x0\":12.517349280374773,\"x1\":12.593742255943916,\"y0\":10.767560174695479,\"y1\":10.952395542749572},{\"line\":{\"color\":\"white\",\"width\":3},\"type\":\"line\",\"x0\":13.128112159591183,\"x1\":13.204460531560166,\"y0\":12.244292308246875,\"y1\":12.429146104793459},{\"line\":{\"color\":\"black\",\"width\":3},\"type\":\"line\",\"x0\":9.46612165733244,\"x1\":9.66026551436365,\"y0\":6.791527202840932,\"y1\":6.839570545533189},{\"line\":{\"color\":\"white\",\"width\":3},\"type\":\"line\",\"x0\":11.275984114786745,\"x1\":11.354875102491176,\"y0\":7.979208498240089,\"y1\":8.16299155529111},{\"line\":{\"color\":\"white\",\"width\":3},\"type\":\"line\",\"x0\":10.589627660775475,\"x1\":10.785155494533663,\"y0\":7.086995597449325,\"y1\":7.129053488811478},{\"line\":{\"color\":\"rgba(255,255,255,0)\",\"width\":3},\"type\":\"line\",\"x0\":0.0,\"x1\":null,\"y0\":0.0,\"y1\":null},{\"line\":{\"color\":\"rgba(255,255,255,0)\",\"width\":3},\"type\":\"line\",\"x0\":0.0,\"x1\":null,\"y0\":0.0,\"y1\":null},{\"line\":{\"color\":\"rgba(255,255,255,0)\",\"width\":3},\"type\":\"line\",\"x0\":0.0,\"x1\":null,\"y0\":0.0,\"y1\":null}],\"title\":{\"text\":\"\\u003cb\\u003ePercentage using the shortest path: 0%  |  Number of Agents: 7\\u003c\\u002fb\\u003e\",\"x\":0.5}},\"name\":\"850\"},{\"data\":[{\"hoverinfo\":\"name\",\"line\":{\"color\":\"grey\"},\"mode\":\"lines\",\"name\":\"Exterior\",\"showlegend\":false,\"x\":[10.1,10.1,15.0,15.0,13.6,13.6,15.0,15.0,13.6,13.6,15.0,15.0,10.1,10.1,9.9,9.9,5.1,5.1,4.9,4.9,0.0,0.0,1.5,1.5,0.0,0.0,1.5,1.5,0.0,0.0,4.9,4.9,5.1,5.1,9.9,9.9,10.1],\"y\":[1.5,0.0,0.0,4.9,4.9,5.1,5.1,9.9,9.9,10.1,10.1,15.0,15.0,13.6,13.6,15.0,15.0,13.6,13.6,15.0,15.0,10.1,10.1,9.9,9.9,5.1,5.1,4.9,4.9,0.0,0.0,1.5,1.5,0.0,0.0,1.5,1.5],\"type\":\"scatter\"},{\"hoverinfo\":\"name\",\"line\":{\"color\":\"grey\"},\"mode\":\"lines\",\"name\":\"Obstacle\",\"showlegend\":false,\"x\":[10.1,11.5,11.5,10.1,10.1,9.9,9.9,8.6,8.6,9.9,9.9,10.1,10.1],\"y\":[5.1,5.1,4.9,4.9,3.6,3.6,4.9,4.9,5.1,5.1,6.5,6.5,5.1],\"type\":\"scatter\"},{\"hoverinfo\":\"name\",\"line\":{\"color\":\"grey\"},\"mode\":\"lines\",\"name\":\"Obstacle\",\"showlegend\":false,\"x\":[10.1,11.5,11.5,10.1,10.1,9.9,9.9,8.6,8.6,9.9,9.9,10.1,10.1],\"y\":[10.1,10.1,9.9,9.9,8.6,8.6,9.9,9.9,10.1,10.1,11.5,11.5,10.1],\"type\":\"scatter\"},{\"hoverinfo\":\"name\",\"line\":{\"color\":\"grey\"},\"mode\":\"lines\",\"name\":\"Obstacle\",\"showlegend\":false,\"x\":[5.1,6.4,6.4,5.1,5.1,4.9,4.9,3.6,3.6,4.9,4.9,5.1,5.1],\"y\":[5.1,5.1,4.9,4.9,3.6,3.6,4.9,4.9,5.1,5.1,6.5,6.5,5.1],\"type\":\"scatter\"},{\"hoverinfo\":\"name\",\"line\":{\"color\":\"grey\"},\"mode\":\"lines\",\"name\":\"Obstacle\",\"showlegend\":false,\"x\":[5.1,6.4,6.4,5.1,5.1,4.9,4.9,3.6,3.6,4.9,4.9,5.1,5.1],\"y\":[10.1,10.1,9.9,9.9,8.6,8.6,9.9,9.9,10.1,10.1,11.5,11.5,10.1],\"type\":\"scatter\"},{\"fill\":\"toself\",\"fillcolor\":\"rgba(200, 0, 0, 0.40)\",\"hoverinfo\":\"name\",\"line\":{\"width\":0},\"mode\":\"lines\",\"name\":\"Risk Area\",\"showlegend\":false,\"x\":[0.0,5.0,5.0,0.0,0.0],\"y\":[0.0,0.0,5.0,5.0,0.0],\"type\":\"scatter\"},{\"fill\":\"toself\",\"fillcolor\":\"rgba(200, 0, 0, 0.10)\",\"hoverinfo\":\"name\",\"line\":{\"width\":0},\"mode\":\"lines\",\"name\":\"Risk Area\",\"showlegend\":false,\"x\":[5.0,10.0,10.0,5.0,5.0],\"y\":[0.0,0.0,5.0,5.0,0.0],\"type\":\"scatter\"},{\"fill\":\"toself\",\"fillcolor\":\"rgba(200, 0, 0, 0.10)\",\"hoverinfo\":\"name\",\"line\":{\"width\":0},\"mode\":\"lines\",\"name\":\"Risk Area\",\"showlegend\":false,\"x\":[10.0,15.0,15.0,10.0,10.0],\"y\":[0.0,0.0,5.0,5.0,0.0],\"type\":\"scatter\"},{\"fill\":\"toself\",\"fillcolor\":\"rgba(200, 0, 0, 0.00)\",\"hoverinfo\":\"name\",\"line\":{\"width\":0},\"mode\":\"lines\",\"name\":\"Risk Area\",\"showlegend\":false,\"x\":[10.0,15.0,15.0,10.0,10.0],\"y\":[5.0,5.0,10.0,10.0,5.0],\"type\":\"scatter\"},{\"fill\":\"toself\",\"fillcolor\":\"rgba(200, 0, 0, 0.60)\",\"hoverinfo\":\"name\",\"line\":{\"width\":0},\"mode\":\"lines\",\"name\":\"Risk Area\",\"showlegend\":false,\"x\":[5.0,10.0,10.0,5.0,5.0],\"y\":[5.0,5.0,10.0,10.0,5.0],\"type\":\"scatter\"},{\"fill\":\"toself\",\"fillcolor\":\"rgba(200, 0, 0, 0.10)\",\"hoverinfo\":\"name\",\"line\":{\"width\":0},\"mode\":\"lines\",\"name\":\"Risk Area\",\"showlegend\":false,\"x\":[0.0,5.0,5.0,0.0,0.0],\"y\":[5.0,5.0,10.0,10.0,5.0],\"type\":\"scatter\"},{\"fill\":\"toself\",\"fillcolor\":\"rgba(200, 0, 0, 0.00)\",\"hoverinfo\":\"name\",\"line\":{\"width\":0},\"mode\":\"lines\",\"name\":\"Risk Area\",\"showlegend\":false,\"x\":[0.0,5.0,5.0,0.0,0.0],\"y\":[10.0,10.0,15.0,15.0,10.0],\"type\":\"scatter\"},{\"fill\":\"toself\",\"fillcolor\":\"rgba(200, 0, 0, 0.30)\",\"hoverinfo\":\"name\",\"line\":{\"width\":0},\"mode\":\"lines\",\"name\":\"Risk Area\",\"showlegend\":false,\"x\":[5.0,10.0,10.0,5.0,5.0],\"y\":[10.0,10.0,15.0,15.0,10.0],\"type\":\"scatter\"},{\"fill\":\"toself\",\"fillcolor\":\"rgba(200, 0, 0, 0.00)\",\"hoverinfo\":\"name\",\"line\":{\"width\":0},\"mode\":\"lines\",\"name\":\"Risk Area\",\"showlegend\":false,\"x\":[10.0,15.0,15.0,10.0,10.0],\"y\":[10.0,10.0,15.0,15.0,10.0],\"type\":\"scatter\"},{\"hoverinfo\":\"text\",\"marker\":{\"opacity\":1,\"size\":1},\"mode\":\"markers\",\"showlegend\":false,\"text\":[\"ID: 62.0, Pos(9.24,6.54)\"],\"x\":[9.241365084486983],\"y\":[6.543997078411816],\"type\":\"scatter\"},{\"hoverinfo\":\"text\",\"marker\":{\"opacity\":1,\"size\":1},\"mode\":\"markers\",\"showlegend\":false,\"text\":[\"ID: 63.0, Pos(12.37,10.40)\"],\"x\":[12.36686289248182],\"y\":[10.401344000939607],\"type\":\"scatter\"},{\"hoverinfo\":\"text\",\"marker\":{\"opacity\":1,\"size\":1},\"mode\":\"markers\",\"showlegend\":false,\"text\":[\"ID: 64.0, Pos(12.98,11.88)\"],\"x\":[12.975547978063908],\"y\":[11.876187331287547],\"type\":\"scatter\"},{\"hoverinfo\":\"text\",\"marker\":{\"opacity\":1,\"size\":1},\"mode\":\"markers\",\"showlegend\":false,\"text\":[\"ID: 66.0, Pos(10.28,7.03)\"],\"x\":[10.279037017268985],\"y\":[7.034447838844332],\"type\":\"scatter\"},{\"hoverinfo\":\"text\",\"marker\":{\"opacity\":1,\"size\":1},\"mode\":\"markers\",\"showlegend\":false,\"text\":[\"ID: 67.0, Pos(11.71,9.00)\"],\"x\":[11.713847934010174],\"y\":[9.000469893419602],\"type\":\"scatter\"},{\"hoverinfo\":\"text\",\"marker\":{\"opacity\":1,\"size\":1},\"mode\":\"markers\",\"showlegend\":false,\"text\":[\"ID: 69.0, Pos(11.25,7.71)\"],\"x\":[11.251832176409433],\"y\":[7.705877484314781],\"type\":\"scatter\"},{\"hoverinfo\":\"none\",\"marker\":{\"opacity\":0,\"size\":1},\"mode\":\"markers\",\"showlegend\":false,\"x\":[0.0],\"y\":[0.0],\"type\":\"scatter\"},{\"hoverinfo\":\"none\",\"marker\":{\"opacity\":0,\"size\":1},\"mode\":\"markers\",\"showlegend\":false,\"x\":[0.0],\"y\":[0.0],\"type\":\"scatter\"},{\"hoverinfo\":\"none\",\"marker\":{\"opacity\":0,\"size\":1},\"mode\":\"markers\",\"showlegend\":false,\"x\":[0.0],\"y\":[0.0],\"type\":\"scatter\"},{\"hoverinfo\":\"none\",\"marker\":{\"opacity\":0,\"size\":1},\"mode\":\"markers\",\"showlegend\":false,\"x\":[0.0],\"y\":[0.0],\"type\":\"scatter\"}],\"layout\":{\"shapes\":[{\"fillcolor\":\"rgba(48, 255, 199, 0.5)\",\"line\":{\"color\":\"rgba(48, 255, 199, 0.5)\"},\"type\":\"circle\",\"x0\":9.041365084486984,\"x1\":9.441365084486982,\"xref\":\"x\",\"y0\":6.343997078411816,\"y1\":6.743997078411816,\"yref\":\"y\"},{\"fillcolor\":\"rgba(0, 0, 132, 0.5)\",\"line\":{\"color\":\"rgba(0, 0, 132, 0.5)\"},\"type\":\"circle\",\"x0\":12.16686289248182,\"x1\":12.566862892481819,\"xref\":\"x\",\"y0\":10.201344000939608,\"y1\":10.601344000939607,\"yref\":\"y\"},{\"fillcolor\":\"rgba(0, 0, 128, 0.5)\",\"line\":{\"color\":\"rgba(0, 0, 128, 0.5)\"},\"type\":\"circle\",\"x0\":12.775547978063909,\"x1\":13.175547978063907,\"xref\":\"x\",\"y0\":11.676187331287547,\"y1\":12.076187331287546,\"yref\":\"y\"},{\"fillcolor\":\"rgba(0, 0, 232, 0.5)\",\"line\":{\"color\":\"rgba(0, 0, 232, 0.5)\"},\"type\":\"circle\",\"x0\":10.079037017268986,\"x1\":10.479037017268984,\"xref\":\"x\",\"y0\":6.834447838844332,\"y1\":7.234447838844332,\"yref\":\"y\"},{\"fillcolor\":\"rgba(0, 0, 182, 0.5)\",\"line\":{\"color\":\"rgba(0, 0, 182, 0.5)\"},\"type\":\"circle\",\"x0\":11.513847934010174,\"x1\":11.913847934010173,\"xref\":\"x\",\"y0\":8.800469893419603,\"y1\":9.200469893419601,\"yref\":\"y\"},{\"fillcolor\":\"rgba(0, 80, 255, 0.5)\",\"line\":{\"color\":\"rgba(0, 80, 255, 0.5)\"},\"type\":\"circle\",\"x0\":11.051832176409434,\"x1\":11.451832176409432,\"xref\":\"x\",\"y0\":7.505877484314781,\"y1\":7.905877484314781,\"yref\":\"y\"},{\"fillcolor\":\"rgba(255,255,255,0)\",\"line\":{\"width\":0},\"type\":\"circle\",\"x0\":0.0,\"x1\":0.0,\"xref\":\"x\",\"y0\":0.0,\"y1\":0.0,\"yref\":\"y\"},{\"fillcolor\":\"rgba(255,255,255,0)\",\"line\":{\"width\":0},\"type\":\"circle\",\"x0\":0.0,\"x1\":0.0,\"xref\":\"x\",\"y0\":0.0,\"y1\":0.0,\"yref\":\"y\"},{\"fillcolor\":\"rgba(255,255,255,0)\",\"line\":{\"width\":0},\"type\":\"circle\",\"x0\":0.0,\"x1\":0.0,\"xref\":\"x\",\"y0\":0.0,\"y1\":0.0,\"yref\":\"y\"},{\"fillcolor\":\"rgba(255,255,255,0)\",\"line\":{\"width\":0},\"type\":\"circle\",\"x0\":0.0,\"x1\":0.0,\"xref\":\"x\",\"y0\":0.0,\"y1\":0.0,\"yref\":\"y\"},{\"line\":{\"color\":\"black\",\"width\":3},\"type\":\"line\",\"x0\":9.241365084486983,\"x1\":9.43327158868341,\"y0\":6.543997078411816,\"y1\":6.600316645589721},{\"line\":{\"color\":\"white\",\"width\":3},\"type\":\"line\",\"x0\":12.36686289248182,\"x1\":12.443215935367553,\"y0\":10.401344000939607,\"y1\":10.586195868233636},{\"line\":{\"color\":\"white\",\"width\":3},\"type\":\"line\",\"x0\":12.975547978063908,\"x1\":13.051940951652533,\"y0\":11.876187331287547,\"y1\":12.061022700160194},{\"line\":{\"color\":\"white\",\"width\":3},\"type\":\"line\",\"x0\":10.279037017268985,\"x1\":10.47450099725126,\"y0\":7.034447838844332,\"y1\":7.076801499010705},{\"line\":{\"color\":\"white\",\"width\":3},\"type\":\"line\",\"x0\":11.713847934010174,\"x1\":11.792651285485158,\"y0\":9.000469893419602,\"y1\":9.184290544588913},{\"line\":{\"color\":\"white\",\"width\":3},\"type\":\"line\",\"x0\":11.251832176409433,\"x1\":11.328333589279147,\"y0\":7.705877484314781,\"y1\":7.890667997677718},{\"line\":{\"color\":\"rgba(255,255,255,0)\",\"width\":3},\"type\":\"line\",\"x0\":0.0,\"x1\":null,\"y0\":0.0,\"y1\":null},{\"line\":{\"color\":\"rgba(255,255,255,0)\",\"width\":3},\"type\":\"line\",\"x0\":0.0,\"x1\":null,\"y0\":0.0,\"y1\":null},{\"line\":{\"color\":\"rgba(255,255,255,0)\",\"width\":3},\"type\":\"line\",\"x0\":0.0,\"x1\":null,\"y0\":0.0,\"y1\":null},{\"line\":{\"color\":\"rgba(255,255,255,0)\",\"width\":3},\"type\":\"line\",\"x0\":0.0,\"x1\":null,\"y0\":0.0,\"y1\":null}],\"title\":{\"text\":\"\\u003cb\\u003ePercentage using the shortest path: 0%  |  Number of Agents: 6\\u003c\\u002fb\\u003e\",\"x\":0.5}},\"name\":\"900\"},{\"data\":[{\"hoverinfo\":\"name\",\"line\":{\"color\":\"grey\"},\"mode\":\"lines\",\"name\":\"Exterior\",\"showlegend\":false,\"x\":[10.1,10.1,15.0,15.0,13.6,13.6,15.0,15.0,13.6,13.6,15.0,15.0,10.1,10.1,9.9,9.9,5.1,5.1,4.9,4.9,0.0,0.0,1.5,1.5,0.0,0.0,1.5,1.5,0.0,0.0,4.9,4.9,5.1,5.1,9.9,9.9,10.1],\"y\":[1.5,0.0,0.0,4.9,4.9,5.1,5.1,9.9,9.9,10.1,10.1,15.0,15.0,13.6,13.6,15.0,15.0,13.6,13.6,15.0,15.0,10.1,10.1,9.9,9.9,5.1,5.1,4.9,4.9,0.0,0.0,1.5,1.5,0.0,0.0,1.5,1.5],\"type\":\"scatter\"},{\"hoverinfo\":\"name\",\"line\":{\"color\":\"grey\"},\"mode\":\"lines\",\"name\":\"Obstacle\",\"showlegend\":false,\"x\":[10.1,11.5,11.5,10.1,10.1,9.9,9.9,8.6,8.6,9.9,9.9,10.1,10.1],\"y\":[5.1,5.1,4.9,4.9,3.6,3.6,4.9,4.9,5.1,5.1,6.5,6.5,5.1],\"type\":\"scatter\"},{\"hoverinfo\":\"name\",\"line\":{\"color\":\"grey\"},\"mode\":\"lines\",\"name\":\"Obstacle\",\"showlegend\":false,\"x\":[10.1,11.5,11.5,10.1,10.1,9.9,9.9,8.6,8.6,9.9,9.9,10.1,10.1],\"y\":[10.1,10.1,9.9,9.9,8.6,8.6,9.9,9.9,10.1,10.1,11.5,11.5,10.1],\"type\":\"scatter\"},{\"hoverinfo\":\"name\",\"line\":{\"color\":\"grey\"},\"mode\":\"lines\",\"name\":\"Obstacle\",\"showlegend\":false,\"x\":[5.1,6.4,6.4,5.1,5.1,4.9,4.9,3.6,3.6,4.9,4.9,5.1,5.1],\"y\":[5.1,5.1,4.9,4.9,3.6,3.6,4.9,4.9,5.1,5.1,6.5,6.5,5.1],\"type\":\"scatter\"},{\"hoverinfo\":\"name\",\"line\":{\"color\":\"grey\"},\"mode\":\"lines\",\"name\":\"Obstacle\",\"showlegend\":false,\"x\":[5.1,6.4,6.4,5.1,5.1,4.9,4.9,3.6,3.6,4.9,4.9,5.1,5.1],\"y\":[10.1,10.1,9.9,9.9,8.6,8.6,9.9,9.9,10.1,10.1,11.5,11.5,10.1],\"type\":\"scatter\"},{\"fill\":\"toself\",\"fillcolor\":\"rgba(200, 0, 0, 0.40)\",\"hoverinfo\":\"name\",\"line\":{\"width\":0},\"mode\":\"lines\",\"name\":\"Risk Area\",\"showlegend\":false,\"x\":[0.0,5.0,5.0,0.0,0.0],\"y\":[0.0,0.0,5.0,5.0,0.0],\"type\":\"scatter\"},{\"fill\":\"toself\",\"fillcolor\":\"rgba(200, 0, 0, 0.10)\",\"hoverinfo\":\"name\",\"line\":{\"width\":0},\"mode\":\"lines\",\"name\":\"Risk Area\",\"showlegend\":false,\"x\":[5.0,10.0,10.0,5.0,5.0],\"y\":[0.0,0.0,5.0,5.0,0.0],\"type\":\"scatter\"},{\"fill\":\"toself\",\"fillcolor\":\"rgba(200, 0, 0, 0.10)\",\"hoverinfo\":\"name\",\"line\":{\"width\":0},\"mode\":\"lines\",\"name\":\"Risk Area\",\"showlegend\":false,\"x\":[10.0,15.0,15.0,10.0,10.0],\"y\":[0.0,0.0,5.0,5.0,0.0],\"type\":\"scatter\"},{\"fill\":\"toself\",\"fillcolor\":\"rgba(200, 0, 0, 0.00)\",\"hoverinfo\":\"name\",\"line\":{\"width\":0},\"mode\":\"lines\",\"name\":\"Risk Area\",\"showlegend\":false,\"x\":[10.0,15.0,15.0,10.0,10.0],\"y\":[5.0,5.0,10.0,10.0,5.0],\"type\":\"scatter\"},{\"fill\":\"toself\",\"fillcolor\":\"rgba(200, 0, 0, 0.60)\",\"hoverinfo\":\"name\",\"line\":{\"width\":0},\"mode\":\"lines\",\"name\":\"Risk Area\",\"showlegend\":false,\"x\":[5.0,10.0,10.0,5.0,5.0],\"y\":[5.0,5.0,10.0,10.0,5.0],\"type\":\"scatter\"},{\"fill\":\"toself\",\"fillcolor\":\"rgba(200, 0, 0, 0.10)\",\"hoverinfo\":\"name\",\"line\":{\"width\":0},\"mode\":\"lines\",\"name\":\"Risk Area\",\"showlegend\":false,\"x\":[0.0,5.0,5.0,0.0,0.0],\"y\":[5.0,5.0,10.0,10.0,5.0],\"type\":\"scatter\"},{\"fill\":\"toself\",\"fillcolor\":\"rgba(200, 0, 0, 0.00)\",\"hoverinfo\":\"name\",\"line\":{\"width\":0},\"mode\":\"lines\",\"name\":\"Risk Area\",\"showlegend\":false,\"x\":[0.0,5.0,5.0,0.0,0.0],\"y\":[10.0,10.0,15.0,15.0,10.0],\"type\":\"scatter\"},{\"fill\":\"toself\",\"fillcolor\":\"rgba(200, 0, 0, 0.30)\",\"hoverinfo\":\"name\",\"line\":{\"width\":0},\"mode\":\"lines\",\"name\":\"Risk Area\",\"showlegend\":false,\"x\":[5.0,10.0,10.0,5.0,5.0],\"y\":[10.0,10.0,15.0,15.0,10.0],\"type\":\"scatter\"},{\"fill\":\"toself\",\"fillcolor\":\"rgba(200, 0, 0, 0.00)\",\"hoverinfo\":\"name\",\"line\":{\"width\":0},\"mode\":\"lines\",\"name\":\"Risk Area\",\"showlegend\":false,\"x\":[10.0,15.0,15.0,10.0,10.0],\"y\":[10.0,10.0,15.0,15.0,10.0],\"type\":\"scatter\"},{\"hoverinfo\":\"text\",\"marker\":{\"opacity\":1,\"size\":1},\"mode\":\"markers\",\"showlegend\":false,\"text\":[\"ID: 62.0, Pos(10.04,6.96)\"],\"x\":[10.04237351007158],\"y\":[6.961563731125129],\"type\":\"scatter\"},{\"hoverinfo\":\"text\",\"marker\":{\"opacity\":1,\"size\":1},\"mode\":\"markers\",\"showlegend\":false,\"text\":[\"ID: 63.0, Pos(12.82,11.51)\"],\"x\":[12.824229404685811],\"y\":[11.50865233423379],\"type\":\"scatter\"},{\"hoverinfo\":\"text\",\"marker\":{\"opacity\":1,\"size\":1},\"mode\":\"markers\",\"showlegend\":false,\"text\":[\"ID: 66.0, Pos(11.15,7.47)\"],\"x\":[11.152819946778324],\"y\":[7.473749042263343],\"type\":\"scatter\"},{\"hoverinfo\":\"text\",\"marker\":{\"opacity\":1,\"size\":1},\"mode\":\"markers\",\"showlegend\":false,\"text\":[\"ID: 67.0, Pos(12.18,10.07)\"],\"x\":[12.17586731159846],\"y\":[10.069201528773924],\"type\":\"scatter\"},{\"hoverinfo\":\"text\",\"marker\":{\"opacity\":1,\"size\":1},\"mode\":\"markers\",\"showlegend\":false,\"text\":[\"ID: 69.0, Pos(11.65,8.67)\"],\"x\":[11.650113231197635],\"y\":[8.668908237055849],\"type\":\"scatter\"},{\"hoverinfo\":\"none\",\"marker\":{\"opacity\":0,\"size\":1},\"mode\":\"markers\",\"showlegend\":false,\"x\":[0.0],\"y\":[0.0],\"type\":\"scatter\"},{\"hoverinfo\":\"none\",\"marker\":{\"opacity\":0,\"size\":1},\"mode\":\"markers\",\"showlegend\":false,\"x\":[0.0],\"y\":[0.0],\"type\":\"scatter\"},{\"hoverinfo\":\"none\",\"marker\":{\"opacity\":0,\"size\":1},\"mode\":\"markers\",\"showlegend\":false,\"x\":[0.0],\"y\":[0.0],\"type\":\"scatter\"},{\"hoverinfo\":\"none\",\"marker\":{\"opacity\":0,\"size\":1},\"mode\":\"markers\",\"showlegend\":false,\"x\":[0.0],\"y\":[0.0],\"type\":\"scatter\"},{\"hoverinfo\":\"none\",\"marker\":{\"opacity\":0,\"size\":1},\"mode\":\"markers\",\"showlegend\":false,\"x\":[0.0],\"y\":[0.0],\"type\":\"scatter\"}],\"layout\":{\"shapes\":[{\"fillcolor\":\"rgba(0, 220, 254, 0.5)\",\"line\":{\"color\":\"rgba(0, 220, 254, 0.5)\"},\"type\":\"circle\",\"x0\":9.84237351007158,\"x1\":10.242373510071578,\"xref\":\"x\",\"y0\":6.761563731125129,\"y1\":7.1615637311251295,\"yref\":\"y\"},{\"fillcolor\":\"rgba(0, 0, 128, 0.5)\",\"line\":{\"color\":\"rgba(0, 0, 128, 0.5)\"},\"type\":\"circle\",\"x0\":12.624229404685812,\"x1\":13.02422940468581,\"xref\":\"x\",\"y0\":11.308652334233791,\"y1\":11.70865233423379,\"yref\":\"y\"},{\"fillcolor\":\"rgba(0, 156, 255, 0.5)\",\"line\":{\"color\":\"rgba(0, 156, 255, 0.5)\"},\"type\":\"circle\",\"x0\":10.952819946778325,\"x1\":11.352819946778324,\"xref\":\"x\",\"y0\":7.273749042263343,\"y1\":7.673749042263343,\"yref\":\"y\"},{\"fillcolor\":\"rgba(0, 0, 146, 0.5)\",\"line\":{\"color\":\"rgba(0, 0, 146, 0.5)\"},\"type\":\"circle\",\"x0\":11.97586731159846,\"x1\":12.375867311598459,\"xref\":\"x\",\"y0\":9.869201528773925,\"y1\":10.269201528773923,\"yref\":\"y\"},{\"fillcolor\":\"rgba(0, 0, 237, 0.5)\",\"line\":{\"color\":\"rgba(0, 0, 237, 0.5)\"},\"type\":\"circle\",\"x0\":11.450113231197635,\"x1\":11.850113231197634,\"xref\":\"x\",\"y0\":8.46890823705585,\"y1\":8.868908237055848,\"yref\":\"y\"},{\"fillcolor\":\"rgba(255,255,255,0)\",\"line\":{\"width\":0},\"type\":\"circle\",\"x0\":0.0,\"x1\":0.0,\"xref\":\"x\",\"y0\":0.0,\"y1\":0.0,\"yref\":\"y\"},{\"fillcolor\":\"rgba(255,255,255,0)\",\"line\":{\"width\":0},\"type\":\"circle\",\"x0\":0.0,\"x1\":0.0,\"xref\":\"x\",\"y0\":0.0,\"y1\":0.0,\"yref\":\"y\"},{\"fillcolor\":\"rgba(255,255,255,0)\",\"line\":{\"width\":0},\"type\":\"circle\",\"x0\":0.0,\"x1\":0.0,\"xref\":\"x\",\"y0\":0.0,\"y1\":0.0,\"yref\":\"y\"},{\"fillcolor\":\"rgba(255,255,255,0)\",\"line\":{\"width\":0},\"type\":\"circle\",\"x0\":0.0,\"x1\":0.0,\"xref\":\"x\",\"y0\":0.0,\"y1\":0.0,\"yref\":\"y\"},{\"fillcolor\":\"rgba(255,255,255,0)\",\"line\":{\"width\":0},\"type\":\"circle\",\"x0\":0.0,\"x1\":0.0,\"xref\":\"x\",\"y0\":0.0,\"y1\":0.0,\"yref\":\"y\"},{\"line\":{\"color\":\"black\",\"width\":3},\"type\":\"line\",\"x0\":10.04237351007158,\"x1\":10.234461759394602,\"y0\":6.961563731125129,\"y1\":7.017260270263716},{\"line\":{\"color\":\"white\",\"width\":3},\"type\":\"line\",\"x0\":12.824229404685811,\"x1\":12.900581308834951,\"y0\":11.50865233423379,\"y1\":11.693504671878735},{\"line\":{\"color\":\"white\",\"width\":3},\"type\":\"line\",\"x0\":11.152819946778324,\"x1\":11.22937964097902,\"y0\":7.473749042263343,\"y1\":7.6585154169744785},{\"line\":{\"color\":\"white\",\"width\":3},\"type\":\"line\",\"x0\":12.17586731159846,\"x1\":12.25467806276522,\"y0\":10.069201528773924,\"y1\":10.25301900754167},{\"line\":{\"color\":\"white\",\"width\":3},\"type\":\"line\",\"x0\":11.650113231197635,\"x1\":11.726502202925278,\"y0\":8.668908237055849,\"y1\":8.853745259858082},{\"line\":{\"color\":\"rgba(255,255,255,0)\",\"width\":3},\"type\":\"line\",\"x0\":0.0,\"x1\":null,\"y0\":0.0,\"y1\":null},{\"line\":{\"color\":\"rgba(255,255,255,0)\",\"width\":3},\"type\":\"line\",\"x0\":0.0,\"x1\":null,\"y0\":0.0,\"y1\":null},{\"line\":{\"color\":\"rgba(255,255,255,0)\",\"width\":3},\"type\":\"line\",\"x0\":0.0,\"x1\":null,\"y0\":0.0,\"y1\":null},{\"line\":{\"color\":\"rgba(255,255,255,0)\",\"width\":3},\"type\":\"line\",\"x0\":0.0,\"x1\":null,\"y0\":0.0,\"y1\":null},{\"line\":{\"color\":\"rgba(255,255,255,0)\",\"width\":3},\"type\":\"line\",\"x0\":0.0,\"x1\":null,\"y0\":0.0,\"y1\":null}],\"title\":{\"text\":\"\\u003cb\\u003ePercentage using the shortest path: 0%  |  Number of Agents: 5\\u003c\\u002fb\\u003e\",\"x\":0.5}},\"name\":\"950\"},{\"data\":[{\"hoverinfo\":\"name\",\"line\":{\"color\":\"grey\"},\"mode\":\"lines\",\"name\":\"Exterior\",\"showlegend\":false,\"x\":[10.1,10.1,15.0,15.0,13.6,13.6,15.0,15.0,13.6,13.6,15.0,15.0,10.1,10.1,9.9,9.9,5.1,5.1,4.9,4.9,0.0,0.0,1.5,1.5,0.0,0.0,1.5,1.5,0.0,0.0,4.9,4.9,5.1,5.1,9.9,9.9,10.1],\"y\":[1.5,0.0,0.0,4.9,4.9,5.1,5.1,9.9,9.9,10.1,10.1,15.0,15.0,13.6,13.6,15.0,15.0,13.6,13.6,15.0,15.0,10.1,10.1,9.9,9.9,5.1,5.1,4.9,4.9,0.0,0.0,1.5,1.5,0.0,0.0,1.5,1.5],\"type\":\"scatter\"},{\"hoverinfo\":\"name\",\"line\":{\"color\":\"grey\"},\"mode\":\"lines\",\"name\":\"Obstacle\",\"showlegend\":false,\"x\":[10.1,11.5,11.5,10.1,10.1,9.9,9.9,8.6,8.6,9.9,9.9,10.1,10.1],\"y\":[5.1,5.1,4.9,4.9,3.6,3.6,4.9,4.9,5.1,5.1,6.5,6.5,5.1],\"type\":\"scatter\"},{\"hoverinfo\":\"name\",\"line\":{\"color\":\"grey\"},\"mode\":\"lines\",\"name\":\"Obstacle\",\"showlegend\":false,\"x\":[10.1,11.5,11.5,10.1,10.1,9.9,9.9,8.6,8.6,9.9,9.9,10.1,10.1],\"y\":[10.1,10.1,9.9,9.9,8.6,8.6,9.9,9.9,10.1,10.1,11.5,11.5,10.1],\"type\":\"scatter\"},{\"hoverinfo\":\"name\",\"line\":{\"color\":\"grey\"},\"mode\":\"lines\",\"name\":\"Obstacle\",\"showlegend\":false,\"x\":[5.1,6.4,6.4,5.1,5.1,4.9,4.9,3.6,3.6,4.9,4.9,5.1,5.1],\"y\":[5.1,5.1,4.9,4.9,3.6,3.6,4.9,4.9,5.1,5.1,6.5,6.5,5.1],\"type\":\"scatter\"},{\"hoverinfo\":\"name\",\"line\":{\"color\":\"grey\"},\"mode\":\"lines\",\"name\":\"Obstacle\",\"showlegend\":false,\"x\":[5.1,6.4,6.4,5.1,5.1,4.9,4.9,3.6,3.6,4.9,4.9,5.1,5.1],\"y\":[10.1,10.1,9.9,9.9,8.6,8.6,9.9,9.9,10.1,10.1,11.5,11.5,10.1],\"type\":\"scatter\"},{\"fill\":\"toself\",\"fillcolor\":\"rgba(200, 0, 0, 0.40)\",\"hoverinfo\":\"name\",\"line\":{\"width\":0},\"mode\":\"lines\",\"name\":\"Risk Area\",\"showlegend\":false,\"x\":[0.0,5.0,5.0,0.0,0.0],\"y\":[0.0,0.0,5.0,5.0,0.0],\"type\":\"scatter\"},{\"fill\":\"toself\",\"fillcolor\":\"rgba(200, 0, 0, 0.10)\",\"hoverinfo\":\"name\",\"line\":{\"width\":0},\"mode\":\"lines\",\"name\":\"Risk Area\",\"showlegend\":false,\"x\":[5.0,10.0,10.0,5.0,5.0],\"y\":[0.0,0.0,5.0,5.0,0.0],\"type\":\"scatter\"},{\"fill\":\"toself\",\"fillcolor\":\"rgba(200, 0, 0, 0.10)\",\"hoverinfo\":\"name\",\"line\":{\"width\":0},\"mode\":\"lines\",\"name\":\"Risk Area\",\"showlegend\":false,\"x\":[10.0,15.0,15.0,10.0,10.0],\"y\":[0.0,0.0,5.0,5.0,0.0],\"type\":\"scatter\"},{\"fill\":\"toself\",\"fillcolor\":\"rgba(200, 0, 0, 0.00)\",\"hoverinfo\":\"name\",\"line\":{\"width\":0},\"mode\":\"lines\",\"name\":\"Risk Area\",\"showlegend\":false,\"x\":[10.0,15.0,15.0,10.0,10.0],\"y\":[5.0,5.0,10.0,10.0,5.0],\"type\":\"scatter\"},{\"fill\":\"toself\",\"fillcolor\":\"rgba(200, 0, 0, 0.60)\",\"hoverinfo\":\"name\",\"line\":{\"width\":0},\"mode\":\"lines\",\"name\":\"Risk Area\",\"showlegend\":false,\"x\":[5.0,10.0,10.0,5.0,5.0],\"y\":[5.0,5.0,10.0,10.0,5.0],\"type\":\"scatter\"},{\"fill\":\"toself\",\"fillcolor\":\"rgba(200, 0, 0, 0.10)\",\"hoverinfo\":\"name\",\"line\":{\"width\":0},\"mode\":\"lines\",\"name\":\"Risk Area\",\"showlegend\":false,\"x\":[0.0,5.0,5.0,0.0,0.0],\"y\":[5.0,5.0,10.0,10.0,5.0],\"type\":\"scatter\"},{\"fill\":\"toself\",\"fillcolor\":\"rgba(200, 0, 0, 0.00)\",\"hoverinfo\":\"name\",\"line\":{\"width\":0},\"mode\":\"lines\",\"name\":\"Risk Area\",\"showlegend\":false,\"x\":[0.0,5.0,5.0,0.0,0.0],\"y\":[10.0,10.0,15.0,15.0,10.0],\"type\":\"scatter\"},{\"fill\":\"toself\",\"fillcolor\":\"rgba(200, 0, 0, 0.30)\",\"hoverinfo\":\"name\",\"line\":{\"width\":0},\"mode\":\"lines\",\"name\":\"Risk Area\",\"showlegend\":false,\"x\":[5.0,10.0,10.0,5.0,5.0],\"y\":[10.0,10.0,15.0,15.0,10.0],\"type\":\"scatter\"},{\"fill\":\"toself\",\"fillcolor\":\"rgba(200, 0, 0, 0.00)\",\"hoverinfo\":\"name\",\"line\":{\"width\":0},\"mode\":\"lines\",\"name\":\"Risk Area\",\"showlegend\":false,\"x\":[10.0,15.0,15.0,10.0,10.0],\"y\":[10.0,10.0,15.0,15.0,10.0],\"type\":\"scatter\"},{\"hoverinfo\":\"text\",\"marker\":{\"opacity\":1,\"size\":1},\"mode\":\"markers\",\"showlegend\":false,\"text\":[\"ID: 62.0, Pos(11.06,7.24)\"],\"x\":[11.063068109962376],\"y\":[7.244587565304496],\"type\":\"scatter\"},{\"hoverinfo\":\"text\",\"marker\":{\"opacity\":1,\"size\":1},\"mode\":\"markers\",\"showlegend\":false,\"text\":[\"ID: 66.0, Pos(11.53,8.38)\"],\"x\":[11.526800438008676],\"y\":[8.376649726678384],\"type\":\"scatter\"},{\"hoverinfo\":\"text\",\"marker\":{\"opacity\":1,\"size\":1},\"mode\":\"markers\",\"showlegend\":false,\"text\":[\"ID: 67.0, Pos(12.64,11.16)\"],\"x\":[12.642766286930204],\"y\":[11.16079813883435],\"type\":\"scatter\"},{\"hoverinfo\":\"text\",\"marker\":{\"opacity\":1,\"size\":1},\"mode\":\"markers\",\"showlegend\":false,\"text\":[\"ID: 69.0, Pos(12.08,9.71)\"],\"x\":[12.081694512309523],\"y\":[9.711282744426862],\"type\":\"scatter\"},{\"hoverinfo\":\"none\",\"marker\":{\"opacity\":0,\"size\":1},\"mode\":\"markers\",\"showlegend\":false,\"x\":[0.0],\"y\":[0.0],\"type\":\"scatter\"},{\"hoverinfo\":\"none\",\"marker\":{\"opacity\":0,\"size\":1},\"mode\":\"markers\",\"showlegend\":false,\"x\":[0.0],\"y\":[0.0],\"type\":\"scatter\"},{\"hoverinfo\":\"none\",\"marker\":{\"opacity\":0,\"size\":1},\"mode\":\"markers\",\"showlegend\":false,\"x\":[0.0],\"y\":[0.0],\"type\":\"scatter\"},{\"hoverinfo\":\"none\",\"marker\":{\"opacity\":0,\"size\":1},\"mode\":\"markers\",\"showlegend\":false,\"x\":[0.0],\"y\":[0.0],\"type\":\"scatter\"},{\"hoverinfo\":\"none\",\"marker\":{\"opacity\":0,\"size\":1},\"mode\":\"markers\",\"showlegend\":false,\"x\":[0.0],\"y\":[0.0],\"type\":\"scatter\"},{\"hoverinfo\":\"none\",\"marker\":{\"opacity\":0,\"size\":1},\"mode\":\"markers\",\"showlegend\":false,\"x\":[0.0],\"y\":[0.0],\"type\":\"scatter\"}],\"layout\":{\"shapes\":[{\"fillcolor\":\"rgba(0, 224, 251, 0.5)\",\"line\":{\"color\":\"rgba(0, 224, 251, 0.5)\"},\"type\":\"circle\",\"x0\":10.863068109962377,\"x1\":11.263068109962376,\"xref\":\"x\",\"y0\":7.044587565304496,\"y1\":7.444587565304496,\"yref\":\"y\"},{\"fillcolor\":\"rgba(0, 13, 255, 0.5)\",\"line\":{\"color\":\"rgba(0, 13, 255, 0.5)\"},\"type\":\"circle\",\"x0\":11.326800438008677,\"x1\":11.726800438008675,\"xref\":\"x\",\"y0\":8.176649726678384,\"y1\":8.576649726678383,\"yref\":\"y\"},{\"fillcolor\":\"rgba(0, 0, 128, 0.5)\",\"line\":{\"color\":\"rgba(0, 0, 128, 0.5)\"},\"type\":\"circle\",\"x0\":12.442766286930205,\"x1\":12.842766286930203,\"xref\":\"x\",\"y0\":10.96079813883435,\"y1\":11.36079813883435,\"yref\":\"y\"},{\"fillcolor\":\"rgba(0, 0, 173, 0.5)\",\"line\":{\"color\":\"rgba(0, 0, 173, 0.5)\"},\"type\":\"circle\",\"x0\":11.881694512309524,\"x1\":12.281694512309523,\"xref\":\"x\",\"y0\":9.511282744426863,\"y1\":9.911282744426861,\"yref\":\"y\"},{\"fillcolor\":\"rgba(255,255,255,0)\",\"line\":{\"width\":0},\"type\":\"circle\",\"x0\":0.0,\"x1\":0.0,\"xref\":\"x\",\"y0\":0.0,\"y1\":0.0,\"yref\":\"y\"},{\"fillcolor\":\"rgba(255,255,255,0)\",\"line\":{\"width\":0},\"type\":\"circle\",\"x0\":0.0,\"x1\":0.0,\"xref\":\"x\",\"y0\":0.0,\"y1\":0.0,\"yref\":\"y\"},{\"fillcolor\":\"rgba(255,255,255,0)\",\"line\":{\"width\":0},\"type\":\"circle\",\"x0\":0.0,\"x1\":0.0,\"xref\":\"x\",\"y0\":0.0,\"y1\":0.0,\"yref\":\"y\"},{\"fillcolor\":\"rgba(255,255,255,0)\",\"line\":{\"width\":0},\"type\":\"circle\",\"x0\":0.0,\"x1\":0.0,\"xref\":\"x\",\"y0\":0.0,\"y1\":0.0,\"yref\":\"y\"},{\"fillcolor\":\"rgba(255,255,255,0)\",\"line\":{\"width\":0},\"type\":\"circle\",\"x0\":0.0,\"x1\":0.0,\"xref\":\"x\",\"y0\":0.0,\"y1\":0.0,\"yref\":\"y\"},{\"fillcolor\":\"rgba(255,255,255,0)\",\"line\":{\"width\":0},\"type\":\"circle\",\"x0\":0.0,\"x1\":0.0,\"xref\":\"x\",\"y0\":0.0,\"y1\":0.0,\"yref\":\"y\"},{\"line\":{\"color\":\"black\",\"width\":3},\"type\":\"line\",\"x0\":11.063068109962376,\"x1\":11.139418423680858,\"y0\":7.244587565304496,\"y1\":7.429440559857166},{\"line\":{\"color\":\"white\",\"width\":3},\"type\":\"line\",\"x0\":11.526800438008676,\"x1\":11.603262808944441,\"y0\":8.376649726678384,\"y1\":8.56145639817831},{\"line\":{\"color\":\"white\",\"width\":3},\"type\":\"line\",\"x0\":12.642766286930204,\"x1\":12.72140450202815,\"y0\":11.16079813883435,\"y1\":11.344689495689993},{\"line\":{\"color\":\"white\",\"width\":3},\"type\":\"line\",\"x0\":12.081694512309523,\"x1\":12.158588345486057,\"y0\":9.711282744426862,\"y1\":9.89591031121855},{\"line\":{\"color\":\"rgba(255,255,255,0)\",\"width\":3},\"type\":\"line\",\"x0\":0.0,\"x1\":null,\"y0\":0.0,\"y1\":null},{\"line\":{\"color\":\"rgba(255,255,255,0)\",\"width\":3},\"type\":\"line\",\"x0\":0.0,\"x1\":null,\"y0\":0.0,\"y1\":null},{\"line\":{\"color\":\"rgba(255,255,255,0)\",\"width\":3},\"type\":\"line\",\"x0\":0.0,\"x1\":null,\"y0\":0.0,\"y1\":null},{\"line\":{\"color\":\"rgba(255,255,255,0)\",\"width\":3},\"type\":\"line\",\"x0\":0.0,\"x1\":null,\"y0\":0.0,\"y1\":null},{\"line\":{\"color\":\"rgba(255,255,255,0)\",\"width\":3},\"type\":\"line\",\"x0\":0.0,\"x1\":null,\"y0\":0.0,\"y1\":null},{\"line\":{\"color\":\"rgba(255,255,255,0)\",\"width\":3},\"type\":\"line\",\"x0\":0.0,\"x1\":null,\"y0\":0.0,\"y1\":null}],\"title\":{\"text\":\"\\u003cb\\u003ePercentage using the shortest path: 0%  |  Number of Agents: 4\\u003c\\u002fb\\u003e\",\"x\":0.5}},\"name\":\"1000\"},{\"data\":[{\"hoverinfo\":\"name\",\"line\":{\"color\":\"grey\"},\"mode\":\"lines\",\"name\":\"Exterior\",\"showlegend\":false,\"x\":[10.1,10.1,15.0,15.0,13.6,13.6,15.0,15.0,13.6,13.6,15.0,15.0,10.1,10.1,9.9,9.9,5.1,5.1,4.9,4.9,0.0,0.0,1.5,1.5,0.0,0.0,1.5,1.5,0.0,0.0,4.9,4.9,5.1,5.1,9.9,9.9,10.1],\"y\":[1.5,0.0,0.0,4.9,4.9,5.1,5.1,9.9,9.9,10.1,10.1,15.0,15.0,13.6,13.6,15.0,15.0,13.6,13.6,15.0,15.0,10.1,10.1,9.9,9.9,5.1,5.1,4.9,4.9,0.0,0.0,1.5,1.5,0.0,0.0,1.5,1.5],\"type\":\"scatter\"},{\"hoverinfo\":\"name\",\"line\":{\"color\":\"grey\"},\"mode\":\"lines\",\"name\":\"Obstacle\",\"showlegend\":false,\"x\":[10.1,11.5,11.5,10.1,10.1,9.9,9.9,8.6,8.6,9.9,9.9,10.1,10.1],\"y\":[5.1,5.1,4.9,4.9,3.6,3.6,4.9,4.9,5.1,5.1,6.5,6.5,5.1],\"type\":\"scatter\"},{\"hoverinfo\":\"name\",\"line\":{\"color\":\"grey\"},\"mode\":\"lines\",\"name\":\"Obstacle\",\"showlegend\":false,\"x\":[10.1,11.5,11.5,10.1,10.1,9.9,9.9,8.6,8.6,9.9,9.9,10.1,10.1],\"y\":[10.1,10.1,9.9,9.9,8.6,8.6,9.9,9.9,10.1,10.1,11.5,11.5,10.1],\"type\":\"scatter\"},{\"hoverinfo\":\"name\",\"line\":{\"color\":\"grey\"},\"mode\":\"lines\",\"name\":\"Obstacle\",\"showlegend\":false,\"x\":[5.1,6.4,6.4,5.1,5.1,4.9,4.9,3.6,3.6,4.9,4.9,5.1,5.1],\"y\":[5.1,5.1,4.9,4.9,3.6,3.6,4.9,4.9,5.1,5.1,6.5,6.5,5.1],\"type\":\"scatter\"},{\"hoverinfo\":\"name\",\"line\":{\"color\":\"grey\"},\"mode\":\"lines\",\"name\":\"Obstacle\",\"showlegend\":false,\"x\":[5.1,6.4,6.4,5.1,5.1,4.9,4.9,3.6,3.6,4.9,4.9,5.1,5.1],\"y\":[10.1,10.1,9.9,9.9,8.6,8.6,9.9,9.9,10.1,10.1,11.5,11.5,10.1],\"type\":\"scatter\"},{\"fill\":\"toself\",\"fillcolor\":\"rgba(200, 0, 0, 0.40)\",\"hoverinfo\":\"name\",\"line\":{\"width\":0},\"mode\":\"lines\",\"name\":\"Risk Area\",\"showlegend\":false,\"x\":[0.0,5.0,5.0,0.0,0.0],\"y\":[0.0,0.0,5.0,5.0,0.0],\"type\":\"scatter\"},{\"fill\":\"toself\",\"fillcolor\":\"rgba(200, 0, 0, 0.10)\",\"hoverinfo\":\"name\",\"line\":{\"width\":0},\"mode\":\"lines\",\"name\":\"Risk Area\",\"showlegend\":false,\"x\":[5.0,10.0,10.0,5.0,5.0],\"y\":[0.0,0.0,5.0,5.0,0.0],\"type\":\"scatter\"},{\"fill\":\"toself\",\"fillcolor\":\"rgba(200, 0, 0, 0.10)\",\"hoverinfo\":\"name\",\"line\":{\"width\":0},\"mode\":\"lines\",\"name\":\"Risk Area\",\"showlegend\":false,\"x\":[10.0,15.0,15.0,10.0,10.0],\"y\":[0.0,0.0,5.0,5.0,0.0],\"type\":\"scatter\"},{\"fill\":\"toself\",\"fillcolor\":\"rgba(200, 0, 0, 0.00)\",\"hoverinfo\":\"name\",\"line\":{\"width\":0},\"mode\":\"lines\",\"name\":\"Risk Area\",\"showlegend\":false,\"x\":[10.0,15.0,15.0,10.0,10.0],\"y\":[5.0,5.0,10.0,10.0,5.0],\"type\":\"scatter\"},{\"fill\":\"toself\",\"fillcolor\":\"rgba(200, 0, 0, 0.60)\",\"hoverinfo\":\"name\",\"line\":{\"width\":0},\"mode\":\"lines\",\"name\":\"Risk Area\",\"showlegend\":false,\"x\":[5.0,10.0,10.0,5.0,5.0],\"y\":[5.0,5.0,10.0,10.0,5.0],\"type\":\"scatter\"},{\"fill\":\"toself\",\"fillcolor\":\"rgba(200, 0, 0, 0.10)\",\"hoverinfo\":\"name\",\"line\":{\"width\":0},\"mode\":\"lines\",\"name\":\"Risk Area\",\"showlegend\":false,\"x\":[0.0,5.0,5.0,0.0,0.0],\"y\":[5.0,5.0,10.0,10.0,5.0],\"type\":\"scatter\"},{\"fill\":\"toself\",\"fillcolor\":\"rgba(200, 0, 0, 0.00)\",\"hoverinfo\":\"name\",\"line\":{\"width\":0},\"mode\":\"lines\",\"name\":\"Risk Area\",\"showlegend\":false,\"x\":[0.0,5.0,5.0,0.0,0.0],\"y\":[10.0,10.0,15.0,15.0,10.0],\"type\":\"scatter\"},{\"fill\":\"toself\",\"fillcolor\":\"rgba(200, 0, 0, 0.30)\",\"hoverinfo\":\"name\",\"line\":{\"width\":0},\"mode\":\"lines\",\"name\":\"Risk Area\",\"showlegend\":false,\"x\":[5.0,10.0,10.0,5.0,5.0],\"y\":[10.0,10.0,15.0,15.0,10.0],\"type\":\"scatter\"},{\"fill\":\"toself\",\"fillcolor\":\"rgba(200, 0, 0, 0.00)\",\"hoverinfo\":\"name\",\"line\":{\"width\":0},\"mode\":\"lines\",\"name\":\"Risk Area\",\"showlegend\":false,\"x\":[10.0,15.0,15.0,10.0,10.0],\"y\":[10.0,10.0,15.0,15.0,10.0],\"type\":\"scatter\"},{\"hoverinfo\":\"text\",\"marker\":{\"opacity\":1,\"size\":1},\"mode\":\"markers\",\"showlegend\":false,\"text\":[\"ID: 62.0, Pos(11.41,8.09)\"],\"x\":[11.413156324156617],\"y\":[8.092195101766029],\"type\":\"scatter\"},{\"hoverinfo\":\"text\",\"marker\":{\"opacity\":1,\"size\":1},\"mode\":\"markers\",\"showlegend\":false,\"text\":[\"ID: 66.0, Pos(11.94,9.38)\"],\"x\":[11.943575042669474],\"y\":[9.383840388178676],\"type\":\"scatter\"},{\"hoverinfo\":\"text\",\"marker\":{\"opacity\":1,\"size\":1},\"mode\":\"markers\",\"showlegend\":false,\"text\":[\"ID: 67.0, Pos(13.11,12.26)\"],\"x\":[13.114596027854693],\"y\":[12.264146087388688],\"type\":\"scatter\"},{\"hoverinfo\":\"text\",\"marker\":{\"opacity\":1,\"size\":1},\"mode\":\"markers\",\"showlegend\":false,\"text\":[\"ID: 69.0, Pos(12.53,10.79)\"],\"x\":[12.529163503042218],\"y\":[10.793357486784949],\"type\":\"scatter\"},{\"hoverinfo\":\"none\",\"marker\":{\"opacity\":0,\"size\":1},\"mode\":\"markers\",\"showlegend\":false,\"x\":[0.0],\"y\":[0.0],\"type\":\"scatter\"},{\"hoverinfo\":\"none\",\"marker\":{\"opacity\":0,\"size\":1},\"mode\":\"markers\",\"showlegend\":false,\"x\":[0.0],\"y\":[0.0],\"type\":\"scatter\"},{\"hoverinfo\":\"none\",\"marker\":{\"opacity\":0,\"size\":1},\"mode\":\"markers\",\"showlegend\":false,\"x\":[0.0],\"y\":[0.0],\"type\":\"scatter\"},{\"hoverinfo\":\"none\",\"marker\":{\"opacity\":0,\"size\":1},\"mode\":\"markers\",\"showlegend\":false,\"x\":[0.0],\"y\":[0.0],\"type\":\"scatter\"},{\"hoverinfo\":\"none\",\"marker\":{\"opacity\":0,\"size\":1},\"mode\":\"markers\",\"showlegend\":false,\"x\":[0.0],\"y\":[0.0],\"type\":\"scatter\"},{\"hoverinfo\":\"none\",\"marker\":{\"opacity\":0,\"size\":1},\"mode\":\"markers\",\"showlegend\":false,\"x\":[0.0],\"y\":[0.0],\"type\":\"scatter\"}],\"layout\":{\"shapes\":[{\"fillcolor\":\"rgba(0, 61, 255, 0.5)\",\"line\":{\"color\":\"rgba(0, 61, 255, 0.5)\"},\"type\":\"circle\",\"x0\":11.213156324156618,\"x1\":11.613156324156616,\"xref\":\"x\",\"y0\":7.892195101766029,\"y1\":8.292195101766028,\"yref\":\"y\"},{\"fillcolor\":\"rgba(0, 0, 205, 0.5)\",\"line\":{\"color\":\"rgba(0, 0, 205, 0.5)\"},\"type\":\"circle\",\"x0\":11.743575042669475,\"x1\":12.143575042669474,\"xref\":\"x\",\"y0\":9.183840388178677,\"y1\":9.583840388178675,\"yref\":\"y\"},{\"fillcolor\":\"rgba(0, 0, 128, 0.5)\",\"line\":{\"color\":\"rgba(0, 0, 128, 0.5)\"},\"type\":\"circle\",\"x0\":12.914596027854694,\"x1\":13.314596027854693,\"xref\":\"x\",\"y0\":12.06414608738869,\"y1\":12.464146087388688,\"yref\":\"y\"},{\"fillcolor\":\"rgba(0, 0, 141, 0.5)\",\"line\":{\"color\":\"rgba(0, 0, 141, 0.5)\"},\"type\":\"circle\",\"x0\":12.329163503042219,\"x1\":12.729163503042217,\"xref\":\"x\",\"y0\":10.59335748678495,\"y1\":10.993357486784948,\"yref\":\"y\"},{\"fillcolor\":\"rgba(255,255,255,0)\",\"line\":{\"width\":0},\"type\":\"circle\",\"x0\":0.0,\"x1\":0.0,\"xref\":\"x\",\"y0\":0.0,\"y1\":0.0,\"yref\":\"y\"},{\"fillcolor\":\"rgba(255,255,255,0)\",\"line\":{\"width\":0},\"type\":\"circle\",\"x0\":0.0,\"x1\":0.0,\"xref\":\"x\",\"y0\":0.0,\"y1\":0.0,\"yref\":\"y\"},{\"fillcolor\":\"rgba(255,255,255,0)\",\"line\":{\"width\":0},\"type\":\"circle\",\"x0\":0.0,\"x1\":0.0,\"xref\":\"x\",\"y0\":0.0,\"y1\":0.0,\"yref\":\"y\"},{\"fillcolor\":\"rgba(255,255,255,0)\",\"line\":{\"width\":0},\"type\":\"circle\",\"x0\":0.0,\"x1\":0.0,\"xref\":\"x\",\"y0\":0.0,\"y1\":0.0,\"yref\":\"y\"},{\"fillcolor\":\"rgba(255,255,255,0)\",\"line\":{\"width\":0},\"type\":\"circle\",\"x0\":0.0,\"x1\":0.0,\"xref\":\"x\",\"y0\":0.0,\"y1\":0.0,\"yref\":\"y\"},{\"fillcolor\":\"rgba(255,255,255,0)\",\"line\":{\"width\":0},\"type\":\"circle\",\"x0\":0.0,\"x1\":0.0,\"xref\":\"x\",\"y0\":0.0,\"y1\":0.0,\"yref\":\"y\"},{\"line\":{\"color\":\"white\",\"width\":3},\"type\":\"line\",\"x0\":11.413156324156617,\"x1\":11.489506287663161,\"y0\":8.092195101766029,\"y1\":8.27704824096726},{\"line\":{\"color\":\"white\",\"width\":3},\"type\":\"line\",\"x0\":11.943575042669474,\"x1\":12.020142349890556,\"y0\":9.383840388178676,\"y1\":9.568603608179066},{\"line\":{\"color\":\"white\",\"width\":3},\"type\":\"line\",\"x0\":13.114596027854693,\"x1\":13.19323438138785,\"y0\":12.264146087388688,\"y1\":12.448037385044653},{\"line\":{\"color\":\"white\",\"width\":3},\"type\":\"line\",\"x0\":12.529163503042218,\"x1\":12.605495006696366,\"y0\":10.793357486784949,\"y1\":10.97821824938723},{\"line\":{\"color\":\"rgba(255,255,255,0)\",\"width\":3},\"type\":\"line\",\"x0\":0.0,\"x1\":null,\"y0\":0.0,\"y1\":null},{\"line\":{\"color\":\"rgba(255,255,255,0)\",\"width\":3},\"type\":\"line\",\"x0\":0.0,\"x1\":null,\"y0\":0.0,\"y1\":null},{\"line\":{\"color\":\"rgba(255,255,255,0)\",\"width\":3},\"type\":\"line\",\"x0\":0.0,\"x1\":null,\"y0\":0.0,\"y1\":null},{\"line\":{\"color\":\"rgba(255,255,255,0)\",\"width\":3},\"type\":\"line\",\"x0\":0.0,\"x1\":null,\"y0\":0.0,\"y1\":null},{\"line\":{\"color\":\"rgba(255,255,255,0)\",\"width\":3},\"type\":\"line\",\"x0\":0.0,\"x1\":null,\"y0\":0.0,\"y1\":null},{\"line\":{\"color\":\"rgba(255,255,255,0)\",\"width\":3},\"type\":\"line\",\"x0\":0.0,\"x1\":null,\"y0\":0.0,\"y1\":null}],\"title\":{\"text\":\"\\u003cb\\u003ePercentage using the shortest path: 0%  |  Number of Agents: 4\\u003c\\u002fb\\u003e\",\"x\":0.5}},\"name\":\"1050\"},{\"data\":[{\"hoverinfo\":\"name\",\"line\":{\"color\":\"grey\"},\"mode\":\"lines\",\"name\":\"Exterior\",\"showlegend\":false,\"x\":[10.1,10.1,15.0,15.0,13.6,13.6,15.0,15.0,13.6,13.6,15.0,15.0,10.1,10.1,9.9,9.9,5.1,5.1,4.9,4.9,0.0,0.0,1.5,1.5,0.0,0.0,1.5,1.5,0.0,0.0,4.9,4.9,5.1,5.1,9.9,9.9,10.1],\"y\":[1.5,0.0,0.0,4.9,4.9,5.1,5.1,9.9,9.9,10.1,10.1,15.0,15.0,13.6,13.6,15.0,15.0,13.6,13.6,15.0,15.0,10.1,10.1,9.9,9.9,5.1,5.1,4.9,4.9,0.0,0.0,1.5,1.5,0.0,0.0,1.5,1.5],\"type\":\"scatter\"},{\"hoverinfo\":\"name\",\"line\":{\"color\":\"grey\"},\"mode\":\"lines\",\"name\":\"Obstacle\",\"showlegend\":false,\"x\":[10.1,11.5,11.5,10.1,10.1,9.9,9.9,8.6,8.6,9.9,9.9,10.1,10.1],\"y\":[5.1,5.1,4.9,4.9,3.6,3.6,4.9,4.9,5.1,5.1,6.5,6.5,5.1],\"type\":\"scatter\"},{\"hoverinfo\":\"name\",\"line\":{\"color\":\"grey\"},\"mode\":\"lines\",\"name\":\"Obstacle\",\"showlegend\":false,\"x\":[10.1,11.5,11.5,10.1,10.1,9.9,9.9,8.6,8.6,9.9,9.9,10.1,10.1],\"y\":[10.1,10.1,9.9,9.9,8.6,8.6,9.9,9.9,10.1,10.1,11.5,11.5,10.1],\"type\":\"scatter\"},{\"hoverinfo\":\"name\",\"line\":{\"color\":\"grey\"},\"mode\":\"lines\",\"name\":\"Obstacle\",\"showlegend\":false,\"x\":[5.1,6.4,6.4,5.1,5.1,4.9,4.9,3.6,3.6,4.9,4.9,5.1,5.1],\"y\":[5.1,5.1,4.9,4.9,3.6,3.6,4.9,4.9,5.1,5.1,6.5,6.5,5.1],\"type\":\"scatter\"},{\"hoverinfo\":\"name\",\"line\":{\"color\":\"grey\"},\"mode\":\"lines\",\"name\":\"Obstacle\",\"showlegend\":false,\"x\":[5.1,6.4,6.4,5.1,5.1,4.9,4.9,3.6,3.6,4.9,4.9,5.1,5.1],\"y\":[10.1,10.1,9.9,9.9,8.6,8.6,9.9,9.9,10.1,10.1,11.5,11.5,10.1],\"type\":\"scatter\"},{\"fill\":\"toself\",\"fillcolor\":\"rgba(200, 0, 0, 0.40)\",\"hoverinfo\":\"name\",\"line\":{\"width\":0},\"mode\":\"lines\",\"name\":\"Risk Area\",\"showlegend\":false,\"x\":[0.0,5.0,5.0,0.0,0.0],\"y\":[0.0,0.0,5.0,5.0,0.0],\"type\":\"scatter\"},{\"fill\":\"toself\",\"fillcolor\":\"rgba(200, 0, 0, 0.20)\",\"hoverinfo\":\"name\",\"line\":{\"width\":0},\"mode\":\"lines\",\"name\":\"Risk Area\",\"showlegend\":false,\"x\":[5.0,10.0,10.0,5.0,5.0],\"y\":[0.0,0.0,5.0,5.0,0.0],\"type\":\"scatter\"},{\"fill\":\"toself\",\"fillcolor\":\"rgba(200, 0, 0, 0.10)\",\"hoverinfo\":\"name\",\"line\":{\"width\":0},\"mode\":\"lines\",\"name\":\"Risk Area\",\"showlegend\":false,\"x\":[10.0,15.0,15.0,10.0,10.0],\"y\":[0.0,0.0,5.0,5.0,0.0],\"type\":\"scatter\"},{\"fill\":\"toself\",\"fillcolor\":\"rgba(200, 0, 0, 0.00)\",\"hoverinfo\":\"name\",\"line\":{\"width\":0},\"mode\":\"lines\",\"name\":\"Risk Area\",\"showlegend\":false,\"x\":[10.0,15.0,15.0,10.0,10.0],\"y\":[5.0,5.0,10.0,10.0,5.0],\"type\":\"scatter\"},{\"fill\":\"toself\",\"fillcolor\":\"rgba(200, 0, 0, 0.60)\",\"hoverinfo\":\"name\",\"line\":{\"width\":0},\"mode\":\"lines\",\"name\":\"Risk Area\",\"showlegend\":false,\"x\":[5.0,10.0,10.0,5.0,5.0],\"y\":[5.0,5.0,10.0,10.0,5.0],\"type\":\"scatter\"},{\"fill\":\"toself\",\"fillcolor\":\"rgba(200, 0, 0, 0.10)\",\"hoverinfo\":\"name\",\"line\":{\"width\":0},\"mode\":\"lines\",\"name\":\"Risk Area\",\"showlegend\":false,\"x\":[0.0,5.0,5.0,0.0,0.0],\"y\":[5.0,5.0,10.0,10.0,5.0],\"type\":\"scatter\"},{\"fill\":\"toself\",\"fillcolor\":\"rgba(200, 0, 0, 0.00)\",\"hoverinfo\":\"name\",\"line\":{\"width\":0},\"mode\":\"lines\",\"name\":\"Risk Area\",\"showlegend\":false,\"x\":[0.0,5.0,5.0,0.0,0.0],\"y\":[10.0,10.0,15.0,15.0,10.0],\"type\":\"scatter\"},{\"fill\":\"toself\",\"fillcolor\":\"rgba(200, 0, 0, 0.30)\",\"hoverinfo\":\"name\",\"line\":{\"width\":0},\"mode\":\"lines\",\"name\":\"Risk Area\",\"showlegend\":false,\"x\":[5.0,10.0,10.0,5.0,5.0],\"y\":[10.0,10.0,15.0,15.0,10.0],\"type\":\"scatter\"},{\"fill\":\"toself\",\"fillcolor\":\"rgba(200, 0, 0, 0.00)\",\"hoverinfo\":\"name\",\"line\":{\"width\":0},\"mode\":\"lines\",\"name\":\"Risk Area\",\"showlegend\":false,\"x\":[10.0,15.0,15.0,10.0,10.0],\"y\":[10.0,10.0,15.0,15.0,10.0],\"type\":\"scatter\"},{\"hoverinfo\":\"text\",\"marker\":{\"opacity\":1,\"size\":1},\"mode\":\"markers\",\"showlegend\":false,\"text\":[\"ID: 62.0, Pos(11.81,9.06)\"],\"x\":[11.81431092694833],\"y\":[9.063441752163762],\"type\":\"scatter\"},{\"hoverinfo\":\"text\",\"marker\":{\"opacity\":1,\"size\":1},\"mode\":\"markers\",\"showlegend\":false,\"text\":[\"ID: 66.0, Pos(12.38,10.45)\"],\"x\":[12.384766040779233],\"y\":[10.44732647162489],\"type\":\"scatter\"},{\"hoverinfo\":\"text\",\"marker\":{\"opacity\":1,\"size\":1},\"mode\":\"markers\",\"showlegend\":false,\"text\":[\"ID: 69.0, Pos(12.99,11.90)\"],\"x\":[12.985867208855712],\"y\":[11.8994100783027],\"type\":\"scatter\"},{\"hoverinfo\":\"none\",\"marker\":{\"opacity\":0,\"size\":1},\"mode\":\"markers\",\"showlegend\":false,\"x\":[0.0],\"y\":[0.0],\"type\":\"scatter\"},{\"hoverinfo\":\"none\",\"marker\":{\"opacity\":0,\"size\":1},\"mode\":\"markers\",\"showlegend\":false,\"x\":[0.0],\"y\":[0.0],\"type\":\"scatter\"},{\"hoverinfo\":\"none\",\"marker\":{\"opacity\":0,\"size\":1},\"mode\":\"markers\",\"showlegend\":false,\"x\":[0.0],\"y\":[0.0],\"type\":\"scatter\"},{\"hoverinfo\":\"none\",\"marker\":{\"opacity\":0,\"size\":1},\"mode\":\"markers\",\"showlegend\":false,\"x\":[0.0],\"y\":[0.0],\"type\":\"scatter\"},{\"hoverinfo\":\"none\",\"marker\":{\"opacity\":0,\"size\":1},\"mode\":\"markers\",\"showlegend\":false,\"x\":[0.0],\"y\":[0.0],\"type\":\"scatter\"},{\"hoverinfo\":\"none\",\"marker\":{\"opacity\":0,\"size\":1},\"mode\":\"markers\",\"showlegend\":false,\"x\":[0.0],\"y\":[0.0],\"type\":\"scatter\"},{\"hoverinfo\":\"none\",\"marker\":{\"opacity\":0,\"size\":1},\"mode\":\"markers\",\"showlegend\":false,\"x\":[0.0],\"y\":[0.0],\"type\":\"scatter\"}],\"layout\":{\"shapes\":[{\"fillcolor\":\"rgba(0, 0, 232, 0.5)\",\"line\":{\"color\":\"rgba(0, 0, 232, 0.5)\"},\"type\":\"circle\",\"x0\":11.614310926948331,\"x1\":12.01431092694833,\"xref\":\"x\",\"y0\":8.863441752163762,\"y1\":9.26344175216376,\"yref\":\"y\"},{\"fillcolor\":\"rgba(0, 0, 155, 0.5)\",\"line\":{\"color\":\"rgba(0, 0, 155, 0.5)\"},\"type\":\"circle\",\"x0\":12.184766040779234,\"x1\":12.584766040779233,\"xref\":\"x\",\"y0\":10.247326471624891,\"y1\":10.64732647162489,\"yref\":\"y\"},{\"fillcolor\":\"rgba(0, 0, 128, 0.5)\",\"line\":{\"color\":\"rgba(0, 0, 128, 0.5)\"},\"type\":\"circle\",\"x0\":12.785867208855713,\"x1\":13.185867208855711,\"xref\":\"x\",\"y0\":11.699410078302702,\"y1\":12.0994100783027,\"yref\":\"y\"},{\"fillcolor\":\"rgba(255,255,255,0)\",\"line\":{\"width\":0},\"type\":\"circle\",\"x0\":0.0,\"x1\":0.0,\"xref\":\"x\",\"y0\":0.0,\"y1\":0.0,\"yref\":\"y\"},{\"fillcolor\":\"rgba(255,255,255,0)\",\"line\":{\"width\":0},\"type\":\"circle\",\"x0\":0.0,\"x1\":0.0,\"xref\":\"x\",\"y0\":0.0,\"y1\":0.0,\"yref\":\"y\"},{\"fillcolor\":\"rgba(255,255,255,0)\",\"line\":{\"width\":0},\"type\":\"circle\",\"x0\":0.0,\"x1\":0.0,\"xref\":\"x\",\"y0\":0.0,\"y1\":0.0,\"yref\":\"y\"},{\"fillcolor\":\"rgba(255,255,255,0)\",\"line\":{\"width\":0},\"type\":\"circle\",\"x0\":0.0,\"x1\":0.0,\"xref\":\"x\",\"y0\":0.0,\"y1\":0.0,\"yref\":\"y\"},{\"fillcolor\":\"rgba(255,255,255,0)\",\"line\":{\"width\":0},\"type\":\"circle\",\"x0\":0.0,\"x1\":0.0,\"xref\":\"x\",\"y0\":0.0,\"y1\":0.0,\"yref\":\"y\"},{\"fillcolor\":\"rgba(255,255,255,0)\",\"line\":{\"width\":0},\"type\":\"circle\",\"x0\":0.0,\"x1\":0.0,\"xref\":\"x\",\"y0\":0.0,\"y1\":0.0,\"yref\":\"y\"},{\"fillcolor\":\"rgba(255,255,255,0)\",\"line\":{\"width\":0},\"type\":\"circle\",\"x0\":0.0,\"x1\":0.0,\"xref\":\"x\",\"y0\":0.0,\"y1\":0.0,\"yref\":\"y\"},{\"line\":{\"color\":\"white\",\"width\":3},\"type\":\"line\",\"x0\":11.81431092694833,\"x1\":11.890661939320227,\"y0\":9.063441752163762,\"y1\":9.248294458148246},{\"line\":{\"color\":\"white\",\"width\":3},\"type\":\"line\",\"x0\":12.384766040779233,\"x1\":12.461170455977584,\"y0\":10.44732647162489,\"y1\":10.63215711123369},{\"line\":{\"color\":\"white\",\"width\":3},\"type\":\"line\",\"x0\":12.985867208855712,\"x1\":13.062198650998223,\"y0\":11.8994100783027,\"y1\":12.084270866303955},{\"line\":{\"color\":\"rgba(255,255,255,0)\",\"width\":3},\"type\":\"line\",\"x0\":0.0,\"x1\":null,\"y0\":0.0,\"y1\":null},{\"line\":{\"color\":\"rgba(255,255,255,0)\",\"width\":3},\"type\":\"line\",\"x0\":0.0,\"x1\":null,\"y0\":0.0,\"y1\":null},{\"line\":{\"color\":\"rgba(255,255,255,0)\",\"width\":3},\"type\":\"line\",\"x0\":0.0,\"x1\":null,\"y0\":0.0,\"y1\":null},{\"line\":{\"color\":\"rgba(255,255,255,0)\",\"width\":3},\"type\":\"line\",\"x0\":0.0,\"x1\":null,\"y0\":0.0,\"y1\":null},{\"line\":{\"color\":\"rgba(255,255,255,0)\",\"width\":3},\"type\":\"line\",\"x0\":0.0,\"x1\":null,\"y0\":0.0,\"y1\":null},{\"line\":{\"color\":\"rgba(255,255,255,0)\",\"width\":3},\"type\":\"line\",\"x0\":0.0,\"x1\":null,\"y0\":0.0,\"y1\":null},{\"line\":{\"color\":\"rgba(255,255,255,0)\",\"width\":3},\"type\":\"line\",\"x0\":0.0,\"x1\":null,\"y0\":0.0,\"y1\":null}],\"title\":{\"text\":\"\\u003cb\\u003ePercentage using the shortest path: 0%  |  Number of Agents: 3\\u003c\\u002fb\\u003e\",\"x\":0.5}},\"name\":\"1100\"},{\"data\":[{\"hoverinfo\":\"name\",\"line\":{\"color\":\"grey\"},\"mode\":\"lines\",\"name\":\"Exterior\",\"showlegend\":false,\"x\":[10.1,10.1,15.0,15.0,13.6,13.6,15.0,15.0,13.6,13.6,15.0,15.0,10.1,10.1,9.9,9.9,5.1,5.1,4.9,4.9,0.0,0.0,1.5,1.5,0.0,0.0,1.5,1.5,0.0,0.0,4.9,4.9,5.1,5.1,9.9,9.9,10.1],\"y\":[1.5,0.0,0.0,4.9,4.9,5.1,5.1,9.9,9.9,10.1,10.1,15.0,15.0,13.6,13.6,15.0,15.0,13.6,13.6,15.0,15.0,10.1,10.1,9.9,9.9,5.1,5.1,4.9,4.9,0.0,0.0,1.5,1.5,0.0,0.0,1.5,1.5],\"type\":\"scatter\"},{\"hoverinfo\":\"name\",\"line\":{\"color\":\"grey\"},\"mode\":\"lines\",\"name\":\"Obstacle\",\"showlegend\":false,\"x\":[10.1,11.5,11.5,10.1,10.1,9.9,9.9,8.6,8.6,9.9,9.9,10.1,10.1],\"y\":[5.1,5.1,4.9,4.9,3.6,3.6,4.9,4.9,5.1,5.1,6.5,6.5,5.1],\"type\":\"scatter\"},{\"hoverinfo\":\"name\",\"line\":{\"color\":\"grey\"},\"mode\":\"lines\",\"name\":\"Obstacle\",\"showlegend\":false,\"x\":[10.1,11.5,11.5,10.1,10.1,9.9,9.9,8.6,8.6,9.9,9.9,10.1,10.1],\"y\":[10.1,10.1,9.9,9.9,8.6,8.6,9.9,9.9,10.1,10.1,11.5,11.5,10.1],\"type\":\"scatter\"},{\"hoverinfo\":\"name\",\"line\":{\"color\":\"grey\"},\"mode\":\"lines\",\"name\":\"Obstacle\",\"showlegend\":false,\"x\":[5.1,6.4,6.4,5.1,5.1,4.9,4.9,3.6,3.6,4.9,4.9,5.1,5.1],\"y\":[5.1,5.1,4.9,4.9,3.6,3.6,4.9,4.9,5.1,5.1,6.5,6.5,5.1],\"type\":\"scatter\"},{\"hoverinfo\":\"name\",\"line\":{\"color\":\"grey\"},\"mode\":\"lines\",\"name\":\"Obstacle\",\"showlegend\":false,\"x\":[5.1,6.4,6.4,5.1,5.1,4.9,4.9,3.6,3.6,4.9,4.9,5.1,5.1],\"y\":[10.1,10.1,9.9,9.9,8.6,8.6,9.9,9.9,10.1,10.1,11.5,11.5,10.1],\"type\":\"scatter\"},{\"fill\":\"toself\",\"fillcolor\":\"rgba(200, 0, 0, 0.50)\",\"hoverinfo\":\"name\",\"line\":{\"width\":0},\"mode\":\"lines\",\"name\":\"Risk Area\",\"showlegend\":false,\"x\":[0.0,5.0,5.0,0.0,0.0],\"y\":[0.0,0.0,5.0,5.0,0.0],\"type\":\"scatter\"},{\"fill\":\"toself\",\"fillcolor\":\"rgba(200, 0, 0, 0.20)\",\"hoverinfo\":\"name\",\"line\":{\"width\":0},\"mode\":\"lines\",\"name\":\"Risk Area\",\"showlegend\":false,\"x\":[5.0,10.0,10.0,5.0,5.0],\"y\":[0.0,0.0,5.0,5.0,0.0],\"type\":\"scatter\"},{\"fill\":\"toself\",\"fillcolor\":\"rgba(200, 0, 0, 0.10)\",\"hoverinfo\":\"name\",\"line\":{\"width\":0},\"mode\":\"lines\",\"name\":\"Risk Area\",\"showlegend\":false,\"x\":[10.0,15.0,15.0,10.0,10.0],\"y\":[0.0,0.0,5.0,5.0,0.0],\"type\":\"scatter\"},{\"fill\":\"toself\",\"fillcolor\":\"rgba(200, 0, 0, 0.00)\",\"hoverinfo\":\"name\",\"line\":{\"width\":0},\"mode\":\"lines\",\"name\":\"Risk Area\",\"showlegend\":false,\"x\":[10.0,15.0,15.0,10.0,10.0],\"y\":[5.0,5.0,10.0,10.0,5.0],\"type\":\"scatter\"},{\"fill\":\"toself\",\"fillcolor\":\"rgba(200, 0, 0, 0.60)\",\"hoverinfo\":\"name\",\"line\":{\"width\":0},\"mode\":\"lines\",\"name\":\"Risk Area\",\"showlegend\":false,\"x\":[5.0,10.0,10.0,5.0,5.0],\"y\":[5.0,5.0,10.0,10.0,5.0],\"type\":\"scatter\"},{\"fill\":\"toself\",\"fillcolor\":\"rgba(200, 0, 0, 0.10)\",\"hoverinfo\":\"name\",\"line\":{\"width\":0},\"mode\":\"lines\",\"name\":\"Risk Area\",\"showlegend\":false,\"x\":[0.0,5.0,5.0,0.0,0.0],\"y\":[5.0,5.0,10.0,10.0,5.0],\"type\":\"scatter\"},{\"fill\":\"toself\",\"fillcolor\":\"rgba(200, 0, 0, 0.00)\",\"hoverinfo\":\"name\",\"line\":{\"width\":0},\"mode\":\"lines\",\"name\":\"Risk Area\",\"showlegend\":false,\"x\":[0.0,5.0,5.0,0.0,0.0],\"y\":[10.0,10.0,15.0,15.0,10.0],\"type\":\"scatter\"},{\"fill\":\"toself\",\"fillcolor\":\"rgba(200, 0, 0, 0.30)\",\"hoverinfo\":\"name\",\"line\":{\"width\":0},\"mode\":\"lines\",\"name\":\"Risk Area\",\"showlegend\":false,\"x\":[5.0,10.0,10.0,5.0,5.0],\"y\":[10.0,10.0,15.0,15.0,10.0],\"type\":\"scatter\"},{\"fill\":\"toself\",\"fillcolor\":\"rgba(200, 0, 0, 0.00)\",\"hoverinfo\":\"name\",\"line\":{\"width\":0},\"mode\":\"lines\",\"name\":\"Risk Area\",\"showlegend\":false,\"x\":[10.0,15.0,15.0,10.0,10.0],\"y\":[10.0,10.0,15.0,15.0,10.0],\"type\":\"scatter\"},{\"hoverinfo\":\"text\",\"marker\":{\"opacity\":1,\"size\":1},\"mode\":\"markers\",\"showlegend\":false,\"text\":[\"ID: 62.0, Pos(12.25,10.11)\"],\"x\":[12.246170134708077],\"y\":[10.105953204369104],\"type\":\"scatter\"},{\"hoverinfo\":\"text\",\"marker\":{\"opacity\":1,\"size\":1},\"mode\":\"markers\",\"showlegend\":false,\"text\":[\"ID: 66.0, Pos(12.84,11.55)\"],\"x\":[12.838588427600596],\"y\":[11.545180023144818],\"type\":\"scatter\"},{\"hoverinfo\":\"none\",\"marker\":{\"opacity\":0,\"size\":1},\"mode\":\"markers\",\"showlegend\":false,\"x\":[0.0],\"y\":[0.0],\"type\":\"scatter\"},{\"hoverinfo\":\"none\",\"marker\":{\"opacity\":0,\"size\":1},\"mode\":\"markers\",\"showlegend\":false,\"x\":[0.0],\"y\":[0.0],\"type\":\"scatter\"},{\"hoverinfo\":\"none\",\"marker\":{\"opacity\":0,\"size\":1},\"mode\":\"markers\",\"showlegend\":false,\"x\":[0.0],\"y\":[0.0],\"type\":\"scatter\"},{\"hoverinfo\":\"none\",\"marker\":{\"opacity\":0,\"size\":1},\"mode\":\"markers\",\"showlegend\":false,\"x\":[0.0],\"y\":[0.0],\"type\":\"scatter\"},{\"hoverinfo\":\"none\",\"marker\":{\"opacity\":0,\"size\":1},\"mode\":\"markers\",\"showlegend\":false,\"x\":[0.0],\"y\":[0.0],\"type\":\"scatter\"},{\"hoverinfo\":\"none\",\"marker\":{\"opacity\":0,\"size\":1},\"mode\":\"markers\",\"showlegend\":false,\"x\":[0.0],\"y\":[0.0],\"type\":\"scatter\"},{\"hoverinfo\":\"none\",\"marker\":{\"opacity\":0,\"size\":1},\"mode\":\"markers\",\"showlegend\":false,\"x\":[0.0],\"y\":[0.0],\"type\":\"scatter\"},{\"hoverinfo\":\"none\",\"marker\":{\"opacity\":0,\"size\":1},\"mode\":\"markers\",\"showlegend\":false,\"x\":[0.0],\"y\":[0.0],\"type\":\"scatter\"}],\"layout\":{\"shapes\":[{\"fillcolor\":\"rgba(0, 0, 173, 0.5)\",\"line\":{\"color\":\"rgba(0, 0, 173, 0.5)\"},\"type\":\"circle\",\"x0\":12.046170134708078,\"x1\":12.446170134708076,\"xref\":\"x\",\"y0\":9.905953204369105,\"y1\":10.305953204369104,\"yref\":\"y\"},{\"fillcolor\":\"rgba(0, 0, 128, 0.5)\",\"line\":{\"color\":\"rgba(0, 0, 128, 0.5)\"},\"type\":\"circle\",\"x0\":12.638588427600597,\"x1\":13.038588427600596,\"xref\":\"x\",\"y0\":11.345180023144819,\"y1\":11.745180023144817,\"yref\":\"y\"},{\"fillcolor\":\"rgba(255,255,255,0)\",\"line\":{\"width\":0},\"type\":\"circle\",\"x0\":0.0,\"x1\":0.0,\"xref\":\"x\",\"y0\":0.0,\"y1\":0.0,\"yref\":\"y\"},{\"fillcolor\":\"rgba(255,255,255,0)\",\"line\":{\"width\":0},\"type\":\"circle\",\"x0\":0.0,\"x1\":0.0,\"xref\":\"x\",\"y0\":0.0,\"y1\":0.0,\"yref\":\"y\"},{\"fillcolor\":\"rgba(255,255,255,0)\",\"line\":{\"width\":0},\"type\":\"circle\",\"x0\":0.0,\"x1\":0.0,\"xref\":\"x\",\"y0\":0.0,\"y1\":0.0,\"yref\":\"y\"},{\"fillcolor\":\"rgba(255,255,255,0)\",\"line\":{\"width\":0},\"type\":\"circle\",\"x0\":0.0,\"x1\":0.0,\"xref\":\"x\",\"y0\":0.0,\"y1\":0.0,\"yref\":\"y\"},{\"fillcolor\":\"rgba(255,255,255,0)\",\"line\":{\"width\":0},\"type\":\"circle\",\"x0\":0.0,\"x1\":0.0,\"xref\":\"x\",\"y0\":0.0,\"y1\":0.0,\"yref\":\"y\"},{\"fillcolor\":\"rgba(255,255,255,0)\",\"line\":{\"width\":0},\"type\":\"circle\",\"x0\":0.0,\"x1\":0.0,\"xref\":\"x\",\"y0\":0.0,\"y1\":0.0,\"yref\":\"y\"},{\"fillcolor\":\"rgba(255,255,255,0)\",\"line\":{\"width\":0},\"type\":\"circle\",\"x0\":0.0,\"x1\":0.0,\"xref\":\"x\",\"y0\":0.0,\"y1\":0.0,\"yref\":\"y\"},{\"fillcolor\":\"rgba(255,255,255,0)\",\"line\":{\"width\":0},\"type\":\"circle\",\"x0\":0.0,\"x1\":0.0,\"xref\":\"x\",\"y0\":0.0,\"y1\":0.0,\"yref\":\"y\"},{\"line\":{\"color\":\"white\",\"width\":3},\"type\":\"line\",\"x0\":12.246170134708077,\"x1\":12.322505330672936,\"y0\":10.105953204369104,\"y1\":10.290812442323302},{\"line\":{\"color\":\"white\",\"width\":3},\"type\":\"line\",\"x0\":12.838588427600596,\"x1\":12.91499237222998,\"y0\":11.545180023144818,\"y1\":11.73001085727449},{\"line\":{\"color\":\"rgba(255,255,255,0)\",\"width\":3},\"type\":\"line\",\"x0\":0.0,\"x1\":null,\"y0\":0.0,\"y1\":null},{\"line\":{\"color\":\"rgba(255,255,255,0)\",\"width\":3},\"type\":\"line\",\"x0\":0.0,\"x1\":null,\"y0\":0.0,\"y1\":null},{\"line\":{\"color\":\"rgba(255,255,255,0)\",\"width\":3},\"type\":\"line\",\"x0\":0.0,\"x1\":null,\"y0\":0.0,\"y1\":null},{\"line\":{\"color\":\"rgba(255,255,255,0)\",\"width\":3},\"type\":\"line\",\"x0\":0.0,\"x1\":null,\"y0\":0.0,\"y1\":null},{\"line\":{\"color\":\"rgba(255,255,255,0)\",\"width\":3},\"type\":\"line\",\"x0\":0.0,\"x1\":null,\"y0\":0.0,\"y1\":null},{\"line\":{\"color\":\"rgba(255,255,255,0)\",\"width\":3},\"type\":\"line\",\"x0\":0.0,\"x1\":null,\"y0\":0.0,\"y1\":null},{\"line\":{\"color\":\"rgba(255,255,255,0)\",\"width\":3},\"type\":\"line\",\"x0\":0.0,\"x1\":null,\"y0\":0.0,\"y1\":null},{\"line\":{\"color\":\"rgba(255,255,255,0)\",\"width\":3},\"type\":\"line\",\"x0\":0.0,\"x1\":null,\"y0\":0.0,\"y1\":null}],\"title\":{\"text\":\"\\u003cb\\u003ePercentage using the shortest path: 0%  |  Number of Agents: 2\\u003c\\u002fb\\u003e\",\"x\":0.5}},\"name\":\"1150\"},{\"data\":[{\"hoverinfo\":\"name\",\"line\":{\"color\":\"grey\"},\"mode\":\"lines\",\"name\":\"Exterior\",\"showlegend\":false,\"x\":[10.1,10.1,15.0,15.0,13.6,13.6,15.0,15.0,13.6,13.6,15.0,15.0,10.1,10.1,9.9,9.9,5.1,5.1,4.9,4.9,0.0,0.0,1.5,1.5,0.0,0.0,1.5,1.5,0.0,0.0,4.9,4.9,5.1,5.1,9.9,9.9,10.1],\"y\":[1.5,0.0,0.0,4.9,4.9,5.1,5.1,9.9,9.9,10.1,10.1,15.0,15.0,13.6,13.6,15.0,15.0,13.6,13.6,15.0,15.0,10.1,10.1,9.9,9.9,5.1,5.1,4.9,4.9,0.0,0.0,1.5,1.5,0.0,0.0,1.5,1.5],\"type\":\"scatter\"},{\"hoverinfo\":\"name\",\"line\":{\"color\":\"grey\"},\"mode\":\"lines\",\"name\":\"Obstacle\",\"showlegend\":false,\"x\":[10.1,11.5,11.5,10.1,10.1,9.9,9.9,8.6,8.6,9.9,9.9,10.1,10.1],\"y\":[5.1,5.1,4.9,4.9,3.6,3.6,4.9,4.9,5.1,5.1,6.5,6.5,5.1],\"type\":\"scatter\"},{\"hoverinfo\":\"name\",\"line\":{\"color\":\"grey\"},\"mode\":\"lines\",\"name\":\"Obstacle\",\"showlegend\":false,\"x\":[10.1,11.5,11.5,10.1,10.1,9.9,9.9,8.6,8.6,9.9,9.9,10.1,10.1],\"y\":[10.1,10.1,9.9,9.9,8.6,8.6,9.9,9.9,10.1,10.1,11.5,11.5,10.1],\"type\":\"scatter\"},{\"hoverinfo\":\"name\",\"line\":{\"color\":\"grey\"},\"mode\":\"lines\",\"name\":\"Obstacle\",\"showlegend\":false,\"x\":[5.1,6.4,6.4,5.1,5.1,4.9,4.9,3.6,3.6,4.9,4.9,5.1,5.1],\"y\":[5.1,5.1,4.9,4.9,3.6,3.6,4.9,4.9,5.1,5.1,6.5,6.5,5.1],\"type\":\"scatter\"},{\"hoverinfo\":\"name\",\"line\":{\"color\":\"grey\"},\"mode\":\"lines\",\"name\":\"Obstacle\",\"showlegend\":false,\"x\":[5.1,6.4,6.4,5.1,5.1,4.9,4.9,3.6,3.6,4.9,4.9,5.1,5.1],\"y\":[10.1,10.1,9.9,9.9,8.6,8.6,9.9,9.9,10.1,10.1,11.5,11.5,10.1],\"type\":\"scatter\"},{\"fill\":\"toself\",\"fillcolor\":\"rgba(200, 0, 0, 0.50)\",\"hoverinfo\":\"name\",\"line\":{\"width\":0},\"mode\":\"lines\",\"name\":\"Risk Area\",\"showlegend\":false,\"x\":[0.0,5.0,5.0,0.0,0.0],\"y\":[0.0,0.0,5.0,5.0,0.0],\"type\":\"scatter\"},{\"fill\":\"toself\",\"fillcolor\":\"rgba(200, 0, 0, 0.20)\",\"hoverinfo\":\"name\",\"line\":{\"width\":0},\"mode\":\"lines\",\"name\":\"Risk Area\",\"showlegend\":false,\"x\":[5.0,10.0,10.0,5.0,5.0],\"y\":[0.0,0.0,5.0,5.0,0.0],\"type\":\"scatter\"},{\"fill\":\"toself\",\"fillcolor\":\"rgba(200, 0, 0, 0.10)\",\"hoverinfo\":\"name\",\"line\":{\"width\":0},\"mode\":\"lines\",\"name\":\"Risk Area\",\"showlegend\":false,\"x\":[10.0,15.0,15.0,10.0,10.0],\"y\":[0.0,0.0,5.0,5.0,0.0],\"type\":\"scatter\"},{\"fill\":\"toself\",\"fillcolor\":\"rgba(200, 0, 0, 0.00)\",\"hoverinfo\":\"name\",\"line\":{\"width\":0},\"mode\":\"lines\",\"name\":\"Risk Area\",\"showlegend\":false,\"x\":[10.0,15.0,15.0,10.0,10.0],\"y\":[5.0,5.0,10.0,10.0,5.0],\"type\":\"scatter\"},{\"fill\":\"toself\",\"fillcolor\":\"rgba(200, 0, 0, 0.60)\",\"hoverinfo\":\"name\",\"line\":{\"width\":0},\"mode\":\"lines\",\"name\":\"Risk Area\",\"showlegend\":false,\"x\":[5.0,10.0,10.0,5.0,5.0],\"y\":[5.0,5.0,10.0,10.0,5.0],\"type\":\"scatter\"},{\"fill\":\"toself\",\"fillcolor\":\"rgba(200, 0, 0, 0.10)\",\"hoverinfo\":\"name\",\"line\":{\"width\":0},\"mode\":\"lines\",\"name\":\"Risk Area\",\"showlegend\":false,\"x\":[0.0,5.0,5.0,0.0,0.0],\"y\":[5.0,5.0,10.0,10.0,5.0],\"type\":\"scatter\"},{\"fill\":\"toself\",\"fillcolor\":\"rgba(200, 0, 0, 0.00)\",\"hoverinfo\":\"name\",\"line\":{\"width\":0},\"mode\":\"lines\",\"name\":\"Risk Area\",\"showlegend\":false,\"x\":[0.0,5.0,5.0,0.0,0.0],\"y\":[10.0,10.0,15.0,15.0,10.0],\"type\":\"scatter\"},{\"fill\":\"toself\",\"fillcolor\":\"rgba(200, 0, 0, 0.30)\",\"hoverinfo\":\"name\",\"line\":{\"width\":0},\"mode\":\"lines\",\"name\":\"Risk Area\",\"showlegend\":false,\"x\":[5.0,10.0,10.0,5.0,5.0],\"y\":[10.0,10.0,15.0,15.0,10.0],\"type\":\"scatter\"},{\"fill\":\"toself\",\"fillcolor\":\"rgba(200, 0, 0, 0.00)\",\"hoverinfo\":\"name\",\"line\":{\"width\":0},\"mode\":\"lines\",\"name\":\"Risk Area\",\"showlegend\":false,\"x\":[10.0,15.0,15.0,10.0,10.0],\"y\":[10.0,10.0,15.0,15.0,10.0],\"type\":\"scatter\"},{\"hoverinfo\":\"text\",\"marker\":{\"opacity\":1,\"size\":1},\"mode\":\"markers\",\"showlegend\":false,\"text\":[\"ID: 62.0, Pos(12.69,11.19)\"],\"x\":[12.694269478356622],\"y\":[11.191739958390961],\"type\":\"scatter\"},{\"hoverinfo\":\"none\",\"marker\":{\"opacity\":0,\"size\":1},\"mode\":\"markers\",\"showlegend\":false,\"x\":[0.0],\"y\":[0.0],\"type\":\"scatter\"},{\"hoverinfo\":\"none\",\"marker\":{\"opacity\":0,\"size\":1},\"mode\":\"markers\",\"showlegend\":false,\"x\":[0.0],\"y\":[0.0],\"type\":\"scatter\"},{\"hoverinfo\":\"none\",\"marker\":{\"opacity\":0,\"size\":1},\"mode\":\"markers\",\"showlegend\":false,\"x\":[0.0],\"y\":[0.0],\"type\":\"scatter\"},{\"hoverinfo\":\"none\",\"marker\":{\"opacity\":0,\"size\":1},\"mode\":\"markers\",\"showlegend\":false,\"x\":[0.0],\"y\":[0.0],\"type\":\"scatter\"},{\"hoverinfo\":\"none\",\"marker\":{\"opacity\":0,\"size\":1},\"mode\":\"markers\",\"showlegend\":false,\"x\":[0.0],\"y\":[0.0],\"type\":\"scatter\"},{\"hoverinfo\":\"none\",\"marker\":{\"opacity\":0,\"size\":1},\"mode\":\"markers\",\"showlegend\":false,\"x\":[0.0],\"y\":[0.0],\"type\":\"scatter\"},{\"hoverinfo\":\"none\",\"marker\":{\"opacity\":0,\"size\":1},\"mode\":\"markers\",\"showlegend\":false,\"x\":[0.0],\"y\":[0.0],\"type\":\"scatter\"},{\"hoverinfo\":\"none\",\"marker\":{\"opacity\":0,\"size\":1},\"mode\":\"markers\",\"showlegend\":false,\"x\":[0.0],\"y\":[0.0],\"type\":\"scatter\"},{\"hoverinfo\":\"none\",\"marker\":{\"opacity\":0,\"size\":1},\"mode\":\"markers\",\"showlegend\":false,\"x\":[0.0],\"y\":[0.0],\"type\":\"scatter\"}],\"layout\":{\"shapes\":[{\"fillcolor\":\"rgba(0, 0, 128, 0.5)\",\"line\":{\"color\":\"rgba(0, 0, 128, 0.5)\"},\"type\":\"circle\",\"x0\":12.494269478356623,\"x1\":12.894269478356621,\"xref\":\"x\",\"y0\":10.991739958390962,\"y1\":11.39173995839096,\"yref\":\"y\"},{\"fillcolor\":\"rgba(255,255,255,0)\",\"line\":{\"width\":0},\"type\":\"circle\",\"x0\":0.0,\"x1\":0.0,\"xref\":\"x\",\"y0\":0.0,\"y1\":0.0,\"yref\":\"y\"},{\"fillcolor\":\"rgba(255,255,255,0)\",\"line\":{\"width\":0},\"type\":\"circle\",\"x0\":0.0,\"x1\":0.0,\"xref\":\"x\",\"y0\":0.0,\"y1\":0.0,\"yref\":\"y\"},{\"fillcolor\":\"rgba(255,255,255,0)\",\"line\":{\"width\":0},\"type\":\"circle\",\"x0\":0.0,\"x1\":0.0,\"xref\":\"x\",\"y0\":0.0,\"y1\":0.0,\"yref\":\"y\"},{\"fillcolor\":\"rgba(255,255,255,0)\",\"line\":{\"width\":0},\"type\":\"circle\",\"x0\":0.0,\"x1\":0.0,\"xref\":\"x\",\"y0\":0.0,\"y1\":0.0,\"yref\":\"y\"},{\"fillcolor\":\"rgba(255,255,255,0)\",\"line\":{\"width\":0},\"type\":\"circle\",\"x0\":0.0,\"x1\":0.0,\"xref\":\"x\",\"y0\":0.0,\"y1\":0.0,\"yref\":\"y\"},{\"fillcolor\":\"rgba(255,255,255,0)\",\"line\":{\"width\":0},\"type\":\"circle\",\"x0\":0.0,\"x1\":0.0,\"xref\":\"x\",\"y0\":0.0,\"y1\":0.0,\"yref\":\"y\"},{\"fillcolor\":\"rgba(255,255,255,0)\",\"line\":{\"width\":0},\"type\":\"circle\",\"x0\":0.0,\"x1\":0.0,\"xref\":\"x\",\"y0\":0.0,\"y1\":0.0,\"yref\":\"y\"},{\"fillcolor\":\"rgba(255,255,255,0)\",\"line\":{\"width\":0},\"type\":\"circle\",\"x0\":0.0,\"x1\":0.0,\"xref\":\"x\",\"y0\":0.0,\"y1\":0.0,\"yref\":\"y\"},{\"fillcolor\":\"rgba(255,255,255,0)\",\"line\":{\"width\":0},\"type\":\"circle\",\"x0\":0.0,\"x1\":0.0,\"xref\":\"x\",\"y0\":0.0,\"y1\":0.0,\"yref\":\"y\"},{\"line\":{\"color\":\"white\",\"width\":3},\"type\":\"line\",\"x0\":12.694269478356622,\"x1\":12.77056334531303,\"y0\":11.191739958390961,\"y1\":11.37661625720949},{\"line\":{\"color\":\"rgba(255,255,255,0)\",\"width\":3},\"type\":\"line\",\"x0\":0.0,\"x1\":null,\"y0\":0.0,\"y1\":null},{\"line\":{\"color\":\"rgba(255,255,255,0)\",\"width\":3},\"type\":\"line\",\"x0\":0.0,\"x1\":null,\"y0\":0.0,\"y1\":null},{\"line\":{\"color\":\"rgba(255,255,255,0)\",\"width\":3},\"type\":\"line\",\"x0\":0.0,\"x1\":null,\"y0\":0.0,\"y1\":null},{\"line\":{\"color\":\"rgba(255,255,255,0)\",\"width\":3},\"type\":\"line\",\"x0\":0.0,\"x1\":null,\"y0\":0.0,\"y1\":null},{\"line\":{\"color\":\"rgba(255,255,255,0)\",\"width\":3},\"type\":\"line\",\"x0\":0.0,\"x1\":null,\"y0\":0.0,\"y1\":null},{\"line\":{\"color\":\"rgba(255,255,255,0)\",\"width\":3},\"type\":\"line\",\"x0\":0.0,\"x1\":null,\"y0\":0.0,\"y1\":null},{\"line\":{\"color\":\"rgba(255,255,255,0)\",\"width\":3},\"type\":\"line\",\"x0\":0.0,\"x1\":null,\"y0\":0.0,\"y1\":null},{\"line\":{\"color\":\"rgba(255,255,255,0)\",\"width\":3},\"type\":\"line\",\"x0\":0.0,\"x1\":null,\"y0\":0.0,\"y1\":null},{\"line\":{\"color\":\"rgba(255,255,255,0)\",\"width\":3},\"type\":\"line\",\"x0\":0.0,\"x1\":null,\"y0\":0.0,\"y1\":null}],\"title\":{\"text\":\"\\u003cb\\u003ePercentage using the shortest path: 0%  |  Number of Agents: 1\\u003c\\u002fb\\u003e\",\"x\":0.5}},\"name\":\"1200\"},{\"data\":[{\"hoverinfo\":\"name\",\"line\":{\"color\":\"grey\"},\"mode\":\"lines\",\"name\":\"Exterior\",\"showlegend\":false,\"x\":[10.1,10.1,15.0,15.0,13.6,13.6,15.0,15.0,13.6,13.6,15.0,15.0,10.1,10.1,9.9,9.9,5.1,5.1,4.9,4.9,0.0,0.0,1.5,1.5,0.0,0.0,1.5,1.5,0.0,0.0,4.9,4.9,5.1,5.1,9.9,9.9,10.1],\"y\":[1.5,0.0,0.0,4.9,4.9,5.1,5.1,9.9,9.9,10.1,10.1,15.0,15.0,13.6,13.6,15.0,15.0,13.6,13.6,15.0,15.0,10.1,10.1,9.9,9.9,5.1,5.1,4.9,4.9,0.0,0.0,1.5,1.5,0.0,0.0,1.5,1.5],\"type\":\"scatter\"},{\"hoverinfo\":\"name\",\"line\":{\"color\":\"grey\"},\"mode\":\"lines\",\"name\":\"Obstacle\",\"showlegend\":false,\"x\":[10.1,11.5,11.5,10.1,10.1,9.9,9.9,8.6,8.6,9.9,9.9,10.1,10.1],\"y\":[5.1,5.1,4.9,4.9,3.6,3.6,4.9,4.9,5.1,5.1,6.5,6.5,5.1],\"type\":\"scatter\"},{\"hoverinfo\":\"name\",\"line\":{\"color\":\"grey\"},\"mode\":\"lines\",\"name\":\"Obstacle\",\"showlegend\":false,\"x\":[10.1,11.5,11.5,10.1,10.1,9.9,9.9,8.6,8.6,9.9,9.9,10.1,10.1],\"y\":[10.1,10.1,9.9,9.9,8.6,8.6,9.9,9.9,10.1,10.1,11.5,11.5,10.1],\"type\":\"scatter\"},{\"hoverinfo\":\"name\",\"line\":{\"color\":\"grey\"},\"mode\":\"lines\",\"name\":\"Obstacle\",\"showlegend\":false,\"x\":[5.1,6.4,6.4,5.1,5.1,4.9,4.9,3.6,3.6,4.9,4.9,5.1,5.1],\"y\":[5.1,5.1,4.9,4.9,3.6,3.6,4.9,4.9,5.1,5.1,6.5,6.5,5.1],\"type\":\"scatter\"},{\"hoverinfo\":\"name\",\"line\":{\"color\":\"grey\"},\"mode\":\"lines\",\"name\":\"Obstacle\",\"showlegend\":false,\"x\":[5.1,6.4,6.4,5.1,5.1,4.9,4.9,3.6,3.6,4.9,4.9,5.1,5.1],\"y\":[10.1,10.1,9.9,9.9,8.6,8.6,9.9,9.9,10.1,10.1,11.5,11.5,10.1],\"type\":\"scatter\"},{\"fill\":\"toself\",\"fillcolor\":\"rgba(200, 0, 0, 0.50)\",\"hoverinfo\":\"name\",\"line\":{\"width\":0},\"mode\":\"lines\",\"name\":\"Risk Area\",\"showlegend\":false,\"x\":[0.0,5.0,5.0,0.0,0.0],\"y\":[0.0,0.0,5.0,5.0,0.0],\"type\":\"scatter\"},{\"fill\":\"toself\",\"fillcolor\":\"rgba(200, 0, 0, 0.20)\",\"hoverinfo\":\"name\",\"line\":{\"width\":0},\"mode\":\"lines\",\"name\":\"Risk Area\",\"showlegend\":false,\"x\":[5.0,10.0,10.0,5.0,5.0],\"y\":[0.0,0.0,5.0,5.0,0.0],\"type\":\"scatter\"},{\"fill\":\"toself\",\"fillcolor\":\"rgba(200, 0, 0, 0.10)\",\"hoverinfo\":\"name\",\"line\":{\"width\":0},\"mode\":\"lines\",\"name\":\"Risk Area\",\"showlegend\":false,\"x\":[10.0,15.0,15.0,10.0,10.0],\"y\":[0.0,0.0,5.0,5.0,0.0],\"type\":\"scatter\"},{\"fill\":\"toself\",\"fillcolor\":\"rgba(200, 0, 0, 0.00)\",\"hoverinfo\":\"name\",\"line\":{\"width\":0},\"mode\":\"lines\",\"name\":\"Risk Area\",\"showlegend\":false,\"x\":[10.0,15.0,15.0,10.0,10.0],\"y\":[5.0,5.0,10.0,10.0,5.0],\"type\":\"scatter\"},{\"fill\":\"toself\",\"fillcolor\":\"rgba(200, 0, 0, 0.60)\",\"hoverinfo\":\"name\",\"line\":{\"width\":0},\"mode\":\"lines\",\"name\":\"Risk Area\",\"showlegend\":false,\"x\":[5.0,10.0,10.0,5.0,5.0],\"y\":[5.0,5.0,10.0,10.0,5.0],\"type\":\"scatter\"},{\"fill\":\"toself\",\"fillcolor\":\"rgba(200, 0, 0, 0.10)\",\"hoverinfo\":\"name\",\"line\":{\"width\":0},\"mode\":\"lines\",\"name\":\"Risk Area\",\"showlegend\":false,\"x\":[0.0,5.0,5.0,0.0,0.0],\"y\":[5.0,5.0,10.0,10.0,5.0],\"type\":\"scatter\"},{\"fill\":\"toself\",\"fillcolor\":\"rgba(200, 0, 0, 0.00)\",\"hoverinfo\":\"name\",\"line\":{\"width\":0},\"mode\":\"lines\",\"name\":\"Risk Area\",\"showlegend\":false,\"x\":[0.0,5.0,5.0,0.0,0.0],\"y\":[10.0,10.0,15.0,15.0,10.0],\"type\":\"scatter\"},{\"fill\":\"toself\",\"fillcolor\":\"rgba(200, 0, 0, 0.30)\",\"hoverinfo\":\"name\",\"line\":{\"width\":0},\"mode\":\"lines\",\"name\":\"Risk Area\",\"showlegend\":false,\"x\":[5.0,10.0,10.0,5.0,5.0],\"y\":[10.0,10.0,15.0,15.0,10.0],\"type\":\"scatter\"},{\"fill\":\"toself\",\"fillcolor\":\"rgba(200, 0, 0, 0.00)\",\"hoverinfo\":\"name\",\"line\":{\"width\":0},\"mode\":\"lines\",\"name\":\"Risk Area\",\"showlegend\":false,\"x\":[10.0,15.0,15.0,10.0,10.0],\"y\":[10.0,10.0,15.0,15.0,10.0],\"type\":\"scatter\"},{\"hoverinfo\":\"text\",\"marker\":{\"opacity\":1,\"size\":1},\"mode\":\"markers\",\"showlegend\":false,\"text\":[\"ID: 62.0, Pos(13.15,12.30)\"],\"x\":[13.15203268035681],\"y\":[12.300997751194181],\"type\":\"scatter\"},{\"hoverinfo\":\"none\",\"marker\":{\"opacity\":0,\"size\":1},\"mode\":\"markers\",\"showlegend\":false,\"x\":[0.0],\"y\":[0.0],\"type\":\"scatter\"},{\"hoverinfo\":\"none\",\"marker\":{\"opacity\":0,\"size\":1},\"mode\":\"markers\",\"showlegend\":false,\"x\":[0.0],\"y\":[0.0],\"type\":\"scatter\"},{\"hoverinfo\":\"none\",\"marker\":{\"opacity\":0,\"size\":1},\"mode\":\"markers\",\"showlegend\":false,\"x\":[0.0],\"y\":[0.0],\"type\":\"scatter\"},{\"hoverinfo\":\"none\",\"marker\":{\"opacity\":0,\"size\":1},\"mode\":\"markers\",\"showlegend\":false,\"x\":[0.0],\"y\":[0.0],\"type\":\"scatter\"},{\"hoverinfo\":\"none\",\"marker\":{\"opacity\":0,\"size\":1},\"mode\":\"markers\",\"showlegend\":false,\"x\":[0.0],\"y\":[0.0],\"type\":\"scatter\"},{\"hoverinfo\":\"none\",\"marker\":{\"opacity\":0,\"size\":1},\"mode\":\"markers\",\"showlegend\":false,\"x\":[0.0],\"y\":[0.0],\"type\":\"scatter\"},{\"hoverinfo\":\"none\",\"marker\":{\"opacity\":0,\"size\":1},\"mode\":\"markers\",\"showlegend\":false,\"x\":[0.0],\"y\":[0.0],\"type\":\"scatter\"},{\"hoverinfo\":\"none\",\"marker\":{\"opacity\":0,\"size\":1},\"mode\":\"markers\",\"showlegend\":false,\"x\":[0.0],\"y\":[0.0],\"type\":\"scatter\"},{\"hoverinfo\":\"none\",\"marker\":{\"opacity\":0,\"size\":1},\"mode\":\"markers\",\"showlegend\":false,\"x\":[0.0],\"y\":[0.0],\"type\":\"scatter\"}],\"layout\":{\"shapes\":[{\"fillcolor\":\"rgba(0, 0, 128, 0.5)\",\"line\":{\"color\":\"rgba(0, 0, 128, 0.5)\"},\"type\":\"circle\",\"x0\":12.95203268035681,\"x1\":13.352032680356809,\"xref\":\"x\",\"y0\":12.100997751194182,\"y1\":12.50099775119418,\"yref\":\"y\"},{\"fillcolor\":\"rgba(255,255,255,0)\",\"line\":{\"width\":0},\"type\":\"circle\",\"x0\":0.0,\"x1\":0.0,\"xref\":\"x\",\"y0\":0.0,\"y1\":0.0,\"yref\":\"y\"},{\"fillcolor\":\"rgba(255,255,255,0)\",\"line\":{\"width\":0},\"type\":\"circle\",\"x0\":0.0,\"x1\":0.0,\"xref\":\"x\",\"y0\":0.0,\"y1\":0.0,\"yref\":\"y\"},{\"fillcolor\":\"rgba(255,255,255,0)\",\"line\":{\"width\":0},\"type\":\"circle\",\"x0\":0.0,\"x1\":0.0,\"xref\":\"x\",\"y0\":0.0,\"y1\":0.0,\"yref\":\"y\"},{\"fillcolor\":\"rgba(255,255,255,0)\",\"line\":{\"width\":0},\"type\":\"circle\",\"x0\":0.0,\"x1\":0.0,\"xref\":\"x\",\"y0\":0.0,\"y1\":0.0,\"yref\":\"y\"},{\"fillcolor\":\"rgba(255,255,255,0)\",\"line\":{\"width\":0},\"type\":\"circle\",\"x0\":0.0,\"x1\":0.0,\"xref\":\"x\",\"y0\":0.0,\"y1\":0.0,\"yref\":\"y\"},{\"fillcolor\":\"rgba(255,255,255,0)\",\"line\":{\"width\":0},\"type\":\"circle\",\"x0\":0.0,\"x1\":0.0,\"xref\":\"x\",\"y0\":0.0,\"y1\":0.0,\"yref\":\"y\"},{\"fillcolor\":\"rgba(255,255,255,0)\",\"line\":{\"width\":0},\"type\":\"circle\",\"x0\":0.0,\"x1\":0.0,\"xref\":\"x\",\"y0\":0.0,\"y1\":0.0,\"yref\":\"y\"},{\"fillcolor\":\"rgba(255,255,255,0)\",\"line\":{\"width\":0},\"type\":\"circle\",\"x0\":0.0,\"x1\":0.0,\"xref\":\"x\",\"y0\":0.0,\"y1\":0.0,\"yref\":\"y\"},{\"fillcolor\":\"rgba(255,255,255,0)\",\"line\":{\"width\":0},\"type\":\"circle\",\"x0\":0.0,\"x1\":0.0,\"xref\":\"x\",\"y0\":0.0,\"y1\":0.0,\"yref\":\"y\"},{\"line\":{\"color\":\"white\",\"width\":3},\"type\":\"line\",\"x0\":13.15203268035681,\"x1\":13.228326547360473,\"y0\":12.300997751194181,\"y1\":12.485874049993209},{\"line\":{\"color\":\"rgba(255,255,255,0)\",\"width\":3},\"type\":\"line\",\"x0\":0.0,\"x1\":null,\"y0\":0.0,\"y1\":null},{\"line\":{\"color\":\"rgba(255,255,255,0)\",\"width\":3},\"type\":\"line\",\"x0\":0.0,\"x1\":null,\"y0\":0.0,\"y1\":null},{\"line\":{\"color\":\"rgba(255,255,255,0)\",\"width\":3},\"type\":\"line\",\"x0\":0.0,\"x1\":null,\"y0\":0.0,\"y1\":null},{\"line\":{\"color\":\"rgba(255,255,255,0)\",\"width\":3},\"type\":\"line\",\"x0\":0.0,\"x1\":null,\"y0\":0.0,\"y1\":null},{\"line\":{\"color\":\"rgba(255,255,255,0)\",\"width\":3},\"type\":\"line\",\"x0\":0.0,\"x1\":null,\"y0\":0.0,\"y1\":null},{\"line\":{\"color\":\"rgba(255,255,255,0)\",\"width\":3},\"type\":\"line\",\"x0\":0.0,\"x1\":null,\"y0\":0.0,\"y1\":null},{\"line\":{\"color\":\"rgba(255,255,255,0)\",\"width\":3},\"type\":\"line\",\"x0\":0.0,\"x1\":null,\"y0\":0.0,\"y1\":null},{\"line\":{\"color\":\"rgba(255,255,255,0)\",\"width\":3},\"type\":\"line\",\"x0\":0.0,\"x1\":null,\"y0\":0.0,\"y1\":null},{\"line\":{\"color\":\"rgba(255,255,255,0)\",\"width\":3},\"type\":\"line\",\"x0\":0.0,\"x1\":null,\"y0\":0.0,\"y1\":null}],\"title\":{\"text\":\"\\u003cb\\u003ePercentage using the shortest path: 0%  |  Number of Agents: 1\\u003c\\u002fb\\u003e\",\"x\":0.5}},\"name\":\"1250\"}]);\n                        }).then(function(){\n                            \nvar gd = document.getElementById('24ad2849-53c3-44f4-878c-1b7ff5817152');\nvar x = new MutationObserver(function (mutations, observer) {{\n        var display = window.getComputedStyle(gd).display;\n        if (!display || display === 'none') {{\n            console.log([gd, 'removed!']);\n            Plotly.purge(gd);\n            observer.disconnect();\n        }}\n}});\n\n// Listen for the removal of the full notebook cells\nvar notebookContainer = gd.closest('#notebook-container');\nif (notebookContainer) {{\n    x.observe(notebookContainer, {childList: true});\n}}\n\n// Listen for the clearing of the current output cell\nvar outputEl = gd.closest('.output');\nif (outputEl) {{\n    x.observe(outputEl, {childList: true});\n}}\n\n                        })                };                });            </script>        </div>"
     },
     "metadata": {},
     "output_type": "display_data"
    }
   ],
   "source": [
    "agent_trajectories = {}\n",
    "for percentage in percentages:\n",
    "    trajectory_file = trajectory_files[percentage]\n",
    "    agent_trajectories[percentage], walkable_area = read_sqlite_file(\n",
    "        trajectory_file\n",
    "    )\n",
    "    animate(\n",
    "        agent_trajectories[percentage],\n",
    "        walkable_area,\n",
    "        title_note=f\"Percentage using the shortest path: {percentage}%\",\n",
    "        risks_per_frame=risks_per_frame,\n",
    "        specific_areas=specific_areas\n",
    "    ).show()"
   ],
   "metadata": {
    "collapsed": false
   }
  },
  {
   "cell_type": "code",
   "execution_count": null,
   "outputs": [],
   "source": [
    "def calculate_density_average_classic(\n",
    "    bounds: Tuple[float, float, float, float],\n",
    "    dx: float,\n",
    "    nframes: int,\n",
    "    X: npt.NDArray[np.float64],\n",
    "    Y: npt.NDArray[np.float64],\n",
    ") -> npt.NDArray[np.float64]:\n",
    "    \"\"\"Calculate classical method\n",
    "\n",
    "    Density = mean_time(N/A_i)\n",
    "    \"\"\"\n",
    "    geominX, geominY, geomaxX, geomaxY = bounds\n",
    "    xbins = np.arange(geominX, geomaxX + dx, dx)\n",
    "    ybins = np.arange(geominY, geomaxY + dx, dx)\n",
    "    area = dx * dx\n",
    "    ret = stats.binned_statistic_2d(\n",
    "        X,\n",
    "        Y,\n",
    "        None,\n",
    "        \"count\",\n",
    "        bins=[xbins, ybins],\n",
    "    )\n",
    "    return np.array(np.nan_to_num(ret.statistic.T)) / nframes / area"
   ],
   "metadata": {
    "collapsed": false
   }
  },
  {
   "cell_type": "code",
   "execution_count": null,
   "outputs": [],
   "source": [
    "def plot_classical_density_profile(data, walkable_area, name, dx, rho_max):\n",
    "    # Unpack the bounds of the walkable area (min and max coordinates).\n",
    "    geominX, geominY, geomaxX, geomaxY = walkable_area.bounds\n",
    "\n",
    "    # Create a bold title for the subplot using the given name.\n",
    "    title = f\"<b>{name}</b>\"\n",
    "\n",
    "    # Create a figure with a single subplot and set its title.\n",
    "    # Note: The subplot_titles parameter is given as a list with one title.\n",
    "    fig = make_subplots(rows=1, cols=1, subplot_titles=[title])\n",
    "\n",
    "    # Generate the x and y bin edges using the bounds of the walkable area and the grid size dx.\n",
    "    xbins = np.arange(geominX, geomaxX + dx, dx)\n",
    "    ybins = np.arange(geominY, geomaxY + dx, dx)\n",
    "\n",
    "    # Get the x and y coordinates of the exterior of the walkable area's polygon.\n",
    "    # These coordinates represent the wall boundaries.\n",
    "    x, y = walkable_area.polygon.exterior.xy\n",
    "    x = list(x)\n",
    "    y = list(y)\n",
    "\n",
    "    # Create a Heatmap trace using the computed bins and density data.\n",
    "    # zmin is set to 0 and zmax is set to the provided rho_max to ensure consistent color scaling.\n",
    "    # The hovertemplate shows the density and position; note that there is an extra closing brace in the template\n",
    "    # which might be unintentional: \"%{y:.2f}}\" -- you might want to correct that.\n",
    "    heatmap = go.Heatmap(\n",
    "        x=xbins,\n",
    "        y=ybins,\n",
    "        z=data,\n",
    "        zmin=0,\n",
    "        zmax=rho_max,\n",
    "        name=title,\n",
    "        connectgaps=False,\n",
    "        zsmooth=None,\n",
    "        hovertemplate=\"Density: %{z:.2f}<br>\\nPos: (%{x:.2f}, %{y:.2f})\",  # Adjusted hovertemplate formatting\n",
    "        colorbar=dict(title=\"Density\"),\n",
    "        colorscale=\"Jet\",\n",
    "    )\n",
    "\n",
    "    # Add the heatmap trace to the figure.\n",
    "    fig.add_trace(heatmap)\n",
    "\n",
    "    # Create a Scatter trace for the geometry walls using the polygon's exterior coordinates.\n",
    "    # This draws the outline of the walkable area.\n",
    "    line = go.Scatter(\n",
    "        x=x,\n",
    "        y=y,\n",
    "        mode=\"lines\",\n",
    "        name=\"wall\",\n",
    "        showlegend=False,\n",
    "        line=dict(\n",
    "            width=3,\n",
    "            color=\"white\",\n",
    "        ),\n",
    "    )\n",
    "\n",
    "    # Add the wall trace to the figure.\n",
    "    fig.add_trace(line)\n",
    "\n",
    "    # Return the figure containing both the heatmap and the wall geometry.\n",
    "    return fig"
   ],
   "metadata": {
    "collapsed": false
   }
  },
  {
   "cell_type": "code",
   "execution_count": 74,
   "outputs": [],
   "source": [
    "# Define the spatial resolution for the density calculation (grid size).\n",
    "dx = 0.5\n",
    "\n",
    "# Initialize the maximum density value (rho_max) to -1.\n",
    "# This variable will be updated with the maximum density value computed from the data.\n",
    "rho_max = -1\n",
    "\n",
    "# Create a figure with a 2x2 grid of subplots.\n",
    "# The titles for each subplot are taken from the keys of the 'agent_trajectories' dictionary.\n",
    "fig = make_subplots(\n",
    "    rows=2, cols=2, subplot_titles=list(agent_trajectories.keys())\n",
    ")\n",
    "\n",
    "# Iterate over each simulation mode in 'agent_trajectories'.\n",
    "for count, mode in enumerate(agent_trajectories):\n",
    "    # Retrieve the trajectory data for the current simulation mode.\n",
    "    trajectories = agent_trajectories[mode]\n",
    "\n",
    "    # Calculate the average density using a classical method.\n",
    "    # The function uses:\n",
    "    #   - The bounds of the walkable area.\n",
    "    #   - The grid resolution (dx).\n",
    "    #   - The maximum number of frames (nframes) from the trajectory data.\n",
    "    #   - The x and y positions from the trajectory data.\n",
    "    data = calculate_density_average_classic(\n",
    "        walkable_area.bounds,\n",
    "        dx,\n",
    "        nframes=trajectories.data[\"frame\"].max(),\n",
    "        X=trajectories.data[\"x\"],\n",
    "        Y=trajectories.data[\"y\"],\n",
    "    )\n",
    "\n",
    "    # Update the maximum density (rho_max) by comparing the current maximum in the data with the previous rho_max.\n",
    "    rho_max = max(np.max(data), rho_max)\n",
    "\n",
    "    # Plot the classical density profile using the calculated data.\n",
    "    # The function takes:\n",
    "    #   - The density data.\n",
    "    #   - The walkable area.\n",
    "    #   - The name of the current mode (obtained from 'modes_names').\n",
    "    #   - The grid resolution (dx).\n",
    "    #   - The maximum density value (rounded up).\n",
    "    ind_fig = plot_classical_density_profile(\n",
    "        data, walkable_area, modes_names[mode], dx, math.ceil(rho_max)\n",
    "    )\n",
    "\n",
    "    # Determine the subplot (row and column) based on the index (count):\n",
    "    if count < 2:\n",
    "        # For the first two modes, assign to the first row.\n",
    "        # count=0 -> subplot at row 1, col 1; count=1 -> subplot at row 1, col 2.\n",
    "        row = 1\n",
    "        col = count + 1\n",
    "    else:\n",
    "        # For the next two modes, assign to the second row.\n",
    "        # count=2 -> subplot at row 2, col 1; count=3 -> subplot at row 2, col 2.\n",
    "        row = 2\n",
    "        col = (count - 2) + 1\n",
    "\n",
    "    # Add each trace from the individual density profile figure to the appropriate subplot in the main figure.\n",
    "    for trace in ind_fig.data:\n",
    "        fig.add_trace(trace, row=row, col=col)\n",
    "\n",
    "    # Update the x-axis for the current subplot with a title.\n",
    "    fig.update_xaxes(title_text=\"X [m]\", row=row, col=col)\n",
    "    # Update the y-axis for the current subplot with a title and set its scale to match the x-axis.\n",
    "    fig.update_yaxes(title_text=\"Y [m]\", row=row, col=col, scaleanchor=\"x\", scaleratio=1)\n",
    "\n",
    "# Display the final figure with all the subplots.\n",
    "fig.show()"
   ],
   "metadata": {
    "collapsed": false
   }
  }
 ],
 "metadata": {
  "kernelspec": {
   "display_name": "Python 3",
   "language": "python",
   "name": "python3"
  },
  "language_info": {
   "codemirror_mode": {
    "name": "ipython",
    "version": 2
   },
   "file_extension": ".py",
   "mimetype": "text/x-python",
   "name": "python",
   "nbconvert_exporter": "python",
   "pygments_lexer": "ipython2",
   "version": "2.7.6"
  }
 },
 "nbformat": 4,
 "nbformat_minor": 0
}
