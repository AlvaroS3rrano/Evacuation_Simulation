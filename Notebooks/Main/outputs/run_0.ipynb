{
 "cells": [
  {
   "cell_type": "markdown",
   "id": "ef1cf122",
   "metadata": {
    "tags": [
     "papermill-error-cell-tag"
    ]
   },
   "source": [
    "<span style=\"color:red; font-family:Helvetica Neue, Helvetica, Arial, sans-serif; font-size:2em;\">An Exception was encountered at '<a href=\"#papermill-error-cell\">In [8]</a>'.</span>"
   ]
  },
  {
   "cell_type": "code",
   "execution_count": 1,
   "id": "835b2fca",
   "metadata": {
    "execution": {
     "iopub.execute_input": "2025-06-29T16:44:58.888781Z",
     "iopub.status.busy": "2025-06-29T16:44:58.888781Z",
     "iopub.status.idle": "2025-06-29T16:44:58.896347Z",
     "shell.execute_reply": "2025-06-29T16:44:58.895326Z"
    },
    "papermill": {
     "duration": 0.022545,
     "end_time": "2025-06-29T16:44:58.897337",
     "exception": false,
     "start_time": "2025-06-29T16:44:58.874792",
     "status": "completed"
    },
    "tags": [
     "injected-parameters"
    ]
   },
   "outputs": [],
   "source": [
    "# Parameters\n",
    "simulation_seed = 111539741\n",
    "starting_risks = []\n",
    "use_random_risk_layout = True\n"
   ]
  },
  {
   "cell_type": "markdown",
   "id": "e5b46a21",
   "metadata": {
    "collapsed": false,
    "jupyter": {
     "outputs_hidden": false
    },
    "papermill": {
     "duration": 0.004049,
     "end_time": "2025-06-29T16:44:58.921939",
     "exception": false,
     "start_time": "2025-06-29T16:44:58.917890",
     "status": "completed"
    },
    "tags": []
   },
   "source": [
    "# Main simiulation"
   ]
  },
  {
   "cell_type": "code",
   "execution_count": 2,
   "id": "a61c419d",
   "metadata": {
    "collapsed": false,
    "execution": {
     "iopub.execute_input": "2025-06-29T16:44:58.932863Z",
     "iopub.status.busy": "2025-06-29T16:44:58.932863Z",
     "iopub.status.idle": "2025-06-29T16:45:00.598568Z",
     "shell.execute_reply": "2025-06-29T16:45:00.598061Z"
    },
    "jupyter": {
     "outputs_hidden": false
    },
    "papermill": {
     "duration": 1.672694,
     "end_time": "2025-06-29T16:45:00.599620",
     "exception": false,
     "start_time": "2025-06-29T16:44:58.926926",
     "status": "completed"
    },
    "tags": []
   },
   "outputs": [],
   "source": [
    "import pathlib\n",
    "\n",
    "import jupedsim as jps\n",
    "import pedpy\n",
    "from matplotlib.patches import Circle\n",
    "from shapely import Polygon\n",
    "from jupedsim.internal.notebook_utils import read_sqlite_file\n",
    "import plotly.graph_objects as go\n",
    "import numpy as np\n",
    "import pandas as pd\n",
    "import json\n",
    "import matplotlib.pyplot as plt\n",
    "\n",
    "import plotly.io as pio\n",
    "pio.renderers.default = \"notebook\"\n",
    "\n",
    "%matplotlib inline\n",
    "\n",
    "from Py.classes.riskSimulationValues import RiskSimulationValues\n",
    "from Py.animation import animate\n",
    "from Py.classes.simulation_config import SimulationConfig\n",
    "from Py.classes.agentGroup import AgentGroup\n",
    "from Py.pathFinding.settingPaths import *\n",
    "from Py.database.agent_area_db_manager import *\n",
    "import polygons.environment as pol\n",
    "from Py.journey_configuration import set_journeys\n",
    "from Py.simulation_manager import set_agents_in_simulation, run_agent_simulation\n",
    "from Py.database.danger_sim_db_manager import get_risks_grouped_by_frame, create_risk_table, get_risk_levels_by_frame, read_risk_data\n",
    "from Py.dangerSimulation.risk_simulation import simulate_risk\n",
    "from Py.classes.Environment_info import Environment_info\n",
    "from Py.database.group_path_db_manager import create_group_path_table\n",
    "\n",
    "try:\n",
    "    %reload_ext autoreload\n",
    "except:\n",
    "    %load_ext autoreload\n",
    "%autoreload 2"
   ]
  },
  {
   "cell_type": "markdown",
   "id": "04484743",
   "metadata": {
    "collapsed": false,
    "jupyter": {
     "outputs_hidden": false
    },
    "papermill": {
     "duration": 0.007006,
     "end_time": "2025-06-29T16:45:00.612636",
     "exception": false,
     "start_time": "2025-06-29T16:45:00.605630",
     "status": "completed"
    },
    "tags": []
   },
   "source": [
    "## Global Configuration"
   ]
  },
  {
   "cell_type": "code",
   "execution_count": 3,
   "id": "d683f1d8",
   "metadata": {
    "collapsed": false,
    "execution": {
     "iopub.execute_input": "2025-06-29T16:45:00.625148Z",
     "iopub.status.busy": "2025-06-29T16:45:00.624150Z",
     "iopub.status.idle": "2025-06-29T16:45:00.788122Z",
     "shell.execute_reply": "2025-06-29T16:45:00.787613Z"
    },
    "jupyter": {
     "outputs_hidden": false
    },
    "papermill": {
     "duration": 0.170982,
     "end_time": "2025-06-29T16:45:00.789128",
     "exception": false,
     "start_time": "2025-06-29T16:45:00.618146",
     "status": "completed"
    },
    "tags": []
   },
   "outputs": [],
   "source": [
    "# -------------------------------\n",
    "# Global Configuration\n",
    "# -------------------------------\n",
    "\n",
    "# Environment selection (uncomment the one you want)\n",
    "# Environment = pol.get_simple_3x3()\n",
    "# Environment = pol.get_comparing_algorithms_pol()\n",
    "Environment = pol.get_cruise_ship()\n",
    "# Environment = pol.get_mall()\n",
    "\n",
    "# Environment metadata\n",
    "Environment_name       = Environment.name\n",
    "complete_area          = Environment.complete_area\n",
    "obstacles              = Environment.obstacles\n",
    "# sources                = Environment.sources # uncomment for example case\n",
    "sources                = [\"82\"] # comment for example case\n",
    "# targets                = Environment.targets # uncomment for example case\n",
    "targets                = [\"163\", \"164\"] # comment for example case\n",
    "pol.set_targets(targets, Environment)\n",
    "waypoints              = Environment.waypoints\n",
    "walkable_area          = Environment.walkable_area\n",
    "G                      = Environment.graph\n",
    "specific_areas         = Environment.specific_areas\n",
    "\n",
    "# Simulation scenarios\n",
    "modes = [0, 1, 2, 3]                 # other cases\n",
    "# modes                  = [0, 1]        # case 3\n",
    "total_agents           = 5             # agents per source\n",
    "\n",
    "# Risk layout configuration\n",
    "use_random_risk_layout = True          # False → default risk, True → random risk\n",
    "risk_seed              = 4321           # seed for random risk generation\n",
    "risk_iterations        = 7000          # Total number of simulation frames (default is 3000).\n",
    "risk_increase_chance   = 0.05          # Probability of an individual risk increase per frame.\n",
    "starting_risks = [(\"8\", 1.0), (\"57\", 1.0), (\"63\", 1.0), (\"64\", 1.0), (\"69\", 1.0)]\n",
    "# risk_overrides = [(2400, \"153\", 0.6), (2400, \"225\", 1.0), (2400, \"224\", 1.0), (2400, \"201\", 0.6)] # case 3\n",
    "\n",
    "# Path-finding & speed parameters\n",
    "risk_threshold         = 0.5           # threshold for avoiding high-risk areas\n",
    "gamma                  = 0.2           # parameter for alternative path computation\n",
    "stairs_max_speed       = 0.6           # max speed on stairs\n",
    "normal_max_speed       = 1.2           # max speed on flat\n",
    "\n",
    "# Group settings (parallel arrays indexed by mode)\n",
    "modes_names = [\"Low_awareness_efficient_paths\", \"High_awareness_efficient_paths\", \"Low_awareness_centrality_path\", \"High_awareness_centrality_path\"]      # other cases\n",
    "# modes_names                = [\"Low_awareness\", \"High_awareness\"]  # case 3\n",
    "awareness_levels_per_group = [0, 1, 0, 1]\n",
    "algorithm_per_group        = [0, 0, 1, 1]\n",
    "\n",
    "# Frame intervals\n",
    "every_nth_frame_simulation = 3          # simulation iterations per frame\n",
    "every_nth_frame_animation  = 50         # frames per risk update\n",
    "\n",
    "# Risk simulation database files\n",
    "risk_db_variants = {\n",
    "    'default':    f\"../../sqlite_data/default_{Environment_name}_risks.db\",\n",
    "    'random':     f\"../../sqlite_data/{Environment_name}_risks.db\",\n",
    "    'node_8':     f\"../../sqlite_data/{Environment_name}_risks_node_8_5_p.db\",\n",
    "    'node_set':   f\"../../sqlite_data/{Environment_name}_risks_node_8,57,63,64,69_5_p.db\",\n",
    "}\n",
    "\n",
    "variant_key = 'random' if use_random_risk_layout else 'node_8'\n",
    "\n",
    "connection_file = risk_db_variants[variant_key]\n",
    "simulation_seed = risk_seed if use_random_risk_layout else None\n",
    "\n",
    "# Paths and database connections\n",
    "paths_file          = f\"../../sqlite_data/{Environment_name}_paths.db\"\n",
    "group_path_file     = f\"../../sqlite_data/{Environment_name}_group_paths_data.db\"\n",
    "trajectory_files    = {}\n",
    "agent_groups_per_mode = {}\n",
    "agent_area_files      = {}\n",
    "\n",
    "# Open connections (use later in your notebook)\n",
    "risk_db_conn        = sqlite3.connect(connection_file)\n",
    "paths_conn          = sqlite3.connect(paths_file)\n",
    "# create_paths_table(paths_conn) # uncomment to restart the paths connections db\n",
    "group_path_conn     = sqlite3.connect(group_path_file)\n"
   ]
  },
  {
   "cell_type": "markdown",
   "id": "63ed74f8",
   "metadata": {
    "collapsed": false,
    "jupyter": {
     "outputs_hidden": false
    },
    "papermill": {
     "duration": 0.004906,
     "end_time": "2025-06-29T16:45:00.800129",
     "exception": false,
     "start_time": "2025-06-29T16:45:00.795223",
     "status": "completed"
    },
    "tags": []
   },
   "source": [
    "## Environment"
   ]
  },
  {
   "cell_type": "code",
   "execution_count": 4,
   "id": "5921911a",
   "metadata": {
    "collapsed": false,
    "execution": {
     "iopub.execute_input": "2025-06-29T16:45:00.812221Z",
     "iopub.status.busy": "2025-06-29T16:45:00.811137Z",
     "iopub.status.idle": "2025-06-29T16:45:03.936077Z",
     "shell.execute_reply": "2025-06-29T16:45:03.935047Z"
    },
    "jupyter": {
     "outputs_hidden": false
    },
    "papermill": {
     "duration": 3.132942,
     "end_time": "2025-06-29T16:45:03.937165",
     "exception": false,
     "start_time": "2025-06-29T16:45:00.804223",
     "status": "completed"
    },
    "tags": []
   },
   "outputs": [
    {
     "data": {
      "image/png": "[encoded data removed]",
      "text/plain": [
       "<Figure size 2400x1600 with 1 Axes>"
      ]
     },
     "metadata": {},
     "output_type": "display_data"
    }
   ],
   "source": [
    "fig, ax = plt.subplots(nrows=1, ncols=1, figsize=(24, 16))\n",
    "ax.set_aspect(\"equal\")\n",
    "pedpy.plot_walkable_area(walkable_area=walkable_area, axes=ax)\n",
    "\n",
    "for idx, (waypoint, distance) in waypoints.items():\n",
    "    ax.plot(waypoint[0], waypoint[1], \"ro\")\n",
    "    ax.annotate(\n",
    "        f\"{idx}\",\n",
    "        (waypoint[0], waypoint[1]),\n",
    "        textcoords=\"offset points\",\n",
    "        xytext=(5, -5),\n",
    "        ha=\"center\",\n",
    "    )\n",
    "    circle = Circle(\n",
    "        (waypoint[0], waypoint[1]), distance, fc=\"red\", ec=\"red\", alpha=0.1\n",
    "    )\n",
    "    ax.add_patch(circle)\n",
    "for area_id in targets:\n",
    "    x, y = Polygon(specific_areas[area_id]).exterior.xy\n",
    "    plt.fill(x, y, alpha=0.1, color=\"orange\")\n",
    "    centroid = Polygon(specific_areas[area_id]).centroid\n",
    "    plt.text(centroid.x, centroid.y, f\"{area_id}\", ha=\"center\", va=\"center\", fontsize=8)\n",
    "\n",
    "for area_id in sources:\n",
    "    x, y = specific_areas[area_id].exterior.xy\n",
    "    plt.fill(x, y, alpha=0.1, color=\"blue\")\n",
    "\n",
    "plt.savefig('../img/cruise_ship_layout.png', dpi=300)"
   ]
  },
  {
   "cell_type": "markdown",
   "id": "9abd22f7",
   "metadata": {
    "collapsed": false,
    "jupyter": {
     "outputs_hidden": false
    },
    "papermill": {
     "duration": 0.007003,
     "end_time": "2025-06-29T16:45:03.951343",
     "exception": false,
     "start_time": "2025-06-29T16:45:03.944340",
     "status": "completed"
    },
    "tags": []
   },
   "source": [
    "## Configuration of Simulation Scenarios"
   ]
  },
  {
   "cell_type": "code",
   "execution_count": 5,
   "id": "1f4a6a8c",
   "metadata": {
    "collapsed": false,
    "execution": {
     "iopub.execute_input": "2025-06-29T16:45:03.967354Z",
     "iopub.status.busy": "2025-06-29T16:45:03.966293Z",
     "iopub.status.idle": "2025-06-29T16:45:04.087689Z",
     "shell.execute_reply": "2025-06-29T16:45:04.087217Z"
    },
    "jupyter": {
     "outputs_hidden": false
    },
    "papermill": {
     "duration": 0.130451,
     "end_time": "2025-06-29T16:45:04.088697",
     "exception": false,
     "start_time": "2025-06-29T16:45:03.958246",
     "status": "completed"
    },
    "tags": []
   },
   "outputs": [],
   "source": [
    "# Dictionary to store simulations for different percentages of agents\n",
    "simulations = {}\n",
    "\n",
    "# Loop over each percentage value to create a corresponding simulation\n",
    "for mode in modes:\n",
    "    # Define the output file path for storing the simulation trajectories\n",
    "    trajectory_file = f\"../../sqlite_data/{Environment_name}_modes_{mode}.sqlite\"\n",
    "\n",
    "    # Create a new simulation instance using JPS (JuPedSim)\n",
    "    simulation = jps.Simulation(\n",
    "        model=jps.CollisionFreeSpeedModel(  # Define the agent movement model\n",
    "            strength_neighbor_repulsion=2.6,  # Strength of repulsion between neighboring agents\n",
    "            range_neighbor_repulsion=0.1,  # Distance at which agents start repelling each other\n",
    "            range_geometry_repulsion=0.05,  # Distance at which agents start avoiding obstacles\n",
    "        ),\n",
    "        geometry=walkable_area.polygon,  # Define the walkable area for the simulation\n",
    "        trajectory_writer=jps.SqliteTrajectoryWriter(  # Specify where to store simulation results\n",
    "            output_file=pathlib.Path(trajectory_file),  # Save output to the specified SQLite file\n",
    "            every_nth_frame=every_nth_frame_simulation\n",
    "\n",
    "        ),\n",
    "\n",
    "    )\n",
    "\n",
    "    # Store the simulation object in the dictionary using the percentage as a key\n",
    "    simulations[mode] = simulation"
   ]
  },
  {
   "cell_type": "markdown",
   "id": "4649bce4",
   "metadata": {
    "collapsed": false,
    "jupyter": {
     "outputs_hidden": false
    },
    "papermill": {
     "duration": 0.006919,
     "end_time": "2025-06-29T16:45:04.102696",
     "exception": false,
     "start_time": "2025-06-29T16:45:04.095777",
     "status": "completed"
    },
    "tags": []
   },
   "source": [
    "## Journey configuration"
   ]
  },
  {
   "cell_type": "code",
   "execution_count": 6,
   "id": "03367d9f",
   "metadata": {
    "collapsed": false,
    "execution": {
     "iopub.execute_input": "2025-06-29T16:45:04.121227Z",
     "iopub.status.busy": "2025-06-29T16:45:04.120215Z",
     "iopub.status.idle": "2025-06-29T16:45:04.212590Z",
     "shell.execute_reply": "2025-06-29T16:45:04.212590Z"
    },
    "jupyter": {
     "outputs_hidden": false
    },
    "papermill": {
     "duration": 0.104965,
     "end_time": "2025-06-29T16:45:04.214675",
     "exception": false,
     "start_time": "2025-06-29T16:45:04.109710",
     "status": "completed"
    },
    "tags": []
   },
   "outputs": [],
   "source": [
    "# In journey_configuration.py"
   ]
  },
  {
   "cell_type": "markdown",
   "id": "bb2663ae",
   "metadata": {
    "collapsed": false,
    "jupyter": {
     "outputs_hidden": false
    },
    "papermill": {
     "duration": 0.008132,
     "end_time": "2025-06-29T16:45:04.229319",
     "exception": false,
     "start_time": "2025-06-29T16:45:04.221187",
     "status": "completed"
    },
    "tags": []
   },
   "source": [
    "## Allocate Agents"
   ]
  },
  {
   "cell_type": "code",
   "execution_count": 7,
   "id": "b3d857fd",
   "metadata": {
    "collapsed": false,
    "execution": {
     "iopub.execute_input": "2025-06-29T16:45:04.245834Z",
     "iopub.status.busy": "2025-06-29T16:45:04.244919Z",
     "iopub.status.idle": "2025-06-29T16:45:04.331106Z",
     "shell.execute_reply": "2025-06-29T16:45:04.330807Z"
    },
    "jupyter": {
     "outputs_hidden": false
    },
    "papermill": {
     "duration": 0.095284,
     "end_time": "2025-06-29T16:45:04.332118",
     "exception": false,
     "start_time": "2025-06-29T16:45:04.236834",
     "status": "completed"
    },
    "tags": []
   },
   "outputs": [],
   "source": [
    "positions = dict()\n",
    "for source in sources:\n",
    "    positions[source] = jps.distribute_by_number(\n",
    "        polygon=specific_areas[source],\n",
    "        number_of_agents=total_agents,\n",
    "        distance_to_agents=0.4,\n",
    "        distance_to_polygon=0.5,\n",
    "        seed=45131502,\n",
    "    )"
   ]
  },
  {
   "cell_type": "markdown",
   "id": "c08cbb30",
   "metadata": {
    "collapsed": false,
    "jupyter": {
     "outputs_hidden": false
    },
    "papermill": {
     "duration": 0.00796,
     "end_time": "2025-06-29T16:45:04.348122",
     "exception": false,
     "start_time": "2025-06-29T16:45:04.340162",
     "status": "completed"
    },
    "tags": []
   },
   "source": [
    "## Launching the Simulation"
   ]
  },
  {
   "cell_type": "markdown",
   "id": "cbf1641e",
   "metadata": {
    "tags": [
     "papermill-error-cell-tag"
    ]
   },
   "source": [
    "<span id=\"papermill-error-cell\" style=\"color:red; font-family:Helvetica Neue, Helvetica, Arial, sans-serif; font-size:2em;\">Execution using papermill encountered an exception here and stopped:</span>"
   ]
  },
  {
   "cell_type": "code",
   "execution_count": 8,
   "id": "a5f44fd3",
   "metadata": {
    "collapsed": false,
    "execution": {
     "iopub.execute_input": "2025-06-29T16:45:04.367149Z",
     "iopub.status.busy": "2025-06-29T16:45:04.367149Z",
     "iopub.status.idle": "2025-06-29T16:45:05.012807Z",
     "shell.execute_reply": "2025-06-29T16:45:05.011796Z"
    },
    "jupyter": {
     "outputs_hidden": false
    },
    "papermill": {
     "duration": 0.656327,
     "end_time": "2025-06-29T16:45:05.013531",
     "exception": true,
     "start_time": "2025-06-29T16:45:04.357204",
     "status": "failed"
    },
    "tags": []
   },
   "outputs": [
    {
     "ename": "NameError",
     "evalue": "name 'risk_overrides' is not defined",
     "output_type": "error",
     "traceback": [
      "\u001b[1;31m---------------------------------------------------------------------------\u001b[0m",
      "\u001b[1;31mNameError\u001b[0m                                 Traceback (most recent call last)",
      "Cell \u001b[1;32mIn[8], line 2\u001b[0m\n\u001b[0;32m      1\u001b[0m \u001b[38;5;66;03m# Simulation parameters\u001b[39;00m\n\u001b[1;32m----> 2\u001b[0m riskSimulationValues \u001b[38;5;241m=\u001b[39m RiskSimulationValues(risk_iterations, risk_increase_chance, risk_threshold, starting_risks, \u001b[43mrisk_overrides\u001b[49m)\n\u001b[0;32m      3\u001b[0m \u001b[38;5;28;01mtry\u001b[39;00m:\n\u001b[0;32m      4\u001b[0m     \u001b[38;5;28;01mif\u001b[39;00m use_random_risk_layout:\n\u001b[0;32m      5\u001b[0m         \u001b[38;5;66;03m# Create or reset the risk table if random risk layout is enabled\u001b[39;00m\n",
      "\u001b[1;31mNameError\u001b[0m: name 'risk_overrides' is not defined"
     ]
    }
   ],
   "source": [
    "# Simulation parameters\n",
    "riskSimulationValues = RiskSimulationValues(risk_iterations, risk_increase_chance, risk_threshold, starting_risks, risk_overrides)\n",
    "try:\n",
    "    if use_random_risk_layout:\n",
    "        # Create or reset the risk table if random risk layout is enabled\n",
    "        create_risk_table(risk_db_conn)\n",
    "\n",
    "        # Simulate risk propagation and store results in the database\n",
    "        simulate_risk(riskSimulationValues, every_nth_frame_animation, G, targets, risk_db_conn, simulation_seed) # animation not every frame is shown in the animation\n",
    "    # get first frame risk table\n",
    "    risk_first_frame= get_risk_levels_by_frame(risk_db_conn, 0)\n",
    "finally:\n",
    "    # Ensure the database connection is closed after operations\n",
    "    risk_db_conn.close()"
   ]
  },
  {
   "cell_type": "code",
   "execution_count": null,
   "id": "b6fe76fb",
   "metadata": {
    "collapsed": false,
    "jupyter": {
     "outputs_hidden": false
    },
    "papermill": {
     "duration": null,
     "end_time": null,
     "exception": null,
     "start_time": null,
     "status": "pending"
    },
    "tags": []
   },
   "outputs": [],
   "source": [
    "create_group_path_table(group_path_conn)\n",
    "EnvInf = Environment_info(G, paths_conn, floor_number=Environment.floor_number)\n",
    "if Environment.floor_number > 1:\n",
    "    EnvInf.floors = Environment.floors\n",
    "    EnvInf.floor_connecting_nodes = Environment.floor_connecting_nodes\n",
    "\n",
    "\n",
    "for mode, simulation in simulations.items():\n",
    "\n",
    "    agent_area_files[mode] = f\"../../sqlite_data/agent_area_{Environment_name}_mode_{mode}.db\"\n",
    "    agent_area_conn = sqlite3.connect(agent_area_files[mode])\n",
    "\n",
    "    create_agent_area_table(agent_area_conn)\n",
    "\n",
    "    exit_ids = {}\n",
    "    for area_id in targets:\n",
    "        exit_ids[area_id] = simulation.add_exit_stage(specific_areas[area_id])\n",
    "\n",
    "    # Initialize a dictionary to store waypoint IDs\n",
    "    waypoints_ids = {}\n",
    "    # Convert waypoints into simulation waypoints with associated distances\n",
    "    for node, (waypoint, distance) in waypoints.items():\n",
    "        waypoints_ids[node] = simulation.add_waypoint_stage(waypoint, distance)\n",
    "\n",
    "    agent_groups = dict()\n",
    "    for i, source in enumerate(sources):\n",
    "\n",
    "        agent_group_aux = AgentGroup(None, None, None, algorithm_per_group[mode], awareness_levels_per_group[mode]) # other cases\n",
    "        # agent_group_aux = AgentGroup(None, None, None, i, mode)   # case 3\n",
    "        path = compute_alternative_path(targets, agent_group_aux, EnvInf, source, risk_per_node=risk_first_frame, gamma=gamma)\n",
    "\n",
    "        # Set up a journey for the simulation\n",
    "        journeys_ids = set_journeys(\n",
    "            simulation, source, [path], waypoints_ids, exit_ids\n",
    "        )\n",
    "\n",
    "        # Retrieve the best path for the first source and its associated journey ID\n",
    "        journey_id, best_path_source = journeys_ids[source][0]\n",
    "        next_node = best_path_source[1]  # Get the next node on the best path\n",
    "        first_waypoint_id = waypoints_ids[next_node]  # Determine the waypoint ID for the next node\n",
    "\n",
    "        agents = set_agents_in_simulation(simulation, positions[source], journey_id, first_waypoint_id, normal_max_speed)\n",
    "\n",
    "        agent_group_aux.path = path\n",
    "\n",
    "        # currently unnecessary\n",
    "        agents_initial_nodes = {}\n",
    "        for agent in agents:\n",
    "            agents_initial_nodes[agent] = path[0]\n",
    "        agent_group_aux.current_nodes = agents_initial_nodes\n",
    "\n",
    "        agent_group_aux.agents = agents\n",
    "\n",
    "        agent_groups[source] = agent_group_aux\n",
    "\n",
    "    simulation_config = SimulationConfig(simulation, every_nth_frame_simulation, every_nth_frame_animation, waypoints_ids, exit_ids, gamma, normal_max_speed, stairs_max_speed)\n",
    "\n",
    "\n",
    "    risk_db_conn = sqlite3.connect(connection_file)\n",
    "    # Run the agent simulation, updating paths based on the risk levels\n",
    "    run_agent_simulation(\n",
    "        simulation_config,\n",
    "        agent_groups,\n",
    "        EnvInf,\n",
    "        risk_db_conn,\n",
    "        agent_area_conn,\n",
    "        group_path_conn,\n",
    "        threshold=risk_threshold,  # Threshold for avoiding high-risk areas\n",
    "    )\n",
    "\n",
    "    risk_db_conn.close()\n",
    "    agent_area_conn.close()\n",
    "\n",
    "    print(f\"{mode} simulation finished\")\n",
    "\n",
    "    # Generate the trajectory file for the current percentage and store its path\n",
    "    trajectory_file = f\"../../sqlite_data/{Environment_name}_modes_{mode}.sqlite\"\n",
    "    trajectory_files[mode] = trajectory_file\n",
    "    agent_groups_per_mode[mode] = agent_groups\n",
    "\n",
    "paths_conn.close()\n",
    "group_path_conn.close()"
   ]
  },
  {
   "cell_type": "code",
   "execution_count": null,
   "id": "43d1a881",
   "metadata": {
    "collapsed": false,
    "jupyter": {
     "outputs_hidden": false
    },
    "papermill": {
     "duration": null,
     "end_time": null,
     "exception": null,
     "start_time": null,
     "status": "pending"
    },
    "tags": []
   },
   "outputs": [],
   "source": [
    "# Open the database connection safely\n",
    "with sqlite3.connect(connection_file) as connection:\n",
    "    # Fetch all risk data grouped by frame\n",
    "    all_risks = get_risks_grouped_by_frame(connection)"
   ]
  },
  {
   "cell_type": "markdown",
   "id": "6ad2166f",
   "metadata": {
    "collapsed": false,
    "jupyter": {
     "outputs_hidden": false
    },
    "papermill": {
     "duration": null,
     "end_time": null,
     "exception": null,
     "start_time": null,
     "status": "pending"
    },
    "tags": []
   },
   "source": [
    "## Visualizing Agent Pathways"
   ]
  },
  {
   "cell_type": "code",
   "execution_count": null,
   "id": "a3849e9b",
   "metadata": {
    "collapsed": false,
    "jupyter": {
     "outputs_hidden": false
    },
    "papermill": {
     "duration": null,
     "end_time": null,
     "exception": null,
     "start_time": null,
     "status": "pending"
    },
    "tags": []
   },
   "outputs": [],
   "source": [
    "agent_trajectories = {}\n",
    "for mode in modes:\n",
    "    trajectory_file = trajectory_files[mode]\n",
    "    agent_trajectories[mode], walkable_area = read_sqlite_file(\n",
    "        trajectory_file\n",
    "    )\n",
    "    animate(\n",
    "        agent_trajectories[mode],\n",
    "        walkable_area,\n",
    "        title_note=f\"Mode: {modes_names[mode]}\",\n",
    "        risk_per_frame=all_risks,\n",
    "        specific_areas=specific_areas,\n",
    "        every_nth_frame=every_nth_frame_animation\n",
    "    ).show()"
   ]
  },
  {
   "cell_type": "markdown",
   "id": "e07fa2fa",
   "metadata": {
    "collapsed": false,
    "jupyter": {
     "outputs_hidden": false
    },
    "papermill": {
     "duration": null,
     "end_time": null,
     "exception": null,
     "start_time": null,
     "status": "pending"
    },
    "tags": []
   },
   "source": [
    "## Analysus if the results"
   ]
  },
  {
   "cell_type": "code",
   "execution_count": null,
   "id": "ed23df90",
   "metadata": {
    "collapsed": false,
    "jupyter": {
     "outputs_hidden": false
    },
    "papermill": {
     "duration": null,
     "end_time": null,
     "exception": null,
     "start_time": null,
     "status": "pending"
    },
    "tags": []
   },
   "outputs": [],
   "source": [
    "# show the hazzards of a specific frame\n",
    "with sqlite3.connect(connection_file) as connection:\n",
    "    # Fetch all risk data grouped by frame\n",
    "    all_risks_frame_550 = get_risk_levels_by_frame(connection, 1300)\n",
    "\n",
    "risky_areas = []\n",
    "for area, risk in all_risks_frame_550.items():\n",
    "    if risk > 0.0:\n",
    "        risky_areas.append((area, risk))\n",
    "\n",
    "# Retrieve the boundary coordinates of the complete_area polygon\n",
    "minx, miny, maxx, maxy = complete_area.bounds\n",
    "\n",
    "# Create a figure with subplots arranged in two rows and two columns\n",
    "fig, axes = plt.subplots(\n",
    "    nrows=2, #other cases\n",
    "    # nrows=1,  # case 3\n",
    "    ncols=2, figsize=(12, 16),\n",
    ")\n",
    "\n",
    "# Flatten the axes array to simplify iteration\n",
    "axes = axes.flatten()\n",
    "\n",
    "# Define a list of colors to differentiate agent groups in the plots\n",
    "colors = [\"red\", \"blue\", \"green\"]\n",
    "\n",
    "# Iterate over each subplot axis and its corresponding mode\n",
    "for ax, mode in zip(axes, agent_groups_per_mode):\n",
    "    # Extract trajectory data for the current mode\n",
    "    trajectories = agent_trajectories[mode].data\n",
    "\n",
    "    # Initialize a list to hold groups of agents for the current mode\n",
    "    list_of_groups = []\n",
    "\n",
    "    # Populate the list with agent groups from each source\n",
    "    for source in sources:\n",
    "        list_of_groups.append(agent_groups_per_mode[mode][source].agents)\n",
    "\n",
    "    # Iterate over each group of agents\n",
    "    for ig, group in enumerate(list_of_groups):\n",
    "        # Create a TrajectoryData object for the current group\n",
    "        traj = pedpy.TrajectoryData(\n",
    "            trajectories[trajectories[\"id\"].isin(group)],\n",
    "            frame_rate=agent_trajectories[mode].frame_rate,\n",
    "        )\n",
    "\n",
    "        # Plot the trajectories of the current group on the current axis\n",
    "        pedpy.plot_trajectories(\n",
    "            traj=traj,\n",
    "            walkable_area=walkable_area,\n",
    "            axes=ax,\n",
    "            traj_color=colors[ig],\n",
    "            traj_width=0.5,\n",
    "            traj_start_marker=\".\",\n",
    "        )\n",
    "\n",
    "    # Set the title of the subplot to indicate the current mode\n",
    "    ax.set_title(f\"Mode: {modes_names[mode]}\")\n",
    "\n",
    "    # Set the x and y axis limits based on the complete_area boundaries\n",
    "    ax.set_xlim(minx, maxx)\n",
    "    ax.set_ylim(miny, maxy)\n",
    "\n",
    "    # Ensure the aspect ratio is equal to maintain the scale of the plot\n",
    "    ax.set_aspect('equal', adjustable='box')\n",
    "\n",
    "    # Overlay exit polygons on the plot\n",
    "    for area_id in targets:\n",
    "        pol = Polygon(specific_areas[area_id])\n",
    "        # Extract the x and y coordinates of the polygon's exterior\n",
    "        x, y = pol.exterior.xy\n",
    "\n",
    "        # Fill the polygon area with a semi-transparent red color\n",
    "        ax.fill(x, y, alpha=0.1, color=\"red\")\n",
    "\n",
    "        # Outline the polygon with a white border\n",
    "        ax.plot(x, y, color=\"white\")\n",
    "\n",
    "        # Calculate the centroid of the polygon\n",
    "        centroid = pol.centroid\n",
    "\n",
    "        # Place the name of the exit at the centroid position\n",
    "        ax.text(\n",
    "            centroid.x, centroid.y, area_id, ha=\"center\", va=\"center\", fontsize=10\n",
    "        )\n",
    "\n",
    "\n",
    "    for area, risk_value in risky_areas:\n",
    "        if risk_value > 0.0:\n",
    "            x, y = specific_areas[area].exterior.xy\n",
    "            if risk_value < risk_threshold:\n",
    "                ax.fill(x, y, alpha=0.5, color=\"pink\")\n",
    "            else:\n",
    "                ax.fill(x, y, alpha=0.5, color=\"purple\")\n",
    "\n",
    "\n",
    "# Adjust the layout to prevent overlapping elements\n",
    "plt.tight_layout()\n",
    "\n",
    "# Set the final size of the figure if needed\n",
    "fig.set_size_inches((10, 12))\n",
    "\n",
    "# Display the figure with all subplots\n",
    "#plt.show()\n",
    "plt.savefig('../img/experiments', dpi=300)\n",
    "\n"
   ]
  },
  {
   "cell_type": "code",
   "execution_count": null,
   "id": "514ea6af",
   "metadata": {
    "collapsed": false,
    "papermill": {
     "duration": null,
     "end_time": null,
     "exception": null,
     "start_time": null,
     "status": "pending"
    },
    "tags": []
   },
   "outputs": [],
   "source": [
    "risk_frames = [1300, 2400]\n",
    "trajectory_cuts = [(None, 2000), (2000, None)]\n",
    "\n",
    "with sqlite3.connect(connection_file) as conn:\n",
    "    for risk_frame, (f_start, f_end) in zip(risk_frames, trajectory_cuts):\n",
    "        # 1) Obtener riesgos en el frame\n",
    "        risks = get_risk_levels_by_frame(conn, risk_frame)\n",
    "        risky_areas = [(area, r) for area, r in risks.items() if r > 0.0]\n",
    "\n",
    "        # 2) Crear figura\n",
    "        fig, axes = plt.subplots(nrows=1, ncols=2, figsize=(12, 8))\n",
    "        axes = axes.flatten()\n",
    "\n",
    "        # 3) Para cada modo, plot de trayectorias\n",
    "        for ax, mode in zip(axes, agent_trajectories.keys()):\n",
    "            # DataFrame completo de este modo\n",
    "            df_full = agent_trajectories[mode].data\n",
    "\n",
    "            # Recortar por rango de frames\n",
    "            df = df_full\n",
    "            if f_start is not None:\n",
    "                df = df[df[\"frame\"] >= f_start]\n",
    "            if f_end is not None:\n",
    "                df = df[df[\"frame\"] <= f_end]\n",
    "\n",
    "            # Ahora, por cada grupo, filtrar y crear su TrajectoryData\n",
    "            for color, source in zip([\"red\", \"blue\", \"green\"], sources):\n",
    "                group_ids = agent_groups_per_mode[mode][source].agents\n",
    "                df_group = df[df[\"id\"].isin(group_ids)]\n",
    "                traj_group = pedpy.TrajectoryData(df_group, frame_rate=agent_trajectories[mode].frame_rate)\n",
    "\n",
    "                pedpy.plot_trajectories(\n",
    "                    traj=traj_group,\n",
    "                    walkable_area=walkable_area,\n",
    "                    axes=ax,\n",
    "                    traj_color=color,\n",
    "                    traj_width=0.5,\n",
    "                    traj_start_marker=\".\",\n",
    "                )\n",
    "\n",
    "            # Ajustes de estilo y límites\n",
    "            ax.set_title(f\"Modo: {modes_names[mode]}\")\n",
    "            minx, miny, maxx, maxy = complete_area.bounds\n",
    "            ax.set_xlim(minx, maxx)\n",
    "            ax.set_ylim(miny, maxy)\n",
    "            ax.set_aspect(\"equal\", adjustable=\"box\")\n",
    "\n",
    "            # Dibujar salidas\n",
    "            for area_id in targets:\n",
    "                poly = specific_areas[area_id]\n",
    "                x, y = poly.exterior.xy\n",
    "                ax.fill(x, y, alpha=0.1, color=\"red\")\n",
    "                ax.plot(x, y, color=\"white\")\n",
    "                c = poly.centroid\n",
    "                ax.text(c.x, c.y, area_id, ha=\"center\", va=\"center\", fontsize=10)\n",
    "\n",
    "            # Colorear zonas de riesgo\n",
    "            for area, rv in risky_areas:\n",
    "                poly = specific_areas[area]\n",
    "                x, y = poly.exterior.xy\n",
    "                color = \"purple\" if rv >= risk_threshold else \"pink\"\n",
    "                ax.fill(x, y, alpha=0.5, color=color)\n",
    "\n",
    "        plt.tight_layout()\n",
    "        fig.set_size_inches((10, 12))\n",
    "        # 4) Guardar la figura\n",
    "        out_path = f\"../img/experiment_risk_{risk_frame}.png\"\n",
    "        plt.savefig(out_path, dpi=600)\n",
    "        print(f\"Figura guardada en {out_path}\")"
   ]
  },
  {
   "cell_type": "markdown",
   "id": "a44c05e0",
   "metadata": {
    "collapsed": false,
    "jupyter": {
     "outputs_hidden": false
    },
    "papermill": {
     "duration": null,
     "end_time": null,
     "exception": null,
     "start_time": null,
     "status": "pending"
    },
    "tags": []
   },
   "source": [
    "## Calculate profiles"
   ]
  },
  {
   "cell_type": "markdown",
   "id": "54b6a957",
   "metadata": {
    "collapsed": false,
    "jupyter": {
     "outputs_hidden": false
    },
    "papermill": {
     "duration": null,
     "end_time": null,
     "exception": null,
     "start_time": null,
     "status": "pending"
    },
    "tags": []
   },
   "source": [
    "### Step 1: Compute individual speeds and Voronoi cells for each mode"
   ]
  },
  {
   "cell_type": "code",
   "execution_count": null,
   "id": "9c8a9717",
   "metadata": {
    "collapsed": false,
    "jupyter": {
     "outputs_hidden": false
    },
    "papermill": {
     "duration": null,
     "end_time": null,
     "exception": null,
     "start_time": null,
     "status": "pending"
    },
    "tags": []
   },
   "outputs": [],
   "source": [
    "individual_speed_per_mode = dict()\n",
    "individual_voronoi_cells_per_mode = dict()\n",
    "\n",
    "# Loop over each mode in the list of modes\n",
    "for mode in modes:\n",
    "    # Compute individual speed for the current mode\n",
    "    individual_speed = pedpy.compute_individual_speed(\n",
    "        traj_data=agent_trajectories[mode],\n",
    "        frame_step=5,\n",
    "        speed_calculation=pedpy.SpeedCalculation.BORDER_SINGLE_SIDED,\n",
    "    )\n",
    "\n",
    "    # Compute individual Voronoi polygons for the current mode\n",
    "    individual_voronoi_cells = pedpy.compute_individual_voronoi_polygons(\n",
    "        traj_data=agent_trajectories[mode],\n",
    "        walkable_area=walkable_area,\n",
    "        cut_off=pedpy.Cutoff(radius=0.8, quad_segments=3),\n",
    "    )\n",
    "\n",
    "    # Save the computed data into dictionaries keyed by mode\n",
    "    individual_speed_per_mode[mode] = individual_speed\n",
    "    individual_voronoi_cells_per_mode[mode] = individual_voronoi_cells"
   ]
  },
  {
   "cell_type": "markdown",
   "id": "6c720e87",
   "metadata": {
    "collapsed": false,
    "jupyter": {
     "outputs_hidden": false
    },
    "papermill": {
     "duration": null,
     "end_time": null,
     "exception": null,
     "start_time": null,
     "status": "pending"
    },
    "tags": []
   },
   "source": [
    "### Step 2: Compute density and speed profiles for each mode"
   ]
  },
  {
   "cell_type": "code",
   "execution_count": null,
   "id": "7634502c",
   "metadata": {
    "collapsed": false,
    "jupyter": {
     "outputs_hidden": false
    },
    "papermill": {
     "duration": null,
     "end_time": null,
     "exception": null,
     "start_time": null,
     "status": "pending"
    },
    "tags": []
   },
   "outputs": [],
   "source": [
    "# Define the frame range for profile computation\n",
    "min_frame_profiles = 600\n",
    "max_frame_profiles = 700\n",
    "\n",
    "# Initialize dictionaries to store density and speed profiles per mode\n",
    "density_profiles_per_mode = dict()\n",
    "speed_profiles_per_mode = dict()\n",
    "\n",
    "# Loop over each mode to calculate the profiles\n",
    "for mode in modes:\n",
    "    # Filter the Voronoi data for frames within the desired range\n",
    "    voronoi_filtered = individual_voronoi_cells_per_mode[mode][\n",
    "        individual_voronoi_cells_per_mode[mode].frame.between(min_frame_profiles, max_frame_profiles)\n",
    "    ]\n",
    "\n",
    "    # Filter the speed data for frames within the desired range\n",
    "    speed_filtered = individual_speed_per_mode[mode][\n",
    "        individual_speed_per_mode[mode].frame.between(min_frame_profiles, max_frame_profiles)\n",
    "    ]\n",
    "\n",
    "    # Merge the filtered Voronoi and speed data on 'id' and 'frame'\n",
    "    merged_data = pd.merge(\n",
    "        voronoi_filtered,\n",
    "        speed_filtered,\n",
    "        on=[\"id\", \"frame\"],\n",
    "    )\n",
    "\n",
    "    # Compute density and speed profiles using the merged data\n",
    "    density_profiles, speed_profiles = pedpy.compute_profiles(\n",
    "        individual_voronoi_speed_data=merged_data,\n",
    "        walkable_area=walkable_area.polygon,\n",
    "        grid_size=0.25,\n",
    "        speed_method=pedpy.SpeedMethod.ARITHMETIC,\n",
    "    )\n",
    "\n",
    "    # Save the computed profiles in the corresponding dictionaries\n",
    "    density_profiles_per_mode[mode] = density_profiles\n",
    "    speed_profiles_per_mode[mode] = speed_profiles"
   ]
  },
  {
   "cell_type": "markdown",
   "id": "75b4c06c",
   "metadata": {
    "collapsed": false,
    "jupyter": {
     "outputs_hidden": false
    },
    "papermill": {
     "duration": null,
     "end_time": null,
     "exception": null,
     "start_time": null,
     "status": "pending"
    },
    "tags": []
   },
   "source": [
    "### Step 3: Plot profiles with one row per mode and two columns per row\n",
    "<div style=\"margin-left: 60px;\"><h4>(first column: density, second column: speed)</h4></div>\n"
   ]
  },
  {
   "cell_type": "code",
   "execution_count": null,
   "id": "2cb8af8f",
   "metadata": {
    "collapsed": false,
    "jupyter": {
     "outputs_hidden": false
    },
    "papermill": {
     "duration": null,
     "end_time": null,
     "exception": null,
     "start_time": null,
     "status": "pending"
    },
    "tags": []
   },
   "outputs": [],
   "source": [
    "num_modes = len(modes)\n",
    "fig, axes = plt.subplots(nrows=num_modes, ncols=2, figsize=(12, 4 * num_modes))\n",
    "\n",
    "for idx, mode in enumerate(modes):\n",
    "    # Seleccionamos el eje para densidad (columna 0) y para velocidad (columna 1)\n",
    "    ax_density = axes[idx, 0]\n",
    "    ax_speed = axes[idx, 1]\n",
    "\n",
    "    pedpy.plot_profiles(\n",
    "        walkable_area=walkable_area,\n",
    "        profiles=density_profiles_per_mode[mode],\n",
    "        axes=ax_density,\n",
    "        label=\"$\\\\rho$ / 1/$m^2$\",\n",
    "        vmin=0,\n",
    "        vmax=10,\n",
    "        title=f\"Density - {modes_names[mode]}\",\n",
    "    )\n",
    "\n",
    "    pedpy.plot_profiles(\n",
    "        walkable_area=walkable_area,\n",
    "        profiles=speed_profiles_per_mode[mode],\n",
    "        axes=ax_speed,\n",
    "        label=\"v / m/s\",\n",
    "        vmin=0,\n",
    "        vmax=2,\n",
    "        title=f\"Speed - {modes_names[mode]}\",\n",
    "    )\n",
    "\n",
    "fig.tight_layout(pad=2)\n",
    "plt.show()"
   ]
  },
  {
   "cell_type": "markdown",
   "id": "a9729301",
   "metadata": {
    "collapsed": false,
    "jupyter": {
     "outputs_hidden": false
    },
    "papermill": {
     "duration": null,
     "end_time": null,
     "exception": null,
     "start_time": null,
     "status": "pending"
    },
    "tags": []
   },
   "source": [
    "## Evacuation Times vs Mode"
   ]
  },
  {
   "cell_type": "code",
   "execution_count": null,
   "id": "29bb13d7",
   "metadata": {
    "collapsed": false,
    "jupyter": {
     "outputs_hidden": false
    },
    "papermill": {
     "duration": null,
     "end_time": null,
     "exception": null,
     "start_time": null,
     "status": "pending"
    },
    "tags": []
   },
   "outputs": [],
   "source": [
    "evac_times = []\n",
    "for mode, traj in agent_trajectories.items():\n",
    "    t_evac = traj.data[\"frame\"].max() / traj.frame_rate # time equals frame / frame rate\n",
    "    evac_times.append(t_evac)\n",
    "\n",
    "for mode in modes:\n",
    "    print(f\"Mode: {modes_names[mode]}, time: {evac_times[mode]:2f}\")\n",
    "\n",
    "fig = go.Figure()\n",
    "\n",
    "fig.add_trace(\n",
    "    go.Scatter(\n",
    "        x=list(modes_names),\n",
    "        y=evac_times,\n",
    "        marker=dict(size=10),\n",
    "        mode=\"lines+markers\",\n",
    "        name=\"Evacuation Times\",\n",
    "    )\n",
    ")\n",
    "\n",
    "fig.update_layout(\n",
    "    title=\"Evacuation Times vs. Modes\",\n",
    "    xaxis_title=\"Mode\",\n",
    "    yaxis_title=\"Evacuation Time (s)\",\n",
    ")\n",
    "\n",
    "fig.show()"
   ]
  },
  {
   "cell_type": "markdown",
   "id": "47cc98d1",
   "metadata": {
    "collapsed": false,
    "jupyter": {
     "outputs_hidden": false
    },
    "papermill": {
     "duration": null,
     "end_time": null,
     "exception": null,
     "start_time": null,
     "status": "pending"
    },
    "tags": []
   },
   "source": [
    "## Average agent in group time"
   ]
  },
  {
   "cell_type": "code",
   "execution_count": null,
   "id": "86ca1ea2",
   "metadata": {
    "collapsed": false,
    "jupyter": {
     "outputs_hidden": false
    },
    "papermill": {
     "duration": null,
     "end_time": null,
     "exception": null,
     "start_time": null,
     "status": "pending"
    },
    "tags": []
   },
   "outputs": [],
   "source": [
    "# Define the plotting colors in the same order as 'sources'\n",
    "colors = [\"red\", \"blue\", \"green\"]\n",
    "\n",
    "# Collect average evacuation times per group and mode, including the color\n",
    "records = []\n",
    "for mode, traj_obj in agent_trajectories.items():\n",
    "    df = traj_obj.data\n",
    "    fr = traj_obj.frame_rate\n",
    "    for ig, source in enumerate(sources):\n",
    "        group_ids = agent_groups_per_mode[mode][source].agents\n",
    "        # Compute each agent's evacuation time = max frame / frame_rate\n",
    "        per_agent_times = (\n",
    "            df[df[\"id\"].isin(group_ids)]\n",
    "            .groupby(\"id\")[\"frame\"]\n",
    "            .max()\n",
    "            / fr\n",
    "        )\n",
    "        mean_time = per_agent_times.mean()\n",
    "        records.append({\n",
    "            \"Mode\": modes_names[mode],\n",
    "            \"Source (Group)\": source,\n",
    "            \"Color\": colors[ig],\n",
    "            \"Average Evacuation Time (s)\": mean_time\n",
    "        })\n",
    "\n",
    "# Create DataFrame and print it\n",
    "df_avg_times = pd.DataFrame(records)\n",
    "print(df_avg_times.to_string(index=False))\n"
   ]
  },
  {
   "cell_type": "markdown",
   "id": "c21213ff",
   "metadata": {
    "collapsed": false,
    "jupyter": {
     "outputs_hidden": false
    },
    "papermill": {
     "duration": null,
     "end_time": null,
     "exception": null,
     "start_time": null,
     "status": "pending"
    },
    "tags": []
   },
   "source": [
    "## Risk vs Mode"
   ]
  },
  {
   "cell_type": "code",
   "execution_count": null,
   "id": "c771bee3",
   "metadata": {
    "collapsed": false,
    "jupyter": {
     "outputs_hidden": false
    },
    "papermill": {
     "duration": null,
     "end_time": null,
     "exception": null,
     "start_time": null,
     "status": "pending"
    },
    "tags": []
   },
   "outputs": [],
   "source": [
    "avg_risk = {}\n",
    "\n",
    "for mode in modes:\n",
    "    try:\n",
    "        with sqlite3.connect(agent_area_files[mode]) as agent_area_connection:\n",
    "            avg_risk[mode] = get_average_risk(agent_area_connection)\n",
    "    except Exception as e:\n",
    "        print(f\"Error processing mode {mode}: {e}\")\n",
    "\n",
    "\n",
    "for mode in modes:\n",
    "    print(f\"Mode: {modes_names[mode]}, average risk: {avg_risk[mode]:.1f}\")\n",
    "\n",
    "fig = go.Figure()\n",
    "\n",
    "fig.add_trace(\n",
    "    go.Bar(\n",
    "        x=list(modes_names),\n",
    "        y=list(avg_risk.values()),\n",
    "        name=\"Average Risks\"\n",
    "    )\n",
    ")\n",
    "\n",
    "fig.update_layout(\n",
    "    title=\"Average Risks vs. Modes\",\n",
    "    xaxis_title=\"Mode\",\n",
    "    yaxis_title=\"Risks\"\n",
    ")\n",
    "\n",
    "fig.show()"
   ]
  },
  {
   "cell_type": "code",
   "execution_count": null,
   "id": "f668a4c3",
   "metadata": {
    "collapsed": false,
    "jupyter": {
     "outputs_hidden": false
    },
    "papermill": {
     "duration": null,
     "end_time": null,
     "exception": null,
     "start_time": null,
     "status": "pending"
    },
    "tags": []
   },
   "outputs": [],
   "source": [
    "risk_sum = {}\n",
    "\n",
    "for mode in modes:\n",
    "    try:\n",
    "        with sqlite3.connect(agent_area_files[mode]) as agent_area_connection:\n",
    "            risk_sum[mode] = calculate_average_agent_combined_risk(agent_area_connection)\n",
    "    except Exception as e:\n",
    "        print(f\"Error processing mode {mode}: {e}\")\n",
    "\n",
    "\n",
    "for mode in modes:\n",
    "    print(f\"Mode: {modes_names[mode]}, total risk: {risk_sum[mode]:.1f}\")\n",
    "\n",
    "fig = go.Figure()\n",
    "\n",
    "fig.add_trace(\n",
    "    go.Bar(\n",
    "        x=list(modes_names),\n",
    "        y=list(risk_sum.values()),\n",
    "        name=\"Total Risks\"\n",
    "    )\n",
    ")\n",
    "\n",
    "fig.update_layout(\n",
    "    title=\"Total Risks vs. Modes\",\n",
    "    xaxis_title=\"Mode\",\n",
    "    yaxis_title=\"Risks\"\n",
    ")\n",
    "\n",
    "fig.show()"
   ]
  },
  {
   "cell_type": "code",
   "execution_count": null,
   "id": "607e3607",
   "metadata": {
    "collapsed": false,
    "jupyter": {
     "outputs_hidden": false
    },
    "papermill": {
     "duration": null,
     "end_time": null,
     "exception": null,
     "start_time": null,
     "status": "pending"
    },
    "tags": []
   },
   "outputs": [],
   "source": [
    "highest_risk = {}\n",
    "\n",
    "for mode in modes:\n",
    "    try:\n",
    "        with sqlite3.connect(agent_area_files[mode]) as agent_area_connection:\n",
    "            highest_risk[mode] = get_max_risk(agent_area_connection)\n",
    "    except Exception as e:\n",
    "        print(f\"Error processing mode {mode}: {e}\")\n",
    "\n",
    "\n",
    "for mode in modes:\n",
    "    print(f\"Mode: {modes_names[mode]}, highest risk: {highest_risk[mode]:.1f}\")\n",
    "\n",
    "fig = go.Figure()\n",
    "\n",
    "fig.add_trace(\n",
    "    go.Bar(\n",
    "        x=list(modes_names),\n",
    "        y=list(highest_risk.values()),\n",
    "        name=\"Highest Risks\"\n",
    "    )\n",
    ")\n",
    "\n",
    "fig.update_layout(\n",
    "    title=\"Highest Risks vs. Modes\",\n",
    "    xaxis_title=\"Mode\",\n",
    "    yaxis_title=\"Risks\"\n",
    ")\n",
    "\n",
    "fig.show()"
   ]
  },
  {
   "cell_type": "code",
   "execution_count": null,
   "id": "91170664",
   "metadata": {
    "collapsed": false,
    "jupyter": {
     "outputs_hidden": false
    },
    "papermill": {
     "duration": null,
     "end_time": null,
     "exception": null,
     "start_time": null,
     "status": "pending"
    },
    "tags": []
   },
   "outputs": [],
   "source": [
    "records = []\n",
    "\n",
    "for mode in modes:\n",
    "    # 1) Leer agent_area_data\n",
    "    with sqlite3.connect(agent_area_files[mode]) as conn:\n",
    "        df_aa = read_agent_area_data(conn)  # frame, agent_id, area, risk\n",
    "\n",
    "    fr = agent_trajectories[mode].frame_rate\n",
    "\n",
    "    # 2) Trajectory frames reales por agente\n",
    "    traj_df = agent_trajectories[mode].data[['id', 'frame']]\n",
    "    last_frames = traj_df.groupby('id')['frame'].max().to_dict()\n",
    "\n",
    "    for source, group_obj in agent_groups_per_mode[mode].items():\n",
    "        agents = group_obj.agents\n",
    "\n",
    "        # 3) Construir timeline completo de cada agente\n",
    "        full = traj_df[traj_df['id'].isin(agents)].copy()\n",
    "\n",
    "        # 4) Mezclar con riesgo (puede haber NaN)\n",
    "        full = full.merge(\n",
    "            df_aa[['frame', 'agent_id', 'risk']],\n",
    "            left_on=['id', 'frame'],\n",
    "            right_on=['agent_id', 'frame'],\n",
    "            how='left'\n",
    "        ).drop(columns='agent_id')\n",
    "\n",
    "        # 5) Rellenar el riesgo correctamente: backfill antes de ffill usando transform\n",
    "        full.sort_values(['id', 'frame'], inplace=True)\n",
    "        full['risk'] = (\n",
    "            full\n",
    "            .groupby('id')['risk']\n",
    "            .transform(lambda s: s.bfill().ffill())\n",
    "        )\n",
    "\n",
    "        # 6) Detectar cambios de segmento de riesgo\n",
    "        full['prev_risk'] = full.groupby('id')['risk'].shift()\n",
    "        full['new_seg']   = (full['risk'] != full['prev_risk']).astype(int)\n",
    "        full['seg_id']    = full.groupby('id')['new_seg'].cumsum()\n",
    "\n",
    "        # 7) Último segmento por agente\n",
    "        last_segs = full.groupby('id')['seg_id'].max().to_dict()\n",
    "\n",
    "        # 8) Para cada segmento, calcular duración\n",
    "        for (agent, seg), df_seg in full.groupby(['id', 'seg_id']):\n",
    "            start = df_seg['frame'].iloc[0]\n",
    "\n",
    "            if seg == last_segs[agent]:\n",
    "                # último segmento: hasta el último frame real\n",
    "                end = last_frames[agent]\n",
    "            else:\n",
    "                # no es último: inicio del siguiente segmento − 1\n",
    "                next_start = full[\n",
    "                    (full['id'] == agent) &\n",
    "                    (full['seg_id'] == seg + 1)\n",
    "                ]['frame'].iloc[0]\n",
    "                end = next_start\n",
    "\n",
    "            duration_s = (end - start) / fr\n",
    "\n",
    "            records.append({\n",
    "                'Mode':       modes_names[mode],\n",
    "                'Group':      source,\n",
    "                'Agent ID':   agent,\n",
    "                'Risk Level': df_seg['risk'].iloc[0],\n",
    "                'Time (s)':   duration_s\n",
    "            })\n",
    "\n",
    "# 9) Montar DataFrame de intervalos y sumar por agente y nivel de riesgo\n",
    "df_intervals = pd.DataFrame(records)\n",
    "df_totals = (\n",
    "    df_intervals\n",
    "    .groupby(['Mode','Group','Agent ID','Risk Level'], as_index=False)['Time (s)']\n",
    "    .sum()\n",
    ")\n",
    "df_totals = df_totals[df_totals['Time (s)'] > 0].sort_values(['Agent ID','Risk Level'])\n",
    "print(\"Time per Risk Level per Agent:\")\n",
    "print(df_totals.to_string(index=False))\n",
    "\n",
    "# 10) Suma total de tiempo por agente\n",
    "df_agent_sum = (\n",
    "    df_totals\n",
    "    .groupby(['Mode','Group','Agent ID'], as_index=False)['Time (s)']\n",
    "    .sum()\n",
    "    .rename(columns={'Time (s)': 'Total Time (s)'})\n",
    ")\n",
    "print(\"\\nTotal Evacuation Time per Agent:\")\n",
    "print(df_agent_sum.to_string(index=False))\n",
    "\n",
    "# 11) Estadística de tiempo máximo por modo\n",
    "df_mode_stats = (\n",
    "    df_agent_sum\n",
    "    .groupby('Mode', as_index=False)['Total Time (s)']\n",
    "    .max()\n",
    "    .rename(columns={'Total Time (s)': 'Maximum_Time'})\n",
    ")\n",
    "print(\"\\nMode Statistics (Min/Max):\")\n",
    "print(df_mode_stats.to_string(index=False))\n"
   ]
  },
  {
   "cell_type": "code",
   "execution_count": null,
   "id": "06f1d137",
   "metadata": {
    "collapsed": false,
    "jupyter": {
     "outputs_hidden": false
    },
    "papermill": {
     "duration": null,
     "end_time": null,
     "exception": null,
     "start_time": null,
     "status": "pending"
    },
    "tags": []
   },
   "outputs": [],
   "source": [
    "conn = sqlite3.connect(group_path_file)\n",
    "df = pd.read_sql_query(\"SELECT * FROM group_path_data\", conn)\n",
    "\n",
    "df['next_path'] = df['next_path'].apply(json.loads)\n",
    "df['path_length'] = df['next_path'].apply(len)\n",
    "\n",
    "df_display = df[[\n",
    "    'frame', 'group_id', 'algorithm', 'awareness',\n",
    "    'current_area', 'path_length',\n",
    "    'est_risk_mean', 'est_risk_max', 'est_risk_var',\n",
    "    'risk_now'\n",
    "]]\n",
    "\n",
    "print(\"=== Group Path Data (primeras 20 filas) ===\")\n",
    "print(df_display.head(20).to_string(index=False))\n",
    "\n",
    "summary = (\n",
    "    df\n",
    "    .groupby(['algorithm', 'awareness'])\n",
    "    .agg(\n",
    "        n_records=('frame', 'size'),\n",
    "        mean_risk_mean=('est_risk_mean', 'mean'),\n",
    "        max_risk_max=('est_risk_max', 'max'),\n",
    "        mean_risk_var=('est_risk_var', 'mean'),\n",
    "        avg_path_length=('path_length', 'mean')\n",
    "    )\n",
    "    .reset_index()\n",
    ")\n",
    "\n",
    "print(\"\\n=== Resumen de estadísticas por algoritmo × awareness ===\")\n",
    "print(summary.to_string(index=False))\n",
    "\n",
    "for (alg, aware), group_df in df.groupby(['algorithm', 'awareness']):\n",
    "    plt.figure(figsize=(6,4))\n",
    "    plt.plot(group_df['frame'], group_df['est_risk_mean'], marker='o')\n",
    "    plt.title(f\"Mean Estimated Risk over Time\\n\"\n",
    "              f\"Alg: {alg.capitalize()}  |  Awareness: {aware.capitalize()}\")\n",
    "    plt.xlabel(\"Frame\")\n",
    "    plt.ylabel(\"Mean Risk\")\n",
    "    plt.grid(True)\n",
    "    plt.tight_layout()\n",
    "    plt.show()\n"
   ]
  },
  {
   "cell_type": "code",
   "execution_count": null,
   "id": "640bfdab",
   "metadata": {
    "collapsed": false,
    "jupyter": {
     "outputs_hidden": false
    },
    "papermill": {
     "duration": null,
     "end_time": null,
     "exception": null,
     "start_time": null,
     "status": "pending"
    },
    "tags": []
   },
   "outputs": [],
   "source": []
  }
 ],
 "metadata": {
  "kernelspec": {
   "display_name": "Python 3 (ipykernel)",
   "language": "python",
   "name": "python3"
  },
  "language_info": {
   "codemirror_mode": {
    "name": "ipython",
    "version": 3
   },
   "file_extension": ".py",
   "mimetype": "text/x-python",
   "name": "python",
   "nbconvert_exporter": "python",
   "pygments_lexer": "ipython3",
   "version": "3.11.8"
  },
  "papermill": {
   "default_parameters": {},
   "duration": 8.924254,
   "end_time": "2025-06-29T16:45:05.483663",
   "environment_variables": {},
   "exception": true,
   "input_path": "./main.ipynb",
   "output_path": "./outputs\\run_0.ipynb",
   "parameters": {
    "simulation_seed": 111539741,
    "starting_risks": [],
    "use_random_risk_layout": true
   },
   "start_time": "2025-06-29T16:44:56.559409",
   "version": "2.6.0"
  }
 },
 "nbformat": 4,
 "nbformat_minor": 5
}