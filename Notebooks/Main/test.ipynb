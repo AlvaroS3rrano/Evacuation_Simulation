{
 "cells": [
  {
   "cell_type": "code",
   "execution_count": null,
   "metadata": {
    "collapsed": true
   },
   "outputs": [],
   "source": [
    "import time\n",
    "\n",
    "# Iniciar el temporizador\n",
    "start_time = time.time()\n",
    "# Asumiendo que Environment_name y targets están definidos correctamente\n",
    "# Asegúrate de que `Environment_name` esté definido\n",
    "database_path = f'../../sqlite_data/{Environment_name}_graph_paths.db'\n",
    "\n",
    "# Crear la tabla de caminos\n",
    "with sqlite3.connect(database_path) as connection:\n",
    "    create_paths_table(connection)\n",
    "\n",
    "    # Recolectar los caminos y sus costos\n",
    "    paths_to_insert = []\n",
    "    for target in targets:\n",
    "        for path in nx.all_simple_paths(G, source=sources[0], target=target):\n",
    "            path_cost = sum(G[u][v][\"cost\"] for u, v in zip(path, path[1:]))\n",
    "            paths_to_insert.append((sources[0], target, path_cost, path))\n",
    "\n",
    "    # Insertar los caminos por lotes para mejorar el rendimiento\n",
    "    with connection:\n",
    "        connection.executemany(\n",
    "            \"INSERT OR REPLACE INTO paths (source, target, cost, path) VALUES (?, ?, ?, ?)\",\n",
    "            paths_to_insert\n",
    "        )\n",
    "end_time = time.time()\n",
    "\n",
    "# Calcular el tiempo transcurrido\n",
    "elapsed_time = end_time - start_time\n",
    "\n",
    "# Mostrar el tiempo que ha tardado\n",
    "print(f\"Tiempo de ejecución: {elapsed_time} segundos\")"
   ]
  },
  {
   "cell_type": "code",
   "execution_count": null,
   "outputs": [],
   "source": [
    "shortest_path = nx.dijkstra_path(G, sources[0], target, weight='cost')\n",
    "shortest_path_cost = nx.dijkstra_path_length(G, sources[0], target, weight='cost')\n",
    "\n",
    "# Establecer el factor gamma\n",
    "gamma = 1.5\n",
    "\n",
    "# Calcular el límite de costo\n",
    "cost_limit = shortest_path_cost * gamma\n",
    "\n",
    "# Función para realizar DFS con poda por costo máximo\n",
    "def dfs_with_pruning(G, source, target, path, cost, cost_limit):\n",
    "    path.append(source)\n",
    "    if source == target:\n",
    "        yield path[:]\n",
    "    else:\n",
    "        for neighbor in G.neighbors(source):\n",
    "            edge_cost = G[source][neighbor].get('cost', 1)\n",
    "            new_cost = cost + edge_cost\n",
    "            if new_cost <= cost_limit:\n",
    "                yield from dfs_with_pruning(G, neighbor, target, path, new_cost, cost_limit)\n",
    "    path.pop()\n",
    "\n",
    "# Función para obtener los k caminos más cortos dentro del límite de costo\n",
    "def k_shortest_paths_within_cost_limit(G, source, target, k, cost_limit):\n",
    "    paths = []\n",
    "    for path in dfs_with_pruning(G, source, target, [], 0, cost_limit):\n",
    "        paths.append(path)\n",
    "        if len(paths) >= k:\n",
    "            break\n",
    "    return paths\n",
    "\n",
    "# Obtener los k caminos más cortos dentro del límite de costo\n",
    "k = 3\n",
    "paths = k_shortest_paths_within_cost_limit(G, sources[0], target, k, cost_limit)\n",
    "\n",
    "# Mostrar los caminos y sus costos\n",
    "for path in paths:\n",
    "    path_cost = sum(G[u][v].get('cost', 1) for u, v in zip(path[:-1], path[1:]))\n",
    "    print(f\"Camino: {path}, Costo: {path_cost}\")"
   ],
   "metadata": {
    "collapsed": false
   }
  }
 ],
 "metadata": {
  "kernelspec": {
   "display_name": "Python 3",
   "language": "python",
   "name": "python3"
  },
  "language_info": {
   "codemirror_mode": {
    "name": "ipython",
    "version": 2
   },
   "file_extension": ".py",
   "mimetype": "text/x-python",
   "name": "python",
   "nbconvert_exporter": "python",
   "pygments_lexer": "ipython2",
   "version": "2.7.6"
  }
 },
 "nbformat": 4,
 "nbformat_minor": 0
}
